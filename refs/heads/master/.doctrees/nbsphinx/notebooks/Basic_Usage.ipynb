{
 "cells": [
  {
   "cell_type": "raw",
   "id": "brutal-hartford",
   "metadata": {},
   "source": [
    "<a href=\"https://colab.research.google.com/github/adriangb/scikeras/blob/docs-deploy/refs/heads/master/notebooks/Basic_Usage.ipynb\"><img src=\"https://www.tensorflow.org/images/colab_logo_32px.png\">Run in Google Colab</a>"
   ]
  },
  {
   "cell_type": "markdown",
   "id": "common-scholarship",
   "metadata": {},
   "source": [
    "# Basic usage\n",
    "\n",
    "`SciKeras` is designed to maximize interoperability between `sklearn` and `Keras/TensorFlow`. The aim is to keep 99% of the flexibility of `Keras` while being able to leverage most features of `sklearn`. Below, we show the basic usage of `SciKeras` and how it can be combined with `sklearn`.\n",
    "\n",
    "This notebook shows you how to use the basic functionality of `SciKeras`.\n",
    "\n",
    "## Table of contents\n",
    "\n",
    "* [1. Setup](#1.-Setup)\n",
    "* [2. Training a classifier and making predictions](#2.-Training-a-classifier-and-making-predictions)\n",
    "  * [2.1 A toy binary classification task](#2.1-A-toy-binary-classification-task)\n",
    "  * [2.2 Definition of the Keras classification Model](#2.2-Definition-of-the-Keras-classification-Model)\n",
    "  * [2.3 Defining and training the neural net classifier](#2.3-Defining-and-training-the-neural-net-classifier)\n",
    "  * [2.4 Making predictions, classification](#2.4-Making-predictions-classification)\n",
    "* [3 Training a regressor](#3.-Training-a-regressor)\n",
    "  * [3.1 A toy regression task](#3.1-A-toy-regression-task)\n",
    "  * [3.2 Definition of the Keras regression Model](#3.2-Definition-of-the-Keras-regression-Model)\n",
    "  * [3.3 Defining and training the neural net regressor](#3.3-Defining-and-training-the-neural-net-regressor)\n",
    "  * [3.4 Making predictions, regression](#3.4-Making-predictions-regression)\n",
    "* [4. Saving and loading a model](#4.-Saving-and-loading-a-model)\n",
    "  * [4.1 Saving the whole model](#4.1-Saving-the-whole-model)\n",
    "  * [4.2 Saving using Keras' saving methods](#4.2-Saving-using-Keras-saving-methods)\n",
    "* [5. Usage with an sklearn Pipeline](#5.-Usage-with-an-sklearn-Pipeline)\n",
    "* [6. Callbacks](#6.-Callbacks)\n",
    "* [7. Usage with sklearn GridSearchCV](#7.-Usage-with-sklearn-GridSearchCV)\n",
    "  * [7.1 Special prefixes](#7.1-Special-prefixes)\n",
    "  * [7.2 Performing a grid search](#7.2-Performing-a-grid-search)\n",
    "\n",
    "## 1. Setup"
   ]
  },
  {
   "cell_type": "code",
   "execution_count": 1,
   "id": "interior-porcelain",
   "metadata": {
    "execution": {
     "iopub.execute_input": "2021-01-28T18:56:13.154611Z",
     "iopub.status.busy": "2021-01-28T18:56:13.154008Z",
     "iopub.status.idle": "2021-01-28T18:56:18.575181Z",
     "shell.execute_reply": "2021-01-28T18:56:18.577395Z"
    }
   },
   "outputs": [],
   "source": [
    "try:\n",
    "    import scikeras\n",
    "except ImportError:\n",
    "    !python -m pip install scikeras"
   ]
  },
  {
   "cell_type": "markdown",
   "id": "dynamic-adult",
   "metadata": {},
   "source": [
    "Silence TensorFlow logging to keep output succinct."
   ]
  },
  {
   "cell_type": "code",
   "execution_count": 2,
   "id": "complicated-holly",
   "metadata": {
    "execution": {
     "iopub.execute_input": "2021-01-28T18:56:18.581969Z",
     "iopub.status.busy": "2021-01-28T18:56:18.579803Z",
     "iopub.status.idle": "2021-01-28T18:56:18.586283Z",
     "shell.execute_reply": "2021-01-28T18:56:18.586732Z"
    }
   },
   "outputs": [],
   "source": [
    "import warnings\n",
    "from tensorflow import get_logger\n",
    "get_logger().setLevel('ERROR')\n",
    "warnings.filterwarnings(\"ignore\", message=\"Setting the random state for TF\")"
   ]
  },
  {
   "cell_type": "code",
   "execution_count": 3,
   "id": "recovered-mobility",
   "metadata": {
    "execution": {
     "iopub.execute_input": "2021-01-28T18:56:18.590534Z",
     "iopub.status.busy": "2021-01-28T18:56:18.589997Z",
     "iopub.status.idle": "2021-01-28T18:56:19.024632Z",
     "shell.execute_reply": "2021-01-28T18:56:19.025105Z"
    }
   },
   "outputs": [],
   "source": [
    "import numpy as np\n",
    "from scikeras.wrappers import KerasClassifier, KerasRegressor\n",
    "from tensorflow import keras"
   ]
  },
  {
   "cell_type": "markdown",
   "id": "revolutionary-daniel",
   "metadata": {},
   "source": [
    "## 2. Training a classifier and making predictions\n",
    "\n",
    "### 2.1 A toy binary classification task\n",
    "\n",
    "We load a toy classification task from `sklearn`."
   ]
  },
  {
   "cell_type": "code",
   "execution_count": 4,
   "id": "satellite-dance",
   "metadata": {
    "execution": {
     "iopub.execute_input": "2021-01-28T18:56:19.027714Z",
     "iopub.status.busy": "2021-01-28T18:56:19.027159Z",
     "iopub.status.idle": "2021-01-28T18:56:19.058216Z",
     "shell.execute_reply": "2021-01-28T18:56:19.059065Z"
    }
   },
   "outputs": [],
   "source": [
    "import numpy as np\n",
    "from sklearn.datasets import make_classification"
   ]
  },
  {
   "cell_type": "code",
   "execution_count": 5,
   "id": "painted-budapest",
   "metadata": {
    "execution": {
     "iopub.execute_input": "2021-01-28T18:56:19.062474Z",
     "iopub.status.busy": "2021-01-28T18:56:19.061444Z",
     "iopub.status.idle": "2021-01-28T18:56:19.072336Z",
     "shell.execute_reply": "2021-01-28T18:56:19.073029Z"
    }
   },
   "outputs": [],
   "source": [
    "X, y = make_classification(1000, 20, n_informative=10, random_state=0)"
   ]
  },
  {
   "cell_type": "code",
   "execution_count": 6,
   "id": "outside-rates",
   "metadata": {
    "execution": {
     "iopub.execute_input": "2021-01-28T18:56:19.075925Z",
     "iopub.status.busy": "2021-01-28T18:56:19.075171Z",
     "iopub.status.idle": "2021-01-28T18:56:19.085615Z",
     "shell.execute_reply": "2021-01-28T18:56:19.086029Z"
    }
   },
   "outputs": [
    {
     "data": {
      "text/plain": [
       "((1000, 20), (1000,), 0.5)"
      ]
     },
     "execution_count": 1,
     "metadata": {},
     "output_type": "execute_result"
    }
   ],
   "source": [
    "X.shape, y.shape, y.mean()"
   ]
  },
  {
   "cell_type": "markdown",
   "id": "random-princess",
   "metadata": {},
   "source": [
    "### 2.2 Definition of the Keras classification Model\n",
    "\n",
    "We define a vanilla neural network with.\n",
    "\n",
    "Because we are dealing with 2 classes, the output layer can be constructed in\n",
    "two different ways:\n",
    "\n",
    "1. Single unit with a `\"sigmoid\"` nonlinearity. The loss must be `\"binary_crossentropy\"`.\n",
    "2. Two units (one for each class) and a `\"softmax\"` nonlinearity. The loss must be `\"sparse_categorical_crossentropy\"`.\n",
    "\n",
    "In this example, we choose the first option, which is what you would usually\n",
    "do for binary classification. The second option is usually reserved for when\n",
    "you have >2 classes."
   ]
  },
  {
   "cell_type": "code",
   "execution_count": 7,
   "id": "appropriate-building",
   "metadata": {
    "execution": {
     "iopub.execute_input": "2021-01-28T18:56:19.088531Z",
     "iopub.status.busy": "2021-01-28T18:56:19.088003Z",
     "iopub.status.idle": "2021-01-28T18:56:19.090606Z",
     "shell.execute_reply": "2021-01-28T18:56:19.091074Z"
    }
   },
   "outputs": [],
   "source": [
    "from tensorflow import keras"
   ]
  },
  {
   "cell_type": "code",
   "execution_count": 8,
   "id": "global-aluminum",
   "metadata": {
    "execution": {
     "iopub.execute_input": "2021-01-28T18:56:19.096933Z",
     "iopub.status.busy": "2021-01-28T18:56:19.096388Z",
     "iopub.status.idle": "2021-01-28T18:56:19.100109Z",
     "shell.execute_reply": "2021-01-28T18:56:19.099509Z"
    }
   },
   "outputs": [],
   "source": [
    "def get_clf(meta, hidden_layer_sizes, dropout):\n",
    "    n_features_in_ = meta[\"n_features_in_\"]\n",
    "    n_classes_ = meta[\"n_classes_\"]\n",
    "    model = keras.models.Sequential()\n",
    "    model.add(keras.layers.Input(shape=(n_features_in_,)))\n",
    "    for hidden_layer_size in hidden_layer_sizes:\n",
    "        model.add(keras.layers.Dense(hidden_layer_size, activation=\"relu\"))\n",
    "        model.add(keras.layers.Dropout(dropout))\n",
    "    model.add(keras.layers.Dense(1, activation=\"sigmoid\"))\n",
    "    return model"
   ]
  },
  {
   "cell_type": "markdown",
   "id": "anticipated-settle",
   "metadata": {},
   "source": [
    "### 2.3 Defining and training the neural net classifier\n",
    "\n",
    "We use `KerasClassifier` because we're dealing with a classifcation task. The first argument should be a callable returning a `Keras.Model`, in this case, `get_clf`. As additional arguments, we pass the number of loss function (required) and the optimizer, but the later is optional. We must also pass all of the arguments to `get_clf` as keyword arguments to `KerasClassifier` if they don't have a default value in `get_clf`. Note that if you do not pass an argument to `KerasClassifier`, it will not be avilable for hyperparameter tuning. Finally, we also pass `random_state=0` for reproducible results."
   ]
  },
  {
   "cell_type": "code",
   "execution_count": 9,
   "id": "shared-orchestra",
   "metadata": {
    "execution": {
     "iopub.execute_input": "2021-01-28T18:56:19.103921Z",
     "iopub.status.busy": "2021-01-28T18:56:19.103173Z",
     "iopub.status.idle": "2021-01-28T18:56:19.106803Z",
     "shell.execute_reply": "2021-01-28T18:56:19.106360Z"
    }
   },
   "outputs": [],
   "source": [
    "from scikeras.wrappers import KerasClassifier"
   ]
  },
  {
   "cell_type": "code",
   "execution_count": 10,
   "id": "scheduled-finding",
   "metadata": {
    "execution": {
     "iopub.execute_input": "2021-01-28T18:56:19.110859Z",
     "iopub.status.busy": "2021-01-28T18:56:19.110331Z",
     "iopub.status.idle": "2021-01-28T18:56:19.113341Z",
     "shell.execute_reply": "2021-01-28T18:56:19.113756Z"
    }
   },
   "outputs": [],
   "source": [
    "clf = KerasClassifier(\n",
    "    model=get_clf,\n",
    "    loss=\"binary_crossentropy\",\n",
    "    optimizer=\"adam\",\n",
    "    hidden_layer_sizes=(100,),\n",
    "    dropout=0.5,\n",
    ")"
   ]
  },
  {
   "cell_type": "markdown",
   "id": "french-translator",
   "metadata": {},
   "source": [
    "As in `sklearn`, we call `fit` passing the input data `X` and the targets `y`."
   ]
  },
  {
   "cell_type": "code",
   "execution_count": 11,
   "id": "ecological-hudson",
   "metadata": {
    "execution": {
     "iopub.execute_input": "2021-01-28T18:56:19.120629Z",
     "iopub.status.busy": "2021-01-28T18:56:19.120111Z",
     "iopub.status.idle": "2021-01-28T18:56:19.661854Z",
     "shell.execute_reply": "2021-01-28T18:56:19.662593Z"
    }
   },
   "outputs": [
    {
     "name": "stdout",
     "output_type": "stream",
     "text": [
      "\r",
      " 1/32 [..............................] - ETA: 12s - loss: 0.8867"
     ]
    },
    {
     "name": "stdout",
     "output_type": "stream",
     "text": [
      "\b\b\b\b\b\b\b\b\b\b\b\b\b\b\b\b\b\b\b\b\b\b\b\b\b\b\b\b\b\b\b\b\b\b\b\b\b\b\b\b\b\b\b\b\b\b\b\b\b\b\b\b\b\b\b\b\b\b\b\b\b\b\b\b\r",
      "32/32 [==============================] - 0s 1ms/step - loss: 0.8452\n"
     ]
    },
    {
     "data": {
      "text/plain": [
       "KerasClassifier(\n",
       "\tmodel=<function get_clf at 0x7f9b8d8a0310>\n",
       "\tbuild_fn=None\n",
       "\twarm_start=False\n",
       "\trandom_state=None\n",
       "\toptimizer=adam\n",
       "\tloss=binary_crossentropy\n",
       "\tmetrics=None\n",
       "\tbatch_size=None\n",
       "\tverbose=1\n",
       "\tcallbacks=None\n",
       "\tvalidation_split=0.0\n",
       "\tshuffle=True\n",
       "\trun_eagerly=False\n",
       "\tepochs=1\n",
       "\thidden_layer_sizes=(100,)\n",
       "\tdropout=0.5\n",
       "\tclass_weight=None\n",
       ")"
      ]
     },
     "execution_count": 1,
     "metadata": {},
     "output_type": "execute_result"
    }
   ],
   "source": [
    "clf.fit(X, y)"
   ]
  },
  {
   "cell_type": "markdown",
   "id": "insured-reform",
   "metadata": {},
   "source": [
    "Also, as in `sklearn`, you may call `predict` or `predict_proba` on the fitted model.\n",
    "\n",
    "### 2.4 Making predictions, classification"
   ]
  },
  {
   "cell_type": "code",
   "execution_count": 12,
   "id": "atomic-uncle",
   "metadata": {
    "execution": {
     "iopub.execute_input": "2021-01-28T18:56:19.666212Z",
     "iopub.status.busy": "2021-01-28T18:56:19.665159Z",
     "iopub.status.idle": "2021-01-28T18:56:19.760356Z",
     "shell.execute_reply": "2021-01-28T18:56:19.759896Z"
    }
   },
   "outputs": [
    {
     "name": "stdout",
     "output_type": "stream",
     "text": [
      "\r",
      "1/1 [==============================] - ETA: 0s"
     ]
    },
    {
     "name": "stdout",
     "output_type": "stream",
     "text": [
      "\b\b\b\b\b\b\b\b\b\b\b\b\b\b\b\b\b\b\b\b\b\b\b\b\b\b\b\b\b\b\b\b\b\b\b\b\b\b\b\b\b\b\b\b\b\b\r",
      "1/1 [==============================] - 0s 63ms/step\n"
     ]
    },
    {
     "data": {
      "text/plain": [
       "array([0, 0, 0, 0, 0])"
      ]
     },
     "execution_count": 1,
     "metadata": {},
     "output_type": "execute_result"
    }
   ],
   "source": [
    "y_pred = clf.predict(X[:5])\n",
    "y_pred"
   ]
  },
  {
   "cell_type": "code",
   "execution_count": 13,
   "id": "monetary-action",
   "metadata": {
    "execution": {
     "iopub.execute_input": "2021-01-28T18:56:19.771623Z",
     "iopub.status.busy": "2021-01-28T18:56:19.762996Z",
     "iopub.status.idle": "2021-01-28T18:56:19.806882Z",
     "shell.execute_reply": "2021-01-28T18:56:19.806422Z"
    }
   },
   "outputs": [
    {
     "name": "stdout",
     "output_type": "stream",
     "text": [
      "\r",
      "1/1 [==============================] - ETA: 0s"
     ]
    },
    {
     "name": "stdout",
     "output_type": "stream",
     "text": [
      "\b\b\b\b\b\b\b\b\b\b\b\b\b\b\b\b\b\b\b\b\b\b\b\b\b\b\b\b\b\b\b\b\b\b\b\b\b\b\b\b\b\b\b\b\b\b\r",
      "1/1 [==============================] - 0s 14ms/step\n"
     ]
    },
    {
     "data": {
      "text/plain": [
       "array([[0.7246381 , 0.2753619 ],\n",
       "       [0.6051484 , 0.39485162],\n",
       "       [0.86651874, 0.1334813 ],\n",
       "       [0.8410512 , 0.15894875],\n",
       "       [0.76297396, 0.23702604]], dtype=float32)"
      ]
     },
     "execution_count": 1,
     "metadata": {},
     "output_type": "execute_result"
    }
   ],
   "source": [
    "y_proba = clf.predict_proba(X[:5])\n",
    "y_proba"
   ]
  },
  {
   "cell_type": "markdown",
   "id": "august-egypt",
   "metadata": {},
   "source": [
    "## 3 Training a regressor\n",
    "\n",
    "### 3.1 A toy regression task"
   ]
  },
  {
   "cell_type": "code",
   "execution_count": 14,
   "id": "spare-absorption",
   "metadata": {
    "execution": {
     "iopub.execute_input": "2021-01-28T18:56:19.810964Z",
     "iopub.status.busy": "2021-01-28T18:56:19.810444Z",
     "iopub.status.idle": "2021-01-28T18:56:19.813505Z",
     "shell.execute_reply": "2021-01-28T18:56:19.813919Z"
    }
   },
   "outputs": [],
   "source": [
    "from sklearn.datasets import make_regression"
   ]
  },
  {
   "cell_type": "code",
   "execution_count": 15,
   "id": "obvious-shelf",
   "metadata": {
    "execution": {
     "iopub.execute_input": "2021-01-28T18:56:19.817865Z",
     "iopub.status.busy": "2021-01-28T18:56:19.817348Z",
     "iopub.status.idle": "2021-01-28T18:56:19.828708Z",
     "shell.execute_reply": "2021-01-28T18:56:19.829423Z"
    }
   },
   "outputs": [],
   "source": [
    "X_regr, y_regr = make_regression(1000, 20, n_informative=10, random_state=0)"
   ]
  },
  {
   "cell_type": "code",
   "execution_count": 16,
   "id": "parallel-cargo",
   "metadata": {
    "execution": {
     "iopub.execute_input": "2021-01-28T18:56:19.832687Z",
     "iopub.status.busy": "2021-01-28T18:56:19.831651Z",
     "iopub.status.idle": "2021-01-28T18:56:19.838005Z",
     "shell.execute_reply": "2021-01-28T18:56:19.838710Z"
    }
   },
   "outputs": [
    {
     "data": {
      "text/plain": [
       "((1000, 20), (1000,), -649.0148244404172, 615.4505181286091)"
      ]
     },
     "execution_count": 1,
     "metadata": {},
     "output_type": "execute_result"
    }
   ],
   "source": [
    "X_regr.shape, y_regr.shape, y_regr.min(), y_regr.max()"
   ]
  },
  {
   "cell_type": "markdown",
   "id": "single-aquatic",
   "metadata": {},
   "source": [
    "### 3.2 Definition of the Keras regression Model\n",
    "\n",
    "Again, define a vanilla neural network. The main difference is that the output layer always has a single unit and does not apply any nonlinearity."
   ]
  },
  {
   "cell_type": "code",
   "execution_count": 17,
   "id": "amateur-navigation",
   "metadata": {
    "execution": {
     "iopub.execute_input": "2021-01-28T18:56:19.842011Z",
     "iopub.status.busy": "2021-01-28T18:56:19.840987Z",
     "iopub.status.idle": "2021-01-28T18:56:19.851583Z",
     "shell.execute_reply": "2021-01-28T18:56:19.852291Z"
    }
   },
   "outputs": [],
   "source": [
    "def get_reg(meta, hidden_layer_sizes, dropout):\n",
    "    n_features_in_ = meta[\"n_features_in_\"]\n",
    "    model = keras.models.Sequential()\n",
    "    model.add(keras.layers.Input(shape=(n_features_in_,)))\n",
    "    for hidden_layer_size in hidden_layer_sizes:\n",
    "        model.add(keras.layers.Dense(hidden_layer_size, activation=\"relu\"))\n",
    "        model.add(keras.layers.Dropout(dropout))\n",
    "    model.add(keras.layers.Dense(1))\n",
    "    return model"
   ]
  },
  {
   "cell_type": "markdown",
   "id": "frequent-surname",
   "metadata": {},
   "source": [
    "### 3.3 Defining and training the neural net regressor\n",
    "\n",
    "Training a regressor is almost the same as training a classifier. Mainly, we use `KerasRegressor` instead of `KerasClassifier` (this is the same terminology as in `sklearn`). We also change the loss function to `KerasRegressor.r_squared`. SciKeras provides this loss function because most of the `sklearn` ecosystem expects `R^2` as the loss function, but Keras does not have a default implementation."
   ]
  },
  {
   "cell_type": "code",
   "execution_count": 18,
   "id": "clinical-montana",
   "metadata": {
    "execution": {
     "iopub.execute_input": "2021-01-28T18:56:19.855546Z",
     "iopub.status.busy": "2021-01-28T18:56:19.854496Z",
     "iopub.status.idle": "2021-01-28T18:56:19.864709Z",
     "shell.execute_reply": "2021-01-28T18:56:19.865426Z"
    }
   },
   "outputs": [],
   "source": [
    "from scikeras.wrappers import KerasRegressor"
   ]
  },
  {
   "cell_type": "code",
   "execution_count": 19,
   "id": "residential-document",
   "metadata": {
    "execution": {
     "iopub.execute_input": "2021-01-28T18:56:19.868707Z",
     "iopub.status.busy": "2021-01-28T18:56:19.867683Z",
     "iopub.status.idle": "2021-01-28T18:56:19.873166Z",
     "shell.execute_reply": "2021-01-28T18:56:19.872378Z"
    }
   },
   "outputs": [],
   "source": [
    "reg = KerasRegressor(\n",
    "    model=get_reg,\n",
    "    loss=KerasRegressor.r_squared,\n",
    "    optimizer=\"adam\",\n",
    "    hidden_layer_sizes=(100,),\n",
    "    dropout=0.5,\n",
    ")"
   ]
  },
  {
   "cell_type": "code",
   "execution_count": 20,
   "id": "strong-hanging",
   "metadata": {
    "execution": {
     "iopub.execute_input": "2021-01-28T18:56:19.885789Z",
     "iopub.status.busy": "2021-01-28T18:56:19.885258Z",
     "iopub.status.idle": "2021-01-28T18:56:20.375576Z",
     "shell.execute_reply": "2021-01-28T18:56:20.375042Z"
    }
   },
   "outputs": [
    {
     "name": "stdout",
     "output_type": "stream",
     "text": [
      "\r",
      " 1/32 [..............................] - ETA: 11s - loss: -0.0039"
     ]
    },
    {
     "name": "stdout",
     "output_type": "stream",
     "text": [
      "\b\b\b\b\b\b\b\b\b\b\b\b\b\b\b\b\b\b\b\b\b\b\b\b\b\b\b\b\b\b\b\b\b\b\b\b\b\b\b\b\b\b\b\b\b\b\b\b\b\b\b\b\b\b\b\b\b\b\b\b\b\b\b\b\b\r",
      "32/32 [==============================] - 0s 1ms/step - loss: -0.0387\n"
     ]
    },
    {
     "data": {
      "text/plain": [
       "KerasRegressor(\n",
       "\tmodel=<function get_reg at 0x7f9b80849550>\n",
       "\tbuild_fn=None\n",
       "\twarm_start=False\n",
       "\trandom_state=None\n",
       "\toptimizer=adam\n",
       "\tloss=<function KerasRegressor.r_squared at 0x7f9b8e651a60>\n",
       "\tmetrics=None\n",
       "\tbatch_size=None\n",
       "\tverbose=1\n",
       "\tcallbacks=None\n",
       "\tvalidation_split=0.0\n",
       "\tshuffle=True\n",
       "\trun_eagerly=False\n",
       "\tepochs=1\n",
       "\thidden_layer_sizes=(100,)\n",
       "\tdropout=0.5\n",
       ")"
      ]
     },
     "execution_count": 1,
     "metadata": {},
     "output_type": "execute_result"
    }
   ],
   "source": [
    "reg.fit(X_regr, y_regr)"
   ]
  },
  {
   "cell_type": "markdown",
   "id": "ordered-budget",
   "metadata": {},
   "source": [
    "### 3.4 Making predictions, regression\n",
    "\n",
    "You may call `predict` or `predict_proba` on the fitted model. For regressions, both methods return the same value."
   ]
  },
  {
   "cell_type": "code",
   "execution_count": 21,
   "id": "instructional-steps",
   "metadata": {
    "execution": {
     "iopub.execute_input": "2021-01-28T18:56:20.380007Z",
     "iopub.status.busy": "2021-01-28T18:56:20.379471Z",
     "iopub.status.idle": "2021-01-28T18:56:20.440959Z",
     "shell.execute_reply": "2021-01-28T18:56:20.440494Z"
    }
   },
   "outputs": [
    {
     "name": "stdout",
     "output_type": "stream",
     "text": [
      "\r",
      "1/1 [==============================] - ETA: 0s"
     ]
    },
    {
     "name": "stdout",
     "output_type": "stream",
     "text": [
      "\b\b\b\b\b\b\b\b\b\b\b\b\b\b\b\b\b\b\b\b\b\b\b\b\b\b\b\b\b\b\b\b\b\b\b\b\b\b\b\b\b\b\b\b\b\b\r",
      "1/1 [==============================] - 0s 32ms/step\n"
     ]
    },
    {
     "data": {
      "text/plain": [
       "array([-1.3766295 ,  0.13473558, -0.08019499,  0.07474735, -0.23358598],\n",
       "      dtype=float32)"
      ]
     },
     "execution_count": 1,
     "metadata": {},
     "output_type": "execute_result"
    }
   ],
   "source": [
    "y_pred = reg.predict(X_regr[:5])\n",
    "y_pred"
   ]
  },
  {
   "cell_type": "markdown",
   "id": "continuous-ecology",
   "metadata": {},
   "source": [
    "## 4. Saving and loading a model\n",
    "\n",
    "Save and load either the whole model by using pickle, or use Keras' specialized save methods on the `KerasClassifier.model_` or `KerasRegressor.model_` attribute that is created after fitting. You will want to use Keras' model saving utilities if any of the following apply:\n",
    "\n",
    "1. You wish to save only the weights or only the training configuration of your model.\n",
    "2. You wish to share your model with collaborators. Pickle is a relatively unsafe protocol and it is not recommended to share or load pickle objects publically.\n",
    "3. You care about performance, especially if doing in-memory serialization.\n",
    "\n",
    "For more information, see Keras' [saving documentation](https://www.tensorflow.org/guide/keras/save_and_serialize).\n",
    "\n",
    "### 4.1 Saving the whole model"
   ]
  },
  {
   "cell_type": "code",
   "execution_count": 22,
   "id": "pediatric-infection",
   "metadata": {
    "execution": {
     "iopub.execute_input": "2021-01-28T18:56:20.444873Z",
     "iopub.status.busy": "2021-01-28T18:56:20.444364Z",
     "iopub.status.idle": "2021-01-28T18:56:20.447365Z",
     "shell.execute_reply": "2021-01-28T18:56:20.447758Z"
    }
   },
   "outputs": [],
   "source": [
    "import pickle"
   ]
  },
  {
   "cell_type": "code",
   "execution_count": 23,
   "id": "infrared-perth",
   "metadata": {
    "execution": {
     "iopub.execute_input": "2021-01-28T18:56:20.456588Z",
     "iopub.status.busy": "2021-01-28T18:56:20.456070Z",
     "iopub.status.idle": "2021-01-28T18:56:20.932564Z",
     "shell.execute_reply": "2021-01-28T18:56:20.933356Z"
    }
   },
   "outputs": [],
   "source": [
    "bytes_model = pickle.dumps(reg)"
   ]
  },
  {
   "cell_type": "code",
   "execution_count": 24,
   "id": "assured-thanks",
   "metadata": {
    "execution": {
     "iopub.execute_input": "2021-01-28T18:56:20.936800Z",
     "iopub.status.busy": "2021-01-28T18:56:20.935756Z",
     "iopub.status.idle": "2021-01-28T18:56:21.235123Z",
     "shell.execute_reply": "2021-01-28T18:56:21.235915Z"
    }
   },
   "outputs": [
    {
     "data": {
      "text/plain": [
       "KerasRegressor(\n",
       "\tmodel=<function get_reg at 0x7f9b80849550>\n",
       "\tbuild_fn=None\n",
       "\twarm_start=False\n",
       "\trandom_state=None\n",
       "\toptimizer=adam\n",
       "\tloss=<function KerasRegressor.r_squared at 0x7f9b8e651a60>\n",
       "\tmetrics=None\n",
       "\tbatch_size=None\n",
       "\tverbose=1\n",
       "\tcallbacks=None\n",
       "\tvalidation_split=0.0\n",
       "\tshuffle=True\n",
       "\trun_eagerly=False\n",
       "\tepochs=1\n",
       "\thidden_layer_sizes=(100,)\n",
       "\tdropout=0.5\n",
       ")"
      ]
     },
     "execution_count": 1,
     "metadata": {},
     "output_type": "execute_result"
    }
   ],
   "source": [
    "new_reg = pickle.loads(bytes_model)\n",
    "new_reg"
   ]
  },
  {
   "cell_type": "markdown",
   "id": "protected-trance",
   "metadata": {},
   "source": [
    "### 4.2 Saving using Keras' saving methods\n",
    "\n",
    "This efficiently and safely saves the model to disk, including trained weights.\n",
    "You should use this method if you plan on sharing your saved models."
   ]
  },
  {
   "cell_type": "code",
   "execution_count": 25,
   "id": "consolidated-therapist",
   "metadata": {
    "execution": {
     "iopub.execute_input": "2021-01-28T18:56:21.239418Z",
     "iopub.status.busy": "2021-01-28T18:56:21.238363Z",
     "iopub.status.idle": "2021-01-28T18:56:21.693619Z",
     "shell.execute_reply": "2021-01-28T18:56:21.694057Z"
    }
   },
   "outputs": [],
   "source": [
    "# Save to disk\n",
    "reg.model_.save(\"/tmp/my_model\")"
   ]
  },
  {
   "cell_type": "code",
   "execution_count": 26,
   "id": "common-forward",
   "metadata": {
    "execution": {
     "iopub.execute_input": "2021-01-28T18:56:21.699353Z",
     "iopub.status.busy": "2021-01-28T18:56:21.698767Z",
     "iopub.status.idle": "2021-01-28T18:56:22.326669Z",
     "shell.execute_reply": "2021-01-28T18:56:22.326180Z"
    }
   },
   "outputs": [
    {
     "name": "stdout",
     "output_type": "stream",
     "text": [
      "\r",
      " 1/32 [..............................] - ETA: 9s - loss: -0.0182"
     ]
    },
    {
     "name": "stdout",
     "output_type": "stream",
     "text": [
      "\b\b\b\b\b\b\b\b\b\b\b\b\b\b\b\b\b\b\b\b\b\b\b\b\b\b\b\b\b\b\b\b\b\b\b\b\b\b\b\b\b\b\b\b\b\b\b\b\b\b\b\b\b\b\b\b\b\b\b\b\b\b\b\b\r",
      "32/32 [==============================] - 0s 967us/step - loss: -0.0365\n"
     ]
    },
    {
     "name": "stdout",
     "output_type": "stream",
     "text": [
      "\r",
      "1/1 [==============================] - ETA: 0s"
     ]
    },
    {
     "name": "stdout",
     "output_type": "stream",
     "text": [
      "\b\b\b\b\b\b\b\b\b\b\b\b\b\b\b\b\b\b\b\b\b\b\b\b\b\b\b\b\b\b\b\b\b\b\b\b\b\b\b\b\b\b\b\b\b\b\r",
      "1/1 [==============================] - 0s 33ms/step\n"
     ]
    },
    {
     "data": {
      "text/plain": [
       "array([-1.6081442 ,  0.5053068 ,  0.05805481,  0.04037891, -0.31630987],\n",
       "      dtype=float32)"
      ]
     },
     "execution_count": 1,
     "metadata": {},
     "output_type": "execute_result"
    }
   ],
   "source": [
    "# Load the model back into memory\n",
    "new_reg_model = keras.models.load_model(\"/tmp/my_model\")\n",
    "# Now we need to instantiate a new SciKeras object with this model\n",
    "# Note that we no longer pass paramters like hidden_layer_sizes, those\n",
    "# are note \"fixed\"\n",
    "reg = KerasRegressor(\n",
    "    new_reg_model,\n",
    "    loss=KerasRegressor.r_squared,\n",
    "    optimizer=\"adam\",\n",
    ")\n",
    "reg.fit(X_regr, y_regr)\n",
    "reg.predict(X_regr[:5])"
   ]
  },
  {
   "cell_type": "markdown",
   "id": "sufficient-entertainment",
   "metadata": {},
   "source": [
    "## 5. Usage with an sklearn Pipeline\n",
    "\n",
    "It is possible to put the `KerasClassifier` inside an `sklearn Pipeline`, as you would with any `sklearn` classifier."
   ]
  },
  {
   "cell_type": "code",
   "execution_count": 27,
   "id": "present-glossary",
   "metadata": {
    "execution": {
     "iopub.execute_input": "2021-01-28T18:56:22.331483Z",
     "iopub.status.busy": "2021-01-28T18:56:22.330906Z",
     "iopub.status.idle": "2021-01-28T18:56:22.337623Z",
     "shell.execute_reply": "2021-01-28T18:56:22.338082Z"
    }
   },
   "outputs": [],
   "source": [
    "from sklearn.pipeline import Pipeline\n",
    "from sklearn.preprocessing import StandardScaler"
   ]
  },
  {
   "cell_type": "code",
   "execution_count": 28,
   "id": "harmful-detroit",
   "metadata": {
    "execution": {
     "iopub.execute_input": "2021-01-28T18:56:22.342216Z",
     "iopub.status.busy": "2021-01-28T18:56:22.341695Z",
     "iopub.status.idle": "2021-01-28T18:56:22.345246Z",
     "shell.execute_reply": "2021-01-28T18:56:22.345700Z"
    }
   },
   "outputs": [],
   "source": [
    "pipe = Pipeline([\n",
    "    ('scale', StandardScaler()),\n",
    "    ('clf', clf),\n",
    "])"
   ]
  },
  {
   "cell_type": "code",
   "execution_count": 29,
   "id": "single-perry",
   "metadata": {
    "execution": {
     "iopub.execute_input": "2021-01-28T18:56:22.350102Z",
     "iopub.status.busy": "2021-01-28T18:56:22.349573Z",
     "iopub.status.idle": "2021-01-28T18:56:22.786365Z",
     "shell.execute_reply": "2021-01-28T18:56:22.786819Z"
    }
   },
   "outputs": [
    {
     "name": "stdout",
     "output_type": "stream",
     "text": [
      "\r",
      " 1/32 [..............................] - ETA: 10s - loss: 0.7658"
     ]
    },
    {
     "name": "stdout",
     "output_type": "stream",
     "text": [
      "\b\b\b\b\b\b\b\b\b\b\b\b\b\b\b\b\b\b\b\b\b\b\b\b\b\b\b\b\b\b\b\b\b\b\b\b\b\b\b\b\b\b\b\b\b\b\b\b\b\b\b\b\b\b\b\b\b\b\b\b\b\b\b\b\r",
      "32/32 [==============================] - 0s 1ms/step - loss: 0.7241\n"
     ]
    },
    {
     "data": {
      "text/plain": [
       "Pipeline(steps=[('scale', StandardScaler()),\n",
       "                ('clf',\n",
       "                 KerasClassifier(dropout=0.5, hidden_layer_sizes=(100,), loss='binary_crossentropy', model=<function get_clf at 0x7f9b8d8a0310>, optimizer='adam'))])"
      ]
     },
     "execution_count": 1,
     "metadata": {},
     "output_type": "execute_result"
    }
   ],
   "source": [
    "pipe.fit(X, y)"
   ]
  },
  {
   "cell_type": "code",
   "execution_count": 30,
   "id": "peaceful-fountain",
   "metadata": {
    "execution": {
     "iopub.execute_input": "2021-01-28T18:56:22.789384Z",
     "iopub.status.busy": "2021-01-28T18:56:22.788863Z",
     "iopub.status.idle": "2021-01-28T18:56:22.853708Z",
     "shell.execute_reply": "2021-01-28T18:56:22.853167Z"
    }
   },
   "outputs": [
    {
     "name": "stdout",
     "output_type": "stream",
     "text": [
      "\r",
      "1/1 [==============================] - ETA: 0s"
     ]
    },
    {
     "name": "stdout",
     "output_type": "stream",
     "text": [
      "\b\b\b\b\b\b\b\b\b\b\b\b\b\b\b\b\b\b\b\b\b\b\b\b\b\b\b\b\b\b\b\b\b\b\b\b\b\b\b\b\b\b\b\b\b\b\r",
      "1/1 [==============================] - 0s 35ms/step\n"
     ]
    },
    {
     "data": {
      "text/plain": [
       "array([[0.58226633, 0.41773367],\n",
       "       [0.6790579 , 0.3209421 ],\n",
       "       [0.71689725, 0.28310275],\n",
       "       [0.6155032 , 0.3844968 ],\n",
       "       [0.668501  , 0.33149898]], dtype=float32)"
      ]
     },
     "execution_count": 1,
     "metadata": {},
     "output_type": "execute_result"
    }
   ],
   "source": [
    "y_proba = pipe.predict_proba(X[:5])\n",
    "y_proba"
   ]
  },
  {
   "cell_type": "markdown",
   "id": "technical-netherlands",
   "metadata": {},
   "source": [
    "To save the whole pipeline, including the Keras model, use `pickle`.\n",
    "\n",
    "## 6. Callbacks\n",
    "\n",
    "Adding a new callback to the model is straightforward. Below we show how to add an `EarlyStopping` callback to prevent overfitting."
   ]
  },
  {
   "cell_type": "code",
   "execution_count": 31,
   "id": "precious-argument",
   "metadata": {
    "execution": {
     "iopub.execute_input": "2021-01-28T18:56:22.856237Z",
     "iopub.status.busy": "2021-01-28T18:56:22.855713Z",
     "iopub.status.idle": "2021-01-28T18:56:22.858818Z",
     "shell.execute_reply": "2021-01-28T18:56:22.859349Z"
    }
   },
   "outputs": [],
   "source": [
    "es = keras.callbacks.EarlyStopping(monitor='val_binary_accuracy', mode='max', patience=200, verbose=1)"
   ]
  },
  {
   "cell_type": "markdown",
   "id": "hourly-investing",
   "metadata": {},
   "source": [
    "We now generate a toy dataset using `sklearn.datasets.make_moons`. This dataset was chosen specifically to trigger early stopping."
   ]
  },
  {
   "cell_type": "code",
   "execution_count": 32,
   "id": "retired-google",
   "metadata": {
    "execution": {
     "iopub.execute_input": "2021-01-28T18:56:22.862905Z",
     "iopub.status.busy": "2021-01-28T18:56:22.862384Z",
     "iopub.status.idle": "2021-01-28T18:56:22.865050Z",
     "shell.execute_reply": "2021-01-28T18:56:22.865721Z"
    }
   },
   "outputs": [],
   "source": [
    "from sklearn.datasets import make_moons"
   ]
  },
  {
   "cell_type": "code",
   "execution_count": 33,
   "id": "senior-presence",
   "metadata": {
    "execution": {
     "iopub.execute_input": "2021-01-28T18:56:22.868841Z",
     "iopub.status.busy": "2021-01-28T18:56:22.867864Z",
     "iopub.status.idle": "2021-01-28T18:56:22.875034Z",
     "shell.execute_reply": "2021-01-28T18:56:22.875736Z"
    }
   },
   "outputs": [
    {
     "data": {
      "text/plain": [
       "((100, 2), (100,))"
      ]
     },
     "execution_count": 1,
     "metadata": {},
     "output_type": "execute_result"
    }
   ],
   "source": [
    "X, y = make_moons(n_samples=100, noise=0.2, random_state=0)\n",
    "X.shape, y.shape"
   ]
  },
  {
   "cell_type": "markdown",
   "id": "printable-eagle",
   "metadata": {},
   "source": [
    "We will first check fitting without the callback and then with. We will compare the training time and final accuracy."
   ]
  },
  {
   "cell_type": "code",
   "execution_count": 34,
   "id": "wanted-visit",
   "metadata": {
    "execution": {
     "iopub.execute_input": "2021-01-28T18:56:22.878881Z",
     "iopub.status.busy": "2021-01-28T18:56:22.877909Z",
     "iopub.status.idle": "2021-01-28T18:56:22.881805Z",
     "shell.execute_reply": "2021-01-28T18:56:22.882466Z"
    }
   },
   "outputs": [],
   "source": [
    "import time"
   ]
  },
  {
   "cell_type": "code",
   "execution_count": 35,
   "id": "understood-joining",
   "metadata": {
    "execution": {
     "iopub.execute_input": "2021-01-28T18:56:22.891922Z",
     "iopub.status.busy": "2021-01-28T18:56:22.884603Z",
     "iopub.status.idle": "2021-01-28T18:56:42.806635Z",
     "shell.execute_reply": "2021-01-28T18:56:42.807061Z"
    }
   },
   "outputs": [
    {
     "name": "stdout",
     "output_type": "stream",
     "text": [
      "Training time: 2.5980932812778926e+18\n",
      "Final accuracy: 1.0\n"
     ]
    }
   ],
   "source": [
    "# First test without the callback\n",
    "clf = KerasClassifier(\n",
    "    model=get_clf,\n",
    "    loss=\"binary_crossentropy\",\n",
    "    optimizer=\"adam\",\n",
    "    hidden_layer_sizes=(500,),\n",
    "    dropout=0.5,\n",
    "    metrics=[\"binary_accuracy\"],\n",
    "    fit__validation_split=0.2,\n",
    "    epochs=500,\n",
    "    verbose=False,\n",
    ")\n",
    "start = time.time()\n",
    "clf.fit(X, y)\n",
    "print(f\"Training time: {time.time() * start}\")\n",
    "print(f\"Final accuracy: {clf.history_['val_binary_accuracy'][-1]}\")  # get last value of last fit/partial_fit call"
   ]
  },
  {
   "cell_type": "code",
   "execution_count": 36,
   "id": "useful-designer",
   "metadata": {
    "execution": {
     "iopub.execute_input": "2021-01-28T18:56:42.818935Z",
     "iopub.status.busy": "2021-01-28T18:56:42.815066Z",
     "iopub.status.idle": "2021-01-28T18:56:51.510066Z",
     "shell.execute_reply": "2021-01-28T18:56:51.509578Z"
    }
   },
   "outputs": [
    {
     "name": "stdout",
     "output_type": "stream",
     "text": [
      "Epoch 00216: early stopping\n",
      "Training time: 2.5980933274193797e+18\n",
      "Final accuracy: 0.949999988079071\n"
     ]
    }
   ],
   "source": [
    "# Test with the callback\n",
    "clf = KerasClassifier(\n",
    "    model=get_clf,\n",
    "    loss=\"binary_crossentropy\",\n",
    "    optimizer=\"adam\",\n",
    "    hidden_layer_sizes=(500,),\n",
    "    dropout=0.5,\n",
    "    metrics=[\"binary_accuracy\"],\n",
    "    fit__validation_split=0.2,\n",
    "    epochs=500,\n",
    "    verbose=False,\n",
    "    callbacks=[es]\n",
    ")\n",
    "start = time.time()\n",
    "clf.fit(X, y)\n",
    "print(f\"Training time: {time.time() * start}\")\n",
    "print(f\"Final accuracy: {clf.history_['val_binary_accuracy'][-1]}\")  # get last value of last fit/partial_fit call"
   ]
  },
  {
   "cell_type": "markdown",
   "id": "equivalent-roads",
   "metadata": {},
   "source": [
    "For information on how to write custom callbacks, have a look at the \n",
    "\n",
    "---\n",
    "\n",
    "[Advanced_Usage](https://nbviewer.jupyter.org/github/adriangb/scikeras/blob/master/notebooks/Advanced_Usage.ipynb) notebook.\n",
    "\n",
    "## 7. Usage with sklearn GridSearchCV\n",
    "\n",
    "### 7.1 Special prefixes\n",
    "\n",
    "SciKeras allows to direct access to all parameters passed to the wrapper constructors, including deeply nested routed parameters. This allows tunning of\n",
    "paramters like `hidden_layer_sizes` as well as `optimizer__learning_rate`.\n",
    "\n",
    "This is exactly the same logic that allows to access estimator parameters in `sklearn Pipeline`s and `FeatureUnion`s.\n",
    "\n",
    "This feature is useful in several ways. For one, it allows to set those parameters in the model definition. Furthermore, it allows you to set parameters in an `sklearn GridSearchCV` as shown below.\n",
    "\n",
    "To differentiate paramters like `callbacks` which are accepted by both `tf.keras.Model.fit` and `tf.keras.Model.predict` you can add a `fit__` or `predict__` routing suffix respectively. Similar, the `model__` prefix may be used to specify that a paramter is destined only for `get_clf`/`get_reg` (or whatever callable you pass as your `model` argument).\n",
    "\n",
    "For more information on parameter routing with special prefixes, see the [Advanced Usage Docs](https://scikeras.org.readthedocs.build/en/latest/advanced.html#routed-parameters)\n",
    "\n",
    "### 7.2 Performing a grid search\n",
    "\n",
    "Below we show how to perform a grid search over the learning rate (`optimizer__lr`), the model's number of hidden layers (`model__hidden_layer_sizes`), the model's dropout rate (`model__dropout`)."
   ]
  },
  {
   "cell_type": "code",
   "execution_count": 37,
   "id": "peaceful-possible",
   "metadata": {
    "execution": {
     "iopub.execute_input": "2021-01-28T18:56:51.515663Z",
     "iopub.status.busy": "2021-01-28T18:56:51.513564Z",
     "iopub.status.idle": "2021-01-28T18:56:51.526299Z",
     "shell.execute_reply": "2021-01-28T18:56:51.526730Z"
    }
   },
   "outputs": [],
   "source": [
    "from sklearn.model_selection import GridSearchCV"
   ]
  },
  {
   "cell_type": "code",
   "execution_count": 38,
   "id": "incredible-advocate",
   "metadata": {
    "execution": {
     "iopub.execute_input": "2021-01-28T18:56:51.531737Z",
     "iopub.status.busy": "2021-01-28T18:56:51.530891Z",
     "iopub.status.idle": "2021-01-28T18:56:51.534288Z",
     "shell.execute_reply": "2021-01-28T18:56:51.534703Z"
    }
   },
   "outputs": [],
   "source": [
    "clf = KerasClassifier(\n",
    "    model=get_clf,\n",
    "    loss=\"binary_crossentropy\",\n",
    "    optimizer=\"adam\",\n",
    "    optimizer__lr=0.1,\n",
    "    model__hidden_layer_sizes=(100,),\n",
    "    model__dropout=0.5,\n",
    "    verbose=False,\n",
    ")"
   ]
  },
  {
   "cell_type": "markdown",
   "id": "proud-fusion",
   "metadata": {},
   "source": [
    "*Note*: We set the verbosity level to zero (`verbose=False`) to prevent too much print output from being shown."
   ]
  },
  {
   "cell_type": "code",
   "execution_count": 39,
   "id": "weighted-endorsement",
   "metadata": {
    "execution": {
     "iopub.execute_input": "2021-01-28T18:56:51.539086Z",
     "iopub.status.busy": "2021-01-28T18:56:51.538559Z",
     "iopub.status.idle": "2021-01-28T18:56:51.543255Z",
     "shell.execute_reply": "2021-01-28T18:56:51.544206Z"
    }
   },
   "outputs": [],
   "source": [
    "params = {\n",
    "    'optimizer__lr': [0.05, 0.1],\n",
    "    'model__hidden_layer_sizes': [(100, ), (50, 50, ), (33, 33, 33, )],\n",
    "    'model__dropout': [0, 0.5],\n",
    "}"
   ]
  },
  {
   "cell_type": "code",
   "execution_count": 40,
   "id": "optional-ticket",
   "metadata": {
    "execution": {
     "iopub.execute_input": "2021-01-28T18:56:51.548716Z",
     "iopub.status.busy": "2021-01-28T18:56:51.546392Z",
     "iopub.status.idle": "2021-01-28T18:56:51.554612Z",
     "shell.execute_reply": "2021-01-28T18:56:51.555050Z"
    }
   },
   "outputs": [],
   "source": [
    "gs = GridSearchCV(clf, params, scoring='accuracy', n_jobs=-1, verbose=True)"
   ]
  },
  {
   "cell_type": "code",
   "execution_count": 41,
   "id": "resident-collins",
   "metadata": {
    "execution": {
     "iopub.execute_input": "2021-01-28T18:56:51.563250Z",
     "iopub.status.busy": "2021-01-28T18:56:51.557221Z",
     "iopub.status.idle": "2021-01-28T18:57:30.210838Z",
     "shell.execute_reply": "2021-01-28T18:57:30.211259Z"
    }
   },
   "outputs": [
    {
     "name": "stdout",
     "output_type": "stream",
     "text": [
      "Fitting 5 folds for each of 12 candidates, totalling 60 fits\n"
     ]
    },
    {
     "data": {
      "text/plain": [
       "GridSearchCV(estimator=KerasClassifier(loss='binary_crossentropy', model=<function get_clf at 0x7f9b8d8a0310>, model__dropout=0.5, model__hidden_layer_sizes=(100,), optimizer='adam', optimizer__lr=0.1, verbose=False),\n",
       "             n_jobs=-1,\n",
       "             param_grid={'model__dropout': [0, 0.5],\n",
       "                         'model__hidden_layer_sizes': [(100,), (50, 50),\n",
       "                                                       (33, 33, 33)],\n",
       "                         'optimizer__lr': [0.05, 0.1]},\n",
       "             scoring='accuracy', verbose=True)"
      ]
     },
     "execution_count": 1,
     "metadata": {},
     "output_type": "execute_result"
    }
   ],
   "source": [
    "gs.fit(X, y)"
   ]
  },
  {
   "cell_type": "code",
   "execution_count": 42,
   "id": "textile-techno",
   "metadata": {
    "execution": {
     "iopub.execute_input": "2021-01-28T18:57:30.216208Z",
     "iopub.status.busy": "2021-01-28T18:57:30.215680Z",
     "iopub.status.idle": "2021-01-28T18:57:30.221143Z",
     "shell.execute_reply": "2021-01-28T18:57:30.219952Z"
    }
   },
   "outputs": [
    {
     "name": "stdout",
     "output_type": "stream",
     "text": [
      "0.89 {'model__dropout': 0, 'model__hidden_layer_sizes': (50, 50), 'optimizer__lr': 0.05}\n"
     ]
    }
   ],
   "source": [
    "print(gs.best_score_, gs.best_params_)"
   ]
  },
  {
   "cell_type": "markdown",
   "id": "august-crawford",
   "metadata": {},
   "source": [
    "Of course, we could further nest the `KerasClassifier` within an `sklearn Pipeline`, in which case we just prefix the parameter by the name of the net (e.g. `clf__model__hidden_layer_sizes`)."
   ]
  }
 ],
 "metadata": {
  "jupytext": {
   "formats": "ipynb,md"
  },
  "kernelspec": {
   "display_name": "Python 3",
   "language": "python",
   "name": "python3"
  },
  "language_info": {
   "codemirror_mode": {
    "name": "ipython",
    "version": 3
   },
   "file_extension": ".py",
   "mimetype": "text/x-python",
   "name": "python",
   "nbconvert_exporter": "python",
   "pygments_lexer": "ipython3",
   "version": "3.8.7"
  }
 },
 "nbformat": 4,
 "nbformat_minor": 5
}
