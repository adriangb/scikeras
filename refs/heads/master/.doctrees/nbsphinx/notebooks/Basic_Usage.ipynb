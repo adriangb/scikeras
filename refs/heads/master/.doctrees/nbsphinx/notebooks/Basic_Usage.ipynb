{
 "cells": [
  {
   "cell_type": "raw",
   "id": "unlimited-fortune",
   "metadata": {},
   "source": [
    "<a href=\"https://colab.research.google.com/github/adriangb/scikeras/blob/docs-deploy/refs/heads/master/notebooks/Basic_Usage.ipynb\"><img src=\"https://www.tensorflow.org/images/colab_logo_32px.png\">Run in Google Colab</a>"
   ]
  },
  {
   "cell_type": "markdown",
   "id": "vietnamese-customs",
   "metadata": {},
   "source": [
    "# Basic usage\n",
    "\n",
    "`SciKeras` is designed to maximize interoperability between `sklearn` and `Keras/TensorFlow`. The aim is to keep 99% of the flexibility of `Keras` while being able to leverage most features of `sklearn`. Below, we show the basic usage of `SciKeras` and how it can be combined with `sklearn`.\n",
    "\n",
    "This notebook shows you how to use the basic functionality of `SciKeras`.\n",
    "\n",
    "## Table of contents\n",
    "\n",
    "* [1. Setup](#1.-Setup)\n",
    "* [2. Training a classifier and making predictions](#2.-Training-a-classifier-and-making-predictions)\n",
    "  * [2.1 A toy binary classification task](#2.1-A-toy-binary-classification-task)\n",
    "  * [2.2 Definition of the Keras classification Model](#2.2-Definition-of-the-Keras-classification-Model)\n",
    "  * [2.3 Defining and training the neural net classifier](#2.3-Defining-and-training-the-neural-net-classifier)\n",
    "  * [2.4 Making predictions, classification](#2.4-Making-predictions-classification)\n",
    "* [3 Training a regressor](#3.-Training-a-regressor)\n",
    "  * [3.1 A toy regression task](#3.1-A-toy-regression-task)\n",
    "  * [3.2 Definition of the Keras regression Model](#3.2-Definition-of-the-Keras-regression-Model)\n",
    "  * [3.3 Defining and training the neural net regressor](#3.3-Defining-and-training-the-neural-net-regressor)\n",
    "  * [3.4 Making predictions, regression](#3.4-Making-predictions-regression)\n",
    "* [4. Saving and loading a model](#4.-Saving-and-loading-a-model)\n",
    "  * [4.1 Saving the whole model](#4.1-Saving-the-whole-model)\n",
    "  * [4.2 Saving using Keras' saving methods](#4.2-Saving-using-Keras-saving-methods)\n",
    "* [5. Usage with an sklearn Pipeline](#5.-Usage-with-an-sklearn-Pipeline)\n",
    "* [6. Callbacks](#6.-Callbacks)\n",
    "* [7. Usage with sklearn GridSearchCV](#7.-Usage-with-sklearn-GridSearchCV)\n",
    "  * [7.1 Special prefixes](#7.1-Special-prefixes)\n",
    "  * [7.2 Performing a grid search](#7.2-Performing-a-grid-search)\n",
    "\n",
    "## 1. Setup"
   ]
  },
  {
   "cell_type": "code",
   "execution_count": 1,
   "id": "legitimate-exclusive",
   "metadata": {
    "execution": {
     "iopub.execute_input": "2021-01-27T18:53:03.998139Z",
     "iopub.status.busy": "2021-01-27T18:53:03.997432Z",
     "iopub.status.idle": "2021-01-27T18:53:07.366995Z",
     "shell.execute_reply": "2021-01-27T18:53:07.366299Z"
    }
   },
   "outputs": [],
   "source": [
    "try:\n",
    "    import scikeras\n",
    "except ImportError:\n",
    "    !python -m pip install scikeras"
   ]
  },
  {
   "cell_type": "markdown",
   "id": "floral-tournament",
   "metadata": {},
   "source": [
    "Silence TensorFlow logging to keep output succinct."
   ]
  },
  {
   "cell_type": "code",
   "execution_count": 2,
   "id": "pediatric-accordance",
   "metadata": {
    "execution": {
     "iopub.execute_input": "2021-01-27T18:53:07.371827Z",
     "iopub.status.busy": "2021-01-27T18:53:07.371196Z",
     "iopub.status.idle": "2021-01-27T18:53:07.373437Z",
     "shell.execute_reply": "2021-01-27T18:53:07.373960Z"
    }
   },
   "outputs": [],
   "source": [
    "import warnings\n",
    "from tensorflow import get_logger\n",
    "get_logger().setLevel('ERROR')\n",
    "warnings.filterwarnings(\"ignore\", message=\"Setting the random state for TF\")"
   ]
  },
  {
   "cell_type": "code",
   "execution_count": 3,
   "id": "charming-surgeon",
   "metadata": {
    "execution": {
     "iopub.execute_input": "2021-01-27T18:53:07.379305Z",
     "iopub.status.busy": "2021-01-27T18:53:07.378517Z",
     "iopub.status.idle": "2021-01-27T18:53:08.438161Z",
     "shell.execute_reply": "2021-01-27T18:53:08.438729Z"
    }
   },
   "outputs": [],
   "source": [
    "import numpy as np\n",
    "from scikeras.wrappers import KerasClassifier, KerasRegressor\n",
    "from tensorflow import keras"
   ]
  },
  {
   "cell_type": "markdown",
   "id": "yellow-knife",
   "metadata": {},
   "source": [
    "## 2. Training a classifier and making predictions\n",
    "\n",
    "### 2.1 A toy binary classification task\n",
    "\n",
    "We load a toy classification task from `sklearn`."
   ]
  },
  {
   "cell_type": "code",
   "execution_count": 4,
   "id": "identical-stake",
   "metadata": {
    "execution": {
     "iopub.execute_input": "2021-01-27T18:53:08.442390Z",
     "iopub.status.busy": "2021-01-27T18:53:08.441752Z",
     "iopub.status.idle": "2021-01-27T18:53:08.472386Z",
     "shell.execute_reply": "2021-01-27T18:53:08.471783Z"
    }
   },
   "outputs": [],
   "source": [
    "import numpy as np\n",
    "from sklearn.datasets import make_classification"
   ]
  },
  {
   "cell_type": "code",
   "execution_count": 5,
   "id": "closing-carry",
   "metadata": {
    "execution": {
     "iopub.execute_input": "2021-01-27T18:53:08.483604Z",
     "iopub.status.busy": "2021-01-27T18:53:08.482616Z",
     "iopub.status.idle": "2021-01-27T18:53:08.489376Z",
     "shell.execute_reply": "2021-01-27T18:53:08.489904Z"
    }
   },
   "outputs": [],
   "source": [
    "X, y = make_classification(1000, 20, n_informative=10, random_state=0)"
   ]
  },
  {
   "cell_type": "code",
   "execution_count": 6,
   "id": "excess-firewall",
   "metadata": {
    "execution": {
     "iopub.execute_input": "2021-01-27T18:53:08.501074Z",
     "iopub.status.busy": "2021-01-27T18:53:08.500442Z",
     "iopub.status.idle": "2021-01-27T18:53:08.507440Z",
     "shell.execute_reply": "2021-01-27T18:53:08.506766Z"
    }
   },
   "outputs": [
    {
     "data": {
      "text/plain": [
       "((1000, 20), (1000,), 0.5)"
      ]
     },
     "execution_count": 1,
     "metadata": {},
     "output_type": "execute_result"
    }
   ],
   "source": [
    "X.shape, y.shape, y.mean()"
   ]
  },
  {
   "cell_type": "markdown",
   "id": "congressional-valentine",
   "metadata": {},
   "source": [
    "### 2.2 Definition of the Keras classification Model\n",
    "\n",
    "We define a vanilla neural network with.\n",
    "\n",
    "Because we are dealing with 2 classes, the output layer can be constructed in\n",
    "two different ways:\n",
    "\n",
    "1. Single unit with a `\"sigmoid\"` nonlinearity. The loss must be `\"binary_crossentropy\"`.\n",
    "2. Two units (one for each class) and a `\"softmax\"` nonlinearity. The loss must be `\"sparse_categorical_crossentropy\"`.\n",
    "\n",
    "In this example, we choose the first option, which is what you would usually\n",
    "do for binary classification. The second option is usually reserved for when\n",
    "you have >2 classes."
   ]
  },
  {
   "cell_type": "code",
   "execution_count": 7,
   "id": "related-favor",
   "metadata": {
    "execution": {
     "iopub.execute_input": "2021-01-27T18:53:08.511805Z",
     "iopub.status.busy": "2021-01-27T18:53:08.511170Z",
     "iopub.status.idle": "2021-01-27T18:53:08.514079Z",
     "shell.execute_reply": "2021-01-27T18:53:08.514566Z"
    }
   },
   "outputs": [],
   "source": [
    "from tensorflow import keras"
   ]
  },
  {
   "cell_type": "code",
   "execution_count": 8,
   "id": "formed-alliance",
   "metadata": {
    "execution": {
     "iopub.execute_input": "2021-01-27T18:53:08.521660Z",
     "iopub.status.busy": "2021-01-27T18:53:08.520824Z",
     "iopub.status.idle": "2021-01-27T18:53:08.525099Z",
     "shell.execute_reply": "2021-01-27T18:53:08.525625Z"
    }
   },
   "outputs": [],
   "source": [
    "def get_clf(meta, hidden_layer_sizes, dropout):\n",
    "    n_features_in_ = meta[\"n_features_in_\"]\n",
    "    n_classes_ = meta[\"n_classes_\"]\n",
    "    model = keras.models.Sequential()\n",
    "    model.add(keras.layers.Input(shape=(n_features_in_,)))\n",
    "    for hidden_layer_size in hidden_layer_sizes:\n",
    "        model.add(keras.layers.Dense(hidden_layer_size, activation=\"relu\"))\n",
    "        model.add(keras.layers.Dropout(dropout))\n",
    "    model.add(keras.layers.Dense(1, activation=\"sigmoid\"))\n",
    "    return model"
   ]
  },
  {
   "cell_type": "markdown",
   "id": "unique-guinea",
   "metadata": {},
   "source": [
    "### 2.3 Defining and training the neural net classifier\n",
    "\n",
    "We use `KerasClassifier` because we're dealing with a classifcation task. The first argument should be a callable returning a `Keras.Model`, in this case, `get_clf`. As additional arguments, we pass the number of loss function (required) and the optimizer, but the later is optional. We must also pass all of the arguments to `get_clf` as keyword arguments to `KerasClassifier` if they don't have a default value in `get_clf`. Note that if you do not pass an argument to `KerasClassifier`, it will not be avilable for hyperparameter tuning. Finally, we also pass `random_state=0` for reproducible results."
   ]
  },
  {
   "cell_type": "code",
   "execution_count": 9,
   "id": "horizontal-experience",
   "metadata": {
    "execution": {
     "iopub.execute_input": "2021-01-27T18:53:08.530362Z",
     "iopub.status.busy": "2021-01-27T18:53:08.529562Z",
     "iopub.status.idle": "2021-01-27T18:53:08.533263Z",
     "shell.execute_reply": "2021-01-27T18:53:08.533905Z"
    }
   },
   "outputs": [],
   "source": [
    "from scikeras.wrappers import KerasClassifier"
   ]
  },
  {
   "cell_type": "code",
   "execution_count": 10,
   "id": "patient-tutorial",
   "metadata": {
    "execution": {
     "iopub.execute_input": "2021-01-27T18:53:08.538628Z",
     "iopub.status.busy": "2021-01-27T18:53:08.538005Z",
     "iopub.status.idle": "2021-01-27T18:53:08.541366Z",
     "shell.execute_reply": "2021-01-27T18:53:08.541854Z"
    }
   },
   "outputs": [],
   "source": [
    "clf = KerasClassifier(\n",
    "    model=get_clf,\n",
    "    loss=\"binary_crossentropy\",\n",
    "    optimizer=\"adam\",\n",
    "    hidden_layer_sizes=(100,),\n",
    "    dropout=0.5,\n",
    ")"
   ]
  },
  {
   "cell_type": "markdown",
   "id": "official-burton",
   "metadata": {},
   "source": [
    "As in `sklearn`, we call `fit` passing the input data `X` and the targets `y`."
   ]
  },
  {
   "cell_type": "code",
   "execution_count": 11,
   "id": "american-memory",
   "metadata": {
    "execution": {
     "iopub.execute_input": "2021-01-27T18:53:08.548589Z",
     "iopub.status.busy": "2021-01-27T18:53:08.547974Z",
     "iopub.status.idle": "2021-01-27T18:53:09.218919Z",
     "shell.execute_reply": "2021-01-27T18:53:09.219773Z"
    }
   },
   "outputs": [
    {
     "name": "stdout",
     "output_type": "stream",
     "text": [
      "\r",
      " 1/32 [..............................] - ETA: 15s - loss: 1.2041"
     ]
    },
    {
     "name": "stdout",
     "output_type": "stream",
     "text": [
      "\b\b\b\b\b\b\b\b\b\b\b\b\b\b\b\b\b\b\b\b\b\b\b\b\b\b\b\b\b\b\b\b\b\b\b\b\b\b\b\b\b\b\b\b\b\b\b\b\b\b\b\b\b\b\b\b\b\b\b\b\b\b\b\b\r",
      "32/32 [==============================] - 1s 1ms/step - loss: 0.9400\n"
     ]
    },
    {
     "data": {
      "text/plain": [
       "KerasClassifier(\n",
       "\tmodel=<function get_clf at 0x7f7ec6efaaf0>\n",
       "\tbuild_fn=None\n",
       "\twarm_start=False\n",
       "\trandom_state=None\n",
       "\toptimizer=adam\n",
       "\tloss=binary_crossentropy\n",
       "\tmetrics=None\n",
       "\tbatch_size=None\n",
       "\tverbose=1\n",
       "\tcallbacks=None\n",
       "\tvalidation_split=0.0\n",
       "\tshuffle=True\n",
       "\trun_eagerly=False\n",
       "\tepochs=1\n",
       "\thidden_layer_sizes=(100,)\n",
       "\tdropout=0.5\n",
       "\tclass_weight=None\n",
       ")"
      ]
     },
     "execution_count": 1,
     "metadata": {},
     "output_type": "execute_result"
    }
   ],
   "source": [
    "clf.fit(X, y)"
   ]
  },
  {
   "cell_type": "markdown",
   "id": "broad-zimbabwe",
   "metadata": {},
   "source": [
    "Also, as in `sklearn`, you may call `predict` or `predict_proba` on the fitted model.\n",
    "\n",
    "### 2.4 Making predictions, classification"
   ]
  },
  {
   "cell_type": "code",
   "execution_count": 12,
   "id": "fresh-treasury",
   "metadata": {
    "execution": {
     "iopub.execute_input": "2021-01-27T18:53:09.223827Z",
     "iopub.status.busy": "2021-01-27T18:53:09.222600Z",
     "iopub.status.idle": "2021-01-27T18:53:09.332701Z",
     "shell.execute_reply": "2021-01-27T18:53:09.332157Z"
    }
   },
   "outputs": [
    {
     "name": "stdout",
     "output_type": "stream",
     "text": [
      "\r",
      "1/1 [==============================] - ETA: 0s"
     ]
    },
    {
     "name": "stdout",
     "output_type": "stream",
     "text": [
      "\b\b\b\b\b\b\b\b\b\b\b\b\b\b\b\b\b\b\b\b\b\b\b\b\b\b\b\b\b\b\b\b\b\b\b\b\b\b\b\b\b\b\b\b\b\b\r",
      "1/1 [==============================] - 0s 72ms/step\n"
     ]
    },
    {
     "data": {
      "text/plain": [
       "array([1, 0, 0, 0, 0])"
      ]
     },
     "execution_count": 1,
     "metadata": {},
     "output_type": "execute_result"
    }
   ],
   "source": [
    "y_pred = clf.predict(X[:5])\n",
    "y_pred"
   ]
  },
  {
   "cell_type": "code",
   "execution_count": 13,
   "id": "meaning-washer",
   "metadata": {
    "execution": {
     "iopub.execute_input": "2021-01-27T18:53:09.336547Z",
     "iopub.status.busy": "2021-01-27T18:53:09.335934Z",
     "iopub.status.idle": "2021-01-27T18:53:09.385192Z",
     "shell.execute_reply": "2021-01-27T18:53:09.384656Z"
    }
   },
   "outputs": [
    {
     "name": "stdout",
     "output_type": "stream",
     "text": [
      "\r",
      "1/1 [==============================] - ETA: 0s"
     ]
    },
    {
     "name": "stdout",
     "output_type": "stream",
     "text": [
      "\b\b\b\b\b\b\b\b\b\b\b\b\b\b\b\b\b\b\b\b\b\b\b\b\b\b\b\b\b\b\b\b\b\b\b\b\b\b\b\b\b\b\b\b\b\b\r",
      "1/1 [==============================] - 0s 15ms/step\n"
     ]
    },
    {
     "data": {
      "text/plain": [
       "array([[0.38491118, 0.6150888 ],\n",
       "       [0.6690316 , 0.33096835],\n",
       "       [0.8947201 , 0.10527989],\n",
       "       [0.91169894, 0.08830106],\n",
       "       [0.87484443, 0.12515557]], dtype=float32)"
      ]
     },
     "execution_count": 1,
     "metadata": {},
     "output_type": "execute_result"
    }
   ],
   "source": [
    "y_proba = clf.predict_proba(X[:5])\n",
    "y_proba"
   ]
  },
  {
   "cell_type": "markdown",
   "id": "boxed-weight",
   "metadata": {},
   "source": [
    "## 3 Training a regressor\n",
    "\n",
    "### 3.1 A toy regression task"
   ]
  },
  {
   "cell_type": "code",
   "execution_count": 14,
   "id": "individual-meter",
   "metadata": {
    "execution": {
     "iopub.execute_input": "2021-01-27T18:53:09.389653Z",
     "iopub.status.busy": "2021-01-27T18:53:09.389005Z",
     "iopub.status.idle": "2021-01-27T18:53:09.392388Z",
     "shell.execute_reply": "2021-01-27T18:53:09.392887Z"
    }
   },
   "outputs": [],
   "source": [
    "from sklearn.datasets import make_regression"
   ]
  },
  {
   "cell_type": "code",
   "execution_count": 15,
   "id": "derived-warren",
   "metadata": {
    "execution": {
     "iopub.execute_input": "2021-01-27T18:53:09.398704Z",
     "iopub.status.busy": "2021-01-27T18:53:09.398077Z",
     "iopub.status.idle": "2021-01-27T18:53:09.408040Z",
     "shell.execute_reply": "2021-01-27T18:53:09.424402Z"
    }
   },
   "outputs": [],
   "source": [
    "X_regr, y_regr = make_regression(1000, 20, n_informative=10, random_state=0)"
   ]
  },
  {
   "cell_type": "code",
   "execution_count": 16,
   "id": "reverse-youth",
   "metadata": {
    "execution": {
     "iopub.execute_input": "2021-01-27T18:53:09.434041Z",
     "iopub.status.busy": "2021-01-27T18:53:09.432916Z",
     "iopub.status.idle": "2021-01-27T18:53:09.435723Z",
     "shell.execute_reply": "2021-01-27T18:53:09.433450Z"
    }
   },
   "outputs": [
    {
     "data": {
      "text/plain": [
       "((1000, 20), (1000,), -649.0148244404172, 615.4505181286091)"
      ]
     },
     "execution_count": 1,
     "metadata": {},
     "output_type": "execute_result"
    }
   ],
   "source": [
    "X_regr.shape, y_regr.shape, y_regr.min(), y_regr.max()"
   ]
  },
  {
   "cell_type": "markdown",
   "id": "outside-stuff",
   "metadata": {},
   "source": [
    "### 3.2 Definition of the Keras regression Model\n",
    "\n",
    "Again, define a vanilla neural network. The main difference is that the output layer always has a single unit and does not apply any nonlinearity."
   ]
  },
  {
   "cell_type": "code",
   "execution_count": 17,
   "id": "catholic-latitude",
   "metadata": {
    "execution": {
     "iopub.execute_input": "2021-01-27T18:53:09.449392Z",
     "iopub.status.busy": "2021-01-27T18:53:09.448142Z",
     "iopub.status.idle": "2021-01-27T18:53:09.450059Z",
     "shell.execute_reply": "2021-01-27T18:53:09.448669Z"
    }
   },
   "outputs": [],
   "source": [
    "def get_reg(meta, hidden_layer_sizes, dropout):\n",
    "    n_features_in_ = meta[\"n_features_in_\"]\n",
    "    model = keras.models.Sequential()\n",
    "    model.add(keras.layers.Input(shape=(n_features_in_,)))\n",
    "    for hidden_layer_size in hidden_layer_sizes:\n",
    "        model.add(keras.layers.Dense(hidden_layer_size, activation=\"relu\"))\n",
    "        model.add(keras.layers.Dropout(dropout))\n",
    "    model.add(keras.layers.Dense(1))\n",
    "    return model"
   ]
  },
  {
   "cell_type": "markdown",
   "id": "given-universe",
   "metadata": {},
   "source": [
    "### 3.3 Defining and training the neural net regressor\n",
    "\n",
    "Training a regressor is almost the same as training a classifier. Mainly, we use `KerasRegressor` instead of `KerasClassifier` (this is the same terminology as in `sklearn`). We also change the loss function to `KerasRegressor.r_squared`. SciKeras provides this loss function because most of the `sklearn` ecosystem expects `R^2` as the loss function, but Keras does not have a default implementation."
   ]
  },
  {
   "cell_type": "code",
   "execution_count": 18,
   "id": "designed-contemporary",
   "metadata": {
    "execution": {
     "iopub.execute_input": "2021-01-27T18:53:09.461244Z",
     "iopub.status.busy": "2021-01-27T18:53:09.458935Z",
     "iopub.status.idle": "2021-01-27T18:53:09.461842Z",
     "shell.execute_reply": "2021-01-27T18:53:09.460638Z"
    }
   },
   "outputs": [],
   "source": [
    "from scikeras.wrappers import KerasRegressor"
   ]
  },
  {
   "cell_type": "code",
   "execution_count": 19,
   "id": "weekly-explorer",
   "metadata": {
    "execution": {
     "iopub.execute_input": "2021-01-27T18:53:09.470881Z",
     "iopub.status.busy": "2021-01-27T18:53:09.469678Z",
     "iopub.status.idle": "2021-01-27T18:53:09.473958Z",
     "shell.execute_reply": "2021-01-27T18:53:09.470209Z"
    }
   },
   "outputs": [],
   "source": [
    "reg = KerasRegressor(\n",
    "    model=get_reg,\n",
    "    loss=KerasRegressor.r_squared,\n",
    "    optimizer=\"adam\",\n",
    "    hidden_layer_sizes=(100,),\n",
    "    dropout=0.5,\n",
    ")"
   ]
  },
  {
   "cell_type": "code",
   "execution_count": 20,
   "id": "killing-triumph",
   "metadata": {
    "execution": {
     "iopub.execute_input": "2021-01-27T18:53:09.485552Z",
     "iopub.status.busy": "2021-01-27T18:53:09.484940Z",
     "iopub.status.idle": "2021-01-27T18:53:10.134427Z",
     "shell.execute_reply": "2021-01-27T18:53:10.135213Z"
    }
   },
   "outputs": [
    {
     "name": "stdout",
     "output_type": "stream",
     "text": [
      "\r",
      " 1/32 [..............................] - ETA: 15s - loss: -0.0048"
     ]
    },
    {
     "name": "stdout",
     "output_type": "stream",
     "text": [
      "\b\b\b\b\b\b\b\b\b\b\b\b\b\b\b\b\b\b\b\b\b\b\b\b\b\b\b\b\b\b\b\b\b\b\b\b\b\b\b\b\b\b\b\b\b\b\b\b\b\b\b\b\b\b\b\b\b\b\b\b\b\b\b\b\b\r",
      "32/32 [==============================] - 1s 2ms/step - loss: -0.0317\n"
     ]
    },
    {
     "data": {
      "text/plain": [
       "KerasRegressor(\n",
       "\tmodel=<function get_reg at 0x7f7ec467e940>\n",
       "\tbuild_fn=None\n",
       "\twarm_start=False\n",
       "\trandom_state=None\n",
       "\toptimizer=adam\n",
       "\tloss=<function KerasRegressor.r_squared at 0x7f7e5c8c7a60>\n",
       "\tmetrics=None\n",
       "\tbatch_size=None\n",
       "\tverbose=1\n",
       "\tcallbacks=None\n",
       "\tvalidation_split=0.0\n",
       "\tshuffle=True\n",
       "\trun_eagerly=False\n",
       "\tepochs=1\n",
       "\thidden_layer_sizes=(100,)\n",
       "\tdropout=0.5\n",
       ")"
      ]
     },
     "execution_count": 1,
     "metadata": {},
     "output_type": "execute_result"
    }
   ],
   "source": [
    "reg.fit(X_regr, y_regr)"
   ]
  },
  {
   "cell_type": "markdown",
   "id": "equipped-piano",
   "metadata": {},
   "source": [
    "### 3.4 Making predictions, regression\n",
    "\n",
    "You may call `predict` or `predict_proba` on the fitted model. For regressions, both methods return the same value."
   ]
  },
  {
   "cell_type": "code",
   "execution_count": 21,
   "id": "artistic-relative",
   "metadata": {
    "execution": {
     "iopub.execute_input": "2021-01-27T18:53:10.141523Z",
     "iopub.status.busy": "2021-01-27T18:53:10.140031Z",
     "iopub.status.idle": "2021-01-27T18:53:10.221868Z",
     "shell.execute_reply": "2021-01-27T18:53:10.222469Z"
    }
   },
   "outputs": [
    {
     "name": "stdout",
     "output_type": "stream",
     "text": [
      "\r",
      "1/1 [==============================] - ETA: 0s"
     ]
    },
    {
     "name": "stdout",
     "output_type": "stream",
     "text": [
      "\b\b\b\b\b\b\b\b\b\b\b\b\b\b\b\b\b\b\b\b\b\b\b\b\b\b\b\b\b\b\b\b\b\b\b\b\b\b\b\b\b\b\b\b\b\b\r",
      "1/1 [==============================] - 0s 47ms/step\n"
     ]
    },
    {
     "data": {
      "text/plain": [
       "array([0.98963052, 1.52437079, 0.11474358, 0.15191558, 0.29519513])"
      ]
     },
     "execution_count": 1,
     "metadata": {},
     "output_type": "execute_result"
    }
   ],
   "source": [
    "y_pred = reg.predict(X_regr[:5])\n",
    "y_pred"
   ]
  },
  {
   "cell_type": "markdown",
   "id": "realistic-hotel",
   "metadata": {},
   "source": [
    "## 4. Saving and loading a model\n",
    "\n",
    "Save and load either the whole model by using pickle, or use Keras' specialized save methods on the `KerasClassifier.model_` or `KerasRegressor.model_` attribute that is created after fitting. You will want to use Keras' model saving utilities if any of the following apply:\n",
    "\n",
    "1. You wish to save only the weights or only the training configuration of your model.\n",
    "2. You wish to share your model with collaborators. Pickle is a relatively unsafe protocol and it is not recommended to share or load pickle objects publically.\n",
    "3. You care about performance, especially if doing in-memory serialization.\n",
    "\n",
    "For more information, see Keras' [saving documentation](https://www.tensorflow.org/guide/keras/save_and_serialize).\n",
    "\n",
    "### 4.1 Saving the whole model"
   ]
  },
  {
   "cell_type": "code",
   "execution_count": 22,
   "id": "built-opening",
   "metadata": {
    "execution": {
     "iopub.execute_input": "2021-01-27T18:53:10.227297Z",
     "iopub.status.busy": "2021-01-27T18:53:10.226520Z",
     "iopub.status.idle": "2021-01-27T18:53:10.229877Z",
     "shell.execute_reply": "2021-01-27T18:53:10.230976Z"
    }
   },
   "outputs": [],
   "source": [
    "import pickle"
   ]
  },
  {
   "cell_type": "code",
   "execution_count": 23,
   "id": "experienced-muslim",
   "metadata": {
    "execution": {
     "iopub.execute_input": "2021-01-27T18:53:10.247229Z",
     "iopub.status.busy": "2021-01-27T18:53:10.234471Z",
     "iopub.status.idle": "2021-01-27T18:53:10.862267Z",
     "shell.execute_reply": "2021-01-27T18:53:10.863139Z"
    }
   },
   "outputs": [],
   "source": [
    "bytes_model = pickle.dumps(reg)"
   ]
  },
  {
   "cell_type": "code",
   "execution_count": 24,
   "id": "painful-alberta",
   "metadata": {
    "execution": {
     "iopub.execute_input": "2021-01-27T18:53:10.866956Z",
     "iopub.status.busy": "2021-01-27T18:53:10.865765Z",
     "iopub.status.idle": "2021-01-27T18:53:11.192876Z",
     "shell.execute_reply": "2021-01-27T18:53:11.193700Z"
    }
   },
   "outputs": [
    {
     "data": {
      "text/plain": [
       "KerasRegressor(\n",
       "\tmodel=<function get_reg at 0x7f7ec467e940>\n",
       "\tbuild_fn=None\n",
       "\twarm_start=False\n",
       "\trandom_state=None\n",
       "\toptimizer=adam\n",
       "\tloss=<function KerasRegressor.r_squared at 0x7f7e5c8c7a60>\n",
       "\tmetrics=None\n",
       "\tbatch_size=None\n",
       "\tverbose=1\n",
       "\tcallbacks=None\n",
       "\tvalidation_split=0.0\n",
       "\tshuffle=True\n",
       "\trun_eagerly=False\n",
       "\tepochs=1\n",
       "\thidden_layer_sizes=(100,)\n",
       "\tdropout=0.5\n",
       ")"
      ]
     },
     "execution_count": 1,
     "metadata": {},
     "output_type": "execute_result"
    }
   ],
   "source": [
    "new_reg = pickle.loads(bytes_model)\n",
    "new_reg"
   ]
  },
  {
   "cell_type": "markdown",
   "id": "distinguished-bachelor",
   "metadata": {},
   "source": [
    "### 4.2 Saving using Keras' saving methods\n",
    "\n",
    "This efficiently and safely saves the model to disk, including trained weights.\n",
    "You should use this method if you plan on sharing your saved models."
   ]
  },
  {
   "cell_type": "code",
   "execution_count": 25,
   "id": "fixed-modeling",
   "metadata": {
    "execution": {
     "iopub.execute_input": "2021-01-27T18:53:11.197718Z",
     "iopub.status.busy": "2021-01-27T18:53:11.196460Z",
     "iopub.status.idle": "2021-01-27T18:53:11.730278Z",
     "shell.execute_reply": "2021-01-27T18:53:11.731658Z"
    }
   },
   "outputs": [],
   "source": [
    "# Save to disk\n",
    "reg.model_.save(\"/tmp/my_model\")"
   ]
  },
  {
   "cell_type": "code",
   "execution_count": 26,
   "id": "addressed-generic",
   "metadata": {
    "execution": {
     "iopub.execute_input": "2021-01-27T18:53:11.737054Z",
     "iopub.status.busy": "2021-01-27T18:53:11.735350Z",
     "iopub.status.idle": "2021-01-27T18:53:12.522770Z",
     "shell.execute_reply": "2021-01-27T18:53:12.521895Z"
    }
   },
   "outputs": [
    {
     "name": "stdout",
     "output_type": "stream",
     "text": [
      "\r",
      " 1/32 [..............................] - ETA: 11s - loss: -0.1091"
     ]
    },
    {
     "name": "stdout",
     "output_type": "stream",
     "text": [
      "\b\b\b\b\b\b\b\b\b\b\b\b\b\b\b\b\b\b\b\b\b\b\b\b\b\b\b\b\b\b\b\b\b\b\b\b\b\b\b\b\b\b\b\b\b\b\b\b\b\b\b\b\b\b\b\b\b\b\b\b\b\b\b\b\b\r",
      "32/32 [==============================] - 0s 1ms/step - loss: -0.0579\n"
     ]
    },
    {
     "name": "stdout",
     "output_type": "stream",
     "text": [
      "\r",
      "1/1 [==============================] - ETA: 0s"
     ]
    },
    {
     "name": "stdout",
     "output_type": "stream",
     "text": [
      "\b\b\b\b\b\b\b\b\b\b\b\b\b\b\b\b\b\b\b\b\b\b\b\b\b\b\b\b\b\b\b\b\b\b\b\b\b\b\b\b\b\b\b\b\b\b\r",
      "1/1 [==============================] - 0s 38ms/step\n"
     ]
    },
    {
     "data": {
      "text/plain": [
       "array([0.88639039, 1.97065699, 0.03661122, 0.12085791, 0.44495365])"
      ]
     },
     "execution_count": 1,
     "metadata": {},
     "output_type": "execute_result"
    }
   ],
   "source": [
    "# Load the model back into memory\n",
    "new_reg_model = keras.models.load_model(\"/tmp/my_model\")\n",
    "# Now we need to instantiate a new SciKeras object with this model\n",
    "# Note that we no longer pass paramters like hidden_layer_sizes, those\n",
    "# are note \"fixed\"\n",
    "reg = KerasRegressor(\n",
    "    new_reg_model,\n",
    "    loss=KerasRegressor.r_squared,\n",
    "    optimizer=\"adam\",\n",
    ")\n",
    "reg.fit(X_regr, y_regr)\n",
    "reg.predict(X_regr[:5])"
   ]
  },
  {
   "cell_type": "markdown",
   "id": "egyptian-monster",
   "metadata": {},
   "source": [
    "## 5. Usage with an sklearn Pipeline\n",
    "\n",
    "It is possible to put the `KerasClassifier` inside an `sklearn Pipeline`, as you would with any `sklearn` classifier."
   ]
  },
  {
   "cell_type": "code",
   "execution_count": 27,
   "id": "functional-collectible",
   "metadata": {
    "execution": {
     "iopub.execute_input": "2021-01-27T18:53:12.527448Z",
     "iopub.status.busy": "2021-01-27T18:53:12.526703Z",
     "iopub.status.idle": "2021-01-27T18:53:12.530266Z",
     "shell.execute_reply": "2021-01-27T18:53:12.530755Z"
    }
   },
   "outputs": [],
   "source": [
    "from sklearn.pipeline import Pipeline\n",
    "from sklearn.preprocessing import StandardScaler"
   ]
  },
  {
   "cell_type": "code",
   "execution_count": 28,
   "id": "compound-bumper",
   "metadata": {
    "execution": {
     "iopub.execute_input": "2021-01-27T18:53:12.534364Z",
     "iopub.status.busy": "2021-01-27T18:53:12.533583Z",
     "iopub.status.idle": "2021-01-27T18:53:12.538776Z",
     "shell.execute_reply": "2021-01-27T18:53:12.539347Z"
    }
   },
   "outputs": [],
   "source": [
    "pipe = Pipeline([\n",
    "    ('scale', StandardScaler()),\n",
    "    ('clf', clf),\n",
    "])"
   ]
  },
  {
   "cell_type": "code",
   "execution_count": 29,
   "id": "plain-house",
   "metadata": {
    "execution": {
     "iopub.execute_input": "2021-01-27T18:53:12.542503Z",
     "iopub.status.busy": "2021-01-27T18:53:12.541884Z",
     "iopub.status.idle": "2021-01-27T18:53:13.082152Z",
     "shell.execute_reply": "2021-01-27T18:53:13.083160Z"
    }
   },
   "outputs": [
    {
     "name": "stdout",
     "output_type": "stream",
     "text": [
      "\r",
      " 1/32 [..............................] - ETA: 13s - loss: 0.9066"
     ]
    },
    {
     "name": "stdout",
     "output_type": "stream",
     "text": [
      "\b\b\b\b\b\b\b\b\b\b\b\b\b\b\b\b\b\b\b\b\b\b\b\b\b\b\b\b\b\b\b\b\b\b\b\b\b\b\b\b\b\b\b\b\b\b\b\b\b\b\b\b\b\b\b\b\b\b\b\b\b\b\b\b\r",
      "32/32 [==============================] - 0s 1ms/step - loss: 0.7763\n"
     ]
    },
    {
     "data": {
      "text/plain": [
       "Pipeline(steps=[('scale', StandardScaler()),\n",
       "                ('clf',\n",
       "                 KerasClassifier(dropout=0.5, hidden_layer_sizes=(100,), loss='binary_crossentropy', model=<function get_clf at 0x7f7ec6efaaf0>, optimizer='adam'))])"
      ]
     },
     "execution_count": 1,
     "metadata": {},
     "output_type": "execute_result"
    }
   ],
   "source": [
    "pipe.fit(X, y)"
   ]
  },
  {
   "cell_type": "code",
   "execution_count": 30,
   "id": "virgin-blackberry",
   "metadata": {
    "execution": {
     "iopub.execute_input": "2021-01-27T18:53:13.087234Z",
     "iopub.status.busy": "2021-01-27T18:53:13.085996Z",
     "iopub.status.idle": "2021-01-27T18:53:13.166255Z",
     "shell.execute_reply": "2021-01-27T18:53:13.165715Z"
    }
   },
   "outputs": [
    {
     "name": "stdout",
     "output_type": "stream",
     "text": [
      "\r",
      "1/1 [==============================] - ETA: 0s"
     ]
    },
    {
     "name": "stdout",
     "output_type": "stream",
     "text": [
      "\b\b\b\b\b\b\b\b\b\b\b\b\b\b\b\b\b\b\b\b\b\b\b\b\b\b\b\b\b\b\b\b\b\b\b\b\b\b\b\b\b\b\b\b\b\b\r",
      "1/1 [==============================] - 0s 42ms/step\n"
     ]
    },
    {
     "data": {
      "text/plain": [
       "array([[0.40006757, 0.59993243],\n",
       "       [0.5995467 , 0.40045336],\n",
       "       [0.63763994, 0.36236006],\n",
       "       [0.5421064 , 0.45789358],\n",
       "       [0.7040945 , 0.29590547]], dtype=float32)"
      ]
     },
     "execution_count": 1,
     "metadata": {},
     "output_type": "execute_result"
    }
   ],
   "source": [
    "y_proba = pipe.predict_proba(X[:5])\n",
    "y_proba"
   ]
  },
  {
   "cell_type": "markdown",
   "id": "filled-plymouth",
   "metadata": {},
   "source": [
    "To save the whole pipeline, including the Keras model, use `pickle`.\n",
    "\n",
    "## 6. Callbacks\n",
    "\n",
    "Adding a new callback to the model is straightforward. Below we show how to add an `EarlyStopping` callback to prevent overfitting."
   ]
  },
  {
   "cell_type": "code",
   "execution_count": 31,
   "id": "negative-madonna",
   "metadata": {
    "execution": {
     "iopub.execute_input": "2021-01-27T18:53:13.171936Z",
     "iopub.status.busy": "2021-01-27T18:53:13.169018Z",
     "iopub.status.idle": "2021-01-27T18:53:13.174630Z",
     "shell.execute_reply": "2021-01-27T18:53:13.175872Z"
    }
   },
   "outputs": [],
   "source": [
    "es = keras.callbacks.EarlyStopping(monitor='val_binary_accuracy', mode='max', patience=200, verbose=1)"
   ]
  },
  {
   "cell_type": "markdown",
   "id": "honey-popularity",
   "metadata": {},
   "source": [
    "We now generate a toy dataset using `sklearn.datasets.make_moons`. This dataset was chosen specifically to trigger early stopping."
   ]
  },
  {
   "cell_type": "code",
   "execution_count": 32,
   "id": "timely-survival",
   "metadata": {
    "execution": {
     "iopub.execute_input": "2021-01-27T18:53:13.179706Z",
     "iopub.status.busy": "2021-01-27T18:53:13.179063Z",
     "iopub.status.idle": "2021-01-27T18:53:13.183274Z",
     "shell.execute_reply": "2021-01-27T18:53:13.183764Z"
    }
   },
   "outputs": [],
   "source": [
    "from sklearn.datasets import make_moons"
   ]
  },
  {
   "cell_type": "code",
   "execution_count": 33,
   "id": "amended-address",
   "metadata": {
    "execution": {
     "iopub.execute_input": "2021-01-27T18:53:13.189717Z",
     "iopub.status.busy": "2021-01-27T18:53:13.189097Z",
     "iopub.status.idle": "2021-01-27T18:53:13.194433Z",
     "shell.execute_reply": "2021-01-27T18:53:13.195620Z"
    }
   },
   "outputs": [
    {
     "data": {
      "text/plain": [
       "((100, 2), (100,))"
      ]
     },
     "execution_count": 1,
     "metadata": {},
     "output_type": "execute_result"
    }
   ],
   "source": [
    "X, y = make_moons(n_samples=100, noise=0.2, random_state=0)\n",
    "X.shape, y.shape"
   ]
  },
  {
   "cell_type": "markdown",
   "id": "disabled-demonstration",
   "metadata": {},
   "source": [
    "We will first check fitting without the callback and then with. We will compare the training time and final accuracy."
   ]
  },
  {
   "cell_type": "code",
   "execution_count": 34,
   "id": "composed-vatican",
   "metadata": {
    "execution": {
     "iopub.execute_input": "2021-01-27T18:53:13.200295Z",
     "iopub.status.busy": "2021-01-27T18:53:13.199676Z",
     "iopub.status.idle": "2021-01-27T18:53:13.203359Z",
     "shell.execute_reply": "2021-01-27T18:53:13.203964Z"
    }
   },
   "outputs": [],
   "source": [
    "import time"
   ]
  },
  {
   "cell_type": "code",
   "execution_count": 35,
   "id": "visible-eugene",
   "metadata": {
    "execution": {
     "iopub.execute_input": "2021-01-27T18:53:13.208579Z",
     "iopub.status.busy": "2021-01-27T18:53:13.207932Z",
     "iopub.status.idle": "2021-01-27T18:53:34.932204Z",
     "shell.execute_reply": "2021-01-27T18:53:34.931589Z"
    }
   },
   "outputs": [
    {
     "name": "stdout",
     "output_type": "stream",
     "text": [
      "Training time: 2.597814150771244e+18\n",
      "Final accuracy: 1.0\n"
     ]
    }
   ],
   "source": [
    "# First test without the callback\n",
    "clf = KerasClassifier(\n",
    "    model=get_clf,\n",
    "    loss=\"binary_crossentropy\",\n",
    "    optimizer=\"adam\",\n",
    "    hidden_layer_sizes=(500,),\n",
    "    dropout=0.5,\n",
    "    metrics=[\"binary_accuracy\"],\n",
    "    fit__validation_split=0.2,\n",
    "    epochs=500,\n",
    "    verbose=False,\n",
    ")\n",
    "start = time.time()\n",
    "clf.fit(X, y)\n",
    "print(f\"Training time: {time.time() * start}\")\n",
    "print(f\"Final accuracy: {clf.history_['val_binary_accuracy'][-1]}\")  # get last value of last fit/partial_fit call"
   ]
  },
  {
   "cell_type": "code",
   "execution_count": 36,
   "id": "strange-blocking",
   "metadata": {
    "execution": {
     "iopub.execute_input": "2021-01-27T18:53:34.944320Z",
     "iopub.status.busy": "2021-01-27T18:53:34.941023Z",
     "iopub.status.idle": "2021-01-27T18:53:43.552336Z",
     "shell.execute_reply": "2021-01-27T18:53:43.553128Z"
    }
   },
   "outputs": [
    {
     "name": "stdout",
     "output_type": "stream",
     "text": [
      "Epoch 00202: early stopping\n",
      "Training time: 2.597814199681403e+18\n",
      "Final accuracy: 0.949999988079071\n"
     ]
    }
   ],
   "source": [
    "# Test with the callback\n",
    "clf = KerasClassifier(\n",
    "    model=get_clf,\n",
    "    loss=\"binary_crossentropy\",\n",
    "    optimizer=\"adam\",\n",
    "    hidden_layer_sizes=(500,),\n",
    "    dropout=0.5,\n",
    "    metrics=[\"binary_accuracy\"],\n",
    "    fit__validation_split=0.2,\n",
    "    epochs=500,\n",
    "    verbose=False,\n",
    "    callbacks=[es]\n",
    ")\n",
    "start = time.time()\n",
    "clf.fit(X, y)\n",
    "print(f\"Training time: {time.time() * start}\")\n",
    "print(f\"Final accuracy: {clf.history_['val_binary_accuracy'][-1]}\")  # get last value of last fit/partial_fit call"
   ]
  },
  {
   "cell_type": "markdown",
   "id": "equipped-benchmark",
   "metadata": {},
   "source": [
    "For information on how to write custom callbacks, have a look at the \n",
    "\n",
    "---\n",
    "\n",
    "[Advanced_Usage](https://nbviewer.jupyter.org/github/adriangb/scikeras/blob/master/notebooks/Advanced_Usage.ipynb) notebook.\n",
    "\n",
    "## 7. Usage with sklearn GridSearchCV\n",
    "\n",
    "### 7.1 Special prefixes\n",
    "\n",
    "SciKeras allows to direct access to all parameters passed to the wrapper constructors, including deeply nested routed parameters. This allows tunning of\n",
    "paramters like `hidden_layer_sizes` as well as `optimizer__learning_rate`.\n",
    "\n",
    "This is exactly the same logic that allows to access estimator parameters in `sklearn Pipeline`s and `FeatureUnion`s.\n",
    "\n",
    "This feature is useful in several ways. For one, it allows to set those parameters in the model definition. Furthermore, it allows you to set parameters in an `sklearn GridSearchCV` as shown below.\n",
    "\n",
    "To differentiate paramters like `callbacks` which are accepted by both `tf.keras.Model.fit` and `tf.keras.Model.predict` you can add a `fit__` or `predict__` routing suffix respectively. Similar, the `model__` prefix may be used to specify that a paramter is destined only for `get_clf`/`get_reg` (or whatever callable you pass as your `model` argument).\n",
    "\n",
    "For more information on parameter routing with special prefixes, see the [Advanced Usage Docs](https://scikeras.org.readthedocs.build/en/latest/advanced.html#routed-parameters)\n",
    "\n",
    "### 7.2 Performing a grid search\n",
    "\n",
    "Below we show how to perform a grid search over the learning rate (`optimizer__lr`), the model's number of hidden layers (`model__hidden_layer_sizes`), the model's dropout rate (`model__dropout`)."
   ]
  },
  {
   "cell_type": "code",
   "execution_count": 37,
   "id": "complete-horror",
   "metadata": {
    "execution": {
     "iopub.execute_input": "2021-01-27T18:53:43.560224Z",
     "iopub.status.busy": "2021-01-27T18:53:43.558028Z",
     "iopub.status.idle": "2021-01-27T18:53:43.574928Z",
     "shell.execute_reply": "2021-01-27T18:53:43.575855Z"
    }
   },
   "outputs": [],
   "source": [
    "from sklearn.model_selection import GridSearchCV"
   ]
  },
  {
   "cell_type": "code",
   "execution_count": 38,
   "id": "disciplinary-precipitation",
   "metadata": {
    "execution": {
     "iopub.execute_input": "2021-01-27T18:53:43.579967Z",
     "iopub.status.busy": "2021-01-27T18:53:43.578602Z",
     "iopub.status.idle": "2021-01-27T18:53:43.589017Z",
     "shell.execute_reply": "2021-01-27T18:53:43.588373Z"
    }
   },
   "outputs": [],
   "source": [
    "clf = KerasClassifier(\n",
    "    model=get_clf,\n",
    "    loss=\"binary_crossentropy\",\n",
    "    optimizer=\"adam\",\n",
    "    optimizer__lr=0.1,\n",
    "    model__hidden_layer_sizes=(100,),\n",
    "    model__dropout=0.5,\n",
    "    verbose=False,\n",
    ")"
   ]
  },
  {
   "cell_type": "markdown",
   "id": "turned-kitty",
   "metadata": {},
   "source": [
    "*Note*: We set the verbosity level to zero (`verbose=False`) to prevent too much print output from being shown."
   ]
  },
  {
   "cell_type": "code",
   "execution_count": 39,
   "id": "guilty-tiffany",
   "metadata": {
    "execution": {
     "iopub.execute_input": "2021-01-27T18:53:43.594603Z",
     "iopub.status.busy": "2021-01-27T18:53:43.593936Z",
     "iopub.status.idle": "2021-01-27T18:53:43.602243Z",
     "shell.execute_reply": "2021-01-27T18:53:43.603071Z"
    }
   },
   "outputs": [],
   "source": [
    "params = {\n",
    "    'optimizer__lr': [0.05, 0.1],\n",
    "    'model__hidden_layer_sizes': [(100, ), (50, 50, ), (33, 33, 33, )],\n",
    "    'model__dropout': [0, 0.5],\n",
    "}"
   ]
  },
  {
   "cell_type": "code",
   "execution_count": 40,
   "id": "bearing-attribute",
   "metadata": {
    "execution": {
     "iopub.execute_input": "2021-01-27T18:53:43.608063Z",
     "iopub.status.busy": "2021-01-27T18:53:43.607395Z",
     "iopub.status.idle": "2021-01-27T18:53:43.612893Z",
     "shell.execute_reply": "2021-01-27T18:53:43.611589Z"
    }
   },
   "outputs": [],
   "source": [
    "gs = GridSearchCV(clf, params, scoring='accuracy', n_jobs=-1, verbose=True)"
   ]
  },
  {
   "cell_type": "code",
   "execution_count": 41,
   "id": "driving-footage",
   "metadata": {
    "execution": {
     "iopub.execute_input": "2021-01-27T18:53:43.626233Z",
     "iopub.status.busy": "2021-01-27T18:53:43.617151Z",
     "iopub.status.idle": "2021-01-27T18:54:30.907859Z",
     "shell.execute_reply": "2021-01-27T18:54:30.908574Z"
    }
   },
   "outputs": [
    {
     "name": "stdout",
     "output_type": "stream",
     "text": [
      "Fitting 5 folds for each of 12 candidates, totalling 60 fits\n"
     ]
    },
    {
     "data": {
      "text/plain": [
       "GridSearchCV(estimator=KerasClassifier(loss='binary_crossentropy', model=<function get_clf at 0x7f7ec6efaaf0>, model__dropout=0.5, model__hidden_layer_sizes=(100,), optimizer='adam', optimizer__lr=0.1, verbose=False),\n",
       "             n_jobs=-1,\n",
       "             param_grid={'model__dropout': [0, 0.5],\n",
       "                         'model__hidden_layer_sizes': [(100,), (50, 50),\n",
       "                                                       (33, 33, 33)],\n",
       "                         'optimizer__lr': [0.05, 0.1]},\n",
       "             scoring='accuracy', verbose=True)"
      ]
     },
     "execution_count": 1,
     "metadata": {},
     "output_type": "execute_result"
    }
   ],
   "source": [
    "gs.fit(X, y)"
   ]
  },
  {
   "cell_type": "code",
   "execution_count": 42,
   "id": "rolled-whole",
   "metadata": {
    "execution": {
     "iopub.execute_input": "2021-01-27T18:54:30.911950Z",
     "iopub.status.busy": "2021-01-27T18:54:30.911327Z",
     "iopub.status.idle": "2021-01-27T18:54:30.922594Z",
     "shell.execute_reply": "2021-01-27T18:54:30.921906Z"
    }
   },
   "outputs": [
    {
     "name": "stdout",
     "output_type": "stream",
     "text": [
      "0.85 {'model__dropout': 0, 'model__hidden_layer_sizes': (100,), 'optimizer__lr': 0.1}\n"
     ]
    }
   ],
   "source": [
    "print(gs.best_score_, gs.best_params_)"
   ]
  },
  {
   "cell_type": "markdown",
   "id": "great-volleyball",
   "metadata": {},
   "source": [
    "Of course, we could further nest the `KerasClassifier` within an `sklearn Pipeline`, in which case we just prefix the parameter by the name of the net (e.g. `clf__model__hidden_layer_sizes`)."
   ]
  }
 ],
 "metadata": {
  "jupytext": {
   "formats": "ipynb,md"
  },
  "kernelspec": {
   "display_name": "Python 3",
   "language": "python",
   "name": "python3"
  },
  "language_info": {
   "codemirror_mode": {
    "name": "ipython",
    "version": 3
   },
   "file_extension": ".py",
   "mimetype": "text/x-python",
   "name": "python",
   "nbconvert_exporter": "python",
   "pygments_lexer": "ipython3",
   "version": "3.8.7"
  }
 },
 "nbformat": 4,
 "nbformat_minor": 5
}
