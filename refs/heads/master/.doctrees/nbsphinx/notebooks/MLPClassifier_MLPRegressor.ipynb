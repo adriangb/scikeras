{
 "cells": [
  {
   "cell_type": "raw",
   "id": "passing-butter",
   "metadata": {},
   "source": [
    "<a href=\"https://colab.research.google.com/github/adriangb/scikeras/blob/docs-deploy/refs/heads/master/notebooks/MLPClassifier_MLPRegressor.ipynb\"><img src=\"https://www.tensorflow.org/images/colab_logo_32px.png\">Run in Google Colab</a>"
   ]
  },
  {
   "cell_type": "markdown",
   "id": "alive-fireplace",
   "metadata": {},
   "source": [
    "# MLPClassifier and MLPRegressor in SciKeras\n",
    "\n",
    "SciKeras is a bridge between Keras and Scikit-Learn. As such, one of SciKeras' design goals is to be able to create a Scikit-Learn style estimator backed by Keras.\n",
    "\n",
    "This notebook implements an estimator that is analogous to `sklearn.neural_network.MLPClassifier` using Keras. This estimator should (for the most part) work as a drop-in replacement for `MLPClassifier`!\n",
    "\n",
    "## Table of contents\n",
    "\n",
    "* [1. Setup](#1.-Setup)\n",
    "* [2. Defining the Keras Model](#2.-Defining-the-Keras-Model)\n",
    "  * [2.1 Inputs](#2.1-Inputs)\n",
    "  * [2.2 Hidden layers](#2.2-Hidden-layers)\n",
    "  * [2.3 Output layers](#2.3-Output-layers)\n",
    "  * [2.4 Losses and optimizer](#2.4-Losses-and-optimizer)\n",
    "  * [2.5 Wrapping with SciKeras](#2.5-Wrapping-with-SciKeras)\n",
    "* [3. Testing our classifier](#3.-Testing-our-classifier)\n",
    "* [4. Self contained MLPClassifier](#4.-Self-contained-MLPClassifier)\n",
    "  * [4.1 Subclassing](#4.1-Subclassing)\n",
    "* [5. MLPRegressor](#5.-MLPRegressor)\n",
    "\n",
    "## 1. Setup"
   ]
  },
  {
   "cell_type": "code",
   "execution_count": 1,
   "id": "prerequisite-spyware",
   "metadata": {
    "execution": {
     "iopub.execute_input": "2021-01-27T06:12:53.562866Z",
     "iopub.status.busy": "2021-01-27T06:12:53.562049Z",
     "iopub.status.idle": "2021-01-27T06:12:55.251753Z",
     "shell.execute_reply": "2021-01-27T06:12:55.252717Z"
    }
   },
   "outputs": [],
   "source": [
    "try:\n",
    "    import scikeras\n",
    "except ImportError:\n",
    "    !python -m pip install scikeras"
   ]
  },
  {
   "cell_type": "markdown",
   "id": "sweet-group",
   "metadata": {},
   "source": [
    "Silence TensorFlow logging to keep output succinct."
   ]
  },
  {
   "cell_type": "code",
   "execution_count": 2,
   "id": "according-scout",
   "metadata": {
    "execution": {
     "iopub.execute_input": "2021-01-27T06:12:55.255812Z",
     "iopub.status.busy": "2021-01-27T06:12:55.255162Z",
     "iopub.status.idle": "2021-01-27T06:12:55.258811Z",
     "shell.execute_reply": "2021-01-27T06:12:55.259425Z"
    }
   },
   "outputs": [],
   "source": [
    "import warnings\n",
    "from tensorflow import get_logger\n",
    "get_logger().setLevel('ERROR')\n",
    "warnings.filterwarnings(\"ignore\", message=\"Setting the random state for TF\")"
   ]
  },
  {
   "cell_type": "code",
   "execution_count": 3,
   "id": "surprising-edinburgh",
   "metadata": {
    "execution": {
     "iopub.execute_input": "2021-01-27T06:12:55.261935Z",
     "iopub.status.busy": "2021-01-27T06:12:55.261322Z",
     "iopub.status.idle": "2021-01-27T06:12:55.747652Z",
     "shell.execute_reply": "2021-01-27T06:12:55.748241Z"
    }
   },
   "outputs": [],
   "source": [
    "import numpy as np\n",
    "from scikeras.wrappers import KerasClassifier, KerasRegressor\n",
    "from tensorflow import keras"
   ]
  },
  {
   "cell_type": "markdown",
   "id": "usual-playback",
   "metadata": {},
   "source": [
    "## 2. Defining the Keras Model\n",
    "\n",
    "First, we outline our model building function, using a `Sequential` Model:"
   ]
  },
  {
   "cell_type": "code",
   "execution_count": 4,
   "id": "identical-inquiry",
   "metadata": {
    "execution": {
     "iopub.execute_input": "2021-01-27T06:12:55.751262Z",
     "iopub.status.busy": "2021-01-27T06:12:55.750636Z",
     "iopub.status.idle": "2021-01-27T06:12:55.754082Z",
     "shell.execute_reply": "2021-01-27T06:12:55.754585Z"
    }
   },
   "outputs": [],
   "source": [
    "def get_clf_model():\n",
    "    model = keras.Sequential()\n",
    "    return model"
   ]
  },
  {
   "cell_type": "markdown",
   "id": "accomplished-sewing",
   "metadata": {},
   "source": [
    "### 2.1 Inputs\n",
    "\n",
    "We need to define an input layer for Keras. SciKeras allows you to dynamically determine the input size based on the features (`X`). To do this, you need to add the `meta` parameter to `get_clf_model`'s parameters. `meta` will be a dictionary with all of the `meta` attributes that `KerasClassifier` generates during the `fit` call, including `n_features_in_`, which we will use to dynamically size the input layer."
   ]
  },
  {
   "cell_type": "code",
   "execution_count": 5,
   "id": "antique-hammer",
   "metadata": {
    "execution": {
     "iopub.execute_input": "2021-01-27T06:12:55.757211Z",
     "iopub.status.busy": "2021-01-27T06:12:55.756624Z",
     "iopub.status.idle": "2021-01-27T06:12:55.760745Z",
     "shell.execute_reply": "2021-01-27T06:12:55.761235Z"
    }
   },
   "outputs": [],
   "source": [
    "from typing import Dict, Iterable, Any\n",
    "\n",
    "\n",
    "def get_clf_model(meta: Dict[str, Any]):\n",
    "    model = keras.Sequential()\n",
    "    inp = keras.layers.Input(shape=(meta[\"n_features_in_\"]))\n",
    "    model.add(inp)\n",
    "    return model"
   ]
  },
  {
   "cell_type": "markdown",
   "id": "atlantic-scratch",
   "metadata": {},
   "source": [
    "### 2.2 Hidden Layers\n",
    "\n",
    "Multilayer perceptrons are generally composed of an input layer, an output layer and 0 or more hidden layers. The size of the hidden layers is specified via the `hidden_layer_sizes` parameter in MLClassifier, where the the ith element represents the number of neurons in the ith hidden layer. Let's add that parameter:"
   ]
  },
  {
   "cell_type": "code",
   "execution_count": 6,
   "id": "frank-feeling",
   "metadata": {
    "execution": {
     "iopub.execute_input": "2021-01-27T06:12:55.766962Z",
     "iopub.status.busy": "2021-01-27T06:12:55.766257Z",
     "iopub.status.idle": "2021-01-27T06:12:55.770404Z",
     "shell.execute_reply": "2021-01-27T06:12:55.769928Z"
    }
   },
   "outputs": [],
   "source": [
    "def get_clf_model(hidden_layer_sizes: Iterable[int], meta: Dict[str, Any]):\n",
    "    model = keras.Sequential()\n",
    "    inp = keras.layers.Input(shape=(meta[\"n_features_in_\"]))\n",
    "    model.add(inp)\n",
    "    for hidden_layer_size in hidden_layer_sizes:\n",
    "        layer = keras.layers.Dense(hidden_layer_size, activation=\"relu\")\n",
    "        model.add(layer)\n",
    "    return model"
   ]
  },
  {
   "cell_type": "markdown",
   "id": "gorgeous-stomach",
   "metadata": {},
   "source": [
    "### 2.3 Output layers\n",
    "\n",
    "The output layer needs to reflect the type of classification task being performed. Here, we will handle 2 cases:\n",
    "\n",
    "- binary classification: single output unit with sigmoid activation\n",
    "- multiclass classification: one output unit for each class, with softmax activation\n",
    "The main complication arises from determining which one to use. Like with the input features, SciKeras provides useful information on the target within the `meta` parameter. Specifically, we will use the `n_classes_` and `target_type_` attributes to determine the number of output units and activation function."
   ]
  },
  {
   "cell_type": "code",
   "execution_count": 7,
   "id": "contrary-possibility",
   "metadata": {
    "execution": {
     "iopub.execute_input": "2021-01-27T06:12:55.778245Z",
     "iopub.status.busy": "2021-01-27T06:12:55.777527Z",
     "iopub.status.idle": "2021-01-27T06:12:55.780952Z",
     "shell.execute_reply": "2021-01-27T06:12:55.781408Z"
    }
   },
   "outputs": [],
   "source": [
    "def get_clf_model(hidden_layer_sizes: Iterable[int], meta: Dict[str, Any]):\n",
    "    model = keras.Sequential()\n",
    "    inp = keras.layers.Input(shape=(meta[\"n_features_in_\"]))\n",
    "    model.add(inp)\n",
    "    for hidden_layer_size in hidden_layer_sizes:\n",
    "        layer = keras.layers.Dense(hidden_layer_size, activation=\"relu\")\n",
    "        model.add(layer)\n",
    "    if meta[\"target_type_\"] == \"binary\":\n",
    "        n_output_units = 1\n",
    "        output_activation = \"sigmoid\"\n",
    "    elif meta[\"target_type_\"] == \"multiclass\":\n",
    "        n_output_units = meta[\"n_classes_\"]\n",
    "        output_activation = \"softmax\"\n",
    "    else:\n",
    "        raise NotImplementedError(f\"Unsupported task type: {meta['target_type_']}\")\n",
    "    out = keras.layers.Dense(n_output_units, activation=output_activation)\n",
    "    model.add(out)\n",
    "    return model"
   ]
  },
  {
   "cell_type": "markdown",
   "id": "cosmetic-assessment",
   "metadata": {},
   "source": [
    "For now, we raise a `NotImplementedError` for other target types. For an example handling multi-output target types, see the [Multi Output notebook](https://colab.research.google.com/github/adriangb/scikeras/blob/master/notebooks/MultiInput.ipynb).\n",
    "\n",
    "### 2.4 Losses and optimizer\n",
    "\n",
    "Like the output layer, the loss must match the type of classification task. Generally, it is easier and safet to allow SciKeras to compile your model for you by passing the loss to `KerasClassifier` directly (`KerasClassifier(loss=\"binary_crossentropy\")`). However, in order to implement custom logic around the choice of loss function, we compile the model ourselves within `get_clf_model`; SciKeras will not re-compile the model."
   ]
  },
  {
   "cell_type": "code",
   "execution_count": 8,
   "id": "delayed-defendant",
   "metadata": {
    "execution": {
     "iopub.execute_input": "2021-01-27T06:12:55.790724Z",
     "iopub.status.busy": "2021-01-27T06:12:55.790053Z",
     "iopub.status.idle": "2021-01-27T06:12:55.794479Z",
     "shell.execute_reply": "2021-01-27T06:12:55.795055Z"
    }
   },
   "outputs": [],
   "source": [
    "def get_clf_model(hidden_layer_sizes: Iterable[int], meta: Dict[str, Any]):\n",
    "    model = keras.Sequential()\n",
    "    inp = keras.layers.Input(shape=(meta[\"n_features_in_\"]))\n",
    "    model.add(inp)\n",
    "    for hidden_layer_size in hidden_layer_sizes:\n",
    "        layer = keras.layers.Dense(hidden_layer_size, activation=\"relu\")\n",
    "        model.add(layer)\n",
    "    if meta[\"target_type_\"] == \"binary\":\n",
    "        n_output_units = 1\n",
    "        output_activation = \"sigmoid\"\n",
    "        loss = \"binary_crossentropy\"\n",
    "    elif meta[\"target_type_\"] == \"multiclass\":\n",
    "        n_output_units = meta[\"n_classes_\"]\n",
    "        output_activation = \"softmax\"\n",
    "        loss = \"sparse_categorical_crossentropy\"\n",
    "    else:\n",
    "        raise NotImplementedError(f\"Unsupported task type: {meta['target_type_']}\")\n",
    "    out = keras.layers.Dense(n_output_units, activation=output_activation)\n",
    "    model.add(out)\n",
    "    model.compile(loss=loss)\n",
    "    return model"
   ]
  },
  {
   "cell_type": "markdown",
   "id": "baking-reference",
   "metadata": {},
   "source": [
    "At this point, we have a valid, compiled model. However if we want to be able to tune the optimizer, we should accept `compile_kwargs` as a parameter in `get_clf_model`. `compile_kwargs` will be a dictionary containing valid `kwargs` for `Model.compile`, so we can unpack it directly like `model.compile(**compile_kwargs)`. In this case however, we will only be taking the `optimizer` kwarg."
   ]
  },
  {
   "cell_type": "code",
   "execution_count": 9,
   "id": "suffering-candy",
   "metadata": {
    "execution": {
     "iopub.execute_input": "2021-01-27T06:12:55.803544Z",
     "iopub.status.busy": "2021-01-27T06:12:55.802555Z",
     "iopub.status.idle": "2021-01-27T06:12:55.806334Z",
     "shell.execute_reply": "2021-01-27T06:12:55.807199Z"
    }
   },
   "outputs": [],
   "source": [
    "def get_clf_model(hidden_layer_sizes: Iterable[int], meta: Dict[str, Any], compile_kwargs: Dict[str, Any]):\n",
    "    model = keras.Sequential()\n",
    "    inp = keras.layers.Input(shape=(meta[\"n_features_in_\"]))\n",
    "    model.add(inp)\n",
    "    for hidden_layer_size in hidden_layer_sizes:\n",
    "        layer = keras.layers.Dense(hidden_layer_size, activation=\"relu\")\n",
    "        model.add(layer)\n",
    "    if meta[\"target_type_\"] == \"binary\":\n",
    "        n_output_units = 1\n",
    "        output_activation = \"sigmoid\"\n",
    "        loss = \"binary_crossentropy\"\n",
    "    elif meta[\"target_type_\"] == \"multiclass\":\n",
    "        n_output_units = meta[\"n_classes_\"]\n",
    "        output_activation = \"softmax\"\n",
    "        loss = \"sparse_categorical_crossentropy\"\n",
    "    else:\n",
    "        raise NotImplementedError(f\"Unsupported task type: {meta['target_type_']}\")\n",
    "    out = keras.layers.Dense(n_output_units, activation=output_activation)\n",
    "    model.add(out)\n",
    "    model.compile(loss=loss, optimizer=compile_kwargs[\"optimizer\"])\n",
    "    return model"
   ]
  },
  {
   "cell_type": "markdown",
   "id": "laughing-headquarters",
   "metadata": {},
   "source": [
    "### 2.5 Wrapping with SciKeras\n",
    "\n",
    "Our last step in defining our model is to wrap it with SciKeras. A couple of things to note are:\n",
    "- Every user-defined parameter in `model`/`get_clf_model` (in our case just `hidden_layer_sizes`) must be defined as a keyword argument to `KerasClassifier` with a default value.\n",
    "- Keras defaults to `\"rmsprop\"` for `optimizer`. We set it to `\"adam\"` to mimic MLPClassifier.\n",
    "- We set the learning rate for the optimizer to `0.001`, again to mimic MLPClassifier. We set this parameter using [parameter routing](https://scikeras.readthedocs.io/en/latest/advanced.html#routed-parameters).\n",
    "- Other parameters, such as `activation`, can be added similar to `hidden_layer_sizes`, but we omit them here for simplicity."
   ]
  },
  {
   "cell_type": "code",
   "execution_count": 10,
   "id": "shaped-dialogue",
   "metadata": {
    "execution": {
     "iopub.execute_input": "2021-01-27T06:12:55.811941Z",
     "iopub.status.busy": "2021-01-27T06:12:55.811278Z",
     "iopub.status.idle": "2021-01-27T06:12:55.816230Z",
     "shell.execute_reply": "2021-01-27T06:12:55.815695Z"
    }
   },
   "outputs": [],
   "source": [
    "clf = KerasClassifier(\n",
    "    model=get_clf_model,\n",
    "    hidden_layer_sizes=(100, ),\n",
    "    optimizer=\"adam\",\n",
    "    optimizer__learning_rate=0.001,\n",
    "    epochs=200,\n",
    "    verbose=0,\n",
    ")"
   ]
  },
  {
   "cell_type": "markdown",
   "id": "comfortable-religion",
   "metadata": {},
   "source": [
    "## 3. Testing our classifier\n",
    "\n",
    "Before continouing, we will run a small test to make sure we get somewhat reasonable results."
   ]
  },
  {
   "cell_type": "code",
   "execution_count": 11,
   "id": "simple-sustainability",
   "metadata": {
    "execution": {
     "iopub.execute_input": "2021-01-27T06:12:55.822265Z",
     "iopub.status.busy": "2021-01-27T06:12:55.821126Z",
     "iopub.status.idle": "2021-01-27T06:12:55.864510Z",
     "shell.execute_reply": "2021-01-27T06:12:55.865604Z"
    }
   },
   "outputs": [],
   "source": [
    "from sklearn.datasets import make_classification\n",
    "from sklearn.model_selection import cross_val_score"
   ]
  },
  {
   "cell_type": "code",
   "execution_count": 12,
   "id": "binding-holmes",
   "metadata": {
    "execution": {
     "iopub.execute_input": "2021-01-27T06:12:55.868467Z",
     "iopub.status.busy": "2021-01-27T06:12:55.867797Z",
     "iopub.status.idle": "2021-01-27T06:13:03.515389Z",
     "shell.execute_reply": "2021-01-27T06:13:03.514475Z"
    }
   },
   "outputs": [
    {
     "name": "stdout",
     "output_type": "stream",
     "text": [
      "0.8\n"
     ]
    }
   ],
   "source": [
    "X, y = make_classification()\n",
    "\n",
    "# check that fit works\n",
    "clf.fit(X, y)\n",
    "# check cross-validation score\n",
    "print(np.mean(cross_val_score(clf, X, y)))"
   ]
  },
  {
   "cell_type": "markdown",
   "id": "traditional-marker",
   "metadata": {},
   "source": [
    "We get a score above 0.7, which is reasonable and indicates that our classifier is generally working.\n",
    "\n",
    "## 4. Self contained MLPClassifier\n",
    "\n",
    "You will have noticed that up until now, we define our Keras model in a function and pass that function to `KerasClassifier` via the `model` argument.\n",
    "\n",
    "This is convenient, but it does not give us a self-contained class that we could package within a module for users to instantiate. To do that, we need to subclass `KerasClassifier`.\n",
    "\n",
    "### 4.1 Subclassing\n",
    "\n",
    "By subclassing KerasClassifier, you can embed your Keras model into directly into your estimator class. We start by inheriting from KerasClassifier and defining an `__init__` method with all of our parameters."
   ]
  },
  {
   "cell_type": "code",
   "execution_count": 13,
   "id": "minute-summer",
   "metadata": {
    "execution": {
     "iopub.execute_input": "2021-01-27T06:13:03.519254Z",
     "iopub.status.busy": "2021-01-27T06:13:03.518143Z",
     "iopub.status.idle": "2021-01-27T06:13:03.524809Z",
     "shell.execute_reply": "2021-01-27T06:13:03.525623Z"
    }
   },
   "outputs": [],
   "source": [
    "class MLPClassifier(KerasClassifier):\n",
    "\n",
    "    def __init__(\n",
    "        self,\n",
    "        hidden_layer_sizes=(100, ),\n",
    "        optimizer=\"adam\",\n",
    "        optimizer__learning_rate=0.001,\n",
    "        epochs=200,\n",
    "        verbose=0,\n",
    "        **kwargs\n",
    "    ):\n",
    "        super().__init__(**kwargs)\n",
    "        self.hidden_layer_sizes = hidden_layer_sizes\n",
    "        self.optimizer = optimizer\n",
    "        self.epochs = epochs\n",
    "        self.verbose = verbose"
   ]
  },
  {
   "cell_type": "markdown",
   "id": "deluxe-polls",
   "metadata": {},
   "source": [
    "Next, we will embed our model into `_keras_build_fn`, which takes the place of `get_clf_model`. Note that since this is now an part of the model, we no longer need to accept the any parameters in the function signature. We still accept `compile_kwargs` because we use it to get the optimizer initialized with all of it's parameters."
   ]
  },
  {
   "cell_type": "code",
   "execution_count": 14,
   "id": "indie-issue",
   "metadata": {
    "execution": {
     "iopub.execute_input": "2021-01-27T06:13:03.529592Z",
     "iopub.status.busy": "2021-01-27T06:13:03.528336Z",
     "iopub.status.idle": "2021-01-27T06:13:03.539109Z",
     "shell.execute_reply": "2021-01-27T06:13:03.540693Z"
    }
   },
   "outputs": [],
   "source": [
    "class MLPClassifier(KerasClassifier):\n",
    "\n",
    "    def __init__(\n",
    "        self,\n",
    "        hidden_layer_sizes=(100, ),\n",
    "        optimizer=\"adam\",\n",
    "        optimizer__learning_rate=0.001,\n",
    "        epochs=200,\n",
    "        verbose=0,\n",
    "        **kwargs,\n",
    "    ):\n",
    "        super().__init__(**kwargs)\n",
    "        self.hidden_layer_sizes = hidden_layer_sizes\n",
    "        self.optimizer = optimizer\n",
    "        self.epochs = epochs\n",
    "        self.verbose = verbose\n",
    "\n",
    "    def _keras_build_fn(self, compile_kwargs: Dict[str, Any]):\n",
    "        model = keras.Sequential()\n",
    "        inp = keras.layers.Input(shape=(self.n_features_in_))\n",
    "        model.add(inp)\n",
    "        for hidden_layer_size in self.hidden_layer_sizes:\n",
    "            layer = keras.layers.Dense(hidden_layer_size, activation=\"relu\")\n",
    "            model.add(layer)\n",
    "        if self.target_type_ == \"binary\":\n",
    "            n_output_units = 1\n",
    "            output_activation = \"sigmoid\"\n",
    "            loss = \"binary_crossentropy\"\n",
    "        elif self.target_type_ == \"multiclass\":\n",
    "            n_output_units = self.n_classes_\n",
    "            output_activation = \"softmax\"\n",
    "            loss = \"sparse_categorical_crossentropy\"\n",
    "        else:\n",
    "            raise NotImplementedError(f\"Unsupported task type: {self.target_type_}\")\n",
    "        out = keras.layers.Dense(n_output_units, activation=output_activation)\n",
    "        model.add(out)\n",
    "        model.compile(loss=loss, optimizer=compile_kwargs[\"optimizer\"])\n",
    "        return model"
   ]
  },
  {
   "cell_type": "markdown",
   "id": "composite-maldives",
   "metadata": {},
   "source": [
    "Let's check that our subclassed model works:"
   ]
  },
  {
   "cell_type": "code",
   "execution_count": 15,
   "id": "dynamic-police",
   "metadata": {
    "execution": {
     "iopub.execute_input": "2021-01-27T06:13:03.544532Z",
     "iopub.status.busy": "2021-01-27T06:13:03.543385Z",
     "iopub.status.idle": "2021-01-27T06:13:10.045958Z",
     "shell.execute_reply": "2021-01-27T06:13:10.044929Z"
    }
   },
   "outputs": [
    {
     "name": "stdout",
     "output_type": "stream",
     "text": [
      "0.8\n"
     ]
    }
   ],
   "source": [
    "clf = MLPClassifier()\n",
    "\n",
    "# check cross-validation score\n",
    "print(np.mean(cross_val_score(clf, X, y)))"
   ]
  },
  {
   "cell_type": "markdown",
   "id": "charged-migration",
   "metadata": {},
   "source": [
    "## 5. MLPRegressor\n",
    "\n",
    "The process for MLPRegressor is similar, we only change the loss function and output layers."
   ]
  },
  {
   "cell_type": "code",
   "execution_count": 16,
   "id": "aware-tenant",
   "metadata": {
    "execution": {
     "iopub.execute_input": "2021-01-27T06:13:10.050414Z",
     "iopub.status.busy": "2021-01-27T06:13:10.048761Z",
     "iopub.status.idle": "2021-01-27T06:13:10.058448Z",
     "shell.execute_reply": "2021-01-27T06:13:10.059307Z"
    }
   },
   "outputs": [],
   "source": [
    "class MLPRegressor(KerasRegressor):\n",
    "\n",
    "    def __init__(\n",
    "        self,\n",
    "        hidden_layer_sizes=(100, ),\n",
    "        optimizer=\"adam\",\n",
    "        optimizer__learning_rate=0.001,\n",
    "        epochs=200,\n",
    "        verbose=0,\n",
    "        **kwargs,\n",
    "    ):\n",
    "        super().__init__(**kwargs)\n",
    "        self.hidden_layer_sizes = hidden_layer_sizes\n",
    "        self.optimizer = optimizer\n",
    "        self.epochs = epochs\n",
    "        self.verbose = verbose\n",
    "\n",
    "    def _keras_build_fn(self, compile_kwargs: Dict[str, Any]):\n",
    "        model = keras.Sequential()\n",
    "        inp = keras.layers.Input(shape=(self.n_features_in_))\n",
    "        model.add(inp)\n",
    "        for hidden_layer_size in self.hidden_layer_sizes:\n",
    "            layer = keras.layers.Dense(hidden_layer_size, activation=\"relu\")\n",
    "            model.add(layer)\n",
    "        out = keras.layers.Dense(1)\n",
    "        model.add(out)\n",
    "        model.compile(loss=\"mse\", optimizer=compile_kwargs[\"optimizer\"])\n",
    "        return model"
   ]
  },
  {
   "cell_type": "code",
   "execution_count": 17,
   "id": "angry-platinum",
   "metadata": {
    "execution": {
     "iopub.execute_input": "2021-01-27T06:13:10.063307Z",
     "iopub.status.busy": "2021-01-27T06:13:10.062010Z",
     "iopub.status.idle": "2021-01-27T06:13:10.067113Z",
     "shell.execute_reply": "2021-01-27T06:13:10.067827Z"
    }
   },
   "outputs": [],
   "source": [
    "from sklearn.datasets import make_regression"
   ]
  },
  {
   "cell_type": "code",
   "execution_count": 18,
   "id": "fiscal-wholesale",
   "metadata": {
    "execution": {
     "iopub.execute_input": "2021-01-27T06:13:10.079735Z",
     "iopub.status.busy": "2021-01-27T06:13:10.075625Z",
     "iopub.status.idle": "2021-01-27T06:13:11.410415Z",
     "shell.execute_reply": "2021-01-27T06:13:11.411292Z"
    }
   },
   "outputs": [
    {
     "data": {
      "text/plain": [
       "0.9996970657679654"
      ]
     },
     "execution_count": 1,
     "metadata": {},
     "output_type": "execute_result"
    }
   ],
   "source": [
    "reg = MLPRegressor()\n",
    "\n",
    "# Define a simple linear relationship\n",
    "y = np.arange(100)\n",
    "X = (y/2).reshape(-1, 1)\n",
    "\n",
    "# check score\n",
    "reg.fit(X, y).score(X, y)"
   ]
  }
 ],
 "metadata": {
  "jupytext": {
   "formats": "ipynb,md"
  },
  "kernelspec": {
   "display_name": "Python 3",
   "language": "python",
   "name": "python3"
  },
  "language_info": {
   "codemirror_mode": {
    "name": "ipython",
    "version": 3
   },
   "file_extension": ".py",
   "mimetype": "text/x-python",
   "name": "python",
   "nbconvert_exporter": "python",
   "pygments_lexer": "ipython3",
   "version": "3.8.6"
  }
 },
 "nbformat": 4,
 "nbformat_minor": 5
}
