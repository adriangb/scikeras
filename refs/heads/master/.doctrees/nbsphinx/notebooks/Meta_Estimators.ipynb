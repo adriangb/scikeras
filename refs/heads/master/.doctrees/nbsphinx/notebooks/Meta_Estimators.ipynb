{
 "cells": [
  {
   "cell_type": "raw",
   "id": "failing-volunteer",
   "metadata": {},
   "source": [
    "<a href=\"https://colab.research.google.com/github/adriangb/scikeras/blob/docs-deploy/refs/heads/master/notebooks/Meta_Estimators.ipynb\"><img src=\"https://www.tensorflow.org/images/colab_logo_32px.png\">Run in Google Colab</a>"
   ]
  },
  {
   "cell_type": "markdown",
   "id": "christian-disability",
   "metadata": {},
   "source": [
    "# Meta Estimators in SciKeras\n",
    "\n",
    "In this notebook, we implement sklearn ensemble and tree meta-estimators backed by a Keras MLP model.\n",
    "\n",
    "## Table of contents\n",
    "\n",
    "* [1. Setup](#1.-Setup)\n",
    "* [2. Defining the Keras Model](#2.-Defining-the-Keras-Model)\n",
    "  * [2.1 Building a boosting ensemble](#2.1-Building-a-boosting-ensemble)\n",
    "* [3. Testing with a toy dataset](#3.-Testing-with-a-toy-dataset)\n",
    "* [4. Bagging ensemble](#4.-Bagging-ensemble)\n",
    "\n",
    "## 1. Setup"
   ]
  },
  {
   "cell_type": "code",
   "execution_count": 1,
   "id": "norman-cooper",
   "metadata": {
    "execution": {
     "iopub.execute_input": "2021-01-31T00:54:36.192130Z",
     "iopub.status.busy": "2021-01-31T00:54:36.191519Z",
     "iopub.status.idle": "2021-01-31T00:54:38.050997Z",
     "shell.execute_reply": "2021-01-31T00:54:38.052860Z"
    }
   },
   "outputs": [],
   "source": [
    "try:\n",
    "    import scikeras\n",
    "except ImportError:\n",
    "    !python -m pip install scikeras"
   ]
  },
  {
   "cell_type": "markdown",
   "id": "latest-alcohol",
   "metadata": {},
   "source": [
    "Silence TensorFlow logging to keep output succinct."
   ]
  },
  {
   "cell_type": "code",
   "execution_count": 2,
   "id": "exterior-maria",
   "metadata": {
    "execution": {
     "iopub.execute_input": "2021-01-31T00:54:38.056401Z",
     "iopub.status.busy": "2021-01-31T00:54:38.055498Z",
     "iopub.status.idle": "2021-01-31T00:54:38.059302Z",
     "shell.execute_reply": "2021-01-31T00:54:38.059799Z"
    }
   },
   "outputs": [],
   "source": [
    "import warnings\n",
    "from tensorflow import get_logger\n",
    "get_logger().setLevel('ERROR')\n",
    "warnings.filterwarnings(\"ignore\", message=\"Setting the random state for TF\")"
   ]
  },
  {
   "cell_type": "code",
   "execution_count": 3,
   "id": "worst-document",
   "metadata": {
    "execution": {
     "iopub.execute_input": "2021-01-31T00:54:38.064267Z",
     "iopub.status.busy": "2021-01-31T00:54:38.063594Z",
     "iopub.status.idle": "2021-01-31T00:54:38.551779Z",
     "shell.execute_reply": "2021-01-31T00:54:38.558390Z"
    }
   },
   "outputs": [],
   "source": [
    "import numpy as np\n",
    "from scikeras.wrappers import KerasClassifier, KerasRegressor\n",
    "from tensorflow import keras"
   ]
  },
  {
   "cell_type": "markdown",
   "id": "prospective-designation",
   "metadata": {},
   "source": [
    "## 2. Defining the Keras Model\n",
    "\n",
    "We borrow our MLPClassifier implementation from the [MLPClassifier notebook](https://colab.research.google.com/github/adriangb/scikeras/blob/master/notebooks/MLPClassifier_and_MLPRegressor.ipynb)."
   ]
  },
  {
   "cell_type": "code",
   "execution_count": 4,
   "id": "expected-quest",
   "metadata": {
    "execution": {
     "iopub.execute_input": "2021-01-31T00:54:38.567120Z",
     "iopub.status.busy": "2021-01-31T00:54:38.566454Z",
     "iopub.status.idle": "2021-01-31T00:54:38.578318Z",
     "shell.execute_reply": "2021-01-31T00:54:38.577271Z"
    }
   },
   "outputs": [],
   "source": [
    "from typing import Dict, Iterable, Any\n",
    "\n",
    "\n",
    "def get_clf_model(hidden_layer_sizes: Iterable[int], meta: Dict[str, Any], compile_kwargs: Dict[str, Any]):\n",
    "    model = keras.Sequential()\n",
    "    inp = keras.layers.Input(shape=(meta[\"n_features_in_\"]))\n",
    "    model.add(inp)\n",
    "    for hidden_layer_size in hidden_layer_sizes:\n",
    "        layer = keras.layers.Dense(hidden_layer_size, activation=\"relu\")\n",
    "        model.add(layer)\n",
    "    if meta[\"target_type_\"] == \"binary\":\n",
    "        n_output_units = 1\n",
    "        output_activation = \"sigmoid\"\n",
    "        loss = \"binary_crossentropy\"\n",
    "    elif meta[\"target_type_\"] == \"multiclass\":\n",
    "        n_output_units = meta[\"n_classes_\"]\n",
    "        output_activation = \"softmax\"\n",
    "        loss = \"sparse_categorical_crossentropy\"\n",
    "    else:\n",
    "        raise NotImplementedError(f\"Unsupported task type: {meta['target_type_']}\")\n",
    "    out = keras.layers.Dense(n_output_units, activation=output_activation)\n",
    "    model.add(out)\n",
    "    model.compile(loss=loss, optimizer=compile_kwargs[\"optimizer\"])\n",
    "    return model"
   ]
  },
  {
   "cell_type": "markdown",
   "id": "painful-louis",
   "metadata": {},
   "source": [
    "Next we wrap this Keras model with SciKeras"
   ]
  },
  {
   "cell_type": "code",
   "execution_count": 5,
   "id": "banned-popularity",
   "metadata": {
    "execution": {
     "iopub.execute_input": "2021-01-31T00:54:38.583794Z",
     "iopub.status.busy": "2021-01-31T00:54:38.582928Z",
     "iopub.status.idle": "2021-01-31T00:54:38.585673Z",
     "shell.execute_reply": "2021-01-31T00:54:38.586191Z"
    }
   },
   "outputs": [],
   "source": [
    "clf = KerasClassifier(\n",
    "    model=get_clf_model,\n",
    "    hidden_layer_sizes=(100, ),\n",
    "    optimizer=\"adam\",\n",
    "    optimizer__learning_rate=0.001,\n",
    "    verbose=0,\n",
    "    random_state=0,\n",
    ")"
   ]
  },
  {
   "cell_type": "markdown",
   "id": "growing-shirt",
   "metadata": {},
   "source": [
    "### 2.1 Building a boosting ensemble\n",
    "\n",
    "Because SciKeras estimators are fully compliant with the Scikit-Learn API, we can make use of Scikit-Learn's built in utilities. In particular example, we will use `AdaBoostClassifier` from `sklearn.ensemble.AdaBoostClassifier`, but the process is the same for most Scikit-Learn meta-estimators."
   ]
  },
  {
   "cell_type": "code",
   "execution_count": 6,
   "id": "japanese-receiver",
   "metadata": {
    "execution": {
     "iopub.execute_input": "2021-01-31T00:54:38.590516Z",
     "iopub.status.busy": "2021-01-31T00:54:38.589899Z",
     "iopub.status.idle": "2021-01-31T00:54:38.646420Z",
     "shell.execute_reply": "2021-01-31T00:54:38.646891Z"
    }
   },
   "outputs": [],
   "source": [
    "from sklearn.ensemble import AdaBoostClassifier"
   ]
  },
  {
   "cell_type": "code",
   "execution_count": 7,
   "id": "small-alexander",
   "metadata": {
    "execution": {
     "iopub.execute_input": "2021-01-31T00:54:38.649837Z",
     "iopub.status.busy": "2021-01-31T00:54:38.649185Z",
     "iopub.status.idle": "2021-01-31T00:54:38.652077Z",
     "shell.execute_reply": "2021-01-31T00:54:38.652720Z"
    }
   },
   "outputs": [],
   "source": [
    "adaboost = AdaBoostClassifier(base_estimator=clf, random_state=0)"
   ]
  },
  {
   "cell_type": "markdown",
   "id": "adaptive-scout",
   "metadata": {},
   "source": [
    "## 3. Testing with a toy dataset\n",
    "\n",
    "Before continouing, we will run a small test to make sure we get somewhat reasonable results."
   ]
  },
  {
   "cell_type": "code",
   "execution_count": 8,
   "id": "descending-level",
   "metadata": {
    "execution": {
     "iopub.execute_input": "2021-01-31T00:54:38.655159Z",
     "iopub.status.busy": "2021-01-31T00:54:38.654644Z",
     "iopub.status.idle": "2021-01-31T00:54:38.689964Z",
     "shell.execute_reply": "2021-01-31T00:54:38.690655Z"
    }
   },
   "outputs": [],
   "source": [
    "from sklearn.datasets import make_moons\n",
    "from sklearn.model_selection import cross_val_score"
   ]
  },
  {
   "cell_type": "code",
   "execution_count": 9,
   "id": "academic-millennium",
   "metadata": {
    "execution": {
     "iopub.execute_input": "2021-01-31T00:54:38.699797Z",
     "iopub.status.busy": "2021-01-31T00:54:38.699159Z",
     "iopub.status.idle": "2021-01-31T00:57:59.194351Z",
     "shell.execute_reply": "2021-01-31T00:57:59.193300Z"
    }
   },
   "outputs": [
    {
     "name": "stdout",
     "output_type": "stream",
     "text": [
      "Single score: 0.33\n",
      "AdaBoost score: 0.80\n"
     ]
    }
   ],
   "source": [
    "X, y = make_moons()\n",
    "\n",
    "single_score = np.mean(cross_val_score(clf, X, y))\n",
    "\n",
    "adaboost_score = np.mean(cross_val_score(adaboost, X, y))\n",
    "\n",
    "print(f\"Single score: {single_score:.2f}\")\n",
    "print(f\"AdaBoost score: {adaboost_score:.2f}\")"
   ]
  },
  {
   "cell_type": "markdown",
   "id": "married-delight",
   "metadata": {},
   "source": [
    "We see that the score for the AdaBoost classifier is slightly higher than that of an individual MLPRegressor instance. We can explore the individual classifiers, and see that each one is composed of a Keras Model with it's own individual weights."
   ]
  },
  {
   "cell_type": "code",
   "execution_count": 10,
   "id": "naughty-nancy",
   "metadata": {
    "execution": {
     "iopub.execute_input": "2021-01-31T00:57:59.199784Z",
     "iopub.status.busy": "2021-01-31T00:57:59.199166Z",
     "iopub.status.idle": "2021-01-31T00:58:34.215824Z",
     "shell.execute_reply": "2021-01-31T00:58:34.215364Z"
    }
   },
   "outputs": [
    {
     "data": {
      "text/plain": [
       "AdaBoostClassifier(base_estimator=KerasClassifier(hidden_layer_sizes=(100,), model=<function get_clf_model at 0x7f2c89eb9b80>, optimizer='adam', optimizer__learning_rate=0.001, random_state=0, verbose=0),\n",
       "                   random_state=0)"
      ]
     },
     "execution_count": 1,
     "metadata": {},
     "output_type": "execute_result"
    }
   ],
   "source": [
    "adaboost.fit(X, y)  # we need to fit outside of cross_val_score before accessing the weights"
   ]
  },
  {
   "cell_type": "code",
   "execution_count": 11,
   "id": "hungarian-seven",
   "metadata": {
    "execution": {
     "iopub.execute_input": "2021-01-31T00:58:34.220754Z",
     "iopub.status.busy": "2021-01-31T00:58:34.219866Z",
     "iopub.status.idle": "2021-01-31T00:58:34.230259Z",
     "shell.execute_reply": "2021-01-31T00:58:34.230711Z"
    }
   },
   "outputs": [
    {
     "name": "stdout",
     "output_type": "stream",
     "text": [
      "[-0.12513103  0.08259656 -0.08265866  0.17530784 -0.15011676]\n",
      "[ 0.06889059 -0.21094656  0.1962824  -0.07233907 -0.00967906]\n"
     ]
    }
   ],
   "source": [
    "print(adaboost.estimators_[0].model_.get_weights()[0][0, :5])  # first sub-estimator\n",
    "print(adaboost.estimators_[1].model_.get_weights()[0][0, :5])  # second sub-estimator"
   ]
  },
  {
   "cell_type": "markdown",
   "id": "compliant-municipality",
   "metadata": {},
   "source": [
    "## 4. Bagging ensemble\n",
    "\n",
    "For comparison, we run the same test with an ensemble built using `sklearn.ensemble.BaggingClassifier`."
   ]
  },
  {
   "cell_type": "code",
   "execution_count": 12,
   "id": "killing-potato",
   "metadata": {
    "execution": {
     "iopub.execute_input": "2021-01-31T00:58:34.235080Z",
     "iopub.status.busy": "2021-01-31T00:58:34.234407Z",
     "iopub.status.idle": "2021-01-31T00:58:34.237943Z",
     "shell.execute_reply": "2021-01-31T00:58:34.238496Z"
    }
   },
   "outputs": [],
   "source": [
    "from sklearn.ensemble import BaggingClassifier"
   ]
  },
  {
   "cell_type": "code",
   "execution_count": 13,
   "id": "level-indie",
   "metadata": {
    "execution": {
     "iopub.execute_input": "2021-01-31T00:58:34.245044Z",
     "iopub.status.busy": "2021-01-31T00:58:34.243361Z",
     "iopub.status.idle": "2021-01-31T01:00:04.861233Z",
     "shell.execute_reply": "2021-01-31T01:00:04.861943Z"
    }
   },
   "outputs": [
    {
     "name": "stdout",
     "output_type": "stream",
     "text": [
      "Bagging score: 0.63\n"
     ]
    }
   ],
   "source": [
    "bagging = BaggingClassifier(base_estimator=clf, random_state=0, n_jobs=-1)\n",
    "\n",
    "bagging_score = np.mean(cross_val_score(bagging, X, y))\n",
    "\n",
    "print(f\"Bagging score: {bagging_score:.2f}\")"
   ]
  }
 ],
 "metadata": {
  "jupytext": {
   "formats": "ipynb,md"
  },
  "kernelspec": {
   "display_name": "Python 3",
   "language": "python",
   "name": "python3"
  },
  "language_info": {
   "codemirror_mode": {
    "name": "ipython",
    "version": 3
   },
   "file_extension": ".py",
   "mimetype": "text/x-python",
   "name": "python",
   "nbconvert_exporter": "python",
   "pygments_lexer": "ipython3",
   "version": "3.8.7"
  }
 },
 "nbformat": 4,
 "nbformat_minor": 5
}
