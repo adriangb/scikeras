{
 "cells": [
  {
   "cell_type": "raw",
   "id": "sunset-smile",
   "metadata": {},
   "source": [
    "<a href=\"https://colab.research.google.com/github/adriangb/scikeras/blob/docs-deploy/refs/heads/master/notebooks/Meta_Estimators.ipynb\"><img src=\"https://www.tensorflow.org/images/colab_logo_32px.png\">Run in Google Colab</a>"
   ]
  },
  {
   "cell_type": "markdown",
   "id": "divine-dutch",
   "metadata": {},
   "source": [
    "# Meta Estimators in SciKeras\n",
    "\n",
    "In this notebook, we implement sklearn ensemble and tree meta-estimators backed by a Keras MLP model.\n",
    "\n",
    "## Table of contents\n",
    "\n",
    "* [1. Setup](#1.-Setup)\n",
    "* [2. Defining the Keras Model](#2.-Defining-the-Keras-Model)\n",
    "  * [2.1 Building a boosting ensemble](#2.1-Building-a-boosting-ensemble)\n",
    "* [3. Testing with a toy dataset](#3.-Testing-with-a-toy-dataset)\n",
    "* [4. Bagging ensemble](#4.-Bagging-ensemble)\n",
    "\n",
    "## 1. Setup"
   ]
  },
  {
   "cell_type": "code",
   "execution_count": 1,
   "id": "dense-christianity",
   "metadata": {
    "execution": {
     "iopub.execute_input": "2021-01-27T19:46:16.389256Z",
     "iopub.status.busy": "2021-01-27T19:46:16.388571Z",
     "iopub.status.idle": "2021-01-27T19:46:18.361082Z",
     "shell.execute_reply": "2021-01-27T19:46:18.361607Z"
    }
   },
   "outputs": [],
   "source": [
    "try:\n",
    "    import scikeras\n",
    "except ImportError:\n",
    "    !python -m pip install scikeras"
   ]
  },
  {
   "cell_type": "markdown",
   "id": "fuzzy-challenge",
   "metadata": {},
   "source": [
    "Silence TensorFlow logging to keep output succinct."
   ]
  },
  {
   "cell_type": "code",
   "execution_count": 2,
   "id": "answering-serve",
   "metadata": {
    "execution": {
     "iopub.execute_input": "2021-01-27T19:46:18.364450Z",
     "iopub.status.busy": "2021-01-27T19:46:18.363846Z",
     "iopub.status.idle": "2021-01-27T19:46:18.368006Z",
     "shell.execute_reply": "2021-01-27T19:46:18.368566Z"
    }
   },
   "outputs": [],
   "source": [
    "import warnings\n",
    "from tensorflow import get_logger\n",
    "get_logger().setLevel('ERROR')\n",
    "warnings.filterwarnings(\"ignore\", message=\"Setting the random state for TF\")"
   ]
  },
  {
   "cell_type": "code",
   "execution_count": 3,
   "id": "effective-popularity",
   "metadata": {
    "execution": {
     "iopub.execute_input": "2021-01-27T19:46:18.371571Z",
     "iopub.status.busy": "2021-01-27T19:46:18.370971Z",
     "iopub.status.idle": "2021-01-27T19:46:18.808724Z",
     "shell.execute_reply": "2021-01-27T19:46:18.809213Z"
    }
   },
   "outputs": [],
   "source": [
    "import numpy as np\n",
    "from scikeras.wrappers import KerasClassifier, KerasRegressor\n",
    "from tensorflow import keras"
   ]
  },
  {
   "cell_type": "markdown",
   "id": "colored-style",
   "metadata": {},
   "source": [
    "## 2. Defining the Keras Model\n",
    "\n",
    "We borrow our MLPClassifier implementation from the [MLPClassifier notebook](https://colab.research.google.com/github/adriangb/scikeras/blob/master/notebooks/MLPClassifier_and_MLPRegressor.ipynb)."
   ]
  },
  {
   "cell_type": "code",
   "execution_count": 4,
   "id": "comprehensive-cheat",
   "metadata": {
    "execution": {
     "iopub.execute_input": "2021-01-27T19:46:18.813055Z",
     "iopub.status.busy": "2021-01-27T19:46:18.811899Z",
     "iopub.status.idle": "2021-01-27T19:46:18.821493Z",
     "shell.execute_reply": "2021-01-27T19:46:18.822594Z"
    }
   },
   "outputs": [],
   "source": [
    "from typing import Dict, Iterable, Any\n",
    "\n",
    "\n",
    "def get_clf_model(hidden_layer_sizes: Iterable[int], meta: Dict[str, Any], compile_kwargs: Dict[str, Any]):\n",
    "    model = keras.Sequential()\n",
    "    inp = keras.layers.Input(shape=(meta[\"n_features_in_\"]))\n",
    "    model.add(inp)\n",
    "    for hidden_layer_size in hidden_layer_sizes:\n",
    "        layer = keras.layers.Dense(hidden_layer_size, activation=\"relu\")\n",
    "        model.add(layer)\n",
    "    if meta[\"target_type_\"] == \"binary\":\n",
    "        n_output_units = 1\n",
    "        output_activation = \"sigmoid\"\n",
    "        loss = \"binary_crossentropy\"\n",
    "    elif meta[\"target_type_\"] == \"multiclass\":\n",
    "        n_output_units = meta[\"n_classes_\"]\n",
    "        output_activation = \"softmax\"\n",
    "        loss = \"sparse_categorical_crossentropy\"\n",
    "    else:\n",
    "        raise NotImplementedError(f\"Unsupported task type: {meta['target_type_']}\")\n",
    "    out = keras.layers.Dense(n_output_units, activation=output_activation)\n",
    "    model.add(out)\n",
    "    model.compile(loss=loss, optimizer=compile_kwargs[\"optimizer\"])\n",
    "    return model"
   ]
  },
  {
   "cell_type": "markdown",
   "id": "computational-element",
   "metadata": {},
   "source": [
    "Next we wrap this Keras model with SciKeras"
   ]
  },
  {
   "cell_type": "code",
   "execution_count": 5,
   "id": "threaded-pointer",
   "metadata": {
    "execution": {
     "iopub.execute_input": "2021-01-27T19:46:18.826267Z",
     "iopub.status.busy": "2021-01-27T19:46:18.825161Z",
     "iopub.status.idle": "2021-01-27T19:46:18.830357Z",
     "shell.execute_reply": "2021-01-27T19:46:18.831158Z"
    }
   },
   "outputs": [],
   "source": [
    "clf = KerasClassifier(\n",
    "    model=get_clf_model,\n",
    "    hidden_layer_sizes=(100, ),\n",
    "    optimizer=\"adam\",\n",
    "    optimizer__learning_rate=0.001,\n",
    "    verbose=0,\n",
    "    random_state=0,\n",
    ")"
   ]
  },
  {
   "cell_type": "markdown",
   "id": "narrative-brake",
   "metadata": {},
   "source": [
    "### 2.1 Building a boosting ensemble\n",
    "\n",
    "Because SciKeras estimators are fully compliant with the Scikit-Learn API, we can make use of Scikit-Learn's built in utilities. In particular example, we will use `AdaBoostClassifier` from `sklearn.ensemble.AdaBoostClassifier`, but the process is the same for most Scikit-Learn meta-estimators."
   ]
  },
  {
   "cell_type": "code",
   "execution_count": 6,
   "id": "empirical-birth",
   "metadata": {
    "execution": {
     "iopub.execute_input": "2021-01-27T19:46:18.834774Z",
     "iopub.status.busy": "2021-01-27T19:46:18.833638Z",
     "iopub.status.idle": "2021-01-27T19:46:18.889953Z",
     "shell.execute_reply": "2021-01-27T19:46:18.890758Z"
    }
   },
   "outputs": [],
   "source": [
    "from sklearn.ensemble import AdaBoostClassifier"
   ]
  },
  {
   "cell_type": "code",
   "execution_count": 7,
   "id": "executive-resistance",
   "metadata": {
    "execution": {
     "iopub.execute_input": "2021-01-27T19:46:18.894411Z",
     "iopub.status.busy": "2021-01-27T19:46:18.893298Z",
     "iopub.status.idle": "2021-01-27T19:46:18.898066Z",
     "shell.execute_reply": "2021-01-27T19:46:18.898864Z"
    }
   },
   "outputs": [],
   "source": [
    "adaboost = AdaBoostClassifier(base_estimator=clf, random_state=0)"
   ]
  },
  {
   "cell_type": "markdown",
   "id": "approximate-metro",
   "metadata": {},
   "source": [
    "## 3. Testing with a toy dataset\n",
    "\n",
    "Before continouing, we will run a small test to make sure we get somewhat reasonable results."
   ]
  },
  {
   "cell_type": "code",
   "execution_count": 8,
   "id": "elder-disposal",
   "metadata": {
    "execution": {
     "iopub.execute_input": "2021-01-27T19:46:18.903877Z",
     "iopub.status.busy": "2021-01-27T19:46:18.902622Z",
     "iopub.status.idle": "2021-01-27T19:46:18.931864Z",
     "shell.execute_reply": "2021-01-27T19:46:18.932663Z"
    }
   },
   "outputs": [],
   "source": [
    "from sklearn.datasets import make_moons\n",
    "from sklearn.model_selection import cross_val_score"
   ]
  },
  {
   "cell_type": "code",
   "execution_count": 9,
   "id": "after-physiology",
   "metadata": {
    "execution": {
     "iopub.execute_input": "2021-01-27T19:46:18.936267Z",
     "iopub.status.busy": "2021-01-27T19:46:18.935169Z",
     "iopub.status.idle": "2021-01-27T19:49:41.229280Z",
     "shell.execute_reply": "2021-01-27T19:49:41.228641Z"
    }
   },
   "outputs": [
    {
     "name": "stdout",
     "output_type": "stream",
     "text": [
      "Single score: 0.30\n",
      "AdaBoost score: 0.81\n"
     ]
    }
   ],
   "source": [
    "X, y = make_moons()\n",
    "\n",
    "single_score = np.mean(cross_val_score(clf, X, y))\n",
    "\n",
    "adaboost_score = np.mean(cross_val_score(adaboost, X, y))\n",
    "\n",
    "print(f\"Single score: {single_score:.2f}\")\n",
    "print(f\"AdaBoost score: {adaboost_score:.2f}\")"
   ]
  },
  {
   "cell_type": "markdown",
   "id": "muslim-helmet",
   "metadata": {},
   "source": [
    "We see that the score for the AdaBoost classifier is slightly higher than that of an individual MLPRegressor instance. We can explore the individual classifiers, and see that each one is composed of a Keras Model with it's own individual weights."
   ]
  },
  {
   "cell_type": "code",
   "execution_count": 10,
   "id": "medium-mexican",
   "metadata": {
    "execution": {
     "iopub.execute_input": "2021-01-27T19:49:41.232047Z",
     "iopub.status.busy": "2021-01-27T19:49:41.231437Z",
     "iopub.status.idle": "2021-01-27T19:50:20.538371Z",
     "shell.execute_reply": "2021-01-27T19:50:20.537820Z"
    }
   },
   "outputs": [
    {
     "data": {
      "text/plain": [
       "AdaBoostClassifier(base_estimator=KerasClassifier(hidden_layer_sizes=(100,), model=<function get_clf_model at 0x7f390966eaf0>, optimizer='adam', optimizer__learning_rate=0.001, random_state=0, verbose=0),\n",
       "                   random_state=0)"
      ]
     },
     "execution_count": 1,
     "metadata": {},
     "output_type": "execute_result"
    }
   ],
   "source": [
    "adaboost.fit(X, y)  # we need to fit outside of cross_val_score before accessing the weights"
   ]
  },
  {
   "cell_type": "code",
   "execution_count": 11,
   "id": "interesting-deficit",
   "metadata": {
    "execution": {
     "iopub.execute_input": "2021-01-27T19:50:20.543619Z",
     "iopub.status.busy": "2021-01-27T19:50:20.543023Z",
     "iopub.status.idle": "2021-01-27T19:50:20.555155Z",
     "shell.execute_reply": "2021-01-27T19:50:20.555641Z"
    }
   },
   "outputs": [
    {
     "name": "stdout",
     "output_type": "stream",
     "text": [
      "[-0.12617376  0.08279709 -0.08265752  0.17566791 -0.15009521]\n",
      "[ 0.06896463 -0.21112603  0.19634998 -0.0725378  -0.00976131]\n"
     ]
    }
   ],
   "source": [
    "print(adaboost.estimators_[0].model_.get_weights()[0][0, :5])  # first sub-estimator\n",
    "print(adaboost.estimators_[1].model_.get_weights()[0][0, :5])  # second sub-estimator"
   ]
  },
  {
   "cell_type": "markdown",
   "id": "fifth-palestine",
   "metadata": {},
   "source": [
    "## 4. Bagging ensemble\n",
    "\n",
    "For comparison, we run the same test with an ensemble built using `sklearn.ensemble.BaggingClassifier`."
   ]
  },
  {
   "cell_type": "code",
   "execution_count": 12,
   "id": "plastic-beach",
   "metadata": {
    "execution": {
     "iopub.execute_input": "2021-01-27T19:50:20.558372Z",
     "iopub.status.busy": "2021-01-27T19:50:20.557773Z",
     "iopub.status.idle": "2021-01-27T19:50:20.564621Z",
     "shell.execute_reply": "2021-01-27T19:50:20.565570Z"
    }
   },
   "outputs": [],
   "source": [
    "from sklearn.ensemble import BaggingClassifier"
   ]
  },
  {
   "cell_type": "code",
   "execution_count": 13,
   "id": "alternate-offering",
   "metadata": {
    "execution": {
     "iopub.execute_input": "2021-01-27T19:50:20.573474Z",
     "iopub.status.busy": "2021-01-27T19:50:20.572867Z",
     "iopub.status.idle": "2021-01-27T19:52:02.430180Z",
     "shell.execute_reply": "2021-01-27T19:52:02.429630Z"
    }
   },
   "outputs": [
    {
     "name": "stdout",
     "output_type": "stream",
     "text": [
      "Bagging score: 0.63\n"
     ]
    }
   ],
   "source": [
    "bagging = BaggingClassifier(base_estimator=clf, random_state=0, n_jobs=-1)\n",
    "\n",
    "bagging_score = np.mean(cross_val_score(bagging, X, y))\n",
    "\n",
    "print(f\"Bagging score: {bagging_score:.2f}\")"
   ]
  }
 ],
 "metadata": {
  "jupytext": {
   "formats": "ipynb,md"
  },
  "kernelspec": {
   "display_name": "Python 3",
   "language": "python",
   "name": "python3"
  },
  "language_info": {
   "codemirror_mode": {
    "name": "ipython",
    "version": 3
   },
   "file_extension": ".py",
   "mimetype": "text/x-python",
   "name": "python",
   "nbconvert_exporter": "python",
   "pygments_lexer": "ipython3",
   "version": "3.8.6"
  }
 },
 "nbformat": 4,
 "nbformat_minor": 5
}
