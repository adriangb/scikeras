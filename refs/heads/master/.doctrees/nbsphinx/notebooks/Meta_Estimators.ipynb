{
 "cells": [
  {
   "cell_type": "raw",
   "id": "blond-extent",
   "metadata": {},
   "source": [
    "<a href=\"https://colab.research.google.com/github/adriangb/scikeras/blob/docs-deploy/refs/heads/master/notebooks/Meta_Estimators.ipynb\"><img src=\"https://www.tensorflow.org/images/colab_logo_32px.png\">Run in Google Colab</a>"
   ]
  },
  {
   "cell_type": "markdown",
   "id": "entire-current",
   "metadata": {},
   "source": [
    "# Meta Estimators in SciKeras\n",
    "\n",
    "In this notebook, we implement sklearn ensemble and tree meta-estimators backed by a Keras MLP model.\n",
    "\n",
    "## Table of contents\n",
    "\n",
    "* [1. Setup](#1.-Setup)\n",
    "* [2. Defining the Keras Model](#2.-Defining-the-Keras-Model)\n",
    "  * [2.1 Building a boosting ensemble](#2.1-Building-a-boosting-ensemble)\n",
    "* [3. Testing with a toy dataset](#3.-Testing-with-a-toy-dataset)\n",
    "* [4. Bagging ensemble](#4.-Bagging-ensemble)\n",
    "\n",
    "## 1. Setup"
   ]
  },
  {
   "cell_type": "code",
   "execution_count": 1,
   "id": "failing-consistency",
   "metadata": {
    "execution": {
     "iopub.execute_input": "2021-01-31T07:24:07.273792Z",
     "iopub.status.busy": "2021-01-31T07:24:07.273033Z",
     "iopub.status.idle": "2021-01-31T07:24:09.217274Z",
     "shell.execute_reply": "2021-01-31T07:24:09.216533Z"
    }
   },
   "outputs": [],
   "source": [
    "try:\n",
    "    import scikeras\n",
    "except ImportError:\n",
    "    !python -m pip install scikeras"
   ]
  },
  {
   "cell_type": "markdown",
   "id": "binding-miami",
   "metadata": {},
   "source": [
    "Silence TensorFlow logging to keep output succinct."
   ]
  },
  {
   "cell_type": "code",
   "execution_count": 2,
   "id": "third-tucson",
   "metadata": {
    "execution": {
     "iopub.execute_input": "2021-01-31T07:24:09.222026Z",
     "iopub.status.busy": "2021-01-31T07:24:09.221454Z",
     "iopub.status.idle": "2021-01-31T07:24:09.224884Z",
     "shell.execute_reply": "2021-01-31T07:24:09.225664Z"
    }
   },
   "outputs": [],
   "source": [
    "import warnings\n",
    "from tensorflow import get_logger\n",
    "get_logger().setLevel('ERROR')\n",
    "warnings.filterwarnings(\"ignore\", message=\"Setting the random state for TF\")"
   ]
  },
  {
   "cell_type": "code",
   "execution_count": 3,
   "id": "periodic-analyst",
   "metadata": {
    "execution": {
     "iopub.execute_input": "2021-01-31T07:24:09.232882Z",
     "iopub.status.busy": "2021-01-31T07:24:09.232344Z",
     "iopub.status.idle": "2021-01-31T07:24:09.686642Z",
     "shell.execute_reply": "2021-01-31T07:24:09.687104Z"
    }
   },
   "outputs": [],
   "source": [
    "import numpy as np\n",
    "from scikeras.wrappers import KerasClassifier, KerasRegressor\n",
    "from tensorflow import keras"
   ]
  },
  {
   "cell_type": "markdown",
   "id": "acute-equation",
   "metadata": {},
   "source": [
    "## 2. Defining the Keras Model\n",
    "\n",
    "We borrow our MLPClassifier implementation from the [MLPClassifier notebook](https://colab.research.google.com/github/adriangb/scikeras/blob/master/notebooks/MLPClassifier_and_MLPRegressor.ipynb)."
   ]
  },
  {
   "cell_type": "code",
   "execution_count": 4,
   "id": "visible-milwaukee",
   "metadata": {
    "execution": {
     "iopub.execute_input": "2021-01-31T07:24:09.695434Z",
     "iopub.status.busy": "2021-01-31T07:24:09.694833Z",
     "iopub.status.idle": "2021-01-31T07:24:09.707536Z",
     "shell.execute_reply": "2021-01-31T07:24:09.708307Z"
    }
   },
   "outputs": [],
   "source": [
    "from typing import Dict, Iterable, Any\n",
    "\n",
    "\n",
    "def get_clf_model(hidden_layer_sizes: Iterable[int], meta: Dict[str, Any], compile_kwargs: Dict[str, Any]):\n",
    "    model = keras.Sequential()\n",
    "    inp = keras.layers.Input(shape=(meta[\"n_features_in_\"]))\n",
    "    model.add(inp)\n",
    "    for hidden_layer_size in hidden_layer_sizes:\n",
    "        layer = keras.layers.Dense(hidden_layer_size, activation=\"relu\")\n",
    "        model.add(layer)\n",
    "    if meta[\"target_type_\"] == \"binary\":\n",
    "        n_output_units = 1\n",
    "        output_activation = \"sigmoid\"\n",
    "        loss = \"binary_crossentropy\"\n",
    "    elif meta[\"target_type_\"] == \"multiclass\":\n",
    "        n_output_units = meta[\"n_classes_\"]\n",
    "        output_activation = \"softmax\"\n",
    "        loss = \"sparse_categorical_crossentropy\"\n",
    "    else:\n",
    "        raise NotImplementedError(f\"Unsupported task type: {meta['target_type_']}\")\n",
    "    out = keras.layers.Dense(n_output_units, activation=output_activation)\n",
    "    model.add(out)\n",
    "    model.compile(loss=loss, optimizer=compile_kwargs[\"optimizer\"])\n",
    "    return model"
   ]
  },
  {
   "cell_type": "markdown",
   "id": "willing-berry",
   "metadata": {},
   "source": [
    "Next we wrap this Keras model with SciKeras"
   ]
  },
  {
   "cell_type": "code",
   "execution_count": 5,
   "id": "senior-champion",
   "metadata": {
    "execution": {
     "iopub.execute_input": "2021-01-31T07:24:09.711786Z",
     "iopub.status.busy": "2021-01-31T07:24:09.710756Z",
     "iopub.status.idle": "2021-01-31T07:24:09.716486Z",
     "shell.execute_reply": "2021-01-31T07:24:09.715701Z"
    }
   },
   "outputs": [],
   "source": [
    "clf = KerasClassifier(\n",
    "    model=get_clf_model,\n",
    "    hidden_layer_sizes=(100, ),\n",
    "    optimizer=\"adam\",\n",
    "    optimizer__learning_rate=0.001,\n",
    "    verbose=0,\n",
    "    random_state=0,\n",
    ")"
   ]
  },
  {
   "cell_type": "markdown",
   "id": "textile-pearl",
   "metadata": {},
   "source": [
    "### 2.1 Building a boosting ensemble\n",
    "\n",
    "Because SciKeras estimators are fully compliant with the Scikit-Learn API, we can make use of Scikit-Learn's built in utilities. In particular example, we will use `AdaBoostClassifier` from `sklearn.ensemble.AdaBoostClassifier`, but the process is the same for most Scikit-Learn meta-estimators."
   ]
  },
  {
   "cell_type": "code",
   "execution_count": 6,
   "id": "recovered-transition",
   "metadata": {
    "execution": {
     "iopub.execute_input": "2021-01-31T07:24:09.723449Z",
     "iopub.status.busy": "2021-01-31T07:24:09.722747Z",
     "iopub.status.idle": "2021-01-31T07:24:09.770826Z",
     "shell.execute_reply": "2021-01-31T07:24:09.771596Z"
    }
   },
   "outputs": [],
   "source": [
    "from sklearn.ensemble import AdaBoostClassifier"
   ]
  },
  {
   "cell_type": "code",
   "execution_count": 7,
   "id": "distributed-socket",
   "metadata": {
    "execution": {
     "iopub.execute_input": "2021-01-31T07:24:09.777514Z",
     "iopub.status.busy": "2021-01-31T07:24:09.776949Z",
     "iopub.status.idle": "2021-01-31T07:24:09.789249Z",
     "shell.execute_reply": "2021-01-31T07:24:09.788505Z"
    }
   },
   "outputs": [],
   "source": [
    "adaboost = AdaBoostClassifier(base_estimator=clf, random_state=0)"
   ]
  },
  {
   "cell_type": "markdown",
   "id": "published-victor",
   "metadata": {},
   "source": [
    "## 3. Testing with a toy dataset\n",
    "\n",
    "Before continouing, we will run a small test to make sure we get somewhat reasonable results."
   ]
  },
  {
   "cell_type": "code",
   "execution_count": 8,
   "id": "nonprofit-october",
   "metadata": {
    "execution": {
     "iopub.execute_input": "2021-01-31T07:24:09.793986Z",
     "iopub.status.busy": "2021-01-31T07:24:09.792555Z",
     "iopub.status.idle": "2021-01-31T07:24:09.838804Z",
     "shell.execute_reply": "2021-01-31T07:24:09.839483Z"
    }
   },
   "outputs": [],
   "source": [
    "from sklearn.datasets import make_moons\n",
    "from sklearn.model_selection import cross_val_score"
   ]
  },
  {
   "cell_type": "code",
   "execution_count": 9,
   "id": "equal-eleven",
   "metadata": {
    "execution": {
     "iopub.execute_input": "2021-01-31T07:24:09.845483Z",
     "iopub.status.busy": "2021-01-31T07:24:09.844917Z",
     "iopub.status.idle": "2021-01-31T07:27:17.685511Z",
     "shell.execute_reply": "2021-01-31T07:27:17.686313Z"
    }
   },
   "outputs": [
    {
     "name": "stdout",
     "output_type": "stream",
     "text": [
      "Single score: 0.32\n",
      "AdaBoost score: 0.80\n"
     ]
    }
   ],
   "source": [
    "X, y = make_moons()\n",
    "\n",
    "single_score = np.mean(cross_val_score(clf, X, y))\n",
    "\n",
    "adaboost_score = np.mean(cross_val_score(adaboost, X, y))\n",
    "\n",
    "print(f\"Single score: {single_score:.2f}\")\n",
    "print(f\"AdaBoost score: {adaboost_score:.2f}\")"
   ]
  },
  {
   "cell_type": "markdown",
   "id": "serial-indonesia",
   "metadata": {},
   "source": [
    "We see that the score for the AdaBoost classifier is slightly higher than that of an individual MLPRegressor instance. We can explore the individual classifiers, and see that each one is composed of a Keras Model with it's own individual weights."
   ]
  },
  {
   "cell_type": "code",
   "execution_count": 10,
   "id": "chinese-patent",
   "metadata": {
    "execution": {
     "iopub.execute_input": "2021-01-31T07:27:17.690048Z",
     "iopub.status.busy": "2021-01-31T07:27:17.688898Z",
     "iopub.status.idle": "2021-01-31T07:27:52.659914Z",
     "shell.execute_reply": "2021-01-31T07:27:52.659419Z"
    }
   },
   "outputs": [
    {
     "data": {
      "text/plain": [
       "AdaBoostClassifier(base_estimator=KerasClassifier(hidden_layer_sizes=(100,), model=<function get_clf_model at 0x7f45e67765e0>, optimizer='adam', optimizer__learning_rate=0.001, random_state=0, verbose=0),\n",
       "                   random_state=0)"
      ]
     },
     "execution_count": 1,
     "metadata": {},
     "output_type": "execute_result"
    }
   ],
   "source": [
    "adaboost.fit(X, y)  # we need to fit outside of cross_val_score before accessing the weights"
   ]
  },
  {
   "cell_type": "code",
   "execution_count": 11,
   "id": "searching-promise",
   "metadata": {
    "execution": {
     "iopub.execute_input": "2021-01-31T07:27:52.664992Z",
     "iopub.status.busy": "2021-01-31T07:27:52.664433Z",
     "iopub.status.idle": "2021-01-31T07:27:52.671462Z",
     "shell.execute_reply": "2021-01-31T07:27:52.671929Z"
    }
   },
   "outputs": [
    {
     "name": "stdout",
     "output_type": "stream",
     "text": [
      "[-0.12518737  0.08300322 -0.08273094  0.1757624  -0.1501911 ]\n",
      "[ 0.06907538 -0.2111323   0.19646478 -0.07494756 -0.00959086]\n"
     ]
    }
   ],
   "source": [
    "print(adaboost.estimators_[0].model_.get_weights()[0][0, :5])  # first sub-estimator\n",
    "print(adaboost.estimators_[1].model_.get_weights()[0][0, :5])  # second sub-estimator"
   ]
  },
  {
   "cell_type": "markdown",
   "id": "noticed-florist",
   "metadata": {},
   "source": [
    "## 4. Bagging ensemble\n",
    "\n",
    "For comparison, we run the same test with an ensemble built using `sklearn.ensemble.BaggingClassifier`."
   ]
  },
  {
   "cell_type": "code",
   "execution_count": 12,
   "id": "regional-textbook",
   "metadata": {
    "execution": {
     "iopub.execute_input": "2021-01-31T07:27:52.676070Z",
     "iopub.status.busy": "2021-01-31T07:27:52.675513Z",
     "iopub.status.idle": "2021-01-31T07:27:52.679658Z",
     "shell.execute_reply": "2021-01-31T07:27:52.678971Z"
    }
   },
   "outputs": [],
   "source": [
    "from sklearn.ensemble import BaggingClassifier"
   ]
  },
  {
   "cell_type": "code",
   "execution_count": 13,
   "id": "authorized-characterization",
   "metadata": {
    "execution": {
     "iopub.execute_input": "2021-01-31T07:27:52.685648Z",
     "iopub.status.busy": "2021-01-31T07:27:52.684583Z",
     "iopub.status.idle": "2021-01-31T07:29:16.469829Z",
     "shell.execute_reply": "2021-01-31T07:29:16.470518Z"
    }
   },
   "outputs": [
    {
     "name": "stdout",
     "output_type": "stream",
     "text": [
      "Bagging score: 0.63\n"
     ]
    }
   ],
   "source": [
    "bagging = BaggingClassifier(base_estimator=clf, random_state=0, n_jobs=-1)\n",
    "\n",
    "bagging_score = np.mean(cross_val_score(bagging, X, y))\n",
    "\n",
    "print(f\"Bagging score: {bagging_score:.2f}\")"
   ]
  }
 ],
 "metadata": {
  "jupytext": {
   "formats": "ipynb,md"
  },
  "kernelspec": {
   "display_name": "Python 3",
   "language": "python",
   "name": "python3"
  },
  "language_info": {
   "codemirror_mode": {
    "name": "ipython",
    "version": 3
   },
   "file_extension": ".py",
   "mimetype": "text/x-python",
   "name": "python",
   "nbconvert_exporter": "python",
   "pygments_lexer": "ipython3",
   "version": "3.8.7"
  }
 },
 "nbformat": 4,
 "nbformat_minor": 5
}
