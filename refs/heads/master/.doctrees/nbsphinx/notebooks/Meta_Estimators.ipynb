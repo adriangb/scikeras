{
 "cells": [
  {
   "cell_type": "raw",
   "id": "excited-kelly",
   "metadata": {},
   "source": [
    "<a href=\"https://colab.research.google.com/github/adriangb/scikeras/blob/docs-deploy/refs/heads/master/notebooks/Meta_Estimators.ipynb\"><img src=\"https://www.tensorflow.org/images/colab_logo_32px.png\">Run in Google Colab</a>"
   ]
  },
  {
   "cell_type": "markdown",
   "id": "personal-verification",
   "metadata": {},
   "source": [
    "# Meta Estimators in SciKeras\n",
    "\n",
    "In this notebook, we implement sklearn ensemble and tree meta-estimators backed by a Keras MLP model.\n",
    "\n",
    "## Table of contents\n",
    "\n",
    "* [1. Setup](#1.-Setup)\n",
    "* [2. Defining the Keras Model](#2.-Defining-the-Keras-Model)\n",
    "  * [2.1 Building a boosting ensemble](#2.1-Building-a-boosting-ensemble)\n",
    "* [3. Testing with a toy dataset](#3.-Testing-with-a-toy-dataset)\n",
    "* [4. Bagging ensemble](#4.-Bagging-ensemble)\n",
    "\n",
    "## 1. Setup"
   ]
  },
  {
   "cell_type": "code",
   "execution_count": 1,
   "id": "fuzzy-sample",
   "metadata": {
    "execution": {
     "iopub.execute_input": "2021-01-28T20:10:26.078935Z",
     "iopub.status.busy": "2021-01-28T20:10:26.078223Z",
     "iopub.status.idle": "2021-01-28T20:10:27.743824Z",
     "shell.execute_reply": "2021-01-28T20:10:27.744353Z"
    }
   },
   "outputs": [],
   "source": [
    "try:\n",
    "    import scikeras\n",
    "except ImportError:\n",
    "    !python -m pip install scikeras"
   ]
  },
  {
   "cell_type": "markdown",
   "id": "decent-grounds",
   "metadata": {},
   "source": [
    "Silence TensorFlow logging to keep output succinct."
   ]
  },
  {
   "cell_type": "code",
   "execution_count": 2,
   "id": "ancient-reader",
   "metadata": {
    "execution": {
     "iopub.execute_input": "2021-01-28T20:10:27.749580Z",
     "iopub.status.busy": "2021-01-28T20:10:27.748932Z",
     "iopub.status.idle": "2021-01-28T20:10:27.751312Z",
     "shell.execute_reply": "2021-01-28T20:10:27.751810Z"
    }
   },
   "outputs": [],
   "source": [
    "import warnings\n",
    "from tensorflow import get_logger\n",
    "get_logger().setLevel('ERROR')\n",
    "warnings.filterwarnings(\"ignore\", message=\"Setting the random state for TF\")"
   ]
  },
  {
   "cell_type": "code",
   "execution_count": 3,
   "id": "potential-resident",
   "metadata": {
    "execution": {
     "iopub.execute_input": "2021-01-28T20:10:27.757082Z",
     "iopub.status.busy": "2021-01-28T20:10:27.755842Z",
     "iopub.status.idle": "2021-01-28T20:10:28.203075Z",
     "shell.execute_reply": "2021-01-28T20:10:28.203543Z"
    }
   },
   "outputs": [],
   "source": [
    "import numpy as np\n",
    "from scikeras.wrappers import KerasClassifier, KerasRegressor\n",
    "from tensorflow import keras"
   ]
  },
  {
   "cell_type": "markdown",
   "id": "scenic-sugar",
   "metadata": {},
   "source": [
    "## 2. Defining the Keras Model\n",
    "\n",
    "We borrow our MLPClassifier implementation from the [MLPClassifier notebook](https://colab.research.google.com/github/adriangb/scikeras/blob/master/notebooks/MLPClassifier_and_MLPRegressor.ipynb)."
   ]
  },
  {
   "cell_type": "code",
   "execution_count": 4,
   "id": "friendly-combination",
   "metadata": {
    "execution": {
     "iopub.execute_input": "2021-01-28T20:10:28.212400Z",
     "iopub.status.busy": "2021-01-28T20:10:28.211804Z",
     "iopub.status.idle": "2021-01-28T20:10:28.216852Z",
     "shell.execute_reply": "2021-01-28T20:10:28.218360Z"
    }
   },
   "outputs": [],
   "source": [
    "from typing import Dict, Iterable, Any\n",
    "\n",
    "\n",
    "def get_clf_model(hidden_layer_sizes: Iterable[int], meta: Dict[str, Any], compile_kwargs: Dict[str, Any]):\n",
    "    model = keras.Sequential()\n",
    "    inp = keras.layers.Input(shape=(meta[\"n_features_in_\"]))\n",
    "    model.add(inp)\n",
    "    for hidden_layer_size in hidden_layer_sizes:\n",
    "        layer = keras.layers.Dense(hidden_layer_size, activation=\"relu\")\n",
    "        model.add(layer)\n",
    "    if meta[\"target_type_\"] == \"binary\":\n",
    "        n_output_units = 1\n",
    "        output_activation = \"sigmoid\"\n",
    "        loss = \"binary_crossentropy\"\n",
    "    elif meta[\"target_type_\"] == \"multiclass\":\n",
    "        n_output_units = meta[\"n_classes_\"]\n",
    "        output_activation = \"softmax\"\n",
    "        loss = \"sparse_categorical_crossentropy\"\n",
    "    else:\n",
    "        raise NotImplementedError(f\"Unsupported task type: {meta['target_type_']}\")\n",
    "    out = keras.layers.Dense(n_output_units, activation=output_activation)\n",
    "    model.add(out)\n",
    "    model.compile(loss=loss, optimizer=compile_kwargs[\"optimizer\"])\n",
    "    return model"
   ]
  },
  {
   "cell_type": "markdown",
   "id": "typical-exhibition",
   "metadata": {},
   "source": [
    "Next we wrap this Keras model with SciKeras"
   ]
  },
  {
   "cell_type": "code",
   "execution_count": 5,
   "id": "completed-liabilities",
   "metadata": {
    "execution": {
     "iopub.execute_input": "2021-01-28T20:10:28.223058Z",
     "iopub.status.busy": "2021-01-28T20:10:28.222493Z",
     "iopub.status.idle": "2021-01-28T20:10:28.230602Z",
     "shell.execute_reply": "2021-01-28T20:10:28.231405Z"
    }
   },
   "outputs": [],
   "source": [
    "clf = KerasClassifier(\n",
    "    model=get_clf_model,\n",
    "    hidden_layer_sizes=(100, ),\n",
    "    optimizer=\"adam\",\n",
    "    optimizer__learning_rate=0.001,\n",
    "    verbose=0,\n",
    "    random_state=0,\n",
    ")"
   ]
  },
  {
   "cell_type": "markdown",
   "id": "tutorial-scanning",
   "metadata": {},
   "source": [
    "### 2.1 Building a boosting ensemble\n",
    "\n",
    "Because SciKeras estimators are fully compliant with the Scikit-Learn API, we can make use of Scikit-Learn's built in utilities. In particular example, we will use `AdaBoostClassifier` from `sklearn.ensemble.AdaBoostClassifier`, but the process is the same for most Scikit-Learn meta-estimators."
   ]
  },
  {
   "cell_type": "code",
   "execution_count": 6,
   "id": "close-notification",
   "metadata": {
    "execution": {
     "iopub.execute_input": "2021-01-28T20:10:28.236171Z",
     "iopub.status.busy": "2021-01-28T20:10:28.235050Z",
     "iopub.status.idle": "2021-01-28T20:10:28.314495Z",
     "shell.execute_reply": "2021-01-28T20:10:28.315017Z"
    }
   },
   "outputs": [],
   "source": [
    "from sklearn.ensemble import AdaBoostClassifier"
   ]
  },
  {
   "cell_type": "code",
   "execution_count": 7,
   "id": "african-uzbekistan",
   "metadata": {
    "execution": {
     "iopub.execute_input": "2021-01-28T20:10:28.317678Z",
     "iopub.status.busy": "2021-01-28T20:10:28.317000Z",
     "iopub.status.idle": "2021-01-28T20:10:28.320719Z",
     "shell.execute_reply": "2021-01-28T20:10:28.321321Z"
    }
   },
   "outputs": [],
   "source": [
    "adaboost = AdaBoostClassifier(base_estimator=clf, random_state=0)"
   ]
  },
  {
   "cell_type": "markdown",
   "id": "julian-covering",
   "metadata": {},
   "source": [
    "## 3. Testing with a toy dataset\n",
    "\n",
    "Before continouing, we will run a small test to make sure we get somewhat reasonable results."
   ]
  },
  {
   "cell_type": "code",
   "execution_count": 8,
   "id": "conditional-tennis",
   "metadata": {
    "execution": {
     "iopub.execute_input": "2021-01-28T20:10:28.323901Z",
     "iopub.status.busy": "2021-01-28T20:10:28.323268Z",
     "iopub.status.idle": "2021-01-28T20:10:28.367592Z",
     "shell.execute_reply": "2021-01-28T20:10:28.368005Z"
    }
   },
   "outputs": [],
   "source": [
    "from sklearn.datasets import make_moons\n",
    "from sklearn.model_selection import cross_val_score"
   ]
  },
  {
   "cell_type": "code",
   "execution_count": 9,
   "id": "completed-houston",
   "metadata": {
    "execution": {
     "iopub.execute_input": "2021-01-28T20:10:28.379635Z",
     "iopub.status.busy": "2021-01-28T20:10:28.379008Z",
     "iopub.status.idle": "2021-01-28T20:13:24.113487Z",
     "shell.execute_reply": "2021-01-28T20:13:24.112933Z"
    }
   },
   "outputs": [
    {
     "name": "stdout",
     "output_type": "stream",
     "text": [
      "Single score: 0.30\n",
      "AdaBoost score: 0.81\n"
     ]
    }
   ],
   "source": [
    "X, y = make_moons()\n",
    "\n",
    "single_score = np.mean(cross_val_score(clf, X, y))\n",
    "\n",
    "adaboost_score = np.mean(cross_val_score(adaboost, X, y))\n",
    "\n",
    "print(f\"Single score: {single_score:.2f}\")\n",
    "print(f\"AdaBoost score: {adaboost_score:.2f}\")"
   ]
  },
  {
   "cell_type": "markdown",
   "id": "advance-validity",
   "metadata": {},
   "source": [
    "We see that the score for the AdaBoost classifier is slightly higher than that of an individual MLPRegressor instance. We can explore the individual classifiers, and see that each one is composed of a Keras Model with it's own individual weights."
   ]
  },
  {
   "cell_type": "code",
   "execution_count": 10,
   "id": "warming-december",
   "metadata": {
    "execution": {
     "iopub.execute_input": "2021-01-28T20:13:24.116394Z",
     "iopub.status.busy": "2021-01-28T20:13:24.115695Z",
     "iopub.status.idle": "2021-01-28T20:13:55.585580Z",
     "shell.execute_reply": "2021-01-28T20:13:55.586209Z"
    }
   },
   "outputs": [
    {
     "data": {
      "text/plain": [
       "AdaBoostClassifier(base_estimator=KerasClassifier(hidden_layer_sizes=(100,), model=<function get_clf_model at 0x7f5fac5c3d30>, optimizer='adam', optimizer__learning_rate=0.001, random_state=0, verbose=0),\n",
       "                   random_state=0)"
      ]
     },
     "execution_count": 1,
     "metadata": {},
     "output_type": "execute_result"
    }
   ],
   "source": [
    "adaboost.fit(X, y)  # we need to fit outside of cross_val_score before accessing the weights"
   ]
  },
  {
   "cell_type": "code",
   "execution_count": 11,
   "id": "adequate-dream",
   "metadata": {
    "execution": {
     "iopub.execute_input": "2021-01-28T20:13:55.589368Z",
     "iopub.status.busy": "2021-01-28T20:13:55.588259Z",
     "iopub.status.idle": "2021-01-28T20:13:55.596767Z",
     "shell.execute_reply": "2021-01-28T20:13:55.597442Z"
    }
   },
   "outputs": [
    {
     "name": "stdout",
     "output_type": "stream",
     "text": [
      "[-0.12602176  0.08297313 -0.08258037  0.17563096 -0.15014075]\n",
      "[ 0.06908075 -0.21080567  0.19644828 -0.07082649 -0.00986642]\n"
     ]
    }
   ],
   "source": [
    "print(adaboost.estimators_[0].model_.get_weights()[0][0, :5])  # first sub-estimator\n",
    "print(adaboost.estimators_[1].model_.get_weights()[0][0, :5])  # second sub-estimator"
   ]
  },
  {
   "cell_type": "markdown",
   "id": "bound-consideration",
   "metadata": {},
   "source": [
    "## 4. Bagging ensemble\n",
    "\n",
    "For comparison, we run the same test with an ensemble built using `sklearn.ensemble.BaggingClassifier`."
   ]
  },
  {
   "cell_type": "code",
   "execution_count": 12,
   "id": "opposite-latter",
   "metadata": {
    "execution": {
     "iopub.execute_input": "2021-01-28T20:13:55.600629Z",
     "iopub.status.busy": "2021-01-28T20:13:55.599526Z",
     "iopub.status.idle": "2021-01-28T20:13:55.603765Z",
     "shell.execute_reply": "2021-01-28T20:13:55.604459Z"
    }
   },
   "outputs": [],
   "source": [
    "from sklearn.ensemble import BaggingClassifier"
   ]
  },
  {
   "cell_type": "code",
   "execution_count": 13,
   "id": "natural-mandate",
   "metadata": {
    "execution": {
     "iopub.execute_input": "2021-01-28T20:13:55.607957Z",
     "iopub.status.busy": "2021-01-28T20:13:55.607002Z",
     "iopub.status.idle": "2021-01-28T20:15:22.718488Z",
     "shell.execute_reply": "2021-01-28T20:15:22.718952Z"
    }
   },
   "outputs": [
    {
     "name": "stdout",
     "output_type": "stream",
     "text": [
      "Bagging score: 0.63\n"
     ]
    }
   ],
   "source": [
    "bagging = BaggingClassifier(base_estimator=clf, random_state=0, n_jobs=-1)\n",
    "\n",
    "bagging_score = np.mean(cross_val_score(bagging, X, y))\n",
    "\n",
    "print(f\"Bagging score: {bagging_score:.2f}\")"
   ]
  }
 ],
 "metadata": {
  "jupytext": {
   "formats": "ipynb,md"
  },
  "kernelspec": {
   "display_name": "Python 3",
   "language": "python",
   "name": "python3"
  },
  "language_info": {
   "codemirror_mode": {
    "name": "ipython",
    "version": 3
   },
   "file_extension": ".py",
   "mimetype": "text/x-python",
   "name": "python",
   "nbconvert_exporter": "python",
   "pygments_lexer": "ipython3",
   "version": "3.8.7"
  }
 },
 "nbformat": 4,
 "nbformat_minor": 5
}
