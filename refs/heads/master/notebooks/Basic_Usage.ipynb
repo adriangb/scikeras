{
 "cells": [
  {
   "cell_type": "raw",
   "id": "plastic-weather",
   "metadata": {},
   "source": [
    "<a href=\"https://colab.research.google.com/github/adriangb/scikeras/blob/docs-deploy/refs/heads/master/notebooks/Basic_Usage.ipynb\"><img src=\"https://www.tensorflow.org/images/colab_logo_32px.png\">Run in Google Colab</a>"
   ]
  },
  {
   "cell_type": "markdown",
   "id": "liable-brazilian",
   "metadata": {},
   "source": [
    "# Basic usage\n",
    "\n",
    "`SciKeras` is designed to maximize interoperability between `sklearn` and `Keras/TensorFlow`. The aim is to keep 99% of the flexibility of `Keras` while being able to leverage most features of `sklearn`. Below, we show the basic usage of `SciKeras` and how it can be combined with `sklearn`.\n",
    "\n",
    "This notebook shows you how to use the basic functionality of `SciKeras`.\n",
    "\n",
    "## Table of contents\n",
    "\n",
    "* [1. Setup](#1.-Setup)\n",
    "* [2. Training a classifier and making predictions](#2.-Training-a-classifier-and-making-predictions)\n",
    "  * [2.1 A toy binary classification task](#2.1-A-toy-binary-classification-task)\n",
    "  * [2.2 Definition of the Keras classification Model](#2.2-Definition-of-the-Keras-classification-Model)\n",
    "  * [2.3 Defining and training the neural net classifier](#2.3-Defining-and-training-the-neural-net-classifier)\n",
    "  * [2.4 Making predictions, classification](#2.4-Making-predictions-classification)\n",
    "* [3 Training a regressor](#3.-Training-a-regressor)\n",
    "  * [3.1 A toy regression task](#3.1-A-toy-regression-task)\n",
    "  * [3.2 Definition of the Keras regression Model](#3.2-Definition-of-the-Keras-regression-Model)\n",
    "  * [3.3 Defining and training the neural net regressor](#3.3-Defining-and-training-the-neural-net-regressor)\n",
    "  * [3.4 Making predictions, regression](#3.4-Making-predictions-regression)\n",
    "* [4. Saving and loading a model](#4.-Saving-and-loading-a-model)\n",
    "  * [4.1 Saving the whole model](#4.1-Saving-the-whole-model)\n",
    "  * [4.2 Saving using Keras' saving methods](#4.2-Saving-using-Keras-saving-methods)\n",
    "* [5. Usage with an sklearn Pipeline](#5.-Usage-with-an-sklearn-Pipeline)\n",
    "* [6. Callbacks](#6.-Callbacks)\n",
    "* [7. Usage with sklearn GridSearchCV](#7.-Usage-with-sklearn-GridSearchCV)\n",
    "  * [7.1 Special prefixes](#7.1-Special-prefixes)\n",
    "  * [7.2 Performing a grid search](#7.2-Performing-a-grid-search)\n",
    "\n",
    "## 1. Setup"
   ]
  },
  {
   "cell_type": "code",
   "execution_count": 1,
   "id": "considerable-edwards",
   "metadata": {
    "execution": {
     "iopub.execute_input": "2021-01-31T00:52:46.915226Z",
     "iopub.status.busy": "2021-01-31T00:52:46.914240Z",
     "iopub.status.idle": "2021-01-31T00:52:51.497938Z",
     "shell.execute_reply": "2021-01-31T00:52:51.497339Z"
    }
   },
   "outputs": [],
   "source": [
    "try:\n",
    "    import scikeras\n",
    "except ImportError:\n",
    "    !python -m pip install scikeras"
   ]
  },
  {
   "cell_type": "markdown",
   "id": "protected-james",
   "metadata": {},
   "source": [
    "Silence TensorFlow logging to keep output succinct."
   ]
  },
  {
   "cell_type": "code",
   "execution_count": 2,
   "id": "contained-hunger",
   "metadata": {
    "execution": {
     "iopub.execute_input": "2021-01-31T00:52:51.501933Z",
     "iopub.status.busy": "2021-01-31T00:52:51.501425Z",
     "iopub.status.idle": "2021-01-31T00:52:51.504740Z",
     "shell.execute_reply": "2021-01-31T00:52:51.504336Z"
    }
   },
   "outputs": [],
   "source": [
    "import warnings\n",
    "from tensorflow import get_logger\n",
    "get_logger().setLevel('ERROR')\n",
    "warnings.filterwarnings(\"ignore\", message=\"Setting the random state for TF\")"
   ]
  },
  {
   "cell_type": "code",
   "execution_count": 3,
   "id": "sharp-newark",
   "metadata": {
    "execution": {
     "iopub.execute_input": "2021-01-31T00:52:51.508505Z",
     "iopub.status.busy": "2021-01-31T00:52:51.507786Z",
     "iopub.status.idle": "2021-01-31T00:52:52.252078Z",
     "shell.execute_reply": "2021-01-31T00:52:52.252769Z"
    }
   },
   "outputs": [],
   "source": [
    "import numpy as np\n",
    "from scikeras.wrappers import KerasClassifier, KerasRegressor\n",
    "from tensorflow import keras"
   ]
  },
  {
   "cell_type": "markdown",
   "id": "young-moral",
   "metadata": {},
   "source": [
    "## 2. Training a classifier and making predictions\n",
    "\n",
    "### 2.1 A toy binary classification task\n",
    "\n",
    "We load a toy classification task from `sklearn`."
   ]
  },
  {
   "cell_type": "code",
   "execution_count": 4,
   "id": "historic-anniversary",
   "metadata": {
    "execution": {
     "iopub.execute_input": "2021-01-31T00:52:52.260286Z",
     "iopub.status.busy": "2021-01-31T00:52:52.259251Z",
     "iopub.status.idle": "2021-01-31T00:52:52.285817Z",
     "shell.execute_reply": "2021-01-31T00:52:52.286667Z"
    }
   },
   "outputs": [],
   "source": [
    "import numpy as np\n",
    "from sklearn.datasets import make_classification"
   ]
  },
  {
   "cell_type": "code",
   "execution_count": 5,
   "id": "immediate-winning",
   "metadata": {
    "execution": {
     "iopub.execute_input": "2021-01-31T00:52:52.290358Z",
     "iopub.status.busy": "2021-01-31T00:52:52.288968Z",
     "iopub.status.idle": "2021-01-31T00:52:52.297064Z",
     "shell.execute_reply": "2021-01-31T00:52:52.297828Z"
    }
   },
   "outputs": [],
   "source": [
    "X, y = make_classification(1000, 20, n_informative=10, random_state=0)"
   ]
  },
  {
   "cell_type": "code",
   "execution_count": 6,
   "id": "after-delhi",
   "metadata": {
    "execution": {
     "iopub.execute_input": "2021-01-31T00:52:52.301150Z",
     "iopub.status.busy": "2021-01-31T00:52:52.300156Z",
     "iopub.status.idle": "2021-01-31T00:52:52.312848Z",
     "shell.execute_reply": "2021-01-31T00:52:52.313672Z"
    }
   },
   "outputs": [
    {
     "data": {
      "text/plain": [
       "((1000, 20), (1000,), 0.5)"
      ]
     },
     "execution_count": 1,
     "metadata": {},
     "output_type": "execute_result"
    }
   ],
   "source": [
    "X.shape, y.shape, y.mean()"
   ]
  },
  {
   "cell_type": "markdown",
   "id": "aggressive-wells",
   "metadata": {},
   "source": [
    "### 2.2 Definition of the Keras classification Model\n",
    "\n",
    "We define a vanilla neural network with.\n",
    "\n",
    "Because we are dealing with 2 classes, the output layer can be constructed in\n",
    "two different ways:\n",
    "\n",
    "1. Single unit with a `\"sigmoid\"` nonlinearity. The loss must be `\"binary_crossentropy\"`.\n",
    "2. Two units (one for each class) and a `\"softmax\"` nonlinearity. The loss must be `\"sparse_categorical_crossentropy\"`.\n",
    "\n",
    "In this example, we choose the first option, which is what you would usually\n",
    "do for binary classification. The second option is usually reserved for when\n",
    "you have >2 classes."
   ]
  },
  {
   "cell_type": "code",
   "execution_count": 7,
   "id": "favorite-renaissance",
   "metadata": {
    "execution": {
     "iopub.execute_input": "2021-01-31T00:52:52.317156Z",
     "iopub.status.busy": "2021-01-31T00:52:52.316162Z",
     "iopub.status.idle": "2021-01-31T00:52:52.321478Z",
     "shell.execute_reply": "2021-01-31T00:52:52.320613Z"
    }
   },
   "outputs": [],
   "source": [
    "from tensorflow import keras"
   ]
  },
  {
   "cell_type": "code",
   "execution_count": 8,
   "id": "straight-village",
   "metadata": {
    "execution": {
     "iopub.execute_input": "2021-01-31T00:52:52.327945Z",
     "iopub.status.busy": "2021-01-31T00:52:52.323610Z",
     "iopub.status.idle": "2021-01-31T00:52:52.330308Z",
     "shell.execute_reply": "2021-01-31T00:52:52.331029Z"
    }
   },
   "outputs": [],
   "source": [
    "def get_clf(meta, hidden_layer_sizes, dropout):\n",
    "    n_features_in_ = meta[\"n_features_in_\"]\n",
    "    n_classes_ = meta[\"n_classes_\"]\n",
    "    model = keras.models.Sequential()\n",
    "    model.add(keras.layers.Input(shape=(n_features_in_,)))\n",
    "    for hidden_layer_size in hidden_layer_sizes:\n",
    "        model.add(keras.layers.Dense(hidden_layer_size, activation=\"relu\"))\n",
    "        model.add(keras.layers.Dropout(dropout))\n",
    "    model.add(keras.layers.Dense(1, activation=\"sigmoid\"))\n",
    "    return model"
   ]
  },
  {
   "cell_type": "markdown",
   "id": "revised-brazilian",
   "metadata": {},
   "source": [
    "### 2.3 Defining and training the neural net classifier\n",
    "\n",
    "We use `KerasClassifier` because we're dealing with a classifcation task. The first argument should be a callable returning a `Keras.Model`, in this case, `get_clf`. As additional arguments, we pass the number of loss function (required) and the optimizer, but the later is optional. We must also pass all of the arguments to `get_clf` as keyword arguments to `KerasClassifier` if they don't have a default value in `get_clf`. Note that if you do not pass an argument to `KerasClassifier`, it will not be avilable for hyperparameter tuning. Finally, we also pass `random_state=0` for reproducible results."
   ]
  },
  {
   "cell_type": "code",
   "execution_count": 9,
   "id": "beautiful-offering",
   "metadata": {
    "execution": {
     "iopub.execute_input": "2021-01-31T00:52:52.336244Z",
     "iopub.status.busy": "2021-01-31T00:52:52.333081Z",
     "iopub.status.idle": "2021-01-31T00:52:52.339785Z",
     "shell.execute_reply": "2021-01-31T00:52:52.340498Z"
    }
   },
   "outputs": [],
   "source": [
    "from scikeras.wrappers import KerasClassifier"
   ]
  },
  {
   "cell_type": "code",
   "execution_count": 10,
   "id": "solar-month",
   "metadata": {
    "execution": {
     "iopub.execute_input": "2021-01-31T00:52:52.343931Z",
     "iopub.status.busy": "2021-01-31T00:52:52.342763Z",
     "iopub.status.idle": "2021-01-31T00:52:52.347671Z",
     "shell.execute_reply": "2021-01-31T00:52:52.348504Z"
    }
   },
   "outputs": [],
   "source": [
    "clf = KerasClassifier(\n",
    "    model=get_clf,\n",
    "    loss=\"binary_crossentropy\",\n",
    "    optimizer=\"adam\",\n",
    "    hidden_layer_sizes=(100,),\n",
    "    dropout=0.5,\n",
    ")"
   ]
  },
  {
   "cell_type": "markdown",
   "id": "close-millennium",
   "metadata": {},
   "source": [
    "As in `sklearn`, we call `fit` passing the input data `X` and the targets `y`."
   ]
  },
  {
   "cell_type": "code",
   "execution_count": 11,
   "id": "fifteen-directive",
   "metadata": {
    "execution": {
     "iopub.execute_input": "2021-01-31T00:52:52.358125Z",
     "iopub.status.busy": "2021-01-31T00:52:52.351053Z",
     "iopub.status.idle": "2021-01-31T00:52:52.874488Z",
     "shell.execute_reply": "2021-01-31T00:52:52.875421Z"
    }
   },
   "outputs": [
    {
     "name": "stdout",
     "output_type": "stream",
     "text": [
      "\r",
      " 1/32 [..............................] - ETA: 12s - loss: 1.0856"
     ]
    },
    {
     "name": "stdout",
     "output_type": "stream",
     "text": [
      "\b\b\b\b\b\b\b\b\b\b\b\b\b\b\b\b\b\b\b\b\b\b\b\b\b\b\b\b\b\b\b\b\b\b\b\b\b\b\b\b\b\b\b\b\b\b\b\b\b\b\b\b\b\b\b\b\b\b\b\b\b\b\b\b\r",
      "32/32 [==============================] - 0s 1ms/step - loss: 0.9020\n"
     ]
    },
    {
     "data": {
      "text/plain": [
       "KerasClassifier(\n",
       "\tmodel=<function get_clf at 0x7f69172891f0>\n",
       "\tbuild_fn=None\n",
       "\twarm_start=False\n",
       "\trandom_state=None\n",
       "\toptimizer=adam\n",
       "\tloss=binary_crossentropy\n",
       "\tmetrics=None\n",
       "\tbatch_size=None\n",
       "\tverbose=1\n",
       "\tcallbacks=None\n",
       "\tvalidation_split=0.0\n",
       "\tshuffle=True\n",
       "\trun_eagerly=False\n",
       "\tepochs=1\n",
       "\thidden_layer_sizes=(100,)\n",
       "\tdropout=0.5\n",
       "\tclass_weight=None\n",
       ")"
      ]
     },
     "execution_count": 1,
     "metadata": {},
     "output_type": "execute_result"
    }
   ],
   "source": [
    "clf.fit(X, y)"
   ]
  },
  {
   "cell_type": "markdown",
   "id": "organizational-allen",
   "metadata": {},
   "source": [
    "Also, as in `sklearn`, you may call `predict` or `predict_proba` on the fitted model.\n",
    "\n",
    "### 2.4 Making predictions, classification"
   ]
  },
  {
   "cell_type": "code",
   "execution_count": 12,
   "id": "complex-first",
   "metadata": {
    "execution": {
     "iopub.execute_input": "2021-01-31T00:52:52.878950Z",
     "iopub.status.busy": "2021-01-31T00:52:52.877891Z",
     "iopub.status.idle": "2021-01-31T00:52:52.981826Z",
     "shell.execute_reply": "2021-01-31T00:52:52.981276Z"
    }
   },
   "outputs": [
    {
     "name": "stdout",
     "output_type": "stream",
     "text": [
      "\r",
      "1/1 [==============================] - ETA: 0s"
     ]
    },
    {
     "name": "stdout",
     "output_type": "stream",
     "text": [
      "\b\b\b\b\b\b\b\b\b\b\b\b\b\b\b\b\b\b\b\b\b\b\b\b\b\b\b\b\b\b\b\b\b\b\b\b\b\b\b\b\b\b\b\b\b\b\r",
      "1/1 [==============================] - 0s 71ms/step\n"
     ]
    },
    {
     "data": {
      "text/plain": [
       "array([1, 0, 0, 0, 0])"
      ]
     },
     "execution_count": 1,
     "metadata": {},
     "output_type": "execute_result"
    }
   ],
   "source": [
    "y_pred = clf.predict(X[:5])\n",
    "y_pred"
   ]
  },
  {
   "cell_type": "code",
   "execution_count": 13,
   "id": "ultimate-concern",
   "metadata": {
    "execution": {
     "iopub.execute_input": "2021-01-31T00:52:52.991510Z",
     "iopub.status.busy": "2021-01-31T00:52:52.990852Z",
     "iopub.status.idle": "2021-01-31T00:52:53.029093Z",
     "shell.execute_reply": "2021-01-31T00:52:53.028550Z"
    }
   },
   "outputs": [
    {
     "name": "stdout",
     "output_type": "stream",
     "text": [
      "\r",
      "1/1 [==============================] - ETA: 0s"
     ]
    },
    {
     "name": "stdout",
     "output_type": "stream",
     "text": [
      "\b\b\b\b\b\b\b\b\b\b\b\b\b\b\b\b\b\b\b\b\b\b\b\b\b\b\b\b\b\b\b\b\b\b\b\b\b\b\b\b\b\b\b\b\b\b\r",
      "1/1 [==============================] - 0s 13ms/step\n"
     ]
    },
    {
     "data": {
      "text/plain": [
       "array([[0.45303434, 0.54696566],\n",
       "       [0.7861414 , 0.21385863],\n",
       "       [0.75472856, 0.24527144],\n",
       "       [0.86129224, 0.13870773],\n",
       "       [0.8330428 , 0.1669572 ]], dtype=float32)"
      ]
     },
     "execution_count": 1,
     "metadata": {},
     "output_type": "execute_result"
    }
   ],
   "source": [
    "y_proba = clf.predict_proba(X[:5])\n",
    "y_proba"
   ]
  },
  {
   "cell_type": "markdown",
   "id": "white-choir",
   "metadata": {},
   "source": [
    "## 3 Training a regressor\n",
    "\n",
    "### 3.1 A toy regression task"
   ]
  },
  {
   "cell_type": "code",
   "execution_count": 14,
   "id": "faced-treasury",
   "metadata": {
    "execution": {
     "iopub.execute_input": "2021-01-31T00:52:53.034733Z",
     "iopub.status.busy": "2021-01-31T00:52:53.033945Z",
     "iopub.status.idle": "2021-01-31T00:52:53.037904Z",
     "shell.execute_reply": "2021-01-31T00:52:53.038410Z"
    }
   },
   "outputs": [],
   "source": [
    "from sklearn.datasets import make_regression"
   ]
  },
  {
   "cell_type": "code",
   "execution_count": 15,
   "id": "israeli-minority",
   "metadata": {
    "execution": {
     "iopub.execute_input": "2021-01-31T00:52:53.043842Z",
     "iopub.status.busy": "2021-01-31T00:52:53.043194Z",
     "iopub.status.idle": "2021-01-31T00:52:53.058343Z",
     "shell.execute_reply": "2021-01-31T00:52:53.058868Z"
    }
   },
   "outputs": [],
   "source": [
    "X_regr, y_regr = make_regression(1000, 20, n_informative=10, random_state=0)"
   ]
  },
  {
   "cell_type": "code",
   "execution_count": 16,
   "id": "clean-virtue",
   "metadata": {
    "execution": {
     "iopub.execute_input": "2021-01-31T00:52:53.063512Z",
     "iopub.status.busy": "2021-01-31T00:52:53.062798Z",
     "iopub.status.idle": "2021-01-31T00:52:53.065208Z",
     "shell.execute_reply": "2021-01-31T00:52:53.065815Z"
    }
   },
   "outputs": [
    {
     "data": {
      "text/plain": [
       "((1000, 20), (1000,), -649.0148244404172, 615.4505181286091)"
      ]
     },
     "execution_count": 1,
     "metadata": {},
     "output_type": "execute_result"
    }
   ],
   "source": [
    "X_regr.shape, y_regr.shape, y_regr.min(), y_regr.max()"
   ]
  },
  {
   "cell_type": "markdown",
   "id": "brief-saying",
   "metadata": {},
   "source": [
    "### 3.2 Definition of the Keras regression Model\n",
    "\n",
    "Again, define a vanilla neural network. The main difference is that the output layer always has a single unit and does not apply any nonlinearity."
   ]
  },
  {
   "cell_type": "code",
   "execution_count": 17,
   "id": "juvenile-eating",
   "metadata": {
    "execution": {
     "iopub.execute_input": "2021-01-31T00:52:53.068430Z",
     "iopub.status.busy": "2021-01-31T00:52:53.067847Z",
     "iopub.status.idle": "2021-01-31T00:52:53.072909Z",
     "shell.execute_reply": "2021-01-31T00:52:53.073574Z"
    }
   },
   "outputs": [],
   "source": [
    "def get_reg(meta, hidden_layer_sizes, dropout):\n",
    "    n_features_in_ = meta[\"n_features_in_\"]\n",
    "    model = keras.models.Sequential()\n",
    "    model.add(keras.layers.Input(shape=(n_features_in_,)))\n",
    "    for hidden_layer_size in hidden_layer_sizes:\n",
    "        model.add(keras.layers.Dense(hidden_layer_size, activation=\"relu\"))\n",
    "        model.add(keras.layers.Dropout(dropout))\n",
    "    model.add(keras.layers.Dense(1))\n",
    "    return model"
   ]
  },
  {
   "cell_type": "markdown",
   "id": "personalized-spelling",
   "metadata": {},
   "source": [
    "### 3.3 Defining and training the neural net regressor\n",
    "\n",
    "Training a regressor is almost the same as training a classifier. Mainly, we use `KerasRegressor` instead of `KerasClassifier` (this is the same terminology as in `sklearn`). We also change the loss function to `KerasRegressor.r_squared`. SciKeras provides this loss function because most of the `sklearn` ecosystem expects `R^2` as the loss function, but Keras does not have a default implementation."
   ]
  },
  {
   "cell_type": "code",
   "execution_count": 18,
   "id": "geological-dublin",
   "metadata": {
    "execution": {
     "iopub.execute_input": "2021-01-31T00:52:53.076450Z",
     "iopub.status.busy": "2021-01-31T00:52:53.075803Z",
     "iopub.status.idle": "2021-01-31T00:52:53.078756Z",
     "shell.execute_reply": "2021-01-31T00:52:53.079278Z"
    }
   },
   "outputs": [],
   "source": [
    "from scikeras.wrappers import KerasRegressor"
   ]
  },
  {
   "cell_type": "code",
   "execution_count": 19,
   "id": "amber-violence",
   "metadata": {
    "execution": {
     "iopub.execute_input": "2021-01-31T00:52:53.087804Z",
     "iopub.status.busy": "2021-01-31T00:52:53.086164Z",
     "iopub.status.idle": "2021-01-31T00:52:53.088487Z",
     "shell.execute_reply": "2021-01-31T00:52:53.086850Z"
    }
   },
   "outputs": [],
   "source": [
    "reg = KerasRegressor(\n",
    "    model=get_reg,\n",
    "    loss=KerasRegressor.r_squared,\n",
    "    optimizer=\"adam\",\n",
    "    hidden_layer_sizes=(100,),\n",
    "    dropout=0.5,\n",
    ")"
   ]
  },
  {
   "cell_type": "code",
   "execution_count": 20,
   "id": "innocent-diamond",
   "metadata": {
    "execution": {
     "iopub.execute_input": "2021-01-31T00:52:53.091163Z",
     "iopub.status.busy": "2021-01-31T00:52:53.090573Z",
     "iopub.status.idle": "2021-01-31T00:52:53.648811Z",
     "shell.execute_reply": "2021-01-31T00:52:53.649443Z"
    }
   },
   "outputs": [
    {
     "name": "stdout",
     "output_type": "stream",
     "text": [
      "\r",
      " 1/32 [..............................] - ETA: 12s - loss: -0.0265"
     ]
    },
    {
     "name": "stdout",
     "output_type": "stream",
     "text": [
      "\b\b\b\b\b\b\b\b\b\b\b\b\b\b\b\b\b\b\b\b\b\b\b\b\b\b\b\b\b\b\b\b\b\b\b\b\b\b\b\b\b\b\b\b\b\b\b\b\b\b\b\b\b\b\b\b\b\b\b\b\b\b\b\b\b\r",
      "32/32 [==============================] - 0s 1ms/step - loss: -0.0230\n"
     ]
    },
    {
     "data": {
      "text/plain": [
       "KerasRegressor(\n",
       "\tmodel=<function get_reg at 0x7f68f622e700>\n",
       "\tbuild_fn=None\n",
       "\twarm_start=False\n",
       "\trandom_state=None\n",
       "\toptimizer=adam\n",
       "\tloss=<function KerasRegressor.r_squared at 0x7f691803d9d0>\n",
       "\tmetrics=None\n",
       "\tbatch_size=None\n",
       "\tverbose=1\n",
       "\tcallbacks=None\n",
       "\tvalidation_split=0.0\n",
       "\tshuffle=True\n",
       "\trun_eagerly=False\n",
       "\tepochs=1\n",
       "\thidden_layer_sizes=(100,)\n",
       "\tdropout=0.5\n",
       ")"
      ]
     },
     "execution_count": 1,
     "metadata": {},
     "output_type": "execute_result"
    }
   ],
   "source": [
    "reg.fit(X_regr, y_regr)"
   ]
  },
  {
   "cell_type": "markdown",
   "id": "important-performance",
   "metadata": {},
   "source": [
    "### 3.4 Making predictions, regression\n",
    "\n",
    "You may call `predict` or `predict_proba` on the fitted model. For regressions, both methods return the same value."
   ]
  },
  {
   "cell_type": "code",
   "execution_count": 21,
   "id": "crazy-timothy",
   "metadata": {
    "execution": {
     "iopub.execute_input": "2021-01-31T00:52:53.656051Z",
     "iopub.status.busy": "2021-01-31T00:52:53.654949Z",
     "iopub.status.idle": "2021-01-31T00:52:53.722471Z",
     "shell.execute_reply": "2021-01-31T00:52:53.722004Z"
    }
   },
   "outputs": [
    {
     "name": "stdout",
     "output_type": "stream",
     "text": [
      "\r",
      "1/1 [==============================] - ETA: 0s"
     ]
    },
    {
     "name": "stdout",
     "output_type": "stream",
     "text": [
      "\b\b\b\b\b\b\b\b\b\b\b\b\b\b\b\b\b\b\b\b\b\b\b\b\b\b\b\b\b\b\b\b\b\b\b\b\b\b\b\b\b\b\b\b\b\b\r",
      "1/1 [==============================] - 0s 36ms/step\n"
     ]
    },
    {
     "data": {
      "text/plain": [
       "array([0.44305795, 0.8701182 , 0.41415384, 0.30800396, 1.0401841 ],\n",
       "      dtype=float32)"
      ]
     },
     "execution_count": 1,
     "metadata": {},
     "output_type": "execute_result"
    }
   ],
   "source": [
    "y_pred = reg.predict(X_regr[:5])\n",
    "y_pred"
   ]
  },
  {
   "cell_type": "markdown",
   "id": "upset-border",
   "metadata": {},
   "source": [
    "## 4. Saving and loading a model\n",
    "\n",
    "Save and load either the whole model by using pickle, or use Keras' specialized save methods on the `KerasClassifier.model_` or `KerasRegressor.model_` attribute that is created after fitting. You will want to use Keras' model saving utilities if any of the following apply:\n",
    "\n",
    "1. You wish to save only the weights or only the training configuration of your model.\n",
    "2. You wish to share your model with collaborators. Pickle is a relatively unsafe protocol and it is not recommended to share or load pickle objects publically.\n",
    "3. You care about performance, especially if doing in-memory serialization.\n",
    "\n",
    "For more information, see Keras' [saving documentation](https://www.tensorflow.org/guide/keras/save_and_serialize).\n",
    "\n",
    "### 4.1 Saving the whole model"
   ]
  },
  {
   "cell_type": "code",
   "execution_count": 22,
   "id": "choice-broad",
   "metadata": {
    "execution": {
     "iopub.execute_input": "2021-01-31T00:52:53.726516Z",
     "iopub.status.busy": "2021-01-31T00:52:53.725965Z",
     "iopub.status.idle": "2021-01-31T00:52:53.729551Z",
     "shell.execute_reply": "2021-01-31T00:52:53.729946Z"
    }
   },
   "outputs": [],
   "source": [
    "import pickle"
   ]
  },
  {
   "cell_type": "code",
   "execution_count": 23,
   "id": "demographic-carolina",
   "metadata": {
    "execution": {
     "iopub.execute_input": "2021-01-31T00:52:53.738832Z",
     "iopub.status.busy": "2021-01-31T00:52:53.738269Z",
     "iopub.status.idle": "2021-01-31T00:52:54.302236Z",
     "shell.execute_reply": "2021-01-31T00:52:54.302762Z"
    }
   },
   "outputs": [],
   "source": [
    "bytes_model = pickle.dumps(reg)"
   ]
  },
  {
   "cell_type": "code",
   "execution_count": 24,
   "id": "broke-rendering",
   "metadata": {
    "execution": {
     "iopub.execute_input": "2021-01-31T00:52:54.307839Z",
     "iopub.status.busy": "2021-01-31T00:52:54.306646Z",
     "iopub.status.idle": "2021-01-31T00:52:54.613973Z",
     "shell.execute_reply": "2021-01-31T00:52:54.614605Z"
    }
   },
   "outputs": [
    {
     "data": {
      "text/plain": [
       "KerasRegressor(\n",
       "\tmodel=<function get_reg at 0x7f68f622e700>\n",
       "\tbuild_fn=None\n",
       "\twarm_start=False\n",
       "\trandom_state=None\n",
       "\toptimizer=adam\n",
       "\tloss=<function KerasRegressor.r_squared at 0x7f691803d9d0>\n",
       "\tmetrics=None\n",
       "\tbatch_size=None\n",
       "\tverbose=1\n",
       "\tcallbacks=None\n",
       "\tvalidation_split=0.0\n",
       "\tshuffle=True\n",
       "\trun_eagerly=False\n",
       "\tepochs=1\n",
       "\thidden_layer_sizes=(100,)\n",
       "\tdropout=0.5\n",
       ")"
      ]
     },
     "execution_count": 1,
     "metadata": {},
     "output_type": "execute_result"
    }
   ],
   "source": [
    "new_reg = pickle.loads(bytes_model)\n",
    "new_reg"
   ]
  },
  {
   "cell_type": "markdown",
   "id": "under-taylor",
   "metadata": {},
   "source": [
    "### 4.2 Saving using Keras' saving methods\n",
    "\n",
    "This efficiently and safely saves the model to disk, including trained weights.\n",
    "You should use this method if you plan on sharing your saved models."
   ]
  },
  {
   "cell_type": "code",
   "execution_count": 25,
   "id": "dress-attendance",
   "metadata": {
    "execution": {
     "iopub.execute_input": "2021-01-31T00:52:54.621082Z",
     "iopub.status.busy": "2021-01-31T00:52:54.619669Z",
     "iopub.status.idle": "2021-01-31T00:52:55.130412Z",
     "shell.execute_reply": "2021-01-31T00:52:55.130973Z"
    }
   },
   "outputs": [],
   "source": [
    "# Save to disk\n",
    "reg.model_.save(\"/tmp/my_model\")"
   ]
  },
  {
   "cell_type": "code",
   "execution_count": 26,
   "id": "governmental-vintage",
   "metadata": {
    "execution": {
     "iopub.execute_input": "2021-01-31T00:52:55.135064Z",
     "iopub.status.busy": "2021-01-31T00:52:55.133798Z",
     "iopub.status.idle": "2021-01-31T00:52:55.897785Z",
     "shell.execute_reply": "2021-01-31T00:52:55.897183Z"
    }
   },
   "outputs": [
    {
     "name": "stdout",
     "output_type": "stream",
     "text": [
      "\r",
      " 1/32 [..............................] - ETA: 11s - loss: -0.0797"
     ]
    },
    {
     "name": "stdout",
     "output_type": "stream",
     "text": [
      "\b\b\b\b\b\b\b\b\b\b\b\b\b\b\b\b\b\b\b\b\b\b\b\b\b\b\b\b\b\b\b\b\b\b\b\b\b\b\b\b\b\b\b\b\b\b\b\b\b\b\b\b\b\b\b\b\b\b\b\b\b\b\b\b\b\r",
      "32/32 [==============================] - 0s 1ms/step - loss: -0.0410\n"
     ]
    },
    {
     "name": "stdout",
     "output_type": "stream",
     "text": [
      "\r",
      "1/1 [==============================] - ETA: 0s"
     ]
    },
    {
     "name": "stdout",
     "output_type": "stream",
     "text": [
      "\b\b\b\b\b\b\b\b\b\b\b\b\b\b\b\b\b\b\b\b\b\b\b\b\b\b\b\b\b\b\b\b\b\b\b\b\b\b\b\b\b\b\b\b\b\b\r",
      "1/1 [==============================] - 0s 38ms/step\n"
     ]
    },
    {
     "data": {
      "text/plain": [
       "array([0.30021533, 1.2752954 , 0.25129902, 0.21341729, 1.1123017 ],\n",
       "      dtype=float32)"
      ]
     },
     "execution_count": 1,
     "metadata": {},
     "output_type": "execute_result"
    }
   ],
   "source": [
    "# Load the model back into memory\n",
    "new_reg_model = keras.models.load_model(\"/tmp/my_model\")\n",
    "# Now we need to instantiate a new SciKeras object with this model\n",
    "# Note that we no longer pass paramters like hidden_layer_sizes, those\n",
    "# are note \"fixed\"\n",
    "reg = KerasRegressor(\n",
    "    new_reg_model,\n",
    "    loss=KerasRegressor.r_squared,\n",
    "    optimizer=\"adam\",\n",
    ")\n",
    "reg.fit(X_regr, y_regr)\n",
    "reg.predict(X_regr[:5])"
   ]
  },
  {
   "cell_type": "markdown",
   "id": "practical-enlargement",
   "metadata": {},
   "source": [
    "## 5. Usage with an sklearn Pipeline\n",
    "\n",
    "It is possible to put the `KerasClassifier` inside an `sklearn Pipeline`, as you would with any `sklearn` classifier."
   ]
  },
  {
   "cell_type": "code",
   "execution_count": 27,
   "id": "developed-headline",
   "metadata": {
    "execution": {
     "iopub.execute_input": "2021-01-31T00:52:55.902365Z",
     "iopub.status.busy": "2021-01-31T00:52:55.901506Z",
     "iopub.status.idle": "2021-01-31T00:52:55.904374Z",
     "shell.execute_reply": "2021-01-31T00:52:55.904805Z"
    }
   },
   "outputs": [],
   "source": [
    "from sklearn.pipeline import Pipeline\n",
    "from sklearn.preprocessing import StandardScaler"
   ]
  },
  {
   "cell_type": "code",
   "execution_count": 28,
   "id": "gross-quality",
   "metadata": {
    "execution": {
     "iopub.execute_input": "2021-01-31T00:52:55.910864Z",
     "iopub.status.busy": "2021-01-31T00:52:55.908805Z",
     "iopub.status.idle": "2021-01-31T00:52:55.911601Z",
     "shell.execute_reply": "2021-01-31T00:52:55.912163Z"
    }
   },
   "outputs": [],
   "source": [
    "pipe = Pipeline([\n",
    "    ('scale', StandardScaler()),\n",
    "    ('clf', clf),\n",
    "])"
   ]
  },
  {
   "cell_type": "code",
   "execution_count": 29,
   "id": "worst-attendance",
   "metadata": {
    "execution": {
     "iopub.execute_input": "2021-01-31T00:52:55.923016Z",
     "iopub.status.busy": "2021-01-31T00:52:55.922359Z",
     "iopub.status.idle": "2021-01-31T00:52:56.368276Z",
     "shell.execute_reply": "2021-01-31T00:52:56.368925Z"
    }
   },
   "outputs": [
    {
     "name": "stdout",
     "output_type": "stream",
     "text": [
      "\r",
      " 1/32 [..............................] - ETA: 10s - loss: 0.6935"
     ]
    },
    {
     "name": "stdout",
     "output_type": "stream",
     "text": [
      "\b\b\b\b\b\b\b\b\b\b\b\b\b\b\b\b\b\b\b\b\b\b\b\b\b\b\b\b\b\b\b\b\b\b\b\b\b\b\b\b\b\b\b\b\b\b\b\b\b\b\b\b\b\b\b\b\b\b\b\b\b\b\b\b\r",
      "32/32 [==============================] - 0s 1ms/step - loss: 0.7133\n"
     ]
    },
    {
     "data": {
      "text/plain": [
       "Pipeline(steps=[('scale', StandardScaler()),\n",
       "                ('clf',\n",
       "                 KerasClassifier(dropout=0.5, hidden_layer_sizes=(100,), loss='binary_crossentropy', model=<function get_clf at 0x7f69172891f0>, optimizer='adam'))])"
      ]
     },
     "execution_count": 1,
     "metadata": {},
     "output_type": "execute_result"
    }
   ],
   "source": [
    "pipe.fit(X, y)"
   ]
  },
  {
   "cell_type": "code",
   "execution_count": 30,
   "id": "phantom-acoustic",
   "metadata": {
    "execution": {
     "iopub.execute_input": "2021-01-31T00:52:56.372163Z",
     "iopub.status.busy": "2021-01-31T00:52:56.371258Z",
     "iopub.status.idle": "2021-01-31T00:52:56.436775Z",
     "shell.execute_reply": "2021-01-31T00:52:56.436351Z"
    }
   },
   "outputs": [
    {
     "name": "stdout",
     "output_type": "stream",
     "text": [
      "\r",
      "1/1 [==============================] - ETA: 0s"
     ]
    },
    {
     "name": "stdout",
     "output_type": "stream",
     "text": [
      "\b\b\b\b\b\b\b\b\b\b\b\b\b\b\b\b\b\b\b\b\b\b\b\b\b\b\b\b\b\b\b\b\b\b\b\b\b\b\b\b\b\b\b\b\b\b\r",
      "1/1 [==============================] - 0s 35ms/step\n"
     ]
    },
    {
     "data": {
      "text/plain": [
       "array([[0.33732247, 0.6626775 ],\n",
       "       [0.7144763 , 0.2855237 ],\n",
       "       [0.7435339 , 0.2564661 ],\n",
       "       [0.70131993, 0.29868004],\n",
       "       [0.46363932, 0.5363607 ]], dtype=float32)"
      ]
     },
     "execution_count": 1,
     "metadata": {},
     "output_type": "execute_result"
    }
   ],
   "source": [
    "y_proba = pipe.predict_proba(X[:5])\n",
    "y_proba"
   ]
  },
  {
   "cell_type": "markdown",
   "id": "buried-programming",
   "metadata": {},
   "source": [
    "To save the whole pipeline, including the Keras model, use `pickle`.\n",
    "\n",
    "## 6. Callbacks\n",
    "\n",
    "Adding a new callback to the model is straightforward. Below we show how to add an `EarlyStopping` callback to prevent overfitting."
   ]
  },
  {
   "cell_type": "code",
   "execution_count": 31,
   "id": "reported-groove",
   "metadata": {
    "execution": {
     "iopub.execute_input": "2021-01-31T00:52:56.440040Z",
     "iopub.status.busy": "2021-01-31T00:52:56.439123Z",
     "iopub.status.idle": "2021-01-31T00:52:56.443807Z",
     "shell.execute_reply": "2021-01-31T00:52:56.444563Z"
    }
   },
   "outputs": [],
   "source": [
    "es = keras.callbacks.EarlyStopping(monitor='val_binary_accuracy', mode='max', patience=200, verbose=1)"
   ]
  },
  {
   "cell_type": "markdown",
   "id": "australian-sixth",
   "metadata": {},
   "source": [
    "We now generate a toy dataset using `sklearn.datasets.make_moons`. This dataset was chosen specifically to trigger early stopping."
   ]
  },
  {
   "cell_type": "code",
   "execution_count": 32,
   "id": "novel-configuration",
   "metadata": {
    "execution": {
     "iopub.execute_input": "2021-01-31T00:52:56.448629Z",
     "iopub.status.busy": "2021-01-31T00:52:56.446670Z",
     "iopub.status.idle": "2021-01-31T00:52:56.450775Z",
     "shell.execute_reply": "2021-01-31T00:52:56.451399Z"
    }
   },
   "outputs": [],
   "source": [
    "from sklearn.datasets import make_moons"
   ]
  },
  {
   "cell_type": "code",
   "execution_count": 33,
   "id": "interim-namibia",
   "metadata": {
    "execution": {
     "iopub.execute_input": "2021-01-31T00:52:56.455160Z",
     "iopub.status.busy": "2021-01-31T00:52:56.453378Z",
     "iopub.status.idle": "2021-01-31T00:52:56.460785Z",
     "shell.execute_reply": "2021-01-31T00:52:56.461419Z"
    }
   },
   "outputs": [
    {
     "data": {
      "text/plain": [
       "((100, 2), (100,))"
      ]
     },
     "execution_count": 1,
     "metadata": {},
     "output_type": "execute_result"
    }
   ],
   "source": [
    "X, y = make_moons(n_samples=100, noise=0.2, random_state=0)\n",
    "X.shape, y.shape"
   ]
  },
  {
   "cell_type": "markdown",
   "id": "progressive-hollywood",
   "metadata": {},
   "source": [
    "We will first check fitting without the callback and then with. We will compare the training time and final accuracy."
   ]
  },
  {
   "cell_type": "code",
   "execution_count": 34,
   "id": "finite-hollywood",
   "metadata": {
    "execution": {
     "iopub.execute_input": "2021-01-31T00:52:56.465781Z",
     "iopub.status.busy": "2021-01-31T00:52:56.464093Z",
     "iopub.status.idle": "2021-01-31T00:52:56.467923Z",
     "shell.execute_reply": "2021-01-31T00:52:56.468796Z"
    }
   },
   "outputs": [],
   "source": [
    "import time"
   ]
  },
  {
   "cell_type": "code",
   "execution_count": 35,
   "id": "acknowledged-defensive",
   "metadata": {
    "execution": {
     "iopub.execute_input": "2021-01-31T00:52:56.479682Z",
     "iopub.status.busy": "2021-01-31T00:52:56.479165Z",
     "iopub.status.idle": "2021-01-31T00:53:15.766419Z",
     "shell.execute_reply": "2021-01-31T00:53:15.765565Z"
    }
   },
   "outputs": [
    {
     "name": "stdout",
     "output_type": "stream",
     "text": [
      "Training time: 2.59871934379727e+18\n",
      "Final accuracy: 1.0\n"
     ]
    }
   ],
   "source": [
    "# First test without the callback\n",
    "clf = KerasClassifier(\n",
    "    model=get_clf,\n",
    "    loss=\"binary_crossentropy\",\n",
    "    optimizer=\"adam\",\n",
    "    hidden_layer_sizes=(500,),\n",
    "    dropout=0.5,\n",
    "    metrics=[\"binary_accuracy\"],\n",
    "    fit__validation_split=0.2,\n",
    "    epochs=500,\n",
    "    verbose=False,\n",
    ")\n",
    "start = time.time()\n",
    "clf.fit(X, y)\n",
    "print(f\"Training time: {time.time() * start}\")\n",
    "print(f\"Final accuracy: {clf.history_['val_binary_accuracy'][-1]}\")  # get last value of last fit/partial_fit call"
   ]
  },
  {
   "cell_type": "code",
   "execution_count": 36,
   "id": "engaging-detective",
   "metadata": {
    "execution": {
     "iopub.execute_input": "2021-01-31T00:53:15.769982Z",
     "iopub.status.busy": "2021-01-31T00:53:15.768714Z",
     "iopub.status.idle": "2021-01-31T00:53:24.692558Z",
     "shell.execute_reply": "2021-01-31T00:53:24.691970Z"
    }
   },
   "outputs": [
    {
     "name": "stdout",
     "output_type": "stream",
     "text": [
      "Epoch 00217: early stopping\n",
      "Training time: 2.598719389300417e+18\n",
      "Final accuracy: 1.0\n"
     ]
    }
   ],
   "source": [
    "# Test with the callback\n",
    "clf = KerasClassifier(\n",
    "    model=get_clf,\n",
    "    loss=\"binary_crossentropy\",\n",
    "    optimizer=\"adam\",\n",
    "    hidden_layer_sizes=(500,),\n",
    "    dropout=0.5,\n",
    "    metrics=[\"binary_accuracy\"],\n",
    "    fit__validation_split=0.2,\n",
    "    epochs=500,\n",
    "    verbose=False,\n",
    "    callbacks=[es]\n",
    ")\n",
    "start = time.time()\n",
    "clf.fit(X, y)\n",
    "print(f\"Training time: {time.time() * start}\")\n",
    "print(f\"Final accuracy: {clf.history_['val_binary_accuracy'][-1]}\")  # get last value of last fit/partial_fit call"
   ]
  },
  {
   "cell_type": "markdown",
   "id": "sonic-mistress",
   "metadata": {},
   "source": [
    "For information on how to write custom callbacks, have a look at the \n",
    "\n",
    "---\n",
    "\n",
    "[Advanced_Usage](https://nbviewer.jupyter.org/github/adriangb/scikeras/blob/master/notebooks/Advanced_Usage.ipynb) notebook.\n",
    "\n",
    "## 7. Usage with sklearn GridSearchCV\n",
    "\n",
    "### 7.1 Special prefixes\n",
    "\n",
    "SciKeras allows to direct access to all parameters passed to the wrapper constructors, including deeply nested routed parameters. This allows tunning of\n",
    "paramters like `hidden_layer_sizes` as well as `optimizer__learning_rate`.\n",
    "\n",
    "This is exactly the same logic that allows to access estimator parameters in `sklearn Pipeline`s and `FeatureUnion`s.\n",
    "\n",
    "This feature is useful in several ways. For one, it allows to set those parameters in the model definition. Furthermore, it allows you to set parameters in an `sklearn GridSearchCV` as shown below.\n",
    "\n",
    "To differentiate paramters like `callbacks` which are accepted by both `tf.keras.Model.fit` and `tf.keras.Model.predict` you can add a `fit__` or `predict__` routing suffix respectively. Similar, the `model__` prefix may be used to specify that a paramter is destined only for `get_clf`/`get_reg` (or whatever callable you pass as your `model` argument).\n",
    "\n",
    "For more information on parameter routing with special prefixes, see the [Advanced Usage Docs](https://scikeras.org.readthedocs.build/en/latest/advanced.html#routed-parameters)\n",
    "\n",
    "### 7.2 Performing a grid search\n",
    "\n",
    "Below we show how to perform a grid search over the learning rate (`optimizer__lr`), the model's number of hidden layers (`model__hidden_layer_sizes`), the model's dropout rate (`model__dropout`)."
   ]
  },
  {
   "cell_type": "code",
   "execution_count": 37,
   "id": "polyphonic-image",
   "metadata": {
    "execution": {
     "iopub.execute_input": "2021-01-31T00:53:24.698172Z",
     "iopub.status.busy": "2021-01-31T00:53:24.696164Z",
     "iopub.status.idle": "2021-01-31T00:53:24.710775Z",
     "shell.execute_reply": "2021-01-31T00:53:24.711255Z"
    }
   },
   "outputs": [],
   "source": [
    "from sklearn.model_selection import GridSearchCV"
   ]
  },
  {
   "cell_type": "code",
   "execution_count": 38,
   "id": "overall-therapy",
   "metadata": {
    "execution": {
     "iopub.execute_input": "2021-01-31T00:53:24.715380Z",
     "iopub.status.busy": "2021-01-31T00:53:24.714802Z",
     "iopub.status.idle": "2021-01-31T00:53:24.718864Z",
     "shell.execute_reply": "2021-01-31T00:53:24.718387Z"
    }
   },
   "outputs": [],
   "source": [
    "clf = KerasClassifier(\n",
    "    model=get_clf,\n",
    "    loss=\"binary_crossentropy\",\n",
    "    optimizer=\"adam\",\n",
    "    optimizer__lr=0.1,\n",
    "    model__hidden_layer_sizes=(100,),\n",
    "    model__dropout=0.5,\n",
    "    verbose=False,\n",
    ")"
   ]
  },
  {
   "cell_type": "markdown",
   "id": "latin-wednesday",
   "metadata": {},
   "source": [
    "*Note*: We set the verbosity level to zero (`verbose=False`) to prevent too much print output from being shown."
   ]
  },
  {
   "cell_type": "code",
   "execution_count": 39,
   "id": "adopted-psychiatry",
   "metadata": {
    "execution": {
     "iopub.execute_input": "2021-01-31T00:53:24.724643Z",
     "iopub.status.busy": "2021-01-31T00:53:24.723150Z",
     "iopub.status.idle": "2021-01-31T00:53:24.725200Z",
     "shell.execute_reply": "2021-01-31T00:53:24.725741Z"
    }
   },
   "outputs": [],
   "source": [
    "params = {\n",
    "    'optimizer__lr': [0.05, 0.1],\n",
    "    'model__hidden_layer_sizes': [(100, ), (50, 50, ), (33, 33, 33, )],\n",
    "    'model__dropout': [0, 0.5],\n",
    "}"
   ]
  },
  {
   "cell_type": "code",
   "execution_count": 40,
   "id": "exciting-mexican",
   "metadata": {
    "execution": {
     "iopub.execute_input": "2021-01-31T00:53:24.730209Z",
     "iopub.status.busy": "2021-01-31T00:53:24.729142Z",
     "iopub.status.idle": "2021-01-31T00:53:24.730825Z",
     "shell.execute_reply": "2021-01-31T00:53:24.731285Z"
    }
   },
   "outputs": [],
   "source": [
    "gs = GridSearchCV(clf, params, scoring='accuracy', n_jobs=-1, verbose=True)"
   ]
  },
  {
   "cell_type": "code",
   "execution_count": 41,
   "id": "outer-pottery",
   "metadata": {
    "execution": {
     "iopub.execute_input": "2021-01-31T00:53:24.734648Z",
     "iopub.status.busy": "2021-01-31T00:53:24.734147Z",
     "iopub.status.idle": "2021-01-31T00:54:06.891990Z",
     "shell.execute_reply": "2021-01-31T00:54:06.892679Z"
    }
   },
   "outputs": [
    {
     "name": "stdout",
     "output_type": "stream",
     "text": [
      "Fitting 5 folds for each of 12 candidates, totalling 60 fits\n"
     ]
    },
    {
     "data": {
      "text/plain": [
       "GridSearchCV(estimator=KerasClassifier(loss='binary_crossentropy', model=<function get_clf at 0x7f69172891f0>, model__dropout=0.5, model__hidden_layer_sizes=(100,), optimizer='adam', optimizer__lr=0.1, verbose=False),\n",
       "             n_jobs=-1,\n",
       "             param_grid={'model__dropout': [0, 0.5],\n",
       "                         'model__hidden_layer_sizes': [(100,), (50, 50),\n",
       "                                                       (33, 33, 33)],\n",
       "                         'optimizer__lr': [0.05, 0.1]},\n",
       "             scoring='accuracy', verbose=True)"
      ]
     },
     "execution_count": 1,
     "metadata": {},
     "output_type": "execute_result"
    }
   ],
   "source": [
    "gs.fit(X, y)"
   ]
  },
  {
   "cell_type": "code",
   "execution_count": 42,
   "id": "offensive-rover",
   "metadata": {
    "execution": {
     "iopub.execute_input": "2021-01-31T00:54:06.896340Z",
     "iopub.status.busy": "2021-01-31T00:54:06.895168Z",
     "iopub.status.idle": "2021-01-31T00:54:06.910975Z",
     "shell.execute_reply": "2021-01-31T00:54:06.914540Z"
    }
   },
   "outputs": [
    {
     "name": "stdout",
     "output_type": "stream",
     "text": [
      "0.89 {'model__dropout': 0.5, 'model__hidden_layer_sizes': (100,), 'optimizer__lr': 0.1}\n"
     ]
    }
   ],
   "source": [
    "print(gs.best_score_, gs.best_params_)"
   ]
  },
  {
   "cell_type": "markdown",
   "id": "particular-video",
   "metadata": {},
   "source": [
    "Of course, we could further nest the `KerasClassifier` within an `sklearn Pipeline`, in which case we just prefix the parameter by the name of the net (e.g. `clf__model__hidden_layer_sizes`)."
   ]
  }
 ],
 "metadata": {
  "jupytext": {
   "formats": "ipynb,md"
  },
  "kernelspec": {
   "display_name": "Python 3",
   "language": "python",
   "name": "python3"
  },
  "language_info": {
   "codemirror_mode": {
    "name": "ipython",
    "version": 3
   },
   "file_extension": ".py",
   "mimetype": "text/x-python",
   "name": "python",
   "nbconvert_exporter": "python",
   "pygments_lexer": "ipython3",
   "version": "3.8.7"
  }
 },
 "nbformat": 4,
 "nbformat_minor": 5
}
