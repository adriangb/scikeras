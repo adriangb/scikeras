{
 "cells": [
  {
   "cell_type": "raw",
   "id": "cheap-anniversary",
   "metadata": {},
   "source": [
    "<a href=\"https://colab.research.google.com/github/adriangb/scikeras/blob/docs-deploy/refs/heads/master/notebooks/Basic_Usage.ipynb\"><img src=\"https://www.tensorflow.org/images/colab_logo_32px.png\">Run in Google Colab</a>"
   ]
  },
  {
   "cell_type": "markdown",
   "id": "heated-wrong",
   "metadata": {},
   "source": [
    "# Basic usage\n",
    "\n",
    "`SciKeras` is designed to maximize interoperability between `sklearn` and `Keras/TensorFlow`. The aim is to keep 99% of the flexibility of `Keras` while being able to leverage most features of `sklearn`. Below, we show the basic usage of `SciKeras` and how it can be combined with `sklearn`.\n",
    "\n",
    "This notebook shows you how to use the basic functionality of `SciKeras`.\n",
    "\n",
    "## Table of contents\n",
    "\n",
    "* [1. Setup](#1.-Setup)\n",
    "* [2. Training a classifier and making predictions](#2.-Training-a-classifier-and-making-predictions)\n",
    "  * [2.1 A toy binary classification task](#2.1-A-toy-binary-classification-task)\n",
    "  * [2.2 Definition of the Keras classification Model](#2.2-Definition-of-the-Keras-classification-Model)\n",
    "  * [2.3 Defining and training the neural net classifier](#2.3-Defining-and-training-the-neural-net-classifier)\n",
    "  * [2.4 Making predictions, classification](#2.4-Making-predictions-classification)\n",
    "* [3 Training a regressor](#3.-Training-a-regressor)\n",
    "  * [3.1 A toy regression task](#3.1-A-toy-regression-task)\n",
    "  * [3.2 Definition of the Keras regression Model](#3.2-Definition-of-the-Keras-regression-Model)\n",
    "  * [3.3 Defining and training the neural net regressor](#3.3-Defining-and-training-the-neural-net-regressor)\n",
    "  * [3.4 Making predictions, regression](#3.4-Making-predictions-regression)\n",
    "* [4. Saving and loading a model](#4.-Saving-and-loading-a-model)\n",
    "  * [4.1 Saving the whole model](#4.1-Saving-the-whole-model)\n",
    "  * [4.2 Saving using Keras' saving methods](#4.2-Saving-using-Keras-saving-methods)\n",
    "* [5. Usage with an sklearn Pipeline](#5.-Usage-with-an-sklearn-Pipeline)\n",
    "* [6. Callbacks](#6.-Callbacks)\n",
    "* [7. Usage with sklearn GridSearchCV](#7.-Usage-with-sklearn-GridSearchCV)\n",
    "  * [7.1 Special prefixes](#7.1-Special-prefixes)\n",
    "  * [7.2 Performing a grid search](#7.2-Performing-a-grid-search)\n",
    "\n",
    "## 1. Setup"
   ]
  },
  {
   "cell_type": "code",
   "execution_count": 1,
   "id": "level-treaty",
   "metadata": {
    "execution": {
     "iopub.execute_input": "2021-01-28T18:41:24.448198Z",
     "iopub.status.busy": "2021-01-28T18:41:24.447342Z",
     "iopub.status.idle": "2021-01-28T18:41:26.139106Z",
     "shell.execute_reply": "2021-01-28T18:41:26.139576Z"
    }
   },
   "outputs": [],
   "source": [
    "try:\n",
    "    import scikeras\n",
    "except ImportError:\n",
    "    !python -m pip install scikeras"
   ]
  },
  {
   "cell_type": "markdown",
   "id": "everyday-stream",
   "metadata": {},
   "source": [
    "Silence TensorFlow logging to keep output succinct."
   ]
  },
  {
   "cell_type": "code",
   "execution_count": 2,
   "id": "otherwise-defendant",
   "metadata": {
    "execution": {
     "iopub.execute_input": "2021-01-28T18:41:26.143898Z",
     "iopub.status.busy": "2021-01-28T18:41:26.142142Z",
     "iopub.status.idle": "2021-01-28T18:41:26.148069Z",
     "shell.execute_reply": "2021-01-28T18:41:26.148536Z"
    }
   },
   "outputs": [],
   "source": [
    "import warnings\n",
    "from tensorflow import get_logger\n",
    "get_logger().setLevel('ERROR')\n",
    "warnings.filterwarnings(\"ignore\", message=\"Setting the random state for TF\")"
   ]
  },
  {
   "cell_type": "code",
   "execution_count": 3,
   "id": "chicken-pricing",
   "metadata": {
    "execution": {
     "iopub.execute_input": "2021-01-28T18:41:26.156848Z",
     "iopub.status.busy": "2021-01-28T18:41:26.156204Z",
     "iopub.status.idle": "2021-01-28T18:41:26.650367Z",
     "shell.execute_reply": "2021-01-28T18:41:26.650926Z"
    }
   },
   "outputs": [],
   "source": [
    "import numpy as np\n",
    "from scikeras.wrappers import KerasClassifier, KerasRegressor\n",
    "from tensorflow import keras"
   ]
  },
  {
   "cell_type": "markdown",
   "id": "signal-truck",
   "metadata": {},
   "source": [
    "## 2. Training a classifier and making predictions\n",
    "\n",
    "### 2.1 A toy binary classification task\n",
    "\n",
    "We load a toy classification task from `sklearn`."
   ]
  },
  {
   "cell_type": "code",
   "execution_count": 4,
   "id": "ongoing-magnitude",
   "metadata": {
    "execution": {
     "iopub.execute_input": "2021-01-28T18:41:26.654289Z",
     "iopub.status.busy": "2021-01-28T18:41:26.653191Z",
     "iopub.status.idle": "2021-01-28T18:41:26.692987Z",
     "shell.execute_reply": "2021-01-28T18:41:26.693809Z"
    }
   },
   "outputs": [],
   "source": [
    "import numpy as np\n",
    "from sklearn.datasets import make_classification"
   ]
  },
  {
   "cell_type": "code",
   "execution_count": 5,
   "id": "dominant-context",
   "metadata": {
    "execution": {
     "iopub.execute_input": "2021-01-28T18:41:26.697999Z",
     "iopub.status.busy": "2021-01-28T18:41:26.696661Z",
     "iopub.status.idle": "2021-01-28T18:41:26.704918Z",
     "shell.execute_reply": "2021-01-28T18:41:26.705780Z"
    }
   },
   "outputs": [],
   "source": [
    "X, y = make_classification(1000, 20, n_informative=10, random_state=0)"
   ]
  },
  {
   "cell_type": "code",
   "execution_count": 6,
   "id": "demonstrated-disposal",
   "metadata": {
    "execution": {
     "iopub.execute_input": "2021-01-28T18:41:26.717879Z",
     "iopub.status.busy": "2021-01-28T18:41:26.708825Z",
     "iopub.status.idle": "2021-01-28T18:41:26.724322Z",
     "shell.execute_reply": "2021-01-28T18:41:26.723750Z"
    }
   },
   "outputs": [
    {
     "data": {
      "text/plain": [
       "((1000, 20), (1000,), 0.5)"
      ]
     },
     "execution_count": 1,
     "metadata": {},
     "output_type": "execute_result"
    }
   ],
   "source": [
    "X.shape, y.shape, y.mean()"
   ]
  },
  {
   "cell_type": "markdown",
   "id": "opened-mainstream",
   "metadata": {},
   "source": [
    "### 2.2 Definition of the Keras classification Model\n",
    "\n",
    "We define a vanilla neural network with.\n",
    "\n",
    "Because we are dealing with 2 classes, the output layer can be constructed in\n",
    "two different ways:\n",
    "\n",
    "1. Single unit with a `\"sigmoid\"` nonlinearity. The loss must be `\"binary_crossentropy\"`.\n",
    "2. Two units (one for each class) and a `\"softmax\"` nonlinearity. The loss must be `\"sparse_categorical_crossentropy\"`.\n",
    "\n",
    "In this example, we choose the first option, which is what you would usually\n",
    "do for binary classification. The second option is usually reserved for when\n",
    "you have >2 classes."
   ]
  },
  {
   "cell_type": "code",
   "execution_count": 7,
   "id": "following-metabolism",
   "metadata": {
    "execution": {
     "iopub.execute_input": "2021-01-28T18:41:26.728670Z",
     "iopub.status.busy": "2021-01-28T18:41:26.727984Z",
     "iopub.status.idle": "2021-01-28T18:41:26.731397Z",
     "shell.execute_reply": "2021-01-28T18:41:26.732556Z"
    }
   },
   "outputs": [],
   "source": [
    "from tensorflow import keras"
   ]
  },
  {
   "cell_type": "code",
   "execution_count": 8,
   "id": "encouraging-converter",
   "metadata": {
    "execution": {
     "iopub.execute_input": "2021-01-28T18:41:26.739198Z",
     "iopub.status.busy": "2021-01-28T18:41:26.738543Z",
     "iopub.status.idle": "2021-01-28T18:41:26.742636Z",
     "shell.execute_reply": "2021-01-28T18:41:26.742113Z"
    }
   },
   "outputs": [],
   "source": [
    "def get_clf(meta, hidden_layer_sizes, dropout):\n",
    "    n_features_in_ = meta[\"n_features_in_\"]\n",
    "    n_classes_ = meta[\"n_classes_\"]\n",
    "    model = keras.models.Sequential()\n",
    "    model.add(keras.layers.Input(shape=(n_features_in_,)))\n",
    "    for hidden_layer_size in hidden_layer_sizes:\n",
    "        model.add(keras.layers.Dense(hidden_layer_size, activation=\"relu\"))\n",
    "        model.add(keras.layers.Dropout(dropout))\n",
    "    model.add(keras.layers.Dense(1, activation=\"sigmoid\"))\n",
    "    return model"
   ]
  },
  {
   "cell_type": "markdown",
   "id": "spoken-medium",
   "metadata": {},
   "source": [
    "### 2.3 Defining and training the neural net classifier\n",
    "\n",
    "We use `KerasClassifier` because we're dealing with a classifcation task. The first argument should be a callable returning a `Keras.Model`, in this case, `get_clf`. As additional arguments, we pass the number of loss function (required) and the optimizer, but the later is optional. We must also pass all of the arguments to `get_clf` as keyword arguments to `KerasClassifier` if they don't have a default value in `get_clf`. Note that if you do not pass an argument to `KerasClassifier`, it will not be avilable for hyperparameter tuning. Finally, we also pass `random_state=0` for reproducible results."
   ]
  },
  {
   "cell_type": "code",
   "execution_count": 9,
   "id": "successful-express",
   "metadata": {
    "execution": {
     "iopub.execute_input": "2021-01-28T18:41:26.747482Z",
     "iopub.status.busy": "2021-01-28T18:41:26.746854Z",
     "iopub.status.idle": "2021-01-28T18:41:26.750371Z",
     "shell.execute_reply": "2021-01-28T18:41:26.751196Z"
    }
   },
   "outputs": [],
   "source": [
    "from scikeras.wrappers import KerasClassifier"
   ]
  },
  {
   "cell_type": "code",
   "execution_count": 10,
   "id": "offensive-instrumentation",
   "metadata": {
    "execution": {
     "iopub.execute_input": "2021-01-28T18:41:26.756140Z",
     "iopub.status.busy": "2021-01-28T18:41:26.755518Z",
     "iopub.status.idle": "2021-01-28T18:41:26.759745Z",
     "shell.execute_reply": "2021-01-28T18:41:26.759209Z"
    }
   },
   "outputs": [],
   "source": [
    "clf = KerasClassifier(\n",
    "    model=get_clf,\n",
    "    loss=\"binary_crossentropy\",\n",
    "    optimizer=\"adam\",\n",
    "    hidden_layer_sizes=(100,),\n",
    "    dropout=0.5,\n",
    ")"
   ]
  },
  {
   "cell_type": "markdown",
   "id": "declared-western",
   "metadata": {},
   "source": [
    "As in `sklearn`, we call `fit` passing the input data `X` and the targets `y`."
   ]
  },
  {
   "cell_type": "code",
   "execution_count": 11,
   "id": "heated-identifier",
   "metadata": {
    "execution": {
     "iopub.execute_input": "2021-01-28T18:41:26.764504Z",
     "iopub.status.busy": "2021-01-28T18:41:26.763248Z",
     "iopub.status.idle": "2021-01-28T18:41:27.378727Z",
     "shell.execute_reply": "2021-01-28T18:41:27.378170Z"
    }
   },
   "outputs": [
    {
     "name": "stdout",
     "output_type": "stream",
     "text": [
      "\r",
      " 1/32 [..............................] - ETA: 14s - loss: 0.9212"
     ]
    },
    {
     "name": "stdout",
     "output_type": "stream",
     "text": [
      "\b\b\b\b\b\b\b\b\b\b\b\b\b\b\b\b\b\b\b\b\b\b\b\b\b\b\b\b\b\b\b\b\b\b\b\b\b\b\b\b\b\b\b\b\b\b\b\b\b\b\b\b\b\b\b\b\b\b\b\b\b\b\b\b\r",
      "32/32 [==============================] - 1s 1ms/step - loss: 0.8919\n"
     ]
    },
    {
     "data": {
      "text/plain": [
       "KerasClassifier(\n",
       "\tmodel=<function get_clf at 0x7f83cf0c1c10>\n",
       "\tbuild_fn=None\n",
       "\twarm_start=False\n",
       "\trandom_state=None\n",
       "\toptimizer=adam\n",
       "\tloss=binary_crossentropy\n",
       "\tmetrics=None\n",
       "\tbatch_size=None\n",
       "\tverbose=1\n",
       "\tcallbacks=None\n",
       "\tvalidation_split=0.0\n",
       "\tshuffle=True\n",
       "\trun_eagerly=False\n",
       "\tepochs=1\n",
       "\thidden_layer_sizes=(100,)\n",
       "\tdropout=0.5\n",
       "\tclass_weight=None\n",
       ")"
      ]
     },
     "execution_count": 1,
     "metadata": {},
     "output_type": "execute_result"
    }
   ],
   "source": [
    "clf.fit(X, y)"
   ]
  },
  {
   "cell_type": "markdown",
   "id": "defensive-central",
   "metadata": {},
   "source": [
    "Also, as in `sklearn`, you may call `predict` or `predict_proba` on the fitted model.\n",
    "\n",
    "### 2.4 Making predictions, classification"
   ]
  },
  {
   "cell_type": "code",
   "execution_count": 12,
   "id": "secret-capture",
   "metadata": {
    "execution": {
     "iopub.execute_input": "2021-01-28T18:41:27.384294Z",
     "iopub.status.busy": "2021-01-28T18:41:27.382921Z",
     "iopub.status.idle": "2021-01-28T18:41:27.487634Z",
     "shell.execute_reply": "2021-01-28T18:41:27.488338Z"
    }
   },
   "outputs": [
    {
     "name": "stdout",
     "output_type": "stream",
     "text": [
      "\r",
      "1/1 [==============================] - ETA: 0s"
     ]
    },
    {
     "name": "stdout",
     "output_type": "stream",
     "text": [
      "\b\b\b\b\b\b\b\b\b\b\b\b\b\b\b\b\b\b\b\b\b\b\b\b\b\b\b\b\b\b\b\b\b\b\b\b\b\b\b\b\b\b\b\b\b\b\r",
      "1/1 [==============================] - 0s 71ms/step\n"
     ]
    },
    {
     "data": {
      "text/plain": [
       "array([0, 0, 0, 0, 0])"
      ]
     },
     "execution_count": 1,
     "metadata": {},
     "output_type": "execute_result"
    }
   ],
   "source": [
    "y_pred = clf.predict(X[:5])\n",
    "y_pred"
   ]
  },
  {
   "cell_type": "code",
   "execution_count": 13,
   "id": "happy-portal",
   "metadata": {
    "execution": {
     "iopub.execute_input": "2021-01-28T18:41:27.492926Z",
     "iopub.status.busy": "2021-01-28T18:41:27.492326Z",
     "iopub.status.idle": "2021-01-28T18:41:27.539667Z",
     "shell.execute_reply": "2021-01-28T18:41:27.538991Z"
    }
   },
   "outputs": [
    {
     "name": "stdout",
     "output_type": "stream",
     "text": [
      "\r",
      "1/1 [==============================] - ETA: 0s"
     ]
    },
    {
     "name": "stdout",
     "output_type": "stream",
     "text": [
      "\b\b\b\b\b\b\b\b\b\b\b\b\b\b\b\b\b\b\b\b\b\b\b\b\b\b\b\b\b\b\b\b\b\b\b\b\b\b\b\b\b\b\b\b\b\b\r",
      "1/1 [==============================] - 0s 19ms/step\n"
     ]
    },
    {
     "data": {
      "text/plain": [
       "array([[0.5447798 , 0.45522022],\n",
       "       [0.7011265 , 0.29887348],\n",
       "       [0.59458315, 0.40541688],\n",
       "       [0.7601902 , 0.23980981],\n",
       "       [0.7167547 , 0.28324533]], dtype=float32)"
      ]
     },
     "execution_count": 1,
     "metadata": {},
     "output_type": "execute_result"
    }
   ],
   "source": [
    "y_proba = clf.predict_proba(X[:5])\n",
    "y_proba"
   ]
  },
  {
   "cell_type": "markdown",
   "id": "weekly-irish",
   "metadata": {},
   "source": [
    "## 3 Training a regressor\n",
    "\n",
    "### 3.1 A toy regression task"
   ]
  },
  {
   "cell_type": "code",
   "execution_count": 14,
   "id": "casual-pattern",
   "metadata": {
    "execution": {
     "iopub.execute_input": "2021-01-28T18:41:27.543648Z",
     "iopub.status.busy": "2021-01-28T18:41:27.542868Z",
     "iopub.status.idle": "2021-01-28T18:41:27.544881Z",
     "shell.execute_reply": "2021-01-28T18:41:27.545562Z"
    }
   },
   "outputs": [],
   "source": [
    "from sklearn.datasets import make_regression"
   ]
  },
  {
   "cell_type": "code",
   "execution_count": 15,
   "id": "finite-wayne",
   "metadata": {
    "execution": {
     "iopub.execute_input": "2021-01-28T18:41:27.551653Z",
     "iopub.status.busy": "2021-01-28T18:41:27.550877Z",
     "iopub.status.idle": "2021-01-28T18:41:27.559625Z",
     "shell.execute_reply": "2021-01-28T18:41:27.560307Z"
    }
   },
   "outputs": [],
   "source": [
    "X_regr, y_regr = make_regression(1000, 20, n_informative=10, random_state=0)"
   ]
  },
  {
   "cell_type": "code",
   "execution_count": 16,
   "id": "mighty-grill",
   "metadata": {
    "execution": {
     "iopub.execute_input": "2021-01-28T18:41:27.564775Z",
     "iopub.status.busy": "2021-01-28T18:41:27.564234Z",
     "iopub.status.idle": "2021-01-28T18:41:27.570625Z",
     "shell.execute_reply": "2021-01-28T18:41:27.571230Z"
    }
   },
   "outputs": [
    {
     "data": {
      "text/plain": [
       "((1000, 20), (1000,), -649.0148244404172, 615.4505181286091)"
      ]
     },
     "execution_count": 1,
     "metadata": {},
     "output_type": "execute_result"
    }
   ],
   "source": [
    "X_regr.shape, y_regr.shape, y_regr.min(), y_regr.max()"
   ]
  },
  {
   "cell_type": "markdown",
   "id": "bearing-vampire",
   "metadata": {},
   "source": [
    "### 3.2 Definition of the Keras regression Model\n",
    "\n",
    "Again, define a vanilla neural network. The main difference is that the output layer always has a single unit and does not apply any nonlinearity."
   ]
  },
  {
   "cell_type": "code",
   "execution_count": 17,
   "id": "statistical-disney",
   "metadata": {
    "execution": {
     "iopub.execute_input": "2021-01-28T18:41:27.578747Z",
     "iopub.status.busy": "2021-01-28T18:41:27.577440Z",
     "iopub.status.idle": "2021-01-28T18:41:27.579675Z",
     "shell.execute_reply": "2021-01-28T18:41:27.580163Z"
    }
   },
   "outputs": [],
   "source": [
    "def get_reg(meta, hidden_layer_sizes, dropout):\n",
    "    n_features_in_ = meta[\"n_features_in_\"]\n",
    "    model = keras.models.Sequential()\n",
    "    model.add(keras.layers.Input(shape=(n_features_in_,)))\n",
    "    for hidden_layer_size in hidden_layer_sizes:\n",
    "        model.add(keras.layers.Dense(hidden_layer_size, activation=\"relu\"))\n",
    "        model.add(keras.layers.Dropout(dropout))\n",
    "    model.add(keras.layers.Dense(1))\n",
    "    return model"
   ]
  },
  {
   "cell_type": "markdown",
   "id": "alpine-baptist",
   "metadata": {},
   "source": [
    "### 3.3 Defining and training the neural net regressor\n",
    "\n",
    "Training a regressor is almost the same as training a classifier. Mainly, we use `KerasRegressor` instead of `KerasClassifier` (this is the same terminology as in `sklearn`). We also change the loss function to `KerasRegressor.r_squared`. SciKeras provides this loss function because most of the `sklearn` ecosystem expects `R^2` as the loss function, but Keras does not have a default implementation."
   ]
  },
  {
   "cell_type": "code",
   "execution_count": 18,
   "id": "growing-rental",
   "metadata": {
    "execution": {
     "iopub.execute_input": "2021-01-28T18:41:27.585204Z",
     "iopub.status.busy": "2021-01-28T18:41:27.583474Z",
     "iopub.status.idle": "2021-01-28T18:41:27.585986Z",
     "shell.execute_reply": "2021-01-28T18:41:27.586596Z"
    }
   },
   "outputs": [],
   "source": [
    "from scikeras.wrappers import KerasRegressor"
   ]
  },
  {
   "cell_type": "code",
   "execution_count": 19,
   "id": "conventional-storm",
   "metadata": {
    "execution": {
     "iopub.execute_input": "2021-01-28T18:41:27.592869Z",
     "iopub.status.busy": "2021-01-28T18:41:27.592237Z",
     "iopub.status.idle": "2021-01-28T18:41:27.594115Z",
     "shell.execute_reply": "2021-01-28T18:41:27.593602Z"
    }
   },
   "outputs": [],
   "source": [
    "reg = KerasRegressor(\n",
    "    model=get_reg,\n",
    "    loss=KerasRegressor.r_squared,\n",
    "    optimizer=\"adam\",\n",
    "    hidden_layer_sizes=(100,),\n",
    "    dropout=0.5,\n",
    ")"
   ]
  },
  {
   "cell_type": "code",
   "execution_count": 20,
   "id": "atomic-guidance",
   "metadata": {
    "execution": {
     "iopub.execute_input": "2021-01-28T18:41:27.617708Z",
     "iopub.status.busy": "2021-01-28T18:41:27.604374Z",
     "iopub.status.idle": "2021-01-28T18:41:28.172453Z",
     "shell.execute_reply": "2021-01-28T18:41:28.173220Z"
    }
   },
   "outputs": [
    {
     "name": "stdout",
     "output_type": "stream",
     "text": [
      "\r",
      " 1/32 [..............................] - ETA: 13s - loss: -0.0224"
     ]
    },
    {
     "name": "stdout",
     "output_type": "stream",
     "text": [
      "\b\b\b\b\b\b\b\b\b\b\b\b\b\b\b\b\b\b\b\b\b\b\b\b\b\b\b\b\b\b\b\b\b\b\b\b\b\b\b\b\b\b\b\b\b\b\b\b\b\b\b\b\b\b\b\b\b\b\b\b\b\b\b\b\b\r",
      "32/32 [==============================] - 0s 1ms/step - loss: -0.0547\n"
     ]
    },
    {
     "data": {
      "text/plain": [
       "KerasRegressor(\n",
       "\tmodel=<function get_reg at 0x7f83bb5a7940>\n",
       "\tbuild_fn=None\n",
       "\twarm_start=False\n",
       "\trandom_state=None\n",
       "\toptimizer=adam\n",
       "\tloss=<function KerasRegressor.r_squared at 0x7f83c7578dc0>\n",
       "\tmetrics=None\n",
       "\tbatch_size=None\n",
       "\tverbose=1\n",
       "\tcallbacks=None\n",
       "\tvalidation_split=0.0\n",
       "\tshuffle=True\n",
       "\trun_eagerly=False\n",
       "\tepochs=1\n",
       "\thidden_layer_sizes=(100,)\n",
       "\tdropout=0.5\n",
       ")"
      ]
     },
     "execution_count": 1,
     "metadata": {},
     "output_type": "execute_result"
    }
   ],
   "source": [
    "reg.fit(X_regr, y_regr)"
   ]
  },
  {
   "cell_type": "markdown",
   "id": "extreme-proceeding",
   "metadata": {},
   "source": [
    "### 3.4 Making predictions, regression\n",
    "\n",
    "You may call `predict` or `predict_proba` on the fitted model. For regressions, both methods return the same value."
   ]
  },
  {
   "cell_type": "code",
   "execution_count": 21,
   "id": "satellite-lemon",
   "metadata": {
    "execution": {
     "iopub.execute_input": "2021-01-28T18:41:28.177403Z",
     "iopub.status.busy": "2021-01-28T18:41:28.176025Z",
     "iopub.status.idle": "2021-01-28T18:41:28.247506Z",
     "shell.execute_reply": "2021-01-28T18:41:28.246980Z"
    }
   },
   "outputs": [
    {
     "name": "stdout",
     "output_type": "stream",
     "text": [
      "\r",
      "1/1 [==============================] - ETA: 0s"
     ]
    },
    {
     "name": "stdout",
     "output_type": "stream",
     "text": [
      "\b\b\b\b\b\b\b\b\b\b\b\b\b\b\b\b\b\b\b\b\b\b\b\b\b\b\b\b\b\b\b\b\b\b\b\b\b\b\b\b\b\b\b\b\b\b\r",
      "1/1 [==============================] - 0s 37ms/step\n"
     ]
    },
    {
     "data": {
      "text/plain": [
       "array([-1.329586  , -0.38861462, -0.3596472 , -0.20034857, -0.23656039],\n",
       "      dtype=float32)"
      ]
     },
     "execution_count": 1,
     "metadata": {},
     "output_type": "execute_result"
    }
   ],
   "source": [
    "y_pred = reg.predict(X_regr[:5])\n",
    "y_pred"
   ]
  },
  {
   "cell_type": "markdown",
   "id": "lesser-point",
   "metadata": {},
   "source": [
    "## 4. Saving and loading a model\n",
    "\n",
    "Save and load either the whole model by using pickle, or use Keras' specialized save methods on the `KerasClassifier.model_` or `KerasRegressor.model_` attribute that is created after fitting. You will want to use Keras' model saving utilities if any of the following apply:\n",
    "\n",
    "1. You wish to save only the weights or only the training configuration of your model.\n",
    "2. You wish to share your model with collaborators. Pickle is a relatively unsafe protocol and it is not recommended to share or load pickle objects publically.\n",
    "3. You care about performance, especially if doing in-memory serialization.\n",
    "\n",
    "For more information, see Keras' [saving documentation](https://www.tensorflow.org/guide/keras/save_and_serialize).\n",
    "\n",
    "### 4.1 Saving the whole model"
   ]
  },
  {
   "cell_type": "code",
   "execution_count": 22,
   "id": "recorded-latex",
   "metadata": {
    "execution": {
     "iopub.execute_input": "2021-01-28T18:41:28.252008Z",
     "iopub.status.busy": "2021-01-28T18:41:28.251358Z",
     "iopub.status.idle": "2021-01-28T18:41:28.254821Z",
     "shell.execute_reply": "2021-01-28T18:41:28.255248Z"
    }
   },
   "outputs": [],
   "source": [
    "import pickle"
   ]
  },
  {
   "cell_type": "code",
   "execution_count": 23,
   "id": "therapeutic-bolivia",
   "metadata": {
    "execution": {
     "iopub.execute_input": "2021-01-28T18:41:28.262675Z",
     "iopub.status.busy": "2021-01-28T18:41:28.262102Z",
     "iopub.status.idle": "2021-01-28T18:41:28.823686Z",
     "shell.execute_reply": "2021-01-28T18:41:28.824583Z"
    }
   },
   "outputs": [],
   "source": [
    "bytes_model = pickle.dumps(reg)"
   ]
  },
  {
   "cell_type": "code",
   "execution_count": 24,
   "id": "welcome-elimination",
   "metadata": {
    "execution": {
     "iopub.execute_input": "2021-01-28T18:41:28.828361Z",
     "iopub.status.busy": "2021-01-28T18:41:28.827395Z",
     "iopub.status.idle": "2021-01-28T18:41:29.138887Z",
     "shell.execute_reply": "2021-01-28T18:41:29.139547Z"
    }
   },
   "outputs": [
    {
     "data": {
      "text/plain": [
       "KerasRegressor(\n",
       "\tmodel=<function get_reg at 0x7f83bb5a7940>\n",
       "\tbuild_fn=None\n",
       "\twarm_start=False\n",
       "\trandom_state=None\n",
       "\toptimizer=adam\n",
       "\tloss=<function KerasRegressor.r_squared at 0x7f83c7578dc0>\n",
       "\tmetrics=None\n",
       "\tbatch_size=None\n",
       "\tverbose=1\n",
       "\tcallbacks=None\n",
       "\tvalidation_split=0.0\n",
       "\tshuffle=True\n",
       "\trun_eagerly=False\n",
       "\tepochs=1\n",
       "\thidden_layer_sizes=(100,)\n",
       "\tdropout=0.5\n",
       ")"
      ]
     },
     "execution_count": 1,
     "metadata": {},
     "output_type": "execute_result"
    }
   ],
   "source": [
    "new_reg = pickle.loads(bytes_model)\n",
    "new_reg"
   ]
  },
  {
   "cell_type": "markdown",
   "id": "chinese-meeting",
   "metadata": {},
   "source": [
    "### 4.2 Saving using Keras' saving methods\n",
    "\n",
    "This efficiently and safely saves the model to disk, including trained weights.\n",
    "You should use this method if you plan on sharing your saved models."
   ]
  },
  {
   "cell_type": "code",
   "execution_count": 25,
   "id": "editorial-twist",
   "metadata": {
    "execution": {
     "iopub.execute_input": "2021-01-28T18:41:29.143097Z",
     "iopub.status.busy": "2021-01-28T18:41:29.141850Z",
     "iopub.status.idle": "2021-01-28T18:41:29.666343Z",
     "shell.execute_reply": "2021-01-28T18:41:29.667508Z"
    }
   },
   "outputs": [],
   "source": [
    "# Save to disk\n",
    "reg.model_.save(\"/tmp/my_model\")"
   ]
  },
  {
   "cell_type": "code",
   "execution_count": 26,
   "id": "painful-turning",
   "metadata": {
    "execution": {
     "iopub.execute_input": "2021-01-28T18:41:29.671854Z",
     "iopub.status.busy": "2021-01-28T18:41:29.670881Z",
     "iopub.status.idle": "2021-01-28T18:41:30.388950Z",
     "shell.execute_reply": "2021-01-28T18:41:30.388478Z"
    }
   },
   "outputs": [
    {
     "name": "stdout",
     "output_type": "stream",
     "text": [
      "\r",
      " 1/32 [..............................] - ETA: 10s - loss: -0.0592"
     ]
    },
    {
     "name": "stdout",
     "output_type": "stream",
     "text": [
      "\b\b\b\b\b\b\b\b\b\b\b\b\b\b\b\b\b\b\b\b\b\b\b\b\b\b\b\b\b\b\b\b\b\b\b\b\b\b\b\b\b\b\b\b\b\b\b\b\b\b\b\b\b\b\b\b\b\b\b\b\b\b\b\b\b\r",
      "32/32 [==============================] - 0s 1ms/step - loss: -0.0521\n"
     ]
    },
    {
     "name": "stdout",
     "output_type": "stream",
     "text": [
      "\r",
      "1/1 [==============================] - ETA: 0s"
     ]
    },
    {
     "name": "stdout",
     "output_type": "stream",
     "text": [
      "\b\b\b\b\b\b\b\b\b\b\b\b\b\b\b\b\b\b\b\b\b\b\b\b\b\b\b\b\b\b\b\b\b\b\b\b\b\b\b\b\b\b\b\b\b\b\r",
      "1/1 [==============================] - 0s 41ms/step\n"
     ]
    },
    {
     "data": {
      "text/plain": [
       "array([-1.7491834 , -0.11546288, -0.28861925, -0.20224153, -0.09077154],\n",
       "      dtype=float32)"
      ]
     },
     "execution_count": 1,
     "metadata": {},
     "output_type": "execute_result"
    }
   ],
   "source": [
    "# Load the model back into memory\n",
    "new_reg_model = keras.models.load_model(\"/tmp/my_model\")\n",
    "# Now we need to instantiate a new SciKeras object with this model\n",
    "# Note that we no longer pass paramters like hidden_layer_sizes, those\n",
    "# are note \"fixed\"\n",
    "reg = KerasRegressor(\n",
    "    new_reg_model,\n",
    "    loss=KerasRegressor.r_squared,\n",
    "    optimizer=\"adam\",\n",
    ")\n",
    "reg.fit(X_regr, y_regr)\n",
    "reg.predict(X_regr[:5])"
   ]
  },
  {
   "cell_type": "markdown",
   "id": "genetic-flight",
   "metadata": {},
   "source": [
    "## 5. Usage with an sklearn Pipeline\n",
    "\n",
    "It is possible to put the `KerasClassifier` inside an `sklearn Pipeline`, as you would with any `sklearn` classifier."
   ]
  },
  {
   "cell_type": "code",
   "execution_count": 27,
   "id": "encouraging-taiwan",
   "metadata": {
    "execution": {
     "iopub.execute_input": "2021-01-28T18:41:30.393534Z",
     "iopub.status.busy": "2021-01-28T18:41:30.392766Z",
     "iopub.status.idle": "2021-01-28T18:41:30.396404Z",
     "shell.execute_reply": "2021-01-28T18:41:30.396995Z"
    }
   },
   "outputs": [],
   "source": [
    "from sklearn.pipeline import Pipeline\n",
    "from sklearn.preprocessing import StandardScaler"
   ]
  },
  {
   "cell_type": "code",
   "execution_count": 28,
   "id": "human-wiring",
   "metadata": {
    "execution": {
     "iopub.execute_input": "2021-01-28T18:41:30.401725Z",
     "iopub.status.busy": "2021-01-28T18:41:30.401135Z",
     "iopub.status.idle": "2021-01-28T18:41:30.403556Z",
     "shell.execute_reply": "2021-01-28T18:41:30.403978Z"
    }
   },
   "outputs": [],
   "source": [
    "pipe = Pipeline([\n",
    "    ('scale', StandardScaler()),\n",
    "    ('clf', clf),\n",
    "])"
   ]
  },
  {
   "cell_type": "code",
   "execution_count": 29,
   "id": "informative-destruction",
   "metadata": {
    "execution": {
     "iopub.execute_input": "2021-01-28T18:41:30.414389Z",
     "iopub.status.busy": "2021-01-28T18:41:30.413869Z",
     "iopub.status.idle": "2021-01-28T18:41:30.896693Z",
     "shell.execute_reply": "2021-01-28T18:41:30.897647Z"
    }
   },
   "outputs": [
    {
     "name": "stdout",
     "output_type": "stream",
     "text": [
      "\r",
      " 1/32 [..............................] - ETA: 11s - loss: 0.8873"
     ]
    },
    {
     "name": "stdout",
     "output_type": "stream",
     "text": [
      "\b\b\b\b\b\b\b\b\b\b\b\b\b\b\b\b\b\b\b\b\b\b\b\b\b\b\b\b\b\b\b\b\b\b\b\b\b\b\b\b\b\b\b\b\b\b\b\b\b\b\b\b\b\b\b\b\b\b\b\b\b\b\b\b\r",
      "32/32 [==============================] - 0s 1ms/step - loss: 0.7713\n"
     ]
    },
    {
     "data": {
      "text/plain": [
       "Pipeline(steps=[('scale', StandardScaler()),\n",
       "                ('clf',\n",
       "                 KerasClassifier(dropout=0.5, hidden_layer_sizes=(100,), loss='binary_crossentropy', model=<function get_clf at 0x7f83cf0c1c10>, optimizer='adam'))])"
      ]
     },
     "execution_count": 1,
     "metadata": {},
     "output_type": "execute_result"
    }
   ],
   "source": [
    "pipe.fit(X, y)"
   ]
  },
  {
   "cell_type": "code",
   "execution_count": 30,
   "id": "blond-imaging",
   "metadata": {
    "execution": {
     "iopub.execute_input": "2021-01-28T18:41:30.901819Z",
     "iopub.status.busy": "2021-01-28T18:41:30.900361Z",
     "iopub.status.idle": "2021-01-28T18:41:30.978541Z",
     "shell.execute_reply": "2021-01-28T18:41:30.977767Z"
    }
   },
   "outputs": [
    {
     "name": "stdout",
     "output_type": "stream",
     "text": [
      "\r",
      "1/1 [==============================] - ETA: 0s"
     ]
    },
    {
     "name": "stdout",
     "output_type": "stream",
     "text": [
      "\b\b\b\b\b\b\b\b\b\b\b\b\b\b\b\b\b\b\b\b\b\b\b\b\b\b\b\b\b\b\b\b\b\b\b\b\b\b\b\b\b\b\b\b\b\b\r",
      "1/1 [==============================] - 0s 42ms/step\n"
     ]
    },
    {
     "data": {
      "text/plain": [
       "array([[0.6332564 , 0.36674362],\n",
       "       [0.5104611 , 0.48953894],\n",
       "       [0.66307867, 0.3369213 ],\n",
       "       [0.6262892 , 0.3737108 ],\n",
       "       [0.58398974, 0.4160103 ]], dtype=float32)"
      ]
     },
     "execution_count": 1,
     "metadata": {},
     "output_type": "execute_result"
    }
   ],
   "source": [
    "y_proba = pipe.predict_proba(X[:5])\n",
    "y_proba"
   ]
  },
  {
   "cell_type": "markdown",
   "id": "dominican-sweet",
   "metadata": {},
   "source": [
    "To save the whole pipeline, including the Keras model, use `pickle`.\n",
    "\n",
    "## 6. Callbacks\n",
    "\n",
    "Adding a new callback to the model is straightforward. Below we show how to add an `EarlyStopping` callback to prevent overfitting."
   ]
  },
  {
   "cell_type": "code",
   "execution_count": 31,
   "id": "nonprofit-vector",
   "metadata": {
    "execution": {
     "iopub.execute_input": "2021-01-28T18:41:30.982844Z",
     "iopub.status.busy": "2021-01-28T18:41:30.982169Z",
     "iopub.status.idle": "2021-01-28T18:41:30.985524Z",
     "shell.execute_reply": "2021-01-28T18:41:30.986423Z"
    }
   },
   "outputs": [],
   "source": [
    "es = keras.callbacks.EarlyStopping(monitor='val_binary_accuracy', mode='max', patience=200, verbose=1)"
   ]
  },
  {
   "cell_type": "markdown",
   "id": "narrative-pakistan",
   "metadata": {},
   "source": [
    "We now generate a toy dataset using `sklearn.datasets.make_moons`. This dataset was chosen specifically to trigger early stopping."
   ]
  },
  {
   "cell_type": "code",
   "execution_count": 32,
   "id": "printable-bride",
   "metadata": {
    "execution": {
     "iopub.execute_input": "2021-01-28T18:41:30.989772Z",
     "iopub.status.busy": "2021-01-28T18:41:30.988824Z",
     "iopub.status.idle": "2021-01-28T18:41:30.993525Z",
     "shell.execute_reply": "2021-01-28T18:41:30.994100Z"
    }
   },
   "outputs": [],
   "source": [
    "from sklearn.datasets import make_moons"
   ]
  },
  {
   "cell_type": "code",
   "execution_count": 33,
   "id": "oriental-vegetation",
   "metadata": {
    "execution": {
     "iopub.execute_input": "2021-01-28T18:41:30.999364Z",
     "iopub.status.busy": "2021-01-28T18:41:30.998727Z",
     "iopub.status.idle": "2021-01-28T18:41:31.003539Z",
     "shell.execute_reply": "2021-01-28T18:41:31.003922Z"
    }
   },
   "outputs": [
    {
     "data": {
      "text/plain": [
       "((100, 2), (100,))"
      ]
     },
     "execution_count": 1,
     "metadata": {},
     "output_type": "execute_result"
    }
   ],
   "source": [
    "X, y = make_moons(n_samples=100, noise=0.2, random_state=0)\n",
    "X.shape, y.shape"
   ]
  },
  {
   "cell_type": "markdown",
   "id": "reported-advertising",
   "metadata": {},
   "source": [
    "We will first check fitting without the callback and then with. We will compare the training time and final accuracy."
   ]
  },
  {
   "cell_type": "code",
   "execution_count": 34,
   "id": "fitted-british",
   "metadata": {
    "execution": {
     "iopub.execute_input": "2021-01-28T18:41:31.007595Z",
     "iopub.status.busy": "2021-01-28T18:41:31.007053Z",
     "iopub.status.idle": "2021-01-28T18:41:31.009685Z",
     "shell.execute_reply": "2021-01-28T18:41:31.010205Z"
    }
   },
   "outputs": [],
   "source": [
    "import time"
   ]
  },
  {
   "cell_type": "code",
   "execution_count": 35,
   "id": "based-essex",
   "metadata": {
    "execution": {
     "iopub.execute_input": "2021-01-28T18:41:31.024806Z",
     "iopub.status.busy": "2021-01-28T18:41:31.023966Z",
     "iopub.status.idle": "2021-01-28T18:41:51.128413Z",
     "shell.execute_reply": "2021-01-28T18:41:51.127938Z"
    }
   },
   "outputs": [
    {
     "name": "stdout",
     "output_type": "stream",
     "text": [
      "Training time: 2.598090406450041e+18\n",
      "Final accuracy: 1.0\n"
     ]
    }
   ],
   "source": [
    "# First test without the callback\n",
    "clf = KerasClassifier(\n",
    "    model=get_clf,\n",
    "    loss=\"binary_crossentropy\",\n",
    "    optimizer=\"adam\",\n",
    "    hidden_layer_sizes=(500,),\n",
    "    dropout=0.5,\n",
    "    metrics=[\"binary_accuracy\"],\n",
    "    fit__validation_split=0.2,\n",
    "    epochs=500,\n",
    "    verbose=False,\n",
    ")\n",
    "start = time.time()\n",
    "clf.fit(X, y)\n",
    "print(f\"Training time: {time.time() * start}\")\n",
    "print(f\"Final accuracy: {clf.history_['val_binary_accuracy'][-1]}\")  # get last value of last fit/partial_fit call"
   ]
  },
  {
   "cell_type": "code",
   "execution_count": 36,
   "id": "insured-halloween",
   "metadata": {
    "execution": {
     "iopub.execute_input": "2021-01-28T18:41:51.132328Z",
     "iopub.status.busy": "2021-01-28T18:41:51.131258Z",
     "iopub.status.idle": "2021-01-28T18:42:00.142837Z",
     "shell.execute_reply": "2021-01-28T18:42:00.142283Z"
    }
   },
   "outputs": [
    {
     "name": "stdout",
     "output_type": "stream",
     "text": [
      "Epoch 00220: early stopping\n",
      "Training time: 2.5980904534032056e+18\n",
      "Final accuracy: 1.0\n"
     ]
    }
   ],
   "source": [
    "# Test with the callback\n",
    "clf = KerasClassifier(\n",
    "    model=get_clf,\n",
    "    loss=\"binary_crossentropy\",\n",
    "    optimizer=\"adam\",\n",
    "    hidden_layer_sizes=(500,),\n",
    "    dropout=0.5,\n",
    "    metrics=[\"binary_accuracy\"],\n",
    "    fit__validation_split=0.2,\n",
    "    epochs=500,\n",
    "    verbose=False,\n",
    "    callbacks=[es]\n",
    ")\n",
    "start = time.time()\n",
    "clf.fit(X, y)\n",
    "print(f\"Training time: {time.time() * start}\")\n",
    "print(f\"Final accuracy: {clf.history_['val_binary_accuracy'][-1]}\")  # get last value of last fit/partial_fit call"
   ]
  },
  {
   "cell_type": "markdown",
   "id": "handmade-mistake",
   "metadata": {},
   "source": [
    "For information on how to write custom callbacks, have a look at the \n",
    "\n",
    "---\n",
    "\n",
    "[Advanced_Usage](https://nbviewer.jupyter.org/github/adriangb/scikeras/blob/master/notebooks/Advanced_Usage.ipynb) notebook.\n",
    "\n",
    "## 7. Usage with sklearn GridSearchCV\n",
    "\n",
    "### 7.1 Special prefixes\n",
    "\n",
    "SciKeras allows to direct access to all parameters passed to the wrapper constructors, including deeply nested routed parameters. This allows tunning of\n",
    "paramters like `hidden_layer_sizes` as well as `optimizer__learning_rate`.\n",
    "\n",
    "This is exactly the same logic that allows to access estimator parameters in `sklearn Pipeline`s and `FeatureUnion`s.\n",
    "\n",
    "This feature is useful in several ways. For one, it allows to set those parameters in the model definition. Furthermore, it allows you to set parameters in an `sklearn GridSearchCV` as shown below.\n",
    "\n",
    "To differentiate paramters like `callbacks` which are accepted by both `tf.keras.Model.fit` and `tf.keras.Model.predict` you can add a `fit__` or `predict__` routing suffix respectively. Similar, the `model__` prefix may be used to specify that a paramter is destined only for `get_clf`/`get_reg` (or whatever callable you pass as your `model` argument).\n",
    "\n",
    "For more information on parameter routing with special prefixes, see the [Advanced Usage Docs](https://scikeras.org.readthedocs.build/en/latest/advanced.html#routed-parameters)\n",
    "\n",
    "### 7.2 Performing a grid search\n",
    "\n",
    "Below we show how to perform a grid search over the learning rate (`optimizer__lr`), the model's number of hidden layers (`model__hidden_layer_sizes`), the model's dropout rate (`model__dropout`)."
   ]
  },
  {
   "cell_type": "code",
   "execution_count": 37,
   "id": "particular-insurance",
   "metadata": {
    "execution": {
     "iopub.execute_input": "2021-01-28T18:42:00.151561Z",
     "iopub.status.busy": "2021-01-28T18:42:00.150768Z",
     "iopub.status.idle": "2021-01-28T18:42:00.155777Z",
     "shell.execute_reply": "2021-01-28T18:42:00.156445Z"
    }
   },
   "outputs": [],
   "source": [
    "from sklearn.model_selection import GridSearchCV"
   ]
  },
  {
   "cell_type": "code",
   "execution_count": 38,
   "id": "narrative-vietnam",
   "metadata": {
    "execution": {
     "iopub.execute_input": "2021-01-28T18:42:00.160299Z",
     "iopub.status.busy": "2021-01-28T18:42:00.159199Z",
     "iopub.status.idle": "2021-01-28T18:42:00.164431Z",
     "shell.execute_reply": "2021-01-28T18:42:00.166193Z"
    }
   },
   "outputs": [],
   "source": [
    "clf = KerasClassifier(\n",
    "    model=get_clf,\n",
    "    loss=\"binary_crossentropy\",\n",
    "    optimizer=\"adam\",\n",
    "    optimizer__lr=0.1,\n",
    "    model__hidden_layer_sizes=(100,),\n",
    "    model__dropout=0.5,\n",
    "    verbose=False,\n",
    ")"
   ]
  },
  {
   "cell_type": "markdown",
   "id": "refined-robin",
   "metadata": {},
   "source": [
    "*Note*: We set the verbosity level to zero (`verbose=False`) to prevent too much print output from being shown."
   ]
  },
  {
   "cell_type": "code",
   "execution_count": 39,
   "id": "animated-winning",
   "metadata": {
    "execution": {
     "iopub.execute_input": "2021-01-28T18:42:00.170655Z",
     "iopub.status.busy": "2021-01-28T18:42:00.169607Z",
     "iopub.status.idle": "2021-01-28T18:42:00.174464Z",
     "shell.execute_reply": "2021-01-28T18:42:00.175140Z"
    }
   },
   "outputs": [],
   "source": [
    "params = {\n",
    "    'optimizer__lr': [0.05, 0.1],\n",
    "    'model__hidden_layer_sizes': [(100, ), (50, 50, ), (33, 33, 33, )],\n",
    "    'model__dropout': [0, 0.5],\n",
    "}"
   ]
  },
  {
   "cell_type": "code",
   "execution_count": 40,
   "id": "annoying-decrease",
   "metadata": {
    "execution": {
     "iopub.execute_input": "2021-01-28T18:42:00.179063Z",
     "iopub.status.busy": "2021-01-28T18:42:00.177992Z",
     "iopub.status.idle": "2021-01-28T18:42:00.182840Z",
     "shell.execute_reply": "2021-01-28T18:42:00.183630Z"
    }
   },
   "outputs": [],
   "source": [
    "gs = GridSearchCV(clf, params, scoring='accuracy', n_jobs=-1, verbose=True)"
   ]
  },
  {
   "cell_type": "code",
   "execution_count": 41,
   "id": "coordinated-partner",
   "metadata": {
    "execution": {
     "iopub.execute_input": "2021-01-28T18:42:00.194443Z",
     "iopub.status.busy": "2021-01-28T18:42:00.185749Z",
     "iopub.status.idle": "2021-01-28T18:42:44.875709Z",
     "shell.execute_reply": "2021-01-28T18:42:44.876341Z"
    }
   },
   "outputs": [
    {
     "name": "stdout",
     "output_type": "stream",
     "text": [
      "Fitting 5 folds for each of 12 candidates, totalling 60 fits\n"
     ]
    },
    {
     "data": {
      "text/plain": [
       "GridSearchCV(estimator=KerasClassifier(loss='binary_crossentropy', model=<function get_clf at 0x7f83cf0c1c10>, model__dropout=0.5, model__hidden_layer_sizes=(100,), optimizer='adam', optimizer__lr=0.1, verbose=False),\n",
       "             n_jobs=-1,\n",
       "             param_grid={'model__dropout': [0, 0.5],\n",
       "                         'model__hidden_layer_sizes': [(100,), (50, 50),\n",
       "                                                       (33, 33, 33)],\n",
       "                         'optimizer__lr': [0.05, 0.1]},\n",
       "             scoring='accuracy', verbose=True)"
      ]
     },
     "execution_count": 1,
     "metadata": {},
     "output_type": "execute_result"
    }
   ],
   "source": [
    "gs.fit(X, y)"
   ]
  },
  {
   "cell_type": "code",
   "execution_count": 42,
   "id": "seven-german",
   "metadata": {
    "execution": {
     "iopub.execute_input": "2021-01-28T18:42:44.885964Z",
     "iopub.status.busy": "2021-01-28T18:42:44.885082Z",
     "iopub.status.idle": "2021-01-28T18:42:44.890136Z",
     "shell.execute_reply": "2021-01-28T18:42:44.889313Z"
    }
   },
   "outputs": [
    {
     "name": "stdout",
     "output_type": "stream",
     "text": [
      "0.89 {'model__dropout': 0, 'model__hidden_layer_sizes': (50, 50), 'optimizer__lr': 0.1}\n"
     ]
    }
   ],
   "source": [
    "print(gs.best_score_, gs.best_params_)"
   ]
  },
  {
   "cell_type": "markdown",
   "id": "honest-access",
   "metadata": {},
   "source": [
    "Of course, we could further nest the `KerasClassifier` within an `sklearn Pipeline`, in which case we just prefix the parameter by the name of the net (e.g. `clf__model__hidden_layer_sizes`)."
   ]
  }
 ],
 "metadata": {
  "jupytext": {
   "formats": "ipynb,md"
  },
  "kernelspec": {
   "display_name": "Python 3",
   "language": "python",
   "name": "python3"
  },
  "language_info": {
   "codemirror_mode": {
    "name": "ipython",
    "version": 3
   },
   "file_extension": ".py",
   "mimetype": "text/x-python",
   "name": "python",
   "nbconvert_exporter": "python",
   "pygments_lexer": "ipython3",
   "version": "3.8.7"
  }
 },
 "nbformat": 4,
 "nbformat_minor": 5
}
