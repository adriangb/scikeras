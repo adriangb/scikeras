{
 "cells": [
  {
   "cell_type": "raw",
   "id": "8279271e",
   "metadata": {},
   "source": [
    "<a href=\"https://colab.research.google.com/github/adriangb/scikeras/blob/docs-deploy/refs/heads/master/notebooks/Basic_Usage.ipynb\"><img src=\"https://www.tensorflow.org/images/colab_logo_32px.png\">Run in Google Colab</a>"
   ]
  },
  {
   "cell_type": "markdown",
   "id": "577d4039",
   "metadata": {},
   "source": [
    "# Basic usage\n",
    "\n",
    "`SciKeras` is designed to maximize interoperability between `sklearn` and `Keras/TensorFlow`. The aim is to keep 99% of the flexibility of `Keras` while being able to leverage most features of `sklearn`. Below, we show the basic usage of `SciKeras` and how it can be combined with `sklearn`.\n",
    "\n",
    "This notebook shows you how to use the basic functionality of `SciKeras`.\n",
    "\n",
    "## Table of contents\n",
    "\n",
    "* [1. Setup](#1.-Setup)\n",
    "* [2. Training a classifier and making predictions](#2.-Training-a-classifier-and-making-predictions)\n",
    "  * [2.1 A toy binary classification task](#2.1-A-toy-binary-classification-task)\n",
    "  * [2.2 Definition of the Keras classification Model](#2.2-Definition-of-the-Keras-classification-Model)\n",
    "  * [2.3 Defining and training the neural net classifier](#2.3-Defining-and-training-the-neural-net-classifier)\n",
    "  * [2.4 Making predictions, classification](#2.4-Making-predictions-classification)\n",
    "* [3 Training a regressor](#3.-Training-a-regressor)\n",
    "  * [3.1 A toy regression task](#3.1-A-toy-regression-task)\n",
    "  * [3.2 Definition of the Keras regression Model](#3.2-Definition-of-the-Keras-regression-Model)\n",
    "  * [3.3 Defining and training the neural net regressor](#3.3-Defining-and-training-the-neural-net-regressor)\n",
    "  * [3.4 Making predictions, regression](#3.4-Making-predictions-regression)\n",
    "* [4. Saving and loading a model](#4.-Saving-and-loading-a-model)\n",
    "  * [4.1 Saving the whole model](#4.1-Saving-the-whole-model)\n",
    "  * [4.2 Saving using Keras' saving methods](#4.2-Saving-using-Keras-saving-methods)\n",
    "* [5. Usage with an sklearn Pipeline](#5.-Usage-with-an-sklearn-Pipeline)\n",
    "* [6. Callbacks](#6.-Callbacks)\n",
    "* [7. Usage with sklearn GridSearchCV](#7.-Usage-with-sklearn-GridSearchCV)\n",
    "  * [7.1 Special prefixes](#7.1-Special-prefixes)\n",
    "  * [7.2 Performing a grid search](#7.2-Performing-a-grid-search)\n",
    "\n",
    "## 1. Setup"
   ]
  },
  {
   "cell_type": "code",
   "execution_count": 1,
   "id": "6554d631",
   "metadata": {
    "execution": {
     "iopub.execute_input": "2024-04-10T01:19:10.216767Z",
     "iopub.status.busy": "2024-04-10T01:19:10.216461Z",
     "iopub.status.idle": "2024-04-10T01:19:12.407529Z",
     "shell.execute_reply": "2024-04-10T01:19:12.406900Z"
    }
   },
   "outputs": [],
   "source": [
    "try:\n",
    "    import scikeras\n",
    "except ImportError:\n",
    "    !python -m pip install scikeras"
   ]
  },
  {
   "cell_type": "markdown",
   "id": "b7e11ef8",
   "metadata": {},
   "source": [
    "Silence TensorFlow logging to keep output succinct."
   ]
  },
  {
   "cell_type": "code",
   "execution_count": 2,
   "id": "ea1c9186",
   "metadata": {
    "execution": {
     "iopub.execute_input": "2024-04-10T01:19:12.410547Z",
     "iopub.status.busy": "2024-04-10T01:19:12.410020Z",
     "iopub.status.idle": "2024-04-10T01:19:12.413835Z",
     "shell.execute_reply": "2024-04-10T01:19:12.413270Z"
    }
   },
   "outputs": [],
   "source": [
    "import warnings\n",
    "from tensorflow import get_logger\n",
    "get_logger().setLevel('ERROR')\n",
    "warnings.filterwarnings(\"ignore\", message=\"Setting the random state for TF\")"
   ]
  },
  {
   "cell_type": "code",
   "execution_count": 3,
   "id": "7c5c5f87",
   "metadata": {
    "execution": {
     "iopub.execute_input": "2024-04-10T01:19:12.416101Z",
     "iopub.status.busy": "2024-04-10T01:19:12.415908Z",
     "iopub.status.idle": "2024-04-10T01:19:12.724716Z",
     "shell.execute_reply": "2024-04-10T01:19:12.723985Z"
    }
   },
   "outputs": [],
   "source": [
    "import numpy as np\n",
    "from scikeras.wrappers import KerasClassifier, KerasRegressor\n",
    "import keras"
   ]
  },
  {
   "cell_type": "markdown",
   "id": "36965c6c",
   "metadata": {},
   "source": [
    "## 2. Training a classifier and making predictions\n",
    "\n",
    "### 2.1 A toy binary classification task\n",
    "\n",
    "We load a toy classification task from `sklearn`."
   ]
  },
  {
   "cell_type": "code",
   "execution_count": 4,
   "id": "2c744374",
   "metadata": {
    "execution": {
     "iopub.execute_input": "2024-04-10T01:19:12.728205Z",
     "iopub.status.busy": "2024-04-10T01:19:12.727413Z",
     "iopub.status.idle": "2024-04-10T01:19:12.784592Z",
     "shell.execute_reply": "2024-04-10T01:19:12.783936Z"
    }
   },
   "outputs": [
    {
     "data": {
      "text/plain": [
       "((1000, 20), (1000,), 0.5)"
      ]
     },
     "execution_count": 4,
     "metadata": {},
     "output_type": "execute_result"
    }
   ],
   "source": [
    "import numpy as np\n",
    "from sklearn.datasets import make_classification\n",
    "\n",
    "\n",
    "X, y = make_classification(1000, 20, n_informative=10, random_state=0)\n",
    "\n",
    "X.shape, y.shape, y.mean()"
   ]
  },
  {
   "cell_type": "markdown",
   "id": "c8c37586",
   "metadata": {},
   "source": [
    "### 2.2 Definition of the Keras classification Model\n",
    "\n",
    "We define a vanilla neural network with.\n",
    "\n",
    "Because we are dealing with 2 classes, the output layer can be constructed in\n",
    "two different ways:\n",
    "\n",
    "1. Single unit with a `\"sigmoid\"` nonlinearity. The loss must be `\"binary_crossentropy\"`.\n",
    "2. Two units (one for each class) and a `\"softmax\"` nonlinearity. The loss must be `\"sparse_categorical_crossentropy\"`.\n",
    "\n",
    "In this example, we choose the first option, which is what you would usually\n",
    "do for binary classification. The second option is usually reserved for when\n",
    "you have >2 classes."
   ]
  },
  {
   "cell_type": "code",
   "execution_count": 5,
   "id": "76788123",
   "metadata": {
    "execution": {
     "iopub.execute_input": "2024-04-10T01:19:12.787731Z",
     "iopub.status.busy": "2024-04-10T01:19:12.787033Z",
     "iopub.status.idle": "2024-04-10T01:19:12.792910Z",
     "shell.execute_reply": "2024-04-10T01:19:12.792274Z"
    }
   },
   "outputs": [],
   "source": [
    "import keras\n",
    "\n",
    "\n",
    "def get_clf(meta, hidden_layer_sizes, dropout):\n",
    "    n_features_in_ = meta[\"n_features_in_\"]\n",
    "    n_classes_ = meta[\"n_classes_\"]\n",
    "    model = keras.models.Sequential()\n",
    "    model.add(keras.layers.Input(shape=(n_features_in_,)))\n",
    "    for hidden_layer_size in hidden_layer_sizes:\n",
    "        model.add(keras.layers.Dense(hidden_layer_size, activation=\"relu\"))\n",
    "        model.add(keras.layers.Dropout(dropout))\n",
    "    model.add(keras.layers.Dense(1, activation=\"sigmoid\"))\n",
    "    return model"
   ]
  },
  {
   "cell_type": "markdown",
   "id": "68a80134",
   "metadata": {},
   "source": [
    "### 2.3 Defining and training the neural net classifier\n",
    "\n",
    "We use `KerasClassifier` because we're dealing with a classifcation task. The first argument should be a callable returning a `Keras.Model`, in this case, `get_clf`. As additional arguments, we pass the number of loss function (required) and the optimizer, but the later is optional. We must also pass all of the arguments to `get_clf` as keyword arguments to `KerasClassifier` if they don't have a default value in `get_clf`. Note that if you do not pass an argument to `KerasClassifier`, it will not be avilable for hyperparameter tuning. Finally, we also pass `random_state=0` for reproducible results."
   ]
  },
  {
   "cell_type": "code",
   "execution_count": 6,
   "id": "ce62fde6",
   "metadata": {
    "execution": {
     "iopub.execute_input": "2024-04-10T01:19:12.795819Z",
     "iopub.status.busy": "2024-04-10T01:19:12.795433Z",
     "iopub.status.idle": "2024-04-10T01:19:12.798778Z",
     "shell.execute_reply": "2024-04-10T01:19:12.798102Z"
    }
   },
   "outputs": [],
   "source": [
    "from scikeras.wrappers import KerasClassifier\n",
    "\n",
    "\n",
    "clf = KerasClassifier(\n",
    "    model=get_clf,\n",
    "    loss=\"binary_crossentropy\",\n",
    "    hidden_layer_sizes=(100,),\n",
    "    dropout=0.5,\n",
    ")"
   ]
  },
  {
   "cell_type": "markdown",
   "id": "fd1b71dc",
   "metadata": {},
   "source": [
    "As in `sklearn`, we call `fit` passing the input data `X` and the targets `y`."
   ]
  },
  {
   "cell_type": "code",
   "execution_count": 7,
   "id": "b545bd0b",
   "metadata": {
    "execution": {
     "iopub.execute_input": "2024-04-10T01:19:12.801408Z",
     "iopub.status.busy": "2024-04-10T01:19:12.800942Z",
     "iopub.status.idle": "2024-04-10T01:19:13.416508Z",
     "shell.execute_reply": "2024-04-10T01:19:13.415842Z"
    }
   },
   "outputs": [
    {
     "name": "stdout",
     "output_type": "stream",
     "text": [
      "\r",
      "\u001b[1m 1/32\u001b[0m \u001b[37m━━━━━━━━━━━━━━━━━━━━\u001b[0m \u001b[1m14s\u001b[0m 483ms/step - loss: 1.0241"
     ]
    },
    {
     "name": "stdout",
     "output_type": "stream",
     "text": [
      "\b\b\b\b\b\b\b\b\b\b\b\b\b\b\b\b\b\b\b\b\b\b\b\b\b\b\b\b\b\b\b\b\b\b\b\b\b\b\b\b\b\b\b\b\b\b\b\b\b\b\b\b\b\b\b\b\r",
      "\u001b[1m32/32\u001b[0m \u001b[32m━━━━━━━━━━━━━━━━━━━━\u001b[0m\u001b[37m\u001b[0m \u001b[1m1s\u001b[0m 1ms/step - loss: 0.8276   \n"
     ]
    }
   ],
   "source": [
    "clf.fit(X, y);"
   ]
  },
  {
   "cell_type": "markdown",
   "id": "18ecc806",
   "metadata": {},
   "source": [
    "Also, as in `sklearn`, you may call `predict` or `predict_proba` on the fitted model.\n",
    "\n",
    "### 2.4 Making predictions, classification"
   ]
  },
  {
   "cell_type": "code",
   "execution_count": 8,
   "id": "b0b62195",
   "metadata": {
    "execution": {
     "iopub.execute_input": "2024-04-10T01:19:13.419426Z",
     "iopub.status.busy": "2024-04-10T01:19:13.419231Z",
     "iopub.status.idle": "2024-04-10T01:19:13.485984Z",
     "shell.execute_reply": "2024-04-10T01:19:13.485355Z"
    }
   },
   "outputs": [
    {
     "name": "stdout",
     "output_type": "stream",
     "text": [
      "\r",
      "\u001b[1m1/1\u001b[0m \u001b[32m━━━━━━━━━━━━━━━━━━━━\u001b[0m\u001b[37m\u001b[0m \u001b[1m0s\u001b[0m 28ms/step"
     ]
    },
    {
     "name": "stdout",
     "output_type": "stream",
     "text": [
      "\b\b\b\b\b\b\b\b\b\b\b\b\b\b\b\b\b\b\b\b\b\b\b\b\b\b\b\b\b\b\b\b\b\b\b\b\b\r",
      "\u001b[1m1/1\u001b[0m \u001b[32m━━━━━━━━━━━━━━━━━━━━\u001b[0m\u001b[37m\u001b[0m \u001b[1m0s\u001b[0m 29ms/step\n"
     ]
    },
    {
     "data": {
      "text/plain": [
       "array([0, 0, 0, 0, 1])"
      ]
     },
     "execution_count": 8,
     "metadata": {},
     "output_type": "execute_result"
    }
   ],
   "source": [
    "y_pred = clf.predict(X[:5])\n",
    "y_pred"
   ]
  },
  {
   "cell_type": "code",
   "execution_count": 9,
   "id": "194ef2a3",
   "metadata": {
    "execution": {
     "iopub.execute_input": "2024-04-10T01:19:13.489204Z",
     "iopub.status.busy": "2024-04-10T01:19:13.488838Z",
     "iopub.status.idle": "2024-04-10T01:19:13.534980Z",
     "shell.execute_reply": "2024-04-10T01:19:13.534302Z"
    }
   },
   "outputs": [
    {
     "name": "stdout",
     "output_type": "stream",
     "text": [
      "\r",
      "\u001b[1m1/1\u001b[0m \u001b[32m━━━━━━━━━━━━━━━━━━━━\u001b[0m\u001b[37m\u001b[0m \u001b[1m0s\u001b[0m 12ms/step"
     ]
    },
    {
     "name": "stdout",
     "output_type": "stream",
     "text": [
      "\b\b\b\b\b\b\b\b\b\b\b\b\b\b\b\b\b\b\b\b\b\b\b\b\b\b\b\b\b\b\b\b\b\b\b\b\b\r",
      "\u001b[1m1/1\u001b[0m \u001b[32m━━━━━━━━━━━━━━━━━━━━\u001b[0m\u001b[37m\u001b[0m \u001b[1m0s\u001b[0m 13ms/step\n"
     ]
    },
    {
     "data": {
      "text/plain": [
       "array([[0.5187464 , 0.4812536 ],\n",
       "       [0.92429256, 0.07570746],\n",
       "       [0.72809464, 0.27190536],\n",
       "       [0.74796045, 0.25203955],\n",
       "       [0.4596368 , 0.5403632 ]], dtype=float32)"
      ]
     },
     "execution_count": 9,
     "metadata": {},
     "output_type": "execute_result"
    }
   ],
   "source": [
    "y_proba = clf.predict_proba(X[:5])\n",
    "y_proba"
   ]
  },
  {
   "cell_type": "markdown",
   "id": "5b63091e",
   "metadata": {},
   "source": [
    "## 3 Training a regressor\n",
    "\n",
    "### 3.1 A toy regression task"
   ]
  },
  {
   "cell_type": "code",
   "execution_count": 10,
   "id": "e0a76d84",
   "metadata": {
    "execution": {
     "iopub.execute_input": "2024-04-10T01:19:13.537948Z",
     "iopub.status.busy": "2024-04-10T01:19:13.537374Z",
     "iopub.status.idle": "2024-04-10T01:19:13.552673Z",
     "shell.execute_reply": "2024-04-10T01:19:13.551999Z"
    }
   },
   "outputs": [
    {
     "data": {
      "text/plain": [
       "((1000, 20), (1000,), -649.0148244404172, 615.4505181286091)"
      ]
     },
     "execution_count": 10,
     "metadata": {},
     "output_type": "execute_result"
    }
   ],
   "source": [
    "from sklearn.datasets import make_regression\n",
    "\n",
    "\n",
    "X_regr, y_regr = make_regression(1000, 20, n_informative=10, random_state=0)\n",
    "\n",
    "X_regr.shape, y_regr.shape, y_regr.min(), y_regr.max()"
   ]
  },
  {
   "cell_type": "markdown",
   "id": "b120b985",
   "metadata": {},
   "source": [
    "### 3.2 Definition of the Keras regression Model\n",
    "\n",
    "Again, define a vanilla neural network. The main difference is that the output layer always has a single unit and does not apply any nonlinearity."
   ]
  },
  {
   "cell_type": "code",
   "execution_count": 11,
   "id": "adfb1c25",
   "metadata": {
    "execution": {
     "iopub.execute_input": "2024-04-10T01:19:13.555894Z",
     "iopub.status.busy": "2024-04-10T01:19:13.555653Z",
     "iopub.status.idle": "2024-04-10T01:19:13.560981Z",
     "shell.execute_reply": "2024-04-10T01:19:13.559679Z"
    }
   },
   "outputs": [],
   "source": [
    "def get_reg(meta, hidden_layer_sizes, dropout):\n",
    "    n_features_in_ = meta[\"n_features_in_\"]\n",
    "    model = keras.models.Sequential()\n",
    "    model.add(keras.layers.Input(shape=(n_features_in_,)))\n",
    "    for hidden_layer_size in hidden_layer_sizes:\n",
    "        model.add(keras.layers.Dense(hidden_layer_size, activation=\"relu\"))\n",
    "        model.add(keras.layers.Dropout(dropout))\n",
    "    model.add(keras.layers.Dense(1))\n",
    "    return model"
   ]
  },
  {
   "cell_type": "markdown",
   "id": "9405e08d",
   "metadata": {},
   "source": [
    "### 3.3 Defining and training the neural net regressor\n",
    "\n",
    "Training a regressor has nearly the same data flow as training a classifier. The differences include using `KerasRegressor` instead of `KerasClassifier` and adding `keras.metrics.R2Score` as a metric. Most of the Scikit-learn regressors use the coefficient of determination or R^2 as a metric function, which measures correlation between the true labels and predicted labels."
   ]
  },
  {
   "cell_type": "code",
   "execution_count": 12,
   "id": "b4f2d8bb",
   "metadata": {
    "execution": {
     "iopub.execute_input": "2024-04-10T01:19:13.563905Z",
     "iopub.status.busy": "2024-04-10T01:19:13.563676Z",
     "iopub.status.idle": "2024-04-10T01:19:13.567314Z",
     "shell.execute_reply": "2024-04-10T01:19:13.566788Z"
    }
   },
   "outputs": [],
   "source": [
    "import keras\n",
    "import keras.models\n",
    "from scikeras.wrappers import KerasRegressor\n",
    "\n",
    "\n",
    "reg = KerasRegressor(\n",
    "    model=get_reg,\n",
    "    loss=\"mse\",\n",
    "    metrics=[keras.metrics.R2Score],\n",
    "    hidden_layer_sizes=(100,),\n",
    "    dropout=0.5,\n",
    ")"
   ]
  },
  {
   "cell_type": "code",
   "execution_count": 13,
   "id": "5eea71c8",
   "metadata": {
    "execution": {
     "iopub.execute_input": "2024-04-10T01:19:13.571244Z",
     "iopub.status.busy": "2024-04-10T01:19:13.570191Z",
     "iopub.status.idle": "2024-04-10T01:19:14.239244Z",
     "shell.execute_reply": "2024-04-10T01:19:14.238602Z"
    }
   },
   "outputs": [
    {
     "name": "stdout",
     "output_type": "stream",
     "text": [
      "\r",
      "\u001b[1m 1/32\u001b[0m \u001b[37m━━━━━━━━━━━━━━━━━━━━\u001b[0m \u001b[1m17s\u001b[0m 566ms/step - loss: 33051.9492 - r2_score: -0.0444"
     ]
    },
    {
     "name": "stdout",
     "output_type": "stream",
     "text": [
      "\b\b\b\b\b\b\b\b\b\b\b\b\b\b\b\b\b\b\b\b\b\b\b\b\b\b\b\b\b\b\b\b\b\b\b\b\b\b\b\b\b\b\b\b\b\b\b\b\b\b\b\b\b\b\b\b\b\b\b\b\b\b\b\b\b\b\b\b\b\b\b\b\b\b\b\b\b\b\b\b\r",
      "\u001b[1m32/32\u001b[0m \u001b[32m━━━━━━━━━━━━━━━━━━━━\u001b[0m\u001b[37m\u001b[0m \u001b[1m1s\u001b[0m 936us/step - loss: 45326.4727 - r2_score: -0.0044 \n"
     ]
    }
   ],
   "source": [
    "reg.fit(X_regr, y_regr);"
   ]
  },
  {
   "cell_type": "markdown",
   "id": "1e11bb63",
   "metadata": {},
   "source": [
    "### 3.4 Making predictions, regression\n",
    "\n",
    "You may call `predict` or `predict_proba` on the fitted model. For regressions, both methods return the same value."
   ]
  },
  {
   "cell_type": "code",
   "execution_count": 14,
   "id": "d3add3c0",
   "metadata": {
    "execution": {
     "iopub.execute_input": "2024-04-10T01:19:14.242208Z",
     "iopub.status.busy": "2024-04-10T01:19:14.241634Z",
     "iopub.status.idle": "2024-04-10T01:19:14.311047Z",
     "shell.execute_reply": "2024-04-10T01:19:14.310349Z"
    }
   },
   "outputs": [
    {
     "name": "stdout",
     "output_type": "stream",
     "text": [
      "\r",
      "\u001b[1m1/1\u001b[0m \u001b[32m━━━━━━━━━━━━━━━━━━━━\u001b[0m\u001b[37m\u001b[0m \u001b[1m0s\u001b[0m 28ms/step"
     ]
    },
    {
     "name": "stdout",
     "output_type": "stream",
     "text": [
      "\b\b\b\b\b\b\b\b\b\b\b\b\b\b\b\b\b\b\b\b\b\b\b\b\b\b\b\b\b\b\b\b\b\b\b\b\b\r",
      "\u001b[1m1/1\u001b[0m \u001b[32m━━━━━━━━━━━━━━━━━━━━\u001b[0m\u001b[37m\u001b[0m \u001b[1m0s\u001b[0m 29ms/step\n"
     ]
    },
    {
     "data": {
      "text/plain": [
       "array([-0.10957876, -1.0690885 ,  0.0862806 , -0.38353688, -0.11362437],\n",
       "      dtype=float32)"
      ]
     },
     "execution_count": 14,
     "metadata": {},
     "output_type": "execute_result"
    }
   ],
   "source": [
    "y_pred = reg.predict(X_regr[:5])\n",
    "y_pred"
   ]
  },
  {
   "cell_type": "markdown",
   "id": "346d7ac4",
   "metadata": {},
   "source": [
    "## 4. Saving and loading a model\n",
    "\n",
    "Save and load either the whole model by using pickle, or use Keras' specialized save methods on the `KerasClassifier.model_` or `KerasRegressor.model_` attribute that is created after fitting. You will want to use Keras' model saving utilities if any of the following apply:\n",
    "\n",
    "1. You wish to save only the weights or only the training configuration of your model.\n",
    "2. You wish to share your model with collaborators. Pickle is a relatively unsafe protocol and it is not recommended to share or load pickle objects publically.\n",
    "3. You care about performance, especially if doing in-memory serialization.\n",
    "\n",
    "For more information, see Keras' [saving documentation](https://www.tensorflow.org/guide/keras/save_and_serialize).\n",
    "\n",
    "### 4.1 Saving the whole model"
   ]
  },
  {
   "cell_type": "code",
   "execution_count": 15,
   "id": "e0afe85c",
   "metadata": {
    "execution": {
     "iopub.execute_input": "2024-04-10T01:19:14.314282Z",
     "iopub.status.busy": "2024-04-10T01:19:14.313599Z",
     "iopub.status.idle": "2024-04-10T01:19:14.439490Z",
     "shell.execute_reply": "2024-04-10T01:19:14.438815Z"
    }
   },
   "outputs": [
    {
     "name": "stdout",
     "output_type": "stream",
     "text": [
      "\r",
      "\u001b[1m1/1\u001b[0m \u001b[32m━━━━━━━━━━━━━━━━━━━━\u001b[0m\u001b[37m\u001b[0m \u001b[1m0s\u001b[0m 26ms/step"
     ]
    },
    {
     "name": "stdout",
     "output_type": "stream",
     "text": [
      "\b\b\b\b\b\b\b\b\b\b\b\b\b\b\b\b\b\b\b\b\b\b\b\b\b\b\b\b\b\b\b\b\b\b\b\b\b\r",
      "\u001b[1m1/1\u001b[0m \u001b[32m━━━━━━━━━━━━━━━━━━━━\u001b[0m\u001b[37m\u001b[0m \u001b[1m0s\u001b[0m 27ms/step\n"
     ]
    },
    {
     "data": {
      "text/plain": [
       "array([-0.10957876, -1.0690885 ,  0.0862806 , -0.38353688, -0.11362437],\n",
       "      dtype=float32)"
      ]
     },
     "execution_count": 15,
     "metadata": {},
     "output_type": "execute_result"
    }
   ],
   "source": [
    "import pickle\n",
    "\n",
    "\n",
    "bytes_model = pickle.dumps(reg)\n",
    "new_reg = pickle.loads(bytes_model)\n",
    "new_reg.predict(X_regr[:5])  # model is still trained"
   ]
  },
  {
   "cell_type": "markdown",
   "id": "425d1af4",
   "metadata": {},
   "source": [
    "### 4.2 Saving using Keras' saving methods\n",
    "\n",
    "This efficiently and safely saves the model to disk, including trained weights.\n",
    "You should use this method if you plan on sharing your saved models."
   ]
  },
  {
   "cell_type": "code",
   "execution_count": 16,
   "id": "18b31d8a",
   "metadata": {
    "execution": {
     "iopub.execute_input": "2024-04-10T01:19:14.441815Z",
     "iopub.status.busy": "2024-04-10T01:19:14.441609Z",
     "iopub.status.idle": "2024-04-10T01:19:14.543375Z",
     "shell.execute_reply": "2024-04-10T01:19:14.542757Z"
    }
   },
   "outputs": [
    {
     "name": "stdout",
     "output_type": "stream",
     "text": [
      "\r",
      "\u001b[1m 1/32\u001b[0m \u001b[37m━━━━━━━━━━━━━━━━━━━━\u001b[0m \u001b[1m0s\u001b[0m 27ms/step"
     ]
    },
    {
     "name": "stdout",
     "output_type": "stream",
     "text": [
      "\b\b\b\b\b\b\b\b\b\b\b\b\b\b\b\b\b\b\b\b\b\b\b\b\b\b\b\b\b\b\b\b\b\b\b\b\b\b\b\r",
      "\u001b[1m32/32\u001b[0m \u001b[32m━━━━━━━━━━━━━━━━━━━━\u001b[0m\u001b[37m\u001b[0m \u001b[1m0s\u001b[0m 630us/step\n"
     ]
    }
   ],
   "source": [
    "# Save to disk\n",
    "pred_old = reg.predict(X_regr)\n",
    "reg.model_.save(\"/tmp/my_model.keras\")  # saves just the Keras model"
   ]
  },
  {
   "cell_type": "code",
   "execution_count": 17,
   "id": "82935195",
   "metadata": {
    "execution": {
     "iopub.execute_input": "2024-04-10T01:19:14.546743Z",
     "iopub.status.busy": "2024-04-10T01:19:14.546280Z",
     "iopub.status.idle": "2024-04-10T01:19:14.704366Z",
     "shell.execute_reply": "2024-04-10T01:19:14.703660Z"
    }
   },
   "outputs": [
    {
     "name": "stdout",
     "output_type": "stream",
     "text": [
      "\r",
      "\u001b[1m 1/32\u001b[0m \u001b[37m━━━━━━━━━━━━━━━━━━━━\u001b[0m \u001b[1m0s\u001b[0m 28ms/step"
     ]
    },
    {
     "name": "stdout",
     "output_type": "stream",
     "text": [
      "\b\b\b\b\b\b\b\b\b\b\b\b\b\b\b\b\b\b\b\b\b\b\b\b\b\b\b\b\b\b\b\b\b\b\b\b\b\b\b\r",
      "\u001b[1m32/32\u001b[0m \u001b[32m━━━━━━━━━━━━━━━━━━━━\u001b[0m\u001b[37m\u001b[0m \u001b[1m0s\u001b[0m 1ms/step \n"
     ]
    }
   ],
   "source": [
    "# Load the model back into memory\n",
    "new_reg_model = keras.saving.load_model(\"/tmp/my_model.keras\")\n",
    "# Now we need to instantiate a new SciKeras object\n",
    "# since we only saved the Keras model\n",
    "reg_new = KerasRegressor(new_reg_model)\n",
    "# use initialize to avoid re-fitting\n",
    "reg_new.initialize(X_regr, y_regr)\n",
    "pred_new = reg_new.predict(X_regr)\n",
    "np.testing.assert_allclose(pred_old, pred_new)"
   ]
  },
  {
   "cell_type": "markdown",
   "id": "b3bc0697",
   "metadata": {},
   "source": [
    "## 5. Usage with an sklearn Pipeline\n",
    "\n",
    "It is possible to put the `KerasClassifier` inside an `sklearn Pipeline`, as you would with any `sklearn` classifier.\n"
   ]
  },
  {
   "cell_type": "code",
   "execution_count": 18,
   "id": "73cda002",
   "metadata": {
    "execution": {
     "iopub.execute_input": "2024-04-10T01:19:14.707063Z",
     "iopub.status.busy": "2024-04-10T01:19:14.706854Z",
     "iopub.status.idle": "2024-04-10T01:19:15.551662Z",
     "shell.execute_reply": "2024-04-10T01:19:15.550963Z"
    }
   },
   "outputs": [
    {
     "name": "stdout",
     "output_type": "stream",
     "text": [
      "\r",
      "\u001b[1m 1/32\u001b[0m \u001b[37m━━━━━━━━━━━━━━━━━━━━\u001b[0m \u001b[1m19s\u001b[0m 627ms/step - loss: 0.8366"
     ]
    },
    {
     "name": "stdout",
     "output_type": "stream",
     "text": [
      "\b\b\b\b\b\b\b\b\b\b\b\b\b\b\b\b\b\b\b\b\b\b\b\b\b\b\b\b\b\b\b\b\b\b\b\b\b\b\b\b\b\b\b\b\b\b\b\b\b\b\b\b\b\b\b\b\r",
      "\u001b[1m32/32\u001b[0m \u001b[32m━━━━━━━━━━━━━━━━━━━━\u001b[0m\u001b[37m\u001b[0m \u001b[1m1s\u001b[0m 849us/step - loss: 0.7269 \n"
     ]
    },
    {
     "name": "stdout",
     "output_type": "stream",
     "text": [
      "\r",
      "\u001b[1m 1/32\u001b[0m \u001b[37m━━━━━━━━━━━━━━━━━━━━\u001b[0m \u001b[1m0s\u001b[0m 28ms/step"
     ]
    },
    {
     "name": "stdout",
     "output_type": "stream",
     "text": [
      "\b\b\b\b\b\b\b\b\b\b\b\b\b\b\b\b\b\b\b\b\b\b\b\b\b\b\b\b\b\b\b\b\b\b\b\b\b\b\b\r",
      "\u001b[1m32/32\u001b[0m \u001b[32m━━━━━━━━━━━━━━━━━━━━\u001b[0m\u001b[37m\u001b[0m \u001b[1m0s\u001b[0m 1ms/step \n"
     ]
    }
   ],
   "source": [
    "from sklearn.pipeline import Pipeline\n",
    "from sklearn.preprocessing import StandardScaler\n",
    "\n",
    "\n",
    "pipe = Pipeline([\n",
    "    ('scale', StandardScaler()),\n",
    "    ('clf', clf),\n",
    "])\n",
    "\n",
    "\n",
    "y_proba = pipe.fit(X, y).predict(X)"
   ]
  },
  {
   "cell_type": "markdown",
   "id": "6aaf6ee5",
   "metadata": {},
   "source": [
    "To save the whole pipeline, including the Keras model, use `pickle`.\n",
    "\n",
    "## 6. Callbacks\n",
    "\n",
    "Adding a new callback to the model is straightforward. Below we define a threashold callback\n",
    "to avoid training past a certain accuracy. This a rudimentary for of\n",
    "[early stopping](https://www.tensorflow.org/api_docs/python/tf/keras/callbacks/EarlyStopping)."
   ]
  },
  {
   "cell_type": "code",
   "execution_count": 19,
   "id": "a03f6feb",
   "metadata": {
    "execution": {
     "iopub.execute_input": "2024-04-10T01:19:15.553964Z",
     "iopub.status.busy": "2024-04-10T01:19:15.553766Z",
     "iopub.status.idle": "2024-04-10T01:19:15.557797Z",
     "shell.execute_reply": "2024-04-10T01:19:15.557157Z"
    }
   },
   "outputs": [],
   "source": [
    "class MaxValLoss(keras.callbacks.Callback):\n",
    "\n",
    "    def __init__(self, monitor: str, threashold: float):\n",
    "        self.monitor = monitor\n",
    "        self.threashold = threashold\n",
    "\n",
    "    def on_epoch_end(self, epoch, logs=None):\n",
    "        if logs[self.monitor] > self.threashold:\n",
    "            print(\"Threashold reached; stopping training\") \n",
    "            self.model.stop_training = True"
   ]
  },
  {
   "cell_type": "markdown",
   "id": "feee23d8",
   "metadata": {},
   "source": [
    "Define a test dataset:"
   ]
  },
  {
   "cell_type": "code",
   "execution_count": 20,
   "id": "7bb4dce3",
   "metadata": {
    "execution": {
     "iopub.execute_input": "2024-04-10T01:19:15.560075Z",
     "iopub.status.busy": "2024-04-10T01:19:15.559875Z",
     "iopub.status.idle": "2024-04-10T01:19:15.564238Z",
     "shell.execute_reply": "2024-04-10T01:19:15.563573Z"
    }
   },
   "outputs": [],
   "source": [
    "from sklearn.datasets import make_moons\n",
    "\n",
    "\n",
    "X, y = make_moons(n_samples=100, noise=0.2, random_state=0)"
   ]
  },
  {
   "cell_type": "markdown",
   "id": "c684f127",
   "metadata": {},
   "source": [
    "And try fitting it with and without the callback:"
   ]
  },
  {
   "cell_type": "code",
   "execution_count": 21,
   "id": "4dbd192a",
   "metadata": {
    "execution": {
     "iopub.execute_input": "2024-04-10T01:19:15.566476Z",
     "iopub.status.busy": "2024-04-10T01:19:15.566270Z",
     "iopub.status.idle": "2024-04-10T01:19:17.205076Z",
     "shell.execute_reply": "2024-04-10T01:19:17.204382Z"
    }
   },
   "outputs": [
    {
     "name": "stdout",
     "output_type": "stream",
     "text": [
      "Trained 20 epochs\n",
      "Final accuracy: 0.8999999761581421\n"
     ]
    }
   ],
   "source": [
    "kwargs = dict(\n",
    "    model=get_clf,\n",
    "    loss=\"binary_crossentropy\",\n",
    "    dropout=0.5,\n",
    "    hidden_layer_sizes=(100,),\n",
    "    metrics=[\"binary_accuracy\"],\n",
    "    fit__validation_split=0.2,\n",
    "    epochs=20,\n",
    "    verbose=False,\n",
    "    random_state=0\n",
    ")\n",
    "\n",
    "# First test without the callback\n",
    "clf = KerasClassifier(**kwargs)\n",
    "clf.fit(X, y)\n",
    "print(f\"Trained {len(clf.history_['loss'])} epochs\")\n",
    "print(f\"Final accuracy: {clf.history_['val_binary_accuracy'][-1]}\")  # get last value of last fit/partial_fit call"
   ]
  },
  {
   "cell_type": "markdown",
   "id": "87841f9a",
   "metadata": {},
   "source": [
    "And with:"
   ]
  },
  {
   "cell_type": "code",
   "execution_count": 22,
   "id": "b3b9900e",
   "metadata": {
    "execution": {
     "iopub.execute_input": "2024-04-10T01:19:17.208045Z",
     "iopub.status.busy": "2024-04-10T01:19:17.207508Z",
     "iopub.status.idle": "2024-04-10T01:19:18.268851Z",
     "shell.execute_reply": "2024-04-10T01:19:18.268169Z"
    }
   },
   "outputs": [
    {
     "name": "stdout",
     "output_type": "stream",
     "text": [
      "Threashold reached; stopping training\n",
      "Trained 4 epochs\n",
      "Final accuracy: 0.8999999761581421\n"
     ]
    }
   ],
   "source": [
    "# Test with the callback\n",
    "\n",
    "cb = MaxValLoss(monitor=\"val_binary_accuracy\", threashold=0.75)\n",
    "\n",
    "clf = KerasClassifier(\n",
    "    **kwargs,\n",
    "    callbacks=[cb]\n",
    ")\n",
    "clf.fit(X, y)\n",
    "print(f\"Trained {len(clf.history_['loss'])} epochs\")\n",
    "print(f\"Final accuracy: {clf.history_['val_binary_accuracy'][-1]}\")  # get last value of last fit/partial_fit call"
   ]
  },
  {
   "cell_type": "markdown",
   "id": "c352467b",
   "metadata": {},
   "source": [
    "For information on how to write custom callbacks, have a look at the\n",
    "[Advanced Usage](https://nbviewer.jupyter.org/github/adriangb/scikeras/blob/master/notebooks/Advanced_Usage.ipynb) notebook.\n",
    "\n",
    "## 7. Usage with sklearn GridSearchCV\n",
    "\n",
    "### 7.1 Special prefixes\n",
    "\n",
    "SciKeras allows to direct access to all parameters passed to the wrapper constructors, including deeply nested routed parameters. This allows tunning of\n",
    "paramters like `hidden_layer_sizes` as well as `optimizer__learning_rate`.\n",
    "\n",
    "This is exactly the same logic that allows to access estimator parameters in `sklearn Pipeline`s and `FeatureUnion`s.\n",
    "\n",
    "This feature is useful in several ways. For one, it allows to set those parameters in the model definition. Furthermore, it allows you to set parameters in an `sklearn GridSearchCV` as shown below.\n",
    "\n",
    "To differentiate paramters like `callbacks` which are accepted by both `keras.Model.fit` and `keras.Model.predict` you can add a `fit__` or `predict__` routing suffix respectively. Similar, the `model__` prefix may be used to specify that a paramter is destined only for `get_clf`/`get_reg` (or whatever callable you pass as your `model` argument).\n",
    "\n",
    "For more information on parameter routing with special prefixes, see the [Advanced Usage Docs](https://www.adriangb.com/scikeras/stable/advanced.html#routed-parameters)\n",
    "\n",
    "### 7.2 Performing a grid search\n",
    "\n",
    "Below we show how to perform a grid search over the learning rate (`optimizer__learning_rate`), the model's number of hidden layers (`model__hidden_layer_sizes`), the model's dropout rate (`model__dropout`)."
   ]
  },
  {
   "cell_type": "code",
   "execution_count": 23,
   "id": "e62990ba",
   "metadata": {
    "execution": {
     "iopub.execute_input": "2024-04-10T01:19:18.271534Z",
     "iopub.status.busy": "2024-04-10T01:19:18.271127Z",
     "iopub.status.idle": "2024-04-10T01:19:18.281303Z",
     "shell.execute_reply": "2024-04-10T01:19:18.280644Z"
    }
   },
   "outputs": [],
   "source": [
    "from sklearn.model_selection import GridSearchCV\n",
    "\n",
    "\n",
    "clf = KerasClassifier(\n",
    "    model=get_clf,\n",
    "    loss=\"binary_crossentropy\",\n",
    "    optimizer=\"adam\",\n",
    "    optimizer__learning_rate=0.1,\n",
    "    model__hidden_layer_sizes=(100,),\n",
    "    model__dropout=0.5,\n",
    "    verbose=False,\n",
    ")"
   ]
  },
  {
   "cell_type": "markdown",
   "id": "79ac0500",
   "metadata": {},
   "source": [
    "*Note*: We set the verbosity level to zero (`verbose=False`) to prevent too much print output from being shown."
   ]
  },
  {
   "cell_type": "code",
   "execution_count": 24,
   "id": "aa55c95b",
   "metadata": {
    "execution": {
     "iopub.execute_input": "2024-04-10T01:19:18.283558Z",
     "iopub.status.busy": "2024-04-10T01:19:18.283352Z",
     "iopub.status.idle": "2024-04-10T01:19:41.678662Z",
     "shell.execute_reply": "2024-04-10T01:19:41.677866Z"
    }
   },
   "outputs": [
    {
     "name": "stdout",
     "output_type": "stream",
     "text": [
      "Fitting 5 folds for each of 8 candidates, totalling 40 fits\n"
     ]
    },
    {
     "name": "stderr",
     "output_type": "stream",
     "text": [
      "WARNING:tensorflow:5 out of the last 13 calls to <function TensorFlowTrainer.make_train_function.<locals>.one_step_on_iterator at 0x7f6056079a80> triggered tf.function retracing. Tracing is expensive and the excessive number of tracings could be due to (1) creating @tf.function repeatedly in a loop, (2) passing tensors with different shapes, (3) passing Python objects instead of tensors. For (1), please define your @tf.function outside of the loop. For (2), @tf.function has reduce_retracing=True option that can avoid unnecessary retracing. For (3), please refer to https://www.tensorflow.org/guide/function#controlling_retracing and https://www.tensorflow.org/api_docs/python/tf/function for  more details.\n"
     ]
    },
    {
     "name": "stderr",
     "output_type": "stream",
     "text": [
      "WARNING:tensorflow:5 out of the last 5 calls to <function TensorFlowTrainer.make_predict_function.<locals>.one_step_on_data_distributed at 0x7f6055fdc180> triggered tf.function retracing. Tracing is expensive and the excessive number of tracings could be due to (1) creating @tf.function repeatedly in a loop, (2) passing tensors with different shapes, (3) passing Python objects instead of tensors. For (1), please define your @tf.function outside of the loop. For (2), @tf.function has reduce_retracing=True option that can avoid unnecessary retracing. For (3), please refer to https://www.tensorflow.org/guide/function#controlling_retracing and https://www.tensorflow.org/api_docs/python/tf/function for  more details.\n"
     ]
    },
    {
     "name": "stderr",
     "output_type": "stream",
     "text": [
      "WARNING:tensorflow:5 out of the last 13 calls to <function TensorFlowTrainer.make_train_function.<locals>.one_step_on_iterator at 0x7f5959020720> triggered tf.function retracing. Tracing is expensive and the excessive number of tracings could be due to (1) creating @tf.function repeatedly in a loop, (2) passing tensors with different shapes, (3) passing Python objects instead of tensors. For (1), please define your @tf.function outside of the loop. For (2), @tf.function has reduce_retracing=True option that can avoid unnecessary retracing. For (3), please refer to https://www.tensorflow.org/guide/function#controlling_retracing and https://www.tensorflow.org/api_docs/python/tf/function for  more details.\n",
      "WARNING:tensorflow:5 out of the last 5 calls to <function TensorFlowTrainer.make_predict_function.<locals>.one_step_on_data_distributed at 0x7f59590c72e0> triggered tf.function retracing. Tracing is expensive and the excessive number of tracings could be due to (1) creating @tf.function repeatedly in a loop, (2) passing tensors with different shapes, (3) passing Python objects instead of tensors. For (1), please define your @tf.function outside of the loop. For (2), @tf.function has reduce_retracing=True option that can avoid unnecessary retracing. For (3), please refer to https://www.tensorflow.org/guide/function#controlling_retracing and https://www.tensorflow.org/api_docs/python/tf/function for  more details.\n"
     ]
    },
    {
     "name": "stderr",
     "output_type": "stream",
     "text": [
      "WARNING:tensorflow:5 out of the last 13 calls to <function TensorFlowTrainer.make_train_function.<locals>.one_step_on_iterator at 0x7f3aee6a1a80> triggered tf.function retracing. Tracing is expensive and the excessive number of tracings could be due to (1) creating @tf.function repeatedly in a loop, (2) passing tensors with different shapes, (3) passing Python objects instead of tensors. For (1), please define your @tf.function outside of the loop. For (2), @tf.function has reduce_retracing=True option that can avoid unnecessary retracing. For (3), please refer to https://www.tensorflow.org/guide/function#controlling_retracing and https://www.tensorflow.org/api_docs/python/tf/function for  more details.\n",
      "WARNING:tensorflow:5 out of the last 5 calls to <function TensorFlowTrainer.make_predict_function.<locals>.one_step_on_data_distributed at 0x7f3aee408180> triggered tf.function retracing. Tracing is expensive and the excessive number of tracings could be due to (1) creating @tf.function repeatedly in a loop, (2) passing tensors with different shapes, (3) passing Python objects instead of tensors. For (1), please define your @tf.function outside of the loop. For (2), @tf.function has reduce_retracing=True option that can avoid unnecessary retracing. For (3), please refer to https://www.tensorflow.org/guide/function#controlling_retracing and https://www.tensorflow.org/api_docs/python/tf/function for  more details.\n"
     ]
    },
    {
     "name": "stderr",
     "output_type": "stream",
     "text": [
      "WARNING:tensorflow:5 out of the last 13 calls to <function TensorFlowTrainer.make_train_function.<locals>.one_step_on_iterator at 0x7fb578e18720> triggered tf.function retracing. Tracing is expensive and the excessive number of tracings could be due to (1) creating @tf.function repeatedly in a loop, (2) passing tensors with different shapes, (3) passing Python objects instead of tensors. For (1), please define your @tf.function outside of the loop. For (2), @tf.function has reduce_retracing=True option that can avoid unnecessary retracing. For (3), please refer to https://www.tensorflow.org/guide/function#controlling_retracing and https://www.tensorflow.org/api_docs/python/tf/function for  more details.\n",
      "WARNING:tensorflow:5 out of the last 13 calls to <function TensorFlowTrainer.make_train_function.<locals>.one_step_on_iterator at 0x7f6055e80ae0> triggered tf.function retracing. Tracing is expensive and the excessive number of tracings could be due to (1) creating @tf.function repeatedly in a loop, (2) passing tensors with different shapes, (3) passing Python objects instead of tensors. For (1), please define your @tf.function outside of the loop. For (2), @tf.function has reduce_retracing=True option that can avoid unnecessary retracing. For (3), please refer to https://www.tensorflow.org/guide/function#controlling_retracing and https://www.tensorflow.org/api_docs/python/tf/function for  more details.\n"
     ]
    },
    {
     "name": "stderr",
     "output_type": "stream",
     "text": [
      "WARNING:tensorflow:5 out of the last 5 calls to <function TensorFlowTrainer.make_predict_function.<locals>.one_step_on_data_distributed at 0x7fb578ebf2e0> triggered tf.function retracing. Tracing is expensive and the excessive number of tracings could be due to (1) creating @tf.function repeatedly in a loop, (2) passing tensors with different shapes, (3) passing Python objects instead of tensors. For (1), please define your @tf.function outside of the loop. For (2), @tf.function has reduce_retracing=True option that can avoid unnecessary retracing. For (3), please refer to https://www.tensorflow.org/guide/function#controlling_retracing and https://www.tensorflow.org/api_docs/python/tf/function for  more details.\n",
      "WARNING:tensorflow:6 out of the last 6 calls to <function TensorFlowTrainer.make_predict_function.<locals>.one_step_on_data_distributed at 0x7f6055d311c0> triggered tf.function retracing. Tracing is expensive and the excessive number of tracings could be due to (1) creating @tf.function repeatedly in a loop, (2) passing tensors with different shapes, (3) passing Python objects instead of tensors. For (1), please define your @tf.function outside of the loop. For (2), @tf.function has reduce_retracing=True option that can avoid unnecessary retracing. For (3), please refer to https://www.tensorflow.org/guide/function#controlling_retracing and https://www.tensorflow.org/api_docs/python/tf/function for  more details.\n"
     ]
    },
    {
     "name": "stderr",
     "output_type": "stream",
     "text": [
      "WARNING:tensorflow:5 out of the last 13 calls to <function TensorFlowTrainer.make_train_function.<locals>.one_step_on_iterator at 0x7f5958e0fc40> triggered tf.function retracing. Tracing is expensive and the excessive number of tracings could be due to (1) creating @tf.function repeatedly in a loop, (2) passing tensors with different shapes, (3) passing Python objects instead of tensors. For (1), please define your @tf.function outside of the loop. For (2), @tf.function has reduce_retracing=True option that can avoid unnecessary retracing. For (3), please refer to https://www.tensorflow.org/guide/function#controlling_retracing and https://www.tensorflow.org/api_docs/python/tf/function for  more details.\n"
     ]
    },
    {
     "name": "stderr",
     "output_type": "stream",
     "text": [
      "WARNING:tensorflow:6 out of the last 6 calls to <function TensorFlowTrainer.make_predict_function.<locals>.one_step_on_data_distributed at 0x7f5958cf9120> triggered tf.function retracing. Tracing is expensive and the excessive number of tracings could be due to (1) creating @tf.function repeatedly in a loop, (2) passing tensors with different shapes, (3) passing Python objects instead of tensors. For (1), please define your @tf.function outside of the loop. For (2), @tf.function has reduce_retracing=True option that can avoid unnecessary retracing. For (3), please refer to https://www.tensorflow.org/guide/function#controlling_retracing and https://www.tensorflow.org/api_docs/python/tf/function for  more details.\n",
      "WARNING:tensorflow:5 out of the last 13 calls to <function TensorFlowTrainer.make_train_function.<locals>.one_step_on_iterator at 0x7f3aee4a8ae0> triggered tf.function retracing. Tracing is expensive and the excessive number of tracings could be due to (1) creating @tf.function repeatedly in a loop, (2) passing tensors with different shapes, (3) passing Python objects instead of tensors. For (1), please define your @tf.function outside of the loop. For (2), @tf.function has reduce_retracing=True option that can avoid unnecessary retracing. For (3), please refer to https://www.tensorflow.org/guide/function#controlling_retracing and https://www.tensorflow.org/api_docs/python/tf/function for  more details.\n"
     ]
    },
    {
     "name": "stderr",
     "output_type": "stream",
     "text": [
      "WARNING:tensorflow:6 out of the last 6 calls to <function TensorFlowTrainer.make_predict_function.<locals>.one_step_on_data_distributed at 0x7f3aee3591c0> triggered tf.function retracing. Tracing is expensive and the excessive number of tracings could be due to (1) creating @tf.function repeatedly in a loop, (2) passing tensors with different shapes, (3) passing Python objects instead of tensors. For (1), please define your @tf.function outside of the loop. For (2), @tf.function has reduce_retracing=True option that can avoid unnecessary retracing. For (3), please refer to https://www.tensorflow.org/guide/function#controlling_retracing and https://www.tensorflow.org/api_docs/python/tf/function for  more details.\n"
     ]
    },
    {
     "name": "stderr",
     "output_type": "stream",
     "text": [
      "WARNING:tensorflow:5 out of the last 13 calls to <function TensorFlowTrainer.make_train_function.<locals>.one_step_on_iterator at 0x7fb578c03c40> triggered tf.function retracing. Tracing is expensive and the excessive number of tracings could be due to (1) creating @tf.function repeatedly in a loop, (2) passing tensors with different shapes, (3) passing Python objects instead of tensors. For (1), please define your @tf.function outside of the loop. For (2), @tf.function has reduce_retracing=True option that can avoid unnecessary retracing. For (3), please refer to https://www.tensorflow.org/guide/function#controlling_retracing and https://www.tensorflow.org/api_docs/python/tf/function for  more details.\n",
      "WARNING:tensorflow:6 out of the last 6 calls to <function TensorFlowTrainer.make_predict_function.<locals>.one_step_on_data_distributed at 0x7fb578ced120> triggered tf.function retracing. Tracing is expensive and the excessive number of tracings could be due to (1) creating @tf.function repeatedly in a loop, (2) passing tensors with different shapes, (3) passing Python objects instead of tensors. For (1), please define your @tf.function outside of the loop. For (2), @tf.function has reduce_retracing=True option that can avoid unnecessary retracing. For (3), please refer to https://www.tensorflow.org/guide/function#controlling_retracing and https://www.tensorflow.org/api_docs/python/tf/function for  more details.\n"
     ]
    },
    {
     "name": "stdout",
     "output_type": "stream",
     "text": [
      "0.85 {'model__dropout': 0.5, 'model__hidden_layer_sizes': (50, 50), 'optimizer__learning_rate': 0.1}\n"
     ]
    }
   ],
   "source": [
    "params = {\n",
    "    'optimizer__learning_rate': [0.05, 0.1],\n",
    "    'model__hidden_layer_sizes': [(100, ), (50, 50, )],\n",
    "    'model__dropout': [0, 0.5],\n",
    "}\n",
    "\n",
    "gs = GridSearchCV(clf, params, scoring='accuracy', n_jobs=-1, verbose=True)\n",
    "\n",
    "gs.fit(X, y)\n",
    "\n",
    "print(gs.best_score_, gs.best_params_)"
   ]
  },
  {
   "cell_type": "markdown",
   "id": "4d424315",
   "metadata": {},
   "source": [
    "Of course, we could further nest the `KerasClassifier` within an `sklearn.pipeline.Pipeline`,\n",
    "in which case we just prefix the parameter by the name of the net (e.g. `clf__model__hidden_layer_sizes`)."
   ]
  }
 ],
 "metadata": {
  "jupytext": {
   "formats": "ipynb,md"
  },
  "kernelspec": {
   "display_name": "Python 3",
   "language": "python",
   "name": "python3"
  },
  "language_info": {
   "codemirror_mode": {
    "name": "ipython",
    "version": 3
   },
   "file_extension": ".py",
   "mimetype": "text/x-python",
   "name": "python",
   "nbconvert_exporter": "python",
   "pygments_lexer": "ipython3",
   "version": "3.12.2"
  }
 },
 "nbformat": 4,
 "nbformat_minor": 5
}
