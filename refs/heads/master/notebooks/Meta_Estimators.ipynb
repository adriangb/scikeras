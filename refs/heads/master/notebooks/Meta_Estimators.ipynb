{
 "cells": [
  {
   "cell_type": "raw",
   "id": "permanent-permission",
   "metadata": {},
   "source": [
    "<a href=\"https://colab.research.google.com/github/adriangb/scikeras/blob/docs-deploy/refs/heads/master/notebooks/Meta_Estimators.ipynb\"><img src=\"https://www.tensorflow.org/images/colab_logo_32px.png\">Run in Google Colab</a>"
   ]
  },
  {
   "cell_type": "markdown",
   "id": "experienced-session",
   "metadata": {},
   "source": [
    "# Meta Estimators in SciKeras\n",
    "\n",
    "In this notebook, we implement sklearn ensemble and tree meta-estimators backed by a Keras MLP model.\n",
    "\n",
    "## Table of contents\n",
    "\n",
    "* [1. Setup](#1.-Setup)\n",
    "* [2. Defining the Keras Model](#2.-Defining-the-Keras-Model)\n",
    "  * [2.1 Building a boosting ensemble](#2.1-Building-a-boosting-ensemble)\n",
    "* [3. Testing with a toy dataset](#3.-Testing-with-a-toy-dataset)\n",
    "* [4. Bagging ensemble](#4.-Bagging-ensemble)\n",
    "\n",
    "## 1. Setup"
   ]
  },
  {
   "cell_type": "code",
   "execution_count": 1,
   "id": "international-radar",
   "metadata": {
    "execution": {
     "iopub.execute_input": "2021-01-28T18:43:17.115359Z",
     "iopub.status.busy": "2021-01-28T18:43:17.114676Z",
     "iopub.status.idle": "2021-01-28T18:43:19.375354Z",
     "shell.execute_reply": "2021-01-28T18:43:19.376062Z"
    }
   },
   "outputs": [],
   "source": [
    "try:\n",
    "    import scikeras\n",
    "except ImportError:\n",
    "    !python -m pip install scikeras"
   ]
  },
  {
   "cell_type": "markdown",
   "id": "local-stuff",
   "metadata": {},
   "source": [
    "Silence TensorFlow logging to keep output succinct."
   ]
  },
  {
   "cell_type": "code",
   "execution_count": 2,
   "id": "fifty-attempt",
   "metadata": {
    "execution": {
     "iopub.execute_input": "2021-01-28T18:43:19.379300Z",
     "iopub.status.busy": "2021-01-28T18:43:19.378585Z",
     "iopub.status.idle": "2021-01-28T18:43:19.393400Z",
     "shell.execute_reply": "2021-01-28T18:43:19.392399Z"
    }
   },
   "outputs": [],
   "source": [
    "import warnings\n",
    "from tensorflow import get_logger\n",
    "get_logger().setLevel('ERROR')\n",
    "warnings.filterwarnings(\"ignore\", message=\"Setting the random state for TF\")"
   ]
  },
  {
   "cell_type": "code",
   "execution_count": 3,
   "id": "diagnostic-quarterly",
   "metadata": {
    "execution": {
     "iopub.execute_input": "2021-01-28T18:43:19.406365Z",
     "iopub.status.busy": "2021-01-28T18:43:19.405772Z",
     "iopub.status.idle": "2021-01-28T18:43:19.877608Z",
     "shell.execute_reply": "2021-01-28T18:43:19.878590Z"
    }
   },
   "outputs": [],
   "source": [
    "import numpy as np\n",
    "from scikeras.wrappers import KerasClassifier, KerasRegressor\n",
    "from tensorflow import keras"
   ]
  },
  {
   "cell_type": "markdown",
   "id": "varied-canberra",
   "metadata": {},
   "source": [
    "## 2. Defining the Keras Model\n",
    "\n",
    "We borrow our MLPClassifier implementation from the [MLPClassifier notebook](https://colab.research.google.com/github/adriangb/scikeras/blob/master/notebooks/MLPClassifier_and_MLPRegressor.ipynb)."
   ]
  },
  {
   "cell_type": "code",
   "execution_count": 4,
   "id": "written-assault",
   "metadata": {
    "execution": {
     "iopub.execute_input": "2021-01-28T18:43:19.882439Z",
     "iopub.status.busy": "2021-01-28T18:43:19.881272Z",
     "iopub.status.idle": "2021-01-28T18:43:19.891325Z",
     "shell.execute_reply": "2021-01-28T18:43:19.892137Z"
    }
   },
   "outputs": [],
   "source": [
    "from typing import Dict, Iterable, Any\n",
    "\n",
    "\n",
    "def get_clf_model(hidden_layer_sizes: Iterable[int], meta: Dict[str, Any], compile_kwargs: Dict[str, Any]):\n",
    "    model = keras.Sequential()\n",
    "    inp = keras.layers.Input(shape=(meta[\"n_features_in_\"]))\n",
    "    model.add(inp)\n",
    "    for hidden_layer_size in hidden_layer_sizes:\n",
    "        layer = keras.layers.Dense(hidden_layer_size, activation=\"relu\")\n",
    "        model.add(layer)\n",
    "    if meta[\"target_type_\"] == \"binary\":\n",
    "        n_output_units = 1\n",
    "        output_activation = \"sigmoid\"\n",
    "        loss = \"binary_crossentropy\"\n",
    "    elif meta[\"target_type_\"] == \"multiclass\":\n",
    "        n_output_units = meta[\"n_classes_\"]\n",
    "        output_activation = \"softmax\"\n",
    "        loss = \"sparse_categorical_crossentropy\"\n",
    "    else:\n",
    "        raise NotImplementedError(f\"Unsupported task type: {meta['target_type_']}\")\n",
    "    out = keras.layers.Dense(n_output_units, activation=output_activation)\n",
    "    model.add(out)\n",
    "    model.compile(loss=loss, optimizer=compile_kwargs[\"optimizer\"])\n",
    "    return model"
   ]
  },
  {
   "cell_type": "markdown",
   "id": "challenging-harvard",
   "metadata": {},
   "source": [
    "Next we wrap this Keras model with SciKeras"
   ]
  },
  {
   "cell_type": "code",
   "execution_count": 5,
   "id": "downtown-crisis",
   "metadata": {
    "execution": {
     "iopub.execute_input": "2021-01-28T18:43:19.896066Z",
     "iopub.status.busy": "2021-01-28T18:43:19.894833Z",
     "iopub.status.idle": "2021-01-28T18:43:19.900108Z",
     "shell.execute_reply": "2021-01-28T18:43:19.900851Z"
    }
   },
   "outputs": [],
   "source": [
    "clf = KerasClassifier(\n",
    "    model=get_clf_model,\n",
    "    hidden_layer_sizes=(100, ),\n",
    "    optimizer=\"adam\",\n",
    "    optimizer__learning_rate=0.001,\n",
    "    verbose=0,\n",
    "    random_state=0,\n",
    ")"
   ]
  },
  {
   "cell_type": "markdown",
   "id": "accepting-oklahoma",
   "metadata": {},
   "source": [
    "### 2.1 Building a boosting ensemble\n",
    "\n",
    "Because SciKeras estimators are fully compliant with the Scikit-Learn API, we can make use of Scikit-Learn's built in utilities. In particular example, we will use `AdaBoostClassifier` from `sklearn.ensemble.AdaBoostClassifier`, but the process is the same for most Scikit-Learn meta-estimators."
   ]
  },
  {
   "cell_type": "code",
   "execution_count": 6,
   "id": "continental-mention",
   "metadata": {
    "execution": {
     "iopub.execute_input": "2021-01-28T18:43:19.904726Z",
     "iopub.status.busy": "2021-01-28T18:43:19.903467Z",
     "iopub.status.idle": "2021-01-28T18:43:19.967150Z",
     "shell.execute_reply": "2021-01-28T18:43:19.968134Z"
    }
   },
   "outputs": [],
   "source": [
    "from sklearn.ensemble import AdaBoostClassifier"
   ]
  },
  {
   "cell_type": "code",
   "execution_count": 7,
   "id": "stock-young",
   "metadata": {
    "execution": {
     "iopub.execute_input": "2021-01-28T18:43:19.973265Z",
     "iopub.status.busy": "2021-01-28T18:43:19.972341Z",
     "iopub.status.idle": "2021-01-28T18:43:19.974165Z",
     "shell.execute_reply": "2021-01-28T18:43:19.974660Z"
    }
   },
   "outputs": [],
   "source": [
    "adaboost = AdaBoostClassifier(base_estimator=clf, random_state=0)"
   ]
  },
  {
   "cell_type": "markdown",
   "id": "applicable-strength",
   "metadata": {},
   "source": [
    "## 3. Testing with a toy dataset\n",
    "\n",
    "Before continouing, we will run a small test to make sure we get somewhat reasonable results."
   ]
  },
  {
   "cell_type": "code",
   "execution_count": 8,
   "id": "military-comfort",
   "metadata": {
    "execution": {
     "iopub.execute_input": "2021-01-28T18:43:19.979101Z",
     "iopub.status.busy": "2021-01-28T18:43:19.978593Z",
     "iopub.status.idle": "2021-01-28T18:43:20.004617Z",
     "shell.execute_reply": "2021-01-28T18:43:20.005351Z"
    }
   },
   "outputs": [],
   "source": [
    "from sklearn.datasets import make_moons\n",
    "from sklearn.model_selection import cross_val_score"
   ]
  },
  {
   "cell_type": "code",
   "execution_count": 9,
   "id": "invalid-fabric",
   "metadata": {
    "execution": {
     "iopub.execute_input": "2021-01-28T18:43:20.009455Z",
     "iopub.status.busy": "2021-01-28T18:43:20.008389Z",
     "iopub.status.idle": "2021-01-28T18:46:41.876943Z",
     "shell.execute_reply": "2021-01-28T18:46:41.876081Z"
    }
   },
   "outputs": [
    {
     "name": "stdout",
     "output_type": "stream",
     "text": [
      "Single score: 0.33\n",
      "AdaBoost score: 0.81\n"
     ]
    }
   ],
   "source": [
    "X, y = make_moons()\n",
    "\n",
    "single_score = np.mean(cross_val_score(clf, X, y))\n",
    "\n",
    "adaboost_score = np.mean(cross_val_score(adaboost, X, y))\n",
    "\n",
    "print(f\"Single score: {single_score:.2f}\")\n",
    "print(f\"AdaBoost score: {adaboost_score:.2f}\")"
   ]
  },
  {
   "cell_type": "markdown",
   "id": "previous-supplement",
   "metadata": {},
   "source": [
    "We see that the score for the AdaBoost classifier is slightly higher than that of an individual MLPRegressor instance. We can explore the individual classifiers, and see that each one is composed of a Keras Model with it's own individual weights."
   ]
  },
  {
   "cell_type": "code",
   "execution_count": 10,
   "id": "floppy-storage",
   "metadata": {
    "execution": {
     "iopub.execute_input": "2021-01-28T18:46:41.918125Z",
     "iopub.status.busy": "2021-01-28T18:46:41.917460Z",
     "iopub.status.idle": "2021-01-28T18:47:19.415023Z",
     "shell.execute_reply": "2021-01-28T18:47:19.415672Z"
    }
   },
   "outputs": [
    {
     "data": {
      "text/plain": [
       "AdaBoostClassifier(base_estimator=KerasClassifier(hidden_layer_sizes=(100,), model=<function get_clf_model at 0x7fb7d8651af0>, optimizer='adam', optimizer__learning_rate=0.001, random_state=0, verbose=0),\n",
       "                   random_state=0)"
      ]
     },
     "execution_count": 1,
     "metadata": {},
     "output_type": "execute_result"
    }
   ],
   "source": [
    "adaboost.fit(X, y)  # we need to fit outside of cross_val_score before accessing the weights"
   ]
  },
  {
   "cell_type": "code",
   "execution_count": 11,
   "id": "considerable-robertson",
   "metadata": {
    "execution": {
     "iopub.execute_input": "2021-01-28T18:47:19.419501Z",
     "iopub.status.busy": "2021-01-28T18:47:19.418663Z",
     "iopub.status.idle": "2021-01-28T18:47:19.436506Z",
     "shell.execute_reply": "2021-01-28T18:47:19.436995Z"
    }
   },
   "outputs": [
    {
     "name": "stdout",
     "output_type": "stream",
     "text": [
      "[-0.12566485  0.08272942 -0.08246034  0.17546797 -0.15000811]\n",
      "[ 0.06916223 -0.21098404  0.19654892 -0.0718498  -0.00976285]\n"
     ]
    }
   ],
   "source": [
    "print(adaboost.estimators_[0].model_.get_weights()[0][0, :5])  # first sub-estimator\n",
    "print(adaboost.estimators_[1].model_.get_weights()[0][0, :5])  # second sub-estimator"
   ]
  },
  {
   "cell_type": "markdown",
   "id": "confident-cartridge",
   "metadata": {},
   "source": [
    "## 4. Bagging ensemble\n",
    "\n",
    "For comparison, we run the same test with an ensemble built using `sklearn.ensemble.BaggingClassifier`."
   ]
  },
  {
   "cell_type": "code",
   "execution_count": 12,
   "id": "proved-reproduction",
   "metadata": {
    "execution": {
     "iopub.execute_input": "2021-01-28T18:47:19.441993Z",
     "iopub.status.busy": "2021-01-28T18:47:19.441241Z",
     "iopub.status.idle": "2021-01-28T18:47:19.444482Z",
     "shell.execute_reply": "2021-01-28T18:47:19.443862Z"
    }
   },
   "outputs": [],
   "source": [
    "from sklearn.ensemble import BaggingClassifier"
   ]
  },
  {
   "cell_type": "code",
   "execution_count": 13,
   "id": "ecological-gallery",
   "metadata": {
    "execution": {
     "iopub.execute_input": "2021-01-28T18:47:19.451218Z",
     "iopub.status.busy": "2021-01-28T18:47:19.449342Z",
     "iopub.status.idle": "2021-01-28T18:48:59.381376Z",
     "shell.execute_reply": "2021-01-28T18:48:59.380572Z"
    }
   },
   "outputs": [
    {
     "name": "stdout",
     "output_type": "stream",
     "text": [
      "Bagging score: 0.64\n"
     ]
    }
   ],
   "source": [
    "bagging = BaggingClassifier(base_estimator=clf, random_state=0, n_jobs=-1)\n",
    "\n",
    "bagging_score = np.mean(cross_val_score(bagging, X, y))\n",
    "\n",
    "print(f\"Bagging score: {bagging_score:.2f}\")"
   ]
  }
 ],
 "metadata": {
  "jupytext": {
   "formats": "ipynb,md"
  },
  "kernelspec": {
   "display_name": "Python 3",
   "language": "python",
   "name": "python3"
  },
  "language_info": {
   "codemirror_mode": {
    "name": "ipython",
    "version": 3
   },
   "file_extension": ".py",
   "mimetype": "text/x-python",
   "name": "python",
   "nbconvert_exporter": "python",
   "pygments_lexer": "ipython3",
   "version": "3.8.7"
  }
 },
 "nbformat": 4,
 "nbformat_minor": 5
}
