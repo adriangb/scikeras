{
 "cells": [
  {
   "cell_type": "raw",
   "id": "naughty-wrong",
   "metadata": {},
   "source": [
    "<a href=\"https://colab.research.google.com/github/adriangb/scikeras/blob/docs-deploy/refs/heads/master/notebooks/Meta_Estimators.ipynb\"><img src=\"https://www.tensorflow.org/images/colab_logo_32px.png\">Run in Google Colab</a>"
   ]
  },
  {
   "cell_type": "markdown",
   "id": "naked-reunion",
   "metadata": {},
   "source": [
    "# Meta Estimators in SciKeras\n",
    "\n",
    "In this notebook, we implement sklearn ensemble and tree meta-estimators backed by a Keras MLP model.\n",
    "\n",
    "## Table of contents\n",
    "\n",
    "* [1. Setup](#1.-Setup)\n",
    "* [2. Defining the Keras Model](#2.-Defining-the-Keras-Model)\n",
    "  * [2.1 Building a boosting ensemble](#2.1-Building-a-boosting-ensemble)\n",
    "* [3. Testing with a toy dataset](#3.-Testing-with-a-toy-dataset)\n",
    "* [4. Bagging ensemble](#4.-Bagging-ensemble)\n",
    "\n",
    "## 1. Setup"
   ]
  },
  {
   "cell_type": "code",
   "execution_count": 1,
   "id": "fixed-dance",
   "metadata": {
    "execution": {
     "iopub.execute_input": "2021-01-26T01:10:05.437091Z",
     "iopub.status.busy": "2021-01-26T01:10:05.436103Z",
     "iopub.status.idle": "2021-01-26T01:10:07.221652Z",
     "shell.execute_reply": "2021-01-26T01:10:07.222542Z"
    }
   },
   "outputs": [],
   "source": [
    "try:\n",
    "    import scikeras\n",
    "except ImportError:\n",
    "    !python -m pip install scikeras"
   ]
  },
  {
   "cell_type": "markdown",
   "id": "spanish-luxury",
   "metadata": {},
   "source": [
    "Silence TensorFlow logging to keep output succinct."
   ]
  },
  {
   "cell_type": "code",
   "execution_count": 2,
   "id": "closed-relay",
   "metadata": {
    "execution": {
     "iopub.execute_input": "2021-01-26T01:10:07.227078Z",
     "iopub.status.busy": "2021-01-26T01:10:07.226485Z",
     "iopub.status.idle": "2021-01-26T01:10:07.232815Z",
     "shell.execute_reply": "2021-01-26T01:10:07.231972Z"
    }
   },
   "outputs": [],
   "source": [
    "import warnings\n",
    "from tensorflow import get_logger\n",
    "get_logger().setLevel('ERROR')\n",
    "warnings.filterwarnings(\"ignore\", message=\"Setting the random state for TF\")"
   ]
  },
  {
   "cell_type": "code",
   "execution_count": 3,
   "id": "analyzed-uganda",
   "metadata": {
    "execution": {
     "iopub.execute_input": "2021-01-26T01:10:07.237594Z",
     "iopub.status.busy": "2021-01-26T01:10:07.236800Z",
     "iopub.status.idle": "2021-01-26T01:10:07.753285Z",
     "shell.execute_reply": "2021-01-26T01:10:07.754906Z"
    }
   },
   "outputs": [],
   "source": [
    "import numpy as np\n",
    "from scikeras.wrappers import KerasClassifier, KerasRegressor\n",
    "from tensorflow import keras"
   ]
  },
  {
   "cell_type": "markdown",
   "id": "likely-reserve",
   "metadata": {},
   "source": [
    "## 2. Defining the Keras Model\n",
    "\n",
    "We borrow our MLPClassifier implementation from the [MLPClassifier notebook](https://colab.research.google.com/github/adriangb/scikeras/blob/master/notebooks/MLPClassifier_and_MLPRegressor.ipynb)."
   ]
  },
  {
   "cell_type": "code",
   "execution_count": 4,
   "id": "nuclear-carol",
   "metadata": {
    "execution": {
     "iopub.execute_input": "2021-01-26T01:10:07.763378Z",
     "iopub.status.busy": "2021-01-26T01:10:07.762831Z",
     "iopub.status.idle": "2021-01-26T01:10:07.767801Z",
     "shell.execute_reply": "2021-01-26T01:10:07.766749Z"
    }
   },
   "outputs": [],
   "source": [
    "from typing import Dict, Iterable, Any\n",
    "\n",
    "\n",
    "def get_clf_model(hidden_layer_sizes: Iterable[int], meta: Dict[str, Any], compile_kwargs: Dict[str, Any]):\n",
    "    model = keras.Sequential()\n",
    "    inp = keras.layers.Input(shape=(meta[\"n_features_in_\"]))\n",
    "    model.add(inp)\n",
    "    for hidden_layer_size in hidden_layer_sizes:\n",
    "        layer = keras.layers.Dense(hidden_layer_size, activation=\"relu\")\n",
    "        model.add(layer)\n",
    "    if meta[\"target_type_\"] == \"binary\":\n",
    "        n_output_units = 1\n",
    "        output_activation = \"sigmoid\"\n",
    "        loss = \"binary_crossentropy\"\n",
    "    elif meta[\"target_type_\"] == \"multiclass\":\n",
    "        n_output_units = meta[\"n_classes_\"]\n",
    "        output_activation = \"softmax\"\n",
    "        loss = \"sparse_categorical_crossentropy\"\n",
    "    else:\n",
    "        raise NotImplementedError(f\"Unsupported task type: {meta['target_type_']}\")\n",
    "    out = keras.layers.Dense(n_output_units, activation=output_activation)\n",
    "    model.add(out)\n",
    "    model.compile(loss=loss, optimizer=compile_kwargs[\"optimizer\"])\n",
    "    return model"
   ]
  },
  {
   "cell_type": "markdown",
   "id": "lined-sunrise",
   "metadata": {},
   "source": [
    "Next we wrap this Keras model with SciKeras"
   ]
  },
  {
   "cell_type": "code",
   "execution_count": 5,
   "id": "rough-abraham",
   "metadata": {
    "execution": {
     "iopub.execute_input": "2021-01-26T01:10:07.771766Z",
     "iopub.status.busy": "2021-01-26T01:10:07.771257Z",
     "iopub.status.idle": "2021-01-26T01:10:07.774920Z",
     "shell.execute_reply": "2021-01-26T01:10:07.775571Z"
    }
   },
   "outputs": [],
   "source": [
    "clf = KerasClassifier(\n",
    "    model=get_clf_model,\n",
    "    hidden_layer_sizes=(100, ),\n",
    "    optimizer=\"adam\",\n",
    "    optimizer__learning_rate=0.001,\n",
    "    verbose=0,\n",
    "    random_state=0,\n",
    ")"
   ]
  },
  {
   "cell_type": "markdown",
   "id": "greatest-tenant",
   "metadata": {},
   "source": [
    "### 2.1 Building a boosting ensemble\n",
    "\n",
    "Because SciKeras estimators are fully compliant with the Scikit-Learn API, we can make use of Scikit-Learn's built in utilities. In particular example, we will use `AdaBoostClassifier` from `sklearn.ensemble.AdaBoostClassifier`, but the process is the same for most Scikit-Learn meta-estimators."
   ]
  },
  {
   "cell_type": "code",
   "execution_count": 6,
   "id": "actual-emerald",
   "metadata": {
    "execution": {
     "iopub.execute_input": "2021-01-26T01:10:07.782747Z",
     "iopub.status.busy": "2021-01-26T01:10:07.781645Z",
     "iopub.status.idle": "2021-01-26T01:10:07.836169Z",
     "shell.execute_reply": "2021-01-26T01:10:07.836625Z"
    }
   },
   "outputs": [],
   "source": [
    "from sklearn.ensemble import AdaBoostClassifier"
   ]
  },
  {
   "cell_type": "code",
   "execution_count": 7,
   "id": "neither-cancer",
   "metadata": {
    "execution": {
     "iopub.execute_input": "2021-01-26T01:10:07.841327Z",
     "iopub.status.busy": "2021-01-26T01:10:07.840827Z",
     "iopub.status.idle": "2021-01-26T01:10:07.844403Z",
     "shell.execute_reply": "2021-01-26T01:10:07.846577Z"
    }
   },
   "outputs": [],
   "source": [
    "adaboost = AdaBoostClassifier(base_estimator=clf, random_state=0)"
   ]
  },
  {
   "cell_type": "markdown",
   "id": "criminal-shoulder",
   "metadata": {},
   "source": [
    "## 3. Testing with a toy dataset\n",
    "\n",
    "Before continouing, we will run a small test to make sure we get somewhat reasonable results."
   ]
  },
  {
   "cell_type": "code",
   "execution_count": 8,
   "id": "trained-prison",
   "metadata": {
    "execution": {
     "iopub.execute_input": "2021-01-26T01:10:07.850182Z",
     "iopub.status.busy": "2021-01-26T01:10:07.849247Z",
     "iopub.status.idle": "2021-01-26T01:10:07.881378Z",
     "shell.execute_reply": "2021-01-26T01:10:07.882177Z"
    }
   },
   "outputs": [],
   "source": [
    "from sklearn.datasets import make_moons\n",
    "from sklearn.model_selection import cross_val_score"
   ]
  },
  {
   "cell_type": "code",
   "execution_count": 9,
   "id": "healthy-suicide",
   "metadata": {
    "execution": {
     "iopub.execute_input": "2021-01-26T01:10:07.885878Z",
     "iopub.status.busy": "2021-01-26T01:10:07.884879Z",
     "iopub.status.idle": "2021-01-26T01:13:28.831898Z",
     "shell.execute_reply": "2021-01-26T01:13:28.832565Z"
    }
   },
   "outputs": [
    {
     "name": "stdout",
     "output_type": "stream",
     "text": [
      "Single score: 0.33\n",
      "AdaBoost score: 0.81\n"
     ]
    }
   ],
   "source": [
    "X, y = make_moons()\n",
    "\n",
    "single_score = np.mean(cross_val_score(clf, X, y))\n",
    "\n",
    "adaboost_score = np.mean(cross_val_score(adaboost, X, y))\n",
    "\n",
    "print(f\"Single score: {single_score:.2f}\")\n",
    "print(f\"AdaBoost score: {adaboost_score:.2f}\")"
   ]
  },
  {
   "cell_type": "markdown",
   "id": "industrial-census",
   "metadata": {},
   "source": [
    "We see that the score for the AdaBoost classifier is slightly higher than that of an individual MLPRegressor instance. We can explore the individual classifiers, and see that each one is composed of a Keras Model with it's own individual weights."
   ]
  },
  {
   "cell_type": "code",
   "execution_count": 10,
   "id": "changed-basis",
   "metadata": {
    "execution": {
     "iopub.execute_input": "2021-01-26T01:13:28.836241Z",
     "iopub.status.busy": "2021-01-26T01:13:28.834984Z",
     "iopub.status.idle": "2021-01-26T01:14:05.465008Z",
     "shell.execute_reply": "2021-01-26T01:14:05.465862Z"
    }
   },
   "outputs": [
    {
     "data": {
      "text/plain": [
       "AdaBoostClassifier(base_estimator=KerasClassifier(hidden_layer_sizes=(100,), model=<function get_clf_model at 0x7f5b0c2fc0d0>, optimizer='adam', optimizer__learning_rate=0.001, random_state=0, verbose=0),\n",
       "                   random_state=0)"
      ]
     },
     "execution_count": 1,
     "metadata": {},
     "output_type": "execute_result"
    }
   ],
   "source": [
    "adaboost.fit(X, y)  # we need to fit outside of cross_val_score before accessing the weights"
   ]
  },
  {
   "cell_type": "code",
   "execution_count": 11,
   "id": "liable-separation",
   "metadata": {
    "execution": {
     "iopub.execute_input": "2021-01-26T01:14:05.470410Z",
     "iopub.status.busy": "2021-01-26T01:14:05.468928Z",
     "iopub.status.idle": "2021-01-26T01:14:05.486891Z",
     "shell.execute_reply": "2021-01-26T01:14:05.486382Z"
    }
   },
   "outputs": [
    {
     "name": "stdout",
     "output_type": "stream",
     "text": [
      "[-0.12501015  0.08286338 -0.08271965  0.17559539 -0.15030205]\n",
      "[ 0.06939007 -0.21114121  0.19682807 -0.07421055 -0.00977872]\n"
     ]
    }
   ],
   "source": [
    "print(adaboost.estimators_[0].model_.get_weights()[0][0, :5])  # first sub-estimator\n",
    "print(adaboost.estimators_[1].model_.get_weights()[0][0, :5])  # second sub-estimator"
   ]
  },
  {
   "cell_type": "markdown",
   "id": "extreme-shame",
   "metadata": {},
   "source": [
    "## 4. Bagging ensemble\n",
    "\n",
    "For comparison, we run the same test with an ensemble built using `sklearn.ensemble.BaggingClassifier`."
   ]
  },
  {
   "cell_type": "code",
   "execution_count": 12,
   "id": "suitable-bundle",
   "metadata": {
    "execution": {
     "iopub.execute_input": "2021-01-26T01:14:05.491476Z",
     "iopub.status.busy": "2021-01-26T01:14:05.490894Z",
     "iopub.status.idle": "2021-01-26T01:14:05.496968Z",
     "shell.execute_reply": "2021-01-26T01:14:05.496096Z"
    }
   },
   "outputs": [],
   "source": [
    "from sklearn.ensemble import BaggingClassifier"
   ]
  },
  {
   "cell_type": "code",
   "execution_count": 13,
   "id": "accompanied-print",
   "metadata": {
    "execution": {
     "iopub.execute_input": "2021-01-26T01:14:05.509988Z",
     "iopub.status.busy": "2021-01-26T01:14:05.508750Z",
     "iopub.status.idle": "2021-01-26T01:15:47.367613Z",
     "shell.execute_reply": "2021-01-26T01:15:47.368293Z"
    }
   },
   "outputs": [
    {
     "name": "stdout",
     "output_type": "stream",
     "text": [
      "Bagging score: 0.63\n"
     ]
    }
   ],
   "source": [
    "bagging = BaggingClassifier(base_estimator=clf, random_state=0, n_jobs=-1)\n",
    "\n",
    "bagging_score = np.mean(cross_val_score(bagging, X, y))\n",
    "\n",
    "print(f\"Bagging score: {bagging_score:.2f}\")"
   ]
  }
 ],
 "metadata": {
  "jupytext": {
   "formats": "ipynb,md"
  },
  "kernelspec": {
   "display_name": "Python 3",
   "language": "python",
   "name": "python3"
  },
  "language_info": {
   "codemirror_mode": {
    "name": "ipython",
    "version": 3
   },
   "file_extension": ".py",
   "mimetype": "text/x-python",
   "name": "python",
   "nbconvert_exporter": "python",
   "pygments_lexer": "ipython3",
   "version": "3.8.6"
  }
 },
 "nbformat": 4,
 "nbformat_minor": 5
}
