{
 "cells": [
  {
   "cell_type": "raw",
   "id": "heated-royal",
   "metadata": {},
   "source": [
    "<a href=\"https://colab.research.google.com/github/adriangb/scikeras/blob/docs-deploy/refs/heads/master/notebooks/Meta_Estimators.ipynb\"><img src=\"https://www.tensorflow.org/images/colab_logo_32px.png\">Run in Google Colab</a>"
   ]
  },
  {
   "cell_type": "markdown",
   "id": "affecting-disease",
   "metadata": {},
   "source": [
    "# Meta Estimators in SciKeras\n",
    "\n",
    "In this notebook, we implement sklearn ensemble and tree meta-estimators backed by a Keras MLP model.\n",
    "\n",
    "## Table of contents\n",
    "\n",
    "* [1. Setup](#1.-Setup)\n",
    "* [2. Defining the Keras Model](#2.-Defining-the-Keras-Model)\n",
    "  * [2.1 Building a boosting ensemble](#2.1-Building-a-boosting-ensemble)\n",
    "* [3. Testing with a toy dataset](#3.-Testing-with-a-toy-dataset)\n",
    "* [4. Bagging ensemble](#4.-Bagging-ensemble)\n",
    "\n",
    "## 1. Setup"
   ]
  },
  {
   "cell_type": "code",
   "execution_count": 1,
   "id": "arranged-sperm",
   "metadata": {
    "execution": {
     "iopub.execute_input": "2021-01-27T18:55:03.021694Z",
     "iopub.status.busy": "2021-01-27T18:55:03.020935Z",
     "iopub.status.idle": "2021-01-27T18:55:05.121197Z",
     "shell.execute_reply": "2021-01-27T18:55:05.121758Z"
    }
   },
   "outputs": [],
   "source": [
    "try:\n",
    "    import scikeras\n",
    "except ImportError:\n",
    "    !python -m pip install scikeras"
   ]
  },
  {
   "cell_type": "markdown",
   "id": "expressed-stroke",
   "metadata": {},
   "source": [
    "Silence TensorFlow logging to keep output succinct."
   ]
  },
  {
   "cell_type": "code",
   "execution_count": 2,
   "id": "gross-drawing",
   "metadata": {
    "execution": {
     "iopub.execute_input": "2021-01-27T18:55:05.127722Z",
     "iopub.status.busy": "2021-01-27T18:55:05.124747Z",
     "iopub.status.idle": "2021-01-27T18:55:05.132446Z",
     "shell.execute_reply": "2021-01-27T18:55:05.135918Z"
    }
   },
   "outputs": [],
   "source": [
    "import warnings\n",
    "from tensorflow import get_logger\n",
    "get_logger().setLevel('ERROR')\n",
    "warnings.filterwarnings(\"ignore\", message=\"Setting the random state for TF\")"
   ]
  },
  {
   "cell_type": "code",
   "execution_count": 3,
   "id": "large-joyce",
   "metadata": {
    "execution": {
     "iopub.execute_input": "2021-01-27T18:55:05.139290Z",
     "iopub.status.busy": "2021-01-27T18:55:05.138488Z",
     "iopub.status.idle": "2021-01-27T18:55:05.833342Z",
     "shell.execute_reply": "2021-01-27T18:55:05.831960Z"
    }
   },
   "outputs": [],
   "source": [
    "import numpy as np\n",
    "from scikeras.wrappers import KerasClassifier, KerasRegressor\n",
    "from tensorflow import keras"
   ]
  },
  {
   "cell_type": "markdown",
   "id": "hawaiian-white",
   "metadata": {},
   "source": [
    "## 2. Defining the Keras Model\n",
    "\n",
    "We borrow our MLPClassifier implementation from the [MLPClassifier notebook](https://colab.research.google.com/github/adriangb/scikeras/blob/master/notebooks/MLPClassifier_and_MLPRegressor.ipynb)."
   ]
  },
  {
   "cell_type": "code",
   "execution_count": 4,
   "id": "ethical-swedish",
   "metadata": {
    "execution": {
     "iopub.execute_input": "2021-01-27T18:55:05.848767Z",
     "iopub.status.busy": "2021-01-27T18:55:05.848074Z",
     "iopub.status.idle": "2021-01-27T18:55:05.850680Z",
     "shell.execute_reply": "2021-01-27T18:55:05.849769Z"
    }
   },
   "outputs": [],
   "source": [
    "from typing import Dict, Iterable, Any\n",
    "\n",
    "\n",
    "def get_clf_model(hidden_layer_sizes: Iterable[int], meta: Dict[str, Any], compile_kwargs: Dict[str, Any]):\n",
    "    model = keras.Sequential()\n",
    "    inp = keras.layers.Input(shape=(meta[\"n_features_in_\"]))\n",
    "    model.add(inp)\n",
    "    for hidden_layer_size in hidden_layer_sizes:\n",
    "        layer = keras.layers.Dense(hidden_layer_size, activation=\"relu\")\n",
    "        model.add(layer)\n",
    "    if meta[\"target_type_\"] == \"binary\":\n",
    "        n_output_units = 1\n",
    "        output_activation = \"sigmoid\"\n",
    "        loss = \"binary_crossentropy\"\n",
    "    elif meta[\"target_type_\"] == \"multiclass\":\n",
    "        n_output_units = meta[\"n_classes_\"]\n",
    "        output_activation = \"softmax\"\n",
    "        loss = \"sparse_categorical_crossentropy\"\n",
    "    else:\n",
    "        raise NotImplementedError(f\"Unsupported task type: {meta['target_type_']}\")\n",
    "    out = keras.layers.Dense(n_output_units, activation=output_activation)\n",
    "    model.add(out)\n",
    "    model.compile(loss=loss, optimizer=compile_kwargs[\"optimizer\"])\n",
    "    return model"
   ]
  },
  {
   "cell_type": "markdown",
   "id": "light-committee",
   "metadata": {},
   "source": [
    "Next we wrap this Keras model with SciKeras"
   ]
  },
  {
   "cell_type": "code",
   "execution_count": 5,
   "id": "seventh-adelaide",
   "metadata": {
    "execution": {
     "iopub.execute_input": "2021-01-27T18:55:05.855347Z",
     "iopub.status.busy": "2021-01-27T18:55:05.854592Z",
     "iopub.status.idle": "2021-01-27T18:55:05.856519Z",
     "shell.execute_reply": "2021-01-27T18:55:05.857062Z"
    }
   },
   "outputs": [],
   "source": [
    "clf = KerasClassifier(\n",
    "    model=get_clf_model,\n",
    "    hidden_layer_sizes=(100, ),\n",
    "    optimizer=\"adam\",\n",
    "    optimizer__learning_rate=0.001,\n",
    "    verbose=0,\n",
    "    random_state=0,\n",
    ")"
   ]
  },
  {
   "cell_type": "markdown",
   "id": "mature-ending",
   "metadata": {},
   "source": [
    "### 2.1 Building a boosting ensemble\n",
    "\n",
    "Because SciKeras estimators are fully compliant with the Scikit-Learn API, we can make use of Scikit-Learn's built in utilities. In particular example, we will use `AdaBoostClassifier` from `sklearn.ensemble.AdaBoostClassifier`, but the process is the same for most Scikit-Learn meta-estimators."
   ]
  },
  {
   "cell_type": "code",
   "execution_count": 6,
   "id": "impressed-service",
   "metadata": {
    "execution": {
     "iopub.execute_input": "2021-01-27T18:55:05.864690Z",
     "iopub.status.busy": "2021-01-27T18:55:05.864026Z",
     "iopub.status.idle": "2021-01-27T18:55:05.941201Z",
     "shell.execute_reply": "2021-01-27T18:55:05.942094Z"
    }
   },
   "outputs": [],
   "source": [
    "from sklearn.ensemble import AdaBoostClassifier"
   ]
  },
  {
   "cell_type": "code",
   "execution_count": 7,
   "id": "alpine-clock",
   "metadata": {
    "execution": {
     "iopub.execute_input": "2021-01-27T18:55:05.945969Z",
     "iopub.status.busy": "2021-01-27T18:55:05.944821Z",
     "iopub.status.idle": "2021-01-27T18:55:05.950922Z",
     "shell.execute_reply": "2021-01-27T18:55:05.950009Z"
    }
   },
   "outputs": [],
   "source": [
    "adaboost = AdaBoostClassifier(base_estimator=clf, random_state=0)"
   ]
  },
  {
   "cell_type": "markdown",
   "id": "professional-heading",
   "metadata": {},
   "source": [
    "## 3. Testing with a toy dataset\n",
    "\n",
    "Before continouing, we will run a small test to make sure we get somewhat reasonable results."
   ]
  },
  {
   "cell_type": "code",
   "execution_count": 8,
   "id": "dangerous-budapest",
   "metadata": {
    "execution": {
     "iopub.execute_input": "2021-01-27T18:55:05.956839Z",
     "iopub.status.busy": "2021-01-27T18:55:05.956204Z",
     "iopub.status.idle": "2021-01-27T18:55:05.984013Z",
     "shell.execute_reply": "2021-01-27T18:55:05.984864Z"
    }
   },
   "outputs": [],
   "source": [
    "from sklearn.datasets import make_moons\n",
    "from sklearn.model_selection import cross_val_score"
   ]
  },
  {
   "cell_type": "code",
   "execution_count": 9,
   "id": "aboriginal-effectiveness",
   "metadata": {
    "execution": {
     "iopub.execute_input": "2021-01-27T18:55:05.994960Z",
     "iopub.status.busy": "2021-01-27T18:55:05.993794Z",
     "iopub.status.idle": "2021-01-27T18:58:41.752875Z",
     "shell.execute_reply": "2021-01-27T18:58:41.753959Z"
    }
   },
   "outputs": [
    {
     "name": "stdout",
     "output_type": "stream",
     "text": [
      "Single score: 0.27\n",
      "AdaBoost score: 0.80\n"
     ]
    }
   ],
   "source": [
    "X, y = make_moons()\n",
    "\n",
    "single_score = np.mean(cross_val_score(clf, X, y))\n",
    "\n",
    "adaboost_score = np.mean(cross_val_score(adaboost, X, y))\n",
    "\n",
    "print(f\"Single score: {single_score:.2f}\")\n",
    "print(f\"AdaBoost score: {adaboost_score:.2f}\")"
   ]
  },
  {
   "cell_type": "markdown",
   "id": "front-diploma",
   "metadata": {},
   "source": [
    "We see that the score for the AdaBoost classifier is slightly higher than that of an individual MLPRegressor instance. We can explore the individual classifiers, and see that each one is composed of a Keras Model with it's own individual weights."
   ]
  },
  {
   "cell_type": "code",
   "execution_count": 10,
   "id": "crude-variety",
   "metadata": {
    "execution": {
     "iopub.execute_input": "2021-01-27T18:58:41.808766Z",
     "iopub.status.busy": "2021-01-27T18:58:41.808039Z",
     "iopub.status.idle": "2021-01-27T18:59:20.327616Z",
     "shell.execute_reply": "2021-01-27T18:59:20.328392Z"
    }
   },
   "outputs": [
    {
     "data": {
      "text/plain": [
       "AdaBoostClassifier(base_estimator=KerasClassifier(hidden_layer_sizes=(100,), model=<function get_clf_model at 0x7f289cb3dc10>, optimizer='adam', optimizer__learning_rate=0.001, random_state=0, verbose=0),\n",
       "                   random_state=0)"
      ]
     },
     "execution_count": 1,
     "metadata": {},
     "output_type": "execute_result"
    }
   ],
   "source": [
    "adaboost.fit(X, y)  # we need to fit outside of cross_val_score before accessing the weights"
   ]
  },
  {
   "cell_type": "code",
   "execution_count": 11,
   "id": "formal-label",
   "metadata": {
    "execution": {
     "iopub.execute_input": "2021-01-27T18:59:20.335114Z",
     "iopub.status.busy": "2021-01-27T18:59:20.334047Z",
     "iopub.status.idle": "2021-01-27T18:59:20.345860Z",
     "shell.execute_reply": "2021-01-27T18:59:20.344040Z"
    }
   },
   "outputs": [
    {
     "name": "stdout",
     "output_type": "stream",
     "text": [
      "[-0.12731646  0.08305075 -0.08255377  0.17584667 -0.15000331]\n",
      "[ 0.06883506 -0.2110552   0.19623357 -0.07175075 -0.00971658]\n"
     ]
    }
   ],
   "source": [
    "print(adaboost.estimators_[0].model_.get_weights()[0][0, :5])  # first sub-estimator\n",
    "print(adaboost.estimators_[1].model_.get_weights()[0][0, :5])  # second sub-estimator"
   ]
  },
  {
   "cell_type": "markdown",
   "id": "configured-facility",
   "metadata": {},
   "source": [
    "## 4. Bagging ensemble\n",
    "\n",
    "For comparison, we run the same test with an ensemble built using `sklearn.ensemble.BaggingClassifier`."
   ]
  },
  {
   "cell_type": "code",
   "execution_count": 12,
   "id": "characteristic-alliance",
   "metadata": {
    "execution": {
     "iopub.execute_input": "2021-01-27T18:59:20.351307Z",
     "iopub.status.busy": "2021-01-27T18:59:20.350650Z",
     "iopub.status.idle": "2021-01-27T18:59:20.362177Z",
     "shell.execute_reply": "2021-01-27T18:59:20.361131Z"
    }
   },
   "outputs": [],
   "source": [
    "from sklearn.ensemble import BaggingClassifier"
   ]
  },
  {
   "cell_type": "code",
   "execution_count": 13,
   "id": "occasional-consolidation",
   "metadata": {
    "execution": {
     "iopub.execute_input": "2021-01-27T18:59:20.368709Z",
     "iopub.status.busy": "2021-01-27T18:59:20.368049Z",
     "iopub.status.idle": "2021-01-27T19:01:04.497446Z",
     "shell.execute_reply": "2021-01-27T19:01:04.496774Z"
    }
   },
   "outputs": [
    {
     "name": "stdout",
     "output_type": "stream",
     "text": [
      "Bagging score: 0.62\n"
     ]
    }
   ],
   "source": [
    "bagging = BaggingClassifier(base_estimator=clf, random_state=0, n_jobs=-1)\n",
    "\n",
    "bagging_score = np.mean(cross_val_score(bagging, X, y))\n",
    "\n",
    "print(f\"Bagging score: {bagging_score:.2f}\")"
   ]
  }
 ],
 "metadata": {
  "jupytext": {
   "formats": "ipynb,md"
  },
  "kernelspec": {
   "display_name": "Python 3",
   "language": "python",
   "name": "python3"
  },
  "language_info": {
   "codemirror_mode": {
    "name": "ipython",
    "version": 3
   },
   "file_extension": ".py",
   "mimetype": "text/x-python",
   "name": "python",
   "nbconvert_exporter": "python",
   "pygments_lexer": "ipython3",
   "version": "3.8.7"
  }
 },
 "nbformat": 4,
 "nbformat_minor": 5
}
