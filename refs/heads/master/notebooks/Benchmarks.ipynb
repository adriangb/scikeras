{
 "cells": [
  {
   "cell_type": "raw",
   "id": "07b7df36",
   "metadata": {},
   "source": [
    "<a href=\"https://colab.research.google.com/github/adriangb/scikeras/blob/docs-deploy/refs/heads/master/notebooks/Benchmarks.ipynb\"><img src=\"https://www.tensorflow.org/images/colab_logo_32px.png\">Run in Google Colab</a>"
   ]
  },
  {
   "cell_type": "markdown",
   "id": "37fcc2a8",
   "metadata": {},
   "source": [
    "# SciKeras Benchmarks\n",
    "\n",
    "SciKeras wraps Keras Models, but does not alter their performance since all of the heavy lifting still happens within Keras/Tensorflow. In this notebook, we compare the performance and accuracy of a pure-Keras Model to the same model wrapped in SciKeras.\n",
    "\n",
    "## Table of contents\n",
    "\n",
    "* [1. Setup](#1.-Setup)\n",
    "* [2. Dataset](#2.-Dataset)\n",
    "* [3. Define Keras Model](#3.-Define-Keras-Model)\n",
    "* [4. Keras benchmarks](#4.-Keras-benchmarks)\n",
    "* [5. SciKeras benchmark](#5.-SciKeras-benchmark)\n",
    "\n",
    "## 1. Setup"
   ]
  },
  {
   "cell_type": "code",
   "execution_count": 1,
   "id": "b7446f9c",
   "metadata": {
    "execution": {
     "iopub.execute_input": "2021-04-10T16:25:56.437752Z",
     "iopub.status.busy": "2021-04-10T16:25:56.436954Z",
     "iopub.status.idle": "2021-04-10T16:25:58.850888Z",
     "shell.execute_reply": "2021-04-10T16:25:58.849878Z"
    }
   },
   "outputs": [],
   "source": [
    "try:\n",
    "    import scikeras\n",
    "except ImportError:\n",
    "    !python -m pip install scikeras"
   ]
  },
  {
   "cell_type": "markdown",
   "id": "72d365c3",
   "metadata": {},
   "source": [
    "Silence TensorFlow logging to keep output succinct."
   ]
  },
  {
   "cell_type": "code",
   "execution_count": 2,
   "id": "04c0355c",
   "metadata": {
    "execution": {
     "iopub.execute_input": "2021-04-10T16:25:58.857248Z",
     "iopub.status.busy": "2021-04-10T16:25:58.853934Z",
     "iopub.status.idle": "2021-04-10T16:25:58.860038Z",
     "shell.execute_reply": "2021-04-10T16:25:58.861025Z"
    }
   },
   "outputs": [],
   "source": [
    "import warnings\n",
    "from tensorflow import get_logger\n",
    "get_logger().setLevel('ERROR')\n",
    "warnings.filterwarnings(\"ignore\", message=\"Setting the random state for TF\")"
   ]
  },
  {
   "cell_type": "code",
   "execution_count": 3,
   "id": "18584600",
   "metadata": {
    "execution": {
     "iopub.execute_input": "2021-04-10T16:25:58.868482Z",
     "iopub.status.busy": "2021-04-10T16:25:58.867230Z",
     "iopub.status.idle": "2021-04-10T16:25:59.301036Z",
     "shell.execute_reply": "2021-04-10T16:25:59.302170Z"
    }
   },
   "outputs": [],
   "source": [
    "import numpy as np\n",
    "from scikeras.wrappers import KerasClassifier, KerasRegressor\n",
    "from tensorflow import keras"
   ]
  },
  {
   "cell_type": "markdown",
   "id": "2132ca2b",
   "metadata": {},
   "source": [
    "## 2. Dataset\n",
    "\n",
    "We will be using the MNIST dataset available within Keras."
   ]
  },
  {
   "cell_type": "code",
   "execution_count": 4,
   "id": "1b4e7645",
   "metadata": {
    "execution": {
     "iopub.execute_input": "2021-04-10T16:25:59.306100Z",
     "iopub.status.busy": "2021-04-10T16:25:59.305334Z",
     "iopub.status.idle": "2021-04-10T16:25:59.911003Z",
     "shell.execute_reply": "2021-04-10T16:25:59.911803Z"
    }
   },
   "outputs": [],
   "source": [
    "(x_train, y_train), (x_test, y_test) = keras.datasets.mnist.load_data()\n",
    "# Scale images to the [0, 1] range\n",
    "x_train = x_train.astype(\"float32\") / 255\n",
    "x_test = x_test.astype(\"float32\") / 255\n",
    "# Make sure images have shape (28, 28, 1)\n",
    "x_train = np.expand_dims(x_train, -1)\n",
    "x_test = np.expand_dims(x_test, -1)\n",
    "# Reduce dataset size for faster benchmarks\n",
    "x_train, y_train = x_train[:2000], y_train[:2000]\n",
    "x_test, y_test = x_test[:500], y_test[:500]"
   ]
  },
  {
   "cell_type": "markdown",
   "id": "55401c76",
   "metadata": {},
   "source": [
    "## 3. Define Keras Model\n",
    "\n",
    "Next we will define our Keras model (adapted from [keras.io](https://keras.io/examples/vision/mnist_convnet/)):"
   ]
  },
  {
   "cell_type": "code",
   "execution_count": 5,
   "id": "7043ccfc",
   "metadata": {
    "execution": {
     "iopub.execute_input": "2021-04-10T16:25:59.915448Z",
     "iopub.status.busy": "2021-04-10T16:25:59.914488Z",
     "iopub.status.idle": "2021-04-10T16:25:59.928588Z",
     "shell.execute_reply": "2021-04-10T16:25:59.929377Z"
    }
   },
   "outputs": [],
   "source": [
    "num_classes = 10\n",
    "input_shape = (28, 28, 1)\n",
    "\n",
    "\n",
    "def get_model():\n",
    "    model = keras.Sequential(\n",
    "        [\n",
    "            keras.Input(input_shape),\n",
    "            keras.layers.Conv2D(32, kernel_size=(3, 3), activation=\"relu\"),\n",
    "            keras.layers.MaxPooling2D(pool_size=(2, 2)),\n",
    "            keras.layers.Conv2D(64, kernel_size=(3, 3), activation=\"relu\"),\n",
    "            keras.layers.MaxPooling2D(pool_size=(2, 2)),\n",
    "            keras.layers.Flatten(),\n",
    "            keras.layers.Dropout(0.5),\n",
    "            keras.layers.Dense(num_classes, activation=\"softmax\"),\n",
    "        ]\n",
    "    )\n",
    "    model.compile(\n",
    "        loss=\"sparse_categorical_crossentropy\", optimizer=\"adam\"\n",
    "    )\n",
    "    return model"
   ]
  },
  {
   "cell_type": "markdown",
   "id": "8ef33f70",
   "metadata": {},
   "source": [
    "## 4. Keras benchmarks"
   ]
  },
  {
   "cell_type": "code",
   "execution_count": 6,
   "id": "c1538fe9",
   "metadata": {
    "execution": {
     "iopub.execute_input": "2021-04-10T16:25:59.937508Z",
     "iopub.status.busy": "2021-04-10T16:25:59.936819Z",
     "iopub.status.idle": "2021-04-10T16:25:59.941154Z",
     "shell.execute_reply": "2021-04-10T16:25:59.940540Z"
    }
   },
   "outputs": [],
   "source": [
    "fit_kwargs = {\"batch_size\": 128, \"validation_split\": 0.1, \"verbose\": 0, \"epochs\": 5}"
   ]
  },
  {
   "cell_type": "code",
   "execution_count": 7,
   "id": "07cdbfe8",
   "metadata": {
    "execution": {
     "iopub.execute_input": "2021-04-10T16:25:59.945769Z",
     "iopub.status.busy": "2021-04-10T16:25:59.944939Z",
     "iopub.status.idle": "2021-04-10T16:25:59.953626Z",
     "shell.execute_reply": "2021-04-10T16:25:59.952907Z"
    }
   },
   "outputs": [],
   "source": [
    "from sklearn.metrics import accuracy_score\n",
    "from scikeras._utils import TFRandomState"
   ]
  },
  {
   "cell_type": "code",
   "execution_count": 8,
   "id": "22f1457c",
   "metadata": {
    "execution": {
     "iopub.execute_input": "2021-04-10T16:25:59.959927Z",
     "iopub.status.busy": "2021-04-10T16:25:59.959306Z",
     "iopub.status.idle": "2021-04-10T16:26:11.217083Z",
     "shell.execute_reply": "2021-04-10T16:26:11.217802Z"
    }
   },
   "outputs": [
    {
     "name": "stdout",
     "output_type": "stream",
     "text": [
      "Training time: 10.84\n"
     ]
    },
    {
     "name": "stdout",
     "output_type": "stream",
     "text": [
      "Accuracy: 0.882\n"
     ]
    }
   ],
   "source": [
    "from time import time\n",
    "\n",
    "with TFRandomState(seed=0):  # we force a TF random state to be able to compare accuracy\n",
    "    model = get_model()\n",
    "    start = time()\n",
    "    model.fit(x_train, y_train, **fit_kwargs)\n",
    "    print(f\"Training time: {time()-start:.2f}\")\n",
    "    y_pred = np.argmax(model.predict(x_test), axis=1)\n",
    "print(f\"Accuracy: {accuracy_score(y_test, y_pred)}\")"
   ]
  },
  {
   "cell_type": "markdown",
   "id": "dc3d40e0",
   "metadata": {},
   "source": [
    "## 5. SciKeras benchmark"
   ]
  },
  {
   "cell_type": "code",
   "execution_count": 9,
   "id": "76857b1f",
   "metadata": {
    "execution": {
     "iopub.execute_input": "2021-04-10T16:26:11.221547Z",
     "iopub.status.busy": "2021-04-10T16:26:11.220380Z",
     "iopub.status.idle": "2021-04-10T16:26:11.226489Z",
     "shell.execute_reply": "2021-04-10T16:26:11.227562Z"
    }
   },
   "outputs": [],
   "source": [
    "clf = KerasClassifier(\n",
    "    model=get_model,\n",
    "    random_state=0,\n",
    "    **fit_kwargs\n",
    ")"
   ]
  },
  {
   "cell_type": "code",
   "execution_count": 10,
   "id": "6fab74fd",
   "metadata": {
    "execution": {
     "iopub.execute_input": "2021-04-10T16:26:11.239273Z",
     "iopub.status.busy": "2021-04-10T16:26:11.230512Z",
     "iopub.status.idle": "2021-04-10T16:26:22.092267Z",
     "shell.execute_reply": "2021-04-10T16:26:22.091701Z"
    }
   },
   "outputs": [
    {
     "name": "stdout",
     "output_type": "stream",
     "text": [
      "Training time: 10.61\n"
     ]
    },
    {
     "name": "stdout",
     "output_type": "stream",
     "text": [
      "Accuracy: 0.882\n"
     ]
    }
   ],
   "source": [
    "start = time()\n",
    "clf.fit(x_train, y_train)\n",
    "print(f\"Training time: {time()-start:.2f}\")\n",
    "y_pred = clf.predict(x_test)\n",
    "print(f\"Accuracy: {accuracy_score(y_test, y_pred)}\")"
   ]
  },
  {
   "cell_type": "markdown",
   "id": "6856a4af",
   "metadata": {},
   "source": [
    "As you can see, the overhead for SciKeras is <1 sec, and the accuracy is identical."
   ]
  }
 ],
 "metadata": {
  "jupytext": {
   "formats": "ipynb,md"
  },
  "kernelspec": {
   "display_name": "Python 3",
   "language": "python",
   "name": "python3"
  },
  "language_info": {
   "codemirror_mode": {
    "name": "ipython",
    "version": 3
   },
   "file_extension": ".py",
   "mimetype": "text/x-python",
   "name": "python",
   "nbconvert_exporter": "python",
   "pygments_lexer": "ipython3",
   "version": "3.8.8"
  }
 },
 "nbformat": 4,
 "nbformat_minor": 5
}
