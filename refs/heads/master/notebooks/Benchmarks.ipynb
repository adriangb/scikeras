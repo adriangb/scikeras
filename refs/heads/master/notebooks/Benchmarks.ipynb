{
 "cells": [
  {
   "cell_type": "raw",
   "id": "7eafc846",
   "metadata": {},
   "source": [
    "<a href=\"https://colab.research.google.com/github/adriangb/scikeras/blob/docs-deploy/refs/heads/master/notebooks/Benchmarks.ipynb\"><img src=\"https://www.tensorflow.org/images/colab_logo_32px.png\">Run in Google Colab</a>"
   ]
  },
  {
   "cell_type": "markdown",
   "id": "70ecc444",
   "metadata": {},
   "source": [
    "# SciKeras Benchmarks\n",
    "\n",
    "SciKeras wraps Keras Models, but does not alter their performance since all of the heavy lifting still happens within Keras/Tensorflow. In this notebook, we compare the performance and accuracy of a pure-Keras Model to the same model wrapped in SciKeras.\n",
    "\n",
    "## Table of contents\n",
    "\n",
    "* [1. Setup](#1.-Setup)\n",
    "* [2. Dataset](#2.-Dataset)\n",
    "* [3. Define Keras Model](#3.-Define-Keras-Model)\n",
    "* [4. Keras benchmarks](#4.-Keras-benchmarks)\n",
    "* [5. SciKeras benchmark](#5.-SciKeras-benchmark)\n",
    "\n",
    "## 1. Setup"
   ]
  },
  {
   "cell_type": "code",
   "execution_count": 1,
   "id": "8d350ce3",
   "metadata": {
    "execution": {
     "iopub.execute_input": "2021-05-04T00:05:24.023255Z",
     "iopub.status.busy": "2021-05-04T00:05:24.022633Z",
     "iopub.status.idle": "2021-05-04T00:05:25.724015Z",
     "shell.execute_reply": "2021-05-04T00:05:25.724876Z"
    }
   },
   "outputs": [],
   "source": [
    "try:\n",
    "    import scikeras\n",
    "except ImportError:\n",
    "    !python -m pip install scikeras"
   ]
  },
  {
   "cell_type": "markdown",
   "id": "5d4c5829",
   "metadata": {},
   "source": [
    "Silence TensorFlow logging to keep output succinct."
   ]
  },
  {
   "cell_type": "code",
   "execution_count": 2,
   "id": "eb11790f",
   "metadata": {
    "execution": {
     "iopub.execute_input": "2021-05-04T00:05:25.728550Z",
     "iopub.status.busy": "2021-05-04T00:05:25.727450Z",
     "iopub.status.idle": "2021-05-04T00:05:25.732317Z",
     "shell.execute_reply": "2021-05-04T00:05:25.733017Z"
    }
   },
   "outputs": [],
   "source": [
    "import warnings\n",
    "from tensorflow import get_logger\n",
    "get_logger().setLevel('ERROR')\n",
    "warnings.filterwarnings(\"ignore\", message=\"Setting the random state for TF\")"
   ]
  },
  {
   "cell_type": "code",
   "execution_count": 3,
   "id": "40f711c1",
   "metadata": {
    "execution": {
     "iopub.execute_input": "2021-05-04T00:05:25.736306Z",
     "iopub.status.busy": "2021-05-04T00:05:25.735256Z",
     "iopub.status.idle": "2021-05-04T00:05:26.122104Z",
     "shell.execute_reply": "2021-05-04T00:05:26.123325Z"
    }
   },
   "outputs": [],
   "source": [
    "import numpy as np\n",
    "from scikeras.wrappers import KerasClassifier, KerasRegressor\n",
    "from tensorflow import keras"
   ]
  },
  {
   "cell_type": "markdown",
   "id": "c8062ffe",
   "metadata": {},
   "source": [
    "## 2. Dataset\n",
    "\n",
    "We will be using the MNIST dataset available within Keras."
   ]
  },
  {
   "cell_type": "code",
   "execution_count": 4,
   "id": "f5b16334",
   "metadata": {
    "execution": {
     "iopub.execute_input": "2021-05-04T00:05:26.133455Z",
     "iopub.status.busy": "2021-05-04T00:05:26.130550Z",
     "iopub.status.idle": "2021-05-04T00:05:26.572684Z",
     "shell.execute_reply": "2021-05-04T00:05:26.571770Z"
    }
   },
   "outputs": [],
   "source": [
    "(x_train, y_train), (x_test, y_test) = keras.datasets.mnist.load_data()\n",
    "# Scale images to the [0, 1] range\n",
    "x_train = x_train.astype(\"float32\") / 255\n",
    "x_test = x_test.astype(\"float32\") / 255\n",
    "# Make sure images have shape (28, 28, 1)\n",
    "x_train = np.expand_dims(x_train, -1)\n",
    "x_test = np.expand_dims(x_test, -1)\n",
    "# Reduce dataset size for faster benchmarks\n",
    "x_train, y_train = x_train[:2000], y_train[:2000]\n",
    "x_test, y_test = x_test[:500], y_test[:500]"
   ]
  },
  {
   "cell_type": "markdown",
   "id": "29f2ae93",
   "metadata": {},
   "source": [
    "## 3. Define Keras Model\n",
    "\n",
    "Next we will define our Keras model (adapted from [keras.io](https://keras.io/examples/vision/mnist_convnet/)):"
   ]
  },
  {
   "cell_type": "code",
   "execution_count": 5,
   "id": "8be61973",
   "metadata": {
    "execution": {
     "iopub.execute_input": "2021-05-04T00:05:26.578475Z",
     "iopub.status.busy": "2021-05-04T00:05:26.577334Z",
     "iopub.status.idle": "2021-05-04T00:05:26.584910Z",
     "shell.execute_reply": "2021-05-04T00:05:26.585644Z"
    }
   },
   "outputs": [],
   "source": [
    "num_classes = 10\n",
    "input_shape = (28, 28, 1)\n",
    "\n",
    "\n",
    "def get_model():\n",
    "    model = keras.Sequential(\n",
    "        [\n",
    "            keras.Input(input_shape),\n",
    "            keras.layers.Conv2D(32, kernel_size=(3, 3), activation=\"relu\"),\n",
    "            keras.layers.MaxPooling2D(pool_size=(2, 2)),\n",
    "            keras.layers.Conv2D(64, kernel_size=(3, 3), activation=\"relu\"),\n",
    "            keras.layers.MaxPooling2D(pool_size=(2, 2)),\n",
    "            keras.layers.Flatten(),\n",
    "            keras.layers.Dropout(0.5),\n",
    "            keras.layers.Dense(num_classes, activation=\"softmax\"),\n",
    "        ]\n",
    "    )\n",
    "    model.compile(\n",
    "        loss=\"sparse_categorical_crossentropy\", optimizer=\"adam\"\n",
    "    )\n",
    "    return model"
   ]
  },
  {
   "cell_type": "markdown",
   "id": "6fb87226",
   "metadata": {},
   "source": [
    "## 4. Keras benchmarks"
   ]
  },
  {
   "cell_type": "code",
   "execution_count": 6,
   "id": "5513a03e",
   "metadata": {
    "execution": {
     "iopub.execute_input": "2021-05-04T00:05:26.588978Z",
     "iopub.status.busy": "2021-05-04T00:05:26.587915Z",
     "iopub.status.idle": "2021-05-04T00:05:26.592282Z",
     "shell.execute_reply": "2021-05-04T00:05:26.593001Z"
    }
   },
   "outputs": [],
   "source": [
    "fit_kwargs = {\"batch_size\": 128, \"validation_split\": 0.1, \"verbose\": 0, \"epochs\": 5}"
   ]
  },
  {
   "cell_type": "code",
   "execution_count": 7,
   "id": "40b8b9c6",
   "metadata": {
    "execution": {
     "iopub.execute_input": "2021-05-04T00:05:26.596373Z",
     "iopub.status.busy": "2021-05-04T00:05:26.595302Z",
     "iopub.status.idle": "2021-05-04T00:05:26.599386Z",
     "shell.execute_reply": "2021-05-04T00:05:26.600135Z"
    }
   },
   "outputs": [],
   "source": [
    "from sklearn.metrics import accuracy_score\n",
    "from scikeras._utils import TFRandomState"
   ]
  },
  {
   "cell_type": "code",
   "execution_count": 8,
   "id": "6654ca74",
   "metadata": {
    "execution": {
     "iopub.execute_input": "2021-05-04T00:05:26.603321Z",
     "iopub.status.busy": "2021-05-04T00:05:26.602295Z",
     "iopub.status.idle": "2021-05-04T00:05:33.726396Z",
     "shell.execute_reply": "2021-05-04T00:05:33.727197Z"
    }
   },
   "outputs": [
    {
     "name": "stdout",
     "output_type": "stream",
     "text": [
      "Training time: 6.85\n",
      "Accuracy: 0.882\n"
     ]
    }
   ],
   "source": [
    "from time import time\n",
    "\n",
    "with TFRandomState(seed=0):  # we force a TF random state to be able to compare accuracy\n",
    "    model = get_model()\n",
    "    start = time()\n",
    "    model.fit(x_train, y_train, **fit_kwargs)\n",
    "    print(f\"Training time: {time()-start:.2f}\")\n",
    "    y_pred = np.argmax(model.predict(x_test), axis=1)\n",
    "print(f\"Accuracy: {accuracy_score(y_test, y_pred)}\")"
   ]
  },
  {
   "cell_type": "markdown",
   "id": "9dbba8d9",
   "metadata": {},
   "source": [
    "## 5. SciKeras benchmark"
   ]
  },
  {
   "cell_type": "code",
   "execution_count": 9,
   "id": "e533e1a7",
   "metadata": {
    "execution": {
     "iopub.execute_input": "2021-05-04T00:05:33.730885Z",
     "iopub.status.busy": "2021-05-04T00:05:33.729785Z",
     "iopub.status.idle": "2021-05-04T00:05:33.734231Z",
     "shell.execute_reply": "2021-05-04T00:05:33.734970Z"
    }
   },
   "outputs": [],
   "source": [
    "clf = KerasClassifier(\n",
    "    model=get_model,\n",
    "    random_state=0,\n",
    "    **fit_kwargs\n",
    ")"
   ]
  },
  {
   "cell_type": "code",
   "execution_count": 10,
   "id": "005e898a",
   "metadata": {
    "execution": {
     "iopub.execute_input": "2021-05-04T00:05:33.738480Z",
     "iopub.status.busy": "2021-05-04T00:05:33.737388Z",
     "iopub.status.idle": "2021-05-04T00:05:41.723736Z",
     "shell.execute_reply": "2021-05-04T00:05:41.722848Z"
    }
   },
   "outputs": [
    {
     "name": "stdout",
     "output_type": "stream",
     "text": [
      "Training time: 7.77\n"
     ]
    },
    {
     "name": "stdout",
     "output_type": "stream",
     "text": [
      "Accuracy: 0.882\n"
     ]
    }
   ],
   "source": [
    "start = time()\n",
    "clf.fit(x_train, y_train)\n",
    "print(f\"Training time: {time()-start:.2f}\")\n",
    "y_pred = clf.predict(x_test)\n",
    "print(f\"Accuracy: {accuracy_score(y_test, y_pred)}\")"
   ]
  },
  {
   "cell_type": "markdown",
   "id": "808c7815",
   "metadata": {},
   "source": [
    "As you can see, the overhead for SciKeras is <1 sec, and the accuracy is identical."
   ]
  }
 ],
 "metadata": {
  "jupytext": {
   "formats": "ipynb,md"
  },
  "kernelspec": {
   "display_name": "Python 3",
   "language": "python",
   "name": "python3"
  },
  "language_info": {
   "codemirror_mode": {
    "name": "ipython",
    "version": 3
   },
   "file_extension": ".py",
   "mimetype": "text/x-python",
   "name": "python",
   "nbconvert_exporter": "python",
   "pygments_lexer": "ipython3",
   "version": "3.8.9"
  }
 },
 "nbformat": 4,
 "nbformat_minor": 5
}
