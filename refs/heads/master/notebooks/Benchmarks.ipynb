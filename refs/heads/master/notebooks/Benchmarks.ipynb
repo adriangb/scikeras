{
 "cells": [
  {
   "cell_type": "raw",
   "id": "a108131b",
   "metadata": {},
   "source": [
    "<a href=\"https://colab.research.google.com/github/adriangb/scikeras/blob/docs-deploy/refs/heads/master/notebooks/Benchmarks.ipynb\"><img src=\"https://www.tensorflow.org/images/colab_logo_32px.png\">Run in Google Colab</a>"
   ]
  },
  {
   "cell_type": "markdown",
   "id": "d2a4e926",
   "metadata": {},
   "source": [
    "# SciKeras Benchmarks\n",
    "\n",
    "SciKeras wraps Keras Models, but does not alter their performance since all of the heavy lifting still happens within Keras/Tensorflow. In this notebook, we compare the performance and accuracy of a pure-Keras Model to the same model wrapped in SciKeras.\n",
    "\n",
    "## Table of contents\n",
    "\n",
    "* [1. Setup](#1.-Setup)\n",
    "* [2. Dataset](#2.-Dataset)\n",
    "* [3. Define Keras Model](#3.-Define-Keras-Model)\n",
    "* [4. Keras benchmarks](#4.-Keras-benchmarks)\n",
    "* [5. SciKeras benchmark](#5.-SciKeras-benchmark)\n",
    "\n",
    "## 1. Setup"
   ]
  },
  {
   "cell_type": "code",
   "execution_count": 1,
   "id": "771d5bef",
   "metadata": {
    "execution": {
     "iopub.execute_input": "2022-07-22T23:44:21.731937Z",
     "iopub.status.busy": "2022-07-22T23:44:21.731480Z",
     "iopub.status.idle": "2022-07-22T23:44:27.394231Z",
     "shell.execute_reply": "2022-07-22T23:44:27.389862Z"
    }
   },
   "outputs": [],
   "source": [
    "try:\n",
    "    import scikeras\n",
    "except ImportError:\n",
    "    !python -m pip install scikeras[tensorflow]"
   ]
  },
  {
   "cell_type": "markdown",
   "id": "2b259c6c",
   "metadata": {},
   "source": [
    "Silence TensorFlow logging to keep output succinct."
   ]
  },
  {
   "cell_type": "code",
   "execution_count": 2,
   "id": "1452f146",
   "metadata": {
    "execution": {
     "iopub.execute_input": "2022-07-22T23:44:27.399211Z",
     "iopub.status.busy": "2022-07-22T23:44:27.398716Z",
     "iopub.status.idle": "2022-07-22T23:44:27.412455Z",
     "shell.execute_reply": "2022-07-22T23:44:27.410805Z"
    }
   },
   "outputs": [],
   "source": [
    "import warnings\n",
    "from tensorflow import get_logger\n",
    "get_logger().setLevel('ERROR')\n",
    "warnings.filterwarnings(\"ignore\", message=\"Setting the random state for TF\")"
   ]
  },
  {
   "cell_type": "code",
   "execution_count": 3,
   "id": "5043b385",
   "metadata": {
    "execution": {
     "iopub.execute_input": "2022-07-22T23:44:27.416655Z",
     "iopub.status.busy": "2022-07-22T23:44:27.416279Z",
     "iopub.status.idle": "2022-07-22T23:44:28.119957Z",
     "shell.execute_reply": "2022-07-22T23:44:28.116374Z"
    }
   },
   "outputs": [],
   "source": [
    "import numpy as np\n",
    "from scikeras.wrappers import KerasClassifier, KerasRegressor\n",
    "from tensorflow import keras"
   ]
  },
  {
   "cell_type": "markdown",
   "id": "1701d0b5",
   "metadata": {},
   "source": [
    "## 2. Dataset\n",
    "\n",
    "We will be using the MNIST dataset available within Keras."
   ]
  },
  {
   "cell_type": "code",
   "execution_count": 4,
   "id": "f95a883f",
   "metadata": {
    "execution": {
     "iopub.execute_input": "2022-07-22T23:44:28.124091Z",
     "iopub.status.busy": "2022-07-22T23:44:28.123791Z",
     "iopub.status.idle": "2022-07-22T23:44:28.579137Z",
     "shell.execute_reply": "2022-07-22T23:44:28.578340Z"
    }
   },
   "outputs": [],
   "source": [
    "(x_train, y_train), (x_test, y_test) = keras.datasets.mnist.load_data()\n",
    "# Scale images to the [0, 1] range\n",
    "x_train = x_train.astype(\"float32\") / 255\n",
    "x_test = x_test.astype(\"float32\") / 255\n",
    "# Make sure images have shape (28, 28, 1)\n",
    "x_train = np.expand_dims(x_train, -1)\n",
    "x_test = np.expand_dims(x_test, -1)\n",
    "# Reduce dataset size for faster benchmarks\n",
    "x_train, y_train = x_train[:2000], y_train[:2000]\n",
    "x_test, y_test = x_test[:500], y_test[:500]"
   ]
  },
  {
   "cell_type": "markdown",
   "id": "eabd833b",
   "metadata": {},
   "source": [
    "## 3. Define Keras Model\n",
    "\n",
    "Next we will define our Keras model (adapted from [keras.io](https://keras.io/examples/vision/mnist_convnet/)):"
   ]
  },
  {
   "cell_type": "code",
   "execution_count": 5,
   "id": "068dcc57",
   "metadata": {
    "execution": {
     "iopub.execute_input": "2022-07-22T23:44:28.584036Z",
     "iopub.status.busy": "2022-07-22T23:44:28.582667Z",
     "iopub.status.idle": "2022-07-22T23:44:28.596097Z",
     "shell.execute_reply": "2022-07-22T23:44:28.595369Z"
    }
   },
   "outputs": [],
   "source": [
    "num_classes = 10\n",
    "input_shape = (28, 28, 1)\n",
    "\n",
    "\n",
    "def get_model():\n",
    "    model = keras.Sequential(\n",
    "        [\n",
    "            keras.Input(input_shape),\n",
    "            keras.layers.Conv2D(32, kernel_size=(3, 3), activation=\"relu\"),\n",
    "            keras.layers.MaxPooling2D(pool_size=(2, 2)),\n",
    "            keras.layers.Conv2D(64, kernel_size=(3, 3), activation=\"relu\"),\n",
    "            keras.layers.MaxPooling2D(pool_size=(2, 2)),\n",
    "            keras.layers.Flatten(),\n",
    "            keras.layers.Dropout(0.5),\n",
    "            keras.layers.Dense(num_classes, activation=\"softmax\"),\n",
    "        ]\n",
    "    )\n",
    "    model.compile(\n",
    "        loss=\"sparse_categorical_crossentropy\", optimizer=\"adam\"\n",
    "    )\n",
    "    return model"
   ]
  },
  {
   "cell_type": "markdown",
   "id": "1cee309f",
   "metadata": {},
   "source": [
    "## 4. Keras benchmarks"
   ]
  },
  {
   "cell_type": "code",
   "execution_count": 6,
   "id": "4bc40383",
   "metadata": {
    "execution": {
     "iopub.execute_input": "2022-07-22T23:44:28.602197Z",
     "iopub.status.busy": "2022-07-22T23:44:28.600345Z",
     "iopub.status.idle": "2022-07-22T23:44:28.606210Z",
     "shell.execute_reply": "2022-07-22T23:44:28.605549Z"
    }
   },
   "outputs": [],
   "source": [
    "fit_kwargs = {\"batch_size\": 128, \"validation_split\": 0.1, \"verbose\": 0, \"epochs\": 5}"
   ]
  },
  {
   "cell_type": "code",
   "execution_count": 7,
   "id": "4124b4cf",
   "metadata": {
    "execution": {
     "iopub.execute_input": "2022-07-22T23:44:28.611169Z",
     "iopub.status.busy": "2022-07-22T23:44:28.609938Z",
     "iopub.status.idle": "2022-07-22T23:44:28.617007Z",
     "shell.execute_reply": "2022-07-22T23:44:28.616377Z"
    }
   },
   "outputs": [],
   "source": [
    "from sklearn.metrics import accuracy_score\n",
    "from scikeras.utils.random_state import tensorflow_random_state"
   ]
  },
  {
   "cell_type": "code",
   "execution_count": 8,
   "id": "81f09a74",
   "metadata": {
    "execution": {
     "iopub.execute_input": "2022-07-22T23:44:28.622037Z",
     "iopub.status.busy": "2022-07-22T23:44:28.620798Z",
     "iopub.status.idle": "2022-07-22T23:44:36.538385Z",
     "shell.execute_reply": "2022-07-22T23:44:36.536847Z"
    }
   },
   "outputs": [
    {
     "name": "stdout",
     "output_type": "stream",
     "text": [
      "Training time: 7.57\n",
      "\r",
      " 1/16 [>.............................] - ETA: 1s"
     ]
    },
    {
     "name": "stdout",
     "output_type": "stream",
     "text": [
      "\b\b\b\b\b\b\b\b\b\b\b\b\b\b\b\b\b\b\b\b\b\b\b\b\b\b\b\b\b\b\b\b\b\b\b\b\b\b\b\b\b\b\b\b\b\b\b\b\r",
      " 9/16 [===============>..............] - ETA: 0s"
     ]
    },
    {
     "name": "stdout",
     "output_type": "stream",
     "text": [
      "\b\b\b\b\b\b\b\b\b\b\b\b\b\b\b\b\b\b\b\b\b\b\b\b\b\b\b\b\b\b\b\b\b\b\b\b\b\b\b\b\b\b\b\b\b\b\b\b\r",
      "16/16 [==============================] - 0s 6ms/step\n"
     ]
    },
    {
     "name": "stdout",
     "output_type": "stream",
     "text": [
      "Accuracy: 0.88\n"
     ]
    }
   ],
   "source": [
    "from time import time\n",
    "\n",
    "with tensorflow_random_state(seed=0):  # we force a TF random state to be able to compare accuracy\n",
    "    model = get_model()\n",
    "    start = time()\n",
    "    model.fit(x_train, y_train, **fit_kwargs)\n",
    "    print(f\"Training time: {time()-start:.2f}\")\n",
    "    y_pred = np.argmax(model.predict(x_test), axis=1)\n",
    "print(f\"Accuracy: {accuracy_score(y_test, y_pred)}\")"
   ]
  },
  {
   "cell_type": "markdown",
   "id": "045728ab",
   "metadata": {},
   "source": [
    "## 5. SciKeras benchmark"
   ]
  },
  {
   "cell_type": "code",
   "execution_count": 9,
   "id": "c67cb910",
   "metadata": {
    "execution": {
     "iopub.execute_input": "2022-07-22T23:44:36.543284Z",
     "iopub.status.busy": "2022-07-22T23:44:36.542991Z",
     "iopub.status.idle": "2022-07-22T23:44:36.548656Z",
     "shell.execute_reply": "2022-07-22T23:44:36.547826Z"
    }
   },
   "outputs": [],
   "source": [
    "clf = KerasClassifier(\n",
    "    model=get_model,\n",
    "    random_state=0,\n",
    "    **fit_kwargs\n",
    ")"
   ]
  },
  {
   "cell_type": "code",
   "execution_count": 10,
   "id": "45fb84d2",
   "metadata": {
    "execution": {
     "iopub.execute_input": "2022-07-22T23:44:36.558687Z",
     "iopub.status.busy": "2022-07-22T23:44:36.554894Z",
     "iopub.status.idle": "2022-07-22T23:44:44.385090Z",
     "shell.execute_reply": "2022-07-22T23:44:44.383760Z"
    }
   },
   "outputs": [
    {
     "name": "stdout",
     "output_type": "stream",
     "text": [
      "Training time: 7.49\n"
     ]
    },
    {
     "name": "stdout",
     "output_type": "stream",
     "text": [
      "Accuracy: 0.88\n"
     ]
    }
   ],
   "source": [
    "start = time()\n",
    "clf.fit(x_train, y_train)\n",
    "print(f\"Training time: {time()-start:.2f}\")\n",
    "y_pred = clf.predict(x_test)\n",
    "print(f\"Accuracy: {accuracy_score(y_test, y_pred)}\")"
   ]
  },
  {
   "cell_type": "markdown",
   "id": "acd92900",
   "metadata": {},
   "source": [
    "As you can see, the overhead for SciKeras is <1 sec, and the accuracy is identical."
   ]
  }
 ],
 "metadata": {
  "jupytext": {
   "formats": "ipynb,md"
  },
  "kernelspec": {
   "display_name": "Python 3",
   "language": "python",
   "name": "python3"
  },
  "language_info": {
   "codemirror_mode": {
    "name": "ipython",
    "version": 3
   },
   "file_extension": ".py",
   "mimetype": "text/x-python",
   "name": "python",
   "nbconvert_exporter": "python",
   "pygments_lexer": "ipython3",
   "version": "3.8.13"
  }
 },
 "nbformat": 4,
 "nbformat_minor": 5
}
