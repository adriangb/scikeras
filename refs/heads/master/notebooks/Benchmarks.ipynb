{
 "cells": [
  {
   "cell_type": "raw",
   "id": "selected-season",
   "metadata": {},
   "source": [
    "<a href=\"https://colab.research.google.com/github/adriangb/scikeras/blob/docs-deploy/refs/heads/master/notebooks/Benchmarks.ipynb\"><img src=\"https://www.tensorflow.org/images/colab_logo_32px.png\">Run in Google Colab</a>"
   ]
  },
  {
   "cell_type": "markdown",
   "id": "extraordinary-standing",
   "metadata": {},
   "source": [
    "# SciKeras Benchmarks\n",
    "\n",
    "SciKeras wraps Keras Models, but does not alter their performance since all of the heavy lifting still happens within Keras/Tensorflow. In this notebook, we compare the performance and accuracy of a pure-Keras Model to the same model wrapped in SciKeras.\n",
    "\n",
    "## Table of contents\n",
    "\n",
    "* [1. Setup](#1.-Setup)\n",
    "* [2. Dataset](#2.-Dataset)\n",
    "* [3. Define Keras Model](#3.-Define-Keras-Model)\n",
    "* [4. Keras benchmarks](#4.-Keras-benchmarks)\n",
    "* [5. SciKeras benchmark](#5.-SciKeras-benchmark)\n",
    "\n",
    "## 1. Setup"
   ]
  },
  {
   "cell_type": "code",
   "execution_count": 1,
   "id": "copyrighted-kentucky",
   "metadata": {
    "execution": {
     "iopub.execute_input": "2021-01-31T06:25:00.607639Z",
     "iopub.status.busy": "2021-01-31T06:25:00.606989Z",
     "iopub.status.idle": "2021-01-31T06:25:03.106901Z",
     "shell.execute_reply": "2021-01-31T06:25:03.107397Z"
    }
   },
   "outputs": [],
   "source": [
    "try:\n",
    "    import scikeras\n",
    "except ImportError:\n",
    "    !python -m pip install scikeras"
   ]
  },
  {
   "cell_type": "markdown",
   "id": "employed-creek",
   "metadata": {},
   "source": [
    "Silence TensorFlow logging to keep output succinct."
   ]
  },
  {
   "cell_type": "code",
   "execution_count": 2,
   "id": "presidential-norwegian",
   "metadata": {
    "execution": {
     "iopub.execute_input": "2021-01-31T06:25:03.112544Z",
     "iopub.status.busy": "2021-01-31T06:25:03.111848Z",
     "iopub.status.idle": "2021-01-31T06:25:03.114288Z",
     "shell.execute_reply": "2021-01-31T06:25:03.114704Z"
    }
   },
   "outputs": [],
   "source": [
    "import warnings\n",
    "from tensorflow import get_logger\n",
    "get_logger().setLevel('ERROR')\n",
    "warnings.filterwarnings(\"ignore\", message=\"Setting the random state for TF\")"
   ]
  },
  {
   "cell_type": "code",
   "execution_count": 3,
   "id": "interested-advancement",
   "metadata": {
    "execution": {
     "iopub.execute_input": "2021-01-31T06:25:03.119628Z",
     "iopub.status.busy": "2021-01-31T06:25:03.118646Z",
     "iopub.status.idle": "2021-01-31T06:25:03.823745Z",
     "shell.execute_reply": "2021-01-31T06:25:03.824556Z"
    }
   },
   "outputs": [],
   "source": [
    "import numpy as np\n",
    "from scikeras.wrappers import KerasClassifier, KerasRegressor\n",
    "from tensorflow import keras"
   ]
  },
  {
   "cell_type": "markdown",
   "id": "integrated-bennett",
   "metadata": {},
   "source": [
    "## 2. Dataset\n",
    "\n",
    "We will be using the MNIST dataset available within Keras."
   ]
  },
  {
   "cell_type": "code",
   "execution_count": 4,
   "id": "lyric-greensboro",
   "metadata": {
    "execution": {
     "iopub.execute_input": "2021-01-31T06:25:03.828285Z",
     "iopub.status.busy": "2021-01-31T06:25:03.827211Z",
     "iopub.status.idle": "2021-01-31T06:25:04.305214Z",
     "shell.execute_reply": "2021-01-31T06:25:04.306050Z"
    }
   },
   "outputs": [],
   "source": [
    "(x_train, y_train), (x_test, y_test) = keras.datasets.mnist.load_data()\n",
    "# Scale images to the [0, 1] range\n",
    "x_train = x_train.astype(\"float32\") / 255\n",
    "x_test = x_test.astype(\"float32\") / 255\n",
    "# Make sure images have shape (28, 28, 1)\n",
    "x_train = np.expand_dims(x_train, -1)\n",
    "x_test = np.expand_dims(x_test, -1)\n",
    "# Reduce dataset size for faster benchmarks\n",
    "x_train, y_train = x_train[:2000], y_train[:2000]\n",
    "x_test, y_test = x_test[:500], y_test[:500]"
   ]
  },
  {
   "cell_type": "markdown",
   "id": "assisted-employment",
   "metadata": {},
   "source": [
    "## 3. Define Keras Model\n",
    "\n",
    "Next we will define our Keras model (adapted from [keras.io](https://keras.io/examples/vision/mnist_convnet/)):"
   ]
  },
  {
   "cell_type": "code",
   "execution_count": 5,
   "id": "excessive-spell",
   "metadata": {
    "execution": {
     "iopub.execute_input": "2021-01-31T06:25:04.310178Z",
     "iopub.status.busy": "2021-01-31T06:25:04.308914Z",
     "iopub.status.idle": "2021-01-31T06:25:04.321848Z",
     "shell.execute_reply": "2021-01-31T06:25:04.322730Z"
    }
   },
   "outputs": [],
   "source": [
    "num_classes = 10\n",
    "input_shape = (28, 28, 1)\n",
    "\n",
    "\n",
    "def get_model():\n",
    "    model = keras.Sequential(\n",
    "        [\n",
    "            keras.Input(input_shape),\n",
    "            keras.layers.Conv2D(32, kernel_size=(3, 3), activation=\"relu\"),\n",
    "            keras.layers.MaxPooling2D(pool_size=(2, 2)),\n",
    "            keras.layers.Conv2D(64, kernel_size=(3, 3), activation=\"relu\"),\n",
    "            keras.layers.MaxPooling2D(pool_size=(2, 2)),\n",
    "            keras.layers.Flatten(),\n",
    "            keras.layers.Dropout(0.5),\n",
    "            keras.layers.Dense(num_classes, activation=\"softmax\"),\n",
    "        ]\n",
    "    )\n",
    "    model.compile(\n",
    "        loss=\"sparse_categorical_crossentropy\", optimizer=\"adam\"\n",
    "    )\n",
    "    return model"
   ]
  },
  {
   "cell_type": "markdown",
   "id": "adequate-glance",
   "metadata": {},
   "source": [
    "## 4. Keras benchmarks"
   ]
  },
  {
   "cell_type": "code",
   "execution_count": 6,
   "id": "canadian-overview",
   "metadata": {
    "execution": {
     "iopub.execute_input": "2021-01-31T06:25:04.326346Z",
     "iopub.status.busy": "2021-01-31T06:25:04.325173Z",
     "iopub.status.idle": "2021-01-31T06:25:04.329695Z",
     "shell.execute_reply": "2021-01-31T06:25:04.330410Z"
    }
   },
   "outputs": [],
   "source": [
    "fit_kwargs = {\"batch_size\": 128, \"validation_split\": 0.1, \"verbose\": 0, \"epochs\": 5}"
   ]
  },
  {
   "cell_type": "code",
   "execution_count": 7,
   "id": "minute-decision",
   "metadata": {
    "execution": {
     "iopub.execute_input": "2021-01-31T06:25:04.334537Z",
     "iopub.status.busy": "2021-01-31T06:25:04.333112Z",
     "iopub.status.idle": "2021-01-31T06:25:04.337879Z",
     "shell.execute_reply": "2021-01-31T06:25:04.338740Z"
    }
   },
   "outputs": [],
   "source": [
    "from sklearn.metrics import accuracy_score\n",
    "from scikeras._utils import TFRandomState"
   ]
  },
  {
   "cell_type": "code",
   "execution_count": 8,
   "id": "prescription-foundation",
   "metadata": {
    "execution": {
     "iopub.execute_input": "2021-01-31T06:25:04.343588Z",
     "iopub.status.busy": "2021-01-31T06:25:04.342104Z",
     "iopub.status.idle": "2021-01-31T06:25:13.180813Z",
     "shell.execute_reply": "2021-01-31T06:25:13.181323Z"
    }
   },
   "outputs": [
    {
     "name": "stdout",
     "output_type": "stream",
     "text": [
      "Training time: 8.30\n"
     ]
    },
    {
     "name": "stdout",
     "output_type": "stream",
     "text": [
      "Accuracy: 0.882\n"
     ]
    }
   ],
   "source": [
    "from time import time\n",
    "\n",
    "with TFRandomState(seed=0):  # we force a TF random state to be able to compare accuracy\n",
    "    model = get_model()\n",
    "    start = time()\n",
    "    model.fit(x_train, y_train, **fit_kwargs)\n",
    "    print(f\"Training time: {time()-start:.2f}\")\n",
    "    y_pred = np.argmax(model.predict(x_test), axis=1)\n",
    "print(f\"Accuracy: {accuracy_score(y_test, y_pred)}\")"
   ]
  },
  {
   "cell_type": "markdown",
   "id": "arabic-asthma",
   "metadata": {},
   "source": [
    "## 5. SciKeras benchmark"
   ]
  },
  {
   "cell_type": "code",
   "execution_count": 9,
   "id": "forty-calibration",
   "metadata": {
    "execution": {
     "iopub.execute_input": "2021-01-31T06:25:13.185205Z",
     "iopub.status.busy": "2021-01-31T06:25:13.184629Z",
     "iopub.status.idle": "2021-01-31T06:25:13.186864Z",
     "shell.execute_reply": "2021-01-31T06:25:13.186256Z"
    }
   },
   "outputs": [],
   "source": [
    "clf = KerasClassifier(\n",
    "    model=get_model,\n",
    "    random_state=0,\n",
    "    **fit_kwargs\n",
    ")"
   ]
  },
  {
   "cell_type": "code",
   "execution_count": 10,
   "id": "hearing-batman",
   "metadata": {
    "execution": {
     "iopub.execute_input": "2021-01-31T06:25:13.194195Z",
     "iopub.status.busy": "2021-01-31T06:25:13.193652Z",
     "iopub.status.idle": "2021-01-31T06:25:21.678447Z",
     "shell.execute_reply": "2021-01-31T06:25:21.679217Z"
    }
   },
   "outputs": [
    {
     "name": "stdout",
     "output_type": "stream",
     "text": [
      "Training time: 8.29\n",
      "Accuracy: 0.882\n"
     ]
    }
   ],
   "source": [
    "start = time()\n",
    "clf.fit(x_train, y_train)\n",
    "print(f\"Training time: {time()-start:.2f}\")\n",
    "y_pred = clf.predict(x_test)\n",
    "print(f\"Accuracy: {accuracy_score(y_test, y_pred)}\")"
   ]
  },
  {
   "cell_type": "markdown",
   "id": "corrected-charity",
   "metadata": {},
   "source": [
    "As you can see, the overhead for SciKeras is <1 sec, and the accuracy is identical."
   ]
  }
 ],
 "metadata": {
  "jupytext": {
   "formats": "ipynb,md"
  },
  "kernelspec": {
   "display_name": "Python 3",
   "language": "python",
   "name": "python3"
  },
  "language_info": {
   "codemirror_mode": {
    "name": "ipython",
    "version": 3
   },
   "file_extension": ".py",
   "mimetype": "text/x-python",
   "name": "python",
   "nbconvert_exporter": "python",
   "pygments_lexer": "ipython3",
   "version": "3.8.7"
  }
 },
 "nbformat": 4,
 "nbformat_minor": 5
}
