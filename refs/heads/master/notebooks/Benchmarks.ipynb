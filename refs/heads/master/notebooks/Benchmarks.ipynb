{
 "cells": [
  {
   "cell_type": "raw",
   "id": "dc5d31d4",
   "metadata": {},
   "source": [
    "<a href=\"https://colab.research.google.com/github/adriangb/scikeras/blob/docs-deploy/refs/heads/master/notebooks/Benchmarks.ipynb\"><img src=\"https://www.tensorflow.org/images/colab_logo_32px.png\">Run in Google Colab</a>"
   ]
  },
  {
   "cell_type": "markdown",
   "id": "44fa6c84",
   "metadata": {},
   "source": [
    "# SciKeras Benchmarks\n",
    "\n",
    "SciKeras wraps Keras Models, but does not alter their performance since all of the heavy lifting still happens within Keras/Tensorflow. In this notebook, we compare the performance and accuracy of a pure-Keras Model to the same model wrapped in SciKeras.\n",
    "\n",
    "## Table of contents\n",
    "\n",
    "* [1. Setup](#1.-Setup)\n",
    "* [2. Dataset](#2.-Dataset)\n",
    "* [3. Define Keras Model](#3.-Define-Keras-Model)\n",
    "* [4. Keras benchmarks](#4.-Keras-benchmarks)\n",
    "* [5. SciKeras benchmark](#5.-SciKeras-benchmark)\n",
    "\n",
    "## 1. Setup"
   ]
  },
  {
   "cell_type": "code",
   "execution_count": 1,
   "id": "f017d25e",
   "metadata": {
    "execution": {
     "iopub.execute_input": "2022-05-11T20:21:53.637377Z",
     "iopub.status.busy": "2022-05-11T20:21:53.637080Z",
     "iopub.status.idle": "2022-05-11T20:21:55.838571Z",
     "shell.execute_reply": "2022-05-11T20:21:55.837534Z"
    }
   },
   "outputs": [],
   "source": [
    "try:\n",
    "    import scikeras\n",
    "except ImportError:\n",
    "    !python -m pip install scikeras[tensorflow]"
   ]
  },
  {
   "cell_type": "markdown",
   "id": "2b0ccc12",
   "metadata": {},
   "source": [
    "Silence TensorFlow logging to keep output succinct."
   ]
  },
  {
   "cell_type": "code",
   "execution_count": 2,
   "id": "16c24aad",
   "metadata": {
    "execution": {
     "iopub.execute_input": "2022-05-11T20:21:55.842803Z",
     "iopub.status.busy": "2022-05-11T20:21:55.842287Z",
     "iopub.status.idle": "2022-05-11T20:21:55.847895Z",
     "shell.execute_reply": "2022-05-11T20:21:55.847396Z"
    }
   },
   "outputs": [],
   "source": [
    "import warnings\n",
    "from tensorflow import get_logger\n",
    "get_logger().setLevel('ERROR')\n",
    "warnings.filterwarnings(\"ignore\", message=\"Setting the random state for TF\")"
   ]
  },
  {
   "cell_type": "code",
   "execution_count": 3,
   "id": "46be0177",
   "metadata": {
    "execution": {
     "iopub.execute_input": "2022-05-11T20:21:55.852012Z",
     "iopub.status.busy": "2022-05-11T20:21:55.850958Z",
     "iopub.status.idle": "2022-05-11T20:21:56.287708Z",
     "shell.execute_reply": "2022-05-11T20:21:56.283969Z"
    }
   },
   "outputs": [],
   "source": [
    "import numpy as np\n",
    "from scikeras.wrappers import KerasClassifier, KerasRegressor\n",
    "from tensorflow import keras"
   ]
  },
  {
   "cell_type": "markdown",
   "id": "758fe5fa",
   "metadata": {},
   "source": [
    "## 2. Dataset\n",
    "\n",
    "We will be using the MNIST dataset available within Keras."
   ]
  },
  {
   "cell_type": "code",
   "execution_count": 4,
   "id": "ca3ced2d",
   "metadata": {
    "execution": {
     "iopub.execute_input": "2022-05-11T20:21:56.292763Z",
     "iopub.status.busy": "2022-05-11T20:21:56.291597Z",
     "iopub.status.idle": "2022-05-11T20:21:57.118260Z",
     "shell.execute_reply": "2022-05-11T20:21:57.117495Z"
    }
   },
   "outputs": [],
   "source": [
    "(x_train, y_train), (x_test, y_test) = keras.datasets.mnist.load_data()\n",
    "# Scale images to the [0, 1] range\n",
    "x_train = x_train.astype(\"float32\") / 255\n",
    "x_test = x_test.astype(\"float32\") / 255\n",
    "# Make sure images have shape (28, 28, 1)\n",
    "x_train = np.expand_dims(x_train, -1)\n",
    "x_test = np.expand_dims(x_test, -1)\n",
    "# Reduce dataset size for faster benchmarks\n",
    "x_train, y_train = x_train[:2000], y_train[:2000]\n",
    "x_test, y_test = x_test[:500], y_test[:500]"
   ]
  },
  {
   "cell_type": "markdown",
   "id": "38af1fcf",
   "metadata": {},
   "source": [
    "## 3. Define Keras Model\n",
    "\n",
    "Next we will define our Keras model (adapted from [keras.io](https://keras.io/examples/vision/mnist_convnet/)):"
   ]
  },
  {
   "cell_type": "code",
   "execution_count": 5,
   "id": "3836160f",
   "metadata": {
    "execution": {
     "iopub.execute_input": "2022-05-11T20:21:57.123526Z",
     "iopub.status.busy": "2022-05-11T20:21:57.122216Z",
     "iopub.status.idle": "2022-05-11T20:21:57.136962Z",
     "shell.execute_reply": "2022-05-11T20:21:57.136361Z"
    }
   },
   "outputs": [],
   "source": [
    "num_classes = 10\n",
    "input_shape = (28, 28, 1)\n",
    "\n",
    "\n",
    "def get_model():\n",
    "    model = keras.Sequential(\n",
    "        [\n",
    "            keras.Input(input_shape),\n",
    "            keras.layers.Conv2D(32, kernel_size=(3, 3), activation=\"relu\"),\n",
    "            keras.layers.MaxPooling2D(pool_size=(2, 2)),\n",
    "            keras.layers.Conv2D(64, kernel_size=(3, 3), activation=\"relu\"),\n",
    "            keras.layers.MaxPooling2D(pool_size=(2, 2)),\n",
    "            keras.layers.Flatten(),\n",
    "            keras.layers.Dropout(0.5),\n",
    "            keras.layers.Dense(num_classes, activation=\"softmax\"),\n",
    "        ]\n",
    "    )\n",
    "    model.compile(\n",
    "        loss=\"sparse_categorical_crossentropy\", optimizer=\"adam\"\n",
    "    )\n",
    "    return model"
   ]
  },
  {
   "cell_type": "markdown",
   "id": "63d863fc",
   "metadata": {},
   "source": [
    "## 4. Keras benchmarks"
   ]
  },
  {
   "cell_type": "code",
   "execution_count": 6,
   "id": "15ae706c",
   "metadata": {
    "execution": {
     "iopub.execute_input": "2022-05-11T20:21:57.140512Z",
     "iopub.status.busy": "2022-05-11T20:21:57.140259Z",
     "iopub.status.idle": "2022-05-11T20:21:57.145987Z",
     "shell.execute_reply": "2022-05-11T20:21:57.144795Z"
    }
   },
   "outputs": [],
   "source": [
    "fit_kwargs = {\"batch_size\": 128, \"validation_split\": 0.1, \"verbose\": 0, \"epochs\": 5}"
   ]
  },
  {
   "cell_type": "code",
   "execution_count": 7,
   "id": "d985f873",
   "metadata": {
    "execution": {
     "iopub.execute_input": "2022-05-11T20:21:57.155269Z",
     "iopub.status.busy": "2022-05-11T20:21:57.154831Z",
     "iopub.status.idle": "2022-05-11T20:21:57.159720Z",
     "shell.execute_reply": "2022-05-11T20:21:57.159021Z"
    }
   },
   "outputs": [],
   "source": [
    "from sklearn.metrics import accuracy_score\n",
    "from scikeras.utils.random_state import tensorflow_random_state"
   ]
  },
  {
   "cell_type": "code",
   "execution_count": 8,
   "id": "8c9de22b",
   "metadata": {
    "execution": {
     "iopub.execute_input": "2022-05-11T20:21:57.163061Z",
     "iopub.status.busy": "2022-05-11T20:21:57.162655Z",
     "iopub.status.idle": "2022-05-11T20:22:05.231846Z",
     "shell.execute_reply": "2022-05-11T20:22:05.231177Z"
    }
   },
   "outputs": [
    {
     "name": "stdout",
     "output_type": "stream",
     "text": [
      "Training time: 7.68\n"
     ]
    },
    {
     "name": "stdout",
     "output_type": "stream",
     "text": [
      "Accuracy: 0.88\n"
     ]
    }
   ],
   "source": [
    "from time import time\n",
    "\n",
    "with tensorflow_random_state(seed=0):  # we force a TF random state to be able to compare accuracy\n",
    "    model = get_model()\n",
    "    start = time()\n",
    "    model.fit(x_train, y_train, **fit_kwargs)\n",
    "    print(f\"Training time: {time()-start:.2f}\")\n",
    "    y_pred = np.argmax(model.predict(x_test), axis=1)\n",
    "print(f\"Accuracy: {accuracy_score(y_test, y_pred)}\")"
   ]
  },
  {
   "cell_type": "markdown",
   "id": "4ecce906",
   "metadata": {},
   "source": [
    "## 5. SciKeras benchmark"
   ]
  },
  {
   "cell_type": "code",
   "execution_count": 9,
   "id": "d8ec9d02",
   "metadata": {
    "execution": {
     "iopub.execute_input": "2022-05-11T20:22:05.234798Z",
     "iopub.status.busy": "2022-05-11T20:22:05.234527Z",
     "iopub.status.idle": "2022-05-11T20:22:05.244386Z",
     "shell.execute_reply": "2022-05-11T20:22:05.243650Z"
    }
   },
   "outputs": [],
   "source": [
    "clf = KerasClassifier(\n",
    "    model=get_model,\n",
    "    random_state=0,\n",
    "    **fit_kwargs\n",
    ")"
   ]
  },
  {
   "cell_type": "code",
   "execution_count": 10,
   "id": "efcf8c5e",
   "metadata": {
    "execution": {
     "iopub.execute_input": "2022-05-11T20:22:05.247392Z",
     "iopub.status.busy": "2022-05-11T20:22:05.247135Z",
     "iopub.status.idle": "2022-05-11T20:22:12.863796Z",
     "shell.execute_reply": "2022-05-11T20:22:12.862593Z"
    }
   },
   "outputs": [
    {
     "name": "stdout",
     "output_type": "stream",
     "text": [
      "Training time: 7.45\n",
      "Accuracy: 0.88\n"
     ]
    }
   ],
   "source": [
    "start = time()\n",
    "clf.fit(x_train, y_train)\n",
    "print(f\"Training time: {time()-start:.2f}\")\n",
    "y_pred = clf.predict(x_test)\n",
    "print(f\"Accuracy: {accuracy_score(y_test, y_pred)}\")"
   ]
  },
  {
   "cell_type": "markdown",
   "id": "f4fe8ad5",
   "metadata": {},
   "source": [
    "As you can see, the overhead for SciKeras is <1 sec, and the accuracy is identical."
   ]
  }
 ],
 "metadata": {
  "jupytext": {
   "formats": "ipynb,md"
  },
  "kernelspec": {
   "display_name": "Python 3",
   "language": "python",
   "name": "python3"
  },
  "language_info": {
   "codemirror_mode": {
    "name": "ipython",
    "version": 3
   },
   "file_extension": ".py",
   "mimetype": "text/x-python",
   "name": "python",
   "nbconvert_exporter": "python",
   "pygments_lexer": "ipython3",
   "version": "3.8.12"
  }
 },
 "nbformat": 4,
 "nbformat_minor": 5
}
