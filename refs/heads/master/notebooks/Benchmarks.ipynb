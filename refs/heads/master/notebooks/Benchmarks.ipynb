{
 "cells": [
  {
   "cell_type": "raw",
   "id": "6d2f7105",
   "metadata": {},
   "source": [
    "<a href=\"https://colab.research.google.com/github/adriangb/scikeras/blob/docs-deploy/refs/heads/master/notebooks/Benchmarks.ipynb\"><img src=\"https://www.tensorflow.org/images/colab_logo_32px.png\">Run in Google Colab</a>"
   ]
  },
  {
   "cell_type": "markdown",
   "id": "8c58b982",
   "metadata": {},
   "source": [
    "# SciKeras Benchmarks\n",
    "\n",
    "SciKeras wraps Keras Models, but does not alter their performance since all of the heavy lifting still happens within Keras/Tensorflow. In this notebook, we compare the performance and accuracy of a pure-Keras Model to the same model wrapped in SciKeras.\n",
    "\n",
    "## Table of contents\n",
    "\n",
    "* [1. Setup](#1.-Setup)\n",
    "* [2. Dataset](#2.-Dataset)\n",
    "* [3. Define Keras Model](#3.-Define-Keras-Model)\n",
    "* [4. Keras benchmarks](#4.-Keras-benchmarks)\n",
    "* [5. SciKeras benchmark](#5.-SciKeras-benchmark)\n",
    "\n",
    "## 1. Setup"
   ]
  },
  {
   "cell_type": "code",
   "execution_count": 1,
   "id": "195d3548",
   "metadata": {
    "execution": {
     "iopub.execute_input": "2022-03-19T20:01:35.603261Z",
     "iopub.status.busy": "2022-03-19T20:01:35.602751Z",
     "iopub.status.idle": "2022-03-19T20:01:37.688606Z",
     "shell.execute_reply": "2022-03-19T20:01:37.687934Z"
    }
   },
   "outputs": [],
   "source": [
    "try:\n",
    "    import scikeras\n",
    "except ImportError:\n",
    "    !python -m pip install scikeras[tensorflow]"
   ]
  },
  {
   "cell_type": "markdown",
   "id": "8c8bc0ae",
   "metadata": {},
   "source": [
    "Silence TensorFlow logging to keep output succinct."
   ]
  },
  {
   "cell_type": "code",
   "execution_count": 2,
   "id": "d2c0b67e",
   "metadata": {
    "execution": {
     "iopub.execute_input": "2022-03-19T20:01:37.699887Z",
     "iopub.status.busy": "2022-03-19T20:01:37.699484Z",
     "iopub.status.idle": "2022-03-19T20:01:37.704751Z",
     "shell.execute_reply": "2022-03-19T20:01:37.704191Z"
    }
   },
   "outputs": [],
   "source": [
    "import warnings\n",
    "from tensorflow import get_logger\n",
    "get_logger().setLevel('ERROR')\n",
    "warnings.filterwarnings(\"ignore\", message=\"Setting the random state for TF\")"
   ]
  },
  {
   "cell_type": "code",
   "execution_count": 3,
   "id": "6d9b5706",
   "metadata": {
    "execution": {
     "iopub.execute_input": "2022-03-19T20:01:37.707581Z",
     "iopub.status.busy": "2022-03-19T20:01:37.707420Z",
     "iopub.status.idle": "2022-03-19T20:01:38.097610Z",
     "shell.execute_reply": "2022-03-19T20:01:38.096240Z"
    }
   },
   "outputs": [],
   "source": [
    "import numpy as np\n",
    "from scikeras.wrappers import KerasClassifier, KerasRegressor\n",
    "from tensorflow import keras"
   ]
  },
  {
   "cell_type": "markdown",
   "id": "16c46ff6",
   "metadata": {},
   "source": [
    "## 2. Dataset\n",
    "\n",
    "We will be using the MNIST dataset available within Keras."
   ]
  },
  {
   "cell_type": "code",
   "execution_count": 4,
   "id": "a97059fb",
   "metadata": {
    "execution": {
     "iopub.execute_input": "2022-03-19T20:01:38.102071Z",
     "iopub.status.busy": "2022-03-19T20:01:38.101561Z",
     "iopub.status.idle": "2022-03-19T20:01:38.563545Z",
     "shell.execute_reply": "2022-03-19T20:01:38.562801Z"
    }
   },
   "outputs": [],
   "source": [
    "(x_train, y_train), (x_test, y_test) = keras.datasets.mnist.load_data()\n",
    "# Scale images to the [0, 1] range\n",
    "x_train = x_train.astype(\"float32\") / 255\n",
    "x_test = x_test.astype(\"float32\") / 255\n",
    "# Make sure images have shape (28, 28, 1)\n",
    "x_train = np.expand_dims(x_train, -1)\n",
    "x_test = np.expand_dims(x_test, -1)\n",
    "# Reduce dataset size for faster benchmarks\n",
    "x_train, y_train = x_train[:2000], y_train[:2000]\n",
    "x_test, y_test = x_test[:500], y_test[:500]"
   ]
  },
  {
   "cell_type": "markdown",
   "id": "ca4e6b84",
   "metadata": {},
   "source": [
    "## 3. Define Keras Model\n",
    "\n",
    "Next we will define our Keras model (adapted from [keras.io](https://keras.io/examples/vision/mnist_convnet/)):"
   ]
  },
  {
   "cell_type": "code",
   "execution_count": 5,
   "id": "e85c98bc",
   "metadata": {
    "execution": {
     "iopub.execute_input": "2022-03-19T20:01:38.573904Z",
     "iopub.status.busy": "2022-03-19T20:01:38.573481Z",
     "iopub.status.idle": "2022-03-19T20:01:38.587195Z",
     "shell.execute_reply": "2022-03-19T20:01:38.581644Z"
    }
   },
   "outputs": [],
   "source": [
    "num_classes = 10\n",
    "input_shape = (28, 28, 1)\n",
    "\n",
    "\n",
    "def get_model():\n",
    "    model = keras.Sequential(\n",
    "        [\n",
    "            keras.Input(input_shape),\n",
    "            keras.layers.Conv2D(32, kernel_size=(3, 3), activation=\"relu\"),\n",
    "            keras.layers.MaxPooling2D(pool_size=(2, 2)),\n",
    "            keras.layers.Conv2D(64, kernel_size=(3, 3), activation=\"relu\"),\n",
    "            keras.layers.MaxPooling2D(pool_size=(2, 2)),\n",
    "            keras.layers.Flatten(),\n",
    "            keras.layers.Dropout(0.5),\n",
    "            keras.layers.Dense(num_classes, activation=\"softmax\"),\n",
    "        ]\n",
    "    )\n",
    "    model.compile(\n",
    "        loss=\"sparse_categorical_crossentropy\", optimizer=\"adam\"\n",
    "    )\n",
    "    return model"
   ]
  },
  {
   "cell_type": "markdown",
   "id": "0148adcc",
   "metadata": {},
   "source": [
    "## 4. Keras benchmarks"
   ]
  },
  {
   "cell_type": "code",
   "execution_count": 6,
   "id": "e6785465",
   "metadata": {
    "execution": {
     "iopub.execute_input": "2022-03-19T20:01:38.590366Z",
     "iopub.status.busy": "2022-03-19T20:01:38.590103Z",
     "iopub.status.idle": "2022-03-19T20:01:38.594922Z",
     "shell.execute_reply": "2022-03-19T20:01:38.594255Z"
    }
   },
   "outputs": [],
   "source": [
    "fit_kwargs = {\"batch_size\": 128, \"validation_split\": 0.1, \"verbose\": 0, \"epochs\": 5}"
   ]
  },
  {
   "cell_type": "code",
   "execution_count": 7,
   "id": "32e6df85",
   "metadata": {
    "execution": {
     "iopub.execute_input": "2022-03-19T20:01:38.598014Z",
     "iopub.status.busy": "2022-03-19T20:01:38.597711Z",
     "iopub.status.idle": "2022-03-19T20:01:38.602231Z",
     "shell.execute_reply": "2022-03-19T20:01:38.601492Z"
    }
   },
   "outputs": [],
   "source": [
    "from sklearn.metrics import accuracy_score\n",
    "from scikeras.utils.random_state import tensorflow_random_state"
   ]
  },
  {
   "cell_type": "code",
   "execution_count": 8,
   "id": "8fdac2dd",
   "metadata": {
    "execution": {
     "iopub.execute_input": "2022-03-19T20:01:38.604877Z",
     "iopub.status.busy": "2022-03-19T20:01:38.604589Z",
     "iopub.status.idle": "2022-03-19T20:01:46.576976Z",
     "shell.execute_reply": "2022-03-19T20:01:46.575814Z"
    }
   },
   "outputs": [
    {
     "name": "stdout",
     "output_type": "stream",
     "text": [
      "Training time: 7.70\n"
     ]
    },
    {
     "name": "stdout",
     "output_type": "stream",
     "text": [
      "Accuracy: 0.88\n"
     ]
    }
   ],
   "source": [
    "from time import time\n",
    "\n",
    "with tensorflow_random_state(seed=0):  # we force a TF random state to be able to compare accuracy\n",
    "    model = get_model()\n",
    "    start = time()\n",
    "    model.fit(x_train, y_train, **fit_kwargs)\n",
    "    print(f\"Training time: {time()-start:.2f}\")\n",
    "    y_pred = np.argmax(model.predict(x_test), axis=1)\n",
    "print(f\"Accuracy: {accuracy_score(y_test, y_pred)}\")"
   ]
  },
  {
   "cell_type": "markdown",
   "id": "4147eaad",
   "metadata": {},
   "source": [
    "## 5. SciKeras benchmark"
   ]
  },
  {
   "cell_type": "code",
   "execution_count": 9,
   "id": "02c507e7",
   "metadata": {
    "execution": {
     "iopub.execute_input": "2022-03-19T20:01:46.580238Z",
     "iopub.status.busy": "2022-03-19T20:01:46.579944Z",
     "iopub.status.idle": "2022-03-19T20:01:46.584605Z",
     "shell.execute_reply": "2022-03-19T20:01:46.583986Z"
    }
   },
   "outputs": [],
   "source": [
    "clf = KerasClassifier(\n",
    "    model=get_model,\n",
    "    random_state=0,\n",
    "    **fit_kwargs\n",
    ")"
   ]
  },
  {
   "cell_type": "code",
   "execution_count": 10,
   "id": "7f418f00",
   "metadata": {
    "execution": {
     "iopub.execute_input": "2022-03-19T20:01:46.587521Z",
     "iopub.status.busy": "2022-03-19T20:01:46.587263Z",
     "iopub.status.idle": "2022-03-19T20:01:54.593988Z",
     "shell.execute_reply": "2022-03-19T20:01:54.593437Z"
    }
   },
   "outputs": [
    {
     "name": "stdout",
     "output_type": "stream",
     "text": [
      "Training time: 7.84\n",
      "Accuracy: 0.88\n"
     ]
    }
   ],
   "source": [
    "start = time()\n",
    "clf.fit(x_train, y_train)\n",
    "print(f\"Training time: {time()-start:.2f}\")\n",
    "y_pred = clf.predict(x_test)\n",
    "print(f\"Accuracy: {accuracy_score(y_test, y_pred)}\")"
   ]
  },
  {
   "cell_type": "markdown",
   "id": "5b932ee0",
   "metadata": {},
   "source": [
    "As you can see, the overhead for SciKeras is <1 sec, and the accuracy is identical."
   ]
  }
 ],
 "metadata": {
  "jupytext": {
   "formats": "ipynb,md"
  },
  "kernelspec": {
   "display_name": "Python 3",
   "language": "python",
   "name": "python3"
  },
  "language_info": {
   "codemirror_mode": {
    "name": "ipython",
    "version": 3
   },
   "file_extension": ".py",
   "mimetype": "text/x-python",
   "name": "python",
   "nbconvert_exporter": "python",
   "pygments_lexer": "ipython3",
   "version": "3.8.12"
  }
 },
 "nbformat": 4,
 "nbformat_minor": 5
}
