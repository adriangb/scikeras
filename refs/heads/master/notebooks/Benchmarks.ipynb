{
 "cells": [
  {
   "cell_type": "raw",
   "id": "postal-joyce",
   "metadata": {},
   "source": [
    "<a href=\"https://colab.research.google.com/github/adriangb/scikeras/blob/docs-deploy/refs/heads/master/notebooks/Benchmarks.ipynb\"><img src=\"https://www.tensorflow.org/images/colab_logo_32px.png\">Run in Google Colab</a>"
   ]
  },
  {
   "cell_type": "markdown",
   "id": "outside-involvement",
   "metadata": {},
   "source": [
    "# SciKeras Benchmarks\n",
    "\n",
    "SciKeras wraps Keras Models, but does not alter their performance since all of the heavy lifting still happens within Keras/Tensorflow. In this notebook, we compare the performance and accuracy of a pure-Keras Model to the same model wrapped in SciKeras.\n",
    "\n",
    "## Table of contents\n",
    "\n",
    "* [1. Setup](#1.-Setup)\n",
    "* [2. Dataset](#2.-Dataset)\n",
    "* [3. Define Keras Model](#3.-Define-Keras-Model)\n",
    "* [4. Keras benchmarks](#4.-Keras-benchmarks)\n",
    "* [5. SciKeras benchmark](#5.-SciKeras-benchmark)\n",
    "\n",
    "## 1. Setup"
   ]
  },
  {
   "cell_type": "code",
   "execution_count": 1,
   "id": "north-expert",
   "metadata": {
    "execution": {
     "iopub.execute_input": "2021-01-31T07:28:43.454930Z",
     "iopub.status.busy": "2021-01-31T07:28:43.454322Z",
     "iopub.status.idle": "2021-01-31T07:28:45.059999Z",
     "shell.execute_reply": "2021-01-31T07:28:45.060745Z"
    }
   },
   "outputs": [],
   "source": [
    "try:\n",
    "    import scikeras\n",
    "except ImportError:\n",
    "    !python -m pip install scikeras"
   ]
  },
  {
   "cell_type": "markdown",
   "id": "exposed-carry",
   "metadata": {},
   "source": [
    "Silence TensorFlow logging to keep output succinct."
   ]
  },
  {
   "cell_type": "code",
   "execution_count": 2,
   "id": "round-missouri",
   "metadata": {
    "execution": {
     "iopub.execute_input": "2021-01-31T07:28:45.064415Z",
     "iopub.status.busy": "2021-01-31T07:28:45.063386Z",
     "iopub.status.idle": "2021-01-31T07:28:45.068283Z",
     "shell.execute_reply": "2021-01-31T07:28:45.069000Z"
    }
   },
   "outputs": [],
   "source": [
    "import warnings\n",
    "from tensorflow import get_logger\n",
    "get_logger().setLevel('ERROR')\n",
    "warnings.filterwarnings(\"ignore\", message=\"Setting the random state for TF\")"
   ]
  },
  {
   "cell_type": "code",
   "execution_count": 3,
   "id": "suited-orientation",
   "metadata": {
    "execution": {
     "iopub.execute_input": "2021-01-31T07:28:45.072458Z",
     "iopub.status.busy": "2021-01-31T07:28:45.071430Z",
     "iopub.status.idle": "2021-01-31T07:28:45.432813Z",
     "shell.execute_reply": "2021-01-31T07:28:45.433591Z"
    }
   },
   "outputs": [],
   "source": [
    "import numpy as np\n",
    "from scikeras.wrappers import KerasClassifier, KerasRegressor\n",
    "from tensorflow import keras"
   ]
  },
  {
   "cell_type": "markdown",
   "id": "trying-peripheral",
   "metadata": {},
   "source": [
    "## 2. Dataset\n",
    "\n",
    "We will be using the MNIST dataset available within Keras."
   ]
  },
  {
   "cell_type": "code",
   "execution_count": 4,
   "id": "municipal-little",
   "metadata": {
    "execution": {
     "iopub.execute_input": "2021-01-31T07:28:45.439370Z",
     "iopub.status.busy": "2021-01-31T07:28:45.438437Z",
     "iopub.status.idle": "2021-01-31T07:28:45.842337Z",
     "shell.execute_reply": "2021-01-31T07:28:45.843045Z"
    }
   },
   "outputs": [],
   "source": [
    "(x_train, y_train), (x_test, y_test) = keras.datasets.mnist.load_data()\n",
    "# Scale images to the [0, 1] range\n",
    "x_train = x_train.astype(\"float32\") / 255\n",
    "x_test = x_test.astype(\"float32\") / 255\n",
    "# Make sure images have shape (28, 28, 1)\n",
    "x_train = np.expand_dims(x_train, -1)\n",
    "x_test = np.expand_dims(x_test, -1)\n",
    "# Reduce dataset size for faster benchmarks\n",
    "x_train, y_train = x_train[:2000], y_train[:2000]\n",
    "x_test, y_test = x_test[:500], y_test[:500]"
   ]
  },
  {
   "cell_type": "markdown",
   "id": "incoming-tooth",
   "metadata": {},
   "source": [
    "## 3. Define Keras Model\n",
    "\n",
    "Next we will define our Keras model (adapted from [keras.io](https://keras.io/examples/vision/mnist_convnet/)):"
   ]
  },
  {
   "cell_type": "code",
   "execution_count": 5,
   "id": "ongoing-nursing",
   "metadata": {
    "execution": {
     "iopub.execute_input": "2021-01-31T07:28:45.846352Z",
     "iopub.status.busy": "2021-01-31T07:28:45.845346Z",
     "iopub.status.idle": "2021-01-31T07:28:45.852143Z",
     "shell.execute_reply": "2021-01-31T07:28:45.852815Z"
    }
   },
   "outputs": [],
   "source": [
    "num_classes = 10\n",
    "input_shape = (28, 28, 1)\n",
    "\n",
    "\n",
    "def get_model():\n",
    "    model = keras.Sequential(\n",
    "        [\n",
    "            keras.Input(input_shape),\n",
    "            keras.layers.Conv2D(32, kernel_size=(3, 3), activation=\"relu\"),\n",
    "            keras.layers.MaxPooling2D(pool_size=(2, 2)),\n",
    "            keras.layers.Conv2D(64, kernel_size=(3, 3), activation=\"relu\"),\n",
    "            keras.layers.MaxPooling2D(pool_size=(2, 2)),\n",
    "            keras.layers.Flatten(),\n",
    "            keras.layers.Dropout(0.5),\n",
    "            keras.layers.Dense(num_classes, activation=\"softmax\"),\n",
    "        ]\n",
    "    )\n",
    "    model.compile(\n",
    "        loss=\"sparse_categorical_crossentropy\", optimizer=\"adam\"\n",
    "    )\n",
    "    return model"
   ]
  },
  {
   "cell_type": "markdown",
   "id": "specialized-chicago",
   "metadata": {},
   "source": [
    "## 4. Keras benchmarks"
   ]
  },
  {
   "cell_type": "code",
   "execution_count": 6,
   "id": "swiss-functionality",
   "metadata": {
    "execution": {
     "iopub.execute_input": "2021-01-31T07:28:45.855940Z",
     "iopub.status.busy": "2021-01-31T07:28:45.854979Z",
     "iopub.status.idle": "2021-01-31T07:28:45.859139Z",
     "shell.execute_reply": "2021-01-31T07:28:45.859826Z"
    }
   },
   "outputs": [],
   "source": [
    "fit_kwargs = {\"batch_size\": 128, \"validation_split\": 0.1, \"verbose\": 0, \"epochs\": 5}"
   ]
  },
  {
   "cell_type": "code",
   "execution_count": 7,
   "id": "stainless-update",
   "metadata": {
    "execution": {
     "iopub.execute_input": "2021-01-31T07:28:45.862805Z",
     "iopub.status.busy": "2021-01-31T07:28:45.861841Z",
     "iopub.status.idle": "2021-01-31T07:28:45.865753Z",
     "shell.execute_reply": "2021-01-31T07:28:45.866565Z"
    }
   },
   "outputs": [],
   "source": [
    "from sklearn.metrics import accuracy_score\n",
    "from scikeras._utils import TFRandomState"
   ]
  },
  {
   "cell_type": "code",
   "execution_count": 8,
   "id": "responsible-beaver",
   "metadata": {
    "execution": {
     "iopub.execute_input": "2021-01-31T07:28:45.869673Z",
     "iopub.status.busy": "2021-01-31T07:28:45.868676Z",
     "iopub.status.idle": "2021-01-31T07:28:54.786987Z",
     "shell.execute_reply": "2021-01-31T07:28:54.786498Z"
    }
   },
   "outputs": [
    {
     "name": "stdout",
     "output_type": "stream",
     "text": [
      "Training time: 8.60\n"
     ]
    },
    {
     "name": "stdout",
     "output_type": "stream",
     "text": [
      "Accuracy: 0.882\n"
     ]
    }
   ],
   "source": [
    "from time import time\n",
    "\n",
    "with TFRandomState(seed=0):  # we force a TF random state to be able to compare accuracy\n",
    "    model = get_model()\n",
    "    start = time()\n",
    "    model.fit(x_train, y_train, **fit_kwargs)\n",
    "    print(f\"Training time: {time()-start:.2f}\")\n",
    "    y_pred = np.argmax(model.predict(x_test), axis=1)\n",
    "print(f\"Accuracy: {accuracy_score(y_test, y_pred)}\")"
   ]
  },
  {
   "cell_type": "markdown",
   "id": "opposed-terrorist",
   "metadata": {},
   "source": [
    "## 5. SciKeras benchmark"
   ]
  },
  {
   "cell_type": "code",
   "execution_count": 9,
   "id": "computational-coast",
   "metadata": {
    "execution": {
     "iopub.execute_input": "2021-01-31T07:28:54.791342Z",
     "iopub.status.busy": "2021-01-31T07:28:54.790776Z",
     "iopub.status.idle": "2021-01-31T07:28:54.794356Z",
     "shell.execute_reply": "2021-01-31T07:28:54.793805Z"
    }
   },
   "outputs": [],
   "source": [
    "clf = KerasClassifier(\n",
    "    model=get_model,\n",
    "    random_state=0,\n",
    "    **fit_kwargs\n",
    ")"
   ]
  },
  {
   "cell_type": "code",
   "execution_count": 10,
   "id": "reported-yemen",
   "metadata": {
    "execution": {
     "iopub.execute_input": "2021-01-31T07:28:54.798658Z",
     "iopub.status.busy": "2021-01-31T07:28:54.798098Z",
     "iopub.status.idle": "2021-01-31T07:29:01.877766Z",
     "shell.execute_reply": "2021-01-31T07:29:01.878428Z"
    }
   },
   "outputs": [
    {
     "name": "stdout",
     "output_type": "stream",
     "text": [
      "Training time: 6.95\n",
      "Accuracy: 0.882\n"
     ]
    }
   ],
   "source": [
    "start = time()\n",
    "clf.fit(x_train, y_train)\n",
    "print(f\"Training time: {time()-start:.2f}\")\n",
    "y_pred = clf.predict(x_test)\n",
    "print(f\"Accuracy: {accuracy_score(y_test, y_pred)}\")"
   ]
  },
  {
   "cell_type": "markdown",
   "id": "valued-activity",
   "metadata": {},
   "source": [
    "As you can see, the overhead for SciKeras is <1 sec, and the accuracy is identical."
   ]
  }
 ],
 "metadata": {
  "jupytext": {
   "formats": "ipynb,md"
  },
  "kernelspec": {
   "display_name": "Python 3",
   "language": "python",
   "name": "python3"
  },
  "language_info": {
   "codemirror_mode": {
    "name": "ipython",
    "version": 3
   },
   "file_extension": ".py",
   "mimetype": "text/x-python",
   "name": "python",
   "nbconvert_exporter": "python",
   "pygments_lexer": "ipython3",
   "version": "3.8.7"
  }
 },
 "nbformat": 4,
 "nbformat_minor": 5
}
