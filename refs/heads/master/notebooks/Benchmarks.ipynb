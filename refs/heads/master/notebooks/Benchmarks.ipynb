{
 "cells": [
  {
   "cell_type": "raw",
   "id": "688b2ab6",
   "metadata": {},
   "source": [
    "<a href=\"https://colab.research.google.com/github/adriangb/scikeras/blob/docs-deploy/refs/heads/master/notebooks/Benchmarks.ipynb\"><img src=\"https://www.tensorflow.org/images/colab_logo_32px.png\">Run in Google Colab</a>"
   ]
  },
  {
   "cell_type": "markdown",
   "id": "055b680a",
   "metadata": {},
   "source": [
    "# SciKeras Benchmarks\n",
    "\n",
    "SciKeras wraps Keras Models, but does not alter their performance since all of the heavy lifting still happens within Keras/Tensorflow. In this notebook, we compare the performance and accuracy of a pure-Keras Model to the same model wrapped in SciKeras.\n",
    "\n",
    "## Table of contents\n",
    "\n",
    "* [1. Setup](#1.-Setup)\n",
    "* [2. Dataset](#2.-Dataset)\n",
    "* [3. Define Keras Model](#3.-Define-Keras-Model)\n",
    "* [4. Keras benchmarks](#4.-Keras-benchmarks)\n",
    "* [5. SciKeras benchmark](#5.-SciKeras-benchmark)\n",
    "\n",
    "## 1. Setup"
   ]
  },
  {
   "cell_type": "code",
   "execution_count": 1,
   "id": "0452d64f",
   "metadata": {
    "execution": {
     "iopub.execute_input": "2021-11-29T22:12:01.286797Z",
     "iopub.status.busy": "2021-11-29T22:12:01.282699Z",
     "iopub.status.idle": "2021-11-29T22:12:03.790721Z",
     "shell.execute_reply": "2021-11-29T22:12:03.791580Z"
    }
   },
   "outputs": [],
   "source": [
    "try:\n",
    "    import scikeras\n",
    "except ImportError:\n",
    "    !python -m pip install scikeras"
   ]
  },
  {
   "cell_type": "markdown",
   "id": "105fdcfc",
   "metadata": {},
   "source": [
    "Silence TensorFlow logging to keep output succinct."
   ]
  },
  {
   "cell_type": "code",
   "execution_count": 2,
   "id": "27a39f0f",
   "metadata": {
    "execution": {
     "iopub.execute_input": "2021-11-29T22:12:03.795821Z",
     "iopub.status.busy": "2021-11-29T22:12:03.794555Z",
     "iopub.status.idle": "2021-11-29T22:12:03.805223Z",
     "shell.execute_reply": "2021-11-29T22:12:03.805956Z"
    }
   },
   "outputs": [],
   "source": [
    "import warnings\n",
    "from tensorflow import get_logger\n",
    "get_logger().setLevel('ERROR')\n",
    "warnings.filterwarnings(\"ignore\", message=\"Setting the random state for TF\")"
   ]
  },
  {
   "cell_type": "code",
   "execution_count": 3,
   "id": "1a349c73",
   "metadata": {
    "execution": {
     "iopub.execute_input": "2021-11-29T22:12:03.810403Z",
     "iopub.status.busy": "2021-11-29T22:12:03.809781Z",
     "iopub.status.idle": "2021-11-29T22:12:04.292741Z",
     "shell.execute_reply": "2021-11-29T22:12:04.293229Z"
    }
   },
   "outputs": [],
   "source": [
    "import numpy as np\n",
    "from scikeras.wrappers import KerasClassifier, KerasRegressor\n",
    "from tensorflow import keras"
   ]
  },
  {
   "cell_type": "markdown",
   "id": "b900c5b8",
   "metadata": {},
   "source": [
    "## 2. Dataset\n",
    "\n",
    "We will be using the MNIST dataset available within Keras."
   ]
  },
  {
   "cell_type": "code",
   "execution_count": 4,
   "id": "5e1318f1",
   "metadata": {
    "execution": {
     "iopub.execute_input": "2021-11-29T22:12:04.300516Z",
     "iopub.status.busy": "2021-11-29T22:12:04.299909Z",
     "iopub.status.idle": "2021-11-29T22:12:04.848840Z",
     "shell.execute_reply": "2021-11-29T22:12:04.849603Z"
    }
   },
   "outputs": [],
   "source": [
    "(x_train, y_train), (x_test, y_test) = keras.datasets.mnist.load_data()\n",
    "# Scale images to the [0, 1] range\n",
    "x_train = x_train.astype(\"float32\") / 255\n",
    "x_test = x_test.astype(\"float32\") / 255\n",
    "# Make sure images have shape (28, 28, 1)\n",
    "x_train = np.expand_dims(x_train, -1)\n",
    "x_test = np.expand_dims(x_test, -1)\n",
    "# Reduce dataset size for faster benchmarks\n",
    "x_train, y_train = x_train[:2000], y_train[:2000]\n",
    "x_test, y_test = x_test[:500], y_test[:500]"
   ]
  },
  {
   "cell_type": "markdown",
   "id": "0a629782",
   "metadata": {},
   "source": [
    "## 3. Define Keras Model\n",
    "\n",
    "Next we will define our Keras model (adapted from [keras.io](https://keras.io/examples/vision/mnist_convnet/)):"
   ]
  },
  {
   "cell_type": "code",
   "execution_count": 5,
   "id": "787a2911",
   "metadata": {
    "execution": {
     "iopub.execute_input": "2021-11-29T22:12:04.853731Z",
     "iopub.status.busy": "2021-11-29T22:12:04.852485Z",
     "iopub.status.idle": "2021-11-29T22:12:04.860643Z",
     "shell.execute_reply": "2021-11-29T22:12:04.859903Z"
    }
   },
   "outputs": [],
   "source": [
    "num_classes = 10\n",
    "input_shape = (28, 28, 1)\n",
    "\n",
    "\n",
    "def get_model():\n",
    "    model = keras.Sequential(\n",
    "        [\n",
    "            keras.Input(input_shape),\n",
    "            keras.layers.Conv2D(32, kernel_size=(3, 3), activation=\"relu\"),\n",
    "            keras.layers.MaxPooling2D(pool_size=(2, 2)),\n",
    "            keras.layers.Conv2D(64, kernel_size=(3, 3), activation=\"relu\"),\n",
    "            keras.layers.MaxPooling2D(pool_size=(2, 2)),\n",
    "            keras.layers.Flatten(),\n",
    "            keras.layers.Dropout(0.5),\n",
    "            keras.layers.Dense(num_classes, activation=\"softmax\"),\n",
    "        ]\n",
    "    )\n",
    "    model.compile(\n",
    "        loss=\"sparse_categorical_crossentropy\", optimizer=\"adam\"\n",
    "    )\n",
    "    return model"
   ]
  },
  {
   "cell_type": "markdown",
   "id": "6f738ea9",
   "metadata": {},
   "source": [
    "## 4. Keras benchmarks"
   ]
  },
  {
   "cell_type": "code",
   "execution_count": 6,
   "id": "1200fdef",
   "metadata": {
    "execution": {
     "iopub.execute_input": "2021-11-29T22:12:04.865843Z",
     "iopub.status.busy": "2021-11-29T22:12:04.865304Z",
     "iopub.status.idle": "2021-11-29T22:12:04.869250Z",
     "shell.execute_reply": "2021-11-29T22:12:04.869755Z"
    }
   },
   "outputs": [],
   "source": [
    "fit_kwargs = {\"batch_size\": 128, \"validation_split\": 0.1, \"verbose\": 0, \"epochs\": 5}"
   ]
  },
  {
   "cell_type": "code",
   "execution_count": 7,
   "id": "d9266f10",
   "metadata": {
    "execution": {
     "iopub.execute_input": "2021-11-29T22:12:04.874672Z",
     "iopub.status.busy": "2021-11-29T22:12:04.874049Z",
     "iopub.status.idle": "2021-11-29T22:12:04.876714Z",
     "shell.execute_reply": "2021-11-29T22:12:04.877359Z"
    }
   },
   "outputs": [],
   "source": [
    "from sklearn.metrics import accuracy_score\n",
    "from scikeras.utils.random_state import tensorflow_random_state"
   ]
  },
  {
   "cell_type": "code",
   "execution_count": 8,
   "id": "6ade530f",
   "metadata": {
    "execution": {
     "iopub.execute_input": "2021-11-29T22:12:04.886778Z",
     "iopub.status.busy": "2021-11-29T22:12:04.882746Z",
     "iopub.status.idle": "2021-11-29T22:12:16.914636Z",
     "shell.execute_reply": "2021-11-29T22:12:16.915555Z"
    }
   },
   "outputs": [
    {
     "name": "stdout",
     "output_type": "stream",
     "text": [
      "Training time: 11.58\n"
     ]
    },
    {
     "name": "stdout",
     "output_type": "stream",
     "text": [
      "Accuracy: 0.88\n"
     ]
    }
   ],
   "source": [
    "from time import time\n",
    "\n",
    "with tensorflow_random_state(seed=0):  # we force a TF random state to be able to compare accuracy\n",
    "    model = get_model()\n",
    "    start = time()\n",
    "    model.fit(x_train, y_train, **fit_kwargs)\n",
    "    print(f\"Training time: {time()-start:.2f}\")\n",
    "    y_pred = np.argmax(model.predict(x_test), axis=1)\n",
    "print(f\"Accuracy: {accuracy_score(y_test, y_pred)}\")"
   ]
  },
  {
   "cell_type": "markdown",
   "id": "5c514ad3",
   "metadata": {},
   "source": [
    "## 5. SciKeras benchmark"
   ]
  },
  {
   "cell_type": "code",
   "execution_count": 9,
   "id": "c9ba6a3e",
   "metadata": {
    "execution": {
     "iopub.execute_input": "2021-11-29T22:12:16.919904Z",
     "iopub.status.busy": "2021-11-29T22:12:16.918732Z",
     "iopub.status.idle": "2021-11-29T22:12:16.923431Z",
     "shell.execute_reply": "2021-11-29T22:12:16.924248Z"
    }
   },
   "outputs": [],
   "source": [
    "clf = KerasClassifier(\n",
    "    model=get_model,\n",
    "    random_state=0,\n",
    "    **fit_kwargs\n",
    ")"
   ]
  },
  {
   "cell_type": "code",
   "execution_count": 10,
   "id": "2928fb2a",
   "metadata": {
    "execution": {
     "iopub.execute_input": "2021-11-29T22:12:16.928208Z",
     "iopub.status.busy": "2021-11-29T22:12:16.927273Z",
     "iopub.status.idle": "2021-11-29T22:12:28.951390Z",
     "shell.execute_reply": "2021-11-29T22:12:28.952298Z"
    }
   },
   "outputs": [
    {
     "name": "stdout",
     "output_type": "stream",
     "text": [
      "Training time: 11.78\n"
     ]
    },
    {
     "name": "stdout",
     "output_type": "stream",
     "text": [
      "Accuracy: 0.88\n"
     ]
    }
   ],
   "source": [
    "start = time()\n",
    "clf.fit(x_train, y_train)\n",
    "print(f\"Training time: {time()-start:.2f}\")\n",
    "y_pred = clf.predict(x_test)\n",
    "print(f\"Accuracy: {accuracy_score(y_test, y_pred)}\")"
   ]
  },
  {
   "cell_type": "markdown",
   "id": "24350830",
   "metadata": {},
   "source": [
    "As you can see, the overhead for SciKeras is <1 sec, and the accuracy is identical."
   ]
  }
 ],
 "metadata": {
  "jupytext": {
   "formats": "ipynb,md"
  },
  "kernelspec": {
   "display_name": "Python 3",
   "language": "python",
   "name": "python3"
  },
  "language_info": {
   "codemirror_mode": {
    "name": "ipython",
    "version": 3
   },
   "file_extension": ".py",
   "mimetype": "text/x-python",
   "name": "python",
   "nbconvert_exporter": "python",
   "pygments_lexer": "ipython3",
   "version": "3.8.12"
  }
 },
 "nbformat": 4,
 "nbformat_minor": 5
}
