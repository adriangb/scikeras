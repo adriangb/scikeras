{
 "cells": [
  {
   "cell_type": "raw",
   "id": "76a7e589",
   "metadata": {},
   "source": [
    "<a href=\"https://colab.research.google.com/github/adriangb/scikeras/blob/docs-deploy/refs/heads/master/notebooks/Benchmarks.ipynb\"><img src=\"https://www.tensorflow.org/images/colab_logo_32px.png\">Run in Google Colab</a>"
   ]
  },
  {
   "cell_type": "markdown",
   "id": "79b0586a",
   "metadata": {},
   "source": [
    "# SciKeras Benchmarks\n",
    "\n",
    "SciKeras wraps Keras Models, but does not alter their performance since all of the heavy lifting still happens within Keras/Tensorflow. In this notebook, we compare the performance and accuracy of a pure-Keras Model to the same model wrapped in SciKeras.\n",
    "\n",
    "## Table of contents\n",
    "\n",
    "* [1. Setup](#1.-Setup)\n",
    "* [2. Dataset](#2.-Dataset)\n",
    "* [3. Define Keras Model](#3.-Define-Keras-Model)\n",
    "* [4. Keras benchmarks](#4.-Keras-benchmarks)\n",
    "* [5. SciKeras benchmark](#5.-SciKeras-benchmark)\n",
    "\n",
    "## 1. Setup"
   ]
  },
  {
   "cell_type": "code",
   "execution_count": 1,
   "id": "32d438e6",
   "metadata": {
    "execution": {
     "iopub.execute_input": "2022-02-15T18:07:20.584481Z",
     "iopub.status.busy": "2022-02-15T18:07:20.584255Z",
     "iopub.status.idle": "2022-02-15T18:07:22.847423Z",
     "shell.execute_reply": "2022-02-15T18:07:22.846576Z"
    }
   },
   "outputs": [],
   "source": [
    "try:\n",
    "    import scikeras\n",
    "except ImportError:\n",
    "    !python -m pip install scikeras[tensorflow]"
   ]
  },
  {
   "cell_type": "markdown",
   "id": "c5ce2b54",
   "metadata": {},
   "source": [
    "Silence TensorFlow logging to keep output succinct."
   ]
  },
  {
   "cell_type": "code",
   "execution_count": 2,
   "id": "fbcca25e",
   "metadata": {
    "execution": {
     "iopub.execute_input": "2022-02-15T18:07:22.851713Z",
     "iopub.status.busy": "2022-02-15T18:07:22.851234Z",
     "iopub.status.idle": "2022-02-15T18:07:22.856723Z",
     "shell.execute_reply": "2022-02-15T18:07:22.856060Z"
    }
   },
   "outputs": [],
   "source": [
    "import warnings\n",
    "from tensorflow import get_logger\n",
    "get_logger().setLevel('ERROR')\n",
    "warnings.filterwarnings(\"ignore\", message=\"Setting the random state for TF\")"
   ]
  },
  {
   "cell_type": "code",
   "execution_count": 3,
   "id": "dbdcfc6b",
   "metadata": {
    "execution": {
     "iopub.execute_input": "2022-02-15T18:07:22.859802Z",
     "iopub.status.busy": "2022-02-15T18:07:22.859490Z",
     "iopub.status.idle": "2022-02-15T18:07:23.263198Z",
     "shell.execute_reply": "2022-02-15T18:07:23.262528Z"
    }
   },
   "outputs": [],
   "source": [
    "import numpy as np\n",
    "from scikeras.wrappers import KerasClassifier, KerasRegressor\n",
    "from tensorflow import keras"
   ]
  },
  {
   "cell_type": "markdown",
   "id": "083161fb",
   "metadata": {},
   "source": [
    "## 2. Dataset\n",
    "\n",
    "We will be using the MNIST dataset available within Keras."
   ]
  },
  {
   "cell_type": "code",
   "execution_count": 4,
   "id": "ac8b0373",
   "metadata": {
    "execution": {
     "iopub.execute_input": "2022-02-15T18:07:23.267168Z",
     "iopub.status.busy": "2022-02-15T18:07:23.266737Z",
     "iopub.status.idle": "2022-02-15T18:07:23.724264Z",
     "shell.execute_reply": "2022-02-15T18:07:23.720108Z"
    }
   },
   "outputs": [],
   "source": [
    "(x_train, y_train), (x_test, y_test) = keras.datasets.mnist.load_data()\n",
    "# Scale images to the [0, 1] range\n",
    "x_train = x_train.astype(\"float32\") / 255\n",
    "x_test = x_test.astype(\"float32\") / 255\n",
    "# Make sure images have shape (28, 28, 1)\n",
    "x_train = np.expand_dims(x_train, -1)\n",
    "x_test = np.expand_dims(x_test, -1)\n",
    "# Reduce dataset size for faster benchmarks\n",
    "x_train, y_train = x_train[:2000], y_train[:2000]\n",
    "x_test, y_test = x_test[:500], y_test[:500]"
   ]
  },
  {
   "cell_type": "markdown",
   "id": "5af2edab",
   "metadata": {},
   "source": [
    "## 3. Define Keras Model\n",
    "\n",
    "Next we will define our Keras model (adapted from [keras.io](https://keras.io/examples/vision/mnist_convnet/)):"
   ]
  },
  {
   "cell_type": "code",
   "execution_count": 5,
   "id": "1fcbb9f6",
   "metadata": {
    "execution": {
     "iopub.execute_input": "2022-02-15T18:07:23.728186Z",
     "iopub.status.busy": "2022-02-15T18:07:23.727827Z",
     "iopub.status.idle": "2022-02-15T18:07:23.737213Z",
     "shell.execute_reply": "2022-02-15T18:07:23.735403Z"
    }
   },
   "outputs": [],
   "source": [
    "num_classes = 10\n",
    "input_shape = (28, 28, 1)\n",
    "\n",
    "\n",
    "def get_model():\n",
    "    model = keras.Sequential(\n",
    "        [\n",
    "            keras.Input(input_shape),\n",
    "            keras.layers.Conv2D(32, kernel_size=(3, 3), activation=\"relu\"),\n",
    "            keras.layers.MaxPooling2D(pool_size=(2, 2)),\n",
    "            keras.layers.Conv2D(64, kernel_size=(3, 3), activation=\"relu\"),\n",
    "            keras.layers.MaxPooling2D(pool_size=(2, 2)),\n",
    "            keras.layers.Flatten(),\n",
    "            keras.layers.Dropout(0.5),\n",
    "            keras.layers.Dense(num_classes, activation=\"softmax\"),\n",
    "        ]\n",
    "    )\n",
    "    model.compile(\n",
    "        loss=\"sparse_categorical_crossentropy\", optimizer=\"adam\"\n",
    "    )\n",
    "    return model"
   ]
  },
  {
   "cell_type": "markdown",
   "id": "b823ca4e",
   "metadata": {},
   "source": [
    "## 4. Keras benchmarks"
   ]
  },
  {
   "cell_type": "code",
   "execution_count": 6,
   "id": "118c18cd",
   "metadata": {
    "execution": {
     "iopub.execute_input": "2022-02-15T18:07:23.741473Z",
     "iopub.status.busy": "2022-02-15T18:07:23.740464Z",
     "iopub.status.idle": "2022-02-15T18:07:23.744827Z",
     "shell.execute_reply": "2022-02-15T18:07:23.744406Z"
    }
   },
   "outputs": [],
   "source": [
    "fit_kwargs = {\"batch_size\": 128, \"validation_split\": 0.1, \"verbose\": 0, \"epochs\": 5}"
   ]
  },
  {
   "cell_type": "code",
   "execution_count": 7,
   "id": "ae0268c9",
   "metadata": {
    "execution": {
     "iopub.execute_input": "2022-02-15T18:07:23.748817Z",
     "iopub.status.busy": "2022-02-15T18:07:23.747829Z",
     "iopub.status.idle": "2022-02-15T18:07:23.751906Z",
     "shell.execute_reply": "2022-02-15T18:07:23.751488Z"
    }
   },
   "outputs": [],
   "source": [
    "from sklearn.metrics import accuracy_score\n",
    "from scikeras.utils.random_state import tensorflow_random_state"
   ]
  },
  {
   "cell_type": "code",
   "execution_count": 8,
   "id": "15b8ed85",
   "metadata": {
    "execution": {
     "iopub.execute_input": "2022-02-15T18:07:23.755845Z",
     "iopub.status.busy": "2022-02-15T18:07:23.754887Z",
     "iopub.status.idle": "2022-02-15T18:07:31.311962Z",
     "shell.execute_reply": "2022-02-15T18:07:31.311393Z"
    }
   },
   "outputs": [
    {
     "name": "stdout",
     "output_type": "stream",
     "text": [
      "Training time: 7.27\n"
     ]
    },
    {
     "name": "stdout",
     "output_type": "stream",
     "text": [
      "Accuracy: 0.88\n"
     ]
    }
   ],
   "source": [
    "from time import time\n",
    "\n",
    "with tensorflow_random_state(seed=0):  # we force a TF random state to be able to compare accuracy\n",
    "    model = get_model()\n",
    "    start = time()\n",
    "    model.fit(x_train, y_train, **fit_kwargs)\n",
    "    print(f\"Training time: {time()-start:.2f}\")\n",
    "    y_pred = np.argmax(model.predict(x_test), axis=1)\n",
    "print(f\"Accuracy: {accuracy_score(y_test, y_pred)}\")"
   ]
  },
  {
   "cell_type": "markdown",
   "id": "67332e7b",
   "metadata": {},
   "source": [
    "## 5. SciKeras benchmark"
   ]
  },
  {
   "cell_type": "code",
   "execution_count": 9,
   "id": "a579e54b",
   "metadata": {
    "execution": {
     "iopub.execute_input": "2022-02-15T18:07:31.316583Z",
     "iopub.status.busy": "2022-02-15T18:07:31.315542Z",
     "iopub.status.idle": "2022-02-15T18:07:31.320226Z",
     "shell.execute_reply": "2022-02-15T18:07:31.319662Z"
    }
   },
   "outputs": [],
   "source": [
    "clf = KerasClassifier(\n",
    "    model=get_model,\n",
    "    random_state=0,\n",
    "    **fit_kwargs\n",
    ")"
   ]
  },
  {
   "cell_type": "code",
   "execution_count": 10,
   "id": "eb2983e3",
   "metadata": {
    "execution": {
     "iopub.execute_input": "2022-02-15T18:07:31.324221Z",
     "iopub.status.busy": "2022-02-15T18:07:31.323214Z",
     "iopub.status.idle": "2022-02-15T18:07:38.848222Z",
     "shell.execute_reply": "2022-02-15T18:07:38.847552Z"
    }
   },
   "outputs": [
    {
     "name": "stdout",
     "output_type": "stream",
     "text": [
      "Training time: 7.35\n",
      "Accuracy: 0.88\n"
     ]
    }
   ],
   "source": [
    "start = time()\n",
    "clf.fit(x_train, y_train)\n",
    "print(f\"Training time: {time()-start:.2f}\")\n",
    "y_pred = clf.predict(x_test)\n",
    "print(f\"Accuracy: {accuracy_score(y_test, y_pred)}\")"
   ]
  },
  {
   "cell_type": "markdown",
   "id": "45a21009",
   "metadata": {},
   "source": [
    "As you can see, the overhead for SciKeras is <1 sec, and the accuracy is identical."
   ]
  }
 ],
 "metadata": {
  "jupytext": {
   "formats": "ipynb,md"
  },
  "kernelspec": {
   "display_name": "Python 3",
   "language": "python",
   "name": "python3"
  },
  "language_info": {
   "codemirror_mode": {
    "name": "ipython",
    "version": 3
   },
   "file_extension": ".py",
   "mimetype": "text/x-python",
   "name": "python",
   "nbconvert_exporter": "python",
   "pygments_lexer": "ipython3",
   "version": "3.8.12"
  }
 },
 "nbformat": 4,
 "nbformat_minor": 5
}
