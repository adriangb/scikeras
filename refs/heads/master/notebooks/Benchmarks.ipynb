{
 "cells": [
  {
   "cell_type": "raw",
   "id": "b60c948b",
   "metadata": {},
   "source": [
    "<a href=\"https://colab.research.google.com/github/adriangb/scikeras/blob/docs-deploy/refs/heads/master/notebooks/Benchmarks.ipynb\"><img src=\"https://www.tensorflow.org/images/colab_logo_32px.png\">Run in Google Colab</a>"
   ]
  },
  {
   "cell_type": "markdown",
   "id": "8fcd0a7d",
   "metadata": {},
   "source": [
    "# SciKeras Benchmarks\n",
    "\n",
    "SciKeras wraps Keras Models, but does not alter their performance since all of the heavy lifting still happens within Keras/Tensorflow. In this notebook, we compare the performance and accuracy of a pure-Keras Model to the same model wrapped in SciKeras.\n",
    "\n",
    "## Table of contents\n",
    "\n",
    "* [1. Setup](#1.-Setup)\n",
    "* [2. Dataset](#2.-Dataset)\n",
    "* [3. Define Keras Model](#3.-Define-Keras-Model)\n",
    "* [4. Keras benchmarks](#4.-Keras-benchmarks)\n",
    "* [5. SciKeras benchmark](#5.-SciKeras-benchmark)\n",
    "\n",
    "## 1. Setup"
   ]
  },
  {
   "cell_type": "code",
   "execution_count": 1,
   "id": "0ef4baca",
   "metadata": {
    "execution": {
     "iopub.execute_input": "2022-05-11T20:08:32.898353Z",
     "iopub.status.busy": "2022-05-11T20:08:32.898087Z",
     "iopub.status.idle": "2022-05-11T20:08:34.987979Z",
     "shell.execute_reply": "2022-05-11T20:08:34.987392Z"
    }
   },
   "outputs": [],
   "source": [
    "try:\n",
    "    import scikeras\n",
    "except ImportError:\n",
    "    !python -m pip install scikeras[tensorflow]"
   ]
  },
  {
   "cell_type": "markdown",
   "id": "5f2e0f7d",
   "metadata": {},
   "source": [
    "Silence TensorFlow logging to keep output succinct."
   ]
  },
  {
   "cell_type": "code",
   "execution_count": 2,
   "id": "03b03c99",
   "metadata": {
    "execution": {
     "iopub.execute_input": "2022-05-11T20:08:34.995519Z",
     "iopub.status.busy": "2022-05-11T20:08:34.991024Z",
     "iopub.status.idle": "2022-05-11T20:08:34.999829Z",
     "shell.execute_reply": "2022-05-11T20:08:34.998786Z"
    }
   },
   "outputs": [],
   "source": [
    "import warnings\n",
    "from tensorflow import get_logger\n",
    "get_logger().setLevel('ERROR')\n",
    "warnings.filterwarnings(\"ignore\", message=\"Setting the random state for TF\")"
   ]
  },
  {
   "cell_type": "code",
   "execution_count": 3,
   "id": "529a1727",
   "metadata": {
    "execution": {
     "iopub.execute_input": "2022-05-11T20:08:35.002717Z",
     "iopub.status.busy": "2022-05-11T20:08:35.002190Z",
     "iopub.status.idle": "2022-05-11T20:08:35.334246Z",
     "shell.execute_reply": "2022-05-11T20:08:35.333657Z"
    }
   },
   "outputs": [],
   "source": [
    "import numpy as np\n",
    "from scikeras.wrappers import KerasClassifier, KerasRegressor\n",
    "from tensorflow import keras"
   ]
  },
  {
   "cell_type": "markdown",
   "id": "6abe54ef",
   "metadata": {},
   "source": [
    "## 2. Dataset\n",
    "\n",
    "We will be using the MNIST dataset available within Keras."
   ]
  },
  {
   "cell_type": "code",
   "execution_count": 4,
   "id": "72a7e745",
   "metadata": {
    "execution": {
     "iopub.execute_input": "2022-05-11T20:08:35.337378Z",
     "iopub.status.busy": "2022-05-11T20:08:35.337134Z",
     "iopub.status.idle": "2022-05-11T20:08:35.913118Z",
     "shell.execute_reply": "2022-05-11T20:08:35.912447Z"
    }
   },
   "outputs": [],
   "source": [
    "(x_train, y_train), (x_test, y_test) = keras.datasets.mnist.load_data()\n",
    "# Scale images to the [0, 1] range\n",
    "x_train = x_train.astype(\"float32\") / 255\n",
    "x_test = x_test.astype(\"float32\") / 255\n",
    "# Make sure images have shape (28, 28, 1)\n",
    "x_train = np.expand_dims(x_train, -1)\n",
    "x_test = np.expand_dims(x_test, -1)\n",
    "# Reduce dataset size for faster benchmarks\n",
    "x_train, y_train = x_train[:2000], y_train[:2000]\n",
    "x_test, y_test = x_test[:500], y_test[:500]"
   ]
  },
  {
   "cell_type": "markdown",
   "id": "54d7e7e6",
   "metadata": {},
   "source": [
    "## 3. Define Keras Model\n",
    "\n",
    "Next we will define our Keras model (adapted from [keras.io](https://keras.io/examples/vision/mnist_convnet/)):"
   ]
  },
  {
   "cell_type": "code",
   "execution_count": 5,
   "id": "e28a3954",
   "metadata": {
    "execution": {
     "iopub.execute_input": "2022-05-11T20:08:35.916397Z",
     "iopub.status.busy": "2022-05-11T20:08:35.916150Z",
     "iopub.status.idle": "2022-05-11T20:08:35.922740Z",
     "shell.execute_reply": "2022-05-11T20:08:35.922301Z"
    }
   },
   "outputs": [],
   "source": [
    "num_classes = 10\n",
    "input_shape = (28, 28, 1)\n",
    "\n",
    "\n",
    "def get_model():\n",
    "    model = keras.Sequential(\n",
    "        [\n",
    "            keras.Input(input_shape),\n",
    "            keras.layers.Conv2D(32, kernel_size=(3, 3), activation=\"relu\"),\n",
    "            keras.layers.MaxPooling2D(pool_size=(2, 2)),\n",
    "            keras.layers.Conv2D(64, kernel_size=(3, 3), activation=\"relu\"),\n",
    "            keras.layers.MaxPooling2D(pool_size=(2, 2)),\n",
    "            keras.layers.Flatten(),\n",
    "            keras.layers.Dropout(0.5),\n",
    "            keras.layers.Dense(num_classes, activation=\"softmax\"),\n",
    "        ]\n",
    "    )\n",
    "    model.compile(\n",
    "        loss=\"sparse_categorical_crossentropy\", optimizer=\"adam\"\n",
    "    )\n",
    "    return model"
   ]
  },
  {
   "cell_type": "markdown",
   "id": "0b210912",
   "metadata": {},
   "source": [
    "## 4. Keras benchmarks"
   ]
  },
  {
   "cell_type": "code",
   "execution_count": 6,
   "id": "3ddcda99",
   "metadata": {
    "execution": {
     "iopub.execute_input": "2022-05-11T20:08:35.925517Z",
     "iopub.status.busy": "2022-05-11T20:08:35.925172Z",
     "iopub.status.idle": "2022-05-11T20:08:35.930354Z",
     "shell.execute_reply": "2022-05-11T20:08:35.928442Z"
    }
   },
   "outputs": [],
   "source": [
    "fit_kwargs = {\"batch_size\": 128, \"validation_split\": 0.1, \"verbose\": 0, \"epochs\": 5}"
   ]
  },
  {
   "cell_type": "code",
   "execution_count": 7,
   "id": "086ac182",
   "metadata": {
    "execution": {
     "iopub.execute_input": "2022-05-11T20:08:35.935050Z",
     "iopub.status.busy": "2022-05-11T20:08:35.934519Z",
     "iopub.status.idle": "2022-05-11T20:08:35.942447Z",
     "shell.execute_reply": "2022-05-11T20:08:35.941865Z"
    }
   },
   "outputs": [],
   "source": [
    "from sklearn.metrics import accuracy_score\n",
    "from scikeras.utils.random_state import tensorflow_random_state"
   ]
  },
  {
   "cell_type": "code",
   "execution_count": 8,
   "id": "f836d623",
   "metadata": {
    "execution": {
     "iopub.execute_input": "2022-05-11T20:08:35.945009Z",
     "iopub.status.busy": "2022-05-11T20:08:35.944799Z",
     "iopub.status.idle": "2022-05-11T20:08:43.107361Z",
     "shell.execute_reply": "2022-05-11T20:08:43.106813Z"
    }
   },
   "outputs": [
    {
     "name": "stdout",
     "output_type": "stream",
     "text": [
      "Training time: 6.89\n"
     ]
    },
    {
     "name": "stdout",
     "output_type": "stream",
     "text": [
      "Accuracy: 0.88\n"
     ]
    }
   ],
   "source": [
    "from time import time\n",
    "\n",
    "with tensorflow_random_state(seed=0):  # we force a TF random state to be able to compare accuracy\n",
    "    model = get_model()\n",
    "    start = time()\n",
    "    model.fit(x_train, y_train, **fit_kwargs)\n",
    "    print(f\"Training time: {time()-start:.2f}\")\n",
    "    y_pred = np.argmax(model.predict(x_test), axis=1)\n",
    "print(f\"Accuracy: {accuracy_score(y_test, y_pred)}\")"
   ]
  },
  {
   "cell_type": "markdown",
   "id": "4231b14e",
   "metadata": {},
   "source": [
    "## 5. SciKeras benchmark"
   ]
  },
  {
   "cell_type": "code",
   "execution_count": 9,
   "id": "8ffd31d1",
   "metadata": {
    "execution": {
     "iopub.execute_input": "2022-05-11T20:08:43.111497Z",
     "iopub.status.busy": "2022-05-11T20:08:43.110240Z",
     "iopub.status.idle": "2022-05-11T20:08:43.118533Z",
     "shell.execute_reply": "2022-05-11T20:08:43.117940Z"
    }
   },
   "outputs": [],
   "source": [
    "clf = KerasClassifier(\n",
    "    model=get_model,\n",
    "    random_state=0,\n",
    "    **fit_kwargs\n",
    ")"
   ]
  },
  {
   "cell_type": "code",
   "execution_count": 10,
   "id": "5e7a7184",
   "metadata": {
    "execution": {
     "iopub.execute_input": "2022-05-11T20:08:43.121465Z",
     "iopub.status.busy": "2022-05-11T20:08:43.121139Z",
     "iopub.status.idle": "2022-05-11T20:08:49.864718Z",
     "shell.execute_reply": "2022-05-11T20:08:49.864156Z"
    }
   },
   "outputs": [
    {
     "name": "stdout",
     "output_type": "stream",
     "text": [
      "Training time: 6.59\n",
      "Accuracy: 0.88\n"
     ]
    }
   ],
   "source": [
    "start = time()\n",
    "clf.fit(x_train, y_train)\n",
    "print(f\"Training time: {time()-start:.2f}\")\n",
    "y_pred = clf.predict(x_test)\n",
    "print(f\"Accuracy: {accuracy_score(y_test, y_pred)}\")"
   ]
  },
  {
   "cell_type": "markdown",
   "id": "bf5ba8e3",
   "metadata": {},
   "source": [
    "As you can see, the overhead for SciKeras is <1 sec, and the accuracy is identical."
   ]
  }
 ],
 "metadata": {
  "jupytext": {
   "formats": "ipynb,md"
  },
  "kernelspec": {
   "display_name": "Python 3",
   "language": "python",
   "name": "python3"
  },
  "language_info": {
   "codemirror_mode": {
    "name": "ipython",
    "version": 3
   },
   "file_extension": ".py",
   "mimetype": "text/x-python",
   "name": "python",
   "nbconvert_exporter": "python",
   "pygments_lexer": "ipython3",
   "version": "3.8.12"
  }
 },
 "nbformat": 4,
 "nbformat_minor": 5
}
