{
 "cells": [
  {
   "cell_type": "raw",
   "id": "7792f026",
   "metadata": {},
   "source": [
    "<a href=\"https://colab.research.google.com/github/adriangb/scikeras/blob/docs-deploy/refs/heads/master/notebooks/Benchmarks.ipynb\"><img src=\"https://www.tensorflow.org/images/colab_logo_32px.png\">Run in Google Colab</a>"
   ]
  },
  {
   "cell_type": "markdown",
   "id": "aa769f94",
   "metadata": {},
   "source": [
    "# SciKeras Benchmarks\n",
    "\n",
    "SciKeras wraps Keras Models, but does not alter their performance since all of the heavy lifting still happens within Keras/Tensorflow. In this notebook, we compare the performance and accuracy of a pure-Keras Model to the same model wrapped in SciKeras.\n",
    "\n",
    "## Table of contents\n",
    "\n",
    "* [1. Setup](#1.-Setup)\n",
    "* [2. Dataset](#2.-Dataset)\n",
    "* [3. Define Keras Model](#3.-Define-Keras-Model)\n",
    "* [4. Keras benchmarks](#4.-Keras-benchmarks)\n",
    "* [5. SciKeras benchmark](#5.-SciKeras-benchmark)\n",
    "\n",
    "## 1. Setup"
   ]
  },
  {
   "cell_type": "code",
   "execution_count": 1,
   "id": "ba590d66",
   "metadata": {
    "execution": {
     "iopub.execute_input": "2021-08-30T17:44:29.478756Z",
     "iopub.status.busy": "2021-08-30T17:44:29.477734Z",
     "iopub.status.idle": "2021-08-30T17:44:31.684415Z",
     "shell.execute_reply": "2021-08-30T17:44:31.685412Z"
    }
   },
   "outputs": [],
   "source": [
    "try:\n",
    "    import scikeras\n",
    "except ImportError:\n",
    "    !python -m pip install scikeras"
   ]
  },
  {
   "cell_type": "markdown",
   "id": "e4830248",
   "metadata": {},
   "source": [
    "Silence TensorFlow logging to keep output succinct."
   ]
  },
  {
   "cell_type": "code",
   "execution_count": 2,
   "id": "d49e1be2",
   "metadata": {
    "execution": {
     "iopub.execute_input": "2021-08-30T17:44:31.690696Z",
     "iopub.status.busy": "2021-08-30T17:44:31.689097Z",
     "iopub.status.idle": "2021-08-30T17:44:31.695996Z",
     "shell.execute_reply": "2021-08-30T17:44:31.697072Z"
    }
   },
   "outputs": [],
   "source": [
    "import warnings\n",
    "from tensorflow import get_logger\n",
    "get_logger().setLevel('ERROR')\n",
    "warnings.filterwarnings(\"ignore\", message=\"Setting the random state for TF\")"
   ]
  },
  {
   "cell_type": "code",
   "execution_count": 3,
   "id": "f70286b2",
   "metadata": {
    "execution": {
     "iopub.execute_input": "2021-08-30T17:44:31.701438Z",
     "iopub.status.busy": "2021-08-30T17:44:31.700299Z",
     "iopub.status.idle": "2021-08-30T17:44:32.133540Z",
     "shell.execute_reply": "2021-08-30T17:44:32.134661Z"
    }
   },
   "outputs": [],
   "source": [
    "import numpy as np\n",
    "from scikeras.wrappers import KerasClassifier, KerasRegressor\n",
    "from tensorflow import keras"
   ]
  },
  {
   "cell_type": "markdown",
   "id": "82079ccf",
   "metadata": {},
   "source": [
    "## 2. Dataset\n",
    "\n",
    "We will be using the MNIST dataset available within Keras."
   ]
  },
  {
   "cell_type": "code",
   "execution_count": 4,
   "id": "1a5c01fa",
   "metadata": {
    "execution": {
     "iopub.execute_input": "2021-08-30T17:44:32.140112Z",
     "iopub.status.busy": "2021-08-30T17:44:32.137912Z",
     "iopub.status.idle": "2021-08-30T17:44:32.647623Z",
     "shell.execute_reply": "2021-08-30T17:44:32.648523Z"
    }
   },
   "outputs": [],
   "source": [
    "(x_train, y_train), (x_test, y_test) = keras.datasets.mnist.load_data()\n",
    "# Scale images to the [0, 1] range\n",
    "x_train = x_train.astype(\"float32\") / 255\n",
    "x_test = x_test.astype(\"float32\") / 255\n",
    "# Make sure images have shape (28, 28, 1)\n",
    "x_train = np.expand_dims(x_train, -1)\n",
    "x_test = np.expand_dims(x_test, -1)\n",
    "# Reduce dataset size for faster benchmarks\n",
    "x_train, y_train = x_train[:2000], y_train[:2000]\n",
    "x_test, y_test = x_test[:500], y_test[:500]"
   ]
  },
  {
   "cell_type": "markdown",
   "id": "f1a3abad",
   "metadata": {},
   "source": [
    "## 3. Define Keras Model\n",
    "\n",
    "Next we will define our Keras model (adapted from [keras.io](https://keras.io/examples/vision/mnist_convnet/)):"
   ]
  },
  {
   "cell_type": "code",
   "execution_count": 5,
   "id": "5158f7ea",
   "metadata": {
    "execution": {
     "iopub.execute_input": "2021-08-30T17:44:32.653157Z",
     "iopub.status.busy": "2021-08-30T17:44:32.651763Z",
     "iopub.status.idle": "2021-08-30T17:44:32.661125Z",
     "shell.execute_reply": "2021-08-30T17:44:32.662316Z"
    }
   },
   "outputs": [],
   "source": [
    "num_classes = 10\n",
    "input_shape = (28, 28, 1)\n",
    "\n",
    "\n",
    "def get_model():\n",
    "    model = keras.Sequential(\n",
    "        [\n",
    "            keras.Input(input_shape),\n",
    "            keras.layers.Conv2D(32, kernel_size=(3, 3), activation=\"relu\"),\n",
    "            keras.layers.MaxPooling2D(pool_size=(2, 2)),\n",
    "            keras.layers.Conv2D(64, kernel_size=(3, 3), activation=\"relu\"),\n",
    "            keras.layers.MaxPooling2D(pool_size=(2, 2)),\n",
    "            keras.layers.Flatten(),\n",
    "            keras.layers.Dropout(0.5),\n",
    "            keras.layers.Dense(num_classes, activation=\"softmax\"),\n",
    "        ]\n",
    "    )\n",
    "    model.compile(\n",
    "        loss=\"sparse_categorical_crossentropy\", optimizer=\"adam\"\n",
    "    )\n",
    "    return model"
   ]
  },
  {
   "cell_type": "markdown",
   "id": "1f3d1856",
   "metadata": {},
   "source": [
    "## 4. Keras benchmarks"
   ]
  },
  {
   "cell_type": "code",
   "execution_count": 6,
   "id": "6a55523f",
   "metadata": {
    "execution": {
     "iopub.execute_input": "2021-08-30T17:44:32.666455Z",
     "iopub.status.busy": "2021-08-30T17:44:32.665130Z",
     "iopub.status.idle": "2021-08-30T17:44:32.670591Z",
     "shell.execute_reply": "2021-08-30T17:44:32.671701Z"
    }
   },
   "outputs": [],
   "source": [
    "fit_kwargs = {\"batch_size\": 128, \"validation_split\": 0.1, \"verbose\": 0, \"epochs\": 5}"
   ]
  },
  {
   "cell_type": "code",
   "execution_count": 7,
   "id": "ee2a6a70",
   "metadata": {
    "execution": {
     "iopub.execute_input": "2021-08-30T17:44:32.675674Z",
     "iopub.status.busy": "2021-08-30T17:44:32.674379Z",
     "iopub.status.idle": "2021-08-30T17:44:32.680538Z",
     "shell.execute_reply": "2021-08-30T17:44:32.679982Z"
    }
   },
   "outputs": [],
   "source": [
    "from sklearn.metrics import accuracy_score\n",
    "from scikeras._utils import TFRandomState"
   ]
  },
  {
   "cell_type": "code",
   "execution_count": 8,
   "id": "0b740630",
   "metadata": {
    "execution": {
     "iopub.execute_input": "2021-08-30T17:44:32.687197Z",
     "iopub.status.busy": "2021-08-30T17:44:32.686651Z",
     "iopub.status.idle": "2021-08-30T17:44:39.933378Z",
     "shell.execute_reply": "2021-08-30T17:44:39.934152Z"
    }
   },
   "outputs": [
    {
     "name": "stdout",
     "output_type": "stream",
     "text": [
      "Training time: 6.96\n"
     ]
    },
    {
     "name": "stdout",
     "output_type": "stream",
     "text": [
      "Accuracy: 0.882\n"
     ]
    }
   ],
   "source": [
    "from time import time\n",
    "\n",
    "with TFRandomState(seed=0):  # we force a TF random state to be able to compare accuracy\n",
    "    model = get_model()\n",
    "    start = time()\n",
    "    model.fit(x_train, y_train, **fit_kwargs)\n",
    "    print(f\"Training time: {time()-start:.2f}\")\n",
    "    y_pred = np.argmax(model.predict(x_test), axis=1)\n",
    "print(f\"Accuracy: {accuracy_score(y_test, y_pred)}\")"
   ]
  },
  {
   "cell_type": "markdown",
   "id": "f96c76ff",
   "metadata": {},
   "source": [
    "## 5. SciKeras benchmark"
   ]
  },
  {
   "cell_type": "code",
   "execution_count": 9,
   "id": "4920b4ac",
   "metadata": {
    "execution": {
     "iopub.execute_input": "2021-08-30T17:44:39.937985Z",
     "iopub.status.busy": "2021-08-30T17:44:39.936873Z",
     "iopub.status.idle": "2021-08-30T17:44:39.941405Z",
     "shell.execute_reply": "2021-08-30T17:44:39.942226Z"
    }
   },
   "outputs": [],
   "source": [
    "clf = KerasClassifier(\n",
    "    model=get_model,\n",
    "    random_state=0,\n",
    "    **fit_kwargs\n",
    ")"
   ]
  },
  {
   "cell_type": "code",
   "execution_count": 10,
   "id": "4f2a823c",
   "metadata": {
    "execution": {
     "iopub.execute_input": "2021-08-30T17:44:39.945763Z",
     "iopub.status.busy": "2021-08-30T17:44:39.944682Z",
     "iopub.status.idle": "2021-08-30T17:44:47.777667Z",
     "shell.execute_reply": "2021-08-30T17:44:47.778481Z"
    }
   },
   "outputs": [
    {
     "name": "stdout",
     "output_type": "stream",
     "text": [
      "Training time: 7.63\n",
      "Accuracy: 0.882\n"
     ]
    }
   ],
   "source": [
    "start = time()\n",
    "clf.fit(x_train, y_train)\n",
    "print(f\"Training time: {time()-start:.2f}\")\n",
    "y_pred = clf.predict(x_test)\n",
    "print(f\"Accuracy: {accuracy_score(y_test, y_pred)}\")"
   ]
  },
  {
   "cell_type": "markdown",
   "id": "b8b01a2f",
   "metadata": {},
   "source": [
    "As you can see, the overhead for SciKeras is <1 sec, and the accuracy is identical."
   ]
  }
 ],
 "metadata": {
  "jupytext": {
   "formats": "ipynb,md"
  },
  "kernelspec": {
   "display_name": "Python 3",
   "language": "python",
   "name": "python3"
  },
  "language_info": {
   "codemirror_mode": {
    "name": "ipython",
    "version": 3
   },
   "file_extension": ".py",
   "mimetype": "text/x-python",
   "name": "python",
   "nbconvert_exporter": "python",
   "pygments_lexer": "ipython3",
   "version": "3.8.11"
  }
 },
 "nbformat": 4,
 "nbformat_minor": 5
}
