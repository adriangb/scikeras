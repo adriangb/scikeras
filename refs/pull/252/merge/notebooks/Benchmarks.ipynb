{
 "cells": [
  {
   "cell_type": "raw",
   "id": "72092232",
   "metadata": {},
   "source": [
    "<a href=\"https://colab.research.google.com/github/adriangb/scikeras/blob/docs-deploy/refs/heads/master/notebooks/Benchmarks.ipynb\"><img src=\"https://www.tensorflow.org/images/colab_logo_32px.png\">Run in Google Colab</a>"
   ]
  },
  {
   "cell_type": "markdown",
   "id": "393dfcc6",
   "metadata": {},
   "source": [
    "# SciKeras Benchmarks\n",
    "\n",
    "SciKeras wraps Keras Models, but does not alter their performance since all of the heavy lifting still happens within Keras/Tensorflow. In this notebook, we compare the performance and accuracy of a pure-Keras Model to the same model wrapped in SciKeras.\n",
    "\n",
    "## Table of contents\n",
    "\n",
    "* [1. Setup](#1.-Setup)\n",
    "* [2. Dataset](#2.-Dataset)\n",
    "* [3. Define Keras Model](#3.-Define-Keras-Model)\n",
    "* [4. Keras benchmarks](#4.-Keras-benchmarks)\n",
    "* [5. SciKeras benchmark](#5.-SciKeras-benchmark)\n",
    "\n",
    "## 1. Setup"
   ]
  },
  {
   "cell_type": "code",
   "execution_count": 1,
   "id": "d79072d2",
   "metadata": {
    "execution": {
     "iopub.execute_input": "2021-11-09T22:41:30.831719Z",
     "iopub.status.busy": "2021-11-09T22:41:30.831011Z",
     "iopub.status.idle": "2021-11-09T22:41:33.618205Z",
     "shell.execute_reply": "2021-11-09T22:41:33.619085Z"
    }
   },
   "outputs": [],
   "source": [
    "try:\n",
    "    import scikeras\n",
    "except ImportError:\n",
    "    !python -m pip install scikeras"
   ]
  },
  {
   "cell_type": "markdown",
   "id": "d3c9c316",
   "metadata": {},
   "source": [
    "Silence TensorFlow logging to keep output succinct."
   ]
  },
  {
   "cell_type": "code",
   "execution_count": 2,
   "id": "e92cf1b9",
   "metadata": {
    "execution": {
     "iopub.execute_input": "2021-11-09T22:41:33.623440Z",
     "iopub.status.busy": "2021-11-09T22:41:33.622182Z",
     "iopub.status.idle": "2021-11-09T22:41:33.629423Z",
     "shell.execute_reply": "2021-11-09T22:41:33.630474Z"
    }
   },
   "outputs": [],
   "source": [
    "import warnings\n",
    "from tensorflow import get_logger\n",
    "get_logger().setLevel('ERROR')\n",
    "warnings.filterwarnings(\"ignore\", message=\"Setting the random state for TF\")"
   ]
  },
  {
   "cell_type": "code",
   "execution_count": 3,
   "id": "b55a6749",
   "metadata": {
    "execution": {
     "iopub.execute_input": "2021-11-09T22:41:33.635065Z",
     "iopub.status.busy": "2021-11-09T22:41:33.633213Z",
     "iopub.status.idle": "2021-11-09T22:41:34.308331Z",
     "shell.execute_reply": "2021-11-09T22:41:34.309301Z"
    }
   },
   "outputs": [],
   "source": [
    "import numpy as np\n",
    "from scikeras.wrappers import KerasClassifier, KerasRegressor\n",
    "from tensorflow import keras"
   ]
  },
  {
   "cell_type": "markdown",
   "id": "1f83190b",
   "metadata": {},
   "source": [
    "## 2. Dataset\n",
    "\n",
    "We will be using the MNIST dataset available within Keras."
   ]
  },
  {
   "cell_type": "code",
   "execution_count": 4,
   "id": "5094c666",
   "metadata": {
    "execution": {
     "iopub.execute_input": "2021-11-09T22:41:34.322674Z",
     "iopub.status.busy": "2021-11-09T22:41:34.321327Z",
     "iopub.status.idle": "2021-11-09T22:41:34.867750Z",
     "shell.execute_reply": "2021-11-09T22:41:34.868572Z"
    }
   },
   "outputs": [],
   "source": [
    "(x_train, y_train), (x_test, y_test) = keras.datasets.mnist.load_data()\n",
    "# Scale images to the [0, 1] range\n",
    "x_train = x_train.astype(\"float32\") / 255\n",
    "x_test = x_test.astype(\"float32\") / 255\n",
    "# Make sure images have shape (28, 28, 1)\n",
    "x_train = np.expand_dims(x_train, -1)\n",
    "x_test = np.expand_dims(x_test, -1)\n",
    "# Reduce dataset size for faster benchmarks\n",
    "x_train, y_train = x_train[:2000], y_train[:2000]\n",
    "x_test, y_test = x_test[:500], y_test[:500]"
   ]
  },
  {
   "cell_type": "markdown",
   "id": "be1f7c40",
   "metadata": {},
   "source": [
    "## 3. Define Keras Model\n",
    "\n",
    "Next we will define our Keras model (adapted from [keras.io](https://keras.io/examples/vision/mnist_convnet/)):"
   ]
  },
  {
   "cell_type": "code",
   "execution_count": 5,
   "id": "3659708a",
   "metadata": {
    "execution": {
     "iopub.execute_input": "2021-11-09T22:41:34.873969Z",
     "iopub.status.busy": "2021-11-09T22:41:34.872498Z",
     "iopub.status.idle": "2021-11-09T22:41:34.889672Z",
     "shell.execute_reply": "2021-11-09T22:41:34.890159Z"
    }
   },
   "outputs": [],
   "source": [
    "num_classes = 10\n",
    "input_shape = (28, 28, 1)\n",
    "\n",
    "\n",
    "def get_model():\n",
    "    model = keras.Sequential(\n",
    "        [\n",
    "            keras.Input(input_shape),\n",
    "            keras.layers.Conv2D(32, kernel_size=(3, 3), activation=\"relu\"),\n",
    "            keras.layers.MaxPooling2D(pool_size=(2, 2)),\n",
    "            keras.layers.Conv2D(64, kernel_size=(3, 3), activation=\"relu\"),\n",
    "            keras.layers.MaxPooling2D(pool_size=(2, 2)),\n",
    "            keras.layers.Flatten(),\n",
    "            keras.layers.Dropout(0.5),\n",
    "            keras.layers.Dense(num_classes, activation=\"softmax\"),\n",
    "        ]\n",
    "    )\n",
    "    model.compile(\n",
    "        loss=\"sparse_categorical_crossentropy\", optimizer=\"adam\"\n",
    "    )\n",
    "    return model"
   ]
  },
  {
   "cell_type": "markdown",
   "id": "87cefd3c",
   "metadata": {},
   "source": [
    "## 4. Keras benchmarks"
   ]
  },
  {
   "cell_type": "code",
   "execution_count": 6,
   "id": "31aa15a2",
   "metadata": {
    "execution": {
     "iopub.execute_input": "2021-11-09T22:41:34.902849Z",
     "iopub.status.busy": "2021-11-09T22:41:34.901386Z",
     "iopub.status.idle": "2021-11-09T22:41:34.903466Z",
     "shell.execute_reply": "2021-11-09T22:41:34.903982Z"
    }
   },
   "outputs": [],
   "source": [
    "fit_kwargs = {\"batch_size\": 128, \"validation_split\": 0.1, \"verbose\": 0, \"epochs\": 5}"
   ]
  },
  {
   "cell_type": "code",
   "execution_count": 7,
   "id": "6540cab5",
   "metadata": {
    "execution": {
     "iopub.execute_input": "2021-11-09T22:41:34.914155Z",
     "iopub.status.busy": "2021-11-09T22:41:34.908605Z",
     "iopub.status.idle": "2021-11-09T22:41:34.915707Z",
     "shell.execute_reply": "2021-11-09T22:41:34.915077Z"
    }
   },
   "outputs": [],
   "source": [
    "from sklearn.metrics import accuracy_score\n",
    "from scikeras._utils import tensorflow_random_state"
   ]
  },
  {
   "cell_type": "code",
   "execution_count": 8,
   "id": "27d01fee",
   "metadata": {
    "execution": {
     "iopub.execute_input": "2021-11-09T22:41:34.927229Z",
     "iopub.status.busy": "2021-11-09T22:41:34.926622Z",
     "iopub.status.idle": "2021-11-09T22:41:47.357825Z",
     "shell.execute_reply": "2021-11-09T22:41:47.358980Z"
    }
   },
   "outputs": [
    {
     "name": "stdout",
     "output_type": "stream",
     "text": [
      "Training time: 12.00\n"
     ]
    },
    {
     "name": "stdout",
     "output_type": "stream",
     "text": [
      "Accuracy: 0.88\n"
     ]
    }
   ],
   "source": [
    "from time import time\n",
    "\n",
    "with tensorflow_random_state(seed=0):  # we force a TF random state to be able to compare accuracy\n",
    "    model = get_model()\n",
    "    start = time()\n",
    "    model.fit(x_train, y_train, **fit_kwargs)\n",
    "    print(f\"Training time: {time()-start:.2f}\")\n",
    "    y_pred = np.argmax(model.predict(x_test), axis=1)\n",
    "print(f\"Accuracy: {accuracy_score(y_test, y_pred)}\")"
   ]
  },
  {
   "cell_type": "markdown",
   "id": "e46e317a",
   "metadata": {},
   "source": [
    "## 5. SciKeras benchmark"
   ]
  },
  {
   "cell_type": "code",
   "execution_count": 9,
   "id": "e20549d7",
   "metadata": {
    "execution": {
     "iopub.execute_input": "2021-11-09T22:41:47.364118Z",
     "iopub.status.busy": "2021-11-09T22:41:47.362385Z",
     "iopub.status.idle": "2021-11-09T22:41:47.369965Z",
     "shell.execute_reply": "2021-11-09T22:41:47.371039Z"
    }
   },
   "outputs": [],
   "source": [
    "clf = KerasClassifier(\n",
    "    model=get_model,\n",
    "    random_state=0,\n",
    "    **fit_kwargs\n",
    ")"
   ]
  },
  {
   "cell_type": "code",
   "execution_count": 10,
   "id": "6fa855b8",
   "metadata": {
    "execution": {
     "iopub.execute_input": "2021-11-09T22:41:47.375543Z",
     "iopub.status.busy": "2021-11-09T22:41:47.374111Z",
     "iopub.status.idle": "2021-11-09T22:42:09.149488Z",
     "shell.execute_reply": "2021-11-09T22:42:09.148939Z"
    }
   },
   "outputs": [
    {
     "name": "stdout",
     "output_type": "stream",
     "text": [
      "Training time: 21.52\n"
     ]
    },
    {
     "name": "stdout",
     "output_type": "stream",
     "text": [
      "Accuracy: 0.88\n"
     ]
    }
   ],
   "source": [
    "start = time()\n",
    "clf.fit(x_train, y_train)\n",
    "print(f\"Training time: {time()-start:.2f}\")\n",
    "y_pred = clf.predict(x_test)\n",
    "print(f\"Accuracy: {accuracy_score(y_test, y_pred)}\")"
   ]
  },
  {
   "cell_type": "markdown",
   "id": "4fccfd28",
   "metadata": {},
   "source": [
    "As you can see, the overhead for SciKeras is <1 sec, and the accuracy is identical."
   ]
  }
 ],
 "metadata": {
  "jupytext": {
   "formats": "ipynb,md"
  },
  "kernelspec": {
   "display_name": "Python 3",
   "language": "python",
   "name": "python3"
  },
  "language_info": {
   "codemirror_mode": {
    "name": "ipython",
    "version": 3
   },
   "file_extension": ".py",
   "mimetype": "text/x-python",
   "name": "python",
   "nbconvert_exporter": "python",
   "pygments_lexer": "ipython3",
   "version": "3.8.12"
  }
 },
 "nbformat": 4,
 "nbformat_minor": 5
}
