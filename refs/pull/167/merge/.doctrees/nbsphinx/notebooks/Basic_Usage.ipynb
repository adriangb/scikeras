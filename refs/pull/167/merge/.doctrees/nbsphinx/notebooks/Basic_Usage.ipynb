{
 "cells": [
  {
   "cell_type": "raw",
   "id": "confirmed-triumph",
   "metadata": {},
   "source": [
    "<a href=\"https://colab.research.google.com/github/adriangb/scikeras/blob/docs-deploy/refs/heads/master/notebooks/Basic_Usage.ipynb\"><img src=\"https://www.tensorflow.org/images/colab_logo_32px.png\">Run in Google Colab</a>"
   ]
  },
  {
   "cell_type": "markdown",
   "id": "studied-baking",
   "metadata": {},
   "source": [
    "# Basic usage\n",
    "\n",
    "`SciKeras` is designed to maximize interoperability between `sklearn` and `Keras/TensorFlow`. The aim is to keep 99% of the flexibility of `Keras` while being able to leverage most features of `sklearn`. Below, we show the basic usage of `SciKeras` and how it can be combined with `sklearn`.\n",
    "\n",
    "This notebook shows you how to use the basic functionality of `SciKeras`.\n",
    "\n",
    "## Table of contents\n",
    "\n",
    "* [1. Setup](#1.-Setup)\n",
    "* [2. Training a classifier and making predictions](#2.-Training-a-classifier-and-making-predictions)\n",
    "  * [2.1 A toy binary classification task](#2.1-A-toy-binary-classification-task)\n",
    "  * [2.2 Definition of the Keras classification Model](#2.2-Definition-of-the-Keras-classification-Model)\n",
    "  * [2.3 Defining and training the neural net classifier](#2.3-Defining-and-training-the-neural-net-classifier)\n",
    "  * [2.4 Making predictions, classification](#2.4-Making-predictions-classification)\n",
    "* [3 Training a regressor](#3.-Training-a-regressor)\n",
    "  * [3.1 A toy regression task](#3.1-A-toy-regression-task)\n",
    "  * [3.2 Definition of the Keras regression Model](#3.2-Definition-of-the-Keras-regression-Model)\n",
    "  * [3.3 Defining and training the neural net regressor](#3.3-Defining-and-training-the-neural-net-regressor)\n",
    "  * [3.4 Making predictions, regression](#3.4-Making-predictions-regression)\n",
    "* [4. Saving and loading a model](#4.-Saving-and-loading-a-model)\n",
    "  * [4.1 Saving the whole model](#4.1-Saving-the-whole-model)\n",
    "  * [4.2 Saving using Keras' saving methods](#4.2-Saving-using-Keras-saving-methods)\n",
    "* [5. Usage with an sklearn Pipeline](#5.-Usage-with-an-sklearn-Pipeline)\n",
    "* [6. Callbacks](#6.-Callbacks)\n",
    "* [7. Usage with sklearn GridSearchCV](#7.-Usage-with-sklearn-GridSearchCV)\n",
    "  * [7.1 Special prefixes](#7.1-Special-prefixes)\n",
    "  * [7.2 Performing a grid search](#7.2-Performing-a-grid-search)\n",
    "\n",
    "## 1. Setup"
   ]
  },
  {
   "cell_type": "code",
   "execution_count": 1,
   "id": "acknowledged-terrain",
   "metadata": {
    "execution": {
     "iopub.execute_input": "2021-01-27T20:00:45.648367Z",
     "iopub.status.busy": "2021-01-27T20:00:45.647635Z",
     "iopub.status.idle": "2021-01-27T20:00:50.562371Z",
     "shell.execute_reply": "2021-01-27T20:00:50.562887Z"
    }
   },
   "outputs": [],
   "source": [
    "try:\n",
    "    import scikeras\n",
    "except ImportError:\n",
    "    !python -m pip install scikeras"
   ]
  },
  {
   "cell_type": "markdown",
   "id": "hazardous-arnold",
   "metadata": {},
   "source": [
    "Silence TensorFlow logging to keep output succinct."
   ]
  },
  {
   "cell_type": "code",
   "execution_count": 2,
   "id": "municipal-stewart",
   "metadata": {
    "execution": {
     "iopub.execute_input": "2021-01-27T20:00:50.568555Z",
     "iopub.status.busy": "2021-01-27T20:00:50.567908Z",
     "iopub.status.idle": "2021-01-27T20:00:50.572565Z",
     "shell.execute_reply": "2021-01-27T20:00:50.571464Z"
    }
   },
   "outputs": [],
   "source": [
    "import warnings\n",
    "from tensorflow import get_logger\n",
    "get_logger().setLevel('ERROR')\n",
    "warnings.filterwarnings(\"ignore\", message=\"Setting the random state for TF\")"
   ]
  },
  {
   "cell_type": "code",
   "execution_count": 3,
   "id": "experienced-collector",
   "metadata": {
    "execution": {
     "iopub.execute_input": "2021-01-27T20:00:50.577644Z",
     "iopub.status.busy": "2021-01-27T20:00:50.575990Z",
     "iopub.status.idle": "2021-01-27T20:00:51.585397Z",
     "shell.execute_reply": "2021-01-27T20:00:51.586039Z"
    }
   },
   "outputs": [],
   "source": [
    "import numpy as np\n",
    "from scikeras.wrappers import KerasClassifier, KerasRegressor\n",
    "from tensorflow import keras"
   ]
  },
  {
   "cell_type": "markdown",
   "id": "going-accordance",
   "metadata": {},
   "source": [
    "## 2. Training a classifier and making predictions\n",
    "\n",
    "### 2.1 A toy binary classification task\n",
    "\n",
    "We load a toy classification task from `sklearn`."
   ]
  },
  {
   "cell_type": "code",
   "execution_count": 4,
   "id": "critical-timing",
   "metadata": {
    "execution": {
     "iopub.execute_input": "2021-01-27T20:00:51.589100Z",
     "iopub.status.busy": "2021-01-27T20:00:51.588473Z",
     "iopub.status.idle": "2021-01-27T20:00:51.618057Z",
     "shell.execute_reply": "2021-01-27T20:00:51.618646Z"
    }
   },
   "outputs": [],
   "source": [
    "import numpy as np\n",
    "from sklearn.datasets import make_classification"
   ]
  },
  {
   "cell_type": "code",
   "execution_count": 5,
   "id": "framed-flower",
   "metadata": {
    "execution": {
     "iopub.execute_input": "2021-01-27T20:00:51.621477Z",
     "iopub.status.busy": "2021-01-27T20:00:51.620858Z",
     "iopub.status.idle": "2021-01-27T20:00:51.627078Z",
     "shell.execute_reply": "2021-01-27T20:00:51.627681Z"
    }
   },
   "outputs": [],
   "source": [
    "X, y = make_classification(1000, 20, n_informative=10, random_state=0)"
   ]
  },
  {
   "cell_type": "code",
   "execution_count": 6,
   "id": "laden-minneapolis",
   "metadata": {
    "execution": {
     "iopub.execute_input": "2021-01-27T20:00:51.639233Z",
     "iopub.status.busy": "2021-01-27T20:00:51.637587Z",
     "iopub.status.idle": "2021-01-27T20:00:51.645756Z",
     "shell.execute_reply": "2021-01-27T20:00:51.647117Z"
    }
   },
   "outputs": [
    {
     "data": {
      "text/plain": [
       "((1000, 20), (1000,), 0.5)"
      ]
     },
     "execution_count": 1,
     "metadata": {},
     "output_type": "execute_result"
    }
   ],
   "source": [
    "X.shape, y.shape, y.mean()"
   ]
  },
  {
   "cell_type": "markdown",
   "id": "aging-trademark",
   "metadata": {},
   "source": [
    "### 2.2 Definition of the Keras classification Model\n",
    "\n",
    "We define a vanilla neural network with.\n",
    "\n",
    "Because we are dealing with 2 classes, the output layer can be constructed in\n",
    "two different ways:\n",
    "\n",
    "1. Single unit with a `\"sigmoid\"` nonlinearity. The loss must be `\"binary_crossentropy\"`.\n",
    "2. Two units (one for each class) and a `\"softmax\"` nonlinearity. The loss must be `\"sparse_categorical_crossentropy\"`.\n",
    "\n",
    "In this example, we choose the first option, which is what you would usually\n",
    "do for binary classification. The second option is usually reserved for when\n",
    "you have >2 classes."
   ]
  },
  {
   "cell_type": "code",
   "execution_count": 7,
   "id": "prescribed-anthropology",
   "metadata": {
    "execution": {
     "iopub.execute_input": "2021-01-27T20:00:51.651797Z",
     "iopub.status.busy": "2021-01-27T20:00:51.651146Z",
     "iopub.status.idle": "2021-01-27T20:00:51.654597Z",
     "shell.execute_reply": "2021-01-27T20:00:51.655360Z"
    }
   },
   "outputs": [],
   "source": [
    "from tensorflow import keras"
   ]
  },
  {
   "cell_type": "code",
   "execution_count": 8,
   "id": "powerful-villa",
   "metadata": {
    "execution": {
     "iopub.execute_input": "2021-01-27T20:00:51.662398Z",
     "iopub.status.busy": "2021-01-27T20:00:51.661748Z",
     "iopub.status.idle": "2021-01-27T20:00:51.665425Z",
     "shell.execute_reply": "2021-01-27T20:00:51.666239Z"
    }
   },
   "outputs": [],
   "source": [
    "def get_clf(meta, hidden_layer_sizes, dropout):\n",
    "    n_features_in_ = meta[\"n_features_in_\"]\n",
    "    n_classes_ = meta[\"n_classes_\"]\n",
    "    model = keras.models.Sequential()\n",
    "    model.add(keras.layers.Input(shape=(n_features_in_,)))\n",
    "    for hidden_layer_size in hidden_layer_sizes:\n",
    "        model.add(keras.layers.Dense(hidden_layer_size, activation=\"relu\"))\n",
    "        model.add(keras.layers.Dropout(dropout))\n",
    "    model.add(keras.layers.Dense(1, activation=\"sigmoid\"))\n",
    "    return model"
   ]
  },
  {
   "cell_type": "markdown",
   "id": "appreciated-victoria",
   "metadata": {},
   "source": [
    "### 2.3 Defining and training the neural net classifier\n",
    "\n",
    "We use `KerasClassifier` because we're dealing with a classifcation task. The first argument should be a callable returning a `Keras.Model`, in this case, `get_clf`. As additional arguments, we pass the number of loss function (required) and the optimizer, but the later is optional. We must also pass all of the arguments to `get_clf` as keyword arguments to `KerasClassifier` if they don't have a default value in `get_clf`. Note that if you do not pass an argument to `KerasClassifier`, it will not be avilable for hyperparameter tuning. Finally, we also pass `random_state=0` for reproducible results."
   ]
  },
  {
   "cell_type": "code",
   "execution_count": 9,
   "id": "worthy-conviction",
   "metadata": {
    "execution": {
     "iopub.execute_input": "2021-01-27T20:00:51.670766Z",
     "iopub.status.busy": "2021-01-27T20:00:51.669935Z",
     "iopub.status.idle": "2021-01-27T20:00:51.674814Z",
     "shell.execute_reply": "2021-01-27T20:00:51.675657Z"
    }
   },
   "outputs": [],
   "source": [
    "from scikeras.wrappers import KerasClassifier"
   ]
  },
  {
   "cell_type": "code",
   "execution_count": 10,
   "id": "offensive-cleaners",
   "metadata": {
    "execution": {
     "iopub.execute_input": "2021-01-27T20:00:51.680414Z",
     "iopub.status.busy": "2021-01-27T20:00:51.679785Z",
     "iopub.status.idle": "2021-01-27T20:00:51.683827Z",
     "shell.execute_reply": "2021-01-27T20:00:51.683262Z"
    }
   },
   "outputs": [],
   "source": [
    "clf = KerasClassifier(\n",
    "    model=get_clf,\n",
    "    loss=\"binary_crossentropy\",\n",
    "    optimizer=\"adam\",\n",
    "    hidden_layer_sizes=(100,),\n",
    "    dropout=0.5,\n",
    ")"
   ]
  },
  {
   "cell_type": "markdown",
   "id": "junior-convention",
   "metadata": {},
   "source": [
    "As in `sklearn`, we call `fit` passing the input data `X` and the targets `y`."
   ]
  },
  {
   "cell_type": "code",
   "execution_count": 11,
   "id": "cognitive-cleanup",
   "metadata": {
    "execution": {
     "iopub.execute_input": "2021-01-27T20:00:51.688878Z",
     "iopub.status.busy": "2021-01-27T20:00:51.687753Z",
     "iopub.status.idle": "2021-01-27T20:00:52.307306Z",
     "shell.execute_reply": "2021-01-27T20:00:52.308308Z"
    }
   },
   "outputs": [
    {
     "name": "stdout",
     "output_type": "stream",
     "text": [
      "\r",
      " 1/32 [..............................] - ETA: 14s - loss: 0.8892"
     ]
    },
    {
     "name": "stdout",
     "output_type": "stream",
     "text": [
      "\b\b\b\b\b\b\b\b\b\b\b\b\b\b\b\b\b\b\b\b\b\b\b\b\b\b\b\b\b\b\b\b\b\b\b\b\b\b\b\b\b\b\b\b\b\b\b\b\b\b\b\b\b\b\b\b\b\b\b\b\b\b\b\b\r",
      "32/32 [==============================] - 1s 1ms/step - loss: 0.7747\n"
     ]
    },
    {
     "data": {
      "text/plain": [
       "KerasClassifier(\n",
       "\tmodel=<function get_clf at 0x7fa5584501f0>\n",
       "\tbuild_fn=None\n",
       "\twarm_start=False\n",
       "\trandom_state=None\n",
       "\toptimizer=adam\n",
       "\tloss=binary_crossentropy\n",
       "\tmetrics=None\n",
       "\tbatch_size=None\n",
       "\tverbose=1\n",
       "\tcallbacks=None\n",
       "\tvalidation_split=0.0\n",
       "\tshuffle=True\n",
       "\trun_eagerly=False\n",
       "\tepochs=1\n",
       "\thidden_layer_sizes=(100,)\n",
       "\tdropout=0.5\n",
       "\tclass_weight=None\n",
       ")"
      ]
     },
     "execution_count": 1,
     "metadata": {},
     "output_type": "execute_result"
    }
   ],
   "source": [
    "clf.fit(X, y)"
   ]
  },
  {
   "cell_type": "markdown",
   "id": "inclusive-local",
   "metadata": {},
   "source": [
    "Also, as in `sklearn`, you may call `predict` or `predict_proba` on the fitted model.\n",
    "\n",
    "### 2.4 Making predictions, classification"
   ]
  },
  {
   "cell_type": "code",
   "execution_count": 12,
   "id": "illegal-variety",
   "metadata": {
    "execution": {
     "iopub.execute_input": "2021-01-27T20:00:52.313079Z",
     "iopub.status.busy": "2021-01-27T20:00:52.311752Z",
     "iopub.status.idle": "2021-01-27T20:00:52.447972Z",
     "shell.execute_reply": "2021-01-27T20:00:52.448771Z"
    }
   },
   "outputs": [
    {
     "name": "stdout",
     "output_type": "stream",
     "text": [
      "\r",
      "1/1 [==============================] - ETA: 0s"
     ]
    },
    {
     "name": "stdout",
     "output_type": "stream",
     "text": [
      "\b\b\b\b\b\b\b\b\b\b\b\b\b\b\b\b\b\b\b\b\b\b\b\b\b\b\b\b\b\b\b\b\b\b\b\b\b\b\b\b\b\b\b\b\b\b\r",
      "1/1 [==============================] - 0s 89ms/step\n"
     ]
    },
    {
     "data": {
      "text/plain": [
       "array([1, 0, 0, 0, 0])"
      ]
     },
     "execution_count": 1,
     "metadata": {},
     "output_type": "execute_result"
    }
   ],
   "source": [
    "y_pred = clf.predict(X[:5])\n",
    "y_pred"
   ]
  },
  {
   "cell_type": "code",
   "execution_count": 13,
   "id": "annual-electronics",
   "metadata": {
    "execution": {
     "iopub.execute_input": "2021-01-27T20:00:52.454955Z",
     "iopub.status.busy": "2021-01-27T20:00:52.453446Z",
     "iopub.status.idle": "2021-01-27T20:00:52.517623Z",
     "shell.execute_reply": "2021-01-27T20:00:52.518608Z"
    }
   },
   "outputs": [
    {
     "name": "stdout",
     "output_type": "stream",
     "text": [
      "\r",
      "1/1 [==============================] - ETA: 0s"
     ]
    },
    {
     "name": "stdout",
     "output_type": "stream",
     "text": [
      "\b\b\b\b\b\b\b\b\b\b\b\b\b\b\b\b\b\b\b\b\b\b\b\b\b\b\b\b\b\b\b\b\b\b\b\b\b\b\b\b\b\b\b\b\b\b\r",
      "1/1 [==============================] - 0s 22ms/step\n"
     ]
    },
    {
     "data": {
      "text/plain": [
       "array([[0.2832514 , 0.7167486 ],\n",
       "       [0.775077  , 0.22492298],\n",
       "       [0.7568027 , 0.24319735],\n",
       "       [0.8461834 , 0.15381658],\n",
       "       [0.50073755, 0.49926242]], dtype=float32)"
      ]
     },
     "execution_count": 1,
     "metadata": {},
     "output_type": "execute_result"
    }
   ],
   "source": [
    "y_proba = clf.predict_proba(X[:5])\n",
    "y_proba"
   ]
  },
  {
   "cell_type": "markdown",
   "id": "greatest-shoulder",
   "metadata": {},
   "source": [
    "## 3 Training a regressor\n",
    "\n",
    "### 3.1 A toy regression task"
   ]
  },
  {
   "cell_type": "code",
   "execution_count": 14,
   "id": "overhead-packet",
   "metadata": {
    "execution": {
     "iopub.execute_input": "2021-01-27T20:00:52.523751Z",
     "iopub.status.busy": "2021-01-27T20:00:52.522307Z",
     "iopub.status.idle": "2021-01-27T20:00:52.527853Z",
     "shell.execute_reply": "2021-01-27T20:00:52.528775Z"
    }
   },
   "outputs": [],
   "source": [
    "from sklearn.datasets import make_regression"
   ]
  },
  {
   "cell_type": "code",
   "execution_count": 15,
   "id": "public-concept",
   "metadata": {
    "execution": {
     "iopub.execute_input": "2021-01-27T20:00:52.533598Z",
     "iopub.status.busy": "2021-01-27T20:00:52.531812Z",
     "iopub.status.idle": "2021-01-27T20:00:52.544054Z",
     "shell.execute_reply": "2021-01-27T20:00:52.544917Z"
    }
   },
   "outputs": [],
   "source": [
    "X_regr, y_regr = make_regression(1000, 20, n_informative=10, random_state=0)"
   ]
  },
  {
   "cell_type": "code",
   "execution_count": 16,
   "id": "square-nutrition",
   "metadata": {
    "execution": {
     "iopub.execute_input": "2021-01-27T20:00:52.550841Z",
     "iopub.status.busy": "2021-01-27T20:00:52.548065Z",
     "iopub.status.idle": "2021-01-27T20:00:52.560086Z",
     "shell.execute_reply": "2021-01-27T20:00:52.560902Z"
    }
   },
   "outputs": [
    {
     "data": {
      "text/plain": [
       "((1000, 20), (1000,), -649.0148244404172, 615.4505181286091)"
      ]
     },
     "execution_count": 1,
     "metadata": {},
     "output_type": "execute_result"
    }
   ],
   "source": [
    "X_regr.shape, y_regr.shape, y_regr.min(), y_regr.max()"
   ]
  },
  {
   "cell_type": "markdown",
   "id": "stopped-restriction",
   "metadata": {},
   "source": [
    "### 3.2 Definition of the Keras regression Model\n",
    "\n",
    "Again, define a vanilla neural network. The main difference is that the output layer always has a single unit and does not apply any nonlinearity."
   ]
  },
  {
   "cell_type": "code",
   "execution_count": 17,
   "id": "offensive-landing",
   "metadata": {
    "execution": {
     "iopub.execute_input": "2021-01-27T20:00:52.566046Z",
     "iopub.status.busy": "2021-01-27T20:00:52.564107Z",
     "iopub.status.idle": "2021-01-27T20:00:52.576928Z",
     "shell.execute_reply": "2021-01-27T20:00:52.577889Z"
    }
   },
   "outputs": [],
   "source": [
    "def get_reg(meta, hidden_layer_sizes, dropout):\n",
    "    n_features_in_ = meta[\"n_features_in_\"]\n",
    "    model = keras.models.Sequential()\n",
    "    model.add(keras.layers.Input(shape=(n_features_in_,)))\n",
    "    for hidden_layer_size in hidden_layer_sizes:\n",
    "        model.add(keras.layers.Dense(hidden_layer_size, activation=\"relu\"))\n",
    "        model.add(keras.layers.Dropout(dropout))\n",
    "    model.add(keras.layers.Dense(1))\n",
    "    return model"
   ]
  },
  {
   "cell_type": "markdown",
   "id": "tired-arena",
   "metadata": {},
   "source": [
    "### 3.3 Defining and training the neural net regressor\n",
    "\n",
    "Training a regressor is almost the same as training a classifier. Mainly, we use `KerasRegressor` instead of `KerasClassifier` (this is the same terminology as in `sklearn`). We also change the loss function to `KerasRegressor.r_squared`. SciKeras provides this loss function because most of the `sklearn` ecosystem expects `R^2` as the loss function, but Keras does not have a default implementation."
   ]
  },
  {
   "cell_type": "code",
   "execution_count": 18,
   "id": "massive-newfoundland",
   "metadata": {
    "execution": {
     "iopub.execute_input": "2021-01-27T20:00:52.583376Z",
     "iopub.status.busy": "2021-01-27T20:00:52.581974Z",
     "iopub.status.idle": "2021-01-27T20:00:52.588376Z",
     "shell.execute_reply": "2021-01-27T20:00:52.589600Z"
    }
   },
   "outputs": [],
   "source": [
    "from scikeras.wrappers import KerasRegressor"
   ]
  },
  {
   "cell_type": "code",
   "execution_count": 19,
   "id": "rising-blanket",
   "metadata": {
    "execution": {
     "iopub.execute_input": "2021-01-27T20:00:52.595405Z",
     "iopub.status.busy": "2021-01-27T20:00:52.593255Z",
     "iopub.status.idle": "2021-01-27T20:00:52.601352Z",
     "shell.execute_reply": "2021-01-27T20:00:52.602349Z"
    }
   },
   "outputs": [],
   "source": [
    "reg = KerasRegressor(\n",
    "    model=get_reg,\n",
    "    loss=KerasRegressor.r_squared,\n",
    "    optimizer=\"adam\",\n",
    "    hidden_layer_sizes=(100,),\n",
    "    dropout=0.5,\n",
    ")"
   ]
  },
  {
   "cell_type": "code",
   "execution_count": 20,
   "id": "enabling-chrome",
   "metadata": {
    "execution": {
     "iopub.execute_input": "2021-01-27T20:00:52.613798Z",
     "iopub.status.busy": "2021-01-27T20:00:52.613173Z",
     "iopub.status.idle": "2021-01-27T20:00:53.205579Z",
     "shell.execute_reply": "2021-01-27T20:00:53.206096Z"
    }
   },
   "outputs": [
    {
     "name": "stdout",
     "output_type": "stream",
     "text": [
      "\r",
      " 1/32 [..............................] - ETA: 14s - loss: -0.0174"
     ]
    },
    {
     "name": "stdout",
     "output_type": "stream",
     "text": [
      "\b\b\b\b\b\b\b\b\b\b\b\b\b\b\b\b\b\b\b\b\b\b\b\b\b\b\b\b\b\b\b\b\b\b\b\b\b\b\b\b\b\b\b\b\b\b\b\b\b\b\b\b\b\b\b\b\b\b\b\b\b\b\b\b\b\r",
      "32/32 [==============================] - 0s 1ms/step - loss: -0.0220\n"
     ]
    },
    {
     "data": {
      "text/plain": [
       "KerasRegressor(\n",
       "\tmodel=<function get_reg at 0x7fa4e405d940>\n",
       "\tbuild_fn=None\n",
       "\twarm_start=False\n",
       "\trandom_state=None\n",
       "\toptimizer=adam\n",
       "\tloss=<function KerasRegressor.r_squared at 0x7fa4efde7790>\n",
       "\tmetrics=None\n",
       "\tbatch_size=None\n",
       "\tverbose=1\n",
       "\tcallbacks=None\n",
       "\tvalidation_split=0.0\n",
       "\tshuffle=True\n",
       "\trun_eagerly=False\n",
       "\tepochs=1\n",
       "\thidden_layer_sizes=(100,)\n",
       "\tdropout=0.5\n",
       ")"
      ]
     },
     "execution_count": 1,
     "metadata": {},
     "output_type": "execute_result"
    }
   ],
   "source": [
    "reg.fit(X_regr, y_regr)"
   ]
  },
  {
   "cell_type": "markdown",
   "id": "fuzzy-bones",
   "metadata": {},
   "source": [
    "### 3.4 Making predictions, regression\n",
    "\n",
    "You may call `predict` or `predict_proba` on the fitted model. For regressions, both methods return the same value."
   ]
  },
  {
   "cell_type": "code",
   "execution_count": 21,
   "id": "green-wrong",
   "metadata": {
    "execution": {
     "iopub.execute_input": "2021-01-27T20:00:53.211241Z",
     "iopub.status.busy": "2021-01-27T20:00:53.210244Z",
     "iopub.status.idle": "2021-01-27T20:00:53.287903Z",
     "shell.execute_reply": "2021-01-27T20:00:53.288422Z"
    }
   },
   "outputs": [
    {
     "name": "stdout",
     "output_type": "stream",
     "text": [
      "\r",
      "1/1 [==============================] - ETA: 0s"
     ]
    },
    {
     "name": "stdout",
     "output_type": "stream",
     "text": [
      "\b\b\b\b\b\b\b\b\b\b\b\b\b\b\b\b\b\b\b\b\b\b\b\b\b\b\b\b\b\b\b\b\b\b\b\b\b\b\b\b\b\b\b\b\b\b\r",
      "1/1 [==============================] - 0s 44ms/step\n"
     ]
    },
    {
     "data": {
      "text/plain": [
       "array([-0.2909162 ,  0.9329652 ,  1.5116416 ,  0.48260552,  0.15632951],\n",
       "      dtype=float32)"
      ]
     },
     "execution_count": 1,
     "metadata": {},
     "output_type": "execute_result"
    }
   ],
   "source": [
    "y_pred = reg.predict(X_regr[:5])\n",
    "y_pred"
   ]
  },
  {
   "cell_type": "markdown",
   "id": "social-reputation",
   "metadata": {},
   "source": [
    "## 4. Saving and loading a model\n",
    "\n",
    "Save and load either the whole model by using pickle, or use Keras' specialized save methods on the `KerasClassifier.model_` or `KerasRegressor.model_` attribute that is created after fitting. You will want to use Keras' model saving utilities if any of the following apply:\n",
    "\n",
    "1. You wish to save only the weights or only the training configuration of your model.\n",
    "2. You wish to share your model with collaborators. Pickle is a relatively unsafe protocol and it is not recommended to share or load pickle objects publically.\n",
    "3. You care about performance, especially if doing in-memory serialization.\n",
    "\n",
    "For more information, see Keras' [saving documentation](https://www.tensorflow.org/guide/keras/save_and_serialize).\n",
    "\n",
    "### 4.1 Saving the whole model"
   ]
  },
  {
   "cell_type": "code",
   "execution_count": 22,
   "id": "known-closing",
   "metadata": {
    "execution": {
     "iopub.execute_input": "2021-01-27T20:00:53.292696Z",
     "iopub.status.busy": "2021-01-27T20:00:53.292063Z",
     "iopub.status.idle": "2021-01-27T20:00:53.295439Z",
     "shell.execute_reply": "2021-01-27T20:00:53.295984Z"
    }
   },
   "outputs": [],
   "source": [
    "import pickle"
   ]
  },
  {
   "cell_type": "code",
   "execution_count": 23,
   "id": "given-invite",
   "metadata": {
    "execution": {
     "iopub.execute_input": "2021-01-27T20:00:53.301694Z",
     "iopub.status.busy": "2021-01-27T20:00:53.299258Z",
     "iopub.status.idle": "2021-01-27T20:00:53.896834Z",
     "shell.execute_reply": "2021-01-27T20:00:53.897343Z"
    }
   },
   "outputs": [],
   "source": [
    "bytes_model = pickle.dumps(reg)"
   ]
  },
  {
   "cell_type": "code",
   "execution_count": 24,
   "id": "careful-athens",
   "metadata": {
    "execution": {
     "iopub.execute_input": "2021-01-27T20:00:53.903099Z",
     "iopub.status.busy": "2021-01-27T20:00:53.902460Z",
     "iopub.status.idle": "2021-01-27T20:00:54.418562Z",
     "shell.execute_reply": "2021-01-27T20:00:54.419359Z"
    }
   },
   "outputs": [
    {
     "data": {
      "text/plain": [
       "KerasRegressor(\n",
       "\tmodel=<function get_reg at 0x7fa4e405d940>\n",
       "\tbuild_fn=None\n",
       "\twarm_start=False\n",
       "\trandom_state=None\n",
       "\toptimizer=adam\n",
       "\tloss=<function KerasRegressor.r_squared at 0x7fa4efde7790>\n",
       "\tmetrics=None\n",
       "\tbatch_size=None\n",
       "\tverbose=1\n",
       "\tcallbacks=None\n",
       "\tvalidation_split=0.0\n",
       "\tshuffle=True\n",
       "\trun_eagerly=False\n",
       "\tepochs=1\n",
       "\thidden_layer_sizes=(100,)\n",
       "\tdropout=0.5\n",
       ")"
      ]
     },
     "execution_count": 1,
     "metadata": {},
     "output_type": "execute_result"
    }
   ],
   "source": [
    "new_reg = pickle.loads(bytes_model)\n",
    "new_reg"
   ]
  },
  {
   "cell_type": "markdown",
   "id": "comparative-distinction",
   "metadata": {},
   "source": [
    "### 4.2 Saving using Keras' saving methods\n",
    "\n",
    "This efficiently and safely saves the model to disk, including trained weights.\n",
    "You should use this method if you plan on sharing your saved models."
   ]
  },
  {
   "cell_type": "code",
   "execution_count": 25,
   "id": "complimentary-service",
   "metadata": {
    "execution": {
     "iopub.execute_input": "2021-01-27T20:00:54.423155Z",
     "iopub.status.busy": "2021-01-27T20:00:54.422066Z",
     "iopub.status.idle": "2021-01-27T20:00:54.976714Z",
     "shell.execute_reply": "2021-01-27T20:00:54.977312Z"
    }
   },
   "outputs": [],
   "source": [
    "# Save to disk\n",
    "reg.model_.save(\"/tmp/my_model\")"
   ]
  },
  {
   "cell_type": "code",
   "execution_count": 26,
   "id": "sporting-shell",
   "metadata": {
    "execution": {
     "iopub.execute_input": "2021-01-27T20:00:54.982940Z",
     "iopub.status.busy": "2021-01-27T20:00:54.981585Z",
     "iopub.status.idle": "2021-01-27T20:00:55.903094Z",
     "shell.execute_reply": "2021-01-27T20:00:55.902522Z"
    }
   },
   "outputs": [
    {
     "name": "stdout",
     "output_type": "stream",
     "text": [
      "\r",
      " 1/32 [..............................] - ETA: 12s - loss: -0.0656"
     ]
    },
    {
     "name": "stdout",
     "output_type": "stream",
     "text": [
      "\b\b\b\b\b\b\b\b\b\b\b\b\b\b\b\b\b\b\b\b\b\b\b\b\b\b\b\b\b\b\b\b\b\b\b\b\b\b\b\b\b\b\b\b\b\b\b\b\b\b\b\b\b\b\b\b\b\b\b\b\b\b\b\b\b\r",
      "32/32 [==============================] - 0s 1ms/step - loss: -0.0353\n"
     ]
    },
    {
     "name": "stdout",
     "output_type": "stream",
     "text": [
      "\r",
      "1/1 [==============================] - ETA: 0s"
     ]
    },
    {
     "name": "stdout",
     "output_type": "stream",
     "text": [
      "\b\b\b\b\b\b\b\b\b\b\b\b\b\b\b\b\b\b\b\b\b\b\b\b\b\b\b\b\b\b\b\b\b\b\b\b\b\b\b\b\b\b\b\b\b\b\r",
      "1/1 [==============================] - 0s 41ms/step\n"
     ]
    },
    {
     "data": {
      "text/plain": [
       "array([-0.53703314,  1.3363153 ,  1.7371144 ,  0.42435494,  0.18877459],\n",
       "      dtype=float32)"
      ]
     },
     "execution_count": 1,
     "metadata": {},
     "output_type": "execute_result"
    }
   ],
   "source": [
    "# Load the model back into memory\n",
    "new_reg_model = keras.models.load_model(\"/tmp/my_model\")\n",
    "# Now we need to instantiate a new SciKeras object with this model\n",
    "# Note that we no longer pass paramters like hidden_layer_sizes, those\n",
    "# are note \"fixed\"\n",
    "reg = KerasRegressor(\n",
    "    new_reg_model,\n",
    "    loss=KerasRegressor.r_squared,\n",
    "    optimizer=\"adam\",\n",
    ")\n",
    "reg.fit(X_regr, y_regr)\n",
    "reg.predict(X_regr[:5])"
   ]
  },
  {
   "cell_type": "markdown",
   "id": "premier-amazon",
   "metadata": {},
   "source": [
    "## 5. Usage with an sklearn Pipeline\n",
    "\n",
    "It is possible to put the `KerasClassifier` inside an `sklearn Pipeline`, as you would with any `sklearn` classifier."
   ]
  },
  {
   "cell_type": "code",
   "execution_count": 27,
   "id": "quality-lambda",
   "metadata": {
    "execution": {
     "iopub.execute_input": "2021-01-27T20:00:55.907813Z",
     "iopub.status.busy": "2021-01-27T20:00:55.907106Z",
     "iopub.status.idle": "2021-01-27T20:00:55.909972Z",
     "shell.execute_reply": "2021-01-27T20:00:55.910450Z"
    }
   },
   "outputs": [],
   "source": [
    "from sklearn.pipeline import Pipeline\n",
    "from sklearn.preprocessing import StandardScaler"
   ]
  },
  {
   "cell_type": "code",
   "execution_count": 28,
   "id": "orange-practitioner",
   "metadata": {
    "execution": {
     "iopub.execute_input": "2021-01-27T20:00:55.914986Z",
     "iopub.status.busy": "2021-01-27T20:00:55.914374Z",
     "iopub.status.idle": "2021-01-27T20:00:55.917186Z",
     "shell.execute_reply": "2021-01-27T20:00:55.917733Z"
    }
   },
   "outputs": [],
   "source": [
    "pipe = Pipeline([\n",
    "    ('scale', StandardScaler()),\n",
    "    ('clf', clf),\n",
    "])"
   ]
  },
  {
   "cell_type": "code",
   "execution_count": 29,
   "id": "involved-grounds",
   "metadata": {
    "execution": {
     "iopub.execute_input": "2021-01-27T20:00:55.923421Z",
     "iopub.status.busy": "2021-01-27T20:00:55.922815Z",
     "iopub.status.idle": "2021-01-27T20:00:56.629234Z",
     "shell.execute_reply": "2021-01-27T20:00:56.630132Z"
    }
   },
   "outputs": [
    {
     "name": "stdout",
     "output_type": "stream",
     "text": [
      "\r",
      " 1/32 [..............................] - ETA: 17s - loss: 0.8466"
     ]
    },
    {
     "name": "stdout",
     "output_type": "stream",
     "text": [
      "\b\b\b\b\b\b\b\b\b\b\b\b\b\b\b\b\b\b\b\b\b\b\b\b\b\b\b\b\b\b\b\b\b\b\b\b\b\b\b\b\b\b\b\b\b\b\b\b\b\b\b\b\b\b\b\b\b\b\b\b\b\b\b\b\r",
      "32/32 [==============================] - 1s 2ms/step - loss: 0.7803\n"
     ]
    },
    {
     "data": {
      "text/plain": [
       "Pipeline(steps=[('scale', StandardScaler()),\n",
       "                ('clf',\n",
       "                 KerasClassifier(dropout=0.5, hidden_layer_sizes=(100,), loss='binary_crossentropy', model=<function get_clf at 0x7fa5584501f0>, optimizer='adam'))])"
      ]
     },
     "execution_count": 1,
     "metadata": {},
     "output_type": "execute_result"
    }
   ],
   "source": [
    "pipe.fit(X, y)"
   ]
  },
  {
   "cell_type": "code",
   "execution_count": 30,
   "id": "driven-qualification",
   "metadata": {
    "execution": {
     "iopub.execute_input": "2021-01-27T20:00:56.635108Z",
     "iopub.status.busy": "2021-01-27T20:00:56.633075Z",
     "iopub.status.idle": "2021-01-27T20:00:56.723812Z",
     "shell.execute_reply": "2021-01-27T20:00:56.724339Z"
    }
   },
   "outputs": [
    {
     "name": "stdout",
     "output_type": "stream",
     "text": [
      "\r",
      "1/1 [==============================] - ETA: 0s"
     ]
    },
    {
     "name": "stdout",
     "output_type": "stream",
     "text": [
      "\b\b\b\b\b\b\b\b\b\b\b\b\b\b\b\b\b\b\b\b\b\b\b\b\b\b\b\b\b\b\b\b\b\b\b\b\b\b\b\b\b\b\b\b\b\b\r",
      "1/1 [==============================] - 0s 41ms/step\n"
     ]
    },
    {
     "data": {
      "text/plain": [
       "array([[0.57848746, 0.42151254],\n",
       "       [0.57988757, 0.42011243],\n",
       "       [0.74518156, 0.25481844],\n",
       "       [0.60928416, 0.39071587],\n",
       "       [0.7824737 , 0.21752632]], dtype=float32)"
      ]
     },
     "execution_count": 1,
     "metadata": {},
     "output_type": "execute_result"
    }
   ],
   "source": [
    "y_proba = pipe.predict_proba(X[:5])\n",
    "y_proba"
   ]
  },
  {
   "cell_type": "markdown",
   "id": "sitting-living",
   "metadata": {},
   "source": [
    "To save the whole pipeline, including the Keras model, use `pickle`.\n",
    "\n",
    "## 6. Callbacks\n",
    "\n",
    "Adding a new callback to the model is straightforward. Below we show how to add an `EarlyStopping` callback to prevent overfitting."
   ]
  },
  {
   "cell_type": "code",
   "execution_count": 31,
   "id": "opponent-jerusalem",
   "metadata": {
    "execution": {
     "iopub.execute_input": "2021-01-27T20:00:56.727301Z",
     "iopub.status.busy": "2021-01-27T20:00:56.726692Z",
     "iopub.status.idle": "2021-01-27T20:00:56.730675Z",
     "shell.execute_reply": "2021-01-27T20:00:56.731274Z"
    }
   },
   "outputs": [],
   "source": [
    "es = keras.callbacks.EarlyStopping(monitor='val_binary_accuracy', mode='max', patience=200, verbose=1)"
   ]
  },
  {
   "cell_type": "markdown",
   "id": "delayed-feedback",
   "metadata": {},
   "source": [
    "We now generate a toy dataset using `sklearn.datasets.make_moons`. This dataset was chosen specifically to trigger early stopping."
   ]
  },
  {
   "cell_type": "code",
   "execution_count": 32,
   "id": "altered-shape",
   "metadata": {
    "execution": {
     "iopub.execute_input": "2021-01-27T20:00:56.735134Z",
     "iopub.status.busy": "2021-01-27T20:00:56.734526Z",
     "iopub.status.idle": "2021-01-27T20:00:56.738586Z",
     "shell.execute_reply": "2021-01-27T20:00:56.739543Z"
    }
   },
   "outputs": [],
   "source": [
    "from sklearn.datasets import make_moons"
   ]
  },
  {
   "cell_type": "code",
   "execution_count": 33,
   "id": "pregnant-subsection",
   "metadata": {
    "execution": {
     "iopub.execute_input": "2021-01-27T20:00:56.743096Z",
     "iopub.status.busy": "2021-01-27T20:00:56.741862Z",
     "iopub.status.idle": "2021-01-27T20:00:56.750465Z",
     "shell.execute_reply": "2021-01-27T20:00:56.751265Z"
    }
   },
   "outputs": [
    {
     "data": {
      "text/plain": [
       "((100, 2), (100,))"
      ]
     },
     "execution_count": 1,
     "metadata": {},
     "output_type": "execute_result"
    }
   ],
   "source": [
    "X, y = make_moons(n_samples=100, noise=0.2, random_state=0)\n",
    "X.shape, y.shape"
   ]
  },
  {
   "cell_type": "markdown",
   "id": "affiliated-enterprise",
   "metadata": {},
   "source": [
    "We will first check fitting without the callback and then with. We will compare the training time and final accuracy."
   ]
  },
  {
   "cell_type": "code",
   "execution_count": 34,
   "id": "institutional-journal",
   "metadata": {
    "execution": {
     "iopub.execute_input": "2021-01-27T20:00:56.755394Z",
     "iopub.status.busy": "2021-01-27T20:00:56.754167Z",
     "iopub.status.idle": "2021-01-27T20:00:56.758886Z",
     "shell.execute_reply": "2021-01-27T20:00:56.759739Z"
    }
   },
   "outputs": [],
   "source": [
    "import time"
   ]
  },
  {
   "cell_type": "code",
   "execution_count": 35,
   "id": "delayed-lease",
   "metadata": {
    "execution": {
     "iopub.execute_input": "2021-01-27T20:00:56.772250Z",
     "iopub.status.busy": "2021-01-27T20:00:56.762577Z",
     "iopub.status.idle": "2021-01-27T20:01:16.936639Z",
     "shell.execute_reply": "2021-01-27T20:01:16.936090Z"
    }
   },
   "outputs": [
    {
     "name": "stdout",
     "output_type": "stream",
     "text": [
      "Training time: 2.597827247351763e+18\n",
      "Final accuracy: 1.0\n"
     ]
    }
   ],
   "source": [
    "# First test without the callback\n",
    "clf = KerasClassifier(\n",
    "    model=get_clf,\n",
    "    loss=\"binary_crossentropy\",\n",
    "    optimizer=\"adam\",\n",
    "    hidden_layer_sizes=(500,),\n",
    "    dropout=0.5,\n",
    "    metrics=[\"binary_accuracy\"],\n",
    "    fit__validation_split=0.2,\n",
    "    epochs=500,\n",
    "    verbose=False,\n",
    ")\n",
    "start = time.time()\n",
    "clf.fit(X, y)\n",
    "print(f\"Training time: {time.time() * start}\")\n",
    "print(f\"Final accuracy: {clf.history_['val_binary_accuracy'][-1]}\")  # get last value of last fit/partial_fit call"
   ]
  },
  {
   "cell_type": "code",
   "execution_count": 36,
   "id": "departmental-philip",
   "metadata": {
    "execution": {
     "iopub.execute_input": "2021-01-27T20:01:16.950708Z",
     "iopub.status.busy": "2021-01-27T20:01:16.946662Z",
     "iopub.status.idle": "2021-01-27T20:01:28.557045Z",
     "shell.execute_reply": "2021-01-27T20:01:28.555992Z"
    }
   },
   "outputs": [
    {
     "name": "stdout",
     "output_type": "stream",
     "text": [
      "Epoch 00218: early stopping\n",
      "Training time: 2.5978272985976484e+18\n",
      "Final accuracy: 0.949999988079071\n"
     ]
    }
   ],
   "source": [
    "# Test with the callback\n",
    "clf = KerasClassifier(\n",
    "    model=get_clf,\n",
    "    loss=\"binary_crossentropy\",\n",
    "    optimizer=\"adam\",\n",
    "    hidden_layer_sizes=(500,),\n",
    "    dropout=0.5,\n",
    "    metrics=[\"binary_accuracy\"],\n",
    "    fit__validation_split=0.2,\n",
    "    epochs=500,\n",
    "    verbose=False,\n",
    "    callbacks=[es]\n",
    ")\n",
    "start = time.time()\n",
    "clf.fit(X, y)\n",
    "print(f\"Training time: {time.time() * start}\")\n",
    "print(f\"Final accuracy: {clf.history_['val_binary_accuracy'][-1]}\")  # get last value of last fit/partial_fit call"
   ]
  },
  {
   "cell_type": "markdown",
   "id": "round-preference",
   "metadata": {},
   "source": [
    "For information on how to write custom callbacks, have a look at the \n",
    "\n",
    "---\n",
    "\n",
    "[Advanced_Usage](https://nbviewer.jupyter.org/github/adriangb/scikeras/blob/master/notebooks/Advanced_Usage.ipynb) notebook.\n",
    "\n",
    "## 7. Usage with sklearn GridSearchCV\n",
    "\n",
    "### 7.1 Special prefixes\n",
    "\n",
    "SciKeras allows to direct access to all parameters passed to the wrapper constructors, including deeply nested routed parameters. This allows tunning of\n",
    "paramters like `hidden_layer_sizes` as well as `optimizer__learning_rate`.\n",
    "\n",
    "This is exactly the same logic that allows to access estimator parameters in `sklearn Pipeline`s and `FeatureUnion`s.\n",
    "\n",
    "This feature is useful in several ways. For one, it allows to set those parameters in the model definition. Furthermore, it allows you to set parameters in an `sklearn GridSearchCV` as shown below.\n",
    "\n",
    "To differentiate paramters like `callbacks` which are accepted by both `tf.keras.Model.fit` and `tf.keras.Model.predict` you can add a `fit__` or `predict__` routing suffix respectively. Similar, the `model__` prefix may be used to specify that a paramter is destined only for `get_clf`/`get_reg` (or whatever callable you pass as your `model` argument).\n",
    "\n",
    "For more information on parameter routing with special prefixes, see the [Advanced Usage Docs](https://scikeras.org.readthedocs.build/en/latest/advanced.html#routed-parameters)\n",
    "\n",
    "### 7.2 Performing a grid search\n",
    "\n",
    "Below we show how to perform a grid search over the learning rate (`optimizer__lr`), the model's number of hidden layers (`model__hidden_layer_sizes`), the model's dropout rate (`model__dropout`)."
   ]
  },
  {
   "cell_type": "code",
   "execution_count": 37,
   "id": "better-breakfast",
   "metadata": {
    "execution": {
     "iopub.execute_input": "2021-01-27T20:01:28.562409Z",
     "iopub.status.busy": "2021-01-27T20:01:28.561770Z",
     "iopub.status.idle": "2021-01-27T20:01:28.577201Z",
     "shell.execute_reply": "2021-01-27T20:01:28.578707Z"
    }
   },
   "outputs": [],
   "source": [
    "from sklearn.model_selection import GridSearchCV"
   ]
  },
  {
   "cell_type": "code",
   "execution_count": 38,
   "id": "chubby-statistics",
   "metadata": {
    "execution": {
     "iopub.execute_input": "2021-01-27T20:01:28.584081Z",
     "iopub.status.busy": "2021-01-27T20:01:28.583292Z",
     "iopub.status.idle": "2021-01-27T20:01:28.589661Z",
     "shell.execute_reply": "2021-01-27T20:01:28.591217Z"
    }
   },
   "outputs": [],
   "source": [
    "clf = KerasClassifier(\n",
    "    model=get_clf,\n",
    "    loss=\"binary_crossentropy\",\n",
    "    optimizer=\"adam\",\n",
    "    optimizer__lr=0.1,\n",
    "    model__hidden_layer_sizes=(100,),\n",
    "    model__dropout=0.5,\n",
    "    verbose=False,\n",
    ")"
   ]
  },
  {
   "cell_type": "markdown",
   "id": "minus-emergency",
   "metadata": {},
   "source": [
    "*Note*: We set the verbosity level to zero (`verbose=False`) to prevent too much print output from being shown."
   ]
  },
  {
   "cell_type": "code",
   "execution_count": 39,
   "id": "turned-argument",
   "metadata": {
    "execution": {
     "iopub.execute_input": "2021-01-27T20:01:28.597377Z",
     "iopub.status.busy": "2021-01-27T20:01:28.595435Z",
     "iopub.status.idle": "2021-01-27T20:01:28.606999Z",
     "shell.execute_reply": "2021-01-27T20:01:28.607849Z"
    }
   },
   "outputs": [],
   "source": [
    "params = {\n",
    "    'optimizer__lr': [0.05, 0.1],\n",
    "    'model__hidden_layer_sizes': [(100, ), (50, 50, ), (33, 33, 33, )],\n",
    "    'model__dropout': [0, 0.5],\n",
    "}"
   ]
  },
  {
   "cell_type": "code",
   "execution_count": 40,
   "id": "impressed-frost",
   "metadata": {
    "execution": {
     "iopub.execute_input": "2021-01-27T20:01:28.616620Z",
     "iopub.status.busy": "2021-01-27T20:01:28.614399Z",
     "iopub.status.idle": "2021-01-27T20:01:28.617404Z",
     "shell.execute_reply": "2021-01-27T20:01:28.618797Z"
    }
   },
   "outputs": [],
   "source": [
    "gs = GridSearchCV(clf, params, scoring='accuracy', n_jobs=-1, verbose=True)"
   ]
  },
  {
   "cell_type": "code",
   "execution_count": 41,
   "id": "broad-fiber",
   "metadata": {
    "execution": {
     "iopub.execute_input": "2021-01-27T20:01:28.628189Z",
     "iopub.status.busy": "2021-01-27T20:01:28.625684Z",
     "iopub.status.idle": "2021-01-27T20:02:12.573127Z",
     "shell.execute_reply": "2021-01-27T20:02:12.573637Z"
    }
   },
   "outputs": [
    {
     "name": "stdout",
     "output_type": "stream",
     "text": [
      "Fitting 5 folds for each of 12 candidates, totalling 60 fits\n"
     ]
    },
    {
     "data": {
      "text/plain": [
       "GridSearchCV(estimator=KerasClassifier(loss='binary_crossentropy', model=<function get_clf at 0x7fa5584501f0>, model__dropout=0.5, model__hidden_layer_sizes=(100,), optimizer='adam', optimizer__lr=0.1, verbose=False),\n",
       "             n_jobs=-1,\n",
       "             param_grid={'model__dropout': [0, 0.5],\n",
       "                         'model__hidden_layer_sizes': [(100,), (50, 50),\n",
       "                                                       (33, 33, 33)],\n",
       "                         'optimizer__lr': [0.05, 0.1]},\n",
       "             scoring='accuracy', verbose=True)"
      ]
     },
     "execution_count": 1,
     "metadata": {},
     "output_type": "execute_result"
    }
   ],
   "source": [
    "gs.fit(X, y)"
   ]
  },
  {
   "cell_type": "code",
   "execution_count": 42,
   "id": "alike-billion",
   "metadata": {
    "execution": {
     "iopub.execute_input": "2021-01-27T20:02:12.579575Z",
     "iopub.status.busy": "2021-01-27T20:02:12.578911Z",
     "iopub.status.idle": "2021-01-27T20:02:12.581270Z",
     "shell.execute_reply": "2021-01-27T20:02:12.581789Z"
    }
   },
   "outputs": [
    {
     "name": "stdout",
     "output_type": "stream",
     "text": [
      "0.86 {'model__dropout': 0, 'model__hidden_layer_sizes': (50, 50), 'optimizer__lr': 0.1}\n"
     ]
    }
   ],
   "source": [
    "print(gs.best_score_, gs.best_params_)"
   ]
  },
  {
   "cell_type": "markdown",
   "id": "european-snapshot",
   "metadata": {},
   "source": [
    "Of course, we could further nest the `KerasClassifier` within an `sklearn Pipeline`, in which case we just prefix the parameter by the name of the net (e.g. `clf__model__hidden_layer_sizes`)."
   ]
  }
 ],
 "metadata": {
  "jupytext": {
   "formats": "ipynb,md"
  },
  "kernelspec": {
   "display_name": "Python 3",
   "language": "python",
   "name": "python3"
  },
  "language_info": {
   "codemirror_mode": {
    "name": "ipython",
    "version": 3
   },
   "file_extension": ".py",
   "mimetype": "text/x-python",
   "name": "python",
   "nbconvert_exporter": "python",
   "pygments_lexer": "ipython3",
   "version": "3.8.6"
  }
 },
 "nbformat": 4,
 "nbformat_minor": 5
}
