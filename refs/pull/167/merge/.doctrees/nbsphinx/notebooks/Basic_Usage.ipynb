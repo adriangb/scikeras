{
 "cells": [
  {
   "cell_type": "raw",
   "id": "regional-robert",
   "metadata": {},
   "source": [
    "<a href=\"https://colab.research.google.com/github/adriangb/scikeras/blob/docs-deploy/refs/heads/master/notebooks/Basic_Usage.ipynb\"><img src=\"https://www.tensorflow.org/images/colab_logo_32px.png\">Run in Google Colab</a>"
   ]
  },
  {
   "cell_type": "markdown",
   "id": "composed-teaching",
   "metadata": {},
   "source": [
    "# Basic usage\n",
    "\n",
    "`SciKeras` is designed to maximize interoperability between `sklearn` and `Keras/TensorFlow`. The aim is to keep 99% of the flexibility of `Keras` while being able to leverage most features of `sklearn`. Below, we show the basic usage of `SciKeras` and how it can be combined with `sklearn`.\n",
    "\n",
    "This notebook shows you how to use the basic functionality of `SciKeras`.\n",
    "\n",
    "## Table of contents\n",
    "\n",
    "* [1. Setup](#1.-Setup)\n",
    "* [2. Training a classifier and making predictions](#2.-Training-a-classifier-and-making-predictions)\n",
    "  * [2.1 A toy binary classification task](#2.1-A-toy-binary-classification-task)\n",
    "  * [2.2 Definition of the Keras classification Model](#2.2-Definition-of-the-Keras-classification-Model)\n",
    "  * [2.3 Defining and training the neural net classifier](#2.3-Defining-and-training-the-neural-net-classifier)\n",
    "  * [2.4 Making predictions, classification](#2.4-Making-predictions-classification)\n",
    "* [3 Training a regressor](#3.-Training-a-regressor)\n",
    "  * [3.1 A toy regression task](#3.1-A-toy-regression-task)\n",
    "  * [3.2 Definition of the Keras regression Model](#3.2-Definition-of-the-Keras-regression-Model)\n",
    "  * [3.3 Defining and training the neural net regressor](#3.3-Defining-and-training-the-neural-net-regressor)\n",
    "  * [3.4 Making predictions, regression](#3.4-Making-predictions-regression)\n",
    "* [4. Saving and loading a model](#4.-Saving-and-loading-a-model)\n",
    "  * [4.1 Saving the whole model](#4.1-Saving-the-whole-model)\n",
    "  * [4.2 Saving using Keras' saving methods](#4.2-Saving-using-Keras-saving-methods)\n",
    "* [5. Usage with an sklearn Pipeline](#5.-Usage-with-an-sklearn-Pipeline)\n",
    "* [6. Callbacks](#6.-Callbacks)\n",
    "* [7. Usage with sklearn GridSearchCV](#7.-Usage-with-sklearn-GridSearchCV)\n",
    "  * [7.1 Special prefixes](#7.1-Special-prefixes)\n",
    "  * [7.2 Performing a grid search](#7.2-Performing-a-grid-search)\n",
    "\n",
    "## 1. Setup"
   ]
  },
  {
   "cell_type": "code",
   "execution_count": 1,
   "id": "leading-washer",
   "metadata": {
    "execution": {
     "iopub.execute_input": "2021-01-31T07:26:16.352097Z",
     "iopub.status.busy": "2021-01-31T07:26:16.351357Z",
     "iopub.status.idle": "2021-01-31T07:26:18.036735Z",
     "shell.execute_reply": "2021-01-31T07:26:18.037635Z"
    }
   },
   "outputs": [],
   "source": [
    "try:\n",
    "    import scikeras\n",
    "except ImportError:\n",
    "    !python -m pip install scikeras"
   ]
  },
  {
   "cell_type": "markdown",
   "id": "advisory-solomon",
   "metadata": {},
   "source": [
    "Silence TensorFlow logging to keep output succinct."
   ]
  },
  {
   "cell_type": "code",
   "execution_count": 2,
   "id": "generous-december",
   "metadata": {
    "execution": {
     "iopub.execute_input": "2021-01-31T07:26:18.045476Z",
     "iopub.status.busy": "2021-01-31T07:26:18.042836Z",
     "iopub.status.idle": "2021-01-31T07:26:18.055244Z",
     "shell.execute_reply": "2021-01-31T07:26:18.056160Z"
    }
   },
   "outputs": [],
   "source": [
    "import warnings\n",
    "from tensorflow import get_logger\n",
    "get_logger().setLevel('ERROR')\n",
    "warnings.filterwarnings(\"ignore\", message=\"Setting the random state for TF\")"
   ]
  },
  {
   "cell_type": "code",
   "execution_count": 3,
   "id": "distinct-beverage",
   "metadata": {
    "execution": {
     "iopub.execute_input": "2021-01-31T07:26:18.060009Z",
     "iopub.status.busy": "2021-01-31T07:26:18.058865Z",
     "iopub.status.idle": "2021-01-31T07:26:19.067293Z",
     "shell.execute_reply": "2021-01-31T07:26:19.067867Z"
    }
   },
   "outputs": [],
   "source": [
    "import numpy as np\n",
    "from scikeras.wrappers import KerasClassifier, KerasRegressor\n",
    "from tensorflow import keras"
   ]
  },
  {
   "cell_type": "markdown",
   "id": "present-folks",
   "metadata": {},
   "source": [
    "## 2. Training a classifier and making predictions\n",
    "\n",
    "### 2.1 A toy binary classification task\n",
    "\n",
    "We load a toy classification task from `sklearn`."
   ]
  },
  {
   "cell_type": "code",
   "execution_count": 4,
   "id": "electrical-design",
   "metadata": {
    "execution": {
     "iopub.execute_input": "2021-01-31T07:26:19.075617Z",
     "iopub.status.busy": "2021-01-31T07:26:19.074120Z",
     "iopub.status.idle": "2021-01-31T07:26:19.107585Z",
     "shell.execute_reply": "2021-01-31T07:26:19.106649Z"
    }
   },
   "outputs": [],
   "source": [
    "import numpy as np\n",
    "from sklearn.datasets import make_classification"
   ]
  },
  {
   "cell_type": "code",
   "execution_count": 5,
   "id": "genuine-lambda",
   "metadata": {
    "execution": {
     "iopub.execute_input": "2021-01-31T07:26:19.112677Z",
     "iopub.status.busy": "2021-01-31T07:26:19.112092Z",
     "iopub.status.idle": "2021-01-31T07:26:19.117465Z",
     "shell.execute_reply": "2021-01-31T07:26:19.118233Z"
    }
   },
   "outputs": [],
   "source": [
    "X, y = make_classification(1000, 20, n_informative=10, random_state=0)"
   ]
  },
  {
   "cell_type": "code",
   "execution_count": 6,
   "id": "second-start",
   "metadata": {
    "execution": {
     "iopub.execute_input": "2021-01-31T07:26:19.121553Z",
     "iopub.status.busy": "2021-01-31T07:26:19.120519Z",
     "iopub.status.idle": "2021-01-31T07:26:19.132997Z",
     "shell.execute_reply": "2021-01-31T07:26:19.133782Z"
    }
   },
   "outputs": [
    {
     "data": {
      "text/plain": [
       "((1000, 20), (1000,), 0.5)"
      ]
     },
     "execution_count": 1,
     "metadata": {},
     "output_type": "execute_result"
    }
   ],
   "source": [
    "X.shape, y.shape, y.mean()"
   ]
  },
  {
   "cell_type": "markdown",
   "id": "intellectual-principal",
   "metadata": {},
   "source": [
    "### 2.2 Definition of the Keras classification Model\n",
    "\n",
    "We define a vanilla neural network with.\n",
    "\n",
    "Because we are dealing with 2 classes, the output layer can be constructed in\n",
    "two different ways:\n",
    "\n",
    "1. Single unit with a `\"sigmoid\"` nonlinearity. The loss must be `\"binary_crossentropy\"`.\n",
    "2. Two units (one for each class) and a `\"softmax\"` nonlinearity. The loss must be `\"sparse_categorical_crossentropy\"`.\n",
    "\n",
    "In this example, we choose the first option, which is what you would usually\n",
    "do for binary classification. The second option is usually reserved for when\n",
    "you have >2 classes."
   ]
  },
  {
   "cell_type": "code",
   "execution_count": 7,
   "id": "meaningful-strategy",
   "metadata": {
    "execution": {
     "iopub.execute_input": "2021-01-31T07:26:19.137469Z",
     "iopub.status.busy": "2021-01-31T07:26:19.136397Z",
     "iopub.status.idle": "2021-01-31T07:26:19.140727Z",
     "shell.execute_reply": "2021-01-31T07:26:19.141478Z"
    }
   },
   "outputs": [],
   "source": [
    "from tensorflow import keras"
   ]
  },
  {
   "cell_type": "code",
   "execution_count": 8,
   "id": "magnetic-easter",
   "metadata": {
    "execution": {
     "iopub.execute_input": "2021-01-31T07:26:19.144775Z",
     "iopub.status.busy": "2021-01-31T07:26:19.143719Z",
     "iopub.status.idle": "2021-01-31T07:26:19.150405Z",
     "shell.execute_reply": "2021-01-31T07:26:19.151143Z"
    }
   },
   "outputs": [],
   "source": [
    "def get_clf(meta, hidden_layer_sizes, dropout):\n",
    "    n_features_in_ = meta[\"n_features_in_\"]\n",
    "    n_classes_ = meta[\"n_classes_\"]\n",
    "    model = keras.models.Sequential()\n",
    "    model.add(keras.layers.Input(shape=(n_features_in_,)))\n",
    "    for hidden_layer_size in hidden_layer_sizes:\n",
    "        model.add(keras.layers.Dense(hidden_layer_size, activation=\"relu\"))\n",
    "        model.add(keras.layers.Dropout(dropout))\n",
    "    model.add(keras.layers.Dense(1, activation=\"sigmoid\"))\n",
    "    return model"
   ]
  },
  {
   "cell_type": "markdown",
   "id": "dietary-screw",
   "metadata": {},
   "source": [
    "### 2.3 Defining and training the neural net classifier\n",
    "\n",
    "We use `KerasClassifier` because we're dealing with a classifcation task. The first argument should be a callable returning a `Keras.Model`, in this case, `get_clf`. As additional arguments, we pass the number of loss function (required) and the optimizer, but the later is optional. We must also pass all of the arguments to `get_clf` as keyword arguments to `KerasClassifier` if they don't have a default value in `get_clf`. Note that if you do not pass an argument to `KerasClassifier`, it will not be avilable for hyperparameter tuning. Finally, we also pass `random_state=0` for reproducible results."
   ]
  },
  {
   "cell_type": "code",
   "execution_count": 9,
   "id": "beginning-necklace",
   "metadata": {
    "execution": {
     "iopub.execute_input": "2021-01-31T07:26:19.154535Z",
     "iopub.status.busy": "2021-01-31T07:26:19.153475Z",
     "iopub.status.idle": "2021-01-31T07:26:19.157679Z",
     "shell.execute_reply": "2021-01-31T07:26:19.158422Z"
    }
   },
   "outputs": [],
   "source": [
    "from scikeras.wrappers import KerasClassifier"
   ]
  },
  {
   "cell_type": "code",
   "execution_count": 10,
   "id": "coral-kazakhstan",
   "metadata": {
    "execution": {
     "iopub.execute_input": "2021-01-31T07:26:19.161870Z",
     "iopub.status.busy": "2021-01-31T07:26:19.160810Z",
     "iopub.status.idle": "2021-01-31T07:26:19.165582Z",
     "shell.execute_reply": "2021-01-31T07:26:19.166330Z"
    }
   },
   "outputs": [],
   "source": [
    "clf = KerasClassifier(\n",
    "    model=get_clf,\n",
    "    loss=\"binary_crossentropy\",\n",
    "    optimizer=\"adam\",\n",
    "    hidden_layer_sizes=(100,),\n",
    "    dropout=0.5,\n",
    ")"
   ]
  },
  {
   "cell_type": "markdown",
   "id": "freelance-antigua",
   "metadata": {},
   "source": [
    "As in `sklearn`, we call `fit` passing the input data `X` and the targets `y`."
   ]
  },
  {
   "cell_type": "code",
   "execution_count": 11,
   "id": "steady-village",
   "metadata": {
    "execution": {
     "iopub.execute_input": "2021-01-31T07:26:19.169661Z",
     "iopub.status.busy": "2021-01-31T07:26:19.168608Z",
     "iopub.status.idle": "2021-01-31T07:26:19.761266Z",
     "shell.execute_reply": "2021-01-31T07:26:19.762101Z"
    }
   },
   "outputs": [
    {
     "name": "stdout",
     "output_type": "stream",
     "text": [
      "\r",
      " 1/32 [..............................] - ETA: 13s - loss: 0.9937"
     ]
    },
    {
     "name": "stdout",
     "output_type": "stream",
     "text": [
      "\b\b\b\b\b\b\b\b\b\b\b\b\b\b\b\b\b\b\b\b\b\b\b\b\b\b\b\b\b\b\b\b\b\b\b\b\b\b\b\b\b\b\b\b\b\b\b\b\b\b\b\b\b\b\b\b\b\b\b\b\b\b\b\b\r",
      "32/32 [==============================] - 0s 1ms/step - loss: 0.8310\n"
     ]
    },
    {
     "data": {
      "text/plain": [
       "KerasClassifier(\n",
       "\tmodel=<function get_clf at 0x7fdedc0ed9d0>\n",
       "\tbuild_fn=None\n",
       "\twarm_start=False\n",
       "\trandom_state=None\n",
       "\toptimizer=adam\n",
       "\tloss=binary_crossentropy\n",
       "\tmetrics=None\n",
       "\tbatch_size=None\n",
       "\tverbose=1\n",
       "\tcallbacks=None\n",
       "\tvalidation_split=0.0\n",
       "\tshuffle=True\n",
       "\trun_eagerly=False\n",
       "\tepochs=1\n",
       "\thidden_layer_sizes=(100,)\n",
       "\tdropout=0.5\n",
       "\tclass_weight=None\n",
       ")"
      ]
     },
     "execution_count": 1,
     "metadata": {},
     "output_type": "execute_result"
    }
   ],
   "source": [
    "clf.fit(X, y)"
   ]
  },
  {
   "cell_type": "markdown",
   "id": "worldwide-screening",
   "metadata": {},
   "source": [
    "Also, as in `sklearn`, you may call `predict` or `predict_proba` on the fitted model.\n",
    "\n",
    "### 2.4 Making predictions, classification"
   ]
  },
  {
   "cell_type": "code",
   "execution_count": 12,
   "id": "neural-membership",
   "metadata": {
    "execution": {
     "iopub.execute_input": "2021-01-31T07:26:19.765889Z",
     "iopub.status.busy": "2021-01-31T07:26:19.764762Z",
     "iopub.status.idle": "2021-01-31T07:26:19.873184Z",
     "shell.execute_reply": "2021-01-31T07:26:19.872666Z"
    }
   },
   "outputs": [
    {
     "name": "stdout",
     "output_type": "stream",
     "text": [
      "\r",
      "1/1 [==============================] - ETA: 0s"
     ]
    },
    {
     "name": "stdout",
     "output_type": "stream",
     "text": [
      "\b\b\b\b\b\b\b\b\b\b\b\b\b\b\b\b\b\b\b\b\b\b\b\b\b\b\b\b\b\b\b\b\b\b\b\b\b\b\b\b\b\b\b\b\b\b\r",
      "1/1 [==============================] - 0s 71ms/step\n"
     ]
    },
    {
     "data": {
      "text/plain": [
       "array([1, 0, 0, 0, 0])"
      ]
     },
     "execution_count": 1,
     "metadata": {},
     "output_type": "execute_result"
    }
   ],
   "source": [
    "y_pred = clf.predict(X[:5])\n",
    "y_pred"
   ]
  },
  {
   "cell_type": "code",
   "execution_count": 13,
   "id": "becoming-pasta",
   "metadata": {
    "execution": {
     "iopub.execute_input": "2021-01-31T07:26:19.876651Z",
     "iopub.status.busy": "2021-01-31T07:26:19.876064Z",
     "iopub.status.idle": "2021-01-31T07:26:19.922945Z",
     "shell.execute_reply": "2021-01-31T07:26:19.922412Z"
    }
   },
   "outputs": [
    {
     "name": "stdout",
     "output_type": "stream",
     "text": [
      "\r",
      "1/1 [==============================] - ETA: 0s"
     ]
    },
    {
     "name": "stdout",
     "output_type": "stream",
     "text": [
      "\b\b\b\b\b\b\b\b\b\b\b\b\b\b\b\b\b\b\b\b\b\b\b\b\b\b\b\b\b\b\b\b\b\b\b\b\b\b\b\b\b\b\b\b\b\b\r",
      "1/1 [==============================] - 0s 14ms/step\n"
     ]
    },
    {
     "data": {
      "text/plain": [
       "array([[0.45974714, 0.54025286],\n",
       "       [0.64156616, 0.3584338 ],\n",
       "       [0.70203716, 0.29796284],\n",
       "       [0.6714203 , 0.32857972],\n",
       "       [0.7457485 , 0.25425145]], dtype=float32)"
      ]
     },
     "execution_count": 1,
     "metadata": {},
     "output_type": "execute_result"
    }
   ],
   "source": [
    "y_proba = clf.predict_proba(X[:5])\n",
    "y_proba"
   ]
  },
  {
   "cell_type": "markdown",
   "id": "fourth-contribution",
   "metadata": {},
   "source": [
    "## 3 Training a regressor\n",
    "\n",
    "### 3.1 A toy regression task"
   ]
  },
  {
   "cell_type": "code",
   "execution_count": 14,
   "id": "rolled-puppy",
   "metadata": {
    "execution": {
     "iopub.execute_input": "2021-01-31T07:26:19.927321Z",
     "iopub.status.busy": "2021-01-31T07:26:19.926702Z",
     "iopub.status.idle": "2021-01-31T07:26:19.930163Z",
     "shell.execute_reply": "2021-01-31T07:26:19.930637Z"
    }
   },
   "outputs": [],
   "source": [
    "from sklearn.datasets import make_regression"
   ]
  },
  {
   "cell_type": "code",
   "execution_count": 15,
   "id": "equal-oxford",
   "metadata": {
    "execution": {
     "iopub.execute_input": "2021-01-31T07:26:19.935807Z",
     "iopub.status.busy": "2021-01-31T07:26:19.935209Z",
     "iopub.status.idle": "2021-01-31T07:26:19.939277Z",
     "shell.execute_reply": "2021-01-31T07:26:19.940023Z"
    }
   },
   "outputs": [],
   "source": [
    "X_regr, y_regr = make_regression(1000, 20, n_informative=10, random_state=0)"
   ]
  },
  {
   "cell_type": "code",
   "execution_count": 16,
   "id": "defensive-council",
   "metadata": {
    "execution": {
     "iopub.execute_input": "2021-01-31T07:26:19.948858Z",
     "iopub.status.busy": "2021-01-31T07:26:19.946722Z",
     "iopub.status.idle": "2021-01-31T07:26:19.953742Z",
     "shell.execute_reply": "2021-01-31T07:26:19.954736Z"
    }
   },
   "outputs": [
    {
     "data": {
      "text/plain": [
       "((1000, 20), (1000,), -649.0148244404172, 615.4505181286091)"
      ]
     },
     "execution_count": 1,
     "metadata": {},
     "output_type": "execute_result"
    }
   ],
   "source": [
    "X_regr.shape, y_regr.shape, y_regr.min(), y_regr.max()"
   ]
  },
  {
   "cell_type": "markdown",
   "id": "connected-costa",
   "metadata": {},
   "source": [
    "### 3.2 Definition of the Keras regression Model\n",
    "\n",
    "Again, define a vanilla neural network. The main difference is that the output layer always has a single unit and does not apply any nonlinearity."
   ]
  },
  {
   "cell_type": "code",
   "execution_count": 17,
   "id": "dried-dakota",
   "metadata": {
    "execution": {
     "iopub.execute_input": "2021-01-31T07:26:19.961143Z",
     "iopub.status.busy": "2021-01-31T07:26:19.960366Z",
     "iopub.status.idle": "2021-01-31T07:26:19.973265Z",
     "shell.execute_reply": "2021-01-31T07:26:19.972406Z"
    }
   },
   "outputs": [],
   "source": [
    "def get_reg(meta, hidden_layer_sizes, dropout):\n",
    "    n_features_in_ = meta[\"n_features_in_\"]\n",
    "    model = keras.models.Sequential()\n",
    "    model.add(keras.layers.Input(shape=(n_features_in_,)))\n",
    "    for hidden_layer_size in hidden_layer_sizes:\n",
    "        model.add(keras.layers.Dense(hidden_layer_size, activation=\"relu\"))\n",
    "        model.add(keras.layers.Dropout(dropout))\n",
    "    model.add(keras.layers.Dense(1))\n",
    "    return model"
   ]
  },
  {
   "cell_type": "markdown",
   "id": "dynamic-taiwan",
   "metadata": {},
   "source": [
    "### 3.3 Defining and training the neural net regressor\n",
    "\n",
    "Training a regressor is almost the same as training a classifier. Mainly, we use `KerasRegressor` instead of `KerasClassifier` (this is the same terminology as in `sklearn`). We also change the loss function to `KerasRegressor.r_squared`. SciKeras provides this loss function because most of the `sklearn` ecosystem expects `R^2` as the loss function, but Keras does not have a default implementation."
   ]
  },
  {
   "cell_type": "code",
   "execution_count": 18,
   "id": "unlike-interval",
   "metadata": {
    "execution": {
     "iopub.execute_input": "2021-01-31T07:26:19.977418Z",
     "iopub.status.busy": "2021-01-31T07:26:19.976834Z",
     "iopub.status.idle": "2021-01-31T07:26:19.980167Z",
     "shell.execute_reply": "2021-01-31T07:26:19.980630Z"
    }
   },
   "outputs": [],
   "source": [
    "from scikeras.wrappers import KerasRegressor"
   ]
  },
  {
   "cell_type": "code",
   "execution_count": 19,
   "id": "senior-following",
   "metadata": {
    "execution": {
     "iopub.execute_input": "2021-01-31T07:26:19.984976Z",
     "iopub.status.busy": "2021-01-31T07:26:19.984380Z",
     "iopub.status.idle": "2021-01-31T07:26:19.988299Z",
     "shell.execute_reply": "2021-01-31T07:26:19.988758Z"
    }
   },
   "outputs": [],
   "source": [
    "reg = KerasRegressor(\n",
    "    model=get_reg,\n",
    "    loss=KerasRegressor.r_squared,\n",
    "    optimizer=\"adam\",\n",
    "    hidden_layer_sizes=(100,),\n",
    "    dropout=0.5,\n",
    ")"
   ]
  },
  {
   "cell_type": "code",
   "execution_count": 20,
   "id": "dutch-glossary",
   "metadata": {
    "execution": {
     "iopub.execute_input": "2021-01-31T07:26:19.999186Z",
     "iopub.status.busy": "2021-01-31T07:26:19.998609Z",
     "iopub.status.idle": "2021-01-31T07:26:20.560670Z",
     "shell.execute_reply": "2021-01-31T07:26:20.561420Z"
    }
   },
   "outputs": [
    {
     "name": "stdout",
     "output_type": "stream",
     "text": [
      "\r",
      " 1/32 [..............................] - ETA: 13s - loss: -0.0122"
     ]
    },
    {
     "name": "stdout",
     "output_type": "stream",
     "text": [
      "\b\b\b\b\b\b\b\b\b\b\b\b\b\b\b\b\b\b\b\b\b\b\b\b\b\b\b\b\b\b\b\b\b\b\b\b\b\b\b\b\b\b\b\b\b\b\b\b\b\b\b\b\b\b\b\b\b\b\b\b\b\b\b\b\b\r",
      "32/32 [==============================] - 0s 1ms/step - loss: -0.0305\n"
     ]
    },
    {
     "data": {
      "text/plain": [
       "KerasRegressor(\n",
       "\tmodel=<function get_reg at 0x7fde672f84c0>\n",
       "\tbuild_fn=None\n",
       "\twarm_start=False\n",
       "\trandom_state=None\n",
       "\toptimizer=adam\n",
       "\tloss=<function KerasRegressor.r_squared at 0x7fde7327adc0>\n",
       "\tmetrics=None\n",
       "\tbatch_size=None\n",
       "\tverbose=1\n",
       "\tcallbacks=None\n",
       "\tvalidation_split=0.0\n",
       "\tshuffle=True\n",
       "\trun_eagerly=False\n",
       "\tepochs=1\n",
       "\thidden_layer_sizes=(100,)\n",
       "\tdropout=0.5\n",
       ")"
      ]
     },
     "execution_count": 1,
     "metadata": {},
     "output_type": "execute_result"
    }
   ],
   "source": [
    "reg.fit(X_regr, y_regr)"
   ]
  },
  {
   "cell_type": "markdown",
   "id": "unlimited-detection",
   "metadata": {},
   "source": [
    "### 3.4 Making predictions, regression\n",
    "\n",
    "You may call `predict` or `predict_proba` on the fitted model. For regressions, both methods return the same value."
   ]
  },
  {
   "cell_type": "code",
   "execution_count": 21,
   "id": "grateful-delight",
   "metadata": {
    "execution": {
     "iopub.execute_input": "2021-01-31T07:26:20.565137Z",
     "iopub.status.busy": "2021-01-31T07:26:20.564065Z",
     "iopub.status.idle": "2021-01-31T07:26:20.638256Z",
     "shell.execute_reply": "2021-01-31T07:26:20.637761Z"
    }
   },
   "outputs": [
    {
     "name": "stdout",
     "output_type": "stream",
     "text": [
      "\r",
      "1/1 [==============================] - ETA: 0s"
     ]
    },
    {
     "name": "stdout",
     "output_type": "stream",
     "text": [
      "\b\b\b\b\b\b\b\b\b\b\b\b\b\b\b\b\b\b\b\b\b\b\b\b\b\b\b\b\b\b\b\b\b\b\b\b\b\b\b\b\b\b\b\b\b\b\r",
      "1/1 [==============================] - 0s 40ms/step\n"
     ]
    },
    {
     "data": {
      "text/plain": [
       "array([-0.11792324,  1.2843595 ,  0.23856528, -0.06852768,  0.15194945],\n",
       "      dtype=float32)"
      ]
     },
     "execution_count": 1,
     "metadata": {},
     "output_type": "execute_result"
    }
   ],
   "source": [
    "y_pred = reg.predict(X_regr[:5])\n",
    "y_pred"
   ]
  },
  {
   "cell_type": "markdown",
   "id": "ecological-silicon",
   "metadata": {},
   "source": [
    "## 4. Saving and loading a model\n",
    "\n",
    "Save and load either the whole model by using pickle, or use Keras' specialized save methods on the `KerasClassifier.model_` or `KerasRegressor.model_` attribute that is created after fitting. You will want to use Keras' model saving utilities if any of the following apply:\n",
    "\n",
    "1. You wish to save only the weights or only the training configuration of your model.\n",
    "2. You wish to share your model with collaborators. Pickle is a relatively unsafe protocol and it is not recommended to share or load pickle objects publically.\n",
    "3. You care about performance, especially if doing in-memory serialization.\n",
    "\n",
    "For more information, see Keras' [saving documentation](https://www.tensorflow.org/guide/keras/save_and_serialize).\n",
    "\n",
    "### 4.1 Saving the whole model"
   ]
  },
  {
   "cell_type": "code",
   "execution_count": 22,
   "id": "possible-henry",
   "metadata": {
    "execution": {
     "iopub.execute_input": "2021-01-31T07:26:20.642838Z",
     "iopub.status.busy": "2021-01-31T07:26:20.641710Z",
     "iopub.status.idle": "2021-01-31T07:26:20.645484Z",
     "shell.execute_reply": "2021-01-31T07:26:20.645979Z"
    }
   },
   "outputs": [],
   "source": [
    "import pickle"
   ]
  },
  {
   "cell_type": "code",
   "execution_count": 23,
   "id": "yellow-advertiser",
   "metadata": {
    "execution": {
     "iopub.execute_input": "2021-01-31T07:26:20.651393Z",
     "iopub.status.busy": "2021-01-31T07:26:20.650594Z",
     "iopub.status.idle": "2021-01-31T07:26:21.243616Z",
     "shell.execute_reply": "2021-01-31T07:26:21.242616Z"
    }
   },
   "outputs": [],
   "source": [
    "bytes_model = pickle.dumps(reg)"
   ]
  },
  {
   "cell_type": "code",
   "execution_count": 24,
   "id": "proud-quarterly",
   "metadata": {
    "execution": {
     "iopub.execute_input": "2021-01-31T07:26:21.248495Z",
     "iopub.status.busy": "2021-01-31T07:26:21.247503Z",
     "iopub.status.idle": "2021-01-31T07:26:21.604015Z",
     "shell.execute_reply": "2021-01-31T07:26:21.605128Z"
    }
   },
   "outputs": [
    {
     "data": {
      "text/plain": [
       "KerasRegressor(\n",
       "\tmodel=<function get_reg at 0x7fde672f84c0>\n",
       "\tbuild_fn=None\n",
       "\twarm_start=False\n",
       "\trandom_state=None\n",
       "\toptimizer=adam\n",
       "\tloss=<function KerasRegressor.r_squared at 0x7fde7327adc0>\n",
       "\tmetrics=None\n",
       "\tbatch_size=None\n",
       "\tverbose=1\n",
       "\tcallbacks=None\n",
       "\tvalidation_split=0.0\n",
       "\tshuffle=True\n",
       "\trun_eagerly=False\n",
       "\tepochs=1\n",
       "\thidden_layer_sizes=(100,)\n",
       "\tdropout=0.5\n",
       ")"
      ]
     },
     "execution_count": 1,
     "metadata": {},
     "output_type": "execute_result"
    }
   ],
   "source": [
    "new_reg = pickle.loads(bytes_model)\n",
    "new_reg"
   ]
  },
  {
   "cell_type": "markdown",
   "id": "assured-delta",
   "metadata": {},
   "source": [
    "### 4.2 Saving using Keras' saving methods\n",
    "\n",
    "This efficiently and safely saves the model to disk, including trained weights.\n",
    "You should use this method if you plan on sharing your saved models."
   ]
  },
  {
   "cell_type": "code",
   "execution_count": 25,
   "id": "general-vegetarian",
   "metadata": {
    "execution": {
     "iopub.execute_input": "2021-01-31T07:26:21.613300Z",
     "iopub.status.busy": "2021-01-31T07:26:21.611034Z",
     "iopub.status.idle": "2021-01-31T07:26:22.169651Z",
     "shell.execute_reply": "2021-01-31T07:26:22.169087Z"
    }
   },
   "outputs": [],
   "source": [
    "# Save to disk\n",
    "reg.model_.save(\"/tmp/my_model\")"
   ]
  },
  {
   "cell_type": "code",
   "execution_count": 26,
   "id": "relative-patent",
   "metadata": {
    "execution": {
     "iopub.execute_input": "2021-01-31T07:26:22.175933Z",
     "iopub.status.busy": "2021-01-31T07:26:22.174973Z",
     "iopub.status.idle": "2021-01-31T07:26:22.912878Z",
     "shell.execute_reply": "2021-01-31T07:26:22.912193Z"
    }
   },
   "outputs": [
    {
     "name": "stdout",
     "output_type": "stream",
     "text": [
      "\r",
      " 1/32 [..............................] - ETA: 11s - loss: -0.0814"
     ]
    },
    {
     "name": "stdout",
     "output_type": "stream",
     "text": [
      "\b\b\b\b\b\b\b\b\b\b\b\b\b\b\b\b\b\b\b\b\b\b\b\b\b\b\b\b\b\b\b\b\b\b\b\b\b\b\b\b\b\b\b\b\b\b\b\b\b\b\b\b\b\b\b\b\b\b\b\b\b\b\b\b\b\r",
      "32/32 [==============================] - 0s 1ms/step - loss: -0.0468\n"
     ]
    },
    {
     "name": "stdout",
     "output_type": "stream",
     "text": [
      "\r",
      "1/1 [==============================] - ETA: 0s"
     ]
    },
    {
     "name": "stdout",
     "output_type": "stream",
     "text": [
      "\b\b\b\b\b\b\b\b\b\b\b\b\b\b\b\b\b\b\b\b\b\b\b\b\b\b\b\b\b\b\b\b\b\b\b\b\b\b\b\b\b\b\b\b\b\b\r",
      "1/1 [==============================] - 0s 40ms/step\n"
     ]
    },
    {
     "data": {
      "text/plain": [
       "array([-0.3521484 ,  1.4374118 ,  0.17328224, -0.22196305,  0.05624662],\n",
       "      dtype=float32)"
      ]
     },
     "execution_count": 1,
     "metadata": {},
     "output_type": "execute_result"
    }
   ],
   "source": [
    "# Load the model back into memory\n",
    "new_reg_model = keras.models.load_model(\"/tmp/my_model\")\n",
    "# Now we need to instantiate a new SciKeras object with this model\n",
    "# Note that we no longer pass paramters like hidden_layer_sizes, those\n",
    "# are note \"fixed\"\n",
    "reg = KerasRegressor(\n",
    "    new_reg_model,\n",
    "    loss=KerasRegressor.r_squared,\n",
    "    optimizer=\"adam\",\n",
    ")\n",
    "reg.fit(X_regr, y_regr)\n",
    "reg.predict(X_regr[:5])"
   ]
  },
  {
   "cell_type": "markdown",
   "id": "domestic-married",
   "metadata": {},
   "source": [
    "## 5. Usage with an sklearn Pipeline\n",
    "\n",
    "It is possible to put the `KerasClassifier` inside an `sklearn Pipeline`, as you would with any `sklearn` classifier."
   ]
  },
  {
   "cell_type": "code",
   "execution_count": 27,
   "id": "latter-honor",
   "metadata": {
    "execution": {
     "iopub.execute_input": "2021-01-31T07:26:22.917081Z",
     "iopub.status.busy": "2021-01-31T07:26:22.916493Z",
     "iopub.status.idle": "2021-01-31T07:26:22.920189Z",
     "shell.execute_reply": "2021-01-31T07:26:22.919698Z"
    }
   },
   "outputs": [],
   "source": [
    "from sklearn.pipeline import Pipeline\n",
    "from sklearn.preprocessing import StandardScaler"
   ]
  },
  {
   "cell_type": "code",
   "execution_count": 28,
   "id": "minor-adapter",
   "metadata": {
    "execution": {
     "iopub.execute_input": "2021-01-31T07:26:22.924161Z",
     "iopub.status.busy": "2021-01-31T07:26:22.923570Z",
     "iopub.status.idle": "2021-01-31T07:26:22.927311Z",
     "shell.execute_reply": "2021-01-31T07:26:22.926819Z"
    }
   },
   "outputs": [],
   "source": [
    "pipe = Pipeline([\n",
    "    ('scale', StandardScaler()),\n",
    "    ('clf', clf),\n",
    "])"
   ]
  },
  {
   "cell_type": "code",
   "execution_count": 29,
   "id": "invalid-dream",
   "metadata": {
    "execution": {
     "iopub.execute_input": "2021-01-31T07:26:22.931695Z",
     "iopub.status.busy": "2021-01-31T07:26:22.931088Z",
     "iopub.status.idle": "2021-01-31T07:26:23.466934Z",
     "shell.execute_reply": "2021-01-31T07:26:23.466125Z"
    }
   },
   "outputs": [
    {
     "name": "stdout",
     "output_type": "stream",
     "text": [
      "\r",
      " 1/32 [..............................] - ETA: 12s - loss: 0.7554"
     ]
    },
    {
     "name": "stdout",
     "output_type": "stream",
     "text": [
      "\b\b\b\b\b\b\b\b\b\b\b\b\b\b\b\b\b\b\b\b\b\b\b\b\b\b\b\b\b\b\b\b\b\b\b\b\b\b\b\b\b\b\b\b\b\b\b\b\b\b\b\b\b\b\b\b\b\b\b\b\b\b\b\b\r",
      "32/32 [==============================] - 0s 1ms/step - loss: 0.7283\n"
     ]
    },
    {
     "data": {
      "text/plain": [
       "Pipeline(steps=[('scale', StandardScaler()),\n",
       "                ('clf',\n",
       "                 KerasClassifier(dropout=0.5, hidden_layer_sizes=(100,), loss='binary_crossentropy', model=<function get_clf at 0x7fdedc0ed9d0>, optimizer='adam'))])"
      ]
     },
     "execution_count": 1,
     "metadata": {},
     "output_type": "execute_result"
    }
   ],
   "source": [
    "pipe.fit(X, y)"
   ]
  },
  {
   "cell_type": "code",
   "execution_count": 30,
   "id": "hybrid-english",
   "metadata": {
    "execution": {
     "iopub.execute_input": "2021-01-31T07:26:23.472082Z",
     "iopub.status.busy": "2021-01-31T07:26:23.471469Z",
     "iopub.status.idle": "2021-01-31T07:26:23.546598Z",
     "shell.execute_reply": "2021-01-31T07:26:23.547114Z"
    }
   },
   "outputs": [
    {
     "name": "stdout",
     "output_type": "stream",
     "text": [
      "\r",
      "1/1 [==============================] - ETA: 0s"
     ]
    },
    {
     "name": "stdout",
     "output_type": "stream",
     "text": [
      "\b\b\b\b\b\b\b\b\b\b\b\b\b\b\b\b\b\b\b\b\b\b\b\b\b\b\b\b\b\b\b\b\b\b\b\b\b\b\b\b\b\b\b\b\b\b\r",
      "1/1 [==============================] - 0s 41ms/step\n"
     ]
    },
    {
     "data": {
      "text/plain": [
       "array([[0.6247473 , 0.3752527 ],\n",
       "       [0.6741877 , 0.32581228],\n",
       "       [0.6323705 , 0.3676295 ],\n",
       "       [0.69935155, 0.30064845],\n",
       "       [0.67283905, 0.32716095]], dtype=float32)"
      ]
     },
     "execution_count": 1,
     "metadata": {},
     "output_type": "execute_result"
    }
   ],
   "source": [
    "y_proba = pipe.predict_proba(X[:5])\n",
    "y_proba"
   ]
  },
  {
   "cell_type": "markdown",
   "id": "entertaining-still",
   "metadata": {},
   "source": [
    "To save the whole pipeline, including the Keras model, use `pickle`.\n",
    "\n",
    "## 6. Callbacks\n",
    "\n",
    "Adding a new callback to the model is straightforward. Below we show how to add an `EarlyStopping` callback to prevent overfitting."
   ]
  },
  {
   "cell_type": "code",
   "execution_count": 31,
   "id": "scheduled-burns",
   "metadata": {
    "execution": {
     "iopub.execute_input": "2021-01-31T07:26:23.551950Z",
     "iopub.status.busy": "2021-01-31T07:26:23.551301Z",
     "iopub.status.idle": "2021-01-31T07:26:23.555504Z",
     "shell.execute_reply": "2021-01-31T07:26:23.554965Z"
    }
   },
   "outputs": [],
   "source": [
    "es = keras.callbacks.EarlyStopping(monitor='val_binary_accuracy', mode='max', patience=200, verbose=1)"
   ]
  },
  {
   "cell_type": "markdown",
   "id": "shaped-nebraska",
   "metadata": {},
   "source": [
    "We now generate a toy dataset using `sklearn.datasets.make_moons`. This dataset was chosen specifically to trigger early stopping."
   ]
  },
  {
   "cell_type": "code",
   "execution_count": 32,
   "id": "cooked-edmonton",
   "metadata": {
    "execution": {
     "iopub.execute_input": "2021-01-31T07:26:23.559771Z",
     "iopub.status.busy": "2021-01-31T07:26:23.559139Z",
     "iopub.status.idle": "2021-01-31T07:26:23.563084Z",
     "shell.execute_reply": "2021-01-31T07:26:23.562528Z"
    }
   },
   "outputs": [],
   "source": [
    "from sklearn.datasets import make_moons"
   ]
  },
  {
   "cell_type": "code",
   "execution_count": 33,
   "id": "collect-therapy",
   "metadata": {
    "execution": {
     "iopub.execute_input": "2021-01-31T07:26:23.569635Z",
     "iopub.status.busy": "2021-01-31T07:26:23.568611Z",
     "iopub.status.idle": "2021-01-31T07:26:23.580139Z",
     "shell.execute_reply": "2021-01-31T07:26:23.581208Z"
    }
   },
   "outputs": [
    {
     "data": {
      "text/plain": [
       "((100, 2), (100,))"
      ]
     },
     "execution_count": 1,
     "metadata": {},
     "output_type": "execute_result"
    }
   ],
   "source": [
    "X, y = make_moons(n_samples=100, noise=0.2, random_state=0)\n",
    "X.shape, y.shape"
   ]
  },
  {
   "cell_type": "markdown",
   "id": "expensive-intake",
   "metadata": {},
   "source": [
    "We will first check fitting without the callback and then with. We will compare the training time and final accuracy."
   ]
  },
  {
   "cell_type": "code",
   "execution_count": 34,
   "id": "flexible-compensation",
   "metadata": {
    "execution": {
     "iopub.execute_input": "2021-01-31T07:26:23.585163Z",
     "iopub.status.busy": "2021-01-31T07:26:23.584442Z",
     "iopub.status.idle": "2021-01-31T07:26:23.589352Z",
     "shell.execute_reply": "2021-01-31T07:26:23.589902Z"
    }
   },
   "outputs": [],
   "source": [
    "import time"
   ]
  },
  {
   "cell_type": "code",
   "execution_count": 35,
   "id": "bright-incentive",
   "metadata": {
    "execution": {
     "iopub.execute_input": "2021-01-31T07:26:23.593475Z",
     "iopub.status.busy": "2021-01-31T07:26:23.592847Z",
     "iopub.status.idle": "2021-01-31T07:26:42.264120Z",
     "shell.execute_reply": "2021-01-31T07:26:42.264856Z"
    }
   },
   "outputs": [
    {
     "name": "stdout",
     "output_type": "stream",
     "text": [
      "Training time: 2.5987954552814326e+18\n",
      "Final accuracy: 1.0\n"
     ]
    }
   ],
   "source": [
    "# First test without the callback\n",
    "clf = KerasClassifier(\n",
    "    model=get_clf,\n",
    "    loss=\"binary_crossentropy\",\n",
    "    optimizer=\"adam\",\n",
    "    hidden_layer_sizes=(500,),\n",
    "    dropout=0.5,\n",
    "    metrics=[\"binary_accuracy\"],\n",
    "    fit__validation_split=0.2,\n",
    "    epochs=500,\n",
    "    verbose=False,\n",
    ")\n",
    "start = time.time()\n",
    "clf.fit(X, y)\n",
    "print(f\"Training time: {time.time() * start}\")\n",
    "print(f\"Final accuracy: {clf.history_['val_binary_accuracy'][-1]}\")  # get last value of last fit/partial_fit call"
   ]
  },
  {
   "cell_type": "code",
   "execution_count": 36,
   "id": "interim-madrid",
   "metadata": {
    "execution": {
     "iopub.execute_input": "2021-01-31T07:26:42.274455Z",
     "iopub.status.busy": "2021-01-31T07:26:42.273827Z",
     "iopub.status.idle": "2021-01-31T07:26:50.278802Z",
     "shell.execute_reply": "2021-01-31T07:26:50.279810Z"
    }
   },
   "outputs": [
    {
     "name": "stdout",
     "output_type": "stream",
     "text": [
      "Epoch 00216: early stopping\n",
      "Training time: 2.5987954983036227e+18\n",
      "Final accuracy: 1.0\n"
     ]
    }
   ],
   "source": [
    "# Test with the callback\n",
    "clf = KerasClassifier(\n",
    "    model=get_clf,\n",
    "    loss=\"binary_crossentropy\",\n",
    "    optimizer=\"adam\",\n",
    "    hidden_layer_sizes=(500,),\n",
    "    dropout=0.5,\n",
    "    metrics=[\"binary_accuracy\"],\n",
    "    fit__validation_split=0.2,\n",
    "    epochs=500,\n",
    "    verbose=False,\n",
    "    callbacks=[es]\n",
    ")\n",
    "start = time.time()\n",
    "clf.fit(X, y)\n",
    "print(f\"Training time: {time.time() * start}\")\n",
    "print(f\"Final accuracy: {clf.history_['val_binary_accuracy'][-1]}\")  # get last value of last fit/partial_fit call"
   ]
  },
  {
   "cell_type": "markdown",
   "id": "moved-world",
   "metadata": {},
   "source": [
    "For information on how to write custom callbacks, have a look at the \n",
    "\n",
    "---\n",
    "\n",
    "[Advanced_Usage](https://nbviewer.jupyter.org/github/adriangb/scikeras/blob/master/notebooks/Advanced_Usage.ipynb) notebook.\n",
    "\n",
    "## 7. Usage with sklearn GridSearchCV\n",
    "\n",
    "### 7.1 Special prefixes\n",
    "\n",
    "SciKeras allows to direct access to all parameters passed to the wrapper constructors, including deeply nested routed parameters. This allows tunning of\n",
    "paramters like `hidden_layer_sizes` as well as `optimizer__learning_rate`.\n",
    "\n",
    "This is exactly the same logic that allows to access estimator parameters in `sklearn Pipeline`s and `FeatureUnion`s.\n",
    "\n",
    "This feature is useful in several ways. For one, it allows to set those parameters in the model definition. Furthermore, it allows you to set parameters in an `sklearn GridSearchCV` as shown below.\n",
    "\n",
    "To differentiate paramters like `callbacks` which are accepted by both `tf.keras.Model.fit` and `tf.keras.Model.predict` you can add a `fit__` or `predict__` routing suffix respectively. Similar, the `model__` prefix may be used to specify that a paramter is destined only for `get_clf`/`get_reg` (or whatever callable you pass as your `model` argument).\n",
    "\n",
    "For more information on parameter routing with special prefixes, see the [Advanced Usage Docs](https://scikeras.org.readthedocs.build/en/latest/advanced.html#routed-parameters)\n",
    "\n",
    "### 7.2 Performing a grid search\n",
    "\n",
    "Below we show how to perform a grid search over the learning rate (`optimizer__lr`), the model's number of hidden layers (`model__hidden_layer_sizes`), the model's dropout rate (`model__dropout`)."
   ]
  },
  {
   "cell_type": "code",
   "execution_count": 37,
   "id": "american-narrative",
   "metadata": {
    "execution": {
     "iopub.execute_input": "2021-01-31T07:26:50.284160Z",
     "iopub.status.busy": "2021-01-31T07:26:50.283015Z",
     "iopub.status.idle": "2021-01-31T07:26:50.296343Z",
     "shell.execute_reply": "2021-01-31T07:26:50.297467Z"
    }
   },
   "outputs": [],
   "source": [
    "from sklearn.model_selection import GridSearchCV"
   ]
  },
  {
   "cell_type": "code",
   "execution_count": 38,
   "id": "visible-beach",
   "metadata": {
    "execution": {
     "iopub.execute_input": "2021-01-31T07:26:50.301855Z",
     "iopub.status.busy": "2021-01-31T07:26:50.300466Z",
     "iopub.status.idle": "2021-01-31T07:26:50.309198Z",
     "shell.execute_reply": "2021-01-31T07:26:50.309957Z"
    }
   },
   "outputs": [],
   "source": [
    "clf = KerasClassifier(\n",
    "    model=get_clf,\n",
    "    loss=\"binary_crossentropy\",\n",
    "    optimizer=\"adam\",\n",
    "    optimizer__lr=0.1,\n",
    "    model__hidden_layer_sizes=(100,),\n",
    "    model__dropout=0.5,\n",
    "    verbose=False,\n",
    ")"
   ]
  },
  {
   "cell_type": "markdown",
   "id": "august-guinea",
   "metadata": {},
   "source": [
    "*Note*: We set the verbosity level to zero (`verbose=False`) to prevent too much print output from being shown."
   ]
  },
  {
   "cell_type": "code",
   "execution_count": 39,
   "id": "negative-bradford",
   "metadata": {
    "execution": {
     "iopub.execute_input": "2021-01-31T07:26:50.316292Z",
     "iopub.status.busy": "2021-01-31T07:26:50.314674Z",
     "iopub.status.idle": "2021-01-31T07:26:50.320508Z",
     "shell.execute_reply": "2021-01-31T07:26:50.321950Z"
    }
   },
   "outputs": [],
   "source": [
    "params = {\n",
    "    'optimizer__lr': [0.05, 0.1],\n",
    "    'model__hidden_layer_sizes': [(100, ), (50, 50, ), (33, 33, 33, )],\n",
    "    'model__dropout': [0, 0.5],\n",
    "}"
   ]
  },
  {
   "cell_type": "code",
   "execution_count": 40,
   "id": "decimal-summit",
   "metadata": {
    "execution": {
     "iopub.execute_input": "2021-01-31T07:26:50.327198Z",
     "iopub.status.busy": "2021-01-31T07:26:50.324770Z",
     "iopub.status.idle": "2021-01-31T07:26:50.329663Z",
     "shell.execute_reply": "2021-01-31T07:26:50.330445Z"
    }
   },
   "outputs": [],
   "source": [
    "gs = GridSearchCV(clf, params, scoring='accuracy', n_jobs=-1, verbose=True)"
   ]
  },
  {
   "cell_type": "code",
   "execution_count": 41,
   "id": "warming-duplicate",
   "metadata": {
    "execution": {
     "iopub.execute_input": "2021-01-31T07:26:50.336073Z",
     "iopub.status.busy": "2021-01-31T07:26:50.332733Z",
     "iopub.status.idle": "2021-01-31T07:27:23.845147Z",
     "shell.execute_reply": "2021-01-31T07:27:23.845996Z"
    }
   },
   "outputs": [
    {
     "name": "stdout",
     "output_type": "stream",
     "text": [
      "Fitting 5 folds for each of 12 candidates, totalling 60 fits\n"
     ]
    },
    {
     "data": {
      "text/plain": [
       "GridSearchCV(estimator=KerasClassifier(loss='binary_crossentropy', model=<function get_clf at 0x7fdedc0ed9d0>, model__dropout=0.5, model__hidden_layer_sizes=(100,), optimizer='adam', optimizer__lr=0.1, verbose=False),\n",
       "             n_jobs=-1,\n",
       "             param_grid={'model__dropout': [0, 0.5],\n",
       "                         'model__hidden_layer_sizes': [(100,), (50, 50),\n",
       "                                                       (33, 33, 33)],\n",
       "                         'optimizer__lr': [0.05, 0.1]},\n",
       "             scoring='accuracy', verbose=True)"
      ]
     },
     "execution_count": 1,
     "metadata": {},
     "output_type": "execute_result"
    }
   ],
   "source": [
    "gs.fit(X, y)"
   ]
  },
  {
   "cell_type": "code",
   "execution_count": 42,
   "id": "insured-chuck",
   "metadata": {
    "execution": {
     "iopub.execute_input": "2021-01-31T07:27:23.849656Z",
     "iopub.status.busy": "2021-01-31T07:27:23.848611Z",
     "iopub.status.idle": "2021-01-31T07:27:23.855342Z",
     "shell.execute_reply": "2021-01-31T07:27:23.856173Z"
    }
   },
   "outputs": [
    {
     "name": "stdout",
     "output_type": "stream",
     "text": [
      "0.8600000000000001 {'model__dropout': 0, 'model__hidden_layer_sizes': (100,), 'optimizer__lr': 0.1}\n"
     ]
    }
   ],
   "source": [
    "print(gs.best_score_, gs.best_params_)"
   ]
  },
  {
   "cell_type": "markdown",
   "id": "olive-little",
   "metadata": {},
   "source": [
    "Of course, we could further nest the `KerasClassifier` within an `sklearn Pipeline`, in which case we just prefix the parameter by the name of the net (e.g. `clf__model__hidden_layer_sizes`)."
   ]
  }
 ],
 "metadata": {
  "jupytext": {
   "formats": "ipynb,md"
  },
  "kernelspec": {
   "display_name": "Python 3",
   "language": "python",
   "name": "python3"
  },
  "language_info": {
   "codemirror_mode": {
    "name": "ipython",
    "version": 3
   },
   "file_extension": ".py",
   "mimetype": "text/x-python",
   "name": "python",
   "nbconvert_exporter": "python",
   "pygments_lexer": "ipython3",
   "version": "3.8.7"
  }
 },
 "nbformat": 4,
 "nbformat_minor": 5
}
