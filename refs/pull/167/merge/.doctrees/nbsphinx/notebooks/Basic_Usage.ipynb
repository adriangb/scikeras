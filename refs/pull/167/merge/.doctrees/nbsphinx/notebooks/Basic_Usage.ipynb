{
 "cells": [
  {
   "cell_type": "raw",
   "id": "excited-classroom",
   "metadata": {},
   "source": [
    "<a href=\"https://colab.research.google.com/github/adriangb/scikeras/blob/docs-deploy/refs/heads/master/notebooks/Basic_Usage.ipynb\"><img src=\"https://www.tensorflow.org/images/colab_logo_32px.png\">Run in Google Colab</a>"
   ]
  },
  {
   "cell_type": "markdown",
   "id": "cordless-sussex",
   "metadata": {},
   "source": [
    "# Basic usage\n",
    "\n",
    "`SciKeras` is designed to maximize interoperability between `sklearn` and `Keras/TensorFlow`. The aim is to keep 99% of the flexibility of `Keras` while being able to leverage most features of `sklearn`. Below, we show the basic usage of `SciKeras` and how it can be combined with `sklearn`.\n",
    "\n",
    "This notebook shows you how to use the basic functionality of `SciKeras`.\n",
    "\n",
    "## Table of contents\n",
    "\n",
    "* [1. Setup](#1.-Setup)\n",
    "* [2. Training a classifier and making predictions](#2.-Training-a-classifier-and-making-predictions)\n",
    "  * [2.1 A toy binary classification task](#2.1-A-toy-binary-classification-task)\n",
    "  * [2.2 Definition of the Keras classification Model](#2.2-Definition-of-the-Keras-classification-Model)\n",
    "  * [2.3 Defining and training the neural net classifier](#2.3-Defining-and-training-the-neural-net-classifier)\n",
    "  * [2.4 Making predictions, classification](#2.4-Making-predictions-classification)\n",
    "* [3 Training a regressor](#3.-Training-a-regressor)\n",
    "  * [3.1 A toy regression task](#3.1-A-toy-regression-task)\n",
    "  * [3.2 Definition of the Keras regression Model](#3.2-Definition-of-the-Keras-regression-Model)\n",
    "  * [3.3 Defining and training the neural net regressor](#3.3-Defining-and-training-the-neural-net-regressor)\n",
    "  * [3.4 Making predictions, regression](#3.4-Making-predictions-regression)\n",
    "* [4. Saving and loading a model](#4.-Saving-and-loading-a-model)\n",
    "  * [4.1 Saving the whole model](#4.1-Saving-the-whole-model)\n",
    "  * [4.2 Saving using Keras' saving methods](#4.2-Saving-using-Keras-saving-methods)\n",
    "* [5. Usage with an sklearn Pipeline](#5.-Usage-with-an-sklearn-Pipeline)\n",
    "* [6. Callbacks](#6.-Callbacks)\n",
    "* [7. Usage with sklearn GridSearchCV](#7.-Usage-with-sklearn-GridSearchCV)\n",
    "  * [7.1 Special prefixes](#7.1-Special-prefixes)\n",
    "  * [7.2 Performing a grid search](#7.2-Performing-a-grid-search)\n",
    "\n",
    "## 1. Setup"
   ]
  },
  {
   "cell_type": "code",
   "execution_count": 1,
   "id": "graduate-german",
   "metadata": {
    "execution": {
     "iopub.execute_input": "2021-01-25T23:56:45.957603Z",
     "iopub.status.busy": "2021-01-25T23:56:45.952699Z",
     "iopub.status.idle": "2021-01-25T23:56:50.115170Z",
     "shell.execute_reply": "2021-01-25T23:56:50.115793Z"
    }
   },
   "outputs": [],
   "source": [
    "try:\n",
    "    import scikeras\n",
    "except ImportError:\n",
    "    !python -m pip install scikeras"
   ]
  },
  {
   "cell_type": "markdown",
   "id": "instant-going",
   "metadata": {},
   "source": [
    "Silence TensorFlow logging to keep output succinct."
   ]
  },
  {
   "cell_type": "code",
   "execution_count": 2,
   "id": "metropolitan-backing",
   "metadata": {
    "execution": {
     "iopub.execute_input": "2021-01-25T23:56:50.121557Z",
     "iopub.status.busy": "2021-01-25T23:56:50.118576Z",
     "iopub.status.idle": "2021-01-25T23:56:50.124197Z",
     "shell.execute_reply": "2021-01-25T23:56:50.125047Z"
    }
   },
   "outputs": [],
   "source": [
    "import warnings\n",
    "from tensorflow import get_logger\n",
    "get_logger().setLevel('ERROR')\n",
    "warnings.filterwarnings(\"ignore\", message=\"Setting the random state for TF\")"
   ]
  },
  {
   "cell_type": "code",
   "execution_count": 3,
   "id": "applicable-singles",
   "metadata": {
    "execution": {
     "iopub.execute_input": "2021-01-25T23:56:50.128512Z",
     "iopub.status.busy": "2021-01-25T23:56:50.127390Z",
     "iopub.status.idle": "2021-01-25T23:56:50.670027Z",
     "shell.execute_reply": "2021-01-25T23:56:50.670864Z"
    }
   },
   "outputs": [],
   "source": [
    "import numpy as np\n",
    "from scikeras.wrappers import KerasClassifier, KerasRegressor\n",
    "from tensorflow import keras"
   ]
  },
  {
   "cell_type": "markdown",
   "id": "measured-gasoline",
   "metadata": {},
   "source": [
    "## 2. Training a classifier and making predictions\n",
    "\n",
    "### 2.1 A toy binary classification task\n",
    "\n",
    "We load a toy classification task from `sklearn`."
   ]
  },
  {
   "cell_type": "code",
   "execution_count": 4,
   "id": "sixth-summit",
   "metadata": {
    "execution": {
     "iopub.execute_input": "2021-01-25T23:56:50.674711Z",
     "iopub.status.busy": "2021-01-25T23:56:50.673566Z",
     "iopub.status.idle": "2021-01-25T23:56:50.704212Z",
     "shell.execute_reply": "2021-01-25T23:56:50.705081Z"
    }
   },
   "outputs": [],
   "source": [
    "import numpy as np\n",
    "from sklearn.datasets import make_classification"
   ]
  },
  {
   "cell_type": "code",
   "execution_count": 5,
   "id": "municipal-gazette",
   "metadata": {
    "execution": {
     "iopub.execute_input": "2021-01-25T23:56:50.708918Z",
     "iopub.status.busy": "2021-01-25T23:56:50.707797Z",
     "iopub.status.idle": "2021-01-25T23:56:50.715924Z",
     "shell.execute_reply": "2021-01-25T23:56:50.716735Z"
    }
   },
   "outputs": [],
   "source": [
    "X, y = make_classification(1000, 20, n_informative=10, random_state=0)"
   ]
  },
  {
   "cell_type": "code",
   "execution_count": 6,
   "id": "judicial-shannon",
   "metadata": {
    "execution": {
     "iopub.execute_input": "2021-01-25T23:56:50.720489Z",
     "iopub.status.busy": "2021-01-25T23:56:50.719384Z",
     "iopub.status.idle": "2021-01-25T23:56:50.733204Z",
     "shell.execute_reply": "2021-01-25T23:56:50.734002Z"
    }
   },
   "outputs": [
    {
     "data": {
      "text/plain": [
       "((1000, 20), (1000,), 0.5)"
      ]
     },
     "execution_count": 1,
     "metadata": {},
     "output_type": "execute_result"
    }
   ],
   "source": [
    "X.shape, y.shape, y.mean()"
   ]
  },
  {
   "cell_type": "markdown",
   "id": "alien-archive",
   "metadata": {},
   "source": [
    "### 2.2 Definition of the Keras classification Model\n",
    "\n",
    "We define a vanilla neural network with.\n",
    "\n",
    "Because we are dealing with 2 classes, the output layer can be constructed in\n",
    "two different ways:\n",
    "\n",
    "1. Single unit with a `\"sigmoid\"` nonlinearity. The loss must be `\"binary_crossentropy\"`.\n",
    "2. Two units (one for each class) and a `\"softmax\"` nonlinearity. The loss must be `\"sparse_categorical_crossentropy\"`.\n",
    "\n",
    "In this example, we choose the first option, which is what you would usually\n",
    "do for binary classification. The second option is usually reserved for when\n",
    "you have >2 classes."
   ]
  },
  {
   "cell_type": "code",
   "execution_count": 7,
   "id": "signed-madison",
   "metadata": {
    "execution": {
     "iopub.execute_input": "2021-01-25T23:56:50.737721Z",
     "iopub.status.busy": "2021-01-25T23:56:50.736547Z",
     "iopub.status.idle": "2021-01-25T23:56:50.741950Z",
     "shell.execute_reply": "2021-01-25T23:56:50.742952Z"
    }
   },
   "outputs": [],
   "source": [
    "from tensorflow import keras"
   ]
  },
  {
   "cell_type": "code",
   "execution_count": 8,
   "id": "whole-imperial",
   "metadata": {
    "execution": {
     "iopub.execute_input": "2021-01-25T23:56:50.746478Z",
     "iopub.status.busy": "2021-01-25T23:56:50.745363Z",
     "iopub.status.idle": "2021-01-25T23:56:50.752208Z",
     "shell.execute_reply": "2021-01-25T23:56:50.752989Z"
    }
   },
   "outputs": [],
   "source": [
    "def get_clf(meta, hidden_layer_sizes, dropout):\n",
    "    n_features_in_ = meta[\"n_features_in_\"]\n",
    "    n_classes_ = meta[\"n_classes_\"]\n",
    "    model = keras.models.Sequential()\n",
    "    model.add(keras.layers.Input(shape=(n_features_in_,)))\n",
    "    for hidden_layer_size in hidden_layer_sizes:\n",
    "        model.add(keras.layers.Dense(hidden_layer_size, activation=\"relu\"))\n",
    "        model.add(keras.layers.Dropout(dropout))\n",
    "    model.add(keras.layers.Dense(1, activation=\"sigmoid\"))\n",
    "    return model"
   ]
  },
  {
   "cell_type": "markdown",
   "id": "hispanic-switch",
   "metadata": {},
   "source": [
    "### 2.3 Defining and training the neural net classifier\n",
    "\n",
    "We use `KerasClassifier` because we're dealing with a classifcation task. The first argument should be a callable returning a `Keras.Model`, in this case, `get_clf`. As additional arguments, we pass the number of loss function (required) and the optimizer, but the later is optional. We must also pass all of the arguments to `get_clf` as keyword arguments to `KerasClassifier` if they don't have a default value in `get_clf`. Note that if you do not pass an argument to `KerasClassifier`, it will not be avilable for hyperparameter tuning. Finally, we also pass `random_state=0` for reproducible results."
   ]
  },
  {
   "cell_type": "code",
   "execution_count": 9,
   "id": "driven-talent",
   "metadata": {
    "execution": {
     "iopub.execute_input": "2021-01-25T23:56:50.756730Z",
     "iopub.status.busy": "2021-01-25T23:56:50.755441Z",
     "iopub.status.idle": "2021-01-25T23:56:50.759979Z",
     "shell.execute_reply": "2021-01-25T23:56:50.760761Z"
    }
   },
   "outputs": [],
   "source": [
    "from scikeras.wrappers import KerasClassifier"
   ]
  },
  {
   "cell_type": "code",
   "execution_count": 10,
   "id": "alternate-worse",
   "metadata": {
    "execution": {
     "iopub.execute_input": "2021-01-25T23:56:50.764523Z",
     "iopub.status.busy": "2021-01-25T23:56:50.763391Z",
     "iopub.status.idle": "2021-01-25T23:56:50.768247Z",
     "shell.execute_reply": "2021-01-25T23:56:50.769036Z"
    }
   },
   "outputs": [],
   "source": [
    "clf = KerasClassifier(\n",
    "    model=get_clf,\n",
    "    loss=\"binary_crossentropy\",\n",
    "    optimizer=\"adam\",\n",
    "    hidden_layer_sizes=(100,),\n",
    "    dropout=0.5,\n",
    ")"
   ]
  },
  {
   "cell_type": "markdown",
   "id": "cloudy-participant",
   "metadata": {},
   "source": [
    "As in `sklearn`, we call `fit` passing the input data `X` and the targets `y`."
   ]
  },
  {
   "cell_type": "code",
   "execution_count": 11,
   "id": "perceived-patch",
   "metadata": {
    "execution": {
     "iopub.execute_input": "2021-01-25T23:56:50.778859Z",
     "iopub.status.busy": "2021-01-25T23:56:50.778186Z",
     "iopub.status.idle": "2021-01-25T23:56:51.380284Z",
     "shell.execute_reply": "2021-01-25T23:56:51.380786Z"
    }
   },
   "outputs": [
    {
     "name": "stdout",
     "output_type": "stream",
     "text": [
      "\r",
      " 1/32 [..............................] - ETA: 14s - loss: 0.9546"
     ]
    },
    {
     "name": "stdout",
     "output_type": "stream",
     "text": [
      "\b\b\b\b\b\b\b\b\b\b\b\b\b\b\b\b\b\b\b\b\b\b\b\b\b\b\b\b\b\b\b\b\b\b\b\b\b\b\b\b\b\b\b\b\b\b\b\b\b\b\b\b\b\b\b\b\b\b\b\b\b\b\b\b\r",
      "32/32 [==============================] - 1s 1ms/step - loss: 0.8685\n"
     ]
    },
    {
     "data": {
      "text/plain": [
       "KerasClassifier(\n",
       "\tmodel=<function get_clf at 0x7f5e38024820>\n",
       "\tbuild_fn=None\n",
       "\twarm_start=False\n",
       "\trandom_state=None\n",
       "\toptimizer=adam\n",
       "\tloss=binary_crossentropy\n",
       "\tmetrics=None\n",
       "\tbatch_size=None\n",
       "\tverbose=1\n",
       "\tcallbacks=None\n",
       "\tvalidation_split=0.0\n",
       "\tshuffle=True\n",
       "\trun_eagerly=False\n",
       "\tepochs=1\n",
       "\thidden_layer_sizes=(100,)\n",
       "\tdropout=0.5\n",
       "\tclass_weight=None\n",
       ")"
      ]
     },
     "execution_count": 1,
     "metadata": {},
     "output_type": "execute_result"
    }
   ],
   "source": [
    "clf.fit(X, y)"
   ]
  },
  {
   "cell_type": "markdown",
   "id": "facial-potter",
   "metadata": {},
   "source": [
    "Also, as in `sklearn`, you may call `predict` or `predict_proba` on the fitted model.\n",
    "\n",
    "### 2.4 Making predictions, classification"
   ]
  },
  {
   "cell_type": "code",
   "execution_count": 12,
   "id": "choice-medication",
   "metadata": {
    "execution": {
     "iopub.execute_input": "2021-01-25T23:56:51.384436Z",
     "iopub.status.busy": "2021-01-25T23:56:51.383827Z",
     "iopub.status.idle": "2021-01-25T23:56:51.517400Z",
     "shell.execute_reply": "2021-01-25T23:56:51.517924Z"
    }
   },
   "outputs": [
    {
     "name": "stdout",
     "output_type": "stream",
     "text": [
      "\r",
      "1/1 [==============================] - ETA: 0s"
     ]
    },
    {
     "name": "stdout",
     "output_type": "stream",
     "text": [
      "\b\b\b\b\b\b\b\b\b\b\b\b\b\b\b\b\b\b\b\b\b\b\b\b\b\b\b\b\b\b\b\b\b\b\b\b\b\b\b\b\b\b\b\b\b\b\r",
      "1/1 [==============================] - 0s 96ms/step\n"
     ]
    },
    {
     "data": {
      "text/plain": [
       "array([0, 0, 0, 0, 0])"
      ]
     },
     "execution_count": 1,
     "metadata": {},
     "output_type": "execute_result"
    }
   ],
   "source": [
    "y_pred = clf.predict(X[:5])\n",
    "y_pred"
   ]
  },
  {
   "cell_type": "code",
   "execution_count": 13,
   "id": "apparent-strain",
   "metadata": {
    "execution": {
     "iopub.execute_input": "2021-01-25T23:56:51.522501Z",
     "iopub.status.busy": "2021-01-25T23:56:51.521876Z",
     "iopub.status.idle": "2021-01-25T23:56:51.589778Z",
     "shell.execute_reply": "2021-01-25T23:56:51.590265Z"
    }
   },
   "outputs": [
    {
     "name": "stdout",
     "output_type": "stream",
     "text": [
      "\r",
      "1/1 [==============================] - ETA: 0s"
     ]
    },
    {
     "name": "stdout",
     "output_type": "stream",
     "text": [
      "\b\b\b\b\b\b\b\b\b\b\b\b\b\b\b\b\b\b\b\b\b\b\b\b\b\b\b\b\b\b\b\b\b\b\b\b\b\b\b\b\b\b\b\b\b\b\r",
      "1/1 [==============================] - 0s 21ms/step\n"
     ]
    },
    {
     "data": {
      "text/plain": [
       "array([[0.62792224, 0.37207776],\n",
       "       [0.6321609 , 0.36783913],\n",
       "       [0.78860915, 0.21139085],\n",
       "       [0.81589377, 0.18410623],\n",
       "       [0.57793367, 0.42206633]], dtype=float32)"
      ]
     },
     "execution_count": 1,
     "metadata": {},
     "output_type": "execute_result"
    }
   ],
   "source": [
    "y_proba = clf.predict_proba(X[:5])\n",
    "y_proba"
   ]
  },
  {
   "cell_type": "markdown",
   "id": "personalized-trigger",
   "metadata": {},
   "source": [
    "## 3 Training a regressor\n",
    "\n",
    "### 3.1 A toy regression task"
   ]
  },
  {
   "cell_type": "code",
   "execution_count": 14,
   "id": "difficult-makeup",
   "metadata": {
    "execution": {
     "iopub.execute_input": "2021-01-25T23:56:51.596959Z",
     "iopub.status.busy": "2021-01-25T23:56:51.595620Z",
     "iopub.status.idle": "2021-01-25T23:56:51.597629Z",
     "shell.execute_reply": "2021-01-25T23:56:51.598140Z"
    }
   },
   "outputs": [],
   "source": [
    "from sklearn.datasets import make_regression"
   ]
  },
  {
   "cell_type": "code",
   "execution_count": 15,
   "id": "instant-wages",
   "metadata": {
    "execution": {
     "iopub.execute_input": "2021-01-25T23:56:51.602523Z",
     "iopub.status.busy": "2021-01-25T23:56:51.601909Z",
     "iopub.status.idle": "2021-01-25T23:56:51.616546Z",
     "shell.execute_reply": "2021-01-25T23:56:51.617366Z"
    }
   },
   "outputs": [],
   "source": [
    "X_regr, y_regr = make_regression(1000, 20, n_informative=10, random_state=0)"
   ]
  },
  {
   "cell_type": "code",
   "execution_count": 16,
   "id": "chicken-dinner",
   "metadata": {
    "execution": {
     "iopub.execute_input": "2021-01-25T23:56:51.640745Z",
     "iopub.status.busy": "2021-01-25T23:56:51.634520Z",
     "iopub.status.idle": "2021-01-25T23:56:51.649740Z",
     "shell.execute_reply": "2021-01-25T23:56:51.650984Z"
    }
   },
   "outputs": [
    {
     "data": {
      "text/plain": [
       "((1000, 20), (1000,), -649.0148244404172, 615.4505181286091)"
      ]
     },
     "execution_count": 1,
     "metadata": {},
     "output_type": "execute_result"
    }
   ],
   "source": [
    "X_regr.shape, y_regr.shape, y_regr.min(), y_regr.max()"
   ]
  },
  {
   "cell_type": "markdown",
   "id": "magnetic-nerve",
   "metadata": {},
   "source": [
    "### 3.2 Definition of the Keras regression Model\n",
    "\n",
    "Again, define a vanilla neural network. The main difference is that the output layer always has a single unit and does not apply any nonlinearity."
   ]
  },
  {
   "cell_type": "code",
   "execution_count": 17,
   "id": "manufactured-calgary",
   "metadata": {
    "execution": {
     "iopub.execute_input": "2021-01-25T23:56:51.662779Z",
     "iopub.status.busy": "2021-01-25T23:56:51.660745Z",
     "iopub.status.idle": "2021-01-25T23:56:51.675379Z",
     "shell.execute_reply": "2021-01-25T23:56:51.676318Z"
    }
   },
   "outputs": [],
   "source": [
    "def get_reg(meta, hidden_layer_sizes, dropout):\n",
    "    n_features_in_ = meta[\"n_features_in_\"]\n",
    "    model = keras.models.Sequential()\n",
    "    model.add(keras.layers.Input(shape=(n_features_in_,)))\n",
    "    for hidden_layer_size in hidden_layer_sizes:\n",
    "        model.add(keras.layers.Dense(hidden_layer_size, activation=\"relu\"))\n",
    "        model.add(keras.layers.Dropout(dropout))\n",
    "    model.add(keras.layers.Dense(1))\n",
    "    return model"
   ]
  },
  {
   "cell_type": "markdown",
   "id": "extensive-balloon",
   "metadata": {},
   "source": [
    "### 3.3 Defining and training the neural net regressor\n",
    "\n",
    "Training a regressor is almost the same as training a classifier. Mainly, we use `KerasRegressor` instead of `KerasClassifier` (this is the same terminology as in `sklearn`). We also change the loss function to `KerasRegressor.r_squared`. SciKeras provides this loss function because most of the `sklearn` ecosystem expects `R^2` as the loss function, but Keras does not have a default implementation."
   ]
  },
  {
   "cell_type": "code",
   "execution_count": 18,
   "id": "metallic-summer",
   "metadata": {
    "execution": {
     "iopub.execute_input": "2021-01-25T23:56:51.682419Z",
     "iopub.status.busy": "2021-01-25T23:56:51.681815Z",
     "iopub.status.idle": "2021-01-25T23:56:51.690356Z",
     "shell.execute_reply": "2021-01-25T23:56:51.691525Z"
    }
   },
   "outputs": [],
   "source": [
    "from scikeras.wrappers import KerasRegressor"
   ]
  },
  {
   "cell_type": "code",
   "execution_count": 19,
   "id": "retained-topic",
   "metadata": {
    "execution": {
     "iopub.execute_input": "2021-01-25T23:56:51.696650Z",
     "iopub.status.busy": "2021-01-25T23:56:51.696036Z",
     "iopub.status.idle": "2021-01-25T23:56:51.702194Z",
     "shell.execute_reply": "2021-01-25T23:56:51.703196Z"
    }
   },
   "outputs": [],
   "source": [
    "reg = KerasRegressor(\n",
    "    model=get_reg,\n",
    "    loss=KerasRegressor.r_squared,\n",
    "    optimizer=\"adam\",\n",
    "    hidden_layer_sizes=(100,),\n",
    "    dropout=0.5,\n",
    ")"
   ]
  },
  {
   "cell_type": "code",
   "execution_count": 20,
   "id": "enormous-notebook",
   "metadata": {
    "execution": {
     "iopub.execute_input": "2021-01-25T23:56:51.707335Z",
     "iopub.status.busy": "2021-01-25T23:56:51.706440Z",
     "iopub.status.idle": "2021-01-25T23:56:52.410591Z",
     "shell.execute_reply": "2021-01-25T23:56:52.411292Z"
    }
   },
   "outputs": [
    {
     "name": "stdout",
     "output_type": "stream",
     "text": [
      "\r",
      " 1/32 [..............................] - ETA: 16s - loss: -0.0487"
     ]
    },
    {
     "name": "stdout",
     "output_type": "stream",
     "text": [
      "\b\b\b\b\b\b\b\b\b\b\b\b\b\b\b\b\b\b\b\b\b\b\b\b\b\b\b\b\b\b\b\b\b\b\b\b\b\b\b\b\b\b\b\b\b\b\b\b\b\b\b\b\b\b\b\b\b\b\b\b\b\b\b\b\b\r",
      "32/32 [==============================] - 1s 998us/step - loss: -0.0299\n"
     ]
    },
    {
     "data": {
      "text/plain": [
       "KerasRegressor(\n",
       "\tmodel=<function get_reg at 0x7f5dc32c43a0>\n",
       "\tbuild_fn=None\n",
       "\twarm_start=False\n",
       "\trandom_state=None\n",
       "\toptimizer=adam\n",
       "\tloss=<function KerasRegressor.r_squared at 0x7f5dcf1fc700>\n",
       "\tmetrics=None\n",
       "\tbatch_size=None\n",
       "\tverbose=1\n",
       "\tcallbacks=None\n",
       "\tvalidation_split=0.0\n",
       "\tshuffle=True\n",
       "\trun_eagerly=False\n",
       "\tepochs=1\n",
       "\thidden_layer_sizes=(100,)\n",
       "\tdropout=0.5\n",
       ")"
      ]
     },
     "execution_count": 1,
     "metadata": {},
     "output_type": "execute_result"
    }
   ],
   "source": [
    "reg.fit(X_regr, y_regr)"
   ]
  },
  {
   "cell_type": "markdown",
   "id": "convenient-peter",
   "metadata": {},
   "source": [
    "### 3.4 Making predictions, regression\n",
    "\n",
    "You may call `predict` or `predict_proba` on the fitted model. For regressions, both methods return the same value."
   ]
  },
  {
   "cell_type": "code",
   "execution_count": 21,
   "id": "electronic-mills",
   "metadata": {
    "execution": {
     "iopub.execute_input": "2021-01-25T23:56:52.415128Z",
     "iopub.status.busy": "2021-01-25T23:56:52.414007Z",
     "iopub.status.idle": "2021-01-25T23:56:52.490184Z",
     "shell.execute_reply": "2021-01-25T23:56:52.489697Z"
    }
   },
   "outputs": [
    {
     "name": "stdout",
     "output_type": "stream",
     "text": [
      "\r",
      "1/1 [==============================] - ETA: 0s"
     ]
    },
    {
     "name": "stdout",
     "output_type": "stream",
     "text": [
      "\b\b\b\b\b\b\b\b\b\b\b\b\b\b\b\b\b\b\b\b\b\b\b\b\b\b\b\b\b\b\b\b\b\b\b\b\b\b\b\b\b\b\b\b\b\b\r",
      "1/1 [==============================] - 0s 44ms/step\n"
     ]
    },
    {
     "data": {
      "text/plain": [
       "array([-0.24165934, -0.02451184,  1.03032148, -0.18592094,  0.05557786])"
      ]
     },
     "execution_count": 1,
     "metadata": {},
     "output_type": "execute_result"
    }
   ],
   "source": [
    "y_pred = reg.predict(X_regr[:5])\n",
    "y_pred"
   ]
  },
  {
   "cell_type": "markdown",
   "id": "alpine-necessity",
   "metadata": {},
   "source": [
    "## 4. Saving and loading a model\n",
    "\n",
    "Save and load either the whole model by using pickle, or use Keras' specialized save methods on the `KerasClassifier.model_` or `KerasRegressor.model_` attribute that is created after fitting. You will want to use Keras' model saving utilities if any of the following apply:\n",
    "\n",
    "1. You wish to save only the weights or only the training configuration of your model.\n",
    "2. You wish to share your model with collaborators. Pickle is a relatively unsafe protocol and it is not recommended to share or load pickle objects publically.\n",
    "3. You care about performance, especially if doing in-memory serialization.\n",
    "\n",
    "For more information, see Keras' [saving documentation](https://www.tensorflow.org/guide/keras/save_and_serialize).\n",
    "\n",
    "### 4.1 Saving the whole model"
   ]
  },
  {
   "cell_type": "code",
   "execution_count": 22,
   "id": "processed-attribute",
   "metadata": {
    "execution": {
     "iopub.execute_input": "2021-01-25T23:56:52.494937Z",
     "iopub.status.busy": "2021-01-25T23:56:52.494100Z",
     "iopub.status.idle": "2021-01-25T23:56:52.497053Z",
     "shell.execute_reply": "2021-01-25T23:56:52.497490Z"
    }
   },
   "outputs": [],
   "source": [
    "import pickle"
   ]
  },
  {
   "cell_type": "code",
   "execution_count": 23,
   "id": "broken-corporation",
   "metadata": {
    "execution": {
     "iopub.execute_input": "2021-01-25T23:56:52.503889Z",
     "iopub.status.busy": "2021-01-25T23:56:52.503333Z",
     "iopub.status.idle": "2021-01-25T23:56:53.214860Z",
     "shell.execute_reply": "2021-01-25T23:56:53.214341Z"
    }
   },
   "outputs": [],
   "source": [
    "bytes_model = pickle.dumps(reg)"
   ]
  },
  {
   "cell_type": "code",
   "execution_count": 24,
   "id": "joint-grade",
   "metadata": {
    "execution": {
     "iopub.execute_input": "2021-01-25T23:56:53.219002Z",
     "iopub.status.busy": "2021-01-25T23:56:53.218094Z",
     "iopub.status.idle": "2021-01-25T23:56:53.507412Z",
     "shell.execute_reply": "2021-01-25T23:56:53.506905Z"
    }
   },
   "outputs": [
    {
     "data": {
      "text/plain": [
       "KerasRegressor(\n",
       "\tmodel=<function get_reg at 0x7f5dc32c43a0>\n",
       "\tbuild_fn=None\n",
       "\twarm_start=False\n",
       "\trandom_state=None\n",
       "\toptimizer=adam\n",
       "\tloss=<function KerasRegressor.r_squared at 0x7f5dcf1fc700>\n",
       "\tmetrics=None\n",
       "\tbatch_size=None\n",
       "\tverbose=1\n",
       "\tcallbacks=None\n",
       "\tvalidation_split=0.0\n",
       "\tshuffle=True\n",
       "\trun_eagerly=False\n",
       "\tepochs=1\n",
       "\thidden_layer_sizes=(100,)\n",
       "\tdropout=0.5\n",
       ")"
      ]
     },
     "execution_count": 1,
     "metadata": {},
     "output_type": "execute_result"
    }
   ],
   "source": [
    "new_reg = pickle.loads(bytes_model)\n",
    "new_reg"
   ]
  },
  {
   "cell_type": "markdown",
   "id": "regular-archive",
   "metadata": {},
   "source": [
    "### 4.2 Saving using Keras' saving methods\n",
    "\n",
    "This efficiently and safely saves the model to disk, including trained weights.\n",
    "You should use this method if you plan on sharing your saved models."
   ]
  },
  {
   "cell_type": "code",
   "execution_count": 25,
   "id": "iraqi-funds",
   "metadata": {
    "execution": {
     "iopub.execute_input": "2021-01-25T23:56:53.513207Z",
     "iopub.status.busy": "2021-01-25T23:56:53.511691Z",
     "iopub.status.idle": "2021-01-25T23:56:54.008939Z",
     "shell.execute_reply": "2021-01-25T23:56:54.009804Z"
    }
   },
   "outputs": [],
   "source": [
    "# Save to disk\n",
    "reg.model_.save(\"/tmp/my_model\")"
   ]
  },
  {
   "cell_type": "code",
   "execution_count": 26,
   "id": "realistic-waterproof",
   "metadata": {
    "execution": {
     "iopub.execute_input": "2021-01-25T23:56:54.026477Z",
     "iopub.status.busy": "2021-01-25T23:56:54.024562Z",
     "iopub.status.idle": "2021-01-25T23:56:54.811472Z",
     "shell.execute_reply": "2021-01-25T23:56:54.810527Z"
    }
   },
   "outputs": [
    {
     "name": "stdout",
     "output_type": "stream",
     "text": [
      "\r",
      " 1/32 [..............................] - ETA: 10s - loss: -0.0257"
     ]
    },
    {
     "name": "stdout",
     "output_type": "stream",
     "text": [
      "\b\b\b\b\b\b\b\b\b\b\b\b\b\b\b\b\b\b\b\b\b\b\b\b\b\b\b\b\b\b\b\b\b\b\b\b\b\b\b\b\b\b\b\b\b\b\b\b\b\b\b\b\b\b\b\b\b\b\b\b\b\b\b\b\b\r",
      "32/32 [==============================] - 0s 1ms/step - loss: -0.0371\n"
     ]
    },
    {
     "name": "stdout",
     "output_type": "stream",
     "text": [
      "\r",
      "1/1 [==============================] - ETA: 0s"
     ]
    },
    {
     "name": "stdout",
     "output_type": "stream",
     "text": [
      "\b\b\b\b\b\b\b\b\b\b\b\b\b\b\b\b\b\b\b\b\b\b\b\b\b\b\b\b\b\b\b\b\b\b\b\b\b\b\b\b\b\b\b\b\b\b\r",
      "1/1 [==============================] - 0s 30ms/step\n"
     ]
    },
    {
     "data": {
      "text/plain": [
       "array([-0.2976808 ,  0.44756383,  0.95464587, -0.27920708,  0.20650196])"
      ]
     },
     "execution_count": 1,
     "metadata": {},
     "output_type": "execute_result"
    }
   ],
   "source": [
    "# Load the model back into memory\n",
    "new_reg_model = keras.models.load_model(\"/tmp/my_model\")\n",
    "# Now we need to instantiate a new SciKeras object with this model\n",
    "# Note that we no longer pass paramters like hidden_layer_sizes, those\n",
    "# are note \"fixed\"\n",
    "reg = KerasRegressor(\n",
    "    new_reg_model,\n",
    "    loss=KerasRegressor.r_squared,\n",
    "    optimizer=\"adam\",\n",
    ")\n",
    "reg.fit(X_regr, y_regr)\n",
    "reg.predict(X_regr[:5])"
   ]
  },
  {
   "cell_type": "markdown",
   "id": "established-bullet",
   "metadata": {},
   "source": [
    "## 5. Usage with an sklearn Pipeline\n",
    "\n",
    "It is possible to put the `KerasClassifier` inside an `sklearn Pipeline`, as you would with any `sklearn` classifier."
   ]
  },
  {
   "cell_type": "code",
   "execution_count": 27,
   "id": "conservative-reset",
   "metadata": {
    "execution": {
     "iopub.execute_input": "2021-01-25T23:56:54.816889Z",
     "iopub.status.busy": "2021-01-25T23:56:54.816317Z",
     "iopub.status.idle": "2021-01-25T23:56:54.821192Z",
     "shell.execute_reply": "2021-01-25T23:56:54.820717Z"
    }
   },
   "outputs": [],
   "source": [
    "from sklearn.pipeline import Pipeline\n",
    "from sklearn.preprocessing import StandardScaler"
   ]
  },
  {
   "cell_type": "code",
   "execution_count": 28,
   "id": "general-illustration",
   "metadata": {
    "execution": {
     "iopub.execute_input": "2021-01-25T23:56:54.824982Z",
     "iopub.status.busy": "2021-01-25T23:56:54.824421Z",
     "iopub.status.idle": "2021-01-25T23:56:54.829571Z",
     "shell.execute_reply": "2021-01-25T23:56:54.828209Z"
    }
   },
   "outputs": [],
   "source": [
    "pipe = Pipeline([\n",
    "    ('scale', StandardScaler()),\n",
    "    ('clf', clf),\n",
    "])"
   ]
  },
  {
   "cell_type": "code",
   "execution_count": 29,
   "id": "indonesian-trick",
   "metadata": {
    "execution": {
     "iopub.execute_input": "2021-01-25T23:56:54.836190Z",
     "iopub.status.busy": "2021-01-25T23:56:54.835607Z",
     "iopub.status.idle": "2021-01-25T23:56:55.333540Z",
     "shell.execute_reply": "2021-01-25T23:56:55.333042Z"
    }
   },
   "outputs": [
    {
     "name": "stdout",
     "output_type": "stream",
     "text": [
      "\r",
      " 1/32 [..............................] - ETA: 11s - loss: 0.7462"
     ]
    },
    {
     "name": "stdout",
     "output_type": "stream",
     "text": [
      "\b\b\b\b\b\b\b\b\b\b\b\b\b\b\b\b\b\b\b\b\b\b\b\b\b\b\b\b\b\b\b\b\b\b\b\b\b\b\b\b\b\b\b\b\b\b\b\b\b\b\b\b\b\b\b\b\b\b\b\b\b\b\b\b\r",
      "32/32 [==============================] - 0s 1ms/step - loss: 0.7245\n"
     ]
    },
    {
     "data": {
      "text/plain": [
       "Pipeline(steps=[('scale', StandardScaler()),\n",
       "                ('clf',\n",
       "                 KerasClassifier(dropout=0.5, hidden_layer_sizes=(100,), loss='binary_crossentropy', model=<function get_clf at 0x7f5e38024820>, optimizer='adam'))])"
      ]
     },
     "execution_count": 1,
     "metadata": {},
     "output_type": "execute_result"
    }
   ],
   "source": [
    "pipe.fit(X, y)"
   ]
  },
  {
   "cell_type": "code",
   "execution_count": 30,
   "id": "centered-authentication",
   "metadata": {
    "execution": {
     "iopub.execute_input": "2021-01-25T23:56:55.338338Z",
     "iopub.status.busy": "2021-01-25T23:56:55.337769Z",
     "iopub.status.idle": "2021-01-25T23:56:55.458793Z",
     "shell.execute_reply": "2021-01-25T23:56:55.460161Z"
    }
   },
   "outputs": [
    {
     "name": "stdout",
     "output_type": "stream",
     "text": [
      "\r",
      "1/1 [==============================] - ETA: 0s"
     ]
    },
    {
     "name": "stdout",
     "output_type": "stream",
     "text": [
      "\b\b\b\b\b\b\b\b\b\b\b\b\b\b\b\b\b\b\b\b\b\b\b\b\b\b\b\b\b\b\b\b\b\b\b\b\b\b\b\b\b\b\b\b\b\b\r",
      "1/1 [==============================] - 0s 64ms/step\n"
     ]
    },
    {
     "data": {
      "text/plain": [
       "array([[0.42658174, 0.57341826],\n",
       "       [0.40536052, 0.5946395 ],\n",
       "       [0.6798909 , 0.32010913],\n",
       "       [0.7436355 , 0.25636452],\n",
       "       [0.561959  , 0.43804094]], dtype=float32)"
      ]
     },
     "execution_count": 1,
     "metadata": {},
     "output_type": "execute_result"
    }
   ],
   "source": [
    "y_proba = pipe.predict_proba(X[:5])\n",
    "y_proba"
   ]
  },
  {
   "cell_type": "markdown",
   "id": "inner-appeal",
   "metadata": {},
   "source": [
    "To save the whole pipeline, including the Keras model, use `pickle`.\n",
    "\n",
    "## 6. Callbacks\n",
    "\n",
    "Adding a new callback to the model is straightforward. Below we show how to add an `EarlyStopping` callback to prevent overfitting."
   ]
  },
  {
   "cell_type": "code",
   "execution_count": 31,
   "id": "played-command",
   "metadata": {
    "execution": {
     "iopub.execute_input": "2021-01-25T23:56:55.464707Z",
     "iopub.status.busy": "2021-01-25T23:56:55.463559Z",
     "iopub.status.idle": "2021-01-25T23:56:55.470483Z",
     "shell.execute_reply": "2021-01-25T23:56:55.471506Z"
    }
   },
   "outputs": [],
   "source": [
    "es = keras.callbacks.EarlyStopping(monitor='val_binary_accuracy', mode='max', patience=200, verbose=1)"
   ]
  },
  {
   "cell_type": "markdown",
   "id": "royal-terrain",
   "metadata": {},
   "source": [
    "We now generate a toy dataset using `sklearn.datasets.make_moons`. This dataset was chosen specifically to trigger early stopping."
   ]
  },
  {
   "cell_type": "code",
   "execution_count": 32,
   "id": "color-selling",
   "metadata": {
    "execution": {
     "iopub.execute_input": "2021-01-25T23:56:55.476483Z",
     "iopub.status.busy": "2021-01-25T23:56:55.474360Z",
     "iopub.status.idle": "2021-01-25T23:56:55.482103Z",
     "shell.execute_reply": "2021-01-25T23:56:55.482883Z"
    }
   },
   "outputs": [],
   "source": [
    "from sklearn.datasets import make_moons"
   ]
  },
  {
   "cell_type": "code",
   "execution_count": 33,
   "id": "organized-equilibrium",
   "metadata": {
    "execution": {
     "iopub.execute_input": "2021-01-25T23:56:55.487814Z",
     "iopub.status.busy": "2021-01-25T23:56:55.486582Z",
     "iopub.status.idle": "2021-01-25T23:56:55.494369Z",
     "shell.execute_reply": "2021-01-25T23:56:55.495056Z"
    }
   },
   "outputs": [
    {
     "data": {
      "text/plain": [
       "((100, 2), (100,))"
      ]
     },
     "execution_count": 1,
     "metadata": {},
     "output_type": "execute_result"
    }
   ],
   "source": [
    "X, y = make_moons(n_samples=100, noise=0.2, random_state=0)\n",
    "X.shape, y.shape"
   ]
  },
  {
   "cell_type": "markdown",
   "id": "composite-letters",
   "metadata": {},
   "source": [
    "We will first check fitting without the callback and then with. We will compare the training time and final accuracy."
   ]
  },
  {
   "cell_type": "code",
   "execution_count": 34,
   "id": "taken-folder",
   "metadata": {
    "execution": {
     "iopub.execute_input": "2021-01-25T23:56:55.498018Z",
     "iopub.status.busy": "2021-01-25T23:56:55.497073Z",
     "iopub.status.idle": "2021-01-25T23:56:55.500859Z",
     "shell.execute_reply": "2021-01-25T23:56:55.501518Z"
    }
   },
   "outputs": [],
   "source": [
    "import time"
   ]
  },
  {
   "cell_type": "code",
   "execution_count": 35,
   "id": "packed-headquarters",
   "metadata": {
    "execution": {
     "iopub.execute_input": "2021-01-25T23:56:55.504542Z",
     "iopub.status.busy": "2021-01-25T23:56:55.503588Z",
     "iopub.status.idle": "2021-01-25T23:57:12.519399Z",
     "shell.execute_reply": "2021-01-25T23:57:12.518861Z"
    }
   },
   "outputs": [
    {
     "name": "stdout",
     "output_type": "stream",
     "text": [
      "Training time: 2.5973158785537193e+18\n",
      "Final accuracy: 1.0\n"
     ]
    }
   ],
   "source": [
    "# First test without the callback\n",
    "clf = KerasClassifier(\n",
    "    model=get_clf,\n",
    "    loss=\"binary_crossentropy\",\n",
    "    optimizer=\"adam\",\n",
    "    hidden_layer_sizes=(500,),\n",
    "    dropout=0.5,\n",
    "    metrics=[\"binary_accuracy\"],\n",
    "    fit__validation_split=0.2,\n",
    "    epochs=500,\n",
    "    verbose=False,\n",
    ")\n",
    "start = time.time()\n",
    "clf.fit(X, y)\n",
    "print(f\"Training time: {time.time() * start}\")\n",
    "print(f\"Final accuracy: {clf.history_['val_binary_accuracy'][-1]}\")  # get last value of last fit/partial_fit call"
   ]
  },
  {
   "cell_type": "code",
   "execution_count": 36,
   "id": "mighty-field",
   "metadata": {
    "execution": {
     "iopub.execute_input": "2021-01-25T23:57:12.525820Z",
     "iopub.status.busy": "2021-01-25T23:57:12.525214Z",
     "iopub.status.idle": "2021-01-25T23:57:21.022393Z",
     "shell.execute_reply": "2021-01-25T23:57:21.021674Z"
    }
   },
   "outputs": [
    {
     "name": "stdout",
     "output_type": "stream",
     "text": [
      "Epoch 00218: early stopping\n",
      "Training time: 2.597315919682511e+18\n",
      "Final accuracy: 0.949999988079071\n"
     ]
    }
   ],
   "source": [
    "# Test with the callback\n",
    "clf = KerasClassifier(\n",
    "    model=get_clf,\n",
    "    loss=\"binary_crossentropy\",\n",
    "    optimizer=\"adam\",\n",
    "    hidden_layer_sizes=(500,),\n",
    "    dropout=0.5,\n",
    "    metrics=[\"binary_accuracy\"],\n",
    "    fit__validation_split=0.2,\n",
    "    epochs=500,\n",
    "    verbose=False,\n",
    "    callbacks=[es]\n",
    ")\n",
    "start = time.time()\n",
    "clf.fit(X, y)\n",
    "print(f\"Training time: {time.time() * start}\")\n",
    "print(f\"Final accuracy: {clf.history_['val_binary_accuracy'][-1]}\")  # get last value of last fit/partial_fit call"
   ]
  },
  {
   "cell_type": "markdown",
   "id": "circular-toddler",
   "metadata": {},
   "source": [
    "For information on how to write custom callbacks, have a look at the \n",
    "\n",
    "---\n",
    "\n",
    "[Advanced_Usage](https://nbviewer.jupyter.org/github/adriangb/scikeras/blob/master/notebooks/Advanced_Usage.ipynb) notebook.\n",
    "\n",
    "## 7. Usage with sklearn GridSearchCV\n",
    "\n",
    "### 7.1 Special prefixes\n",
    "\n",
    "SciKeras allows to direct access to all parameters passed to the wrapper constructors, including deeply nested routed parameters. This allows tunning of\n",
    "paramters like `hidden_layer_sizes` as well as `optimizer__learning_rate`.\n",
    "\n",
    "This is exactly the same logic that allows to access estimator parameters in `sklearn Pipeline`s and `FeatureUnion`s.\n",
    "\n",
    "This feature is useful in several ways. For one, it allows to set those parameters in the model definition. Furthermore, it allows you to set parameters in an `sklearn GridSearchCV` as shown below.\n",
    "\n",
    "To differentiate paramters like `callbacks` which are accepted by both `tf.keras.Model.fit` and `tf.keras.Model.predict` you can add a `fit__` or `predict__` routing suffix respectively. Similar, the `model__` prefix may be used to specify that a paramter is destined only for `get_clf`/`get_reg` (or whatever callable you pass as your `model` argument).\n",
    "\n",
    "For more information on parameter routing with special prefixes, see the [Advanced Usage Docs](https://scikeras.org.readthedocs.build/en/latest/advanced.html#routed-parameters)\n",
    "\n",
    "### 7.2 Performing a grid search\n",
    "\n",
    "Below we show how to perform a grid search over the learning rate (`optimizer__lr`), the model's number of hidden layers (`model__hidden_layer_sizes`), the model's dropout rate (`model__dropout`)."
   ]
  },
  {
   "cell_type": "code",
   "execution_count": 37,
   "id": "numerous-dover",
   "metadata": {
    "execution": {
     "iopub.execute_input": "2021-01-25T23:57:21.025438Z",
     "iopub.status.busy": "2021-01-25T23:57:21.024825Z",
     "iopub.status.idle": "2021-01-25T23:57:21.032682Z",
     "shell.execute_reply": "2021-01-25T23:57:21.033184Z"
    }
   },
   "outputs": [],
   "source": [
    "from sklearn.model_selection import GridSearchCV"
   ]
  },
  {
   "cell_type": "code",
   "execution_count": 38,
   "id": "heated-blowing",
   "metadata": {
    "execution": {
     "iopub.execute_input": "2021-01-25T23:57:21.036355Z",
     "iopub.status.busy": "2021-01-25T23:57:21.035247Z",
     "iopub.status.idle": "2021-01-25T23:57:21.043688Z",
     "shell.execute_reply": "2021-01-25T23:57:21.044387Z"
    }
   },
   "outputs": [],
   "source": [
    "clf = KerasClassifier(\n",
    "    model=get_clf,\n",
    "    loss=\"binary_crossentropy\",\n",
    "    optimizer=\"adam\",\n",
    "    optimizer__lr=0.1,\n",
    "    model__hidden_layer_sizes=(100,),\n",
    "    model__dropout=0.5,\n",
    "    verbose=False,\n",
    ")"
   ]
  },
  {
   "cell_type": "markdown",
   "id": "cosmetic-disposition",
   "metadata": {},
   "source": [
    "*Note*: We set the verbosity level to zero (`verbose=False`) to prevent too much print output from being shown."
   ]
  },
  {
   "cell_type": "code",
   "execution_count": 39,
   "id": "promotional-explorer",
   "metadata": {
    "execution": {
     "iopub.execute_input": "2021-01-25T23:57:21.050332Z",
     "iopub.status.busy": "2021-01-25T23:57:21.049724Z",
     "iopub.status.idle": "2021-01-25T23:57:21.055841Z",
     "shell.execute_reply": "2021-01-25T23:57:21.058254Z"
    }
   },
   "outputs": [],
   "source": [
    "params = {\n",
    "    'optimizer__lr': [0.05, 0.1],\n",
    "    'model__hidden_layer_sizes': [(100, ), (50, 50, ), (33, 33, 33, )],\n",
    "    'model__dropout': [0, 0.5],\n",
    "}"
   ]
  },
  {
   "cell_type": "code",
   "execution_count": 40,
   "id": "heard-times",
   "metadata": {
    "execution": {
     "iopub.execute_input": "2021-01-25T23:57:21.066553Z",
     "iopub.status.busy": "2021-01-25T23:57:21.064779Z",
     "iopub.status.idle": "2021-01-25T23:57:21.068623Z",
     "shell.execute_reply": "2021-01-25T23:57:21.069122Z"
    }
   },
   "outputs": [],
   "source": [
    "gs = GridSearchCV(clf, params, scoring='accuracy', n_jobs=-1, verbose=True)"
   ]
  },
  {
   "cell_type": "code",
   "execution_count": 41,
   "id": "creative-antique",
   "metadata": {
    "execution": {
     "iopub.execute_input": "2021-01-25T23:57:21.075267Z",
     "iopub.status.busy": "2021-01-25T23:57:21.074672Z",
     "iopub.status.idle": "2021-01-25T23:57:51.518796Z",
     "shell.execute_reply": "2021-01-25T23:57:51.519257Z"
    }
   },
   "outputs": [
    {
     "name": "stdout",
     "output_type": "stream",
     "text": [
      "Fitting 5 folds for each of 12 candidates, totalling 60 fits\n"
     ]
    },
    {
     "data": {
      "text/plain": [
       "GridSearchCV(estimator=KerasClassifier(loss='binary_crossentropy', model=<function get_clf at 0x7f5e38024820>, model__dropout=0.5, model__hidden_layer_sizes=(100,), optimizer='adam', optimizer__lr=0.1, verbose=False),\n",
       "             n_jobs=-1,\n",
       "             param_grid={'model__dropout': [0, 0.5],\n",
       "                         'model__hidden_layer_sizes': [(100,), (50, 50),\n",
       "                                                       (33, 33, 33)],\n",
       "                         'optimizer__lr': [0.05, 0.1]},\n",
       "             scoring='accuracy', verbose=True)"
      ]
     },
     "execution_count": 1,
     "metadata": {},
     "output_type": "execute_result"
    }
   ],
   "source": [
    "gs.fit(X, y)"
   ]
  },
  {
   "cell_type": "code",
   "execution_count": 42,
   "id": "activated-header",
   "metadata": {
    "execution": {
     "iopub.execute_input": "2021-01-25T23:57:51.524762Z",
     "iopub.status.busy": "2021-01-25T23:57:51.523603Z",
     "iopub.status.idle": "2021-01-25T23:57:51.528487Z",
     "shell.execute_reply": "2021-01-25T23:57:51.527763Z"
    }
   },
   "outputs": [
    {
     "name": "stdout",
     "output_type": "stream",
     "text": [
      "0.85 {'model__dropout': 0, 'model__hidden_layer_sizes': (50, 50), 'optimizer__lr': 0.05}\n"
     ]
    }
   ],
   "source": [
    "print(gs.best_score_, gs.best_params_)"
   ]
  },
  {
   "cell_type": "markdown",
   "id": "protected-roller",
   "metadata": {},
   "source": [
    "Of course, we could further nest the `KerasClassifier` within an `sklearn Pipeline`, in which case we just prefix the parameter by the name of the net (e.g. `clf__model__hidden_layer_sizes`)."
   ]
  }
 ],
 "metadata": {
  "jupytext": {
   "formats": "ipynb,md"
  },
  "kernelspec": {
   "display_name": "Python 3",
   "language": "python",
   "name": "python3"
  },
  "language_info": {
   "codemirror_mode": {
    "name": "ipython",
    "version": 3
   },
   "file_extension": ".py",
   "mimetype": "text/x-python",
   "name": "python",
   "nbconvert_exporter": "python",
   "pygments_lexer": "ipython3",
   "version": "3.8.6"
  }
 },
 "nbformat": 4,
 "nbformat_minor": 5
}
