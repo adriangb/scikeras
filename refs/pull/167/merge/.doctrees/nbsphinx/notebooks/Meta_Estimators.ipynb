{
 "cells": [
  {
   "cell_type": "raw",
   "id": "difficult-chicago",
   "metadata": {},
   "source": [
    "<a href=\"https://colab.research.google.com/github/adriangb/scikeras/blob/docs-deploy/refs/heads/master/notebooks/Meta_Estimators.ipynb\"><img src=\"https://www.tensorflow.org/images/colab_logo_32px.png\">Run in Google Colab</a>"
   ]
  },
  {
   "cell_type": "markdown",
   "id": "massive-saver",
   "metadata": {},
   "source": [
    "# Meta Estimators in SciKeras\n",
    "\n",
    "In this notebook, we implement sklearn ensemble and tree meta-estimators backed by a Keras MLP model.\n",
    "\n",
    "## Table of contents\n",
    "\n",
    "* [1. Setup](#1.-Setup)\n",
    "* [2. Defining the Keras Model](#2.-Defining-the-Keras-Model)\n",
    "  * [2.1 Building a boosting ensemble](#2.1-Building-a-boosting-ensemble)\n",
    "* [3. Testing with a toy dataset](#3.-Testing-with-a-toy-dataset)\n",
    "* [4. Bagging ensemble](#4.-Bagging-ensemble)\n",
    "\n",
    "## 1. Setup"
   ]
  },
  {
   "cell_type": "code",
   "execution_count": 1,
   "id": "legislative-usage",
   "metadata": {
    "execution": {
     "iopub.execute_input": "2021-01-27T20:02:16.434622Z",
     "iopub.status.busy": "2021-01-27T20:02:16.433918Z",
     "iopub.status.idle": "2021-01-27T20:02:18.173612Z",
     "shell.execute_reply": "2021-01-27T20:02:18.174509Z"
    }
   },
   "outputs": [],
   "source": [
    "try:\n",
    "    import scikeras\n",
    "except ImportError:\n",
    "    !python -m pip install scikeras"
   ]
  },
  {
   "cell_type": "markdown",
   "id": "classified-interference",
   "metadata": {},
   "source": [
    "Silence TensorFlow logging to keep output succinct."
   ]
  },
  {
   "cell_type": "code",
   "execution_count": 2,
   "id": "reliable-dependence",
   "metadata": {
    "execution": {
     "iopub.execute_input": "2021-01-27T20:02:18.178934Z",
     "iopub.status.busy": "2021-01-27T20:02:18.177742Z",
     "iopub.status.idle": "2021-01-27T20:02:18.183461Z",
     "shell.execute_reply": "2021-01-27T20:02:18.184303Z"
    }
   },
   "outputs": [],
   "source": [
    "import warnings\n",
    "from tensorflow import get_logger\n",
    "get_logger().setLevel('ERROR')\n",
    "warnings.filterwarnings(\"ignore\", message=\"Setting the random state for TF\")"
   ]
  },
  {
   "cell_type": "code",
   "execution_count": 3,
   "id": "smoking-washington",
   "metadata": {
    "execution": {
     "iopub.execute_input": "2021-01-27T20:02:18.187807Z",
     "iopub.status.busy": "2021-01-27T20:02:18.186601Z",
     "iopub.status.idle": "2021-01-27T20:02:18.676899Z",
     "shell.execute_reply": "2021-01-27T20:02:18.676192Z"
    }
   },
   "outputs": [],
   "source": [
    "import numpy as np\n",
    "from scikeras.wrappers import KerasClassifier, KerasRegressor\n",
    "from tensorflow import keras"
   ]
  },
  {
   "cell_type": "markdown",
   "id": "minimal-graph",
   "metadata": {},
   "source": [
    "## 2. Defining the Keras Model\n",
    "\n",
    "We borrow our MLPClassifier implementation from the [MLPClassifier notebook](https://colab.research.google.com/github/adriangb/scikeras/blob/master/notebooks/MLPClassifier_and_MLPRegressor.ipynb)."
   ]
  },
  {
   "cell_type": "code",
   "execution_count": 4,
   "id": "stock-gossip",
   "metadata": {
    "execution": {
     "iopub.execute_input": "2021-01-27T20:02:18.691603Z",
     "iopub.status.busy": "2021-01-27T20:02:18.690917Z",
     "iopub.status.idle": "2021-01-27T20:02:18.695097Z",
     "shell.execute_reply": "2021-01-27T20:02:18.695965Z"
    }
   },
   "outputs": [],
   "source": [
    "from typing import Dict, Iterable, Any\n",
    "\n",
    "\n",
    "def get_clf_model(hidden_layer_sizes: Iterable[int], meta: Dict[str, Any], compile_kwargs: Dict[str, Any]):\n",
    "    model = keras.Sequential()\n",
    "    inp = keras.layers.Input(shape=(meta[\"n_features_in_\"]))\n",
    "    model.add(inp)\n",
    "    for hidden_layer_size in hidden_layer_sizes:\n",
    "        layer = keras.layers.Dense(hidden_layer_size, activation=\"relu\")\n",
    "        model.add(layer)\n",
    "    if meta[\"target_type_\"] == \"binary\":\n",
    "        n_output_units = 1\n",
    "        output_activation = \"sigmoid\"\n",
    "        loss = \"binary_crossentropy\"\n",
    "    elif meta[\"target_type_\"] == \"multiclass\":\n",
    "        n_output_units = meta[\"n_classes_\"]\n",
    "        output_activation = \"softmax\"\n",
    "        loss = \"sparse_categorical_crossentropy\"\n",
    "    else:\n",
    "        raise NotImplementedError(f\"Unsupported task type: {meta['target_type_']}\")\n",
    "    out = keras.layers.Dense(n_output_units, activation=output_activation)\n",
    "    model.add(out)\n",
    "    model.compile(loss=loss, optimizer=compile_kwargs[\"optimizer\"])\n",
    "    return model"
   ]
  },
  {
   "cell_type": "markdown",
   "id": "thick-fountain",
   "metadata": {},
   "source": [
    "Next we wrap this Keras model with SciKeras"
   ]
  },
  {
   "cell_type": "code",
   "execution_count": 5,
   "id": "referenced-smoke",
   "metadata": {
    "execution": {
     "iopub.execute_input": "2021-01-27T20:02:18.699772Z",
     "iopub.status.busy": "2021-01-27T20:02:18.698547Z",
     "iopub.status.idle": "2021-01-27T20:02:18.709314Z",
     "shell.execute_reply": "2021-01-27T20:02:18.710134Z"
    }
   },
   "outputs": [],
   "source": [
    "clf = KerasClassifier(\n",
    "    model=get_clf_model,\n",
    "    hidden_layer_sizes=(100, ),\n",
    "    optimizer=\"adam\",\n",
    "    optimizer__learning_rate=0.001,\n",
    "    verbose=0,\n",
    "    random_state=0,\n",
    ")"
   ]
  },
  {
   "cell_type": "markdown",
   "id": "junior-attack",
   "metadata": {},
   "source": [
    "### 2.1 Building a boosting ensemble\n",
    "\n",
    "Because SciKeras estimators are fully compliant with the Scikit-Learn API, we can make use of Scikit-Learn's built in utilities. In particular example, we will use `AdaBoostClassifier` from `sklearn.ensemble.AdaBoostClassifier`, but the process is the same for most Scikit-Learn meta-estimators."
   ]
  },
  {
   "cell_type": "code",
   "execution_count": 6,
   "id": "respiratory-grammar",
   "metadata": {
    "execution": {
     "iopub.execute_input": "2021-01-27T20:02:18.714030Z",
     "iopub.status.busy": "2021-01-27T20:02:18.712877Z",
     "iopub.status.idle": "2021-01-27T20:02:18.797340Z",
     "shell.execute_reply": "2021-01-27T20:02:18.798204Z"
    }
   },
   "outputs": [],
   "source": [
    "from sklearn.ensemble import AdaBoostClassifier"
   ]
  },
  {
   "cell_type": "code",
   "execution_count": 7,
   "id": "posted-upgrade",
   "metadata": {
    "execution": {
     "iopub.execute_input": "2021-01-27T20:02:18.802196Z",
     "iopub.status.busy": "2021-01-27T20:02:18.801019Z",
     "iopub.status.idle": "2021-01-27T20:02:18.806578Z",
     "shell.execute_reply": "2021-01-27T20:02:18.807391Z"
    }
   },
   "outputs": [],
   "source": [
    "adaboost = AdaBoostClassifier(base_estimator=clf, random_state=0)"
   ]
  },
  {
   "cell_type": "markdown",
   "id": "considered-compilation",
   "metadata": {},
   "source": [
    "## 3. Testing with a toy dataset\n",
    "\n",
    "Before continouing, we will run a small test to make sure we get somewhat reasonable results."
   ]
  },
  {
   "cell_type": "code",
   "execution_count": 8,
   "id": "qualified-vietnam",
   "metadata": {
    "execution": {
     "iopub.execute_input": "2021-01-27T20:02:18.812843Z",
     "iopub.status.busy": "2021-01-27T20:02:18.811684Z",
     "iopub.status.idle": "2021-01-27T20:02:18.841436Z",
     "shell.execute_reply": "2021-01-27T20:02:18.842339Z"
    }
   },
   "outputs": [],
   "source": [
    "from sklearn.datasets import make_moons\n",
    "from sklearn.model_selection import cross_val_score"
   ]
  },
  {
   "cell_type": "code",
   "execution_count": 9,
   "id": "exempt-grant",
   "metadata": {
    "execution": {
     "iopub.execute_input": "2021-01-27T20:02:18.846311Z",
     "iopub.status.busy": "2021-01-27T20:02:18.845141Z",
     "iopub.status.idle": "2021-01-27T20:05:02.118392Z",
     "shell.execute_reply": "2021-01-27T20:05:02.118907Z"
    }
   },
   "outputs": [
    {
     "name": "stdout",
     "output_type": "stream",
     "text": [
      "Single score: 0.33\n",
      "AdaBoost score: 0.80\n"
     ]
    }
   ],
   "source": [
    "X, y = make_moons()\n",
    "\n",
    "single_score = np.mean(cross_val_score(clf, X, y))\n",
    "\n",
    "adaboost_score = np.mean(cross_val_score(adaboost, X, y))\n",
    "\n",
    "print(f\"Single score: {single_score:.2f}\")\n",
    "print(f\"AdaBoost score: {adaboost_score:.2f}\")"
   ]
  },
  {
   "cell_type": "markdown",
   "id": "yellow-serve",
   "metadata": {},
   "source": [
    "We see that the score for the AdaBoost classifier is slightly higher than that of an individual MLPRegressor instance. We can explore the individual classifiers, and see that each one is composed of a Keras Model with it's own individual weights."
   ]
  },
  {
   "cell_type": "code",
   "execution_count": 10,
   "id": "tested-campaign",
   "metadata": {
    "execution": {
     "iopub.execute_input": "2021-01-27T20:05:02.145135Z",
     "iopub.status.busy": "2021-01-27T20:05:02.123939Z",
     "iopub.status.idle": "2021-01-27T20:05:30.391088Z",
     "shell.execute_reply": "2021-01-27T20:05:30.390555Z"
    }
   },
   "outputs": [
    {
     "data": {
      "text/plain": [
       "AdaBoostClassifier(base_estimator=KerasClassifier(hidden_layer_sizes=(100,), model=<function get_clf_model at 0x7fb4dc9a19d0>, optimizer='adam', optimizer__learning_rate=0.001, random_state=0, verbose=0),\n",
       "                   random_state=0)"
      ]
     },
     "execution_count": 1,
     "metadata": {},
     "output_type": "execute_result"
    }
   ],
   "source": [
    "adaboost.fit(X, y)  # we need to fit outside of cross_val_score before accessing the weights"
   ]
  },
  {
   "cell_type": "code",
   "execution_count": 11,
   "id": "still-hurricane",
   "metadata": {
    "execution": {
     "iopub.execute_input": "2021-01-27T20:05:30.396821Z",
     "iopub.status.busy": "2021-01-27T20:05:30.395869Z",
     "iopub.status.idle": "2021-01-27T20:05:30.401708Z",
     "shell.execute_reply": "2021-01-27T20:05:30.401146Z"
    }
   },
   "outputs": [
    {
     "name": "stdout",
     "output_type": "stream",
     "text": [
      "[-0.12515499  0.0826505  -0.08271014  0.1753563  -0.15015188]\n",
      "[ 0.06890541 -0.21098183  0.1962899  -0.07209664 -0.00966247]\n"
     ]
    }
   ],
   "source": [
    "print(adaboost.estimators_[0].model_.get_weights()[0][0, :5])  # first sub-estimator\n",
    "print(adaboost.estimators_[1].model_.get_weights()[0][0, :5])  # second sub-estimator"
   ]
  },
  {
   "cell_type": "markdown",
   "id": "interpreted-tradition",
   "metadata": {},
   "source": [
    "## 4. Bagging ensemble\n",
    "\n",
    "For comparison, we run the same test with an ensemble built using `sklearn.ensemble.BaggingClassifier`."
   ]
  },
  {
   "cell_type": "code",
   "execution_count": 12,
   "id": "current-shareware",
   "metadata": {
    "execution": {
     "iopub.execute_input": "2021-01-27T20:05:30.405708Z",
     "iopub.status.busy": "2021-01-27T20:05:30.405102Z",
     "iopub.status.idle": "2021-01-27T20:05:30.410050Z",
     "shell.execute_reply": "2021-01-27T20:05:30.409509Z"
    }
   },
   "outputs": [],
   "source": [
    "from sklearn.ensemble import BaggingClassifier"
   ]
  },
  {
   "cell_type": "code",
   "execution_count": 13,
   "id": "genetic-attendance",
   "metadata": {
    "execution": {
     "iopub.execute_input": "2021-01-27T20:05:30.417153Z",
     "iopub.status.busy": "2021-01-27T20:05:30.416551Z",
     "iopub.status.idle": "2021-01-27T20:06:32.131867Z",
     "shell.execute_reply": "2021-01-27T20:06:32.131140Z"
    }
   },
   "outputs": [
    {
     "name": "stdout",
     "output_type": "stream",
     "text": [
      "Bagging score: 0.63\n"
     ]
    }
   ],
   "source": [
    "bagging = BaggingClassifier(base_estimator=clf, random_state=0, n_jobs=-1)\n",
    "\n",
    "bagging_score = np.mean(cross_val_score(bagging, X, y))\n",
    "\n",
    "print(f\"Bagging score: {bagging_score:.2f}\")"
   ]
  }
 ],
 "metadata": {
  "jupytext": {
   "formats": "ipynb,md"
  },
  "kernelspec": {
   "display_name": "Python 3",
   "language": "python",
   "name": "python3"
  },
  "language_info": {
   "codemirror_mode": {
    "name": "ipython",
    "version": 3
   },
   "file_extension": ".py",
   "mimetype": "text/x-python",
   "name": "python",
   "nbconvert_exporter": "python",
   "pygments_lexer": "ipython3",
   "version": "3.8.6"
  }
 },
 "nbformat": 4,
 "nbformat_minor": 5
}
