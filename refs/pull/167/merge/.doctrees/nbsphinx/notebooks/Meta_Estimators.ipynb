{
 "cells": [
  {
   "cell_type": "raw",
   "id": "permanent-clear",
   "metadata": {},
   "source": [
    "<a href=\"https://colab.research.google.com/github/adriangb/scikeras/blob/docs-deploy/refs/heads/master/notebooks/Meta_Estimators.ipynb\"><img src=\"https://www.tensorflow.org/images/colab_logo_32px.png\">Run in Google Colab</a>"
   ]
  },
  {
   "cell_type": "markdown",
   "id": "flexible-morris",
   "metadata": {},
   "source": [
    "# Meta Estimators in SciKeras\n",
    "\n",
    "In this notebook, we implement sklearn ensemble and tree meta-estimators backed by a Keras MLP model.\n",
    "\n",
    "## Table of contents\n",
    "\n",
    "* [1. Setup](#1.-Setup)\n",
    "* [2. Defining the Keras Model](#2.-Defining-the-Keras-Model)\n",
    "  * [2.1 Building a boosting ensemble](#2.1-Building-a-boosting-ensemble)\n",
    "* [3. Testing with a toy dataset](#3.-Testing-with-a-toy-dataset)\n",
    "* [4. Bagging ensemble](#4.-Bagging-ensemble)\n",
    "\n",
    "## 1. Setup"
   ]
  },
  {
   "cell_type": "code",
   "execution_count": 1,
   "id": "conscious-valuable",
   "metadata": {
    "execution": {
     "iopub.execute_input": "2021-01-27T17:53:59.356961Z",
     "iopub.status.busy": "2021-01-27T17:53:59.356289Z",
     "iopub.status.idle": "2021-01-27T17:54:01.227408Z",
     "shell.execute_reply": "2021-01-27T17:54:01.228252Z"
    }
   },
   "outputs": [],
   "source": [
    "try:\n",
    "    import scikeras\n",
    "except ImportError:\n",
    "    !python -m pip install scikeras"
   ]
  },
  {
   "cell_type": "markdown",
   "id": "tough-armenia",
   "metadata": {},
   "source": [
    "Silence TensorFlow logging to keep output succinct."
   ]
  },
  {
   "cell_type": "code",
   "execution_count": 2,
   "id": "received-lemon",
   "metadata": {
    "execution": {
     "iopub.execute_input": "2021-01-27T17:54:01.232080Z",
     "iopub.status.busy": "2021-01-27T17:54:01.231000Z",
     "iopub.status.idle": "2021-01-27T17:54:01.235964Z",
     "shell.execute_reply": "2021-01-27T17:54:01.236720Z"
    }
   },
   "outputs": [],
   "source": [
    "import warnings\n",
    "from tensorflow import get_logger\n",
    "get_logger().setLevel('ERROR')\n",
    "warnings.filterwarnings(\"ignore\", message=\"Setting the random state for TF\")"
   ]
  },
  {
   "cell_type": "code",
   "execution_count": 3,
   "id": "verified-scholar",
   "metadata": {
    "execution": {
     "iopub.execute_input": "2021-01-27T17:54:01.240057Z",
     "iopub.status.busy": "2021-01-27T17:54:01.239015Z",
     "iopub.status.idle": "2021-01-27T17:54:01.946102Z",
     "shell.execute_reply": "2021-01-27T17:54:01.946934Z"
    }
   },
   "outputs": [],
   "source": [
    "import numpy as np\n",
    "from scikeras.wrappers import KerasClassifier, KerasRegressor\n",
    "from tensorflow import keras"
   ]
  },
  {
   "cell_type": "markdown",
   "id": "taken-surge",
   "metadata": {},
   "source": [
    "## 2. Defining the Keras Model\n",
    "\n",
    "We borrow our MLPClassifier implementation from the [MLPClassifier notebook](https://colab.research.google.com/github/adriangb/scikeras/blob/master/notebooks/MLPClassifier_and_MLPRegressor.ipynb)."
   ]
  },
  {
   "cell_type": "code",
   "execution_count": 4,
   "id": "consolidated-hartford",
   "metadata": {
    "execution": {
     "iopub.execute_input": "2021-01-27T17:54:01.950691Z",
     "iopub.status.busy": "2021-01-27T17:54:01.949564Z",
     "iopub.status.idle": "2021-01-27T17:54:01.966868Z",
     "shell.execute_reply": "2021-01-27T17:54:01.967648Z"
    }
   },
   "outputs": [],
   "source": [
    "from typing import Dict, Iterable, Any\n",
    "\n",
    "\n",
    "def get_clf_model(hidden_layer_sizes: Iterable[int], meta: Dict[str, Any], compile_kwargs: Dict[str, Any]):\n",
    "    model = keras.Sequential()\n",
    "    inp = keras.layers.Input(shape=(meta[\"n_features_in_\"]))\n",
    "    model.add(inp)\n",
    "    for hidden_layer_size in hidden_layer_sizes:\n",
    "        layer = keras.layers.Dense(hidden_layer_size, activation=\"relu\")\n",
    "        model.add(layer)\n",
    "    if meta[\"target_type_\"] == \"binary\":\n",
    "        n_output_units = 1\n",
    "        output_activation = \"sigmoid\"\n",
    "        loss = \"binary_crossentropy\"\n",
    "    elif meta[\"target_type_\"] == \"multiclass\":\n",
    "        n_output_units = meta[\"n_classes_\"]\n",
    "        output_activation = \"softmax\"\n",
    "        loss = \"sparse_categorical_crossentropy\"\n",
    "    else:\n",
    "        raise NotImplementedError(f\"Unsupported task type: {meta['target_type_']}\")\n",
    "    out = keras.layers.Dense(n_output_units, activation=output_activation)\n",
    "    model.add(out)\n",
    "    model.compile(loss=loss, optimizer=compile_kwargs[\"optimizer\"])\n",
    "    return model"
   ]
  },
  {
   "cell_type": "markdown",
   "id": "binding-calvin",
   "metadata": {},
   "source": [
    "Next we wrap this Keras model with SciKeras"
   ]
  },
  {
   "cell_type": "code",
   "execution_count": 5,
   "id": "latest-photograph",
   "metadata": {
    "execution": {
     "iopub.execute_input": "2021-01-27T17:54:01.971224Z",
     "iopub.status.busy": "2021-01-27T17:54:01.970184Z",
     "iopub.status.idle": "2021-01-27T17:54:01.980788Z",
     "shell.execute_reply": "2021-01-27T17:54:01.981522Z"
    }
   },
   "outputs": [],
   "source": [
    "clf = KerasClassifier(\n",
    "    model=get_clf_model,\n",
    "    hidden_layer_sizes=(100, ),\n",
    "    optimizer=\"adam\",\n",
    "    optimizer__learning_rate=0.001,\n",
    "    verbose=0,\n",
    "    random_state=0,\n",
    ")"
   ]
  },
  {
   "cell_type": "markdown",
   "id": "vocal-fairy",
   "metadata": {},
   "source": [
    "### 2.1 Building a boosting ensemble\n",
    "\n",
    "Because SciKeras estimators are fully compliant with the Scikit-Learn API, we can make use of Scikit-Learn's built in utilities. In particular example, we will use `AdaBoostClassifier` from `sklearn.ensemble.AdaBoostClassifier`, but the process is the same for most Scikit-Learn meta-estimators."
   ]
  },
  {
   "cell_type": "code",
   "execution_count": 6,
   "id": "boxed-request",
   "metadata": {
    "execution": {
     "iopub.execute_input": "2021-01-27T17:54:01.984917Z",
     "iopub.status.busy": "2021-01-27T17:54:01.983884Z",
     "iopub.status.idle": "2021-01-27T17:54:02.090096Z",
     "shell.execute_reply": "2021-01-27T17:54:02.090947Z"
    }
   },
   "outputs": [],
   "source": [
    "from sklearn.ensemble import AdaBoostClassifier"
   ]
  },
  {
   "cell_type": "code",
   "execution_count": 7,
   "id": "automotive-mills",
   "metadata": {
    "execution": {
     "iopub.execute_input": "2021-01-27T17:54:02.094562Z",
     "iopub.status.busy": "2021-01-27T17:54:02.093499Z",
     "iopub.status.idle": "2021-01-27T17:54:02.104847Z",
     "shell.execute_reply": "2021-01-27T17:54:02.105587Z"
    }
   },
   "outputs": [],
   "source": [
    "adaboost = AdaBoostClassifier(base_estimator=clf, random_state=0)"
   ]
  },
  {
   "cell_type": "markdown",
   "id": "healthy-bermuda",
   "metadata": {},
   "source": [
    "## 3. Testing with a toy dataset\n",
    "\n",
    "Before continouing, we will run a small test to make sure we get somewhat reasonable results."
   ]
  },
  {
   "cell_type": "code",
   "execution_count": 8,
   "id": "small-screw",
   "metadata": {
    "execution": {
     "iopub.execute_input": "2021-01-27T17:54:02.109101Z",
     "iopub.status.busy": "2021-01-27T17:54:02.108032Z",
     "iopub.status.idle": "2021-01-27T17:54:02.154050Z",
     "shell.execute_reply": "2021-01-27T17:54:02.154879Z"
    }
   },
   "outputs": [],
   "source": [
    "from sklearn.datasets import make_moons\n",
    "from sklearn.model_selection import cross_val_score"
   ]
  },
  {
   "cell_type": "code",
   "execution_count": 9,
   "id": "simple-definition",
   "metadata": {
    "execution": {
     "iopub.execute_input": "2021-01-27T17:54:02.158526Z",
     "iopub.status.busy": "2021-01-27T17:54:02.157452Z",
     "iopub.status.idle": "2021-01-27T17:56:28.873586Z",
     "shell.execute_reply": "2021-01-27T17:56:28.872805Z"
    }
   },
   "outputs": [
    {
     "name": "stdout",
     "output_type": "stream",
     "text": [
      "Single score: 0.32\n",
      "AdaBoost score: 0.81\n"
     ]
    }
   ],
   "source": [
    "X, y = make_moons()\n",
    "\n",
    "single_score = np.mean(cross_val_score(clf, X, y))\n",
    "\n",
    "adaboost_score = np.mean(cross_val_score(adaboost, X, y))\n",
    "\n",
    "print(f\"Single score: {single_score:.2f}\")\n",
    "print(f\"AdaBoost score: {adaboost_score:.2f}\")"
   ]
  },
  {
   "cell_type": "markdown",
   "id": "distinct-quick",
   "metadata": {},
   "source": [
    "We see that the score for the AdaBoost classifier is slightly higher than that of an individual MLPRegressor instance. We can explore the individual classifiers, and see that each one is composed of a Keras Model with it's own individual weights."
   ]
  },
  {
   "cell_type": "code",
   "execution_count": 10,
   "id": "superior-conditioning",
   "metadata": {
    "execution": {
     "iopub.execute_input": "2021-01-27T17:56:28.894970Z",
     "iopub.status.busy": "2021-01-27T17:56:28.889294Z",
     "iopub.status.idle": "2021-01-27T17:56:52.545290Z",
     "shell.execute_reply": "2021-01-27T17:56:52.544813Z"
    }
   },
   "outputs": [
    {
     "data": {
      "text/plain": [
       "AdaBoostClassifier(base_estimator=KerasClassifier(hidden_layer_sizes=(100,), model=<function get_clf_model at 0x7f1a21129af0>, optimizer='adam', optimizer__learning_rate=0.001, random_state=0, verbose=0),\n",
       "                   random_state=0)"
      ]
     },
     "execution_count": 1,
     "metadata": {},
     "output_type": "execute_result"
    }
   ],
   "source": [
    "adaboost.fit(X, y)  # we need to fit outside of cross_val_score before accessing the weights"
   ]
  },
  {
   "cell_type": "code",
   "execution_count": 11,
   "id": "promotional-minority",
   "metadata": {
    "execution": {
     "iopub.execute_input": "2021-01-27T17:56:52.551383Z",
     "iopub.status.busy": "2021-01-27T17:56:52.549228Z",
     "iopub.status.idle": "2021-01-27T17:56:52.554094Z",
     "shell.execute_reply": "2021-01-27T17:56:52.553597Z"
    }
   },
   "outputs": [
    {
     "name": "stdout",
     "output_type": "stream",
     "text": [
      "[-0.12825966  0.08308712 -0.08260328  0.17587863 -0.14996678]\n",
      "[ 0.06897601 -0.2110556   0.19635993 -0.07465465 -0.00945236]\n"
     ]
    }
   ],
   "source": [
    "print(adaboost.estimators_[0].model_.get_weights()[0][0, :5])  # first sub-estimator\n",
    "print(adaboost.estimators_[1].model_.get_weights()[0][0, :5])  # second sub-estimator"
   ]
  },
  {
   "cell_type": "markdown",
   "id": "assumed-therapist",
   "metadata": {},
   "source": [
    "## 4. Bagging ensemble\n",
    "\n",
    "For comparison, we run the same test with an ensemble built using `sklearn.ensemble.BaggingClassifier`."
   ]
  },
  {
   "cell_type": "code",
   "execution_count": 12,
   "id": "second-variance",
   "metadata": {
    "execution": {
     "iopub.execute_input": "2021-01-27T17:56:52.557922Z",
     "iopub.status.busy": "2021-01-27T17:56:52.557391Z",
     "iopub.status.idle": "2021-01-27T17:56:52.561077Z",
     "shell.execute_reply": "2021-01-27T17:56:52.560589Z"
    }
   },
   "outputs": [],
   "source": [
    "from sklearn.ensemble import BaggingClassifier"
   ]
  },
  {
   "cell_type": "code",
   "execution_count": 13,
   "id": "favorite-priest",
   "metadata": {
    "execution": {
     "iopub.execute_input": "2021-01-27T17:56:52.566925Z",
     "iopub.status.busy": "2021-01-27T17:56:52.565497Z",
     "iopub.status.idle": "2021-01-27T17:57:42.886873Z",
     "shell.execute_reply": "2021-01-27T17:57:42.885983Z"
    }
   },
   "outputs": [
    {
     "name": "stdout",
     "output_type": "stream",
     "text": [
      "Bagging score: 0.63\n"
     ]
    }
   ],
   "source": [
    "bagging = BaggingClassifier(base_estimator=clf, random_state=0, n_jobs=-1)\n",
    "\n",
    "bagging_score = np.mean(cross_val_score(bagging, X, y))\n",
    "\n",
    "print(f\"Bagging score: {bagging_score:.2f}\")"
   ]
  }
 ],
 "metadata": {
  "jupytext": {
   "formats": "ipynb,md"
  },
  "kernelspec": {
   "display_name": "Python 3",
   "language": "python",
   "name": "python3"
  },
  "language_info": {
   "codemirror_mode": {
    "name": "ipython",
    "version": 3
   },
   "file_extension": ".py",
   "mimetype": "text/x-python",
   "name": "python",
   "nbconvert_exporter": "python",
   "pygments_lexer": "ipython3",
   "version": "3.8.7"
  }
 },
 "nbformat": 4,
 "nbformat_minor": 5
}
