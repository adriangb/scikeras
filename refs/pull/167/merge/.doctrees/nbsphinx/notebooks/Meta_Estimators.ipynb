{
 "cells": [
  {
   "cell_type": "raw",
   "id": "concrete-focus",
   "metadata": {},
   "source": [
    "<a href=\"https://colab.research.google.com/github/adriangb/scikeras/blob/docs-deploy/refs/heads/master/notebooks/Meta_Estimators.ipynb\"><img src=\"https://www.tensorflow.org/images/colab_logo_32px.png\">Run in Google Colab</a>"
   ]
  },
  {
   "cell_type": "markdown",
   "id": "exceptional-absorption",
   "metadata": {},
   "source": [
    "# Meta Estimators in SciKeras\n",
    "\n",
    "In this notebook, we implement sklearn ensemble and tree meta-estimators backed by a Keras MLP model.\n",
    "\n",
    "## Table of contents\n",
    "\n",
    "* [1. Setup](#1.-Setup)\n",
    "* [2. Defining the Keras Model](#2.-Defining-the-Keras-Model)\n",
    "  * [2.1 Building a boosting ensemble](#2.1-Building-a-boosting-ensemble)\n",
    "* [3. Testing with a toy dataset](#3.-Testing-with-a-toy-dataset)\n",
    "* [4. Bagging ensemble](#4.-Bagging-ensemble)\n",
    "\n",
    "## 1. Setup"
   ]
  },
  {
   "cell_type": "code",
   "execution_count": 1,
   "id": "willing-causing",
   "metadata": {
    "execution": {
     "iopub.execute_input": "2021-01-25T23:57:56.329041Z",
     "iopub.status.busy": "2021-01-25T23:57:56.328373Z",
     "iopub.status.idle": "2021-01-25T23:57:58.397700Z",
     "shell.execute_reply": "2021-01-25T23:57:58.397083Z"
    }
   },
   "outputs": [],
   "source": [
    "try:\n",
    "    import scikeras\n",
    "except ImportError:\n",
    "    !python -m pip install scikeras"
   ]
  },
  {
   "cell_type": "markdown",
   "id": "thirty-vision",
   "metadata": {},
   "source": [
    "Silence TensorFlow logging to keep output succinct."
   ]
  },
  {
   "cell_type": "code",
   "execution_count": 2,
   "id": "piano-fundamentals",
   "metadata": {
    "execution": {
     "iopub.execute_input": "2021-01-25T23:57:58.403181Z",
     "iopub.status.busy": "2021-01-25T23:57:58.402576Z",
     "iopub.status.idle": "2021-01-25T23:57:58.405617Z",
     "shell.execute_reply": "2021-01-25T23:57:58.406507Z"
    }
   },
   "outputs": [],
   "source": [
    "import warnings\n",
    "from tensorflow import get_logger\n",
    "get_logger().setLevel('ERROR')\n",
    "warnings.filterwarnings(\"ignore\", message=\"Setting the random state for TF\")"
   ]
  },
  {
   "cell_type": "code",
   "execution_count": 3,
   "id": "recorded-programming",
   "metadata": {
    "execution": {
     "iopub.execute_input": "2021-01-25T23:57:58.410079Z",
     "iopub.status.busy": "2021-01-25T23:57:58.409480Z",
     "iopub.status.idle": "2021-01-25T23:57:58.961804Z",
     "shell.execute_reply": "2021-01-25T23:57:58.966116Z"
    }
   },
   "outputs": [],
   "source": [
    "import numpy as np\n",
    "from scikeras.wrappers import KerasClassifier, KerasRegressor\n",
    "from tensorflow import keras"
   ]
  },
  {
   "cell_type": "markdown",
   "id": "divided-clause",
   "metadata": {},
   "source": [
    "## 2. Defining the Keras Model\n",
    "\n",
    "We borrow our MLPClassifier implementation from the [MLPClassifier notebook](https://colab.research.google.com/github/adriangb/scikeras/blob/master/notebooks/MLPClassifier_and_MLPRegressor.ipynb)."
   ]
  },
  {
   "cell_type": "code",
   "execution_count": 4,
   "id": "sixth-customer",
   "metadata": {
    "execution": {
     "iopub.execute_input": "2021-01-25T23:57:58.980345Z",
     "iopub.status.busy": "2021-01-25T23:57:58.969388Z",
     "iopub.status.idle": "2021-01-25T23:57:58.991428Z",
     "shell.execute_reply": "2021-01-25T23:57:58.991920Z"
    }
   },
   "outputs": [],
   "source": [
    "from typing import Dict, Iterable, Any\n",
    "\n",
    "\n",
    "def get_clf_model(hidden_layer_sizes: Iterable[int], meta: Dict[str, Any], compile_kwargs: Dict[str, Any]):\n",
    "    model = keras.Sequential()\n",
    "    inp = keras.layers.Input(shape=(meta[\"n_features_in_\"]))\n",
    "    model.add(inp)\n",
    "    for hidden_layer_size in hidden_layer_sizes:\n",
    "        layer = keras.layers.Dense(hidden_layer_size, activation=\"relu\")\n",
    "        model.add(layer)\n",
    "    if meta[\"target_type_\"] == \"binary\":\n",
    "        n_output_units = 1\n",
    "        output_activation = \"sigmoid\"\n",
    "        loss = \"binary_crossentropy\"\n",
    "    elif meta[\"target_type_\"] == \"multiclass\":\n",
    "        n_output_units = meta[\"n_classes_\"]\n",
    "        output_activation = \"softmax\"\n",
    "        loss = \"sparse_categorical_crossentropy\"\n",
    "    else:\n",
    "        raise NotImplementedError(f\"Unsupported task type: {meta['target_type_']}\")\n",
    "    out = keras.layers.Dense(n_output_units, activation=output_activation)\n",
    "    model.add(out)\n",
    "    model.compile(loss=loss, optimizer=compile_kwargs[\"optimizer\"])\n",
    "    return model"
   ]
  },
  {
   "cell_type": "markdown",
   "id": "sharp-blackjack",
   "metadata": {},
   "source": [
    "Next we wrap this Keras model with SciKeras"
   ]
  },
  {
   "cell_type": "code",
   "execution_count": 5,
   "id": "resident-hearing",
   "metadata": {
    "execution": {
     "iopub.execute_input": "2021-01-25T23:57:58.997010Z",
     "iopub.status.busy": "2021-01-25T23:57:58.996391Z",
     "iopub.status.idle": "2021-01-25T23:57:59.003051Z",
     "shell.execute_reply": "2021-01-25T23:57:59.003561Z"
    }
   },
   "outputs": [],
   "source": [
    "clf = KerasClassifier(\n",
    "    model=get_clf_model,\n",
    "    hidden_layer_sizes=(100, ),\n",
    "    optimizer=\"adam\",\n",
    "    optimizer__learning_rate=0.001,\n",
    "    verbose=0,\n",
    "    random_state=0,\n",
    ")"
   ]
  },
  {
   "cell_type": "markdown",
   "id": "ambient-inside",
   "metadata": {},
   "source": [
    "### 2.1 Building a boosting ensemble\n",
    "\n",
    "Because SciKeras estimators are fully compliant with the Scikit-Learn API, we can make use of Scikit-Learn's built in utilities. In particular example, we will use `AdaBoostClassifier` from `sklearn.ensemble.AdaBoostClassifier`, but the process is the same for most Scikit-Learn meta-estimators."
   ]
  },
  {
   "cell_type": "code",
   "execution_count": 6,
   "id": "reserved-program",
   "metadata": {
    "execution": {
     "iopub.execute_input": "2021-01-25T23:57:59.008105Z",
     "iopub.status.busy": "2021-01-25T23:57:59.007162Z",
     "iopub.status.idle": "2021-01-25T23:57:59.078622Z",
     "shell.execute_reply": "2021-01-25T23:57:59.079577Z"
    }
   },
   "outputs": [],
   "source": [
    "from sklearn.ensemble import AdaBoostClassifier"
   ]
  },
  {
   "cell_type": "code",
   "execution_count": 7,
   "id": "liable-congress",
   "metadata": {
    "execution": {
     "iopub.execute_input": "2021-01-25T23:57:59.083333Z",
     "iopub.status.busy": "2021-01-25T23:57:59.082183Z",
     "iopub.status.idle": "2021-01-25T23:57:59.086909Z",
     "shell.execute_reply": "2021-01-25T23:57:59.087750Z"
    }
   },
   "outputs": [],
   "source": [
    "adaboost = AdaBoostClassifier(base_estimator=clf, random_state=0)"
   ]
  },
  {
   "cell_type": "markdown",
   "id": "forbidden-georgia",
   "metadata": {},
   "source": [
    "## 3. Testing with a toy dataset\n",
    "\n",
    "Before continouing, we will run a small test to make sure we get somewhat reasonable results."
   ]
  },
  {
   "cell_type": "code",
   "execution_count": 8,
   "id": "indonesian-activity",
   "metadata": {
    "execution": {
     "iopub.execute_input": "2021-01-25T23:57:59.092604Z",
     "iopub.status.busy": "2021-01-25T23:57:59.091487Z",
     "iopub.status.idle": "2021-01-25T23:57:59.120048Z",
     "shell.execute_reply": "2021-01-25T23:57:59.120855Z"
    }
   },
   "outputs": [],
   "source": [
    "from sklearn.datasets import make_moons\n",
    "from sklearn.model_selection import cross_val_score"
   ]
  },
  {
   "cell_type": "code",
   "execution_count": 9,
   "id": "seasonal-vertical",
   "metadata": {
    "execution": {
     "iopub.execute_input": "2021-01-25T23:57:59.124521Z",
     "iopub.status.busy": "2021-01-25T23:57:59.123402Z",
     "iopub.status.idle": "2021-01-26T00:00:24.461634Z",
     "shell.execute_reply": "2021-01-26T00:00:24.460866Z"
    }
   },
   "outputs": [
    {
     "name": "stdout",
     "output_type": "stream",
     "text": [
      "Single score: 0.32\n",
      "AdaBoost score: 0.80\n"
     ]
    }
   ],
   "source": [
    "X, y = make_moons()\n",
    "\n",
    "single_score = np.mean(cross_val_score(clf, X, y))\n",
    "\n",
    "adaboost_score = np.mean(cross_val_score(adaboost, X, y))\n",
    "\n",
    "print(f\"Single score: {single_score:.2f}\")\n",
    "print(f\"AdaBoost score: {adaboost_score:.2f}\")"
   ]
  },
  {
   "cell_type": "markdown",
   "id": "resident-special",
   "metadata": {},
   "source": [
    "We see that the score for the AdaBoost classifier is slightly higher than that of an individual MLPRegressor instance. We can explore the individual classifiers, and see that each one is composed of a Keras Model with it's own individual weights."
   ]
  },
  {
   "cell_type": "code",
   "execution_count": 10,
   "id": "corresponding-banner",
   "metadata": {
    "execution": {
     "iopub.execute_input": "2021-01-26T00:00:24.479953Z",
     "iopub.status.busy": "2021-01-26T00:00:24.476699Z",
     "iopub.status.idle": "2021-01-26T00:00:48.881933Z",
     "shell.execute_reply": "2021-01-26T00:00:48.881117Z"
    }
   },
   "outputs": [
    {
     "data": {
      "text/plain": [
       "AdaBoostClassifier(base_estimator=KerasClassifier(hidden_layer_sizes=(100,), model=<function get_clf_model at 0x7fc7b5d2c1f0>, optimizer='adam', optimizer__learning_rate=0.001, random_state=0, verbose=0),\n",
       "                   random_state=0)"
      ]
     },
     "execution_count": 1,
     "metadata": {},
     "output_type": "execute_result"
    }
   ],
   "source": [
    "adaboost.fit(X, y)  # we need to fit outside of cross_val_score before accessing the weights"
   ]
  },
  {
   "cell_type": "code",
   "execution_count": 11,
   "id": "noble-finding",
   "metadata": {
    "execution": {
     "iopub.execute_input": "2021-01-26T00:00:48.887175Z",
     "iopub.status.busy": "2021-01-26T00:00:48.886226Z",
     "iopub.status.idle": "2021-01-26T00:00:48.891145Z",
     "shell.execute_reply": "2021-01-26T00:00:48.890618Z"
    }
   },
   "outputs": [
    {
     "name": "stdout",
     "output_type": "stream",
     "text": [
      "[-0.12484492  0.08288211 -0.08264045  0.175651   -0.15030292]\n",
      "[ 0.06887516 -0.2109125   0.1963028  -0.07146738 -0.0097627 ]\n"
     ]
    }
   ],
   "source": [
    "print(adaboost.estimators_[0].model_.get_weights()[0][0, :5])  # first sub-estimator\n",
    "print(adaboost.estimators_[1].model_.get_weights()[0][0, :5])  # second sub-estimator"
   ]
  },
  {
   "cell_type": "markdown",
   "id": "experienced-stomach",
   "metadata": {},
   "source": [
    "## 4. Bagging ensemble\n",
    "\n",
    "For comparison, we run the same test with an ensemble built using `sklearn.ensemble.BaggingClassifier`."
   ]
  },
  {
   "cell_type": "code",
   "execution_count": 12,
   "id": "fewer-somerset",
   "metadata": {
    "execution": {
     "iopub.execute_input": "2021-01-26T00:00:48.895671Z",
     "iopub.status.busy": "2021-01-26T00:00:48.894362Z",
     "iopub.status.idle": "2021-01-26T00:00:48.896234Z",
     "shell.execute_reply": "2021-01-26T00:00:48.896656Z"
    }
   },
   "outputs": [],
   "source": [
    "from sklearn.ensemble import BaggingClassifier"
   ]
  },
  {
   "cell_type": "code",
   "execution_count": 13,
   "id": "decent-hampshire",
   "metadata": {
    "execution": {
     "iopub.execute_input": "2021-01-26T00:00:48.901175Z",
     "iopub.status.busy": "2021-01-26T00:00:48.900646Z",
     "iopub.status.idle": "2021-01-26T00:01:44.162939Z",
     "shell.execute_reply": "2021-01-26T00:01:44.162121Z"
    }
   },
   "outputs": [
    {
     "name": "stdout",
     "output_type": "stream",
     "text": [
      "Bagging score: 0.60\n"
     ]
    }
   ],
   "source": [
    "bagging = BaggingClassifier(base_estimator=clf, random_state=0, n_jobs=-1)\n",
    "\n",
    "bagging_score = np.mean(cross_val_score(bagging, X, y))\n",
    "\n",
    "print(f\"Bagging score: {bagging_score:.2f}\")"
   ]
  }
 ],
 "metadata": {
  "jupytext": {
   "formats": "ipynb,md"
  },
  "kernelspec": {
   "display_name": "Python 3",
   "language": "python",
   "name": "python3"
  },
  "language_info": {
   "codemirror_mode": {
    "name": "ipython",
    "version": 3
   },
   "file_extension": ".py",
   "mimetype": "text/x-python",
   "name": "python",
   "nbconvert_exporter": "python",
   "pygments_lexer": "ipython3",
   "version": "3.8.6"
  }
 },
 "nbformat": 4,
 "nbformat_minor": 5
}
