{
 "cells": [
  {
   "cell_type": "raw",
   "id": "modular-exhibition",
   "metadata": {},
   "source": [
    "<a href=\"https://colab.research.google.com/github/adriangb/scikeras/blob/docs-deploy/refs/heads/master/notebooks/Meta_Estimators.ipynb\"><img src=\"https://www.tensorflow.org/images/colab_logo_32px.png\">Run in Google Colab</a>"
   ]
  },
  {
   "cell_type": "markdown",
   "id": "peaceful-transportation",
   "metadata": {},
   "source": [
    "# Meta Estimators in SciKeras\n",
    "\n",
    "In this notebook, we implement sklearn ensemble and tree meta-estimators backed by a Keras MLP model.\n",
    "\n",
    "## Table of contents\n",
    "\n",
    "* [1. Setup](#1.-Setup)\n",
    "* [2. Defining the Keras Model](#2.-Defining-the-Keras-Model)\n",
    "  * [2.1 Building a boosting ensemble](#2.1-Building-a-boosting-ensemble)\n",
    "* [3. Testing with a toy dataset](#3.-Testing-with-a-toy-dataset)\n",
    "* [4. Bagging ensemble](#4.-Bagging-ensemble)\n",
    "\n",
    "## 1. Setup"
   ]
  },
  {
   "cell_type": "code",
   "execution_count": 1,
   "id": "postal-stable",
   "metadata": {
    "execution": {
     "iopub.execute_input": "2021-01-27T22:03:05.320065Z",
     "iopub.status.busy": "2021-01-27T22:03:05.319398Z",
     "iopub.status.idle": "2021-01-27T22:03:06.829047Z",
     "shell.execute_reply": "2021-01-27T22:03:06.829531Z"
    }
   },
   "outputs": [],
   "source": [
    "try:\n",
    "    import scikeras\n",
    "except ImportError:\n",
    "    !python -m pip install scikeras"
   ]
  },
  {
   "cell_type": "markdown",
   "id": "subsequent-receipt",
   "metadata": {},
   "source": [
    "Silence TensorFlow logging to keep output succinct."
   ]
  },
  {
   "cell_type": "code",
   "execution_count": 2,
   "id": "vanilla-trick",
   "metadata": {
    "execution": {
     "iopub.execute_input": "2021-01-27T22:03:06.840789Z",
     "iopub.status.busy": "2021-01-27T22:03:06.840001Z",
     "iopub.status.idle": "2021-01-27T22:03:06.844349Z",
     "shell.execute_reply": "2021-01-27T22:03:06.844806Z"
    }
   },
   "outputs": [],
   "source": [
    "import warnings\n",
    "from tensorflow import get_logger\n",
    "get_logger().setLevel('ERROR')\n",
    "warnings.filterwarnings(\"ignore\", message=\"Setting the random state for TF\")"
   ]
  },
  {
   "cell_type": "code",
   "execution_count": 3,
   "id": "grateful-california",
   "metadata": {
    "execution": {
     "iopub.execute_input": "2021-01-27T22:03:06.848507Z",
     "iopub.status.busy": "2021-01-27T22:03:06.847797Z",
     "iopub.status.idle": "2021-01-27T22:03:07.301697Z",
     "shell.execute_reply": "2021-01-27T22:03:07.302248Z"
    }
   },
   "outputs": [],
   "source": [
    "import numpy as np\n",
    "from scikeras.wrappers import KerasClassifier, KerasRegressor\n",
    "from tensorflow import keras"
   ]
  },
  {
   "cell_type": "markdown",
   "id": "corporate-thunder",
   "metadata": {},
   "source": [
    "## 2. Defining the Keras Model\n",
    "\n",
    "We borrow our MLPClassifier implementation from the [MLPClassifier notebook](https://colab.research.google.com/github/adriangb/scikeras/blob/master/notebooks/MLPClassifier_and_MLPRegressor.ipynb)."
   ]
  },
  {
   "cell_type": "code",
   "execution_count": 4,
   "id": "spanish-inspiration",
   "metadata": {
    "execution": {
     "iopub.execute_input": "2021-01-27T22:03:07.310670Z",
     "iopub.status.busy": "2021-01-27T22:03:07.310134Z",
     "iopub.status.idle": "2021-01-27T22:03:07.313469Z",
     "shell.execute_reply": "2021-01-27T22:03:07.323079Z"
    }
   },
   "outputs": [],
   "source": [
    "from typing import Dict, Iterable, Any\n",
    "\n",
    "\n",
    "def get_clf_model(hidden_layer_sizes: Iterable[int], meta: Dict[str, Any], compile_kwargs: Dict[str, Any]):\n",
    "    model = keras.Sequential()\n",
    "    inp = keras.layers.Input(shape=(meta[\"n_features_in_\"]))\n",
    "    model.add(inp)\n",
    "    for hidden_layer_size in hidden_layer_sizes:\n",
    "        layer = keras.layers.Dense(hidden_layer_size, activation=\"relu\")\n",
    "        model.add(layer)\n",
    "    if meta[\"target_type_\"] == \"binary\":\n",
    "        n_output_units = 1\n",
    "        output_activation = \"sigmoid\"\n",
    "        loss = \"binary_crossentropy\"\n",
    "    elif meta[\"target_type_\"] == \"multiclass\":\n",
    "        n_output_units = meta[\"n_classes_\"]\n",
    "        output_activation = \"softmax\"\n",
    "        loss = \"sparse_categorical_crossentropy\"\n",
    "    else:\n",
    "        raise NotImplementedError(f\"Unsupported task type: {meta['target_type_']}\")\n",
    "    out = keras.layers.Dense(n_output_units, activation=output_activation)\n",
    "    model.add(out)\n",
    "    model.compile(loss=loss, optimizer=compile_kwargs[\"optimizer\"])\n",
    "    return model"
   ]
  },
  {
   "cell_type": "markdown",
   "id": "alpine-dancing",
   "metadata": {},
   "source": [
    "Next we wrap this Keras model with SciKeras"
   ]
  },
  {
   "cell_type": "code",
   "execution_count": 5,
   "id": "persistent-arnold",
   "metadata": {
    "execution": {
     "iopub.execute_input": "2021-01-27T22:03:07.326630Z",
     "iopub.status.busy": "2021-01-27T22:03:07.325559Z",
     "iopub.status.idle": "2021-01-27T22:03:07.331338Z",
     "shell.execute_reply": "2021-01-27T22:03:07.330644Z"
    }
   },
   "outputs": [],
   "source": [
    "clf = KerasClassifier(\n",
    "    model=get_clf_model,\n",
    "    hidden_layer_sizes=(100, ),\n",
    "    optimizer=\"adam\",\n",
    "    optimizer__learning_rate=0.001,\n",
    "    verbose=0,\n",
    "    random_state=0,\n",
    ")"
   ]
  },
  {
   "cell_type": "markdown",
   "id": "afraid-characteristic",
   "metadata": {},
   "source": [
    "### 2.1 Building a boosting ensemble\n",
    "\n",
    "Because SciKeras estimators are fully compliant with the Scikit-Learn API, we can make use of Scikit-Learn's built in utilities. In particular example, we will use `AdaBoostClassifier` from `sklearn.ensemble.AdaBoostClassifier`, but the process is the same for most Scikit-Learn meta-estimators."
   ]
  },
  {
   "cell_type": "code",
   "execution_count": 6,
   "id": "revolutionary-evans",
   "metadata": {
    "execution": {
     "iopub.execute_input": "2021-01-27T22:03:07.345006Z",
     "iopub.status.busy": "2021-01-27T22:03:07.344441Z",
     "iopub.status.idle": "2021-01-27T22:03:07.388357Z",
     "shell.execute_reply": "2021-01-27T22:03:07.389090Z"
    }
   },
   "outputs": [],
   "source": [
    "from sklearn.ensemble import AdaBoostClassifier"
   ]
  },
  {
   "cell_type": "code",
   "execution_count": 7,
   "id": "explicit-philosophy",
   "metadata": {
    "execution": {
     "iopub.execute_input": "2021-01-27T22:03:07.395399Z",
     "iopub.status.busy": "2021-01-27T22:03:07.394896Z",
     "iopub.status.idle": "2021-01-27T22:03:07.403801Z",
     "shell.execute_reply": "2021-01-27T22:03:07.404333Z"
    }
   },
   "outputs": [],
   "source": [
    "adaboost = AdaBoostClassifier(base_estimator=clf, random_state=0)"
   ]
  },
  {
   "cell_type": "markdown",
   "id": "difficult-isaac",
   "metadata": {},
   "source": [
    "## 3. Testing with a toy dataset\n",
    "\n",
    "Before continouing, we will run a small test to make sure we get somewhat reasonable results."
   ]
  },
  {
   "cell_type": "code",
   "execution_count": 8,
   "id": "distributed-seating",
   "metadata": {
    "execution": {
     "iopub.execute_input": "2021-01-27T22:03:07.409968Z",
     "iopub.status.busy": "2021-01-27T22:03:07.408468Z",
     "iopub.status.idle": "2021-01-27T22:03:07.450788Z",
     "shell.execute_reply": "2021-01-27T22:03:07.451330Z"
    }
   },
   "outputs": [],
   "source": [
    "from sklearn.datasets import make_moons\n",
    "from sklearn.model_selection import cross_val_score"
   ]
  },
  {
   "cell_type": "code",
   "execution_count": 9,
   "id": "joint-bunch",
   "metadata": {
    "execution": {
     "iopub.execute_input": "2021-01-27T22:03:07.459081Z",
     "iopub.status.busy": "2021-01-27T22:03:07.456083Z",
     "iopub.status.idle": "2021-01-27T22:05:36.915146Z",
     "shell.execute_reply": "2021-01-27T22:05:36.914646Z"
    }
   },
   "outputs": [
    {
     "name": "stdout",
     "output_type": "stream",
     "text": [
      "Single score: 0.32\n",
      "AdaBoost score: 0.80\n"
     ]
    }
   ],
   "source": [
    "X, y = make_moons()\n",
    "\n",
    "single_score = np.mean(cross_val_score(clf, X, y))\n",
    "\n",
    "adaboost_score = np.mean(cross_val_score(adaboost, X, y))\n",
    "\n",
    "print(f\"Single score: {single_score:.2f}\")\n",
    "print(f\"AdaBoost score: {adaboost_score:.2f}\")"
   ]
  },
  {
   "cell_type": "markdown",
   "id": "divided-corporation",
   "metadata": {},
   "source": [
    "We see that the score for the AdaBoost classifier is slightly higher than that of an individual MLPRegressor instance. We can explore the individual classifiers, and see that each one is composed of a Keras Model with it's own individual weights."
   ]
  },
  {
   "cell_type": "code",
   "execution_count": 10,
   "id": "noted-steps",
   "metadata": {
    "execution": {
     "iopub.execute_input": "2021-01-27T22:05:36.935218Z",
     "iopub.status.busy": "2021-01-27T22:05:36.934267Z",
     "iopub.status.idle": "2021-01-27T22:06:03.407805Z",
     "shell.execute_reply": "2021-01-27T22:06:03.407257Z"
    }
   },
   "outputs": [
    {
     "data": {
      "text/plain": [
       "AdaBoostClassifier(base_estimator=KerasClassifier(hidden_layer_sizes=(100,), model=<function get_clf_model at 0x7f38dcbe9700>, optimizer='adam', optimizer__learning_rate=0.001, random_state=0, verbose=0),\n",
       "                   random_state=0)"
      ]
     },
     "execution_count": 1,
     "metadata": {},
     "output_type": "execute_result"
    }
   ],
   "source": [
    "adaboost.fit(X, y)  # we need to fit outside of cross_val_score before accessing the weights"
   ]
  },
  {
   "cell_type": "code",
   "execution_count": 11,
   "id": "accessible-ground",
   "metadata": {
    "execution": {
     "iopub.execute_input": "2021-01-27T22:06:03.413263Z",
     "iopub.status.busy": "2021-01-27T22:06:03.412699Z",
     "iopub.status.idle": "2021-01-27T22:06:03.419688Z",
     "shell.execute_reply": "2021-01-27T22:06:03.420242Z"
    }
   },
   "outputs": [
    {
     "name": "stdout",
     "output_type": "stream",
     "text": [
      "[-0.12577666  0.08267379 -0.08256283  0.17536744 -0.15026723]\n",
      "[ 0.06915609 -0.21088038  0.19654988 -0.07196089 -0.00972378]\n"
     ]
    }
   ],
   "source": [
    "print(adaboost.estimators_[0].model_.get_weights()[0][0, :5])  # first sub-estimator\n",
    "print(adaboost.estimators_[1].model_.get_weights()[0][0, :5])  # second sub-estimator"
   ]
  },
  {
   "cell_type": "markdown",
   "id": "disturbed-table",
   "metadata": {},
   "source": [
    "## 4. Bagging ensemble\n",
    "\n",
    "For comparison, we run the same test with an ensemble built using `sklearn.ensemble.BaggingClassifier`."
   ]
  },
  {
   "cell_type": "code",
   "execution_count": 12,
   "id": "immune-massachusetts",
   "metadata": {
    "execution": {
     "iopub.execute_input": "2021-01-27T22:06:03.424805Z",
     "iopub.status.busy": "2021-01-27T22:06:03.424113Z",
     "iopub.status.idle": "2021-01-27T22:06:03.428645Z",
     "shell.execute_reply": "2021-01-27T22:06:03.427717Z"
    }
   },
   "outputs": [],
   "source": [
    "from sklearn.ensemble import BaggingClassifier"
   ]
  },
  {
   "cell_type": "code",
   "execution_count": 13,
   "id": "sweet-dover",
   "metadata": {
    "execution": {
     "iopub.execute_input": "2021-01-27T22:06:03.434715Z",
     "iopub.status.busy": "2021-01-27T22:06:03.433618Z",
     "iopub.status.idle": "2021-01-27T22:06:56.566414Z",
     "shell.execute_reply": "2021-01-27T22:06:56.565969Z"
    }
   },
   "outputs": [
    {
     "name": "stdout",
     "output_type": "stream",
     "text": [
      "Bagging score: 0.63\n"
     ]
    }
   ],
   "source": [
    "bagging = BaggingClassifier(base_estimator=clf, random_state=0, n_jobs=-1)\n",
    "\n",
    "bagging_score = np.mean(cross_val_score(bagging, X, y))\n",
    "\n",
    "print(f\"Bagging score: {bagging_score:.2f}\")"
   ]
  }
 ],
 "metadata": {
  "jupytext": {
   "formats": "ipynb,md"
  },
  "kernelspec": {
   "display_name": "Python 3",
   "language": "python",
   "name": "python3"
  },
  "language_info": {
   "codemirror_mode": {
    "name": "ipython",
    "version": 3
   },
   "file_extension": ".py",
   "mimetype": "text/x-python",
   "name": "python",
   "nbconvert_exporter": "python",
   "pygments_lexer": "ipython3",
   "version": "3.8.6"
  }
 },
 "nbformat": 4,
 "nbformat_minor": 5
}
