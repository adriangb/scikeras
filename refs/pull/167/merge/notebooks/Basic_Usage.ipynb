{
 "cells": [
  {
   "cell_type": "raw",
   "id": "furnished-recording",
   "metadata": {},
   "source": [
    "<a href=\"https://colab.research.google.com/github/adriangb/scikeras/blob/docs-deploy/refs/heads/master/notebooks/Basic_Usage.ipynb\"><img src=\"https://www.tensorflow.org/images/colab_logo_32px.png\">Run in Google Colab</a>"
   ]
  },
  {
   "cell_type": "markdown",
   "id": "dimensional-india",
   "metadata": {},
   "source": [
    "# Basic usage\n",
    "\n",
    "`SciKeras` is designed to maximize interoperability between `sklearn` and `Keras/TensorFlow`. The aim is to keep 99% of the flexibility of `Keras` while being able to leverage most features of `sklearn`. Below, we show the basic usage of `SciKeras` and how it can be combined with `sklearn`.\n",
    "\n",
    "This notebook shows you how to use the basic functionality of `SciKeras`.\n",
    "\n",
    "## Table of contents\n",
    "\n",
    "* [1. Setup](#1.-Setup)\n",
    "* [2. Training a classifier and making predictions](#2.-Training-a-classifier-and-making-predictions)\n",
    "  * [2.1 A toy binary classification task](#2.1-A-toy-binary-classification-task)\n",
    "  * [2.2 Definition of the Keras classification Model](#2.2-Definition-of-the-Keras-classification-Model)\n",
    "  * [2.3 Defining and training the neural net classifier](#2.3-Defining-and-training-the-neural-net-classifier)\n",
    "  * [2.4 Making predictions, classification](#2.4-Making-predictions-classification)\n",
    "* [3 Training a regressor](#3.-Training-a-regressor)\n",
    "  * [3.1 A toy regression task](#3.1-A-toy-regression-task)\n",
    "  * [3.2 Definition of the Keras regression Model](#3.2-Definition-of-the-Keras-regression-Model)\n",
    "  * [3.3 Defining and training the neural net regressor](#3.3-Defining-and-training-the-neural-net-regressor)\n",
    "  * [3.4 Making predictions, regression](#3.4-Making-predictions-regression)\n",
    "* [4. Saving and loading a model](#4.-Saving-and-loading-a-model)\n",
    "  * [4.1 Saving the whole model](#4.1-Saving-the-whole-model)\n",
    "  * [4.2 Saving using Keras' saving methods](#4.2-Saving-using-Keras-saving-methods)\n",
    "* [5. Usage with an sklearn Pipeline](#5.-Usage-with-an-sklearn-Pipeline)\n",
    "* [6. Callbacks](#6.-Callbacks)\n",
    "* [7. Usage with sklearn GridSearchCV](#7.-Usage-with-sklearn-GridSearchCV)\n",
    "  * [7.1 Special prefixes](#7.1-Special-prefixes)\n",
    "  * [7.2 Performing a grid search](#7.2-Performing-a-grid-search)\n",
    "\n",
    "## 1. Setup"
   ]
  },
  {
   "cell_type": "code",
   "execution_count": 1,
   "id": "retained-chrome",
   "metadata": {
    "execution": {
     "iopub.execute_input": "2021-01-29T20:07:05.156323Z",
     "iopub.status.busy": "2021-01-29T20:07:05.155656Z",
     "iopub.status.idle": "2021-01-29T20:07:08.480928Z",
     "shell.execute_reply": "2021-01-29T20:07:08.481453Z"
    }
   },
   "outputs": [],
   "source": [
    "try:\n",
    "    import scikeras\n",
    "except ImportError:\n",
    "    !python -m pip install scikeras"
   ]
  },
  {
   "cell_type": "markdown",
   "id": "prompt-implementation",
   "metadata": {},
   "source": [
    "Silence TensorFlow logging to keep output succinct."
   ]
  },
  {
   "cell_type": "code",
   "execution_count": 2,
   "id": "rising-jonathan",
   "metadata": {
    "execution": {
     "iopub.execute_input": "2021-01-29T20:07:08.484322Z",
     "iopub.status.busy": "2021-01-29T20:07:08.483720Z",
     "iopub.status.idle": "2021-01-29T20:07:08.487312Z",
     "shell.execute_reply": "2021-01-29T20:07:08.488041Z"
    }
   },
   "outputs": [],
   "source": [
    "import warnings\n",
    "from tensorflow import get_logger\n",
    "get_logger().setLevel('ERROR')\n",
    "warnings.filterwarnings(\"ignore\", message=\"Setting the random state for TF\")"
   ]
  },
  {
   "cell_type": "code",
   "execution_count": 3,
   "id": "hollywood-narrative",
   "metadata": {
    "execution": {
     "iopub.execute_input": "2021-01-29T20:07:08.491631Z",
     "iopub.status.busy": "2021-01-29T20:07:08.490518Z",
     "iopub.status.idle": "2021-01-29T20:07:09.308832Z",
     "shell.execute_reply": "2021-01-29T20:07:09.309590Z"
    }
   },
   "outputs": [],
   "source": [
    "import numpy as np\n",
    "from scikeras.wrappers import KerasClassifier, KerasRegressor\n",
    "from tensorflow import keras"
   ]
  },
  {
   "cell_type": "markdown",
   "id": "immune-artwork",
   "metadata": {},
   "source": [
    "## 2. Training a classifier and making predictions\n",
    "\n",
    "### 2.1 A toy binary classification task\n",
    "\n",
    "We load a toy classification task from `sklearn`."
   ]
  },
  {
   "cell_type": "code",
   "execution_count": 4,
   "id": "attended-mortality",
   "metadata": {
    "execution": {
     "iopub.execute_input": "2021-01-29T20:07:09.313109Z",
     "iopub.status.busy": "2021-01-29T20:07:09.312020Z",
     "iopub.status.idle": "2021-01-29T20:07:09.343942Z",
     "shell.execute_reply": "2021-01-29T20:07:09.343073Z"
    }
   },
   "outputs": [],
   "source": [
    "import numpy as np\n",
    "from sklearn.datasets import make_classification"
   ]
  },
  {
   "cell_type": "code",
   "execution_count": 5,
   "id": "colonial-grounds",
   "metadata": {
    "execution": {
     "iopub.execute_input": "2021-01-29T20:07:09.351918Z",
     "iopub.status.busy": "2021-01-29T20:07:09.346178Z",
     "iopub.status.idle": "2021-01-29T20:07:09.354445Z",
     "shell.execute_reply": "2021-01-29T20:07:09.355240Z"
    }
   },
   "outputs": [],
   "source": [
    "X, y = make_classification(1000, 20, n_informative=10, random_state=0)"
   ]
  },
  {
   "cell_type": "code",
   "execution_count": 6,
   "id": "failing-bracelet",
   "metadata": {
    "execution": {
     "iopub.execute_input": "2021-01-29T20:07:09.358788Z",
     "iopub.status.busy": "2021-01-29T20:07:09.357714Z",
     "iopub.status.idle": "2021-01-29T20:07:09.373107Z",
     "shell.execute_reply": "2021-01-29T20:07:09.373887Z"
    }
   },
   "outputs": [
    {
     "data": {
      "text/plain": [
       "((1000, 20), (1000,), 0.5)"
      ]
     },
     "execution_count": 1,
     "metadata": {},
     "output_type": "execute_result"
    }
   ],
   "source": [
    "X.shape, y.shape, y.mean()"
   ]
  },
  {
   "cell_type": "markdown",
   "id": "documented-stewart",
   "metadata": {},
   "source": [
    "### 2.2 Definition of the Keras classification Model\n",
    "\n",
    "We define a vanilla neural network with.\n",
    "\n",
    "Because we are dealing with 2 classes, the output layer can be constructed in\n",
    "two different ways:\n",
    "\n",
    "1. Single unit with a `\"sigmoid\"` nonlinearity. The loss must be `\"binary_crossentropy\"`.\n",
    "2. Two units (one for each class) and a `\"softmax\"` nonlinearity. The loss must be `\"sparse_categorical_crossentropy\"`.\n",
    "\n",
    "In this example, we choose the first option, which is what you would usually\n",
    "do for binary classification. The second option is usually reserved for when\n",
    "you have >2 classes."
   ]
  },
  {
   "cell_type": "code",
   "execution_count": 7,
   "id": "understanding-muscle",
   "metadata": {
    "execution": {
     "iopub.execute_input": "2021-01-29T20:07:09.377603Z",
     "iopub.status.busy": "2021-01-29T20:07:09.376523Z",
     "iopub.status.idle": "2021-01-29T20:07:09.381066Z",
     "shell.execute_reply": "2021-01-29T20:07:09.381842Z"
    }
   },
   "outputs": [],
   "source": [
    "from tensorflow import keras"
   ]
  },
  {
   "cell_type": "code",
   "execution_count": 8,
   "id": "sustainable-shoot",
   "metadata": {
    "execution": {
     "iopub.execute_input": "2021-01-29T20:07:09.385392Z",
     "iopub.status.busy": "2021-01-29T20:07:09.384266Z",
     "iopub.status.idle": "2021-01-29T20:07:09.391055Z",
     "shell.execute_reply": "2021-01-29T20:07:09.391836Z"
    }
   },
   "outputs": [],
   "source": [
    "def get_clf(meta, hidden_layer_sizes, dropout):\n",
    "    n_features_in_ = meta[\"n_features_in_\"]\n",
    "    n_classes_ = meta[\"n_classes_\"]\n",
    "    model = keras.models.Sequential()\n",
    "    model.add(keras.layers.Input(shape=(n_features_in_,)))\n",
    "    for hidden_layer_size in hidden_layer_sizes:\n",
    "        model.add(keras.layers.Dense(hidden_layer_size, activation=\"relu\"))\n",
    "        model.add(keras.layers.Dropout(dropout))\n",
    "    model.add(keras.layers.Dense(1, activation=\"sigmoid\"))\n",
    "    return model"
   ]
  },
  {
   "cell_type": "markdown",
   "id": "listed-influence",
   "metadata": {},
   "source": [
    "### 2.3 Defining and training the neural net classifier\n",
    "\n",
    "We use `KerasClassifier` because we're dealing with a classifcation task. The first argument should be a callable returning a `Keras.Model`, in this case, `get_clf`. As additional arguments, we pass the number of loss function (required) and the optimizer, but the later is optional. We must also pass all of the arguments to `get_clf` as keyword arguments to `KerasClassifier` if they don't have a default value in `get_clf`. Note that if you do not pass an argument to `KerasClassifier`, it will not be avilable for hyperparameter tuning. Finally, we also pass `random_state=0` for reproducible results."
   ]
  },
  {
   "cell_type": "code",
   "execution_count": 9,
   "id": "enormous-sight",
   "metadata": {
    "execution": {
     "iopub.execute_input": "2021-01-29T20:07:09.395567Z",
     "iopub.status.busy": "2021-01-29T20:07:09.394463Z",
     "iopub.status.idle": "2021-01-29T20:07:09.399742Z",
     "shell.execute_reply": "2021-01-29T20:07:09.400608Z"
    }
   },
   "outputs": [],
   "source": [
    "from scikeras.wrappers import KerasClassifier"
   ]
  },
  {
   "cell_type": "code",
   "execution_count": 10,
   "id": "enclosed-picnic",
   "metadata": {
    "execution": {
     "iopub.execute_input": "2021-01-29T20:07:09.404864Z",
     "iopub.status.busy": "2021-01-29T20:07:09.403774Z",
     "iopub.status.idle": "2021-01-29T20:07:09.408596Z",
     "shell.execute_reply": "2021-01-29T20:07:09.409370Z"
    }
   },
   "outputs": [],
   "source": [
    "clf = KerasClassifier(\n",
    "    model=get_clf,\n",
    "    loss=\"binary_crossentropy\",\n",
    "    optimizer=\"adam\",\n",
    "    hidden_layer_sizes=(100,),\n",
    "    dropout=0.5,\n",
    ")"
   ]
  },
  {
   "cell_type": "markdown",
   "id": "normal-presentation",
   "metadata": {},
   "source": [
    "As in `sklearn`, we call `fit` passing the input data `X` and the targets `y`."
   ]
  },
  {
   "cell_type": "code",
   "execution_count": 11,
   "id": "confirmed-thesaurus",
   "metadata": {
    "execution": {
     "iopub.execute_input": "2021-01-29T20:07:09.414125Z",
     "iopub.status.busy": "2021-01-29T20:07:09.413017Z",
     "iopub.status.idle": "2021-01-29T20:07:10.011615Z",
     "shell.execute_reply": "2021-01-29T20:07:10.012402Z"
    }
   },
   "outputs": [
    {
     "name": "stdout",
     "output_type": "stream",
     "text": [
      "\r",
      " 1/32 [..............................] - ETA: 13s - loss: 0.7747"
     ]
    },
    {
     "name": "stdout",
     "output_type": "stream",
     "text": [
      "\b\b\b\b\b\b\b\b\b\b\b\b\b\b\b\b\b\b\b\b\b\b\b\b\b\b\b\b\b\b\b\b\b\b\b\b\b\b\b\b\b\b\b\b\b\b\b\b\b\b\b\b\b\b\b\b\b\b\b\b\b\b\b\b\r",
      "32/32 [==============================] - 0s 1ms/step - loss: 0.8456\n"
     ]
    },
    {
     "data": {
      "text/plain": [
       "KerasClassifier(\n",
       "\tmodel=<function get_clf at 0x7f432c31cb80>\n",
       "\tbuild_fn=None\n",
       "\twarm_start=False\n",
       "\trandom_state=None\n",
       "\toptimizer=adam\n",
       "\tloss=binary_crossentropy\n",
       "\tmetrics=None\n",
       "\tbatch_size=None\n",
       "\tverbose=1\n",
       "\tcallbacks=None\n",
       "\tvalidation_split=0.0\n",
       "\tshuffle=True\n",
       "\trun_eagerly=False\n",
       "\tepochs=1\n",
       "\thidden_layer_sizes=(100,)\n",
       "\tdropout=0.5\n",
       "\tclass_weight=None\n",
       ")"
      ]
     },
     "execution_count": 1,
     "metadata": {},
     "output_type": "execute_result"
    }
   ],
   "source": [
    "clf.fit(X, y)"
   ]
  },
  {
   "cell_type": "markdown",
   "id": "removed-glass",
   "metadata": {},
   "source": [
    "Also, as in `sklearn`, you may call `predict` or `predict_proba` on the fitted model.\n",
    "\n",
    "### 2.4 Making predictions, classification"
   ]
  },
  {
   "cell_type": "code",
   "execution_count": 12,
   "id": "freelance-azerbaijan",
   "metadata": {
    "execution": {
     "iopub.execute_input": "2021-01-29T20:07:10.016350Z",
     "iopub.status.busy": "2021-01-29T20:07:10.015127Z",
     "iopub.status.idle": "2021-01-29T20:07:10.128062Z",
     "shell.execute_reply": "2021-01-29T20:07:10.127538Z"
    }
   },
   "outputs": [
    {
     "name": "stdout",
     "output_type": "stream",
     "text": [
      "\r",
      "1/1 [==============================] - ETA: 0s"
     ]
    },
    {
     "name": "stdout",
     "output_type": "stream",
     "text": [
      "\b\b\b\b\b\b\b\b\b\b\b\b\b\b\b\b\b\b\b\b\b\b\b\b\b\b\b\b\b\b\b\b\b\b\b\b\b\b\b\b\b\b\b\b\b\b\r",
      "1/1 [==============================] - 0s 75ms/step\n"
     ]
    },
    {
     "data": {
      "text/plain": [
       "array([1, 0, 0, 0, 0])"
      ]
     },
     "execution_count": 1,
     "metadata": {},
     "output_type": "execute_result"
    }
   ],
   "source": [
    "y_pred = clf.predict(X[:5])\n",
    "y_pred"
   ]
  },
  {
   "cell_type": "code",
   "execution_count": 13,
   "id": "balanced-federation",
   "metadata": {
    "execution": {
     "iopub.execute_input": "2021-01-29T20:07:10.139643Z",
     "iopub.status.busy": "2021-01-29T20:07:10.130542Z",
     "iopub.status.idle": "2021-01-29T20:07:10.180982Z",
     "shell.execute_reply": "2021-01-29T20:07:10.181929Z"
    }
   },
   "outputs": [
    {
     "name": "stdout",
     "output_type": "stream",
     "text": [
      "\r",
      "1/1 [==============================] - ETA: 0s"
     ]
    },
    {
     "name": "stdout",
     "output_type": "stream",
     "text": [
      "\b\b\b\b\b\b\b\b\b\b\b\b\b\b\b\b\b\b\b\b\b\b\b\b\b\b\b\b\b\b\b\b\b\b\b\b\b\b\b\b\b\b\b\b\b\b\r",
      "1/1 [==============================] - 0s 14ms/step\n"
     ]
    },
    {
     "data": {
      "text/plain": [
       "array([[0.3958243 , 0.6041757 ],\n",
       "       [0.790563  , 0.20943698],\n",
       "       [0.7825681 , 0.21743187],\n",
       "       [0.8400643 , 0.15993568],\n",
       "       [0.7887118 , 0.21128818]], dtype=float32)"
      ]
     },
     "execution_count": 1,
     "metadata": {},
     "output_type": "execute_result"
    }
   ],
   "source": [
    "y_proba = clf.predict_proba(X[:5])\n",
    "y_proba"
   ]
  },
  {
   "cell_type": "markdown",
   "id": "trying-onion",
   "metadata": {},
   "source": [
    "## 3 Training a regressor\n",
    "\n",
    "### 3.1 A toy regression task"
   ]
  },
  {
   "cell_type": "code",
   "execution_count": 14,
   "id": "radical-place",
   "metadata": {
    "execution": {
     "iopub.execute_input": "2021-01-29T20:07:10.186391Z",
     "iopub.status.busy": "2021-01-29T20:07:10.185801Z",
     "iopub.status.idle": "2021-01-29T20:07:10.188913Z",
     "shell.execute_reply": "2021-01-29T20:07:10.189422Z"
    }
   },
   "outputs": [],
   "source": [
    "from sklearn.datasets import make_regression"
   ]
  },
  {
   "cell_type": "code",
   "execution_count": 15,
   "id": "eleven-disposition",
   "metadata": {
    "execution": {
     "iopub.execute_input": "2021-01-29T20:07:10.194760Z",
     "iopub.status.busy": "2021-01-29T20:07:10.194155Z",
     "iopub.status.idle": "2021-01-29T20:07:10.199475Z",
     "shell.execute_reply": "2021-01-29T20:07:10.199955Z"
    }
   },
   "outputs": [],
   "source": [
    "X_regr, y_regr = make_regression(1000, 20, n_informative=10, random_state=0)"
   ]
  },
  {
   "cell_type": "code",
   "execution_count": 16,
   "id": "tired-compensation",
   "metadata": {
    "execution": {
     "iopub.execute_input": "2021-01-29T20:07:10.204871Z",
     "iopub.status.busy": "2021-01-29T20:07:10.204288Z",
     "iopub.status.idle": "2021-01-29T20:07:10.209765Z",
     "shell.execute_reply": "2021-01-29T20:07:10.210462Z"
    }
   },
   "outputs": [
    {
     "data": {
      "text/plain": [
       "((1000, 20), (1000,), -649.0148244404172, 615.4505181286091)"
      ]
     },
     "execution_count": 1,
     "metadata": {},
     "output_type": "execute_result"
    }
   ],
   "source": [
    "X_regr.shape, y_regr.shape, y_regr.min(), y_regr.max()"
   ]
  },
  {
   "cell_type": "markdown",
   "id": "acceptable-vacation",
   "metadata": {},
   "source": [
    "### 3.2 Definition of the Keras regression Model\n",
    "\n",
    "Again, define a vanilla neural network. The main difference is that the output layer always has a single unit and does not apply any nonlinearity."
   ]
  },
  {
   "cell_type": "code",
   "execution_count": 17,
   "id": "pleasant-tender",
   "metadata": {
    "execution": {
     "iopub.execute_input": "2021-01-29T20:07:10.217021Z",
     "iopub.status.busy": "2021-01-29T20:07:10.216428Z",
     "iopub.status.idle": "2021-01-29T20:07:10.220219Z",
     "shell.execute_reply": "2021-01-29T20:07:10.219700Z"
    }
   },
   "outputs": [],
   "source": [
    "def get_reg(meta, hidden_layer_sizes, dropout):\n",
    "    n_features_in_ = meta[\"n_features_in_\"]\n",
    "    model = keras.models.Sequential()\n",
    "    model.add(keras.layers.Input(shape=(n_features_in_,)))\n",
    "    for hidden_layer_size in hidden_layer_sizes:\n",
    "        model.add(keras.layers.Dense(hidden_layer_size, activation=\"relu\"))\n",
    "        model.add(keras.layers.Dropout(dropout))\n",
    "    model.add(keras.layers.Dense(1))\n",
    "    return model"
   ]
  },
  {
   "cell_type": "markdown",
   "id": "answering-margin",
   "metadata": {},
   "source": [
    "### 3.3 Defining and training the neural net regressor\n",
    "\n",
    "Training a regressor is almost the same as training a classifier. Mainly, we use `KerasRegressor` instead of `KerasClassifier` (this is the same terminology as in `sklearn`). We also change the loss function to `KerasRegressor.r_squared`. SciKeras provides this loss function because most of the `sklearn` ecosystem expects `R^2` as the loss function, but Keras does not have a default implementation."
   ]
  },
  {
   "cell_type": "code",
   "execution_count": 18,
   "id": "twelve-musician",
   "metadata": {
    "execution": {
     "iopub.execute_input": "2021-01-29T20:07:10.224166Z",
     "iopub.status.busy": "2021-01-29T20:07:10.223578Z",
     "iopub.status.idle": "2021-01-29T20:07:10.226809Z",
     "shell.execute_reply": "2021-01-29T20:07:10.227615Z"
    }
   },
   "outputs": [],
   "source": [
    "from scikeras.wrappers import KerasRegressor"
   ]
  },
  {
   "cell_type": "code",
   "execution_count": 19,
   "id": "printable-dublin",
   "metadata": {
    "execution": {
     "iopub.execute_input": "2021-01-29T20:07:10.231920Z",
     "iopub.status.busy": "2021-01-29T20:07:10.231340Z",
     "iopub.status.idle": "2021-01-29T20:07:10.235081Z",
     "shell.execute_reply": "2021-01-29T20:07:10.234553Z"
    }
   },
   "outputs": [],
   "source": [
    "reg = KerasRegressor(\n",
    "    model=get_reg,\n",
    "    loss=KerasRegressor.r_squared,\n",
    "    optimizer=\"adam\",\n",
    "    hidden_layer_sizes=(100,),\n",
    "    dropout=0.5,\n",
    ")"
   ]
  },
  {
   "cell_type": "code",
   "execution_count": 20,
   "id": "laden-indonesian",
   "metadata": {
    "execution": {
     "iopub.execute_input": "2021-01-29T20:07:10.239863Z",
     "iopub.status.busy": "2021-01-29T20:07:10.238912Z",
     "iopub.status.idle": "2021-01-29T20:07:10.784915Z",
     "shell.execute_reply": "2021-01-29T20:07:10.785886Z"
    }
   },
   "outputs": [
    {
     "name": "stdout",
     "output_type": "stream",
     "text": [
      "\r",
      " 1/32 [..............................] - ETA: 13s - loss: -0.1301"
     ]
    },
    {
     "name": "stdout",
     "output_type": "stream",
     "text": [
      "\b\b\b\b\b\b\b\b\b\b\b\b\b\b\b\b\b\b\b\b\b\b\b\b\b\b\b\b\b\b\b\b\b\b\b\b\b\b\b\b\b\b\b\b\b\b\b\b\b\b\b\b\b\b\b\b\b\b\b\b\b\b\b\b\b\r",
      "32/32 [==============================] - 0s 1ms/step - loss: -0.0387\n"
     ]
    },
    {
     "data": {
      "text/plain": [
       "KerasRegressor(\n",
       "\tmodel=<function get_reg at 0x7f432c31c5e0>\n",
       "\tbuild_fn=None\n",
       "\twarm_start=False\n",
       "\trandom_state=None\n",
       "\toptimizer=adam\n",
       "\tloss=<function KerasRegressor.r_squared at 0x7f42c2c9fd30>\n",
       "\tmetrics=None\n",
       "\tbatch_size=None\n",
       "\tverbose=1\n",
       "\tcallbacks=None\n",
       "\tvalidation_split=0.0\n",
       "\tshuffle=True\n",
       "\trun_eagerly=False\n",
       "\tepochs=1\n",
       "\thidden_layer_sizes=(100,)\n",
       "\tdropout=0.5\n",
       ")"
      ]
     },
     "execution_count": 1,
     "metadata": {},
     "output_type": "execute_result"
    }
   ],
   "source": [
    "reg.fit(X_regr, y_regr)"
   ]
  },
  {
   "cell_type": "markdown",
   "id": "apart-banking",
   "metadata": {},
   "source": [
    "### 3.4 Making predictions, regression\n",
    "\n",
    "You may call `predict` or `predict_proba` on the fitted model. For regressions, both methods return the same value."
   ]
  },
  {
   "cell_type": "code",
   "execution_count": 21,
   "id": "express-motivation",
   "metadata": {
    "execution": {
     "iopub.execute_input": "2021-01-29T20:07:10.793495Z",
     "iopub.status.busy": "2021-01-29T20:07:10.792777Z",
     "iopub.status.idle": "2021-01-29T20:07:10.859614Z",
     "shell.execute_reply": "2021-01-29T20:07:10.860240Z"
    }
   },
   "outputs": [
    {
     "name": "stdout",
     "output_type": "stream",
     "text": [
      "\r",
      "1/1 [==============================] - ETA: 0s"
     ]
    },
    {
     "name": "stdout",
     "output_type": "stream",
     "text": [
      "\b\b\b\b\b\b\b\b\b\b\b\b\b\b\b\b\b\b\b\b\b\b\b\b\b\b\b\b\b\b\b\b\b\b\b\b\b\b\b\b\b\b\b\b\b\b\r",
      "1/1 [==============================] - 0s 37ms/step\n"
     ]
    },
    {
     "data": {
      "text/plain": [
       "array([-0.52860224,  0.9989036 ,  0.08071205, -0.02819564,  0.5347697 ],\n",
       "      dtype=float32)"
      ]
     },
     "execution_count": 1,
     "metadata": {},
     "output_type": "execute_result"
    }
   ],
   "source": [
    "y_pred = reg.predict(X_regr[:5])\n",
    "y_pred"
   ]
  },
  {
   "cell_type": "markdown",
   "id": "missing-bridge",
   "metadata": {},
   "source": [
    "## 4. Saving and loading a model\n",
    "\n",
    "Save and load either the whole model by using pickle, or use Keras' specialized save methods on the `KerasClassifier.model_` or `KerasRegressor.model_` attribute that is created after fitting. You will want to use Keras' model saving utilities if any of the following apply:\n",
    "\n",
    "1. You wish to save only the weights or only the training configuration of your model.\n",
    "2. You wish to share your model with collaborators. Pickle is a relatively unsafe protocol and it is not recommended to share or load pickle objects publically.\n",
    "3. You care about performance, especially if doing in-memory serialization.\n",
    "\n",
    "For more information, see Keras' [saving documentation](https://www.tensorflow.org/guide/keras/save_and_serialize).\n",
    "\n",
    "### 4.1 Saving the whole model"
   ]
  },
  {
   "cell_type": "code",
   "execution_count": 22,
   "id": "administrative-group",
   "metadata": {
    "execution": {
     "iopub.execute_input": "2021-01-29T20:07:10.864121Z",
     "iopub.status.busy": "2021-01-29T20:07:10.863517Z",
     "iopub.status.idle": "2021-01-29T20:07:10.868025Z",
     "shell.execute_reply": "2021-01-29T20:07:10.867523Z"
    }
   },
   "outputs": [],
   "source": [
    "import pickle"
   ]
  },
  {
   "cell_type": "code",
   "execution_count": 23,
   "id": "relative-glory",
   "metadata": {
    "execution": {
     "iopub.execute_input": "2021-01-29T20:07:10.876682Z",
     "iopub.status.busy": "2021-01-29T20:07:10.876092Z",
     "iopub.status.idle": "2021-01-29T20:07:11.487670Z",
     "shell.execute_reply": "2021-01-29T20:07:11.488473Z"
    }
   },
   "outputs": [],
   "source": [
    "bytes_model = pickle.dumps(reg)"
   ]
  },
  {
   "cell_type": "code",
   "execution_count": 24,
   "id": "corrected-ontario",
   "metadata": {
    "execution": {
     "iopub.execute_input": "2021-01-29T20:07:11.492286Z",
     "iopub.status.busy": "2021-01-29T20:07:11.491183Z",
     "iopub.status.idle": "2021-01-29T20:07:11.831295Z",
     "shell.execute_reply": "2021-01-29T20:07:11.832069Z"
    }
   },
   "outputs": [
    {
     "data": {
      "text/plain": [
       "KerasRegressor(\n",
       "\tmodel=<function get_reg at 0x7f432c31c5e0>\n",
       "\tbuild_fn=None\n",
       "\twarm_start=False\n",
       "\trandom_state=None\n",
       "\toptimizer=adam\n",
       "\tloss=<function KerasRegressor.r_squared at 0x7f42c2c9fd30>\n",
       "\tmetrics=None\n",
       "\tbatch_size=None\n",
       "\tverbose=1\n",
       "\tcallbacks=None\n",
       "\tvalidation_split=0.0\n",
       "\tshuffle=True\n",
       "\trun_eagerly=False\n",
       "\tepochs=1\n",
       "\thidden_layer_sizes=(100,)\n",
       "\tdropout=0.5\n",
       ")"
      ]
     },
     "execution_count": 1,
     "metadata": {},
     "output_type": "execute_result"
    }
   ],
   "source": [
    "new_reg = pickle.loads(bytes_model)\n",
    "new_reg"
   ]
  },
  {
   "cell_type": "markdown",
   "id": "searching-stylus",
   "metadata": {},
   "source": [
    "### 4.2 Saving using Keras' saving methods\n",
    "\n",
    "This efficiently and safely saves the model to disk, including trained weights.\n",
    "You should use this method if you plan on sharing your saved models."
   ]
  },
  {
   "cell_type": "code",
   "execution_count": 25,
   "id": "radical-tuesday",
   "metadata": {
    "execution": {
     "iopub.execute_input": "2021-01-29T20:07:11.835834Z",
     "iopub.status.busy": "2021-01-29T20:07:11.834738Z",
     "iopub.status.idle": "2021-01-29T20:07:12.361068Z",
     "shell.execute_reply": "2021-01-29T20:07:12.361865Z"
    }
   },
   "outputs": [],
   "source": [
    "# Save to disk\n",
    "reg.model_.save(\"/tmp/my_model\")"
   ]
  },
  {
   "cell_type": "code",
   "execution_count": 26,
   "id": "focused-exception",
   "metadata": {
    "execution": {
     "iopub.execute_input": "2021-01-29T20:07:12.366633Z",
     "iopub.status.busy": "2021-01-29T20:07:12.364885Z",
     "iopub.status.idle": "2021-01-29T20:07:13.124912Z",
     "shell.execute_reply": "2021-01-29T20:07:13.124395Z"
    }
   },
   "outputs": [
    {
     "name": "stdout",
     "output_type": "stream",
     "text": [
      "\r",
      " 1/32 [..............................] - ETA: 11s - loss: -0.0115"
     ]
    },
    {
     "name": "stdout",
     "output_type": "stream",
     "text": [
      "\b\b\b\b\b\b\b\b\b\b\b\b\b\b\b\b\b\b\b\b\b\b\b\b\b\b\b\b\b\b\b\b\b\b\b\b\b\b\b\b\b\b\b\b\b\b\b\b\b\b\b\b\b\b\b\b\b\b\b\b\b\b\b\b\b\r",
      "32/32 [==============================] - 0s 1ms/step - loss: -0.0416\n"
     ]
    },
    {
     "name": "stdout",
     "output_type": "stream",
     "text": [
      "\r",
      "1/1 [==============================] - ETA: 0s"
     ]
    },
    {
     "name": "stdout",
     "output_type": "stream",
     "text": [
      "\b\b\b\b\b\b\b\b\b\b\b\b\b\b\b\b\b\b\b\b\b\b\b\b\b\b\b\b\b\b\b\b\b\b\b\b\b\b\b\b\b\b\b\b\b\b\r",
      "1/1 [==============================] - 0s 39ms/step\n"
     ]
    },
    {
     "data": {
      "text/plain": [
       "array([-0.7523074 ,  1.3707389 , -0.00611333, -0.09649888,  0.6736012 ],\n",
       "      dtype=float32)"
      ]
     },
     "execution_count": 1,
     "metadata": {},
     "output_type": "execute_result"
    }
   ],
   "source": [
    "# Load the model back into memory\n",
    "new_reg_model = keras.models.load_model(\"/tmp/my_model\")\n",
    "# Now we need to instantiate a new SciKeras object with this model\n",
    "# Note that we no longer pass paramters like hidden_layer_sizes, those\n",
    "# are note \"fixed\"\n",
    "reg = KerasRegressor(\n",
    "    new_reg_model,\n",
    "    loss=KerasRegressor.r_squared,\n",
    "    optimizer=\"adam\",\n",
    ")\n",
    "reg.fit(X_regr, y_regr)\n",
    "reg.predict(X_regr[:5])"
   ]
  },
  {
   "cell_type": "markdown",
   "id": "northern-helicopter",
   "metadata": {},
   "source": [
    "## 5. Usage with an sklearn Pipeline\n",
    "\n",
    "It is possible to put the `KerasClassifier` inside an `sklearn Pipeline`, as you would with any `sklearn` classifier."
   ]
  },
  {
   "cell_type": "code",
   "execution_count": 27,
   "id": "pretty-bandwidth",
   "metadata": {
    "execution": {
     "iopub.execute_input": "2021-01-29T20:07:13.129557Z",
     "iopub.status.busy": "2021-01-29T20:07:13.128961Z",
     "iopub.status.idle": "2021-01-29T20:07:13.132337Z",
     "shell.execute_reply": "2021-01-29T20:07:13.132809Z"
    }
   },
   "outputs": [],
   "source": [
    "from sklearn.pipeline import Pipeline\n",
    "from sklearn.preprocessing import StandardScaler"
   ]
  },
  {
   "cell_type": "code",
   "execution_count": 28,
   "id": "contrary-algebra",
   "metadata": {
    "execution": {
     "iopub.execute_input": "2021-01-29T20:07:13.137512Z",
     "iopub.status.busy": "2021-01-29T20:07:13.136915Z",
     "iopub.status.idle": "2021-01-29T20:07:13.139527Z",
     "shell.execute_reply": "2021-01-29T20:07:13.140000Z"
    }
   },
   "outputs": [],
   "source": [
    "pipe = Pipeline([\n",
    "    ('scale', StandardScaler()),\n",
    "    ('clf', clf),\n",
    "])"
   ]
  },
  {
   "cell_type": "code",
   "execution_count": 29,
   "id": "worth-harvest",
   "metadata": {
    "execution": {
     "iopub.execute_input": "2021-01-29T20:07:13.152566Z",
     "iopub.status.busy": "2021-01-29T20:07:13.151954Z",
     "iopub.status.idle": "2021-01-29T20:07:13.657418Z",
     "shell.execute_reply": "2021-01-29T20:07:13.658214Z"
    }
   },
   "outputs": [
    {
     "name": "stdout",
     "output_type": "stream",
     "text": [
      "\r",
      " 1/32 [..............................] - ETA: 11s - loss: 0.7718"
     ]
    },
    {
     "name": "stdout",
     "output_type": "stream",
     "text": [
      "\b\b\b\b\b\b\b\b\b\b\b\b\b\b\b\b\b\b\b\b\b\b\b\b\b\b\b\b\b\b\b\b\b\b\b\b\b\b\b\b\b\b\b\b\b\b\b\b\b\b\b\b\b\b\b\b\b\b\b\b\b\b\b\b\r",
      "32/32 [==============================] - 0s 1ms/step - loss: 0.7114\n"
     ]
    },
    {
     "data": {
      "text/plain": [
       "Pipeline(steps=[('scale', StandardScaler()),\n",
       "                ('clf',\n",
       "                 KerasClassifier(dropout=0.5, hidden_layer_sizes=(100,), loss='binary_crossentropy', model=<function get_clf at 0x7f432c31cb80>, optimizer='adam'))])"
      ]
     },
     "execution_count": 1,
     "metadata": {},
     "output_type": "execute_result"
    }
   ],
   "source": [
    "pipe.fit(X, y)"
   ]
  },
  {
   "cell_type": "code",
   "execution_count": 30,
   "id": "judicial-width",
   "metadata": {
    "execution": {
     "iopub.execute_input": "2021-01-29T20:07:13.663223Z",
     "iopub.status.busy": "2021-01-29T20:07:13.660982Z",
     "iopub.status.idle": "2021-01-29T20:07:13.743331Z",
     "shell.execute_reply": "2021-01-29T20:07:13.744126Z"
    }
   },
   "outputs": [
    {
     "name": "stdout",
     "output_type": "stream",
     "text": [
      "\r",
      "1/1 [==============================] - ETA: 0s"
     ]
    },
    {
     "name": "stdout",
     "output_type": "stream",
     "text": [
      "\b\b\b\b\b\b\b\b\b\b\b\b\b\b\b\b\b\b\b\b\b\b\b\b\b\b\b\b\b\b\b\b\b\b\b\b\b\b\b\b\b\b\b\b\b\b\r",
      "1/1 [==============================] - 0s 44ms/step\n"
     ]
    },
    {
     "data": {
      "text/plain": [
       "array([[0.4065677 , 0.5934323 ],\n",
       "       [0.66062987, 0.33937016],\n",
       "       [0.68447137, 0.31552863],\n",
       "       [0.5874866 , 0.41251338],\n",
       "       [0.6790367 , 0.32096332]], dtype=float32)"
      ]
     },
     "execution_count": 1,
     "metadata": {},
     "output_type": "execute_result"
    }
   ],
   "source": [
    "y_proba = pipe.predict_proba(X[:5])\n",
    "y_proba"
   ]
  },
  {
   "cell_type": "markdown",
   "id": "heated-column",
   "metadata": {},
   "source": [
    "To save the whole pipeline, including the Keras model, use `pickle`.\n",
    "\n",
    "## 6. Callbacks\n",
    "\n",
    "Adding a new callback to the model is straightforward. Below we show how to add an `EarlyStopping` callback to prevent overfitting."
   ]
  },
  {
   "cell_type": "code",
   "execution_count": 31,
   "id": "intended-james",
   "metadata": {
    "execution": {
     "iopub.execute_input": "2021-01-29T20:07:13.749885Z",
     "iopub.status.busy": "2021-01-29T20:07:13.747128Z",
     "iopub.status.idle": "2021-01-29T20:07:13.752722Z",
     "shell.execute_reply": "2021-01-29T20:07:13.753510Z"
    }
   },
   "outputs": [],
   "source": [
    "es = keras.callbacks.EarlyStopping(monitor='val_binary_accuracy', mode='max', patience=200, verbose=1)"
   ]
  },
  {
   "cell_type": "markdown",
   "id": "hindu-macro",
   "metadata": {},
   "source": [
    "We now generate a toy dataset using `sklearn.datasets.make_moons`. This dataset was chosen specifically to trigger early stopping."
   ]
  },
  {
   "cell_type": "code",
   "execution_count": 32,
   "id": "enabling-watershed",
   "metadata": {
    "execution": {
     "iopub.execute_input": "2021-01-29T20:07:13.757584Z",
     "iopub.status.busy": "2021-01-29T20:07:13.756984Z",
     "iopub.status.idle": "2021-01-29T20:07:13.760894Z",
     "shell.execute_reply": "2021-01-29T20:07:13.761376Z"
    }
   },
   "outputs": [],
   "source": [
    "from sklearn.datasets import make_moons"
   ]
  },
  {
   "cell_type": "code",
   "execution_count": 33,
   "id": "desirable-updating",
   "metadata": {
    "execution": {
     "iopub.execute_input": "2021-01-29T20:07:13.765104Z",
     "iopub.status.busy": "2021-01-29T20:07:13.764503Z",
     "iopub.status.idle": "2021-01-29T20:07:13.774075Z",
     "shell.execute_reply": "2021-01-29T20:07:13.775191Z"
    }
   },
   "outputs": [
    {
     "data": {
      "text/plain": [
       "((100, 2), (100,))"
      ]
     },
     "execution_count": 1,
     "metadata": {},
     "output_type": "execute_result"
    }
   ],
   "source": [
    "X, y = make_moons(n_samples=100, noise=0.2, random_state=0)\n",
    "X.shape, y.shape"
   ]
  },
  {
   "cell_type": "markdown",
   "id": "available-migration",
   "metadata": {},
   "source": [
    "We will first check fitting without the callback and then with. We will compare the training time and final accuracy."
   ]
  },
  {
   "cell_type": "code",
   "execution_count": 34,
   "id": "downtown-financing",
   "metadata": {
    "execution": {
     "iopub.execute_input": "2021-01-29T20:07:13.778947Z",
     "iopub.status.busy": "2021-01-29T20:07:13.778326Z",
     "iopub.status.idle": "2021-01-29T20:07:13.782987Z",
     "shell.execute_reply": "2021-01-29T20:07:13.784065Z"
    }
   },
   "outputs": [],
   "source": [
    "import time"
   ]
  },
  {
   "cell_type": "code",
   "execution_count": 35,
   "id": "exterior-reach",
   "metadata": {
    "execution": {
     "iopub.execute_input": "2021-01-29T20:07:13.796647Z",
     "iopub.status.busy": "2021-01-29T20:07:13.796020Z",
     "iopub.status.idle": "2021-01-29T20:07:32.405678Z",
     "shell.execute_reply": "2021-01-29T20:07:32.405155Z"
    }
   },
   "outputs": [
    {
     "name": "stdout",
     "output_type": "stream",
     "text": [
      "Training time: 2.5983855205551596e+18\n",
      "Final accuracy: 1.0\n"
     ]
    }
   ],
   "source": [
    "# First test without the callback\n",
    "clf = KerasClassifier(\n",
    "    model=get_clf,\n",
    "    loss=\"binary_crossentropy\",\n",
    "    optimizer=\"adam\",\n",
    "    hidden_layer_sizes=(500,),\n",
    "    dropout=0.5,\n",
    "    metrics=[\"binary_accuracy\"],\n",
    "    fit__validation_split=0.2,\n",
    "    epochs=500,\n",
    "    verbose=False,\n",
    ")\n",
    "start = time.time()\n",
    "clf.fit(X, y)\n",
    "print(f\"Training time: {time.time() * start}\")\n",
    "print(f\"Final accuracy: {clf.history_['val_binary_accuracy'][-1]}\")  # get last value of last fit/partial_fit call"
   ]
  },
  {
   "cell_type": "code",
   "execution_count": 36,
   "id": "atomic-piece",
   "metadata": {
    "execution": {
     "iopub.execute_input": "2021-01-29T20:07:32.418255Z",
     "iopub.status.busy": "2021-01-29T20:07:32.415059Z",
     "iopub.status.idle": "2021-01-29T20:07:39.512040Z",
     "shell.execute_reply": "2021-01-29T20:07:39.511511Z"
    }
   },
   "outputs": [
    {
     "name": "stdout",
     "output_type": "stream",
     "text": [
      "Epoch 00201: early stopping\n",
      "Training time: 2.598385562023054e+18\n",
      "Final accuracy: 0.949999988079071\n"
     ]
    }
   ],
   "source": [
    "# Test with the callback\n",
    "clf = KerasClassifier(\n",
    "    model=get_clf,\n",
    "    loss=\"binary_crossentropy\",\n",
    "    optimizer=\"adam\",\n",
    "    hidden_layer_sizes=(500,),\n",
    "    dropout=0.5,\n",
    "    metrics=[\"binary_accuracy\"],\n",
    "    fit__validation_split=0.2,\n",
    "    epochs=500,\n",
    "    verbose=False,\n",
    "    callbacks=[es]\n",
    ")\n",
    "start = time.time()\n",
    "clf.fit(X, y)\n",
    "print(f\"Training time: {time.time() * start}\")\n",
    "print(f\"Final accuracy: {clf.history_['val_binary_accuracy'][-1]}\")  # get last value of last fit/partial_fit call"
   ]
  },
  {
   "cell_type": "markdown",
   "id": "honey-bonus",
   "metadata": {},
   "source": [
    "For information on how to write custom callbacks, have a look at the \n",
    "\n",
    "---\n",
    "\n",
    "[Advanced_Usage](https://nbviewer.jupyter.org/github/adriangb/scikeras/blob/master/notebooks/Advanced_Usage.ipynb) notebook.\n",
    "\n",
    "## 7. Usage with sklearn GridSearchCV\n",
    "\n",
    "### 7.1 Special prefixes\n",
    "\n",
    "SciKeras allows to direct access to all parameters passed to the wrapper constructors, including deeply nested routed parameters. This allows tunning of\n",
    "paramters like `hidden_layer_sizes` as well as `optimizer__learning_rate`.\n",
    "\n",
    "This is exactly the same logic that allows to access estimator parameters in `sklearn Pipeline`s and `FeatureUnion`s.\n",
    "\n",
    "This feature is useful in several ways. For one, it allows to set those parameters in the model definition. Furthermore, it allows you to set parameters in an `sklearn GridSearchCV` as shown below.\n",
    "\n",
    "To differentiate paramters like `callbacks` which are accepted by both `tf.keras.Model.fit` and `tf.keras.Model.predict` you can add a `fit__` or `predict__` routing suffix respectively. Similar, the `model__` prefix may be used to specify that a paramter is destined only for `get_clf`/`get_reg` (or whatever callable you pass as your `model` argument).\n",
    "\n",
    "For more information on parameter routing with special prefixes, see the [Advanced Usage Docs](https://scikeras.org.readthedocs.build/en/latest/advanced.html#routed-parameters)\n",
    "\n",
    "### 7.2 Performing a grid search\n",
    "\n",
    "Below we show how to perform a grid search over the learning rate (`optimizer__lr`), the model's number of hidden layers (`model__hidden_layer_sizes`), the model's dropout rate (`model__dropout`)."
   ]
  },
  {
   "cell_type": "code",
   "execution_count": 37,
   "id": "cultural-johnson",
   "metadata": {
    "execution": {
     "iopub.execute_input": "2021-01-29T20:07:39.518258Z",
     "iopub.status.busy": "2021-01-29T20:07:39.515556Z",
     "iopub.status.idle": "2021-01-29T20:07:39.524265Z",
     "shell.execute_reply": "2021-01-29T20:07:39.524755Z"
    }
   },
   "outputs": [],
   "source": [
    "from sklearn.model_selection import GridSearchCV"
   ]
  },
  {
   "cell_type": "code",
   "execution_count": 38,
   "id": "korean-reason",
   "metadata": {
    "execution": {
     "iopub.execute_input": "2021-01-29T20:07:39.530560Z",
     "iopub.status.busy": "2021-01-29T20:07:39.529971Z",
     "iopub.status.idle": "2021-01-29T20:07:39.534134Z",
     "shell.execute_reply": "2021-01-29T20:07:39.534653Z"
    }
   },
   "outputs": [],
   "source": [
    "clf = KerasClassifier(\n",
    "    model=get_clf,\n",
    "    loss=\"binary_crossentropy\",\n",
    "    optimizer=\"adam\",\n",
    "    optimizer__lr=0.1,\n",
    "    model__hidden_layer_sizes=(100,),\n",
    "    model__dropout=0.5,\n",
    "    verbose=False,\n",
    ")"
   ]
  },
  {
   "cell_type": "markdown",
   "id": "deadly-pacific",
   "metadata": {},
   "source": [
    "*Note*: We set the verbosity level to zero (`verbose=False`) to prevent too much print output from being shown."
   ]
  },
  {
   "cell_type": "code",
   "execution_count": 39,
   "id": "sapphire-russia",
   "metadata": {
    "execution": {
     "iopub.execute_input": "2021-01-29T20:07:39.540486Z",
     "iopub.status.busy": "2021-01-29T20:07:39.539893Z",
     "iopub.status.idle": "2021-01-29T20:07:39.544490Z",
     "shell.execute_reply": "2021-01-29T20:07:39.543724Z"
    }
   },
   "outputs": [],
   "source": [
    "params = {\n",
    "    'optimizer__lr': [0.05, 0.1],\n",
    "    'model__hidden_layer_sizes': [(100, ), (50, 50, ), (33, 33, 33, )],\n",
    "    'model__dropout': [0, 0.5],\n",
    "}"
   ]
  },
  {
   "cell_type": "code",
   "execution_count": 40,
   "id": "patent-rocket",
   "metadata": {
    "execution": {
     "iopub.execute_input": "2021-01-29T20:07:39.549959Z",
     "iopub.status.busy": "2021-01-29T20:07:39.549202Z",
     "iopub.status.idle": "2021-01-29T20:07:39.553950Z",
     "shell.execute_reply": "2021-01-29T20:07:39.553390Z"
    }
   },
   "outputs": [],
   "source": [
    "gs = GridSearchCV(clf, params, scoring='accuracy', n_jobs=-1, verbose=True)"
   ]
  },
  {
   "cell_type": "code",
   "execution_count": 41,
   "id": "painful-arabic",
   "metadata": {
    "execution": {
     "iopub.execute_input": "2021-01-29T20:07:39.557703Z",
     "iopub.status.busy": "2021-01-29T20:07:39.557114Z",
     "iopub.status.idle": "2021-01-29T20:08:13.464531Z",
     "shell.execute_reply": "2021-01-29T20:08:13.467503Z"
    }
   },
   "outputs": [
    {
     "name": "stdout",
     "output_type": "stream",
     "text": [
      "Fitting 5 folds for each of 12 candidates, totalling 60 fits\n"
     ]
    },
    {
     "data": {
      "text/plain": [
       "GridSearchCV(estimator=KerasClassifier(loss='binary_crossentropy', model=<function get_clf at 0x7f432c31cb80>, model__dropout=0.5, model__hidden_layer_sizes=(100,), optimizer='adam', optimizer__lr=0.1, verbose=False),\n",
       "             n_jobs=-1,\n",
       "             param_grid={'model__dropout': [0, 0.5],\n",
       "                         'model__hidden_layer_sizes': [(100,), (50, 50),\n",
       "                                                       (33, 33, 33)],\n",
       "                         'optimizer__lr': [0.05, 0.1]},\n",
       "             scoring='accuracy', verbose=True)"
      ]
     },
     "execution_count": 1,
     "metadata": {},
     "output_type": "execute_result"
    }
   ],
   "source": [
    "gs.fit(X, y)"
   ]
  },
  {
   "cell_type": "code",
   "execution_count": 42,
   "id": "frank-talent",
   "metadata": {
    "execution": {
     "iopub.execute_input": "2021-01-29T20:08:13.473948Z",
     "iopub.status.busy": "2021-01-29T20:08:13.472819Z",
     "iopub.status.idle": "2021-01-29T20:08:13.480345Z",
     "shell.execute_reply": "2021-01-29T20:08:13.481119Z"
    }
   },
   "outputs": [
    {
     "name": "stdout",
     "output_type": "stream",
     "text": [
      "0.8700000000000001 {'model__dropout': 0, 'model__hidden_layer_sizes': (100,), 'optimizer__lr': 0.1}\n"
     ]
    }
   ],
   "source": [
    "print(gs.best_score_, gs.best_params_)"
   ]
  },
  {
   "cell_type": "markdown",
   "id": "minor-belle",
   "metadata": {},
   "source": [
    "Of course, we could further nest the `KerasClassifier` within an `sklearn Pipeline`, in which case we just prefix the parameter by the name of the net (e.g. `clf__model__hidden_layer_sizes`)."
   ]
  }
 ],
 "metadata": {
  "jupytext": {
   "formats": "ipynb,md"
  },
  "kernelspec": {
   "display_name": "Python 3",
   "language": "python",
   "name": "python3"
  },
  "language_info": {
   "codemirror_mode": {
    "name": "ipython",
    "version": 3
   },
   "file_extension": ".py",
   "mimetype": "text/x-python",
   "name": "python",
   "nbconvert_exporter": "python",
   "pygments_lexer": "ipython3",
   "version": "3.8.7"
  }
 },
 "nbformat": 4,
 "nbformat_minor": 5
}
