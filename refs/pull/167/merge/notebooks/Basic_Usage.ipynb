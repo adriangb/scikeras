{
 "cells": [
  {
   "cell_type": "raw",
   "id": "standard-contractor",
   "metadata": {},
   "source": [
    "<a href=\"https://colab.research.google.com/github/adriangb/scikeras/blob/docs-deploy/refs/heads/master/notebooks/Basic_Usage.ipynb\"><img src=\"https://www.tensorflow.org/images/colab_logo_32px.png\">Run in Google Colab</a>"
   ]
  },
  {
   "cell_type": "markdown",
   "id": "danish-array",
   "metadata": {},
   "source": [
    "# Basic usage\n",
    "\n",
    "`SciKeras` is designed to maximize interoperability between `sklearn` and `Keras/TensorFlow`. The aim is to keep 99% of the flexibility of `Keras` while being able to leverage most features of `sklearn`. Below, we show the basic usage of `SciKeras` and how it can be combined with `sklearn`.\n",
    "\n",
    "This notebook shows you how to use the basic functionality of `SciKeras`.\n",
    "\n",
    "## Table of contents\n",
    "\n",
    "* [1. Setup](#1.-Setup)\n",
    "* [2. Training a classifier and making predictions](#2.-Training-a-classifier-and-making-predictions)\n",
    "  * [2.1 A toy binary classification task](#2.1-A-toy-binary-classification-task)\n",
    "  * [2.2 Definition of the Keras classification Model](#2.2-Definition-of-the-Keras-classification-Model)\n",
    "  * [2.3 Defining and training the neural net classifier](#2.3-Defining-and-training-the-neural-net-classifier)\n",
    "  * [2.4 Making predictions, classification](#2.4-Making-predictions-classification)\n",
    "* [3 Training a regressor](#3.-Training-a-regressor)\n",
    "  * [3.1 A toy regression task](#3.1-A-toy-regression-task)\n",
    "  * [3.2 Definition of the Keras regression Model](#3.2-Definition-of-the-Keras-regression-Model)\n",
    "  * [3.3 Defining and training the neural net regressor](#3.3-Defining-and-training-the-neural-net-regressor)\n",
    "  * [3.4 Making predictions, regression](#3.4-Making-predictions-regression)\n",
    "* [4. Saving and loading a model](#4.-Saving-and-loading-a-model)\n",
    "  * [4.1 Saving the whole model](#4.1-Saving-the-whole-model)\n",
    "  * [4.2 Saving using Keras' saving methods](#4.2-Saving-using-Keras-saving-methods)\n",
    "* [5. Usage with an sklearn Pipeline](#5.-Usage-with-an-sklearn-Pipeline)\n",
    "* [6. Callbacks](#6.-Callbacks)\n",
    "* [7. Usage with sklearn GridSearchCV](#7.-Usage-with-sklearn-GridSearchCV)\n",
    "  * [7.1 Special prefixes](#7.1-Special-prefixes)\n",
    "  * [7.2 Performing a grid search](#7.2-Performing-a-grid-search)\n",
    "\n",
    "## 1. Setup"
   ]
  },
  {
   "cell_type": "code",
   "execution_count": 1,
   "id": "charitable-onion",
   "metadata": {
    "execution": {
     "iopub.execute_input": "2021-01-27T17:53:08.618104Z",
     "iopub.status.busy": "2021-01-27T17:53:08.617480Z",
     "iopub.status.idle": "2021-01-27T17:53:13.268684Z",
     "shell.execute_reply": "2021-01-27T17:53:13.269155Z"
    }
   },
   "outputs": [],
   "source": [
    "try:\n",
    "    import scikeras\n",
    "except ImportError:\n",
    "    !python -m pip install scikeras"
   ]
  },
  {
   "cell_type": "markdown",
   "id": "approximate-mention",
   "metadata": {},
   "source": [
    "Silence TensorFlow logging to keep output succinct."
   ]
  },
  {
   "cell_type": "code",
   "execution_count": 2,
   "id": "acute-holocaust",
   "metadata": {
    "execution": {
     "iopub.execute_input": "2021-01-27T17:53:13.274675Z",
     "iopub.status.busy": "2021-01-27T17:53:13.274079Z",
     "iopub.status.idle": "2021-01-27T17:53:13.279978Z",
     "shell.execute_reply": "2021-01-27T17:53:13.279389Z"
    }
   },
   "outputs": [],
   "source": [
    "import warnings\n",
    "from tensorflow import get_logger\n",
    "get_logger().setLevel('ERROR')\n",
    "warnings.filterwarnings(\"ignore\", message=\"Setting the random state for TF\")"
   ]
  },
  {
   "cell_type": "code",
   "execution_count": 3,
   "id": "cardiac-special",
   "metadata": {
    "execution": {
     "iopub.execute_input": "2021-01-27T17:53:13.285701Z",
     "iopub.status.busy": "2021-01-27T17:53:13.285149Z",
     "iopub.status.idle": "2021-01-27T17:53:14.091398Z",
     "shell.execute_reply": "2021-01-27T17:53:14.091891Z"
    }
   },
   "outputs": [],
   "source": [
    "import numpy as np\n",
    "from scikeras.wrappers import KerasClassifier, KerasRegressor\n",
    "from tensorflow import keras"
   ]
  },
  {
   "cell_type": "markdown",
   "id": "common-portland",
   "metadata": {},
   "source": [
    "## 2. Training a classifier and making predictions\n",
    "\n",
    "### 2.1 A toy binary classification task\n",
    "\n",
    "We load a toy classification task from `sklearn`."
   ]
  },
  {
   "cell_type": "code",
   "execution_count": 4,
   "id": "ideal-timing",
   "metadata": {
    "execution": {
     "iopub.execute_input": "2021-01-27T17:53:14.095433Z",
     "iopub.status.busy": "2021-01-27T17:53:14.094337Z",
     "iopub.status.idle": "2021-01-27T17:53:14.126731Z",
     "shell.execute_reply": "2021-01-27T17:53:14.127537Z"
    }
   },
   "outputs": [],
   "source": [
    "import numpy as np\n",
    "from sklearn.datasets import make_classification"
   ]
  },
  {
   "cell_type": "code",
   "execution_count": 5,
   "id": "vocational-people",
   "metadata": {
    "execution": {
     "iopub.execute_input": "2021-01-27T17:53:14.131199Z",
     "iopub.status.busy": "2021-01-27T17:53:14.130171Z",
     "iopub.status.idle": "2021-01-27T17:53:14.137735Z",
     "shell.execute_reply": "2021-01-27T17:53:14.138452Z"
    }
   },
   "outputs": [],
   "source": [
    "X, y = make_classification(1000, 20, n_informative=10, random_state=0)"
   ]
  },
  {
   "cell_type": "code",
   "execution_count": 6,
   "id": "academic-consciousness",
   "metadata": {
    "execution": {
     "iopub.execute_input": "2021-01-27T17:53:14.141794Z",
     "iopub.status.busy": "2021-01-27T17:53:14.140766Z",
     "iopub.status.idle": "2021-01-27T17:53:14.152674Z",
     "shell.execute_reply": "2021-01-27T17:53:14.153390Z"
    }
   },
   "outputs": [
    {
     "data": {
      "text/plain": [
       "((1000, 20), (1000,), 0.5)"
      ]
     },
     "execution_count": 1,
     "metadata": {},
     "output_type": "execute_result"
    }
   ],
   "source": [
    "X.shape, y.shape, y.mean()"
   ]
  },
  {
   "cell_type": "markdown",
   "id": "contemporary-memphis",
   "metadata": {},
   "source": [
    "### 2.2 Definition of the Keras classification Model\n",
    "\n",
    "We define a vanilla neural network with.\n",
    "\n",
    "Because we are dealing with 2 classes, the output layer can be constructed in\n",
    "two different ways:\n",
    "\n",
    "1. Single unit with a `\"sigmoid\"` nonlinearity. The loss must be `\"binary_crossentropy\"`.\n",
    "2. Two units (one for each class) and a `\"softmax\"` nonlinearity. The loss must be `\"sparse_categorical_crossentropy\"`.\n",
    "\n",
    "In this example, we choose the first option, which is what you would usually\n",
    "do for binary classification. The second option is usually reserved for when\n",
    "you have >2 classes."
   ]
  },
  {
   "cell_type": "code",
   "execution_count": 7,
   "id": "other-queen",
   "metadata": {
    "execution": {
     "iopub.execute_input": "2021-01-27T17:53:14.156757Z",
     "iopub.status.busy": "2021-01-27T17:53:14.155717Z",
     "iopub.status.idle": "2021-01-27T17:53:14.159735Z",
     "shell.execute_reply": "2021-01-27T17:53:14.160444Z"
    }
   },
   "outputs": [],
   "source": [
    "from tensorflow import keras"
   ]
  },
  {
   "cell_type": "code",
   "execution_count": 8,
   "id": "informative-birmingham",
   "metadata": {
    "execution": {
     "iopub.execute_input": "2021-01-27T17:53:14.163783Z",
     "iopub.status.busy": "2021-01-27T17:53:14.162706Z",
     "iopub.status.idle": "2021-01-27T17:53:14.169614Z",
     "shell.execute_reply": "2021-01-27T17:53:14.170325Z"
    }
   },
   "outputs": [],
   "source": [
    "def get_clf(meta, hidden_layer_sizes, dropout):\n",
    "    n_features_in_ = meta[\"n_features_in_\"]\n",
    "    n_classes_ = meta[\"n_classes_\"]\n",
    "    model = keras.models.Sequential()\n",
    "    model.add(keras.layers.Input(shape=(n_features_in_,)))\n",
    "    for hidden_layer_size in hidden_layer_sizes:\n",
    "        model.add(keras.layers.Dense(hidden_layer_size, activation=\"relu\"))\n",
    "        model.add(keras.layers.Dropout(dropout))\n",
    "    model.add(keras.layers.Dense(1, activation=\"sigmoid\"))\n",
    "    return model"
   ]
  },
  {
   "cell_type": "markdown",
   "id": "committed-faith",
   "metadata": {},
   "source": [
    "### 2.3 Defining and training the neural net classifier\n",
    "\n",
    "We use `KerasClassifier` because we're dealing with a classifcation task. The first argument should be a callable returning a `Keras.Model`, in this case, `get_clf`. As additional arguments, we pass the number of loss function (required) and the optimizer, but the later is optional. We must also pass all of the arguments to `get_clf` as keyword arguments to `KerasClassifier` if they don't have a default value in `get_clf`. Note that if you do not pass an argument to `KerasClassifier`, it will not be avilable for hyperparameter tuning. Finally, we also pass `random_state=0` for reproducible results."
   ]
  },
  {
   "cell_type": "code",
   "execution_count": 9,
   "id": "empty-michigan",
   "metadata": {
    "execution": {
     "iopub.execute_input": "2021-01-27T17:53:14.173751Z",
     "iopub.status.busy": "2021-01-27T17:53:14.172560Z",
     "iopub.status.idle": "2021-01-27T17:53:14.176689Z",
     "shell.execute_reply": "2021-01-27T17:53:14.177396Z"
    }
   },
   "outputs": [],
   "source": [
    "from scikeras.wrappers import KerasClassifier"
   ]
  },
  {
   "cell_type": "code",
   "execution_count": 10,
   "id": "acute-association",
   "metadata": {
    "execution": {
     "iopub.execute_input": "2021-01-27T17:53:14.180941Z",
     "iopub.status.busy": "2021-01-27T17:53:14.179907Z",
     "iopub.status.idle": "2021-01-27T17:53:14.184336Z",
     "shell.execute_reply": "2021-01-27T17:53:14.185044Z"
    }
   },
   "outputs": [],
   "source": [
    "clf = KerasClassifier(\n",
    "    model=get_clf,\n",
    "    loss=\"binary_crossentropy\",\n",
    "    optimizer=\"adam\",\n",
    "    hidden_layer_sizes=(100,),\n",
    "    dropout=0.5,\n",
    ")"
   ]
  },
  {
   "cell_type": "markdown",
   "id": "appointed-pearl",
   "metadata": {},
   "source": [
    "As in `sklearn`, we call `fit` passing the input data `X` and the targets `y`."
   ]
  },
  {
   "cell_type": "code",
   "execution_count": 11,
   "id": "sustained-balloon",
   "metadata": {
    "execution": {
     "iopub.execute_input": "2021-01-27T17:53:14.188255Z",
     "iopub.status.busy": "2021-01-27T17:53:14.187217Z",
     "iopub.status.idle": "2021-01-27T17:53:14.749587Z",
     "shell.execute_reply": "2021-01-27T17:53:14.750322Z"
    }
   },
   "outputs": [
    {
     "name": "stdout",
     "output_type": "stream",
     "text": [
      "\r",
      " 1/32 [..............................] - ETA: 13s - loss: 0.7878"
     ]
    },
    {
     "name": "stdout",
     "output_type": "stream",
     "text": [
      "\b\b\b\b\b\b\b\b\b\b\b\b\b\b\b\b\b\b\b\b\b\b\b\b\b\b\b\b\b\b\b\b\b\b\b\b\b\b\b\b\b\b\b\b\b\b\b\b\b\b\b\b\b\b\b\b\b\b\b\b\b\b\b\b\r",
      "32/32 [==============================] - 0s 1ms/step - loss: 0.8357\n"
     ]
    },
    {
     "data": {
      "text/plain": [
       "KerasClassifier(\n",
       "\tmodel=<function get_clf at 0x7f08a473e5e0>\n",
       "\tbuild_fn=None\n",
       "\twarm_start=False\n",
       "\trandom_state=None\n",
       "\toptimizer=adam\n",
       "\tloss=binary_crossentropy\n",
       "\tmetrics=None\n",
       "\tbatch_size=None\n",
       "\tverbose=1\n",
       "\tcallbacks=None\n",
       "\tvalidation_split=0.0\n",
       "\tshuffle=True\n",
       "\trun_eagerly=False\n",
       "\tepochs=1\n",
       "\thidden_layer_sizes=(100,)\n",
       "\tdropout=0.5\n",
       "\tclass_weight=None\n",
       ")"
      ]
     },
     "execution_count": 1,
     "metadata": {},
     "output_type": "execute_result"
    }
   ],
   "source": [
    "clf.fit(X, y)"
   ]
  },
  {
   "cell_type": "markdown",
   "id": "guilty-jewel",
   "metadata": {},
   "source": [
    "Also, as in `sklearn`, you may call `predict` or `predict_proba` on the fitted model.\n",
    "\n",
    "### 2.4 Making predictions, classification"
   ]
  },
  {
   "cell_type": "code",
   "execution_count": 12,
   "id": "biblical-hardware",
   "metadata": {
    "execution": {
     "iopub.execute_input": "2021-01-27T17:53:14.754014Z",
     "iopub.status.busy": "2021-01-27T17:53:14.752966Z",
     "iopub.status.idle": "2021-01-27T17:53:14.850552Z",
     "shell.execute_reply": "2021-01-27T17:53:14.850074Z"
    }
   },
   "outputs": [
    {
     "name": "stdout",
     "output_type": "stream",
     "text": [
      "\r",
      "1/1 [==============================] - ETA: 0s"
     ]
    },
    {
     "name": "stdout",
     "output_type": "stream",
     "text": [
      "\b\b\b\b\b\b\b\b\b\b\b\b\b\b\b\b\b\b\b\b\b\b\b\b\b\b\b\b\b\b\b\b\b\b\b\b\b\b\b\b\b\b\b\b\b\b\r",
      "1/1 [==============================] - 0s 65ms/step\n"
     ]
    },
    {
     "data": {
      "text/plain": [
       "array([0, 0, 0, 0, 0])"
      ]
     },
     "execution_count": 1,
     "metadata": {},
     "output_type": "execute_result"
    }
   ],
   "source": [
    "y_pred = clf.predict(X[:5])\n",
    "y_pred"
   ]
  },
  {
   "cell_type": "code",
   "execution_count": 13,
   "id": "intended-height",
   "metadata": {
    "execution": {
     "iopub.execute_input": "2021-01-27T17:53:14.860698Z",
     "iopub.status.busy": "2021-01-27T17:53:14.860168Z",
     "iopub.status.idle": "2021-01-27T17:53:14.897379Z",
     "shell.execute_reply": "2021-01-27T17:53:14.896902Z"
    }
   },
   "outputs": [
    {
     "name": "stdout",
     "output_type": "stream",
     "text": [
      "\r",
      "1/1 [==============================] - ETA: 0s"
     ]
    },
    {
     "name": "stdout",
     "output_type": "stream",
     "text": [
      "\b\b\b\b\b\b\b\b\b\b\b\b\b\b\b\b\b\b\b\b\b\b\b\b\b\b\b\b\b\b\b\b\b\b\b\b\b\b\b\b\b\b\b\b\b\b\r",
      "1/1 [==============================] - 0s 14ms/step\n"
     ]
    },
    {
     "data": {
      "text/plain": [
       "array([[0.69316936, 0.3068306 ],\n",
       "       [0.88071626, 0.11928374],\n",
       "       [0.82095903, 0.17904097],\n",
       "       [0.7936815 , 0.2063185 ],\n",
       "       [0.7852171 , 0.2147829 ]], dtype=float32)"
      ]
     },
     "execution_count": 1,
     "metadata": {},
     "output_type": "execute_result"
    }
   ],
   "source": [
    "y_proba = clf.predict_proba(X[:5])\n",
    "y_proba"
   ]
  },
  {
   "cell_type": "markdown",
   "id": "favorite-suggestion",
   "metadata": {},
   "source": [
    "## 3 Training a regressor\n",
    "\n",
    "### 3.1 A toy regression task"
   ]
  },
  {
   "cell_type": "code",
   "execution_count": 14,
   "id": "mighty-technology",
   "metadata": {
    "execution": {
     "iopub.execute_input": "2021-01-27T17:53:14.901793Z",
     "iopub.status.busy": "2021-01-27T17:53:14.901259Z",
     "iopub.status.idle": "2021-01-27T17:53:14.904653Z",
     "shell.execute_reply": "2021-01-27T17:53:14.905071Z"
    }
   },
   "outputs": [],
   "source": [
    "from sklearn.datasets import make_regression"
   ]
  },
  {
   "cell_type": "code",
   "execution_count": 15,
   "id": "appreciated-pride",
   "metadata": {
    "execution": {
     "iopub.execute_input": "2021-01-27T17:53:14.910338Z",
     "iopub.status.busy": "2021-01-27T17:53:14.909814Z",
     "iopub.status.idle": "2021-01-27T17:53:14.917518Z",
     "shell.execute_reply": "2021-01-27T17:53:14.918255Z"
    }
   },
   "outputs": [],
   "source": [
    "X_regr, y_regr = make_regression(1000, 20, n_informative=10, random_state=0)"
   ]
  },
  {
   "cell_type": "code",
   "execution_count": 16,
   "id": "accurate-satin",
   "metadata": {
    "execution": {
     "iopub.execute_input": "2021-01-27T17:53:14.921581Z",
     "iopub.status.busy": "2021-01-27T17:53:14.920537Z",
     "iopub.status.idle": "2021-01-27T17:53:14.936301Z",
     "shell.execute_reply": "2021-01-27T17:53:14.935488Z"
    }
   },
   "outputs": [
    {
     "data": {
      "text/plain": [
       "((1000, 20), (1000,), -649.0148244404172, 615.4505181286091)"
      ]
     },
     "execution_count": 1,
     "metadata": {},
     "output_type": "execute_result"
    }
   ],
   "source": [
    "X_regr.shape, y_regr.shape, y_regr.min(), y_regr.max()"
   ]
  },
  {
   "cell_type": "markdown",
   "id": "valid-artist",
   "metadata": {},
   "source": [
    "### 3.2 Definition of the Keras regression Model\n",
    "\n",
    "Again, define a vanilla neural network. The main difference is that the output layer always has a single unit and does not apply any nonlinearity."
   ]
  },
  {
   "cell_type": "code",
   "execution_count": 17,
   "id": "primary-rugby",
   "metadata": {
    "execution": {
     "iopub.execute_input": "2021-01-27T17:53:14.942414Z",
     "iopub.status.busy": "2021-01-27T17:53:14.941788Z",
     "iopub.status.idle": "2021-01-27T17:53:14.948801Z",
     "shell.execute_reply": "2021-01-27T17:53:14.949526Z"
    }
   },
   "outputs": [],
   "source": [
    "def get_reg(meta, hidden_layer_sizes, dropout):\n",
    "    n_features_in_ = meta[\"n_features_in_\"]\n",
    "    model = keras.models.Sequential()\n",
    "    model.add(keras.layers.Input(shape=(n_features_in_,)))\n",
    "    for hidden_layer_size in hidden_layer_sizes:\n",
    "        model.add(keras.layers.Dense(hidden_layer_size, activation=\"relu\"))\n",
    "        model.add(keras.layers.Dropout(dropout))\n",
    "    model.add(keras.layers.Dense(1))\n",
    "    return model"
   ]
  },
  {
   "cell_type": "markdown",
   "id": "spoken-regression",
   "metadata": {},
   "source": [
    "### 3.3 Defining and training the neural net regressor\n",
    "\n",
    "Training a regressor is almost the same as training a classifier. Mainly, we use `KerasRegressor` instead of `KerasClassifier` (this is the same terminology as in `sklearn`). We also change the loss function to `KerasRegressor.r_squared`. SciKeras provides this loss function because most of the `sklearn` ecosystem expects `R^2` as the loss function, but Keras does not have a default implementation."
   ]
  },
  {
   "cell_type": "code",
   "execution_count": 18,
   "id": "occasional-fusion",
   "metadata": {
    "execution": {
     "iopub.execute_input": "2021-01-27T17:53:14.952898Z",
     "iopub.status.busy": "2021-01-27T17:53:14.951860Z",
     "iopub.status.idle": "2021-01-27T17:53:14.956034Z",
     "shell.execute_reply": "2021-01-27T17:53:14.956737Z"
    }
   },
   "outputs": [],
   "source": [
    "from scikeras.wrappers import KerasRegressor"
   ]
  },
  {
   "cell_type": "code",
   "execution_count": 19,
   "id": "filled-garbage",
   "metadata": {
    "execution": {
     "iopub.execute_input": "2021-01-27T17:53:14.961303Z",
     "iopub.status.busy": "2021-01-27T17:53:14.958928Z",
     "iopub.status.idle": "2021-01-27T17:53:14.968773Z",
     "shell.execute_reply": "2021-01-27T17:53:14.969483Z"
    }
   },
   "outputs": [],
   "source": [
    "reg = KerasRegressor(\n",
    "    model=get_reg,\n",
    "    loss=KerasRegressor.r_squared,\n",
    "    optimizer=\"adam\",\n",
    "    hidden_layer_sizes=(100,),\n",
    "    dropout=0.5,\n",
    ")"
   ]
  },
  {
   "cell_type": "code",
   "execution_count": 20,
   "id": "precise-europe",
   "metadata": {
    "execution": {
     "iopub.execute_input": "2021-01-27T17:53:14.975995Z",
     "iopub.status.busy": "2021-01-27T17:53:14.971619Z",
     "iopub.status.idle": "2021-01-27T17:53:15.480315Z",
     "shell.execute_reply": "2021-01-27T17:53:15.481049Z"
    }
   },
   "outputs": [
    {
     "name": "stdout",
     "output_type": "stream",
     "text": [
      "\r",
      " 1/32 [..............................] - ETA: 12s - loss: -0.0021"
     ]
    },
    {
     "name": "stdout",
     "output_type": "stream",
     "text": [
      "\b\b\b\b\b\b\b\b\b\b\b\b\b\b\b\b\b\b\b\b\b\b\b\b\b\b\b\b\b\b\b\b\b\b\b\b\b\b\b\b\b\b\b\b\b\b\b\b\b\b\b\b\b\b\b\b\b\b\b\b\b\b\b\b\b\r",
      "32/32 [==============================] - 0s 1ms/step - loss: -0.0552\n"
     ]
    },
    {
     "data": {
      "text/plain": [
       "KerasRegressor(\n",
       "\tmodel=<function get_reg at 0x7f08301c7670>\n",
       "\tbuild_fn=None\n",
       "\twarm_start=False\n",
       "\trandom_state=None\n",
       "\toptimizer=adam\n",
       "\tloss=<function KerasRegressor.r_squared at 0x7f083b8bfdc0>\n",
       "\tmetrics=None\n",
       "\tbatch_size=None\n",
       "\tverbose=1\n",
       "\tcallbacks=None\n",
       "\tvalidation_split=0.0\n",
       "\tshuffle=True\n",
       "\trun_eagerly=False\n",
       "\tepochs=1\n",
       "\thidden_layer_sizes=(100,)\n",
       "\tdropout=0.5\n",
       ")"
      ]
     },
     "execution_count": 1,
     "metadata": {},
     "output_type": "execute_result"
    }
   ],
   "source": [
    "reg.fit(X_regr, y_regr)"
   ]
  },
  {
   "cell_type": "markdown",
   "id": "dressed-output",
   "metadata": {},
   "source": [
    "### 3.4 Making predictions, regression\n",
    "\n",
    "You may call `predict` or `predict_proba` on the fitted model. For regressions, both methods return the same value."
   ]
  },
  {
   "cell_type": "code",
   "execution_count": 21,
   "id": "heavy-smoke",
   "metadata": {
    "execution": {
     "iopub.execute_input": "2021-01-27T17:53:15.484681Z",
     "iopub.status.busy": "2021-01-27T17:53:15.483634Z",
     "iopub.status.idle": "2021-01-27T17:53:15.547627Z",
     "shell.execute_reply": "2021-01-27T17:53:15.547123Z"
    }
   },
   "outputs": [
    {
     "name": "stdout",
     "output_type": "stream",
     "text": [
      "\r",
      "1/1 [==============================] - ETA: 0s"
     ]
    },
    {
     "name": "stdout",
     "output_type": "stream",
     "text": [
      "\b\b\b\b\b\b\b\b\b\b\b\b\b\b\b\b\b\b\b\b\b\b\b\b\b\b\b\b\b\b\b\b\b\b\b\b\b\b\b\b\b\b\b\b\b\b\r",
      "1/1 [==============================] - 0s 33ms/step\n"
     ]
    },
    {
     "data": {
      "text/plain": [
       "array([-0.65830749,  0.55484599, -1.39659655, -0.26546004, -1.10700428])"
      ]
     },
     "execution_count": 1,
     "metadata": {},
     "output_type": "execute_result"
    }
   ],
   "source": [
    "y_pred = reg.predict(X_regr[:5])\n",
    "y_pred"
   ]
  },
  {
   "cell_type": "markdown",
   "id": "incorporated-hampshire",
   "metadata": {},
   "source": [
    "## 4. Saving and loading a model\n",
    "\n",
    "Save and load either the whole model by using pickle, or use Keras' specialized save methods on the `KerasClassifier.model_` or `KerasRegressor.model_` attribute that is created after fitting. You will want to use Keras' model saving utilities if any of the following apply:\n",
    "\n",
    "1. You wish to save only the weights or only the training configuration of your model.\n",
    "2. You wish to share your model with collaborators. Pickle is a relatively unsafe protocol and it is not recommended to share or load pickle objects publically.\n",
    "3. You care about performance, especially if doing in-memory serialization.\n",
    "\n",
    "For more information, see Keras' [saving documentation](https://www.tensorflow.org/guide/keras/save_and_serialize).\n",
    "\n",
    "### 4.1 Saving the whole model"
   ]
  },
  {
   "cell_type": "code",
   "execution_count": 22,
   "id": "wicked-newport",
   "metadata": {
    "execution": {
     "iopub.execute_input": "2021-01-27T17:53:15.551596Z",
     "iopub.status.busy": "2021-01-27T17:53:15.551043Z",
     "iopub.status.idle": "2021-01-27T17:53:15.554130Z",
     "shell.execute_reply": "2021-01-27T17:53:15.554548Z"
    }
   },
   "outputs": [],
   "source": [
    "import pickle"
   ]
  },
  {
   "cell_type": "code",
   "execution_count": 23,
   "id": "devoted-liechtenstein",
   "metadata": {
    "execution": {
     "iopub.execute_input": "2021-01-27T17:53:15.564747Z",
     "iopub.status.busy": "2021-01-27T17:53:15.564209Z",
     "iopub.status.idle": "2021-01-27T17:53:16.051029Z",
     "shell.execute_reply": "2021-01-27T17:53:16.051875Z"
    }
   },
   "outputs": [],
   "source": [
    "bytes_model = pickle.dumps(reg)"
   ]
  },
  {
   "cell_type": "code",
   "execution_count": 24,
   "id": "southeast-fantasy",
   "metadata": {
    "execution": {
     "iopub.execute_input": "2021-01-27T17:53:16.055341Z",
     "iopub.status.busy": "2021-01-27T17:53:16.054289Z",
     "iopub.status.idle": "2021-01-27T17:53:16.352481Z",
     "shell.execute_reply": "2021-01-27T17:53:16.353233Z"
    }
   },
   "outputs": [
    {
     "data": {
      "text/plain": [
       "KerasRegressor(\n",
       "\tmodel=<function get_reg at 0x7f08301c7670>\n",
       "\tbuild_fn=None\n",
       "\twarm_start=False\n",
       "\trandom_state=None\n",
       "\toptimizer=adam\n",
       "\tloss=<function KerasRegressor.r_squared at 0x7f083b8bfdc0>\n",
       "\tmetrics=None\n",
       "\tbatch_size=None\n",
       "\tverbose=1\n",
       "\tcallbacks=None\n",
       "\tvalidation_split=0.0\n",
       "\tshuffle=True\n",
       "\trun_eagerly=False\n",
       "\tepochs=1\n",
       "\thidden_layer_sizes=(100,)\n",
       "\tdropout=0.5\n",
       ")"
      ]
     },
     "execution_count": 1,
     "metadata": {},
     "output_type": "execute_result"
    }
   ],
   "source": [
    "new_reg = pickle.loads(bytes_model)\n",
    "new_reg"
   ]
  },
  {
   "cell_type": "markdown",
   "id": "rising-intermediate",
   "metadata": {},
   "source": [
    "### 4.2 Saving using Keras' saving methods\n",
    "\n",
    "This efficiently and safely saves the model to disk, including trained weights.\n",
    "You should use this method if you plan on sharing your saved models."
   ]
  },
  {
   "cell_type": "code",
   "execution_count": 25,
   "id": "friendly-classics",
   "metadata": {
    "execution": {
     "iopub.execute_input": "2021-01-27T17:53:16.356794Z",
     "iopub.status.busy": "2021-01-27T17:53:16.355749Z",
     "iopub.status.idle": "2021-01-27T17:53:16.799789Z",
     "shell.execute_reply": "2021-01-27T17:53:16.800609Z"
    }
   },
   "outputs": [],
   "source": [
    "# Save to disk\n",
    "reg.model_.save(\"/tmp/my_model\")"
   ]
  },
  {
   "cell_type": "code",
   "execution_count": 26,
   "id": "corporate-kingston",
   "metadata": {
    "execution": {
     "iopub.execute_input": "2021-01-27T17:53:16.804918Z",
     "iopub.status.busy": "2021-01-27T17:53:16.803834Z",
     "iopub.status.idle": "2021-01-27T17:53:17.449383Z",
     "shell.execute_reply": "2021-01-27T17:53:17.448911Z"
    }
   },
   "outputs": [
    {
     "name": "stdout",
     "output_type": "stream",
     "text": [
      "\r",
      " 1/32 [..............................] - ETA: 9s - loss: -0.0824"
     ]
    },
    {
     "name": "stdout",
     "output_type": "stream",
     "text": [
      "\b\b\b\b\b\b\b\b\b\b\b\b\b\b\b\b\b\b\b\b\b\b\b\b\b\b\b\b\b\b\b\b\b\b\b\b\b\b\b\b\b\b\b\b\b\b\b\b\b\b\b\b\b\b\b\b\b\b\b\b\b\b\b\b\r",
      "32/32 [==============================] - 0s 1ms/step - loss: -0.0613\n"
     ]
    },
    {
     "name": "stdout",
     "output_type": "stream",
     "text": [
      "\r",
      "1/1 [==============================] - ETA: 0s"
     ]
    },
    {
     "name": "stdout",
     "output_type": "stream",
     "text": [
      "\b\b\b\b\b\b\b\b\b\b\b\b\b\b\b\b\b\b\b\b\b\b\b\b\b\b\b\b\b\b\b\b\b\b\b\b\b\b\b\b\b\b\b\b\b\b\r",
      "1/1 [==============================] - 0s 39ms/step\n"
     ]
    },
    {
     "data": {
      "text/plain": [
       "array([-0.99825644,  0.8487848 , -1.53173399, -0.45405445, -1.2410078 ])"
      ]
     },
     "execution_count": 1,
     "metadata": {},
     "output_type": "execute_result"
    }
   ],
   "source": [
    "# Load the model back into memory\n",
    "new_reg_model = keras.models.load_model(\"/tmp/my_model\")\n",
    "# Now we need to instantiate a new SciKeras object with this model\n",
    "# Note that we no longer pass paramters like hidden_layer_sizes, those\n",
    "# are note \"fixed\"\n",
    "reg = KerasRegressor(\n",
    "    new_reg_model,\n",
    "    loss=KerasRegressor.r_squared,\n",
    "    optimizer=\"adam\",\n",
    ")\n",
    "reg.fit(X_regr, y_regr)\n",
    "reg.predict(X_regr[:5])"
   ]
  },
  {
   "cell_type": "markdown",
   "id": "vital-criminal",
   "metadata": {},
   "source": [
    "## 5. Usage with an sklearn Pipeline\n",
    "\n",
    "It is possible to put the `KerasClassifier` inside an `sklearn Pipeline`, as you would with any `sklearn` classifier."
   ]
  },
  {
   "cell_type": "code",
   "execution_count": 27,
   "id": "clean-error",
   "metadata": {
    "execution": {
     "iopub.execute_input": "2021-01-27T17:53:17.453318Z",
     "iopub.status.busy": "2021-01-27T17:53:17.452786Z",
     "iopub.status.idle": "2021-01-27T17:53:17.455751Z",
     "shell.execute_reply": "2021-01-27T17:53:17.456196Z"
    }
   },
   "outputs": [],
   "source": [
    "from sklearn.pipeline import Pipeline\n",
    "from sklearn.preprocessing import StandardScaler"
   ]
  },
  {
   "cell_type": "code",
   "execution_count": 28,
   "id": "minus-helicopter",
   "metadata": {
    "execution": {
     "iopub.execute_input": "2021-01-27T17:53:17.460243Z",
     "iopub.status.busy": "2021-01-27T17:53:17.459708Z",
     "iopub.status.idle": "2021-01-27T17:53:17.465526Z",
     "shell.execute_reply": "2021-01-27T17:53:17.465975Z"
    }
   },
   "outputs": [],
   "source": [
    "pipe = Pipeline([\n",
    "    ('scale', StandardScaler()),\n",
    "    ('clf', clf),\n",
    "])"
   ]
  },
  {
   "cell_type": "code",
   "execution_count": 29,
   "id": "residential-coordinator",
   "metadata": {
    "execution": {
     "iopub.execute_input": "2021-01-27T17:53:17.476015Z",
     "iopub.status.busy": "2021-01-27T17:53:17.468218Z",
     "iopub.status.idle": "2021-01-27T17:53:17.907414Z",
     "shell.execute_reply": "2021-01-27T17:53:17.908134Z"
    }
   },
   "outputs": [
    {
     "name": "stdout",
     "output_type": "stream",
     "text": [
      "\r",
      " 1/32 [..............................] - ETA: 10s - loss: 0.7965"
     ]
    },
    {
     "name": "stdout",
     "output_type": "stream",
     "text": [
      "\b\b\b\b\b\b\b\b\b\b\b\b\b\b\b\b\b\b\b\b\b\b\b\b\b\b\b\b\b\b\b\b\b\b\b\b\b\b\b\b\b\b\b\b\b\b\b\b\b\b\b\b\b\b\b\b\b\b\b\b\b\b\b\b\r",
      "32/32 [==============================] - 0s 1ms/step - loss: 0.7287\n"
     ]
    },
    {
     "data": {
      "text/plain": [
       "Pipeline(steps=[('scale', StandardScaler()),\n",
       "                ('clf',\n",
       "                 KerasClassifier(dropout=0.5, hidden_layer_sizes=(100,), loss='binary_crossentropy', model=<function get_clf at 0x7f08a473e5e0>, optimizer='adam'))])"
      ]
     },
     "execution_count": 1,
     "metadata": {},
     "output_type": "execute_result"
    }
   ],
   "source": [
    "pipe.fit(X, y)"
   ]
  },
  {
   "cell_type": "code",
   "execution_count": 30,
   "id": "detailed-disclosure",
   "metadata": {
    "execution": {
     "iopub.execute_input": "2021-01-27T17:53:17.911566Z",
     "iopub.status.busy": "2021-01-27T17:53:17.910508Z",
     "iopub.status.idle": "2021-01-27T17:53:17.977569Z",
     "shell.execute_reply": "2021-01-27T17:53:17.977064Z"
    }
   },
   "outputs": [
    {
     "name": "stdout",
     "output_type": "stream",
     "text": [
      "\r",
      "1/1 [==============================] - ETA: 0s"
     ]
    },
    {
     "name": "stdout",
     "output_type": "stream",
     "text": [
      "\b\b\b\b\b\b\b\b\b\b\b\b\b\b\b\b\b\b\b\b\b\b\b\b\b\b\b\b\b\b\b\b\b\b\b\b\b\b\b\b\b\b\b\b\b\b\r",
      "1/1 [==============================] - 0s 35ms/step\n"
     ]
    },
    {
     "data": {
      "text/plain": [
       "array([[0.456935  , 0.543065  ],\n",
       "       [0.48772973, 0.5122703 ],\n",
       "       [0.6649644 , 0.33503562],\n",
       "       [0.6919929 , 0.30800712],\n",
       "       [0.5302286 , 0.4697714 ]], dtype=float32)"
      ]
     },
     "execution_count": 1,
     "metadata": {},
     "output_type": "execute_result"
    }
   ],
   "source": [
    "y_proba = pipe.predict_proba(X[:5])\n",
    "y_proba"
   ]
  },
  {
   "cell_type": "markdown",
   "id": "reduced-frank",
   "metadata": {},
   "source": [
    "To save the whole pipeline, including the Keras model, use `pickle`.\n",
    "\n",
    "## 6. Callbacks\n",
    "\n",
    "Adding a new callback to the model is straightforward. Below we show how to add an `EarlyStopping` callback to prevent overfitting."
   ]
  },
  {
   "cell_type": "code",
   "execution_count": 31,
   "id": "banned-export",
   "metadata": {
    "execution": {
     "iopub.execute_input": "2021-01-27T17:53:17.981944Z",
     "iopub.status.busy": "2021-01-27T17:53:17.981404Z",
     "iopub.status.idle": "2021-01-27T17:53:17.984479Z",
     "shell.execute_reply": "2021-01-27T17:53:17.984902Z"
    }
   },
   "outputs": [],
   "source": [
    "es = keras.callbacks.EarlyStopping(monitor='val_binary_accuracy', mode='max', patience=200, verbose=1)"
   ]
  },
  {
   "cell_type": "markdown",
   "id": "random-tooth",
   "metadata": {},
   "source": [
    "We now generate a toy dataset using `sklearn.datasets.make_moons`. This dataset was chosen specifically to trigger early stopping."
   ]
  },
  {
   "cell_type": "code",
   "execution_count": 32,
   "id": "demanding-malaysia",
   "metadata": {
    "execution": {
     "iopub.execute_input": "2021-01-27T17:53:17.988704Z",
     "iopub.status.busy": "2021-01-27T17:53:17.988170Z",
     "iopub.status.idle": "2021-01-27T17:53:17.991143Z",
     "shell.execute_reply": "2021-01-27T17:53:17.991594Z"
    }
   },
   "outputs": [],
   "source": [
    "from sklearn.datasets import make_moons"
   ]
  },
  {
   "cell_type": "code",
   "execution_count": 33,
   "id": "adjacent-sample",
   "metadata": {
    "execution": {
     "iopub.execute_input": "2021-01-27T17:53:17.996890Z",
     "iopub.status.busy": "2021-01-27T17:53:17.996356Z",
     "iopub.status.idle": "2021-01-27T17:53:18.000961Z",
     "shell.execute_reply": "2021-01-27T17:53:18.001382Z"
    }
   },
   "outputs": [
    {
     "data": {
      "text/plain": [
       "((100, 2), (100,))"
      ]
     },
     "execution_count": 1,
     "metadata": {},
     "output_type": "execute_result"
    }
   ],
   "source": [
    "X, y = make_moons(n_samples=100, noise=0.2, random_state=0)\n",
    "X.shape, y.shape"
   ]
  },
  {
   "cell_type": "markdown",
   "id": "narrow-liberal",
   "metadata": {},
   "source": [
    "We will first check fitting without the callback and then with. We will compare the training time and final accuracy."
   ]
  },
  {
   "cell_type": "code",
   "execution_count": 34,
   "id": "institutional-gravity",
   "metadata": {
    "execution": {
     "iopub.execute_input": "2021-01-27T17:53:18.005022Z",
     "iopub.status.busy": "2021-01-27T17:53:18.004485Z",
     "iopub.status.idle": "2021-01-27T17:53:18.007483Z",
     "shell.execute_reply": "2021-01-27T17:53:18.007906Z"
    }
   },
   "outputs": [],
   "source": [
    "import time"
   ]
  },
  {
   "cell_type": "code",
   "execution_count": 35,
   "id": "smoking-legend",
   "metadata": {
    "execution": {
     "iopub.execute_input": "2021-01-27T17:53:18.020652Z",
     "iopub.status.busy": "2021-01-27T17:53:18.020078Z",
     "iopub.status.idle": "2021-01-27T17:53:36.508605Z",
     "shell.execute_reply": "2021-01-27T17:53:36.508014Z"
    }
   },
   "outputs": [
    {
     "name": "stdout",
     "output_type": "stream",
     "text": [
      "Training time: 2.5978025562962765e+18\n",
      "Final accuracy: 1.0\n"
     ]
    }
   ],
   "source": [
    "# First test without the callback\n",
    "clf = KerasClassifier(\n",
    "    model=get_clf,\n",
    "    loss=\"binary_crossentropy\",\n",
    "    optimizer=\"adam\",\n",
    "    hidden_layer_sizes=(500,),\n",
    "    dropout=0.5,\n",
    "    metrics=[\"binary_accuracy\"],\n",
    "    fit__validation_split=0.2,\n",
    "    epochs=500,\n",
    "    verbose=False,\n",
    ")\n",
    "start = time.time()\n",
    "clf.fit(X, y)\n",
    "print(f\"Training time: {time.time() * start}\")\n",
    "print(f\"Final accuracy: {clf.history_['val_binary_accuracy'][-1]}\")  # get last value of last fit/partial_fit call"
   ]
  },
  {
   "cell_type": "code",
   "execution_count": 36,
   "id": "comprehensive-paper",
   "metadata": {
    "execution": {
     "iopub.execute_input": "2021-01-27T17:53:36.520101Z",
     "iopub.status.busy": "2021-01-27T17:53:36.516495Z",
     "iopub.status.idle": "2021-01-27T17:53:44.185023Z",
     "shell.execute_reply": "2021-01-27T17:53:44.185708Z"
    }
   },
   "outputs": [
    {
     "name": "stdout",
     "output_type": "stream",
     "text": [
      "Epoch 00216: early stopping\n",
      "Training time: 2.5978025984875116e+18\n",
      "Final accuracy: 1.0\n"
     ]
    }
   ],
   "source": [
    "# Test with the callback\n",
    "clf = KerasClassifier(\n",
    "    model=get_clf,\n",
    "    loss=\"binary_crossentropy\",\n",
    "    optimizer=\"adam\",\n",
    "    hidden_layer_sizes=(500,),\n",
    "    dropout=0.5,\n",
    "    metrics=[\"binary_accuracy\"],\n",
    "    fit__validation_split=0.2,\n",
    "    epochs=500,\n",
    "    verbose=False,\n",
    "    callbacks=[es]\n",
    ")\n",
    "start = time.time()\n",
    "clf.fit(X, y)\n",
    "print(f\"Training time: {time.time() * start}\")\n",
    "print(f\"Final accuracy: {clf.history_['val_binary_accuracy'][-1]}\")  # get last value of last fit/partial_fit call"
   ]
  },
  {
   "cell_type": "markdown",
   "id": "identical-swedish",
   "metadata": {},
   "source": [
    "For information on how to write custom callbacks, have a look at the \n",
    "\n",
    "---\n",
    "\n",
    "[Advanced_Usage](https://nbviewer.jupyter.org/github/adriangb/scikeras/blob/master/notebooks/Advanced_Usage.ipynb) notebook.\n",
    "\n",
    "## 7. Usage with sklearn GridSearchCV\n",
    "\n",
    "### 7.1 Special prefixes\n",
    "\n",
    "SciKeras allows to direct access to all parameters passed to the wrapper constructors, including deeply nested routed parameters. This allows tunning of\n",
    "paramters like `hidden_layer_sizes` as well as `optimizer__learning_rate`.\n",
    "\n",
    "This is exactly the same logic that allows to access estimator parameters in `sklearn Pipeline`s and `FeatureUnion`s.\n",
    "\n",
    "This feature is useful in several ways. For one, it allows to set those parameters in the model definition. Furthermore, it allows you to set parameters in an `sklearn GridSearchCV` as shown below.\n",
    "\n",
    "To differentiate paramters like `callbacks` which are accepted by both `tf.keras.Model.fit` and `tf.keras.Model.predict` you can add a `fit__` or `predict__` routing suffix respectively. Similar, the `model__` prefix may be used to specify that a paramter is destined only for `get_clf`/`get_reg` (or whatever callable you pass as your `model` argument).\n",
    "\n",
    "For more information on parameter routing with special prefixes, see the [Advanced Usage Docs](https://scikeras.org.readthedocs.build/en/latest/advanced.html#routed-parameters)\n",
    "\n",
    "### 7.2 Performing a grid search\n",
    "\n",
    "Below we show how to perform a grid search over the learning rate (`optimizer__lr`), the model's number of hidden layers (`model__hidden_layer_sizes`), the model's dropout rate (`model__dropout`)."
   ]
  },
  {
   "cell_type": "code",
   "execution_count": 37,
   "id": "returning-panel",
   "metadata": {
    "execution": {
     "iopub.execute_input": "2021-01-27T17:53:44.190001Z",
     "iopub.status.busy": "2021-01-27T17:53:44.189446Z",
     "iopub.status.idle": "2021-01-27T17:53:44.196774Z",
     "shell.execute_reply": "2021-01-27T17:53:44.196283Z"
    }
   },
   "outputs": [],
   "source": [
    "from sklearn.model_selection import GridSearchCV"
   ]
  },
  {
   "cell_type": "code",
   "execution_count": 38,
   "id": "editorial-gentleman",
   "metadata": {
    "execution": {
     "iopub.execute_input": "2021-01-27T17:53:44.200957Z",
     "iopub.status.busy": "2021-01-27T17:53:44.200401Z",
     "iopub.status.idle": "2021-01-27T17:53:44.203601Z",
     "shell.execute_reply": "2021-01-27T17:53:44.204055Z"
    }
   },
   "outputs": [],
   "source": [
    "clf = KerasClassifier(\n",
    "    model=get_clf,\n",
    "    loss=\"binary_crossentropy\",\n",
    "    optimizer=\"adam\",\n",
    "    optimizer__lr=0.1,\n",
    "    model__hidden_layer_sizes=(100,),\n",
    "    model__dropout=0.5,\n",
    "    verbose=False,\n",
    ")"
   ]
  },
  {
   "cell_type": "markdown",
   "id": "beginning-region",
   "metadata": {},
   "source": [
    "*Note*: We set the verbosity level to zero (`verbose=False`) to prevent too much print output from being shown."
   ]
  },
  {
   "cell_type": "code",
   "execution_count": 39,
   "id": "designing-activation",
   "metadata": {
    "execution": {
     "iopub.execute_input": "2021-01-27T17:53:44.208246Z",
     "iopub.status.busy": "2021-01-27T17:53:44.207698Z",
     "iopub.status.idle": "2021-01-27T17:53:44.210548Z",
     "shell.execute_reply": "2021-01-27T17:53:44.210999Z"
    }
   },
   "outputs": [],
   "source": [
    "params = {\n",
    "    'optimizer__lr': [0.05, 0.1],\n",
    "    'model__hidden_layer_sizes': [(100, ), (50, 50, ), (33, 33, 33, )],\n",
    "    'model__dropout': [0, 0.5],\n",
    "}"
   ]
  },
  {
   "cell_type": "code",
   "execution_count": 40,
   "id": "norman-stupid",
   "metadata": {
    "execution": {
     "iopub.execute_input": "2021-01-27T17:53:44.214164Z",
     "iopub.status.busy": "2021-01-27T17:53:44.213151Z",
     "iopub.status.idle": "2021-01-27T17:53:44.217541Z",
     "shell.execute_reply": "2021-01-27T17:53:44.218237Z"
    }
   },
   "outputs": [],
   "source": [
    "gs = GridSearchCV(clf, params, scoring='accuracy', n_jobs=-1, verbose=True)"
   ]
  },
  {
   "cell_type": "code",
   "execution_count": 41,
   "id": "original-plymouth",
   "metadata": {
    "execution": {
     "iopub.execute_input": "2021-01-27T17:53:44.221394Z",
     "iopub.status.busy": "2021-01-27T17:53:44.220391Z",
     "iopub.status.idle": "2021-01-27T17:54:14.161058Z",
     "shell.execute_reply": "2021-01-27T17:54:14.160575Z"
    }
   },
   "outputs": [
    {
     "name": "stdout",
     "output_type": "stream",
     "text": [
      "Fitting 5 folds for each of 12 candidates, totalling 60 fits\n"
     ]
    },
    {
     "data": {
      "text/plain": [
       "GridSearchCV(estimator=KerasClassifier(loss='binary_crossentropy', model=<function get_clf at 0x7f08a473e5e0>, model__dropout=0.5, model__hidden_layer_sizes=(100,), optimizer='adam', optimizer__lr=0.1, verbose=False),\n",
       "             n_jobs=-1,\n",
       "             param_grid={'model__dropout': [0, 0.5],\n",
       "                         'model__hidden_layer_sizes': [(100,), (50, 50),\n",
       "                                                       (33, 33, 33)],\n",
       "                         'optimizer__lr': [0.05, 0.1]},\n",
       "             scoring='accuracy', verbose=True)"
      ]
     },
     "execution_count": 1,
     "metadata": {},
     "output_type": "execute_result"
    }
   ],
   "source": [
    "gs.fit(X, y)"
   ]
  },
  {
   "cell_type": "code",
   "execution_count": 42,
   "id": "aware-italic",
   "metadata": {
    "execution": {
     "iopub.execute_input": "2021-01-27T17:54:14.167591Z",
     "iopub.status.busy": "2021-01-27T17:54:14.167025Z",
     "iopub.status.idle": "2021-01-27T17:54:14.172120Z",
     "shell.execute_reply": "2021-01-27T17:54:14.172625Z"
    }
   },
   "outputs": [
    {
     "name": "stdout",
     "output_type": "stream",
     "text": [
      "0.8800000000000001 {'model__dropout': 0, 'model__hidden_layer_sizes': (50, 50), 'optimizer__lr': 0.05}\n"
     ]
    }
   ],
   "source": [
    "print(gs.best_score_, gs.best_params_)"
   ]
  },
  {
   "cell_type": "markdown",
   "id": "clinical-installation",
   "metadata": {},
   "source": [
    "Of course, we could further nest the `KerasClassifier` within an `sklearn Pipeline`, in which case we just prefix the parameter by the name of the net (e.g. `clf__model__hidden_layer_sizes`)."
   ]
  }
 ],
 "metadata": {
  "jupytext": {
   "formats": "ipynb,md"
  },
  "kernelspec": {
   "display_name": "Python 3",
   "language": "python",
   "name": "python3"
  },
  "language_info": {
   "codemirror_mode": {
    "name": "ipython",
    "version": 3
   },
   "file_extension": ".py",
   "mimetype": "text/x-python",
   "name": "python",
   "nbconvert_exporter": "python",
   "pygments_lexer": "ipython3",
   "version": "3.8.7"
  }
 },
 "nbformat": 4,
 "nbformat_minor": 5
}
