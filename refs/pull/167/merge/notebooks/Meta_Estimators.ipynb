{
 "cells": [
  {
   "cell_type": "raw",
   "id": "mounted-original",
   "metadata": {},
   "source": [
    "<a href=\"https://colab.research.google.com/github/adriangb/scikeras/blob/docs-deploy/refs/heads/master/notebooks/Meta_Estimators.ipynb\"><img src=\"https://www.tensorflow.org/images/colab_logo_32px.png\">Run in Google Colab</a>"
   ]
  },
  {
   "cell_type": "markdown",
   "id": "incorporated-pattern",
   "metadata": {},
   "source": [
    "# Meta Estimators in SciKeras\n",
    "\n",
    "In this notebook, we implement sklearn ensemble and tree meta-estimators backed by a Keras MLP model.\n",
    "\n",
    "## Table of contents\n",
    "\n",
    "* [1. Setup](#1.-Setup)\n",
    "* [2. Defining the Keras Model](#2.-Defining-the-Keras-Model)\n",
    "  * [2.1 Building a boosting ensemble](#2.1-Building-a-boosting-ensemble)\n",
    "* [3. Testing with a toy dataset](#3.-Testing-with-a-toy-dataset)\n",
    "* [4. Bagging ensemble](#4.-Bagging-ensemble)\n",
    "\n",
    "## 1. Setup"
   ]
  },
  {
   "cell_type": "code",
   "execution_count": 1,
   "id": "constant-hazard",
   "metadata": {
    "execution": {
     "iopub.execute_input": "2021-01-28T21:35:43.978167Z",
     "iopub.status.busy": "2021-01-28T21:35:43.977485Z",
     "iopub.status.idle": "2021-01-28T21:35:46.285880Z",
     "shell.execute_reply": "2021-01-28T21:35:46.286400Z"
    }
   },
   "outputs": [],
   "source": [
    "try:\n",
    "    import scikeras\n",
    "except ImportError:\n",
    "    !python -m pip install scikeras"
   ]
  },
  {
   "cell_type": "markdown",
   "id": "isolated-culture",
   "metadata": {},
   "source": [
    "Silence TensorFlow logging to keep output succinct."
   ]
  },
  {
   "cell_type": "code",
   "execution_count": 2,
   "id": "weekly-teach",
   "metadata": {
    "execution": {
     "iopub.execute_input": "2021-01-28T21:35:46.292765Z",
     "iopub.status.busy": "2021-01-28T21:35:46.292200Z",
     "iopub.status.idle": "2021-01-28T21:35:46.305191Z",
     "shell.execute_reply": "2021-01-28T21:35:46.304659Z"
    }
   },
   "outputs": [],
   "source": [
    "import warnings\n",
    "from tensorflow import get_logger\n",
    "get_logger().setLevel('ERROR')\n",
    "warnings.filterwarnings(\"ignore\", message=\"Setting the random state for TF\")"
   ]
  },
  {
   "cell_type": "code",
   "execution_count": 3,
   "id": "anonymous-orleans",
   "metadata": {
    "execution": {
     "iopub.execute_input": "2021-01-28T21:35:46.309849Z",
     "iopub.status.busy": "2021-01-28T21:35:46.308765Z",
     "iopub.status.idle": "2021-01-28T21:35:47.016255Z",
     "shell.execute_reply": "2021-01-28T21:35:47.015734Z"
    }
   },
   "outputs": [],
   "source": [
    "import numpy as np\n",
    "from scikeras.wrappers import KerasClassifier, KerasRegressor\n",
    "from tensorflow import keras"
   ]
  },
  {
   "cell_type": "markdown",
   "id": "authorized-identity",
   "metadata": {},
   "source": [
    "## 2. Defining the Keras Model\n",
    "\n",
    "We borrow our MLPClassifier implementation from the [MLPClassifier notebook](https://colab.research.google.com/github/adriangb/scikeras/blob/master/notebooks/MLPClassifier_and_MLPRegressor.ipynb)."
   ]
  },
  {
   "cell_type": "code",
   "execution_count": 4,
   "id": "positive-worship",
   "metadata": {
    "execution": {
     "iopub.execute_input": "2021-01-28T21:35:47.025133Z",
     "iopub.status.busy": "2021-01-28T21:35:47.024476Z",
     "iopub.status.idle": "2021-01-28T21:35:47.040238Z",
     "shell.execute_reply": "2021-01-28T21:35:47.039389Z"
    }
   },
   "outputs": [],
   "source": [
    "from typing import Dict, Iterable, Any\n",
    "\n",
    "\n",
    "def get_clf_model(hidden_layer_sizes: Iterable[int], meta: Dict[str, Any], compile_kwargs: Dict[str, Any]):\n",
    "    model = keras.Sequential()\n",
    "    inp = keras.layers.Input(shape=(meta[\"n_features_in_\"]))\n",
    "    model.add(inp)\n",
    "    for hidden_layer_size in hidden_layer_sizes:\n",
    "        layer = keras.layers.Dense(hidden_layer_size, activation=\"relu\")\n",
    "        model.add(layer)\n",
    "    if meta[\"target_type_\"] == \"binary\":\n",
    "        n_output_units = 1\n",
    "        output_activation = \"sigmoid\"\n",
    "        loss = \"binary_crossentropy\"\n",
    "    elif meta[\"target_type_\"] == \"multiclass\":\n",
    "        n_output_units = meta[\"n_classes_\"]\n",
    "        output_activation = \"softmax\"\n",
    "        loss = \"sparse_categorical_crossentropy\"\n",
    "    else:\n",
    "        raise NotImplementedError(f\"Unsupported task type: {meta['target_type_']}\")\n",
    "    out = keras.layers.Dense(n_output_units, activation=output_activation)\n",
    "    model.add(out)\n",
    "    model.compile(loss=loss, optimizer=compile_kwargs[\"optimizer\"])\n",
    "    return model"
   ]
  },
  {
   "cell_type": "markdown",
   "id": "ranking-encoding",
   "metadata": {},
   "source": [
    "Next we wrap this Keras model with SciKeras"
   ]
  },
  {
   "cell_type": "code",
   "execution_count": 5,
   "id": "median-houston",
   "metadata": {
    "execution": {
     "iopub.execute_input": "2021-01-28T21:35:47.044972Z",
     "iopub.status.busy": "2021-01-28T21:35:47.044401Z",
     "iopub.status.idle": "2021-01-28T21:35:47.045944Z",
     "shell.execute_reply": "2021-01-28T21:35:47.046357Z"
    }
   },
   "outputs": [],
   "source": [
    "clf = KerasClassifier(\n",
    "    model=get_clf_model,\n",
    "    hidden_layer_sizes=(100, ),\n",
    "    optimizer=\"adam\",\n",
    "    optimizer__learning_rate=0.001,\n",
    "    verbose=0,\n",
    "    random_state=0,\n",
    ")"
   ]
  },
  {
   "cell_type": "markdown",
   "id": "exciting-entity",
   "metadata": {},
   "source": [
    "### 2.1 Building a boosting ensemble\n",
    "\n",
    "Because SciKeras estimators are fully compliant with the Scikit-Learn API, we can make use of Scikit-Learn's built in utilities. In particular example, we will use `AdaBoostClassifier` from `sklearn.ensemble.AdaBoostClassifier`, but the process is the same for most Scikit-Learn meta-estimators."
   ]
  },
  {
   "cell_type": "code",
   "execution_count": 6,
   "id": "light-calendar",
   "metadata": {
    "execution": {
     "iopub.execute_input": "2021-01-28T21:35:47.048963Z",
     "iopub.status.busy": "2021-01-28T21:35:47.048381Z",
     "iopub.status.idle": "2021-01-28T21:35:47.127948Z",
     "shell.execute_reply": "2021-01-28T21:35:47.128446Z"
    }
   },
   "outputs": [],
   "source": [
    "from sklearn.ensemble import AdaBoostClassifier"
   ]
  },
  {
   "cell_type": "code",
   "execution_count": 7,
   "id": "faced-influence",
   "metadata": {
    "execution": {
     "iopub.execute_input": "2021-01-28T21:35:47.131598Z",
     "iopub.status.busy": "2021-01-28T21:35:47.130867Z",
     "iopub.status.idle": "2021-01-28T21:35:47.138343Z",
     "shell.execute_reply": "2021-01-28T21:35:47.138970Z"
    }
   },
   "outputs": [],
   "source": [
    "adaboost = AdaBoostClassifier(base_estimator=clf, random_state=0)"
   ]
  },
  {
   "cell_type": "markdown",
   "id": "wound-requirement",
   "metadata": {},
   "source": [
    "## 3. Testing with a toy dataset\n",
    "\n",
    "Before continouing, we will run a small test to make sure we get somewhat reasonable results."
   ]
  },
  {
   "cell_type": "code",
   "execution_count": 8,
   "id": "respected-accused",
   "metadata": {
    "execution": {
     "iopub.execute_input": "2021-01-28T21:35:47.145468Z",
     "iopub.status.busy": "2021-01-28T21:35:47.144889Z",
     "iopub.status.idle": "2021-01-28T21:35:47.196764Z",
     "shell.execute_reply": "2021-01-28T21:35:47.197292Z"
    }
   },
   "outputs": [],
   "source": [
    "from sklearn.datasets import make_moons\n",
    "from sklearn.model_selection import cross_val_score"
   ]
  },
  {
   "cell_type": "code",
   "execution_count": 9,
   "id": "funky-function",
   "metadata": {
    "execution": {
     "iopub.execute_input": "2021-01-28T21:35:47.204121Z",
     "iopub.status.busy": "2021-01-28T21:35:47.203063Z",
     "iopub.status.idle": "2021-01-28T21:38:13.411501Z",
     "shell.execute_reply": "2021-01-28T21:38:13.410942Z"
    }
   },
   "outputs": [
    {
     "name": "stdout",
     "output_type": "stream",
     "text": [
      "Single score: 0.29\n",
      "AdaBoost score: 0.81\n"
     ]
    }
   ],
   "source": [
    "X, y = make_moons()\n",
    "\n",
    "single_score = np.mean(cross_val_score(clf, X, y))\n",
    "\n",
    "adaboost_score = np.mean(cross_val_score(adaboost, X, y))\n",
    "\n",
    "print(f\"Single score: {single_score:.2f}\")\n",
    "print(f\"AdaBoost score: {adaboost_score:.2f}\")"
   ]
  },
  {
   "cell_type": "markdown",
   "id": "thrown-poison",
   "metadata": {},
   "source": [
    "We see that the score for the AdaBoost classifier is slightly higher than that of an individual MLPRegressor instance. We can explore the individual classifiers, and see that each one is composed of a Keras Model with it's own individual weights."
   ]
  },
  {
   "cell_type": "code",
   "execution_count": 10,
   "id": "continuous-antarctica",
   "metadata": {
    "execution": {
     "iopub.execute_input": "2021-01-28T21:38:13.433666Z",
     "iopub.status.busy": "2021-01-28T21:38:13.427799Z",
     "iopub.status.idle": "2021-01-28T21:38:38.114404Z",
     "shell.execute_reply": "2021-01-28T21:38:38.113910Z"
    }
   },
   "outputs": [
    {
     "data": {
      "text/plain": [
       "AdaBoostClassifier(base_estimator=KerasClassifier(hidden_layer_sizes=(100,), model=<function get_clf_model at 0x7f08996a1b80>, optimizer='adam', optimizer__learning_rate=0.001, random_state=0, verbose=0),\n",
       "                   random_state=0)"
      ]
     },
     "execution_count": 1,
     "metadata": {},
     "output_type": "execute_result"
    }
   ],
   "source": [
    "adaboost.fit(X, y)  # we need to fit outside of cross_val_score before accessing the weights"
   ]
  },
  {
   "cell_type": "code",
   "execution_count": 11,
   "id": "legislative-manufacturer",
   "metadata": {
    "execution": {
     "iopub.execute_input": "2021-01-28T21:38:38.119687Z",
     "iopub.status.busy": "2021-01-28T21:38:38.118813Z",
     "iopub.status.idle": "2021-01-28T21:38:38.123547Z",
     "shell.execute_reply": "2021-01-28T21:38:38.122941Z"
    }
   },
   "outputs": [
    {
     "name": "stdout",
     "output_type": "stream",
     "text": [
      "[-0.12581263  0.08251546 -0.08245333  0.17530921 -0.15015146]\n",
      "[ 0.0691107  -0.21119635  0.19648369 -0.0722421  -0.00946326]\n"
     ]
    }
   ],
   "source": [
    "print(adaboost.estimators_[0].model_.get_weights()[0][0, :5])  # first sub-estimator\n",
    "print(adaboost.estimators_[1].model_.get_weights()[0][0, :5])  # second sub-estimator"
   ]
  },
  {
   "cell_type": "markdown",
   "id": "competitive-candidate",
   "metadata": {},
   "source": [
    "## 4. Bagging ensemble\n",
    "\n",
    "For comparison, we run the same test with an ensemble built using `sklearn.ensemble.BaggingClassifier`."
   ]
  },
  {
   "cell_type": "code",
   "execution_count": 12,
   "id": "miniature-horizon",
   "metadata": {
    "execution": {
     "iopub.execute_input": "2021-01-28T21:38:38.129950Z",
     "iopub.status.busy": "2021-01-28T21:38:38.129410Z",
     "iopub.status.idle": "2021-01-28T21:38:38.132563Z",
     "shell.execute_reply": "2021-01-28T21:38:38.133018Z"
    }
   },
   "outputs": [],
   "source": [
    "from sklearn.ensemble import BaggingClassifier"
   ]
  },
  {
   "cell_type": "code",
   "execution_count": 13,
   "id": "athletic-penny",
   "metadata": {
    "execution": {
     "iopub.execute_input": "2021-01-28T21:38:38.138251Z",
     "iopub.status.busy": "2021-01-28T21:38:38.137387Z",
     "iopub.status.idle": "2021-01-28T21:39:31.460181Z",
     "shell.execute_reply": "2021-01-28T21:39:31.459426Z"
    }
   },
   "outputs": [
    {
     "name": "stdout",
     "output_type": "stream",
     "text": [
      "Bagging score: 0.63\n"
     ]
    }
   ],
   "source": [
    "bagging = BaggingClassifier(base_estimator=clf, random_state=0, n_jobs=-1)\n",
    "\n",
    "bagging_score = np.mean(cross_val_score(bagging, X, y))\n",
    "\n",
    "print(f\"Bagging score: {bagging_score:.2f}\")"
   ]
  }
 ],
 "metadata": {
  "jupytext": {
   "formats": "ipynb,md"
  },
  "kernelspec": {
   "display_name": "Python 3",
   "language": "python",
   "name": "python3"
  },
  "language_info": {
   "codemirror_mode": {
    "name": "ipython",
    "version": 3
   },
   "file_extension": ".py",
   "mimetype": "text/x-python",
   "name": "python",
   "nbconvert_exporter": "python",
   "pygments_lexer": "ipython3",
   "version": "3.8.7"
  }
 },
 "nbformat": 4,
 "nbformat_minor": 5
}
