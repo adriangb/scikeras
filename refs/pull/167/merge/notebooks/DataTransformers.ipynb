{
 "cells": [
  {
   "cell_type": "raw",
   "id": "efficient-banana",
   "metadata": {},
   "source": [
    "<a href=\"https://colab.research.google.com/github/adriangb/scikeras/blob/docs-deploy/refs/heads/master/notebooks/DataTransformers.ipynb\"><img src=\"https://www.tensorflow.org/images/colab_logo_32px.png\">Run in Google Colab</a>"
   ]
  },
  {
   "cell_type": "markdown",
   "id": "tired-shannon",
   "metadata": {},
   "source": [
    "# Data Transformers\n",
    "\n",
    "Keras support many types of input and output data formats, including:\n",
    "\n",
    "* Multiple inputs\n",
    "* Multiple outputs\n",
    "* Higher-dimensional tensors\n",
    "\n",
    "This notebook walks through an example of the different data transformations and how SciKeras bridges Keras and Scikit-learn.\n",
    "It may be helpful to have a general understanding of the dataflow before tackling these examples, which is available in\n",
    "the [data transformer docs](https://www.adriangb.com/scikeras/refs/heads/master/advanced.html#data-transformers).\n",
    "\n",
    "## Table of contents\n",
    "\n",
    "* [1. Setup](#1.-Setup)\n",
    "* [2. Multiple outputs](#2.-Multiple-outputs)\n",
    "  * [2.1 Define Keras Model](#2.1-Define-Keras-Model)\n",
    "  * [2.2 Define output data transformer](#2.2-Define-output-data-transformer)\n",
    "  * [2.3 Test classifier](#2.3-Test-classifier)\n",
    "* [3. Multiple inputs](#3-multiple-inputs)\n",
    "  * [3.1 Define Keras Model](#3.1-Define-Keras-Model)\n",
    "  * [3.2 Define data transformer](#3.2-Define-data-transformer)\n",
    "  * [3.3 Test regressor](#3.3-Test-regressor)\n",
    "* [4. Multidimensional inputs with MNIST dataset](#4.-Multidimensional-inputs-with-MNIST-dataset)\n",
    "  * [4.1 Define Keras Model](#4.1-Define-Keras-Model)\n",
    "  * [4.2 Test](#4.2-Test)\n",
    "* [5. Ragged datasets with tf.data.Dataset](#5.-Ragged-datasets-with-tf.data.Dataset)\n",
    "* [6. Multi-output class_weight](#6.-Multi-output-class_weight)\n",
    "\n",
    "## 1. Setup"
   ]
  },
  {
   "cell_type": "code",
   "execution_count": 1,
   "id": "cubic-respect",
   "metadata": {
    "execution": {
     "iopub.execute_input": "2021-01-31T08:44:18.953567Z",
     "iopub.status.busy": "2021-01-31T08:44:18.953036Z",
     "iopub.status.idle": "2021-01-31T08:44:22.904787Z",
     "shell.execute_reply": "2021-01-31T08:44:22.905506Z"
    }
   },
   "outputs": [],
   "source": [
    "try:\n",
    "    import scikeras\n",
    "except ImportError:\n",
    "    !python -m pip install scikeras"
   ]
  },
  {
   "cell_type": "markdown",
   "id": "imposed-impossible",
   "metadata": {},
   "source": [
    "Silence TensorFlow warnings to keep output succint."
   ]
  },
  {
   "cell_type": "code",
   "execution_count": 2,
   "id": "lesser-elder",
   "metadata": {
    "execution": {
     "iopub.execute_input": "2021-01-31T08:44:22.908816Z",
     "iopub.status.busy": "2021-01-31T08:44:22.907896Z",
     "iopub.status.idle": "2021-01-31T08:44:22.912219Z",
     "shell.execute_reply": "2021-01-31T08:44:22.912839Z"
    }
   },
   "outputs": [],
   "source": [
    "import warnings\n",
    "from tensorflow import get_logger\n",
    "get_logger().setLevel('ERROR')\n",
    "warnings.filterwarnings(\"ignore\", message=\"Setting the random state for TF\")"
   ]
  },
  {
   "cell_type": "code",
   "execution_count": 3,
   "id": "harmful-cotton",
   "metadata": {
    "execution": {
     "iopub.execute_input": "2021-01-31T08:44:22.915758Z",
     "iopub.status.busy": "2021-01-31T08:44:22.914823Z",
     "iopub.status.idle": "2021-01-31T08:44:24.244216Z",
     "shell.execute_reply": "2021-01-31T08:44:24.244934Z"
    }
   },
   "outputs": [],
   "source": [
    "import numpy as np\n",
    "from scikeras.wrappers import KerasClassifier, KerasRegressor\n",
    "from tensorflow import keras"
   ]
  },
  {
   "cell_type": "markdown",
   "id": "intensive-belgium",
   "metadata": {},
   "source": [
    "## 2. Multiple outputs\n",
    "\n",
    "Keras makes it straight forward to define models with multiple outputs, that is a Model with multiple sets of fully-connected heads at the end of the network. This functionality is only available in the Functional Model and subclassed Model definition modes, and is not available when using Sequential.\n",
    "\n",
    "In practice, the main thing about Keras models with multiple outputs that you need to know as a SciKeras user is that Keras expects `X` or `y` to be a list of arrays/tensors, with one array/tensor for each input/output.\n",
    "\n",
    "Note that \"multiple outputs\" in Keras has a slightly different meaning than \"multiple outputs\" in sklearn. Many tasks that would be considered \"multiple output\" tasks in sklearn can be mapped to a single \"output\" in Keras with multiple units. This notebook specifically focuses on the cases that require multiple distinct Keras outputs.\n",
    "\n",
    "### 2.1 Define Keras Model\n",
    "\n",
    "Here we define a simple perceptron that has two outputs, corresponding to one binary classification taks and one multiclass classification task. For example, one output might be \"image has car\" (binary) and the other might be \"color of car in image\" (multiclass)."
   ]
  },
  {
   "cell_type": "code",
   "execution_count": 4,
   "id": "green-generation",
   "metadata": {
    "execution": {
     "iopub.execute_input": "2021-01-31T08:44:24.248425Z",
     "iopub.status.busy": "2021-01-31T08:44:24.247318Z",
     "iopub.status.idle": "2021-01-31T08:44:24.253648Z",
     "shell.execute_reply": "2021-01-31T08:44:24.254264Z"
    }
   },
   "outputs": [],
   "source": [
    "def get_clf_model(meta):\n",
    "    inp = keras.layers.Input(shape=(meta[\"n_features_in_\"]))\n",
    "    x1 = keras.layers.Dense(100, activation=\"relu\")(inp)\n",
    "    out_bin = keras.layers.Dense(1, activation=\"sigmoid\")(x1)\n",
    "    out_cat = keras.layers.Dense(meta[\"n_classes_\"][1], activation=\"softmax\")(x1)\n",
    "    model = keras.Model(inputs=inp, outputs=[out_bin, out_cat])\n",
    "    model.compile(\n",
    "        loss=[\"binary_crossentropy\", \"sparse_categorical_crossentropy\"]\n",
    "    )\n",
    "    return model"
   ]
  },
  {
   "cell_type": "markdown",
   "id": "selected-activation",
   "metadata": {},
   "source": [
    "Let's test that this model works with the kind of inputs and outputs we expect."
   ]
  },
  {
   "cell_type": "code",
   "execution_count": 5,
   "id": "continuing-boundary",
   "metadata": {
    "execution": {
     "iopub.execute_input": "2021-01-31T08:44:24.257266Z",
     "iopub.status.busy": "2021-01-31T08:44:24.256357Z",
     "iopub.status.idle": "2021-01-31T08:44:25.048603Z",
     "shell.execute_reply": "2021-01-31T08:44:25.049322Z"
    }
   },
   "outputs": [],
   "source": [
    "X = np.random.random(size=(100, 10))\n",
    "y_bin = np.random.randint(0, 2, size=(100,))\n",
    "y_cat = np.random.randint(0, 5, size=(100, ))\n",
    "y = [y_bin, y_cat]\n",
    "\n",
    "# build mock meta\n",
    "meta = {\n",
    "    \"n_features_in_\": 10,\n",
    "    \"n_classes_\": [2, 5]  # note that we made this a list, one for each output\n",
    "}\n",
    "\n",
    "model = get_clf_model(meta=meta)\n",
    "\n",
    "model.fit(X, y, verbose=0)\n",
    "y_pred = model.predict(X)"
   ]
  },
  {
   "cell_type": "code",
   "execution_count": 6,
   "id": "above-employer",
   "metadata": {
    "execution": {
     "iopub.execute_input": "2021-01-31T08:44:25.052760Z",
     "iopub.status.busy": "2021-01-31T08:44:25.051810Z",
     "iopub.status.idle": "2021-01-31T08:44:25.058423Z",
     "shell.execute_reply": "2021-01-31T08:44:25.059078Z"
    }
   },
   "outputs": [
    {
     "name": "stdout",
     "output_type": "stream",
     "text": [
      "[[0.46035847]\n",
      " [0.47143883]]\n"
     ]
    }
   ],
   "source": [
    "print(y_pred[0][:2, :])"
   ]
  },
  {
   "cell_type": "code",
   "execution_count": 7,
   "id": "instructional-breach",
   "metadata": {
    "execution": {
     "iopub.execute_input": "2021-01-31T08:44:25.062070Z",
     "iopub.status.busy": "2021-01-31T08:44:25.061161Z",
     "iopub.status.idle": "2021-01-31T08:44:25.067040Z",
     "shell.execute_reply": "2021-01-31T08:44:25.067670Z"
    }
   },
   "outputs": [
    {
     "name": "stdout",
     "output_type": "stream",
     "text": [
      "[[0.23288818 0.21794158 0.17313302 0.20644698 0.16959032]\n",
      " [0.2117041  0.19962578 0.21535489 0.1963139  0.17700136]]\n"
     ]
    }
   ],
   "source": [
    "print(y_pred[1][:2, :])"
   ]
  },
  {
   "cell_type": "markdown",
   "id": "olympic-guatemala",
   "metadata": {},
   "source": [
    "As you can see, our `predict` output is also a list of arrays, except it contains probabilities instead of the class predictions.\n",
    "\n",
    "Our data transormer's job will be to convert from a single numpy array (which is what the sklearn ecosystem works with) to the list of arrays and then back. Additionally, for classifiers, we will want to be able to convert probabilities to class predictions.\n",
    "\n",
    "We will structure our data on the sklearn side by column-stacking our list\n",
    "of arrays. This works well in this case since we have the same number of datapoints in each array.\n",
    "\n",
    "### 2.2 Define output data transformer\n",
    "\n",
    "Let's go ahead and protoype this data transformer:"
   ]
  },
  {
   "cell_type": "code",
   "execution_count": 8,
   "id": "wanted-language",
   "metadata": {
    "execution": {
     "iopub.execute_input": "2021-01-31T08:44:25.071828Z",
     "iopub.status.busy": "2021-01-31T08:44:25.069968Z",
     "iopub.status.idle": "2021-01-31T08:44:25.081764Z",
     "shell.execute_reply": "2021-01-31T08:44:25.082428Z"
    }
   },
   "outputs": [],
   "source": [
    "from typing import List\n",
    "\n",
    "from sklearn.base import BaseEstimator, TransformerMixin\n",
    "from sklearn.preprocessing import LabelEncoder\n",
    "\n",
    "\n",
    "class MultiOutputTransformer(BaseEstimator, TransformerMixin):\n",
    "\n",
    "    def fit(self, y):\n",
    "        y_bin, y_cat = y[:, 0], y[:, 1]\n",
    "        # Create internal encoders to ensure labels are 0, 1, 2...\n",
    "        self.bin_encoder_ = LabelEncoder()\n",
    "        self.cat_encoder_ = LabelEncoder()\n",
    "        # Fit them to the input data\n",
    "        self.bin_encoder_.fit(y_bin)\n",
    "        self.cat_encoder_.fit(y_cat)\n",
    "        # Save the number of classes\n",
    "        self.n_classes_ = [\n",
    "            self.bin_encoder_.classes_.size,\n",
    "            self.cat_encoder_.classes_.size,\n",
    "        ]\n",
    "        # Save number of expected outputs in the Keras model\n",
    "        # SciKeras will automatically use this to do error-checking\n",
    "        self.n_outputs_expected_ = 2\n",
    "        return self\n",
    "\n",
    "    def transform(self, y: np.ndarray) -> List[np.ndarray]:\n",
    "        y_bin, y_cat = y[:, 0], y[:, 1]\n",
    "        # Apply transformers to input array\n",
    "        y_bin = self.bin_encoder_.transform(y_bin)\n",
    "        y_cat = self.cat_encoder_.transform(y_cat)\n",
    "        # Split the data into a list\n",
    "        return [y_bin, y_cat]\n",
    "\n",
    "    def inverse_transform(self, y: List[np.ndarray], return_proba: bool = False) -> np.ndarray:\n",
    "        y_pred_proba = y  # rename for clarity, what Keras gives us are probs\n",
    "        if return_proba:\n",
    "            return np.column_stack(y_pred_proba, axis=1)\n",
    "        # Get class predictions from probabilities\n",
    "        y_pred_bin = (y_pred_proba[0] > 0.5).astype(int).reshape(-1, )\n",
    "        y_pred_cat = np.argmax(y_pred_proba[1], axis=1)\n",
    "        # Pass back through LabelEncoder\n",
    "        y_pred_bin = self.bin_encoder_.inverse_transform(y_pred_bin)\n",
    "        y_pred_cat = self.cat_encoder_.inverse_transform(y_pred_cat)\n",
    "        return np.column_stack([y_pred_bin, y_pred_cat])\n",
    "    \n",
    "    def get_metadata(self):\n",
    "        return {\n",
    "            \"n_classes_\": self.n_classes_,\n",
    "            \"n_outputs_expected_\": self.n_outputs_expected_,\n",
    "        }"
   ]
  },
  {
   "cell_type": "markdown",
   "id": "leading-airplane",
   "metadata": {},
   "source": [
    "Note that in addition to the usual `transform` and `inverse_transform` methods, we implement the `get_metadata` method to return the `n_classes_` attribute.\n",
    "\n",
    "Lets test our transformer with the same dataset we previously used to test our model:"
   ]
  },
  {
   "cell_type": "code",
   "execution_count": 9,
   "id": "flying-grace",
   "metadata": {
    "execution": {
     "iopub.execute_input": "2021-01-31T08:44:25.085544Z",
     "iopub.status.busy": "2021-01-31T08:44:25.084626Z",
     "iopub.status.idle": "2021-01-31T08:44:25.091155Z",
     "shell.execute_reply": "2021-01-31T08:44:25.091777Z"
    }
   },
   "outputs": [
    {
     "name": "stdout",
     "output_type": "stream",
     "text": [
      "`y`, as will be passed to Keras:\n",
      "[array([0, 1, 0, 0]), array([3, 0, 4, 2])]\n"
     ]
    }
   ],
   "source": [
    "tf = MultiOutputTransformer()\n",
    "\n",
    "y_sklearn = np.column_stack(y)\n",
    "\n",
    "y_keras = tf.fit_transform(y_sklearn)\n",
    "print(\"`y`, as will be passed to Keras:\")\n",
    "print([y_keras[0][:4], y_keras[1][:4]])"
   ]
  },
  {
   "cell_type": "code",
   "execution_count": 10,
   "id": "iraqi-roulette",
   "metadata": {
    "execution": {
     "iopub.execute_input": "2021-01-31T08:44:25.094727Z",
     "iopub.status.busy": "2021-01-31T08:44:25.093827Z",
     "iopub.status.idle": "2021-01-31T08:44:25.105975Z",
     "shell.execute_reply": "2021-01-31T08:44:25.106592Z"
    }
   },
   "outputs": [
    {
     "name": "stdout",
     "output_type": "stream",
     "text": [
      "`y_pred`, as will be returned to sklearn:\n"
     ]
    },
    {
     "data": {
      "text/plain": [
       "array([[0, 0],\n",
       "       [0, 2],\n",
       "       [0, 4],\n",
       "       [0, 3],\n",
       "       [0, 4]])"
      ]
     },
     "execution_count": 1,
     "metadata": {},
     "output_type": "execute_result"
    }
   ],
   "source": [
    "y_pred_sklearn = tf.inverse_transform(y_pred)\n",
    "print(\"`y_pred`, as will be returned to sklearn:\")\n",
    "y_pred_sklearn[:5]"
   ]
  },
  {
   "cell_type": "code",
   "execution_count": 11,
   "id": "seeing-damage",
   "metadata": {
    "execution": {
     "iopub.execute_input": "2021-01-31T08:44:25.109517Z",
     "iopub.status.busy": "2021-01-31T08:44:25.108612Z",
     "iopub.status.idle": "2021-01-31T08:44:25.113552Z",
     "shell.execute_reply": "2021-01-31T08:44:25.114162Z"
    }
   },
   "outputs": [
    {
     "name": "stdout",
     "output_type": "stream",
     "text": [
      "metadata = {'n_classes_': [2, 5], 'n_outputs_expected_': 2}\n"
     ]
    }
   ],
   "source": [
    "print(f\"metadata = {tf.get_metadata()}\")"
   ]
  },
  {
   "cell_type": "markdown",
   "id": "maritime-muslim",
   "metadata": {},
   "source": [
    "Since this looks good, we move on to integrating our transformer into our classifier."
   ]
  },
  {
   "cell_type": "code",
   "execution_count": 12,
   "id": "dangerous-missouri",
   "metadata": {
    "execution": {
     "iopub.execute_input": "2021-01-31T08:44:25.117160Z",
     "iopub.status.busy": "2021-01-31T08:44:25.116254Z",
     "iopub.status.idle": "2021-01-31T08:44:25.121720Z",
     "shell.execute_reply": "2021-01-31T08:44:25.122334Z"
    }
   },
   "outputs": [],
   "source": [
    "from sklearn.metrics import accuracy_score\n",
    "\n",
    "\n",
    "class MultiOutputClassifier(KerasClassifier):\n",
    "\n",
    "    @property\n",
    "    def target_encoder(self):\n",
    "        return MultiOutputTransformer()\n",
    "    \n",
    "    @staticmethod\n",
    "    def scorer(y_true, y_pred, **kwargs):\n",
    "        y_bin, y_cat = y_true[:, 0], y_true[:, 1]\n",
    "        y_pred_bin, y_pred_cat = y_pred[:, 0], y_pred[:, 1]\n",
    "        # Keras by default uses the mean of losses of each outputs, so here we do the same\n",
    "        return np.mean([accuracy_score(y_bin, y_pred_bin), accuracy_score(y_cat, y_pred_cat)])"
   ]
  },
  {
   "cell_type": "markdown",
   "id": "sweet-inquiry",
   "metadata": {},
   "source": [
    "### 2.3 Test classifier"
   ]
  },
  {
   "cell_type": "code",
   "execution_count": 13,
   "id": "explicit-shoot",
   "metadata": {
    "execution": {
     "iopub.execute_input": "2021-01-31T08:44:25.125234Z",
     "iopub.status.busy": "2021-01-31T08:44:25.124343Z",
     "iopub.status.idle": "2021-01-31T08:44:25.128822Z",
     "shell.execute_reply": "2021-01-31T08:44:25.129438Z"
    }
   },
   "outputs": [],
   "source": [
    "from sklearn.preprocessing import StandardScaler\n",
    "\n",
    "# Use labels as features, just to make sure we can learn correctly\n",
    "X = y_sklearn\n",
    "X = StandardScaler().fit_transform(X)"
   ]
  },
  {
   "cell_type": "code",
   "execution_count": 14,
   "id": "smooth-indianapolis",
   "metadata": {
    "execution": {
     "iopub.execute_input": "2021-01-31T08:44:25.132348Z",
     "iopub.status.busy": "2021-01-31T08:44:25.131450Z",
     "iopub.status.idle": "2021-01-31T08:44:25.779131Z",
     "shell.execute_reply": "2021-01-31T08:44:25.779794Z"
    }
   },
   "outputs": [
    {
     "data": {
      "text/plain": [
       "0.365"
      ]
     },
     "execution_count": 1,
     "metadata": {},
     "output_type": "execute_result"
    }
   ],
   "source": [
    "clf = MultiOutputClassifier(model=get_clf_model, verbose=0, random_state=0)\n",
    "\n",
    "clf.fit(X, y_sklearn).score(X, y_sklearn)"
   ]
  },
  {
   "cell_type": "markdown",
   "id": "color-death",
   "metadata": {},
   "source": [
    "## 3. Multiple inputs\n",
    "\n",
    "The process for multiple inputs is similar, but instead of overriding the transformer in `target_encoder` we override `feature_encoder`.\n",
    "\n",
    "\n",
    "```python .noeval\n",
    "class MultiInputTransformer(BaseEstimator, TransformerMixin):\n",
    "    ...\n",
    "\n",
    "class MultiInputClassifier(KerasClassifier):\n",
    "    @property\n",
    "    def feature_encoder(self):\n",
    "        return MultiInputTransformer(...)\n",
    "```\n",
    "\n",
    "### 3.1 Define Keras Model\n",
    "\n",
    "Let's define a Keras **regression** Model with 2 inputs:"
   ]
  },
  {
   "cell_type": "code",
   "execution_count": 15,
   "id": "engaging-contest",
   "metadata": {
    "execution": {
     "iopub.execute_input": "2021-01-31T08:44:25.783007Z",
     "iopub.status.busy": "2021-01-31T08:44:25.782050Z",
     "iopub.status.idle": "2021-01-31T08:44:25.788089Z",
     "shell.execute_reply": "2021-01-31T08:44:25.788721Z"
    }
   },
   "outputs": [],
   "source": [
    "def get_reg_model():\n",
    "\n",
    "    inp1 = keras.layers.Input(shape=(1, ))\n",
    "    inp2 = keras.layers.Input(shape=(1, ))\n",
    "\n",
    "    x1 = keras.layers.Dense(100, activation=\"relu\")(inp1)\n",
    "    x2 = keras.layers.Dense(50, activation=\"relu\")(inp2)\n",
    "\n",
    "    concat = keras.layers.Concatenate(axis=-1)([x1, x2])\n",
    "\n",
    "    out = keras.layers.Dense(1)(concat)\n",
    "\n",
    "    model = keras.Model(inputs=[inp1, inp2], outputs=out)\n",
    "    model.compile(loss=\"mse\")\n",
    "\n",
    "    return model"
   ]
  },
  {
   "cell_type": "markdown",
   "id": "logical-orleans",
   "metadata": {},
   "source": [
    "And test it with a small mock dataset:"
   ]
  },
  {
   "cell_type": "code",
   "execution_count": 16,
   "id": "governmental-london",
   "metadata": {
    "execution": {
     "iopub.execute_input": "2021-01-31T08:44:25.791817Z",
     "iopub.status.busy": "2021-01-31T08:44:25.790901Z",
     "iopub.status.idle": "2021-01-31T08:44:26.243730Z",
     "shell.execute_reply": "2021-01-31T08:44:26.242888Z"
    }
   },
   "outputs": [],
   "source": [
    "X = np.random.random(size=(100, 2))\n",
    "y = np.sum(X, axis=1)\n",
    "X = np.split(X, 2, axis=1)\n",
    "\n",
    "model = get_reg_model()\n",
    "\n",
    "model.fit(X, y, verbose=0)\n",
    "y_pred = model.predict(X).squeeze()"
   ]
  },
  {
   "cell_type": "code",
   "execution_count": 17,
   "id": "textile-paper",
   "metadata": {
    "execution": {
     "iopub.execute_input": "2021-01-31T08:44:26.246806Z",
     "iopub.status.busy": "2021-01-31T08:44:26.245912Z",
     "iopub.status.idle": "2021-01-31T08:44:26.252561Z",
     "shell.execute_reply": "2021-01-31T08:44:26.253172Z"
    }
   },
   "outputs": [
    {
     "data": {
      "text/plain": [
       "-4.674910582645151"
      ]
     },
     "execution_count": 1,
     "metadata": {},
     "output_type": "execute_result"
    }
   ],
   "source": [
    "from sklearn.metrics import r2_score\n",
    "\n",
    "r2_score(y, y_pred)"
   ]
  },
  {
   "cell_type": "markdown",
   "id": "polyphonic-adobe",
   "metadata": {},
   "source": [
    "Having verified that our model builds without errors and accepts the inputs types we expect, we move onto integrating a transformer into our SciKeras model.\n",
    "\n",
    "### 3.2 Define data transformer\n",
    "\n",
    "Just like for overriding `target_encoder`, we just need to define a sklearn transformer and drop it into our SciKeras wrapper. Since we hardcoded the input\n",
    "shapes into our model and do not rely on any transformer-generated metadata, we can simply use `sklearn.preprocessing.FunctionTransformer`:"
   ]
  },
  {
   "cell_type": "code",
   "execution_count": 18,
   "id": "satellite-orchestra",
   "metadata": {
    "execution": {
     "iopub.execute_input": "2021-01-31T08:44:26.256601Z",
     "iopub.status.busy": "2021-01-31T08:44:26.255461Z",
     "iopub.status.idle": "2021-01-31T08:44:26.260237Z",
     "shell.execute_reply": "2021-01-31T08:44:26.260849Z"
    }
   },
   "outputs": [],
   "source": [
    "from sklearn.preprocessing import FunctionTransformer\n",
    "\n",
    "\n",
    "class MultiInputRegressor(KerasRegressor):\n",
    "\n",
    "    @property\n",
    "    def feature_encoder(self):\n",
    "        return FunctionTransformer(\n",
    "            func=lambda X: [X[:, 0], X[:, 1]],\n",
    "        )"
   ]
  },
  {
   "cell_type": "markdown",
   "id": "polar-technique",
   "metadata": {},
   "source": [
    "Note that we did **not** implement `inverse_transform` (that is, we did not pass an `inverse_func` argument to `FunctionTransformer`) because features are never converted back to their original form.\n",
    "\n",
    "### 3.3 Test regressor"
   ]
  },
  {
   "cell_type": "code",
   "execution_count": 19,
   "id": "amended-least",
   "metadata": {
    "execution": {
     "iopub.execute_input": "2021-01-31T08:44:26.264724Z",
     "iopub.status.busy": "2021-01-31T08:44:26.263779Z",
     "iopub.status.idle": "2021-01-31T08:44:26.863110Z",
     "shell.execute_reply": "2021-01-31T08:44:26.863744Z"
    }
   },
   "outputs": [
    {
     "data": {
      "text/plain": [
       "-3.0813111117500007"
      ]
     },
     "execution_count": 1,
     "metadata": {},
     "output_type": "execute_result"
    }
   ],
   "source": [
    "reg = MultiInputRegressor(model=get_reg_model, verbose=0, random_state=0)\n",
    "\n",
    "X_sklearn = np.column_stack(X)\n",
    "\n",
    "reg.fit(X_sklearn, y).score(X_sklearn, y)"
   ]
  },
  {
   "cell_type": "markdown",
   "id": "central-services",
   "metadata": {},
   "source": [
    "## 4. Multidimensional inputs with MNIST dataset\n",
    "\n",
    "In this example, we look at how we can use SciKeras to process the MNIST dataset. The dataset is composed of 60,000 images of digits, each of which is a 2D 28x28 image.\n",
    "\n",
    "The dataset and Keras Model architecture used come from a [Keras example](https://keras.io/examples/vision/mnist_convnet/). It may be beneficial to understand the Keras model by reviewing that example first."
   ]
  },
  {
   "cell_type": "code",
   "execution_count": 20,
   "id": "missing-signature",
   "metadata": {
    "execution": {
     "iopub.execute_input": "2021-01-31T08:44:26.866861Z",
     "iopub.status.busy": "2021-01-31T08:44:26.865969Z",
     "iopub.status.idle": "2021-01-31T08:44:27.354245Z",
     "shell.execute_reply": "2021-01-31T08:44:27.354895Z"
    }
   },
   "outputs": [
    {
     "name": "stdout",
     "output_type": "stream",
     "text": [
      "Downloading data from https://storage.googleapis.com/tensorflow/tf-keras-datasets/mnist.npz\n",
      "\r",
      "    8192/11490434 [..............................] - ETA: 0s"
     ]
    },
    {
     "name": "stdout",
     "output_type": "stream",
     "text": [
      "\b\b\b\b\b\b\b\b\b\b\b\b\b\b\b\b\b\b\b\b\b\b\b\b\b\b\b\b\b\b\b\b\b\b\b\b\b\b\b\b\b\b\b\b\b\b\b\b\b\b\b\b\b\b\b\b\b\b\b\b\r",
      " 3915776/11490434 [=========>....................] - ETA: 0s"
     ]
    },
    {
     "name": "stdout",
     "output_type": "stream",
     "text": [
      "\b\b\b\b\b\b\b\b\b\b\b\b\b\b\b\b\b\b\b\b\b\b\b\b\b\b\b\b\b\b\b\b\b\b\b\b\b\b\b\b\b\b\b\b\b\b\b\b\b\b\b\b\b\b\b\b\b\b\b\b\r",
      "11493376/11490434 [==============================] - 0s 0us/step\n"
     ]
    },
    {
     "data": {
      "text/plain": [
       "(60000, 28, 28)"
      ]
     },
     "execution_count": 1,
     "metadata": {},
     "output_type": "execute_result"
    }
   ],
   "source": [
    "(x_train, y_train), (x_test, y_test) = keras.datasets.mnist.load_data()\n",
    "x_train.shape"
   ]
  },
  {
   "cell_type": "markdown",
   "id": "governing-driver",
   "metadata": {},
   "source": [
    "The outputs (labels) are numbers 0-9:"
   ]
  },
  {
   "cell_type": "code",
   "execution_count": 21,
   "id": "controversial-welding",
   "metadata": {
    "execution": {
     "iopub.execute_input": "2021-01-31T08:44:27.357982Z",
     "iopub.status.busy": "2021-01-31T08:44:27.357084Z",
     "iopub.status.idle": "2021-01-31T08:44:27.364321Z",
     "shell.execute_reply": "2021-01-31T08:44:27.364941Z"
    }
   },
   "outputs": [
    {
     "name": "stdout",
     "output_type": "stream",
     "text": [
      "(60000,)\n",
      "[0 1 2 3 4 5 6 7 8 9]\n"
     ]
    }
   ],
   "source": [
    "print(y_train.shape)\n",
    "print(np.unique(y_train))"
   ]
  },
  {
   "cell_type": "markdown",
   "id": "metropolitan-therapist",
   "metadata": {},
   "source": [
    "First, we will \"flatten\" the data into an array of shape `(n_samples, 28*28)` (i.e. a 2D array). This will allow us to use sklearn ecosystem utilities, for example, `sklearn.preprocessing.MinMaxScaler`."
   ]
  },
  {
   "cell_type": "code",
   "execution_count": 22,
   "id": "robust-layer",
   "metadata": {
    "execution": {
     "iopub.execute_input": "2021-01-31T08:44:27.368082Z",
     "iopub.status.busy": "2021-01-31T08:44:27.367162Z",
     "iopub.status.idle": "2021-01-31T08:44:28.077523Z",
     "shell.execute_reply": "2021-01-31T08:44:28.077922Z"
    }
   },
   "outputs": [],
   "source": [
    "from sklearn.preprocessing import MinMaxScaler\n",
    "\n",
    "n_samples_train = x_train.shape[0]\n",
    "n_samples_test = x_test.shape[0]\n",
    "\n",
    "x_train = x_train.reshape((n_samples_train, -1))\n",
    "x_test = x_test.reshape((n_samples_test, -1))\n",
    "x_train = MinMaxScaler().fit_transform(x_train)\n",
    "x_test = MinMaxScaler().fit_transform(x_test)\n",
    "\n",
    "# reduce dataset size for faster training\n",
    "n_samples = 1000\n",
    "x_train, y_train, x_test, y_test = x_train[:n_samples], y_train[:n_samples], x_test[:n_samples], y_test[:n_samples]"
   ]
  },
  {
   "cell_type": "code",
   "execution_count": 23,
   "id": "applied-parker",
   "metadata": {
    "execution": {
     "iopub.execute_input": "2021-01-31T08:44:28.081905Z",
     "iopub.status.busy": "2021-01-31T08:44:28.081438Z",
     "iopub.status.idle": "2021-01-31T08:44:28.084434Z",
     "shell.execute_reply": "2021-01-31T08:44:28.084812Z"
    }
   },
   "outputs": [
    {
     "name": "stdout",
     "output_type": "stream",
     "text": [
      "(784,)\n"
     ]
    }
   ],
   "source": [
    "print(x_train.shape[1:])  # 784 = 28*28"
   ]
  },
  {
   "cell_type": "code",
   "execution_count": 24,
   "id": "relative-knowing",
   "metadata": {
    "execution": {
     "iopub.execute_input": "2021-01-31T08:44:28.088027Z",
     "iopub.status.busy": "2021-01-31T08:44:28.087559Z",
     "iopub.status.idle": "2021-01-31T08:44:28.091374Z",
     "shell.execute_reply": "2021-01-31T08:44:28.091746Z"
    }
   },
   "outputs": [
    {
     "name": "stdout",
     "output_type": "stream",
     "text": [
      "0.0 1.0\n"
     ]
    }
   ],
   "source": [
    "print(np.min(x_train), np.max(x_train))  # scaled 0-1"
   ]
  },
  {
   "cell_type": "markdown",
   "id": "subjective-cancer",
   "metadata": {},
   "source": [
    "Of course, in this case, we could have just as easily used numpy functions to scale our data, but we use `MinMaxScaler` to demonstrate use of the sklearn ecosystem.\n",
    "\n",
    "### 4.1 Define Keras Model\n",
    "\n",
    "Next we will define our Keras model (adapted from [keras.io](https://keras.io/examples/vision/mnist_convnet/)):"
   ]
  },
  {
   "cell_type": "code",
   "execution_count": 25,
   "id": "right-masters",
   "metadata": {
    "execution": {
     "iopub.execute_input": "2021-01-31T08:44:28.097449Z",
     "iopub.status.busy": "2021-01-31T08:44:28.096983Z",
     "iopub.status.idle": "2021-01-31T08:44:28.100072Z",
     "shell.execute_reply": "2021-01-31T08:44:28.099654Z"
    }
   },
   "outputs": [],
   "source": [
    "num_classes = 10\n",
    "input_shape = (28, 28, 1)\n",
    "\n",
    "\n",
    "def get_model(meta):\n",
    "    model = keras.Sequential(\n",
    "        [\n",
    "            keras.Input(input_shape),\n",
    "            keras.layers.Conv2D(32, kernel_size=(3, 3), activation=\"relu\"),\n",
    "            keras.layers.MaxPooling2D(pool_size=(2, 2)),\n",
    "            keras.layers.Conv2D(64, kernel_size=(3, 3), activation=\"relu\"),\n",
    "            keras.layers.MaxPooling2D(pool_size=(2, 2)),\n",
    "            keras.layers.Flatten(),\n",
    "            keras.layers.Dropout(0.5),\n",
    "            keras.layers.Dense(num_classes, activation=\"softmax\"),\n",
    "        ]\n",
    "    )\n",
    "    model.compile(\n",
    "        loss=\"sparse_categorical_crossentropy\"\n",
    "    )\n",
    "    return model"
   ]
  },
  {
   "cell_type": "markdown",
   "id": "thorough-difference",
   "metadata": {},
   "source": [
    "Now let's define a transformer that we will use to reshape our input from the sklearn shape (`(n_samples, 784)`) to the Keras shape (which we will be `(n_samples, 28, 28, 1)`)."
   ]
  },
  {
   "cell_type": "code",
   "execution_count": 26,
   "id": "improving-disposal",
   "metadata": {
    "execution": {
     "iopub.execute_input": "2021-01-31T08:44:28.103987Z",
     "iopub.status.busy": "2021-01-31T08:44:28.103215Z",
     "iopub.status.idle": "2021-01-31T08:44:28.106561Z",
     "shell.execute_reply": "2021-01-31T08:44:28.106152Z"
    }
   },
   "outputs": [],
   "source": [
    "class MultiDimensionalClassifier(KerasClassifier):\n",
    "\n",
    "    @property\n",
    "    def feature_encoder(self):\n",
    "        return FunctionTransformer(\n",
    "            func=lambda X: X.reshape(X.shape[0], *input_shape),\n",
    "        )"
   ]
  },
  {
   "cell_type": "code",
   "execution_count": 27,
   "id": "meaningful-argentina",
   "metadata": {
    "execution": {
     "iopub.execute_input": "2021-01-31T08:44:28.109707Z",
     "iopub.status.busy": "2021-01-31T08:44:28.109254Z",
     "iopub.status.idle": "2021-01-31T08:44:28.111976Z",
     "shell.execute_reply": "2021-01-31T08:44:28.112350Z"
    }
   },
   "outputs": [],
   "source": [
    "clf = MultiDimensionalClassifier(\n",
    "    model=get_model,\n",
    "    epochs=10,\n",
    "    batch_size=128,\n",
    "    validation_split=0.1,\n",
    "    random_state=0,\n",
    ")"
   ]
  },
  {
   "cell_type": "markdown",
   "id": "defined-stamp",
   "metadata": {},
   "source": [
    "### 4.2 Test\n",
    "\n",
    "Train and score the model (this takes some time)"
   ]
  },
  {
   "cell_type": "code",
   "execution_count": 28,
   "id": "genetic-council",
   "metadata": {
    "execution": {
     "iopub.execute_input": "2021-01-31T08:44:28.115265Z",
     "iopub.status.busy": "2021-01-31T08:44:28.114794Z",
     "iopub.status.idle": "2021-01-31T08:44:35.936899Z",
     "shell.execute_reply": "2021-01-31T08:44:35.937404Z"
    }
   },
   "outputs": [
    {
     "name": "stdout",
     "output_type": "stream",
     "text": [
      "Epoch 1/10\n"
     ]
    },
    {
     "name": "stdout",
     "output_type": "stream",
     "text": [
      "\r",
      "1/8 [==>...........................] - ETA: 2s - loss: 2.3388"
     ]
    },
    {
     "name": "stdout",
     "output_type": "stream",
     "text": [
      "\b\b\b\b\b\b\b\b\b\b\b\b\b\b\b\b\b\b\b\b\b\b\b\b\b\b\b\b\b\b\b\b\b\b\b\b\b\b\b\b\b\b\b\b\b\b\b\b\b\b\b\b\b\b\b\b\b\b\b\b\b\r",
      "2/8 [======>.......................] - ETA: 0s - loss: 2.3138"
     ]
    },
    {
     "name": "stdout",
     "output_type": "stream",
     "text": [
      "\b\b\b\b\b\b\b\b\b\b\b\b\b\b\b\b\b\b\b\b\b\b\b\b\b\b\b\b\b\b\b\b\b\b\b\b\b\b\b\b\b\b\b\b\b\b\b\b\b\b\b\b\b\b\b\b\b\b\b\b\b\r",
      "3/8 [==========>...................] - ETA: 0s - loss: 2.2955"
     ]
    },
    {
     "name": "stdout",
     "output_type": "stream",
     "text": [
      "\b\b\b\b\b\b\b\b\b\b\b\b\b\b\b\b\b\b\b\b\b\b\b\b\b\b\b\b\b\b\b\b\b\b\b\b\b\b\b\b\b\b\b\b\b\b\b\b\b\b\b\b\b\b\b\b\b\b\b\b\b\r",
      "4/8 [==============>...............] - ETA: 0s - loss: 2.2804"
     ]
    },
    {
     "name": "stdout",
     "output_type": "stream",
     "text": [
      "\b\b\b\b\b\b\b\b\b\b\b\b\b\b\b\b\b\b\b\b\b\b\b\b\b\b\b\b\b\b\b\b\b\b\b\b\b\b\b\b\b\b\b\b\b\b\b\b\b\b\b\b\b\b\b\b\b\b\b\b\b\r",
      "5/8 [=================>............] - ETA: 0s - loss: 2.2653"
     ]
    },
    {
     "name": "stdout",
     "output_type": "stream",
     "text": [
      "\b\b\b\b\b\b\b\b\b\b\b\b\b\b\b\b\b\b\b\b\b\b\b\b\b\b\b\b\b\b\b\b\b\b\b\b\b\b\b\b\b\b\b\b\b\b\b\b\b\b\b\b\b\b\b\b\b\b\b\b\b\r",
      "6/8 [=====================>........] - ETA: 0s - loss: 2.2506"
     ]
    },
    {
     "name": "stdout",
     "output_type": "stream",
     "text": [
      "\b\b\b\b\b\b\b\b\b\b\b\b\b\b\b\b\b\b\b\b\b\b\b\b\b\b\b\b\b\b\b\b\b\b\b\b\b\b\b\b\b\b\b\b\b\b\b\b\b\b\b\b\b\b\b\b\b\b\b\b\b\r",
      "7/8 [=========================>....] - ETA: 0s - loss: 2.2346"
     ]
    },
    {
     "name": "stdout",
     "output_type": "stream",
     "text": [
      "\b\b\b\b\b\b\b\b\b\b\b\b\b\b\b\b\b\b\b\b\b\b\b\b\b\b\b\b\b\b\b\b\b\b\b\b\b\b\b\b\b\b\b\b\b\b\b\b\b\b\b\b\b\b\b\b\b\b\b\b\b\r",
      "8/8 [==============================] - 1s 121ms/step - loss: 2.2129 - val_loss: 1.9378\n"
     ]
    },
    {
     "name": "stdout",
     "output_type": "stream",
     "text": [
      "Epoch 2/10\n",
      "\r",
      "1/8 [==>...........................] - ETA: 0s - loss: 1.9194"
     ]
    },
    {
     "name": "stdout",
     "output_type": "stream",
     "text": [
      "\b\b\b\b\b\b\b\b\b\b\b\b\b\b\b\b\b\b\b\b\b\b\b\b\b\b\b\b\b\b\b\b\b\b\b\b\b\b\b\b\b\b\b\b\b\b\b\b\b\b\b\b\b\b\b\b\b\b\b\b\b\r",
      "2/8 [======>.......................] - ETA: 0s - loss: 1.8859"
     ]
    },
    {
     "name": "stdout",
     "output_type": "stream",
     "text": [
      "\b\b\b\b\b\b\b\b\b\b\b\b\b\b\b\b\b\b\b\b\b\b\b\b\b\b\b\b\b\b\b\b\b\b\b\b\b\b\b\b\b\b\b\b\b\b\b\b\b\b\b\b\b\b\b\b\b\b\b\b\b\r",
      "3/8 [==========>...................] - ETA: 0s - loss: 1.8602"
     ]
    },
    {
     "name": "stdout",
     "output_type": "stream",
     "text": [
      "\b\b\b\b\b\b\b\b\b\b\b\b\b\b\b\b\b\b\b\b\b\b\b\b\b\b\b\b\b\b\b\b\b\b\b\b\b\b\b\b\b\b\b\b\b\b\b\b\b\b\b\b\b\b\b\b\b\b\b\b\b\r",
      "4/8 [==============>...............] - ETA: 0s - loss: 1.8336"
     ]
    },
    {
     "name": "stdout",
     "output_type": "stream",
     "text": [
      "\b\b\b\b\b\b\b\b\b\b\b\b\b\b\b\b\b\b\b\b\b\b\b\b\b\b\b\b\b\b\b\b\b\b\b\b\b\b\b\b\b\b\b\b\b\b\b\b\b\b\b\b\b\b\b\b\b\b\b\b\b\r",
      "5/8 [=================>............] - ETA: 0s - loss: 1.8105"
     ]
    },
    {
     "name": "stdout",
     "output_type": "stream",
     "text": [
      "\b\b\b\b\b\b\b\b\b\b\b\b\b\b\b\b\b\b\b\b\b\b\b\b\b\b\b\b\b\b\b\b\b\b\b\b\b\b\b\b\b\b\b\b\b\b\b\b\b\b\b\b\b\b\b\b\b\b\b\b\b\r",
      "6/8 [=====================>........] - ETA: 0s - loss: 1.7871"
     ]
    },
    {
     "name": "stdout",
     "output_type": "stream",
     "text": [
      "\b\b\b\b\b\b\b\b\b\b\b\b\b\b\b\b\b\b\b\b\b\b\b\b\b\b\b\b\b\b\b\b\b\b\b\b\b\b\b\b\b\b\b\b\b\b\b\b\b\b\b\b\b\b\b\b\b\b\b\b\b\r",
      "7/8 [=========================>....] - ETA: 0s - loss: 1.7651"
     ]
    },
    {
     "name": "stdout",
     "output_type": "stream",
     "text": [
      "\b\b\b\b\b\b\b\b\b\b\b\b\b\b\b\b\b\b\b\b\b\b\b\b\b\b\b\b\b\b\b\b\b\b\b\b\b\b\b\b\b\b\b\b\b\b\b\b\b\b\b\b\b\b\b\b\b\b\b\b\b\r",
      "8/8 [==============================] - 1s 90ms/step - loss: 1.7355 - val_loss: 1.4332\n"
     ]
    },
    {
     "name": "stdout",
     "output_type": "stream",
     "text": [
      "Epoch 3/10\n"
     ]
    },
    {
     "name": "stdout",
     "output_type": "stream",
     "text": [
      "\r",
      "1/8 [==>...........................] - ETA: 0s - loss: 1.5482"
     ]
    },
    {
     "name": "stdout",
     "output_type": "stream",
     "text": [
      "\b\b\b\b\b\b\b\b\b\b\b\b\b\b\b\b\b\b\b\b\b\b\b\b\b\b\b\b\b\b\b\b\b\b\b\b\b\b\b\b\b\b\b\b\b\b\b\b\b\b\b\b\b\b\b\b\b\b\b\b\b\r",
      "2/8 [======>.......................] - ETA: 0s - loss: 1.4905"
     ]
    },
    {
     "name": "stdout",
     "output_type": "stream",
     "text": [
      "\b\b\b\b\b\b\b\b\b\b\b\b\b\b\b\b\b\b\b\b\b\b\b\b\b\b\b\b\b\b\b\b\b\b\b\b\b\b\b\b\b\b\b\b\b\b\b\b\b\b\b\b\b\b\b\b\b\b\b\b\b\r",
      "3/8 [==========>...................] - ETA: 0s - loss: 1.4373"
     ]
    },
    {
     "name": "stdout",
     "output_type": "stream",
     "text": [
      "\b\b\b\b\b\b\b\b\b\b\b\b\b\b\b\b\b\b\b\b\b\b\b\b\b\b\b\b\b\b\b\b\b\b\b\b\b\b\b\b\b\b\b\b\b\b\b\b\b\b\b\b\b\b\b\b\b\b\b\b\b\r",
      "4/8 [==============>...............] - ETA: 0s - loss: 1.4038"
     ]
    },
    {
     "name": "stdout",
     "output_type": "stream",
     "text": [
      "\b\b\b\b\b\b\b\b\b\b\b\b\b\b\b\b\b\b\b\b\b\b\b\b\b\b\b\b\b\b\b\b\b\b\b\b\b\b\b\b\b\b\b\b\b\b\b\b\b\b\b\b\b\b\b\b\b\b\b\b\b\r",
      "5/8 [=================>............] - ETA: 0s - loss: 1.3722"
     ]
    },
    {
     "name": "stdout",
     "output_type": "stream",
     "text": [
      "\b\b\b\b\b\b\b\b\b\b\b\b\b\b\b\b\b\b\b\b\b\b\b\b\b\b\b\b\b\b\b\b\b\b\b\b\b\b\b\b\b\b\b\b\b\b\b\b\b\b\b\b\b\b\b\b\b\b\b\b\b\r",
      "6/8 [=====================>........] - ETA: 0s - loss: 1.3461"
     ]
    },
    {
     "name": "stdout",
     "output_type": "stream",
     "text": [
      "\b\b\b\b\b\b\b\b\b\b\b\b\b\b\b\b\b\b\b\b\b\b\b\b\b\b\b\b\b\b\b\b\b\b\b\b\b\b\b\b\b\b\b\b\b\b\b\b\b\b\b\b\b\b\b\b\b\b\b\b\b\r",
      "7/8 [=========================>....] - ETA: 0s - loss: 1.3252"
     ]
    },
    {
     "name": "stdout",
     "output_type": "stream",
     "text": [
      "\b\b\b\b\b\b\b\b\b\b\b\b\b\b\b\b\b\b\b\b\b\b\b\b\b\b\b\b\b\b\b\b\b\b\b\b\b\b\b\b\b\b\b\b\b\b\b\b\b\b\b\b\b\b\b\b\b\b\b\b\b\r",
      "8/8 [==============================] - 1s 85ms/step - loss: 1.2980 - val_loss: 1.1264\n"
     ]
    },
    {
     "name": "stdout",
     "output_type": "stream",
     "text": [
      "Epoch 4/10\n"
     ]
    },
    {
     "name": "stdout",
     "output_type": "stream",
     "text": [
      "\r",
      "1/8 [==>...........................] - ETA: 0s - loss: 0.9745"
     ]
    },
    {
     "name": "stdout",
     "output_type": "stream",
     "text": [
      "\b\b\b\b\b\b\b\b\b\b\b\b\b\b\b\b\b\b\b\b\b\b\b\b\b\b\b\b\b\b\b\b\b\b\b\b\b\b\b\b\b\b\b\b\b\b\b\b\b\b\b\b\b\b\b\b\b\b\b\b\b\r",
      "2/8 [======>.......................] - ETA: 0s - loss: 0.9901"
     ]
    },
    {
     "name": "stdout",
     "output_type": "stream",
     "text": [
      "\b\b\b\b\b\b\b\b\b\b\b\b\b\b\b\b\b\b\b\b\b\b\b\b\b\b\b\b\b\b\b\b\b\b\b\b\b\b\b\b\b\b\b\b\b\b\b\b\b\b\b\b\b\b\b\b\b\b\b\b\b\r",
      "3/8 [==========>...................] - ETA: 0s - loss: 0.9931"
     ]
    },
    {
     "name": "stdout",
     "output_type": "stream",
     "text": [
      "\b\b\b\b\b\b\b\b\b\b\b\b\b\b\b\b\b\b\b\b\b\b\b\b\b\b\b\b\b\b\b\b\b\b\b\b\b\b\b\b\b\b\b\b\b\b\b\b\b\b\b\b\b\b\b\b\b\b\b\b\b\r",
      "4/8 [==============>...............] - ETA: 0s - loss: 0.9934"
     ]
    },
    {
     "name": "stdout",
     "output_type": "stream",
     "text": [
      "\b\b\b\b\b\b\b\b\b\b\b\b\b\b\b\b\b\b\b\b\b\b\b\b\b\b\b\b\b\b\b\b\b\b\b\b\b\b\b\b\b\b\b\b\b\b\b\b\b\b\b\b\b\b\b\b\b\b\b\b\b\r",
      "5/8 [=================>............] - ETA: 0s - loss: 0.9891"
     ]
    },
    {
     "name": "stdout",
     "output_type": "stream",
     "text": [
      "\b\b\b\b\b\b\b\b\b\b\b\b\b\b\b\b\b\b\b\b\b\b\b\b\b\b\b\b\b\b\b\b\b\b\b\b\b\b\b\b\b\b\b\b\b\b\b\b\b\b\b\b\b\b\b\b\b\b\b\b\b\r",
      "6/8 [=====================>........] - ETA: 0s - loss: 0.9830"
     ]
    },
    {
     "name": "stdout",
     "output_type": "stream",
     "text": [
      "\b\b\b\b\b\b\b\b\b\b\b\b\b\b\b\b\b\b\b\b\b\b\b\b\b\b\b\b\b\b\b\b\b\b\b\b\b\b\b\b\b\b\b\b\b\b\b\b\b\b\b\b\b\b\b\b\b\b\b\b\b\r",
      "7/8 [=========================>....] - ETA: 0s - loss: 0.9744"
     ]
    },
    {
     "name": "stdout",
     "output_type": "stream",
     "text": [
      "\b\b\b\b\b\b\b\b\b\b\b\b\b\b\b\b\b\b\b\b\b\b\b\b\b\b\b\b\b\b\b\b\b\b\b\b\b\b\b\b\b\b\b\b\b\b\b\b\b\b\b\b\b\b\b\b\b\b\b\b\b\r",
      "8/8 [==============================] - 1s 92ms/step - loss: 0.9632 - val_loss: 0.8725\n"
     ]
    },
    {
     "name": "stdout",
     "output_type": "stream",
     "text": [
      "Epoch 5/10\n"
     ]
    },
    {
     "name": "stdout",
     "output_type": "stream",
     "text": [
      "\r",
      "1/8 [==>...........................] - ETA: 0s - loss: 0.8483"
     ]
    },
    {
     "name": "stdout",
     "output_type": "stream",
     "text": [
      "\b\b\b\b\b\b\b\b\b\b\b\b\b\b\b\b\b\b\b\b\b\b\b\b\b\b\b\b\b\b\b\b\b\b\b\b\b\b\b\b\b\b\b\b\b\b\b\b\b\b\b\b\b\b\b\b\b\b\b\b\b\r",
      "2/8 [======>.......................] - ETA: 0s - loss: 0.8333"
     ]
    },
    {
     "name": "stdout",
     "output_type": "stream",
     "text": [
      "\b\b\b\b\b\b\b\b\b\b\b\b\b\b\b\b\b\b\b\b\b\b\b\b\b\b\b\b\b\b\b\b\b\b\b\b\b\b\b\b\b\b\b\b\b\b\b\b\b\b\b\b\b\b\b\b\b\b\b\b\b\r",
      "3/8 [==========>...................] - ETA: 0s - loss: 0.8148"
     ]
    },
    {
     "name": "stdout",
     "output_type": "stream",
     "text": [
      "\b\b\b\b\b\b\b\b\b\b\b\b\b\b\b\b\b\b\b\b\b\b\b\b\b\b\b\b\b\b\b\b\b\b\b\b\b\b\b\b\b\b\b\b\b\b\b\b\b\b\b\b\b\b\b\b\b\b\b\b\b\r",
      "4/8 [==============>...............] - ETA: 0s - loss: 0.8013"
     ]
    },
    {
     "name": "stdout",
     "output_type": "stream",
     "text": [
      "\b\b\b\b\b\b\b\b\b\b\b\b\b\b\b\b\b\b\b\b\b\b\b\b\b\b\b\b\b\b\b\b\b\b\b\b\b\b\b\b\b\b\b\b\b\b\b\b\b\b\b\b\b\b\b\b\b\b\b\b\b\r",
      "5/8 [=================>............] - ETA: 0s - loss: 0.7932"
     ]
    },
    {
     "name": "stdout",
     "output_type": "stream",
     "text": [
      "\b\b\b\b\b\b\b\b\b\b\b\b\b\b\b\b\b\b\b\b\b\b\b\b\b\b\b\b\b\b\b\b\b\b\b\b\b\b\b\b\b\b\b\b\b\b\b\b\b\b\b\b\b\b\b\b\b\b\b\b\b\r",
      "6/8 [=====================>........] - ETA: 0s - loss: 0.7884"
     ]
    },
    {
     "name": "stdout",
     "output_type": "stream",
     "text": [
      "\b\b\b\b\b\b\b\b\b\b\b\b\b\b\b\b\b\b\b\b\b\b\b\b\b\b\b\b\b\b\b\b\b\b\b\b\b\b\b\b\b\b\b\b\b\b\b\b\b\b\b\b\b\b\b\b\b\b\b\b\b\r",
      "7/8 [=========================>....] - ETA: 0s - loss: 0.7839"
     ]
    },
    {
     "name": "stdout",
     "output_type": "stream",
     "text": [
      "\b\b\b\b\b\b\b\b\b\b\b\b\b\b\b\b\b\b\b\b\b\b\b\b\b\b\b\b\b\b\b\b\b\b\b\b\b\b\b\b\b\b\b\b\b\b\b\b\b\b\b\b\b\b\b\b\b\b\b\b\b\r",
      "8/8 [==============================] - 1s 96ms/step - loss: 0.7774 - val_loss: 0.7834\n"
     ]
    },
    {
     "name": "stdout",
     "output_type": "stream",
     "text": [
      "Epoch 6/10\n"
     ]
    },
    {
     "name": "stdout",
     "output_type": "stream",
     "text": [
      "\r",
      "1/8 [==>...........................] - ETA: 0s - loss: 0.7395"
     ]
    },
    {
     "name": "stdout",
     "output_type": "stream",
     "text": [
      "\b\b\b\b\b\b\b\b\b\b\b\b\b\b\b\b\b\b\b\b\b\b\b\b\b\b\b\b\b\b\b\b\b\b\b\b\b\b\b\b\b\b\b\b\b\b\b\b\b\b\b\b\b\b\b\b\b\b\b\b\b\r",
      "2/8 [======>.......................] - ETA: 0s - loss: 0.7439"
     ]
    },
    {
     "name": "stdout",
     "output_type": "stream",
     "text": [
      "\b\b\b\b\b\b\b\b\b\b\b\b\b\b\b\b\b\b\b\b\b\b\b\b\b\b\b\b\b\b\b\b\b\b\b\b\b\b\b\b\b\b\b\b\b\b\b\b\b\b\b\b\b\b\b\b\b\b\b\b\b\r",
      "3/8 [==========>...................] - ETA: 0s - loss: 0.7406"
     ]
    },
    {
     "name": "stdout",
     "output_type": "stream",
     "text": [
      "\b\b\b\b\b\b\b\b\b\b\b\b\b\b\b\b\b\b\b\b\b\b\b\b\b\b\b\b\b\b\b\b\b\b\b\b\b\b\b\b\b\b\b\b\b\b\b\b\b\b\b\b\b\b\b\b\b\b\b\b\b\r",
      "4/8 [==============>...............] - ETA: 0s - loss: 0.7288"
     ]
    },
    {
     "name": "stdout",
     "output_type": "stream",
     "text": [
      "\b\b\b\b\b\b\b\b\b\b\b\b\b\b\b\b\b\b\b\b\b\b\b\b\b\b\b\b\b\b\b\b\b\b\b\b\b\b\b\b\b\b\b\b\b\b\b\b\b\b\b\b\b\b\b\b\b\b\b\b\b\r",
      "5/8 [=================>............] - ETA: 0s - loss: 0.7162"
     ]
    },
    {
     "name": "stdout",
     "output_type": "stream",
     "text": [
      "\b\b\b\b\b\b\b\b\b\b\b\b\b\b\b\b\b\b\b\b\b\b\b\b\b\b\b\b\b\b\b\b\b\b\b\b\b\b\b\b\b\b\b\b\b\b\b\b\b\b\b\b\b\b\b\b\b\b\b\b\b\r",
      "6/8 [=====================>........] - ETA: 0s - loss: 0.7084"
     ]
    },
    {
     "name": "stdout",
     "output_type": "stream",
     "text": [
      "\b\b\b\b\b\b\b\b\b\b\b\b\b\b\b\b\b\b\b\b\b\b\b\b\b\b\b\b\b\b\b\b\b\b\b\b\b\b\b\b\b\b\b\b\b\b\b\b\b\b\b\b\b\b\b\b\b\b\b\b\b\r",
      "7/8 [=========================>....] - ETA: 0s - loss: 0.7005"
     ]
    },
    {
     "name": "stdout",
     "output_type": "stream",
     "text": [
      "\b\b\b\b\b\b\b\b\b\b\b\b\b\b\b\b\b\b\b\b\b\b\b\b\b\b\b\b\b\b\b\b\b\b\b\b\b\b\b\b\b\b\b\b\b\b\b\b\b\b\b\b\b\b\b\b\b\b\b\b\b\r",
      "8/8 [==============================] - 1s 87ms/step - loss: 0.6900 - val_loss: 0.8330\n"
     ]
    },
    {
     "name": "stdout",
     "output_type": "stream",
     "text": [
      "Epoch 7/10\n"
     ]
    },
    {
     "name": "stdout",
     "output_type": "stream",
     "text": [
      "\r",
      "1/8 [==>...........................] - ETA: 0s - loss: 0.6743"
     ]
    },
    {
     "name": "stdout",
     "output_type": "stream",
     "text": [
      "\b\b\b\b\b\b\b\b\b\b\b\b\b\b\b\b\b\b\b\b\b\b\b\b\b\b\b\b\b\b\b\b\b\b\b\b\b\b\b\b\b\b\b\b\b\b\b\b\b\b\b\b\b\b\b\b\b\b\b\b\b\r",
      "2/8 [======>.......................] - ETA: 0s - loss: 0.6714"
     ]
    },
    {
     "name": "stdout",
     "output_type": "stream",
     "text": [
      "\b\b\b\b\b\b\b\b\b\b\b\b\b\b\b\b\b\b\b\b\b\b\b\b\b\b\b\b\b\b\b\b\b\b\b\b\b\b\b\b\b\b\b\b\b\b\b\b\b\b\b\b\b\b\b\b\b\b\b\b\b\r",
      "3/8 [==========>...................] - ETA: 0s - loss: 0.6668"
     ]
    },
    {
     "name": "stdout",
     "output_type": "stream",
     "text": [
      "\b\b\b\b\b\b\b\b\b\b\b\b\b\b\b\b\b\b\b\b\b\b\b\b\b\b\b\b\b\b\b\b\b\b\b\b\b\b\b\b\b\b\b\b\b\b\b\b\b\b\b\b\b\b\b\b\b\b\b\b\b\r",
      "4/8 [==============>...............] - ETA: 0s - loss: 0.6620"
     ]
    },
    {
     "name": "stdout",
     "output_type": "stream",
     "text": [
      "\b\b\b\b\b\b\b\b\b\b\b\b\b\b\b\b\b\b\b\b\b\b\b\b\b\b\b\b\b\b\b\b\b\b\b\b\b\b\b\b\b\b\b\b\b\b\b\b\b\b\b\b\b\b\b\b\b\b\b\b\b\r",
      "5/8 [=================>............] - ETA: 0s - loss: 0.6558"
     ]
    },
    {
     "name": "stdout",
     "output_type": "stream",
     "text": [
      "\b\b\b\b\b\b\b\b\b\b\b\b\b\b\b\b\b\b\b\b\b\b\b\b\b\b\b\b\b\b\b\b\b\b\b\b\b\b\b\b\b\b\b\b\b\b\b\b\b\b\b\b\b\b\b\b\b\b\b\b\b\r",
      "6/8 [=====================>........] - ETA: 0s - loss: 0.6494"
     ]
    },
    {
     "name": "stdout",
     "output_type": "stream",
     "text": [
      "\b\b\b\b\b\b\b\b\b\b\b\b\b\b\b\b\b\b\b\b\b\b\b\b\b\b\b\b\b\b\b\b\b\b\b\b\b\b\b\b\b\b\b\b\b\b\b\b\b\b\b\b\b\b\b\b\b\b\b\b\b\r",
      "7/8 [=========================>....] - ETA: 0s - loss: 0.6429"
     ]
    },
    {
     "name": "stdout",
     "output_type": "stream",
     "text": [
      "\b\b\b\b\b\b\b\b\b\b\b\b\b\b\b\b\b\b\b\b\b\b\b\b\b\b\b\b\b\b\b\b\b\b\b\b\b\b\b\b\b\b\b\b\b\b\b\b\b\b\b\b\b\b\b\b\b\b\b\b\b\r",
      "8/8 [==============================] - 1s 93ms/step - loss: 0.6336 - val_loss: 0.6026\n"
     ]
    },
    {
     "name": "stdout",
     "output_type": "stream",
     "text": [
      "Epoch 8/10\n"
     ]
    },
    {
     "name": "stdout",
     "output_type": "stream",
     "text": [
      "\r",
      "1/8 [==>...........................] - ETA: 0s - loss: 0.5816"
     ]
    },
    {
     "name": "stdout",
     "output_type": "stream",
     "text": [
      "\b\b\b\b\b\b\b\b\b\b\b\b\b\b\b\b\b\b\b\b\b\b\b\b\b\b\b\b\b\b\b\b\b\b\b\b\b\b\b\b\b\b\b\b\b\b\b\b\b\b\b\b\b\b\b\b\b\b\b\b\b\r",
      "2/8 [======>.......................] - ETA: 0s - loss: 0.5781"
     ]
    },
    {
     "name": "stdout",
     "output_type": "stream",
     "text": [
      "\b\b\b\b\b\b\b\b\b\b\b\b\b\b\b\b\b\b\b\b\b\b\b\b\b\b\b\b\b\b\b\b\b\b\b\b\b\b\b\b\b\b\b\b\b\b\b\b\b\b\b\b\b\b\b\b\b\b\b\b\b\r",
      "3/8 [==========>...................] - ETA: 0s - loss: 0.5809"
     ]
    },
    {
     "name": "stdout",
     "output_type": "stream",
     "text": [
      "\b\b\b\b\b\b\b\b\b\b\b\b\b\b\b\b\b\b\b\b\b\b\b\b\b\b\b\b\b\b\b\b\b\b\b\b\b\b\b\b\b\b\b\b\b\b\b\b\b\b\b\b\b\b\b\b\b\b\b\b\b\r",
      "4/8 [==============>...............] - ETA: 0s - loss: 0.5764"
     ]
    },
    {
     "name": "stdout",
     "output_type": "stream",
     "text": [
      "\b\b\b\b\b\b\b\b\b\b\b\b\b\b\b\b\b\b\b\b\b\b\b\b\b\b\b\b\b\b\b\b\b\b\b\b\b\b\b\b\b\b\b\b\b\b\b\b\b\b\b\b\b\b\b\b\b\b\b\b\b\r",
      "5/8 [=================>............] - ETA: 0s - loss: 0.5720"
     ]
    },
    {
     "name": "stdout",
     "output_type": "stream",
     "text": [
      "\b\b\b\b\b\b\b\b\b\b\b\b\b\b\b\b\b\b\b\b\b\b\b\b\b\b\b\b\b\b\b\b\b\b\b\b\b\b\b\b\b\b\b\b\b\b\b\b\b\b\b\b\b\b\b\b\b\b\b\b\b\r",
      "6/8 [=====================>........] - ETA: 0s - loss: 0.5677"
     ]
    },
    {
     "name": "stdout",
     "output_type": "stream",
     "text": [
      "\b\b\b\b\b\b\b\b\b\b\b\b\b\b\b\b\b\b\b\b\b\b\b\b\b\b\b\b\b\b\b\b\b\b\b\b\b\b\b\b\b\b\b\b\b\b\b\b\b\b\b\b\b\b\b\b\b\b\b\b\b\r",
      "7/8 [=========================>....] - ETA: 0s - loss: 0.5666"
     ]
    },
    {
     "name": "stdout",
     "output_type": "stream",
     "text": [
      "\b\b\b\b\b\b\b\b\b\b\b\b\b\b\b\b\b\b\b\b\b\b\b\b\b\b\b\b\b\b\b\b\b\b\b\b\b\b\b\b\b\b\b\b\b\b\b\b\b\b\b\b\b\b\b\b\b\b\b\b\b\r",
      "8/8 [==============================] - 1s 84ms/step - loss: 0.5648 - val_loss: 0.7786\n"
     ]
    },
    {
     "name": "stdout",
     "output_type": "stream",
     "text": [
      "Epoch 9/10\n"
     ]
    },
    {
     "name": "stdout",
     "output_type": "stream",
     "text": [
      "\r",
      "1/8 [==>...........................] - ETA: 0s - loss: 0.5750"
     ]
    },
    {
     "name": "stdout",
     "output_type": "stream",
     "text": [
      "\b\b\b\b\b\b\b\b\b\b\b\b\b\b\b\b\b\b\b\b\b\b\b\b\b\b\b\b\b\b\b\b\b\b\b\b\b\b\b\b\b\b\b\b\b\b\b\b\b\b\b\b\b\b\b\b\b\b\b\b\b\r",
      "2/8 [======>.......................] - ETA: 0s - loss: 0.6021"
     ]
    },
    {
     "name": "stdout",
     "output_type": "stream",
     "text": [
      "\b\b\b\b\b\b\b\b\b\b\b\b\b\b\b\b\b\b\b\b\b\b\b\b\b\b\b\b\b\b\b\b\b\b\b\b\b\b\b\b\b\b\b\b\b\b\b\b\b\b\b\b\b\b\b\b\b\b\b\b\b\r",
      "3/8 [==========>...................] - ETA: 0s - loss: 0.5836"
     ]
    },
    {
     "name": "stdout",
     "output_type": "stream",
     "text": [
      "\b\b\b\b\b\b\b\b\b\b\b\b\b\b\b\b\b\b\b\b\b\b\b\b\b\b\b\b\b\b\b\b\b\b\b\b\b\b\b\b\b\b\b\b\b\b\b\b\b\b\b\b\b\b\b\b\b\b\b\b\b\r",
      "4/8 [==============>...............] - ETA: 0s - loss: 0.5673"
     ]
    },
    {
     "name": "stdout",
     "output_type": "stream",
     "text": [
      "\b\b\b\b\b\b\b\b\b\b\b\b\b\b\b\b\b\b\b\b\b\b\b\b\b\b\b\b\b\b\b\b\b\b\b\b\b\b\b\b\b\b\b\b\b\b\b\b\b\b\b\b\b\b\b\b\b\b\b\b\b\r",
      "5/8 [=================>............] - ETA: 0s - loss: 0.5558"
     ]
    },
    {
     "name": "stdout",
     "output_type": "stream",
     "text": [
      "\b\b\b\b\b\b\b\b\b\b\b\b\b\b\b\b\b\b\b\b\b\b\b\b\b\b\b\b\b\b\b\b\b\b\b\b\b\b\b\b\b\b\b\b\b\b\b\b\b\b\b\b\b\b\b\b\b\b\b\b\b\r",
      "6/8 [=====================>........] - ETA: 0s - loss: 0.5485"
     ]
    },
    {
     "name": "stdout",
     "output_type": "stream",
     "text": [
      "\b\b\b\b\b\b\b\b\b\b\b\b\b\b\b\b\b\b\b\b\b\b\b\b\b\b\b\b\b\b\b\b\b\b\b\b\b\b\b\b\b\b\b\b\b\b\b\b\b\b\b\b\b\b\b\b\b\b\b\b\b\r",
      "7/8 [=========================>....] - ETA: 0s - loss: 0.5435"
     ]
    },
    {
     "name": "stdout",
     "output_type": "stream",
     "text": [
      "\b\b\b\b\b\b\b\b\b\b\b\b\b\b\b\b\b\b\b\b\b\b\b\b\b\b\b\b\b\b\b\b\b\b\b\b\b\b\b\b\b\b\b\b\b\b\b\b\b\b\b\b\b\b\b\b\b\b\b\b\b\r",
      "8/8 [==============================] - 1s 96ms/step - loss: 0.5365 - val_loss: 0.5447\n"
     ]
    },
    {
     "name": "stdout",
     "output_type": "stream",
     "text": [
      "Epoch 10/10\n",
      "\r",
      "1/8 [==>...........................] - ETA: 0s - loss: 0.4804"
     ]
    },
    {
     "name": "stdout",
     "output_type": "stream",
     "text": [
      "\b\b\b\b\b\b\b\b\b\b\b\b\b\b\b\b\b\b\b\b\b\b\b\b\b\b\b\b\b\b\b\b\b\b\b\b\b\b\b\b\b\b\b\b\b\b\b\b\b\b\b\b\b\b\b\b\b\b\b\b\b\r",
      "2/8 [======>.......................] - ETA: 0s - loss: 0.5018"
     ]
    },
    {
     "name": "stdout",
     "output_type": "stream",
     "text": [
      "\b\b\b\b\b\b\b\b\b\b\b\b\b\b\b\b\b\b\b\b\b\b\b\b\b\b\b\b\b\b\b\b\b\b\b\b\b\b\b\b\b\b\b\b\b\b\b\b\b\b\b\b\b\b\b\b\b\b\b\b\b\r",
      "3/8 [==========>...................] - ETA: 0s - loss: 0.4980"
     ]
    },
    {
     "name": "stdout",
     "output_type": "stream",
     "text": [
      "\b\b\b\b\b\b\b\b\b\b\b\b\b\b\b\b\b\b\b\b\b\b\b\b\b\b\b\b\b\b\b\b\b\b\b\b\b\b\b\b\b\b\b\b\b\b\b\b\b\b\b\b\b\b\b\b\b\b\b\b\b\r",
      "4/8 [==============>...............] - ETA: 0s - loss: 0.4908"
     ]
    },
    {
     "name": "stdout",
     "output_type": "stream",
     "text": [
      "\b\b\b\b\b\b\b\b\b\b\b\b\b\b\b\b\b\b\b\b\b\b\b\b\b\b\b\b\b\b\b\b\b\b\b\b\b\b\b\b\b\b\b\b\b\b\b\b\b\b\b\b\b\b\b\b\b\b\b\b\b\r",
      "5/8 [=================>............] - ETA: 0s - loss: 0.4890"
     ]
    },
    {
     "name": "stdout",
     "output_type": "stream",
     "text": [
      "\b\b\b\b\b\b\b\b\b\b\b\b\b\b\b\b\b\b\b\b\b\b\b\b\b\b\b\b\b\b\b\b\b\b\b\b\b\b\b\b\b\b\b\b\b\b\b\b\b\b\b\b\b\b\b\b\b\b\b\b\b\r",
      "6/8 [=====================>........] - ETA: 0s - loss: 0.4859"
     ]
    },
    {
     "name": "stdout",
     "output_type": "stream",
     "text": [
      "\b\b\b\b\b\b\b\b\b\b\b\b\b\b\b\b\b\b\b\b\b\b\b\b\b\b\b\b\b\b\b\b\b\b\b\b\b\b\b\b\b\b\b\b\b\b\b\b\b\b\b\b\b\b\b\b\b\b\b\b\b\r",
      "7/8 [=========================>....] - ETA: 0s - loss: 0.4812"
     ]
    },
    {
     "name": "stdout",
     "output_type": "stream",
     "text": [
      "\b\b\b\b\b\b\b\b\b\b\b\b\b\b\b\b\b\b\b\b\b\b\b\b\b\b\b\b\b\b\b\b\b\b\b\b\b\b\b\b\b\b\b\b\b\b\b\b\b\b\b\b\b\b\b\b\b\b\b\b\b\r",
      "8/8 [==============================] - 1s 84ms/step - loss: 0.4750 - val_loss: 0.6588\n"
     ]
    },
    {
     "data": {
      "text/plain": [
       "MultiDimensionalClassifier(\n",
       "\tmodel=<function get_model at 0x7f6085b1c0d0>\n",
       "\tbuild_fn=None\n",
       "\twarm_start=False\n",
       "\trandom_state=0\n",
       "\toptimizer=rmsprop\n",
       "\tloss=None\n",
       "\tmetrics=None\n",
       "\tbatch_size=128\n",
       "\tverbose=1\n",
       "\tcallbacks=None\n",
       "\tvalidation_split=0.1\n",
       "\tshuffle=True\n",
       "\trun_eagerly=False\n",
       "\tepochs=10\n",
       "\tclass_weight=None\n",
       ")"
      ]
     },
     "execution_count": 1,
     "metadata": {},
     "output_type": "execute_result"
    }
   ],
   "source": [
    "clf.fit(x_train, y_train)"
   ]
  },
  {
   "cell_type": "code",
   "execution_count": 29,
   "id": "proprietary-architect",
   "metadata": {
    "execution": {
     "iopub.execute_input": "2021-01-31T08:44:35.940703Z",
     "iopub.status.busy": "2021-01-31T08:44:35.940130Z",
     "iopub.status.idle": "2021-01-31T08:44:36.177589Z",
     "shell.execute_reply": "2021-01-31T08:44:36.176895Z"
    }
   },
   "outputs": [
    {
     "name": "stdout",
     "output_type": "stream",
     "text": [
      "\r",
      "1/8 [==>...........................] - ETA: 0s"
     ]
    },
    {
     "name": "stdout",
     "output_type": "stream",
     "text": [
      "\b\b\b\b\b\b\b\b\b\b\b\b\b\b\b\b\b\b\b\b\b\b\b\b\b\b\b\b\b\b\b\b\b\b\b\b\b\b\b\b\b\b\b\b\b\b\r",
      "4/8 [==============>...............] - ETA: 0s"
     ]
    },
    {
     "name": "stdout",
     "output_type": "stream",
     "text": [
      "\b\b\b\b\b\b\b\b\b\b\b\b\b\b\b\b\b\b\b\b\b\b\b\b\b\b\b\b\b\b\b\b\b\b\b\b\b\b\b\b\b\b\b\b\b\b\r",
      "7/8 [=========================>....] - ETA: 0s"
     ]
    },
    {
     "name": "stdout",
     "output_type": "stream",
     "text": [
      "\b\b\b\b\b\b\b\b\b\b\b\b\b\b\b\b\b\b\b\b\b\b\b\b\b\b\b\b\b\b\b\b\b\b\b\b\b\b\b\b\b\b\b\b\b\b\r",
      "8/8 [==============================] - 0s 21ms/step\n"
     ]
    },
    {
     "name": "stdout",
     "output_type": "stream",
     "text": [
      "Test score (accuracy): 0.76\n"
     ]
    }
   ],
   "source": [
    "score = clf.score(x_test, y_test)\n",
    "print(f\"Test score (accuracy): {score:.2f}\")"
   ]
  },
  {
   "cell_type": "markdown",
   "id": "worthy-gothic",
   "metadata": {},
   "source": [
    "## 5. Ragged datasets with tf.data.Dataset\n",
    "\n",
    "SciKeras provides a third dependency injection point that operates on the entire dataset: X, y & sample_weight. This `dataset_transformer` is applied after `target_transformer` and `feature_transformer`. One use case for this dependency injection point is to transform data from tabular/array-like to the `tf.data.Dataset` format, which only requires iteration. We can use this to create a `tf.data.Dataset` of ragged tensors.\n",
    "\n",
    "Note that `dataset_transformer` should accept a single **3 element tuple** as its argument and return value; more details on this are in the [docs](https://www.adriangb.com/scikeras/refs/heads/master/advanced.html#data-transformers).\n",
    "\n",
    "Let's start by defining our data. We'll have an extra \"feature\" that marks the observation index, but we'll remove it when we deconstruct our data in the transformer."
   ]
  },
  {
   "cell_type": "code",
   "execution_count": 30,
   "id": "breathing-violence",
   "metadata": {
    "execution": {
     "iopub.execute_input": "2021-01-31T08:44:36.183065Z",
     "iopub.status.busy": "2021-01-31T08:44:36.182503Z",
     "iopub.status.idle": "2021-01-31T08:44:36.189634Z",
     "shell.execute_reply": "2021-01-31T08:44:36.189040Z"
    }
   },
   "outputs": [],
   "source": [
    "feature_1 = np.random.uniform(size=(10, ))\n",
    "feature_2 = np.random.uniform(size=(10, ))\n",
    "obs = [0, 0, 0, 1, 1, 2, 3, 3, 4, 4]\n",
    "\n",
    "X = np.column_stack([feature_1, feature_2, obs]).astype(\"float32\")\n",
    "\n",
    "y = np.array([\"class1\"] * 5 + [\"class2\"] * 5, dtype=str)"
   ]
  },
  {
   "cell_type": "markdown",
   "id": "subtle-andrew",
   "metadata": {},
   "source": [
    "Next, we define our `dataset_transformer`. We will do this by defining a custom forward transformation outside of the Keras model. Note that we do not define an inverse transformation since that is never used.\n",
    "Also note that `dataset_transformer` will _always_ be called with `X` (i.e. the first element of the tuple will always be populated), but will be called with `y=None` when used for `predict`. Thus,\n",
    "you should check if `y` and `sample_weigh` are None before doing any operations on them."
   ]
  },
  {
   "cell_type": "code",
   "execution_count": 31,
   "id": "straight-airport",
   "metadata": {
    "execution": {
     "iopub.execute_input": "2021-01-31T08:44:36.196952Z",
     "iopub.status.busy": "2021-01-31T08:44:36.196457Z",
     "iopub.status.idle": "2021-01-31T08:44:36.204469Z",
     "shell.execute_reply": "2021-01-31T08:44:36.205046Z"
    }
   },
   "outputs": [],
   "source": [
    "from typing import Tuple, Optional\n",
    "\n",
    "import tensorflow as tf\n",
    "\n",
    "\n",
    "def ragged_transformer(data: Tuple[np.ndarray, Optional[np.ndarray], Optional[np.ndarray]]) -> Tuple[tf.RaggedTensor, None, None]:\n",
    "    X, y, sample_weights = data\n",
    "    if y is not None:\n",
    "        y = y.reshape(-1, 1 if len(y.shape) == 1 else y.shape[1])\n",
    "        y = y[tf.RaggedTensor.from_value_rowids(y, X[:, -1]).row_starts().numpy()]\n",
    "    if sample_weights is not None:\n",
    "        sample_weights = sample_weights.reshape(-1, 1 if len(sample_weights.shape) == 1 else sample_weights.shape[1])\n",
    "        sample_weights = sample_weights[tf.RaggedTensor.from_value_rowids(sample_weights, X[:, -1]).row_starts().numpy()]\n",
    "    X = tf.RaggedTensor.from_value_rowids(X[:, :-1], X[:, -1])\n",
    "    return (X, y, sample_weights)"
   ]
  },
  {
   "cell_type": "markdown",
   "id": "constant-chemistry",
   "metadata": {},
   "source": [
    "In this case, we chose to keep `y` and `sample_weights` as numpy arrays, which will allow us to re-use ClassWeightDataTransformer,\n",
    "the default `dataset_transformer` for `KerasClassifier`.\n",
    "\n",
    "Lets quickly test our transformer:"
   ]
  },
  {
   "cell_type": "code",
   "execution_count": 32,
   "id": "intelligent-samba",
   "metadata": {
    "execution": {
     "iopub.execute_input": "2021-01-31T08:44:36.212255Z",
     "iopub.status.busy": "2021-01-31T08:44:36.211766Z",
     "iopub.status.idle": "2021-01-31T08:44:36.223468Z",
     "shell.execute_reply": "2021-01-31T08:44:36.223834Z"
    }
   },
   "outputs": [
    {
     "data": {
      "text/plain": [
       "(<tf.RaggedTensor [[[0.6039828658103943, 0.14394311606884003], [0.14573360979557037, 0.895762026309967], [0.6425812244415283, 0.2927854061126709]], [[0.6371216773986816, 0.10064717382192612], [0.577718198299408, 0.8096828460693359]], [[0.663972020149231, 0.7589415907859802]], [[0.10806237906217575, 0.8295683264732361], [0.9509028196334839, 0.004518588539212942]], [[0.5500152111053467, 0.9995275139808655], [0.9387983083724976, 0.010633467696607113]]]>,\n",
       " array([['class1'],\n",
       "        ['class1'],\n",
       "        ['class2'],\n",
       "        ['class2'],\n",
       "        ['class2']], dtype='<U6'),\n",
       " None)"
      ]
     },
     "execution_count": 1,
     "metadata": {},
     "output_type": "execute_result"
    }
   ],
   "source": [
    "data = ragged_transformer((X, y, None))\n",
    "data"
   ]
  },
  {
   "cell_type": "code",
   "execution_count": 33,
   "id": "minor-wednesday",
   "metadata": {
    "execution": {
     "iopub.execute_input": "2021-01-31T08:44:36.226452Z",
     "iopub.status.busy": "2021-01-31T08:44:36.225858Z",
     "iopub.status.idle": "2021-01-31T08:44:36.246390Z",
     "shell.execute_reply": "2021-01-31T08:44:36.245943Z"
    }
   },
   "outputs": [
    {
     "data": {
      "text/plain": [
       "(<tf.RaggedTensor [[[0.6039828658103943, 0.14394311606884003], [0.14573360979557037, 0.895762026309967], [0.6425812244415283, 0.2927854061126709]], [[0.6371216773986816, 0.10064717382192612], [0.577718198299408, 0.8096828460693359]], [[0.663972020149231, 0.7589415907859802]], [[0.10806237906217575, 0.8295683264732361], [0.9509028196334839, 0.004518588539212942]], [[0.5500152111053467, 0.9995275139808655], [0.9387983083724976, 0.010633467696607113]]]>,\n",
       " None,\n",
       " None)"
      ]
     },
     "execution_count": 1,
     "metadata": {},
     "output_type": "execute_result"
    }
   ],
   "source": [
    "data = ragged_transformer((X, None, None))\n",
    "data"
   ]
  },
  {
   "cell_type": "markdown",
   "id": "headed-sierra",
   "metadata": {},
   "source": [
    "Our shapes look good, and we can handle the `y=None` case.\n",
    "\n",
    "Because Keras will not accept a RaggedTensor directly, we will need to wrap our entire dataset into a tensorflow `Dataset`. We can do this by adding one more transformation step:\n",
    "\n",
    "Next, we can add our transormers to our model. We use an sklearn `Pipeline` (generated via `make_pipeline`) to keep ClassWeightDataTransformer operational while implementing our custom transformation."
   ]
  },
  {
   "cell_type": "code",
   "execution_count": 34,
   "id": "annual-scroll",
   "metadata": {
    "execution": {
     "iopub.execute_input": "2021-01-31T08:44:36.251291Z",
     "iopub.status.busy": "2021-01-31T08:44:36.250788Z",
     "iopub.status.idle": "2021-01-31T08:44:36.253415Z",
     "shell.execute_reply": "2021-01-31T08:44:36.254049Z"
    }
   },
   "outputs": [],
   "source": [
    "def dataset_transformer(data: Tuple[np.ndarray, Optional[np.ndarray], Optional[np.ndarray]]) -> Tuple[tf.data.Dataset, None, None]:\n",
    "    return (tf.data.Dataset.from_tensor_slices(data), None, None)"
   ]
  },
  {
   "cell_type": "code",
   "execution_count": 35,
   "id": "delayed-amber",
   "metadata": {
    "execution": {
     "iopub.execute_input": "2021-01-31T08:44:36.259287Z",
     "iopub.status.busy": "2021-01-31T08:44:36.256181Z",
     "iopub.status.idle": "2021-01-31T08:44:36.270294Z",
     "shell.execute_reply": "2021-01-31T08:44:36.269513Z"
    }
   },
   "outputs": [],
   "source": [
    "from sklearn.preprocessing import FunctionTransformer\n",
    "from sklearn.pipeline import make_pipeline\n",
    "\n",
    "\n",
    "class RaggedClassifier(KerasClassifier):\n",
    "\n",
    "    @property\n",
    "    def dataset_transformer(self):\n",
    "        t1 = FunctionTransformer(ragged_transformer)\n",
    "        t2 = super().dataset_transformer  # ClassWeightDataTransformer\n",
    "        t3 = FunctionTransformer(dataset_transformer)\n",
    "        t4 = \"passthrough\"  # see https://scikit-learn.org/stable/modules/compose.html#pipeline-chaining-estimators\n",
    "        return make_pipeline(t1, t2, t3, t4)"
   ]
  },
  {
   "cell_type": "markdown",
   "id": "impressive-catalog",
   "metadata": {},
   "source": [
    "Now we can define a Model. We need some way to handle/flatten our ragged arrays within our model. For this example, we use a custom mean layer, but you could use an Embedding layer, LSTM, etc."
   ]
  },
  {
   "cell_type": "code",
   "execution_count": 36,
   "id": "collect-negotiation",
   "metadata": {
    "execution": {
     "iopub.execute_input": "2021-01-31T08:44:36.277316Z",
     "iopub.status.busy": "2021-01-31T08:44:36.276810Z",
     "iopub.status.idle": "2021-01-31T08:44:36.288697Z",
     "shell.execute_reply": "2021-01-31T08:44:36.289490Z"
    }
   },
   "outputs": [],
   "source": [
    "from tensorflow import reduce_mean, reshape\n",
    "from tensorflow.keras import Sequential, layers\n",
    "\n",
    "\n",
    "class CustomMean(layers.Layer):\n",
    "\n",
    "    def __init__(self, axis=None):\n",
    "        super(CustomMean, self).__init__()\n",
    "        self._supports_ragged_inputs = True\n",
    "        self.axis = axis\n",
    "\n",
    "    def call(self, inputs, **kwargs):\n",
    "        input_shape = inputs.get_shape()\n",
    "        return reshape(reduce_mean(inputs, axis=self.axis), (1, *input_shape[1:]))\n",
    "\n",
    "\n",
    "def get_model(meta):\n",
    "    inp_shape = meta[\"X_shape_\"][1]-1\n",
    "    model = Sequential([               \n",
    "        layers.Input(shape=(inp_shape,), ragged=True),\n",
    "        CustomMean(axis=0),\n",
    "        layers.Dense(1, activation='sigmoid')\n",
    "    ])\n",
    "    return model"
   ]
  },
  {
   "cell_type": "markdown",
   "id": "generous-salem",
   "metadata": {},
   "source": [
    "And attach our model to our classifier wrapper:"
   ]
  },
  {
   "cell_type": "code",
   "execution_count": 37,
   "id": "generous-airplane",
   "metadata": {
    "execution": {
     "iopub.execute_input": "2021-01-31T08:44:36.292747Z",
     "iopub.status.busy": "2021-01-31T08:44:36.291796Z",
     "iopub.status.idle": "2021-01-31T08:44:36.296660Z",
     "shell.execute_reply": "2021-01-31T08:44:36.295961Z"
    }
   },
   "outputs": [],
   "source": [
    "clf = RaggedClassifier(get_model, loss=\"bce\")"
   ]
  },
  {
   "cell_type": "markdown",
   "id": "urban-efficiency",
   "metadata": {},
   "source": [
    "Finally, let's train and predict:"
   ]
  },
  {
   "cell_type": "code",
   "execution_count": 38,
   "id": "convinced-monkey",
   "metadata": {
    "execution": {
     "iopub.execute_input": "2021-01-31T08:44:36.309637Z",
     "iopub.status.busy": "2021-01-31T08:44:36.309138Z",
     "iopub.status.idle": "2021-01-31T08:44:36.719330Z",
     "shell.execute_reply": "2021-01-31T08:44:36.718184Z"
    }
   },
   "outputs": [
    {
     "name": "stdout",
     "output_type": "stream",
     "text": [
      "\r",
      "1/5 [=====>........................] - ETA: 1s - loss: 0.8790"
     ]
    },
    {
     "name": "stdout",
     "output_type": "stream",
     "text": [
      "\b\b\b\b\b\b\b\b\b\b\b\b\b\b\b\b\b\b\b\b\b\b\b\b\b\b\b\b\b\b\b\b\b\b\b\b\b\b\b\b\b\b\b\b\b\b\b\b\b\b\b\b\b\b\b\b\b\b\b\b\b\r",
      "5/5 [==============================] - 0s 1ms/step - loss: 0.7534\n"
     ]
    },
    {
     "name": "stdout",
     "output_type": "stream",
     "text": [
      "\r",
      "1/5 [=====>........................] - ETA: 0s"
     ]
    },
    {
     "name": "stdout",
     "output_type": "stream",
     "text": [
      "\b\b\b\b\b\b\b\b\b\b\b\b\b\b\b\b\b\b\b\b\b\b\b\b\b\b\b\b\b\b\b\b\b\b\b\b\b\b\b\b\b\b\b\b\b\b\r",
      "5/5 [==============================] - 0s 1ms/step\n"
     ]
    },
    {
     "data": {
      "text/plain": [
       "array(['class2', 'class2', 'class2', 'class2', 'class2'], dtype='<U6')"
      ]
     },
     "execution_count": 1,
     "metadata": {},
     "output_type": "execute_result"
    }
   ],
   "source": [
    "clf.fit(X, y)\n",
    "y_pred = clf.predict(X)\n",
    "y_pred"
   ]
  },
  {
   "cell_type": "markdown",
   "id": "excess-discovery",
   "metadata": {},
   "source": [
    "If we define our custom layers, transformers and wrappers in their own module, we can easily create a self-contained classifier that is able to handle ragged datasets and has a clean Scikit-Learn compatible API:"
   ]
  },
  {
   "cell_type": "code",
   "execution_count": 39,
   "id": "interesting-vaccine",
   "metadata": {
    "execution": {
     "iopub.execute_input": "2021-01-31T08:44:36.725147Z",
     "iopub.status.busy": "2021-01-31T08:44:36.724668Z",
     "iopub.status.idle": "2021-01-31T08:44:36.726214Z",
     "shell.execute_reply": "2021-01-31T08:44:36.726594Z"
    }
   },
   "outputs": [],
   "source": [
    "class RaggedClassifier(KerasClassifier):\n",
    "\n",
    "    @property\n",
    "    def dataset_transformer(self):\n",
    "        t1 = FunctionTransformer(ragged_transformer)\n",
    "        t2 = super().dataset_transformer  # ClassWeightDataTransformer\n",
    "        t3 = FunctionTransformer(dataset_transformer)\n",
    "        t4 = \"passthrough\"  # see https://scikit-learn.org/stable/modules/compose.html#pipeline-chaining-estimators\n",
    "        return make_pipeline(t1, t2, t3, t4)\n",
    "    \n",
    "    def _keras_build_fn(self):\n",
    "        inp_shape = self.X_shape_[1] - 1\n",
    "        model = Sequential([               \n",
    "            layers.Input(shape=(inp_shape,), ragged=True),\n",
    "            CustomMean(axis=0),\n",
    "            layers.Dense(1, activation='sigmoid')\n",
    "        ])\n",
    "        return model"
   ]
  },
  {
   "cell_type": "code",
   "execution_count": 40,
   "id": "direct-biodiversity",
   "metadata": {
    "execution": {
     "iopub.execute_input": "2021-01-31T08:44:36.728868Z",
     "iopub.status.busy": "2021-01-31T08:44:36.728404Z",
     "iopub.status.idle": "2021-01-31T08:44:37.156845Z",
     "shell.execute_reply": "2021-01-31T08:44:37.156269Z"
    }
   },
   "outputs": [
    {
     "name": "stdout",
     "output_type": "stream",
     "text": [
      "\r",
      "1/5 [=====>........................] - ETA: 1s - loss: 0.9557"
     ]
    },
    {
     "name": "stdout",
     "output_type": "stream",
     "text": [
      "\b\b\b\b\b\b\b\b\b\b\b\b\b\b\b\b\b\b\b\b\b\b\b\b\b\b\b\b\b\b\b\b\b\b\b\b\b\b\b\b\b\b\b\b\b\b\b\b\b\b\b\b\b\b\b\b\b\b\b\b\b\r",
      "5/5 [==============================] - 0s 1ms/step - loss: 0.7849\n"
     ]
    },
    {
     "name": "stdout",
     "output_type": "stream",
     "text": [
      "\r",
      "1/5 [=====>........................] - ETA: 0s"
     ]
    },
    {
     "name": "stdout",
     "output_type": "stream",
     "text": [
      "\b\b\b\b\b\b\b\b\b\b\b\b\b\b\b\b\b\b\b\b\b\b\b\b\b\b\b\b\b\b\b\b\b\b\b\b\b\b\b\b\b\b\b\b\b\b\r",
      "5/5 [==============================] - 0s 829us/step\n"
     ]
    },
    {
     "data": {
      "text/plain": [
       "array(['class2', 'class2', 'class2', 'class2', 'class2'], dtype='<U6')"
      ]
     },
     "execution_count": 1,
     "metadata": {},
     "output_type": "execute_result"
    }
   ],
   "source": [
    "clf = RaggedClassifier(loss=\"bce\")\n",
    "clf.fit(X, y)\n",
    "y_pred = clf.predict(X)\n",
    "y_pred"
   ]
  },
  {
   "cell_type": "markdown",
   "id": "thrown-complexity",
   "metadata": {},
   "source": [
    "## 6. Multi-output class_weight\n",
    "\n",
    "In this example, we will use `dataset_transformer` to support multi-output class weights. We will re-use our `MultiOutputTransformer` from our previous example to split the output, then we will create `sample_weights` from `class_weight`"
   ]
  },
  {
   "cell_type": "code",
   "execution_count": 41,
   "id": "gross-shade",
   "metadata": {
    "execution": {
     "iopub.execute_input": "2021-01-31T08:44:37.168282Z",
     "iopub.status.busy": "2021-01-31T08:44:37.167791Z",
     "iopub.status.idle": "2021-01-31T08:44:37.169238Z",
     "shell.execute_reply": "2021-01-31T08:44:37.169773Z"
    }
   },
   "outputs": [],
   "source": [
    "from collections import defaultdict\n",
    "from typing import Union\n",
    "\n",
    "from sklearn.utils.class_weight import compute_sample_weight\n",
    "\n",
    "\n",
    "class DatasetTransformer(BaseEstimator, TransformerMixin):\n",
    "\n",
    "    def __init__(self, output_names, class_weight=None):\n",
    "        self.class_weight = class_weight\n",
    "        self.output_names = output_names\n",
    "\n",
    "    def fit(self, data: Tuple[np.ndarray, Optional[np.ndarray], Optional[np.ndarray]]) -> \"DatasetTransformer\":\n",
    "        return self\n",
    "\n",
    "    def transform(self, data: Tuple[np.ndarray, Optional[np.ndarray], Optional[np.ndarray]]) -> Tuple[np.ndarray, Union[np.ndarray, None], Union[np.ndarray, None]]:\n",
    "        if self.class_weight is None:\n",
    "            return data\n",
    "        class_weight = self.class_weight\n",
    "        if isinstance(class_weight, str):  # handle \"balanced\"\n",
    "            class_weight_ = class_weight\n",
    "            class_weight = defaultdict(lambda: class_weight_)\n",
    "        X, y, sample_weights = data\n",
    "        assert sample_weights is None, \"Cannot use class_weight & sample_weights together\"\n",
    "        if y is not None:\n",
    "            # y should be a list of arrays, as split up by MultiOutputTransformer\n",
    "            sample_weights = {\n",
    "                output_name: compute_sample_weight(class_weight[output_num], output_data)\n",
    "                for output_num, (output_name, output_data) in enumerate(zip(self.output_names, y))\n",
    "            }\n",
    "            # Note: class_weight is expected to be indexable by output_number in sklearn\n",
    "            # see https://scikit-learn.org/stable/modules/generated/sklearn.utils.class_weight.compute_sample_weight.html\n",
    "            # It is trivial to change the expected format to match Keras' ({output_name: weights, ...})\n",
    "            # see https://github.com/keras-team/keras/issues/4735#issuecomment-267473722\n",
    "        return X, y, sample_weights\n"
   ]
  },
  {
   "cell_type": "code",
   "execution_count": 42,
   "id": "suburban-hometown",
   "metadata": {
    "execution": {
     "iopub.execute_input": "2021-01-31T08:44:37.172162Z",
     "iopub.status.busy": "2021-01-31T08:44:37.171649Z",
     "iopub.status.idle": "2021-01-31T08:44:37.185921Z",
     "shell.execute_reply": "2021-01-31T08:44:37.185296Z"
    }
   },
   "outputs": [],
   "source": [
    "def get_model(meta, compile_kwargs):\n",
    "    inp = keras.layers.Input(shape=(meta[\"n_features_in_\"]))\n",
    "    x1 = keras.layers.Dense(100, activation=\"relu\")(inp)\n",
    "    out_bin = keras.layers.Dense(1, activation=\"sigmoid\")(x1)\n",
    "    out_cat = keras.layers.Dense(meta[\"n_classes_\"][1], activation=\"softmax\")(x1)\n",
    "    model = keras.Model(inputs=inp, outputs=[out_bin, out_cat])\n",
    "    model.compile(\n",
    "        loss=[\"binary_crossentropy\", \"sparse_categorical_crossentropy\"],\n",
    "        optimizer=compile_kwargs[\"optimizer\"]\n",
    "    )\n",
    "    return model\n",
    "\n",
    "\n",
    "class CustomClassifier(KerasClassifier):\n",
    "\n",
    "    @property\n",
    "    def target_encoder(self):\n",
    "        return MultiOutputTransformer()\n",
    "    \n",
    "    @property\n",
    "    def dataset_transformer(self):\n",
    "        return DatasetTransformer(\n",
    "            output_names=self.model_.output_names,\n",
    "            class_weight=self.class_weight\n",
    "        )"
   ]
  },
  {
   "cell_type": "markdown",
   "id": "democratic-albany",
   "metadata": {},
   "source": [
    "Next, we define the data. We'll use `sklearn.datasets.make_blobs` to generate a relatively noisy dataset:"
   ]
  },
  {
   "cell_type": "code",
   "execution_count": 43,
   "id": "confident-relative",
   "metadata": {
    "execution": {
     "iopub.execute_input": "2021-01-31T08:44:37.192219Z",
     "iopub.status.busy": "2021-01-31T08:44:37.191754Z",
     "iopub.status.idle": "2021-01-31T08:44:37.233506Z",
     "shell.execute_reply": "2021-01-31T08:44:37.234152Z"
    }
   },
   "outputs": [],
   "source": [
    "from sklearn.datasets import make_blobs\n",
    "\n",
    "\n",
    "X, y = make_blobs(centers=3, random_state=0, cluster_std=20)\n",
    "# make a binary target for \"is the value of the first class?\"\n",
    "y_bin = y == y[0]\n",
    "y = np.column_stack([y_bin, y])"
   ]
  },
  {
   "cell_type": "markdown",
   "id": "asian-invention",
   "metadata": {},
   "source": [
    "Test the model without specifying class weighting:"
   ]
  },
  {
   "cell_type": "code",
   "execution_count": 44,
   "id": "lyric-jewelry",
   "metadata": {
    "execution": {
     "iopub.execute_input": "2021-01-31T08:44:37.239456Z",
     "iopub.status.busy": "2021-01-31T08:44:37.238976Z",
     "iopub.status.idle": "2021-01-31T08:44:38.522593Z",
     "shell.execute_reply": "2021-01-31T08:44:38.522986Z"
    }
   },
   "outputs": [
    {
     "name": "stdout",
     "output_type": "stream",
     "text": [
      "[91  9]\n",
      "[28 30 42]\n"
     ]
    }
   ],
   "source": [
    "clf = CustomClassifier(get_model, epochs=100, verbose=0, random_state=0)\n",
    "clf.fit(X, y)\n",
    "y_pred = clf.predict(X)\n",
    "(_, counts_bin) = np.unique(y_pred[:, 0], return_counts=True)\n",
    "print(counts_bin)\n",
    "(_, counts_cat) = np.unique(y_pred[:, 1], return_counts=True)\n",
    "print(counts_cat)"
   ]
  },
  {
   "cell_type": "markdown",
   "id": "vocal-commonwealth",
   "metadata": {},
   "source": [
    "As you can see, without `class_weight=\"balanced\"`, our classifier only predicts mainly a single class for the first output. Now with `class_weight=\"balanced\"`:"
   ]
  },
  {
   "cell_type": "code",
   "execution_count": 45,
   "id": "external-arrest",
   "metadata": {
    "execution": {
     "iopub.execute_input": "2021-01-31T08:44:38.525463Z",
     "iopub.status.busy": "2021-01-31T08:44:38.524985Z",
     "iopub.status.idle": "2021-01-31T08:44:40.182285Z",
     "shell.execute_reply": "2021-01-31T08:44:40.182832Z"
    }
   },
   "outputs": [
    {
     "name": "stdout",
     "output_type": "stream",
     "text": [
      "[57 43]\n",
      "[27 27 46]\n"
     ]
    }
   ],
   "source": [
    "clf = CustomClassifier(get_model, class_weight=\"balanced\", epochs=100, verbose=0, random_state=0)\n",
    "clf.fit(X, y)\n",
    "y_pred = clf.predict(X)\n",
    "(_, counts_bin) = np.unique(y_pred[:, 0], return_counts=True)\n",
    "print(counts_bin)\n",
    "(_, counts_cat) = np.unique(y_pred[:, 1], return_counts=True)\n",
    "print(counts_cat)"
   ]
  },
  {
   "cell_type": "markdown",
   "id": "identical-prefix",
   "metadata": {},
   "source": [
    "Now, we get (mostly) balanced classes. But what if we want to specify our classes manually? You will notice that in when we defined `DatasetTransformer`, we gave it the ability to handle\n",
    "a list of class weights. For demonstration purposes, we will highly bias towards the second class in each output:"
   ]
  },
  {
   "cell_type": "code",
   "execution_count": 46,
   "id": "distinguished-parking",
   "metadata": {
    "execution": {
     "iopub.execute_input": "2021-01-31T08:44:40.185291Z",
     "iopub.status.busy": "2021-01-31T08:44:40.184769Z",
     "iopub.status.idle": "2021-01-31T08:44:41.476465Z",
     "shell.execute_reply": "2021-01-31T08:44:41.476834Z"
    }
   },
   "outputs": [
    {
     "name": "stdout",
     "output_type": "stream",
     "text": [
      "[ 7 93]\n",
      "[ 2 98]\n"
     ]
    }
   ],
   "source": [
    "clf = CustomClassifier(get_model, class_weight=[{0: 0.1, 1: 1}, {0: 0.1, 1: 1, 2: 0.1}], epochs=100, verbose=0, random_state=0)\n",
    "clf.fit(X, y)\n",
    "y_pred = clf.predict(X)\n",
    "(_, counts_bin) = np.unique(y_pred[:, 0], return_counts=True)\n",
    "print(counts_bin)\n",
    "(_, counts_cat) = np.unique(y_pred[:, 1], return_counts=True)\n",
    "print(counts_cat)"
   ]
  },
  {
   "cell_type": "markdown",
   "id": "reverse-motorcycle",
   "metadata": {},
   "source": [
    "Or mixing the two methods, because our first output is unbalanced but our second is (presumably) balanced:"
   ]
  },
  {
   "cell_type": "code",
   "execution_count": 47,
   "id": "blocked-straight",
   "metadata": {
    "execution": {
     "iopub.execute_input": "2021-01-31T08:44:41.482279Z",
     "iopub.status.busy": "2021-01-31T08:44:41.481816Z",
     "iopub.status.idle": "2021-01-31T08:44:43.035190Z",
     "shell.execute_reply": "2021-01-31T08:44:43.035585Z"
    }
   },
   "outputs": [
    {
     "name": "stdout",
     "output_type": "stream",
     "text": [
      "[57 43]\n",
      "[30 25 45]\n"
     ]
    }
   ],
   "source": [
    "clf = CustomClassifier(get_model, class_weight=[\"balanced\", None], epochs=100, verbose=0, random_state=0)\n",
    "clf.fit(X, y)\n",
    "y_pred = clf.predict(X)\n",
    "(_, counts_bin) = np.unique(y_pred[:, 0], return_counts=True)\n",
    "print(counts_bin)\n",
    "(_, counts_cat) = np.unique(y_pred[:, 1], return_counts=True)\n",
    "print(counts_cat)"
   ]
  }
 ],
 "metadata": {
  "jupytext": {
   "formats": "ipynb,md"
  },
  "kernelspec": {
   "display_name": "Python 3",
   "language": "python",
   "name": "python3"
  },
  "language_info": {
   "codemirror_mode": {
    "name": "ipython",
    "version": 3
   },
   "file_extension": ".py",
   "mimetype": "text/x-python",
   "name": "python",
   "nbconvert_exporter": "python",
   "pygments_lexer": "ipython3",
   "version": "3.8.7"
  }
 },
 "nbformat": 4,
 "nbformat_minor": 5
}
