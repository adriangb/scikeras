{
 "cells": [
  {
   "cell_type": "raw",
   "id": "working-criticism",
   "metadata": {},
   "source": [
    "<a href=\"https://colab.research.google.com/github/adriangb/scikeras/blob/docs-deploy/refs/heads/master/notebooks/DataTransformers.ipynb\"><img src=\"https://www.tensorflow.org/images/colab_logo_32px.png\">Run in Google Colab</a>"
   ]
  },
  {
   "cell_type": "markdown",
   "id": "trained-classic",
   "metadata": {},
   "source": [
    "# Data Transformers\n",
    "\n",
    "Keras support many types of input and output data formats, including:\n",
    "\n",
    "* Multiple inputs\n",
    "* Multiple outputs\n",
    "* Higher-dimensional tensors\n",
    "\n",
    "This notebook walks through an example of the different data transformations and how SciKeras bridges Keras and Scikit-learn.\n",
    "It may be helpful to have a general understanding of the dataflow before tackling these examples, which is available in\n",
    "the [data transformer docs](https://www.adriangb.com/scikeras/refs/heads/master/advanced.html#data-transformers).\n",
    "\n",
    "## Table of contents\n",
    "\n",
    "* [1. Setup](#1.-Setup)\n",
    "* [2. Multiple outputs](#2.-Multiple-outputs)\n",
    "  * [2.1 Define Keras Model](#2.1-Define-Keras-Model)\n",
    "  * [2.2 Define output data transformer](#2.2-Define-output-data-transformer)\n",
    "  * [2.3 Test classifier](#2.3-Test-classifier)\n",
    "* [3. Multiple inputs](#3-multiple-inputs)\n",
    "  * [3.1 Define Keras Model](#3.1-Define-Keras-Model)\n",
    "  * [3.2 Define data transformer](#3.2-Define-data-transformer)\n",
    "  * [3.3 Test regressor](#3.3-Test-regressor)\n",
    "* [4. Multidimensional inputs with MNIST dataset](#4.-Multidimensional-inputs-with-MNIST-dataset)\n",
    "  * [4.1 Define Keras Model](#4.1-Define-Keras-Model)\n",
    "  * [4.2 Test](#4.2-Test)\n",
    "* [5. Ragged datasets with tf.data.Dataset](#5.-Ragged-datasets-with-tf.data.Dataset)\n",
    "* [6. Multi-output class_weight](#6.-Multi-output-class_weight)\n",
    "\n",
    "## 1. Setup"
   ]
  },
  {
   "cell_type": "code",
   "execution_count": 1,
   "id": "animal-morocco",
   "metadata": {
    "execution": {
     "iopub.execute_input": "2021-02-16T06:10:02.311318Z",
     "iopub.status.busy": "2021-02-16T06:10:02.310558Z",
     "iopub.status.idle": "2021-02-16T06:10:08.700258Z",
     "shell.execute_reply": "2021-02-16T06:10:08.700913Z"
    }
   },
   "outputs": [],
   "source": [
    "try:\n",
    "    import scikeras\n",
    "except ImportError:\n",
    "    !python -m pip install scikeras"
   ]
  },
  {
   "cell_type": "markdown",
   "id": "headed-humidity",
   "metadata": {},
   "source": [
    "Silence TensorFlow warnings to keep output succint."
   ]
  },
  {
   "cell_type": "code",
   "execution_count": 2,
   "id": "powered-benchmark",
   "metadata": {
    "execution": {
     "iopub.execute_input": "2021-02-16T06:10:08.704266Z",
     "iopub.status.busy": "2021-02-16T06:10:08.703239Z",
     "iopub.status.idle": "2021-02-16T06:10:08.707891Z",
     "shell.execute_reply": "2021-02-16T06:10:08.708475Z"
    }
   },
   "outputs": [],
   "source": [
    "import warnings\n",
    "from tensorflow import get_logger\n",
    "get_logger().setLevel('ERROR')\n",
    "warnings.filterwarnings(\"ignore\", message=\"Setting the random state for TF\")"
   ]
  },
  {
   "cell_type": "code",
   "execution_count": 3,
   "id": "posted-leader",
   "metadata": {
    "execution": {
     "iopub.execute_input": "2021-02-16T06:10:08.711470Z",
     "iopub.status.busy": "2021-02-16T06:10:08.710611Z",
     "iopub.status.idle": "2021-02-16T06:10:11.011989Z",
     "shell.execute_reply": "2021-02-16T06:10:11.012615Z"
    }
   },
   "outputs": [],
   "source": [
    "import numpy as np\n",
    "from scikeras.wrappers import KerasClassifier, KerasRegressor\n",
    "from tensorflow import keras"
   ]
  },
  {
   "cell_type": "markdown",
   "id": "about-knitting",
   "metadata": {},
   "source": [
    "## 2. Multiple outputs\n",
    "\n",
    "Keras makes it straight forward to define models with multiple outputs, that is a Model with multiple sets of fully-connected heads at the end of the network. This functionality is only available in the Functional Model and subclassed Model definition modes, and is not available when using Sequential.\n",
    "\n",
    "In practice, the main thing about Keras models with multiple outputs that you need to know as a SciKeras user is that Keras expects `X` or `y` to be a list of arrays/tensors, with one array/tensor for each input/output.\n",
    "\n",
    "Note that \"multiple outputs\" in Keras has a slightly different meaning than \"multiple outputs\" in sklearn. Many tasks that would be considered \"multiple output\" tasks in sklearn can be mapped to a single \"output\" in Keras with multiple units. This notebook specifically focuses on the cases that require multiple distinct Keras outputs.\n",
    "\n",
    "### 2.1 Define Keras Model\n",
    "\n",
    "Here we define a simple perceptron that has two outputs, corresponding to one binary classification taks and one multiclass classification task. For example, one output might be \"image has car\" (binary) and the other might be \"color of car in image\" (multiclass)."
   ]
  },
  {
   "cell_type": "code",
   "execution_count": 4,
   "id": "mechanical-angola",
   "metadata": {
    "execution": {
     "iopub.execute_input": "2021-02-16T06:10:11.018917Z",
     "iopub.status.busy": "2021-02-16T06:10:11.018406Z",
     "iopub.status.idle": "2021-02-16T06:10:11.021318Z",
     "shell.execute_reply": "2021-02-16T06:10:11.022167Z"
    }
   },
   "outputs": [],
   "source": [
    "def get_clf_model(meta):\n",
    "    inp = keras.layers.Input(shape=(meta[\"n_features_in_\"]))\n",
    "    x1 = keras.layers.Dense(100, activation=\"relu\")(inp)\n",
    "    out_bin = keras.layers.Dense(1, activation=\"sigmoid\")(x1)\n",
    "    out_cat = keras.layers.Dense(meta[\"n_classes_\"][1], activation=\"softmax\")(x1)\n",
    "    model = keras.Model(inputs=inp, outputs=[out_bin, out_cat])\n",
    "    model.compile(\n",
    "        loss=[\"binary_crossentropy\", \"sparse_categorical_crossentropy\"]\n",
    "    )\n",
    "    return model"
   ]
  },
  {
   "cell_type": "markdown",
   "id": "neither-detail",
   "metadata": {},
   "source": [
    "Let's test that this model works with the kind of inputs and outputs we expect."
   ]
  },
  {
   "cell_type": "code",
   "execution_count": 5,
   "id": "collaborative-prospect",
   "metadata": {
    "execution": {
     "iopub.execute_input": "2021-02-16T06:10:11.037124Z",
     "iopub.status.busy": "2021-02-16T06:10:11.034924Z",
     "iopub.status.idle": "2021-02-16T06:10:11.867019Z",
     "shell.execute_reply": "2021-02-16T06:10:11.867472Z"
    }
   },
   "outputs": [],
   "source": [
    "X = np.random.random(size=(100, 10))\n",
    "y_bin = np.random.randint(0, 2, size=(100,))\n",
    "y_cat = np.random.randint(0, 5, size=(100, ))\n",
    "y = [y_bin, y_cat]\n",
    "\n",
    "# build mock meta\n",
    "meta = {\n",
    "    \"n_features_in_\": 10,\n",
    "    \"n_classes_\": [2, 5]  # note that we made this a list, one for each output\n",
    "}\n",
    "\n",
    "model = get_clf_model(meta=meta)\n",
    "\n",
    "model.fit(X, y, verbose=0)\n",
    "y_pred = model.predict(X)"
   ]
  },
  {
   "cell_type": "code",
   "execution_count": 6,
   "id": "fabulous-copying",
   "metadata": {
    "execution": {
     "iopub.execute_input": "2021-02-16T06:10:11.870965Z",
     "iopub.status.busy": "2021-02-16T06:10:11.869935Z",
     "iopub.status.idle": "2021-02-16T06:10:11.876625Z",
     "shell.execute_reply": "2021-02-16T06:10:11.877363Z"
    }
   },
   "outputs": [
    {
     "name": "stdout",
     "output_type": "stream",
     "text": [
      "[[0.5432096 ]\n",
      " [0.56659067]]\n"
     ]
    }
   ],
   "source": [
    "print(y_pred[0][:2, :])"
   ]
  },
  {
   "cell_type": "code",
   "execution_count": 7,
   "id": "african-metabolism",
   "metadata": {
    "execution": {
     "iopub.execute_input": "2021-02-16T06:10:11.880571Z",
     "iopub.status.busy": "2021-02-16T06:10:11.879565Z",
     "iopub.status.idle": "2021-02-16T06:10:11.885643Z",
     "shell.execute_reply": "2021-02-16T06:10:11.886364Z"
    }
   },
   "outputs": [
    {
     "name": "stdout",
     "output_type": "stream",
     "text": [
      "[[0.18013833 0.21695378 0.17276719 0.2180746  0.21206613]\n",
      " [0.14353459 0.2582713  0.2044686  0.20516416 0.18856134]]\n"
     ]
    }
   ],
   "source": [
    "print(y_pred[1][:2, :])"
   ]
  },
  {
   "cell_type": "markdown",
   "id": "median-samoa",
   "metadata": {},
   "source": [
    "As you can see, our `predict` output is also a list of arrays, except it contains probabilities instead of the class predictions.\n",
    "\n",
    "Our data transormer's job will be to convert from a single numpy array (which is what the sklearn ecosystem works with) to the list of arrays and then back. Additionally, for classifiers, we will want to be able to convert probabilities to class predictions.\n",
    "\n",
    "We will structure our data on the sklearn side by column-stacking our list\n",
    "of arrays. This works well in this case since we have the same number of datapoints in each array.\n",
    "\n",
    "### 2.2 Define output data transformer\n",
    "\n",
    "Let's go ahead and protoype this data transformer:"
   ]
  },
  {
   "cell_type": "code",
   "execution_count": 8,
   "id": "supported-agriculture",
   "metadata": {
    "execution": {
     "iopub.execute_input": "2021-02-16T06:10:11.889699Z",
     "iopub.status.busy": "2021-02-16T06:10:11.889151Z",
     "iopub.status.idle": "2021-02-16T06:10:11.901722Z",
     "shell.execute_reply": "2021-02-16T06:10:11.902436Z"
    }
   },
   "outputs": [],
   "source": [
    "from typing import List\n",
    "\n",
    "from sklearn.base import BaseEstimator, TransformerMixin\n",
    "from sklearn.preprocessing import LabelEncoder\n",
    "\n",
    "\n",
    "class MultiOutputTransformer(BaseEstimator, TransformerMixin):\n",
    "\n",
    "    def fit(self, y):\n",
    "        y_bin, y_cat = y[:, 0], y[:, 1]\n",
    "        # Create internal encoders to ensure labels are 0, 1, 2...\n",
    "        self.bin_encoder_ = LabelEncoder()\n",
    "        self.cat_encoder_ = LabelEncoder()\n",
    "        # Fit them to the input data\n",
    "        self.bin_encoder_.fit(y_bin)\n",
    "        self.cat_encoder_.fit(y_cat)\n",
    "        # Save the number of classes\n",
    "        self.n_classes_ = [\n",
    "            self.bin_encoder_.classes_.size,\n",
    "            self.cat_encoder_.classes_.size,\n",
    "        ]\n",
    "        # Save number of expected outputs in the Keras model\n",
    "        # SciKeras will automatically use this to do error-checking\n",
    "        self.n_outputs_expected_ = 2\n",
    "        return self\n",
    "\n",
    "    def transform(self, y: np.ndarray) -> List[np.ndarray]:\n",
    "        y_bin, y_cat = y[:, 0], y[:, 1]\n",
    "        # Apply transformers to input array\n",
    "        y_bin = self.bin_encoder_.transform(y_bin)\n",
    "        y_cat = self.cat_encoder_.transform(y_cat)\n",
    "        # Split the data into a list\n",
    "        return [y_bin, y_cat]\n",
    "\n",
    "    def inverse_transform(self, y: List[np.ndarray], return_proba: bool = False) -> np.ndarray:\n",
    "        y_pred_proba = y  # rename for clarity, what Keras gives us are probs\n",
    "        if return_proba:\n",
    "            return np.column_stack(y_pred_proba, axis=1)\n",
    "        # Get class predictions from probabilities\n",
    "        y_pred_bin = (y_pred_proba[0] > 0.5).astype(int).reshape(-1, )\n",
    "        y_pred_cat = np.argmax(y_pred_proba[1], axis=1)\n",
    "        # Pass back through LabelEncoder\n",
    "        y_pred_bin = self.bin_encoder_.inverse_transform(y_pred_bin)\n",
    "        y_pred_cat = self.cat_encoder_.inverse_transform(y_pred_cat)\n",
    "        return np.column_stack([y_pred_bin, y_pred_cat])\n",
    "    \n",
    "    def get_metadata(self):\n",
    "        return {\n",
    "            \"n_classes_\": self.n_classes_,\n",
    "            \"n_outputs_expected_\": self.n_outputs_expected_,\n",
    "        }"
   ]
  },
  {
   "cell_type": "markdown",
   "id": "crude-support",
   "metadata": {},
   "source": [
    "Note that in addition to the usual `transform` and `inverse_transform` methods, we implement the `get_metadata` method to return the `n_classes_` attribute.\n",
    "\n",
    "Lets test our transformer with the same dataset we previously used to test our model:"
   ]
  },
  {
   "cell_type": "code",
   "execution_count": 9,
   "id": "experienced-andrew",
   "metadata": {
    "execution": {
     "iopub.execute_input": "2021-02-16T06:10:11.905721Z",
     "iopub.status.busy": "2021-02-16T06:10:11.904686Z",
     "iopub.status.idle": "2021-02-16T06:10:11.911769Z",
     "shell.execute_reply": "2021-02-16T06:10:11.912467Z"
    }
   },
   "outputs": [
    {
     "name": "stdout",
     "output_type": "stream",
     "text": [
      "`y`, as will be passed to Keras:\n",
      "[array([1, 1, 0, 0]), array([4, 0, 3, 3])]\n"
     ]
    }
   ],
   "source": [
    "tf = MultiOutputTransformer()\n",
    "\n",
    "y_sklearn = np.column_stack(y)\n",
    "\n",
    "y_keras = tf.fit_transform(y_sklearn)\n",
    "print(\"`y`, as will be passed to Keras:\")\n",
    "print([y_keras[0][:4], y_keras[1][:4]])"
   ]
  },
  {
   "cell_type": "code",
   "execution_count": 10,
   "id": "cultural-competition",
   "metadata": {
    "execution": {
     "iopub.execute_input": "2021-02-16T06:10:11.915569Z",
     "iopub.status.busy": "2021-02-16T06:10:11.914575Z",
     "iopub.status.idle": "2021-02-16T06:10:11.927470Z",
     "shell.execute_reply": "2021-02-16T06:10:11.928120Z"
    }
   },
   "outputs": [
    {
     "name": "stdout",
     "output_type": "stream",
     "text": [
      "`y_pred`, as will be returned to sklearn:\n"
     ]
    },
    {
     "data": {
      "text/plain": [
       "array([[1, 3],\n",
       "       [1, 1],\n",
       "       [1, 1],\n",
       "       [1, 1],\n",
       "       [1, 3]])"
      ]
     },
     "execution_count": 1,
     "metadata": {},
     "output_type": "execute_result"
    }
   ],
   "source": [
    "y_pred_sklearn = tf.inverse_transform(y_pred)\n",
    "print(\"`y_pred`, as will be returned to sklearn:\")\n",
    "y_pred_sklearn[:5]"
   ]
  },
  {
   "cell_type": "code",
   "execution_count": 11,
   "id": "pressed-cartoon",
   "metadata": {
    "execution": {
     "iopub.execute_input": "2021-02-16T06:10:11.931173Z",
     "iopub.status.busy": "2021-02-16T06:10:11.930194Z",
     "iopub.status.idle": "2021-02-16T06:10:11.935091Z",
     "shell.execute_reply": "2021-02-16T06:10:11.935691Z"
    }
   },
   "outputs": [
    {
     "name": "stdout",
     "output_type": "stream",
     "text": [
      "metadata = {'n_classes_': [2, 5], 'n_outputs_expected_': 2}\n"
     ]
    }
   ],
   "source": [
    "print(f\"metadata = {tf.get_metadata()}\")"
   ]
  },
  {
   "cell_type": "markdown",
   "id": "promotional-harrison",
   "metadata": {},
   "source": [
    "Since this looks good, we move on to integrating our transformer into our classifier."
   ]
  },
  {
   "cell_type": "code",
   "execution_count": 12,
   "id": "breeding-jonathan",
   "metadata": {
    "execution": {
     "iopub.execute_input": "2021-02-16T06:10:11.938830Z",
     "iopub.status.busy": "2021-02-16T06:10:11.937755Z",
     "iopub.status.idle": "2021-02-16T06:10:11.943689Z",
     "shell.execute_reply": "2021-02-16T06:10:11.944433Z"
    }
   },
   "outputs": [],
   "source": [
    "from sklearn.metrics import accuracy_score\n",
    "\n",
    "\n",
    "class MultiOutputClassifier(KerasClassifier):\n",
    "\n",
    "    @property\n",
    "    def target_encoder(self):\n",
    "        return MultiOutputTransformer()\n",
    "    \n",
    "    @staticmethod\n",
    "    def scorer(y_true, y_pred, **kwargs):\n",
    "        y_bin, y_cat = y_true[:, 0], y_true[:, 1]\n",
    "        y_pred_bin, y_pred_cat = y_pred[:, 0], y_pred[:, 1]\n",
    "        # Keras by default uses the mean of losses of each outputs, so here we do the same\n",
    "        return np.mean([accuracy_score(y_bin, y_pred_bin), accuracy_score(y_cat, y_pred_cat)])"
   ]
  },
  {
   "cell_type": "markdown",
   "id": "shared-integration",
   "metadata": {},
   "source": [
    "### 2.3 Test classifier"
   ]
  },
  {
   "cell_type": "code",
   "execution_count": 13,
   "id": "middle-leave",
   "metadata": {
    "execution": {
     "iopub.execute_input": "2021-02-16T06:10:11.947681Z",
     "iopub.status.busy": "2021-02-16T06:10:11.946620Z",
     "iopub.status.idle": "2021-02-16T06:10:11.951663Z",
     "shell.execute_reply": "2021-02-16T06:10:11.952437Z"
    }
   },
   "outputs": [],
   "source": [
    "from sklearn.preprocessing import StandardScaler\n",
    "\n",
    "# Use labels as features, just to make sure we can learn correctly\n",
    "X = y_sklearn\n",
    "X = StandardScaler().fit_transform(X)"
   ]
  },
  {
   "cell_type": "code",
   "execution_count": 14,
   "id": "diverse-honor",
   "metadata": {
    "execution": {
     "iopub.execute_input": "2021-02-16T06:10:11.955739Z",
     "iopub.status.busy": "2021-02-16T06:10:11.954695Z",
     "iopub.status.idle": "2021-02-16T06:10:12.639089Z",
     "shell.execute_reply": "2021-02-16T06:10:12.639801Z"
    }
   },
   "outputs": [
    {
     "data": {
      "text/plain": [
       "0.28500000000000003"
      ]
     },
     "execution_count": 1,
     "metadata": {},
     "output_type": "execute_result"
    }
   ],
   "source": [
    "clf = MultiOutputClassifier(model=get_clf_model, verbose=0, random_state=0)\n",
    "\n",
    "clf.fit(X, y_sklearn).score(X, y_sklearn)"
   ]
  },
  {
   "cell_type": "markdown",
   "id": "detected-volleyball",
   "metadata": {},
   "source": [
    "## 3. Multiple inputs\n",
    "\n",
    "The process for multiple inputs is similar, but instead of overriding the transformer in `target_encoder` we override `feature_encoder`.\n",
    "\n",
    "\n",
    "```python .noeval\n",
    "class MultiInputTransformer(BaseEstimator, TransformerMixin):\n",
    "    ...\n",
    "\n",
    "class MultiInputClassifier(KerasClassifier):\n",
    "    @property\n",
    "    def feature_encoder(self):\n",
    "        return MultiInputTransformer(...)\n",
    "```\n",
    "\n",
    "### 3.1 Define Keras Model\n",
    "\n",
    "Let's define a Keras **regression** Model with 2 inputs:"
   ]
  },
  {
   "cell_type": "code",
   "execution_count": 15,
   "id": "egyptian-winner",
   "metadata": {
    "execution": {
     "iopub.execute_input": "2021-02-16T06:10:12.643372Z",
     "iopub.status.busy": "2021-02-16T06:10:12.642288Z",
     "iopub.status.idle": "2021-02-16T06:10:12.648737Z",
     "shell.execute_reply": "2021-02-16T06:10:12.649345Z"
    }
   },
   "outputs": [],
   "source": [
    "def get_reg_model():\n",
    "\n",
    "    inp1 = keras.layers.Input(shape=(1, ))\n",
    "    inp2 = keras.layers.Input(shape=(1, ))\n",
    "\n",
    "    x1 = keras.layers.Dense(100, activation=\"relu\")(inp1)\n",
    "    x2 = keras.layers.Dense(50, activation=\"relu\")(inp2)\n",
    "\n",
    "    concat = keras.layers.Concatenate(axis=-1)([x1, x2])\n",
    "\n",
    "    out = keras.layers.Dense(1)(concat)\n",
    "\n",
    "    model = keras.Model(inputs=[inp1, inp2], outputs=out)\n",
    "    model.compile(loss=\"mse\")\n",
    "\n",
    "    return model"
   ]
  },
  {
   "cell_type": "markdown",
   "id": "shaped-institute",
   "metadata": {},
   "source": [
    "And test it with a small mock dataset:"
   ]
  },
  {
   "cell_type": "code",
   "execution_count": 16,
   "id": "sought-rogers",
   "metadata": {
    "execution": {
     "iopub.execute_input": "2021-02-16T06:10:12.652731Z",
     "iopub.status.busy": "2021-02-16T06:10:12.651706Z",
     "iopub.status.idle": "2021-02-16T06:10:13.147110Z",
     "shell.execute_reply": "2021-02-16T06:10:13.147899Z"
    }
   },
   "outputs": [],
   "source": [
    "X = np.random.random(size=(100, 2))\n",
    "y = np.sum(X, axis=1)\n",
    "X = np.split(X, 2, axis=1)\n",
    "\n",
    "model = get_reg_model()\n",
    "\n",
    "model.fit(X, y, verbose=0)\n",
    "y_pred = model.predict(X).squeeze()"
   ]
  },
  {
   "cell_type": "code",
   "execution_count": 17,
   "id": "hired-republic",
   "metadata": {
    "execution": {
     "iopub.execute_input": "2021-02-16T06:10:13.151536Z",
     "iopub.status.busy": "2021-02-16T06:10:13.150484Z",
     "iopub.status.idle": "2021-02-16T06:10:13.157195Z",
     "shell.execute_reply": "2021-02-16T06:10:13.157911Z"
    }
   },
   "outputs": [
    {
     "data": {
      "text/plain": [
       "-6.610316798919209"
      ]
     },
     "execution_count": 1,
     "metadata": {},
     "output_type": "execute_result"
    }
   ],
   "source": [
    "from sklearn.metrics import r2_score\n",
    "\n",
    "r2_score(y, y_pred)"
   ]
  },
  {
   "cell_type": "markdown",
   "id": "super-framework",
   "metadata": {},
   "source": [
    "Having verified that our model builds without errors and accepts the inputs types we expect, we move onto integrating a transformer into our SciKeras model.\n",
    "\n",
    "### 3.2 Define data transformer\n",
    "\n",
    "Just like for overriding `target_encoder`, we just need to define a sklearn transformer and drop it into our SciKeras wrapper. Since we hardcoded the input\n",
    "shapes into our model and do not rely on any transformer-generated metadata, we can simply use `sklearn.preprocessing.FunctionTransformer`:"
   ]
  },
  {
   "cell_type": "code",
   "execution_count": 18,
   "id": "distinct-luxembourg",
   "metadata": {
    "execution": {
     "iopub.execute_input": "2021-02-16T06:10:13.161346Z",
     "iopub.status.busy": "2021-02-16T06:10:13.160295Z",
     "iopub.status.idle": "2021-02-16T06:10:13.165475Z",
     "shell.execute_reply": "2021-02-16T06:10:13.166186Z"
    }
   },
   "outputs": [],
   "source": [
    "from sklearn.preprocessing import FunctionTransformer\n",
    "\n",
    "\n",
    "class MultiInputRegressor(KerasRegressor):\n",
    "\n",
    "    @property\n",
    "    def feature_encoder(self):\n",
    "        return FunctionTransformer(\n",
    "            func=lambda X: [X[:, 0], X[:, 1]],\n",
    "        )"
   ]
  },
  {
   "cell_type": "markdown",
   "id": "proper-documentary",
   "metadata": {},
   "source": [
    "Note that we did **not** implement `inverse_transform` (that is, we did not pass an `inverse_func` argument to `FunctionTransformer`) because features are never converted back to their original form.\n",
    "\n",
    "### 3.3 Test regressor"
   ]
  },
  {
   "cell_type": "code",
   "execution_count": 19,
   "id": "underlying-structure",
   "metadata": {
    "execution": {
     "iopub.execute_input": "2021-02-16T06:10:13.169354Z",
     "iopub.status.busy": "2021-02-16T06:10:13.168350Z",
     "iopub.status.idle": "2021-02-16T06:10:13.709353Z",
     "shell.execute_reply": "2021-02-16T06:10:13.710117Z"
    }
   },
   "outputs": [
    {
     "data": {
      "text/plain": [
       "-4.031621420178328"
      ]
     },
     "execution_count": 1,
     "metadata": {},
     "output_type": "execute_result"
    }
   ],
   "source": [
    "reg = MultiInputRegressor(model=get_reg_model, verbose=0, random_state=0)\n",
    "\n",
    "X_sklearn = np.column_stack(X)\n",
    "\n",
    "reg.fit(X_sklearn, y).score(X_sklearn, y)"
   ]
  },
  {
   "cell_type": "markdown",
   "id": "devoted-humidity",
   "metadata": {},
   "source": [
    "## 4. Multidimensional inputs with MNIST dataset\n",
    "\n",
    "In this example, we look at how we can use SciKeras to process the MNIST dataset. The dataset is composed of 60,000 images of digits, each of which is a 2D 28x28 image.\n",
    "\n",
    "The dataset and Keras Model architecture used come from a [Keras example](https://keras.io/examples/vision/mnist_convnet/). It may be beneficial to understand the Keras model by reviewing that example first."
   ]
  },
  {
   "cell_type": "code",
   "execution_count": 20,
   "id": "convinced-august",
   "metadata": {
    "execution": {
     "iopub.execute_input": "2021-02-16T06:10:13.713718Z",
     "iopub.status.busy": "2021-02-16T06:10:13.712648Z",
     "iopub.status.idle": "2021-02-16T06:10:14.048003Z",
     "shell.execute_reply": "2021-02-16T06:10:14.048837Z"
    }
   },
   "outputs": [
    {
     "data": {
      "text/plain": [
       "(60000, 28, 28)"
      ]
     },
     "execution_count": 1,
     "metadata": {},
     "output_type": "execute_result"
    }
   ],
   "source": [
    "(x_train, y_train), (x_test, y_test) = keras.datasets.mnist.load_data()\n",
    "x_train.shape"
   ]
  },
  {
   "cell_type": "markdown",
   "id": "subjective-stomach",
   "metadata": {},
   "source": [
    "The outputs (labels) are numbers 0-9:"
   ]
  },
  {
   "cell_type": "code",
   "execution_count": 21,
   "id": "invalid-collection",
   "metadata": {
    "execution": {
     "iopub.execute_input": "2021-02-16T06:10:14.052490Z",
     "iopub.status.busy": "2021-02-16T06:10:14.051417Z",
     "iopub.status.idle": "2021-02-16T06:10:14.059948Z",
     "shell.execute_reply": "2021-02-16T06:10:14.060727Z"
    }
   },
   "outputs": [
    {
     "name": "stdout",
     "output_type": "stream",
     "text": [
      "(60000,)\n",
      "[0 1 2 3 4 5 6 7 8 9]\n"
     ]
    }
   ],
   "source": [
    "print(y_train.shape)\n",
    "print(np.unique(y_train))"
   ]
  },
  {
   "cell_type": "markdown",
   "id": "italian-present",
   "metadata": {},
   "source": [
    "First, we will \"flatten\" the data into an array of shape `(n_samples, 28*28)` (i.e. a 2D array). This will allow us to use sklearn ecosystem utilities, for example, `sklearn.preprocessing.MinMaxScaler`."
   ]
  },
  {
   "cell_type": "code",
   "execution_count": 22,
   "id": "close-classification",
   "metadata": {
    "execution": {
     "iopub.execute_input": "2021-02-16T06:10:14.064391Z",
     "iopub.status.busy": "2021-02-16T06:10:14.063281Z",
     "iopub.status.idle": "2021-02-16T06:10:14.731736Z",
     "shell.execute_reply": "2021-02-16T06:10:14.732609Z"
    }
   },
   "outputs": [],
   "source": [
    "from sklearn.preprocessing import MinMaxScaler\n",
    "\n",
    "n_samples_train = x_train.shape[0]\n",
    "n_samples_test = x_test.shape[0]\n",
    "\n",
    "x_train = x_train.reshape((n_samples_train, -1))\n",
    "x_test = x_test.reshape((n_samples_test, -1))\n",
    "x_train = MinMaxScaler().fit_transform(x_train)\n",
    "x_test = MinMaxScaler().fit_transform(x_test)\n",
    "\n",
    "# reduce dataset size for faster training\n",
    "n_samples = 1000\n",
    "x_train, y_train, x_test, y_test = x_train[:n_samples], y_train[:n_samples], x_test[:n_samples], y_test[:n_samples]"
   ]
  },
  {
   "cell_type": "code",
   "execution_count": 23,
   "id": "waiting-concrete",
   "metadata": {
    "execution": {
     "iopub.execute_input": "2021-02-16T06:10:14.736195Z",
     "iopub.status.busy": "2021-02-16T06:10:14.735115Z",
     "iopub.status.idle": "2021-02-16T06:10:14.741276Z",
     "shell.execute_reply": "2021-02-16T06:10:14.742021Z"
    }
   },
   "outputs": [
    {
     "name": "stdout",
     "output_type": "stream",
     "text": [
      "(784,)\n"
     ]
    }
   ],
   "source": [
    "print(x_train.shape[1:])  # 784 = 28*28"
   ]
  },
  {
   "cell_type": "code",
   "execution_count": 24,
   "id": "offshore-manufacturer",
   "metadata": {
    "execution": {
     "iopub.execute_input": "2021-02-16T06:10:14.745400Z",
     "iopub.status.busy": "2021-02-16T06:10:14.744357Z",
     "iopub.status.idle": "2021-02-16T06:10:14.751102Z",
     "shell.execute_reply": "2021-02-16T06:10:14.751852Z"
    }
   },
   "outputs": [
    {
     "name": "stdout",
     "output_type": "stream",
     "text": [
      "0.0 1.0\n"
     ]
    }
   ],
   "source": [
    "print(np.min(x_train), np.max(x_train))  # scaled 0-1"
   ]
  },
  {
   "cell_type": "markdown",
   "id": "crucial-project",
   "metadata": {},
   "source": [
    "Of course, in this case, we could have just as easily used numpy functions to scale our data, but we use `MinMaxScaler` to demonstrate use of the sklearn ecosystem.\n",
    "\n",
    "### 4.1 Define Keras Model\n",
    "\n",
    "Next we will define our Keras model (adapted from [keras.io](https://keras.io/examples/vision/mnist_convnet/)):"
   ]
  },
  {
   "cell_type": "code",
   "execution_count": 25,
   "id": "tight-somalia",
   "metadata": {
    "execution": {
     "iopub.execute_input": "2021-02-16T06:10:14.755220Z",
     "iopub.status.busy": "2021-02-16T06:10:14.754157Z",
     "iopub.status.idle": "2021-02-16T06:10:14.761689Z",
     "shell.execute_reply": "2021-02-16T06:10:14.762439Z"
    }
   },
   "outputs": [],
   "source": [
    "num_classes = 10\n",
    "input_shape = (28, 28, 1)\n",
    "\n",
    "\n",
    "def get_model(meta):\n",
    "    model = keras.Sequential(\n",
    "        [\n",
    "            keras.Input(input_shape),\n",
    "            keras.layers.Conv2D(32, kernel_size=(3, 3), activation=\"relu\"),\n",
    "            keras.layers.MaxPooling2D(pool_size=(2, 2)),\n",
    "            keras.layers.Conv2D(64, kernel_size=(3, 3), activation=\"relu\"),\n",
    "            keras.layers.MaxPooling2D(pool_size=(2, 2)),\n",
    "            keras.layers.Flatten(),\n",
    "            keras.layers.Dropout(0.5),\n",
    "            keras.layers.Dense(num_classes, activation=\"softmax\"),\n",
    "        ]\n",
    "    )\n",
    "    model.compile(\n",
    "        loss=\"sparse_categorical_crossentropy\"\n",
    "    )\n",
    "    return model"
   ]
  },
  {
   "cell_type": "markdown",
   "id": "brief-handbook",
   "metadata": {},
   "source": [
    "Now let's define a transformer that we will use to reshape our input from the sklearn shape (`(n_samples, 784)`) to the Keras shape (which we will be `(n_samples, 28, 28, 1)`)."
   ]
  },
  {
   "cell_type": "code",
   "execution_count": 26,
   "id": "regular-schema",
   "metadata": {
    "execution": {
     "iopub.execute_input": "2021-02-16T06:10:14.765836Z",
     "iopub.status.busy": "2021-02-16T06:10:14.764807Z",
     "iopub.status.idle": "2021-02-16T06:10:14.769680Z",
     "shell.execute_reply": "2021-02-16T06:10:14.770429Z"
    }
   },
   "outputs": [],
   "source": [
    "class MultiDimensionalClassifier(KerasClassifier):\n",
    "\n",
    "    @property\n",
    "    def feature_encoder(self):\n",
    "        return FunctionTransformer(\n",
    "            func=lambda X: X.reshape(X.shape[0], *input_shape),\n",
    "        )"
   ]
  },
  {
   "cell_type": "code",
   "execution_count": 27,
   "id": "oriental-richards",
   "metadata": {
    "execution": {
     "iopub.execute_input": "2021-02-16T06:10:14.773532Z",
     "iopub.status.busy": "2021-02-16T06:10:14.772481Z",
     "iopub.status.idle": "2021-02-16T06:10:14.776944Z",
     "shell.execute_reply": "2021-02-16T06:10:14.777684Z"
    }
   },
   "outputs": [],
   "source": [
    "clf = MultiDimensionalClassifier(\n",
    "    model=get_model,\n",
    "    epochs=10,\n",
    "    batch_size=128,\n",
    "    validation_split=0.1,\n",
    "    random_state=0,\n",
    ")"
   ]
  },
  {
   "cell_type": "markdown",
   "id": "martial-reach",
   "metadata": {},
   "source": [
    "### 4.2 Test\n",
    "\n",
    "Train and score the model (this takes some time)"
   ]
  },
  {
   "cell_type": "code",
   "execution_count": 28,
   "id": "still-owner",
   "metadata": {
    "execution": {
     "iopub.execute_input": "2021-02-16T06:10:14.780691Z",
     "iopub.status.busy": "2021-02-16T06:10:14.779714Z",
     "iopub.status.idle": "2021-02-16T06:10:22.641175Z",
     "shell.execute_reply": "2021-02-16T06:10:22.642092Z"
    }
   },
   "outputs": [
    {
     "name": "stdout",
     "output_type": "stream",
     "text": [
      "Epoch 1/10\n"
     ]
    },
    {
     "name": "stdout",
     "output_type": "stream",
     "text": [
      "\r",
      "1/8 [==>...........................] - ETA: 5s - loss: 2.3388"
     ]
    },
    {
     "name": "stdout",
     "output_type": "stream",
     "text": [
      "\b\b\b\b\b\b\b\b\b\b\b\b\b\b\b\b\b\b\b\b\b\b\b\b\b\b\b\b\b\b\b\b\b\b\b\b\b\b\b\b\b\b\b\b\b\b\b\b\b\b\b\b\b\b\b\b\b\b\b\b\b\r",
      "2/8 [======>.......................] - ETA: 0s - loss: 2.3138"
     ]
    },
    {
     "name": "stdout",
     "output_type": "stream",
     "text": [
      "\b\b\b\b\b\b\b\b\b\b\b\b\b\b\b\b\b\b\b\b\b\b\b\b\b\b\b\b\b\b\b\b\b\b\b\b\b\b\b\b\b\b\b\b\b\b\b\b\b\b\b\b\b\b\b\b\b\b\b\b\b\r",
      "3/8 [==========>...................] - ETA: 0s - loss: 2.2955"
     ]
    },
    {
     "name": "stdout",
     "output_type": "stream",
     "text": [
      "\b\b\b\b\b\b\b\b\b\b\b\b\b\b\b\b\b\b\b\b\b\b\b\b\b\b\b\b\b\b\b\b\b\b\b\b\b\b\b\b\b\b\b\b\b\b\b\b\b\b\b\b\b\b\b\b\b\b\b\b\b\r",
      "4/8 [==============>...............] - ETA: 0s - loss: 2.2804"
     ]
    },
    {
     "name": "stdout",
     "output_type": "stream",
     "text": [
      "\b\b\b\b\b\b\b\b\b\b\b\b\b\b\b\b\b\b\b\b\b\b\b\b\b\b\b\b\b\b\b\b\b\b\b\b\b\b\b\b\b\b\b\b\b\b\b\b\b\b\b\b\b\b\b\b\b\b\b\b\b\r",
      "5/8 [=================>............] - ETA: 0s - loss: 2.2653"
     ]
    },
    {
     "name": "stdout",
     "output_type": "stream",
     "text": [
      "\b\b\b\b\b\b\b\b\b\b\b\b\b\b\b\b\b\b\b\b\b\b\b\b\b\b\b\b\b\b\b\b\b\b\b\b\b\b\b\b\b\b\b\b\b\b\b\b\b\b\b\b\b\b\b\b\b\b\b\b\b\r",
      "6/8 [=====================>........] - ETA: 0s - loss: 2.2506"
     ]
    },
    {
     "name": "stdout",
     "output_type": "stream",
     "text": [
      "\b\b\b\b\b\b\b\b\b\b\b\b\b\b\b\b\b\b\b\b\b\b\b\b\b\b\b\b\b\b\b\b\b\b\b\b\b\b\b\b\b\b\b\b\b\b\b\b\b\b\b\b\b\b\b\b\b\b\b\b\b\r",
      "7/8 [=========================>....] - ETA: 0s - loss: 2.2346"
     ]
    },
    {
     "name": "stdout",
     "output_type": "stream",
     "text": [
      "\b\b\b\b\b\b\b\b\b\b\b\b\b\b\b\b\b\b\b\b\b\b\b\b\b\b\b\b\b\b\b\b\b\b\b\b\b\b\b\b\b\b\b\b\b\b\b\b\b\b\b\b\b\b\b\b\b\b\b\b\b\r",
      "8/8 [==============================] - 2s 150ms/step - loss: 2.2129 - val_loss: 1.9378\n"
     ]
    },
    {
     "name": "stdout",
     "output_type": "stream",
     "text": [
      "Epoch 2/10\n",
      "\r",
      "1/8 [==>...........................] - ETA: 0s - loss: 1.9194"
     ]
    },
    {
     "name": "stdout",
     "output_type": "stream",
     "text": [
      "\b\b\b\b\b\b\b\b\b\b\b\b\b\b\b\b\b\b\b\b\b\b\b\b\b\b\b\b\b\b\b\b\b\b\b\b\b\b\b\b\b\b\b\b\b\b\b\b\b\b\b\b\b\b\b\b\b\b\b\b\b\r",
      "2/8 [======>.......................] - ETA: 0s - loss: 1.8859"
     ]
    },
    {
     "name": "stdout",
     "output_type": "stream",
     "text": [
      "\b\b\b\b\b\b\b\b\b\b\b\b\b\b\b\b\b\b\b\b\b\b\b\b\b\b\b\b\b\b\b\b\b\b\b\b\b\b\b\b\b\b\b\b\b\b\b\b\b\b\b\b\b\b\b\b\b\b\b\b\b\r",
      "3/8 [==========>...................] - ETA: 0s - loss: 1.8602"
     ]
    },
    {
     "name": "stdout",
     "output_type": "stream",
     "text": [
      "\b\b\b\b\b\b\b\b\b\b\b\b\b\b\b\b\b\b\b\b\b\b\b\b\b\b\b\b\b\b\b\b\b\b\b\b\b\b\b\b\b\b\b\b\b\b\b\b\b\b\b\b\b\b\b\b\b\b\b\b\b\r",
      "4/8 [==============>...............] - ETA: 0s - loss: 1.8336"
     ]
    },
    {
     "name": "stdout",
     "output_type": "stream",
     "text": [
      "\b\b\b\b\b\b\b\b\b\b\b\b\b\b\b\b\b\b\b\b\b\b\b\b\b\b\b\b\b\b\b\b\b\b\b\b\b\b\b\b\b\b\b\b\b\b\b\b\b\b\b\b\b\b\b\b\b\b\b\b\b\r",
      "5/8 [=================>............] - ETA: 0s - loss: 1.8105"
     ]
    },
    {
     "name": "stdout",
     "output_type": "stream",
     "text": [
      "\b\b\b\b\b\b\b\b\b\b\b\b\b\b\b\b\b\b\b\b\b\b\b\b\b\b\b\b\b\b\b\b\b\b\b\b\b\b\b\b\b\b\b\b\b\b\b\b\b\b\b\b\b\b\b\b\b\b\b\b\b\r",
      "6/8 [=====================>........] - ETA: 0s - loss: 1.7871"
     ]
    },
    {
     "name": "stdout",
     "output_type": "stream",
     "text": [
      "\b\b\b\b\b\b\b\b\b\b\b\b\b\b\b\b\b\b\b\b\b\b\b\b\b\b\b\b\b\b\b\b\b\b\b\b\b\b\b\b\b\b\b\b\b\b\b\b\b\b\b\b\b\b\b\b\b\b\b\b\b\r",
      "7/8 [=========================>....] - ETA: 0s - loss: 1.7651"
     ]
    },
    {
     "name": "stdout",
     "output_type": "stream",
     "text": [
      "\b\b\b\b\b\b\b\b\b\b\b\b\b\b\b\b\b\b\b\b\b\b\b\b\b\b\b\b\b\b\b\b\b\b\b\b\b\b\b\b\b\b\b\b\b\b\b\b\b\b\b\b\b\b\b\b\b\b\b\b\b\r",
      "8/8 [==============================] - 1s 79ms/step - loss: 1.7355 - val_loss: 1.4332\n"
     ]
    },
    {
     "name": "stdout",
     "output_type": "stream",
     "text": [
      "Epoch 3/10\n"
     ]
    },
    {
     "name": "stdout",
     "output_type": "stream",
     "text": [
      "\r",
      "1/8 [==>...........................] - ETA: 0s - loss: 1.5482"
     ]
    },
    {
     "name": "stdout",
     "output_type": "stream",
     "text": [
      "\b\b\b\b\b\b\b\b\b\b\b\b\b\b\b\b\b\b\b\b\b\b\b\b\b\b\b\b\b\b\b\b\b\b\b\b\b\b\b\b\b\b\b\b\b\b\b\b\b\b\b\b\b\b\b\b\b\b\b\b\b\r",
      "2/8 [======>.......................] - ETA: 0s - loss: 1.4905"
     ]
    },
    {
     "name": "stdout",
     "output_type": "stream",
     "text": [
      "\b\b\b\b\b\b\b\b\b\b\b\b\b\b\b\b\b\b\b\b\b\b\b\b\b\b\b\b\b\b\b\b\b\b\b\b\b\b\b\b\b\b\b\b\b\b\b\b\b\b\b\b\b\b\b\b\b\b\b\b\b\r",
      "3/8 [==========>...................] - ETA: 0s - loss: 1.4373"
     ]
    },
    {
     "name": "stdout",
     "output_type": "stream",
     "text": [
      "\b\b\b\b\b\b\b\b\b\b\b\b\b\b\b\b\b\b\b\b\b\b\b\b\b\b\b\b\b\b\b\b\b\b\b\b\b\b\b\b\b\b\b\b\b\b\b\b\b\b\b\b\b\b\b\b\b\b\b\b\b\r",
      "4/8 [==============>...............] - ETA: 0s - loss: 1.4038"
     ]
    },
    {
     "name": "stdout",
     "output_type": "stream",
     "text": [
      "\b\b\b\b\b\b\b\b\b\b\b\b\b\b\b\b\b\b\b\b\b\b\b\b\b\b\b\b\b\b\b\b\b\b\b\b\b\b\b\b\b\b\b\b\b\b\b\b\b\b\b\b\b\b\b\b\b\b\b\b\b\r",
      "5/8 [=================>............] - ETA: 0s - loss: 1.3722"
     ]
    },
    {
     "name": "stdout",
     "output_type": "stream",
     "text": [
      "\b\b\b\b\b\b\b\b\b\b\b\b\b\b\b\b\b\b\b\b\b\b\b\b\b\b\b\b\b\b\b\b\b\b\b\b\b\b\b\b\b\b\b\b\b\b\b\b\b\b\b\b\b\b\b\b\b\b\b\b\b\r",
      "6/8 [=====================>........] - ETA: 0s - loss: 1.3461"
     ]
    },
    {
     "name": "stdout",
     "output_type": "stream",
     "text": [
      "\b\b\b\b\b\b\b\b\b\b\b\b\b\b\b\b\b\b\b\b\b\b\b\b\b\b\b\b\b\b\b\b\b\b\b\b\b\b\b\b\b\b\b\b\b\b\b\b\b\b\b\b\b\b\b\b\b\b\b\b\b\r",
      "7/8 [=========================>....] - ETA: 0s - loss: 1.3252"
     ]
    },
    {
     "name": "stdout",
     "output_type": "stream",
     "text": [
      "\b\b\b\b\b\b\b\b\b\b\b\b\b\b\b\b\b\b\b\b\b\b\b\b\b\b\b\b\b\b\b\b\b\b\b\b\b\b\b\b\b\b\b\b\b\b\b\b\b\b\b\b\b\b\b\b\b\b\b\b\b\r",
      "8/8 [==============================] - 1s 80ms/step - loss: 1.2980 - val_loss: 1.1264\n"
     ]
    },
    {
     "name": "stdout",
     "output_type": "stream",
     "text": [
      "Epoch 4/10\n"
     ]
    },
    {
     "name": "stdout",
     "output_type": "stream",
     "text": [
      "\r",
      "1/8 [==>...........................] - ETA: 0s - loss: 0.9745"
     ]
    },
    {
     "name": "stdout",
     "output_type": "stream",
     "text": [
      "\b\b\b\b\b\b\b\b\b\b\b\b\b\b\b\b\b\b\b\b\b\b\b\b\b\b\b\b\b\b\b\b\b\b\b\b\b\b\b\b\b\b\b\b\b\b\b\b\b\b\b\b\b\b\b\b\b\b\b\b\b\r",
      "2/8 [======>.......................] - ETA: 0s - loss: 0.9901"
     ]
    },
    {
     "name": "stdout",
     "output_type": "stream",
     "text": [
      "\b\b\b\b\b\b\b\b\b\b\b\b\b\b\b\b\b\b\b\b\b\b\b\b\b\b\b\b\b\b\b\b\b\b\b\b\b\b\b\b\b\b\b\b\b\b\b\b\b\b\b\b\b\b\b\b\b\b\b\b\b\r",
      "3/8 [==========>...................] - ETA: 0s - loss: 0.9931"
     ]
    },
    {
     "name": "stdout",
     "output_type": "stream",
     "text": [
      "\b\b\b\b\b\b\b\b\b\b\b\b\b\b\b\b\b\b\b\b\b\b\b\b\b\b\b\b\b\b\b\b\b\b\b\b\b\b\b\b\b\b\b\b\b\b\b\b\b\b\b\b\b\b\b\b\b\b\b\b\b\r",
      "4/8 [==============>...............] - ETA: 0s - loss: 0.9934"
     ]
    },
    {
     "name": "stdout",
     "output_type": "stream",
     "text": [
      "\b\b\b\b\b\b\b\b\b\b\b\b\b\b\b\b\b\b\b\b\b\b\b\b\b\b\b\b\b\b\b\b\b\b\b\b\b\b\b\b\b\b\b\b\b\b\b\b\b\b\b\b\b\b\b\b\b\b\b\b\b\r",
      "5/8 [=================>............] - ETA: 0s - loss: 0.9891"
     ]
    },
    {
     "name": "stdout",
     "output_type": "stream",
     "text": [
      "\b\b\b\b\b\b\b\b\b\b\b\b\b\b\b\b\b\b\b\b\b\b\b\b\b\b\b\b\b\b\b\b\b\b\b\b\b\b\b\b\b\b\b\b\b\b\b\b\b\b\b\b\b\b\b\b\b\b\b\b\b\r",
      "6/8 [=====================>........] - ETA: 0s - loss: 0.9830"
     ]
    },
    {
     "name": "stdout",
     "output_type": "stream",
     "text": [
      "\b\b\b\b\b\b\b\b\b\b\b\b\b\b\b\b\b\b\b\b\b\b\b\b\b\b\b\b\b\b\b\b\b\b\b\b\b\b\b\b\b\b\b\b\b\b\b\b\b\b\b\b\b\b\b\b\b\b\b\b\b\r",
      "7/8 [=========================>....] - ETA: 0s - loss: 0.9744"
     ]
    },
    {
     "name": "stdout",
     "output_type": "stream",
     "text": [
      "\b\b\b\b\b\b\b\b\b\b\b\b\b\b\b\b\b\b\b\b\b\b\b\b\b\b\b\b\b\b\b\b\b\b\b\b\b\b\b\b\b\b\b\b\b\b\b\b\b\b\b\b\b\b\b\b\b\b\b\b\b\r",
      "8/8 [==============================] - 1s 78ms/step - loss: 0.9632 - val_loss: 0.8725\n"
     ]
    },
    {
     "name": "stdout",
     "output_type": "stream",
     "text": [
      "Epoch 5/10\n"
     ]
    },
    {
     "name": "stdout",
     "output_type": "stream",
     "text": [
      "\r",
      "1/8 [==>...........................] - ETA: 0s - loss: 0.8483"
     ]
    },
    {
     "name": "stdout",
     "output_type": "stream",
     "text": [
      "\b\b\b\b\b\b\b\b\b\b\b\b\b\b\b\b\b\b\b\b\b\b\b\b\b\b\b\b\b\b\b\b\b\b\b\b\b\b\b\b\b\b\b\b\b\b\b\b\b\b\b\b\b\b\b\b\b\b\b\b\b\r",
      "2/8 [======>.......................] - ETA: 0s - loss: 0.8333"
     ]
    },
    {
     "name": "stdout",
     "output_type": "stream",
     "text": [
      "\b\b\b\b\b\b\b\b\b\b\b\b\b\b\b\b\b\b\b\b\b\b\b\b\b\b\b\b\b\b\b\b\b\b\b\b\b\b\b\b\b\b\b\b\b\b\b\b\b\b\b\b\b\b\b\b\b\b\b\b\b\r",
      "3/8 [==========>...................] - ETA: 0s - loss: 0.8148"
     ]
    },
    {
     "name": "stdout",
     "output_type": "stream",
     "text": [
      "\b\b\b\b\b\b\b\b\b\b\b\b\b\b\b\b\b\b\b\b\b\b\b\b\b\b\b\b\b\b\b\b\b\b\b\b\b\b\b\b\b\b\b\b\b\b\b\b\b\b\b\b\b\b\b\b\b\b\b\b\b\r",
      "4/8 [==============>...............] - ETA: 0s - loss: 0.8013"
     ]
    },
    {
     "name": "stdout",
     "output_type": "stream",
     "text": [
      "\b\b\b\b\b\b\b\b\b\b\b\b\b\b\b\b\b\b\b\b\b\b\b\b\b\b\b\b\b\b\b\b\b\b\b\b\b\b\b\b\b\b\b\b\b\b\b\b\b\b\b\b\b\b\b\b\b\b\b\b\b\r",
      "5/8 [=================>............] - ETA: 0s - loss: 0.7932"
     ]
    },
    {
     "name": "stdout",
     "output_type": "stream",
     "text": [
      "\b\b\b\b\b\b\b\b\b\b\b\b\b\b\b\b\b\b\b\b\b\b\b\b\b\b\b\b\b\b\b\b\b\b\b\b\b\b\b\b\b\b\b\b\b\b\b\b\b\b\b\b\b\b\b\b\b\b\b\b\b\r",
      "6/8 [=====================>........] - ETA: 0s - loss: 0.7884"
     ]
    },
    {
     "name": "stdout",
     "output_type": "stream",
     "text": [
      "\b\b\b\b\b\b\b\b\b\b\b\b\b\b\b\b\b\b\b\b\b\b\b\b\b\b\b\b\b\b\b\b\b\b\b\b\b\b\b\b\b\b\b\b\b\b\b\b\b\b\b\b\b\b\b\b\b\b\b\b\b\r",
      "7/8 [=========================>....] - ETA: 0s - loss: 0.7839"
     ]
    },
    {
     "name": "stdout",
     "output_type": "stream",
     "text": [
      "\b\b\b\b\b\b\b\b\b\b\b\b\b\b\b\b\b\b\b\b\b\b\b\b\b\b\b\b\b\b\b\b\b\b\b\b\b\b\b\b\b\b\b\b\b\b\b\b\b\b\b\b\b\b\b\b\b\b\b\b\b\r",
      "8/8 [==============================] - 1s 89ms/step - loss: 0.7774 - val_loss: 0.7834\n"
     ]
    },
    {
     "name": "stdout",
     "output_type": "stream",
     "text": [
      "Epoch 6/10\n"
     ]
    },
    {
     "name": "stdout",
     "output_type": "stream",
     "text": [
      "\r",
      "1/8 [==>...........................] - ETA: 0s - loss: 0.7395"
     ]
    },
    {
     "name": "stdout",
     "output_type": "stream",
     "text": [
      "\b\b\b\b\b\b\b\b\b\b\b\b\b\b\b\b\b\b\b\b\b\b\b\b\b\b\b\b\b\b\b\b\b\b\b\b\b\b\b\b\b\b\b\b\b\b\b\b\b\b\b\b\b\b\b\b\b\b\b\b\b\r",
      "2/8 [======>.......................] - ETA: 0s - loss: 0.7439"
     ]
    },
    {
     "name": "stdout",
     "output_type": "stream",
     "text": [
      "\b\b\b\b\b\b\b\b\b\b\b\b\b\b\b\b\b\b\b\b\b\b\b\b\b\b\b\b\b\b\b\b\b\b\b\b\b\b\b\b\b\b\b\b\b\b\b\b\b\b\b\b\b\b\b\b\b\b\b\b\b\r",
      "3/8 [==========>...................] - ETA: 0s - loss: 0.7406"
     ]
    },
    {
     "name": "stdout",
     "output_type": "stream",
     "text": [
      "\b\b\b\b\b\b\b\b\b\b\b\b\b\b\b\b\b\b\b\b\b\b\b\b\b\b\b\b\b\b\b\b\b\b\b\b\b\b\b\b\b\b\b\b\b\b\b\b\b\b\b\b\b\b\b\b\b\b\b\b\b\r",
      "4/8 [==============>...............] - ETA: 0s - loss: 0.7288"
     ]
    },
    {
     "name": "stdout",
     "output_type": "stream",
     "text": [
      "\b\b\b\b\b\b\b\b\b\b\b\b\b\b\b\b\b\b\b\b\b\b\b\b\b\b\b\b\b\b\b\b\b\b\b\b\b\b\b\b\b\b\b\b\b\b\b\b\b\b\b\b\b\b\b\b\b\b\b\b\b\r",
      "5/8 [=================>............] - ETA: 0s - loss: 0.7162"
     ]
    },
    {
     "name": "stdout",
     "output_type": "stream",
     "text": [
      "\b\b\b\b\b\b\b\b\b\b\b\b\b\b\b\b\b\b\b\b\b\b\b\b\b\b\b\b\b\b\b\b\b\b\b\b\b\b\b\b\b\b\b\b\b\b\b\b\b\b\b\b\b\b\b\b\b\b\b\b\b\r",
      "6/8 [=====================>........] - ETA: 0s - loss: 0.7084"
     ]
    },
    {
     "name": "stdout",
     "output_type": "stream",
     "text": [
      "\b\b\b\b\b\b\b\b\b\b\b\b\b\b\b\b\b\b\b\b\b\b\b\b\b\b\b\b\b\b\b\b\b\b\b\b\b\b\b\b\b\b\b\b\b\b\b\b\b\b\b\b\b\b\b\b\b\b\b\b\b\r",
      "7/8 [=========================>....] - ETA: 0s - loss: 0.7005"
     ]
    },
    {
     "name": "stdout",
     "output_type": "stream",
     "text": [
      "\b\b\b\b\b\b\b\b\b\b\b\b\b\b\b\b\b\b\b\b\b\b\b\b\b\b\b\b\b\b\b\b\b\b\b\b\b\b\b\b\b\b\b\b\b\b\b\b\b\b\b\b\b\b\b\b\b\b\b\b\b\r",
      "8/8 [==============================] - 1s 84ms/step - loss: 0.6900 - val_loss: 0.8330\n"
     ]
    },
    {
     "name": "stdout",
     "output_type": "stream",
     "text": [
      "Epoch 7/10\n"
     ]
    },
    {
     "name": "stdout",
     "output_type": "stream",
     "text": [
      "\r",
      "1/8 [==>...........................] - ETA: 0s - loss: 0.6743"
     ]
    },
    {
     "name": "stdout",
     "output_type": "stream",
     "text": [
      "\b\b\b\b\b\b\b\b\b\b\b\b\b\b\b\b\b\b\b\b\b\b\b\b\b\b\b\b\b\b\b\b\b\b\b\b\b\b\b\b\b\b\b\b\b\b\b\b\b\b\b\b\b\b\b\b\b\b\b\b\b\r",
      "2/8 [======>.......................] - ETA: 0s - loss: 0.6714"
     ]
    },
    {
     "name": "stdout",
     "output_type": "stream",
     "text": [
      "\b\b\b\b\b\b\b\b\b\b\b\b\b\b\b\b\b\b\b\b\b\b\b\b\b\b\b\b\b\b\b\b\b\b\b\b\b\b\b\b\b\b\b\b\b\b\b\b\b\b\b\b\b\b\b\b\b\b\b\b\b\r",
      "3/8 [==========>...................] - ETA: 0s - loss: 0.6668"
     ]
    },
    {
     "name": "stdout",
     "output_type": "stream",
     "text": [
      "\b\b\b\b\b\b\b\b\b\b\b\b\b\b\b\b\b\b\b\b\b\b\b\b\b\b\b\b\b\b\b\b\b\b\b\b\b\b\b\b\b\b\b\b\b\b\b\b\b\b\b\b\b\b\b\b\b\b\b\b\b\r",
      "4/8 [==============>...............] - ETA: 0s - loss: 0.6620"
     ]
    },
    {
     "name": "stdout",
     "output_type": "stream",
     "text": [
      "\b\b\b\b\b\b\b\b\b\b\b\b\b\b\b\b\b\b\b\b\b\b\b\b\b\b\b\b\b\b\b\b\b\b\b\b\b\b\b\b\b\b\b\b\b\b\b\b\b\b\b\b\b\b\b\b\b\b\b\b\b\r",
      "5/8 [=================>............] - ETA: 0s - loss: 0.6558"
     ]
    },
    {
     "name": "stdout",
     "output_type": "stream",
     "text": [
      "\b\b\b\b\b\b\b\b\b\b\b\b\b\b\b\b\b\b\b\b\b\b\b\b\b\b\b\b\b\b\b\b\b\b\b\b\b\b\b\b\b\b\b\b\b\b\b\b\b\b\b\b\b\b\b\b\b\b\b\b\b\r",
      "6/8 [=====================>........] - ETA: 0s - loss: 0.6494"
     ]
    },
    {
     "name": "stdout",
     "output_type": "stream",
     "text": [
      "\b\b\b\b\b\b\b\b\b\b\b\b\b\b\b\b\b\b\b\b\b\b\b\b\b\b\b\b\b\b\b\b\b\b\b\b\b\b\b\b\b\b\b\b\b\b\b\b\b\b\b\b\b\b\b\b\b\b\b\b\b\r",
      "7/8 [=========================>....] - ETA: 0s - loss: 0.6429"
     ]
    },
    {
     "name": "stdout",
     "output_type": "stream",
     "text": [
      "\b\b\b\b\b\b\b\b\b\b\b\b\b\b\b\b\b\b\b\b\b\b\b\b\b\b\b\b\b\b\b\b\b\b\b\b\b\b\b\b\b\b\b\b\b\b\b\b\b\b\b\b\b\b\b\b\b\b\b\b\b\r",
      "8/8 [==============================] - 1s 84ms/step - loss: 0.6336 - val_loss: 0.6026\n"
     ]
    },
    {
     "name": "stdout",
     "output_type": "stream",
     "text": [
      "Epoch 8/10\n"
     ]
    },
    {
     "name": "stdout",
     "output_type": "stream",
     "text": [
      "\r",
      "1/8 [==>...........................] - ETA: 0s - loss: 0.5816"
     ]
    },
    {
     "name": "stdout",
     "output_type": "stream",
     "text": [
      "\b\b\b\b\b\b\b\b\b\b\b\b\b\b\b\b\b\b\b\b\b\b\b\b\b\b\b\b\b\b\b\b\b\b\b\b\b\b\b\b\b\b\b\b\b\b\b\b\b\b\b\b\b\b\b\b\b\b\b\b\b\r",
      "2/8 [======>.......................] - ETA: 0s - loss: 0.5781"
     ]
    },
    {
     "name": "stdout",
     "output_type": "stream",
     "text": [
      "\b\b\b\b\b\b\b\b\b\b\b\b\b\b\b\b\b\b\b\b\b\b\b\b\b\b\b\b\b\b\b\b\b\b\b\b\b\b\b\b\b\b\b\b\b\b\b\b\b\b\b\b\b\b\b\b\b\b\b\b\b\r",
      "3/8 [==========>...................] - ETA: 0s - loss: 0.5809"
     ]
    },
    {
     "name": "stdout",
     "output_type": "stream",
     "text": [
      "\b\b\b\b\b\b\b\b\b\b\b\b\b\b\b\b\b\b\b\b\b\b\b\b\b\b\b\b\b\b\b\b\b\b\b\b\b\b\b\b\b\b\b\b\b\b\b\b\b\b\b\b\b\b\b\b\b\b\b\b\b\r",
      "4/8 [==============>...............] - ETA: 0s - loss: 0.5764"
     ]
    },
    {
     "name": "stdout",
     "output_type": "stream",
     "text": [
      "\b\b\b\b\b\b\b\b\b\b\b\b\b\b\b\b\b\b\b\b\b\b\b\b\b\b\b\b\b\b\b\b\b\b\b\b\b\b\b\b\b\b\b\b\b\b\b\b\b\b\b\b\b\b\b\b\b\b\b\b\b\r",
      "5/8 [=================>............] - ETA: 0s - loss: 0.5720"
     ]
    },
    {
     "name": "stdout",
     "output_type": "stream",
     "text": [
      "\b\b\b\b\b\b\b\b\b\b\b\b\b\b\b\b\b\b\b\b\b\b\b\b\b\b\b\b\b\b\b\b\b\b\b\b\b\b\b\b\b\b\b\b\b\b\b\b\b\b\b\b\b\b\b\b\b\b\b\b\b\r",
      "6/8 [=====================>........] - ETA: 0s - loss: 0.5677"
     ]
    },
    {
     "name": "stdout",
     "output_type": "stream",
     "text": [
      "\b\b\b\b\b\b\b\b\b\b\b\b\b\b\b\b\b\b\b\b\b\b\b\b\b\b\b\b\b\b\b\b\b\b\b\b\b\b\b\b\b\b\b\b\b\b\b\b\b\b\b\b\b\b\b\b\b\b\b\b\b\r",
      "7/8 [=========================>....] - ETA: 0s - loss: 0.5666"
     ]
    },
    {
     "name": "stdout",
     "output_type": "stream",
     "text": [
      "\b\b\b\b\b\b\b\b\b\b\b\b\b\b\b\b\b\b\b\b\b\b\b\b\b\b\b\b\b\b\b\b\b\b\b\b\b\b\b\b\b\b\b\b\b\b\b\b\b\b\b\b\b\b\b\b\b\b\b\b\b\r",
      "8/8 [==============================] - 1s 82ms/step - loss: 0.5648 - val_loss: 0.7786\n"
     ]
    },
    {
     "name": "stdout",
     "output_type": "stream",
     "text": [
      "Epoch 9/10\n"
     ]
    },
    {
     "name": "stdout",
     "output_type": "stream",
     "text": [
      "\r",
      "1/8 [==>...........................] - ETA: 0s - loss: 0.5750"
     ]
    },
    {
     "name": "stdout",
     "output_type": "stream",
     "text": [
      "\b\b\b\b\b\b\b\b\b\b\b\b\b\b\b\b\b\b\b\b\b\b\b\b\b\b\b\b\b\b\b\b\b\b\b\b\b\b\b\b\b\b\b\b\b\b\b\b\b\b\b\b\b\b\b\b\b\b\b\b\b\r",
      "2/8 [======>.......................] - ETA: 0s - loss: 0.6021"
     ]
    },
    {
     "name": "stdout",
     "output_type": "stream",
     "text": [
      "\b\b\b\b\b\b\b\b\b\b\b\b\b\b\b\b\b\b\b\b\b\b\b\b\b\b\b\b\b\b\b\b\b\b\b\b\b\b\b\b\b\b\b\b\b\b\b\b\b\b\b\b\b\b\b\b\b\b\b\b\b\r",
      "3/8 [==========>...................] - ETA: 0s - loss: 0.5836"
     ]
    },
    {
     "name": "stdout",
     "output_type": "stream",
     "text": [
      "\b\b\b\b\b\b\b\b\b\b\b\b\b\b\b\b\b\b\b\b\b\b\b\b\b\b\b\b\b\b\b\b\b\b\b\b\b\b\b\b\b\b\b\b\b\b\b\b\b\b\b\b\b\b\b\b\b\b\b\b\b\r",
      "4/8 [==============>...............] - ETA: 0s - loss: 0.5673"
     ]
    },
    {
     "name": "stdout",
     "output_type": "stream",
     "text": [
      "\b\b\b\b\b\b\b\b\b\b\b\b\b\b\b\b\b\b\b\b\b\b\b\b\b\b\b\b\b\b\b\b\b\b\b\b\b\b\b\b\b\b\b\b\b\b\b\b\b\b\b\b\b\b\b\b\b\b\b\b\b\r",
      "5/8 [=================>............] - ETA: 0s - loss: 0.5558"
     ]
    },
    {
     "name": "stdout",
     "output_type": "stream",
     "text": [
      "\b\b\b\b\b\b\b\b\b\b\b\b\b\b\b\b\b\b\b\b\b\b\b\b\b\b\b\b\b\b\b\b\b\b\b\b\b\b\b\b\b\b\b\b\b\b\b\b\b\b\b\b\b\b\b\b\b\b\b\b\b\r",
      "6/8 [=====================>........] - ETA: 0s - loss: 0.5485"
     ]
    },
    {
     "name": "stdout",
     "output_type": "stream",
     "text": [
      "\b\b\b\b\b\b\b\b\b\b\b\b\b\b\b\b\b\b\b\b\b\b\b\b\b\b\b\b\b\b\b\b\b\b\b\b\b\b\b\b\b\b\b\b\b\b\b\b\b\b\b\b\b\b\b\b\b\b\b\b\b\r",
      "7/8 [=========================>....] - ETA: 0s - loss: 0.5435"
     ]
    },
    {
     "name": "stdout",
     "output_type": "stream",
     "text": [
      "\b\b\b\b\b\b\b\b\b\b\b\b\b\b\b\b\b\b\b\b\b\b\b\b\b\b\b\b\b\b\b\b\b\b\b\b\b\b\b\b\b\b\b\b\b\b\b\b\b\b\b\b\b\b\b\b\b\b\b\b\b\r",
      "8/8 [==============================] - 1s 84ms/step - loss: 0.5365 - val_loss: 0.5447\n"
     ]
    },
    {
     "name": "stdout",
     "output_type": "stream",
     "text": [
      "Epoch 10/10\n"
     ]
    },
    {
     "name": "stdout",
     "output_type": "stream",
     "text": [
      "\r",
      "1/8 [==>...........................] - ETA: 0s - loss: 0.4804"
     ]
    },
    {
     "name": "stdout",
     "output_type": "stream",
     "text": [
      "\b\b\b\b\b\b\b\b\b\b\b\b\b\b\b\b\b\b\b\b\b\b\b\b\b\b\b\b\b\b\b\b\b\b\b\b\b\b\b\b\b\b\b\b\b\b\b\b\b\b\b\b\b\b\b\b\b\b\b\b\b\r",
      "2/8 [======>.......................] - ETA: 0s - loss: 0.5018"
     ]
    },
    {
     "name": "stdout",
     "output_type": "stream",
     "text": [
      "\b\b\b\b\b\b\b\b\b\b\b\b\b\b\b\b\b\b\b\b\b\b\b\b\b\b\b\b\b\b\b\b\b\b\b\b\b\b\b\b\b\b\b\b\b\b\b\b\b\b\b\b\b\b\b\b\b\b\b\b\b\r",
      "3/8 [==========>...................] - ETA: 0s - loss: 0.4980"
     ]
    },
    {
     "name": "stdout",
     "output_type": "stream",
     "text": [
      "\b\b\b\b\b\b\b\b\b\b\b\b\b\b\b\b\b\b\b\b\b\b\b\b\b\b\b\b\b\b\b\b\b\b\b\b\b\b\b\b\b\b\b\b\b\b\b\b\b\b\b\b\b\b\b\b\b\b\b\b\b\r",
      "4/8 [==============>...............] - ETA: 0s - loss: 0.4908"
     ]
    },
    {
     "name": "stdout",
     "output_type": "stream",
     "text": [
      "\b\b\b\b\b\b\b\b\b\b\b\b\b\b\b\b\b\b\b\b\b\b\b\b\b\b\b\b\b\b\b\b\b\b\b\b\b\b\b\b\b\b\b\b\b\b\b\b\b\b\b\b\b\b\b\b\b\b\b\b\b\r",
      "5/8 [=================>............] - ETA: 0s - loss: 0.4890"
     ]
    },
    {
     "name": "stdout",
     "output_type": "stream",
     "text": [
      "\b\b\b\b\b\b\b\b\b\b\b\b\b\b\b\b\b\b\b\b\b\b\b\b\b\b\b\b\b\b\b\b\b\b\b\b\b\b\b\b\b\b\b\b\b\b\b\b\b\b\b\b\b\b\b\b\b\b\b\b\b\r",
      "6/8 [=====================>........] - ETA: 0s - loss: 0.4859"
     ]
    },
    {
     "name": "stdout",
     "output_type": "stream",
     "text": [
      "\b\b\b\b\b\b\b\b\b\b\b\b\b\b\b\b\b\b\b\b\b\b\b\b\b\b\b\b\b\b\b\b\b\b\b\b\b\b\b\b\b\b\b\b\b\b\b\b\b\b\b\b\b\b\b\b\b\b\b\b\b\r",
      "7/8 [=========================>....] - ETA: 0s - loss: 0.4812"
     ]
    },
    {
     "name": "stdout",
     "output_type": "stream",
     "text": [
      "\b\b\b\b\b\b\b\b\b\b\b\b\b\b\b\b\b\b\b\b\b\b\b\b\b\b\b\b\b\b\b\b\b\b\b\b\b\b\b\b\b\b\b\b\b\b\b\b\b\b\b\b\b\b\b\b\b\b\b\b\b\r",
      "8/8 [==============================] - 1s 80ms/step - loss: 0.4750 - val_loss: 0.6588\n"
     ]
    }
   ],
   "source": [
    "_ = clf.fit(x_train, y_train)"
   ]
  },
  {
   "cell_type": "code",
   "execution_count": 29,
   "id": "electronic-chart",
   "metadata": {
    "execution": {
     "iopub.execute_input": "2021-02-16T06:10:22.646621Z",
     "iopub.status.busy": "2021-02-16T06:10:22.645474Z",
     "iopub.status.idle": "2021-02-16T06:10:22.923904Z",
     "shell.execute_reply": "2021-02-16T06:10:22.923331Z"
    }
   },
   "outputs": [
    {
     "name": "stdout",
     "output_type": "stream",
     "text": [
      "\r",
      "1/8 [==>...........................] - ETA: 0s"
     ]
    },
    {
     "name": "stdout",
     "output_type": "stream",
     "text": [
      "\b\b\b\b\b\b\b\b\b\b\b\b\b\b\b\b\b\b\b\b\b\b\b\b\b\b\b\b\b\b\b\b\b\b\b\b\b\b\b\b\b\b\b\b\b\b\r",
      "4/8 [==============>...............] - ETA: 0s"
     ]
    },
    {
     "name": "stdout",
     "output_type": "stream",
     "text": [
      "\b\b\b\b\b\b\b\b\b\b\b\b\b\b\b\b\b\b\b\b\b\b\b\b\b\b\b\b\b\b\b\b\b\b\b\b\b\b\b\b\b\b\b\b\b\b\r",
      "7/8 [=========================>....] - ETA: 0s"
     ]
    },
    {
     "name": "stdout",
     "output_type": "stream",
     "text": [
      "\b\b\b\b\b\b\b\b\b\b\b\b\b\b\b\b\b\b\b\b\b\b\b\b\b\b\b\b\b\b\b\b\b\b\b\b\b\b\b\b\b\b\b\b\b\b\r",
      "8/8 [==============================] - 0s 23ms/step\n"
     ]
    },
    {
     "name": "stdout",
     "output_type": "stream",
     "text": [
      "Test score (accuracy): 0.76\n"
     ]
    }
   ],
   "source": [
    "score = clf.score(x_test, y_test)\n",
    "print(f\"Test score (accuracy): {score:.2f}\")"
   ]
  },
  {
   "cell_type": "markdown",
   "id": "hybrid-suspension",
   "metadata": {},
   "source": [
    "## 5. Ragged datasets with tf.data.Dataset\n",
    "\n",
    "SciKeras provides a third dependency injection point that operates on the entire dataset: X, y & sample_weight.\n",
    "This `dataset_transformer` is applied after `target_transformer` and `feature_transformer`.\n",
    "One use case for this dependency injection point is to transform data from tabular/array-like to the `tf.data.Dataset` format, which only requires iteration.\n",
    "We can use this to create a `tf.data.Dataset` of ragged tensors.\n",
    "\n",
    "Note that `dataset_transformer` should accept a single single dictionary as its argument to `transform` and `fit`, and return a single dictionary as well.\n",
    "More details on this are in the [docs](https://www.adriangb.com/scikeras/refs/heads/master/advanced.html#data-transformers).\n",
    "\n",
    "Let's start by defining our data. We'll have an extra \"feature\" that marks the observation index, but we'll remove it when we deconstruct our data in the transformer."
   ]
  },
  {
   "cell_type": "code",
   "execution_count": 30,
   "id": "aging-depression",
   "metadata": {
    "execution": {
     "iopub.execute_input": "2021-02-16T06:10:22.930201Z",
     "iopub.status.busy": "2021-02-16T06:10:22.929034Z",
     "iopub.status.idle": "2021-02-16T06:10:22.932529Z",
     "shell.execute_reply": "2021-02-16T06:10:22.933948Z"
    }
   },
   "outputs": [],
   "source": [
    "feature_1 = np.random.uniform(size=(10, ))\n",
    "feature_2 = np.random.uniform(size=(10, ))\n",
    "obs = [0, 0, 0, 1, 1, 2, 3, 3, 4, 4]\n",
    "\n",
    "X = np.column_stack([feature_1, feature_2, obs]).astype(\"float32\")\n",
    "\n",
    "y = np.array([\"class1\"] * 5 + [\"class2\"] * 5, dtype=str)"
   ]
  },
  {
   "cell_type": "markdown",
   "id": "regulated-tracker",
   "metadata": {},
   "source": [
    "Next, we define our `dataset_transformer`. We will do this by defining a custom forward transformation outside of the Keras model. Note that we do not define an inverse transformation since that is never used.\n",
    "Also note that `dataset_transformer` will _always_ be called with `X` (i.e. the first element of the tuple will always be populated), but will be called with `y=None` when used for `predict`. Thus,\n",
    "you should check if `y` and `sample_weigh` are None before doing any operations on them."
   ]
  },
  {
   "cell_type": "code",
   "execution_count": 31,
   "id": "comparative-privilege",
   "metadata": {
    "execution": {
     "iopub.execute_input": "2021-02-16T06:10:22.942824Z",
     "iopub.status.busy": "2021-02-16T06:10:22.942291Z",
     "iopub.status.idle": "2021-02-16T06:10:22.946752Z",
     "shell.execute_reply": "2021-02-16T06:10:22.947389Z"
    }
   },
   "outputs": [],
   "source": [
    "from typing import Dict, Any\n",
    "\n",
    "import tensorflow as tf\n",
    "\n",
    "\n",
    "def ragged_transformer(data: Dict[str, Any]) -> Dict[str, Any]:\n",
    "    x, y, sample_weight = data[\"x\"], data.get(\"y\", None), data.get(\"sample_weight\", None)\n",
    "    if y is not None:\n",
    "        y = y.reshape(-1, 1 if len(y.shape) == 1 else y.shape[1])\n",
    "        y = y[tf.RaggedTensor.from_value_rowids(y, x[:, -1]).row_starts().numpy()]\n",
    "    if sample_weight is not None:\n",
    "        sample_weight = sample_weight.reshape(-1, 1 if len(sample_weight.shape) == 1 else sample_weight.shape[1])\n",
    "        sample_weight = sample_weight[tf.RaggedTensor.from_value_rowids(sample_weight, x[:, -1]).row_starts().numpy()]\n",
    "    x = tf.RaggedTensor.from_value_rowids(x[:, :-1], x[:, -1])\n",
    "    data[\"x\"] = x\n",
    "    if \"y\" in data:\n",
    "        data[\"y\"] = y\n",
    "    if \"sample_weight\" in data:\n",
    "        data[\"sample_weight\"] = sample_weight\n",
    "    return data"
   ]
  },
  {
   "cell_type": "markdown",
   "id": "cross-macedonia",
   "metadata": {},
   "source": [
    "In this case, we chose to keep `y` and `sample_weight` as numpy arrays, which will allow us to re-use ClassWeightDataTransformer,\n",
    "the default `dataset_transformer` for `KerasClassifier`.\n",
    "\n",
    "Lets quickly test our transformer:"
   ]
  },
  {
   "cell_type": "code",
   "execution_count": 32,
   "id": "younger-meditation",
   "metadata": {
    "execution": {
     "iopub.execute_input": "2021-02-16T06:10:22.950481Z",
     "iopub.status.busy": "2021-02-16T06:10:22.949432Z",
     "iopub.status.idle": "2021-02-16T06:10:22.962068Z",
     "shell.execute_reply": "2021-02-16T06:10:22.962773Z"
    }
   },
   "outputs": [
    {
     "name": "stdout",
     "output_type": "stream",
     "text": [
      "<class 'tensorflow.python.ops.ragged.ragged_tensor.RaggedTensor'>\n",
      "(5, None, 2)\n"
     ]
    }
   ],
   "source": [
    "data = ragged_transformer(dict(x=X, y=y, sample_weight=None))\n",
    "print(type(data[\"x\"]))\n",
    "print(data[\"x\"].shape)"
   ]
  },
  {
   "cell_type": "markdown",
   "id": "selected-malaysia",
   "metadata": {},
   "source": [
    "And the `y=None` case:"
   ]
  },
  {
   "cell_type": "code",
   "execution_count": 33,
   "id": "korean-peninsula",
   "metadata": {
    "execution": {
     "iopub.execute_input": "2021-02-16T06:10:22.965852Z",
     "iopub.status.busy": "2021-02-16T06:10:22.965355Z",
     "iopub.status.idle": "2021-02-16T06:10:22.973493Z",
     "shell.execute_reply": "2021-02-16T06:10:22.974191Z"
    }
   },
   "outputs": [
    {
     "name": "stdout",
     "output_type": "stream",
     "text": [
      "<class 'tensorflow.python.ops.ragged.ragged_tensor.RaggedTensor'>\n",
      "(5, None, 2)\n"
     ]
    }
   ],
   "source": [
    "data = ragged_transformer(dict(x=X, y=None, sample_weight=None))\n",
    "print(type(data[\"x\"]))\n",
    "print(data[\"x\"].shape)"
   ]
  },
  {
   "cell_type": "markdown",
   "id": "convenient-communication",
   "metadata": {},
   "source": [
    "Everything looks good!\n",
    "\n",
    "Because Keras will not accept a RaggedTensor directly, we will need to wrap our entire dataset into a tensorflow `Dataset`. We can do this by adding one more transformation step:\n",
    "\n",
    "Next, we can add our transormers to our model. We use an sklearn `Pipeline` (generated via `make_pipeline`) to keep ClassWeightDataTransformer operational while implementing our custom transformation."
   ]
  },
  {
   "cell_type": "code",
   "execution_count": 34,
   "id": "passive-notice",
   "metadata": {
    "execution": {
     "iopub.execute_input": "2021-02-16T06:10:22.977347Z",
     "iopub.status.busy": "2021-02-16T06:10:22.976787Z",
     "iopub.status.idle": "2021-02-16T06:10:22.983102Z",
     "shell.execute_reply": "2021-02-16T06:10:22.983758Z"
    }
   },
   "outputs": [],
   "source": [
    "def dataset_transformer(data: Dict[str, Any]) -> Dict[str, Any]:\n",
    "    x_y_s = data[\"x\"], data.get(\"y\", None), data.get(\"sample_weight\", None)\n",
    "    data[\"x\"] = tf.data.Dataset.from_tensor_slices(x_y_s)\n",
    "    # don't blindly assign y & sw; if being called from\n",
    "    # predict they should not just be None, they should not be present at all!\n",
    "    if \"y\" in data:\n",
    "        data[\"y\"] = None\n",
    "    if \"sample_weight\" in data:\n",
    "        data[\"sample_weight\"] = None\n",
    "    return data"
   ]
  },
  {
   "cell_type": "code",
   "execution_count": 35,
   "id": "endangered-monitor",
   "metadata": {
    "execution": {
     "iopub.execute_input": "2021-02-16T06:10:22.986450Z",
     "iopub.status.busy": "2021-02-16T06:10:22.985902Z",
     "iopub.status.idle": "2021-02-16T06:10:22.991354Z",
     "shell.execute_reply": "2021-02-16T06:10:22.991994Z"
    }
   },
   "outputs": [],
   "source": [
    "from sklearn.preprocessing import FunctionTransformer\n",
    "from sklearn.pipeline import make_pipeline\n",
    "\n",
    "\n",
    "class RaggedClassifier(KerasClassifier):\n",
    "\n",
    "    @property\n",
    "    def dataset_transformer(self):\n",
    "        t1 = FunctionTransformer(ragged_transformer)\n",
    "        t2 = super().dataset_transformer  # ClassWeightDataTransformer\n",
    "        t3 = FunctionTransformer(dataset_transformer)\n",
    "        t4 = \"passthrough\"  # see https://scikit-learn.org/stable/modules/compose.html#pipeline-chaining-estimators\n",
    "        return make_pipeline(t1, t2, t3, t4)"
   ]
  },
  {
   "cell_type": "markdown",
   "id": "sunset-speaker",
   "metadata": {},
   "source": [
    "Now we can define a Model. We need some way to handle/flatten our ragged arrays within our model. For this example, we use a custom mean layer, but you could use an Embedding layer, LSTM, etc."
   ]
  },
  {
   "cell_type": "code",
   "execution_count": 36,
   "id": "pediatric-filename",
   "metadata": {
    "execution": {
     "iopub.execute_input": "2021-02-16T06:10:22.995481Z",
     "iopub.status.busy": "2021-02-16T06:10:22.994832Z",
     "iopub.status.idle": "2021-02-16T06:10:23.004162Z",
     "shell.execute_reply": "2021-02-16T06:10:23.004784Z"
    }
   },
   "outputs": [],
   "source": [
    "from tensorflow import reduce_mean, reshape\n",
    "from tensorflow.keras import Sequential, layers\n",
    "\n",
    "\n",
    "class CustomMean(layers.Layer):\n",
    "\n",
    "    def __init__(self, axis=None):\n",
    "        super(CustomMean, self).__init__()\n",
    "        self._supports_ragged_inputs = True\n",
    "        self.axis = axis\n",
    "\n",
    "    def call(self, inputs, **kwargs):\n",
    "        input_shape = inputs.get_shape()\n",
    "        return reshape(reduce_mean(inputs, axis=self.axis), (1, *input_shape[1:]))\n",
    "\n",
    "\n",
    "def get_model(meta):\n",
    "    inp_shape = meta[\"X_shape_\"][1]-1\n",
    "    model = Sequential([               \n",
    "        layers.Input(shape=(inp_shape,), ragged=True),\n",
    "        CustomMean(axis=0),\n",
    "        layers.Dense(1, activation='sigmoid')\n",
    "    ])\n",
    "    return model"
   ]
  },
  {
   "cell_type": "markdown",
   "id": "demanding-contrast",
   "metadata": {},
   "source": [
    "And attach our model to our classifier wrapper:"
   ]
  },
  {
   "cell_type": "code",
   "execution_count": 37,
   "id": "regular-cooking",
   "metadata": {
    "execution": {
     "iopub.execute_input": "2021-02-16T06:10:23.009110Z",
     "iopub.status.busy": "2021-02-16T06:10:23.008577Z",
     "iopub.status.idle": "2021-02-16T06:10:23.013390Z",
     "shell.execute_reply": "2021-02-16T06:10:23.013857Z"
    }
   },
   "outputs": [],
   "source": [
    "clf = RaggedClassifier(get_model, loss=\"bce\")"
   ]
  },
  {
   "cell_type": "markdown",
   "id": "traditional-scene",
   "metadata": {},
   "source": [
    "Finally, let's train and predict:"
   ]
  },
  {
   "cell_type": "code",
   "execution_count": 38,
   "id": "early-olive",
   "metadata": {
    "execution": {
     "iopub.execute_input": "2021-02-16T06:10:23.024988Z",
     "iopub.status.busy": "2021-02-16T06:10:23.024452Z",
     "iopub.status.idle": "2021-02-16T06:10:23.535153Z",
     "shell.execute_reply": "2021-02-16T06:10:23.534658Z"
    }
   },
   "outputs": [
    {
     "name": "stdout",
     "output_type": "stream",
     "text": [
      "\r",
      "1/5 [=====>........................] - ETA: 1s - loss: 1.1828"
     ]
    },
    {
     "name": "stdout",
     "output_type": "stream",
     "text": [
      "\b\b\b\b\b\b\b\b\b\b\b\b\b\b\b\b\b\b\b\b\b\b\b\b\b\b\b\b\b\b\b\b\b\b\b\b\b\b\b\b\b\b\b\b\b\b\b\b\b\b\b\b\b\b\b\b\b\b\b\b\b\r",
      "5/5 [==============================] - 0s 1ms/step - loss: 0.8476\n"
     ]
    },
    {
     "name": "stdout",
     "output_type": "stream",
     "text": [
      "\r",
      "1/5 [=====>........................] - ETA: 0s"
     ]
    },
    {
     "name": "stdout",
     "output_type": "stream",
     "text": [
      "\b\b\b\b\b\b\b\b\b\b\b\b\b\b\b\b\b\b\b\b\b\b\b\b\b\b\b\b\b\b\b\b\b\b\b\b\b\b\b\b\b\b\b\b\b\b\r",
      "5/5 [==============================] - 0s 1ms/step\n"
     ]
    },
    {
     "data": {
      "text/plain": [
       "array(['class2', 'class2', 'class2', 'class2', 'class2'], dtype='<U6')"
      ]
     },
     "execution_count": 1,
     "metadata": {},
     "output_type": "execute_result"
    }
   ],
   "source": [
    "clf.fit(X, y)\n",
    "y_pred = clf.predict(X)\n",
    "y_pred"
   ]
  },
  {
   "cell_type": "markdown",
   "id": "brave-africa",
   "metadata": {},
   "source": [
    "If we define our custom layers, transformers and wrappers in their own module, we can easily create a self-contained classifier that is able to handle ragged datasets and has a clean Scikit-Learn compatible API:"
   ]
  },
  {
   "cell_type": "code",
   "execution_count": 39,
   "id": "international-salvation",
   "metadata": {
    "execution": {
     "iopub.execute_input": "2021-02-16T06:10:23.543737Z",
     "iopub.status.busy": "2021-02-16T06:10:23.543181Z",
     "iopub.status.idle": "2021-02-16T06:10:23.548153Z",
     "shell.execute_reply": "2021-02-16T06:10:23.548664Z"
    }
   },
   "outputs": [],
   "source": [
    "class RaggedClassifier(KerasClassifier):\n",
    "\n",
    "    @property\n",
    "    def dataset_transformer(self):\n",
    "        t1 = FunctionTransformer(ragged_transformer)\n",
    "        t2 = super().dataset_transformer  # ClassWeightDataTransformer\n",
    "        t3 = FunctionTransformer(dataset_transformer)\n",
    "        t4 = \"passthrough\"  # see https://scikit-learn.org/stable/modules/compose.html#pipeline-chaining-estimators\n",
    "        return make_pipeline(t1, t2, t3, t4)\n",
    "    \n",
    "    def _keras_build_fn(self):\n",
    "        inp_shape = self.X_shape_[1] - 1\n",
    "        model = Sequential([               \n",
    "            layers.Input(shape=(inp_shape,), ragged=True),\n",
    "            CustomMean(axis=0),\n",
    "            layers.Dense(1, activation='sigmoid')\n",
    "        ])\n",
    "        return model"
   ]
  },
  {
   "cell_type": "code",
   "execution_count": 40,
   "id": "internal-invasion",
   "metadata": {
    "execution": {
     "iopub.execute_input": "2021-02-16T06:10:23.560250Z",
     "iopub.status.busy": "2021-02-16T06:10:23.557755Z",
     "iopub.status.idle": "2021-02-16T06:10:24.239517Z",
     "shell.execute_reply": "2021-02-16T06:10:24.240438Z"
    }
   },
   "outputs": [
    {
     "name": "stdout",
     "output_type": "stream",
     "text": [
      "\r",
      "1/5 [=====>........................] - ETA: 2s - loss: 0.8659"
     ]
    },
    {
     "name": "stdout",
     "output_type": "stream",
     "text": [
      "\b\b\b\b\b\b\b\b\b\b\b\b\b\b\b\b\b\b\b\b\b\b\b\b\b\b\b\b\b\b\b\b\b\b\b\b\b\b\b\b\b\b\b\b\b\b\b\b\b\b\b\b\b\b\b\b\b\b\b\b\b\r",
      "5/5 [==============================] - 1s 2ms/step - loss: 0.8327\n"
     ]
    },
    {
     "name": "stdout",
     "output_type": "stream",
     "text": [
      "\r",
      "1/5 [=====>........................] - ETA: 0s"
     ]
    },
    {
     "name": "stdout",
     "output_type": "stream",
     "text": [
      "\b\b\b\b\b\b\b\b\b\b\b\b\b\b\b\b\b\b\b\b\b\b\b\b\b\b\b\b\b\b\b\b\b\b\b\b\b\b\b\b\b\b\b\b\b\b\r",
      "5/5 [==============================] - 0s 2ms/step\n"
     ]
    },
    {
     "data": {
      "text/plain": [
       "array(['class2', 'class2', 'class2', 'class2', 'class2'], dtype='<U6')"
      ]
     },
     "execution_count": 1,
     "metadata": {},
     "output_type": "execute_result"
    }
   ],
   "source": [
    "clf = RaggedClassifier(loss=\"bce\")\n",
    "clf.fit(X, y)\n",
    "y_pred = clf.predict(X)\n",
    "y_pred"
   ]
  },
  {
   "cell_type": "markdown",
   "id": "increasing-penguin",
   "metadata": {},
   "source": [
    "## 6. Multi-output class_weight\n",
    "\n",
    "In this example, we will use `dataset_transformer` to support multi-output class weights.\n",
    "We will re-use our `MultiOutputTransformer` from our previous example to split the output, then we will create `sample_weight` from `class_weight`."
   ]
  },
  {
   "cell_type": "code",
   "execution_count": 41,
   "id": "loaded-least",
   "metadata": {
    "execution": {
     "iopub.execute_input": "2021-02-16T06:10:24.244932Z",
     "iopub.status.busy": "2021-02-16T06:10:24.243398Z",
     "iopub.status.idle": "2021-02-16T06:10:24.268136Z",
     "shell.execute_reply": "2021-02-16T06:10:24.268973Z"
    }
   },
   "outputs": [],
   "source": [
    "from collections import defaultdict\n",
    "from typing import Union\n",
    "\n",
    "from sklearn.utils.class_weight import compute_sample_weight\n",
    "\n",
    "\n",
    "class DatasetTransformer(BaseEstimator, TransformerMixin):\n",
    "\n",
    "    def __init__(self, output_names):\n",
    "        self.output_names = output_names\n",
    "\n",
    "    def fit(self, data: Dict[str, Any]) -> \"DatasetTransformer\":\n",
    "        return self\n",
    "\n",
    "    def transform(self, data: Dict[str, Any]) -> Dict[str, Any]:\n",
    "        class_weight = data.get(\"class_weight\", None)\n",
    "        if class_weight is None:\n",
    "            return data\n",
    "        if isinstance(class_weight, str):  # handle \"balanced\"\n",
    "            class_weight_ = class_weight\n",
    "            class_weight = defaultdict(lambda: class_weight_)\n",
    "        y, sample_weight = data.get(\"y\", None), data.get(\"sample_weight\", None)\n",
    "        assert sample_weight is None, \"Cannot use class_weight & sample_weight together\"\n",
    "        if y is not None:\n",
    "            # y should be a list of arrays, as split up by MultiOutputTransformer\n",
    "            sample_weight = {\n",
    "                output_name: compute_sample_weight(class_weight[output_num], output_data)\n",
    "                for output_num, (output_name, output_data) in enumerate(zip(self.output_names, y))\n",
    "            }\n",
    "            # Note: class_weight is expected to be indexable by output_number in sklearn\n",
    "            # see https://scikit-learn.org/stable/modules/generated/sklearn.utils.class_weight.compute_sample_weight.html\n",
    "            # It is trivial to change the expected format to match Keras' ({output_name: weights, ...})\n",
    "            # see https://github.com/keras-team/keras/issues/4735#issuecomment-267473722\n",
    "            data[\"sample_weight\"] = sample_weight\n",
    "            data[\"class_weight\"] = None\n",
    "        return data\n",
    "\n",
    "\n",
    "def get_model(meta, compile_kwargs):\n",
    "    inp = keras.layers.Input(shape=(meta[\"n_features_in_\"]))\n",
    "    x1 = keras.layers.Dense(100, activation=\"relu\")(inp)\n",
    "    out_bin = keras.layers.Dense(1, activation=\"sigmoid\")(x1)\n",
    "    out_cat = keras.layers.Dense(meta[\"n_classes_\"][1], activation=\"softmax\")(x1)\n",
    "    model = keras.Model(inputs=inp, outputs=[out_bin, out_cat])\n",
    "    model.compile(\n",
    "        loss=[\"binary_crossentropy\", \"sparse_categorical_crossentropy\"],\n",
    "        optimizer=compile_kwargs[\"optimizer\"]\n",
    "    )\n",
    "    return model\n",
    "\n",
    "\n",
    "class CustomClassifier(KerasClassifier):\n",
    "\n",
    "    @property\n",
    "    def target_encoder(self):\n",
    "        return MultiOutputTransformer()\n",
    "    \n",
    "    @property\n",
    "    def dataset_transformer(self):\n",
    "        return DatasetTransformer(\n",
    "            output_names=self.model_.output_names,\n",
    "        )"
   ]
  },
  {
   "cell_type": "markdown",
   "id": "united-vatican",
   "metadata": {},
   "source": [
    "Next, we define the data. We'll use `sklearn.datasets.make_blobs` to generate a relatively noisy dataset:"
   ]
  },
  {
   "cell_type": "code",
   "execution_count": 42,
   "id": "beautiful-train",
   "metadata": {
    "execution": {
     "iopub.execute_input": "2021-02-16T06:10:24.272151Z",
     "iopub.status.busy": "2021-02-16T06:10:24.271613Z",
     "iopub.status.idle": "2021-02-16T06:10:24.304316Z",
     "shell.execute_reply": "2021-02-16T06:10:24.304759Z"
    }
   },
   "outputs": [],
   "source": [
    "from sklearn.datasets import make_blobs\n",
    "\n",
    "\n",
    "X, y = make_blobs(centers=3, random_state=0, cluster_std=20)\n",
    "# make a binary target for \"is the value of the first class?\"\n",
    "y_bin = y == y[0]\n",
    "y = np.column_stack([y_bin, y])"
   ]
  },
  {
   "cell_type": "markdown",
   "id": "exciting-reader",
   "metadata": {},
   "source": [
    "Test the model without specifying class weighting:"
   ]
  },
  {
   "cell_type": "code",
   "execution_count": 43,
   "id": "aquatic-gasoline",
   "metadata": {
    "execution": {
     "iopub.execute_input": "2021-02-16T06:10:24.312836Z",
     "iopub.status.busy": "2021-02-16T06:10:24.312312Z",
     "iopub.status.idle": "2021-02-16T06:10:25.723383Z",
     "shell.execute_reply": "2021-02-16T06:10:25.724466Z"
    }
   },
   "outputs": [
    {
     "name": "stdout",
     "output_type": "stream",
     "text": [
      "[91  9]\n",
      "[28 30 42]\n"
     ]
    }
   ],
   "source": [
    "clf = CustomClassifier(get_model, epochs=100, verbose=0, random_state=0)\n",
    "clf.fit(X, y)\n",
    "y_pred = clf.predict(X)\n",
    "(_, counts_bin) = np.unique(y_pred[:, 0], return_counts=True)\n",
    "print(counts_bin)\n",
    "(_, counts_cat) = np.unique(y_pred[:, 1], return_counts=True)\n",
    "print(counts_cat)"
   ]
  },
  {
   "cell_type": "markdown",
   "id": "minute-invalid",
   "metadata": {},
   "source": [
    "As you can see, without `class_weight=\"balanced\"`, our classifier only predicts mainly a single class for the first output. Now with `class_weight=\"balanced\"`:"
   ]
  },
  {
   "cell_type": "code",
   "execution_count": 44,
   "id": "bright-harvey",
   "metadata": {
    "execution": {
     "iopub.execute_input": "2021-02-16T06:10:25.731956Z",
     "iopub.status.busy": "2021-02-16T06:10:25.730977Z",
     "iopub.status.idle": "2021-02-16T06:10:27.172845Z",
     "shell.execute_reply": "2021-02-16T06:10:27.173266Z"
    }
   },
   "outputs": [
    {
     "name": "stdout",
     "output_type": "stream",
     "text": [
      "[57 43]\n",
      "[27 27 46]\n"
     ]
    }
   ],
   "source": [
    "clf = CustomClassifier(get_model, class_weight=\"balanced\", epochs=100, verbose=0, random_state=0)\n",
    "clf.fit(X, y)\n",
    "y_pred = clf.predict(X)\n",
    "(_, counts_bin) = np.unique(y_pred[:, 0], return_counts=True)\n",
    "print(counts_bin)\n",
    "(_, counts_cat) = np.unique(y_pred[:, 1], return_counts=True)\n",
    "print(counts_cat)"
   ]
  },
  {
   "cell_type": "markdown",
   "id": "neural-error",
   "metadata": {},
   "source": [
    "Now, we get (mostly) balanced classes. But what if we want to specify our classes manually? You will notice that in when we defined `DatasetTransformer`, we gave it the ability to handle\n",
    "a list of class weights. For demonstration purposes, we will highly bias towards the second class in each output:"
   ]
  },
  {
   "cell_type": "code",
   "execution_count": 45,
   "id": "ongoing-delivery",
   "metadata": {
    "execution": {
     "iopub.execute_input": "2021-02-16T06:10:27.176998Z",
     "iopub.status.busy": "2021-02-16T06:10:27.176516Z",
     "iopub.status.idle": "2021-02-16T06:10:28.692455Z",
     "shell.execute_reply": "2021-02-16T06:10:28.692942Z"
    }
   },
   "outputs": [
    {
     "name": "stdout",
     "output_type": "stream",
     "text": [
      "[ 7 93]\n",
      "[ 2 98]\n"
     ]
    }
   ],
   "source": [
    "clf = CustomClassifier(get_model, class_weight=[{0: 0.1, 1: 1}, {0: 0.1, 1: 1, 2: 0.1}], epochs=100, verbose=0, random_state=0)\n",
    "clf.fit(X, y)\n",
    "y_pred = clf.predict(X)\n",
    "(_, counts_bin) = np.unique(y_pred[:, 0], return_counts=True)\n",
    "print(counts_bin)\n",
    "(_, counts_cat) = np.unique(y_pred[:, 1], return_counts=True)\n",
    "print(counts_cat)"
   ]
  },
  {
   "cell_type": "markdown",
   "id": "completed-offering",
   "metadata": {},
   "source": [
    "Or mixing the two methods, because our first output is unbalanced but our second is (presumably) balanced:"
   ]
  },
  {
   "cell_type": "code",
   "execution_count": 46,
   "id": "naughty-treasurer",
   "metadata": {
    "execution": {
     "iopub.execute_input": "2021-02-16T06:10:28.695965Z",
     "iopub.status.busy": "2021-02-16T06:10:28.695415Z",
     "iopub.status.idle": "2021-02-16T06:10:30.246910Z",
     "shell.execute_reply": "2021-02-16T06:10:30.247260Z"
    }
   },
   "outputs": [
    {
     "name": "stdout",
     "output_type": "stream",
     "text": [
      "[57 43]\n",
      "[30 25 45]\n"
     ]
    }
   ],
   "source": [
    "clf = CustomClassifier(get_model, class_weight=[\"balanced\", None], epochs=100, verbose=0, random_state=0)\n",
    "clf.fit(X, y)\n",
    "y_pred = clf.predict(X)\n",
    "(_, counts_bin) = np.unique(y_pred[:, 0], return_counts=True)\n",
    "print(counts_bin)\n",
    "(_, counts_cat) = np.unique(y_pred[:, 1], return_counts=True)\n",
    "print(counts_cat)"
   ]
  },
  {
   "cell_type": "markdown",
   "id": "material-shape",
   "metadata": {},
   "source": [
    "## 6. Custom validation dataset\n",
    "\n",
    "Although `dataset_transformer` is primarily designed for data transformations, because it returns valid `**kwargs` to fit it can be used for other advanced use cases.\n",
    "In this example, we use `dataset_transformer` to implement a custom test/train split for Keras' internal validation. We'll use sklearn's\n",
    "`train_test_split`, but this could be implemented via an arbitrary user function, eg. to ensure balanced class distribution."
   ]
  },
  {
   "cell_type": "code",
   "execution_count": 47,
   "id": "advanced-trick",
   "metadata": {
    "execution": {
     "iopub.execute_input": "2021-02-16T06:10:30.263279Z",
     "iopub.status.busy": "2021-02-16T06:10:30.262799Z",
     "iopub.status.idle": "2021-02-16T06:10:30.270009Z",
     "shell.execute_reply": "2021-02-16T06:10:30.270448Z"
    }
   },
   "outputs": [],
   "source": [
    "from sklearn.model_selection import train_test_split\n",
    "\n",
    "\n",
    "def get_clf(meta: Dict[str, Any]):\n",
    "    inp = keras.layers.Input(shape=(meta[\"n_features_in_\"],))\n",
    "    x1 = keras.layers.Dense(100, activation=\"relu\")(inp)\n",
    "    out = keras.layers.Dense(1, activation=\"sigmoid\")(x1)\n",
    "    return keras.Model(inputs=inp, outputs=out)\n",
    "\n",
    "\n",
    "class CustomSplit(BaseEstimator, TransformerMixin):\n",
    "\n",
    "    def __init__(self, test_size: float):\n",
    "        self.test_size = test_size\n",
    "    \n",
    "    def fit(self, data: Dict[str, Any]) -> \"CustomSplit\":\n",
    "        return self\n",
    "\n",
    "    def transform(self, data: Dict[str, Any]) -> Dict[str, Any]:\n",
    "        if self.test_size == 0:\n",
    "            return data\n",
    "        x, y, sw = data[\"x\"], data.get(\"y\", None), data.get(\"sample_weight\", None)\n",
    "        if y is None:\n",
    "            return data\n",
    "        if sw is None:\n",
    "            x_train, x_val, y_train, y_val = train_test_split(x, y, test_size=self.test_size, stratify=y)\n",
    "            validation_data = (x_val, y_val)\n",
    "            sw_train = None\n",
    "        else:\n",
    "            x_train, x_val, y_train, y_val, sw_train, sw_val = train_test_split(x, y, sw, test_size=self.test_size, stratify=y)\n",
    "            validation_data = (x_val, y_val, sw_val)\n",
    "        data[\"validation_data\"] = validation_data\n",
    "        data[\"x\"], data[\"y\"], data[\"sample_weight\"] = x_train, y_train, sw_train\n",
    "        return data\n",
    "\n",
    "\n",
    "class CustomClassifier(KerasClassifier):\n",
    "\n",
    "    @property\n",
    "    def dataset_transformer(self):\n",
    "        return CustomSplit(test_size=self.validation_split)"
   ]
  },
  {
   "cell_type": "markdown",
   "id": "nutritional-reputation",
   "metadata": {},
   "source": [
    "And now lets test with a toy dataset. We specifically choose to make the target strings to show\n",
    "that with this approach, we can preserve all of the nice data pre-processing that SciKeras does\n",
    "for us, while still being able to split the final data before passing it to Keras."
   ]
  },
  {
   "cell_type": "code",
   "execution_count": 48,
   "id": "spread-aquatic",
   "metadata": {
    "execution": {
     "iopub.execute_input": "2021-02-16T06:10:30.275853Z",
     "iopub.status.busy": "2021-02-16T06:10:30.275316Z",
     "iopub.status.idle": "2021-02-16T06:10:30.279418Z",
     "shell.execute_reply": "2021-02-16T06:10:30.278744Z"
    }
   },
   "outputs": [],
   "source": [
    "y = np.array([\"a\"] * 900 + [\"b\"] * 100)\n",
    "X = np.array([0] * 900 + [1] * 100).reshape(-1, 1)"
   ]
  },
  {
   "cell_type": "markdown",
   "id": "grave-punch",
   "metadata": {},
   "source": [
    "To get a base measurment to compare against, we'll run first with KerasClassifier as a benchmark."
   ]
  },
  {
   "cell_type": "code",
   "execution_count": 49,
   "id": "greatest-rescue",
   "metadata": {
    "execution": {
     "iopub.execute_input": "2021-02-16T06:10:30.285812Z",
     "iopub.status.busy": "2021-02-16T06:10:30.285313Z",
     "iopub.status.idle": "2021-02-16T06:10:31.829295Z",
     "shell.execute_reply": "2021-02-16T06:10:31.830150Z"
    }
   },
   "outputs": [
    {
     "name": "stdout",
     "output_type": "stream",
     "text": [
      "binary_accuracy = 1.0\n",
      "val_binary_accuracy = 0.0\n"
     ]
    }
   ],
   "source": [
    "clf = KerasClassifier(\n",
    "    get_clf,\n",
    "    loss=\"bce\",\n",
    "    metrics=[\"binary_accuracy\"],\n",
    "    verbose=False,\n",
    "    validation_split=0.1,\n",
    "    shuffle=False,\n",
    "    random_state=0,\n",
    "    epochs=10\n",
    ")\n",
    "\n",
    "clf.fit(X, y)\n",
    "print(f\"binary_accuracy = {clf.history_['binary_accuracy'][-1]}\")\n",
    "print(f\"val_binary_accuracy = {clf.history_['val_binary_accuracy'][-1]}\")"
   ]
  },
  {
   "cell_type": "markdown",
   "id": "friendly-facility",
   "metadata": {},
   "source": [
    "We see that we get near zero validation accuracy. Because one of our classes was only found in the tail end of our dataset and we specified `validation_split=0.1`, we validated with a class we had never seen before.\n",
    "\n",
    "We could specify `shuffle=True` (this is actually the default), but for highly imbalanced classes, this may not be as good as stratified splitting.\n",
    "\n",
    "So lets test our new `CustomClassifier`."
   ]
  },
  {
   "cell_type": "code",
   "execution_count": 50,
   "id": "settled-packing",
   "metadata": {
    "execution": {
     "iopub.execute_input": "2021-02-16T06:10:31.833647Z",
     "iopub.status.busy": "2021-02-16T06:10:31.832612Z",
     "iopub.status.idle": "2021-02-16T06:10:32.805708Z",
     "shell.execute_reply": "2021-02-16T06:10:32.806161Z"
    }
   },
   "outputs": [
    {
     "name": "stdout",
     "output_type": "stream",
     "text": [
      "binary_accuracy = 1.0\n",
      "val_binary_accuracy = 1.0\n"
     ]
    }
   ],
   "source": [
    "clf = CustomClassifier(\n",
    "    get_clf,\n",
    "    loss=\"bce\",\n",
    "    metrics=[\"binary_accuracy\"],\n",
    "    verbose=False,\n",
    "    validation_split=0.1,\n",
    "    shuffle=False,\n",
    "    random_state=0,\n",
    "    epochs=10\n",
    ")\n",
    "\n",
    "clf.fit(X, y)\n",
    "print(f\"binary_accuracy = {clf.history_['binary_accuracy'][-1]}\")\n",
    "print(f\"val_binary_accuracy = {clf.history_['val_binary_accuracy'][-1]}\")"
   ]
  },
  {
   "cell_type": "markdown",
   "id": "military-valley",
   "metadata": {},
   "source": [
    "Much better!"
   ]
  },
  {
   "cell_type": "markdown",
   "id": "adjacent-request",
   "metadata": {},
   "source": [
    "## 7. Dynamically setting batch_size"
   ]
  },
  {
   "cell_type": "markdown",
   "id": "fleet-practitioner",
   "metadata": {},
   "source": [
    "In this tutorial, we use the `data_transformer` interface to implement a dynamic batch_size, similar to sklearn's [MLPClassifier](https://scikit-learn.org/stable/modules/generated/sklearn.neural_network.MLPClassifier.html). We will implement `batch_size` as `batch_size=min(200, n_samples)`."
   ]
  },
  {
   "cell_type": "code",
   "execution_count": 51,
   "id": "facial-sociology",
   "metadata": {
    "execution": {
     "iopub.execute_input": "2021-02-16T06:10:32.816924Z",
     "iopub.status.busy": "2021-02-16T06:10:32.815669Z",
     "iopub.status.idle": "2021-02-16T06:10:32.817540Z",
     "shell.execute_reply": "2021-02-16T06:10:32.817978Z"
    }
   },
   "outputs": [],
   "source": [
    "from sklearn.model_selection import train_test_split\n",
    "\n",
    "\n",
    "def check_batch_size(x):\n",
    "    \"\"\"Check the batch_size used in training.\n",
    "    \"\"\"\n",
    "    bs = x.shape[0]\n",
    "    if bs is not None:\n",
    "        print(f\"batch_size={bs}\")\n",
    "    return x\n",
    "\n",
    "\n",
    "def get_clf(meta: Dict[str, Any]):\n",
    "    inp = keras.layers.Input(shape=(meta[\"n_features_in_\"],))\n",
    "    x1 = keras.layers.Dense(100, activation=\"relu\")(inp)\n",
    "    x2 = keras.layers.Lambda(check_batch_size)(x1)\n",
    "    out = keras.layers.Dense(1, activation=\"sigmoid\")(x2)\n",
    "    return keras.Model(inputs=inp, outputs=out)\n",
    "\n",
    "\n",
    "class DynamicBatch(BaseEstimator, TransformerMixin):\n",
    "\n",
    "    def fit(self, data: Dict[str, Any]) -> \"DynamicBatch\":\n",
    "        return self\n",
    "\n",
    "    def transform(self, data: Dict[str, Any]) -> Dict[str, Any]:\n",
    "        n_samples = data[\"x\"].shape[0]\n",
    "        data[\"batch_size\"] = min(200, n_samples)\n",
    "        return data\n",
    "\n",
    "\n",
    "class DynamicBatchClassifier(KerasClassifier):\n",
    "\n",
    "    @property\n",
    "    def dataset_transformer(self):\n",
    "        return DynamicBatch()"
   ]
  },
  {
   "cell_type": "markdown",
   "id": "olive-berry",
   "metadata": {},
   "source": [
    "Since this is happening inside SciKeras, this will work even if we are doing cross validation (which adjusts the split according to `cv`)."
   ]
  },
  {
   "cell_type": "code",
   "execution_count": 52,
   "id": "committed-termination",
   "metadata": {
    "execution": {
     "iopub.execute_input": "2021-02-16T06:10:32.823583Z",
     "iopub.status.busy": "2021-02-16T06:10:32.823063Z",
     "iopub.status.idle": "2021-02-16T06:10:35.537631Z",
     "shell.execute_reply": "2021-02-16T06:10:35.538087Z"
    }
   },
   "outputs": [
    {
     "name": "stdout",
     "output_type": "stream",
     "text": [
      "batch_size=167\n"
     ]
    },
    {
     "name": "stdout",
     "output_type": "stream",
     "text": [
      "batch_size=167\n"
     ]
    },
    {
     "name": "stdout",
     "output_type": "stream",
     "text": [
      "batch_size=167\n"
     ]
    },
    {
     "name": "stdout",
     "output_type": "stream",
     "text": [
      "batch_size=167\n"
     ]
    },
    {
     "name": "stdout",
     "output_type": "stream",
     "text": [
      "batch_size=166\n"
     ]
    },
    {
     "name": "stdout",
     "output_type": "stream",
     "text": [
      "batch_size=166\n"
     ]
    }
   ],
   "source": [
    "from sklearn.model_selection import cross_val_score\n",
    "\n",
    "clf = DynamicBatchClassifier(\n",
    "    get_clf,\n",
    "    loss=\"bce\",\n",
    "    verbose=False,\n",
    "    random_state=0\n",
    ")\n",
    "\n",
    "_ = cross_val_score(clf, X, y, cv=6)  # note: 1000 / 6 = 167"
   ]
  },
  {
   "cell_type": "markdown",
   "id": "living-weekly",
   "metadata": {},
   "source": [
    "But if we train with larger inputs, we can hit the cap of 200 we set:"
   ]
  },
  {
   "cell_type": "code",
   "execution_count": 53,
   "id": "becoming-surgery",
   "metadata": {
    "execution": {
     "iopub.execute_input": "2021-02-16T06:10:35.543501Z",
     "iopub.status.busy": "2021-02-16T06:10:35.542227Z",
     "iopub.status.idle": "2021-02-16T06:10:37.712459Z",
     "shell.execute_reply": "2021-02-16T06:10:37.711954Z"
    }
   },
   "outputs": [
    {
     "name": "stdout",
     "output_type": "stream",
     "text": [
      "batch_size=200\n"
     ]
    },
    {
     "name": "stdout",
     "output_type": "stream",
     "text": [
      "batch_size=200\n"
     ]
    },
    {
     "name": "stdout",
     "output_type": "stream",
     "text": [
      "batch_size=200\n"
     ]
    },
    {
     "name": "stdout",
     "output_type": "stream",
     "text": [
      "batch_size=200\n",
      "batch_size=200\n"
     ]
    },
    {
     "name": "stdout",
     "output_type": "stream",
     "text": [
      "batch_size=200\n",
      "batch_size=200\n"
     ]
    },
    {
     "name": "stdout",
     "output_type": "stream",
     "text": [
      "batch_size=200\n"
     ]
    },
    {
     "name": "stdout",
     "output_type": "stream",
     "text": [
      "batch_size=200\n",
      "batch_size=200\n",
      "batch_size=200\n"
     ]
    },
    {
     "name": "stdout",
     "output_type": "stream",
     "text": [
      "batch_size=200\n",
      "batch_size=200\n",
      "batch_size=200\n"
     ]
    },
    {
     "name": "stdout",
     "output_type": "stream",
     "text": [
      "batch_size=200\n"
     ]
    }
   ],
   "source": [
    "_ = cross_val_score(clf, X, y, cv=5)"
   ]
  }
 ],
 "metadata": {
  "jupytext": {
   "formats": "ipynb,md"
  },
  "kernelspec": {
   "display_name": "Python 3",
   "language": "python",
   "name": "python3"
  },
  "language_info": {
   "codemirror_mode": {
    "name": "ipython",
    "version": 3
   },
   "file_extension": ".py",
   "mimetype": "text/x-python",
   "name": "python",
   "nbconvert_exporter": "python",
   "pygments_lexer": "ipython3",
   "version": "3.8.7"
  }
 },
 "nbformat": 4,
 "nbformat_minor": 5
}
