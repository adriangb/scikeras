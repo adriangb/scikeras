{
 "cells": [
  {
   "cell_type": "raw",
   "id": "continent-broadway",
   "metadata": {},
   "source": [
    "<a href=\"https://colab.research.google.com/github/adriangb/scikeras/blob/docs-deploy/refs/heads/master/notebooks/Benchmarks.ipynb\"><img src=\"https://www.tensorflow.org/images/colab_logo_32px.png\">Run in Google Colab</a>"
   ]
  },
  {
   "cell_type": "markdown",
   "id": "meaningful-cruise",
   "metadata": {},
   "source": [
    "# SciKeras Benchmarks\n",
    "\n",
    "SciKeras wraps Keras Models, but does not alter their performance since all of the heavy lifting still happens within Keras/Tensorflow. In this notebook, we compare the performance and accuracy of a pure-Keras Model to the same model wrapped in SciKeras.\n",
    "\n",
    "## Table of contents\n",
    "\n",
    "* [1. Setup](#1.-Setup)\n",
    "* [2. Dataset](#2.-Dataset)\n",
    "* [3. Define Keras Model](#3.-Define-Keras-Model)\n",
    "* [4. Keras benchmarks](#4.-Keras-benchmarks)\n",
    "* [5. SciKeras benchmark](#5.-SciKeras-benchmark)\n",
    "\n",
    "## 1. Setup"
   ]
  },
  {
   "cell_type": "code",
   "execution_count": 1,
   "id": "identified-boost",
   "metadata": {
    "execution": {
     "iopub.execute_input": "2021-01-28T21:36:02.419805Z",
     "iopub.status.busy": "2021-01-28T21:36:02.419156Z",
     "iopub.status.idle": "2021-01-28T21:36:03.946364Z",
     "shell.execute_reply": "2021-01-28T21:36:03.946815Z"
    }
   },
   "outputs": [],
   "source": [
    "try:\n",
    "    import scikeras\n",
    "except ImportError:\n",
    "    !python -m pip install scikeras"
   ]
  },
  {
   "cell_type": "markdown",
   "id": "deluxe-elimination",
   "metadata": {},
   "source": [
    "Silence TensorFlow logging to keep output succinct."
   ]
  },
  {
   "cell_type": "code",
   "execution_count": 2,
   "id": "typical-drain",
   "metadata": {
    "execution": {
     "iopub.execute_input": "2021-01-28T21:36:03.950798Z",
     "iopub.status.busy": "2021-01-28T21:36:03.949612Z",
     "iopub.status.idle": "2021-01-28T21:36:03.953996Z",
     "shell.execute_reply": "2021-01-28T21:36:03.954700Z"
    }
   },
   "outputs": [],
   "source": [
    "import warnings\n",
    "from tensorflow import get_logger\n",
    "get_logger().setLevel('ERROR')\n",
    "warnings.filterwarnings(\"ignore\", message=\"Setting the random state for TF\")"
   ]
  },
  {
   "cell_type": "code",
   "execution_count": 3,
   "id": "valuable-pressure",
   "metadata": {
    "execution": {
     "iopub.execute_input": "2021-01-28T21:36:03.958095Z",
     "iopub.status.busy": "2021-01-28T21:36:03.956990Z",
     "iopub.status.idle": "2021-01-28T21:36:04.376227Z",
     "shell.execute_reply": "2021-01-28T21:36:04.377117Z"
    }
   },
   "outputs": [],
   "source": [
    "import numpy as np\n",
    "from scikeras.wrappers import KerasClassifier, KerasRegressor\n",
    "from tensorflow import keras"
   ]
  },
  {
   "cell_type": "markdown",
   "id": "statistical-rogers",
   "metadata": {},
   "source": [
    "## 2. Dataset\n",
    "\n",
    "We will be using the MNIST dataset available within Keras."
   ]
  },
  {
   "cell_type": "code",
   "execution_count": 4,
   "id": "natural-serbia",
   "metadata": {
    "execution": {
     "iopub.execute_input": "2021-01-28T21:36:04.380979Z",
     "iopub.status.busy": "2021-01-28T21:36:04.379792Z",
     "iopub.status.idle": "2021-01-28T21:36:04.830044Z",
     "shell.execute_reply": "2021-01-28T21:36:04.830945Z"
    }
   },
   "outputs": [],
   "source": [
    "(x_train, y_train), (x_test, y_test) = keras.datasets.mnist.load_data()\n",
    "# Scale images to the [0, 1] range\n",
    "x_train = x_train.astype(\"float32\") / 255\n",
    "x_test = x_test.astype(\"float32\") / 255\n",
    "# Make sure images have shape (28, 28, 1)\n",
    "x_train = np.expand_dims(x_train, -1)\n",
    "x_test = np.expand_dims(x_test, -1)\n",
    "# Reduce dataset size for faster benchmarks\n",
    "x_train, y_train = x_train[:2000], y_train[:2000]\n",
    "x_test, y_test = x_test[:500], y_test[:500]"
   ]
  },
  {
   "cell_type": "markdown",
   "id": "anticipated-medicaid",
   "metadata": {},
   "source": [
    "## 3. Define Keras Model\n",
    "\n",
    "Next we will define our Keras model (adapted from [keras.io](https://keras.io/examples/vision/mnist_convnet/)):"
   ]
  },
  {
   "cell_type": "code",
   "execution_count": 5,
   "id": "magnetic-collect",
   "metadata": {
    "execution": {
     "iopub.execute_input": "2021-01-28T21:36:04.835028Z",
     "iopub.status.busy": "2021-01-28T21:36:04.833728Z",
     "iopub.status.idle": "2021-01-28T21:36:04.841629Z",
     "shell.execute_reply": "2021-01-28T21:36:04.842441Z"
    }
   },
   "outputs": [],
   "source": [
    "num_classes = 10\n",
    "input_shape = (28, 28, 1)\n",
    "\n",
    "\n",
    "def get_model():\n",
    "    model = keras.Sequential(\n",
    "        [\n",
    "            keras.Input(input_shape),\n",
    "            keras.layers.Conv2D(32, kernel_size=(3, 3), activation=\"relu\"),\n",
    "            keras.layers.MaxPooling2D(pool_size=(2, 2)),\n",
    "            keras.layers.Conv2D(64, kernel_size=(3, 3), activation=\"relu\"),\n",
    "            keras.layers.MaxPooling2D(pool_size=(2, 2)),\n",
    "            keras.layers.Flatten(),\n",
    "            keras.layers.Dropout(0.5),\n",
    "            keras.layers.Dense(num_classes, activation=\"softmax\"),\n",
    "        ]\n",
    "    )\n",
    "    model.compile(\n",
    "        loss=\"sparse_categorical_crossentropy\", optimizer=\"adam\"\n",
    "    )\n",
    "    return model"
   ]
  },
  {
   "cell_type": "markdown",
   "id": "perceived-preference",
   "metadata": {},
   "source": [
    "## 4. Keras benchmarks"
   ]
  },
  {
   "cell_type": "code",
   "execution_count": 6,
   "id": "animal-vegetarian",
   "metadata": {
    "execution": {
     "iopub.execute_input": "2021-01-28T21:36:04.845973Z",
     "iopub.status.busy": "2021-01-28T21:36:04.844910Z",
     "iopub.status.idle": "2021-01-28T21:36:04.849385Z",
     "shell.execute_reply": "2021-01-28T21:36:04.850141Z"
    }
   },
   "outputs": [],
   "source": [
    "fit_kwargs = {\"batch_size\": 128, \"validation_split\": 0.1, \"verbose\": 0, \"epochs\": 5}"
   ]
  },
  {
   "cell_type": "code",
   "execution_count": 7,
   "id": "human-monitor",
   "metadata": {
    "execution": {
     "iopub.execute_input": "2021-01-28T21:36:04.853748Z",
     "iopub.status.busy": "2021-01-28T21:36:04.852619Z",
     "iopub.status.idle": "2021-01-28T21:36:04.856551Z",
     "shell.execute_reply": "2021-01-28T21:36:04.857295Z"
    }
   },
   "outputs": [],
   "source": [
    "from sklearn.metrics import accuracy_score\n",
    "from scikeras._utils import TFRandomState"
   ]
  },
  {
   "cell_type": "code",
   "execution_count": 8,
   "id": "located-diamond",
   "metadata": {
    "execution": {
     "iopub.execute_input": "2021-01-28T21:36:04.860531Z",
     "iopub.status.busy": "2021-01-28T21:36:04.859483Z",
     "iopub.status.idle": "2021-01-28T21:36:11.915270Z",
     "shell.execute_reply": "2021-01-28T21:36:11.916081Z"
    }
   },
   "outputs": [
    {
     "name": "stdout",
     "output_type": "stream",
     "text": [
      "Training time: 6.81\n",
      "Accuracy: 0.882\n"
     ]
    }
   ],
   "source": [
    "from time import time\n",
    "\n",
    "with TFRandomState(seed=0):  # we force a TF random state to be able to compare accuracy\n",
    "    model = get_model()\n",
    "    start = time()\n",
    "    model.fit(x_train, y_train, **fit_kwargs)\n",
    "    print(f\"Training time: {time()-start:.2f}\")\n",
    "    y_pred = np.argmax(model.predict(x_test), axis=1)\n",
    "print(f\"Accuracy: {accuracy_score(y_test, y_pred)}\")"
   ]
  },
  {
   "cell_type": "markdown",
   "id": "valuable-afghanistan",
   "metadata": {},
   "source": [
    "## 5. SciKeras benchmark"
   ]
  },
  {
   "cell_type": "code",
   "execution_count": 9,
   "id": "aboriginal-hanging",
   "metadata": {
    "execution": {
     "iopub.execute_input": "2021-01-28T21:36:11.919849Z",
     "iopub.status.busy": "2021-01-28T21:36:11.918753Z",
     "iopub.status.idle": "2021-01-28T21:36:11.923263Z",
     "shell.execute_reply": "2021-01-28T21:36:11.923966Z"
    }
   },
   "outputs": [],
   "source": [
    "clf = KerasClassifier(\n",
    "    model=get_model,\n",
    "    random_state=0,\n",
    "    **fit_kwargs\n",
    ")"
   ]
  },
  {
   "cell_type": "code",
   "execution_count": 10,
   "id": "hungarian-uncle",
   "metadata": {
    "execution": {
     "iopub.execute_input": "2021-01-28T21:36:11.927410Z",
     "iopub.status.busy": "2021-01-28T21:36:11.926307Z",
     "iopub.status.idle": "2021-01-28T21:36:18.288660Z",
     "shell.execute_reply": "2021-01-28T21:36:18.289164Z"
    }
   },
   "outputs": [
    {
     "name": "stdout",
     "output_type": "stream",
     "text": [
      "Training time: 6.19\n",
      "Accuracy: 0.882\n"
     ]
    }
   ],
   "source": [
    "start = time()\n",
    "clf.fit(x_train, y_train)\n",
    "print(f\"Training time: {time()-start:.2f}\")\n",
    "y_pred = clf.predict(x_test)\n",
    "print(f\"Accuracy: {accuracy_score(y_test, y_pred)}\")"
   ]
  },
  {
   "cell_type": "markdown",
   "id": "speaking-forth",
   "metadata": {},
   "source": [
    "As you can see, the overhead for SciKeras is <1 sec, and the accuracy is identical."
   ]
  }
 ],
 "metadata": {
  "jupytext": {
   "formats": "ipynb,md"
  },
  "kernelspec": {
   "display_name": "Python 3",
   "language": "python",
   "name": "python3"
  },
  "language_info": {
   "codemirror_mode": {
    "name": "ipython",
    "version": 3
   },
   "file_extension": ".py",
   "mimetype": "text/x-python",
   "name": "python",
   "nbconvert_exporter": "python",
   "pygments_lexer": "ipython3",
   "version": "3.8.7"
  }
 },
 "nbformat": 4,
 "nbformat_minor": 5
}
