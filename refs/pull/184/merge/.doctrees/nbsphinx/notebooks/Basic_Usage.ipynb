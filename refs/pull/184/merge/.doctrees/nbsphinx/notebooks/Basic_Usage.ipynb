{
 "cells": [
  {
   "cell_type": "raw",
   "id": "northern-netscape",
   "metadata": {},
   "source": [
    "<a href=\"https://colab.research.google.com/github/adriangb/scikeras/blob/docs-deploy/refs/heads/master/notebooks/Basic_Usage.ipynb\"><img src=\"https://www.tensorflow.org/images/colab_logo_32px.png\">Run in Google Colab</a>"
   ]
  },
  {
   "cell_type": "markdown",
   "id": "surgical-terminology",
   "metadata": {},
   "source": [
    "# Basic usage\n",
    "\n",
    "`SciKeras` is designed to maximize interoperability between `sklearn` and `Keras/TensorFlow`. The aim is to keep 99% of the flexibility of `Keras` while being able to leverage most features of `sklearn`. Below, we show the basic usage of `SciKeras` and how it can be combined with `sklearn`.\n",
    "\n",
    "This notebook shows you how to use the basic functionality of `SciKeras`.\n",
    "\n",
    "## Table of contents\n",
    "\n",
    "* [1. Setup](#1.-Setup)\n",
    "* [2. Training a classifier and making predictions](#2.-Training-a-classifier-and-making-predictions)\n",
    "  * [2.1 A toy binary classification task](#2.1-A-toy-binary-classification-task)\n",
    "  * [2.2 Definition of the Keras classification Model](#2.2-Definition-of-the-Keras-classification-Model)\n",
    "  * [2.3 Defining and training the neural net classifier](#2.3-Defining-and-training-the-neural-net-classifier)\n",
    "  * [2.4 Making predictions, classification](#2.4-Making-predictions-classification)\n",
    "* [3 Training a regressor](#3.-Training-a-regressor)\n",
    "  * [3.1 A toy regression task](#3.1-A-toy-regression-task)\n",
    "  * [3.2 Definition of the Keras regression Model](#3.2-Definition-of-the-Keras-regression-Model)\n",
    "  * [3.3 Defining and training the neural net regressor](#3.3-Defining-and-training-the-neural-net-regressor)\n",
    "  * [3.4 Making predictions, regression](#3.4-Making-predictions-regression)\n",
    "* [4. Saving and loading a model](#4.-Saving-and-loading-a-model)\n",
    "  * [4.1 Saving the whole model](#4.1-Saving-the-whole-model)\n",
    "  * [4.2 Saving using Keras' saving methods](#4.2-Saving-using-Keras-saving-methods)\n",
    "* [5. Usage with an sklearn Pipeline](#5.-Usage-with-an-sklearn-Pipeline)\n",
    "* [6. Callbacks](#6.-Callbacks)\n",
    "* [7. Usage with sklearn GridSearchCV](#7.-Usage-with-sklearn-GridSearchCV)\n",
    "  * [7.1 Special prefixes](#7.1-Special-prefixes)\n",
    "  * [7.2 Performing a grid search](#7.2-Performing-a-grid-search)\n",
    "\n",
    "## 1. Setup"
   ]
  },
  {
   "cell_type": "code",
   "execution_count": 1,
   "id": "instructional-athletics",
   "metadata": {
    "execution": {
     "iopub.execute_input": "2021-01-31T07:24:33.445860Z",
     "iopub.status.busy": "2021-01-31T07:24:33.445184Z",
     "iopub.status.idle": "2021-01-31T07:24:38.056250Z",
     "shell.execute_reply": "2021-01-31T07:24:38.057086Z"
    }
   },
   "outputs": [],
   "source": [
    "try:\n",
    "    import scikeras\n",
    "except ImportError:\n",
    "    !python -m pip install scikeras"
   ]
  },
  {
   "cell_type": "markdown",
   "id": "close-arthur",
   "metadata": {},
   "source": [
    "Silence TensorFlow logging to keep output succinct."
   ]
  },
  {
   "cell_type": "code",
   "execution_count": 2,
   "id": "hourly-perspective",
   "metadata": {
    "execution": {
     "iopub.execute_input": "2021-01-31T07:24:38.061216Z",
     "iopub.status.busy": "2021-01-31T07:24:38.060056Z",
     "iopub.status.idle": "2021-01-31T07:24:38.066040Z",
     "shell.execute_reply": "2021-01-31T07:24:38.066840Z"
    }
   },
   "outputs": [],
   "source": [
    "import warnings\n",
    "from tensorflow import get_logger\n",
    "get_logger().setLevel('ERROR')\n",
    "warnings.filterwarnings(\"ignore\", message=\"Setting the random state for TF\")"
   ]
  },
  {
   "cell_type": "code",
   "execution_count": 3,
   "id": "handed-favor",
   "metadata": {
    "execution": {
     "iopub.execute_input": "2021-01-31T07:24:38.070560Z",
     "iopub.status.busy": "2021-01-31T07:24:38.069388Z",
     "iopub.status.idle": "2021-01-31T07:24:39.065025Z",
     "shell.execute_reply": "2021-01-31T07:24:39.065908Z"
    }
   },
   "outputs": [],
   "source": [
    "import numpy as np\n",
    "from scikeras.wrappers import KerasClassifier, KerasRegressor\n",
    "from tensorflow import keras"
   ]
  },
  {
   "cell_type": "markdown",
   "id": "outdoor-refrigerator",
   "metadata": {},
   "source": [
    "## 2. Training a classifier and making predictions\n",
    "\n",
    "### 2.1 A toy binary classification task\n",
    "\n",
    "We load a toy classification task from `sklearn`."
   ]
  },
  {
   "cell_type": "code",
   "execution_count": 4,
   "id": "median-twelve",
   "metadata": {
    "execution": {
     "iopub.execute_input": "2021-01-31T07:24:39.070008Z",
     "iopub.status.busy": "2021-01-31T07:24:39.068842Z",
     "iopub.status.idle": "2021-01-31T07:24:39.113797Z",
     "shell.execute_reply": "2021-01-31T07:24:39.114630Z"
    }
   },
   "outputs": [
    {
     "data": {
      "text/plain": [
       "((1000, 20), (1000,), 0.5)"
      ]
     },
     "execution_count": 1,
     "metadata": {},
     "output_type": "execute_result"
    }
   ],
   "source": [
    "import numpy as np\n",
    "from sklearn.datasets import make_classification\n",
    "\n",
    "\n",
    "X, y = make_classification(1000, 20, n_informative=10, random_state=0)\n",
    "\n",
    "X.shape, y.shape, y.mean()"
   ]
  },
  {
   "cell_type": "markdown",
   "id": "enclosed-police",
   "metadata": {},
   "source": [
    "### 2.2 Definition of the Keras classification Model\n",
    "\n",
    "We define a vanilla neural network with.\n",
    "\n",
    "Because we are dealing with 2 classes, the output layer can be constructed in\n",
    "two different ways:\n",
    "\n",
    "1. Single unit with a `\"sigmoid\"` nonlinearity. The loss must be `\"binary_crossentropy\"`.\n",
    "2. Two units (one for each class) and a `\"softmax\"` nonlinearity. The loss must be `\"sparse_categorical_crossentropy\"`.\n",
    "\n",
    "In this example, we choose the first option, which is what you would usually\n",
    "do for binary classification. The second option is usually reserved for when\n",
    "you have >2 classes."
   ]
  },
  {
   "cell_type": "code",
   "execution_count": 5,
   "id": "finished-express",
   "metadata": {
    "execution": {
     "iopub.execute_input": "2021-01-31T07:24:39.118744Z",
     "iopub.status.busy": "2021-01-31T07:24:39.117486Z",
     "iopub.status.idle": "2021-01-31T07:24:39.124509Z",
     "shell.execute_reply": "2021-01-31T07:24:39.125451Z"
    }
   },
   "outputs": [],
   "source": [
    "from tensorflow import keras\n",
    "\n",
    "\n",
    "def get_clf(meta, hidden_layer_sizes, dropout):\n",
    "    n_features_in_ = meta[\"n_features_in_\"]\n",
    "    n_classes_ = meta[\"n_classes_\"]\n",
    "    model = keras.models.Sequential()\n",
    "    model.add(keras.layers.Input(shape=(n_features_in_,)))\n",
    "    for hidden_layer_size in hidden_layer_sizes:\n",
    "        model.add(keras.layers.Dense(hidden_layer_size, activation=\"relu\"))\n",
    "        model.add(keras.layers.Dropout(dropout))\n",
    "    model.add(keras.layers.Dense(1, activation=\"sigmoid\"))\n",
    "    return model"
   ]
  },
  {
   "cell_type": "markdown",
   "id": "identical-carroll",
   "metadata": {},
   "source": [
    "### 2.3 Defining and training the neural net classifier\n",
    "\n",
    "We use `KerasClassifier` because we're dealing with a classifcation task. The first argument should be a callable returning a `Keras.Model`, in this case, `get_clf`. As additional arguments, we pass the number of loss function (required) and the optimizer, but the later is optional. We must also pass all of the arguments to `get_clf` as keyword arguments to `KerasClassifier` if they don't have a default value in `get_clf`. Note that if you do not pass an argument to `KerasClassifier`, it will not be avilable for hyperparameter tuning. Finally, we also pass `random_state=0` for reproducible results."
   ]
  },
  {
   "cell_type": "code",
   "execution_count": 6,
   "id": "impaired-corpus",
   "metadata": {
    "execution": {
     "iopub.execute_input": "2021-01-31T07:24:39.129353Z",
     "iopub.status.busy": "2021-01-31T07:24:39.127998Z",
     "iopub.status.idle": "2021-01-31T07:24:39.133335Z",
     "shell.execute_reply": "2021-01-31T07:24:39.134159Z"
    }
   },
   "outputs": [],
   "source": [
    "from scikeras.wrappers import KerasClassifier\n",
    "\n",
    "\n",
    "clf = KerasClassifier(\n",
    "    model=get_clf,\n",
    "    loss=\"binary_crossentropy\",\n",
    "    hidden_layer_sizes=(100,),\n",
    "    dropout=0.5,\n",
    ")"
   ]
  },
  {
   "cell_type": "markdown",
   "id": "alternative-assessment",
   "metadata": {},
   "source": [
    "As in `sklearn`, we call `fit` passing the input data `X` and the targets `y`."
   ]
  },
  {
   "cell_type": "code",
   "execution_count": 7,
   "id": "comprehensive-advertiser",
   "metadata": {
    "execution": {
     "iopub.execute_input": "2021-01-31T07:24:39.137671Z",
     "iopub.status.busy": "2021-01-31T07:24:39.136544Z",
     "iopub.status.idle": "2021-01-31T07:24:39.863889Z",
     "shell.execute_reply": "2021-01-31T07:24:39.863225Z"
    }
   },
   "outputs": [
    {
     "name": "stdout",
     "output_type": "stream",
     "text": [
      "\r",
      " 1/32 [..............................] - ETA: 16s - loss: 1.5618"
     ]
    },
    {
     "name": "stdout",
     "output_type": "stream",
     "text": [
      "\b\b\b\b\b\b\b\b\b\b\b\b\b\b\b\b\b\b\b\b\b\b\b\b\b\b\b\b\b\b\b\b\b\b\b\b\b\b\b\b\b\b\b\b\b\b\b\b\b\b\b\b\b\b\b\b\b\b\b\b\b\b\b\b\r",
      "29/32 [==========================>...] - ETA: 0s - loss: 0.9798 "
     ]
    },
    {
     "name": "stdout",
     "output_type": "stream",
     "text": [
      "\b\b\b\b\b\b\b\b\b\b\b\b\b\b\b\b\b\b\b\b\b\b\b\b\b\b\b\b\b\b\b\b\b\b\b\b\b\b\b\b\b\b\b\b\b\b\b\b\b\b\b\b\b\b\b\b\b\b\b\b\b\b\b\r",
      "32/32 [==============================] - 1s 2ms/step - loss: 0.9680\n"
     ]
    },
    {
     "data": {
      "text/plain": [
       "KerasClassifier(\n",
       "\tmodel=<function get_clf at 0x7fdfacc70820>\n",
       "\tbuild_fn=None\n",
       "\twarm_start=False\n",
       "\trandom_state=None\n",
       "\toptimizer=rmsprop\n",
       "\tloss=binary_crossentropy\n",
       "\tmetrics=None\n",
       "\tbatch_size=None\n",
       "\tverbose=1\n",
       "\tcallbacks=None\n",
       "\tvalidation_split=0.0\n",
       "\tshuffle=True\n",
       "\trun_eagerly=False\n",
       "\tepochs=1\n",
       "\thidden_layer_sizes=(100,)\n",
       "\tdropout=0.5\n",
       "\tclass_weight=None\n",
       ")"
      ]
     },
     "execution_count": 1,
     "metadata": {},
     "output_type": "execute_result"
    }
   ],
   "source": [
    "clf.fit(X, y);"
   ]
  },
  {
   "cell_type": "markdown",
   "id": "billion-minority",
   "metadata": {},
   "source": [
    "Also, as in `sklearn`, you may call `predict` or `predict_proba` on the fitted model.\n",
    "\n",
    "### 2.4 Making predictions, classification"
   ]
  },
  {
   "cell_type": "code",
   "execution_count": 8,
   "id": "warming-electron",
   "metadata": {
    "execution": {
     "iopub.execute_input": "2021-01-31T07:24:39.871350Z",
     "iopub.status.busy": "2021-01-31T07:24:39.868531Z",
     "iopub.status.idle": "2021-01-31T07:24:40.000098Z",
     "shell.execute_reply": "2021-01-31T07:24:39.999176Z"
    }
   },
   "outputs": [
    {
     "name": "stdout",
     "output_type": "stream",
     "text": [
      "\r",
      "1/1 [==============================] - ETA: 0s"
     ]
    },
    {
     "name": "stdout",
     "output_type": "stream",
     "text": [
      "\b\b\b\b\b\b\b\b\b\b\b\b\b\b\b\b\b\b\b\b\b\b\b\b\b\b\b\b\b\b\b\b\b\b\b\b\b\b\b\b\b\b\b\b\b\b\r",
      "1/1 [==============================] - 0s 86ms/step\n"
     ]
    },
    {
     "data": {
      "text/plain": [
       "array([1, 0, 0, 0, 0])"
      ]
     },
     "execution_count": 1,
     "metadata": {},
     "output_type": "execute_result"
    }
   ],
   "source": [
    "y_pred = clf.predict(X[:5])\n",
    "y_pred"
   ]
  },
  {
   "cell_type": "code",
   "execution_count": 9,
   "id": "neither-slovak",
   "metadata": {
    "execution": {
     "iopub.execute_input": "2021-01-31T07:24:40.006297Z",
     "iopub.status.busy": "2021-01-31T07:24:40.005626Z",
     "iopub.status.idle": "2021-01-31T07:24:40.059521Z",
     "shell.execute_reply": "2021-01-31T07:24:40.058946Z"
    }
   },
   "outputs": [
    {
     "name": "stdout",
     "output_type": "stream",
     "text": [
      "\r",
      "1/1 [==============================] - ETA: 0s"
     ]
    },
    {
     "name": "stdout",
     "output_type": "stream",
     "text": [
      "\b\b\b\b\b\b\b\b\b\b\b\b\b\b\b\b\b\b\b\b\b\b\b\b\b\b\b\b\b\b\b\b\b\b\b\b\b\b\b\b\b\b\b\b\b\b\r",
      "1/1 [==============================] - 0s 18ms/step\n"
     ]
    },
    {
     "data": {
      "text/plain": [
       "array([[0.3476904 , 0.6523096 ],\n",
       "       [0.7554899 , 0.24451011],\n",
       "       [0.70273983, 0.29726017],\n",
       "       [0.724513  , 0.275487  ],\n",
       "       [0.8301545 , 0.16984552]], dtype=float32)"
      ]
     },
     "execution_count": 1,
     "metadata": {},
     "output_type": "execute_result"
    }
   ],
   "source": [
    "y_proba = clf.predict_proba(X[:5])\n",
    "y_proba"
   ]
  },
  {
   "cell_type": "markdown",
   "id": "planned-toner",
   "metadata": {},
   "source": [
    "## 3 Training a regressor\n",
    "\n",
    "### 3.1 A toy regression task"
   ]
  },
  {
   "cell_type": "code",
   "execution_count": 10,
   "id": "falling-lexington",
   "metadata": {
    "execution": {
     "iopub.execute_input": "2021-01-31T07:24:40.068085Z",
     "iopub.status.busy": "2021-01-31T07:24:40.067302Z",
     "iopub.status.idle": "2021-01-31T07:24:40.074985Z",
     "shell.execute_reply": "2021-01-31T07:24:40.075574Z"
    }
   },
   "outputs": [
    {
     "data": {
      "text/plain": [
       "((1000, 20), (1000,), -649.0148244404172, 615.4505181286091)"
      ]
     },
     "execution_count": 1,
     "metadata": {},
     "output_type": "execute_result"
    }
   ],
   "source": [
    "from sklearn.datasets import make_regression\n",
    "\n",
    "\n",
    "X_regr, y_regr = make_regression(1000, 20, n_informative=10, random_state=0)\n",
    "\n",
    "X_regr.shape, y_regr.shape, y_regr.min(), y_regr.max()"
   ]
  },
  {
   "cell_type": "markdown",
   "id": "interim-fleece",
   "metadata": {},
   "source": [
    "### 3.2 Definition of the Keras regression Model\n",
    "\n",
    "Again, define a vanilla neural network. The main difference is that the output layer always has a single unit and does not apply any nonlinearity."
   ]
  },
  {
   "cell_type": "code",
   "execution_count": 11,
   "id": "southern-poetry",
   "metadata": {
    "execution": {
     "iopub.execute_input": "2021-01-31T07:24:40.078391Z",
     "iopub.status.busy": "2021-01-31T07:24:40.077545Z",
     "iopub.status.idle": "2021-01-31T07:24:40.086206Z",
     "shell.execute_reply": "2021-01-31T07:24:40.086759Z"
    }
   },
   "outputs": [],
   "source": [
    "def get_reg(meta, hidden_layer_sizes, dropout):\n",
    "    n_features_in_ = meta[\"n_features_in_\"]\n",
    "    model = keras.models.Sequential()\n",
    "    model.add(keras.layers.Input(shape=(n_features_in_,)))\n",
    "    for hidden_layer_size in hidden_layer_sizes:\n",
    "        model.add(keras.layers.Dense(hidden_layer_size, activation=\"relu\"))\n",
    "        model.add(keras.layers.Dropout(dropout))\n",
    "    model.add(keras.layers.Dense(1))\n",
    "    return model"
   ]
  },
  {
   "cell_type": "markdown",
   "id": "swedish-victory",
   "metadata": {},
   "source": [
    "### 3.3 Defining and training the neural net regressor\n",
    "\n",
    "Training a regressor is almost the same as training a classifier. Mainly, we use `KerasRegressor` instead of `KerasClassifier` (this is the same terminology as in `sklearn`). We also change the loss function to `KerasRegressor.r_squared`. SciKeras provides this loss function because most of the `sklearn` ecosystem expects `R^2` as the loss function, but Keras does not have a default implementation."
   ]
  },
  {
   "cell_type": "code",
   "execution_count": 12,
   "id": "infrared-concern",
   "metadata": {
    "execution": {
     "iopub.execute_input": "2021-01-31T07:24:40.089687Z",
     "iopub.status.busy": "2021-01-31T07:24:40.088973Z",
     "iopub.status.idle": "2021-01-31T07:24:40.093637Z",
     "shell.execute_reply": "2021-01-31T07:24:40.095512Z"
    }
   },
   "outputs": [],
   "source": [
    "from scikeras.wrappers import KerasRegressor\n",
    "\n",
    "\n",
    "reg = KerasRegressor(\n",
    "    model=get_reg,\n",
    "    loss=KerasRegressor.r_squared,\n",
    "    hidden_layer_sizes=(100,),\n",
    "    dropout=0.5,\n",
    ")"
   ]
  },
  {
   "cell_type": "code",
   "execution_count": 13,
   "id": "invalid-newcastle",
   "metadata": {
    "execution": {
     "iopub.execute_input": "2021-01-31T07:24:40.099450Z",
     "iopub.status.busy": "2021-01-31T07:24:40.097904Z",
     "iopub.status.idle": "2021-01-31T07:24:40.757968Z",
     "shell.execute_reply": "2021-01-31T07:24:40.758786Z"
    }
   },
   "outputs": [
    {
     "name": "stdout",
     "output_type": "stream",
     "text": [
      "\r",
      " 1/32 [..............................] - ETA: 16s - loss: -0.0179"
     ]
    },
    {
     "name": "stdout",
     "output_type": "stream",
     "text": [
      "\b\b\b\b\b\b\b\b\b\b\b\b\b\b\b\b\b\b\b\b\b\b\b\b\b\b\b\b\b\b\b\b\b\b\b\b\b\b\b\b\b\b\b\b\b\b\b\b\b\b\b\b\b\b\b\b\b\b\b\b\b\b\b\b\b\r",
      "32/32 [==============================] - 1s 1ms/step - loss: -0.0302\n"
     ]
    },
    {
     "data": {
      "text/plain": [
       "KerasRegressor(\n",
       "\tmodel=<function get_reg at 0x7fdf39fb60d0>\n",
       "\tbuild_fn=None\n",
       "\twarm_start=False\n",
       "\trandom_state=None\n",
       "\toptimizer=rmsprop\n",
       "\tloss=<function KerasRegressor.r_squared at 0x7fdf456e09d0>\n",
       "\tmetrics=None\n",
       "\tbatch_size=None\n",
       "\tverbose=1\n",
       "\tcallbacks=None\n",
       "\tvalidation_split=0.0\n",
       "\tshuffle=True\n",
       "\trun_eagerly=False\n",
       "\tepochs=1\n",
       "\thidden_layer_sizes=(100,)\n",
       "\tdropout=0.5\n",
       ")"
      ]
     },
     "execution_count": 1,
     "metadata": {},
     "output_type": "execute_result"
    }
   ],
   "source": [
    "reg.fit(X_regr, y_regr);"
   ]
  },
  {
   "cell_type": "markdown",
   "id": "atomic-design",
   "metadata": {},
   "source": [
    "### 3.4 Making predictions, regression\n",
    "\n",
    "You may call `predict` or `predict_proba` on the fitted model. For regressions, both methods return the same value."
   ]
  },
  {
   "cell_type": "code",
   "execution_count": 14,
   "id": "floppy-arthritis",
   "metadata": {
    "execution": {
     "iopub.execute_input": "2021-01-31T07:24:40.763553Z",
     "iopub.status.busy": "2021-01-31T07:24:40.762876Z",
     "iopub.status.idle": "2021-01-31T07:24:40.835810Z",
     "shell.execute_reply": "2021-01-31T07:24:40.836489Z"
    }
   },
   "outputs": [
    {
     "name": "stdout",
     "output_type": "stream",
     "text": [
      "\r",
      "1/1 [==============================] - ETA: 0s"
     ]
    },
    {
     "name": "stdout",
     "output_type": "stream",
     "text": [
      "\b\b\b\b\b\b\b\b\b\b\b\b\b\b\b\b\b\b\b\b\b\b\b\b\b\b\b\b\b\b\b\b\b\b\b\b\b\b\b\b\b\b\b\b\b\b\r",
      "1/1 [==============================] - 0s 36ms/step\n"
     ]
    },
    {
     "data": {
      "text/plain": [
       "array([0.45937112, 1.1608733 , 0.73038256, 0.49851277, 0.49344763],\n",
       "      dtype=float32)"
      ]
     },
     "execution_count": 1,
     "metadata": {},
     "output_type": "execute_result"
    }
   ],
   "source": [
    "y_pred = reg.predict(X_regr[:5])\n",
    "y_pred"
   ]
  },
  {
   "cell_type": "markdown",
   "id": "indonesian-shoot",
   "metadata": {},
   "source": [
    "## 4. Saving and loading a model\n",
    "\n",
    "Save and load either the whole model by using pickle, or use Keras' specialized save methods on the `KerasClassifier.model_` or `KerasRegressor.model_` attribute that is created after fitting. You will want to use Keras' model saving utilities if any of the following apply:\n",
    "\n",
    "1. You wish to save only the weights or only the training configuration of your model.\n",
    "2. You wish to share your model with collaborators. Pickle is a relatively unsafe protocol and it is not recommended to share or load pickle objects publically.\n",
    "3. You care about performance, especially if doing in-memory serialization.\n",
    "\n",
    "For more information, see Keras' [saving documentation](https://www.tensorflow.org/guide/keras/save_and_serialize).\n",
    "\n",
    "### 4.1 Saving the whole model"
   ]
  },
  {
   "cell_type": "code",
   "execution_count": 15,
   "id": "legendary-stupid",
   "metadata": {
    "execution": {
     "iopub.execute_input": "2021-01-31T07:24:40.841163Z",
     "iopub.status.busy": "2021-01-31T07:24:40.840612Z",
     "iopub.status.idle": "2021-01-31T07:24:41.872025Z",
     "shell.execute_reply": "2021-01-31T07:24:41.871468Z"
    }
   },
   "outputs": [
    {
     "name": "stdout",
     "output_type": "stream",
     "text": [
      "\r",
      " 1/32 [..............................] - ETA: 1s"
     ]
    },
    {
     "name": "stdout",
     "output_type": "stream",
     "text": [
      "\b\b\b\b\b\b\b\b\b\b\b\b\b\b\b\b\b\b\b\b\b\b\b\b\b\b\b\b\b\b\b\b\b\b\b\b\b\b\b\b\b\b\b\b\b\b\b\b\r",
      "32/32 [==============================] - 0s 866us/step\n"
     ]
    },
    {
     "data": {
      "text/plain": [
       "array([ 4.59371120e-01,  1.16087329e+00,  7.30382562e-01,  4.98512775e-01,\n",
       "        4.93447661e-01,  6.23523116e-01, -1.20302260e+00, -3.53992343e-01,\n",
       "        9.43763018e-01, -2.02668265e-01,  2.32728064e-01, -1.92386174e+00,\n",
       "        7.18307137e-01,  1.95860848e-01, -1.73682296e+00, -9.31305408e-01,\n",
       "        2.61857003e-01, -3.26528549e-02,  1.46723315e-02, -6.42812848e-02,\n",
       "       -3.96357417e-01, -4.05362010e-01,  6.74574316e-01,  7.24420965e-01,\n",
       "        1.03826964e+00, -7.76432216e-01, -1.99607360e+00,  5.67104816e-01,\n",
       "       -3.35594237e-01, -4.47027206e-01, -5.28502166e-01, -2.05985606e-01,\n",
       "       -1.73663688e+00,  4.41537231e-01,  1.02038693e+00, -3.44310999e-01,\n",
       "        9.30250525e-01,  1.12477887e+00, -5.18007100e-01,  8.63652751e-02,\n",
       "       -7.61090040e-01, -1.04840863e+00, -5.89147568e-01, -5.59340417e-02,\n",
       "        1.00772643e+00, -1.65556538e+00, -5.76976478e-01, -3.09427172e-01,\n",
       "        8.02931845e-01, -3.91125306e-02,  1.11758612e-01,  3.25058818e-01,\n",
       "       -8.37226093e-01, -9.99349177e-01,  1.30979240e+00, -3.33885312e-01,\n",
       "        1.93257904e+00,  4.03310418e-01,  3.47673669e-02,  1.40957403e+00,\n",
       "        7.88499415e-02,  5.98020971e-01,  7.15031624e-02, -1.18593931e+00,\n",
       "        1.61661744e+00, -8.23171437e-03,  4.63915080e-01, -7.23891377e-01,\n",
       "       -2.69195467e-01, -1.05733752e+00,  5.94082177e-01,  9.80767608e-02,\n",
       "        2.08017901e-01, -7.18301386e-02,  1.83517799e-01, -5.61213672e-01,\n",
       "       -3.02970856e-01,  4.06280300e-03, -7.01005816e-01, -5.66306949e-01,\n",
       "        4.25899982e-01,  3.69670182e-01, -3.77330035e-01, -4.10672516e-01,\n",
       "       -6.49523409e-03,  4.62980479e-01,  5.43309987e-01,  8.25342476e-01,\n",
       "       -1.66127205e+00,  6.65450811e-01,  9.08656791e-02,  1.38165915e+00,\n",
       "        6.31710052e-01, -7.13617980e-01, -6.15374791e-03,  1.50058746e-01,\n",
       "        4.26714957e-01,  2.41123602e-01,  2.04380557e-01,  2.77764976e-01,\n",
       "        6.09759867e-01,  6.03497922e-01,  1.67497292e-01, -8.65923285e-01,\n",
       "        4.50458765e-01,  2.28035122e-01,  4.68524218e-01,  4.05833989e-01,\n",
       "        1.69585443e+00, -1.77121386e-02,  2.34752715e-01,  4.48191732e-01,\n",
       "       -1.73540890e-01,  2.10990697e-01,  1.41339049e-01,  3.64170969e-02,\n",
       "       -1.32593071e+00, -2.33435735e-01,  7.10456431e-01, -6.62562251e-01,\n",
       "       -5.78186154e-01, -1.74759343e-01, -4.68410015e-01,  5.98181129e-01,\n",
       "        4.61953998e-01, -8.43288779e-01, -2.71744579e-01,  4.54150647e-01,\n",
       "        9.44405317e-01,  9.94717538e-01, -8.54780257e-01,  9.48131442e-01,\n",
       "        6.81829154e-01,  2.78864324e-01,  2.51390934e-01, -3.64460438e-01,\n",
       "        9.61488426e-01,  2.53933382e+00,  5.99343702e-02,  9.04281065e-02,\n",
       "       -1.31984460e+00, -5.24298251e-01,  1.30466449e+00,  7.69567490e-01,\n",
       "       -3.34389985e-01,  3.69367212e-01,  9.10474002e-01, -1.04325354e+00,\n",
       "       -3.83649439e-01,  5.10745883e-01,  1.21518052e+00,  9.32237878e-02,\n",
       "        9.34719741e-01,  1.06811178e+00,  5.10608971e-01,  3.64909053e-01,\n",
       "        5.66723108e-01, -2.68078029e-01,  6.17793977e-01,  4.73334730e-01,\n",
       "        4.03511494e-01,  1.01408875e+00,  6.24865949e-01,  8.89734447e-01,\n",
       "       -1.19733584e+00,  2.38141522e-01,  4.83568460e-01, -2.00612783e-01,\n",
       "       -8.77791762e-01, -4.23620075e-01,  1.34206474e-01,  3.31394762e-01,\n",
       "        3.88742656e-01,  1.18919587e+00, -1.04303491e+00, -4.22364920e-01,\n",
       "       -3.10758442e-01,  6.44749999e-01, -5.01161575e-01,  7.67983437e-01,\n",
       "        1.39079857e+00,  1.16635227e+00,  5.86809218e-01,  8.29421937e-01,\n",
       "       -6.19793117e-01,  1.32204401e+00, -6.67501092e-02,  8.02286983e-01,\n",
       "       -4.87282127e-02, -1.64667630e+00,  5.94768167e-01, -6.61726773e-01,\n",
       "       -4.85398807e-02, -3.79561543e-01,  6.26708686e-01, -8.52703989e-01,\n",
       "       -5.51723242e-01, -1.49565721e+00,  8.81564319e-02,  3.05050194e-01,\n",
       "       -1.82961196e-01,  9.10240054e-01,  4.20876533e-01,  7.76578069e-01,\n",
       "        8.53800833e-01, -9.43879128e-01, -2.67955899e-01,  3.60335559e-01,\n",
       "        2.24311575e-01,  7.85609841e-01,  9.33515608e-01, -3.91765803e-01,\n",
       "        7.38719404e-02,  2.77217120e-01, -4.62286532e-01, -9.53431606e-01,\n",
       "        1.53547347e+00,  1.87276137e+00, -7.65297413e-02, -8.18155766e-01,\n",
       "       -6.97627366e-01,  4.68844980e-01, -7.83448756e-01,  2.08447903e-01,\n",
       "        3.57742935e-01,  1.92347065e-01, -5.76652706e-01, -4.27578241e-01,\n",
       "        5.16454130e-02,  4.49584752e-01, -5.96341610e-01,  1.64059687e+00,\n",
       "        1.48058367e+00,  2.58405238e-01, -2.24666938e-01, -5.42125404e-01,\n",
       "        9.74911690e-01, -5.04670799e-01, -2.28234470e-01, -6.27588689e-01,\n",
       "        9.93232012e-01, -1.36029124e+00, -9.76464450e-01,  1.11195779e+00,\n",
       "       -3.91437978e-01, -1.05109274e+00, -1.41488016e+00,  5.08143246e-01,\n",
       "        1.52069652e+00, -8.36751997e-01,  2.97744960e-01,  4.49973106e-01,\n",
       "        8.06609631e-01,  1.50298846e+00, -7.64546096e-01,  9.53590572e-01,\n",
       "        8.61749113e-01,  4.38192010e-01, -5.11852443e-01,  3.36745828e-01,\n",
       "       -2.28666440e-01,  7.91634619e-01, -4.05368388e-01,  6.02856576e-01,\n",
       "        1.05538654e+00, -2.56997138e-01,  7.53596127e-01,  1.65816140e+00,\n",
       "        1.88967252e+00, -5.29202282e-01,  1.65914810e+00,  5.94769597e-01,\n",
       "        4.87258047e-01,  1.14942580e-01,  1.84342587e+00, -5.78606308e-01,\n",
       "       -7.61597157e-02,  1.51903644e-01,  2.00768575e-01,  3.63513052e-01,\n",
       "        4.77747172e-01, -4.90361780e-01, -9.69406009e-01, -9.81965542e-01,\n",
       "        1.88529164e-01,  7.87866592e-01,  1.22683990e+00, -4.75028515e-01,\n",
       "       -5.33577520e-04,  1.59868568e-01,  9.95591104e-01,  2.21408188e-01,\n",
       "        3.42684805e-01,  6.95409656e-01,  1.80356526e+00, -5.42659760e-01,\n",
       "       -8.53846073e-01,  3.25947344e-01, -1.07039022e+00,  1.02339573e-01,\n",
       "       -1.40669239e+00,  1.16941082e+00, -3.21628243e-01,  2.14074567e-01,\n",
       "       -2.57200599e-02, -1.03219545e+00, -4.57794994e-01, -3.51883233e-01,\n",
       "        6.56495512e-01, -1.63494334e-01, -3.73049676e-01,  4.97375339e-01,\n",
       "       -4.81419116e-01, -5.76317728e-01, -7.72525847e-01, -2.08891079e-01,\n",
       "       -1.64162207e+00,  1.17702603e+00,  5.50141148e-02, -6.83747381e-02,\n",
       "        5.70882022e-01,  8.88523340e-01, -1.87298298e-01, -5.31378210e-01,\n",
       "        1.54210413e+00, -4.29263175e-01, -1.69532287e+00,  4.20280725e-01,\n",
       "        3.32219988e-01,  1.87437570e+00,  4.15683419e-01, -5.58759451e-01,\n",
       "        1.14735171e-01,  9.61591363e-01,  7.48706013e-02, -6.33276999e-02,\n",
       "        7.47392297e-01, -6.56362712e-01, -3.65714520e-01,  6.75719678e-01,\n",
       "       -3.22853848e-02, -5.49297273e-01, -7.13156641e-01,  5.81766143e-02,\n",
       "        2.50365913e-01,  5.87127447e-01, -6.34880960e-01, -5.82941055e-01,\n",
       "        5.93457669e-02,  4.51281518e-01, -8.15164208e-01,  2.10437274e+00,\n",
       "       -3.98562521e-01, -7.07433581e-01, -1.09109528e-01,  2.80086040e-01,\n",
       "        6.32352531e-02,  1.58811465e-01,  2.66540200e-01, -1.03925996e-01,\n",
       "        2.81871796e-01, -9.28585112e-01, -6.79400802e-01,  8.48859027e-02,\n",
       "        4.71192509e-01,  3.67985576e-01, -5.59342384e-01, -9.07691181e-01,\n",
       "        8.96072209e-01,  1.20768502e-01, -4.94858056e-01, -9.45427418e-01,\n",
       "       -2.38481209e-01,  7.10497737e-01,  9.00099635e-01,  1.18083167e+00,\n",
       "        6.69244111e-01, -2.56736010e-01, -4.48046714e-01, -3.85275632e-02,\n",
       "        5.34430966e-02, -7.69918859e-01,  1.72122991e+00,  3.34529787e-01,\n",
       "        2.85328835e-01, -7.79404581e-01, -5.91507375e-01, -1.89566165e-02,\n",
       "       -1.06779373e+00,  1.22824180e+00,  2.06338897e-01, -6.62614524e-01,\n",
       "        2.09770769e-01,  1.77765384e-01, -4.02169198e-01, -7.15596080e-01,\n",
       "       -1.12162125e+00,  4.02211607e-01,  6.61806464e-01, -2.49323860e-01,\n",
       "       -5.25710583e-01,  2.94809341e-01,  2.41183624e-01, -9.26783562e-01,\n",
       "       -4.88431513e-01, -8.42617035e-01, -6.41242862e-02, -1.87573278e+00,\n",
       "       -9.12127137e-01,  4.66464370e-01,  1.16017234e+00,  2.70464480e-01,\n",
       "       -2.71627009e-01,  1.11334525e-01,  1.48773897e+00,  1.66361570e+00,\n",
       "       -4.14320156e-02,  7.61286139e-01, -1.85173616e-01,  1.78832769e+00,\n",
       "       -4.13726270e-02,  8.50773275e-01,  6.27100527e-01,  5.08090138e-01,\n",
       "       -1.13104498e+00, -1.38201803e-01,  7.05294907e-01,  1.63838249e-02,\n",
       "        7.69145548e-01,  1.16916788e+00,  3.74595582e-01,  2.65192747e-01,\n",
       "       -4.54099208e-01,  2.10883811e-01,  1.72852859e-01,  1.00737661e-01,\n",
       "       -8.33936155e-01,  4.34662193e-01, -2.33149201e-01, -1.43716395e-01,\n",
       "        1.08997893e+00,  1.09968436e+00, -5.85863471e-01, -8.26391041e-01,\n",
       "        8.59319046e-02, -9.61050093e-02,  1.90929830e-01, -9.36556399e-01,\n",
       "        2.85273165e-01, -2.84841299e-01, -5.64770460e-01,  7.49456346e-01,\n",
       "       -9.51319814e-01,  6.09499365e-02,  1.78791595e+00, -8.83199334e-01,\n",
       "       -6.79443657e-01, -1.19879484e+00, -1.25019443e+00, -1.58185605e-04,\n",
       "        1.36624664e-01,  9.25505817e-01, -7.42999256e-01, -1.29751956e+00,\n",
       "        5.21961391e-01, -7.03903079e-01, -7.06649899e-01, -3.52422029e-01,\n",
       "        1.69647014e+00, -2.21783519e+00, -4.52029854e-01, -9.89686251e-01,\n",
       "        4.33530629e-01,  4.80156958e-01,  4.48909938e-01,  1.12845540e+00,\n",
       "       -6.39893055e-01,  7.90492475e-01,  7.32376397e-01,  9.06183243e-01,\n",
       "        7.03418791e-01,  4.43244493e-03,  7.36195207e-01,  1.37329304e+00,\n",
       "        7.62691438e-01, -1.05521035e+00,  4.67403710e-01, -3.38254601e-01,\n",
       "       -4.34316814e-01, -8.95248577e-02, -9.39331889e-01,  3.95039231e-01,\n",
       "        9.97999251e-01,  7.98087120e-01,  7.68514693e-01, -9.01667550e-02,\n",
       "        2.42541462e-01,  3.95125104e-03,  9.28600550e-01, -4.44305182e-01,\n",
       "       -1.05174363e-01,  1.38715640e-01, -3.17737162e-01, -1.35423824e-01,\n",
       "       -6.58613592e-02, -3.14459540e-02, -2.14119643e-01,  1.89244568e-01,\n",
       "        5.10146976e-01, -2.89840132e-01,  2.98122466e-01, -1.78713188e-01,\n",
       "        8.88474405e-01, -8.33478630e-01, -5.09670377e-01, -7.15161443e-01,\n",
       "       -7.03365445e-01, -1.99632853e-01, -6.48131073e-01, -1.80281758e-01,\n",
       "        6.69702351e-01, -6.02667034e-01, -4.66832250e-01, -1.57702291e+00,\n",
       "        2.98212260e-01, -4.99395952e-02, -5.79083785e-02,  6.23832941e-01,\n",
       "       -6.80224299e-01,  1.03764498e+00, -2.74284005e-01, -2.91328698e-01,\n",
       "        6.78997457e-01,  4.97141749e-01, -1.16788232e+00, -9.88999128e-01,\n",
       "       -9.44712818e-01,  8.25673565e-02,  8.76060426e-01, -2.41869017e-01,\n",
       "       -5.62478900e-01, -2.48280525e-01, -9.64465499e-01, -1.06958282e+00,\n",
       "       -1.57983050e-01,  6.07249558e-01, -1.45070386e+00, -4.36794698e-01,\n",
       "        1.31066024e+00, -5.78160696e-02,  9.84739542e-01, -2.25100353e-01,\n",
       "        2.88340747e-02, -1.97754338e-01,  5.23587316e-02,  7.95988888e-02,\n",
       "        1.86032534e+00, -9.20907140e-01, -6.28998220e-01,  8.33939433e-01,\n",
       "       -1.26959419e+00, -1.52744412e+00, -3.38708073e-01, -1.37686372e+00,\n",
       "       -8.02313030e-01, -6.97439075e-01,  3.22676897e-01, -2.98016429e-01,\n",
       "       -1.05149597e-01,  1.05710042e+00,  2.57110029e-01,  5.38320005e-01,\n",
       "       -6.01406217e-01,  2.99406677e-01, -9.74906087e-01,  9.08503234e-01,\n",
       "        1.30434632e+00, -1.37277234e+00,  7.42578954e-02,  1.24775514e-01,\n",
       "       -4.19484854e-01,  4.26530316e-02,  4.05841857e-01, -3.34697723e-01,\n",
       "       -2.45015204e-01,  1.21538997e-01, -1.12290835e+00, -7.18862712e-01,\n",
       "        6.13533437e-01,  6.15192056e-01, -4.87475991e-02, -1.89692819e+00,\n",
       "        1.64570785e+00,  1.13160044e-01, -2.80277550e-01, -3.27352852e-01,\n",
       "       -9.90101099e-01, -4.08747405e-01,  6.71364069e-01, -3.08079541e-01,\n",
       "       -1.18482792e+00, -4.21959370e-01, -8.38079035e-01,  8.84648323e-01,\n",
       "        3.46409410e-01, -3.02024007e-01,  6.78446829e-01, -7.05968499e-01,\n",
       "        1.23400307e+00,  1.42634764e-01,  5.73546827e-01,  7.28817046e-01,\n",
       "        6.96190596e-01, -3.87433544e-02, -1.43648982e+00, -2.26524949e-01,\n",
       "        1.14191139e+00, -8.18852961e-01,  8.85414183e-01, -4.67483133e-01,\n",
       "       -9.75631058e-01, -6.04045928e-01,  3.59158963e-01,  4.37451750e-01,\n",
       "       -7.46520102e-01,  2.53090471e-01, -8.18455994e-01,  3.40609729e-01,\n",
       "       -4.63314401e-03, -3.67633820e-01,  9.15664136e-01,  1.67906272e+00,\n",
       "       -7.81601846e-01, -1.43100572e+00, -2.07491875e+00, -4.24226671e-01,\n",
       "       -4.17684019e-02, -1.59369543e-01, -2.27874786e-01,  2.88872242e-01,\n",
       "        1.87461793e-01, -5.69886029e-01,  3.89748394e-01, -2.01729104e-01,\n",
       "        2.64950603e-01, -7.96124995e-01,  2.70416513e-02, -2.95042582e-02,\n",
       "        6.37336969e-01, -5.46906769e-01, -1.07100654e+00,  2.35493094e-01,\n",
       "        9.33003604e-01,  2.55966336e-01, -1.40023321e-01,  3.42296273e-01,\n",
       "       -8.56786847e-01,  4.64294493e-01, -9.71105337e-01,  2.32755721e-01,\n",
       "        5.38339436e-01, -1.27342975e+00, -3.29249740e-01,  1.09080231e+00,\n",
       "       -1.31056273e+00,  2.61009395e-01, -7.34119833e-01,  4.83452618e-01,\n",
       "       -1.07655346e+00,  1.08633362e-01, -2.18414903e-01,  1.56297266e+00,\n",
       "       -4.65575099e-01, -1.78577192e-02,  3.91607210e-02, -5.80259383e-01,\n",
       "        8.93958092e-01,  9.25005138e-01,  4.10362542e-01, -3.16344202e-01,\n",
       "        1.64428794e+00, -5.26090264e-01,  2.12439513e+00, -4.87715080e-02,\n",
       "        5.12125075e-01,  7.05163181e-01, -1.31058991e+00, -9.49032843e-01,\n",
       "       -4.16761309e-01,  2.50327379e-01,  5.22898316e-01, -1.46412694e+00,\n",
       "       -1.31438002e-01, -6.32845342e-01, -4.83062893e-01,  5.58158755e-01,\n",
       "       -4.18663174e-01, -8.73750210e-01,  1.28214598e+00,  2.01005697e+00,\n",
       "        1.11009133e+00, -5.12534440e-01,  1.31906867e-02,  7.29298711e-01,\n",
       "       -1.13283241e+00, -3.16799670e-01,  7.56514072e-01, -6.91762865e-01,\n",
       "        6.31314218e-01,  2.99452513e-01,  1.28970549e-01, -1.52559355e-01,\n",
       "        1.45349726e-01,  8.91472936e-01,  2.20083907e-01,  1.55361223e+00,\n",
       "        7.23051056e-02, -1.06143498e+00, -5.24196029e-01, -7.26332426e-01,\n",
       "       -9.06974256e-01,  4.09496315e-02,  5.25375903e-01,  1.28679645e+00,\n",
       "        7.58744895e-01, -3.66434753e-02, -3.25797647e-02,  3.51070374e-01,\n",
       "       -1.05014101e-01,  4.34538931e-01,  3.52825612e-01,  8.76485884e-01,\n",
       "        4.20213819e-01,  1.02397251e+00,  3.70118350e-01, -1.44566286e+00,\n",
       "        2.12126434e-01, -6.42613709e-01,  9.26661968e-01, -9.52412784e-01,\n",
       "       -8.56697410e-02,  5.78344762e-01,  2.66207248e-01,  9.22115386e-01,\n",
       "       -1.07037401e+00,  2.12010503e+00,  2.31578305e-01,  2.74158269e-01,\n",
       "        5.80920756e-01, -7.31113600e-03,  3.13671917e-01, -6.39886782e-02,\n",
       "        2.27217183e-01,  1.79475814e-01,  9.63285565e-01,  1.88242480e-01,\n",
       "        9.40099806e-02,  1.19917285e+00,  9.04192746e-01,  2.44227335e-01,\n",
       "       -3.16706836e-01, -1.15537739e+00,  2.83987433e-01,  8.62957895e-01,\n",
       "        3.51252466e-01, -3.48847359e-01, -1.26849735e+00,  5.64510167e-01,\n",
       "       -3.58295709e-01, -9.97517407e-01,  1.04912281e+00,  1.77954268e+00,\n",
       "        3.98781925e-01, -8.00891519e-01,  5.22289813e-01, -6.30075455e-01,\n",
       "       -4.27476108e-01,  5.53689063e-01, -2.11082473e-01,  3.52030337e-01,\n",
       "        8.78678918e-01,  1.11834258e-02,  4.16858166e-01,  3.57850850e-01,\n",
       "        6.79409280e-02, -1.21174857e-01,  3.20262462e-02, -8.31214428e-01,\n",
       "       -6.91825628e-01,  1.26604661e-02, -7.28335321e-01,  1.95762262e-01,\n",
       "        3.98194313e-01, -5.31031080e-02,  1.79781213e-01,  1.17999040e-01,\n",
       "       -1.32052079e-01, -3.61884445e-01, -1.59191346e+00, -1.20026100e+00,\n",
       "        9.45796013e-01, -1.01637208e+00,  5.69142580e-01, -4.69589591e-01,\n",
       "        7.40125000e-01, -1.39583305e-01, -6.81450427e-01,  5.38192034e-01,\n",
       "        8.76810476e-02,  6.52967513e-01,  3.51645648e-01, -1.41617104e-01,\n",
       "        3.48307669e-01, -5.36242723e-02,  1.08792222e+00,  8.84923816e-01,\n",
       "        7.00287700e-01,  2.25781396e-01, -6.42730534e-01, -1.01675224e+00,\n",
       "       -4.69087988e-01,  1.72089532e-01,  5.28296769e-01, -1.05667412e+00,\n",
       "        1.17541432e+00,  1.00608969e+00,  6.83326364e-01, -1.84888288e-01,\n",
       "        3.58498365e-01, -7.51824856e-01, -2.02648759e+00,  1.57420337e+00,\n",
       "       -7.47950494e-01,  8.74974787e-01, -1.03527117e+00,  9.59141314e-01,\n",
       "        1.16586223e-01, -5.24915099e-01, -7.63872266e-01, -4.16738510e-01,\n",
       "       -2.62466550e-01, -2.60984600e-01,  1.94846720e-01,  1.10877968e-01,\n",
       "        1.89115733e-01, -7.60209739e-01,  1.37924039e+00, -1.25253484e-01,\n",
       "       -1.34893632e+00,  1.11076200e+00, -1.34032714e+00, -2.56232142e-01,\n",
       "        5.07673025e-01,  6.48144772e-03, -2.43667141e-01,  3.78733665e-01,\n",
       "       -3.42452019e-01,  1.93005100e-01,  2.43305773e-01,  3.65618877e-02,\n",
       "        2.88307220e-01,  3.67759973e-01, -5.04188299e-01, -3.14234465e-01,\n",
       "       -3.67515594e-01, -1.75884664e-01, -8.03438246e-01, -1.01804709e+00,\n",
       "       -7.29758203e-01,  1.00438750e+00, -1.29401341e-01,  3.29141676e-01,\n",
       "        8.81145060e-01,  9.46392864e-02,  3.12874943e-01, -1.27903020e+00,\n",
       "        6.63967490e-01, -1.16468236e-01, -1.17166710e+00,  1.18453252e+00,\n",
       "       -7.27527857e-01, -2.04821253e+00,  1.14551485e+00, -1.60524771e-01,\n",
       "       -1.32691696e-01, -1.03847837e+00, -5.95403910e-01, -9.82232630e-01,\n",
       "        9.75511491e-01,  6.90111935e-01, -1.00012743e+00,  1.99483740e+00,\n",
       "       -3.53354603e-01,  1.93663821e-01, -2.84635872e-01, -2.19669655e-01,\n",
       "       -4.71875399e-01,  9.78009462e-01, -5.43877661e-01,  1.28258038e+00,\n",
       "        3.25876355e-01, -5.20522594e-01, -7.17607498e-01,  1.54860890e+00,\n",
       "       -1.10689712e+00,  6.87042415e-01,  8.46424878e-01, -4.98125941e-01,\n",
       "       -1.10496914e+00,  9.99585688e-01,  3.62887114e-01, -1.19610620e+00,\n",
       "        9.79391396e-01,  1.48408973e+00,  3.51485014e-01,  3.25313061e-01,\n",
       "       -4.70199585e-01, -3.97246450e-01,  6.46703303e-01, -5.03079146e-02,\n",
       "       -1.86603442e-01, -7.42191017e-01, -4.16477233e-01, -6.44170284e-01,\n",
       "       -1.05491683e-01, -1.89693177e+00,  9.62895691e-01,  2.92244285e-01,\n",
       "        1.04739070e+00, -6.10375404e-02,  2.74549127e-01, -1.67119473e-01,\n",
       "        2.83885673e-02,  1.40254223e+00,  7.75543272e-01, -1.31413233e+00,\n",
       "        1.39392436e-01, -4.84878898e-01, -2.65891850e-01,  8.41686845e-01,\n",
       "       -3.72423887e-01,  1.05905342e+00,  3.69497150e-01,  8.07938874e-01,\n",
       "        4.93731141e-01, -1.19882035e+00, -2.78894603e-01,  3.33240954e-03,\n",
       "        6.01187289e-01,  3.76473874e-01, -9.46396232e-01, -2.06871122e-01,\n",
       "       -5.73241413e-01,  5.48449457e-01, -7.99855366e-02, -4.23221320e-01,\n",
       "       -8.36384073e-02,  7.18426168e-01,  3.78021866e-01, -9.35840130e-01,\n",
       "       -1.26700044e+00,  7.47036517e-01,  4.12180901e-01, -1.70493379e-01,\n",
       "        3.39912981e-01,  6.40939176e-02,  3.94851357e-01, -4.78067338e-01,\n",
       "        6.96795940e-01,  2.23019898e-01, -5.95070839e-01,  4.22401607e-01,\n",
       "       -1.64451003e-01,  1.42748094e+00, -4.99698848e-01, -8.43267679e-01,\n",
       "       -3.06289464e-01, -1.42171848e+00, -3.93944681e-01, -5.30261517e-01,\n",
       "       -1.22741568e+00, -4.04370904e-01, -2.53765672e-01, -1.12603343e+00,\n",
       "        1.71870105e-02, -1.98663920e-02,  7.90059626e-01,  4.09494787e-01,\n",
       "       -7.25209773e-01,  6.69159055e-01,  4.18775827e-01,  1.13549840e+00,\n",
       "       -1.12226501e-01,  1.13258398e+00, -8.89841020e-02, -6.84423447e-02,\n",
       "       -5.95287979e-01, -6.69992089e-01, -4.38652366e-01,  1.74494013e-01],\n",
       "      dtype=float32)"
      ]
     },
     "execution_count": 1,
     "metadata": {},
     "output_type": "execute_result"
    }
   ],
   "source": [
    "import pickle\n",
    "\n",
    "\n",
    "bytes_model = pickle.dumps(reg)\n",
    "new_reg = pickle.loads(bytes_model)\n",
    "new_reg.predict(X_regr);  # model is still trained"
   ]
  },
  {
   "cell_type": "markdown",
   "id": "ultimate-drive",
   "metadata": {},
   "source": [
    "### 4.2 Saving using Keras' saving methods\n",
    "\n",
    "This efficiently and safely saves the model to disk, including trained weights.\n",
    "You should use this method if you plan on sharing your saved models."
   ]
  },
  {
   "cell_type": "code",
   "execution_count": 16,
   "id": "tired-value",
   "metadata": {
    "execution": {
     "iopub.execute_input": "2021-01-31T07:24:41.877857Z",
     "iopub.status.busy": "2021-01-31T07:24:41.876501Z",
     "iopub.status.idle": "2021-01-31T07:24:42.475844Z",
     "shell.execute_reply": "2021-01-31T07:24:42.475119Z"
    }
   },
   "outputs": [
    {
     "name": "stdout",
     "output_type": "stream",
     "text": [
      "\r",
      " 1/32 [..............................] - ETA: 0s"
     ]
    },
    {
     "name": "stdout",
     "output_type": "stream",
     "text": [
      "\b\b\b\b\b\b\b\b\b\b\b\b\b\b\b\b\b\b\b\b\b\b\b\b\b\b\b\b\b\b\b\b\b\b\b\b\b\b\b\b\b\b\b\b\b\b\b\b\r",
      "32/32 [==============================] - 0s 864us/step\n"
     ]
    }
   ],
   "source": [
    "# Save to disk\n",
    "pred_old = reg.predict(X_regr)\n",
    "reg.model_.save(\"/tmp/my_model\")  # saves just the Keras model"
   ]
  },
  {
   "cell_type": "code",
   "execution_count": 17,
   "id": "accessible-spectrum",
   "metadata": {
    "execution": {
     "iopub.execute_input": "2021-01-31T07:24:42.481418Z",
     "iopub.status.busy": "2021-01-31T07:24:42.480843Z",
     "iopub.status.idle": "2021-01-31T07:24:42.787095Z",
     "shell.execute_reply": "2021-01-31T07:24:42.788052Z"
    }
   },
   "outputs": [
    {
     "name": "stdout",
     "output_type": "stream",
     "text": [
      "\r",
      " 1/32 [..............................] - ETA: 1s"
     ]
    },
    {
     "name": "stdout",
     "output_type": "stream",
     "text": [
      "\b\b\b\b\b\b\b\b\b\b\b\b\b\b\b\b\b\b\b\b\b\b\b\b\b\b\b\b\b\b\b\b\b\b\b\b\b\b\b\b\b\b\b\b\b\b\b\b\r",
      "32/32 [==============================] - 0s 921us/step\n"
     ]
    }
   ],
   "source": [
    "# Load the model back into memory\n",
    "new_reg_model = keras.models.load_model(\"/tmp/my_model\")\n",
    "# Now we need to instantiate a new SciKeras object\n",
    "# since we only saved the Keras model\n",
    "reg_new = KerasRegressor(new_reg_model)\n",
    "# use initialize to avoid re-fitting\n",
    "reg_new.initialize(X_regr, y_regr)\n",
    "pred_new = reg_new.predict(X_regr)\n",
    "np.testing.assert_allclose(pred_old, pred_new)"
   ]
  },
  {
   "cell_type": "markdown",
   "id": "married-yahoo",
   "metadata": {},
   "source": [
    "## 5. Usage with an sklearn Pipeline\n",
    "\n",
    "It is possible to put the `KerasClassifier` inside an `sklearn Pipeline`, as you would with any `sklearn` classifier.\n"
   ]
  },
  {
   "cell_type": "code",
   "execution_count": 18,
   "id": "residential-survivor",
   "metadata": {
    "execution": {
     "iopub.execute_input": "2021-01-31T07:24:42.791822Z",
     "iopub.status.busy": "2021-01-31T07:24:42.790528Z",
     "iopub.status.idle": "2021-01-31T07:24:43.461425Z",
     "shell.execute_reply": "2021-01-31T07:24:43.462223Z"
    }
   },
   "outputs": [
    {
     "name": "stdout",
     "output_type": "stream",
     "text": [
      "\r",
      " 1/32 [..............................] - ETA: 14s - loss: 0.8518"
     ]
    },
    {
     "name": "stdout",
     "output_type": "stream",
     "text": [
      "\b\b\b\b\b\b\b\b\b\b\b\b\b\b\b\b\b\b\b\b\b\b\b\b\b\b\b\b\b\b\b\b\b\b\b\b\b\b\b\b\b\b\b\b\b\b\b\b\b\b\b\b\b\b\b\b\b\b\b\b\b\b\b\b\r",
      "32/32 [==============================] - 0s 1ms/step - loss: 0.7085\n"
     ]
    },
    {
     "name": "stdout",
     "output_type": "stream",
     "text": [
      "\r",
      " 1/32 [..............................] - ETA: 1s"
     ]
    },
    {
     "name": "stdout",
     "output_type": "stream",
     "text": [
      "\b\b\b\b\b\b\b\b\b\b\b\b\b\b\b\b\b\b\b\b\b\b\b\b\b\b\b\b\b\b\b\b\b\b\b\b\b\b\b\b\b\b\b\b\b\b\b\b\r",
      "32/32 [==============================] - 0s 830us/step\n"
     ]
    }
   ],
   "source": [
    "from sklearn.pipeline import Pipeline\n",
    "from sklearn.preprocessing import StandardScaler\n",
    "\n",
    "\n",
    "pipe = Pipeline([\n",
    "    ('scale', StandardScaler()),\n",
    "    ('clf', clf),\n",
    "])\n",
    "\n",
    "\n",
    "y_proba = pipe.fit(X, y).predict(X)"
   ]
  },
  {
   "cell_type": "markdown",
   "id": "destroyed-maria",
   "metadata": {},
   "source": [
    "To save the whole pipeline, including the Keras model, use `pickle`.\n",
    "\n",
    "## 6. Callbacks\n",
    "\n",
    "Adding a new callback to the model is straightforward. Below we define a threashold callback\n",
    "to avoid training past a certain accuracy. This a rudimentary for of\n",
    "[early stopping](https://www.tensorflow.org/api_docs/python/tf/keras/callbacks/EarlyStopping)."
   ]
  },
  {
   "cell_type": "code",
   "execution_count": 19,
   "id": "varying-standing",
   "metadata": {
    "execution": {
     "iopub.execute_input": "2021-01-31T07:24:43.466162Z",
     "iopub.status.busy": "2021-01-31T07:24:43.465088Z",
     "iopub.status.idle": "2021-01-31T07:24:43.472768Z",
     "shell.execute_reply": "2021-01-31T07:24:43.473623Z"
    }
   },
   "outputs": [],
   "source": [
    "class MaxValLoss(keras.callbacks.Callback):\n",
    "\n",
    "    def __init__(self, monitor: str, threashold: float):\n",
    "        self.monitor = monitor\n",
    "        self.threashold = threashold\n",
    "\n",
    "    def on_epoch_end(self, epoch, logs=None):\n",
    "        if logs[self.monitor] > self.threashold:\n",
    "            print(\"Threashold reached; stopping training\") \n",
    "            self.model.stop_training = True"
   ]
  },
  {
   "cell_type": "markdown",
   "id": "chubby-simulation",
   "metadata": {},
   "source": [
    "Define a test dataset:"
   ]
  },
  {
   "cell_type": "code",
   "execution_count": 20,
   "id": "sunrise-cancer",
   "metadata": {
    "execution": {
     "iopub.execute_input": "2021-01-31T07:24:43.477530Z",
     "iopub.status.busy": "2021-01-31T07:24:43.476415Z",
     "iopub.status.idle": "2021-01-31T07:24:43.485771Z",
     "shell.execute_reply": "2021-01-31T07:24:43.486651Z"
    }
   },
   "outputs": [],
   "source": [
    "from sklearn.datasets import make_moons\n",
    "\n",
    "\n",
    "X, y = make_moons(n_samples=100, noise=0.2, random_state=0)"
   ]
  },
  {
   "cell_type": "markdown",
   "id": "found-fourth",
   "metadata": {},
   "source": [
    "And try fitting it with and without the callback:"
   ]
  },
  {
   "cell_type": "code",
   "execution_count": 21,
   "id": "incorrect-straight",
   "metadata": {
    "execution": {
     "iopub.execute_input": "2021-01-31T07:24:43.491072Z",
     "iopub.status.busy": "2021-01-31T07:24:43.489782Z",
     "iopub.status.idle": "2021-01-31T07:24:45.471444Z",
     "shell.execute_reply": "2021-01-31T07:24:45.470474Z"
    }
   },
   "outputs": [
    {
     "name": "stdout",
     "output_type": "stream",
     "text": [
      "Trained 20 epochs\n",
      "Final accuracy: 1.0\n"
     ]
    }
   ],
   "source": [
    "kwargs = dict(\n",
    "    model=get_clf,\n",
    "    loss=\"binary_crossentropy\",\n",
    "    dropout=0.5,\n",
    "    hidden_layer_sizes=(100,),\n",
    "    metrics=[\"binary_accuracy\"],\n",
    "    fit__validation_split=0.2,\n",
    "    epochs=20,\n",
    "    verbose=False,\n",
    "    random_state=0\n",
    ")\n",
    "\n",
    "# First test without the callback\n",
    "clf = KerasClassifier(**kwargs)\n",
    "clf.fit(X, y)\n",
    "print(f\"Trained {len(clf.history_['loss'])} epochs\")\n",
    "print(f\"Final accuracy: {clf.history_['val_binary_accuracy'][-1]}\")  # get last value of last fit/partial_fit call"
   ]
  },
  {
   "cell_type": "markdown",
   "id": "composed-poison",
   "metadata": {},
   "source": [
    "And with:"
   ]
  },
  {
   "cell_type": "code",
   "execution_count": 22,
   "id": "grave-premium",
   "metadata": {
    "execution": {
     "iopub.execute_input": "2021-01-31T07:24:45.480350Z",
     "iopub.status.busy": "2021-01-31T07:24:45.479330Z",
     "iopub.status.idle": "2021-01-31T07:24:46.602738Z",
     "shell.execute_reply": "2021-01-31T07:24:46.603711Z"
    }
   },
   "outputs": [
    {
     "name": "stdout",
     "output_type": "stream",
     "text": [
      "Threashold reached; stopping training\n",
      "Trained 2 epochs\n",
      "Final accuracy: 0.949999988079071\n"
     ]
    }
   ],
   "source": [
    "# Test with the callback\n",
    "\n",
    "cb = MaxValLoss(monitor=\"val_binary_accuracy\", threashold=0.75)\n",
    "\n",
    "clf = KerasClassifier(\n",
    "    **kwargs,\n",
    "    callbacks=[cb]\n",
    ")\n",
    "clf.fit(X, y)\n",
    "print(f\"Trained {len(clf.history_['loss'])} epochs\")\n",
    "print(f\"Final accuracy: {clf.history_['val_binary_accuracy'][-1]}\")  # get last value of last fit/partial_fit call"
   ]
  },
  {
   "cell_type": "markdown",
   "id": "accepting-liechtenstein",
   "metadata": {},
   "source": [
    "For information on how to write custom callbacks, have a look at the\n",
    "[Advanced Usage](https://nbviewer.jupyter.org/github/adriangb/scikeras/blob/master/notebooks/Advanced_Usage.ipynb) notebook.\n",
    "\n",
    "## 7. Usage with sklearn GridSearchCV\n",
    "\n",
    "### 7.1 Special prefixes\n",
    "\n",
    "SciKeras allows to direct access to all parameters passed to the wrapper constructors, including deeply nested routed parameters. This allows tunning of\n",
    "paramters like `hidden_layer_sizes` as well as `optimizer__learning_rate`.\n",
    "\n",
    "This is exactly the same logic that allows to access estimator parameters in `sklearn Pipeline`s and `FeatureUnion`s.\n",
    "\n",
    "This feature is useful in several ways. For one, it allows to set those parameters in the model definition. Furthermore, it allows you to set parameters in an `sklearn GridSearchCV` as shown below.\n",
    "\n",
    "To differentiate paramters like `callbacks` which are accepted by both `tf.keras.Model.fit` and `tf.keras.Model.predict` you can add a `fit__` or `predict__` routing suffix respectively. Similar, the `model__` prefix may be used to specify that a paramter is destined only for `get_clf`/`get_reg` (or whatever callable you pass as your `model` argument).\n",
    "\n",
    "For more information on parameter routing with special prefixes, see the [Advanced Usage Docs](https://scikeras.org.readthedocs.build/en/latest/advanced.html#routed-parameters)\n",
    "\n",
    "### 7.2 Performing a grid search\n",
    "\n",
    "Below we show how to perform a grid search over the learning rate (`optimizer__lr`), the model's number of hidden layers (`model__hidden_layer_sizes`), the model's dropout rate (`model__dropout`)."
   ]
  },
  {
   "cell_type": "code",
   "execution_count": 23,
   "id": "numerical-virginia",
   "metadata": {
    "execution": {
     "iopub.execute_input": "2021-01-31T07:24:46.607708Z",
     "iopub.status.busy": "2021-01-31T07:24:46.606511Z",
     "iopub.status.idle": "2021-01-31T07:24:46.643117Z",
     "shell.execute_reply": "2021-01-31T07:24:46.644078Z"
    }
   },
   "outputs": [],
   "source": [
    "from sklearn.model_selection import GridSearchCV"
   ]
  },
  {
   "cell_type": "code",
   "execution_count": 24,
   "id": "decimal-decade",
   "metadata": {
    "execution": {
     "iopub.execute_input": "2021-01-31T07:24:46.647699Z",
     "iopub.status.busy": "2021-01-31T07:24:46.646662Z",
     "iopub.status.idle": "2021-01-31T07:24:46.651925Z",
     "shell.execute_reply": "2021-01-31T07:24:46.652639Z"
    }
   },
   "outputs": [],
   "source": [
    "clf = KerasClassifier(\n",
    "    model=get_clf,\n",
    "    loss=\"binary_crossentropy\",\n",
    "    optimizer=\"adam\",\n",
    "    optimizer__lr=0.1,\n",
    "    model__hidden_layer_sizes=(100,),\n",
    "    model__dropout=0.5,\n",
    "    verbose=False,\n",
    ")"
   ]
  },
  {
   "cell_type": "markdown",
   "id": "registered-guatemala",
   "metadata": {},
   "source": [
    "*Note*: We set the verbosity level to zero (`verbose=False`) to prevent too much print output from being shown."
   ]
  },
  {
   "cell_type": "code",
   "execution_count": 25,
   "id": "turkish-customs",
   "metadata": {
    "execution": {
     "iopub.execute_input": "2021-01-31T07:24:46.656100Z",
     "iopub.status.busy": "2021-01-31T07:24:46.655050Z",
     "iopub.status.idle": "2021-01-31T07:25:19.191546Z",
     "shell.execute_reply": "2021-01-31T07:25:19.192341Z"
    }
   },
   "outputs": [
    {
     "name": "stdout",
     "output_type": "stream",
     "text": [
      "Fitting 5 folds for each of 8 candidates, totalling 40 fits\n"
     ]
    },
    {
     "name": "stdout",
     "output_type": "stream",
     "text": [
      "0.89 {'model__dropout': 0, 'model__hidden_layer_sizes': (100,), 'optimizer__lr': 0.1}\n"
     ]
    }
   ],
   "source": [
    "params = {\n",
    "    'optimizer__lr': [0.05, 0.1],\n",
    "    'model__hidden_layer_sizes': [(100, ), (50, 50, )],\n",
    "    'model__dropout': [0, 0.5],\n",
    "}\n",
    "\n",
    "gs = GridSearchCV(clf, params, scoring='accuracy', n_jobs=-1, verbose=True)\n",
    "\n",
    "gs.fit(X, y)\n",
    "\n",
    "print(gs.best_score_, gs.best_params_)"
   ]
  },
  {
   "cell_type": "markdown",
   "id": "colored-milwaukee",
   "metadata": {},
   "source": [
    "Of course, we could further nest the `KerasClassifier` within an `sklearn.pipeline.Pipeline`,\n",
    "in which case we just prefix the parameter by the name of the net (e.g. `clf__model__hidden_layer_sizes`)."
   ]
  }
 ],
 "metadata": {
  "jupytext": {
   "formats": "ipynb,md"
  },
  "kernelspec": {
   "display_name": "Python 3",
   "language": "python",
   "name": "python3"
  },
  "language_info": {
   "codemirror_mode": {
    "name": "ipython",
    "version": 3
   },
   "file_extension": ".py",
   "mimetype": "text/x-python",
   "name": "python",
   "nbconvert_exporter": "python",
   "pygments_lexer": "ipython3",
   "version": "3.8.7"
  }
 },
 "nbformat": 4,
 "nbformat_minor": 5
}
