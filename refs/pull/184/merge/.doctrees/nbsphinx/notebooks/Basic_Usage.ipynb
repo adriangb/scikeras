{
 "cells": [
  {
   "cell_type": "raw",
   "id": "ordinary-convention",
   "metadata": {},
   "source": [
    "<a href=\"https://colab.research.google.com/github/adriangb/scikeras/blob/docs-deploy/refs/heads/master/notebooks/Basic_Usage.ipynb\"><img src=\"https://www.tensorflow.org/images/colab_logo_32px.png\">Run in Google Colab</a>"
   ]
  },
  {
   "cell_type": "markdown",
   "id": "mediterranean-decline",
   "metadata": {},
   "source": [
    "# Basic usage\n",
    "\n",
    "`SciKeras` is designed to maximize interoperability between `sklearn` and `Keras/TensorFlow`. The aim is to keep 99% of the flexibility of `Keras` while being able to leverage most features of `sklearn`. Below, we show the basic usage of `SciKeras` and how it can be combined with `sklearn`.\n",
    "\n",
    "This notebook shows you how to use the basic functionality of `SciKeras`.\n",
    "\n",
    "## Table of contents\n",
    "\n",
    "* [1. Setup](#1.-Setup)\n",
    "* [2. Training a classifier and making predictions](#2.-Training-a-classifier-and-making-predictions)\n",
    "  * [2.1 A toy binary classification task](#2.1-A-toy-binary-classification-task)\n",
    "  * [2.2 Definition of the Keras classification Model](#2.2-Definition-of-the-Keras-classification-Model)\n",
    "  * [2.3 Defining and training the neural net classifier](#2.3-Defining-and-training-the-neural-net-classifier)\n",
    "  * [2.4 Making predictions, classification](#2.4-Making-predictions-classification)\n",
    "* [3 Training a regressor](#3.-Training-a-regressor)\n",
    "  * [3.1 A toy regression task](#3.1-A-toy-regression-task)\n",
    "  * [3.2 Definition of the Keras regression Model](#3.2-Definition-of-the-Keras-regression-Model)\n",
    "  * [3.3 Defining and training the neural net regressor](#3.3-Defining-and-training-the-neural-net-regressor)\n",
    "  * [3.4 Making predictions, regression](#3.4-Making-predictions-regression)\n",
    "* [4. Saving and loading a model](#4.-Saving-and-loading-a-model)\n",
    "  * [4.1 Saving the whole model](#4.1-Saving-the-whole-model)\n",
    "  * [4.2 Saving using Keras' saving methods](#4.2-Saving-using-Keras-saving-methods)\n",
    "* [5. Usage with an sklearn Pipeline](#5.-Usage-with-an-sklearn-Pipeline)\n",
    "* [6. Callbacks](#6.-Callbacks)\n",
    "* [7. Usage with sklearn GridSearchCV](#7.-Usage-with-sklearn-GridSearchCV)\n",
    "  * [7.1 Special prefixes](#7.1-Special-prefixes)\n",
    "  * [7.2 Performing a grid search](#7.2-Performing-a-grid-search)\n",
    "\n",
    "## 1. Setup"
   ]
  },
  {
   "cell_type": "code",
   "execution_count": 1,
   "id": "adult-carbon",
   "metadata": {
    "execution": {
     "iopub.execute_input": "2021-01-31T07:24:28.642680Z",
     "iopub.status.busy": "2021-01-31T07:24:28.641951Z",
     "iopub.status.idle": "2021-01-31T07:24:32.631331Z",
     "shell.execute_reply": "2021-01-31T07:24:32.631867Z"
    }
   },
   "outputs": [],
   "source": [
    "try:\n",
    "    import scikeras\n",
    "except ImportError:\n",
    "    !python -m pip install scikeras"
   ]
  },
  {
   "cell_type": "markdown",
   "id": "severe-noise",
   "metadata": {},
   "source": [
    "Silence TensorFlow logging to keep output succinct."
   ]
  },
  {
   "cell_type": "code",
   "execution_count": 2,
   "id": "accompanied-evolution",
   "metadata": {
    "execution": {
     "iopub.execute_input": "2021-01-31T07:24:32.637367Z",
     "iopub.status.busy": "2021-01-31T07:24:32.634761Z",
     "iopub.status.idle": "2021-01-31T07:24:32.642686Z",
     "shell.execute_reply": "2021-01-31T07:24:32.643631Z"
    }
   },
   "outputs": [],
   "source": [
    "import warnings\n",
    "from tensorflow import get_logger\n",
    "get_logger().setLevel('ERROR')\n",
    "warnings.filterwarnings(\"ignore\", message=\"Setting the random state for TF\")"
   ]
  },
  {
   "cell_type": "code",
   "execution_count": 3,
   "id": "applicable-checkout",
   "metadata": {
    "execution": {
     "iopub.execute_input": "2021-01-31T07:24:32.647617Z",
     "iopub.status.busy": "2021-01-31T07:24:32.646391Z",
     "iopub.status.idle": "2021-01-31T07:24:33.765949Z",
     "shell.execute_reply": "2021-01-31T07:24:33.766459Z"
    }
   },
   "outputs": [],
   "source": [
    "import numpy as np\n",
    "from scikeras.wrappers import KerasClassifier, KerasRegressor\n",
    "from tensorflow import keras"
   ]
  },
  {
   "cell_type": "markdown",
   "id": "three-savage",
   "metadata": {},
   "source": [
    "## 2. Training a classifier and making predictions\n",
    "\n",
    "### 2.1 A toy binary classification task\n",
    "\n",
    "We load a toy classification task from `sklearn`."
   ]
  },
  {
   "cell_type": "code",
   "execution_count": 4,
   "id": "domestic-inquiry",
   "metadata": {
    "execution": {
     "iopub.execute_input": "2021-01-31T07:24:33.769601Z",
     "iopub.status.busy": "2021-01-31T07:24:33.768967Z",
     "iopub.status.idle": "2021-01-31T07:24:33.820063Z",
     "shell.execute_reply": "2021-01-31T07:24:33.822409Z"
    }
   },
   "outputs": [
    {
     "data": {
      "text/plain": [
       "((1000, 20), (1000,), 0.5)"
      ]
     },
     "execution_count": 1,
     "metadata": {},
     "output_type": "execute_result"
    }
   ],
   "source": [
    "import numpy as np\n",
    "from sklearn.datasets import make_classification\n",
    "\n",
    "\n",
    "X, y = make_classification(1000, 20, n_informative=10, random_state=0)\n",
    "\n",
    "X.shape, y.shape, y.mean()"
   ]
  },
  {
   "cell_type": "markdown",
   "id": "outside-litigation",
   "metadata": {},
   "source": [
    "### 2.2 Definition of the Keras classification Model\n",
    "\n",
    "We define a vanilla neural network with.\n",
    "\n",
    "Because we are dealing with 2 classes, the output layer can be constructed in\n",
    "two different ways:\n",
    "\n",
    "1. Single unit with a `\"sigmoid\"` nonlinearity. The loss must be `\"binary_crossentropy\"`.\n",
    "2. Two units (one for each class) and a `\"softmax\"` nonlinearity. The loss must be `\"sparse_categorical_crossentropy\"`.\n",
    "\n",
    "In this example, we choose the first option, which is what you would usually\n",
    "do for binary classification. The second option is usually reserved for when\n",
    "you have >2 classes."
   ]
  },
  {
   "cell_type": "code",
   "execution_count": 5,
   "id": "conceptual-george",
   "metadata": {
    "execution": {
     "iopub.execute_input": "2021-01-31T07:24:33.830309Z",
     "iopub.status.busy": "2021-01-31T07:24:33.829347Z",
     "iopub.status.idle": "2021-01-31T07:24:33.835511Z",
     "shell.execute_reply": "2021-01-31T07:24:33.836017Z"
    }
   },
   "outputs": [],
   "source": [
    "from tensorflow import keras\n",
    "\n",
    "\n",
    "def get_clf(meta, hidden_layer_sizes, dropout):\n",
    "    n_features_in_ = meta[\"n_features_in_\"]\n",
    "    n_classes_ = meta[\"n_classes_\"]\n",
    "    model = keras.models.Sequential()\n",
    "    model.add(keras.layers.Input(shape=(n_features_in_,)))\n",
    "    for hidden_layer_size in hidden_layer_sizes:\n",
    "        model.add(keras.layers.Dense(hidden_layer_size, activation=\"relu\"))\n",
    "        model.add(keras.layers.Dropout(dropout))\n",
    "    model.add(keras.layers.Dense(1, activation=\"sigmoid\"))\n",
    "    return model"
   ]
  },
  {
   "cell_type": "markdown",
   "id": "elder-runner",
   "metadata": {},
   "source": [
    "### 2.3 Defining and training the neural net classifier\n",
    "\n",
    "We use `KerasClassifier` because we're dealing with a classifcation task. The first argument should be a callable returning a `Keras.Model`, in this case, `get_clf`. As additional arguments, we pass the number of loss function (required) and the optimizer, but the later is optional. We must also pass all of the arguments to `get_clf` as keyword arguments to `KerasClassifier` if they don't have a default value in `get_clf`. Note that if you do not pass an argument to `KerasClassifier`, it will not be avilable for hyperparameter tuning. Finally, we also pass `random_state=0` for reproducible results."
   ]
  },
  {
   "cell_type": "code",
   "execution_count": 6,
   "id": "annoying-booth",
   "metadata": {
    "execution": {
     "iopub.execute_input": "2021-01-31T07:24:33.843095Z",
     "iopub.status.busy": "2021-01-31T07:24:33.842174Z",
     "iopub.status.idle": "2021-01-31T07:24:33.848895Z",
     "shell.execute_reply": "2021-01-31T07:24:33.849738Z"
    }
   },
   "outputs": [],
   "source": [
    "from scikeras.wrappers import KerasClassifier\n",
    "\n",
    "\n",
    "clf = KerasClassifier(\n",
    "    model=get_clf,\n",
    "    loss=\"binary_crossentropy\",\n",
    "    hidden_layer_sizes=(100,),\n",
    "    dropout=0.5,\n",
    ")"
   ]
  },
  {
   "cell_type": "markdown",
   "id": "cognitive-drink",
   "metadata": {},
   "source": [
    "As in `sklearn`, we call `fit` passing the input data `X` and the targets `y`."
   ]
  },
  {
   "cell_type": "code",
   "execution_count": 7,
   "id": "several-software",
   "metadata": {
    "execution": {
     "iopub.execute_input": "2021-01-31T07:24:33.853656Z",
     "iopub.status.busy": "2021-01-31T07:24:33.852494Z",
     "iopub.status.idle": "2021-01-31T07:24:34.567041Z",
     "shell.execute_reply": "2021-01-31T07:24:34.566311Z"
    }
   },
   "outputs": [
    {
     "name": "stdout",
     "output_type": "stream",
     "text": [
      "\r",
      " 1/32 [..............................] - ETA: 16s - loss: 1.2800"
     ]
    },
    {
     "name": "stdout",
     "output_type": "stream",
     "text": [
      "\b\b\b\b\b\b\b\b\b\b\b\b\b\b\b\b\b\b\b\b\b\b\b\b\b\b\b\b\b\b\b\b\b\b\b\b\b\b\b\b\b\b\b\b\b\b\b\b\b\b\b\b\b\b\b\b\b\b\b\b\b\b\b\b\r",
      "32/32 [==============================] - 1s 1ms/step - loss: 0.9409\n"
     ]
    },
    {
     "data": {
      "text/plain": [
       "KerasClassifier(\n",
       "\tmodel=<function get_clf at 0x7f2319960310>\n",
       "\tbuild_fn=None\n",
       "\twarm_start=False\n",
       "\trandom_state=None\n",
       "\toptimizer=rmsprop\n",
       "\tloss=binary_crossentropy\n",
       "\tmetrics=None\n",
       "\tbatch_size=None\n",
       "\tverbose=1\n",
       "\tcallbacks=None\n",
       "\tvalidation_split=0.0\n",
       "\tshuffle=True\n",
       "\trun_eagerly=False\n",
       "\tepochs=1\n",
       "\thidden_layer_sizes=(100,)\n",
       "\tdropout=0.5\n",
       "\tclass_weight=None\n",
       ")"
      ]
     },
     "execution_count": 1,
     "metadata": {},
     "output_type": "execute_result"
    }
   ],
   "source": [
    "clf.fit(X, y);"
   ]
  },
  {
   "cell_type": "markdown",
   "id": "interstate-writer",
   "metadata": {},
   "source": [
    "Also, as in `sklearn`, you may call `predict` or `predict_proba` on the fitted model.\n",
    "\n",
    "### 2.4 Making predictions, classification"
   ]
  },
  {
   "cell_type": "code",
   "execution_count": 8,
   "id": "extended-primary",
   "metadata": {
    "execution": {
     "iopub.execute_input": "2021-01-31T07:24:34.577006Z",
     "iopub.status.busy": "2021-01-31T07:24:34.576392Z",
     "iopub.status.idle": "2021-01-31T07:24:34.687419Z",
     "shell.execute_reply": "2021-01-31T07:24:34.683336Z"
    }
   },
   "outputs": [
    {
     "name": "stdout",
     "output_type": "stream",
     "text": [
      "\r",
      "1/1 [==============================] - ETA: 0s"
     ]
    },
    {
     "name": "stdout",
     "output_type": "stream",
     "text": [
      "\b\b\b\b\b\b\b\b\b\b\b\b\b\b\b\b\b\b\b\b\b\b\b\b\b\b\b\b\b\b\b\b\b\b\b\b\b\b\b\b\b\b\b\b\b\b\r",
      "1/1 [==============================] - 0s 74ms/step\n"
     ]
    },
    {
     "data": {
      "text/plain": [
       "array([0, 0, 0, 0, 0])"
      ]
     },
     "execution_count": 1,
     "metadata": {},
     "output_type": "execute_result"
    }
   ],
   "source": [
    "y_pred = clf.predict(X[:5])\n",
    "y_pred"
   ]
  },
  {
   "cell_type": "code",
   "execution_count": 9,
   "id": "wound-accountability",
   "metadata": {
    "execution": {
     "iopub.execute_input": "2021-01-31T07:24:34.692729Z",
     "iopub.status.busy": "2021-01-31T07:24:34.692099Z",
     "iopub.status.idle": "2021-01-31T07:24:34.755483Z",
     "shell.execute_reply": "2021-01-31T07:24:34.754951Z"
    }
   },
   "outputs": [
    {
     "name": "stdout",
     "output_type": "stream",
     "text": [
      "\r",
      "1/1 [==============================] - ETA: 0s"
     ]
    },
    {
     "name": "stdout",
     "output_type": "stream",
     "text": [
      "\b\b\b\b\b\b\b\b\b\b\b\b\b\b\b\b\b\b\b\b\b\b\b\b\b\b\b\b\b\b\b\b\b\b\b\b\b\b\b\b\b\b\b\b\b\b\r",
      "1/1 [==============================] - 0s 26ms/step\n"
     ]
    },
    {
     "data": {
      "text/plain": [
       "array([[0.50461197, 0.49538806],\n",
       "       [0.5218572 , 0.4781428 ],\n",
       "       [0.7269551 , 0.27304488],\n",
       "       [0.71093863, 0.28906137],\n",
       "       [0.8442361 , 0.15576392]], dtype=float32)"
      ]
     },
     "execution_count": 1,
     "metadata": {},
     "output_type": "execute_result"
    }
   ],
   "source": [
    "y_proba = clf.predict_proba(X[:5])\n",
    "y_proba"
   ]
  },
  {
   "cell_type": "markdown",
   "id": "conscious-black",
   "metadata": {},
   "source": [
    "## 3 Training a regressor\n",
    "\n",
    "### 3.1 A toy regression task"
   ]
  },
  {
   "cell_type": "code",
   "execution_count": 10,
   "id": "acting-skirt",
   "metadata": {
    "execution": {
     "iopub.execute_input": "2021-01-31T07:24:34.762669Z",
     "iopub.status.busy": "2021-01-31T07:24:34.758485Z",
     "iopub.status.idle": "2021-01-31T07:24:34.769288Z",
     "shell.execute_reply": "2021-01-31T07:24:34.770228Z"
    }
   },
   "outputs": [
    {
     "data": {
      "text/plain": [
       "((1000, 20), (1000,), -649.0148244404172, 615.4505181286091)"
      ]
     },
     "execution_count": 1,
     "metadata": {},
     "output_type": "execute_result"
    }
   ],
   "source": [
    "from sklearn.datasets import make_regression\n",
    "\n",
    "\n",
    "X_regr, y_regr = make_regression(1000, 20, n_informative=10, random_state=0)\n",
    "\n",
    "X_regr.shape, y_regr.shape, y_regr.min(), y_regr.max()"
   ]
  },
  {
   "cell_type": "markdown",
   "id": "mechanical-image",
   "metadata": {},
   "source": [
    "### 3.2 Definition of the Keras regression Model\n",
    "\n",
    "Again, define a vanilla neural network. The main difference is that the output layer always has a single unit and does not apply any nonlinearity."
   ]
  },
  {
   "cell_type": "code",
   "execution_count": 11,
   "id": "seasonal-diversity",
   "metadata": {
    "execution": {
     "iopub.execute_input": "2021-01-31T07:24:34.775712Z",
     "iopub.status.busy": "2021-01-31T07:24:34.773355Z",
     "iopub.status.idle": "2021-01-31T07:24:34.787867Z",
     "shell.execute_reply": "2021-01-31T07:24:34.788783Z"
    }
   },
   "outputs": [],
   "source": [
    "def get_reg(meta, hidden_layer_sizes, dropout):\n",
    "    n_features_in_ = meta[\"n_features_in_\"]\n",
    "    model = keras.models.Sequential()\n",
    "    model.add(keras.layers.Input(shape=(n_features_in_,)))\n",
    "    for hidden_layer_size in hidden_layer_sizes:\n",
    "        model.add(keras.layers.Dense(hidden_layer_size, activation=\"relu\"))\n",
    "        model.add(keras.layers.Dropout(dropout))\n",
    "    model.add(keras.layers.Dense(1))\n",
    "    return model"
   ]
  },
  {
   "cell_type": "markdown",
   "id": "juvenile-jonathan",
   "metadata": {},
   "source": [
    "### 3.3 Defining and training the neural net regressor\n",
    "\n",
    "Training a regressor is almost the same as training a classifier. Mainly, we use `KerasRegressor` instead of `KerasClassifier` (this is the same terminology as in `sklearn`). We also change the loss function to `KerasRegressor.r_squared`. SciKeras provides this loss function because most of the `sklearn` ecosystem expects `R^2` as the loss function, but Keras does not have a default implementation."
   ]
  },
  {
   "cell_type": "code",
   "execution_count": 12,
   "id": "willing-proxy",
   "metadata": {
    "execution": {
     "iopub.execute_input": "2021-01-31T07:24:34.793897Z",
     "iopub.status.busy": "2021-01-31T07:24:34.791570Z",
     "iopub.status.idle": "2021-01-31T07:24:34.800375Z",
     "shell.execute_reply": "2021-01-31T07:24:34.801257Z"
    }
   },
   "outputs": [],
   "source": [
    "from scikeras.wrappers import KerasRegressor\n",
    "\n",
    "\n",
    "reg = KerasRegressor(\n",
    "    model=get_reg,\n",
    "    loss=KerasRegressor.r_squared,\n",
    "    hidden_layer_sizes=(100,),\n",
    "    dropout=0.5,\n",
    ")"
   ]
  },
  {
   "cell_type": "code",
   "execution_count": 13,
   "id": "naughty-gibraltar",
   "metadata": {
    "execution": {
     "iopub.execute_input": "2021-01-31T07:24:34.806258Z",
     "iopub.status.busy": "2021-01-31T07:24:34.804363Z",
     "iopub.status.idle": "2021-01-31T07:24:35.535238Z",
     "shell.execute_reply": "2021-01-31T07:24:35.536096Z"
    }
   },
   "outputs": [
    {
     "name": "stdout",
     "output_type": "stream",
     "text": [
      "\r",
      " 1/32 [..............................] - ETA: 17s - loss: -0.0244"
     ]
    },
    {
     "name": "stdout",
     "output_type": "stream",
     "text": [
      "\b\b\b\b\b\b\b\b\b\b\b\b\b\b\b\b\b\b\b\b\b\b\b\b\b\b\b\b\b\b\b\b\b\b\b\b\b\b\b\b\b\b\b\b\b\b\b\b\b\b\b\b\b\b\b\b\b\b\b\b\b\b\b\b\b\r",
      "32/32 [==============================] - 1s 1ms/step - loss: -0.0326\n"
     ]
    },
    {
     "data": {
      "text/plain": [
       "KerasRegressor(\n",
       "\tmodel=<function get_reg at 0x7f230e75daf0>\n",
       "\tbuild_fn=None\n",
       "\twarm_start=False\n",
       "\trandom_state=None\n",
       "\toptimizer=rmsprop\n",
       "\tloss=<function KerasRegressor.r_squared at 0x7f231a712940>\n",
       "\tmetrics=None\n",
       "\tbatch_size=None\n",
       "\tverbose=1\n",
       "\tcallbacks=None\n",
       "\tvalidation_split=0.0\n",
       "\tshuffle=True\n",
       "\trun_eagerly=False\n",
       "\tepochs=1\n",
       "\thidden_layer_sizes=(100,)\n",
       "\tdropout=0.5\n",
       ")"
      ]
     },
     "execution_count": 1,
     "metadata": {},
     "output_type": "execute_result"
    }
   ],
   "source": [
    "reg.fit(X_regr, y_regr);"
   ]
  },
  {
   "cell_type": "markdown",
   "id": "single-vinyl",
   "metadata": {},
   "source": [
    "### 3.4 Making predictions, regression\n",
    "\n",
    "You may call `predict` or `predict_proba` on the fitted model. For regressions, both methods return the same value."
   ]
  },
  {
   "cell_type": "code",
   "execution_count": 14,
   "id": "adequate-parker",
   "metadata": {
    "execution": {
     "iopub.execute_input": "2021-01-31T07:24:35.540623Z",
     "iopub.status.busy": "2021-01-31T07:24:35.539348Z",
     "iopub.status.idle": "2021-01-31T07:24:35.623628Z",
     "shell.execute_reply": "2021-01-31T07:24:35.623089Z"
    }
   },
   "outputs": [
    {
     "name": "stdout",
     "output_type": "stream",
     "text": [
      "\r",
      "1/1 [==============================] - ETA: 0s"
     ]
    },
    {
     "name": "stdout",
     "output_type": "stream",
     "text": [
      "\b\b\b\b\b\b\b\b\b\b\b\b\b\b\b\b\b\b\b\b\b\b\b\b\b\b\b\b\b\b\b\b\b\b\b\b\b\b\b\b\b\b\b\b\b\b\r",
      "1/1 [==============================] - 0s 46ms/step\n"
     ]
    },
    {
     "data": {
      "text/plain": [
       "array([-0.81634825, -0.761113  , -0.13966595, -0.3599409 , -1.1539853 ],\n",
       "      dtype=float32)"
      ]
     },
     "execution_count": 1,
     "metadata": {},
     "output_type": "execute_result"
    }
   ],
   "source": [
    "y_pred = reg.predict(X_regr[:5])\n",
    "y_pred"
   ]
  },
  {
   "cell_type": "markdown",
   "id": "gorgeous-infection",
   "metadata": {},
   "source": [
    "## 4. Saving and loading a model\n",
    "\n",
    "Save and load either the whole model by using pickle, or use Keras' specialized save methods on the `KerasClassifier.model_` or `KerasRegressor.model_` attribute that is created after fitting. You will want to use Keras' model saving utilities if any of the following apply:\n",
    "\n",
    "1. You wish to save only the weights or only the training configuration of your model.\n",
    "2. You wish to share your model with collaborators. Pickle is a relatively unsafe protocol and it is not recommended to share or load pickle objects publically.\n",
    "3. You care about performance, especially if doing in-memory serialization.\n",
    "\n",
    "For more information, see Keras' [saving documentation](https://www.tensorflow.org/guide/keras/save_and_serialize).\n",
    "\n",
    "### 4.1 Saving the whole model"
   ]
  },
  {
   "cell_type": "code",
   "execution_count": 15,
   "id": "invalid-coordinator",
   "metadata": {
    "execution": {
     "iopub.execute_input": "2021-01-31T07:24:35.627339Z",
     "iopub.status.busy": "2021-01-31T07:24:35.626724Z",
     "iopub.status.idle": "2021-01-31T07:24:36.707873Z",
     "shell.execute_reply": "2021-01-31T07:24:36.708595Z"
    }
   },
   "outputs": [
    {
     "name": "stdout",
     "output_type": "stream",
     "text": [
      "\r",
      " 1/32 [..............................] - ETA: 1s"
     ]
    },
    {
     "name": "stdout",
     "output_type": "stream",
     "text": [
      "\b\b\b\b\b\b\b\b\b\b\b\b\b\b\b\b\b\b\b\b\b\b\b\b\b\b\b\b\b\b\b\b\b\b\b\b\b\b\b\b\b\b\b\b\b\b\b\b\r",
      "32/32 [==============================] - 0s 776us/step\n"
     ]
    },
    {
     "data": {
      "text/plain": [
       "array([-8.16348255e-01, -7.61112988e-01, -1.39665946e-01, -3.59940886e-01,\n",
       "       -1.15398538e+00,  1.48880616e-01, -1.02966237e+00, -1.11557044e-01,\n",
       "       -1.73542321e+00, -1.10663068e+00, -1.28639624e-01, -1.19301307e+00,\n",
       "       -1.08206666e+00, -8.53760898e-01, -7.81467795e-01, -8.92227888e-01,\n",
       "       -1.30221695e-01, -1.41060352e+00, -8.22805882e-01, -7.84779847e-01,\n",
       "       -8.19814622e-01, -6.90889537e-01, -6.82878673e-01, -1.58014655e-01,\n",
       "       -1.56526351e+00, -2.87378818e-01, -4.46655393e-01, -9.12756085e-01,\n",
       "       -1.25913382e-01, -1.77157366e+00, -5.78104079e-01, -4.39484477e-01,\n",
       "       -1.68117023e+00, -1.11868942e+00, -2.90910210e-02, -1.12581205e+00,\n",
       "        2.24881265e-02,  3.59721243e-01, -4.82037574e-01, -2.78996497e-01,\n",
       "       -1.59852695e+00,  7.59287030e-02, -2.46268943e-01, -5.14650270e-02,\n",
       "       -7.29592681e-01, -1.40968311e+00, -5.17672598e-01, -2.15786025e-01,\n",
       "       -9.45498943e-01, -1.04057360e+00, -1.64849246e+00, -8.19050595e-02,\n",
       "       -5.45937493e-02, -4.82360572e-01, -8.25583696e-01, -1.17181718e+00,\n",
       "       -1.60031998e+00, -1.14215843e-01, -4.60719883e-01, -4.06122416e-01,\n",
       "       -1.52087355e+00,  1.03453970e+00, -2.97514677e-01, -1.34550214e+00,\n",
       "       -1.07587111e+00, -3.17203969e-01, -9.61093843e-01, -1.82262194e+00,\n",
       "       -1.36871600e+00, -4.76631939e-01, -1.00852489e+00, -8.83362651e-01,\n",
       "        7.47031942e-02,  8.03724527e-02, -9.33077991e-01, -8.55957031e-01,\n",
       "       -8.82085681e-01, -1.17722011e+00, -5.82837045e-01, -1.39924645e+00,\n",
       "       -6.60827398e-01,  6.76688373e-01, -2.19338417e-01, -6.33935571e-01,\n",
       "       -1.20749712e+00,  3.63949537e-01, -1.32085383e+00,  4.26313668e-01,\n",
       "       -2.00847864e+00,  1.03048205e+00, -1.20087600e+00,  1.52261269e+00,\n",
       "       -1.14254868e+00, -1.13794363e+00, -1.28038979e+00, -4.60407406e-01,\n",
       "       -1.28294623e+00, -6.57386601e-01, -5.03631115e-01,  3.19021553e-01,\n",
       "       -1.75951254e+00,  9.49671745e-01, -1.36504304e+00, -1.29748777e-01,\n",
       "        5.68378687e-01, -8.57122421e-01,  9.92427692e-02, -4.17450696e-01,\n",
       "        1.24648310e-01, -1.42080963e+00,  7.66255915e-01, -8.24257612e-01,\n",
       "        7.03932583e-01,  2.29798838e-01,  6.04978323e-01, -2.49371457e+00,\n",
       "       -7.93244898e-01, -9.41487610e-01,  6.27706409e-01,  1.86463952e-01,\n",
       "       -4.19857264e-01, -1.63263544e-01, -1.06696284e+00, -1.22687590e+00,\n",
       "        6.59758866e-01, -1.38939691e+00, -9.02304053e-01, -1.71620801e-01,\n",
       "        9.06913042e-01, -1.55954802e+00, -5.10243416e-01, -2.39561617e-01,\n",
       "       -3.12808245e-01, -2.21856579e-01,  7.45409608e-01, -1.66837430e+00,\n",
       "       -6.54190421e-01, -5.28152466e-01, -1.41670182e-01, -1.63743484e+00,\n",
       "       -1.10537219e+00, -3.54655296e-01, -6.87612295e-01,  1.37716305e+00,\n",
       "       -1.11081564e+00, -1.33129418e+00,  5.36534786e-01, -2.34953928e+00,\n",
       "       -7.30687737e-01, -7.89408088e-01, -4.34349298e-01,  1.20437598e+00,\n",
       "       -6.77875876e-01, -1.34129179e+00, -1.09810805e+00, -1.03220177e+00,\n",
       "        2.07815040e-02, -7.12539554e-01,  5.97766414e-02,  1.61841869e-01,\n",
       "       -3.10644239e-01, -1.17541289e+00, -2.25368023e+00, -4.93410170e-01,\n",
       "       -8.44262183e-01,  1.13250971e+00, -5.51696241e-01, -7.73856282e-01,\n",
       "       -7.84560621e-01, -5.80488265e-01, -6.34763420e-01,  1.01010576e-01,\n",
       "       -5.98438561e-01, -2.70267427e-01, -4.72268134e-01, -9.09480095e-01,\n",
       "       -1.16393352e+00, -1.57830819e-01, -2.32411981e-01,  5.31825602e-01,\n",
       "        5.35385966e-01, -2.12130081e-02, -5.74203849e-01, -2.84755379e-01,\n",
       "       -1.09082317e+00, -1.91924974e-01, -1.63009238e+00, -9.58564281e-01,\n",
       "        6.40510380e-01, -1.49329448e+00, -1.18103139e-01, -7.47426808e-01,\n",
       "       -4.50479686e-02, -5.18794000e-01, -7.29324341e-01, -1.27036107e+00,\n",
       "        3.47751707e-01, -2.21507645e+00, -8.22521091e-01, -1.90614450e+00,\n",
       "       -1.52801466e+00, -1.64739645e+00, -1.03527296e+00,  6.69122115e-02,\n",
       "        3.27000409e-01, -1.75815225e+00, -4.35662001e-01,  2.89131850e-01,\n",
       "        1.48850679e-01, -2.66630054e-01, -1.18885314e+00, -1.60346866e+00,\n",
       "       -7.04142511e-01, -1.64754677e+00,  1.11347057e-01, -1.00122917e+00,\n",
       "       -1.34239122e-01, -9.07903075e-01, -5.64096346e-02, -8.38224947e-01,\n",
       "       -2.14480758e+00, -2.19600558e+00, -1.55335891e+00,  6.41051590e-01,\n",
       "       -2.17038560e+00, -6.11406326e-01, -2.70228744e-01, -4.97557491e-01,\n",
       "       -1.55553043e+00, -1.21162724e+00, -1.64663041e+00,  2.20742330e-01,\n",
       "       -5.59396088e-01, -5.53458691e-01, -1.79685318e+00, -1.51990131e-01,\n",
       "        9.59449708e-02, -1.99980915e-01,  7.18084648e-02,  2.64127612e-01,\n",
       "       -8.58873785e-01, -1.62852108e-01,  6.49862647e-01,  8.33518505e-01,\n",
       "       -2.26222739e-01, -1.03108549e+00, -2.02059555e+00, -1.53184354e+00,\n",
       "       -1.12416351e+00, -1.13074672e+00, -1.71474338e+00, -4.69839334e-01,\n",
       "       -7.23079979e-01,  1.63376942e-01, -9.18874919e-01, -1.24819212e-01,\n",
       "       -9.11638618e-01, -1.80093920e+00, -1.99775612e+00, -3.46533209e-01,\n",
       "       -7.36568332e-01, -1.36437857e+00, -1.97071552e+00, -2.91073710e-01,\n",
       "        4.85541910e-01, -8.16615999e-01,  4.86396819e-01,  3.34695667e-01,\n",
       "        1.78493023e-01, -1.19794977e+00,  9.68152046e-01, -8.56647849e-01,\n",
       "       -2.88398534e-01, -6.32375002e-01,  5.83546042e-01, -4.45386827e-01,\n",
       "       -1.34966385e+00, -3.97691637e-01, -3.17444921e-01, -3.54146063e-01,\n",
       "       -9.55549359e-01, -1.51051581e+00, -2.27870679e+00, -2.63408637e+00,\n",
       "       -7.53711224e-01, -4.06258330e-02, -1.00994241e+00, -1.18378019e+00,\n",
       "       -1.43413559e-01, -4.24882472e-01,  7.21518934e-01, -3.66310805e-01,\n",
       "        7.28774071e-01, -8.42793524e-01, -1.47665471e-01, -2.69884706e-01,\n",
       "        5.68477035e-01, -6.87850118e-01, -6.05575919e-01, -4.49718148e-01,\n",
       "       -1.08279777e+00,  1.06261587e+00, -1.40947416e-01, -1.42877603e+00,\n",
       "       -6.99364662e-01, -1.95897114e+00, -1.11425424e+00, -5.39766967e-01,\n",
       "        2.86909670e-01, -7.71316111e-01,  4.70936924e-01, -3.49450439e-01,\n",
       "       -1.84120372e-01, -9.86588776e-01,  4.69117835e-02, -9.39112782e-01,\n",
       "       -1.26931012e+00, -9.84142005e-01,  6.68477193e-02, -1.29015195e+00,\n",
       "        3.52603644e-01, -2.04821897e+00, -5.83409548e-01, -6.52926624e-01,\n",
       "        3.52540314e-01, -8.34252954e-01, -1.39012063e+00, -2.23198032e+00,\n",
       "        3.86681169e-01,  7.12709010e-01, -9.27996993e-01, -1.38382483e+00,\n",
       "       -1.58449531e-01, -8.38725090e-01, -7.92053819e-01, -8.38712215e-01,\n",
       "       -1.60944507e-01, -7.31482923e-01, -5.44508159e-01,  3.85175318e-01,\n",
       "       -5.65675676e-01, -8.48588288e-01, -8.72988999e-02, -1.02606952e+00,\n",
       "       -5.56004524e-01, -1.24116659e+00,  2.79347990e-02, -1.34139717e+00,\n",
       "       -1.66786563e+00, -1.52211979e-01, -1.30441296e+00, -8.99355650e-01,\n",
       "       -2.20501709e+00, -7.72160470e-01,  8.61045346e-02, -1.55285344e-01,\n",
       "       -1.61961651e+00, -1.52251565e+00, -1.27466047e+00, -1.62864670e-01,\n",
       "       -1.08116615e+00, -1.00664389e+00, -5.05593836e-01,  2.23660752e-01,\n",
       "       -1.41786885e+00, -9.12046790e-01, -1.28823578e+00, -9.53078985e-01,\n",
       "       -9.97239113e-01,  5.78588903e-01, -1.14179444e+00, -7.73790896e-01,\n",
       "       -1.49111414e+00, -4.55887109e-01, -1.15173258e-01,  7.31913626e-01,\n",
       "        2.71286845e-01,  5.40171623e-01, -1.36604059e+00, -1.07134826e-01,\n",
       "       -2.02854779e-02, -2.85574174e+00, -3.09647650e-01, -1.96649885e+00,\n",
       "       -1.49233222e+00, -7.29243696e-01, -6.14066541e-01, -7.41100311e-01,\n",
       "       -1.21215868e+00,  5.04978299e-02, -1.46659863e+00, -5.72726965e-01,\n",
       "       -6.28361523e-01, -1.65017390e+00,  1.25359237e-01, -1.16127968e+00,\n",
       "       -8.97240937e-01,  4.84812528e-01, -6.09797798e-03, -1.74095973e-01,\n",
       "       -1.35409367e+00, -1.50597858e+00, -9.62406397e-01, -3.49809974e-01,\n",
       "        5.46406984e-01, -6.69011712e-01, -1.59055018e+00, -2.78018594e+00,\n",
       "       -1.89081931e+00, -2.41745889e-01,  6.42346777e-03,  1.53268731e+00,\n",
       "       -4.70244884e-01, -1.26538920e+00, -7.52700090e-01, -7.66196609e-01,\n",
       "        3.56341213e-01, -1.97348011e+00, -2.12186694e+00, -1.06565487e+00,\n",
       "        3.67307961e-01,  2.44671211e-01, -1.47820091e+00, -6.64310992e-01,\n",
       "       -5.60137272e-01, -1.45895648e+00,  1.70430869e-01, -7.34162867e-01,\n",
       "        3.73057097e-01, -4.87084001e-01, -1.12710059e+00, -1.50304168e-01,\n",
       "        1.61905125e-01, -1.06376088e+00, -1.79474366e+00, -2.47142529e+00,\n",
       "       -1.37955105e+00, -5.30928195e-01, -6.69240892e-01, -7.28397012e-01,\n",
       "       -1.23146679e-02, -1.91214845e-01, -1.36343765e+00, -6.80291533e-01,\n",
       "        2.43130490e-01, -2.19189405e+00, -1.30584300e-01, -7.57263079e-02,\n",
       "       -6.89271092e-01, -5.89975476e-01,  1.30663216e-01,  1.84104770e-01,\n",
       "       -1.14834416e+00, -4.25987750e-01,  1.42449999e+00, -6.64582133e-01,\n",
       "       -7.43101776e-01, -4.40113574e-01, -1.27447820e+00,  2.25343466e-01,\n",
       "       -7.00937212e-01,  1.55247692e-02, -7.34718144e-01, -1.24533486e+00,\n",
       "       -3.56478572e-01, -7.89968073e-01, -1.19486354e-01, -1.06655657e+00,\n",
       "       -6.12425566e-01, -8.31932783e-01, -1.43601298e-01, -2.73370683e-01,\n",
       "       -6.84227705e-01, -1.36233854e+00, -1.66018474e+00,  2.53030509e-01,\n",
       "       -1.12777936e+00, -3.82517338e-01,  5.35819411e-01, -9.75594640e-01,\n",
       "        6.79300070e-01, -4.62955594e-01, -1.51971149e+00,  4.08621550e-01,\n",
       "        1.57021120e-01, -2.30584431e+00, -9.06328797e-01, -1.27960527e+00,\n",
       "       -1.32934308e+00, -2.21897796e-01, -1.63237572e+00, -8.00375566e-02,\n",
       "       -1.27441084e+00, -8.71193409e-01,  1.00397371e-01, -1.11549473e+00,\n",
       "       -3.63808721e-02, -6.25247240e-01,  2.90334642e-01, -1.14464879e+00,\n",
       "       -1.61532032e+00, -2.44415855e+00, -1.49570370e+00, -2.27996465e-02,\n",
       "       -3.93138081e-01,  5.28001785e-01, -5.02933621e-01, -9.32302892e-01,\n",
       "       -5.15582442e-01,  4.91010584e-03,  1.56960472e-01, -1.32335246e+00,\n",
       "       -1.27045965e+00, -1.75009525e+00,  1.52582899e-01, -1.01222849e+00,\n",
       "       -5.70716560e-01,  1.52745638e-02, -4.06353801e-01, -1.48798621e+00,\n",
       "       -8.52519833e-03, -7.68263876e-01, -2.31708840e-01, -2.20493078e+00,\n",
       "       -1.98475480e+00, -2.44697571e-01, -1.35865724e+00, -1.05699646e+00,\n",
       "       -6.92480206e-01,  7.95379519e-01, -7.57232308e-01, -1.47273946e+00,\n",
       "        1.06639159e+00, -5.86596608e-01, -9.04355586e-01, -3.95438999e-01,\n",
       "       -2.04357362e+00, -5.08152306e-01, -1.43346086e-01, -3.70487839e-01,\n",
       "       -1.48757970e+00, -1.06607854e+00,  1.88260838e-01, -1.44665051e+00,\n",
       "        3.04605097e-01, -1.60378814e+00, -1.25550985e+00, -6.60950243e-01,\n",
       "       -5.09707153e-01, -1.15744567e+00,  5.53921387e-02, -1.49579620e+00,\n",
       "       -1.98649263e+00, -1.24225414e+00, -1.04710340e+00, -4.75223392e-01,\n",
       "       -1.11833620e+00, -1.60117853e+00, -7.79619336e-01, -4.85702723e-01,\n",
       "       -2.42417240e+00, -1.11450708e+00, -2.63645828e-01, -9.99009162e-02,\n",
       "        9.91008282e-01, -5.55940270e-01,  7.53347576e-02, -3.14782351e-01,\n",
       "       -1.51843286e+00, -3.85351717e-01, -1.21024740e+00, -7.56441116e-01,\n",
       "       -6.25082135e-01, -1.14212048e+00, -9.07082379e-01,  4.42242026e-01,\n",
       "       -5.82064152e-01, -5.88659465e-01, -1.22716248e+00, -3.16576332e-01,\n",
       "       -1.28380895e+00, -6.81537986e-01, -1.05998136e-01, -1.61238599e+00,\n",
       "       -1.52761245e+00,  7.50160456e-01, -7.61585295e-01, -4.21560735e-01,\n",
       "       -8.55210960e-01,  4.43484038e-01, -3.71892869e-01, -2.55236834e-01,\n",
       "       -1.00304222e+00,  5.97988069e-02, -1.48603213e+00,  6.60688996e-01,\n",
       "       -2.98359673e-02, -5.15780807e-01, -1.14842758e-01, -6.68081760e-01,\n",
       "        5.96599653e-02, -1.08117849e-01, -1.17578268e+00, -1.98117897e-01,\n",
       "        2.79609025e-01, -9.61568475e-01, -8.26267838e-01, -1.67182660e+00,\n",
       "       -8.13839197e-01,  2.49323383e-01,  1.99938998e-01, -7.61646926e-01,\n",
       "       -2.66883820e-01, -1.25724578e+00, -1.73139429e+00, -4.49329287e-01,\n",
       "       -1.07266378e+00, -7.05053031e-01, -1.64039060e-01,  1.26850486e-01,\n",
       "       -1.10991240e+00, -1.58053529e+00, -7.17704356e-01, -4.66895312e-01,\n",
       "        5.66047132e-01,  4.27735075e-02, -2.29824877e+00, -1.59260750e+00,\n",
       "        3.20180595e-01, -1.11754811e+00, -1.40600160e-01,  1.47560489e+00,\n",
       "       -1.34390748e+00, -1.53548825e+00, -1.57401359e+00, -1.55890489e+00,\n",
       "       -1.35571611e+00, -1.21557033e+00, -1.10422540e+00, -7.98033774e-01,\n",
       "        1.64072458e-02, -1.13948512e+00,  1.02378912e-01,  2.74432451e-01,\n",
       "       -3.90287668e-01, -6.95743978e-01, -7.31726065e-02, -1.71617925e-01,\n",
       "        1.11231887e+00, -2.61531115e+00, -6.87589169e-01, -1.48117983e+00,\n",
       "       -7.08065689e-01, -7.71271110e-01, -4.10109684e-02, -2.51614004e-01,\n",
       "       -6.44723535e-01, -1.03980851e+00, -2.00961614e+00,  2.00765535e-01,\n",
       "        3.87469739e-01, -1.35863519e+00, -1.04076636e+00, -9.52581987e-02,\n",
       "       -7.58747876e-01, -3.07883602e-02,  1.43601075e-01,  4.56660420e-01,\n",
       "       -2.63463464e-02, -1.01897228e+00,  2.64919460e-01,  5.30381441e-01,\n",
       "       -9.85123277e-01, -4.42958847e-02,  3.06179345e-01,  2.94515997e-01,\n",
       "       -8.45378160e-01, -3.89476269e-01, -1.21107137e+00,  4.78789583e-02,\n",
       "       -8.81342471e-01, -2.85949081e-01,  5.49493670e-01, -1.35954440e+00,\n",
       "       -1.60876453e-01,  8.97906646e-02, -1.10278451e+00, -1.70498407e+00,\n",
       "        4.80590016e-01, -4.07304130e-02,  4.91890609e-02, -1.32066107e+00,\n",
       "       -3.76419351e-02, -6.44168496e-01, -1.38171613e+00, -8.26427788e-02,\n",
       "       -6.10931218e-01, -1.40120041e+00, -3.08215231e-01,  5.30093133e-01,\n",
       "        1.75871223e-01, -1.98728716e+00, -8.32749963e-01, -7.99701214e-01,\n",
       "       -5.93321502e-01, -6.01581812e-01, -3.32143277e-01, -2.27918530e+00,\n",
       "        5.42986766e-02, -1.59474686e-01, -9.63378847e-01, -1.77002147e-01,\n",
       "       -5.24819672e-01, -1.14627862e+00, -1.86629504e-01,  7.92855442e-01,\n",
       "       -2.31432915e-01, -1.22256315e+00, -2.33217835e+00, -1.84998536e+00,\n",
       "       -1.46911860e+00, -3.31120640e-01, -1.83041364e-01,  3.25969845e-01,\n",
       "       -1.63662171e+00, -1.42739749e+00, -2.31113625e+00, -4.96224403e-01,\n",
       "       -6.25783682e-01, -3.67221206e-01, -1.09744763e+00, -1.30879772e+00,\n",
       "       -2.69991368e-01, -8.10768962e-01, -3.03866088e-01, -1.55415308e+00,\n",
       "       -6.82921767e-01, -4.37842339e-01,  8.71351361e-01, -1.55550241e+00,\n",
       "       -9.23996627e-01, -4.50632423e-01,  3.40378851e-01,  2.67254084e-01,\n",
       "       -5.82832932e-01, -4.46096689e-01, -4.37032640e-01, -1.50825870e+00,\n",
       "       -6.59522653e-01, -1.29570341e+00, -8.01640987e-01,  4.16724652e-01,\n",
       "       -2.02207398e+00, -1.23752582e+00, -8.76179755e-01, -1.94472209e-01,\n",
       "       -6.47979259e-01,  5.81784472e-02, -1.23952031e+00,  8.26443806e-02,\n",
       "       -1.03363669e+00, -1.06226742e+00, -2.79000330e+00, -5.63263655e-01,\n",
       "       -9.73864421e-02, -1.53294027e+00, -1.36386561e+00,  3.03838521e-01,\n",
       "       -8.94639611e-01, -1.02332115e+00, -1.99361575e+00, -9.37528074e-01,\n",
       "        1.33576667e+00, -4.72740978e-01, -2.85640746e-01, -9.54766214e-01,\n",
       "        4.11498427e-01, -1.20488608e+00,  4.54647630e-01, -4.57800180e-01,\n",
       "       -2.55620450e-01, -3.69434208e-02, -3.38575274e-01, -6.69488534e-02,\n",
       "       -3.42400283e-01, -7.70457745e-01, -1.37624478e+00, -1.02260458e+00,\n",
       "       -1.42712021e+00, -2.86574095e-01,  5.73815465e-01, -1.70989931e+00,\n",
       "       -1.66565433e-01, -5.05893588e-01, -6.35827422e-01, -6.37958229e-01,\n",
       "       -6.96652412e-01, -1.05046976e+00, -1.58760560e+00, -1.98444057e+00,\n",
       "       -3.59003663e-01, -1.82456005e+00,  3.47209752e-01, -1.63245142e-01,\n",
       "       -7.11828649e-01, -1.10710359e+00, -1.06666088e+00, -1.77169812e+00,\n",
       "       -2.00812206e-01, -5.29518068e-01, -4.74233449e-01, -9.71334279e-01,\n",
       "       -2.64782041e-01, -1.60693121e+00, -3.15377593e-01, -1.30195761e+00,\n",
       "        2.29412299e-02,  6.58942945e-03,  9.10918042e-02, -4.04364794e-01,\n",
       "       -2.43318605e+00, -2.85756499e-01, -7.47038484e-01, -1.73783624e+00,\n",
       "        4.33603793e-01, -2.85559386e-01, -3.53678256e-01, -3.95902842e-01,\n",
       "        5.34145057e-01, -1.43145692e+00, -1.61604917e+00,  3.32968563e-01,\n",
       "       -1.16217518e+00, -2.37112716e-01, -2.08028364e+00, -4.71484333e-01,\n",
       "       -1.68646753e+00, -5.51262021e-01, -8.83804381e-01, -9.40573812e-01,\n",
       "       -5.09940207e-01, -1.13948894e+00, -2.35137773e+00, -3.94834369e-01,\n",
       "       -1.75958216e-01, -1.65760672e+00, -5.06069064e-01, -1.37112951e+00,\n",
       "       -5.57330772e-02, -5.14550924e-01,  4.20008630e-01, -4.93893594e-01,\n",
       "       -1.17026484e+00, -1.17418230e+00, -5.04343629e-01, -6.09254003e-01,\n",
       "       -3.34616393e-01, -5.78159928e-01, -1.62669945e+00, -1.84896553e+00,\n",
       "       -1.00113678e+00, -1.31941330e+00, -1.24606431e+00, -3.05965364e-01,\n",
       "        3.82845879e-01, -8.21524858e-01,  6.68448582e-02, -1.80219516e-01,\n",
       "       -1.85848486e+00, -1.45307589e+00, -1.34457076e+00, -1.32339406e+00,\n",
       "       -9.60362673e-01, -1.11133349e+00, -8.66961598e-01, -1.57259619e+00,\n",
       "       -5.24168491e-01,  6.26402259e-01, -1.36977589e+00, -8.33411694e-01,\n",
       "        1.97536692e-01, -2.40961313e+00,  7.42201030e-01, -1.07348728e+00,\n",
       "       -9.56145227e-01, -1.56055462e+00, -7.94523180e-01,  7.61410072e-02,\n",
       "        5.84067166e-01,  1.49686754e-01, -1.72177124e+00,  1.33228704e-01,\n",
       "       -5.52492321e-01,  4.96392399e-01, -7.71470010e-01, -9.99654770e-01,\n",
       "       -1.27416360e+00,  4.83619645e-02, -9.92125198e-02, -3.50110605e-02,\n",
       "       -8.83845091e-01, -9.43352163e-01, -1.11279058e+00,  7.45177269e-01,\n",
       "       -6.72689855e-01, -1.39633977e+00, -7.55037725e-01, -8.62410426e-01,\n",
       "       -1.22134852e+00,  4.33723480e-01, -7.53100589e-02, -1.81683147e+00,\n",
       "       -4.36181396e-01,  1.62774399e-01, -1.03966117e-01, -5.01695216e-01,\n",
       "        8.47375616e-02, -8.29446256e-01, -1.57955170e+00,  3.13992828e-01,\n",
       "       -1.32061803e+00, -1.17332542e+00, -1.12760198e+00, -1.47840202e+00,\n",
       "       -1.19623378e-01, -1.70588124e+00, -4.29553062e-01, -9.49124336e-01,\n",
       "       -1.04503345e+00,  5.47630191e-01, -2.53590107e-01, -1.08113980e+00,\n",
       "       -2.29097232e-01, -7.83388615e-01, -7.10676193e-01, -7.73506999e-01,\n",
       "       -1.13012958e-02, -1.36104703e+00, -7.83111453e-01, -1.01781476e+00,\n",
       "       -6.29919171e-01, -4.52548742e-01, -1.45552278e+00, -1.17971802e+00,\n",
       "       -9.41289067e-01, -3.36862892e-01, -9.69080687e-01, -3.34786505e-01,\n",
       "       -1.12180543e+00, -5.56561589e-01, -1.77431464e+00, -2.90072322e-01,\n",
       "        6.58976659e-02,  1.76239628e-02,  6.01842523e-01, -7.45936275e-01,\n",
       "       -3.38315457e-01,  1.04028724e-01, -6.79869235e-01, -3.20427805e-01,\n",
       "       -2.31927490e+00, -2.73363918e-01, -5.64876080e-01,  2.58184761e-01,\n",
       "       -1.01983547e+00, -2.41250932e-01, -2.43057251e+00, -1.57770142e-01,\n",
       "        1.60587020e-03, -1.36574149e+00, -1.88157022e+00,  3.62062246e-01,\n",
       "       -1.68959093e+00, -7.31377065e-01, -2.63444114e+00, -4.65355307e-01,\n",
       "       -5.95395505e-01, -1.54789007e+00, -1.42604363e+00, -1.25343883e+00,\n",
       "       -1.71507180e+00,  2.14178815e-01, -1.73056865e+00, -2.02364087e+00,\n",
       "       -7.09609807e-01,  2.87615150e-01, -6.38848364e-01, -9.16678488e-01,\n",
       "       -1.79437709e+00, -2.35329643e-01, -2.29717031e-01,  1.57455587e+00,\n",
       "       -1.09135079e+00, -3.03741872e-01, -9.48603392e-01,  2.76924204e-02,\n",
       "       -1.79336131e+00, -8.37808609e-01, -1.55691147e-01, -7.30212867e-01],\n",
       "      dtype=float32)"
      ]
     },
     "execution_count": 1,
     "metadata": {},
     "output_type": "execute_result"
    }
   ],
   "source": [
    "import pickle\n",
    "\n",
    "\n",
    "bytes_model = pickle.dumps(reg)\n",
    "new_reg = pickle.loads(bytes_model)\n",
    "new_reg.predict(X_regr);  # model is still trained"
   ]
  },
  {
   "cell_type": "markdown",
   "id": "floppy-consent",
   "metadata": {},
   "source": [
    "### 4.2 Saving using Keras' saving methods\n",
    "\n",
    "This efficiently and safely saves the model to disk, including trained weights.\n",
    "You should use this method if you plan on sharing your saved models."
   ]
  },
  {
   "cell_type": "code",
   "execution_count": 16,
   "id": "concerned-astrology",
   "metadata": {
    "execution": {
     "iopub.execute_input": "2021-01-31T07:24:36.714256Z",
     "iopub.status.busy": "2021-01-31T07:24:36.713626Z",
     "iopub.status.idle": "2021-01-31T07:24:37.333430Z",
     "shell.execute_reply": "2021-01-31T07:24:37.334277Z"
    }
   },
   "outputs": [
    {
     "name": "stdout",
     "output_type": "stream",
     "text": [
      "\r",
      " 1/32 [..............................] - ETA: 0s"
     ]
    },
    {
     "name": "stdout",
     "output_type": "stream",
     "text": [
      "\b\b\b\b\b\b\b\b\b\b\b\b\b\b\b\b\b\b\b\b\b\b\b\b\b\b\b\b\b\b\b\b\b\b\b\b\b\b\b\b\b\b\b\b\b\b\b\b\r",
      "32/32 [==============================] - 0s 769us/step\n"
     ]
    }
   ],
   "source": [
    "# Save to disk\n",
    "pred_old = reg.predict(X_regr)\n",
    "reg.model_.save(\"/tmp/my_model\")  # saves just the Keras model"
   ]
  },
  {
   "cell_type": "code",
   "execution_count": 17,
   "id": "ceramic-trigger",
   "metadata": {
    "execution": {
     "iopub.execute_input": "2021-01-31T07:24:37.338901Z",
     "iopub.status.busy": "2021-01-31T07:24:37.337706Z",
     "iopub.status.idle": "2021-01-31T07:24:37.676185Z",
     "shell.execute_reply": "2021-01-31T07:24:37.676680Z"
    }
   },
   "outputs": [
    {
     "name": "stdout",
     "output_type": "stream",
     "text": [
      "\r",
      " 1/32 [..............................] - ETA: 1s"
     ]
    },
    {
     "name": "stdout",
     "output_type": "stream",
     "text": [
      "\b\b\b\b\b\b\b\b\b\b\b\b\b\b\b\b\b\b\b\b\b\b\b\b\b\b\b\b\b\b\b\b\b\b\b\b\b\b\b\b\b\b\b\b\b\b\b\b\r",
      "32/32 [==============================] - 0s 626us/step\n"
     ]
    }
   ],
   "source": [
    "# Load the model back into memory\n",
    "new_reg_model = keras.models.load_model(\"/tmp/my_model\")\n",
    "# Now we need to instantiate a new SciKeras object\n",
    "# since we only saved the Keras model\n",
    "reg_new = KerasRegressor(new_reg_model)\n",
    "# use initialize to avoid re-fitting\n",
    "reg_new.initialize(X_regr, y_regr)\n",
    "pred_new = reg_new.predict(X_regr)\n",
    "np.testing.assert_allclose(pred_old, pred_new)"
   ]
  },
  {
   "cell_type": "markdown",
   "id": "understanding-snake",
   "metadata": {},
   "source": [
    "## 5. Usage with an sklearn Pipeline\n",
    "\n",
    "It is possible to put the `KerasClassifier` inside an `sklearn Pipeline`, as you would with any `sklearn` classifier.\n"
   ]
  },
  {
   "cell_type": "code",
   "execution_count": 18,
   "id": "collective-constant",
   "metadata": {
    "execution": {
     "iopub.execute_input": "2021-01-31T07:24:37.683527Z",
     "iopub.status.busy": "2021-01-31T07:24:37.682315Z",
     "iopub.status.idle": "2021-01-31T07:24:38.390006Z",
     "shell.execute_reply": "2021-01-31T07:24:38.390874Z"
    }
   },
   "outputs": [
    {
     "name": "stdout",
     "output_type": "stream",
     "text": [
      "\r",
      " 1/32 [..............................] - ETA: 15s - loss: 0.7791"
     ]
    },
    {
     "name": "stdout",
     "output_type": "stream",
     "text": [
      "\b\b\b\b\b\b\b\b\b\b\b\b\b\b\b\b\b\b\b\b\b\b\b\b\b\b\b\b\b\b\b\b\b\b\b\b\b\b\b\b\b\b\b\b\b\b\b\b\b\b\b\b\b\b\b\b\b\b\b\b\b\b\b\b\r",
      "32/32 [==============================] - 1s 1ms/step - loss: 0.7113\n"
     ]
    },
    {
     "name": "stdout",
     "output_type": "stream",
     "text": [
      "\r",
      " 1/32 [..............................] - ETA: 1s"
     ]
    },
    {
     "name": "stdout",
     "output_type": "stream",
     "text": [
      "\b\b\b\b\b\b\b\b\b\b\b\b\b\b\b\b\b\b\b\b\b\b\b\b\b\b\b\b\b\b\b\b\b\b\b\b\b\b\b\b\b\b\b\b\b\b\b\b\r",
      "32/32 [==============================] - 0s 786us/step\n"
     ]
    }
   ],
   "source": [
    "from sklearn.pipeline import Pipeline\n",
    "from sklearn.preprocessing import StandardScaler\n",
    "\n",
    "\n",
    "pipe = Pipeline([\n",
    "    ('scale', StandardScaler()),\n",
    "    ('clf', clf),\n",
    "])\n",
    "\n",
    "\n",
    "y_proba = pipe.fit(X, y).predict(X)"
   ]
  },
  {
   "cell_type": "markdown",
   "id": "declared-henry",
   "metadata": {},
   "source": [
    "To save the whole pipeline, including the Keras model, use `pickle`.\n",
    "\n",
    "## 6. Callbacks\n",
    "\n",
    "Adding a new callback to the model is straightforward. Below we define a threashold callback\n",
    "to avoid training past a certain accuracy. This a rudimentary for of\n",
    "[early stopping](https://www.tensorflow.org/api_docs/python/tf/keras/callbacks/EarlyStopping)."
   ]
  },
  {
   "cell_type": "code",
   "execution_count": 19,
   "id": "placed-alabama",
   "metadata": {
    "execution": {
     "iopub.execute_input": "2021-01-31T07:24:38.396117Z",
     "iopub.status.busy": "2021-01-31T07:24:38.393687Z",
     "iopub.status.idle": "2021-01-31T07:24:38.399803Z",
     "shell.execute_reply": "2021-01-31T07:24:38.400655Z"
    }
   },
   "outputs": [],
   "source": [
    "class MaxValLoss(keras.callbacks.Callback):\n",
    "\n",
    "    def __init__(self, monitor: str, threashold: float):\n",
    "        self.monitor = monitor\n",
    "        self.threashold = threashold\n",
    "\n",
    "    def on_epoch_end(self, epoch, logs=None):\n",
    "        if logs[self.monitor] > self.threashold:\n",
    "            print(\"Threashold reached; stopping training\") \n",
    "            self.model.stop_training = True"
   ]
  },
  {
   "cell_type": "markdown",
   "id": "aging-cement",
   "metadata": {},
   "source": [
    "Define a test dataset:"
   ]
  },
  {
   "cell_type": "code",
   "execution_count": 20,
   "id": "colonial-browser",
   "metadata": {
    "execution": {
     "iopub.execute_input": "2021-01-31T07:24:38.405177Z",
     "iopub.status.busy": "2021-01-31T07:24:38.403920Z",
     "iopub.status.idle": "2021-01-31T07:24:38.411750Z",
     "shell.execute_reply": "2021-01-31T07:24:38.412601Z"
    }
   },
   "outputs": [],
   "source": [
    "from sklearn.datasets import make_moons\n",
    "\n",
    "\n",
    "X, y = make_moons(n_samples=100, noise=0.2, random_state=0)"
   ]
  },
  {
   "cell_type": "markdown",
   "id": "grateful-mention",
   "metadata": {},
   "source": [
    "And try fitting it with and without the callback:"
   ]
  },
  {
   "cell_type": "code",
   "execution_count": 21,
   "id": "common-teens",
   "metadata": {
    "execution": {
     "iopub.execute_input": "2021-01-31T07:24:38.416861Z",
     "iopub.status.busy": "2021-01-31T07:24:38.415658Z",
     "iopub.status.idle": "2021-01-31T07:24:40.515200Z",
     "shell.execute_reply": "2021-01-31T07:24:40.515987Z"
    }
   },
   "outputs": [
    {
     "name": "stdout",
     "output_type": "stream",
     "text": [
      "Trained 20 epochs\n",
      "Final accuracy: 1.0\n"
     ]
    }
   ],
   "source": [
    "kwargs = dict(\n",
    "    model=get_clf,\n",
    "    loss=\"binary_crossentropy\",\n",
    "    dropout=0.5,\n",
    "    hidden_layer_sizes=(100,),\n",
    "    metrics=[\"binary_accuracy\"],\n",
    "    fit__validation_split=0.2,\n",
    "    epochs=20,\n",
    "    verbose=False,\n",
    "    random_state=0\n",
    ")\n",
    "\n",
    "# First test without the callback\n",
    "clf = KerasClassifier(**kwargs)\n",
    "clf.fit(X, y)\n",
    "print(f\"Trained {len(clf.history_['loss'])} epochs\")\n",
    "print(f\"Final accuracy: {clf.history_['val_binary_accuracy'][-1]}\")  # get last value of last fit/partial_fit call"
   ]
  },
  {
   "cell_type": "markdown",
   "id": "atomic-thinking",
   "metadata": {},
   "source": [
    "And with:"
   ]
  },
  {
   "cell_type": "code",
   "execution_count": 22,
   "id": "armed-preservation",
   "metadata": {
    "execution": {
     "iopub.execute_input": "2021-01-31T07:24:40.519230Z",
     "iopub.status.busy": "2021-01-31T07:24:40.518548Z",
     "iopub.status.idle": "2021-01-31T07:24:41.517469Z",
     "shell.execute_reply": "2021-01-31T07:24:41.518341Z"
    }
   },
   "outputs": [
    {
     "name": "stdout",
     "output_type": "stream",
     "text": [
      "Threashold reached; stopping training\n",
      "Trained 2 epochs\n",
      "Final accuracy: 0.949999988079071\n"
     ]
    }
   ],
   "source": [
    "# Test with the callback\n",
    "\n",
    "cb = MaxValLoss(monitor=\"val_binary_accuracy\", threashold=0.75)\n",
    "\n",
    "clf = KerasClassifier(\n",
    "    **kwargs,\n",
    "    callbacks=[cb]\n",
    ")\n",
    "clf.fit(X, y)\n",
    "print(f\"Trained {len(clf.history_['loss'])} epochs\")\n",
    "print(f\"Final accuracy: {clf.history_['val_binary_accuracy'][-1]}\")  # get last value of last fit/partial_fit call"
   ]
  },
  {
   "cell_type": "markdown",
   "id": "corresponding-treaty",
   "metadata": {},
   "source": [
    "For information on how to write custom callbacks, have a look at the\n",
    "[Advanced Usage](https://nbviewer.jupyter.org/github/adriangb/scikeras/blob/master/notebooks/Advanced_Usage.ipynb) notebook.\n",
    "\n",
    "## 7. Usage with sklearn GridSearchCV\n",
    "\n",
    "### 7.1 Special prefixes\n",
    "\n",
    "SciKeras allows to direct access to all parameters passed to the wrapper constructors, including deeply nested routed parameters. This allows tunning of\n",
    "paramters like `hidden_layer_sizes` as well as `optimizer__learning_rate`.\n",
    "\n",
    "This is exactly the same logic that allows to access estimator parameters in `sklearn Pipeline`s and `FeatureUnion`s.\n",
    "\n",
    "This feature is useful in several ways. For one, it allows to set those parameters in the model definition. Furthermore, it allows you to set parameters in an `sklearn GridSearchCV` as shown below.\n",
    "\n",
    "To differentiate paramters like `callbacks` which are accepted by both `tf.keras.Model.fit` and `tf.keras.Model.predict` you can add a `fit__` or `predict__` routing suffix respectively. Similar, the `model__` prefix may be used to specify that a paramter is destined only for `get_clf`/`get_reg` (or whatever callable you pass as your `model` argument).\n",
    "\n",
    "For more information on parameter routing with special prefixes, see the [Advanced Usage Docs](https://scikeras.org.readthedocs.build/en/latest/advanced.html#routed-parameters)\n",
    "\n",
    "### 7.2 Performing a grid search\n",
    "\n",
    "Below we show how to perform a grid search over the learning rate (`optimizer__lr`), the model's number of hidden layers (`model__hidden_layer_sizes`), the model's dropout rate (`model__dropout`)."
   ]
  },
  {
   "cell_type": "code",
   "execution_count": 23,
   "id": "institutional-major",
   "metadata": {
    "execution": {
     "iopub.execute_input": "2021-01-31T07:24:41.521712Z",
     "iopub.status.busy": "2021-01-31T07:24:41.521034Z",
     "iopub.status.idle": "2021-01-31T07:24:41.538160Z",
     "shell.execute_reply": "2021-01-31T07:24:41.538971Z"
    }
   },
   "outputs": [],
   "source": [
    "from sklearn.model_selection import GridSearchCV"
   ]
  },
  {
   "cell_type": "code",
   "execution_count": 24,
   "id": "perfect-gregory",
   "metadata": {
    "execution": {
     "iopub.execute_input": "2021-01-31T07:24:41.542059Z",
     "iopub.status.busy": "2021-01-31T07:24:41.541396Z",
     "iopub.status.idle": "2021-01-31T07:24:41.552871Z",
     "shell.execute_reply": "2021-01-31T07:24:41.553630Z"
    }
   },
   "outputs": [],
   "source": [
    "clf = KerasClassifier(\n",
    "    model=get_clf,\n",
    "    loss=\"binary_crossentropy\",\n",
    "    optimizer=\"adam\",\n",
    "    optimizer__lr=0.1,\n",
    "    model__hidden_layer_sizes=(100,),\n",
    "    model__dropout=0.5,\n",
    "    verbose=False,\n",
    ")"
   ]
  },
  {
   "cell_type": "markdown",
   "id": "contemporary-pollution",
   "metadata": {},
   "source": [
    "*Note*: We set the verbosity level to zero (`verbose=False`) to prevent too much print output from being shown."
   ]
  },
  {
   "cell_type": "code",
   "execution_count": 25,
   "id": "upset-jacksonville",
   "metadata": {
    "execution": {
     "iopub.execute_input": "2021-01-31T07:24:41.564239Z",
     "iopub.status.busy": "2021-01-31T07:24:41.563516Z",
     "iopub.status.idle": "2021-01-31T07:25:15.814559Z",
     "shell.execute_reply": "2021-01-31T07:25:15.815097Z"
    }
   },
   "outputs": [
    {
     "name": "stdout",
     "output_type": "stream",
     "text": [
      "Fitting 5 folds for each of 8 candidates, totalling 40 fits\n"
     ]
    },
    {
     "name": "stdout",
     "output_type": "stream",
     "text": [
      "0.86 {'model__dropout': 0, 'model__hidden_layer_sizes': (50, 50), 'optimizer__lr': 0.05}\n"
     ]
    }
   ],
   "source": [
    "params = {\n",
    "    'optimizer__lr': [0.05, 0.1],\n",
    "    'model__hidden_layer_sizes': [(100, ), (50, 50, )],\n",
    "    'model__dropout': [0, 0.5],\n",
    "}\n",
    "\n",
    "gs = GridSearchCV(clf, params, scoring='accuracy', n_jobs=-1, verbose=True)\n",
    "\n",
    "gs.fit(X, y)\n",
    "\n",
    "print(gs.best_score_, gs.best_params_)"
   ]
  },
  {
   "cell_type": "markdown",
   "id": "third-champion",
   "metadata": {},
   "source": [
    "Of course, we could further nest the `KerasClassifier` within an `sklearn.pipeline.Pipeline`,\n",
    "in which case we just prefix the parameter by the name of the net (e.g. `clf__model__hidden_layer_sizes`)."
   ]
  }
 ],
 "metadata": {
  "jupytext": {
   "formats": "ipynb,md"
  },
  "kernelspec": {
   "display_name": "Python 3",
   "language": "python",
   "name": "python3"
  },
  "language_info": {
   "codemirror_mode": {
    "name": "ipython",
    "version": 3
   },
   "file_extension": ".py",
   "mimetype": "text/x-python",
   "name": "python",
   "nbconvert_exporter": "python",
   "pygments_lexer": "ipython3",
   "version": "3.8.7"
  }
 },
 "nbformat": 4,
 "nbformat_minor": 5
}
