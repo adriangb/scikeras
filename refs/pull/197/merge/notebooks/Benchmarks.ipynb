{
 "cells": [
  {
   "cell_type": "raw",
   "id": "coral-rendering",
   "metadata": {},
   "source": [
    "<a href=\"https://colab.research.google.com/github/adriangb/scikeras/blob/docs-deploy/refs/heads/master/notebooks/Benchmarks.ipynb\"><img src=\"https://www.tensorflow.org/images/colab_logo_32px.png\">Run in Google Colab</a>"
   ]
  },
  {
   "cell_type": "markdown",
   "id": "finished-pitch",
   "metadata": {},
   "source": [
    "# SciKeras Benchmarks\n",
    "\n",
    "SciKeras wraps Keras Models, but does not alter their performance since all of the heavy lifting still happens within Keras/Tensorflow. In this notebook, we compare the performance and accuracy of a pure-Keras Model to the same model wrapped in SciKeras.\n",
    "\n",
    "## Table of contents\n",
    "\n",
    "* [1. Setup](#1.-Setup)\n",
    "* [2. Dataset](#2.-Dataset)\n",
    "* [3. Define Keras Model](#3.-Define-Keras-Model)\n",
    "* [4. Keras benchmarks](#4.-Keras-benchmarks)\n",
    "* [5. SciKeras benchmark](#5.-SciKeras-benchmark)\n",
    "\n",
    "## 1. Setup"
   ]
  },
  {
   "cell_type": "code",
   "execution_count": 1,
   "id": "written-converter",
   "metadata": {
    "execution": {
     "iopub.execute_input": "2021-02-15T21:26:53.774746Z",
     "iopub.status.busy": "2021-02-15T21:26:53.774157Z",
     "iopub.status.idle": "2021-02-15T21:26:55.466104Z",
     "shell.execute_reply": "2021-02-15T21:26:55.466847Z"
    }
   },
   "outputs": [],
   "source": [
    "try:\n",
    "    import scikeras\n",
    "except ImportError:\n",
    "    !python -m pip install scikeras"
   ]
  },
  {
   "cell_type": "markdown",
   "id": "greatest-treasury",
   "metadata": {},
   "source": [
    "Silence TensorFlow logging to keep output succinct."
   ]
  },
  {
   "cell_type": "code",
   "execution_count": 2,
   "id": "practical-computer",
   "metadata": {
    "execution": {
     "iopub.execute_input": "2021-02-15T21:26:55.474577Z",
     "iopub.status.busy": "2021-02-15T21:26:55.473429Z",
     "iopub.status.idle": "2021-02-15T21:26:55.482484Z",
     "shell.execute_reply": "2021-02-15T21:26:55.483945Z"
    }
   },
   "outputs": [],
   "source": [
    "import warnings\n",
    "from tensorflow import get_logger\n",
    "get_logger().setLevel('ERROR')\n",
    "warnings.filterwarnings(\"ignore\", message=\"Setting the random state for TF\")"
   ]
  },
  {
   "cell_type": "code",
   "execution_count": 3,
   "id": "respected-developer",
   "metadata": {
    "execution": {
     "iopub.execute_input": "2021-02-15T21:26:55.493348Z",
     "iopub.status.busy": "2021-02-15T21:26:55.492816Z",
     "iopub.status.idle": "2021-02-15T21:26:55.908231Z",
     "shell.execute_reply": "2021-02-15T21:26:55.909100Z"
    }
   },
   "outputs": [],
   "source": [
    "import numpy as np\n",
    "from scikeras.wrappers import KerasClassifier, KerasRegressor\n",
    "from tensorflow import keras"
   ]
  },
  {
   "cell_type": "markdown",
   "id": "forbidden-stability",
   "metadata": {},
   "source": [
    "## 2. Dataset\n",
    "\n",
    "We will be using the MNIST dataset available within Keras."
   ]
  },
  {
   "cell_type": "code",
   "execution_count": 4,
   "id": "boolean-hamilton",
   "metadata": {
    "execution": {
     "iopub.execute_input": "2021-02-15T21:26:55.912817Z",
     "iopub.status.busy": "2021-02-15T21:26:55.911679Z",
     "iopub.status.idle": "2021-02-15T21:26:56.528083Z",
     "shell.execute_reply": "2021-02-15T21:26:56.527179Z"
    }
   },
   "outputs": [],
   "source": [
    "(x_train, y_train), (x_test, y_test) = keras.datasets.mnist.load_data()\n",
    "# Scale images to the [0, 1] range\n",
    "x_train = x_train.astype(\"float32\") / 255\n",
    "x_test = x_test.astype(\"float32\") / 255\n",
    "# Make sure images have shape (28, 28, 1)\n",
    "x_train = np.expand_dims(x_train, -1)\n",
    "x_test = np.expand_dims(x_test, -1)\n",
    "# Reduce dataset size for faster benchmarks\n",
    "x_train, y_train = x_train[:2000], y_train[:2000]\n",
    "x_test, y_test = x_test[:500], y_test[:500]"
   ]
  },
  {
   "cell_type": "markdown",
   "id": "polyphonic-judge",
   "metadata": {},
   "source": [
    "## 3. Define Keras Model\n",
    "\n",
    "Next we will define our Keras model (adapted from [keras.io](https://keras.io/examples/vision/mnist_convnet/)):"
   ]
  },
  {
   "cell_type": "code",
   "execution_count": 5,
   "id": "handmade-campus",
   "metadata": {
    "execution": {
     "iopub.execute_input": "2021-02-15T21:26:56.534969Z",
     "iopub.status.busy": "2021-02-15T21:26:56.534464Z",
     "iopub.status.idle": "2021-02-15T21:26:56.542631Z",
     "shell.execute_reply": "2021-02-15T21:26:56.543786Z"
    }
   },
   "outputs": [],
   "source": [
    "num_classes = 10\n",
    "input_shape = (28, 28, 1)\n",
    "\n",
    "\n",
    "def get_model():\n",
    "    model = keras.Sequential(\n",
    "        [\n",
    "            keras.Input(input_shape),\n",
    "            keras.layers.Conv2D(32, kernel_size=(3, 3), activation=\"relu\"),\n",
    "            keras.layers.MaxPooling2D(pool_size=(2, 2)),\n",
    "            keras.layers.Conv2D(64, kernel_size=(3, 3), activation=\"relu\"),\n",
    "            keras.layers.MaxPooling2D(pool_size=(2, 2)),\n",
    "            keras.layers.Flatten(),\n",
    "            keras.layers.Dropout(0.5),\n",
    "            keras.layers.Dense(num_classes, activation=\"softmax\"),\n",
    "        ]\n",
    "    )\n",
    "    model.compile(\n",
    "        loss=\"sparse_categorical_crossentropy\", optimizer=\"adam\"\n",
    "    )\n",
    "    return model"
   ]
  },
  {
   "cell_type": "markdown",
   "id": "broke-yacht",
   "metadata": {},
   "source": [
    "## 4. Keras benchmarks"
   ]
  },
  {
   "cell_type": "code",
   "execution_count": 6,
   "id": "chief-surrey",
   "metadata": {
    "execution": {
     "iopub.execute_input": "2021-02-15T21:26:56.547232Z",
     "iopub.status.busy": "2021-02-15T21:26:56.546100Z",
     "iopub.status.idle": "2021-02-15T21:26:56.550529Z",
     "shell.execute_reply": "2021-02-15T21:26:56.551232Z"
    }
   },
   "outputs": [],
   "source": [
    "fit_kwargs = {\"batch_size\": 128, \"validation_split\": 0.1, \"verbose\": 0, \"epochs\": 5}"
   ]
  },
  {
   "cell_type": "code",
   "execution_count": 7,
   "id": "latter-peoples",
   "metadata": {
    "execution": {
     "iopub.execute_input": "2021-02-15T21:26:56.554574Z",
     "iopub.status.busy": "2021-02-15T21:26:56.553548Z",
     "iopub.status.idle": "2021-02-15T21:26:56.558804Z",
     "shell.execute_reply": "2021-02-15T21:26:56.559531Z"
    }
   },
   "outputs": [],
   "source": [
    "from sklearn.metrics import accuracy_score\n",
    "from scikeras._utils import TFRandomState"
   ]
  },
  {
   "cell_type": "code",
   "execution_count": 8,
   "id": "religious-night",
   "metadata": {
    "execution": {
     "iopub.execute_input": "2021-02-15T21:26:56.562777Z",
     "iopub.status.busy": "2021-02-15T21:26:56.561759Z",
     "iopub.status.idle": "2021-02-15T21:27:04.975467Z",
     "shell.execute_reply": "2021-02-15T21:27:04.976057Z"
    }
   },
   "outputs": [
    {
     "name": "stdout",
     "output_type": "stream",
     "text": [
      "Training time: 8.07\n"
     ]
    },
    {
     "name": "stdout",
     "output_type": "stream",
     "text": [
      "Accuracy: 0.882\n"
     ]
    }
   ],
   "source": [
    "from time import time\n",
    "\n",
    "with TFRandomState(seed=0):  # we force a TF random state to be able to compare accuracy\n",
    "    model = get_model()\n",
    "    start = time()\n",
    "    model.fit(x_train, y_train, **fit_kwargs)\n",
    "    print(f\"Training time: {time()-start:.2f}\")\n",
    "    y_pred = np.argmax(model.predict(x_test), axis=1)\n",
    "print(f\"Accuracy: {accuracy_score(y_test, y_pred)}\")"
   ]
  },
  {
   "cell_type": "markdown",
   "id": "fifty-metropolitan",
   "metadata": {},
   "source": [
    "## 5. SciKeras benchmark"
   ]
  },
  {
   "cell_type": "code",
   "execution_count": 9,
   "id": "emerging-fancy",
   "metadata": {
    "execution": {
     "iopub.execute_input": "2021-02-15T21:27:04.978724Z",
     "iopub.status.busy": "2021-02-15T21:27:04.978207Z",
     "iopub.status.idle": "2021-02-15T21:27:04.980884Z",
     "shell.execute_reply": "2021-02-15T21:27:04.981457Z"
    }
   },
   "outputs": [],
   "source": [
    "clf = KerasClassifier(\n",
    "    model=get_model,\n",
    "    random_state=0,\n",
    "    **fit_kwargs\n",
    ")"
   ]
  },
  {
   "cell_type": "code",
   "execution_count": 10,
   "id": "improved-exploration",
   "metadata": {
    "execution": {
     "iopub.execute_input": "2021-02-15T21:27:04.983773Z",
     "iopub.status.busy": "2021-02-15T21:27:04.983271Z",
     "iopub.status.idle": "2021-02-15T21:27:12.272017Z",
     "shell.execute_reply": "2021-02-15T21:27:12.272748Z"
    }
   },
   "outputs": [
    {
     "name": "stdout",
     "output_type": "stream",
     "text": [
      "Training time: 7.13\n",
      "Accuracy: 0.882\n"
     ]
    }
   ],
   "source": [
    "start = time()\n",
    "clf.fit(x_train, y_train)\n",
    "print(f\"Training time: {time()-start:.2f}\")\n",
    "y_pred = clf.predict(x_test)\n",
    "print(f\"Accuracy: {accuracy_score(y_test, y_pred)}\")"
   ]
  },
  {
   "cell_type": "markdown",
   "id": "clean-particle",
   "metadata": {},
   "source": [
    "As you can see, the overhead for SciKeras is <1 sec, and the accuracy is identical."
   ]
  }
 ],
 "metadata": {
  "jupytext": {
   "formats": "ipynb,md"
  },
  "kernelspec": {
   "display_name": "Python 3",
   "language": "python",
   "name": "python3"
  },
  "language_info": {
   "codemirror_mode": {
    "name": "ipython",
    "version": 3
   },
   "file_extension": ".py",
   "mimetype": "text/x-python",
   "name": "python",
   "nbconvert_exporter": "python",
   "pygments_lexer": "ipython3",
   "version": "3.8.7"
  }
 },
 "nbformat": 4,
 "nbformat_minor": 5
}
