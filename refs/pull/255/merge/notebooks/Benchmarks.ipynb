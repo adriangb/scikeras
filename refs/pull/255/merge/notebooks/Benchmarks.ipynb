{
 "cells": [
  {
   "cell_type": "raw",
   "id": "55654a2c",
   "metadata": {},
   "source": [
    "<a href=\"https://colab.research.google.com/github/adriangb/scikeras/blob/docs-deploy/refs/heads/master/notebooks/Benchmarks.ipynb\"><img src=\"https://www.tensorflow.org/images/colab_logo_32px.png\">Run in Google Colab</a>"
   ]
  },
  {
   "cell_type": "markdown",
   "id": "07496db7",
   "metadata": {},
   "source": [
    "# SciKeras Benchmarks\n",
    "\n",
    "SciKeras wraps Keras Models, but does not alter their performance since all of the heavy lifting still happens within Keras/Tensorflow. In this notebook, we compare the performance and accuracy of a pure-Keras Model to the same model wrapped in SciKeras.\n",
    "\n",
    "## Table of contents\n",
    "\n",
    "* [1. Setup](#1.-Setup)\n",
    "* [2. Dataset](#2.-Dataset)\n",
    "* [3. Define Keras Model](#3.-Define-Keras-Model)\n",
    "* [4. Keras benchmarks](#4.-Keras-benchmarks)\n",
    "* [5. SciKeras benchmark](#5.-SciKeras-benchmark)\n",
    "\n",
    "## 1. Setup"
   ]
  },
  {
   "cell_type": "code",
   "execution_count": 1,
   "id": "2e93d8e5",
   "metadata": {
    "execution": {
     "iopub.execute_input": "2021-11-29T21:30:11.202261Z",
     "iopub.status.busy": "2021-11-29T21:30:11.192115Z",
     "iopub.status.idle": "2021-11-29T21:30:14.167393Z",
     "shell.execute_reply": "2021-11-29T21:30:14.168170Z"
    }
   },
   "outputs": [],
   "source": [
    "try:\n",
    "    import scikeras\n",
    "except ImportError:\n",
    "    !python -m pip install scikeras"
   ]
  },
  {
   "cell_type": "markdown",
   "id": "39672797",
   "metadata": {},
   "source": [
    "Silence TensorFlow logging to keep output succinct."
   ]
  },
  {
   "cell_type": "code",
   "execution_count": 2,
   "id": "ce939107",
   "metadata": {
    "execution": {
     "iopub.execute_input": "2021-11-29T21:30:14.172282Z",
     "iopub.status.busy": "2021-11-29T21:30:14.171322Z",
     "iopub.status.idle": "2021-11-29T21:30:14.187232Z",
     "shell.execute_reply": "2021-11-29T21:30:14.186593Z"
    }
   },
   "outputs": [],
   "source": [
    "import warnings\n",
    "from tensorflow import get_logger\n",
    "get_logger().setLevel('ERROR')\n",
    "warnings.filterwarnings(\"ignore\", message=\"Setting the random state for TF\")"
   ]
  },
  {
   "cell_type": "code",
   "execution_count": 3,
   "id": "d9b87032",
   "metadata": {
    "execution": {
     "iopub.execute_input": "2021-11-29T21:30:14.192577Z",
     "iopub.status.busy": "2021-11-29T21:30:14.191957Z",
     "iopub.status.idle": "2021-11-29T21:30:14.756264Z",
     "shell.execute_reply": "2021-11-29T21:30:14.757284Z"
    }
   },
   "outputs": [],
   "source": [
    "import numpy as np\n",
    "from scikeras.wrappers import KerasClassifier, KerasRegressor\n",
    "from tensorflow import keras"
   ]
  },
  {
   "cell_type": "markdown",
   "id": "84e897c5",
   "metadata": {},
   "source": [
    "## 2. Dataset\n",
    "\n",
    "We will be using the MNIST dataset available within Keras."
   ]
  },
  {
   "cell_type": "code",
   "execution_count": 4,
   "id": "358338db",
   "metadata": {
    "execution": {
     "iopub.execute_input": "2021-11-29T21:30:14.764034Z",
     "iopub.status.busy": "2021-11-29T21:30:14.761216Z",
     "iopub.status.idle": "2021-11-29T21:30:15.401089Z",
     "shell.execute_reply": "2021-11-29T21:30:15.402089Z"
    }
   },
   "outputs": [],
   "source": [
    "(x_train, y_train), (x_test, y_test) = keras.datasets.mnist.load_data()\n",
    "# Scale images to the [0, 1] range\n",
    "x_train = x_train.astype(\"float32\") / 255\n",
    "x_test = x_test.astype(\"float32\") / 255\n",
    "# Make sure images have shape (28, 28, 1)\n",
    "x_train = np.expand_dims(x_train, -1)\n",
    "x_test = np.expand_dims(x_test, -1)\n",
    "# Reduce dataset size for faster benchmarks\n",
    "x_train, y_train = x_train[:2000], y_train[:2000]\n",
    "x_test, y_test = x_test[:500], y_test[:500]"
   ]
  },
  {
   "cell_type": "markdown",
   "id": "857fd3fc",
   "metadata": {},
   "source": [
    "## 3. Define Keras Model\n",
    "\n",
    "Next we will define our Keras model (adapted from [keras.io](https://keras.io/examples/vision/mnist_convnet/)):"
   ]
  },
  {
   "cell_type": "code",
   "execution_count": 5,
   "id": "cb04e6d1",
   "metadata": {
    "execution": {
     "iopub.execute_input": "2021-11-29T21:30:15.407565Z",
     "iopub.status.busy": "2021-11-29T21:30:15.405693Z",
     "iopub.status.idle": "2021-11-29T21:30:15.417481Z",
     "shell.execute_reply": "2021-11-29T21:30:15.418784Z"
    }
   },
   "outputs": [],
   "source": [
    "num_classes = 10\n",
    "input_shape = (28, 28, 1)\n",
    "\n",
    "\n",
    "def get_model():\n",
    "    model = keras.Sequential(\n",
    "        [\n",
    "            keras.Input(input_shape),\n",
    "            keras.layers.Conv2D(32, kernel_size=(3, 3), activation=\"relu\"),\n",
    "            keras.layers.MaxPooling2D(pool_size=(2, 2)),\n",
    "            keras.layers.Conv2D(64, kernel_size=(3, 3), activation=\"relu\"),\n",
    "            keras.layers.MaxPooling2D(pool_size=(2, 2)),\n",
    "            keras.layers.Flatten(),\n",
    "            keras.layers.Dropout(0.5),\n",
    "            keras.layers.Dense(num_classes, activation=\"softmax\"),\n",
    "        ]\n",
    "    )\n",
    "    model.compile(\n",
    "        loss=\"sparse_categorical_crossentropy\", optimizer=\"adam\"\n",
    "    )\n",
    "    return model"
   ]
  },
  {
   "cell_type": "markdown",
   "id": "a7f1b7d0",
   "metadata": {},
   "source": [
    "## 4. Keras benchmarks"
   ]
  },
  {
   "cell_type": "code",
   "execution_count": 6,
   "id": "5993ee8b",
   "metadata": {
    "execution": {
     "iopub.execute_input": "2021-11-29T21:30:15.423458Z",
     "iopub.status.busy": "2021-11-29T21:30:15.422117Z",
     "iopub.status.idle": "2021-11-29T21:30:15.428199Z",
     "shell.execute_reply": "2021-11-29T21:30:15.429281Z"
    }
   },
   "outputs": [],
   "source": [
    "fit_kwargs = {\"batch_size\": 128, \"validation_split\": 0.1, \"verbose\": 0, \"epochs\": 5}"
   ]
  },
  {
   "cell_type": "code",
   "execution_count": 7,
   "id": "9d4995a1",
   "metadata": {
    "execution": {
     "iopub.execute_input": "2021-11-29T21:30:15.433970Z",
     "iopub.status.busy": "2021-11-29T21:30:15.432611Z",
     "iopub.status.idle": "2021-11-29T21:30:15.438217Z",
     "shell.execute_reply": "2021-11-29T21:30:15.439110Z"
    }
   },
   "outputs": [],
   "source": [
    "from sklearn.metrics import accuracy_score\n",
    "from scikeras._utils import tensorflow_random_state"
   ]
  },
  {
   "cell_type": "code",
   "execution_count": 8,
   "id": "5a221fd3",
   "metadata": {
    "execution": {
     "iopub.execute_input": "2021-11-29T21:30:15.443837Z",
     "iopub.status.busy": "2021-11-29T21:30:15.442544Z",
     "iopub.status.idle": "2021-11-29T21:30:27.864680Z",
     "shell.execute_reply": "2021-11-29T21:30:27.865563Z"
    }
   },
   "outputs": [
    {
     "name": "stdout",
     "output_type": "stream",
     "text": [
      "Training time: 12.02\n"
     ]
    },
    {
     "name": "stdout",
     "output_type": "stream",
     "text": [
      "Accuracy: 0.88\n"
     ]
    }
   ],
   "source": [
    "from time import time\n",
    "\n",
    "with tensorflow_random_state(seed=0):  # we force a TF random state to be able to compare accuracy\n",
    "    model = get_model()\n",
    "    start = time()\n",
    "    model.fit(x_train, y_train, **fit_kwargs)\n",
    "    print(f\"Training time: {time()-start:.2f}\")\n",
    "    y_pred = np.argmax(model.predict(x_test), axis=1)\n",
    "print(f\"Accuracy: {accuracy_score(y_test, y_pred)}\")"
   ]
  },
  {
   "cell_type": "markdown",
   "id": "271b28fd",
   "metadata": {},
   "source": [
    "## 5. SciKeras benchmark"
   ]
  },
  {
   "cell_type": "code",
   "execution_count": 9,
   "id": "241668c8",
   "metadata": {
    "execution": {
     "iopub.execute_input": "2021-11-29T21:30:27.870165Z",
     "iopub.status.busy": "2021-11-29T21:30:27.868816Z",
     "iopub.status.idle": "2021-11-29T21:30:27.874857Z",
     "shell.execute_reply": "2021-11-29T21:30:27.875762Z"
    }
   },
   "outputs": [],
   "source": [
    "clf = KerasClassifier(\n",
    "    model=get_model,\n",
    "    random_state=0,\n",
    "    **fit_kwargs\n",
    ")"
   ]
  },
  {
   "cell_type": "code",
   "execution_count": 10,
   "id": "fa3be4e6",
   "metadata": {
    "execution": {
     "iopub.execute_input": "2021-11-29T21:30:27.880310Z",
     "iopub.status.busy": "2021-11-29T21:30:27.879010Z",
     "iopub.status.idle": "2021-11-29T21:30:49.827494Z",
     "shell.execute_reply": "2021-11-29T21:30:49.828138Z"
    }
   },
   "outputs": [
    {
     "name": "stdout",
     "output_type": "stream",
     "text": [
      "Training time: 21.65\n"
     ]
    },
    {
     "name": "stdout",
     "output_type": "stream",
     "text": [
      "Accuracy: 0.88\n"
     ]
    }
   ],
   "source": [
    "start = time()\n",
    "clf.fit(x_train, y_train)\n",
    "print(f\"Training time: {time()-start:.2f}\")\n",
    "y_pred = clf.predict(x_test)\n",
    "print(f\"Accuracy: {accuracy_score(y_test, y_pred)}\")"
   ]
  },
  {
   "cell_type": "markdown",
   "id": "1855a15f",
   "metadata": {},
   "source": [
    "As you can see, the overhead for SciKeras is <1 sec, and the accuracy is identical."
   ]
  }
 ],
 "metadata": {
  "jupytext": {
   "formats": "ipynb,md"
  },
  "kernelspec": {
   "display_name": "Python 3",
   "language": "python",
   "name": "python3"
  },
  "language_info": {
   "codemirror_mode": {
    "name": "ipython",
    "version": 3
   },
   "file_extension": ".py",
   "mimetype": "text/x-python",
   "name": "python",
   "nbconvert_exporter": "python",
   "pygments_lexer": "ipython3",
   "version": "3.8.12"
  }
 },
 "nbformat": 4,
 "nbformat_minor": 5
}
