{
 "cells": [
  {
   "cell_type": "raw",
   "id": "applicable-outside",
   "metadata": {},
   "source": [
    "<a href=\"https://colab.research.google.com/github/adriangb/scikeras/blob/docs-deploy/refs/heads/master/notebooks/Benchmarks.ipynb\"><img src=\"https://www.tensorflow.org/images/colab_logo_32px.png\">Run in Google Colab</a>"
   ]
  },
  {
   "cell_type": "markdown",
   "id": "accessible-houston",
   "metadata": {},
   "source": [
    "# SciKeras Benchmarks\n",
    "\n",
    "SciKeras wraps Keras Models, but does not alter their performance since all of the heavy lifting still happens within Keras/Tensorflow. In this notebook, we compare the performance and accuracy of a pure-Keras Model to the same model wrapped in SciKeras.\n",
    "\n",
    "## Table of contents\n",
    "\n",
    "* [1. Setup](#1.-Setup)\n",
    "* [2. Dataset](#2.-Dataset)\n",
    "* [3. Define Keras Model](#3.-Define-Keras-Model)\n",
    "* [4. Keras benchmarks](#4.-Keras-benchmarks)\n",
    "* [5. SciKeras benchmark](#5.-SciKeras-benchmark)\n",
    "\n",
    "## 1. Setup"
   ]
  },
  {
   "cell_type": "code",
   "execution_count": 1,
   "id": "cardiac-station",
   "metadata": {
    "execution": {
     "iopub.execute_input": "2021-03-05T21:05:21.860116Z",
     "iopub.status.busy": "2021-03-05T21:05:21.859397Z",
     "iopub.status.idle": "2021-03-05T21:05:24.312046Z",
     "shell.execute_reply": "2021-03-05T21:05:24.312859Z"
    }
   },
   "outputs": [],
   "source": [
    "try:\n",
    "    import scikeras\n",
    "except ImportError:\n",
    "    !python -m pip install scikeras"
   ]
  },
  {
   "cell_type": "markdown",
   "id": "noticed-groove",
   "metadata": {},
   "source": [
    "Silence TensorFlow logging to keep output succinct."
   ]
  },
  {
   "cell_type": "code",
   "execution_count": 2,
   "id": "differential-lemon",
   "metadata": {
    "execution": {
     "iopub.execute_input": "2021-03-05T21:05:24.319835Z",
     "iopub.status.busy": "2021-03-05T21:05:24.319091Z",
     "iopub.status.idle": "2021-03-05T21:05:24.321034Z",
     "shell.execute_reply": "2021-03-05T21:05:24.321874Z"
    }
   },
   "outputs": [],
   "source": [
    "import warnings\n",
    "from tensorflow import get_logger\n",
    "get_logger().setLevel('ERROR')\n",
    "warnings.filterwarnings(\"ignore\", message=\"Setting the random state for TF\")"
   ]
  },
  {
   "cell_type": "code",
   "execution_count": 3,
   "id": "honey-ultimate",
   "metadata": {
    "execution": {
     "iopub.execute_input": "2021-03-05T21:05:24.325209Z",
     "iopub.status.busy": "2021-03-05T21:05:24.324501Z",
     "iopub.status.idle": "2021-03-05T21:05:24.795873Z",
     "shell.execute_reply": "2021-03-05T21:05:24.796699Z"
    }
   },
   "outputs": [],
   "source": [
    "import numpy as np\n",
    "from scikeras.wrappers import KerasClassifier, KerasRegressor\n",
    "from tensorflow import keras"
   ]
  },
  {
   "cell_type": "markdown",
   "id": "pointed-therapy",
   "metadata": {},
   "source": [
    "## 2. Dataset\n",
    "\n",
    "We will be using the MNIST dataset available within Keras."
   ]
  },
  {
   "cell_type": "code",
   "execution_count": 4,
   "id": "dynamic-tourism",
   "metadata": {
    "execution": {
     "iopub.execute_input": "2021-03-05T21:05:24.801049Z",
     "iopub.status.busy": "2021-03-05T21:05:24.799729Z",
     "iopub.status.idle": "2021-03-05T21:05:25.388329Z",
     "shell.execute_reply": "2021-03-05T21:05:25.390875Z"
    }
   },
   "outputs": [],
   "source": [
    "(x_train, y_train), (x_test, y_test) = keras.datasets.mnist.load_data()\n",
    "# Scale images to the [0, 1] range\n",
    "x_train = x_train.astype(\"float32\") / 255\n",
    "x_test = x_test.astype(\"float32\") / 255\n",
    "# Make sure images have shape (28, 28, 1)\n",
    "x_train = np.expand_dims(x_train, -1)\n",
    "x_test = np.expand_dims(x_test, -1)\n",
    "# Reduce dataset size for faster benchmarks\n",
    "x_train, y_train = x_train[:2000], y_train[:2000]\n",
    "x_test, y_test = x_test[:500], y_test[:500]"
   ]
  },
  {
   "cell_type": "markdown",
   "id": "peaceful-oriental",
   "metadata": {},
   "source": [
    "## 3. Define Keras Model\n",
    "\n",
    "Next we will define our Keras model (adapted from [keras.io](https://keras.io/examples/vision/mnist_convnet/)):"
   ]
  },
  {
   "cell_type": "code",
   "execution_count": 5,
   "id": "developmental-prospect",
   "metadata": {
    "execution": {
     "iopub.execute_input": "2021-03-05T21:05:25.395207Z",
     "iopub.status.busy": "2021-03-05T21:05:25.393909Z",
     "iopub.status.idle": "2021-03-05T21:05:25.402655Z",
     "shell.execute_reply": "2021-03-05T21:05:25.403502Z"
    }
   },
   "outputs": [],
   "source": [
    "num_classes = 10\n",
    "input_shape = (28, 28, 1)\n",
    "\n",
    "\n",
    "def get_model():\n",
    "    model = keras.Sequential(\n",
    "        [\n",
    "            keras.Input(input_shape),\n",
    "            keras.layers.Conv2D(32, kernel_size=(3, 3), activation=\"relu\"),\n",
    "            keras.layers.MaxPooling2D(pool_size=(2, 2)),\n",
    "            keras.layers.Conv2D(64, kernel_size=(3, 3), activation=\"relu\"),\n",
    "            keras.layers.MaxPooling2D(pool_size=(2, 2)),\n",
    "            keras.layers.Flatten(),\n",
    "            keras.layers.Dropout(0.5),\n",
    "            keras.layers.Dense(num_classes, activation=\"softmax\"),\n",
    "        ]\n",
    "    )\n",
    "    model.compile(\n",
    "        loss=\"sparse_categorical_crossentropy\", optimizer=\"adam\"\n",
    "    )\n",
    "    return model"
   ]
  },
  {
   "cell_type": "markdown",
   "id": "fifteen-percentage",
   "metadata": {},
   "source": [
    "## 4. Keras benchmarks"
   ]
  },
  {
   "cell_type": "code",
   "execution_count": 6,
   "id": "chicken-income",
   "metadata": {
    "execution": {
     "iopub.execute_input": "2021-03-05T21:05:25.408770Z",
     "iopub.status.busy": "2021-03-05T21:05:25.406689Z",
     "iopub.status.idle": "2021-03-05T21:05:25.416690Z",
     "shell.execute_reply": "2021-03-05T21:05:25.417550Z"
    }
   },
   "outputs": [],
   "source": [
    "fit_kwargs = {\"batch_size\": 128, \"validation_split\": 0.1, \"verbose\": 0, \"epochs\": 5}"
   ]
  },
  {
   "cell_type": "code",
   "execution_count": 7,
   "id": "civil-annex",
   "metadata": {
    "execution": {
     "iopub.execute_input": "2021-03-05T21:05:25.422106Z",
     "iopub.status.busy": "2021-03-05T21:05:25.420832Z",
     "iopub.status.idle": "2021-03-05T21:05:25.430150Z",
     "shell.execute_reply": "2021-03-05T21:05:25.430918Z"
    }
   },
   "outputs": [],
   "source": [
    "from sklearn.metrics import accuracy_score\n",
    "from scikeras._utils import TFRandomState"
   ]
  },
  {
   "cell_type": "code",
   "execution_count": 8,
   "id": "spectacular-lottery",
   "metadata": {
    "execution": {
     "iopub.execute_input": "2021-03-05T21:05:25.437464Z",
     "iopub.status.busy": "2021-03-05T21:05:25.434301Z",
     "iopub.status.idle": "2021-03-05T21:05:36.816700Z",
     "shell.execute_reply": "2021-03-05T21:05:36.817670Z"
    }
   },
   "outputs": [
    {
     "name": "stdout",
     "output_type": "stream",
     "text": [
      "Training time: 10.80\n"
     ]
    },
    {
     "name": "stdout",
     "output_type": "stream",
     "text": [
      "Accuracy: 0.882\n"
     ]
    }
   ],
   "source": [
    "from time import time\n",
    "\n",
    "with TFRandomState(seed=0):  # we force a TF random state to be able to compare accuracy\n",
    "    model = get_model()\n",
    "    start = time()\n",
    "    model.fit(x_train, y_train, **fit_kwargs)\n",
    "    print(f\"Training time: {time()-start:.2f}\")\n",
    "    y_pred = np.argmax(model.predict(x_test), axis=1)\n",
    "print(f\"Accuracy: {accuracy_score(y_test, y_pred)}\")"
   ]
  },
  {
   "cell_type": "markdown",
   "id": "prescribed-sister",
   "metadata": {},
   "source": [
    "## 5. SciKeras benchmark"
   ]
  },
  {
   "cell_type": "code",
   "execution_count": 9,
   "id": "southeast-acrylic",
   "metadata": {
    "execution": {
     "iopub.execute_input": "2021-03-05T21:05:36.821093Z",
     "iopub.status.busy": "2021-03-05T21:05:36.820383Z",
     "iopub.status.idle": "2021-03-05T21:05:36.831936Z",
     "shell.execute_reply": "2021-03-05T21:05:36.832835Z"
    }
   },
   "outputs": [],
   "source": [
    "clf = KerasClassifier(\n",
    "    model=get_model,\n",
    "    random_state=0,\n",
    "    **fit_kwargs\n",
    ")"
   ]
  },
  {
   "cell_type": "code",
   "execution_count": 10,
   "id": "nasty-cruise",
   "metadata": {
    "execution": {
     "iopub.execute_input": "2021-03-05T21:05:36.848526Z",
     "iopub.status.busy": "2021-03-05T21:05:36.847852Z",
     "iopub.status.idle": "2021-03-05T21:05:47.201527Z",
     "shell.execute_reply": "2021-03-05T21:05:47.200946Z"
    }
   },
   "outputs": [
    {
     "name": "stdout",
     "output_type": "stream",
     "text": [
      "Training time: 10.12\n"
     ]
    },
    {
     "name": "stdout",
     "output_type": "stream",
     "text": [
      "Accuracy: 0.882\n"
     ]
    }
   ],
   "source": [
    "start = time()\n",
    "clf.fit(x_train, y_train)\n",
    "print(f\"Training time: {time()-start:.2f}\")\n",
    "y_pred = clf.predict(x_test)\n",
    "print(f\"Accuracy: {accuracy_score(y_test, y_pred)}\")"
   ]
  },
  {
   "cell_type": "markdown",
   "id": "color-astrology",
   "metadata": {},
   "source": [
    "As you can see, the overhead for SciKeras is <1 sec, and the accuracy is identical."
   ]
  }
 ],
 "metadata": {
  "jupytext": {
   "formats": "ipynb,md"
  },
  "kernelspec": {
   "display_name": "Python 3",
   "language": "python",
   "name": "python3"
  },
  "language_info": {
   "codemirror_mode": {
    "name": "ipython",
    "version": 3
   },
   "file_extension": ".py",
   "mimetype": "text/x-python",
   "name": "python",
   "nbconvert_exporter": "python",
   "pygments_lexer": "ipython3",
   "version": "3.8.8"
  }
 },
 "nbformat": 4,
 "nbformat_minor": 5
}
