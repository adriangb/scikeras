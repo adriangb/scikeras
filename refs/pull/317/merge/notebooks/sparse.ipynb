{
 "cells": [
  {
   "cell_type": "raw",
   "id": "dedcb8bc",
   "metadata": {},
   "source": [
    "<a href=\"https://colab.research.google.com/github/adriangb/scikeras/blob/docs-deploy/refs/heads/master/notebooks/AutoEncoders.ipynb\"><img src=\"https://www.tensorflow.org/images/colab_logo_32px.png\">Run in Google Colab</a>"
   ]
  },
  {
   "cell_type": "markdown",
   "id": "f253103c",
   "metadata": {},
   "source": [
    "# Sparse Inputs"
   ]
  },
  {
   "cell_type": "markdown",
   "id": "e8ae8caa",
   "metadata": {},
   "source": [
    "SciKeras supports sparse inputs (`X`/features).\n",
    "You don't have to do anything special for this to work, you can just pass a sparse matrix to `fit()`.\n",
    "\n",
    "In this notebook, we'll demonstrate how this works and compare memory consumption of sparse inputs to dense inputs."
   ]
  },
  {
   "cell_type": "markdown",
   "id": "2ac0b452",
   "metadata": {},
   "source": [
    "## Setup"
   ]
  },
  {
   "cell_type": "code",
   "execution_count": 1,
   "id": "b260a5cf",
   "metadata": {
    "execution": {
     "iopub.execute_input": "2024-04-10T00:37:37.721554Z",
     "iopub.status.busy": "2024-04-10T00:37:37.721262Z",
     "iopub.status.idle": "2024-04-10T00:37:40.943482Z",
     "shell.execute_reply": "2024-04-10T00:37:40.942665Z"
    }
   },
   "outputs": [
    {
     "name": "stdout",
     "output_type": "stream",
     "text": [
      "Collecting memory_profiler\r\n"
     ]
    },
    {
     "name": "stdout",
     "output_type": "stream",
     "text": [
      "  Downloading memory_profiler-0.61.0-py3-none-any.whl.metadata (20 kB)\r\n"
     ]
    },
    {
     "name": "stdout",
     "output_type": "stream",
     "text": [
      "Requirement already satisfied: psutil in /home/runner/work/scikeras/scikeras/.venv/lib/python3.12/site-packages (from memory_profiler) (5.9.8)\r\n"
     ]
    },
    {
     "name": "stdout",
     "output_type": "stream",
     "text": [
      "Downloading memory_profiler-0.61.0-py3-none-any.whl (31 kB)\r\n"
     ]
    },
    {
     "name": "stdout",
     "output_type": "stream",
     "text": [
      "Installing collected packages: memory_profiler\r\n"
     ]
    },
    {
     "name": "stdout",
     "output_type": "stream",
     "text": [
      "Successfully installed memory_profiler-0.61.0\r\n"
     ]
    }
   ],
   "source": [
    "!pip install memory_profiler\n",
    "%load_ext memory_profiler"
   ]
  },
  {
   "cell_type": "code",
   "execution_count": 2,
   "id": "9cfd253e",
   "metadata": {
    "execution": {
     "iopub.execute_input": "2024-04-10T00:37:40.947071Z",
     "iopub.status.busy": "2024-04-10T00:37:40.946844Z",
     "iopub.status.idle": "2024-04-10T00:37:43.442739Z",
     "shell.execute_reply": "2024-04-10T00:37:43.442092Z"
    }
   },
   "outputs": [],
   "source": [
    "import warnings\n",
    "import os\n",
    "os.environ['TF_CPP_MIN_LOG_LEVEL'] = '3'\n",
    "from tensorflow import get_logger\n",
    "get_logger().setLevel('ERROR')\n",
    "warnings.filterwarnings(\"ignore\", message=\"Setting the random state for TF\")"
   ]
  },
  {
   "cell_type": "code",
   "execution_count": 3,
   "id": "c3c967ce",
   "metadata": {
    "execution": {
     "iopub.execute_input": "2024-04-10T00:37:43.446400Z",
     "iopub.status.busy": "2024-04-10T00:37:43.445611Z",
     "iopub.status.idle": "2024-04-10T00:37:43.451634Z",
     "shell.execute_reply": "2024-04-10T00:37:43.451106Z"
    }
   },
   "outputs": [],
   "source": [
    "try:\n",
    "    import scikeras\n",
    "except ImportError:\n",
    "    !python -m pip install scikeras"
   ]
  },
  {
   "cell_type": "code",
   "execution_count": 4,
   "id": "8ac2f956",
   "metadata": {
    "execution": {
     "iopub.execute_input": "2024-04-10T00:37:43.454143Z",
     "iopub.status.busy": "2024-04-10T00:37:43.453691Z",
     "iopub.status.idle": "2024-04-10T00:37:43.758972Z",
     "shell.execute_reply": "2024-04-10T00:37:43.758366Z"
    }
   },
   "outputs": [],
   "source": [
    "import scipy\n",
    "import numpy as np\n",
    "from scikeras.wrappers import KerasRegressor\n",
    "from sklearn.preprocessing import OneHotEncoder\n",
    "from sklearn.pipeline import Pipeline\n",
    "import keras"
   ]
  },
  {
   "cell_type": "markdown",
   "id": "057b7aa5",
   "metadata": {},
   "source": [
    "## Data\n",
    "\n",
    "The dataset we'll be using is designed to demostrate a worst-case/best-case scenario for dense and sparse input features respectively.\n",
    "It consists of a single categorical feature with equal number of categories as rows.\n",
    "This means the one-hot encoded representation will require as many columns as it does rows, making it very ineffienct to store as a dense matrix but very efficient to store as a sparse matrix."
   ]
  },
  {
   "cell_type": "code",
   "execution_count": 5,
   "id": "d716d11d",
   "metadata": {
    "execution": {
     "iopub.execute_input": "2024-04-10T00:37:43.762023Z",
     "iopub.status.busy": "2024-04-10T00:37:43.761451Z",
     "iopub.status.idle": "2024-04-10T00:37:43.765250Z",
     "shell.execute_reply": "2024-04-10T00:37:43.764704Z"
    }
   },
   "outputs": [],
   "source": [
    "N_SAMPLES = 20_000  # hand tuned to be ~4GB peak\n",
    "\n",
    "X = np.arange(0, N_SAMPLES).reshape(-1, 1)\n",
    "y = np.random.uniform(0, 1, size=(X.shape[0],))"
   ]
  },
  {
   "cell_type": "markdown",
   "id": "48826f8d",
   "metadata": {},
   "source": [
    "## Model\n",
    "\n",
    "The model here is nothing special, just a basic multilayer perceptron with one hidden layer."
   ]
  },
  {
   "cell_type": "code",
   "execution_count": 6,
   "id": "6fee9080",
   "metadata": {
    "execution": {
     "iopub.execute_input": "2024-04-10T00:37:43.767647Z",
     "iopub.status.busy": "2024-04-10T00:37:43.767242Z",
     "iopub.status.idle": "2024-04-10T00:37:43.771558Z",
     "shell.execute_reply": "2024-04-10T00:37:43.771052Z"
    }
   },
   "outputs": [],
   "source": [
    "def get_clf(meta) -> keras.Model:\n",
    "    n_features_in_ = meta[\"n_features_in_\"]\n",
    "    model = keras.models.Sequential()\n",
    "    model.add(keras.layers.Input(shape=(n_features_in_,)))\n",
    "    # a single hidden layer\n",
    "    model.add(keras.layers.Dense(100, activation=\"relu\"))\n",
    "    model.add(keras.layers.Dense(1))\n",
    "    return model"
   ]
  },
  {
   "cell_type": "markdown",
   "id": "57a60dce",
   "metadata": {},
   "source": [
    "## Pipelines\n",
    "\n",
    "Here is where it gets interesting.\n",
    "We make two Scikit-Learn pipelines that use `OneHotEncoder`: one that uses `sparse_output=False` to force a dense matrix as the output and another that uses `sparse_output=True` (the default)."
   ]
  },
  {
   "cell_type": "code",
   "execution_count": 7,
   "id": "14c15011",
   "metadata": {
    "execution": {
     "iopub.execute_input": "2024-04-10T00:37:43.773922Z",
     "iopub.status.busy": "2024-04-10T00:37:43.773545Z",
     "iopub.status.idle": "2024-04-10T00:37:43.776999Z",
     "shell.execute_reply": "2024-04-10T00:37:43.776474Z"
    }
   },
   "outputs": [],
   "source": [
    "dense_pipeline = Pipeline(\n",
    "    [\n",
    "        (\"encoder\", OneHotEncoder(sparse_output=False)),\n",
    "        (\"model\", KerasRegressor(get_clf, loss=\"mse\", epochs=5, verbose=False))\n",
    "    ]\n",
    ")\n",
    "\n",
    "sparse_pipeline = Pipeline(\n",
    "    [\n",
    "        (\"encoder\", OneHotEncoder(sparse_output=True)),\n",
    "        (\"model\", KerasRegressor(get_clf, loss=\"mse\", epochs=5, verbose=False))\n",
    "    ]\n",
    ")"
   ]
  },
  {
   "cell_type": "markdown",
   "id": "89409660",
   "metadata": {},
   "source": [
    "## Benchmark\n",
    "\n",
    "Our benchmark will be to just train each one of these pipelines and measure peak memory consumption."
   ]
  },
  {
   "cell_type": "code",
   "execution_count": 8,
   "id": "cdec2291",
   "metadata": {
    "execution": {
     "iopub.execute_input": "2024-04-10T00:37:43.779530Z",
     "iopub.status.busy": "2024-04-10T00:37:43.779049Z",
     "iopub.status.idle": "2024-04-10T00:38:09.393268Z",
     "shell.execute_reply": "2024-04-10T00:38:09.392326Z"
    }
   },
   "outputs": [
    {
     "name": "stdout",
     "output_type": "stream",
     "text": [
      "peak memory: 5032.66 MiB, increment: 4510.15 MiB\n"
     ]
    }
   ],
   "source": [
    "%memit dense_pipeline.fit(X, y)"
   ]
  },
  {
   "cell_type": "code",
   "execution_count": 9,
   "id": "747f8fa0",
   "metadata": {
    "execution": {
     "iopub.execute_input": "2024-04-10T00:38:09.397018Z",
     "iopub.status.busy": "2024-04-10T00:38:09.396221Z",
     "iopub.status.idle": "2024-04-10T00:38:25.763784Z",
     "shell.execute_reply": "2024-04-10T00:38:25.763111Z"
    }
   },
   "outputs": [
    {
     "name": "stdout",
     "output_type": "stream",
     "text": [
      "peak memory: 1016.89 MiB, increment: 32.84 MiB\n"
     ]
    }
   ],
   "source": [
    "%memit sparse_pipeline.fit(X, y)"
   ]
  },
  {
   "cell_type": "markdown",
   "id": "b2c21627",
   "metadata": {},
   "source": [
    "You should see at least 100x more memory consumption **increment** in the dense pipeline."
   ]
  },
  {
   "cell_type": "markdown",
   "id": "53bf7ffc",
   "metadata": {},
   "source": [
    "### Runtime\n",
    "\n",
    "Using sparse inputs can have a drastic impact on memory usage, but it often (not always) hurts overall runtime."
   ]
  },
  {
   "cell_type": "code",
   "execution_count": 10,
   "id": "4f89dd35",
   "metadata": {
    "execution": {
     "iopub.execute_input": "2024-04-10T00:38:25.766533Z",
     "iopub.status.busy": "2024-04-10T00:38:25.766003Z",
     "iopub.status.idle": "2024-04-10T00:42:57.438196Z",
     "shell.execute_reply": "2024-04-10T00:42:57.437653Z"
    }
   },
   "outputs": [
    {
     "name": "stdout",
     "output_type": "stream",
     "text": [
      "33.8 s ± 9.94 s per loop (mean ± std. dev. of 7 runs, 1 loop each)\n"
     ]
    }
   ],
   "source": [
    "%timeit dense_pipeline.fit(X, y)"
   ]
  },
  {
   "cell_type": "code",
   "execution_count": 11,
   "id": "12d4d68f",
   "metadata": {
    "execution": {
     "iopub.execute_input": "2024-04-10T00:42:57.442164Z",
     "iopub.status.busy": "2024-04-10T00:42:57.440198Z",
     "iopub.status.idle": "2024-04-10T00:44:27.604644Z",
     "shell.execute_reply": "2024-04-10T00:44:27.604100Z"
    }
   },
   "outputs": [
    {
     "name": "stdout",
     "output_type": "stream",
     "text": [
      "11.4 s ± 746 ms per loop (mean ± std. dev. of 7 runs, 1 loop each)\n"
     ]
    }
   ],
   "source": [
    "%timeit sparse_pipeline.fit(X, y)"
   ]
  },
  {
   "cell_type": "markdown",
   "id": "1e0a9c44",
   "metadata": {},
   "source": [
    "## Tensorflow Datasets\n",
    "\n",
    "Tensorflow provides a whole suite of functionality around the [Dataset].\n",
    "Datasets are lazily evaluated, can be sparse and minimize the transformations required to feed data into the model.\n",
    "They are _a lot_ more performant and efficient at scale than using numpy datastructures, even sparse ones.\n",
    "\n",
    "SciKeras does not (and cannot) support Datasets directly because Scikit-Learn itself does not support them and SciKeras' outwards API is Scikit-Learn's API.\n",
    "You may want to explore breaking out of SciKeras and just using TensorFlow/Keras directly to see if Datasets can have a large impact for your use case.\n",
    "\n",
    "[Dataset]: https://www.tensorflow.org/api_docs/python/tf/data/Dataset"
   ]
  },
  {
   "cell_type": "markdown",
   "id": "6a34d013",
   "metadata": {},
   "source": [
    "## Bonus: dtypes\n",
    "\n",
    "You might be able to save even more memory by changing the output dtype of `OneHotEncoder`."
   ]
  },
  {
   "cell_type": "code",
   "execution_count": 12,
   "id": "58c2d364",
   "metadata": {
    "execution": {
     "iopub.execute_input": "2024-04-10T00:44:27.607214Z",
     "iopub.status.busy": "2024-04-10T00:44:27.606833Z",
     "iopub.status.idle": "2024-04-10T00:44:27.610055Z",
     "shell.execute_reply": "2024-04-10T00:44:27.609583Z"
    }
   },
   "outputs": [],
   "source": [
    "sparse_pipline_uint8 = Pipeline(\n",
    "    [\n",
    "        (\"encoder\", OneHotEncoder(sparse_output=True, dtype=np.uint8)),\n",
    "        (\"model\", KerasRegressor(get_clf, loss=\"mse\", epochs=5, verbose=False))\n",
    "    ]\n",
    ")"
   ]
  },
  {
   "cell_type": "code",
   "execution_count": 13,
   "id": "2d3e9677",
   "metadata": {
    "execution": {
     "iopub.execute_input": "2024-04-10T00:44:27.612144Z",
     "iopub.status.busy": "2024-04-10T00:44:27.611804Z",
     "iopub.status.idle": "2024-04-10T00:44:39.909566Z",
     "shell.execute_reply": "2024-04-10T00:44:39.908884Z"
    }
   },
   "outputs": [
    {
     "name": "stdout",
     "output_type": "stream",
     "text": [
      "peak memory: 1010.55 MiB, increment: 25.14 MiB\n"
     ]
    }
   ],
   "source": [
    "%memit sparse_pipline_uint8.fit(X, y)"
   ]
  }
 ],
 "metadata": {
  "jupytext": {
   "formats": "ipynb,md"
  },
  "kernelspec": {
   "display_name": "Python 3 (ipykernel)",
   "language": "python",
   "name": "python3"
  },
  "language_info": {
   "codemirror_mode": {
    "name": "ipython",
    "version": 3
   },
   "file_extension": ".py",
   "mimetype": "text/x-python",
   "name": "python",
   "nbconvert_exporter": "python",
   "pygments_lexer": "ipython3",
   "version": "3.12.2"
  }
 },
 "nbformat": 4,
 "nbformat_minor": 5
}
