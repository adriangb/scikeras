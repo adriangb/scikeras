{
 "cells": [
  {
   "cell_type": "raw",
   "id": "e7d69e70",
   "metadata": {},
   "source": [
    "<a href=\"https://colab.research.google.com/github/adriangb/scikeras/blob/docs-deploy/refs/heads/master/notebooks/AutoEncoders.ipynb\"><img src=\"https://www.tensorflow.org/images/colab_logo_32px.png\">Run in Google Colab</a>"
   ]
  },
  {
   "cell_type": "markdown",
   "id": "2ffb3384",
   "metadata": {},
   "source": [
    "# Sparse Inputs"
   ]
  },
  {
   "cell_type": "markdown",
   "id": "f396d6f2",
   "metadata": {},
   "source": [
    "SciKeras supports sparse inputs (`X`/features).\n",
    "You don't have to do anything special for this to work, you can just pass a sparse matrix to `fit()`.\n",
    "\n",
    "In this notebook, we'll demonstrate how this works and compare memory consumption of sparse inputs to dense inputs."
   ]
  },
  {
   "cell_type": "markdown",
   "id": "a12ac85a",
   "metadata": {},
   "source": [
    "## Setup"
   ]
  },
  {
   "cell_type": "code",
   "execution_count": 1,
   "id": "8ea1d5f5",
   "metadata": {
    "execution": {
     "iopub.execute_input": "2023-10-10T14:15:16.424047Z",
     "iopub.status.busy": "2023-10-10T14:15:16.423821Z",
     "iopub.status.idle": "2023-10-10T14:15:20.453575Z",
     "shell.execute_reply": "2023-10-10T14:15:20.452743Z"
    }
   },
   "outputs": [
    {
     "name": "stdout",
     "output_type": "stream",
     "text": [
      "Collecting memory_profiler\r\n"
     ]
    },
    {
     "name": "stdout",
     "output_type": "stream",
     "text": [
      "  Downloading memory_profiler-0.61.0-py3-none-any.whl (31 kB)\r\n"
     ]
    },
    {
     "name": "stdout",
     "output_type": "stream",
     "text": [
      "Requirement already satisfied: psutil in /home/runner/work/scikeras/scikeras/.venv/lib/python3.8/site-packages (from memory_profiler) (5.9.5)\r\n"
     ]
    },
    {
     "name": "stdout",
     "output_type": "stream",
     "text": [
      "Installing collected packages: memory_profiler\r\n"
     ]
    },
    {
     "name": "stdout",
     "output_type": "stream",
     "text": [
      "Successfully installed memory_profiler-0.61.0\r\n"
     ]
    }
   ],
   "source": [
    "!pip install memory_profiler\n",
    "%load_ext memory_profiler"
   ]
  },
  {
   "cell_type": "code",
   "execution_count": 2,
   "id": "f843bd49",
   "metadata": {
    "execution": {
     "iopub.execute_input": "2023-10-10T14:15:20.457536Z",
     "iopub.status.busy": "2023-10-10T14:15:20.457190Z",
     "iopub.status.idle": "2023-10-10T14:15:22.762828Z",
     "shell.execute_reply": "2023-10-10T14:15:22.761437Z"
    }
   },
   "outputs": [],
   "source": [
    "import warnings\n",
    "import os\n",
    "os.environ['TF_CPP_MIN_LOG_LEVEL'] = '3'\n",
    "from tensorflow import get_logger\n",
    "get_logger().setLevel('ERROR')\n",
    "warnings.filterwarnings(\"ignore\", message=\"Setting the random state for TF\")"
   ]
  },
  {
   "cell_type": "code",
   "execution_count": 3,
   "id": "3372f490",
   "metadata": {
    "execution": {
     "iopub.execute_input": "2023-10-10T14:15:22.774496Z",
     "iopub.status.busy": "2023-10-10T14:15:22.774091Z",
     "iopub.status.idle": "2023-10-10T14:15:22.788449Z",
     "shell.execute_reply": "2023-10-10T14:15:22.787828Z"
    }
   },
   "outputs": [],
   "source": [
    "try:\n",
    "    import scikeras\n",
    "except ImportError:\n",
    "    !python -m pip install scikeras"
   ]
  },
  {
   "cell_type": "code",
   "execution_count": 4,
   "id": "3c9a38eb",
   "metadata": {
    "execution": {
     "iopub.execute_input": "2023-10-10T14:15:22.792786Z",
     "iopub.status.busy": "2023-10-10T14:15:22.791634Z",
     "iopub.status.idle": "2023-10-10T14:15:23.102551Z",
     "shell.execute_reply": "2023-10-10T14:15:23.101730Z"
    }
   },
   "outputs": [],
   "source": [
    "import scipy\n",
    "import numpy as np\n",
    "from scikeras.wrappers import KerasRegressor\n",
    "from sklearn.preprocessing import OneHotEncoder\n",
    "from sklearn.pipeline import Pipeline\n",
    "from tensorflow import keras"
   ]
  },
  {
   "cell_type": "markdown",
   "id": "27f056a9",
   "metadata": {},
   "source": [
    "## Data\n",
    "\n",
    "The dataset we'll be using is designed to demostrate a worst-case/best-case scenario for dense and sparse input features respectively.\n",
    "It consists of a single categorical feature with equal number of categories as rows.\n",
    "This means the one-hot encoded representation will require as many columns as it does rows, making it very ineffienct to store as a dense matrix but very efficient to store as a sparse matrix."
   ]
  },
  {
   "cell_type": "code",
   "execution_count": 5,
   "id": "ef7b087e",
   "metadata": {
    "execution": {
     "iopub.execute_input": "2023-10-10T14:15:23.106402Z",
     "iopub.status.busy": "2023-10-10T14:15:23.105773Z",
     "iopub.status.idle": "2023-10-10T14:15:23.113272Z",
     "shell.execute_reply": "2023-10-10T14:15:23.112338Z"
    }
   },
   "outputs": [],
   "source": [
    "N_SAMPLES = 20_000  # hand tuned to be ~4GB peak\n",
    "\n",
    "X = np.arange(0, N_SAMPLES).reshape(-1, 1)\n",
    "y = np.random.uniform(0, 1, size=(X.shape[0],))"
   ]
  },
  {
   "cell_type": "markdown",
   "id": "5ab92c98",
   "metadata": {},
   "source": [
    "## Model\n",
    "\n",
    "The model here is nothing special, just a basic multilayer perceptron with one hidden layer."
   ]
  },
  {
   "cell_type": "code",
   "execution_count": 6,
   "id": "f3a2210c",
   "metadata": {
    "execution": {
     "iopub.execute_input": "2023-10-10T14:15:23.119625Z",
     "iopub.status.busy": "2023-10-10T14:15:23.118207Z",
     "iopub.status.idle": "2023-10-10T14:15:23.133274Z",
     "shell.execute_reply": "2023-10-10T14:15:23.132646Z"
    }
   },
   "outputs": [],
   "source": [
    "def get_clf(meta) -> keras.Model:\n",
    "    n_features_in_ = meta[\"n_features_in_\"]\n",
    "    model = keras.models.Sequential()\n",
    "    model.add(keras.layers.Input(shape=(n_features_in_,)))\n",
    "    # a single hidden layer\n",
    "    model.add(keras.layers.Dense(100, activation=\"relu\"))\n",
    "    model.add(keras.layers.Dense(1))\n",
    "    return model"
   ]
  },
  {
   "cell_type": "markdown",
   "id": "5de1351a",
   "metadata": {},
   "source": [
    "## Pipelines\n",
    "\n",
    "Here is where it gets interesting.\n",
    "We make two Scikit-Learn pipelines that use `OneHotEncoder`: one that uses `sparse=False` to force a dense matrix as the output and another that uses `sparse=True` (the default)."
   ]
  },
  {
   "cell_type": "code",
   "execution_count": 7,
   "id": "97a717c2",
   "metadata": {
    "execution": {
     "iopub.execute_input": "2023-10-10T14:15:23.136665Z",
     "iopub.status.busy": "2023-10-10T14:15:23.136439Z",
     "iopub.status.idle": "2023-10-10T14:15:23.141895Z",
     "shell.execute_reply": "2023-10-10T14:15:23.141318Z"
    }
   },
   "outputs": [],
   "source": [
    "dense_pipeline = Pipeline(\n",
    "    [\n",
    "        (\"encoder\", OneHotEncoder(sparse=False)),\n",
    "        (\"model\", KerasRegressor(get_clf, loss=\"mse\", epochs=5, verbose=False))\n",
    "    ]\n",
    ")\n",
    "\n",
    "sparse_pipeline = Pipeline(\n",
    "    [\n",
    "        (\"encoder\", OneHotEncoder(sparse=True)),\n",
    "        (\"model\", KerasRegressor(get_clf, loss=\"mse\", epochs=5, verbose=False))\n",
    "    ]\n",
    ")"
   ]
  },
  {
   "cell_type": "markdown",
   "id": "6b1ef658",
   "metadata": {},
   "source": [
    "## Benchmark\n",
    "\n",
    "Our benchmark will be to just train each one of these pipelines and measure peak memory consumption."
   ]
  },
  {
   "cell_type": "code",
   "execution_count": 8,
   "id": "cc5b0789",
   "metadata": {
    "execution": {
     "iopub.execute_input": "2023-10-10T14:15:23.145921Z",
     "iopub.status.busy": "2023-10-10T14:15:23.144724Z",
     "iopub.status.idle": "2023-10-10T14:16:18.694018Z",
     "shell.execute_reply": "2023-10-10T14:16:18.693334Z"
    }
   },
   "outputs": [
    {
     "name": "stderr",
     "output_type": "stream",
     "text": [
      "/home/runner/work/scikeras/scikeras/.venv/lib/python3.8/site-packages/sklearn/preprocessing/_encoders.py:975: FutureWarning: `sparse` was renamed to `sparse_output` in version 1.2 and will be removed in 1.4. `sparse_output` is ignored unless you leave `sparse` to its default value.\n",
      "  warnings.warn(\n"
     ]
    },
    {
     "name": "stdout",
     "output_type": "stream",
     "text": [
      "peak memory: 3567.34 MiB, increment: 3146.30 MiB\n"
     ]
    }
   ],
   "source": [
    "%memit dense_pipeline.fit(X, y)"
   ]
  },
  {
   "cell_type": "code",
   "execution_count": 9,
   "id": "b45fd0b1",
   "metadata": {
    "execution": {
     "iopub.execute_input": "2023-10-10T14:16:18.698716Z",
     "iopub.status.busy": "2023-10-10T14:16:18.697586Z",
     "iopub.status.idle": "2023-10-10T14:16:38.803750Z",
     "shell.execute_reply": "2023-10-10T14:16:38.803029Z"
    }
   },
   "outputs": [
    {
     "name": "stderr",
     "output_type": "stream",
     "text": [
      "/home/runner/work/scikeras/scikeras/.venv/lib/python3.8/site-packages/sklearn/preprocessing/_encoders.py:975: FutureWarning: `sparse` was renamed to `sparse_output` in version 1.2 and will be removed in 1.4. `sparse_output` is ignored unless you leave `sparse` to its default value.\n",
      "  warnings.warn(\n"
     ]
    },
    {
     "name": "stdout",
     "output_type": "stream",
     "text": [
      "peak memory: 687.03 MiB, increment: 48.68 MiB\n"
     ]
    }
   ],
   "source": [
    "%memit sparse_pipeline.fit(X, y)"
   ]
  },
  {
   "cell_type": "markdown",
   "id": "8b721478",
   "metadata": {},
   "source": [
    "You should see at least 100x more memory consumption **increment** in the dense pipeline."
   ]
  },
  {
   "cell_type": "markdown",
   "id": "5f7e796e",
   "metadata": {},
   "source": [
    "### Runtime\n",
    "\n",
    "Using sparse inputs can have a drastic impact on memory usage, but it often (not always) hurts overall runtime."
   ]
  },
  {
   "cell_type": "code",
   "execution_count": 10,
   "id": "30ce9bd2",
   "metadata": {
    "execution": {
     "iopub.execute_input": "2023-10-10T14:16:38.808957Z",
     "iopub.status.busy": "2023-10-10T14:16:38.807816Z",
     "iopub.status.idle": "2023-10-10T14:22:34.783003Z",
     "shell.execute_reply": "2023-10-10T14:22:34.782299Z"
    }
   },
   "outputs": [
    {
     "name": "stderr",
     "output_type": "stream",
     "text": [
      "/home/runner/work/scikeras/scikeras/.venv/lib/python3.8/site-packages/sklearn/preprocessing/_encoders.py:975: FutureWarning: `sparse` was renamed to `sparse_output` in version 1.2 and will be removed in 1.4. `sparse_output` is ignored unless you leave `sparse` to its default value.\n",
      "  warnings.warn(\n"
     ]
    },
    {
     "name": "stderr",
     "output_type": "stream",
     "text": [
      "/home/runner/work/scikeras/scikeras/.venv/lib/python3.8/site-packages/sklearn/preprocessing/_encoders.py:975: FutureWarning: `sparse` was renamed to `sparse_output` in version 1.2 and will be removed in 1.4. `sparse_output` is ignored unless you leave `sparse` to its default value.\n",
      "  warnings.warn(\n"
     ]
    },
    {
     "name": "stderr",
     "output_type": "stream",
     "text": [
      "/home/runner/work/scikeras/scikeras/.venv/lib/python3.8/site-packages/sklearn/preprocessing/_encoders.py:975: FutureWarning: `sparse` was renamed to `sparse_output` in version 1.2 and will be removed in 1.4. `sparse_output` is ignored unless you leave `sparse` to its default value.\n",
      "  warnings.warn(\n"
     ]
    },
    {
     "name": "stderr",
     "output_type": "stream",
     "text": [
      "/home/runner/work/scikeras/scikeras/.venv/lib/python3.8/site-packages/sklearn/preprocessing/_encoders.py:975: FutureWarning: `sparse` was renamed to `sparse_output` in version 1.2 and will be removed in 1.4. `sparse_output` is ignored unless you leave `sparse` to its default value.\n",
      "  warnings.warn(\n"
     ]
    },
    {
     "name": "stderr",
     "output_type": "stream",
     "text": [
      "/home/runner/work/scikeras/scikeras/.venv/lib/python3.8/site-packages/sklearn/preprocessing/_encoders.py:975: FutureWarning: `sparse` was renamed to `sparse_output` in version 1.2 and will be removed in 1.4. `sparse_output` is ignored unless you leave `sparse` to its default value.\n",
      "  warnings.warn(\n"
     ]
    },
    {
     "name": "stderr",
     "output_type": "stream",
     "text": [
      "/home/runner/work/scikeras/scikeras/.venv/lib/python3.8/site-packages/sklearn/preprocessing/_encoders.py:975: FutureWarning: `sparse` was renamed to `sparse_output` in version 1.2 and will be removed in 1.4. `sparse_output` is ignored unless you leave `sparse` to its default value.\n",
      "  warnings.warn(\n"
     ]
    },
    {
     "name": "stderr",
     "output_type": "stream",
     "text": [
      "/home/runner/work/scikeras/scikeras/.venv/lib/python3.8/site-packages/sklearn/preprocessing/_encoders.py:975: FutureWarning: `sparse` was renamed to `sparse_output` in version 1.2 and will be removed in 1.4. `sparse_output` is ignored unless you leave `sparse` to its default value.\n",
      "  warnings.warn(\n"
     ]
    },
    {
     "name": "stderr",
     "output_type": "stream",
     "text": [
      "/home/runner/work/scikeras/scikeras/.venv/lib/python3.8/site-packages/sklearn/preprocessing/_encoders.py:975: FutureWarning: `sparse` was renamed to `sparse_output` in version 1.2 and will be removed in 1.4. `sparse_output` is ignored unless you leave `sparse` to its default value.\n",
      "  warnings.warn(\n"
     ]
    },
    {
     "name": "stdout",
     "output_type": "stream",
     "text": [
      "43.1 s ± 9.7 s per loop (mean ± std. dev. of 7 runs, 1 loop each)\n"
     ]
    }
   ],
   "source": [
    "%timeit dense_pipeline.fit(X, y)"
   ]
  },
  {
   "cell_type": "code",
   "execution_count": 11,
   "id": "f23ffee6",
   "metadata": {
    "execution": {
     "iopub.execute_input": "2023-10-10T14:22:34.785920Z",
     "iopub.status.busy": "2023-10-10T14:22:34.785680Z",
     "iopub.status.idle": "2023-10-10T14:24:10.314926Z",
     "shell.execute_reply": "2023-10-10T14:24:10.313615Z"
    }
   },
   "outputs": [
    {
     "name": "stderr",
     "output_type": "stream",
     "text": [
      "/home/runner/work/scikeras/scikeras/.venv/lib/python3.8/site-packages/sklearn/preprocessing/_encoders.py:975: FutureWarning: `sparse` was renamed to `sparse_output` in version 1.2 and will be removed in 1.4. `sparse_output` is ignored unless you leave `sparse` to its default value.\n",
      "  warnings.warn(\n"
     ]
    },
    {
     "name": "stderr",
     "output_type": "stream",
     "text": [
      "/home/runner/work/scikeras/scikeras/.venv/lib/python3.8/site-packages/sklearn/preprocessing/_encoders.py:975: FutureWarning: `sparse` was renamed to `sparse_output` in version 1.2 and will be removed in 1.4. `sparse_output` is ignored unless you leave `sparse` to its default value.\n",
      "  warnings.warn(\n"
     ]
    },
    {
     "name": "stderr",
     "output_type": "stream",
     "text": [
      "/home/runner/work/scikeras/scikeras/.venv/lib/python3.8/site-packages/sklearn/preprocessing/_encoders.py:975: FutureWarning: `sparse` was renamed to `sparse_output` in version 1.2 and will be removed in 1.4. `sparse_output` is ignored unless you leave `sparse` to its default value.\n",
      "  warnings.warn(\n"
     ]
    },
    {
     "name": "stderr",
     "output_type": "stream",
     "text": [
      "/home/runner/work/scikeras/scikeras/.venv/lib/python3.8/site-packages/sklearn/preprocessing/_encoders.py:975: FutureWarning: `sparse` was renamed to `sparse_output` in version 1.2 and will be removed in 1.4. `sparse_output` is ignored unless you leave `sparse` to its default value.\n",
      "  warnings.warn(\n"
     ]
    },
    {
     "name": "stderr",
     "output_type": "stream",
     "text": [
      "/home/runner/work/scikeras/scikeras/.venv/lib/python3.8/site-packages/sklearn/preprocessing/_encoders.py:975: FutureWarning: `sparse` was renamed to `sparse_output` in version 1.2 and will be removed in 1.4. `sparse_output` is ignored unless you leave `sparse` to its default value.\n",
      "  warnings.warn(\n"
     ]
    },
    {
     "name": "stderr",
     "output_type": "stream",
     "text": [
      "/home/runner/work/scikeras/scikeras/.venv/lib/python3.8/site-packages/sklearn/preprocessing/_encoders.py:975: FutureWarning: `sparse` was renamed to `sparse_output` in version 1.2 and will be removed in 1.4. `sparse_output` is ignored unless you leave `sparse` to its default value.\n",
      "  warnings.warn(\n"
     ]
    },
    {
     "name": "stderr",
     "output_type": "stream",
     "text": [
      "/home/runner/work/scikeras/scikeras/.venv/lib/python3.8/site-packages/sklearn/preprocessing/_encoders.py:975: FutureWarning: `sparse` was renamed to `sparse_output` in version 1.2 and will be removed in 1.4. `sparse_output` is ignored unless you leave `sparse` to its default value.\n",
      "  warnings.warn(\n"
     ]
    },
    {
     "name": "stderr",
     "output_type": "stream",
     "text": [
      "/home/runner/work/scikeras/scikeras/.venv/lib/python3.8/site-packages/sklearn/preprocessing/_encoders.py:975: FutureWarning: `sparse` was renamed to `sparse_output` in version 1.2 and will be removed in 1.4. `sparse_output` is ignored unless you leave `sparse` to its default value.\n",
      "  warnings.warn(\n"
     ]
    },
    {
     "name": "stdout",
     "output_type": "stream",
     "text": [
      "11.7 s ± 620 ms per loop (mean ± std. dev. of 7 runs, 1 loop each)\n"
     ]
    }
   ],
   "source": [
    "%timeit sparse_pipeline.fit(X, y)"
   ]
  },
  {
   "cell_type": "markdown",
   "id": "da8a9223",
   "metadata": {},
   "source": [
    "## Tensorflow Datasets\n",
    "\n",
    "Tensorflow provides a whole suite of functionality around the [Dataset].\n",
    "Datasets are lazily evaluated, can be sparse and minimize the transformations required to feed data into the model.\n",
    "They are _a lot_ more performant and efficient at scale than using numpy datastructures, even sparse ones.\n",
    "\n",
    "SciKeras does not (and cannot) support Datasets directly because Scikit-Learn itself does not support them and SciKeras' outwards API is Scikit-Learn's API.\n",
    "You may want to explore breaking out of SciKeras and just using TensorFlow/Keras directly to see if Datasets can have a large impact for your use case.\n",
    "\n",
    "[Dataset]: https://www.tensorflow.org/api_docs/python/tf/data/Dataset"
   ]
  },
  {
   "cell_type": "markdown",
   "id": "573f539c",
   "metadata": {},
   "source": [
    "## Bonus: dtypes\n",
    "\n",
    "You might be able to save even more memory by changing the output dtype of `OneHotEncoder`."
   ]
  },
  {
   "cell_type": "code",
   "execution_count": 12,
   "id": "7978d195",
   "metadata": {
    "execution": {
     "iopub.execute_input": "2023-10-10T14:24:10.320705Z",
     "iopub.status.busy": "2023-10-10T14:24:10.320224Z",
     "iopub.status.idle": "2023-10-10T14:24:10.325184Z",
     "shell.execute_reply": "2023-10-10T14:24:10.324580Z"
    }
   },
   "outputs": [],
   "source": [
    "sparse_pipline_uint8 = Pipeline(\n",
    "    [\n",
    "        (\"encoder\", OneHotEncoder(sparse=True, dtype=np.uint8)),\n",
    "        (\"model\", KerasRegressor(get_clf, loss=\"mse\", epochs=5, verbose=False))\n",
    "    ]\n",
    ")"
   ]
  },
  {
   "cell_type": "code",
   "execution_count": 13,
   "id": "9b5747b0",
   "metadata": {
    "execution": {
     "iopub.execute_input": "2023-10-10T14:24:10.327970Z",
     "iopub.status.busy": "2023-10-10T14:24:10.327437Z",
     "iopub.status.idle": "2023-10-10T14:24:22.712686Z",
     "shell.execute_reply": "2023-10-10T14:24:22.711497Z"
    }
   },
   "outputs": [
    {
     "name": "stderr",
     "output_type": "stream",
     "text": [
      "/home/runner/work/scikeras/scikeras/.venv/lib/python3.8/site-packages/sklearn/preprocessing/_encoders.py:975: FutureWarning: `sparse` was renamed to `sparse_output` in version 1.2 and will be removed in 1.4. `sparse_output` is ignored unless you leave `sparse` to its default value.\n",
      "  warnings.warn(\n"
     ]
    },
    {
     "name": "stdout",
     "output_type": "stream",
     "text": [
      "peak memory: 874.10 MiB, increment: 56.99 MiB\n"
     ]
    }
   ],
   "source": [
    "%memit sparse_pipline_uint8.fit(X, y)"
   ]
  }
 ],
 "metadata": {
  "jupytext": {
   "formats": "ipynb,md"
  },
  "kernelspec": {
   "display_name": "Python 3 (ipykernel)",
   "language": "python",
   "name": "python3"
  },
  "language_info": {
   "codemirror_mode": {
    "name": "ipython",
    "version": 3
   },
   "file_extension": ".py",
   "mimetype": "text/x-python",
   "name": "python",
   "nbconvert_exporter": "python",
   "pygments_lexer": "ipython3",
   "version": "3.8.18"
  }
 },
 "nbformat": 4,
 "nbformat_minor": 5
}
