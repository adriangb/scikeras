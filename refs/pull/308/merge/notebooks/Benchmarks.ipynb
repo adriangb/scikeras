{
 "cells": [
  {
   "cell_type": "raw",
   "id": "3c4c508c",
   "metadata": {},
   "source": [
    "<a href=\"https://colab.research.google.com/github/adriangb/scikeras/blob/docs-deploy/refs/heads/master/notebooks/Benchmarks.ipynb\"><img src=\"https://www.tensorflow.org/images/colab_logo_32px.png\">Run in Google Colab</a>"
   ]
  },
  {
   "cell_type": "markdown",
   "id": "744b2de0",
   "metadata": {},
   "source": [
    "# SciKeras Benchmarks\n",
    "\n",
    "SciKeras wraps Keras Models, but does not alter their performance since all of the heavy lifting still happens within Keras/Tensorflow. In this notebook, we compare the performance and accuracy of a pure-Keras Model to the same model wrapped in SciKeras.\n",
    "\n",
    "## Table of contents\n",
    "\n",
    "* [1. Setup](#1.-Setup)\n",
    "* [2. Dataset](#2.-Dataset)\n",
    "* [3. Define Keras Model](#3.-Define-Keras-Model)\n",
    "* [4. Keras benchmarks](#4.-Keras-benchmarks)\n",
    "* [5. SciKeras benchmark](#5.-SciKeras-benchmark)\n",
    "\n",
    "## 1. Setup"
   ]
  },
  {
   "cell_type": "code",
   "execution_count": 1,
   "id": "28bcb5c2",
   "metadata": {
    "execution": {
     "iopub.execute_input": "2023-10-10T14:19:26.950373Z",
     "iopub.status.busy": "2023-10-10T14:19:26.950129Z",
     "iopub.status.idle": "2023-10-10T14:19:29.984176Z",
     "shell.execute_reply": "2023-10-10T14:19:29.983419Z"
    }
   },
   "outputs": [],
   "source": [
    "try:\n",
    "    import scikeras\n",
    "except ImportError:\n",
    "    !python -m pip install scikeras[tensorflow]"
   ]
  },
  {
   "cell_type": "markdown",
   "id": "ddf5067a",
   "metadata": {},
   "source": [
    "Silence TensorFlow logging to keep output succinct."
   ]
  },
  {
   "cell_type": "code",
   "execution_count": 2,
   "id": "b9ec810f",
   "metadata": {
    "execution": {
     "iopub.execute_input": "2023-10-10T14:19:29.989274Z",
     "iopub.status.busy": "2023-10-10T14:19:29.987959Z",
     "iopub.status.idle": "2023-10-10T14:19:29.993400Z",
     "shell.execute_reply": "2023-10-10T14:19:29.992816Z"
    }
   },
   "outputs": [],
   "source": [
    "import warnings\n",
    "from tensorflow import get_logger\n",
    "get_logger().setLevel('ERROR')\n",
    "warnings.filterwarnings(\"ignore\", message=\"Setting the random state for TF\")"
   ]
  },
  {
   "cell_type": "code",
   "execution_count": 3,
   "id": "93ffeb22",
   "metadata": {
    "execution": {
     "iopub.execute_input": "2023-10-10T14:19:29.997764Z",
     "iopub.status.busy": "2023-10-10T14:19:29.996622Z",
     "iopub.status.idle": "2023-10-10T14:19:30.377389Z",
     "shell.execute_reply": "2023-10-10T14:19:30.376661Z"
    }
   },
   "outputs": [],
   "source": [
    "import numpy as np\n",
    "from scikeras.wrappers import KerasClassifier, KerasRegressor\n",
    "from tensorflow import keras"
   ]
  },
  {
   "cell_type": "markdown",
   "id": "d5df3074",
   "metadata": {},
   "source": [
    "## 2. Dataset\n",
    "\n",
    "We will be using the MNIST dataset available within Keras."
   ]
  },
  {
   "cell_type": "code",
   "execution_count": 4,
   "id": "fc84aa2b",
   "metadata": {
    "execution": {
     "iopub.execute_input": "2023-10-10T14:19:30.382887Z",
     "iopub.status.busy": "2023-10-10T14:19:30.381473Z",
     "iopub.status.idle": "2023-10-10T14:19:30.852737Z",
     "shell.execute_reply": "2023-10-10T14:19:30.848907Z"
    }
   },
   "outputs": [],
   "source": [
    "(x_train, y_train), (x_test, y_test) = keras.datasets.mnist.load_data()\n",
    "# Scale images to the [0, 1] range\n",
    "x_train = x_train.astype(\"float32\") / 255\n",
    "x_test = x_test.astype(\"float32\") / 255\n",
    "# Make sure images have shape (28, 28, 1)\n",
    "x_train = np.expand_dims(x_train, -1)\n",
    "x_test = np.expand_dims(x_test, -1)\n",
    "# Reduce dataset size for faster benchmarks\n",
    "x_train, y_train = x_train[:2000], y_train[:2000]\n",
    "x_test, y_test = x_test[:500], y_test[:500]"
   ]
  },
  {
   "cell_type": "markdown",
   "id": "72ae4718",
   "metadata": {},
   "source": [
    "## 3. Define Keras Model\n",
    "\n",
    "Next we will define our Keras model (adapted from [keras.io](https://keras.io/examples/vision/mnist_convnet/)):"
   ]
  },
  {
   "cell_type": "code",
   "execution_count": 5,
   "id": "b029255e",
   "metadata": {
    "execution": {
     "iopub.execute_input": "2023-10-10T14:19:30.857810Z",
     "iopub.status.busy": "2023-10-10T14:19:30.856588Z",
     "iopub.status.idle": "2023-10-10T14:19:30.864487Z",
     "shell.execute_reply": "2023-10-10T14:19:30.862998Z"
    }
   },
   "outputs": [],
   "source": [
    "num_classes = 10\n",
    "input_shape = (28, 28, 1)\n",
    "\n",
    "\n",
    "def get_model():\n",
    "    model = keras.Sequential(\n",
    "        [\n",
    "            keras.Input(input_shape),\n",
    "            keras.layers.Conv2D(32, kernel_size=(3, 3), activation=\"relu\"),\n",
    "            keras.layers.MaxPooling2D(pool_size=(2, 2)),\n",
    "            keras.layers.Conv2D(64, kernel_size=(3, 3), activation=\"relu\"),\n",
    "            keras.layers.MaxPooling2D(pool_size=(2, 2)),\n",
    "            keras.layers.Flatten(),\n",
    "            keras.layers.Dropout(0.5),\n",
    "            keras.layers.Dense(num_classes, activation=\"softmax\"),\n",
    "        ]\n",
    "    )\n",
    "    model.compile(\n",
    "        loss=\"sparse_categorical_crossentropy\", optimizer=\"adam\"\n",
    "    )\n",
    "    return model"
   ]
  },
  {
   "cell_type": "markdown",
   "id": "903e11bf",
   "metadata": {},
   "source": [
    "## 4. Keras benchmarks"
   ]
  },
  {
   "cell_type": "code",
   "execution_count": 6,
   "id": "3a7726d0",
   "metadata": {
    "execution": {
     "iopub.execute_input": "2023-10-10T14:19:30.868865Z",
     "iopub.status.busy": "2023-10-10T14:19:30.867632Z",
     "iopub.status.idle": "2023-10-10T14:19:30.877415Z",
     "shell.execute_reply": "2023-10-10T14:19:30.875903Z"
    }
   },
   "outputs": [],
   "source": [
    "fit_kwargs = {\"batch_size\": 128, \"validation_split\": 0.1, \"verbose\": 0, \"epochs\": 5}"
   ]
  },
  {
   "cell_type": "code",
   "execution_count": 7,
   "id": "7e411479",
   "metadata": {
    "execution": {
     "iopub.execute_input": "2023-10-10T14:19:30.881028Z",
     "iopub.status.busy": "2023-10-10T14:19:30.880418Z",
     "iopub.status.idle": "2023-10-10T14:19:30.883722Z",
     "shell.execute_reply": "2023-10-10T14:19:30.883152Z"
    }
   },
   "outputs": [],
   "source": [
    "from sklearn.metrics import accuracy_score\n",
    "from scikeras.utils.random_state import tensorflow_random_state"
   ]
  },
  {
   "cell_type": "code",
   "execution_count": 8,
   "id": "76bfe1b4",
   "metadata": {
    "execution": {
     "iopub.execute_input": "2023-10-10T14:19:30.886636Z",
     "iopub.status.busy": "2023-10-10T14:19:30.886113Z",
     "iopub.status.idle": "2023-10-10T14:19:38.899769Z",
     "shell.execute_reply": "2023-10-10T14:19:38.899052Z"
    }
   },
   "outputs": [
    {
     "name": "stdout",
     "output_type": "stream",
     "text": [
      "Training time: 7.45\n",
      "\r",
      " 1/16 [>.............................] - ETA: 1s"
     ]
    },
    {
     "name": "stdout",
     "output_type": "stream",
     "text": [
      "\b\b\b\b\b\b\b\b\b\b\b\b\b\b\b\b\b\b\b\b\b\b\b\b\b\b\b\b\b\b\b\b\b\b\b\b\b\b\b\b\b\b\b\b\b\b\b\b\r",
      "10/16 [=================>............] - ETA: 0s"
     ]
    },
    {
     "name": "stdout",
     "output_type": "stream",
     "text": [
      "\b\b\b\b\b\b\b\b\b\b\b\b\b\b\b\b\b\b\b\b\b\b\b\b\b\b\b\b\b\b\b\b\b\b\b\b\b\b\b\b\b\b\b\b\b\b\b\b\r",
      "16/16 [==============================] - 0s 6ms/step\n"
     ]
    },
    {
     "name": "stdout",
     "output_type": "stream",
     "text": [
      "Accuracy: 0.884\n"
     ]
    }
   ],
   "source": [
    "from time import time\n",
    "\n",
    "with tensorflow_random_state(seed=0):  # we force a TF random state to be able to compare accuracy\n",
    "    model = get_model()\n",
    "    start = time()\n",
    "    model.fit(x_train, y_train, **fit_kwargs)\n",
    "    print(f\"Training time: {time()-start:.2f}\")\n",
    "    y_pred = np.argmax(model.predict(x_test), axis=1)\n",
    "print(f\"Accuracy: {accuracy_score(y_test, y_pred)}\")"
   ]
  },
  {
   "cell_type": "markdown",
   "id": "0aa03c25",
   "metadata": {},
   "source": [
    "## 5. SciKeras benchmark"
   ]
  },
  {
   "cell_type": "code",
   "execution_count": 9,
   "id": "fd170a89",
   "metadata": {
    "execution": {
     "iopub.execute_input": "2023-10-10T14:19:38.904682Z",
     "iopub.status.busy": "2023-10-10T14:19:38.904253Z",
     "iopub.status.idle": "2023-10-10T14:19:38.912015Z",
     "shell.execute_reply": "2023-10-10T14:19:38.910805Z"
    }
   },
   "outputs": [],
   "source": [
    "clf = KerasClassifier(\n",
    "    model=get_model,\n",
    "    random_state=0,\n",
    "    **fit_kwargs\n",
    ")"
   ]
  },
  {
   "cell_type": "code",
   "execution_count": 10,
   "id": "06ca43f2",
   "metadata": {
    "execution": {
     "iopub.execute_input": "2023-10-10T14:19:38.916878Z",
     "iopub.status.busy": "2023-10-10T14:19:38.915627Z",
     "iopub.status.idle": "2023-10-10T14:19:46.426859Z",
     "shell.execute_reply": "2023-10-10T14:19:46.426167Z"
    }
   },
   "outputs": [
    {
     "name": "stdout",
     "output_type": "stream",
     "text": [
      "Training time: 7.26\n"
     ]
    },
    {
     "name": "stdout",
     "output_type": "stream",
     "text": [
      "Accuracy: 0.884\n"
     ]
    }
   ],
   "source": [
    "start = time()\n",
    "clf.fit(x_train, y_train)\n",
    "print(f\"Training time: {time()-start:.2f}\")\n",
    "y_pred = clf.predict(x_test)\n",
    "print(f\"Accuracy: {accuracy_score(y_test, y_pred)}\")"
   ]
  },
  {
   "cell_type": "markdown",
   "id": "14f8f3fd",
   "metadata": {},
   "source": [
    "As you can see, the overhead for SciKeras is <1 sec, and the accuracy is identical."
   ]
  }
 ],
 "metadata": {
  "jupytext": {
   "formats": "ipynb,md"
  },
  "kernelspec": {
   "display_name": "Python 3",
   "language": "python",
   "name": "python3"
  },
  "language_info": {
   "codemirror_mode": {
    "name": "ipython",
    "version": 3
   },
   "file_extension": ".py",
   "mimetype": "text/x-python",
   "name": "python",
   "nbconvert_exporter": "python",
   "pygments_lexer": "ipython3",
   "version": "3.8.18"
  }
 },
 "nbformat": 4,
 "nbformat_minor": 5
}
