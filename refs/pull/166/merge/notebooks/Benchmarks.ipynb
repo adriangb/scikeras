{
 "cells": [
  {
   "cell_type": "raw",
   "id": "rolled-fisher",
   "metadata": {},
   "source": [
    "<a href=\"https://colab.research.google.com/github/adriangb/scikeras/blob/docs-deploy/refs/heads/master/notebooks/Benchmarks.ipynb\"><img src=\"https://www.tensorflow.org/images/colab_logo_32px.png\">Run in Google Colab</a>"
   ]
  },
  {
   "cell_type": "markdown",
   "id": "declared-cameroon",
   "metadata": {},
   "source": [
    "# SciKeras Benchmarks\n",
    "\n",
    "SciKeras wraps Keras Models, but does not alter their performance since all of the heavy lifting still happens within Keras/Tensorflow. In this notebook, we compare the performance and accuracy of a pure-Keras Model to the same model wrapped in SciKeras.\n",
    "\n",
    "## Table of contents\n",
    "\n",
    "* [1. Setup](#1.-Setup)\n",
    "* [2. Dataset](#2.-Dataset)\n",
    "* [3. Define Keras Model](#3.-Define-Keras-Model)\n",
    "* [4. Keras benchmarks](#4.-Keras-benchmarks)\n",
    "* [5. SciKeras benchmark](#5.-SciKeras-benchmark)\n",
    "\n",
    "## 1. Setup"
   ]
  },
  {
   "cell_type": "code",
   "execution_count": 1,
   "id": "supreme-validation",
   "metadata": {
    "execution": {
     "iopub.execute_input": "2021-01-29T02:21:49.860871Z",
     "iopub.status.busy": "2021-01-29T02:21:49.859997Z",
     "iopub.status.idle": "2021-01-29T02:21:51.843706Z",
     "shell.execute_reply": "2021-01-29T02:21:51.844794Z"
    }
   },
   "outputs": [],
   "source": [
    "try:\n",
    "    import scikeras\n",
    "except ImportError:\n",
    "    !python -m pip install scikeras"
   ]
  },
  {
   "cell_type": "markdown",
   "id": "adjustable-torture",
   "metadata": {},
   "source": [
    "Silence TensorFlow logging to keep output succinct."
   ]
  },
  {
   "cell_type": "code",
   "execution_count": 2,
   "id": "thorough-reset",
   "metadata": {
    "execution": {
     "iopub.execute_input": "2021-01-29T02:21:51.849967Z",
     "iopub.status.busy": "2021-01-29T02:21:51.848267Z",
     "iopub.status.idle": "2021-01-29T02:21:51.854931Z",
     "shell.execute_reply": "2021-01-29T02:21:51.855843Z"
    }
   },
   "outputs": [],
   "source": [
    "import warnings\n",
    "from tensorflow import get_logger\n",
    "get_logger().setLevel('ERROR')\n",
    "warnings.filterwarnings(\"ignore\", message=\"Setting the random state for TF\")"
   ]
  },
  {
   "cell_type": "code",
   "execution_count": 3,
   "id": "wanted-auckland",
   "metadata": {
    "execution": {
     "iopub.execute_input": "2021-01-29T02:21:51.860143Z",
     "iopub.status.busy": "2021-01-29T02:21:51.858855Z",
     "iopub.status.idle": "2021-01-29T02:21:52.347478Z",
     "shell.execute_reply": "2021-01-29T02:21:52.348393Z"
    }
   },
   "outputs": [],
   "source": [
    "import numpy as np\n",
    "from scikeras.wrappers import KerasClassifier, KerasRegressor\n",
    "from tensorflow import keras"
   ]
  },
  {
   "cell_type": "markdown",
   "id": "shared-composer",
   "metadata": {},
   "source": [
    "## 2. Dataset\n",
    "\n",
    "We will be using the MNIST dataset available within Keras."
   ]
  },
  {
   "cell_type": "code",
   "execution_count": 4,
   "id": "informed-maldives",
   "metadata": {
    "execution": {
     "iopub.execute_input": "2021-01-29T02:21:52.353050Z",
     "iopub.status.busy": "2021-01-29T02:21:52.351785Z",
     "iopub.status.idle": "2021-01-29T02:21:53.145299Z",
     "shell.execute_reply": "2021-01-29T02:21:53.145821Z"
    }
   },
   "outputs": [],
   "source": [
    "(x_train, y_train), (x_test, y_test) = keras.datasets.mnist.load_data()\n",
    "# Scale images to the [0, 1] range\n",
    "x_train = x_train.astype(\"float32\") / 255\n",
    "x_test = x_test.astype(\"float32\") / 255\n",
    "# Make sure images have shape (28, 28, 1)\n",
    "x_train = np.expand_dims(x_train, -1)\n",
    "x_test = np.expand_dims(x_test, -1)\n",
    "# Reduce dataset size for faster benchmarks\n",
    "x_train, y_train = x_train[:2000], y_train[:2000]\n",
    "x_test, y_test = x_test[:500], y_test[:500]"
   ]
  },
  {
   "cell_type": "markdown",
   "id": "incredible-worse",
   "metadata": {},
   "source": [
    "## 3. Define Keras Model\n",
    "\n",
    "Next we will define our Keras model (adapted from [keras.io](https://keras.io/examples/vision/mnist_convnet/)):"
   ]
  },
  {
   "cell_type": "code",
   "execution_count": 5,
   "id": "greenhouse-latest",
   "metadata": {
    "execution": {
     "iopub.execute_input": "2021-01-29T02:21:53.154581Z",
     "iopub.status.busy": "2021-01-29T02:21:53.153869Z",
     "iopub.status.idle": "2021-01-29T02:21:53.164816Z",
     "shell.execute_reply": "2021-01-29T02:21:53.165416Z"
    }
   },
   "outputs": [],
   "source": [
    "num_classes = 10\n",
    "input_shape = (28, 28, 1)\n",
    "\n",
    "\n",
    "def get_model():\n",
    "    model = keras.Sequential(\n",
    "        [\n",
    "            keras.Input(input_shape),\n",
    "            keras.layers.Conv2D(32, kernel_size=(3, 3), activation=\"relu\"),\n",
    "            keras.layers.MaxPooling2D(pool_size=(2, 2)),\n",
    "            keras.layers.Conv2D(64, kernel_size=(3, 3), activation=\"relu\"),\n",
    "            keras.layers.MaxPooling2D(pool_size=(2, 2)),\n",
    "            keras.layers.Flatten(),\n",
    "            keras.layers.Dropout(0.5),\n",
    "            keras.layers.Dense(num_classes, activation=\"softmax\"),\n",
    "        ]\n",
    "    )\n",
    "    model.compile(\n",
    "        loss=\"sparse_categorical_crossentropy\", optimizer=\"adam\"\n",
    "    )\n",
    "    return model"
   ]
  },
  {
   "cell_type": "markdown",
   "id": "literary-italy",
   "metadata": {},
   "source": [
    "## 4. Keras benchmarks"
   ]
  },
  {
   "cell_type": "code",
   "execution_count": 6,
   "id": "focused-negotiation",
   "metadata": {
    "execution": {
     "iopub.execute_input": "2021-01-29T02:21:53.171643Z",
     "iopub.status.busy": "2021-01-29T02:21:53.170892Z",
     "iopub.status.idle": "2021-01-29T02:21:53.175529Z",
     "shell.execute_reply": "2021-01-29T02:21:53.176299Z"
    }
   },
   "outputs": [],
   "source": [
    "fit_kwargs = {\"batch_size\": 128, \"validation_split\": 0.1, \"verbose\": 0, \"epochs\": 5}"
   ]
  },
  {
   "cell_type": "code",
   "execution_count": 7,
   "id": "established-projection",
   "metadata": {
    "execution": {
     "iopub.execute_input": "2021-01-29T02:21:53.181012Z",
     "iopub.status.busy": "2021-01-29T02:21:53.180302Z",
     "iopub.status.idle": "2021-01-29T02:21:53.183588Z",
     "shell.execute_reply": "2021-01-29T02:21:53.182718Z"
    }
   },
   "outputs": [],
   "source": [
    "from sklearn.metrics import accuracy_score\n",
    "from scikeras._utils import TFRandomState"
   ]
  },
  {
   "cell_type": "code",
   "execution_count": 8,
   "id": "collaborative-packing",
   "metadata": {
    "execution": {
     "iopub.execute_input": "2021-01-29T02:21:53.199037Z",
     "iopub.status.busy": "2021-01-29T02:21:53.198237Z",
     "iopub.status.idle": "2021-01-29T02:22:05.450497Z",
     "shell.execute_reply": "2021-01-29T02:22:05.451386Z"
    }
   },
   "outputs": [
    {
     "name": "stdout",
     "output_type": "stream",
     "text": [
      "Training time: 11.83\n"
     ]
    },
    {
     "name": "stdout",
     "output_type": "stream",
     "text": [
      "Accuracy: 0.882\n"
     ]
    }
   ],
   "source": [
    "from time import time\n",
    "\n",
    "with TFRandomState(seed=0):  # we force a TF random state to be able to compare accuracy\n",
    "    model = get_model()\n",
    "    start = time()\n",
    "    model.fit(x_train, y_train, **fit_kwargs)\n",
    "    print(f\"Training time: {time()-start:.2f}\")\n",
    "    y_pred = np.argmax(model.predict(x_test), axis=1)\n",
    "print(f\"Accuracy: {accuracy_score(y_test, y_pred)}\")"
   ]
  },
  {
   "cell_type": "markdown",
   "id": "productive-product",
   "metadata": {},
   "source": [
    "## 5. SciKeras benchmark"
   ]
  },
  {
   "cell_type": "code",
   "execution_count": 9,
   "id": "referenced-travel",
   "metadata": {
    "execution": {
     "iopub.execute_input": "2021-01-29T02:22:05.456875Z",
     "iopub.status.busy": "2021-01-29T02:22:05.455636Z",
     "iopub.status.idle": "2021-01-29T02:22:05.461320Z",
     "shell.execute_reply": "2021-01-29T02:22:05.462135Z"
    }
   },
   "outputs": [],
   "source": [
    "clf = KerasClassifier(\n",
    "    model=get_model,\n",
    "    random_state=0,\n",
    "    **fit_kwargs\n",
    ")"
   ]
  },
  {
   "cell_type": "code",
   "execution_count": 10,
   "id": "cordless-clearance",
   "metadata": {
    "execution": {
     "iopub.execute_input": "2021-01-29T02:22:05.466913Z",
     "iopub.status.busy": "2021-01-29T02:22:05.465496Z",
     "iopub.status.idle": "2021-01-29T02:22:15.426579Z",
     "shell.execute_reply": "2021-01-29T02:22:15.427139Z"
    }
   },
   "outputs": [
    {
     "name": "stdout",
     "output_type": "stream",
     "text": [
      "Training time: 9.70\n"
     ]
    },
    {
     "name": "stdout",
     "output_type": "stream",
     "text": [
      "Accuracy: 0.882\n"
     ]
    }
   ],
   "source": [
    "start = time()\n",
    "clf.fit(x_train, y_train)\n",
    "print(f\"Training time: {time()-start:.2f}\")\n",
    "y_pred = clf.predict(x_test)\n",
    "print(f\"Accuracy: {accuracy_score(y_test, y_pred)}\")"
   ]
  },
  {
   "cell_type": "markdown",
   "id": "accomplished-interstate",
   "metadata": {},
   "source": [
    "As you can see, the overhead for SciKeras is <1 sec, and the accuracy is identical."
   ]
  }
 ],
 "metadata": {
  "jupytext": {
   "formats": "ipynb,md"
  },
  "kernelspec": {
   "display_name": "Python 3",
   "language": "python",
   "name": "python3"
  },
  "language_info": {
   "codemirror_mode": {
    "name": "ipython",
    "version": 3
   },
   "file_extension": ".py",
   "mimetype": "text/x-python",
   "name": "python",
   "nbconvert_exporter": "python",
   "pygments_lexer": "ipython3",
   "version": "3.8.7"
  }
 },
 "nbformat": 4,
 "nbformat_minor": 5
}
