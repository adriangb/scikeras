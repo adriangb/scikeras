{
 "cells": [
  {
   "cell_type": "raw",
   "id": "convertible-platinum",
   "metadata": {},
   "source": [
    "<a href=\"https://colab.research.google.com/github/adriangb/scikeras/blob/docs-deploy/refs/heads/master/notebooks/Basic_Usage.ipynb\"><img src=\"https://www.tensorflow.org/images/colab_logo_32px.png\">Run in Google Colab</a>"
   ]
  },
  {
   "cell_type": "markdown",
   "id": "musical-attention",
   "metadata": {},
   "source": [
    "# Basic usage\n",
    "\n",
    "`SciKeras` is designed to maximize interoperability between `sklearn` and `Keras/TensorFlow`. The aim is to keep 99% of the flexibility of `Keras` while being able to leverage most features of `sklearn`. Below, we show the basic usage of `SciKeras` and how it can be combined with `sklearn`.\n",
    "\n",
    "This notebook shows you how to use the basic functionality of `SciKeras`.\n",
    "\n",
    "## Table of contents\n",
    "\n",
    "* [1. Setup](#1.-Setup)\n",
    "* [2. Training a classifier and making predictions](#2.-Training-a-classifier-and-making-predictions)\n",
    "  * [2.1 A toy binary classification task](#2.1-A-toy-binary-classification-task)\n",
    "  * [2.2 Definition of the Keras classification Model](#2.2-Definition-of-the-Keras-classification-Model)\n",
    "  * [2.3 Defining and training the neural net classifier](#2.3-Defining-and-training-the-neural-net-classifier)\n",
    "  * [2.4 Making predictions, classification](#2.4-Making-predictions-classification)\n",
    "* [3 Training a regressor](#3.-Training-a-regressor)\n",
    "  * [3.1 A toy regression task](#3.1-A-toy-regression-task)\n",
    "  * [3.2 Definition of the Keras regression Model](#3.2-Definition-of-the-Keras-regression-Model)\n",
    "  * [3.3 Defining and training the neural net regressor](#3.3-Defining-and-training-the-neural-net-regressor)\n",
    "  * [3.4 Making predictions, regression](#3.4-Making-predictions-regression)\n",
    "* [4. Saving and loading a model](#4.-Saving-and-loading-a-model)\n",
    "  * [4.1 Saving the whole model](#4.1-Saving-the-whole-model)\n",
    "  * [4.2 Saving using Keras' saving methods](#4.2-Saving-using-Keras-saving-methods)\n",
    "* [5. Usage with an sklearn Pipeline](#5.-Usage-with-an-sklearn-Pipeline)\n",
    "* [6. Callbacks](#6.-Callbacks)\n",
    "* [7. Usage with sklearn GridSearchCV](#7.-Usage-with-sklearn-GridSearchCV)\n",
    "  * [7.1 Special prefixes](#7.1-Special-prefixes)\n",
    "  * [7.2 Performing a grid search](#7.2-Performing-a-grid-search)\n",
    "\n",
    "## 1. Setup"
   ]
  },
  {
   "cell_type": "code",
   "execution_count": 1,
   "id": "protecting-princess",
   "metadata": {
    "execution": {
     "iopub.execute_input": "2021-01-27T18:08:06.868307Z",
     "iopub.status.busy": "2021-01-27T18:08:06.867674Z",
     "iopub.status.idle": "2021-01-27T18:08:08.567511Z",
     "shell.execute_reply": "2021-01-27T18:08:08.566869Z"
    }
   },
   "outputs": [],
   "source": [
    "try:\n",
    "    import scikeras\n",
    "except ImportError:\n",
    "    !python -m pip install scikeras"
   ]
  },
  {
   "cell_type": "markdown",
   "id": "equivalent-strategy",
   "metadata": {},
   "source": [
    "Silence TensorFlow logging to keep output succinct."
   ]
  },
  {
   "cell_type": "code",
   "execution_count": 2,
   "id": "illegal-process",
   "metadata": {
    "execution": {
     "iopub.execute_input": "2021-01-27T18:08:08.571602Z",
     "iopub.status.busy": "2021-01-27T18:08:08.570464Z",
     "iopub.status.idle": "2021-01-27T18:08:08.575721Z",
     "shell.execute_reply": "2021-01-27T18:08:08.576454Z"
    }
   },
   "outputs": [],
   "source": [
    "import warnings\n",
    "from tensorflow import get_logger\n",
    "get_logger().setLevel('ERROR')\n",
    "warnings.filterwarnings(\"ignore\", message=\"Setting the random state for TF\")"
   ]
  },
  {
   "cell_type": "code",
   "execution_count": 3,
   "id": "front-lawrence",
   "metadata": {
    "execution": {
     "iopub.execute_input": "2021-01-27T18:08:08.579892Z",
     "iopub.status.busy": "2021-01-27T18:08:08.578753Z",
     "iopub.status.idle": "2021-01-27T18:08:09.001907Z",
     "shell.execute_reply": "2021-01-27T18:08:09.003068Z"
    }
   },
   "outputs": [],
   "source": [
    "import numpy as np\n",
    "from scikeras.wrappers import KerasClassifier, KerasRegressor\n",
    "from tensorflow import keras"
   ]
  },
  {
   "cell_type": "markdown",
   "id": "recreational-adams",
   "metadata": {},
   "source": [
    "## 2. Training a classifier and making predictions\n",
    "\n",
    "### 2.1 A toy binary classification task\n",
    "\n",
    "We load a toy classification task from `sklearn`."
   ]
  },
  {
   "cell_type": "code",
   "execution_count": 4,
   "id": "italic-arrest",
   "metadata": {
    "execution": {
     "iopub.execute_input": "2021-01-27T18:08:09.008270Z",
     "iopub.status.busy": "2021-01-27T18:08:09.007621Z",
     "iopub.status.idle": "2021-01-27T18:08:09.037377Z",
     "shell.execute_reply": "2021-01-27T18:08:09.038285Z"
    }
   },
   "outputs": [],
   "source": [
    "import numpy as np\n",
    "from sklearn.datasets import make_classification"
   ]
  },
  {
   "cell_type": "code",
   "execution_count": 5,
   "id": "downtown-gossip",
   "metadata": {
    "execution": {
     "iopub.execute_input": "2021-01-27T18:08:09.043423Z",
     "iopub.status.busy": "2021-01-27T18:08:09.042851Z",
     "iopub.status.idle": "2021-01-27T18:08:09.053923Z",
     "shell.execute_reply": "2021-01-27T18:08:09.053231Z"
    }
   },
   "outputs": [],
   "source": [
    "X, y = make_classification(1000, 20, n_informative=10, random_state=0)"
   ]
  },
  {
   "cell_type": "code",
   "execution_count": 6,
   "id": "afraid-helmet",
   "metadata": {
    "execution": {
     "iopub.execute_input": "2021-01-27T18:08:09.063394Z",
     "iopub.status.busy": "2021-01-27T18:08:09.062844Z",
     "iopub.status.idle": "2021-01-27T18:08:09.066008Z",
     "shell.execute_reply": "2021-01-27T18:08:09.066637Z"
    }
   },
   "outputs": [
    {
     "data": {
      "text/plain": [
       "((1000, 20), (1000,), 0.5)"
      ]
     },
     "execution_count": 1,
     "metadata": {},
     "output_type": "execute_result"
    }
   ],
   "source": [
    "X.shape, y.shape, y.mean()"
   ]
  },
  {
   "cell_type": "markdown",
   "id": "fantastic-walker",
   "metadata": {},
   "source": [
    "### 2.2 Definition of the Keras classification Model\n",
    "\n",
    "We define a vanilla neural network with.\n",
    "\n",
    "Because we are dealing with 2 classes, the output layer can be constructed in\n",
    "two different ways:\n",
    "\n",
    "1. Single unit with a `\"sigmoid\"` nonlinearity. The loss must be `\"binary_crossentropy\"`.\n",
    "2. Two units (one for each class) and a `\"softmax\"` nonlinearity. The loss must be `\"sparse_categorical_crossentropy\"`.\n",
    "\n",
    "In this example, we choose the first option, which is what you would usually\n",
    "do for binary classification. The second option is usually reserved for when\n",
    "you have >2 classes."
   ]
  },
  {
   "cell_type": "code",
   "execution_count": 7,
   "id": "fifteen-revision",
   "metadata": {
    "execution": {
     "iopub.execute_input": "2021-01-27T18:08:09.075473Z",
     "iopub.status.busy": "2021-01-27T18:08:09.071375Z",
     "iopub.status.idle": "2021-01-27T18:08:09.076239Z",
     "shell.execute_reply": "2021-01-27T18:08:09.076719Z"
    }
   },
   "outputs": [],
   "source": [
    "from tensorflow import keras"
   ]
  },
  {
   "cell_type": "code",
   "execution_count": 8,
   "id": "maritime-regression",
   "metadata": {
    "execution": {
     "iopub.execute_input": "2021-01-27T18:08:09.086349Z",
     "iopub.status.busy": "2021-01-27T18:08:09.085725Z",
     "iopub.status.idle": "2021-01-27T18:08:09.088731Z",
     "shell.execute_reply": "2021-01-27T18:08:09.089545Z"
    }
   },
   "outputs": [],
   "source": [
    "def get_clf(meta, hidden_layer_sizes, dropout):\n",
    "    n_features_in_ = meta[\"n_features_in_\"]\n",
    "    n_classes_ = meta[\"n_classes_\"]\n",
    "    model = keras.models.Sequential()\n",
    "    model.add(keras.layers.Input(shape=(n_features_in_,)))\n",
    "    for hidden_layer_size in hidden_layer_sizes:\n",
    "        model.add(keras.layers.Dense(hidden_layer_size, activation=\"relu\"))\n",
    "        model.add(keras.layers.Dropout(dropout))\n",
    "    model.add(keras.layers.Dense(1, activation=\"sigmoid\"))\n",
    "    return model"
   ]
  },
  {
   "cell_type": "markdown",
   "id": "fabulous-virginia",
   "metadata": {},
   "source": [
    "### 2.3 Defining and training the neural net classifier\n",
    "\n",
    "We use `KerasClassifier` because we're dealing with a classifcation task. The first argument should be a callable returning a `Keras.Model`, in this case, `get_clf`. As additional arguments, we pass the number of loss function (required) and the optimizer, but the later is optional. We must also pass all of the arguments to `get_clf` as keyword arguments to `KerasClassifier` if they don't have a default value in `get_clf`. Note that if you do not pass an argument to `KerasClassifier`, it will not be avilable for hyperparameter tuning. Finally, we also pass `random_state=0` for reproducible results."
   ]
  },
  {
   "cell_type": "code",
   "execution_count": 9,
   "id": "ultimate-casting",
   "metadata": {
    "execution": {
     "iopub.execute_input": "2021-01-27T18:08:09.093814Z",
     "iopub.status.busy": "2021-01-27T18:08:09.091877Z",
     "iopub.status.idle": "2021-01-27T18:08:09.096129Z",
     "shell.execute_reply": "2021-01-27T18:08:09.097401Z"
    }
   },
   "outputs": [],
   "source": [
    "from scikeras.wrappers import KerasClassifier"
   ]
  },
  {
   "cell_type": "code",
   "execution_count": 10,
   "id": "partial-solomon",
   "metadata": {
    "execution": {
     "iopub.execute_input": "2021-01-27T18:08:09.101690Z",
     "iopub.status.busy": "2021-01-27T18:08:09.101175Z",
     "iopub.status.idle": "2021-01-27T18:08:09.104518Z",
     "shell.execute_reply": "2021-01-27T18:08:09.105050Z"
    }
   },
   "outputs": [],
   "source": [
    "clf = KerasClassifier(\n",
    "    model=get_clf,\n",
    "    loss=\"binary_crossentropy\",\n",
    "    optimizer=\"adam\",\n",
    "    hidden_layer_sizes=(100,),\n",
    "    dropout=0.5,\n",
    ")"
   ]
  },
  {
   "cell_type": "markdown",
   "id": "banned-craft",
   "metadata": {},
   "source": [
    "As in `sklearn`, we call `fit` passing the input data `X` and the targets `y`."
   ]
  },
  {
   "cell_type": "code",
   "execution_count": 11,
   "id": "necessary-indonesian",
   "metadata": {
    "execution": {
     "iopub.execute_input": "2021-01-27T18:08:09.115844Z",
     "iopub.status.busy": "2021-01-27T18:08:09.115296Z",
     "iopub.status.idle": "2021-01-27T18:08:09.677217Z",
     "shell.execute_reply": "2021-01-27T18:08:09.678121Z"
    }
   },
   "outputs": [
    {
     "name": "stdout",
     "output_type": "stream",
     "text": [
      "\r",
      " 1/32 [..............................] - ETA: 12s - loss: 0.8362"
     ]
    },
    {
     "name": "stdout",
     "output_type": "stream",
     "text": [
      "\b\b\b\b\b\b\b\b\b\b\b\b\b\b\b\b\b\b\b\b\b\b\b\b\b\b\b\b\b\b\b\b\b\b\b\b\b\b\b\b\b\b\b\b\b\b\b\b\b\b\b\b\b\b\b\b\b\b\b\b\b\b\b\b\r",
      "32/32 [==============================] - 0s 1ms/step - loss: 0.8989\n"
     ]
    },
    {
     "data": {
      "text/plain": [
       "KerasClassifier(\n",
       "\tmodel=<function get_clf at 0x7fb73b53d820>\n",
       "\tbuild_fn=None\n",
       "\twarm_start=False\n",
       "\trandom_state=None\n",
       "\toptimizer=adam\n",
       "\tloss=binary_crossentropy\n",
       "\tmetrics=None\n",
       "\tbatch_size=None\n",
       "\tverbose=1\n",
       "\tcallbacks=None\n",
       "\tvalidation_split=0.0\n",
       "\tshuffle=True\n",
       "\trun_eagerly=False\n",
       "\tepochs=1\n",
       "\thidden_layer_sizes=(100,)\n",
       "\tdropout=0.5\n",
       "\tclass_weight=None\n",
       ")"
      ]
     },
     "execution_count": 1,
     "metadata": {},
     "output_type": "execute_result"
    }
   ],
   "source": [
    "clf.fit(X, y)"
   ]
  },
  {
   "cell_type": "markdown",
   "id": "deadly-stomach",
   "metadata": {},
   "source": [
    "Also, as in `sklearn`, you may call `predict` or `predict_proba` on the fitted model.\n",
    "\n",
    "### 2.4 Making predictions, classification"
   ]
  },
  {
   "cell_type": "code",
   "execution_count": 12,
   "id": "documentary-service",
   "metadata": {
    "execution": {
     "iopub.execute_input": "2021-01-27T18:08:09.682379Z",
     "iopub.status.busy": "2021-01-27T18:08:09.681159Z",
     "iopub.status.idle": "2021-01-27T18:08:09.792941Z",
     "shell.execute_reply": "2021-01-27T18:08:09.793997Z"
    }
   },
   "outputs": [
    {
     "name": "stdout",
     "output_type": "stream",
     "text": [
      "\r",
      "1/1 [==============================] - ETA: 0s"
     ]
    },
    {
     "name": "stdout",
     "output_type": "stream",
     "text": [
      "\b\b\b\b\b\b\b\b\b\b\b\b\b\b\b\b\b\b\b\b\b\b\b\b\b\b\b\b\b\b\b\b\b\b\b\b\b\b\b\b\b\b\b\b\b\b\r",
      "1/1 [==============================] - 0s 67ms/step\n"
     ]
    },
    {
     "data": {
      "text/plain": [
       "array([1, 0, 0, 0, 0])"
      ]
     },
     "execution_count": 1,
     "metadata": {},
     "output_type": "execute_result"
    }
   ],
   "source": [
    "y_pred = clf.predict(X[:5])\n",
    "y_pred"
   ]
  },
  {
   "cell_type": "code",
   "execution_count": 13,
   "id": "colored-variation",
   "metadata": {
    "execution": {
     "iopub.execute_input": "2021-01-27T18:08:09.800370Z",
     "iopub.status.busy": "2021-01-27T18:08:09.798676Z",
     "iopub.status.idle": "2021-01-27T18:08:09.880797Z",
     "shell.execute_reply": "2021-01-27T18:08:09.881672Z"
    }
   },
   "outputs": [
    {
     "name": "stdout",
     "output_type": "stream",
     "text": [
      "\r",
      "1/1 [==============================] - ETA: 0s"
     ]
    },
    {
     "name": "stdout",
     "output_type": "stream",
     "text": [
      "\b\b\b\b\b\b\b\b\b\b\b\b\b\b\b\b\b\b\b\b\b\b\b\b\b\b\b\b\b\b\b\b\b\b\b\b\b\b\b\b\b\b\b\b\b\b\r",
      "1/1 [==============================] - 0s 27ms/step\n"
     ]
    },
    {
     "data": {
      "text/plain": [
       "array([[0.43536007, 0.5646399 ],\n",
       "       [0.64034307, 0.35965693],\n",
       "       [0.8363136 , 0.1636864 ],\n",
       "       [0.8747678 , 0.12523222],\n",
       "       [0.8626416 , 0.1373584 ]], dtype=float32)"
      ]
     },
     "execution_count": 1,
     "metadata": {},
     "output_type": "execute_result"
    }
   ],
   "source": [
    "y_proba = clf.predict_proba(X[:5])\n",
    "y_proba"
   ]
  },
  {
   "cell_type": "markdown",
   "id": "exposed-territory",
   "metadata": {},
   "source": [
    "## 3 Training a regressor\n",
    "\n",
    "### 3.1 A toy regression task"
   ]
  },
  {
   "cell_type": "code",
   "execution_count": 14,
   "id": "premium-anger",
   "metadata": {
    "execution": {
     "iopub.execute_input": "2021-01-27T18:08:09.886989Z",
     "iopub.status.busy": "2021-01-27T18:08:09.885463Z",
     "iopub.status.idle": "2021-01-27T18:08:09.892927Z",
     "shell.execute_reply": "2021-01-27T18:08:09.894014Z"
    }
   },
   "outputs": [],
   "source": [
    "from sklearn.datasets import make_regression"
   ]
  },
  {
   "cell_type": "code",
   "execution_count": 15,
   "id": "light-crack",
   "metadata": {
    "execution": {
     "iopub.execute_input": "2021-01-27T18:08:09.898194Z",
     "iopub.status.busy": "2021-01-27T18:08:09.896965Z",
     "iopub.status.idle": "2021-01-27T18:08:09.919529Z",
     "shell.execute_reply": "2021-01-27T18:08:09.918816Z"
    }
   },
   "outputs": [],
   "source": [
    "X_regr, y_regr = make_regression(1000, 20, n_informative=10, random_state=0)"
   ]
  },
  {
   "cell_type": "code",
   "execution_count": 16,
   "id": "recent-effectiveness",
   "metadata": {
    "execution": {
     "iopub.execute_input": "2021-01-27T18:08:09.926485Z",
     "iopub.status.busy": "2021-01-27T18:08:09.924885Z",
     "iopub.status.idle": "2021-01-27T18:08:09.933258Z",
     "shell.execute_reply": "2021-01-27T18:08:09.931693Z"
    }
   },
   "outputs": [
    {
     "data": {
      "text/plain": [
       "((1000, 20), (1000,), -649.0148244404172, 615.4505181286091)"
      ]
     },
     "execution_count": 1,
     "metadata": {},
     "output_type": "execute_result"
    }
   ],
   "source": [
    "X_regr.shape, y_regr.shape, y_regr.min(), y_regr.max()"
   ]
  },
  {
   "cell_type": "markdown",
   "id": "composite-baking",
   "metadata": {},
   "source": [
    "### 3.2 Definition of the Keras regression Model\n",
    "\n",
    "Again, define a vanilla neural network. The main difference is that the output layer always has a single unit and does not apply any nonlinearity."
   ]
  },
  {
   "cell_type": "code",
   "execution_count": 17,
   "id": "foreign-university",
   "metadata": {
    "execution": {
     "iopub.execute_input": "2021-01-27T18:08:09.943380Z",
     "iopub.status.busy": "2021-01-27T18:08:09.941604Z",
     "iopub.status.idle": "2021-01-27T18:08:09.946871Z",
     "shell.execute_reply": "2021-01-27T18:08:09.949227Z"
    }
   },
   "outputs": [],
   "source": [
    "def get_reg(meta, hidden_layer_sizes, dropout):\n",
    "    n_features_in_ = meta[\"n_features_in_\"]\n",
    "    model = keras.models.Sequential()\n",
    "    model.add(keras.layers.Input(shape=(n_features_in_,)))\n",
    "    for hidden_layer_size in hidden_layer_sizes:\n",
    "        model.add(keras.layers.Dense(hidden_layer_size, activation=\"relu\"))\n",
    "        model.add(keras.layers.Dropout(dropout))\n",
    "    model.add(keras.layers.Dense(1))\n",
    "    return model"
   ]
  },
  {
   "cell_type": "markdown",
   "id": "macro-teddy",
   "metadata": {},
   "source": [
    "### 3.3 Defining and training the neural net regressor\n",
    "\n",
    "Training a regressor is almost the same as training a classifier. Mainly, we use `KerasRegressor` instead of `KerasClassifier` (this is the same terminology as in `sklearn`). We also change the loss function to `KerasRegressor.r_squared`. SciKeras provides this loss function because most of the `sklearn` ecosystem expects `R^2` as the loss function, but Keras does not have a default implementation."
   ]
  },
  {
   "cell_type": "code",
   "execution_count": 18,
   "id": "complex-hepatitis",
   "metadata": {
    "execution": {
     "iopub.execute_input": "2021-01-27T18:08:09.955723Z",
     "iopub.status.busy": "2021-01-27T18:08:09.954017Z",
     "iopub.status.idle": "2021-01-27T18:08:09.959272Z",
     "shell.execute_reply": "2021-01-27T18:08:09.961653Z"
    }
   },
   "outputs": [],
   "source": [
    "from scikeras.wrappers import KerasRegressor"
   ]
  },
  {
   "cell_type": "code",
   "execution_count": 19,
   "id": "northern-drunk",
   "metadata": {
    "execution": {
     "iopub.execute_input": "2021-01-27T18:08:09.971250Z",
     "iopub.status.busy": "2021-01-27T18:08:09.968500Z",
     "iopub.status.idle": "2021-01-27T18:08:09.972939Z",
     "shell.execute_reply": "2021-01-27T18:08:09.976366Z"
    }
   },
   "outputs": [],
   "source": [
    "reg = KerasRegressor(\n",
    "    model=get_reg,\n",
    "    loss=KerasRegressor.r_squared,\n",
    "    optimizer=\"adam\",\n",
    "    hidden_layer_sizes=(100,),\n",
    "    dropout=0.5,\n",
    ")"
   ]
  },
  {
   "cell_type": "code",
   "execution_count": 20,
   "id": "rocky-cross",
   "metadata": {
    "execution": {
     "iopub.execute_input": "2021-01-27T18:08:09.981429Z",
     "iopub.status.busy": "2021-01-27T18:08:09.980687Z",
     "iopub.status.idle": "2021-01-27T18:08:10.588635Z",
     "shell.execute_reply": "2021-01-27T18:08:10.589474Z"
    }
   },
   "outputs": [
    {
     "name": "stdout",
     "output_type": "stream",
     "text": [
      "\r",
      " 1/32 [..............................] - ETA: 14s - loss: -0.1119"
     ]
    },
    {
     "name": "stdout",
     "output_type": "stream",
     "text": [
      "\b\b\b\b\b\b\b\b\b\b\b\b\b\b\b\b\b\b\b\b\b\b\b\b\b\b\b\b\b\b\b\b\b\b\b\b\b\b\b\b\b\b\b\b\b\b\b\b\b\b\b\b\b\b\b\b\b\b\b\b\b\b\b\b\b\r",
      "32/32 [==============================] - 1s 2ms/step - loss: -0.0349\n"
     ]
    },
    {
     "data": {
      "text/plain": [
       "KerasRegressor(\n",
       "\tmodel=<function get_reg at 0x7fb72f57dc10>\n",
       "\tbuild_fn=None\n",
       "\twarm_start=False\n",
       "\trandom_state=None\n",
       "\toptimizer=adam\n",
       "\tloss=<function KerasRegressor.r_squared at 0x7fb73b53d5e0>\n",
       "\tmetrics=None\n",
       "\tbatch_size=None\n",
       "\tverbose=1\n",
       "\tcallbacks=None\n",
       "\tvalidation_split=0.0\n",
       "\tshuffle=True\n",
       "\trun_eagerly=False\n",
       "\tepochs=1\n",
       "\thidden_layer_sizes=(100,)\n",
       "\tdropout=0.5\n",
       ")"
      ]
     },
     "execution_count": 1,
     "metadata": {},
     "output_type": "execute_result"
    }
   ],
   "source": [
    "reg.fit(X_regr, y_regr)"
   ]
  },
  {
   "cell_type": "markdown",
   "id": "southwest-kruger",
   "metadata": {},
   "source": [
    "### 3.4 Making predictions, regression\n",
    "\n",
    "You may call `predict` or `predict_proba` on the fitted model. For regressions, both methods return the same value."
   ]
  },
  {
   "cell_type": "code",
   "execution_count": 21,
   "id": "preliminary-polish",
   "metadata": {
    "execution": {
     "iopub.execute_input": "2021-01-27T18:08:10.593277Z",
     "iopub.status.busy": "2021-01-27T18:08:10.592240Z",
     "iopub.status.idle": "2021-01-27T18:08:10.688831Z",
     "shell.execute_reply": "2021-01-27T18:08:10.690256Z"
    }
   },
   "outputs": [
    {
     "name": "stdout",
     "output_type": "stream",
     "text": [
      "\r",
      "1/1 [==============================] - ETA: 0s"
     ]
    },
    {
     "name": "stdout",
     "output_type": "stream",
     "text": [
      "\b\b\b\b\b\b\b\b\b\b\b\b\b\b\b\b\b\b\b\b\b\b\b\b\b\b\b\b\b\b\b\b\b\b\b\b\b\b\b\b\b\b\b\b\b\b\r",
      "1/1 [==============================] - 0s 56ms/step\n"
     ]
    },
    {
     "data": {
      "text/plain": [
       "array([-0.39394546,  1.61079741, -0.4734199 ,  0.28117597, -0.14932171])"
      ]
     },
     "execution_count": 1,
     "metadata": {},
     "output_type": "execute_result"
    }
   ],
   "source": [
    "y_pred = reg.predict(X_regr[:5])\n",
    "y_pred"
   ]
  },
  {
   "cell_type": "markdown",
   "id": "civil-difference",
   "metadata": {},
   "source": [
    "## 4. Saving and loading a model\n",
    "\n",
    "Save and load either the whole model by using pickle, or use Keras' specialized save methods on the `KerasClassifier.model_` or `KerasRegressor.model_` attribute that is created after fitting. You will want to use Keras' model saving utilities if any of the following apply:\n",
    "\n",
    "1. You wish to save only the weights or only the training configuration of your model.\n",
    "2. You wish to share your model with collaborators. Pickle is a relatively unsafe protocol and it is not recommended to share or load pickle objects publically.\n",
    "3. You care about performance, especially if doing in-memory serialization.\n",
    "\n",
    "For more information, see Keras' [saving documentation](https://www.tensorflow.org/guide/keras/save_and_serialize).\n",
    "\n",
    "### 4.1 Saving the whole model"
   ]
  },
  {
   "cell_type": "code",
   "execution_count": 22,
   "id": "nearby-string",
   "metadata": {
    "execution": {
     "iopub.execute_input": "2021-01-27T18:08:10.698440Z",
     "iopub.status.busy": "2021-01-27T18:08:10.695693Z",
     "iopub.status.idle": "2021-01-27T18:08:10.700095Z",
     "shell.execute_reply": "2021-01-27T18:08:10.701146Z"
    }
   },
   "outputs": [],
   "source": [
    "import pickle"
   ]
  },
  {
   "cell_type": "code",
   "execution_count": 23,
   "id": "polish-genealogy",
   "metadata": {
    "execution": {
     "iopub.execute_input": "2021-01-27T18:08:10.707372Z",
     "iopub.status.busy": "2021-01-27T18:08:10.706081Z",
     "iopub.status.idle": "2021-01-27T18:08:11.246466Z",
     "shell.execute_reply": "2021-01-27T18:08:11.245967Z"
    }
   },
   "outputs": [],
   "source": [
    "bytes_model = pickle.dumps(reg)"
   ]
  },
  {
   "cell_type": "code",
   "execution_count": 24,
   "id": "vocal-patent",
   "metadata": {
    "execution": {
     "iopub.execute_input": "2021-01-27T18:08:11.252904Z",
     "iopub.status.busy": "2021-01-27T18:08:11.252188Z",
     "iopub.status.idle": "2021-01-27T18:08:11.566278Z",
     "shell.execute_reply": "2021-01-27T18:08:11.567037Z"
    }
   },
   "outputs": [
    {
     "data": {
      "text/plain": [
       "KerasRegressor(\n",
       "\tmodel=<function get_reg at 0x7fb72f57dc10>\n",
       "\tbuild_fn=None\n",
       "\twarm_start=False\n",
       "\trandom_state=None\n",
       "\toptimizer=adam\n",
       "\tloss=<function KerasRegressor.r_squared at 0x7fb73b53d5e0>\n",
       "\tmetrics=None\n",
       "\tbatch_size=None\n",
       "\tverbose=1\n",
       "\tcallbacks=None\n",
       "\tvalidation_split=0.0\n",
       "\tshuffle=True\n",
       "\trun_eagerly=False\n",
       "\tepochs=1\n",
       "\thidden_layer_sizes=(100,)\n",
       "\tdropout=0.5\n",
       ")"
      ]
     },
     "execution_count": 1,
     "metadata": {},
     "output_type": "execute_result"
    }
   ],
   "source": [
    "new_reg = pickle.loads(bytes_model)\n",
    "new_reg"
   ]
  },
  {
   "cell_type": "markdown",
   "id": "typical-begin",
   "metadata": {},
   "source": [
    "### 4.2 Saving using Keras' saving methods\n",
    "\n",
    "This efficiently and safely saves the model to disk, including trained weights.\n",
    "You should use this method if you plan on sharing your saved models."
   ]
  },
  {
   "cell_type": "code",
   "execution_count": 25,
   "id": "bacterial-russell",
   "metadata": {
    "execution": {
     "iopub.execute_input": "2021-01-27T18:08:11.571108Z",
     "iopub.status.busy": "2021-01-27T18:08:11.569882Z",
     "iopub.status.idle": "2021-01-27T18:08:12.141948Z",
     "shell.execute_reply": "2021-01-27T18:08:12.142700Z"
    }
   },
   "outputs": [],
   "source": [
    "# Save to disk\n",
    "reg.model_.save(\"/tmp/my_model\")"
   ]
  },
  {
   "cell_type": "code",
   "execution_count": 26,
   "id": "canadian-taste",
   "metadata": {
    "execution": {
     "iopub.execute_input": "2021-01-27T18:08:12.147456Z",
     "iopub.status.busy": "2021-01-27T18:08:12.146412Z",
     "iopub.status.idle": "2021-01-27T18:08:12.859717Z",
     "shell.execute_reply": "2021-01-27T18:08:12.858974Z"
    }
   },
   "outputs": [
    {
     "name": "stdout",
     "output_type": "stream",
     "text": [
      "\r",
      " 1/32 [..............................] - ETA: 10s - loss: -0.0277"
     ]
    },
    {
     "name": "stdout",
     "output_type": "stream",
     "text": [
      "\b\b\b\b\b\b\b\b\b\b\b\b\b\b\b\b\b\b\b\b\b\b\b\b\b\b\b\b\b\b\b\b\b\b\b\b\b\b\b\b\b\b\b\b\b\b\b\b\b\b\b\b\b\b\b\b\b\b\b\b\b\b\b\b\b\r",
      "32/32 [==============================] - 0s 1ms/step - loss: -0.0376\n"
     ]
    },
    {
     "name": "stdout",
     "output_type": "stream",
     "text": [
      "\r",
      "1/1 [==============================] - ETA: 0s"
     ]
    },
    {
     "name": "stdout",
     "output_type": "stream",
     "text": [
      "\b\b\b\b\b\b\b\b\b\b\b\b\b\b\b\b\b\b\b\b\b\b\b\b\b\b\b\b\b\b\b\b\b\b\b\b\b\b\b\b\b\b\b\b\b\b\r",
      "1/1 [==============================] - 0s 34ms/step\n"
     ]
    },
    {
     "data": {
      "text/plain": [
       "array([-0.64961565,  1.99405515, -0.47681117,  0.24554387, -0.14312378])"
      ]
     },
     "execution_count": 1,
     "metadata": {},
     "output_type": "execute_result"
    }
   ],
   "source": [
    "# Load the model back into memory\n",
    "new_reg_model = keras.models.load_model(\"/tmp/my_model\")\n",
    "# Now we need to instantiate a new SciKeras object with this model\n",
    "# Note that we no longer pass paramters like hidden_layer_sizes, those\n",
    "# are note \"fixed\"\n",
    "reg = KerasRegressor(\n",
    "    new_reg_model,\n",
    "    loss=KerasRegressor.r_squared,\n",
    "    optimizer=\"adam\",\n",
    ")\n",
    "reg.fit(X_regr, y_regr)\n",
    "reg.predict(X_regr[:5])"
   ]
  },
  {
   "cell_type": "markdown",
   "id": "everyday-material",
   "metadata": {},
   "source": [
    "## 5. Usage with an sklearn Pipeline\n",
    "\n",
    "It is possible to put the `KerasClassifier` inside an `sklearn Pipeline`, as you would with any `sklearn` classifier."
   ]
  },
  {
   "cell_type": "code",
   "execution_count": 27,
   "id": "pleasant-doubt",
   "metadata": {
    "execution": {
     "iopub.execute_input": "2021-01-27T18:08:12.865872Z",
     "iopub.status.busy": "2021-01-27T18:08:12.865200Z",
     "iopub.status.idle": "2021-01-27T18:08:12.869028Z",
     "shell.execute_reply": "2021-01-27T18:08:12.869781Z"
    }
   },
   "outputs": [],
   "source": [
    "from sklearn.pipeline import Pipeline\n",
    "from sklearn.preprocessing import StandardScaler"
   ]
  },
  {
   "cell_type": "code",
   "execution_count": 28,
   "id": "martial-oxide",
   "metadata": {
    "execution": {
     "iopub.execute_input": "2021-01-27T18:08:12.875099Z",
     "iopub.status.busy": "2021-01-27T18:08:12.874397Z",
     "iopub.status.idle": "2021-01-27T18:08:12.880124Z",
     "shell.execute_reply": "2021-01-27T18:08:12.879658Z"
    }
   },
   "outputs": [],
   "source": [
    "pipe = Pipeline([\n",
    "    ('scale', StandardScaler()),\n",
    "    ('clf', clf),\n",
    "])"
   ]
  },
  {
   "cell_type": "code",
   "execution_count": 29,
   "id": "revised-rental",
   "metadata": {
    "execution": {
     "iopub.execute_input": "2021-01-27T18:08:12.884690Z",
     "iopub.status.busy": "2021-01-27T18:08:12.883916Z",
     "iopub.status.idle": "2021-01-27T18:08:13.398670Z",
     "shell.execute_reply": "2021-01-27T18:08:13.399368Z"
    }
   },
   "outputs": [
    {
     "name": "stdout",
     "output_type": "stream",
     "text": [
      "\r",
      " 1/32 [..............................] - ETA: 12s - loss: 0.8589"
     ]
    },
    {
     "name": "stdout",
     "output_type": "stream",
     "text": [
      "\b\b\b\b\b\b\b\b\b\b\b\b\b\b\b\b\b\b\b\b\b\b\b\b\b\b\b\b\b\b\b\b\b\b\b\b\b\b\b\b\b\b\b\b\b\b\b\b\b\b\b\b\b\b\b\b\b\b\b\b\b\b\b\b\r",
      "32/32 [==============================] - 0s 2ms/step - loss: 0.7643\n"
     ]
    },
    {
     "data": {
      "text/plain": [
       "Pipeline(steps=[('scale', StandardScaler()),\n",
       "                ('clf',\n",
       "                 KerasClassifier(dropout=0.5, hidden_layer_sizes=(100,), loss='binary_crossentropy', model=<function get_clf at 0x7fb73b53d820>, optimizer='adam'))])"
      ]
     },
     "execution_count": 1,
     "metadata": {},
     "output_type": "execute_result"
    }
   ],
   "source": [
    "pipe.fit(X, y)"
   ]
  },
  {
   "cell_type": "code",
   "execution_count": 30,
   "id": "broadband-receipt",
   "metadata": {
    "execution": {
     "iopub.execute_input": "2021-01-27T18:08:13.402626Z",
     "iopub.status.busy": "2021-01-27T18:08:13.401452Z",
     "iopub.status.idle": "2021-01-27T18:08:13.479038Z",
     "shell.execute_reply": "2021-01-27T18:08:13.478272Z"
    }
   },
   "outputs": [
    {
     "name": "stdout",
     "output_type": "stream",
     "text": [
      "\r",
      "1/1 [==============================] - ETA: 0s"
     ]
    },
    {
     "name": "stdout",
     "output_type": "stream",
     "text": [
      "\b\b\b\b\b\b\b\b\b\b\b\b\b\b\b\b\b\b\b\b\b\b\b\b\b\b\b\b\b\b\b\b\b\b\b\b\b\b\b\b\b\b\b\b\b\b\r",
      "1/1 [==============================] - 0s 42ms/step\n"
     ]
    },
    {
     "data": {
      "text/plain": [
       "array([[0.4920534 , 0.5079466 ],\n",
       "       [0.47349364, 0.52650636],\n",
       "       [0.50785375, 0.49214628],\n",
       "       [0.50258565, 0.49741438],\n",
       "       [0.6492664 , 0.35073358]], dtype=float32)"
      ]
     },
     "execution_count": 1,
     "metadata": {},
     "output_type": "execute_result"
    }
   ],
   "source": [
    "y_proba = pipe.predict_proba(X[:5])\n",
    "y_proba"
   ]
  },
  {
   "cell_type": "markdown",
   "id": "metallic-patio",
   "metadata": {},
   "source": [
    "To save the whole pipeline, including the Keras model, use `pickle`.\n",
    "\n",
    "## 6. Callbacks\n",
    "\n",
    "Adding a new callback to the model is straightforward. Below we show how to add an `EarlyStopping` callback to prevent overfitting."
   ]
  },
  {
   "cell_type": "code",
   "execution_count": 31,
   "id": "communist-constitution",
   "metadata": {
    "execution": {
     "iopub.execute_input": "2021-01-27T18:08:13.482148Z",
     "iopub.status.busy": "2021-01-27T18:08:13.481566Z",
     "iopub.status.idle": "2021-01-27T18:08:13.485782Z",
     "shell.execute_reply": "2021-01-27T18:08:13.486927Z"
    }
   },
   "outputs": [],
   "source": [
    "es = keras.callbacks.EarlyStopping(monitor='val_binary_accuracy', mode='max', patience=200, verbose=1)"
   ]
  },
  {
   "cell_type": "markdown",
   "id": "expensive-least",
   "metadata": {},
   "source": [
    "We now generate a toy dataset using `sklearn.datasets.make_moons`. This dataset was chosen specifically to trigger early stopping."
   ]
  },
  {
   "cell_type": "code",
   "execution_count": 32,
   "id": "patent-precipitation",
   "metadata": {
    "execution": {
     "iopub.execute_input": "2021-01-27T18:08:13.492696Z",
     "iopub.status.busy": "2021-01-27T18:08:13.492137Z",
     "iopub.status.idle": "2021-01-27T18:08:13.497485Z",
     "shell.execute_reply": "2021-01-27T18:08:13.498017Z"
    }
   },
   "outputs": [],
   "source": [
    "from sklearn.datasets import make_moons"
   ]
  },
  {
   "cell_type": "code",
   "execution_count": 33,
   "id": "sunrise-placement",
   "metadata": {
    "execution": {
     "iopub.execute_input": "2021-01-27T18:08:13.505479Z",
     "iopub.status.busy": "2021-01-27T18:08:13.504891Z",
     "iopub.status.idle": "2021-01-27T18:08:13.509316Z",
     "shell.execute_reply": "2021-01-27T18:08:13.509990Z"
    }
   },
   "outputs": [
    {
     "data": {
      "text/plain": [
       "((100, 2), (100,))"
      ]
     },
     "execution_count": 1,
     "metadata": {},
     "output_type": "execute_result"
    }
   ],
   "source": [
    "X, y = make_moons(n_samples=100, noise=0.2, random_state=0)\n",
    "X.shape, y.shape"
   ]
  },
  {
   "cell_type": "markdown",
   "id": "national-fiction",
   "metadata": {},
   "source": [
    "We will first check fitting without the callback and then with. We will compare the training time and final accuracy."
   ]
  },
  {
   "cell_type": "code",
   "execution_count": 34,
   "id": "modular-wayne",
   "metadata": {
    "execution": {
     "iopub.execute_input": "2021-01-27T18:08:13.514282Z",
     "iopub.status.busy": "2021-01-27T18:08:13.513568Z",
     "iopub.status.idle": "2021-01-27T18:08:13.516302Z",
     "shell.execute_reply": "2021-01-27T18:08:13.516730Z"
    }
   },
   "outputs": [],
   "source": [
    "import time"
   ]
  },
  {
   "cell_type": "code",
   "execution_count": 35,
   "id": "political-titanium",
   "metadata": {
    "execution": {
     "iopub.execute_input": "2021-01-27T18:08:13.527799Z",
     "iopub.status.busy": "2021-01-27T18:08:13.527229Z",
     "iopub.status.idle": "2021-01-27T18:08:30.254250Z",
     "shell.execute_reply": "2021-01-27T18:08:30.253788Z"
    }
   },
   "outputs": [
    {
     "name": "stdout",
     "output_type": "stream",
     "text": [
      "Training time: 2.597805440164336e+18\n",
      "Final accuracy: 1.0\n"
     ]
    }
   ],
   "source": [
    "# First test without the callback\n",
    "clf = KerasClassifier(\n",
    "    model=get_clf,\n",
    "    loss=\"binary_crossentropy\",\n",
    "    optimizer=\"adam\",\n",
    "    hidden_layer_sizes=(500,),\n",
    "    dropout=0.5,\n",
    "    metrics=[\"binary_accuracy\"],\n",
    "    fit__validation_split=0.2,\n",
    "    epochs=500,\n",
    "    verbose=False,\n",
    ")\n",
    "start = time.time()\n",
    "clf.fit(X, y)\n",
    "print(f\"Training time: {time.time() * start}\")\n",
    "print(f\"Final accuracy: {clf.history_['val_binary_accuracy'][-1]}\")  # get last value of last fit/partial_fit call"
   ]
  },
  {
   "cell_type": "code",
   "execution_count": 36,
   "id": "urban-mauritius",
   "metadata": {
    "execution": {
     "iopub.execute_input": "2021-01-27T18:08:30.264117Z",
     "iopub.status.busy": "2021-01-27T18:08:30.262905Z",
     "iopub.status.idle": "2021-01-27T18:08:37.519918Z",
     "shell.execute_reply": "2021-01-27T18:08:37.519432Z"
    }
   },
   "outputs": [
    {
     "name": "stdout",
     "output_type": "stream",
     "text": [
      "Epoch 00202: early stopping\n",
      "Training time: 2.5978054788511365e+18\n",
      "Final accuracy: 1.0\n"
     ]
    }
   ],
   "source": [
    "# Test with the callback\n",
    "clf = KerasClassifier(\n",
    "    model=get_clf,\n",
    "    loss=\"binary_crossentropy\",\n",
    "    optimizer=\"adam\",\n",
    "    hidden_layer_sizes=(500,),\n",
    "    dropout=0.5,\n",
    "    metrics=[\"binary_accuracy\"],\n",
    "    fit__validation_split=0.2,\n",
    "    epochs=500,\n",
    "    verbose=False,\n",
    "    callbacks=[es]\n",
    ")\n",
    "start = time.time()\n",
    "clf.fit(X, y)\n",
    "print(f\"Training time: {time.time() * start}\")\n",
    "print(f\"Final accuracy: {clf.history_['val_binary_accuracy'][-1]}\")  # get last value of last fit/partial_fit call"
   ]
  },
  {
   "cell_type": "markdown",
   "id": "prerequisite-picnic",
   "metadata": {},
   "source": [
    "For information on how to write custom callbacks, have a look at the \n",
    "\n",
    "---\n",
    "\n",
    "[Advanced_Usage](https://nbviewer.jupyter.org/github/adriangb/scikeras/blob/master/notebooks/Advanced_Usage.ipynb) notebook.\n",
    "\n",
    "## 7. Usage with sklearn GridSearchCV\n",
    "\n",
    "### 7.1 Special prefixes\n",
    "\n",
    "SciKeras allows to direct access to all parameters passed to the wrapper constructors, including deeply nested routed parameters. This allows tunning of\n",
    "paramters like `hidden_layer_sizes` as well as `optimizer__learning_rate`.\n",
    "\n",
    "This is exactly the same logic that allows to access estimator parameters in `sklearn Pipeline`s and `FeatureUnion`s.\n",
    "\n",
    "This feature is useful in several ways. For one, it allows to set those parameters in the model definition. Furthermore, it allows you to set parameters in an `sklearn GridSearchCV` as shown below.\n",
    "\n",
    "To differentiate paramters like `callbacks` which are accepted by both `tf.keras.Model.fit` and `tf.keras.Model.predict` you can add a `fit__` or `predict__` routing suffix respectively. Similar, the `model__` prefix may be used to specify that a paramter is destined only for `get_clf`/`get_reg` (or whatever callable you pass as your `model` argument).\n",
    "\n",
    "For more information on parameter routing with special prefixes, see the [Advanced Usage Docs](https://scikeras.org.readthedocs.build/en/latest/advanced.html#routed-parameters)\n",
    "\n",
    "### 7.2 Performing a grid search\n",
    "\n",
    "Below we show how to perform a grid search over the learning rate (`optimizer__lr`), the model's number of hidden layers (`model__hidden_layer_sizes`), the model's dropout rate (`model__dropout`)."
   ]
  },
  {
   "cell_type": "code",
   "execution_count": 37,
   "id": "electoral-silly",
   "metadata": {
    "execution": {
     "iopub.execute_input": "2021-01-27T18:08:37.524531Z",
     "iopub.status.busy": "2021-01-27T18:08:37.523882Z",
     "iopub.status.idle": "2021-01-27T18:08:37.537833Z",
     "shell.execute_reply": "2021-01-27T18:08:37.538393Z"
    }
   },
   "outputs": [],
   "source": [
    "from sklearn.model_selection import GridSearchCV"
   ]
  },
  {
   "cell_type": "code",
   "execution_count": 38,
   "id": "distinguished-silly",
   "metadata": {
    "execution": {
     "iopub.execute_input": "2021-01-27T18:08:37.543565Z",
     "iopub.status.busy": "2021-01-27T18:08:37.543066Z",
     "iopub.status.idle": "2021-01-27T18:08:37.547552Z",
     "shell.execute_reply": "2021-01-27T18:08:37.548647Z"
    }
   },
   "outputs": [],
   "source": [
    "clf = KerasClassifier(\n",
    "    model=get_clf,\n",
    "    loss=\"binary_crossentropy\",\n",
    "    optimizer=\"adam\",\n",
    "    optimizer__lr=0.1,\n",
    "    model__hidden_layer_sizes=(100,),\n",
    "    model__dropout=0.5,\n",
    "    verbose=False,\n",
    ")"
   ]
  },
  {
   "cell_type": "markdown",
   "id": "honest-response",
   "metadata": {},
   "source": [
    "*Note*: We set the verbosity level to zero (`verbose=False`) to prevent too much print output from being shown."
   ]
  },
  {
   "cell_type": "code",
   "execution_count": 39,
   "id": "smooth-result",
   "metadata": {
    "execution": {
     "iopub.execute_input": "2021-01-27T18:08:37.553839Z",
     "iopub.status.busy": "2021-01-27T18:08:37.553273Z",
     "iopub.status.idle": "2021-01-27T18:08:37.559163Z",
     "shell.execute_reply": "2021-01-27T18:08:37.560136Z"
    }
   },
   "outputs": [],
   "source": [
    "params = {\n",
    "    'optimizer__lr': [0.05, 0.1],\n",
    "    'model__hidden_layer_sizes': [(100, ), (50, 50, ), (33, 33, 33, )],\n",
    "    'model__dropout': [0, 0.5],\n",
    "}"
   ]
  },
  {
   "cell_type": "code",
   "execution_count": 40,
   "id": "coordinate-cursor",
   "metadata": {
    "execution": {
     "iopub.execute_input": "2021-01-27T18:08:37.565428Z",
     "iopub.status.busy": "2021-01-27T18:08:37.563776Z",
     "iopub.status.idle": "2021-01-27T18:08:37.572284Z",
     "shell.execute_reply": "2021-01-27T18:08:37.572824Z"
    }
   },
   "outputs": [],
   "source": [
    "gs = GridSearchCV(clf, params, scoring='accuracy', n_jobs=-1, verbose=True)"
   ]
  },
  {
   "cell_type": "code",
   "execution_count": 41,
   "id": "flush-liabilities",
   "metadata": {
    "execution": {
     "iopub.execute_input": "2021-01-27T18:08:37.579495Z",
     "iopub.status.busy": "2021-01-27T18:08:37.578853Z",
     "iopub.status.idle": "2021-01-27T18:09:18.366045Z",
     "shell.execute_reply": "2021-01-27T18:09:18.366555Z"
    }
   },
   "outputs": [
    {
     "name": "stdout",
     "output_type": "stream",
     "text": [
      "Fitting 5 folds for each of 12 candidates, totalling 60 fits\n"
     ]
    },
    {
     "data": {
      "text/plain": [
       "GridSearchCV(estimator=KerasClassifier(loss='binary_crossentropy', model=<function get_clf at 0x7fb73b53d820>, model__dropout=0.5, model__hidden_layer_sizes=(100,), optimizer='adam', optimizer__lr=0.1, verbose=False),\n",
       "             n_jobs=-1,\n",
       "             param_grid={'model__dropout': [0, 0.5],\n",
       "                         'model__hidden_layer_sizes': [(100,), (50, 50),\n",
       "                                                       (33, 33, 33)],\n",
       "                         'optimizer__lr': [0.05, 0.1]},\n",
       "             scoring='accuracy', verbose=True)"
      ]
     },
     "execution_count": 1,
     "metadata": {},
     "output_type": "execute_result"
    }
   ],
   "source": [
    "gs.fit(X, y)"
   ]
  },
  {
   "cell_type": "code",
   "execution_count": 42,
   "id": "bored-transformation",
   "metadata": {
    "execution": {
     "iopub.execute_input": "2021-01-27T18:09:18.369738Z",
     "iopub.status.busy": "2021-01-27T18:09:18.369014Z",
     "iopub.status.idle": "2021-01-27T18:09:18.377821Z",
     "shell.execute_reply": "2021-01-27T18:09:18.378597Z"
    }
   },
   "outputs": [
    {
     "name": "stdout",
     "output_type": "stream",
     "text": [
      "0.8800000000000001 {'model__dropout': 0, 'model__hidden_layer_sizes': (50, 50), 'optimizer__lr': 0.05}\n"
     ]
    }
   ],
   "source": [
    "print(gs.best_score_, gs.best_params_)"
   ]
  },
  {
   "cell_type": "markdown",
   "id": "educated-times",
   "metadata": {},
   "source": [
    "Of course, we could further nest the `KerasClassifier` within an `sklearn Pipeline`, in which case we just prefix the parameter by the name of the net (e.g. `clf__model__hidden_layer_sizes`)."
   ]
  }
 ],
 "metadata": {
  "jupytext": {
   "formats": "ipynb,md"
  },
  "kernelspec": {
   "display_name": "Python 3",
   "language": "python",
   "name": "python3"
  },
  "language_info": {
   "codemirror_mode": {
    "name": "ipython",
    "version": 3
   },
   "file_extension": ".py",
   "mimetype": "text/x-python",
   "name": "python",
   "nbconvert_exporter": "python",
   "pygments_lexer": "ipython3",
   "version": "3.8.6"
  }
 },
 "nbformat": 4,
 "nbformat_minor": 5
}
