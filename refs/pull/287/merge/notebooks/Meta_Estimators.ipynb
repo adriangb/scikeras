{
 "cells": [
  {
   "cell_type": "raw",
   "id": "454851dd",
   "metadata": {},
   "source": [
    "<a href=\"https://colab.research.google.com/github/adriangb/scikeras/blob/docs-deploy/refs/heads/master/notebooks/Meta_Estimators.ipynb\"><img src=\"https://www.tensorflow.org/images/colab_logo_32px.png\">Run in Google Colab</a>"
   ]
  },
  {
   "cell_type": "markdown",
   "id": "9fb9a0cb",
   "metadata": {},
   "source": [
    "# Meta Estimators in SciKeras\n",
    "\n",
    "In this notebook, we implement sklearn ensemble and tree meta-estimators backed by a Keras MLP model.\n",
    "\n",
    "## Table of contents\n",
    "\n",
    "* [1. Setup](#1.-Setup)\n",
    "* [2. Defining the Keras Model](#2.-Defining-the-Keras-Model)\n",
    "  * [2.1 Building a boosting ensemble](#2.1-Building-a-boosting-ensemble)\n",
    "* [3. Testing with a toy dataset](#3.-Testing-with-a-toy-dataset)\n",
    "* [4. Bagging ensemble](#4.-Bagging-ensemble)\n",
    "\n",
    "## 1. Setup"
   ]
  },
  {
   "cell_type": "code",
   "execution_count": 1,
   "id": "0f8ba3d9",
   "metadata": {
    "execution": {
     "iopub.execute_input": "2022-12-12T05:19:49.174499Z",
     "iopub.status.busy": "2022-12-12T05:19:49.174219Z",
     "iopub.status.idle": "2022-12-12T05:19:51.678235Z",
     "shell.execute_reply": "2022-12-12T05:19:51.677485Z"
    }
   },
   "outputs": [],
   "source": [
    "try:\n",
    "    import scikeras\n",
    "except ImportError:\n",
    "    !python -m pip install scikeras[tensorflow]"
   ]
  },
  {
   "cell_type": "markdown",
   "id": "d7bbe4a1",
   "metadata": {},
   "source": [
    "Silence TensorFlow logging to keep output succinct."
   ]
  },
  {
   "cell_type": "code",
   "execution_count": 2,
   "id": "6f6b47e7",
   "metadata": {
    "execution": {
     "iopub.execute_input": "2022-12-12T05:19:51.685400Z",
     "iopub.status.busy": "2022-12-12T05:19:51.683275Z",
     "iopub.status.idle": "2022-12-12T05:19:51.692882Z",
     "shell.execute_reply": "2022-12-12T05:19:51.692262Z"
    }
   },
   "outputs": [],
   "source": [
    "import warnings\n",
    "from tensorflow import get_logger\n",
    "get_logger().setLevel('ERROR')\n",
    "warnings.filterwarnings(\"ignore\", message=\"Setting the random state for TF\")"
   ]
  },
  {
   "cell_type": "code",
   "execution_count": 3,
   "id": "420a36f0",
   "metadata": {
    "execution": {
     "iopub.execute_input": "2022-12-12T05:19:51.697675Z",
     "iopub.status.busy": "2022-12-12T05:19:51.696461Z",
     "iopub.status.idle": "2022-12-12T05:19:51.988109Z",
     "shell.execute_reply": "2022-12-12T05:19:51.987222Z"
    }
   },
   "outputs": [],
   "source": [
    "import numpy as np\n",
    "from scikeras.wrappers import KerasClassifier, KerasRegressor\n",
    "from tensorflow import keras"
   ]
  },
  {
   "cell_type": "markdown",
   "id": "6ac1d601",
   "metadata": {},
   "source": [
    "## 2. Defining the Keras Model\n",
    "\n",
    "We borrow our MLPClassifier implementation from the [MLPClassifier notebook](https://colab.research.google.com/github/adriangb/scikeras/blob/master/notebooks/MLPClassifier_and_MLPRegressor.ipynb)."
   ]
  },
  {
   "cell_type": "code",
   "execution_count": 4,
   "id": "174db85c",
   "metadata": {
    "execution": {
     "iopub.execute_input": "2022-12-12T05:19:51.993656Z",
     "iopub.status.busy": "2022-12-12T05:19:51.992432Z",
     "iopub.status.idle": "2022-12-12T05:19:52.004072Z",
     "shell.execute_reply": "2022-12-12T05:19:52.001773Z"
    }
   },
   "outputs": [],
   "source": [
    "from typing import Dict, Iterable, Any\n",
    "\n",
    "\n",
    "def get_clf_model(hidden_layer_sizes: Iterable[int], meta: Dict[str, Any], compile_kwargs: Dict[str, Any]):\n",
    "    model = keras.Sequential()\n",
    "    inp = keras.layers.Input(shape=(meta[\"n_features_in_\"]))\n",
    "    model.add(inp)\n",
    "    for hidden_layer_size in hidden_layer_sizes:\n",
    "        layer = keras.layers.Dense(hidden_layer_size, activation=\"relu\")\n",
    "        model.add(layer)\n",
    "    if meta[\"target_type_\"] == \"binary\":\n",
    "        n_output_units = 1\n",
    "        output_activation = \"sigmoid\"\n",
    "        loss = \"binary_crossentropy\"\n",
    "    elif meta[\"target_type_\"] == \"multiclass\":\n",
    "        n_output_units = meta[\"n_classes_\"]\n",
    "        output_activation = \"softmax\"\n",
    "        loss = \"sparse_categorical_crossentropy\"\n",
    "    else:\n",
    "        raise NotImplementedError(f\"Unsupported task type: {meta['target_type_']}\")\n",
    "    out = keras.layers.Dense(n_output_units, activation=output_activation)\n",
    "    model.add(out)\n",
    "    model.compile(loss=loss, optimizer=compile_kwargs[\"optimizer\"])\n",
    "    return model"
   ]
  },
  {
   "cell_type": "markdown",
   "id": "37bf841b",
   "metadata": {},
   "source": [
    "Next we wrap this Keras model with SciKeras"
   ]
  },
  {
   "cell_type": "code",
   "execution_count": 5,
   "id": "c2656d3c",
   "metadata": {
    "execution": {
     "iopub.execute_input": "2022-12-12T05:19:52.011417Z",
     "iopub.status.busy": "2022-12-12T05:19:52.010028Z",
     "iopub.status.idle": "2022-12-12T05:19:52.018857Z",
     "shell.execute_reply": "2022-12-12T05:19:52.015795Z"
    }
   },
   "outputs": [],
   "source": [
    "clf = KerasClassifier(\n",
    "    model=get_clf_model,\n",
    "    hidden_layer_sizes=(100, ),\n",
    "    optimizer=\"adam\",\n",
    "    optimizer__learning_rate=0.001,\n",
    "    verbose=0,\n",
    "    random_state=0,\n",
    ")"
   ]
  },
  {
   "cell_type": "markdown",
   "id": "d275cfbf",
   "metadata": {},
   "source": [
    "### 2.1 Building a boosting ensemble\n",
    "\n",
    "Because SciKeras estimators are fully compliant with the Scikit-Learn API, we can make use of Scikit-Learn's built in utilities. In particular example, we will use `AdaBoostClassifier` from `sklearn.ensemble.AdaBoostClassifier`, but the process is the same for most Scikit-Learn meta-estimators.\n"
   ]
  },
  {
   "cell_type": "code",
   "execution_count": 6,
   "id": "80887379",
   "metadata": {
    "execution": {
     "iopub.execute_input": "2022-12-12T05:19:52.024477Z",
     "iopub.status.busy": "2022-12-12T05:19:52.022764Z",
     "iopub.status.idle": "2022-12-12T05:19:52.186438Z",
     "shell.execute_reply": "2022-12-12T05:19:52.185744Z"
    }
   },
   "outputs": [],
   "source": [
    "from sklearn.ensemble import AdaBoostClassifier\n",
    "\n",
    "\n",
    "adaboost = AdaBoostClassifier(base_estimator=clf, random_state=0)"
   ]
  },
  {
   "cell_type": "markdown",
   "id": "817a632e",
   "metadata": {},
   "source": [
    "## 3. Testing with a toy dataset\n",
    "\n",
    "Before continouing, we will run a small test to make sure we get somewhat reasonable results.\n"
   ]
  },
  {
   "cell_type": "code",
   "execution_count": 7,
   "id": "dc4f14bf",
   "metadata": {
    "execution": {
     "iopub.execute_input": "2022-12-12T05:19:52.191906Z",
     "iopub.status.busy": "2022-12-12T05:19:52.190615Z",
     "iopub.status.idle": "2022-12-12T05:20:48.928296Z",
     "shell.execute_reply": "2022-12-12T05:20:48.926557Z"
    }
   },
   "outputs": [
    {
     "name": "stdout",
     "output_type": "stream",
     "text": [
      "Single score: 0.50\n",
      "AdaBoost score: 0.87\n"
     ]
    }
   ],
   "source": [
    "from sklearn.datasets import make_moons\n",
    "\n",
    "\n",
    "X, y = make_moons()\n",
    "\n",
    "single_score = clf.fit(X, y).score(X, y)\n",
    "\n",
    "adaboost_score = adaboost.fit(X, y).score(X, y)\n",
    "\n",
    "print(f\"Single score: {single_score:.2f}\")\n",
    "print(f\"AdaBoost score: {adaboost_score:.2f}\")"
   ]
  },
  {
   "cell_type": "markdown",
   "id": "7c419d7e",
   "metadata": {},
   "source": [
    "We see that the score for the AdaBoost classifier is slightly higher than that of an individual MLPRegressor instance. We can explore the individual classifiers, and see that each one is composed of a Keras Model with it's own individual weights.\n"
   ]
  },
  {
   "cell_type": "code",
   "execution_count": 8,
   "id": "42706dd9",
   "metadata": {
    "execution": {
     "iopub.execute_input": "2022-12-12T05:20:48.932558Z",
     "iopub.status.busy": "2022-12-12T05:20:48.932062Z",
     "iopub.status.idle": "2022-12-12T05:20:48.945230Z",
     "shell.execute_reply": "2022-12-12T05:20:48.944072Z"
    }
   },
   "outputs": [
    {
     "name": "stdout",
     "output_type": "stream",
     "text": [
      "[-0.00956719  0.04637986  0.08623724 -0.20466588  0.11058595]\n",
      "[ 0.22987697  0.20127049  0.21424267  0.03186983 -0.09949458]\n"
     ]
    }
   ],
   "source": [
    "print(adaboost.estimators_[0].model_.get_weights()[0][0, :5])  # first sub-estimator\n",
    "print(adaboost.estimators_[1].model_.get_weights()[0][0, :5])  # second sub-estimator"
   ]
  },
  {
   "cell_type": "markdown",
   "id": "2be46815",
   "metadata": {},
   "source": [
    "## 4. Bagging ensemble\n",
    "\n",
    "For comparison, we run the same test with an ensemble built using `sklearn.ensemble.BaggingClassifier`."
   ]
  },
  {
   "cell_type": "code",
   "execution_count": 9,
   "id": "8aa5808d",
   "metadata": {
    "execution": {
     "iopub.execute_input": "2022-12-12T05:20:48.949244Z",
     "iopub.status.busy": "2022-12-12T05:20:48.948502Z",
     "iopub.status.idle": "2022-12-12T05:21:19.131249Z",
     "shell.execute_reply": "2022-12-12T05:21:19.130391Z"
    }
   },
   "outputs": [
    {
     "name": "stderr",
     "output_type": "stream",
     "text": [
      "WARNING:absl:Found untraced functions such as _update_step_xla while saving (showing 1 of 1). These functions will not be directly callable after loading.\n"
     ]
    },
    {
     "name": "stderr",
     "output_type": "stream",
     "text": [
      "WARNING:absl:Found untraced functions such as _update_step_xla while saving (showing 1 of 1). These functions will not be directly callable after loading.\n"
     ]
    },
    {
     "name": "stderr",
     "output_type": "stream",
     "text": [
      "WARNING:tensorflow:5 out of the last 9 calls to <function Model.make_train_function.<locals>.train_function at 0x7f2e4898b8b0> triggered tf.function retracing. Tracing is expensive and the excessive number of tracings could be due to (1) creating @tf.function repeatedly in a loop, (2) passing tensors with different shapes, (3) passing Python objects instead of tensors. For (1), please define your @tf.function outside of the loop. For (2), @tf.function has reduce_retracing=True option that can avoid unnecessary retracing. For (3), please refer to https://www.tensorflow.org/guide/function#controlling_retracing and https://www.tensorflow.org/api_docs/python/tf/function for  more details.\n"
     ]
    },
    {
     "name": "stderr",
     "output_type": "stream",
     "text": [
      "WARNING:absl:Found untraced functions such as _update_step_xla while saving (showing 1 of 1). These functions will not be directly callable after loading.\n"
     ]
    },
    {
     "name": "stderr",
     "output_type": "stream",
     "text": [
      "WARNING:tensorflow:5 out of the last 10 calls to <function Model.make_train_function.<locals>.train_function at 0x7f0d30cc9820> triggered tf.function retracing. Tracing is expensive and the excessive number of tracings could be due to (1) creating @tf.function repeatedly in a loop, (2) passing tensors with different shapes, (3) passing Python objects instead of tensors. For (1), please define your @tf.function outside of the loop. For (2), @tf.function has reduce_retracing=True option that can avoid unnecessary retracing. For (3), please refer to https://www.tensorflow.org/guide/function#controlling_retracing and https://www.tensorflow.org/api_docs/python/tf/function for  more details.\n"
     ]
    },
    {
     "name": "stderr",
     "output_type": "stream",
     "text": [
      "WARNING:absl:Found untraced functions such as _update_step_xla while saving (showing 1 of 1). These functions will not be directly callable after loading.\n"
     ]
    },
    {
     "name": "stderr",
     "output_type": "stream",
     "text": [
      "WARNING:absl:Found untraced functions such as _update_step_xla while saving (showing 1 of 1). These functions will not be directly callable after loading.\n"
     ]
    },
    {
     "name": "stderr",
     "output_type": "stream",
     "text": [
      "WARNING:absl:Found untraced functions such as _update_step_xla while saving (showing 1 of 1). These functions will not be directly callable after loading.\n",
      "WARNING:absl:Found untraced functions such as _update_step_xla while saving (showing 1 of 1). These functions will not be directly callable after loading.\n"
     ]
    },
    {
     "name": "stderr",
     "output_type": "stream",
     "text": [
      "WARNING:absl:Found untraced functions such as _update_step_xla while saving (showing 1 of 1). These functions will not be directly callable after loading.\n"
     ]
    },
    {
     "name": "stderr",
     "output_type": "stream",
     "text": [
      "WARNING:absl:Found untraced functions such as _update_step_xla while saving (showing 1 of 1). These functions will not be directly callable after loading.\n"
     ]
    },
    {
     "name": "stderr",
     "output_type": "stream",
     "text": [
      "WARNING:absl:Found untraced functions such as _update_step_xla while saving (showing 1 of 1). These functions will not be directly callable after loading.\n"
     ]
    },
    {
     "name": "stderr",
     "output_type": "stream",
     "text": [
      "WARNING:absl:Found untraced functions such as _update_step_xla while saving (showing 1 of 1). These functions will not be directly callable after loading.\n"
     ]
    },
    {
     "name": "stderr",
     "output_type": "stream",
     "text": [
      "WARNING:tensorflow:Detecting that an object or model or tf.train.Checkpoint is being deleted with unrestored values. See the following logs for the specific values in question. To silence these warnings, use `status.expect_partial()`. See https://www.tensorflow.org/api_docs/python/tf/train/Checkpoint#restorefor details about the status object returned by the restore function.\n",
      "WARNING:tensorflow:Detecting that an object or model or tf.train.Checkpoint is being deleted with unrestored values. See the following logs for the specific values in question. To silence these warnings, use `status.expect_partial()`. See https://www.tensorflow.org/api_docs/python/tf/train/Checkpoint#restorefor details about the status object returned by the restore function.\n",
      "WARNING:tensorflow:Value in checkpoint could not be found in the restored object: (root).keras_api.metrics.0.total\n",
      "WARNING:tensorflow:Value in checkpoint could not be found in the restored object: (root).keras_api.metrics.0.total\n",
      "WARNING:tensorflow:Value in checkpoint could not be found in the restored object: (root).keras_api.metrics.0.count\n",
      "WARNING:tensorflow:Value in checkpoint could not be found in the restored object: (root).keras_api.metrics.0.count\n",
      "WARNING:absl:Found untraced functions such as _update_step_xla while saving (showing 1 of 1). These functions will not be directly callable after loading.\n"
     ]
    },
    {
     "name": "stderr",
     "output_type": "stream",
     "text": [
      "WARNING:tensorflow:Detecting that an object or model or tf.train.Checkpoint is being deleted with unrestored values. See the following logs for the specific values in question. To silence these warnings, use `status.expect_partial()`. See https://www.tensorflow.org/api_docs/python/tf/train/Checkpoint#restorefor details about the status object returned by the restore function.\n",
      "WARNING:tensorflow:Detecting that an object or model or tf.train.Checkpoint is being deleted with unrestored values. See the following logs for the specific values in question. To silence these warnings, use `status.expect_partial()`. See https://www.tensorflow.org/api_docs/python/tf/train/Checkpoint#restorefor details about the status object returned by the restore function.\n",
      "WARNING:tensorflow:Value in checkpoint could not be found in the restored object: (root).keras_api.metrics.0.total\n",
      "WARNING:tensorflow:Value in checkpoint could not be found in the restored object: (root).keras_api.metrics.0.total\n",
      "WARNING:tensorflow:Value in checkpoint could not be found in the restored object: (root).keras_api.metrics.0.count\n",
      "WARNING:tensorflow:Value in checkpoint could not be found in the restored object: (root).keras_api.metrics.0.count\n"
     ]
    },
    {
     "name": "stderr",
     "output_type": "stream",
     "text": [
      "WARNING:absl:Found untraced functions such as _update_step_xla while saving (showing 1 of 1). These functions will not be directly callable after loading.\n"
     ]
    },
    {
     "name": "stderr",
     "output_type": "stream",
     "text": [
      "WARNING:absl:Found untraced functions such as _update_step_xla while saving (showing 1 of 1). These functions will not be directly callable after loading.\n"
     ]
    },
    {
     "name": "stderr",
     "output_type": "stream",
     "text": [
      "WARNING:absl:Found untraced functions such as _update_step_xla while saving (showing 1 of 1). These functions will not be directly callable after loading.\n"
     ]
    },
    {
     "name": "stderr",
     "output_type": "stream",
     "text": [
      "WARNING:absl:Found untraced functions such as _update_step_xla while saving (showing 1 of 1). These functions will not be directly callable after loading.\n"
     ]
    },
    {
     "name": "stderr",
     "output_type": "stream",
     "text": [
      "WARNING:absl:Found untraced functions such as _update_step_xla while saving (showing 1 of 1). These functions will not be directly callable after loading.\n"
     ]
    },
    {
     "name": "stderr",
     "output_type": "stream",
     "text": [
      "WARNING:absl:Found untraced functions such as _update_step_xla while saving (showing 1 of 1). These functions will not be directly callable after loading.\n"
     ]
    },
    {
     "name": "stderr",
     "output_type": "stream",
     "text": [
      "WARNING:absl:Found untraced functions such as _update_step_xla while saving (showing 1 of 1). These functions will not be directly callable after loading.\n"
     ]
    },
    {
     "name": "stderr",
     "output_type": "stream",
     "text": [
      "WARNING:absl:Found untraced functions such as _update_step_xla while saving (showing 1 of 1). These functions will not be directly callable after loading.\n"
     ]
    },
    {
     "name": "stderr",
     "output_type": "stream",
     "text": [
      "WARNING:absl:Found untraced functions such as _update_step_xla while saving (showing 1 of 1). These functions will not be directly callable after loading.\n"
     ]
    },
    {
     "name": "stderr",
     "output_type": "stream",
     "text": [
      "WARNING:absl:Found untraced functions such as _update_step_xla while saving (showing 1 of 1). These functions will not be directly callable after loading.\n"
     ]
    },
    {
     "name": "stdout",
     "output_type": "stream",
     "text": [
      "Bagging score: 0.74\n"
     ]
    }
   ],
   "source": [
    "from sklearn.ensemble import BaggingClassifier\n",
    "\n",
    "\n",
    "bagging = BaggingClassifier(base_estimator=clf, random_state=0, n_jobs=-1)\n",
    "\n",
    "bagging_score = bagging.fit(X, y).score(X, y)\n",
    "\n",
    "print(f\"Bagging score: {bagging_score:.2f}\")"
   ]
  }
 ],
 "metadata": {
  "jupytext": {
   "formats": "ipynb,md"
  },
  "kernelspec": {
   "display_name": "Python 3",
   "language": "python",
   "name": "python3"
  },
  "language_info": {
   "codemirror_mode": {
    "name": "ipython",
    "version": 3
   },
   "file_extension": ".py",
   "mimetype": "text/x-python",
   "name": "python",
   "nbconvert_exporter": "python",
   "pygments_lexer": "ipython3",
   "version": "3.8.15"
  }
 },
 "nbformat": 4,
 "nbformat_minor": 5
}
