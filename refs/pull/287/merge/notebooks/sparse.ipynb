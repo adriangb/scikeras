{
 "cells": [
  {
   "cell_type": "raw",
   "id": "aed037db",
   "metadata": {},
   "source": [
    "<a href=\"https://colab.research.google.com/github/adriangb/scikeras/blob/docs-deploy/refs/heads/master/notebooks/AutoEncoders.ipynb\"><img src=\"https://www.tensorflow.org/images/colab_logo_32px.png\">Run in Google Colab</a>"
   ]
  },
  {
   "cell_type": "markdown",
   "id": "da120e2a",
   "metadata": {},
   "source": [
    "# Sparse Inputs"
   ]
  },
  {
   "cell_type": "markdown",
   "id": "1a92e648",
   "metadata": {},
   "source": [
    "SciKeras supports sparse inputs (`X`/features).\n",
    "You don't have to do anything special for this to work, you can just pass a sparse matrix to `fit()`.\n",
    "\n",
    "In this notebook, we'll demonstrate how this works and compare memory consumption of sparse inputs to dense inputs."
   ]
  },
  {
   "cell_type": "markdown",
   "id": "e488502d",
   "metadata": {},
   "source": [
    "## Setup"
   ]
  },
  {
   "cell_type": "code",
   "execution_count": 1,
   "id": "0ed15716",
   "metadata": {
    "execution": {
     "iopub.execute_input": "2022-12-12T05:06:01.054052Z",
     "iopub.status.busy": "2022-12-12T05:06:01.053825Z",
     "iopub.status.idle": "2022-12-12T05:06:04.101171Z",
     "shell.execute_reply": "2022-12-12T05:06:04.100439Z"
    }
   },
   "outputs": [
    {
     "name": "stdout",
     "output_type": "stream",
     "text": [
      "Collecting memory_profiler\r\n"
     ]
    },
    {
     "name": "stdout",
     "output_type": "stream",
     "text": [
      "  Downloading memory_profiler-0.61.0-py3-none-any.whl (31 kB)\r\n"
     ]
    },
    {
     "name": "stdout",
     "output_type": "stream",
     "text": [
      "Requirement already satisfied: psutil in /home/runner/work/scikeras/scikeras/.venv/lib/python3.8/site-packages (from memory_profiler) (5.9.4)\r\n"
     ]
    },
    {
     "name": "stdout",
     "output_type": "stream",
     "text": [
      "Installing collected packages: memory_profiler\r\n"
     ]
    },
    {
     "name": "stdout",
     "output_type": "stream",
     "text": [
      "Successfully installed memory_profiler-0.61.0\r\n"
     ]
    }
   ],
   "source": [
    "!pip install memory_profiler\n",
    "%load_ext memory_profiler"
   ]
  },
  {
   "cell_type": "code",
   "execution_count": 2,
   "id": "1836cf20",
   "metadata": {
    "execution": {
     "iopub.execute_input": "2022-12-12T05:06:04.105126Z",
     "iopub.status.busy": "2022-12-12T05:06:04.104530Z",
     "iopub.status.idle": "2022-12-12T05:06:06.058903Z",
     "shell.execute_reply": "2022-12-12T05:06:06.058311Z"
    }
   },
   "outputs": [],
   "source": [
    "import warnings\n",
    "import os\n",
    "os.environ['TF_CPP_MIN_LOG_LEVEL'] = '3'\n",
    "from tensorflow import get_logger\n",
    "get_logger().setLevel('ERROR')\n",
    "warnings.filterwarnings(\"ignore\", message=\"Setting the random state for TF\")"
   ]
  },
  {
   "cell_type": "code",
   "execution_count": 3,
   "id": "83b14242",
   "metadata": {
    "execution": {
     "iopub.execute_input": "2022-12-12T05:06:06.069144Z",
     "iopub.status.busy": "2022-12-12T05:06:06.066974Z",
     "iopub.status.idle": "2022-12-12T05:06:06.087229Z",
     "shell.execute_reply": "2022-12-12T05:06:06.086539Z"
    }
   },
   "outputs": [],
   "source": [
    "try:\n",
    "    import scikeras\n",
    "except ImportError:\n",
    "    !python -m pip install scikeras"
   ]
  },
  {
   "cell_type": "code",
   "execution_count": 4,
   "id": "fe64b947",
   "metadata": {
    "execution": {
     "iopub.execute_input": "2022-12-12T05:06:06.091769Z",
     "iopub.status.busy": "2022-12-12T05:06:06.090647Z",
     "iopub.status.idle": "2022-12-12T05:06:06.454764Z",
     "shell.execute_reply": "2022-12-12T05:06:06.452435Z"
    }
   },
   "outputs": [],
   "source": [
    "import scipy\n",
    "import numpy as np\n",
    "from scikeras.wrappers import KerasRegressor\n",
    "from sklearn.preprocessing import OneHotEncoder\n",
    "from sklearn.pipeline import Pipeline\n",
    "from tensorflow import keras"
   ]
  },
  {
   "cell_type": "markdown",
   "id": "ec3664ef",
   "metadata": {},
   "source": [
    "## Data\n",
    "\n",
    "The dataset we'll be using is designed to demostrate a worst-case/best-case scenario for dense and sparse input features respectively.\n",
    "It consists of a single categorical feature with equal number of categories as rows.\n",
    "This means the one-hot encoded representation will require as many columns as it does rows, making it very ineffienct to store as a dense matrix but very efficient to store as a sparse matrix."
   ]
  },
  {
   "cell_type": "code",
   "execution_count": 5,
   "id": "6594d429",
   "metadata": {
    "execution": {
     "iopub.execute_input": "2022-12-12T05:06:06.458913Z",
     "iopub.status.busy": "2022-12-12T05:06:06.458567Z",
     "iopub.status.idle": "2022-12-12T05:06:06.470424Z",
     "shell.execute_reply": "2022-12-12T05:06:06.469732Z"
    }
   },
   "outputs": [],
   "source": [
    "N_SAMPLES = 20_000  # hand tuned to be ~4GB peak\n",
    "\n",
    "X = np.arange(0, N_SAMPLES).reshape(-1, 1)\n",
    "y = np.random.uniform(0, 1, size=(X.shape[0],))"
   ]
  },
  {
   "cell_type": "markdown",
   "id": "2eea1317",
   "metadata": {},
   "source": [
    "## Model\n",
    "\n",
    "The model here is nothing special, just a basic multilayer perceptron with one hidden layer."
   ]
  },
  {
   "cell_type": "code",
   "execution_count": 6,
   "id": "da3c96b0",
   "metadata": {
    "execution": {
     "iopub.execute_input": "2022-12-12T05:06:06.473968Z",
     "iopub.status.busy": "2022-12-12T05:06:06.473586Z",
     "iopub.status.idle": "2022-12-12T05:06:06.479245Z",
     "shell.execute_reply": "2022-12-12T05:06:06.478608Z"
    }
   },
   "outputs": [],
   "source": [
    "def get_clf(meta) -> keras.Model:\n",
    "    n_features_in_ = meta[\"n_features_in_\"]\n",
    "    model = keras.models.Sequential()\n",
    "    model.add(keras.layers.Input(shape=(n_features_in_,)))\n",
    "    # a single hidden layer\n",
    "    model.add(keras.layers.Dense(100, activation=\"relu\"))\n",
    "    model.add(keras.layers.Dense(1))\n",
    "    return model"
   ]
  },
  {
   "cell_type": "markdown",
   "id": "453ded85",
   "metadata": {},
   "source": [
    "## Pipelines\n",
    "\n",
    "Here is where it gets interesting.\n",
    "We make two Scikit-Learn pipelines that use `OneHotEncoder`: one that uses `sparse=False` to force a dense matrix as the output and another that uses `sparse=True` (the default)."
   ]
  },
  {
   "cell_type": "code",
   "execution_count": 7,
   "id": "b35f1112",
   "metadata": {
    "execution": {
     "iopub.execute_input": "2022-12-12T05:06:06.482411Z",
     "iopub.status.busy": "2022-12-12T05:06:06.482068Z",
     "iopub.status.idle": "2022-12-12T05:06:06.487633Z",
     "shell.execute_reply": "2022-12-12T05:06:06.486996Z"
    }
   },
   "outputs": [],
   "source": [
    "dense_pipeline = Pipeline(\n",
    "    [\n",
    "        (\"encoder\", OneHotEncoder(sparse=False)),\n",
    "        (\"model\", KerasRegressor(get_clf, loss=\"mse\", epochs=5, verbose=False))\n",
    "    ]\n",
    ")\n",
    "\n",
    "sparse_pipeline = Pipeline(\n",
    "    [\n",
    "        (\"encoder\", OneHotEncoder(sparse=True)),\n",
    "        (\"model\", KerasRegressor(get_clf, loss=\"mse\", epochs=5, verbose=False))\n",
    "    ]\n",
    ")"
   ]
  },
  {
   "cell_type": "markdown",
   "id": "0d92a418",
   "metadata": {},
   "source": [
    "## Benchmark\n",
    "\n",
    "Our benchmark will be to just train each one of these pipelines and measure peak memory consumption."
   ]
  },
  {
   "cell_type": "code",
   "execution_count": 8,
   "id": "4d651b72",
   "metadata": {
    "execution": {
     "iopub.execute_input": "2022-12-12T05:06:06.490593Z",
     "iopub.status.busy": "2022-12-12T05:06:06.490374Z",
     "iopub.status.idle": "2022-12-12T05:07:01.206344Z",
     "shell.execute_reply": "2022-12-12T05:07:01.205690Z"
    }
   },
   "outputs": [
    {
     "name": "stdout",
     "output_type": "stream",
     "text": [
      "peak memory: 3509.33 MiB, increment: 3105.88 MiB\n"
     ]
    }
   ],
   "source": [
    "%memit dense_pipeline.fit(X, y)"
   ]
  },
  {
   "cell_type": "code",
   "execution_count": 9,
   "id": "a5a496cb",
   "metadata": {
    "execution": {
     "iopub.execute_input": "2022-12-12T05:07:01.211124Z",
     "iopub.status.busy": "2022-12-12T05:07:01.209981Z",
     "iopub.status.idle": "2022-12-12T05:07:23.400480Z",
     "shell.execute_reply": "2022-12-12T05:07:23.399728Z"
    }
   },
   "outputs": [
    {
     "name": "stdout",
     "output_type": "stream",
     "text": [
      "peak memory: 707.74 MiB, increment: 111.20 MiB\n"
     ]
    }
   ],
   "source": [
    "%memit sparse_pipeline.fit(X, y)"
   ]
  },
  {
   "cell_type": "markdown",
   "id": "0daaffd1",
   "metadata": {},
   "source": [
    "You should see at least 100x more memory consumption **increment** in the dense pipeline."
   ]
  },
  {
   "cell_type": "markdown",
   "id": "31bff25b",
   "metadata": {},
   "source": [
    "### Runtime\n",
    "\n",
    "Using sparse inputs can have a drastic impact on memory usage, but it often (not always) hurts overall runtime."
   ]
  },
  {
   "cell_type": "code",
   "execution_count": 10,
   "id": "a2db4bf6",
   "metadata": {
    "execution": {
     "iopub.execute_input": "2022-12-12T05:07:23.406153Z",
     "iopub.status.busy": "2022-12-12T05:07:23.404736Z",
     "iopub.status.idle": "2022-12-12T05:13:01.846280Z",
     "shell.execute_reply": "2022-12-12T05:13:01.844629Z"
    }
   },
   "outputs": [
    {
     "name": "stdout",
     "output_type": "stream",
     "text": [
      "40.8 s ± 7.71 s per loop (mean ± std. dev. of 7 runs, 1 loop each)\n"
     ]
    }
   ],
   "source": [
    "%timeit dense_pipeline.fit(X, y)"
   ]
  },
  {
   "cell_type": "code",
   "execution_count": 11,
   "id": "700065f5",
   "metadata": {
    "execution": {
     "iopub.execute_input": "2022-12-12T05:13:01.851794Z",
     "iopub.status.busy": "2022-12-12T05:13:01.851559Z",
     "iopub.status.idle": "2022-12-12T05:14:40.370260Z",
     "shell.execute_reply": "2022-12-12T05:14:40.368695Z"
    }
   },
   "outputs": [
    {
     "name": "stdout",
     "output_type": "stream",
     "text": [
      "12.3 s ± 925 ms per loop (mean ± std. dev. of 7 runs, 1 loop each)\n"
     ]
    }
   ],
   "source": [
    "%timeit sparse_pipeline.fit(X, y)"
   ]
  },
  {
   "cell_type": "markdown",
   "id": "02e96514",
   "metadata": {},
   "source": [
    "## Tensorflow Datasets\n",
    "\n",
    "Tensorflow provides a whole suite of functionality around the [Dataset].\n",
    "Datasets are lazily evaluated, can be sparse and minimize the transformations required to feed data into the model.\n",
    "They are _a lot_ more performant and efficient at scale than using numpy datastructures, even sparse ones.\n",
    "\n",
    "SciKeras does not (and cannot) support Datasets directly because Scikit-Learn itself does not support them and SciKeras' outwards API is Scikit-Learn's API.\n",
    "You may want to explore breaking out of SciKeras and just using TensorFlow/Keras directly to see if Datasets can have a large impact for your use case.\n",
    "\n",
    "[Dataset]: https://www.tensorflow.org/api_docs/python/tf/data/Dataset"
   ]
  },
  {
   "cell_type": "markdown",
   "id": "b61777de",
   "metadata": {},
   "source": [
    "## Bonus: dtypes\n",
    "\n",
    "You might be able to save even more memory by changing the output dtype of `OneHotEncoder`."
   ]
  },
  {
   "cell_type": "code",
   "execution_count": 12,
   "id": "55b287b4",
   "metadata": {
    "execution": {
     "iopub.execute_input": "2022-12-12T05:14:40.376907Z",
     "iopub.status.busy": "2022-12-12T05:14:40.376292Z",
     "iopub.status.idle": "2022-12-12T05:14:40.381468Z",
     "shell.execute_reply": "2022-12-12T05:14:40.380877Z"
    }
   },
   "outputs": [],
   "source": [
    "sparse_pipline_uint8 = Pipeline(\n",
    "    [\n",
    "        (\"encoder\", OneHotEncoder(sparse=True, dtype=np.uint8)),\n",
    "        (\"model\", KerasRegressor(get_clf, loss=\"mse\", epochs=5, verbose=False))\n",
    "    ]\n",
    ")"
   ]
  },
  {
   "cell_type": "code",
   "execution_count": 13,
   "id": "fd6278d0",
   "metadata": {
    "execution": {
     "iopub.execute_input": "2022-12-12T05:14:40.384514Z",
     "iopub.status.busy": "2022-12-12T05:14:40.384291Z",
     "iopub.status.idle": "2022-12-12T05:14:53.440286Z",
     "shell.execute_reply": "2022-12-12T05:14:53.439523Z"
    }
   },
   "outputs": [
    {
     "name": "stdout",
     "output_type": "stream",
     "text": [
      "peak memory: 1113.07 MiB, increment: 3.05 MiB\n"
     ]
    }
   ],
   "source": [
    "%memit sparse_pipline_uint8.fit(X, y)"
   ]
  }
 ],
 "metadata": {
  "jupytext": {
   "formats": "ipynb,md"
  },
  "kernelspec": {
   "display_name": "Python 3 (ipykernel)",
   "language": "python",
   "name": "python3"
  },
  "language_info": {
   "codemirror_mode": {
    "name": "ipython",
    "version": 3
   },
   "file_extension": ".py",
   "mimetype": "text/x-python",
   "name": "python",
   "nbconvert_exporter": "python",
   "pygments_lexer": "ipython3",
   "version": "3.8.15"
  }
 },
 "nbformat": 4,
 "nbformat_minor": 5
}
