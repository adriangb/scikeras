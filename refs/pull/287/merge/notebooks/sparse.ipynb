{
 "cells": [
  {
   "cell_type": "raw",
   "id": "e9180970",
   "metadata": {},
   "source": [
    "<a href=\"https://colab.research.google.com/github/adriangb/scikeras/blob/docs-deploy/refs/heads/master/notebooks/AutoEncoders.ipynb\"><img src=\"https://www.tensorflow.org/images/colab_logo_32px.png\">Run in Google Colab</a>"
   ]
  },
  {
   "cell_type": "markdown",
   "id": "d145b67b",
   "metadata": {},
   "source": [
    "# Sparse Inputs"
   ]
  },
  {
   "cell_type": "markdown",
   "id": "24e6602e",
   "metadata": {},
   "source": [
    "SciKeras supports sparse inputs (`X`/features).\n",
    "You don't have to do anything special for this to work, you can just pass a sparse matrix to `fit()`.\n",
    "\n",
    "In this notebook, we'll demonstrate how this works and compare memory consumption of sparse inputs to dense inputs."
   ]
  },
  {
   "cell_type": "markdown",
   "id": "31af5f20",
   "metadata": {},
   "source": [
    "## Setup"
   ]
  },
  {
   "cell_type": "code",
   "execution_count": 1,
   "id": "471092f3",
   "metadata": {
    "execution": {
     "iopub.execute_input": "2022-12-12T14:12:21.187717Z",
     "iopub.status.busy": "2022-12-12T14:12:21.187463Z",
     "iopub.status.idle": "2022-12-12T14:12:24.183936Z",
     "shell.execute_reply": "2022-12-12T14:12:24.180674Z"
    }
   },
   "outputs": [
    {
     "name": "stdout",
     "output_type": "stream",
     "text": [
      "Collecting memory_profiler\r\n"
     ]
    },
    {
     "name": "stdout",
     "output_type": "stream",
     "text": [
      "  Downloading memory_profiler-0.61.0-py3-none-any.whl (31 kB)\r\n",
      "Requirement already satisfied: psutil in /home/runner/work/scikeras/scikeras/.venv/lib/python3.8/site-packages (from memory_profiler) (5.9.4)\r\n"
     ]
    },
    {
     "name": "stdout",
     "output_type": "stream",
     "text": [
      "Installing collected packages: memory_profiler\r\n"
     ]
    },
    {
     "name": "stdout",
     "output_type": "stream",
     "text": [
      "Successfully installed memory_profiler-0.61.0\r\n"
     ]
    }
   ],
   "source": [
    "!pip install memory_profiler\n",
    "%load_ext memory_profiler"
   ]
  },
  {
   "cell_type": "code",
   "execution_count": 2,
   "id": "cf4ddfa4",
   "metadata": {
    "execution": {
     "iopub.execute_input": "2022-12-12T14:12:24.189467Z",
     "iopub.status.busy": "2022-12-12T14:12:24.188673Z",
     "iopub.status.idle": "2022-12-12T14:12:26.246229Z",
     "shell.execute_reply": "2022-12-12T14:12:26.245448Z"
    }
   },
   "outputs": [],
   "source": [
    "import warnings\n",
    "import os\n",
    "os.environ['TF_CPP_MIN_LOG_LEVEL'] = '3'\n",
    "from tensorflow import get_logger\n",
    "get_logger().setLevel('ERROR')\n",
    "warnings.filterwarnings(\"ignore\", message=\"Setting the random state for TF\")"
   ]
  },
  {
   "cell_type": "code",
   "execution_count": 3,
   "id": "adc423a6",
   "metadata": {
    "execution": {
     "iopub.execute_input": "2022-12-12T14:12:26.249880Z",
     "iopub.status.busy": "2022-12-12T14:12:26.249505Z",
     "iopub.status.idle": "2022-12-12T14:12:26.262126Z",
     "shell.execute_reply": "2022-12-12T14:12:26.261016Z"
    }
   },
   "outputs": [],
   "source": [
    "try:\n",
    "    import scikeras\n",
    "except ImportError:\n",
    "    !python -m pip install scikeras"
   ]
  },
  {
   "cell_type": "code",
   "execution_count": 4,
   "id": "7f5ebcdf",
   "metadata": {
    "execution": {
     "iopub.execute_input": "2022-12-12T14:12:26.266769Z",
     "iopub.status.busy": "2022-12-12T14:12:26.264979Z",
     "iopub.status.idle": "2022-12-12T14:12:26.509266Z",
     "shell.execute_reply": "2022-12-12T14:12:26.504792Z"
    }
   },
   "outputs": [],
   "source": [
    "import scipy\n",
    "import numpy as np\n",
    "from scikeras.wrappers import KerasRegressor\n",
    "from sklearn.preprocessing import OneHotEncoder\n",
    "from sklearn.pipeline import Pipeline\n",
    "from tensorflow import keras"
   ]
  },
  {
   "cell_type": "markdown",
   "id": "db7d0a60",
   "metadata": {},
   "source": [
    "## Data\n",
    "\n",
    "The dataset we'll be using is designed to demostrate a worst-case/best-case scenario for dense and sparse input features respectively.\n",
    "It consists of a single categorical feature with equal number of categories as rows.\n",
    "This means the one-hot encoded representation will require as many columns as it does rows, making it very ineffienct to store as a dense matrix but very efficient to store as a sparse matrix."
   ]
  },
  {
   "cell_type": "code",
   "execution_count": 5,
   "id": "589a9ff2",
   "metadata": {
    "execution": {
     "iopub.execute_input": "2022-12-12T14:12:26.513030Z",
     "iopub.status.busy": "2022-12-12T14:12:26.512659Z",
     "iopub.status.idle": "2022-12-12T14:12:26.518167Z",
     "shell.execute_reply": "2022-12-12T14:12:26.517486Z"
    }
   },
   "outputs": [],
   "source": [
    "N_SAMPLES = 20_000  # hand tuned to be ~4GB peak\n",
    "\n",
    "X = np.arange(0, N_SAMPLES).reshape(-1, 1)\n",
    "y = np.random.uniform(0, 1, size=(X.shape[0],))"
   ]
  },
  {
   "cell_type": "markdown",
   "id": "350f3040",
   "metadata": {},
   "source": [
    "## Model\n",
    "\n",
    "The model here is nothing special, just a basic multilayer perceptron with one hidden layer."
   ]
  },
  {
   "cell_type": "code",
   "execution_count": 6,
   "id": "17a0602e",
   "metadata": {
    "execution": {
     "iopub.execute_input": "2022-12-12T14:12:26.521466Z",
     "iopub.status.busy": "2022-12-12T14:12:26.521101Z",
     "iopub.status.idle": "2022-12-12T14:12:26.526858Z",
     "shell.execute_reply": "2022-12-12T14:12:26.526219Z"
    }
   },
   "outputs": [],
   "source": [
    "def get_clf(meta) -> keras.Model:\n",
    "    n_features_in_ = meta[\"n_features_in_\"]\n",
    "    model = keras.models.Sequential()\n",
    "    model.add(keras.layers.Input(shape=(n_features_in_,)))\n",
    "    # a single hidden layer\n",
    "    model.add(keras.layers.Dense(100, activation=\"relu\"))\n",
    "    model.add(keras.layers.Dense(1))\n",
    "    return model"
   ]
  },
  {
   "cell_type": "markdown",
   "id": "94c7d6bb",
   "metadata": {},
   "source": [
    "## Pipelines\n",
    "\n",
    "Here is where it gets interesting.\n",
    "We make two Scikit-Learn pipelines that use `OneHotEncoder`: one that uses `sparse=False` to force a dense matrix as the output and another that uses `sparse=True` (the default)."
   ]
  },
  {
   "cell_type": "code",
   "execution_count": 7,
   "id": "f2aa3a64",
   "metadata": {
    "execution": {
     "iopub.execute_input": "2022-12-12T14:12:26.530049Z",
     "iopub.status.busy": "2022-12-12T14:12:26.529691Z",
     "iopub.status.idle": "2022-12-12T14:12:26.535168Z",
     "shell.execute_reply": "2022-12-12T14:12:26.534512Z"
    }
   },
   "outputs": [],
   "source": [
    "dense_pipeline = Pipeline(\n",
    "    [\n",
    "        (\"encoder\", OneHotEncoder(sparse=False)),\n",
    "        (\"model\", KerasRegressor(get_clf, loss=\"mse\", epochs=5, verbose=False))\n",
    "    ]\n",
    ")\n",
    "\n",
    "sparse_pipeline = Pipeline(\n",
    "    [\n",
    "        (\"encoder\", OneHotEncoder(sparse=True)),\n",
    "        (\"model\", KerasRegressor(get_clf, loss=\"mse\", epochs=5, verbose=False))\n",
    "    ]\n",
    ")"
   ]
  },
  {
   "cell_type": "markdown",
   "id": "5abb9cd1",
   "metadata": {},
   "source": [
    "## Benchmark\n",
    "\n",
    "Our benchmark will be to just train each one of these pipelines and measure peak memory consumption."
   ]
  },
  {
   "cell_type": "code",
   "execution_count": 8,
   "id": "e8f4d6c0",
   "metadata": {
    "execution": {
     "iopub.execute_input": "2022-12-12T14:12:26.539220Z",
     "iopub.status.busy": "2022-12-12T14:12:26.538539Z",
     "iopub.status.idle": "2022-12-12T14:13:19.751466Z",
     "shell.execute_reply": "2022-12-12T14:13:19.750765Z"
    }
   },
   "outputs": [
    {
     "name": "stdout",
     "output_type": "stream",
     "text": [
      "peak memory: 3537.34 MiB, increment: 3134.40 MiB\n"
     ]
    }
   ],
   "source": [
    "%memit dense_pipeline.fit(X, y)"
   ]
  },
  {
   "cell_type": "code",
   "execution_count": 9,
   "id": "f98ecd77",
   "metadata": {
    "execution": {
     "iopub.execute_input": "2022-12-12T14:13:19.754862Z",
     "iopub.status.busy": "2022-12-12T14:13:19.754224Z",
     "iopub.status.idle": "2022-12-12T14:13:39.023695Z",
     "shell.execute_reply": "2022-12-12T14:13:39.022969Z"
    }
   },
   "outputs": [
    {
     "name": "stdout",
     "output_type": "stream",
     "text": [
      "peak memory: 672.08 MiB, increment: 65.46 MiB\n"
     ]
    }
   ],
   "source": [
    "%memit sparse_pipeline.fit(X, y)"
   ]
  },
  {
   "cell_type": "markdown",
   "id": "ea161536",
   "metadata": {},
   "source": [
    "You should see at least 100x more memory consumption **increment** in the dense pipeline."
   ]
  },
  {
   "cell_type": "markdown",
   "id": "10d3c9b5",
   "metadata": {},
   "source": [
    "### Runtime\n",
    "\n",
    "Using sparse inputs can have a drastic impact on memory usage, but it often (not always) hurts overall runtime."
   ]
  },
  {
   "cell_type": "code",
   "execution_count": 10,
   "id": "4783031b",
   "metadata": {
    "execution": {
     "iopub.execute_input": "2022-12-12T14:13:39.027305Z",
     "iopub.status.busy": "2022-12-12T14:13:39.026645Z",
     "iopub.status.idle": "2022-12-12T14:19:09.120978Z",
     "shell.execute_reply": "2022-12-12T14:19:09.120397Z"
    }
   },
   "outputs": [
    {
     "name": "stdout",
     "output_type": "stream",
     "text": [
      "39.7 s ± 7.54 s per loop (mean ± std. dev. of 7 runs, 1 loop each)\n"
     ]
    }
   ],
   "source": [
    "%timeit dense_pipeline.fit(X, y)"
   ]
  },
  {
   "cell_type": "code",
   "execution_count": 11,
   "id": "bc58bf1c",
   "metadata": {
    "execution": {
     "iopub.execute_input": "2022-12-12T14:19:09.125130Z",
     "iopub.status.busy": "2022-12-12T14:19:09.123518Z",
     "iopub.status.idle": "2022-12-12T14:20:39.542132Z",
     "shell.execute_reply": "2022-12-12T14:20:39.541359Z"
    }
   },
   "outputs": [
    {
     "name": "stdout",
     "output_type": "stream",
     "text": [
      "11.4 s ± 555 ms per loop (mean ± std. dev. of 7 runs, 1 loop each)\n"
     ]
    }
   ],
   "source": [
    "%timeit sparse_pipeline.fit(X, y)"
   ]
  },
  {
   "cell_type": "markdown",
   "id": "6779a24c",
   "metadata": {},
   "source": [
    "## Tensorflow Datasets\n",
    "\n",
    "Tensorflow provides a whole suite of functionality around the [Dataset].\n",
    "Datasets are lazily evaluated, can be sparse and minimize the transformations required to feed data into the model.\n",
    "They are _a lot_ more performant and efficient at scale than using numpy datastructures, even sparse ones.\n",
    "\n",
    "SciKeras does not (and cannot) support Datasets directly because Scikit-Learn itself does not support them and SciKeras' outwards API is Scikit-Learn's API.\n",
    "You may want to explore breaking out of SciKeras and just using TensorFlow/Keras directly to see if Datasets can have a large impact for your use case.\n",
    "\n",
    "[Dataset]: https://www.tensorflow.org/api_docs/python/tf/data/Dataset"
   ]
  },
  {
   "cell_type": "markdown",
   "id": "a58c369d",
   "metadata": {},
   "source": [
    "## Bonus: dtypes\n",
    "\n",
    "You might be able to save even more memory by changing the output dtype of `OneHotEncoder`."
   ]
  },
  {
   "cell_type": "code",
   "execution_count": 12,
   "id": "6f3d3aa6",
   "metadata": {
    "execution": {
     "iopub.execute_input": "2022-12-12T14:20:39.547591Z",
     "iopub.status.busy": "2022-12-12T14:20:39.547002Z",
     "iopub.status.idle": "2022-12-12T14:20:39.552343Z",
     "shell.execute_reply": "2022-12-12T14:20:39.551024Z"
    }
   },
   "outputs": [],
   "source": [
    "sparse_pipline_uint8 = Pipeline(\n",
    "    [\n",
    "        (\"encoder\", OneHotEncoder(sparse=True, dtype=np.uint8)),\n",
    "        (\"model\", KerasRegressor(get_clf, loss=\"mse\", epochs=5, verbose=False))\n",
    "    ]\n",
    ")"
   ]
  },
  {
   "cell_type": "code",
   "execution_count": 13,
   "id": "6fdb9fae",
   "metadata": {
    "execution": {
     "iopub.execute_input": "2022-12-12T14:20:39.555494Z",
     "iopub.status.busy": "2022-12-12T14:20:39.555162Z",
     "iopub.status.idle": "2022-12-12T14:20:51.974211Z",
     "shell.execute_reply": "2022-12-12T14:20:51.973454Z"
    }
   },
   "outputs": [
    {
     "name": "stdout",
     "output_type": "stream",
     "text": [
      "peak memory: 1008.32 MiB, increment: 0.56 MiB\n"
     ]
    }
   ],
   "source": [
    "%memit sparse_pipline_uint8.fit(X, y)"
   ]
  }
 ],
 "metadata": {
  "jupytext": {
   "formats": "ipynb,md"
  },
  "kernelspec": {
   "display_name": "Python 3 (ipykernel)",
   "language": "python",
   "name": "python3"
  },
  "language_info": {
   "codemirror_mode": {
    "name": "ipython",
    "version": 3
   },
   "file_extension": ".py",
   "mimetype": "text/x-python",
   "name": "python",
   "nbconvert_exporter": "python",
   "pygments_lexer": "ipython3",
   "version": "3.8.15"
  }
 },
 "nbformat": 4,
 "nbformat_minor": 5
}
