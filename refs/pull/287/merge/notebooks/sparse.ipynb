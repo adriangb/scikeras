{
 "cells": [
  {
   "cell_type": "raw",
   "id": "f6bc1188",
   "metadata": {},
   "source": [
    "<a href=\"https://colab.research.google.com/github/adriangb/scikeras/blob/docs-deploy/refs/heads/master/notebooks/AutoEncoders.ipynb\"><img src=\"https://www.tensorflow.org/images/colab_logo_32px.png\">Run in Google Colab</a>"
   ]
  },
  {
   "cell_type": "markdown",
   "id": "ddc0deaa",
   "metadata": {},
   "source": [
    "# Sparse Inputs"
   ]
  },
  {
   "cell_type": "markdown",
   "id": "d07e2e5b",
   "metadata": {},
   "source": [
    "SciKeras supports sparse inputs (`X`/features).\n",
    "You don't have to do anything special for this to work, you can just pass a sparse matrix to `fit()`.\n",
    "\n",
    "In this notebook, we'll demonstrate how this works and compare memory consumption of sparse inputs to dense inputs."
   ]
  },
  {
   "cell_type": "markdown",
   "id": "c49f89a4",
   "metadata": {},
   "source": [
    "## Setup"
   ]
  },
  {
   "cell_type": "code",
   "execution_count": 1,
   "id": "3b3ae0a7",
   "metadata": {
    "execution": {
     "iopub.execute_input": "2022-11-30T05:55:28.145269Z",
     "iopub.status.busy": "2022-11-30T05:55:28.144949Z",
     "iopub.status.idle": "2022-11-30T05:55:31.707129Z",
     "shell.execute_reply": "2022-11-30T05:55:31.706158Z"
    }
   },
   "outputs": [
    {
     "name": "stdout",
     "output_type": "stream",
     "text": [
      "Collecting memory_profiler\r\n"
     ]
    },
    {
     "name": "stdout",
     "output_type": "stream",
     "text": [
      "  Downloading memory_profiler-0.61.0-py3-none-any.whl (31 kB)\r\n",
      "Requirement already satisfied: psutil in /home/runner/work/scikeras/scikeras/.venv/lib/python3.8/site-packages (from memory_profiler) (5.9.4)\r\n"
     ]
    },
    {
     "name": "stdout",
     "output_type": "stream",
     "text": [
      "Installing collected packages: memory_profiler\r\n"
     ]
    },
    {
     "name": "stdout",
     "output_type": "stream",
     "text": [
      "Successfully installed memory_profiler-0.61.0\r\n"
     ]
    }
   ],
   "source": [
    "!pip install memory_profiler\n",
    "%load_ext memory_profiler"
   ]
  },
  {
   "cell_type": "code",
   "execution_count": 2,
   "id": "6fdc2b39",
   "metadata": {
    "execution": {
     "iopub.execute_input": "2022-11-30T05:55:31.714419Z",
     "iopub.status.busy": "2022-11-30T05:55:31.712290Z",
     "iopub.status.idle": "2022-11-30T05:55:34.771872Z",
     "shell.execute_reply": "2022-11-30T05:55:34.770939Z"
    }
   },
   "outputs": [],
   "source": [
    "import warnings\n",
    "import os\n",
    "os.environ['TF_CPP_MIN_LOG_LEVEL'] = '3'\n",
    "from tensorflow import get_logger\n",
    "get_logger().setLevel('ERROR')\n",
    "warnings.filterwarnings(\"ignore\", message=\"Setting the random state for TF\")"
   ]
  },
  {
   "cell_type": "code",
   "execution_count": 3,
   "id": "680c1b1e",
   "metadata": {
    "execution": {
     "iopub.execute_input": "2022-11-30T05:55:34.778530Z",
     "iopub.status.busy": "2022-11-30T05:55:34.776843Z",
     "iopub.status.idle": "2022-11-30T05:55:34.799880Z",
     "shell.execute_reply": "2022-11-30T05:55:34.798915Z"
    }
   },
   "outputs": [],
   "source": [
    "try:\n",
    "    import scikeras\n",
    "except ImportError:\n",
    "    !python -m pip install scikeras"
   ]
  },
  {
   "cell_type": "code",
   "execution_count": 4,
   "id": "b6525f16",
   "metadata": {
    "execution": {
     "iopub.execute_input": "2022-11-30T05:55:34.804472Z",
     "iopub.status.busy": "2022-11-30T05:55:34.804175Z",
     "iopub.status.idle": "2022-11-30T05:55:35.152593Z",
     "shell.execute_reply": "2022-11-30T05:55:35.151483Z"
    }
   },
   "outputs": [],
   "source": [
    "import scipy\n",
    "import numpy as np\n",
    "from scikeras.wrappers import KerasRegressor\n",
    "from sklearn.preprocessing import OneHotEncoder\n",
    "from sklearn.pipeline import Pipeline\n",
    "from tensorflow import keras"
   ]
  },
  {
   "cell_type": "markdown",
   "id": "dda67561",
   "metadata": {},
   "source": [
    "## Data\n",
    "\n",
    "The dataset we'll be using is designed to demostrate a worst-case/best-case scenario for dense and sparse input features respectively.\n",
    "It consists of a single categorical feature with equal number of categories as rows.\n",
    "This means the one-hot encoded representation will require as many columns as it does rows, making it very ineffienct to store as a dense matrix but very efficient to store as a sparse matrix."
   ]
  },
  {
   "cell_type": "code",
   "execution_count": 5,
   "id": "a6d65b9b",
   "metadata": {
    "execution": {
     "iopub.execute_input": "2022-11-30T05:55:35.156988Z",
     "iopub.status.busy": "2022-11-30T05:55:35.156661Z",
     "iopub.status.idle": "2022-11-30T05:55:35.164994Z",
     "shell.execute_reply": "2022-11-30T05:55:35.163573Z"
    }
   },
   "outputs": [],
   "source": [
    "N_SAMPLES = 20_000  # hand tuned to be ~4GB peak\n",
    "\n",
    "X = np.arange(0, N_SAMPLES).reshape(-1, 1)\n",
    "y = np.random.uniform(0, 1, size=(X.shape[0],))"
   ]
  },
  {
   "cell_type": "markdown",
   "id": "1e8dc8a5",
   "metadata": {},
   "source": [
    "## Model\n",
    "\n",
    "The model here is nothing special, just a basic multilayer perceptron with one hidden layer."
   ]
  },
  {
   "cell_type": "code",
   "execution_count": 6,
   "id": "ccfef03d",
   "metadata": {
    "execution": {
     "iopub.execute_input": "2022-11-30T05:55:35.168872Z",
     "iopub.status.busy": "2022-11-30T05:55:35.168574Z",
     "iopub.status.idle": "2022-11-30T05:55:35.178050Z",
     "shell.execute_reply": "2022-11-30T05:55:35.174405Z"
    }
   },
   "outputs": [],
   "source": [
    "def get_clf(meta) -> keras.Model:\n",
    "    n_features_in_ = meta[\"n_features_in_\"]\n",
    "    model = keras.models.Sequential()\n",
    "    model.add(keras.layers.Input(shape=(n_features_in_,)))\n",
    "    # a single hidden layer\n",
    "    model.add(keras.layers.Dense(100, activation=\"relu\"))\n",
    "    model.add(keras.layers.Dense(1))\n",
    "    return model"
   ]
  },
  {
   "cell_type": "markdown",
   "id": "ffd9acf8",
   "metadata": {},
   "source": [
    "## Pipelines\n",
    "\n",
    "Here is where it gets interesting.\n",
    "We make two Scikit-Learn pipelines that use `OneHotEncoder`: one that uses `sparse=False` to force a dense matrix as the output and another that uses `sparse=True` (the default)."
   ]
  },
  {
   "cell_type": "code",
   "execution_count": 7,
   "id": "b937a259",
   "metadata": {
    "execution": {
     "iopub.execute_input": "2022-11-30T05:55:35.194907Z",
     "iopub.status.busy": "2022-11-30T05:55:35.193369Z",
     "iopub.status.idle": "2022-11-30T05:55:35.209951Z",
     "shell.execute_reply": "2022-11-30T05:55:35.208133Z"
    }
   },
   "outputs": [],
   "source": [
    "dense_pipeline = Pipeline(\n",
    "    [\n",
    "        (\"encoder\", OneHotEncoder(sparse=False)),\n",
    "        (\"model\", KerasRegressor(get_clf, loss=\"mse\", epochs=5, verbose=False))\n",
    "    ]\n",
    ")\n",
    "\n",
    "sparse_pipeline = Pipeline(\n",
    "    [\n",
    "        (\"encoder\", OneHotEncoder(sparse=True)),\n",
    "        (\"model\", KerasRegressor(get_clf, loss=\"mse\", epochs=5, verbose=False))\n",
    "    ]\n",
    ")"
   ]
  },
  {
   "cell_type": "markdown",
   "id": "def6a0d5",
   "metadata": {},
   "source": [
    "## Benchmark\n",
    "\n",
    "Our benchmark will be to just train each one of these pipelines and measure peak memory consumption."
   ]
  },
  {
   "cell_type": "code",
   "execution_count": 8,
   "id": "ab635b24",
   "metadata": {
    "execution": {
     "iopub.execute_input": "2022-11-30T05:55:35.216301Z",
     "iopub.status.busy": "2022-11-30T05:55:35.214458Z",
     "iopub.status.idle": "2022-11-30T05:56:51.725958Z",
     "shell.execute_reply": "2022-11-30T05:56:51.724978Z"
    }
   },
   "outputs": [
    {
     "name": "stdout",
     "output_type": "stream",
     "text": [
      "peak memory: 3553.66 MiB, increment: 3154.73 MiB\n"
     ]
    }
   ],
   "source": [
    "%memit dense_pipeline.fit(X, y)"
   ]
  },
  {
   "cell_type": "code",
   "execution_count": 9,
   "id": "2a90a7bd",
   "metadata": {
    "execution": {
     "iopub.execute_input": "2022-11-30T05:56:51.732859Z",
     "iopub.status.busy": "2022-11-30T05:56:51.731378Z",
     "iopub.status.idle": "2022-11-30T05:57:31.768243Z",
     "shell.execute_reply": "2022-11-30T05:57:31.766498Z"
    }
   },
   "outputs": [
    {
     "name": "stdout",
     "output_type": "stream",
     "text": [
      "peak memory: 648.24 MiB, increment: 90.49 MiB\n"
     ]
    }
   ],
   "source": [
    "%memit sparse_pipeline.fit(X, y)"
   ]
  },
  {
   "cell_type": "markdown",
   "id": "b0dc306a",
   "metadata": {},
   "source": [
    "You should see at least 100x more memory consumption **increment** in the dense pipeline."
   ]
  },
  {
   "cell_type": "markdown",
   "id": "f7ca8d5d",
   "metadata": {},
   "source": [
    "### Runtime\n",
    "\n",
    "Using sparse inputs can have a drastic impact on memory usage, but it often (not always) hurts overall runtime."
   ]
  },
  {
   "cell_type": "code",
   "execution_count": 10,
   "id": "47413da4",
   "metadata": {
    "execution": {
     "iopub.execute_input": "2022-11-30T05:57:31.773415Z",
     "iopub.status.busy": "2022-11-30T05:57:31.773072Z",
     "iopub.status.idle": "2022-11-30T06:06:37.772259Z",
     "shell.execute_reply": "2022-11-30T06:06:37.771352Z"
    }
   },
   "outputs": [
    {
     "name": "stdout",
     "output_type": "stream",
     "text": [
      "1min 6s ± 11.2 s per loop (mean ± std. dev. of 7 runs, 1 loop each)\n"
     ]
    }
   ],
   "source": [
    "%timeit dense_pipeline.fit(X, y)"
   ]
  },
  {
   "cell_type": "code",
   "execution_count": 11,
   "id": "59a41cc6",
   "metadata": {
    "execution": {
     "iopub.execute_input": "2022-11-30T06:06:37.776421Z",
     "iopub.status.busy": "2022-11-30T06:06:37.775914Z",
     "iopub.status.idle": "2022-11-30T06:09:28.653482Z",
     "shell.execute_reply": "2022-11-30T06:09:28.652505Z"
    }
   },
   "outputs": [
    {
     "name": "stdout",
     "output_type": "stream",
     "text": [
      "20.8 s ± 1.48 s per loop (mean ± std. dev. of 7 runs, 1 loop each)\n"
     ]
    }
   ],
   "source": [
    "%timeit sparse_pipeline.fit(X, y)"
   ]
  },
  {
   "cell_type": "markdown",
   "id": "55561296",
   "metadata": {},
   "source": [
    "## Tensorflow Datasets\n",
    "\n",
    "Tensorflow provides a whole suite of functionality around the [Dataset].\n",
    "Datasets are lazily evaluated, can be sparse and minimize the transformations required to feed data into the model.\n",
    "They are _a lot_ more performant and efficient at scale than using numpy datastructures, even sparse ones.\n",
    "\n",
    "SciKeras does not (and cannot) support Datasets directly because Scikit-Learn itself does not support them and SciKeras' outwards API is Scikit-Learn's API.\n",
    "You may want to explore breaking out of SciKeras and just using TensorFlow/Keras directly to see if Datasets can have a large impact for your use case.\n",
    "\n",
    "[Dataset]: https://www.tensorflow.org/api_docs/python/tf/data/Dataset"
   ]
  },
  {
   "cell_type": "markdown",
   "id": "e901dbba",
   "metadata": {},
   "source": [
    "## Bonus: dtypes\n",
    "\n",
    "You might be able to save even more memory by changing the output dtype of `OneHotEncoder`."
   ]
  },
  {
   "cell_type": "code",
   "execution_count": 12,
   "id": "feea0e3c",
   "metadata": {
    "execution": {
     "iopub.execute_input": "2022-11-30T06:09:28.658768Z",
     "iopub.status.busy": "2022-11-30T06:09:28.658467Z",
     "iopub.status.idle": "2022-11-30T06:09:28.663724Z",
     "shell.execute_reply": "2022-11-30T06:09:28.662903Z"
    }
   },
   "outputs": [],
   "source": [
    "sparse_pipline_uint8 = Pipeline(\n",
    "    [\n",
    "        (\"encoder\", OneHotEncoder(sparse=True, dtype=np.uint8)),\n",
    "        (\"model\", KerasRegressor(get_clf, loss=\"mse\", epochs=5, verbose=False))\n",
    "    ]\n",
    ")"
   ]
  },
  {
   "cell_type": "code",
   "execution_count": 13,
   "id": "3af04577",
   "metadata": {
    "execution": {
     "iopub.execute_input": "2022-11-30T06:09:28.667338Z",
     "iopub.status.busy": "2022-11-30T06:09:28.666787Z",
     "iopub.status.idle": "2022-11-30T06:09:53.978601Z",
     "shell.execute_reply": "2022-11-30T06:09:53.976192Z"
    }
   },
   "outputs": [
    {
     "name": "stdout",
     "output_type": "stream",
     "text": [
      "peak memory: 1000.29 MiB, increment: 0.77 MiB\n"
     ]
    }
   ],
   "source": [
    "%memit sparse_pipline_uint8.fit(X, y)"
   ]
  }
 ],
 "metadata": {
  "jupytext": {
   "formats": "ipynb,md"
  },
  "kernelspec": {
   "display_name": "Python 3 (ipykernel)",
   "language": "python",
   "name": "python3"
  },
  "language_info": {
   "codemirror_mode": {
    "name": "ipython",
    "version": 3
   },
   "file_extension": ".py",
   "mimetype": "text/x-python",
   "name": "python",
   "nbconvert_exporter": "python",
   "pygments_lexer": "ipython3",
   "version": "3.8.14"
  }
 },
 "nbformat": 4,
 "nbformat_minor": 5
}
