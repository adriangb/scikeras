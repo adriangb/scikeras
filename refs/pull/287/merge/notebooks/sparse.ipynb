{
 "cells": [
  {
   "cell_type": "raw",
   "id": "fbc8b775",
   "metadata": {},
   "source": [
    "<a href=\"https://colab.research.google.com/github/adriangb/scikeras/blob/docs-deploy/refs/heads/master/notebooks/AutoEncoders.ipynb\"><img src=\"https://www.tensorflow.org/images/colab_logo_32px.png\">Run in Google Colab</a>"
   ]
  },
  {
   "cell_type": "markdown",
   "id": "055b1869",
   "metadata": {},
   "source": [
    "# Sparse Inputs"
   ]
  },
  {
   "cell_type": "markdown",
   "id": "30d2ab09",
   "metadata": {},
   "source": [
    "SciKeras supports sparse inputs (`X`/features).\n",
    "You don't have to do anything special for this to work, you can just pass a sparse matrix to `fit()`.\n",
    "\n",
    "In this notebook, we'll demonstrate how this works and compare memory consumption of sparse inputs to dense inputs."
   ]
  },
  {
   "cell_type": "markdown",
   "id": "e00c5a84",
   "metadata": {},
   "source": [
    "## Setup"
   ]
  },
  {
   "cell_type": "code",
   "execution_count": 1,
   "id": "8313c840",
   "metadata": {
    "execution": {
     "iopub.execute_input": "2022-12-12T14:39:43.247215Z",
     "iopub.status.busy": "2022-12-12T14:39:43.246989Z",
     "iopub.status.idle": "2022-12-12T14:39:46.298362Z",
     "shell.execute_reply": "2022-12-12T14:39:46.297646Z"
    }
   },
   "outputs": [
    {
     "name": "stdout",
     "output_type": "stream",
     "text": [
      "Collecting memory_profiler\r\n"
     ]
    },
    {
     "name": "stdout",
     "output_type": "stream",
     "text": [
      "  Downloading memory_profiler-0.61.0-py3-none-any.whl (31 kB)\r\n"
     ]
    },
    {
     "name": "stdout",
     "output_type": "stream",
     "text": [
      "Requirement already satisfied: psutil in /home/runner/work/scikeras/scikeras/.venv/lib/python3.8/site-packages (from memory_profiler) (5.9.4)\r\n"
     ]
    },
    {
     "name": "stdout",
     "output_type": "stream",
     "text": [
      "Installing collected packages: memory_profiler\r\n"
     ]
    },
    {
     "name": "stdout",
     "output_type": "stream",
     "text": [
      "Successfully installed memory_profiler-0.61.0\r\n"
     ]
    }
   ],
   "source": [
    "!pip install memory_profiler\n",
    "%load_ext memory_profiler"
   ]
  },
  {
   "cell_type": "code",
   "execution_count": 2,
   "id": "ae3a861b",
   "metadata": {
    "execution": {
     "iopub.execute_input": "2022-12-12T14:39:46.302573Z",
     "iopub.status.busy": "2022-12-12T14:39:46.302155Z",
     "iopub.status.idle": "2022-12-12T14:39:48.455654Z",
     "shell.execute_reply": "2022-12-12T14:39:48.454924Z"
    }
   },
   "outputs": [],
   "source": [
    "import warnings\n",
    "import os\n",
    "os.environ['TF_CPP_MIN_LOG_LEVEL'] = '3'\n",
    "from tensorflow import get_logger\n",
    "get_logger().setLevel('ERROR')\n",
    "warnings.filterwarnings(\"ignore\", message=\"Setting the random state for TF\")"
   ]
  },
  {
   "cell_type": "code",
   "execution_count": 3,
   "id": "0bfb767d",
   "metadata": {
    "execution": {
     "iopub.execute_input": "2022-12-12T14:39:48.459448Z",
     "iopub.status.busy": "2022-12-12T14:39:48.459000Z",
     "iopub.status.idle": "2022-12-12T14:39:48.474270Z",
     "shell.execute_reply": "2022-12-12T14:39:48.473573Z"
    }
   },
   "outputs": [],
   "source": [
    "try:\n",
    "    import scikeras\n",
    "except ImportError:\n",
    "    !python -m pip install scikeras"
   ]
  },
  {
   "cell_type": "code",
   "execution_count": 4,
   "id": "651eb189",
   "metadata": {
    "execution": {
     "iopub.execute_input": "2022-12-12T14:39:48.477437Z",
     "iopub.status.busy": "2022-12-12T14:39:48.477146Z",
     "iopub.status.idle": "2022-12-12T14:39:48.705002Z",
     "shell.execute_reply": "2022-12-12T14:39:48.704203Z"
    }
   },
   "outputs": [],
   "source": [
    "import scipy\n",
    "import numpy as np\n",
    "from scikeras.wrappers import KerasRegressor\n",
    "from sklearn.preprocessing import OneHotEncoder\n",
    "from sklearn.pipeline import Pipeline\n",
    "from tensorflow import keras"
   ]
  },
  {
   "cell_type": "markdown",
   "id": "6d834b9b",
   "metadata": {},
   "source": [
    "## Data\n",
    "\n",
    "The dataset we'll be using is designed to demostrate a worst-case/best-case scenario for dense and sparse input features respectively.\n",
    "It consists of a single categorical feature with equal number of categories as rows.\n",
    "This means the one-hot encoded representation will require as many columns as it does rows, making it very ineffienct to store as a dense matrix but very efficient to store as a sparse matrix."
   ]
  },
  {
   "cell_type": "code",
   "execution_count": 5,
   "id": "df00ad73",
   "metadata": {
    "execution": {
     "iopub.execute_input": "2022-12-12T14:39:48.708709Z",
     "iopub.status.busy": "2022-12-12T14:39:48.708239Z",
     "iopub.status.idle": "2022-12-12T14:39:48.712802Z",
     "shell.execute_reply": "2022-12-12T14:39:48.712110Z"
    }
   },
   "outputs": [],
   "source": [
    "N_SAMPLES = 20_000  # hand tuned to be ~4GB peak\n",
    "\n",
    "X = np.arange(0, N_SAMPLES).reshape(-1, 1)\n",
    "y = np.random.uniform(0, 1, size=(X.shape[0],))"
   ]
  },
  {
   "cell_type": "markdown",
   "id": "15de73df",
   "metadata": {},
   "source": [
    "## Model\n",
    "\n",
    "The model here is nothing special, just a basic multilayer perceptron with one hidden layer."
   ]
  },
  {
   "cell_type": "code",
   "execution_count": 6,
   "id": "946bc765",
   "metadata": {
    "execution": {
     "iopub.execute_input": "2022-12-12T14:39:48.716302Z",
     "iopub.status.busy": "2022-12-12T14:39:48.715730Z",
     "iopub.status.idle": "2022-12-12T14:39:48.720181Z",
     "shell.execute_reply": "2022-12-12T14:39:48.719557Z"
    }
   },
   "outputs": [],
   "source": [
    "def get_clf(meta) -> keras.Model:\n",
    "    n_features_in_ = meta[\"n_features_in_\"]\n",
    "    model = keras.models.Sequential()\n",
    "    model.add(keras.layers.Input(shape=(n_features_in_,)))\n",
    "    # a single hidden layer\n",
    "    model.add(keras.layers.Dense(100, activation=\"relu\"))\n",
    "    model.add(keras.layers.Dense(1))\n",
    "    return model"
   ]
  },
  {
   "cell_type": "markdown",
   "id": "780249bb",
   "metadata": {},
   "source": [
    "## Pipelines\n",
    "\n",
    "Here is where it gets interesting.\n",
    "We make two Scikit-Learn pipelines that use `OneHotEncoder`: one that uses `sparse=False` to force a dense matrix as the output and another that uses `sparse=True` (the default)."
   ]
  },
  {
   "cell_type": "code",
   "execution_count": 7,
   "id": "2a70e637",
   "metadata": {
    "execution": {
     "iopub.execute_input": "2022-12-12T14:39:48.723171Z",
     "iopub.status.busy": "2022-12-12T14:39:48.722817Z",
     "iopub.status.idle": "2022-12-12T14:39:48.727035Z",
     "shell.execute_reply": "2022-12-12T14:39:48.726416Z"
    }
   },
   "outputs": [],
   "source": [
    "dense_pipeline = Pipeline(\n",
    "    [\n",
    "        (\"encoder\", OneHotEncoder(sparse=False)),\n",
    "        (\"model\", KerasRegressor(get_clf, loss=\"mse\", epochs=5, verbose=False))\n",
    "    ]\n",
    ")\n",
    "\n",
    "sparse_pipeline = Pipeline(\n",
    "    [\n",
    "        (\"encoder\", OneHotEncoder(sparse=True)),\n",
    "        (\"model\", KerasRegressor(get_clf, loss=\"mse\", epochs=5, verbose=False))\n",
    "    ]\n",
    ")"
   ]
  },
  {
   "cell_type": "markdown",
   "id": "af342408",
   "metadata": {},
   "source": [
    "## Benchmark\n",
    "\n",
    "Our benchmark will be to just train each one of these pipelines and measure peak memory consumption."
   ]
  },
  {
   "cell_type": "code",
   "execution_count": 8,
   "id": "467fcc05",
   "metadata": {
    "execution": {
     "iopub.execute_input": "2022-12-12T14:39:48.730724Z",
     "iopub.status.busy": "2022-12-12T14:39:48.729603Z",
     "iopub.status.idle": "2022-12-12T14:40:42.350548Z",
     "shell.execute_reply": "2022-12-12T14:40:42.349875Z"
    }
   },
   "outputs": [
    {
     "name": "stdout",
     "output_type": "stream",
     "text": [
      "peak memory: 3548.97 MiB, increment: 3145.70 MiB\n"
     ]
    }
   ],
   "source": [
    "%memit dense_pipeline.fit(X, y)"
   ]
  },
  {
   "cell_type": "code",
   "execution_count": 9,
   "id": "2cc96c58",
   "metadata": {
    "execution": {
     "iopub.execute_input": "2022-12-12T14:40:42.355279Z",
     "iopub.status.busy": "2022-12-12T14:40:42.354135Z",
     "iopub.status.idle": "2022-12-12T14:41:02.216654Z",
     "shell.execute_reply": "2022-12-12T14:41:02.215550Z"
    }
   },
   "outputs": [
    {
     "name": "stdout",
     "output_type": "stream",
     "text": [
      "peak memory: 687.21 MiB, increment: 83.54 MiB\n"
     ]
    }
   ],
   "source": [
    "%memit sparse_pipeline.fit(X, y)"
   ]
  },
  {
   "cell_type": "markdown",
   "id": "e0dd5e59",
   "metadata": {},
   "source": [
    "You should see at least 100x more memory consumption **increment** in the dense pipeline."
   ]
  },
  {
   "cell_type": "markdown",
   "id": "c4a479c8",
   "metadata": {},
   "source": [
    "### Runtime\n",
    "\n",
    "Using sparse inputs can have a drastic impact on memory usage, but it often (not always) hurts overall runtime."
   ]
  },
  {
   "cell_type": "code",
   "execution_count": 10,
   "id": "f33f4612",
   "metadata": {
    "execution": {
     "iopub.execute_input": "2022-12-12T14:41:02.219989Z",
     "iopub.status.busy": "2022-12-12T14:41:02.219740Z",
     "iopub.status.idle": "2022-12-12T14:46:39.450014Z",
     "shell.execute_reply": "2022-12-12T14:46:39.449416Z"
    }
   },
   "outputs": [
    {
     "name": "stdout",
     "output_type": "stream",
     "text": [
      "40.2 s ± 7.62 s per loop (mean ± std. dev. of 7 runs, 1 loop each)\n"
     ]
    }
   ],
   "source": [
    "%timeit dense_pipeline.fit(X, y)"
   ]
  },
  {
   "cell_type": "code",
   "execution_count": 11,
   "id": "1aa3fd33",
   "metadata": {
    "execution": {
     "iopub.execute_input": "2022-12-12T14:46:39.454003Z",
     "iopub.status.busy": "2022-12-12T14:46:39.452629Z",
     "iopub.status.idle": "2022-12-12T14:48:11.204307Z",
     "shell.execute_reply": "2022-12-12T14:48:11.203608Z"
    }
   },
   "outputs": [
    {
     "name": "stdout",
     "output_type": "stream",
     "text": [
      "11.6 s ± 582 ms per loop (mean ± std. dev. of 7 runs, 1 loop each)\n"
     ]
    }
   ],
   "source": [
    "%timeit sparse_pipeline.fit(X, y)"
   ]
  },
  {
   "cell_type": "markdown",
   "id": "2754a019",
   "metadata": {},
   "source": [
    "## Tensorflow Datasets\n",
    "\n",
    "Tensorflow provides a whole suite of functionality around the [Dataset].\n",
    "Datasets are lazily evaluated, can be sparse and minimize the transformations required to feed data into the model.\n",
    "They are _a lot_ more performant and efficient at scale than using numpy datastructures, even sparse ones.\n",
    "\n",
    "SciKeras does not (and cannot) support Datasets directly because Scikit-Learn itself does not support them and SciKeras' outwards API is Scikit-Learn's API.\n",
    "You may want to explore breaking out of SciKeras and just using TensorFlow/Keras directly to see if Datasets can have a large impact for your use case.\n",
    "\n",
    "[Dataset]: https://www.tensorflow.org/api_docs/python/tf/data/Dataset"
   ]
  },
  {
   "cell_type": "markdown",
   "id": "bfd2c156",
   "metadata": {},
   "source": [
    "## Bonus: dtypes\n",
    "\n",
    "You might be able to save even more memory by changing the output dtype of `OneHotEncoder`."
   ]
  },
  {
   "cell_type": "code",
   "execution_count": 12,
   "id": "775ee700",
   "metadata": {
    "execution": {
     "iopub.execute_input": "2022-12-12T14:48:11.210009Z",
     "iopub.status.busy": "2022-12-12T14:48:11.209626Z",
     "iopub.status.idle": "2022-12-12T14:48:11.214759Z",
     "shell.execute_reply": "2022-12-12T14:48:11.214162Z"
    }
   },
   "outputs": [],
   "source": [
    "sparse_pipline_uint8 = Pipeline(\n",
    "    [\n",
    "        (\"encoder\", OneHotEncoder(sparse=True, dtype=np.uint8)),\n",
    "        (\"model\", KerasRegressor(get_clf, loss=\"mse\", epochs=5, verbose=False))\n",
    "    ]\n",
    ")"
   ]
  },
  {
   "cell_type": "code",
   "execution_count": 13,
   "id": "f2c28433",
   "metadata": {
    "execution": {
     "iopub.execute_input": "2022-12-12T14:48:11.217520Z",
     "iopub.status.busy": "2022-12-12T14:48:11.217011Z",
     "iopub.status.idle": "2022-12-12T14:48:23.877676Z",
     "shell.execute_reply": "2022-12-12T14:48:23.876909Z"
    }
   },
   "outputs": [
    {
     "name": "stdout",
     "output_type": "stream",
     "text": [
      "peak memory: 1156.73 MiB, increment: 2.39 MiB\n"
     ]
    }
   ],
   "source": [
    "%memit sparse_pipline_uint8.fit(X, y)"
   ]
  }
 ],
 "metadata": {
  "jupytext": {
   "formats": "ipynb,md"
  },
  "kernelspec": {
   "display_name": "Python 3 (ipykernel)",
   "language": "python",
   "name": "python3"
  },
  "language_info": {
   "codemirror_mode": {
    "name": "ipython",
    "version": 3
   },
   "file_extension": ".py",
   "mimetype": "text/x-python",
   "name": "python",
   "nbconvert_exporter": "python",
   "pygments_lexer": "ipython3",
   "version": "3.8.15"
  }
 },
 "nbformat": 4,
 "nbformat_minor": 5
}
