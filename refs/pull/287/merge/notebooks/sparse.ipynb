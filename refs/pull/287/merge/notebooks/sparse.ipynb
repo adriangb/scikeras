{
 "cells": [
  {
   "cell_type": "raw",
   "id": "cd282e82",
   "metadata": {},
   "source": [
    "<a href=\"https://colab.research.google.com/github/adriangb/scikeras/blob/docs-deploy/refs/heads/master/notebooks/AutoEncoders.ipynb\"><img src=\"https://www.tensorflow.org/images/colab_logo_32px.png\">Run in Google Colab</a>"
   ]
  },
  {
   "cell_type": "markdown",
   "id": "34710d37",
   "metadata": {},
   "source": [
    "# Sparse Inputs"
   ]
  },
  {
   "cell_type": "markdown",
   "id": "c93a4087",
   "metadata": {},
   "source": [
    "SciKeras supports sparse inputs (`X`/features).\n",
    "You don't have to do anything special for this to work, you can just pass a sparse matrix to `fit()`.\n",
    "\n",
    "In this notebook, we'll demonstrate how this works and compare memory consumption of sparse inputs to dense inputs."
   ]
  },
  {
   "cell_type": "markdown",
   "id": "64466054",
   "metadata": {},
   "source": [
    "## Setup"
   ]
  },
  {
   "cell_type": "code",
   "execution_count": 1,
   "id": "4000cbee",
   "metadata": {
    "execution": {
     "iopub.execute_input": "2022-12-12T13:24:39.124006Z",
     "iopub.status.busy": "2022-12-12T13:24:39.123761Z",
     "iopub.status.idle": "2022-12-12T13:24:42.328580Z",
     "shell.execute_reply": "2022-12-12T13:24:42.327937Z"
    }
   },
   "outputs": [
    {
     "name": "stdout",
     "output_type": "stream",
     "text": [
      "Collecting memory_profiler\r\n"
     ]
    },
    {
     "name": "stdout",
     "output_type": "stream",
     "text": [
      "  Downloading memory_profiler-0.61.0-py3-none-any.whl (31 kB)\r\n",
      "Requirement already satisfied: psutil in /home/runner/work/scikeras/scikeras/.venv/lib/python3.8/site-packages (from memory_profiler) (5.9.4)\r\n"
     ]
    },
    {
     "name": "stdout",
     "output_type": "stream",
     "text": [
      "Installing collected packages: memory_profiler\r\n"
     ]
    },
    {
     "name": "stdout",
     "output_type": "stream",
     "text": [
      "Successfully installed memory_profiler-0.61.0\r\n"
     ]
    }
   ],
   "source": [
    "!pip install memory_profiler\n",
    "%load_ext memory_profiler"
   ]
  },
  {
   "cell_type": "code",
   "execution_count": 2,
   "id": "a92b8776",
   "metadata": {
    "execution": {
     "iopub.execute_input": "2022-12-12T13:24:42.333692Z",
     "iopub.status.busy": "2022-12-12T13:24:42.332439Z",
     "iopub.status.idle": "2022-12-12T13:24:44.527128Z",
     "shell.execute_reply": "2022-12-12T13:24:44.526504Z"
    }
   },
   "outputs": [],
   "source": [
    "import warnings\n",
    "import os\n",
    "os.environ['TF_CPP_MIN_LOG_LEVEL'] = '3'\n",
    "from tensorflow import get_logger\n",
    "get_logger().setLevel('ERROR')\n",
    "warnings.filterwarnings(\"ignore\", message=\"Setting the random state for TF\")"
   ]
  },
  {
   "cell_type": "code",
   "execution_count": 3,
   "id": "721ae4bb",
   "metadata": {
    "execution": {
     "iopub.execute_input": "2022-12-12T13:24:44.533432Z",
     "iopub.status.busy": "2022-12-12T13:24:44.531462Z",
     "iopub.status.idle": "2022-12-12T13:24:44.550675Z",
     "shell.execute_reply": "2022-12-12T13:24:44.550077Z"
    }
   },
   "outputs": [],
   "source": [
    "try:\n",
    "    import scikeras\n",
    "except ImportError:\n",
    "    !python -m pip install scikeras"
   ]
  },
  {
   "cell_type": "code",
   "execution_count": 4,
   "id": "a68df163",
   "metadata": {
    "execution": {
     "iopub.execute_input": "2022-12-12T13:24:44.558004Z",
     "iopub.status.busy": "2022-12-12T13:24:44.556652Z",
     "iopub.status.idle": "2022-12-12T13:24:44.836023Z",
     "shell.execute_reply": "2022-12-12T13:24:44.835265Z"
    }
   },
   "outputs": [],
   "source": [
    "import scipy\n",
    "import numpy as np\n",
    "from scikeras.wrappers import KerasRegressor\n",
    "from sklearn.preprocessing import OneHotEncoder\n",
    "from sklearn.pipeline import Pipeline\n",
    "from tensorflow import keras"
   ]
  },
  {
   "cell_type": "markdown",
   "id": "1c19bf94",
   "metadata": {},
   "source": [
    "## Data\n",
    "\n",
    "The dataset we'll be using is designed to demostrate a worst-case/best-case scenario for dense and sparse input features respectively.\n",
    "It consists of a single categorical feature with equal number of categories as rows.\n",
    "This means the one-hot encoded representation will require as many columns as it does rows, making it very ineffienct to store as a dense matrix but very efficient to store as a sparse matrix."
   ]
  },
  {
   "cell_type": "code",
   "execution_count": 5,
   "id": "2026cd10",
   "metadata": {
    "execution": {
     "iopub.execute_input": "2022-12-12T13:24:44.844737Z",
     "iopub.status.busy": "2022-12-12T13:24:44.844099Z",
     "iopub.status.idle": "2022-12-12T13:24:44.848368Z",
     "shell.execute_reply": "2022-12-12T13:24:44.847812Z"
    }
   },
   "outputs": [],
   "source": [
    "N_SAMPLES = 20_000  # hand tuned to be ~4GB peak\n",
    "\n",
    "X = np.arange(0, N_SAMPLES).reshape(-1, 1)\n",
    "y = np.random.uniform(0, 1, size=(X.shape[0],))"
   ]
  },
  {
   "cell_type": "markdown",
   "id": "d8d4209f",
   "metadata": {},
   "source": [
    "## Model\n",
    "\n",
    "The model here is nothing special, just a basic multilayer perceptron with one hidden layer."
   ]
  },
  {
   "cell_type": "code",
   "execution_count": 6,
   "id": "cdf9beef",
   "metadata": {
    "execution": {
     "iopub.execute_input": "2022-12-12T13:24:44.851166Z",
     "iopub.status.busy": "2022-12-12T13:24:44.850737Z",
     "iopub.status.idle": "2022-12-12T13:24:44.857052Z",
     "shell.execute_reply": "2022-12-12T13:24:44.856404Z"
    }
   },
   "outputs": [],
   "source": [
    "def get_clf(meta) -> keras.Model:\n",
    "    n_features_in_ = meta[\"n_features_in_\"]\n",
    "    model = keras.models.Sequential()\n",
    "    model.add(keras.layers.Input(shape=(n_features_in_,)))\n",
    "    # a single hidden layer\n",
    "    model.add(keras.layers.Dense(100, activation=\"relu\"))\n",
    "    model.add(keras.layers.Dense(1))\n",
    "    return model"
   ]
  },
  {
   "cell_type": "markdown",
   "id": "c24cd1c0",
   "metadata": {},
   "source": [
    "## Pipelines\n",
    "\n",
    "Here is where it gets interesting.\n",
    "We make two Scikit-Learn pipelines that use `OneHotEncoder`: one that uses `sparse=False` to force a dense matrix as the output and another that uses `sparse=True` (the default)."
   ]
  },
  {
   "cell_type": "code",
   "execution_count": 7,
   "id": "822ea941",
   "metadata": {
    "execution": {
     "iopub.execute_input": "2022-12-12T13:24:44.860303Z",
     "iopub.status.busy": "2022-12-12T13:24:44.859787Z",
     "iopub.status.idle": "2022-12-12T13:24:44.866687Z",
     "shell.execute_reply": "2022-12-12T13:24:44.866049Z"
    }
   },
   "outputs": [],
   "source": [
    "dense_pipeline = Pipeline(\n",
    "    [\n",
    "        (\"encoder\", OneHotEncoder(sparse=False)),\n",
    "        (\"model\", KerasRegressor(get_clf, loss=\"mse\", epochs=5, verbose=False))\n",
    "    ]\n",
    ")\n",
    "\n",
    "sparse_pipeline = Pipeline(\n",
    "    [\n",
    "        (\"encoder\", OneHotEncoder(sparse=True)),\n",
    "        (\"model\", KerasRegressor(get_clf, loss=\"mse\", epochs=5, verbose=False))\n",
    "    ]\n",
    ")"
   ]
  },
  {
   "cell_type": "markdown",
   "id": "87084b70",
   "metadata": {},
   "source": [
    "## Benchmark\n",
    "\n",
    "Our benchmark will be to just train each one of these pipelines and measure peak memory consumption."
   ]
  },
  {
   "cell_type": "code",
   "execution_count": 8,
   "id": "7338fc67",
   "metadata": {
    "execution": {
     "iopub.execute_input": "2022-12-12T13:24:44.870052Z",
     "iopub.status.busy": "2022-12-12T13:24:44.869725Z",
     "iopub.status.idle": "2022-12-12T13:25:47.934643Z",
     "shell.execute_reply": "2022-12-12T13:25:47.933953Z"
    }
   },
   "outputs": [
    {
     "name": "stdout",
     "output_type": "stream",
     "text": [
      "peak memory: 3553.02 MiB, increment: 3147.87 MiB\n"
     ]
    }
   ],
   "source": [
    "%memit dense_pipeline.fit(X, y)"
   ]
  },
  {
   "cell_type": "code",
   "execution_count": 9,
   "id": "1f58cc2b",
   "metadata": {
    "execution": {
     "iopub.execute_input": "2022-12-12T13:25:47.939794Z",
     "iopub.status.busy": "2022-12-12T13:25:47.938519Z",
     "iopub.status.idle": "2022-12-12T13:26:10.530359Z",
     "shell.execute_reply": "2022-12-12T13:26:10.529561Z"
    }
   },
   "outputs": [
    {
     "name": "stdout",
     "output_type": "stream",
     "text": [
      "peak memory: 687.63 MiB, increment: 75.60 MiB\n"
     ]
    }
   ],
   "source": [
    "%memit sparse_pipeline.fit(X, y)"
   ]
  },
  {
   "cell_type": "markdown",
   "id": "f0bf1f70",
   "metadata": {},
   "source": [
    "You should see at least 100x more memory consumption **increment** in the dense pipeline."
   ]
  },
  {
   "cell_type": "markdown",
   "id": "471fd393",
   "metadata": {},
   "source": [
    "### Runtime\n",
    "\n",
    "Using sparse inputs can have a drastic impact on memory usage, but it often (not always) hurts overall runtime."
   ]
  },
  {
   "cell_type": "code",
   "execution_count": 10,
   "id": "db1c02a5",
   "metadata": {
    "execution": {
     "iopub.execute_input": "2022-12-12T13:26:10.536633Z",
     "iopub.status.busy": "2022-12-12T13:26:10.535238Z",
     "iopub.status.idle": "2022-12-12T13:31:39.730787Z",
     "shell.execute_reply": "2022-12-12T13:31:39.729474Z"
    }
   },
   "outputs": [
    {
     "name": "stdout",
     "output_type": "stream",
     "text": [
      "38.5 s ± 8.21 s per loop (mean ± std. dev. of 7 runs, 1 loop each)\n"
     ]
    }
   ],
   "source": [
    "%timeit dense_pipeline.fit(X, y)"
   ]
  },
  {
   "cell_type": "code",
   "execution_count": 11,
   "id": "6ca56a15",
   "metadata": {
    "execution": {
     "iopub.execute_input": "2022-12-12T13:31:39.733729Z",
     "iopub.status.busy": "2022-12-12T13:31:39.733493Z",
     "iopub.status.idle": "2022-12-12T13:33:36.012290Z",
     "shell.execute_reply": "2022-12-12T13:33:36.011688Z"
    }
   },
   "outputs": [
    {
     "name": "stdout",
     "output_type": "stream",
     "text": [
      "14.7 s ± 2.44 s per loop (mean ± std. dev. of 7 runs, 1 loop each)\n"
     ]
    }
   ],
   "source": [
    "%timeit sparse_pipeline.fit(X, y)"
   ]
  },
  {
   "cell_type": "markdown",
   "id": "a0c2b566",
   "metadata": {},
   "source": [
    "## Tensorflow Datasets\n",
    "\n",
    "Tensorflow provides a whole suite of functionality around the [Dataset].\n",
    "Datasets are lazily evaluated, can be sparse and minimize the transformations required to feed data into the model.\n",
    "They are _a lot_ more performant and efficient at scale than using numpy datastructures, even sparse ones.\n",
    "\n",
    "SciKeras does not (and cannot) support Datasets directly because Scikit-Learn itself does not support them and SciKeras' outwards API is Scikit-Learn's API.\n",
    "You may want to explore breaking out of SciKeras and just using TensorFlow/Keras directly to see if Datasets can have a large impact for your use case.\n",
    "\n",
    "[Dataset]: https://www.tensorflow.org/api_docs/python/tf/data/Dataset"
   ]
  },
  {
   "cell_type": "markdown",
   "id": "9c45db4f",
   "metadata": {},
   "source": [
    "## Bonus: dtypes\n",
    "\n",
    "You might be able to save even more memory by changing the output dtype of `OneHotEncoder`."
   ]
  },
  {
   "cell_type": "code",
   "execution_count": 12,
   "id": "1f84db10",
   "metadata": {
    "execution": {
     "iopub.execute_input": "2022-12-12T13:33:36.017762Z",
     "iopub.status.busy": "2022-12-12T13:33:36.017335Z",
     "iopub.status.idle": "2022-12-12T13:33:36.021433Z",
     "shell.execute_reply": "2022-12-12T13:33:36.020849Z"
    }
   },
   "outputs": [],
   "source": [
    "sparse_pipline_uint8 = Pipeline(\n",
    "    [\n",
    "        (\"encoder\", OneHotEncoder(sparse=True, dtype=np.uint8)),\n",
    "        (\"model\", KerasRegressor(get_clf, loss=\"mse\", epochs=5, verbose=False))\n",
    "    ]\n",
    ")"
   ]
  },
  {
   "cell_type": "code",
   "execution_count": 13,
   "id": "e7f10d14",
   "metadata": {
    "execution": {
     "iopub.execute_input": "2022-12-12T13:33:36.024280Z",
     "iopub.status.busy": "2022-12-12T13:33:36.023912Z",
     "iopub.status.idle": "2022-12-12T13:33:52.081986Z",
     "shell.execute_reply": "2022-12-12T13:33:52.081206Z"
    }
   },
   "outputs": [
    {
     "name": "stdout",
     "output_type": "stream",
     "text": [
      "peak memory: 979.34 MiB, increment: 7.61 MiB\n"
     ]
    }
   ],
   "source": [
    "%memit sparse_pipline_uint8.fit(X, y)"
   ]
  }
 ],
 "metadata": {
  "jupytext": {
   "formats": "ipynb,md"
  },
  "kernelspec": {
   "display_name": "Python 3 (ipykernel)",
   "language": "python",
   "name": "python3"
  },
  "language_info": {
   "codemirror_mode": {
    "name": "ipython",
    "version": 3
   },
   "file_extension": ".py",
   "mimetype": "text/x-python",
   "name": "python",
   "nbconvert_exporter": "python",
   "pygments_lexer": "ipython3",
   "version": "3.8.15"
  }
 },
 "nbformat": 4,
 "nbformat_minor": 5
}
