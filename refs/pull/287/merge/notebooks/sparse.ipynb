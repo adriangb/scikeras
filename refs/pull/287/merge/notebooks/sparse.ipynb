{
 "cells": [
  {
   "cell_type": "raw",
   "id": "14a789d6",
   "metadata": {},
   "source": [
    "<a href=\"https://colab.research.google.com/github/adriangb/scikeras/blob/docs-deploy/refs/heads/master/notebooks/AutoEncoders.ipynb\"><img src=\"https://www.tensorflow.org/images/colab_logo_32px.png\">Run in Google Colab</a>"
   ]
  },
  {
   "cell_type": "markdown",
   "id": "94d5278f",
   "metadata": {},
   "source": [
    "# Sparse Inputs"
   ]
  },
  {
   "cell_type": "markdown",
   "id": "901d4ea5",
   "metadata": {},
   "source": [
    "SciKeras supports sparse inputs (`X`/features).\n",
    "You don't have to do anything special for this to work, you can just pass a sparse matrix to `fit()`.\n",
    "\n",
    "In this notebook, we'll demonstrate how this works and compare memory consumption of sparse inputs to dense inputs."
   ]
  },
  {
   "cell_type": "markdown",
   "id": "4c654de8",
   "metadata": {},
   "source": [
    "## Setup"
   ]
  },
  {
   "cell_type": "code",
   "execution_count": 1,
   "id": "45460df8",
   "metadata": {
    "execution": {
     "iopub.execute_input": "2022-11-29T08:21:02.418573Z",
     "iopub.status.busy": "2022-11-29T08:21:02.418297Z",
     "iopub.status.idle": "2022-11-29T08:21:05.124018Z",
     "shell.execute_reply": "2022-11-29T08:21:05.123326Z"
    }
   },
   "outputs": [
    {
     "name": "stdout",
     "output_type": "stream",
     "text": [
      "Collecting memory_profiler\r\n"
     ]
    },
    {
     "name": "stdout",
     "output_type": "stream",
     "text": [
      "  Downloading memory_profiler-0.61.0-py3-none-any.whl (31 kB)\r\n",
      "Requirement already satisfied: psutil in /home/runner/work/scikeras/scikeras/.venv/lib/python3.8/site-packages (from memory_profiler) (5.9.4)\r\n"
     ]
    },
    {
     "name": "stdout",
     "output_type": "stream",
     "text": [
      "Installing collected packages: memory_profiler\r\n"
     ]
    },
    {
     "name": "stdout",
     "output_type": "stream",
     "text": [
      "Successfully installed memory_profiler-0.61.0\r\n"
     ]
    }
   ],
   "source": [
    "!pip install memory_profiler\n",
    "%load_ext memory_profiler"
   ]
  },
  {
   "cell_type": "code",
   "execution_count": 2,
   "id": "5d688d20",
   "metadata": {
    "execution": {
     "iopub.execute_input": "2022-11-29T08:21:05.129441Z",
     "iopub.status.busy": "2022-11-29T08:21:05.128709Z",
     "iopub.status.idle": "2022-11-29T08:21:07.134026Z",
     "shell.execute_reply": "2022-11-29T08:21:07.133346Z"
    }
   },
   "outputs": [],
   "source": [
    "import warnings\n",
    "import os\n",
    "os.environ['TF_CPP_MIN_LOG_LEVEL'] = '3'\n",
    "from tensorflow import get_logger\n",
    "get_logger().setLevel('ERROR')\n",
    "warnings.filterwarnings(\"ignore\", message=\"Setting the random state for TF\")"
   ]
  },
  {
   "cell_type": "code",
   "execution_count": 3,
   "id": "8df33ce0",
   "metadata": {
    "execution": {
     "iopub.execute_input": "2022-11-29T08:21:07.139154Z",
     "iopub.status.busy": "2022-11-29T08:21:07.137867Z",
     "iopub.status.idle": "2022-11-29T08:21:07.157814Z",
     "shell.execute_reply": "2022-11-29T08:21:07.157074Z"
    }
   },
   "outputs": [],
   "source": [
    "try:\n",
    "    import scikeras\n",
    "except ImportError:\n",
    "    !python -m pip install scikeras"
   ]
  },
  {
   "cell_type": "code",
   "execution_count": 4,
   "id": "912da83c",
   "metadata": {
    "execution": {
     "iopub.execute_input": "2022-11-29T08:21:07.163833Z",
     "iopub.status.busy": "2022-11-29T08:21:07.162644Z",
     "iopub.status.idle": "2022-11-29T08:21:07.474401Z",
     "shell.execute_reply": "2022-11-29T08:21:07.472360Z"
    }
   },
   "outputs": [],
   "source": [
    "import scipy\n",
    "import numpy as np\n",
    "from scikeras.wrappers import KerasRegressor\n",
    "from sklearn.preprocessing import OneHotEncoder\n",
    "from sklearn.pipeline import Pipeline\n",
    "from tensorflow import keras"
   ]
  },
  {
   "cell_type": "markdown",
   "id": "b763da4c",
   "metadata": {},
   "source": [
    "## Data\n",
    "\n",
    "The dataset we'll be using is designed to demostrate a worst-case/best-case scenario for dense and sparse input features respectively.\n",
    "It consists of a single categorical feature with equal number of categories as rows.\n",
    "This means the one-hot encoded representation will require as many columns as it does rows, making it very ineffienct to store as a dense matrix but very efficient to store as a sparse matrix."
   ]
  },
  {
   "cell_type": "code",
   "execution_count": 5,
   "id": "9c56bccb",
   "metadata": {
    "execution": {
     "iopub.execute_input": "2022-11-29T08:21:07.484214Z",
     "iopub.status.busy": "2022-11-29T08:21:07.483735Z",
     "iopub.status.idle": "2022-11-29T08:21:07.492182Z",
     "shell.execute_reply": "2022-11-29T08:21:07.491490Z"
    }
   },
   "outputs": [],
   "source": [
    "N_SAMPLES = 20_000  # hand tuned to be ~4GB peak\n",
    "\n",
    "X = np.arange(0, N_SAMPLES).reshape(-1, 1)\n",
    "y = np.random.uniform(0, 1, size=(X.shape[0],))"
   ]
  },
  {
   "cell_type": "markdown",
   "id": "47cab8b8",
   "metadata": {},
   "source": [
    "## Model\n",
    "\n",
    "The model here is nothing special, just a basic multilayer perceptron with one hidden layer."
   ]
  },
  {
   "cell_type": "code",
   "execution_count": 6,
   "id": "edc25a04",
   "metadata": {
    "execution": {
     "iopub.execute_input": "2022-11-29T08:21:07.495448Z",
     "iopub.status.busy": "2022-11-29T08:21:07.495213Z",
     "iopub.status.idle": "2022-11-29T08:21:07.500790Z",
     "shell.execute_reply": "2022-11-29T08:21:07.500117Z"
    }
   },
   "outputs": [],
   "source": [
    "def get_clf(meta) -> keras.Model:\n",
    "    n_features_in_ = meta[\"n_features_in_\"]\n",
    "    model = keras.models.Sequential()\n",
    "    model.add(keras.layers.Input(shape=(n_features_in_,)))\n",
    "    # a single hidden layer\n",
    "    model.add(keras.layers.Dense(100, activation=\"relu\"))\n",
    "    model.add(keras.layers.Dense(1))\n",
    "    return model"
   ]
  },
  {
   "cell_type": "markdown",
   "id": "1c2c883b",
   "metadata": {},
   "source": [
    "## Pipelines\n",
    "\n",
    "Here is where it gets interesting.\n",
    "We make two Scikit-Learn pipelines that use `OneHotEncoder`: one that uses `sparse=False` to force a dense matrix as the output and another that uses `sparse=True` (the default)."
   ]
  },
  {
   "cell_type": "code",
   "execution_count": 7,
   "id": "6d67f6ea",
   "metadata": {
    "execution": {
     "iopub.execute_input": "2022-11-29T08:21:07.503869Z",
     "iopub.status.busy": "2022-11-29T08:21:07.503566Z",
     "iopub.status.idle": "2022-11-29T08:21:07.509055Z",
     "shell.execute_reply": "2022-11-29T08:21:07.508381Z"
    }
   },
   "outputs": [],
   "source": [
    "dense_pipeline = Pipeline(\n",
    "    [\n",
    "        (\"encoder\", OneHotEncoder(sparse=False)),\n",
    "        (\"model\", KerasRegressor(get_clf, loss=\"mse\", epochs=5, verbose=False))\n",
    "    ]\n",
    ")\n",
    "\n",
    "sparse_pipeline = Pipeline(\n",
    "    [\n",
    "        (\"encoder\", OneHotEncoder(sparse=True)),\n",
    "        (\"model\", KerasRegressor(get_clf, loss=\"mse\", epochs=5, verbose=False))\n",
    "    ]\n",
    ")"
   ]
  },
  {
   "cell_type": "markdown",
   "id": "2c1849a7",
   "metadata": {},
   "source": [
    "## Benchmark\n",
    "\n",
    "Our benchmark will be to just train each one of these pipelines and measure peak memory consumption."
   ]
  },
  {
   "cell_type": "code",
   "execution_count": 8,
   "id": "5ab1d81d",
   "metadata": {
    "execution": {
     "iopub.execute_input": "2022-11-29T08:21:07.512506Z",
     "iopub.status.busy": "2022-11-29T08:21:07.511930Z",
     "iopub.status.idle": "2022-11-29T08:22:02.635098Z",
     "shell.execute_reply": "2022-11-29T08:22:02.634348Z"
    }
   },
   "outputs": [
    {
     "name": "stdout",
     "output_type": "stream",
     "text": [
      "peak memory: 3534.43 MiB, increment: 3138.01 MiB\n"
     ]
    }
   ],
   "source": [
    "%memit dense_pipeline.fit(X, y)"
   ]
  },
  {
   "cell_type": "code",
   "execution_count": 9,
   "id": "54887b8c",
   "metadata": {
    "execution": {
     "iopub.execute_input": "2022-11-29T08:22:02.648008Z",
     "iopub.status.busy": "2022-11-29T08:22:02.646722Z",
     "iopub.status.idle": "2022-11-29T08:22:19.845834Z",
     "shell.execute_reply": "2022-11-29T08:22:19.845065Z"
    }
   },
   "outputs": [
    {
     "name": "stdout",
     "output_type": "stream",
     "text": [
      "peak memory: 711.88 MiB, increment: 80.86 MiB\n"
     ]
    }
   ],
   "source": [
    "%memit sparse_pipeline.fit(X, y)"
   ]
  },
  {
   "cell_type": "markdown",
   "id": "70ea6272",
   "metadata": {},
   "source": [
    "You should see at least 100x more memory consumption **increment** in the dense pipeline."
   ]
  },
  {
   "cell_type": "markdown",
   "id": "7c02d7e1",
   "metadata": {},
   "source": [
    "### Runtime\n",
    "\n",
    "Using sparse inputs can have a drastic impact on memory usage, but it often (not always) hurts overall runtime."
   ]
  },
  {
   "cell_type": "code",
   "execution_count": 10,
   "id": "5b92e02e",
   "metadata": {
    "execution": {
     "iopub.execute_input": "2022-11-29T08:22:19.855667Z",
     "iopub.status.busy": "2022-11-29T08:22:19.850377Z",
     "iopub.status.idle": "2022-11-29T08:28:22.392314Z",
     "shell.execute_reply": "2022-11-29T08:28:22.391675Z"
    }
   },
   "outputs": [
    {
     "name": "stdout",
     "output_type": "stream",
     "text": [
      "44.5 s ± 5.76 s per loop (mean ± std. dev. of 7 runs, 1 loop each)\n"
     ]
    }
   ],
   "source": [
    "%timeit dense_pipeline.fit(X, y)"
   ]
  },
  {
   "cell_type": "code",
   "execution_count": 11,
   "id": "71b558c8",
   "metadata": {
    "execution": {
     "iopub.execute_input": "2022-11-29T08:28:22.397006Z",
     "iopub.status.busy": "2022-11-29T08:28:22.396506Z",
     "iopub.status.idle": "2022-11-29T08:29:49.220265Z",
     "shell.execute_reply": "2022-11-29T08:29:49.219221Z"
    }
   },
   "outputs": [
    {
     "name": "stdout",
     "output_type": "stream",
     "text": [
      "10.7 s ± 393 ms per loop (mean ± std. dev. of 7 runs, 1 loop each)\n"
     ]
    }
   ],
   "source": [
    "%timeit sparse_pipeline.fit(X, y)"
   ]
  },
  {
   "cell_type": "markdown",
   "id": "1beda7da",
   "metadata": {},
   "source": [
    "## Tensorflow Datasets\n",
    "\n",
    "Tensorflow provides a whole suite of functionality around the [Dataset].\n",
    "Datasets are lazily evaluated, can be sparse and minimize the transformations required to feed data into the model.\n",
    "They are _a lot_ more performant and efficient at scale than using numpy datastructures, even sparse ones.\n",
    "\n",
    "SciKeras does not (and cannot) support Datasets directly because Scikit-Learn itself does not support them and SciKeras' outwards API is Scikit-Learn's API.\n",
    "You may want to explore breaking out of SciKeras and just using TensorFlow/Keras directly to see if Datasets can have a large impact for your use case.\n",
    "\n",
    "[Dataset]: https://www.tensorflow.org/api_docs/python/tf/data/Dataset"
   ]
  },
  {
   "cell_type": "markdown",
   "id": "42a7bca1",
   "metadata": {},
   "source": [
    "## Bonus: dtypes\n",
    "\n",
    "You might be able to save even more memory by changing the output dtype of `OneHotEncoder`."
   ]
  },
  {
   "cell_type": "code",
   "execution_count": 12,
   "id": "1a9e2fb8",
   "metadata": {
    "execution": {
     "iopub.execute_input": "2022-11-29T08:29:49.225206Z",
     "iopub.status.busy": "2022-11-29T08:29:49.224582Z",
     "iopub.status.idle": "2022-11-29T08:29:49.228531Z",
     "shell.execute_reply": "2022-11-29T08:29:49.227900Z"
    }
   },
   "outputs": [],
   "source": [
    "sparse_pipline_uint8 = Pipeline(\n",
    "    [\n",
    "        (\"encoder\", OneHotEncoder(sparse=True, dtype=np.uint8)),\n",
    "        (\"model\", KerasRegressor(get_clf, loss=\"mse\", epochs=5, verbose=False))\n",
    "    ]\n",
    ")"
   ]
  },
  {
   "cell_type": "code",
   "execution_count": 13,
   "id": "63cb4562",
   "metadata": {
    "execution": {
     "iopub.execute_input": "2022-11-29T08:29:49.231130Z",
     "iopub.status.busy": "2022-11-29T08:29:49.230912Z",
     "iopub.status.idle": "2022-11-29T08:30:01.376740Z",
     "shell.execute_reply": "2022-11-29T08:30:01.375905Z"
    }
   },
   "outputs": [
    {
     "name": "stdout",
     "output_type": "stream",
     "text": [
      "peak memory: 1107.14 MiB, increment: 0.23 MiB\n"
     ]
    }
   ],
   "source": [
    "%memit sparse_pipline_uint8.fit(X, y)"
   ]
  }
 ],
 "metadata": {
  "jupytext": {
   "formats": "ipynb,md"
  },
  "kernelspec": {
   "display_name": "Python 3 (ipykernel)",
   "language": "python",
   "name": "python3"
  },
  "language_info": {
   "codemirror_mode": {
    "name": "ipython",
    "version": 3
   },
   "file_extension": ".py",
   "mimetype": "text/x-python",
   "name": "python",
   "nbconvert_exporter": "python",
   "pygments_lexer": "ipython3",
   "version": "3.8.14"
  }
 },
 "nbformat": 4,
 "nbformat_minor": 5
}
