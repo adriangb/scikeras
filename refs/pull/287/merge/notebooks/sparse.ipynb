{
 "cells": [
  {
   "cell_type": "raw",
   "id": "ab55a8f6",
   "metadata": {},
   "source": [
    "<a href=\"https://colab.research.google.com/github/adriangb/scikeras/blob/docs-deploy/refs/heads/master/notebooks/AutoEncoders.ipynb\"><img src=\"https://www.tensorflow.org/images/colab_logo_32px.png\">Run in Google Colab</a>"
   ]
  },
  {
   "cell_type": "markdown",
   "id": "8f5f8040",
   "metadata": {},
   "source": [
    "# Sparse Inputs"
   ]
  },
  {
   "cell_type": "markdown",
   "id": "7b004f17",
   "metadata": {},
   "source": [
    "SciKeras supports sparse inputs (`X`/features).\n",
    "You don't have to do anything special for this to work, you can just pass a sparse matrix to `fit()`.\n",
    "\n",
    "In this notebook, we'll demonstrate how this works and compare memory consumption of sparse inputs to dense inputs."
   ]
  },
  {
   "cell_type": "markdown",
   "id": "bcf770bb",
   "metadata": {},
   "source": [
    "## Setup"
   ]
  },
  {
   "cell_type": "code",
   "execution_count": 1,
   "id": "e880c34a",
   "metadata": {
    "execution": {
     "iopub.execute_input": "2022-11-30T05:31:54.465687Z",
     "iopub.status.busy": "2022-11-30T05:31:54.465433Z",
     "iopub.status.idle": "2022-11-30T05:31:57.238695Z",
     "shell.execute_reply": "2022-11-30T05:31:57.237991Z"
    }
   },
   "outputs": [
    {
     "name": "stdout",
     "output_type": "stream",
     "text": [
      "Collecting memory_profiler\r\n"
     ]
    },
    {
     "name": "stdout",
     "output_type": "stream",
     "text": [
      "  Downloading memory_profiler-0.61.0-py3-none-any.whl (31 kB)\r\n",
      "Requirement already satisfied: psutil in /home/runner/work/scikeras/scikeras/.venv/lib/python3.8/site-packages (from memory_profiler) (5.9.4)\r\n"
     ]
    },
    {
     "name": "stdout",
     "output_type": "stream",
     "text": [
      "Installing collected packages: memory_profiler\r\n"
     ]
    },
    {
     "name": "stdout",
     "output_type": "stream",
     "text": [
      "Successfully installed memory_profiler-0.61.0\r\n"
     ]
    }
   ],
   "source": [
    "!pip install memory_profiler\n",
    "%load_ext memory_profiler"
   ]
  },
  {
   "cell_type": "code",
   "execution_count": 2,
   "id": "6046604f",
   "metadata": {
    "execution": {
     "iopub.execute_input": "2022-11-30T05:31:57.243858Z",
     "iopub.status.busy": "2022-11-30T05:31:57.242612Z",
     "iopub.status.idle": "2022-11-30T05:31:59.372228Z",
     "shell.execute_reply": "2022-11-30T05:31:59.371599Z"
    }
   },
   "outputs": [],
   "source": [
    "import warnings\n",
    "import os\n",
    "os.environ['TF_CPP_MIN_LOG_LEVEL'] = '3'\n",
    "from tensorflow import get_logger\n",
    "get_logger().setLevel('ERROR')\n",
    "warnings.filterwarnings(\"ignore\", message=\"Setting the random state for TF\")"
   ]
  },
  {
   "cell_type": "code",
   "execution_count": 3,
   "id": "19d4e418",
   "metadata": {
    "execution": {
     "iopub.execute_input": "2022-11-30T05:31:59.378288Z",
     "iopub.status.busy": "2022-11-30T05:31:59.376430Z",
     "iopub.status.idle": "2022-11-30T05:31:59.395093Z",
     "shell.execute_reply": "2022-11-30T05:31:59.394565Z"
    }
   },
   "outputs": [],
   "source": [
    "try:\n",
    "    import scikeras\n",
    "except ImportError:\n",
    "    !python -m pip install scikeras"
   ]
  },
  {
   "cell_type": "code",
   "execution_count": 4,
   "id": "26ff9be5",
   "metadata": {
    "execution": {
     "iopub.execute_input": "2022-11-30T05:31:59.400222Z",
     "iopub.status.busy": "2022-11-30T05:31:59.398638Z",
     "iopub.status.idle": "2022-11-30T05:31:59.628149Z",
     "shell.execute_reply": "2022-11-30T05:31:59.627497Z"
    }
   },
   "outputs": [],
   "source": [
    "import scipy\n",
    "import numpy as np\n",
    "from scikeras.wrappers import KerasRegressor\n",
    "from sklearn.preprocessing import OneHotEncoder\n",
    "from sklearn.pipeline import Pipeline\n",
    "from tensorflow import keras"
   ]
  },
  {
   "cell_type": "markdown",
   "id": "cbaaf4cc",
   "metadata": {},
   "source": [
    "## Data\n",
    "\n",
    "The dataset we'll be using is designed to demostrate a worst-case/best-case scenario for dense and sparse input features respectively.\n",
    "It consists of a single categorical feature with equal number of categories as rows.\n",
    "This means the one-hot encoded representation will require as many columns as it does rows, making it very ineffienct to store as a dense matrix but very efficient to store as a sparse matrix."
   ]
  },
  {
   "cell_type": "code",
   "execution_count": 5,
   "id": "65708149",
   "metadata": {
    "execution": {
     "iopub.execute_input": "2022-11-30T05:31:59.633057Z",
     "iopub.status.busy": "2022-11-30T05:31:59.631876Z",
     "iopub.status.idle": "2022-11-30T05:31:59.645406Z",
     "shell.execute_reply": "2022-11-30T05:31:59.644829Z"
    }
   },
   "outputs": [],
   "source": [
    "N_SAMPLES = 20_000  # hand tuned to be ~4GB peak\n",
    "\n",
    "X = np.arange(0, N_SAMPLES).reshape(-1, 1)\n",
    "y = np.random.uniform(0, 1, size=(X.shape[0],))"
   ]
  },
  {
   "cell_type": "markdown",
   "id": "5026c274",
   "metadata": {},
   "source": [
    "## Model\n",
    "\n",
    "The model here is nothing special, just a basic multilayer perceptron with one hidden layer."
   ]
  },
  {
   "cell_type": "code",
   "execution_count": 6,
   "id": "1d691d54",
   "metadata": {
    "execution": {
     "iopub.execute_input": "2022-11-30T05:31:59.648776Z",
     "iopub.status.busy": "2022-11-30T05:31:59.648543Z",
     "iopub.status.idle": "2022-11-30T05:31:59.653983Z",
     "shell.execute_reply": "2022-11-30T05:31:59.653419Z"
    }
   },
   "outputs": [],
   "source": [
    "def get_clf(meta) -> keras.Model:\n",
    "    n_features_in_ = meta[\"n_features_in_\"]\n",
    "    model = keras.models.Sequential()\n",
    "    model.add(keras.layers.Input(shape=(n_features_in_,)))\n",
    "    # a single hidden layer\n",
    "    model.add(keras.layers.Dense(100, activation=\"relu\"))\n",
    "    model.add(keras.layers.Dense(1))\n",
    "    return model"
   ]
  },
  {
   "cell_type": "markdown",
   "id": "0df15690",
   "metadata": {},
   "source": [
    "## Pipelines\n",
    "\n",
    "Here is where it gets interesting.\n",
    "We make two Scikit-Learn pipelines that use `OneHotEncoder`: one that uses `sparse=False` to force a dense matrix as the output and another that uses `sparse=True` (the default)."
   ]
  },
  {
   "cell_type": "code",
   "execution_count": 7,
   "id": "20e3893d",
   "metadata": {
    "execution": {
     "iopub.execute_input": "2022-11-30T05:31:59.658158Z",
     "iopub.status.busy": "2022-11-30T05:31:59.656855Z",
     "iopub.status.idle": "2022-11-30T05:31:59.662919Z",
     "shell.execute_reply": "2022-11-30T05:31:59.662389Z"
    }
   },
   "outputs": [],
   "source": [
    "dense_pipeline = Pipeline(\n",
    "    [\n",
    "        (\"encoder\", OneHotEncoder(sparse=False)),\n",
    "        (\"model\", KerasRegressor(get_clf, loss=\"mse\", epochs=5, verbose=False))\n",
    "    ]\n",
    ")\n",
    "\n",
    "sparse_pipeline = Pipeline(\n",
    "    [\n",
    "        (\"encoder\", OneHotEncoder(sparse=True)),\n",
    "        (\"model\", KerasRegressor(get_clf, loss=\"mse\", epochs=5, verbose=False))\n",
    "    ]\n",
    ")"
   ]
  },
  {
   "cell_type": "markdown",
   "id": "e297a335",
   "metadata": {},
   "source": [
    "## Benchmark\n",
    "\n",
    "Our benchmark will be to just train each one of these pipelines and measure peak memory consumption."
   ]
  },
  {
   "cell_type": "code",
   "execution_count": 8,
   "id": "f6b7bd0d",
   "metadata": {
    "execution": {
     "iopub.execute_input": "2022-11-30T05:31:59.668039Z",
     "iopub.status.busy": "2022-11-30T05:31:59.667814Z",
     "iopub.status.idle": "2022-11-30T05:32:51.795315Z",
     "shell.execute_reply": "2022-11-30T05:32:51.794617Z"
    }
   },
   "outputs": [
    {
     "name": "stdout",
     "output_type": "stream",
     "text": [
      "peak memory: 3547.39 MiB, increment: 3150.38 MiB\n"
     ]
    }
   ],
   "source": [
    "%memit dense_pipeline.fit(X, y)"
   ]
  },
  {
   "cell_type": "code",
   "execution_count": 9,
   "id": "00ea1b9b",
   "metadata": {
    "execution": {
     "iopub.execute_input": "2022-11-30T05:32:51.801498Z",
     "iopub.status.busy": "2022-11-30T05:32:51.798832Z",
     "iopub.status.idle": "2022-11-30T05:33:09.213084Z",
     "shell.execute_reply": "2022-11-30T05:33:09.212238Z"
    }
   },
   "outputs": [
    {
     "name": "stdout",
     "output_type": "stream",
     "text": [
      "peak memory: 638.73 MiB, increment: 58.54 MiB\n"
     ]
    }
   ],
   "source": [
    "%memit sparse_pipeline.fit(X, y)"
   ]
  },
  {
   "cell_type": "markdown",
   "id": "777f5258",
   "metadata": {},
   "source": [
    "You should see at least 100x more memory consumption **increment** in the dense pipeline."
   ]
  },
  {
   "cell_type": "markdown",
   "id": "916ee761",
   "metadata": {},
   "source": [
    "### Runtime\n",
    "\n",
    "Using sparse inputs can have a drastic impact on memory usage, but it often (not always) hurts overall runtime."
   ]
  },
  {
   "cell_type": "code",
   "execution_count": 10,
   "id": "703bce07",
   "metadata": {
    "execution": {
     "iopub.execute_input": "2022-11-30T05:33:09.216761Z",
     "iopub.status.busy": "2022-11-30T05:33:09.216418Z",
     "iopub.status.idle": "2022-11-30T05:38:52.415810Z",
     "shell.execute_reply": "2022-11-30T05:38:52.415088Z"
    }
   },
   "outputs": [
    {
     "name": "stdout",
     "output_type": "stream",
     "text": [
      "41.9 s ± 8.53 s per loop (mean ± std. dev. of 7 runs, 1 loop each)\n"
     ]
    }
   ],
   "source": [
    "%timeit dense_pipeline.fit(X, y)"
   ]
  },
  {
   "cell_type": "code",
   "execution_count": 11,
   "id": "4dbc884b",
   "metadata": {
    "execution": {
     "iopub.execute_input": "2022-11-30T05:38:52.421023Z",
     "iopub.status.busy": "2022-11-30T05:38:52.418721Z",
     "iopub.status.idle": "2022-11-30T05:40:24.562384Z",
     "shell.execute_reply": "2022-11-30T05:40:24.561776Z"
    }
   },
   "outputs": [
    {
     "name": "stdout",
     "output_type": "stream",
     "text": [
      "11.5 s ± 745 ms per loop (mean ± std. dev. of 7 runs, 1 loop each)\n"
     ]
    }
   ],
   "source": [
    "%timeit sparse_pipeline.fit(X, y)"
   ]
  },
  {
   "cell_type": "markdown",
   "id": "777364f7",
   "metadata": {},
   "source": [
    "## Tensorflow Datasets\n",
    "\n",
    "Tensorflow provides a whole suite of functionality around the [Dataset].\n",
    "Datasets are lazily evaluated, can be sparse and minimize the transformations required to feed data into the model.\n",
    "They are _a lot_ more performant and efficient at scale than using numpy datastructures, even sparse ones.\n",
    "\n",
    "SciKeras does not (and cannot) support Datasets directly because Scikit-Learn itself does not support them and SciKeras' outwards API is Scikit-Learn's API.\n",
    "You may want to explore breaking out of SciKeras and just using TensorFlow/Keras directly to see if Datasets can have a large impact for your use case.\n",
    "\n",
    "[Dataset]: https://www.tensorflow.org/api_docs/python/tf/data/Dataset"
   ]
  },
  {
   "cell_type": "markdown",
   "id": "51f5c483",
   "metadata": {},
   "source": [
    "## Bonus: dtypes\n",
    "\n",
    "You might be able to save even more memory by changing the output dtype of `OneHotEncoder`."
   ]
  },
  {
   "cell_type": "code",
   "execution_count": 12,
   "id": "5cf466ea",
   "metadata": {
    "execution": {
     "iopub.execute_input": "2022-11-30T05:40:24.566661Z",
     "iopub.status.busy": "2022-11-30T05:40:24.566245Z",
     "iopub.status.idle": "2022-11-30T05:40:24.569871Z",
     "shell.execute_reply": "2022-11-30T05:40:24.569363Z"
    }
   },
   "outputs": [],
   "source": [
    "sparse_pipline_uint8 = Pipeline(\n",
    "    [\n",
    "        (\"encoder\", OneHotEncoder(sparse=True, dtype=np.uint8)),\n",
    "        (\"model\", KerasRegressor(get_clf, loss=\"mse\", epochs=5, verbose=False))\n",
    "    ]\n",
    ")"
   ]
  },
  {
   "cell_type": "code",
   "execution_count": 13,
   "id": "7f2c5d5b",
   "metadata": {
    "execution": {
     "iopub.execute_input": "2022-11-30T05:40:24.572453Z",
     "iopub.status.busy": "2022-11-30T05:40:24.572066Z",
     "iopub.status.idle": "2022-11-30T05:40:36.064725Z",
     "shell.execute_reply": "2022-11-30T05:40:36.063919Z"
    }
   },
   "outputs": [
    {
     "name": "stdout",
     "output_type": "stream",
     "text": [
      "peak memory: 1047.53 MiB, increment: 2.96 MiB\n"
     ]
    }
   ],
   "source": [
    "%memit sparse_pipline_uint8.fit(X, y)"
   ]
  }
 ],
 "metadata": {
  "jupytext": {
   "formats": "ipynb,md"
  },
  "kernelspec": {
   "display_name": "Python 3 (ipykernel)",
   "language": "python",
   "name": "python3"
  },
  "language_info": {
   "codemirror_mode": {
    "name": "ipython",
    "version": 3
   },
   "file_extension": ".py",
   "mimetype": "text/x-python",
   "name": "python",
   "nbconvert_exporter": "python",
   "pygments_lexer": "ipython3",
   "version": "3.8.14"
  }
 },
 "nbformat": 4,
 "nbformat_minor": 5
}
