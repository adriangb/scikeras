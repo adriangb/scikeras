{
 "cells": [
  {
   "cell_type": "raw",
   "id": "d6cca2e0",
   "metadata": {},
   "source": [
    "<a href=\"https://colab.research.google.com/github/adriangb/scikeras/blob/docs-deploy/refs/heads/master/notebooks/AutoEncoders.ipynb\"><img src=\"https://www.tensorflow.org/images/colab_logo_32px.png\">Run in Google Colab</a>"
   ]
  },
  {
   "cell_type": "markdown",
   "id": "6e56f16e",
   "metadata": {},
   "source": [
    "# Sparse Inputs"
   ]
  },
  {
   "cell_type": "markdown",
   "id": "01aa18fd",
   "metadata": {},
   "source": [
    "SciKeras supports sparse inputs (`X`/features).\n",
    "You don't have to do anything special for this to work, you can just pass a sparse matrix to `fit()`.\n",
    "\n",
    "In this notebook, we'll demonstrate how this works and compare memory consumption of sparse inputs to dense inputs."
   ]
  },
  {
   "cell_type": "markdown",
   "id": "feff9ab9",
   "metadata": {},
   "source": [
    "## Setup"
   ]
  },
  {
   "cell_type": "code",
   "execution_count": 1,
   "id": "dc060582",
   "metadata": {
    "execution": {
     "iopub.execute_input": "2022-12-12T13:49:14.476561Z",
     "iopub.status.busy": "2022-12-12T13:49:14.476333Z",
     "iopub.status.idle": "2022-12-12T13:49:17.258570Z",
     "shell.execute_reply": "2022-12-12T13:49:17.257749Z"
    }
   },
   "outputs": [
    {
     "name": "stdout",
     "output_type": "stream",
     "text": [
      "Collecting memory_profiler\r\n"
     ]
    },
    {
     "name": "stdout",
     "output_type": "stream",
     "text": [
      "  Downloading memory_profiler-0.61.0-py3-none-any.whl (31 kB)\r\n"
     ]
    },
    {
     "name": "stdout",
     "output_type": "stream",
     "text": [
      "Requirement already satisfied: psutil in /home/runner/work/scikeras/scikeras/.venv/lib/python3.8/site-packages (from memory_profiler) (5.9.4)\r\n"
     ]
    },
    {
     "name": "stdout",
     "output_type": "stream",
     "text": [
      "Installing collected packages: memory_profiler\r\n"
     ]
    },
    {
     "name": "stdout",
     "output_type": "stream",
     "text": [
      "Successfully installed memory_profiler-0.61.0\r\n"
     ]
    }
   ],
   "source": [
    "!pip install memory_profiler\n",
    "%load_ext memory_profiler"
   ]
  },
  {
   "cell_type": "code",
   "execution_count": 2,
   "id": "7e1baf7c",
   "metadata": {
    "execution": {
     "iopub.execute_input": "2022-12-12T13:49:17.262384Z",
     "iopub.status.busy": "2022-12-12T13:49:17.262070Z",
     "iopub.status.idle": "2022-12-12T13:49:19.242301Z",
     "shell.execute_reply": "2022-12-12T13:49:19.241695Z"
    }
   },
   "outputs": [],
   "source": [
    "import warnings\n",
    "import os\n",
    "os.environ['TF_CPP_MIN_LOG_LEVEL'] = '3'\n",
    "from tensorflow import get_logger\n",
    "get_logger().setLevel('ERROR')\n",
    "warnings.filterwarnings(\"ignore\", message=\"Setting the random state for TF\")"
   ]
  },
  {
   "cell_type": "code",
   "execution_count": 3,
   "id": "1996d4f7",
   "metadata": {
    "execution": {
     "iopub.execute_input": "2022-12-12T13:49:19.248384Z",
     "iopub.status.busy": "2022-12-12T13:49:19.246542Z",
     "iopub.status.idle": "2022-12-12T13:49:19.264732Z",
     "shell.execute_reply": "2022-12-12T13:49:19.264194Z"
    }
   },
   "outputs": [],
   "source": [
    "try:\n",
    "    import scikeras\n",
    "except ImportError:\n",
    "    !python -m pip install scikeras"
   ]
  },
  {
   "cell_type": "code",
   "execution_count": 4,
   "id": "3aaf00b7",
   "metadata": {
    "execution": {
     "iopub.execute_input": "2022-12-12T13:49:19.269187Z",
     "iopub.status.busy": "2022-12-12T13:49:19.268038Z",
     "iopub.status.idle": "2022-12-12T13:49:19.482233Z",
     "shell.execute_reply": "2022-12-12T13:49:19.481632Z"
    }
   },
   "outputs": [],
   "source": [
    "import scipy\n",
    "import numpy as np\n",
    "from scikeras.wrappers import KerasRegressor\n",
    "from sklearn.preprocessing import OneHotEncoder\n",
    "from sklearn.pipeline import Pipeline\n",
    "from tensorflow import keras"
   ]
  },
  {
   "cell_type": "markdown",
   "id": "31e66e85",
   "metadata": {},
   "source": [
    "## Data\n",
    "\n",
    "The dataset we'll be using is designed to demostrate a worst-case/best-case scenario for dense and sparse input features respectively.\n",
    "It consists of a single categorical feature with equal number of categories as rows.\n",
    "This means the one-hot encoded representation will require as many columns as it does rows, making it very ineffienct to store as a dense matrix but very efficient to store as a sparse matrix."
   ]
  },
  {
   "cell_type": "code",
   "execution_count": 5,
   "id": "a766197b",
   "metadata": {
    "execution": {
     "iopub.execute_input": "2022-12-12T13:49:19.487116Z",
     "iopub.status.busy": "2022-12-12T13:49:19.485927Z",
     "iopub.status.idle": "2022-12-12T13:49:19.492405Z",
     "shell.execute_reply": "2022-12-12T13:49:19.491834Z"
    }
   },
   "outputs": [],
   "source": [
    "N_SAMPLES = 20_000  # hand tuned to be ~4GB peak\n",
    "\n",
    "X = np.arange(0, N_SAMPLES).reshape(-1, 1)\n",
    "y = np.random.uniform(0, 1, size=(X.shape[0],))"
   ]
  },
  {
   "cell_type": "markdown",
   "id": "0d501360",
   "metadata": {},
   "source": [
    "## Model\n",
    "\n",
    "The model here is nothing special, just a basic multilayer perceptron with one hidden layer."
   ]
  },
  {
   "cell_type": "code",
   "execution_count": 6,
   "id": "5fe93eac",
   "metadata": {
    "execution": {
     "iopub.execute_input": "2022-12-12T13:49:19.496741Z",
     "iopub.status.busy": "2022-12-12T13:49:19.495644Z",
     "iopub.status.idle": "2022-12-12T13:49:19.508208Z",
     "shell.execute_reply": "2022-12-12T13:49:19.504186Z"
    }
   },
   "outputs": [],
   "source": [
    "def get_clf(meta) -> keras.Model:\n",
    "    n_features_in_ = meta[\"n_features_in_\"]\n",
    "    model = keras.models.Sequential()\n",
    "    model.add(keras.layers.Input(shape=(n_features_in_,)))\n",
    "    # a single hidden layer\n",
    "    model.add(keras.layers.Dense(100, activation=\"relu\"))\n",
    "    model.add(keras.layers.Dense(1))\n",
    "    return model"
   ]
  },
  {
   "cell_type": "markdown",
   "id": "d068fa84",
   "metadata": {},
   "source": [
    "## Pipelines\n",
    "\n",
    "Here is where it gets interesting.\n",
    "We make two Scikit-Learn pipelines that use `OneHotEncoder`: one that uses `sparse=False` to force a dense matrix as the output and another that uses `sparse=True` (the default)."
   ]
  },
  {
   "cell_type": "code",
   "execution_count": 7,
   "id": "a1ab4104",
   "metadata": {
    "execution": {
     "iopub.execute_input": "2022-12-12T13:49:19.511701Z",
     "iopub.status.busy": "2022-12-12T13:49:19.511287Z",
     "iopub.status.idle": "2022-12-12T13:49:19.520389Z",
     "shell.execute_reply": "2022-12-12T13:49:19.519566Z"
    }
   },
   "outputs": [],
   "source": [
    "dense_pipeline = Pipeline(\n",
    "    [\n",
    "        (\"encoder\", OneHotEncoder(sparse=False)),\n",
    "        (\"model\", KerasRegressor(get_clf, loss=\"mse\", epochs=5, verbose=False))\n",
    "    ]\n",
    ")\n",
    "\n",
    "sparse_pipeline = Pipeline(\n",
    "    [\n",
    "        (\"encoder\", OneHotEncoder(sparse=True)),\n",
    "        (\"model\", KerasRegressor(get_clf, loss=\"mse\", epochs=5, verbose=False))\n",
    "    ]\n",
    ")"
   ]
  },
  {
   "cell_type": "markdown",
   "id": "0705c81c",
   "metadata": {},
   "source": [
    "## Benchmark\n",
    "\n",
    "Our benchmark will be to just train each one of these pipelines and measure peak memory consumption."
   ]
  },
  {
   "cell_type": "code",
   "execution_count": 8,
   "id": "03b93903",
   "metadata": {
    "execution": {
     "iopub.execute_input": "2022-12-12T13:49:19.523857Z",
     "iopub.status.busy": "2022-12-12T13:49:19.523501Z",
     "iopub.status.idle": "2022-12-12T13:50:14.027998Z",
     "shell.execute_reply": "2022-12-12T13:50:14.023375Z"
    }
   },
   "outputs": [
    {
     "name": "stdout",
     "output_type": "stream",
     "text": [
      "peak memory: 3541.36 MiB, increment: 3136.50 MiB\n"
     ]
    }
   ],
   "source": [
    "%memit dense_pipeline.fit(X, y)"
   ]
  },
  {
   "cell_type": "code",
   "execution_count": 9,
   "id": "efa60dcf",
   "metadata": {
    "execution": {
     "iopub.execute_input": "2022-12-12T13:50:14.032579Z",
     "iopub.status.busy": "2022-12-12T13:50:14.031852Z",
     "iopub.status.idle": "2022-12-12T13:50:33.855761Z",
     "shell.execute_reply": "2022-12-12T13:50:33.854737Z"
    }
   },
   "outputs": [
    {
     "name": "stdout",
     "output_type": "stream",
     "text": [
      "peak memory: 659.54 MiB, increment: 60.02 MiB\n"
     ]
    }
   ],
   "source": [
    "%memit sparse_pipeline.fit(X, y)"
   ]
  },
  {
   "cell_type": "markdown",
   "id": "0f89214d",
   "metadata": {},
   "source": [
    "You should see at least 100x more memory consumption **increment** in the dense pipeline."
   ]
  },
  {
   "cell_type": "markdown",
   "id": "92f9070b",
   "metadata": {},
   "source": [
    "### Runtime\n",
    "\n",
    "Using sparse inputs can have a drastic impact on memory usage, but it often (not always) hurts overall runtime."
   ]
  },
  {
   "cell_type": "code",
   "execution_count": 10,
   "id": "da2d6c35",
   "metadata": {
    "execution": {
     "iopub.execute_input": "2022-12-12T13:50:33.859274Z",
     "iopub.status.busy": "2022-12-12T13:50:33.858939Z",
     "iopub.status.idle": "2022-12-12T13:56:12.576986Z",
     "shell.execute_reply": "2022-12-12T13:56:12.576371Z"
    }
   },
   "outputs": [
    {
     "name": "stdout",
     "output_type": "stream",
     "text": [
      "40.4 s ± 8.96 s per loop (mean ± std. dev. of 7 runs, 1 loop each)\n"
     ]
    }
   ],
   "source": [
    "%timeit dense_pipeline.fit(X, y)"
   ]
  },
  {
   "cell_type": "code",
   "execution_count": 11,
   "id": "a093ebb7",
   "metadata": {
    "execution": {
     "iopub.execute_input": "2022-12-12T13:56:12.581356Z",
     "iopub.status.busy": "2022-12-12T13:56:12.579587Z",
     "iopub.status.idle": "2022-12-12T13:57:48.544619Z",
     "shell.execute_reply": "2022-12-12T13:57:48.543546Z"
    }
   },
   "outputs": [
    {
     "name": "stdout",
     "output_type": "stream",
     "text": [
      "11.8 s ± 870 ms per loop (mean ± std. dev. of 7 runs, 1 loop each)\n"
     ]
    }
   ],
   "source": [
    "%timeit sparse_pipeline.fit(X, y)"
   ]
  },
  {
   "cell_type": "markdown",
   "id": "5468fd7d",
   "metadata": {},
   "source": [
    "## Tensorflow Datasets\n",
    "\n",
    "Tensorflow provides a whole suite of functionality around the [Dataset].\n",
    "Datasets are lazily evaluated, can be sparse and minimize the transformations required to feed data into the model.\n",
    "They are _a lot_ more performant and efficient at scale than using numpy datastructures, even sparse ones.\n",
    "\n",
    "SciKeras does not (and cannot) support Datasets directly because Scikit-Learn itself does not support them and SciKeras' outwards API is Scikit-Learn's API.\n",
    "You may want to explore breaking out of SciKeras and just using TensorFlow/Keras directly to see if Datasets can have a large impact for your use case.\n",
    "\n",
    "[Dataset]: https://www.tensorflow.org/api_docs/python/tf/data/Dataset"
   ]
  },
  {
   "cell_type": "markdown",
   "id": "6e822c1d",
   "metadata": {},
   "source": [
    "## Bonus: dtypes\n",
    "\n",
    "You might be able to save even more memory by changing the output dtype of `OneHotEncoder`."
   ]
  },
  {
   "cell_type": "code",
   "execution_count": 12,
   "id": "e7ba7f96",
   "metadata": {
    "execution": {
     "iopub.execute_input": "2022-12-12T13:57:48.549823Z",
     "iopub.status.busy": "2022-12-12T13:57:48.549252Z",
     "iopub.status.idle": "2022-12-12T13:57:48.553188Z",
     "shell.execute_reply": "2022-12-12T13:57:48.552533Z"
    }
   },
   "outputs": [],
   "source": [
    "sparse_pipline_uint8 = Pipeline(\n",
    "    [\n",
    "        (\"encoder\", OneHotEncoder(sparse=True, dtype=np.uint8)),\n",
    "        (\"model\", KerasRegressor(get_clf, loss=\"mse\", epochs=5, verbose=False))\n",
    "    ]\n",
    ")"
   ]
  },
  {
   "cell_type": "code",
   "execution_count": 13,
   "id": "47ffd60b",
   "metadata": {
    "execution": {
     "iopub.execute_input": "2022-12-12T13:57:48.555753Z",
     "iopub.status.busy": "2022-12-12T13:57:48.555536Z",
     "iopub.status.idle": "2022-12-12T13:58:00.357718Z",
     "shell.execute_reply": "2022-12-12T13:58:00.356947Z"
    }
   },
   "outputs": [
    {
     "name": "stdout",
     "output_type": "stream",
     "text": [
      "peak memory: 1022.16 MiB, increment: 0.20 MiB\n"
     ]
    }
   ],
   "source": [
    "%memit sparse_pipline_uint8.fit(X, y)"
   ]
  }
 ],
 "metadata": {
  "jupytext": {
   "formats": "ipynb,md"
  },
  "kernelspec": {
   "display_name": "Python 3 (ipykernel)",
   "language": "python",
   "name": "python3"
  },
  "language_info": {
   "codemirror_mode": {
    "name": "ipython",
    "version": 3
   },
   "file_extension": ".py",
   "mimetype": "text/x-python",
   "name": "python",
   "nbconvert_exporter": "python",
   "pygments_lexer": "ipython3",
   "version": "3.8.15"
  }
 },
 "nbformat": 4,
 "nbformat_minor": 5
}
