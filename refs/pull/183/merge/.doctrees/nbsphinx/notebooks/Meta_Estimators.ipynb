{
 "cells": [
  {
   "cell_type": "raw",
   "id": "figured-despite",
   "metadata": {},
   "source": [
    "<a href=\"https://colab.research.google.com/github/adriangb/scikeras/blob/docs-deploy/refs/heads/master/notebooks/Meta_Estimators.ipynb\"><img src=\"https://www.tensorflow.org/images/colab_logo_32px.png\">Run in Google Colab</a>"
   ]
  },
  {
   "cell_type": "markdown",
   "id": "trying-browse",
   "metadata": {},
   "source": [
    "# Meta Estimators in SciKeras\n",
    "\n",
    "In this notebook, we implement sklearn ensemble and tree meta-estimators backed by a Keras MLP model.\n",
    "\n",
    "## Table of contents\n",
    "\n",
    "* [1. Setup](#1.-Setup)\n",
    "* [2. Defining the Keras Model](#2.-Defining-the-Keras-Model)\n",
    "  * [2.1 Building a boosting ensemble](#2.1-Building-a-boosting-ensemble)\n",
    "* [3. Testing with a toy dataset](#3.-Testing-with-a-toy-dataset)\n",
    "* [4. Bagging ensemble](#4.-Bagging-ensemble)\n",
    "\n",
    "## 1. Setup"
   ]
  },
  {
   "cell_type": "code",
   "execution_count": 1,
   "id": "specified-driving",
   "metadata": {
    "execution": {
     "iopub.execute_input": "2021-01-28T18:58:32.845738Z",
     "iopub.status.busy": "2021-01-28T18:58:32.845009Z",
     "iopub.status.idle": "2021-01-28T18:58:34.990615Z",
     "shell.execute_reply": "2021-01-28T18:58:34.991103Z"
    }
   },
   "outputs": [],
   "source": [
    "try:\n",
    "    import scikeras\n",
    "except ImportError:\n",
    "    !python -m pip install scikeras"
   ]
  },
  {
   "cell_type": "markdown",
   "id": "southwest-morrison",
   "metadata": {},
   "source": [
    "Silence TensorFlow logging to keep output succinct."
   ]
  },
  {
   "cell_type": "code",
   "execution_count": 2,
   "id": "amazing-coach",
   "metadata": {
    "execution": {
     "iopub.execute_input": "2021-01-28T18:58:34.996805Z",
     "iopub.status.busy": "2021-01-28T18:58:34.996146Z",
     "iopub.status.idle": "2021-01-28T18:58:34.999603Z",
     "shell.execute_reply": "2021-01-28T18:58:35.000084Z"
    }
   },
   "outputs": [],
   "source": [
    "import warnings\n",
    "from tensorflow import get_logger\n",
    "get_logger().setLevel('ERROR')\n",
    "warnings.filterwarnings(\"ignore\", message=\"Setting the random state for TF\")"
   ]
  },
  {
   "cell_type": "code",
   "execution_count": 3,
   "id": "united-binary",
   "metadata": {
    "execution": {
     "iopub.execute_input": "2021-01-28T18:58:35.004032Z",
     "iopub.status.busy": "2021-01-28T18:58:35.003415Z",
     "iopub.status.idle": "2021-01-28T18:58:35.521788Z",
     "shell.execute_reply": "2021-01-28T18:58:35.522522Z"
    }
   },
   "outputs": [],
   "source": [
    "import numpy as np\n",
    "from scikeras.wrappers import KerasClassifier, KerasRegressor\n",
    "from tensorflow import keras"
   ]
  },
  {
   "cell_type": "markdown",
   "id": "athletic-bloom",
   "metadata": {},
   "source": [
    "## 2. Defining the Keras Model\n",
    "\n",
    "We borrow our MLPClassifier implementation from the [MLPClassifier notebook](https://colab.research.google.com/github/adriangb/scikeras/blob/master/notebooks/MLPClassifier_and_MLPRegressor.ipynb)."
   ]
  },
  {
   "cell_type": "code",
   "execution_count": 4,
   "id": "dominant-canvas",
   "metadata": {
    "execution": {
     "iopub.execute_input": "2021-01-28T18:58:35.525534Z",
     "iopub.status.busy": "2021-01-28T18:58:35.524884Z",
     "iopub.status.idle": "2021-01-28T18:58:35.543642Z",
     "shell.execute_reply": "2021-01-28T18:58:35.543099Z"
    }
   },
   "outputs": [],
   "source": [
    "from typing import Dict, Iterable, Any\n",
    "\n",
    "\n",
    "def get_clf_model(hidden_layer_sizes: Iterable[int], meta: Dict[str, Any], compile_kwargs: Dict[str, Any]):\n",
    "    model = keras.Sequential()\n",
    "    inp = keras.layers.Input(shape=(meta[\"n_features_in_\"]))\n",
    "    model.add(inp)\n",
    "    for hidden_layer_size in hidden_layer_sizes:\n",
    "        layer = keras.layers.Dense(hidden_layer_size, activation=\"relu\")\n",
    "        model.add(layer)\n",
    "    if meta[\"target_type_\"] == \"binary\":\n",
    "        n_output_units = 1\n",
    "        output_activation = \"sigmoid\"\n",
    "        loss = \"binary_crossentropy\"\n",
    "    elif meta[\"target_type_\"] == \"multiclass\":\n",
    "        n_output_units = meta[\"n_classes_\"]\n",
    "        output_activation = \"softmax\"\n",
    "        loss = \"sparse_categorical_crossentropy\"\n",
    "    else:\n",
    "        raise NotImplementedError(f\"Unsupported task type: {meta['target_type_']}\")\n",
    "    out = keras.layers.Dense(n_output_units, activation=output_activation)\n",
    "    model.add(out)\n",
    "    model.compile(loss=loss, optimizer=compile_kwargs[\"optimizer\"])\n",
    "    return model"
   ]
  },
  {
   "cell_type": "markdown",
   "id": "chief-journal",
   "metadata": {},
   "source": [
    "Next we wrap this Keras model with SciKeras"
   ]
  },
  {
   "cell_type": "code",
   "execution_count": 5,
   "id": "manual-overview",
   "metadata": {
    "execution": {
     "iopub.execute_input": "2021-01-28T18:58:35.548848Z",
     "iopub.status.busy": "2021-01-28T18:58:35.548199Z",
     "iopub.status.idle": "2021-01-28T18:58:35.552634Z",
     "shell.execute_reply": "2021-01-28T18:58:35.552019Z"
    }
   },
   "outputs": [],
   "source": [
    "clf = KerasClassifier(\n",
    "    model=get_clf_model,\n",
    "    hidden_layer_sizes=(100, ),\n",
    "    optimizer=\"adam\",\n",
    "    optimizer__learning_rate=0.001,\n",
    "    verbose=0,\n",
    "    random_state=0,\n",
    ")"
   ]
  },
  {
   "cell_type": "markdown",
   "id": "reasonable-calendar",
   "metadata": {},
   "source": [
    "### 2.1 Building a boosting ensemble\n",
    "\n",
    "Because SciKeras estimators are fully compliant with the Scikit-Learn API, we can make use of Scikit-Learn's built in utilities. In particular example, we will use `AdaBoostClassifier` from `sklearn.ensemble.AdaBoostClassifier`, but the process is the same for most Scikit-Learn meta-estimators."
   ]
  },
  {
   "cell_type": "code",
   "execution_count": 6,
   "id": "crude-operator",
   "metadata": {
    "execution": {
     "iopub.execute_input": "2021-01-28T18:58:35.558462Z",
     "iopub.status.busy": "2021-01-28T18:58:35.557857Z",
     "iopub.status.idle": "2021-01-28T18:58:35.619897Z",
     "shell.execute_reply": "2021-01-28T18:58:35.620726Z"
    }
   },
   "outputs": [],
   "source": [
    "from sklearn.ensemble import AdaBoostClassifier"
   ]
  },
  {
   "cell_type": "code",
   "execution_count": 7,
   "id": "spread-google",
   "metadata": {
    "execution": {
     "iopub.execute_input": "2021-01-28T18:58:35.624489Z",
     "iopub.status.busy": "2021-01-28T18:58:35.623407Z",
     "iopub.status.idle": "2021-01-28T18:58:35.628176Z",
     "shell.execute_reply": "2021-01-28T18:58:35.628974Z"
    }
   },
   "outputs": [],
   "source": [
    "adaboost = AdaBoostClassifier(base_estimator=clf, random_state=0)"
   ]
  },
  {
   "cell_type": "markdown",
   "id": "aboriginal-healthcare",
   "metadata": {},
   "source": [
    "## 3. Testing with a toy dataset\n",
    "\n",
    "Before continouing, we will run a small test to make sure we get somewhat reasonable results."
   ]
  },
  {
   "cell_type": "code",
   "execution_count": 8,
   "id": "constitutional-punch",
   "metadata": {
    "execution": {
     "iopub.execute_input": "2021-01-28T18:58:35.632978Z",
     "iopub.status.busy": "2021-01-28T18:58:35.631841Z",
     "iopub.status.idle": "2021-01-28T18:58:35.670935Z",
     "shell.execute_reply": "2021-01-28T18:58:35.671729Z"
    }
   },
   "outputs": [],
   "source": [
    "from sklearn.datasets import make_moons\n",
    "from sklearn.model_selection import cross_val_score"
   ]
  },
  {
   "cell_type": "code",
   "execution_count": 9,
   "id": "bottom-hughes",
   "metadata": {
    "execution": {
     "iopub.execute_input": "2021-01-28T18:58:35.678028Z",
     "iopub.status.busy": "2021-01-28T18:58:35.674681Z",
     "iopub.status.idle": "2021-01-28T19:01:57.794864Z",
     "shell.execute_reply": "2021-01-28T19:01:57.794327Z"
    }
   },
   "outputs": [
    {
     "name": "stdout",
     "output_type": "stream",
     "text": [
      "Single score: 0.31\n",
      "AdaBoost score: 0.80\n"
     ]
    }
   ],
   "source": [
    "X, y = make_moons()\n",
    "\n",
    "single_score = np.mean(cross_val_score(clf, X, y))\n",
    "\n",
    "adaboost_score = np.mean(cross_val_score(adaboost, X, y))\n",
    "\n",
    "print(f\"Single score: {single_score:.2f}\")\n",
    "print(f\"AdaBoost score: {adaboost_score:.2f}\")"
   ]
  },
  {
   "cell_type": "markdown",
   "id": "adult-conviction",
   "metadata": {},
   "source": [
    "We see that the score for the AdaBoost classifier is slightly higher than that of an individual MLPRegressor instance. We can explore the individual classifiers, and see that each one is composed of a Keras Model with it's own individual weights."
   ]
  },
  {
   "cell_type": "code",
   "execution_count": 10,
   "id": "centered-andrew",
   "metadata": {
    "execution": {
     "iopub.execute_input": "2021-01-28T19:01:57.800356Z",
     "iopub.status.busy": "2021-01-28T19:01:57.799760Z",
     "iopub.status.idle": "2021-01-28T19:02:34.121364Z",
     "shell.execute_reply": "2021-01-28T19:02:34.120844Z"
    }
   },
   "outputs": [
    {
     "data": {
      "text/plain": [
       "AdaBoostClassifier(base_estimator=KerasClassifier(hidden_layer_sizes=(100,), model=<function get_clf_model at 0x7f0c1c4f88b0>, optimizer='adam', optimizer__learning_rate=0.001, random_state=0, verbose=0),\n",
       "                   random_state=0)"
      ]
     },
     "execution_count": 1,
     "metadata": {},
     "output_type": "execute_result"
    }
   ],
   "source": [
    "adaboost.fit(X, y)  # we need to fit outside of cross_val_score before accessing the weights"
   ]
  },
  {
   "cell_type": "code",
   "execution_count": 11,
   "id": "competent-trader",
   "metadata": {
    "execution": {
     "iopub.execute_input": "2021-01-28T19:02:34.126336Z",
     "iopub.status.busy": "2021-01-28T19:02:34.125741Z",
     "iopub.status.idle": "2021-01-28T19:02:34.132453Z",
     "shell.execute_reply": "2021-01-28T19:02:34.133161Z"
    }
   },
   "outputs": [
    {
     "name": "stdout",
     "output_type": "stream",
     "text": [
      "[-0.12549077  0.08295935 -0.08279456  0.17564648 -0.15026462]\n",
      "[ 0.06898206 -0.21102971  0.19633152 -0.07186655 -0.00976152]\n"
     ]
    }
   ],
   "source": [
    "print(adaboost.estimators_[0].model_.get_weights()[0][0, :5])  # first sub-estimator\n",
    "print(adaboost.estimators_[1].model_.get_weights()[0][0, :5])  # second sub-estimator"
   ]
  },
  {
   "cell_type": "markdown",
   "id": "thousand-edgar",
   "metadata": {},
   "source": [
    "## 4. Bagging ensemble\n",
    "\n",
    "For comparison, we run the same test with an ensemble built using `sklearn.ensemble.BaggingClassifier`."
   ]
  },
  {
   "cell_type": "code",
   "execution_count": 12,
   "id": "divine-arbitration",
   "metadata": {
    "execution": {
     "iopub.execute_input": "2021-01-28T19:02:34.137347Z",
     "iopub.status.busy": "2021-01-28T19:02:34.136742Z",
     "iopub.status.idle": "2021-01-28T19:02:34.139939Z",
     "shell.execute_reply": "2021-01-28T19:02:34.140749Z"
    }
   },
   "outputs": [],
   "source": [
    "from sklearn.ensemble import BaggingClassifier"
   ]
  },
  {
   "cell_type": "code",
   "execution_count": 13,
   "id": "formal-conspiracy",
   "metadata": {
    "execution": {
     "iopub.execute_input": "2021-01-28T19:02:34.146598Z",
     "iopub.status.busy": "2021-01-28T19:02:34.145499Z",
     "iopub.status.idle": "2021-01-28T19:04:09.286231Z",
     "shell.execute_reply": "2021-01-28T19:04:09.287025Z"
    }
   },
   "outputs": [
    {
     "name": "stdout",
     "output_type": "stream",
     "text": [
      "Bagging score: 0.61\n"
     ]
    }
   ],
   "source": [
    "bagging = BaggingClassifier(base_estimator=clf, random_state=0, n_jobs=-1)\n",
    "\n",
    "bagging_score = np.mean(cross_val_score(bagging, X, y))\n",
    "\n",
    "print(f\"Bagging score: {bagging_score:.2f}\")"
   ]
  }
 ],
 "metadata": {
  "jupytext": {
   "formats": "ipynb,md"
  },
  "kernelspec": {
   "display_name": "Python 3",
   "language": "python",
   "name": "python3"
  },
  "language_info": {
   "codemirror_mode": {
    "name": "ipython",
    "version": 3
   },
   "file_extension": ".py",
   "mimetype": "text/x-python",
   "name": "python",
   "nbconvert_exporter": "python",
   "pygments_lexer": "ipython3",
   "version": "3.8.7"
  }
 },
 "nbformat": 4,
 "nbformat_minor": 5
}
