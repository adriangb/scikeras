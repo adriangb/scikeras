{
 "cells": [
  {
   "cell_type": "raw",
   "id": "removable-marks",
   "metadata": {},
   "source": [
    "<a href=\"https://colab.research.google.com/github/adriangb/scikeras/blob/docs-deploy/refs/heads/master/notebooks/Meta_Estimators.ipynb\"><img src=\"https://www.tensorflow.org/images/colab_logo_32px.png\">Run in Google Colab</a>"
   ]
  },
  {
   "cell_type": "markdown",
   "id": "mathematical-cigarette",
   "metadata": {},
   "source": [
    "# Meta Estimators in SciKeras\n",
    "\n",
    "In this notebook, we implement sklearn ensemble and tree meta-estimators backed by a Keras MLP model.\n",
    "\n",
    "## Table of contents\n",
    "\n",
    "* [1. Setup](#1.-Setup)\n",
    "* [2. Defining the Keras Model](#2.-Defining-the-Keras-Model)\n",
    "  * [2.1 Building a boosting ensemble](#2.1-Building-a-boosting-ensemble)\n",
    "* [3. Testing with a toy dataset](#3.-Testing-with-a-toy-dataset)\n",
    "* [4. Bagging ensemble](#4.-Bagging-ensemble)\n",
    "\n",
    "## 1. Setup"
   ]
  },
  {
   "cell_type": "code",
   "execution_count": 1,
   "id": "exterior-opera",
   "metadata": {
    "execution": {
     "iopub.execute_input": "2021-01-28T20:10:32.272640Z",
     "iopub.status.busy": "2021-01-28T20:10:32.272055Z",
     "iopub.status.idle": "2021-01-28T20:10:34.163069Z",
     "shell.execute_reply": "2021-01-28T20:10:34.163821Z"
    }
   },
   "outputs": [],
   "source": [
    "try:\n",
    "    import scikeras\n",
    "except ImportError:\n",
    "    !python -m pip install scikeras"
   ]
  },
  {
   "cell_type": "markdown",
   "id": "active-excess",
   "metadata": {},
   "source": [
    "Silence TensorFlow logging to keep output succinct."
   ]
  },
  {
   "cell_type": "code",
   "execution_count": 2,
   "id": "varied-nevada",
   "metadata": {
    "execution": {
     "iopub.execute_input": "2021-01-28T20:10:34.167683Z",
     "iopub.status.busy": "2021-01-28T20:10:34.166610Z",
     "iopub.status.idle": "2021-01-28T20:10:34.171484Z",
     "shell.execute_reply": "2021-01-28T20:10:34.172199Z"
    }
   },
   "outputs": [],
   "source": [
    "import warnings\n",
    "from tensorflow import get_logger\n",
    "get_logger().setLevel('ERROR')\n",
    "warnings.filterwarnings(\"ignore\", message=\"Setting the random state for TF\")"
   ]
  },
  {
   "cell_type": "code",
   "execution_count": 3,
   "id": "specified-founder",
   "metadata": {
    "execution": {
     "iopub.execute_input": "2021-01-28T20:10:34.175657Z",
     "iopub.status.busy": "2021-01-28T20:10:34.174587Z",
     "iopub.status.idle": "2021-01-28T20:10:34.669979Z",
     "shell.execute_reply": "2021-01-28T20:10:34.669024Z"
    }
   },
   "outputs": [],
   "source": [
    "import numpy as np\n",
    "from scikeras.wrappers import KerasClassifier, KerasRegressor\n",
    "from tensorflow import keras"
   ]
  },
  {
   "cell_type": "markdown",
   "id": "worst-block",
   "metadata": {},
   "source": [
    "## 2. Defining the Keras Model\n",
    "\n",
    "We borrow our MLPClassifier implementation from the [MLPClassifier notebook](https://colab.research.google.com/github/adriangb/scikeras/blob/master/notebooks/MLPClassifier_and_MLPRegressor.ipynb)."
   ]
  },
  {
   "cell_type": "code",
   "execution_count": 4,
   "id": "resistant-monster",
   "metadata": {
    "execution": {
     "iopub.execute_input": "2021-01-28T20:10:34.678756Z",
     "iopub.status.busy": "2021-01-28T20:10:34.678222Z",
     "iopub.status.idle": "2021-01-28T20:10:34.687097Z",
     "shell.execute_reply": "2021-01-28T20:10:34.687832Z"
    }
   },
   "outputs": [],
   "source": [
    "from typing import Dict, Iterable, Any\n",
    "\n",
    "\n",
    "def get_clf_model(hidden_layer_sizes: Iterable[int], meta: Dict[str, Any], compile_kwargs: Dict[str, Any]):\n",
    "    model = keras.Sequential()\n",
    "    inp = keras.layers.Input(shape=(meta[\"n_features_in_\"]))\n",
    "    model.add(inp)\n",
    "    for hidden_layer_size in hidden_layer_sizes:\n",
    "        layer = keras.layers.Dense(hidden_layer_size, activation=\"relu\")\n",
    "        model.add(layer)\n",
    "    if meta[\"target_type_\"] == \"binary\":\n",
    "        n_output_units = 1\n",
    "        output_activation = \"sigmoid\"\n",
    "        loss = \"binary_crossentropy\"\n",
    "    elif meta[\"target_type_\"] == \"multiclass\":\n",
    "        n_output_units = meta[\"n_classes_\"]\n",
    "        output_activation = \"softmax\"\n",
    "        loss = \"sparse_categorical_crossentropy\"\n",
    "    else:\n",
    "        raise NotImplementedError(f\"Unsupported task type: {meta['target_type_']}\")\n",
    "    out = keras.layers.Dense(n_output_units, activation=output_activation)\n",
    "    model.add(out)\n",
    "    model.compile(loss=loss, optimizer=compile_kwargs[\"optimizer\"])\n",
    "    return model"
   ]
  },
  {
   "cell_type": "markdown",
   "id": "funded-toronto",
   "metadata": {},
   "source": [
    "Next we wrap this Keras model with SciKeras"
   ]
  },
  {
   "cell_type": "code",
   "execution_count": 5,
   "id": "catholic-translation",
   "metadata": {
    "execution": {
     "iopub.execute_input": "2021-01-28T20:10:34.691861Z",
     "iopub.status.busy": "2021-01-28T20:10:34.690796Z",
     "iopub.status.idle": "2021-01-28T20:10:34.695358Z",
     "shell.execute_reply": "2021-01-28T20:10:34.696065Z"
    }
   },
   "outputs": [],
   "source": [
    "clf = KerasClassifier(\n",
    "    model=get_clf_model,\n",
    "    hidden_layer_sizes=(100, ),\n",
    "    optimizer=\"adam\",\n",
    "    optimizer__learning_rate=0.001,\n",
    "    verbose=0,\n",
    "    random_state=0,\n",
    ")"
   ]
  },
  {
   "cell_type": "markdown",
   "id": "extensive-system",
   "metadata": {},
   "source": [
    "### 2.1 Building a boosting ensemble\n",
    "\n",
    "Because SciKeras estimators are fully compliant with the Scikit-Learn API, we can make use of Scikit-Learn's built in utilities. In particular example, we will use `AdaBoostClassifier` from `sklearn.ensemble.AdaBoostClassifier`, but the process is the same for most Scikit-Learn meta-estimators."
   ]
  },
  {
   "cell_type": "code",
   "execution_count": 6,
   "id": "institutional-probe",
   "metadata": {
    "execution": {
     "iopub.execute_input": "2021-01-28T20:10:34.699443Z",
     "iopub.status.busy": "2021-01-28T20:10:34.698409Z",
     "iopub.status.idle": "2021-01-28T20:10:34.749392Z",
     "shell.execute_reply": "2021-01-28T20:10:34.748517Z"
    }
   },
   "outputs": [],
   "source": [
    "from sklearn.ensemble import AdaBoostClassifier"
   ]
  },
  {
   "cell_type": "code",
   "execution_count": 7,
   "id": "excess-liability",
   "metadata": {
    "execution": {
     "iopub.execute_input": "2021-01-28T20:10:34.753636Z",
     "iopub.status.busy": "2021-01-28T20:10:34.751569Z",
     "iopub.status.idle": "2021-01-28T20:10:34.756027Z",
     "shell.execute_reply": "2021-01-28T20:10:34.758808Z"
    }
   },
   "outputs": [],
   "source": [
    "adaboost = AdaBoostClassifier(base_estimator=clf, random_state=0)"
   ]
  },
  {
   "cell_type": "markdown",
   "id": "hybrid-journalist",
   "metadata": {},
   "source": [
    "## 3. Testing with a toy dataset\n",
    "\n",
    "Before continouing, we will run a small test to make sure we get somewhat reasonable results."
   ]
  },
  {
   "cell_type": "code",
   "execution_count": 8,
   "id": "assured-establishment",
   "metadata": {
    "execution": {
     "iopub.execute_input": "2021-01-28T20:10:34.763214Z",
     "iopub.status.busy": "2021-01-28T20:10:34.761722Z",
     "iopub.status.idle": "2021-01-28T20:10:34.788377Z",
     "shell.execute_reply": "2021-01-28T20:10:34.789131Z"
    }
   },
   "outputs": [],
   "source": [
    "from sklearn.datasets import make_moons\n",
    "from sklearn.model_selection import cross_val_score"
   ]
  },
  {
   "cell_type": "code",
   "execution_count": 9,
   "id": "static-retention",
   "metadata": {
    "execution": {
     "iopub.execute_input": "2021-01-28T20:10:34.792377Z",
     "iopub.status.busy": "2021-01-28T20:10:34.791389Z",
     "iopub.status.idle": "2021-01-28T20:13:20.734355Z",
     "shell.execute_reply": "2021-01-28T20:13:20.734756Z"
    }
   },
   "outputs": [
    {
     "name": "stdout",
     "output_type": "stream",
     "text": [
      "Single score: 0.32\n",
      "AdaBoost score: 0.81\n"
     ]
    }
   ],
   "source": [
    "X, y = make_moons()\n",
    "\n",
    "single_score = np.mean(cross_val_score(clf, X, y))\n",
    "\n",
    "adaboost_score = np.mean(cross_val_score(adaboost, X, y))\n",
    "\n",
    "print(f\"Single score: {single_score:.2f}\")\n",
    "print(f\"AdaBoost score: {adaboost_score:.2f}\")"
   ]
  },
  {
   "cell_type": "markdown",
   "id": "secondary-madison",
   "metadata": {},
   "source": [
    "We see that the score for the AdaBoost classifier is slightly higher than that of an individual MLPRegressor instance. We can explore the individual classifiers, and see that each one is composed of a Keras Model with it's own individual weights."
   ]
  },
  {
   "cell_type": "code",
   "execution_count": 10,
   "id": "funny-desire",
   "metadata": {
    "execution": {
     "iopub.execute_input": "2021-01-28T20:13:20.759251Z",
     "iopub.status.busy": "2021-01-28T20:13:20.756133Z",
     "iopub.status.idle": "2021-01-28T20:13:51.567163Z",
     "shell.execute_reply": "2021-01-28T20:13:51.567891Z"
    }
   },
   "outputs": [
    {
     "data": {
      "text/plain": [
       "AdaBoostClassifier(base_estimator=KerasClassifier(hidden_layer_sizes=(100,), model=<function get_clf_model at 0x7f5e3dcbbd30>, optimizer='adam', optimizer__learning_rate=0.001, random_state=0, verbose=0),\n",
       "                   random_state=0)"
      ]
     },
     "execution_count": 1,
     "metadata": {},
     "output_type": "execute_result"
    }
   ],
   "source": [
    "adaboost.fit(X, y)  # we need to fit outside of cross_val_score before accessing the weights"
   ]
  },
  {
   "cell_type": "code",
   "execution_count": 11,
   "id": "confidential-commitment",
   "metadata": {
    "execution": {
     "iopub.execute_input": "2021-01-28T20:13:51.573667Z",
     "iopub.status.busy": "2021-01-28T20:13:51.573120Z",
     "iopub.status.idle": "2021-01-28T20:13:51.583989Z",
     "shell.execute_reply": "2021-01-28T20:13:51.586006Z"
    }
   },
   "outputs": [
    {
     "name": "stdout",
     "output_type": "stream",
     "text": [
      "[-0.12523128  0.08297139 -0.08277544  0.17570925 -0.15031154]\n",
      "[ 0.06881914 -0.21101448  0.19621712 -0.07174724 -0.00950405]\n"
     ]
    }
   ],
   "source": [
    "print(adaboost.estimators_[0].model_.get_weights()[0][0, :5])  # first sub-estimator\n",
    "print(adaboost.estimators_[1].model_.get_weights()[0][0, :5])  # second sub-estimator"
   ]
  },
  {
   "cell_type": "markdown",
   "id": "reverse-hygiene",
   "metadata": {},
   "source": [
    "## 4. Bagging ensemble\n",
    "\n",
    "For comparison, we run the same test with an ensemble built using `sklearn.ensemble.BaggingClassifier`."
   ]
  },
  {
   "cell_type": "code",
   "execution_count": 12,
   "id": "renewable-fluid",
   "metadata": {
    "execution": {
     "iopub.execute_input": "2021-01-28T20:13:51.590081Z",
     "iopub.status.busy": "2021-01-28T20:13:51.589596Z",
     "iopub.status.idle": "2021-01-28T20:13:51.592976Z",
     "shell.execute_reply": "2021-01-28T20:13:51.592561Z"
    }
   },
   "outputs": [],
   "source": [
    "from sklearn.ensemble import BaggingClassifier"
   ]
  },
  {
   "cell_type": "code",
   "execution_count": 13,
   "id": "illegal-forestry",
   "metadata": {
    "execution": {
     "iopub.execute_input": "2021-01-28T20:13:51.598129Z",
     "iopub.status.busy": "2021-01-28T20:13:51.596808Z",
     "iopub.status.idle": "2021-01-28T20:15:08.135504Z",
     "shell.execute_reply": "2021-01-28T20:15:08.135070Z"
    }
   },
   "outputs": [
    {
     "name": "stdout",
     "output_type": "stream",
     "text": [
      "Bagging score: 0.63\n"
     ]
    }
   ],
   "source": [
    "bagging = BaggingClassifier(base_estimator=clf, random_state=0, n_jobs=-1)\n",
    "\n",
    "bagging_score = np.mean(cross_val_score(bagging, X, y))\n",
    "\n",
    "print(f\"Bagging score: {bagging_score:.2f}\")"
   ]
  }
 ],
 "metadata": {
  "jupytext": {
   "formats": "ipynb,md"
  },
  "kernelspec": {
   "display_name": "Python 3",
   "language": "python",
   "name": "python3"
  },
  "language_info": {
   "codemirror_mode": {
    "name": "ipython",
    "version": 3
   },
   "file_extension": ".py",
   "mimetype": "text/x-python",
   "name": "python",
   "nbconvert_exporter": "python",
   "pygments_lexer": "ipython3",
   "version": "3.8.7"
  }
 },
 "nbformat": 4,
 "nbformat_minor": 5
}
