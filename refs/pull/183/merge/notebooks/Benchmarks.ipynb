{
 "cells": [
  {
   "cell_type": "raw",
   "id": "optical-brown",
   "metadata": {},
   "source": [
    "<a href=\"https://colab.research.google.com/github/adriangb/scikeras/blob/docs-deploy/refs/heads/master/notebooks/Benchmarks.ipynb\"><img src=\"https://www.tensorflow.org/images/colab_logo_32px.png\">Run in Google Colab</a>"
   ]
  },
  {
   "cell_type": "markdown",
   "id": "revolutionary-hopkins",
   "metadata": {},
   "source": [
    "# SciKeras Benchmarks\n",
    "\n",
    "SciKeras wraps Keras Models, but does not alter their performance since all of the heavy lifting still happens within Keras/Tensorflow. In this notebook, we compare the performance and accuracy of a pure-Keras Model to the same model wrapped in SciKeras.\n",
    "\n",
    "## Table of contents\n",
    "\n",
    "* [1. Setup](#1.-Setup)\n",
    "* [2. Dataset](#2.-Dataset)\n",
    "* [3. Define Keras Model](#3.-Define-Keras-Model)\n",
    "* [4. Keras benchmarks](#4.-Keras-benchmarks)\n",
    "* [5. SciKeras benchmark](#5.-SciKeras-benchmark)\n",
    "\n",
    "## 1. Setup"
   ]
  },
  {
   "cell_type": "code",
   "execution_count": 1,
   "id": "indonesian-triangle",
   "metadata": {
    "execution": {
     "iopub.execute_input": "2021-01-28T18:48:05.851156Z",
     "iopub.status.busy": "2021-01-28T18:48:05.850495Z",
     "iopub.status.idle": "2021-01-28T18:48:08.204072Z",
     "shell.execute_reply": "2021-01-28T18:48:08.204722Z"
    }
   },
   "outputs": [],
   "source": [
    "try:\n",
    "    import scikeras\n",
    "except ImportError:\n",
    "    !python -m pip install scikeras"
   ]
  },
  {
   "cell_type": "markdown",
   "id": "operating-celtic",
   "metadata": {},
   "source": [
    "Silence TensorFlow logging to keep output succinct."
   ]
  },
  {
   "cell_type": "code",
   "execution_count": 2,
   "id": "strategic-thursday",
   "metadata": {
    "execution": {
     "iopub.execute_input": "2021-01-28T18:48:08.209823Z",
     "iopub.status.busy": "2021-01-28T18:48:08.209260Z",
     "iopub.status.idle": "2021-01-28T18:48:08.210693Z",
     "shell.execute_reply": "2021-01-28T18:48:08.211217Z"
    }
   },
   "outputs": [],
   "source": [
    "import warnings\n",
    "from tensorflow import get_logger\n",
    "get_logger().setLevel('ERROR')\n",
    "warnings.filterwarnings(\"ignore\", message=\"Setting the random state for TF\")"
   ]
  },
  {
   "cell_type": "code",
   "execution_count": 3,
   "id": "finnish-bunny",
   "metadata": {
    "execution": {
     "iopub.execute_input": "2021-01-28T18:48:08.213673Z",
     "iopub.status.busy": "2021-01-28T18:48:08.213154Z",
     "iopub.status.idle": "2021-01-28T18:48:08.737331Z",
     "shell.execute_reply": "2021-01-28T18:48:08.737792Z"
    }
   },
   "outputs": [],
   "source": [
    "import numpy as np\n",
    "from scikeras.wrappers import KerasClassifier, KerasRegressor\n",
    "from tensorflow import keras"
   ]
  },
  {
   "cell_type": "markdown",
   "id": "saved-lithuania",
   "metadata": {},
   "source": [
    "## 2. Dataset\n",
    "\n",
    "We will be using the MNIST dataset available within Keras."
   ]
  },
  {
   "cell_type": "code",
   "execution_count": 4,
   "id": "cognitive-trinidad",
   "metadata": {
    "execution": {
     "iopub.execute_input": "2021-01-28T18:48:08.744455Z",
     "iopub.status.busy": "2021-01-28T18:48:08.743577Z",
     "iopub.status.idle": "2021-01-28T18:48:09.348912Z",
     "shell.execute_reply": "2021-01-28T18:48:09.349343Z"
    }
   },
   "outputs": [],
   "source": [
    "(x_train, y_train), (x_test, y_test) = keras.datasets.mnist.load_data()\n",
    "# Scale images to the [0, 1] range\n",
    "x_train = x_train.astype(\"float32\") / 255\n",
    "x_test = x_test.astype(\"float32\") / 255\n",
    "# Make sure images have shape (28, 28, 1)\n",
    "x_train = np.expand_dims(x_train, -1)\n",
    "x_test = np.expand_dims(x_test, -1)\n",
    "# Reduce dataset size for faster benchmarks\n",
    "x_train, y_train = x_train[:2000], y_train[:2000]\n",
    "x_test, y_test = x_test[:500], y_test[:500]"
   ]
  },
  {
   "cell_type": "markdown",
   "id": "tested-passion",
   "metadata": {},
   "source": [
    "## 3. Define Keras Model\n",
    "\n",
    "Next we will define our Keras model (adapted from [keras.io](https://keras.io/examples/vision/mnist_convnet/)):"
   ]
  },
  {
   "cell_type": "code",
   "execution_count": 5,
   "id": "compound-patrick",
   "metadata": {
    "execution": {
     "iopub.execute_input": "2021-01-28T18:48:09.352026Z",
     "iopub.status.busy": "2021-01-28T18:48:09.351469Z",
     "iopub.status.idle": "2021-01-28T18:48:09.357244Z",
     "shell.execute_reply": "2021-01-28T18:48:09.357693Z"
    }
   },
   "outputs": [],
   "source": [
    "num_classes = 10\n",
    "input_shape = (28, 28, 1)\n",
    "\n",
    "\n",
    "def get_model():\n",
    "    model = keras.Sequential(\n",
    "        [\n",
    "            keras.Input(input_shape),\n",
    "            keras.layers.Conv2D(32, kernel_size=(3, 3), activation=\"relu\"),\n",
    "            keras.layers.MaxPooling2D(pool_size=(2, 2)),\n",
    "            keras.layers.Conv2D(64, kernel_size=(3, 3), activation=\"relu\"),\n",
    "            keras.layers.MaxPooling2D(pool_size=(2, 2)),\n",
    "            keras.layers.Flatten(),\n",
    "            keras.layers.Dropout(0.5),\n",
    "            keras.layers.Dense(num_classes, activation=\"softmax\"),\n",
    "        ]\n",
    "    )\n",
    "    model.compile(\n",
    "        loss=\"sparse_categorical_crossentropy\", optimizer=\"adam\"\n",
    "    )\n",
    "    return model"
   ]
  },
  {
   "cell_type": "markdown",
   "id": "adaptive-desktop",
   "metadata": {},
   "source": [
    "## 4. Keras benchmarks"
   ]
  },
  {
   "cell_type": "code",
   "execution_count": 6,
   "id": "mysterious-homework",
   "metadata": {
    "execution": {
     "iopub.execute_input": "2021-01-28T18:48:09.361444Z",
     "iopub.status.busy": "2021-01-28T18:48:09.360936Z",
     "iopub.status.idle": "2021-01-28T18:48:09.363904Z",
     "shell.execute_reply": "2021-01-28T18:48:09.364317Z"
    }
   },
   "outputs": [],
   "source": [
    "fit_kwargs = {\"batch_size\": 128, \"validation_split\": 0.1, \"verbose\": 0, \"epochs\": 5}"
   ]
  },
  {
   "cell_type": "code",
   "execution_count": 7,
   "id": "electronic-november",
   "metadata": {
    "execution": {
     "iopub.execute_input": "2021-01-28T18:48:09.367778Z",
     "iopub.status.busy": "2021-01-28T18:48:09.367057Z",
     "iopub.status.idle": "2021-01-28T18:48:09.369681Z",
     "shell.execute_reply": "2021-01-28T18:48:09.370144Z"
    }
   },
   "outputs": [],
   "source": [
    "from sklearn.metrics import accuracy_score\n",
    "from scikeras._utils import TFRandomState"
   ]
  },
  {
   "cell_type": "code",
   "execution_count": 8,
   "id": "extended-belize",
   "metadata": {
    "execution": {
     "iopub.execute_input": "2021-01-28T18:48:09.375227Z",
     "iopub.status.busy": "2021-01-28T18:48:09.374679Z",
     "iopub.status.idle": "2021-01-28T18:48:16.904003Z",
     "shell.execute_reply": "2021-01-28T18:48:16.904871Z"
    }
   },
   "outputs": [
    {
     "name": "stdout",
     "output_type": "stream",
     "text": [
      "Training time: 7.17\n"
     ]
    },
    {
     "name": "stdout",
     "output_type": "stream",
     "text": [
      "Accuracy: 0.882\n"
     ]
    }
   ],
   "source": [
    "from time import time\n",
    "\n",
    "with TFRandomState(seed=0):  # we force a TF random state to be able to compare accuracy\n",
    "    model = get_model()\n",
    "    start = time()\n",
    "    model.fit(x_train, y_train, **fit_kwargs)\n",
    "    print(f\"Training time: {time()-start:.2f}\")\n",
    "    y_pred = np.argmax(model.predict(x_test), axis=1)\n",
    "print(f\"Accuracy: {accuracy_score(y_test, y_pred)}\")"
   ]
  },
  {
   "cell_type": "markdown",
   "id": "controlled-defense",
   "metadata": {},
   "source": [
    "## 5. SciKeras benchmark"
   ]
  },
  {
   "cell_type": "code",
   "execution_count": 9,
   "id": "mysterious-equipment",
   "metadata": {
    "execution": {
     "iopub.execute_input": "2021-01-28T18:48:16.909140Z",
     "iopub.status.busy": "2021-01-28T18:48:16.908592Z",
     "iopub.status.idle": "2021-01-28T18:48:16.915850Z",
     "shell.execute_reply": "2021-01-28T18:48:16.916752Z"
    }
   },
   "outputs": [],
   "source": [
    "clf = KerasClassifier(\n",
    "    model=get_model,\n",
    "    random_state=0,\n",
    "    **fit_kwargs\n",
    ")"
   ]
  },
  {
   "cell_type": "code",
   "execution_count": 10,
   "id": "driving-roberts",
   "metadata": {
    "execution": {
     "iopub.execute_input": "2021-01-28T18:48:16.921125Z",
     "iopub.status.busy": "2021-01-28T18:48:16.920589Z",
     "iopub.status.idle": "2021-01-28T18:48:24.708264Z",
     "shell.execute_reply": "2021-01-28T18:48:24.708721Z"
    }
   },
   "outputs": [
    {
     "name": "stdout",
     "output_type": "stream",
     "text": [
      "Training time: 7.63\n",
      "Accuracy: 0.882\n"
     ]
    }
   ],
   "source": [
    "start = time()\n",
    "clf.fit(x_train, y_train)\n",
    "print(f\"Training time: {time()-start:.2f}\")\n",
    "y_pred = clf.predict(x_test)\n",
    "print(f\"Accuracy: {accuracy_score(y_test, y_pred)}\")"
   ]
  },
  {
   "cell_type": "markdown",
   "id": "athletic-baseball",
   "metadata": {},
   "source": [
    "As you can see, the overhead for SciKeras is <1 sec, and the accuracy is identical."
   ]
  }
 ],
 "metadata": {
  "jupytext": {
   "formats": "ipynb,md"
  },
  "kernelspec": {
   "display_name": "Python 3",
   "language": "python",
   "name": "python3"
  },
  "language_info": {
   "codemirror_mode": {
    "name": "ipython",
    "version": 3
   },
   "file_extension": ".py",
   "mimetype": "text/x-python",
   "name": "python",
   "nbconvert_exporter": "python",
   "pygments_lexer": "ipython3",
   "version": "3.8.7"
  }
 },
 "nbformat": 4,
 "nbformat_minor": 5
}
