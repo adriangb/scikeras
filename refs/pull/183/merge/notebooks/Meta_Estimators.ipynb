{
 "cells": [
  {
   "cell_type": "raw",
   "id": "smaller-financing",
   "metadata": {},
   "source": [
    "<a href=\"https://colab.research.google.com/github/adriangb/scikeras/blob/docs-deploy/refs/heads/master/notebooks/Meta_Estimators.ipynb\"><img src=\"https://www.tensorflow.org/images/colab_logo_32px.png\">Run in Google Colab</a>"
   ]
  },
  {
   "cell_type": "markdown",
   "id": "electoral-phone",
   "metadata": {},
   "source": [
    "# Meta Estimators in SciKeras\n",
    "\n",
    "In this notebook, we implement sklearn ensemble and tree meta-estimators backed by a Keras MLP model.\n",
    "\n",
    "## Table of contents\n",
    "\n",
    "* [1. Setup](#1.-Setup)\n",
    "* [2. Defining the Keras Model](#2.-Defining-the-Keras-Model)\n",
    "  * [2.1 Building a boosting ensemble](#2.1-Building-a-boosting-ensemble)\n",
    "* [3. Testing with a toy dataset](#3.-Testing-with-a-toy-dataset)\n",
    "* [4. Bagging ensemble](#4.-Bagging-ensemble)\n",
    "\n",
    "## 1. Setup"
   ]
  },
  {
   "cell_type": "code",
   "execution_count": 1,
   "id": "loose-conjunction",
   "metadata": {
    "execution": {
     "iopub.execute_input": "2021-01-28T21:04:13.349256Z",
     "iopub.status.busy": "2021-01-28T21:04:13.348632Z",
     "iopub.status.idle": "2021-01-28T21:04:15.278410Z",
     "shell.execute_reply": "2021-01-28T21:04:15.279136Z"
    }
   },
   "outputs": [],
   "source": [
    "try:\n",
    "    import scikeras\n",
    "except ImportError:\n",
    "    !python -m pip install scikeras"
   ]
  },
  {
   "cell_type": "markdown",
   "id": "precious-occasions",
   "metadata": {},
   "source": [
    "Silence TensorFlow logging to keep output succinct."
   ]
  },
  {
   "cell_type": "code",
   "execution_count": 2,
   "id": "lyric-medium",
   "metadata": {
    "execution": {
     "iopub.execute_input": "2021-01-28T21:04:15.282882Z",
     "iopub.status.busy": "2021-01-28T21:04:15.281782Z",
     "iopub.status.idle": "2021-01-28T21:04:15.286760Z",
     "shell.execute_reply": "2021-01-28T21:04:15.287487Z"
    }
   },
   "outputs": [],
   "source": [
    "import warnings\n",
    "from tensorflow import get_logger\n",
    "get_logger().setLevel('ERROR')\n",
    "warnings.filterwarnings(\"ignore\", message=\"Setting the random state for TF\")"
   ]
  },
  {
   "cell_type": "code",
   "execution_count": 3,
   "id": "unusual-aircraft",
   "metadata": {
    "execution": {
     "iopub.execute_input": "2021-01-28T21:04:15.290867Z",
     "iopub.status.busy": "2021-01-28T21:04:15.289813Z",
     "iopub.status.idle": "2021-01-28T21:04:15.865283Z",
     "shell.execute_reply": "2021-01-28T21:04:15.866025Z"
    }
   },
   "outputs": [],
   "source": [
    "import numpy as np\n",
    "from scikeras.wrappers import KerasClassifier, KerasRegressor\n",
    "from tensorflow import keras"
   ]
  },
  {
   "cell_type": "markdown",
   "id": "knowing-reception",
   "metadata": {},
   "source": [
    "## 2. Defining the Keras Model\n",
    "\n",
    "We borrow our MLPClassifier implementation from the [MLPClassifier notebook](https://colab.research.google.com/github/adriangb/scikeras/blob/master/notebooks/MLPClassifier_and_MLPRegressor.ipynb)."
   ]
  },
  {
   "cell_type": "code",
   "execution_count": 4,
   "id": "liked-active",
   "metadata": {
    "execution": {
     "iopub.execute_input": "2021-01-28T21:04:15.869888Z",
     "iopub.status.busy": "2021-01-28T21:04:15.868738Z",
     "iopub.status.idle": "2021-01-28T21:04:15.882045Z",
     "shell.execute_reply": "2021-01-28T21:04:15.882814Z"
    }
   },
   "outputs": [],
   "source": [
    "from typing import Dict, Iterable, Any\n",
    "\n",
    "\n",
    "def get_clf_model(hidden_layer_sizes: Iterable[int], meta: Dict[str, Any], compile_kwargs: Dict[str, Any]):\n",
    "    model = keras.Sequential()\n",
    "    inp = keras.layers.Input(shape=(meta[\"n_features_in_\"]))\n",
    "    model.add(inp)\n",
    "    for hidden_layer_size in hidden_layer_sizes:\n",
    "        layer = keras.layers.Dense(hidden_layer_size, activation=\"relu\")\n",
    "        model.add(layer)\n",
    "    if meta[\"target_type_\"] == \"binary\":\n",
    "        n_output_units = 1\n",
    "        output_activation = \"sigmoid\"\n",
    "        loss = \"binary_crossentropy\"\n",
    "    elif meta[\"target_type_\"] == \"multiclass\":\n",
    "        n_output_units = meta[\"n_classes_\"]\n",
    "        output_activation = \"softmax\"\n",
    "        loss = \"sparse_categorical_crossentropy\"\n",
    "    else:\n",
    "        raise NotImplementedError(f\"Unsupported task type: {meta['target_type_']}\")\n",
    "    out = keras.layers.Dense(n_output_units, activation=output_activation)\n",
    "    model.add(out)\n",
    "    model.compile(loss=loss, optimizer=compile_kwargs[\"optimizer\"])\n",
    "    return model"
   ]
  },
  {
   "cell_type": "markdown",
   "id": "light-ideal",
   "metadata": {},
   "source": [
    "Next we wrap this Keras model with SciKeras"
   ]
  },
  {
   "cell_type": "code",
   "execution_count": 5,
   "id": "derived-blair",
   "metadata": {
    "execution": {
     "iopub.execute_input": "2021-01-28T21:04:15.893196Z",
     "iopub.status.busy": "2021-01-28T21:04:15.885663Z",
     "iopub.status.idle": "2021-01-28T21:04:15.897118Z",
     "shell.execute_reply": "2021-01-28T21:04:15.897854Z"
    }
   },
   "outputs": [],
   "source": [
    "clf = KerasClassifier(\n",
    "    model=get_clf_model,\n",
    "    hidden_layer_sizes=(100, ),\n",
    "    optimizer=\"adam\",\n",
    "    optimizer__learning_rate=0.001,\n",
    "    verbose=0,\n",
    "    random_state=0,\n",
    ")"
   ]
  },
  {
   "cell_type": "markdown",
   "id": "internal-fifth",
   "metadata": {},
   "source": [
    "### 2.1 Building a boosting ensemble\n",
    "\n",
    "Because SciKeras estimators are fully compliant with the Scikit-Learn API, we can make use of Scikit-Learn's built in utilities. In particular example, we will use `AdaBoostClassifier` from `sklearn.ensemble.AdaBoostClassifier`, but the process is the same for most Scikit-Learn meta-estimators."
   ]
  },
  {
   "cell_type": "code",
   "execution_count": 6,
   "id": "sensitive-bradley",
   "metadata": {
    "execution": {
     "iopub.execute_input": "2021-01-28T21:04:15.901472Z",
     "iopub.status.busy": "2021-01-28T21:04:15.900430Z",
     "iopub.status.idle": "2021-01-28T21:04:15.970303Z",
     "shell.execute_reply": "2021-01-28T21:04:15.971105Z"
    }
   },
   "outputs": [],
   "source": [
    "from sklearn.ensemble import AdaBoostClassifier"
   ]
  },
  {
   "cell_type": "code",
   "execution_count": 7,
   "id": "opened-civilian",
   "metadata": {
    "execution": {
     "iopub.execute_input": "2021-01-28T21:04:15.974760Z",
     "iopub.status.busy": "2021-01-28T21:04:15.973670Z",
     "iopub.status.idle": "2021-01-28T21:04:15.978411Z",
     "shell.execute_reply": "2021-01-28T21:04:15.979159Z"
    }
   },
   "outputs": [],
   "source": [
    "adaboost = AdaBoostClassifier(base_estimator=clf, random_state=0)"
   ]
  },
  {
   "cell_type": "markdown",
   "id": "lovely-juice",
   "metadata": {},
   "source": [
    "## 3. Testing with a toy dataset\n",
    "\n",
    "Before continouing, we will run a small test to make sure we get somewhat reasonable results."
   ]
  },
  {
   "cell_type": "code",
   "execution_count": 8,
   "id": "random-consumption",
   "metadata": {
    "execution": {
     "iopub.execute_input": "2021-01-28T21:04:15.982663Z",
     "iopub.status.busy": "2021-01-28T21:04:15.981628Z",
     "iopub.status.idle": "2021-01-28T21:04:16.018958Z",
     "shell.execute_reply": "2021-01-28T21:04:16.019674Z"
    }
   },
   "outputs": [],
   "source": [
    "from sklearn.datasets import make_moons\n",
    "from sklearn.model_selection import cross_val_score"
   ]
  },
  {
   "cell_type": "code",
   "execution_count": 9,
   "id": "according-footwear",
   "metadata": {
    "execution": {
     "iopub.execute_input": "2021-01-28T21:04:16.023081Z",
     "iopub.status.busy": "2021-01-28T21:04:16.022063Z",
     "iopub.status.idle": "2021-01-28T21:07:33.848018Z",
     "shell.execute_reply": "2021-01-28T21:07:33.848801Z"
    }
   },
   "outputs": [
    {
     "name": "stdout",
     "output_type": "stream",
     "text": [
      "Single score: 0.31\n",
      "AdaBoost score: 0.80\n"
     ]
    }
   ],
   "source": [
    "X, y = make_moons()\n",
    "\n",
    "single_score = np.mean(cross_val_score(clf, X, y))\n",
    "\n",
    "adaboost_score = np.mean(cross_val_score(adaboost, X, y))\n",
    "\n",
    "print(f\"Single score: {single_score:.2f}\")\n",
    "print(f\"AdaBoost score: {adaboost_score:.2f}\")"
   ]
  },
  {
   "cell_type": "markdown",
   "id": "latest-remedy",
   "metadata": {},
   "source": [
    "We see that the score for the AdaBoost classifier is slightly higher than that of an individual MLPRegressor instance. We can explore the individual classifiers, and see that each one is composed of a Keras Model with it's own individual weights."
   ]
  },
  {
   "cell_type": "code",
   "execution_count": 10,
   "id": "veterinary-vinyl",
   "metadata": {
    "execution": {
     "iopub.execute_input": "2021-01-28T21:07:33.852794Z",
     "iopub.status.busy": "2021-01-28T21:07:33.851386Z",
     "iopub.status.idle": "2021-01-28T21:08:09.372791Z",
     "shell.execute_reply": "2021-01-28T21:08:09.373279Z"
    }
   },
   "outputs": [
    {
     "data": {
      "text/plain": [
       "AdaBoostClassifier(base_estimator=KerasClassifier(hidden_layer_sizes=(100,), model=<function get_clf_model at 0x7f45e20e9d30>, optimizer='adam', optimizer__learning_rate=0.001, random_state=0, verbose=0),\n",
       "                   random_state=0)"
      ]
     },
     "execution_count": 1,
     "metadata": {},
     "output_type": "execute_result"
    }
   ],
   "source": [
    "adaboost.fit(X, y)  # we need to fit outside of cross_val_score before accessing the weights"
   ]
  },
  {
   "cell_type": "code",
   "execution_count": 11,
   "id": "local-hudson",
   "metadata": {
    "execution": {
     "iopub.execute_input": "2021-01-28T21:08:09.378367Z",
     "iopub.status.busy": "2021-01-28T21:08:09.377796Z",
     "iopub.status.idle": "2021-01-28T21:08:09.385824Z",
     "shell.execute_reply": "2021-01-28T21:08:09.386509Z"
    }
   },
   "outputs": [
    {
     "name": "stdout",
     "output_type": "stream",
     "text": [
      "[-0.1256594   0.08304168 -0.08262206  0.17582457 -0.15015481]\n",
      "[ 0.06887951 -0.2110507   0.19625552 -0.0731321  -0.00974813]\n"
     ]
    }
   ],
   "source": [
    "print(adaboost.estimators_[0].model_.get_weights()[0][0, :5])  # first sub-estimator\n",
    "print(adaboost.estimators_[1].model_.get_weights()[0][0, :5])  # second sub-estimator"
   ]
  },
  {
   "cell_type": "markdown",
   "id": "alternative-container",
   "metadata": {},
   "source": [
    "## 4. Bagging ensemble\n",
    "\n",
    "For comparison, we run the same test with an ensemble built using `sklearn.ensemble.BaggingClassifier`."
   ]
  },
  {
   "cell_type": "code",
   "execution_count": 12,
   "id": "charged-pasta",
   "metadata": {
    "execution": {
     "iopub.execute_input": "2021-01-28T21:08:09.390111Z",
     "iopub.status.busy": "2021-01-28T21:08:09.389532Z",
     "iopub.status.idle": "2021-01-28T21:08:09.392847Z",
     "shell.execute_reply": "2021-01-28T21:08:09.393292Z"
    }
   },
   "outputs": [],
   "source": [
    "from sklearn.ensemble import BaggingClassifier"
   ]
  },
  {
   "cell_type": "code",
   "execution_count": 13,
   "id": "separate-finnish",
   "metadata": {
    "execution": {
     "iopub.execute_input": "2021-01-28T21:08:09.397305Z",
     "iopub.status.busy": "2021-01-28T21:08:09.396746Z",
     "iopub.status.idle": "2021-01-28T21:09:36.360119Z",
     "shell.execute_reply": "2021-01-28T21:09:36.360835Z"
    }
   },
   "outputs": [
    {
     "name": "stdout",
     "output_type": "stream",
     "text": [
      "Bagging score: 0.63\n"
     ]
    }
   ],
   "source": [
    "bagging = BaggingClassifier(base_estimator=clf, random_state=0, n_jobs=-1)\n",
    "\n",
    "bagging_score = np.mean(cross_val_score(bagging, X, y))\n",
    "\n",
    "print(f\"Bagging score: {bagging_score:.2f}\")"
   ]
  }
 ],
 "metadata": {
  "jupytext": {
   "formats": "ipynb,md"
  },
  "kernelspec": {
   "display_name": "Python 3",
   "language": "python",
   "name": "python3"
  },
  "language_info": {
   "codemirror_mode": {
    "name": "ipython",
    "version": 3
   },
   "file_extension": ".py",
   "mimetype": "text/x-python",
   "name": "python",
   "nbconvert_exporter": "python",
   "pygments_lexer": "ipython3",
   "version": "3.8.7"
  }
 },
 "nbformat": 4,
 "nbformat_minor": 5
}
