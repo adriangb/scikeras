{
 "cells": [
  {
   "cell_type": "raw",
   "id": "alpha-elizabeth",
   "metadata": {},
   "source": [
    "<a href=\"https://colab.research.google.com/github/adriangb/scikeras/blob/docs-deploy/refs/heads/master/notebooks/Meta_Estimators.ipynb\"><img src=\"https://www.tensorflow.org/images/colab_logo_32px.png\">Run in Google Colab</a>"
   ]
  },
  {
   "cell_type": "markdown",
   "id": "stylish-binary",
   "metadata": {},
   "source": [
    "# Meta Estimators in SciKeras\n",
    "\n",
    "In this notebook, we implement sklearn ensemble and tree meta-estimators backed by a Keras MLP model.\n",
    "\n",
    "## Table of contents\n",
    "\n",
    "* [1. Setup](#1.-Setup)\n",
    "* [2. Defining the Keras Model](#2.-Defining-the-Keras-Model)\n",
    "  * [2.1 Building a boosting ensemble](#2.1-Building-a-boosting-ensemble)\n",
    "* [3. Testing with a toy dataset](#3.-Testing-with-a-toy-dataset)\n",
    "* [4. Bagging ensemble](#4.-Bagging-ensemble)\n",
    "\n",
    "## 1. Setup"
   ]
  },
  {
   "cell_type": "code",
   "execution_count": 1,
   "id": "macro-string",
   "metadata": {
    "execution": {
     "iopub.execute_input": "2021-01-29T01:24:33.102587Z",
     "iopub.status.busy": "2021-01-29T01:24:33.101677Z",
     "iopub.status.idle": "2021-01-29T01:24:35.070034Z",
     "shell.execute_reply": "2021-01-29T01:24:35.071122Z"
    }
   },
   "outputs": [],
   "source": [
    "try:\n",
    "    import scikeras\n",
    "except ImportError:\n",
    "    !python -m pip install scikeras"
   ]
  },
  {
   "cell_type": "markdown",
   "id": "loose-concrete",
   "metadata": {},
   "source": [
    "Silence TensorFlow logging to keep output succinct."
   ]
  },
  {
   "cell_type": "code",
   "execution_count": 2,
   "id": "decent-radiation",
   "metadata": {
    "execution": {
     "iopub.execute_input": "2021-01-29T01:24:35.075016Z",
     "iopub.status.busy": "2021-01-29T01:24:35.073939Z",
     "iopub.status.idle": "2021-01-29T01:24:35.082604Z",
     "shell.execute_reply": "2021-01-29T01:24:35.083444Z"
    }
   },
   "outputs": [],
   "source": [
    "import warnings\n",
    "from tensorflow import get_logger\n",
    "get_logger().setLevel('ERROR')\n",
    "warnings.filterwarnings(\"ignore\", message=\"Setting the random state for TF\")"
   ]
  },
  {
   "cell_type": "code",
   "execution_count": 3,
   "id": "superior-tenant",
   "metadata": {
    "execution": {
     "iopub.execute_input": "2021-01-29T01:24:35.087170Z",
     "iopub.status.busy": "2021-01-29T01:24:35.085815Z",
     "iopub.status.idle": "2021-01-29T01:24:35.659001Z",
     "shell.execute_reply": "2021-01-29T01:24:35.659768Z"
    }
   },
   "outputs": [],
   "source": [
    "import numpy as np\n",
    "from scikeras.wrappers import KerasClassifier, KerasRegressor\n",
    "from tensorflow import keras"
   ]
  },
  {
   "cell_type": "markdown",
   "id": "inappropriate-necessity",
   "metadata": {},
   "source": [
    "## 2. Defining the Keras Model\n",
    "\n",
    "We borrow our MLPClassifier implementation from the [MLPClassifier notebook](https://colab.research.google.com/github/adriangb/scikeras/blob/master/notebooks/MLPClassifier_and_MLPRegressor.ipynb)."
   ]
  },
  {
   "cell_type": "code",
   "execution_count": 4,
   "id": "under-funeral",
   "metadata": {
    "execution": {
     "iopub.execute_input": "2021-01-29T01:24:35.664223Z",
     "iopub.status.busy": "2021-01-29T01:24:35.662335Z",
     "iopub.status.idle": "2021-01-29T01:24:35.674571Z",
     "shell.execute_reply": "2021-01-29T01:24:35.675411Z"
    }
   },
   "outputs": [],
   "source": [
    "from typing import Dict, Iterable, Any\n",
    "\n",
    "\n",
    "def get_clf_model(hidden_layer_sizes: Iterable[int], meta: Dict[str, Any], compile_kwargs: Dict[str, Any]):\n",
    "    model = keras.Sequential()\n",
    "    inp = keras.layers.Input(shape=(meta[\"n_features_in_\"]))\n",
    "    model.add(inp)\n",
    "    for hidden_layer_size in hidden_layer_sizes:\n",
    "        layer = keras.layers.Dense(hidden_layer_size, activation=\"relu\")\n",
    "        model.add(layer)\n",
    "    if meta[\"target_type_\"] == \"binary\":\n",
    "        n_output_units = 1\n",
    "        output_activation = \"sigmoid\"\n",
    "        loss = \"binary_crossentropy\"\n",
    "    elif meta[\"target_type_\"] == \"multiclass\":\n",
    "        n_output_units = meta[\"n_classes_\"]\n",
    "        output_activation = \"softmax\"\n",
    "        loss = \"sparse_categorical_crossentropy\"\n",
    "    else:\n",
    "        raise NotImplementedError(f\"Unsupported task type: {meta['target_type_']}\")\n",
    "    out = keras.layers.Dense(n_output_units, activation=output_activation)\n",
    "    model.add(out)\n",
    "    model.compile(loss=loss, optimizer=compile_kwargs[\"optimizer\"])\n",
    "    return model"
   ]
  },
  {
   "cell_type": "markdown",
   "id": "threatened-samuel",
   "metadata": {},
   "source": [
    "Next we wrap this Keras model with SciKeras"
   ]
  },
  {
   "cell_type": "code",
   "execution_count": 5,
   "id": "requested-springer",
   "metadata": {
    "execution": {
     "iopub.execute_input": "2021-01-29T01:24:35.679253Z",
     "iopub.status.busy": "2021-01-29T01:24:35.677996Z",
     "iopub.status.idle": "2021-01-29T01:24:35.683280Z",
     "shell.execute_reply": "2021-01-29T01:24:35.683965Z"
    }
   },
   "outputs": [],
   "source": [
    "clf = KerasClassifier(\n",
    "    model=get_clf_model,\n",
    "    hidden_layer_sizes=(100, ),\n",
    "    optimizer=\"adam\",\n",
    "    optimizer__learning_rate=0.001,\n",
    "    verbose=0,\n",
    "    random_state=0,\n",
    ")"
   ]
  },
  {
   "cell_type": "markdown",
   "id": "mighty-electricity",
   "metadata": {},
   "source": [
    "### 2.1 Building a boosting ensemble\n",
    "\n",
    "Because SciKeras estimators are fully compliant with the Scikit-Learn API, we can make use of Scikit-Learn's built in utilities. In particular example, we will use `AdaBoostClassifier` from `sklearn.ensemble.AdaBoostClassifier`, but the process is the same for most Scikit-Learn meta-estimators."
   ]
  },
  {
   "cell_type": "code",
   "execution_count": 6,
   "id": "swedish-scottish",
   "metadata": {
    "execution": {
     "iopub.execute_input": "2021-01-29T01:24:35.687345Z",
     "iopub.status.busy": "2021-01-29T01:24:35.686190Z",
     "iopub.status.idle": "2021-01-29T01:24:35.771993Z",
     "shell.execute_reply": "2021-01-29T01:24:35.772504Z"
    }
   },
   "outputs": [],
   "source": [
    "from sklearn.ensemble import AdaBoostClassifier"
   ]
  },
  {
   "cell_type": "code",
   "execution_count": 7,
   "id": "foreign-outreach",
   "metadata": {
    "execution": {
     "iopub.execute_input": "2021-01-29T01:24:35.778362Z",
     "iopub.status.busy": "2021-01-29T01:24:35.777805Z",
     "iopub.status.idle": "2021-01-29T01:24:35.780921Z",
     "shell.execute_reply": "2021-01-29T01:24:35.782339Z"
    }
   },
   "outputs": [],
   "source": [
    "adaboost = AdaBoostClassifier(base_estimator=clf, random_state=0)"
   ]
  },
  {
   "cell_type": "markdown",
   "id": "immediate-eating",
   "metadata": {},
   "source": [
    "## 3. Testing with a toy dataset\n",
    "\n",
    "Before continouing, we will run a small test to make sure we get somewhat reasonable results."
   ]
  },
  {
   "cell_type": "code",
   "execution_count": 8,
   "id": "charitable-washington",
   "metadata": {
    "execution": {
     "iopub.execute_input": "2021-01-29T01:24:35.787248Z",
     "iopub.status.busy": "2021-01-29T01:24:35.786572Z",
     "iopub.status.idle": "2021-01-29T01:24:35.842847Z",
     "shell.execute_reply": "2021-01-29T01:24:35.841910Z"
    }
   },
   "outputs": [],
   "source": [
    "from sklearn.datasets import make_moons\n",
    "from sklearn.model_selection import cross_val_score"
   ]
  },
  {
   "cell_type": "code",
   "execution_count": 9,
   "id": "graduate-twenty",
   "metadata": {
    "execution": {
     "iopub.execute_input": "2021-01-29T01:24:35.848636Z",
     "iopub.status.busy": "2021-01-29T01:24:35.847937Z",
     "iopub.status.idle": "2021-01-29T01:28:01.446251Z",
     "shell.execute_reply": "2021-01-29T01:28:01.447105Z"
    }
   },
   "outputs": [
    {
     "name": "stdout",
     "output_type": "stream",
     "text": [
      "Single score: 0.29\n",
      "AdaBoost score: 0.79\n"
     ]
    }
   ],
   "source": [
    "X, y = make_moons()\n",
    "\n",
    "single_score = np.mean(cross_val_score(clf, X, y))\n",
    "\n",
    "adaboost_score = np.mean(cross_val_score(adaboost, X, y))\n",
    "\n",
    "print(f\"Single score: {single_score:.2f}\")\n",
    "print(f\"AdaBoost score: {adaboost_score:.2f}\")"
   ]
  },
  {
   "cell_type": "markdown",
   "id": "bridal-amplifier",
   "metadata": {},
   "source": [
    "We see that the score for the AdaBoost classifier is slightly higher than that of an individual MLPRegressor instance. We can explore the individual classifiers, and see that each one is composed of a Keras Model with it's own individual weights."
   ]
  },
  {
   "cell_type": "code",
   "execution_count": 10,
   "id": "former-testimony",
   "metadata": {
    "execution": {
     "iopub.execute_input": "2021-01-29T01:28:01.451118Z",
     "iopub.status.busy": "2021-01-29T01:28:01.450001Z",
     "iopub.status.idle": "2021-01-29T01:28:39.509392Z",
     "shell.execute_reply": "2021-01-29T01:28:39.510251Z"
    }
   },
   "outputs": [
    {
     "data": {
      "text/plain": [
       "AdaBoostClassifier(base_estimator=KerasClassifier(hidden_layer_sizes=(100,), model=<function get_clf_model at 0x7f837d1ade50>, optimizer='adam', optimizer__learning_rate=0.001, random_state=0, verbose=0),\n",
       "                   random_state=0)"
      ]
     },
     "execution_count": 1,
     "metadata": {},
     "output_type": "execute_result"
    }
   ],
   "source": [
    "adaboost.fit(X, y)  # we need to fit outside of cross_val_score before accessing the weights"
   ]
  },
  {
   "cell_type": "code",
   "execution_count": 11,
   "id": "joined-giant",
   "metadata": {
    "execution": {
     "iopub.execute_input": "2021-01-29T01:28:39.513976Z",
     "iopub.status.busy": "2021-01-29T01:28:39.512966Z",
     "iopub.status.idle": "2021-01-29T01:28:39.532004Z",
     "shell.execute_reply": "2021-01-29T01:28:39.531283Z"
    }
   },
   "outputs": [
    {
     "name": "stdout",
     "output_type": "stream",
     "text": [
      "[-0.12525252  0.08306947 -0.08259707  0.1758548  -0.1503554 ]\n",
      "[ 0.06903832 -0.21088094  0.19642644 -0.07125551 -0.00938133]\n"
     ]
    }
   ],
   "source": [
    "print(adaboost.estimators_[0].model_.get_weights()[0][0, :5])  # first sub-estimator\n",
    "print(adaboost.estimators_[1].model_.get_weights()[0][0, :5])  # second sub-estimator"
   ]
  },
  {
   "cell_type": "markdown",
   "id": "recovered-check",
   "metadata": {},
   "source": [
    "## 4. Bagging ensemble\n",
    "\n",
    "For comparison, we run the same test with an ensemble built using `sklearn.ensemble.BaggingClassifier`."
   ]
  },
  {
   "cell_type": "code",
   "execution_count": 12,
   "id": "written-phase",
   "metadata": {
    "execution": {
     "iopub.execute_input": "2021-01-29T01:28:39.536433Z",
     "iopub.status.busy": "2021-01-29T01:28:39.535780Z",
     "iopub.status.idle": "2021-01-29T01:28:39.539797Z",
     "shell.execute_reply": "2021-01-29T01:28:39.539273Z"
    }
   },
   "outputs": [],
   "source": [
    "from sklearn.ensemble import BaggingClassifier"
   ]
  },
  {
   "cell_type": "code",
   "execution_count": 13,
   "id": "republican-landing",
   "metadata": {
    "execution": {
     "iopub.execute_input": "2021-01-29T01:28:39.546650Z",
     "iopub.status.busy": "2021-01-29T01:28:39.545580Z",
     "iopub.status.idle": "2021-01-29T01:30:21.697432Z",
     "shell.execute_reply": "2021-01-29T01:30:21.696881Z"
    }
   },
   "outputs": [
    {
     "name": "stdout",
     "output_type": "stream",
     "text": [
      "Bagging score: 0.63\n"
     ]
    }
   ],
   "source": [
    "bagging = BaggingClassifier(base_estimator=clf, random_state=0, n_jobs=-1)\n",
    "\n",
    "bagging_score = np.mean(cross_val_score(bagging, X, y))\n",
    "\n",
    "print(f\"Bagging score: {bagging_score:.2f}\")"
   ]
  }
 ],
 "metadata": {
  "jupytext": {
   "formats": "ipynb,md"
  },
  "kernelspec": {
   "display_name": "Python 3",
   "language": "python",
   "name": "python3"
  },
  "language_info": {
   "codemirror_mode": {
    "name": "ipython",
    "version": 3
   },
   "file_extension": ".py",
   "mimetype": "text/x-python",
   "name": "python",
   "nbconvert_exporter": "python",
   "pygments_lexer": "ipython3",
   "version": "3.8.7"
  }
 },
 "nbformat": 4,
 "nbformat_minor": 5
}
