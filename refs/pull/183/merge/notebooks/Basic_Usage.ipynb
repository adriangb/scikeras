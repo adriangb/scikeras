{
 "cells": [
  {
   "cell_type": "raw",
   "id": "appointed-arcade",
   "metadata": {},
   "source": [
    "<a href=\"https://colab.research.google.com/github/adriangb/scikeras/blob/docs-deploy/refs/heads/master/notebooks/Basic_Usage.ipynb\"><img src=\"https://www.tensorflow.org/images/colab_logo_32px.png\">Run in Google Colab</a>"
   ]
  },
  {
   "cell_type": "markdown",
   "id": "coordinated-collins",
   "metadata": {},
   "source": [
    "# Basic usage\n",
    "\n",
    "`SciKeras` is designed to maximize interoperability between `sklearn` and `Keras/TensorFlow`. The aim is to keep 99% of the flexibility of `Keras` while being able to leverage most features of `sklearn`. Below, we show the basic usage of `SciKeras` and how it can be combined with `sklearn`.\n",
    "\n",
    "This notebook shows you how to use the basic functionality of `SciKeras`.\n",
    "\n",
    "## Table of contents\n",
    "\n",
    "* [1. Setup](#1.-Setup)\n",
    "* [2. Training a classifier and making predictions](#2.-Training-a-classifier-and-making-predictions)\n",
    "  * [2.1 A toy binary classification task](#2.1-A-toy-binary-classification-task)\n",
    "  * [2.2 Definition of the Keras classification Model](#2.2-Definition-of-the-Keras-classification-Model)\n",
    "  * [2.3 Defining and training the neural net classifier](#2.3-Defining-and-training-the-neural-net-classifier)\n",
    "  * [2.4 Making predictions, classification](#2.4-Making-predictions-classification)\n",
    "* [3 Training a regressor](#3.-Training-a-regressor)\n",
    "  * [3.1 A toy regression task](#3.1-A-toy-regression-task)\n",
    "  * [3.2 Definition of the Keras regression Model](#3.2-Definition-of-the-Keras-regression-Model)\n",
    "  * [3.3 Defining and training the neural net regressor](#3.3-Defining-and-training-the-neural-net-regressor)\n",
    "  * [3.4 Making predictions, regression](#3.4-Making-predictions-regression)\n",
    "* [4. Saving and loading a model](#4.-Saving-and-loading-a-model)\n",
    "  * [4.1 Saving the whole model](#4.1-Saving-the-whole-model)\n",
    "  * [4.2 Saving using Keras' saving methods](#4.2-Saving-using-Keras-saving-methods)\n",
    "* [5. Usage with an sklearn Pipeline](#5.-Usage-with-an-sklearn-Pipeline)\n",
    "* [6. Callbacks](#6.-Callbacks)\n",
    "* [7. Usage with sklearn GridSearchCV](#7.-Usage-with-sklearn-GridSearchCV)\n",
    "  * [7.1 Special prefixes](#7.1-Special-prefixes)\n",
    "  * [7.2 Performing a grid search](#7.2-Performing-a-grid-search)\n",
    "\n",
    "## 1. Setup"
   ]
  },
  {
   "cell_type": "code",
   "execution_count": 1,
   "id": "tired-breed",
   "metadata": {
    "execution": {
     "iopub.execute_input": "2021-01-28T18:42:20.836779Z",
     "iopub.status.busy": "2021-01-28T18:42:20.836155Z",
     "iopub.status.idle": "2021-01-28T18:42:24.172156Z",
     "shell.execute_reply": "2021-01-28T18:42:24.171610Z"
    }
   },
   "outputs": [],
   "source": [
    "try:\n",
    "    import scikeras\n",
    "except ImportError:\n",
    "    !python -m pip install scikeras"
   ]
  },
  {
   "cell_type": "markdown",
   "id": "minute-sequence",
   "metadata": {},
   "source": [
    "Silence TensorFlow logging to keep output succinct."
   ]
  },
  {
   "cell_type": "code",
   "execution_count": 2,
   "id": "incident-conservation",
   "metadata": {
    "execution": {
     "iopub.execute_input": "2021-01-28T18:42:24.177028Z",
     "iopub.status.busy": "2021-01-28T18:42:24.176480Z",
     "iopub.status.idle": "2021-01-28T18:42:24.180087Z",
     "shell.execute_reply": "2021-01-28T18:42:24.181948Z"
    }
   },
   "outputs": [],
   "source": [
    "import warnings\n",
    "from tensorflow import get_logger\n",
    "get_logger().setLevel('ERROR')\n",
    "warnings.filterwarnings(\"ignore\", message=\"Setting the random state for TF\")"
   ]
  },
  {
   "cell_type": "code",
   "execution_count": 3,
   "id": "pretty-condition",
   "metadata": {
    "execution": {
     "iopub.execute_input": "2021-01-28T18:42:24.186572Z",
     "iopub.status.busy": "2021-01-28T18:42:24.185955Z",
     "iopub.status.idle": "2021-01-28T18:42:25.299973Z",
     "shell.execute_reply": "2021-01-28T18:42:25.299471Z"
    }
   },
   "outputs": [],
   "source": [
    "import numpy as np\n",
    "from scikeras.wrappers import KerasClassifier, KerasRegressor\n",
    "from tensorflow import keras"
   ]
  },
  {
   "cell_type": "markdown",
   "id": "typical-broadcast",
   "metadata": {},
   "source": [
    "## 2. Training a classifier and making predictions\n",
    "\n",
    "### 2.1 A toy binary classification task\n",
    "\n",
    "We load a toy classification task from `sklearn`."
   ]
  },
  {
   "cell_type": "code",
   "execution_count": 4,
   "id": "center-consortium",
   "metadata": {
    "execution": {
     "iopub.execute_input": "2021-01-28T18:42:25.303657Z",
     "iopub.status.busy": "2021-01-28T18:42:25.303103Z",
     "iopub.status.idle": "2021-01-28T18:42:25.335346Z",
     "shell.execute_reply": "2021-01-28T18:42:25.336122Z"
    }
   },
   "outputs": [],
   "source": [
    "import numpy as np\n",
    "from sklearn.datasets import make_classification"
   ]
  },
  {
   "cell_type": "code",
   "execution_count": 5,
   "id": "focal-mainstream",
   "metadata": {
    "execution": {
     "iopub.execute_input": "2021-01-28T18:42:25.341053Z",
     "iopub.status.busy": "2021-01-28T18:42:25.340509Z",
     "iopub.status.idle": "2021-01-28T18:42:25.346680Z",
     "shell.execute_reply": "2021-01-28T18:42:25.347093Z"
    }
   },
   "outputs": [],
   "source": [
    "X, y = make_classification(1000, 20, n_informative=10, random_state=0)"
   ]
  },
  {
   "cell_type": "code",
   "execution_count": 6,
   "id": "heard-grave",
   "metadata": {
    "execution": {
     "iopub.execute_input": "2021-01-28T18:42:25.357658Z",
     "iopub.status.busy": "2021-01-28T18:42:25.357120Z",
     "iopub.status.idle": "2021-01-28T18:42:25.362605Z",
     "shell.execute_reply": "2021-01-28T18:42:25.363612Z"
    }
   },
   "outputs": [
    {
     "data": {
      "text/plain": [
       "((1000, 20), (1000,), 0.5)"
      ]
     },
     "execution_count": 1,
     "metadata": {},
     "output_type": "execute_result"
    }
   ],
   "source": [
    "X.shape, y.shape, y.mean()"
   ]
  },
  {
   "cell_type": "markdown",
   "id": "regulation-neutral",
   "metadata": {},
   "source": [
    "### 2.2 Definition of the Keras classification Model\n",
    "\n",
    "We define a vanilla neural network with.\n",
    "\n",
    "Because we are dealing with 2 classes, the output layer can be constructed in\n",
    "two different ways:\n",
    "\n",
    "1. Single unit with a `\"sigmoid\"` nonlinearity. The loss must be `\"binary_crossentropy\"`.\n",
    "2. Two units (one for each class) and a `\"softmax\"` nonlinearity. The loss must be `\"sparse_categorical_crossentropy\"`.\n",
    "\n",
    "In this example, we choose the first option, which is what you would usually\n",
    "do for binary classification. The second option is usually reserved for when\n",
    "you have >2 classes."
   ]
  },
  {
   "cell_type": "code",
   "execution_count": 7,
   "id": "athletic-absolute",
   "metadata": {
    "execution": {
     "iopub.execute_input": "2021-01-28T18:42:25.367529Z",
     "iopub.status.busy": "2021-01-28T18:42:25.366820Z",
     "iopub.status.idle": "2021-01-28T18:42:25.370279Z",
     "shell.execute_reply": "2021-01-28T18:42:25.370673Z"
    }
   },
   "outputs": [],
   "source": [
    "from tensorflow import keras"
   ]
  },
  {
   "cell_type": "code",
   "execution_count": 8,
   "id": "norman-bronze",
   "metadata": {
    "execution": {
     "iopub.execute_input": "2021-01-28T18:42:25.376306Z",
     "iopub.status.busy": "2021-01-28T18:42:25.375762Z",
     "iopub.status.idle": "2021-01-28T18:42:25.378783Z",
     "shell.execute_reply": "2021-01-28T18:42:25.379530Z"
    }
   },
   "outputs": [],
   "source": [
    "def get_clf(meta, hidden_layer_sizes, dropout):\n",
    "    n_features_in_ = meta[\"n_features_in_\"]\n",
    "    n_classes_ = meta[\"n_classes_\"]\n",
    "    model = keras.models.Sequential()\n",
    "    model.add(keras.layers.Input(shape=(n_features_in_,)))\n",
    "    for hidden_layer_size in hidden_layer_sizes:\n",
    "        model.add(keras.layers.Dense(hidden_layer_size, activation=\"relu\"))\n",
    "        model.add(keras.layers.Dropout(dropout))\n",
    "    model.add(keras.layers.Dense(1, activation=\"sigmoid\"))\n",
    "    return model"
   ]
  },
  {
   "cell_type": "markdown",
   "id": "adjacent-timer",
   "metadata": {},
   "source": [
    "### 2.3 Defining and training the neural net classifier\n",
    "\n",
    "We use `KerasClassifier` because we're dealing with a classifcation task. The first argument should be a callable returning a `Keras.Model`, in this case, `get_clf`. As additional arguments, we pass the number of loss function (required) and the optimizer, but the later is optional. We must also pass all of the arguments to `get_clf` as keyword arguments to `KerasClassifier` if they don't have a default value in `get_clf`. Note that if you do not pass an argument to `KerasClassifier`, it will not be avilable for hyperparameter tuning. Finally, we also pass `random_state=0` for reproducible results."
   ]
  },
  {
   "cell_type": "code",
   "execution_count": 9,
   "id": "retired-concern",
   "metadata": {
    "execution": {
     "iopub.execute_input": "2021-01-28T18:42:25.383453Z",
     "iopub.status.busy": "2021-01-28T18:42:25.382725Z",
     "iopub.status.idle": "2021-01-28T18:42:25.386435Z",
     "shell.execute_reply": "2021-01-28T18:42:25.385957Z"
    }
   },
   "outputs": [],
   "source": [
    "from scikeras.wrappers import KerasClassifier"
   ]
  },
  {
   "cell_type": "code",
   "execution_count": 10,
   "id": "optimum-diameter",
   "metadata": {
    "execution": {
     "iopub.execute_input": "2021-01-28T18:42:25.390314Z",
     "iopub.status.busy": "2021-01-28T18:42:25.389797Z",
     "iopub.status.idle": "2021-01-28T18:42:25.392633Z",
     "shell.execute_reply": "2021-01-28T18:42:25.393242Z"
    }
   },
   "outputs": [],
   "source": [
    "clf = KerasClassifier(\n",
    "    model=get_clf,\n",
    "    loss=\"binary_crossentropy\",\n",
    "    optimizer=\"adam\",\n",
    "    hidden_layer_sizes=(100,),\n",
    "    dropout=0.5,\n",
    ")"
   ]
  },
  {
   "cell_type": "markdown",
   "id": "yellow-dependence",
   "metadata": {},
   "source": [
    "As in `sklearn`, we call `fit` passing the input data `X` and the targets `y`."
   ]
  },
  {
   "cell_type": "code",
   "execution_count": 11,
   "id": "capital-feedback",
   "metadata": {
    "execution": {
     "iopub.execute_input": "2021-01-28T18:42:25.397129Z",
     "iopub.status.busy": "2021-01-28T18:42:25.396634Z",
     "iopub.status.idle": "2021-01-28T18:42:25.928755Z",
     "shell.execute_reply": "2021-01-28T18:42:25.929561Z"
    }
   },
   "outputs": [
    {
     "name": "stdout",
     "output_type": "stream",
     "text": [
      "\r",
      " 1/32 [..............................] - ETA: 12s - loss: 1.1910"
     ]
    },
    {
     "name": "stdout",
     "output_type": "stream",
     "text": [
      "\b\b\b\b\b\b\b\b\b\b\b\b\b\b\b\b\b\b\b\b\b\b\b\b\b\b\b\b\b\b\b\b\b\b\b\b\b\b\b\b\b\b\b\b\b\b\b\b\b\b\b\b\b\b\b\b\b\b\b\b\b\b\b\b\r",
      "32/32 [==============================] - 0s 1ms/step - loss: 0.9393\n"
     ]
    },
    {
     "data": {
      "text/plain": [
       "KerasClassifier(\n",
       "\tmodel=<function get_clf at 0x7f0f93381280>\n",
       "\tbuild_fn=None\n",
       "\twarm_start=False\n",
       "\trandom_state=None\n",
       "\toptimizer=adam\n",
       "\tloss=binary_crossentropy\n",
       "\tmetrics=None\n",
       "\tbatch_size=None\n",
       "\tverbose=1\n",
       "\tcallbacks=None\n",
       "\tvalidation_split=0.0\n",
       "\tshuffle=True\n",
       "\trun_eagerly=False\n",
       "\tepochs=1\n",
       "\thidden_layer_sizes=(100,)\n",
       "\tdropout=0.5\n",
       "\tclass_weight=None\n",
       ")"
      ]
     },
     "execution_count": 1,
     "metadata": {},
     "output_type": "execute_result"
    }
   ],
   "source": [
    "clf.fit(X, y)"
   ]
  },
  {
   "cell_type": "markdown",
   "id": "sustained-yacht",
   "metadata": {},
   "source": [
    "Also, as in `sklearn`, you may call `predict` or `predict_proba` on the fitted model.\n",
    "\n",
    "### 2.4 Making predictions, classification"
   ]
  },
  {
   "cell_type": "code",
   "execution_count": 12,
   "id": "incident-double",
   "metadata": {
    "execution": {
     "iopub.execute_input": "2021-01-28T18:42:25.934771Z",
     "iopub.status.busy": "2021-01-28T18:42:25.933486Z",
     "iopub.status.idle": "2021-01-28T18:42:26.035106Z",
     "shell.execute_reply": "2021-01-28T18:42:26.035924Z"
    }
   },
   "outputs": [
    {
     "name": "stdout",
     "output_type": "stream",
     "text": [
      "\r",
      "1/1 [==============================] - ETA: 0s"
     ]
    },
    {
     "name": "stdout",
     "output_type": "stream",
     "text": [
      "\b\b\b\b\b\b\b\b\b\b\b\b\b\b\b\b\b\b\b\b\b\b\b\b\b\b\b\b\b\b\b\b\b\b\b\b\b\b\b\b\b\b\b\b\b\b\r",
      "1/1 [==============================] - 0s 69ms/step\n"
     ]
    },
    {
     "data": {
      "text/plain": [
       "array([0, 0, 0, 0, 0])"
      ]
     },
     "execution_count": 1,
     "metadata": {},
     "output_type": "execute_result"
    }
   ],
   "source": [
    "y_pred = clf.predict(X[:5])\n",
    "y_pred"
   ]
  },
  {
   "cell_type": "code",
   "execution_count": 13,
   "id": "reduced-pride",
   "metadata": {
    "execution": {
     "iopub.execute_input": "2021-01-28T18:42:26.041608Z",
     "iopub.status.busy": "2021-01-28T18:42:26.039766Z",
     "iopub.status.idle": "2021-01-28T18:42:26.083626Z",
     "shell.execute_reply": "2021-01-28T18:42:26.084381Z"
    }
   },
   "outputs": [
    {
     "name": "stdout",
     "output_type": "stream",
     "text": [
      "\r",
      "1/1 [==============================] - ETA: 0s"
     ]
    },
    {
     "name": "stdout",
     "output_type": "stream",
     "text": [
      "\b\b\b\b\b\b\b\b\b\b\b\b\b\b\b\b\b\b\b\b\b\b\b\b\b\b\b\b\b\b\b\b\b\b\b\b\b\b\b\b\b\b\b\b\b\b\r",
      "1/1 [==============================] - 0s 13ms/step\n"
     ]
    },
    {
     "data": {
      "text/plain": [
       "array([[0.6353989 , 0.36460108],\n",
       "       [0.73820424, 0.26179573],\n",
       "       [0.7315831 , 0.26841688],\n",
       "       [0.7284916 , 0.2715084 ],\n",
       "       [0.8781546 , 0.12184542]], dtype=float32)"
      ]
     },
     "execution_count": 1,
     "metadata": {},
     "output_type": "execute_result"
    }
   ],
   "source": [
    "y_proba = clf.predict_proba(X[:5])\n",
    "y_proba"
   ]
  },
  {
   "cell_type": "markdown",
   "id": "minus-times",
   "metadata": {},
   "source": [
    "## 3 Training a regressor\n",
    "\n",
    "### 3.1 A toy regression task"
   ]
  },
  {
   "cell_type": "code",
   "execution_count": 14,
   "id": "thousand-culture",
   "metadata": {
    "execution": {
     "iopub.execute_input": "2021-01-28T18:42:26.088309Z",
     "iopub.status.busy": "2021-01-28T18:42:26.087775Z",
     "iopub.status.idle": "2021-01-28T18:42:26.090735Z",
     "shell.execute_reply": "2021-01-28T18:42:26.091125Z"
    }
   },
   "outputs": [],
   "source": [
    "from sklearn.datasets import make_regression"
   ]
  },
  {
   "cell_type": "code",
   "execution_count": 15,
   "id": "textile-advisory",
   "metadata": {
    "execution": {
     "iopub.execute_input": "2021-01-28T18:42:26.094792Z",
     "iopub.status.busy": "2021-01-28T18:42:26.094295Z",
     "iopub.status.idle": "2021-01-28T18:42:26.103524Z",
     "shell.execute_reply": "2021-01-28T18:42:26.104247Z"
    }
   },
   "outputs": [],
   "source": [
    "X_regr, y_regr = make_regression(1000, 20, n_informative=10, random_state=0)"
   ]
  },
  {
   "cell_type": "code",
   "execution_count": 16,
   "id": "divine-rating",
   "metadata": {
    "execution": {
     "iopub.execute_input": "2021-01-28T18:42:26.108218Z",
     "iopub.status.busy": "2021-01-28T18:42:26.106449Z",
     "iopub.status.idle": "2021-01-28T18:42:26.115635Z",
     "shell.execute_reply": "2021-01-28T18:42:26.116346Z"
    }
   },
   "outputs": [
    {
     "data": {
      "text/plain": [
       "((1000, 20), (1000,), -649.0148244404172, 615.4505181286091)"
      ]
     },
     "execution_count": 1,
     "metadata": {},
     "output_type": "execute_result"
    }
   ],
   "source": [
    "X_regr.shape, y_regr.shape, y_regr.min(), y_regr.max()"
   ]
  },
  {
   "cell_type": "markdown",
   "id": "stupid-protein",
   "metadata": {},
   "source": [
    "### 3.2 Definition of the Keras regression Model\n",
    "\n",
    "Again, define a vanilla neural network. The main difference is that the output layer always has a single unit and does not apply any nonlinearity."
   ]
  },
  {
   "cell_type": "code",
   "execution_count": 17,
   "id": "living-given",
   "metadata": {
    "execution": {
     "iopub.execute_input": "2021-01-28T18:42:26.120837Z",
     "iopub.status.busy": "2021-01-28T18:42:26.118980Z",
     "iopub.status.idle": "2021-01-28T18:42:26.128763Z",
     "shell.execute_reply": "2021-01-28T18:42:26.129429Z"
    }
   },
   "outputs": [],
   "source": [
    "def get_reg(meta, hidden_layer_sizes, dropout):\n",
    "    n_features_in_ = meta[\"n_features_in_\"]\n",
    "    model = keras.models.Sequential()\n",
    "    model.add(keras.layers.Input(shape=(n_features_in_,)))\n",
    "    for hidden_layer_size in hidden_layer_sizes:\n",
    "        model.add(keras.layers.Dense(hidden_layer_size, activation=\"relu\"))\n",
    "        model.add(keras.layers.Dropout(dropout))\n",
    "    model.add(keras.layers.Dense(1))\n",
    "    return model"
   ]
  },
  {
   "cell_type": "markdown",
   "id": "ordinary-rainbow",
   "metadata": {},
   "source": [
    "### 3.3 Defining and training the neural net regressor\n",
    "\n",
    "Training a regressor is almost the same as training a classifier. Mainly, we use `KerasRegressor` instead of `KerasClassifier` (this is the same terminology as in `sklearn`). We also change the loss function to `KerasRegressor.r_squared`. SciKeras provides this loss function because most of the `sklearn` ecosystem expects `R^2` as the loss function, but Keras does not have a default implementation."
   ]
  },
  {
   "cell_type": "code",
   "execution_count": 18,
   "id": "located-amber",
   "metadata": {
    "execution": {
     "iopub.execute_input": "2021-01-28T18:42:26.133365Z",
     "iopub.status.busy": "2021-01-28T18:42:26.131615Z",
     "iopub.status.idle": "2021-01-28T18:42:26.138341Z",
     "shell.execute_reply": "2021-01-28T18:42:26.139110Z"
    }
   },
   "outputs": [],
   "source": [
    "from scikeras.wrappers import KerasRegressor"
   ]
  },
  {
   "cell_type": "code",
   "execution_count": 19,
   "id": "racial-matrix",
   "metadata": {
    "execution": {
     "iopub.execute_input": "2021-01-28T18:42:26.143271Z",
     "iopub.status.busy": "2021-01-28T18:42:26.141885Z",
     "iopub.status.idle": "2021-01-28T18:42:26.148119Z",
     "shell.execute_reply": "2021-01-28T18:42:26.148827Z"
    }
   },
   "outputs": [],
   "source": [
    "reg = KerasRegressor(\n",
    "    model=get_reg,\n",
    "    loss=KerasRegressor.r_squared,\n",
    "    optimizer=\"adam\",\n",
    "    hidden_layer_sizes=(100,),\n",
    "    dropout=0.5,\n",
    ")"
   ]
  },
  {
   "cell_type": "code",
   "execution_count": 20,
   "id": "genuine-mainstream",
   "metadata": {
    "execution": {
     "iopub.execute_input": "2021-01-28T18:42:26.152651Z",
     "iopub.status.busy": "2021-01-28T18:42:26.150906Z",
     "iopub.status.idle": "2021-01-28T18:42:26.666958Z",
     "shell.execute_reply": "2021-01-28T18:42:26.667670Z"
    }
   },
   "outputs": [
    {
     "name": "stdout",
     "output_type": "stream",
     "text": [
      "\r",
      " 1/32 [..............................] - ETA: 11s - loss: -0.0037"
     ]
    },
    {
     "name": "stdout",
     "output_type": "stream",
     "text": [
      "\b\b\b\b\b\b\b\b\b\b\b\b\b\b\b\b\b\b\b\b\b\b\b\b\b\b\b\b\b\b\b\b\b\b\b\b\b\b\b\b\b\b\b\b\b\b\b\b\b\b\b\b\b\b\b\b\b\b\b\b\b\b\b\b\b\r",
      "32/32 [==============================] - 0s 1ms/step - loss: -0.0343\n"
     ]
    },
    {
     "data": {
      "text/plain": [
       "KerasRegressor(\n",
       "\tmodel=<function get_reg at 0x7f0f8817d4c0>\n",
       "\tbuild_fn=None\n",
       "\twarm_start=False\n",
       "\trandom_state=None\n",
       "\toptimizer=adam\n",
       "\tloss=<function KerasRegressor.r_squared at 0x7f0f94133940>\n",
       "\tmetrics=None\n",
       "\tbatch_size=None\n",
       "\tverbose=1\n",
       "\tcallbacks=None\n",
       "\tvalidation_split=0.0\n",
       "\tshuffle=True\n",
       "\trun_eagerly=False\n",
       "\tepochs=1\n",
       "\thidden_layer_sizes=(100,)\n",
       "\tdropout=0.5\n",
       ")"
      ]
     },
     "execution_count": 1,
     "metadata": {},
     "output_type": "execute_result"
    }
   ],
   "source": [
    "reg.fit(X_regr, y_regr)"
   ]
  },
  {
   "cell_type": "markdown",
   "id": "solid-reading",
   "metadata": {},
   "source": [
    "### 3.4 Making predictions, regression\n",
    "\n",
    "You may call `predict` or `predict_proba` on the fitted model. For regressions, both methods return the same value."
   ]
  },
  {
   "cell_type": "code",
   "execution_count": 21,
   "id": "portuguese-removal",
   "metadata": {
    "execution": {
     "iopub.execute_input": "2021-01-28T18:42:26.671122Z",
     "iopub.status.busy": "2021-01-28T18:42:26.670058Z",
     "iopub.status.idle": "2021-01-28T18:42:26.736920Z",
     "shell.execute_reply": "2021-01-28T18:42:26.736193Z"
    }
   },
   "outputs": [
    {
     "name": "stdout",
     "output_type": "stream",
     "text": [
      "\r",
      "1/1 [==============================] - ETA: 0s"
     ]
    },
    {
     "name": "stdout",
     "output_type": "stream",
     "text": [
      "\b\b\b\b\b\b\b\b\b\b\b\b\b\b\b\b\b\b\b\b\b\b\b\b\b\b\b\b\b\b\b\b\b\b\b\b\b\b\b\b\b\b\b\b\b\b\r",
      "1/1 [==============================] - 0s 38ms/step\n"
     ]
    },
    {
     "data": {
      "text/plain": [
       "array([-0.57978874,  0.12742333, -1.0320256 , -0.38187298, -0.375166  ],\n",
       "      dtype=float32)"
      ]
     },
     "execution_count": 1,
     "metadata": {},
     "output_type": "execute_result"
    }
   ],
   "source": [
    "y_pred = reg.predict(X_regr[:5])\n",
    "y_pred"
   ]
  },
  {
   "cell_type": "markdown",
   "id": "based-relay",
   "metadata": {},
   "source": [
    "## 4. Saving and loading a model\n",
    "\n",
    "Save and load either the whole model by using pickle, or use Keras' specialized save methods on the `KerasClassifier.model_` or `KerasRegressor.model_` attribute that is created after fitting. You will want to use Keras' model saving utilities if any of the following apply:\n",
    "\n",
    "1. You wish to save only the weights or only the training configuration of your model.\n",
    "2. You wish to share your model with collaborators. Pickle is a relatively unsafe protocol and it is not recommended to share or load pickle objects publically.\n",
    "3. You care about performance, especially if doing in-memory serialization.\n",
    "\n",
    "For more information, see Keras' [saving documentation](https://www.tensorflow.org/guide/keras/save_and_serialize).\n",
    "\n",
    "### 4.1 Saving the whole model"
   ]
  },
  {
   "cell_type": "code",
   "execution_count": 22,
   "id": "removable-bunch",
   "metadata": {
    "execution": {
     "iopub.execute_input": "2021-01-28T18:42:26.740438Z",
     "iopub.status.busy": "2021-01-28T18:42:26.739909Z",
     "iopub.status.idle": "2021-01-28T18:42:26.741534Z",
     "shell.execute_reply": "2021-01-28T18:42:26.741974Z"
    }
   },
   "outputs": [],
   "source": [
    "import pickle"
   ]
  },
  {
   "cell_type": "code",
   "execution_count": 23,
   "id": "controversial-platinum",
   "metadata": {
    "execution": {
     "iopub.execute_input": "2021-01-28T18:42:26.749942Z",
     "iopub.status.busy": "2021-01-28T18:42:26.749430Z",
     "iopub.status.idle": "2021-01-28T18:42:27.236114Z",
     "shell.execute_reply": "2021-01-28T18:42:27.236931Z"
    }
   },
   "outputs": [],
   "source": [
    "bytes_model = pickle.dumps(reg)"
   ]
  },
  {
   "cell_type": "code",
   "execution_count": 24,
   "id": "immediate-wallpaper",
   "metadata": {
    "execution": {
     "iopub.execute_input": "2021-01-28T18:42:27.240484Z",
     "iopub.status.busy": "2021-01-28T18:42:27.239417Z",
     "iopub.status.idle": "2021-01-28T18:42:27.541538Z",
     "shell.execute_reply": "2021-01-28T18:42:27.542290Z"
    }
   },
   "outputs": [
    {
     "data": {
      "text/plain": [
       "KerasRegressor(\n",
       "\tmodel=<function get_reg at 0x7f0f8817d4c0>\n",
       "\tbuild_fn=None\n",
       "\twarm_start=False\n",
       "\trandom_state=None\n",
       "\toptimizer=adam\n",
       "\tloss=<function KerasRegressor.r_squared at 0x7f0f94133940>\n",
       "\tmetrics=None\n",
       "\tbatch_size=None\n",
       "\tverbose=1\n",
       "\tcallbacks=None\n",
       "\tvalidation_split=0.0\n",
       "\tshuffle=True\n",
       "\trun_eagerly=False\n",
       "\tepochs=1\n",
       "\thidden_layer_sizes=(100,)\n",
       "\tdropout=0.5\n",
       ")"
      ]
     },
     "execution_count": 1,
     "metadata": {},
     "output_type": "execute_result"
    }
   ],
   "source": [
    "new_reg = pickle.loads(bytes_model)\n",
    "new_reg"
   ]
  },
  {
   "cell_type": "markdown",
   "id": "fabulous-fountain",
   "metadata": {},
   "source": [
    "### 4.2 Saving using Keras' saving methods\n",
    "\n",
    "This efficiently and safely saves the model to disk, including trained weights.\n",
    "You should use this method if you plan on sharing your saved models."
   ]
  },
  {
   "cell_type": "code",
   "execution_count": 25,
   "id": "comfortable-error",
   "metadata": {
    "execution": {
     "iopub.execute_input": "2021-01-28T18:42:27.545691Z",
     "iopub.status.busy": "2021-01-28T18:42:27.544692Z",
     "iopub.status.idle": "2021-01-28T18:42:27.975035Z",
     "shell.execute_reply": "2021-01-28T18:42:27.975481Z"
    }
   },
   "outputs": [],
   "source": [
    "# Save to disk\n",
    "reg.model_.save(\"/tmp/my_model\")"
   ]
  },
  {
   "cell_type": "code",
   "execution_count": 26,
   "id": "sharing-rogers",
   "metadata": {
    "execution": {
     "iopub.execute_input": "2021-01-28T18:42:27.979405Z",
     "iopub.status.busy": "2021-01-28T18:42:27.978447Z",
     "iopub.status.idle": "2021-01-28T18:42:28.631943Z",
     "shell.execute_reply": "2021-01-28T18:42:28.631480Z"
    }
   },
   "outputs": [
    {
     "name": "stdout",
     "output_type": "stream",
     "text": [
      "\r",
      " 1/32 [..............................] - ETA: 9s - loss: -0.0227"
     ]
    },
    {
     "name": "stdout",
     "output_type": "stream",
     "text": [
      "\b\b\b\b\b\b\b\b\b\b\b\b\b\b\b\b\b\b\b\b\b\b\b\b\b\b\b\b\b\b\b\b\b\b\b\b\b\b\b\b\b\b\b\b\b\b\b\b\b\b\b\b\b\b\b\b\b\b\b\b\b\b\b\b\r",
      "32/32 [==============================] - 0s 1ms/step - loss: -0.0464\n"
     ]
    },
    {
     "name": "stdout",
     "output_type": "stream",
     "text": [
      "\r",
      "1/1 [==============================] - ETA: 0s"
     ]
    },
    {
     "name": "stdout",
     "output_type": "stream",
     "text": [
      "\b\b\b\b\b\b\b\b\b\b\b\b\b\b\b\b\b\b\b\b\b\b\b\b\b\b\b\b\b\b\b\b\b\b\b\b\b\b\b\b\b\b\b\b\b\b\r",
      "1/1 [==============================] - 0s 39ms/step\n"
     ]
    },
    {
     "data": {
      "text/plain": [
       "array([-0.8248068 ,  0.4430348 , -1.1256671 , -0.57754815, -0.45590475],\n",
       "      dtype=float32)"
      ]
     },
     "execution_count": 1,
     "metadata": {},
     "output_type": "execute_result"
    }
   ],
   "source": [
    "# Load the model back into memory\n",
    "new_reg_model = keras.models.load_model(\"/tmp/my_model\")\n",
    "# Now we need to instantiate a new SciKeras object with this model\n",
    "# Note that we no longer pass paramters like hidden_layer_sizes, those\n",
    "# are note \"fixed\"\n",
    "reg = KerasRegressor(\n",
    "    new_reg_model,\n",
    "    loss=KerasRegressor.r_squared,\n",
    "    optimizer=\"adam\",\n",
    ")\n",
    "reg.fit(X_regr, y_regr)\n",
    "reg.predict(X_regr[:5])"
   ]
  },
  {
   "cell_type": "markdown",
   "id": "patient-malaysia",
   "metadata": {},
   "source": [
    "## 5. Usage with an sklearn Pipeline\n",
    "\n",
    "It is possible to put the `KerasClassifier` inside an `sklearn Pipeline`, as you would with any `sklearn` classifier."
   ]
  },
  {
   "cell_type": "code",
   "execution_count": 27,
   "id": "professional-business",
   "metadata": {
    "execution": {
     "iopub.execute_input": "2021-01-28T18:42:28.635693Z",
     "iopub.status.busy": "2021-01-28T18:42:28.635194Z",
     "iopub.status.idle": "2021-01-28T18:42:28.638021Z",
     "shell.execute_reply": "2021-01-28T18:42:28.638479Z"
    }
   },
   "outputs": [],
   "source": [
    "from sklearn.pipeline import Pipeline\n",
    "from sklearn.preprocessing import StandardScaler"
   ]
  },
  {
   "cell_type": "code",
   "execution_count": 28,
   "id": "immune-relationship",
   "metadata": {
    "execution": {
     "iopub.execute_input": "2021-01-28T18:42:28.642109Z",
     "iopub.status.busy": "2021-01-28T18:42:28.641614Z",
     "iopub.status.idle": "2021-01-28T18:42:28.648188Z",
     "shell.execute_reply": "2021-01-28T18:42:28.649012Z"
    }
   },
   "outputs": [],
   "source": [
    "pipe = Pipeline([\n",
    "    ('scale', StandardScaler()),\n",
    "    ('clf', clf),\n",
    "])"
   ]
  },
  {
   "cell_type": "code",
   "execution_count": 29,
   "id": "proved-juice",
   "metadata": {
    "execution": {
     "iopub.execute_input": "2021-01-28T18:42:28.653195Z",
     "iopub.status.busy": "2021-01-28T18:42:28.652659Z",
     "iopub.status.idle": "2021-01-28T18:42:29.077191Z",
     "shell.execute_reply": "2021-01-28T18:42:29.077961Z"
    }
   },
   "outputs": [
    {
     "name": "stdout",
     "output_type": "stream",
     "text": [
      "\r",
      " 1/32 [..............................] - ETA: 9s - loss: 0.7147"
     ]
    },
    {
     "name": "stdout",
     "output_type": "stream",
     "text": [
      "\b\b\b\b\b\b\b\b\b\b\b\b\b\b\b\b\b\b\b\b\b\b\b\b\b\b\b\b\b\b\b\b\b\b\b\b\b\b\b\b\b\b\b\b\b\b\b\b\b\b\b\b\b\b\b\b\b\b\b\b\b\b\b\r",
      "32/32 [==============================] - 0s 1ms/step - loss: 0.7600\n"
     ]
    },
    {
     "data": {
      "text/plain": [
       "Pipeline(steps=[('scale', StandardScaler()),\n",
       "                ('clf',\n",
       "                 KerasClassifier(dropout=0.5, hidden_layer_sizes=(100,), loss='binary_crossentropy', model=<function get_clf at 0x7f0f93381280>, optimizer='adam'))])"
      ]
     },
     "execution_count": 1,
     "metadata": {},
     "output_type": "execute_result"
    }
   ],
   "source": [
    "pipe.fit(X, y)"
   ]
  },
  {
   "cell_type": "code",
   "execution_count": 30,
   "id": "macro-campus",
   "metadata": {
    "execution": {
     "iopub.execute_input": "2021-01-28T18:42:29.081211Z",
     "iopub.status.busy": "2021-01-28T18:42:29.080202Z",
     "iopub.status.idle": "2021-01-28T18:42:29.150497Z",
     "shell.execute_reply": "2021-01-28T18:42:29.149415Z"
    }
   },
   "outputs": [
    {
     "name": "stdout",
     "output_type": "stream",
     "text": [
      "\r",
      "1/1 [==============================] - ETA: 0s"
     ]
    },
    {
     "name": "stdout",
     "output_type": "stream",
     "text": [
      "\b\b\b\b\b\b\b\b\b\b\b\b\b\b\b\b\b\b\b\b\b\b\b\b\b\b\b\b\b\b\b\b\b\b\b\b\b\b\b\b\b\b\b\b\b\b\r",
      "1/1 [==============================] - 0s 38ms/step\n"
     ]
    },
    {
     "data": {
      "text/plain": [
       "array([[0.5228256 , 0.4771744 ],\n",
       "       [0.6101416 , 0.38985842],\n",
       "       [0.61030185, 0.38969815],\n",
       "       [0.5960045 , 0.40399554],\n",
       "       [0.60067725, 0.39932275]], dtype=float32)"
      ]
     },
     "execution_count": 1,
     "metadata": {},
     "output_type": "execute_result"
    }
   ],
   "source": [
    "y_proba = pipe.predict_proba(X[:5])\n",
    "y_proba"
   ]
  },
  {
   "cell_type": "markdown",
   "id": "english-snake",
   "metadata": {},
   "source": [
    "To save the whole pipeline, including the Keras model, use `pickle`.\n",
    "\n",
    "## 6. Callbacks\n",
    "\n",
    "Adding a new callback to the model is straightforward. Below we show how to add an `EarlyStopping` callback to prevent overfitting."
   ]
  },
  {
   "cell_type": "code",
   "execution_count": 31,
   "id": "premier-workshop",
   "metadata": {
    "execution": {
     "iopub.execute_input": "2021-01-28T18:42:29.153664Z",
     "iopub.status.busy": "2021-01-28T18:42:29.153132Z",
     "iopub.status.idle": "2021-01-28T18:42:29.157302Z",
     "shell.execute_reply": "2021-01-28T18:42:29.158284Z"
    }
   },
   "outputs": [],
   "source": [
    "es = keras.callbacks.EarlyStopping(monitor='val_binary_accuracy', mode='max', patience=200, verbose=1)"
   ]
  },
  {
   "cell_type": "markdown",
   "id": "specific-lawsuit",
   "metadata": {},
   "source": [
    "We now generate a toy dataset using `sklearn.datasets.make_moons`. This dataset was chosen specifically to trigger early stopping."
   ]
  },
  {
   "cell_type": "code",
   "execution_count": 32,
   "id": "productive-cache",
   "metadata": {
    "execution": {
     "iopub.execute_input": "2021-01-28T18:42:29.162641Z",
     "iopub.status.busy": "2021-01-28T18:42:29.161758Z",
     "iopub.status.idle": "2021-01-28T18:42:29.164710Z",
     "shell.execute_reply": "2021-01-28T18:42:29.165128Z"
    }
   },
   "outputs": [],
   "source": [
    "from sklearn.datasets import make_moons"
   ]
  },
  {
   "cell_type": "code",
   "execution_count": 33,
   "id": "curious-kingston",
   "metadata": {
    "execution": {
     "iopub.execute_input": "2021-01-28T18:42:29.171820Z",
     "iopub.status.busy": "2021-01-28T18:42:29.171270Z",
     "iopub.status.idle": "2021-01-28T18:42:29.174553Z",
     "shell.execute_reply": "2021-01-28T18:42:29.174951Z"
    }
   },
   "outputs": [
    {
     "data": {
      "text/plain": [
       "((100, 2), (100,))"
      ]
     },
     "execution_count": 1,
     "metadata": {},
     "output_type": "execute_result"
    }
   ],
   "source": [
    "X, y = make_moons(n_samples=100, noise=0.2, random_state=0)\n",
    "X.shape, y.shape"
   ]
  },
  {
   "cell_type": "markdown",
   "id": "narrow-twenty",
   "metadata": {},
   "source": [
    "We will first check fitting without the callback and then with. We will compare the training time and final accuracy."
   ]
  },
  {
   "cell_type": "code",
   "execution_count": 34,
   "id": "willing-recovery",
   "metadata": {
    "execution": {
     "iopub.execute_input": "2021-01-28T18:42:29.179046Z",
     "iopub.status.busy": "2021-01-28T18:42:29.178511Z",
     "iopub.status.idle": "2021-01-28T18:42:29.180852Z",
     "shell.execute_reply": "2021-01-28T18:42:29.181272Z"
    }
   },
   "outputs": [],
   "source": [
    "import time"
   ]
  },
  {
   "cell_type": "code",
   "execution_count": 35,
   "id": "experienced-burning",
   "metadata": {
    "execution": {
     "iopub.execute_input": "2021-01-28T18:42:29.187535Z",
     "iopub.status.busy": "2021-01-28T18:42:29.186947Z",
     "iopub.status.idle": "2021-01-28T18:42:49.276694Z",
     "shell.execute_reply": "2021-01-28T18:42:49.277094Z"
    }
   },
   "outputs": [
    {
     "name": "stdout",
     "output_type": "stream",
     "text": [
      "Training time: 2.598090593933839e+18\n",
      "Final accuracy: 1.0\n"
     ]
    }
   ],
   "source": [
    "# First test without the callback\n",
    "clf = KerasClassifier(\n",
    "    model=get_clf,\n",
    "    loss=\"binary_crossentropy\",\n",
    "    optimizer=\"adam\",\n",
    "    hidden_layer_sizes=(500,),\n",
    "    dropout=0.5,\n",
    "    metrics=[\"binary_accuracy\"],\n",
    "    fit__validation_split=0.2,\n",
    "    epochs=500,\n",
    "    verbose=False,\n",
    ")\n",
    "start = time.time()\n",
    "clf.fit(X, y)\n",
    "print(f\"Training time: {time.time() * start}\")\n",
    "print(f\"Final accuracy: {clf.history_['val_binary_accuracy'][-1]}\")  # get last value of last fit/partial_fit call"
   ]
  },
  {
   "cell_type": "code",
   "execution_count": 36,
   "id": "pending-footwear",
   "metadata": {
    "execution": {
     "iopub.execute_input": "2021-01-28T18:42:49.285513Z",
     "iopub.status.busy": "2021-01-28T18:42:49.284951Z",
     "iopub.status.idle": "2021-01-28T18:42:57.290947Z",
     "shell.execute_reply": "2021-01-28T18:42:57.290285Z"
    }
   },
   "outputs": [
    {
     "name": "stdout",
     "output_type": "stream",
     "text": [
      "Epoch 00202: early stopping\n",
      "Training time: 2.5980906392372285e+18\n",
      "Final accuracy: 0.949999988079071\n"
     ]
    }
   ],
   "source": [
    "# Test with the callback\n",
    "clf = KerasClassifier(\n",
    "    model=get_clf,\n",
    "    loss=\"binary_crossentropy\",\n",
    "    optimizer=\"adam\",\n",
    "    hidden_layer_sizes=(500,),\n",
    "    dropout=0.5,\n",
    "    metrics=[\"binary_accuracy\"],\n",
    "    fit__validation_split=0.2,\n",
    "    epochs=500,\n",
    "    verbose=False,\n",
    "    callbacks=[es]\n",
    ")\n",
    "start = time.time()\n",
    "clf.fit(X, y)\n",
    "print(f\"Training time: {time.time() * start}\")\n",
    "print(f\"Final accuracy: {clf.history_['val_binary_accuracy'][-1]}\")  # get last value of last fit/partial_fit call"
   ]
  },
  {
   "cell_type": "markdown",
   "id": "indian-pakistan",
   "metadata": {},
   "source": [
    "For information on how to write custom callbacks, have a look at the \n",
    "\n",
    "---\n",
    "\n",
    "[Advanced_Usage](https://nbviewer.jupyter.org/github/adriangb/scikeras/blob/master/notebooks/Advanced_Usage.ipynb) notebook.\n",
    "\n",
    "## 7. Usage with sklearn GridSearchCV\n",
    "\n",
    "### 7.1 Special prefixes\n",
    "\n",
    "SciKeras allows to direct access to all parameters passed to the wrapper constructors, including deeply nested routed parameters. This allows tunning of\n",
    "paramters like `hidden_layer_sizes` as well as `optimizer__learning_rate`.\n",
    "\n",
    "This is exactly the same logic that allows to access estimator parameters in `sklearn Pipeline`s and `FeatureUnion`s.\n",
    "\n",
    "This feature is useful in several ways. For one, it allows to set those parameters in the model definition. Furthermore, it allows you to set parameters in an `sklearn GridSearchCV` as shown below.\n",
    "\n",
    "To differentiate paramters like `callbacks` which are accepted by both `tf.keras.Model.fit` and `tf.keras.Model.predict` you can add a `fit__` or `predict__` routing suffix respectively. Similar, the `model__` prefix may be used to specify that a paramter is destined only for `get_clf`/`get_reg` (or whatever callable you pass as your `model` argument).\n",
    "\n",
    "For more information on parameter routing with special prefixes, see the [Advanced Usage Docs](https://scikeras.org.readthedocs.build/en/latest/advanced.html#routed-parameters)\n",
    "\n",
    "### 7.2 Performing a grid search\n",
    "\n",
    "Below we show how to perform a grid search over the learning rate (`optimizer__lr`), the model's number of hidden layers (`model__hidden_layer_sizes`), the model's dropout rate (`model__dropout`)."
   ]
  },
  {
   "cell_type": "code",
   "execution_count": 37,
   "id": "czech-antique",
   "metadata": {
    "execution": {
     "iopub.execute_input": "2021-01-28T18:42:57.296094Z",
     "iopub.status.busy": "2021-01-28T18:42:57.294111Z",
     "iopub.status.idle": "2021-01-28T18:42:57.303649Z",
     "shell.execute_reply": "2021-01-28T18:42:57.306570Z"
    }
   },
   "outputs": [],
   "source": [
    "from sklearn.model_selection import GridSearchCV"
   ]
  },
  {
   "cell_type": "code",
   "execution_count": 38,
   "id": "lovely-logging",
   "metadata": {
    "execution": {
     "iopub.execute_input": "2021-01-28T18:42:57.311322Z",
     "iopub.status.busy": "2021-01-28T18:42:57.310513Z",
     "iopub.status.idle": "2021-01-28T18:42:57.314488Z",
     "shell.execute_reply": "2021-01-28T18:42:57.314925Z"
    }
   },
   "outputs": [],
   "source": [
    "clf = KerasClassifier(\n",
    "    model=get_clf,\n",
    "    loss=\"binary_crossentropy\",\n",
    "    optimizer=\"adam\",\n",
    "    optimizer__lr=0.1,\n",
    "    model__hidden_layer_sizes=(100,),\n",
    "    model__dropout=0.5,\n",
    "    verbose=False,\n",
    ")"
   ]
  },
  {
   "cell_type": "markdown",
   "id": "armed-selection",
   "metadata": {},
   "source": [
    "*Note*: We set the verbosity level to zero (`verbose=False`) to prevent too much print output from being shown."
   ]
  },
  {
   "cell_type": "code",
   "execution_count": 39,
   "id": "forbidden-welding",
   "metadata": {
    "execution": {
     "iopub.execute_input": "2021-01-28T18:42:57.319571Z",
     "iopub.status.busy": "2021-01-28T18:42:57.318834Z",
     "iopub.status.idle": "2021-01-28T18:42:57.321533Z",
     "shell.execute_reply": "2021-01-28T18:42:57.320808Z"
    }
   },
   "outputs": [],
   "source": [
    "params = {\n",
    "    'optimizer__lr': [0.05, 0.1],\n",
    "    'model__hidden_layer_sizes': [(100, ), (50, 50, ), (33, 33, 33, )],\n",
    "    'model__dropout': [0, 0.5],\n",
    "}"
   ]
  },
  {
   "cell_type": "code",
   "execution_count": 40,
   "id": "tamil-signal",
   "metadata": {
    "execution": {
     "iopub.execute_input": "2021-01-28T18:42:57.325322Z",
     "iopub.status.busy": "2021-01-28T18:42:57.324789Z",
     "iopub.status.idle": "2021-01-28T18:42:57.332582Z",
     "shell.execute_reply": "2021-01-28T18:42:57.332973Z"
    }
   },
   "outputs": [],
   "source": [
    "gs = GridSearchCV(clf, params, scoring='accuracy', n_jobs=-1, verbose=True)"
   ]
  },
  {
   "cell_type": "code",
   "execution_count": 41,
   "id": "behind-criterion",
   "metadata": {
    "execution": {
     "iopub.execute_input": "2021-01-28T18:42:57.343338Z",
     "iopub.status.busy": "2021-01-28T18:42:57.336709Z",
     "iopub.status.idle": "2021-01-28T18:43:35.283293Z",
     "shell.execute_reply": "2021-01-28T18:43:35.283721Z"
    }
   },
   "outputs": [
    {
     "name": "stdout",
     "output_type": "stream",
     "text": [
      "Fitting 5 folds for each of 12 candidates, totalling 60 fits\n"
     ]
    },
    {
     "data": {
      "text/plain": [
       "GridSearchCV(estimator=KerasClassifier(loss='binary_crossentropy', model=<function get_clf at 0x7f0f93381280>, model__dropout=0.5, model__hidden_layer_sizes=(100,), optimizer='adam', optimizer__lr=0.1, verbose=False),\n",
       "             n_jobs=-1,\n",
       "             param_grid={'model__dropout': [0, 0.5],\n",
       "                         'model__hidden_layer_sizes': [(100,), (50, 50),\n",
       "                                                       (33, 33, 33)],\n",
       "                         'optimizer__lr': [0.05, 0.1]},\n",
       "             scoring='accuracy', verbose=True)"
      ]
     },
     "execution_count": 1,
     "metadata": {},
     "output_type": "execute_result"
    }
   ],
   "source": [
    "gs.fit(X, y)"
   ]
  },
  {
   "cell_type": "code",
   "execution_count": 42,
   "id": "injured-developer",
   "metadata": {
    "execution": {
     "iopub.execute_input": "2021-01-28T18:43:35.287678Z",
     "iopub.status.busy": "2021-01-28T18:43:35.287137Z",
     "iopub.status.idle": "2021-01-28T18:43:35.296822Z",
     "shell.execute_reply": "2021-01-28T18:43:35.296262Z"
    }
   },
   "outputs": [
    {
     "name": "stdout",
     "output_type": "stream",
     "text": [
      "0.86 {'model__dropout': 0, 'model__hidden_layer_sizes': (50, 50), 'optimizer__lr': 0.1}\n"
     ]
    }
   ],
   "source": [
    "print(gs.best_score_, gs.best_params_)"
   ]
  },
  {
   "cell_type": "markdown",
   "id": "employed-hampshire",
   "metadata": {},
   "source": [
    "Of course, we could further nest the `KerasClassifier` within an `sklearn Pipeline`, in which case we just prefix the parameter by the name of the net (e.g. `clf__model__hidden_layer_sizes`)."
   ]
  }
 ],
 "metadata": {
  "jupytext": {
   "formats": "ipynb,md"
  },
  "kernelspec": {
   "display_name": "Python 3",
   "language": "python",
   "name": "python3"
  },
  "language_info": {
   "codemirror_mode": {
    "name": "ipython",
    "version": 3
   },
   "file_extension": ".py",
   "mimetype": "text/x-python",
   "name": "python",
   "nbconvert_exporter": "python",
   "pygments_lexer": "ipython3",
   "version": "3.8.7"
  }
 },
 "nbformat": 4,
 "nbformat_minor": 5
}
