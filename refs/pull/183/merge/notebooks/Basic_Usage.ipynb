{
 "cells": [
  {
   "cell_type": "raw",
   "id": "mediterranean-drawing",
   "metadata": {},
   "source": [
    "<a href=\"https://colab.research.google.com/github/adriangb/scikeras/blob/docs-deploy/refs/heads/master/notebooks/Basic_Usage.ipynb\"><img src=\"https://www.tensorflow.org/images/colab_logo_32px.png\">Run in Google Colab</a>"
   ]
  },
  {
   "cell_type": "markdown",
   "id": "rural-spelling",
   "metadata": {},
   "source": [
    "# Basic usage\n",
    "\n",
    "`SciKeras` is designed to maximize interoperability between `sklearn` and `Keras/TensorFlow`. The aim is to keep 99% of the flexibility of `Keras` while being able to leverage most features of `sklearn`. Below, we show the basic usage of `SciKeras` and how it can be combined with `sklearn`.\n",
    "\n",
    "This notebook shows you how to use the basic functionality of `SciKeras`.\n",
    "\n",
    "## Table of contents\n",
    "\n",
    "* [1. Setup](#1.-Setup)\n",
    "* [2. Training a classifier and making predictions](#2.-Training-a-classifier-and-making-predictions)\n",
    "  * [2.1 A toy binary classification task](#2.1-A-toy-binary-classification-task)\n",
    "  * [2.2 Definition of the Keras classification Model](#2.2-Definition-of-the-Keras-classification-Model)\n",
    "  * [2.3 Defining and training the neural net classifier](#2.3-Defining-and-training-the-neural-net-classifier)\n",
    "  * [2.4 Making predictions, classification](#2.4-Making-predictions-classification)\n",
    "* [3 Training a regressor](#3.-Training-a-regressor)\n",
    "  * [3.1 A toy regression task](#3.1-A-toy-regression-task)\n",
    "  * [3.2 Definition of the Keras regression Model](#3.2-Definition-of-the-Keras-regression-Model)\n",
    "  * [3.3 Defining and training the neural net regressor](#3.3-Defining-and-training-the-neural-net-regressor)\n",
    "  * [3.4 Making predictions, regression](#3.4-Making-predictions-regression)\n",
    "* [4. Saving and loading a model](#4.-Saving-and-loading-a-model)\n",
    "  * [4.1 Saving the whole model](#4.1-Saving-the-whole-model)\n",
    "  * [4.2 Saving using Keras' saving methods](#4.2-Saving-using-Keras-saving-methods)\n",
    "* [5. Usage with an sklearn Pipeline](#5.-Usage-with-an-sklearn-Pipeline)\n",
    "* [6. Callbacks](#6.-Callbacks)\n",
    "* [7. Usage with sklearn GridSearchCV](#7.-Usage-with-sklearn-GridSearchCV)\n",
    "  * [7.1 Special prefixes](#7.1-Special-prefixes)\n",
    "  * [7.2 Performing a grid search](#7.2-Performing-a-grid-search)\n",
    "\n",
    "## 1. Setup"
   ]
  },
  {
   "cell_type": "code",
   "execution_count": 1,
   "id": "placed-tunnel",
   "metadata": {
    "execution": {
     "iopub.execute_input": "2021-01-28T20:08:51.944632Z",
     "iopub.status.busy": "2021-01-28T20:08:51.944066Z",
     "iopub.status.idle": "2021-01-28T20:08:55.071873Z",
     "shell.execute_reply": "2021-01-28T20:08:55.072308Z"
    }
   },
   "outputs": [],
   "source": [
    "try:\n",
    "    import scikeras\n",
    "except ImportError:\n",
    "    !python -m pip install scikeras"
   ]
  },
  {
   "cell_type": "markdown",
   "id": "historic-mistake",
   "metadata": {},
   "source": [
    "Silence TensorFlow logging to keep output succinct."
   ]
  },
  {
   "cell_type": "code",
   "execution_count": 2,
   "id": "english-mainstream",
   "metadata": {
    "execution": {
     "iopub.execute_input": "2021-01-28T20:08:55.077007Z",
     "iopub.status.busy": "2021-01-28T20:08:55.076464Z",
     "iopub.status.idle": "2021-01-28T20:08:55.079398Z",
     "shell.execute_reply": "2021-01-28T20:08:55.079810Z"
    }
   },
   "outputs": [],
   "source": [
    "import warnings\n",
    "from tensorflow import get_logger\n",
    "get_logger().setLevel('ERROR')\n",
    "warnings.filterwarnings(\"ignore\", message=\"Setting the random state for TF\")"
   ]
  },
  {
   "cell_type": "code",
   "execution_count": 3,
   "id": "piano-craft",
   "metadata": {
    "execution": {
     "iopub.execute_input": "2021-01-28T20:08:55.083727Z",
     "iopub.status.busy": "2021-01-28T20:08:55.082987Z",
     "iopub.status.idle": "2021-01-28T20:08:55.474513Z",
     "shell.execute_reply": "2021-01-28T20:08:55.475269Z"
    }
   },
   "outputs": [],
   "source": [
    "import numpy as np\n",
    "from scikeras.wrappers import KerasClassifier, KerasRegressor\n",
    "from tensorflow import keras"
   ]
  },
  {
   "cell_type": "markdown",
   "id": "racial-macedonia",
   "metadata": {},
   "source": [
    "## 2. Training a classifier and making predictions\n",
    "\n",
    "### 2.1 A toy binary classification task\n",
    "\n",
    "We load a toy classification task from `sklearn`."
   ]
  },
  {
   "cell_type": "code",
   "execution_count": 4,
   "id": "frank-assurance",
   "metadata": {
    "execution": {
     "iopub.execute_input": "2021-01-28T20:08:55.479633Z",
     "iopub.status.busy": "2021-01-28T20:08:55.477807Z",
     "iopub.status.idle": "2021-01-28T20:08:55.511189Z",
     "shell.execute_reply": "2021-01-28T20:08:55.511874Z"
    }
   },
   "outputs": [],
   "source": [
    "import numpy as np\n",
    "from sklearn.datasets import make_classification"
   ]
  },
  {
   "cell_type": "code",
   "execution_count": 5,
   "id": "hybrid-exercise",
   "metadata": {
    "execution": {
     "iopub.execute_input": "2021-01-28T20:08:55.517086Z",
     "iopub.status.busy": "2021-01-28T20:08:55.516098Z",
     "iopub.status.idle": "2021-01-28T20:08:55.523552Z",
     "shell.execute_reply": "2021-01-28T20:08:55.524436Z"
    }
   },
   "outputs": [],
   "source": [
    "X, y = make_classification(1000, 20, n_informative=10, random_state=0)"
   ]
  },
  {
   "cell_type": "code",
   "execution_count": 6,
   "id": "cognitive-instrumentation",
   "metadata": {
    "execution": {
     "iopub.execute_input": "2021-01-28T20:08:55.528463Z",
     "iopub.status.busy": "2021-01-28T20:08:55.527937Z",
     "iopub.status.idle": "2021-01-28T20:08:55.538222Z",
     "shell.execute_reply": "2021-01-28T20:08:55.538939Z"
    }
   },
   "outputs": [
    {
     "data": {
      "text/plain": [
       "((1000, 20), (1000,), 0.5)"
      ]
     },
     "execution_count": 1,
     "metadata": {},
     "output_type": "execute_result"
    }
   ],
   "source": [
    "X.shape, y.shape, y.mean()"
   ]
  },
  {
   "cell_type": "markdown",
   "id": "mighty-antarctica",
   "metadata": {},
   "source": [
    "### 2.2 Definition of the Keras classification Model\n",
    "\n",
    "We define a vanilla neural network with.\n",
    "\n",
    "Because we are dealing with 2 classes, the output layer can be constructed in\n",
    "two different ways:\n",
    "\n",
    "1. Single unit with a `\"sigmoid\"` nonlinearity. The loss must be `\"binary_crossentropy\"`.\n",
    "2. Two units (one for each class) and a `\"softmax\"` nonlinearity. The loss must be `\"sparse_categorical_crossentropy\"`.\n",
    "\n",
    "In this example, we choose the first option, which is what you would usually\n",
    "do for binary classification. The second option is usually reserved for when\n",
    "you have >2 classes."
   ]
  },
  {
   "cell_type": "code",
   "execution_count": 7,
   "id": "composite-beginning",
   "metadata": {
    "execution": {
     "iopub.execute_input": "2021-01-28T20:08:55.542225Z",
     "iopub.status.busy": "2021-01-28T20:08:55.541168Z",
     "iopub.status.idle": "2021-01-28T20:08:55.546082Z",
     "shell.execute_reply": "2021-01-28T20:08:55.545298Z"
    }
   },
   "outputs": [],
   "source": [
    "from tensorflow import keras"
   ]
  },
  {
   "cell_type": "code",
   "execution_count": 8,
   "id": "ongoing-mechanics",
   "metadata": {
    "execution": {
     "iopub.execute_input": "2021-01-28T20:08:55.551775Z",
     "iopub.status.busy": "2021-01-28T20:08:55.551277Z",
     "iopub.status.idle": "2021-01-28T20:08:55.553788Z",
     "shell.execute_reply": "2021-01-28T20:08:55.554526Z"
    }
   },
   "outputs": [],
   "source": [
    "def get_clf(meta, hidden_layer_sizes, dropout):\n",
    "    n_features_in_ = meta[\"n_features_in_\"]\n",
    "    n_classes_ = meta[\"n_classes_\"]\n",
    "    model = keras.models.Sequential()\n",
    "    model.add(keras.layers.Input(shape=(n_features_in_,)))\n",
    "    for hidden_layer_size in hidden_layer_sizes:\n",
    "        model.add(keras.layers.Dense(hidden_layer_size, activation=\"relu\"))\n",
    "        model.add(keras.layers.Dropout(dropout))\n",
    "    model.add(keras.layers.Dense(1, activation=\"sigmoid\"))\n",
    "    return model"
   ]
  },
  {
   "cell_type": "markdown",
   "id": "narrow-train",
   "metadata": {},
   "source": [
    "### 2.3 Defining and training the neural net classifier\n",
    "\n",
    "We use `KerasClassifier` because we're dealing with a classifcation task. The first argument should be a callable returning a `Keras.Model`, in this case, `get_clf`. As additional arguments, we pass the number of loss function (required) and the optimizer, but the later is optional. We must also pass all of the arguments to `get_clf` as keyword arguments to `KerasClassifier` if they don't have a default value in `get_clf`. Note that if you do not pass an argument to `KerasClassifier`, it will not be avilable for hyperparameter tuning. Finally, we also pass `random_state=0` for reproducible results."
   ]
  },
  {
   "cell_type": "code",
   "execution_count": 9,
   "id": "treated-companion",
   "metadata": {
    "execution": {
     "iopub.execute_input": "2021-01-28T20:08:55.557751Z",
     "iopub.status.busy": "2021-01-28T20:08:55.556698Z",
     "iopub.status.idle": "2021-01-28T20:08:55.560652Z",
     "shell.execute_reply": "2021-01-28T20:08:55.561360Z"
    }
   },
   "outputs": [],
   "source": [
    "from scikeras.wrappers import KerasClassifier"
   ]
  },
  {
   "cell_type": "code",
   "execution_count": 10,
   "id": "agreed-chancellor",
   "metadata": {
    "execution": {
     "iopub.execute_input": "2021-01-28T20:08:55.565970Z",
     "iopub.status.busy": "2021-01-28T20:08:55.563706Z",
     "iopub.status.idle": "2021-01-28T20:08:55.568158Z",
     "shell.execute_reply": "2021-01-28T20:08:55.568869Z"
    }
   },
   "outputs": [],
   "source": [
    "clf = KerasClassifier(\n",
    "    model=get_clf,\n",
    "    loss=\"binary_crossentropy\",\n",
    "    optimizer=\"adam\",\n",
    "    hidden_layer_sizes=(100,),\n",
    "    dropout=0.5,\n",
    ")"
   ]
  },
  {
   "cell_type": "markdown",
   "id": "capital-elements",
   "metadata": {},
   "source": [
    "As in `sklearn`, we call `fit` passing the input data `X` and the targets `y`."
   ]
  },
  {
   "cell_type": "code",
   "execution_count": 11,
   "id": "opponent-antigua",
   "metadata": {
    "execution": {
     "iopub.execute_input": "2021-01-28T20:08:55.571829Z",
     "iopub.status.busy": "2021-01-28T20:08:55.571305Z",
     "iopub.status.idle": "2021-01-28T20:08:56.092966Z",
     "shell.execute_reply": "2021-01-28T20:08:56.093873Z"
    }
   },
   "outputs": [
    {
     "name": "stdout",
     "output_type": "stream",
     "text": [
      "\r",
      " 1/32 [..............................] - ETA: 12s - loss: 0.9950"
     ]
    },
    {
     "name": "stdout",
     "output_type": "stream",
     "text": [
      "\b\b\b\b\b\b\b\b\b\b\b\b\b\b\b\b\b\b\b\b\b\b\b\b\b\b\b\b\b\b\b\b\b\b\b\b\b\b\b\b\b\b\b\b\b\b\b\b\b\b\b\b\b\b\b\b\b\b\b\b\b\b\b\b\r",
      "32/32 [==============================] - 0s 1ms/step - loss: 0.8695\n"
     ]
    },
    {
     "data": {
      "text/plain": [
       "KerasClassifier(\n",
       "\tmodel=<function get_clf at 0x7fa1b404c9d0>\n",
       "\tbuild_fn=None\n",
       "\twarm_start=False\n",
       "\trandom_state=None\n",
       "\toptimizer=adam\n",
       "\tloss=binary_crossentropy\n",
       "\tmetrics=None\n",
       "\tbatch_size=None\n",
       "\tverbose=1\n",
       "\tcallbacks=None\n",
       "\tvalidation_split=0.0\n",
       "\tshuffle=True\n",
       "\trun_eagerly=False\n",
       "\tepochs=1\n",
       "\thidden_layer_sizes=(100,)\n",
       "\tdropout=0.5\n",
       "\tclass_weight=None\n",
       ")"
      ]
     },
     "execution_count": 1,
     "metadata": {},
     "output_type": "execute_result"
    }
   ],
   "source": [
    "clf.fit(X, y)"
   ]
  },
  {
   "cell_type": "markdown",
   "id": "editorial-spokesman",
   "metadata": {},
   "source": [
    "Also, as in `sklearn`, you may call `predict` or `predict_proba` on the fitted model.\n",
    "\n",
    "### 2.4 Making predictions, classification"
   ]
  },
  {
   "cell_type": "code",
   "execution_count": 12,
   "id": "arabic-ozone",
   "metadata": {
    "execution": {
     "iopub.execute_input": "2021-01-28T20:08:56.097312Z",
     "iopub.status.busy": "2021-01-28T20:08:56.096328Z",
     "iopub.status.idle": "2021-01-28T20:08:56.186700Z",
     "shell.execute_reply": "2021-01-28T20:08:56.186218Z"
    }
   },
   "outputs": [
    {
     "name": "stdout",
     "output_type": "stream",
     "text": [
      "\r",
      "1/1 [==============================] - ETA: 0s"
     ]
    },
    {
     "name": "stdout",
     "output_type": "stream",
     "text": [
      "\b\b\b\b\b\b\b\b\b\b\b\b\b\b\b\b\b\b\b\b\b\b\b\b\b\b\b\b\b\b\b\b\b\b\b\b\b\b\b\b\b\b\b\b\b\b\r",
      "1/1 [==============================] - 0s 60ms/step\n"
     ]
    },
    {
     "data": {
      "text/plain": [
       "array([0, 0, 0, 0, 0])"
      ]
     },
     "execution_count": 1,
     "metadata": {},
     "output_type": "execute_result"
    }
   ],
   "source": [
    "y_pred = clf.predict(X[:5])\n",
    "y_pred"
   ]
  },
  {
   "cell_type": "code",
   "execution_count": 13,
   "id": "compound-hearing",
   "metadata": {
    "execution": {
     "iopub.execute_input": "2021-01-28T20:08:56.191822Z",
     "iopub.status.busy": "2021-01-28T20:08:56.191319Z",
     "iopub.status.idle": "2021-01-28T20:08:56.229003Z",
     "shell.execute_reply": "2021-01-28T20:08:56.228546Z"
    }
   },
   "outputs": [
    {
     "name": "stdout",
     "output_type": "stream",
     "text": [
      "\r",
      "1/1 [==============================] - ETA: 0s"
     ]
    },
    {
     "name": "stdout",
     "output_type": "stream",
     "text": [
      "\b\b\b\b\b\b\b\b\b\b\b\b\b\b\b\b\b\b\b\b\b\b\b\b\b\b\b\b\b\b\b\b\b\b\b\b\b\b\b\b\b\b\b\b\b\b\r",
      "1/1 [==============================] - 0s 12ms/step\n"
     ]
    },
    {
     "data": {
      "text/plain": [
       "array([[0.527887  , 0.47211304],\n",
       "       [0.63204783, 0.36795217],\n",
       "       [0.82387793, 0.17612204],\n",
       "       [0.6266521 , 0.3733479 ],\n",
       "       [0.6342542 , 0.36574575]], dtype=float32)"
      ]
     },
     "execution_count": 1,
     "metadata": {},
     "output_type": "execute_result"
    }
   ],
   "source": [
    "y_proba = clf.predict_proba(X[:5])\n",
    "y_proba"
   ]
  },
  {
   "cell_type": "markdown",
   "id": "metropolitan-difference",
   "metadata": {},
   "source": [
    "## 3 Training a regressor\n",
    "\n",
    "### 3.1 A toy regression task"
   ]
  },
  {
   "cell_type": "code",
   "execution_count": 14,
   "id": "intended-corruption",
   "metadata": {
    "execution": {
     "iopub.execute_input": "2021-01-28T20:08:56.233091Z",
     "iopub.status.busy": "2021-01-28T20:08:56.232577Z",
     "iopub.status.idle": "2021-01-28T20:08:56.235622Z",
     "shell.execute_reply": "2021-01-28T20:08:56.236021Z"
    }
   },
   "outputs": [],
   "source": [
    "from sklearn.datasets import make_regression"
   ]
  },
  {
   "cell_type": "code",
   "execution_count": 15,
   "id": "prerequisite-outreach",
   "metadata": {
    "execution": {
     "iopub.execute_input": "2021-01-28T20:08:56.241086Z",
     "iopub.status.busy": "2021-01-28T20:08:56.240558Z",
     "iopub.status.idle": "2021-01-28T20:08:56.248782Z",
     "shell.execute_reply": "2021-01-28T20:08:56.249501Z"
    }
   },
   "outputs": [],
   "source": [
    "X_regr, y_regr = make_regression(1000, 20, n_informative=10, random_state=0)"
   ]
  },
  {
   "cell_type": "code",
   "execution_count": 16,
   "id": "detailed-leader",
   "metadata": {
    "execution": {
     "iopub.execute_input": "2021-01-28T20:08:56.253543Z",
     "iopub.status.busy": "2021-01-28T20:08:56.251908Z",
     "iopub.status.idle": "2021-01-28T20:08:56.260300Z",
     "shell.execute_reply": "2021-01-28T20:08:56.261007Z"
    }
   },
   "outputs": [
    {
     "data": {
      "text/plain": [
       "((1000, 20), (1000,), -649.0148244404172, 615.4505181286091)"
      ]
     },
     "execution_count": 1,
     "metadata": {},
     "output_type": "execute_result"
    }
   ],
   "source": [
    "X_regr.shape, y_regr.shape, y_regr.min(), y_regr.max()"
   ]
  },
  {
   "cell_type": "markdown",
   "id": "passing-associate",
   "metadata": {},
   "source": [
    "### 3.2 Definition of the Keras regression Model\n",
    "\n",
    "Again, define a vanilla neural network. The main difference is that the output layer always has a single unit and does not apply any nonlinearity."
   ]
  },
  {
   "cell_type": "code",
   "execution_count": 17,
   "id": "played-demographic",
   "metadata": {
    "execution": {
     "iopub.execute_input": "2021-01-28T20:08:56.264898Z",
     "iopub.status.busy": "2021-01-28T20:08:56.264358Z",
     "iopub.status.idle": "2021-01-28T20:08:56.274573Z",
     "shell.execute_reply": "2021-01-28T20:08:56.275282Z"
    }
   },
   "outputs": [],
   "source": [
    "def get_reg(meta, hidden_layer_sizes, dropout):\n",
    "    n_features_in_ = meta[\"n_features_in_\"]\n",
    "    model = keras.models.Sequential()\n",
    "    model.add(keras.layers.Input(shape=(n_features_in_,)))\n",
    "    for hidden_layer_size in hidden_layer_sizes:\n",
    "        model.add(keras.layers.Dense(hidden_layer_size, activation=\"relu\"))\n",
    "        model.add(keras.layers.Dropout(dropout))\n",
    "    model.add(keras.layers.Dense(1))\n",
    "    return model"
   ]
  },
  {
   "cell_type": "markdown",
   "id": "limited-society",
   "metadata": {},
   "source": [
    "### 3.3 Defining and training the neural net regressor\n",
    "\n",
    "Training a regressor is almost the same as training a classifier. Mainly, we use `KerasRegressor` instead of `KerasClassifier` (this is the same terminology as in `sklearn`). We also change the loss function to `KerasRegressor.r_squared`. SciKeras provides this loss function because most of the `sklearn` ecosystem expects `R^2` as the loss function, but Keras does not have a default implementation."
   ]
  },
  {
   "cell_type": "code",
   "execution_count": 18,
   "id": "oriented-profile",
   "metadata": {
    "execution": {
     "iopub.execute_input": "2021-01-28T20:08:56.279212Z",
     "iopub.status.busy": "2021-01-28T20:08:56.277470Z",
     "iopub.status.idle": "2021-01-28T20:08:56.283057Z",
     "shell.execute_reply": "2021-01-28T20:08:56.283763Z"
    }
   },
   "outputs": [],
   "source": [
    "from scikeras.wrappers import KerasRegressor"
   ]
  },
  {
   "cell_type": "code",
   "execution_count": 19,
   "id": "better-bidder",
   "metadata": {
    "execution": {
     "iopub.execute_input": "2021-01-28T20:08:56.289206Z",
     "iopub.status.busy": "2021-01-28T20:08:56.288646Z",
     "iopub.status.idle": "2021-01-28T20:08:56.292642Z",
     "shell.execute_reply": "2021-01-28T20:08:56.293346Z"
    }
   },
   "outputs": [],
   "source": [
    "reg = KerasRegressor(\n",
    "    model=get_reg,\n",
    "    loss=KerasRegressor.r_squared,\n",
    "    optimizer=\"adam\",\n",
    "    hidden_layer_sizes=(100,),\n",
    "    dropout=0.5,\n",
    ")"
   ]
  },
  {
   "cell_type": "code",
   "execution_count": 20,
   "id": "enclosed-venezuela",
   "metadata": {
    "execution": {
     "iopub.execute_input": "2021-01-28T20:08:56.303248Z",
     "iopub.status.busy": "2021-01-28T20:08:56.296252Z",
     "iopub.status.idle": "2021-01-28T20:08:56.818472Z",
     "shell.execute_reply": "2021-01-28T20:08:56.819150Z"
    }
   },
   "outputs": [
    {
     "name": "stdout",
     "output_type": "stream",
     "text": [
      "\r",
      " 1/32 [..............................] - ETA: 11s - loss: -0.0026"
     ]
    },
    {
     "name": "stdout",
     "output_type": "stream",
     "text": [
      "\b\b\b\b\b\b\b\b\b\b\b\b\b\b\b\b\b\b\b\b\b\b\b\b\b\b\b\b\b\b\b\b\b\b\b\b\b\b\b\b\b\b\b\b\b\b\b\b\b\b\b\b\b\b\b\b\b\b\b\b\b\b\b\b\b\r",
      "32/32 [==============================] - 0s 938us/step - loss: -0.0290\n"
     ]
    },
    {
     "data": {
      "text/plain": [
       "KerasRegressor(\n",
       "\tmodel=<function get_reg at 0x7fa13f2bb8b0>\n",
       "\tbuild_fn=None\n",
       "\twarm_start=False\n",
       "\trandom_state=None\n",
       "\toptimizer=adam\n",
       "\tloss=<function KerasRegressor.r_squared at 0x7fa14b1f7b80>\n",
       "\tmetrics=None\n",
       "\tbatch_size=None\n",
       "\tverbose=1\n",
       "\tcallbacks=None\n",
       "\tvalidation_split=0.0\n",
       "\tshuffle=True\n",
       "\trun_eagerly=False\n",
       "\tepochs=1\n",
       "\thidden_layer_sizes=(100,)\n",
       "\tdropout=0.5\n",
       ")"
      ]
     },
     "execution_count": 1,
     "metadata": {},
     "output_type": "execute_result"
    }
   ],
   "source": [
    "reg.fit(X_regr, y_regr)"
   ]
  },
  {
   "cell_type": "markdown",
   "id": "hourly-delaware",
   "metadata": {},
   "source": [
    "### 3.4 Making predictions, regression\n",
    "\n",
    "You may call `predict` or `predict_proba` on the fitted model. For regressions, both methods return the same value."
   ]
  },
  {
   "cell_type": "code",
   "execution_count": 21,
   "id": "mechanical-module",
   "metadata": {
    "execution": {
     "iopub.execute_input": "2021-01-28T20:08:56.824048Z",
     "iopub.status.busy": "2021-01-28T20:08:56.822871Z",
     "iopub.status.idle": "2021-01-28T20:08:56.889216Z",
     "shell.execute_reply": "2021-01-28T20:08:56.888736Z"
    }
   },
   "outputs": [
    {
     "name": "stdout",
     "output_type": "stream",
     "text": [
      "\r",
      "1/1 [==============================] - ETA: 0s"
     ]
    },
    {
     "name": "stdout",
     "output_type": "stream",
     "text": [
      "\b\b\b\b\b\b\b\b\b\b\b\b\b\b\b\b\b\b\b\b\b\b\b\b\b\b\b\b\b\b\b\b\b\b\b\b\b\b\b\b\b\b\b\b\b\b\r",
      "1/1 [==============================] - 0s 36ms/step\n"
     ]
    },
    {
     "data": {
      "text/plain": [
       "array([-0.8475046 ,  0.02576106,  0.1072972 , -0.7136979 , -0.23544732],\n",
       "      dtype=float32)"
      ]
     },
     "execution_count": 1,
     "metadata": {},
     "output_type": "execute_result"
    }
   ],
   "source": [
    "y_pred = reg.predict(X_regr[:5])\n",
    "y_pred"
   ]
  },
  {
   "cell_type": "markdown",
   "id": "cathedral-transfer",
   "metadata": {},
   "source": [
    "## 4. Saving and loading a model\n",
    "\n",
    "Save and load either the whole model by using pickle, or use Keras' specialized save methods on the `KerasClassifier.model_` or `KerasRegressor.model_` attribute that is created after fitting. You will want to use Keras' model saving utilities if any of the following apply:\n",
    "\n",
    "1. You wish to save only the weights or only the training configuration of your model.\n",
    "2. You wish to share your model with collaborators. Pickle is a relatively unsafe protocol and it is not recommended to share or load pickle objects publically.\n",
    "3. You care about performance, especially if doing in-memory serialization.\n",
    "\n",
    "For more information, see Keras' [saving documentation](https://www.tensorflow.org/guide/keras/save_and_serialize).\n",
    "\n",
    "### 4.1 Saving the whole model"
   ]
  },
  {
   "cell_type": "code",
   "execution_count": 22,
   "id": "north-terminal",
   "metadata": {
    "execution": {
     "iopub.execute_input": "2021-01-28T20:08:56.892757Z",
     "iopub.status.busy": "2021-01-28T20:08:56.892231Z",
     "iopub.status.idle": "2021-01-28T20:08:56.895734Z",
     "shell.execute_reply": "2021-01-28T20:08:56.895317Z"
    }
   },
   "outputs": [],
   "source": [
    "import pickle"
   ]
  },
  {
   "cell_type": "code",
   "execution_count": 23,
   "id": "electrical-grant",
   "metadata": {
    "execution": {
     "iopub.execute_input": "2021-01-28T20:08:56.899209Z",
     "iopub.status.busy": "2021-01-28T20:08:56.898689Z",
     "iopub.status.idle": "2021-01-28T20:08:57.377750Z",
     "shell.execute_reply": "2021-01-28T20:08:57.378579Z"
    }
   },
   "outputs": [],
   "source": [
    "bytes_model = pickle.dumps(reg)"
   ]
  },
  {
   "cell_type": "code",
   "execution_count": 24,
   "id": "sublime-louisiana",
   "metadata": {
    "execution": {
     "iopub.execute_input": "2021-01-28T20:08:57.381996Z",
     "iopub.status.busy": "2021-01-28T20:08:57.380948Z",
     "iopub.status.idle": "2021-01-28T20:08:57.663733Z",
     "shell.execute_reply": "2021-01-28T20:08:57.664423Z"
    }
   },
   "outputs": [
    {
     "data": {
      "text/plain": [
       "KerasRegressor(\n",
       "\tmodel=<function get_reg at 0x7fa13f2bb8b0>\n",
       "\tbuild_fn=None\n",
       "\twarm_start=False\n",
       "\trandom_state=None\n",
       "\toptimizer=adam\n",
       "\tloss=<function KerasRegressor.r_squared at 0x7fa14b1f7b80>\n",
       "\tmetrics=None\n",
       "\tbatch_size=None\n",
       "\tverbose=1\n",
       "\tcallbacks=None\n",
       "\tvalidation_split=0.0\n",
       "\tshuffle=True\n",
       "\trun_eagerly=False\n",
       "\tepochs=1\n",
       "\thidden_layer_sizes=(100,)\n",
       "\tdropout=0.5\n",
       ")"
      ]
     },
     "execution_count": 1,
     "metadata": {},
     "output_type": "execute_result"
    }
   ],
   "source": [
    "new_reg = pickle.loads(bytes_model)\n",
    "new_reg"
   ]
  },
  {
   "cell_type": "markdown",
   "id": "studied-montreal",
   "metadata": {},
   "source": [
    "### 4.2 Saving using Keras' saving methods\n",
    "\n",
    "This efficiently and safely saves the model to disk, including trained weights.\n",
    "You should use this method if you plan on sharing your saved models."
   ]
  },
  {
   "cell_type": "code",
   "execution_count": 25,
   "id": "descending-vacation",
   "metadata": {
    "execution": {
     "iopub.execute_input": "2021-01-28T20:08:57.667837Z",
     "iopub.status.busy": "2021-01-28T20:08:57.666871Z",
     "iopub.status.idle": "2021-01-28T20:08:58.081519Z",
     "shell.execute_reply": "2021-01-28T20:08:58.082317Z"
    }
   },
   "outputs": [],
   "source": [
    "# Save to disk\n",
    "reg.model_.save(\"/tmp/my_model\")"
   ]
  },
  {
   "cell_type": "code",
   "execution_count": 26,
   "id": "based-bottle",
   "metadata": {
    "execution": {
     "iopub.execute_input": "2021-01-28T20:08:58.086637Z",
     "iopub.status.busy": "2021-01-28T20:08:58.085587Z",
     "iopub.status.idle": "2021-01-28T20:08:58.699130Z",
     "shell.execute_reply": "2021-01-28T20:08:58.698699Z"
    }
   },
   "outputs": [
    {
     "name": "stdout",
     "output_type": "stream",
     "text": [
      "\r",
      " 1/32 [..............................] - ETA: 9s - loss: -0.0102"
     ]
    },
    {
     "name": "stdout",
     "output_type": "stream",
     "text": [
      "\b\b\b\b\b\b\b\b\b\b\b\b\b\b\b\b\b\b\b\b\b\b\b\b\b\b\b\b\b\b\b\b\b\b\b\b\b\b\b\b\b\b\b\b\b\b\b\b\b\b\b\b\b\b\b\b\b\b\b\b\b\b\b\b\r",
      "32/32 [==============================] - 0s 1ms/step - loss: -0.0546\n"
     ]
    },
    {
     "name": "stdout",
     "output_type": "stream",
     "text": [
      "\r",
      "1/1 [==============================] - ETA: 0s"
     ]
    },
    {
     "name": "stdout",
     "output_type": "stream",
     "text": [
      "\b\b\b\b\b\b\b\b\b\b\b\b\b\b\b\b\b\b\b\b\b\b\b\b\b\b\b\b\b\b\b\b\b\b\b\b\b\b\b\b\b\b\b\b\b\b\r",
      "1/1 [==============================] - 0s 31ms/step\n"
     ]
    },
    {
     "data": {
      "text/plain": [
       "array([-0.9983117 ,  0.40856773,  0.18933997, -0.83432037, -0.35133183],\n",
       "      dtype=float32)"
      ]
     },
     "execution_count": 1,
     "metadata": {},
     "output_type": "execute_result"
    }
   ],
   "source": [
    "# Load the model back into memory\n",
    "new_reg_model = keras.models.load_model(\"/tmp/my_model\")\n",
    "# Now we need to instantiate a new SciKeras object with this model\n",
    "# Note that we no longer pass paramters like hidden_layer_sizes, those\n",
    "# are note \"fixed\"\n",
    "reg = KerasRegressor(\n",
    "    new_reg_model,\n",
    "    loss=KerasRegressor.r_squared,\n",
    "    optimizer=\"adam\",\n",
    ")\n",
    "reg.fit(X_regr, y_regr)\n",
    "reg.predict(X_regr[:5])"
   ]
  },
  {
   "cell_type": "markdown",
   "id": "freelance-clearing",
   "metadata": {},
   "source": [
    "## 5. Usage with an sklearn Pipeline\n",
    "\n",
    "It is possible to put the `KerasClassifier` inside an `sklearn Pipeline`, as you would with any `sklearn` classifier."
   ]
  },
  {
   "cell_type": "code",
   "execution_count": 27,
   "id": "negative-hydrogen",
   "metadata": {
    "execution": {
     "iopub.execute_input": "2021-01-28T20:08:58.703088Z",
     "iopub.status.busy": "2021-01-28T20:08:58.702596Z",
     "iopub.status.idle": "2021-01-28T20:08:58.705136Z",
     "shell.execute_reply": "2021-01-28T20:08:58.704715Z"
    }
   },
   "outputs": [],
   "source": [
    "from sklearn.pipeline import Pipeline\n",
    "from sklearn.preprocessing import StandardScaler"
   ]
  },
  {
   "cell_type": "code",
   "execution_count": 28,
   "id": "higher-costume",
   "metadata": {
    "execution": {
     "iopub.execute_input": "2021-01-28T20:08:58.709044Z",
     "iopub.status.busy": "2021-01-28T20:08:58.708552Z",
     "iopub.status.idle": "2021-01-28T20:08:58.710654Z",
     "shell.execute_reply": "2021-01-28T20:08:58.711039Z"
    }
   },
   "outputs": [],
   "source": [
    "pipe = Pipeline([\n",
    "    ('scale', StandardScaler()),\n",
    "    ('clf', clf),\n",
    "])"
   ]
  },
  {
   "cell_type": "code",
   "execution_count": 29,
   "id": "quick-virtue",
   "metadata": {
    "execution": {
     "iopub.execute_input": "2021-01-28T20:08:58.723332Z",
     "iopub.status.busy": "2021-01-28T20:08:58.722846Z",
     "iopub.status.idle": "2021-01-28T20:08:59.131128Z",
     "shell.execute_reply": "2021-01-28T20:08:59.131525Z"
    }
   },
   "outputs": [
    {
     "name": "stdout",
     "output_type": "stream",
     "text": [
      "\r",
      " 1/32 [..............................] - ETA: 9s - loss: 0.8009"
     ]
    },
    {
     "name": "stdout",
     "output_type": "stream",
     "text": [
      "\b\b\b\b\b\b\b\b\b\b\b\b\b\b\b\b\b\b\b\b\b\b\b\b\b\b\b\b\b\b\b\b\b\b\b\b\b\b\b\b\b\b\b\b\b\b\b\b\b\b\b\b\b\b\b\b\b\b\b\b\b\b\b\r",
      "32/32 [==============================] - 0s 913us/step - loss: 0.7581\n"
     ]
    },
    {
     "data": {
      "text/plain": [
       "Pipeline(steps=[('scale', StandardScaler()),\n",
       "                ('clf',\n",
       "                 KerasClassifier(dropout=0.5, hidden_layer_sizes=(100,), loss='binary_crossentropy', model=<function get_clf at 0x7fa1b404c9d0>, optimizer='adam'))])"
      ]
     },
     "execution_count": 1,
     "metadata": {},
     "output_type": "execute_result"
    }
   ],
   "source": [
    "pipe.fit(X, y)"
   ]
  },
  {
   "cell_type": "code",
   "execution_count": 30,
   "id": "naval-equity",
   "metadata": {
    "execution": {
     "iopub.execute_input": "2021-01-28T20:08:59.135307Z",
     "iopub.status.busy": "2021-01-28T20:08:59.134031Z",
     "iopub.status.idle": "2021-01-28T20:08:59.203750Z",
     "shell.execute_reply": "2021-01-28T20:08:59.202980Z"
    }
   },
   "outputs": [
    {
     "name": "stdout",
     "output_type": "stream",
     "text": [
      "\r",
      "1/1 [==============================] - ETA: 0s"
     ]
    },
    {
     "name": "stdout",
     "output_type": "stream",
     "text": [
      "\b\b\b\b\b\b\b\b\b\b\b\b\b\b\b\b\b\b\b\b\b\b\b\b\b\b\b\b\b\b\b\b\b\b\b\b\b\b\b\b\b\b\b\b\b\b\r",
      "1/1 [==============================] - 0s 38ms/step\n"
     ]
    },
    {
     "data": {
      "text/plain": [
       "array([[0.42011124, 0.57988876],\n",
       "       [0.63520133, 0.3647987 ],\n",
       "       [0.7342593 , 0.2657407 ],\n",
       "       [0.50942844, 0.49057156],\n",
       "       [0.6149616 , 0.38503838]], dtype=float32)"
      ]
     },
     "execution_count": 1,
     "metadata": {},
     "output_type": "execute_result"
    }
   ],
   "source": [
    "y_proba = pipe.predict_proba(X[:5])\n",
    "y_proba"
   ]
  },
  {
   "cell_type": "markdown",
   "id": "french-valuable",
   "metadata": {},
   "source": [
    "To save the whole pipeline, including the Keras model, use `pickle`.\n",
    "\n",
    "## 6. Callbacks\n",
    "\n",
    "Adding a new callback to the model is straightforward. Below we show how to add an `EarlyStopping` callback to prevent overfitting."
   ]
  },
  {
   "cell_type": "code",
   "execution_count": 31,
   "id": "engaged-sampling",
   "metadata": {
    "execution": {
     "iopub.execute_input": "2021-01-28T20:08:59.207341Z",
     "iopub.status.busy": "2021-01-28T20:08:59.205923Z",
     "iopub.status.idle": "2021-01-28T20:08:59.210876Z",
     "shell.execute_reply": "2021-01-28T20:08:59.211267Z"
    }
   },
   "outputs": [],
   "source": [
    "es = keras.callbacks.EarlyStopping(monitor='val_binary_accuracy', mode='max', patience=200, verbose=1)"
   ]
  },
  {
   "cell_type": "markdown",
   "id": "modular-patch",
   "metadata": {},
   "source": [
    "We now generate a toy dataset using `sklearn.datasets.make_moons`. This dataset was chosen specifically to trigger early stopping."
   ]
  },
  {
   "cell_type": "code",
   "execution_count": 32,
   "id": "regulation-combat",
   "metadata": {
    "execution": {
     "iopub.execute_input": "2021-01-28T20:08:59.215616Z",
     "iopub.status.busy": "2021-01-28T20:08:59.213747Z",
     "iopub.status.idle": "2021-01-28T20:08:59.218116Z",
     "shell.execute_reply": "2021-01-28T20:08:59.218528Z"
    }
   },
   "outputs": [],
   "source": [
    "from sklearn.datasets import make_moons"
   ]
  },
  {
   "cell_type": "code",
   "execution_count": 33,
   "id": "imported-kitchen",
   "metadata": {
    "execution": {
     "iopub.execute_input": "2021-01-28T20:08:59.221402Z",
     "iopub.status.busy": "2021-01-28T20:08:59.220910Z",
     "iopub.status.idle": "2021-01-28T20:08:59.226802Z",
     "shell.execute_reply": "2021-01-28T20:08:59.227533Z"
    }
   },
   "outputs": [
    {
     "data": {
      "text/plain": [
       "((100, 2), (100,))"
      ]
     },
     "execution_count": 1,
     "metadata": {},
     "output_type": "execute_result"
    }
   ],
   "source": [
    "X, y = make_moons(n_samples=100, noise=0.2, random_state=0)\n",
    "X.shape, y.shape"
   ]
  },
  {
   "cell_type": "markdown",
   "id": "cutting-overview",
   "metadata": {},
   "source": [
    "We will first check fitting without the callback and then with. We will compare the training time and final accuracy."
   ]
  },
  {
   "cell_type": "code",
   "execution_count": 34,
   "id": "organic-andorra",
   "metadata": {
    "execution": {
     "iopub.execute_input": "2021-01-28T20:08:59.230941Z",
     "iopub.status.busy": "2021-01-28T20:08:59.230428Z",
     "iopub.status.idle": "2021-01-28T20:08:59.233723Z",
     "shell.execute_reply": "2021-01-28T20:08:59.234422Z"
    }
   },
   "outputs": [],
   "source": [
    "import time"
   ]
  },
  {
   "cell_type": "code",
   "execution_count": 35,
   "id": "supported-slope",
   "metadata": {
    "execution": {
     "iopub.execute_input": "2021-01-28T20:08:59.238065Z",
     "iopub.status.busy": "2021-01-28T20:08:59.236596Z",
     "iopub.status.idle": "2021-01-28T20:09:19.240312Z",
     "shell.execute_reply": "2021-01-28T20:09:19.240765Z"
    }
   },
   "outputs": [
    {
     "name": "stdout",
     "output_type": "stream",
     "text": [
      "Training time: 2.598107325091293e+18\n",
      "Final accuracy: 1.0\n"
     ]
    }
   ],
   "source": [
    "# First test without the callback\n",
    "clf = KerasClassifier(\n",
    "    model=get_clf,\n",
    "    loss=\"binary_crossentropy\",\n",
    "    optimizer=\"adam\",\n",
    "    hidden_layer_sizes=(500,),\n",
    "    dropout=0.5,\n",
    "    metrics=[\"binary_accuracy\"],\n",
    "    fit__validation_split=0.2,\n",
    "    epochs=500,\n",
    "    verbose=False,\n",
    ")\n",
    "start = time.time()\n",
    "clf.fit(X, y)\n",
    "print(f\"Training time: {time.time() * start}\")\n",
    "print(f\"Final accuracy: {clf.history_['val_binary_accuracy'][-1]}\")  # get last value of last fit/partial_fit call"
   ]
  },
  {
   "cell_type": "code",
   "execution_count": 36,
   "id": "excessive-south",
   "metadata": {
    "execution": {
     "iopub.execute_input": "2021-01-28T20:09:19.251817Z",
     "iopub.status.busy": "2021-01-28T20:09:19.248375Z",
     "iopub.status.idle": "2021-01-28T20:09:27.737915Z",
     "shell.execute_reply": "2021-01-28T20:09:27.737432Z"
    }
   },
   "outputs": [
    {
     "name": "stdout",
     "output_type": "stream",
     "text": [
      "Epoch 00218: early stopping\n",
      "Training time: 2.598107371029658e+18\n",
      "Final accuracy: 1.0\n"
     ]
    }
   ],
   "source": [
    "# Test with the callback\n",
    "clf = KerasClassifier(\n",
    "    model=get_clf,\n",
    "    loss=\"binary_crossentropy\",\n",
    "    optimizer=\"adam\",\n",
    "    hidden_layer_sizes=(500,),\n",
    "    dropout=0.5,\n",
    "    metrics=[\"binary_accuracy\"],\n",
    "    fit__validation_split=0.2,\n",
    "    epochs=500,\n",
    "    verbose=False,\n",
    "    callbacks=[es]\n",
    ")\n",
    "start = time.time()\n",
    "clf.fit(X, y)\n",
    "print(f\"Training time: {time.time() * start}\")\n",
    "print(f\"Final accuracy: {clf.history_['val_binary_accuracy'][-1]}\")  # get last value of last fit/partial_fit call"
   ]
  },
  {
   "cell_type": "markdown",
   "id": "centered-employer",
   "metadata": {},
   "source": [
    "For information on how to write custom callbacks, have a look at the \n",
    "\n",
    "---\n",
    "\n",
    "[Advanced_Usage](https://nbviewer.jupyter.org/github/adriangb/scikeras/blob/master/notebooks/Advanced_Usage.ipynb) notebook.\n",
    "\n",
    "## 7. Usage with sklearn GridSearchCV\n",
    "\n",
    "### 7.1 Special prefixes\n",
    "\n",
    "SciKeras allows to direct access to all parameters passed to the wrapper constructors, including deeply nested routed parameters. This allows tunning of\n",
    "paramters like `hidden_layer_sizes` as well as `optimizer__learning_rate`.\n",
    "\n",
    "This is exactly the same logic that allows to access estimator parameters in `sklearn Pipeline`s and `FeatureUnion`s.\n",
    "\n",
    "This feature is useful in several ways. For one, it allows to set those parameters in the model definition. Furthermore, it allows you to set parameters in an `sklearn GridSearchCV` as shown below.\n",
    "\n",
    "To differentiate paramters like `callbacks` which are accepted by both `tf.keras.Model.fit` and `tf.keras.Model.predict` you can add a `fit__` or `predict__` routing suffix respectively. Similar, the `model__` prefix may be used to specify that a paramter is destined only for `get_clf`/`get_reg` (or whatever callable you pass as your `model` argument).\n",
    "\n",
    "For more information on parameter routing with special prefixes, see the [Advanced Usage Docs](https://scikeras.org.readthedocs.build/en/latest/advanced.html#routed-parameters)\n",
    "\n",
    "### 7.2 Performing a grid search\n",
    "\n",
    "Below we show how to perform a grid search over the learning rate (`optimizer__lr`), the model's number of hidden layers (`model__hidden_layer_sizes`), the model's dropout rate (`model__dropout`)."
   ]
  },
  {
   "cell_type": "code",
   "execution_count": 37,
   "id": "complimentary-davis",
   "metadata": {
    "execution": {
     "iopub.execute_input": "2021-01-28T20:09:27.742869Z",
     "iopub.status.busy": "2021-01-28T20:09:27.741384Z",
     "iopub.status.idle": "2021-01-28T20:09:27.761712Z",
     "shell.execute_reply": "2021-01-28T20:09:27.761234Z"
    }
   },
   "outputs": [],
   "source": [
    "from sklearn.model_selection import GridSearchCV"
   ]
  },
  {
   "cell_type": "code",
   "execution_count": 38,
   "id": "auburn-mason",
   "metadata": {
    "execution": {
     "iopub.execute_input": "2021-01-28T20:09:27.766778Z",
     "iopub.status.busy": "2021-01-28T20:09:27.765989Z",
     "iopub.status.idle": "2021-01-28T20:09:27.768666Z",
     "shell.execute_reply": "2021-01-28T20:09:27.769077Z"
    }
   },
   "outputs": [],
   "source": [
    "clf = KerasClassifier(\n",
    "    model=get_clf,\n",
    "    loss=\"binary_crossentropy\",\n",
    "    optimizer=\"adam\",\n",
    "    optimizer__lr=0.1,\n",
    "    model__hidden_layer_sizes=(100,),\n",
    "    model__dropout=0.5,\n",
    "    verbose=False,\n",
    ")"
   ]
  },
  {
   "cell_type": "markdown",
   "id": "civic-medium",
   "metadata": {},
   "source": [
    "*Note*: We set the verbosity level to zero (`verbose=False`) to prevent too much print output from being shown."
   ]
  },
  {
   "cell_type": "code",
   "execution_count": 39,
   "id": "social-batman",
   "metadata": {
    "execution": {
     "iopub.execute_input": "2021-01-28T20:09:27.773709Z",
     "iopub.status.busy": "2021-01-28T20:09:27.773169Z",
     "iopub.status.idle": "2021-01-28T20:09:27.775405Z",
     "shell.execute_reply": "2021-01-28T20:09:27.775818Z"
    }
   },
   "outputs": [],
   "source": [
    "params = {\n",
    "    'optimizer__lr': [0.05, 0.1],\n",
    "    'model__hidden_layer_sizes': [(100, ), (50, 50, ), (33, 33, 33, )],\n",
    "    'model__dropout': [0, 0.5],\n",
    "}"
   ]
  },
  {
   "cell_type": "code",
   "execution_count": 40,
   "id": "thermal-polyester",
   "metadata": {
    "execution": {
     "iopub.execute_input": "2021-01-28T20:09:27.779972Z",
     "iopub.status.busy": "2021-01-28T20:09:27.779446Z",
     "iopub.status.idle": "2021-01-28T20:09:27.781424Z",
     "shell.execute_reply": "2021-01-28T20:09:27.781830Z"
    }
   },
   "outputs": [],
   "source": [
    "gs = GridSearchCV(clf, params, scoring='accuracy', n_jobs=-1, verbose=True)"
   ]
  },
  {
   "cell_type": "code",
   "execution_count": 41,
   "id": "gentle-hudson",
   "metadata": {
    "execution": {
     "iopub.execute_input": "2021-01-28T20:09:27.785701Z",
     "iopub.status.busy": "2021-01-28T20:09:27.784819Z",
     "iopub.status.idle": "2021-01-28T20:10:04.793373Z",
     "shell.execute_reply": "2021-01-28T20:10:04.794357Z"
    }
   },
   "outputs": [
    {
     "name": "stdout",
     "output_type": "stream",
     "text": [
      "Fitting 5 folds for each of 12 candidates, totalling 60 fits\n"
     ]
    },
    {
     "data": {
      "text/plain": [
       "GridSearchCV(estimator=KerasClassifier(loss='binary_crossentropy', model=<function get_clf at 0x7fa1b404c9d0>, model__dropout=0.5, model__hidden_layer_sizes=(100,), optimizer='adam', optimizer__lr=0.1, verbose=False),\n",
       "             n_jobs=-1,\n",
       "             param_grid={'model__dropout': [0, 0.5],\n",
       "                         'model__hidden_layer_sizes': [(100,), (50, 50),\n",
       "                                                       (33, 33, 33)],\n",
       "                         'optimizer__lr': [0.05, 0.1]},\n",
       "             scoring='accuracy', verbose=True)"
      ]
     },
     "execution_count": 1,
     "metadata": {},
     "output_type": "execute_result"
    }
   ],
   "source": [
    "gs.fit(X, y)"
   ]
  },
  {
   "cell_type": "code",
   "execution_count": 42,
   "id": "fleet-double",
   "metadata": {
    "execution": {
     "iopub.execute_input": "2021-01-28T20:10:04.797668Z",
     "iopub.status.busy": "2021-01-28T20:10:04.797052Z",
     "iopub.status.idle": "2021-01-28T20:10:04.808494Z",
     "shell.execute_reply": "2021-01-28T20:10:04.808039Z"
    }
   },
   "outputs": [
    {
     "name": "stdout",
     "output_type": "stream",
     "text": [
      "0.85 {'model__dropout': 0.5, 'model__hidden_layer_sizes': (50, 50), 'optimizer__lr': 0.1}\n"
     ]
    }
   ],
   "source": [
    "print(gs.best_score_, gs.best_params_)"
   ]
  },
  {
   "cell_type": "markdown",
   "id": "actual-closing",
   "metadata": {},
   "source": [
    "Of course, we could further nest the `KerasClassifier` within an `sklearn Pipeline`, in which case we just prefix the parameter by the name of the net (e.g. `clf__model__hidden_layer_sizes`)."
   ]
  }
 ],
 "metadata": {
  "jupytext": {
   "formats": "ipynb,md"
  },
  "kernelspec": {
   "display_name": "Python 3",
   "language": "python",
   "name": "python3"
  },
  "language_info": {
   "codemirror_mode": {
    "name": "ipython",
    "version": 3
   },
   "file_extension": ".py",
   "mimetype": "text/x-python",
   "name": "python",
   "nbconvert_exporter": "python",
   "pygments_lexer": "ipython3",
   "version": "3.8.7"
  }
 },
 "nbformat": 4,
 "nbformat_minor": 5
}
