{
 "cells": [
  {
   "cell_type": "raw",
   "id": "stupid-meter",
   "metadata": {},
   "source": [
    "<a href=\"https://colab.research.google.com/github/adriangb/scikeras/blob/docs-deploy/refs/heads/master/notebooks/Basic_Usage.ipynb\"><img src=\"https://www.tensorflow.org/images/colab_logo_32px.png\">Run in Google Colab</a>"
   ]
  },
  {
   "cell_type": "markdown",
   "id": "tight-thing",
   "metadata": {},
   "source": [
    "# Basic usage\n",
    "\n",
    "`SciKeras` is designed to maximize interoperability between `sklearn` and `Keras/TensorFlow`. The aim is to keep 99% of the flexibility of `Keras` while being able to leverage most features of `sklearn`. Below, we show the basic usage of `SciKeras` and how it can be combined with `sklearn`.\n",
    "\n",
    "This notebook shows you how to use the basic functionality of `SciKeras`.\n",
    "\n",
    "## Table of contents\n",
    "\n",
    "* [1. Setup](#1.-Setup)\n",
    "* [2. Training a classifier and making predictions](#2.-Training-a-classifier-and-making-predictions)\n",
    "  * [2.1 A toy binary classification task](#2.1-A-toy-binary-classification-task)\n",
    "  * [2.2 Definition of the Keras classification Model](#2.2-Definition-of-the-Keras-classification-Model)\n",
    "  * [2.3 Defining and training the neural net classifier](#2.3-Defining-and-training-the-neural-net-classifier)\n",
    "  * [2.4 Making predictions, classification](#2.4-Making-predictions-classification)\n",
    "* [3 Training a regressor](#3.-Training-a-regressor)\n",
    "  * [3.1 A toy regression task](#3.1-A-toy-regression-task)\n",
    "  * [3.2 Definition of the Keras regression Model](#3.2-Definition-of-the-Keras-regression-Model)\n",
    "  * [3.3 Defining and training the neural net regressor](#3.3-Defining-and-training-the-neural-net-regressor)\n",
    "  * [3.4 Making predictions, regression](#3.4-Making-predictions-regression)\n",
    "* [4. Saving and loading a model](#4.-Saving-and-loading-a-model)\n",
    "  * [4.1 Saving the whole model](#4.1-Saving-the-whole-model)\n",
    "  * [4.2 Saving using Keras' saving methods](#4.2-Saving-using-Keras-saving-methods)\n",
    "* [5. Usage with an sklearn Pipeline](#5.-Usage-with-an-sklearn-Pipeline)\n",
    "* [6. Callbacks](#6.-Callbacks)\n",
    "* [7. Usage with sklearn GridSearchCV](#7.-Usage-with-sklearn-GridSearchCV)\n",
    "  * [7.1 Special prefixes](#7.1-Special-prefixes)\n",
    "  * [7.2 Performing a grid search](#7.2-Performing-a-grid-search)\n",
    "\n",
    "## 1. Setup"
   ]
  },
  {
   "cell_type": "code",
   "execution_count": 1,
   "id": "verified-beauty",
   "metadata": {
    "execution": {
     "iopub.execute_input": "2021-01-28T18:56:38.108611Z",
     "iopub.status.busy": "2021-01-28T18:56:38.107896Z",
     "iopub.status.idle": "2021-01-28T18:56:43.284705Z",
     "shell.execute_reply": "2021-01-28T18:56:43.283597Z"
    }
   },
   "outputs": [],
   "source": [
    "try:\n",
    "    import scikeras\n",
    "except ImportError:\n",
    "    !python -m pip install scikeras"
   ]
  },
  {
   "cell_type": "markdown",
   "id": "detailed-frederick",
   "metadata": {},
   "source": [
    "Silence TensorFlow logging to keep output succinct."
   ]
  },
  {
   "cell_type": "code",
   "execution_count": 2,
   "id": "differential-least",
   "metadata": {
    "execution": {
     "iopub.execute_input": "2021-01-28T18:56:43.292109Z",
     "iopub.status.busy": "2021-01-28T18:56:43.290704Z",
     "iopub.status.idle": "2021-01-28T18:56:43.292802Z",
     "shell.execute_reply": "2021-01-28T18:56:43.293304Z"
    }
   },
   "outputs": [],
   "source": [
    "import warnings\n",
    "from tensorflow import get_logger\n",
    "get_logger().setLevel('ERROR')\n",
    "warnings.filterwarnings(\"ignore\", message=\"Setting the random state for TF\")"
   ]
  },
  {
   "cell_type": "code",
   "execution_count": 3,
   "id": "sought-shark",
   "metadata": {
    "execution": {
     "iopub.execute_input": "2021-01-28T18:56:43.297372Z",
     "iopub.status.busy": "2021-01-28T18:56:43.296773Z",
     "iopub.status.idle": "2021-01-28T18:56:44.245491Z",
     "shell.execute_reply": "2021-01-28T18:56:44.246329Z"
    }
   },
   "outputs": [],
   "source": [
    "import numpy as np\n",
    "from scikeras.wrappers import KerasClassifier, KerasRegressor\n",
    "from tensorflow import keras"
   ]
  },
  {
   "cell_type": "markdown",
   "id": "handled-penetration",
   "metadata": {},
   "source": [
    "## 2. Training a classifier and making predictions\n",
    "\n",
    "### 2.1 A toy binary classification task\n",
    "\n",
    "We load a toy classification task from `sklearn`."
   ]
  },
  {
   "cell_type": "code",
   "execution_count": 4,
   "id": "adolescent-qatar",
   "metadata": {
    "execution": {
     "iopub.execute_input": "2021-01-28T18:56:44.249560Z",
     "iopub.status.busy": "2021-01-28T18:56:44.248442Z",
     "iopub.status.idle": "2021-01-28T18:56:44.276683Z",
     "shell.execute_reply": "2021-01-28T18:56:44.277470Z"
    }
   },
   "outputs": [],
   "source": [
    "import numpy as np\n",
    "from sklearn.datasets import make_classification"
   ]
  },
  {
   "cell_type": "code",
   "execution_count": 5,
   "id": "induced-shirt",
   "metadata": {
    "execution": {
     "iopub.execute_input": "2021-01-28T18:56:44.281017Z",
     "iopub.status.busy": "2021-01-28T18:56:44.279922Z",
     "iopub.status.idle": "2021-01-28T18:56:44.287577Z",
     "shell.execute_reply": "2021-01-28T18:56:44.288326Z"
    }
   },
   "outputs": [],
   "source": [
    "X, y = make_classification(1000, 20, n_informative=10, random_state=0)"
   ]
  },
  {
   "cell_type": "code",
   "execution_count": 6,
   "id": "given-spread",
   "metadata": {
    "execution": {
     "iopub.execute_input": "2021-01-28T18:56:44.291720Z",
     "iopub.status.busy": "2021-01-28T18:56:44.290665Z",
     "iopub.status.idle": "2021-01-28T18:56:44.302969Z",
     "shell.execute_reply": "2021-01-28T18:56:44.303741Z"
    }
   },
   "outputs": [
    {
     "data": {
      "text/plain": [
       "((1000, 20), (1000,), 0.5)"
      ]
     },
     "execution_count": 1,
     "metadata": {},
     "output_type": "execute_result"
    }
   ],
   "source": [
    "X.shape, y.shape, y.mean()"
   ]
  },
  {
   "cell_type": "markdown",
   "id": "indie-philosophy",
   "metadata": {},
   "source": [
    "### 2.2 Definition of the Keras classification Model\n",
    "\n",
    "We define a vanilla neural network with.\n",
    "\n",
    "Because we are dealing with 2 classes, the output layer can be constructed in\n",
    "two different ways:\n",
    "\n",
    "1. Single unit with a `\"sigmoid\"` nonlinearity. The loss must be `\"binary_crossentropy\"`.\n",
    "2. Two units (one for each class) and a `\"softmax\"` nonlinearity. The loss must be `\"sparse_categorical_crossentropy\"`.\n",
    "\n",
    "In this example, we choose the first option, which is what you would usually\n",
    "do for binary classification. The second option is usually reserved for when\n",
    "you have >2 classes."
   ]
  },
  {
   "cell_type": "code",
   "execution_count": 7,
   "id": "potential-wagon",
   "metadata": {
    "execution": {
     "iopub.execute_input": "2021-01-28T18:56:44.307268Z",
     "iopub.status.busy": "2021-01-28T18:56:44.306183Z",
     "iopub.status.idle": "2021-01-28T18:56:44.310463Z",
     "shell.execute_reply": "2021-01-28T18:56:44.311211Z"
    }
   },
   "outputs": [],
   "source": [
    "from tensorflow import keras"
   ]
  },
  {
   "cell_type": "code",
   "execution_count": 8,
   "id": "normal-roulette",
   "metadata": {
    "execution": {
     "iopub.execute_input": "2021-01-28T18:56:44.314607Z",
     "iopub.status.busy": "2021-01-28T18:56:44.313527Z",
     "iopub.status.idle": "2021-01-28T18:56:44.320183Z",
     "shell.execute_reply": "2021-01-28T18:56:44.320957Z"
    }
   },
   "outputs": [],
   "source": [
    "def get_clf(meta, hidden_layer_sizes, dropout):\n",
    "    n_features_in_ = meta[\"n_features_in_\"]\n",
    "    n_classes_ = meta[\"n_classes_\"]\n",
    "    model = keras.models.Sequential()\n",
    "    model.add(keras.layers.Input(shape=(n_features_in_,)))\n",
    "    for hidden_layer_size in hidden_layer_sizes:\n",
    "        model.add(keras.layers.Dense(hidden_layer_size, activation=\"relu\"))\n",
    "        model.add(keras.layers.Dropout(dropout))\n",
    "    model.add(keras.layers.Dense(1, activation=\"sigmoid\"))\n",
    "    return model"
   ]
  },
  {
   "cell_type": "markdown",
   "id": "according-parker",
   "metadata": {},
   "source": [
    "### 2.3 Defining and training the neural net classifier\n",
    "\n",
    "We use `KerasClassifier` because we're dealing with a classifcation task. The first argument should be a callable returning a `Keras.Model`, in this case, `get_clf`. As additional arguments, we pass the number of loss function (required) and the optimizer, but the later is optional. We must also pass all of the arguments to `get_clf` as keyword arguments to `KerasClassifier` if they don't have a default value in `get_clf`. Note that if you do not pass an argument to `KerasClassifier`, it will not be avilable for hyperparameter tuning. Finally, we also pass `random_state=0` for reproducible results."
   ]
  },
  {
   "cell_type": "code",
   "execution_count": 9,
   "id": "foster-jenny",
   "metadata": {
    "execution": {
     "iopub.execute_input": "2021-01-28T18:56:44.324675Z",
     "iopub.status.busy": "2021-01-28T18:56:44.323574Z",
     "iopub.status.idle": "2021-01-28T18:56:44.328550Z",
     "shell.execute_reply": "2021-01-28T18:56:44.329302Z"
    }
   },
   "outputs": [],
   "source": [
    "from scikeras.wrappers import KerasClassifier"
   ]
  },
  {
   "cell_type": "code",
   "execution_count": 10,
   "id": "solved-delta",
   "metadata": {
    "execution": {
     "iopub.execute_input": "2021-01-28T18:56:44.332746Z",
     "iopub.status.busy": "2021-01-28T18:56:44.331571Z",
     "iopub.status.idle": "2021-01-28T18:56:44.336315Z",
     "shell.execute_reply": "2021-01-28T18:56:44.337091Z"
    }
   },
   "outputs": [],
   "source": [
    "clf = KerasClassifier(\n",
    "    model=get_clf,\n",
    "    loss=\"binary_crossentropy\",\n",
    "    optimizer=\"adam\",\n",
    "    hidden_layer_sizes=(100,),\n",
    "    dropout=0.5,\n",
    ")"
   ]
  },
  {
   "cell_type": "markdown",
   "id": "spare-scale",
   "metadata": {},
   "source": [
    "As in `sklearn`, we call `fit` passing the input data `X` and the targets `y`."
   ]
  },
  {
   "cell_type": "code",
   "execution_count": 11,
   "id": "gorgeous-shirt",
   "metadata": {
    "execution": {
     "iopub.execute_input": "2021-01-28T18:56:44.340503Z",
     "iopub.status.busy": "2021-01-28T18:56:44.339411Z",
     "iopub.status.idle": "2021-01-28T18:56:44.899444Z",
     "shell.execute_reply": "2021-01-28T18:56:44.900215Z"
    }
   },
   "outputs": [
    {
     "name": "stdout",
     "output_type": "stream",
     "text": [
      "\r",
      " 1/32 [..............................] - ETA: 12s - loss: 1.0359"
     ]
    },
    {
     "name": "stdout",
     "output_type": "stream",
     "text": [
      "\b\b\b\b\b\b\b\b\b\b\b\b\b\b\b\b\b\b\b\b\b\b\b\b\b\b\b\b\b\b\b\b\b\b\b\b\b\b\b\b\b\b\b\b\b\b\b\b\b\b\b\b\b\b\b\b\b\b\b\b\b\b\b\b\r",
      "32/32 [==============================] - 0s 1ms/step - loss: 0.8772\n"
     ]
    },
    {
     "data": {
      "text/plain": [
       "KerasClassifier(\n",
       "\tmodel=<function get_clf at 0x7fc6e886aaf0>\n",
       "\tbuild_fn=None\n",
       "\twarm_start=False\n",
       "\trandom_state=None\n",
       "\toptimizer=adam\n",
       "\tloss=binary_crossentropy\n",
       "\tmetrics=None\n",
       "\tbatch_size=None\n",
       "\tverbose=1\n",
       "\tcallbacks=None\n",
       "\tvalidation_split=0.0\n",
       "\tshuffle=True\n",
       "\trun_eagerly=False\n",
       "\tepochs=1\n",
       "\thidden_layer_sizes=(100,)\n",
       "\tdropout=0.5\n",
       "\tclass_weight=None\n",
       ")"
      ]
     },
     "execution_count": 1,
     "metadata": {},
     "output_type": "execute_result"
    }
   ],
   "source": [
    "clf.fit(X, y)"
   ]
  },
  {
   "cell_type": "markdown",
   "id": "governmental-british",
   "metadata": {},
   "source": [
    "Also, as in `sklearn`, you may call `predict` or `predict_proba` on the fitted model.\n",
    "\n",
    "### 2.4 Making predictions, classification"
   ]
  },
  {
   "cell_type": "code",
   "execution_count": 12,
   "id": "numeric-stock",
   "metadata": {
    "execution": {
     "iopub.execute_input": "2021-01-28T18:56:44.903975Z",
     "iopub.status.busy": "2021-01-28T18:56:44.902897Z",
     "iopub.status.idle": "2021-01-28T18:56:45.002215Z",
     "shell.execute_reply": "2021-01-28T18:56:45.001702Z"
    }
   },
   "outputs": [
    {
     "name": "stdout",
     "output_type": "stream",
     "text": [
      "\r",
      "1/1 [==============================] - ETA: 0s"
     ]
    },
    {
     "name": "stdout",
     "output_type": "stream",
     "text": [
      "\b\b\b\b\b\b\b\b\b\b\b\b\b\b\b\b\b\b\b\b\b\b\b\b\b\b\b\b\b\b\b\b\b\b\b\b\b\b\b\b\b\b\b\b\b\b\r",
      "1/1 [==============================] - 0s 65ms/step\n"
     ]
    },
    {
     "data": {
      "text/plain": [
       "array([0, 0, 0, 0, 0])"
      ]
     },
     "execution_count": 1,
     "metadata": {},
     "output_type": "execute_result"
    }
   ],
   "source": [
    "y_pred = clf.predict(X[:5])\n",
    "y_pred"
   ]
  },
  {
   "cell_type": "code",
   "execution_count": 13,
   "id": "frozen-freedom",
   "metadata": {
    "execution": {
     "iopub.execute_input": "2021-01-28T18:56:45.010516Z",
     "iopub.status.busy": "2021-01-28T18:56:45.009924Z",
     "iopub.status.idle": "2021-01-28T18:56:45.050275Z",
     "shell.execute_reply": "2021-01-28T18:56:45.049764Z"
    }
   },
   "outputs": [
    {
     "name": "stdout",
     "output_type": "stream",
     "text": [
      "\r",
      "1/1 [==============================] - ETA: 0s"
     ]
    },
    {
     "name": "stdout",
     "output_type": "stream",
     "text": [
      "\b\b\b\b\b\b\b\b\b\b\b\b\b\b\b\b\b\b\b\b\b\b\b\b\b\b\b\b\b\b\b\b\b\b\b\b\b\b\b\b\b\b\b\b\b\b\r",
      "1/1 [==============================] - 0s 14ms/step\n"
     ]
    },
    {
     "data": {
      "text/plain": [
       "array([[0.55130315, 0.44869685],\n",
       "       [0.74753034, 0.25246963],\n",
       "       [0.8975031 , 0.10249692],\n",
       "       [0.8128921 , 0.18710795],\n",
       "       [0.9285704 , 0.07142961]], dtype=float32)"
      ]
     },
     "execution_count": 1,
     "metadata": {},
     "output_type": "execute_result"
    }
   ],
   "source": [
    "y_proba = clf.predict_proba(X[:5])\n",
    "y_proba"
   ]
  },
  {
   "cell_type": "markdown",
   "id": "major-coach",
   "metadata": {},
   "source": [
    "## 3 Training a regressor\n",
    "\n",
    "### 3.1 A toy regression task"
   ]
  },
  {
   "cell_type": "code",
   "execution_count": 14,
   "id": "original-report",
   "metadata": {
    "execution": {
     "iopub.execute_input": "2021-01-28T18:56:45.053968Z",
     "iopub.status.busy": "2021-01-28T18:56:45.053383Z",
     "iopub.status.idle": "2021-01-28T18:56:45.056258Z",
     "shell.execute_reply": "2021-01-28T18:56:45.056791Z"
    }
   },
   "outputs": [],
   "source": [
    "from sklearn.datasets import make_regression"
   ]
  },
  {
   "cell_type": "code",
   "execution_count": 15,
   "id": "medical-indie",
   "metadata": {
    "execution": {
     "iopub.execute_input": "2021-01-28T18:56:45.062238Z",
     "iopub.status.busy": "2021-01-28T18:56:45.058918Z",
     "iopub.status.idle": "2021-01-28T18:56:45.070258Z",
     "shell.execute_reply": "2021-01-28T18:56:45.071037Z"
    }
   },
   "outputs": [],
   "source": [
    "X_regr, y_regr = make_regression(1000, 20, n_informative=10, random_state=0)"
   ]
  },
  {
   "cell_type": "code",
   "execution_count": 16,
   "id": "universal-porcelain",
   "metadata": {
    "execution": {
     "iopub.execute_input": "2021-01-28T18:56:45.075336Z",
     "iopub.status.busy": "2021-01-28T18:56:45.073431Z",
     "iopub.status.idle": "2021-01-28T18:56:45.083236Z",
     "shell.execute_reply": "2021-01-28T18:56:45.084059Z"
    }
   },
   "outputs": [
    {
     "data": {
      "text/plain": [
       "((1000, 20), (1000,), -649.0148244404172, 615.4505181286091)"
      ]
     },
     "execution_count": 1,
     "metadata": {},
     "output_type": "execute_result"
    }
   ],
   "source": [
    "X_regr.shape, y_regr.shape, y_regr.min(), y_regr.max()"
   ]
  },
  {
   "cell_type": "markdown",
   "id": "stuffed-rabbit",
   "metadata": {},
   "source": [
    "### 3.2 Definition of the Keras regression Model\n",
    "\n",
    "Again, define a vanilla neural network. The main difference is that the output layer always has a single unit and does not apply any nonlinearity."
   ]
  },
  {
   "cell_type": "code",
   "execution_count": 17,
   "id": "educated-comparison",
   "metadata": {
    "execution": {
     "iopub.execute_input": "2021-01-28T18:56:45.088566Z",
     "iopub.status.busy": "2021-01-28T18:56:45.086588Z",
     "iopub.status.idle": "2021-01-28T18:56:45.096939Z",
     "shell.execute_reply": "2021-01-28T18:56:45.097694Z"
    }
   },
   "outputs": [],
   "source": [
    "def get_reg(meta, hidden_layer_sizes, dropout):\n",
    "    n_features_in_ = meta[\"n_features_in_\"]\n",
    "    model = keras.models.Sequential()\n",
    "    model.add(keras.layers.Input(shape=(n_features_in_,)))\n",
    "    for hidden_layer_size in hidden_layer_sizes:\n",
    "        model.add(keras.layers.Dense(hidden_layer_size, activation=\"relu\"))\n",
    "        model.add(keras.layers.Dropout(dropout))\n",
    "    model.add(keras.layers.Dense(1))\n",
    "    return model"
   ]
  },
  {
   "cell_type": "markdown",
   "id": "major-michael",
   "metadata": {},
   "source": [
    "### 3.3 Defining and training the neural net regressor\n",
    "\n",
    "Training a regressor is almost the same as training a classifier. Mainly, we use `KerasRegressor` instead of `KerasClassifier` (this is the same terminology as in `sklearn`). We also change the loss function to `KerasRegressor.r_squared`. SciKeras provides this loss function because most of the `sklearn` ecosystem expects `R^2` as the loss function, but Keras does not have a default implementation."
   ]
  },
  {
   "cell_type": "code",
   "execution_count": 18,
   "id": "adaptive-representation",
   "metadata": {
    "execution": {
     "iopub.execute_input": "2021-01-28T18:56:45.101932Z",
     "iopub.status.busy": "2021-01-28T18:56:45.100095Z",
     "iopub.status.idle": "2021-01-28T18:56:45.106172Z",
     "shell.execute_reply": "2021-01-28T18:56:45.106917Z"
    }
   },
   "outputs": [],
   "source": [
    "from scikeras.wrappers import KerasRegressor"
   ]
  },
  {
   "cell_type": "code",
   "execution_count": 19,
   "id": "empirical-howard",
   "metadata": {
    "execution": {
     "iopub.execute_input": "2021-01-28T18:56:45.111132Z",
     "iopub.status.busy": "2021-01-28T18:56:45.109268Z",
     "iopub.status.idle": "2021-01-28T18:56:45.116453Z",
     "shell.execute_reply": "2021-01-28T18:56:45.117268Z"
    }
   },
   "outputs": [],
   "source": [
    "reg = KerasRegressor(\n",
    "    model=get_reg,\n",
    "    loss=KerasRegressor.r_squared,\n",
    "    optimizer=\"adam\",\n",
    "    hidden_layer_sizes=(100,),\n",
    "    dropout=0.5,\n",
    ")"
   ]
  },
  {
   "cell_type": "code",
   "execution_count": 20,
   "id": "separated-dutch",
   "metadata": {
    "execution": {
     "iopub.execute_input": "2021-01-28T18:56:45.125251Z",
     "iopub.status.busy": "2021-01-28T18:56:45.119645Z",
     "iopub.status.idle": "2021-01-28T18:56:45.707065Z",
     "shell.execute_reply": "2021-01-28T18:56:45.708179Z"
    }
   },
   "outputs": [
    {
     "name": "stdout",
     "output_type": "stream",
     "text": [
      "\r",
      " 1/32 [..............................] - ETA: 13s - loss: -0.0817"
     ]
    },
    {
     "name": "stdout",
     "output_type": "stream",
     "text": [
      "\b\b\b\b\b\b\b\b\b\b\b\b\b\b\b\b\b\b\b\b\b\b\b\b\b\b\b\b\b\b\b\b\b\b\b\b\b\b\b\b\b\b\b\b\b\b\b\b\b\b\b\b\b\b\b\b\b\b\b\b\b\b\b\b\b\r",
      "32/32 [==============================] - 0s 1ms/step - loss: -0.0346\n"
     ]
    },
    {
     "data": {
      "text/plain": [
       "KerasRegressor(\n",
       "\tmodel=<function get_reg at 0x7fc67533fc10>\n",
       "\tbuild_fn=None\n",
       "\twarm_start=False\n",
       "\trandom_state=None\n",
       "\toptimizer=adam\n",
       "\tloss=<function KerasRegressor.r_squared at 0x7fc6812f6af0>\n",
       "\tmetrics=None\n",
       "\tbatch_size=None\n",
       "\tverbose=1\n",
       "\tcallbacks=None\n",
       "\tvalidation_split=0.0\n",
       "\tshuffle=True\n",
       "\trun_eagerly=False\n",
       "\tepochs=1\n",
       "\thidden_layer_sizes=(100,)\n",
       "\tdropout=0.5\n",
       ")"
      ]
     },
     "execution_count": 1,
     "metadata": {},
     "output_type": "execute_result"
    }
   ],
   "source": [
    "reg.fit(X_regr, y_regr)"
   ]
  },
  {
   "cell_type": "markdown",
   "id": "royal-thursday",
   "metadata": {},
   "source": [
    "### 3.4 Making predictions, regression\n",
    "\n",
    "You may call `predict` or `predict_proba` on the fitted model. For regressions, both methods return the same value."
   ]
  },
  {
   "cell_type": "code",
   "execution_count": 21,
   "id": "instructional-dictionary",
   "metadata": {
    "execution": {
     "iopub.execute_input": "2021-01-28T18:56:45.712191Z",
     "iopub.status.busy": "2021-01-28T18:56:45.711095Z",
     "iopub.status.idle": "2021-01-28T18:56:45.784962Z",
     "shell.execute_reply": "2021-01-28T18:56:45.784427Z"
    }
   },
   "outputs": [
    {
     "name": "stdout",
     "output_type": "stream",
     "text": [
      "\r",
      "1/1 [==============================] - ETA: 0s"
     ]
    },
    {
     "name": "stdout",
     "output_type": "stream",
     "text": [
      "\b\b\b\b\b\b\b\b\b\b\b\b\b\b\b\b\b\b\b\b\b\b\b\b\b\b\b\b\b\b\b\b\b\b\b\b\b\b\b\b\b\b\b\b\b\b\r",
      "1/1 [==============================] - 0s 37ms/step\n"
     ]
    },
    {
     "data": {
      "text/plain": [
       "array([ 0.9938143 ,  0.60475945,  0.71278447,  0.09162345, -0.37991723],\n",
       "      dtype=float32)"
      ]
     },
     "execution_count": 1,
     "metadata": {},
     "output_type": "execute_result"
    }
   ],
   "source": [
    "y_pred = reg.predict(X_regr[:5])\n",
    "y_pred"
   ]
  },
  {
   "cell_type": "markdown",
   "id": "curious-raise",
   "metadata": {},
   "source": [
    "## 4. Saving and loading a model\n",
    "\n",
    "Save and load either the whole model by using pickle, or use Keras' specialized save methods on the `KerasClassifier.model_` or `KerasRegressor.model_` attribute that is created after fitting. You will want to use Keras' model saving utilities if any of the following apply:\n",
    "\n",
    "1. You wish to save only the weights or only the training configuration of your model.\n",
    "2. You wish to share your model with collaborators. Pickle is a relatively unsafe protocol and it is not recommended to share or load pickle objects publically.\n",
    "3. You care about performance, especially if doing in-memory serialization.\n",
    "\n",
    "For more information, see Keras' [saving documentation](https://www.tensorflow.org/guide/keras/save_and_serialize).\n",
    "\n",
    "### 4.1 Saving the whole model"
   ]
  },
  {
   "cell_type": "code",
   "execution_count": 22,
   "id": "advance-transcription",
   "metadata": {
    "execution": {
     "iopub.execute_input": "2021-01-28T18:56:45.788916Z",
     "iopub.status.busy": "2021-01-28T18:56:45.788299Z",
     "iopub.status.idle": "2021-01-28T18:56:45.791246Z",
     "shell.execute_reply": "2021-01-28T18:56:45.792009Z"
    }
   },
   "outputs": [],
   "source": [
    "import pickle"
   ]
  },
  {
   "cell_type": "code",
   "execution_count": 23,
   "id": "discrete-column",
   "metadata": {
    "execution": {
     "iopub.execute_input": "2021-01-28T18:56:45.805224Z",
     "iopub.status.busy": "2021-01-28T18:56:45.794223Z",
     "iopub.status.idle": "2021-01-28T18:56:46.411202Z",
     "shell.execute_reply": "2021-01-28T18:56:46.410031Z"
    }
   },
   "outputs": [],
   "source": [
    "bytes_model = pickle.dumps(reg)"
   ]
  },
  {
   "cell_type": "code",
   "execution_count": 24,
   "id": "greenhouse-extraction",
   "metadata": {
    "execution": {
     "iopub.execute_input": "2021-01-28T18:56:46.415900Z",
     "iopub.status.busy": "2021-01-28T18:56:46.415310Z",
     "iopub.status.idle": "2021-01-28T18:56:46.749953Z",
     "shell.execute_reply": "2021-01-28T18:56:46.749434Z"
    }
   },
   "outputs": [
    {
     "data": {
      "text/plain": [
       "KerasRegressor(\n",
       "\tmodel=<function get_reg at 0x7fc67533fc10>\n",
       "\tbuild_fn=None\n",
       "\twarm_start=False\n",
       "\trandom_state=None\n",
       "\toptimizer=adam\n",
       "\tloss=<function KerasRegressor.r_squared at 0x7fc6812f6af0>\n",
       "\tmetrics=None\n",
       "\tbatch_size=None\n",
       "\tverbose=1\n",
       "\tcallbacks=None\n",
       "\tvalidation_split=0.0\n",
       "\tshuffle=True\n",
       "\trun_eagerly=False\n",
       "\tepochs=1\n",
       "\thidden_layer_sizes=(100,)\n",
       "\tdropout=0.5\n",
       ")"
      ]
     },
     "execution_count": 1,
     "metadata": {},
     "output_type": "execute_result"
    }
   ],
   "source": [
    "new_reg = pickle.loads(bytes_model)\n",
    "new_reg"
   ]
  },
  {
   "cell_type": "markdown",
   "id": "transparent-emission",
   "metadata": {},
   "source": [
    "### 4.2 Saving using Keras' saving methods\n",
    "\n",
    "This efficiently and safely saves the model to disk, including trained weights.\n",
    "You should use this method if you plan on sharing your saved models."
   ]
  },
  {
   "cell_type": "code",
   "execution_count": 25,
   "id": "oriental-trunk",
   "metadata": {
    "execution": {
     "iopub.execute_input": "2021-01-28T18:56:46.755645Z",
     "iopub.status.busy": "2021-01-28T18:56:46.755052Z",
     "iopub.status.idle": "2021-01-28T18:56:47.260173Z",
     "shell.execute_reply": "2021-01-28T18:56:47.260905Z"
    }
   },
   "outputs": [],
   "source": [
    "# Save to disk\n",
    "reg.model_.save(\"/tmp/my_model\")"
   ]
  },
  {
   "cell_type": "code",
   "execution_count": 26,
   "id": "recovered-mayor",
   "metadata": {
    "execution": {
     "iopub.execute_input": "2021-01-28T18:56:47.269302Z",
     "iopub.status.busy": "2021-01-28T18:56:47.268448Z",
     "iopub.status.idle": "2021-01-28T18:56:47.956264Z",
     "shell.execute_reply": "2021-01-28T18:56:47.955724Z"
    }
   },
   "outputs": [
    {
     "name": "stdout",
     "output_type": "stream",
     "text": [
      "\r",
      " 1/32 [..............................] - ETA: 10s - loss: -0.0186"
     ]
    },
    {
     "name": "stdout",
     "output_type": "stream",
     "text": [
      "\b\b\b\b\b\b\b\b\b\b\b\b\b\b\b\b\b\b\b\b\b\b\b\b\b\b\b\b\b\b\b\b\b\b\b\b\b\b\b\b\b\b\b\b\b\b\b\b\b\b\b\b\b\b\b\b\b\b\b\b\b\b\b\b\b\r",
      "32/32 [==============================] - 0s 936us/step - loss: -0.0354\n"
     ]
    },
    {
     "name": "stdout",
     "output_type": "stream",
     "text": [
      "\r",
      "1/1 [==============================] - ETA: 0s"
     ]
    },
    {
     "name": "stdout",
     "output_type": "stream",
     "text": [
      "\b\b\b\b\b\b\b\b\b\b\b\b\b\b\b\b\b\b\b\b\b\b\b\b\b\b\b\b\b\b\b\b\b\b\b\b\b\b\b\b\b\b\b\b\b\b\r",
      "1/1 [==============================] - 0s 36ms/step\n"
     ]
    },
    {
     "data": {
      "text/plain": [
       "array([ 0.8302761 ,  0.95780015,  0.7633046 ,  0.01378235, -0.48702896],\n",
       "      dtype=float32)"
      ]
     },
     "execution_count": 1,
     "metadata": {},
     "output_type": "execute_result"
    }
   ],
   "source": [
    "# Load the model back into memory\n",
    "new_reg_model = keras.models.load_model(\"/tmp/my_model\")\n",
    "# Now we need to instantiate a new SciKeras object with this model\n",
    "# Note that we no longer pass paramters like hidden_layer_sizes, those\n",
    "# are note \"fixed\"\n",
    "reg = KerasRegressor(\n",
    "    new_reg_model,\n",
    "    loss=KerasRegressor.r_squared,\n",
    "    optimizer=\"adam\",\n",
    ")\n",
    "reg.fit(X_regr, y_regr)\n",
    "reg.predict(X_regr[:5])"
   ]
  },
  {
   "cell_type": "markdown",
   "id": "aerial-argentina",
   "metadata": {},
   "source": [
    "## 5. Usage with an sklearn Pipeline\n",
    "\n",
    "It is possible to put the `KerasClassifier` inside an `sklearn Pipeline`, as you would with any `sklearn` classifier."
   ]
  },
  {
   "cell_type": "code",
   "execution_count": 27,
   "id": "cooked-nursing",
   "metadata": {
    "execution": {
     "iopub.execute_input": "2021-01-28T18:56:47.960487Z",
     "iopub.status.busy": "2021-01-28T18:56:47.959904Z",
     "iopub.status.idle": "2021-01-28T18:56:47.963438Z",
     "shell.execute_reply": "2021-01-28T18:56:47.962952Z"
    }
   },
   "outputs": [],
   "source": [
    "from sklearn.pipeline import Pipeline\n",
    "from sklearn.preprocessing import StandardScaler"
   ]
  },
  {
   "cell_type": "code",
   "execution_count": 28,
   "id": "intelligent-safety",
   "metadata": {
    "execution": {
     "iopub.execute_input": "2021-01-28T18:56:47.968805Z",
     "iopub.status.busy": "2021-01-28T18:56:47.968179Z",
     "iopub.status.idle": "2021-01-28T18:56:47.974762Z",
     "shell.execute_reply": "2021-01-28T18:56:47.975259Z"
    }
   },
   "outputs": [],
   "source": [
    "pipe = Pipeline([\n",
    "    ('scale', StandardScaler()),\n",
    "    ('clf', clf),\n",
    "])"
   ]
  },
  {
   "cell_type": "code",
   "execution_count": 29,
   "id": "tamil-manor",
   "metadata": {
    "execution": {
     "iopub.execute_input": "2021-01-28T18:56:47.979414Z",
     "iopub.status.busy": "2021-01-28T18:56:47.978834Z",
     "iopub.status.idle": "2021-01-28T18:56:48.478452Z",
     "shell.execute_reply": "2021-01-28T18:56:48.477863Z"
    }
   },
   "outputs": [
    {
     "name": "stdout",
     "output_type": "stream",
     "text": [
      "\r",
      " 1/32 [..............................] - ETA: 11s - loss: 0.8289"
     ]
    },
    {
     "name": "stdout",
     "output_type": "stream",
     "text": [
      "\b\b\b\b\b\b\b\b\b\b\b\b\b\b\b\b\b\b\b\b\b\b\b\b\b\b\b\b\b\b\b\b\b\b\b\b\b\b\b\b\b\b\b\b\b\b\b\b\b\b\b\b\b\b\b\b\b\b\b\b\b\b\b\b\r",
      "32/32 [==============================] - 0s 1ms/step - loss: 0.7227\n"
     ]
    },
    {
     "data": {
      "text/plain": [
       "Pipeline(steps=[('scale', StandardScaler()),\n",
       "                ('clf',\n",
       "                 KerasClassifier(dropout=0.5, hidden_layer_sizes=(100,), loss='binary_crossentropy', model=<function get_clf at 0x7fc6e886aaf0>, optimizer='adam'))])"
      ]
     },
     "execution_count": 1,
     "metadata": {},
     "output_type": "execute_result"
    }
   ],
   "source": [
    "pipe.fit(X, y)"
   ]
  },
  {
   "cell_type": "code",
   "execution_count": 30,
   "id": "colonial-brunei",
   "metadata": {
    "execution": {
     "iopub.execute_input": "2021-01-28T18:56:48.482444Z",
     "iopub.status.busy": "2021-01-28T18:56:48.481643Z",
     "iopub.status.idle": "2021-01-28T18:56:48.562288Z",
     "shell.execute_reply": "2021-01-28T18:56:48.561704Z"
    }
   },
   "outputs": [
    {
     "name": "stdout",
     "output_type": "stream",
     "text": [
      "\r",
      "1/1 [==============================] - ETA: 0s"
     ]
    },
    {
     "name": "stdout",
     "output_type": "stream",
     "text": [
      "\b\b\b\b\b\b\b\b\b\b\b\b\b\b\b\b\b\b\b\b\b\b\b\b\b\b\b\b\b\b\b\b\b\b\b\b\b\b\b\b\b\b\b\b\b\b\r",
      "1/1 [==============================] - 0s 44ms/step\n"
     ]
    },
    {
     "data": {
      "text/plain": [
       "array([[0.5532645 , 0.44673553],\n",
       "       [0.58248246, 0.4175175 ],\n",
       "       [0.6234937 , 0.37650636],\n",
       "       [0.7505641 , 0.24943587],\n",
       "       [0.6890828 , 0.3109172 ]], dtype=float32)"
      ]
     },
     "execution_count": 1,
     "metadata": {},
     "output_type": "execute_result"
    }
   ],
   "source": [
    "y_proba = pipe.predict_proba(X[:5])\n",
    "y_proba"
   ]
  },
  {
   "cell_type": "markdown",
   "id": "nasty-behalf",
   "metadata": {},
   "source": [
    "To save the whole pipeline, including the Keras model, use `pickle`.\n",
    "\n",
    "## 6. Callbacks\n",
    "\n",
    "Adding a new callback to the model is straightforward. Below we show how to add an `EarlyStopping` callback to prevent overfitting."
   ]
  },
  {
   "cell_type": "code",
   "execution_count": 31,
   "id": "spiritual-woman",
   "metadata": {
    "execution": {
     "iopub.execute_input": "2021-01-28T18:56:48.567032Z",
     "iopub.status.busy": "2021-01-28T18:56:48.566291Z",
     "iopub.status.idle": "2021-01-28T18:56:48.570101Z",
     "shell.execute_reply": "2021-01-28T18:56:48.571119Z"
    }
   },
   "outputs": [],
   "source": [
    "es = keras.callbacks.EarlyStopping(monitor='val_binary_accuracy', mode='max', patience=200, verbose=1)"
   ]
  },
  {
   "cell_type": "markdown",
   "id": "unlike-apollo",
   "metadata": {},
   "source": [
    "We now generate a toy dataset using `sklearn.datasets.make_moons`. This dataset was chosen specifically to trigger early stopping."
   ]
  },
  {
   "cell_type": "code",
   "execution_count": 32,
   "id": "forty-banana",
   "metadata": {
    "execution": {
     "iopub.execute_input": "2021-01-28T18:56:48.575599Z",
     "iopub.status.busy": "2021-01-28T18:56:48.575013Z",
     "iopub.status.idle": "2021-01-28T18:56:48.578608Z",
     "shell.execute_reply": "2021-01-28T18:56:48.579072Z"
    }
   },
   "outputs": [],
   "source": [
    "from sklearn.datasets import make_moons"
   ]
  },
  {
   "cell_type": "code",
   "execution_count": 33,
   "id": "known-cabin",
   "metadata": {
    "execution": {
     "iopub.execute_input": "2021-01-28T18:56:48.585732Z",
     "iopub.status.busy": "2021-01-28T18:56:48.584138Z",
     "iopub.status.idle": "2021-01-28T18:56:48.590108Z",
     "shell.execute_reply": "2021-01-28T18:56:48.590861Z"
    }
   },
   "outputs": [
    {
     "data": {
      "text/plain": [
       "((100, 2), (100,))"
      ]
     },
     "execution_count": 1,
     "metadata": {},
     "output_type": "execute_result"
    }
   ],
   "source": [
    "X, y = make_moons(n_samples=100, noise=0.2, random_state=0)\n",
    "X.shape, y.shape"
   ]
  },
  {
   "cell_type": "markdown",
   "id": "waiting-inside",
   "metadata": {},
   "source": [
    "We will first check fitting without the callback and then with. We will compare the training time and final accuracy."
   ]
  },
  {
   "cell_type": "code",
   "execution_count": 34,
   "id": "rental-barcelona",
   "metadata": {
    "execution": {
     "iopub.execute_input": "2021-01-28T18:56:48.595174Z",
     "iopub.status.busy": "2021-01-28T18:56:48.594580Z",
     "iopub.status.idle": "2021-01-28T18:56:48.597712Z",
     "shell.execute_reply": "2021-01-28T18:56:48.598767Z"
    }
   },
   "outputs": [],
   "source": [
    "import time"
   ]
  },
  {
   "cell_type": "code",
   "execution_count": 35,
   "id": "determined-israeli",
   "metadata": {
    "execution": {
     "iopub.execute_input": "2021-01-28T18:56:48.604855Z",
     "iopub.status.busy": "2021-01-28T18:56:48.604228Z",
     "iopub.status.idle": "2021-01-28T18:57:09.566503Z",
     "shell.execute_reply": "2021-01-28T18:57:09.567109Z"
    }
   },
   "outputs": [
    {
     "name": "stdout",
     "output_type": "stream",
     "text": [
      "Training time: 2.5980933658571617e+18\n",
      "Final accuracy: 1.0\n"
     ]
    }
   ],
   "source": [
    "# First test without the callback\n",
    "clf = KerasClassifier(\n",
    "    model=get_clf,\n",
    "    loss=\"binary_crossentropy\",\n",
    "    optimizer=\"adam\",\n",
    "    hidden_layer_sizes=(500,),\n",
    "    dropout=0.5,\n",
    "    metrics=[\"binary_accuracy\"],\n",
    "    fit__validation_split=0.2,\n",
    "    epochs=500,\n",
    "    verbose=False,\n",
    ")\n",
    "start = time.time()\n",
    "clf.fit(X, y)\n",
    "print(f\"Training time: {time.time() * start}\")\n",
    "print(f\"Final accuracy: {clf.history_['val_binary_accuracy'][-1]}\")  # get last value of last fit/partial_fit call"
   ]
  },
  {
   "cell_type": "code",
   "execution_count": 36,
   "id": "attractive-harvard",
   "metadata": {
    "execution": {
     "iopub.execute_input": "2021-01-28T18:57:09.573193Z",
     "iopub.status.busy": "2021-01-28T18:57:09.572556Z",
     "iopub.status.idle": "2021-01-28T18:57:18.400160Z",
     "shell.execute_reply": "2021-01-28T18:57:18.400933Z"
    }
   },
   "outputs": [
    {
     "name": "stdout",
     "output_type": "stream",
     "text": [
      "Epoch 00203: early stopping\n",
      "Training time: 2.598093413896494e+18\n",
      "Final accuracy: 0.949999988079071\n"
     ]
    }
   ],
   "source": [
    "# Test with the callback\n",
    "clf = KerasClassifier(\n",
    "    model=get_clf,\n",
    "    loss=\"binary_crossentropy\",\n",
    "    optimizer=\"adam\",\n",
    "    hidden_layer_sizes=(500,),\n",
    "    dropout=0.5,\n",
    "    metrics=[\"binary_accuracy\"],\n",
    "    fit__validation_split=0.2,\n",
    "    epochs=500,\n",
    "    verbose=False,\n",
    "    callbacks=[es]\n",
    ")\n",
    "start = time.time()\n",
    "clf.fit(X, y)\n",
    "print(f\"Training time: {time.time() * start}\")\n",
    "print(f\"Final accuracy: {clf.history_['val_binary_accuracy'][-1]}\")  # get last value of last fit/partial_fit call"
   ]
  },
  {
   "cell_type": "markdown",
   "id": "complimentary-tracker",
   "metadata": {},
   "source": [
    "For information on how to write custom callbacks, have a look at the \n",
    "\n",
    "---\n",
    "\n",
    "[Advanced_Usage](https://nbviewer.jupyter.org/github/adriangb/scikeras/blob/master/notebooks/Advanced_Usage.ipynb) notebook.\n",
    "\n",
    "## 7. Usage with sklearn GridSearchCV\n",
    "\n",
    "### 7.1 Special prefixes\n",
    "\n",
    "SciKeras allows to direct access to all parameters passed to the wrapper constructors, including deeply nested routed parameters. This allows tunning of\n",
    "paramters like `hidden_layer_sizes` as well as `optimizer__learning_rate`.\n",
    "\n",
    "This is exactly the same logic that allows to access estimator parameters in `sklearn Pipeline`s and `FeatureUnion`s.\n",
    "\n",
    "This feature is useful in several ways. For one, it allows to set those parameters in the model definition. Furthermore, it allows you to set parameters in an `sklearn GridSearchCV` as shown below.\n",
    "\n",
    "To differentiate paramters like `callbacks` which are accepted by both `tf.keras.Model.fit` and `tf.keras.Model.predict` you can add a `fit__` or `predict__` routing suffix respectively. Similar, the `model__` prefix may be used to specify that a paramter is destined only for `get_clf`/`get_reg` (or whatever callable you pass as your `model` argument).\n",
    "\n",
    "For more information on parameter routing with special prefixes, see the [Advanced Usage Docs](https://scikeras.org.readthedocs.build/en/latest/advanced.html#routed-parameters)\n",
    "\n",
    "### 7.2 Performing a grid search\n",
    "\n",
    "Below we show how to perform a grid search over the learning rate (`optimizer__lr`), the model's number of hidden layers (`model__hidden_layer_sizes`), the model's dropout rate (`model__dropout`)."
   ]
  },
  {
   "cell_type": "code",
   "execution_count": 37,
   "id": "liable-outside",
   "metadata": {
    "execution": {
     "iopub.execute_input": "2021-01-28T18:57:18.405137Z",
     "iopub.status.busy": "2021-01-28T18:57:18.404533Z",
     "iopub.status.idle": "2021-01-28T18:57:18.414013Z",
     "shell.execute_reply": "2021-01-28T18:57:18.414784Z"
    }
   },
   "outputs": [],
   "source": [
    "from sklearn.model_selection import GridSearchCV"
   ]
  },
  {
   "cell_type": "code",
   "execution_count": 38,
   "id": "sufficient-perfume",
   "metadata": {
    "execution": {
     "iopub.execute_input": "2021-01-28T18:57:18.420062Z",
     "iopub.status.busy": "2021-01-28T18:57:18.419203Z",
     "iopub.status.idle": "2021-01-28T18:57:18.423314Z",
     "shell.execute_reply": "2021-01-28T18:57:18.423786Z"
    }
   },
   "outputs": [],
   "source": [
    "clf = KerasClassifier(\n",
    "    model=get_clf,\n",
    "    loss=\"binary_crossentropy\",\n",
    "    optimizer=\"adam\",\n",
    "    optimizer__lr=0.1,\n",
    "    model__hidden_layer_sizes=(100,),\n",
    "    model__dropout=0.5,\n",
    "    verbose=False,\n",
    ")"
   ]
  },
  {
   "cell_type": "markdown",
   "id": "medical-travel",
   "metadata": {},
   "source": [
    "*Note*: We set the verbosity level to zero (`verbose=False`) to prevent too much print output from being shown."
   ]
  },
  {
   "cell_type": "code",
   "execution_count": 39,
   "id": "sudden-junction",
   "metadata": {
    "execution": {
     "iopub.execute_input": "2021-01-28T18:57:18.430146Z",
     "iopub.status.busy": "2021-01-28T18:57:18.429541Z",
     "iopub.status.idle": "2021-01-28T18:57:18.440397Z",
     "shell.execute_reply": "2021-01-28T18:57:18.439831Z"
    }
   },
   "outputs": [],
   "source": [
    "params = {\n",
    "    'optimizer__lr': [0.05, 0.1],\n",
    "    'model__hidden_layer_sizes': [(100, ), (50, 50, ), (33, 33, 33, )],\n",
    "    'model__dropout': [0, 0.5],\n",
    "}"
   ]
  },
  {
   "cell_type": "code",
   "execution_count": 40,
   "id": "unlike-liquid",
   "metadata": {
    "execution": {
     "iopub.execute_input": "2021-01-28T18:57:18.444817Z",
     "iopub.status.busy": "2021-01-28T18:57:18.444196Z",
     "iopub.status.idle": "2021-01-28T18:57:18.447936Z",
     "shell.execute_reply": "2021-01-28T18:57:18.447404Z"
    }
   },
   "outputs": [],
   "source": [
    "gs = GridSearchCV(clf, params, scoring='accuracy', n_jobs=-1, verbose=True)"
   ]
  },
  {
   "cell_type": "code",
   "execution_count": 41,
   "id": "secondary-subsection",
   "metadata": {
    "execution": {
     "iopub.execute_input": "2021-01-28T18:57:18.452086Z",
     "iopub.status.busy": "2021-01-28T18:57:18.451004Z",
     "iopub.status.idle": "2021-01-28T18:58:03.590539Z",
     "shell.execute_reply": "2021-01-28T18:58:03.591027Z"
    }
   },
   "outputs": [
    {
     "name": "stdout",
     "output_type": "stream",
     "text": [
      "Fitting 5 folds for each of 12 candidates, totalling 60 fits\n"
     ]
    },
    {
     "data": {
      "text/plain": [
       "GridSearchCV(estimator=KerasClassifier(loss='binary_crossentropy', model=<function get_clf at 0x7fc6e886aaf0>, model__dropout=0.5, model__hidden_layer_sizes=(100,), optimizer='adam', optimizer__lr=0.1, verbose=False),\n",
       "             n_jobs=-1,\n",
       "             param_grid={'model__dropout': [0, 0.5],\n",
       "                         'model__hidden_layer_sizes': [(100,), (50, 50),\n",
       "                                                       (33, 33, 33)],\n",
       "                         'optimizer__lr': [0.05, 0.1]},\n",
       "             scoring='accuracy', verbose=True)"
      ]
     },
     "execution_count": 1,
     "metadata": {},
     "output_type": "execute_result"
    }
   ],
   "source": [
    "gs.fit(X, y)"
   ]
  },
  {
   "cell_type": "code",
   "execution_count": 42,
   "id": "transsexual-township",
   "metadata": {
    "execution": {
     "iopub.execute_input": "2021-01-28T18:58:03.595256Z",
     "iopub.status.busy": "2021-01-28T18:58:03.594659Z",
     "iopub.status.idle": "2021-01-28T18:58:03.597550Z",
     "shell.execute_reply": "2021-01-28T18:58:03.596962Z"
    }
   },
   "outputs": [
    {
     "name": "stdout",
     "output_type": "stream",
     "text": [
      "0.86 {'model__dropout': 0, 'model__hidden_layer_sizes': (100,), 'optimizer__lr': 0.1}\n"
     ]
    }
   ],
   "source": [
    "print(gs.best_score_, gs.best_params_)"
   ]
  },
  {
   "cell_type": "markdown",
   "id": "institutional-tournament",
   "metadata": {},
   "source": [
    "Of course, we could further nest the `KerasClassifier` within an `sklearn Pipeline`, in which case we just prefix the parameter by the name of the net (e.g. `clf__model__hidden_layer_sizes`)."
   ]
  }
 ],
 "metadata": {
  "jupytext": {
   "formats": "ipynb,md"
  },
  "kernelspec": {
   "display_name": "Python 3",
   "language": "python",
   "name": "python3"
  },
  "language_info": {
   "codemirror_mode": {
    "name": "ipython",
    "version": 3
   },
   "file_extension": ".py",
   "mimetype": "text/x-python",
   "name": "python",
   "nbconvert_exporter": "python",
   "pygments_lexer": "ipython3",
   "version": "3.8.7"
  }
 },
 "nbformat": 4,
 "nbformat_minor": 5
}
