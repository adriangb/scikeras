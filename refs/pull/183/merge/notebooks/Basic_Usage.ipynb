{
 "cells": [
  {
   "cell_type": "raw",
   "id": "intensive-effort",
   "metadata": {},
   "source": [
    "<a href=\"https://colab.research.google.com/github/adriangb/scikeras/blob/docs-deploy/refs/heads/master/notebooks/Basic_Usage.ipynb\"><img src=\"https://www.tensorflow.org/images/colab_logo_32px.png\">Run in Google Colab</a>"
   ]
  },
  {
   "cell_type": "markdown",
   "id": "proper-illinois",
   "metadata": {},
   "source": [
    "# Basic usage\n",
    "\n",
    "`SciKeras` is designed to maximize interoperability between `sklearn` and `Keras/TensorFlow`. The aim is to keep 99% of the flexibility of `Keras` while being able to leverage most features of `sklearn`. Below, we show the basic usage of `SciKeras` and how it can be combined with `sklearn`.\n",
    "\n",
    "This notebook shows you how to use the basic functionality of `SciKeras`.\n",
    "\n",
    "## Table of contents\n",
    "\n",
    "* [1. Setup](#1.-Setup)\n",
    "* [2. Training a classifier and making predictions](#2.-Training-a-classifier-and-making-predictions)\n",
    "  * [2.1 A toy binary classification task](#2.1-A-toy-binary-classification-task)\n",
    "  * [2.2 Definition of the Keras classification Model](#2.2-Definition-of-the-Keras-classification-Model)\n",
    "  * [2.3 Defining and training the neural net classifier](#2.3-Defining-and-training-the-neural-net-classifier)\n",
    "  * [2.4 Making predictions, classification](#2.4-Making-predictions-classification)\n",
    "* [3 Training a regressor](#3.-Training-a-regressor)\n",
    "  * [3.1 A toy regression task](#3.1-A-toy-regression-task)\n",
    "  * [3.2 Definition of the Keras regression Model](#3.2-Definition-of-the-Keras-regression-Model)\n",
    "  * [3.3 Defining and training the neural net regressor](#3.3-Defining-and-training-the-neural-net-regressor)\n",
    "  * [3.4 Making predictions, regression](#3.4-Making-predictions-regression)\n",
    "* [4. Saving and loading a model](#4.-Saving-and-loading-a-model)\n",
    "  * [4.1 Saving the whole model](#4.1-Saving-the-whole-model)\n",
    "  * [4.2 Saving using Keras' saving methods](#4.2-Saving-using-Keras-saving-methods)\n",
    "* [5. Usage with an sklearn Pipeline](#5.-Usage-with-an-sklearn-Pipeline)\n",
    "* [6. Callbacks](#6.-Callbacks)\n",
    "* [7. Usage with sklearn GridSearchCV](#7.-Usage-with-sklearn-GridSearchCV)\n",
    "  * [7.1 Special prefixes](#7.1-Special-prefixes)\n",
    "  * [7.2 Performing a grid search](#7.2-Performing-a-grid-search)\n",
    "\n",
    "## 1. Setup"
   ]
  },
  {
   "cell_type": "code",
   "execution_count": 1,
   "id": "ahead-christianity",
   "metadata": {
    "execution": {
     "iopub.execute_input": "2021-01-28T21:02:23.238753Z",
     "iopub.status.busy": "2021-01-28T21:02:23.238078Z",
     "iopub.status.idle": "2021-01-28T21:02:27.649933Z",
     "shell.execute_reply": "2021-01-28T21:02:27.649344Z"
    }
   },
   "outputs": [],
   "source": [
    "try:\n",
    "    import scikeras\n",
    "except ImportError:\n",
    "    !python -m pip install scikeras"
   ]
  },
  {
   "cell_type": "markdown",
   "id": "lesbian-watts",
   "metadata": {},
   "source": [
    "Silence TensorFlow logging to keep output succinct."
   ]
  },
  {
   "cell_type": "code",
   "execution_count": 2,
   "id": "federal-sauce",
   "metadata": {
    "execution": {
     "iopub.execute_input": "2021-01-28T21:02:27.655438Z",
     "iopub.status.busy": "2021-01-28T21:02:27.654834Z",
     "iopub.status.idle": "2021-01-28T21:02:27.658067Z",
     "shell.execute_reply": "2021-01-28T21:02:27.658969Z"
    }
   },
   "outputs": [],
   "source": [
    "import warnings\n",
    "from tensorflow import get_logger\n",
    "get_logger().setLevel('ERROR')\n",
    "warnings.filterwarnings(\"ignore\", message=\"Setting the random state for TF\")"
   ]
  },
  {
   "cell_type": "code",
   "execution_count": 3,
   "id": "complicated-quantum",
   "metadata": {
    "execution": {
     "iopub.execute_input": "2021-01-28T21:02:27.663429Z",
     "iopub.status.busy": "2021-01-28T21:02:27.662501Z",
     "iopub.status.idle": "2021-01-28T21:02:28.801799Z",
     "shell.execute_reply": "2021-01-28T21:02:28.802262Z"
    }
   },
   "outputs": [],
   "source": [
    "import numpy as np\n",
    "from scikeras.wrappers import KerasClassifier, KerasRegressor\n",
    "from tensorflow import keras"
   ]
  },
  {
   "cell_type": "markdown",
   "id": "herbal-departure",
   "metadata": {},
   "source": [
    "## 2. Training a classifier and making predictions\n",
    "\n",
    "### 2.1 A toy binary classification task\n",
    "\n",
    "We load a toy classification task from `sklearn`."
   ]
  },
  {
   "cell_type": "code",
   "execution_count": 4,
   "id": "necessary-meeting",
   "metadata": {
    "execution": {
     "iopub.execute_input": "2021-01-28T21:02:28.807948Z",
     "iopub.status.busy": "2021-01-28T21:02:28.805713Z",
     "iopub.status.idle": "2021-01-28T21:02:28.833224Z",
     "shell.execute_reply": "2021-01-28T21:02:28.832733Z"
    }
   },
   "outputs": [],
   "source": [
    "import numpy as np\n",
    "from sklearn.datasets import make_classification"
   ]
  },
  {
   "cell_type": "code",
   "execution_count": 5,
   "id": "catholic-thomson",
   "metadata": {
    "execution": {
     "iopub.execute_input": "2021-01-28T21:02:28.840364Z",
     "iopub.status.busy": "2021-01-28T21:02:28.839731Z",
     "iopub.status.idle": "2021-01-28T21:02:28.843400Z",
     "shell.execute_reply": "2021-01-28T21:02:28.843847Z"
    }
   },
   "outputs": [],
   "source": [
    "X, y = make_classification(1000, 20, n_informative=10, random_state=0)"
   ]
  },
  {
   "cell_type": "code",
   "execution_count": 6,
   "id": "relative-outside",
   "metadata": {
    "execution": {
     "iopub.execute_input": "2021-01-28T21:02:28.854666Z",
     "iopub.status.busy": "2021-01-28T21:02:28.854079Z",
     "iopub.status.idle": "2021-01-28T21:02:28.860339Z",
     "shell.execute_reply": "2021-01-28T21:02:28.863384Z"
    }
   },
   "outputs": [
    {
     "data": {
      "text/plain": [
       "((1000, 20), (1000,), 0.5)"
      ]
     },
     "execution_count": 1,
     "metadata": {},
     "output_type": "execute_result"
    }
   ],
   "source": [
    "X.shape, y.shape, y.mean()"
   ]
  },
  {
   "cell_type": "markdown",
   "id": "intense-cotton",
   "metadata": {},
   "source": [
    "### 2.2 Definition of the Keras classification Model\n",
    "\n",
    "We define a vanilla neural network with.\n",
    "\n",
    "Because we are dealing with 2 classes, the output layer can be constructed in\n",
    "two different ways:\n",
    "\n",
    "1. Single unit with a `\"sigmoid\"` nonlinearity. The loss must be `\"binary_crossentropy\"`.\n",
    "2. Two units (one for each class) and a `\"softmax\"` nonlinearity. The loss must be `\"sparse_categorical_crossentropy\"`.\n",
    "\n",
    "In this example, we choose the first option, which is what you would usually\n",
    "do for binary classification. The second option is usually reserved for when\n",
    "you have >2 classes."
   ]
  },
  {
   "cell_type": "code",
   "execution_count": 7,
   "id": "promising-studio",
   "metadata": {
    "execution": {
     "iopub.execute_input": "2021-01-28T21:02:28.870448Z",
     "iopub.status.busy": "2021-01-28T21:02:28.869734Z",
     "iopub.status.idle": "2021-01-28T21:02:28.871059Z",
     "shell.execute_reply": "2021-01-28T21:02:28.871527Z"
    }
   },
   "outputs": [],
   "source": [
    "from tensorflow import keras"
   ]
  },
  {
   "cell_type": "code",
   "execution_count": 8,
   "id": "concerned-affair",
   "metadata": {
    "execution": {
     "iopub.execute_input": "2021-01-28T21:02:28.877311Z",
     "iopub.status.busy": "2021-01-28T21:02:28.876727Z",
     "iopub.status.idle": "2021-01-28T21:02:28.880155Z",
     "shell.execute_reply": "2021-01-28T21:02:28.880627Z"
    }
   },
   "outputs": [],
   "source": [
    "def get_clf(meta, hidden_layer_sizes, dropout):\n",
    "    n_features_in_ = meta[\"n_features_in_\"]\n",
    "    n_classes_ = meta[\"n_classes_\"]\n",
    "    model = keras.models.Sequential()\n",
    "    model.add(keras.layers.Input(shape=(n_features_in_,)))\n",
    "    for hidden_layer_size in hidden_layer_sizes:\n",
    "        model.add(keras.layers.Dense(hidden_layer_size, activation=\"relu\"))\n",
    "        model.add(keras.layers.Dropout(dropout))\n",
    "    model.add(keras.layers.Dense(1, activation=\"sigmoid\"))\n",
    "    return model"
   ]
  },
  {
   "cell_type": "markdown",
   "id": "sensitive-banking",
   "metadata": {},
   "source": [
    "### 2.3 Defining and training the neural net classifier\n",
    "\n",
    "We use `KerasClassifier` because we're dealing with a classifcation task. The first argument should be a callable returning a `Keras.Model`, in this case, `get_clf`. As additional arguments, we pass the number of loss function (required) and the optimizer, but the later is optional. We must also pass all of the arguments to `get_clf` as keyword arguments to `KerasClassifier` if they don't have a default value in `get_clf`. Note that if you do not pass an argument to `KerasClassifier`, it will not be avilable for hyperparameter tuning. Finally, we also pass `random_state=0` for reproducible results."
   ]
  },
  {
   "cell_type": "code",
   "execution_count": 9,
   "id": "retired-ballot",
   "metadata": {
    "execution": {
     "iopub.execute_input": "2021-01-28T21:02:28.886929Z",
     "iopub.status.busy": "2021-01-28T21:02:28.886347Z",
     "iopub.status.idle": "2021-01-28T21:02:28.889590Z",
     "shell.execute_reply": "2021-01-28T21:02:28.890064Z"
    }
   },
   "outputs": [],
   "source": [
    "from scikeras.wrappers import KerasClassifier"
   ]
  },
  {
   "cell_type": "code",
   "execution_count": 10,
   "id": "sublime-poetry",
   "metadata": {
    "execution": {
     "iopub.execute_input": "2021-01-28T21:02:28.894015Z",
     "iopub.status.busy": "2021-01-28T21:02:28.893415Z",
     "iopub.status.idle": "2021-01-28T21:02:28.896661Z",
     "shell.execute_reply": "2021-01-28T21:02:28.897144Z"
    }
   },
   "outputs": [],
   "source": [
    "clf = KerasClassifier(\n",
    "    model=get_clf,\n",
    "    loss=\"binary_crossentropy\",\n",
    "    optimizer=\"adam\",\n",
    "    hidden_layer_sizes=(100,),\n",
    "    dropout=0.5,\n",
    ")"
   ]
  },
  {
   "cell_type": "markdown",
   "id": "driven-profit",
   "metadata": {},
   "source": [
    "As in `sklearn`, we call `fit` passing the input data `X` and the targets `y`."
   ]
  },
  {
   "cell_type": "code",
   "execution_count": 11,
   "id": "subjective-casino",
   "metadata": {
    "execution": {
     "iopub.execute_input": "2021-01-28T21:02:28.901930Z",
     "iopub.status.busy": "2021-01-28T21:02:28.900837Z",
     "iopub.status.idle": "2021-01-28T21:02:29.462996Z",
     "shell.execute_reply": "2021-01-28T21:02:29.463662Z"
    }
   },
   "outputs": [
    {
     "name": "stdout",
     "output_type": "stream",
     "text": [
      "\r",
      " 1/32 [..............................] - ETA: 12s - loss: 0.9225"
     ]
    },
    {
     "name": "stdout",
     "output_type": "stream",
     "text": [
      "\b\b\b\b\b\b\b\b\b\b\b\b\b\b\b\b\b\b\b\b\b\b\b\b\b\b\b\b\b\b\b\b\b\b\b\b\b\b\b\b\b\b\b\b\b\b\b\b\b\b\b\b\b\b\b\b\b\b\b\b\b\b\b\b\r",
      "32/32 [==============================] - 0s 1ms/step - loss: 0.8550\n"
     ]
    },
    {
     "data": {
      "text/plain": [
       "KerasClassifier(\n",
       "\tmodel=<function get_clf at 0x7f0843c6c3a0>\n",
       "\tbuild_fn=None\n",
       "\twarm_start=False\n",
       "\trandom_state=None\n",
       "\toptimizer=adam\n",
       "\tloss=binary_crossentropy\n",
       "\tmetrics=None\n",
       "\tbatch_size=None\n",
       "\tverbose=1\n",
       "\tcallbacks=None\n",
       "\tvalidation_split=0.0\n",
       "\tshuffle=True\n",
       "\trun_eagerly=False\n",
       "\tepochs=1\n",
       "\thidden_layer_sizes=(100,)\n",
       "\tdropout=0.5\n",
       "\tclass_weight=None\n",
       ")"
      ]
     },
     "execution_count": 1,
     "metadata": {},
     "output_type": "execute_result"
    }
   ],
   "source": [
    "clf.fit(X, y)"
   ]
  },
  {
   "cell_type": "markdown",
   "id": "blank-promotion",
   "metadata": {},
   "source": [
    "Also, as in `sklearn`, you may call `predict` or `predict_proba` on the fitted model.\n",
    "\n",
    "### 2.4 Making predictions, classification"
   ]
  },
  {
   "cell_type": "code",
   "execution_count": 12,
   "id": "alive-illness",
   "metadata": {
    "execution": {
     "iopub.execute_input": "2021-01-28T21:02:29.466991Z",
     "iopub.status.busy": "2021-01-28T21:02:29.465969Z",
     "iopub.status.idle": "2021-01-28T21:02:29.559715Z",
     "shell.execute_reply": "2021-01-28T21:02:29.559226Z"
    }
   },
   "outputs": [
    {
     "name": "stdout",
     "output_type": "stream",
     "text": [
      "\r",
      "1/1 [==============================] - ETA: 0s"
     ]
    },
    {
     "name": "stdout",
     "output_type": "stream",
     "text": [
      "\b\b\b\b\b\b\b\b\b\b\b\b\b\b\b\b\b\b\b\b\b\b\b\b\b\b\b\b\b\b\b\b\b\b\b\b\b\b\b\b\b\b\b\b\b\b\r",
      "1/1 [==============================] - 0s 61ms/step\n"
     ]
    },
    {
     "data": {
      "text/plain": [
       "array([1, 0, 0, 0, 0])"
      ]
     },
     "execution_count": 1,
     "metadata": {},
     "output_type": "execute_result"
    }
   ],
   "source": [
    "y_pred = clf.predict(X[:5])\n",
    "y_pred"
   ]
  },
  {
   "cell_type": "code",
   "execution_count": 13,
   "id": "important-audio",
   "metadata": {
    "execution": {
     "iopub.execute_input": "2021-01-28T21:02:29.565417Z",
     "iopub.status.busy": "2021-01-28T21:02:29.564874Z",
     "iopub.status.idle": "2021-01-28T21:02:29.610496Z",
     "shell.execute_reply": "2021-01-28T21:02:29.610006Z"
    }
   },
   "outputs": [
    {
     "name": "stdout",
     "output_type": "stream",
     "text": [
      "\r",
      "1/1 [==============================] - ETA: 0s"
     ]
    },
    {
     "name": "stdout",
     "output_type": "stream",
     "text": [
      "\b\b\b\b\b\b\b\b\b\b\b\b\b\b\b\b\b\b\b\b\b\b\b\b\b\b\b\b\b\b\b\b\b\b\b\b\b\b\b\b\b\b\b\b\b\b\r",
      "1/1 [==============================] - 0s 18ms/step\n"
     ]
    },
    {
     "data": {
      "text/plain": [
       "array([[0.37047243, 0.62952757],\n",
       "       [0.7277164 , 0.2722836 ],\n",
       "       [0.6157325 , 0.3842675 ],\n",
       "       [0.84443253, 0.15556747],\n",
       "       [0.6075578 , 0.3924422 ]], dtype=float32)"
      ]
     },
     "execution_count": 1,
     "metadata": {},
     "output_type": "execute_result"
    }
   ],
   "source": [
    "y_proba = clf.predict_proba(X[:5])\n",
    "y_proba"
   ]
  },
  {
   "cell_type": "markdown",
   "id": "contrary-symbol",
   "metadata": {},
   "source": [
    "## 3 Training a regressor\n",
    "\n",
    "### 3.1 A toy regression task"
   ]
  },
  {
   "cell_type": "code",
   "execution_count": 14,
   "id": "dirty-anime",
   "metadata": {
    "execution": {
     "iopub.execute_input": "2021-01-28T21:02:29.614673Z",
     "iopub.status.busy": "2021-01-28T21:02:29.614118Z",
     "iopub.status.idle": "2021-01-28T21:02:29.617438Z",
     "shell.execute_reply": "2021-01-28T21:02:29.617878Z"
    }
   },
   "outputs": [],
   "source": [
    "from sklearn.datasets import make_regression"
   ]
  },
  {
   "cell_type": "code",
   "execution_count": 15,
   "id": "domestic-copyright",
   "metadata": {
    "execution": {
     "iopub.execute_input": "2021-01-28T21:02:29.622705Z",
     "iopub.status.busy": "2021-01-28T21:02:29.622152Z",
     "iopub.status.idle": "2021-01-28T21:02:29.630319Z",
     "shell.execute_reply": "2021-01-28T21:02:29.631030Z"
    }
   },
   "outputs": [],
   "source": [
    "X_regr, y_regr = make_regression(1000, 20, n_informative=10, random_state=0)"
   ]
  },
  {
   "cell_type": "code",
   "execution_count": 16,
   "id": "planned-while",
   "metadata": {
    "execution": {
     "iopub.execute_input": "2021-01-28T21:02:29.636861Z",
     "iopub.status.busy": "2021-01-28T21:02:29.633639Z",
     "iopub.status.idle": "2021-01-28T21:02:29.642410Z",
     "shell.execute_reply": "2021-01-28T21:02:29.643115Z"
    }
   },
   "outputs": [
    {
     "data": {
      "text/plain": [
       "((1000, 20), (1000,), -649.0148244404172, 615.4505181286091)"
      ]
     },
     "execution_count": 1,
     "metadata": {},
     "output_type": "execute_result"
    }
   ],
   "source": [
    "X_regr.shape, y_regr.shape, y_regr.min(), y_regr.max()"
   ]
  },
  {
   "cell_type": "markdown",
   "id": "introductory-moment",
   "metadata": {},
   "source": [
    "### 3.2 Definition of the Keras regression Model\n",
    "\n",
    "Again, define a vanilla neural network. The main difference is that the output layer always has a single unit and does not apply any nonlinearity."
   ]
  },
  {
   "cell_type": "code",
   "execution_count": 17,
   "id": "christian-satisfaction",
   "metadata": {
    "execution": {
     "iopub.execute_input": "2021-01-28T21:02:29.647218Z",
     "iopub.status.busy": "2021-01-28T21:02:29.646666Z",
     "iopub.status.idle": "2021-01-28T21:02:29.655765Z",
     "shell.execute_reply": "2021-01-28T21:02:29.656447Z"
    }
   },
   "outputs": [],
   "source": [
    "def get_reg(meta, hidden_layer_sizes, dropout):\n",
    "    n_features_in_ = meta[\"n_features_in_\"]\n",
    "    model = keras.models.Sequential()\n",
    "    model.add(keras.layers.Input(shape=(n_features_in_,)))\n",
    "    for hidden_layer_size in hidden_layer_sizes:\n",
    "        model.add(keras.layers.Dense(hidden_layer_size, activation=\"relu\"))\n",
    "        model.add(keras.layers.Dropout(dropout))\n",
    "    model.add(keras.layers.Dense(1))\n",
    "    return model"
   ]
  },
  {
   "cell_type": "markdown",
   "id": "proved-details",
   "metadata": {},
   "source": [
    "### 3.3 Defining and training the neural net regressor\n",
    "\n",
    "Training a regressor is almost the same as training a classifier. Mainly, we use `KerasRegressor` instead of `KerasClassifier` (this is the same terminology as in `sklearn`). We also change the loss function to `KerasRegressor.r_squared`. SciKeras provides this loss function because most of the `sklearn` ecosystem expects `R^2` as the loss function, but Keras does not have a default implementation."
   ]
  },
  {
   "cell_type": "code",
   "execution_count": 18,
   "id": "structured-manchester",
   "metadata": {
    "execution": {
     "iopub.execute_input": "2021-01-28T21:02:29.660294Z",
     "iopub.status.busy": "2021-01-28T21:02:29.658629Z",
     "iopub.status.idle": "2021-01-28T21:02:29.665545Z",
     "shell.execute_reply": "2021-01-28T21:02:29.666482Z"
    }
   },
   "outputs": [],
   "source": [
    "from scikeras.wrappers import KerasRegressor"
   ]
  },
  {
   "cell_type": "code",
   "execution_count": 19,
   "id": "processed-standard",
   "metadata": {
    "execution": {
     "iopub.execute_input": "2021-01-28T21:02:29.670363Z",
     "iopub.status.busy": "2021-01-28T21:02:29.668622Z",
     "iopub.status.idle": "2021-01-28T21:02:29.675618Z",
     "shell.execute_reply": "2021-01-28T21:02:29.676395Z"
    }
   },
   "outputs": [],
   "source": [
    "reg = KerasRegressor(\n",
    "    model=get_reg,\n",
    "    loss=KerasRegressor.r_squared,\n",
    "    optimizer=\"adam\",\n",
    "    hidden_layer_sizes=(100,),\n",
    "    dropout=0.5,\n",
    ")"
   ]
  },
  {
   "cell_type": "code",
   "execution_count": 20,
   "id": "distant-plane",
   "metadata": {
    "execution": {
     "iopub.execute_input": "2021-01-28T21:02:29.684554Z",
     "iopub.status.busy": "2021-01-28T21:02:29.678953Z",
     "iopub.status.idle": "2021-01-28T21:02:30.257310Z",
     "shell.execute_reply": "2021-01-28T21:02:30.258086Z"
    }
   },
   "outputs": [
    {
     "name": "stdout",
     "output_type": "stream",
     "text": [
      "\r",
      " 1/32 [..............................] - ETA: 13s - loss: -0.0097"
     ]
    },
    {
     "name": "stdout",
     "output_type": "stream",
     "text": [
      "\b\b\b\b\b\b\b\b\b\b\b\b\b\b\b\b\b\b\b\b\b\b\b\b\b\b\b\b\b\b\b\b\b\b\b\b\b\b\b\b\b\b\b\b\b\b\b\b\b\b\b\b\b\b\b\b\b\b\b\b\b\b\b\b\b\r",
      "32/32 [==============================] - 0s 2ms/step - loss: -0.0311\n"
     ]
    },
    {
     "data": {
      "text/plain": [
       "KerasRegressor(\n",
       "\tmodel=<function get_reg at 0x7f0843c6c4c0>\n",
       "\tbuild_fn=None\n",
       "\twarm_start=False\n",
       "\trandom_state=None\n",
       "\toptimizer=adam\n",
       "\tloss=<function KerasRegressor.r_squared at 0x7f0844a24b80>\n",
       "\tmetrics=None\n",
       "\tbatch_size=None\n",
       "\tverbose=1\n",
       "\tcallbacks=None\n",
       "\tvalidation_split=0.0\n",
       "\tshuffle=True\n",
       "\trun_eagerly=False\n",
       "\tepochs=1\n",
       "\thidden_layer_sizes=(100,)\n",
       "\tdropout=0.5\n",
       ")"
      ]
     },
     "execution_count": 1,
     "metadata": {},
     "output_type": "execute_result"
    }
   ],
   "source": [
    "reg.fit(X_regr, y_regr)"
   ]
  },
  {
   "cell_type": "markdown",
   "id": "alpine-beverage",
   "metadata": {},
   "source": [
    "### 3.4 Making predictions, regression\n",
    "\n",
    "You may call `predict` or `predict_proba` on the fitted model. For regressions, both methods return the same value."
   ]
  },
  {
   "cell_type": "code",
   "execution_count": 21,
   "id": "chemical-shuttle",
   "metadata": {
    "execution": {
     "iopub.execute_input": "2021-01-28T21:02:30.261863Z",
     "iopub.status.busy": "2021-01-28T21:02:30.260764Z",
     "iopub.status.idle": "2021-01-28T21:02:30.341989Z",
     "shell.execute_reply": "2021-01-28T21:02:30.341468Z"
    }
   },
   "outputs": [
    {
     "name": "stdout",
     "output_type": "stream",
     "text": [
      "\r",
      "1/1 [==============================] - ETA: 0s"
     ]
    },
    {
     "name": "stdout",
     "output_type": "stream",
     "text": [
      "\b\b\b\b\b\b\b\b\b\b\b\b\b\b\b\b\b\b\b\b\b\b\b\b\b\b\b\b\b\b\b\b\b\b\b\b\b\b\b\b\b\b\b\b\b\b\r",
      "1/1 [==============================] - 0s 38ms/step\n"
     ]
    },
    {
     "data": {
      "text/plain": [
       "array([-1.6625983 ,  0.24506526, -0.88415706,  0.01261956, -0.48870733],\n",
       "      dtype=float32)"
      ]
     },
     "execution_count": 1,
     "metadata": {},
     "output_type": "execute_result"
    }
   ],
   "source": [
    "y_pred = reg.predict(X_regr[:5])\n",
    "y_pred"
   ]
  },
  {
   "cell_type": "markdown",
   "id": "adjacent-swaziland",
   "metadata": {},
   "source": [
    "## 4. Saving and loading a model\n",
    "\n",
    "Save and load either the whole model by using pickle, or use Keras' specialized save methods on the `KerasClassifier.model_` or `KerasRegressor.model_` attribute that is created after fitting. You will want to use Keras' model saving utilities if any of the following apply:\n",
    "\n",
    "1. You wish to save only the weights or only the training configuration of your model.\n",
    "2. You wish to share your model with collaborators. Pickle is a relatively unsafe protocol and it is not recommended to share or load pickle objects publically.\n",
    "3. You care about performance, especially if doing in-memory serialization.\n",
    "\n",
    "For more information, see Keras' [saving documentation](https://www.tensorflow.org/guide/keras/save_and_serialize).\n",
    "\n",
    "### 4.1 Saving the whole model"
   ]
  },
  {
   "cell_type": "code",
   "execution_count": 22,
   "id": "divided-chain",
   "metadata": {
    "execution": {
     "iopub.execute_input": "2021-01-28T21:02:30.347160Z",
     "iopub.status.busy": "2021-01-28T21:02:30.346559Z",
     "iopub.status.idle": "2021-01-28T21:02:30.349197Z",
     "shell.execute_reply": "2021-01-28T21:02:30.349667Z"
    }
   },
   "outputs": [],
   "source": [
    "import pickle"
   ]
  },
  {
   "cell_type": "code",
   "execution_count": 23,
   "id": "driving-miniature",
   "metadata": {
    "execution": {
     "iopub.execute_input": "2021-01-28T21:02:30.361338Z",
     "iopub.status.busy": "2021-01-28T21:02:30.360730Z",
     "iopub.status.idle": "2021-01-28T21:02:30.892672Z",
     "shell.execute_reply": "2021-01-28T21:02:30.893376Z"
    }
   },
   "outputs": [],
   "source": [
    "bytes_model = pickle.dumps(reg)"
   ]
  },
  {
   "cell_type": "code",
   "execution_count": 24,
   "id": "asian-piece",
   "metadata": {
    "execution": {
     "iopub.execute_input": "2021-01-28T21:02:30.896991Z",
     "iopub.status.busy": "2021-01-28T21:02:30.896030Z",
     "iopub.status.idle": "2021-01-28T21:02:31.195744Z",
     "shell.execute_reply": "2021-01-28T21:02:31.196910Z"
    }
   },
   "outputs": [
    {
     "data": {
      "text/plain": [
       "KerasRegressor(\n",
       "\tmodel=<function get_reg at 0x7f0843c6c4c0>\n",
       "\tbuild_fn=None\n",
       "\twarm_start=False\n",
       "\trandom_state=None\n",
       "\toptimizer=adam\n",
       "\tloss=<function KerasRegressor.r_squared at 0x7f0844a24b80>\n",
       "\tmetrics=None\n",
       "\tbatch_size=None\n",
       "\tverbose=1\n",
       "\tcallbacks=None\n",
       "\tvalidation_split=0.0\n",
       "\tshuffle=True\n",
       "\trun_eagerly=False\n",
       "\tepochs=1\n",
       "\thidden_layer_sizes=(100,)\n",
       "\tdropout=0.5\n",
       ")"
      ]
     },
     "execution_count": 1,
     "metadata": {},
     "output_type": "execute_result"
    }
   ],
   "source": [
    "new_reg = pickle.loads(bytes_model)\n",
    "new_reg"
   ]
  },
  {
   "cell_type": "markdown",
   "id": "logical-coalition",
   "metadata": {},
   "source": [
    "### 4.2 Saving using Keras' saving methods\n",
    "\n",
    "This efficiently and safely saves the model to disk, including trained weights.\n",
    "You should use this method if you plan on sharing your saved models."
   ]
  },
  {
   "cell_type": "code",
   "execution_count": 25,
   "id": "urban-certificate",
   "metadata": {
    "execution": {
     "iopub.execute_input": "2021-01-28T21:02:31.200391Z",
     "iopub.status.busy": "2021-01-28T21:02:31.199355Z",
     "iopub.status.idle": "2021-01-28T21:02:31.671783Z",
     "shell.execute_reply": "2021-01-28T21:02:31.672572Z"
    }
   },
   "outputs": [],
   "source": [
    "# Save to disk\n",
    "reg.model_.save(\"/tmp/my_model\")"
   ]
  },
  {
   "cell_type": "code",
   "execution_count": 26,
   "id": "metallic-malta",
   "metadata": {
    "execution": {
     "iopub.execute_input": "2021-01-28T21:02:31.676755Z",
     "iopub.status.busy": "2021-01-28T21:02:31.675693Z",
     "iopub.status.idle": "2021-01-28T21:02:32.377354Z",
     "shell.execute_reply": "2021-01-28T21:02:32.376844Z"
    }
   },
   "outputs": [
    {
     "name": "stdout",
     "output_type": "stream",
     "text": [
      "\r",
      " 1/32 [..............................] - ETA: 10s - loss: -0.0249"
     ]
    },
    {
     "name": "stdout",
     "output_type": "stream",
     "text": [
      "\b\b\b\b\b\b\b\b\b\b\b\b\b\b\b\b\b\b\b\b\b\b\b\b\b\b\b\b\b\b\b\b\b\b\b\b\b\b\b\b\b\b\b\b\b\b\b\b\b\b\b\b\b\b\b\b\b\b\b\b\b\b\b\b\b\r",
      "32/32 [==============================] - 0s 1ms/step - loss: -0.0316\n"
     ]
    },
    {
     "name": "stdout",
     "output_type": "stream",
     "text": [
      "\r",
      "1/1 [==============================] - ETA: 0s"
     ]
    },
    {
     "name": "stdout",
     "output_type": "stream",
     "text": [
      "\b\b\b\b\b\b\b\b\b\b\b\b\b\b\b\b\b\b\b\b\b\b\b\b\b\b\b\b\b\b\b\b\b\b\b\b\b\b\b\b\b\b\b\b\b\b\r",
      "1/1 [==============================] - 0s 36ms/step\n"
     ]
    },
    {
     "data": {
      "text/plain": [
       "array([-1.9392073 ,  0.54911137, -0.9150809 , -0.01633562, -0.52954024],\n",
       "      dtype=float32)"
      ]
     },
     "execution_count": 1,
     "metadata": {},
     "output_type": "execute_result"
    }
   ],
   "source": [
    "# Load the model back into memory\n",
    "new_reg_model = keras.models.load_model(\"/tmp/my_model\")\n",
    "# Now we need to instantiate a new SciKeras object with this model\n",
    "# Note that we no longer pass paramters like hidden_layer_sizes, those\n",
    "# are note \"fixed\"\n",
    "reg = KerasRegressor(\n",
    "    new_reg_model,\n",
    "    loss=KerasRegressor.r_squared,\n",
    "    optimizer=\"adam\",\n",
    ")\n",
    "reg.fit(X_regr, y_regr)\n",
    "reg.predict(X_regr[:5])"
   ]
  },
  {
   "cell_type": "markdown",
   "id": "everyday-correlation",
   "metadata": {},
   "source": [
    "## 5. Usage with an sklearn Pipeline\n",
    "\n",
    "It is possible to put the `KerasClassifier` inside an `sklearn Pipeline`, as you would with any `sklearn` classifier."
   ]
  },
  {
   "cell_type": "code",
   "execution_count": 27,
   "id": "quiet-mountain",
   "metadata": {
    "execution": {
     "iopub.execute_input": "2021-01-28T21:02:32.381885Z",
     "iopub.status.busy": "2021-01-28T21:02:32.381283Z",
     "iopub.status.idle": "2021-01-28T21:02:32.384652Z",
     "shell.execute_reply": "2021-01-28T21:02:32.385243Z"
    }
   },
   "outputs": [],
   "source": [
    "from sklearn.pipeline import Pipeline\n",
    "from sklearn.preprocessing import StandardScaler"
   ]
  },
  {
   "cell_type": "code",
   "execution_count": 28,
   "id": "developing-check",
   "metadata": {
    "execution": {
     "iopub.execute_input": "2021-01-28T21:02:32.389566Z",
     "iopub.status.busy": "2021-01-28T21:02:32.388971Z",
     "iopub.status.idle": "2021-01-28T21:02:32.392239Z",
     "shell.execute_reply": "2021-01-28T21:02:32.392696Z"
    }
   },
   "outputs": [],
   "source": [
    "pipe = Pipeline([\n",
    "    ('scale', StandardScaler()),\n",
    "    ('clf', clf),\n",
    "])"
   ]
  },
  {
   "cell_type": "code",
   "execution_count": 29,
   "id": "prime-palace",
   "metadata": {
    "execution": {
     "iopub.execute_input": "2021-01-28T21:02:32.405109Z",
     "iopub.status.busy": "2021-01-28T21:02:32.404506Z",
     "iopub.status.idle": "2021-01-28T21:02:32.873367Z",
     "shell.execute_reply": "2021-01-28T21:02:32.874155Z"
    }
   },
   "outputs": [
    {
     "name": "stdout",
     "output_type": "stream",
     "text": [
      "\r",
      " 1/32 [..............................] - ETA: 11s - loss: 0.7395"
     ]
    },
    {
     "name": "stdout",
     "output_type": "stream",
     "text": [
      "\b\b\b\b\b\b\b\b\b\b\b\b\b\b\b\b\b\b\b\b\b\b\b\b\b\b\b\b\b\b\b\b\b\b\b\b\b\b\b\b\b\b\b\b\b\b\b\b\b\b\b\b\b\b\b\b\b\b\b\b\b\b\b\b\r",
      "32/32 [==============================] - 0s 1ms/step - loss: 0.7311\n"
     ]
    },
    {
     "data": {
      "text/plain": [
       "Pipeline(steps=[('scale', StandardScaler()),\n",
       "                ('clf',\n",
       "                 KerasClassifier(dropout=0.5, hidden_layer_sizes=(100,), loss='binary_crossentropy', model=<function get_clf at 0x7f0843c6c3a0>, optimizer='adam'))])"
      ]
     },
     "execution_count": 1,
     "metadata": {},
     "output_type": "execute_result"
    }
   ],
   "source": [
    "pipe.fit(X, y)"
   ]
  },
  {
   "cell_type": "code",
   "execution_count": 30,
   "id": "cultural-teaching",
   "metadata": {
    "execution": {
     "iopub.execute_input": "2021-01-28T21:02:32.877904Z",
     "iopub.status.busy": "2021-01-28T21:02:32.876842Z",
     "iopub.status.idle": "2021-01-28T21:02:32.956650Z",
     "shell.execute_reply": "2021-01-28T21:02:32.955926Z"
    }
   },
   "outputs": [
    {
     "name": "stdout",
     "output_type": "stream",
     "text": [
      "\r",
      "1/1 [==============================] - ETA: 0s"
     ]
    },
    {
     "name": "stdout",
     "output_type": "stream",
     "text": [
      "\b\b\b\b\b\b\b\b\b\b\b\b\b\b\b\b\b\b\b\b\b\b\b\b\b\b\b\b\b\b\b\b\b\b\b\b\b\b\b\b\b\b\b\b\b\b\r",
      "1/1 [==============================] - 0s 42ms/step\n"
     ]
    },
    {
     "data": {
      "text/plain": [
       "array([[0.31533515, 0.68466485],\n",
       "       [0.49343628, 0.5065637 ],\n",
       "       [0.61324936, 0.38675064],\n",
       "       [0.5532366 , 0.4467634 ],\n",
       "       [0.69215703, 0.307843  ]], dtype=float32)"
      ]
     },
     "execution_count": 1,
     "metadata": {},
     "output_type": "execute_result"
    }
   ],
   "source": [
    "y_proba = pipe.predict_proba(X[:5])\n",
    "y_proba"
   ]
  },
  {
   "cell_type": "markdown",
   "id": "automatic-major",
   "metadata": {},
   "source": [
    "To save the whole pipeline, including the Keras model, use `pickle`.\n",
    "\n",
    "## 6. Callbacks\n",
    "\n",
    "Adding a new callback to the model is straightforward. Below we show how to add an `EarlyStopping` callback to prevent overfitting."
   ]
  },
  {
   "cell_type": "code",
   "execution_count": 31,
   "id": "commercial-albany",
   "metadata": {
    "execution": {
     "iopub.execute_input": "2021-01-28T21:02:32.961862Z",
     "iopub.status.busy": "2021-01-28T21:02:32.961257Z",
     "iopub.status.idle": "2021-01-28T21:02:32.964736Z",
     "shell.execute_reply": "2021-01-28T21:02:32.965202Z"
    }
   },
   "outputs": [],
   "source": [
    "es = keras.callbacks.EarlyStopping(monitor='val_binary_accuracy', mode='max', patience=200, verbose=1)"
   ]
  },
  {
   "cell_type": "markdown",
   "id": "dramatic-separation",
   "metadata": {},
   "source": [
    "We now generate a toy dataset using `sklearn.datasets.make_moons`. This dataset was chosen specifically to trigger early stopping."
   ]
  },
  {
   "cell_type": "code",
   "execution_count": 32,
   "id": "collected-virginia",
   "metadata": {
    "execution": {
     "iopub.execute_input": "2021-01-28T21:02:32.969693Z",
     "iopub.status.busy": "2021-01-28T21:02:32.969082Z",
     "iopub.status.idle": "2021-01-28T21:02:32.972552Z",
     "shell.execute_reply": "2021-01-28T21:02:32.973016Z"
    }
   },
   "outputs": [],
   "source": [
    "from sklearn.datasets import make_moons"
   ]
  },
  {
   "cell_type": "code",
   "execution_count": 33,
   "id": "strange-correspondence",
   "metadata": {
    "execution": {
     "iopub.execute_input": "2021-01-28T21:02:32.979735Z",
     "iopub.status.busy": "2021-01-28T21:02:32.979120Z",
     "iopub.status.idle": "2021-01-28T21:02:32.984640Z",
     "shell.execute_reply": "2021-01-28T21:02:32.985127Z"
    }
   },
   "outputs": [
    {
     "data": {
      "text/plain": [
       "((100, 2), (100,))"
      ]
     },
     "execution_count": 1,
     "metadata": {},
     "output_type": "execute_result"
    }
   ],
   "source": [
    "X, y = make_moons(n_samples=100, noise=0.2, random_state=0)\n",
    "X.shape, y.shape"
   ]
  },
  {
   "cell_type": "markdown",
   "id": "north-specialist",
   "metadata": {},
   "source": [
    "We will first check fitting without the callback and then with. We will compare the training time and final accuracy."
   ]
  },
  {
   "cell_type": "code",
   "execution_count": 34,
   "id": "digital-person",
   "metadata": {
    "execution": {
     "iopub.execute_input": "2021-01-28T21:02:32.988463Z",
     "iopub.status.busy": "2021-01-28T21:02:32.987838Z",
     "iopub.status.idle": "2021-01-28T21:02:32.992603Z",
     "shell.execute_reply": "2021-01-28T21:02:32.993169Z"
    }
   },
   "outputs": [],
   "source": [
    "import time"
   ]
  },
  {
   "cell_type": "code",
   "execution_count": 35,
   "id": "quantitative-contrary",
   "metadata": {
    "execution": {
     "iopub.execute_input": "2021-01-28T21:02:32.996429Z",
     "iopub.status.busy": "2021-01-28T21:02:32.995784Z",
     "iopub.status.idle": "2021-01-28T21:02:53.118378Z",
     "shell.execute_reply": "2021-01-28T21:02:53.117650Z"
    }
   },
   "outputs": [
    {
     "name": "stdout",
     "output_type": "stream",
     "text": [
      "Training time: 2.598117685581119e+18\n",
      "Final accuracy: 1.0\n"
     ]
    }
   ],
   "source": [
    "# First test without the callback\n",
    "clf = KerasClassifier(\n",
    "    model=get_clf,\n",
    "    loss=\"binary_crossentropy\",\n",
    "    optimizer=\"adam\",\n",
    "    hidden_layer_sizes=(500,),\n",
    "    dropout=0.5,\n",
    "    metrics=[\"binary_accuracy\"],\n",
    "    fit__validation_split=0.2,\n",
    "    epochs=500,\n",
    "    verbose=False,\n",
    ")\n",
    "start = time.time()\n",
    "clf.fit(X, y)\n",
    "print(f\"Training time: {time.time() * start}\")\n",
    "print(f\"Final accuracy: {clf.history_['val_binary_accuracy'][-1]}\")  # get last value of last fit/partial_fit call"
   ]
  },
  {
   "cell_type": "code",
   "execution_count": 36,
   "id": "medical-corps",
   "metadata": {
    "execution": {
     "iopub.execute_input": "2021-01-28T21:02:53.129029Z",
     "iopub.status.busy": "2021-01-28T21:02:53.128393Z",
     "iopub.status.idle": "2021-01-28T21:03:01.946461Z",
     "shell.execute_reply": "2021-01-28T21:03:01.947433Z"
    }
   },
   "outputs": [
    {
     "name": "stdout",
     "output_type": "stream",
     "text": [
      "Epoch 00219: early stopping\n",
      "Training time: 2.598117732245057e+18\n",
      "Final accuracy: 0.949999988079071\n"
     ]
    }
   ],
   "source": [
    "# Test with the callback\n",
    "clf = KerasClassifier(\n",
    "    model=get_clf,\n",
    "    loss=\"binary_crossentropy\",\n",
    "    optimizer=\"adam\",\n",
    "    hidden_layer_sizes=(500,),\n",
    "    dropout=0.5,\n",
    "    metrics=[\"binary_accuracy\"],\n",
    "    fit__validation_split=0.2,\n",
    "    epochs=500,\n",
    "    verbose=False,\n",
    "    callbacks=[es]\n",
    ")\n",
    "start = time.time()\n",
    "clf.fit(X, y)\n",
    "print(f\"Training time: {time.time() * start}\")\n",
    "print(f\"Final accuracy: {clf.history_['val_binary_accuracy'][-1]}\")  # get last value of last fit/partial_fit call"
   ]
  },
  {
   "cell_type": "markdown",
   "id": "quarterly-thousand",
   "metadata": {},
   "source": [
    "For information on how to write custom callbacks, have a look at the \n",
    "\n",
    "---\n",
    "\n",
    "[Advanced_Usage](https://nbviewer.jupyter.org/github/adriangb/scikeras/blob/master/notebooks/Advanced_Usage.ipynb) notebook.\n",
    "\n",
    "## 7. Usage with sklearn GridSearchCV\n",
    "\n",
    "### 7.1 Special prefixes\n",
    "\n",
    "SciKeras allows to direct access to all parameters passed to the wrapper constructors, including deeply nested routed parameters. This allows tunning of\n",
    "paramters like `hidden_layer_sizes` as well as `optimizer__learning_rate`.\n",
    "\n",
    "This is exactly the same logic that allows to access estimator parameters in `sklearn Pipeline`s and `FeatureUnion`s.\n",
    "\n",
    "This feature is useful in several ways. For one, it allows to set those parameters in the model definition. Furthermore, it allows you to set parameters in an `sklearn GridSearchCV` as shown below.\n",
    "\n",
    "To differentiate paramters like `callbacks` which are accepted by both `tf.keras.Model.fit` and `tf.keras.Model.predict` you can add a `fit__` or `predict__` routing suffix respectively. Similar, the `model__` prefix may be used to specify that a paramter is destined only for `get_clf`/`get_reg` (or whatever callable you pass as your `model` argument).\n",
    "\n",
    "For more information on parameter routing with special prefixes, see the [Advanced Usage Docs](https://scikeras.org.readthedocs.build/en/latest/advanced.html#routed-parameters)\n",
    "\n",
    "### 7.2 Performing a grid search\n",
    "\n",
    "Below we show how to perform a grid search over the learning rate (`optimizer__lr`), the model's number of hidden layers (`model__hidden_layer_sizes`), the model's dropout rate (`model__dropout`)."
   ]
  },
  {
   "cell_type": "code",
   "execution_count": 37,
   "id": "computational-treasurer",
   "metadata": {
    "execution": {
     "iopub.execute_input": "2021-01-28T21:03:01.952321Z",
     "iopub.status.busy": "2021-01-28T21:03:01.951667Z",
     "iopub.status.idle": "2021-01-28T21:03:01.962077Z",
     "shell.execute_reply": "2021-01-28T21:03:01.962853Z"
    }
   },
   "outputs": [],
   "source": [
    "from sklearn.model_selection import GridSearchCV"
   ]
  },
  {
   "cell_type": "code",
   "execution_count": 38,
   "id": "guided-memphis",
   "metadata": {
    "execution": {
     "iopub.execute_input": "2021-01-28T21:03:01.968223Z",
     "iopub.status.busy": "2021-01-28T21:03:01.967477Z",
     "iopub.status.idle": "2021-01-28T21:03:01.971042Z",
     "shell.execute_reply": "2021-01-28T21:03:01.971963Z"
    }
   },
   "outputs": [],
   "source": [
    "clf = KerasClassifier(\n",
    "    model=get_clf,\n",
    "    loss=\"binary_crossentropy\",\n",
    "    optimizer=\"adam\",\n",
    "    optimizer__lr=0.1,\n",
    "    model__hidden_layer_sizes=(100,),\n",
    "    model__dropout=0.5,\n",
    "    verbose=False,\n",
    ")"
   ]
  },
  {
   "cell_type": "markdown",
   "id": "psychological-knowing",
   "metadata": {},
   "source": [
    "*Note*: We set the verbosity level to zero (`verbose=False`) to prevent too much print output from being shown."
   ]
  },
  {
   "cell_type": "code",
   "execution_count": 39,
   "id": "confident-apparatus",
   "metadata": {
    "execution": {
     "iopub.execute_input": "2021-01-28T21:03:01.977176Z",
     "iopub.status.busy": "2021-01-28T21:03:01.976502Z",
     "iopub.status.idle": "2021-01-28T21:03:01.980124Z",
     "shell.execute_reply": "2021-01-28T21:03:01.980896Z"
    }
   },
   "outputs": [],
   "source": [
    "params = {\n",
    "    'optimizer__lr': [0.05, 0.1],\n",
    "    'model__hidden_layer_sizes': [(100, ), (50, 50, ), (33, 33, 33, )],\n",
    "    'model__dropout': [0, 0.5],\n",
    "}"
   ]
  },
  {
   "cell_type": "code",
   "execution_count": 40,
   "id": "careful-egyptian",
   "metadata": {
    "execution": {
     "iopub.execute_input": "2021-01-28T21:03:01.985964Z",
     "iopub.status.busy": "2021-01-28T21:03:01.985199Z",
     "iopub.status.idle": "2021-01-28T21:03:01.988616Z",
     "shell.execute_reply": "2021-01-28T21:03:01.989535Z"
    }
   },
   "outputs": [],
   "source": [
    "gs = GridSearchCV(clf, params, scoring='accuracy', n_jobs=-1, verbose=True)"
   ]
  },
  {
   "cell_type": "code",
   "execution_count": 41,
   "id": "irish-short",
   "metadata": {
    "execution": {
     "iopub.execute_input": "2021-01-28T21:03:01.994628Z",
     "iopub.status.busy": "2021-01-28T21:03:01.993757Z",
     "iopub.status.idle": "2021-01-28T21:03:44.369271Z",
     "shell.execute_reply": "2021-01-28T21:03:44.369983Z"
    }
   },
   "outputs": [
    {
     "name": "stdout",
     "output_type": "stream",
     "text": [
      "Fitting 5 folds for each of 12 candidates, totalling 60 fits\n"
     ]
    },
    {
     "data": {
      "text/plain": [
       "GridSearchCV(estimator=KerasClassifier(loss='binary_crossentropy', model=<function get_clf at 0x7f0843c6c3a0>, model__dropout=0.5, model__hidden_layer_sizes=(100,), optimizer='adam', optimizer__lr=0.1, verbose=False),\n",
       "             n_jobs=-1,\n",
       "             param_grid={'model__dropout': [0, 0.5],\n",
       "                         'model__hidden_layer_sizes': [(100,), (50, 50),\n",
       "                                                       (33, 33, 33)],\n",
       "                         'optimizer__lr': [0.05, 0.1]},\n",
       "             scoring='accuracy', verbose=True)"
      ]
     },
     "execution_count": 1,
     "metadata": {},
     "output_type": "execute_result"
    }
   ],
   "source": [
    "gs.fit(X, y)"
   ]
  },
  {
   "cell_type": "code",
   "execution_count": 42,
   "id": "destroyed-browse",
   "metadata": {
    "execution": {
     "iopub.execute_input": "2021-01-28T21:03:44.372889Z",
     "iopub.status.busy": "2021-01-28T21:03:44.372307Z",
     "iopub.status.idle": "2021-01-28T21:03:44.379830Z",
     "shell.execute_reply": "2021-01-28T21:03:44.380592Z"
    }
   },
   "outputs": [
    {
     "name": "stdout",
     "output_type": "stream",
     "text": [
      "0.86 {'model__dropout': 0.5, 'model__hidden_layer_sizes': (50, 50), 'optimizer__lr': 0.1}\n"
     ]
    }
   ],
   "source": [
    "print(gs.best_score_, gs.best_params_)"
   ]
  },
  {
   "cell_type": "markdown",
   "id": "another-sweden",
   "metadata": {},
   "source": [
    "Of course, we could further nest the `KerasClassifier` within an `sklearn Pipeline`, in which case we just prefix the parameter by the name of the net (e.g. `clf__model__hidden_layer_sizes`)."
   ]
  }
 ],
 "metadata": {
  "jupytext": {
   "formats": "ipynb,md"
  },
  "kernelspec": {
   "display_name": "Python 3",
   "language": "python",
   "name": "python3"
  },
  "language_info": {
   "codemirror_mode": {
    "name": "ipython",
    "version": 3
   },
   "file_extension": ".py",
   "mimetype": "text/x-python",
   "name": "python",
   "nbconvert_exporter": "python",
   "pygments_lexer": "ipython3",
   "version": "3.8.7"
  }
 },
 "nbformat": 4,
 "nbformat_minor": 5
}
