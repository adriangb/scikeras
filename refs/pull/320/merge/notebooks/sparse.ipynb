{
 "cells": [
  {
   "cell_type": "raw",
   "id": "ceffa379",
   "metadata": {},
   "source": [
    "<a href=\"https://colab.research.google.com/github/adriangb/scikeras/blob/docs-deploy/refs/heads/master/notebooks/AutoEncoders.ipynb\"><img src=\"https://www.tensorflow.org/images/colab_logo_32px.png\">Run in Google Colab</a>"
   ]
  },
  {
   "cell_type": "markdown",
   "id": "8e47dc49",
   "metadata": {},
   "source": [
    "# Sparse Inputs"
   ]
  },
  {
   "cell_type": "markdown",
   "id": "58d635da",
   "metadata": {},
   "source": [
    "SciKeras supports sparse inputs (`X`/features).\n",
    "You don't have to do anything special for this to work, you can just pass a sparse matrix to `fit()`.\n",
    "\n",
    "In this notebook, we'll demonstrate how this works and compare memory consumption of sparse inputs to dense inputs."
   ]
  },
  {
   "cell_type": "markdown",
   "id": "f97eb857",
   "metadata": {},
   "source": [
    "## Setup"
   ]
  },
  {
   "cell_type": "code",
   "execution_count": 1,
   "id": "d12f9961",
   "metadata": {
    "execution": {
     "iopub.execute_input": "2024-04-11T21:58:42.583896Z",
     "iopub.status.busy": "2024-04-11T21:58:42.583620Z",
     "iopub.status.idle": "2024-04-11T21:58:45.757504Z",
     "shell.execute_reply": "2024-04-11T21:58:45.756881Z"
    }
   },
   "outputs": [
    {
     "name": "stdout",
     "output_type": "stream",
     "text": [
      "Collecting memory_profiler\r\n"
     ]
    },
    {
     "name": "stdout",
     "output_type": "stream",
     "text": [
      "  Downloading memory_profiler-0.61.0-py3-none-any.whl.metadata (20 kB)\r\n",
      "Requirement already satisfied: psutil in /home/runner/work/scikeras/scikeras/.venv/lib/python3.12/site-packages (from memory_profiler) (5.9.8)\r\n"
     ]
    },
    {
     "name": "stdout",
     "output_type": "stream",
     "text": [
      "Downloading memory_profiler-0.61.0-py3-none-any.whl (31 kB)\r\n"
     ]
    },
    {
     "name": "stdout",
     "output_type": "stream",
     "text": [
      "Installing collected packages: memory_profiler\r\n"
     ]
    },
    {
     "name": "stdout",
     "output_type": "stream",
     "text": [
      "Successfully installed memory_profiler-0.61.0\r\n"
     ]
    }
   ],
   "source": [
    "!pip install memory_profiler\n",
    "%load_ext memory_profiler"
   ]
  },
  {
   "cell_type": "code",
   "execution_count": 2,
   "id": "be092c8b",
   "metadata": {
    "execution": {
     "iopub.execute_input": "2024-04-11T21:58:45.761014Z",
     "iopub.status.busy": "2024-04-11T21:58:45.760494Z",
     "iopub.status.idle": "2024-04-11T21:58:48.056071Z",
     "shell.execute_reply": "2024-04-11T21:58:48.055412Z"
    }
   },
   "outputs": [],
   "source": [
    "import warnings\n",
    "import os\n",
    "os.environ['TF_CPP_MIN_LOG_LEVEL'] = '3'\n",
    "from tensorflow import get_logger\n",
    "get_logger().setLevel('ERROR')\n",
    "warnings.filterwarnings(\"ignore\", message=\"Setting the random state for TF\")"
   ]
  },
  {
   "cell_type": "code",
   "execution_count": 3,
   "id": "323f44a1",
   "metadata": {
    "execution": {
     "iopub.execute_input": "2024-04-11T21:58:48.059324Z",
     "iopub.status.busy": "2024-04-11T21:58:48.058636Z",
     "iopub.status.idle": "2024-04-11T21:58:48.064794Z",
     "shell.execute_reply": "2024-04-11T21:58:48.064205Z"
    }
   },
   "outputs": [],
   "source": [
    "try:\n",
    "    import scikeras\n",
    "except ImportError:\n",
    "    !python -m pip install scikeras"
   ]
  },
  {
   "cell_type": "code",
   "execution_count": 4,
   "id": "256e285b",
   "metadata": {
    "execution": {
     "iopub.execute_input": "2024-04-11T21:58:48.067507Z",
     "iopub.status.busy": "2024-04-11T21:58:48.066985Z",
     "iopub.status.idle": "2024-04-11T21:58:48.397555Z",
     "shell.execute_reply": "2024-04-11T21:58:48.396879Z"
    }
   },
   "outputs": [],
   "source": [
    "import scipy\n",
    "import numpy as np\n",
    "from scikeras.wrappers import KerasRegressor\n",
    "from sklearn.preprocessing import OneHotEncoder\n",
    "from sklearn.pipeline import Pipeline\n",
    "import keras"
   ]
  },
  {
   "cell_type": "markdown",
   "id": "1267f2be",
   "metadata": {},
   "source": [
    "## Data\n",
    "\n",
    "The dataset we'll be using is designed to demostrate a worst-case/best-case scenario for dense and sparse input features respectively.\n",
    "It consists of a single categorical feature with equal number of categories as rows.\n",
    "This means the one-hot encoded representation will require as many columns as it does rows, making it very ineffienct to store as a dense matrix but very efficient to store as a sparse matrix."
   ]
  },
  {
   "cell_type": "code",
   "execution_count": 5,
   "id": "e25cb1ce",
   "metadata": {
    "execution": {
     "iopub.execute_input": "2024-04-11T21:58:48.401178Z",
     "iopub.status.busy": "2024-04-11T21:58:48.400792Z",
     "iopub.status.idle": "2024-04-11T21:58:48.404643Z",
     "shell.execute_reply": "2024-04-11T21:58:48.404067Z"
    }
   },
   "outputs": [],
   "source": [
    "N_SAMPLES = 20_000  # hand tuned to be ~4GB peak\n",
    "\n",
    "X = np.arange(0, N_SAMPLES).reshape(-1, 1)\n",
    "y = np.random.uniform(0, 1, size=(X.shape[0],))"
   ]
  },
  {
   "cell_type": "markdown",
   "id": "7257b725",
   "metadata": {},
   "source": [
    "## Model\n",
    "\n",
    "The model here is nothing special, just a basic multilayer perceptron with one hidden layer."
   ]
  },
  {
   "cell_type": "code",
   "execution_count": 6,
   "id": "8a3a2429",
   "metadata": {
    "execution": {
     "iopub.execute_input": "2024-04-11T21:58:48.407383Z",
     "iopub.status.busy": "2024-04-11T21:58:48.407184Z",
     "iopub.status.idle": "2024-04-11T21:58:48.411987Z",
     "shell.execute_reply": "2024-04-11T21:58:48.411387Z"
    }
   },
   "outputs": [],
   "source": [
    "def get_clf(meta) -> keras.Model:\n",
    "    n_features_in_ = meta[\"n_features_in_\"]\n",
    "    model = keras.models.Sequential()\n",
    "    model.add(keras.layers.Input(shape=(n_features_in_,)))\n",
    "    # a single hidden layer\n",
    "    model.add(keras.layers.Dense(100, activation=\"relu\"))\n",
    "    model.add(keras.layers.Dense(1))\n",
    "    return model"
   ]
  },
  {
   "cell_type": "markdown",
   "id": "f76cf14d",
   "metadata": {},
   "source": [
    "## Pipelines\n",
    "\n",
    "Here is where it gets interesting.\n",
    "We make two Scikit-Learn pipelines that use `OneHotEncoder`: one that uses `sparse_output=False` to force a dense matrix as the output and another that uses `sparse_output=True` (the default)."
   ]
  },
  {
   "cell_type": "code",
   "execution_count": 7,
   "id": "5c69ce74",
   "metadata": {
    "execution": {
     "iopub.execute_input": "2024-04-11T21:58:48.414950Z",
     "iopub.status.busy": "2024-04-11T21:58:48.414706Z",
     "iopub.status.idle": "2024-04-11T21:58:48.418415Z",
     "shell.execute_reply": "2024-04-11T21:58:48.417793Z"
    }
   },
   "outputs": [],
   "source": [
    "dense_pipeline = Pipeline(\n",
    "    [\n",
    "        (\"encoder\", OneHotEncoder(sparse_output=False)),\n",
    "        (\"model\", KerasRegressor(get_clf, loss=\"mse\", epochs=5, verbose=False))\n",
    "    ]\n",
    ")\n",
    "\n",
    "sparse_pipeline = Pipeline(\n",
    "    [\n",
    "        (\"encoder\", OneHotEncoder(sparse_output=True)),\n",
    "        (\"model\", KerasRegressor(get_clf, loss=\"mse\", epochs=5, verbose=False))\n",
    "    ]\n",
    ")"
   ]
  },
  {
   "cell_type": "markdown",
   "id": "fead0bc5",
   "metadata": {},
   "source": [
    "## Benchmark\n",
    "\n",
    "Our benchmark will be to just train each one of these pipelines and measure peak memory consumption."
   ]
  },
  {
   "cell_type": "code",
   "execution_count": 8,
   "id": "4b10ad92",
   "metadata": {
    "execution": {
     "iopub.execute_input": "2024-04-11T21:58:48.421179Z",
     "iopub.status.busy": "2024-04-11T21:58:48.420984Z",
     "iopub.status.idle": "2024-04-11T21:59:15.978942Z",
     "shell.execute_reply": "2024-04-11T21:59:15.978216Z"
    }
   },
   "outputs": [
    {
     "name": "stdout",
     "output_type": "stream",
     "text": [
      "peak memory: 5186.09 MiB, increment: 4662.82 MiB\n"
     ]
    }
   ],
   "source": [
    "%memit dense_pipeline.fit(X, y)"
   ]
  },
  {
   "cell_type": "code",
   "execution_count": 9,
   "id": "78cd1d40",
   "metadata": {
    "execution": {
     "iopub.execute_input": "2024-04-11T21:59:15.981564Z",
     "iopub.status.busy": "2024-04-11T21:59:15.981136Z",
     "iopub.status.idle": "2024-04-11T21:59:35.154753Z",
     "shell.execute_reply": "2024-04-11T21:59:35.154042Z"
    }
   },
   "outputs": [
    {
     "name": "stdout",
     "output_type": "stream",
     "text": [
      "peak memory: 994.40 MiB, increment: 33.29 MiB\n"
     ]
    }
   ],
   "source": [
    "%memit sparse_pipeline.fit(X, y)"
   ]
  },
  {
   "cell_type": "markdown",
   "id": "3ea6295c",
   "metadata": {},
   "source": [
    "You should see at least 100x more memory consumption **increment** in the dense pipeline."
   ]
  },
  {
   "cell_type": "markdown",
   "id": "3d49dbee",
   "metadata": {},
   "source": [
    "### Runtime\n",
    "\n",
    "Using sparse inputs can have a drastic impact on memory usage, but it often (not always) hurts overall runtime."
   ]
  },
  {
   "cell_type": "code",
   "execution_count": 10,
   "id": "d1a0b252",
   "metadata": {
    "execution": {
     "iopub.execute_input": "2024-04-11T21:59:35.157724Z",
     "iopub.status.busy": "2024-04-11T21:59:35.157165Z",
     "iopub.status.idle": "2024-04-11T22:04:03.156544Z",
     "shell.execute_reply": "2024-04-11T22:04:03.156023Z"
    }
   },
   "outputs": [
    {
     "name": "stdout",
     "output_type": "stream",
     "text": [
      "33.2 s ± 8.46 s per loop (mean ± std. dev. of 7 runs, 1 loop each)\n"
     ]
    }
   ],
   "source": [
    "%timeit dense_pipeline.fit(X, y)"
   ]
  },
  {
   "cell_type": "code",
   "execution_count": 11,
   "id": "7ef8be48",
   "metadata": {
    "execution": {
     "iopub.execute_input": "2024-04-11T22:04:03.160081Z",
     "iopub.status.busy": "2024-04-11T22:04:03.158545Z",
     "iopub.status.idle": "2024-04-11T22:05:36.270751Z",
     "shell.execute_reply": "2024-04-11T22:05:36.270145Z"
    }
   },
   "outputs": [
    {
     "name": "stdout",
     "output_type": "stream",
     "text": [
      "11.6 s ± 824 ms per loop (mean ± std. dev. of 7 runs, 1 loop each)\n"
     ]
    }
   ],
   "source": [
    "%timeit sparse_pipeline.fit(X, y)"
   ]
  },
  {
   "cell_type": "markdown",
   "id": "458d560c",
   "metadata": {},
   "source": [
    "## Tensorflow Datasets\n",
    "\n",
    "Tensorflow provides a whole suite of functionality around the [Dataset].\n",
    "Datasets are lazily evaluated, can be sparse and minimize the transformations required to feed data into the model.\n",
    "They are _a lot_ more performant and efficient at scale than using numpy datastructures, even sparse ones.\n",
    "\n",
    "SciKeras does not (and cannot) support Datasets directly because Scikit-Learn itself does not support them and SciKeras' outwards API is Scikit-Learn's API.\n",
    "You may want to explore breaking out of SciKeras and just using TensorFlow/Keras directly to see if Datasets can have a large impact for your use case.\n",
    "\n",
    "[Dataset]: https://www.tensorflow.org/api_docs/python/tf/data/Dataset"
   ]
  },
  {
   "cell_type": "markdown",
   "id": "8a553fc9",
   "metadata": {},
   "source": [
    "## Bonus: dtypes\n",
    "\n",
    "You might be able to save even more memory by changing the output dtype of `OneHotEncoder`."
   ]
  },
  {
   "cell_type": "code",
   "execution_count": 12,
   "id": "0d3ebf94",
   "metadata": {
    "execution": {
     "iopub.execute_input": "2024-04-11T22:05:36.273141Z",
     "iopub.status.busy": "2024-04-11T22:05:36.272761Z",
     "iopub.status.idle": "2024-04-11T22:05:36.275913Z",
     "shell.execute_reply": "2024-04-11T22:05:36.275413Z"
    }
   },
   "outputs": [],
   "source": [
    "sparse_pipline_uint8 = Pipeline(\n",
    "    [\n",
    "        (\"encoder\", OneHotEncoder(sparse_output=True, dtype=np.uint8)),\n",
    "        (\"model\", KerasRegressor(get_clf, loss=\"mse\", epochs=5, verbose=False))\n",
    "    ]\n",
    ")"
   ]
  },
  {
   "cell_type": "code",
   "execution_count": 13,
   "id": "d9edf96c",
   "metadata": {
    "execution": {
     "iopub.execute_input": "2024-04-11T22:05:36.277981Z",
     "iopub.status.busy": "2024-04-11T22:05:36.277639Z",
     "iopub.status.idle": "2024-04-11T22:05:47.758797Z",
     "shell.execute_reply": "2024-04-11T22:05:47.758122Z"
    }
   },
   "outputs": [
    {
     "name": "stdout",
     "output_type": "stream",
     "text": [
      "peak memory: 1101.04 MiB, increment: 12.35 MiB\n"
     ]
    }
   ],
   "source": [
    "%memit sparse_pipline_uint8.fit(X, y)"
   ]
  }
 ],
 "metadata": {
  "jupytext": {
   "formats": "ipynb,md"
  },
  "kernelspec": {
   "display_name": "Python 3 (ipykernel)",
   "language": "python",
   "name": "python3"
  },
  "language_info": {
   "codemirror_mode": {
    "name": "ipython",
    "version": 3
   },
   "file_extension": ".py",
   "mimetype": "text/x-python",
   "name": "python",
   "nbconvert_exporter": "python",
   "pygments_lexer": "ipython3",
   "version": "3.12.2"
  }
 },
 "nbformat": 4,
 "nbformat_minor": 5
}
