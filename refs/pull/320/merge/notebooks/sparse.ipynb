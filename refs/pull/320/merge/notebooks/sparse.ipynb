{
 "cells": [
  {
   "cell_type": "raw",
   "id": "e74a60ea",
   "metadata": {},
   "source": [
    "<a href=\"https://colab.research.google.com/github/adriangb/scikeras/blob/docs-deploy/refs/heads/master/notebooks/AutoEncoders.ipynb\"><img src=\"https://www.tensorflow.org/images/colab_logo_32px.png\">Run in Google Colab</a>"
   ]
  },
  {
   "cell_type": "markdown",
   "id": "0985721a",
   "metadata": {},
   "source": [
    "# Sparse Inputs"
   ]
  },
  {
   "cell_type": "markdown",
   "id": "43f25c2f",
   "metadata": {},
   "source": [
    "SciKeras supports sparse inputs (`X`/features).\n",
    "You don't have to do anything special for this to work, you can just pass a sparse matrix to `fit()`.\n",
    "\n",
    "In this notebook, we'll demonstrate how this works and compare memory consumption of sparse inputs to dense inputs."
   ]
  },
  {
   "cell_type": "markdown",
   "id": "adcf9e00",
   "metadata": {},
   "source": [
    "## Setup"
   ]
  },
  {
   "cell_type": "code",
   "execution_count": 1,
   "id": "79c60991",
   "metadata": {
    "execution": {
     "iopub.execute_input": "2024-04-10T20:58:04.845089Z",
     "iopub.status.busy": "2024-04-10T20:58:04.844785Z",
     "iopub.status.idle": "2024-04-10T20:58:07.952398Z",
     "shell.execute_reply": "2024-04-10T20:58:07.951335Z"
    }
   },
   "outputs": [
    {
     "name": "stdout",
     "output_type": "stream",
     "text": [
      "Collecting memory_profiler\r\n"
     ]
    },
    {
     "name": "stdout",
     "output_type": "stream",
     "text": [
      "  Downloading memory_profiler-0.61.0-py3-none-any.whl.metadata (20 kB)\r\n"
     ]
    },
    {
     "name": "stdout",
     "output_type": "stream",
     "text": [
      "Requirement already satisfied: psutil in /home/runner/work/scikeras/scikeras/.venv/lib/python3.12/site-packages (from memory_profiler) (5.9.8)\r\n",
      "Downloading memory_profiler-0.61.0-py3-none-any.whl (31 kB)\r\n"
     ]
    },
    {
     "name": "stdout",
     "output_type": "stream",
     "text": [
      "Installing collected packages: memory_profiler\r\n"
     ]
    },
    {
     "name": "stdout",
     "output_type": "stream",
     "text": [
      "Successfully installed memory_profiler-0.61.0\r\n"
     ]
    }
   ],
   "source": [
    "!pip install memory_profiler\n",
    "%load_ext memory_profiler"
   ]
  },
  {
   "cell_type": "code",
   "execution_count": 2,
   "id": "7cd324a3",
   "metadata": {
    "execution": {
     "iopub.execute_input": "2024-04-10T20:58:07.956020Z",
     "iopub.status.busy": "2024-04-10T20:58:07.955371Z",
     "iopub.status.idle": "2024-04-10T20:58:10.248329Z",
     "shell.execute_reply": "2024-04-10T20:58:10.247690Z"
    }
   },
   "outputs": [],
   "source": [
    "import warnings\n",
    "import os\n",
    "os.environ['TF_CPP_MIN_LOG_LEVEL'] = '3'\n",
    "from tensorflow import get_logger\n",
    "get_logger().setLevel('ERROR')\n",
    "warnings.filterwarnings(\"ignore\", message=\"Setting the random state for TF\")"
   ]
  },
  {
   "cell_type": "code",
   "execution_count": 3,
   "id": "c4607b70",
   "metadata": {
    "execution": {
     "iopub.execute_input": "2024-04-10T20:58:10.251576Z",
     "iopub.status.busy": "2024-04-10T20:58:10.251053Z",
     "iopub.status.idle": "2024-04-10T20:58:10.256286Z",
     "shell.execute_reply": "2024-04-10T20:58:10.255703Z"
    }
   },
   "outputs": [],
   "source": [
    "try:\n",
    "    import scikeras\n",
    "except ImportError:\n",
    "    !python -m pip install scikeras"
   ]
  },
  {
   "cell_type": "code",
   "execution_count": 4,
   "id": "a99f2db4",
   "metadata": {
    "execution": {
     "iopub.execute_input": "2024-04-10T20:58:10.258989Z",
     "iopub.status.busy": "2024-04-10T20:58:10.258624Z",
     "iopub.status.idle": "2024-04-10T20:58:10.558272Z",
     "shell.execute_reply": "2024-04-10T20:58:10.557617Z"
    }
   },
   "outputs": [],
   "source": [
    "import scipy\n",
    "import numpy as np\n",
    "from scikeras.wrappers import KerasRegressor\n",
    "from sklearn.preprocessing import OneHotEncoder\n",
    "from sklearn.pipeline import Pipeline\n",
    "import keras"
   ]
  },
  {
   "cell_type": "markdown",
   "id": "55ec40ed",
   "metadata": {},
   "source": [
    "## Data\n",
    "\n",
    "The dataset we'll be using is designed to demostrate a worst-case/best-case scenario for dense and sparse input features respectively.\n",
    "It consists of a single categorical feature with equal number of categories as rows.\n",
    "This means the one-hot encoded representation will require as many columns as it does rows, making it very ineffienct to store as a dense matrix but very efficient to store as a sparse matrix."
   ]
  },
  {
   "cell_type": "code",
   "execution_count": 5,
   "id": "f3e1d04d",
   "metadata": {
    "execution": {
     "iopub.execute_input": "2024-04-10T20:58:10.561168Z",
     "iopub.status.busy": "2024-04-10T20:58:10.560813Z",
     "iopub.status.idle": "2024-04-10T20:58:10.564697Z",
     "shell.execute_reply": "2024-04-10T20:58:10.564075Z"
    }
   },
   "outputs": [],
   "source": [
    "N_SAMPLES = 20_000  # hand tuned to be ~4GB peak\n",
    "\n",
    "X = np.arange(0, N_SAMPLES).reshape(-1, 1)\n",
    "y = np.random.uniform(0, 1, size=(X.shape[0],))"
   ]
  },
  {
   "cell_type": "markdown",
   "id": "838d8c6b",
   "metadata": {},
   "source": [
    "## Model\n",
    "\n",
    "The model here is nothing special, just a basic multilayer perceptron with one hidden layer."
   ]
  },
  {
   "cell_type": "code",
   "execution_count": 6,
   "id": "66304019",
   "metadata": {
    "execution": {
     "iopub.execute_input": "2024-04-10T20:58:10.567243Z",
     "iopub.status.busy": "2024-04-10T20:58:10.566696Z",
     "iopub.status.idle": "2024-04-10T20:58:10.571631Z",
     "shell.execute_reply": "2024-04-10T20:58:10.571029Z"
    }
   },
   "outputs": [],
   "source": [
    "def get_clf(meta) -> keras.Model:\n",
    "    n_features_in_ = meta[\"n_features_in_\"]\n",
    "    model = keras.models.Sequential()\n",
    "    model.add(keras.layers.Input(shape=(n_features_in_,)))\n",
    "    # a single hidden layer\n",
    "    model.add(keras.layers.Dense(100, activation=\"relu\"))\n",
    "    model.add(keras.layers.Dense(1))\n",
    "    return model"
   ]
  },
  {
   "cell_type": "markdown",
   "id": "afecbde5",
   "metadata": {},
   "source": [
    "## Pipelines\n",
    "\n",
    "Here is where it gets interesting.\n",
    "We make two Scikit-Learn pipelines that use `OneHotEncoder`: one that uses `sparse_output=False` to force a dense matrix as the output and another that uses `sparse_output=True` (the default)."
   ]
  },
  {
   "cell_type": "code",
   "execution_count": 7,
   "id": "53b788c8",
   "metadata": {
    "execution": {
     "iopub.execute_input": "2024-04-10T20:58:10.574182Z",
     "iopub.status.busy": "2024-04-10T20:58:10.573731Z",
     "iopub.status.idle": "2024-04-10T20:58:10.578189Z",
     "shell.execute_reply": "2024-04-10T20:58:10.577604Z"
    }
   },
   "outputs": [],
   "source": [
    "dense_pipeline = Pipeline(\n",
    "    [\n",
    "        (\"encoder\", OneHotEncoder(sparse_output=False)),\n",
    "        (\"model\", KerasRegressor(get_clf, loss=\"mse\", epochs=5, verbose=False))\n",
    "    ]\n",
    ")\n",
    "\n",
    "sparse_pipeline = Pipeline(\n",
    "    [\n",
    "        (\"encoder\", OneHotEncoder(sparse_output=True)),\n",
    "        (\"model\", KerasRegressor(get_clf, loss=\"mse\", epochs=5, verbose=False))\n",
    "    ]\n",
    ")"
   ]
  },
  {
   "cell_type": "markdown",
   "id": "aeea4f41",
   "metadata": {},
   "source": [
    "## Benchmark\n",
    "\n",
    "Our benchmark will be to just train each one of these pipelines and measure peak memory consumption."
   ]
  },
  {
   "cell_type": "code",
   "execution_count": 8,
   "id": "f4e0fe73",
   "metadata": {
    "execution": {
     "iopub.execute_input": "2024-04-10T20:58:10.580801Z",
     "iopub.status.busy": "2024-04-10T20:58:10.580280Z",
     "iopub.status.idle": "2024-04-10T20:58:42.359132Z",
     "shell.execute_reply": "2024-04-10T20:58:42.358489Z"
    }
   },
   "outputs": [
    {
     "name": "stdout",
     "output_type": "stream",
     "text": [
      "peak memory: 5194.09 MiB, increment: 4670.79 MiB\n"
     ]
    }
   ],
   "source": [
    "%memit dense_pipeline.fit(X, y)"
   ]
  },
  {
   "cell_type": "code",
   "execution_count": 9,
   "id": "440d1b7a",
   "metadata": {
    "execution": {
     "iopub.execute_input": "2024-04-10T20:58:42.361478Z",
     "iopub.status.busy": "2024-04-10T20:58:42.361219Z",
     "iopub.status.idle": "2024-04-10T20:58:58.322202Z",
     "shell.execute_reply": "2024-04-10T20:58:58.321505Z"
    }
   },
   "outputs": [
    {
     "name": "stdout",
     "output_type": "stream",
     "text": [
      "peak memory: 983.41 MiB, increment: 32.93 MiB\n"
     ]
    }
   ],
   "source": [
    "%memit sparse_pipeline.fit(X, y)"
   ]
  },
  {
   "cell_type": "markdown",
   "id": "302207d5",
   "metadata": {},
   "source": [
    "You should see at least 100x more memory consumption **increment** in the dense pipeline."
   ]
  },
  {
   "cell_type": "markdown",
   "id": "d90a17db",
   "metadata": {},
   "source": [
    "### Runtime\n",
    "\n",
    "Using sparse inputs can have a drastic impact on memory usage, but it often (not always) hurts overall runtime."
   ]
  },
  {
   "cell_type": "code",
   "execution_count": 10,
   "id": "0a1b4cec",
   "metadata": {
    "execution": {
     "iopub.execute_input": "2024-04-10T20:58:58.325410Z",
     "iopub.status.busy": "2024-04-10T20:58:58.324813Z",
     "iopub.status.idle": "2024-04-10T21:03:33.718347Z",
     "shell.execute_reply": "2024-04-10T21:03:33.717766Z"
    }
   },
   "outputs": [
    {
     "name": "stdout",
     "output_type": "stream",
     "text": [
      "33.4 s ± 8.25 s per loop (mean ± std. dev. of 7 runs, 1 loop each)\n"
     ]
    }
   ],
   "source": [
    "%timeit dense_pipeline.fit(X, y)"
   ]
  },
  {
   "cell_type": "code",
   "execution_count": 11,
   "id": "0362568c",
   "metadata": {
    "execution": {
     "iopub.execute_input": "2024-04-10T21:03:33.720946Z",
     "iopub.status.busy": "2024-04-10T21:03:33.720507Z",
     "iopub.status.idle": "2024-04-10T21:05:09.873862Z",
     "shell.execute_reply": "2024-04-10T21:05:09.873263Z"
    }
   },
   "outputs": [
    {
     "name": "stdout",
     "output_type": "stream",
     "text": [
      "12.1 s ± 749 ms per loop (mean ± std. dev. of 7 runs, 1 loop each)\n"
     ]
    }
   ],
   "source": [
    "%timeit sparse_pipeline.fit(X, y)"
   ]
  },
  {
   "cell_type": "markdown",
   "id": "361809d6",
   "metadata": {},
   "source": [
    "## Tensorflow Datasets\n",
    "\n",
    "Tensorflow provides a whole suite of functionality around the [Dataset].\n",
    "Datasets are lazily evaluated, can be sparse and minimize the transformations required to feed data into the model.\n",
    "They are _a lot_ more performant and efficient at scale than using numpy datastructures, even sparse ones.\n",
    "\n",
    "SciKeras does not (and cannot) support Datasets directly because Scikit-Learn itself does not support them and SciKeras' outwards API is Scikit-Learn's API.\n",
    "You may want to explore breaking out of SciKeras and just using TensorFlow/Keras directly to see if Datasets can have a large impact for your use case.\n",
    "\n",
    "[Dataset]: https://www.tensorflow.org/api_docs/python/tf/data/Dataset"
   ]
  },
  {
   "cell_type": "markdown",
   "id": "a2add968",
   "metadata": {},
   "source": [
    "## Bonus: dtypes\n",
    "\n",
    "You might be able to save even more memory by changing the output dtype of `OneHotEncoder`."
   ]
  },
  {
   "cell_type": "code",
   "execution_count": 12,
   "id": "c30aadd4",
   "metadata": {
    "execution": {
     "iopub.execute_input": "2024-04-10T21:05:09.876424Z",
     "iopub.status.busy": "2024-04-10T21:05:09.876019Z",
     "iopub.status.idle": "2024-04-10T21:05:09.879271Z",
     "shell.execute_reply": "2024-04-10T21:05:09.878816Z"
    }
   },
   "outputs": [],
   "source": [
    "sparse_pipline_uint8 = Pipeline(\n",
    "    [\n",
    "        (\"encoder\", OneHotEncoder(sparse_output=True, dtype=np.uint8)),\n",
    "        (\"model\", KerasRegressor(get_clf, loss=\"mse\", epochs=5, verbose=False))\n",
    "    ]\n",
    ")"
   ]
  },
  {
   "cell_type": "code",
   "execution_count": 13,
   "id": "055a56e9",
   "metadata": {
    "execution": {
     "iopub.execute_input": "2024-04-10T21:05:09.881356Z",
     "iopub.status.busy": "2024-04-10T21:05:09.881127Z",
     "iopub.status.idle": "2024-04-10T21:05:20.443911Z",
     "shell.execute_reply": "2024-04-10T21:05:20.443279Z"
    }
   },
   "outputs": [
    {
     "name": "stdout",
     "output_type": "stream",
     "text": [
      "peak memory: 1081.65 MiB, increment: 8.97 MiB\n"
     ]
    }
   ],
   "source": [
    "%memit sparse_pipline_uint8.fit(X, y)"
   ]
  }
 ],
 "metadata": {
  "jupytext": {
   "formats": "ipynb,md"
  },
  "kernelspec": {
   "display_name": "Python 3 (ipykernel)",
   "language": "python",
   "name": "python3"
  },
  "language_info": {
   "codemirror_mode": {
    "name": "ipython",
    "version": 3
   },
   "file_extension": ".py",
   "mimetype": "text/x-python",
   "name": "python",
   "nbconvert_exporter": "python",
   "pygments_lexer": "ipython3",
   "version": "3.12.2"
  }
 },
 "nbformat": 4,
 "nbformat_minor": 5
}
