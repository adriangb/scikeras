{
 "cells": [
  {
   "cell_type": "raw",
   "id": "0c4daf64",
   "metadata": {},
   "source": [
    "<a href=\"https://colab.research.google.com/github/adriangb/scikeras/blob/docs-deploy/refs/heads/master/notebooks/Benchmarks.ipynb\"><img src=\"https://www.tensorflow.org/images/colab_logo_32px.png\">Run in Google Colab</a>"
   ]
  },
  {
   "cell_type": "markdown",
   "id": "91640060",
   "metadata": {},
   "source": [
    "# SciKeras Benchmarks\n",
    "\n",
    "SciKeras wraps Keras Models, but does not alter their performance since all of the heavy lifting still happens within Keras/Tensorflow. In this notebook, we compare the performance and accuracy of a pure-Keras Model to the same model wrapped in SciKeras.\n",
    "\n",
    "## Table of contents\n",
    "\n",
    "* [1. Setup](#1.-Setup)\n",
    "* [2. Dataset](#2.-Dataset)\n",
    "* [3. Define Keras Model](#3.-Define-Keras-Model)\n",
    "* [4. Keras benchmarks](#4.-Keras-benchmarks)\n",
    "* [5. SciKeras benchmark](#5.-SciKeras-benchmark)\n",
    "\n",
    "## 1. Setup"
   ]
  },
  {
   "cell_type": "code",
   "execution_count": 1,
   "id": "e7b8e2df",
   "metadata": {
    "execution": {
     "iopub.execute_input": "2021-04-07T18:37:38.812367Z",
     "iopub.status.busy": "2021-04-07T18:37:38.807195Z",
     "iopub.status.idle": "2021-04-07T18:37:41.025481Z",
     "shell.execute_reply": "2021-04-07T18:37:41.026052Z"
    }
   },
   "outputs": [],
   "source": [
    "try:\n",
    "    import scikeras\n",
    "except ImportError:\n",
    "    !python -m pip install scikeras"
   ]
  },
  {
   "cell_type": "markdown",
   "id": "75228b18",
   "metadata": {},
   "source": [
    "Silence TensorFlow logging to keep output succinct."
   ]
  },
  {
   "cell_type": "code",
   "execution_count": 2,
   "id": "5d616dc9",
   "metadata": {
    "execution": {
     "iopub.execute_input": "2021-04-07T18:37:41.034260Z",
     "iopub.status.busy": "2021-04-07T18:37:41.032728Z",
     "iopub.status.idle": "2021-04-07T18:37:41.037061Z",
     "shell.execute_reply": "2021-04-07T18:37:41.036269Z"
    }
   },
   "outputs": [],
   "source": [
    "import warnings\n",
    "from tensorflow import get_logger\n",
    "get_logger().setLevel('ERROR')\n",
    "warnings.filterwarnings(\"ignore\", message=\"Setting the random state for TF\")"
   ]
  },
  {
   "cell_type": "code",
   "execution_count": 3,
   "id": "a6a8c0d0",
   "metadata": {
    "execution": {
     "iopub.execute_input": "2021-04-07T18:37:41.041063Z",
     "iopub.status.busy": "2021-04-07T18:37:41.040504Z",
     "iopub.status.idle": "2021-04-07T18:37:41.507984Z",
     "shell.execute_reply": "2021-04-07T18:37:41.508935Z"
    }
   },
   "outputs": [],
   "source": [
    "import numpy as np\n",
    "from scikeras.wrappers import KerasClassifier, KerasRegressor\n",
    "from tensorflow import keras"
   ]
  },
  {
   "cell_type": "markdown",
   "id": "2233ac30",
   "metadata": {},
   "source": [
    "## 2. Dataset\n",
    "\n",
    "We will be using the MNIST dataset available within Keras."
   ]
  },
  {
   "cell_type": "code",
   "execution_count": 4,
   "id": "b5ce16fd",
   "metadata": {
    "execution": {
     "iopub.execute_input": "2021-04-07T18:37:41.513060Z",
     "iopub.status.busy": "2021-04-07T18:37:41.511848Z",
     "iopub.status.idle": "2021-04-07T18:37:42.066249Z",
     "shell.execute_reply": "2021-04-07T18:37:42.066788Z"
    }
   },
   "outputs": [],
   "source": [
    "(x_train, y_train), (x_test, y_test) = keras.datasets.mnist.load_data()\n",
    "# Scale images to the [0, 1] range\n",
    "x_train = x_train.astype(\"float32\") / 255\n",
    "x_test = x_test.astype(\"float32\") / 255\n",
    "# Make sure images have shape (28, 28, 1)\n",
    "x_train = np.expand_dims(x_train, -1)\n",
    "x_test = np.expand_dims(x_test, -1)\n",
    "# Reduce dataset size for faster benchmarks\n",
    "x_train, y_train = x_train[:2000], y_train[:2000]\n",
    "x_test, y_test = x_test[:500], y_test[:500]"
   ]
  },
  {
   "cell_type": "markdown",
   "id": "7e92ec09",
   "metadata": {},
   "source": [
    "## 3. Define Keras Model\n",
    "\n",
    "Next we will define our Keras model (adapted from [keras.io](https://keras.io/examples/vision/mnist_convnet/)):"
   ]
  },
  {
   "cell_type": "code",
   "execution_count": 5,
   "id": "1b25f77d",
   "metadata": {
    "execution": {
     "iopub.execute_input": "2021-04-07T18:37:42.074847Z",
     "iopub.status.busy": "2021-04-07T18:37:42.074211Z",
     "iopub.status.idle": "2021-04-07T18:37:42.081729Z",
     "shell.execute_reply": "2021-04-07T18:37:42.081202Z"
    }
   },
   "outputs": [],
   "source": [
    "num_classes = 10\n",
    "input_shape = (28, 28, 1)\n",
    "\n",
    "\n",
    "def get_model():\n",
    "    model = keras.Sequential(\n",
    "        [\n",
    "            keras.Input(input_shape),\n",
    "            keras.layers.Conv2D(32, kernel_size=(3, 3), activation=\"relu\"),\n",
    "            keras.layers.MaxPooling2D(pool_size=(2, 2)),\n",
    "            keras.layers.Conv2D(64, kernel_size=(3, 3), activation=\"relu\"),\n",
    "            keras.layers.MaxPooling2D(pool_size=(2, 2)),\n",
    "            keras.layers.Flatten(),\n",
    "            keras.layers.Dropout(0.5),\n",
    "            keras.layers.Dense(num_classes, activation=\"softmax\"),\n",
    "        ]\n",
    "    )\n",
    "    model.compile(\n",
    "        loss=\"sparse_categorical_crossentropy\", optimizer=\"adam\"\n",
    "    )\n",
    "    return model"
   ]
  },
  {
   "cell_type": "markdown",
   "id": "cfe2e25f",
   "metadata": {},
   "source": [
    "## 4. Keras benchmarks"
   ]
  },
  {
   "cell_type": "code",
   "execution_count": 6,
   "id": "d285094a",
   "metadata": {
    "execution": {
     "iopub.execute_input": "2021-04-07T18:37:42.086793Z",
     "iopub.status.busy": "2021-04-07T18:37:42.086174Z",
     "iopub.status.idle": "2021-04-07T18:37:42.094141Z",
     "shell.execute_reply": "2021-04-07T18:37:42.093518Z"
    }
   },
   "outputs": [],
   "source": [
    "fit_kwargs = {\"batch_size\": 128, \"validation_split\": 0.1, \"verbose\": 0, \"epochs\": 5}"
   ]
  },
  {
   "cell_type": "code",
   "execution_count": 7,
   "id": "ca8d6d4c",
   "metadata": {
    "execution": {
     "iopub.execute_input": "2021-04-07T18:37:42.105599Z",
     "iopub.status.busy": "2021-04-07T18:37:42.104685Z",
     "iopub.status.idle": "2021-04-07T18:37:42.115147Z",
     "shell.execute_reply": "2021-04-07T18:37:42.113143Z"
    }
   },
   "outputs": [],
   "source": [
    "from sklearn.metrics import accuracy_score\n",
    "from scikeras._utils import TFRandomState"
   ]
  },
  {
   "cell_type": "code",
   "execution_count": 8,
   "id": "009028b0",
   "metadata": {
    "execution": {
     "iopub.execute_input": "2021-04-07T18:37:42.121614Z",
     "iopub.status.busy": "2021-04-07T18:37:42.120938Z",
     "iopub.status.idle": "2021-04-07T18:37:53.368812Z",
     "shell.execute_reply": "2021-04-07T18:37:53.369619Z"
    }
   },
   "outputs": [
    {
     "name": "stdout",
     "output_type": "stream",
     "text": [
      "Training time: 10.83\n"
     ]
    },
    {
     "name": "stdout",
     "output_type": "stream",
     "text": [
      "Accuracy: 0.882\n"
     ]
    }
   ],
   "source": [
    "from time import time\n",
    "\n",
    "with TFRandomState(seed=0):  # we force a TF random state to be able to compare accuracy\n",
    "    model = get_model()\n",
    "    start = time()\n",
    "    model.fit(x_train, y_train, **fit_kwargs)\n",
    "    print(f\"Training time: {time()-start:.2f}\")\n",
    "    y_pred = np.argmax(model.predict(x_test), axis=1)\n",
    "print(f\"Accuracy: {accuracy_score(y_test, y_pred)}\")"
   ]
  },
  {
   "cell_type": "markdown",
   "id": "4cb48449",
   "metadata": {},
   "source": [
    "## 5. SciKeras benchmark"
   ]
  },
  {
   "cell_type": "code",
   "execution_count": 9,
   "id": "201fb99f",
   "metadata": {
    "execution": {
     "iopub.execute_input": "2021-04-07T18:37:53.376159Z",
     "iopub.status.busy": "2021-04-07T18:37:53.374335Z",
     "iopub.status.idle": "2021-04-07T18:37:53.377674Z",
     "shell.execute_reply": "2021-04-07T18:37:53.378293Z"
    }
   },
   "outputs": [],
   "source": [
    "clf = KerasClassifier(\n",
    "    model=get_model,\n",
    "    random_state=0,\n",
    "    **fit_kwargs\n",
    ")"
   ]
  },
  {
   "cell_type": "code",
   "execution_count": 10,
   "id": "c31d0b5b",
   "metadata": {
    "execution": {
     "iopub.execute_input": "2021-04-07T18:37:53.384667Z",
     "iopub.status.busy": "2021-04-07T18:37:53.383886Z",
     "iopub.status.idle": "2021-04-07T18:38:04.172036Z",
     "shell.execute_reply": "2021-04-07T18:38:04.171203Z"
    }
   },
   "outputs": [
    {
     "name": "stdout",
     "output_type": "stream",
     "text": [
      "Training time: 10.51\n"
     ]
    },
    {
     "name": "stdout",
     "output_type": "stream",
     "text": [
      "Accuracy: 0.882\n"
     ]
    }
   ],
   "source": [
    "start = time()\n",
    "clf.fit(x_train, y_train)\n",
    "print(f\"Training time: {time()-start:.2f}\")\n",
    "y_pred = clf.predict(x_test)\n",
    "print(f\"Accuracy: {accuracy_score(y_test, y_pred)}\")"
   ]
  },
  {
   "cell_type": "markdown",
   "id": "b670e579",
   "metadata": {},
   "source": [
    "As you can see, the overhead for SciKeras is <1 sec, and the accuracy is identical."
   ]
  }
 ],
 "metadata": {
  "jupytext": {
   "formats": "ipynb,md"
  },
  "kernelspec": {
   "display_name": "Python 3",
   "language": "python",
   "name": "python3"
  },
  "language_info": {
   "codemirror_mode": {
    "name": "ipython",
    "version": 3
   },
   "file_extension": ".py",
   "mimetype": "text/x-python",
   "name": "python",
   "nbconvert_exporter": "python",
   "pygments_lexer": "ipython3",
   "version": "3.8.8"
  }
 },
 "nbformat": 4,
 "nbformat_minor": 5
}
