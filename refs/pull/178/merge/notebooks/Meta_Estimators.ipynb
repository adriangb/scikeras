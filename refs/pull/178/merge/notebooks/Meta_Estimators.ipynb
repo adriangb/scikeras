{
 "cells": [
  {
   "cell_type": "raw",
   "id": "interesting-stand",
   "metadata": {},
   "source": [
    "<a href=\"https://colab.research.google.com/github/adriangb/scikeras/blob/docs-deploy/refs/heads/master/notebooks/Meta_Estimators.ipynb\"><img src=\"https://www.tensorflow.org/images/colab_logo_32px.png\">Run in Google Colab</a>"
   ]
  },
  {
   "cell_type": "markdown",
   "id": "established-inflation",
   "metadata": {},
   "source": [
    "# Meta Estimators in SciKeras\n",
    "\n",
    "In this notebook, we implement sklearn ensemble and tree meta-estimators backed by a Keras MLP model.\n",
    "\n",
    "## Table of contents\n",
    "\n",
    "* [1. Setup](#1.-Setup)\n",
    "* [2. Defining the Keras Model](#2.-Defining-the-Keras-Model)\n",
    "  * [2.1 Building a boosting ensemble](#2.1-Building-a-boosting-ensemble)\n",
    "* [3. Testing with a toy dataset](#3.-Testing-with-a-toy-dataset)\n",
    "* [4. Bagging ensemble](#4.-Bagging-ensemble)\n",
    "\n",
    "## 1. Setup"
   ]
  },
  {
   "cell_type": "code",
   "execution_count": 1,
   "id": "taken-mills",
   "metadata": {
    "execution": {
     "iopub.execute_input": "2021-01-24T10:08:05.362587Z",
     "iopub.status.busy": "2021-01-24T10:08:05.361925Z",
     "iopub.status.idle": "2021-01-24T10:08:13.539194Z",
     "shell.execute_reply": "2021-01-24T10:08:13.545710Z"
    }
   },
   "outputs": [],
   "source": [
    "try:\n",
    "    import scikeras\n",
    "except ImportError:\n",
    "    !python -m pip install scikeras"
   ]
  },
  {
   "cell_type": "markdown",
   "id": "skilled-schema",
   "metadata": {},
   "source": [
    "Silence TensorFlow logging to keep output succinct."
   ]
  },
  {
   "cell_type": "code",
   "execution_count": 2,
   "id": "academic-forge",
   "metadata": {
    "execution": {
     "iopub.execute_input": "2021-01-24T10:08:13.548999Z",
     "iopub.status.busy": "2021-01-24T10:08:13.548320Z",
     "iopub.status.idle": "2021-01-24T10:08:13.553128Z",
     "shell.execute_reply": "2021-01-24T10:08:13.553580Z"
    }
   },
   "outputs": [],
   "source": [
    "import warnings\n",
    "from tensorflow import get_logger\n",
    "get_logger().setLevel('ERROR')\n",
    "warnings.filterwarnings(\"ignore\", message=\"Setting the random state for TF\")"
   ]
  },
  {
   "cell_type": "code",
   "execution_count": 3,
   "id": "manufactured-palace",
   "metadata": {
    "execution": {
     "iopub.execute_input": "2021-01-24T10:08:13.558468Z",
     "iopub.status.busy": "2021-01-24T10:08:13.557943Z",
     "iopub.status.idle": "2021-01-24T10:08:14.838316Z",
     "shell.execute_reply": "2021-01-24T10:08:14.838794Z"
    }
   },
   "outputs": [],
   "source": [
    "import numpy as np\n",
    "from scikeras.wrappers import KerasClassifier, KerasRegressor\n",
    "from tensorflow import keras"
   ]
  },
  {
   "cell_type": "markdown",
   "id": "loved-semiconductor",
   "metadata": {},
   "source": [
    "## 2. Defining the Keras Model\n",
    "\n",
    "We borrow our MLPClassifier implementation from the [MLPClassifier notebook](https://colab.research.google.com/github/adriangb/scikeras/blob/master/notebooks/MLPClassifier_and_MLPRegressor.ipynb)."
   ]
  },
  {
   "cell_type": "code",
   "execution_count": 4,
   "id": "offshore-jesus",
   "metadata": {
    "execution": {
     "iopub.execute_input": "2021-01-24T10:08:14.858649Z",
     "iopub.status.busy": "2021-01-24T10:08:14.858049Z",
     "iopub.status.idle": "2021-01-24T10:08:14.859731Z",
     "shell.execute_reply": "2021-01-24T10:08:14.860197Z"
    }
   },
   "outputs": [],
   "source": [
    "from typing import Dict, Iterable, Any\n",
    "\n",
    "\n",
    "def get_clf_model(hidden_layer_sizes: Iterable[int], meta: Dict[str, Any], compile_kwargs: Dict[str, Any]):\n",
    "    model = keras.Sequential()\n",
    "    inp = keras.layers.Input(shape=(meta[\"n_features_in_\"]))\n",
    "    model.add(inp)\n",
    "    for hidden_layer_size in hidden_layer_sizes:\n",
    "        layer = keras.layers.Dense(hidden_layer_size, activation=\"relu\")\n",
    "        model.add(layer)\n",
    "    if meta[\"target_type_\"] == \"binary\":\n",
    "        n_output_units = 1\n",
    "        output_activation = \"sigmoid\"\n",
    "        loss = \"binary_crossentropy\"\n",
    "    elif meta[\"target_type_\"] == \"multiclass\":\n",
    "        n_output_units = meta[\"n_classes_\"]\n",
    "        output_activation = \"softmax\"\n",
    "        loss = \"sparse_categorical_crossentropy\"\n",
    "    else:\n",
    "        raise NotImplementedError(f\"Unsupported task type: {meta['target_type_']}\")\n",
    "    out = keras.layers.Dense(n_output_units, activation=output_activation)\n",
    "    model.add(out)\n",
    "    model.compile(loss=loss, optimizer=compile_kwargs[\"optimizer\"])\n",
    "    return model"
   ]
  },
  {
   "cell_type": "markdown",
   "id": "yellow-calculator",
   "metadata": {},
   "source": [
    "Next we wrap this Keras model with SciKeras"
   ]
  },
  {
   "cell_type": "code",
   "execution_count": 5,
   "id": "marked-syntax",
   "metadata": {
    "execution": {
     "iopub.execute_input": "2021-01-24T10:08:14.862834Z",
     "iopub.status.busy": "2021-01-24T10:08:14.862290Z",
     "iopub.status.idle": "2021-01-24T10:08:14.869680Z",
     "shell.execute_reply": "2021-01-24T10:08:14.870155Z"
    }
   },
   "outputs": [],
   "source": [
    "clf = KerasClassifier(\n",
    "    model=get_clf_model,\n",
    "    hidden_layer_sizes=(100, ),\n",
    "    optimizer=\"adam\",\n",
    "    optimizer__learning_rate=0.001,\n",
    "    verbose=0,\n",
    "    random_state=0,\n",
    ")"
   ]
  },
  {
   "cell_type": "markdown",
   "id": "separated-center",
   "metadata": {},
   "source": [
    "### 2.1 Building a boosting ensemble\n",
    "\n",
    "Because SciKeras estimators are fully compliant with the Scikit-Learn API, we can make use of Scikit-Learn's built in utilities. In particular example, we will use `AdaBoostClassifier` from `sklearn.ensemble.AdaBoostClassifier`, but the process is the same for most Scikit-Learn meta-estimators."
   ]
  },
  {
   "cell_type": "code",
   "execution_count": 6,
   "id": "tired-defense",
   "metadata": {
    "execution": {
     "iopub.execute_input": "2021-01-24T10:08:14.874132Z",
     "iopub.status.busy": "2021-01-24T10:08:14.873552Z",
     "iopub.status.idle": "2021-01-24T10:08:15.091753Z",
     "shell.execute_reply": "2021-01-24T10:08:15.090826Z"
    }
   },
   "outputs": [],
   "source": [
    "from sklearn.ensemble import AdaBoostClassifier"
   ]
  },
  {
   "cell_type": "code",
   "execution_count": 7,
   "id": "temporal-citizenship",
   "metadata": {
    "execution": {
     "iopub.execute_input": "2021-01-24T10:08:15.095107Z",
     "iopub.status.busy": "2021-01-24T10:08:15.094054Z",
     "iopub.status.idle": "2021-01-24T10:08:15.098423Z",
     "shell.execute_reply": "2021-01-24T10:08:15.099151Z"
    }
   },
   "outputs": [],
   "source": [
    "adaboost = AdaBoostClassifier(base_estimator=clf, random_state=0)"
   ]
  },
  {
   "cell_type": "markdown",
   "id": "narrow-stanley",
   "metadata": {},
   "source": [
    "## 3. Testing with a toy dataset\n",
    "\n",
    "Before continouing, we will run a small test to make sure we get somewhat reasonable results."
   ]
  },
  {
   "cell_type": "code",
   "execution_count": 8,
   "id": "every-insight",
   "metadata": {
    "execution": {
     "iopub.execute_input": "2021-01-24T10:08:15.113687Z",
     "iopub.status.busy": "2021-01-24T10:08:15.103613Z",
     "iopub.status.idle": "2021-01-24T10:08:15.194051Z",
     "shell.execute_reply": "2021-01-24T10:08:15.194892Z"
    }
   },
   "outputs": [],
   "source": [
    "from sklearn.datasets import make_moons\n",
    "from sklearn.model_selection import cross_val_score"
   ]
  },
  {
   "cell_type": "code",
   "execution_count": 9,
   "id": "continuing-breath",
   "metadata": {
    "execution": {
     "iopub.execute_input": "2021-01-24T10:08:15.198691Z",
     "iopub.status.busy": "2021-01-24T10:08:15.197556Z",
     "iopub.status.idle": "2021-01-24T10:12:32.999865Z",
     "shell.execute_reply": "2021-01-24T10:12:32.998985Z"
    }
   },
   "outputs": [
    {
     "name": "stdout",
     "output_type": "stream",
     "text": [
      "Single score: 0.31\n",
      "AdaBoost score: 0.80\n"
     ]
    }
   ],
   "source": [
    "X, y = make_moons()\n",
    "\n",
    "single_score = np.mean(cross_val_score(clf, X, y))\n",
    "\n",
    "adaboost_score = np.mean(cross_val_score(adaboost, X, y))\n",
    "\n",
    "print(f\"Single score: {single_score:.2f}\")\n",
    "print(f\"AdaBoost score: {adaboost_score:.2f}\")"
   ]
  },
  {
   "cell_type": "markdown",
   "id": "introductory-steam",
   "metadata": {},
   "source": [
    "We see that the score for the AdaBoost classifier is slightly higher than that of an individual MLPRegressor instance. We can explore the individual classifiers, and see that each one is composed of a Keras Model with it's own individual weights."
   ]
  },
  {
   "cell_type": "code",
   "execution_count": 10,
   "id": "conscious-livestock",
   "metadata": {
    "execution": {
     "iopub.execute_input": "2021-01-24T10:12:33.005719Z",
     "iopub.status.busy": "2021-01-24T10:12:33.004298Z",
     "iopub.status.idle": "2021-01-24T10:13:04.525010Z",
     "shell.execute_reply": "2021-01-24T10:13:04.525440Z"
    }
   },
   "outputs": [
    {
     "data": {
      "text/plain": [
       "AdaBoostClassifier(base_estimator=KerasClassifier(hidden_layer_sizes=(100,), model=<function get_clf_model at 0x7f59904df8b0>, optimizer='adam', optimizer__learning_rate=0.001, random_state=0, verbose=0),\n",
       "                   random_state=0)"
      ]
     },
     "execution_count": 1,
     "metadata": {},
     "output_type": "execute_result"
    }
   ],
   "source": [
    "adaboost.fit(X, y)  # we need to fit outside of cross_val_score before accessing the weights"
   ]
  },
  {
   "cell_type": "code",
   "execution_count": 11,
   "id": "parallel-tooth",
   "metadata": {
    "execution": {
     "iopub.execute_input": "2021-01-24T10:13:04.530273Z",
     "iopub.status.busy": "2021-01-24T10:13:04.529493Z",
     "iopub.status.idle": "2021-01-24T10:13:04.536188Z",
     "shell.execute_reply": "2021-01-24T10:13:04.535714Z"
    }
   },
   "outputs": [
    {
     "name": "stdout",
     "output_type": "stream",
     "text": [
      "[-0.12570164  0.08295549 -0.08249467  0.17570253 -0.1498337 ]\n",
      "[ 0.06899329 -0.21103022  0.19635789 -0.07339358 -0.0097776 ]\n"
     ]
    }
   ],
   "source": [
    "print(adaboost.estimators_[0].model_.get_weights()[0][0, :5])  # first sub-estimator\n",
    "print(adaboost.estimators_[1].model_.get_weights()[0][0, :5])  # second sub-estimator"
   ]
  },
  {
   "cell_type": "markdown",
   "id": "recovered-accuracy",
   "metadata": {},
   "source": [
    "## 4. Bagging ensemble\n",
    "\n",
    "For comparison, we run the same test with an ensemble built using `sklearn.ensemble.BaggingClassifier`."
   ]
  },
  {
   "cell_type": "code",
   "execution_count": 12,
   "id": "abandoned-proof",
   "metadata": {
    "execution": {
     "iopub.execute_input": "2021-01-24T10:13:04.540746Z",
     "iopub.status.busy": "2021-01-24T10:13:04.539550Z",
     "iopub.status.idle": "2021-01-24T10:13:04.541384Z",
     "shell.execute_reply": "2021-01-24T10:13:04.541822Z"
    }
   },
   "outputs": [],
   "source": [
    "from sklearn.ensemble import BaggingClassifier"
   ]
  },
  {
   "cell_type": "code",
   "execution_count": 13,
   "id": "aggressive-renewal",
   "metadata": {
    "execution": {
     "iopub.execute_input": "2021-01-24T10:13:04.546047Z",
     "iopub.status.busy": "2021-01-24T10:13:04.545513Z",
     "iopub.status.idle": "2021-01-24T10:14:32.932787Z",
     "shell.execute_reply": "2021-01-24T10:14:32.932311Z"
    }
   },
   "outputs": [
    {
     "name": "stdout",
     "output_type": "stream",
     "text": [
      "Bagging score: 0.60\n"
     ]
    }
   ],
   "source": [
    "bagging = BaggingClassifier(base_estimator=clf, random_state=0, n_jobs=-1)\n",
    "\n",
    "bagging_score = np.mean(cross_val_score(bagging, X, y))\n",
    "\n",
    "print(f\"Bagging score: {bagging_score:.2f}\")"
   ]
  }
 ],
 "metadata": {
  "jupytext": {
   "formats": "ipynb,md"
  },
  "kernelspec": {
   "display_name": "Python 3",
   "language": "python",
   "name": "python3"
  },
  "language_info": {
   "codemirror_mode": {
    "name": "ipython",
    "version": 3
   },
   "file_extension": ".py",
   "mimetype": "text/x-python",
   "name": "python",
   "nbconvert_exporter": "python",
   "pygments_lexer": "ipython3",
   "version": "3.8.6"
  }
 },
 "nbformat": 4,
 "nbformat_minor": 5
}
