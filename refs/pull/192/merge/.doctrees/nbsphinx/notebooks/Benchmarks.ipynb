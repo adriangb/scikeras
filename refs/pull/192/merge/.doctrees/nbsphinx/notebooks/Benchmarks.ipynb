{
 "cells": [
  {
   "cell_type": "raw",
   "id": "willing-image",
   "metadata": {},
   "source": [
    "<a href=\"https://colab.research.google.com/github/adriangb/scikeras/blob/docs-deploy/refs/heads/master/notebooks/Benchmarks.ipynb\"><img src=\"https://www.tensorflow.org/images/colab_logo_32px.png\">Run in Google Colab</a>"
   ]
  },
  {
   "cell_type": "markdown",
   "id": "affiliated-elder",
   "metadata": {},
   "source": [
    "# SciKeras Benchmarks\n",
    "\n",
    "SciKeras wraps Keras Models, but does not alter their performance since all of the heavy lifting still happens within Keras/Tensorflow. In this notebook, we compare the performance and accuracy of a pure-Keras Model to the same model wrapped in SciKeras.\n",
    "\n",
    "## Table of contents\n",
    "\n",
    "* [1. Setup](#1.-Setup)\n",
    "* [2. Dataset](#2.-Dataset)\n",
    "* [3. Define Keras Model](#3.-Define-Keras-Model)\n",
    "* [4. Keras benchmarks](#4.-Keras-benchmarks)\n",
    "* [5. SciKeras benchmark](#5.-SciKeras-benchmark)\n",
    "\n",
    "## 1. Setup"
   ]
  },
  {
   "cell_type": "code",
   "execution_count": 1,
   "id": "efficient-visiting",
   "metadata": {
    "execution": {
     "iopub.execute_input": "2021-02-15T06:04:09.504613Z",
     "iopub.status.busy": "2021-02-15T06:04:09.503966Z",
     "iopub.status.idle": "2021-02-15T06:04:11.402668Z",
     "shell.execute_reply": "2021-02-15T06:04:11.401897Z"
    }
   },
   "outputs": [],
   "source": [
    "try:\n",
    "    import scikeras\n",
    "except ImportError:\n",
    "    !python -m pip install scikeras"
   ]
  },
  {
   "cell_type": "markdown",
   "id": "emotional-organizer",
   "metadata": {},
   "source": [
    "Silence TensorFlow logging to keep output succinct."
   ]
  },
  {
   "cell_type": "code",
   "execution_count": 2,
   "id": "advanced-excellence",
   "metadata": {
    "execution": {
     "iopub.execute_input": "2021-02-15T06:04:11.407387Z",
     "iopub.status.busy": "2021-02-15T06:04:11.406779Z",
     "iopub.status.idle": "2021-02-15T06:04:11.408394Z",
     "shell.execute_reply": "2021-02-15T06:04:11.409054Z"
    }
   },
   "outputs": [],
   "source": [
    "import warnings\n",
    "from tensorflow import get_logger\n",
    "get_logger().setLevel('ERROR')\n",
    "warnings.filterwarnings(\"ignore\", message=\"Setting the random state for TF\")"
   ]
  },
  {
   "cell_type": "code",
   "execution_count": 3,
   "id": "opened-conflict",
   "metadata": {
    "execution": {
     "iopub.execute_input": "2021-02-15T06:04:11.418888Z",
     "iopub.status.busy": "2021-02-15T06:04:11.418285Z",
     "iopub.status.idle": "2021-02-15T06:04:11.797328Z",
     "shell.execute_reply": "2021-02-15T06:04:11.796419Z"
    }
   },
   "outputs": [],
   "source": [
    "import numpy as np\n",
    "from scikeras.wrappers import KerasClassifier, KerasRegressor\n",
    "from tensorflow import keras"
   ]
  },
  {
   "cell_type": "markdown",
   "id": "informational-cheat",
   "metadata": {},
   "source": [
    "## 2. Dataset\n",
    "\n",
    "We will be using the MNIST dataset available within Keras."
   ]
  },
  {
   "cell_type": "code",
   "execution_count": 4,
   "id": "informed-integration",
   "metadata": {
    "execution": {
     "iopub.execute_input": "2021-02-15T06:04:11.803372Z",
     "iopub.status.busy": "2021-02-15T06:04:11.802759Z",
     "iopub.status.idle": "2021-02-15T06:04:12.313973Z",
     "shell.execute_reply": "2021-02-15T06:04:12.317214Z"
    }
   },
   "outputs": [],
   "source": [
    "(x_train, y_train), (x_test, y_test) = keras.datasets.mnist.load_data()\n",
    "# Scale images to the [0, 1] range\n",
    "x_train = x_train.astype(\"float32\") / 255\n",
    "x_test = x_test.astype(\"float32\") / 255\n",
    "# Make sure images have shape (28, 28, 1)\n",
    "x_train = np.expand_dims(x_train, -1)\n",
    "x_test = np.expand_dims(x_test, -1)\n",
    "# Reduce dataset size for faster benchmarks\n",
    "x_train, y_train = x_train[:2000], y_train[:2000]\n",
    "x_test, y_test = x_test[:500], y_test[:500]"
   ]
  },
  {
   "cell_type": "markdown",
   "id": "muslim-watson",
   "metadata": {},
   "source": [
    "## 3. Define Keras Model\n",
    "\n",
    "Next we will define our Keras model (adapted from [keras.io](https://keras.io/examples/vision/mnist_convnet/)):"
   ]
  },
  {
   "cell_type": "code",
   "execution_count": 5,
   "id": "played-semiconductor",
   "metadata": {
    "execution": {
     "iopub.execute_input": "2021-02-15T06:04:12.320929Z",
     "iopub.status.busy": "2021-02-15T06:04:12.319813Z",
     "iopub.status.idle": "2021-02-15T06:04:12.327691Z",
     "shell.execute_reply": "2021-02-15T06:04:12.328441Z"
    }
   },
   "outputs": [],
   "source": [
    "num_classes = 10\n",
    "input_shape = (28, 28, 1)\n",
    "\n",
    "\n",
    "def get_model():\n",
    "    model = keras.Sequential(\n",
    "        [\n",
    "            keras.Input(input_shape),\n",
    "            keras.layers.Conv2D(32, kernel_size=(3, 3), activation=\"relu\"),\n",
    "            keras.layers.MaxPooling2D(pool_size=(2, 2)),\n",
    "            keras.layers.Conv2D(64, kernel_size=(3, 3), activation=\"relu\"),\n",
    "            keras.layers.MaxPooling2D(pool_size=(2, 2)),\n",
    "            keras.layers.Flatten(),\n",
    "            keras.layers.Dropout(0.5),\n",
    "            keras.layers.Dense(num_classes, activation=\"softmax\"),\n",
    "        ]\n",
    "    )\n",
    "    model.compile(\n",
    "        loss=\"sparse_categorical_crossentropy\", optimizer=\"adam\"\n",
    "    )\n",
    "    return model"
   ]
  },
  {
   "cell_type": "markdown",
   "id": "fatal-award",
   "metadata": {},
   "source": [
    "## 4. Keras benchmarks"
   ]
  },
  {
   "cell_type": "code",
   "execution_count": 6,
   "id": "sealed-bedroom",
   "metadata": {
    "execution": {
     "iopub.execute_input": "2021-02-15T06:04:12.340184Z",
     "iopub.status.busy": "2021-02-15T06:04:12.331092Z",
     "iopub.status.idle": "2021-02-15T06:04:12.345011Z",
     "shell.execute_reply": "2021-02-15T06:04:12.344166Z"
    }
   },
   "outputs": [],
   "source": [
    "fit_kwargs = {\"batch_size\": 128, \"validation_split\": 0.1, \"verbose\": 0, \"epochs\": 5}"
   ]
  },
  {
   "cell_type": "code",
   "execution_count": 7,
   "id": "opposite-principal",
   "metadata": {
    "execution": {
     "iopub.execute_input": "2021-02-15T06:04:12.348992Z",
     "iopub.status.busy": "2021-02-15T06:04:12.348410Z",
     "iopub.status.idle": "2021-02-15T06:04:12.351398Z",
     "shell.execute_reply": "2021-02-15T06:04:12.352375Z"
    }
   },
   "outputs": [],
   "source": [
    "from sklearn.metrics import accuracy_score\n",
    "from scikeras._utils import TFRandomState"
   ]
  },
  {
   "cell_type": "code",
   "execution_count": 8,
   "id": "figured-witch",
   "metadata": {
    "execution": {
     "iopub.execute_input": "2021-02-15T06:04:12.356294Z",
     "iopub.status.busy": "2021-02-15T06:04:12.355740Z",
     "iopub.status.idle": "2021-02-15T06:04:21.734270Z",
     "shell.execute_reply": "2021-02-15T06:04:21.735026Z"
    }
   },
   "outputs": [
    {
     "name": "stdout",
     "output_type": "stream",
     "text": [
      "Training time: 9.06\n"
     ]
    },
    {
     "name": "stdout",
     "output_type": "stream",
     "text": [
      "Accuracy: 0.882\n"
     ]
    }
   ],
   "source": [
    "from time import time\n",
    "\n",
    "with TFRandomState(seed=0):  # we force a TF random state to be able to compare accuracy\n",
    "    model = get_model()\n",
    "    start = time()\n",
    "    model.fit(x_train, y_train, **fit_kwargs)\n",
    "    print(f\"Training time: {time()-start:.2f}\")\n",
    "    y_pred = np.argmax(model.predict(x_test), axis=1)\n",
    "print(f\"Accuracy: {accuracy_score(y_test, y_pred)}\")"
   ]
  },
  {
   "cell_type": "markdown",
   "id": "becoming-anaheim",
   "metadata": {},
   "source": [
    "## 5. SciKeras benchmark"
   ]
  },
  {
   "cell_type": "code",
   "execution_count": 9,
   "id": "still-ivory",
   "metadata": {
    "execution": {
     "iopub.execute_input": "2021-02-15T06:04:21.739571Z",
     "iopub.status.busy": "2021-02-15T06:04:21.737424Z",
     "iopub.status.idle": "2021-02-15T06:04:21.741925Z",
     "shell.execute_reply": "2021-02-15T06:04:21.742687Z"
    }
   },
   "outputs": [],
   "source": [
    "clf = KerasClassifier(\n",
    "    model=get_model,\n",
    "    random_state=0,\n",
    "    **fit_kwargs\n",
    ")"
   ]
  },
  {
   "cell_type": "code",
   "execution_count": 10,
   "id": "postal-edward",
   "metadata": {
    "execution": {
     "iopub.execute_input": "2021-02-15T06:04:21.746046Z",
     "iopub.status.busy": "2021-02-15T06:04:21.744869Z",
     "iopub.status.idle": "2021-02-15T06:04:30.387244Z",
     "shell.execute_reply": "2021-02-15T06:04:30.387964Z"
    }
   },
   "outputs": [
    {
     "name": "stdout",
     "output_type": "stream",
     "text": [
      "Training time: 8.42\n"
     ]
    },
    {
     "name": "stdout",
     "output_type": "stream",
     "text": [
      "Accuracy: 0.882\n"
     ]
    }
   ],
   "source": [
    "start = time()\n",
    "clf.fit(x_train, y_train)\n",
    "print(f\"Training time: {time()-start:.2f}\")\n",
    "y_pred = clf.predict(x_test)\n",
    "print(f\"Accuracy: {accuracy_score(y_test, y_pred)}\")"
   ]
  },
  {
   "cell_type": "markdown",
   "id": "joined-prairie",
   "metadata": {},
   "source": [
    "As you can see, the overhead for SciKeras is <1 sec, and the accuracy is identical."
   ]
  }
 ],
 "metadata": {
  "jupytext": {
   "formats": "ipynb,md"
  },
  "kernelspec": {
   "display_name": "Python 3",
   "language": "python",
   "name": "python3"
  },
  "language_info": {
   "codemirror_mode": {
    "name": "ipython",
    "version": 3
   },
   "file_extension": ".py",
   "mimetype": "text/x-python",
   "name": "python",
   "nbconvert_exporter": "python",
   "pygments_lexer": "ipython3",
   "version": "3.8.7"
  }
 },
 "nbformat": 4,
 "nbformat_minor": 5
}
