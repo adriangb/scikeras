{
 "cells": [
  {
   "cell_type": "raw",
   "id": "amazing-chuck",
   "metadata": {},
   "source": [
    "<a href=\"https://colab.research.google.com/github/adriangb/scikeras/blob/docs-deploy/refs/heads/master/notebooks/Benchmarks.ipynb\"><img src=\"https://www.tensorflow.org/images/colab_logo_32px.png\">Run in Google Colab</a>"
   ]
  },
  {
   "cell_type": "markdown",
   "id": "brave-navigation",
   "metadata": {},
   "source": [
    "# SciKeras Benchmarks\n",
    "\n",
    "SciKeras wraps Keras Models, but does not alter their performance since all of the heavy lifting still happens within Keras/Tensorflow. In this notebook, we compare the performance and accuracy of a pure-Keras Model to the same model wrapped in SciKeras.\n",
    "\n",
    "## Table of contents\n",
    "\n",
    "* [1. Setup](#1.-Setup)\n",
    "* [2. Dataset](#2.-Dataset)\n",
    "* [3. Define Keras Model](#3.-Define-Keras-Model)\n",
    "* [4. Keras benchmarks](#4.-Keras-benchmarks)\n",
    "* [5. SciKeras benchmark](#5.-SciKeras-benchmark)\n",
    "\n",
    "## 1. Setup"
   ]
  },
  {
   "cell_type": "code",
   "execution_count": 1,
   "id": "latin-duplicate",
   "metadata": {
    "execution": {
     "iopub.execute_input": "2021-02-15T05:35:02.184942Z",
     "iopub.status.busy": "2021-02-15T05:35:02.184133Z",
     "iopub.status.idle": "2021-02-15T05:35:04.061145Z",
     "shell.execute_reply": "2021-02-15T05:35:04.061913Z"
    }
   },
   "outputs": [],
   "source": [
    "try:\n",
    "    import scikeras\n",
    "except ImportError:\n",
    "    !python -m pip install scikeras"
   ]
  },
  {
   "cell_type": "markdown",
   "id": "waiting-village",
   "metadata": {},
   "source": [
    "Silence TensorFlow logging to keep output succinct."
   ]
  },
  {
   "cell_type": "code",
   "execution_count": 2,
   "id": "aware-monaco",
   "metadata": {
    "execution": {
     "iopub.execute_input": "2021-02-15T05:35:04.067132Z",
     "iopub.status.busy": "2021-02-15T05:35:04.066426Z",
     "iopub.status.idle": "2021-02-15T05:35:04.068352Z",
     "shell.execute_reply": "2021-02-15T05:35:04.069034Z"
    }
   },
   "outputs": [],
   "source": [
    "import warnings\n",
    "from tensorflow import get_logger\n",
    "get_logger().setLevel('ERROR')\n",
    "warnings.filterwarnings(\"ignore\", message=\"Setting the random state for TF\")"
   ]
  },
  {
   "cell_type": "code",
   "execution_count": 3,
   "id": "digital-catalog",
   "metadata": {
    "execution": {
     "iopub.execute_input": "2021-02-15T05:35:04.072001Z",
     "iopub.status.busy": "2021-02-15T05:35:04.071309Z",
     "iopub.status.idle": "2021-02-15T05:35:04.621166Z",
     "shell.execute_reply": "2021-02-15T05:35:04.622029Z"
    }
   },
   "outputs": [],
   "source": [
    "import numpy as np\n",
    "from scikeras.wrappers import KerasClassifier, KerasRegressor\n",
    "from tensorflow import keras"
   ]
  },
  {
   "cell_type": "markdown",
   "id": "sonic-linux",
   "metadata": {},
   "source": [
    "## 2. Dataset\n",
    "\n",
    "We will be using the MNIST dataset available within Keras."
   ]
  },
  {
   "cell_type": "code",
   "execution_count": 4,
   "id": "demanding-editing",
   "metadata": {
    "execution": {
     "iopub.execute_input": "2021-02-15T05:35:04.629215Z",
     "iopub.status.busy": "2021-02-15T05:35:04.625085Z",
     "iopub.status.idle": "2021-02-15T05:35:05.221498Z",
     "shell.execute_reply": "2021-02-15T05:35:05.221980Z"
    }
   },
   "outputs": [],
   "source": [
    "(x_train, y_train), (x_test, y_test) = keras.datasets.mnist.load_data()\n",
    "# Scale images to the [0, 1] range\n",
    "x_train = x_train.astype(\"float32\") / 255\n",
    "x_test = x_test.astype(\"float32\") / 255\n",
    "# Make sure images have shape (28, 28, 1)\n",
    "x_train = np.expand_dims(x_train, -1)\n",
    "x_test = np.expand_dims(x_test, -1)\n",
    "# Reduce dataset size for faster benchmarks\n",
    "x_train, y_train = x_train[:2000], y_train[:2000]\n",
    "x_test, y_test = x_test[:500], y_test[:500]"
   ]
  },
  {
   "cell_type": "markdown",
   "id": "liable-intro",
   "metadata": {},
   "source": [
    "## 3. Define Keras Model\n",
    "\n",
    "Next we will define our Keras model (adapted from [keras.io](https://keras.io/examples/vision/mnist_convnet/)):"
   ]
  },
  {
   "cell_type": "code",
   "execution_count": 5,
   "id": "regulated-marking",
   "metadata": {
    "execution": {
     "iopub.execute_input": "2021-02-15T05:35:05.230109Z",
     "iopub.status.busy": "2021-02-15T05:35:05.229460Z",
     "iopub.status.idle": "2021-02-15T05:35:05.235469Z",
     "shell.execute_reply": "2021-02-15T05:35:05.235950Z"
    }
   },
   "outputs": [],
   "source": [
    "num_classes = 10\n",
    "input_shape = (28, 28, 1)\n",
    "\n",
    "\n",
    "def get_model():\n",
    "    model = keras.Sequential(\n",
    "        [\n",
    "            keras.Input(input_shape),\n",
    "            keras.layers.Conv2D(32, kernel_size=(3, 3), activation=\"relu\"),\n",
    "            keras.layers.MaxPooling2D(pool_size=(2, 2)),\n",
    "            keras.layers.Conv2D(64, kernel_size=(3, 3), activation=\"relu\"),\n",
    "            keras.layers.MaxPooling2D(pool_size=(2, 2)),\n",
    "            keras.layers.Flatten(),\n",
    "            keras.layers.Dropout(0.5),\n",
    "            keras.layers.Dense(num_classes, activation=\"softmax\"),\n",
    "        ]\n",
    "    )\n",
    "    model.compile(\n",
    "        loss=\"sparse_categorical_crossentropy\", optimizer=\"adam\"\n",
    "    )\n",
    "    return model"
   ]
  },
  {
   "cell_type": "markdown",
   "id": "needed-psychology",
   "metadata": {},
   "source": [
    "## 4. Keras benchmarks"
   ]
  },
  {
   "cell_type": "code",
   "execution_count": 6,
   "id": "selective-motor",
   "metadata": {
    "execution": {
     "iopub.execute_input": "2021-02-15T05:35:05.238801Z",
     "iopub.status.busy": "2021-02-15T05:35:05.238131Z",
     "iopub.status.idle": "2021-02-15T05:35:05.242494Z",
     "shell.execute_reply": "2021-02-15T05:35:05.243093Z"
    }
   },
   "outputs": [],
   "source": [
    "fit_kwargs = {\"batch_size\": 128, \"validation_split\": 0.1, \"verbose\": 0, \"epochs\": 5}"
   ]
  },
  {
   "cell_type": "code",
   "execution_count": 7,
   "id": "involved-workstation",
   "metadata": {
    "execution": {
     "iopub.execute_input": "2021-02-15T05:35:05.245896Z",
     "iopub.status.busy": "2021-02-15T05:35:05.245234Z",
     "iopub.status.idle": "2021-02-15T05:35:05.248524Z",
     "shell.execute_reply": "2021-02-15T05:35:05.249141Z"
    }
   },
   "outputs": [],
   "source": [
    "from sklearn.metrics import accuracy_score\n",
    "from scikeras._utils import TFRandomState"
   ]
  },
  {
   "cell_type": "code",
   "execution_count": 8,
   "id": "ranging-aside",
   "metadata": {
    "execution": {
     "iopub.execute_input": "2021-02-15T05:35:05.252690Z",
     "iopub.status.busy": "2021-02-15T05:35:05.252001Z",
     "iopub.status.idle": "2021-02-15T05:35:16.123553Z",
     "shell.execute_reply": "2021-02-15T05:35:16.122298Z"
    }
   },
   "outputs": [
    {
     "name": "stdout",
     "output_type": "stream",
     "text": [
      "Training time: 10.47\n"
     ]
    },
    {
     "name": "stdout",
     "output_type": "stream",
     "text": [
      "Accuracy: 0.882\n"
     ]
    }
   ],
   "source": [
    "from time import time\n",
    "\n",
    "with TFRandomState(seed=0):  # we force a TF random state to be able to compare accuracy\n",
    "    model = get_model()\n",
    "    start = time()\n",
    "    model.fit(x_train, y_train, **fit_kwargs)\n",
    "    print(f\"Training time: {time()-start:.2f}\")\n",
    "    y_pred = np.argmax(model.predict(x_test), axis=1)\n",
    "print(f\"Accuracy: {accuracy_score(y_test, y_pred)}\")"
   ]
  },
  {
   "cell_type": "markdown",
   "id": "quarterly-colony",
   "metadata": {},
   "source": [
    "## 5. SciKeras benchmark"
   ]
  },
  {
   "cell_type": "code",
   "execution_count": 9,
   "id": "deluxe-kruger",
   "metadata": {
    "execution": {
     "iopub.execute_input": "2021-02-15T05:35:16.128620Z",
     "iopub.status.busy": "2021-02-15T05:35:16.128025Z",
     "iopub.status.idle": "2021-02-15T05:35:16.132810Z",
     "shell.execute_reply": "2021-02-15T05:35:16.133768Z"
    }
   },
   "outputs": [],
   "source": [
    "clf = KerasClassifier(\n",
    "    model=get_model,\n",
    "    random_state=0,\n",
    "    **fit_kwargs\n",
    ")"
   ]
  },
  {
   "cell_type": "code",
   "execution_count": 10,
   "id": "caring-dallas",
   "metadata": {
    "execution": {
     "iopub.execute_input": "2021-02-15T05:35:16.140501Z",
     "iopub.status.busy": "2021-02-15T05:35:16.139797Z",
     "iopub.status.idle": "2021-02-15T05:35:25.899851Z",
     "shell.execute_reply": "2021-02-15T05:35:25.896587Z"
    }
   },
   "outputs": [
    {
     "name": "stdout",
     "output_type": "stream",
     "text": [
      "Training time: 9.52\n"
     ]
    },
    {
     "name": "stdout",
     "output_type": "stream",
     "text": [
      "Accuracy: 0.882\n"
     ]
    }
   ],
   "source": [
    "start = time()\n",
    "clf.fit(x_train, y_train)\n",
    "print(f\"Training time: {time()-start:.2f}\")\n",
    "y_pred = clf.predict(x_test)\n",
    "print(f\"Accuracy: {accuracy_score(y_test, y_pred)}\")"
   ]
  },
  {
   "cell_type": "markdown",
   "id": "alert-april",
   "metadata": {},
   "source": [
    "As you can see, the overhead for SciKeras is <1 sec, and the accuracy is identical."
   ]
  }
 ],
 "metadata": {
  "jupytext": {
   "formats": "ipynb,md"
  },
  "kernelspec": {
   "display_name": "Python 3",
   "language": "python",
   "name": "python3"
  },
  "language_info": {
   "codemirror_mode": {
    "name": "ipython",
    "version": 3
   },
   "file_extension": ".py",
   "mimetype": "text/x-python",
   "name": "python",
   "nbconvert_exporter": "python",
   "pygments_lexer": "ipython3",
   "version": "3.8.7"
  }
 },
 "nbformat": 4,
 "nbformat_minor": 5
}
