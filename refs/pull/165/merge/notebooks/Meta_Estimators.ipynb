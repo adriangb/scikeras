{
 "cells": [
  {
   "cell_type": "raw",
   "id": "senior-turner",
   "metadata": {},
   "source": [
    "<a href=\"https://colab.research.google.com/github/adriangb/scikeras/blob/docs-deploy/refs/heads/master/notebooks/Meta_Estimators.ipynb\"><img src=\"https://www.tensorflow.org/images/colab_logo_32px.png\">Run in Google Colab</a>"
   ]
  },
  {
   "cell_type": "markdown",
   "id": "removable-moore",
   "metadata": {},
   "source": [
    "# Meta Estimators in SciKeras\n",
    "\n",
    "In this notebook, we implement sklearn ensemble and tree meta-estimators backed by a Keras MLP model.\n",
    "\n",
    "## Table of contents\n",
    "\n",
    "* [1. Setup](#1.-Setup)\n",
    "* [2. Defining the Keras Model](#2.-Defining-the-Keras-Model)\n",
    "  * [2.1 Building a boosting ensemble](#2.1-Building-a-boosting-ensemble)\n",
    "* [3. Testing with a toy dataset](#3.-Testing-with-a-toy-dataset)\n",
    "* [4. Bagging ensemble](#4.-Bagging-ensemble)\n",
    "\n",
    "## 1. Setup"
   ]
  },
  {
   "cell_type": "code",
   "execution_count": 1,
   "id": "palestinian-wales",
   "metadata": {
    "execution": {
     "iopub.execute_input": "2021-01-27T18:22:18.192611Z",
     "iopub.status.busy": "2021-01-27T18:22:18.191951Z",
     "iopub.status.idle": "2021-01-27T18:22:20.314623Z",
     "shell.execute_reply": "2021-01-27T18:22:20.315636Z"
    }
   },
   "outputs": [],
   "source": [
    "try:\n",
    "    import scikeras\n",
    "except ImportError:\n",
    "    !python -m pip install scikeras"
   ]
  },
  {
   "cell_type": "markdown",
   "id": "norman-healthcare",
   "metadata": {},
   "source": [
    "Silence TensorFlow logging to keep output succinct."
   ]
  },
  {
   "cell_type": "code",
   "execution_count": 2,
   "id": "million-motel",
   "metadata": {
    "execution": {
     "iopub.execute_input": "2021-01-27T18:22:20.321933Z",
     "iopub.status.busy": "2021-01-27T18:22:20.321187Z",
     "iopub.status.idle": "2021-01-27T18:22:20.331312Z",
     "shell.execute_reply": "2021-01-27T18:22:20.329910Z"
    }
   },
   "outputs": [],
   "source": [
    "import warnings\n",
    "from tensorflow import get_logger\n",
    "get_logger().setLevel('ERROR')\n",
    "warnings.filterwarnings(\"ignore\", message=\"Setting the random state for TF\")"
   ]
  },
  {
   "cell_type": "code",
   "execution_count": 3,
   "id": "minor-award",
   "metadata": {
    "execution": {
     "iopub.execute_input": "2021-01-27T18:22:20.335585Z",
     "iopub.status.busy": "2021-01-27T18:22:20.334788Z",
     "iopub.status.idle": "2021-01-27T18:22:20.782370Z",
     "shell.execute_reply": "2021-01-27T18:22:20.783234Z"
    }
   },
   "outputs": [],
   "source": [
    "import numpy as np\n",
    "from scikeras.wrappers import KerasClassifier, KerasRegressor\n",
    "from tensorflow import keras"
   ]
  },
  {
   "cell_type": "markdown",
   "id": "arctic-degree",
   "metadata": {},
   "source": [
    "## 2. Defining the Keras Model\n",
    "\n",
    "We borrow our MLPClassifier implementation from the [MLPClassifier notebook](https://colab.research.google.com/github/adriangb/scikeras/blob/master/notebooks/MLPClassifier_and_MLPRegressor.ipynb)."
   ]
  },
  {
   "cell_type": "code",
   "execution_count": 4,
   "id": "weighted-amount",
   "metadata": {
    "execution": {
     "iopub.execute_input": "2021-01-27T18:22:20.787240Z",
     "iopub.status.busy": "2021-01-27T18:22:20.786059Z",
     "iopub.status.idle": "2021-01-27T18:22:20.795323Z",
     "shell.execute_reply": "2021-01-27T18:22:20.796076Z"
    }
   },
   "outputs": [],
   "source": [
    "from typing import Dict, Iterable, Any\n",
    "\n",
    "\n",
    "def get_clf_model(hidden_layer_sizes: Iterable[int], meta: Dict[str, Any], compile_kwargs: Dict[str, Any]):\n",
    "    model = keras.Sequential()\n",
    "    inp = keras.layers.Input(shape=(meta[\"n_features_in_\"]))\n",
    "    model.add(inp)\n",
    "    for hidden_layer_size in hidden_layer_sizes:\n",
    "        layer = keras.layers.Dense(hidden_layer_size, activation=\"relu\")\n",
    "        model.add(layer)\n",
    "    if meta[\"target_type_\"] == \"binary\":\n",
    "        n_output_units = 1\n",
    "        output_activation = \"sigmoid\"\n",
    "        loss = \"binary_crossentropy\"\n",
    "    elif meta[\"target_type_\"] == \"multiclass\":\n",
    "        n_output_units = meta[\"n_classes_\"]\n",
    "        output_activation = \"softmax\"\n",
    "        loss = \"sparse_categorical_crossentropy\"\n",
    "    else:\n",
    "        raise NotImplementedError(f\"Unsupported task type: {meta['target_type_']}\")\n",
    "    out = keras.layers.Dense(n_output_units, activation=output_activation)\n",
    "    model.add(out)\n",
    "    model.compile(loss=loss, optimizer=compile_kwargs[\"optimizer\"])\n",
    "    return model"
   ]
  },
  {
   "cell_type": "markdown",
   "id": "convertible-priority",
   "metadata": {},
   "source": [
    "Next we wrap this Keras model with SciKeras"
   ]
  },
  {
   "cell_type": "code",
   "execution_count": 5,
   "id": "close-title",
   "metadata": {
    "execution": {
     "iopub.execute_input": "2021-01-27T18:22:20.799748Z",
     "iopub.status.busy": "2021-01-27T18:22:20.798580Z",
     "iopub.status.idle": "2021-01-27T18:22:20.803431Z",
     "shell.execute_reply": "2021-01-27T18:22:20.804162Z"
    }
   },
   "outputs": [],
   "source": [
    "clf = KerasClassifier(\n",
    "    model=get_clf_model,\n",
    "    hidden_layer_sizes=(100, ),\n",
    "    optimizer=\"adam\",\n",
    "    optimizer__learning_rate=0.001,\n",
    "    verbose=0,\n",
    "    random_state=0,\n",
    ")"
   ]
  },
  {
   "cell_type": "markdown",
   "id": "present-batman",
   "metadata": {},
   "source": [
    "### 2.1 Building a boosting ensemble\n",
    "\n",
    "Because SciKeras estimators are fully compliant with the Scikit-Learn API, we can make use of Scikit-Learn's built in utilities. In particular example, we will use `AdaBoostClassifier` from `sklearn.ensemble.AdaBoostClassifier`, but the process is the same for most Scikit-Learn meta-estimators."
   ]
  },
  {
   "cell_type": "code",
   "execution_count": 6,
   "id": "comparative-bernard",
   "metadata": {
    "execution": {
     "iopub.execute_input": "2021-01-27T18:22:20.807646Z",
     "iopub.status.busy": "2021-01-27T18:22:20.806566Z",
     "iopub.status.idle": "2021-01-27T18:22:20.904663Z",
     "shell.execute_reply": "2021-01-27T18:22:20.905108Z"
    }
   },
   "outputs": [],
   "source": [
    "from sklearn.ensemble import AdaBoostClassifier"
   ]
  },
  {
   "cell_type": "code",
   "execution_count": 7,
   "id": "indian-charger",
   "metadata": {
    "execution": {
     "iopub.execute_input": "2021-01-27T18:22:20.911408Z",
     "iopub.status.busy": "2021-01-27T18:22:20.909615Z",
     "iopub.status.idle": "2021-01-27T18:22:20.914645Z",
     "shell.execute_reply": "2021-01-27T18:22:20.914158Z"
    }
   },
   "outputs": [],
   "source": [
    "adaboost = AdaBoostClassifier(base_estimator=clf, random_state=0)"
   ]
  },
  {
   "cell_type": "markdown",
   "id": "liked-radio",
   "metadata": {},
   "source": [
    "## 3. Testing with a toy dataset\n",
    "\n",
    "Before continouing, we will run a small test to make sure we get somewhat reasonable results."
   ]
  },
  {
   "cell_type": "code",
   "execution_count": 8,
   "id": "affecting-hardwood",
   "metadata": {
    "execution": {
     "iopub.execute_input": "2021-01-27T18:22:20.920636Z",
     "iopub.status.busy": "2021-01-27T18:22:20.920093Z",
     "iopub.status.idle": "2021-01-27T18:22:20.965449Z",
     "shell.execute_reply": "2021-01-27T18:22:20.964956Z"
    }
   },
   "outputs": [],
   "source": [
    "from sklearn.datasets import make_moons\n",
    "from sklearn.model_selection import cross_val_score"
   ]
  },
  {
   "cell_type": "code",
   "execution_count": 9,
   "id": "cleared-energy",
   "metadata": {
    "execution": {
     "iopub.execute_input": "2021-01-27T18:22:20.972594Z",
     "iopub.status.busy": "2021-01-27T18:22:20.972032Z",
     "iopub.status.idle": "2021-01-27T18:25:26.753403Z",
     "shell.execute_reply": "2021-01-27T18:25:26.751985Z"
    }
   },
   "outputs": [
    {
     "name": "stdout",
     "output_type": "stream",
     "text": [
      "Single score: 0.31\n",
      "AdaBoost score: 0.80\n"
     ]
    }
   ],
   "source": [
    "X, y = make_moons()\n",
    "\n",
    "single_score = np.mean(cross_val_score(clf, X, y))\n",
    "\n",
    "adaboost_score = np.mean(cross_val_score(adaboost, X, y))\n",
    "\n",
    "print(f\"Single score: {single_score:.2f}\")\n",
    "print(f\"AdaBoost score: {adaboost_score:.2f}\")"
   ]
  },
  {
   "cell_type": "markdown",
   "id": "expensive-score",
   "metadata": {},
   "source": [
    "We see that the score for the AdaBoost classifier is slightly higher than that of an individual MLPRegressor instance. We can explore the individual classifiers, and see that each one is composed of a Keras Model with it's own individual weights."
   ]
  },
  {
   "cell_type": "code",
   "execution_count": 10,
   "id": "welcome-answer",
   "metadata": {
    "execution": {
     "iopub.execute_input": "2021-01-27T18:25:26.760427Z",
     "iopub.status.busy": "2021-01-27T18:25:26.755941Z",
     "iopub.status.idle": "2021-01-27T18:26:01.165691Z",
     "shell.execute_reply": "2021-01-27T18:26:01.166467Z"
    }
   },
   "outputs": [
    {
     "data": {
      "text/plain": [
       "AdaBoostClassifier(base_estimator=KerasClassifier(hidden_layer_sizes=(100,), model=<function get_clf_model at 0x7f1948ce7940>, optimizer='adam', optimizer__learning_rate=0.001, random_state=0, verbose=0),\n",
       "                   random_state=0)"
      ]
     },
     "execution_count": 1,
     "metadata": {},
     "output_type": "execute_result"
    }
   ],
   "source": [
    "adaboost.fit(X, y)  # we need to fit outside of cross_val_score before accessing the weights"
   ]
  },
  {
   "cell_type": "code",
   "execution_count": 11,
   "id": "accompanied-garlic",
   "metadata": {
    "execution": {
     "iopub.execute_input": "2021-01-27T18:26:01.170425Z",
     "iopub.status.busy": "2021-01-27T18:26:01.169357Z",
     "iopub.status.idle": "2021-01-27T18:26:01.181186Z",
     "shell.execute_reply": "2021-01-27T18:26:01.180720Z"
    }
   },
   "outputs": [
    {
     "name": "stdout",
     "output_type": "stream",
     "text": [
      "[-0.12503496  0.08286817 -0.08243363  0.17561656 -0.15010291]\n",
      "[ 0.06887155 -0.21084186  0.19624893 -0.07284552 -0.00974357]\n"
     ]
    }
   ],
   "source": [
    "print(adaboost.estimators_[0].model_.get_weights()[0][0, :5])  # first sub-estimator\n",
    "print(adaboost.estimators_[1].model_.get_weights()[0][0, :5])  # second sub-estimator"
   ]
  },
  {
   "cell_type": "markdown",
   "id": "handled-syndication",
   "metadata": {},
   "source": [
    "## 4. Bagging ensemble\n",
    "\n",
    "For comparison, we run the same test with an ensemble built using `sklearn.ensemble.BaggingClassifier`."
   ]
  },
  {
   "cell_type": "code",
   "execution_count": 12,
   "id": "chronic-perception",
   "metadata": {
    "execution": {
     "iopub.execute_input": "2021-01-27T18:26:01.185418Z",
     "iopub.status.busy": "2021-01-27T18:26:01.184717Z",
     "iopub.status.idle": "2021-01-27T18:26:01.188108Z",
     "shell.execute_reply": "2021-01-27T18:26:01.188844Z"
    }
   },
   "outputs": [],
   "source": [
    "from sklearn.ensemble import BaggingClassifier"
   ]
  },
  {
   "cell_type": "code",
   "execution_count": 13,
   "id": "offshore-provision",
   "metadata": {
    "execution": {
     "iopub.execute_input": "2021-01-27T18:26:01.201051Z",
     "iopub.status.busy": "2021-01-27T18:26:01.193352Z",
     "iopub.status.idle": "2021-01-27T18:27:36.480893Z",
     "shell.execute_reply": "2021-01-27T18:27:36.481706Z"
    }
   },
   "outputs": [
    {
     "name": "stdout",
     "output_type": "stream",
     "text": [
      "Bagging score: 0.63\n"
     ]
    }
   ],
   "source": [
    "bagging = BaggingClassifier(base_estimator=clf, random_state=0, n_jobs=-1)\n",
    "\n",
    "bagging_score = np.mean(cross_val_score(bagging, X, y))\n",
    "\n",
    "print(f\"Bagging score: {bagging_score:.2f}\")"
   ]
  }
 ],
 "metadata": {
  "jupytext": {
   "formats": "ipynb,md"
  },
  "kernelspec": {
   "display_name": "Python 3",
   "language": "python",
   "name": "python3"
  },
  "language_info": {
   "codemirror_mode": {
    "name": "ipython",
    "version": 3
   },
   "file_extension": ".py",
   "mimetype": "text/x-python",
   "name": "python",
   "nbconvert_exporter": "python",
   "pygments_lexer": "ipython3",
   "version": "3.8.6"
  }
 },
 "nbformat": 4,
 "nbformat_minor": 5
}
