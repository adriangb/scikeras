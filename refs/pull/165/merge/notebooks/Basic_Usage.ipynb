{
 "cells": [
  {
   "cell_type": "raw",
   "id": "single-relationship",
   "metadata": {},
   "source": [
    "<a href=\"https://colab.research.google.com/github/adriangb/scikeras/blob/docs-deploy/refs/heads/master/notebooks/Basic_Usage.ipynb\"><img src=\"https://www.tensorflow.org/images/colab_logo_32px.png\">Run in Google Colab</a>"
   ]
  },
  {
   "cell_type": "markdown",
   "id": "approved-romantic",
   "metadata": {},
   "source": [
    "# Basic usage\n",
    "\n",
    "`SciKeras` is designed to maximize interoperability between `sklearn` and `Keras/TensorFlow`. The aim is to keep 99% of the flexibility of `Keras` while being able to leverage most features of `sklearn`. Below, we show the basic usage of `SciKeras` and how it can be combined with `sklearn`.\n",
    "\n",
    "This notebook shows you how to use the basic functionality of `SciKeras`.\n",
    "\n",
    "## Table of contents\n",
    "\n",
    "* [1. Setup](#1.-Setup)\n",
    "* [2. Training a classifier and making predictions](#2.-Training-a-classifier-and-making-predictions)\n",
    "  * [2.1 A toy binary classification task](#2.1-A-toy-binary-classification-task)\n",
    "  * [2.2 Definition of the Keras classification Model](#2.2-Definition-of-the-Keras-classification-Model)\n",
    "  * [2.3 Defining and training the neural net classifier](#2.3-Defining-and-training-the-neural-net-classifier)\n",
    "  * [2.4 Making predictions, classification](#2.4-Making-predictions-classification)\n",
    "* [3 Training a regressor](#3.-Training-a-regressor)\n",
    "  * [3.1 A toy regression task](#3.1-A-toy-regression-task)\n",
    "  * [3.2 Definition of the Keras regression Model](#3.2-Definition-of-the-Keras-regression-Model)\n",
    "  * [3.3 Defining and training the neural net regressor](#3.3-Defining-and-training-the-neural-net-regressor)\n",
    "  * [3.4 Making predictions, regression](#3.4-Making-predictions-regression)\n",
    "* [4. Saving and loading a model](#4.-Saving-and-loading-a-model)\n",
    "  * [4.1 Saving the whole model](#4.1-Saving-the-whole-model)\n",
    "  * [4.2 Saving using Keras' saving methods](#4.2-Saving-using-Keras-saving-methods)\n",
    "* [5. Usage with an sklearn Pipeline](#5.-Usage-with-an-sklearn-Pipeline)\n",
    "* [6. Callbacks](#6.-Callbacks)\n",
    "* [7. Usage with sklearn GridSearchCV](#7.-Usage-with-sklearn-GridSearchCV)\n",
    "  * [7.1 Special prefixes](#7.1-Special-prefixes)\n",
    "  * [7.2 Performing a grid search](#7.2-Performing-a-grid-search)\n",
    "\n",
    "## 1. Setup"
   ]
  },
  {
   "cell_type": "code",
   "execution_count": 1,
   "id": "touched-senate",
   "metadata": {
    "execution": {
     "iopub.execute_input": "2021-01-27T19:24:07.564388Z",
     "iopub.status.busy": "2021-01-27T19:24:07.562876Z",
     "iopub.status.idle": "2021-01-27T19:24:09.385879Z",
     "shell.execute_reply": "2021-01-27T19:24:09.386389Z"
    }
   },
   "outputs": [],
   "source": [
    "try:\n",
    "    import scikeras\n",
    "except ImportError:\n",
    "    !python -m pip install scikeras"
   ]
  },
  {
   "cell_type": "markdown",
   "id": "referenced-citizenship",
   "metadata": {},
   "source": [
    "Silence TensorFlow logging to keep output succinct."
   ]
  },
  {
   "cell_type": "code",
   "execution_count": 2,
   "id": "drawn-fields",
   "metadata": {
    "execution": {
     "iopub.execute_input": "2021-01-27T19:24:09.394873Z",
     "iopub.status.busy": "2021-01-27T19:24:09.394166Z",
     "iopub.status.idle": "2021-01-27T19:24:09.395899Z",
     "shell.execute_reply": "2021-01-27T19:24:09.396465Z"
    }
   },
   "outputs": [],
   "source": [
    "import warnings\n",
    "from tensorflow import get_logger\n",
    "get_logger().setLevel('ERROR')\n",
    "warnings.filterwarnings(\"ignore\", message=\"Setting the random state for TF\")"
   ]
  },
  {
   "cell_type": "code",
   "execution_count": 3,
   "id": "stylish-directive",
   "metadata": {
    "execution": {
     "iopub.execute_input": "2021-01-27T19:24:09.401581Z",
     "iopub.status.busy": "2021-01-27T19:24:09.400968Z",
     "iopub.status.idle": "2021-01-27T19:24:09.874523Z",
     "shell.execute_reply": "2021-01-27T19:24:09.874993Z"
    }
   },
   "outputs": [],
   "source": [
    "import numpy as np\n",
    "from scikeras.wrappers import KerasClassifier, KerasRegressor\n",
    "from tensorflow import keras"
   ]
  },
  {
   "cell_type": "markdown",
   "id": "champion-killer",
   "metadata": {},
   "source": [
    "## 2. Training a classifier and making predictions\n",
    "\n",
    "### 2.1 A toy binary classification task\n",
    "\n",
    "We load a toy classification task from `sklearn`."
   ]
  },
  {
   "cell_type": "code",
   "execution_count": 4,
   "id": "raising-gambling",
   "metadata": {
    "execution": {
     "iopub.execute_input": "2021-01-27T19:24:09.882564Z",
     "iopub.status.busy": "2021-01-27T19:24:09.880823Z",
     "iopub.status.idle": "2021-01-27T19:24:09.919912Z",
     "shell.execute_reply": "2021-01-27T19:24:09.919382Z"
    }
   },
   "outputs": [],
   "source": [
    "import numpy as np\n",
    "from sklearn.datasets import make_classification"
   ]
  },
  {
   "cell_type": "code",
   "execution_count": 5,
   "id": "figured-decade",
   "metadata": {
    "execution": {
     "iopub.execute_input": "2021-01-27T19:24:09.926649Z",
     "iopub.status.busy": "2021-01-27T19:24:09.926053Z",
     "iopub.status.idle": "2021-01-27T19:24:09.930603Z",
     "shell.execute_reply": "2021-01-27T19:24:09.930105Z"
    }
   },
   "outputs": [],
   "source": [
    "X, y = make_classification(1000, 20, n_informative=10, random_state=0)"
   ]
  },
  {
   "cell_type": "code",
   "execution_count": 6,
   "id": "sapphire-gnome",
   "metadata": {
    "execution": {
     "iopub.execute_input": "2021-01-27T19:24:09.944489Z",
     "iopub.status.busy": "2021-01-27T19:24:09.943870Z",
     "iopub.status.idle": "2021-01-27T19:24:09.948703Z",
     "shell.execute_reply": "2021-01-27T19:24:09.949235Z"
    }
   },
   "outputs": [
    {
     "data": {
      "text/plain": [
       "((1000, 20), (1000,), 0.5)"
      ]
     },
     "execution_count": 1,
     "metadata": {},
     "output_type": "execute_result"
    }
   ],
   "source": [
    "X.shape, y.shape, y.mean()"
   ]
  },
  {
   "cell_type": "markdown",
   "id": "executive-dispute",
   "metadata": {},
   "source": [
    "### 2.2 Definition of the Keras classification Model\n",
    "\n",
    "We define a vanilla neural network with.\n",
    "\n",
    "Because we are dealing with 2 classes, the output layer can be constructed in\n",
    "two different ways:\n",
    "\n",
    "1. Single unit with a `\"sigmoid\"` nonlinearity. The loss must be `\"binary_crossentropy\"`.\n",
    "2. Two units (one for each class) and a `\"softmax\"` nonlinearity. The loss must be `\"sparse_categorical_crossentropy\"`.\n",
    "\n",
    "In this example, we choose the first option, which is what you would usually\n",
    "do for binary classification. The second option is usually reserved for when\n",
    "you have >2 classes."
   ]
  },
  {
   "cell_type": "code",
   "execution_count": 7,
   "id": "vocal-image",
   "metadata": {
    "execution": {
     "iopub.execute_input": "2021-01-27T19:24:09.955439Z",
     "iopub.status.busy": "2021-01-27T19:24:09.954598Z",
     "iopub.status.idle": "2021-01-27T19:24:09.960505Z",
     "shell.execute_reply": "2021-01-27T19:24:09.959874Z"
    }
   },
   "outputs": [],
   "source": [
    "from tensorflow import keras"
   ]
  },
  {
   "cell_type": "code",
   "execution_count": 8,
   "id": "suspended-greene",
   "metadata": {
    "execution": {
     "iopub.execute_input": "2021-01-27T19:24:09.968284Z",
     "iopub.status.busy": "2021-01-27T19:24:09.967620Z",
     "iopub.status.idle": "2021-01-27T19:24:09.974777Z",
     "shell.execute_reply": "2021-01-27T19:24:09.976116Z"
    }
   },
   "outputs": [],
   "source": [
    "def get_clf(meta, hidden_layer_sizes, dropout):\n",
    "    n_features_in_ = meta[\"n_features_in_\"]\n",
    "    n_classes_ = meta[\"n_classes_\"]\n",
    "    model = keras.models.Sequential()\n",
    "    model.add(keras.layers.Input(shape=(n_features_in_,)))\n",
    "    for hidden_layer_size in hidden_layer_sizes:\n",
    "        model.add(keras.layers.Dense(hidden_layer_size, activation=\"relu\"))\n",
    "        model.add(keras.layers.Dropout(dropout))\n",
    "    model.add(keras.layers.Dense(1, activation=\"sigmoid\"))\n",
    "    return model"
   ]
  },
  {
   "cell_type": "markdown",
   "id": "written-estonia",
   "metadata": {},
   "source": [
    "### 2.3 Defining and training the neural net classifier\n",
    "\n",
    "We use `KerasClassifier` because we're dealing with a classifcation task. The first argument should be a callable returning a `Keras.Model`, in this case, `get_clf`. As additional arguments, we pass the number of loss function (required) and the optimizer, but the later is optional. We must also pass all of the arguments to `get_clf` as keyword arguments to `KerasClassifier` if they don't have a default value in `get_clf`. Note that if you do not pass an argument to `KerasClassifier`, it will not be avilable for hyperparameter tuning. Finally, we also pass `random_state=0` for reproducible results."
   ]
  },
  {
   "cell_type": "code",
   "execution_count": 9,
   "id": "endangered-adolescent",
   "metadata": {
    "execution": {
     "iopub.execute_input": "2021-01-27T19:24:09.980143Z",
     "iopub.status.busy": "2021-01-27T19:24:09.979554Z",
     "iopub.status.idle": "2021-01-27T19:24:09.983537Z",
     "shell.execute_reply": "2021-01-27T19:24:09.983017Z"
    }
   },
   "outputs": [],
   "source": [
    "from scikeras.wrappers import KerasClassifier"
   ]
  },
  {
   "cell_type": "code",
   "execution_count": 10,
   "id": "bronze-congress",
   "metadata": {
    "execution": {
     "iopub.execute_input": "2021-01-27T19:24:09.988631Z",
     "iopub.status.busy": "2021-01-27T19:24:09.987986Z",
     "iopub.status.idle": "2021-01-27T19:24:09.991826Z",
     "shell.execute_reply": "2021-01-27T19:24:09.992282Z"
    }
   },
   "outputs": [],
   "source": [
    "clf = KerasClassifier(\n",
    "    model=get_clf,\n",
    "    loss=\"binary_crossentropy\",\n",
    "    optimizer=\"adam\",\n",
    "    hidden_layer_sizes=(100,),\n",
    "    dropout=0.5,\n",
    ")"
   ]
  },
  {
   "cell_type": "markdown",
   "id": "alone-chuck",
   "metadata": {},
   "source": [
    "As in `sklearn`, we call `fit` passing the input data `X` and the targets `y`."
   ]
  },
  {
   "cell_type": "code",
   "execution_count": 11,
   "id": "worst-glossary",
   "metadata": {
    "execution": {
     "iopub.execute_input": "2021-01-27T19:24:10.004688Z",
     "iopub.status.busy": "2021-01-27T19:24:10.004092Z",
     "iopub.status.idle": "2021-01-27T19:24:10.612896Z",
     "shell.execute_reply": "2021-01-27T19:24:10.613696Z"
    }
   },
   "outputs": [
    {
     "name": "stdout",
     "output_type": "stream",
     "text": [
      "\r",
      " 1/32 [..............................] - ETA: 14s - loss: 0.9281"
     ]
    },
    {
     "name": "stdout",
     "output_type": "stream",
     "text": [
      "\b\b\b\b\b\b\b\b\b\b\b\b\b\b\b\b\b\b\b\b\b\b\b\b\b\b\b\b\b\b\b\b\b\b\b\b\b\b\b\b\b\b\b\b\b\b\b\b\b\b\b\b\b\b\b\b\b\b\b\b\b\b\b\b\r",
      "32/32 [==============================] - 1s 1ms/step - loss: 0.8577\n"
     ]
    },
    {
     "data": {
      "text/plain": [
       "KerasClassifier(\n",
       "\tmodel=<function get_clf at 0x7f3af8016ee0>\n",
       "\tbuild_fn=None\n",
       "\twarm_start=False\n",
       "\trandom_state=None\n",
       "\toptimizer=adam\n",
       "\tloss=binary_crossentropy\n",
       "\tmetrics=None\n",
       "\tbatch_size=None\n",
       "\tverbose=1\n",
       "\tcallbacks=None\n",
       "\tvalidation_split=0.0\n",
       "\tshuffle=True\n",
       "\trun_eagerly=False\n",
       "\tepochs=1\n",
       "\thidden_layer_sizes=(100,)\n",
       "\tdropout=0.5\n",
       "\tclass_weight=None\n",
       ")"
      ]
     },
     "execution_count": 1,
     "metadata": {},
     "output_type": "execute_result"
    }
   ],
   "source": [
    "clf.fit(X, y)"
   ]
  },
  {
   "cell_type": "markdown",
   "id": "assigned-jurisdiction",
   "metadata": {},
   "source": [
    "Also, as in `sklearn`, you may call `predict` or `predict_proba` on the fitted model.\n",
    "\n",
    "### 2.4 Making predictions, classification"
   ]
  },
  {
   "cell_type": "code",
   "execution_count": 12,
   "id": "descending-ottawa",
   "metadata": {
    "execution": {
     "iopub.execute_input": "2021-01-27T19:24:10.622171Z",
     "iopub.status.busy": "2021-01-27T19:24:10.620050Z",
     "iopub.status.idle": "2021-01-27T19:24:10.809097Z",
     "shell.execute_reply": "2021-01-27T19:24:10.810465Z"
    }
   },
   "outputs": [
    {
     "name": "stdout",
     "output_type": "stream",
     "text": [
      "\r",
      "1/1 [==============================] - ETA: 0s"
     ]
    },
    {
     "name": "stdout",
     "output_type": "stream",
     "text": [
      "\b\b\b\b\b\b\b\b\b\b\b\b\b\b\b\b\b\b\b\b\b\b\b\b\b\b\b\b\b\b\b\b\b\b\b\b\b\b\b\b\b\b\b\b\b\b\r",
      "1/1 [==============================] - 0s 129ms/step\n"
     ]
    },
    {
     "data": {
      "text/plain": [
       "array([1, 0, 0, 0, 0])"
      ]
     },
     "execution_count": 1,
     "metadata": {},
     "output_type": "execute_result"
    }
   ],
   "source": [
    "y_pred = clf.predict(X[:5])\n",
    "y_pred"
   ]
  },
  {
   "cell_type": "code",
   "execution_count": 13,
   "id": "incident-victim",
   "metadata": {
    "execution": {
     "iopub.execute_input": "2021-01-27T19:24:10.817877Z",
     "iopub.status.busy": "2021-01-27T19:24:10.817227Z",
     "iopub.status.idle": "2021-01-27T19:24:10.903047Z",
     "shell.execute_reply": "2021-01-27T19:24:10.901175Z"
    }
   },
   "outputs": [
    {
     "name": "stdout",
     "output_type": "stream",
     "text": [
      "\r",
      "1/1 [==============================] - ETA: 0s"
     ]
    },
    {
     "name": "stdout",
     "output_type": "stream",
     "text": [
      "\b\b\b\b\b\b\b\b\b\b\b\b\b\b\b\b\b\b\b\b\b\b\b\b\b\b\b\b\b\b\b\b\b\b\b\b\b\b\b\b\b\b\b\b\b\b\r",
      "1/1 [==============================] - 0s 27ms/step\n"
     ]
    },
    {
     "data": {
      "text/plain": [
       "array([[0.44383234, 0.55616766],\n",
       "       [0.69424653, 0.30575344],\n",
       "       [0.77428365, 0.22571638],\n",
       "       [0.67057604, 0.32942396],\n",
       "       [0.85652035, 0.14347965]], dtype=float32)"
      ]
     },
     "execution_count": 1,
     "metadata": {},
     "output_type": "execute_result"
    }
   ],
   "source": [
    "y_proba = clf.predict_proba(X[:5])\n",
    "y_proba"
   ]
  },
  {
   "cell_type": "markdown",
   "id": "fatal-operator",
   "metadata": {},
   "source": [
    "## 3 Training a regressor\n",
    "\n",
    "### 3.1 A toy regression task"
   ]
  },
  {
   "cell_type": "code",
   "execution_count": 14,
   "id": "alone-alignment",
   "metadata": {
    "execution": {
     "iopub.execute_input": "2021-01-27T19:24:10.911110Z",
     "iopub.status.busy": "2021-01-27T19:24:10.909226Z",
     "iopub.status.idle": "2021-01-27T19:24:10.917395Z",
     "shell.execute_reply": "2021-01-27T19:24:10.915762Z"
    }
   },
   "outputs": [],
   "source": [
    "from sklearn.datasets import make_regression"
   ]
  },
  {
   "cell_type": "code",
   "execution_count": 15,
   "id": "musical-woman",
   "metadata": {
    "execution": {
     "iopub.execute_input": "2021-01-27T19:24:10.929625Z",
     "iopub.status.busy": "2021-01-27T19:24:10.922383Z",
     "iopub.status.idle": "2021-01-27T19:24:10.930409Z",
     "shell.execute_reply": "2021-01-27T19:24:10.930918Z"
    }
   },
   "outputs": [],
   "source": [
    "X_regr, y_regr = make_regression(1000, 20, n_informative=10, random_state=0)"
   ]
  },
  {
   "cell_type": "code",
   "execution_count": 16,
   "id": "formed-theater",
   "metadata": {
    "execution": {
     "iopub.execute_input": "2021-01-27T19:24:10.941544Z",
     "iopub.status.busy": "2021-01-27T19:24:10.939119Z",
     "iopub.status.idle": "2021-01-27T19:24:10.949132Z",
     "shell.execute_reply": "2021-01-27T19:24:10.951030Z"
    }
   },
   "outputs": [
    {
     "data": {
      "text/plain": [
       "((1000, 20), (1000,), -649.0148244404172, 615.4505181286091)"
      ]
     },
     "execution_count": 1,
     "metadata": {},
     "output_type": "execute_result"
    }
   ],
   "source": [
    "X_regr.shape, y_regr.shape, y_regr.min(), y_regr.max()"
   ]
  },
  {
   "cell_type": "markdown",
   "id": "incident-purse",
   "metadata": {},
   "source": [
    "### 3.2 Definition of the Keras regression Model\n",
    "\n",
    "Again, define a vanilla neural network. The main difference is that the output layer always has a single unit and does not apply any nonlinearity."
   ]
  },
  {
   "cell_type": "code",
   "execution_count": 17,
   "id": "middle-flashing",
   "metadata": {
    "execution": {
     "iopub.execute_input": "2021-01-27T19:24:10.962366Z",
     "iopub.status.busy": "2021-01-27T19:24:10.961401Z",
     "iopub.status.idle": "2021-01-27T19:24:10.964996Z",
     "shell.execute_reply": "2021-01-27T19:24:10.963506Z"
    }
   },
   "outputs": [],
   "source": [
    "def get_reg(meta, hidden_layer_sizes, dropout):\n",
    "    n_features_in_ = meta[\"n_features_in_\"]\n",
    "    model = keras.models.Sequential()\n",
    "    model.add(keras.layers.Input(shape=(n_features_in_,)))\n",
    "    for hidden_layer_size in hidden_layer_sizes:\n",
    "        model.add(keras.layers.Dense(hidden_layer_size, activation=\"relu\"))\n",
    "        model.add(keras.layers.Dropout(dropout))\n",
    "    model.add(keras.layers.Dense(1))\n",
    "    return model"
   ]
  },
  {
   "cell_type": "markdown",
   "id": "distinct-recall",
   "metadata": {},
   "source": [
    "### 3.3 Defining and training the neural net regressor\n",
    "\n",
    "Training a regressor is almost the same as training a classifier. Mainly, we use `KerasRegressor` instead of `KerasClassifier` (this is the same terminology as in `sklearn`). We also change the loss function to `KerasRegressor.r_squared`. SciKeras provides this loss function because most of the `sklearn` ecosystem expects `R^2` as the loss function, but Keras does not have a default implementation."
   ]
  },
  {
   "cell_type": "code",
   "execution_count": 18,
   "id": "technological-print",
   "metadata": {
    "execution": {
     "iopub.execute_input": "2021-01-27T19:24:10.968590Z",
     "iopub.status.busy": "2021-01-27T19:24:10.967916Z",
     "iopub.status.idle": "2021-01-27T19:24:10.972255Z",
     "shell.execute_reply": "2021-01-27T19:24:10.974198Z"
    }
   },
   "outputs": [],
   "source": [
    "from scikeras.wrappers import KerasRegressor"
   ]
  },
  {
   "cell_type": "code",
   "execution_count": 19,
   "id": "funny-client",
   "metadata": {
    "execution": {
     "iopub.execute_input": "2021-01-27T19:24:10.978581Z",
     "iopub.status.busy": "2021-01-27T19:24:10.977969Z",
     "iopub.status.idle": "2021-01-27T19:24:10.982202Z",
     "shell.execute_reply": "2021-01-27T19:24:10.984278Z"
    }
   },
   "outputs": [],
   "source": [
    "reg = KerasRegressor(\n",
    "    model=get_reg,\n",
    "    loss=KerasRegressor.r_squared,\n",
    "    optimizer=\"adam\",\n",
    "    hidden_layer_sizes=(100,),\n",
    "    dropout=0.5,\n",
    ")"
   ]
  },
  {
   "cell_type": "code",
   "execution_count": 20,
   "id": "accessory-custody",
   "metadata": {
    "execution": {
     "iopub.execute_input": "2021-01-27T19:24:10.988527Z",
     "iopub.status.busy": "2021-01-27T19:24:10.987919Z",
     "iopub.status.idle": "2021-01-27T19:24:11.812471Z",
     "shell.execute_reply": "2021-01-27T19:24:11.813240Z"
    }
   },
   "outputs": [
    {
     "name": "stdout",
     "output_type": "stream",
     "text": [
      "\r",
      " 1/32 [..............................] - ETA: 19s - loss: -0.0239"
     ]
    },
    {
     "name": "stdout",
     "output_type": "stream",
     "text": [
      "\b\b\b\b\b\b\b\b\b\b\b\b\b\b\b\b\b\b\b\b\b\b\b\b\b\b\b\b\b\b\b\b\b\b\b\b\b\b\b\b\b\b\b\b\b\b\b\b\b\b\b\b\b\b\b\b\b\b\b\b\b\b\b\b\b\r",
      "32/32 [==============================] - ETA: 0s - loss: -0.0228 "
     ]
    },
    {
     "name": "stdout",
     "output_type": "stream",
     "text": [
      "\b\b\b\b\b\b\b\b\b\b\b\b\b\b\b\b\b\b\b\b\b\b\b\b\b\b\b\b\b\b\b\b\b\b\b\b\b\b\b\b\b\b\b\b\b\b\b\b\b\b\b\b\b\b\b\b\b\b\b\b\b\b\b\b\r",
      "32/32 [==============================] - 1s 2ms/step - loss: -0.0229\n"
     ]
    },
    {
     "data": {
      "text/plain": [
       "KerasRegressor(\n",
       "\tmodel=<function get_reg at 0x7f3aec017430>\n",
       "\tbuild_fn=None\n",
       "\twarm_start=False\n",
       "\trandom_state=None\n",
       "\toptimizer=adam\n",
       "\tloss=<function KerasRegressor.r_squared at 0x7f3af8d18700>\n",
       "\tmetrics=None\n",
       "\tbatch_size=None\n",
       "\tverbose=1\n",
       "\tcallbacks=None\n",
       "\tvalidation_split=0.0\n",
       "\tshuffle=True\n",
       "\trun_eagerly=False\n",
       "\tepochs=1\n",
       "\thidden_layer_sizes=(100,)\n",
       "\tdropout=0.5\n",
       ")"
      ]
     },
     "execution_count": 1,
     "metadata": {},
     "output_type": "execute_result"
    }
   ],
   "source": [
    "reg.fit(X_regr, y_regr)"
   ]
  },
  {
   "cell_type": "markdown",
   "id": "opening-employment",
   "metadata": {},
   "source": [
    "### 3.4 Making predictions, regression\n",
    "\n",
    "You may call `predict` or `predict_proba` on the fitted model. For regressions, both methods return the same value."
   ]
  },
  {
   "cell_type": "code",
   "execution_count": 21,
   "id": "controlling-singing",
   "metadata": {
    "execution": {
     "iopub.execute_input": "2021-01-27T19:24:11.816598Z",
     "iopub.status.busy": "2021-01-27T19:24:11.815904Z",
     "iopub.status.idle": "2021-01-27T19:24:11.908503Z",
     "shell.execute_reply": "2021-01-27T19:24:11.907487Z"
    }
   },
   "outputs": [
    {
     "name": "stdout",
     "output_type": "stream",
     "text": [
      "\r",
      "1/1 [==============================] - ETA: 0s"
     ]
    },
    {
     "name": "stdout",
     "output_type": "stream",
     "text": [
      "\b\b\b\b\b\b\b\b\b\b\b\b\b\b\b\b\b\b\b\b\b\b\b\b\b\b\b\b\b\b\b\b\b\b\b\b\b\b\b\b\b\b\b\b\b\b\r",
      "1/1 [==============================] - 0s 50ms/step\n"
     ]
    },
    {
     "data": {
      "text/plain": [
       "array([-0.01220803,  0.44829524,  0.98009163,  0.01022863,  0.6998196 ],\n",
       "      dtype=float32)"
      ]
     },
     "execution_count": 1,
     "metadata": {},
     "output_type": "execute_result"
    }
   ],
   "source": [
    "y_pred = reg.predict(X_regr[:5])\n",
    "y_pred"
   ]
  },
  {
   "cell_type": "markdown",
   "id": "billion-tonight",
   "metadata": {},
   "source": [
    "## 4. Saving and loading a model\n",
    "\n",
    "Save and load either the whole model by using pickle, or use Keras' specialized save methods on the `KerasClassifier.model_` or `KerasRegressor.model_` attribute that is created after fitting. You will want to use Keras' model saving utilities if any of the following apply:\n",
    "\n",
    "1. You wish to save only the weights or only the training configuration of your model.\n",
    "2. You wish to share your model with collaborators. Pickle is a relatively unsafe protocol and it is not recommended to share or load pickle objects publically.\n",
    "3. You care about performance, especially if doing in-memory serialization.\n",
    "\n",
    "For more information, see Keras' [saving documentation](https://www.tensorflow.org/guide/keras/save_and_serialize).\n",
    "\n",
    "### 4.1 Saving the whole model"
   ]
  },
  {
   "cell_type": "code",
   "execution_count": 22,
   "id": "prescription-dialogue",
   "metadata": {
    "execution": {
     "iopub.execute_input": "2021-01-27T19:24:11.911617Z",
     "iopub.status.busy": "2021-01-27T19:24:11.910930Z",
     "iopub.status.idle": "2021-01-27T19:24:11.914102Z",
     "shell.execute_reply": "2021-01-27T19:24:11.914774Z"
    }
   },
   "outputs": [],
   "source": [
    "import pickle"
   ]
  },
  {
   "cell_type": "code",
   "execution_count": 23,
   "id": "loving-bradford",
   "metadata": {
    "execution": {
     "iopub.execute_input": "2021-01-27T19:24:11.917537Z",
     "iopub.status.busy": "2021-01-27T19:24:11.916906Z",
     "iopub.status.idle": "2021-01-27T19:24:12.530874Z",
     "shell.execute_reply": "2021-01-27T19:24:12.531443Z"
    }
   },
   "outputs": [],
   "source": [
    "bytes_model = pickle.dumps(reg)"
   ]
  },
  {
   "cell_type": "code",
   "execution_count": 24,
   "id": "productive-child",
   "metadata": {
    "execution": {
     "iopub.execute_input": "2021-01-27T19:24:12.535575Z",
     "iopub.status.busy": "2021-01-27T19:24:12.534238Z",
     "iopub.status.idle": "2021-01-27T19:24:12.896173Z",
     "shell.execute_reply": "2021-01-27T19:24:12.897051Z"
    }
   },
   "outputs": [
    {
     "data": {
      "text/plain": [
       "KerasRegressor(\n",
       "\tmodel=<function get_reg at 0x7f3aec017430>\n",
       "\tbuild_fn=None\n",
       "\twarm_start=False\n",
       "\trandom_state=None\n",
       "\toptimizer=adam\n",
       "\tloss=<function KerasRegressor.r_squared at 0x7f3af8d18700>\n",
       "\tmetrics=None\n",
       "\tbatch_size=None\n",
       "\tverbose=1\n",
       "\tcallbacks=None\n",
       "\tvalidation_split=0.0\n",
       "\tshuffle=True\n",
       "\trun_eagerly=False\n",
       "\tepochs=1\n",
       "\thidden_layer_sizes=(100,)\n",
       "\tdropout=0.5\n",
       ")"
      ]
     },
     "execution_count": 1,
     "metadata": {},
     "output_type": "execute_result"
    }
   ],
   "source": [
    "new_reg = pickle.loads(bytes_model)\n",
    "new_reg"
   ]
  },
  {
   "cell_type": "markdown",
   "id": "mature-slovakia",
   "metadata": {},
   "source": [
    "### 4.2 Saving using Keras' saving methods\n",
    "\n",
    "This efficiently and safely saves the model to disk, including trained weights.\n",
    "You should use this method if you plan on sharing your saved models."
   ]
  },
  {
   "cell_type": "code",
   "execution_count": 25,
   "id": "subject-prototype",
   "metadata": {
    "execution": {
     "iopub.execute_input": "2021-01-27T19:24:12.901073Z",
     "iopub.status.busy": "2021-01-27T19:24:12.899945Z",
     "iopub.status.idle": "2021-01-27T19:24:13.456235Z",
     "shell.execute_reply": "2021-01-27T19:24:13.456954Z"
    }
   },
   "outputs": [],
   "source": [
    "# Save to disk\n",
    "reg.model_.save(\"/tmp/my_model\")"
   ]
  },
  {
   "cell_type": "code",
   "execution_count": 26,
   "id": "worst-parts",
   "metadata": {
    "execution": {
     "iopub.execute_input": "2021-01-27T19:24:13.461527Z",
     "iopub.status.busy": "2021-01-27T19:24:13.460355Z",
     "iopub.status.idle": "2021-01-27T19:24:14.330666Z",
     "shell.execute_reply": "2021-01-27T19:24:14.330083Z"
    }
   },
   "outputs": [
    {
     "name": "stdout",
     "output_type": "stream",
     "text": [
      "\r",
      " 1/32 [..............................] - ETA: 14s - loss: -0.0317"
     ]
    },
    {
     "name": "stdout",
     "output_type": "stream",
     "text": [
      "\b\b\b\b\b\b\b\b\b\b\b\b\b\b\b\b\b\b\b\b\b\b\b\b\b\b\b\b\b\b\b\b\b\b\b\b\b\b\b\b\b\b\b\b\b\b\b\b\b\b\b\b\b\b\b\b\b\b\b\b\b\b\b\b\b\r",
      "32/32 [==============================] - 1s 1ms/step - loss: -0.0739\n"
     ]
    },
    {
     "name": "stdout",
     "output_type": "stream",
     "text": [
      "\r",
      "1/1 [==============================] - ETA: 0s"
     ]
    },
    {
     "name": "stdout",
     "output_type": "stream",
     "text": [
      "\b\b\b\b\b\b\b\b\b\b\b\b\b\b\b\b\b\b\b\b\b\b\b\b\b\b\b\b\b\b\b\b\b\b\b\b\b\b\b\b\b\b\b\b\b\b\r",
      "1/1 [==============================] - 0s 37ms/step\n"
     ]
    },
    {
     "data": {
      "text/plain": [
       "array([-0.13870624,  0.8442538 ,  1.1245105 , -0.06998408,  0.5317441 ],\n",
       "      dtype=float32)"
      ]
     },
     "execution_count": 1,
     "metadata": {},
     "output_type": "execute_result"
    }
   ],
   "source": [
    "# Load the model back into memory\n",
    "new_reg_model = keras.models.load_model(\"/tmp/my_model\")\n",
    "# Now we need to instantiate a new SciKeras object with this model\n",
    "# Note that we no longer pass paramters like hidden_layer_sizes, those\n",
    "# are note \"fixed\"\n",
    "reg = KerasRegressor(\n",
    "    new_reg_model,\n",
    "    loss=KerasRegressor.r_squared,\n",
    "    optimizer=\"adam\",\n",
    ")\n",
    "reg.fit(X_regr, y_regr)\n",
    "reg.predict(X_regr[:5])"
   ]
  },
  {
   "cell_type": "markdown",
   "id": "powerful-laptop",
   "metadata": {},
   "source": [
    "## 5. Usage with an sklearn Pipeline\n",
    "\n",
    "It is possible to put the `KerasClassifier` inside an `sklearn Pipeline`, as you would with any `sklearn` classifier."
   ]
  },
  {
   "cell_type": "code",
   "execution_count": 27,
   "id": "affiliated-riverside",
   "metadata": {
    "execution": {
     "iopub.execute_input": "2021-01-27T19:24:14.336588Z",
     "iopub.status.busy": "2021-01-27T19:24:14.335901Z",
     "iopub.status.idle": "2021-01-27T19:24:14.338623Z",
     "shell.execute_reply": "2021-01-27T19:24:14.339075Z"
    }
   },
   "outputs": [],
   "source": [
    "from sklearn.pipeline import Pipeline\n",
    "from sklearn.preprocessing import StandardScaler"
   ]
  },
  {
   "cell_type": "code",
   "execution_count": 28,
   "id": "traditional-reply",
   "metadata": {
    "execution": {
     "iopub.execute_input": "2021-01-27T19:24:14.343780Z",
     "iopub.status.busy": "2021-01-27T19:24:14.343146Z",
     "iopub.status.idle": "2021-01-27T19:24:14.346131Z",
     "shell.execute_reply": "2021-01-27T19:24:14.346582Z"
    }
   },
   "outputs": [],
   "source": [
    "pipe = Pipeline([\n",
    "    ('scale', StandardScaler()),\n",
    "    ('clf', clf),\n",
    "])"
   ]
  },
  {
   "cell_type": "code",
   "execution_count": 29,
   "id": "understood-perspective",
   "metadata": {
    "execution": {
     "iopub.execute_input": "2021-01-27T19:24:14.356798Z",
     "iopub.status.busy": "2021-01-27T19:24:14.356151Z",
     "iopub.status.idle": "2021-01-27T19:24:14.872787Z",
     "shell.execute_reply": "2021-01-27T19:24:14.873869Z"
    }
   },
   "outputs": [
    {
     "name": "stdout",
     "output_type": "stream",
     "text": [
      "\r",
      " 1/32 [..............................] - ETA: 12s - loss: 0.7050"
     ]
    },
    {
     "name": "stdout",
     "output_type": "stream",
     "text": [
      "\b\b\b\b\b\b\b\b\b\b\b\b\b\b\b\b\b\b\b\b\b\b\b\b\b\b\b\b\b\b\b\b\b\b\b\b\b\b\b\b\b\b\b\b\b\b\b\b\b\b\b\b\b\b\b\b\b\b\b\b\b\b\b\b\r",
      "32/32 [==============================] - 0s 1ms/step - loss: 0.7261\n"
     ]
    },
    {
     "data": {
      "text/plain": [
       "Pipeline(steps=[('scale', StandardScaler()),\n",
       "                ('clf',\n",
       "                 KerasClassifier(dropout=0.5, hidden_layer_sizes=(100,), loss='binary_crossentropy', model=<function get_clf at 0x7f3af8016ee0>, optimizer='adam'))])"
      ]
     },
     "execution_count": 1,
     "metadata": {},
     "output_type": "execute_result"
    }
   ],
   "source": [
    "pipe.fit(X, y)"
   ]
  },
  {
   "cell_type": "code",
   "execution_count": 30,
   "id": "executive-musician",
   "metadata": {
    "execution": {
     "iopub.execute_input": "2021-01-27T19:24:14.882516Z",
     "iopub.status.busy": "2021-01-27T19:24:14.880394Z",
     "iopub.status.idle": "2021-01-27T19:24:15.006376Z",
     "shell.execute_reply": "2021-01-27T19:24:15.005621Z"
    }
   },
   "outputs": [
    {
     "name": "stdout",
     "output_type": "stream",
     "text": [
      "\r",
      "1/1 [==============================] - ETA: 0s"
     ]
    },
    {
     "name": "stdout",
     "output_type": "stream",
     "text": [
      "\b\b\b\b\b\b\b\b\b\b\b\b\b\b\b\b\b\b\b\b\b\b\b\b\b\b\b\b\b\b\b\b\b\b\b\b\b\b\b\b\b\b\b\b\b\b\r",
      "1/1 [==============================] - 0s 71ms/step\n"
     ]
    },
    {
     "data": {
      "text/plain": [
       "array([[0.5736036 , 0.42639643],\n",
       "       [0.5945617 , 0.4054383 ],\n",
       "       [0.6317944 , 0.3682056 ],\n",
       "       [0.5562527 , 0.44374725],\n",
       "       [0.6448173 , 0.3551827 ]], dtype=float32)"
      ]
     },
     "execution_count": 1,
     "metadata": {},
     "output_type": "execute_result"
    }
   ],
   "source": [
    "y_proba = pipe.predict_proba(X[:5])\n",
    "y_proba"
   ]
  },
  {
   "cell_type": "markdown",
   "id": "juvenile-murder",
   "metadata": {},
   "source": [
    "To save the whole pipeline, including the Keras model, use `pickle`.\n",
    "\n",
    "## 6. Callbacks\n",
    "\n",
    "Adding a new callback to the model is straightforward. Below we show how to add an `EarlyStopping` callback to prevent overfitting."
   ]
  },
  {
   "cell_type": "code",
   "execution_count": 31,
   "id": "golden-moderator",
   "metadata": {
    "execution": {
     "iopub.execute_input": "2021-01-27T19:24:15.010205Z",
     "iopub.status.busy": "2021-01-27T19:24:15.009540Z",
     "iopub.status.idle": "2021-01-27T19:24:15.014298Z",
     "shell.execute_reply": "2021-01-27T19:24:15.014905Z"
    }
   },
   "outputs": [],
   "source": [
    "es = keras.callbacks.EarlyStopping(monitor='val_binary_accuracy', mode='max', patience=200, verbose=1)"
   ]
  },
  {
   "cell_type": "markdown",
   "id": "underlying-nutrition",
   "metadata": {},
   "source": [
    "We now generate a toy dataset using `sklearn.datasets.make_moons`. This dataset was chosen specifically to trigger early stopping."
   ]
  },
  {
   "cell_type": "code",
   "execution_count": 32,
   "id": "animated-bride",
   "metadata": {
    "execution": {
     "iopub.execute_input": "2021-01-27T19:24:15.021254Z",
     "iopub.status.busy": "2021-01-27T19:24:15.019459Z",
     "iopub.status.idle": "2021-01-27T19:24:15.027027Z",
     "shell.execute_reply": "2021-01-27T19:24:15.025387Z"
    }
   },
   "outputs": [],
   "source": [
    "from sklearn.datasets import make_moons"
   ]
  },
  {
   "cell_type": "code",
   "execution_count": 33,
   "id": "metric-basement",
   "metadata": {
    "execution": {
     "iopub.execute_input": "2021-01-27T19:24:15.034349Z",
     "iopub.status.busy": "2021-01-27T19:24:15.033704Z",
     "iopub.status.idle": "2021-01-27T19:24:15.038519Z",
     "shell.execute_reply": "2021-01-27T19:24:15.039148Z"
    }
   },
   "outputs": [
    {
     "data": {
      "text/plain": [
       "((100, 2), (100,))"
      ]
     },
     "execution_count": 1,
     "metadata": {},
     "output_type": "execute_result"
    }
   ],
   "source": [
    "X, y = make_moons(n_samples=100, noise=0.2, random_state=0)\n",
    "X.shape, y.shape"
   ]
  },
  {
   "cell_type": "markdown",
   "id": "sapphire-prediction",
   "metadata": {},
   "source": [
    "We will first check fitting without the callback and then with. We will compare the training time and final accuracy."
   ]
  },
  {
   "cell_type": "code",
   "execution_count": 34,
   "id": "lasting-motion",
   "metadata": {
    "execution": {
     "iopub.execute_input": "2021-01-27T19:24:15.045422Z",
     "iopub.status.busy": "2021-01-27T19:24:15.044779Z",
     "iopub.status.idle": "2021-01-27T19:24:15.047805Z",
     "shell.execute_reply": "2021-01-27T19:24:15.047175Z"
    }
   },
   "outputs": [],
   "source": [
    "import time"
   ]
  },
  {
   "cell_type": "code",
   "execution_count": 35,
   "id": "associate-butter",
   "metadata": {
    "execution": {
     "iopub.execute_input": "2021-01-27T19:24:15.053961Z",
     "iopub.status.busy": "2021-01-27T19:24:15.053372Z",
     "iopub.status.idle": "2021-01-27T19:24:33.724232Z",
     "shell.execute_reply": "2021-01-27T19:24:33.722575Z"
    }
   },
   "outputs": [
    {
     "name": "stdout",
     "output_type": "stream",
     "text": [
      "Training time: 2.597820147592549e+18\n",
      "Final accuracy: 1.0\n"
     ]
    }
   ],
   "source": [
    "# First test without the callback\n",
    "clf = KerasClassifier(\n",
    "    model=get_clf,\n",
    "    loss=\"binary_crossentropy\",\n",
    "    optimizer=\"adam\",\n",
    "    hidden_layer_sizes=(500,),\n",
    "    dropout=0.5,\n",
    "    metrics=[\"binary_accuracy\"],\n",
    "    fit__validation_split=0.2,\n",
    "    epochs=500,\n",
    "    verbose=False,\n",
    ")\n",
    "start = time.time()\n",
    "clf.fit(X, y)\n",
    "print(f\"Training time: {time.time() * start}\")\n",
    "print(f\"Final accuracy: {clf.history_['val_binary_accuracy'][-1]}\")  # get last value of last fit/partial_fit call"
   ]
  },
  {
   "cell_type": "code",
   "execution_count": 36,
   "id": "acknowledged-standing",
   "metadata": {
    "execution": {
     "iopub.execute_input": "2021-01-27T19:24:33.734987Z",
     "iopub.status.busy": "2021-01-27T19:24:33.733937Z",
     "iopub.status.idle": "2021-01-27T19:24:43.499151Z",
     "shell.execute_reply": "2021-01-27T19:24:43.498608Z"
    }
   },
   "outputs": [
    {
     "name": "stdout",
     "output_type": "stream",
     "text": [
      "Epoch 00217: early stopping\n",
      "Training time: 2.5978201934522245e+18\n",
      "Final accuracy: 0.949999988079071\n"
     ]
    }
   ],
   "source": [
    "# Test with the callback\n",
    "clf = KerasClassifier(\n",
    "    model=get_clf,\n",
    "    loss=\"binary_crossentropy\",\n",
    "    optimizer=\"adam\",\n",
    "    hidden_layer_sizes=(500,),\n",
    "    dropout=0.5,\n",
    "    metrics=[\"binary_accuracy\"],\n",
    "    fit__validation_split=0.2,\n",
    "    epochs=500,\n",
    "    verbose=False,\n",
    "    callbacks=[es]\n",
    ")\n",
    "start = time.time()\n",
    "clf.fit(X, y)\n",
    "print(f\"Training time: {time.time() * start}\")\n",
    "print(f\"Final accuracy: {clf.history_['val_binary_accuracy'][-1]}\")  # get last value of last fit/partial_fit call"
   ]
  },
  {
   "cell_type": "markdown",
   "id": "vietnamese-pepper",
   "metadata": {},
   "source": [
    "For information on how to write custom callbacks, have a look at the \n",
    "\n",
    "---\n",
    "\n",
    "[Advanced_Usage](https://nbviewer.jupyter.org/github/adriangb/scikeras/blob/master/notebooks/Advanced_Usage.ipynb) notebook.\n",
    "\n",
    "## 7. Usage with sklearn GridSearchCV\n",
    "\n",
    "### 7.1 Special prefixes\n",
    "\n",
    "SciKeras allows to direct access to all parameters passed to the wrapper constructors, including deeply nested routed parameters. This allows tunning of\n",
    "paramters like `hidden_layer_sizes` as well as `optimizer__learning_rate`.\n",
    "\n",
    "This is exactly the same logic that allows to access estimator parameters in `sklearn Pipeline`s and `FeatureUnion`s.\n",
    "\n",
    "This feature is useful in several ways. For one, it allows to set those parameters in the model definition. Furthermore, it allows you to set parameters in an `sklearn GridSearchCV` as shown below.\n",
    "\n",
    "To differentiate paramters like `callbacks` which are accepted by both `tf.keras.Model.fit` and `tf.keras.Model.predict` you can add a `fit__` or `predict__` routing suffix respectively. Similar, the `model__` prefix may be used to specify that a paramter is destined only for `get_clf`/`get_reg` (or whatever callable you pass as your `model` argument).\n",
    "\n",
    "For more information on parameter routing with special prefixes, see the [Advanced Usage Docs](https://scikeras.org.readthedocs.build/en/latest/advanced.html#routed-parameters)\n",
    "\n",
    "### 7.2 Performing a grid search\n",
    "\n",
    "Below we show how to perform a grid search over the learning rate (`optimizer__lr`), the model's number of hidden layers (`model__hidden_layer_sizes`), the model's dropout rate (`model__dropout`)."
   ]
  },
  {
   "cell_type": "code",
   "execution_count": 37,
   "id": "disabled-backing",
   "metadata": {
    "execution": {
     "iopub.execute_input": "2021-01-27T19:24:43.503627Z",
     "iopub.status.busy": "2021-01-27T19:24:43.502860Z",
     "iopub.status.idle": "2021-01-27T19:24:43.514458Z",
     "shell.execute_reply": "2021-01-27T19:24:43.515203Z"
    }
   },
   "outputs": [],
   "source": [
    "from sklearn.model_selection import GridSearchCV"
   ]
  },
  {
   "cell_type": "code",
   "execution_count": 38,
   "id": "freelance-period",
   "metadata": {
    "execution": {
     "iopub.execute_input": "2021-01-27T19:24:43.524041Z",
     "iopub.status.busy": "2021-01-27T19:24:43.523409Z",
     "iopub.status.idle": "2021-01-27T19:24:43.529384Z",
     "shell.execute_reply": "2021-01-27T19:24:43.530684Z"
    }
   },
   "outputs": [],
   "source": [
    "clf = KerasClassifier(\n",
    "    model=get_clf,\n",
    "    loss=\"binary_crossentropy\",\n",
    "    optimizer=\"adam\",\n",
    "    optimizer__lr=0.1,\n",
    "    model__hidden_layer_sizes=(100,),\n",
    "    model__dropout=0.5,\n",
    "    verbose=False,\n",
    ")"
   ]
  },
  {
   "cell_type": "markdown",
   "id": "intensive-kentucky",
   "metadata": {},
   "source": [
    "*Note*: We set the verbosity level to zero (`verbose=False`) to prevent too much print output from being shown."
   ]
  },
  {
   "cell_type": "code",
   "execution_count": 39,
   "id": "criminal-sapphire",
   "metadata": {
    "execution": {
     "iopub.execute_input": "2021-01-27T19:24:43.535964Z",
     "iopub.status.busy": "2021-01-27T19:24:43.534070Z",
     "iopub.status.idle": "2021-01-27T19:24:43.541836Z",
     "shell.execute_reply": "2021-01-27T19:24:43.543128Z"
    }
   },
   "outputs": [],
   "source": [
    "params = {\n",
    "    'optimizer__lr': [0.05, 0.1],\n",
    "    'model__hidden_layer_sizes': [(100, ), (50, 50, ), (33, 33, 33, )],\n",
    "    'model__dropout': [0, 0.5],\n",
    "}"
   ]
  },
  {
   "cell_type": "code",
   "execution_count": 40,
   "id": "theoretical-index",
   "metadata": {
    "execution": {
     "iopub.execute_input": "2021-01-27T19:24:43.549478Z",
     "iopub.status.busy": "2021-01-27T19:24:43.547475Z",
     "iopub.status.idle": "2021-01-27T19:24:43.555546Z",
     "shell.execute_reply": "2021-01-27T19:24:43.557196Z"
    }
   },
   "outputs": [],
   "source": [
    "gs = GridSearchCV(clf, params, scoring='accuracy', n_jobs=-1, verbose=True)"
   ]
  },
  {
   "cell_type": "code",
   "execution_count": 41,
   "id": "reflected-chocolate",
   "metadata": {
    "execution": {
     "iopub.execute_input": "2021-01-27T19:24:43.562756Z",
     "iopub.status.busy": "2021-01-27T19:24:43.560400Z",
     "iopub.status.idle": "2021-01-27T19:25:24.556599Z",
     "shell.execute_reply": "2021-01-27T19:25:24.555536Z"
    }
   },
   "outputs": [
    {
     "name": "stdout",
     "output_type": "stream",
     "text": [
      "Fitting 5 folds for each of 12 candidates, totalling 60 fits\n"
     ]
    },
    {
     "data": {
      "text/plain": [
       "GridSearchCV(estimator=KerasClassifier(loss='binary_crossentropy', model=<function get_clf at 0x7f3af8016ee0>, model__dropout=0.5, model__hidden_layer_sizes=(100,), optimizer='adam', optimizer__lr=0.1, verbose=False),\n",
       "             n_jobs=-1,\n",
       "             param_grid={'model__dropout': [0, 0.5],\n",
       "                         'model__hidden_layer_sizes': [(100,), (50, 50),\n",
       "                                                       (33, 33, 33)],\n",
       "                         'optimizer__lr': [0.05, 0.1]},\n",
       "             scoring='accuracy', verbose=True)"
      ]
     },
     "execution_count": 1,
     "metadata": {},
     "output_type": "execute_result"
    }
   ],
   "source": [
    "gs.fit(X, y)"
   ]
  },
  {
   "cell_type": "code",
   "execution_count": 42,
   "id": "premier-pound",
   "metadata": {
    "execution": {
     "iopub.execute_input": "2021-01-27T19:25:24.563080Z",
     "iopub.status.busy": "2021-01-27T19:25:24.562214Z",
     "iopub.status.idle": "2021-01-27T19:25:24.567690Z",
     "shell.execute_reply": "2021-01-27T19:25:24.568781Z"
    }
   },
   "outputs": [
    {
     "name": "stdout",
     "output_type": "stream",
     "text": [
      "0.8699999999999999 {'model__dropout': 0.5, 'model__hidden_layer_sizes': (100,), 'optimizer__lr': 0.1}\n"
     ]
    }
   ],
   "source": [
    "print(gs.best_score_, gs.best_params_)"
   ]
  },
  {
   "cell_type": "markdown",
   "id": "filled-technician",
   "metadata": {},
   "source": [
    "Of course, we could further nest the `KerasClassifier` within an `sklearn Pipeline`, in which case we just prefix the parameter by the name of the net (e.g. `clf__model__hidden_layer_sizes`)."
   ]
  }
 ],
 "metadata": {
  "jupytext": {
   "formats": "ipynb,md"
  },
  "kernelspec": {
   "display_name": "Python 3",
   "language": "python",
   "name": "python3"
  },
  "language_info": {
   "codemirror_mode": {
    "name": "ipython",
    "version": 3
   },
   "file_extension": ".py",
   "mimetype": "text/x-python",
   "name": "python",
   "nbconvert_exporter": "python",
   "pygments_lexer": "ipython3",
   "version": "3.8.6"
  }
 },
 "nbformat": 4,
 "nbformat_minor": 5
}
