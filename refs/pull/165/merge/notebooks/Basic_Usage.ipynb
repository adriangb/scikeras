{
 "cells": [
  {
   "cell_type": "raw",
   "id": "jewish-person",
   "metadata": {},
   "source": [
    "<a href=\"https://colab.research.google.com/github/adriangb/scikeras/blob/docs-deploy/refs/heads/master/notebooks/Basic_Usage.ipynb\"><img src=\"https://www.tensorflow.org/images/colab_logo_32px.png\">Run in Google Colab</a>"
   ]
  },
  {
   "cell_type": "markdown",
   "id": "scheduled-pleasure",
   "metadata": {},
   "source": [
    "# Basic usage\n",
    "\n",
    "`SciKeras` is designed to maximize interoperability between `sklearn` and `Keras/TensorFlow`. The aim is to keep 99% of the flexibility of `Keras` while being able to leverage most features of `sklearn`. Below, we show the basic usage of `SciKeras` and how it can be combined with `sklearn`.\n",
    "\n",
    "This notebook shows you how to use the basic functionality of `SciKeras`.\n",
    "\n",
    "## Table of contents\n",
    "\n",
    "* [1. Setup](#1.-Setup)\n",
    "* [2. Training a classifier and making predictions](#2.-Training-a-classifier-and-making-predictions)\n",
    "  * [2.1 A toy binary classification task](#2.1-A-toy-binary-classification-task)\n",
    "  * [2.2 Definition of the Keras classification Model](#2.2-Definition-of-the-Keras-classification-Model)\n",
    "  * [2.3 Defining and training the neural net classifier](#2.3-Defining-and-training-the-neural-net-classifier)\n",
    "  * [2.4 Making predictions, classification](#2.4-Making-predictions-classification)\n",
    "* [3 Training a regressor](#3.-Training-a-regressor)\n",
    "  * [3.1 A toy regression task](#3.1-A-toy-regression-task)\n",
    "  * [3.2 Definition of the Keras regression Model](#3.2-Definition-of-the-Keras-regression-Model)\n",
    "  * [3.3 Defining and training the neural net regressor](#3.3-Defining-and-training-the-neural-net-regressor)\n",
    "  * [3.4 Making predictions, regression](#3.4-Making-predictions-regression)\n",
    "* [4. Saving and loading a model](#4.-Saving-and-loading-a-model)\n",
    "  * [4.1 Saving the whole model](#4.1-Saving-the-whole-model)\n",
    "  * [4.2 Saving using Keras' saving methods](#4.2-Saving-using-Keras-saving-methods)\n",
    "* [5. Usage with an sklearn Pipeline](#5.-Usage-with-an-sklearn-Pipeline)\n",
    "* [6. Callbacks](#6.-Callbacks)\n",
    "* [7. Usage with sklearn GridSearchCV](#7.-Usage-with-sklearn-GridSearchCV)\n",
    "  * [7.1 Special prefixes](#7.1-Special-prefixes)\n",
    "  * [7.2 Performing a grid search](#7.2-Performing-a-grid-search)\n",
    "\n",
    "## 1. Setup"
   ]
  },
  {
   "cell_type": "code",
   "execution_count": 1,
   "id": "suburban-third",
   "metadata": {
    "execution": {
     "iopub.execute_input": "2021-01-27T18:21:02.257826Z",
     "iopub.status.busy": "2021-01-27T18:21:02.257195Z",
     "iopub.status.idle": "2021-01-27T18:21:04.150719Z",
     "shell.execute_reply": "2021-01-27T18:21:04.151582Z"
    }
   },
   "outputs": [],
   "source": [
    "try:\n",
    "    import scikeras\n",
    "except ImportError:\n",
    "    !python -m pip install scikeras"
   ]
  },
  {
   "cell_type": "markdown",
   "id": "neither-hunter",
   "metadata": {},
   "source": [
    "Silence TensorFlow logging to keep output succinct."
   ]
  },
  {
   "cell_type": "code",
   "execution_count": 2,
   "id": "delayed-number",
   "metadata": {
    "execution": {
     "iopub.execute_input": "2021-01-27T18:21:04.162191Z",
     "iopub.status.busy": "2021-01-27T18:21:04.154243Z",
     "iopub.status.idle": "2021-01-27T18:21:04.164885Z",
     "shell.execute_reply": "2021-01-27T18:21:04.165607Z"
    }
   },
   "outputs": [],
   "source": [
    "import warnings\n",
    "from tensorflow import get_logger\n",
    "get_logger().setLevel('ERROR')\n",
    "warnings.filterwarnings(\"ignore\", message=\"Setting the random state for TF\")"
   ]
  },
  {
   "cell_type": "code",
   "execution_count": 3,
   "id": "constant-professional",
   "metadata": {
    "execution": {
     "iopub.execute_input": "2021-01-27T18:21:04.168962Z",
     "iopub.status.busy": "2021-01-27T18:21:04.168431Z",
     "iopub.status.idle": "2021-01-27T18:21:04.644567Z",
     "shell.execute_reply": "2021-01-27T18:21:04.645744Z"
    }
   },
   "outputs": [],
   "source": [
    "import numpy as np\n",
    "from scikeras.wrappers import KerasClassifier, KerasRegressor\n",
    "from tensorflow import keras"
   ]
  },
  {
   "cell_type": "markdown",
   "id": "elect-causing",
   "metadata": {},
   "source": [
    "## 2. Training a classifier and making predictions\n",
    "\n",
    "### 2.1 A toy binary classification task\n",
    "\n",
    "We load a toy classification task from `sklearn`."
   ]
  },
  {
   "cell_type": "code",
   "execution_count": 4,
   "id": "muslim-aluminum",
   "metadata": {
    "execution": {
     "iopub.execute_input": "2021-01-27T18:21:04.651070Z",
     "iopub.status.busy": "2021-01-27T18:21:04.649952Z",
     "iopub.status.idle": "2021-01-27T18:21:04.688246Z",
     "shell.execute_reply": "2021-01-27T18:21:04.687509Z"
    }
   },
   "outputs": [],
   "source": [
    "import numpy as np\n",
    "from sklearn.datasets import make_classification"
   ]
  },
  {
   "cell_type": "code",
   "execution_count": 5,
   "id": "excited-newfoundland",
   "metadata": {
    "execution": {
     "iopub.execute_input": "2021-01-27T18:21:04.694997Z",
     "iopub.status.busy": "2021-01-27T18:21:04.694421Z",
     "iopub.status.idle": "2021-01-27T18:21:04.701976Z",
     "shell.execute_reply": "2021-01-27T18:21:04.701318Z"
    }
   },
   "outputs": [],
   "source": [
    "X, y = make_classification(1000, 20, n_informative=10, random_state=0)"
   ]
  },
  {
   "cell_type": "code",
   "execution_count": 6,
   "id": "indian-formation",
   "metadata": {
    "execution": {
     "iopub.execute_input": "2021-01-27T18:21:04.716818Z",
     "iopub.status.busy": "2021-01-27T18:21:04.715226Z",
     "iopub.status.idle": "2021-01-27T18:21:04.722356Z",
     "shell.execute_reply": "2021-01-27T18:21:04.723114Z"
    }
   },
   "outputs": [
    {
     "data": {
      "text/plain": [
       "((1000, 20), (1000,), 0.5)"
      ]
     },
     "execution_count": 1,
     "metadata": {},
     "output_type": "execute_result"
    }
   ],
   "source": [
    "X.shape, y.shape, y.mean()"
   ]
  },
  {
   "cell_type": "markdown",
   "id": "medical-appeal",
   "metadata": {},
   "source": [
    "### 2.2 Definition of the Keras classification Model\n",
    "\n",
    "We define a vanilla neural network with.\n",
    "\n",
    "Because we are dealing with 2 classes, the output layer can be constructed in\n",
    "two different ways:\n",
    "\n",
    "1. Single unit with a `\"sigmoid\"` nonlinearity. The loss must be `\"binary_crossentropy\"`.\n",
    "2. Two units (one for each class) and a `\"softmax\"` nonlinearity. The loss must be `\"sparse_categorical_crossentropy\"`.\n",
    "\n",
    "In this example, we choose the first option, which is what you would usually\n",
    "do for binary classification. The second option is usually reserved for when\n",
    "you have >2 classes."
   ]
  },
  {
   "cell_type": "code",
   "execution_count": 7,
   "id": "nasty-investor",
   "metadata": {
    "execution": {
     "iopub.execute_input": "2021-01-27T18:21:04.727506Z",
     "iopub.status.busy": "2021-01-27T18:21:04.726935Z",
     "iopub.status.idle": "2021-01-27T18:21:04.729673Z",
     "shell.execute_reply": "2021-01-27T18:21:04.730391Z"
    }
   },
   "outputs": [],
   "source": [
    "from tensorflow import keras"
   ]
  },
  {
   "cell_type": "code",
   "execution_count": 8,
   "id": "stretch-scott",
   "metadata": {
    "execution": {
     "iopub.execute_input": "2021-01-27T18:21:04.734699Z",
     "iopub.status.busy": "2021-01-27T18:21:04.733533Z",
     "iopub.status.idle": "2021-01-27T18:21:04.741004Z",
     "shell.execute_reply": "2021-01-27T18:21:04.741504Z"
    }
   },
   "outputs": [],
   "source": [
    "def get_clf(meta, hidden_layer_sizes, dropout):\n",
    "    n_features_in_ = meta[\"n_features_in_\"]\n",
    "    n_classes_ = meta[\"n_classes_\"]\n",
    "    model = keras.models.Sequential()\n",
    "    model.add(keras.layers.Input(shape=(n_features_in_,)))\n",
    "    for hidden_layer_size in hidden_layer_sizes:\n",
    "        model.add(keras.layers.Dense(hidden_layer_size, activation=\"relu\"))\n",
    "        model.add(keras.layers.Dropout(dropout))\n",
    "    model.add(keras.layers.Dense(1, activation=\"sigmoid\"))\n",
    "    return model"
   ]
  },
  {
   "cell_type": "markdown",
   "id": "bottom-monroe",
   "metadata": {},
   "source": [
    "### 2.3 Defining and training the neural net classifier\n",
    "\n",
    "We use `KerasClassifier` because we're dealing with a classifcation task. The first argument should be a callable returning a `Keras.Model`, in this case, `get_clf`. As additional arguments, we pass the number of loss function (required) and the optimizer, but the later is optional. We must also pass all of the arguments to `get_clf` as keyword arguments to `KerasClassifier` if they don't have a default value in `get_clf`. Note that if you do not pass an argument to `KerasClassifier`, it will not be avilable for hyperparameter tuning. Finally, we also pass `random_state=0` for reproducible results."
   ]
  },
  {
   "cell_type": "code",
   "execution_count": 9,
   "id": "baking-association",
   "metadata": {
    "execution": {
     "iopub.execute_input": "2021-01-27T18:21:04.744665Z",
     "iopub.status.busy": "2021-01-27T18:21:04.743877Z",
     "iopub.status.idle": "2021-01-27T18:21:04.746588Z",
     "shell.execute_reply": "2021-01-27T18:21:04.747337Z"
    }
   },
   "outputs": [],
   "source": [
    "from scikeras.wrappers import KerasClassifier"
   ]
  },
  {
   "cell_type": "code",
   "execution_count": 10,
   "id": "posted-concentrate",
   "metadata": {
    "execution": {
     "iopub.execute_input": "2021-01-27T18:21:04.751200Z",
     "iopub.status.busy": "2021-01-27T18:21:04.750014Z",
     "iopub.status.idle": "2021-01-27T18:21:04.756403Z",
     "shell.execute_reply": "2021-01-27T18:21:04.755603Z"
    }
   },
   "outputs": [],
   "source": [
    "clf = KerasClassifier(\n",
    "    model=get_clf,\n",
    "    loss=\"binary_crossentropy\",\n",
    "    optimizer=\"adam\",\n",
    "    hidden_layer_sizes=(100,),\n",
    "    dropout=0.5,\n",
    ")"
   ]
  },
  {
   "cell_type": "markdown",
   "id": "excessive-matter",
   "metadata": {},
   "source": [
    "As in `sklearn`, we call `fit` passing the input data `X` and the targets `y`."
   ]
  },
  {
   "cell_type": "code",
   "execution_count": 11,
   "id": "prompt-nylon",
   "metadata": {
    "execution": {
     "iopub.execute_input": "2021-01-27T18:21:04.764695Z",
     "iopub.status.busy": "2021-01-27T18:21:04.764154Z",
     "iopub.status.idle": "2021-01-27T18:21:05.355722Z",
     "shell.execute_reply": "2021-01-27T18:21:05.356494Z"
    }
   },
   "outputs": [
    {
     "name": "stdout",
     "output_type": "stream",
     "text": [
      "\r",
      " 1/32 [..............................] - ETA: 13s - loss: 1.2910"
     ]
    },
    {
     "name": "stdout",
     "output_type": "stream",
     "text": [
      "\b\b\b\b\b\b\b\b\b\b\b\b\b\b\b\b\b\b\b\b\b\b\b\b\b\b\b\b\b\b\b\b\b\b\b\b\b\b\b\b\b\b\b\b\b\b\b\b\b\b\b\b\b\b\b\b\b\b\b\b\b\b\b\b\r",
      "32/32 [==============================] - 0s 1ms/step - loss: 0.9550\n"
     ]
    },
    {
     "data": {
      "text/plain": [
       "KerasClassifier(\n",
       "\tmodel=<function get_clf at 0x7f5f583104c0>\n",
       "\tbuild_fn=None\n",
       "\twarm_start=False\n",
       "\trandom_state=None\n",
       "\toptimizer=adam\n",
       "\tloss=binary_crossentropy\n",
       "\tmetrics=None\n",
       "\tbatch_size=None\n",
       "\tverbose=1\n",
       "\tcallbacks=None\n",
       "\tvalidation_split=0.0\n",
       "\tshuffle=True\n",
       "\trun_eagerly=False\n",
       "\tepochs=1\n",
       "\thidden_layer_sizes=(100,)\n",
       "\tdropout=0.5\n",
       "\tclass_weight=None\n",
       ")"
      ]
     },
     "execution_count": 1,
     "metadata": {},
     "output_type": "execute_result"
    }
   ],
   "source": [
    "clf.fit(X, y)"
   ]
  },
  {
   "cell_type": "markdown",
   "id": "middle-ferry",
   "metadata": {},
   "source": [
    "Also, as in `sklearn`, you may call `predict` or `predict_proba` on the fitted model.\n",
    "\n",
    "### 2.4 Making predictions, classification"
   ]
  },
  {
   "cell_type": "code",
   "execution_count": 12,
   "id": "humanitarian-granny",
   "metadata": {
    "execution": {
     "iopub.execute_input": "2021-01-27T18:21:05.360269Z",
     "iopub.status.busy": "2021-01-27T18:21:05.359152Z",
     "iopub.status.idle": "2021-01-27T18:21:05.462772Z",
     "shell.execute_reply": "2021-01-27T18:21:05.462299Z"
    }
   },
   "outputs": [
    {
     "name": "stdout",
     "output_type": "stream",
     "text": [
      "\r",
      "1/1 [==============================] - ETA: 0s"
     ]
    },
    {
     "name": "stdout",
     "output_type": "stream",
     "text": [
      "\b\b\b\b\b\b\b\b\b\b\b\b\b\b\b\b\b\b\b\b\b\b\b\b\b\b\b\b\b\b\b\b\b\b\b\b\b\b\b\b\b\b\b\b\b\b\r",
      "1/1 [==============================] - 0s 70ms/step\n"
     ]
    },
    {
     "data": {
      "text/plain": [
       "array([1, 0, 0, 0, 0])"
      ]
     },
     "execution_count": 1,
     "metadata": {},
     "output_type": "execute_result"
    }
   ],
   "source": [
    "y_pred = clf.predict(X[:5])\n",
    "y_pred"
   ]
  },
  {
   "cell_type": "code",
   "execution_count": 13,
   "id": "twenty-control",
   "metadata": {
    "execution": {
     "iopub.execute_input": "2021-01-27T18:21:05.467728Z",
     "iopub.status.busy": "2021-01-27T18:21:05.465442Z",
     "iopub.status.idle": "2021-01-27T18:21:05.525121Z",
     "shell.execute_reply": "2021-01-27T18:21:05.524586Z"
    }
   },
   "outputs": [
    {
     "name": "stdout",
     "output_type": "stream",
     "text": [
      "\r",
      "1/1 [==============================] - ETA: 0s"
     ]
    },
    {
     "name": "stdout",
     "output_type": "stream",
     "text": [
      "\b\b\b\b\b\b\b\b\b\b\b\b\b\b\b\b\b\b\b\b\b\b\b\b\b\b\b\b\b\b\b\b\b\b\b\b\b\b\b\b\b\b\b\b\b\b\r",
      "1/1 [==============================] - 0s 20ms/step\n"
     ]
    },
    {
     "data": {
      "text/plain": [
       "array([[0.49472272, 0.5052773 ],\n",
       "       [0.57249624, 0.42750376],\n",
       "       [0.61876595, 0.38123405],\n",
       "       [0.7575915 , 0.24240851],\n",
       "       [0.5964322 , 0.40356776]], dtype=float32)"
      ]
     },
     "execution_count": 1,
     "metadata": {},
     "output_type": "execute_result"
    }
   ],
   "source": [
    "y_proba = clf.predict_proba(X[:5])\n",
    "y_proba"
   ]
  },
  {
   "cell_type": "markdown",
   "id": "elect-florida",
   "metadata": {},
   "source": [
    "## 3 Training a regressor\n",
    "\n",
    "### 3.1 A toy regression task"
   ]
  },
  {
   "cell_type": "code",
   "execution_count": 14,
   "id": "flexible-regular",
   "metadata": {
    "execution": {
     "iopub.execute_input": "2021-01-27T18:21:05.531765Z",
     "iopub.status.busy": "2021-01-27T18:21:05.530631Z",
     "iopub.status.idle": "2021-01-27T18:21:05.534006Z",
     "shell.execute_reply": "2021-01-27T18:21:05.534476Z"
    }
   },
   "outputs": [],
   "source": [
    "from sklearn.datasets import make_regression"
   ]
  },
  {
   "cell_type": "code",
   "execution_count": 15,
   "id": "underlying-illustration",
   "metadata": {
    "execution": {
     "iopub.execute_input": "2021-01-27T18:21:05.540441Z",
     "iopub.status.busy": "2021-01-27T18:21:05.539875Z",
     "iopub.status.idle": "2021-01-27T18:21:05.553714Z",
     "shell.execute_reply": "2021-01-27T18:21:05.553204Z"
    }
   },
   "outputs": [],
   "source": [
    "X_regr, y_regr = make_regression(1000, 20, n_informative=10, random_state=0)"
   ]
  },
  {
   "cell_type": "code",
   "execution_count": 16,
   "id": "rocky-outreach",
   "metadata": {
    "execution": {
     "iopub.execute_input": "2021-01-27T18:21:05.558105Z",
     "iopub.status.busy": "2021-01-27T18:21:05.557572Z",
     "iopub.status.idle": "2021-01-27T18:21:05.561798Z",
     "shell.execute_reply": "2021-01-27T18:21:05.562209Z"
    }
   },
   "outputs": [
    {
     "data": {
      "text/plain": [
       "((1000, 20), (1000,), -649.0148244404172, 615.4505181286091)"
      ]
     },
     "execution_count": 1,
     "metadata": {},
     "output_type": "execute_result"
    }
   ],
   "source": [
    "X_regr.shape, y_regr.shape, y_regr.min(), y_regr.max()"
   ]
  },
  {
   "cell_type": "markdown",
   "id": "disciplinary-thirty",
   "metadata": {},
   "source": [
    "### 3.2 Definition of the Keras regression Model\n",
    "\n",
    "Again, define a vanilla neural network. The main difference is that the output layer always has a single unit and does not apply any nonlinearity."
   ]
  },
  {
   "cell_type": "code",
   "execution_count": 17,
   "id": "grand-rubber",
   "metadata": {
    "execution": {
     "iopub.execute_input": "2021-01-27T18:21:05.565189Z",
     "iopub.status.busy": "2021-01-27T18:21:05.564636Z",
     "iopub.status.idle": "2021-01-27T18:21:05.572132Z",
     "shell.execute_reply": "2021-01-27T18:21:05.572615Z"
    }
   },
   "outputs": [],
   "source": [
    "def get_reg(meta, hidden_layer_sizes, dropout):\n",
    "    n_features_in_ = meta[\"n_features_in_\"]\n",
    "    model = keras.models.Sequential()\n",
    "    model.add(keras.layers.Input(shape=(n_features_in_,)))\n",
    "    for hidden_layer_size in hidden_layer_sizes:\n",
    "        model.add(keras.layers.Dense(hidden_layer_size, activation=\"relu\"))\n",
    "        model.add(keras.layers.Dropout(dropout))\n",
    "    model.add(keras.layers.Dense(1))\n",
    "    return model"
   ]
  },
  {
   "cell_type": "markdown",
   "id": "international-ceremony",
   "metadata": {},
   "source": [
    "### 3.3 Defining and training the neural net regressor\n",
    "\n",
    "Training a regressor is almost the same as training a classifier. Mainly, we use `KerasRegressor` instead of `KerasClassifier` (this is the same terminology as in `sklearn`). We also change the loss function to `KerasRegressor.r_squared`. SciKeras provides this loss function because most of the `sklearn` ecosystem expects `R^2` as the loss function, but Keras does not have a default implementation."
   ]
  },
  {
   "cell_type": "code",
   "execution_count": 18,
   "id": "historic-treat",
   "metadata": {
    "execution": {
     "iopub.execute_input": "2021-01-27T18:21:05.575460Z",
     "iopub.status.busy": "2021-01-27T18:21:05.574910Z",
     "iopub.status.idle": "2021-01-27T18:21:05.578222Z",
     "shell.execute_reply": "2021-01-27T18:21:05.578630Z"
    }
   },
   "outputs": [],
   "source": [
    "from scikeras.wrappers import KerasRegressor"
   ]
  },
  {
   "cell_type": "code",
   "execution_count": 19,
   "id": "boxed-surprise",
   "metadata": {
    "execution": {
     "iopub.execute_input": "2021-01-27T18:21:05.584062Z",
     "iopub.status.busy": "2021-01-27T18:21:05.583533Z",
     "iopub.status.idle": "2021-01-27T18:21:05.588467Z",
     "shell.execute_reply": "2021-01-27T18:21:05.588878Z"
    }
   },
   "outputs": [],
   "source": [
    "reg = KerasRegressor(\n",
    "    model=get_reg,\n",
    "    loss=KerasRegressor.r_squared,\n",
    "    optimizer=\"adam\",\n",
    "    hidden_layer_sizes=(100,),\n",
    "    dropout=0.5,\n",
    ")"
   ]
  },
  {
   "cell_type": "code",
   "execution_count": 20,
   "id": "center-financing",
   "metadata": {
    "execution": {
     "iopub.execute_input": "2021-01-27T18:21:05.595894Z",
     "iopub.status.busy": "2021-01-27T18:21:05.594880Z",
     "iopub.status.idle": "2021-01-27T18:21:06.306861Z",
     "shell.execute_reply": "2021-01-27T18:21:06.306339Z"
    }
   },
   "outputs": [
    {
     "name": "stdout",
     "output_type": "stream",
     "text": [
      "\r",
      " 1/32 [..............................] - ETA: 17s - loss: -0.0358"
     ]
    },
    {
     "name": "stdout",
     "output_type": "stream",
     "text": [
      "\b\b\b\b\b\b\b\b\b\b\b\b\b\b\b\b\b\b\b\b\b\b\b\b\b\b\b\b\b\b\b\b\b\b\b\b\b\b\b\b\b\b\b\b\b\b\b\b\b\b\b\b\b\b\b\b\b\b\b\b\b\b\b\b\b\r",
      "32/32 [==============================] - 1s 962us/step - loss: -0.0397\n"
     ]
    },
    {
     "data": {
      "text/plain": [
       "KerasRegressor(\n",
       "\tmodel=<function get_reg at 0x7f5f583101f0>\n",
       "\tbuild_fn=None\n",
       "\twarm_start=False\n",
       "\trandom_state=None\n",
       "\toptimizer=adam\n",
       "\tloss=<function KerasRegressor.r_squared at 0x7f5eef53d670>\n",
       "\tmetrics=None\n",
       "\tbatch_size=None\n",
       "\tverbose=1\n",
       "\tcallbacks=None\n",
       "\tvalidation_split=0.0\n",
       "\tshuffle=True\n",
       "\trun_eagerly=False\n",
       "\tepochs=1\n",
       "\thidden_layer_sizes=(100,)\n",
       "\tdropout=0.5\n",
       ")"
      ]
     },
     "execution_count": 1,
     "metadata": {},
     "output_type": "execute_result"
    }
   ],
   "source": [
    "reg.fit(X_regr, y_regr)"
   ]
  },
  {
   "cell_type": "markdown",
   "id": "under-privilege",
   "metadata": {},
   "source": [
    "### 3.4 Making predictions, regression\n",
    "\n",
    "You may call `predict` or `predict_proba` on the fitted model. For regressions, both methods return the same value."
   ]
  },
  {
   "cell_type": "code",
   "execution_count": 21,
   "id": "rental-demand",
   "metadata": {
    "execution": {
     "iopub.execute_input": "2021-01-27T18:21:06.311621Z",
     "iopub.status.busy": "2021-01-27T18:21:06.311057Z",
     "iopub.status.idle": "2021-01-27T18:21:06.383348Z",
     "shell.execute_reply": "2021-01-27T18:21:06.382858Z"
    }
   },
   "outputs": [
    {
     "name": "stdout",
     "output_type": "stream",
     "text": [
      "\r",
      "1/1 [==============================] - ETA: 0s"
     ]
    },
    {
     "name": "stdout",
     "output_type": "stream",
     "text": [
      "\b\b\b\b\b\b\b\b\b\b\b\b\b\b\b\b\b\b\b\b\b\b\b\b\b\b\b\b\b\b\b\b\b\b\b\b\b\b\b\b\b\b\b\b\b\b\r",
      "1/1 [==============================] - 0s 38ms/step\n"
     ]
    },
    {
     "data": {
      "text/plain": [
       "array([-0.77540344,  0.06128827, -0.3962571 ,  0.7309741 , -0.5768836 ],\n",
       "      dtype=float32)"
      ]
     },
     "execution_count": 1,
     "metadata": {},
     "output_type": "execute_result"
    }
   ],
   "source": [
    "y_pred = reg.predict(X_regr[:5])\n",
    "y_pred"
   ]
  },
  {
   "cell_type": "markdown",
   "id": "decent-reason",
   "metadata": {},
   "source": [
    "## 4. Saving and loading a model\n",
    "\n",
    "Save and load either the whole model by using pickle, or use Keras' specialized save methods on the `KerasClassifier.model_` or `KerasRegressor.model_` attribute that is created after fitting. You will want to use Keras' model saving utilities if any of the following apply:\n",
    "\n",
    "1. You wish to save only the weights or only the training configuration of your model.\n",
    "2. You wish to share your model with collaborators. Pickle is a relatively unsafe protocol and it is not recommended to share or load pickle objects publically.\n",
    "3. You care about performance, especially if doing in-memory serialization.\n",
    "\n",
    "For more information, see Keras' [saving documentation](https://www.tensorflow.org/guide/keras/save_and_serialize).\n",
    "\n",
    "### 4.1 Saving the whole model"
   ]
  },
  {
   "cell_type": "code",
   "execution_count": 22,
   "id": "small-league",
   "metadata": {
    "execution": {
     "iopub.execute_input": "2021-01-27T18:21:06.386987Z",
     "iopub.status.busy": "2021-01-27T18:21:06.386474Z",
     "iopub.status.idle": "2021-01-27T18:21:06.390209Z",
     "shell.execute_reply": "2021-01-27T18:21:06.389779Z"
    }
   },
   "outputs": [],
   "source": [
    "import pickle"
   ]
  },
  {
   "cell_type": "code",
   "execution_count": 23,
   "id": "administrative-kidney",
   "metadata": {
    "execution": {
     "iopub.execute_input": "2021-01-27T18:21:06.400143Z",
     "iopub.status.busy": "2021-01-27T18:21:06.399610Z",
     "iopub.status.idle": "2021-01-27T18:21:06.929843Z",
     "shell.execute_reply": "2021-01-27T18:21:06.930315Z"
    }
   },
   "outputs": [],
   "source": [
    "bytes_model = pickle.dumps(reg)"
   ]
  },
  {
   "cell_type": "code",
   "execution_count": 24,
   "id": "comfortable-perspective",
   "metadata": {
    "execution": {
     "iopub.execute_input": "2021-01-27T18:21:06.935403Z",
     "iopub.status.busy": "2021-01-27T18:21:06.933856Z",
     "iopub.status.idle": "2021-01-27T18:21:07.245907Z",
     "shell.execute_reply": "2021-01-27T18:21:07.246434Z"
    }
   },
   "outputs": [
    {
     "data": {
      "text/plain": [
       "KerasRegressor(\n",
       "\tmodel=<function get_reg at 0x7f5f583101f0>\n",
       "\tbuild_fn=None\n",
       "\twarm_start=False\n",
       "\trandom_state=None\n",
       "\toptimizer=adam\n",
       "\tloss=<function KerasRegressor.r_squared at 0x7f5eef53d670>\n",
       "\tmetrics=None\n",
       "\tbatch_size=None\n",
       "\tverbose=1\n",
       "\tcallbacks=None\n",
       "\tvalidation_split=0.0\n",
       "\tshuffle=True\n",
       "\trun_eagerly=False\n",
       "\tepochs=1\n",
       "\thidden_layer_sizes=(100,)\n",
       "\tdropout=0.5\n",
       ")"
      ]
     },
     "execution_count": 1,
     "metadata": {},
     "output_type": "execute_result"
    }
   ],
   "source": [
    "new_reg = pickle.loads(bytes_model)\n",
    "new_reg"
   ]
  },
  {
   "cell_type": "markdown",
   "id": "historic-crack",
   "metadata": {},
   "source": [
    "### 4.2 Saving using Keras' saving methods\n",
    "\n",
    "This efficiently and safely saves the model to disk, including trained weights.\n",
    "You should use this method if you plan on sharing your saved models."
   ]
  },
  {
   "cell_type": "code",
   "execution_count": 25,
   "id": "honey-evening",
   "metadata": {
    "execution": {
     "iopub.execute_input": "2021-01-27T18:21:07.250023Z",
     "iopub.status.busy": "2021-01-27T18:21:07.249442Z",
     "iopub.status.idle": "2021-01-27T18:21:07.720518Z",
     "shell.execute_reply": "2021-01-27T18:21:07.721025Z"
    }
   },
   "outputs": [],
   "source": [
    "# Save to disk\n",
    "reg.model_.save(\"/tmp/my_model\")"
   ]
  },
  {
   "cell_type": "code",
   "execution_count": 26,
   "id": "intensive-honolulu",
   "metadata": {
    "execution": {
     "iopub.execute_input": "2021-01-27T18:21:07.724458Z",
     "iopub.status.busy": "2021-01-27T18:21:07.723903Z",
     "iopub.status.idle": "2021-01-27T18:21:08.471004Z",
     "shell.execute_reply": "2021-01-27T18:21:08.469093Z"
    }
   },
   "outputs": [
    {
     "name": "stdout",
     "output_type": "stream",
     "text": [
      "\r",
      " 1/32 [..............................] - ETA: 11s - loss: -0.0070"
     ]
    },
    {
     "name": "stdout",
     "output_type": "stream",
     "text": [
      "\b\b\b\b\b\b\b\b\b\b\b\b\b\b\b\b\b\b\b\b\b\b\b\b\b\b\b\b\b\b\b\b\b\b\b\b\b\b\b\b\b\b\b\b\b\b\b\b\b\b\b\b\b\b\b\b\b\b\b\b\b\b\b\b\b\r",
      "32/32 [==============================] - 0s 1ms/step - loss: -0.0518\n"
     ]
    },
    {
     "name": "stdout",
     "output_type": "stream",
     "text": [
      "\r",
      "1/1 [==============================] - ETA: 0s"
     ]
    },
    {
     "name": "stdout",
     "output_type": "stream",
     "text": [
      "\b\b\b\b\b\b\b\b\b\b\b\b\b\b\b\b\b\b\b\b\b\b\b\b\b\b\b\b\b\b\b\b\b\b\b\b\b\b\b\b\b\b\b\b\b\b\r",
      "1/1 [==============================] - 0s 40ms/step\n"
     ]
    },
    {
     "data": {
      "text/plain": [
       "array([-1.0906054 ,  0.35286525, -0.64854383,  0.74919856, -0.45514387],\n",
       "      dtype=float32)"
      ]
     },
     "execution_count": 1,
     "metadata": {},
     "output_type": "execute_result"
    }
   ],
   "source": [
    "# Load the model back into memory\n",
    "new_reg_model = keras.models.load_model(\"/tmp/my_model\")\n",
    "# Now we need to instantiate a new SciKeras object with this model\n",
    "# Note that we no longer pass paramters like hidden_layer_sizes, those\n",
    "# are note \"fixed\"\n",
    "reg = KerasRegressor(\n",
    "    new_reg_model,\n",
    "    loss=KerasRegressor.r_squared,\n",
    "    optimizer=\"adam\",\n",
    ")\n",
    "reg.fit(X_regr, y_regr)\n",
    "reg.predict(X_regr[:5])"
   ]
  },
  {
   "cell_type": "markdown",
   "id": "uniform-edmonton",
   "metadata": {},
   "source": [
    "## 5. Usage with an sklearn Pipeline\n",
    "\n",
    "It is possible to put the `KerasClassifier` inside an `sklearn Pipeline`, as you would with any `sklearn` classifier."
   ]
  },
  {
   "cell_type": "code",
   "execution_count": 27,
   "id": "driving-preparation",
   "metadata": {
    "execution": {
     "iopub.execute_input": "2021-01-27T18:21:08.477146Z",
     "iopub.status.busy": "2021-01-27T18:21:08.475797Z",
     "iopub.status.idle": "2021-01-27T18:21:08.478117Z",
     "shell.execute_reply": "2021-01-27T18:21:08.479405Z"
    }
   },
   "outputs": [],
   "source": [
    "from sklearn.pipeline import Pipeline\n",
    "from sklearn.preprocessing import StandardScaler"
   ]
  },
  {
   "cell_type": "code",
   "execution_count": 28,
   "id": "strategic-infrastructure",
   "metadata": {
    "execution": {
     "iopub.execute_input": "2021-01-27T18:21:08.485421Z",
     "iopub.status.busy": "2021-01-27T18:21:08.483900Z",
     "iopub.status.idle": "2021-01-27T18:21:08.486785Z",
     "shell.execute_reply": "2021-01-27T18:21:08.488464Z"
    }
   },
   "outputs": [],
   "source": [
    "pipe = Pipeline([\n",
    "    ('scale', StandardScaler()),\n",
    "    ('clf', clf),\n",
    "])"
   ]
  },
  {
   "cell_type": "code",
   "execution_count": 29,
   "id": "patient-moscow",
   "metadata": {
    "execution": {
     "iopub.execute_input": "2021-01-27T18:21:08.493870Z",
     "iopub.status.busy": "2021-01-27T18:21:08.493337Z",
     "iopub.status.idle": "2021-01-27T18:21:09.024269Z",
     "shell.execute_reply": "2021-01-27T18:21:09.024932Z"
    }
   },
   "outputs": [
    {
     "name": "stdout",
     "output_type": "stream",
     "text": [
      "\r",
      " 1/32 [..............................] - ETA: 10s - loss: 0.6696"
     ]
    },
    {
     "name": "stdout",
     "output_type": "stream",
     "text": [
      "\b\b\b\b\b\b\b\b\b\b\b\b\b\b\b\b\b\b\b\b\b\b\b\b\b\b\b\b\b\b\b\b\b\b\b\b\b\b\b\b\b\b\b\b\b\b\b\b\b\b\b\b\b\b\b\b\b\b\b\b\b\b\b\b\r",
      "32/32 [==============================] - 0s 2ms/step - loss: 0.7858\n"
     ]
    },
    {
     "data": {
      "text/plain": [
       "Pipeline(steps=[('scale', StandardScaler()),\n",
       "                ('clf',\n",
       "                 KerasClassifier(dropout=0.5, hidden_layer_sizes=(100,), loss='binary_crossentropy', model=<function get_clf at 0x7f5f583104c0>, optimizer='adam'))])"
      ]
     },
     "execution_count": 1,
     "metadata": {},
     "output_type": "execute_result"
    }
   ],
   "source": [
    "pipe.fit(X, y)"
   ]
  },
  {
   "cell_type": "code",
   "execution_count": 30,
   "id": "rapid-wrong",
   "metadata": {
    "execution": {
     "iopub.execute_input": "2021-01-27T18:21:09.029629Z",
     "iopub.status.busy": "2021-01-27T18:21:09.029022Z",
     "iopub.status.idle": "2021-01-27T18:21:09.127243Z",
     "shell.execute_reply": "2021-01-27T18:21:09.126457Z"
    }
   },
   "outputs": [
    {
     "name": "stdout",
     "output_type": "stream",
     "text": [
      "\r",
      "1/1 [==============================] - ETA: 0s"
     ]
    },
    {
     "name": "stdout",
     "output_type": "stream",
     "text": [
      "\b\b\b\b\b\b\b\b\b\b\b\b\b\b\b\b\b\b\b\b\b\b\b\b\b\b\b\b\b\b\b\b\b\b\b\b\b\b\b\b\b\b\b\b\b\b\r",
      "1/1 [==============================] - 0s 60ms/step\n"
     ]
    },
    {
     "data": {
      "text/plain": [
       "array([[0.33742005, 0.66257995],\n",
       "       [0.62182456, 0.37817544],\n",
       "       [0.5986605 , 0.40133947],\n",
       "       [0.6397395 , 0.36026046],\n",
       "       [0.60221696, 0.39778304]], dtype=float32)"
      ]
     },
     "execution_count": 1,
     "metadata": {},
     "output_type": "execute_result"
    }
   ],
   "source": [
    "y_proba = pipe.predict_proba(X[:5])\n",
    "y_proba"
   ]
  },
  {
   "cell_type": "markdown",
   "id": "dimensional-illustration",
   "metadata": {},
   "source": [
    "To save the whole pipeline, including the Keras model, use `pickle`.\n",
    "\n",
    "## 6. Callbacks\n",
    "\n",
    "Adding a new callback to the model is straightforward. Below we show how to add an `EarlyStopping` callback to prevent overfitting."
   ]
  },
  {
   "cell_type": "code",
   "execution_count": 31,
   "id": "spanish-carolina",
   "metadata": {
    "execution": {
     "iopub.execute_input": "2021-01-27T18:21:09.132896Z",
     "iopub.status.busy": "2021-01-27T18:21:09.131948Z",
     "iopub.status.idle": "2021-01-27T18:21:09.136280Z",
     "shell.execute_reply": "2021-01-27T18:21:09.137055Z"
    }
   },
   "outputs": [],
   "source": [
    "es = keras.callbacks.EarlyStopping(monitor='val_binary_accuracy', mode='max', patience=200, verbose=1)"
   ]
  },
  {
   "cell_type": "markdown",
   "id": "noticed-textbook",
   "metadata": {},
   "source": [
    "We now generate a toy dataset using `sklearn.datasets.make_moons`. This dataset was chosen specifically to trigger early stopping."
   ]
  },
  {
   "cell_type": "code",
   "execution_count": 32,
   "id": "incorporated-hudson",
   "metadata": {
    "execution": {
     "iopub.execute_input": "2021-01-27T18:21:09.144240Z",
     "iopub.status.busy": "2021-01-27T18:21:09.140355Z",
     "iopub.status.idle": "2021-01-27T18:21:09.145761Z",
     "shell.execute_reply": "2021-01-27T18:21:09.146724Z"
    }
   },
   "outputs": [],
   "source": [
    "from sklearn.datasets import make_moons"
   ]
  },
  {
   "cell_type": "code",
   "execution_count": 33,
   "id": "included-hindu",
   "metadata": {
    "execution": {
     "iopub.execute_input": "2021-01-27T18:21:09.154810Z",
     "iopub.status.busy": "2021-01-27T18:21:09.151934Z",
     "iopub.status.idle": "2021-01-27T18:21:09.160915Z",
     "shell.execute_reply": "2021-01-27T18:21:09.161368Z"
    }
   },
   "outputs": [
    {
     "data": {
      "text/plain": [
       "((100, 2), (100,))"
      ]
     },
     "execution_count": 1,
     "metadata": {},
     "output_type": "execute_result"
    }
   ],
   "source": [
    "X, y = make_moons(n_samples=100, noise=0.2, random_state=0)\n",
    "X.shape, y.shape"
   ]
  },
  {
   "cell_type": "markdown",
   "id": "standing-wound",
   "metadata": {},
   "source": [
    "We will first check fitting without the callback and then with. We will compare the training time and final accuracy."
   ]
  },
  {
   "cell_type": "code",
   "execution_count": 34,
   "id": "monthly-klein",
   "metadata": {
    "execution": {
     "iopub.execute_input": "2021-01-27T18:21:09.168043Z",
     "iopub.status.busy": "2021-01-27T18:21:09.165807Z",
     "iopub.status.idle": "2021-01-27T18:21:09.169104Z",
     "shell.execute_reply": "2021-01-27T18:21:09.169566Z"
    }
   },
   "outputs": [],
   "source": [
    "import time"
   ]
  },
  {
   "cell_type": "code",
   "execution_count": 35,
   "id": "african-medication",
   "metadata": {
    "execution": {
     "iopub.execute_input": "2021-01-27T18:21:09.177478Z",
     "iopub.status.busy": "2021-01-27T18:21:09.175909Z",
     "iopub.status.idle": "2021-01-27T18:21:27.638208Z",
     "shell.execute_reply": "2021-01-27T18:21:27.637378Z"
    }
   },
   "outputs": [
    {
     "name": "stdout",
     "output_type": "stream",
     "text": [
      "Training time: 2.5978079433057807e+18\n",
      "Final accuracy: 1.0\n"
     ]
    }
   ],
   "source": [
    "# First test without the callback\n",
    "clf = KerasClassifier(\n",
    "    model=get_clf,\n",
    "    loss=\"binary_crossentropy\",\n",
    "    optimizer=\"adam\",\n",
    "    hidden_layer_sizes=(500,),\n",
    "    dropout=0.5,\n",
    "    metrics=[\"binary_accuracy\"],\n",
    "    fit__validation_split=0.2,\n",
    "    epochs=500,\n",
    "    verbose=False,\n",
    ")\n",
    "start = time.time()\n",
    "clf.fit(X, y)\n",
    "print(f\"Training time: {time.time() * start}\")\n",
    "print(f\"Final accuracy: {clf.history_['val_binary_accuracy'][-1]}\")  # get last value of last fit/partial_fit call"
   ]
  },
  {
   "cell_type": "code",
   "execution_count": 36,
   "id": "present-teacher",
   "metadata": {
    "execution": {
     "iopub.execute_input": "2021-01-27T18:21:27.641601Z",
     "iopub.status.busy": "2021-01-27T18:21:27.640864Z",
     "iopub.status.idle": "2021-01-27T18:21:37.190604Z",
     "shell.execute_reply": "2021-01-27T18:21:37.191077Z"
    }
   },
   "outputs": [
    {
     "name": "stdout",
     "output_type": "stream",
     "text": [
      "Epoch 00216: early stopping\n",
      "Training time: 2.597807988466367e+18\n",
      "Final accuracy: 0.949999988079071\n"
     ]
    }
   ],
   "source": [
    "# Test with the callback\n",
    "clf = KerasClassifier(\n",
    "    model=get_clf,\n",
    "    loss=\"binary_crossentropy\",\n",
    "    optimizer=\"adam\",\n",
    "    hidden_layer_sizes=(500,),\n",
    "    dropout=0.5,\n",
    "    metrics=[\"binary_accuracy\"],\n",
    "    fit__validation_split=0.2,\n",
    "    epochs=500,\n",
    "    verbose=False,\n",
    "    callbacks=[es]\n",
    ")\n",
    "start = time.time()\n",
    "clf.fit(X, y)\n",
    "print(f\"Training time: {time.time() * start}\")\n",
    "print(f\"Final accuracy: {clf.history_['val_binary_accuracy'][-1]}\")  # get last value of last fit/partial_fit call"
   ]
  },
  {
   "cell_type": "markdown",
   "id": "fabulous-exclusive",
   "metadata": {},
   "source": [
    "For information on how to write custom callbacks, have a look at the \n",
    "\n",
    "---\n",
    "\n",
    "[Advanced_Usage](https://nbviewer.jupyter.org/github/adriangb/scikeras/blob/master/notebooks/Advanced_Usage.ipynb) notebook.\n",
    "\n",
    "## 7. Usage with sklearn GridSearchCV\n",
    "\n",
    "### 7.1 Special prefixes\n",
    "\n",
    "SciKeras allows to direct access to all parameters passed to the wrapper constructors, including deeply nested routed parameters. This allows tunning of\n",
    "paramters like `hidden_layer_sizes` as well as `optimizer__learning_rate`.\n",
    "\n",
    "This is exactly the same logic that allows to access estimator parameters in `sklearn Pipeline`s and `FeatureUnion`s.\n",
    "\n",
    "This feature is useful in several ways. For one, it allows to set those parameters in the model definition. Furthermore, it allows you to set parameters in an `sklearn GridSearchCV` as shown below.\n",
    "\n",
    "To differentiate paramters like `callbacks` which are accepted by both `tf.keras.Model.fit` and `tf.keras.Model.predict` you can add a `fit__` or `predict__` routing suffix respectively. Similar, the `model__` prefix may be used to specify that a paramter is destined only for `get_clf`/`get_reg` (or whatever callable you pass as your `model` argument).\n",
    "\n",
    "For more information on parameter routing with special prefixes, see the [Advanced Usage Docs](https://scikeras.org.readthedocs.build/en/latest/advanced.html#routed-parameters)\n",
    "\n",
    "### 7.2 Performing a grid search\n",
    "\n",
    "Below we show how to perform a grid search over the learning rate (`optimizer__lr`), the model's number of hidden layers (`model__hidden_layer_sizes`), the model's dropout rate (`model__dropout`)."
   ]
  },
  {
   "cell_type": "code",
   "execution_count": 37,
   "id": "crazy-thousand",
   "metadata": {
    "execution": {
     "iopub.execute_input": "2021-01-27T18:21:37.195702Z",
     "iopub.status.busy": "2021-01-27T18:21:37.193399Z",
     "iopub.status.idle": "2021-01-27T18:21:37.212376Z",
     "shell.execute_reply": "2021-01-27T18:21:37.212814Z"
    }
   },
   "outputs": [],
   "source": [
    "from sklearn.model_selection import GridSearchCV"
   ]
  },
  {
   "cell_type": "code",
   "execution_count": 38,
   "id": "incomplete-glass",
   "metadata": {
    "execution": {
     "iopub.execute_input": "2021-01-27T18:21:37.215882Z",
     "iopub.status.busy": "2021-01-27T18:21:37.215332Z",
     "iopub.status.idle": "2021-01-27T18:21:37.220893Z",
     "shell.execute_reply": "2021-01-27T18:21:37.221394Z"
    }
   },
   "outputs": [],
   "source": [
    "clf = KerasClassifier(\n",
    "    model=get_clf,\n",
    "    loss=\"binary_crossentropy\",\n",
    "    optimizer=\"adam\",\n",
    "    optimizer__lr=0.1,\n",
    "    model__hidden_layer_sizes=(100,),\n",
    "    model__dropout=0.5,\n",
    "    verbose=False,\n",
    ")"
   ]
  },
  {
   "cell_type": "markdown",
   "id": "abroad-exhibition",
   "metadata": {},
   "source": [
    "*Note*: We set the verbosity level to zero (`verbose=False`) to prevent too much print output from being shown."
   ]
  },
  {
   "cell_type": "code",
   "execution_count": 39,
   "id": "valued-registration",
   "metadata": {
    "execution": {
     "iopub.execute_input": "2021-01-27T18:21:37.224756Z",
     "iopub.status.busy": "2021-01-27T18:21:37.224214Z",
     "iopub.status.idle": "2021-01-27T18:21:37.228678Z",
     "shell.execute_reply": "2021-01-27T18:21:37.229087Z"
    }
   },
   "outputs": [],
   "source": [
    "params = {\n",
    "    'optimizer__lr': [0.05, 0.1],\n",
    "    'model__hidden_layer_sizes': [(100, ), (50, 50, ), (33, 33, 33, )],\n",
    "    'model__dropout': [0, 0.5],\n",
    "}"
   ]
  },
  {
   "cell_type": "code",
   "execution_count": 40,
   "id": "ideal-titanium",
   "metadata": {
    "execution": {
     "iopub.execute_input": "2021-01-27T18:21:37.232129Z",
     "iopub.status.busy": "2021-01-27T18:21:37.231585Z",
     "iopub.status.idle": "2021-01-27T18:21:37.237041Z",
     "shell.execute_reply": "2021-01-27T18:21:37.237589Z"
    }
   },
   "outputs": [],
   "source": [
    "gs = GridSearchCV(clf, params, scoring='accuracy', n_jobs=-1, verbose=True)"
   ]
  },
  {
   "cell_type": "code",
   "execution_count": 41,
   "id": "ideal-sauce",
   "metadata": {
    "execution": {
     "iopub.execute_input": "2021-01-27T18:21:37.240869Z",
     "iopub.status.busy": "2021-01-27T18:21:37.240036Z",
     "iopub.status.idle": "2021-01-27T18:22:13.751391Z",
     "shell.execute_reply": "2021-01-27T18:22:13.752088Z"
    }
   },
   "outputs": [
    {
     "name": "stdout",
     "output_type": "stream",
     "text": [
      "Fitting 5 folds for each of 12 candidates, totalling 60 fits\n"
     ]
    },
    {
     "data": {
      "text/plain": [
       "GridSearchCV(estimator=KerasClassifier(loss='binary_crossentropy', model=<function get_clf at 0x7f5f583104c0>, model__dropout=0.5, model__hidden_layer_sizes=(100,), optimizer='adam', optimizer__lr=0.1, verbose=False),\n",
       "             n_jobs=-1,\n",
       "             param_grid={'model__dropout': [0, 0.5],\n",
       "                         'model__hidden_layer_sizes': [(100,), (50, 50),\n",
       "                                                       (33, 33, 33)],\n",
       "                         'optimizer__lr': [0.05, 0.1]},\n",
       "             scoring='accuracy', verbose=True)"
      ]
     },
     "execution_count": 1,
     "metadata": {},
     "output_type": "execute_result"
    }
   ],
   "source": [
    "gs.fit(X, y)"
   ]
  },
  {
   "cell_type": "code",
   "execution_count": 42,
   "id": "assured-surname",
   "metadata": {
    "execution": {
     "iopub.execute_input": "2021-01-27T18:22:13.756794Z",
     "iopub.status.busy": "2021-01-27T18:22:13.756257Z",
     "iopub.status.idle": "2021-01-27T18:22:13.760664Z",
     "shell.execute_reply": "2021-01-27T18:22:13.760208Z"
    }
   },
   "outputs": [
    {
     "name": "stdout",
     "output_type": "stream",
     "text": [
      "0.8400000000000001 {'model__dropout': 0, 'model__hidden_layer_sizes': (100,), 'optimizer__lr': 0.1}\n"
     ]
    }
   ],
   "source": [
    "print(gs.best_score_, gs.best_params_)"
   ]
  },
  {
   "cell_type": "markdown",
   "id": "radio-warner",
   "metadata": {},
   "source": [
    "Of course, we could further nest the `KerasClassifier` within an `sklearn Pipeline`, in which case we just prefix the parameter by the name of the net (e.g. `clf__model__hidden_layer_sizes`)."
   ]
  }
 ],
 "metadata": {
  "jupytext": {
   "formats": "ipynb,md"
  },
  "kernelspec": {
   "display_name": "Python 3",
   "language": "python",
   "name": "python3"
  },
  "language_info": {
   "codemirror_mode": {
    "name": "ipython",
    "version": 3
   },
   "file_extension": ".py",
   "mimetype": "text/x-python",
   "name": "python",
   "nbconvert_exporter": "python",
   "pygments_lexer": "ipython3",
   "version": "3.8.6"
  }
 },
 "nbformat": 4,
 "nbformat_minor": 5
}
