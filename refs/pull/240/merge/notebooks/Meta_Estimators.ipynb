{
 "cells": [
  {
   "cell_type": "raw",
   "id": "7c42c666",
   "metadata": {},
   "source": [
    "<a href=\"https://colab.research.google.com/github/adriangb/scikeras/blob/docs-deploy/refs/heads/master/notebooks/Meta_Estimators.ipynb\"><img src=\"https://www.tensorflow.org/images/colab_logo_32px.png\">Run in Google Colab</a>"
   ]
  },
  {
   "cell_type": "markdown",
   "id": "da124fff",
   "metadata": {},
   "source": [
    "# Meta Estimators in SciKeras\n",
    "\n",
    "In this notebook, we implement sklearn ensemble and tree meta-estimators backed by a Keras MLP model.\n",
    "\n",
    "## Table of contents\n",
    "\n",
    "* [1. Setup](#1.-Setup)\n",
    "* [2. Defining the Keras Model](#2.-Defining-the-Keras-Model)\n",
    "  * [2.1 Building a boosting ensemble](#2.1-Building-a-boosting-ensemble)\n",
    "* [3. Testing with a toy dataset](#3.-Testing-with-a-toy-dataset)\n",
    "* [4. Bagging ensemble](#4.-Bagging-ensemble)\n",
    "\n",
    "## 1. Setup"
   ]
  },
  {
   "cell_type": "code",
   "execution_count": 1,
   "id": "057d6261",
   "metadata": {
    "execution": {
     "iopub.execute_input": "2022-07-22T14:41:48.696570Z",
     "iopub.status.busy": "2022-07-22T14:41:48.695967Z",
     "iopub.status.idle": "2022-07-22T14:41:51.519340Z",
     "shell.execute_reply": "2022-07-22T14:41:51.518447Z"
    }
   },
   "outputs": [],
   "source": [
    "try:\n",
    "    import scikeras\n",
    "except ImportError:\n",
    "    !python -m pip install scikeras[tensorflow]"
   ]
  },
  {
   "cell_type": "markdown",
   "id": "0717deb8",
   "metadata": {},
   "source": [
    "Silence TensorFlow logging to keep output succinct."
   ]
  },
  {
   "cell_type": "code",
   "execution_count": 2,
   "id": "47c3b636",
   "metadata": {
    "execution": {
     "iopub.execute_input": "2022-07-22T14:41:51.526734Z",
     "iopub.status.busy": "2022-07-22T14:41:51.524509Z",
     "iopub.status.idle": "2022-07-22T14:41:51.534888Z",
     "shell.execute_reply": "2022-07-22T14:41:51.534173Z"
    }
   },
   "outputs": [],
   "source": [
    "import warnings\n",
    "from tensorflow import get_logger\n",
    "get_logger().setLevel('ERROR')\n",
    "warnings.filterwarnings(\"ignore\", message=\"Setting the random state for TF\")"
   ]
  },
  {
   "cell_type": "code",
   "execution_count": 3,
   "id": "2cbcd8e4",
   "metadata": {
    "execution": {
     "iopub.execute_input": "2022-07-22T14:41:51.539898Z",
     "iopub.status.busy": "2022-07-22T14:41:51.538573Z",
     "iopub.status.idle": "2022-07-22T14:41:51.804214Z",
     "shell.execute_reply": "2022-07-22T14:41:51.803408Z"
    }
   },
   "outputs": [],
   "source": [
    "import numpy as np\n",
    "from scikeras.wrappers import KerasClassifier, KerasRegressor\n",
    "from tensorflow import keras"
   ]
  },
  {
   "cell_type": "markdown",
   "id": "e9158ccc",
   "metadata": {},
   "source": [
    "## 2. Defining the Keras Model\n",
    "\n",
    "We borrow our MLPClassifier implementation from the [MLPClassifier notebook](https://colab.research.google.com/github/adriangb/scikeras/blob/master/notebooks/MLPClassifier_and_MLPRegressor.ipynb)."
   ]
  },
  {
   "cell_type": "code",
   "execution_count": 4,
   "id": "6080be77",
   "metadata": {
    "execution": {
     "iopub.execute_input": "2022-07-22T14:41:51.809814Z",
     "iopub.status.busy": "2022-07-22T14:41:51.809230Z",
     "iopub.status.idle": "2022-07-22T14:41:51.817063Z",
     "shell.execute_reply": "2022-07-22T14:41:51.816302Z"
    }
   },
   "outputs": [],
   "source": [
    "from typing import Dict, Iterable, Any\n",
    "\n",
    "\n",
    "def get_clf_model(hidden_layer_sizes: Iterable[int], meta: Dict[str, Any], compile_kwargs: Dict[str, Any]):\n",
    "    model = keras.Sequential()\n",
    "    inp = keras.layers.Input(shape=(meta[\"n_features_in_\"]))\n",
    "    model.add(inp)\n",
    "    for hidden_layer_size in hidden_layer_sizes:\n",
    "        layer = keras.layers.Dense(hidden_layer_size, activation=\"relu\")\n",
    "        model.add(layer)\n",
    "    if meta[\"target_type_\"] == \"binary\":\n",
    "        n_output_units = 1\n",
    "        output_activation = \"sigmoid\"\n",
    "        loss = \"binary_crossentropy\"\n",
    "    elif meta[\"target_type_\"] == \"multiclass\":\n",
    "        n_output_units = meta[\"n_classes_\"]\n",
    "        output_activation = \"softmax\"\n",
    "        loss = \"sparse_categorical_crossentropy\"\n",
    "    else:\n",
    "        raise NotImplementedError(f\"Unsupported task type: {meta['target_type_']}\")\n",
    "    out = keras.layers.Dense(n_output_units, activation=output_activation)\n",
    "    model.add(out)\n",
    "    model.compile(loss=loss, optimizer=compile_kwargs[\"optimizer\"])\n",
    "    return model"
   ]
  },
  {
   "cell_type": "markdown",
   "id": "458157f7",
   "metadata": {},
   "source": [
    "Next we wrap this Keras model with SciKeras"
   ]
  },
  {
   "cell_type": "code",
   "execution_count": 5,
   "id": "26bc6e30",
   "metadata": {
    "execution": {
     "iopub.execute_input": "2022-07-22T14:41:51.820736Z",
     "iopub.status.busy": "2022-07-22T14:41:51.820468Z",
     "iopub.status.idle": "2022-07-22T14:41:51.824451Z",
     "shell.execute_reply": "2022-07-22T14:41:51.823649Z"
    }
   },
   "outputs": [],
   "source": [
    "clf = KerasClassifier(\n",
    "    model=get_clf_model,\n",
    "    hidden_layer_sizes=(100, ),\n",
    "    optimizer=\"adam\",\n",
    "    optimizer__learning_rate=0.001,\n",
    "    verbose=0,\n",
    "    random_state=0,\n",
    ")"
   ]
  },
  {
   "cell_type": "markdown",
   "id": "f29ee1ed",
   "metadata": {},
   "source": [
    "### 2.1 Building a boosting ensemble\n",
    "\n",
    "Because SciKeras estimators are fully compliant with the Scikit-Learn API, we can make use of Scikit-Learn's built in utilities. In particular example, we will use `AdaBoostClassifier` from `sklearn.ensemble.AdaBoostClassifier`, but the process is the same for most Scikit-Learn meta-estimators.\n"
   ]
  },
  {
   "cell_type": "code",
   "execution_count": 6,
   "id": "da268a29",
   "metadata": {
    "execution": {
     "iopub.execute_input": "2022-07-22T14:41:51.828442Z",
     "iopub.status.busy": "2022-07-22T14:41:51.828169Z",
     "iopub.status.idle": "2022-07-22T14:41:51.985707Z",
     "shell.execute_reply": "2022-07-22T14:41:51.984764Z"
    }
   },
   "outputs": [],
   "source": [
    "from sklearn.ensemble import AdaBoostClassifier\n",
    "\n",
    "\n",
    "adaboost = AdaBoostClassifier(base_estimator=clf, random_state=0)"
   ]
  },
  {
   "cell_type": "markdown",
   "id": "af8c4efc",
   "metadata": {},
   "source": [
    "## 3. Testing with a toy dataset\n",
    "\n",
    "Before continouing, we will run a small test to make sure we get somewhat reasonable results.\n"
   ]
  },
  {
   "cell_type": "code",
   "execution_count": 7,
   "id": "add98710",
   "metadata": {
    "execution": {
     "iopub.execute_input": "2022-07-22T14:41:51.990537Z",
     "iopub.status.busy": "2022-07-22T14:41:51.990217Z",
     "iopub.status.idle": "2022-07-22T14:42:32.248310Z",
     "shell.execute_reply": "2022-07-22T14:42:32.247323Z"
    }
   },
   "outputs": [
    {
     "name": "stdout",
     "output_type": "stream",
     "text": [
      "Single score: 0.38\n",
      "AdaBoost score: 0.82\n"
     ]
    }
   ],
   "source": [
    "from sklearn.datasets import make_moons\n",
    "\n",
    "\n",
    "X, y = make_moons()\n",
    "\n",
    "single_score = clf.fit(X, y).score(X, y)\n",
    "\n",
    "adaboost_score = adaboost.fit(X, y).score(X, y)\n",
    "\n",
    "print(f\"Single score: {single_score:.2f}\")\n",
    "print(f\"AdaBoost score: {adaboost_score:.2f}\")"
   ]
  },
  {
   "cell_type": "markdown",
   "id": "c794a7b7",
   "metadata": {},
   "source": [
    "We see that the score for the AdaBoost classifier is slightly higher than that of an individual MLPRegressor instance. We can explore the individual classifiers, and see that each one is composed of a Keras Model with it's own individual weights.\n"
   ]
  },
  {
   "cell_type": "code",
   "execution_count": 8,
   "id": "2432afba",
   "metadata": {
    "execution": {
     "iopub.execute_input": "2022-07-22T14:42:32.252538Z",
     "iopub.status.busy": "2022-07-22T14:42:32.252244Z",
     "iopub.status.idle": "2022-07-22T14:42:32.262838Z",
     "shell.execute_reply": "2022-07-22T14:42:32.262077Z"
    }
   },
   "outputs": [
    {
     "name": "stdout",
     "output_type": "stream",
     "text": [
      "[-0.12504712  0.08299943 -0.08262102  0.17581318 -0.15020196]\n",
      "[ 0.06883132 -0.2107812   0.19620797 -0.07116354 -0.00960011]\n"
     ]
    }
   ],
   "source": [
    "print(adaboost.estimators_[0].model_.get_weights()[0][0, :5])  # first sub-estimator\n",
    "print(adaboost.estimators_[1].model_.get_weights()[0][0, :5])  # second sub-estimator"
   ]
  },
  {
   "cell_type": "markdown",
   "id": "5d99f254",
   "metadata": {},
   "source": [
    "## 4. Bagging ensemble\n",
    "\n",
    "For comparison, we run the same test with an ensemble built using `sklearn.ensemble.BaggingClassifier`."
   ]
  },
  {
   "cell_type": "code",
   "execution_count": 9,
   "id": "ddca369b",
   "metadata": {
    "execution": {
     "iopub.execute_input": "2022-07-22T14:42:32.267999Z",
     "iopub.status.busy": "2022-07-22T14:42:32.266449Z",
     "iopub.status.idle": "2022-07-22T14:42:58.490862Z",
     "shell.execute_reply": "2022-07-22T14:42:58.489650Z"
    }
   },
   "outputs": [
    {
     "name": "stderr",
     "output_type": "stream",
     "text": [
      "WARNING:tensorflow:5 out of the last 9 calls to <function Model.make_train_function.<locals>.train_function at 0x7f561d10bf70> triggered tf.function retracing. Tracing is expensive and the excessive number of tracings could be due to (1) creating @tf.function repeatedly in a loop, (2) passing tensors with different shapes, (3) passing Python objects instead of tensors. For (1), please define your @tf.function outside of the loop. For (2), @tf.function has reduce_retracing=True option that can avoid unnecessary retracing. For (3), please refer to https://www.tensorflow.org/guide/function#controlling_retracing and https://www.tensorflow.org/api_docs/python/tf/function for  more details.\n"
     ]
    },
    {
     "name": "stderr",
     "output_type": "stream",
     "text": [
      "WARNING:tensorflow:5 out of the last 10 calls to <function Model.make_train_function.<locals>.train_function at 0x7f73cb138c10> triggered tf.function retracing. Tracing is expensive and the excessive number of tracings could be due to (1) creating @tf.function repeatedly in a loop, (2) passing tensors with different shapes, (3) passing Python objects instead of tensors. For (1), please define your @tf.function outside of the loop. For (2), @tf.function has reduce_retracing=True option that can avoid unnecessary retracing. For (3), please refer to https://www.tensorflow.org/guide/function#controlling_retracing and https://www.tensorflow.org/api_docs/python/tf/function for  more details.\n"
     ]
    },
    {
     "name": "stdout",
     "output_type": "stream",
     "text": [
      "Bagging score: 0.61\n"
     ]
    }
   ],
   "source": [
    "from sklearn.ensemble import BaggingClassifier\n",
    "\n",
    "\n",
    "bagging = BaggingClassifier(base_estimator=clf, random_state=0, n_jobs=-1)\n",
    "\n",
    "bagging_score = bagging.fit(X, y).score(X, y)\n",
    "\n",
    "print(f\"Bagging score: {bagging_score:.2f}\")"
   ]
  }
 ],
 "metadata": {
  "jupytext": {
   "formats": "ipynb,md"
  },
  "kernelspec": {
   "display_name": "Python 3",
   "language": "python",
   "name": "python3"
  },
  "language_info": {
   "codemirror_mode": {
    "name": "ipython",
    "version": 3
   },
   "file_extension": ".py",
   "mimetype": "text/x-python",
   "name": "python",
   "nbconvert_exporter": "python",
   "pygments_lexer": "ipython3",
   "version": "3.8.13"
  }
 },
 "nbformat": 4,
 "nbformat_minor": 5
}
