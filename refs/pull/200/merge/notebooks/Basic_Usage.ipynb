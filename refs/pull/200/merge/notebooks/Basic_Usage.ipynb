{
 "cells": [
  {
   "cell_type": "raw",
   "id": "literary-easter",
   "metadata": {},
   "source": [
    "<a href=\"https://colab.research.google.com/github/adriangb/scikeras/blob/docs-deploy/refs/heads/master/notebooks/Basic_Usage.ipynb\"><img src=\"https://www.tensorflow.org/images/colab_logo_32px.png\">Run in Google Colab</a>"
   ]
  },
  {
   "cell_type": "markdown",
   "id": "typical-copper",
   "metadata": {},
   "source": [
    "# Basic usage\n",
    "\n",
    "`SciKeras` is designed to maximize interoperability between `sklearn` and `Keras/TensorFlow`. The aim is to keep 99% of the flexibility of `Keras` while being able to leverage most features of `sklearn`. Below, we show the basic usage of `SciKeras` and how it can be combined with `sklearn`.\n",
    "\n",
    "This notebook shows you how to use the basic functionality of `SciKeras`.\n",
    "\n",
    "## Table of contents\n",
    "\n",
    "* [1. Setup](#1.-Setup)\n",
    "* [2. Training a classifier and making predictions](#2.-Training-a-classifier-and-making-predictions)\n",
    "  * [2.1 A toy binary classification task](#2.1-A-toy-binary-classification-task)\n",
    "  * [2.2 Definition of the Keras classification Model](#2.2-Definition-of-the-Keras-classification-Model)\n",
    "  * [2.3 Defining and training the neural net classifier](#2.3-Defining-and-training-the-neural-net-classifier)\n",
    "  * [2.4 Making predictions, classification](#2.4-Making-predictions-classification)\n",
    "* [3 Training a regressor](#3.-Training-a-regressor)\n",
    "  * [3.1 A toy regression task](#3.1-A-toy-regression-task)\n",
    "  * [3.2 Definition of the Keras regression Model](#3.2-Definition-of-the-Keras-regression-Model)\n",
    "  * [3.3 Defining and training the neural net regressor](#3.3-Defining-and-training-the-neural-net-regressor)\n",
    "  * [3.4 Making predictions, regression](#3.4-Making-predictions-regression)\n",
    "* [4. Saving and loading a model](#4.-Saving-and-loading-a-model)\n",
    "  * [4.1 Saving the whole model](#4.1-Saving-the-whole-model)\n",
    "  * [4.2 Saving using Keras' saving methods](#4.2-Saving-using-Keras-saving-methods)\n",
    "* [5. Usage with an sklearn Pipeline](#5.-Usage-with-an-sklearn-Pipeline)\n",
    "* [6. Callbacks](#6.-Callbacks)\n",
    "* [7. Usage with sklearn GridSearchCV](#7.-Usage-with-sklearn-GridSearchCV)\n",
    "  * [7.1 Special prefixes](#7.1-Special-prefixes)\n",
    "  * [7.2 Performing a grid search](#7.2-Performing-a-grid-search)\n",
    "\n",
    "## 1. Setup"
   ]
  },
  {
   "cell_type": "code",
   "execution_count": 1,
   "id": "original-motorcycle",
   "metadata": {
    "execution": {
     "iopub.execute_input": "2021-02-20T07:53:59.767504Z",
     "iopub.status.busy": "2021-02-20T07:53:59.766886Z",
     "iopub.status.idle": "2021-02-20T07:54:01.555893Z",
     "shell.execute_reply": "2021-02-20T07:54:01.556661Z"
    }
   },
   "outputs": [],
   "source": [
    "try:\n",
    "    import scikeras\n",
    "except ImportError:\n",
    "    !python -m pip install scikeras"
   ]
  },
  {
   "cell_type": "markdown",
   "id": "fantastic-ceramic",
   "metadata": {},
   "source": [
    "Silence TensorFlow logging to keep output succinct."
   ]
  },
  {
   "cell_type": "code",
   "execution_count": 2,
   "id": "hairy-factory",
   "metadata": {
    "execution": {
     "iopub.execute_input": "2021-02-20T07:54:01.562449Z",
     "iopub.status.busy": "2021-02-20T07:54:01.561920Z",
     "iopub.status.idle": "2021-02-20T07:54:01.566790Z",
     "shell.execute_reply": "2021-02-20T07:54:01.567573Z"
    }
   },
   "outputs": [],
   "source": [
    "import warnings\n",
    "from tensorflow import get_logger\n",
    "get_logger().setLevel('ERROR')\n",
    "warnings.filterwarnings(\"ignore\", message=\"Setting the random state for TF\")"
   ]
  },
  {
   "cell_type": "code",
   "execution_count": 3,
   "id": "communist-imagination",
   "metadata": {
    "execution": {
     "iopub.execute_input": "2021-02-20T07:54:01.570805Z",
     "iopub.status.busy": "2021-02-20T07:54:01.569814Z",
     "iopub.status.idle": "2021-02-20T07:54:01.914797Z",
     "shell.execute_reply": "2021-02-20T07:54:01.916447Z"
    }
   },
   "outputs": [],
   "source": [
    "import numpy as np\n",
    "from scikeras.wrappers import KerasClassifier, KerasRegressor\n",
    "from tensorflow import keras"
   ]
  },
  {
   "cell_type": "markdown",
   "id": "imposed-companion",
   "metadata": {},
   "source": [
    "## 2. Training a classifier and making predictions\n",
    "\n",
    "### 2.1 A toy binary classification task\n",
    "\n",
    "We load a toy classification task from `sklearn`."
   ]
  },
  {
   "cell_type": "code",
   "execution_count": 4,
   "id": "monetary-innocent",
   "metadata": {
    "execution": {
     "iopub.execute_input": "2021-02-20T07:54:01.920258Z",
     "iopub.status.busy": "2021-02-20T07:54:01.919214Z",
     "iopub.status.idle": "2021-02-20T07:54:01.957558Z",
     "shell.execute_reply": "2021-02-20T07:54:01.958318Z"
    }
   },
   "outputs": [
    {
     "data": {
      "text/plain": [
       "((1000, 20), (1000,), 0.5)"
      ]
     },
     "execution_count": 1,
     "metadata": {},
     "output_type": "execute_result"
    }
   ],
   "source": [
    "import numpy as np\n",
    "from sklearn.datasets import make_classification\n",
    "\n",
    "\n",
    "X, y = make_classification(1000, 20, n_informative=10, random_state=0)\n",
    "\n",
    "X.shape, y.shape, y.mean()"
   ]
  },
  {
   "cell_type": "markdown",
   "id": "golden-blackberry",
   "metadata": {},
   "source": [
    "### 2.2 Definition of the Keras classification Model\n",
    "\n",
    "We define a vanilla neural network with.\n",
    "\n",
    "Because we are dealing with 2 classes, the output layer can be constructed in\n",
    "two different ways:\n",
    "\n",
    "1. Single unit with a `\"sigmoid\"` nonlinearity. The loss must be `\"binary_crossentropy\"`.\n",
    "2. Two units (one for each class) and a `\"softmax\"` nonlinearity. The loss must be `\"sparse_categorical_crossentropy\"`.\n",
    "\n",
    "In this example, we choose the first option, which is what you would usually\n",
    "do for binary classification. The second option is usually reserved for when\n",
    "you have >2 classes."
   ]
  },
  {
   "cell_type": "code",
   "execution_count": 5,
   "id": "civil-rebecca",
   "metadata": {
    "execution": {
     "iopub.execute_input": "2021-02-20T07:54:01.961443Z",
     "iopub.status.busy": "2021-02-20T07:54:01.960533Z",
     "iopub.status.idle": "2021-02-20T07:54:01.969137Z",
     "shell.execute_reply": "2021-02-20T07:54:01.969777Z"
    }
   },
   "outputs": [],
   "source": [
    "from tensorflow import keras\n",
    "\n",
    "\n",
    "def get_clf(meta, hidden_layer_sizes, dropout):\n",
    "    n_features_in_ = meta[\"n_features_in_\"]\n",
    "    n_classes_ = meta[\"n_classes_\"]\n",
    "    model = keras.models.Sequential()\n",
    "    model.add(keras.layers.Input(shape=(n_features_in_,)))\n",
    "    for hidden_layer_size in hidden_layer_sizes:\n",
    "        model.add(keras.layers.Dense(hidden_layer_size, activation=\"relu\"))\n",
    "        model.add(keras.layers.Dropout(dropout))\n",
    "    model.add(keras.layers.Dense(1, activation=\"sigmoid\"))\n",
    "    return model"
   ]
  },
  {
   "cell_type": "markdown",
   "id": "opponent-syracuse",
   "metadata": {},
   "source": [
    "### 2.3 Defining and training the neural net classifier\n",
    "\n",
    "We use `KerasClassifier` because we're dealing with a classifcation task. The first argument should be a callable returning a `Keras.Model`, in this case, `get_clf`. As additional arguments, we pass the number of loss function (required) and the optimizer, but the later is optional. We must also pass all of the arguments to `get_clf` as keyword arguments to `KerasClassifier` if they don't have a default value in `get_clf`. Note that if you do not pass an argument to `KerasClassifier`, it will not be avilable for hyperparameter tuning. Finally, we also pass `random_state=0` for reproducible results."
   ]
  },
  {
   "cell_type": "code",
   "execution_count": 6,
   "id": "flush-keyboard",
   "metadata": {
    "execution": {
     "iopub.execute_input": "2021-02-20T07:54:01.977924Z",
     "iopub.status.busy": "2021-02-20T07:54:01.976870Z",
     "iopub.status.idle": "2021-02-20T07:54:01.982181Z",
     "shell.execute_reply": "2021-02-20T07:54:01.982876Z"
    }
   },
   "outputs": [],
   "source": [
    "from scikeras.wrappers import KerasClassifier\n",
    "\n",
    "\n",
    "clf = KerasClassifier(\n",
    "    model=get_clf,\n",
    "    loss=\"binary_crossentropy\",\n",
    "    hidden_layer_sizes=(100,),\n",
    "    dropout=0.5,\n",
    ")"
   ]
  },
  {
   "cell_type": "markdown",
   "id": "supreme-combat",
   "metadata": {},
   "source": [
    "As in `sklearn`, we call `fit` passing the input data `X` and the targets `y`."
   ]
  },
  {
   "cell_type": "code",
   "execution_count": 7,
   "id": "controversial-passion",
   "metadata": {
    "execution": {
     "iopub.execute_input": "2021-02-20T07:54:01.986987Z",
     "iopub.status.busy": "2021-02-20T07:54:01.985212Z",
     "iopub.status.idle": "2021-02-20T07:54:02.677699Z",
     "shell.execute_reply": "2021-02-20T07:54:02.676984Z"
    }
   },
   "outputs": [
    {
     "name": "stdout",
     "output_type": "stream",
     "text": [
      "\r",
      " 1/32 [..............................] - ETA: 16s - loss: 1.1570"
     ]
    },
    {
     "name": "stdout",
     "output_type": "stream",
     "text": [
      "\b\b\b\b\b\b\b\b\b\b\b\b\b\b\b\b\b\b\b\b\b\b\b\b\b\b\b\b\b\b\b\b\b\b\b\b\b\b\b\b\b\b\b\b\b\b\b\b\b\b\b\b\b\b\b\b\b\b\b\b\b\b\b\b\r",
      "32/32 [==============================] - 1s 903us/step - loss: 1.0196\n"
     ]
    },
    {
     "data": {
      "text/plain": [
       "KerasClassifier(\n",
       "\tmodel=<function get_clf at 0x7f26cbe78b80>\n",
       "\tbuild_fn=None\n",
       "\twarm_start=False\n",
       "\trandom_state=None\n",
       "\toptimizer=rmsprop\n",
       "\tloss=binary_crossentropy\n",
       "\tmetrics=None\n",
       "\tbatch_size=None\n",
       "\tverbose=1\n",
       "\tcallbacks=None\n",
       "\tvalidation_split=0.0\n",
       "\tshuffle=True\n",
       "\trun_eagerly=False\n",
       "\tepochs=1\n",
       "\thidden_layer_sizes=(100,)\n",
       "\tdropout=0.5\n",
       "\tclass_weight=None\n",
       ")"
      ]
     },
     "execution_count": 1,
     "metadata": {},
     "output_type": "execute_result"
    }
   ],
   "source": [
    "clf.fit(X, y);"
   ]
  },
  {
   "cell_type": "markdown",
   "id": "practical-brisbane",
   "metadata": {},
   "source": [
    "Also, as in `sklearn`, you may call `predict` or `predict_proba` on the fitted model.\n",
    "\n",
    "### 2.4 Making predictions, classification"
   ]
  },
  {
   "cell_type": "code",
   "execution_count": 8,
   "id": "unsigned-trial",
   "metadata": {
    "execution": {
     "iopub.execute_input": "2021-02-20T07:54:02.684582Z",
     "iopub.status.busy": "2021-02-20T07:54:02.684132Z",
     "iopub.status.idle": "2021-02-20T07:54:02.789831Z",
     "shell.execute_reply": "2021-02-20T07:54:02.790208Z"
    }
   },
   "outputs": [
    {
     "name": "stdout",
     "output_type": "stream",
     "text": [
      "\r",
      "1/1 [==============================] - ETA: 0s"
     ]
    },
    {
     "name": "stdout",
     "output_type": "stream",
     "text": [
      "\b\b\b\b\b\b\b\b\b\b\b\b\b\b\b\b\b\b\b\b\b\b\b\b\b\b\b\b\b\b\b\b\b\b\b\b\b\b\b\b\b\b\b\b\b\b\r",
      "1/1 [==============================] - 0s 79ms/step\n"
     ]
    },
    {
     "data": {
      "text/plain": [
       "array([1, 0, 1, 1, 0])"
      ]
     },
     "execution_count": 1,
     "metadata": {},
     "output_type": "execute_result"
    }
   ],
   "source": [
    "y_pred = clf.predict(X[:5])\n",
    "y_pred"
   ]
  },
  {
   "cell_type": "code",
   "execution_count": 9,
   "id": "finished-baseline",
   "metadata": {
    "execution": {
     "iopub.execute_input": "2021-02-20T07:54:02.793658Z",
     "iopub.status.busy": "2021-02-20T07:54:02.793221Z",
     "iopub.status.idle": "2021-02-20T07:54:02.831080Z",
     "shell.execute_reply": "2021-02-20T07:54:02.831582Z"
    }
   },
   "outputs": [
    {
     "name": "stdout",
     "output_type": "stream",
     "text": [
      "\r",
      "1/1 [==============================] - ETA: 0s"
     ]
    },
    {
     "name": "stdout",
     "output_type": "stream",
     "text": [
      "\b\b\b\b\b\b\b\b\b\b\b\b\b\b\b\b\b\b\b\b\b\b\b\b\b\b\b\b\b\b\b\b\b\b\b\b\b\b\b\b\b\b\b\b\b\b\r",
      "1/1 [==============================] - 0s 12ms/step\n"
     ]
    },
    {
     "data": {
      "text/plain": [
       "array([[0.33817667, 0.66182333],\n",
       "       [0.69242007, 0.30757993],\n",
       "       [0.46965992, 0.5303401 ],\n",
       "       [0.38502657, 0.6149734 ],\n",
       "       [0.5820265 , 0.41797352]], dtype=float32)"
      ]
     },
     "execution_count": 1,
     "metadata": {},
     "output_type": "execute_result"
    }
   ],
   "source": [
    "y_proba = clf.predict_proba(X[:5])\n",
    "y_proba"
   ]
  },
  {
   "cell_type": "markdown",
   "id": "noticed-biodiversity",
   "metadata": {},
   "source": [
    "## 3 Training a regressor\n",
    "\n",
    "### 3.1 A toy regression task"
   ]
  },
  {
   "cell_type": "code",
   "execution_count": 10,
   "id": "applied-guide",
   "metadata": {
    "execution": {
     "iopub.execute_input": "2021-02-20T07:54:02.836133Z",
     "iopub.status.busy": "2021-02-20T07:54:02.835687Z",
     "iopub.status.idle": "2021-02-20T07:54:02.842497Z",
     "shell.execute_reply": "2021-02-20T07:54:02.842918Z"
    }
   },
   "outputs": [
    {
     "data": {
      "text/plain": [
       "((1000, 20), (1000,), -649.0148244404172, 615.4505181286091)"
      ]
     },
     "execution_count": 1,
     "metadata": {},
     "output_type": "execute_result"
    }
   ],
   "source": [
    "from sklearn.datasets import make_regression\n",
    "\n",
    "\n",
    "X_regr, y_regr = make_regression(1000, 20, n_informative=10, random_state=0)\n",
    "\n",
    "X_regr.shape, y_regr.shape, y_regr.min(), y_regr.max()"
   ]
  },
  {
   "cell_type": "markdown",
   "id": "improved-article",
   "metadata": {},
   "source": [
    "### 3.2 Definition of the Keras regression Model\n",
    "\n",
    "Again, define a vanilla neural network. The main difference is that the output layer always has a single unit and does not apply any nonlinearity."
   ]
  },
  {
   "cell_type": "code",
   "execution_count": 11,
   "id": "substantial-nitrogen",
   "metadata": {
    "execution": {
     "iopub.execute_input": "2021-02-20T07:54:02.845373Z",
     "iopub.status.busy": "2021-02-20T07:54:02.844879Z",
     "iopub.status.idle": "2021-02-20T07:54:02.863789Z",
     "shell.execute_reply": "2021-02-20T07:54:02.864234Z"
    }
   },
   "outputs": [],
   "source": [
    "def get_reg(meta, hidden_layer_sizes, dropout):\n",
    "    n_features_in_ = meta[\"n_features_in_\"]\n",
    "    model = keras.models.Sequential()\n",
    "    model.add(keras.layers.Input(shape=(n_features_in_,)))\n",
    "    for hidden_layer_size in hidden_layer_sizes:\n",
    "        model.add(keras.layers.Dense(hidden_layer_size, activation=\"relu\"))\n",
    "        model.add(keras.layers.Dropout(dropout))\n",
    "    model.add(keras.layers.Dense(1))\n",
    "    return model"
   ]
  },
  {
   "cell_type": "markdown",
   "id": "revised-object",
   "metadata": {},
   "source": [
    "### 3.3 Defining and training the neural net regressor\n",
    "\n",
    "Training a regressor has nearly the same data flow as training a classifier. The differences include using `KerasRegressor` instead of `KerasClassifier` and adding `KerasRegressor.r_squared` as a metric. Most of the Scikit-learn regressors use the coefficient of determination or R^2 as a metric function, which measures correlation between the true labels and predicted labels."
   ]
  },
  {
   "cell_type": "code",
   "execution_count": 12,
   "id": "civic-stuart",
   "metadata": {
    "execution": {
     "iopub.execute_input": "2021-02-20T07:54:02.867629Z",
     "iopub.status.busy": "2021-02-20T07:54:02.867178Z",
     "iopub.status.idle": "2021-02-20T07:54:02.878242Z",
     "shell.execute_reply": "2021-02-20T07:54:02.878692Z"
    }
   },
   "outputs": [],
   "source": [
    "from scikeras.wrappers import KerasRegressor\n",
    "\n",
    "\n",
    "reg = KerasRegressor(\n",
    "    model=get_reg,\n",
    "    loss=\"mse\",\n",
    "    metrics=[KerasRegressor.r_squared],\n",
    "    hidden_layer_sizes=(100,),\n",
    "    dropout=0.5,\n",
    ")"
   ]
  },
  {
   "cell_type": "code",
   "execution_count": 13,
   "id": "furnished-invasion",
   "metadata": {
    "execution": {
     "iopub.execute_input": "2021-02-20T07:54:02.881192Z",
     "iopub.status.busy": "2021-02-20T07:54:02.880768Z",
     "iopub.status.idle": "2021-02-20T07:54:03.604182Z",
     "shell.execute_reply": "2021-02-20T07:54:03.604891Z"
    }
   },
   "outputs": [
    {
     "name": "stdout",
     "output_type": "stream",
     "text": [
      "\r",
      " 1/32 [..............................] - ETA: 17s - loss: 53988.0859 - r_squared: -0.0208"
     ]
    },
    {
     "name": "stdout",
     "output_type": "stream",
     "text": [
      "\b\b\b\b\b\b\b\b\b\b\b\b\b\b\b\b\b\b\b\b\b\b\b\b\b\b\b\b\b\b\b\b\b\b\b\b\b\b\b\b\b\b\b\b\b\b\b\b\b\b\b\b\b\b\b\b\b\b\b\b\b\b\b\b\b\b\b\b\b\b\b\b\b\b\b\b\b\b\b\b\b\b\b\b\b\b\b\b\b\r",
      "32/32 [==============================] - 1s 871us/step - loss: 46124.4667 - r_squared: -0.0209\n"
     ]
    },
    {
     "data": {
      "text/plain": [
       "KerasRegressor(\n",
       "\tmodel=<function get_reg at 0x7f27341e30d0>\n",
       "\tbuild_fn=None\n",
       "\twarm_start=False\n",
       "\trandom_state=None\n",
       "\toptimizer=rmsprop\n",
       "\tloss=mse\n",
       "\tmetrics=[<function KerasRegressor.r_squared at 0x7f26cbe789d0>]\n",
       "\tbatch_size=None\n",
       "\tverbose=1\n",
       "\tcallbacks=None\n",
       "\tvalidation_split=0.0\n",
       "\tshuffle=True\n",
       "\trun_eagerly=False\n",
       "\tepochs=1\n",
       "\thidden_layer_sizes=(100,)\n",
       "\tdropout=0.5\n",
       ")"
      ]
     },
     "execution_count": 1,
     "metadata": {},
     "output_type": "execute_result"
    }
   ],
   "source": [
    "reg.fit(X_regr, y_regr);"
   ]
  },
  {
   "cell_type": "markdown",
   "id": "another-sharp",
   "metadata": {},
   "source": [
    "### 3.4 Making predictions, regression\n",
    "\n",
    "You may call `predict` or `predict_proba` on the fitted model. For regressions, both methods return the same value."
   ]
  },
  {
   "cell_type": "code",
   "execution_count": 14,
   "id": "functioning-asset",
   "metadata": {
    "execution": {
     "iopub.execute_input": "2021-02-20T07:54:03.608278Z",
     "iopub.status.busy": "2021-02-20T07:54:03.607263Z",
     "iopub.status.idle": "2021-02-20T07:54:03.672298Z",
     "shell.execute_reply": "2021-02-20T07:54:03.671820Z"
    }
   },
   "outputs": [
    {
     "name": "stdout",
     "output_type": "stream",
     "text": [
      "\r",
      "1/1 [==============================] - ETA: 0s"
     ]
    },
    {
     "name": "stdout",
     "output_type": "stream",
     "text": [
      "\b\b\b\b\b\b\b\b\b\b\b\b\b\b\b\b\b\b\b\b\b\b\b\b\b\b\b\b\b\b\b\b\b\b\b\b\b\b\b\b\b\b\b\b\b\b\r",
      "1/1 [==============================] - 0s 34ms/step\n"
     ]
    },
    {
     "data": {
      "text/plain": [
       "array([-0.66796887, -1.6406353 , -1.2513076 , -0.49788377, -0.7100231 ],\n",
       "      dtype=float32)"
      ]
     },
     "execution_count": 1,
     "metadata": {},
     "output_type": "execute_result"
    }
   ],
   "source": [
    "y_pred = reg.predict(X_regr[:5])\n",
    "y_pred"
   ]
  },
  {
   "cell_type": "markdown",
   "id": "patent-rwanda",
   "metadata": {},
   "source": [
    "## 4. Saving and loading a model\n",
    "\n",
    "Save and load either the whole model by using pickle, or use Keras' specialized save methods on the `KerasClassifier.model_` or `KerasRegressor.model_` attribute that is created after fitting. You will want to use Keras' model saving utilities if any of the following apply:\n",
    "\n",
    "1. You wish to save only the weights or only the training configuration of your model.\n",
    "2. You wish to share your model with collaborators. Pickle is a relatively unsafe protocol and it is not recommended to share or load pickle objects publically.\n",
    "3. You care about performance, especially if doing in-memory serialization.\n",
    "\n",
    "For more information, see Keras' [saving documentation](https://www.tensorflow.org/guide/keras/save_and_serialize).\n",
    "\n",
    "### 4.1 Saving the whole model"
   ]
  },
  {
   "cell_type": "code",
   "execution_count": 15,
   "id": "criminal-party",
   "metadata": {
    "execution": {
     "iopub.execute_input": "2021-02-20T07:54:03.684429Z",
     "iopub.status.busy": "2021-02-20T07:54:03.683895Z",
     "iopub.status.idle": "2021-02-20T07:54:04.802918Z",
     "shell.execute_reply": "2021-02-20T07:54:04.803712Z"
    }
   },
   "outputs": [
    {
     "name": "stdout",
     "output_type": "stream",
     "text": [
      "\r",
      "1/1 [==============================] - ETA: 0s"
     ]
    },
    {
     "name": "stdout",
     "output_type": "stream",
     "text": [
      "\b\b\b\b\b\b\b\b\b\b\b\b\b\b\b\b\b\b\b\b\b\b\b\b\b\b\b\b\b\b\b\b\b\b\b\b\b\b\b\b\b\b\b\b\b\b\r",
      "1/1 [==============================] - 0s 181ms/step\n"
     ]
    },
    {
     "data": {
      "text/plain": [
       "array([-0.66796887, -1.6406353 , -1.2513076 , -0.49788377, -0.7100231 ],\n",
       "      dtype=float32)"
      ]
     },
     "execution_count": 1,
     "metadata": {},
     "output_type": "execute_result"
    }
   ],
   "source": [
    "import pickle\n",
    "\n",
    "\n",
    "bytes_model = pickle.dumps(reg)\n",
    "new_reg = pickle.loads(bytes_model)\n",
    "new_reg.predict(X_regr[:5])  # model is still trained"
   ]
  },
  {
   "cell_type": "markdown",
   "id": "preceding-longitude",
   "metadata": {},
   "source": [
    "### 4.2 Saving using Keras' saving methods\n",
    "\n",
    "This efficiently and safely saves the model to disk, including trained weights.\n",
    "You should use this method if you plan on sharing your saved models."
   ]
  },
  {
   "cell_type": "code",
   "execution_count": 16,
   "id": "standing-potential",
   "metadata": {
    "execution": {
     "iopub.execute_input": "2021-02-20T07:54:04.807638Z",
     "iopub.status.busy": "2021-02-20T07:54:04.807128Z",
     "iopub.status.idle": "2021-02-20T07:54:05.415819Z",
     "shell.execute_reply": "2021-02-20T07:54:05.416193Z"
    }
   },
   "outputs": [
    {
     "name": "stdout",
     "output_type": "stream",
     "text": [
      "\r",
      " 1/32 [..............................] - ETA: 0s"
     ]
    },
    {
     "name": "stdout",
     "output_type": "stream",
     "text": [
      "\b\b\b\b\b\b\b\b\b\b\b\b\b\b\b\b\b\b\b\b\b\b\b\b\b\b\b\b\b\b\b\b\b\b\b\b\b\b\b\b\b\b\b\b\b\b\b\b\r",
      "32/32 [==============================] - 0s 609us/step\n"
     ]
    }
   ],
   "source": [
    "# Save to disk\n",
    "pred_old = reg.predict(X_regr)\n",
    "reg.model_.save(\"/tmp/my_model\")  # saves just the Keras model"
   ]
  },
  {
   "cell_type": "code",
   "execution_count": 17,
   "id": "competitive-bennett",
   "metadata": {
    "execution": {
     "iopub.execute_input": "2021-02-20T07:54:05.421040Z",
     "iopub.status.busy": "2021-02-20T07:54:05.420593Z",
     "iopub.status.idle": "2021-02-20T07:54:05.684786Z",
     "shell.execute_reply": "2021-02-20T07:54:05.685374Z"
    }
   },
   "outputs": [
    {
     "name": "stdout",
     "output_type": "stream",
     "text": [
      "\r",
      " 1/32 [..............................] - ETA: 0s"
     ]
    },
    {
     "name": "stdout",
     "output_type": "stream",
     "text": [
      "\b\b\b\b\b\b\b\b\b\b\b\b\b\b\b\b\b\b\b\b\b\b\b\b\b\b\b\b\b\b\b\b\b\b\b\b\b\b\b\b\b\b\b\b\b\b\b\b\r",
      "32/32 [==============================] - 0s 571us/step\n"
     ]
    }
   ],
   "source": [
    "# Load the model back into memory\n",
    "new_reg_model = keras.models.load_model(\"/tmp/my_model\")\n",
    "# Now we need to instantiate a new SciKeras object\n",
    "# since we only saved the Keras model\n",
    "reg_new = KerasRegressor(new_reg_model)\n",
    "# use initialize to avoid re-fitting\n",
    "reg_new.initialize(X_regr, y_regr)\n",
    "pred_new = reg_new.predict(X_regr)\n",
    "np.testing.assert_allclose(pred_old, pred_new)"
   ]
  },
  {
   "cell_type": "markdown",
   "id": "motivated-bones",
   "metadata": {},
   "source": [
    "## 5. Usage with an sklearn Pipeline\n",
    "\n",
    "It is possible to put the `KerasClassifier` inside an `sklearn Pipeline`, as you would with any `sklearn` classifier.\n"
   ]
  },
  {
   "cell_type": "code",
   "execution_count": 18,
   "id": "handed-marking",
   "metadata": {
    "execution": {
     "iopub.execute_input": "2021-02-20T07:54:05.700560Z",
     "iopub.status.busy": "2021-02-20T07:54:05.700004Z",
     "iopub.status.idle": "2021-02-20T07:54:06.400107Z",
     "shell.execute_reply": "2021-02-20T07:54:06.400913Z"
    }
   },
   "outputs": [
    {
     "name": "stdout",
     "output_type": "stream",
     "text": [
      "\r",
      " 1/32 [..............................] - ETA: 14s - loss: 0.8420"
     ]
    },
    {
     "name": "stdout",
     "output_type": "stream",
     "text": [
      "\b\b\b\b\b\b\b\b\b\b\b\b\b\b\b\b\b\b\b\b\b\b\b\b\b\b\b\b\b\b\b\b\b\b\b\b\b\b\b\b\b\b\b\b\b\b\b\b\b\b\b\b\b\b\b\b\b\b\b\b\b\b\b\b\r",
      "32/32 [==============================] - 1s 865us/step - loss: 0.7293\n"
     ]
    },
    {
     "name": "stdout",
     "output_type": "stream",
     "text": [
      "\r",
      " 1/32 [..............................] - ETA: 1s"
     ]
    },
    {
     "name": "stdout",
     "output_type": "stream",
     "text": [
      "\b\b\b\b\b\b\b\b\b\b\b\b\b\b\b\b\b\b\b\b\b\b\b\b\b\b\b\b\b\b\b\b\b\b\b\b\b\b\b\b\b\b\b\b\b\b\b\b\r",
      "32/32 [==============================] - 0s 639us/step\n"
     ]
    }
   ],
   "source": [
    "from sklearn.pipeline import Pipeline\n",
    "from sklearn.preprocessing import StandardScaler\n",
    "\n",
    "\n",
    "pipe = Pipeline([\n",
    "    ('scale', StandardScaler()),\n",
    "    ('clf', clf),\n",
    "])\n",
    "\n",
    "\n",
    "y_proba = pipe.fit(X, y).predict(X)"
   ]
  },
  {
   "cell_type": "markdown",
   "id": "utility-serbia",
   "metadata": {},
   "source": [
    "To save the whole pipeline, including the Keras model, use `pickle`.\n",
    "\n",
    "## 6. Callbacks\n",
    "\n",
    "Adding a new callback to the model is straightforward. Below we define a threashold callback\n",
    "to avoid training past a certain accuracy. This a rudimentary for of\n",
    "[early stopping](https://www.tensorflow.org/api_docs/python/tf/keras/callbacks/EarlyStopping)."
   ]
  },
  {
   "cell_type": "code",
   "execution_count": 19,
   "id": "according-russell",
   "metadata": {
    "execution": {
     "iopub.execute_input": "2021-02-20T07:54:06.406652Z",
     "iopub.status.busy": "2021-02-20T07:54:06.406139Z",
     "iopub.status.idle": "2021-02-20T07:54:06.409495Z",
     "shell.execute_reply": "2021-02-20T07:54:06.409932Z"
    }
   },
   "outputs": [],
   "source": [
    "class MaxValLoss(keras.callbacks.Callback):\n",
    "\n",
    "    def __init__(self, monitor: str, threashold: float):\n",
    "        self.monitor = monitor\n",
    "        self.threashold = threashold\n",
    "\n",
    "    def on_epoch_end(self, epoch, logs=None):\n",
    "        if logs[self.monitor] > self.threashold:\n",
    "            print(\"Threashold reached; stopping training\") \n",
    "            self.model.stop_training = True"
   ]
  },
  {
   "cell_type": "markdown",
   "id": "northern-webmaster",
   "metadata": {},
   "source": [
    "Define a test dataset:"
   ]
  },
  {
   "cell_type": "code",
   "execution_count": 20,
   "id": "imposed-extraction",
   "metadata": {
    "execution": {
     "iopub.execute_input": "2021-02-20T07:54:06.415073Z",
     "iopub.status.busy": "2021-02-20T07:54:06.414531Z",
     "iopub.status.idle": "2021-02-20T07:54:06.417738Z",
     "shell.execute_reply": "2021-02-20T07:54:06.417363Z"
    }
   },
   "outputs": [],
   "source": [
    "from sklearn.datasets import make_moons\n",
    "\n",
    "\n",
    "X, y = make_moons(n_samples=100, noise=0.2, random_state=0)"
   ]
  },
  {
   "cell_type": "markdown",
   "id": "chicken-letter",
   "metadata": {},
   "source": [
    "And try fitting it with and without the callback:"
   ]
  },
  {
   "cell_type": "code",
   "execution_count": 21,
   "id": "local-hammer",
   "metadata": {
    "execution": {
     "iopub.execute_input": "2021-02-20T07:54:06.432047Z",
     "iopub.status.busy": "2021-02-20T07:54:06.431548Z",
     "iopub.status.idle": "2021-02-20T07:54:08.146676Z",
     "shell.execute_reply": "2021-02-20T07:54:08.147405Z"
    }
   },
   "outputs": [
    {
     "name": "stdout",
     "output_type": "stream",
     "text": [
      "Trained 20 epochs\n",
      "Final accuracy: 1.0\n"
     ]
    }
   ],
   "source": [
    "kwargs = dict(\n",
    "    model=get_clf,\n",
    "    loss=\"binary_crossentropy\",\n",
    "    dropout=0.5,\n",
    "    hidden_layer_sizes=(100,),\n",
    "    metrics=[\"binary_accuracy\"],\n",
    "    fit__validation_split=0.2,\n",
    "    epochs=20,\n",
    "    verbose=False,\n",
    "    random_state=0\n",
    ")\n",
    "\n",
    "# First test without the callback\n",
    "clf = KerasClassifier(**kwargs)\n",
    "clf.fit(X, y)\n",
    "print(f\"Trained {len(clf.history_['loss'])} epochs\")\n",
    "print(f\"Final accuracy: {clf.history_['val_binary_accuracy'][-1]}\")  # get last value of last fit/partial_fit call"
   ]
  },
  {
   "cell_type": "markdown",
   "id": "juvenile-laundry",
   "metadata": {},
   "source": [
    "And with:"
   ]
  },
  {
   "cell_type": "code",
   "execution_count": 22,
   "id": "falling-lambda",
   "metadata": {
    "execution": {
     "iopub.execute_input": "2021-02-20T07:54:08.155289Z",
     "iopub.status.busy": "2021-02-20T07:54:08.154732Z",
     "iopub.status.idle": "2021-02-20T07:54:09.023523Z",
     "shell.execute_reply": "2021-02-20T07:54:09.022769Z"
    }
   },
   "outputs": [
    {
     "name": "stdout",
     "output_type": "stream",
     "text": [
      "Threashold reached; stopping training\n",
      "Trained 2 epochs\n",
      "Final accuracy: 0.949999988079071\n"
     ]
    }
   ],
   "source": [
    "# Test with the callback\n",
    "\n",
    "cb = MaxValLoss(monitor=\"val_binary_accuracy\", threashold=0.75)\n",
    "\n",
    "clf = KerasClassifier(\n",
    "    **kwargs,\n",
    "    callbacks=[cb]\n",
    ")\n",
    "clf.fit(X, y)\n",
    "print(f\"Trained {len(clf.history_['loss'])} epochs\")\n",
    "print(f\"Final accuracy: {clf.history_['val_binary_accuracy'][-1]}\")  # get last value of last fit/partial_fit call"
   ]
  },
  {
   "cell_type": "markdown",
   "id": "structural-article",
   "metadata": {},
   "source": [
    "For information on how to write custom callbacks, have a look at the\n",
    "[Advanced Usage](https://nbviewer.jupyter.org/github/adriangb/scikeras/blob/master/notebooks/Advanced_Usage.ipynb) notebook.\n",
    "\n",
    "## 7. Usage with sklearn GridSearchCV\n",
    "\n",
    "### 7.1 Special prefixes\n",
    "\n",
    "SciKeras allows to direct access to all parameters passed to the wrapper constructors, including deeply nested routed parameters. This allows tunning of\n",
    "paramters like `hidden_layer_sizes` as well as `optimizer__learning_rate`.\n",
    "\n",
    "This is exactly the same logic that allows to access estimator parameters in `sklearn Pipeline`s and `FeatureUnion`s.\n",
    "\n",
    "This feature is useful in several ways. For one, it allows to set those parameters in the model definition. Furthermore, it allows you to set parameters in an `sklearn GridSearchCV` as shown below.\n",
    "\n",
    "To differentiate paramters like `callbacks` which are accepted by both `tf.keras.Model.fit` and `tf.keras.Model.predict` you can add a `fit__` or `predict__` routing suffix respectively. Similar, the `model__` prefix may be used to specify that a paramter is destined only for `get_clf`/`get_reg` (or whatever callable you pass as your `model` argument).\n",
    "\n",
    "For more information on parameter routing with special prefixes, see the [Advanced Usage Docs](https://www.adriangb.com/scikeras/stable/advanced.html#routed-parameters)\n",
    "\n",
    "### 7.2 Performing a grid search\n",
    "\n",
    "Below we show how to perform a grid search over the learning rate (`optimizer__lr`), the model's number of hidden layers (`model__hidden_layer_sizes`), the model's dropout rate (`model__dropout`)."
   ]
  },
  {
   "cell_type": "code",
   "execution_count": 23,
   "id": "revised-mouse",
   "metadata": {
    "execution": {
     "iopub.execute_input": "2021-02-20T07:54:09.030052Z",
     "iopub.status.busy": "2021-02-20T07:54:09.029592Z",
     "iopub.status.idle": "2021-02-20T07:54:09.032220Z",
     "shell.execute_reply": "2021-02-20T07:54:09.032752Z"
    }
   },
   "outputs": [],
   "source": [
    "from sklearn.model_selection import GridSearchCV\n",
    "\n",
    "\n",
    "clf = KerasClassifier(\n",
    "    model=get_clf,\n",
    "    loss=\"binary_crossentropy\",\n",
    "    optimizer=\"adam\",\n",
    "    optimizer__lr=0.1,\n",
    "    model__hidden_layer_sizes=(100,),\n",
    "    model__dropout=0.5,\n",
    "    verbose=False,\n",
    ")"
   ]
  },
  {
   "cell_type": "markdown",
   "id": "extreme-procedure",
   "metadata": {},
   "source": [
    "*Note*: We set the verbosity level to zero (`verbose=False`) to prevent too much print output from being shown."
   ]
  },
  {
   "cell_type": "code",
   "execution_count": 24,
   "id": "spanish-steam",
   "metadata": {
    "execution": {
     "iopub.execute_input": "2021-02-20T07:54:09.035756Z",
     "iopub.status.busy": "2021-02-20T07:54:09.035068Z",
     "iopub.status.idle": "2021-02-20T07:54:33.078027Z",
     "shell.execute_reply": "2021-02-20T07:54:33.077612Z"
    }
   },
   "outputs": [
    {
     "name": "stdout",
     "output_type": "stream",
     "text": [
      "Fitting 5 folds for each of 8 candidates, totalling 40 fits\n"
     ]
    },
    {
     "name": "stderr",
     "output_type": "stream",
     "text": [
      "[Parallel(n_jobs=-1)]: Using backend LokyBackend with 2 concurrent workers.\n"
     ]
    },
    {
     "name": "stderr",
     "output_type": "stream",
     "text": [
      "[Parallel(n_jobs=-1)]: Done  40 out of  40 | elapsed:   23.4s finished\n"
     ]
    },
    {
     "name": "stdout",
     "output_type": "stream",
     "text": [
      "0.86 {'model__dropout': 0.5, 'model__hidden_layer_sizes': (50, 50), 'optimizer__lr': 0.1}\n"
     ]
    }
   ],
   "source": [
    "params = {\n",
    "    'optimizer__lr': [0.05, 0.1],\n",
    "    'model__hidden_layer_sizes': [(100, ), (50, 50, )],\n",
    "    'model__dropout': [0, 0.5],\n",
    "}\n",
    "\n",
    "gs = GridSearchCV(clf, params, scoring='accuracy', n_jobs=-1, verbose=True)\n",
    "\n",
    "gs.fit(X, y)\n",
    "\n",
    "print(gs.best_score_, gs.best_params_)"
   ]
  },
  {
   "cell_type": "markdown",
   "id": "organized-capture",
   "metadata": {},
   "source": [
    "Of course, we could further nest the `KerasClassifier` within an `sklearn.pipeline.Pipeline`,\n",
    "in which case we just prefix the parameter by the name of the net (e.g. `clf__model__hidden_layer_sizes`)."
   ]
  }
 ],
 "metadata": {
  "jupytext": {
   "formats": "ipynb,md"
  },
  "kernelspec": {
   "display_name": "Python 3",
   "language": "python",
   "name": "python3"
  },
  "language_info": {
   "codemirror_mode": {
    "name": "ipython",
    "version": 3
   },
   "file_extension": ".py",
   "mimetype": "text/x-python",
   "name": "python",
   "nbconvert_exporter": "python",
   "pygments_lexer": "ipython3",
   "version": "3.8.7"
  }
 },
 "nbformat": 4,
 "nbformat_minor": 5
}
