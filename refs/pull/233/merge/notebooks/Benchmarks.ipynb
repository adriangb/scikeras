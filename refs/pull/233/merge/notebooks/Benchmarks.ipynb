{
 "cells": [
  {
   "cell_type": "raw",
   "id": "98aec8d0",
   "metadata": {},
   "source": [
    "<a href=\"https://colab.research.google.com/github/adriangb/scikeras/blob/docs-deploy/refs/heads/master/notebooks/Benchmarks.ipynb\"><img src=\"https://www.tensorflow.org/images/colab_logo_32px.png\">Run in Google Colab</a>"
   ]
  },
  {
   "cell_type": "markdown",
   "id": "3595ee6a",
   "metadata": {},
   "source": [
    "# SciKeras Benchmarks\n",
    "\n",
    "SciKeras wraps Keras Models, but does not alter their performance since all of the heavy lifting still happens within Keras/Tensorflow. In this notebook, we compare the performance and accuracy of a pure-Keras Model to the same model wrapped in SciKeras.\n",
    "\n",
    "## Table of contents\n",
    "\n",
    "* [1. Setup](#1.-Setup)\n",
    "* [2. Dataset](#2.-Dataset)\n",
    "* [3. Define Keras Model](#3.-Define-Keras-Model)\n",
    "* [4. Keras benchmarks](#4.-Keras-benchmarks)\n",
    "* [5. SciKeras benchmark](#5.-SciKeras-benchmark)\n",
    "\n",
    "## 1. Setup"
   ]
  },
  {
   "cell_type": "code",
   "execution_count": 1,
   "id": "75953a5d",
   "metadata": {
    "execution": {
     "iopub.execute_input": "2021-06-04T17:38:31.179648Z",
     "iopub.status.busy": "2021-06-04T17:38:31.178996Z",
     "iopub.status.idle": "2021-06-04T17:38:33.204757Z",
     "shell.execute_reply": "2021-06-04T17:38:33.204174Z"
    }
   },
   "outputs": [],
   "source": [
    "try:\n",
    "    import scikeras\n",
    "except ImportError:\n",
    "    !python -m pip install scikeras"
   ]
  },
  {
   "cell_type": "markdown",
   "id": "3581b168",
   "metadata": {},
   "source": [
    "Silence TensorFlow logging to keep output succinct."
   ]
  },
  {
   "cell_type": "code",
   "execution_count": 2,
   "id": "5868e93f",
   "metadata": {
    "execution": {
     "iopub.execute_input": "2021-06-04T17:38:33.209803Z",
     "iopub.status.busy": "2021-06-04T17:38:33.209271Z",
     "iopub.status.idle": "2021-06-04T17:38:33.212505Z",
     "shell.execute_reply": "2021-06-04T17:38:33.213136Z"
    }
   },
   "outputs": [],
   "source": [
    "import warnings\n",
    "from tensorflow import get_logger\n",
    "get_logger().setLevel('ERROR')\n",
    "warnings.filterwarnings(\"ignore\", message=\"Setting the random state for TF\")"
   ]
  },
  {
   "cell_type": "code",
   "execution_count": 3,
   "id": "bbcf3b97",
   "metadata": {
    "execution": {
     "iopub.execute_input": "2021-06-04T17:38:33.217775Z",
     "iopub.status.busy": "2021-06-04T17:38:33.217242Z",
     "iopub.status.idle": "2021-06-04T17:38:33.726895Z",
     "shell.execute_reply": "2021-06-04T17:38:33.725882Z"
    }
   },
   "outputs": [],
   "source": [
    "import numpy as np\n",
    "from scikeras.wrappers import KerasClassifier, KerasRegressor\n",
    "from tensorflow import keras"
   ]
  },
  {
   "cell_type": "markdown",
   "id": "6654990f",
   "metadata": {},
   "source": [
    "## 2. Dataset\n",
    "\n",
    "We will be using the MNIST dataset available within Keras."
   ]
  },
  {
   "cell_type": "code",
   "execution_count": 4,
   "id": "a1bb89b5",
   "metadata": {
    "execution": {
     "iopub.execute_input": "2021-06-04T17:38:33.734512Z",
     "iopub.status.busy": "2021-06-04T17:38:33.733963Z",
     "iopub.status.idle": "2021-06-04T17:38:34.337687Z",
     "shell.execute_reply": "2021-06-04T17:38:34.338591Z"
    }
   },
   "outputs": [],
   "source": [
    "(x_train, y_train), (x_test, y_test) = keras.datasets.mnist.load_data()\n",
    "# Scale images to the [0, 1] range\n",
    "x_train = x_train.astype(\"float32\") / 255\n",
    "x_test = x_test.astype(\"float32\") / 255\n",
    "# Make sure images have shape (28, 28, 1)\n",
    "x_train = np.expand_dims(x_train, -1)\n",
    "x_test = np.expand_dims(x_test, -1)\n",
    "# Reduce dataset size for faster benchmarks\n",
    "x_train, y_train = x_train[:2000], y_train[:2000]\n",
    "x_test, y_test = x_test[:500], y_test[:500]"
   ]
  },
  {
   "cell_type": "markdown",
   "id": "097235fb",
   "metadata": {},
   "source": [
    "## 3. Define Keras Model\n",
    "\n",
    "Next we will define our Keras model (adapted from [keras.io](https://keras.io/examples/vision/mnist_convnet/)):"
   ]
  },
  {
   "cell_type": "code",
   "execution_count": 5,
   "id": "f03385f4",
   "metadata": {
    "execution": {
     "iopub.execute_input": "2021-06-04T17:38:34.342328Z",
     "iopub.status.busy": "2021-06-04T17:38:34.341229Z",
     "iopub.status.idle": "2021-06-04T17:38:34.355116Z",
     "shell.execute_reply": "2021-06-04T17:38:34.355867Z"
    }
   },
   "outputs": [],
   "source": [
    "num_classes = 10\n",
    "input_shape = (28, 28, 1)\n",
    "\n",
    "\n",
    "def get_model():\n",
    "    model = keras.Sequential(\n",
    "        [\n",
    "            keras.Input(input_shape),\n",
    "            keras.layers.Conv2D(32, kernel_size=(3, 3), activation=\"relu\"),\n",
    "            keras.layers.MaxPooling2D(pool_size=(2, 2)),\n",
    "            keras.layers.Conv2D(64, kernel_size=(3, 3), activation=\"relu\"),\n",
    "            keras.layers.MaxPooling2D(pool_size=(2, 2)),\n",
    "            keras.layers.Flatten(),\n",
    "            keras.layers.Dropout(0.5),\n",
    "            keras.layers.Dense(num_classes, activation=\"softmax\"),\n",
    "        ]\n",
    "    )\n",
    "    model.compile(\n",
    "        loss=\"sparse_categorical_crossentropy\", optimizer=\"adam\"\n",
    "    )\n",
    "    return model"
   ]
  },
  {
   "cell_type": "markdown",
   "id": "02c10f13",
   "metadata": {},
   "source": [
    "## 4. Keras benchmarks"
   ]
  },
  {
   "cell_type": "code",
   "execution_count": 6,
   "id": "227817d1",
   "metadata": {
    "execution": {
     "iopub.execute_input": "2021-06-04T17:38:34.359566Z",
     "iopub.status.busy": "2021-06-04T17:38:34.358498Z",
     "iopub.status.idle": "2021-06-04T17:38:34.367052Z",
     "shell.execute_reply": "2021-06-04T17:38:34.367476Z"
    }
   },
   "outputs": [],
   "source": [
    "fit_kwargs = {\"batch_size\": 128, \"validation_split\": 0.1, \"verbose\": 0, \"epochs\": 5}"
   ]
  },
  {
   "cell_type": "code",
   "execution_count": 7,
   "id": "47dce6b5",
   "metadata": {
    "execution": {
     "iopub.execute_input": "2021-06-04T17:38:34.371611Z",
     "iopub.status.busy": "2021-06-04T17:38:34.371057Z",
     "iopub.status.idle": "2021-06-04T17:38:34.375940Z",
     "shell.execute_reply": "2021-06-04T17:38:34.375049Z"
    }
   },
   "outputs": [],
   "source": [
    "from sklearn.metrics import accuracy_score\n",
    "from scikeras._utils import TFRandomState"
   ]
  },
  {
   "cell_type": "code",
   "execution_count": 8,
   "id": "5fd78b6d",
   "metadata": {
    "execution": {
     "iopub.execute_input": "2021-06-04T17:38:34.385424Z",
     "iopub.status.busy": "2021-06-04T17:38:34.380539Z",
     "iopub.status.idle": "2021-06-04T17:38:43.069078Z",
     "shell.execute_reply": "2021-06-04T17:38:43.069520Z"
    }
   },
   "outputs": [
    {
     "name": "stdout",
     "output_type": "stream",
     "text": [
      "Training time: 8.38\n"
     ]
    },
    {
     "name": "stdout",
     "output_type": "stream",
     "text": [
      "Accuracy: 0.882\n"
     ]
    }
   ],
   "source": [
    "from time import time\n",
    "\n",
    "with TFRandomState(seed=0):  # we force a TF random state to be able to compare accuracy\n",
    "    model = get_model()\n",
    "    start = time()\n",
    "    model.fit(x_train, y_train, **fit_kwargs)\n",
    "    print(f\"Training time: {time()-start:.2f}\")\n",
    "    y_pred = np.argmax(model.predict(x_test), axis=1)\n",
    "print(f\"Accuracy: {accuracy_score(y_test, y_pred)}\")"
   ]
  },
  {
   "cell_type": "markdown",
   "id": "18afcd80",
   "metadata": {},
   "source": [
    "## 5. SciKeras benchmark"
   ]
  },
  {
   "cell_type": "code",
   "execution_count": 9,
   "id": "a942b887",
   "metadata": {
    "execution": {
     "iopub.execute_input": "2021-06-04T17:38:43.073679Z",
     "iopub.status.busy": "2021-06-04T17:38:43.073139Z",
     "iopub.status.idle": "2021-06-04T17:38:43.074875Z",
     "shell.execute_reply": "2021-06-04T17:38:43.075373Z"
    }
   },
   "outputs": [],
   "source": [
    "clf = KerasClassifier(\n",
    "    model=get_model,\n",
    "    random_state=0,\n",
    "    **fit_kwargs\n",
    ")"
   ]
  },
  {
   "cell_type": "code",
   "execution_count": 10,
   "id": "a6222dd8",
   "metadata": {
    "execution": {
     "iopub.execute_input": "2021-06-04T17:38:43.077927Z",
     "iopub.status.busy": "2021-06-04T17:38:43.077384Z",
     "iopub.status.idle": "2021-06-04T17:38:51.380547Z",
     "shell.execute_reply": "2021-06-04T17:38:51.379909Z"
    }
   },
   "outputs": [
    {
     "name": "stdout",
     "output_type": "stream",
     "text": [
      "Training time: 8.09\n"
     ]
    },
    {
     "name": "stdout",
     "output_type": "stream",
     "text": [
      "Accuracy: 0.882\n"
     ]
    }
   ],
   "source": [
    "start = time()\n",
    "clf.fit(x_train, y_train)\n",
    "print(f\"Training time: {time()-start:.2f}\")\n",
    "y_pred = clf.predict(x_test)\n",
    "print(f\"Accuracy: {accuracy_score(y_test, y_pred)}\")"
   ]
  },
  {
   "cell_type": "markdown",
   "id": "912903c5",
   "metadata": {},
   "source": [
    "As you can see, the overhead for SciKeras is <1 sec, and the accuracy is identical."
   ]
  }
 ],
 "metadata": {
  "jupytext": {
   "formats": "ipynb,md"
  },
  "kernelspec": {
   "display_name": "Python 3",
   "language": "python",
   "name": "python3"
  },
  "language_info": {
   "codemirror_mode": {
    "name": "ipython",
    "version": 3
   },
   "file_extension": ".py",
   "mimetype": "text/x-python",
   "name": "python",
   "nbconvert_exporter": "python",
   "pygments_lexer": "ipython3",
   "version": "3.8.10"
  }
 },
 "nbformat": 4,
 "nbformat_minor": 5
}
