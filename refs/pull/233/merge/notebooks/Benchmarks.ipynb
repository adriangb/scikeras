{
 "cells": [
  {
   "cell_type": "raw",
   "id": "6c07f20d",
   "metadata": {},
   "source": [
    "<a href=\"https://colab.research.google.com/github/adriangb/scikeras/blob/docs-deploy/refs/heads/master/notebooks/Benchmarks.ipynb\"><img src=\"https://www.tensorflow.org/images/colab_logo_32px.png\">Run in Google Colab</a>"
   ]
  },
  {
   "cell_type": "markdown",
   "id": "58a133a4",
   "metadata": {},
   "source": [
    "# SciKeras Benchmarks\n",
    "\n",
    "SciKeras wraps Keras Models, but does not alter their performance since all of the heavy lifting still happens within Keras/Tensorflow. In this notebook, we compare the performance and accuracy of a pure-Keras Model to the same model wrapped in SciKeras.\n",
    "\n",
    "## Table of contents\n",
    "\n",
    "* [1. Setup](#1.-Setup)\n",
    "* [2. Dataset](#2.-Dataset)\n",
    "* [3. Define Keras Model](#3.-Define-Keras-Model)\n",
    "* [4. Keras benchmarks](#4.-Keras-benchmarks)\n",
    "* [5. SciKeras benchmark](#5.-SciKeras-benchmark)\n",
    "\n",
    "## 1. Setup"
   ]
  },
  {
   "cell_type": "code",
   "execution_count": 1,
   "id": "092f2a21",
   "metadata": {
    "execution": {
     "iopub.execute_input": "2021-06-07T15:55:34.651368Z",
     "iopub.status.busy": "2021-06-07T15:55:34.650832Z",
     "iopub.status.idle": "2021-06-07T15:55:36.341977Z",
     "shell.execute_reply": "2021-06-07T15:55:36.342640Z"
    }
   },
   "outputs": [],
   "source": [
    "try:\n",
    "    import scikeras\n",
    "except ImportError:\n",
    "    !python -m pip install scikeras"
   ]
  },
  {
   "cell_type": "markdown",
   "id": "cbf6dcc6",
   "metadata": {},
   "source": [
    "Silence TensorFlow logging to keep output succinct."
   ]
  },
  {
   "cell_type": "code",
   "execution_count": 2,
   "id": "c4d8a762",
   "metadata": {
    "execution": {
     "iopub.execute_input": "2021-06-07T15:55:36.347311Z",
     "iopub.status.busy": "2021-06-07T15:55:36.346837Z",
     "iopub.status.idle": "2021-06-07T15:55:36.349527Z",
     "shell.execute_reply": "2021-06-07T15:55:36.350189Z"
    }
   },
   "outputs": [],
   "source": [
    "import warnings\n",
    "from tensorflow import get_logger\n",
    "get_logger().setLevel('ERROR')\n",
    "warnings.filterwarnings(\"ignore\", message=\"Setting the random state for TF\")"
   ]
  },
  {
   "cell_type": "code",
   "execution_count": 3,
   "id": "9e65bf56",
   "metadata": {
    "execution": {
     "iopub.execute_input": "2021-06-07T15:55:36.353852Z",
     "iopub.status.busy": "2021-06-07T15:55:36.353394Z",
     "iopub.status.idle": "2021-06-07T15:55:36.785694Z",
     "shell.execute_reply": "2021-06-07T15:55:36.786495Z"
    }
   },
   "outputs": [],
   "source": [
    "import numpy as np\n",
    "from scikeras.wrappers import KerasClassifier, KerasRegressor\n",
    "from tensorflow import keras"
   ]
  },
  {
   "cell_type": "markdown",
   "id": "3c913049",
   "metadata": {},
   "source": [
    "## 2. Dataset\n",
    "\n",
    "We will be using the MNIST dataset available within Keras."
   ]
  },
  {
   "cell_type": "code",
   "execution_count": 4,
   "id": "014a6eff",
   "metadata": {
    "execution": {
     "iopub.execute_input": "2021-06-07T15:55:36.790535Z",
     "iopub.status.busy": "2021-06-07T15:55:36.788846Z",
     "iopub.status.idle": "2021-06-07T15:55:37.323358Z",
     "shell.execute_reply": "2021-06-07T15:55:37.322545Z"
    }
   },
   "outputs": [],
   "source": [
    "(x_train, y_train), (x_test, y_test) = keras.datasets.mnist.load_data()\n",
    "# Scale images to the [0, 1] range\n",
    "x_train = x_train.astype(\"float32\") / 255\n",
    "x_test = x_test.astype(\"float32\") / 255\n",
    "# Make sure images have shape (28, 28, 1)\n",
    "x_train = np.expand_dims(x_train, -1)\n",
    "x_test = np.expand_dims(x_test, -1)\n",
    "# Reduce dataset size for faster benchmarks\n",
    "x_train, y_train = x_train[:2000], y_train[:2000]\n",
    "x_test, y_test = x_test[:500], y_test[:500]"
   ]
  },
  {
   "cell_type": "markdown",
   "id": "9f62cb09",
   "metadata": {},
   "source": [
    "## 3. Define Keras Model\n",
    "\n",
    "Next we will define our Keras model (adapted from [keras.io](https://keras.io/examples/vision/mnist_convnet/)):"
   ]
  },
  {
   "cell_type": "code",
   "execution_count": 5,
   "id": "ff9fa90d",
   "metadata": {
    "execution": {
     "iopub.execute_input": "2021-06-07T15:55:37.330307Z",
     "iopub.status.busy": "2021-06-07T15:55:37.329820Z",
     "iopub.status.idle": "2021-06-07T15:55:37.338914Z",
     "shell.execute_reply": "2021-06-07T15:55:37.339278Z"
    }
   },
   "outputs": [],
   "source": [
    "num_classes = 10\n",
    "input_shape = (28, 28, 1)\n",
    "\n",
    "\n",
    "def get_model():\n",
    "    model = keras.Sequential(\n",
    "        [\n",
    "            keras.Input(input_shape),\n",
    "            keras.layers.Conv2D(32, kernel_size=(3, 3), activation=\"relu\"),\n",
    "            keras.layers.MaxPooling2D(pool_size=(2, 2)),\n",
    "            keras.layers.Conv2D(64, kernel_size=(3, 3), activation=\"relu\"),\n",
    "            keras.layers.MaxPooling2D(pool_size=(2, 2)),\n",
    "            keras.layers.Flatten(),\n",
    "            keras.layers.Dropout(0.5),\n",
    "            keras.layers.Dense(num_classes, activation=\"softmax\"),\n",
    "        ]\n",
    "    )\n",
    "    model.compile(\n",
    "        loss=\"sparse_categorical_crossentropy\", optimizer=\"adam\"\n",
    "    )\n",
    "    return model"
   ]
  },
  {
   "cell_type": "markdown",
   "id": "91edcb99",
   "metadata": {},
   "source": [
    "## 4. Keras benchmarks"
   ]
  },
  {
   "cell_type": "code",
   "execution_count": 6,
   "id": "150222d7",
   "metadata": {
    "execution": {
     "iopub.execute_input": "2021-06-07T15:55:37.343171Z",
     "iopub.status.busy": "2021-06-07T15:55:37.342690Z",
     "iopub.status.idle": "2021-06-07T15:55:37.345529Z",
     "shell.execute_reply": "2021-06-07T15:55:37.346286Z"
    }
   },
   "outputs": [],
   "source": [
    "fit_kwargs = {\"batch_size\": 128, \"validation_split\": 0.1, \"verbose\": 0, \"epochs\": 5}"
   ]
  },
  {
   "cell_type": "code",
   "execution_count": 7,
   "id": "7d537ad9",
   "metadata": {
    "execution": {
     "iopub.execute_input": "2021-06-07T15:55:37.350986Z",
     "iopub.status.busy": "2021-06-07T15:55:37.350523Z",
     "iopub.status.idle": "2021-06-07T15:55:37.354549Z",
     "shell.execute_reply": "2021-06-07T15:55:37.354901Z"
    }
   },
   "outputs": [],
   "source": [
    "from sklearn.metrics import accuracy_score\n",
    "from scikeras._utils import TFRandomState"
   ]
  },
  {
   "cell_type": "code",
   "execution_count": 8,
   "id": "3c2ac190",
   "metadata": {
    "execution": {
     "iopub.execute_input": "2021-06-07T15:55:37.359465Z",
     "iopub.status.busy": "2021-06-07T15:55:37.359003Z",
     "iopub.status.idle": "2021-06-07T15:55:45.069763Z",
     "shell.execute_reply": "2021-06-07T15:55:45.070160Z"
    }
   },
   "outputs": [
    {
     "name": "stdout",
     "output_type": "stream",
     "text": [
      "Training time: 7.42\n"
     ]
    },
    {
     "name": "stdout",
     "output_type": "stream",
     "text": [
      "Accuracy: 0.882\n"
     ]
    }
   ],
   "source": [
    "from time import time\n",
    "\n",
    "with TFRandomState(seed=0):  # we force a TF random state to be able to compare accuracy\n",
    "    model = get_model()\n",
    "    start = time()\n",
    "    model.fit(x_train, y_train, **fit_kwargs)\n",
    "    print(f\"Training time: {time()-start:.2f}\")\n",
    "    y_pred = np.argmax(model.predict(x_test), axis=1)\n",
    "print(f\"Accuracy: {accuracy_score(y_test, y_pred)}\")"
   ]
  },
  {
   "cell_type": "markdown",
   "id": "7311f33f",
   "metadata": {},
   "source": [
    "## 5. SciKeras benchmark"
   ]
  },
  {
   "cell_type": "code",
   "execution_count": 9,
   "id": "4e892602",
   "metadata": {
    "execution": {
     "iopub.execute_input": "2021-06-07T15:55:45.073904Z",
     "iopub.status.busy": "2021-06-07T15:55:45.073449Z",
     "iopub.status.idle": "2021-06-07T15:55:45.075265Z",
     "shell.execute_reply": "2021-06-07T15:55:45.075616Z"
    }
   },
   "outputs": [],
   "source": [
    "clf = KerasClassifier(\n",
    "    model=get_model,\n",
    "    random_state=0,\n",
    "    **fit_kwargs\n",
    ")"
   ]
  },
  {
   "cell_type": "code",
   "execution_count": 10,
   "id": "5394853f",
   "metadata": {
    "execution": {
     "iopub.execute_input": "2021-06-07T15:55:45.078546Z",
     "iopub.status.busy": "2021-06-07T15:55:45.078091Z",
     "iopub.status.idle": "2021-06-07T15:55:52.109112Z",
     "shell.execute_reply": "2021-06-07T15:55:52.108372Z"
    }
   },
   "outputs": [
    {
     "name": "stdout",
     "output_type": "stream",
     "text": [
      "Training time: 6.87\n",
      "Accuracy: 0.882\n"
     ]
    }
   ],
   "source": [
    "start = time()\n",
    "clf.fit(x_train, y_train)\n",
    "print(f\"Training time: {time()-start:.2f}\")\n",
    "y_pred = clf.predict(x_test)\n",
    "print(f\"Accuracy: {accuracy_score(y_test, y_pred)}\")"
   ]
  },
  {
   "cell_type": "markdown",
   "id": "9ff2fdcb",
   "metadata": {},
   "source": [
    "As you can see, the overhead for SciKeras is <1 sec, and the accuracy is identical."
   ]
  }
 ],
 "metadata": {
  "jupytext": {
   "formats": "ipynb,md"
  },
  "kernelspec": {
   "display_name": "Python 3",
   "language": "python",
   "name": "python3"
  },
  "language_info": {
   "codemirror_mode": {
    "name": "ipython",
    "version": 3
   },
   "file_extension": ".py",
   "mimetype": "text/x-python",
   "name": "python",
   "nbconvert_exporter": "python",
   "pygments_lexer": "ipython3",
   "version": "3.8.10"
  }
 },
 "nbformat": 4,
 "nbformat_minor": 5
}
