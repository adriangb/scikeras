{
 "cells": [
  {
   "cell_type": "raw",
   "id": "d72acb61",
   "metadata": {},
   "source": [
    "<a href=\"https://colab.research.google.com/github/adriangb/scikeras/blob/docs-deploy/refs/heads/master/notebooks/Benchmarks.ipynb\"><img src=\"https://www.tensorflow.org/images/colab_logo_32px.png\">Run in Google Colab</a>"
   ]
  },
  {
   "cell_type": "markdown",
   "id": "faedd9e6",
   "metadata": {},
   "source": [
    "# SciKeras Benchmarks\n",
    "\n",
    "SciKeras wraps Keras Models, but does not alter their performance since all of the heavy lifting still happens within Keras/Tensorflow. In this notebook, we compare the performance and accuracy of a pure-Keras Model to the same model wrapped in SciKeras.\n",
    "\n",
    "## Table of contents\n",
    "\n",
    "* [1. Setup](#1.-Setup)\n",
    "* [2. Dataset](#2.-Dataset)\n",
    "* [3. Define Keras Model](#3.-Define-Keras-Model)\n",
    "* [4. Keras benchmarks](#4.-Keras-benchmarks)\n",
    "* [5. SciKeras benchmark](#5.-SciKeras-benchmark)\n",
    "\n",
    "## 1. Setup"
   ]
  },
  {
   "cell_type": "code",
   "execution_count": 1,
   "id": "21afab60",
   "metadata": {
    "execution": {
     "iopub.execute_input": "2021-06-07T16:05:37.298452Z",
     "iopub.status.busy": "2021-06-07T16:05:37.288490Z",
     "iopub.status.idle": "2021-06-07T16:05:39.569360Z",
     "shell.execute_reply": "2021-06-07T16:05:39.570002Z"
    }
   },
   "outputs": [],
   "source": [
    "try:\n",
    "    import scikeras\n",
    "except ImportError:\n",
    "    !python -m pip install scikeras"
   ]
  },
  {
   "cell_type": "markdown",
   "id": "dfda8ba8",
   "metadata": {},
   "source": [
    "Silence TensorFlow logging to keep output succinct."
   ]
  },
  {
   "cell_type": "code",
   "execution_count": 2,
   "id": "f5e4ab0a",
   "metadata": {
    "execution": {
     "iopub.execute_input": "2021-06-07T16:05:39.578240Z",
     "iopub.status.busy": "2021-06-07T16:05:39.577447Z",
     "iopub.status.idle": "2021-06-07T16:05:39.580423Z",
     "shell.execute_reply": "2021-06-07T16:05:39.582417Z"
    }
   },
   "outputs": [],
   "source": [
    "import warnings\n",
    "from tensorflow import get_logger\n",
    "get_logger().setLevel('ERROR')\n",
    "warnings.filterwarnings(\"ignore\", message=\"Setting the random state for TF\")"
   ]
  },
  {
   "cell_type": "code",
   "execution_count": 3,
   "id": "77ccf793",
   "metadata": {
    "execution": {
     "iopub.execute_input": "2021-06-07T16:05:39.589208Z",
     "iopub.status.busy": "2021-06-07T16:05:39.585428Z",
     "iopub.status.idle": "2021-06-07T16:05:40.107028Z",
     "shell.execute_reply": "2021-06-07T16:05:40.107837Z"
    }
   },
   "outputs": [],
   "source": [
    "import numpy as np\n",
    "from scikeras.wrappers import KerasClassifier, KerasRegressor\n",
    "from tensorflow import keras"
   ]
  },
  {
   "cell_type": "markdown",
   "id": "f7c60106",
   "metadata": {},
   "source": [
    "## 2. Dataset\n",
    "\n",
    "We will be using the MNIST dataset available within Keras."
   ]
  },
  {
   "cell_type": "code",
   "execution_count": 4,
   "id": "42024e1e",
   "metadata": {
    "execution": {
     "iopub.execute_input": "2021-06-07T16:05:40.112264Z",
     "iopub.status.busy": "2021-06-07T16:05:40.110837Z",
     "iopub.status.idle": "2021-06-07T16:05:40.764317Z",
     "shell.execute_reply": "2021-06-07T16:05:40.765234Z"
    }
   },
   "outputs": [],
   "source": [
    "(x_train, y_train), (x_test, y_test) = keras.datasets.mnist.load_data()\n",
    "# Scale images to the [0, 1] range\n",
    "x_train = x_train.astype(\"float32\") / 255\n",
    "x_test = x_test.astype(\"float32\") / 255\n",
    "# Make sure images have shape (28, 28, 1)\n",
    "x_train = np.expand_dims(x_train, -1)\n",
    "x_test = np.expand_dims(x_test, -1)\n",
    "# Reduce dataset size for faster benchmarks\n",
    "x_train, y_train = x_train[:2000], y_train[:2000]\n",
    "x_test, y_test = x_test[:500], y_test[:500]"
   ]
  },
  {
   "cell_type": "markdown",
   "id": "d101b83d",
   "metadata": {},
   "source": [
    "## 3. Define Keras Model\n",
    "\n",
    "Next we will define our Keras model (adapted from [keras.io](https://keras.io/examples/vision/mnist_convnet/)):"
   ]
  },
  {
   "cell_type": "code",
   "execution_count": 5,
   "id": "0967b557",
   "metadata": {
    "execution": {
     "iopub.execute_input": "2021-06-07T16:05:40.769697Z",
     "iopub.status.busy": "2021-06-07T16:05:40.768322Z",
     "iopub.status.idle": "2021-06-07T16:05:40.780076Z",
     "shell.execute_reply": "2021-06-07T16:05:40.781018Z"
    }
   },
   "outputs": [],
   "source": [
    "num_classes = 10\n",
    "input_shape = (28, 28, 1)\n",
    "\n",
    "\n",
    "def get_model():\n",
    "    model = keras.Sequential(\n",
    "        [\n",
    "            keras.Input(input_shape),\n",
    "            keras.layers.Conv2D(32, kernel_size=(3, 3), activation=\"relu\"),\n",
    "            keras.layers.MaxPooling2D(pool_size=(2, 2)),\n",
    "            keras.layers.Conv2D(64, kernel_size=(3, 3), activation=\"relu\"),\n",
    "            keras.layers.MaxPooling2D(pool_size=(2, 2)),\n",
    "            keras.layers.Flatten(),\n",
    "            keras.layers.Dropout(0.5),\n",
    "            keras.layers.Dense(num_classes, activation=\"softmax\"),\n",
    "        ]\n",
    "    )\n",
    "    model.compile(\n",
    "        loss=\"sparse_categorical_crossentropy\", optimizer=\"adam\"\n",
    "    )\n",
    "    return model"
   ]
  },
  {
   "cell_type": "markdown",
   "id": "bf446e05",
   "metadata": {},
   "source": [
    "## 4. Keras benchmarks"
   ]
  },
  {
   "cell_type": "code",
   "execution_count": 6,
   "id": "f1df2482",
   "metadata": {
    "execution": {
     "iopub.execute_input": "2021-06-07T16:05:40.785392Z",
     "iopub.status.busy": "2021-06-07T16:05:40.784049Z",
     "iopub.status.idle": "2021-06-07T16:05:40.794424Z",
     "shell.execute_reply": "2021-06-07T16:05:40.793439Z"
    }
   },
   "outputs": [],
   "source": [
    "fit_kwargs = {\"batch_size\": 128, \"validation_split\": 0.1, \"verbose\": 0, \"epochs\": 5}"
   ]
  },
  {
   "cell_type": "code",
   "execution_count": 7,
   "id": "52140d1e",
   "metadata": {
    "execution": {
     "iopub.execute_input": "2021-06-07T16:05:40.806176Z",
     "iopub.status.busy": "2021-06-07T16:05:40.797306Z",
     "iopub.status.idle": "2021-06-07T16:05:40.811423Z",
     "shell.execute_reply": "2021-06-07T16:05:40.810419Z"
    }
   },
   "outputs": [],
   "source": [
    "from sklearn.metrics import accuracy_score\n",
    "from scikeras._utils import TFRandomState"
   ]
  },
  {
   "cell_type": "code",
   "execution_count": 8,
   "id": "dba26315",
   "metadata": {
    "execution": {
     "iopub.execute_input": "2021-06-07T16:05:40.826644Z",
     "iopub.status.busy": "2021-06-07T16:05:40.825821Z",
     "iopub.status.idle": "2021-06-07T16:05:52.028083Z",
     "shell.execute_reply": "2021-06-07T16:05:52.027056Z"
    }
   },
   "outputs": [
    {
     "name": "stdout",
     "output_type": "stream",
     "text": [
      "Training time: 10.69\n"
     ]
    },
    {
     "name": "stdout",
     "output_type": "stream",
     "text": [
      "Accuracy: 0.882\n"
     ]
    }
   ],
   "source": [
    "from time import time\n",
    "\n",
    "with TFRandomState(seed=0):  # we force a TF random state to be able to compare accuracy\n",
    "    model = get_model()\n",
    "    start = time()\n",
    "    model.fit(x_train, y_train, **fit_kwargs)\n",
    "    print(f\"Training time: {time()-start:.2f}\")\n",
    "    y_pred = np.argmax(model.predict(x_test), axis=1)\n",
    "print(f\"Accuracy: {accuracy_score(y_test, y_pred)}\")"
   ]
  },
  {
   "cell_type": "markdown",
   "id": "f2ee581a",
   "metadata": {},
   "source": [
    "## 5. SciKeras benchmark"
   ]
  },
  {
   "cell_type": "code",
   "execution_count": 9,
   "id": "b04643c1",
   "metadata": {
    "execution": {
     "iopub.execute_input": "2021-06-07T16:05:52.034243Z",
     "iopub.status.busy": "2021-06-07T16:05:52.033552Z",
     "iopub.status.idle": "2021-06-07T16:05:52.034958Z",
     "shell.execute_reply": "2021-06-07T16:05:52.035506Z"
    }
   },
   "outputs": [],
   "source": [
    "clf = KerasClassifier(\n",
    "    model=get_model,\n",
    "    random_state=0,\n",
    "    **fit_kwargs\n",
    ")"
   ]
  },
  {
   "cell_type": "code",
   "execution_count": 10,
   "id": "60a93939",
   "metadata": {
    "execution": {
     "iopub.execute_input": "2021-06-07T16:05:52.038561Z",
     "iopub.status.busy": "2021-06-07T16:05:52.037847Z",
     "iopub.status.idle": "2021-06-07T16:06:03.030301Z",
     "shell.execute_reply": "2021-06-07T16:06:03.029562Z"
    }
   },
   "outputs": [
    {
     "name": "stdout",
     "output_type": "stream",
     "text": [
      "Training time: 10.75\n"
     ]
    },
    {
     "name": "stdout",
     "output_type": "stream",
     "text": [
      "Accuracy: 0.882\n"
     ]
    }
   ],
   "source": [
    "start = time()\n",
    "clf.fit(x_train, y_train)\n",
    "print(f\"Training time: {time()-start:.2f}\")\n",
    "y_pred = clf.predict(x_test)\n",
    "print(f\"Accuracy: {accuracy_score(y_test, y_pred)}\")"
   ]
  },
  {
   "cell_type": "markdown",
   "id": "45ec388e",
   "metadata": {},
   "source": [
    "As you can see, the overhead for SciKeras is <1 sec, and the accuracy is identical."
   ]
  }
 ],
 "metadata": {
  "jupytext": {
   "formats": "ipynb,md"
  },
  "kernelspec": {
   "display_name": "Python 3",
   "language": "python",
   "name": "python3"
  },
  "language_info": {
   "codemirror_mode": {
    "name": "ipython",
    "version": 3
   },
   "file_extension": ".py",
   "mimetype": "text/x-python",
   "name": "python",
   "nbconvert_exporter": "python",
   "pygments_lexer": "ipython3",
   "version": "3.8.10"
  }
 },
 "nbformat": 4,
 "nbformat_minor": 5
}
