{
 "cells": [
  {
   "cell_type": "raw",
   "id": "afc9359e",
   "metadata": {},
   "source": [
    "<a href=\"https://colab.research.google.com/github/adriangb/scikeras/blob/docs-deploy/refs/heads/master/notebooks/Benchmarks.ipynb\"><img src=\"https://www.tensorflow.org/images/colab_logo_32px.png\">Run in Google Colab</a>"
   ]
  },
  {
   "cell_type": "markdown",
   "id": "652e068b",
   "metadata": {},
   "source": [
    "# SciKeras Benchmarks\n",
    "\n",
    "SciKeras wraps Keras Models, but does not alter their performance since all of the heavy lifting still happens within Keras/Tensorflow. In this notebook, we compare the performance and accuracy of a pure-Keras Model to the same model wrapped in SciKeras.\n",
    "\n",
    "## Table of contents\n",
    "\n",
    "* [1. Setup](#1.-Setup)\n",
    "* [2. Dataset](#2.-Dataset)\n",
    "* [3. Define Keras Model](#3.-Define-Keras-Model)\n",
    "* [4. Keras benchmarks](#4.-Keras-benchmarks)\n",
    "* [5. SciKeras benchmark](#5.-SciKeras-benchmark)\n",
    "\n",
    "## 1. Setup"
   ]
  },
  {
   "cell_type": "code",
   "execution_count": 1,
   "id": "6b03f9f9",
   "metadata": {
    "execution": {
     "iopub.execute_input": "2021-06-01T22:46:57.067627Z",
     "iopub.status.busy": "2021-06-01T22:46:57.066881Z",
     "iopub.status.idle": "2021-06-01T22:46:59.097971Z",
     "shell.execute_reply": "2021-06-01T22:46:59.098422Z"
    }
   },
   "outputs": [],
   "source": [
    "try:\n",
    "    import scikeras\n",
    "except ImportError:\n",
    "    !python -m pip install scikeras"
   ]
  },
  {
   "cell_type": "markdown",
   "id": "9c400250",
   "metadata": {},
   "source": [
    "Silence TensorFlow logging to keep output succinct."
   ]
  },
  {
   "cell_type": "code",
   "execution_count": 2,
   "id": "4e164cc3",
   "metadata": {
    "execution": {
     "iopub.execute_input": "2021-06-01T22:46:59.103845Z",
     "iopub.status.busy": "2021-06-01T22:46:59.103048Z",
     "iopub.status.idle": "2021-06-01T22:46:59.107357Z",
     "shell.execute_reply": "2021-06-01T22:46:59.107954Z"
    }
   },
   "outputs": [],
   "source": [
    "import warnings\n",
    "from tensorflow import get_logger\n",
    "get_logger().setLevel('ERROR')\n",
    "warnings.filterwarnings(\"ignore\", message=\"Setting the random state for TF\")"
   ]
  },
  {
   "cell_type": "code",
   "execution_count": 3,
   "id": "4e74ced2",
   "metadata": {
    "execution": {
     "iopub.execute_input": "2021-06-01T22:46:59.112038Z",
     "iopub.status.busy": "2021-06-01T22:46:59.111426Z",
     "iopub.status.idle": "2021-06-01T22:46:59.635970Z",
     "shell.execute_reply": "2021-06-01T22:46:59.636802Z"
    }
   },
   "outputs": [],
   "source": [
    "import numpy as np\n",
    "from scikeras.wrappers import KerasClassifier, KerasRegressor\n",
    "from tensorflow import keras"
   ]
  },
  {
   "cell_type": "markdown",
   "id": "ad32e8c5",
   "metadata": {},
   "source": [
    "## 2. Dataset\n",
    "\n",
    "We will be using the MNIST dataset available within Keras."
   ]
  },
  {
   "cell_type": "code",
   "execution_count": 4,
   "id": "d8950936",
   "metadata": {
    "execution": {
     "iopub.execute_input": "2021-06-01T22:46:59.640731Z",
     "iopub.status.busy": "2021-06-01T22:46:59.639426Z",
     "iopub.status.idle": "2021-06-01T22:47:00.279647Z",
     "shell.execute_reply": "2021-06-01T22:47:00.279106Z"
    }
   },
   "outputs": [],
   "source": [
    "(x_train, y_train), (x_test, y_test) = keras.datasets.mnist.load_data()\n",
    "# Scale images to the [0, 1] range\n",
    "x_train = x_train.astype(\"float32\") / 255\n",
    "x_test = x_test.astype(\"float32\") / 255\n",
    "# Make sure images have shape (28, 28, 1)\n",
    "x_train = np.expand_dims(x_train, -1)\n",
    "x_test = np.expand_dims(x_test, -1)\n",
    "# Reduce dataset size for faster benchmarks\n",
    "x_train, y_train = x_train[:2000], y_train[:2000]\n",
    "x_test, y_test = x_test[:500], y_test[:500]"
   ]
  },
  {
   "cell_type": "markdown",
   "id": "d7bdc046",
   "metadata": {},
   "source": [
    "## 3. Define Keras Model\n",
    "\n",
    "Next we will define our Keras model (adapted from [keras.io](https://keras.io/examples/vision/mnist_convnet/)):"
   ]
  },
  {
   "cell_type": "code",
   "execution_count": 5,
   "id": "40ae4c2f",
   "metadata": {
    "execution": {
     "iopub.execute_input": "2021-06-01T22:47:00.287404Z",
     "iopub.status.busy": "2021-06-01T22:47:00.286805Z",
     "iopub.status.idle": "2021-06-01T22:47:00.293149Z",
     "shell.execute_reply": "2021-06-01T22:47:00.293625Z"
    }
   },
   "outputs": [],
   "source": [
    "num_classes = 10\n",
    "input_shape = (28, 28, 1)\n",
    "\n",
    "\n",
    "def get_model():\n",
    "    model = keras.Sequential(\n",
    "        [\n",
    "            keras.Input(input_shape),\n",
    "            keras.layers.Conv2D(32, kernel_size=(3, 3), activation=\"relu\"),\n",
    "            keras.layers.MaxPooling2D(pool_size=(2, 2)),\n",
    "            keras.layers.Conv2D(64, kernel_size=(3, 3), activation=\"relu\"),\n",
    "            keras.layers.MaxPooling2D(pool_size=(2, 2)),\n",
    "            keras.layers.Flatten(),\n",
    "            keras.layers.Dropout(0.5),\n",
    "            keras.layers.Dense(num_classes, activation=\"softmax\"),\n",
    "        ]\n",
    "    )\n",
    "    model.compile(\n",
    "        loss=\"sparse_categorical_crossentropy\", optimizer=\"adam\"\n",
    "    )\n",
    "    return model"
   ]
  },
  {
   "cell_type": "markdown",
   "id": "dc6a9fc9",
   "metadata": {},
   "source": [
    "## 4. Keras benchmarks"
   ]
  },
  {
   "cell_type": "code",
   "execution_count": 6,
   "id": "94a0e5db",
   "metadata": {
    "execution": {
     "iopub.execute_input": "2021-06-01T22:47:00.298117Z",
     "iopub.status.busy": "2021-06-01T22:47:00.297531Z",
     "iopub.status.idle": "2021-06-01T22:47:00.302862Z",
     "shell.execute_reply": "2021-06-01T22:47:00.303615Z"
    }
   },
   "outputs": [],
   "source": [
    "fit_kwargs = {\"batch_size\": 128, \"validation_split\": 0.1, \"verbose\": 0, \"epochs\": 5}"
   ]
  },
  {
   "cell_type": "code",
   "execution_count": 7,
   "id": "e99ec7c8",
   "metadata": {
    "execution": {
     "iopub.execute_input": "2021-06-01T22:47:00.308932Z",
     "iopub.status.busy": "2021-06-01T22:47:00.305903Z",
     "iopub.status.idle": "2021-06-01T22:47:00.314027Z",
     "shell.execute_reply": "2021-06-01T22:47:00.314845Z"
    }
   },
   "outputs": [],
   "source": [
    "from sklearn.metrics import accuracy_score\n",
    "from scikeras._utils import TFRandomState"
   ]
  },
  {
   "cell_type": "code",
   "execution_count": 8,
   "id": "1d944981",
   "metadata": {
    "execution": {
     "iopub.execute_input": "2021-06-01T22:47:00.318609Z",
     "iopub.status.busy": "2021-06-01T22:47:00.317491Z",
     "iopub.status.idle": "2021-06-01T22:47:10.845013Z",
     "shell.execute_reply": "2021-06-01T22:47:10.845590Z"
    }
   },
   "outputs": [
    {
     "name": "stdout",
     "output_type": "stream",
     "text": [
      "Training time: 10.14\n"
     ]
    },
    {
     "name": "stdout",
     "output_type": "stream",
     "text": [
      "Accuracy: 0.882\n"
     ]
    }
   ],
   "source": [
    "from time import time\n",
    "\n",
    "with TFRandomState(seed=0):  # we force a TF random state to be able to compare accuracy\n",
    "    model = get_model()\n",
    "    start = time()\n",
    "    model.fit(x_train, y_train, **fit_kwargs)\n",
    "    print(f\"Training time: {time()-start:.2f}\")\n",
    "    y_pred = np.argmax(model.predict(x_test), axis=1)\n",
    "print(f\"Accuracy: {accuracy_score(y_test, y_pred)}\")"
   ]
  },
  {
   "cell_type": "markdown",
   "id": "1485dc75",
   "metadata": {},
   "source": [
    "## 5. SciKeras benchmark"
   ]
  },
  {
   "cell_type": "code",
   "execution_count": 9,
   "id": "8a8ff492",
   "metadata": {
    "execution": {
     "iopub.execute_input": "2021-06-01T22:47:10.851170Z",
     "iopub.status.busy": "2021-06-01T22:47:10.850146Z",
     "iopub.status.idle": "2021-06-01T22:47:10.853541Z",
     "shell.execute_reply": "2021-06-01T22:47:10.852996Z"
    }
   },
   "outputs": [],
   "source": [
    "clf = KerasClassifier(\n",
    "    model=get_model,\n",
    "    random_state=0,\n",
    "    **fit_kwargs\n",
    ")"
   ]
  },
  {
   "cell_type": "code",
   "execution_count": 10,
   "id": "74805b34",
   "metadata": {
    "execution": {
     "iopub.execute_input": "2021-06-01T22:47:10.857816Z",
     "iopub.status.busy": "2021-06-01T22:47:10.857150Z",
     "iopub.status.idle": "2021-06-01T22:47:21.167505Z",
     "shell.execute_reply": "2021-06-01T22:47:21.166576Z"
    }
   },
   "outputs": [
    {
     "name": "stdout",
     "output_type": "stream",
     "text": [
      "Training time: 10.07\n"
     ]
    },
    {
     "name": "stdout",
     "output_type": "stream",
     "text": [
      "Accuracy: 0.882\n"
     ]
    }
   ],
   "source": [
    "start = time()\n",
    "clf.fit(x_train, y_train)\n",
    "print(f\"Training time: {time()-start:.2f}\")\n",
    "y_pred = clf.predict(x_test)\n",
    "print(f\"Accuracy: {accuracy_score(y_test, y_pred)}\")"
   ]
  },
  {
   "cell_type": "markdown",
   "id": "c4cd30ed",
   "metadata": {},
   "source": [
    "As you can see, the overhead for SciKeras is <1 sec, and the accuracy is identical."
   ]
  }
 ],
 "metadata": {
  "jupytext": {
   "formats": "ipynb,md"
  },
  "kernelspec": {
   "display_name": "Python 3",
   "language": "python",
   "name": "python3"
  },
  "language_info": {
   "codemirror_mode": {
    "name": "ipython",
    "version": 3
   },
   "file_extension": ".py",
   "mimetype": "text/x-python",
   "name": "python",
   "nbconvert_exporter": "python",
   "pygments_lexer": "ipython3",
   "version": "3.8.10"
  }
 },
 "nbformat": 4,
 "nbformat_minor": 5
}
