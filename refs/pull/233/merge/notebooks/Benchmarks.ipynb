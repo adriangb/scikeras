{
 "cells": [
  {
   "cell_type": "raw",
   "id": "a50f2839",
   "metadata": {},
   "source": [
    "<a href=\"https://colab.research.google.com/github/adriangb/scikeras/blob/docs-deploy/refs/heads/master/notebooks/Benchmarks.ipynb\"><img src=\"https://www.tensorflow.org/images/colab_logo_32px.png\">Run in Google Colab</a>"
   ]
  },
  {
   "cell_type": "markdown",
   "id": "757debd4",
   "metadata": {},
   "source": [
    "# SciKeras Benchmarks\n",
    "\n",
    "SciKeras wraps Keras Models, but does not alter their performance since all of the heavy lifting still happens within Keras/Tensorflow. In this notebook, we compare the performance and accuracy of a pure-Keras Model to the same model wrapped in SciKeras.\n",
    "\n",
    "## Table of contents\n",
    "\n",
    "* [1. Setup](#1.-Setup)\n",
    "* [2. Dataset](#2.-Dataset)\n",
    "* [3. Define Keras Model](#3.-Define-Keras-Model)\n",
    "* [4. Keras benchmarks](#4.-Keras-benchmarks)\n",
    "* [5. SciKeras benchmark](#5.-SciKeras-benchmark)\n",
    "\n",
    "## 1. Setup"
   ]
  },
  {
   "cell_type": "code",
   "execution_count": 1,
   "id": "57699347",
   "metadata": {
    "execution": {
     "iopub.execute_input": "2021-06-07T17:54:01.225189Z",
     "iopub.status.busy": "2021-06-07T17:54:01.224643Z",
     "iopub.status.idle": "2021-06-07T17:54:03.014035Z",
     "shell.execute_reply": "2021-06-07T17:54:03.015154Z"
    }
   },
   "outputs": [],
   "source": [
    "try:\n",
    "    import scikeras\n",
    "except ImportError:\n",
    "    !python -m pip install scikeras"
   ]
  },
  {
   "cell_type": "markdown",
   "id": "34f6500b",
   "metadata": {},
   "source": [
    "Silence TensorFlow logging to keep output succinct."
   ]
  },
  {
   "cell_type": "code",
   "execution_count": 2,
   "id": "00fcdc52",
   "metadata": {
    "execution": {
     "iopub.execute_input": "2021-06-07T17:54:03.020117Z",
     "iopub.status.busy": "2021-06-07T17:54:03.019497Z",
     "iopub.status.idle": "2021-06-07T17:54:03.028759Z",
     "shell.execute_reply": "2021-06-07T17:54:03.028161Z"
    }
   },
   "outputs": [],
   "source": [
    "import warnings\n",
    "from tensorflow import get_logger\n",
    "get_logger().setLevel('ERROR')\n",
    "warnings.filterwarnings(\"ignore\", message=\"Setting the random state for TF\")"
   ]
  },
  {
   "cell_type": "code",
   "execution_count": 3,
   "id": "cbacfc65",
   "metadata": {
    "execution": {
     "iopub.execute_input": "2021-06-07T17:54:03.035385Z",
     "iopub.status.busy": "2021-06-07T17:54:03.034934Z",
     "iopub.status.idle": "2021-06-07T17:54:03.448037Z",
     "shell.execute_reply": "2021-06-07T17:54:03.448673Z"
    }
   },
   "outputs": [],
   "source": [
    "import numpy as np\n",
    "from scikeras.wrappers import KerasClassifier, KerasRegressor\n",
    "from tensorflow import keras"
   ]
  },
  {
   "cell_type": "markdown",
   "id": "307260ad",
   "metadata": {},
   "source": [
    "## 2. Dataset\n",
    "\n",
    "We will be using the MNIST dataset available within Keras."
   ]
  },
  {
   "cell_type": "code",
   "execution_count": 4,
   "id": "d5b484da",
   "metadata": {
    "execution": {
     "iopub.execute_input": "2021-06-07T17:54:03.455455Z",
     "iopub.status.busy": "2021-06-07T17:54:03.454981Z",
     "iopub.status.idle": "2021-06-07T17:54:03.919995Z",
     "shell.execute_reply": "2021-06-07T17:54:03.920784Z"
    }
   },
   "outputs": [],
   "source": [
    "(x_train, y_train), (x_test, y_test) = keras.datasets.mnist.load_data()\n",
    "# Scale images to the [0, 1] range\n",
    "x_train = x_train.astype(\"float32\") / 255\n",
    "x_test = x_test.astype(\"float32\") / 255\n",
    "# Make sure images have shape (28, 28, 1)\n",
    "x_train = np.expand_dims(x_train, -1)\n",
    "x_test = np.expand_dims(x_test, -1)\n",
    "# Reduce dataset size for faster benchmarks\n",
    "x_train, y_train = x_train[:2000], y_train[:2000]\n",
    "x_test, y_test = x_test[:500], y_test[:500]"
   ]
  },
  {
   "cell_type": "markdown",
   "id": "1998bccc",
   "metadata": {},
   "source": [
    "## 3. Define Keras Model\n",
    "\n",
    "Next we will define our Keras model (adapted from [keras.io](https://keras.io/examples/vision/mnist_convnet/)):"
   ]
  },
  {
   "cell_type": "code",
   "execution_count": 5,
   "id": "3b172971",
   "metadata": {
    "execution": {
     "iopub.execute_input": "2021-06-07T17:54:03.924199Z",
     "iopub.status.busy": "2021-06-07T17:54:03.923194Z",
     "iopub.status.idle": "2021-06-07T17:54:03.930005Z",
     "shell.execute_reply": "2021-06-07T17:54:03.930649Z"
    }
   },
   "outputs": [],
   "source": [
    "num_classes = 10\n",
    "input_shape = (28, 28, 1)\n",
    "\n",
    "\n",
    "def get_model():\n",
    "    model = keras.Sequential(\n",
    "        [\n",
    "            keras.Input(input_shape),\n",
    "            keras.layers.Conv2D(32, kernel_size=(3, 3), activation=\"relu\"),\n",
    "            keras.layers.MaxPooling2D(pool_size=(2, 2)),\n",
    "            keras.layers.Conv2D(64, kernel_size=(3, 3), activation=\"relu\"),\n",
    "            keras.layers.MaxPooling2D(pool_size=(2, 2)),\n",
    "            keras.layers.Flatten(),\n",
    "            keras.layers.Dropout(0.5),\n",
    "            keras.layers.Dense(num_classes, activation=\"softmax\"),\n",
    "        ]\n",
    "    )\n",
    "    model.compile(\n",
    "        loss=\"sparse_categorical_crossentropy\", optimizer=\"adam\"\n",
    "    )\n",
    "    return model"
   ]
  },
  {
   "cell_type": "markdown",
   "id": "5ae6ff58",
   "metadata": {},
   "source": [
    "## 4. Keras benchmarks"
   ]
  },
  {
   "cell_type": "code",
   "execution_count": 6,
   "id": "087a0c94",
   "metadata": {
    "execution": {
     "iopub.execute_input": "2021-06-07T17:54:03.933783Z",
     "iopub.status.busy": "2021-06-07T17:54:03.932823Z",
     "iopub.status.idle": "2021-06-07T17:54:03.936825Z",
     "shell.execute_reply": "2021-06-07T17:54:03.937473Z"
    }
   },
   "outputs": [],
   "source": [
    "fit_kwargs = {\"batch_size\": 128, \"validation_split\": 0.1, \"verbose\": 0, \"epochs\": 5}"
   ]
  },
  {
   "cell_type": "code",
   "execution_count": 7,
   "id": "31e2cfba",
   "metadata": {
    "execution": {
     "iopub.execute_input": "2021-06-07T17:54:03.940397Z",
     "iopub.status.busy": "2021-06-07T17:54:03.939479Z",
     "iopub.status.idle": "2021-06-07T17:54:03.945151Z",
     "shell.execute_reply": "2021-06-07T17:54:03.945771Z"
    }
   },
   "outputs": [],
   "source": [
    "from sklearn.metrics import accuracy_score\n",
    "from scikeras._utils import TFRandomState"
   ]
  },
  {
   "cell_type": "code",
   "execution_count": 8,
   "id": "383b8870",
   "metadata": {
    "execution": {
     "iopub.execute_input": "2021-06-07T17:54:03.948783Z",
     "iopub.status.busy": "2021-06-07T17:54:03.947870Z",
     "iopub.status.idle": "2021-06-07T17:54:11.330893Z",
     "shell.execute_reply": "2021-06-07T17:54:11.330063Z"
    }
   },
   "outputs": [
    {
     "name": "stdout",
     "output_type": "stream",
     "text": [
      "Training time: 7.10\n",
      "Accuracy: 0.882\n"
     ]
    }
   ],
   "source": [
    "from time import time\n",
    "\n",
    "with TFRandomState(seed=0):  # we force a TF random state to be able to compare accuracy\n",
    "    model = get_model()\n",
    "    start = time()\n",
    "    model.fit(x_train, y_train, **fit_kwargs)\n",
    "    print(f\"Training time: {time()-start:.2f}\")\n",
    "    y_pred = np.argmax(model.predict(x_test), axis=1)\n",
    "print(f\"Accuracy: {accuracy_score(y_test, y_pred)}\")"
   ]
  },
  {
   "cell_type": "markdown",
   "id": "5a655393",
   "metadata": {},
   "source": [
    "## 5. SciKeras benchmark"
   ]
  },
  {
   "cell_type": "code",
   "execution_count": 9,
   "id": "63acf053",
   "metadata": {
    "execution": {
     "iopub.execute_input": "2021-06-07T17:54:11.334349Z",
     "iopub.status.busy": "2021-06-07T17:54:11.333868Z",
     "iopub.status.idle": "2021-06-07T17:54:11.335872Z",
     "shell.execute_reply": "2021-06-07T17:54:11.335394Z"
    }
   },
   "outputs": [],
   "source": [
    "clf = KerasClassifier(\n",
    "    model=get_model,\n",
    "    random_state=0,\n",
    "    **fit_kwargs\n",
    ")"
   ]
  },
  {
   "cell_type": "code",
   "execution_count": 10,
   "id": "bc88583a",
   "metadata": {
    "execution": {
     "iopub.execute_input": "2021-06-07T17:54:11.343329Z",
     "iopub.status.busy": "2021-06-07T17:54:11.342879Z",
     "iopub.status.idle": "2021-06-07T17:54:18.564758Z",
     "shell.execute_reply": "2021-06-07T17:54:18.564345Z"
    }
   },
   "outputs": [
    {
     "name": "stdout",
     "output_type": "stream",
     "text": [
      "Training time: 7.05\n",
      "Accuracy: 0.882\n"
     ]
    }
   ],
   "source": [
    "start = time()\n",
    "clf.fit(x_train, y_train)\n",
    "print(f\"Training time: {time()-start:.2f}\")\n",
    "y_pred = clf.predict(x_test)\n",
    "print(f\"Accuracy: {accuracy_score(y_test, y_pred)}\")"
   ]
  },
  {
   "cell_type": "markdown",
   "id": "f8d499c3",
   "metadata": {},
   "source": [
    "As you can see, the overhead for SciKeras is <1 sec, and the accuracy is identical."
   ]
  }
 ],
 "metadata": {
  "jupytext": {
   "formats": "ipynb,md"
  },
  "kernelspec": {
   "display_name": "Python 3",
   "language": "python",
   "name": "python3"
  },
  "language_info": {
   "codemirror_mode": {
    "name": "ipython",
    "version": 3
   },
   "file_extension": ".py",
   "mimetype": "text/x-python",
   "name": "python",
   "nbconvert_exporter": "python",
   "pygments_lexer": "ipython3",
   "version": "3.8.10"
  }
 },
 "nbformat": 4,
 "nbformat_minor": 5
}
