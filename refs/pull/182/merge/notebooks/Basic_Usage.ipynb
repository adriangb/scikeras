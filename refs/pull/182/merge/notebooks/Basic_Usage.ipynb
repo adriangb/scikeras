{
 "cells": [
  {
   "cell_type": "raw",
   "id": "flying-combining",
   "metadata": {},
   "source": [
    "<a href=\"https://colab.research.google.com/github/adriangb/scikeras/blob/docs-deploy/refs/heads/master/notebooks/Basic_Usage.ipynb\"><img src=\"https://www.tensorflow.org/images/colab_logo_32px.png\">Run in Google Colab</a>"
   ]
  },
  {
   "cell_type": "markdown",
   "id": "fixed-institution",
   "metadata": {},
   "source": [
    "# Basic usage\n",
    "\n",
    "`SciKeras` is designed to maximize interoperability between `sklearn` and `Keras/TensorFlow`. The aim is to keep 99% of the flexibility of `Keras` while being able to leverage most features of `sklearn`. Below, we show the basic usage of `SciKeras` and how it can be combined with `sklearn`.\n",
    "\n",
    "This notebook shows you how to use the basic functionality of `SciKeras`.\n",
    "\n",
    "## Table of contents\n",
    "\n",
    "* [1. Setup](#1.-Setup)\n",
    "* [2. Training a classifier and making predictions](#2.-Training-a-classifier-and-making-predictions)\n",
    "  * [2.1 A toy binary classification task](#2.1-A-toy-binary-classification-task)\n",
    "  * [2.2 Definition of the Keras classification Model](#2.2-Definition-of-the-Keras-classification-Model)\n",
    "  * [2.3 Defining and training the neural net classifier](#2.3-Defining-and-training-the-neural-net-classifier)\n",
    "  * [2.4 Making predictions, classification](#2.4-Making-predictions-classification)\n",
    "* [3 Training a regressor](#3.-Training-a-regressor)\n",
    "  * [3.1 A toy regression task](#3.1-A-toy-regression-task)\n",
    "  * [3.2 Definition of the Keras regression Model](#3.2-Definition-of-the-Keras-regression-Model)\n",
    "  * [3.3 Defining and training the neural net regressor](#3.3-Defining-and-training-the-neural-net-regressor)\n",
    "  * [3.4 Making predictions, regression](#3.4-Making-predictions-regression)\n",
    "* [4. Saving and loading a model](#4.-Saving-and-loading-a-model)\n",
    "  * [4.1 Saving the whole model](#4.1-Saving-the-whole-model)\n",
    "  * [4.2 Saving using Keras' saving methods](#4.2-Saving-using-Keras-saving-methods)\n",
    "* [5. Usage with an sklearn Pipeline](#5.-Usage-with-an-sklearn-Pipeline)\n",
    "* [6. Callbacks](#6.-Callbacks)\n",
    "* [7. Usage with sklearn GridSearchCV](#7.-Usage-with-sklearn-GridSearchCV)\n",
    "  * [7.1 Special prefixes](#7.1-Special-prefixes)\n",
    "  * [7.2 Performing a grid search](#7.2-Performing-a-grid-search)\n",
    "\n",
    "## 1. Setup"
   ]
  },
  {
   "cell_type": "code",
   "execution_count": 1,
   "id": "blank-dutch",
   "metadata": {
    "execution": {
     "iopub.execute_input": "2021-01-28T17:53:18.293651Z",
     "iopub.status.busy": "2021-01-28T17:53:18.293130Z",
     "iopub.status.idle": "2021-01-28T17:53:22.551718Z",
     "shell.execute_reply": "2021-01-28T17:53:22.552143Z"
    }
   },
   "outputs": [],
   "source": [
    "try:\n",
    "    import scikeras\n",
    "except ImportError:\n",
    "    !python -m pip install scikeras"
   ]
  },
  {
   "cell_type": "markdown",
   "id": "infectious-donor",
   "metadata": {},
   "source": [
    "Silence TensorFlow logging to keep output succinct."
   ]
  },
  {
   "cell_type": "code",
   "execution_count": 2,
   "id": "rolled-chapter",
   "metadata": {
    "execution": {
     "iopub.execute_input": "2021-01-28T17:53:22.554544Z",
     "iopub.status.busy": "2021-01-28T17:53:22.554063Z",
     "iopub.status.idle": "2021-01-28T17:53:22.557070Z",
     "shell.execute_reply": "2021-01-28T17:53:22.557509Z"
    }
   },
   "outputs": [],
   "source": [
    "import warnings\n",
    "from tensorflow import get_logger\n",
    "get_logger().setLevel('ERROR')\n",
    "warnings.filterwarnings(\"ignore\", message=\"Setting the random state for TF\")"
   ]
  },
  {
   "cell_type": "code",
   "execution_count": 3,
   "id": "muslim-institute",
   "metadata": {
    "execution": {
     "iopub.execute_input": "2021-01-28T17:53:22.559606Z",
     "iopub.status.busy": "2021-01-28T17:53:22.559140Z",
     "iopub.status.idle": "2021-01-28T17:53:23.420972Z",
     "shell.execute_reply": "2021-01-28T17:53:23.421396Z"
    }
   },
   "outputs": [],
   "source": [
    "import numpy as np\n",
    "from scikeras.wrappers import KerasClassifier, KerasRegressor\n",
    "from tensorflow import keras"
   ]
  },
  {
   "cell_type": "markdown",
   "id": "private-houston",
   "metadata": {},
   "source": [
    "## 2. Training a classifier and making predictions\n",
    "\n",
    "### 2.1 A toy binary classification task\n",
    "\n",
    "We load a toy classification task from `sklearn`."
   ]
  },
  {
   "cell_type": "code",
   "execution_count": 4,
   "id": "dated-velvet",
   "metadata": {
    "execution": {
     "iopub.execute_input": "2021-01-28T17:53:23.424613Z",
     "iopub.status.busy": "2021-01-28T17:53:23.424120Z",
     "iopub.status.idle": "2021-01-28T17:53:23.446476Z",
     "shell.execute_reply": "2021-01-28T17:53:23.446886Z"
    }
   },
   "outputs": [],
   "source": [
    "import numpy as np\n",
    "from sklearn.datasets import make_classification"
   ]
  },
  {
   "cell_type": "code",
   "execution_count": 5,
   "id": "confidential-screw",
   "metadata": {
    "execution": {
     "iopub.execute_input": "2021-01-28T17:53:23.451943Z",
     "iopub.status.busy": "2021-01-28T17:53:23.451471Z",
     "iopub.status.idle": "2021-01-28T17:53:23.454435Z",
     "shell.execute_reply": "2021-01-28T17:53:23.455067Z"
    }
   },
   "outputs": [],
   "source": [
    "X, y = make_classification(1000, 20, n_informative=10, random_state=0)"
   ]
  },
  {
   "cell_type": "code",
   "execution_count": 6,
   "id": "arabic-clock",
   "metadata": {
    "execution": {
     "iopub.execute_input": "2021-01-28T17:53:23.463474Z",
     "iopub.status.busy": "2021-01-28T17:53:23.463004Z",
     "iopub.status.idle": "2021-01-28T17:53:23.469866Z",
     "shell.execute_reply": "2021-01-28T17:53:23.469366Z"
    }
   },
   "outputs": [
    {
     "data": {
      "text/plain": [
       "((1000, 20), (1000,), 0.5)"
      ]
     },
     "execution_count": 1,
     "metadata": {},
     "output_type": "execute_result"
    }
   ],
   "source": [
    "X.shape, y.shape, y.mean()"
   ]
  },
  {
   "cell_type": "markdown",
   "id": "descending-certificate",
   "metadata": {},
   "source": [
    "### 2.2 Definition of the Keras classification Model\n",
    "\n",
    "We define a vanilla neural network with.\n",
    "\n",
    "Because we are dealing with 2 classes, the output layer can be constructed in\n",
    "two different ways:\n",
    "\n",
    "1. Single unit with a `\"sigmoid\"` nonlinearity. The loss must be `\"binary_crossentropy\"`.\n",
    "2. Two units (one for each class) and a `\"softmax\"` nonlinearity. The loss must be `\"sparse_categorical_crossentropy\"`.\n",
    "\n",
    "In this example, we choose the first option, which is what you would usually\n",
    "do for binary classification. The second option is usually reserved for when\n",
    "you have >2 classes."
   ]
  },
  {
   "cell_type": "code",
   "execution_count": 7,
   "id": "requested-flour",
   "metadata": {
    "execution": {
     "iopub.execute_input": "2021-01-28T17:53:23.473241Z",
     "iopub.status.busy": "2021-01-28T17:53:23.472764Z",
     "iopub.status.idle": "2021-01-28T17:53:23.478614Z",
     "shell.execute_reply": "2021-01-28T17:53:23.478219Z"
    }
   },
   "outputs": [],
   "source": [
    "from tensorflow import keras"
   ]
  },
  {
   "cell_type": "code",
   "execution_count": 8,
   "id": "inside-louisville",
   "metadata": {
    "execution": {
     "iopub.execute_input": "2021-01-28T17:53:23.483563Z",
     "iopub.status.busy": "2021-01-28T17:53:23.483095Z",
     "iopub.status.idle": "2021-01-28T17:53:23.485763Z",
     "shell.execute_reply": "2021-01-28T17:53:23.486417Z"
    }
   },
   "outputs": [],
   "source": [
    "def get_clf(meta, hidden_layer_sizes, dropout):\n",
    "    n_features_in_ = meta[\"n_features_in_\"]\n",
    "    n_classes_ = meta[\"n_classes_\"]\n",
    "    model = keras.models.Sequential()\n",
    "    model.add(keras.layers.Input(shape=(n_features_in_,)))\n",
    "    for hidden_layer_size in hidden_layer_sizes:\n",
    "        model.add(keras.layers.Dense(hidden_layer_size, activation=\"relu\"))\n",
    "        model.add(keras.layers.Dropout(dropout))\n",
    "    model.add(keras.layers.Dense(1, activation=\"sigmoid\"))\n",
    "    return model"
   ]
  },
  {
   "cell_type": "markdown",
   "id": "simplified-journal",
   "metadata": {},
   "source": [
    "### 2.3 Defining and training the neural net classifier\n",
    "\n",
    "We use `KerasClassifier` because we're dealing with a classifcation task. The first argument should be a callable returning a `Keras.Model`, in this case, `get_clf`. As additional arguments, we pass the number of loss function (required) and the optimizer, but the later is optional. We must also pass all of the arguments to `get_clf` as keyword arguments to `KerasClassifier` if they don't have a default value in `get_clf`. Note that if you do not pass an argument to `KerasClassifier`, it will not be avilable for hyperparameter tuning. Finally, we also pass `random_state=0` for reproducible results."
   ]
  },
  {
   "cell_type": "code",
   "execution_count": 9,
   "id": "median-details",
   "metadata": {
    "execution": {
     "iopub.execute_input": "2021-01-28T17:53:23.489945Z",
     "iopub.status.busy": "2021-01-28T17:53:23.489317Z",
     "iopub.status.idle": "2021-01-28T17:53:23.492191Z",
     "shell.execute_reply": "2021-01-28T17:53:23.492977Z"
    }
   },
   "outputs": [],
   "source": [
    "from scikeras.wrappers import KerasClassifier"
   ]
  },
  {
   "cell_type": "code",
   "execution_count": 10,
   "id": "ecological-football",
   "metadata": {
    "execution": {
     "iopub.execute_input": "2021-01-28T17:53:23.496487Z",
     "iopub.status.busy": "2021-01-28T17:53:23.496023Z",
     "iopub.status.idle": "2021-01-28T17:53:23.498811Z",
     "shell.execute_reply": "2021-01-28T17:53:23.499168Z"
    }
   },
   "outputs": [],
   "source": [
    "clf = KerasClassifier(\n",
    "    model=get_clf,\n",
    "    loss=\"binary_crossentropy\",\n",
    "    optimizer=\"adam\",\n",
    "    hidden_layer_sizes=(100,),\n",
    "    dropout=0.5,\n",
    ")"
   ]
  },
  {
   "cell_type": "markdown",
   "id": "qualified-netscape",
   "metadata": {},
   "source": [
    "As in `sklearn`, we call `fit` passing the input data `X` and the targets `y`."
   ]
  },
  {
   "cell_type": "code",
   "execution_count": 11,
   "id": "special-congress",
   "metadata": {
    "execution": {
     "iopub.execute_input": "2021-01-28T17:53:23.503104Z",
     "iopub.status.busy": "2021-01-28T17:53:23.502408Z",
     "iopub.status.idle": "2021-01-28T17:53:23.974814Z",
     "shell.execute_reply": "2021-01-28T17:53:23.975448Z"
    }
   },
   "outputs": [
    {
     "name": "stdout",
     "output_type": "stream",
     "text": [
      "\r",
      " 1/32 [..............................] - ETA: 10s - loss: 0.9797"
     ]
    },
    {
     "name": "stdout",
     "output_type": "stream",
     "text": [
      "\b\b\b\b\b\b\b\b\b\b\b\b\b\b\b\b\b\b\b\b\b\b\b\b\b\b\b\b\b\b\b\b\b\b\b\b\b\b\b\b\b\b\b\b\b\b\b\b\b\b\b\b\b\b\b\b\b\b\b\b\b\b\b\b\r",
      "32/32 [==============================] - 0s 1ms/step - loss: 0.8281\n"
     ]
    },
    {
     "data": {
      "text/plain": [
       "KerasClassifier(\n",
       "\tmodel=<function get_clf at 0x7f91e337b3a0>\n",
       "\tbuild_fn=None\n",
       "\twarm_start=False\n",
       "\trandom_state=None\n",
       "\toptimizer=adam\n",
       "\tloss=binary_crossentropy\n",
       "\tmetrics=None\n",
       "\tbatch_size=None\n",
       "\tverbose=1\n",
       "\tcallbacks=None\n",
       "\tvalidation_split=0.0\n",
       "\tshuffle=True\n",
       "\trun_eagerly=False\n",
       "\tepochs=1\n",
       "\thidden_layer_sizes=(100,)\n",
       "\tdropout=0.5\n",
       "\tclass_weight=None\n",
       ")"
      ]
     },
     "execution_count": 1,
     "metadata": {},
     "output_type": "execute_result"
    }
   ],
   "source": [
    "clf.fit(X, y)"
   ]
  },
  {
   "cell_type": "markdown",
   "id": "disturbed-canvas",
   "metadata": {},
   "source": [
    "Also, as in `sklearn`, you may call `predict` or `predict_proba` on the fitted model.\n",
    "\n",
    "### 2.4 Making predictions, classification"
   ]
  },
  {
   "cell_type": "code",
   "execution_count": 12,
   "id": "shared-enclosure",
   "metadata": {
    "execution": {
     "iopub.execute_input": "2021-01-28T17:53:23.978601Z",
     "iopub.status.busy": "2021-01-28T17:53:23.977706Z",
     "iopub.status.idle": "2021-01-28T17:53:24.066179Z",
     "shell.execute_reply": "2021-01-28T17:53:24.065772Z"
    }
   },
   "outputs": [
    {
     "name": "stdout",
     "output_type": "stream",
     "text": [
      "\r",
      "1/1 [==============================] - ETA: 0s"
     ]
    },
    {
     "name": "stdout",
     "output_type": "stream",
     "text": [
      "\b\b\b\b\b\b\b\b\b\b\b\b\b\b\b\b\b\b\b\b\b\b\b\b\b\b\b\b\b\b\b\b\b\b\b\b\b\b\b\b\b\b\b\b\b\b\r",
      "1/1 [==============================] - 0s 61ms/step\n"
     ]
    },
    {
     "data": {
      "text/plain": [
       "array([1, 0, 0, 0, 0])"
      ]
     },
     "execution_count": 1,
     "metadata": {},
     "output_type": "execute_result"
    }
   ],
   "source": [
    "y_pred = clf.predict(X[:5])\n",
    "y_pred"
   ]
  },
  {
   "cell_type": "code",
   "execution_count": 13,
   "id": "armed-absolute",
   "metadata": {
    "execution": {
     "iopub.execute_input": "2021-01-28T17:53:24.068952Z",
     "iopub.status.busy": "2021-01-28T17:53:24.068478Z",
     "iopub.status.idle": "2021-01-28T17:53:24.110571Z",
     "shell.execute_reply": "2021-01-28T17:53:24.110139Z"
    }
   },
   "outputs": [
    {
     "name": "stdout",
     "output_type": "stream",
     "text": [
      "\r",
      "1/1 [==============================] - ETA: 0s"
     ]
    },
    {
     "name": "stdout",
     "output_type": "stream",
     "text": [
      "\b\b\b\b\b\b\b\b\b\b\b\b\b\b\b\b\b\b\b\b\b\b\b\b\b\b\b\b\b\b\b\b\b\b\b\b\b\b\b\b\b\b\b\b\b\b\r",
      "1/1 [==============================] - 0s 15ms/step\n"
     ]
    },
    {
     "data": {
      "text/plain": [
       "array([[0.35289103, 0.647109  ],\n",
       "       [0.73311406, 0.26688594],\n",
       "       [0.6251872 , 0.37481278],\n",
       "       [0.8027151 , 0.19728488],\n",
       "       [0.7116463 , 0.2883537 ]], dtype=float32)"
      ]
     },
     "execution_count": 1,
     "metadata": {},
     "output_type": "execute_result"
    }
   ],
   "source": [
    "y_proba = clf.predict_proba(X[:5])\n",
    "y_proba"
   ]
  },
  {
   "cell_type": "markdown",
   "id": "finished-bankruptcy",
   "metadata": {},
   "source": [
    "## 3 Training a regressor\n",
    "\n",
    "### 3.1 A toy regression task"
   ]
  },
  {
   "cell_type": "code",
   "execution_count": 14,
   "id": "worthy-angola",
   "metadata": {
    "execution": {
     "iopub.execute_input": "2021-01-28T17:53:24.114045Z",
     "iopub.status.busy": "2021-01-28T17:53:24.113595Z",
     "iopub.status.idle": "2021-01-28T17:53:24.116338Z",
     "shell.execute_reply": "2021-01-28T17:53:24.116728Z"
    }
   },
   "outputs": [],
   "source": [
    "from sklearn.datasets import make_regression"
   ]
  },
  {
   "cell_type": "code",
   "execution_count": 15,
   "id": "wrapped-shanghai",
   "metadata": {
    "execution": {
     "iopub.execute_input": "2021-01-28T17:53:24.121251Z",
     "iopub.status.busy": "2021-01-28T17:53:24.120790Z",
     "iopub.status.idle": "2021-01-28T17:53:24.129882Z",
     "shell.execute_reply": "2021-01-28T17:53:24.130542Z"
    }
   },
   "outputs": [],
   "source": [
    "X_regr, y_regr = make_regression(1000, 20, n_informative=10, random_state=0)"
   ]
  },
  {
   "cell_type": "code",
   "execution_count": 16,
   "id": "pressing-boutique",
   "metadata": {
    "execution": {
     "iopub.execute_input": "2021-01-28T17:53:24.133392Z",
     "iopub.status.busy": "2021-01-28T17:53:24.132481Z",
     "iopub.status.idle": "2021-01-28T17:53:24.138172Z",
     "shell.execute_reply": "2021-01-28T17:53:24.138778Z"
    }
   },
   "outputs": [
    {
     "data": {
      "text/plain": [
       "((1000, 20), (1000,), -649.0148244404172, 615.4505181286091)"
      ]
     },
     "execution_count": 1,
     "metadata": {},
     "output_type": "execute_result"
    }
   ],
   "source": [
    "X_regr.shape, y_regr.shape, y_regr.min(), y_regr.max()"
   ]
  },
  {
   "cell_type": "markdown",
   "id": "formal-kazakhstan",
   "metadata": {},
   "source": [
    "### 3.2 Definition of the Keras regression Model\n",
    "\n",
    "Again, define a vanilla neural network. The main difference is that the output layer always has a single unit and does not apply any nonlinearity."
   ]
  },
  {
   "cell_type": "code",
   "execution_count": 17,
   "id": "quick-scheme",
   "metadata": {
    "execution": {
     "iopub.execute_input": "2021-01-28T17:53:24.142556Z",
     "iopub.status.busy": "2021-01-28T17:53:24.140790Z",
     "iopub.status.idle": "2021-01-28T17:53:24.153846Z",
     "shell.execute_reply": "2021-01-28T17:53:24.154480Z"
    }
   },
   "outputs": [],
   "source": [
    "def get_reg(meta, hidden_layer_sizes, dropout):\n",
    "    n_features_in_ = meta[\"n_features_in_\"]\n",
    "    model = keras.models.Sequential()\n",
    "    model.add(keras.layers.Input(shape=(n_features_in_,)))\n",
    "    for hidden_layer_size in hidden_layer_sizes:\n",
    "        model.add(keras.layers.Dense(hidden_layer_size, activation=\"relu\"))\n",
    "        model.add(keras.layers.Dropout(dropout))\n",
    "    model.add(keras.layers.Dense(1))\n",
    "    return model"
   ]
  },
  {
   "cell_type": "markdown",
   "id": "confident-discipline",
   "metadata": {},
   "source": [
    "### 3.3 Defining and training the neural net regressor\n",
    "\n",
    "Training a regressor is almost the same as training a classifier. Mainly, we use `KerasRegressor` instead of `KerasClassifier` (this is the same terminology as in `sklearn`). We also change the loss function to `KerasRegressor.r_squared`. SciKeras provides this loss function because most of the `sklearn` ecosystem expects `R^2` as the loss function, but Keras does not have a default implementation."
   ]
  },
  {
   "cell_type": "code",
   "execution_count": 18,
   "id": "sticky-treasury",
   "metadata": {
    "execution": {
     "iopub.execute_input": "2021-01-28T17:53:24.157424Z",
     "iopub.status.busy": "2021-01-28T17:53:24.156515Z",
     "iopub.status.idle": "2021-01-28T17:53:24.161011Z",
     "shell.execute_reply": "2021-01-28T17:53:24.160320Z"
    }
   },
   "outputs": [],
   "source": [
    "from scikeras.wrappers import KerasRegressor"
   ]
  },
  {
   "cell_type": "code",
   "execution_count": 19,
   "id": "norman-medicare",
   "metadata": {
    "execution": {
     "iopub.execute_input": "2021-01-28T17:53:24.163670Z",
     "iopub.status.busy": "2021-01-28T17:53:24.162784Z",
     "iopub.status.idle": "2021-01-28T17:53:24.166837Z",
     "shell.execute_reply": "2021-01-28T17:53:24.167439Z"
    }
   },
   "outputs": [],
   "source": [
    "reg = KerasRegressor(\n",
    "    model=get_reg,\n",
    "    loss=KerasRegressor.r_squared,\n",
    "    optimizer=\"adam\",\n",
    "    hidden_layer_sizes=(100,),\n",
    "    dropout=0.5,\n",
    ")"
   ]
  },
  {
   "cell_type": "code",
   "execution_count": 20,
   "id": "incoming-handling",
   "metadata": {
    "execution": {
     "iopub.execute_input": "2021-01-28T17:53:24.170386Z",
     "iopub.status.busy": "2021-01-28T17:53:24.169501Z",
     "iopub.status.idle": "2021-01-28T17:53:24.631564Z",
     "shell.execute_reply": "2021-01-28T17:53:24.632201Z"
    }
   },
   "outputs": [
    {
     "name": "stdout",
     "output_type": "stream",
     "text": [
      "\r",
      " 1/32 [..............................] - ETA: 11s - loss: -0.0501"
     ]
    },
    {
     "name": "stdout",
     "output_type": "stream",
     "text": [
      "\b\b\b\b\b\b\b\b\b\b\b\b\b\b\b\b\b\b\b\b\b\b\b\b\b\b\b\b\b\b\b\b\b\b\b\b\b\b\b\b\b\b\b\b\b\b\b\b\b\b\b\b\b\b\b\b\b\b\b\b\b\b\b\b\b\r",
      "32/32 [==============================] - 0s 1ms/step - loss: -0.0343\n"
     ]
    },
    {
     "data": {
      "text/plain": [
       "KerasRegressor(\n",
       "\tmodel=<function get_reg at 0x7f924c70a4c0>\n",
       "\tbuild_fn=None\n",
       "\twarm_start=False\n",
       "\trandom_state=None\n",
       "\toptimizer=adam\n",
       "\tloss=<function KerasRegressor.r_squared at 0x7f91e4131b80>\n",
       "\tmetrics=None\n",
       "\tbatch_size=None\n",
       "\tverbose=1\n",
       "\tcallbacks=None\n",
       "\tvalidation_split=0.0\n",
       "\tshuffle=True\n",
       "\trun_eagerly=False\n",
       "\tepochs=1\n",
       "\thidden_layer_sizes=(100,)\n",
       "\tdropout=0.5\n",
       ")"
      ]
     },
     "execution_count": 1,
     "metadata": {},
     "output_type": "execute_result"
    }
   ],
   "source": [
    "reg.fit(X_regr, y_regr)"
   ]
  },
  {
   "cell_type": "markdown",
   "id": "cooperative-benefit",
   "metadata": {},
   "source": [
    "### 3.4 Making predictions, regression\n",
    "\n",
    "You may call `predict` or `predict_proba` on the fitted model. For regressions, both methods return the same value."
   ]
  },
  {
   "cell_type": "code",
   "execution_count": 21,
   "id": "auburn-shadow",
   "metadata": {
    "execution": {
     "iopub.execute_input": "2021-01-28T17:53:24.635323Z",
     "iopub.status.busy": "2021-01-28T17:53:24.634377Z",
     "iopub.status.idle": "2021-01-28T17:53:24.691535Z",
     "shell.execute_reply": "2021-01-28T17:53:24.690877Z"
    }
   },
   "outputs": [
    {
     "name": "stdout",
     "output_type": "stream",
     "text": [
      "\r",
      "1/1 [==============================] - ETA: 0s"
     ]
    },
    {
     "name": "stdout",
     "output_type": "stream",
     "text": [
      "\b\b\b\b\b\b\b\b\b\b\b\b\b\b\b\b\b\b\b\b\b\b\b\b\b\b\b\b\b\b\b\b\b\b\b\b\b\b\b\b\b\b\b\b\b\b\r",
      "1/1 [==============================] - 0s 30ms/step\n"
     ]
    },
    {
     "data": {
      "text/plain": [
       "array([0.34011838, 1.0519074 , 0.42473817, 0.39867342, 0.56354433],\n",
       "      dtype=float32)"
      ]
     },
     "execution_count": 1,
     "metadata": {},
     "output_type": "execute_result"
    }
   ],
   "source": [
    "y_pred = reg.predict(X_regr[:5])\n",
    "y_pred"
   ]
  },
  {
   "cell_type": "markdown",
   "id": "progressive-consortium",
   "metadata": {},
   "source": [
    "## 4. Saving and loading a model\n",
    "\n",
    "Save and load either the whole model by using pickle, or use Keras' specialized save methods on the `KerasClassifier.model_` or `KerasRegressor.model_` attribute that is created after fitting. You will want to use Keras' model saving utilities if any of the following apply:\n",
    "\n",
    "1. You wish to save only the weights or only the training configuration of your model.\n",
    "2. You wish to share your model with collaborators. Pickle is a relatively unsafe protocol and it is not recommended to share or load pickle objects publically.\n",
    "3. You care about performance, especially if doing in-memory serialization.\n",
    "\n",
    "For more information, see Keras' [saving documentation](https://www.tensorflow.org/guide/keras/save_and_serialize).\n",
    "\n",
    "### 4.1 Saving the whole model"
   ]
  },
  {
   "cell_type": "code",
   "execution_count": 22,
   "id": "reported-inside",
   "metadata": {
    "execution": {
     "iopub.execute_input": "2021-01-28T17:53:24.694945Z",
     "iopub.status.busy": "2021-01-28T17:53:24.694474Z",
     "iopub.status.idle": "2021-01-28T17:53:24.696933Z",
     "shell.execute_reply": "2021-01-28T17:53:24.697554Z"
    }
   },
   "outputs": [],
   "source": [
    "import pickle"
   ]
  },
  {
   "cell_type": "code",
   "execution_count": 23,
   "id": "loaded-transcript",
   "metadata": {
    "execution": {
     "iopub.execute_input": "2021-01-28T17:53:24.709109Z",
     "iopub.status.busy": "2021-01-28T17:53:24.699480Z",
     "iopub.status.idle": "2021-01-28T17:53:25.125255Z",
     "shell.execute_reply": "2021-01-28T17:53:25.125990Z"
    }
   },
   "outputs": [],
   "source": [
    "bytes_model = pickle.dumps(reg)"
   ]
  },
  {
   "cell_type": "code",
   "execution_count": 24,
   "id": "departmental-tumor",
   "metadata": {
    "execution": {
     "iopub.execute_input": "2021-01-28T17:53:25.129139Z",
     "iopub.status.busy": "2021-01-28T17:53:25.128190Z",
     "iopub.status.idle": "2021-01-28T17:53:25.383877Z",
     "shell.execute_reply": "2021-01-28T17:53:25.384531Z"
    }
   },
   "outputs": [
    {
     "data": {
      "text/plain": [
       "KerasRegressor(\n",
       "\tmodel=<function get_reg at 0x7f924c70a4c0>\n",
       "\tbuild_fn=None\n",
       "\twarm_start=False\n",
       "\trandom_state=None\n",
       "\toptimizer=adam\n",
       "\tloss=<function KerasRegressor.r_squared at 0x7f91e4131b80>\n",
       "\tmetrics=None\n",
       "\tbatch_size=None\n",
       "\tverbose=1\n",
       "\tcallbacks=None\n",
       "\tvalidation_split=0.0\n",
       "\tshuffle=True\n",
       "\trun_eagerly=False\n",
       "\tepochs=1\n",
       "\thidden_layer_sizes=(100,)\n",
       "\tdropout=0.5\n",
       ")"
      ]
     },
     "execution_count": 1,
     "metadata": {},
     "output_type": "execute_result"
    }
   ],
   "source": [
    "new_reg = pickle.loads(bytes_model)\n",
    "new_reg"
   ]
  },
  {
   "cell_type": "markdown",
   "id": "actual-diana",
   "metadata": {},
   "source": [
    "### 4.2 Saving using Keras' saving methods\n",
    "\n",
    "This efficiently and safely saves the model to disk, including trained weights.\n",
    "You should use this method if you plan on sharing your saved models."
   ]
  },
  {
   "cell_type": "code",
   "execution_count": 25,
   "id": "sitting-cricket",
   "metadata": {
    "execution": {
     "iopub.execute_input": "2021-01-28T17:53:25.387563Z",
     "iopub.status.busy": "2021-01-28T17:53:25.386660Z",
     "iopub.status.idle": "2021-01-28T17:53:25.770032Z",
     "shell.execute_reply": "2021-01-28T17:53:25.770752Z"
    }
   },
   "outputs": [],
   "source": [
    "# Save to disk\n",
    "reg.model_.save(\"/tmp/my_model\")"
   ]
  },
  {
   "cell_type": "code",
   "execution_count": 26,
   "id": "classified-housing",
   "metadata": {
    "execution": {
     "iopub.execute_input": "2021-01-28T17:53:25.774501Z",
     "iopub.status.busy": "2021-01-28T17:53:25.773578Z",
     "iopub.status.idle": "2021-01-28T17:53:26.334324Z",
     "shell.execute_reply": "2021-01-28T17:53:26.333914Z"
    }
   },
   "outputs": [
    {
     "name": "stdout",
     "output_type": "stream",
     "text": [
      "\r",
      " 1/32 [..............................] - ETA: 8s - loss: -0.0142"
     ]
    },
    {
     "name": "stdout",
     "output_type": "stream",
     "text": [
      "\b\b\b\b\b\b\b\b\b\b\b\b\b\b\b\b\b\b\b\b\b\b\b\b\b\b\b\b\b\b\b\b\b\b\b\b\b\b\b\b\b\b\b\b\b\b\b\b\b\b\b\b\b\b\b\b\b\b\b\b\b\b\b\b\r",
      "32/32 [==============================] - 0s 920us/step - loss: -0.0333\n"
     ]
    },
    {
     "name": "stdout",
     "output_type": "stream",
     "text": [
      "\r",
      "1/1 [==============================] - ETA: 0s"
     ]
    },
    {
     "name": "stdout",
     "output_type": "stream",
     "text": [
      "\b\b\b\b\b\b\b\b\b\b\b\b\b\b\b\b\b\b\b\b\b\b\b\b\b\b\b\b\b\b\b\b\b\b\b\b\b\b\b\b\b\b\b\b\b\b\r",
      "1/1 [==============================] - 0s 34ms/step\n"
     ]
    },
    {
     "data": {
      "text/plain": [
       "array([0.2507368 , 1.5561727 , 0.5634434 , 0.42463115, 0.6146977 ],\n",
       "      dtype=float32)"
      ]
     },
     "execution_count": 1,
     "metadata": {},
     "output_type": "execute_result"
    }
   ],
   "source": [
    "# Load the model back into memory\n",
    "new_reg_model = keras.models.load_model(\"/tmp/my_model\")\n",
    "# Now we need to instantiate a new SciKeras object with this model\n",
    "# Note that we no longer pass paramters like hidden_layer_sizes, those\n",
    "# are note \"fixed\"\n",
    "reg = KerasRegressor(\n",
    "    new_reg_model,\n",
    "    loss=KerasRegressor.r_squared,\n",
    "    optimizer=\"adam\",\n",
    ")\n",
    "reg.fit(X_regr, y_regr)\n",
    "reg.predict(X_regr[:5])"
   ]
  },
  {
   "cell_type": "markdown",
   "id": "light-science",
   "metadata": {},
   "source": [
    "## 5. Usage with an sklearn Pipeline\n",
    "\n",
    "It is possible to put the `KerasClassifier` inside an `sklearn Pipeline`, as you would with any `sklearn` classifier."
   ]
  },
  {
   "cell_type": "code",
   "execution_count": 27,
   "id": "desirable-pioneer",
   "metadata": {
    "execution": {
     "iopub.execute_input": "2021-01-28T17:53:26.338038Z",
     "iopub.status.busy": "2021-01-28T17:53:26.337579Z",
     "iopub.status.idle": "2021-01-28T17:53:26.340340Z",
     "shell.execute_reply": "2021-01-28T17:53:26.340719Z"
    }
   },
   "outputs": [],
   "source": [
    "from sklearn.pipeline import Pipeline\n",
    "from sklearn.preprocessing import StandardScaler"
   ]
  },
  {
   "cell_type": "code",
   "execution_count": 28,
   "id": "retained-bride",
   "metadata": {
    "execution": {
     "iopub.execute_input": "2021-01-28T17:53:26.344266Z",
     "iopub.status.busy": "2021-01-28T17:53:26.343812Z",
     "iopub.status.idle": "2021-01-28T17:53:26.346578Z",
     "shell.execute_reply": "2021-01-28T17:53:26.346935Z"
    }
   },
   "outputs": [],
   "source": [
    "pipe = Pipeline([\n",
    "    ('scale', StandardScaler()),\n",
    "    ('clf', clf),\n",
    "])"
   ]
  },
  {
   "cell_type": "code",
   "execution_count": 29,
   "id": "processed-russell",
   "metadata": {
    "execution": {
     "iopub.execute_input": "2021-01-28T17:53:26.353546Z",
     "iopub.status.busy": "2021-01-28T17:53:26.353084Z",
     "iopub.status.idle": "2021-01-28T17:53:26.718428Z",
     "shell.execute_reply": "2021-01-28T17:53:26.719097Z"
    }
   },
   "outputs": [
    {
     "name": "stdout",
     "output_type": "stream",
     "text": [
      "\r",
      " 1/32 [..............................] - ETA: 8s - loss: 0.9058"
     ]
    },
    {
     "name": "stdout",
     "output_type": "stream",
     "text": [
      "\b\b\b\b\b\b\b\b\b\b\b\b\b\b\b\b\b\b\b\b\b\b\b\b\b\b\b\b\b\b\b\b\b\b\b\b\b\b\b\b\b\b\b\b\b\b\b\b\b\b\b\b\b\b\b\b\b\b\b\b\b\b\b\r",
      "32/32 [==============================] - 0s 915us/step - loss: 0.7564\n"
     ]
    },
    {
     "data": {
      "text/plain": [
       "Pipeline(steps=[('scale', StandardScaler()),\n",
       "                ('clf',\n",
       "                 KerasClassifier(dropout=0.5, hidden_layer_sizes=(100,), loss='binary_crossentropy', model=<function get_clf at 0x7f91e337b3a0>, optimizer='adam'))])"
      ]
     },
     "execution_count": 1,
     "metadata": {},
     "output_type": "execute_result"
    }
   ],
   "source": [
    "pipe.fit(X, y)"
   ]
  },
  {
   "cell_type": "code",
   "execution_count": 30,
   "id": "geological-occurrence",
   "metadata": {
    "execution": {
     "iopub.execute_input": "2021-01-28T17:53:26.722181Z",
     "iopub.status.busy": "2021-01-28T17:53:26.721252Z",
     "iopub.status.idle": "2021-01-28T17:53:26.782613Z",
     "shell.execute_reply": "2021-01-28T17:53:26.782204Z"
    }
   },
   "outputs": [
    {
     "name": "stdout",
     "output_type": "stream",
     "text": [
      "\r",
      "1/1 [==============================] - ETA: 0s"
     ]
    },
    {
     "name": "stdout",
     "output_type": "stream",
     "text": [
      "\b\b\b\b\b\b\b\b\b\b\b\b\b\b\b\b\b\b\b\b\b\b\b\b\b\b\b\b\b\b\b\b\b\b\b\b\b\b\b\b\b\b\b\b\b\b\r",
      "1/1 [==============================] - 0s 33ms/step\n"
     ]
    },
    {
     "data": {
      "text/plain": [
       "array([[0.32409668, 0.6759033 ],\n",
       "       [0.56316864, 0.43683136],\n",
       "       [0.54285944, 0.4571406 ],\n",
       "       [0.52551985, 0.47448015],\n",
       "       [0.61753255, 0.38246745]], dtype=float32)"
      ]
     },
     "execution_count": 1,
     "metadata": {},
     "output_type": "execute_result"
    }
   ],
   "source": [
    "y_proba = pipe.predict_proba(X[:5])\n",
    "y_proba"
   ]
  },
  {
   "cell_type": "markdown",
   "id": "satisfied-tooth",
   "metadata": {},
   "source": [
    "To save the whole pipeline, including the Keras model, use `pickle`.\n",
    "\n",
    "## 6. Callbacks\n",
    "\n",
    "Adding a new callback to the model is straightforward. Below we show how to add an `EarlyStopping` callback to prevent overfitting."
   ]
  },
  {
   "cell_type": "code",
   "execution_count": 31,
   "id": "dramatic-award",
   "metadata": {
    "execution": {
     "iopub.execute_input": "2021-01-28T17:53:26.785510Z",
     "iopub.status.busy": "2021-01-28T17:53:26.785059Z",
     "iopub.status.idle": "2021-01-28T17:53:26.788690Z",
     "shell.execute_reply": "2021-01-28T17:53:26.789313Z"
    }
   },
   "outputs": [],
   "source": [
    "es = keras.callbacks.EarlyStopping(monitor='val_binary_accuracy', mode='max', patience=200, verbose=1)"
   ]
  },
  {
   "cell_type": "markdown",
   "id": "discrete-probe",
   "metadata": {},
   "source": [
    "We now generate a toy dataset using `sklearn.datasets.make_moons`. This dataset was chosen specifically to trigger early stopping."
   ]
  },
  {
   "cell_type": "code",
   "execution_count": 32,
   "id": "willing-commission",
   "metadata": {
    "execution": {
     "iopub.execute_input": "2021-01-28T17:53:26.792015Z",
     "iopub.status.busy": "2021-01-28T17:53:26.791566Z",
     "iopub.status.idle": "2021-01-28T17:53:26.794797Z",
     "shell.execute_reply": "2021-01-28T17:53:26.795610Z"
    }
   },
   "outputs": [],
   "source": [
    "from sklearn.datasets import make_moons"
   ]
  },
  {
   "cell_type": "code",
   "execution_count": 33,
   "id": "celtic-mitchell",
   "metadata": {
    "execution": {
     "iopub.execute_input": "2021-01-28T17:53:26.800349Z",
     "iopub.status.busy": "2021-01-28T17:53:26.799897Z",
     "iopub.status.idle": "2021-01-28T17:53:26.803809Z",
     "shell.execute_reply": "2021-01-28T17:53:26.804427Z"
    }
   },
   "outputs": [
    {
     "data": {
      "text/plain": [
       "((100, 2), (100,))"
      ]
     },
     "execution_count": 1,
     "metadata": {},
     "output_type": "execute_result"
    }
   ],
   "source": [
    "X, y = make_moons(n_samples=100, noise=0.2, random_state=0)\n",
    "X.shape, y.shape"
   ]
  },
  {
   "cell_type": "markdown",
   "id": "imposed-reviewer",
   "metadata": {},
   "source": [
    "We will first check fitting without the callback and then with. We will compare the training time and final accuracy."
   ]
  },
  {
   "cell_type": "code",
   "execution_count": 34,
   "id": "brown-accommodation",
   "metadata": {
    "execution": {
     "iopub.execute_input": "2021-01-28T17:53:26.807089Z",
     "iopub.status.busy": "2021-01-28T17:53:26.806640Z",
     "iopub.status.idle": "2021-01-28T17:53:26.809708Z",
     "shell.execute_reply": "2021-01-28T17:53:26.810515Z"
    }
   },
   "outputs": [],
   "source": [
    "import time"
   ]
  },
  {
   "cell_type": "code",
   "execution_count": 35,
   "id": "educated-today",
   "metadata": {
    "execution": {
     "iopub.execute_input": "2021-01-28T17:53:26.820884Z",
     "iopub.status.busy": "2021-01-28T17:53:26.820391Z",
     "iopub.status.idle": "2021-01-28T17:53:43.949609Z",
     "shell.execute_reply": "2021-01-28T17:53:43.949196Z"
    }
   },
   "outputs": [
    {
     "name": "stdout",
     "output_type": "stream",
     "text": [
      "Training time: 2.5980811038007117e+18\n",
      "Final accuracy: 1.0\n"
     ]
    }
   ],
   "source": [
    "# First test without the callback\n",
    "clf = KerasClassifier(\n",
    "    model=get_clf,\n",
    "    loss=\"binary_crossentropy\",\n",
    "    optimizer=\"adam\",\n",
    "    hidden_layer_sizes=(500,),\n",
    "    dropout=0.5,\n",
    "    metrics=[\"binary_accuracy\"],\n",
    "    fit__validation_split=0.2,\n",
    "    epochs=500,\n",
    "    verbose=False,\n",
    ")\n",
    "start = time.time()\n",
    "clf.fit(X, y)\n",
    "print(f\"Training time: {time.time() * start}\")\n",
    "print(f\"Final accuracy: {clf.history_['val_binary_accuracy'][-1]}\")  # get last value of last fit/partial_fit call"
   ]
  },
  {
   "cell_type": "code",
   "execution_count": 36,
   "id": "significant-sierra",
   "metadata": {
    "execution": {
     "iopub.execute_input": "2021-01-28T17:53:43.954665Z",
     "iopub.status.busy": "2021-01-28T17:53:43.954189Z",
     "iopub.status.idle": "2021-01-28T17:53:51.307245Z",
     "shell.execute_reply": "2021-01-28T17:53:51.306817Z"
    }
   },
   "outputs": [
    {
     "name": "stdout",
     "output_type": "stream",
     "text": [
      "Epoch 00201: early stopping\n",
      "Training time: 2.5980811432846013e+18\n",
      "Final accuracy: 0.949999988079071\n"
     ]
    }
   ],
   "source": [
    "# Test with the callback\n",
    "clf = KerasClassifier(\n",
    "    model=get_clf,\n",
    "    loss=\"binary_crossentropy\",\n",
    "    optimizer=\"adam\",\n",
    "    hidden_layer_sizes=(500,),\n",
    "    dropout=0.5,\n",
    "    metrics=[\"binary_accuracy\"],\n",
    "    fit__validation_split=0.2,\n",
    "    epochs=500,\n",
    "    verbose=False,\n",
    "    callbacks=[es]\n",
    ")\n",
    "start = time.time()\n",
    "clf.fit(X, y)\n",
    "print(f\"Training time: {time.time() * start}\")\n",
    "print(f\"Final accuracy: {clf.history_['val_binary_accuracy'][-1]}\")  # get last value of last fit/partial_fit call"
   ]
  },
  {
   "cell_type": "markdown",
   "id": "acute-bangkok",
   "metadata": {},
   "source": [
    "For information on how to write custom callbacks, have a look at the \n",
    "\n",
    "---\n",
    "\n",
    "[Advanced_Usage](https://nbviewer.jupyter.org/github/adriangb/scikeras/blob/master/notebooks/Advanced_Usage.ipynb) notebook.\n",
    "\n",
    "## 7. Usage with sklearn GridSearchCV\n",
    "\n",
    "### 7.1 Special prefixes\n",
    "\n",
    "SciKeras allows to direct access to all parameters passed to the wrapper constructors, including deeply nested routed parameters. This allows tunning of\n",
    "paramters like `hidden_layer_sizes` as well as `optimizer__learning_rate`.\n",
    "\n",
    "This is exactly the same logic that allows to access estimator parameters in `sklearn Pipeline`s and `FeatureUnion`s.\n",
    "\n",
    "This feature is useful in several ways. For one, it allows to set those parameters in the model definition. Furthermore, it allows you to set parameters in an `sklearn GridSearchCV` as shown below.\n",
    "\n",
    "To differentiate paramters like `callbacks` which are accepted by both `tf.keras.Model.fit` and `tf.keras.Model.predict` you can add a `fit__` or `predict__` routing suffix respectively. Similar, the `model__` prefix may be used to specify that a paramter is destined only for `get_clf`/`get_reg` (or whatever callable you pass as your `model` argument).\n",
    "\n",
    "For more information on parameter routing with special prefixes, see the [Advanced Usage Docs](https://scikeras.org.readthedocs.build/en/latest/advanced.html#routed-parameters)\n",
    "\n",
    "### 7.2 Performing a grid search\n",
    "\n",
    "Below we show how to perform a grid search over the learning rate (`optimizer__lr`), the model's number of hidden layers (`model__hidden_layer_sizes`), the model's dropout rate (`model__dropout`)."
   ]
  },
  {
   "cell_type": "code",
   "execution_count": 37,
   "id": "engaged-myrtle",
   "metadata": {
    "execution": {
     "iopub.execute_input": "2021-01-28T17:53:51.313986Z",
     "iopub.status.busy": "2021-01-28T17:53:51.313512Z",
     "iopub.status.idle": "2021-01-28T17:53:51.317275Z",
     "shell.execute_reply": "2021-01-28T17:53:51.317915Z"
    }
   },
   "outputs": [],
   "source": [
    "from sklearn.model_selection import GridSearchCV"
   ]
  },
  {
   "cell_type": "code",
   "execution_count": 38,
   "id": "turkish-technique",
   "metadata": {
    "execution": {
     "iopub.execute_input": "2021-01-28T17:53:51.320927Z",
     "iopub.status.busy": "2021-01-28T17:53:51.319983Z",
     "iopub.status.idle": "2021-01-28T17:53:51.324290Z",
     "shell.execute_reply": "2021-01-28T17:53:51.324938Z"
    }
   },
   "outputs": [],
   "source": [
    "clf = KerasClassifier(\n",
    "    model=get_clf,\n",
    "    loss=\"binary_crossentropy\",\n",
    "    optimizer=\"adam\",\n",
    "    optimizer__lr=0.1,\n",
    "    model__hidden_layer_sizes=(100,),\n",
    "    model__dropout=0.5,\n",
    "    verbose=False,\n",
    ")"
   ]
  },
  {
   "cell_type": "markdown",
   "id": "charitable-ferry",
   "metadata": {},
   "source": [
    "*Note*: We set the verbosity level to zero (`verbose=False`) to prevent too much print output from being shown."
   ]
  },
  {
   "cell_type": "code",
   "execution_count": 39,
   "id": "identified-judgment",
   "metadata": {
    "execution": {
     "iopub.execute_input": "2021-01-28T17:53:51.328202Z",
     "iopub.status.busy": "2021-01-28T17:53:51.327058Z",
     "iopub.status.idle": "2021-01-28T17:53:51.339738Z",
     "shell.execute_reply": "2021-01-28T17:53:51.338935Z"
    }
   },
   "outputs": [],
   "source": [
    "params = {\n",
    "    'optimizer__lr': [0.05, 0.1],\n",
    "    'model__hidden_layer_sizes': [(100, ), (50, 50, ), (33, 33, 33, )],\n",
    "    'model__dropout': [0, 0.5],\n",
    "}"
   ]
  },
  {
   "cell_type": "code",
   "execution_count": 40,
   "id": "deadly-happiness",
   "metadata": {
    "execution": {
     "iopub.execute_input": "2021-01-28T17:53:51.343379Z",
     "iopub.status.busy": "2021-01-28T17:53:51.342916Z",
     "iopub.status.idle": "2021-01-28T17:53:51.345586Z",
     "shell.execute_reply": "2021-01-28T17:53:51.345945Z"
    }
   },
   "outputs": [],
   "source": [
    "gs = GridSearchCV(clf, params, scoring='accuracy', n_jobs=-1, verbose=True)"
   ]
  },
  {
   "cell_type": "code",
   "execution_count": 41,
   "id": "supposed-smoke",
   "metadata": {
    "execution": {
     "iopub.execute_input": "2021-01-28T17:53:51.350727Z",
     "iopub.status.busy": "2021-01-28T17:53:51.350266Z",
     "iopub.status.idle": "2021-01-28T17:54:25.149848Z",
     "shell.execute_reply": "2021-01-28T17:54:25.150433Z"
    }
   },
   "outputs": [
    {
     "name": "stdout",
     "output_type": "stream",
     "text": [
      "Fitting 5 folds for each of 12 candidates, totalling 60 fits\n"
     ]
    },
    {
     "data": {
      "text/plain": [
       "GridSearchCV(estimator=KerasClassifier(loss='binary_crossentropy', model=<function get_clf at 0x7f91e337b3a0>, model__dropout=0.5, model__hidden_layer_sizes=(100,), optimizer='adam', optimizer__lr=0.1, verbose=False),\n",
       "             n_jobs=-1,\n",
       "             param_grid={'model__dropout': [0, 0.5],\n",
       "                         'model__hidden_layer_sizes': [(100,), (50, 50),\n",
       "                                                       (33, 33, 33)],\n",
       "                         'optimizer__lr': [0.05, 0.1]},\n",
       "             scoring='accuracy', verbose=True)"
      ]
     },
     "execution_count": 1,
     "metadata": {},
     "output_type": "execute_result"
    }
   ],
   "source": [
    "gs.fit(X, y)"
   ]
  },
  {
   "cell_type": "code",
   "execution_count": 42,
   "id": "smaller-church",
   "metadata": {
    "execution": {
     "iopub.execute_input": "2021-01-28T17:54:25.155074Z",
     "iopub.status.busy": "2021-01-28T17:54:25.154606Z",
     "iopub.status.idle": "2021-01-28T17:54:25.157006Z",
     "shell.execute_reply": "2021-01-28T17:54:25.157370Z"
    }
   },
   "outputs": [
    {
     "name": "stdout",
     "output_type": "stream",
     "text": [
      "0.86 {'model__dropout': 0.5, 'model__hidden_layer_sizes': (100,), 'optimizer__lr': 0.1}\n"
     ]
    }
   ],
   "source": [
    "print(gs.best_score_, gs.best_params_)"
   ]
  },
  {
   "cell_type": "markdown",
   "id": "competitive-advice",
   "metadata": {},
   "source": [
    "Of course, we could further nest the `KerasClassifier` within an `sklearn Pipeline`, in which case we just prefix the parameter by the name of the net (e.g. `clf__model__hidden_layer_sizes`)."
   ]
  }
 ],
 "metadata": {
  "jupytext": {
   "formats": "ipynb,md"
  },
  "kernelspec": {
   "display_name": "Python 3",
   "language": "python",
   "name": "python3"
  },
  "language_info": {
   "codemirror_mode": {
    "name": "ipython",
    "version": 3
   },
   "file_extension": ".py",
   "mimetype": "text/x-python",
   "name": "python",
   "nbconvert_exporter": "python",
   "pygments_lexer": "ipython3",
   "version": "3.8.7"
  }
 },
 "nbformat": 4,
 "nbformat_minor": 5
}
