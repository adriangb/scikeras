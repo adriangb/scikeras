{
 "cells": [
  {
   "cell_type": "raw",
   "id": "chief-backup",
   "metadata": {},
   "source": [
    "<a href=\"https://colab.research.google.com/github/adriangb/scikeras/blob/docs-deploy/refs/heads/master/notebooks/Meta_Estimators.ipynb\"><img src=\"https://www.tensorflow.org/images/colab_logo_32px.png\">Run in Google Colab</a>"
   ]
  },
  {
   "cell_type": "markdown",
   "id": "close-thailand",
   "metadata": {},
   "source": [
    "# Meta Estimators in SciKeras\n",
    "\n",
    "In this notebook, we implement sklearn ensemble and tree meta-estimators backed by a Keras MLP model.\n",
    "\n",
    "## Table of contents\n",
    "\n",
    "* [1. Setup](#1.-Setup)\n",
    "* [2. Defining the Keras Model](#2.-Defining-the-Keras-Model)\n",
    "  * [2.1 Building a boosting ensemble](#2.1-Building-a-boosting-ensemble)\n",
    "* [3. Testing with a toy dataset](#3.-Testing-with-a-toy-dataset)\n",
    "* [4. Bagging ensemble](#4.-Bagging-ensemble)\n",
    "\n",
    "## 1. Setup"
   ]
  },
  {
   "cell_type": "code",
   "execution_count": 1,
   "id": "played-transformation",
   "metadata": {
    "execution": {
     "iopub.execute_input": "2021-01-28T17:54:49.523447Z",
     "iopub.status.busy": "2021-01-28T17:54:49.522876Z",
     "iopub.status.idle": "2021-01-28T17:54:51.130649Z",
     "shell.execute_reply": "2021-01-28T17:54:51.131047Z"
    }
   },
   "outputs": [],
   "source": [
    "try:\n",
    "    import scikeras\n",
    "except ImportError:\n",
    "    !python -m pip install scikeras"
   ]
  },
  {
   "cell_type": "markdown",
   "id": "musical-assignment",
   "metadata": {},
   "source": [
    "Silence TensorFlow logging to keep output succinct."
   ]
  },
  {
   "cell_type": "code",
   "execution_count": 2,
   "id": "preceding-cargo",
   "metadata": {
    "execution": {
     "iopub.execute_input": "2021-01-28T17:54:51.133993Z",
     "iopub.status.busy": "2021-01-28T17:54:51.133418Z",
     "iopub.status.idle": "2021-01-28T17:54:51.138510Z",
     "shell.execute_reply": "2021-01-28T17:54:51.139029Z"
    }
   },
   "outputs": [],
   "source": [
    "import warnings\n",
    "from tensorflow import get_logger\n",
    "get_logger().setLevel('ERROR')\n",
    "warnings.filterwarnings(\"ignore\", message=\"Setting the random state for TF\")"
   ]
  },
  {
   "cell_type": "code",
   "execution_count": 3,
   "id": "cardiac-microwave",
   "metadata": {
    "execution": {
     "iopub.execute_input": "2021-01-28T17:54:51.142680Z",
     "iopub.status.busy": "2021-01-28T17:54:51.142226Z",
     "iopub.status.idle": "2021-01-28T17:54:51.572272Z",
     "shell.execute_reply": "2021-01-28T17:54:51.572676Z"
    }
   },
   "outputs": [],
   "source": [
    "import numpy as np\n",
    "from scikeras.wrappers import KerasClassifier, KerasRegressor\n",
    "from tensorflow import keras"
   ]
  },
  {
   "cell_type": "markdown",
   "id": "prospective-medication",
   "metadata": {},
   "source": [
    "## 2. Defining the Keras Model\n",
    "\n",
    "We borrow our MLPClassifier implementation from the [MLPClassifier notebook](https://colab.research.google.com/github/adriangb/scikeras/blob/master/notebooks/MLPClassifier_and_MLPRegressor.ipynb)."
   ]
  },
  {
   "cell_type": "code",
   "execution_count": 4,
   "id": "random-hierarchy",
   "metadata": {
    "execution": {
     "iopub.execute_input": "2021-01-28T17:54:51.581287Z",
     "iopub.status.busy": "2021-01-28T17:54:51.580773Z",
     "iopub.status.idle": "2021-01-28T17:54:51.588228Z",
     "shell.execute_reply": "2021-01-28T17:54:51.588785Z"
    }
   },
   "outputs": [],
   "source": [
    "from typing import Dict, Iterable, Any\n",
    "\n",
    "\n",
    "def get_clf_model(hidden_layer_sizes: Iterable[int], meta: Dict[str, Any], compile_kwargs: Dict[str, Any]):\n",
    "    model = keras.Sequential()\n",
    "    inp = keras.layers.Input(shape=(meta[\"n_features_in_\"]))\n",
    "    model.add(inp)\n",
    "    for hidden_layer_size in hidden_layer_sizes:\n",
    "        layer = keras.layers.Dense(hidden_layer_size, activation=\"relu\")\n",
    "        model.add(layer)\n",
    "    if meta[\"target_type_\"] == \"binary\":\n",
    "        n_output_units = 1\n",
    "        output_activation = \"sigmoid\"\n",
    "        loss = \"binary_crossentropy\"\n",
    "    elif meta[\"target_type_\"] == \"multiclass\":\n",
    "        n_output_units = meta[\"n_classes_\"]\n",
    "        output_activation = \"softmax\"\n",
    "        loss = \"sparse_categorical_crossentropy\"\n",
    "    else:\n",
    "        raise NotImplementedError(f\"Unsupported task type: {meta['target_type_']}\")\n",
    "    out = keras.layers.Dense(n_output_units, activation=output_activation)\n",
    "    model.add(out)\n",
    "    model.compile(loss=loss, optimizer=compile_kwargs[\"optimizer\"])\n",
    "    return model"
   ]
  },
  {
   "cell_type": "markdown",
   "id": "victorian-drill",
   "metadata": {},
   "source": [
    "Next we wrap this Keras model with SciKeras"
   ]
  },
  {
   "cell_type": "code",
   "execution_count": 5,
   "id": "modular-charter",
   "metadata": {
    "execution": {
     "iopub.execute_input": "2021-01-28T17:54:51.592705Z",
     "iopub.status.busy": "2021-01-28T17:54:51.592220Z",
     "iopub.status.idle": "2021-01-28T17:54:51.594639Z",
     "shell.execute_reply": "2021-01-28T17:54:51.595245Z"
    }
   },
   "outputs": [],
   "source": [
    "clf = KerasClassifier(\n",
    "    model=get_clf_model,\n",
    "    hidden_layer_sizes=(100, ),\n",
    "    optimizer=\"adam\",\n",
    "    optimizer__learning_rate=0.001,\n",
    "    verbose=0,\n",
    "    random_state=0,\n",
    ")"
   ]
  },
  {
   "cell_type": "markdown",
   "id": "processed-insured",
   "metadata": {},
   "source": [
    "### 2.1 Building a boosting ensemble\n",
    "\n",
    "Because SciKeras estimators are fully compliant with the Scikit-Learn API, we can make use of Scikit-Learn's built in utilities. In particular example, we will use `AdaBoostClassifier` from `sklearn.ensemble.AdaBoostClassifier`, but the process is the same for most Scikit-Learn meta-estimators."
   ]
  },
  {
   "cell_type": "code",
   "execution_count": 6,
   "id": "correct-product",
   "metadata": {
    "execution": {
     "iopub.execute_input": "2021-01-28T17:54:51.598655Z",
     "iopub.status.busy": "2021-01-28T17:54:51.597736Z",
     "iopub.status.idle": "2021-01-28T17:54:51.645192Z",
     "shell.execute_reply": "2021-01-28T17:54:51.645898Z"
    }
   },
   "outputs": [],
   "source": [
    "from sklearn.ensemble import AdaBoostClassifier"
   ]
  },
  {
   "cell_type": "code",
   "execution_count": 7,
   "id": "angry-audio",
   "metadata": {
    "execution": {
     "iopub.execute_input": "2021-01-28T17:54:51.651669Z",
     "iopub.status.busy": "2021-01-28T17:54:51.651183Z",
     "iopub.status.idle": "2021-01-28T17:54:51.660514Z",
     "shell.execute_reply": "2021-01-28T17:54:51.659702Z"
    }
   },
   "outputs": [],
   "source": [
    "adaboost = AdaBoostClassifier(base_estimator=clf, random_state=0)"
   ]
  },
  {
   "cell_type": "markdown",
   "id": "variable-viewer",
   "metadata": {},
   "source": [
    "## 3. Testing with a toy dataset\n",
    "\n",
    "Before continouing, we will run a small test to make sure we get somewhat reasonable results."
   ]
  },
  {
   "cell_type": "code",
   "execution_count": 8,
   "id": "dedicated-quick",
   "metadata": {
    "execution": {
     "iopub.execute_input": "2021-01-28T17:54:51.665108Z",
     "iopub.status.busy": "2021-01-28T17:54:51.663624Z",
     "iopub.status.idle": "2021-01-28T17:54:51.707831Z",
     "shell.execute_reply": "2021-01-28T17:54:51.708199Z"
    }
   },
   "outputs": [],
   "source": [
    "from sklearn.datasets import make_moons\n",
    "from sklearn.model_selection import cross_val_score"
   ]
  },
  {
   "cell_type": "code",
   "execution_count": 9,
   "id": "split-wheat",
   "metadata": {
    "execution": {
     "iopub.execute_input": "2021-01-28T17:54:51.710940Z",
     "iopub.status.busy": "2021-01-28T17:54:51.710349Z",
     "iopub.status.idle": "2021-01-28T17:57:19.934869Z",
     "shell.execute_reply": "2021-01-28T17:57:19.934176Z"
    }
   },
   "outputs": [
    {
     "name": "stdout",
     "output_type": "stream",
     "text": [
      "Single score: 0.33\n",
      "AdaBoost score: 0.80\n"
     ]
    }
   ],
   "source": [
    "X, y = make_moons()\n",
    "\n",
    "single_score = np.mean(cross_val_score(clf, X, y))\n",
    "\n",
    "adaboost_score = np.mean(cross_val_score(adaboost, X, y))\n",
    "\n",
    "print(f\"Single score: {single_score:.2f}\")\n",
    "print(f\"AdaBoost score: {adaboost_score:.2f}\")"
   ]
  },
  {
   "cell_type": "markdown",
   "id": "european-moore",
   "metadata": {},
   "source": [
    "We see that the score for the AdaBoost classifier is slightly higher than that of an individual MLPRegressor instance. We can explore the individual classifiers, and see that each one is composed of a Keras Model with it's own individual weights."
   ]
  },
  {
   "cell_type": "code",
   "execution_count": 10,
   "id": "democratic-charleston",
   "metadata": {
    "execution": {
     "iopub.execute_input": "2021-01-28T17:57:19.953320Z",
     "iopub.status.busy": "2021-01-28T17:57:19.952821Z",
     "iopub.status.idle": "2021-01-28T17:57:46.778160Z",
     "shell.execute_reply": "2021-01-28T17:57:46.778776Z"
    }
   },
   "outputs": [
    {
     "data": {
      "text/plain": [
       "AdaBoostClassifier(base_estimator=KerasClassifier(hidden_layer_sizes=(100,), model=<function get_clf_model at 0x7fd0559c3e50>, optimizer='adam', optimizer__learning_rate=0.001, random_state=0, verbose=0),\n",
       "                   random_state=0)"
      ]
     },
     "execution_count": 1,
     "metadata": {},
     "output_type": "execute_result"
    }
   ],
   "source": [
    "adaboost.fit(X, y)  # we need to fit outside of cross_val_score before accessing the weights"
   ]
  },
  {
   "cell_type": "code",
   "execution_count": 11,
   "id": "related-brooklyn",
   "metadata": {
    "execution": {
     "iopub.execute_input": "2021-01-28T17:57:46.783326Z",
     "iopub.status.busy": "2021-01-28T17:57:46.782857Z",
     "iopub.status.idle": "2021-01-28T17:57:46.788646Z",
     "shell.execute_reply": "2021-01-28T17:57:46.789337Z"
    }
   },
   "outputs": [
    {
     "name": "stdout",
     "output_type": "stream",
     "text": [
      "[-0.12568542  0.08282742 -0.08277123  0.17563559 -0.15032928]\n",
      "[ 0.06879698 -0.21097077  0.19619186 -0.07185169 -0.00959587]\n"
     ]
    }
   ],
   "source": [
    "print(adaboost.estimators_[0].model_.get_weights()[0][0, :5])  # first sub-estimator\n",
    "print(adaboost.estimators_[1].model_.get_weights()[0][0, :5])  # second sub-estimator"
   ]
  },
  {
   "cell_type": "markdown",
   "id": "pacific-strand",
   "metadata": {},
   "source": [
    "## 4. Bagging ensemble\n",
    "\n",
    "For comparison, we run the same test with an ensemble built using `sklearn.ensemble.BaggingClassifier`."
   ]
  },
  {
   "cell_type": "code",
   "execution_count": 12,
   "id": "ranging-lecture",
   "metadata": {
    "execution": {
     "iopub.execute_input": "2021-01-28T17:57:46.792874Z",
     "iopub.status.busy": "2021-01-28T17:57:46.792366Z",
     "iopub.status.idle": "2021-01-28T17:57:46.795546Z",
     "shell.execute_reply": "2021-01-28T17:57:46.794987Z"
    }
   },
   "outputs": [],
   "source": [
    "from sklearn.ensemble import BaggingClassifier"
   ]
  },
  {
   "cell_type": "code",
   "execution_count": 13,
   "id": "banner-reporter",
   "metadata": {
    "execution": {
     "iopub.execute_input": "2021-01-28T17:57:46.800318Z",
     "iopub.status.busy": "2021-01-28T17:57:46.799458Z",
     "iopub.status.idle": "2021-01-28T17:58:56.489545Z",
     "shell.execute_reply": "2021-01-28T17:58:56.489963Z"
    }
   },
   "outputs": [
    {
     "name": "stdout",
     "output_type": "stream",
     "text": [
      "Bagging score: 0.63\n"
     ]
    }
   ],
   "source": [
    "bagging = BaggingClassifier(base_estimator=clf, random_state=0, n_jobs=-1)\n",
    "\n",
    "bagging_score = np.mean(cross_val_score(bagging, X, y))\n",
    "\n",
    "print(f\"Bagging score: {bagging_score:.2f}\")"
   ]
  }
 ],
 "metadata": {
  "jupytext": {
   "formats": "ipynb,md"
  },
  "kernelspec": {
   "display_name": "Python 3",
   "language": "python",
   "name": "python3"
  },
  "language_info": {
   "codemirror_mode": {
    "name": "ipython",
    "version": 3
   },
   "file_extension": ".py",
   "mimetype": "text/x-python",
   "name": "python",
   "nbconvert_exporter": "python",
   "pygments_lexer": "ipython3",
   "version": "3.8.7"
  }
 },
 "nbformat": 4,
 "nbformat_minor": 5
}
