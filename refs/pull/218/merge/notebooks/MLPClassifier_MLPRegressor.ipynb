{
 "cells": [
  {
   "cell_type": "raw",
   "id": "geographic-joshua",
   "metadata": {},
   "source": [
    "<a href=\"https://colab.research.google.com/github/adriangb/scikeras/blob/docs-deploy/refs/heads/master/notebooks/MLPClassifier_MLPRegressor.ipynb\"><img src=\"https://www.tensorflow.org/images/colab_logo_32px.png\">Run in Google Colab</a>"
   ]
  },
  {
   "cell_type": "markdown",
   "id": "latter-armenia",
   "metadata": {},
   "source": [
    "# MLPClassifier and MLPRegressor in SciKeras\n",
    "\n",
    "SciKeras is a bridge between Keras and Scikit-Learn. As such, one of SciKeras' design goals is to be able to create a Scikit-Learn style estimator backed by Keras.\n",
    "\n",
    "This notebook implements an estimator that is analogous to `sklearn.neural_network.MLPClassifier` using Keras. This estimator should (for the most part) work as a drop-in replacement for `MLPClassifier`!\n",
    "\n",
    "## Table of contents\n",
    "\n",
    "* [1. Setup](#1.-Setup)\n",
    "* [2. Defining the Keras Model](#2.-Defining-the-Keras-Model)\n",
    "  * [2.1 Inputs](#2.1-Inputs)\n",
    "  * [2.2 Hidden layers](#2.2-Hidden-layers)\n",
    "  * [2.3 Output layers](#2.3-Output-layers)\n",
    "  * [2.4 Losses and optimizer](#2.4-Losses-and-optimizer)\n",
    "  * [2.5 Wrapping with SciKeras](#2.5-Wrapping-with-SciKeras)\n",
    "* [3. Testing our classifier](#3.-Testing-our-classifier)\n",
    "* [4. Self contained MLPClassifier](#4.-Self-contained-MLPClassifier)\n",
    "  * [4.1 Subclassing](#4.1-Subclassing)\n",
    "* [5. MLPRegressor](#5.-MLPRegressor)\n",
    "\n",
    "## 1. Setup"
   ]
  },
  {
   "cell_type": "code",
   "execution_count": 1,
   "id": "threaded-cause",
   "metadata": {
    "execution": {
     "iopub.execute_input": "2021-03-08T03:35:55.782264Z",
     "iopub.status.busy": "2021-03-08T03:35:55.781722Z",
     "iopub.status.idle": "2021-03-08T03:35:57.434410Z",
     "shell.execute_reply": "2021-03-08T03:35:57.434743Z"
    }
   },
   "outputs": [],
   "source": [
    "try:\n",
    "    import scikeras\n",
    "except ImportError:\n",
    "    !python -m pip install scikeras"
   ]
  },
  {
   "cell_type": "markdown",
   "id": "choice-terrain",
   "metadata": {},
   "source": [
    "Silence TensorFlow logging to keep output succinct."
   ]
  },
  {
   "cell_type": "code",
   "execution_count": 2,
   "id": "democratic-hindu",
   "metadata": {
    "execution": {
     "iopub.execute_input": "2021-03-08T03:35:57.438945Z",
     "iopub.status.busy": "2021-03-08T03:35:57.438548Z",
     "iopub.status.idle": "2021-03-08T03:35:57.441024Z",
     "shell.execute_reply": "2021-03-08T03:35:57.441510Z"
    }
   },
   "outputs": [],
   "source": [
    "import warnings\n",
    "from tensorflow import get_logger\n",
    "get_logger().setLevel('ERROR')\n",
    "warnings.filterwarnings(\"ignore\", message=\"Setting the random state for TF\")"
   ]
  },
  {
   "cell_type": "code",
   "execution_count": 3,
   "id": "metallic-institute",
   "metadata": {
    "execution": {
     "iopub.execute_input": "2021-03-08T03:35:57.445129Z",
     "iopub.status.busy": "2021-03-08T03:35:57.444592Z",
     "iopub.status.idle": "2021-03-08T03:35:57.803283Z",
     "shell.execute_reply": "2021-03-08T03:35:57.803732Z"
    }
   },
   "outputs": [],
   "source": [
    "import numpy as np\n",
    "from scikeras.wrappers import KerasClassifier, KerasRegressor\n",
    "from tensorflow import keras"
   ]
  },
  {
   "cell_type": "markdown",
   "id": "representative-toronto",
   "metadata": {},
   "source": [
    "## 2. Defining the Keras Model\n",
    "\n",
    "First, we outline our model building function, using a `Sequential` Model:"
   ]
  },
  {
   "cell_type": "code",
   "execution_count": 4,
   "id": "imperial-external",
   "metadata": {
    "execution": {
     "iopub.execute_input": "2021-03-08T03:35:57.807060Z",
     "iopub.status.busy": "2021-03-08T03:35:57.806375Z",
     "iopub.status.idle": "2021-03-08T03:35:57.809172Z",
     "shell.execute_reply": "2021-03-08T03:35:57.809848Z"
    }
   },
   "outputs": [],
   "source": [
    "def get_clf_model():\n",
    "    model = keras.Sequential()\n",
    "    return model"
   ]
  },
  {
   "cell_type": "markdown",
   "id": "powered-fourth",
   "metadata": {},
   "source": [
    "### 2.1 Inputs\n",
    "\n",
    "We need to define an input layer for Keras. SciKeras allows you to dynamically determine the input size based on the features (`X`). To do this, you need to add the `meta` parameter to `get_clf_model`'s parameters. `meta` will be a dictionary with all of the `meta` attributes that `KerasClassifier` generates during the `fit` call, including `n_features_in_`, which we will use to dynamically size the input layer."
   ]
  },
  {
   "cell_type": "code",
   "execution_count": 5,
   "id": "tutorial-guatemala",
   "metadata": {
    "execution": {
     "iopub.execute_input": "2021-03-08T03:35:57.812386Z",
     "iopub.status.busy": "2021-03-08T03:35:57.811864Z",
     "iopub.status.idle": "2021-03-08T03:35:57.817866Z",
     "shell.execute_reply": "2021-03-08T03:35:57.818471Z"
    }
   },
   "outputs": [],
   "source": [
    "from typing import Dict, Iterable, Any\n",
    "\n",
    "\n",
    "def get_clf_model(meta: Dict[str, Any]):\n",
    "    model = keras.Sequential()\n",
    "    inp = keras.layers.Input(shape=(meta[\"n_features_in_\"]))\n",
    "    model.add(inp)\n",
    "    return model"
   ]
  },
  {
   "cell_type": "markdown",
   "id": "sticky-basis",
   "metadata": {},
   "source": [
    "### 2.2 Hidden Layers\n",
    "\n",
    "Multilayer perceptrons are generally composed of an input layer, an output layer and 0 or more hidden layers. The size of the hidden layers is specified via the `hidden_layer_sizes` parameter in MLClassifier, where the the ith element represents the number of neurons in the ith hidden layer. Let's add that parameter:"
   ]
  },
  {
   "cell_type": "code",
   "execution_count": 6,
   "id": "assumed-language",
   "metadata": {
    "execution": {
     "iopub.execute_input": "2021-03-08T03:35:57.823251Z",
     "iopub.status.busy": "2021-03-08T03:35:57.821922Z",
     "iopub.status.idle": "2021-03-08T03:35:57.830243Z",
     "shell.execute_reply": "2021-03-08T03:35:57.830950Z"
    }
   },
   "outputs": [],
   "source": [
    "def get_clf_model(hidden_layer_sizes: Iterable[int], meta: Dict[str, Any]):\n",
    "    model = keras.Sequential()\n",
    "    inp = keras.layers.Input(shape=(meta[\"n_features_in_\"]))\n",
    "    model.add(inp)\n",
    "    for hidden_layer_size in hidden_layer_sizes:\n",
    "        layer = keras.layers.Dense(hidden_layer_size, activation=\"relu\")\n",
    "        model.add(layer)\n",
    "    return model"
   ]
  },
  {
   "cell_type": "markdown",
   "id": "supposed-protection",
   "metadata": {},
   "source": [
    "### 2.3 Output layers\n",
    "\n",
    "The output layer needs to reflect the type of classification task being performed. Here, we will handle 2 cases:\n",
    "\n",
    "- binary classification: single output unit with sigmoid activation\n",
    "- multiclass classification: one output unit for each class, with softmax activation\n",
    "The main complication arises from determining which one to use. Like with the input features, SciKeras provides useful information on the target within the `meta` parameter. Specifically, we will use the `n_classes_` and `target_type_` attributes to determine the number of output units and activation function."
   ]
  },
  {
   "cell_type": "code",
   "execution_count": 7,
   "id": "designing-camel",
   "metadata": {
    "execution": {
     "iopub.execute_input": "2021-03-08T03:35:57.834232Z",
     "iopub.status.busy": "2021-03-08T03:35:57.833217Z",
     "iopub.status.idle": "2021-03-08T03:35:57.851039Z",
     "shell.execute_reply": "2021-03-08T03:35:57.850200Z"
    }
   },
   "outputs": [],
   "source": [
    "def get_clf_model(hidden_layer_sizes: Iterable[int], meta: Dict[str, Any]):\n",
    "    model = keras.Sequential()\n",
    "    inp = keras.layers.Input(shape=(meta[\"n_features_in_\"]))\n",
    "    model.add(inp)\n",
    "    for hidden_layer_size in hidden_layer_sizes:\n",
    "        layer = keras.layers.Dense(hidden_layer_size, activation=\"relu\")\n",
    "        model.add(layer)\n",
    "    if meta[\"target_type_\"] == \"binary\":\n",
    "        n_output_units = 1\n",
    "        output_activation = \"sigmoid\"\n",
    "    elif meta[\"target_type_\"] == \"multiclass\":\n",
    "        n_output_units = meta[\"n_classes_\"]\n",
    "        output_activation = \"softmax\"\n",
    "    else:\n",
    "        raise NotImplementedError(f\"Unsupported task type: {meta['target_type_']}\")\n",
    "    out = keras.layers.Dense(n_output_units, activation=output_activation)\n",
    "    model.add(out)\n",
    "    return model"
   ]
  },
  {
   "cell_type": "markdown",
   "id": "positive-chest",
   "metadata": {},
   "source": [
    "For now, we raise a `NotImplementedError` for other target types. For an example handling multi-output target types, see the [Multi Output notebook](https://colab.research.google.com/github/adriangb/scikeras/blob/master/notebooks/MultiInput.ipynb).\n",
    "\n",
    "### 2.4 Losses and optimizer\n",
    "\n",
    "Like the output layer, the loss must match the type of classification task. Generally, it is easier and safet to allow SciKeras to compile your model for you by passing the loss to `KerasClassifier` directly (`KerasClassifier(loss=\"binary_crossentropy\")`). However, in order to implement custom logic around the choice of loss function, we compile the model ourselves within `get_clf_model`; SciKeras will not re-compile the model."
   ]
  },
  {
   "cell_type": "code",
   "execution_count": 8,
   "id": "silver-producer",
   "metadata": {
    "execution": {
     "iopub.execute_input": "2021-03-08T03:35:57.858160Z",
     "iopub.status.busy": "2021-03-08T03:35:57.857644Z",
     "iopub.status.idle": "2021-03-08T03:35:57.860317Z",
     "shell.execute_reply": "2021-03-08T03:35:57.860913Z"
    }
   },
   "outputs": [],
   "source": [
    "def get_clf_model(hidden_layer_sizes: Iterable[int], meta: Dict[str, Any]):\n",
    "    model = keras.Sequential()\n",
    "    inp = keras.layers.Input(shape=(meta[\"n_features_in_\"]))\n",
    "    model.add(inp)\n",
    "    for hidden_layer_size in hidden_layer_sizes:\n",
    "        layer = keras.layers.Dense(hidden_layer_size, activation=\"relu\")\n",
    "        model.add(layer)\n",
    "    if meta[\"target_type_\"] == \"binary\":\n",
    "        n_output_units = 1\n",
    "        output_activation = \"sigmoid\"\n",
    "        loss = \"binary_crossentropy\"\n",
    "    elif meta[\"target_type_\"] == \"multiclass\":\n",
    "        n_output_units = meta[\"n_classes_\"]\n",
    "        output_activation = \"softmax\"\n",
    "        loss = \"sparse_categorical_crossentropy\"\n",
    "    else:\n",
    "        raise NotImplementedError(f\"Unsupported task type: {meta['target_type_']}\")\n",
    "    out = keras.layers.Dense(n_output_units, activation=output_activation)\n",
    "    model.add(out)\n",
    "    model.compile(loss=loss)\n",
    "    return model"
   ]
  },
  {
   "cell_type": "markdown",
   "id": "flush-vietnam",
   "metadata": {},
   "source": [
    "At this point, we have a valid, compiled model. However if we want to be able to tune the optimizer, we should accept `compile_kwargs` as a parameter in `get_clf_model`. `compile_kwargs` will be a dictionary containing valid `kwargs` for `Model.compile`, so we can unpack it directly like `model.compile(**compile_kwargs)`. In this case however, we will only be taking the `optimizer` kwarg."
   ]
  },
  {
   "cell_type": "code",
   "execution_count": 9,
   "id": "hired-monitor",
   "metadata": {
    "execution": {
     "iopub.execute_input": "2021-03-08T03:35:57.870035Z",
     "iopub.status.busy": "2021-03-08T03:35:57.862875Z",
     "iopub.status.idle": "2021-03-08T03:35:57.875918Z",
     "shell.execute_reply": "2021-03-08T03:35:57.876529Z"
    }
   },
   "outputs": [],
   "source": [
    "def get_clf_model(hidden_layer_sizes: Iterable[int], meta: Dict[str, Any], compile_kwargs: Dict[str, Any]):\n",
    "    model = keras.Sequential()\n",
    "    inp = keras.layers.Input(shape=(meta[\"n_features_in_\"]))\n",
    "    model.add(inp)\n",
    "    for hidden_layer_size in hidden_layer_sizes:\n",
    "        layer = keras.layers.Dense(hidden_layer_size, activation=\"relu\")\n",
    "        model.add(layer)\n",
    "    if meta[\"target_type_\"] == \"binary\":\n",
    "        n_output_units = 1\n",
    "        output_activation = \"sigmoid\"\n",
    "        loss = \"binary_crossentropy\"\n",
    "    elif meta[\"target_type_\"] == \"multiclass\":\n",
    "        n_output_units = meta[\"n_classes_\"]\n",
    "        output_activation = \"softmax\"\n",
    "        loss = \"sparse_categorical_crossentropy\"\n",
    "    else:\n",
    "        raise NotImplementedError(f\"Unsupported task type: {meta['target_type_']}\")\n",
    "    out = keras.layers.Dense(n_output_units, activation=output_activation)\n",
    "    model.add(out)\n",
    "    model.compile(loss=loss, optimizer=compile_kwargs[\"optimizer\"])\n",
    "    return model"
   ]
  },
  {
   "cell_type": "markdown",
   "id": "collected-prime",
   "metadata": {},
   "source": [
    "### 2.5 Wrapping with SciKeras\n",
    "\n",
    "Our last step in defining our model is to wrap it with SciKeras. A couple of things to note are:\n",
    "- Every user-defined parameter in `model`/`get_clf_model` (in our case just `hidden_layer_sizes`) must be defined as a keyword argument to `KerasClassifier` with a default value.\n",
    "- Keras defaults to `\"rmsprop\"` for `optimizer`. We set it to `\"adam\"` to mimic MLPClassifier.\n",
    "- We set the learning rate for the optimizer to `0.001`, again to mimic MLPClassifier. We set this parameter using [parameter routing](https://www.adriangb.com/scikeras/stable/advanced.html#routed-parameters).\n",
    "- Other parameters, such as `activation`, can be added similar to `hidden_layer_sizes`, but we omit them here for simplicity."
   ]
  },
  {
   "cell_type": "code",
   "execution_count": 10,
   "id": "cordless-syndication",
   "metadata": {
    "execution": {
     "iopub.execute_input": "2021-03-08T03:35:57.879841Z",
     "iopub.status.busy": "2021-03-08T03:35:57.878769Z",
     "iopub.status.idle": "2021-03-08T03:35:57.884415Z",
     "shell.execute_reply": "2021-03-08T03:35:57.885099Z"
    }
   },
   "outputs": [],
   "source": [
    "clf = KerasClassifier(\n",
    "    model=get_clf_model,\n",
    "    hidden_layer_sizes=(100, ),\n",
    "    optimizer=\"adam\",\n",
    "    optimizer__learning_rate=0.001,\n",
    "    epochs=50,\n",
    "    verbose=0,\n",
    ")"
   ]
  },
  {
   "cell_type": "markdown",
   "id": "rising-deficit",
   "metadata": {},
   "source": [
    "## 3. Testing our classifier\n",
    "\n",
    "Before continouing, we will run a small test to make sure we get somewhat reasonable results."
   ]
  },
  {
   "cell_type": "code",
   "execution_count": 11,
   "id": "dangerous-organization",
   "metadata": {
    "execution": {
     "iopub.execute_input": "2021-03-08T03:35:57.888397Z",
     "iopub.status.busy": "2021-03-08T03:35:57.887253Z",
     "iopub.status.idle": "2021-03-08T03:35:58.769956Z",
     "shell.execute_reply": "2021-03-08T03:35:58.769162Z"
    }
   },
   "outputs": [
    {
     "name": "stdout",
     "output_type": "stream",
     "text": [
      "1.0\n"
     ]
    }
   ],
   "source": [
    "from sklearn.datasets import make_classification\n",
    "\n",
    "\n",
    "X, y = make_classification()\n",
    "\n",
    "# check that fit works\n",
    "clf.fit(X, y)\n",
    "# check score\n",
    "print(clf.score(X, y))"
   ]
  },
  {
   "cell_type": "markdown",
   "id": "joined-ownership",
   "metadata": {},
   "source": [
    "We get a score above 0.7, which is reasonable and indicates that our classifier is generally working.\n",
    "\n",
    "## 4. Self contained MLPClassifier\n",
    "\n",
    "You will have noticed that up until now, we define our Keras model in a function and pass that function to `KerasClassifier` via the `model` argument.\n",
    "\n",
    "This is convenient, but it does not give us a self-contained class that we could package within a module for users to instantiate. To do that, we need to subclass `KerasClassifier`.\n",
    "\n",
    "### 4.1 Subclassing\n",
    "\n",
    "By subclassing KerasClassifier, you can embed your Keras model into directly into your estimator class. We start by inheriting from KerasClassifier and defining an `__init__` method with all of our parameters."
   ]
  },
  {
   "cell_type": "code",
   "execution_count": 12,
   "id": "patent-headline",
   "metadata": {
    "execution": {
     "iopub.execute_input": "2021-03-08T03:35:58.775182Z",
     "iopub.status.busy": "2021-03-08T03:35:58.774729Z",
     "iopub.status.idle": "2021-03-08T03:35:58.777311Z",
     "shell.execute_reply": "2021-03-08T03:35:58.777954Z"
    }
   },
   "outputs": [],
   "source": [
    "class MLPClassifier(KerasClassifier):\n",
    "\n",
    "    def __init__(\n",
    "        self,\n",
    "        hidden_layer_sizes=(100, ),\n",
    "        optimizer=\"adam\",\n",
    "        optimizer__learning_rate=0.001,\n",
    "        epochs=200,\n",
    "        verbose=0,\n",
    "        **kwargs\n",
    "    ):\n",
    "        super().__init__(**kwargs)\n",
    "        self.hidden_layer_sizes = hidden_layer_sizes\n",
    "        self.optimizer = optimizer\n",
    "        self.epochs = epochs\n",
    "        self.verbose = verbose"
   ]
  },
  {
   "cell_type": "markdown",
   "id": "popular-marker",
   "metadata": {},
   "source": [
    "Next, we will embed our model into `_keras_build_fn`, which takes the place of `get_clf_model`. Note that since this is now an part of the model, we no longer need to accept the any parameters in the function signature. We still accept `compile_kwargs` because we use it to get the optimizer initialized with all of it's parameters."
   ]
  },
  {
   "cell_type": "code",
   "execution_count": 13,
   "id": "excellent-access",
   "metadata": {
    "execution": {
     "iopub.execute_input": "2021-03-08T03:35:58.781337Z",
     "iopub.status.busy": "2021-03-08T03:35:58.780283Z",
     "iopub.status.idle": "2021-03-08T03:35:58.799301Z",
     "shell.execute_reply": "2021-03-08T03:35:58.803523Z"
    }
   },
   "outputs": [],
   "source": [
    "class MLPClassifier(KerasClassifier):\n",
    "\n",
    "    def __init__(\n",
    "        self,\n",
    "        hidden_layer_sizes=(100, ),\n",
    "        optimizer=\"adam\",\n",
    "        optimizer__learning_rate=0.001,\n",
    "        epochs=200,\n",
    "        verbose=0,\n",
    "        **kwargs,\n",
    "    ):\n",
    "        super().__init__(**kwargs)\n",
    "        self.hidden_layer_sizes = hidden_layer_sizes\n",
    "        self.optimizer = optimizer\n",
    "        self.epochs = epochs\n",
    "        self.verbose = verbose\n",
    "\n",
    "    def _keras_build_fn(self, compile_kwargs: Dict[str, Any]):\n",
    "        model = keras.Sequential()\n",
    "        inp = keras.layers.Input(shape=(self.n_features_in_))\n",
    "        model.add(inp)\n",
    "        for hidden_layer_size in self.hidden_layer_sizes:\n",
    "            layer = keras.layers.Dense(hidden_layer_size, activation=\"relu\")\n",
    "            model.add(layer)\n",
    "        if self.target_type_ == \"binary\":\n",
    "            n_output_units = 1\n",
    "            output_activation = \"sigmoid\"\n",
    "            loss = \"binary_crossentropy\"\n",
    "        elif self.target_type_ == \"multiclass\":\n",
    "            n_output_units = self.n_classes_\n",
    "            output_activation = \"softmax\"\n",
    "            loss = \"sparse_categorical_crossentropy\"\n",
    "        else:\n",
    "            raise NotImplementedError(f\"Unsupported task type: {self.target_type_}\")\n",
    "        out = keras.layers.Dense(n_output_units, activation=output_activation)\n",
    "        model.add(out)\n",
    "        model.compile(loss=loss, optimizer=compile_kwargs[\"optimizer\"])\n",
    "        return model"
   ]
  },
  {
   "cell_type": "markdown",
   "id": "realistic-finish",
   "metadata": {},
   "source": [
    "Let's check that our subclassed model works:"
   ]
  },
  {
   "cell_type": "code",
   "execution_count": 14,
   "id": "automatic-butler",
   "metadata": {
    "execution": {
     "iopub.execute_input": "2021-03-08T03:35:58.806585Z",
     "iopub.status.busy": "2021-03-08T03:35:58.805991Z",
     "iopub.status.idle": "2021-03-08T03:35:59.397384Z",
     "shell.execute_reply": "2021-03-08T03:35:59.397810Z"
    }
   },
   "outputs": [
    {
     "name": "stdout",
     "output_type": "stream",
     "text": [
      "0.98\n"
     ]
    }
   ],
   "source": [
    "clf = MLPClassifier(epochs=20)  # for notebook execution time\n",
    "\n",
    "# check score\n",
    "print(clf.fit(X, y).score(X, y))"
   ]
  },
  {
   "cell_type": "markdown",
   "id": "flying-orlando",
   "metadata": {},
   "source": [
    "## 5. MLPRegressor\n",
    "\n",
    "The process for MLPRegressor is similar, we only change the loss function and output layers."
   ]
  },
  {
   "cell_type": "code",
   "execution_count": 15,
   "id": "violent-triangle",
   "metadata": {
    "execution": {
     "iopub.execute_input": "2021-03-08T03:35:59.405211Z",
     "iopub.status.busy": "2021-03-08T03:35:59.404757Z",
     "iopub.status.idle": "2021-03-08T03:35:59.411214Z",
     "shell.execute_reply": "2021-03-08T03:35:59.411576Z"
    },
    "lines_to_next_cell": 2
   },
   "outputs": [],
   "source": [
    "class MLPRegressor(KerasRegressor):\n",
    "\n",
    "    def __init__(\n",
    "        self,\n",
    "        hidden_layer_sizes=(100, ),\n",
    "        optimizer=\"adam\",\n",
    "        optimizer__learning_rate=0.001,\n",
    "        epochs=200,\n",
    "        verbose=0,\n",
    "        **kwargs,\n",
    "    ):\n",
    "        super().__init__(**kwargs)\n",
    "        self.hidden_layer_sizes = hidden_layer_sizes\n",
    "        self.optimizer = optimizer\n",
    "        self.epochs = epochs\n",
    "        self.verbose = verbose\n",
    "\n",
    "    def _keras_build_fn(self, compile_kwargs: Dict[str, Any]):\n",
    "        model = keras.Sequential()\n",
    "        inp = keras.layers.Input(shape=(self.n_features_in_))\n",
    "        model.add(inp)\n",
    "        for hidden_layer_size in self.hidden_layer_sizes:\n",
    "            layer = keras.layers.Dense(hidden_layer_size, activation=\"relu\")\n",
    "            model.add(layer)\n",
    "        out = keras.layers.Dense(1)\n",
    "        model.add(out)\n",
    "        model.compile(loss=\"mse\", optimizer=compile_kwargs[\"optimizer\"])\n",
    "        return model"
   ]
  },
  {
   "cell_type": "code",
   "execution_count": 16,
   "id": "uniform-frederick",
   "metadata": {
    "execution": {
     "iopub.execute_input": "2021-03-08T03:35:59.423643Z",
     "iopub.status.busy": "2021-03-08T03:35:59.418328Z",
     "iopub.status.idle": "2021-03-08T03:35:59.959837Z",
     "shell.execute_reply": "2021-03-08T03:35:59.959340Z"
    }
   },
   "outputs": [
    {
     "name": "stdout",
     "output_type": "stream",
     "text": [
      "-0.2764791698585922\n"
     ]
    }
   ],
   "source": [
    "from sklearn.datasets import make_regression\n",
    "\n",
    "\n",
    "reg = MLPRegressor(epochs=20)  # for notebook execution time\n",
    "\n",
    "# Define a simple linear relationship\n",
    "y = np.arange(100)\n",
    "X = (y/2).reshape(-1, 1)\n",
    "\n",
    "# check score\n",
    "reg.fit(X, y)\n",
    "print(reg.score(X, y))"
   ]
  }
 ],
 "metadata": {
  "jupytext": {
   "formats": "ipynb,md"
  },
  "kernelspec": {
   "display_name": "Python 3",
   "language": "python",
   "name": "python3"
  },
  "language_info": {
   "codemirror_mode": {
    "name": "ipython",
    "version": 3
   },
   "file_extension": ".py",
   "mimetype": "text/x-python",
   "name": "python",
   "nbconvert_exporter": "python",
   "pygments_lexer": "ipython3",
   "version": "3.8.8"
  }
 },
 "nbformat": 4,
 "nbformat_minor": 5
}
