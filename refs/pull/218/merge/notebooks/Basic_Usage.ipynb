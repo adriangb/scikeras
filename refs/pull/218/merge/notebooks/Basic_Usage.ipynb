{
 "cells": [
  {
   "cell_type": "raw",
   "id": "framed-economics",
   "metadata": {},
   "source": [
    "<a href=\"https://colab.research.google.com/github/adriangb/scikeras/blob/docs-deploy/refs/heads/master/notebooks/Basic_Usage.ipynb\"><img src=\"https://www.tensorflow.org/images/colab_logo_32px.png\">Run in Google Colab</a>"
   ]
  },
  {
   "cell_type": "markdown",
   "id": "descending-interaction",
   "metadata": {},
   "source": [
    "# Basic usage\n",
    "\n",
    "`SciKeras` is designed to maximize interoperability between `sklearn` and `Keras/TensorFlow`. The aim is to keep 99% of the flexibility of `Keras` while being able to leverage most features of `sklearn`. Below, we show the basic usage of `SciKeras` and how it can be combined with `sklearn`.\n",
    "\n",
    "This notebook shows you how to use the basic functionality of `SciKeras`.\n",
    "\n",
    "## Table of contents\n",
    "\n",
    "* [1. Setup](#1.-Setup)\n",
    "* [2. Training a classifier and making predictions](#2.-Training-a-classifier-and-making-predictions)\n",
    "  * [2.1 A toy binary classification task](#2.1-A-toy-binary-classification-task)\n",
    "  * [2.2 Definition of the Keras classification Model](#2.2-Definition-of-the-Keras-classification-Model)\n",
    "  * [2.3 Defining and training the neural net classifier](#2.3-Defining-and-training-the-neural-net-classifier)\n",
    "  * [2.4 Making predictions, classification](#2.4-Making-predictions-classification)\n",
    "* [3 Training a regressor](#3.-Training-a-regressor)\n",
    "  * [3.1 A toy regression task](#3.1-A-toy-regression-task)\n",
    "  * [3.2 Definition of the Keras regression Model](#3.2-Definition-of-the-Keras-regression-Model)\n",
    "  * [3.3 Defining and training the neural net regressor](#3.3-Defining-and-training-the-neural-net-regressor)\n",
    "  * [3.4 Making predictions, regression](#3.4-Making-predictions-regression)\n",
    "* [4. Saving and loading a model](#4.-Saving-and-loading-a-model)\n",
    "  * [4.1 Saving the whole model](#4.1-Saving-the-whole-model)\n",
    "  * [4.2 Saving using Keras' saving methods](#4.2-Saving-using-Keras-saving-methods)\n",
    "* [5. Usage with an sklearn Pipeline](#5.-Usage-with-an-sklearn-Pipeline)\n",
    "* [6. Callbacks](#6.-Callbacks)\n",
    "* [7. Usage with sklearn GridSearchCV](#7.-Usage-with-sklearn-GridSearchCV)\n",
    "  * [7.1 Special prefixes](#7.1-Special-prefixes)\n",
    "  * [7.2 Performing a grid search](#7.2-Performing-a-grid-search)\n",
    "\n",
    "## 1. Setup"
   ]
  },
  {
   "cell_type": "code",
   "execution_count": 1,
   "id": "temporal-spiritual",
   "metadata": {
    "execution": {
     "iopub.execute_input": "2021-03-31T13:18:02.703332Z",
     "iopub.status.busy": "2021-03-31T13:18:02.702573Z",
     "iopub.status.idle": "2021-03-31T13:18:04.575694Z",
     "shell.execute_reply": "2021-03-31T13:18:04.576349Z"
    }
   },
   "outputs": [],
   "source": [
    "try:\n",
    "    import scikeras\n",
    "except ImportError:\n",
    "    !python -m pip install scikeras"
   ]
  },
  {
   "cell_type": "markdown",
   "id": "handed-deficit",
   "metadata": {},
   "source": [
    "Silence TensorFlow logging to keep output succinct."
   ]
  },
  {
   "cell_type": "code",
   "execution_count": 2,
   "id": "manufactured-addition",
   "metadata": {
    "execution": {
     "iopub.execute_input": "2021-03-31T13:18:04.579709Z",
     "iopub.status.busy": "2021-03-31T13:18:04.578999Z",
     "iopub.status.idle": "2021-03-31T13:18:04.583438Z",
     "shell.execute_reply": "2021-03-31T13:18:04.584121Z"
    }
   },
   "outputs": [],
   "source": [
    "import warnings\n",
    "from tensorflow import get_logger\n",
    "get_logger().setLevel('ERROR')\n",
    "warnings.filterwarnings(\"ignore\", message=\"Setting the random state for TF\")"
   ]
  },
  {
   "cell_type": "code",
   "execution_count": 3,
   "id": "secure-rolling",
   "metadata": {
    "execution": {
     "iopub.execute_input": "2021-03-31T13:18:04.591629Z",
     "iopub.status.busy": "2021-03-31T13:18:04.590789Z",
     "iopub.status.idle": "2021-03-31T13:18:04.995360Z",
     "shell.execute_reply": "2021-03-31T13:18:04.996154Z"
    }
   },
   "outputs": [],
   "source": [
    "import numpy as np\n",
    "from scikeras.wrappers import KerasClassifier, KerasRegressor\n",
    "from tensorflow import keras"
   ]
  },
  {
   "cell_type": "markdown",
   "id": "colored-buffer",
   "metadata": {},
   "source": [
    "## 2. Training a classifier and making predictions\n",
    "\n",
    "### 2.1 A toy binary classification task\n",
    "\n",
    "We load a toy classification task from `sklearn`."
   ]
  },
  {
   "cell_type": "code",
   "execution_count": 4,
   "id": "periodic-empty",
   "metadata": {
    "execution": {
     "iopub.execute_input": "2021-03-31T13:18:05.006180Z",
     "iopub.status.busy": "2021-03-31T13:18:05.005537Z",
     "iopub.status.idle": "2021-03-31T13:18:05.036257Z",
     "shell.execute_reply": "2021-03-31T13:18:05.037120Z"
    }
   },
   "outputs": [
    {
     "data": {
      "text/plain": [
       "((1000, 20), (1000,), 0.5)"
      ]
     },
     "execution_count": 1,
     "metadata": {},
     "output_type": "execute_result"
    }
   ],
   "source": [
    "import numpy as np\n",
    "from sklearn.datasets import make_classification\n",
    "\n",
    "\n",
    "X, y = make_classification(1000, 20, n_informative=10, random_state=0)\n",
    "\n",
    "X.shape, y.shape, y.mean()"
   ]
  },
  {
   "cell_type": "markdown",
   "id": "incomplete-mouse",
   "metadata": {},
   "source": [
    "### 2.2 Definition of the Keras classification Model\n",
    "\n",
    "We define a vanilla neural network with.\n",
    "\n",
    "Because we are dealing with 2 classes, the output layer can be constructed in\n",
    "two different ways:\n",
    "\n",
    "1. Single unit with a `\"sigmoid\"` nonlinearity. The loss must be `\"binary_crossentropy\"`.\n",
    "2. Two units (one for each class) and a `\"softmax\"` nonlinearity. The loss must be `\"sparse_categorical_crossentropy\"`.\n",
    "\n",
    "In this example, we choose the first option, which is what you would usually\n",
    "do for binary classification. The second option is usually reserved for when\n",
    "you have >2 classes."
   ]
  },
  {
   "cell_type": "code",
   "execution_count": 5,
   "id": "biblical-lightweight",
   "metadata": {
    "execution": {
     "iopub.execute_input": "2021-03-31T13:18:05.041320Z",
     "iopub.status.busy": "2021-03-31T13:18:05.040158Z",
     "iopub.status.idle": "2021-03-31T13:18:05.047485Z",
     "shell.execute_reply": "2021-03-31T13:18:05.048329Z"
    }
   },
   "outputs": [],
   "source": [
    "from tensorflow import keras\n",
    "\n",
    "\n",
    "def get_clf(meta, hidden_layer_sizes, dropout):\n",
    "    n_features_in_ = meta[\"n_features_in_\"]\n",
    "    n_classes_ = meta[\"n_classes_\"]\n",
    "    model = keras.models.Sequential()\n",
    "    model.add(keras.layers.Input(shape=(n_features_in_,)))\n",
    "    for hidden_layer_size in hidden_layer_sizes:\n",
    "        model.add(keras.layers.Dense(hidden_layer_size, activation=\"relu\"))\n",
    "        model.add(keras.layers.Dropout(dropout))\n",
    "    model.add(keras.layers.Dense(1, activation=\"sigmoid\"))\n",
    "    return model"
   ]
  },
  {
   "cell_type": "markdown",
   "id": "palestinian-gabriel",
   "metadata": {},
   "source": [
    "### 2.3 Defining and training the neural net classifier\n",
    "\n",
    "We use `KerasClassifier` because we're dealing with a classifcation task. The first argument should be a callable returning a `Keras.Model`, in this case, `get_clf`. As additional arguments, we pass the number of loss function (required) and the optimizer, but the later is optional. We must also pass all of the arguments to `get_clf` as keyword arguments to `KerasClassifier` if they don't have a default value in `get_clf`. Note that if you do not pass an argument to `KerasClassifier`, it will not be avilable for hyperparameter tuning. Finally, we also pass `random_state=0` for reproducible results."
   ]
  },
  {
   "cell_type": "code",
   "execution_count": 6,
   "id": "unavailable-deposit",
   "metadata": {
    "execution": {
     "iopub.execute_input": "2021-03-31T13:18:05.054960Z",
     "iopub.status.busy": "2021-03-31T13:18:05.052778Z",
     "iopub.status.idle": "2021-03-31T13:18:05.060418Z",
     "shell.execute_reply": "2021-03-31T13:18:05.061217Z"
    }
   },
   "outputs": [],
   "source": [
    "from scikeras.wrappers import KerasClassifier\n",
    "\n",
    "\n",
    "clf = KerasClassifier(\n",
    "    model=get_clf,\n",
    "    loss=\"binary_crossentropy\",\n",
    "    hidden_layer_sizes=(100,),\n",
    "    dropout=0.5,\n",
    ")"
   ]
  },
  {
   "cell_type": "markdown",
   "id": "sustainable-identification",
   "metadata": {},
   "source": [
    "As in `sklearn`, we call `fit` passing the input data `X` and the targets `y`."
   ]
  },
  {
   "cell_type": "code",
   "execution_count": 7,
   "id": "hollywood-garage",
   "metadata": {
    "execution": {
     "iopub.execute_input": "2021-03-31T13:18:05.067480Z",
     "iopub.status.busy": "2021-03-31T13:18:05.064266Z",
     "iopub.status.idle": "2021-03-31T13:18:05.860000Z",
     "shell.execute_reply": "2021-03-31T13:18:05.860499Z"
    }
   },
   "outputs": [
    {
     "name": "stdout",
     "output_type": "stream",
     "text": [
      "\r",
      " 1/32 [..............................] - ETA: 19s - loss: 1.1652"
     ]
    },
    {
     "name": "stdout",
     "output_type": "stream",
     "text": [
      "\b\b\b\b\b\b\b\b\b\b\b\b\b\b\b\b\b\b\b\b\b\b\b\b\b\b\b\b\b\b\b\b\b\b\b\b\b\b\b\b\b\b\b\b\b\b\b\b\b\b\b\b\b\b\b\b\b\b\b\b\b\b\b\b\r",
      "32/32 [==============================] - 1s 1ms/step - loss: 0.7967\n"
     ]
    },
    {
     "data": {
      "text/plain": [
       "KerasClassifier(\n",
       "\tmodel=<function get_clf at 0x7f17c824f8b0>\n",
       "\tbuild_fn=None\n",
       "\twarm_start=False\n",
       "\trandom_state=None\n",
       "\toptimizer=rmsprop\n",
       "\tloss=binary_crossentropy\n",
       "\tmetrics=None\n",
       "\tbatch_size=None\n",
       "\tvalidation_batch_size=None\n",
       "\tverbose=1\n",
       "\tcallbacks=None\n",
       "\tvalidation_split=0.0\n",
       "\tshuffle=True\n",
       "\trun_eagerly=False\n",
       "\tepochs=1\n",
       "\thidden_layer_sizes=(100,)\n",
       "\tdropout=0.5\n",
       "\tclass_weight=None\n",
       ")"
      ]
     },
     "execution_count": 1,
     "metadata": {},
     "output_type": "execute_result"
    }
   ],
   "source": [
    "clf.fit(X, y);"
   ]
  },
  {
   "cell_type": "markdown",
   "id": "lyric-federal",
   "metadata": {},
   "source": [
    "Also, as in `sklearn`, you may call `predict` or `predict_proba` on the fitted model.\n",
    "\n",
    "### 2.4 Making predictions, classification"
   ]
  },
  {
   "cell_type": "code",
   "execution_count": 8,
   "id": "returning-hamburg",
   "metadata": {
    "execution": {
     "iopub.execute_input": "2021-03-31T13:18:05.864296Z",
     "iopub.status.busy": "2021-03-31T13:18:05.863541Z",
     "iopub.status.idle": "2021-03-31T13:18:05.997345Z",
     "shell.execute_reply": "2021-03-31T13:18:05.998065Z"
    }
   },
   "outputs": [
    {
     "name": "stdout",
     "output_type": "stream",
     "text": [
      "\r",
      "1/1 [==============================] - ETA: 0s"
     ]
    },
    {
     "name": "stdout",
     "output_type": "stream",
     "text": [
      "\b\b\b\b\b\b\b\b\b\b\b\b\b\b\b\b\b\b\b\b\b\b\b\b\b\b\b\b\b\b\b\b\b\b\b\b\b\b\b\b\b\b\b\b\b\b\r",
      "1/1 [==============================] - 0s 81ms/step\n"
     ]
    },
    {
     "data": {
      "text/plain": [
       "array([0, 0, 0, 0, 0])"
      ]
     },
     "execution_count": 1,
     "metadata": {},
     "output_type": "execute_result"
    }
   ],
   "source": [
    "y_pred = clf.predict(X[:5])\n",
    "y_pred"
   ]
  },
  {
   "cell_type": "code",
   "execution_count": 9,
   "id": "colonial-physiology",
   "metadata": {
    "execution": {
     "iopub.execute_input": "2021-03-31T13:18:06.003015Z",
     "iopub.status.busy": "2021-03-31T13:18:06.002456Z",
     "iopub.status.idle": "2021-03-31T13:18:06.083220Z",
     "shell.execute_reply": "2021-03-31T13:18:06.082634Z"
    }
   },
   "outputs": [
    {
     "name": "stdout",
     "output_type": "stream",
     "text": [
      "\r",
      "1/1 [==============================] - ETA: 0s"
     ]
    },
    {
     "name": "stdout",
     "output_type": "stream",
     "text": [
      "\b\b\b\b\b\b\b\b\b\b\b\b\b\b\b\b\b\b\b\b\b\b\b\b\b\b\b\b\b\b\b\b\b\b\b\b\b\b\b\b\b\b\b\b\b\b\r",
      "1/1 [==============================] - 0s 27ms/step\n"
     ]
    },
    {
     "data": {
      "text/plain": [
       "array([[0.55925494, 0.44074506],\n",
       "       [0.7936716 , 0.20632839],\n",
       "       [0.6904609 , 0.30953905],\n",
       "       [0.853137  , 0.14686301],\n",
       "       [0.6417923 , 0.3582077 ]], dtype=float32)"
      ]
     },
     "execution_count": 1,
     "metadata": {},
     "output_type": "execute_result"
    }
   ],
   "source": [
    "y_proba = clf.predict_proba(X[:5])\n",
    "y_proba"
   ]
  },
  {
   "cell_type": "markdown",
   "id": "opposed-error",
   "metadata": {},
   "source": [
    "## 3 Training a regressor\n",
    "\n",
    "### 3.1 A toy regression task"
   ]
  },
  {
   "cell_type": "code",
   "execution_count": 10,
   "id": "occupational-doubt",
   "metadata": {
    "execution": {
     "iopub.execute_input": "2021-03-31T13:18:06.086949Z",
     "iopub.status.busy": "2021-03-31T13:18:06.086302Z",
     "iopub.status.idle": "2021-03-31T13:18:06.110422Z",
     "shell.execute_reply": "2021-03-31T13:18:06.110961Z"
    }
   },
   "outputs": [
    {
     "data": {
      "text/plain": [
       "((1000, 20), (1000,), -649.0148244404172, 615.4505181286091)"
      ]
     },
     "execution_count": 1,
     "metadata": {},
     "output_type": "execute_result"
    }
   ],
   "source": [
    "from sklearn.datasets import make_regression\n",
    "\n",
    "\n",
    "X_regr, y_regr = make_regression(1000, 20, n_informative=10, random_state=0)\n",
    "\n",
    "X_regr.shape, y_regr.shape, y_regr.min(), y_regr.max()"
   ]
  },
  {
   "cell_type": "markdown",
   "id": "residential-disability",
   "metadata": {},
   "source": [
    "### 3.2 Definition of the Keras regression Model\n",
    "\n",
    "Again, define a vanilla neural network. The main difference is that the output layer always has a single unit and does not apply any nonlinearity."
   ]
  },
  {
   "cell_type": "code",
   "execution_count": 11,
   "id": "cathedral-african",
   "metadata": {
    "execution": {
     "iopub.execute_input": "2021-03-31T13:18:06.116916Z",
     "iopub.status.busy": "2021-03-31T13:18:06.116341Z",
     "iopub.status.idle": "2021-03-31T13:18:06.129798Z",
     "shell.execute_reply": "2021-03-31T13:18:06.129183Z"
    }
   },
   "outputs": [],
   "source": [
    "def get_reg(meta, hidden_layer_sizes, dropout):\n",
    "    n_features_in_ = meta[\"n_features_in_\"]\n",
    "    model = keras.models.Sequential()\n",
    "    model.add(keras.layers.Input(shape=(n_features_in_,)))\n",
    "    for hidden_layer_size in hidden_layer_sizes:\n",
    "        model.add(keras.layers.Dense(hidden_layer_size, activation=\"relu\"))\n",
    "        model.add(keras.layers.Dropout(dropout))\n",
    "    model.add(keras.layers.Dense(1))\n",
    "    return model"
   ]
  },
  {
   "cell_type": "markdown",
   "id": "soviet-count",
   "metadata": {},
   "source": [
    "### 3.3 Defining and training the neural net regressor\n",
    "\n",
    "Training a regressor has nearly the same data flow as training a classifier. The differences include using `KerasRegressor` instead of `KerasClassifier` and adding `KerasRegressor.r_squared` as a metric. Most of the Scikit-learn regressors use the coefficient of determination or R^2 as a metric function, which measures correlation between the true labels and predicted labels."
   ]
  },
  {
   "cell_type": "code",
   "execution_count": 12,
   "id": "likely-henry",
   "metadata": {
    "execution": {
     "iopub.execute_input": "2021-03-31T13:18:06.135264Z",
     "iopub.status.busy": "2021-03-31T13:18:06.134546Z",
     "iopub.status.idle": "2021-03-31T13:18:06.144400Z",
     "shell.execute_reply": "2021-03-31T13:18:06.145075Z"
    }
   },
   "outputs": [],
   "source": [
    "from scikeras.wrappers import KerasRegressor\n",
    "\n",
    "\n",
    "reg = KerasRegressor(\n",
    "    model=get_reg,\n",
    "    loss=\"mse\",\n",
    "    metrics=[KerasRegressor.r_squared],\n",
    "    hidden_layer_sizes=(100,),\n",
    "    dropout=0.5,\n",
    ")"
   ]
  },
  {
   "cell_type": "code",
   "execution_count": 13,
   "id": "amateur-search",
   "metadata": {
    "execution": {
     "iopub.execute_input": "2021-03-31T13:18:06.152865Z",
     "iopub.status.busy": "2021-03-31T13:18:06.149757Z",
     "iopub.status.idle": "2021-03-31T13:18:06.903768Z",
     "shell.execute_reply": "2021-03-31T13:18:06.902982Z"
    }
   },
   "outputs": [
    {
     "name": "stdout",
     "output_type": "stream",
     "text": [
      "\r",
      " 1/32 [..............................] - ETA: 18s - loss: 35433.5078 - r_squared: -5.6148e-04"
     ]
    },
    {
     "name": "stdout",
     "output_type": "stream",
     "text": [
      "\b\b\b\b\b\b\b\b\b\b\b\b\b\b\b\b\b\b\b\b\b\b\b\b\b\b\b\b\b\b\b\b\b\b\b\b\b\b\b\b\b\b\b\b\b\b\b\b\b\b\b\b\b\b\b\b\b\b\b\b\b\b\b\b\b\b\b\b\b\b\b\b\b\b\b\b\b\b\b\b\b\b\b\b\b\b\b\b\b\b\b\b\b\r",
      "28/32 [=========================>....] - ETA: 0s - loss: 43788.2242 - r_squared: -0.0410     "
     ]
    },
    {
     "name": "stdout",
     "output_type": "stream",
     "text": [
      "\b\b\b\b\b\b\b\b\b\b\b\b\b\b\b\b\b\b\b\b\b\b\b\b\b\b\b\b\b\b\b\b\b\b\b\b\b\b\b\b\b\b\b\b\b\b\b\b\b\b\b\b\b\b\b\b\b\b\b\b\b\b\b\b\b\b\b\b\b\b\b\b\b\b\b\b\b\b\b\b\b\b\b\b\b\b\b\b\r",
      "32/32 [==============================] - 1s 2ms/step - loss: 44010.3408 - r_squared: -0.0410\n"
     ]
    },
    {
     "data": {
      "text/plain": [
       "KerasRegressor(\n",
       "\tmodel=<function get_reg at 0x7f1754b37550>\n",
       "\tbuild_fn=None\n",
       "\twarm_start=False\n",
       "\trandom_state=None\n",
       "\toptimizer=rmsprop\n",
       "\tloss=mse\n",
       "\tmetrics=[<function KerasRegressor.r_squared at 0x7f1760adcaf0>]\n",
       "\tbatch_size=None\n",
       "\tvalidation_batch_size=None\n",
       "\tverbose=1\n",
       "\tcallbacks=None\n",
       "\tvalidation_split=0.0\n",
       "\tshuffle=True\n",
       "\trun_eagerly=False\n",
       "\tepochs=1\n",
       "\thidden_layer_sizes=(100,)\n",
       "\tdropout=0.5\n",
       ")"
      ]
     },
     "execution_count": 1,
     "metadata": {},
     "output_type": "execute_result"
    }
   ],
   "source": [
    "reg.fit(X_regr, y_regr);"
   ]
  },
  {
   "cell_type": "markdown",
   "id": "divine-holiday",
   "metadata": {},
   "source": [
    "### 3.4 Making predictions, regression\n",
    "\n",
    "You may call `predict` or `predict_proba` on the fitted model. For regressions, both methods return the same value."
   ]
  },
  {
   "cell_type": "code",
   "execution_count": 14,
   "id": "appointed-priest",
   "metadata": {
    "execution": {
     "iopub.execute_input": "2021-03-31T13:18:06.911247Z",
     "iopub.status.busy": "2021-03-31T13:18:06.910601Z",
     "iopub.status.idle": "2021-03-31T13:18:07.029013Z",
     "shell.execute_reply": "2021-03-31T13:18:07.028322Z"
    }
   },
   "outputs": [
    {
     "name": "stdout",
     "output_type": "stream",
     "text": [
      "\r",
      "1/1 [==============================] - ETA: 0s"
     ]
    },
    {
     "name": "stdout",
     "output_type": "stream",
     "text": [
      "\b\b\b\b\b\b\b\b\b\b\b\b\b\b\b\b\b\b\b\b\b\b\b\b\b\b\b\b\b\b\b\b\b\b\b\b\b\b\b\b\b\b\b\b\b\b\r",
      "1/1 [==============================] - 0s 69ms/step\n"
     ]
    },
    {
     "data": {
      "text/plain": [
       "array([-0.35843447, -1.4739467 , -1.1401939 , -0.70189506, -0.56367534],\n",
       "      dtype=float32)"
      ]
     },
     "execution_count": 1,
     "metadata": {},
     "output_type": "execute_result"
    }
   ],
   "source": [
    "y_pred = reg.predict(X_regr[:5])\n",
    "y_pred"
   ]
  },
  {
   "cell_type": "markdown",
   "id": "packed-specific",
   "metadata": {},
   "source": [
    "## 4. Saving and loading a model\n",
    "\n",
    "Save and load either the whole model by using pickle, or use Keras' specialized save methods on the `KerasClassifier.model_` or `KerasRegressor.model_` attribute that is created after fitting. You will want to use Keras' model saving utilities if any of the following apply:\n",
    "\n",
    "1. You wish to save only the weights or only the training configuration of your model.\n",
    "2. You wish to share your model with collaborators. Pickle is a relatively unsafe protocol and it is not recommended to share or load pickle objects publically.\n",
    "3. You care about performance, especially if doing in-memory serialization.\n",
    "\n",
    "For more information, see Keras' [saving documentation](https://www.tensorflow.org/guide/keras/save_and_serialize).\n",
    "\n",
    "### 4.1 Saving the whole model"
   ]
  },
  {
   "cell_type": "code",
   "execution_count": 15,
   "id": "generic-marine",
   "metadata": {
    "execution": {
     "iopub.execute_input": "2021-03-31T13:18:07.035017Z",
     "iopub.status.busy": "2021-03-31T13:18:07.034387Z",
     "iopub.status.idle": "2021-03-31T13:18:08.598929Z",
     "shell.execute_reply": "2021-03-31T13:18:08.598265Z"
    }
   },
   "outputs": [
    {
     "name": "stdout",
     "output_type": "stream",
     "text": [
      "\r",
      "1/1 [==============================] - ETA: 0s"
     ]
    },
    {
     "name": "stdout",
     "output_type": "stream",
     "text": [
      "\b\b\b\b\b\b\b\b\b\b\b\b\b\b\b\b\b\b\b\b\b\b\b\b\b\b\b\b\b\b\b\b\b\b\b\b\b\b\b\b\b\b\b\b\b\b\r",
      "1/1 [==============================] - 0s 227ms/step\n"
     ]
    },
    {
     "data": {
      "text/plain": [
       "array([-0.35843447, -1.4739467 , -1.1401939 , -0.70189506, -0.56367534],\n",
       "      dtype=float32)"
      ]
     },
     "execution_count": 1,
     "metadata": {},
     "output_type": "execute_result"
    }
   ],
   "source": [
    "import pickle\n",
    "\n",
    "\n",
    "bytes_model = pickle.dumps(reg)\n",
    "new_reg = pickle.loads(bytes_model)\n",
    "new_reg.predict(X_regr[:5])  # model is still trained"
   ]
  },
  {
   "cell_type": "markdown",
   "id": "present-speaking",
   "metadata": {},
   "source": [
    "### 4.2 Saving using Keras' saving methods\n",
    "\n",
    "This efficiently and safely saves the model to disk, including trained weights.\n",
    "You should use this method if you plan on sharing your saved models."
   ]
  },
  {
   "cell_type": "code",
   "execution_count": 16,
   "id": "unlike-cabin",
   "metadata": {
    "execution": {
     "iopub.execute_input": "2021-03-31T13:18:08.604497Z",
     "iopub.status.busy": "2021-03-31T13:18:08.602851Z",
     "iopub.status.idle": "2021-03-31T13:18:09.345863Z",
     "shell.execute_reply": "2021-03-31T13:18:09.344808Z"
    }
   },
   "outputs": [
    {
     "name": "stdout",
     "output_type": "stream",
     "text": [
      "\r",
      " 1/32 [..............................] - ETA: 0s"
     ]
    },
    {
     "name": "stdout",
     "output_type": "stream",
     "text": [
      "\b\b\b\b\b\b\b\b\b\b\b\b\b\b\b\b\b\b\b\b\b\b\b\b\b\b\b\b\b\b\b\b\b\b\b\b\b\b\b\b\b\b\b\b\b\b\b\b\r",
      "32/32 [==============================] - 0s 1ms/step\n"
     ]
    }
   ],
   "source": [
    "# Save to disk\n",
    "pred_old = reg.predict(X_regr)\n",
    "reg.model_.save(\"/tmp/my_model\")  # saves just the Keras model"
   ]
  },
  {
   "cell_type": "code",
   "execution_count": 17,
   "id": "original-leave",
   "metadata": {
    "execution": {
     "iopub.execute_input": "2021-03-31T13:18:09.350604Z",
     "iopub.status.busy": "2021-03-31T13:18:09.349955Z",
     "iopub.status.idle": "2021-03-31T13:18:09.756064Z",
     "shell.execute_reply": "2021-03-31T13:18:09.756979Z"
    }
   },
   "outputs": [
    {
     "name": "stdout",
     "output_type": "stream",
     "text": [
      "\r",
      " 1/32 [..............................] - ETA: 1s"
     ]
    },
    {
     "name": "stdout",
     "output_type": "stream",
     "text": [
      "\b\b\b\b\b\b\b\b\b\b\b\b\b\b\b\b\b\b\b\b\b\b\b\b\b\b\b\b\b\b\b\b\b\b\b\b\b\b\b\b\b\b\b\b\b\b\b\b\r",
      "32/32 [==============================] - 0s 839us/step\n"
     ]
    }
   ],
   "source": [
    "# Load the model back into memory\n",
    "new_reg_model = keras.models.load_model(\"/tmp/my_model\")\n",
    "# Now we need to instantiate a new SciKeras object\n",
    "# since we only saved the Keras model\n",
    "reg_new = KerasRegressor(new_reg_model)\n",
    "# use initialize to avoid re-fitting\n",
    "reg_new.initialize(X_regr, y_regr)\n",
    "pred_new = reg_new.predict(X_regr)\n",
    "np.testing.assert_allclose(pred_old, pred_new)"
   ]
  },
  {
   "cell_type": "markdown",
   "id": "strategic-bryan",
   "metadata": {},
   "source": [
    "## 5. Usage with an sklearn Pipeline\n",
    "\n",
    "It is possible to put the `KerasClassifier` inside an `sklearn Pipeline`, as you would with any `sklearn` classifier.\n"
   ]
  },
  {
   "cell_type": "code",
   "execution_count": 18,
   "id": "abandoned-photograph",
   "metadata": {
    "execution": {
     "iopub.execute_input": "2021-03-31T13:18:09.760713Z",
     "iopub.status.busy": "2021-03-31T13:18:09.759659Z",
     "iopub.status.idle": "2021-03-31T13:18:10.616622Z",
     "shell.execute_reply": "2021-03-31T13:18:10.616119Z"
    }
   },
   "outputs": [
    {
     "name": "stdout",
     "output_type": "stream",
     "text": [
      "\r",
      " 1/32 [..............................] - ETA: 18s - loss: 0.8556"
     ]
    },
    {
     "name": "stdout",
     "output_type": "stream",
     "text": [
      "\b\b\b\b\b\b\b\b\b\b\b\b\b\b\b\b\b\b\b\b\b\b\b\b\b\b\b\b\b\b\b\b\b\b\b\b\b\b\b\b\b\b\b\b\b\b\b\b\b\b\b\b\b\b\b\b\b\b\b\b\b\b\b\b\r",
      "32/32 [==============================] - 1s 1ms/step - loss: 0.7493\n"
     ]
    },
    {
     "name": "stdout",
     "output_type": "stream",
     "text": [
      "\r",
      " 1/32 [..............................] - ETA: 1s"
     ]
    },
    {
     "name": "stdout",
     "output_type": "stream",
     "text": [
      "\b\b\b\b\b\b\b\b\b\b\b\b\b\b\b\b\b\b\b\b\b\b\b\b\b\b\b\b\b\b\b\b\b\b\b\b\b\b\b\b\b\b\b\b\b\b\b\b\r",
      "32/32 [==============================] - 0s 785us/step\n"
     ]
    }
   ],
   "source": [
    "from sklearn.pipeline import Pipeline\n",
    "from sklearn.preprocessing import StandardScaler\n",
    "\n",
    "\n",
    "pipe = Pipeline([\n",
    "    ('scale', StandardScaler()),\n",
    "    ('clf', clf),\n",
    "])\n",
    "\n",
    "\n",
    "y_proba = pipe.fit(X, y).predict(X)"
   ]
  },
  {
   "cell_type": "markdown",
   "id": "lonely-capital",
   "metadata": {},
   "source": [
    "To save the whole pipeline, including the Keras model, use `pickle`.\n",
    "\n",
    "## 6. Callbacks\n",
    "\n",
    "Adding a new callback to the model is straightforward. Below we define a threashold callback\n",
    "to avoid training past a certain accuracy. This a rudimentary for of\n",
    "[early stopping](https://www.tensorflow.org/api_docs/python/tf/keras/callbacks/EarlyStopping)."
   ]
  },
  {
   "cell_type": "code",
   "execution_count": 19,
   "id": "urban-pioneer",
   "metadata": {
    "execution": {
     "iopub.execute_input": "2021-03-31T13:18:10.623035Z",
     "iopub.status.busy": "2021-03-31T13:18:10.622388Z",
     "iopub.status.idle": "2021-03-31T13:18:10.625961Z",
     "shell.execute_reply": "2021-03-31T13:18:10.626412Z"
    }
   },
   "outputs": [],
   "source": [
    "class MaxValLoss(keras.callbacks.Callback):\n",
    "\n",
    "    def __init__(self, monitor: str, threashold: float):\n",
    "        self.monitor = monitor\n",
    "        self.threashold = threashold\n",
    "\n",
    "    def on_epoch_end(self, epoch, logs=None):\n",
    "        if logs[self.monitor] > self.threashold:\n",
    "            print(\"Threashold reached; stopping training\") \n",
    "            self.model.stop_training = True"
   ]
  },
  {
   "cell_type": "markdown",
   "id": "interesting-folder",
   "metadata": {},
   "source": [
    "Define a test dataset:"
   ]
  },
  {
   "cell_type": "code",
   "execution_count": 20,
   "id": "gorgeous-blood",
   "metadata": {
    "execution": {
     "iopub.execute_input": "2021-03-31T13:18:10.632361Z",
     "iopub.status.busy": "2021-03-31T13:18:10.631671Z",
     "iopub.status.idle": "2021-03-31T13:18:10.640998Z",
     "shell.execute_reply": "2021-03-31T13:18:10.641532Z"
    }
   },
   "outputs": [],
   "source": [
    "from sklearn.datasets import make_moons\n",
    "\n",
    "\n",
    "X, y = make_moons(n_samples=100, noise=0.2, random_state=0)"
   ]
  },
  {
   "cell_type": "markdown",
   "id": "stock-trance",
   "metadata": {},
   "source": [
    "And try fitting it with and without the callback:"
   ]
  },
  {
   "cell_type": "code",
   "execution_count": 21,
   "id": "naughty-wholesale",
   "metadata": {
    "execution": {
     "iopub.execute_input": "2021-03-31T13:18:10.663538Z",
     "iopub.status.busy": "2021-03-31T13:18:10.662783Z",
     "iopub.status.idle": "2021-03-31T13:18:12.698864Z",
     "shell.execute_reply": "2021-03-31T13:18:12.700961Z"
    }
   },
   "outputs": [
    {
     "name": "stdout",
     "output_type": "stream",
     "text": [
      "Trained 20 epochs\n",
      "Final accuracy: 1.0\n"
     ]
    }
   ],
   "source": [
    "kwargs = dict(\n",
    "    model=get_clf,\n",
    "    loss=\"binary_crossentropy\",\n",
    "    dropout=0.5,\n",
    "    hidden_layer_sizes=(100,),\n",
    "    metrics=[\"binary_accuracy\"],\n",
    "    fit__validation_split=0.2,\n",
    "    epochs=20,\n",
    "    verbose=False,\n",
    "    random_state=0\n",
    ")\n",
    "\n",
    "# First test without the callback\n",
    "clf = KerasClassifier(**kwargs)\n",
    "clf.fit(X, y)\n",
    "print(f\"Trained {len(clf.history_['loss'])} epochs\")\n",
    "print(f\"Final accuracy: {clf.history_['val_binary_accuracy'][-1]}\")  # get last value of last fit/partial_fit call"
   ]
  },
  {
   "cell_type": "markdown",
   "id": "golden-python",
   "metadata": {},
   "source": [
    "And with:"
   ]
  },
  {
   "cell_type": "code",
   "execution_count": 22,
   "id": "moving-lincoln",
   "metadata": {
    "execution": {
     "iopub.execute_input": "2021-03-31T13:18:12.704502Z",
     "iopub.status.busy": "2021-03-31T13:18:12.703355Z",
     "iopub.status.idle": "2021-03-31T13:18:13.751404Z",
     "shell.execute_reply": "2021-03-31T13:18:13.749306Z"
    }
   },
   "outputs": [
    {
     "name": "stdout",
     "output_type": "stream",
     "text": [
      "Threashold reached; stopping training\n",
      "Trained 2 epochs\n",
      "Final accuracy: 0.949999988079071\n"
     ]
    }
   ],
   "source": [
    "# Test with the callback\n",
    "\n",
    "cb = MaxValLoss(monitor=\"val_binary_accuracy\", threashold=0.75)\n",
    "\n",
    "clf = KerasClassifier(\n",
    "    **kwargs,\n",
    "    callbacks=[cb]\n",
    ")\n",
    "clf.fit(X, y)\n",
    "print(f\"Trained {len(clf.history_['loss'])} epochs\")\n",
    "print(f\"Final accuracy: {clf.history_['val_binary_accuracy'][-1]}\")  # get last value of last fit/partial_fit call"
   ]
  },
  {
   "cell_type": "markdown",
   "id": "universal-convention",
   "metadata": {},
   "source": [
    "For information on how to write custom callbacks, have a look at the\n",
    "[Advanced Usage](https://nbviewer.jupyter.org/github/adriangb/scikeras/blob/master/notebooks/Advanced_Usage.ipynb) notebook.\n",
    "\n",
    "## 7. Usage with sklearn GridSearchCV\n",
    "\n",
    "### 7.1 Special prefixes\n",
    "\n",
    "SciKeras allows to direct access to all parameters passed to the wrapper constructors, including deeply nested routed parameters. This allows tunning of\n",
    "paramters like `hidden_layer_sizes` as well as `optimizer__learning_rate`.\n",
    "\n",
    "This is exactly the same logic that allows to access estimator parameters in `sklearn Pipeline`s and `FeatureUnion`s.\n",
    "\n",
    "This feature is useful in several ways. For one, it allows to set those parameters in the model definition. Furthermore, it allows you to set parameters in an `sklearn GridSearchCV` as shown below.\n",
    "\n",
    "To differentiate paramters like `callbacks` which are accepted by both `tf.keras.Model.fit` and `tf.keras.Model.predict` you can add a `fit__` or `predict__` routing suffix respectively. Similar, the `model__` prefix may be used to specify that a paramter is destined only for `get_clf`/`get_reg` (or whatever callable you pass as your `model` argument).\n",
    "\n",
    "For more information on parameter routing with special prefixes, see the [Advanced Usage Docs](https://www.adriangb.com/scikeras/stable/advanced.html#routed-parameters)\n",
    "\n",
    "### 7.2 Performing a grid search\n",
    "\n",
    "Below we show how to perform a grid search over the learning rate (`optimizer__lr`), the model's number of hidden layers (`model__hidden_layer_sizes`), the model's dropout rate (`model__dropout`)."
   ]
  },
  {
   "cell_type": "code",
   "execution_count": 23,
   "id": "romantic-cambridge",
   "metadata": {
    "execution": {
     "iopub.execute_input": "2021-03-31T13:18:13.757212Z",
     "iopub.status.busy": "2021-03-31T13:18:13.756453Z",
     "iopub.status.idle": "2021-03-31T13:18:13.772305Z",
     "shell.execute_reply": "2021-03-31T13:18:13.773124Z"
    }
   },
   "outputs": [],
   "source": [
    "from sklearn.model_selection import GridSearchCV\n",
    "\n",
    "\n",
    "clf = KerasClassifier(\n",
    "    model=get_clf,\n",
    "    loss=\"binary_crossentropy\",\n",
    "    optimizer=\"adam\",\n",
    "    optimizer__lr=0.1,\n",
    "    model__hidden_layer_sizes=(100,),\n",
    "    model__dropout=0.5,\n",
    "    verbose=False,\n",
    ")"
   ]
  },
  {
   "cell_type": "markdown",
   "id": "industrial-elephant",
   "metadata": {},
   "source": [
    "*Note*: We set the verbosity level to zero (`verbose=False`) to prevent too much print output from being shown."
   ]
  },
  {
   "cell_type": "code",
   "execution_count": 24,
   "id": "thermal-victory",
   "metadata": {
    "execution": {
     "iopub.execute_input": "2021-03-31T13:18:13.788710Z",
     "iopub.status.busy": "2021-03-31T13:18:13.787994Z",
     "iopub.status.idle": "2021-03-31T13:18:44.512122Z",
     "shell.execute_reply": "2021-03-31T13:18:44.511414Z"
    }
   },
   "outputs": [
    {
     "name": "stdout",
     "output_type": "stream",
     "text": [
      "Fitting 5 folds for each of 8 candidates, totalling 40 fits\n"
     ]
    },
    {
     "name": "stderr",
     "output_type": "stream",
     "text": [
      "[Parallel(n_jobs=-1)]: Using backend LokyBackend with 2 concurrent workers.\n"
     ]
    },
    {
     "name": "stderr",
     "output_type": "stream",
     "text": [
      "[Parallel(n_jobs=-1)]: Done  40 out of  40 | elapsed:   29.9s finished\n"
     ]
    },
    {
     "name": "stdout",
     "output_type": "stream",
     "text": [
      "0.86 {'model__dropout': 0, 'model__hidden_layer_sizes': (50, 50), 'optimizer__lr': 0.05}\n"
     ]
    }
   ],
   "source": [
    "params = {\n",
    "    'optimizer__lr': [0.05, 0.1],\n",
    "    'model__hidden_layer_sizes': [(100, ), (50, 50, )],\n",
    "    'model__dropout': [0, 0.5],\n",
    "}\n",
    "\n",
    "gs = GridSearchCV(clf, params, scoring='accuracy', n_jobs=-1, verbose=True)\n",
    "\n",
    "gs.fit(X, y)\n",
    "\n",
    "print(gs.best_score_, gs.best_params_)"
   ]
  },
  {
   "cell_type": "markdown",
   "id": "coral-sector",
   "metadata": {},
   "source": [
    "Of course, we could further nest the `KerasClassifier` within an `sklearn.pipeline.Pipeline`,\n",
    "in which case we just prefix the parameter by the name of the net (e.g. `clf__model__hidden_layer_sizes`)."
   ]
  }
 ],
 "metadata": {
  "jupytext": {
   "formats": "ipynb,md"
  },
  "kernelspec": {
   "display_name": "Python 3",
   "language": "python",
   "name": "python3"
  },
  "language_info": {
   "codemirror_mode": {
    "name": "ipython",
    "version": 3
   },
   "file_extension": ".py",
   "mimetype": "text/x-python",
   "name": "python",
   "nbconvert_exporter": "python",
   "pygments_lexer": "ipython3",
   "version": "3.8.8"
  }
 },
 "nbformat": 4,
 "nbformat_minor": 5
}
