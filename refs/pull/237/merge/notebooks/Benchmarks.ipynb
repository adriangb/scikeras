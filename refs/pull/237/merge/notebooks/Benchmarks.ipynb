{
 "cells": [
  {
   "cell_type": "raw",
   "id": "a18b0fbe",
   "metadata": {},
   "source": [
    "<a href=\"https://colab.research.google.com/github/adriangb/scikeras/blob/docs-deploy/refs/heads/master/notebooks/Benchmarks.ipynb\"><img src=\"https://www.tensorflow.org/images/colab_logo_32px.png\">Run in Google Colab</a>"
   ]
  },
  {
   "cell_type": "markdown",
   "id": "e026b59a",
   "metadata": {},
   "source": [
    "# SciKeras Benchmarks\n",
    "\n",
    "SciKeras wraps Keras Models, but does not alter their performance since all of the heavy lifting still happens within Keras/Tensorflow. In this notebook, we compare the performance and accuracy of a pure-Keras Model to the same model wrapped in SciKeras.\n",
    "\n",
    "## Table of contents\n",
    "\n",
    "* [1. Setup](#1.-Setup)\n",
    "* [2. Dataset](#2.-Dataset)\n",
    "* [3. Define Keras Model](#3.-Define-Keras-Model)\n",
    "* [4. Keras benchmarks](#4.-Keras-benchmarks)\n",
    "* [5. SciKeras benchmark](#5.-SciKeras-benchmark)\n",
    "\n",
    "## 1. Setup"
   ]
  },
  {
   "cell_type": "code",
   "execution_count": 1,
   "id": "09fbefb7",
   "metadata": {
    "execution": {
     "iopub.execute_input": "2021-08-01T23:31:09.444907Z",
     "iopub.status.busy": "2021-08-01T23:31:09.442675Z",
     "iopub.status.idle": "2021-08-01T23:31:11.413672Z",
     "shell.execute_reply": "2021-08-01T23:31:11.414547Z"
    }
   },
   "outputs": [],
   "source": [
    "try:\n",
    "    import scikeras\n",
    "except ImportError:\n",
    "    !python -m pip install scikeras"
   ]
  },
  {
   "cell_type": "markdown",
   "id": "55bb9688",
   "metadata": {},
   "source": [
    "Silence TensorFlow logging to keep output succinct."
   ]
  },
  {
   "cell_type": "code",
   "execution_count": 2,
   "id": "9774bf44",
   "metadata": {
    "execution": {
     "iopub.execute_input": "2021-08-01T23:31:11.418457Z",
     "iopub.status.busy": "2021-08-01T23:31:11.417342Z",
     "iopub.status.idle": "2021-08-01T23:31:11.422557Z",
     "shell.execute_reply": "2021-08-01T23:31:11.423311Z"
    }
   },
   "outputs": [],
   "source": [
    "import warnings\n",
    "from tensorflow import get_logger\n",
    "get_logger().setLevel('ERROR')\n",
    "warnings.filterwarnings(\"ignore\", message=\"Setting the random state for TF\")"
   ]
  },
  {
   "cell_type": "code",
   "execution_count": 3,
   "id": "0cfa3a63",
   "metadata": {
    "execution": {
     "iopub.execute_input": "2021-08-01T23:31:11.426798Z",
     "iopub.status.busy": "2021-08-01T23:31:11.425713Z",
     "iopub.status.idle": "2021-08-01T23:31:11.846535Z",
     "shell.execute_reply": "2021-08-01T23:31:11.847354Z"
    }
   },
   "outputs": [],
   "source": [
    "import numpy as np\n",
    "from scikeras.wrappers import KerasClassifier, KerasRegressor\n",
    "from tensorflow import keras"
   ]
  },
  {
   "cell_type": "markdown",
   "id": "fbda11c4",
   "metadata": {},
   "source": [
    "## 2. Dataset\n",
    "\n",
    "We will be using the MNIST dataset available within Keras."
   ]
  },
  {
   "cell_type": "code",
   "execution_count": 4,
   "id": "135f4276",
   "metadata": {
    "execution": {
     "iopub.execute_input": "2021-08-01T23:31:11.850555Z",
     "iopub.status.busy": "2021-08-01T23:31:11.849898Z",
     "iopub.status.idle": "2021-08-01T23:31:12.294165Z",
     "shell.execute_reply": "2021-08-01T23:31:12.295023Z"
    }
   },
   "outputs": [],
   "source": [
    "(x_train, y_train), (x_test, y_test) = keras.datasets.mnist.load_data()\n",
    "# Scale images to the [0, 1] range\n",
    "x_train = x_train.astype(\"float32\") / 255\n",
    "x_test = x_test.astype(\"float32\") / 255\n",
    "# Make sure images have shape (28, 28, 1)\n",
    "x_train = np.expand_dims(x_train, -1)\n",
    "x_test = np.expand_dims(x_test, -1)\n",
    "# Reduce dataset size for faster benchmarks\n",
    "x_train, y_train = x_train[:2000], y_train[:2000]\n",
    "x_test, y_test = x_test[:500], y_test[:500]"
   ]
  },
  {
   "cell_type": "markdown",
   "id": "3dc8dc95",
   "metadata": {},
   "source": [
    "## 3. Define Keras Model\n",
    "\n",
    "Next we will define our Keras model (adapted from [keras.io](https://keras.io/examples/vision/mnist_convnet/)):"
   ]
  },
  {
   "cell_type": "code",
   "execution_count": 5,
   "id": "f53fc95c",
   "metadata": {
    "execution": {
     "iopub.execute_input": "2021-08-01T23:31:12.302463Z",
     "iopub.status.busy": "2021-08-01T23:31:12.301849Z",
     "iopub.status.idle": "2021-08-01T23:31:12.305582Z",
     "shell.execute_reply": "2021-08-01T23:31:12.305055Z"
    }
   },
   "outputs": [],
   "source": [
    "num_classes = 10\n",
    "input_shape = (28, 28, 1)\n",
    "\n",
    "\n",
    "def get_model():\n",
    "    model = keras.Sequential(\n",
    "        [\n",
    "            keras.Input(input_shape),\n",
    "            keras.layers.Conv2D(32, kernel_size=(3, 3), activation=\"relu\"),\n",
    "            keras.layers.MaxPooling2D(pool_size=(2, 2)),\n",
    "            keras.layers.Conv2D(64, kernel_size=(3, 3), activation=\"relu\"),\n",
    "            keras.layers.MaxPooling2D(pool_size=(2, 2)),\n",
    "            keras.layers.Flatten(),\n",
    "            keras.layers.Dropout(0.5),\n",
    "            keras.layers.Dense(num_classes, activation=\"softmax\"),\n",
    "        ]\n",
    "    )\n",
    "    model.compile(\n",
    "        loss=\"sparse_categorical_crossentropy\", optimizer=\"adam\"\n",
    "    )\n",
    "    return model"
   ]
  },
  {
   "cell_type": "markdown",
   "id": "ff43274b",
   "metadata": {},
   "source": [
    "## 4. Keras benchmarks"
   ]
  },
  {
   "cell_type": "code",
   "execution_count": 6,
   "id": "90515a08",
   "metadata": {
    "execution": {
     "iopub.execute_input": "2021-08-01T23:31:12.310523Z",
     "iopub.status.busy": "2021-08-01T23:31:12.309338Z",
     "iopub.status.idle": "2021-08-01T23:31:12.311142Z",
     "shell.execute_reply": "2021-08-01T23:31:12.311589Z"
    }
   },
   "outputs": [],
   "source": [
    "fit_kwargs = {\"batch_size\": 128, \"validation_split\": 0.1, \"verbose\": 0, \"epochs\": 5}"
   ]
  },
  {
   "cell_type": "code",
   "execution_count": 7,
   "id": "8b8fc4bc",
   "metadata": {
    "execution": {
     "iopub.execute_input": "2021-08-01T23:31:12.316092Z",
     "iopub.status.busy": "2021-08-01T23:31:12.314881Z",
     "iopub.status.idle": "2021-08-01T23:31:12.316707Z",
     "shell.execute_reply": "2021-08-01T23:31:12.317152Z"
    }
   },
   "outputs": [],
   "source": [
    "from sklearn.metrics import accuracy_score\n",
    "from scikeras._utils import TFRandomState"
   ]
  },
  {
   "cell_type": "code",
   "execution_count": 8,
   "id": "f96e4e5f",
   "metadata": {
    "execution": {
     "iopub.execute_input": "2021-08-01T23:31:12.324451Z",
     "iopub.status.busy": "2021-08-01T23:31:12.321933Z",
     "iopub.status.idle": "2021-08-01T23:31:18.794350Z",
     "shell.execute_reply": "2021-08-01T23:31:18.795054Z"
    }
   },
   "outputs": [
    {
     "name": "stdout",
     "output_type": "stream",
     "text": [
      "Training time: 6.20\n"
     ]
    },
    {
     "name": "stdout",
     "output_type": "stream",
     "text": [
      "Accuracy: 0.882\n"
     ]
    }
   ],
   "source": [
    "from time import time\n",
    "\n",
    "with TFRandomState(seed=0):  # we force a TF random state to be able to compare accuracy\n",
    "    model = get_model()\n",
    "    start = time()\n",
    "    model.fit(x_train, y_train, **fit_kwargs)\n",
    "    print(f\"Training time: {time()-start:.2f}\")\n",
    "    y_pred = np.argmax(model.predict(x_test), axis=1)\n",
    "print(f\"Accuracy: {accuracy_score(y_test, y_pred)}\")"
   ]
  },
  {
   "cell_type": "markdown",
   "id": "ad57f972",
   "metadata": {},
   "source": [
    "## 5. SciKeras benchmark"
   ]
  },
  {
   "cell_type": "code",
   "execution_count": 9,
   "id": "dad28202",
   "metadata": {
    "execution": {
     "iopub.execute_input": "2021-08-01T23:31:18.798309Z",
     "iopub.status.busy": "2021-08-01T23:31:18.797418Z",
     "iopub.status.idle": "2021-08-01T23:31:18.800475Z",
     "shell.execute_reply": "2021-08-01T23:31:18.800933Z"
    }
   },
   "outputs": [],
   "source": [
    "clf = KerasClassifier(\n",
    "    model=get_model,\n",
    "    random_state=0,\n",
    "    **fit_kwargs\n",
    ")"
   ]
  },
  {
   "cell_type": "code",
   "execution_count": 10,
   "id": "800f6c29",
   "metadata": {
    "execution": {
     "iopub.execute_input": "2021-08-01T23:31:18.803489Z",
     "iopub.status.busy": "2021-08-01T23:31:18.802941Z",
     "iopub.status.idle": "2021-08-01T23:31:26.774204Z",
     "shell.execute_reply": "2021-08-01T23:31:26.775013Z"
    }
   },
   "outputs": [
    {
     "name": "stdout",
     "output_type": "stream",
     "text": [
      "Training time: 7.79\n",
      "Accuracy: 0.882\n"
     ]
    }
   ],
   "source": [
    "start = time()\n",
    "clf.fit(x_train, y_train)\n",
    "print(f\"Training time: {time()-start:.2f}\")\n",
    "y_pred = clf.predict(x_test)\n",
    "print(f\"Accuracy: {accuracy_score(y_test, y_pred)}\")"
   ]
  },
  {
   "cell_type": "markdown",
   "id": "04c62925",
   "metadata": {},
   "source": [
    "As you can see, the overhead for SciKeras is <1 sec, and the accuracy is identical."
   ]
  }
 ],
 "metadata": {
  "jupytext": {
   "formats": "ipynb,md"
  },
  "kernelspec": {
   "display_name": "Python 3",
   "language": "python",
   "name": "python3"
  },
  "language_info": {
   "codemirror_mode": {
    "name": "ipython",
    "version": 3
   },
   "file_extension": ".py",
   "mimetype": "text/x-python",
   "name": "python",
   "nbconvert_exporter": "python",
   "pygments_lexer": "ipython3",
   "version": "3.8.11"
  }
 },
 "nbformat": 4,
 "nbformat_minor": 5
}
