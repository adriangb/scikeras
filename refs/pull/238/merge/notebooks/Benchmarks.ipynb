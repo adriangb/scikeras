{
 "cells": [
  {
   "cell_type": "raw",
   "id": "12fdaed1",
   "metadata": {},
   "source": [
    "<a href=\"https://colab.research.google.com/github/adriangb/scikeras/blob/docs-deploy/refs/heads/master/notebooks/Benchmarks.ipynb\"><img src=\"https://www.tensorflow.org/images/colab_logo_32px.png\">Run in Google Colab</a>"
   ]
  },
  {
   "cell_type": "markdown",
   "id": "3388d064",
   "metadata": {},
   "source": [
    "# SciKeras Benchmarks\n",
    "\n",
    "SciKeras wraps Keras Models, but does not alter their performance since all of the heavy lifting still happens within Keras/Tensorflow. In this notebook, we compare the performance and accuracy of a pure-Keras Model to the same model wrapped in SciKeras.\n",
    "\n",
    "## Table of contents\n",
    "\n",
    "* [1. Setup](#1.-Setup)\n",
    "* [2. Dataset](#2.-Dataset)\n",
    "* [3. Define Keras Model](#3.-Define-Keras-Model)\n",
    "* [4. Keras benchmarks](#4.-Keras-benchmarks)\n",
    "* [5. SciKeras benchmark](#5.-SciKeras-benchmark)\n",
    "\n",
    "## 1. Setup"
   ]
  },
  {
   "cell_type": "code",
   "execution_count": 1,
   "id": "fa12551a",
   "metadata": {
    "execution": {
     "iopub.execute_input": "2021-08-01T23:31:16.777446Z",
     "iopub.status.busy": "2021-08-01T23:31:16.776743Z",
     "iopub.status.idle": "2021-08-01T23:31:18.668452Z",
     "shell.execute_reply": "2021-08-01T23:31:18.669203Z"
    }
   },
   "outputs": [],
   "source": [
    "try:\n",
    "    import scikeras\n",
    "except ImportError:\n",
    "    !python -m pip install scikeras"
   ]
  },
  {
   "cell_type": "markdown",
   "id": "96abfa5a",
   "metadata": {},
   "source": [
    "Silence TensorFlow logging to keep output succinct."
   ]
  },
  {
   "cell_type": "code",
   "execution_count": 2,
   "id": "5c73cacf",
   "metadata": {
    "execution": {
     "iopub.execute_input": "2021-08-01T23:31:18.672554Z",
     "iopub.status.busy": "2021-08-01T23:31:18.671552Z",
     "iopub.status.idle": "2021-08-01T23:31:18.676535Z",
     "shell.execute_reply": "2021-08-01T23:31:18.677246Z"
    }
   },
   "outputs": [],
   "source": [
    "import warnings\n",
    "from tensorflow import get_logger\n",
    "get_logger().setLevel('ERROR')\n",
    "warnings.filterwarnings(\"ignore\", message=\"Setting the random state for TF\")"
   ]
  },
  {
   "cell_type": "code",
   "execution_count": 3,
   "id": "199ccf81",
   "metadata": {
    "execution": {
     "iopub.execute_input": "2021-08-01T23:31:18.680796Z",
     "iopub.status.busy": "2021-08-01T23:31:18.679495Z",
     "iopub.status.idle": "2021-08-01T23:31:19.210569Z",
     "shell.execute_reply": "2021-08-01T23:31:19.211380Z"
    }
   },
   "outputs": [],
   "source": [
    "import numpy as np\n",
    "from scikeras.wrappers import KerasClassifier, KerasRegressor\n",
    "from tensorflow import keras"
   ]
  },
  {
   "cell_type": "markdown",
   "id": "a6c789c9",
   "metadata": {},
   "source": [
    "## 2. Dataset\n",
    "\n",
    "We will be using the MNIST dataset available within Keras."
   ]
  },
  {
   "cell_type": "code",
   "execution_count": 4,
   "id": "37c7bc28",
   "metadata": {
    "execution": {
     "iopub.execute_input": "2021-08-01T23:31:19.215083Z",
     "iopub.status.busy": "2021-08-01T23:31:19.214005Z",
     "iopub.status.idle": "2021-08-01T23:31:19.718211Z",
     "shell.execute_reply": "2021-08-01T23:31:19.719279Z"
    }
   },
   "outputs": [],
   "source": [
    "(x_train, y_train), (x_test, y_test) = keras.datasets.mnist.load_data()\n",
    "# Scale images to the [0, 1] range\n",
    "x_train = x_train.astype(\"float32\") / 255\n",
    "x_test = x_test.astype(\"float32\") / 255\n",
    "# Make sure images have shape (28, 28, 1)\n",
    "x_train = np.expand_dims(x_train, -1)\n",
    "x_test = np.expand_dims(x_test, -1)\n",
    "# Reduce dataset size for faster benchmarks\n",
    "x_train, y_train = x_train[:2000], y_train[:2000]\n",
    "x_test, y_test = x_test[:500], y_test[:500]"
   ]
  },
  {
   "cell_type": "markdown",
   "id": "e69ce062",
   "metadata": {},
   "source": [
    "## 3. Define Keras Model\n",
    "\n",
    "Next we will define our Keras model (adapted from [keras.io](https://keras.io/examples/vision/mnist_convnet/)):"
   ]
  },
  {
   "cell_type": "code",
   "execution_count": 5,
   "id": "d580d24a",
   "metadata": {
    "execution": {
     "iopub.execute_input": "2021-08-01T23:31:19.724715Z",
     "iopub.status.busy": "2021-08-01T23:31:19.723378Z",
     "iopub.status.idle": "2021-08-01T23:31:19.736742Z",
     "shell.execute_reply": "2021-08-01T23:31:19.736338Z"
    }
   },
   "outputs": [],
   "source": [
    "num_classes = 10\n",
    "input_shape = (28, 28, 1)\n",
    "\n",
    "\n",
    "def get_model():\n",
    "    model = keras.Sequential(\n",
    "        [\n",
    "            keras.Input(input_shape),\n",
    "            keras.layers.Conv2D(32, kernel_size=(3, 3), activation=\"relu\"),\n",
    "            keras.layers.MaxPooling2D(pool_size=(2, 2)),\n",
    "            keras.layers.Conv2D(64, kernel_size=(3, 3), activation=\"relu\"),\n",
    "            keras.layers.MaxPooling2D(pool_size=(2, 2)),\n",
    "            keras.layers.Flatten(),\n",
    "            keras.layers.Dropout(0.5),\n",
    "            keras.layers.Dense(num_classes, activation=\"softmax\"),\n",
    "        ]\n",
    "    )\n",
    "    model.compile(\n",
    "        loss=\"sparse_categorical_crossentropy\", optimizer=\"adam\"\n",
    "    )\n",
    "    return model"
   ]
  },
  {
   "cell_type": "markdown",
   "id": "6fe73437",
   "metadata": {},
   "source": [
    "## 4. Keras benchmarks"
   ]
  },
  {
   "cell_type": "code",
   "execution_count": 6,
   "id": "3e25297a",
   "metadata": {
    "execution": {
     "iopub.execute_input": "2021-08-01T23:31:19.740493Z",
     "iopub.status.busy": "2021-08-01T23:31:19.740030Z",
     "iopub.status.idle": "2021-08-01T23:31:19.744094Z",
     "shell.execute_reply": "2021-08-01T23:31:19.744643Z"
    }
   },
   "outputs": [],
   "source": [
    "fit_kwargs = {\"batch_size\": 128, \"validation_split\": 0.1, \"verbose\": 0, \"epochs\": 5}"
   ]
  },
  {
   "cell_type": "code",
   "execution_count": 7,
   "id": "0323b032",
   "metadata": {
    "execution": {
     "iopub.execute_input": "2021-08-01T23:31:19.748380Z",
     "iopub.status.busy": "2021-08-01T23:31:19.747750Z",
     "iopub.status.idle": "2021-08-01T23:31:19.750516Z",
     "shell.execute_reply": "2021-08-01T23:31:19.750897Z"
    }
   },
   "outputs": [],
   "source": [
    "from sklearn.metrics import accuracy_score\n",
    "from scikeras._utils import TFRandomState"
   ]
  },
  {
   "cell_type": "code",
   "execution_count": 8,
   "id": "5d47c3a4",
   "metadata": {
    "execution": {
     "iopub.execute_input": "2021-08-01T23:31:19.756250Z",
     "iopub.status.busy": "2021-08-01T23:31:19.755465Z",
     "iopub.status.idle": "2021-08-01T23:31:26.590642Z",
     "shell.execute_reply": "2021-08-01T23:31:26.591308Z"
    }
   },
   "outputs": [
    {
     "name": "stdout",
     "output_type": "stream",
     "text": [
      "Training time: 6.61\n",
      "Accuracy: 0.882\n"
     ]
    }
   ],
   "source": [
    "from time import time\n",
    "\n",
    "with TFRandomState(seed=0):  # we force a TF random state to be able to compare accuracy\n",
    "    model = get_model()\n",
    "    start = time()\n",
    "    model.fit(x_train, y_train, **fit_kwargs)\n",
    "    print(f\"Training time: {time()-start:.2f}\")\n",
    "    y_pred = np.argmax(model.predict(x_test), axis=1)\n",
    "print(f\"Accuracy: {accuracy_score(y_test, y_pred)}\")"
   ]
  },
  {
   "cell_type": "markdown",
   "id": "cc32c075",
   "metadata": {},
   "source": [
    "## 5. SciKeras benchmark"
   ]
  },
  {
   "cell_type": "code",
   "execution_count": 9,
   "id": "42bf93d7",
   "metadata": {
    "execution": {
     "iopub.execute_input": "2021-08-01T23:31:26.594487Z",
     "iopub.status.busy": "2021-08-01T23:31:26.593538Z",
     "iopub.status.idle": "2021-08-01T23:31:26.597428Z",
     "shell.execute_reply": "2021-08-01T23:31:26.598076Z"
    }
   },
   "outputs": [],
   "source": [
    "clf = KerasClassifier(\n",
    "    model=get_model,\n",
    "    random_state=0,\n",
    "    **fit_kwargs\n",
    ")"
   ]
  },
  {
   "cell_type": "code",
   "execution_count": 10,
   "id": "78156fd3",
   "metadata": {
    "execution": {
     "iopub.execute_input": "2021-08-01T23:31:26.600999Z",
     "iopub.status.busy": "2021-08-01T23:31:26.600100Z",
     "iopub.status.idle": "2021-08-01T23:31:32.412821Z",
     "shell.execute_reply": "2021-08-01T23:31:32.413659Z"
    }
   },
   "outputs": [
    {
     "name": "stdout",
     "output_type": "stream",
     "text": [
      "Training time: 5.63\n",
      "Accuracy: 0.882\n"
     ]
    }
   ],
   "source": [
    "start = time()\n",
    "clf.fit(x_train, y_train)\n",
    "print(f\"Training time: {time()-start:.2f}\")\n",
    "y_pred = clf.predict(x_test)\n",
    "print(f\"Accuracy: {accuracy_score(y_test, y_pred)}\")"
   ]
  },
  {
   "cell_type": "markdown",
   "id": "cfd5b45c",
   "metadata": {},
   "source": [
    "As you can see, the overhead for SciKeras is <1 sec, and the accuracy is identical."
   ]
  }
 ],
 "metadata": {
  "jupytext": {
   "formats": "ipynb,md"
  },
  "kernelspec": {
   "display_name": "Python 3",
   "language": "python",
   "name": "python3"
  },
  "language_info": {
   "codemirror_mode": {
    "name": "ipython",
    "version": 3
   },
   "file_extension": ".py",
   "mimetype": "text/x-python",
   "name": "python",
   "nbconvert_exporter": "python",
   "pygments_lexer": "ipython3",
   "version": "3.8.11"
  }
 },
 "nbformat": 4,
 "nbformat_minor": 5
}
