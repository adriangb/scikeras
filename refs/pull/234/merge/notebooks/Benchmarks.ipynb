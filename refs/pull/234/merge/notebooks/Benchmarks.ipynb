{
 "cells": [
  {
   "cell_type": "raw",
   "id": "e24a2bbd",
   "metadata": {},
   "source": [
    "<a href=\"https://colab.research.google.com/github/adriangb/scikeras/blob/docs-deploy/refs/heads/master/notebooks/Benchmarks.ipynb\"><img src=\"https://www.tensorflow.org/images/colab_logo_32px.png\">Run in Google Colab</a>"
   ]
  },
  {
   "cell_type": "markdown",
   "id": "1957f517",
   "metadata": {},
   "source": [
    "# SciKeras Benchmarks\n",
    "\n",
    "SciKeras wraps Keras Models, but does not alter their performance since all of the heavy lifting still happens within Keras/Tensorflow. In this notebook, we compare the performance and accuracy of a pure-Keras Model to the same model wrapped in SciKeras.\n",
    "\n",
    "## Table of contents\n",
    "\n",
    "* [1. Setup](#1.-Setup)\n",
    "* [2. Dataset](#2.-Dataset)\n",
    "* [3. Define Keras Model](#3.-Define-Keras-Model)\n",
    "* [4. Keras benchmarks](#4.-Keras-benchmarks)\n",
    "* [5. SciKeras benchmark](#5.-SciKeras-benchmark)\n",
    "\n",
    "## 1. Setup"
   ]
  },
  {
   "cell_type": "code",
   "execution_count": 1,
   "id": "ca9734ad",
   "metadata": {
    "execution": {
     "iopub.execute_input": "2021-06-18T23:17:03.951109Z",
     "iopub.status.busy": "2021-06-18T23:17:03.950464Z",
     "iopub.status.idle": "2021-06-18T23:17:05.538310Z",
     "shell.execute_reply": "2021-06-18T23:17:05.542537Z"
    }
   },
   "outputs": [],
   "source": [
    "try:\n",
    "    import scikeras\n",
    "except ImportError:\n",
    "    !python -m pip install scikeras"
   ]
  },
  {
   "cell_type": "markdown",
   "id": "1f3c27d5",
   "metadata": {},
   "source": [
    "Silence TensorFlow logging to keep output succinct."
   ]
  },
  {
   "cell_type": "code",
   "execution_count": 2,
   "id": "5a5e75a8",
   "metadata": {
    "execution": {
     "iopub.execute_input": "2021-06-18T23:17:05.548494Z",
     "iopub.status.busy": "2021-06-18T23:17:05.547269Z",
     "iopub.status.idle": "2021-06-18T23:17:05.549768Z",
     "shell.execute_reply": "2021-06-18T23:17:05.549291Z"
    }
   },
   "outputs": [],
   "source": [
    "import warnings\n",
    "from tensorflow import get_logger\n",
    "get_logger().setLevel('ERROR')\n",
    "warnings.filterwarnings(\"ignore\", message=\"Setting the random state for TF\")"
   ]
  },
  {
   "cell_type": "code",
   "execution_count": 3,
   "id": "cdf6f391",
   "metadata": {
    "execution": {
     "iopub.execute_input": "2021-06-18T23:17:05.553667Z",
     "iopub.status.busy": "2021-06-18T23:17:05.553147Z",
     "iopub.status.idle": "2021-06-18T23:17:05.939551Z",
     "shell.execute_reply": "2021-06-18T23:17:05.939998Z"
    }
   },
   "outputs": [],
   "source": [
    "import numpy as np\n",
    "from scikeras.wrappers import KerasClassifier, KerasRegressor\n",
    "from tensorflow import keras"
   ]
  },
  {
   "cell_type": "markdown",
   "id": "1cb6ac5e",
   "metadata": {},
   "source": [
    "## 2. Dataset\n",
    "\n",
    "We will be using the MNIST dataset available within Keras."
   ]
  },
  {
   "cell_type": "code",
   "execution_count": 4,
   "id": "1cd8d4d2",
   "metadata": {
    "execution": {
     "iopub.execute_input": "2021-06-18T23:17:05.943208Z",
     "iopub.status.busy": "2021-06-18T23:17:05.942641Z",
     "iopub.status.idle": "2021-06-18T23:17:06.388695Z",
     "shell.execute_reply": "2021-06-18T23:17:06.389523Z"
    }
   },
   "outputs": [],
   "source": [
    "(x_train, y_train), (x_test, y_test) = keras.datasets.mnist.load_data()\n",
    "# Scale images to the [0, 1] range\n",
    "x_train = x_train.astype(\"float32\") / 255\n",
    "x_test = x_test.astype(\"float32\") / 255\n",
    "# Make sure images have shape (28, 28, 1)\n",
    "x_train = np.expand_dims(x_train, -1)\n",
    "x_test = np.expand_dims(x_test, -1)\n",
    "# Reduce dataset size for faster benchmarks\n",
    "x_train, y_train = x_train[:2000], y_train[:2000]\n",
    "x_test, y_test = x_test[:500], y_test[:500]"
   ]
  },
  {
   "cell_type": "markdown",
   "id": "b466b623",
   "metadata": {},
   "source": [
    "## 3. Define Keras Model\n",
    "\n",
    "Next we will define our Keras model (adapted from [keras.io](https://keras.io/examples/vision/mnist_convnet/)):"
   ]
  },
  {
   "cell_type": "code",
   "execution_count": 5,
   "id": "7eef6d34",
   "metadata": {
    "execution": {
     "iopub.execute_input": "2021-06-18T23:17:06.392899Z",
     "iopub.status.busy": "2021-06-18T23:17:06.391961Z",
     "iopub.status.idle": "2021-06-18T23:17:06.397385Z",
     "shell.execute_reply": "2021-06-18T23:17:06.398027Z"
    }
   },
   "outputs": [],
   "source": [
    "num_classes = 10\n",
    "input_shape = (28, 28, 1)\n",
    "\n",
    "\n",
    "def get_model():\n",
    "    model = keras.Sequential(\n",
    "        [\n",
    "            keras.Input(input_shape),\n",
    "            keras.layers.Conv2D(32, kernel_size=(3, 3), activation=\"relu\"),\n",
    "            keras.layers.MaxPooling2D(pool_size=(2, 2)),\n",
    "            keras.layers.Conv2D(64, kernel_size=(3, 3), activation=\"relu\"),\n",
    "            keras.layers.MaxPooling2D(pool_size=(2, 2)),\n",
    "            keras.layers.Flatten(),\n",
    "            keras.layers.Dropout(0.5),\n",
    "            keras.layers.Dense(num_classes, activation=\"softmax\"),\n",
    "        ]\n",
    "    )\n",
    "    model.compile(\n",
    "        loss=\"sparse_categorical_crossentropy\", optimizer=\"adam\"\n",
    "    )\n",
    "    return model"
   ]
  },
  {
   "cell_type": "markdown",
   "id": "2ca9af36",
   "metadata": {},
   "source": [
    "## 4. Keras benchmarks"
   ]
  },
  {
   "cell_type": "code",
   "execution_count": 6,
   "id": "2570ec0e",
   "metadata": {
    "execution": {
     "iopub.execute_input": "2021-06-18T23:17:06.400562Z",
     "iopub.status.busy": "2021-06-18T23:17:06.399897Z",
     "iopub.status.idle": "2021-06-18T23:17:06.402688Z",
     "shell.execute_reply": "2021-06-18T23:17:06.403322Z"
    }
   },
   "outputs": [],
   "source": [
    "fit_kwargs = {\"batch_size\": 128, \"validation_split\": 0.1, \"verbose\": 0, \"epochs\": 5}"
   ]
  },
  {
   "cell_type": "code",
   "execution_count": 7,
   "id": "3db420ab",
   "metadata": {
    "execution": {
     "iopub.execute_input": "2021-06-18T23:17:06.405740Z",
     "iopub.status.busy": "2021-06-18T23:17:06.405174Z",
     "iopub.status.idle": "2021-06-18T23:17:06.407691Z",
     "shell.execute_reply": "2021-06-18T23:17:06.408104Z"
    }
   },
   "outputs": [],
   "source": [
    "from sklearn.metrics import accuracy_score\n",
    "from scikeras._utils import TFRandomState"
   ]
  },
  {
   "cell_type": "code",
   "execution_count": 8,
   "id": "0490ba0b",
   "metadata": {
    "execution": {
     "iopub.execute_input": "2021-06-18T23:17:06.410471Z",
     "iopub.status.busy": "2021-06-18T23:17:06.409962Z",
     "iopub.status.idle": "2021-06-18T23:17:13.025291Z",
     "shell.execute_reply": "2021-06-18T23:17:13.026078Z"
    }
   },
   "outputs": [
    {
     "name": "stdout",
     "output_type": "stream",
     "text": [
      "Training time: 6.38\n",
      "Accuracy: 0.882\n"
     ]
    }
   ],
   "source": [
    "from time import time\n",
    "\n",
    "with TFRandomState(seed=0):  # we force a TF random state to be able to compare accuracy\n",
    "    model = get_model()\n",
    "    start = time()\n",
    "    model.fit(x_train, y_train, **fit_kwargs)\n",
    "    print(f\"Training time: {time()-start:.2f}\")\n",
    "    y_pred = np.argmax(model.predict(x_test), axis=1)\n",
    "print(f\"Accuracy: {accuracy_score(y_test, y_pred)}\")"
   ]
  },
  {
   "cell_type": "markdown",
   "id": "af4f9f94",
   "metadata": {},
   "source": [
    "## 5. SciKeras benchmark"
   ]
  },
  {
   "cell_type": "code",
   "execution_count": 9,
   "id": "bfcc1feb",
   "metadata": {
    "execution": {
     "iopub.execute_input": "2021-06-18T23:17:13.030306Z",
     "iopub.status.busy": "2021-06-18T23:17:13.029706Z",
     "iopub.status.idle": "2021-06-18T23:17:13.033224Z",
     "shell.execute_reply": "2021-06-18T23:17:13.032804Z"
    }
   },
   "outputs": [],
   "source": [
    "clf = KerasClassifier(\n",
    "    model=get_model,\n",
    "    random_state=0,\n",
    "    **fit_kwargs\n",
    ")"
   ]
  },
  {
   "cell_type": "code",
   "execution_count": 10,
   "id": "d219063f",
   "metadata": {
    "execution": {
     "iopub.execute_input": "2021-06-18T23:17:13.037497Z",
     "iopub.status.busy": "2021-06-18T23:17:13.036964Z",
     "iopub.status.idle": "2021-06-18T23:17:19.626473Z",
     "shell.execute_reply": "2021-06-18T23:17:19.625742Z"
    }
   },
   "outputs": [
    {
     "name": "stdout",
     "output_type": "stream",
     "text": [
      "Training time: 6.42\n",
      "Accuracy: 0.882\n"
     ]
    }
   ],
   "source": [
    "start = time()\n",
    "clf.fit(x_train, y_train)\n",
    "print(f\"Training time: {time()-start:.2f}\")\n",
    "y_pred = clf.predict(x_test)\n",
    "print(f\"Accuracy: {accuracy_score(y_test, y_pred)}\")"
   ]
  },
  {
   "cell_type": "markdown",
   "id": "f9c324a2",
   "metadata": {},
   "source": [
    "As you can see, the overhead for SciKeras is <1 sec, and the accuracy is identical."
   ]
  }
 ],
 "metadata": {
  "jupytext": {
   "formats": "ipynb,md"
  },
  "kernelspec": {
   "display_name": "Python 3",
   "language": "python",
   "name": "python3"
  },
  "language_info": {
   "codemirror_mode": {
    "name": "ipython",
    "version": 3
   },
   "file_extension": ".py",
   "mimetype": "text/x-python",
   "name": "python",
   "nbconvert_exporter": "python",
   "pygments_lexer": "ipython3",
   "version": "3.8.10"
  }
 },
 "nbformat": 4,
 "nbformat_minor": 5
}
