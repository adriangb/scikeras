{
 "cells": [
  {
   "cell_type": "raw",
   "id": "909d3f8b",
   "metadata": {},
   "source": [
    "<a href=\"https://colab.research.google.com/github/adriangb/scikeras/blob/docs-deploy/refs/heads/master/notebooks/MLPClassifier_MLPRegressor.ipynb\"><img src=\"https://www.tensorflow.org/images/colab_logo_32px.png\">Run in Google Colab</a>"
   ]
  },
  {
   "cell_type": "markdown",
   "id": "57431e47",
   "metadata": {},
   "source": [
    "# MLPClassifier and MLPRegressor in SciKeras\n",
    "\n",
    "SciKeras is a bridge between Keras and Scikit-Learn. As such, one of SciKeras' design goals is to be able to create a Scikit-Learn style estimator backed by Keras.\n",
    "\n",
    "This notebook implements an estimator that is analogous to `sklearn.neural_network.MLPClassifier` using Keras. This estimator should (for the most part) work as a drop-in replacement for `MLPClassifier`!\n",
    "\n",
    "## Table of contents\n",
    "\n",
    "* [1. Setup](#1.-Setup)\n",
    "* [2. Defining the Keras Model](#2.-Defining-the-Keras-Model)\n",
    "  * [2.1 Inputs](#2.1-Inputs)\n",
    "  * [2.2 Hidden layers](#2.2-Hidden-layers)\n",
    "  * [2.3 Output layers](#2.3-Output-layers)\n",
    "  * [2.4 Losses and optimizer](#2.4-Losses-and-optimizer)\n",
    "  * [2.5 Wrapping with SciKeras](#2.5-Wrapping-with-SciKeras)\n",
    "* [3. Testing our classifier](#3.-Testing-our-classifier)\n",
    "* [4. Self contained MLPClassifier](#4.-Self-contained-MLPClassifier)\n",
    "  * [4.1 Subclassing](#4.1-Subclassing)\n",
    "* [5. MLPRegressor](#5.-MLPRegressor)\n",
    "\n",
    "## 1. Setup"
   ]
  },
  {
   "cell_type": "code",
   "execution_count": 1,
   "id": "141b07c1",
   "metadata": {
    "execution": {
     "iopub.execute_input": "2022-04-23T18:00:20.435328Z",
     "iopub.status.busy": "2022-04-23T18:00:20.432671Z",
     "iopub.status.idle": "2022-04-23T18:00:22.633379Z",
     "shell.execute_reply": "2022-04-23T18:00:22.632718Z"
    }
   },
   "outputs": [],
   "source": [
    "try:\n",
    "    import scikeras\n",
    "except ImportError:\n",
    "    !python -m pip install scikeras"
   ]
  },
  {
   "cell_type": "markdown",
   "id": "4fc837b8",
   "metadata": {},
   "source": [
    "Silence TensorFlow logging to keep output succinct."
   ]
  },
  {
   "cell_type": "code",
   "execution_count": 2,
   "id": "7c116026",
   "metadata": {
    "execution": {
     "iopub.execute_input": "2022-04-23T18:00:22.640623Z",
     "iopub.status.busy": "2022-04-23T18:00:22.640409Z",
     "iopub.status.idle": "2022-04-23T18:00:22.648142Z",
     "shell.execute_reply": "2022-04-23T18:00:22.647317Z"
    }
   },
   "outputs": [],
   "source": [
    "import warnings\n",
    "from tensorflow import get_logger\n",
    "get_logger().setLevel('ERROR')\n",
    "warnings.filterwarnings(\"ignore\", message=\"Setting the random state for TF\")"
   ]
  },
  {
   "cell_type": "code",
   "execution_count": 3,
   "id": "29b027a4",
   "metadata": {
    "execution": {
     "iopub.execute_input": "2022-04-23T18:00:22.653567Z",
     "iopub.status.busy": "2022-04-23T18:00:22.652553Z",
     "iopub.status.idle": "2022-04-23T18:00:23.066596Z",
     "shell.execute_reply": "2022-04-23T18:00:23.065891Z"
    }
   },
   "outputs": [],
   "source": [
    "import numpy as np\n",
    "from scikeras.wrappers import KerasClassifier, KerasRegressor\n",
    "from tensorflow import keras"
   ]
  },
  {
   "cell_type": "markdown",
   "id": "a2379a1a",
   "metadata": {},
   "source": [
    "## 2. Defining the Keras Model\n",
    "\n",
    "First, we outline our model building function, using a `Sequential` Model:"
   ]
  },
  {
   "cell_type": "code",
   "execution_count": 4,
   "id": "ed565ede",
   "metadata": {
    "execution": {
     "iopub.execute_input": "2022-04-23T18:00:23.070283Z",
     "iopub.status.busy": "2022-04-23T18:00:23.069972Z",
     "iopub.status.idle": "2022-04-23T18:00:23.074801Z",
     "shell.execute_reply": "2022-04-23T18:00:23.074204Z"
    }
   },
   "outputs": [],
   "source": [
    "def get_clf_model():\n",
    "    model = keras.Sequential()\n",
    "    return model"
   ]
  },
  {
   "cell_type": "markdown",
   "id": "2e019de1",
   "metadata": {},
   "source": [
    "### 2.1 Inputs\n",
    "\n",
    "We need to define an input layer for Keras. SciKeras allows you to dynamically determine the input size based on the features (`X`). To do this, you need to add the `meta` parameter to `get_clf_model`'s parameters. `meta` will be a dictionary with all of the `meta` attributes that `KerasClassifier` generates during the `fit` call, including `n_features_in_`, which we will use to dynamically size the input layer."
   ]
  },
  {
   "cell_type": "code",
   "execution_count": 5,
   "id": "9098fca3",
   "metadata": {
    "execution": {
     "iopub.execute_input": "2022-04-23T18:00:23.077716Z",
     "iopub.status.busy": "2022-04-23T18:00:23.077540Z",
     "iopub.status.idle": "2022-04-23T18:00:23.082743Z",
     "shell.execute_reply": "2022-04-23T18:00:23.082146Z"
    }
   },
   "outputs": [],
   "source": [
    "from typing import Dict, Iterable, Any\n",
    "\n",
    "\n",
    "def get_clf_model(meta: Dict[str, Any]):\n",
    "    model = keras.Sequential()\n",
    "    inp = keras.layers.Input(shape=(meta[\"n_features_in_\"]))\n",
    "    model.add(inp)\n",
    "    return model"
   ]
  },
  {
   "cell_type": "markdown",
   "id": "cc24d487",
   "metadata": {},
   "source": [
    "### 2.2 Hidden Layers\n",
    "\n",
    "Multilayer perceptrons are generally composed of an input layer, an output layer and 0 or more hidden layers. The size of the hidden layers is specified via the `hidden_layer_sizes` parameter in MLClassifier, where the the ith element represents the number of neurons in the ith hidden layer. Let's add that parameter:"
   ]
  },
  {
   "cell_type": "code",
   "execution_count": 6,
   "id": "4cd73e8e",
   "metadata": {
    "execution": {
     "iopub.execute_input": "2022-04-23T18:00:23.085742Z",
     "iopub.status.busy": "2022-04-23T18:00:23.085576Z",
     "iopub.status.idle": "2022-04-23T18:00:23.090687Z",
     "shell.execute_reply": "2022-04-23T18:00:23.090266Z"
    }
   },
   "outputs": [],
   "source": [
    "def get_clf_model(hidden_layer_sizes: Iterable[int], meta: Dict[str, Any]):\n",
    "    model = keras.Sequential()\n",
    "    inp = keras.layers.Input(shape=(meta[\"n_features_in_\"]))\n",
    "    model.add(inp)\n",
    "    for hidden_layer_size in hidden_layer_sizes:\n",
    "        layer = keras.layers.Dense(hidden_layer_size, activation=\"relu\")\n",
    "        model.add(layer)\n",
    "    return model"
   ]
  },
  {
   "cell_type": "markdown",
   "id": "1f2c025a",
   "metadata": {},
   "source": [
    "### 2.3 Output layers\n",
    "\n",
    "The output layer needs to reflect the type of classification task being performed. Here, we will handle 2 cases:\n",
    "\n",
    "- binary classification: single output unit with sigmoid activation\n",
    "- multiclass classification: one output unit for each class, with softmax activation\n",
    "The main complication arises from determining which one to use. Like with the input features, SciKeras provides useful information on the target within the `meta` parameter. Specifically, we will use the `n_classes_` and `target_type_` attributes to determine the number of output units and activation function."
   ]
  },
  {
   "cell_type": "code",
   "execution_count": 7,
   "id": "448e87ef",
   "metadata": {
    "execution": {
     "iopub.execute_input": "2022-04-23T18:00:23.093733Z",
     "iopub.status.busy": "2022-04-23T18:00:23.093408Z",
     "iopub.status.idle": "2022-04-23T18:00:23.100038Z",
     "shell.execute_reply": "2022-04-23T18:00:23.099579Z"
    }
   },
   "outputs": [],
   "source": [
    "def get_clf_model(hidden_layer_sizes: Iterable[int], meta: Dict[str, Any]):\n",
    "    model = keras.Sequential()\n",
    "    inp = keras.layers.Input(shape=(meta[\"n_features_in_\"]))\n",
    "    model.add(inp)\n",
    "    for hidden_layer_size in hidden_layer_sizes:\n",
    "        layer = keras.layers.Dense(hidden_layer_size, activation=\"relu\")\n",
    "        model.add(layer)\n",
    "    if meta[\"target_type_\"] == \"binary\":\n",
    "        n_output_units = 1\n",
    "        output_activation = \"sigmoid\"\n",
    "    elif meta[\"target_type_\"] == \"multiclass\":\n",
    "        n_output_units = meta[\"n_classes_\"]\n",
    "        output_activation = \"softmax\"\n",
    "    else:\n",
    "        raise NotImplementedError(f\"Unsupported task type: {meta['target_type_']}\")\n",
    "    out = keras.layers.Dense(n_output_units, activation=output_activation)\n",
    "    model.add(out)\n",
    "    return model"
   ]
  },
  {
   "cell_type": "markdown",
   "id": "0a0997c3",
   "metadata": {},
   "source": [
    "For now, we raise a `NotImplementedError` for other target types. For an example handling multi-output target types, see the [Multi Output notebook](https://colab.research.google.com/github/adriangb/scikeras/blob/master/notebooks/MultiInput.ipynb).\n",
    "\n",
    "### 2.4 Losses and optimizer\n",
    "\n",
    "Like the output layer, the loss must match the type of classification task. Generally, it is easier and safet to allow SciKeras to compile your model for you by passing the loss to `KerasClassifier` directly (`KerasClassifier(loss=\"binary_crossentropy\")`). However, in order to implement custom logic around the choice of loss function, we compile the model ourselves within `get_clf_model`; SciKeras will not re-compile the model."
   ]
  },
  {
   "cell_type": "code",
   "execution_count": 8,
   "id": "c0940a39",
   "metadata": {
    "execution": {
     "iopub.execute_input": "2022-04-23T18:00:23.107680Z",
     "iopub.status.busy": "2022-04-23T18:00:23.107509Z",
     "iopub.status.idle": "2022-04-23T18:00:23.116066Z",
     "shell.execute_reply": "2022-04-23T18:00:23.115651Z"
    }
   },
   "outputs": [],
   "source": [
    "def get_clf_model(hidden_layer_sizes: Iterable[int], meta: Dict[str, Any]):\n",
    "    model = keras.Sequential()\n",
    "    inp = keras.layers.Input(shape=(meta[\"n_features_in_\"]))\n",
    "    model.add(inp)\n",
    "    for hidden_layer_size in hidden_layer_sizes:\n",
    "        layer = keras.layers.Dense(hidden_layer_size, activation=\"relu\")\n",
    "        model.add(layer)\n",
    "    if meta[\"target_type_\"] == \"binary\":\n",
    "        n_output_units = 1\n",
    "        output_activation = \"sigmoid\"\n",
    "        loss = \"binary_crossentropy\"\n",
    "    elif meta[\"target_type_\"] == \"multiclass\":\n",
    "        n_output_units = meta[\"n_classes_\"]\n",
    "        output_activation = \"softmax\"\n",
    "        loss = \"sparse_categorical_crossentropy\"\n",
    "    else:\n",
    "        raise NotImplementedError(f\"Unsupported task type: {meta['target_type_']}\")\n",
    "    out = keras.layers.Dense(n_output_units, activation=output_activation)\n",
    "    model.add(out)\n",
    "    model.compile(loss=loss)\n",
    "    return model"
   ]
  },
  {
   "cell_type": "markdown",
   "id": "2f9fe2c9",
   "metadata": {},
   "source": [
    "At this point, we have a valid, compiled model. However if we want to be able to tune the optimizer, we should accept `compile_kwargs` as a parameter in `get_clf_model`. `compile_kwargs` will be a dictionary containing valid `kwargs` for `Model.compile`, so we can unpack it directly like `model.compile(**compile_kwargs)`. In this case however, we will only be taking the `optimizer` kwarg."
   ]
  },
  {
   "cell_type": "code",
   "execution_count": 9,
   "id": "9e666a88",
   "metadata": {
    "execution": {
     "iopub.execute_input": "2022-04-23T18:00:23.119974Z",
     "iopub.status.busy": "2022-04-23T18:00:23.119257Z",
     "iopub.status.idle": "2022-04-23T18:00:23.125847Z",
     "shell.execute_reply": "2022-04-23T18:00:23.125390Z"
    }
   },
   "outputs": [],
   "source": [
    "def get_clf_model(hidden_layer_sizes: Iterable[int], meta: Dict[str, Any], compile_kwargs: Dict[str, Any]):\n",
    "    model = keras.Sequential()\n",
    "    inp = keras.layers.Input(shape=(meta[\"n_features_in_\"]))\n",
    "    model.add(inp)\n",
    "    for hidden_layer_size in hidden_layer_sizes:\n",
    "        layer = keras.layers.Dense(hidden_layer_size, activation=\"relu\")\n",
    "        model.add(layer)\n",
    "    if meta[\"target_type_\"] == \"binary\":\n",
    "        n_output_units = 1\n",
    "        output_activation = \"sigmoid\"\n",
    "        loss = \"binary_crossentropy\"\n",
    "    elif meta[\"target_type_\"] == \"multiclass\":\n",
    "        n_output_units = meta[\"n_classes_\"]\n",
    "        output_activation = \"softmax\"\n",
    "        loss = \"sparse_categorical_crossentropy\"\n",
    "    else:\n",
    "        raise NotImplementedError(f\"Unsupported task type: {meta['target_type_']}\")\n",
    "    out = keras.layers.Dense(n_output_units, activation=output_activation)\n",
    "    model.add(out)\n",
    "    model.compile(loss=loss, optimizer=compile_kwargs[\"optimizer\"])\n",
    "    return model"
   ]
  },
  {
   "cell_type": "markdown",
   "id": "f1389438",
   "metadata": {},
   "source": [
    "### 2.5 Wrapping with SciKeras\n",
    "\n",
    "Our last step in defining our model is to wrap it with SciKeras. A couple of things to note are:\n",
    "- Every user-defined parameter in `model`/`get_clf_model` (in our case just `hidden_layer_sizes`) must be defined as a keyword argument to `KerasClassifier` with a default value.\n",
    "- Keras defaults to `\"rmsprop\"` for `optimizer`. We set it to `\"adam\"` to mimic MLPClassifier.\n",
    "- We set the learning rate for the optimizer to `0.001`, again to mimic MLPClassifier. We set this parameter using [parameter routing](https://www.adriangb.com/scikeras/stable/advanced.html#routed-parameters).\n",
    "- Other parameters, such as `activation`, can be added similar to `hidden_layer_sizes`, but we omit them here for simplicity."
   ]
  },
  {
   "cell_type": "code",
   "execution_count": 10,
   "id": "971a1f1c",
   "metadata": {
    "execution": {
     "iopub.execute_input": "2022-04-23T18:00:23.128810Z",
     "iopub.status.busy": "2022-04-23T18:00:23.128479Z",
     "iopub.status.idle": "2022-04-23T18:00:23.139082Z",
     "shell.execute_reply": "2022-04-23T18:00:23.138633Z"
    }
   },
   "outputs": [],
   "source": [
    "clf = KerasClassifier(\n",
    "    model=get_clf_model,\n",
    "    hidden_layer_sizes=(100, ),\n",
    "    optimizer=\"adam\",\n",
    "    optimizer__learning_rate=0.001,\n",
    "    epochs=50,\n",
    "    verbose=0,\n",
    ")"
   ]
  },
  {
   "cell_type": "markdown",
   "id": "1d175f58",
   "metadata": {},
   "source": [
    "## 3. Testing our classifier\n",
    "\n",
    "Before continouing, we will run a small test to make sure we get somewhat reasonable results."
   ]
  },
  {
   "cell_type": "code",
   "execution_count": 11,
   "id": "9e9f9c09",
   "metadata": {
    "execution": {
     "iopub.execute_input": "2022-04-23T18:00:23.141589Z",
     "iopub.status.busy": "2022-04-23T18:00:23.141432Z",
     "iopub.status.idle": "2022-04-23T18:00:24.449877Z",
     "shell.execute_reply": "2022-04-23T18:00:24.446732Z"
    }
   },
   "outputs": [
    {
     "name": "stdout",
     "output_type": "stream",
     "text": [
      "0.98\n"
     ]
    }
   ],
   "source": [
    "from sklearn.datasets import make_classification\n",
    "\n",
    "\n",
    "X, y = make_classification()\n",
    "\n",
    "# check that fit works\n",
    "clf.fit(X, y)\n",
    "# check score\n",
    "print(clf.score(X, y))"
   ]
  },
  {
   "cell_type": "markdown",
   "id": "9efc2b35",
   "metadata": {},
   "source": [
    "We get a score above 0.7, which is reasonable and indicates that our classifier is generally working.\n",
    "\n",
    "## 4. Self contained MLPClassifier\n",
    "\n",
    "You will have noticed that up until now, we define our Keras model in a function and pass that function to `KerasClassifier` via the `model` argument.\n",
    "\n",
    "This is convenient, but it does not give us a self-contained class that we could package within a module for users to instantiate. To do that, we need to subclass `KerasClassifier`.\n",
    "\n",
    "### 4.1 Subclassing\n",
    "\n",
    "By subclassing KerasClassifier, you can embed your Keras model into directly into your estimator class. We start by inheriting from KerasClassifier and defining an `__init__` method with all of our parameters."
   ]
  },
  {
   "cell_type": "code",
   "execution_count": 12,
   "id": "fa0e37c6",
   "metadata": {
    "execution": {
     "iopub.execute_input": "2022-04-23T18:00:24.456142Z",
     "iopub.status.busy": "2022-04-23T18:00:24.454687Z",
     "iopub.status.idle": "2022-04-23T18:00:24.461308Z",
     "shell.execute_reply": "2022-04-23T18:00:24.460686Z"
    }
   },
   "outputs": [],
   "source": [
    "class MLPClassifier(KerasClassifier):\n",
    "\n",
    "    def __init__(\n",
    "        self,\n",
    "        hidden_layer_sizes=(100, ),\n",
    "        optimizer=\"adam\",\n",
    "        optimizer__learning_rate=0.001,\n",
    "        epochs=200,\n",
    "        verbose=0,\n",
    "        **kwargs\n",
    "    ):\n",
    "        super().__init__(**kwargs)\n",
    "        self.hidden_layer_sizes = hidden_layer_sizes\n",
    "        self.optimizer = optimizer\n",
    "        self.epochs = epochs\n",
    "        self.verbose = verbose"
   ]
  },
  {
   "cell_type": "markdown",
   "id": "1490207a",
   "metadata": {},
   "source": [
    "Next, we will embed our model into `_keras_build_fn`, which takes the place of `get_clf_model`. Note that since this is now an part of the model, we no longer need to accept the any parameters in the function signature. We still accept `compile_kwargs` because we use it to get the optimizer initialized with all of it's parameters."
   ]
  },
  {
   "cell_type": "code",
   "execution_count": 13,
   "id": "ed010a03",
   "metadata": {
    "execution": {
     "iopub.execute_input": "2022-04-23T18:00:24.464888Z",
     "iopub.status.busy": "2022-04-23T18:00:24.464048Z",
     "iopub.status.idle": "2022-04-23T18:00:24.474059Z",
     "shell.execute_reply": "2022-04-23T18:00:24.473545Z"
    }
   },
   "outputs": [],
   "source": [
    "class MLPClassifier(KerasClassifier):\n",
    "\n",
    "    def __init__(\n",
    "        self,\n",
    "        hidden_layer_sizes=(100, ),\n",
    "        optimizer=\"adam\",\n",
    "        optimizer__learning_rate=0.001,\n",
    "        epochs=200,\n",
    "        verbose=0,\n",
    "        **kwargs,\n",
    "    ):\n",
    "        super().__init__(**kwargs)\n",
    "        self.hidden_layer_sizes = hidden_layer_sizes\n",
    "        self.optimizer = optimizer\n",
    "        self.epochs = epochs\n",
    "        self.verbose = verbose\n",
    "\n",
    "    def _keras_build_fn(self, compile_kwargs: Dict[str, Any]):\n",
    "        model = keras.Sequential()\n",
    "        inp = keras.layers.Input(shape=(self.n_features_in_))\n",
    "        model.add(inp)\n",
    "        for hidden_layer_size in self.hidden_layer_sizes:\n",
    "            layer = keras.layers.Dense(hidden_layer_size, activation=\"relu\")\n",
    "            model.add(layer)\n",
    "        if self.target_type_ == \"binary\":\n",
    "            n_output_units = 1\n",
    "            output_activation = \"sigmoid\"\n",
    "            loss = \"binary_crossentropy\"\n",
    "        elif self.target_type_ == \"multiclass\":\n",
    "            n_output_units = self.n_classes_\n",
    "            output_activation = \"softmax\"\n",
    "            loss = \"sparse_categorical_crossentropy\"\n",
    "        else:\n",
    "            raise NotImplementedError(f\"Unsupported task type: {self.target_type_}\")\n",
    "        out = keras.layers.Dense(n_output_units, activation=output_activation)\n",
    "        model.add(out)\n",
    "        model.compile(loss=loss, optimizer=compile_kwargs[\"optimizer\"])\n",
    "        return model"
   ]
  },
  {
   "cell_type": "markdown",
   "id": "0c9cd7e2",
   "metadata": {},
   "source": [
    "Let's check that our subclassed model works:"
   ]
  },
  {
   "cell_type": "code",
   "execution_count": 14,
   "id": "54efc9dd",
   "metadata": {
    "execution": {
     "iopub.execute_input": "2022-04-23T18:00:24.477923Z",
     "iopub.status.busy": "2022-04-23T18:00:24.477010Z",
     "iopub.status.idle": "2022-04-23T18:00:25.198611Z",
     "shell.execute_reply": "2022-04-23T18:00:25.198048Z"
    }
   },
   "outputs": [
    {
     "name": "stdout",
     "output_type": "stream",
     "text": [
      "0.95\n"
     ]
    }
   ],
   "source": [
    "clf = MLPClassifier(epochs=20)  # for notebook execution time\n",
    "\n",
    "# check score\n",
    "print(clf.fit(X, y).score(X, y))"
   ]
  },
  {
   "cell_type": "markdown",
   "id": "ba1ef747",
   "metadata": {},
   "source": [
    "## 5. MLPRegressor\n",
    "\n",
    "The process for MLPRegressor is similar, we only change the loss function and output layers."
   ]
  },
  {
   "cell_type": "code",
   "execution_count": 15,
   "id": "6c182b8b",
   "metadata": {
    "execution": {
     "iopub.execute_input": "2022-04-23T18:00:25.201581Z",
     "iopub.status.busy": "2022-04-23T18:00:25.201399Z",
     "iopub.status.idle": "2022-04-23T18:00:25.214657Z",
     "shell.execute_reply": "2022-04-23T18:00:25.213859Z"
    },
    "lines_to_next_cell": 2
   },
   "outputs": [],
   "source": [
    "class MLPRegressor(KerasRegressor):\n",
    "\n",
    "    def __init__(\n",
    "        self,\n",
    "        hidden_layer_sizes=(100, ),\n",
    "        optimizer=\"adam\",\n",
    "        optimizer__learning_rate=0.001,\n",
    "        epochs=200,\n",
    "        verbose=0,\n",
    "        **kwargs,\n",
    "    ):\n",
    "        super().__init__(**kwargs)\n",
    "        self.hidden_layer_sizes = hidden_layer_sizes\n",
    "        self.optimizer = optimizer\n",
    "        self.epochs = epochs\n",
    "        self.verbose = verbose\n",
    "\n",
    "    def _keras_build_fn(self, compile_kwargs: Dict[str, Any]):\n",
    "        model = keras.Sequential()\n",
    "        inp = keras.layers.Input(shape=(self.n_features_in_))\n",
    "        model.add(inp)\n",
    "        for hidden_layer_size in self.hidden_layer_sizes:\n",
    "            layer = keras.layers.Dense(hidden_layer_size, activation=\"relu\")\n",
    "            model.add(layer)\n",
    "        out = keras.layers.Dense(1)\n",
    "        model.add(out)\n",
    "        model.compile(loss=\"mse\", optimizer=compile_kwargs[\"optimizer\"])\n",
    "        return model"
   ]
  },
  {
   "cell_type": "code",
   "execution_count": 16,
   "id": "f2d2ce12",
   "metadata": {
    "execution": {
     "iopub.execute_input": "2022-04-23T18:00:25.217735Z",
     "iopub.status.busy": "2022-04-23T18:00:25.217552Z",
     "iopub.status.idle": "2022-04-23T18:00:25.811859Z",
     "shell.execute_reply": "2022-04-23T18:00:25.808474Z"
    }
   },
   "outputs": [
    {
     "name": "stdout",
     "output_type": "stream",
     "text": [
      "0.1344107895532054\n"
     ]
    }
   ],
   "source": [
    "from sklearn.datasets import make_regression\n",
    "\n",
    "\n",
    "reg = MLPRegressor(epochs=20)  # for notebook execution time\n",
    "\n",
    "# Define a simple linear relationship\n",
    "y = np.arange(100)\n",
    "X = (y/2).reshape(-1, 1)\n",
    "\n",
    "# check score\n",
    "reg.fit(X, y)\n",
    "print(reg.score(X, y))"
   ]
  }
 ],
 "metadata": {
  "jupytext": {
   "formats": "ipynb,md"
  },
  "kernelspec": {
   "display_name": "Python 3",
   "language": "python",
   "name": "python3"
  },
  "language_info": {
   "codemirror_mode": {
    "name": "ipython",
    "version": 3
   },
   "file_extension": ".py",
   "mimetype": "text/x-python",
   "name": "python",
   "nbconvert_exporter": "python",
   "pygments_lexer": "ipython3",
   "version": "3.8.12"
  }
 },
 "nbformat": 4,
 "nbformat_minor": 5
}
