{
 "cells": [
  {
   "cell_type": "raw",
   "id": "29782901",
   "metadata": {},
   "source": [
    "<a href=\"https://colab.research.google.com/github/adriangb/scikeras/blob/docs-deploy/refs/heads/master/notebooks/AutoEncoders.ipynb\"><img src=\"https://www.tensorflow.org/images/colab_logo_32px.png\">Run in Google Colab</a>"
   ]
  },
  {
   "cell_type": "markdown",
   "id": "c6a4d152",
   "metadata": {},
   "source": [
    "# Sparse Inputs"
   ]
  },
  {
   "cell_type": "markdown",
   "id": "dc95ac35",
   "metadata": {},
   "source": [
    "SciKeras supports sparse inputs (`X`/features).\n",
    "You don't have to do anything special for this to work, you can just pass a sparse matrix to `fit()`.\n",
    "\n",
    "In this notebook, we'll demonstrate how this works and compare memory consumption of sparse inputs to dense inputs."
   ]
  },
  {
   "cell_type": "markdown",
   "id": "0b1c8428",
   "metadata": {},
   "source": [
    "## Setup"
   ]
  },
  {
   "cell_type": "code",
   "execution_count": 1,
   "id": "e08b1768",
   "metadata": {
    "execution": {
     "iopub.execute_input": "2024-04-11T22:26:19.252106Z",
     "iopub.status.busy": "2024-04-11T22:26:19.251823Z",
     "iopub.status.idle": "2024-04-11T22:26:22.018507Z",
     "shell.execute_reply": "2024-04-11T22:26:22.017817Z"
    }
   },
   "outputs": [
    {
     "name": "stdout",
     "output_type": "stream",
     "text": [
      "Collecting memory_profiler\r\n"
     ]
    },
    {
     "name": "stdout",
     "output_type": "stream",
     "text": [
      "  Downloading memory_profiler-0.61.0-py3-none-any.whl.metadata (20 kB)\r\n",
      "Requirement already satisfied: psutil in /home/runner/work/scikeras/scikeras/.venv/lib/python3.12/site-packages (from memory_profiler) (5.9.8)\r\n"
     ]
    },
    {
     "name": "stdout",
     "output_type": "stream",
     "text": [
      "Downloading memory_profiler-0.61.0-py3-none-any.whl (31 kB)\r\n"
     ]
    },
    {
     "name": "stdout",
     "output_type": "stream",
     "text": [
      "Installing collected packages: memory_profiler\r\n"
     ]
    },
    {
     "name": "stdout",
     "output_type": "stream",
     "text": [
      "Successfully installed memory_profiler-0.61.0\r\n"
     ]
    }
   ],
   "source": [
    "!pip install memory_profiler\n",
    "%load_ext memory_profiler"
   ]
  },
  {
   "cell_type": "code",
   "execution_count": 2,
   "id": "59cbf934",
   "metadata": {
    "execution": {
     "iopub.execute_input": "2024-04-11T22:26:22.021790Z",
     "iopub.status.busy": "2024-04-11T22:26:22.021580Z",
     "iopub.status.idle": "2024-04-11T22:26:24.177391Z",
     "shell.execute_reply": "2024-04-11T22:26:24.176808Z"
    }
   },
   "outputs": [],
   "source": [
    "import warnings\n",
    "import os\n",
    "os.environ['TF_CPP_MIN_LOG_LEVEL'] = '3'\n",
    "from tensorflow import get_logger\n",
    "get_logger().setLevel('ERROR')\n",
    "warnings.filterwarnings(\"ignore\", message=\"Setting the random state for TF\")"
   ]
  },
  {
   "cell_type": "code",
   "execution_count": 3,
   "id": "be38bfbd",
   "metadata": {
    "execution": {
     "iopub.execute_input": "2024-04-11T22:26:24.180546Z",
     "iopub.status.busy": "2024-04-11T22:26:24.179916Z",
     "iopub.status.idle": "2024-04-11T22:26:24.185374Z",
     "shell.execute_reply": "2024-04-11T22:26:24.184866Z"
    }
   },
   "outputs": [],
   "source": [
    "try:\n",
    "    import scikeras\n",
    "except ImportError:\n",
    "    !python -m pip install scikeras"
   ]
  },
  {
   "cell_type": "code",
   "execution_count": 4,
   "id": "530ddaa1",
   "metadata": {
    "execution": {
     "iopub.execute_input": "2024-04-11T22:26:24.187561Z",
     "iopub.status.busy": "2024-04-11T22:26:24.187363Z",
     "iopub.status.idle": "2024-04-11T22:26:24.524668Z",
     "shell.execute_reply": "2024-04-11T22:26:24.524022Z"
    }
   },
   "outputs": [],
   "source": [
    "import scipy\n",
    "import numpy as np\n",
    "from scikeras.wrappers import KerasRegressor\n",
    "from sklearn.preprocessing import OneHotEncoder\n",
    "from sklearn.pipeline import Pipeline\n",
    "import keras"
   ]
  },
  {
   "cell_type": "markdown",
   "id": "ba9f7ddd",
   "metadata": {},
   "source": [
    "## Data\n",
    "\n",
    "The dataset we'll be using is designed to demostrate a worst-case/best-case scenario for dense and sparse input features respectively.\n",
    "It consists of a single categorical feature with equal number of categories as rows.\n",
    "This means the one-hot encoded representation will require as many columns as it does rows, making it very ineffienct to store as a dense matrix but very efficient to store as a sparse matrix."
   ]
  },
  {
   "cell_type": "code",
   "execution_count": 5,
   "id": "dd25b343",
   "metadata": {
    "execution": {
     "iopub.execute_input": "2024-04-11T22:26:24.527891Z",
     "iopub.status.busy": "2024-04-11T22:26:24.527182Z",
     "iopub.status.idle": "2024-04-11T22:26:24.531434Z",
     "shell.execute_reply": "2024-04-11T22:26:24.530918Z"
    }
   },
   "outputs": [],
   "source": [
    "N_SAMPLES = 20_000  # hand tuned to be ~4GB peak\n",
    "\n",
    "X = np.arange(0, N_SAMPLES).reshape(-1, 1)\n",
    "y = np.random.uniform(0, 1, size=(X.shape[0],))"
   ]
  },
  {
   "cell_type": "markdown",
   "id": "704084ec",
   "metadata": {},
   "source": [
    "## Model\n",
    "\n",
    "The model here is nothing special, just a basic multilayer perceptron with one hidden layer."
   ]
  },
  {
   "cell_type": "code",
   "execution_count": 6,
   "id": "2e56e3e3",
   "metadata": {
    "execution": {
     "iopub.execute_input": "2024-04-11T22:26:24.533990Z",
     "iopub.status.busy": "2024-04-11T22:26:24.533509Z",
     "iopub.status.idle": "2024-04-11T22:26:24.539515Z",
     "shell.execute_reply": "2024-04-11T22:26:24.539009Z"
    }
   },
   "outputs": [],
   "source": [
    "def get_clf(meta) -> keras.Model:\n",
    "    n_features_in_ = meta[\"n_features_in_\"]\n",
    "    model = keras.models.Sequential()\n",
    "    model.add(keras.layers.Input(shape=(n_features_in_,)))\n",
    "    # a single hidden layer\n",
    "    model.add(keras.layers.Dense(100, activation=\"relu\"))\n",
    "    model.add(keras.layers.Dense(1))\n",
    "    return model"
   ]
  },
  {
   "cell_type": "markdown",
   "id": "309aa802",
   "metadata": {},
   "source": [
    "## Pipelines\n",
    "\n",
    "Here is where it gets interesting.\n",
    "We make two Scikit-Learn pipelines that use `OneHotEncoder`: one that uses `sparse_output=False` to force a dense matrix as the output and another that uses `sparse_output=True` (the default)."
   ]
  },
  {
   "cell_type": "code",
   "execution_count": 7,
   "id": "0fe26fe5",
   "metadata": {
    "execution": {
     "iopub.execute_input": "2024-04-11T22:26:24.542283Z",
     "iopub.status.busy": "2024-04-11T22:26:24.541733Z",
     "iopub.status.idle": "2024-04-11T22:26:24.545550Z",
     "shell.execute_reply": "2024-04-11T22:26:24.545039Z"
    }
   },
   "outputs": [],
   "source": [
    "dense_pipeline = Pipeline(\n",
    "    [\n",
    "        (\"encoder\", OneHotEncoder(sparse_output=False)),\n",
    "        (\"model\", KerasRegressor(get_clf, loss=\"mse\", epochs=5, verbose=False))\n",
    "    ]\n",
    ")\n",
    "\n",
    "sparse_pipeline = Pipeline(\n",
    "    [\n",
    "        (\"encoder\", OneHotEncoder(sparse_output=True)),\n",
    "        (\"model\", KerasRegressor(get_clf, loss=\"mse\", epochs=5, verbose=False))\n",
    "    ]\n",
    ")"
   ]
  },
  {
   "cell_type": "markdown",
   "id": "ab925a72",
   "metadata": {},
   "source": [
    "## Benchmark\n",
    "\n",
    "Our benchmark will be to just train each one of these pipelines and measure peak memory consumption."
   ]
  },
  {
   "cell_type": "code",
   "execution_count": 8,
   "id": "4a269e5d",
   "metadata": {
    "execution": {
     "iopub.execute_input": "2024-04-11T22:26:24.547644Z",
     "iopub.status.busy": "2024-04-11T22:26:24.547449Z",
     "iopub.status.idle": "2024-04-11T22:27:02.265394Z",
     "shell.execute_reply": "2024-04-11T22:27:02.264572Z"
    }
   },
   "outputs": [
    {
     "name": "stdout",
     "output_type": "stream",
     "text": [
      "peak memory: 5175.21 MiB, increment: 4650.21 MiB\n"
     ]
    }
   ],
   "source": [
    "%memit dense_pipeline.fit(X, y)"
   ]
  },
  {
   "cell_type": "code",
   "execution_count": 9,
   "id": "c26e298e",
   "metadata": {
    "execution": {
     "iopub.execute_input": "2024-04-11T22:27:02.269446Z",
     "iopub.status.busy": "2024-04-11T22:27:02.268786Z",
     "iopub.status.idle": "2024-04-11T22:27:16.093344Z",
     "shell.execute_reply": "2024-04-11T22:27:16.092618Z"
    }
   },
   "outputs": [
    {
     "name": "stdout",
     "output_type": "stream",
     "text": [
      "peak memory: 1001.99 MiB, increment: 40.09 MiB\n"
     ]
    }
   ],
   "source": [
    "%memit sparse_pipeline.fit(X, y)"
   ]
  },
  {
   "cell_type": "markdown",
   "id": "dc22deaf",
   "metadata": {},
   "source": [
    "You should see at least 100x more memory consumption **increment** in the dense pipeline."
   ]
  },
  {
   "cell_type": "markdown",
   "id": "2ffc2952",
   "metadata": {},
   "source": [
    "### Runtime\n",
    "\n",
    "Using sparse inputs can have a drastic impact on memory usage, but it often (not always) hurts overall runtime."
   ]
  },
  {
   "cell_type": "code",
   "execution_count": 10,
   "id": "26215134",
   "metadata": {
    "execution": {
     "iopub.execute_input": "2024-04-11T22:27:16.096252Z",
     "iopub.status.busy": "2024-04-11T22:27:16.095736Z",
     "iopub.status.idle": "2024-04-11T22:31:49.957522Z",
     "shell.execute_reply": "2024-04-11T22:31:49.956928Z"
    }
   },
   "outputs": [
    {
     "name": "stdout",
     "output_type": "stream",
     "text": [
      "32.8 s ± 9.49 s per loop (mean ± std. dev. of 7 runs, 1 loop each)\n"
     ]
    }
   ],
   "source": [
    "%timeit dense_pipeline.fit(X, y)"
   ]
  },
  {
   "cell_type": "code",
   "execution_count": 11,
   "id": "2de9f5f0",
   "metadata": {
    "execution": {
     "iopub.execute_input": "2024-04-11T22:31:49.960116Z",
     "iopub.status.busy": "2024-04-11T22:31:49.959636Z",
     "iopub.status.idle": "2024-04-11T22:33:26.244465Z",
     "shell.execute_reply": "2024-04-11T22:33:26.243845Z"
    }
   },
   "outputs": [
    {
     "name": "stdout",
     "output_type": "stream",
     "text": [
      "12.1 s ± 717 ms per loop (mean ± std. dev. of 7 runs, 1 loop each)\n"
     ]
    }
   ],
   "source": [
    "%timeit sparse_pipeline.fit(X, y)"
   ]
  },
  {
   "cell_type": "markdown",
   "id": "6f461be3",
   "metadata": {},
   "source": [
    "## Tensorflow Datasets\n",
    "\n",
    "Tensorflow provides a whole suite of functionality around the [Dataset].\n",
    "Datasets are lazily evaluated, can be sparse and minimize the transformations required to feed data into the model.\n",
    "They are _a lot_ more performant and efficient at scale than using numpy datastructures, even sparse ones.\n",
    "\n",
    "SciKeras does not (and cannot) support Datasets directly because Scikit-Learn itself does not support them and SciKeras' outwards API is Scikit-Learn's API.\n",
    "You may want to explore breaking out of SciKeras and just using TensorFlow/Keras directly to see if Datasets can have a large impact for your use case.\n",
    "\n",
    "[Dataset]: https://www.tensorflow.org/api_docs/python/tf/data/Dataset"
   ]
  },
  {
   "cell_type": "markdown",
   "id": "b47d7df0",
   "metadata": {},
   "source": [
    "## Bonus: dtypes\n",
    "\n",
    "You might be able to save even more memory by changing the output dtype of `OneHotEncoder`."
   ]
  },
  {
   "cell_type": "code",
   "execution_count": 12,
   "id": "f87dc092",
   "metadata": {
    "execution": {
     "iopub.execute_input": "2024-04-11T22:33:26.247319Z",
     "iopub.status.busy": "2024-04-11T22:33:26.246825Z",
     "iopub.status.idle": "2024-04-11T22:33:26.250177Z",
     "shell.execute_reply": "2024-04-11T22:33:26.249610Z"
    }
   },
   "outputs": [],
   "source": [
    "sparse_pipline_uint8 = Pipeline(\n",
    "    [\n",
    "        (\"encoder\", OneHotEncoder(sparse_output=True, dtype=np.uint8)),\n",
    "        (\"model\", KerasRegressor(get_clf, loss=\"mse\", epochs=5, verbose=False))\n",
    "    ]\n",
    ")"
   ]
  },
  {
   "cell_type": "code",
   "execution_count": 13,
   "id": "16889621",
   "metadata": {
    "execution": {
     "iopub.execute_input": "2024-04-11T22:33:26.252417Z",
     "iopub.status.busy": "2024-04-11T22:33:26.252052Z",
     "iopub.status.idle": "2024-04-11T22:33:37.240297Z",
     "shell.execute_reply": "2024-04-11T22:33:37.239565Z"
    }
   },
   "outputs": [
    {
     "name": "stdout",
     "output_type": "stream",
     "text": [
      "peak memory: 1084.54 MiB, increment: 16.99 MiB\n"
     ]
    }
   ],
   "source": [
    "%memit sparse_pipline_uint8.fit(X, y)"
   ]
  }
 ],
 "metadata": {
  "jupytext": {
   "formats": "ipynb,md"
  },
  "kernelspec": {
   "display_name": "Python 3 (ipykernel)",
   "language": "python",
   "name": "python3"
  },
  "language_info": {
   "codemirror_mode": {
    "name": "ipython",
    "version": 3
   },
   "file_extension": ".py",
   "mimetype": "text/x-python",
   "name": "python",
   "nbconvert_exporter": "python",
   "pygments_lexer": "ipython3",
   "version": "3.12.2"
  }
 },
 "nbformat": 4,
 "nbformat_minor": 5
}
