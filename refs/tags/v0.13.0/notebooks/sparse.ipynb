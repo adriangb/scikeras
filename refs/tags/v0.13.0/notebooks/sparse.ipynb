{
 "cells": [
  {
   "cell_type": "raw",
   "id": "01de2efa",
   "metadata": {},
   "source": [
    "<a href=\"https://colab.research.google.com/github/adriangb/scikeras/blob/docs-deploy/refs/heads/master/notebooks/AutoEncoders.ipynb\"><img src=\"https://www.tensorflow.org/images/colab_logo_32px.png\">Run in Google Colab</a>"
   ]
  },
  {
   "cell_type": "markdown",
   "id": "8d24d191",
   "metadata": {},
   "source": [
    "# Sparse Inputs"
   ]
  },
  {
   "cell_type": "markdown",
   "id": "64c78bb4",
   "metadata": {},
   "source": [
    "SciKeras supports sparse inputs (`X`/features).\n",
    "You don't have to do anything special for this to work, you can just pass a sparse matrix to `fit()`.\n",
    "\n",
    "In this notebook, we'll demonstrate how this works and compare memory consumption of sparse inputs to dense inputs."
   ]
  },
  {
   "cell_type": "markdown",
   "id": "de27d41c",
   "metadata": {},
   "source": [
    "## Setup"
   ]
  },
  {
   "cell_type": "code",
   "execution_count": 1,
   "id": "fef11234",
   "metadata": {
    "execution": {
     "iopub.execute_input": "2024-04-10T13:05:18.592147Z",
     "iopub.status.busy": "2024-04-10T13:05:18.591841Z",
     "iopub.status.idle": "2024-04-10T13:05:21.437038Z",
     "shell.execute_reply": "2024-04-10T13:05:21.436093Z"
    }
   },
   "outputs": [
    {
     "name": "stdout",
     "output_type": "stream",
     "text": [
      "Collecting memory_profiler\r\n"
     ]
    },
    {
     "name": "stdout",
     "output_type": "stream",
     "text": [
      "  Downloading memory_profiler-0.61.0-py3-none-any.whl.metadata (20 kB)\r\n",
      "Requirement already satisfied: psutil in /home/runner/work/scikeras/scikeras/.venv/lib/python3.12/site-packages (from memory_profiler) (5.9.8)\r\n"
     ]
    },
    {
     "name": "stdout",
     "output_type": "stream",
     "text": [
      "Downloading memory_profiler-0.61.0-py3-none-any.whl (31 kB)\r\n"
     ]
    },
    {
     "name": "stdout",
     "output_type": "stream",
     "text": [
      "Installing collected packages: memory_profiler\r\n"
     ]
    },
    {
     "name": "stdout",
     "output_type": "stream",
     "text": [
      "Successfully installed memory_profiler-0.61.0\r\n"
     ]
    }
   ],
   "source": [
    "!pip install memory_profiler\n",
    "%load_ext memory_profiler"
   ]
  },
  {
   "cell_type": "code",
   "execution_count": 2,
   "id": "97f2481f",
   "metadata": {
    "execution": {
     "iopub.execute_input": "2024-04-10T13:05:21.441408Z",
     "iopub.status.busy": "2024-04-10T13:05:21.440766Z",
     "iopub.status.idle": "2024-04-10T13:05:23.929488Z",
     "shell.execute_reply": "2024-04-10T13:05:23.928783Z"
    }
   },
   "outputs": [],
   "source": [
    "import warnings\n",
    "import os\n",
    "os.environ['TF_CPP_MIN_LOG_LEVEL'] = '3'\n",
    "from tensorflow import get_logger\n",
    "get_logger().setLevel('ERROR')\n",
    "warnings.filterwarnings(\"ignore\", message=\"Setting the random state for TF\")"
   ]
  },
  {
   "cell_type": "code",
   "execution_count": 3,
   "id": "19474d4d",
   "metadata": {
    "execution": {
     "iopub.execute_input": "2024-04-10T13:05:23.933188Z",
     "iopub.status.busy": "2024-04-10T13:05:23.932494Z",
     "iopub.status.idle": "2024-04-10T13:05:23.937726Z",
     "shell.execute_reply": "2024-04-10T13:05:23.937144Z"
    }
   },
   "outputs": [],
   "source": [
    "try:\n",
    "    import scikeras\n",
    "except ImportError:\n",
    "    !python -m pip install scikeras"
   ]
  },
  {
   "cell_type": "code",
   "execution_count": 4,
   "id": "1ddb934e",
   "metadata": {
    "execution": {
     "iopub.execute_input": "2024-04-10T13:05:23.940765Z",
     "iopub.status.busy": "2024-04-10T13:05:23.940316Z",
     "iopub.status.idle": "2024-04-10T13:05:24.245779Z",
     "shell.execute_reply": "2024-04-10T13:05:24.245135Z"
    }
   },
   "outputs": [],
   "source": [
    "import scipy\n",
    "import numpy as np\n",
    "from scikeras.wrappers import KerasRegressor\n",
    "from sklearn.preprocessing import OneHotEncoder\n",
    "from sklearn.pipeline import Pipeline\n",
    "import keras"
   ]
  },
  {
   "cell_type": "markdown",
   "id": "d81ef277",
   "metadata": {},
   "source": [
    "## Data\n",
    "\n",
    "The dataset we'll be using is designed to demostrate a worst-case/best-case scenario for dense and sparse input features respectively.\n",
    "It consists of a single categorical feature with equal number of categories as rows.\n",
    "This means the one-hot encoded representation will require as many columns as it does rows, making it very ineffienct to store as a dense matrix but very efficient to store as a sparse matrix."
   ]
  },
  {
   "cell_type": "code",
   "execution_count": 5,
   "id": "d889c5e6",
   "metadata": {
    "execution": {
     "iopub.execute_input": "2024-04-10T13:05:24.249002Z",
     "iopub.status.busy": "2024-04-10T13:05:24.248217Z",
     "iopub.status.idle": "2024-04-10T13:05:24.252433Z",
     "shell.execute_reply": "2024-04-10T13:05:24.251920Z"
    }
   },
   "outputs": [],
   "source": [
    "N_SAMPLES = 20_000  # hand tuned to be ~4GB peak\n",
    "\n",
    "X = np.arange(0, N_SAMPLES).reshape(-1, 1)\n",
    "y = np.random.uniform(0, 1, size=(X.shape[0],))"
   ]
  },
  {
   "cell_type": "markdown",
   "id": "8493f9d1",
   "metadata": {},
   "source": [
    "## Model\n",
    "\n",
    "The model here is nothing special, just a basic multilayer perceptron with one hidden layer."
   ]
  },
  {
   "cell_type": "code",
   "execution_count": 6,
   "id": "52cbc6d6",
   "metadata": {
    "execution": {
     "iopub.execute_input": "2024-04-10T13:05:24.254849Z",
     "iopub.status.busy": "2024-04-10T13:05:24.254468Z",
     "iopub.status.idle": "2024-04-10T13:05:24.258178Z",
     "shell.execute_reply": "2024-04-10T13:05:24.257595Z"
    }
   },
   "outputs": [],
   "source": [
    "def get_clf(meta) -> keras.Model:\n",
    "    n_features_in_ = meta[\"n_features_in_\"]\n",
    "    model = keras.models.Sequential()\n",
    "    model.add(keras.layers.Input(shape=(n_features_in_,)))\n",
    "    # a single hidden layer\n",
    "    model.add(keras.layers.Dense(100, activation=\"relu\"))\n",
    "    model.add(keras.layers.Dense(1))\n",
    "    return model"
   ]
  },
  {
   "cell_type": "markdown",
   "id": "85006de1",
   "metadata": {},
   "source": [
    "## Pipelines\n",
    "\n",
    "Here is where it gets interesting.\n",
    "We make two Scikit-Learn pipelines that use `OneHotEncoder`: one that uses `sparse_output=False` to force a dense matrix as the output and another that uses `sparse_output=True` (the default)."
   ]
  },
  {
   "cell_type": "code",
   "execution_count": 7,
   "id": "9e0d27cc",
   "metadata": {
    "execution": {
     "iopub.execute_input": "2024-04-10T13:05:24.260729Z",
     "iopub.status.busy": "2024-04-10T13:05:24.260239Z",
     "iopub.status.idle": "2024-04-10T13:05:24.264626Z",
     "shell.execute_reply": "2024-04-10T13:05:24.264127Z"
    }
   },
   "outputs": [],
   "source": [
    "dense_pipeline = Pipeline(\n",
    "    [\n",
    "        (\"encoder\", OneHotEncoder(sparse_output=False)),\n",
    "        (\"model\", KerasRegressor(get_clf, loss=\"mse\", epochs=5, verbose=False))\n",
    "    ]\n",
    ")\n",
    "\n",
    "sparse_pipeline = Pipeline(\n",
    "    [\n",
    "        (\"encoder\", OneHotEncoder(sparse_output=True)),\n",
    "        (\"model\", KerasRegressor(get_clf, loss=\"mse\", epochs=5, verbose=False))\n",
    "    ]\n",
    ")"
   ]
  },
  {
   "cell_type": "markdown",
   "id": "41a553f3",
   "metadata": {},
   "source": [
    "## Benchmark\n",
    "\n",
    "Our benchmark will be to just train each one of these pipelines and measure peak memory consumption."
   ]
  },
  {
   "cell_type": "code",
   "execution_count": 8,
   "id": "a73f8893",
   "metadata": {
    "execution": {
     "iopub.execute_input": "2024-04-10T13:05:24.267198Z",
     "iopub.status.busy": "2024-04-10T13:05:24.266611Z",
     "iopub.status.idle": "2024-04-10T13:06:02.510376Z",
     "shell.execute_reply": "2024-04-10T13:06:02.509557Z"
    }
   },
   "outputs": [
    {
     "name": "stdout",
     "output_type": "stream",
     "text": [
      "peak memory: 5068.47 MiB, increment: 4545.07 MiB\n"
     ]
    }
   ],
   "source": [
    "%memit dense_pipeline.fit(X, y)"
   ]
  },
  {
   "cell_type": "code",
   "execution_count": 9,
   "id": "be67a19b",
   "metadata": {
    "execution": {
     "iopub.execute_input": "2024-04-10T13:06:02.513461Z",
     "iopub.status.busy": "2024-04-10T13:06:02.512972Z",
     "iopub.status.idle": "2024-04-10T13:06:15.654611Z",
     "shell.execute_reply": "2024-04-10T13:06:15.653290Z"
    }
   },
   "outputs": [
    {
     "name": "stdout",
     "output_type": "stream",
     "text": [
      "peak memory: 1012.30 MiB, increment: 32.68 MiB\n"
     ]
    }
   ],
   "source": [
    "%memit sparse_pipeline.fit(X, y)"
   ]
  },
  {
   "cell_type": "markdown",
   "id": "2e011310",
   "metadata": {},
   "source": [
    "You should see at least 100x more memory consumption **increment** in the dense pipeline."
   ]
  },
  {
   "cell_type": "markdown",
   "id": "809ab0ea",
   "metadata": {},
   "source": [
    "### Runtime\n",
    "\n",
    "Using sparse inputs can have a drastic impact on memory usage, but it often (not always) hurts overall runtime."
   ]
  },
  {
   "cell_type": "code",
   "execution_count": 10,
   "id": "fff60b06",
   "metadata": {
    "execution": {
     "iopub.execute_input": "2024-04-10T13:06:15.658523Z",
     "iopub.status.busy": "2024-04-10T13:06:15.658187Z",
     "iopub.status.idle": "2024-04-10T13:10:54.314830Z",
     "shell.execute_reply": "2024-04-10T13:10:54.314214Z"
    }
   },
   "outputs": [
    {
     "name": "stdout",
     "output_type": "stream",
     "text": [
      "33.5 s ± 9.58 s per loop (mean ± std. dev. of 7 runs, 1 loop each)\n"
     ]
    }
   ],
   "source": [
    "%timeit dense_pipeline.fit(X, y)"
   ]
  },
  {
   "cell_type": "code",
   "execution_count": 11,
   "id": "637e8ec8",
   "metadata": {
    "execution": {
     "iopub.execute_input": "2024-04-10T13:10:54.317379Z",
     "iopub.status.busy": "2024-04-10T13:10:54.317014Z",
     "iopub.status.idle": "2024-04-10T13:12:30.085732Z",
     "shell.execute_reply": "2024-04-10T13:12:30.085091Z"
    }
   },
   "outputs": [
    {
     "name": "stdout",
     "output_type": "stream",
     "text": [
      "12.1 s ± 278 ms per loop (mean ± std. dev. of 7 runs, 1 loop each)\n"
     ]
    }
   ],
   "source": [
    "%timeit sparse_pipeline.fit(X, y)"
   ]
  },
  {
   "cell_type": "markdown",
   "id": "6e4ff530",
   "metadata": {},
   "source": [
    "## Tensorflow Datasets\n",
    "\n",
    "Tensorflow provides a whole suite of functionality around the [Dataset].\n",
    "Datasets are lazily evaluated, can be sparse and minimize the transformations required to feed data into the model.\n",
    "They are _a lot_ more performant and efficient at scale than using numpy datastructures, even sparse ones.\n",
    "\n",
    "SciKeras does not (and cannot) support Datasets directly because Scikit-Learn itself does not support them and SciKeras' outwards API is Scikit-Learn's API.\n",
    "You may want to explore breaking out of SciKeras and just using TensorFlow/Keras directly to see if Datasets can have a large impact for your use case.\n",
    "\n",
    "[Dataset]: https://www.tensorflow.org/api_docs/python/tf/data/Dataset"
   ]
  },
  {
   "cell_type": "markdown",
   "id": "a2480c61",
   "metadata": {},
   "source": [
    "## Bonus: dtypes\n",
    "\n",
    "You might be able to save even more memory by changing the output dtype of `OneHotEncoder`."
   ]
  },
  {
   "cell_type": "code",
   "execution_count": 12,
   "id": "c29ad721",
   "metadata": {
    "execution": {
     "iopub.execute_input": "2024-04-10T13:12:30.088441Z",
     "iopub.status.busy": "2024-04-10T13:12:30.087841Z",
     "iopub.status.idle": "2024-04-10T13:12:30.091270Z",
     "shell.execute_reply": "2024-04-10T13:12:30.090801Z"
    }
   },
   "outputs": [],
   "source": [
    "sparse_pipline_uint8 = Pipeline(\n",
    "    [\n",
    "        (\"encoder\", OneHotEncoder(sparse_output=True, dtype=np.uint8)),\n",
    "        (\"model\", KerasRegressor(get_clf, loss=\"mse\", epochs=5, verbose=False))\n",
    "    ]\n",
    ")"
   ]
  },
  {
   "cell_type": "code",
   "execution_count": 13,
   "id": "60c85201",
   "metadata": {
    "execution": {
     "iopub.execute_input": "2024-04-10T13:12:30.093371Z",
     "iopub.status.busy": "2024-04-10T13:12:30.093043Z",
     "iopub.status.idle": "2024-04-10T13:12:42.908610Z",
     "shell.execute_reply": "2024-04-10T13:12:42.907954Z"
    }
   },
   "outputs": [
    {
     "name": "stdout",
     "output_type": "stream",
     "text": [
      "peak memory: 1061.96 MiB, increment: 22.96 MiB\n"
     ]
    }
   ],
   "source": [
    "%memit sparse_pipline_uint8.fit(X, y)"
   ]
  }
 ],
 "metadata": {
  "jupytext": {
   "formats": "ipynb,md"
  },
  "kernelspec": {
   "display_name": "Python 3 (ipykernel)",
   "language": "python",
   "name": "python3"
  },
  "language_info": {
   "codemirror_mode": {
    "name": "ipython",
    "version": 3
   },
   "file_extension": ".py",
   "mimetype": "text/x-python",
   "name": "python",
   "nbconvert_exporter": "python",
   "pygments_lexer": "ipython3",
   "version": "3.12.2"
  }
 },
 "nbformat": 4,
 "nbformat_minor": 5
}
