{
  "nbformat": 4,
  "nbformat_minor": 0,
  "metadata": {
    "kernelspec": {
      "display_name": "Python 3",
      "language": "python",
      "name": "python3"
    },
    "language_info": {
      "codemirror_mode": {
        "name": "ipython",
        "version": 3
      },
      "file_extension": ".py",
      "mimetype": "text/x-python",
      "name": "python",
      "nbconvert_exporter": "python",
      "pygments_lexer": "ipython3",
      "version": "3.8.5-final"
    },
    "colab": {
      "name": "MLPClassifier_MLPRegressor.ipynb",
      "provenance": [],
      "collapsed_sections": []
    }
  },
  "cells": [
    {
      "cell_type": "markdown",
      "metadata": {
        "id": "z22BE9uhvoxO"
      },
      "source": [
        "# MLPClassifier and MLPRegressor in SciKeras"
      ]
    },
    {
      "cell_type": "markdown",
      "metadata": {
        "id": "hapoJed-voxP"
      },
      "source": [
        "SciKeras is a bridge between Keras and Scikit-Learn. As such, one of SciKeras' design goals is to be able to create a Scikit-Learn style estimator backed by Keras. \n",
        "\n",
        "This notebook implements an estimator that is analogous to `sklearn.neural_network.MLPClassifier` using Keras. This estimator should (for the most part) work as a drop-in replacement for `MLPClassifier`!\n",
        "\n",
        "<table align=\"left\"><td>\n",
        "<a target=\"_blank\" href=\"https://colab.research.google.com/github/adriangb/scikeras/blob/master/notebooks/MLPClassifier_and_MLPRegressor.ipynb\">\n",
        "    <img src=\"https://www.tensorflow.org/images/colab_logo_32px.png\" />Run in Google Colab</a>  \n",
        "</td><td>\n",
        "<a target=\"_blank\" href=\"https://github.com/adriangb/scikeras/blob/master/notebooks/MLPClassifier_and_MLPRegressor.ipynb\"><img width=32px src=\"https://www.tensorflow.org/images/GitHub-Mark-32px.png\" />View source on GitHub</a></td></table>"
      ]
    },
    {
      "cell_type": "markdown",
      "metadata": {
        "id": "iT-ibpi7voxQ"
      },
      "source": [
        "### Table of contents"
      ]
    },
    {
      "cell_type": "markdown",
      "metadata": {
        "id": "ekJWKPFMvoxR"
      },
      "source": [
        "* [Defining the Keras Model](#Defining-the-Keras-Model)\n",
        "  * [Inputs](#Inputs)\n",
        "  * [Hidden layers](#Hidden-layers)\n",
        "  * [Output layers](#Training-the-neural-net-classifier)\n",
        "  * [Losses and optimizer](#Losses-and-optimizer)\n",
        "  * [Wrapping with SciKeras](#Wrapping-with-scikeras)\n",
        "* [Testing Classifier](#Testing-our-classifier)\n",
        "* [Self contained MLPClassifier](#Self-contained-MLPClassifier)\n",
        "  * [Subclassing](#Subclassing)\n",
        "* [MLPRegressor](#MLPRegressor)"
      ]
    },
    {
      "cell_type": "markdown",
      "metadata": {
        "id": "6avb3GBQDQyG"
      },
      "source": [
        "Install SciKeras"
      ]
    },
    {
      "cell_type": "code",
      "metadata": {
        "id": "qCcyTjVkvoxR"
      },
      "source": [
        "!python -m pip install scikeras"
      ],
      "execution_count": null,
      "outputs": []
    },
    {
      "cell_type": "markdown",
      "metadata": {
        "id": "EZveNcetDQyL"
      },
      "source": [
        "Silence TensorFlow logging to keep output succint."
      ]
    },
    {
      "cell_type": "code",
      "metadata": {
        "id": "ekNmO_GPDQyL"
      },
      "source": [
        "import warnings\n",
        "from tensorflow import get_logger\n",
        "get_logger().setLevel('ERROR')\n",
        "warnings.filterwarnings(\"ignore\", message=\"Setting the random state for TF\")"
      ],
      "execution_count": 38,
      "outputs": []
    },
    {
      "cell_type": "code",
      "metadata": {
        "id": "Sf4j-x4DvoxV"
      },
      "source": [
        "from typing import Dict, Iterable, Any\n",
        "\n",
        "import numpy as np\n",
        "from scikeras.wrappers import KerasClassifier, KerasRegressor\n",
        "from tensorflow import keras"
      ],
      "execution_count": 39,
      "outputs": []
    },
    {
      "cell_type": "markdown",
      "metadata": {
        "id": "hCuOBH8AvoxX"
      },
      "source": [
        "## Defining the Keras Model"
      ]
    },
    {
      "cell_type": "markdown",
      "metadata": {
        "id": "i3fAUKBUvoxY"
      },
      "source": [
        "First, we outline our model building function, using a `Sequential` Model:"
      ]
    },
    {
      "cell_type": "code",
      "metadata": {
        "id": "QM74xeoe-1S-"
      },
      "source": [
        "def get_clf_model():\n",
        "    model = keras.Sequential()\n",
        "    return model"
      ],
      "execution_count": 40,
      "outputs": []
    },
    {
      "cell_type": "markdown",
      "metadata": {
        "id": "Q5vMC8ZYvoxY"
      },
      "source": [
        "### Inputs"
      ]
    },
    {
      "cell_type": "markdown",
      "metadata": {
        "id": "9SiqbvT2-1TC"
      },
      "source": [
        "We need to define an input layer for Keras. SciKeras allows you to dynamically determine the input size based on the features (`X`). To do this, you need to add the `meta` parameter to `get_clf_model`'s parameters. `meta` will be a dictionary with all of the `meta` attributes that `KerasClassifier` generates during the `fit` call, including `n_features_in_`, which we will use to dynamically size the input layer."
      ]
    },
    {
      "cell_type": "code",
      "metadata": {
        "id": "AmiOhALIvoxZ"
      },
      "source": [
        "def get_clf_model(meta: dict):\n",
        "    model = keras.Sequential()\n",
        "    inp = keras.layers.Input(shape=(meta[\"n_features_in_\"]))\n",
        "    model.add(inp)\n",
        "    return model"
      ],
      "execution_count": 41,
      "outputs": []
    },
    {
      "cell_type": "markdown",
      "metadata": {
        "id": "EPy_6ZDjvoxh"
      },
      "source": [
        "### Hidden Layers"
      ]
    },
    {
      "cell_type": "markdown",
      "metadata": {
        "id": "0BQ6Afd-voxh"
      },
      "source": [
        "Multilayer perceptrons are generally composed of an input layer, an output layer and 0 or more hidden layers. The size of the hidden layers is specified via the `hidden_layer_sizes` parameter in MLClassifier, where the the ith element represents the number of neurons in the ith hidden layer. Let's add that parameter:"
      ]
    },
    {
      "cell_type": "code",
      "metadata": {
        "id": "ZS97y5OAvoxi"
      },
      "source": [
        "def get_clf_model(hidden_layer_sizes: Iterable[int], meta: dict):\n",
        "    model = keras.Sequential()\n",
        "    inp = keras.layers.Input(shape=(meta[\"n_features_in_\"]))\n",
        "    model.add(inp)\n",
        "    for hidden_layer_size in hidden_layer_sizes:\n",
        "        layer = keras.layers.Dense(hidden_layer_size, activation=\"relu\")\n",
        "        model.add(layer)\n",
        "    return model"
      ],
      "execution_count": 42,
      "outputs": []
    },
    {
      "cell_type": "markdown",
      "metadata": {
        "id": "jSPxzYz7-1TI"
      },
      "source": [
        "### Output layers"
      ]
    },
    {
      "cell_type": "markdown",
      "metadata": {
        "id": "sMLCB48b-1TJ"
      },
      "source": [
        "The output layer needs to reflect the type of classification task being performed. Here, we will handle 2 cases:\n",
        "* binary classification: single output unit with sigmoid activation\n",
        "* multiclass classification: one output unit for each class, with softmax activation\n",
        "The main complication arises from determining which one to use. Like with the input features, SciKeras provides useful information on the target within the `meta` parameter. Specifically, we will use the `n_classes_` and `target_type_` attributes to determine the number of output units and activation function."
      ]
    },
    {
      "cell_type": "code",
      "metadata": {
        "id": "Y6YrdtoXvoxl"
      },
      "source": [
        "def get_clf_model(hidden_layer_sizes: Iterable[int], meta: dict):\n",
        "    model = keras.Sequential()\n",
        "    inp = keras.layers.Input(shape=(meta[\"n_features_in_\"]))\n",
        "    model.add(inp)\n",
        "    for hidden_layer_size in hidden_layer_sizes:\n",
        "        layer = keras.layers.Dense(hidden_layer_size, activation=\"relu\")\n",
        "        model.add(layer)\n",
        "    if meta[\"target_type_\"] == \"binary\":\n",
        "        n_output_units = 1\n",
        "        output_activation = \"sigmoid\"\n",
        "    elif meta[\"target_type_\"] == \"multiclass\":\n",
        "        n_output_units = meta[\"n_classes_\"]\n",
        "        output_activation = \"softmax\"\n",
        "    else:\n",
        "        raise NotImplementedError(f\"Unsupported task type: {meta['target_type_']}\")\n",
        "    out = keras.layers.Dense(n_output_units, activation=output_activation)\n",
        "    model.add(out)\n",
        "    return model"
      ],
      "execution_count": 43,
      "outputs": []
    },
    {
      "cell_type": "markdown",
      "metadata": {
        "id": "Ifg1ROV8-1TL"
      },
      "source": [
        "For now, we raise a `NotImplementedError` for other target types. For an example handling multi-output target types, see the [Multi Output notebook](https://colab.research.google.com/github/adriangb/scikeras/blob/master/notebooks/MultiInput.ipynb)."
      ]
    },
    {
      "cell_type": "markdown",
      "metadata": {
        "id": "_g-7ru5dvoxo"
      },
      "source": [
        "### Losses and optimizer"
      ]
    },
    {
      "cell_type": "markdown",
      "metadata": {
        "id": "BzswcGamvoxo"
      },
      "source": [
        "Like the output layer, the loss must match the type of classification task. Generally, it is easier and safet to allow SciKeras to compile your model for you by passing the loss to `KerasClassifier` directly (`KerasClassifier(loss=\"binary_crossentropy\")`). However, in order to implement custom logic around the choice of loss function, we compile the model ourselves within `get_clf_model`; SciKeras will not re-compile the model."
      ]
    },
    {
      "cell_type": "code",
      "metadata": {
        "id": "C83MtFdIvoxp"
      },
      "source": [
        "def get_clf_model(hidden_layer_sizes: Iterable[int], meta: dict):\n",
        "    model = keras.Sequential()\n",
        "    inp = keras.layers.Input(shape=(meta[\"n_features_in_\"]))\n",
        "    model.add(inp)\n",
        "    for hidden_layer_size in hidden_layer_sizes:\n",
        "        layer = keras.layers.Dense(hidden_layer_size, activation=\"relu\")\n",
        "        model.add(layer)\n",
        "    if meta[\"target_type_\"] == \"binary\":\n",
        "        n_output_units = 1\n",
        "        output_activation = \"sigmoid\"\n",
        "        loss = \"binary_crossentropy\"\n",
        "    elif meta[\"target_type_\"] == \"multiclass\":\n",
        "        n_output_units = meta[\"n_classes_\"]\n",
        "        output_activation = \"softmax\"\n",
        "        loss = \"sparse_categorical_crossentropy\"\n",
        "    else:\n",
        "        raise NotImplementedError(f\"Unsupported task type: {meta['target_type_']}\")\n",
        "    out = keras.layers.Dense(n_output_units, activation=output_activation)\n",
        "    model.add(out)\n",
        "    model.compile(loss=loss)\n",
        "    return model"
      ],
      "execution_count": 44,
      "outputs": []
    },
    {
      "cell_type": "markdown",
      "metadata": {
        "id": "XFyrnA9z-1TO"
      },
      "source": [
        "At this point, we have a valid, compiled model. However if we want to be able to tune the optimizer, we should accept `compile_kwargs` as a parameter in `get_clf_model`. `compile_kwargs` will be a dictionary containing valid `kwargs` for `Model.compile`, so we can unpack it directly like `model.compile(**compile_kwargs)`. In this case however, we will only be taking the `optimizer` kwarg."
      ]
    },
    {
      "cell_type": "code",
      "metadata": {
        "id": "8AEHN7jrvoxr"
      },
      "source": [
        "def get_clf_model(hidden_layer_sizes: Iterable[int], meta: Dict[str, Any], compile_kwargs: Dict[str, Any]):\n",
        "    model = keras.Sequential()\n",
        "    inp = keras.layers.Input(shape=(meta[\"n_features_in_\"]))\n",
        "    model.add(inp)\n",
        "    for hidden_layer_size in hidden_layer_sizes:\n",
        "        layer = keras.layers.Dense(hidden_layer_size, activation=\"relu\")\n",
        "        model.add(layer)\n",
        "    if meta[\"target_type_\"] == \"binary\":\n",
        "        n_output_units = 1\n",
        "        output_activation = \"sigmoid\"\n",
        "        loss = \"binary_crossentropy\"\n",
        "    elif meta[\"target_type_\"] == \"multiclass\":\n",
        "        n_output_units = meta[\"n_classes_\"]\n",
        "        output_activation = \"softmax\"\n",
        "        loss = \"sparse_categorical_crossentropy\"\n",
        "    else:\n",
        "        raise NotImplementedError(f\"Unsupported task type: {meta['target_type_']}\")\n",
        "    out = keras.layers.Dense(n_output_units, activation=output_activation)\n",
        "    model.add(out)\n",
        "    model.compile(loss=loss, optimizer=compile_kwargs[\"optimizer\"])\n",
        "    return model"
      ],
      "execution_count": 45,
      "outputs": []
    },
    {
      "cell_type": "markdown",
      "metadata": {
        "id": "lNz5uY-v-1TQ"
      },
      "source": [
        "### Wrapping with SciKeras"
      ]
    },
    {
      "cell_type": "markdown",
      "metadata": {
        "id": "W5rrSfES-1TQ"
      },
      "source": [
        "Our last step in defining our model is to wrap it with SciKeras. A couple of things to note are:\n",
        "* Every user-defined parameter in `model`/`get_clf_model` (in our case just `hidden_layer_sizes`) must be defined as a keyword argument to `KerasClassifier` with a default value.\n",
        "* Keras defaults to `\"rmsprop\"` for `optimizer`. We set it to `\"adam\"` to mimic MLPClassifier.\n",
        "* We set the learning rate for the optimizer to `0.001`, again to mimic MLPClassifier. We set this parameter using [parameter routing](https://scikeras.readthedocs.io/en/latest/advanced.html#routed-parameters).\n",
        "* Other parameters, such as `activation`, can be added similar to `hidden_layer_sizes`, but we omit them here for simplicity."
      ]
    },
    {
      "cell_type": "code",
      "metadata": {
        "id": "azbKtjtd-1TR"
      },
      "source": [
        "clf = KerasClassifier(\n",
        "    model=get_clf_model,\n",
        "    hidden_layer_sizes=(100, ),\n",
        "    optimizer=\"adam\",\n",
        "    optimizer__learning_rate=0.001,\n",
        "    epochs=200,\n",
        "    verbose=0,\n",
        ")"
      ],
      "execution_count": 46,
      "outputs": []
    },
    {
      "cell_type": "markdown",
      "metadata": {
        "id": "Pznw-f0v-1TU"
      },
      "source": [
        "## Testing our classifier"
      ]
    },
    {
      "cell_type": "markdown",
      "metadata": {
        "id": "p0uSTuc-voxu"
      },
      "source": [
        "Before continouing, we will run a small test to make sure we get somewhat reasonable results."
      ]
    },
    {
      "cell_type": "code",
      "metadata": {
        "id": "NPOO7tO6-1TV"
      },
      "source": [
        "from sklearn.datasets import make_classification\n",
        "from sklearn.model_selection import cross_val_score"
      ],
      "execution_count": 47,
      "outputs": []
    },
    {
      "cell_type": "code",
      "metadata": {
        "scrolled": false,
        "id": "V5MfyQuPvoxu",
        "outputId": "22fcdda9-87f7-43e4-e133-6c9d553d8555",
        "colab": {
          "base_uri": "https://localhost:8080/",
          "height": 34
        }
      },
      "source": [
        "X, y = make_classification()\n",
        "\n",
        "# check that fit works\n",
        "clf.fit(X, y)\n",
        "# check cross-validation score\n",
        "print(np.mean(cross_val_score(clf, X, y)))"
      ],
      "execution_count": 48,
      "outputs": [
        {
          "output_type": "stream",
          "text": [
            "0.7799999999999999\n"
          ],
          "name": "stdout"
        }
      ]
    },
    {
      "cell_type": "markdown",
      "metadata": {
        "id": "3c420jeQA3FP"
      },
      "source": [
        "We get a score above 0.7, which is reasonable and indicates that our classifier is generally working."
      ]
    },
    {
      "cell_type": "markdown",
      "metadata": {
        "id": "3hIbc-x3Bg0w"
      },
      "source": [
        "## Self contained MLPClassifier"
      ]
    },
    {
      "cell_type": "markdown",
      "metadata": {
        "id": "T7XoG2NOBj2d"
      },
      "source": [
        "You will have noticed that up until now, we define our Keras model in a function and pass that function to `KerasClassifier` via the `model` argument.\n",
        "\n",
        "This is convenient, but it does not give us a self-contained class that we could package within a module for users to instantiate. To do that, we need to subclass `KerasClassifier`."
      ]
    },
    {
      "cell_type": "markdown",
      "metadata": {
        "id": "Qjf3TUINB24o"
      },
      "source": [
        "### Subclassing"
      ]
    },
    {
      "cell_type": "markdown",
      "metadata": {
        "id": "YTpWqc9gB639"
      },
      "source": [
        "By subclassing KerasClassifier, you can embed your Keras model into directly into your estimator class. We start by inheriting from KerasClassifier and defining an `__init__` method with all of our parameters."
      ]
    },
    {
      "cell_type": "code",
      "metadata": {
        "id": "msW8lsZzCa2r"
      },
      "source": [
        "class MLPClassifier(KerasClassifier):\n",
        "\n",
        "    def __init__(\n",
        "        self,\n",
        "        hidden_layer_sizes=(100, ),\n",
        "        optimizer=\"adam\",\n",
        "        optimizer__learning_rate=0.001,\n",
        "        epochs=200,\n",
        "        verbose=0,\n",
        "        **kwargs\n",
        "    ):\n",
        "        super().__init__(**kwargs)\n",
        "        self.hidden_layer_sizes = hidden_layer_sizes\n",
        "        self.optimizer = optimizer\n",
        "        self.epochs = epochs\n",
        "        self.verbose = verbose"
      ],
      "execution_count": 49,
      "outputs": []
    },
    {
      "cell_type": "markdown",
      "metadata": {
        "id": "goW8HzLNC0JM"
      },
      "source": [
        "Next, we will embed our model into `_keras_build_fn`, which takes the place of `get_clf_model`. Note that since this is now an part of the model, we no longer need to accept the any parameters in the function signature. We still accept `compile_kwargs` because we use it to get the optimizer initialized with all of it's parameters."
      ]
    },
    {
      "cell_type": "code",
      "metadata": {
        "id": "kWS5ivzEDGEG"
      },
      "source": [
        "class MLPClassifier(KerasClassifier):\n",
        "\n",
        "    def __init__(\n",
        "        self,\n",
        "        hidden_layer_sizes=(100, ),\n",
        "        optimizer=\"adam\",\n",
        "        optimizer__learning_rate=0.001,\n",
        "        epochs=200,\n",
        "        verbose=0,\n",
        "        **kwargs,\n",
        "    ):\n",
        "        super().__init__(**kwargs)\n",
        "        self.hidden_layer_sizes = hidden_layer_sizes\n",
        "        self.optimizer = optimizer\n",
        "        self.epochs = epochs\n",
        "        self.verbose = verbose\n",
        "\n",
        "    def _keras_build_fn(self, compile_kwargs: Dict[str, Any]):\n",
        "        model = keras.Sequential()\n",
        "        inp = keras.layers.Input(shape=(self.n_features_in_))\n",
        "        model.add(inp)\n",
        "        for hidden_layer_size in self.hidden_layer_sizes:\n",
        "            layer = keras.layers.Dense(hidden_layer_size, activation=\"relu\")\n",
        "            model.add(layer)\n",
        "        if self.target_type_ == \"binary\":\n",
        "            n_output_units = 1\n",
        "            output_activation = \"sigmoid\"\n",
        "            loss = \"binary_crossentropy\"\n",
        "        elif self.target_type_ == \"multiclass\":\n",
        "            n_output_units = self.n_classes_\n",
        "            output_activation = \"softmax\"\n",
        "            loss = \"sparse_categorical_crossentropy\"\n",
        "        else:\n",
        "            raise NotImplementedError(f\"Unsupported task type: {self.target_type_}\")\n",
        "        out = keras.layers.Dense(n_output_units, activation=output_activation)\n",
        "        model.add(out)\n",
        "        model.compile(loss=loss, optimizer=compile_kwargs[\"optimizer\"])\n",
        "        return model"
      ],
      "execution_count": 50,
      "outputs": []
    },
    {
      "cell_type": "markdown",
      "metadata": {
        "id": "nj8-HrAXLUFl"
      },
      "source": [
        "Let's check that our subclassed model works:"
      ]
    },
    {
      "cell_type": "code",
      "metadata": {
        "id": "bH6v1nlBEO0e",
        "outputId": "57624858-82a2-41f8-d3c9-2eff506283a7",
        "colab": {
          "base_uri": "https://localhost:8080/",
          "height": 34
        }
      },
      "source": [
        "clf = MLPClassifier()\n",
        "\n",
        "# check cross-validation score\n",
        "print(np.mean(cross_val_score(clf, X, y)))"
      ],
      "execution_count": 51,
      "outputs": [
        {
          "output_type": "stream",
          "text": [
            "0.7799999999999999\n"
          ],
          "name": "stdout"
        }
      ]
    },
    {
      "cell_type": "markdown",
      "metadata": {
        "id": "7356CXr9LTZs"
      },
      "source": [
        "## MLPRegressor"
      ]
    },
    {
      "cell_type": "markdown",
      "metadata": {
        "id": "A6eZIomwL6CO"
      },
      "source": [
        "The process for MLPRegressor is similar, we only change the loss function and output layers."
      ]
    },
    {
      "cell_type": "code",
      "metadata": {
        "id": "hM_9mo1GLqCN"
      },
      "source": [
        "class MLPRegressor(KerasRegressor):\n",
        "\n",
        "    def __init__(\n",
        "        self,\n",
        "        hidden_layer_sizes=(100, ),\n",
        "        optimizer=\"adam\",\n",
        "        optimizer__learning_rate=0.001,\n",
        "        epochs=200,\n",
        "        verbose=0,\n",
        "        **kwargs,\n",
        "    ):\n",
        "        super().__init__(**kwargs)\n",
        "        self.hidden_layer_sizes = hidden_layer_sizes\n",
        "        self.optimizer = optimizer\n",
        "        self.epochs = epochs\n",
        "        self.verbose = verbose\n",
        "\n",
        "    def _keras_build_fn(self, compile_kwargs: Dict[str, Any]):\n",
        "        model = keras.Sequential()\n",
        "        inp = keras.layers.Input(shape=(self.n_features_in_))\n",
        "        model.add(inp)\n",
        "        for hidden_layer_size in self.hidden_layer_sizes:\n",
        "            layer = keras.layers.Dense(hidden_layer_size, activation=\"relu\")\n",
        "            model.add(layer)\n",
        "        out = keras.layers.Dense(1)\n",
        "        model.add(out)\n",
        "        model.compile(loss=\"mse\", optimizer=compile_kwargs[\"optimizer\"])\n",
        "        return model"
      ],
      "execution_count": 52,
      "outputs": []
    },
    {
      "cell_type": "code",
      "metadata": {
        "id": "guXmLC74NYEe"
      },
      "source": [
        "from sklearn.datasets import make_regression"
      ],
      "execution_count": 53,
      "outputs": []
    },
    {
      "cell_type": "code",
      "metadata": {
        "id": "LoBw4oLUMdSD",
        "outputId": "dab6ea19-7de5-4c1b-885d-d04d9a6a7210",
        "colab": {
          "base_uri": "https://localhost:8080/",
          "height": 34
        }
      },
      "source": [
        "reg = MLPRegressor()\n",
        "\n",
        "# Define a simple linear relationship\n",
        "y = np.arange(100)\n",
        "X = (y/2).reshape(-1, 1)\n",
        "\n",
        "# check cross-validation score\n",
        "print(np.mean(cross_val_score(reg, X, y)))"
      ],
      "execution_count": 54,
      "outputs": [
        {
          "output_type": "stream",
          "text": [
            "0.9867744638978057\n"
          ],
          "name": "stdout"
        }
      ]
    }
  ]
}