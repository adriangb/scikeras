{
  "nbformat": 4,
  "nbformat_minor": 0,
  "metadata": {
    "kernelspec": {
      "display_name": "Python 3",
      "language": "python",
      "name": "python3"
    },
    "language_info": {
      "codemirror_mode": {
        "name": "ipython",
        "version": 3
      },
      "file_extension": ".py",
      "mimetype": "text/x-python",
      "name": "python",
      "nbconvert_exporter": "python",
      "pygments_lexer": "ipython3",
      "version": "3.8.5-final"
    },
    "colab": {
      "name": "Meta_Estimators.ipynb",
      "provenance": [],
      "collapsed_sections": []
    }
  },
  "cells": [
    {
      "cell_type": "markdown",
      "metadata": {
        "id": "z22BE9uhvoxO"
      },
      "source": [
        "# Meta Estimators in SciKeras"
      ]
    },
    {
      "cell_type": "markdown",
      "metadata": {
        "id": "hapoJed-voxP"
      },
      "source": [
        "In this notebook, we implement sklearn ensemble and tree meta-estimators backed by a Keras MLP model.\n",
        "\n",
        "<table align=\"left\"><td>\n",
        "<a target=\"_blank\" href=\"https://colab.research.google.com/github/adriangb/scikeras/blob/master/notebooks/Meta_Estimators.ipyn\">\n",
        "    <img src=\"https://www.tensorflow.org/images/colab_logo_32px.png\" />Run in Google Colab</a>  \n",
        "</td><td>\n",
        "<a target=\"_blank\" href=\"https://github.com/adriangb/scikeras/blob/master/notebooks/Meta_Estimators.ipynb\"><img width=32px src=\"https://www.tensorflow.org/images/GitHub-Mark-32px.png\" />View source on GitHub</a></td></table>"
      ]
    },
    {
      "cell_type": "markdown",
      "metadata": {
        "id": "iT-ibpi7voxQ"
      },
      "source": [
        "### Table of contents"
      ]
    },
    {
      "cell_type": "markdown",
      "metadata": {
        "id": "ekJWKPFMvoxR"
      },
      "source": [
        "* [Defining the Keras Model](#Defining-the-Keras-Model)\n",
        "* [Building a boosting ensemble](#Building-a-boosting-ensemble)\n",
        "* [Testing with a toy dataset](#Testing-with-a-toy-dataset)\n",
        "* [Bagging ensemble](#Bagging-ensemble)"
      ]
    },
    {
      "cell_type": "markdown",
      "metadata": {
        "id": "6avb3GBQDQyG"
      },
      "source": [
        "Install SciKeras"
      ]
    },
    {
      "cell_type": "code",
      "metadata": {
        "id": "qCcyTjVkvoxR"
      },
      "source": [
        "!python -m pip install scikeras"
      ],
      "execution_count": null,
      "outputs": []
    },
    {
      "cell_type": "markdown",
      "metadata": {
        "id": "EZveNcetDQyL"
      },
      "source": [
        "Silence TensorFlow warnings to keep output succint."
      ]
    },
    {
      "cell_type": "code",
      "metadata": {
        "id": "ekNmO_GPDQyL"
      },
      "source": [
        "import warnings\n",
        "from tensorflow import get_logger\n",
        "get_logger().setLevel('ERROR')\n",
        "warnings.filterwarnings(\"ignore\", message=\"Setting the random state for TF\")"
      ],
      "execution_count": 14,
      "outputs": []
    },
    {
      "cell_type": "code",
      "metadata": {
        "id": "Sf4j-x4DvoxV"
      },
      "source": [
        "from typing import Dict, Iterable, Any\n",
        "\n",
        "import numpy as np\n",
        "from scikeras.wrappers import KerasClassifier, KerasRegressor\n",
        "from tensorflow import keras"
      ],
      "execution_count": 3,
      "outputs": []
    },
    {
      "cell_type": "markdown",
      "metadata": {
        "id": "hCuOBH8AvoxX"
      },
      "source": [
        "## Defining the Keras Model"
      ]
    },
    {
      "cell_type": "markdown",
      "metadata": {
        "id": "i3fAUKBUvoxY"
      },
      "source": [
        "We borrow our MLPClassifier implementation from the [MLPClassifier notebook](https://colab.research.google.com/github/adriangb/scikeras/blob/master/notebooks/MLPClassifier_and_MLPRegressor.ipynb)."
      ]
    },
    {
      "cell_type": "code",
      "metadata": {
        "id": "QM74xeoe-1S-"
      },
      "source": [
        "def get_clf_model(hidden_layer_sizes: Iterable[int], meta: Dict[str, Any], compile_kwargs: Dict[str, Any]):\n",
        "    model = keras.Sequential()\n",
        "    inp = keras.layers.Input(shape=(meta[\"n_features_in_\"]))\n",
        "    model.add(inp)\n",
        "    for hidden_layer_size in hidden_layer_sizes:\n",
        "        layer = keras.layers.Dense(hidden_layer_size, activation=\"relu\")\n",
        "        model.add(layer)\n",
        "    if meta[\"target_type_\"] == \"binary\":\n",
        "        n_output_units = 1\n",
        "        output_activation = \"sigmoid\"\n",
        "        loss = \"binary_crossentropy\"\n",
        "    elif meta[\"target_type_\"] == \"multiclass\":\n",
        "        n_output_units = meta[\"n_classes_\"]\n",
        "        output_activation = \"softmax\"\n",
        "        loss = \"sparse_categorical_crossentropy\"\n",
        "    else:\n",
        "        raise NotImplementedError(f\"Unsupported task type: {meta['target_type_']}\")\n",
        "    out = keras.layers.Dense(n_output_units, activation=output_activation)\n",
        "    model.add(out)\n",
        "    model.compile(loss=loss, optimizer=compile_kwargs[\"optimizer\"])\n",
        "    return model"
      ],
      "execution_count": 4,
      "outputs": []
    },
    {
      "cell_type": "markdown",
      "metadata": {
        "id": "Yg_0PtqhwNSo"
      },
      "source": [
        "Next we wrap this Keras model with SciKeras"
      ]
    },
    {
      "cell_type": "code",
      "metadata": {
        "id": "1DeX_yH_wTIX"
      },
      "source": [
        "clf = KerasClassifier(\n",
        "    model=get_clf_model,\n",
        "    hidden_layer_sizes=(100, ),\n",
        "    optimizer=\"adam\",\n",
        "    optimizer__learning_rate=0.001,\n",
        "    epochs=200,\n",
        "    verbose=0,\n",
        "    random_state=0,\n",
        ")"
      ],
      "execution_count": 5,
      "outputs": []
    },
    {
      "cell_type": "markdown",
      "metadata": {
        "id": "lNz5uY-v-1TQ"
      },
      "source": [
        "### Building a boosting ensemble"
      ]
    },
    {
      "cell_type": "markdown",
      "metadata": {
        "id": "W5rrSfES-1TQ"
      },
      "source": [
        "Because SciKeras estimators are fully compliant with the Scikit-Learn API, we can make use of Scikit-Learn's built in utilities. In particular example, we will use `AdaBoostClassifier` from `sklearn.ensemble.AdaBoostClassifier`, but the process is the same for most Scikit-Learn meta-estimators."
      ]
    },
    {
      "cell_type": "code",
      "metadata": {
        "id": "_JgVNml3yEup"
      },
      "source": [
        "from sklearn.ensemble import AdaBoostClassifier"
      ],
      "execution_count": 18,
      "outputs": []
    },
    {
      "cell_type": "code",
      "metadata": {
        "id": "azbKtjtd-1TR"
      },
      "source": [
        "adaboost = AdaBoostClassifier(base_estimator=clf, random_state=0)"
      ],
      "execution_count": 27,
      "outputs": []
    },
    {
      "cell_type": "markdown",
      "metadata": {
        "id": "Pznw-f0v-1TU"
      },
      "source": [
        "## Testing with a toy dataset"
      ]
    },
    {
      "cell_type": "markdown",
      "metadata": {
        "id": "p0uSTuc-voxu"
      },
      "source": [
        "Before continouing, we will run a small test to make sure we get somewhat reasonable results."
      ]
    },
    {
      "cell_type": "code",
      "metadata": {
        "id": "NPOO7tO6-1TV"
      },
      "source": [
        "from sklearn.datasets import make_moons\n",
        "from sklearn.model_selection import cross_val_score"
      ],
      "execution_count": 22,
      "outputs": []
    },
    {
      "cell_type": "code",
      "metadata": {
        "scrolled": false,
        "id": "V5MfyQuPvoxu",
        "outputId": "bd3b0f17-75c8-4ec5-ffed-5ba5facdd912",
        "colab": {
          "base_uri": "https://localhost:8080/",
          "height": 51
        }
      },
      "source": [
        "X, y = make_moons()\n",
        "\n",
        "single_score = np.mean(cross_val_score(clf, X, y))\n",
        "\n",
        "adaboost_score = np.mean(cross_val_score(adaboost, X, y))\n",
        "\n",
        "print(f\"Single score: {single_score:.2f}\")\n",
        "print(f\"AdaBoost score: {adaboost_score:.2f}\")"
      ],
      "execution_count": 23,
      "outputs": [
        {
          "output_type": "stream",
          "text": [
            "Single score: 0.87\n",
            "AdaBoost score: 0.92\n"
          ],
          "name": "stdout"
        }
      ]
    },
    {
      "cell_type": "markdown",
      "metadata": {
        "id": "3c420jeQA3FP"
      },
      "source": [
        "We see that the score for the AdaBoost classifier is slightly higher than that of an individual MLPRegressor instance. We can explore the individual classifiers, and see that each one is composed of a Keras Model with it's own individual weights."
      ]
    },
    {
      "cell_type": "code",
      "metadata": {
        "id": "dNrKl2Ga3GFl"
      },
      "source": [
        "adaboost.fit(X, y)  # we need to fit outside of cross_val_score before accessing the weights"
      ],
      "execution_count": null,
      "outputs": []
    },
    {
      "cell_type": "code",
      "metadata": {
        "id": "Qy4qQM0W1-A4",
        "outputId": "a6688e8a-3caa-4b9d-a9f2-cbfe581d210d",
        "colab": {
          "base_uri": "https://localhost:8080/",
          "height": 51
        }
      },
      "source": [
        "print(adaboost.estimators_[0].model_.get_weights()[0][0, :5])  # first sub-estimator\n",
        "print(adaboost.estimators_[1].model_.get_weights()[0][0, :5])  # second sub-estimator"
      ],
      "execution_count": 45,
      "outputs": [
        {
          "output_type": "stream",
          "text": [
            "[-0.04581451  0.1135787  -0.5014625   0.17216344 -0.5164686 ]\n",
            "[ 0.06697825 -0.10479978  0.19397753 -0.52370584 -0.5258845 ]\n"
          ],
          "name": "stdout"
        }
      ]
    },
    {
      "cell_type": "markdown",
      "metadata": {
        "id": "3hIbc-x3Bg0w"
      },
      "source": [
        "## Bagging ensemble"
      ]
    },
    {
      "cell_type": "markdown",
      "metadata": {
        "id": "T7XoG2NOBj2d"
      },
      "source": [
        "For comparison, we run the same test with an ensemble built using `sklearn.ensemble.BaggingClassifier`."
      ]
    },
    {
      "cell_type": "code",
      "metadata": {
        "id": "1eY9mBYZ6F3u"
      },
      "source": [
        "from sklearn.ensemble import BaggingClassifier"
      ],
      "execution_count": 46,
      "outputs": []
    },
    {
      "cell_type": "code",
      "metadata": {
        "id": "Exa0Ri5u54Up",
        "outputId": "70a6f940-fbb7-4492-faf2-154ab0580f61",
        "colab": {
          "base_uri": "https://localhost:8080/",
          "height": 34
        }
      },
      "source": [
        "bagging = BaggingClassifier(base_estimator=est1, random_state=0, n_jobs=-1)\n",
        "\n",
        "bagging_score = np.mean(cross_val_score(bagging, X, y))\n",
        "\n",
        "print(f\"Bagging score: {bagging_score:.2f}\")"
      ],
      "execution_count": 49,
      "outputs": [
        {
          "output_type": "stream",
          "text": [
            "Bagging score: 0.92\n"
          ],
          "name": "stdout"
        }
      ]
    }
  ]
}