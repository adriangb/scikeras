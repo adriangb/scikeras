{
 "cells": [
  {
   "cell_type": "markdown",
   "metadata": {
    "id": "z22BE9uhvoxO"
   },
   "source": [
    "# Autoencoders in SciKeras"
   ]
  },
  {
   "cell_type": "markdown",
   "metadata": {
    "id": "hapoJed-voxP"
   },
   "source": [
    "Autencoders are an approach to use nearual networks to distill data into it's most important features, thereby compressing the data. We will be following the [Keras tutorial](https://blog.keras.io/building-autoencoders-in-keras.html) on the topic, which goes much more in depth and breadth than we will here. You are highly encouraged to check out that tutorial if you want to learn about autoencoders in the general sense.\n",
    "\n",
    "\n",
    "\n",
    "<table align=\"left\"><td>\n",
    "<a target=\"_blank\" href=\"https://colab.research.google.com/github/adriangb/scikeras/blob/master/notebooks/Basic_Usage.ipyn\">\n",
    "    <img src=\"https://www.tensorflow.org/images/colab_logo_32px.png\" />Run in Google Colab</a>  \n",
    "</td><td>\n",
    "<a target=\"_blank\" href=\"https://github.com/adriangb/scikeras/blob/master/notebooks/Basic_Usage.ipynb\"><img width=32px src=\"https://www.tensorflow.org/images/GitHub-Mark-32px.png\" />View source on GitHub</a></td></table>"
   ]
  },
  {
   "cell_type": "markdown",
   "metadata": {
    "id": "iT-ibpi7voxQ"
   },
   "source": [
    "### Table of contents"
   ]
  },
  {
   "cell_type": "markdown",
   "metadata": {
    "id": "ekJWKPFMvoxR"
   },
   "source": [
    "* [Data](#Data)\n",
    "* [Define Model](#Define-Keras-Model)\n",
    "* [Training](#Training)\n",
    "* [Explore Results](#Explore-Results)"
   ]
  },
  {
   "cell_type": "markdown",
   "metadata": {
    "id": "6avb3GBQDQyG"
   },
   "source": [
    "Install SciKeras"
   ]
  },
  {
   "cell_type": "code",
   "execution_count": null,
   "metadata": {
    "id": "qCcyTjVkvoxR"
   },
   "outputs": [],
   "source": [
    "!python -m pip install git+https://github.com/adriangb/scikeras.git@master"
   ]
  },
  {
   "cell_type": "markdown",
   "metadata": {
    "id": "EZveNcetDQyL"
   },
   "source": [
    "Silence TensorFlow warnings to keep output succint."
   ]
  },
  {
   "cell_type": "code",
   "execution_count": 2,
   "metadata": {
    "id": "ekNmO_GPDQyL"
   },
   "outputs": [],
   "source": [
    "import warnings\n",
    "from tensorflow import get_logger\n",
    "get_logger().setLevel('ERROR')"
   ]
  },
  {
   "cell_type": "code",
   "execution_count": 4,
   "metadata": {
    "id": "Sf4j-x4DvoxV"
   },
   "outputs": [],
   "source": [
    "from tensorflow import keras"
   ]
  },
  {
   "cell_type": "markdown",
   "metadata": {
    "id": "hCuOBH8AvoxX"
   },
   "source": [
    "## Data"
   ]
  },
  {
   "cell_type": "markdown",
   "metadata": {
    "id": "i3fAUKBUvoxY"
   },
   "source": [
    "We load the dataset from the Keras tutorial. The dataset consists of images of cats and dogs."
   ]
  },
  {
   "cell_type": "code",
   "execution_count": 6,
   "metadata": {
    "colab": {
     "base_uri": "https://localhost:8080/",
     "height": 51
    },
    "id": "QM74xeoe-1S-",
    "outputId": "23946eec-c32f-4db6-8bda-e12bda6492ea"
   },
   "outputs": [
    {
     "output_type": "stream",
     "name": "stdout",
     "text": [
      "(60000, 784)\n(10000, 784)\n"
     ]
    }
   ],
   "source": [
    "from tensorflow.keras.datasets import mnist\n",
    "import numpy as np\n",
    "\n",
    "\n",
    "(x_train, _), (x_test, _) = mnist.load_data()\n",
    "x_train = x_train.astype('float32') / 255.\n",
    "x_test = x_test.astype('float32') / 255.\n",
    "x_train = x_train.reshape((len(x_train), np.prod(x_train.shape[1:])))\n",
    "x_test = x_test.reshape((len(x_test), np.prod(x_test.shape[1:])))\n",
    "print(x_train.shape)\n",
    "print(x_test.shape)"
   ]
  },
  {
   "cell_type": "markdown",
   "metadata": {
    "id": "yuR10hymK0dh"
   },
   "source": [
    "## Define Keras Model"
   ]
  },
  {
   "cell_type": "markdown",
   "metadata": {},
   "source": [
    "We will be defining a very simple autencoder."
   ]
  },
  {
   "cell_type": "code",
   "execution_count": 8,
   "metadata": {
    "id": "dBFFXT-__7KU"
   },
   "outputs": [],
   "source": [
    "from tensorflow import keras\n",
    "from tensorflow.keras import layers\n",
    "\n",
    "\n",
    "# This is the size of our encoded representations\n",
    "encoding_dim = 32  # 32 floats -> compression of factor 24.5, assuming the input is 784 floats\n",
    "\n",
    "# This is our input image\n",
    "input_img = keras.Input(shape=(784,))\n",
    "# \"encoded\" is the encoded representation of the input\n",
    "encoded = layers.Dense(encoding_dim, activation='relu')(input_img)\n",
    "# \"decoded\" is the lossy reconstruction of the input\n",
    "decoded = layers.Dense(784, activation='sigmoid')(encoded)\n",
    "\n",
    "# This model maps an input to its reconstruction\n",
    "autoencoder_model = keras.Model(input_img, decoded)\n",
    "\n",
    "# This model maps an input to its encoded representation\n",
    "encoder_model = keras.Model(input_img, encoded)\n",
    "\n",
    "# This is our encoded (32-dimensional) input\n",
    "encoded_input = keras.Input(shape=(encoding_dim,))\n",
    "# Retrieve the last layer of the autoencoder model\n",
    "decoder_layer = autoencoder_model.layers[-1]\n",
    "# Create the decoder model\n",
    "decoder_model = keras.Model(encoded_input, decoder_layer(encoded_input))"
   ]
  },
  {
   "source": [
    "We create a small class that will allow us to call `fit_transform` instead of having to call `fit` and `transform` sequentially."
   ],
   "cell_type": "markdown",
   "metadata": {}
  },
  {
   "cell_type": "code",
   "execution_count": 10,
   "metadata": {},
   "outputs": [],
   "source": [
    "from sklearn.base import TransformerMixin\n",
    "from scikeras.wrappers import BaseWrapper\n",
    "\n",
    "\n",
    "class AutoEncoderTransformer(BaseWrapper, TransformerMixin):\n",
    "    \"\"\"Enables the ``transform`` and ``fit_transform`` methods.\n",
    "    \"\"\"\n",
    "\n",
    "    def fit(self, X):\n",
    "        self.initialize(X)\n",
    "        return self\n",
    "\n",
    "    def transform(self, X):\n",
    "        return self.predict(X)"
   ]
  },
  {
   "cell_type": "markdown",
   "metadata": {},
   "source": [
    "Next, we wrap the Keras Model with Scikeras. Note that we use BaseWrapper instead of KerasClassifier or KerasRegressor since this is not a classificaiton or regression task."
   ]
  },
  {
   "cell_type": "code",
   "execution_count": 12,
   "metadata": {},
   "outputs": [],
   "source": [
    "compile_params = {\"optimizer\": \"adam\", \"loss\": \"binary_crossentropy\"}\n",
    "fit_params = {\"epochs\": 50, \"batch_size\": 256, \"shuffle\": True}\n",
    "\n",
    "autoencoder = BaseWrapper(model=autoencoder_model, **compile_params, **fit_params)\n",
    "encoder = AutoEncoderTransformer(model=encoder_model, **compile_params, **fit_params, verbose=0)\n",
    "decoder = AutoEncoderTransformer(model=decoder_model, **compile_params, **fit_params, verbose=0)"
   ]
  },
  {
   "cell_type": "markdown",
   "metadata": {
    "id": "yqBl5xLDP43O"
   },
   "source": [
    "## Training"
   ]
  },
  {
   "cell_type": "markdown",
   "metadata": {
    "id": "4fHbt_mUVBhE"
   },
   "source": [
    "To train the model, we pass the input images as both the features and the target. This will train the layers to compress the data as accurately as possible between the encoder and decoder."
   ]
  },
  {
   "cell_type": "code",
   "execution_count": 14,
   "metadata": {
    "colab": {
     "base_uri": "https://localhost:8080/",
     "height": 34
    },
    "id": "QQhtIWsMP4Ii",
    "outputId": "1581384e-7012-4816-d4cf-a4190a30e50f"
   },
   "outputs": [
    {
     "output_type": "stream",
     "name": "stdout",
     "text": [
      "Epoch 1/50\n",
      "235/235 [==============================] - 1s 4ms/step - loss: 0.0926\n",
      "Epoch 2/50\n",
      "235/235 [==============================] - 1s 4ms/step - loss: 0.0926\n",
      "Epoch 3/50\n",
      "235/235 [==============================] - 1s 4ms/step - loss: 0.0926\n",
      "Epoch 4/50\n",
      "235/235 [==============================] - 1s 4ms/step - loss: 0.0926\n",
      "Epoch 5/50\n",
      "235/235 [==============================] - 1s 4ms/step - loss: 0.0926\n",
      "Epoch 6/50\n",
      "235/235 [==============================] - 1s 4ms/step - loss: 0.0926\n",
      "Epoch 7/50\n",
      "235/235 [==============================] - 1s 4ms/step - loss: 0.0925\n",
      "Epoch 8/50\n",
      "235/235 [==============================] - 1s 4ms/step - loss: 0.0926\n",
      "Epoch 9/50\n",
      "235/235 [==============================] - 1s 4ms/step - loss: 0.0925\n",
      "Epoch 10/50\n",
      "235/235 [==============================] - 1s 4ms/step - loss: 0.0925\n",
      "Epoch 11/50\n",
      "235/235 [==============================] - 1s 5ms/step - loss: 0.0925\n",
      "Epoch 12/50\n",
      "235/235 [==============================] - 1s 4ms/step - loss: 0.0925\n",
      "Epoch 13/50\n",
      "235/235 [==============================] - 1s 4ms/step - loss: 0.0925\n",
      "Epoch 14/50\n",
      "235/235 [==============================] - 1s 4ms/step - loss: 0.0925\n",
      "Epoch 15/50\n",
      "235/235 [==============================] - 1s 4ms/step - loss: 0.0925\n",
      "Epoch 16/50\n",
      "235/235 [==============================] - 1s 4ms/step - loss: 0.0925\n",
      "Epoch 17/50\n",
      "235/235 [==============================] - 1s 4ms/step - loss: 0.0925\n",
      "Epoch 18/50\n",
      "235/235 [==============================] - 1s 4ms/step - loss: 0.0925\n",
      "Epoch 19/50\n",
      "235/235 [==============================] - 1s 4ms/step - loss: 0.0925\n",
      "Epoch 20/50\n",
      "235/235 [==============================] - 1s 3ms/step - loss: 0.0924\n",
      "Epoch 21/50\n",
      "235/235 [==============================] - 1s 4ms/step - loss: 0.0924\n",
      "Epoch 22/50\n",
      "235/235 [==============================] - 1s 4ms/step - loss: 0.0925\n",
      "Epoch 23/50\n",
      "235/235 [==============================] - 1s 4ms/step - loss: 0.0924\n",
      "Epoch 24/50\n",
      "235/235 [==============================] - 1s 4ms/step - loss: 0.0924\n",
      "Epoch 25/50\n",
      "235/235 [==============================] - 1s 4ms/step - loss: 0.0924\n",
      "Epoch 26/50\n",
      "235/235 [==============================] - 1s 4ms/step - loss: 0.0924\n",
      "Epoch 27/50\n",
      "235/235 [==============================] - 1s 4ms/step - loss: 0.0924\n",
      "Epoch 28/50\n",
      "235/235 [==============================] - 1s 4ms/step - loss: 0.0924\n",
      "Epoch 29/50\n",
      "235/235 [==============================] - 1s 4ms/step - loss: 0.0924\n",
      "Epoch 30/50\n",
      "235/235 [==============================] - 1s 4ms/step - loss: 0.0924\n",
      "Epoch 31/50\n",
      "235/235 [==============================] - 1s 4ms/step - loss: 0.0924\n",
      "Epoch 32/50\n",
      "235/235 [==============================] - 1s 4ms/step - loss: 0.0924\n",
      "Epoch 33/50\n",
      "235/235 [==============================] - 1s 4ms/step - loss: 0.0924\n",
      "Epoch 34/50\n",
      "235/235 [==============================] - 1s 4ms/step - loss: 0.0924\n",
      "Epoch 35/50\n",
      "235/235 [==============================] - 1s 4ms/step - loss: 0.0924\n",
      "Epoch 36/50\n",
      "235/235 [==============================] - 1s 4ms/step - loss: 0.0924\n",
      "Epoch 37/50\n",
      "235/235 [==============================] - 3s 13ms/step - loss: 0.0924\n",
      "Epoch 38/50\n",
      "235/235 [==============================] - 1s 5ms/step - loss: 0.0924\n",
      "Epoch 39/50\n",
      "235/235 [==============================] - 1s 4ms/step - loss: 0.0923\n",
      "Epoch 40/50\n",
      "235/235 [==============================] - 1s 5ms/step - loss: 0.0923\n",
      "Epoch 41/50\n",
      "235/235 [==============================] - 1s 5ms/step - loss: 0.0923\n",
      "Epoch 42/50\n",
      "235/235 [==============================] - 1s 4ms/step - loss: 0.0923\n",
      "Epoch 43/50\n",
      "235/235 [==============================] - 1s 4ms/step - loss: 0.0923\n",
      "Epoch 44/50\n",
      "235/235 [==============================] - 1s 3ms/step - loss: 0.0923\n",
      "Epoch 45/50\n",
      "235/235 [==============================] - 1s 4ms/step - loss: 0.0923\n",
      "Epoch 46/50\n",
      "235/235 [==============================] - 1s 4ms/step - loss: 0.0923\n",
      "Epoch 47/50\n",
      "235/235 [==============================] - 1s 4ms/step - loss: 0.0923\n",
      "Epoch 48/50\n",
      "235/235 [==============================] - 1s 4ms/step - loss: 0.0923\n",
      "Epoch 49/50\n",
      "235/235 [==============================] - 1s 4ms/step - loss: 0.0923\n",
      "Epoch 50/50\n",
      "235/235 [==============================] - 1s 4ms/step - loss: 0.0923\n"
     ]
    },
    {
     "output_type": "execute_result",
     "data": {
      "text/plain": [
       "BaseWrapper(\n",
       "\tmodel=<tensorflow.python.keras.engine.functional.Functional object at 0x151adbb20>\n",
       "\tbuild_fn=None\n",
       "\twarm_start=False\n",
       "\trandom_state=None\n",
       "\toptimizer=adam\n",
       "\tloss=binary_crossentropy\n",
       "\tmetrics=None\n",
       "\tbatch_size=256\n",
       "\tverbose=1\n",
       "\tcallbacks=None\n",
       "\tvalidation_split=0.0\n",
       "\tshuffle=True\n",
       "\trun_eagerly=False\n",
       "\tepochs=50\n",
       ")"
      ]
     },
     "metadata": {},
     "execution_count": 14
    }
   ],
   "source": [
    "autoencoder.fit(x_train, x_train)"
   ]
  },
  {
   "cell_type": "markdown",
   "metadata": {},
   "source": [
    "Next we fit the encoder and decoder using training data and then round-trip through both using test data."
   ]
  },
  {
   "cell_type": "code",
   "execution_count": 16,
   "metadata": {},
   "outputs": [],
   "source": [
    "roundtrip_imgs = decoder.fit_transform(encoder.fit_transform(x_test))"
   ]
  },
  {
   "cell_type": "markdown",
   "metadata": {},
   "source": [
    "## Explore Results"
   ]
  },
  {
   "cell_type": "markdown",
   "metadata": {},
   "source": [
    "Now let's compare our inputs to lossy decoded outputs:"
   ]
  },
  {
   "cell_type": "code",
   "execution_count": 18,
   "metadata": {},
   "outputs": [
    {
     "output_type": "display_data",
     "data": {
      "text/plain": "<Figure size 1440x288 with 20 Axes>",
      "image/svg+xml": "<?xml version=\"1.0\" encoding=\"utf-8\" standalone=\"no\"?>\n<!DOCTYPE svg PUBLIC \"-//W3C//DTD SVG 1.1//EN\"\n  \"http://www.w3.org/Graphics/SVG/1.1/DTD/svg11.dtd\">\n<!-- Created with matplotlib (https://matplotlib.org/) -->\n<svg height=\"231.079908pt\" version=\"1.1\" viewBox=\"0 0 1133.9 231.079908\" width=\"1133.9pt\" xmlns=\"http://www.w3.org/2000/svg\" xmlns:xlink=\"http://www.w3.org/1999/xlink\">\n <metadata>\n  <rdf:RDF xmlns:cc=\"http://creativecommons.org/ns#\" xmlns:dc=\"http://purl.org/dc/elements/1.1/\" xmlns:rdf=\"http://www.w3.org/1999/02/22-rdf-syntax-ns#\">\n   <cc:Work>\n    <dc:type rdf:resource=\"http://purl.org/dc/dcmitype/StillImage\"/>\n    <dc:date>2020-11-07T17:56:14.246383</dc:date>\n    <dc:format>image/svg+xml</dc:format>\n    <dc:creator>\n     <cc:Agent>\n      <dc:title>Matplotlib v3.3.2, https://matplotlib.org/</dc:title>\n     </cc:Agent>\n    </dc:creator>\n   </cc:Work>\n  </rdf:RDF>\n </metadata>\n <defs>\n  <style type=\"text/css\">*{stroke-linecap:butt;stroke-linejoin:round;}</style>\n </defs>\n <g id=\"figure_1\">\n  <g id=\"patch_1\">\n   <path d=\"M 0 231.079908 \nL 1133.9 231.079908 \nL 1133.9 0 \nL 0 0 \nz\n\" style=\"fill:none;\"/>\n  </g>\n  <g id=\"axes_1\">\n   <g id=\"patch_2\">\n    <path d=\"M 10.7 101.776271 \nL 105.276271 101.776271 \nL 105.276271 7.2 \nL 10.7 7.2 \nz\n\" style=\"fill:#ffffff;\"/>\n   </g>\n   <g clip-path=\"url(#pb53ad04f91)\">\n    <image height=\"95\" id=\"image175d6e745c\" transform=\"scale(1 -1)translate(0 -95)\" width=\"95\" x=\"10.7\" xlink:href=\"data:image/png;base64,\niVBORw0KGgoAAAANSUhEUgAAAF8AAABfCAYAAACOTBv1AAADhElEQVR4nO2czyusYRTHj+taTM0GZSMipaT8zEqNXxuZZMGKtZW/wIJY2NhaKHslpaZsrCyQ0FjITCNhQ1JKClGUu7qn58xlGu77+r4z8/2svu88TzOnT8fpMe/MFInIuxAIv9AFFDKUD+Q3uoC/TE5Oap6bmzNrR0dHmvv6+jTf3d35X5iPsPOBUD4QygcSmJmfiebmZs37+/uaBwcHzb6Tk5Mfq8kL2PlAKB9IYMbO9va25sfHR7MWDoc119XVffh4LsLOB0L5QCgfSGBm/s7OjuaFhQWz5r71kE+w84FQPpDAjB2XpaUlcz02Nqa5urpac1dXl9l3eHio+f09+PeI2PlAKB9IkeTAPdz6+nrNmd48Gxoa0ry+vu5rTV7AzgdC+UAoH0hOzPzi4mLNe3t7mtvb282+8/Nzzf39/Z+uBQV2PhDKB5ITY8elvLxc88HBgVmrra3VvLKyYtZGR0f9LewbsPOBUD4QygeSczPfJRqNmutYLKb56enJrLlHT/e4ioSdD4TygeT02Elnenpa88zMjFnb2NjQPDAw8FMlZYSdD4TygeTV2AmFQprdj6KIiDQ2Nmru7e3VvLu7639hn8DOB0L5QCgfSCA/t/Ndnp+fNbtHSxGR1tZWzbOzs5rTj52vr68+Vfcv7HwglA8kr46aLp2dneZ6c3NTc0lJiebu7m6zb2try9e6XNj5QCgfCOUDyduZn457vJyamtJ8f39v9kUiEc2JRMLXmtj5QCgfSMGMnYqKCs3Hx8cfPi4iMjIyonltbc3Xmtj5QCgfSMGMHZfh4WHNq6urZs094fT09Jg1r39WjJ0PhPKBUD6QQM780tJSc93S0qLZ/aJzR0dH1s/58vKi+fT0VHMqlTL7ysrKNE9MTJi1xcXFrF8vG9j5QCgfiOf3cN1ffBURaWpq0pz+J97Q0KC5ra1Nc/oNjsrKSs2Xl5eaq6qqsq7r7e1N8+3trWZ3zKTj/qSYH7DzgVA+EM9POxcXF+a6pqbmy8/x8PBgrpPJ5P+U9CWurq40z8/Pm7V4PO7pa7HzgVA+EMoH4vnMd29GiIiMj49rvr6+Nmvuf53Ly8uab25uzL6zszMvSwwM7HwglA8kkG+sFQrsfCCUD4TygVA+EMoHQvlAKB8I5QOhfCCUD4TygVA+EMoHQvlAKB8I5QOhfCCUD4TygVA+EMoHQvlAKB/IHylJwuaX+CcdAAAAAElFTkSuQmCC\" y=\"-6.776271\"/>\n   </g>\n   <g id=\"patch_3\">\n    <path d=\"M 10.7 101.776271 \nL 10.7 7.2 \n\" style=\"fill:none;stroke:#000000;stroke-linecap:square;stroke-linejoin:miter;stroke-width:0.8;\"/>\n   </g>\n   <g id=\"patch_4\">\n    <path d=\"M 105.276271 101.776271 \nL 105.276271 7.2 \n\" style=\"fill:none;stroke:#000000;stroke-linecap:square;stroke-linejoin:miter;stroke-width:0.8;\"/>\n   </g>\n   <g id=\"patch_5\">\n    <path d=\"M 10.7 101.776271 \nL 105.276271 101.776271 \n\" style=\"fill:none;stroke:#000000;stroke-linecap:square;stroke-linejoin:miter;stroke-width:0.8;\"/>\n   </g>\n   <g id=\"patch_6\">\n    <path d=\"M 10.7 7.2 \nL 105.276271 7.2 \n\" style=\"fill:none;stroke:#000000;stroke-linecap:square;stroke-linejoin:miter;stroke-width:0.8;\"/>\n   </g>\n  </g>\n  <g id=\"axes_2\">\n   <g id=\"patch_7\">\n    <path d=\"M 10.7 220.379908 \nL 105.276271 220.379908 \nL 105.276271 125.803636 \nL 10.7 125.803636 \nz\n\" style=\"fill:#ffffff;\"/>\n   </g>\n   <g clip-path=\"url(#pf0a25006e3)\">\n    <image height=\"95\" id=\"imaged3c86fb7d8\" transform=\"scale(1 -1)translate(0 -95)\" width=\"95\" x=\"10.7\" xlink:href=\"data:image/png;base64,\niVBORw0KGgoAAAANSUhEUgAAAF8AAABfCAYAAACOTBv1AAAExUlEQVR4nO2dTSitXRTHNy75jvIZZYZCSRIDcyUlBmYYKaZKTGVihIGREQYGmDAwRMqIiTLwUYooUvL9zZ2tu9buPe7hfY7/8b7/3+h/Wss5u3/7rmc9+9nPvjHOuXcXBcTFxYmOjY01sdfXV9Hv7+//qH8isX9PIZGC5gP5FfQXxsTEmM8JCQl/fuyX/bns7GzRi4uLosvLy03e8/Oz6JGREdEDAwMm7+3t7QsjxsGZD4TmA6H5QGLcN7aafguZmJgoenh4WHR3d7fJ023o7u6u6NraWpN3cXERyDi/C858IDQfyLeWHR9dTqqrq0XPzc2ZvPz8fNHX19eiW1paTN7Kyoron3D3y5kPhOYDoflAAl9e+Ax6tXJra0v07OysydOtp25Pq6qqTN7q6qpo1nzyITQfCLTV1Oi738rKShObn58XnZubK3pzc9PkNTQ0iL69vQ14hMHDmQ+E5gOJmrKjH8LEx8ebWHt7u+ihoSHRfkfT398vempqysSisfvhzAdC84HQfCBRU/M1/kP45ORk0ePj46KbmppM3vHxsejGxkYTOzo6CnKIgcCZD4TmA4nKsuOj7371np6ZmRmTl5eXJ3pyctLEdBv69PQU9BC/BGc+EJoPhOYD+RE1X6P3fvb09JhYX1+f6Lu7OxPr6OgQvb6+Lhq57MCZD4TmA/nWsuPfuYbio1KgvyMrK8vEJiYmRNfU1JjY2tqa6K6uLtGXl5dhjSkScOYDoflAoGVHbxfUsZeXF5MXqgzpv3fOubq6OtGjo6MmphfnBgcHRfvbVPR2lkjDmQ+E5gOh+UCgd7h6tVI/NPffKtTXAF3//WtIUlKSaF3XnXOura1N9N7enujOzk6Td3h4GM7QA4EzHwjNBxI1C2u6BPktZKiy46PLUFlZmYktLCyIzsjIED09PW3y9OLc4+PjX0b97+DMB0LzgdB8IFFT8zUfrX6G+/DDP2RjbGxMtN77eXp6avJaW1tF67dlPvPb4cKZD4TmAwm87PglI4h/qqHK0Ge+u7i4WPTy8rJo3XY6Z1vP3t5eEwv6bRfOfCA0H0ggZUeXBf9YFx3zF8zCPZYr1N2vX3ZCnULonHOpqamil5aWROszH5yz3U9zc7OJ6e4niCPFOPOB0HwgNB9IIGcv6Jqsa6tzzmVmZob8O9266W3bfr1OS0sTrV+QTk9PN3n6peizszMT0y3l+fm5aP9hvX4gU1FRYWLb29uiWfN/ODQfyJfLjm4hU1JSRJeUlJi8+vp60aWlpSamS5ReCNMnyDpnS4b+fn+7oC5jGxsbJnZyciK6sLBQtP+Wys3NjehIn1DLmQ+E5gMJu+z4i1u6w9HdiF7Acs6WBv3CmnP2IGtddvwORJ8upTuhj/L88qdj9/f3ovf3903ewcGB6J2dHRPjev5/CJoPhOYD+fKqpr4G6JaxoKDA5OljuYqKikxMXyt0K+ifk6DvSHW99ldQ9We/Puvrg94unpOTY/IeHh5E+1sHr66uRPMO94dD84FEfOvIRw9a9Gf9IAT5f5/o8Ub6HV3OfCA0HwjNBxKV2wX/L3DmA6H5QGg+EJoPhOYDoflAaD4Qmg+E5gOh+UBoPhCaD4TmA6H5QGg+EJoPhOYDoflAaD6Q3yxmZQPtmhv6AAAAAElFTkSuQmCC\" y=\"-125.379908\"/>\n   </g>\n   <g id=\"patch_8\">\n    <path d=\"M 10.7 220.379908 \nL 10.7 125.803636 \n\" style=\"fill:none;stroke:#000000;stroke-linecap:square;stroke-linejoin:miter;stroke-width:0.8;\"/>\n   </g>\n   <g id=\"patch_9\">\n    <path d=\"M 105.276271 220.379908 \nL 105.276271 125.803636 \n\" style=\"fill:none;stroke:#000000;stroke-linecap:square;stroke-linejoin:miter;stroke-width:0.8;\"/>\n   </g>\n   <g id=\"patch_10\">\n    <path d=\"M 10.7 220.379908 \nL 105.276271 220.379908 \n\" style=\"fill:none;stroke:#000000;stroke-linecap:square;stroke-linejoin:miter;stroke-width:0.8;\"/>\n   </g>\n   <g id=\"patch_11\">\n    <path d=\"M 10.7 125.803636 \nL 105.276271 125.803636 \n\" style=\"fill:none;stroke:#000000;stroke-linecap:square;stroke-linejoin:miter;stroke-width:0.8;\"/>\n   </g>\n  </g>\n  <g id=\"axes_3\">\n   <g id=\"patch_12\">\n    <path d=\"M 124.191525 101.776271 \nL 218.767797 101.776271 \nL 218.767797 7.2 \nL 124.191525 7.2 \nz\n\" style=\"fill:#ffffff;\"/>\n   </g>\n   <g clip-path=\"url(#p0bc0f9104a)\">\n    <image height=\"95\" id=\"imagede11911ecc\" transform=\"scale(1 -1)translate(0 -95)\" width=\"95\" x=\"124.191525\" xlink:href=\"data:image/png;base64,\niVBORw0KGgoAAAANSUhEUgAAAF8AAABfCAYAAACOTBv1AAADwUlEQVR4nO2cu0srQRTG1+sLQVCwEEEQbA1qoQjWopWxESz9CwSJUSsfCNoqWNhZaOMDNQgWViKCSSCNRdBGEBsRVBBFQnzcW93DnOWubHJ391v1+1XfYSaZ4eNwmN3ZmRLLsn5bBMIv9AR+MjQfCM0HQvOB0HwgNB8IzQdC84HQfCA0HwjNB0LzgdB8IDQfCM0HQvOBlCEHn5iYEF1eXu7qNy0tLaKHhoZcj7W6uir66urKsd/Ozo7oi4sL1/9fDMx8IDQfSIkV4B7u7u6uigcGBoIa2jVvb2+iPz4+HPvt7++LzmQyjv1OTk5UnEqlRDPzgdB8IDQfSKA1P5fLqdjt8rIYtre3VXxzcyO6vr5edCHL1WKYnp5W8fz8vGhmPhCaDySUZae1tVXFt7e3BY/1+Pio4tfX13+OW1NT4/gftbW1Ko7FYq7Gfn9/Fz05OanaXl5eRDPzgdB8IDQfSChrfmNjo4rNZeJ3gpkPhOYDCbTsLCwsqNi+DPtLIpFQ8fDwsOjn52fP54WCmQ+E5gMJtOzU1dWp+ODgQHRnZ6fj75aWlkSPjY15Pi8UzHwgNB8IzQcS6Hc79/f3KjaXnltbW6LtT77t7e2iq6urRX/1ZSczHwjNBxLoUvMzTk9PRXd1dTn2+07LTmY+EJoPhOYDCU3Nb2hoEH12dqbazNcSd3d3oru7u1W/y8tLn2bnD8x8IDQfSGjKjol9M6W3t1d0ZWWl6LW1NdVvZGRE9Fd4+mXmA6H5QEJZduzMzs6Knpqacuy3vLwsenR01McZeQMzHwjNB0LzgUAPQbvFPO2Xz+dFV1RUqH7mKZO9vT3Vdnx87NPsioeZD4TmA/kSS02T8fFx0XNzc6rNLEPpdFq19fT0iDZPhyBh5gOh+UACLTtNTU0qfnp6Ev3w8FDw/9nf+0ciEce+Ztk5OjoqeCw/YOYDoflAaD4Q359w+/v7Rdvv2zk/Pxfd19cn2u0BuI2NDRXPzMyI9vNeB69g5gOh+UB8X2p2dHSINj8JtCzLKi0tFZ3NZkVHo1HVz/xcxNybtb9YM6/QamtrU22Li4ui4/G4q7n7DTMfCM0HQvOB+L7UNDdC7Bscg4ODos2bYu2f/Zk3ux4eHopubm5W/ex13sR+KiYMMPOB0Hwg0M2Uzc1N0WYJ8gJ76TLfal5fX3s6VrEw84HQfCCh2cM1nzqrqqpUm3nb4GflaWVlRXQymVRt6+vr/ztFz2HmA6H5QGg+kNDU/J8IMx8IzQdC84HQfCA0HwjNB0LzgdB8IDQfyB/RPu7MLQ/ZlAAAAABJRU5ErkJggg==\" y=\"-6.776271\"/>\n   </g>\n   <g id=\"patch_13\">\n    <path d=\"M 124.191525 101.776271 \nL 124.191525 7.2 \n\" style=\"fill:none;stroke:#000000;stroke-linecap:square;stroke-linejoin:miter;stroke-width:0.8;\"/>\n   </g>\n   <g id=\"patch_14\">\n    <path d=\"M 218.767797 101.776271 \nL 218.767797 7.2 \n\" style=\"fill:none;stroke:#000000;stroke-linecap:square;stroke-linejoin:miter;stroke-width:0.8;\"/>\n   </g>\n   <g id=\"patch_15\">\n    <path d=\"M 124.191525 101.776271 \nL 218.767797 101.776271 \n\" style=\"fill:none;stroke:#000000;stroke-linecap:square;stroke-linejoin:miter;stroke-width:0.8;\"/>\n   </g>\n   <g id=\"patch_16\">\n    <path d=\"M 124.191525 7.2 \nL 218.767797 7.2 \n\" style=\"fill:none;stroke:#000000;stroke-linecap:square;stroke-linejoin:miter;stroke-width:0.8;\"/>\n   </g>\n  </g>\n  <g id=\"axes_4\">\n   <g id=\"patch_17\">\n    <path d=\"M 124.191525 220.379908 \nL 218.767797 220.379908 \nL 218.767797 125.803636 \nL 124.191525 125.803636 \nz\n\" style=\"fill:#ffffff;\"/>\n   </g>\n   <g clip-path=\"url(#p2a9bdf99f9)\">\n    <image height=\"95\" id=\"imagea374a2b613\" transform=\"scale(1 -1)translate(0 -95)\" width=\"95\" x=\"124.191525\" xlink:href=\"data:image/png;base64,\niVBORw0KGgoAAAANSUhEUgAAAF8AAABfCAYAAACOTBv1AAAFbklEQVR4nO2cSyh1bRTH13HLLSFKYuKSDNxLUmZKGUluGZgqA4lirBiKMjNAYkKUYqDkbmKAIpGkkNxF7tdvtt61ns/Zec+791m+712/0f+0nrP39u+xznou+3EBwCcoIvhIP8DfjJoviJoviJoviJoviJoviJoviJoviJoviJoviJoviJoviJoviJ/0A/wJPj687/j5uf9zPj9/Td76+vqi/vj4YO3e3t7cxuxGe74gar4gjqcdl8uFOjg4mMUKCgpQV1dXo87NzWXtoqOjUQcEBKA2087Lywvq29tbFru+vkZNU9DZ2Rlrd3h4iHp2dpbFlpaWUB8fH6N+fX0FT9CeL4iaL4gLHF7DTUpKQj05OcliCQkJqGkKoanKxCpG08n7+zuL0crF6l5W1zg/P0c9MjKCur29nbV7enpC/fz8zGK0mtKeL4iaL4iaL4jtpaZZ/tXV1aGm+d9sS3Py5eUla0c/h4SEoA4LC2Pt6DVubm5YjJahkZGRX14PgJeydCQMABATE4O6vLzc7TXm5uZQ0/IUgJey2vMFUfMFcXyE+/j4iJqWcSa0BGttbWWxoaGhL79DS1UAgLi4ONR7e3ssRkeyQUFBqLOzs1m7mpoa1Pn5+SxGUxJ93qurK7f3MlMXLW215wui5gui5gvi+PRCZmYm6unpaRajJR8dhhcVFbF2i4uLqOnvhjk1QEtX8/fluwsjNEdHRESwWE5OzpfPvra2xtrRcvLh4YHF6HNpzxdEzRfE8bRD/427urpYrLa29svvdHd3s8/Nzc2ozZlGb0LTmr+/P2ozxdHFFavyWnu+IGq+II6nHQodgQIArK+vow4PD0dtrr8WFxejXllZQf07WztoZWSVCryJ9nxB1HxB1HxBvJrzze18ExMTqAsLC91+7+joCHVZWRnq1dVV1s7qN8Dd6Fcy/2vPF0TNF8SracecCMvIyEA9NjaGOjY2lrWjI0aaqurr61m7i4sL1GY6oSmPjk7NfTVO70ymaM8XRM0XRM0XxKs534Tm3rS0NNSdnZ2sXUpKCmq61ducJe3r60NN9+kA8FKT5n+rGUmn0Z4viJoviGjaodC0YJaaHR0dqPPy8lCfnJywdhUVFagPDg5YzN3ar9UWcadHv9rzBVHzBfkxaYdiNRIeHR1FTV+UAwDo7e1FTdd9Af5d/fwEtOcLouYLouYL4njOt2Phmu79GRgYQE3fDgHg27abmppYrKenB7Xk3h+K9nxB1HxBbEk7NLXQyTIAPollLlx48u9Py8vd3V0Woy/I3d/fs1hJSQnqmZkZ1LqG+5ei5gtiS9qh76EmJia6bWdOhNE1V0/WTltaWtjntrY21OYoeWpqCnVpaSlqMxV6gnkv+sKd+V7y3d3dr9gf31nxGDVfEDVfEFtegqbrnuaWQPqScWBgIIvRcwk2NzdR05GqFf39/exzVVUV6vj4eBabn5//7et/FzPn098vq/OBtOcLouYLYkvaoQsVW1tbLBYVFYW6srKSxWjJt7y8jJoeoQUAsL+/j5qWbmZqoffe2dlhsfHxcdR2bwk0r0f90BfifihqviBqviC2n7djDte3t7dRm/mPHvuVlZWFuqGhgbWjQ3KrxRka29jYsHwuJ/nub4r2fEHUfEFsTztmKjg9PUU9ODjIYqmpqajT09NR01lBAIDQ0NBv3YsuziQnJ7MYPRybHsNFjyH76ppOoj1fEDVfEK9uFzQXFmg6oWusjY2NrB1doKGTYmZFMzw8jHphYYHF3C3cmGmHHkJtTsDRlGTHKFl7viBqviBqviA/cou4ibsFCU/LQncHaHsb7fmCqPmC/CfSzv8V7fmCqPmCqPmCqPmCqPmCqPmC/ANoI+/RmoYOaQAAAABJRU5ErkJggg==\" y=\"-125.379908\"/>\n   </g>\n   <g id=\"patch_18\">\n    <path d=\"M 124.191525 220.379908 \nL 124.191525 125.803636 \n\" style=\"fill:none;stroke:#000000;stroke-linecap:square;stroke-linejoin:miter;stroke-width:0.8;\"/>\n   </g>\n   <g id=\"patch_19\">\n    <path d=\"M 218.767797 220.379908 \nL 218.767797 125.803636 \n\" style=\"fill:none;stroke:#000000;stroke-linecap:square;stroke-linejoin:miter;stroke-width:0.8;\"/>\n   </g>\n   <g id=\"patch_20\">\n    <path d=\"M 124.191525 220.379908 \nL 218.767797 220.379908 \n\" style=\"fill:none;stroke:#000000;stroke-linecap:square;stroke-linejoin:miter;stroke-width:0.8;\"/>\n   </g>\n   <g id=\"patch_21\">\n    <path d=\"M 124.191525 125.803636 \nL 218.767797 125.803636 \n\" style=\"fill:none;stroke:#000000;stroke-linecap:square;stroke-linejoin:miter;stroke-width:0.8;\"/>\n   </g>\n  </g>\n  <g id=\"axes_5\">\n   <g id=\"patch_22\">\n    <path d=\"M 237.683051 101.776271 \nL 332.259322 101.776271 \nL 332.259322 7.2 \nL 237.683051 7.2 \nz\n\" style=\"fill:#ffffff;\"/>\n   </g>\n   <g clip-path=\"url(#p36c829d7f0)\">\n    <image height=\"95\" id=\"imagea6f670f3a4\" transform=\"scale(1 -1)translate(0 -95)\" width=\"95\" x=\"237.683051\" xlink:href=\"data:image/png;base64,\niVBORw0KGgoAAAANSUhEUgAAAF8AAABfCAYAAACOTBv1AAACuElEQVR4nO3cvYoiQRQF4BpdIwMxEATNxTcQNBFjEVEQfAHBRDDwFQTxSUwM/ElFNBRUTAw1ExMjxUR2o71T1TjD7Ox2ny73fNFtq4PL4VKU7c+bUuqnIogAuoH/GcMHYvhADB+I4QMxfCCGD8TwgRg+EMMHYvhADB+I4QP9QDfwWygUkno+nxtr5/NZ6nq9LvXtdnO/MRdx8oEYPpAvt51oNGqsZTIZqVutltTdbtf9xlzEyQdi+EC+2Xb0k8t0OjXWUqmU1NVqVeper2fc93g8XOrOHZx8IIYPxPCB3pQPv7eTy+WM69lsJnUwGJS6UCh8eJ8NOPlADB/IN0dN3XK5NK5Pp5PUiUTC63Zcw8kHYvhADB/Il3u+03g8lrrRaEhdLBaN+3jUpC9j+EBWbDvH4/Hp684PXWzDyQdi+EC+fLDmFI/Hpd5sNlJfLhfjvnQ67VVL/wQnH4jhAzF8ICuOmvpTzcViIXWlUjHuK5fLUg+HQ/cb+0ucfCCGD2TFtqPbbrdS69/hcV5z26FPMXwghg9kxeMFnf518clkYqwdDgeps9mssXa/313t6zs4+UAMH8i6bUfX7/eN63a7LXWpVDLWRqORJz39CU4+EMMHsu4drm6323241ul0jGtuO2Rg+EAMH8jqPd/5Hw26WCzmYSffw8kHYvhAVm87+oM0pZRarVZSO7edcDgs9fV6dbWvr+LkAzF8IKsfrDnpn+EOBgNjLZ/PS/3ZKclLnHwghg/E8IGsPmo67fd7qZ3HyVqtJjX3fGL4SC911NQ5/3mw2WxKHYlEvG7nKU4+EMMHYvhAL3XU1Om/WlTKfKrpl1+wcPKBGD7Qy2476/XauA4E3ucsmUx63c5TnHwghg/0su9wbcDJB2L4QAwfiOEDMXwghg/E8IEYPhDDB2L4QAwfiOEDMXygX7JvhHNyYVMPAAAAAElFTkSuQmCC\" y=\"-6.776271\"/>\n   </g>\n   <g id=\"patch_23\">\n    <path d=\"M 237.683051 101.776271 \nL 237.683051 7.2 \n\" style=\"fill:none;stroke:#000000;stroke-linecap:square;stroke-linejoin:miter;stroke-width:0.8;\"/>\n   </g>\n   <g id=\"patch_24\">\n    <path d=\"M 332.259322 101.776271 \nL 332.259322 7.2 \n\" style=\"fill:none;stroke:#000000;stroke-linecap:square;stroke-linejoin:miter;stroke-width:0.8;\"/>\n   </g>\n   <g id=\"patch_25\">\n    <path d=\"M 237.683051 101.776271 \nL 332.259322 101.776271 \n\" style=\"fill:none;stroke:#000000;stroke-linecap:square;stroke-linejoin:miter;stroke-width:0.8;\"/>\n   </g>\n   <g id=\"patch_26\">\n    <path d=\"M 237.683051 7.2 \nL 332.259322 7.2 \n\" style=\"fill:none;stroke:#000000;stroke-linecap:square;stroke-linejoin:miter;stroke-width:0.8;\"/>\n   </g>\n  </g>\n  <g id=\"axes_6\">\n   <g id=\"patch_27\">\n    <path d=\"M 237.683051 220.379908 \nL 332.259322 220.379908 \nL 332.259322 125.803636 \nL 237.683051 125.803636 \nz\n\" style=\"fill:#ffffff;\"/>\n   </g>\n   <g clip-path=\"url(#p3b8b27138d)\">\n    <image height=\"95\" id=\"image9c85ff4929\" transform=\"scale(1 -1)translate(0 -95)\" width=\"95\" x=\"237.683051\" xlink:href=\"data:image/png;base64,\niVBORw0KGgoAAAANSUhEUgAAAF8AAABfCAYAAACOTBv1AAAEHklEQVR4nO2czSt1URTG99UrA4lIStdXpEyUr3JHDE2Y8ScYyl9kRvwFykckxgZENyEJpXxF+eYdvctaO/e85x7n3ufg+Y0ed+2c09O6z91n73NOyjn37giEEvQJ/GZoPhCaD4TmA6H5QGg+EJoPhOYDoflA/qBP4B+pVEp0aWmpqb2/f1yEv7y8fPr5d4SdD4TmA6H5QKCZr3O+trZW9OjoqBlXV1cnenp6WvTe3p4Z9/b2FvcpFhR2PhCaDyRy7OjIiGPKV1VVJXp8fNzUmpubRet4mpycNOMeHx+/fB7FhJ0PhOYDSbmE7OHq2FleXja17u5u0UdHR59+7pxzl5eXeR9Xx6dzxb1qZucDoflAaD6QxKxq3t7eip6ZmTG1zs5O0TU1NaLr6+vNuLCZ7+e8pqTkox/9/I/794CdD4TmA0lM7Ly+voqem5sztYmJCdHV1dWi+/v7zbidnR3RYRfZdMz4FHrayc4HQvOB0Hwgicl8zcXFhfl7fn5e9NjYmOiuri4zTm+8B61w6qmmP+3UvxXM/B8MzQeSmNjRX3897XTOuZWVFdEjIyOi29razLjy8nLRT09PpqYjRGt/SspVzV8CzQcSe+wELVr55PqK+1GQzWZFX19fi25qajLj9ELb1dVV3sf9Xy1u2PlAaD4Qmg8k9sz3MzPsb0DQ9O/s7Ey03kDv7e014/r6+kTv7u6amj99zXW+xYSdD4TmAyn4FW6Ur7UfO3p6ubCwILqnp8eMGxgYED07O2tq9/f3oY4dFJPcw/1B0HwgNB9IYlY1g3h+fha9sbEh2t8w0b8BDQ0NpqafYgmb3f7metwbLex8IDQfSGIeiAu70nhwcCD6/PzcjGtpaRE9NDRkaoeHh6J1jOWDjqFcV8x5/b8v/wcSGZoPpKix41895rqaDLo7WN/NvLq6asa1traKHhwcNLWpqSnRQbGTa6/XP984Hghk5wOh+UBoPpDETDW1DrqXRr9vR69wOmdvJdQPSzvnXGVlpei7u7tQ5+efR9Dt5FFg5wOh+UCgsaPjJOxer46C7e1tU9NPplRUVJiajqHT09NPzyGfY8cBOx8IzQeSmPX8sGvluuY/RLG4uCh6eHjY1PQdzVtbW6LjWCCLCjsfCM0HQvOBJGaqGQX/6ZO1tTXRmUzG1Do6OkQvLS2Jvrm5ifWc8oGdD4TmAylq7ES9gzksek/3+PjY1NLptOj29nbRm5ubZlzU/d0osPOB0HwgNB/It55qBr2W0Z9ClpWVidZvqN3f3zfj9O3ohV56YOcDoflAErOqGUSuKan/+cPDg+j19XVTa2xsFH1yciI6aIOk0G+bZecDoflAEvMi60IT5Wqab5r6wdB8IDQfyK/J/CTCzgdC84HQfCA0HwjNB0LzgdB8IDQfCM0H8heOe3ITQ52C1wAAAABJRU5ErkJggg==\" y=\"-125.379908\"/>\n   </g>\n   <g id=\"patch_28\">\n    <path d=\"M 237.683051 220.379908 \nL 237.683051 125.803636 \n\" style=\"fill:none;stroke:#000000;stroke-linecap:square;stroke-linejoin:miter;stroke-width:0.8;\"/>\n   </g>\n   <g id=\"patch_29\">\n    <path d=\"M 332.259322 220.379908 \nL 332.259322 125.803636 \n\" style=\"fill:none;stroke:#000000;stroke-linecap:square;stroke-linejoin:miter;stroke-width:0.8;\"/>\n   </g>\n   <g id=\"patch_30\">\n    <path d=\"M 237.683051 220.379908 \nL 332.259322 220.379908 \n\" style=\"fill:none;stroke:#000000;stroke-linecap:square;stroke-linejoin:miter;stroke-width:0.8;\"/>\n   </g>\n   <g id=\"patch_31\">\n    <path d=\"M 237.683051 125.803636 \nL 332.259322 125.803636 \n\" style=\"fill:none;stroke:#000000;stroke-linecap:square;stroke-linejoin:miter;stroke-width:0.8;\"/>\n   </g>\n  </g>\n  <g id=\"axes_7\">\n   <g id=\"patch_32\">\n    <path d=\"M 351.174576 101.776271 \nL 445.750847 101.776271 \nL 445.750847 7.2 \nL 351.174576 7.2 \nz\n\" style=\"fill:#ffffff;\"/>\n   </g>\n   <g clip-path=\"url(#p499e32a7c4)\">\n    <image height=\"95\" id=\"imagebcc36af783\" transform=\"scale(1 -1)translate(0 -95)\" width=\"95\" x=\"351.174576\" xlink:href=\"data:image/png;base64,\niVBORw0KGgoAAAANSUhEUgAAAF8AAABfCAYAAACOTBv1AAAD6ElEQVR4nO2czSttURjG9+H6D5gYIJQy9ZGBjzJCSOrkTGTGQMhQSkwMZSKiDCVFQtKZKcUZGJj4mjGRMFAy8nFHXu9a3X06d5+9zrPv9fxGz+pdZ+3V09u719lrrx3zPO/TIxDy0BP4ydB8IDQfCM0HQvOB0HwgNB8IzQdC84HQfCA0HwjNB0LzgfxCT+CLtrY20YODg0asq6tL9M7Ojujl5WWjXywWE31+fm7Ebm9vQ5lnmDDzgdB8IDEvh5spzc3NRrunp0f02NiY6I+Pj0Dj5+V959Lo6KgRW1hYCDSmS5j5QGg+EOdlp7S0VPTx8bERKyoqEq1LRhhl5/7+3ohdXFyI1qupu7s7o9/r62ugaweBmQ+E5gOh+UCc/8Pt7e0VrWu8a+xr6fbl5aXopaUlo9/IyIjbiSmY+UBoPhDnS83r62vRFRUVvv06Ozt9Y/oBWnFxsW+/MJar+fn5gX4XBGY+EJoPhOYDcV7zr66uRJeXl/v2KygoyPpa+/v7oquqqoxYSUlJRmMcHByI1ps4LmDmA6H5QCKzhxsGHR0doufn543Y8PBwRmNUV1eLbmxsNGJHR0fBJ/cHmPlAaD6Q/2q1o7EfrOlysr6+LrqwsNDol25DpqGhQXQYr6Iw84HQfCA0H4jzpebu7q5o/W6Oax4eHoz24eGh6NnZWdFzc3O+Y9j3jbDvS8x8IDQfiPOlZmVlpWi97LTJ5SZGWVmZ6I2NDSNWV1cn2t6QWVtbE93f35/1PJj5QGg+EJoPJKdPNdNtaqdSKdHxeNyIhX2q5PPz+zZnz0m37dj09HSo82DmA6H5QCKzmVJbWyt6dXXViCUSCdGPj49ZX6u7u1t0TU1N1uMFhZkPhOYDcV523t7eRNslw97I+KKlpcVon5yciN7c3BQ9MzNj9Et3qkSfkJmYmPDtp8eYmpoyYmGvupj5QGg+EJoPJKeHoO1arpeU+kljpq9326dKksmk6OfnZyPW2toqenJy0ndMfXh6cXExo3kEhZkPhOYDyWnZsdFvFbe3t4sOeqrk6elJ9MvLixHTS8108GTKD4HmA4GWHc37+7voML69kG6Mm5sb0X19fUbs9PQ00LWDwMwHQvOB0HwgkdlMGR8fF60//+V5ntfU1PTX421tbRltfark7OxMdC5rvA0zHwjNBxKZpabGfjt4e3tbdH19ve/v+HVBkjE0HwjNBxKZpabGPlUyMDAgWn+i8V+HmQ+E5gOJZNmx0V99XVlZET00NGT00/9W9/b23E8sS5j5QGg+kEj+w/0pMPOB0HwgNB8IzQdC84HQfCA0HwjNB0LzgdB8IDQfCM0HQvOB/AZOXP56h+bY9AAAAABJRU5ErkJggg==\" y=\"-6.776271\"/>\n   </g>\n   <g id=\"patch_33\">\n    <path d=\"M 351.174576 101.776271 \nL 351.174576 7.2 \n\" style=\"fill:none;stroke:#000000;stroke-linecap:square;stroke-linejoin:miter;stroke-width:0.8;\"/>\n   </g>\n   <g id=\"patch_34\">\n    <path d=\"M 445.750847 101.776271 \nL 445.750847 7.2 \n\" style=\"fill:none;stroke:#000000;stroke-linecap:square;stroke-linejoin:miter;stroke-width:0.8;\"/>\n   </g>\n   <g id=\"patch_35\">\n    <path d=\"M 351.174576 101.776271 \nL 445.750847 101.776271 \n\" style=\"fill:none;stroke:#000000;stroke-linecap:square;stroke-linejoin:miter;stroke-width:0.8;\"/>\n   </g>\n   <g id=\"patch_36\">\n    <path d=\"M 351.174576 7.2 \nL 445.750847 7.2 \n\" style=\"fill:none;stroke:#000000;stroke-linecap:square;stroke-linejoin:miter;stroke-width:0.8;\"/>\n   </g>\n  </g>\n  <g id=\"axes_8\">\n   <g id=\"patch_37\">\n    <path d=\"M 351.174576 220.379908 \nL 445.750847 220.379908 \nL 445.750847 125.803636 \nL 351.174576 125.803636 \nz\n\" style=\"fill:#ffffff;\"/>\n   </g>\n   <g clip-path=\"url(#p3720c9ed74)\">\n    <image height=\"95\" id=\"image7eb36cf9a8\" transform=\"scale(1 -1)translate(0 -95)\" width=\"95\" x=\"351.174576\" xlink:href=\"data:image/png;base64,\niVBORw0KGgoAAAANSUhEUgAAAF8AAABfCAYAAACOTBv1AAAFN0lEQVR4nO2cyyt1fRTHl8f9fgkZIAwUYmaGgRLlDzCSTIhiwMBETFBySxkpkkxkYkAGmBmgyEBKitwil9xyv72z1VrrdU7n8exjnfd512f03f1+Z5/dt3XWWb/L/vkBwCcYKvzSfoD/M2a+Ima+Ima+Ima+Ima+Ima+Ima+Ima+Ima+Ima+Ima+Ima+IgGaXx4UFIQ6Ly8PdUlJCeuXnZ2N+vDwEPX4+Djrt7u7i/r19ZW1fX763uStRb4iZr4ifvCDiylJSUnsenFxEXVmZibqgADPsuHb2xu7Pjk5Qd3V1cXaaIp6eHjw6P7exiJfETNfEa+nnYiICNQLCwusLT8/H/WvX87GwfPzM7teWlpCXV1djfro6Ij1+8mqyCJfETNfETNfEcdzvp+fH7uuqKhAPTo6ytpCQkJQf3x8oJal4OPjI2r6H0I/D+D+f4Pef2dnB3VZWRnrt7+/j9rb+d8iXxEzXxHH0w6dLAMAmJqaQl1aWuryc2tra6ibm5tZ2/HxMer09HTUbW1trF9BQQHq4OBgl99F08ne3h5ro5N6ss3pNGSRr4iZr4iZr4jjOT8+Pp5dr6ysoE5JSWFtV1dXqCsrK1HT2U4AgPf3d9S0nIyJiWH9amtrUbe0tLC26OjoL59X5vHNzU3UxcXFrO3i4uLLe3wXi3xFzHxFHF/DlT9jupZKR5kAPO3QnztNM+64vb1l10NDQ6hliujr60MdGRmJWo7Is7KyULe3t7M2WgK/vLx49IzusMhXxMxXxPG08/T0xK7v7u5Qy+0cdALt/v7+t79Lpgx6v7GxMdZ2enqKemJiAnVUVBTr5+/vj7q8vJy19fb2oqYTcN/FIl8RM18RM18Rx3O+zOvn5+eoc3JyWFtsbCxqukhyc3Pj8v60lJWlKy1RZbk6OzuLurW1FXVPTw/rFxgYiDosLIy10RH1wcHBl8/0O1jkK2LmK+J42pFb+Oi+GLkNMDExEXVhYSHqyclJ1o/+rKn2dCQMwFPU/Pw8arleLEtPSmhoqMff5wkW+YqY+YqY+Yo4nvNl+TczM4O6qqqKtdF9Nx0dHahpWQjApygocnrB05KPPqP8DL2nzPH0eZ1YTLfIV8TMV8TrL8Strq6iljOXdISblpaGuru7m/VrbGxETctLOgMJwNd3ZclL+9IX7OQ+I4q8h63h/kWY+Yp4Pe2cnZ2hnp6eZm20+qFpoaamhvW7vLxEPTAwgFruSo6Li0MtUwbdtlJfX49ajrppJUQnBQH+/RbLn2KRr4iZr4iZr8iPvgRNS0sAgO3tbdQJCQkuP0cXaLa2tlAvLy+zfnTxXm4Rz8jIQE1LTbm9ke7H6e/vZ22dnZ2o5X/Kd7DIV8TMV+RH046kqKgINV3gcDfqpBNacr2Yvjgn9w9R3J3tMDc3h7qpqYm1ydLzT7HIV8TMV0Q17dBRLd2K19DQ4LKfO+joVKak6+tr1DR9jIyMsH702tU6glNY5Cti5iti5iuimvMpdKQpz+XJzc1F7en5CjJf02O+6P+LnKmUa9DexCJfETNfEZ9JO3TUKY9hGRwcRJ2amopabh2hR3vRMx8A+GiVvoinedipRb4iZr4iZr4iqgdZU2iJt76+ztqGh4dR19XVoQ4PD2f9aNkocz5928VXDrW2yFfEzFfEZ9IOTQV0nw4AX6tNTk5GTctOAH5U2MbGhsv7+woW+YqY+Yr4zAjXU+hIWC6yuDtexhexyFfEzFfEzFfkP5fz/yYs8hUx8xUx8xUx8xUx8xUx8xUx8xUx8xUx8xX5B2+HzlqINNnWAAAAAElFTkSuQmCC\" y=\"-125.379908\"/>\n   </g>\n   <g id=\"patch_38\">\n    <path d=\"M 351.174576 220.379908 \nL 351.174576 125.803636 \n\" style=\"fill:none;stroke:#000000;stroke-linecap:square;stroke-linejoin:miter;stroke-width:0.8;\"/>\n   </g>\n   <g id=\"patch_39\">\n    <path d=\"M 445.750847 220.379908 \nL 445.750847 125.803636 \n\" style=\"fill:none;stroke:#000000;stroke-linecap:square;stroke-linejoin:miter;stroke-width:0.8;\"/>\n   </g>\n   <g id=\"patch_40\">\n    <path d=\"M 351.174576 220.379908 \nL 445.750847 220.379908 \n\" style=\"fill:none;stroke:#000000;stroke-linecap:square;stroke-linejoin:miter;stroke-width:0.8;\"/>\n   </g>\n   <g id=\"patch_41\">\n    <path d=\"M 351.174576 125.803636 \nL 445.750847 125.803636 \n\" style=\"fill:none;stroke:#000000;stroke-linecap:square;stroke-linejoin:miter;stroke-width:0.8;\"/>\n   </g>\n  </g>\n  <g id=\"axes_9\">\n   <g id=\"patch_42\">\n    <path d=\"M 464.666102 101.776271 \nL 559.242373 101.776271 \nL 559.242373 7.2 \nL 464.666102 7.2 \nz\n\" style=\"fill:#ffffff;\"/>\n   </g>\n   <g clip-path=\"url(#pcb273b08d0)\">\n    <image height=\"95\" id=\"imageadf042d631\" transform=\"scale(1 -1)translate(0 -95)\" width=\"95\" x=\"464.666102\" xlink:href=\"data:image/png;base64,\niVBORw0KGgoAAAANSUhEUgAAAF8AAABfCAYAAACOTBv1AAADkElEQVR4nO2dPUgrURCFNxKQFGkkiHYSLSwUAqkErQ1YWMTGQrCziohgY6mFlYKF2NmqxEYCESstBS39qSxSiOJPKiWGiLF68+5cEklk7x7fvvNVZ5x9u8NhnHdzN7tGPM+rewRCB7qA/xmaD4TmA6H5QGg+EJoPhOYDoflAaD6QKLoAVxQKBRVvbGyIPjk5CbqchrDzgdB8IDQfSMQL6a7mw8ODiqPRv/+9ra6uit7c3AysJht2PhCaDyS0Y2dtbU3FS0tLoiuViuh4PB5YTTbsfCA0H0hoP+G+v783zcVisQAraQ47HwjNB0LzgYR25kcikW/j3wA7HwjNBxLasVOv17+N/zA0NKTiy8tLZzXZsPOB0HwgNB8IdOanUinRAwMDbf/7g4ODprlkMtnSOYKc8TbsfCA0H4jzsTM4OCh6ZWVF5SYmJkR3dna2fe7n52cVm8vJRCLR0jnsHU7zRotr2PlAaD4Q5/dw9/f3RWezWZU7Pz8XbX6dr1XsT6fmCqevr0/lRkZGGp4jl8upeHt7u+06fgo7HwjNB0Lzgfi+1LSXbv39/aKvrq5Uzlxqlsvltq+Vz+eb5rq7u1V8f3/f8LiODlz/sfOB0Hwgvo8d++t35ubZ7u6uyv1k1LTK4+Ojis1NOHPJOzo6qo7b2tpyVpMNOx8IzQdC84H4PvOr1aqK7+7uRE9PT6vczMyM35dvyu3tbcOf21sUQcLOB0LzgUB3Nc0dRde7ieYu59nZmeiuri513Pj4uGjXD0uz84HQfCDOx87U1JTonZ0dlSuVSqKHh4ddlqFYX18XvbCwoHKnp6eiM5mMytVqNV/rYOcDoflAaD6QQB+C3tvbU/Hk5KTosbEx0RcXF07rMJeXLy8vKvf5+Sm6p6dH5Z6ennytg50PhOYDCXTs2JtY5rLO/PVPp9PquNfXV2c1mTV4nr650tvbq3IcOyGC5gMJ9OEI+0EEc3//6OhI9PLysjrOjv3k8PBQxfY9XZew84HQfCA0Hwj0NV/mG//MGxf2w3H2ks9PZmdnVby4uCja/lr529ubr9dm5wOh+UCgz+F+fHyILhaLoufn5wOrwf40fX19LdrvMWPDzgdC84HQfCC/5n07x8fHoufm5gK7rv1HDm5ubgK7NjsfCM0HEtoXWf8LsPOB0HwgNB8IzQdC84HQfCA0HwjNB0LzgdB8IDQfCM0HQvOB0HwgNB8IzQfyBYxMzGenufu/AAAAAElFTkSuQmCC\" y=\"-6.776271\"/>\n   </g>\n   <g id=\"patch_43\">\n    <path d=\"M 464.666102 101.776271 \nL 464.666102 7.2 \n\" style=\"fill:none;stroke:#000000;stroke-linecap:square;stroke-linejoin:miter;stroke-width:0.8;\"/>\n   </g>\n   <g id=\"patch_44\">\n    <path d=\"M 559.242373 101.776271 \nL 559.242373 7.2 \n\" style=\"fill:none;stroke:#000000;stroke-linecap:square;stroke-linejoin:miter;stroke-width:0.8;\"/>\n   </g>\n   <g id=\"patch_45\">\n    <path d=\"M 464.666102 101.776271 \nL 559.242373 101.776271 \n\" style=\"fill:none;stroke:#000000;stroke-linecap:square;stroke-linejoin:miter;stroke-width:0.8;\"/>\n   </g>\n   <g id=\"patch_46\">\n    <path d=\"M 464.666102 7.2 \nL 559.242373 7.2 \n\" style=\"fill:none;stroke:#000000;stroke-linecap:square;stroke-linejoin:miter;stroke-width:0.8;\"/>\n   </g>\n  </g>\n  <g id=\"axes_10\">\n   <g id=\"patch_47\">\n    <path d=\"M 464.666102 220.379908 \nL 559.242373 220.379908 \nL 559.242373 125.803636 \nL 464.666102 125.803636 \nz\n\" style=\"fill:#ffffff;\"/>\n   </g>\n   <g clip-path=\"url(#p781eef6d48)\">\n    <image height=\"95\" id=\"imagef503c68781\" transform=\"scale(1 -1)translate(0 -95)\" width=\"95\" x=\"464.666102\" xlink:href=\"data:image/png;base64,\niVBORw0KGgoAAAANSUhEUgAAAF8AAABfCAYAAACOTBv1AAAFFUlEQVR4nO2duUs1SxDF67qLS+CCuyIKihsYuIGBYGRkYCLm/jtmZgZmRgpiICLiFrhFaiAiqLjhvuC+v6xeVTEzXO/re+v7nvWLjnTb0x56zu3p7rmGAOAbDBXitDvwmzHzFTHzFTHzFTHzFTHzFUnQ7oBLQqEQ6rg4Pq7i4+M9f+f9/Z39/P0du5m3jXxFzHxFYho7NBaCCPfWl+2lpKSgLisrY2XV1dWoT09PUW9sbLB6z8/PP+5HpNjIV8TMV8TMVySmmS8zlGZ20OdBuNmbmZmJuquri5U1NjaiXl9fR723t8fqvby8/Pi6kWIjXxEzXxHVJ1y/2zrc213We319RV1fX8/KWltbUdOIGxkZCeta0cBGviJmviJ/zMKai5nF09MTarmwVlBQgLqzsxN1VVUVq3d2dvaf+xEuNvIVMfMVMfMV+WMy38UT7ufnJ2q5SZKamoo6MTERdXNzM6u3uLgY1rVcYCNfETNfkZjGjpz+0ahJSPi3K0lJSawejZOgzQ66T5uTk+N7bVpPtvH19eX/BzjGRr4iZr4iZr4izjNf5jrd1E5PT2dldPOjsrISdVFREatHVyuXl5dRHx8fs3pZWVme7QHwzxea83IzxTL/l2DmK+IkdugtTZ8kAfgmRnt7OysrKSlBnZeX59s+3VelbYyNjbF6aWlpqGkEST4+PlAfHh761os2NvIVMfMVcRI7dIaTm5vLynp7e1HX1dWxMnrLz83Nod7d3WX16OwkPz8fdUZGBqtHn1zPz89ZGf09+sQsZ2exxEa+Ima+Ima+Is6nmhUVFayMnp+RGybj4+OoJyYmUD8+PrJ6NPPp6qec1iYnJ6MuLS1lZeXl5Z59l/1dWlryvG40sJGviJmviJPYobcn3R8F4DFBz9UAAKysrKC+v7/3bE/y9vbmqQF4rA0PD7Oynp4e1DU1Nai7u7tZvdHRUd/+usZGviJmviJmviLOM//m5oaVPTw8oJYb4/TzwMW0jrZxfX3NyoaGhlAPDAygbmtrY/XoOZ75+Xnf9l1gI18RM18RJ7FD9z0PDg5YGV25bGhoYGUtLS2od3Z2UNNVRxd9AgCYmppCfXl5ibqwsJDV6+/vR726usrKXE89beQrYuYr4vzoyNXVFft5enoatYwd+nQ5MzOD+uTkhNWjERLpaeaLiwvU9CQyffIFAGhqakJN32YB4Js8LmY+NvIVMfMVMfMVcZ758o2QoON9dHWxr68P9eDgIKvndyw8aPNbTjXp9JWueNJzRbJ9udFCjxZa5v/lmPmKOI8deTvSqJmdnWVlxcXFqDs6OlDTDQ0AgP39fc/2ZbSEOw3d2tpCPTk56dsn+Y2ENOZcnGa2ka+Ima9I1F+IoyeM6dMuAF9LpyeM5Szj6OgINX1RQhI0A6ExQRfI5Jp9bW2tZ98BeAzRk86RYiNfETNfETNfkahnPs1h+k2uAABra2uo6bf/0dwFANjc3ERNvw8n0ukezWu5gko/e+iTNQDPfL8X7H6CjXxFzHxFYho7d3d3rGxhYcGzniQ7Oxv17e0tajkVjOT2l5s/dBoqj8G4mF5SbOQrYuYrYuYrEtPMlxst29vbqOlZGvmWIT0+7jfdk9cKgmY3va5sX36muP5eBhv5ipj5ioRA8b+C0tgIihMK3Yt1EQPh/h8XADul/L/CzFdENXZ+OzbyFTHzFTHzFTHzFTHzFTHzFTHzFTHzFTHzFTHzFTHzFTHzFTHzFfkHjG3Zz14lXJoAAAAASUVORK5CYII=\" y=\"-125.379908\"/>\n   </g>\n   <g id=\"patch_48\">\n    <path d=\"M 464.666102 220.379908 \nL 464.666102 125.803636 \n\" style=\"fill:none;stroke:#000000;stroke-linecap:square;stroke-linejoin:miter;stroke-width:0.8;\"/>\n   </g>\n   <g id=\"patch_49\">\n    <path d=\"M 559.242373 220.379908 \nL 559.242373 125.803636 \n\" style=\"fill:none;stroke:#000000;stroke-linecap:square;stroke-linejoin:miter;stroke-width:0.8;\"/>\n   </g>\n   <g id=\"patch_50\">\n    <path d=\"M 464.666102 220.379908 \nL 559.242373 220.379908 \n\" style=\"fill:none;stroke:#000000;stroke-linecap:square;stroke-linejoin:miter;stroke-width:0.8;\"/>\n   </g>\n   <g id=\"patch_51\">\n    <path d=\"M 464.666102 125.803636 \nL 559.242373 125.803636 \n\" style=\"fill:none;stroke:#000000;stroke-linecap:square;stroke-linejoin:miter;stroke-width:0.8;\"/>\n   </g>\n  </g>\n  <g id=\"axes_11\">\n   <g id=\"patch_52\">\n    <path d=\"M 578.157627 101.776271 \nL 672.733898 101.776271 \nL 672.733898 7.2 \nL 578.157627 7.2 \nz\n\" style=\"fill:#ffffff;\"/>\n   </g>\n   <g clip-path=\"url(#p30996a77d1)\">\n    <image height=\"95\" id=\"image02c51d6e32\" transform=\"scale(1 -1)translate(0 -95)\" width=\"95\" x=\"578.157627\" xlink:href=\"data:image/png;base64,\niVBORw0KGgoAAAANSUhEUgAAAF8AAABfCAYAAACOTBv1AAADAklEQVR4nO2csWoqQRSGN8mNBpuIWgVJlVKrCIK9jRZirUU6UYQ8QLDTR/AJUqQRizRiK1ipkMLWQrBUtBOMaKp77sySvYjX9d/J/b/qH2YSDh+Hw84ac2FZ1t4iEC7RBfzPUD4QygdC+UAoHwjlA6F8IJQPhPKB/EIX8B13d3faul6vSx6NRpKbzebZanIDdj4QygdC+UA8M/Ovrq4kNxoNbe/p6enbc5z55GgoH4hnxs7l5Z8+SCQSjuceHh7OUc5ZYOcDoXwgnhk7n5+fkieTibYXi8Uk39zcSL6+vnb8HSbAzgdC+UAoH4hnZr5Kt9vV1rlcTvL9/b3k29tb7dx8Pne3sBPDzgdC+UA8OXYWi4XjXiQSkfz8/Kzt1Wo112pyA3Y+EMoHQvlALiwP/ol4NBrV1tPpVLL69nM8Hmvn4vG4u4WdGHY+EMoH4smxY+f19VVysViUvFqttHPpdFrycDh0va5/hZ0PhPKBePKGa6fVaklWx04wGNTOlUolyRw75K9QPhDKB2LEzFffcu52O8nqbdey9EdNE2DnA6F8IEbccFWcbruWpd947S/ZZrOZq3UdAzsfCOUDoXwgRjxqqqivDewzX33dUC6Xtb2XlxdX6zoGdj4Qygdi3KNmKpWS3O/3Hc8tl0ttHQqFXKvpWNj5QCgfiHFjR8U+dtSRtNlstL1kMin54+PD1boOhZ0PhPKBUD4Q4264Kr1eT1urM9/n82l76v9zyGaz7hZ2IOx8IJQPxOhHTfv/aBgMBo5nt9utZPuXp1Gw84FQPhCjx47f79fW6o338fHR8ecymYzkTqdz+sIOhJ0PhPKBUD4Qo2e+nXw+L7ndbjuee3t7k1woFLS9/f58Otj5QCgfyI8aO+FwWLL9AxP7d3t/EwgEtPV6vT55XU6w84FQPhDKB2L0hyl21G+wVCoVbe/9/V1ytVqVbP+g/Zyw84FQPpAf9ahpGux8IJQPhPKBUD4QygdC+UAoHwjlA6F8IJQPhPKBUD4QygdC+UAoHwjlA/kCXBiSKdrbqi8AAAAASUVORK5CYII=\" y=\"-6.776271\"/>\n   </g>\n   <g id=\"patch_53\">\n    <path d=\"M 578.157627 101.776271 \nL 578.157627 7.2 \n\" style=\"fill:none;stroke:#000000;stroke-linecap:square;stroke-linejoin:miter;stroke-width:0.8;\"/>\n   </g>\n   <g id=\"patch_54\">\n    <path d=\"M 672.733898 101.776271 \nL 672.733898 7.2 \n\" style=\"fill:none;stroke:#000000;stroke-linecap:square;stroke-linejoin:miter;stroke-width:0.8;\"/>\n   </g>\n   <g id=\"patch_55\">\n    <path d=\"M 578.157627 101.776271 \nL 672.733898 101.776271 \n\" style=\"fill:none;stroke:#000000;stroke-linecap:square;stroke-linejoin:miter;stroke-width:0.8;\"/>\n   </g>\n   <g id=\"patch_56\">\n    <path d=\"M 578.157627 7.2 \nL 672.733898 7.2 \n\" style=\"fill:none;stroke:#000000;stroke-linecap:square;stroke-linejoin:miter;stroke-width:0.8;\"/>\n   </g>\n  </g>\n  <g id=\"axes_12\">\n   <g id=\"patch_57\">\n    <path d=\"M 578.157627 220.379908 \nL 672.733898 220.379908 \nL 672.733898 125.803636 \nL 578.157627 125.803636 \nz\n\" style=\"fill:#ffffff;\"/>\n   </g>\n   <g clip-path=\"url(#p7147d00966)\">\n    <image height=\"95\" id=\"imagef4139262ed\" transform=\"scale(1 -1)translate(0 -95)\" width=\"95\" x=\"578.157627\" xlink:href=\"data:image/png;base64,\niVBORw0KGgoAAAANSUhEUgAAAF8AAABfCAYAAACOTBv1AAAEEUlEQVR4nO2czSutURTG10E+U0RRPpOBJIUoycjExJhMDJSxgX/BwNhE+Q/8BVJSRElJyohk6KNEvsvHna3W2veec0+3d5/nvTy/0fO293F2T+ss+2O9OyMiX0IgFKEH8JOh+UBoPhCaD4TmA6H5QErQA/gTRUU+JjKZjOrPz0/VX1//9yyZkQ+E5gNJTdqpqqpSPTAw4NpaWlpUHxwcqD4/P3f93t/fI40uDox8IDQfCM0HAs35dkrZ09OjenFx0fVra2tTvbGxoXphYcH1u7u7S3iEcWHkA6H5QKBpx65QHx4eVDc1Nbl+dXV1qltbW1V/fHxEHF18GPlAaD6Q1KSdy8tL1U9PT65faWmp6o6ODtXFxcURRxcfRj4Qmg+E5gNJza6mnWoeHh66tq6uLtUNDQ2q29vbXb+jo6MoY4sFIx8IzQeSmrRjD0LW19dd29TUlOry8nLVs7Ozrt/8/LzqfFe/9nw4JPYZMSMfCM0HQvOBpCbnW+whuYjI4+Oj6pqaGtVjY2OuX3V1ter7+3vXZvO3zfNhzi9kLRAjHwjNB5J42kli6nZ9fe2ej4+PVY+OjqpubGx0/To7O1WHq+Rs340sOWTkA6H5QFI523l5eXHPa2trqoeHh1XbEkMRkcnJSdXhJlsaq5sZ+UBoPhCaDyQjkV+C/pepZ/hmSm9vr+rNzU3VtbW1rt/p6anqoaEh1xaueNMAIx8IzQdS0KlmvlM8Oy0UEbm4uFBt30YJ32Bpbm5WbaueRUT29vbyGkchD1cY+UBoPhCaDyR6zk8iT9raTXu43t/f7/qVlZWpnp6edm37+/uq831rMZzyJr1FwcgHQvOBRF/hui/7x2mc/fn39fWp3t7edv0qKytVhy9IDw4Oqr69vf37YOX3tJP0HRCMfCA0Hwj0MCVbGgp/xvb57OxMtd1IE/EbcOH5rl3x7uzsZP2uXONIGkY+EJoPhOYDSc3dCza/hruatu35+Vl1WEpu87pd7YqIzMzMqN7d3VWdq5ScOf8bQ/OBFHSFm2vFaMmVduxnRkZGXD97HUxFRYVru7q6Ut3d3a0639VuDBj5QGg+kNSUC9rUku+q8+TkxLXd3NyotlfDiIjU19ertmWFKysrWf9+bBj5QGg+EJoPpKDlguHU0j7nWuFmo6TE/8taXl5WPTc3l/VzW1tbqicmJlxbWJ4eE0Y+EJoPBFoumOtMNx/CTbHV1VXV4+Pjrs3eUPj29qY6XAkz7fwQaD4Qmg8EWi6Y9I2w9kB9aWnJtdlycnuAHk5rs01/Y8DIB0LzgRT0MCU29rAmnELaF6ZfX19Vh7fXFvJybEY+EJoP5Fulnf8NRj4Qmg+E5gOh+UBoPhCaD4TmA6H5QGg+EJoPhOYDoflAaD6QX7LbTEtGDNi+AAAAAElFTkSuQmCC\" y=\"-125.379908\"/>\n   </g>\n   <g id=\"patch_58\">\n    <path d=\"M 578.157627 220.379908 \nL 578.157627 125.803636 \n\" style=\"fill:none;stroke:#000000;stroke-linecap:square;stroke-linejoin:miter;stroke-width:0.8;\"/>\n   </g>\n   <g id=\"patch_59\">\n    <path d=\"M 672.733898 220.379908 \nL 672.733898 125.803636 \n\" style=\"fill:none;stroke:#000000;stroke-linecap:square;stroke-linejoin:miter;stroke-width:0.8;\"/>\n   </g>\n   <g id=\"patch_60\">\n    <path d=\"M 578.157627 220.379908 \nL 672.733898 220.379908 \n\" style=\"fill:none;stroke:#000000;stroke-linecap:square;stroke-linejoin:miter;stroke-width:0.8;\"/>\n   </g>\n   <g id=\"patch_61\">\n    <path d=\"M 578.157627 125.803636 \nL 672.733898 125.803636 \n\" style=\"fill:none;stroke:#000000;stroke-linecap:square;stroke-linejoin:miter;stroke-width:0.8;\"/>\n   </g>\n  </g>\n  <g id=\"axes_13\">\n   <g id=\"patch_62\">\n    <path d=\"M 691.649153 101.776271 \nL 786.225424 101.776271 \nL 786.225424 7.2 \nL 691.649153 7.2 \nz\n\" style=\"fill:#ffffff;\"/>\n   </g>\n   <g clip-path=\"url(#p8e458f7b72)\">\n    <image height=\"95\" id=\"image5865c45bd6\" transform=\"scale(1 -1)translate(0 -95)\" width=\"95\" x=\"691.649153\" xlink:href=\"data:image/png;base64,\niVBORw0KGgoAAAANSUhEUgAAAF8AAABfCAYAAACOTBv1AAAD8UlEQVR4nO2dTyhtURTG9+WllJJQMpKplDIxkD8TlCEykEiKlAEyUSaYmTNB/iZ/ipSUgcKYyEyIJGGAFMXAG7319jq9e7v3OOd87/D9Rt9uXfcsn9Vyjr32FTHGfBoCIQmdwE+G5gOh+UBoPhCaD4TmA6H5QGg+EJoP5Bc6gUQpLS0VPTQ0pGJ7e3uix8fHVezx8VH0+/u7T9klBisfCM0HQvOBREzI/qp5dHQkurCwUMUikYjoz0/9bU1OTooeHh4WfX197XGG8cPKB0LzgYTuVjMWExMTond3d1Wsp6dH9MjIiOiWlhb/E4sCKx8IzQfyrdpOcnKy6IWFBRXb2NgQnZGREVhOsWDlA6H5QGg+kNA94XZ2dooeGxtTsfv7e9E5OTmB5eQWVj4Qmg8kdG3H5vb2Vq3T0tJEl5eXq9jh4WEgOSUCKx8IzQdC84GEuudPTU2pdWtrq+jFxUUVa2pqCiKlhGDlA6H5QELddhoaGtR6aWlJ9MvLi4pVVlaK/l9uO1n5QGg+kFBvpqysrKh1bW2t6ObmZhXLzMwMJKdEYOUDoflAaD6QUN9qOsnPzxd9dnamYvaYYXV1teiHhwff84oGKx8IzQfie9uxZ2SKiopUrKamRnR/f79oey/WGGNmZmbiutbc3Jzo4+PjqK+bn58XzXHBHwrNB0LzgXje84uLi9V6fX1ddG5ubvREYpwqiZd43+Pi4kK0/XvHGGPOz89dXdsNrHwgNB+I521ndnZWrWPtndqHlp+enkQ7DzDHiz2rU1FRoWIlJSX//JrV1VW1bmxsdHVtN7DygdB8IIFupmxubqp1XV2d6I+Pjy+///b2tujU1FQVGxgYEN3V1SW6vr7+y9d1CysfCM0HQvOBeN7z7adMY4xJSvr783U+4aakpIj2oufbvL29qfXg4KDom5sb0c7TLfYIYltbm6c5OWHlA6H5QDxvO319fWr9+voqur29XcXscb/p6WmvU4nK/v6+6Lu7OxWzJ513dnZUzN6E8QJWPhCaD8T3PdyqqirRW1tbUV9nn5sNcpyjoKBArU9OTkSvra2pmN2SnFPQbmDlA6H5QGg+EN97flZWlmj75IgxesPDftLs7u72M6WYjI6Oiu7t7VWxjo4O0fZHirmFlQ+E5gMJdErZ+fFap6enotPT00U7b/GC3Fe18zg4OFCx7Oxs0faIjHMiOl5Y+UBoPhCaDyTQDXT7HwgYox/tl5eXRTtH9vLy8kRfXl76ktsfnp+fRTtHH8vKykRfXV19+VqsfCA0H8i3OhAXNlj5QGg+EJoPhOYDoflAaD4Qmg+E5gOh+UBoPhCaD4TmA6H5QGg+EJoPhOYD+Q20FO6WgiwtSgAAAABJRU5ErkJggg==\" y=\"-6.776271\"/>\n   </g>\n   <g id=\"patch_63\">\n    <path d=\"M 691.649153 101.776271 \nL 691.649153 7.2 \n\" style=\"fill:none;stroke:#000000;stroke-linecap:square;stroke-linejoin:miter;stroke-width:0.8;\"/>\n   </g>\n   <g id=\"patch_64\">\n    <path d=\"M 786.225424 101.776271 \nL 786.225424 7.2 \n\" style=\"fill:none;stroke:#000000;stroke-linecap:square;stroke-linejoin:miter;stroke-width:0.8;\"/>\n   </g>\n   <g id=\"patch_65\">\n    <path d=\"M 691.649153 101.776271 \nL 786.225424 101.776271 \n\" style=\"fill:none;stroke:#000000;stroke-linecap:square;stroke-linejoin:miter;stroke-width:0.8;\"/>\n   </g>\n   <g id=\"patch_66\">\n    <path d=\"M 691.649153 7.2 \nL 786.225424 7.2 \n\" style=\"fill:none;stroke:#000000;stroke-linecap:square;stroke-linejoin:miter;stroke-width:0.8;\"/>\n   </g>\n  </g>\n  <g id=\"axes_14\">\n   <g id=\"patch_67\">\n    <path d=\"M 691.649153 220.379908 \nL 786.225424 220.379908 \nL 786.225424 125.803636 \nL 691.649153 125.803636 \nz\n\" style=\"fill:#ffffff;\"/>\n   </g>\n   <g clip-path=\"url(#pb303c68273)\">\n    <image height=\"95\" id=\"image61d9a49a61\" transform=\"scale(1 -1)translate(0 -95)\" width=\"95\" x=\"691.649153\" xlink:href=\"data:image/png;base64,\niVBORw0KGgoAAAANSUhEUgAAAF8AAABfCAYAAACOTBv1AAAFP0lEQVR4nO2cyyttcRTH1/HOM1KkkCKFgaREGRiYkJSBCDOJiYFH+Q8YmZkoykDJSMqIMvEIA8ljgESK8n6/H3e27lq/7tltu9+5657u+oy+p/W7Z+/7bZ3l9/YBwDcoIoRIv8D/jJoviJoviJoviJoviJovSJj0C/yU8PBw1KmpqSyWkpKCemdnh8Wenp4C+2Ie0MwXRM0XJCjKTlxcHOr29nbUTU1NrN3FxQXq4eFhFpudnUV9e3uL+uvry9p7/hTNfEHUfEHUfEGCouZnZGSg7ujoQJ2ens7avb29od7b22OxxcVF1Pf396i/v/mkrvk5kGjmC6LmCxIUZefh4QE1HeGGhoaydmFhv/87ERERLEZLzefnJ2qzzPh8PlfvZKM8aeYLouYL8lfLjvmTdvvTPTk5Qb28vIy6traWtfv4+EC9srLCYnRizem5NBYSwnOTljk6MqZl7Cdo5gui5gui5gsS8JpP6ybtCgLwWklrqFmTaS0fHR1FXVlZ6fdZR0dHfp/lFqe/DW67pE5o5gui5gtivew4/RydfvpO/47Gtra2UN/c3LB2ycnJqJOSkpxe0xVOk242FmE08wVR8wVR8wWxXvMDsThBv+Ps7Az13Nwca1dfX4+6vLycxSYnJ1F7nQ5w6g57QTNfEDVfEB8E8ckUcw13ZmYGtTmarqqqQk1Hvz8pH3QErV3NIEfNFySoyw5dzwUA6OvrQ93a2spi09PTf2z3+Pjo+nl0pK29nSBHzRdEzRfE+gjXXHSmXb7IyEgWo5/p4rRZT5+fn1G/vr6ijomJYe3od8THx7MYXWwfHx9Hvba2xto5jX5tbyXUzBdEzRfEStmhpcYsBWVlZagbGxtZLDMzEzU9fWJ2IS8vL1GPjY2hfnl5Ye1qampQm2WHfu7u7kbd0tLC2nmddPOCZr4gar4gar4gVmo+HXbn5uayWFdXF+qSkhIWo103ug3c7K4mJCSgrqurQ314eOj3ncxuIe2GVlRUoDYPUjt9p2008wVR8wWx3tUsKipisby8PNRRUVEsdnV1hZqusW5sbLB27+/vf3yueZ/CwcEB6p6eHhZLS0tDTbu1dIYTAKCzsxM1PWAXCDTzBVHzBbE+sWaOTinmz3h+fh51f38/6uvra7/f4TRRR1lfX2efh4aGUOfk5KCmvScAgKWlJdQTExMsZrsMaeYLouYLouYLYqXm0z0s9C4bAOfrtVZXV1HT7d5OM4s0ZnZB6aiW3rUAAFBdXY2a3sVjjrp7e3tRHx8fs9jCwoLfZ3tBM18QNV8Q611N87TI3d0danPCjOLlgJnTlj2zdNES0tzcjHpkZIS1KygoQN3W1sZiu7u7qE9PT129hxOa+YKo+YJYn8+PjY1lMToqNEe/xcXFqBMTE1HTAxBe38PpkAad0BscHGTt6Eib3nAFwHc604lAep0MgPsypJkviJoviJoviJWaT+upeasfra9ZWVksVlpairqhoQE13ZsD4P82QKfuqds7dfb391mMbh8sLCxkMbowlJ2djXpzc5O1czv7qZkviJoviJWyQ0eT5vrrwMAAaro+CsDLUH5+Pmq62AEAsL29jZpOaNnYNWxOBE5NTaE2F3XoGvH5+TlqveYrCFHzBVHzBQn4aUQ6k0nvwwHgtZ12J2n3FIDXV3rllzmM9/I3wLyVNjo6GjXdpgjAazvdtu51YV0zXxA1X5B/5hC000ILLSd/8377QKOZL4iaL8g/U3b+RzTzBVHzBVHzBVHzBVHzBVHzBVHzBVHzBVHzBVHzBVHzBVHzBVHzBfkFobPjU/BPfGQAAAAASUVORK5CYII=\" y=\"-125.379908\"/>\n   </g>\n   <g id=\"patch_68\">\n    <path d=\"M 691.649153 220.379908 \nL 691.649153 125.803636 \n\" style=\"fill:none;stroke:#000000;stroke-linecap:square;stroke-linejoin:miter;stroke-width:0.8;\"/>\n   </g>\n   <g id=\"patch_69\">\n    <path d=\"M 786.225424 220.379908 \nL 786.225424 125.803636 \n\" style=\"fill:none;stroke:#000000;stroke-linecap:square;stroke-linejoin:miter;stroke-width:0.8;\"/>\n   </g>\n   <g id=\"patch_70\">\n    <path d=\"M 691.649153 220.379908 \nL 786.225424 220.379908 \n\" style=\"fill:none;stroke:#000000;stroke-linecap:square;stroke-linejoin:miter;stroke-width:0.8;\"/>\n   </g>\n   <g id=\"patch_71\">\n    <path d=\"M 691.649153 125.803636 \nL 786.225424 125.803636 \n\" style=\"fill:none;stroke:#000000;stroke-linecap:square;stroke-linejoin:miter;stroke-width:0.8;\"/>\n   </g>\n  </g>\n  <g id=\"axes_15\">\n   <g id=\"patch_72\">\n    <path d=\"M 805.140678 101.776271 \nL 899.716949 101.776271 \nL 899.716949 7.2 \nL 805.140678 7.2 \nz\n\" style=\"fill:#ffffff;\"/>\n   </g>\n   <g clip-path=\"url(#p767f69cb72)\">\n    <image height=\"95\" id=\"image9145dc6525\" transform=\"scale(1 -1)translate(0 -95)\" width=\"95\" x=\"805.140678\" xlink:href=\"data:image/png;base64,\niVBORw0KGgoAAAANSUhEUgAAAF8AAABfCAYAAACOTBv1AAAD0UlEQVR4nO2cyyt1YRTG1+FLyCXXkcuEohAzf4AyI0pu5R9AMmFEUZIyMjUwklySlIFSRgaihJJcBgYKRZQBGfhmy7v2Z4vP3vs5dZ7f6Fmt97z77Wm1znv2fveJici7EAhJ6AUkMjQfCM0HQvOB0HwgNB/IH/QC4pmsrCwTHx4eqh4YGFC9vr7+X/Oz8oHQfCBsO1+wsrJi4vz8fNUXFxe/np+VD4TmA6H5QNjzPZSUlKhuaGgwuYWFBdUnJye/vhYrHwjNB5LwbaegoMDEW1tbvmOnpqYCvTYrHwjNB5Lwbaenp8fEZWVlqldXV03u/Pw80Guz8oHQfCA0H0hMEvDcTm1treqdnR2TS01NVV1ZWWlyZ2dnga6DlQ+E5gNJmK1mUtJHnQ0NDal224yIyNjYmOqg28w/awp1dvIlNB8IzQeSMFvNjo4O1fPz86qvr6/NOHcb+vDwEOqaWPlAaD6QuNlqus9Lu7q6TO7x8VH16Oio6ufnZ9/50tLSTNze3v7puO3tbROH3WpcWPlAaD4QaNtxW417NC87O9uMe3//2JAlJyerHh4eNuNeXl5Uj4yMmFxzc7Pqq6sr1ePj4z9ddmCw8oHQfCA0H0ikPT83N9fES0tLqjMzM1W7Pd4b9/X1qa6oqDDjent7Vbe2tvrOsbm5qfry8vJbaw8DVj4Qmg8k0rbjPfXrbimPj49VuzfBRESqq6tVt7S0qG5razPjdnd3Vefk5Jic+8t1ZmbmJ8sODVY+EJoPhOYDibTnd3Z2+ub29vZUn56empwbLy8vq/Z+h+Tl5fnOPzs7qzqIt0qCgJUPhOYDibTtuC+UiYg0NTWp3tjY+PF8+/v7Jm5sbPQdW19frzojI0P1Vw9kwoaVD4TmA4m07by+vpo4FoupHhwcVL22tmbGuUf63B1TeXm573yuFhFJT09XnZKS8oNVhwcrHwjNB0LzgUR6XLC0tNTER0dHqt3tn3uHU0Tk9vZWtfdXrR93d3cmrqurU31zc/OtOcKGlQ+E5gOJdKvpnpcREZmbm1Pd39+vuqamxozzPtP14+npSfX09LTJRXkM8Luw8oHQfCDQlyOKiopUHxwcqPbel/drO4uLiyZ2j5XEY5vxwsoHQvOB0HwgcfNCXHd3t+qJiQmTKy4u/vQzhYWFJr6/vw9+YSHCygdC84HETdtx8f5v/eTkpOqqqirV3ptsb29v4S4sYFj5QGg+EJoPJC57fqLAygdC84HQfCA0HwjNB0LzgdB8IDQfCM0HQvOB0HwgNB8IzQdC84HQfCA0HwjNB0LzgdB8IH8Bst7VZIGV6SoAAAAASUVORK5CYII=\" y=\"-6.776271\"/>\n   </g>\n   <g id=\"patch_73\">\n    <path d=\"M 805.140678 101.776271 \nL 805.140678 7.2 \n\" style=\"fill:none;stroke:#000000;stroke-linecap:square;stroke-linejoin:miter;stroke-width:0.8;\"/>\n   </g>\n   <g id=\"patch_74\">\n    <path d=\"M 899.716949 101.776271 \nL 899.716949 7.2 \n\" style=\"fill:none;stroke:#000000;stroke-linecap:square;stroke-linejoin:miter;stroke-width:0.8;\"/>\n   </g>\n   <g id=\"patch_75\">\n    <path d=\"M 805.140678 101.776271 \nL 899.716949 101.776271 \n\" style=\"fill:none;stroke:#000000;stroke-linecap:square;stroke-linejoin:miter;stroke-width:0.8;\"/>\n   </g>\n   <g id=\"patch_76\">\n    <path d=\"M 805.140678 7.2 \nL 899.716949 7.2 \n\" style=\"fill:none;stroke:#000000;stroke-linecap:square;stroke-linejoin:miter;stroke-width:0.8;\"/>\n   </g>\n  </g>\n  <g id=\"axes_16\">\n   <g id=\"patch_77\">\n    <path d=\"M 805.140678 220.379908 \nL 899.716949 220.379908 \nL 899.716949 125.803636 \nL 805.140678 125.803636 \nz\n\" style=\"fill:#ffffff;\"/>\n   </g>\n   <g clip-path=\"url(#p2a831ef010)\">\n    <image height=\"95\" id=\"image00aec1a55b\" transform=\"scale(1 -1)translate(0 -95)\" width=\"95\" x=\"805.140678\" xlink:href=\"data:image/png;base64,\niVBORw0KGgoAAAANSUhEUgAAAF8AAABfCAYAAACOTBv1AAAFgklEQVR4nO2dyytvURTH18/7MZESChOJpMyUTExkxB9gKvkvlJKJmTJTIjEjMykZo0iUR14hUZRX3o87uut+97r37Ptz7jkW7vqMvr/2vue3f6t9vnedvfbZEkT0Rv8xiUQisC0lJcX5/PLyEul3p/y9ixEXFnxFEvSNbAct5O0t3M9KS0tjnZGR4bQ9PDywjsKCbOYrYsFXxIKvSNrfu7wPX+oW1ofDfLccx+vra1LXwDHKa6Snp7NOTU1l/fj4+K5x/sRmviIWfEVC2w7ekpmZmazz8/PdL4DUDVM1IqKLiwvWeOuGtSe0Fvl0iuPw2RP+lpycHKft9vb2j9/1/PwcOA4fNvMVseArYsFXJGnPl96Ij96FhYWsS0tLnX43NzesT09PnTb05SiWBhB5DUwNc3NzWUtfR8+/v78PbEP/96XXPmzmK2LBVyRp25G38dPTE2u8BY+Ojpx+2HZ5eRl4jWTTs2SR4w1KQ+XKZXZ2Nmu0GSKi8/Nz1pheyhVOvL7vd9nMV8SCr0joJ1y8ndBOrq+vnX6+2zPuhTYEx4tWU1xc7PTDzAUtkyg4O5PZDmZW8jfiZ5v5iljwFbHgKxJJMQVTRrmaGIWvB/nre9JT/HeYTvpWYXd2dpy2oJVX6fnYhtcjErFKauRGLFjwFYnEdvA2kzYTRV0VU7ewNWKsv+LiX1FRkdPv8PCQtVwIvLq6Yo1ps/wdVkz5AljwFbHgKxL5vp3fvgBSLZl2Ba0uyoI0Ft7R133eKlckGxoaWHd2drLGIj4R0erqKmv0eDmuKFJom/mKWPAVidx2fKlmQUGB09bU1MS6sbGRtUzxxsbGWG9tbbGWq6SYktbW1jptvb29rDHVXFhYcPqdnZ2xltsAw1gNjonIHbPNfEUs+IrEbjtIVVWV87mtrY012gQ+jRIRtbS0sO7p6WE9PT3t9MNbvLW11WkrLy//4/UPDg6cfsfHx6yjePvEarifFAu+IhZ8RWJ/wsWnWFmsxjYsMkjPLykpYd3X18e6vb3d6beyssK6rq7OaUPv3d/fZz00NOT0u7u7+/1H/AO+/wNt5itiwVckdtvB9C8rK8tp29zcZL28vMxa1lXRQvDptL6+3umH6arcYYwLaJOTk6zX19edfh+5l8hmviIWfEUs+IrE7vnoofItENzXOTIywlo+8ldUVLAeHBxkXV1d7fTD60vPX1xcZD0+Ps5aviH5kdjMV8SCr0jstoN1T7nnBlc58/LyWMv0D59cu7q6WA8PDzv9cBugXJGcn59nfXJywvojU0uJzXxFLPiKxG47uGCG9VEiopqaGtb9/f2sOzo6nH4bGxust7e3We/t7Tn9KisrWftqp3JrihY28xWx4CtiwVckds/HIsba2prThmcgYMFkbm7O6TczM8N6d3eXtSy6JLt90Lfl3FY1/xMs+Ip86Imy+ARKRDQxMcG6ubn516A8b7DgC9d4nAyRaxlLS0tOW3d3N2t8gg67JTCKUxRt5itiwVdE9SBrrMfOzs6yxq19RO4tjuv0MnvCdfrR0VGnDY9rCXu8DI7D99IH1ghsu+AnxYKviAVfEVXPRw8tKytjjdvAidyX2bAQMjAw4PSbmppiLdPQfx0fUfALfNLzccuhbwXVZr4iFnxFPs3fTAk6koXIPR8BtxziOQlErtWEXSDDccjja5I9vBTTS0s1PykWfEUs+Ip8Gs/3EeTDvmMTw65OYtroO7IMvTzskZU28xWx4CvyJWwniLDn1iPSWoJOjSVy7SSK419s5itiwVfkS9uORFoIEiYTihub+YpY8BWx4CvyrTwfkX8LBbcIJlvgjhub+YpY8BWJfZeyFvhGDJFboNF89xaxma+IBV8RC74i3zbV/ArYzFfEgq/ID4x7K7jUmuVPAAAAAElFTkSuQmCC\" y=\"-125.379908\"/>\n   </g>\n   <g id=\"patch_78\">\n    <path d=\"M 805.140678 220.379908 \nL 805.140678 125.803636 \n\" style=\"fill:none;stroke:#000000;stroke-linecap:square;stroke-linejoin:miter;stroke-width:0.8;\"/>\n   </g>\n   <g id=\"patch_79\">\n    <path d=\"M 899.716949 220.379908 \nL 899.716949 125.803636 \n\" style=\"fill:none;stroke:#000000;stroke-linecap:square;stroke-linejoin:miter;stroke-width:0.8;\"/>\n   </g>\n   <g id=\"patch_80\">\n    <path d=\"M 805.140678 220.379908 \nL 899.716949 220.379908 \n\" style=\"fill:none;stroke:#000000;stroke-linecap:square;stroke-linejoin:miter;stroke-width:0.8;\"/>\n   </g>\n   <g id=\"patch_81\">\n    <path d=\"M 805.140678 125.803636 \nL 899.716949 125.803636 \n\" style=\"fill:none;stroke:#000000;stroke-linecap:square;stroke-linejoin:miter;stroke-width:0.8;\"/>\n   </g>\n  </g>\n  <g id=\"axes_17\">\n   <g id=\"patch_82\">\n    <path d=\"M 918.632203 101.776271 \nL 1013.208475 101.776271 \nL 1013.208475 7.2 \nL 918.632203 7.2 \nz\n\" style=\"fill:#ffffff;\"/>\n   </g>\n   <g clip-path=\"url(#pd312597138)\">\n    <image height=\"95\" id=\"image17b6b9011a\" transform=\"scale(1 -1)translate(0 -95)\" width=\"95\" x=\"918.632203\" xlink:href=\"data:image/png;base64,\niVBORw0KGgoAAAANSUhEUgAAAF8AAABfCAYAAACOTBv1AAAD40lEQVR4nO2cTSg9URjG53KR2EixuT6KbCxEFnaUsiFhIYmlLCQfK3ZsSPZSxELZWFEsLFDKRxKKkiwoK2wsEPn4L/71Ou9kbuPeufeZy/NbPad35pzT09vbzJw5J2BZ1qdFICShJ/CXoflAaD4Qmg+E5gOh+UBoPhCaD4TmA6H5QGg+EJoPhOYDCaInEA2dnZ2qXVVVJXp0dFTFbm9v4zKnn8DMB0LzgQSsBFhMyc3NFT07Oyu6srJSXZeTkyP66upKxRYWFkSPjIx4O8EIYeYDoflAfFl20tPTVXtubk50a2trRH2+v7+LXl1dFd3R0aGue3x8jKj/SGDmA6H5QGg+EF/W/IqKCtU+ODhwdd/m5qbompoaFQsEAt/eMzU1pdq9vb2uxvICZj4Qmg/Elx/W6urqHGNvb2+i5+fnVWxmZkZ0f3+/irW3t3/bXygUimCG3sDMB0LzgdB8INCaX1tbKzolJUV0U1OT4z3B4NeUu7q6VMze9jvMfCA0H4gnZSc5OVl0eXm5ii0uLn4NFtTD5eXliU5Kil8efH5+vdQfHh7GbVw7zHwgNB+IJx/WJicnRQ8ODkbbXUy4u7sTvbW1JbqtrQ0wm/8w84HQfCA0H4gnNd98dPv4+HB9n3nt9PS06L29PXVdfn6+6MvLS9FnZ2eOfZeWlqr27u6u6JubG9dzjCXMfCA0H4gnZcf8Azg7O1vFXl5eRE9MTKjY8vKy6OPj42inkXAw84HQfCA0H4gnNd/896W7u1vFzLre0tIS7VC/CmY+EJoPxJPFlJ2dHdH2smMurtj/kfHLmyYKZj4Qmg/Ek6edzMxM0cPDwyo2NDQk+v7+XsVKSkpEPzw8RDuNhIOZD4TmA6H5QDzfmZKamqraS0tLohsaGlRsbGxM9Pj4uOinpycvp+RbmPlAaD6QmG+Iy8jIEL29va1iZWVlopubm0WvrKw49ldYWCjafr6CudZrf3v+ydpyvGDmA6H5QGK+OcI8y8C+0a2vr0/06+urYx/mCVJra2vf9m1ZusStr6+r2Onpqej9/X3RR0dH6rrn52fH/r2GmQ+E5gOh+UB8efaCnerqatEbGxsxHev8/Fx0uN8Rw+H2TCBmPhCaDyQhyk5RUZHonp4e0fZ9t+bxYE5HvMQDc4NgOJj5QGg+EJoPJCFqvlvq6+tFNzY2qph57FdxcbGr/i4uLlS7oKBAdFpamuN9rPkJAM0H8qvKTjiysrJEm4su4bi+vlbtgYEB0eZXUnt5Ojk5cdU/Mx8IzQfyZ8qOH2HmA6H5QGg+EJoPhOYDoflAaD4Qmg+E5gOh+UBoPhCaD4TmA/kH0v3hZC0NOusAAAAASUVORK5CYII=\" y=\"-6.776271\"/>\n   </g>\n   <g id=\"patch_83\">\n    <path d=\"M 918.632203 101.776271 \nL 918.632203 7.2 \n\" style=\"fill:none;stroke:#000000;stroke-linecap:square;stroke-linejoin:miter;stroke-width:0.8;\"/>\n   </g>\n   <g id=\"patch_84\">\n    <path d=\"M 1013.208475 101.776271 \nL 1013.208475 7.2 \n\" style=\"fill:none;stroke:#000000;stroke-linecap:square;stroke-linejoin:miter;stroke-width:0.8;\"/>\n   </g>\n   <g id=\"patch_85\">\n    <path d=\"M 918.632203 101.776271 \nL 1013.208475 101.776271 \n\" style=\"fill:none;stroke:#000000;stroke-linecap:square;stroke-linejoin:miter;stroke-width:0.8;\"/>\n   </g>\n   <g id=\"patch_86\">\n    <path d=\"M 918.632203 7.2 \nL 1013.208475 7.2 \n\" style=\"fill:none;stroke:#000000;stroke-linecap:square;stroke-linejoin:miter;stroke-width:0.8;\"/>\n   </g>\n  </g>\n  <g id=\"axes_18\">\n   <g id=\"patch_87\">\n    <path d=\"M 918.632203 220.379908 \nL 1013.208475 220.379908 \nL 1013.208475 125.803636 \nL 918.632203 125.803636 \nz\n\" style=\"fill:#ffffff;\"/>\n   </g>\n   <g clip-path=\"url(#pc50f616994)\">\n    <image height=\"95\" id=\"image4810f1c03d\" transform=\"scale(1 -1)translate(0 -95)\" width=\"95\" x=\"918.632203\" xlink:href=\"data:image/png;base64,\niVBORw0KGgoAAAANSUhEUgAAAF8AAABfCAYAAACOTBv1AAAE9UlEQVR4nO2cuy9sURTG13i/3yQiHtGQSGiEUNBRKESnUqIh8Q9IFBqJisYfIFESEiQKIhqdTijFIx7xfr9ut+5a+zpzzx3HfHMz61d9k73mzMmXNWvWnr3PDhHRJxkQEtA3EM+Y+UDMfCBmPhAzH4iZD8TMB2LmAzHzgSShb+A7hEIh9frz8/+arFvmAzHzgZj5QGKy5ick6JxISvp9m6mpqaxLS0tV3MvLC+uTkxM19vr6ylr+Nnx8fHzvZr+BZT4QMx9ITJYdWWaIiHp6elh3dXWxLi8v97zG5uamer20tMR6d3eX9e3trYqLZrtqmQ/EzAcSohhcw83KylKvZ2ZmWHd0dLBOTk5WcWlpaazdLub6+pr17Ows67GxMRV3d3fH+qdLkGU+EDMfiJkPJCZbzdzcXM+xx8dH1nK2S6R/A9xZcnp6OuuBgQHWGxsbKm55eZn129ubzzuODMt8IGY+kEDKjvsVl4Rr1+RiSE5ODuu+vj4VV19fz/r+/p51RkaGisvMzPz7zTpx3d3damx1ddXXNYLAMh+ImQ/EzAcScc2X/zxWVlaydtu/p6cn1ldXV2qsqKiItfwLoaWlRcUlJiaylgsmsu0kInp/f2ft93fIXYSP5uKKZT4QMx9IxGVHtmu9vb2s5WIHkZ51Hh0dqbGKigrWdXV1X77HRZY7t7TIEueWExkrF1Dm5uZUnJWdOMHMBxJx2ZFdTWtrK+uGhgbPOFlaiPRs9fn5mbXsboh0yZCdivvH197eHmu37MhrLi4ust7e3lZxVnbiBDMfiJkPJOKaLxeaZWvoznBlvXZbw5WVFdbz8/Os3QX0pqamL6+xs7Oj4tbW1ljLtpNIt6jn5+es5e9OtLHMB2LmA4l43478+k9MTLAeHh5WcfLrfnFxocZkW3p8fMw60v0ybnvpNSavj3yaxTIfiJkPxMwHEshezZqaGtbudF3ul5Fbs4mImpubWbsLI/GAZT4QMx9IIPt29vf3WcvtdkREnZ2drE9PT9VYuHXWSJDtZLgHpGPlYWnLfCBmPpBAyo5cgBgaGlJjU1NTrM/OzvSHJ/n7+HDlRBIr5cQvlvlAzHwgZj6QH38asbq6mrXcVkikF0MuLy9Zu7Vb1nl3cV0if3uQZyr4xTIfiJkP5MfLjpzF5ufnqzG5V0euucrdxkS61JSUlLAuKChQcfKYF1nGiHQZ8tuShpuBB1HWLPOBmPlAonr2grv7WL6WX2P3615VVcV6fHycdXt7u4qT11hYWFBjk5OTrA8PDz0/q7Cw8MvPJdLlb2tri7XcRvMvWOYDMfOBmPlAolrz3dmp/FdTzmLlui8RUVtbG+vp6WnWZWVlKs5rbw6RfpBOnr3jtrXys1NSUtSYbIflVsfBwUEV5x4d5oVlPhAzH8iPH/kiWzl38USOyTbx4eFBxcljWWTLODo6quLy8vJYu4susoQUFxf7ufU/kPcrTzZ0j6jxe1SYZT4QMx+ImQ8k8FbTna5nZ2ezds/HkbVdarf98zorwf27ora2lnV/f78aa2xsZC0fvnafgpHI9pSI6ODggPXIyAjr9fV1z/sNh2U+EDMfSOBlx23x5ANy7gw33AJK0HiVK7ftlG3jzc2NGpMLNEE8SGeZD8TMBxKTB1nHC5b5QMx8IGY+EDMfiJkPxMwHYuYDMfOBmPlAzHwgZj4QMx+ImQ/kF6RycHxiqGmhAAAAAElFTkSuQmCC\" y=\"-125.379908\"/>\n   </g>\n   <g id=\"patch_88\">\n    <path d=\"M 918.632203 220.379908 \nL 918.632203 125.803636 \n\" style=\"fill:none;stroke:#000000;stroke-linecap:square;stroke-linejoin:miter;stroke-width:0.8;\"/>\n   </g>\n   <g id=\"patch_89\">\n    <path d=\"M 1013.208475 220.379908 \nL 1013.208475 125.803636 \n\" style=\"fill:none;stroke:#000000;stroke-linecap:square;stroke-linejoin:miter;stroke-width:0.8;\"/>\n   </g>\n   <g id=\"patch_90\">\n    <path d=\"M 918.632203 220.379908 \nL 1013.208475 220.379908 \n\" style=\"fill:none;stroke:#000000;stroke-linecap:square;stroke-linejoin:miter;stroke-width:0.8;\"/>\n   </g>\n   <g id=\"patch_91\">\n    <path d=\"M 918.632203 125.803636 \nL 1013.208475 125.803636 \n\" style=\"fill:none;stroke:#000000;stroke-linecap:square;stroke-linejoin:miter;stroke-width:0.8;\"/>\n   </g>\n  </g>\n  <g id=\"axes_19\">\n   <g id=\"patch_92\">\n    <path d=\"M 1032.123729 101.776271 \nL 1126.7 101.776271 \nL 1126.7 7.2 \nL 1032.123729 7.2 \nz\n\" style=\"fill:#ffffff;\"/>\n   </g>\n   <g clip-path=\"url(#p4e02bada8d)\">\n    <image height=\"95\" id=\"image63d645b2d4\" transform=\"scale(1 -1)translate(0 -95)\" width=\"95\" x=\"1032.123729\" xlink:href=\"data:image/png;base64,\niVBORw0KGgoAAAANSUhEUgAAAF8AAABfCAYAAACOTBv1AAAEbUlEQVR4nO2cSyitXxjGt1suIYoMXEYSJSmSUlJMJIqUxIyBcjdACKEMlAlFTKQwlJkyoDAwMCGJlJDkmkLu/Efn/a+12lv77PPZz3bO8xs9b2v51tvT29vyrfVtL5vN9mkjELzRCfzL0HwgvsjFm5ubRQ8PD4uur6/X5o2OjrotJ3fCygdC84HQfCBeNuBW8+TkRHRMTIzoi4sLbV5qaqros7Ozb8/LXbDygdB8INCt5s3Njejo6GjRkZGR2rympibRbW1t356Xu2DlA6H5QGg+EOhWs6ioSPTCwoLoz0/HKeXm5opeXl7+nsTcBCsfCM0HAm07wcHBond3d0Wr206Tra0t0ZmZmdrY09OThdl9P6x8IDQfCLTtqISEhIi+urrSxvz8/Oz+zcTEhBbX1NRYn9g3wsoHQvOB0HwgHtPzVfr7+7W4s7PT7ryHhwctLiwsFL2ysmJ5XlbDygdC84F4ZNvJyMjQ4qWlJdHqltTk/v5edH5+vja2vr5uUXbWwcoHQvOB0HwgHtnzTaqrq0WrdzrVt6ImOzs7Wpyeni76+fnZwuxch5UPhOYD+RFtR6W1tVX0wMCANubr6/gaUkVFhei5uTnrE3MBVj4Qmg/kx7UdlenpaS2urKx0OPfu7k50S0uL6KmpKW3e+/u7Nck5ASsfCM0HQvOBuPWKeFhYmBa3t7eLzsrKEn19fa3NOz4+Fu3v7y86ISHB6bXVt6GTk5Oi09LStHkdHR2ib29vnX6+K7DygdB8IJZvNQMDA7V4dnZWdF5enjYWFBQk2tv7/zr46payuhX08fFxOc9ffHx8aPH8/LzohoYGbczqj/FY+UBoPhCaD8Tynl9QUKDFMzMzokNDQ7Wxo6Mj0eohSWxsrDYvMTHR7lqPj49anJSUZFfbbPr9z6ioKLvPMzE/xs7Ozha9v7/v1DO+gpUPhOYDsfw/XPOt4FfbQfXwY2NjQ/TIyIhLa6trma2rtLRUtPp7PuHh4do89VzYbE9dXV2iq6qqRL++vrqULysfCM0HYvluJyAgQIvVM9eenh59cS8v0ZeXl6LHxsa0eUNDQ6LNm8nOon5IV15eLtr8+G5xcdGp56ktSc39d2DlA6H5QGg+EMu3muaHyH19faLN/lpcXCxa/Y2d7u5ubZ560LK9vS1aPfiwt7aKekCjbod7e3sdPuP8/Fwbi4uLc/h8V2DlA6H5QKD3dlJSUkTX1taKLisr0+aZL+R+cXp6qsWrq6uiDw8PtTF1y7u5uSna/ApGPTB5e3vTxgYHB0WPj4/bzel3YOUDoflAPPK6YHJyshbX1dWJLikpER0REfHHa5mtZW9vT/Ta2po21tjYKPrl5eWP12blA6H5QGg+EI/s+V8RHx8v2uz56n/MOTk52ph6P0fdJpofRx8cHFiRplOw8oHQfCA/ru38TbDygdB8IDQfCM0HQvOB0HwgNB8IzQdC84HQfCA0HwjNB0LzgdB8IDQfCM0HQvOB0HwgNB8IzQdC84HQfCA0H8h/QIsV5Jtj8zgAAAAASUVORK5CYII=\" y=\"-6.776271\"/>\n   </g>\n   <g id=\"patch_93\">\n    <path d=\"M 1032.123729 101.776271 \nL 1032.123729 7.2 \n\" style=\"fill:none;stroke:#000000;stroke-linecap:square;stroke-linejoin:miter;stroke-width:0.8;\"/>\n   </g>\n   <g id=\"patch_94\">\n    <path d=\"M 1126.7 101.776271 \nL 1126.7 7.2 \n\" style=\"fill:none;stroke:#000000;stroke-linecap:square;stroke-linejoin:miter;stroke-width:0.8;\"/>\n   </g>\n   <g id=\"patch_95\">\n    <path d=\"M 1032.123729 101.776271 \nL 1126.7 101.776271 \n\" style=\"fill:none;stroke:#000000;stroke-linecap:square;stroke-linejoin:miter;stroke-width:0.8;\"/>\n   </g>\n   <g id=\"patch_96\">\n    <path d=\"M 1032.123729 7.2 \nL 1126.7 7.2 \n\" style=\"fill:none;stroke:#000000;stroke-linecap:square;stroke-linejoin:miter;stroke-width:0.8;\"/>\n   </g>\n  </g>\n  <g id=\"axes_20\">\n   <g id=\"patch_97\">\n    <path d=\"M 1032.123729 220.379908 \nL 1126.7 220.379908 \nL 1126.7 125.803636 \nL 1032.123729 125.803636 \nz\n\" style=\"fill:#ffffff;\"/>\n   </g>\n   <g clip-path=\"url(#p594d0b3efd)\">\n    <image height=\"95\" id=\"image4e069c7ee1\" transform=\"scale(1 -1)translate(0 -95)\" width=\"95\" x=\"1032.123729\" xlink:href=\"data:image/png;base64,\niVBORw0KGgoAAAANSUhEUgAAAF8AAABfCAYAAACOTBv1AAAFP0lEQVR4nO2cSSjtcRTHzzVPmUKxEEkRCyFsSIYsDGVLscFGVlZWShays7BQNjbGjWTBRkQhMiRZyEKZMss8v9155/zee7fb7X/vufc5n9X39juuv+877/x/sw0AvkERwUf6AX4yar4gfq7+BTabDXV4eDhr29jYQJ2YmIj68PCQxWVlZaF+eHiw+Anl0MwXRM0XRM0XxOU138fn979vcnIya4uIiEDt6+uLOj4+nsXRmr+0tOTUc9B3T0hICOqnpycW9/3tvp63Zr4gar4gLi87lJeXF/Z5b28PdXZ2Nuqvry8WV1tbi3p5eRn15+enw7/bz+/3nxoWFob6/f2dxdHPri5BmvmCqPmCqPmC2MCNs5q07gIAtLa2ou7u7kYdFBTE4i4vL1Hn5OSgPjk5ceo5aLfWfL9oV/OHoOYL4tayYxIdHY16dXUVdUpKyj9/ZnFxEXVpaSlr+/j4sPDpXI9mviBqviCiZYdOdjU1NaHu7+9ncf7+/qhp76Snp4fFdXZ2ovaGEqSZL4iaL4iaL4hozacEBASgnpycZG0VFRWo6eLM6+sri2tvb0c9MDDA2jzxHaCZL4iaL4jHlB0KHfkCACwsLKBOT09HTUsQAMD19TXqqqoq1kZH0O6cPLOHZr4gar4gar4gHlnzTeiC98jICOry8nIWR6crZmdnWVtdXR1qT9nvqZkviJoviFeUHVpO6BruxMQEi0tISEB9f3/P2tra2lCPjY2hNtdw3YlmviBqviBu3aVMF0UA+BYOuvXPLAV00q2wsBC1edKFfp/ZRremHBwcoF5fX2dx7ixDmvmCqPmCqPmCWN7VDAwMZJ9LSkpQNzY2srbQ0FDUp6enqO/u7lhcXl4earqVnP48AO+SmtB3yvn5Oequri4WNzQ0hPr5+fmf32cFmvmCqPmCWFJ26H93c6sfHU1mZmayNloKbm9vUV9dXbG4yMhI1DExMahpF9R8DnsliC6mmKdl5ufnUTc3N7O2s7Ozvz67s2jmC6LmC6LmC2LJ9AKtr+biNz3obJ5ModMBb29vqIeHh1nc7u4u6oKCAtS02wnAu5DmQer8/HzUdHEmODiYxZWVlaGmCzcAAA0NDajp5RzOLshr5gui5gti+awm7TICANzc3KBOSkpibbRc0ZHx1tYWi6Pdv5mZGdTmLKl5oJlCR8lTU1Ooo6KiWBz9TrpwAwBQU1ODmm5jd7bbqZkviJoviCVlh77t6SgQgI9w09LSWBs9b0sXP8wJuO3tbdQXFxeozdEpXQgxeyArKyuoBwcHUdOdzQB88cecJMzNzf1rnJYdL0TNF0TNF8Tymv/4+MjaxsfHUZuzmtXV1ahp/S8qKmJxfX19qOl1kDs7Oyxuc3MTNb2vwWRubg41vf8BgF8BZhIXF4fa3J7uDJr5gqj5glg+wjW7XcfHx6g7OjpY29raGur6+nrU5uQcHZ0WFxejNruCtOtJJ+MAeLmiI23zeenBOTrZBwCwv7+Pmo6EzYN5jqKZL4iaL4hbdymb66p0DTY2NhZ1RkYGi6usrERNr3mhl18D/Dk3T6HlhZYWczKOblsxtxL29vaipqNuszw5uuVQM18QNV8QNV8Qj7lvx96eG9qto4sf5kHnlpYW1KmpqayN1uWjoyPU09PTLG50dBS1eXshPUhnbwbV0TVdzXxB1HxBvOJAnKPQcmVv4ouWBT0Q90NR8wVR8wX5r2q+t6GZL4iaL4iaL4iaL4iaL4iaL4iaL4iaL4iaL4iaL4iaL4iaL4iaL4iaL4iaL4iaL4iaL4iaL4iaL8gv2mOUgtYz7/gAAAAASUVORK5CYII=\" y=\"-125.379908\"/>\n   </g>\n   <g id=\"patch_98\">\n    <path d=\"M 1032.123729 220.379908 \nL 1032.123729 125.803636 \n\" style=\"fill:none;stroke:#000000;stroke-linecap:square;stroke-linejoin:miter;stroke-width:0.8;\"/>\n   </g>\n   <g id=\"patch_99\">\n    <path d=\"M 1126.7 220.379908 \nL 1126.7 125.803636 \n\" style=\"fill:none;stroke:#000000;stroke-linecap:square;stroke-linejoin:miter;stroke-width:0.8;\"/>\n   </g>\n   <g id=\"patch_100\">\n    <path d=\"M 1032.123729 220.379908 \nL 1126.7 220.379908 \n\" style=\"fill:none;stroke:#000000;stroke-linecap:square;stroke-linejoin:miter;stroke-width:0.8;\"/>\n   </g>\n   <g id=\"patch_101\">\n    <path d=\"M 1032.123729 125.803636 \nL 1126.7 125.803636 \n\" style=\"fill:none;stroke:#000000;stroke-linecap:square;stroke-linejoin:miter;stroke-width:0.8;\"/>\n   </g>\n  </g>\n </g>\n <defs>\n  <clipPath id=\"pb53ad04f91\">\n   <rect height=\"94.576271\" width=\"94.576271\" x=\"10.7\" y=\"7.2\"/>\n  </clipPath>\n  <clipPath id=\"pf0a25006e3\">\n   <rect height=\"94.576271\" width=\"94.576271\" x=\"10.7\" y=\"125.803636\"/>\n  </clipPath>\n  <clipPath id=\"p0bc0f9104a\">\n   <rect height=\"94.576271\" width=\"94.576271\" x=\"124.191525\" y=\"7.2\"/>\n  </clipPath>\n  <clipPath id=\"p2a9bdf99f9\">\n   <rect height=\"94.576271\" width=\"94.576271\" x=\"124.191525\" y=\"125.803636\"/>\n  </clipPath>\n  <clipPath id=\"p36c829d7f0\">\n   <rect height=\"94.576271\" width=\"94.576271\" x=\"237.683051\" y=\"7.2\"/>\n  </clipPath>\n  <clipPath id=\"p3b8b27138d\">\n   <rect height=\"94.576271\" width=\"94.576271\" x=\"237.683051\" y=\"125.803636\"/>\n  </clipPath>\n  <clipPath id=\"p499e32a7c4\">\n   <rect height=\"94.576271\" width=\"94.576271\" x=\"351.174576\" y=\"7.2\"/>\n  </clipPath>\n  <clipPath id=\"p3720c9ed74\">\n   <rect height=\"94.576271\" width=\"94.576271\" x=\"351.174576\" y=\"125.803636\"/>\n  </clipPath>\n  <clipPath id=\"pcb273b08d0\">\n   <rect height=\"94.576271\" width=\"94.576271\" x=\"464.666102\" y=\"7.2\"/>\n  </clipPath>\n  <clipPath id=\"p781eef6d48\">\n   <rect height=\"94.576271\" width=\"94.576271\" x=\"464.666102\" y=\"125.803636\"/>\n  </clipPath>\n  <clipPath id=\"p30996a77d1\">\n   <rect height=\"94.576271\" width=\"94.576271\" x=\"578.157627\" y=\"7.2\"/>\n  </clipPath>\n  <clipPath id=\"p7147d00966\">\n   <rect height=\"94.576271\" width=\"94.576271\" x=\"578.157627\" y=\"125.803636\"/>\n  </clipPath>\n  <clipPath id=\"p8e458f7b72\">\n   <rect height=\"94.576271\" width=\"94.576271\" x=\"691.649153\" y=\"7.2\"/>\n  </clipPath>\n  <clipPath id=\"pb303c68273\">\n   <rect height=\"94.576271\" width=\"94.576271\" x=\"691.649153\" y=\"125.803636\"/>\n  </clipPath>\n  <clipPath id=\"p767f69cb72\">\n   <rect height=\"94.576271\" width=\"94.576271\" x=\"805.140678\" y=\"7.2\"/>\n  </clipPath>\n  <clipPath id=\"p2a831ef010\">\n   <rect height=\"94.576271\" width=\"94.576271\" x=\"805.140678\" y=\"125.803636\"/>\n  </clipPath>\n  <clipPath id=\"pd312597138\">\n   <rect height=\"94.576271\" width=\"94.576271\" x=\"918.632203\" y=\"7.2\"/>\n  </clipPath>\n  <clipPath id=\"pc50f616994\">\n   <rect height=\"94.576271\" width=\"94.576271\" x=\"918.632203\" y=\"125.803636\"/>\n  </clipPath>\n  <clipPath id=\"p4e02bada8d\">\n   <rect height=\"94.576271\" width=\"94.576271\" x=\"1032.123729\" y=\"7.2\"/>\n  </clipPath>\n  <clipPath id=\"p594d0b3efd\">\n   <rect height=\"94.576271\" width=\"94.576271\" x=\"1032.123729\" y=\"125.803636\"/>\n  </clipPath>\n </defs>\n</svg>\n",
      "image/png": "[encoded data removed]"
     },
     "metadata": {
      "needs_background": "light"
     }
    }
   ],
   "source": [
    "import matplotlib.pyplot as plt\n",
    "\n",
    "\n",
    "n = 10  # How many digits we will display\n",
    "plt.figure(figsize=(20, 4))\n",
    "for i in range(n):\n",
    "    # Display original\n",
    "    ax = plt.subplot(2, n, i + 1)\n",
    "    plt.imshow(x_test[i].reshape(28, 28))\n",
    "    plt.gray()\n",
    "    ax.get_xaxis().set_visible(False)\n",
    "    ax.get_yaxis().set_visible(False)\n",
    "\n",
    "    # Display reconstruction\n",
    "    ax = plt.subplot(2, n, i + 1 + n)\n",
    "    plt.imshow(roundtrip_imgs[i].reshape(28, 28))\n",
    "    plt.gray()\n",
    "    ax.get_xaxis().set_visible(False)\n",
    "    ax.get_yaxis().set_visible(False)\n",
    "plt.show()"
   ]
  },
  {
   "source": [
    "What about the compression? Let's check the sizes of the arrays."
   ],
   "cell_type": "markdown",
   "metadata": {}
  },
  {
   "cell_type": "code",
   "execution_count": null,
   "metadata": {},
   "outputs": [],
   "source": [
    "encoded_imgs = encoder.transform(x_test)\n",
    "print(f\"x_test.shape[1]: {x_test.shape[1]}\")\n",
    "print(f\"encoded_imgs.shape[1]: {encoded_imgs.shape[1]}\")\n",
    "space_saving = (1-encoded_imgs.astype(x_test.dtype).nbytes/x_test.nbytes)*100\n",
    "print(f\"Space saving: {space_saving:0.2f}%\")"
   ]
  }
 ],
 "metadata": {
  "colab": {
   "collapsed_sections": [],
   "name": "Benchmarks.ipynb",
   "provenance": []
  },
  "kernelspec": {
   "display_name": "Python 3",
   "language": "python",
   "name": "python3"
  },
  "language_info": {
   "codemirror_mode": {
    "name": "ipython",
    "version": 3
   },
   "file_extension": ".py",
   "mimetype": "text/x-python",
   "name": "python",
   "nbconvert_exporter": "python",
   "pygments_lexer": "ipython3",
   "version": "3.8.5-final"
  }
 },
 "nbformat": 4,
 "nbformat_minor": 1
}