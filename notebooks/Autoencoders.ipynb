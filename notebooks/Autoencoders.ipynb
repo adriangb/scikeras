{
 "cells": [
  {
   "cell_type": "markdown",
   "metadata": {
    "id": "z22BE9uhvoxO"
   },
   "source": [
    "# Autoencoders in SciKeras"
   ]
  },
  {
   "cell_type": "markdown",
   "metadata": {
    "id": "hapoJed-voxP"
   },
   "source": [
    "Autencoders are an approach to use nearual networks to distill data into it's most important features, thereby compressing the data. We will be following the [Keras tutorial](https://blog.keras.io/building-autoencoders-in-keras.html) on the topic, which goes much more in depth and breadth than we will here. You are highly encouraged to check out that tutorial if you want to learn about autoencoders in the general sense.\n",
    "\n",
    "\n",
    "\n",
    "<table align=\"left\"><td>\n",
    "<a target=\"_blank\" href=\"https://colab.research.google.com/github/adriangb/scikeras/blob/master/notebooks/Basic_Usage.ipyn\">\n",
    "    <img src=\"https://www.tensorflow.org/images/colab_logo_32px.png\" />Run in Google Colab</a>  \n",
    "</td><td>\n",
    "<a target=\"_blank\" href=\"https://github.com/adriangb/scikeras/blob/master/notebooks/Basic_Usage.ipynb\"><img width=32px src=\"https://www.tensorflow.org/images/GitHub-Mark-32px.png\" />View source on GitHub</a></td></table>"
   ]
  },
  {
   "cell_type": "markdown",
   "metadata": {
    "id": "iT-ibpi7voxQ"
   },
   "source": [
    "### Table of contents"
   ]
  },
  {
   "cell_type": "markdown",
   "metadata": {
    "id": "ekJWKPFMvoxR"
   },
   "source": [
    "* [Data](#Data)\n",
    "* [Define Model](#Define-Keras-Model)\n",
    "* [Training](#Training)\n",
    "* [Explore Results](#Explore-Results)"
   ]
  },
  {
   "cell_type": "markdown",
   "metadata": {
    "id": "6avb3GBQDQyG"
   },
   "source": [
    "Install SciKeras"
   ]
  },
  {
   "cell_type": "code",
   "execution_count": null,
   "metadata": {
    "id": "qCcyTjVkvoxR"
   },
   "outputs": [],
   "source": [
    "!python -m pip install scikeras"
   ]
  },
  {
   "cell_type": "markdown",
   "metadata": {
    "id": "EZveNcetDQyL"
   },
   "source": [
    "Silence TensorFlow warnings to keep output succint."
   ]
  },
  {
   "cell_type": "code",
   "execution_count": 54,
   "metadata": {
    "id": "ekNmO_GPDQyL"
   },
   "outputs": [],
   "source": [
    "import warnings\n",
    "from tensorflow import get_logger\n",
    "get_logger().setLevel('ERROR')"
   ]
  },
  {
   "cell_type": "markdown",
   "metadata": {
    "id": "hCuOBH8AvoxX"
   },
   "source": [
    "## Data"
   ]
  },
  {
   "cell_type": "markdown",
   "metadata": {
    "id": "i3fAUKBUvoxY"
   },
   "source": [
    "We load the dataset from the Keras tutorial. The dataset consists of images of cats and dogs."
   ]
  },
  {
   "cell_type": "code",
   "execution_count": 55,
   "metadata": {
    "colab": {
     "base_uri": "https://localhost:8080/",
     "height": 51
    },
    "id": "QM74xeoe-1S-",
    "outputId": "23946eec-c32f-4db6-8bda-e12bda6492ea"
   },
   "outputs": [
    {
     "output_type": "stream",
     "name": "stdout",
     "text": [
      "(60000, 784)\n(10000, 784)\n"
     ]
    }
   ],
   "source": [
    "from tensorflow.keras.datasets import mnist\n",
    "import numpy as np\n",
    "\n",
    "\n",
    "(x_train, _), (x_test, _) = mnist.load_data()\n",
    "x_train = x_train.astype('float32') / 255.\n",
    "x_test = x_test.astype('float32') / 255.\n",
    "x_train = x_train.reshape((len(x_train), np.prod(x_train.shape[1:])))\n",
    "x_test = x_test.reshape((len(x_test), np.prod(x_test.shape[1:])))\n",
    "print(x_train.shape)\n",
    "print(x_test.shape)"
   ]
  },
  {
   "cell_type": "markdown",
   "metadata": {
    "id": "yuR10hymK0dh"
   },
   "source": [
    "## Define Keras Model"
   ]
  },
  {
   "cell_type": "markdown",
   "metadata": {},
   "source": [
    "We will be defining a very simple autencoder. We define _three_ model building methods:\n",
    "\n",
    "1. One to build a full end-to-end autoencoder.\n",
    "2. One to create a model that includes only the encoder portion.\n",
    "3. One that creates a model that includes only the decoder portion.\n",
    "\n",
    "The only variable we give our model is the encoding dimensions, which will be a hyperparemter of our final transformer."
   ]
  },
  {
   "cell_type": "code",
   "execution_count": 56,
   "metadata": {
    "id": "dBFFXT-__7KU"
   },
   "outputs": [],
   "source": [
    "from tensorflow import keras\n",
    "\n",
    "\n",
    "def get_fit_model(encoding_dim: int) -> keras.Model:\n",
    "    \"\"\"Get an autoencoder.\n",
    "\n",
    "    This autoencoder compresses a 28x28 image (784 pixels) down to a feature of length\n",
    "    `encoding_dim`, and tries to reconstruct the input image from that vector.\n",
    "    \"\"\"\n",
    "    # This is our input image\n",
    "    input_img = keras.Input(shape=(784,), name=\"input\")\n",
    "    # \"encoded\" is the encoded representation of the input\n",
    "    encoded = keras.layers.Dense(encoding_dim, activation='relu', name=\"encoded\")(input_img)\n",
    "    # \"decoded\" is the lossy reconstruction of the input\n",
    "    decoded = keras.layers.Dense(784, activation='sigmoid', name=\"output\")(encoded)\n",
    "    # This model maps an input to its reconstruction\n",
    "    autoencoder_model = keras.Model(input_img, decoded)\n",
    "    return autoencoder_model\n",
    "\n",
    "def get_tf_model(fit_model: keras.Model) -> keras.Model:\n",
    "    \"\"\"Get an encoder model.\n",
    "\n",
    "    We do this by extracting the encoding layer from the fitted autoencoder model.\n",
    "    \"\"\"\n",
    "    return keras.Model(fit_model.get_layer(\"input\").input, fit_model.get_layer(\"encoded\").output)\n",
    "\n",
    "def get_inverse_tf_model(fit_model: keras.Model, encoding_dim: int) -> keras.Model:\n",
    "    \"\"\"Get an deencoder model.\n",
    "\n",
    "    We do this by extracting the deencoding layer from the fitted autoencoder model\n",
    "    and adding a new Keras input layer.\n",
    "    \"\"\"\n",
    "    encoded_input = keras.Input(shape=(encoding_dim,))\n",
    "    output = fit_model.get_layer(\"output\")(encoded_input)\n",
    "    return keras.Model(encoded_input, output)"
   ]
  },
  {
   "source": [
    "Next we create a class that that will enable the `transform` and `fit_transform` methods, as well as integrating all three of our models into a single estimator."
   ],
   "cell_type": "markdown",
   "metadata": {}
  },
  {
   "cell_type": "code",
   "execution_count": 57,
   "metadata": {},
   "outputs": [],
   "source": [
    "from sklearn.base import TransformerMixin, clone\n",
    "from scikeras.wrappers import BaseWrapper\n",
    "\n",
    "\n",
    "class KerasTransformer(BaseWrapper, TransformerMixin):\n",
    "    \"\"\"A class that enables transform and fit_transform.\n",
    "    \"\"\"\n",
    "\n",
    "    def __init__(self, *args, tf_est: BaseWrapper = None, inv_tf_est: BaseWrapper = None, **kwargs) -> None:\n",
    "        super().__init__(*args, **kwargs)\n",
    "        self.tf_est = tf_est\n",
    "        self.inv_tf_est = inv_tf_est\n",
    "\n",
    "\n",
    "    def fit(self, X, sample_weight=None):\n",
    "        # Fit the auto-encoder to predict X from X\n",
    "        super().fit(X=X, y=X, sample_weight=sample_weight)\n",
    "        # Copy encoder/decoder models to avoid modifying user input objects\n",
    "        self.tf_est_ = clone(self.tf_est)\n",
    "        self.inv_tf_est_ = clone(self.inv_tf_est)\n",
    "        self.tf_est_.set_params(fit_model=self.model_)\n",
    "        self.inv_tf_est_.set_params(fit_model=self.model_, encoding_dim=self.encoding_dim)\n",
    "        # Preprocess X\n",
    "        X = self.feature_encoder_.transform(X)\n",
    "        # Fit tf_est_\n",
    "        self.tf_est_.initialize(X=X)\n",
    "        X_tf = self.tf_est_.predict(X=X)\n",
    "        # Fit inverse TF\n",
    "        self.inv_tf_est_.initialize(X_tf)\n",
    "        return self\n",
    "\n",
    "    def transform(self, X):\n",
    "        X = self.feature_encoder_.transform(X)\n",
    "        X_tf = self.tf_est_.predict(X)\n",
    "        return X_tf\n",
    "    \n",
    "    def inverse_transform(self, X_tf):\n",
    "        X = self.inv_tf_est_.predict(X_tf)\n",
    "        X = self.feature_encoder_.inverse_transform(X)\n",
    "        return X"
   ]
  },
  {
   "cell_type": "markdown",
   "metadata": {},
   "source": [
    "Next, we wrap the Keras Model with Scikeras. Note that for our encoder/decoder estimators, we do not need to provide a loss function since no training will be done. We do however need to have the `fit_model` and `encoding_dim` so that these will be settable by `BaseWrapper.set_params`."
   ]
  },
  {
   "cell_type": "code",
   "execution_count": 58,
   "metadata": {},
   "outputs": [],
   "source": [
    "tf_est = BaseWrapper(model=get_tf_model, fit_model=None, verbose=0)\n",
    "inv_tf_est = BaseWrapper(model=get_inverse_tf_model, fit_model=None, encoding_dim=None, verbose=0)\n",
    "autoencoder = KerasTransformer(model=get_fit_model, tf_est=tf_est, inv_tf_est=inv_tf_est, loss=\"binary_crossentropy\", encoding_dim=32, epochs=50)"
   ]
  },
  {
   "cell_type": "markdown",
   "metadata": {
    "id": "yqBl5xLDP43O"
   },
   "source": [
    "## Training"
   ]
  },
  {
   "cell_type": "markdown",
   "metadata": {
    "id": "4fHbt_mUVBhE"
   },
   "source": [
    "To train the model, we pass the input images as both the features and the target. This will train the layers to compress the data as accurately as possible between the encoder and decoder. Note that we only pass the `X` parameter, since we defined the mapping `y=X` in `KerasTransformer.fit` above."
   ]
  },
  {
   "cell_type": "code",
   "execution_count": 59,
   "metadata": {
    "colab": {
     "base_uri": "https://localhost:8080/",
     "height": 34
    },
    "id": "QQhtIWsMP4Ii",
    "outputId": "1581384e-7012-4816-d4cf-a4190a30e50f"
   },
   "outputs": [
    {
     "output_type": "stream",
     "name": "stdout",
     "text": [
      "Epoch 1/50\n",
      "1875/1875 [==============================] - 2s 1ms/step - loss: 0.2022\n",
      "Epoch 2/50\n",
      "1875/1875 [==============================] - 2s 1ms/step - loss: 0.1060\n",
      "Epoch 3/50\n",
      "1875/1875 [==============================] - 2s 936us/step - loss: 0.0977\n",
      "Epoch 4/50\n",
      "1875/1875 [==============================] - 2s 959us/step - loss: 0.0961\n",
      "Epoch 5/50\n",
      "1875/1875 [==============================] - 2s 894us/step - loss: 0.0954\n",
      "Epoch 6/50\n",
      "1875/1875 [==============================] - 2s 982us/step - loss: 0.0948\n",
      "Epoch 7/50\n",
      "1875/1875 [==============================] - 2s 1ms/step - loss: 0.0945\n",
      "Epoch 8/50\n",
      "1875/1875 [==============================] - 2s 982us/step - loss: 0.0947\n",
      "Epoch 9/50\n",
      "1875/1875 [==============================] - 2s 947us/step - loss: 0.0944\n",
      "Epoch 10/50\n",
      "1875/1875 [==============================] - 2s 970us/step - loss: 0.0942\n",
      "Epoch 11/50\n",
      "1875/1875 [==============================] - 2s 958us/step - loss: 0.0942\n",
      "Epoch 12/50\n",
      "1875/1875 [==============================] - 2s 943us/step - loss: 0.0943\n",
      "Epoch 13/50\n",
      "1875/1875 [==============================] - 2s 889us/step - loss: 0.0940\n",
      "Epoch 14/50\n",
      "1875/1875 [==============================] - 2s 864us/step - loss: 0.0939\n",
      "Epoch 15/50\n",
      "1875/1875 [==============================] - 2s 868us/step - loss: 0.0939\n",
      "Epoch 16/50\n",
      "1875/1875 [==============================] - 2s 914us/step - loss: 0.0938\n",
      "Epoch 17/50\n",
      "1875/1875 [==============================] - 2s 937us/step - loss: 0.0939\n",
      "Epoch 18/50\n",
      "1875/1875 [==============================] - 2s 901us/step - loss: 0.0938\n",
      "Epoch 19/50\n",
      "1875/1875 [==============================] - 2s 944us/step - loss: 0.0936\n",
      "Epoch 20/50\n",
      "1875/1875 [==============================] - 2s 931us/step - loss: 0.0936\n",
      "Epoch 21/50\n",
      "1875/1875 [==============================] - 2s 961us/step - loss: 0.0937\n",
      "Epoch 22/50\n",
      "1875/1875 [==============================] - 2s 937us/step - loss: 0.0936\n",
      "Epoch 23/50\n",
      "1875/1875 [==============================] - 2s 874us/step - loss: 0.0937\n",
      "Epoch 24/50\n",
      "1875/1875 [==============================] - 2s 938us/step - loss: 0.0935\n",
      "Epoch 25/50\n",
      "1875/1875 [==============================] - 2s 925us/step - loss: 0.0936\n",
      "Epoch 26/50\n",
      "1875/1875 [==============================] - 2s 890us/step - loss: 0.0935\n",
      "Epoch 27/50\n",
      "1875/1875 [==============================] - 2s 891us/step - loss: 0.0934\n",
      "Epoch 28/50\n",
      "1875/1875 [==============================] - 2s 961us/step - loss: 0.0937\n",
      "Epoch 29/50\n",
      "1875/1875 [==============================] - 2s 915us/step - loss: 0.0934\n",
      "Epoch 30/50\n",
      "1875/1875 [==============================] - 2s 933us/step - loss: 0.0935\n",
      "Epoch 31/50\n",
      "1875/1875 [==============================] - 2s 915us/step - loss: 0.0934\n",
      "Epoch 32/50\n",
      "1875/1875 [==============================] - 2s 912us/step - loss: 0.0933\n",
      "Epoch 33/50\n",
      "1875/1875 [==============================] - 2s 995us/step - loss: 0.0933\n",
      "Epoch 34/50\n",
      "1875/1875 [==============================] - 2s 921us/step - loss: 0.0934\n",
      "Epoch 35/50\n",
      "1875/1875 [==============================] - 2s 1ms/step - loss: 0.0932\n",
      "Epoch 36/50\n",
      "1875/1875 [==============================] - 2s 1ms/step - loss: 0.0933\n",
      "Epoch 37/50\n",
      "1875/1875 [==============================] - 2s 1ms/step - loss: 0.0933\n",
      "Epoch 38/50\n",
      "1875/1875 [==============================] - 2s 1ms/step - loss: 0.0935\n",
      "Epoch 39/50\n",
      "1875/1875 [==============================] - 2s 1ms/step - loss: 0.0933\n",
      "Epoch 40/50\n",
      "1875/1875 [==============================] - 2s 935us/step - loss: 0.0934\n",
      "Epoch 41/50\n",
      "1875/1875 [==============================] - 2s 947us/step - loss: 0.0933\n",
      "Epoch 42/50\n",
      "1875/1875 [==============================] - 2s 924us/step - loss: 0.0932\n",
      "Epoch 43/50\n",
      "1875/1875 [==============================] - 2s 944us/step - loss: 0.0931\n",
      "Epoch 44/50\n",
      "1875/1875 [==============================] - 2s 896us/step - loss: 0.0933\n",
      "Epoch 45/50\n",
      "1875/1875 [==============================] - 2s 974us/step - loss: 0.0933\n",
      "Epoch 46/50\n",
      "1875/1875 [==============================] - 2s 902us/step - loss: 0.0932\n",
      "Epoch 47/50\n",
      "1875/1875 [==============================] - 2s 931us/step - loss: 0.0932\n",
      "Epoch 48/50\n",
      "1875/1875 [==============================] - 2s 888us/step - loss: 0.0933\n",
      "Epoch 49/50\n",
      "1875/1875 [==============================] - 2s 979us/step - loss: 0.0934\n",
      "Epoch 50/50\n",
      "1875/1875 [==============================] - 2s 914us/step - loss: 0.0932\n"
     ]
    }
   ],
   "source": [
    "_ = autoencoder.fit(X=x_train)"
   ]
  },
  {
   "cell_type": "markdown",
   "metadata": {},
   "source": [
    "Next we fit the encoder and decoder using training data and then round-trip through both using test data."
   ]
  },
  {
   "cell_type": "code",
   "execution_count": 60,
   "metadata": {},
   "outputs": [],
   "source": [
    "roundtrip_imgs = autoencoder.inverse_transform(autoencoder.transform(x_test))"
   ]
  },
  {
   "cell_type": "markdown",
   "metadata": {},
   "source": [
    "## Explore Results"
   ]
  },
  {
   "cell_type": "markdown",
   "metadata": {},
   "source": [
    "Now let's compare our inputs to lossy decoded outputs:"
   ]
  },
  {
   "cell_type": "code",
   "execution_count": 61,
   "metadata": {},
   "outputs": [
    {
     "output_type": "display_data",
     "data": {
      "text/plain": "<Figure size 1440x288 with 20 Axes>",
      "image/svg+xml": "<?xml version=\"1.0\" encoding=\"utf-8\" standalone=\"no\"?>\n<!DOCTYPE svg PUBLIC \"-//W3C//DTD SVG 1.1//EN\"\n  \"http://www.w3.org/Graphics/SVG/1.1/DTD/svg11.dtd\">\n<!-- Created with matplotlib (https://matplotlib.org/) -->\n<svg height=\"231.079908pt\" version=\"1.1\" viewBox=\"0 0 1133.9 231.079908\" width=\"1133.9pt\" xmlns=\"http://www.w3.org/2000/svg\" xmlns:xlink=\"http://www.w3.org/1999/xlink\">\n <metadata>\n  <rdf:RDF xmlns:cc=\"http://creativecommons.org/ns#\" xmlns:dc=\"http://purl.org/dc/elements/1.1/\" xmlns:rdf=\"http://www.w3.org/1999/02/22-rdf-syntax-ns#\">\n   <cc:Work>\n    <dc:type rdf:resource=\"http://purl.org/dc/dcmitype/StillImage\"/>\n    <dc:date>2020-11-16T23:35:48.543512</dc:date>\n    <dc:format>image/svg+xml</dc:format>\n    <dc:creator>\n     <cc:Agent>\n      <dc:title>Matplotlib v3.3.2, https://matplotlib.org/</dc:title>\n     </cc:Agent>\n    </dc:creator>\n   </cc:Work>\n  </rdf:RDF>\n </metadata>\n <defs>\n  <style type=\"text/css\">*{stroke-linecap:butt;stroke-linejoin:round;}</style>\n </defs>\n <g id=\"figure_1\">\n  <g id=\"patch_1\">\n   <path d=\"M 0 231.079908 \nL 1133.9 231.079908 \nL 1133.9 0 \nL 0 0 \nz\n\" style=\"fill:none;\"/>\n  </g>\n  <g id=\"axes_1\">\n   <g id=\"patch_2\">\n    <path d=\"M 10.7 101.776271 \nL 105.276271 101.776271 \nL 105.276271 7.2 \nL 10.7 7.2 \nz\n\" style=\"fill:#ffffff;\"/>\n   </g>\n   <g clip-path=\"url(#p51f179492b)\">\n    <image height=\"95\" id=\"image38e2b9155d\" transform=\"scale(1 -1)translate(0 -95)\" width=\"95\" x=\"10.7\" xlink:href=\"data:image/png;base64,\niVBORw0KGgoAAAANSUhEUgAAAF8AAABfCAYAAACOTBv1AAADhElEQVR4nO2czyusYRTHj+taTM0GZSMipaT8zEqNXxuZZMGKtZW/wIJY2NhaKHslpaZsrCyQ0FjITCNhQ1JKClGUu7qn58xlGu77+r4z8/2svu88TzOnT8fpMe/MFInIuxAIv9AFFDKUD+Q3uoC/TE5Oap6bmzNrR0dHmvv6+jTf3d35X5iPsPOBUD4QygcSmJmfiebmZs37+/uaBwcHzb6Tk5Mfq8kL2PlAKB9IYMbO9va25sfHR7MWDoc119XVffh4LsLOB0L5QCgfSGBm/s7OjuaFhQWz5r71kE+w84FQPpDAjB2XpaUlcz02Nqa5urpac1dXl9l3eHio+f09+PeI2PlAKB9IkeTAPdz6+nrNmd48Gxoa0ry+vu5rTV7AzgdC+UAoH0hOzPzi4mLNe3t7mtvb282+8/Nzzf39/Z+uBQV2PhDKB5ITY8elvLxc88HBgVmrra3VvLKyYtZGR0f9LewbsPOBUD4QygeSczPfJRqNmutYLKb56enJrLlHT/e4ioSdD4TygeT02Elnenpa88zMjFnb2NjQPDAw8FMlZYSdD4TygeTV2AmFQprdj6KIiDQ2Nmru7e3VvLu7639hn8DOB0L5QCgfSCA/t/Ndnp+fNbtHSxGR1tZWzbOzs5rTj52vr68+Vfcv7HwglA8kr46aLp2dneZ6c3NTc0lJiebu7m6zb2try9e6XNj5QCgfCOUDyduZn457vJyamtJ8f39v9kUiEc2JRMLXmtj5QCgfSMGMnYqKCs3Hx8cfPi4iMjIyonltbc3Xmtj5QCgfSMGMHZfh4WHNq6urZs094fT09Jg1r39WjJ0PhPKBUD6QQM780tJSc93S0qLZ/aJzR0dH1s/58vKi+fT0VHMqlTL7ysrKNE9MTJi1xcXFrF8vG9j5QCgfiOf3cN1ffBURaWpq0pz+J97Q0KC5ra1Nc/oNjsrKSs2Xl5eaq6qqsq7r7e1N8+3trWZ3zKTj/qSYH7DzgVA+EM9POxcXF+a6pqbmy8/x8PBgrpPJ5P+U9CWurq40z8/Pm7V4PO7pa7HzgVA+EMoH4vnMd29GiIiMj49rvr6+Nmvuf53Ly8uab25uzL6zszMvSwwM7HwglA8kkG+sFQrsfCCUD4TygVA+EMoHQvlAKB8I5QOhfCCUD4TygVA+EMoHQvlAKB8I5QOhfCCUD4TygVA+EMoHQvlAKB/IHylJwuaX+CcdAAAAAElFTkSuQmCC\" y=\"-6.776271\"/>\n   </g>\n   <g id=\"patch_3\">\n    <path d=\"M 10.7 101.776271 \nL 10.7 7.2 \n\" style=\"fill:none;stroke:#000000;stroke-linecap:square;stroke-linejoin:miter;stroke-width:0.8;\"/>\n   </g>\n   <g id=\"patch_4\">\n    <path d=\"M 105.276271 101.776271 \nL 105.276271 7.2 \n\" style=\"fill:none;stroke:#000000;stroke-linecap:square;stroke-linejoin:miter;stroke-width:0.8;\"/>\n   </g>\n   <g id=\"patch_5\">\n    <path d=\"M 10.7 101.776271 \nL 105.276271 101.776271 \n\" style=\"fill:none;stroke:#000000;stroke-linecap:square;stroke-linejoin:miter;stroke-width:0.8;\"/>\n   </g>\n   <g id=\"patch_6\">\n    <path d=\"M 10.7 7.2 \nL 105.276271 7.2 \n\" style=\"fill:none;stroke:#000000;stroke-linecap:square;stroke-linejoin:miter;stroke-width:0.8;\"/>\n   </g>\n  </g>\n  <g id=\"axes_2\">\n   <g id=\"patch_7\">\n    <path d=\"M 10.7 220.379908 \nL 105.276271 220.379908 \nL 105.276271 125.803636 \nL 10.7 125.803636 \nz\n\" style=\"fill:#ffffff;\"/>\n   </g>\n   <g clip-path=\"url(#pda65c6a956)\">\n    <image height=\"95\" id=\"imagef4b44bd919\" transform=\"scale(1 -1)translate(0 -95)\" width=\"95\" x=\"10.7\" xlink:href=\"data:image/png;base64,\niVBORw0KGgoAAAANSUhEUgAAAF8AAABfCAYAAACOTBv1AAAEh0lEQVR4nO2cyyvtbxTG3+2W+yW5RCiRkJiaKCbMKSlkamJgZKJMDEVGBv4DwkhmJgYyoBAxIsotyl2uZ7Z+a72xf6d99vZ8nfN8Rs/uXey3p7XXXu9lf0POuQ8XABITEz/Vzjn38PDw3dP5FuLQE/iXoflAEpBvnpaWJnp3d1d0SUmJiXt5eRHd1dUlem5uzsR9fASigv42zHwgNB8IzQcScsBWMzU1VfTKyorohoYGExcKhUSfnJyIrqysNHH39/d/PCf9XrH+DmHmA6H5QKCtpm4hx8fHRU9MTJi4jIwM0U9PT6Lz8vJMXDTKzne2q8x8IDQfCM0HEpiaPz8/L7qlpcXEtbe3i87Ozhbtt6QHBwdRnV+sYeYDoflAoCvcr6ivrzevFxcXRefm5ore2Ngwcc3NzaJ1SxpUmPlAaD6QQJadhATbhA0PD4seHBz88u903OTkpBl7f3+P0uyiBzMfCM0HQvOBBLLm++hDl5mZGdFNTU0mTh+0+Kvk4+PjGM0ucpj5QGg+kB9RdjRVVVWiZ2dnzVh+fr5ov9UcGxsTHZTVLzMfCM0HQvOB/Liar7ce+vv7zdjQ0JDoq6srM9bX1yd6fX1dNPJ+JzMfCM0HAj3DjYS3tzfRCwsLZqyjo0O0bkmdc663t1e0vo6O/NULMx8IzQcC7Xb0jWD/AEXz+voqWncn/g/ndEczMjJixvRVQh23urpq4r7z0IWZD4TmA6H5QAJT85OSkkQnJyebuLu7O9G61fTRhy7T09NmrK2tTfTW1pbozs5OE3d6evp/044azHwgNB9IYDbW4uL+ywO/hdStZriyo6moqDCvl5eXReuyNjU1ZeJGR0dFx/rQhZkPhOYDoflAAlPzNboFdc5+H/xuzfe3K/SBend3t+izszMT19PTI3ptbc2MRXvrgZkPhOYDCWTZ8dFlR+9qhjt/9UtXXV2d6KWlJdHp6ekmTt8FGhgYMGN6pR0NmPlAaD6QqJzh6o+4LhE+fpn4qoSE63bi4+NF65Wvc+G7Ed3VHB0dia6urjZxjY2NosvKyszYzs7Op/ONFGY+EJoPhOYDiUrN13U4JyfHjGVlZX35d7p1e3x8/PT/OWevfpeWlor2dx2vr68/1c45V1xc/OmYv2LWBzK1tbVmbG9vT7T/fRMJzHwgNB9IxGVHt38pKSmi/Wt6ra2tomtqasyYPtTwbxVrMjMzRev2zy9pugz5Z7G61SwoKBDtl4+bmxvRfusars2NBGY+EJoPJOKyo1ehunzoJwE651xRUZFo3XE4Zz/++iN9e3tr4nQ5eX5+Fu1vdOkHYxcWFpqxy8tL0Zubm6IPDw9NnH6MjL5iEguY+UBoPhCaDyTimq/bMF17t7e3TZxuycrLy82YXq2en5+L3t/fN3EXFxeidSvofzd8tfsZDv2EQ/+1v4L2Y/8UZj4Qmg8k5me4kRy0BPGRXLGAmQ+E5gOh+UB+xL2dvxVmPhCaD4TmA6H5QGg+EJoPhOYDoflAaD4Qmg+E5gOh+UBoPhCaD4TmA6H5QGg+EJoPhOYD+QVdmGSjRaahDAAAAABJRU5ErkJggg==\" y=\"-125.379908\"/>\n   </g>\n   <g id=\"patch_8\">\n    <path d=\"M 10.7 220.379908 \nL 10.7 125.803636 \n\" style=\"fill:none;stroke:#000000;stroke-linecap:square;stroke-linejoin:miter;stroke-width:0.8;\"/>\n   </g>\n   <g id=\"patch_9\">\n    <path d=\"M 105.276271 220.379908 \nL 105.276271 125.803636 \n\" style=\"fill:none;stroke:#000000;stroke-linecap:square;stroke-linejoin:miter;stroke-width:0.8;\"/>\n   </g>\n   <g id=\"patch_10\">\n    <path d=\"M 10.7 220.379908 \nL 105.276271 220.379908 \n\" style=\"fill:none;stroke:#000000;stroke-linecap:square;stroke-linejoin:miter;stroke-width:0.8;\"/>\n   </g>\n   <g id=\"patch_11\">\n    <path d=\"M 10.7 125.803636 \nL 105.276271 125.803636 \n\" style=\"fill:none;stroke:#000000;stroke-linecap:square;stroke-linejoin:miter;stroke-width:0.8;\"/>\n   </g>\n  </g>\n  <g id=\"axes_3\">\n   <g id=\"patch_12\">\n    <path d=\"M 124.191525 101.776271 \nL 218.767797 101.776271 \nL 218.767797 7.2 \nL 124.191525 7.2 \nz\n\" style=\"fill:#ffffff;\"/>\n   </g>\n   <g clip-path=\"url(#p0438bff8ee)\">\n    <image height=\"95\" id=\"imagec06d18bf5d\" transform=\"scale(1 -1)translate(0 -95)\" width=\"95\" x=\"124.191525\" xlink:href=\"data:image/png;base64,\niVBORw0KGgoAAAANSUhEUgAAAF8AAABfCAYAAACOTBv1AAADwUlEQVR4nO2cu0srQRTG1+sLQVCwEEEQbA1qoQjWopWxESz9CwSJUSsfCNoqWNhZaOMDNQgWViKCSSCNRdBGEBsRVBBFQnzcW93DnOWubHJ391v1+1XfYSaZ4eNwmN3ZmRLLsn5bBMIv9AR+MjQfCM0HQvOB0HwgNB8IzQdC84HQfCA0HwjNB0LzgdB8IDQfCM0HQvOBlCEHn5iYEF1eXu7qNy0tLaKHhoZcj7W6uir66urKsd/Ozo7oi4sL1/9fDMx8IDQfSIkV4B7u7u6uigcGBoIa2jVvb2+iPz4+HPvt7++LzmQyjv1OTk5UnEqlRDPzgdB8IDQfSKA1P5fLqdjt8rIYtre3VXxzcyO6vr5edCHL1WKYnp5W8fz8vGhmPhCaDySUZae1tVXFt7e3BY/1+Pio4tfX13+OW1NT4/gftbW1Ko7FYq7Gfn9/Fz05OanaXl5eRDPzgdB8IDQfSChrfmNjo4rNZeJ3gpkPhOYDCbTsLCwsqNi+DPtLIpFQ8fDwsOjn52fP54WCmQ+E5gMJtOzU1dWp+ODgQHRnZ6fj75aWlkSPjY15Pi8UzHwgNB8IzQcS6Hc79/f3KjaXnltbW6LtT77t7e2iq6urRX/1ZSczHwjNBxLoUvMzTk9PRXd1dTn2+07LTmY+EJoPhOYDCU3Nb2hoEH12dqbazNcSd3d3oru7u1W/y8tLn2bnD8x8IDQfSGjKjol9M6W3t1d0ZWWl6LW1NdVvZGRE9Fd4+mXmA6H5QEJZduzMzs6Knpqacuy3vLwsenR01McZeQMzHwjNB0LzgUAPQbvFPO2Xz+dFV1RUqH7mKZO9vT3Vdnx87NPsioeZD4TmA/kSS02T8fFx0XNzc6rNLEPpdFq19fT0iDZPhyBh5gOh+UACLTtNTU0qfnp6Ev3w8FDw/9nf+0ciEce+Ztk5OjoqeCw/YOYDoflAaD4Q359w+/v7Rdvv2zk/Pxfd19cn2u0BuI2NDRXPzMyI9vNeB69g5gOh+UB8X2p2dHSINj8JtCzLKi0tFZ3NZkVHo1HVz/xcxNybtb9YM6/QamtrU22Li4ui4/G4q7n7DTMfCM0HQvOB+L7UNDdC7Bscg4ODos2bYu2f/Zk3ux4eHopubm5W/ex13sR+KiYMMPOB0Hwg0M2Uzc1N0WYJ8gJ76TLfal5fX3s6VrEw84HQfCCh2cM1nzqrqqpUm3nb4GflaWVlRXQymVRt6+vr/ztFz2HmA6H5QGg+kNDU/J8IMx8IzQdC84HQfCA0HwjNB0LzgdB8IDQfyB/RPu7MLQ/ZlAAAAABJRU5ErkJggg==\" y=\"-6.776271\"/>\n   </g>\n   <g id=\"patch_13\">\n    <path d=\"M 124.191525 101.776271 \nL 124.191525 7.2 \n\" style=\"fill:none;stroke:#000000;stroke-linecap:square;stroke-linejoin:miter;stroke-width:0.8;\"/>\n   </g>\n   <g id=\"patch_14\">\n    <path d=\"M 218.767797 101.776271 \nL 218.767797 7.2 \n\" style=\"fill:none;stroke:#000000;stroke-linecap:square;stroke-linejoin:miter;stroke-width:0.8;\"/>\n   </g>\n   <g id=\"patch_15\">\n    <path d=\"M 124.191525 101.776271 \nL 218.767797 101.776271 \n\" style=\"fill:none;stroke:#000000;stroke-linecap:square;stroke-linejoin:miter;stroke-width:0.8;\"/>\n   </g>\n   <g id=\"patch_16\">\n    <path d=\"M 124.191525 7.2 \nL 218.767797 7.2 \n\" style=\"fill:none;stroke:#000000;stroke-linecap:square;stroke-linejoin:miter;stroke-width:0.8;\"/>\n   </g>\n  </g>\n  <g id=\"axes_4\">\n   <g id=\"patch_17\">\n    <path d=\"M 124.191525 220.379908 \nL 218.767797 220.379908 \nL 218.767797 125.803636 \nL 124.191525 125.803636 \nz\n\" style=\"fill:#ffffff;\"/>\n   </g>\n   <g clip-path=\"url(#p2d41ca5868)\">\n    <image height=\"95\" id=\"image3e7724033e\" transform=\"scale(1 -1)translate(0 -95)\" width=\"95\" x=\"124.191525\" xlink:href=\"data:image/png;base64,\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\" y=\"-125.379908\"/>\n   </g>\n   <g id=\"patch_18\">\n    <path d=\"M 124.191525 220.379908 \nL 124.191525 125.803636 \n\" style=\"fill:none;stroke:#000000;stroke-linecap:square;stroke-linejoin:miter;stroke-width:0.8;\"/>\n   </g>\n   <g id=\"patch_19\">\n    <path d=\"M 218.767797 220.379908 \nL 218.767797 125.803636 \n\" style=\"fill:none;stroke:#000000;stroke-linecap:square;stroke-linejoin:miter;stroke-width:0.8;\"/>\n   </g>\n   <g id=\"patch_20\">\n    <path d=\"M 124.191525 220.379908 \nL 218.767797 220.379908 \n\" style=\"fill:none;stroke:#000000;stroke-linecap:square;stroke-linejoin:miter;stroke-width:0.8;\"/>\n   </g>\n   <g id=\"patch_21\">\n    <path d=\"M 124.191525 125.803636 \nL 218.767797 125.803636 \n\" style=\"fill:none;stroke:#000000;stroke-linecap:square;stroke-linejoin:miter;stroke-width:0.8;\"/>\n   </g>\n  </g>\n  <g id=\"axes_5\">\n   <g id=\"patch_22\">\n    <path d=\"M 237.683051 101.776271 \nL 332.259322 101.776271 \nL 332.259322 7.2 \nL 237.683051 7.2 \nz\n\" style=\"fill:#ffffff;\"/>\n   </g>\n   <g clip-path=\"url(#p84db5807f2)\">\n    <image height=\"95\" id=\"imageae5ebca69e\" transform=\"scale(1 -1)translate(0 -95)\" width=\"95\" x=\"237.683051\" xlink:href=\"data:image/png;base64,\niVBORw0KGgoAAAANSUhEUgAAAF8AAABfCAYAAACOTBv1AAACuElEQVR4nO3cvYoiQRQF4BpdIwMxEATNxTcQNBFjEVEQfAHBRDDwFQTxSUwM/ElFNBRUTAw1ExMjxUR2o71T1TjD7Ox2ny73fNFtq4PL4VKU7c+bUuqnIogAuoH/GcMHYvhADB+I4QMxfCCGD8TwgRg+EMMHYvhADB+I4QP9QDfwWygUkno+nxtr5/NZ6nq9LvXtdnO/MRdx8oEYPpAvt51oNGqsZTIZqVutltTdbtf9xlzEyQdi+EC+2Xb0k8t0OjXWUqmU1NVqVeper2fc93g8XOrOHZx8IIYPxPCB3pQPv7eTy+WM69lsJnUwGJS6UCh8eJ8NOPlADB/IN0dN3XK5NK5Pp5PUiUTC63Zcw8kHYvhADB/Il3u+03g8lrrRaEhdLBaN+3jUpC9j+EBWbDvH4/Hp684PXWzDyQdi+EC+fLDmFI/Hpd5sNlJfLhfjvnQ67VVL/wQnH4jhAzF8ICuOmvpTzcViIXWlUjHuK5fLUg+HQ/cb+0ucfCCGD2TFtqPbbrdS69/hcV5z26FPMXwghg9kxeMFnf518clkYqwdDgeps9mssXa/313t6zs4+UAMH8i6bUfX7/eN63a7LXWpVDLWRqORJz39CU4+EMMHsu4drm6323241ul0jGtuO2Rg+EAMH8jqPd/5Hw26WCzmYSffw8kHYvhAVm87+oM0pZRarVZSO7edcDgs9fV6dbWvr+LkAzF8IKsfrDnpn+EOBgNjLZ/PS/3ZKclLnHwghg/E8IGsPmo67fd7qZ3HyVqtJjX3fGL4SC911NQ5/3mw2WxKHYlEvG7nKU4+EMMHYvhAL3XU1Om/WlTKfKrpl1+wcPKBGD7Qy2476/XauA4E3ucsmUx63c5TnHwghg/0su9wbcDJB2L4QAwfiOEDMXwghg/E8IEYPhDDB2L4QAwfiOEDMXygX7JvhHNyYVMPAAAAAElFTkSuQmCC\" y=\"-6.776271\"/>\n   </g>\n   <g id=\"patch_23\">\n    <path d=\"M 237.683051 101.776271 \nL 237.683051 7.2 \n\" style=\"fill:none;stroke:#000000;stroke-linecap:square;stroke-linejoin:miter;stroke-width:0.8;\"/>\n   </g>\n   <g id=\"patch_24\">\n    <path d=\"M 332.259322 101.776271 \nL 332.259322 7.2 \n\" style=\"fill:none;stroke:#000000;stroke-linecap:square;stroke-linejoin:miter;stroke-width:0.8;\"/>\n   </g>\n   <g id=\"patch_25\">\n    <path d=\"M 237.683051 101.776271 \nL 332.259322 101.776271 \n\" style=\"fill:none;stroke:#000000;stroke-linecap:square;stroke-linejoin:miter;stroke-width:0.8;\"/>\n   </g>\n   <g id=\"patch_26\">\n    <path d=\"M 237.683051 7.2 \nL 332.259322 7.2 \n\" style=\"fill:none;stroke:#000000;stroke-linecap:square;stroke-linejoin:miter;stroke-width:0.8;\"/>\n   </g>\n  </g>\n  <g id=\"axes_6\">\n   <g id=\"patch_27\">\n    <path d=\"M 237.683051 220.379908 \nL 332.259322 220.379908 \nL 332.259322 125.803636 \nL 237.683051 125.803636 \nz\n\" style=\"fill:#ffffff;\"/>\n   </g>\n   <g clip-path=\"url(#pd06b133c75)\">\n    <image height=\"95\" id=\"image504afc87b9\" transform=\"scale(1 -1)translate(0 -95)\" width=\"95\" x=\"237.683051\" xlink:href=\"data:image/png;base64,\niVBORw0KGgoAAAANSUhEUgAAAF8AAABfCAYAAACOTBv1AAAECklEQVR4nO2cyyt1YRTG38NXBgohMpAilGJqppSSMpMB/gFzc/8LE4WRqRAZmMktuZWJKLkUcucbfetb663ztp32Ps/ezvMbPVqvs3dP66zz3nPOuW9HIJShX6CUoflAaD4Qmg+E5gOh+UBoPhCaD4TmA/mDfoF/lJX9z4OKigoTKy8vF/38/Cz68/Mz+RdLEGY+EJoPhOYDgdb8XC4nuqGhQfTY2JhpV1tbK3phYUH0wcGBaZe13wBmPhCaDyQ1XU3dvZyYmDCx9vZ20TU1NaKnpqZMu0LKji59zjn3/V28tSVmPhCaDwRadvRX/P7+XrQe0TrnXFVVlejBwUHR09PTpt3b21uk5+pSw7JTotB8IDQfSGq6mo+Pj6IXFxdNrLu7W3RTU5PoxsZG0+7u7i7Ss0I1X8+ufn19Rfq8QmHmA6H5QHIuJdsF9de/paXFxLa2tkTrEe7k5KRpNzs7KzpUMnRX1u/Wfnx8RPqMOGDmA6H5QGg+kNi7moUO13W76+trE9vY2BA9NDQkuq+vz7Sbm5sT/fr6Gum5SJj5QGg+kMRHuLoMRS1B/uzk0tKS6P7+ftF65Oucc5WVlaJDZSfUheSsZolA84GkZmJN45eF/f190be3t6L9ibXW1lbR/iSbLidaJz2KDcHMB0LzgdB8IKms+T56xHt2dia6q6vLtNNdz+3tbRPLt6fH71r6I/QkYeYDoflAYi87cYwQ/e7fzc2N6NXVVdH+CHdgYED0/Py8iT09PUV6dqjsxD36ZeYDoflAaD6Q1Cygh9CL3L29vaJnZmZMO12vR0ZGTGxvb090aEpBf4bew+P/Xxz1n5kPhOYDycQIV3/dT05ORF9dXZl2esQ7PDxsYoeHh6JDW8lD5aSQhaEQzHwgNB9IUctOHKPHh4cH0ZubmybW2dkpWveKnLMH7qKeYPF7Rfl2Nxdagpj5QGg+EJoPJDV3L0StoXoL98rKiomNj4+L1nc5OOdcdXW1aP27ESK00MKan3FoPpDUjHDz7avx0d2/09NTEzs+PhZdV1dnYroMXVxcRHpW6B3jOEjNzAdC84GkpuxERZedy8tLE9O7mUdHR02sublZ9M7OjuifXBPDNdxfBM0HQvOBpOa+nUJ4f383fy8vL4vu6ekxMb3Qsr6+Llrf8/MTuJiScWg+kKKWnaQPm728vIjWJ1icc66jo0O0PsGyu7tr2umJu6Rh5gOh+UBoPpDMTS9o/O18eluhfwhazzy2tbWJPj8/N+1015P37fxiaD6QzJWd0CKGPn2ytrZmYvX19aKPjo5E6+6pc7x7oWSg+UAycTgiDvJtVSxmmfFh5gOh+UBoPpCSqflphJkPhOYDoflAaD4Qmg+E5gOh+UBoPhCaD+Qv17RTwjjvZWgAAAAASUVORK5CYII=\" y=\"-125.379908\"/>\n   </g>\n   <g id=\"patch_28\">\n    <path d=\"M 237.683051 220.379908 \nL 237.683051 125.803636 \n\" style=\"fill:none;stroke:#000000;stroke-linecap:square;stroke-linejoin:miter;stroke-width:0.8;\"/>\n   </g>\n   <g id=\"patch_29\">\n    <path d=\"M 332.259322 220.379908 \nL 332.259322 125.803636 \n\" style=\"fill:none;stroke:#000000;stroke-linecap:square;stroke-linejoin:miter;stroke-width:0.8;\"/>\n   </g>\n   <g id=\"patch_30\">\n    <path d=\"M 237.683051 220.379908 \nL 332.259322 220.379908 \n\" style=\"fill:none;stroke:#000000;stroke-linecap:square;stroke-linejoin:miter;stroke-width:0.8;\"/>\n   </g>\n   <g id=\"patch_31\">\n    <path d=\"M 237.683051 125.803636 \nL 332.259322 125.803636 \n\" style=\"fill:none;stroke:#000000;stroke-linecap:square;stroke-linejoin:miter;stroke-width:0.8;\"/>\n   </g>\n  </g>\n  <g id=\"axes_7\">\n   <g id=\"patch_32\">\n    <path d=\"M 351.174576 101.776271 \nL 445.750847 101.776271 \nL 445.750847 7.2 \nL 351.174576 7.2 \nz\n\" style=\"fill:#ffffff;\"/>\n   </g>\n   <g clip-path=\"url(#pdbdb02a7ac)\">\n    <image height=\"95\" id=\"image17dcb0b7fc\" transform=\"scale(1 -1)translate(0 -95)\" width=\"95\" x=\"351.174576\" xlink:href=\"data:image/png;base64,\niVBORw0KGgoAAAANSUhEUgAAAF8AAABfCAYAAACOTBv1AAAD6ElEQVR4nO2czSttURjG9+H6D5gYIJQy9ZGBjzJCSOrkTGTGQMhQSkwMZSKiDCVFQtKZKcUZGJj4mjGRMFAy8nFHXu9a3X06d5+9zrPv9fxGz+pdZ+3V09u719lrrx3zPO/TIxDy0BP4ydB8IDQfCM0HQvOB0HwgNB8IzQdC84HQfCA0HwjNB0LzgfxCT+CLtrY20YODg0asq6tL9M7Ojujl5WWjXywWE31+fm7Ebm9vQ5lnmDDzgdB8IDEvh5spzc3NRrunp0f02NiY6I+Pj0Dj5+V959Lo6KgRW1hYCDSmS5j5QGg+EOdlp7S0VPTx8bERKyoqEq1LRhhl5/7+3ohdXFyI1qupu7s7o9/r62ugaweBmQ+E5gOh+UCc/8Pt7e0VrWu8a+xr6fbl5aXopaUlo9/IyIjbiSmY+UBoPhDnS83r62vRFRUVvv06Ozt9Y/oBWnFxsW+/MJar+fn5gX4XBGY+EJoPhOYDcV7zr66uRJeXl/v2KygoyPpa+/v7oquqqoxYSUlJRmMcHByI1ps4LmDmA6H5QCKzhxsGHR0doufn543Y8PBwRmNUV1eLbmxsNGJHR0fBJ/cHmPlAaD6Q/2q1o7EfrOlysr6+LrqwsNDol25DpqGhQXQYr6Iw84HQfCA0H4jzpebu7q5o/W6Oax4eHoz24eGh6NnZWdFzc3O+Y9j3jbDvS8x8IDQfiPOlZmVlpWi97LTJ5SZGWVmZ6I2NDSNWV1cn2t6QWVtbE93f35/1PJj5QGg+EJoPJKdPNdNtaqdSKdHxeNyIhX2q5PPz+zZnz0m37dj09HSo82DmA6H5QCKzmVJbWyt6dXXViCUSCdGPj49ZX6u7u1t0TU1N1uMFhZkPhOYDcV523t7eRNslw97I+KKlpcVon5yciN7c3BQ9MzNj9Et3qkSfkJmYmPDtp8eYmpoyYmGvupj5QGg+EJoPJKeHoO1arpeU+kljpq9326dKksmk6OfnZyPW2toqenJy0ndMfXh6cXExo3kEhZkPhOYDyWnZsdFvFbe3t4sOeqrk6elJ9MvLixHTS8108GTKD4HmA4GWHc37+7voML69kG6Mm5sb0X19fUbs9PQ00LWDwMwHQvOB0HwgkdlMGR8fF60//+V5ntfU1PTX421tbRltfark7OxMdC5rvA0zHwjNBxKZpabGfjt4e3tbdH19ve/v+HVBkjE0HwjNBxKZpabGPlUyMDAgWn+i8V+HmQ+E5gOJZNmx0V99XVlZET00NGT00/9W9/b23E8sS5j5QGg+kEj+w/0pMPOB0HwgNB8IzQdC84HQfCA0HwjNB0LzgdB8IDQfCM0HQvOB/AZOXP56h+bY9AAAAABJRU5ErkJggg==\" y=\"-6.776271\"/>\n   </g>\n   <g id=\"patch_33\">\n    <path d=\"M 351.174576 101.776271 \nL 351.174576 7.2 \n\" style=\"fill:none;stroke:#000000;stroke-linecap:square;stroke-linejoin:miter;stroke-width:0.8;\"/>\n   </g>\n   <g id=\"patch_34\">\n    <path d=\"M 445.750847 101.776271 \nL 445.750847 7.2 \n\" style=\"fill:none;stroke:#000000;stroke-linecap:square;stroke-linejoin:miter;stroke-width:0.8;\"/>\n   </g>\n   <g id=\"patch_35\">\n    <path d=\"M 351.174576 101.776271 \nL 445.750847 101.776271 \n\" style=\"fill:none;stroke:#000000;stroke-linecap:square;stroke-linejoin:miter;stroke-width:0.8;\"/>\n   </g>\n   <g id=\"patch_36\">\n    <path d=\"M 351.174576 7.2 \nL 445.750847 7.2 \n\" style=\"fill:none;stroke:#000000;stroke-linecap:square;stroke-linejoin:miter;stroke-width:0.8;\"/>\n   </g>\n  </g>\n  <g id=\"axes_8\">\n   <g id=\"patch_37\">\n    <path d=\"M 351.174576 220.379908 \nL 445.750847 220.379908 \nL 445.750847 125.803636 \nL 351.174576 125.803636 \nz\n\" style=\"fill:#ffffff;\"/>\n   </g>\n   <g clip-path=\"url(#p83b8278e1f)\">\n    <image height=\"95\" id=\"imagede27512eab\" transform=\"scale(1 -1)translate(0 -95)\" width=\"95\" x=\"351.174576\" xlink:href=\"data:image/png;base64,\niVBORw0KGgoAAAANSUhEUgAAAF8AAABfCAYAAACOTBv1AAAFVUlEQVR4nO2cuS+tbxDHn8O1xRZiJ7FGCBWFKGgQSwSFRi0a/AlIFBKlBhUKQouCWCJiKYSEAomISBCxb7GvtxszE+f8ruM9xu/e+VTfN/Occ958M8Y8y/vajDFvRhHBTfoG/mXUfEHUfEHUfEHUfEHUfEHUfEHUfEHUfEHUfEHUfEHUfEHUfEF+if74r/efT0tLA11RUUHGhYSEgD47OwM9OztLxi0tLYG+uLiw6C5dh2a+IGq+IN9aduLi4sh1b28v6MzMTNBeXl5knJvbe468vb3v/by+vpJxR0dHoOvq6khseHgY9MvLyyfu2nVo5gui5gtiMy7ew42MjAQ9Pj5OYqmpqaBxaeHYbLZP/+79/T25HhsbA11fXw96f3+fjOOlzJVo5gui5gui5gtieauJZ63GGFNbWws6KSmJxHAtx+3f7e0tGYf/H+A2lP8W/j7erpaWloLOyMgAXV1dTcZNTU19eE+uQDNfEDVfEMtbzaCgIHI9PT0NOiUlhcRwWzcyMgK6paWFjMPlpaGhAXRWVpbd33ZUkjDX19fkuqCgAPTCwgKJ4dm1FWjmC6LmC6LmC2J5zecrl7iWx8fHk9je3h5o3Apubm7a/f7Q0FDQZWVlJFZYWAg6Pz+fxAICAkA7Wq7Y3d0FjVtSY4w5OTmx+zln0MwXRM0XxPIZLt87xX+q0dHRJHZ8fAz64OAAtKOVxfPzc9Cjo6MkNjg4CBrvCRtjTE9PD+jY2FjQvARFRESArqqqIrGOjg7QVsx+NfMFUfMFsbzsPDw8kOutrS3QfIZ7c3MD2tFmCubp6Qn04eEhieFSwI+V5OXlgZ6YmADNuzN3d3fQ/AhLd3c3aHzvzqKZL4iaL4iaL4jlNZ+v/OHVRQ8PDxLD9RZvtF9eXpJxuPXE34/r/3+xvb0Nurm5GXR7ezsZ5+npCTo4OJjE+P1/Fc18QdR8QSwvO3zmh1tIPpvEi2SVlZWgW1tbybjHx8cv3xcuVysrK6B5a4z3fvFiHI9ZgWa+IGq+IGq+IC6v+XNzc6BLSkpIzMfHB3R5eTnozs5OMg6vjDq7iY3/9+DVVUfH0b29vUnM398fNF/acOqevvwNitOo+YJYXnb4Rgje8GhsbCQxPz8/0ImJiaCLiorIuIGBAdC4rH3m6Livry/o4uJi0HgV0xha1ngbyo8xfhXNfEHUfEFc/kAcPoqxuLhIYvi4CJ5N8sWu8PBw0F1dXaB554M7F97F5Obmgs7OzgbNuzP8nWtrayR2dXVlrEQzXxA1XxA1XxCXP42IiYqKItfr6+ugAwMD7X4Ot694Qx6f0zGGzkB5C5mQkAA6OTkZNF+5PD09BY03XYwxpq+v78N7chbNfEHUfEG+tezwGSl+WK6trQ00f6rEHnwPFz/4zFtIfI3bSf5kCl7Uw8cDPxr7VTTzBVHzBfnWssPBRzEmJydB5+TkkHH2FtD4DBd3IM/PzySGZ6cbGxugeUeDjxnyhTWr0cwXRM0XRM0XRLTmY8LCwkDjI9zGGJOeng4a77HyWSY+38OfkMG1vKmpCTSu/8ZY/6CzIzTzBVHzBfkxZQcvhOGND2PoBkpMTAxo3oLe3d2BHhoaIjH8zoadnR3Q31lmOJr5gqj5gqj5goi+yBqD28bV1VUSw5sYNTU1oPFZHGPoQ9X9/f0kht/zIFnnMZr5gqj5gvyYsoPhb4NdXl4GPTMzAxo/RGeMMfPz8x9+xpjvfVPsn6KZL4iaL8iPmeH+KXgmzN/XgEvLT3lHviM08wVR8wVR8wX539X8vwnNfEHUfEHUfEHUfEHUfEHUfEHUfEHUfEHUfEF+A/nRqNdPb+mwAAAAAElFTkSuQmCC\" y=\"-125.379908\"/>\n   </g>\n   <g id=\"patch_38\">\n    <path d=\"M 351.174576 220.379908 \nL 351.174576 125.803636 \n\" style=\"fill:none;stroke:#000000;stroke-linecap:square;stroke-linejoin:miter;stroke-width:0.8;\"/>\n   </g>\n   <g id=\"patch_39\">\n    <path d=\"M 445.750847 220.379908 \nL 445.750847 125.803636 \n\" style=\"fill:none;stroke:#000000;stroke-linecap:square;stroke-linejoin:miter;stroke-width:0.8;\"/>\n   </g>\n   <g id=\"patch_40\">\n    <path d=\"M 351.174576 220.379908 \nL 445.750847 220.379908 \n\" style=\"fill:none;stroke:#000000;stroke-linecap:square;stroke-linejoin:miter;stroke-width:0.8;\"/>\n   </g>\n   <g id=\"patch_41\">\n    <path d=\"M 351.174576 125.803636 \nL 445.750847 125.803636 \n\" style=\"fill:none;stroke:#000000;stroke-linecap:square;stroke-linejoin:miter;stroke-width:0.8;\"/>\n   </g>\n  </g>\n  <g id=\"axes_9\">\n   <g id=\"patch_42\">\n    <path d=\"M 464.666102 101.776271 \nL 559.242373 101.776271 \nL 559.242373 7.2 \nL 464.666102 7.2 \nz\n\" style=\"fill:#ffffff;\"/>\n   </g>\n   <g clip-path=\"url(#p976377e4fb)\">\n    <image height=\"95\" id=\"image0264b27532\" transform=\"scale(1 -1)translate(0 -95)\" width=\"95\" x=\"464.666102\" xlink:href=\"data:image/png;base64,\niVBORw0KGgoAAAANSUhEUgAAAF8AAABfCAYAAACOTBv1AAADkElEQVR4nO2dPUgrURCFNxKQFGkkiHYSLSwUAqkErQ1YWMTGQrCziohgY6mFlYKF2NmqxEYCESstBS39qSxSiOJPKiWGiLF68+5cEklk7x7fvvNVZ5x9u8NhnHdzN7tGPM+rewRCB7qA/xmaD4TmA6H5QGg+EJoPhOYDoflAaD6QKLoAVxQKBRVvbGyIPjk5CbqchrDzgdB8IDQfSMQL6a7mw8ODiqPRv/+9ra6uit7c3AysJht2PhCaDyS0Y2dtbU3FS0tLoiuViuh4PB5YTTbsfCA0H0hoP+G+v783zcVisQAraQ47HwjNB0LzgYR25kcikW/j3wA7HwjNBxLasVOv17+N/zA0NKTiy8tLZzXZsPOB0HwgNB8IdOanUinRAwMDbf/7g4ODprlkMtnSOYKc8TbsfCA0H4jzsTM4OCh6ZWVF5SYmJkR3dna2fe7n52cVm8vJRCLR0jnsHU7zRotr2PlAaD4Q5/dw9/f3RWezWZU7Pz8XbX6dr1XsT6fmCqevr0/lRkZGGp4jl8upeHt7u+06fgo7HwjNB0Lzgfi+1LSXbv39/aKvrq5Uzlxqlsvltq+Vz+eb5rq7u1V8f3/f8LiODlz/sfOB0Hwgvo8d++t35ubZ7u6uyv1k1LTK4+Ojis1NOHPJOzo6qo7b2tpyVpMNOx8IzQdC84H4PvOr1aqK7+7uRE9PT6vczMyM35dvyu3tbcOf21sUQcLOB0LzgUB3Nc0dRde7ieYu59nZmeiuri513Pj4uGjXD0uz84HQfCDOx87U1JTonZ0dlSuVSqKHh4ddlqFYX18XvbCwoHKnp6eiM5mMytVqNV/rYOcDoflAaD6QQB+C3tvbU/Hk5KTosbEx0RcXF07rMJeXLy8vKvf5+Sm6p6dH5Z6ennytg50PhOYDCXTs2JtY5rLO/PVPp9PquNfXV2c1mTV4nr650tvbq3IcOyGC5gMJ9OEI+0EEc3//6OhI9PLysjrOjv3k8PBQxfY9XZew84HQfCA0Hwj0NV/mG//MGxf2w3H2ks9PZmdnVby4uCja/lr529ubr9dm5wOh+UCgz+F+fHyILhaLoufn5wOrwf40fX19LdrvMWPDzgdC84HQfCC/5n07x8fHoufm5gK7rv1HDm5ubgK7NjsfCM0HEtoXWf8LsPOB0HwgNB8IzQdC84HQfCA0HwjNB0LzgdB8IDQfCM0HQvOB0HwgNB8IzQfyBYxMzGenufu/AAAAAElFTkSuQmCC\" y=\"-6.776271\"/>\n   </g>\n   <g id=\"patch_43\">\n    <path d=\"M 464.666102 101.776271 \nL 464.666102 7.2 \n\" style=\"fill:none;stroke:#000000;stroke-linecap:square;stroke-linejoin:miter;stroke-width:0.8;\"/>\n   </g>\n   <g id=\"patch_44\">\n    <path d=\"M 559.242373 101.776271 \nL 559.242373 7.2 \n\" style=\"fill:none;stroke:#000000;stroke-linecap:square;stroke-linejoin:miter;stroke-width:0.8;\"/>\n   </g>\n   <g id=\"patch_45\">\n    <path d=\"M 464.666102 101.776271 \nL 559.242373 101.776271 \n\" style=\"fill:none;stroke:#000000;stroke-linecap:square;stroke-linejoin:miter;stroke-width:0.8;\"/>\n   </g>\n   <g id=\"patch_46\">\n    <path d=\"M 464.666102 7.2 \nL 559.242373 7.2 \n\" style=\"fill:none;stroke:#000000;stroke-linecap:square;stroke-linejoin:miter;stroke-width:0.8;\"/>\n   </g>\n  </g>\n  <g id=\"axes_10\">\n   <g id=\"patch_47\">\n    <path d=\"M 464.666102 220.379908 \nL 559.242373 220.379908 \nL 559.242373 125.803636 \nL 464.666102 125.803636 \nz\n\" style=\"fill:#ffffff;\"/>\n   </g>\n   <g clip-path=\"url(#p9fb0c48448)\">\n    <image height=\"95\" id=\"image1622642a59\" transform=\"scale(1 -1)translate(0 -95)\" width=\"95\" x=\"464.666102\" xlink:href=\"data:image/png;base64,\niVBORw0KGgoAAAANSUhEUgAAAF8AAABfCAYAAACOTBv1AAAFF0lEQVR4nO2dyyu1bRTGl/NZcio5K5JyiBwiBmbK0MxMmTI3MPMPMPQHSDJQYmhgIISBMpBCKOWY89k3W651f9/e7Xd/997rxfqNrt267X2/V/e+9n14nueNIaJPMlSI1e7Ab8bMV8TMV8TMV8TMV8TMVyReuwORIi4uTryOiYlh/fn5Nbt+f3+PWp9cbOQrYuYrEtXYwa++C0ZBuO+XmJjIuqCgQNTKy8tZJyQksN7c3BTtzs/P/7gf4WIjXxEzXxEzX5GoZn44uR4MN/NTUlJYNzQ0iFp3dzfrt7c31m7GX15esv74+PDRzYDYyFfEzFfkW69w3VjAOGlqahK1rq4u1mdnZ6zz8vJEu9jYr/FosfODMfMV+dax4/Ly8sK6qKhI1CorK1kXFhayLi0tjXzHAmAjXxEzXxEzX5G/JvN97HjiwcjFxYWo4Y5nfPzXP7uioiKsz/KBjXxFzHxFIh47GCdutOBrjALURESvr6+scRXrrkDx70pKSkQNz3Txc5+enkS7SK9qERv5ipj5ipj5injPfNwVJCJKTk5mnZ2dLWq4zC8rKwv4Hre3t6x3d3dZn56einb5+fms6+vrRQ1zHnN9b29PtLOp5i/BzFfES+zgVzopKUnUGhsbWff29opac3Mz67S0NNZXV1eiHZ6zYgRtb28H7FNmZmbAGk5X3diJJjbyFTHzFfEeO+6MpqOjg3Vtba2o3dzcsN7Z2WF9fHws2t3d3bEOtgLNyclhjfFEJM9q8dAlmrMbFxv5ipj5ipj5injJfFyRVlVViVpbWxvr+/t7UZuenma9vLzMGn8LiOTUEH9f3LtPMjIyWD8/P4va6Ojof/6d29/19XXWdt3OD8bMV8T7xlpqaqr8ADjgwE0xIqKNjQ3WuIoN9euOhyxEMmomJydFbWBggDUetPT19Yl2c3NzrN34842NfEXMfEXMfEW8ZD4u0d0pHuayezk2Tvl8LPPxPdy8npqaYj0yMsK6vb1dtOvs7GS9uLgoar6nnjbyFTHzFfESO8HORPG6GLxMm4iorq6O9cHBAWsfz0NwI2J2dpb18PAwa1wVExENDg6yXlpaErWHh4f/3S/ERr4iZr4i3mc7eLMZkYyTlpYWURsaGmKNq133MCXUmVCwdoeHh6y3trZYt7a2inbV1dWs3YMhi50fhJmviJmviPddTXeFu7q6yrqnp0fU8E7A/v5+1hMTE6IdZi3merBLzt38x36Nj4+zHhsbE+3wcD03N1fUTk5OAr5/ONjIV8TMV8R77LirU4wdvDaHSG5i4VnvzMyMaLe/v88av+5/8tXHFe/a2hprd/MMV7zu1dL42scq3Ea+Ima+It5jx42C6+tr1vPz86JWU1PDuri4mLV7WeHR0RFrdzYVKhg7uNe/sLAg2uFTCHHmQyTPoy12vjlmviJmviIRvwkaz3Bx59J9jVnr7jTiHSg47Qw3d/F3CXddiYgeHx9Zh5r5bj9CnQLbyFfEzFckhiL8XzXhZhc+dJRInuHi0//cr+3KygprjCD37pNgl3ZgP/BB1unp6aId3tCHEeS+xs9y+xvq8/lt5Cti5iti5isS8cxH3F1C/A3IyspijZlMJA9T8M5Ed6shWA5j5mM/3M8KlteB8jvcgxUb+YqY+YpENXb+9eEBHgHmns0GOkDRvIHZBzbyFTHzFVGNnd+OjXxFzHxFzHxFzHxFzHxFzHxFzHxFzHxFzHxFzHxFzHxFzHxFzHxF/gHrlN+iPaahtwAAAABJRU5ErkJggg==\" y=\"-125.379908\"/>\n   </g>\n   <g id=\"patch_48\">\n    <path d=\"M 464.666102 220.379908 \nL 464.666102 125.803636 \n\" style=\"fill:none;stroke:#000000;stroke-linecap:square;stroke-linejoin:miter;stroke-width:0.8;\"/>\n   </g>\n   <g id=\"patch_49\">\n    <path d=\"M 559.242373 220.379908 \nL 559.242373 125.803636 \n\" style=\"fill:none;stroke:#000000;stroke-linecap:square;stroke-linejoin:miter;stroke-width:0.8;\"/>\n   </g>\n   <g id=\"patch_50\">\n    <path d=\"M 464.666102 220.379908 \nL 559.242373 220.379908 \n\" style=\"fill:none;stroke:#000000;stroke-linecap:square;stroke-linejoin:miter;stroke-width:0.8;\"/>\n   </g>\n   <g id=\"patch_51\">\n    <path d=\"M 464.666102 125.803636 \nL 559.242373 125.803636 \n\" style=\"fill:none;stroke:#000000;stroke-linecap:square;stroke-linejoin:miter;stroke-width:0.8;\"/>\n   </g>\n  </g>\n  <g id=\"axes_11\">\n   <g id=\"patch_52\">\n    <path d=\"M 578.157627 101.776271 \nL 672.733898 101.776271 \nL 672.733898 7.2 \nL 578.157627 7.2 \nz\n\" style=\"fill:#ffffff;\"/>\n   </g>\n   <g clip-path=\"url(#p75239fd07b)\">\n    <image height=\"95\" id=\"imagebae316bfc0\" transform=\"scale(1 -1)translate(0 -95)\" width=\"95\" x=\"578.157627\" xlink:href=\"data:image/png;base64,\niVBORw0KGgoAAAANSUhEUgAAAF8AAABfCAYAAACOTBv1AAADAklEQVR4nO2csWoqQRSGN8mNBpuIWgVJlVKrCIK9jRZirUU6UYQ8QLDTR/AJUqQRizRiK1ipkMLWQrBUtBOMaKp77sySvYjX9d/J/b/qH2YSDh+Hw84ac2FZ1t4iEC7RBfzPUD4QygdC+UAoHwjlA6F8IJQPhPKB/EIX8B13d3faul6vSx6NRpKbzebZanIDdj4QygdC+UA8M/Ovrq4kNxoNbe/p6enbc5z55GgoH4hnxs7l5Z8+SCQSjuceHh7OUc5ZYOcDoXwgnhk7n5+fkieTibYXi8Uk39zcSL6+vnb8HSbAzgdC+UAoH4hnZr5Kt9vV1rlcTvL9/b3k29tb7dx8Pne3sBPDzgdC+UA8OXYWi4XjXiQSkfz8/Kzt1Wo112pyA3Y+EMoHQvlALiwP/ol4NBrV1tPpVLL69nM8Hmvn4vG4u4WdGHY+EMoH4smxY+f19VVysViUvFqttHPpdFrycDh0va5/hZ0PhPKBePKGa6fVaklWx04wGNTOlUolyRw75K9QPhDKB2LEzFffcu52O8nqbdey9EdNE2DnA6F8IEbccFWcbruWpd947S/ZZrOZq3UdAzsfCOUDoXwgRjxqqqivDewzX33dUC6Xtb2XlxdX6zoGdj4Qygdi3KNmKpWS3O/3Hc8tl0ttHQqFXKvpWNj5QCgfiHFjR8U+dtSRtNlstL1kMin54+PD1boOhZ0PhPKBUD4Q4264Kr1eT1urM9/n82l76v9zyGaz7hZ2IOx8IJQPxOhHTfv/aBgMBo5nt9utZPuXp1Gw84FQPhCjx47f79fW6o338fHR8ecymYzkTqdz+sIOhJ0PhPKBUD4Qo2e+nXw+L7ndbjuee3t7k1woFLS9/f58Otj5QCgfyI8aO+FwWLL9AxP7d3t/EwgEtPV6vT55XU6w84FQPhDKB2L0hyl21G+wVCoVbe/9/V1ytVqVbP+g/Zyw84FQPpAf9ahpGux8IJQPhPKBUD4QygdC+UAoHwjlA6F8IJQPhPKBUD4QygdC+UAoHwjlA/kCXBiSKdrbqi8AAAAASUVORK5CYII=\" y=\"-6.776271\"/>\n   </g>\n   <g id=\"patch_53\">\n    <path d=\"M 578.157627 101.776271 \nL 578.157627 7.2 \n\" style=\"fill:none;stroke:#000000;stroke-linecap:square;stroke-linejoin:miter;stroke-width:0.8;\"/>\n   </g>\n   <g id=\"patch_54\">\n    <path d=\"M 672.733898 101.776271 \nL 672.733898 7.2 \n\" style=\"fill:none;stroke:#000000;stroke-linecap:square;stroke-linejoin:miter;stroke-width:0.8;\"/>\n   </g>\n   <g id=\"patch_55\">\n    <path d=\"M 578.157627 101.776271 \nL 672.733898 101.776271 \n\" style=\"fill:none;stroke:#000000;stroke-linecap:square;stroke-linejoin:miter;stroke-width:0.8;\"/>\n   </g>\n   <g id=\"patch_56\">\n    <path d=\"M 578.157627 7.2 \nL 672.733898 7.2 \n\" style=\"fill:none;stroke:#000000;stroke-linecap:square;stroke-linejoin:miter;stroke-width:0.8;\"/>\n   </g>\n  </g>\n  <g id=\"axes_12\">\n   <g id=\"patch_57\">\n    <path d=\"M 578.157627 220.379908 \nL 672.733898 220.379908 \nL 672.733898 125.803636 \nL 578.157627 125.803636 \nz\n\" style=\"fill:#ffffff;\"/>\n   </g>\n   <g clip-path=\"url(#pd149379734)\">\n    <image height=\"95\" id=\"image9854422529\" transform=\"scale(1 -1)translate(0 -95)\" width=\"95\" x=\"578.157627\" xlink:href=\"data:image/png;base64,\niVBORw0KGgoAAAANSUhEUgAAAF8AAABfCAYAAACOTBv1AAAEGElEQVR4nO2cTSt9URTGz73eUkiEFEmJorxEDBgYGfkMBjIwIzMpn0I+BRNRQqk7QZhJlIkykFJI3t9mq7V27u10/vt4zv3f5zd6bmtfd/e0zrLP3uucVBAE3wGBkEZPoJCh+UBoPhCaD4TmA6H5QIrRE/iNdDqd9fPn56fo7+/8XiUz84HQfCDQspNKpURXV1eLHhsbM+OamppE7+zsiD4/PzfjXl5ePM8wXpj5QGg+EJoPJDE1v6urS/Tc3JwZV1tbK7qjo0P0/Py8Gff6+io6H5ahzHwgNB8ItOzo0nB1dSW6srLSjGtoaBDd2Ngo2l1aRik1uvRF/RtRYeYDoflAElN2bm9vRb+/v5txZWVlotva2kQXF0ebvi41LDsFCs0HQvOBJOYw5enpSfTh4aGJdXZ2itY7nM3NzWbc/f39P89D/w+Iu/4z84HQfCCpICHtgvpyHx8fN7GVlRXRenm5vLxsxs3OzorWZ70u+kzYPS/+yzNiZj4Qmg+E5gPxXvOj3q7r77W2tprY8fGxaH3Qfnl5acb19fWJvru7yzoP1nxC85F4ucPNtUuoCXsZ39zcmM8nJyeih4eHRdfX15tx+nz34OAg1Dy+vr4izdEHzHwgNB+Il7KjL9VcZSfs39AtIEEQBKurq6IHBwdFl5aWmnGTk5Oi3c25JHY3M/OB0HwgNB+I98MUH/XUXf4dHR2J1ocubn/PyMiI6PLychN7fHz89beQ9Z+ZD4TmA4m97ERZerpl5+zsTLTeTOvu7jbjWlpaRPf395tYJpPJOkeNjzv0sDDzgdB8IDQfSOx9O1HqpPudh4cH0dvb26L10yxBYJeX09PTJra3tyf67e0t1Dzirv/MfCA0H0hi+nZyoc9Ze3t7Re/u7ppxVVVVoq+vr02sp6dHtHtYE+Z3XdzlcBSY+UBoPpA/7VKOunrQsYuLC9Gnp6dmnD5o0S0mbmxjYyPU77qlRZchH93MzHwgNB8IzQeSmHcvhK2h+nB9bW3NxAYGBkSXlJSY2MTEhOjNzU3RHx8foefLXc3/CJoPBLrU1J/1si7X5a0fkN7f3zcx/S6GiooKExsdHRVdU1MjOuzdrjsvHw9SM/OB0HwgsW+s5bo8s61wwm5aua0jusWkvb3dxHS74MzMjGj3oTp2KRcINB8IzQeS1zXfPexYWFgQvbi4aGJFRUWidQ+P+/basOe7PmDmA6H5QKCtI76XdVtbW6KnpqZMrK6uTvTz87Not5uZZadAoPlAaD6QP93VjPvWXR+uLy0tmdjQ0JDo9fV10T76b6LCzAdC84HkRbtgNtw7Zn3H6y4h9Vtp9UN1Pl6GHRVmPhCaDySvy06+w8wHQvOB0HwgNB8IzQdC84HQfCA0HwjNB0LzgdB8IDQfCM0H8gOa0me091ITXAAAAABJRU5ErkJggg==\" y=\"-125.379908\"/>\n   </g>\n   <g id=\"patch_58\">\n    <path d=\"M 578.157627 220.379908 \nL 578.157627 125.803636 \n\" style=\"fill:none;stroke:#000000;stroke-linecap:square;stroke-linejoin:miter;stroke-width:0.8;\"/>\n   </g>\n   <g id=\"patch_59\">\n    <path d=\"M 672.733898 220.379908 \nL 672.733898 125.803636 \n\" style=\"fill:none;stroke:#000000;stroke-linecap:square;stroke-linejoin:miter;stroke-width:0.8;\"/>\n   </g>\n   <g id=\"patch_60\">\n    <path d=\"M 578.157627 220.379908 \nL 672.733898 220.379908 \n\" style=\"fill:none;stroke:#000000;stroke-linecap:square;stroke-linejoin:miter;stroke-width:0.8;\"/>\n   </g>\n   <g id=\"patch_61\">\n    <path d=\"M 578.157627 125.803636 \nL 672.733898 125.803636 \n\" style=\"fill:none;stroke:#000000;stroke-linecap:square;stroke-linejoin:miter;stroke-width:0.8;\"/>\n   </g>\n  </g>\n  <g id=\"axes_13\">\n   <g id=\"patch_62\">\n    <path d=\"M 691.649153 101.776271 \nL 786.225424 101.776271 \nL 786.225424 7.2 \nL 691.649153 7.2 \nz\n\" style=\"fill:#ffffff;\"/>\n   </g>\n   <g clip-path=\"url(#p9f623e54f6)\">\n    <image height=\"95\" id=\"image5046219748\" transform=\"scale(1 -1)translate(0 -95)\" width=\"95\" x=\"691.649153\" xlink:href=\"data:image/png;base64,\niVBORw0KGgoAAAANSUhEUgAAAF8AAABfCAYAAACOTBv1AAAD8UlEQVR4nO2dTyhtURTG9+WllJJQMpKplDIxkD8TlCEykEiKlAEyUSaYmTNB/iZ/ipSUgcKYyEyIJGGAFMXAG7319jq9e7v3OOd87/D9Rt9uXfcsn9Vyjr32FTHGfBoCIQmdwE+G5gOh+UBoPhCaD4TmA6H5QGg+EJoP5Bc6gUQpLS0VPTQ0pGJ7e3uix8fHVezx8VH0+/u7T9klBisfCM0HQvOBREzI/qp5dHQkurCwUMUikYjoz0/9bU1OTooeHh4WfX197XGG8cPKB0LzgYTuVjMWExMTond3d1Wsp6dH9MjIiOiWlhb/E4sCKx8IzQfyrdpOcnKy6IWFBRXb2NgQnZGREVhOsWDlA6H5QGg+kNA94XZ2dooeGxtTsfv7e9E5OTmB5eQWVj4Qmg8kdG3H5vb2Vq3T0tJEl5eXq9jh4WEgOSUCKx8IzQdC84GEuudPTU2pdWtrq+jFxUUVa2pqCiKlhGDlA6H5QELddhoaGtR6aWlJ9MvLi4pVVlaK/l9uO1n5QGg+kFBvpqysrKh1bW2t6ObmZhXLzMwMJKdEYOUDoflAaD6QUN9qOsnPzxd9dnamYvaYYXV1teiHhwff84oGKx8IzQfie9uxZ2SKiopUrKamRnR/f79oey/WGGNmZmbiutbc3Jzo4+PjqK+bn58XzXHBHwrNB0LzgXje84uLi9V6fX1ddG5ubvREYpwqiZd43+Pi4kK0/XvHGGPOz89dXdsNrHwgNB+I521ndnZWrWPtndqHlp+enkQ7DzDHiz2rU1FRoWIlJSX//JrV1VW1bmxsdHVtN7DygdB8IIFupmxubqp1XV2d6I+Pjy+///b2tujU1FQVGxgYEN3V1SW6vr7+y9d1CysfCM0HQvOBeN7z7adMY4xJSvr783U+4aakpIj2oufbvL29qfXg4KDom5sb0c7TLfYIYltbm6c5OWHlA6H5QDxvO319fWr9+voqur29XcXscb/p6WmvU4nK/v6+6Lu7OxWzJ513dnZUzN6E8QJWPhCaD8T3PdyqqirRW1tbUV9nn5sNcpyjoKBArU9OTkSvra2pmN2SnFPQbmDlA6H5QGg+EN97flZWlmj75IgxesPDftLs7u72M6WYjI6Oiu7t7VWxjo4O0fZHirmFlQ+E5gMJdErZ+fFap6enotPT00U7b/GC3Fe18zg4OFCx7Oxs0faIjHMiOl5Y+UBoPhCaDyTQDXT7HwgYox/tl5eXRTtH9vLy8kRfXl76ktsfnp+fRTtHH8vKykRfXV19+VqsfCA0H8i3OhAXNlj5QGg+EJoPhOYDoflAaD4Qmg+E5gOh+UBoPhCaD4TmA6H5QGg+EJoPhOYD+Q20FO6WgiwtSgAAAABJRU5ErkJggg==\" y=\"-6.776271\"/>\n   </g>\n   <g id=\"patch_63\">\n    <path d=\"M 691.649153 101.776271 \nL 691.649153 7.2 \n\" style=\"fill:none;stroke:#000000;stroke-linecap:square;stroke-linejoin:miter;stroke-width:0.8;\"/>\n   </g>\n   <g id=\"patch_64\">\n    <path d=\"M 786.225424 101.776271 \nL 786.225424 7.2 \n\" style=\"fill:none;stroke:#000000;stroke-linecap:square;stroke-linejoin:miter;stroke-width:0.8;\"/>\n   </g>\n   <g id=\"patch_65\">\n    <path d=\"M 691.649153 101.776271 \nL 786.225424 101.776271 \n\" style=\"fill:none;stroke:#000000;stroke-linecap:square;stroke-linejoin:miter;stroke-width:0.8;\"/>\n   </g>\n   <g id=\"patch_66\">\n    <path d=\"M 691.649153 7.2 \nL 786.225424 7.2 \n\" style=\"fill:none;stroke:#000000;stroke-linecap:square;stroke-linejoin:miter;stroke-width:0.8;\"/>\n   </g>\n  </g>\n  <g id=\"axes_14\">\n   <g id=\"patch_67\">\n    <path d=\"M 691.649153 220.379908 \nL 786.225424 220.379908 \nL 786.225424 125.803636 \nL 691.649153 125.803636 \nz\n\" style=\"fill:#ffffff;\"/>\n   </g>\n   <g clip-path=\"url(#p61cdc7d037)\">\n    <image height=\"95\" id=\"image7568a012e6\" transform=\"scale(1 -1)translate(0 -95)\" width=\"95\" x=\"691.649153\" xlink:href=\"data:image/png;base64,\niVBORw0KGgoAAAANSUhEUgAAAF8AAABfCAYAAACOTBv1AAAFH0lEQVR4nO2dySu2bxTHj3mIMq1MSRmKDLGwk40dScpQsvAXIGJjYWNhZa/0lpUiFlZYEUVRWBg2QhkW5iHzb3d+33PF00P347zP63xW39u5nvu5329X5znXcF9vCBG9k6FCqPYD/GbMfEXCtR/AS0JCQli/v//92dR6viJmviJmviJBl/Pj4+NZx8XFiVho6P996erqSsTu7+8/vN/b25uHT/c1rOcrYuYrEhRpJzk5mXV7ezvrhoYG0e7k5IT18PCwiC0vL7N+fn5m7ZakP1miWs9XxMxXxMxXJChyfmRkJOvW1lbW+fn5ot3T0xPrra0tEVtbW2P98vLCGqckiCzn/xrMfEWCIu3c3NywxjIxLCxMtIuIiGCdkZEhYphONEe1iPV8Rcx8RQKedtxqAvG3ssBJsfHxcdaFhYWiHVYxGxsbIvbw8PBhO02s5yti5iti5isSQh7v23FzPC5wuKXh6+srayz/3N8CvGdeXh7rhYUF0Q5LzdraWhHDtn/L4rr1fEXMfEV+tNT0lU58laTI2dkZ66OjIxHLzMxknZiY+KXn1MB6viJmviJmviIBz/lYTrp8p+S7vr5mPT8/L2ItLS2sq6qqRGxmZoa1TS8YZr4mno9wf5KsrCxx/efPH9a4rZCIqK6ujvXh4SFrX6nPixlZX1jPV8TMVyQo1nA/4/T0VFzv7u6yxjRDRNTX18e6q6uLNS6yENnWkV+Dma+Ima+IJzkfSzJcPCGSW/1QExGFh4d/qN12mJdRJyQkiHZRUVGs3bdWGhsbWU9NTbGem5sT7XBEHuj8bz1fETNfEc/TTmxsrIhVVlayrqmpEbGioiLWmCbclHF5ecl6cXHxw78TEZWVlbF2UxempN7eXtbuOvBnL84FAuv5ipj5ipj5ing+vZCdnS2uu7u7WZeWln76uYuLC9Zuvk5NTWWNeX17e1u0u729Ze0u4uCenvLyctYlJSWiHb61aKXmP4yZr4gnaQdHtZgiiIhyc3NZR0dHi9j5+Tnr/v5+1uvr66JdWloaayxD8fNEMl0NDAyIWHFxMeuYmBjWQ0NDol11dTXru7s7CiTW8xUx8xXxvNpxKwR8gc19Ee34+Jj19PQ0a3fkurm5yRp3OrtVEX53U1OTiI2NjbHGagdH2UREnZ2drAcHB0XM6y0n1vMVMfMVMfMV8STnYy538yIufuAIlIhodXWVta/ZRMzleH9fLzPv7++L6+bmZtaTk5Osc3JyRLu2tjbWs7OzIraysuLXd/uL9XxFzHxFPEk7mBawfCSSW/PchRYcabovy331e13ctHBwcMAajwcbHR0V7dLT01nX19eLGE7k4emF352As56viJmviOcjXHx5wb12KyGsNHCefmlpSbTzorLAe2Al1NHRIdr19PSwTkpKEjEcDeMzfnfkaz1fETNfETNfEc9zPh7JRUS0t7fHuqCgQMRSUlJY41kJ7ugUT4r1t6xzfyfwc6h3dnZEu5GREdYVFRUihr8BuKjjzsL6i/V8Rcx8RTwf4bqTZxMTE6zdES6uzeI98AwFIlmuPj4++vUcvspTbOfez92OguC/DUfk3z0Y1Xq+Ima+Ima+IgF/CRpzI/4nBETyTBzc3ueWbpjzPzsajOh7s4tuvsZFeXefEYKLRHiA9lewnq+Ima+I6tkLuM3Q13Fgn41Ogx3r+YqY+YoE9ZEvwY71fEXMfEXMfEXMfEXMfEXMfEXMfEXMfEXMfEXMfEXMfEXMfEXMfEX+A9Su0eIu47V4AAAAAElFTkSuQmCC\" y=\"-125.379908\"/>\n   </g>\n   <g id=\"patch_68\">\n    <path d=\"M 691.649153 220.379908 \nL 691.649153 125.803636 \n\" style=\"fill:none;stroke:#000000;stroke-linecap:square;stroke-linejoin:miter;stroke-width:0.8;\"/>\n   </g>\n   <g id=\"patch_69\">\n    <path d=\"M 786.225424 220.379908 \nL 786.225424 125.803636 \n\" style=\"fill:none;stroke:#000000;stroke-linecap:square;stroke-linejoin:miter;stroke-width:0.8;\"/>\n   </g>\n   <g id=\"patch_70\">\n    <path d=\"M 691.649153 220.379908 \nL 786.225424 220.379908 \n\" style=\"fill:none;stroke:#000000;stroke-linecap:square;stroke-linejoin:miter;stroke-width:0.8;\"/>\n   </g>\n   <g id=\"patch_71\">\n    <path d=\"M 691.649153 125.803636 \nL 786.225424 125.803636 \n\" style=\"fill:none;stroke:#000000;stroke-linecap:square;stroke-linejoin:miter;stroke-width:0.8;\"/>\n   </g>\n  </g>\n  <g id=\"axes_15\">\n   <g id=\"patch_72\">\n    <path d=\"M 805.140678 101.776271 \nL 899.716949 101.776271 \nL 899.716949 7.2 \nL 805.140678 7.2 \nz\n\" style=\"fill:#ffffff;\"/>\n   </g>\n   <g clip-path=\"url(#p35b8c367dc)\">\n    <image height=\"95\" id=\"imaged68f79d795\" transform=\"scale(1 -1)translate(0 -95)\" width=\"95\" x=\"805.140678\" xlink:href=\"data:image/png;base64,\niVBORw0KGgoAAAANSUhEUgAAAF8AAABfCAYAAACOTBv1AAAD0UlEQVR4nO2cyyt1YRTG1+FLyCXXkcuEohAzf4AyI0pu5R9AMmFEUZIyMjUwklySlIFSRgaihJJcBgYKRZQBGfhmy7v2Z4vP3vs5dZ7f6Fmt97z77Wm1znv2fveJici7EAhJ6AUkMjQfCM0HQvOB0HwgNB/IH/QC4pmsrCwTHx4eqh4YGFC9vr7+X/Oz8oHQfCBsO1+wsrJi4vz8fNUXFxe/np+VD4TmA6H5QNjzPZSUlKhuaGgwuYWFBdUnJye/vhYrHwjNB5LwbaegoMDEW1tbvmOnpqYCvTYrHwjNB5Lwbaenp8fEZWVlqldXV03u/Pw80Guz8oHQfCA0H0hMEvDcTm1treqdnR2TS01NVV1ZWWlyZ2dnga6DlQ+E5gNJmK1mUtJHnQ0NDal224yIyNjYmOqg28w/awp1dvIlNB8IzQeSMFvNjo4O1fPz86qvr6/NOHcb+vDwEOqaWPlAaD6QuNlqus9Lu7q6TO7x8VH16Oio6ufnZ9/50tLSTNze3v7puO3tbROH3WpcWPlAaD4QaNtxW417NC87O9uMe3//2JAlJyerHh4eNuNeXl5Uj4yMmFxzc7Pqq6sr1ePj4z9ddmCw8oHQfCA0H0ikPT83N9fES0tLqjMzM1W7Pd4b9/X1qa6oqDDjent7Vbe2tvrOsbm5qfry8vJbaw8DVj4Qmg8k0rbjPfXrbimPj49VuzfBRESqq6tVt7S0qG5razPjdnd3Vefk5Jic+8t1ZmbmJ8sODVY+EJoPhOYDibTnd3Z2+ub29vZUn56empwbLy8vq/Z+h+Tl5fnOPzs7qzqIt0qCgJUPhOYDibTtuC+UiYg0NTWp3tjY+PF8+/v7Jm5sbPQdW19frzojI0P1Vw9kwoaVD4TmA4m07by+vpo4FoupHhwcVL22tmbGuUf63B1TeXm573yuFhFJT09XnZKS8oNVhwcrHwjNB0LzgUR6XLC0tNTER0dHqt3tn3uHU0Tk9vZWtfdXrR93d3cmrqurU31zc/OtOcKGlQ+E5gOJdKvpnpcREZmbm1Pd39+vuqamxozzPtP14+npSfX09LTJRXkM8Luw8oHQfCDQlyOKiopUHxwcqPbel/drO4uLiyZ2j5XEY5vxwsoHQvOB0HwgcfNCXHd3t+qJiQmTKy4u/vQzhYWFJr6/vw9+YSHCygdC84HETdtx8f5v/eTkpOqqqirV3ptsb29v4S4sYFj5QGg+EJoPJC57fqLAygdC84HQfCA0HwjNB0LzgdB8IDQfCM0HQvOB0HwgNB8IzQdC84HQfCA0HwjNB0LzgdB8IH8Bst7VZIGV6SoAAAAASUVORK5CYII=\" y=\"-6.776271\"/>\n   </g>\n   <g id=\"patch_73\">\n    <path d=\"M 805.140678 101.776271 \nL 805.140678 7.2 \n\" style=\"fill:none;stroke:#000000;stroke-linecap:square;stroke-linejoin:miter;stroke-width:0.8;\"/>\n   </g>\n   <g id=\"patch_74\">\n    <path d=\"M 899.716949 101.776271 \nL 899.716949 7.2 \n\" style=\"fill:none;stroke:#000000;stroke-linecap:square;stroke-linejoin:miter;stroke-width:0.8;\"/>\n   </g>\n   <g id=\"patch_75\">\n    <path d=\"M 805.140678 101.776271 \nL 899.716949 101.776271 \n\" style=\"fill:none;stroke:#000000;stroke-linecap:square;stroke-linejoin:miter;stroke-width:0.8;\"/>\n   </g>\n   <g id=\"patch_76\">\n    <path d=\"M 805.140678 7.2 \nL 899.716949 7.2 \n\" style=\"fill:none;stroke:#000000;stroke-linecap:square;stroke-linejoin:miter;stroke-width:0.8;\"/>\n   </g>\n  </g>\n  <g id=\"axes_16\">\n   <g id=\"patch_77\">\n    <path d=\"M 805.140678 220.379908 \nL 899.716949 220.379908 \nL 899.716949 125.803636 \nL 805.140678 125.803636 \nz\n\" style=\"fill:#ffffff;\"/>\n   </g>\n   <g clip-path=\"url(#p71ff4f383f)\">\n    <image height=\"95\" id=\"image0fd871f9ed\" transform=\"scale(1 -1)translate(0 -95)\" width=\"95\" x=\"805.140678\" xlink:href=\"data:image/png;base64,\niVBORw0KGgoAAAANSUhEUgAAAF8AAABfCAYAAACOTBv1AAAGAklEQVR4nO2dyytubxTHl+Oau477pY4OUcoI5ZoYKWUiZXAGJuqUzPwTBgaMSTJgclBmBpSQiGQgl+RSCOVy3K+/2fp9nyfvbp99trOOzvqMvm/P03631drfdz3r2XsLIqJXUkT4JH0C/zIafEFCpE9AmpAQMwQxMTGsw8LCjLH7+3vW5+fnv/3dmvmCaPAF0eAL8ld6flBQkPH506f/c+Tl5YX166v7Kjk4OJg1+jwem4goJSWFdV5enjF2fX3NenJykvXz87Pr80A08wXR4Aviu+3YpRtag32JI2gnNrYNucHJuhITE1lnZ2cb84qKiljn5+cbY3Nzc6zDw8NZ39zc/PL5EWnmi6LBF0SDL4hnz0dPjY6OZh0REWHMQ8+3vRFLNPRkpxLSa6mJrQL08qamJmNeTk4Oa/tvubq6Yj01NcV6d3fX9XkgmvmCaPAF8Ww7uGL8/Pkz68fHR2MergrtsUArQzw2kVm+ou04lae2JT09Pb35vampqca80NBQ1qenp8bYzs4O64uLi4Df7RbNfEE0+IJ4th285M/Ozljj5U1EdHd3x9ptA8q2jEBNMft4TtUPWt7+/j7rra0tYx6ufpeWloyxxcVF1rix4hXNfEE0+IJo8AXxxfOdunpeNhps70a/Rs+3O5dOno9jWCbavo6ePz8/b4zt7e29ebxfOQ9EM18QDb4gvmymOK00nRpmbi9PPH6gZpx9PPvYaFeZmZmsExISjHloLYeHh8bY5eXlm+fkFc18QTT4gmjwBfF9A932YWwN2N1K7CA6la7o806ej76OG9xERDU1Nazb2tpY2/dj9vb2BjyPh4eHN8/XK5r5gmjwBfHFdpxKPLysv3z5Yoy1t7ezLi0tZW2vOjs6OlgfHx8H/C60nerqamOsu7ubNW6g4GYPEVFUVBRr23bsju3vopkviAZfkHe/SxmrAtzrJSIqLi5mnZuby9q+Ta++vp51Y2Mj64WFBWMe3sJSUlJijKGdYCMMKxgios3NTda4EUTkT4WDaOYLosEXRIMvyLuvcPHz7e2tMYYlJXYa4+LijHmxsbGsh4eHWY+OjhrzNjY2WNsr3OXlZdbo3Xg8IqKZmRnWXp84cYtmviAafEGCyId3L2DDDJtlRESRkZGsk5OTjTEsKbOysliXl5cb87BsxNWp3ahDW8OSkYhocHCQ9cjICOuDgwNjnt+rWCc08wXR4AuiwRfE966mfQ8LdjW/fv1qjGEJiQ8V2+Vfeno6666uLtZVVVUBj1dQUGCMYesBO6N/0uNtNPMF0eAL4kupiVZjPwSdlpbG+vv378ZYYWEh6/HxcdZjY2PGvJ8/f7LG7qc9LyMjg7W90TI9Pc26oaGBtR9PmHhFM18QDb4gvlc7djMK90HtW/PKyspY46q2rq7OmNfZ2cn66OiINa5UiYhaW1tZ2yttrLSwiYeWRuT/hokTmvmCaPAF0eAL4vtmil3i4fsKZmdnjbHm5mbW+EpF3DAnIqqsrGT948cP1vgUJBHRyckJa1ztEhFtb2+zxicJ7RW507t9cMzpXiW3aOYLosEXxJcVruMXwKUaHx9vjA0NDbGura1lbW+SIFi6rq2tGWO4Wl1dXTXGenp6WOMrWpz2ae1yFfeW8Z4eu1x1i2a+IBp8Qd7ddowvsyoJbIQNDAywrqioMOZhsw777+vr68a8vr4+1v39/caYXRm5OUeswIjM/QN8NhibdkTu3zaomS+IBl8QDb4gf/RF1vZKEO+Zwbf8ffv2zZjX0tLCGvdiJyYmjHlYunr95wJ4jnapib8BeA/SysqKMU89/wOgwRfkj5aaTuDdzPazsfhO+6SkJNbYSCMybcx+k6GX88D9ZyKz1MTyF/efidyXtZr5gmjwBdHgC/LXeL4TuORHT7bbFW7fNhvo2ERmeYm/L0TmbwB6vv3Qtv2EYyA08wXR4AvyIWwnEE77rW73VZ3+t4q9qYOfsZT1eqezZr4gGnxBPrTt+IHXF5L6gWa+IBp8QTT4gvzzni+JZr4gGnxBNPiCaPAF0eALosEXRIMviAZfEA2+IP8BBdwhfydClb4AAAAASUVORK5CYII=\" y=\"-125.379908\"/>\n   </g>\n   <g id=\"patch_78\">\n    <path d=\"M 805.140678 220.379908 \nL 805.140678 125.803636 \n\" style=\"fill:none;stroke:#000000;stroke-linecap:square;stroke-linejoin:miter;stroke-width:0.8;\"/>\n   </g>\n   <g id=\"patch_79\">\n    <path d=\"M 899.716949 220.379908 \nL 899.716949 125.803636 \n\" style=\"fill:none;stroke:#000000;stroke-linecap:square;stroke-linejoin:miter;stroke-width:0.8;\"/>\n   </g>\n   <g id=\"patch_80\">\n    <path d=\"M 805.140678 220.379908 \nL 899.716949 220.379908 \n\" style=\"fill:none;stroke:#000000;stroke-linecap:square;stroke-linejoin:miter;stroke-width:0.8;\"/>\n   </g>\n   <g id=\"patch_81\">\n    <path d=\"M 805.140678 125.803636 \nL 899.716949 125.803636 \n\" style=\"fill:none;stroke:#000000;stroke-linecap:square;stroke-linejoin:miter;stroke-width:0.8;\"/>\n   </g>\n  </g>\n  <g id=\"axes_17\">\n   <g id=\"patch_82\">\n    <path d=\"M 918.632203 101.776271 \nL 1013.208475 101.776271 \nL 1013.208475 7.2 \nL 918.632203 7.2 \nz\n\" style=\"fill:#ffffff;\"/>\n   </g>\n   <g clip-path=\"url(#p35dd2279d2)\">\n    <image height=\"95\" id=\"image93bdb2b6ff\" transform=\"scale(1 -1)translate(0 -95)\" width=\"95\" x=\"918.632203\" xlink:href=\"data:image/png;base64,\niVBORw0KGgoAAAANSUhEUgAAAF8AAABfCAYAAACOTBv1AAAD40lEQVR4nO2cTSg9URjG53KR2EixuT6KbCxEFnaUsiFhIYmlLCQfK3ZsSPZSxELZWFEsLFDKRxKKkiwoK2wsEPn4L/71Ou9kbuPeufeZy/NbPad35pzT09vbzJw5J2BZ1qdFICShJ/CXoflAaD4Qmg+E5gOh+UBoPhCaD4TmA6H5QGg+EJoPhOYDCaInEA2dnZ2qXVVVJXp0dFTFbm9v4zKnn8DMB0LzgQSsBFhMyc3NFT07Oyu6srJSXZeTkyP66upKxRYWFkSPjIx4O8EIYeYDoflAfFl20tPTVXtubk50a2trRH2+v7+LXl1dFd3R0aGue3x8jKj/SGDmA6H5QGg+EF/W/IqKCtU+ODhwdd/m5qbompoaFQsEAt/eMzU1pdq9vb2uxvICZj4Qmg/Elx/W6urqHGNvb2+i5+fnVWxmZkZ0f3+/irW3t3/bXygUimCG3sDMB0LzgdB8INCaX1tbKzolJUV0U1OT4z3B4NeUu7q6VMze9jvMfCA0H4gnZSc5OVl0eXm5ii0uLn4NFtTD5eXliU5Kil8efH5+vdQfHh7GbVw7zHwgNB+IJx/WJicnRQ8ODkbbXUy4u7sTvbW1JbqtrQ0wm/8w84HQfCA0H4gnNd98dPv4+HB9n3nt9PS06L29PXVdfn6+6MvLS9FnZ2eOfZeWlqr27u6u6JubG9dzjCXMfCA0H4gnZcf8Azg7O1vFXl5eRE9MTKjY8vKy6OPj42inkXAw84HQfCA0H4gnNd/896W7u1vFzLre0tIS7VC/CmY+EJoPxJPFlJ2dHdH2smMurtj/kfHLmyYKZj4Qmg/Ek6edzMxM0cPDwyo2NDQk+v7+XsVKSkpEPzw8RDuNhIOZD4TmA6H5QDzfmZKamqraS0tLohsaGlRsbGxM9Pj4uOinpycvp+RbmPlAaD6QmG+Iy8jIEL29va1iZWVlopubm0WvrKw49ldYWCjafr6CudZrf3v+ydpyvGDmA6H5QGK+OcI8y8C+0a2vr0/06+urYx/mCVJra2vf9m1ZusStr6+r2Onpqej9/X3RR0dH6rrn52fH/r2GmQ+E5gOh+UB8efaCnerqatEbGxsxHev8/Fx0uN8Rw+H2TCBmPhCaDyQhyk5RUZHonp4e0fZ9t+bxYE5HvMQDc4NgOJj5QGg+EJoPJCFqvlvq6+tFNzY2qph57FdxcbGr/i4uLlS7oKBAdFpamuN9rPkJAM0H8qvKTjiysrJEm4su4bi+vlbtgYEB0eZXUnt5Ojk5cdU/Mx8IzQfyZ8qOH2HmA6H5QGg+EJoPhOYDoflAaD4Qmg+E5gOh+UBoPhCaD4TmA/kH0v3hZC0NOusAAAAASUVORK5CYII=\" y=\"-6.776271\"/>\n   </g>\n   <g id=\"patch_83\">\n    <path d=\"M 918.632203 101.776271 \nL 918.632203 7.2 \n\" style=\"fill:none;stroke:#000000;stroke-linecap:square;stroke-linejoin:miter;stroke-width:0.8;\"/>\n   </g>\n   <g id=\"patch_84\">\n    <path d=\"M 1013.208475 101.776271 \nL 1013.208475 7.2 \n\" style=\"fill:none;stroke:#000000;stroke-linecap:square;stroke-linejoin:miter;stroke-width:0.8;\"/>\n   </g>\n   <g id=\"patch_85\">\n    <path d=\"M 918.632203 101.776271 \nL 1013.208475 101.776271 \n\" style=\"fill:none;stroke:#000000;stroke-linecap:square;stroke-linejoin:miter;stroke-width:0.8;\"/>\n   </g>\n   <g id=\"patch_86\">\n    <path d=\"M 918.632203 7.2 \nL 1013.208475 7.2 \n\" style=\"fill:none;stroke:#000000;stroke-linecap:square;stroke-linejoin:miter;stroke-width:0.8;\"/>\n   </g>\n  </g>\n  <g id=\"axes_18\">\n   <g id=\"patch_87\">\n    <path d=\"M 918.632203 220.379908 \nL 1013.208475 220.379908 \nL 1013.208475 125.803636 \nL 918.632203 125.803636 \nz\n\" style=\"fill:#ffffff;\"/>\n   </g>\n   <g clip-path=\"url(#p62a7228d23)\">\n    <image height=\"95\" id=\"imagefa83a1968b\" transform=\"scale(1 -1)translate(0 -95)\" width=\"95\" x=\"918.632203\" xlink:href=\"data:image/png;base64,\niVBORw0KGgoAAAANSUhEUgAAAF8AAABfCAYAAACOTBv1AAAFN0lEQVR4nO2cyyu1bRTG13Y+y/kQBg45JEYmSklKKUwMzPwHxpRMJBn4D2RCxgaSgZSRDIiUIuUQIsecz77Zcq3723u38z7b8n7f+o2u7b7t/XS5XXvdh+fxEdEnGSpEaF/A/xkzXxEzXxEzXxEzXxEzXxEzXxEzXxEzXxEzXxEzXxEzXxEzX5Eo7Qvwh8/nE6+Tk5NZl5WVsU5LSxP9Dg8PWe/v74u2l5cX1p+fXwu5Hx8ff3axf4CNfEXMfEX+itiprKxkPTQ0xLqkpET0e3p6Yr26uiraJiYm/LZdX1+LfhhP4cZGviJmviK/MnZiY2PF65qaGtYFBQWss7OzRb+YmBjWpaWloq29vZ310tIS656eHtFve3ubdbgrIRv5ipj5ipj5ivyazI+K+rqU2tpa0dbS0sL6/f2dtVsW4ndFZGSkaEtKSmLd2NjIurOzU/QbGRlhbZn/H8bMV8RHHhwXxMhwCfavizFRV1fHenh4WPSrqKjw+/v39/fiNZaebrmK4MLawsKCaGttbWUd7tmujXxFzHxFzHxFvl1qRkR8/d1wdTExMVH0u7m5YY1ZS0RUXV3NemBgwO/PiYiio6NZ43eIm8n4HYBLDURypRR1QkICaWEjXxEzX5Fvx058fDzrtrY21s3NzaJfamoq69vbW9GGe7OFhYWs3dkpxgTGXUpKiui3t7fH2o0dvF6cJc/NzYl+b29v9FPYyFfEzFfEk4W1vLw81vX19aIN/93df+nj42PWW1tbrPPz80W/3Nxc1hhJuGdLRHR0dMT69PRUtGVlZbHe2dlhPTk5Kfr95FESG/mKmPmKmPmKfDvzHx4eWJ+fn7OOi4uTHwArnu55HCwN+/r6WJ+cnIh+WFJWVVWxxjKWiGhjY4P11dWVaMvJyWGN3zUHBwekhY18Rcx8Rb4dO7hItri4yDpYqeaWmmNjY6xXVlZY4wzUZXNzk7U7i8Vrct9jd3fX7zUG+6xwYyNfETNfETNfEU+WF9bX11m7R64zMzNZPz4+irbl5WXWoWZvsM0UxN24CfT+br+fxEa+Ima+Ip7EDu6d9vf3izY8foerjkT/jqhQCLSxQhS8zNWMl0DYyFfEzFfE81PK7uYEbrSkp6eLNnehLRTwd/BICRHR8/Mz698YMy428hUx8xUx8xXx5Ih4MPCOkIyMDNF2dnbGGme/bl5jzuNKpntuB88FuZvrvxEb+YqY+YqEPXaClYbY9vr66vfnRDK68M4RvLGNiGh+fp71zMyMaMMYwlhzPyvUNi+wka+Ima9I2GMHcU8fYwzhIpl7w0JTUxNrfOQLPoeBSO4RT09Pi7bBwUHWeNTFXZzDasqNSTwGg8dP3Moq1Hiyka+Ima+Ima9I2J+9EGzlErMRsxdLSyKi8vJy1jhLds/t4I3PXV1doq2jo4P13d0d64uLC9EP93rd7x7sOzs7y3p0dFT0w6OUwbCRr4iZr4jnpaZbTuKpZbcEC7Tn6j7LoaioiHVvby9rfHQXkYwrN+4CxV+wa3KvD+NkbW2NdXd3t+gX6slnG/mKmPmKmPmKeJL5mKdumYg3N7slGE7zcVXTzVrMZby7sbi4WPTDm7EbGhpEGz6zB68R349ILlFgSUok72KcmppiPT4+LvqF+pweG/mKmPmKeF5qumUiPl8Bo4VI7tti1HixaeGWljiDxpkx3ihHJGfQ7s19+Ez+y8tL1qHOaF1s5Cti5ivyo5sphsRGviJmviJmviJmviJmviJmviJmviJmviJmviJmviJmviJmviJmviL/ANozpulTxZMHAAAAAElFTkSuQmCC\" y=\"-125.379908\"/>\n   </g>\n   <g id=\"patch_88\">\n    <path d=\"M 918.632203 220.379908 \nL 918.632203 125.803636 \n\" style=\"fill:none;stroke:#000000;stroke-linecap:square;stroke-linejoin:miter;stroke-width:0.8;\"/>\n   </g>\n   <g id=\"patch_89\">\n    <path d=\"M 1013.208475 220.379908 \nL 1013.208475 125.803636 \n\" style=\"fill:none;stroke:#000000;stroke-linecap:square;stroke-linejoin:miter;stroke-width:0.8;\"/>\n   </g>\n   <g id=\"patch_90\">\n    <path d=\"M 918.632203 220.379908 \nL 1013.208475 220.379908 \n\" style=\"fill:none;stroke:#000000;stroke-linecap:square;stroke-linejoin:miter;stroke-width:0.8;\"/>\n   </g>\n   <g id=\"patch_91\">\n    <path d=\"M 918.632203 125.803636 \nL 1013.208475 125.803636 \n\" style=\"fill:none;stroke:#000000;stroke-linecap:square;stroke-linejoin:miter;stroke-width:0.8;\"/>\n   </g>\n  </g>\n  <g id=\"axes_19\">\n   <g id=\"patch_92\">\n    <path d=\"M 1032.123729 101.776271 \nL 1126.7 101.776271 \nL 1126.7 7.2 \nL 1032.123729 7.2 \nz\n\" style=\"fill:#ffffff;\"/>\n   </g>\n   <g clip-path=\"url(#paf7b56830f)\">\n    <image height=\"95\" id=\"image6985d5e484\" transform=\"scale(1 -1)translate(0 -95)\" width=\"95\" x=\"1032.123729\" xlink:href=\"data:image/png;base64,\niVBORw0KGgoAAAANSUhEUgAAAF8AAABfCAYAAACOTBv1AAAEbUlEQVR4nO2cSyitXxjGt1suIYoMXEYSJSmSUlJMJIqUxIyBcjdACKEMlAlFTKQwlJkyoDAwMCGJlJDkmkLu/Efn/a+12lv77PPZz3bO8xs9b2v51tvT29vyrfVtL5vN9mkjELzRCfzL0HwgvsjFm5ubRQ8PD4uur6/X5o2OjrotJ3fCygdC84HQfCBeNuBW8+TkRHRMTIzoi4sLbV5qaqros7Ozb8/LXbDygdB8INCt5s3Njejo6GjRkZGR2rympibRbW1t356Xu2DlA6H5QGg+EOhWs6ioSPTCwoLoz0/HKeXm5opeXl7+nsTcBCsfCM0HAm07wcHBond3d0Wr206Tra0t0ZmZmdrY09OThdl9P6x8IDQfCLTtqISEhIi+urrSxvz8/Oz+zcTEhBbX1NRYn9g3wsoHQvOB0HwgHtPzVfr7+7W4s7PT7ryHhwctLiwsFL2ysmJ5XlbDygdC84F4ZNvJyMjQ4qWlJdHqltTk/v5edH5+vja2vr5uUXbWwcoHQvOB0HwgHtnzTaqrq0WrdzrVt6ImOzs7Wpyeni76+fnZwuxch5UPhOYD+RFtR6W1tVX0wMCANubr6/gaUkVFhei5uTnrE3MBVj4Qmg/kx7UdlenpaS2urKx0OPfu7k50S0uL6KmpKW3e+/u7Nck5ASsfCM0HQvOBuPWKeFhYmBa3t7eLzsrKEn19fa3NOz4+Fu3v7y86ISHB6bXVt6GTk5Oi09LStHkdHR2ib29vnX6+K7DygdB8IJZvNQMDA7V4dnZWdF5enjYWFBQk2tv7/zr46payuhX08fFxOc9ffHx8aPH8/LzohoYGbczqj/FY+UBoPhCaD8Tynl9QUKDFMzMzokNDQ7Wxo6Mj0eohSWxsrDYvMTHR7lqPj49anJSUZFfbbPr9z6ioKLvPMzE/xs7Ozha9v7/v1DO+gpUPhOYDsfw/XPOt4FfbQfXwY2NjQ/TIyIhLa6trma2rtLRUtPp7PuHh4do89VzYbE9dXV2iq6qqRL++vrqULysfCM0HYvluJyAgQIvVM9eenh59cS8v0ZeXl6LHxsa0eUNDQ6LNm8nOon5IV15eLtr8+G5xcdGp56ktSc39d2DlA6H5QGg+EMu3muaHyH19faLN/lpcXCxa/Y2d7u5ubZ560LK9vS1aPfiwt7aKekCjbod7e3sdPuP8/Fwbi4uLc/h8V2DlA6H5QKD3dlJSUkTX1taKLisr0+aZL+R+cXp6qsWrq6uiDw8PtTF1y7u5uSna/ApGPTB5e3vTxgYHB0WPj4/bzel3YOUDoflAPPK6YHJyshbX1dWJLikpER0REfHHa5mtZW9vT/Ta2po21tjYKPrl5eWP12blA6H5QGg+EI/s+V8RHx8v2uz56n/MOTk52ph6P0fdJpofRx8cHFiRplOw8oHQfCA/ru38TbDygdB8IDQfCM0HQvOB0HwgNB8IzQdC84HQfCA0HwjNB0LzgdB8IDQfCM0HQvOB0HwgNB8IzQdC84HQfCA0H8h/QIsV5Jtj8zgAAAAASUVORK5CYII=\" y=\"-6.776271\"/>\n   </g>\n   <g id=\"patch_93\">\n    <path d=\"M 1032.123729 101.776271 \nL 1032.123729 7.2 \n\" style=\"fill:none;stroke:#000000;stroke-linecap:square;stroke-linejoin:miter;stroke-width:0.8;\"/>\n   </g>\n   <g id=\"patch_94\">\n    <path d=\"M 1126.7 101.776271 \nL 1126.7 7.2 \n\" style=\"fill:none;stroke:#000000;stroke-linecap:square;stroke-linejoin:miter;stroke-width:0.8;\"/>\n   </g>\n   <g id=\"patch_95\">\n    <path d=\"M 1032.123729 101.776271 \nL 1126.7 101.776271 \n\" style=\"fill:none;stroke:#000000;stroke-linecap:square;stroke-linejoin:miter;stroke-width:0.8;\"/>\n   </g>\n   <g id=\"patch_96\">\n    <path d=\"M 1032.123729 7.2 \nL 1126.7 7.2 \n\" style=\"fill:none;stroke:#000000;stroke-linecap:square;stroke-linejoin:miter;stroke-width:0.8;\"/>\n   </g>\n  </g>\n  <g id=\"axes_20\">\n   <g id=\"patch_97\">\n    <path d=\"M 1032.123729 220.379908 \nL 1126.7 220.379908 \nL 1126.7 125.803636 \nL 1032.123729 125.803636 \nz\n\" style=\"fill:#ffffff;\"/>\n   </g>\n   <g clip-path=\"url(#pc923217a75)\">\n    <image height=\"95\" id=\"imageacea5f7525\" transform=\"scale(1 -1)translate(0 -95)\" width=\"95\" x=\"1032.123729\" xlink:href=\"data:image/png;base64,\niVBORw0KGgoAAAANSUhEUgAAAF8AAABfCAYAAACOTBv1AAAFN0lEQVR4nO2cSyitURTH1/F+h/IoAxl4JKFQ3o+UYiJDYqTIxMDESDJBSZSBDKVQZECKPDJh4DGRAWZCSh55v7mzddfa1znde/vOWefcu36j/9fax/nu/+7z//a39/4+GwB8gSKCl/QJ/M+o+YL4uPLLYmNj2fHs7Czq5ORk1CMjI6xde3s76q+vfycltecLouYLouYLYgMnDzW9vH7+/5aUlLAazfyQkBDU9/f3rF1ZWRnqnZ0d1J6e/9rzBVHzBXF67NhsNtTx8fGsNj8/jzopKQm1GScrKyuoa2pqUD8/P1t2nhJozxdEzRdEzRfE6ZlP8fX1Zce1tbWoh4aGUAcGBrJ2p6enqIuLi1EfHx9bfYouRXu+IGq+IC6NHZOYmBjUq6urqFNSUux+Zm1tDXVFRQWrfXx8WHdyLkB7viBqviCisUMn3dra2lD39PSwdj4+P9d86N3v6Ogoa9fY2Ij68/PTsvN0FtrzBVHzBVHzBRHNfAq9+6WzmAAAhYWFqOksqTm07OzsRN3d3c1q7rjwoj1fEDVfELeJHYo5sba+vo46MzMTNY0gAICbmxvU5nrx7u4uaneJIO35gqj5gqj5grhl5pvQa8DCwgLqvLw8u59ZXl5mx/X19aivr69RS+a/9nxB1HxBPCJ2KHR/z9LSEqvRxZmrqytWa2lpQU2j6/X1lbVzZQxpzxdEzRfE6U+m0AUTqgH4Hao9DcBHO1lZWajpIgsAn5yLiopita6uLtR0K8re3h5r9/LygtrZEaQ9XxA1XxA1XxDLh5r0CRMAgJycHNQFBQWsFh4ejtrf3x81fTIRACAhIQF1ZGSk3e/y8/Oze1504YVm/uDgIGs3OTmJ+vLyktXe399R0+vB314btOcLouYLYkns0KFhamoqqw0PD6NOTExkNTpUfHx8RG0OSYOCglAHBAR8+3kAPtQ0h6sUGkHmw3cbGxuo+/r6WG1zcxM1vTOmcQTw+zGkPV8QNV8QNV8QS6YXaMaZi98RERGo6dASgO+nPDk5QT0+Ps7a0SdQ6MszQkNDWbvc3FzU6enprEZnPOm1wvwb9IFr87rR0dGB+uDgAPXDwwNrp5nvAaj5glgSO/TneXR0xGrn5+eozaEmHVLe3d2hNhdJ9vf3Ub+9vX37veaxGSetra2o6ft76NAVgN9pZ2dnsxrdC0SjkA6T/wTt+YKo+YJYHjvmlZ9OVNGFEACA4OBg1GlpaaibmppYO/qkytnZGWpHD8DR7SEAAAMDA6hpfBQVFbF2NArNibv8/HzUdB3YnID7XbTnC6LmC6LmC2L5HS4dCgLwYePU1BSrVVdXo6Z3xnV1daxdeXk56omJCdTT09Os3cXFBWpztpJel2ZmZlA7ug6Zs6t0sYb+O83ZVXOW0x7a8wVR8wVx+nZB+pOMjo5mtYaGBtRVVVWozTVcupji6IG4p6cn1ObrYLa3t1HTNWE6GQfA73hvb29ZbWxsDHV/fz9qGncAv0avPbTnC6LmC+LSXcrmRBj9icfFxaHOyMhg7ejbpUpLS7/9DACfTPP29mY1uuZK48S8I6fbShYXF1ltbm4Otb3JPgCdz/cI1HxB1HxB3ObJFEdbxGl+h4WFoTbfUNvc3Iy6srLS7t84PDxE3dvby9ptbW2hpkNXAH7doOvPul3QA1HzBXGb2LECR9FFj62IDCvQni+Imi+Imi/IP5X5nob2fEHUfEHUfEHUfEHUfEHUfEHUfEHUfEHUfEHUfEHUfEHUfEHUfEHUfEHUfEHUfEHUfEHUfEHUfEF+AIwkg9uKKE1KAAAAAElFTkSuQmCC\" y=\"-125.379908\"/>\n   </g>\n   <g id=\"patch_98\">\n    <path d=\"M 1032.123729 220.379908 \nL 1032.123729 125.803636 \n\" style=\"fill:none;stroke:#000000;stroke-linecap:square;stroke-linejoin:miter;stroke-width:0.8;\"/>\n   </g>\n   <g id=\"patch_99\">\n    <path d=\"M 1126.7 220.379908 \nL 1126.7 125.803636 \n\" style=\"fill:none;stroke:#000000;stroke-linecap:square;stroke-linejoin:miter;stroke-width:0.8;\"/>\n   </g>\n   <g id=\"patch_100\">\n    <path d=\"M 1032.123729 220.379908 \nL 1126.7 220.379908 \n\" style=\"fill:none;stroke:#000000;stroke-linecap:square;stroke-linejoin:miter;stroke-width:0.8;\"/>\n   </g>\n   <g id=\"patch_101\">\n    <path d=\"M 1032.123729 125.803636 \nL 1126.7 125.803636 \n\" style=\"fill:none;stroke:#000000;stroke-linecap:square;stroke-linejoin:miter;stroke-width:0.8;\"/>\n   </g>\n  </g>\n </g>\n <defs>\n  <clipPath id=\"p51f179492b\">\n   <rect height=\"94.576271\" width=\"94.576271\" x=\"10.7\" y=\"7.2\"/>\n  </clipPath>\n  <clipPath id=\"pda65c6a956\">\n   <rect height=\"94.576271\" width=\"94.576271\" x=\"10.7\" y=\"125.803636\"/>\n  </clipPath>\n  <clipPath id=\"p0438bff8ee\">\n   <rect height=\"94.576271\" width=\"94.576271\" x=\"124.191525\" y=\"7.2\"/>\n  </clipPath>\n  <clipPath id=\"p2d41ca5868\">\n   <rect height=\"94.576271\" width=\"94.576271\" x=\"124.191525\" y=\"125.803636\"/>\n  </clipPath>\n  <clipPath id=\"p84db5807f2\">\n   <rect height=\"94.576271\" width=\"94.576271\" x=\"237.683051\" y=\"7.2\"/>\n  </clipPath>\n  <clipPath id=\"pd06b133c75\">\n   <rect height=\"94.576271\" width=\"94.576271\" x=\"237.683051\" y=\"125.803636\"/>\n  </clipPath>\n  <clipPath id=\"pdbdb02a7ac\">\n   <rect height=\"94.576271\" width=\"94.576271\" x=\"351.174576\" y=\"7.2\"/>\n  </clipPath>\n  <clipPath id=\"p83b8278e1f\">\n   <rect height=\"94.576271\" width=\"94.576271\" x=\"351.174576\" y=\"125.803636\"/>\n  </clipPath>\n  <clipPath id=\"p976377e4fb\">\n   <rect height=\"94.576271\" width=\"94.576271\" x=\"464.666102\" y=\"7.2\"/>\n  </clipPath>\n  <clipPath id=\"p9fb0c48448\">\n   <rect height=\"94.576271\" width=\"94.576271\" x=\"464.666102\" y=\"125.803636\"/>\n  </clipPath>\n  <clipPath id=\"p75239fd07b\">\n   <rect height=\"94.576271\" width=\"94.576271\" x=\"578.157627\" y=\"7.2\"/>\n  </clipPath>\n  <clipPath id=\"pd149379734\">\n   <rect height=\"94.576271\" width=\"94.576271\" x=\"578.157627\" y=\"125.803636\"/>\n  </clipPath>\n  <clipPath id=\"p9f623e54f6\">\n   <rect height=\"94.576271\" width=\"94.576271\" x=\"691.649153\" y=\"7.2\"/>\n  </clipPath>\n  <clipPath id=\"p61cdc7d037\">\n   <rect height=\"94.576271\" width=\"94.576271\" x=\"691.649153\" y=\"125.803636\"/>\n  </clipPath>\n  <clipPath id=\"p35b8c367dc\">\n   <rect height=\"94.576271\" width=\"94.576271\" x=\"805.140678\" y=\"7.2\"/>\n  </clipPath>\n  <clipPath id=\"p71ff4f383f\">\n   <rect height=\"94.576271\" width=\"94.576271\" x=\"805.140678\" y=\"125.803636\"/>\n  </clipPath>\n  <clipPath id=\"p35dd2279d2\">\n   <rect height=\"94.576271\" width=\"94.576271\" x=\"918.632203\" y=\"7.2\"/>\n  </clipPath>\n  <clipPath id=\"p62a7228d23\">\n   <rect height=\"94.576271\" width=\"94.576271\" x=\"918.632203\" y=\"125.803636\"/>\n  </clipPath>\n  <clipPath id=\"paf7b56830f\">\n   <rect height=\"94.576271\" width=\"94.576271\" x=\"1032.123729\" y=\"7.2\"/>\n  </clipPath>\n  <clipPath id=\"pc923217a75\">\n   <rect height=\"94.576271\" width=\"94.576271\" x=\"1032.123729\" y=\"125.803636\"/>\n  </clipPath>\n </defs>\n</svg>\n",
      "image/png": "[encoded data removed]"
     },
     "metadata": {
      "needs_background": "light"
     }
    }
   ],
   "source": [
    "import matplotlib.pyplot as plt\n",
    "\n",
    "\n",
    "n = 10  # How many digits we will display\n",
    "plt.figure(figsize=(20, 4))\n",
    "for i in range(n):\n",
    "    # Display original\n",
    "    ax = plt.subplot(2, n, i + 1)\n",
    "    plt.imshow(x_test[i].reshape(28, 28))\n",
    "    plt.gray()\n",
    "    ax.get_xaxis().set_visible(False)\n",
    "    ax.get_yaxis().set_visible(False)\n",
    "\n",
    "    # Display reconstruction\n",
    "    ax = plt.subplot(2, n, i + 1 + n)\n",
    "    plt.imshow(roundtrip_imgs[i].reshape(28, 28))\n",
    "    plt.gray()\n",
    "    ax.get_xaxis().set_visible(False)\n",
    "    ax.get_yaxis().set_visible(False)\n",
    "plt.show()"
   ]
  },
  {
   "source": [
    "What about the compression? Let's check the sizes of the arrays."
   ],
   "cell_type": "markdown",
   "metadata": {}
  },
  {
   "cell_type": "code",
   "execution_count": 62,
   "metadata": {},
   "outputs": [
    {
     "output_type": "stream",
     "name": "stdout",
     "text": [
      "x_test.shape[1]: 784\nencoded_imgs.shape[1]: 32\nCompression ratio: 1/25\n"
     ]
    }
   ],
   "source": [
    "encoded_imgs = autoencoder.transform(x_test)\n",
    "print(f\"x_test.shape[1]: {x_test.shape[1]}\")\n",
    "print(f\"encoded_imgs.shape[1]: {encoded_imgs.shape[1]}\")\n",
    "cr = round((encoded_imgs.nbytes/x_test.nbytes), 2)\n",
    "print(f\"Compression ratio: 1/{1/cr:.0f}\")"
   ]
  }
 ],
 "metadata": {
  "colab": {
   "collapsed_sections": [],
   "name": "Benchmarks.ipynb",
   "provenance": []
  },
  "kernelspec": {
   "display_name": "Python 3",
   "language": "python",
   "name": "python3"
  },
  "language_info": {
   "codemirror_mode": {
    "name": "ipython",
    "version": 3
   },
   "file_extension": ".py",
   "mimetype": "text/x-python",
   "name": "python",
   "nbconvert_exporter": "python",
   "pygments_lexer": "ipython3",
   "version": "3.8.5-final"
  }
 },
 "nbformat": 4,
 "nbformat_minor": 1
}