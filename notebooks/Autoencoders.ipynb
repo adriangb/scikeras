{
 "cells": [
  {
   "cell_type": "markdown",
   "metadata": {
    "id": "z22BE9uhvoxO"
   },
   "source": [
    "# Autoencoders in SciKeras"
   ]
  },
  {
   "cell_type": "markdown",
   "metadata": {
    "id": "hapoJed-voxP"
   },
   "source": [
    "Autencoders are an approach to use nearual networks to distill data into it's most important features, thereby compressing the data. We will be following the [Keras tutorial](https://blog.keras.io/building-autoencoders-in-keras.html) on the topic, which goes much more in depth and breadth than we will here. You are highly encouraged to check out that tutorial if you want to learn about autoencoders in the general sense.\n",
    "\n",
    "\n",
    "\n",
    "<table align=\"left\"><td>\n",
    "<a target=\"_blank\" href=\"https://colab.research.google.com/github/adriangb/scikeras/blob/master/notebooks/Basic_Usage.ipyn\">\n",
    "    <img src=\"https://www.tensorflow.org/images/colab_logo_32px.png\" />Run in Google Colab</a>  \n",
    "</td><td>\n",
    "<a target=\"_blank\" href=\"https://github.com/adriangb/scikeras/blob/master/notebooks/Basic_Usage.ipynb\"><img width=32px src=\"https://www.tensorflow.org/images/GitHub-Mark-32px.png\" />View source on GitHub</a></td></table>"
   ]
  },
  {
   "cell_type": "markdown",
   "metadata": {
    "id": "iT-ibpi7voxQ"
   },
   "source": [
    "### Table of contents"
   ]
  },
  {
   "cell_type": "markdown",
   "metadata": {
    "id": "ekJWKPFMvoxR"
   },
   "source": [
    "* [Data](#Data)\n",
    "* [Define Model](#Define-Keras-Model)\n",
    "* [Training](#Training)\n",
    "* [Explore Results](#Explore-Results)"
   ]
  },
  {
   "cell_type": "markdown",
   "metadata": {
    "id": "6avb3GBQDQyG"
   },
   "source": [
    "Install SciKeras"
   ]
  },
  {
   "cell_type": "code",
   "execution_count": null,
   "metadata": {
    "id": "qCcyTjVkvoxR"
   },
   "outputs": [],
   "source": [
    "!python -m pip install git+https://github.com/adriangb/scikeras.git@master"
   ]
  },
  {
   "cell_type": "markdown",
   "metadata": {
    "id": "EZveNcetDQyL"
   },
   "source": [
    "Silence TensorFlow warnings to keep output succint."
   ]
  },
  {
   "cell_type": "code",
   "execution_count": 1,
   "metadata": {
    "id": "ekNmO_GPDQyL"
   },
   "outputs": [],
   "source": [
    "import warnings\n",
    "from tensorflow import get_logger\n",
    "get_logger().setLevel('ERROR')"
   ]
  },
  {
   "cell_type": "code",
   "execution_count": 2,
   "metadata": {
    "id": "Sf4j-x4DvoxV"
   },
   "outputs": [],
   "source": [
    "from tensorflow import keras"
   ]
  },
  {
   "cell_type": "markdown",
   "metadata": {
    "id": "hCuOBH8AvoxX"
   },
   "source": [
    "## Data"
   ]
  },
  {
   "cell_type": "markdown",
   "metadata": {
    "id": "i3fAUKBUvoxY"
   },
   "source": [
    "We load the dataset from the Keras tutorial. The dataset consists of images of cats and dogs."
   ]
  },
  {
   "cell_type": "code",
   "execution_count": 3,
   "metadata": {
    "colab": {
     "base_uri": "https://localhost:8080/",
     "height": 51
    },
    "id": "QM74xeoe-1S-",
    "outputId": "23946eec-c32f-4db6-8bda-e12bda6492ea"
   },
   "outputs": [
    {
     "output_type": "stream",
     "name": "stdout",
     "text": [
      "(60000, 784)\n(10000, 784)\n"
     ]
    }
   ],
   "source": [
    "from tensorflow.keras.datasets import mnist\n",
    "import numpy as np\n",
    "\n",
    "\n",
    "(x_train, _), (x_test, _) = mnist.load_data()\n",
    "x_train = x_train.astype('float32') / 255.\n",
    "x_test = x_test.astype('float32') / 255.\n",
    "x_train = x_train.reshape((len(x_train), np.prod(x_train.shape[1:])))\n",
    "x_test = x_test.reshape((len(x_test), np.prod(x_test.shape[1:])))\n",
    "print(x_train.shape)\n",
    "print(x_test.shape)"
   ]
  },
  {
   "cell_type": "markdown",
   "metadata": {
    "id": "yuR10hymK0dh"
   },
   "source": [
    "## Define Keras Model"
   ]
  },
  {
   "cell_type": "markdown",
   "metadata": {},
   "source": [
    "We will be defining a very simple autencoder."
   ]
  },
  {
   "cell_type": "code",
   "execution_count": 4,
   "metadata": {
    "id": "dBFFXT-__7KU"
   },
   "outputs": [],
   "source": [
    "from tensorflow import keras\n",
    "from tensorflow.keras import layers\n",
    "\n",
    "\n",
    "# This is the size of our encoded representations\n",
    "encoding_dim = 32  # 32 floats -> compression of factor 24.5, assuming the input is 784 floats\n",
    "\n",
    "# This is our input image\n",
    "input_img = keras.Input(shape=(784,))\n",
    "# \"encoded\" is the encoded representation of the input\n",
    "encoded = layers.Dense(encoding_dim, activation='relu')(input_img)\n",
    "# \"decoded\" is the lossy reconstruction of the input\n",
    "decoded = layers.Dense(784, activation='sigmoid')(encoded)\n",
    "\n",
    "# This model maps an input to its reconstruction\n",
    "autoencoder_model = keras.Model(input_img, decoded)\n",
    "\n",
    "# This model maps an input to its encoded representation\n",
    "encoder_model = keras.Model(input_img, encoded)\n",
    "\n",
    "# This is our encoded (32-dimensional) input\n",
    "encoded_input = keras.Input(shape=(encoding_dim,))\n",
    "# Retrieve the last layer of the autoencoder model\n",
    "decoder_layer = autoencoder_model.layers[-1]\n",
    "# Create the decoder model\n",
    "decoder_model = keras.Model(encoded_input, decoder_layer(encoded_input))"
   ]
  },
  {
   "source": [
    "We create a small class that will allow us to call `fit_transform` instead of having to call `fit` and `transform` sequentially."
   ],
   "cell_type": "markdown",
   "metadata": {}
  },
  {
   "cell_type": "code",
   "execution_count": 5,
   "metadata": {},
   "outputs": [],
   "source": [
    "from sklearn.base import TransformerMixin\n",
    "from scikeras.wrappers import BaseWrapper\n",
    "\n",
    "\n",
    "class AutoEncoderTransformer(BaseWrapper, TransformerMixin):\n",
    "    \"\"\"Enables the ``transform`` and ``fit_transform`` methods.\n",
    "    \"\"\"\n",
    "\n",
    "    def transform(self, X):\n",
    "        if not self.initialized():\n",
    "            self.initialize(X)\n",
    "        return self.predict(X)"
   ]
  },
  {
   "cell_type": "markdown",
   "metadata": {},
   "source": [
    "Next, we wrap the Keras Model with Scikeras. Note that we use BaseWrapper instead of KerasClassifier or KerasRegressor since this is not a classificaiton or regression task."
   ]
  },
  {
   "cell_type": "code",
   "execution_count": 6,
   "metadata": {},
   "outputs": [],
   "source": [
    "compile_params = {\"optimizer\": \"adam\", \"loss\": \"binary_crossentropy\"}\n",
    "fit_params = {\"epochs\": 50, \"batch_size\": 256, \"shuffle\": True}\n",
    "\n",
    "autoencoder = BaseWrapper(model=autoencoder_model, **compile_params, **fit_params)\n",
    "encoder = AutoEncoderTransformer(model=encoder_model, **compile_params, **fit_params, verbose=0)\n",
    "decoder = AutoEncoderTransformer(model=decoder_model, **compile_params, **fit_params, verbose=0)"
   ]
  },
  {
   "cell_type": "markdown",
   "metadata": {
    "id": "yqBl5xLDP43O"
   },
   "source": [
    "## Training"
   ]
  },
  {
   "cell_type": "markdown",
   "metadata": {
    "id": "4fHbt_mUVBhE"
   },
   "source": [
    "To train the model, we pass the input images as both the features and the target. This will train the layers to compress the data as accurately as possible between the encoder and decoder."
   ]
  },
  {
   "cell_type": "code",
   "execution_count": 7,
   "metadata": {
    "colab": {
     "base_uri": "https://localhost:8080/",
     "height": 34
    },
    "id": "QQhtIWsMP4Ii",
    "outputId": "1581384e-7012-4816-d4cf-a4190a30e50f"
   },
   "outputs": [
    {
     "output_type": "stream",
     "name": "stdout",
     "text": [
      "Epoch 1/50\n",
      "235/235 [==============================] - 1s 3ms/step - loss: 0.3779\n",
      "Epoch 2/50\n",
      "235/235 [==============================] - 1s 3ms/step - loss: 0.1821\n",
      "Epoch 3/50\n",
      "235/235 [==============================] - 1s 3ms/step - loss: 0.1505\n",
      "Epoch 4/50\n",
      "235/235 [==============================] - 1s 3ms/step - loss: 0.1318\n",
      "Epoch 5/50\n",
      "235/235 [==============================] - 1s 3ms/step - loss: 0.1201\n",
      "Epoch 6/50\n",
      "235/235 [==============================] - 1s 3ms/step - loss: 0.1126\n",
      "Epoch 7/50\n",
      "235/235 [==============================] - 1s 3ms/step - loss: 0.1073\n",
      "Epoch 8/50\n",
      "235/235 [==============================] - 1s 3ms/step - loss: 0.1033\n",
      "Epoch 9/50\n",
      "235/235 [==============================] - 1s 3ms/step - loss: 0.1002\n",
      "Epoch 10/50\n",
      "235/235 [==============================] - 1s 3ms/step - loss: 0.0980\n",
      "Epoch 11/50\n",
      "235/235 [==============================] - 1s 3ms/step - loss: 0.0964\n",
      "Epoch 12/50\n",
      "235/235 [==============================] - 1s 3ms/step - loss: 0.0955\n",
      "Epoch 13/50\n",
      "235/235 [==============================] - 1s 3ms/step - loss: 0.0948\n",
      "Epoch 14/50\n",
      "235/235 [==============================] - 1s 3ms/step - loss: 0.0945\n",
      "Epoch 15/50\n",
      "235/235 [==============================] - 1s 3ms/step - loss: 0.0944\n",
      "Epoch 16/50\n",
      "235/235 [==============================] - 1s 3ms/step - loss: 0.0939\n",
      "Epoch 17/50\n",
      "235/235 [==============================] - 1s 4ms/step - loss: 0.0939\n",
      "Epoch 18/50\n",
      "235/235 [==============================] - 1s 4ms/step - loss: 0.0937\n",
      "Epoch 19/50\n",
      "235/235 [==============================] - 1s 4ms/step - loss: 0.0934\n",
      "Epoch 20/50\n",
      "235/235 [==============================] - 1s 4ms/step - loss: 0.0933\n",
      "Epoch 21/50\n",
      "235/235 [==============================] - 1s 4ms/step - loss: 0.0934\n",
      "Epoch 22/50\n",
      "235/235 [==============================] - 1s 4ms/step - loss: 0.0932\n",
      "Epoch 23/50\n",
      "235/235 [==============================] - 1s 4ms/step - loss: 0.0931\n",
      "Epoch 24/50\n",
      "235/235 [==============================] - 1s 4ms/step - loss: 0.0932\n",
      "Epoch 25/50\n",
      "235/235 [==============================] - 1s 4ms/step - loss: 0.0932\n",
      "Epoch 26/50\n",
      "235/235 [==============================] - 1s 4ms/step - loss: 0.0932\n",
      "Epoch 27/50\n",
      "235/235 [==============================] - 1s 4ms/step - loss: 0.0932\n",
      "Epoch 28/50\n",
      "235/235 [==============================] - 1s 4ms/step - loss: 0.0931\n",
      "Epoch 29/50\n",
      "235/235 [==============================] - 1s 3ms/step - loss: 0.0930\n",
      "Epoch 30/50\n",
      "235/235 [==============================] - 1s 3ms/step - loss: 0.0932\n",
      "Epoch 31/50\n",
      "235/235 [==============================] - 1s 4ms/step - loss: 0.0930\n",
      "Epoch 32/50\n",
      "235/235 [==============================] - 1s 4ms/step - loss: 0.0931\n",
      "Epoch 33/50\n",
      "235/235 [==============================] - 1s 3ms/step - loss: 0.0929\n",
      "Epoch 34/50\n",
      "235/235 [==============================] - 1s 4ms/step - loss: 0.0930\n",
      "Epoch 35/50\n",
      "235/235 [==============================] - 1s 4ms/step - loss: 0.0927\n",
      "Epoch 36/50\n",
      "235/235 [==============================] - 1s 3ms/step - loss: 0.0929\n",
      "Epoch 37/50\n",
      "235/235 [==============================] - 1s 3ms/step - loss: 0.0927\n",
      "Epoch 38/50\n",
      "235/235 [==============================] - 1s 4ms/step - loss: 0.0929\n",
      "Epoch 39/50\n",
      "235/235 [==============================] - 1s 4ms/step - loss: 0.0929\n",
      "Epoch 40/50\n",
      "235/235 [==============================] - 1s 4ms/step - loss: 0.0927\n",
      "Epoch 41/50\n",
      "235/235 [==============================] - 1s 4ms/step - loss: 0.0927\n",
      "Epoch 42/50\n",
      "235/235 [==============================] - 1s 4ms/step - loss: 0.0927\n",
      "Epoch 43/50\n",
      "235/235 [==============================] - 1s 4ms/step - loss: 0.0929\n",
      "Epoch 44/50\n",
      "235/235 [==============================] - 1s 4ms/step - loss: 0.0928\n",
      "Epoch 45/50\n",
      "235/235 [==============================] - 1s 4ms/step - loss: 0.0927\n",
      "Epoch 46/50\n",
      "235/235 [==============================] - 1s 4ms/step - loss: 0.0927\n",
      "Epoch 47/50\n",
      "235/235 [==============================] - 1s 4ms/step - loss: 0.0926\n",
      "Epoch 48/50\n",
      "235/235 [==============================] - 1s 4ms/step - loss: 0.0926\n",
      "Epoch 49/50\n",
      "235/235 [==============================] - 1s 6ms/step - loss: 0.0926\n",
      "Epoch 50/50\n",
      "235/235 [==============================] - 1s 6ms/step - loss: 0.0927\n"
     ]
    },
    {
     "output_type": "execute_result",
     "data": {
      "text/plain": [
       "BaseWrapper(\n",
       "\tmodel=<tensorflow.python.keras.engine.functional.Functional object at 0x149b9a850>\n",
       "\tbuild_fn=None\n",
       "\twarm_start=False\n",
       "\trandom_state=None\n",
       "\toptimizer=adam\n",
       "\tloss=binary_crossentropy\n",
       "\tmetrics=None\n",
       "\tbatch_size=256\n",
       "\tverbose=1\n",
       "\tcallbacks=None\n",
       "\tvalidation_split=0.0\n",
       "\tshuffle=True\n",
       "\trun_eagerly=False\n",
       "\tepochs=50\n",
       ")"
      ]
     },
     "metadata": {},
     "execution_count": 7
    }
   ],
   "source": [
    "autoencoder.fit(x_train, x_train)"
   ]
  },
  {
   "cell_type": "markdown",
   "metadata": {},
   "source": [
    "Next we fit the encoder and decoder using training data and then round-trip through both using test data."
   ]
  },
  {
   "cell_type": "code",
   "execution_count": 8,
   "metadata": {},
   "outputs": [],
   "source": [
    "roundtrip_imgs = decoder.transform(encoder.transform(x_test))"
   ]
  },
  {
   "cell_type": "markdown",
   "metadata": {},
   "source": [
    "## Explore Results"
   ]
  },
  {
   "cell_type": "markdown",
   "metadata": {},
   "source": [
    "Now let's compare our inputs to lossy decoded outputs:"
   ]
  },
  {
   "cell_type": "code",
   "execution_count": 9,
   "metadata": {},
   "outputs": [
    {
     "output_type": "display_data",
     "data": {
      "text/plain": "<Figure size 1440x288 with 20 Axes>",
      "image/svg+xml": "<?xml version=\"1.0\" encoding=\"utf-8\" standalone=\"no\"?>\n<!DOCTYPE svg PUBLIC \"-//W3C//DTD SVG 1.1//EN\"\n  \"http://www.w3.org/Graphics/SVG/1.1/DTD/svg11.dtd\">\n<!-- Created with matplotlib (https://matplotlib.org/) -->\n<svg height=\"231.079908pt\" version=\"1.1\" viewBox=\"0 0 1133.9 231.079908\" width=\"1133.9pt\" xmlns=\"http://www.w3.org/2000/svg\" xmlns:xlink=\"http://www.w3.org/1999/xlink\">\n <metadata>\n  <rdf:RDF xmlns:cc=\"http://creativecommons.org/ns#\" xmlns:dc=\"http://purl.org/dc/elements/1.1/\" xmlns:rdf=\"http://www.w3.org/1999/02/22-rdf-syntax-ns#\">\n   <cc:Work>\n    <dc:type rdf:resource=\"http://purl.org/dc/dcmitype/StillImage\"/>\n    <dc:date>2020-11-07T02:58:46.504847</dc:date>\n    <dc:format>image/svg+xml</dc:format>\n    <dc:creator>\n     <cc:Agent>\n      <dc:title>Matplotlib v3.3.2, https://matplotlib.org/</dc:title>\n     </cc:Agent>\n    </dc:creator>\n   </cc:Work>\n  </rdf:RDF>\n </metadata>\n <defs>\n  <style type=\"text/css\">*{stroke-linecap:butt;stroke-linejoin:round;}</style>\n </defs>\n <g id=\"figure_1\">\n  <g id=\"patch_1\">\n   <path d=\"M 0 231.079908 \nL 1133.9 231.079908 \nL 1133.9 0 \nL 0 0 \nz\n\" style=\"fill:none;\"/>\n  </g>\n  <g id=\"axes_1\">\n   <g id=\"patch_2\">\n    <path d=\"M 10.7 101.776271 \nL 105.276271 101.776271 \nL 105.276271 7.2 \nL 10.7 7.2 \nz\n\" style=\"fill:#ffffff;\"/>\n   </g>\n   <g clip-path=\"url(#pd50324f80c)\">\n    <image height=\"95\" id=\"image188b32b72e\" transform=\"scale(1 -1)translate(0 -95)\" width=\"95\" x=\"10.7\" xlink:href=\"data:image/png;base64,\niVBORw0KGgoAAAANSUhEUgAAAF8AAABfCAYAAACOTBv1AAADhElEQVR4nO2czyusYRTHj+taTM0GZSMipaT8zEqNXxuZZMGKtZW/wIJY2NhaKHslpaZsrCyQ0FjITCNhQ1JKClGUu7qn58xlGu77+r4z8/2svu88TzOnT8fpMe/MFInIuxAIv9AFFDKUD+Q3uoC/TE5Oap6bmzNrR0dHmvv6+jTf3d35X5iPsPOBUD4QygcSmJmfiebmZs37+/uaBwcHzb6Tk5Mfq8kL2PlAKB9IYMbO9va25sfHR7MWDoc119XVffh4LsLOB0L5QCgfSGBm/s7OjuaFhQWz5r71kE+w84FQPpDAjB2XpaUlcz02Nqa5urpac1dXl9l3eHio+f09+PeI2PlAKB9IkeTAPdz6+nrNmd48Gxoa0ry+vu5rTV7AzgdC+UAoH0hOzPzi4mLNe3t7mtvb282+8/Nzzf39/Z+uBQV2PhDKB5ITY8elvLxc88HBgVmrra3VvLKyYtZGR0f9LewbsPOBUD4QygeSczPfJRqNmutYLKb56enJrLlHT/e4ioSdD4TygeT02Elnenpa88zMjFnb2NjQPDAw8FMlZYSdD4TygeTV2AmFQprdj6KIiDQ2Nmru7e3VvLu7639hn8DOB0L5QCgfSCA/t/Ndnp+fNbtHSxGR1tZWzbOzs5rTj52vr68+Vfcv7HwglA8kr46aLp2dneZ6c3NTc0lJiebu7m6zb2try9e6XNj5QCgfCOUDyduZn457vJyamtJ8f39v9kUiEc2JRMLXmtj5QCgfSMGMnYqKCs3Hx8cfPi4iMjIyonltbc3Xmtj5QCgfSMGMHZfh4WHNq6urZs094fT09Jg1r39WjJ0PhPKBUD6QQM780tJSc93S0qLZ/aJzR0dH1s/58vKi+fT0VHMqlTL7ysrKNE9MTJi1xcXFrF8vG9j5QCgfiOf3cN1ffBURaWpq0pz+J97Q0KC5ra1Nc/oNjsrKSs2Xl5eaq6qqsq7r7e1N8+3trWZ3zKTj/qSYH7DzgVA+EM9POxcXF+a6pqbmy8/x8PBgrpPJ5P+U9CWurq40z8/Pm7V4PO7pa7HzgVA+EMoH4vnMd29GiIiMj49rvr6+Nmvuf53Ly8uab25uzL6zszMvSwwM7HwglA8kkG+sFQrsfCCUD4TygVA+EMoHQvlAKB8I5QOhfCCUD4TygVA+EMoHQvlAKB8I5QOhfCCUD4TygVA+EMoHQvlAKB/IHylJwuaX+CcdAAAAAElFTkSuQmCC\" y=\"-6.776271\"/>\n   </g>\n   <g id=\"patch_3\">\n    <path d=\"M 10.7 101.776271 \nL 10.7 7.2 \n\" style=\"fill:none;stroke:#000000;stroke-linecap:square;stroke-linejoin:miter;stroke-width:0.8;\"/>\n   </g>\n   <g id=\"patch_4\">\n    <path d=\"M 105.276271 101.776271 \nL 105.276271 7.2 \n\" style=\"fill:none;stroke:#000000;stroke-linecap:square;stroke-linejoin:miter;stroke-width:0.8;\"/>\n   </g>\n   <g id=\"patch_5\">\n    <path d=\"M 10.7 101.776271 \nL 105.276271 101.776271 \n\" style=\"fill:none;stroke:#000000;stroke-linecap:square;stroke-linejoin:miter;stroke-width:0.8;\"/>\n   </g>\n   <g id=\"patch_6\">\n    <path d=\"M 10.7 7.2 \nL 105.276271 7.2 \n\" style=\"fill:none;stroke:#000000;stroke-linecap:square;stroke-linejoin:miter;stroke-width:0.8;\"/>\n   </g>\n  </g>\n  <g id=\"axes_2\">\n   <g id=\"patch_7\">\n    <path d=\"M 10.7 220.379908 \nL 105.276271 220.379908 \nL 105.276271 125.803636 \nL 10.7 125.803636 \nz\n\" style=\"fill:#ffffff;\"/>\n   </g>\n   <g clip-path=\"url(#pe5f2f9502d)\">\n    <image height=\"95\" id=\"image90b9b40c70\" transform=\"scale(1 -1)translate(0 -95)\" width=\"95\" x=\"10.7\" xlink:href=\"data:image/png;base64,\niVBORw0KGgoAAAANSUhEUgAAAF8AAABfCAYAAACOTBv1AAAE1UlEQVR4nO2cSyh1URTH9/V+hMg75TFCpESSGQMDA2NKohQTIzMjCRkYeQwpEzOUjJgoA8YMDDwjIo+833yz1Vq77nW63zl3Xd/3/43+t7XuPbt/27L2PvscnzHm2ygRERFBOioqinRCQoLIe3t7I/309OT9wEJExM8pwCtgviJRP6f8HT6fj3RsbKyIVVVVkV5YWCCdnp4u8njZ6e/vJz02Nibyvr/draB87F78Pma+IjBfEZiviOc1n9dJXruNMebk5IT04+MjabvmR0dHk25oaCA9NTUl8n5bG4qZrwjMV8RnFFe4fFXb1dVFemRkROTxFe/x8THp+vp6kXd0dOT2ED0FM18RmK8IzFfE81YzEB8fH6Snp6dJV1dXi7zW1lbSmZmZpGtra0Ueaj5wDMxXRLXV9EdBQYH4vLa2RjovL4+0XWYqKipI39/fezM4F8HMVwTmKxKWZYff2zXGmI6ODtLj4+OkIyMjRd7k5CTpvr4+Efv6+nJziK6Ama8IzFcE5isSljXfJi4ujvTs7CzppqYmkXd5eUm6sbFRxHZ2djwaXfBg5isC8xX5FWWHn5/Jz88nPTc3J/IKCwtJz8zMiNjg4CDpcLnXi5mvCMxXBOYr4nnN5/XaPvvIP/PzPYG2AviWQktLi4gNDw+Tvr6+FrH29nbSW1tbjq7lNZj5isB8RcKm7HDsUsBLEv9ORkaGyFtcXCRdXFwsYsvLy6S7u7tJ82OKoQYzXxGYr0hIV7iByg7XgcoOx76Z0tnZSXp0dFTEPj8/Sff09JCen58XeaHsfjDzFYH5isB8RVR3Nf3VfPt/A6/D/tpOY4xJSkoivbq6KmJlZWWkt7e3STc3N4u8s7MzR2N3A8x8RWC+Iq6UHX8bZMFit5BON934OEpKSkRsaWmJdGpqKumJiQmRNzQ0RPr19dXhiIMDM18RmK8IzFckLG+g2y0kP7vpr+20sc979vb2kh4YGCDNz/oYY0xbWxvpjY0NEXN76wEzXxGYr0hIb6YE24byEsJ/j+9U/kRubi7pzc1N0vZ7HlZWVkjzEmSMMbe3t46v5wTMfEVgviKuP4fr9IaJMbIMBdow48TExJC2y877+7vf7/EH5E5PT0nn5OSIvLq6OtKVlZUixh/Mc6PzwcxXBOYrAvMVcaXm8xrNX8lljDHx8fGkeb0O9Bv268D494qKikjbZ3P29/dJ7+3tiRhvKfkRcbv95deqqakRsfX1ddKo+b8cmK9I0GWHv6IrMTGRdHZ2tsjjf7rl5eUilpKSQjo5OZm03TLy0sBLjf2OBr4S3t3dFbHDw0PSWVlZpJ+fn0Xew8ODo3G4AWa+IjBfEcdlx1518i6GP4hmdwj8rVGlpaUixjsLru0XXvPuh5e4QKvptLQ0EeObYrwEnZ+fizy++uXdjTHYz/+ngPmKwHxFgm41+ZkW/vCZvbLkO49XV1cixt8ueHNzQ5q/NdYYYw4ODkjf3d2Rfnl5EXn8vI/dJvJr8THx/yHGyLp+cXHhN+YGmPmKwHxFXL+Hax/1C9RCcvhK0y4ZoXxaxO2jj4HAzFcE5isC8xUJy+OC/wuY+YrAfEVgviIwXxGYrwjMVwTmKwLzFYH5isB8RWC+IjBfEZivCMxXBOYrAvMVgfmKwHxFYL4ifwDhi3wcPJchNAAAAABJRU5ErkJggg==\" y=\"-125.379908\"/>\n   </g>\n   <g id=\"patch_8\">\n    <path d=\"M 10.7 220.379908 \nL 10.7 125.803636 \n\" style=\"fill:none;stroke:#000000;stroke-linecap:square;stroke-linejoin:miter;stroke-width:0.8;\"/>\n   </g>\n   <g id=\"patch_9\">\n    <path d=\"M 105.276271 220.379908 \nL 105.276271 125.803636 \n\" style=\"fill:none;stroke:#000000;stroke-linecap:square;stroke-linejoin:miter;stroke-width:0.8;\"/>\n   </g>\n   <g id=\"patch_10\">\n    <path d=\"M 10.7 220.379908 \nL 105.276271 220.379908 \n\" style=\"fill:none;stroke:#000000;stroke-linecap:square;stroke-linejoin:miter;stroke-width:0.8;\"/>\n   </g>\n   <g id=\"patch_11\">\n    <path d=\"M 10.7 125.803636 \nL 105.276271 125.803636 \n\" style=\"fill:none;stroke:#000000;stroke-linecap:square;stroke-linejoin:miter;stroke-width:0.8;\"/>\n   </g>\n  </g>\n  <g id=\"axes_3\">\n   <g id=\"patch_12\">\n    <path d=\"M 124.191525 101.776271 \nL 218.767797 101.776271 \nL 218.767797 7.2 \nL 124.191525 7.2 \nz\n\" style=\"fill:#ffffff;\"/>\n   </g>\n   <g clip-path=\"url(#p808db35d72)\">\n    <image height=\"95\" id=\"image116d777a60\" transform=\"scale(1 -1)translate(0 -95)\" width=\"95\" x=\"124.191525\" xlink:href=\"data:image/png;base64,\niVBORw0KGgoAAAANSUhEUgAAAF8AAABfCAYAAACOTBv1AAADwUlEQVR4nO2cu0srQRTG1+sLQVCwEEEQbA1qoQjWopWxESz9CwSJUSsfCNoqWNhZaOMDNQgWViKCSSCNRdBGEBsRVBBFQnzcW93DnOWubHJ391v1+1XfYSaZ4eNwmN3ZmRLLsn5bBMIv9AR+MjQfCM0HQvOB0HwgNB8IzQdC84HQfCA0HwjNB0LzgdB8IDQfCM0HQvOBlCEHn5iYEF1eXu7qNy0tLaKHhoZcj7W6uir66urKsd/Ozo7oi4sL1/9fDMx8IDQfSIkV4B7u7u6uigcGBoIa2jVvb2+iPz4+HPvt7++LzmQyjv1OTk5UnEqlRDPzgdB8IDQfSKA1P5fLqdjt8rIYtre3VXxzcyO6vr5edCHL1WKYnp5W8fz8vGhmPhCaDySUZae1tVXFt7e3BY/1+Pio4tfX13+OW1NT4/gftbW1Ko7FYq7Gfn9/Fz05OanaXl5eRDPzgdB8IDQfSChrfmNjo4rNZeJ3gpkPhOYDCbTsLCwsqNi+DPtLIpFQ8fDwsOjn52fP54WCmQ+E5gMJtOzU1dWp+ODgQHRnZ6fj75aWlkSPjY15Pi8UzHwgNB8IzQcS6Hc79/f3KjaXnltbW6LtT77t7e2iq6urRX/1ZSczHwjNBxLoUvMzTk9PRXd1dTn2+07LTmY+EJoPhOYDCU3Nb2hoEH12dqbazNcSd3d3oru7u1W/y8tLn2bnD8x8IDQfSGjKjol9M6W3t1d0ZWWl6LW1NdVvZGRE9Fd4+mXmA6H5QEJZduzMzs6Knpqacuy3vLwsenR01McZeQMzHwjNB0LzgUAPQbvFPO2Xz+dFV1RUqH7mKZO9vT3Vdnx87NPsioeZD4TmA/kSS02T8fFx0XNzc6rNLEPpdFq19fT0iDZPhyBh5gOh+UACLTtNTU0qfnp6Ev3w8FDw/9nf+0ciEce+Ztk5OjoqeCw/YOYDoflAaD4Q359w+/v7Rdvv2zk/Pxfd19cn2u0BuI2NDRXPzMyI9vNeB69g5gOh+UB8X2p2dHSINj8JtCzLKi0tFZ3NZkVHo1HVz/xcxNybtb9YM6/QamtrU22Li4ui4/G4q7n7DTMfCM0HQvOB+L7UNDdC7Bscg4ODos2bYu2f/Zk3ux4eHopubm5W/ex13sR+KiYMMPOB0Hwg0M2Uzc1N0WYJ8gJ76TLfal5fX3s6VrEw84HQfCCh2cM1nzqrqqpUm3nb4GflaWVlRXQymVRt6+vr/ztFz2HmA6H5QGg+kNDU/J8IMx8IzQdC84HQfCA0HwjNB0LzgdB8IDQfyB/RPu7MLQ/ZlAAAAABJRU5ErkJggg==\" y=\"-6.776271\"/>\n   </g>\n   <g id=\"patch_13\">\n    <path d=\"M 124.191525 101.776271 \nL 124.191525 7.2 \n\" style=\"fill:none;stroke:#000000;stroke-linecap:square;stroke-linejoin:miter;stroke-width:0.8;\"/>\n   </g>\n   <g id=\"patch_14\">\n    <path d=\"M 218.767797 101.776271 \nL 218.767797 7.2 \n\" style=\"fill:none;stroke:#000000;stroke-linecap:square;stroke-linejoin:miter;stroke-width:0.8;\"/>\n   </g>\n   <g id=\"patch_15\">\n    <path d=\"M 124.191525 101.776271 \nL 218.767797 101.776271 \n\" style=\"fill:none;stroke:#000000;stroke-linecap:square;stroke-linejoin:miter;stroke-width:0.8;\"/>\n   </g>\n   <g id=\"patch_16\">\n    <path d=\"M 124.191525 7.2 \nL 218.767797 7.2 \n\" style=\"fill:none;stroke:#000000;stroke-linecap:square;stroke-linejoin:miter;stroke-width:0.8;\"/>\n   </g>\n  </g>\n  <g id=\"axes_4\">\n   <g id=\"patch_17\">\n    <path d=\"M 124.191525 220.379908 \nL 218.767797 220.379908 \nL 218.767797 125.803636 \nL 124.191525 125.803636 \nz\n\" style=\"fill:#ffffff;\"/>\n   </g>\n   <g clip-path=\"url(#pfce25d420b)\">\n    <image height=\"95\" id=\"imagefb665ae0ca\" transform=\"scale(1 -1)translate(0 -95)\" width=\"95\" x=\"124.191525\" xlink:href=\"data:image/png;base64,\niVBORw0KGgoAAAANSUhEUgAAAF8AAABfCAYAAACOTBv1AAAFhUlEQVR4nO2cSSh3bxTHz888ROaSaSFshK0sLJVhwcrKEMmKKCtWtnaWFhaSEitslChlTIgopEzJFBkyD//dec95Xvf2i3t/x/t3PqvvdR7Pvb49zn2m+3gA4AMUEfykH+A3o+YLouYLouYLouYLouYLouYLouYLouYLouYLouYLouYLouYLEiD9AN/B4/FYXpsxf39/1OHh4aj9/Hj7e3h4QP3y8sJir6+vqD8+vj8ZrC1fEDVfENfTDv33j4mJYbG8vDzUNTU1qAsLC1m5qKgo1EFBQZ/WDQDw/PyM+vb2lsXe3t4+reP9/Z2V29vbQz0+Ps5iY2NjqE9PTz/VZv13d3dghbZ8QdR8QTzg8hpudnY26omJCRaLi4tDbfY6KGZ6sYL2QGiaMeuw6xXROmgaAwA4OjpCvbKygnpubs7ymXp7e9n19fU1am35gqj5gqj5gjje1aQjSQCAtrY21PHx8SxG8zzNtU9PT6zczc0NapqjQ0NDLZ/j8vKSXT8+PqJOSEhATUe75jMFBgayWFJSEmr6dwYHB1vei74nAACGhob+3Mvy6RXXUfMFcTztmBNO3nYT6UhzeHiYxdrb21HTya3U1FRWLiMjA/Xu7i6L7e/vo6bdUDrKBgCorKxEnZ+fz2I0JZ2cnKCm3UcA/jevr69bxrTlC6LmC6LmC+L69EJBQQHq0dFRFqOzlTSXNzc3s3I9PT2oab423ycBAX9eYea7h/6e3UIIrcOchU1OTkZN31FhYWGsHH2/mDOe9O/Uli+Imi+I62mH/ht3dnayWEtLC2o6YpydnWXlioqKUJujXyvsZiu/Cu1q0uc1R/U0xZnrwKy+bz+R8mXUfEFcTzuUlJQUdr2wsICaTnbR7RsAAFVVVahHRkZQmwsmdtA05EQKcuJe2vIFUfMFUfMF8el2wYuLC3ZN98jQnG+OGLu7u1HT0ePq6iorR0eddtsF7RbancDbd4q2fEHUfEF82tWko10AgNLSUtQ0tSQmJrJydDKqv78fdUdHByt3dnZmeW+6Hkufg663Avy9fdBNtOULouYLouYL4tOcb3b/6Fbq9PR01H19faxcZmYm6uPjY9RNTU2s3NTUFGr6njDvTXO+WU5z/i9BzRfEp2nHDpoWYmNjWWxwcBB1Tk4O6qWlJVautrYWtbl2SkedvpzhtENbviBqviCupx267vnVngTt7UxPT6OOiIhg5ehXIK2trSxmt5YqhbZ8QdR8QdR8QRzJ+bTrFhkZaRkzt1J7282jdQwMDKCuqKhg5ejCSGNjI4vR3zNHtVJoyxdEzRfEkbQTEhKC2vyag+5EnpycZDEzDXkD/RplY2ODxejHbeaZB2VlZahpd1VHuL8UNV8QR7aO0NHj1dUVi9GP1HJzc1lsZmYGtbdbOA4PD1HTCTcAgOrqatQ0FQIA1NXVoaZnJZjnK/gSbfmCqPmCqPmCOJLzab7e3NzkNyDrpVlZWSxGt4zTMwq8HYF2dXWxa9rNjY6OZrHFxcVPn9dtzL1K+kHcD0HNF8TxXcrmogU9o8Ac/dLuH00La2trrNz5+Tlqut3ETGM0dR0cHLAYHV27vT2Ena9gc3yZtnxB1HxB1HxBHM/5dh8fp6WlsVhxcTHq+vp6yzrpFADtqpkL6PTeOzs7LEa7fL7ct6MfQf9Q1HxBXE879MuP7e1tFisvL0dNF13MU/2sjgozf05HruZJhvRkwK2tLdTmrKZdGvL2yDJv69OWL4iaL4hPj3wxt5WUlJSgbmhoQG2e+EdHifTUQHNNeHl5GfX8/DyL0V3L9/f3qM1JPKvdzAB/H+1iVYe3aMsXRM0XRM0X5Md8mWKHE9vMfyLa8gVR8wX5J9LO/xVt+YKo+YKo+YKo+YKo+YKo+YL8B/C03ZIqajn5AAAAAElFTkSuQmCC\" y=\"-125.379908\"/>\n   </g>\n   <g id=\"patch_18\">\n    <path d=\"M 124.191525 220.379908 \nL 124.191525 125.803636 \n\" style=\"fill:none;stroke:#000000;stroke-linecap:square;stroke-linejoin:miter;stroke-width:0.8;\"/>\n   </g>\n   <g id=\"patch_19\">\n    <path d=\"M 218.767797 220.379908 \nL 218.767797 125.803636 \n\" style=\"fill:none;stroke:#000000;stroke-linecap:square;stroke-linejoin:miter;stroke-width:0.8;\"/>\n   </g>\n   <g id=\"patch_20\">\n    <path d=\"M 124.191525 220.379908 \nL 218.767797 220.379908 \n\" style=\"fill:none;stroke:#000000;stroke-linecap:square;stroke-linejoin:miter;stroke-width:0.8;\"/>\n   </g>\n   <g id=\"patch_21\">\n    <path d=\"M 124.191525 125.803636 \nL 218.767797 125.803636 \n\" style=\"fill:none;stroke:#000000;stroke-linecap:square;stroke-linejoin:miter;stroke-width:0.8;\"/>\n   </g>\n  </g>\n  <g id=\"axes_5\">\n   <g id=\"patch_22\">\n    <path d=\"M 237.683051 101.776271 \nL 332.259322 101.776271 \nL 332.259322 7.2 \nL 237.683051 7.2 \nz\n\" style=\"fill:#ffffff;\"/>\n   </g>\n   <g clip-path=\"url(#pd9beabfcd4)\">\n    <image height=\"95\" id=\"image362d9f6669\" transform=\"scale(1 -1)translate(0 -95)\" width=\"95\" x=\"237.683051\" xlink:href=\"data:image/png;base64,\niVBORw0KGgoAAAANSUhEUgAAAF8AAABfCAYAAACOTBv1AAACuElEQVR4nO3cvYoiQRQF4BpdIwMxEATNxTcQNBFjEVEQfAHBRDDwFQTxSUwM/ElFNBRUTAw1ExMjxUR2o71T1TjD7Ox2ny73fNFtq4PL4VKU7c+bUuqnIogAuoH/GcMHYvhADB+I4QMxfCCGD8TwgRg+EMMHYvhADB+I4QP9QDfwWygUkno+nxtr5/NZ6nq9LvXtdnO/MRdx8oEYPpAvt51oNGqsZTIZqVutltTdbtf9xlzEyQdi+EC+2Xb0k8t0OjXWUqmU1NVqVeper2fc93g8XOrOHZx8IIYPxPCB3pQPv7eTy+WM69lsJnUwGJS6UCh8eJ8NOPlADB/IN0dN3XK5NK5Pp5PUiUTC63Zcw8kHYvhADB/Il3u+03g8lrrRaEhdLBaN+3jUpC9j+EBWbDvH4/Hp684PXWzDyQdi+EC+fLDmFI/Hpd5sNlJfLhfjvnQ67VVL/wQnH4jhAzF8ICuOmvpTzcViIXWlUjHuK5fLUg+HQ/cb+0ucfCCGD2TFtqPbbrdS69/hcV5z26FPMXwghg9kxeMFnf518clkYqwdDgeps9mssXa/313t6zs4+UAMH8i6bUfX7/eN63a7LXWpVDLWRqORJz39CU4+EMMHsu4drm6323241ul0jGtuO2Rg+EAMH8jqPd/5Hw26WCzmYSffw8kHYvhAVm87+oM0pZRarVZSO7edcDgs9fV6dbWvr+LkAzF8IKsfrDnpn+EOBgNjLZ/PS/3ZKclLnHwghg/E8IGsPmo67fd7qZ3HyVqtJjX3fGL4SC911NQ5/3mw2WxKHYlEvG7nKU4+EMMHYvhAL3XU1Om/WlTKfKrpl1+wcPKBGD7Qy2476/XauA4E3ucsmUx63c5TnHwghg/0su9wbcDJB2L4QAwfiOEDMXwghg/E8IEYPhDDB2L4QAwfiOEDMXygX7JvhHNyYVMPAAAAAElFTkSuQmCC\" y=\"-6.776271\"/>\n   </g>\n   <g id=\"patch_23\">\n    <path d=\"M 237.683051 101.776271 \nL 237.683051 7.2 \n\" style=\"fill:none;stroke:#000000;stroke-linecap:square;stroke-linejoin:miter;stroke-width:0.8;\"/>\n   </g>\n   <g id=\"patch_24\">\n    <path d=\"M 332.259322 101.776271 \nL 332.259322 7.2 \n\" style=\"fill:none;stroke:#000000;stroke-linecap:square;stroke-linejoin:miter;stroke-width:0.8;\"/>\n   </g>\n   <g id=\"patch_25\">\n    <path d=\"M 237.683051 101.776271 \nL 332.259322 101.776271 \n\" style=\"fill:none;stroke:#000000;stroke-linecap:square;stroke-linejoin:miter;stroke-width:0.8;\"/>\n   </g>\n   <g id=\"patch_26\">\n    <path d=\"M 237.683051 7.2 \nL 332.259322 7.2 \n\" style=\"fill:none;stroke:#000000;stroke-linecap:square;stroke-linejoin:miter;stroke-width:0.8;\"/>\n   </g>\n  </g>\n  <g id=\"axes_6\">\n   <g id=\"patch_27\">\n    <path d=\"M 237.683051 220.379908 \nL 332.259322 220.379908 \nL 332.259322 125.803636 \nL 237.683051 125.803636 \nz\n\" style=\"fill:#ffffff;\"/>\n   </g>\n   <g clip-path=\"url(#pb27fec90eb)\">\n    <image height=\"95\" id=\"imagee5972a8d0d\" transform=\"scale(1 -1)translate(0 -95)\" width=\"95\" x=\"237.683051\" xlink:href=\"data:image/png;base64,\niVBORw0KGgoAAAANSUhEUgAAAF8AAABfCAYAAACOTBv1AAAEKElEQVR4nO2dzSutURTG9+EqJd8DDCQfE4rEQKYoAzMDQ8rM36RkwlAyMDNQlAkppTNhoBQJ+Uq+7+iu1trds3ud9ut5nfP8Rs9t787Znta7ztpf7805574cgVCBHkA5Q/OB0HwgNB8IzQdC84HQfCA0HwjNB/IHPYB/5HI50VVVVQX7vb29if76+t2Tc0Y+EJoPhOYDgeZ8nedbWlpEz87Omn5NTU2il5aWRJ+cnJh+Hx8fsYeYKox8IDQfSGZKzZqaGtFzc3Omrb29XXRra6vohYUF0+/5+Tml0aUDIx8IzQcCTTt6hnp1dSX68/PT9KutrRU9Pj4uuq6uzvQrJu1UVNj402NKewbNyAdC84HQfCCZKTWfnp5Er6+vm7a+vj7RDQ0NonXZ6Zxzl5eXib5Lz6wrKytNm87z/ow59m8AIx8IzQeSmbSjy8vl5WXTNj8/L7qxsVF0b2+v6Xd0dPTfz/PRaSdUavqfwbRTQtB8IDQfSJScr3OoT9I8qftdXFyYtu3tbdFTU1Oix8bGTL+1tTXRr6+vib43lNe5vFDC0HwgmUk7mvf3d/NvnXYmJiZEDw8Pm3719fWi9SppaEyhWSzTTglD84GkPsPVKSn0GOt+fgWyv78v+uHhQbSe7TrnXFdXl+jr62vTpj8zNI6fPILIyAdC84HQfCBRcn6MPBlaTTw7OxOdz+dFDw4Omn4DAwOiDw4OTFuhVU5/7El/o2LAyAdC84FETzuh2W5S/BRxf38venNzU3R/f7/pNzIyInp1ddW06RstSfH/Fm6mlBA0HwjNBxJ9eSF22emc3RjZ3d0VfXd3Z/rp0rOtrc20nZ6eig5trmu+s7leDIx8IDQfSGbO7YTQj/v5+bnom5sb00+f45mcnDRti4uLopPu7/qlZqEyutgUxMgHQvOB/GjaCT3GSfdO9WlmvcjmnHNDQ0Oi/bSzsrIiOpR2QuPQ1U+MmTwjHwjNB0LzgWTm3QuhDXSde19eXkT7N1imp6dFd3d3m7bm5mbRemZc7Ga6zv/FHiVn5AOh+UAycwk6KfoRPzw8NG3Hx8ei/YU1fXlOL7Il/S6fUNnJtPMLoPlAMrOwVswlCn9hbWNjQ/TMzIxp6+zsFL23tyf6O2+nKnTksNg9DEY+EJoPhOYDyWSpmTSH+mdxdnZ2RI+Ojpq2np4e0dXV1aL1Kul3iLFXzcgHQvOB/GjaSftEsL6N4h8r0W8o1GWnvyHjX8ZLE0Y+EJoPhOYDyWSpmRR/NVGXnre3t6ZNr3LqjRZ9Dsg5+1sR40hgCEY+EJoPJDOrmjF4fHwUvbW1Zdo6OjpE67cQ+quaMc7jJIWRD4TmA8m5MvnPiAu9UdCvuPjKlzKB5gOh+UDKJucXIu2LziEY+UBoPpCyTztIGPlAaD4Qmg+E5gOh+UBoPpC/0HSnUsgquyQAAAAASUVORK5CYII=\" y=\"-125.379908\"/>\n   </g>\n   <g id=\"patch_28\">\n    <path d=\"M 237.683051 220.379908 \nL 237.683051 125.803636 \n\" style=\"fill:none;stroke:#000000;stroke-linecap:square;stroke-linejoin:miter;stroke-width:0.8;\"/>\n   </g>\n   <g id=\"patch_29\">\n    <path d=\"M 332.259322 220.379908 \nL 332.259322 125.803636 \n\" style=\"fill:none;stroke:#000000;stroke-linecap:square;stroke-linejoin:miter;stroke-width:0.8;\"/>\n   </g>\n   <g id=\"patch_30\">\n    <path d=\"M 237.683051 220.379908 \nL 332.259322 220.379908 \n\" style=\"fill:none;stroke:#000000;stroke-linecap:square;stroke-linejoin:miter;stroke-width:0.8;\"/>\n   </g>\n   <g id=\"patch_31\">\n    <path d=\"M 237.683051 125.803636 \nL 332.259322 125.803636 \n\" style=\"fill:none;stroke:#000000;stroke-linecap:square;stroke-linejoin:miter;stroke-width:0.8;\"/>\n   </g>\n  </g>\n  <g id=\"axes_7\">\n   <g id=\"patch_32\">\n    <path d=\"M 351.174576 101.776271 \nL 445.750847 101.776271 \nL 445.750847 7.2 \nL 351.174576 7.2 \nz\n\" style=\"fill:#ffffff;\"/>\n   </g>\n   <g clip-path=\"url(#p5bb909e9f8)\">\n    <image height=\"95\" id=\"image05cf54d792\" transform=\"scale(1 -1)translate(0 -95)\" width=\"95\" x=\"351.174576\" xlink:href=\"data:image/png;base64,\niVBORw0KGgoAAAANSUhEUgAAAF8AAABfCAYAAACOTBv1AAAD6ElEQVR4nO2czSttURjG9+H6D5gYIJQy9ZGBjzJCSOrkTGTGQMhQSkwMZSKiDCVFQtKZKcUZGJj4mjGRMFAy8nFHXu9a3X06d5+9zrPv9fxGz+pdZ+3V09u719lrrx3zPO/TIxDy0BP4ydB8IDQfCM0HQvOB0HwgNB8IzQdC84HQfCA0HwjNB0LzgfxCT+CLtrY20YODg0asq6tL9M7Ojujl5WWjXywWE31+fm7Ebm9vQ5lnmDDzgdB8IDEvh5spzc3NRrunp0f02NiY6I+Pj0Dj5+V959Lo6KgRW1hYCDSmS5j5QGg+EOdlp7S0VPTx8bERKyoqEq1LRhhl5/7+3ohdXFyI1qupu7s7o9/r62ugaweBmQ+E5gOh+UCc/8Pt7e0VrWu8a+xr6fbl5aXopaUlo9/IyIjbiSmY+UBoPhDnS83r62vRFRUVvv06Ozt9Y/oBWnFxsW+/MJar+fn5gX4XBGY+EJoPhOYDcV7zr66uRJeXl/v2KygoyPpa+/v7oquqqoxYSUlJRmMcHByI1ps4LmDmA6H5QCKzhxsGHR0doufn543Y8PBwRmNUV1eLbmxsNGJHR0fBJ/cHmPlAaD6Q/2q1o7EfrOlysr6+LrqwsNDol25DpqGhQXQYr6Iw84HQfCA0H4jzpebu7q5o/W6Oax4eHoz24eGh6NnZWdFzc3O+Y9j3jbDvS8x8IDQfiPOlZmVlpWi97LTJ5SZGWVmZ6I2NDSNWV1cn2t6QWVtbE93f35/1PJj5QGg+EJoPJKdPNdNtaqdSKdHxeNyIhX2q5PPz+zZnz0m37dj09HSo82DmA6H5QCKzmVJbWyt6dXXViCUSCdGPj49ZX6u7u1t0TU1N1uMFhZkPhOYDcV523t7eRNslw97I+KKlpcVon5yciN7c3BQ9MzNj9Et3qkSfkJmYmPDtp8eYmpoyYmGvupj5QGg+EJoPJKeHoO1arpeU+kljpq9326dKksmk6OfnZyPW2toqenJy0ndMfXh6cXExo3kEhZkPhOYDyWnZsdFvFbe3t4sOeqrk6elJ9MvLixHTS8108GTKD4HmA4GWHc37+7voML69kG6Mm5sb0X19fUbs9PQ00LWDwMwHQvOB0HwgkdlMGR8fF60//+V5ntfU1PTX421tbRltfark7OxMdC5rvA0zHwjNBxKZpabGfjt4e3tbdH19ve/v+HVBkjE0HwjNBxKZpabGPlUyMDAgWn+i8V+HmQ+E5gOJZNmx0V99XVlZET00NGT00/9W9/b23E8sS5j5QGg+kEj+w/0pMPOB0HwgNB8IzQdC84HQfCA0HwjNB0LzgdB8IDQfCM0HQvOB/AZOXP56h+bY9AAAAABJRU5ErkJggg==\" y=\"-6.776271\"/>\n   </g>\n   <g id=\"patch_33\">\n    <path d=\"M 351.174576 101.776271 \nL 351.174576 7.2 \n\" style=\"fill:none;stroke:#000000;stroke-linecap:square;stroke-linejoin:miter;stroke-width:0.8;\"/>\n   </g>\n   <g id=\"patch_34\">\n    <path d=\"M 445.750847 101.776271 \nL 445.750847 7.2 \n\" style=\"fill:none;stroke:#000000;stroke-linecap:square;stroke-linejoin:miter;stroke-width:0.8;\"/>\n   </g>\n   <g id=\"patch_35\">\n    <path d=\"M 351.174576 101.776271 \nL 445.750847 101.776271 \n\" style=\"fill:none;stroke:#000000;stroke-linecap:square;stroke-linejoin:miter;stroke-width:0.8;\"/>\n   </g>\n   <g id=\"patch_36\">\n    <path d=\"M 351.174576 7.2 \nL 445.750847 7.2 \n\" style=\"fill:none;stroke:#000000;stroke-linecap:square;stroke-linejoin:miter;stroke-width:0.8;\"/>\n   </g>\n  </g>\n  <g id=\"axes_8\">\n   <g id=\"patch_37\">\n    <path d=\"M 351.174576 220.379908 \nL 445.750847 220.379908 \nL 445.750847 125.803636 \nL 351.174576 125.803636 \nz\n\" style=\"fill:#ffffff;\"/>\n   </g>\n   <g clip-path=\"url(#pc60c41eba0)\">\n    <image height=\"95\" id=\"image5d5dad35f7\" transform=\"scale(1 -1)translate(0 -95)\" width=\"95\" x=\"351.174576\" xlink:href=\"data:image/png;base64,\niVBORw0KGgoAAAANSUhEUgAAAF8AAABfCAYAAACOTBv1AAAFaElEQVR4nO2cSSi2bRTHj9mLsDC85gyJhYiNLBBJhg0ZlhZKdnZsrayUQoqIhSh7UqaFFIVIhoUplJAMmcdvd5xz5Xm+J+/9vIfvO7/V/+5cnuf2d93HuabbBQDeQRHBVfoG/s+o+YKo+YKo+YKo+YKo+YKo+YKo+YKo+YKo+YKo+YKo+YKo+YK4S365h4cH6vj4eNS5ubmsXWhoKOrd3V3UGxsbrN3W1hbqu7s7Fnt//36Tt9rzBVHzBXF62nF1/fj7Zmdns1hvby/q2NjYT3/GHm9vb+z68vISdXNzM4v19/ejvrm5cejznY32fEHUfEFcwMlruAkJCahnZmZYLDw8HLWjqcZRnp6e2PXKygrqyspK1EdHR6ydmcqcifZ8QdR8QdR8QSwvNemoFQCgrq4OdWBgoM2fe319RW2ORm2NTt3c3Ng1/b/h6enJYhkZGainp6dRV1RUsHarq6v/+r1WoT1fEDVfEMtLzd+/f7PrsbEx1ElJSSxGH+vl5WXU7e3trN3FxQXqtLQ01DSVAAAUFhaiDggIYDGakmg5eXp6ytoVFBSgXl9ft3m/VqA9XxA1XxA1XxDLcz7NyQAAIyMjqCMjI1ns6uoKdX19Perx8XHWjpah7u4f1bG/vz9rl5KSgrqzs5PFEhMTUdP8b+bxw8ND1Pn5+Sy2vb0NVqI9XxA1XxBLRrguLi6ovby8WIymFrMMfXh4QE0faZpmAHhpSGPX19es3dzcHOrq6moWGx0dRR0REfHpvZuxxsZGFmtoaEB9f38Pf4r2fEHUfEEsSTu0Ytjf32cxmlrMhQqaon79+vXp55nXNO28vLzYvCe6jQQAoKWlBXVraytqHx8f1o5WQpmZmSwWHR2N2l6adBTt+YKo+YKo+YJYvphilmB0L425+OHr64s6KCgItb2c7+jM4vPzM7seHh5GTcvQrKws1o7m/ODgYBaLi4tDTbctas7/gaj5gliedsxyku4WNtMOvc7JyUE9OTlp9zMdwUxPdDQ8MDCAOj09nbWja79mKUvLUiv292jPF0TNF0TNF8TppebS0hLq0tJSFqP5taqqCjXdOg4AsLOz88f3RUtIb29v1OaeTrrvyPxdjo+PUVuxmK49XxA1XxCnl5rz8/Oob29vWYw+/nTGsKenh7UrLy9HTUtG89GnCyPmdsGwsDDUdLbSvF96bd7vycmJze/+CtrzBVHzBbE87ZiPIz0RsrCwwGJFRUUfN0K2hNDRLgDA0NAQarqOen5+ztr5+fmhjoqKYrGSkhLUqampn34vAMDj4yPqg4MDFqPbFjXt/HDUfEHUfEGcfhqRln/JycksRk8nhoSE2PwMulixtraGmm5FBODvaKB5HYCXsnR2ki7oAADs7e2hNg9S070/5sj4K2jPF0TNF8TpaYdiLqbU1tai7ujoQG2OTin2RqA0Zh7Mo+mPlpPmyZSuri7Ug4ODLEZLTV1M+eGo+YL81bRjQlMDHcXSiTQA2+9lMEeZNBWYaYFuW6RbCZuamli7xcVF1Obbqr66RcQW2vMFUfMFUfMFEc35lJiYGNSzs7MsRk+L2HsvD83JZhk6MTGBmh6+M2dG/+ZbCLXnC6LmC/Jt0g4d/ZaVlbFYW1sbanqozhwx07SzubnJYsXFxajNV3tJoT1fEDVfEDVfENEXWVPodAAtCwEAuru7UdfU1KCmiycAfDpgamqKxc7Oziy5TyvRni+Imi/It0k7dGRpjk7pSRKaPvLy8lg7egC7r6+PxewdmJZCe74gar4g32aE6yh0LdZ8XctXzutKoj1fEDVfEDVfkB+X8/9LaM8XRM0XRM0XRM0XRM0XRM0XRM0XRM0XRM0X5B8CWOClQapl4AAAAABJRU5ErkJggg==\" y=\"-125.379908\"/>\n   </g>\n   <g id=\"patch_38\">\n    <path d=\"M 351.174576 220.379908 \nL 351.174576 125.803636 \n\" style=\"fill:none;stroke:#000000;stroke-linecap:square;stroke-linejoin:miter;stroke-width:0.8;\"/>\n   </g>\n   <g id=\"patch_39\">\n    <path d=\"M 445.750847 220.379908 \nL 445.750847 125.803636 \n\" style=\"fill:none;stroke:#000000;stroke-linecap:square;stroke-linejoin:miter;stroke-width:0.8;\"/>\n   </g>\n   <g id=\"patch_40\">\n    <path d=\"M 351.174576 220.379908 \nL 445.750847 220.379908 \n\" style=\"fill:none;stroke:#000000;stroke-linecap:square;stroke-linejoin:miter;stroke-width:0.8;\"/>\n   </g>\n   <g id=\"patch_41\">\n    <path d=\"M 351.174576 125.803636 \nL 445.750847 125.803636 \n\" style=\"fill:none;stroke:#000000;stroke-linecap:square;stroke-linejoin:miter;stroke-width:0.8;\"/>\n   </g>\n  </g>\n  <g id=\"axes_9\">\n   <g id=\"patch_42\">\n    <path d=\"M 464.666102 101.776271 \nL 559.242373 101.776271 \nL 559.242373 7.2 \nL 464.666102 7.2 \nz\n\" style=\"fill:#ffffff;\"/>\n   </g>\n   <g clip-path=\"url(#pa67e4c8584)\">\n    <image height=\"95\" id=\"image106afb0f66\" transform=\"scale(1 -1)translate(0 -95)\" width=\"95\" x=\"464.666102\" xlink:href=\"data:image/png;base64,\niVBORw0KGgoAAAANSUhEUgAAAF8AAABfCAYAAACOTBv1AAADkElEQVR4nO2dPUgrURCFNxKQFGkkiHYSLSwUAqkErQ1YWMTGQrCziohgY6mFlYKF2NmqxEYCESstBS39qSxSiOJPKiWGiLF68+5cEklk7x7fvvNVZ5x9u8NhnHdzN7tGPM+rewRCB7qA/xmaD4TmA6H5QGg+EJoPhOYDoflAaD6QKLoAVxQKBRVvbGyIPjk5CbqchrDzgdB8IDQfSMQL6a7mw8ODiqPRv/+9ra6uit7c3AysJht2PhCaDyS0Y2dtbU3FS0tLoiuViuh4PB5YTTbsfCA0H0hoP+G+v783zcVisQAraQ47HwjNB0LzgYR25kcikW/j3wA7HwjNBxLasVOv17+N/zA0NKTiy8tLZzXZsPOB0HwgNB8IdOanUinRAwMDbf/7g4ODprlkMtnSOYKc8TbsfCA0H4jzsTM4OCh6ZWVF5SYmJkR3dna2fe7n52cVm8vJRCLR0jnsHU7zRotr2PlAaD4Q5/dw9/f3RWezWZU7Pz8XbX6dr1XsT6fmCqevr0/lRkZGGp4jl8upeHt7u+06fgo7HwjNB0Lzgfi+1LSXbv39/aKvrq5Uzlxqlsvltq+Vz+eb5rq7u1V8f3/f8LiODlz/sfOB0Hwgvo8d++t35ubZ7u6uyv1k1LTK4+Ojis1NOHPJOzo6qo7b2tpyVpMNOx8IzQdC84H4PvOr1aqK7+7uRE9PT6vczMyM35dvyu3tbcOf21sUQcLOB0LzgUB3Nc0dRde7ieYu59nZmeiuri513Pj4uGjXD0uz84HQfCDOx87U1JTonZ0dlSuVSqKHh4ddlqFYX18XvbCwoHKnp6eiM5mMytVqNV/rYOcDoflAaD6QQB+C3tvbU/Hk5KTosbEx0RcXF07rMJeXLy8vKvf5+Sm6p6dH5Z6ennytg50PhOYDCXTs2JtY5rLO/PVPp9PquNfXV2c1mTV4nr650tvbq3IcOyGC5gMJ9OEI+0EEc3//6OhI9PLysjrOjv3k8PBQxfY9XZew84HQfCA0Hwj0NV/mG//MGxf2w3H2ks9PZmdnVby4uCja/lr529ubr9dm5wOh+UCgz+F+fHyILhaLoufn5wOrwf40fX19LdrvMWPDzgdC84HQfCC/5n07x8fHoufm5gK7rv1HDm5ubgK7NjsfCM0HEtoXWf8LsPOB0HwgNB8IzQdC84HQfCA0HwjNB0LzgdB8IDQfCM0HQvOB0HwgNB8IzQfyBYxMzGenufu/AAAAAElFTkSuQmCC\" y=\"-6.776271\"/>\n   </g>\n   <g id=\"patch_43\">\n    <path d=\"M 464.666102 101.776271 \nL 464.666102 7.2 \n\" style=\"fill:none;stroke:#000000;stroke-linecap:square;stroke-linejoin:miter;stroke-width:0.8;\"/>\n   </g>\n   <g id=\"patch_44\">\n    <path d=\"M 559.242373 101.776271 \nL 559.242373 7.2 \n\" style=\"fill:none;stroke:#000000;stroke-linecap:square;stroke-linejoin:miter;stroke-width:0.8;\"/>\n   </g>\n   <g id=\"patch_45\">\n    <path d=\"M 464.666102 101.776271 \nL 559.242373 101.776271 \n\" style=\"fill:none;stroke:#000000;stroke-linecap:square;stroke-linejoin:miter;stroke-width:0.8;\"/>\n   </g>\n   <g id=\"patch_46\">\n    <path d=\"M 464.666102 7.2 \nL 559.242373 7.2 \n\" style=\"fill:none;stroke:#000000;stroke-linecap:square;stroke-linejoin:miter;stroke-width:0.8;\"/>\n   </g>\n  </g>\n  <g id=\"axes_10\">\n   <g id=\"patch_47\">\n    <path d=\"M 464.666102 220.379908 \nL 559.242373 220.379908 \nL 559.242373 125.803636 \nL 464.666102 125.803636 \nz\n\" style=\"fill:#ffffff;\"/>\n   </g>\n   <g clip-path=\"url(#p1ab6b10ddd)\">\n    <image height=\"95\" id=\"image752a92f4d6\" transform=\"scale(1 -1)translate(0 -95)\" width=\"95\" x=\"464.666102\" xlink:href=\"data:image/png;base64,\niVBORw0KGgoAAAANSUhEUgAAAF8AAABfCAYAAACOTBv1AAAFLUlEQVR4nO2dyS5tWxSGh+qo66irCFGESIQoEyISDSRaul7AK3gMD6ArkaCjiWjQ0KAhESQIUUQRdV3d1h3+Me9Zso+71h0X42v9+4yRbZ0/c/97zrXmWjuMiN7IUCFc+wB+Mma+Ima+Ima+Ima+Ima+IpHaBxAUERER4nVYWBjrt7f32fXr66vow1rQ2MhXxMxX5EvHDkYJEdGvX79YZ2Zmilp6ejrr6+tr1hcXF6Lv6uqK9cPDg6j5HUk28hUx8xUx8xX5VpmflJTEur29XdTq6+tZb29vs56enhZ9d3d3rB8fH0XNMv8bYeYr8qVjx12dYgx1dnaKWkdHB+u1tTXWy8vLom9jY4N10KtdG/mKmPmKfOnYcbm8vGQdFxcnatnZ2b+tVVRUiL6FhQXWFjvfGDNfETNfEdXMd1eoXv/uTim9eHp6Yn1zcyNqUVFRrJOTk1njdwER0cvLS0h/yw9s5Cti5isSeOxghLhxgq8jI98PJTo6WvRhnNzf37N2p4Lh4e9jKSYmxrOG+vT0VPRZ7PwQzHxFzHxFfM98zFMieVE7MTFR1LKyslgXFBSwLiwsFH14IXt2dpb18fGx6MMpZFFRkecxYq5vbW159gWNjXxFzHxFfIkdjJqEhARRKy0tZd3c3CxqLS0trHNzc1mnpqaKPryu2tXVxXp+fl70YZzk5eV5Hi+umN2V8H+JjXxFzHxFfIkd3BHsnqjq6+tjXVtbK2p4smt1dZX13t6e6Ds5OWGNkYSrXSKijIwM1s/Pz57HizGZlpbm2Rc0NvIVMfMVMfMV8T3zi4uLRa26upq1e1FkcnKS9fj4OOuzszPRh1NIPBOKq2ciuV0Qp7hE/1w1/01ZWZl4jf+Xj743/MBGviJmviK+xA7GCZ7cIpLRcH5+LmozMzOsj46OWIe6X8aNBVwJDw0NiVpraytrjKCGhgbRh3t6cB9QENjIV8TMV8TMV8SXzMfsxbs+3Jp7McXvvZD4fvgdQkQ0MTHBenBwkHVNTY3oq6ysZL24uChqoe4fChUb+YqY+Yr4Ejv4cXdjB28qLi8vF7W2tjbWeC0V9+l8FjcixsbGWA8MDLB2L9z09PSwdu9acW+K/rfYyFfEzFfE99hxV7E4Y3BnFr29vazxflg3ujBCvHY2u8fhsrm5yXppaYl1U1OT6GtsbGQdHx8vahY73wgzXxEzXxHftwu608S5uTnW3d3dolZSUsK6v7+f9fDwsOjDs5WY6x9tOXfB9xgZGWGN2xTd93ef2YPfZ36sdm3kK2LmK+J77LjTPZw2rqysiFp+fj5rnPKNjo6Kvt3d3d++/0dTSzeCMA5x+ovXkYmIUlJSWOfk5Ijazs4Oa68o/BNs5Cti5isS+A1xt7e3rHHmQ0RUVVXFGrftubuZDw8PWeMq86OPu1vD13gTnPukKVzh4vZDInk9Ap9C9dktJjbyFTHzFTHzFQk883EluL6+Lmo45cP9M3V1daIPn4GD087P3rCMeX1wcCBq+P7uFnTc0o7aPY5Qp5428hUx8xUJPHbwI7i/vy9qU1NTrPHjHhsbK/pw1YlbQtxY+MzJLpwKE8nrtriKJZK7pzG6bIX7BTHzFTHzFQmjgH+eD88uur9jgtmOz9jBZ+8QyXzFHx5wl/WhnuXE43C/X7DPvWCOZ0b9eC6PjXxFzHxFAo+dUPno+qsXn53ihfq37Imy3xgzX5H/Tez8RGzkK2LmK2LmK2LmK2LmK2LmK2LmK2LmK2LmK2LmK2LmK2LmK2LmK/IXGn3VvoxvFiEAAAAASUVORK5CYII=\" y=\"-125.379908\"/>\n   </g>\n   <g id=\"patch_48\">\n    <path d=\"M 464.666102 220.379908 \nL 464.666102 125.803636 \n\" style=\"fill:none;stroke:#000000;stroke-linecap:square;stroke-linejoin:miter;stroke-width:0.8;\"/>\n   </g>\n   <g id=\"patch_49\">\n    <path d=\"M 559.242373 220.379908 \nL 559.242373 125.803636 \n\" style=\"fill:none;stroke:#000000;stroke-linecap:square;stroke-linejoin:miter;stroke-width:0.8;\"/>\n   </g>\n   <g id=\"patch_50\">\n    <path d=\"M 464.666102 220.379908 \nL 559.242373 220.379908 \n\" style=\"fill:none;stroke:#000000;stroke-linecap:square;stroke-linejoin:miter;stroke-width:0.8;\"/>\n   </g>\n   <g id=\"patch_51\">\n    <path d=\"M 464.666102 125.803636 \nL 559.242373 125.803636 \n\" style=\"fill:none;stroke:#000000;stroke-linecap:square;stroke-linejoin:miter;stroke-width:0.8;\"/>\n   </g>\n  </g>\n  <g id=\"axes_11\">\n   <g id=\"patch_52\">\n    <path d=\"M 578.157627 101.776271 \nL 672.733898 101.776271 \nL 672.733898 7.2 \nL 578.157627 7.2 \nz\n\" style=\"fill:#ffffff;\"/>\n   </g>\n   <g clip-path=\"url(#p09bd9eb27a)\">\n    <image height=\"95\" id=\"image2a4ad8ffcf\" transform=\"scale(1 -1)translate(0 -95)\" width=\"95\" x=\"578.157627\" xlink:href=\"data:image/png;base64,\niVBORw0KGgoAAAANSUhEUgAAAF8AAABfCAYAAACOTBv1AAADAklEQVR4nO2csWoqQRSGN8mNBpuIWgVJlVKrCIK9jRZirUU6UYQ8QLDTR/AJUqQRizRiK1ipkMLWQrBUtBOMaKp77sySvYjX9d/J/b/qH2YSDh+Hw84ac2FZ1t4iEC7RBfzPUD4QygdC+UAoHwjlA6F8IJQPhPKB/EIX8B13d3faul6vSx6NRpKbzebZanIDdj4QygdC+UA8M/Ovrq4kNxoNbe/p6enbc5z55GgoH4hnxs7l5Z8+SCQSjuceHh7OUc5ZYOcDoXwgnhk7n5+fkieTibYXi8Uk39zcSL6+vnb8HSbAzgdC+UAoH4hnZr5Kt9vV1rlcTvL9/b3k29tb7dx8Pne3sBPDzgdC+UA8OXYWi4XjXiQSkfz8/Kzt1Wo112pyA3Y+EMoHQvlALiwP/ol4NBrV1tPpVLL69nM8Hmvn4vG4u4WdGHY+EMoH4smxY+f19VVysViUvFqttHPpdFrycDh0va5/hZ0PhPKBePKGa6fVaklWx04wGNTOlUolyRw75K9QPhDKB2LEzFffcu52O8nqbdey9EdNE2DnA6F8IEbccFWcbruWpd947S/ZZrOZq3UdAzsfCOUDoXwgRjxqqqivDewzX33dUC6Xtb2XlxdX6zoGdj4Qygdi3KNmKpWS3O/3Hc8tl0ttHQqFXKvpWNj5QCgfiHFjR8U+dtSRtNlstL1kMin54+PD1boOhZ0PhPKBUD4Q4264Kr1eT1urM9/n82l76v9zyGaz7hZ2IOx8IJQPxOhHTfv/aBgMBo5nt9utZPuXp1Gw84FQPhCjx47f79fW6o338fHR8ecymYzkTqdz+sIOhJ0PhPKBUD4Qo2e+nXw+L7ndbjuee3t7k1woFLS9/f58Otj5QCgfyI8aO+FwWLL9AxP7d3t/EwgEtPV6vT55XU6w84FQPhDKB2L0hyl21G+wVCoVbe/9/V1ytVqVbP+g/Zyw84FQPpAf9ahpGux8IJQPhPKBUD4QygdC+UAoHwjlA6F8IJQPhPKBUD4QygdC+UAoHwjlA/kCXBiSKdrbqi8AAAAASUVORK5CYII=\" y=\"-6.776271\"/>\n   </g>\n   <g id=\"patch_53\">\n    <path d=\"M 578.157627 101.776271 \nL 578.157627 7.2 \n\" style=\"fill:none;stroke:#000000;stroke-linecap:square;stroke-linejoin:miter;stroke-width:0.8;\"/>\n   </g>\n   <g id=\"patch_54\">\n    <path d=\"M 672.733898 101.776271 \nL 672.733898 7.2 \n\" style=\"fill:none;stroke:#000000;stroke-linecap:square;stroke-linejoin:miter;stroke-width:0.8;\"/>\n   </g>\n   <g id=\"patch_55\">\n    <path d=\"M 578.157627 101.776271 \nL 672.733898 101.776271 \n\" style=\"fill:none;stroke:#000000;stroke-linecap:square;stroke-linejoin:miter;stroke-width:0.8;\"/>\n   </g>\n   <g id=\"patch_56\">\n    <path d=\"M 578.157627 7.2 \nL 672.733898 7.2 \n\" style=\"fill:none;stroke:#000000;stroke-linecap:square;stroke-linejoin:miter;stroke-width:0.8;\"/>\n   </g>\n  </g>\n  <g id=\"axes_12\">\n   <g id=\"patch_57\">\n    <path d=\"M 578.157627 220.379908 \nL 672.733898 220.379908 \nL 672.733898 125.803636 \nL 578.157627 125.803636 \nz\n\" style=\"fill:#ffffff;\"/>\n   </g>\n   <g clip-path=\"url(#p92937b1ba0)\">\n    <image height=\"95\" id=\"image9aaad19c2e\" transform=\"scale(1 -1)translate(0 -95)\" width=\"95\" x=\"578.157627\" xlink:href=\"data:image/png;base64,\niVBORw0KGgoAAAANSUhEUgAAAF8AAABfCAYAAACOTBv1AAAEWUlEQVR4nO2czSt8YRTH73gr73nbsCAbiSKKIgtbUrKXhX/BXsrWytrChrKQLLFASinZsCClyLuSSPL6253OeZp7f3fmd2e+M37fz+o7c565z+3bmTPnee69E/M878cjEHLQJ/A/Q/OB0HwgNB8IzQdC84HkoU8gHjk5Nid+fn7i6myHmQ+E5gPJmLJTXFwsuqury8QqKytFHxwciL64uDDjPj4+UnR2qYGZD4TmA6H5QKA1X7eU7e3tomdmZsy4mpoa0cvLy6InJyfNuKenJ9HZ0JIy84HQfCDQsvP9/S369vZWdEVFhRlXVVUluqOjw/d42VBqNMx8IDQfSMascG9ubkS/vLyYWF1dnej6+nrRBQUF/zxvLBbzjaW6jDHzgdB8IDQfSMbU/Le3N9GHh4cm1tzcLFq3oQ0NDWbc3d1dqLl0nUdeuGHmA6H5QDKm7OjV7srKiomNjIyILiwsjPu+53ne/v6+6K+vr1DzJlJ2oi5DzHwgNB8IzQcS8yK4RTyKJbo+RktLi4nt7OyILisrE312dmbG6R1PfWElaK7c3Fzfce7vBmv+L4LmA4mk1dTtmluCPj8/Ez6eu1I9Pz8X3draKrq2ttaM09eBt7e3TcyvhQxqSbnC/cXQfCApX+HqMhT2a+x2KouLi6KnpqZE5+XZ0x8bGxO9u7trYu/v76HmTud1YGY+EJoPhOYDiWSF6+4MapK5OOGuOtva2kSvr6+LLi8vN+NOT09F9/X1mdj9/X2oudMJMx8IzQcSSaupL4QEbbIlczzPsyvco6Mj0T09PWacXvE2NTWZ2MPDg+hkNvsS+VxYmPlAaD4Qmg8k8u2FKOqie4zn52fRm5uboru7u804fXF9dHTUxPb29kSH3Wpw0S11FPf3MPOB0HwgkaxwU43evezt7RW9urpqxpWWloq+vLw0MV2irq6uQs3rtpp+bbTbGoeFmQ+E5gNJ6+2CQV/joI5Bf62Pj49F66dZPM/eVlJdXW1i/f39ohcWFkLNm2qY+UBoPhCaDyStraZb8/1WjEGtW35+vujp6WkTm5iY8J1rbW1N9NDQkOhE/qPH74kW93zD/o4w84HQfCBpLTvutV6/VjOo7OjPdHZ2mtjW1pbooqIiE9P3AukH7K6vr/922nHxK5nxXvseI6mZSSTQfCBpvV0wiuu7+it9cnJiYnrF29jYaGJ6021wcFD03Nyc7/GDSHYzTcPMB0LzgdB8IBnzEHQyvL6+mtcbGxuix8fHTUy3hgMDA6Ln5+fNuHT+Ky0zHwjNB5LyshO0ck3mqRWNe7ylpSXRw8PDJlZSUhL3GO77j4+PCZ9HsjDzgdB8IDQfSFpbzaj/v8b9vP6/ndnZWRPTD0jr3wb3Ie1//R1KBGY+EJoPJCtuFwyLXsXqO5bd13plrP/V0POi2a0MCzMfCM0H8qvKTrbBzAdC84HQfCA0HwjNB0LzgdB8IDQfCM0HQvOB0HwgNB8IzQfyByBSaejayP4PAAAAAElFTkSuQmCC\" y=\"-125.379908\"/>\n   </g>\n   <g id=\"patch_58\">\n    <path d=\"M 578.157627 220.379908 \nL 578.157627 125.803636 \n\" style=\"fill:none;stroke:#000000;stroke-linecap:square;stroke-linejoin:miter;stroke-width:0.8;\"/>\n   </g>\n   <g id=\"patch_59\">\n    <path d=\"M 672.733898 220.379908 \nL 672.733898 125.803636 \n\" style=\"fill:none;stroke:#000000;stroke-linecap:square;stroke-linejoin:miter;stroke-width:0.8;\"/>\n   </g>\n   <g id=\"patch_60\">\n    <path d=\"M 578.157627 220.379908 \nL 672.733898 220.379908 \n\" style=\"fill:none;stroke:#000000;stroke-linecap:square;stroke-linejoin:miter;stroke-width:0.8;\"/>\n   </g>\n   <g id=\"patch_61\">\n    <path d=\"M 578.157627 125.803636 \nL 672.733898 125.803636 \n\" style=\"fill:none;stroke:#000000;stroke-linecap:square;stroke-linejoin:miter;stroke-width:0.8;\"/>\n   </g>\n  </g>\n  <g id=\"axes_13\">\n   <g id=\"patch_62\">\n    <path d=\"M 691.649153 101.776271 \nL 786.225424 101.776271 \nL 786.225424 7.2 \nL 691.649153 7.2 \nz\n\" style=\"fill:#ffffff;\"/>\n   </g>\n   <g clip-path=\"url(#p273f157f51)\">\n    <image height=\"95\" id=\"image14c30dec64\" transform=\"scale(1 -1)translate(0 -95)\" width=\"95\" x=\"691.649153\" xlink:href=\"data:image/png;base64,\niVBORw0KGgoAAAANSUhEUgAAAF8AAABfCAYAAACOTBv1AAAD8UlEQVR4nO2dTyhtURTG9+WllJJQMpKplDIxkD8TlCEykEiKlAEyUSaYmTNB/iZ/ipSUgcKYyEyIJGGAFMXAG7319jq9e7v3OOd87/D9Rt9uXfcsn9Vyjr32FTHGfBoCIQmdwE+G5gOh+UBoPhCaD4TmA6H5QGg+EJoP5Bc6gUQpLS0VPTQ0pGJ7e3uix8fHVezx8VH0+/u7T9klBisfCM0HQvOBREzI/qp5dHQkurCwUMUikYjoz0/9bU1OTooeHh4WfX197XGG8cPKB0LzgYTuVjMWExMTond3d1Wsp6dH9MjIiOiWlhb/E4sCKx8IzQfyrdpOcnKy6IWFBRXb2NgQnZGREVhOsWDlA6H5QGg+kNA94XZ2dooeGxtTsfv7e9E5OTmB5eQWVj4Qmg8kdG3H5vb2Vq3T0tJEl5eXq9jh4WEgOSUCKx8IzQdC84GEuudPTU2pdWtrq+jFxUUVa2pqCiKlhGDlA6H5QELddhoaGtR6aWlJ9MvLi4pVVlaK/l9uO1n5QGg+kFBvpqysrKh1bW2t6ObmZhXLzMwMJKdEYOUDoflAaD6QUN9qOsnPzxd9dnamYvaYYXV1teiHhwff84oGKx8IzQfie9uxZ2SKiopUrKamRnR/f79oey/WGGNmZmbiutbc3Jzo4+PjqK+bn58XzXHBHwrNB0LzgXje84uLi9V6fX1ddG5ubvREYpwqiZd43+Pi4kK0/XvHGGPOz89dXdsNrHwgNB+I521ndnZWrWPtndqHlp+enkQ7DzDHiz2rU1FRoWIlJSX//JrV1VW1bmxsdHVtN7DygdB8IIFupmxubqp1XV2d6I+Pjy+///b2tujU1FQVGxgYEN3V1SW6vr7+y9d1CysfCM0HQvOBeN7z7adMY4xJSvr783U+4aakpIj2oufbvL29qfXg4KDom5sb0c7TLfYIYltbm6c5OWHlA6H5QDxvO319fWr9+voqur29XcXscb/p6WmvU4nK/v6+6Lu7OxWzJ513dnZUzN6E8QJWPhCaD8T3PdyqqirRW1tbUV9nn5sNcpyjoKBArU9OTkSvra2pmN2SnFPQbmDlA6H5QGg+EN97flZWlmj75IgxesPDftLs7u72M6WYjI6Oiu7t7VWxjo4O0fZHirmFlQ+E5gMJdErZ+fFap6enotPT00U7b/GC3Fe18zg4OFCx7Oxs0faIjHMiOl5Y+UBoPhCaDyTQDXT7HwgYox/tl5eXRTtH9vLy8kRfXl76ktsfnp+fRTtHH8vKykRfXV19+VqsfCA0H8i3OhAXNlj5QGg+EJoPhOYDoflAaD4Qmg+E5gOh+UBoPhCaD4TmA6H5QGg+EJoPhOYD+Q20FO6WgiwtSgAAAABJRU5ErkJggg==\" y=\"-6.776271\"/>\n   </g>\n   <g id=\"patch_63\">\n    <path d=\"M 691.649153 101.776271 \nL 691.649153 7.2 \n\" style=\"fill:none;stroke:#000000;stroke-linecap:square;stroke-linejoin:miter;stroke-width:0.8;\"/>\n   </g>\n   <g id=\"patch_64\">\n    <path d=\"M 786.225424 101.776271 \nL 786.225424 7.2 \n\" style=\"fill:none;stroke:#000000;stroke-linecap:square;stroke-linejoin:miter;stroke-width:0.8;\"/>\n   </g>\n   <g id=\"patch_65\">\n    <path d=\"M 691.649153 101.776271 \nL 786.225424 101.776271 \n\" style=\"fill:none;stroke:#000000;stroke-linecap:square;stroke-linejoin:miter;stroke-width:0.8;\"/>\n   </g>\n   <g id=\"patch_66\">\n    <path d=\"M 691.649153 7.2 \nL 786.225424 7.2 \n\" style=\"fill:none;stroke:#000000;stroke-linecap:square;stroke-linejoin:miter;stroke-width:0.8;\"/>\n   </g>\n  </g>\n  <g id=\"axes_14\">\n   <g id=\"patch_67\">\n    <path d=\"M 691.649153 220.379908 \nL 786.225424 220.379908 \nL 786.225424 125.803636 \nL 691.649153 125.803636 \nz\n\" style=\"fill:#ffffff;\"/>\n   </g>\n   <g clip-path=\"url(#pe05ee55245)\">\n    <image height=\"95\" id=\"image3e7438039b\" transform=\"scale(1 -1)translate(0 -95)\" width=\"95\" x=\"691.649153\" xlink:href=\"data:image/png;base64,\niVBORw0KGgoAAAANSUhEUgAAAF8AAABfCAYAAACOTBv1AAAFWklEQVR4nO2cuUslXRDFy31H3MdAxwVRxkBQ0WCECRzFRERMBjUQjI00NPMPMBFBZDAxMDByAR0mUxwxkEFFwcDIHQT3ffmy4tSF1zydfhbPr37Raapo2+L2eXfrG0FEL2SoEKn9AP9nrPiKRGs/wGuJiIhgHR0tH//h4eG9H+efsJaviBVfESu+ImHn+SkpKayrqqpE7OTkhPXGxoaIPT8/h/bB3oC1fEWs+IqEhe0kJiay7u/vZ93R0SHyjo6OWPf29orY4uIi66enJ9ZxcXEiLyoqivXV1ZWIvbz4OxlgLV8RK74iVnxFws7z6+rqWGdnZ4u89PR01i0tLSK2trbGGr3cnaLALilOZRCZ538orPiKhIXt3N/fs0abiIyUbQe7iWhVRNJOULszoV62g9d+WJC1fEWs+Iq8q+28tfdwc3PDemlpiXVFRYXIw5Hrnz9/ROzy8pL14+NjUH/Xy3a8LCjY/8taviJWfEWs+IqE3POx++d2DQN1/1zPRC+fn59n3d3dLfLw/vv7+yKGPh+sJ7t57m/Aa+/nYi1fESu+Ir7bjvtqohW4toPgq+vVddvZ2WF9e3sr8pKTk1kXFBQE98CvwCbWPhBWfEWs+IpEUIi3iAfqnrkE66e44I1TDUREX758YT09PS1i7e3trIOdXnCxWc0PhBVfkZDbTihpbGwU16Ojo6wPDw9FrLW1lfXBwQFrL/vwskyznTDHiq9IWKzhBsLt7UxNTbGuqakRsba2NtY/f/5kjQs1RN4jbb+xlq+IFV8RK74iIZ/VxMWUhIQEEUtNTWWNo87r62uRh7OXeL9Pnz6JPLxHfn6+iPX09LBeXV1lvbKyEvAe5vkfGCu+Ir6PcOPj48V1bW0t666uLhErKytjjZaEa7ZERMfHx6zxQ7eMjAyR9/XrV9aFhYUihnY4NzfHGifciIguLi7ovbCWr4gVXxErviK+e/7nz5/F9djYGGv3o2Xcq4NeGxMTI/Lu7u5Yn56esj4/Pxd5WVlZrIuLi0UM74n7Nr9//y7ysOtpXc0PjBVfEV9GuLgfJy8vT8TKy8tZu91Q7EKiPS0vL4u82NhY1jhydW0Bv2DBES2RXN/Fbm1fX5/I6+zsZI12Fwqs5StixVfEF9vBya7MzMyAee6WjYWFBdaDg4Os3V4MghaE2wOJ5MLI7OysiE1MTLCurq5m/e3bN5GH179//xYxv4+NsZaviBVfESu+Ir4vpqSlpYlr7P6559f8/fuXNY46vbwVF1a8PmB2F2Sam5tZj4yMsK6vrxd5eE7P5uamiO3t7bG2fTthjhVfEV9sBxcqXCtA23GP1MKTAr2+WgmEa09eVoATcjj6xT08RERFRUWsf/z4IWJDQ0Os3a9i3oK1fEWs+Ir4Yju45oo9AiJ54l9SUpKI4WRXTk4O693dXZHn97w6Hn6KPR8iooGBAdYNDQ0iNjMzw3p7e5v1W0e+1vIVseIrYsVXxBfPR8/DUSsR0a9fv1jjNm0iotzcXNZNTU2sJycnRd7Z2dmrn8nrdwKfd2trS8RwX5B7eiGe74NnO+Do3L2/F9byFbHiK+KL7eArjiNJIqLh4WHW7qiwpKSENW79Ky0tFXnr6+uscV31NV3QQLnY7SQiGh8fZ11ZWSliuFiDpxe6k3hmO2GAFV8RK74i73r2grvgjZ6PC+PuNm38aBkX192t5G+ZhnBnU3FPD345494ff9vc/T3m+WGAFV8R1bMX8FBq3Erovra4IINWE+pdxKHGWr4iVnxFwvrIl3DHWr4iVnxFrPiKWPEVseIrYsVXxIqviBVfESu+IlZ8Raz4iljxFbHiK/IfOQH+MRgtdWIAAAAASUVORK5CYII=\" y=\"-125.379908\"/>\n   </g>\n   <g id=\"patch_68\">\n    <path d=\"M 691.649153 220.379908 \nL 691.649153 125.803636 \n\" style=\"fill:none;stroke:#000000;stroke-linecap:square;stroke-linejoin:miter;stroke-width:0.8;\"/>\n   </g>\n   <g id=\"patch_69\">\n    <path d=\"M 786.225424 220.379908 \nL 786.225424 125.803636 \n\" style=\"fill:none;stroke:#000000;stroke-linecap:square;stroke-linejoin:miter;stroke-width:0.8;\"/>\n   </g>\n   <g id=\"patch_70\">\n    <path d=\"M 691.649153 220.379908 \nL 786.225424 220.379908 \n\" style=\"fill:none;stroke:#000000;stroke-linecap:square;stroke-linejoin:miter;stroke-width:0.8;\"/>\n   </g>\n   <g id=\"patch_71\">\n    <path d=\"M 691.649153 125.803636 \nL 786.225424 125.803636 \n\" style=\"fill:none;stroke:#000000;stroke-linecap:square;stroke-linejoin:miter;stroke-width:0.8;\"/>\n   </g>\n  </g>\n  <g id=\"axes_15\">\n   <g id=\"patch_72\">\n    <path d=\"M 805.140678 101.776271 \nL 899.716949 101.776271 \nL 899.716949 7.2 \nL 805.140678 7.2 \nz\n\" style=\"fill:#ffffff;\"/>\n   </g>\n   <g clip-path=\"url(#p40b4007989)\">\n    <image height=\"95\" id=\"image0469952a4a\" transform=\"scale(1 -1)translate(0 -95)\" width=\"95\" x=\"805.140678\" xlink:href=\"data:image/png;base64,\niVBORw0KGgoAAAANSUhEUgAAAF8AAABfCAYAAACOTBv1AAAD0UlEQVR4nO2cyyt1YRTG1+FLyCXXkcuEohAzf4AyI0pu5R9AMmFEUZIyMjUwklySlIFSRgaihJJcBgYKRZQBGfhmy7v2Z4vP3vs5dZ7f6Fmt97z77Wm1znv2fveJici7EAhJ6AUkMjQfCM0HQvOB0HwgNB/IH/QC4pmsrCwTHx4eqh4YGFC9vr7+X/Oz8oHQfCBsO1+wsrJi4vz8fNUXFxe/np+VD4TmA6H5QNjzPZSUlKhuaGgwuYWFBdUnJye/vhYrHwjNB5LwbaegoMDEW1tbvmOnpqYCvTYrHwjNB5Lwbaenp8fEZWVlqldXV03u/Pw80Guz8oHQfCA0H0hMEvDcTm1treqdnR2TS01NVV1ZWWlyZ2dnga6DlQ+E5gNJmK1mUtJHnQ0NDal224yIyNjYmOqg28w/awp1dvIlNB8IzQeSMFvNjo4O1fPz86qvr6/NOHcb+vDwEOqaWPlAaD6QuNlqus9Lu7q6TO7x8VH16Oio6ufnZ9/50tLSTNze3v7puO3tbROH3WpcWPlAaD4QaNtxW417NC87O9uMe3//2JAlJyerHh4eNuNeXl5Uj4yMmFxzc7Pqq6sr1ePj4z9ddmCw8oHQfCA0H0ikPT83N9fES0tLqjMzM1W7Pd4b9/X1qa6oqDDjent7Vbe2tvrOsbm5qfry8vJbaw8DVj4Qmg8k0rbjPfXrbimPj49VuzfBRESqq6tVt7S0qG5razPjdnd3Vefk5Jic+8t1ZmbmJ8sODVY+EJoPhOYDibTnd3Z2+ub29vZUn56empwbLy8vq/Z+h+Tl5fnOPzs7qzqIt0qCgJUPhOYDibTtuC+UiYg0NTWp3tjY+PF8+/v7Jm5sbPQdW19frzojI0P1Vw9kwoaVD4TmA4m07by+vpo4FoupHhwcVL22tmbGuUf63B1TeXm573yuFhFJT09XnZKS8oNVhwcrHwjNB0LzgUR6XLC0tNTER0dHqt3tn3uHU0Tk9vZWtfdXrR93d3cmrqurU31zc/OtOcKGlQ+E5gOJdKvpnpcREZmbm1Pd39+vuqamxozzPtP14+npSfX09LTJRXkM8Luw8oHQfCDQlyOKiopUHxwcqPbel/drO4uLiyZ2j5XEY5vxwsoHQvOB0HwgcfNCXHd3t+qJiQmTKy4u/vQzhYWFJr6/vw9+YSHCygdC84HETdtx8f5v/eTkpOqqqirV3ptsb29v4S4sYFj5QGg+EJoPJC57fqLAygdC84HQfCA0HwjNB0LzgdB8IDQfCM0HQvOB0HwgNB8IzQdC84HQfCA0HwjNB0LzgdB8IH8Bst7VZIGV6SoAAAAASUVORK5CYII=\" y=\"-6.776271\"/>\n   </g>\n   <g id=\"patch_73\">\n    <path d=\"M 805.140678 101.776271 \nL 805.140678 7.2 \n\" style=\"fill:none;stroke:#000000;stroke-linecap:square;stroke-linejoin:miter;stroke-width:0.8;\"/>\n   </g>\n   <g id=\"patch_74\">\n    <path d=\"M 899.716949 101.776271 \nL 899.716949 7.2 \n\" style=\"fill:none;stroke:#000000;stroke-linecap:square;stroke-linejoin:miter;stroke-width:0.8;\"/>\n   </g>\n   <g id=\"patch_75\">\n    <path d=\"M 805.140678 101.776271 \nL 899.716949 101.776271 \n\" style=\"fill:none;stroke:#000000;stroke-linecap:square;stroke-linejoin:miter;stroke-width:0.8;\"/>\n   </g>\n   <g id=\"patch_76\">\n    <path d=\"M 805.140678 7.2 \nL 899.716949 7.2 \n\" style=\"fill:none;stroke:#000000;stroke-linecap:square;stroke-linejoin:miter;stroke-width:0.8;\"/>\n   </g>\n  </g>\n  <g id=\"axes_16\">\n   <g id=\"patch_77\">\n    <path d=\"M 805.140678 220.379908 \nL 899.716949 220.379908 \nL 899.716949 125.803636 \nL 805.140678 125.803636 \nz\n\" style=\"fill:#ffffff;\"/>\n   </g>\n   <g clip-path=\"url(#p108f934302)\">\n    <image height=\"95\" id=\"image62bb913e22\" transform=\"scale(1 -1)translate(0 -95)\" width=\"95\" x=\"805.140678\" xlink:href=\"data:image/png;base64,\niVBORw0KGgoAAAANSUhEUgAAAF8AAABfCAYAAACOTBv1AAAFfklEQVR4nO2dyyt1bxTHn+N+v+cSpZCREhm6jBhLSQlTf4GBgYEMjGSkTJSiiDlDCQPFQCm5RBi4X3K/+83W+13Pz9lt+93nrNf7rs/oy1pnn2159trruexnB4wxn+YfJhAIsJ8/P8MXjoiwfZPyPzT4gkRJfjle8uG83J2+F20xMTHM9vHxQfr19fW3z0NbviAafEE0+IKENefbZV1ycjJpzL13d3fMz4/7gf3dbkhKSmI/x8bGkr66uiL9+Pjo6Zy05QuiwRfEl7SDl3R0dHRQP9sWEfHrf//8/Pzl8YzxvwyNivr1ZycmJjJbcXEx6fj4eGa7ubkhjWUnnrttc0JbviAafEE0+IJ4zvmRkZGkU1NTSaelpTG/h4cH0vf398z28vJCGvO/3a1HP7f51AaPn5KSQrqsrIz5VVVVffkZY4w5OjoivbKyQvry8jLo+TqekysvJSRo8AXxnHawbAzW8zOG9/7syxFLSCwvsRQ0hqc4/IzXEhRLyOzsbGbDlId/lzG81Ly4uCDtdYRTW74gGnxBPKcdvNTOz89Jv7+/Mz+31QmmEPsyxhSHKejt7c3dyVrHx/Rn92LRb39/n9l2d3dJ397efvmZ76AtXxANviAafEE853zM5aj9GIG0j4H3ESxJvY5+YinrNIF+fHzMbFhefud+Ewxt+YJo8AXxnHbCuc4mWLn6nXPAEhUH//D3xvDBs62tLWbDtGOX1F7Qli+IBl8QDb4gYV23Y09OxMXFkcYRRHsdDE5QO+V5p4l8nDRpbW0lbY/CLi4ukj47O2M2HPbw456nLV8QDb4gIU872JvMy8tjtr6+PtINDQ2k7d5je3s76YWFBdL2pY/fVVNTw2xDQ0OkMzIySC8tLTG/8fFx0vacs9/ltbZ8QTT4gvieduzBLqw6qqurma2+vp50Tk5O0GPMzMyQ7u7uJj06Osr8EhISSHd0dDBbYWEhaezVZmVlMT+sfvzoxTqhLV8QDb4gGnxBQl5qYq/W7uFubm6Sxjyfnp7O/LCE7O3tJd3S0sL8dnZ2SFdWVjIblq9YQk5PTzM/u7wMJdryBdHgCxIwPu+9YJeJuC6mtraW2TIzM0mvr6+TxgE3Y4zp7Owk3dTURNp+YA1Ty+npKbMdHh6SnpycJG2Xq7geJ9RoyxdEgy+IBl8Q30tNe+QPJ7/tEhIfgj44OCCNS7GNMWZtbY003lPsIQRc3o1PyxhjzNTUFGkcubQfuA4n2vIF0eALEvIeLo4MFhQUMFtbWxtpnMMdHh5mfriku6enh3RjYyPzw/U49tJvTFdPT0+kw7n+yEZbviAafEFCnnaw12k/r1pUVES6v7+fdG5uLvNDGz7Xu7y8zPxwcsbuaZeUlHxp090F/1E0+IJo8AUJec7HHDo3NxfUhqVhV1cX8ysvLyc9MDBAent7m/nV1dWRtidu7F7zn4C2fEE0+IKEdZUyTmgYY8zs7Czp5uZm0vbTIriUEHvJe3t7zA8nUOw0g8sF3a56tlOXH/s+sOP/9hEUz2jwBfF9Dvc7YE92fn6eNPZGjeG9UFzasbq6yvxwxfHExASzbWxskHa7DNDeegbPA3vuuvfCD0SDL4gGXxDRnI8lZUVFBenBwUHmV1paSvr6+pr0yMgI8xsbGyN9cnLCbG73/XF6eQGCOd/rUnJt+YJo8AURTTsIlnX2xqj5+fmk8RK3e8y41M+PzU+dtgBz2mhVN7L+AWjwBdHgC/LH5Hwngr3vJBTvUsHy0n6xAYIT+fbLC9yel7Z8QTT4goi+ns8tfq+lwVRjT5gg9sbb2Kv1Y/sXbfmCaPAF+RHVzt+KtnxBNPiCaPAF0eALosEXRIMviAZfEA2+IBp8QTT4gmjwBdHgC6LBF+Q/xfv7Fj2SEEwAAAAASUVORK5CYII=\" y=\"-125.379908\"/>\n   </g>\n   <g id=\"patch_78\">\n    <path d=\"M 805.140678 220.379908 \nL 805.140678 125.803636 \n\" style=\"fill:none;stroke:#000000;stroke-linecap:square;stroke-linejoin:miter;stroke-width:0.8;\"/>\n   </g>\n   <g id=\"patch_79\">\n    <path d=\"M 899.716949 220.379908 \nL 899.716949 125.803636 \n\" style=\"fill:none;stroke:#000000;stroke-linecap:square;stroke-linejoin:miter;stroke-width:0.8;\"/>\n   </g>\n   <g id=\"patch_80\">\n    <path d=\"M 805.140678 220.379908 \nL 899.716949 220.379908 \n\" style=\"fill:none;stroke:#000000;stroke-linecap:square;stroke-linejoin:miter;stroke-width:0.8;\"/>\n   </g>\n   <g id=\"patch_81\">\n    <path d=\"M 805.140678 125.803636 \nL 899.716949 125.803636 \n\" style=\"fill:none;stroke:#000000;stroke-linecap:square;stroke-linejoin:miter;stroke-width:0.8;\"/>\n   </g>\n  </g>\n  <g id=\"axes_17\">\n   <g id=\"patch_82\">\n    <path d=\"M 918.632203 101.776271 \nL 1013.208475 101.776271 \nL 1013.208475 7.2 \nL 918.632203 7.2 \nz\n\" style=\"fill:#ffffff;\"/>\n   </g>\n   <g clip-path=\"url(#p02ec7647e6)\">\n    <image height=\"95\" id=\"image17a4ff8c36\" transform=\"scale(1 -1)translate(0 -95)\" width=\"95\" x=\"918.632203\" xlink:href=\"data:image/png;base64,\niVBORw0KGgoAAAANSUhEUgAAAF8AAABfCAYAAACOTBv1AAAD40lEQVR4nO2cTSg9URjG53KR2EixuT6KbCxEFnaUsiFhIYmlLCQfK3ZsSPZSxELZWFEsLFDKRxKKkiwoK2wsEPn4L/71Ou9kbuPeufeZy/NbPad35pzT09vbzJw5J2BZ1qdFICShJ/CXoflAaD4Qmg+E5gOh+UBoPhCaD4TmA6H5QGg+EJoPhOYDCaInEA2dnZ2qXVVVJXp0dFTFbm9v4zKnn8DMB0LzgQSsBFhMyc3NFT07Oyu6srJSXZeTkyP66upKxRYWFkSPjIx4O8EIYeYDoflAfFl20tPTVXtubk50a2trRH2+v7+LXl1dFd3R0aGue3x8jKj/SGDmA6H5QGg+EF/W/IqKCtU+ODhwdd/m5qbompoaFQsEAt/eMzU1pdq9vb2uxvICZj4Qmg/Elx/W6urqHGNvb2+i5+fnVWxmZkZ0f3+/irW3t3/bXygUimCG3sDMB0LzgdB8INCaX1tbKzolJUV0U1OT4z3B4NeUu7q6VMze9jvMfCA0H4gnZSc5OVl0eXm5ii0uLn4NFtTD5eXliU5Kil8efH5+vdQfHh7GbVw7zHwgNB+IJx/WJicnRQ8ODkbbXUy4u7sTvbW1JbqtrQ0wm/8w84HQfCA0H4gnNd98dPv4+HB9n3nt9PS06L29PXVdfn6+6MvLS9FnZ2eOfZeWlqr27u6u6JubG9dzjCXMfCA0H4gnZcf8Azg7O1vFXl5eRE9MTKjY8vKy6OPj42inkXAw84HQfCA0H4gnNd/896W7u1vFzLre0tIS7VC/CmY+EJoPxJPFlJ2dHdH2smMurtj/kfHLmyYKZj4Qmg/Ek6edzMxM0cPDwyo2NDQk+v7+XsVKSkpEPzw8RDuNhIOZD4TmA6H5QDzfmZKamqraS0tLohsaGlRsbGxM9Pj4uOinpycvp+RbmPlAaD6QmG+Iy8jIEL29va1iZWVlopubm0WvrKw49ldYWCjafr6CudZrf3v+ydpyvGDmA6H5QGK+OcI8y8C+0a2vr0/06+urYx/mCVJra2vf9m1ZusStr6+r2Onpqej9/X3RR0dH6rrn52fH/r2GmQ+E5gOh+UB8efaCnerqatEbGxsxHev8/Fx0uN8Rw+H2TCBmPhCaDyQhyk5RUZHonp4e0fZ9t+bxYE5HvMQDc4NgOJj5QGg+EJoPJCFqvlvq6+tFNzY2qph57FdxcbGr/i4uLlS7oKBAdFpamuN9rPkJAM0H8qvKTjiysrJEm4su4bi+vlbtgYEB0eZXUnt5Ojk5cdU/Mx8IzQfyZ8qOH2HmA6H5QGg+EJoPhOYDoflAaD4Qmg+E5gOh+UBoPhCaD4TmA/kH0v3hZC0NOusAAAAASUVORK5CYII=\" y=\"-6.776271\"/>\n   </g>\n   <g id=\"patch_83\">\n    <path d=\"M 918.632203 101.776271 \nL 918.632203 7.2 \n\" style=\"fill:none;stroke:#000000;stroke-linecap:square;stroke-linejoin:miter;stroke-width:0.8;\"/>\n   </g>\n   <g id=\"patch_84\">\n    <path d=\"M 1013.208475 101.776271 \nL 1013.208475 7.2 \n\" style=\"fill:none;stroke:#000000;stroke-linecap:square;stroke-linejoin:miter;stroke-width:0.8;\"/>\n   </g>\n   <g id=\"patch_85\">\n    <path d=\"M 918.632203 101.776271 \nL 1013.208475 101.776271 \n\" style=\"fill:none;stroke:#000000;stroke-linecap:square;stroke-linejoin:miter;stroke-width:0.8;\"/>\n   </g>\n   <g id=\"patch_86\">\n    <path d=\"M 918.632203 7.2 \nL 1013.208475 7.2 \n\" style=\"fill:none;stroke:#000000;stroke-linecap:square;stroke-linejoin:miter;stroke-width:0.8;\"/>\n   </g>\n  </g>\n  <g id=\"axes_18\">\n   <g id=\"patch_87\">\n    <path d=\"M 918.632203 220.379908 \nL 1013.208475 220.379908 \nL 1013.208475 125.803636 \nL 918.632203 125.803636 \nz\n\" style=\"fill:#ffffff;\"/>\n   </g>\n   <g clip-path=\"url(#pac639c0f61)\">\n    <image height=\"95\" id=\"image38a66cfd70\" transform=\"scale(1 -1)translate(0 -95)\" width=\"95\" x=\"918.632203\" xlink:href=\"data:image/png;base64,\niVBORw0KGgoAAAANSUhEUgAAAF8AAABfCAYAAACOTBv1AAAE8UlEQVR4nO2czSttYRTG3+P7Wz6KKBLJwEAhRZE5GTHwJ5CBf0FJ+chUiZIyNDCUlJFMZEJRRIgSEsm3O7rrPmvdu3fbuXtb53bXb/Ts3vfss3taZ531fu2Yc+7TGSokaT/A/4yZr4iZr4iZr4iZr4iZr4iZr4iZr4iZr4iZr4iZr4iZr4iZr0iK9gP8iVgsxq7T0tJI5+XlkS4vL2f9Hh8fSV9fX7O2h4cH0q+vr6Q/P/mkrryOEot8Rcx8RRIy7SQnJ7PrkpIS0j09PaS7urpYv6KiItKnp6esbXNzk/Ty8jLp8/Nz1u/p6Yl01CnIIl8RM1+RmEvANVxMM845Nzg4SLqzs5N0ZWUl61dcXEw6KYnHFVY4mIIGBgZYv6OjI9IfHx+Bnld+F+J3D4t8Rcx8Rcx8RRKm1MRRbVVVFWvr6+sjjeVkeno664cjYVmuYt+Ojg7SLS0trN/h4eFXHts593tJmpqaSvrl5cXzcxb5ipj5ioSedmTZhdd+ZVdKyq9Hqa6uZm1YemZnZ5OWP3c5IecFpoX29nbWtrS0FOgeiHwOv1SDWOQrYuYrYuYrEkrOxxKvoqKCtWFpeHV1xdow99bV1ZEeGhpi/XJzc0ljCRnGQkhpaSm7xv+o9/f3L9/vK1jkK2LmKxJ32sGfZ21tLenx8XHWr6CggDSuozrnXGFhIemysjLSmKrkdyGytHx7eyP9/PzM2rxGnTs7O773jBKLfEXMfEXiTjtY4XR3d5NubW1l/XBEKqsHry0cMmUgOBKW3N3dkV5ZWWFtmE5w3XZ+fp71i7rCQSzyFTHzFTHzFYk752NubGhoII053jn/EenZ2RnphYUF0rL8w8/hXh05mp6amvK8B5armP/v7+89vytqLPIVMfMVCSXtHB8fk/YbIcoRbm9vL+m9vT3Sfosuq6urpOU6LaYMv3vgMwbdmxMFFvmKmPmKmPmKhLJXs6mpifTGxgZrw/0y29vbrK2trY00TjXEi9//TaLkecQiXxEzX5FQ1nB3d3dJy5Eljn7lVry//fl/58JHFFjkK2LmKxJK2sFDZGNjY6xtcnKStJzEwnXVoIsYfospeA/N87VBschXxMxXxMxXJJScj/l0bW2Ntc3MzJDGRXfn+DZAXDSX+RkXQrKysjz7yVnTRMciXxEzX5HID0Hj1r/GxkbWdnBwQPry8pK0LDvz8/NJ9/f3k87MzGT9FhcXSV9cXLC2MEpNrxF1vPe2yFfEzFck8rSDlQpWN7INJ9lycnJYv+bmZtK4PUQebMCtKKOjo6xta2uLtN9uZqymZFrDvjc3N6Rvb29Zv6BrExb5ipj5ipj5ikT+7gXM5XJWE0s3zP/yJArOmmK+liPmmpoa0rOzs57PgaWh30FqWfJinj85OSE9PT3N+uE6Nn5GYpGviJmvyLe+5ivomqtMOxkZGaTxFMzExATrh6Wn3EoY9Lv9UhIepMPTLevr66zfyMgIaSx/JRb5ipj5ipj5iiRkzvf7HC6g19fXs37Dw8Ok5Xt0cGoD/1NwEd85ntfxdKNzzu3v75Oem5sjja+DdI5vd8eXa0ss8hUx8xVJyDfKBkWmMa9Db3+6/olMO/Ia8TqcLbc92mu+/gHMfEX+6bTz3WDqCuOwhUW+Ima+Ima+IpbzFbHIV8TMV8TMV8TMV8TMV8TMV8TMV8TMV8TMV+QHN56aWGM+pVYAAAAASUVORK5CYII=\" y=\"-125.379908\"/>\n   </g>\n   <g id=\"patch_88\">\n    <path d=\"M 918.632203 220.379908 \nL 918.632203 125.803636 \n\" style=\"fill:none;stroke:#000000;stroke-linecap:square;stroke-linejoin:miter;stroke-width:0.8;\"/>\n   </g>\n   <g id=\"patch_89\">\n    <path d=\"M 1013.208475 220.379908 \nL 1013.208475 125.803636 \n\" style=\"fill:none;stroke:#000000;stroke-linecap:square;stroke-linejoin:miter;stroke-width:0.8;\"/>\n   </g>\n   <g id=\"patch_90\">\n    <path d=\"M 918.632203 220.379908 \nL 1013.208475 220.379908 \n\" style=\"fill:none;stroke:#000000;stroke-linecap:square;stroke-linejoin:miter;stroke-width:0.8;\"/>\n   </g>\n   <g id=\"patch_91\">\n    <path d=\"M 918.632203 125.803636 \nL 1013.208475 125.803636 \n\" style=\"fill:none;stroke:#000000;stroke-linecap:square;stroke-linejoin:miter;stroke-width:0.8;\"/>\n   </g>\n  </g>\n  <g id=\"axes_19\">\n   <g id=\"patch_92\">\n    <path d=\"M 1032.123729 101.776271 \nL 1126.7 101.776271 \nL 1126.7 7.2 \nL 1032.123729 7.2 \nz\n\" style=\"fill:#ffffff;\"/>\n   </g>\n   <g clip-path=\"url(#p18b5011f65)\">\n    <image height=\"95\" id=\"image1389eef9c8\" transform=\"scale(1 -1)translate(0 -95)\" width=\"95\" x=\"1032.123729\" xlink:href=\"data:image/png;base64,\niVBORw0KGgoAAAANSUhEUgAAAF8AAABfCAYAAACOTBv1AAAEbUlEQVR4nO2cSyitXxjGt1suIYoMXEYSJSmSUlJMJIqUxIyBcjdACKEMlAlFTKQwlJkyoDAwMCGJlJDkmkLu/Efn/a+12lv77PPZz3bO8xs9b2v51tvT29vyrfVtL5vN9mkjELzRCfzL0HwgvsjFm5ubRQ8PD4uur6/X5o2OjrotJ3fCygdC84HQfCBeNuBW8+TkRHRMTIzoi4sLbV5qaqros7Ozb8/LXbDygdB8INCt5s3Njejo6GjRkZGR2rympibRbW1t356Xu2DlA6H5QGg+EOhWs6ioSPTCwoLoz0/HKeXm5opeXl7+nsTcBCsfCM0HAm07wcHBond3d0Wr206Tra0t0ZmZmdrY09OThdl9P6x8IDQfCLTtqISEhIi+urrSxvz8/Oz+zcTEhBbX1NRYn9g3wsoHQvOB0HwgHtPzVfr7+7W4s7PT7ryHhwctLiwsFL2ysmJ5XlbDygdC84F4ZNvJyMjQ4qWlJdHqltTk/v5edH5+vja2vr5uUXbWwcoHQvOB0HwgHtnzTaqrq0WrdzrVt6ImOzs7Wpyeni76+fnZwuxch5UPhOYD+RFtR6W1tVX0wMCANubr6/gaUkVFhei5uTnrE3MBVj4Qmg/kx7UdlenpaS2urKx0OPfu7k50S0uL6KmpKW3e+/u7Nck5ASsfCM0HQvOBuPWKeFhYmBa3t7eLzsrKEn19fa3NOz4+Fu3v7y86ISHB6bXVt6GTk5Oi09LStHkdHR2ib29vnX6+K7DygdB8IJZvNQMDA7V4dnZWdF5enjYWFBQk2tv7/zr46payuhX08fFxOc9ffHx8aPH8/LzohoYGbczqj/FY+UBoPhCaD8Tynl9QUKDFMzMzokNDQ7Wxo6Mj0eohSWxsrDYvMTHR7lqPj49anJSUZFfbbPr9z6ioKLvPMzE/xs7Ozha9v7/v1DO+gpUPhOYDsfw/XPOt4FfbQfXwY2NjQ/TIyIhLa6trma2rtLRUtPp7PuHh4do89VzYbE9dXV2iq6qqRL++vrqULysfCM0HYvluJyAgQIvVM9eenh59cS8v0ZeXl6LHxsa0eUNDQ6LNm8nOon5IV15eLtr8+G5xcdGp56ktSc39d2DlA6H5QGg+EMu3muaHyH19faLN/lpcXCxa/Y2d7u5ubZ560LK9vS1aPfiwt7aKekCjbod7e3sdPuP8/Fwbi4uLc/h8V2DlA6H5QKD3dlJSUkTX1taKLisr0+aZL+R+cXp6qsWrq6uiDw8PtTF1y7u5uSna/ApGPTB5e3vTxgYHB0WPj4/bzel3YOUDoflAPPK6YHJyshbX1dWJLikpER0REfHHa5mtZW9vT/Ta2po21tjYKPrl5eWP12blA6H5QGg+EI/s+V8RHx8v2uz56n/MOTk52ph6P0fdJpofRx8cHFiRplOw8oHQfCA/ru38TbDygdB8IDQfCM0HQvOB0HwgNB8IzQdC84HQfCA0HwjNB0LzgdB8IDQfCM0HQvOB0HwgNB8IzQdC84HQfCA0H8h/QIsV5Jtj8zgAAAAASUVORK5CYII=\" y=\"-6.776271\"/>\n   </g>\n   <g id=\"patch_93\">\n    <path d=\"M 1032.123729 101.776271 \nL 1032.123729 7.2 \n\" style=\"fill:none;stroke:#000000;stroke-linecap:square;stroke-linejoin:miter;stroke-width:0.8;\"/>\n   </g>\n   <g id=\"patch_94\">\n    <path d=\"M 1126.7 101.776271 \nL 1126.7 7.2 \n\" style=\"fill:none;stroke:#000000;stroke-linecap:square;stroke-linejoin:miter;stroke-width:0.8;\"/>\n   </g>\n   <g id=\"patch_95\">\n    <path d=\"M 1032.123729 101.776271 \nL 1126.7 101.776271 \n\" style=\"fill:none;stroke:#000000;stroke-linecap:square;stroke-linejoin:miter;stroke-width:0.8;\"/>\n   </g>\n   <g id=\"patch_96\">\n    <path d=\"M 1032.123729 7.2 \nL 1126.7 7.2 \n\" style=\"fill:none;stroke:#000000;stroke-linecap:square;stroke-linejoin:miter;stroke-width:0.8;\"/>\n   </g>\n  </g>\n  <g id=\"axes_20\">\n   <g id=\"patch_97\">\n    <path d=\"M 1032.123729 220.379908 \nL 1126.7 220.379908 \nL 1126.7 125.803636 \nL 1032.123729 125.803636 \nz\n\" style=\"fill:#ffffff;\"/>\n   </g>\n   <g clip-path=\"url(#p5083102c34)\">\n    <image height=\"95\" id=\"image1be2e595e0\" transform=\"scale(1 -1)translate(0 -95)\" width=\"95\" x=\"1032.123729\" xlink:href=\"data:image/png;base64,\niVBORw0KGgoAAAANSUhEUgAAAF8AAABfCAYAAACOTBv1AAAFNklEQVR4nO2cSSjufRTHf655KnNEbEwRKRthYUqSQlJYWthQthTZUZayYiFshBJFklIWypCF7i0LFsZrYSrzeN/deb/nF3K9f89x73s+q++/c3r8+3ae4zc+bsaYX0YR4Zv0C/yfUfMF8XDlH4uOjmbPo6OjpNPT00lPT0+zvNraWtK/fv09XVIrXxA1XxA1X5BP7/menp6ki4uLWSw1NZW0r68v6dLSUpaXkpJC+sePH06/ohha+YKo+YJ8ett5fn4mvbKywmLb29ukk5OTST88PLC8vLw80pubm6Sfnp6cek0RtPIFUfMFUfMFcTMuXNX08fFhz01NTaQ7OjpIe3t7s7y9vT3SmZmZpM/Pzx1+Q9eilS+Imi+IS9uOTWBgIOmlpSXSOKO1WV9fJ52dnc1i9hD1q6OVL4iaL4ho20GKiopIz8zMsBguzuFmyvz8PMsrKysjfX9/7/QrOo5WviBqviBqviBfpud7eXmRXl1dZbG0tDTSbm5upO2hZU9PD+nW1lYW+8gwFP+WMc5v3mvlC6LmC/Jl2g5+xe0Z7tTUFOnY2FjSdhvY398nXVdXx2LYyt67CWO3HcSJFqSVL4iaL4iaL8iX6fnIt2+8JrDP4xCyqqrq1c8YHh5mz21tbaSvrq7+6ys6gla+IGq+IF+y7dhDPA+Pf48XJSQkkB4cHGR5ePbn7u6OxZqbm0mPjIyQljz7o5UviJoviOPHBe2Wgc/2KAbbyVufgXu9BQUFpP39/Vmen5/fq7G+vj7S19fXpHH2bIxr25BWviBqviBqviCODDWxl9u9Njc3l3RlZSWLxcXFkT48PHzx84zhM9z4+HjSERERLA83ZN7i8vKSdENDA4uNj4+TfmsDBv8vfXSFUytfEDVfEEeGmtgmsM0YY0xnZyfppKSkVz8DTxzf3NywGF6Ww6Hg4+Mjy8Ohq926EGyNvb29LIbD2rGxMRbDBTm8cWO/x3vRyhdEzRdEzRfEkZ6PQ63b21sWCwsLI23fOMG+iWcrZ2dnWR7eYnzrDGZiYiJp+yJ1RkYGaTz7GRQUxPLwf1RkZCSLDQwMkD45OSFtL0m8d+iplS+Imi+I421na2uLxXA2iW3GGD4cxJa0uLjI8ubm5l78PPvrjc9dXV0sVl1dTbq/v5+0fUkvJCSEdGNjI4vt7u6SnpiYII2rpL+DVr4gar4gjm+mHB8fs+ehoSHSLS0tLIYz14CAANIlJSUsb3l5mTR+xe2ZJbYde1EMF8zwyEl5eTnLw1aILcgY3rrs2zMfQStfEDVfEDVfEEd6Pg4h7RkuDuvCw8NZrKamhjSuJubn57M8d3d30gsLC6SPjo5Y3s+fP0nv7OywGM5CJycnSdszYdyQsTfyQ0NDSeMs+aNHybXyBVHzBXF8qGl/zU5PT0l3d3ezGP5kV319Peng4GCWl5WVRbqwsJA0ntMxhm+m2D8Hs7a2RhqHuPbsFFuIvYi3sbFB2m6viC6s/QGo+YK49JSyva+KI4aYmBjSFRUVLA/v4eLPvERFRbE8XCSzRyA4G8a92IuLC5aHbQh//dAYY9rb20l///79xc/+HbTyBVHzBVHzBRG9mYJ9GTXOaI3h/xtwTzgnJ4fl4dE/vKVigxei7SPiGDs4OGCxs7Mz0k4cJdfKF0TNF+RLXoj7KNi67FsvGMOFQHtf2X7+TLTyBVHzBVHzBfmrev6fhla+IGq+IGq+IGq+IGq+IGq+IGq+IGq+IGq+IGq+IGq+IGq+IGq+IGq+IGq+IGq+IGq+IGq+IGq+IP8A/mGQIPYSOMsAAAAASUVORK5CYII=\" y=\"-125.379908\"/>\n   </g>\n   <g id=\"patch_98\">\n    <path d=\"M 1032.123729 220.379908 \nL 1032.123729 125.803636 \n\" style=\"fill:none;stroke:#000000;stroke-linecap:square;stroke-linejoin:miter;stroke-width:0.8;\"/>\n   </g>\n   <g id=\"patch_99\">\n    <path d=\"M 1126.7 220.379908 \nL 1126.7 125.803636 \n\" style=\"fill:none;stroke:#000000;stroke-linecap:square;stroke-linejoin:miter;stroke-width:0.8;\"/>\n   </g>\n   <g id=\"patch_100\">\n    <path d=\"M 1032.123729 220.379908 \nL 1126.7 220.379908 \n\" style=\"fill:none;stroke:#000000;stroke-linecap:square;stroke-linejoin:miter;stroke-width:0.8;\"/>\n   </g>\n   <g id=\"patch_101\">\n    <path d=\"M 1032.123729 125.803636 \nL 1126.7 125.803636 \n\" style=\"fill:none;stroke:#000000;stroke-linecap:square;stroke-linejoin:miter;stroke-width:0.8;\"/>\n   </g>\n  </g>\n </g>\n <defs>\n  <clipPath id=\"pd50324f80c\">\n   <rect height=\"94.576271\" width=\"94.576271\" x=\"10.7\" y=\"7.2\"/>\n  </clipPath>\n  <clipPath id=\"pe5f2f9502d\">\n   <rect height=\"94.576271\" width=\"94.576271\" x=\"10.7\" y=\"125.803636\"/>\n  </clipPath>\n  <clipPath id=\"p808db35d72\">\n   <rect height=\"94.576271\" width=\"94.576271\" x=\"124.191525\" y=\"7.2\"/>\n  </clipPath>\n  <clipPath id=\"pfce25d420b\">\n   <rect height=\"94.576271\" width=\"94.576271\" x=\"124.191525\" y=\"125.803636\"/>\n  </clipPath>\n  <clipPath id=\"pd9beabfcd4\">\n   <rect height=\"94.576271\" width=\"94.576271\" x=\"237.683051\" y=\"7.2\"/>\n  </clipPath>\n  <clipPath id=\"pb27fec90eb\">\n   <rect height=\"94.576271\" width=\"94.576271\" x=\"237.683051\" y=\"125.803636\"/>\n  </clipPath>\n  <clipPath id=\"p5bb909e9f8\">\n   <rect height=\"94.576271\" width=\"94.576271\" x=\"351.174576\" y=\"7.2\"/>\n  </clipPath>\n  <clipPath id=\"pc60c41eba0\">\n   <rect height=\"94.576271\" width=\"94.576271\" x=\"351.174576\" y=\"125.803636\"/>\n  </clipPath>\n  <clipPath id=\"pa67e4c8584\">\n   <rect height=\"94.576271\" width=\"94.576271\" x=\"464.666102\" y=\"7.2\"/>\n  </clipPath>\n  <clipPath id=\"p1ab6b10ddd\">\n   <rect height=\"94.576271\" width=\"94.576271\" x=\"464.666102\" y=\"125.803636\"/>\n  </clipPath>\n  <clipPath id=\"p09bd9eb27a\">\n   <rect height=\"94.576271\" width=\"94.576271\" x=\"578.157627\" y=\"7.2\"/>\n  </clipPath>\n  <clipPath id=\"p92937b1ba0\">\n   <rect height=\"94.576271\" width=\"94.576271\" x=\"578.157627\" y=\"125.803636\"/>\n  </clipPath>\n  <clipPath id=\"p273f157f51\">\n   <rect height=\"94.576271\" width=\"94.576271\" x=\"691.649153\" y=\"7.2\"/>\n  </clipPath>\n  <clipPath id=\"pe05ee55245\">\n   <rect height=\"94.576271\" width=\"94.576271\" x=\"691.649153\" y=\"125.803636\"/>\n  </clipPath>\n  <clipPath id=\"p40b4007989\">\n   <rect height=\"94.576271\" width=\"94.576271\" x=\"805.140678\" y=\"7.2\"/>\n  </clipPath>\n  <clipPath id=\"p108f934302\">\n   <rect height=\"94.576271\" width=\"94.576271\" x=\"805.140678\" y=\"125.803636\"/>\n  </clipPath>\n  <clipPath id=\"p02ec7647e6\">\n   <rect height=\"94.576271\" width=\"94.576271\" x=\"918.632203\" y=\"7.2\"/>\n  </clipPath>\n  <clipPath id=\"pac639c0f61\">\n   <rect height=\"94.576271\" width=\"94.576271\" x=\"918.632203\" y=\"125.803636\"/>\n  </clipPath>\n  <clipPath id=\"p18b5011f65\">\n   <rect height=\"94.576271\" width=\"94.576271\" x=\"1032.123729\" y=\"7.2\"/>\n  </clipPath>\n  <clipPath id=\"p5083102c34\">\n   <rect height=\"94.576271\" width=\"94.576271\" x=\"1032.123729\" y=\"125.803636\"/>\n  </clipPath>\n </defs>\n</svg>\n",
      "image/png": "[encoded data removed]"
     },
     "metadata": {
      "needs_background": "light"
     }
    }
   ],
   "source": [
    "import matplotlib.pyplot as plt\n",
    "\n",
    "\n",
    "n = 10  # How many digits we will display\n",
    "plt.figure(figsize=(20, 4))\n",
    "for i in range(n):\n",
    "    # Display original\n",
    "    ax = plt.subplot(2, n, i + 1)\n",
    "    plt.imshow(x_test[i].reshape(28, 28))\n",
    "    plt.gray()\n",
    "    ax.get_xaxis().set_visible(False)\n",
    "    ax.get_yaxis().set_visible(False)\n",
    "\n",
    "    # Display reconstruction\n",
    "    ax = plt.subplot(2, n, i + 1 + n)\n",
    "    plt.imshow(roundtrip_imgs[i].reshape(28, 28))\n",
    "    plt.gray()\n",
    "    ax.get_xaxis().set_visible(False)\n",
    "    ax.get_yaxis().set_visible(False)\n",
    "plt.show()"
   ]
  },
  {
   "source": [
    "What about the compression? Let's check the sizes of the arrays."
   ],
   "cell_type": "markdown",
   "metadata": {}
  },
  {
   "cell_type": "code",
   "execution_count": 10,
   "metadata": {},
   "outputs": [
    {
     "output_type": "stream",
     "name": "stdout",
     "text": [
      "x_test.shape[1]: 784\nencoded_imgs.shape[1]: 32\nSpace saving: 95.92%\n"
     ]
    }
   ],
   "source": [
    "encoded_imgs = encoder.transform(x_test)\n",
    "print(f\"x_test.shape[1]: {x_test.shape[1]}\")\n",
    "print(f\"encoded_imgs.shape[1]: {encoded_imgs.shape[1]}\")\n",
    "space_saving = (1-encoded_imgs.astype(x_test.dtype).nbytes/x_test.nbytes)*100\n",
    "print(f\"Space saving: {space_saving:0.2f}%\")"
   ]
  }
 ],
 "metadata": {
  "colab": {
   "collapsed_sections": [],
   "name": "Benchmarks.ipynb",
   "provenance": []
  },
  "kernelspec": {
   "display_name": "Python 3",
   "language": "python",
   "name": "python3"
  },
  "language_info": {
   "codemirror_mode": {
    "name": "ipython",
    "version": 3
   },
   "file_extension": ".py",
   "mimetype": "text/x-python",
   "name": "python",
   "nbconvert_exporter": "python",
   "pygments_lexer": "ipython3",
   "version": "3.8.5-final"
  }
 },
 "nbformat": 4,
 "nbformat_minor": 1
}