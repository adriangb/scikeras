{
 "cells": [
  {
   "cell_type": "markdown",
   "metadata": {
    "id": "z22BE9uhvoxO"
   },
   "source": [
    "# Autoencoders in SciKeras"
   ]
  },
  {
   "cell_type": "markdown",
   "metadata": {
    "id": "hapoJed-voxP"
   },
   "source": [
    "Autencoders are an approach to use nearual networks to distill data into it's most important features, thereby compressing the data. We will be following the [Keras tutorial](https://blog.keras.io/building-autoencoders-in-keras.html) on the topic, which goes much more in depth and breadth than we will here. You are highly encouraged to check out that tutorial if you want to learn about autoencoders in the general sense.\n",
    "\n",
    "\n",
    "\n",
    "<table align=\"left\"><td>\n",
    "<a target=\"_blank\" href=\"https://colab.research.google.com/github/adriangb/scikeras/blob/master/notebooks/Basic_Usage.ipyn\">\n",
    "    <img src=\"https://www.tensorflow.org/images/colab_logo_32px.png\" />Run in Google Colab</a>  \n",
    "</td><td>\n",
    "<a target=\"_blank\" href=\"https://github.com/adriangb/scikeras/blob/master/notebooks/Basic_Usage.ipynb\"><img width=32px src=\"https://www.tensorflow.org/images/GitHub-Mark-32px.png\" />View source on GitHub</a></td></table>"
   ]
  },
  {
   "cell_type": "markdown",
   "metadata": {
    "id": "iT-ibpi7voxQ"
   },
   "source": [
    "### Table of contents"
   ]
  },
  {
   "cell_type": "markdown",
   "metadata": {
    "id": "ekJWKPFMvoxR"
   },
   "source": [
    "* [Data](#Data)\n",
    "* [Define Model](#Define-Keras-Model)\n",
    "* [Training](#Training)\n",
    "* [Explore Results](#Explore-Results)"
   ]
  },
  {
   "cell_type": "markdown",
   "metadata": {
    "id": "6avb3GBQDQyG"
   },
   "source": [
    "Install SciKeras"
   ]
  },
  {
   "cell_type": "code",
   "execution_count": null,
   "metadata": {
    "id": "qCcyTjVkvoxR"
   },
   "outputs": [],
   "source": [
    "!python -m pip install scikeras"
   ]
  },
  {
   "cell_type": "markdown",
   "metadata": {
    "id": "EZveNcetDQyL"
   },
   "source": [
    "Silence TensorFlow warnings to keep output succint."
   ]
  },
  {
   "cell_type": "code",
   "execution_count": 22,
   "metadata": {
    "id": "ekNmO_GPDQyL"
   },
   "outputs": [],
   "source": [
    "import warnings\n",
    "from tensorflow import get_logger\n",
    "get_logger().setLevel('ERROR')"
   ]
  },
  {
   "cell_type": "markdown",
   "metadata": {
    "id": "hCuOBH8AvoxX"
   },
   "source": [
    "## Data"
   ]
  },
  {
   "cell_type": "markdown",
   "metadata": {
    "id": "i3fAUKBUvoxY"
   },
   "source": [
    "We load the dataset from the Keras tutorial. The dataset consists of images of cats and dogs."
   ]
  },
  {
   "cell_type": "code",
   "execution_count": 23,
   "metadata": {
    "colab": {
     "base_uri": "https://localhost:8080/",
     "height": 51
    },
    "id": "QM74xeoe-1S-",
    "outputId": "23946eec-c32f-4db6-8bda-e12bda6492ea"
   },
   "outputs": [
    {
     "output_type": "stream",
     "name": "stdout",
     "text": [
      "(60000, 784)\n(10000, 784)\n"
     ]
    }
   ],
   "source": [
    "from tensorflow.keras.datasets import mnist\n",
    "import numpy as np\n",
    "\n",
    "\n",
    "(x_train, _), (x_test, _) = mnist.load_data()\n",
    "x_train = x_train.astype('float32') / 255.\n",
    "x_test = x_test.astype('float32') / 255.\n",
    "x_train = x_train.reshape((len(x_train), np.prod(x_train.shape[1:])))\n",
    "x_test = x_test.reshape((len(x_test), np.prod(x_test.shape[1:])))\n",
    "print(x_train.shape)\n",
    "print(x_test.shape)"
   ]
  },
  {
   "cell_type": "markdown",
   "metadata": {
    "id": "yuR10hymK0dh"
   },
   "source": [
    "## Define Keras Model"
   ]
  },
  {
   "cell_type": "markdown",
   "metadata": {},
   "source": [
    "We will be defining a very simple autencoder. We define _three_ model building methods:\n",
    "\n",
    "1. One to build a full end-to-end autoencoder.\n",
    "2. One to create a model that includes only the encoder portion.\n",
    "3. One that creates a model that includes only the decoder portion.\n",
    "\n",
    "The only variable we give our model is the encoding dimensions, which will be a hyperparemter of our final transformer."
   ]
  },
  {
   "cell_type": "code",
   "execution_count": 24,
   "metadata": {
    "id": "dBFFXT-__7KU"
   },
   "outputs": [],
   "source": [
    "from tensorflow import keras\n",
    "\n",
    "\n",
    "def get_fit_model(encoding_dim: int) -> keras.Model:\n",
    "    \"\"\"A regular SciKeras ``get_model``.\"\"\"\n",
    "    # This is our input image\n",
    "    input_img = keras.Input(shape=(784,), name=\"input\")\n",
    "    # \"encoded\" is the encoded representation of the input\n",
    "    encoded = keras.layers.Dense(encoding_dim, activation='relu', name=\"encoded\")(input_img)\n",
    "    # \"decoded\" is the lossy reconstruction of the input\n",
    "    decoded = keras.layers.Dense(784, activation='sigmoid', name=\"output\")(encoded)\n",
    "    # This model maps an input to its reconstruction\n",
    "    autoencoder_model = keras.Model(input_img, decoded)\n",
    "    return autoencoder_model\n",
    "\n",
    "def get_tf_model(fit_model: keras.Model) -> keras.Model:\n",
    "    \"\"\"Extract the input layer and encoded output from ``fit_model``.\"\"\"\n",
    "    return keras.Model(fit_model.get_layer(\"input\").input, fit_model.get_layer(\"encoded\").output)\n",
    "\n",
    "def get_inverse_tf_model(fit_model: keras.Model, encoding_dim: int) -> keras.Model:\n",
    "    \"\"\"Create a new input layer and connect it to the fitted ``fit_model``.\"\"\"\n",
    "    encoded_input = keras.Input(shape=(encoding_dim,))\n",
    "    output = fit_model.get_layer(\"output\")(encoded_input)\n",
    "    return keras.Model(encoded_input, output)"
   ]
  },
  {
   "source": [
    "Next we create a class that that will enable the `transform` and `fit_transform` methods, as well as integrating all three of our models into a single estimator."
   ],
   "cell_type": "markdown",
   "metadata": {}
  },
  {
   "cell_type": "code",
   "execution_count": 25,
   "metadata": {},
   "outputs": [],
   "source": [
    "from sklearn.base import TransformerMixin, copy\n",
    "from scikeras.wrappers import BaseWrapper\n",
    "\n",
    "\n",
    "class KerasTransformer(BaseWrapper, TransformerMixin):\n",
    "    \"\"\"A class that enables transform and fit_transform.\n",
    "    \"\"\"\n",
    "\n",
    "    def __init__(self, *args, tf_est: BaseWrapper = None, inv_tf_est: BaseWrapper = None, **kwargs) -> None:\n",
    "        super().__init__(*args, **kwargs)\n",
    "        self.tf_est = tf_est\n",
    "        self.inv_tf_est = inv_tf_est\n",
    "\n",
    "\n",
    "    def fit(self, X, sample_weight=None):\n",
    "        # Fit the auto-encoder to predict X from X\n",
    "        super().fit(X=X, y=X, sample_weight=sample_weight)\n",
    "        # Copy encoder/decoder models to avoid modifying user input objects\n",
    "        self.tf_est_ = copy.copy(self.tf_est)\n",
    "        self.inv_tf_est_ = copy.copy(self.inv_tf_est)\n",
    "        # Set params for encoder/decoder models\n",
    "        self.tf_est_.set_params(fit_model=self.model_)\n",
    "        self.inv_tf_est_.set_params(fit_model=self.model_, encoding_dim=self.encoding_dim)\n",
    "        # Preprocess X\n",
    "        X = self.feature_encoder_.transform(X)\n",
    "        # Fit tf_est_\n",
    "        self.tf_est_.initialize(X=X)\n",
    "        X_tf = self.tf_est_.predict(X=X)\n",
    "        # Fit inverse TF\n",
    "        self.inv_tf_est_.initialize(X_tf)\n",
    "        return self\n",
    "\n",
    "    def transform(self, X):\n",
    "        X = self.feature_encoder_.transform(X)\n",
    "        X_tf = self.tf_est_.predict(X)\n",
    "        return X_tf\n",
    "    \n",
    "    def inverse_transform(self, X_tf):\n",
    "        X = self.inv_tf_est_.predict(X_tf)\n",
    "        X = self.feature_encoder_.inverse_transform(X)\n",
    "        return X"
   ]
  },
  {
   "cell_type": "markdown",
   "metadata": {},
   "source": [
    "Next, we wrap the Keras Model with Scikeras. Note that for our encoder/decoder estimators, we do not need to provide a loss function since no training will be done. We do however need to have the `fit_model` and `encoding_dim` so that these will be settable by `BaseWrapper.set_params`."
   ]
  },
  {
   "cell_type": "code",
   "execution_count": 26,
   "metadata": {},
   "outputs": [],
   "source": [
    "tf_est = BaseWrapper(model=get_tf_model, fit_model=None, verbose=0)\n",
    "inv_tf_est = BaseWrapper(model=get_inverse_tf_model, fit_model=None, encoding_dim=None, verbose=0)\n",
    "autoencoder = KerasTransformer(model=get_fit_model, tf_est=tf_est, inv_tf_est=inv_tf_est, loss=\"binary_crossentropy\", encoding_dim=32, epochs=50)"
   ]
  },
  {
   "cell_type": "markdown",
   "metadata": {
    "id": "yqBl5xLDP43O"
   },
   "source": [
    "## Training"
   ]
  },
  {
   "cell_type": "markdown",
   "metadata": {
    "id": "4fHbt_mUVBhE"
   },
   "source": [
    "To train the model, we pass the input images as both the features and the target. This will train the layers to compress the data as accurately as possible between the encoder and decoder. Note that we only pass the `X` parameter, since we defined the mapping `y=X` in `KerasTransformer.fit` above."
   ]
  },
  {
   "cell_type": "code",
   "execution_count": 27,
   "metadata": {
    "colab": {
     "base_uri": "https://localhost:8080/",
     "height": 34
    },
    "id": "QQhtIWsMP4Ii",
    "outputId": "1581384e-7012-4816-d4cf-a4190a30e50f"
   },
   "outputs": [
    {
     "output_type": "stream",
     "name": "stdout",
     "text": [
      "Epoch 1/50\n",
      "1875/1875 [==============================] - 2s 925us/step - loss: 0.2026\n",
      "Epoch 2/50\n",
      "1875/1875 [==============================] - 2s 867us/step - loss: 0.1060\n",
      "Epoch 3/50\n",
      "1875/1875 [==============================] - 2s 908us/step - loss: 0.0976\n",
      "Epoch 4/50\n",
      "1875/1875 [==============================] - 2s 851us/step - loss: 0.0960\n",
      "Epoch 5/50\n",
      "1875/1875 [==============================] - 2s 868us/step - loss: 0.0952\n",
      "Epoch 6/50\n",
      "1875/1875 [==============================] - 2s 873us/step - loss: 0.0948\n",
      "Epoch 7/50\n",
      "1875/1875 [==============================] - 2s 908us/step - loss: 0.0945\n",
      "Epoch 8/50\n",
      "1875/1875 [==============================] - 2s 958us/step - loss: 0.0947\n",
      "Epoch 9/50\n",
      "1875/1875 [==============================] - 2s 976us/step - loss: 0.0944\n",
      "Epoch 10/50\n",
      "1875/1875 [==============================] - 2s 973us/step - loss: 0.0942\n",
      "Epoch 11/50\n",
      "1875/1875 [==============================] - 2s 974us/step - loss: 0.0942\n",
      "Epoch 12/50\n",
      "1875/1875 [==============================] - 2s 1ms/step - loss: 0.0939\n",
      "Epoch 13/50\n",
      "1875/1875 [==============================] - 2s 977us/step - loss: 0.0939\n",
      "Epoch 14/50\n",
      "1875/1875 [==============================] - 2s 1ms/step - loss: 0.0937\n",
      "Epoch 15/50\n",
      "1875/1875 [==============================] - 2s 1ms/step - loss: 0.0938\n",
      "Epoch 16/50\n",
      "1875/1875 [==============================] - 2s 1ms/step - loss: 0.0938\n",
      "Epoch 17/50\n",
      "1875/1875 [==============================] - 2s 1ms/step - loss: 0.0937\n",
      "Epoch 18/50\n",
      "1875/1875 [==============================] - 2s 1ms/step - loss: 0.0936\n",
      "Epoch 19/50\n",
      "1875/1875 [==============================] - 2s 1ms/step - loss: 0.0936\n",
      "Epoch 20/50\n",
      "1875/1875 [==============================] - 2s 1ms/step - loss: 0.0936\n",
      "Epoch 21/50\n",
      "1875/1875 [==============================] - 2s 1ms/step - loss: 0.0933\n",
      "Epoch 22/50\n",
      "1875/1875 [==============================] - 2s 964us/step - loss: 0.0934\n",
      "Epoch 23/50\n",
      "1875/1875 [==============================] - 2s 957us/step - loss: 0.0933\n",
      "Epoch 24/50\n",
      "1875/1875 [==============================] - 2s 981us/step - loss: 0.0934\n",
      "Epoch 25/50\n",
      "1875/1875 [==============================] - 2s 983us/step - loss: 0.0936\n",
      "Epoch 26/50\n",
      "1875/1875 [==============================] - 2s 951us/step - loss: 0.0934\n",
      "Epoch 27/50\n",
      "1875/1875 [==============================] - 2s 938us/step - loss: 0.0934\n",
      "Epoch 28/50\n",
      "1875/1875 [==============================] - 2s 955us/step - loss: 0.0933\n",
      "Epoch 29/50\n",
      "1875/1875 [==============================] - 2s 985us/step - loss: 0.0934\n",
      "Epoch 30/50\n",
      "1875/1875 [==============================] - 2s 944us/step - loss: 0.0931\n",
      "Epoch 31/50\n",
      "1875/1875 [==============================] - 2s 978us/step - loss: 0.0934\n",
      "Epoch 32/50\n",
      "1875/1875 [==============================] - 2s 943us/step - loss: 0.0932\n",
      "Epoch 33/50\n",
      "1875/1875 [==============================] - 2s 945us/step - loss: 0.0932\n",
      "Epoch 34/50\n",
      "1875/1875 [==============================] - 2s 957us/step - loss: 0.0930\n",
      "Epoch 35/50\n",
      "1875/1875 [==============================] - 2s 954us/step - loss: 0.0932\n",
      "Epoch 36/50\n",
      "1875/1875 [==============================] - 2s 961us/step - loss: 0.0932\n",
      "Epoch 37/50\n",
      "1875/1875 [==============================] - 2s 955us/step - loss: 0.0929\n",
      "Epoch 38/50\n",
      "1875/1875 [==============================] - 2s 961us/step - loss: 0.0932\n",
      "Epoch 39/50\n",
      "1875/1875 [==============================] - 2s 938us/step - loss: 0.0930\n",
      "Epoch 40/50\n",
      "1875/1875 [==============================] - 2s 980us/step - loss: 0.0931\n",
      "Epoch 41/50\n",
      "1875/1875 [==============================] - 2s 960us/step - loss: 0.0930\n",
      "Epoch 42/50\n",
      "1875/1875 [==============================] - 2s 978us/step - loss: 0.0928\n",
      "Epoch 43/50\n",
      "1875/1875 [==============================] - 2s 946us/step - loss: 0.0929\n",
      "Epoch 44/50\n",
      "1875/1875 [==============================] - 2s 948us/step - loss: 0.0930\n",
      "Epoch 45/50\n",
      "1875/1875 [==============================] - 2s 958us/step - loss: 0.0928\n",
      "Epoch 46/50\n",
      "1875/1875 [==============================] - 2s 962us/step - loss: 0.0929\n",
      "Epoch 47/50\n",
      "1875/1875 [==============================] - 2s 954us/step - loss: 0.0929\n",
      "Epoch 48/50\n",
      "1875/1875 [==============================] - 2s 955us/step - loss: 0.0927\n",
      "Epoch 49/50\n",
      "1875/1875 [==============================] - 2s 953us/step - loss: 0.0928\n",
      "Epoch 50/50\n",
      "1875/1875 [==============================] - 2s 952us/step - loss: 0.0928\n"
     ]
    },
    {
     "output_type": "execute_result",
     "data": {
      "text/plain": [
       "KerasTransformer(\n",
       "\tmodel=<function get_fit_model at 0x14dcec790>\n",
       "\tbuild_fn=None\n",
       "\twarm_start=False\n",
       "\trandom_state=None\n",
       "\toptimizer=rmsprop\n",
       "\tloss=binary_crossentropy\n",
       "\tmetrics=None\n",
       "\tbatch_size=None\n",
       "\tverbose=1\n",
       "\tcallbacks=None\n",
       "\tvalidation_split=0.0\n",
       "\tshuffle=True\n",
       "\trun_eagerly=False\n",
       "\tepochs=50\n",
       "\tencoding_dim=32\n",
       "\ttf_est__model=<function get_tf_model at 0x14dcec9d0>\n",
       "\ttf_est__build_fn=None\n",
       "\ttf_est__warm_start=False\n",
       "\ttf_est__random_state=None\n",
       "\ttf_est__optimizer=rmsprop\n",
       "\ttf_est__loss=None\n",
       "\ttf_est__metrics=None\n",
       "\ttf_est__batch_size=None\n",
       "\ttf_est__verbose=0\n",
       "\ttf_est__callbacks=None\n",
       "\ttf_est__validation_split=0.0\n",
       "\ttf_est__shuffle=True\n",
       "\ttf_est__run_eagerly=False\n",
       "\ttf_est__epochs=1\n",
       "\ttf_est__fit_model=None\n",
       "\ttf_est=BaseWrapper(\n",
       "\tmodel=<function get_tf_model at 0x14dcec9d0>\n",
       "\tbuild_fn=None\n",
       "\twarm_start=False\n",
       "\trandom_state=None\n",
       "\toptimizer=rmsprop\n",
       "\tloss=None\n",
       "\tmetrics=None\n",
       "\tbatch_size=None\n",
       "\tverbose=0\n",
       "\tcallbacks=None\n",
       "\tvalidation_split=0.0\n",
       "\tshuffle=True\n",
       "\trun_eagerly=False\n",
       "\tepochs=1\n",
       "\tfit_model=None\n",
       ")\n",
       "\tinv_tf_est__model=<function get_inverse_tf_model at 0x14dcec5e0>\n",
       "\tinv_tf_est__build_fn=None\n",
       "\tinv_tf_est__warm_start=False\n",
       "\tinv_tf_est__random_state=None\n",
       "\tinv_tf_est__optimizer=rmsprop\n",
       "\tinv_tf_est__loss=None\n",
       "\tinv_tf_est__metrics=None\n",
       "\tinv_tf_est__batch_size=None\n",
       "\tinv_tf_est__verbose=0\n",
       "\tinv_tf_est__callbacks=None\n",
       "\tinv_tf_est__validation_split=0.0\n",
       "\tinv_tf_est__shuffle=True\n",
       "\tinv_tf_est__run_eagerly=False\n",
       "\tinv_tf_est__epochs=1\n",
       "\tinv_tf_est__fit_model=None\n",
       "\tinv_tf_est__encoding_dim=None\n",
       "\tinv_tf_est=BaseWrapper(\n",
       "\tmodel=<function get_inverse_tf_model at 0x14dcec5e0>\n",
       "\tbuild_fn=None\n",
       "\twarm_start=False\n",
       "\trandom_state=None\n",
       "\toptimizer=rmsprop\n",
       "\tloss=None\n",
       "\tmetrics=None\n",
       "\tbatch_size=None\n",
       "\tverbose=0\n",
       "\tcallbacks=None\n",
       "\tvalidation_split=0.0\n",
       "\tshuffle=True\n",
       "\trun_eagerly=False\n",
       "\tepochs=1\n",
       "\tfit_model=None\n",
       "\tencoding_dim=None\n",
       ")\n",
       ")"
      ]
     },
     "metadata": {},
     "execution_count": 27
    }
   ],
   "source": [
    "autoencoder.fit(X=x_train)"
   ]
  },
  {
   "cell_type": "markdown",
   "metadata": {},
   "source": [
    "Next we fit the encoder and decoder using training data and then round-trip through both using test data."
   ]
  },
  {
   "cell_type": "code",
   "execution_count": 28,
   "metadata": {},
   "outputs": [],
   "source": [
    "roundtrip_imgs = autoencoder.inverse_transform(autoencoder.transform(x_test))"
   ]
  },
  {
   "cell_type": "markdown",
   "metadata": {},
   "source": [
    "## Explore Results"
   ]
  },
  {
   "cell_type": "markdown",
   "metadata": {},
   "source": [
    "Now let's compare our inputs to lossy decoded outputs:"
   ]
  },
  {
   "cell_type": "code",
   "execution_count": 29,
   "metadata": {},
   "outputs": [
    {
     "output_type": "display_data",
     "data": {
      "text/plain": "<Figure size 1440x288 with 20 Axes>",
      "image/svg+xml": "<?xml version=\"1.0\" encoding=\"utf-8\" standalone=\"no\"?>\n<!DOCTYPE svg PUBLIC \"-//W3C//DTD SVG 1.1//EN\"\n  \"http://www.w3.org/Graphics/SVG/1.1/DTD/svg11.dtd\">\n<!-- Created with matplotlib (https://matplotlib.org/) -->\n<svg height=\"231.079908pt\" version=\"1.1\" viewBox=\"0 0 1133.9 231.079908\" width=\"1133.9pt\" xmlns=\"http://www.w3.org/2000/svg\" xmlns:xlink=\"http://www.w3.org/1999/xlink\">\n <metadata>\n  <rdf:RDF xmlns:cc=\"http://creativecommons.org/ns#\" xmlns:dc=\"http://purl.org/dc/elements/1.1/\" xmlns:rdf=\"http://www.w3.org/1999/02/22-rdf-syntax-ns#\">\n   <cc:Work>\n    <dc:type rdf:resource=\"http://purl.org/dc/dcmitype/StillImage\"/>\n    <dc:date>2020-11-08T13:01:36.625944</dc:date>\n    <dc:format>image/svg+xml</dc:format>\n    <dc:creator>\n     <cc:Agent>\n      <dc:title>Matplotlib v3.3.2, https://matplotlib.org/</dc:title>\n     </cc:Agent>\n    </dc:creator>\n   </cc:Work>\n  </rdf:RDF>\n </metadata>\n <defs>\n  <style type=\"text/css\">*{stroke-linecap:butt;stroke-linejoin:round;}</style>\n </defs>\n <g id=\"figure_1\">\n  <g id=\"patch_1\">\n   <path d=\"M 0 231.079908 \nL 1133.9 231.079908 \nL 1133.9 0 \nL 0 0 \nz\n\" style=\"fill:none;\"/>\n  </g>\n  <g id=\"axes_1\">\n   <g id=\"patch_2\">\n    <path d=\"M 10.7 101.776271 \nL 105.276271 101.776271 \nL 105.276271 7.2 \nL 10.7 7.2 \nz\n\" style=\"fill:#ffffff;\"/>\n   </g>\n   <g clip-path=\"url(#p0d4a6cb20b)\">\n    <image height=\"95\" id=\"imagec45d4d42e6\" transform=\"scale(1 -1)translate(0 -95)\" width=\"95\" x=\"10.7\" xlink:href=\"data:image/png;base64,\niVBORw0KGgoAAAANSUhEUgAAAF8AAABfCAYAAACOTBv1AAADhElEQVR4nO2czyusYRTHj+taTM0GZSMipaT8zEqNXxuZZMGKtZW/wIJY2NhaKHslpaZsrCyQ0FjITCNhQ1JKClGUu7qn58xlGu77+r4z8/2svu88TzOnT8fpMe/MFInIuxAIv9AFFDKUD+Q3uoC/TE5Oap6bmzNrR0dHmvv6+jTf3d35X5iPsPOBUD4QygcSmJmfiebmZs37+/uaBwcHzb6Tk5Mfq8kL2PlAKB9IYMbO9va25sfHR7MWDoc119XVffh4LsLOB0L5QCgfSGBm/s7OjuaFhQWz5r71kE+w84FQPpDAjB2XpaUlcz02Nqa5urpac1dXl9l3eHio+f09+PeI2PlAKB9IkeTAPdz6+nrNmd48Gxoa0ry+vu5rTV7AzgdC+UAoH0hOzPzi4mLNe3t7mtvb282+8/Nzzf39/Z+uBQV2PhDKB5ITY8elvLxc88HBgVmrra3VvLKyYtZGR0f9LewbsPOBUD4QygeSczPfJRqNmutYLKb56enJrLlHT/e4ioSdD4TygeT02Elnenpa88zMjFnb2NjQPDAw8FMlZYSdD4TygeTV2AmFQprdj6KIiDQ2Nmru7e3VvLu7639hn8DOB0L5QCgfSCA/t/Ndnp+fNbtHSxGR1tZWzbOzs5rTj52vr68+Vfcv7HwglA8kr46aLp2dneZ6c3NTc0lJiebu7m6zb2try9e6XNj5QCgfCOUDyduZn457vJyamtJ8f39v9kUiEc2JRMLXmtj5QCgfSMGMnYqKCs3Hx8cfPi4iMjIyonltbc3Xmtj5QCgfSMGMHZfh4WHNq6urZs094fT09Jg1r39WjJ0PhPKBUD6QQM780tJSc93S0qLZ/aJzR0dH1s/58vKi+fT0VHMqlTL7ysrKNE9MTJi1xcXFrF8vG9j5QCgfiOf3cN1ffBURaWpq0pz+J97Q0KC5ra1Nc/oNjsrKSs2Xl5eaq6qqsq7r7e1N8+3trWZ3zKTj/qSYH7DzgVA+EM9POxcXF+a6pqbmy8/x8PBgrpPJ5P+U9CWurq40z8/Pm7V4PO7pa7HzgVA+EMoH4vnMd29GiIiMj49rvr6+Nmvuf53Ly8uab25uzL6zszMvSwwM7HwglA8kkG+sFQrsfCCUD4TygVA+EMoHQvlAKB8I5QOhfCCUD4TygVA+EMoHQvlAKB8I5QOhfCCUD4TygVA+EMoHQvlAKB/IHylJwuaX+CcdAAAAAElFTkSuQmCC\" y=\"-6.776271\"/>\n   </g>\n   <g id=\"patch_3\">\n    <path d=\"M 10.7 101.776271 \nL 10.7 7.2 \n\" style=\"fill:none;stroke:#000000;stroke-linecap:square;stroke-linejoin:miter;stroke-width:0.8;\"/>\n   </g>\n   <g id=\"patch_4\">\n    <path d=\"M 105.276271 101.776271 \nL 105.276271 7.2 \n\" style=\"fill:none;stroke:#000000;stroke-linecap:square;stroke-linejoin:miter;stroke-width:0.8;\"/>\n   </g>\n   <g id=\"patch_5\">\n    <path d=\"M 10.7 101.776271 \nL 105.276271 101.776271 \n\" style=\"fill:none;stroke:#000000;stroke-linecap:square;stroke-linejoin:miter;stroke-width:0.8;\"/>\n   </g>\n   <g id=\"patch_6\">\n    <path d=\"M 10.7 7.2 \nL 105.276271 7.2 \n\" style=\"fill:none;stroke:#000000;stroke-linecap:square;stroke-linejoin:miter;stroke-width:0.8;\"/>\n   </g>\n  </g>\n  <g id=\"axes_2\">\n   <g id=\"patch_7\">\n    <path d=\"M 10.7 220.379908 \nL 105.276271 220.379908 \nL 105.276271 125.803636 \nL 10.7 125.803636 \nz\n\" style=\"fill:#ffffff;\"/>\n   </g>\n   <g clip-path=\"url(#pc99a7c600f)\">\n    <image height=\"95\" id=\"image2213a6e852\" transform=\"scale(1 -1)translate(0 -95)\" width=\"95\" x=\"10.7\" xlink:href=\"data:image/png;base64,\niVBORw0KGgoAAAANSUhEUgAAAF8AAABfCAYAAACOTBv1AAAEsElEQVR4nO2dyyu1XxTH93EPIZcYuKTcMpcJI8XMxETkH1BKlCiXmaEJY4mJGSUxkRElxmZyCRm4X0Juv9l619r9zun8zu/h++j9fkbfp7Wcs/u++6yzzrP3s9+Ic+7LhYxIJBI19vUVuuEmTBJ6AH8zNB9ICvLNk5OTRY+NjYkeHR01ee/v76I7OztFr66umry3t7egh/itcOYDoflAaD4QaM3XbePV1VXUvPT0dNH9/f2iNzY2TJ7+bvgNLSlnPhCaDyQ0ZWdlZUV0X1+fyauoqBCdl5cnOjc31+Q9PDwEPMLvhTMfCM0HQvOBhKbmn52diZ6ZmTF5ExMTosvLy0XX19ebvNPT06CH+K1w5gOh+UAiLiSLKXoBpbKy0sSWl5dFV1VVid7a2jJ57e3top+fnwMeYfBw5gOh+UBCU3Y0qamp5rq1tVX07Oys6IyMDJOnF2H8jimMN9o484HQfCA0Hwi05uv2Utdkf99OSsqfH+KTk5Oie3t7Td719bXo5uZmEzs6OvpfY/0OOPOB0Hwg0LKTlPTn316XnVhtYXFxsejNzU0TKy0tFb2wsGBiQ0NDop+enuIa33dvW+TMB0LzgdB8IL+u5uu/6enpMbGpqSnRt7e3Jtbd3S16b29PtN7r4+PXfH39+fkZ9e/ihTMfCM0HEpqyo4n3I11YWGiu19fXRdfU1JjY4uKi6MHBQdHIvT6c+UBoPpDQlB2t/bITrQz53UhXV5fo6elpE7u/vxetO5/t7W2T95OLLpz5QGg+EJoPJDSLKfrJRL8F1U8ZxqrJ2dnZoufn502spaVF9M7OjuiOjg6T95OtJ2c+EJoPJDT7dnTZ8fft6Jtf8d4Iq62tNbG1tTXRujyNjIyYvLm5ubjeKwg484HQfCA0H0ggNT/a/psgXs+56LceYr2X/g5xzrnx8XHRAwMDos/Pz01eW1ub6OPjYxML+tYDZz4Qmg8k8LLjl4x412YTef3/so5aUlIiend3V7R+qNo5uwV9eHjYxIJ+2oUzHwjNBxJI2dHdiN5R7JwtNR8fH1Fj8W4X8bsYTaxfpPqchqWlJdGNjY0m7+TkRLTufPwYtwv+cmg+EJoPJJCzF3RNLigoMLGsrCzRr6+vJqYXSXTb+PLyYvIyMzNF64egq6urTZ6uyYeHhyZWVlb2r+Pwx6SfcNTn/Dhnz3bwv78SgTMfCM0HknDZ0aVGlxZ/m15TU5No/0yFtLQ00bqFjHUybF1dnWi/LGguLy/NtX5YTredd3d3Jk+v4folVI+RZeeXQ/OBJFx29A2uoqIi0Q0NDSZPnwalOw7n7C5jXcZubm5Mnv7lqj/6/k08XcZycnJMTB+aqu/T6w7JOecuLi5EPz4+mlisX9eJwJkPhOYDoflAEr6rqWt0fn6+aP/EP92u+QsXeoHj4OBA9P7+vsnTbaJu8fQB187ZOu8vtOgWUr+Gf2aPvivrH66t29Ig9vRw5gOh+UAC3y4Y69lVf/exvtYf4yCecU2Un/xvojjzgdB8IDQfSGi2iP+NcOYDoflAaD4Qmg+E5gOh+UBoPhCaD4TmA6H5QGg+EJoPhOYDoflAaD4Qmg+E5gOh+UBoPpB/AH/7d+R8ayCiAAAAAElFTkSuQmCC\" y=\"-125.379908\"/>\n   </g>\n   <g id=\"patch_8\">\n    <path d=\"M 10.7 220.379908 \nL 10.7 125.803636 \n\" style=\"fill:none;stroke:#000000;stroke-linecap:square;stroke-linejoin:miter;stroke-width:0.8;\"/>\n   </g>\n   <g id=\"patch_9\">\n    <path d=\"M 105.276271 220.379908 \nL 105.276271 125.803636 \n\" style=\"fill:none;stroke:#000000;stroke-linecap:square;stroke-linejoin:miter;stroke-width:0.8;\"/>\n   </g>\n   <g id=\"patch_10\">\n    <path d=\"M 10.7 220.379908 \nL 105.276271 220.379908 \n\" style=\"fill:none;stroke:#000000;stroke-linecap:square;stroke-linejoin:miter;stroke-width:0.8;\"/>\n   </g>\n   <g id=\"patch_11\">\n    <path d=\"M 10.7 125.803636 \nL 105.276271 125.803636 \n\" style=\"fill:none;stroke:#000000;stroke-linecap:square;stroke-linejoin:miter;stroke-width:0.8;\"/>\n   </g>\n  </g>\n  <g id=\"axes_3\">\n   <g id=\"patch_12\">\n    <path d=\"M 124.191525 101.776271 \nL 218.767797 101.776271 \nL 218.767797 7.2 \nL 124.191525 7.2 \nz\n\" style=\"fill:#ffffff;\"/>\n   </g>\n   <g clip-path=\"url(#p073661cd0a)\">\n    <image height=\"95\" id=\"image37332ede85\" transform=\"scale(1 -1)translate(0 -95)\" width=\"95\" x=\"124.191525\" xlink:href=\"data:image/png;base64,\niVBORw0KGgoAAAANSUhEUgAAAF8AAABfCAYAAACOTBv1AAADwUlEQVR4nO2cu0srQRTG1+sLQVCwEEEQbA1qoQjWopWxESz9CwSJUSsfCNoqWNhZaOMDNQgWViKCSSCNRdBGEBsRVBBFQnzcW93DnOWubHJ391v1+1XfYSaZ4eNwmN3ZmRLLsn5bBMIv9AR+MjQfCM0HQvOB0HwgNB8IzQdC84HQfCA0HwjNB0LzgdB8IDQfCM0HQvOBlCEHn5iYEF1eXu7qNy0tLaKHhoZcj7W6uir66urKsd/Ozo7oi4sL1/9fDMx8IDQfSIkV4B7u7u6uigcGBoIa2jVvb2+iPz4+HPvt7++LzmQyjv1OTk5UnEqlRDPzgdB8IDQfSKA1P5fLqdjt8rIYtre3VXxzcyO6vr5edCHL1WKYnp5W8fz8vGhmPhCaDySUZae1tVXFt7e3BY/1+Pio4tfX13+OW1NT4/gftbW1Ko7FYq7Gfn9/Fz05OanaXl5eRDPzgdB8IDQfSChrfmNjo4rNZeJ3gpkPhOYDCbTsLCwsqNi+DPtLIpFQ8fDwsOjn52fP54WCmQ+E5gMJtOzU1dWp+ODgQHRnZ6fj75aWlkSPjY15Pi8UzHwgNB8IzQcS6Hc79/f3KjaXnltbW6LtT77t7e2iq6urRX/1ZSczHwjNBxLoUvMzTk9PRXd1dTn2+07LTmY+EJoPhOYDCU3Nb2hoEH12dqbazNcSd3d3oru7u1W/y8tLn2bnD8x8IDQfSGjKjol9M6W3t1d0ZWWl6LW1NdVvZGRE9Fd4+mXmA6H5QEJZduzMzs6Knpqacuy3vLwsenR01McZeQMzHwjNB0LzgUAPQbvFPO2Xz+dFV1RUqH7mKZO9vT3Vdnx87NPsioeZD4TmA/kSS02T8fFx0XNzc6rNLEPpdFq19fT0iDZPhyBh5gOh+UACLTtNTU0qfnp6Ev3w8FDw/9nf+0ciEce+Ztk5OjoqeCw/YOYDoflAaD4Q359w+/v7Rdvv2zk/Pxfd19cn2u0BuI2NDRXPzMyI9vNeB69g5gOh+UB8X2p2dHSINj8JtCzLKi0tFZ3NZkVHo1HVz/xcxNybtb9YM6/QamtrU22Li4ui4/G4q7n7DTMfCM0HQvOB+L7UNDdC7Bscg4ODos2bYu2f/Zk3ux4eHopubm5W/ex13sR+KiYMMPOB0Hwg0M2Uzc1N0WYJ8gJ76TLfal5fX3s6VrEw84HQfCCh2cM1nzqrqqpUm3nb4GflaWVlRXQymVRt6+vr/ztFz2HmA6H5QGg+kNDU/J8IMx8IzQdC84HQfCA0HwjNB0LzgdB8IDQfyB/RPu7MLQ/ZlAAAAABJRU5ErkJggg==\" y=\"-6.776271\"/>\n   </g>\n   <g id=\"patch_13\">\n    <path d=\"M 124.191525 101.776271 \nL 124.191525 7.2 \n\" style=\"fill:none;stroke:#000000;stroke-linecap:square;stroke-linejoin:miter;stroke-width:0.8;\"/>\n   </g>\n   <g id=\"patch_14\">\n    <path d=\"M 218.767797 101.776271 \nL 218.767797 7.2 \n\" style=\"fill:none;stroke:#000000;stroke-linecap:square;stroke-linejoin:miter;stroke-width:0.8;\"/>\n   </g>\n   <g id=\"patch_15\">\n    <path d=\"M 124.191525 101.776271 \nL 218.767797 101.776271 \n\" style=\"fill:none;stroke:#000000;stroke-linecap:square;stroke-linejoin:miter;stroke-width:0.8;\"/>\n   </g>\n   <g id=\"patch_16\">\n    <path d=\"M 124.191525 7.2 \nL 218.767797 7.2 \n\" style=\"fill:none;stroke:#000000;stroke-linecap:square;stroke-linejoin:miter;stroke-width:0.8;\"/>\n   </g>\n  </g>\n  <g id=\"axes_4\">\n   <g id=\"patch_17\">\n    <path d=\"M 124.191525 220.379908 \nL 218.767797 220.379908 \nL 218.767797 125.803636 \nL 124.191525 125.803636 \nz\n\" style=\"fill:#ffffff;\"/>\n   </g>\n   <g clip-path=\"url(#pa864e52040)\">\n    <image height=\"95\" id=\"image9aa70b6f0d\" transform=\"scale(1 -1)translate(0 -95)\" width=\"95\" x=\"124.191525\" xlink:href=\"data:image/png;base64,\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\" y=\"-125.379908\"/>\n   </g>\n   <g id=\"patch_18\">\n    <path d=\"M 124.191525 220.379908 \nL 124.191525 125.803636 \n\" style=\"fill:none;stroke:#000000;stroke-linecap:square;stroke-linejoin:miter;stroke-width:0.8;\"/>\n   </g>\n   <g id=\"patch_19\">\n    <path d=\"M 218.767797 220.379908 \nL 218.767797 125.803636 \n\" style=\"fill:none;stroke:#000000;stroke-linecap:square;stroke-linejoin:miter;stroke-width:0.8;\"/>\n   </g>\n   <g id=\"patch_20\">\n    <path d=\"M 124.191525 220.379908 \nL 218.767797 220.379908 \n\" style=\"fill:none;stroke:#000000;stroke-linecap:square;stroke-linejoin:miter;stroke-width:0.8;\"/>\n   </g>\n   <g id=\"patch_21\">\n    <path d=\"M 124.191525 125.803636 \nL 218.767797 125.803636 \n\" style=\"fill:none;stroke:#000000;stroke-linecap:square;stroke-linejoin:miter;stroke-width:0.8;\"/>\n   </g>\n  </g>\n  <g id=\"axes_5\">\n   <g id=\"patch_22\">\n    <path d=\"M 237.683051 101.776271 \nL 332.259322 101.776271 \nL 332.259322 7.2 \nL 237.683051 7.2 \nz\n\" style=\"fill:#ffffff;\"/>\n   </g>\n   <g clip-path=\"url(#pf5f24238bb)\">\n    <image height=\"95\" id=\"imagee4d5e6c9e2\" transform=\"scale(1 -1)translate(0 -95)\" width=\"95\" x=\"237.683051\" xlink:href=\"data:image/png;base64,\niVBORw0KGgoAAAANSUhEUgAAAF8AAABfCAYAAACOTBv1AAACuElEQVR4nO3cvYoiQRQF4BpdIwMxEATNxTcQNBFjEVEQfAHBRDDwFQTxSUwM/ElFNBRUTAw1ExMjxUR2o71T1TjD7Ox2ny73fNFtq4PL4VKU7c+bUuqnIogAuoH/GcMHYvhADB+I4QMxfCCGD8TwgRg+EMMHYvhADB+I4QP9QDfwWygUkno+nxtr5/NZ6nq9LvXtdnO/MRdx8oEYPpAvt51oNGqsZTIZqVutltTdbtf9xlzEyQdi+EC+2Xb0k8t0OjXWUqmU1NVqVeper2fc93g8XOrOHZx8IIYPxPCB3pQPv7eTy+WM69lsJnUwGJS6UCh8eJ8NOPlADB/IN0dN3XK5NK5Pp5PUiUTC63Zcw8kHYvhADB/Il3u+03g8lrrRaEhdLBaN+3jUpC9j+EBWbDvH4/Hp684PXWzDyQdi+EC+fLDmFI/Hpd5sNlJfLhfjvnQ67VVL/wQnH4jhAzF8ICuOmvpTzcViIXWlUjHuK5fLUg+HQ/cb+0ucfCCGD2TFtqPbbrdS69/hcV5z26FPMXwghg9kxeMFnf518clkYqwdDgeps9mssXa/313t6zs4+UAMH8i6bUfX7/eN63a7LXWpVDLWRqORJz39CU4+EMMHsu4drm6323241ul0jGtuO2Rg+EAMH8jqPd/5Hw26WCzmYSffw8kHYvhAVm87+oM0pZRarVZSO7edcDgs9fV6dbWvr+LkAzF8IKsfrDnpn+EOBgNjLZ/PS/3ZKclLnHwghg/E8IGsPmo67fd7qZ3HyVqtJjX3fGL4SC911NQ5/3mw2WxKHYlEvG7nKU4+EMMHYvhAL3XU1Om/WlTKfKrpl1+wcPKBGD7Qy2476/XauA4E3ucsmUx63c5TnHwghg/0su9wbcDJB2L4QAwfiOEDMXwghg/E8IEYPhDDB2L4QAwfiOEDMXygX7JvhHNyYVMPAAAAAElFTkSuQmCC\" y=\"-6.776271\"/>\n   </g>\n   <g id=\"patch_23\">\n    <path d=\"M 237.683051 101.776271 \nL 237.683051 7.2 \n\" style=\"fill:none;stroke:#000000;stroke-linecap:square;stroke-linejoin:miter;stroke-width:0.8;\"/>\n   </g>\n   <g id=\"patch_24\">\n    <path d=\"M 332.259322 101.776271 \nL 332.259322 7.2 \n\" style=\"fill:none;stroke:#000000;stroke-linecap:square;stroke-linejoin:miter;stroke-width:0.8;\"/>\n   </g>\n   <g id=\"patch_25\">\n    <path d=\"M 237.683051 101.776271 \nL 332.259322 101.776271 \n\" style=\"fill:none;stroke:#000000;stroke-linecap:square;stroke-linejoin:miter;stroke-width:0.8;\"/>\n   </g>\n   <g id=\"patch_26\">\n    <path d=\"M 237.683051 7.2 \nL 332.259322 7.2 \n\" style=\"fill:none;stroke:#000000;stroke-linecap:square;stroke-linejoin:miter;stroke-width:0.8;\"/>\n   </g>\n  </g>\n  <g id=\"axes_6\">\n   <g id=\"patch_27\">\n    <path d=\"M 237.683051 220.379908 \nL 332.259322 220.379908 \nL 332.259322 125.803636 \nL 237.683051 125.803636 \nz\n\" style=\"fill:#ffffff;\"/>\n   </g>\n   <g clip-path=\"url(#pf17a62c7d7)\">\n    <image height=\"95\" id=\"image6a38030fa2\" transform=\"scale(1 -1)translate(0 -95)\" width=\"95\" x=\"237.683051\" xlink:href=\"data:image/png;base64,\niVBORw0KGgoAAAANSUhEUgAAAF8AAABfCAYAAACOTBv1AAAEEElEQVR4nO2cu0osQRRFa0QwEMEXqCMiipmRTzAxFBMFwQ/wBwz8AD/CwNjA0EAwMlLQQBQDMx+BjOIgKoqiIL5vdM89p6Cbcm63u8fZK9pS1TPF5sy2uqq6c865L0cgVKEHUMnQfCA0HwjNB0LzgdB8IDQfCM0HQvOBVKMH8JdcLie6utoOq6rqX428vb2J/vz8TH9gKcLKB0LzgdB8INDM1znf2NgoemxszPTL5/Oi19fXRR8fH5t+7+/vSQ8xVVj5QGg+kMxMNRsaGkTPz8+bto6ODtE9PT2i5+bmTD/GDgmG5gPJuYzs4TY1NYne29szbd3d3aILhYLowcFB0+/29vbb36tnXM459/X1c3aw8oHQfCA0H0hmppr39/ei19bWTNvs7Kzo5uZm0a2traZfaObrnPczX5N2/rPygdB8IJmJnY+PD9ELCwumbWpqSrSeko6MjJh+h4eHouM2WvTmjNb+OBg7vxiaD4TmA8lM5msuLy/N36urq6JnZmZEDw0NmX7Ly8uiX15eIj8fOb3UsPKB0HwgmYwdf5q4ubkpenp6WvTAwIDpV1dXJzoudvTnx0VQ2rDygdB8IInHTqmbE/o6/5rT01PRNzc3omtra00/vb/rL7Lpz4yLHc52KgSaD4TmA0k88/3MjMvyqOv8qebV1ZXoi4sL0cPDw6bf6Oio6P39fdMWeqYndLxJwMoHQvOBpH6HW8pP17/m8fFR9M7Ojui+vj7Tr7e3V3RNTY1pi4od/7v8zZW4vv8LKx8IzQdC84Fk5qxmHDqH+/v7Ra+srJh+T09PovWmu3N2iSJ0c91fetDXJZH/rHwgNB9IJjdTfPRP/Pz8XLS/cqlXNScmJkzb4uKi6NfX16Dv8qed+m99vqdUWPlAaD6QzDyHq/FnEvrvqLtd55zr6uoSPT4+btqWlpZEh8aOPyuKOt1c6syHlQ+E5gOh+UB+NPP9jI9aQfSzVmeqft/OxsaG6Tc5OSlaHyV3zrn6+nrR+imYOOI2hpj5ZQ7NBwKdapbyc9V3lv7D0nrq2dnZadp0DJ2dnQWNIW7KmwSsfCA0Hwh0thM1YwiNgru7O9O2u7sruq2tzbS1t7eLPjg4EP2dBbLQMYbCygdC84HQfCA/mvnfmdaF4K9OHh0diX5+fjZt+uG57e1t0f7dbtJjjIOVD4TmA8lM7CTxefrO9eTkxLTph+VaWlpE6+MmztljhTyl/Iuh+UBoPpCyW9XU+MsVDw8PovW7d5yzL8PWG+3FYtH08/8HpAkrHwjNB1IWxwU1ce9K0Gd6tra2TJuOmuvra9HIl1+z8oHQfCBl8XBEEoQe++C7FyoEmg+E5gOpmMyPgu/bqVBoPpCKjx0krHwgNB8IzQdC84HQfCA0H8gfKk6CUN2dGuEAAAAASUVORK5CYII=\" y=\"-125.379908\"/>\n   </g>\n   <g id=\"patch_28\">\n    <path d=\"M 237.683051 220.379908 \nL 237.683051 125.803636 \n\" style=\"fill:none;stroke:#000000;stroke-linecap:square;stroke-linejoin:miter;stroke-width:0.8;\"/>\n   </g>\n   <g id=\"patch_29\">\n    <path d=\"M 332.259322 220.379908 \nL 332.259322 125.803636 \n\" style=\"fill:none;stroke:#000000;stroke-linecap:square;stroke-linejoin:miter;stroke-width:0.8;\"/>\n   </g>\n   <g id=\"patch_30\">\n    <path d=\"M 237.683051 220.379908 \nL 332.259322 220.379908 \n\" style=\"fill:none;stroke:#000000;stroke-linecap:square;stroke-linejoin:miter;stroke-width:0.8;\"/>\n   </g>\n   <g id=\"patch_31\">\n    <path d=\"M 237.683051 125.803636 \nL 332.259322 125.803636 \n\" style=\"fill:none;stroke:#000000;stroke-linecap:square;stroke-linejoin:miter;stroke-width:0.8;\"/>\n   </g>\n  </g>\n  <g id=\"axes_7\">\n   <g id=\"patch_32\">\n    <path d=\"M 351.174576 101.776271 \nL 445.750847 101.776271 \nL 445.750847 7.2 \nL 351.174576 7.2 \nz\n\" style=\"fill:#ffffff;\"/>\n   </g>\n   <g clip-path=\"url(#p50176bc230)\">\n    <image height=\"95\" id=\"image48158c65a2\" transform=\"scale(1 -1)translate(0 -95)\" width=\"95\" x=\"351.174576\" xlink:href=\"data:image/png;base64,\niVBORw0KGgoAAAANSUhEUgAAAF8AAABfCAYAAACOTBv1AAAD6ElEQVR4nO2czSttURjG9+H6D5gYIJQy9ZGBjzJCSOrkTGTGQMhQSkwMZSKiDCVFQtKZKcUZGJj4mjGRMFAy8nFHXu9a3X06d5+9zrPv9fxGz+pdZ+3V09u719lrrx3zPO/TIxDy0BP4ydB8IDQfCM0HQvOB0HwgNB8IzQdC84HQfCA0HwjNB0LzgfxCT+CLtrY20YODg0asq6tL9M7Ojujl5WWjXywWE31+fm7Ebm9vQ5lnmDDzgdB8IDEvh5spzc3NRrunp0f02NiY6I+Pj0Dj5+V959Lo6KgRW1hYCDSmS5j5QGg+EOdlp7S0VPTx8bERKyoqEq1LRhhl5/7+3ohdXFyI1qupu7s7o9/r62ugaweBmQ+E5gOh+UCc/8Pt7e0VrWu8a+xr6fbl5aXopaUlo9/IyIjbiSmY+UBoPhDnS83r62vRFRUVvv06Ozt9Y/oBWnFxsW+/MJar+fn5gX4XBGY+EJoPhOYDcV7zr66uRJeXl/v2KygoyPpa+/v7oquqqoxYSUlJRmMcHByI1ps4LmDmA6H5QCKzhxsGHR0doufn543Y8PBwRmNUV1eLbmxsNGJHR0fBJ/cHmPlAaD6Q/2q1o7EfrOlysr6+LrqwsNDol25DpqGhQXQYr6Iw84HQfCA0H4jzpebu7q5o/W6Oax4eHoz24eGh6NnZWdFzc3O+Y9j3jbDvS8x8IDQfiPOlZmVlpWi97LTJ5SZGWVmZ6I2NDSNWV1cn2t6QWVtbE93f35/1PJj5QGg+EJoPJKdPNdNtaqdSKdHxeNyIhX2q5PPz+zZnz0m37dj09HSo82DmA6H5QCKzmVJbWyt6dXXViCUSCdGPj49ZX6u7u1t0TU1N1uMFhZkPhOYDcV523t7eRNslw97I+KKlpcVon5yciN7c3BQ9MzNj9Et3qkSfkJmYmPDtp8eYmpoyYmGvupj5QGg+EJoPJKeHoO1arpeU+kljpq9326dKksmk6OfnZyPW2toqenJy0ndMfXh6cXExo3kEhZkPhOYDyWnZsdFvFbe3t4sOeqrk6elJ9MvLixHTS8108GTKD4HmA4GWHc37+7voML69kG6Mm5sb0X19fUbs9PQ00LWDwMwHQvOB0HwgkdlMGR8fF60//+V5ntfU1PTX421tbRltfark7OxMdC5rvA0zHwjNBxKZpabGfjt4e3tbdH19ve/v+HVBkjE0HwjNBxKZpabGPlUyMDAgWn+i8V+HmQ+E5gOJZNmx0V99XVlZET00NGT00/9W9/b23E8sS5j5QGg+kEj+w/0pMPOB0HwgNB8IzQdC84HQfCA0HwjNB0LzgdB8IDQfCM0HQvOB/AZOXP56h+bY9AAAAABJRU5ErkJggg==\" y=\"-6.776271\"/>\n   </g>\n   <g id=\"patch_33\">\n    <path d=\"M 351.174576 101.776271 \nL 351.174576 7.2 \n\" style=\"fill:none;stroke:#000000;stroke-linecap:square;stroke-linejoin:miter;stroke-width:0.8;\"/>\n   </g>\n   <g id=\"patch_34\">\n    <path d=\"M 445.750847 101.776271 \nL 445.750847 7.2 \n\" style=\"fill:none;stroke:#000000;stroke-linecap:square;stroke-linejoin:miter;stroke-width:0.8;\"/>\n   </g>\n   <g id=\"patch_35\">\n    <path d=\"M 351.174576 101.776271 \nL 445.750847 101.776271 \n\" style=\"fill:none;stroke:#000000;stroke-linecap:square;stroke-linejoin:miter;stroke-width:0.8;\"/>\n   </g>\n   <g id=\"patch_36\">\n    <path d=\"M 351.174576 7.2 \nL 445.750847 7.2 \n\" style=\"fill:none;stroke:#000000;stroke-linecap:square;stroke-linejoin:miter;stroke-width:0.8;\"/>\n   </g>\n  </g>\n  <g id=\"axes_8\">\n   <g id=\"patch_37\">\n    <path d=\"M 351.174576 220.379908 \nL 445.750847 220.379908 \nL 445.750847 125.803636 \nL 351.174576 125.803636 \nz\n\" style=\"fill:#ffffff;\"/>\n   </g>\n   <g clip-path=\"url(#p42749a0ee2)\">\n    <image height=\"95\" id=\"image01644e22cc\" transform=\"scale(1 -1)translate(0 -95)\" width=\"95\" x=\"351.174576\" xlink:href=\"data:image/png;base64,\niVBORw0KGgoAAAANSUhEUgAAAF8AAABfCAYAAACOTBv1AAAFWElEQVR4nO2dzyvlbxTHj2HGj/wskdJgZakoQtGUn1Nmg78ACVnazcpSyY4s/IyF2UkpiULKQg1JElJSfoWR/B58d2fe55m5t5v5XGdmvue1en86z/243vM49zzPc+5nQojomQwV3mi/gf8zZr4iZr4iZr4iZr4iZr4iZr4iZr4iZr4iZr4iZr4iZr4iZr4iYZo//O3bt6yzsrJY5+fni3HR0dGsDw8PWc/Ozopxp6enrK+vr0Xs6enp995sELCZr4iZr0jQ005ISAjr3NxcERsfH2edlJT0y9f44/v37+L6/PycdVdXl4j19vayPjs7C+j+wcZmviJmviIh5PEZrpsySkpKWI+NjYlYfHy8z9e9hOfnH7/K7e2tiE1PT7NuaGhgfXJy4vMewcZmviJmviJmviKe5/zIyEhxPTU1xdpdub558+Pf/vHxkbVbQmIsIiKCdWhoqBiHnxtu7sYV7s7ODuvKykoxbnd31+c9vMZmviJmviKep53MzExxPT8/zzohIUHEML10dnay7u7uFuMw7Xz69Il1W1ubGJeens4aN+2IfKck3KgjIvr48SPr1dVVEfM6DdnMV8TMV8TMV8TznJ+TkyOuJycnWbs5H5f25eXlrNfX18U4zLXv3r1jnZqaKsY1Njayrq+vFzH82f5KUszzuDVCJA9rvMBmviJmviJBLzUnJiZYv3//XsQw7RQUFLDe398X4zA14KrYXU0jbvr78uUL6+TkZJ+ve3h4YN3f3y9ira2tvxz3UmzmK2LmK+L5Ge7FxYW4xvNS988dq4f7+3vWgR6suAcmuHm2uLgoYtXV1ayxAouJiRHjcLMOKzAiosTERNYHBwcBvUd/2MxXxMxXxMxXxPOc77bpYc7HMpFI5nnMte6qE68D3VnEnVAioqWlJdYjIyOs6+rqxDjcDcUDfiLZW4S7oS/d7bSZr4iZr0jQ087d3R1r98w1IyODdXFxMWtcjRL9nEJeAt6jr6+PdW1trRiHqcZNJ9gt7W9zLlBs5iti5iti5iviec538/Pc3Bxrd7keFxfHurm5mTX2+hB509KNZW5aWhpr96AdtyiwFCYiioqKYu3FYbrNfEXMfEU8Tzvun+PKygpr9884PDycdV5eHuvR0VExrqamhjWWsu6KGa/ddIIHLx8+fPB5Dywh3V1T/OaLF9jMV8TMVyToX4j7+vUr662tLRHLzs5mjWmitLRUjMPDj5aWFtbHx8diHFYqblsJthlWVFSwdtMOrsiXl5dFbHt7m7VVO385Zr4iZr4invftuGBOraqqErHh4WHWsbGxPu+Bufzo6Ig1fhYQEc3MzLDGtkIioqamJtbYWxQWJj/28GAc2w+JZLu7FzutNvMVMfMVCXraQfAwgoiovb2dNaYFXPm6YInnHtzs7e35jGHpie/D3bTD1XVHR4eIffv2zef7egk28xUx8xV51bTjtgGmpKSwHhwcZF1UVCTGYeXi7+wUv2Dnbopha+Ll5SXrgYEBMQ4rMDcl2Rfi/iHMfEXMfEVeNee74OoXe3jcR3SVlZWxDrQMvbm5EbGFhQXWnz9/Zo2HPUQ/P/chmNjMV8TMV0Q17SD4KJfCwkIR6+npYY3pyW0/xA24zc1NEcO2wI2NDdav+VgvF5v5ipj5ipj5iqg+yBrBEs/9pt/a2hprbDHE9j0iefiN2xVE3h9+e4HNfEXMfEX+mLSDZaL77AXceby6umKN5SmR7LMZGhoSsddcuQaKzXxFzHxF/pgVbqC47X3In/hfc/jDZr4iZr4iZr4if13O/5ewma+Ima+Ima+Ima+Ima+Ima+Ima+Ima+Ima/Ifxgn0mubNZgcAAAAAElFTkSuQmCC\" y=\"-125.379908\"/>\n   </g>\n   <g id=\"patch_38\">\n    <path d=\"M 351.174576 220.379908 \nL 351.174576 125.803636 \n\" style=\"fill:none;stroke:#000000;stroke-linecap:square;stroke-linejoin:miter;stroke-width:0.8;\"/>\n   </g>\n   <g id=\"patch_39\">\n    <path d=\"M 445.750847 220.379908 \nL 445.750847 125.803636 \n\" style=\"fill:none;stroke:#000000;stroke-linecap:square;stroke-linejoin:miter;stroke-width:0.8;\"/>\n   </g>\n   <g id=\"patch_40\">\n    <path d=\"M 351.174576 220.379908 \nL 445.750847 220.379908 \n\" style=\"fill:none;stroke:#000000;stroke-linecap:square;stroke-linejoin:miter;stroke-width:0.8;\"/>\n   </g>\n   <g id=\"patch_41\">\n    <path d=\"M 351.174576 125.803636 \nL 445.750847 125.803636 \n\" style=\"fill:none;stroke:#000000;stroke-linecap:square;stroke-linejoin:miter;stroke-width:0.8;\"/>\n   </g>\n  </g>\n  <g id=\"axes_9\">\n   <g id=\"patch_42\">\n    <path d=\"M 464.666102 101.776271 \nL 559.242373 101.776271 \nL 559.242373 7.2 \nL 464.666102 7.2 \nz\n\" style=\"fill:#ffffff;\"/>\n   </g>\n   <g clip-path=\"url(#pb5f5f609e5)\">\n    <image height=\"95\" id=\"image0acd7cdc5c\" transform=\"scale(1 -1)translate(0 -95)\" width=\"95\" x=\"464.666102\" xlink:href=\"data:image/png;base64,\niVBORw0KGgoAAAANSUhEUgAAAF8AAABfCAYAAACOTBv1AAADkElEQVR4nO2dPUgrURCFNxKQFGkkiHYSLSwUAqkErQ1YWMTGQrCziohgY6mFlYKF2NmqxEYCESstBS39qSxSiOJPKiWGiLF68+5cEklk7x7fvvNVZ5x9u8NhnHdzN7tGPM+rewRCB7qA/xmaD4TmA6H5QGg+EJoPhOYDoflAaD6QKLoAVxQKBRVvbGyIPjk5CbqchrDzgdB8IDQfSMQL6a7mw8ODiqPRv/+9ra6uit7c3AysJht2PhCaDyS0Y2dtbU3FS0tLoiuViuh4PB5YTTbsfCA0H0hoP+G+v783zcVisQAraQ47HwjNB0LzgYR25kcikW/j3wA7HwjNBxLasVOv17+N/zA0NKTiy8tLZzXZsPOB0HwgNB8IdOanUinRAwMDbf/7g4ODprlkMtnSOYKc8TbsfCA0H4jzsTM4OCh6ZWVF5SYmJkR3dna2fe7n52cVm8vJRCLR0jnsHU7zRotr2PlAaD4Q5/dw9/f3RWezWZU7Pz8XbX6dr1XsT6fmCqevr0/lRkZGGp4jl8upeHt7u+06fgo7HwjNB0Lzgfi+1LSXbv39/aKvrq5Uzlxqlsvltq+Vz+eb5rq7u1V8f3/f8LiODlz/sfOB0Hwgvo8d++t35ubZ7u6uyv1k1LTK4+Ojis1NOHPJOzo6qo7b2tpyVpMNOx8IzQdC84H4PvOr1aqK7+7uRE9PT6vczMyM35dvyu3tbcOf21sUQcLOB0LzgUB3Nc0dRde7ieYu59nZmeiuri513Pj4uGjXD0uz84HQfCDOx87U1JTonZ0dlSuVSqKHh4ddlqFYX18XvbCwoHKnp6eiM5mMytVqNV/rYOcDoflAaD6QQB+C3tvbU/Hk5KTosbEx0RcXF07rMJeXLy8vKvf5+Sm6p6dH5Z6ennytg50PhOYDCXTs2JtY5rLO/PVPp9PquNfXV2c1mTV4nr650tvbq3IcOyGC5gMJ9OEI+0EEc3//6OhI9PLysjrOjv3k8PBQxfY9XZew84HQfCA0Hwj0NV/mG//MGxf2w3H2ks9PZmdnVby4uCja/lr529ubr9dm5wOh+UCgz+F+fHyILhaLoufn5wOrwf40fX19LdrvMWPDzgdC84HQfCC/5n07x8fHoufm5gK7rv1HDm5ubgK7NjsfCM0HEtoXWf8LsPOB0HwgNB8IzQdC84HQfCA0HwjNB0LzgdB8IDQfCM0HQvOB0HwgNB8IzQfyBYxMzGenufu/AAAAAElFTkSuQmCC\" y=\"-6.776271\"/>\n   </g>\n   <g id=\"patch_43\">\n    <path d=\"M 464.666102 101.776271 \nL 464.666102 7.2 \n\" style=\"fill:none;stroke:#000000;stroke-linecap:square;stroke-linejoin:miter;stroke-width:0.8;\"/>\n   </g>\n   <g id=\"patch_44\">\n    <path d=\"M 559.242373 101.776271 \nL 559.242373 7.2 \n\" style=\"fill:none;stroke:#000000;stroke-linecap:square;stroke-linejoin:miter;stroke-width:0.8;\"/>\n   </g>\n   <g id=\"patch_45\">\n    <path d=\"M 464.666102 101.776271 \nL 559.242373 101.776271 \n\" style=\"fill:none;stroke:#000000;stroke-linecap:square;stroke-linejoin:miter;stroke-width:0.8;\"/>\n   </g>\n   <g id=\"patch_46\">\n    <path d=\"M 464.666102 7.2 \nL 559.242373 7.2 \n\" style=\"fill:none;stroke:#000000;stroke-linecap:square;stroke-linejoin:miter;stroke-width:0.8;\"/>\n   </g>\n  </g>\n  <g id=\"axes_10\">\n   <g id=\"patch_47\">\n    <path d=\"M 464.666102 220.379908 \nL 559.242373 220.379908 \nL 559.242373 125.803636 \nL 464.666102 125.803636 \nz\n\" style=\"fill:#ffffff;\"/>\n   </g>\n   <g clip-path=\"url(#p26937e7f62)\">\n    <image height=\"95\" id=\"imagefde483f525\" transform=\"scale(1 -1)translate(0 -95)\" width=\"95\" x=\"464.666102\" xlink:href=\"data:image/png;base64,\niVBORw0KGgoAAAANSUhEUgAAAF8AAABfCAYAAACOTBv1AAAFI0lEQVR4nO2dOUtsWxCFywHnGRWnREEcMVBQEFTQSI0NTUz8Bf4BI/0DRgoGipFgrJkYiAgqIigKIs7zPE8vq7dqv3uafued7rr3WV+0+ta+pw+L3av32UMbQ0TfZKgQq30DPxkzXxEzXxEzXxEzXxEzX5F47RuIFDExMZ6vv7+/f6mjjfV8Rcx8RaIaO24UIH4+/u71EhMTWWdkZIgavn5+fmZ9cXEh2r2+vv7r+/CL9XxFzHxFzHxFIp75oXIea6i/vr58vVdWVhbr7u5uUSsvL2e9trbGen5+XrQ7PT1l/fHx4es+wsV6viJmviIRj51wh5BeERTqGu6/v729sW5vbxe11tZW1hUVFazX19dFu7Ozs7DuNwis5yti5iuiOrEW9KTW/f09a3zaJSLKy8tj3dzczLq2tla029zcDPSeQmE9XxEzXxEzX5HfcjElNlb2CXziDfU9ge1ubm5ELSEhgXVOTg7rwsJCz2tEGuv5ipj5ikR1Yi3UuipqjAgiGQX4FOtGRFxcHOu0tDTP98JYcyMummu61vMVMfMVMfMVCTzz3VzH/E5PTxc1HPLl5+ezdqcGkL29PdbHx8eihosppaWlntfA7wp3OsEy/4dg5isSSOxg1CQlJYkarp12dHSIWlNTE+vs7GzW7t6Z29tb1peXl6xXVlZEOxw2Yoy54Nrs09OTZ7tIYz1fETNfkUBiJz7+78sUFRWJWk9PD2uMGSKi6+tr1ktLS6zPz89FO3yNseZOnuEkGS6sEBF9fn6yxtEObh2MNtbzFTHzFTHzFQk88xsbG0UNF6uxHRHRxMQEa9y25w7/MK9x5tKd/cSZTGxHRDQ0NPTLWmVlpWiH3z2RXlixnq+Ima9IILETajIqNTWV9dXVlahtbW2xvru7C+t6GAXv7++ihnE1OTkpan19fawxarq6ukS76elp1u5wNWis5yti5iti5isSSOZjDp+cnIjaw8MD65SUFFHDWcggFjHwGvgdQkQ0NTXFenBwkHVbW5toV1NTwxqHnUTBDz2t5yti5isSSOzg4oS7roozl2VlZaLW0NDAent7mzU+0frFjbGZmRnWAwMDrN3D0v39/axXV1dF7eXl5T/fF2I9XxEzX5HARzsHBweitrGxwbq6ulrUent7WS8uLrLe3d31vL7f32/A87U4isGDckREdXV1rJOTk0XNYud/hJmviJmvSODbBd2FkLm5OdadnZ2iVlVVxRrzf3h4WLTDfTyY66Hy3wWvMTIywtrd3/P4+Mg6MzNT1HDBPogncuv5ipj5igQeO+7kEw41d3Z2RA33+LS0tLAeHR0V7Y6Ojlj7/bjjU/Py8jLr8fFx0Q6Hw7jrmUgOo4P4ORjr+YqY+YpE/EAcjn5mZ2dFDbeZlJSUsK6vrxft8Ok03DO5Lvj/cI3BfZrG0U9ubq6o4aENjDG/UWg9XxEzXxEzX5GIZz4OyRYWFkQNFyuKi4tZu1v4cMYTT6b4XXTBJ2N3rRcXf9wsx+2JuGfI3T8U7neA9XxFzHxFIh47OMQ7PDwUtbGxMdb4hOueFvE6ceIuboT7cce42t/fFzUchuJBPCIZoaEm+Cx2/gDMfEXMfEViKIp/ns/9bRvcPlhQUMDaPUiNOYy/+Oo38/GEjHtaBq/hztB6nWi06YU/EDNfkajGzj/e3ONnvvz+kLXmn13yg/V8Rcx8RVRj56djPV8RM18RM18RM18RM18RM18RM18RM18RM18RM18RM18RM18RM1+RvwBQwO1ep2/AzQAAAABJRU5ErkJggg==\" y=\"-125.379908\"/>\n   </g>\n   <g id=\"patch_48\">\n    <path d=\"M 464.666102 220.379908 \nL 464.666102 125.803636 \n\" style=\"fill:none;stroke:#000000;stroke-linecap:square;stroke-linejoin:miter;stroke-width:0.8;\"/>\n   </g>\n   <g id=\"patch_49\">\n    <path d=\"M 559.242373 220.379908 \nL 559.242373 125.803636 \n\" style=\"fill:none;stroke:#000000;stroke-linecap:square;stroke-linejoin:miter;stroke-width:0.8;\"/>\n   </g>\n   <g id=\"patch_50\">\n    <path d=\"M 464.666102 220.379908 \nL 559.242373 220.379908 \n\" style=\"fill:none;stroke:#000000;stroke-linecap:square;stroke-linejoin:miter;stroke-width:0.8;\"/>\n   </g>\n   <g id=\"patch_51\">\n    <path d=\"M 464.666102 125.803636 \nL 559.242373 125.803636 \n\" style=\"fill:none;stroke:#000000;stroke-linecap:square;stroke-linejoin:miter;stroke-width:0.8;\"/>\n   </g>\n  </g>\n  <g id=\"axes_11\">\n   <g id=\"patch_52\">\n    <path d=\"M 578.157627 101.776271 \nL 672.733898 101.776271 \nL 672.733898 7.2 \nL 578.157627 7.2 \nz\n\" style=\"fill:#ffffff;\"/>\n   </g>\n   <g clip-path=\"url(#p79b367eb6a)\">\n    <image height=\"95\" id=\"imageddfe4f66ff\" transform=\"scale(1 -1)translate(0 -95)\" width=\"95\" x=\"578.157627\" xlink:href=\"data:image/png;base64,\niVBORw0KGgoAAAANSUhEUgAAAF8AAABfCAYAAACOTBv1AAADAklEQVR4nO2csWoqQRSGN8mNBpuIWgVJlVKrCIK9jRZirUU6UYQ8QLDTR/AJUqQRizRiK1ipkMLWQrBUtBOMaKp77sySvYjX9d/J/b/qH2YSDh+Hw84ac2FZ1t4iEC7RBfzPUD4QygdC+UAoHwjlA6F8IJQPhPKB/EIX8B13d3faul6vSx6NRpKbzebZanIDdj4QygdC+UA8M/Ovrq4kNxoNbe/p6enbc5z55GgoH4hnxs7l5Z8+SCQSjuceHh7OUc5ZYOcDoXwgnhk7n5+fkieTibYXi8Uk39zcSL6+vnb8HSbAzgdC+UAoH4hnZr5Kt9vV1rlcTvL9/b3k29tb7dx8Pne3sBPDzgdC+UA8OXYWi4XjXiQSkfz8/Kzt1Wo112pyA3Y+EMoHQvlALiwP/ol4NBrV1tPpVLL69nM8Hmvn4vG4u4WdGHY+EMoH4smxY+f19VVysViUvFqttHPpdFrycDh0va5/hZ0PhPKBePKGa6fVaklWx04wGNTOlUolyRw75K9QPhDKB2LEzFffcu52O8nqbdey9EdNE2DnA6F8IEbccFWcbruWpd947S/ZZrOZq3UdAzsfCOUDoXwgRjxqqqivDewzX33dUC6Xtb2XlxdX6zoGdj4Qygdi3KNmKpWS3O/3Hc8tl0ttHQqFXKvpWNj5QCgfiHFjR8U+dtSRtNlstL1kMin54+PD1boOhZ0PhPKBUD4Q4264Kr1eT1urM9/n82l76v9zyGaz7hZ2IOx8IJQPxOhHTfv/aBgMBo5nt9utZPuXp1Gw84FQPhCjx47f79fW6o338fHR8ecymYzkTqdz+sIOhJ0PhPKBUD4Qo2e+nXw+L7ndbjuee3t7k1woFLS9/f58Otj5QCgfyI8aO+FwWLL9AxP7d3t/EwgEtPV6vT55XU6w84FQPhDKB2L0hyl21G+wVCoVbe/9/V1ytVqVbP+g/Zyw84FQPpAf9ahpGux8IJQPhPKBUD4QygdC+UAoHwjlA6F8IJQPhPKBUD4QygdC+UAoHwjlA/kCXBiSKdrbqi8AAAAASUVORK5CYII=\" y=\"-6.776271\"/>\n   </g>\n   <g id=\"patch_53\">\n    <path d=\"M 578.157627 101.776271 \nL 578.157627 7.2 \n\" style=\"fill:none;stroke:#000000;stroke-linecap:square;stroke-linejoin:miter;stroke-width:0.8;\"/>\n   </g>\n   <g id=\"patch_54\">\n    <path d=\"M 672.733898 101.776271 \nL 672.733898 7.2 \n\" style=\"fill:none;stroke:#000000;stroke-linecap:square;stroke-linejoin:miter;stroke-width:0.8;\"/>\n   </g>\n   <g id=\"patch_55\">\n    <path d=\"M 578.157627 101.776271 \nL 672.733898 101.776271 \n\" style=\"fill:none;stroke:#000000;stroke-linecap:square;stroke-linejoin:miter;stroke-width:0.8;\"/>\n   </g>\n   <g id=\"patch_56\">\n    <path d=\"M 578.157627 7.2 \nL 672.733898 7.2 \n\" style=\"fill:none;stroke:#000000;stroke-linecap:square;stroke-linejoin:miter;stroke-width:0.8;\"/>\n   </g>\n  </g>\n  <g id=\"axes_12\">\n   <g id=\"patch_57\">\n    <path d=\"M 578.157627 220.379908 \nL 672.733898 220.379908 \nL 672.733898 125.803636 \nL 578.157627 125.803636 \nz\n\" style=\"fill:#ffffff;\"/>\n   </g>\n   <g clip-path=\"url(#pa0212cbca8)\">\n    <image height=\"95\" id=\"imagea548a9bde1\" transform=\"scale(1 -1)translate(0 -95)\" width=\"95\" x=\"578.157627\" xlink:href=\"data:image/png;base64,\niVBORw0KGgoAAAANSUhEUgAAAF8AAABfCAYAAACOTBv1AAAEHUlEQVR4nO2cTSt0YRjH7/FSiBQRFl6KvCZfQJlkYzUbG1nwGazFJ5EdCykrykoSykL4ANTEQhJTyOuzeq7nuu7M6TTPOfM/M/6/1X/mvpw5/btcXed+OSnn3LcjECrQN/CboflAaD4Qmg+E5gOh+UCq0DcQhlQqJfr7u3w6Y2Y+EJoPJDFlp6amRvTIyIgZ6+rqEn16eio6m82auM/Pz5juLh6Y+UBoPhCaDwRa83UL2dvbK3p5ednE6bG9vT3RS0tLJu7p6Ul0KbSkzHwgNB9IYlrN9/d30cPDw2asra1N9ODgoOivry8TVwqlRsPMB0LzgUDLji4Td3d3onUJcs65yspK0T09PaKrqv7/9nXH5d9T3DDzgdB8IDQfSGJazVwuJ/r8/NyM6Trf2toqurOz08Q9PDyE+i1d5/2ar4m7/jPzgdB8IIkpOx8fH6I3NjbM2PT0tGi96LKwsGDiFhcXRQctrOhSo9tY5+xTc9yLM8x8IDQfCM0Hkpiarzk+Pjaf7+/vRXd0dIienJw0cY2NjaL9tjNf2+h/78+UxgkzHwjNBxJJ2YniKVHHPT4+mrGzszPR7e3toru7u03c6Oio6P39/VC/hVyQYeYDoflAYu92Ctlh/Pb2Zj5vb2+LTqfToqurq03c7Oys6MPDQzOmF2j0fSDXfZn5QGg+EJoPJJKar+tmUNsZFj3D6ZxzJycnol9fX0XX1dWZuKmpKdH19fVmLOxCSzFh5gOh+UAibzX91q2QMuRf4/b29kfd1NRk4pqbm0XrbYXOOXd0dJT3+ppiruky84HQfCA0H0js0wuF1En/b/SJk93dXdFDQ0MmTreeMzMzZkyfYvSnL/L9dtDiehT1n5kPhOYDSbkSeM1XRcW/HBkfHxe9s7Nj4mpra0Xf3NyYsbGxMdF6O3rY3/U/6z09hZYgZj4Qmg8EunXE/7f+S9C66uXlpejr62sTNzAwILqlpcWMTUxMiN7c3Pzx2j5xbyth5gOh+UBoPpCi1nx/xjDfDGLQCcF8T7vOOdfX1yfaP6k4NzcnemtrS3TQNnCeTCljaD6Qoj7hhi07QS2d/hv/HQ16i6C/0KJ3Ovf39//4fbFh5gOh+UAS0+0Uspv56urKjOnJNL/s6IMTmUxG9Orqat7rxw0zHwjNB0LzgSTyQFxYXl5ezOeLiwvRfhuq12Pn5+dFr6+vm7jn5+cI7zAYZj4Qmg+kqGUniq2EGv9JeG1tTbR/RrehoUG0npzT677O2VLGibUyhuYDoflAoDVfL2REcaJFv7NhZWXFjOn9PgcHB6L910hyeuGXQPOBlMR2wbDofUD+AWl9QE4fuNNvNXSOr3z5NdB8IGVVdkoNZj4Qmg+E5gOh+UBoPhCaD4TmA6H5QGg+EJoPhOYDoflAaD6QP+XVXdZCv4/xAAAAAElFTkSuQmCC\" y=\"-125.379908\"/>\n   </g>\n   <g id=\"patch_58\">\n    <path d=\"M 578.157627 220.379908 \nL 578.157627 125.803636 \n\" style=\"fill:none;stroke:#000000;stroke-linecap:square;stroke-linejoin:miter;stroke-width:0.8;\"/>\n   </g>\n   <g id=\"patch_59\">\n    <path d=\"M 672.733898 220.379908 \nL 672.733898 125.803636 \n\" style=\"fill:none;stroke:#000000;stroke-linecap:square;stroke-linejoin:miter;stroke-width:0.8;\"/>\n   </g>\n   <g id=\"patch_60\">\n    <path d=\"M 578.157627 220.379908 \nL 672.733898 220.379908 \n\" style=\"fill:none;stroke:#000000;stroke-linecap:square;stroke-linejoin:miter;stroke-width:0.8;\"/>\n   </g>\n   <g id=\"patch_61\">\n    <path d=\"M 578.157627 125.803636 \nL 672.733898 125.803636 \n\" style=\"fill:none;stroke:#000000;stroke-linecap:square;stroke-linejoin:miter;stroke-width:0.8;\"/>\n   </g>\n  </g>\n  <g id=\"axes_13\">\n   <g id=\"patch_62\">\n    <path d=\"M 691.649153 101.776271 \nL 786.225424 101.776271 \nL 786.225424 7.2 \nL 691.649153 7.2 \nz\n\" style=\"fill:#ffffff;\"/>\n   </g>\n   <g clip-path=\"url(#p086264b55d)\">\n    <image height=\"95\" id=\"imagec785dce42e\" transform=\"scale(1 -1)translate(0 -95)\" width=\"95\" x=\"691.649153\" xlink:href=\"data:image/png;base64,\niVBORw0KGgoAAAANSUhEUgAAAF8AAABfCAYAAACOTBv1AAAD8UlEQVR4nO2dTyhtURTG9+WllJJQMpKplDIxkD8TlCEykEiKlAEyUSaYmTNB/iZ/ipSUgcKYyEyIJGGAFMXAG7319jq9e7v3OOd87/D9Rt9uXfcsn9Vyjr32FTHGfBoCIQmdwE+G5gOh+UBoPhCaD4TmA6H5QGg+EJoP5Bc6gUQpLS0VPTQ0pGJ7e3uix8fHVezx8VH0+/u7T9klBisfCM0HQvOBREzI/qp5dHQkurCwUMUikYjoz0/9bU1OTooeHh4WfX197XGG8cPKB0LzgYTuVjMWExMTond3d1Wsp6dH9MjIiOiWlhb/E4sCKx8IzQfyrdpOcnKy6IWFBRXb2NgQnZGREVhOsWDlA6H5QGg+kNA94XZ2dooeGxtTsfv7e9E5OTmB5eQWVj4Qmg8kdG3H5vb2Vq3T0tJEl5eXq9jh4WEgOSUCKx8IzQdC84GEuudPTU2pdWtrq+jFxUUVa2pqCiKlhGDlA6H5QELddhoaGtR6aWlJ9MvLi4pVVlaK/l9uO1n5QGg+kFBvpqysrKh1bW2t6ObmZhXLzMwMJKdEYOUDoflAaD6QUN9qOsnPzxd9dnamYvaYYXV1teiHhwff84oGKx8IzQfie9uxZ2SKiopUrKamRnR/f79oey/WGGNmZmbiutbc3Jzo4+PjqK+bn58XzXHBHwrNB0LzgXje84uLi9V6fX1ddG5ubvREYpwqiZd43+Pi4kK0/XvHGGPOz89dXdsNrHwgNB+I521ndnZWrWPtndqHlp+enkQ7DzDHiz2rU1FRoWIlJSX//JrV1VW1bmxsdHVtN7DygdB8IIFupmxubqp1XV2d6I+Pjy+///b2tujU1FQVGxgYEN3V1SW6vr7+y9d1CysfCM0HQvOBeN7z7adMY4xJSvr783U+4aakpIj2oufbvL29qfXg4KDom5sb0c7TLfYIYltbm6c5OWHlA6H5QDxvO319fWr9+voqur29XcXscb/p6WmvU4nK/v6+6Lu7OxWzJ513dnZUzN6E8QJWPhCaD8T3PdyqqirRW1tbUV9nn5sNcpyjoKBArU9OTkSvra2pmN2SnFPQbmDlA6H5QGg+EN97flZWlmj75IgxesPDftLs7u72M6WYjI6Oiu7t7VWxjo4O0fZHirmFlQ+E5gMJdErZ+fFap6enotPT00U7b/GC3Fe18zg4OFCx7Oxs0faIjHMiOl5Y+UBoPhCaDyTQDXT7HwgYox/tl5eXRTtH9vLy8kRfXl76ktsfnp+fRTtHH8vKykRfXV19+VqsfCA0H8i3OhAXNlj5QGg+EJoPhOYDoflAaD4Qmg+E5gOh+UBoPhCaD4TmA6H5QGg+EJoPhOYD+Q20FO6WgiwtSgAAAABJRU5ErkJggg==\" y=\"-6.776271\"/>\n   </g>\n   <g id=\"patch_63\">\n    <path d=\"M 691.649153 101.776271 \nL 691.649153 7.2 \n\" style=\"fill:none;stroke:#000000;stroke-linecap:square;stroke-linejoin:miter;stroke-width:0.8;\"/>\n   </g>\n   <g id=\"patch_64\">\n    <path d=\"M 786.225424 101.776271 \nL 786.225424 7.2 \n\" style=\"fill:none;stroke:#000000;stroke-linecap:square;stroke-linejoin:miter;stroke-width:0.8;\"/>\n   </g>\n   <g id=\"patch_65\">\n    <path d=\"M 691.649153 101.776271 \nL 786.225424 101.776271 \n\" style=\"fill:none;stroke:#000000;stroke-linecap:square;stroke-linejoin:miter;stroke-width:0.8;\"/>\n   </g>\n   <g id=\"patch_66\">\n    <path d=\"M 691.649153 7.2 \nL 786.225424 7.2 \n\" style=\"fill:none;stroke:#000000;stroke-linecap:square;stroke-linejoin:miter;stroke-width:0.8;\"/>\n   </g>\n  </g>\n  <g id=\"axes_14\">\n   <g id=\"patch_67\">\n    <path d=\"M 691.649153 220.379908 \nL 786.225424 220.379908 \nL 786.225424 125.803636 \nL 691.649153 125.803636 \nz\n\" style=\"fill:#ffffff;\"/>\n   </g>\n   <g clip-path=\"url(#p323172c2b0)\">\n    <image height=\"95\" id=\"image44866c1fa8\" transform=\"scale(1 -1)translate(0 -95)\" width=\"95\" x=\"691.649153\" xlink:href=\"data:image/png;base64,\niVBORw0KGgoAAAANSUhEUgAAAF8AAABfCAYAAACOTBv1AAAFk0lEQVR4nO2dSyhubRTHl/s1lw4ll5Ncyr1kIqWkhDJhdjLBSBgYSJKRjAxJnaEJZcRMBki5RJRLIkXJpcg1ud/O6FvfWs95393+3rPfb533nPUb/be13nfvs3rO33PbDz8A+ARFBH/pB/ib0eILEij9AL+Cn58fu/789C0H1ZYviBZfEC2+ID7h+dTbIyMjURcUFLC84OBg1IuLiyz2/PzspafzHG35gmjxBfEJ26FWU1NTg7qtrY3lhYeHo+7q6mKxmZkZ1K+vr04/okdoyxdEiy+IFl+Q39LzzWmDiIgI1M3NzaiLiorcfkdDQwO7XllZQX17e4vanJKg9zZjTk9faMsXRIsvyG9pOyahoaGo4+PjUQcFBbE8aguJiYksRq3r7u4O9cfHB8sLCAhw+X3mNf2cp3akLV8QLb4g/6vt2F38MH9+fn6Oent7G3VGRgbLe39/Rz0/P89il5eXLvOs7m3aWlhYGGo6Uffw8GD5/O7Qli+IFl8QLb4gjnu+6ev+/v4uNQDvrll13ai/jo6Ooq6srHT7HMvLy26/w8qT397e3Mbo85v/Tk/Qli+IFl8Qr9uO1UQVjVn9N6af29raQn1zc8PyoqKiUNP1XFf3toPZJXVnXTrC9UG0+IJo8QVx3PNN/6O+6ak30s8dHR2hnpubY3m065mfn89i4+PjLp/J7n0Bfp4B/VW05QuixRfE67bjNLS719fXx2IpKSmoS0pKWCwuLg41nSW1el673V9P0ZYviBZfEJ9Yw3XHwcEBu56amkL97ds3FmtsbEQ9MDCA+vHxkeU5MXK1i7Z8QbT4gmjxBXHc8+m+FwCAwMB/b0H33wDwEaPVDOfT05PLz8TGxrK8r1+/ok5OTmax1tZW1Gtra6hnZ2dZntViim4X/IPQ4gviiO1Qm6BvhwAAVFVVoa6trWWxpKQk1NRC6P4YAICLiwvUk5OTqOluYwCA4uJi1HRhBQAgOjoadXt7O+qFhQWWZ2U7TqMtXxAtviBafEEc9/z09HQW6+joQJ2VlcVitOtGZytNz6czkvReOzs7LI++ZWgumNAF9dLSUtSZmZksb3Nz0+XzeQNt+YJo8QVxxHboNrqysjIWS0tLQx0SEsJiZ2dnqMfGxlCb5yTQbuPV1RXqvb09ljc9PY26s7OTxajlUVvr6elhefX19ahfXl7Am2jLF0SLL4jjE2sxMTHsmvYyzB7I0tIS6v7+ftTX19csj07WUesyJ/GoXa2vr7PY8PAw6ry8PNTl5eUsr6KiAjUdTQPo1pE/Ci2+IFp8QRzxfHcjVTNmdt3om4XU583fDfSajmKt3nSh3w0AUFdXh3pkZAR1bm4uy6Ndz42NDRY7PT11eS9P0ZYviBZfEMe7muZeGrr+Ss8/AABISEhAbfcFM2pjdncbA/DdzXQUOzg4yPKoDTU1NbHY9+/fUdMFHk8tSFu+IFp8QRy3HbpW+tPNAvntqqurUQ8NDaE25+ndzav/l4Osaez4+Bg1tRIAgN7eXtR0tAsAsL+/j3piYgK1nr3gg2jxBdHiC+KI59Ou1urqKosdHh6izsnJYbEvX76gpntpzNNgzZed/8Ec4VLsbvszf7/s7u6iTk1NZTG6MESPGzs5OWF5dk+s1ZYviBZfEMcn1szJqJaWFtTd3d0sRm2IjnYLCwtZHj2QlE7cWXU17XZD6UgVgB8pQ7eYAPDJP9ptNu3P6rwJirZ8QbT4gmjxBfEDL/95PuqHtHsGAJCdnY2aLrSbXTc6HXB/f4/a7hGNdp8PgC/Qm1Ml9KhHelSkuUhkd5u5tnxBtPiCeN12rKDdNav9PXTE6PTeGSu8/ef/tOULosUXRNR2/na05QuixRdEiy+IFl8QLb4gWnxBtPiCaPEF0eILosUXRIsviBZfEC2+ID8Ay44PTYZd3sgAAAAASUVORK5CYII=\" y=\"-125.379908\"/>\n   </g>\n   <g id=\"patch_68\">\n    <path d=\"M 691.649153 220.379908 \nL 691.649153 125.803636 \n\" style=\"fill:none;stroke:#000000;stroke-linecap:square;stroke-linejoin:miter;stroke-width:0.8;\"/>\n   </g>\n   <g id=\"patch_69\">\n    <path d=\"M 786.225424 220.379908 \nL 786.225424 125.803636 \n\" style=\"fill:none;stroke:#000000;stroke-linecap:square;stroke-linejoin:miter;stroke-width:0.8;\"/>\n   </g>\n   <g id=\"patch_70\">\n    <path d=\"M 691.649153 220.379908 \nL 786.225424 220.379908 \n\" style=\"fill:none;stroke:#000000;stroke-linecap:square;stroke-linejoin:miter;stroke-width:0.8;\"/>\n   </g>\n   <g id=\"patch_71\">\n    <path d=\"M 691.649153 125.803636 \nL 786.225424 125.803636 \n\" style=\"fill:none;stroke:#000000;stroke-linecap:square;stroke-linejoin:miter;stroke-width:0.8;\"/>\n   </g>\n  </g>\n  <g id=\"axes_15\">\n   <g id=\"patch_72\">\n    <path d=\"M 805.140678 101.776271 \nL 899.716949 101.776271 \nL 899.716949 7.2 \nL 805.140678 7.2 \nz\n\" style=\"fill:#ffffff;\"/>\n   </g>\n   <g clip-path=\"url(#p01a9b5a167)\">\n    <image height=\"95\" id=\"image5d15f59e49\" transform=\"scale(1 -1)translate(0 -95)\" width=\"95\" x=\"805.140678\" xlink:href=\"data:image/png;base64,\niVBORw0KGgoAAAANSUhEUgAAAF8AAABfCAYAAACOTBv1AAAD0UlEQVR4nO2cyyt1YRTG1+FLyCXXkcuEohAzf4AyI0pu5R9AMmFEUZIyMjUwklySlIFSRgaihJJcBgYKRZQBGfhmy7v2Z4vP3vs5dZ7f6Fmt97z77Wm1znv2fveJici7EAhJ6AUkMjQfCM0HQvOB0HwgNB/IH/QC4pmsrCwTHx4eqh4YGFC9vr7+X/Oz8oHQfCBsO1+wsrJi4vz8fNUXFxe/np+VD4TmA6H5QNjzPZSUlKhuaGgwuYWFBdUnJye/vhYrHwjNB5LwbaegoMDEW1tbvmOnpqYCvTYrHwjNB5Lwbaenp8fEZWVlqldXV03u/Pw80Guz8oHQfCA0H0hMEvDcTm1treqdnR2TS01NVV1ZWWlyZ2dnga6DlQ+E5gNJmK1mUtJHnQ0NDal224yIyNjYmOqg28w/awp1dvIlNB8IzQeSMFvNjo4O1fPz86qvr6/NOHcb+vDwEOqaWPlAaD6QuNlqus9Lu7q6TO7x8VH16Oio6ufnZ9/50tLSTNze3v7puO3tbROH3WpcWPlAaD4QaNtxW417NC87O9uMe3//2JAlJyerHh4eNuNeXl5Uj4yMmFxzc7Pqq6sr1ePj4z9ddmCw8oHQfCA0H0ikPT83N9fES0tLqjMzM1W7Pd4b9/X1qa6oqDDjent7Vbe2tvrOsbm5qfry8vJbaw8DVj4Qmg8k0rbjPfXrbimPj49VuzfBRESqq6tVt7S0qG5razPjdnd3Vefk5Jic+8t1ZmbmJ8sODVY+EJoPhOYDibTnd3Z2+ub29vZUn56empwbLy8vq/Z+h+Tl5fnOPzs7qzqIt0qCgJUPhOYDibTtuC+UiYg0NTWp3tjY+PF8+/v7Jm5sbPQdW19frzojI0P1Vw9kwoaVD4TmA4m07by+vpo4FoupHhwcVL22tmbGuUf63B1TeXm573yuFhFJT09XnZKS8oNVhwcrHwjNB0LzgUR6XLC0tNTER0dHqt3tn3uHU0Tk9vZWtfdXrR93d3cmrqurU31zc/OtOcKGlQ+E5gOJdKvpnpcREZmbm1Pd39+vuqamxozzPtP14+npSfX09LTJRXkM8Luw8oHQfCDQlyOKiopUHxwcqPbel/drO4uLiyZ2j5XEY5vxwsoHQvOB0HwgcfNCXHd3t+qJiQmTKy4u/vQzhYWFJr6/vw9+YSHCygdC84HETdtx8f5v/eTkpOqqqirV3ptsb29v4S4sYFj5QGg+EJoPJC57fqLAygdC84HQfCA0HwjNB0LzgdB8IDQfCM0HQvOB0HwgNB8IzQdC84HQfCA0HwjNB0LzgdB8IH8Bst7VZIGV6SoAAAAASUVORK5CYII=\" y=\"-6.776271\"/>\n   </g>\n   <g id=\"patch_73\">\n    <path d=\"M 805.140678 101.776271 \nL 805.140678 7.2 \n\" style=\"fill:none;stroke:#000000;stroke-linecap:square;stroke-linejoin:miter;stroke-width:0.8;\"/>\n   </g>\n   <g id=\"patch_74\">\n    <path d=\"M 899.716949 101.776271 \nL 899.716949 7.2 \n\" style=\"fill:none;stroke:#000000;stroke-linecap:square;stroke-linejoin:miter;stroke-width:0.8;\"/>\n   </g>\n   <g id=\"patch_75\">\n    <path d=\"M 805.140678 101.776271 \nL 899.716949 101.776271 \n\" style=\"fill:none;stroke:#000000;stroke-linecap:square;stroke-linejoin:miter;stroke-width:0.8;\"/>\n   </g>\n   <g id=\"patch_76\">\n    <path d=\"M 805.140678 7.2 \nL 899.716949 7.2 \n\" style=\"fill:none;stroke:#000000;stroke-linecap:square;stroke-linejoin:miter;stroke-width:0.8;\"/>\n   </g>\n  </g>\n  <g id=\"axes_16\">\n   <g id=\"patch_77\">\n    <path d=\"M 805.140678 220.379908 \nL 899.716949 220.379908 \nL 899.716949 125.803636 \nL 805.140678 125.803636 \nz\n\" style=\"fill:#ffffff;\"/>\n   </g>\n   <g clip-path=\"url(#p3896d8e080)\">\n    <image height=\"95\" id=\"image44deed7054\" transform=\"scale(1 -1)translate(0 -95)\" width=\"95\" x=\"805.140678\" xlink:href=\"data:image/png;base64,\niVBORw0KGgoAAAANSUhEUgAAAF8AAABfCAYAAACOTBv1AAAFY0lEQVR4nO2dyyu9XRTHl/v9kpJLkjKhTBgwUUxQxoxRlJlMjfgPDBgxMaKUiDI3IKTIBMn9mnvu93e2+q79OqfzPr/nnPV7sz6j77G359l922e19t7reU4UEX2ToUK09gB+M2a+Ima+Ima+Ima+Ima+IrHaA/ivREVFsf7+/vMsGa/nfk5MTBRt+fn5rPf391m/v797urfNfEXMfEV8CTv4VY2NlZcMFhqw7evry4+h/Dgm93NCQgLrjIwM0a+4uJh1RUWFaLu8vPxR397eehqjzXxFzHxFzHxFPMf8mJgY1mlpaazd9Oz5+Zn1x8eHaPv8/GSN8d/th21e08v4+HjWeXl5rBsaGkS/urq6gNfY3t5mvbS0xNpi/v8QM18Rz2EHw0tmZibrx8dH0Q9Dy8vLi2gLFEKio+WcwBCHISnUNJZIppoFBQWsS0tLRb/s7GzWDw8Pom1nZ4f18fFxwHuHis18Rcx8RTyHHfz6X19fs3ZDC246hZqpBAsZGILcfsGu//b2xhqzk5ycnID/c3R0JD5jtoPX84rNfEXMfEXMfEV8ifkY1/3YnXRjN94LY767cxks5uO4Xl9fWePuJBFRVlYW65ubG9G2t7cX0r1CxWa+Ima+Ip7DDq5cww1+xfG+wQ5M3LCAq2Y88HFTxru7O9bz8/Oi7fT0NOD1vWAzXxEzXxEzX5GI1u1gmkgkD7LxsMPdGQ20k+nG/Li4uB+vR0SUm5vLur6+/scxEBFNT0+zxgMTon9vnfwpNvMVMfMVCXvYwbSusLBQtPX09LCura1lfXBwIPq1tbWxPjw8ZO2GHVyddnV1iTYMNXjmvL6+LvqtrKywvrq6Em1+p9c28xUx8xXxPewEy0BqampEG5Zt4KFGUVGR6Le8vMy6paWF9eLiouhXXl7Ourm5WbRhuQhmT7Ozs6Lf7u4uaz8OTIJhM18RM18RM1+RiKaauMokknUwSHp6uvickpLCenh4mPXm5qbohylkcnKyaMM0EVPI8fFx0Q/LG/3YuQyGzXxFzHxFwh52MPW8v78XbXNzc6x7e3sD9mtqamLd3t7Ourq6WvTDMIHhg0imkENDQ6xxRUvk/xMywbCZr4iZr4iZr4jvMd9Nz7CmB1NBIplCrq2tsXbrZVZXV1lj2XZfX5/oh4fk7ji2trZYY3qJNTyRxma+Ima+ImFPNd2H25DGxkbWmPKNjo4GvEZ/fz/r7u5u0Q8PU9wzXNyhxDPicK9ig2EzXxEzX5GIhh2s8iWSZ7q4YeYyNjbGGrOTqakp0a+1tTXgNUpKSn78u4WdX4qZr4iZr0jYYz7GVDwId8GHqkdGRkRbVVUV64GBAdbuUyW4mnZLEy8uLlgHS38jic18Rcx8RSJapYylfkRyVYsHI27I6OzsZF1WVsbaTV3Pz88DXmNwcJB1qPU47jXwYMiP0GUzXxEzX5EoiuD7891SwsrKStYzMzOscYOMSGZMWPaB+/xE8h0QExMTom1ycpJ1sJeQ4hjdNw/igxSYaXmtXraZr4iZr4iZr0hEY75LUlISa3yrX0dHh+iHJeOYruLDa0RECwsLrDc2NkRbqA+zYUk7vl2WSK7C8d077uvAQsVmviJmviKqYQdLPTAEuSkelpzgV9x9YA1XrqGW/bnpb2pqKmt80oVIrnjxqZinp6eQ7uViM18RM18RM18R1d9MwbiMcdMt7z47O2Ptx0utEffttfhEi7uriX1xq8Edb6jjspmviJmvyF/zU01+hxOv4Er45OREtAX6jRev47WZr4iZr4jqCve3YzNfETNfETNfETNfETNfETNfETNfETNfETNfETNfETNfETNfETNfkX8AcVQOdgsOw4sAAAAASUVORK5CYII=\" y=\"-125.379908\"/>\n   </g>\n   <g id=\"patch_78\">\n    <path d=\"M 805.140678 220.379908 \nL 805.140678 125.803636 \n\" style=\"fill:none;stroke:#000000;stroke-linecap:square;stroke-linejoin:miter;stroke-width:0.8;\"/>\n   </g>\n   <g id=\"patch_79\">\n    <path d=\"M 899.716949 220.379908 \nL 899.716949 125.803636 \n\" style=\"fill:none;stroke:#000000;stroke-linecap:square;stroke-linejoin:miter;stroke-width:0.8;\"/>\n   </g>\n   <g id=\"patch_80\">\n    <path d=\"M 805.140678 220.379908 \nL 899.716949 220.379908 \n\" style=\"fill:none;stroke:#000000;stroke-linecap:square;stroke-linejoin:miter;stroke-width:0.8;\"/>\n   </g>\n   <g id=\"patch_81\">\n    <path d=\"M 805.140678 125.803636 \nL 899.716949 125.803636 \n\" style=\"fill:none;stroke:#000000;stroke-linecap:square;stroke-linejoin:miter;stroke-width:0.8;\"/>\n   </g>\n  </g>\n  <g id=\"axes_17\">\n   <g id=\"patch_82\">\n    <path d=\"M 918.632203 101.776271 \nL 1013.208475 101.776271 \nL 1013.208475 7.2 \nL 918.632203 7.2 \nz\n\" style=\"fill:#ffffff;\"/>\n   </g>\n   <g clip-path=\"url(#pb1f6e180c3)\">\n    <image height=\"95\" id=\"image16c9b11138\" transform=\"scale(1 -1)translate(0 -95)\" width=\"95\" x=\"918.632203\" xlink:href=\"data:image/png;base64,\niVBORw0KGgoAAAANSUhEUgAAAF8AAABfCAYAAACOTBv1AAAD40lEQVR4nO2cTSg9URjG53KR2EixuT6KbCxEFnaUsiFhIYmlLCQfK3ZsSPZSxELZWFEsLFDKRxKKkiwoK2wsEPn4L/71Ou9kbuPeufeZy/NbPad35pzT09vbzJw5J2BZ1qdFICShJ/CXoflAaD4Qmg+E5gOh+UBoPhCaD4TmA6H5QGg+EJoPhOYDCaInEA2dnZ2qXVVVJXp0dFTFbm9v4zKnn8DMB0LzgQSsBFhMyc3NFT07Oyu6srJSXZeTkyP66upKxRYWFkSPjIx4O8EIYeYDoflAfFl20tPTVXtubk50a2trRH2+v7+LXl1dFd3R0aGue3x8jKj/SGDmA6H5QGg+EF/W/IqKCtU+ODhwdd/m5qbompoaFQsEAt/eMzU1pdq9vb2uxvICZj4Qmg/Elx/W6urqHGNvb2+i5+fnVWxmZkZ0f3+/irW3t3/bXygUimCG3sDMB0LzgdB8INCaX1tbKzolJUV0U1OT4z3B4NeUu7q6VMze9jvMfCA0H4gnZSc5OVl0eXm5ii0uLn4NFtTD5eXliU5Kil8efH5+vdQfHh7GbVw7zHwgNB+IJx/WJicnRQ8ODkbbXUy4u7sTvbW1JbqtrQ0wm/8w84HQfCA0H4gnNd98dPv4+HB9n3nt9PS06L29PXVdfn6+6MvLS9FnZ2eOfZeWlqr27u6u6JubG9dzjCXMfCA0H4gnZcf8Azg7O1vFXl5eRE9MTKjY8vKy6OPj42inkXAw84HQfCA0H4gnNd/896W7u1vFzLre0tIS7VC/CmY+EJoPxJPFlJ2dHdH2smMurtj/kfHLmyYKZj4Qmg/Ek6edzMxM0cPDwyo2NDQk+v7+XsVKSkpEPzw8RDuNhIOZD4TmA6H5QDzfmZKamqraS0tLohsaGlRsbGxM9Pj4uOinpycvp+RbmPlAaD6QmG+Iy8jIEL29va1iZWVlopubm0WvrKw49ldYWCjafr6CudZrf3v+ydpyvGDmA6H5QGK+OcI8y8C+0a2vr0/06+urYx/mCVJra2vf9m1ZusStr6+r2Onpqej9/X3RR0dH6rrn52fH/r2GmQ+E5gOh+UB8efaCnerqatEbGxsxHev8/Fx0uN8Rw+H2TCBmPhCaDyQhyk5RUZHonp4e0fZ9t+bxYE5HvMQDc4NgOJj5QGg+EJoPJCFqvlvq6+tFNzY2qph57FdxcbGr/i4uLlS7oKBAdFpamuN9rPkJAM0H8qvKTjiysrJEm4su4bi+vlbtgYEB0eZXUnt5Ojk5cdU/Mx8IzQfyZ8qOH2HmA6H5QGg+EJoPhOYDoflAaD4Qmg+E5gOh+UBoPhCaD4TmA/kH0v3hZC0NOusAAAAASUVORK5CYII=\" y=\"-6.776271\"/>\n   </g>\n   <g id=\"patch_83\">\n    <path d=\"M 918.632203 101.776271 \nL 918.632203 7.2 \n\" style=\"fill:none;stroke:#000000;stroke-linecap:square;stroke-linejoin:miter;stroke-width:0.8;\"/>\n   </g>\n   <g id=\"patch_84\">\n    <path d=\"M 1013.208475 101.776271 \nL 1013.208475 7.2 \n\" style=\"fill:none;stroke:#000000;stroke-linecap:square;stroke-linejoin:miter;stroke-width:0.8;\"/>\n   </g>\n   <g id=\"patch_85\">\n    <path d=\"M 918.632203 101.776271 \nL 1013.208475 101.776271 \n\" style=\"fill:none;stroke:#000000;stroke-linecap:square;stroke-linejoin:miter;stroke-width:0.8;\"/>\n   </g>\n   <g id=\"patch_86\">\n    <path d=\"M 918.632203 7.2 \nL 1013.208475 7.2 \n\" style=\"fill:none;stroke:#000000;stroke-linecap:square;stroke-linejoin:miter;stroke-width:0.8;\"/>\n   </g>\n  </g>\n  <g id=\"axes_18\">\n   <g id=\"patch_87\">\n    <path d=\"M 918.632203 220.379908 \nL 1013.208475 220.379908 \nL 1013.208475 125.803636 \nL 918.632203 125.803636 \nz\n\" style=\"fill:#ffffff;\"/>\n   </g>\n   <g clip-path=\"url(#p1bd293764d)\">\n    <image height=\"95\" id=\"image6a5923f90d\" transform=\"scale(1 -1)translate(0 -95)\" width=\"95\" x=\"918.632203\" xlink:href=\"data:image/png;base64,\niVBORw0KGgoAAAANSUhEUgAAAF8AAABfCAYAAACOTBv1AAAFA0lEQVR4nO2cSyutYRTH13a/yzUluaSM5JooyScgI5IBxnwCMyKfwEhmZoqhkoERkSIzlwFS5H6/c2ar/3rq3WeffV577Z31G/1Pz7O35/xbe73PZT1vgIi+yVAhTnsAvxkzXxEzXxEzXxEzXxEzXxEzXxEzXxEzX5EE7QH8K4FAwLPt+zu2FusW+YqY+YqY+YrERM6Pj49nnZeXxzo/P1/0u7m5YX1+fi7aPj4+WEfLs8EiXxEzX5GoTDsJCXJY9fX1rIeGhljX1taKfmlpaax3dnZE2/T0NOvl5WXWr6+vol8kU5JFviJmviIBisIz3PT0dPHvsbEx1j09PaxzcnJEv8TERM/vfH5+Zj07O8t6ZGRE9Lu6umIdagpyV92hfs4iXxEzXxEzXxHfp5rh5j/EzfmZmZms7+/vPfslJSWxjouTcZWRkcG6v7+f9dLSkug3Pz/POtSxhzs9tchXxMxXxJe0gz/x7Oxs0YYryJeXF9GGP1fcPKuoqBD9cDPt7OyMNW6kERFVV1ezTk1N9RwvpqeGhgbRtrCw4Pk5v7HIV8TMV8TMV8SXnF9cXMy6q6tLtL2/v7NeXV0VbThtbGpqYj08PCz6VVVVscZnyObmpuh3fHzMurKyUrThcwmfNfgMISL6+vqiSGGRr4iZr0jYaQdXsu3t7azdlIEHHO7BBf7EcTqJK1oimTLwMy0tLaIfppDHx0fRlpKSwvr29pb12toaaWGRr4iZr4gvaaexsZE1znyIiJKTkz2/A2dCOAMJVhKIbe4qFtOVu/p9enpijYcp29vbop+d4f4SzHxFzHxFws75mBtxlxA1kffKkkiW9K2vr7PG0j4iovLyctZ4aO5OJzF/b2xsiLa7uzvWi4uLrN3pbySxyFfEzFfEl7SD5XeDg4OiH6YdnFoSEU1OTrKemZnx7IffgdotK8RpqPsdn5+frKOlYtkiXxEzXxEzXxFfajULCwtZb21tibaCggLWFxcXoq2uro716enp/w4j5rDIV8TMV8SXM1xMJ3Nzc6Ktr6+P9e7urmjDncbfiEW+Ima+Ir6kHTxXHR8fF224KYabW0REWVlZrLGMxF114soVtdsvWu7XhopFviJmviJmviK+30Z0D7+xBLu1tVW0Yc0Mrozf3t5EP7xliPU37kGIW4Ie7VjkK2LmK+L7hTh3uofnqu7hBx6MYLmgmz6wFqijo4O1uxmHq2t3Wuv1d93xhlOlbBfiYhAzX5GIvnvBvTdbVFTEGlMS3pklIurs7GQ9MDDAGlMVEdHBwQHriYkJ0YavgCktLWWNZxFEcrPPvTiB72+4vLxkfXJy4tkvGBb5ipj5ipj5ikQ057urX8zzeAnaLTlsbm5mPTU1xbqsrMzzb7mrX8zDWLbuTn9x2uge9hwdHbHe29tjje8DIpKHRu5qHbHIV8TMVySibxd0V4JYtoflfO5PdWVlhXVvby/r0dFR0Q838XADjki+E8LrcMYdo/vamJKSEtaHh4esc3NzRT/8vwTDIl8RM18RM1+RH59qhppfgx2Me+FOE7E0sa2tTbR1d3ezrqmpYe3eaLy+vmbtljfigQ+WtO/v74t+Dw8Pfxs6EVnkq2LmK6K6wkV+uuYGUxTurro7qMGmiZhO8MDHvcAXKhb5ipj5ikTli6x/Cxb5ipj5ipj5ipj5ipj5ipj5ipj5ipj5ipj5ipj5ipj5ipj5ipj5ivwBELappjjR9ssAAAAASUVORK5CYII=\" y=\"-125.379908\"/>\n   </g>\n   <g id=\"patch_88\">\n    <path d=\"M 918.632203 220.379908 \nL 918.632203 125.803636 \n\" style=\"fill:none;stroke:#000000;stroke-linecap:square;stroke-linejoin:miter;stroke-width:0.8;\"/>\n   </g>\n   <g id=\"patch_89\">\n    <path d=\"M 1013.208475 220.379908 \nL 1013.208475 125.803636 \n\" style=\"fill:none;stroke:#000000;stroke-linecap:square;stroke-linejoin:miter;stroke-width:0.8;\"/>\n   </g>\n   <g id=\"patch_90\">\n    <path d=\"M 918.632203 220.379908 \nL 1013.208475 220.379908 \n\" style=\"fill:none;stroke:#000000;stroke-linecap:square;stroke-linejoin:miter;stroke-width:0.8;\"/>\n   </g>\n   <g id=\"patch_91\">\n    <path d=\"M 918.632203 125.803636 \nL 1013.208475 125.803636 \n\" style=\"fill:none;stroke:#000000;stroke-linecap:square;stroke-linejoin:miter;stroke-width:0.8;\"/>\n   </g>\n  </g>\n  <g id=\"axes_19\">\n   <g id=\"patch_92\">\n    <path d=\"M 1032.123729 101.776271 \nL 1126.7 101.776271 \nL 1126.7 7.2 \nL 1032.123729 7.2 \nz\n\" style=\"fill:#ffffff;\"/>\n   </g>\n   <g clip-path=\"url(#p03faf9d5cb)\">\n    <image height=\"95\" id=\"image69ea54bd15\" transform=\"scale(1 -1)translate(0 -95)\" width=\"95\" x=\"1032.123729\" xlink:href=\"data:image/png;base64,\niVBORw0KGgoAAAANSUhEUgAAAF8AAABfCAYAAACOTBv1AAAEbUlEQVR4nO2cSyitXxjGt1suIYoMXEYSJSmSUlJMJIqUxIyBcjdACKEMlAlFTKQwlJkyoDAwMCGJlJDkmkLu/Efn/a+12lv77PPZz3bO8xs9b2v51tvT29vyrfVtL5vN9mkjELzRCfzL0HwgvsjFm5ubRQ8PD4uur6/X5o2OjrotJ3fCygdC84HQfCBeNuBW8+TkRHRMTIzoi4sLbV5qaqros7Ozb8/LXbDygdB8INCt5s3Njejo6GjRkZGR2rympibRbW1t356Xu2DlA6H5QGg+EOhWs6ioSPTCwoLoz0/HKeXm5opeXl7+nsTcBCsfCM0HAm07wcHBond3d0Wr206Tra0t0ZmZmdrY09OThdl9P6x8IDQfCLTtqISEhIi+urrSxvz8/Oz+zcTEhBbX1NRYn9g3wsoHQvOB0HwgHtPzVfr7+7W4s7PT7ryHhwctLiwsFL2ysmJ5XlbDygdC84F4ZNvJyMjQ4qWlJdHqltTk/v5edH5+vja2vr5uUXbWwcoHQvOB0HwgHtnzTaqrq0WrdzrVt6ImOzs7Wpyeni76+fnZwuxch5UPhOYD+RFtR6W1tVX0wMCANubr6/gaUkVFhei5uTnrE3MBVj4Qmg/kx7UdlenpaS2urKx0OPfu7k50S0uL6KmpKW3e+/u7Nck5ASsfCM0HQvOBuPWKeFhYmBa3t7eLzsrKEn19fa3NOz4+Fu3v7y86ISHB6bXVt6GTk5Oi09LStHkdHR2ib29vnX6+K7DygdB8IJZvNQMDA7V4dnZWdF5enjYWFBQk2tv7/zr46payuhX08fFxOc9ffHx8aPH8/LzohoYGbczqj/FY+UBoPhCaD8Tynl9QUKDFMzMzokNDQ7Wxo6Mj0eohSWxsrDYvMTHR7lqPj49anJSUZFfbbPr9z6ioKLvPMzE/xs7Ozha9v7/v1DO+gpUPhOYDsfw/XPOt4FfbQfXwY2NjQ/TIyIhLa6trma2rtLRUtPp7PuHh4do89VzYbE9dXV2iq6qqRL++vrqULysfCM0HYvluJyAgQIvVM9eenh59cS8v0ZeXl6LHxsa0eUNDQ6LNm8nOon5IV15eLtr8+G5xcdGp56ktSc39d2DlA6H5QGg+EMu3muaHyH19faLN/lpcXCxa/Y2d7u5ubZ560LK9vS1aPfiwt7aKekCjbod7e3sdPuP8/Fwbi4uLc/h8V2DlA6H5QKD3dlJSUkTX1taKLisr0+aZL+R+cXp6qsWrq6uiDw8PtTF1y7u5uSna/ApGPTB5e3vTxgYHB0WPj4/bzel3YOUDoflAPPK6YHJyshbX1dWJLikpER0REfHHa5mtZW9vT/Ta2po21tjYKPrl5eWP12blA6H5QGg+EI/s+V8RHx8v2uz56n/MOTk52ph6P0fdJpofRx8cHFiRplOw8oHQfCA/ru38TbDygdB8IDQfCM0HQvOB0HwgNB8IzQdC84HQfCA0HwjNB0LzgdB8IDQfCM0HQvOB0HwgNB8IzQdC84HQfCA0H8h/QIsV5Jtj8zgAAAAASUVORK5CYII=\" y=\"-6.776271\"/>\n   </g>\n   <g id=\"patch_93\">\n    <path d=\"M 1032.123729 101.776271 \nL 1032.123729 7.2 \n\" style=\"fill:none;stroke:#000000;stroke-linecap:square;stroke-linejoin:miter;stroke-width:0.8;\"/>\n   </g>\n   <g id=\"patch_94\">\n    <path d=\"M 1126.7 101.776271 \nL 1126.7 7.2 \n\" style=\"fill:none;stroke:#000000;stroke-linecap:square;stroke-linejoin:miter;stroke-width:0.8;\"/>\n   </g>\n   <g id=\"patch_95\">\n    <path d=\"M 1032.123729 101.776271 \nL 1126.7 101.776271 \n\" style=\"fill:none;stroke:#000000;stroke-linecap:square;stroke-linejoin:miter;stroke-width:0.8;\"/>\n   </g>\n   <g id=\"patch_96\">\n    <path d=\"M 1032.123729 7.2 \nL 1126.7 7.2 \n\" style=\"fill:none;stroke:#000000;stroke-linecap:square;stroke-linejoin:miter;stroke-width:0.8;\"/>\n   </g>\n  </g>\n  <g id=\"axes_20\">\n   <g id=\"patch_97\">\n    <path d=\"M 1032.123729 220.379908 \nL 1126.7 220.379908 \nL 1126.7 125.803636 \nL 1032.123729 125.803636 \nz\n\" style=\"fill:#ffffff;\"/>\n   </g>\n   <g clip-path=\"url(#p25d77711b3)\">\n    <image height=\"95\" id=\"image2f8c3e8724\" transform=\"scale(1 -1)translate(0 -95)\" width=\"95\" x=\"1032.123729\" xlink:href=\"data:image/png;base64,\niVBORw0KGgoAAAANSUhEUgAAAF8AAABfCAYAAACOTBv1AAAFJElEQVR4nO2cyyutYRTGX/f7deJaGIiBkktEuSQpRhIDxcDEWEopGRpQSgYiiakI/wATuU5QQpQiEcklcr+c2epZb8dup89e2znrN3p2a53tO0/L8t6+18cY82kUEXylH+B/Rs0XxN+TPywlJYV9npqaIh0fH0+6paWF5S0sLJD+/Px3uqRWviBqviBqviA/3vP9/PxIJyQksFhcXBxp7PkTExMsr7q6mvT29rbDTyiHVr4gar4gP9523t/fSe/s7LDYzMwM6aamJtJhYWEsr6GhgfTe3h7pt7c3x55TAq18QdR8QdR8QTy6vPD09MQ+n56ekg4MDCQdEBDA8mpqakgPDQ2RPj8/d/oRPYpWviBqviAebTv20HBtbY00rlYGBwezvNzcXNIjIyOk6+vrXX6/t6OVL4iaL4iPEdzDxZns+Pg46bq6OpaHi3PYWgYGBlheZ2cnaZxZeyta+YKo+YKo+YKI9nwkMjKS9OzsLIuVlpaSxv7/+vrK8tra2kgPDw+zmDduvGvlC6LmC+I1bQcJCQlhn/v6+ki3traSthfg7u7uSJeVlbHY5uamg0/oDFr5gqj5gqj5gnhlz7fB4SUuIXR1dbE83JBZX19nsaqqKtL39/dOP+K30MoXRM0X5Fe0HSQ2Npb00tISi6Wnp5O2Z7/t7e2kR0dHSUtuwGjlC6LmC+L4Hq6Pj4/bsa9yfX15TeCMt6SkhLTdMvD7goKCWKynp4f09fU16enpaZbnyTaklS+Imi+Imi+II0NN7NE4FDTGmOLiYtJ47M8Yvgp5e3tLOjExkeXl5eWRxuFkeHg4y7NXOb/i4eGBdH9/P4sNDg6Svrq6YrGPjw+3vt9dtPIFUfMFcaTt4K97UVERi42NjZFOTk5mMfw1xhb0/PzM8iIiIkjjUUJ7qIrPgYtxrnh8fGSfcUEOF/GMMWZjY4M0Dkm/e0ZIK18QNV8QNV8Qx5cX7Gl9aGgoadzsMIb3fBxq2mdudnd3SaelpZHOyMhgeVFRUaSzsrJYLDs7mzT+bbA36wsLC0n39vayWEdHB+mtrS3S2vN/IWq+II60HWwfuGJoDH8JztWRPYzhkM4YY1ZWVkjPz8+Ttme0OLy0327Bt1jwaLndCvHf5eTksFhzczPpg4MD0vbQ2F208gVR8wVxvO0cHx+z2PLyMmm81sUYPjJKSkoibb+Zgte84Kjo5eWF5WHrsmeuk5OTpLEFlZeXszxcJLRbV2Zm5l+f3Z5pu3siWitfEDVfEDVfEEd6PvY4e6iJZ2RSU1NZ7KtZZ21tLcvDt1bwb8jFxQXLOzw8JH12dsZi2Jfn5uZI5+fnszxcQbWJiYkhjRs5l5eXLM/dTXitfEHUfEEcX1izj+mtrq6SxhfWjDGmsbGRdEVFBWl75op7uPhyHC7aGcNnmnZL2t/fJ42LaTh0NYYPIe3/C+7pRkdHk/b35zbiQpurYadWviBqviAePaVs76ti28AZLh4PMYbPLCsrK0kXFBSwPLzLwZ514ozX1SwZW9fJyQmL4S1Xi4uLpG9ublieu+v7WvmCqPmCqPmCeM2bKa6OluNKI84s7Zlwd3c3abwk2xje2/FmW7zV1hh+9djR0RGL4UwWh6HfPUaolS+Imi+I17QdJ8CZpn0kBIe5uK9sz2Kxhfz0NTFa+YKo+YKo+YL8Uz3/t6GVL4iaL4iaL4iaL4iaL4iaL4iaL4iaL4iaL4iaL4iaL4iaL4iaL4iaL4iaL4iaL4iaL4iaL4iaL8gf8i+JtDp9OXgAAAAASUVORK5CYII=\" y=\"-125.379908\"/>\n   </g>\n   <g id=\"patch_98\">\n    <path d=\"M 1032.123729 220.379908 \nL 1032.123729 125.803636 \n\" style=\"fill:none;stroke:#000000;stroke-linecap:square;stroke-linejoin:miter;stroke-width:0.8;\"/>\n   </g>\n   <g id=\"patch_99\">\n    <path d=\"M 1126.7 220.379908 \nL 1126.7 125.803636 \n\" style=\"fill:none;stroke:#000000;stroke-linecap:square;stroke-linejoin:miter;stroke-width:0.8;\"/>\n   </g>\n   <g id=\"patch_100\">\n    <path d=\"M 1032.123729 220.379908 \nL 1126.7 220.379908 \n\" style=\"fill:none;stroke:#000000;stroke-linecap:square;stroke-linejoin:miter;stroke-width:0.8;\"/>\n   </g>\n   <g id=\"patch_101\">\n    <path d=\"M 1032.123729 125.803636 \nL 1126.7 125.803636 \n\" style=\"fill:none;stroke:#000000;stroke-linecap:square;stroke-linejoin:miter;stroke-width:0.8;\"/>\n   </g>\n  </g>\n </g>\n <defs>\n  <clipPath id=\"p0d4a6cb20b\">\n   <rect height=\"94.576271\" width=\"94.576271\" x=\"10.7\" y=\"7.2\"/>\n  </clipPath>\n  <clipPath id=\"pc99a7c600f\">\n   <rect height=\"94.576271\" width=\"94.576271\" x=\"10.7\" y=\"125.803636\"/>\n  </clipPath>\n  <clipPath id=\"p073661cd0a\">\n   <rect height=\"94.576271\" width=\"94.576271\" x=\"124.191525\" y=\"7.2\"/>\n  </clipPath>\n  <clipPath id=\"pa864e52040\">\n   <rect height=\"94.576271\" width=\"94.576271\" x=\"124.191525\" y=\"125.803636\"/>\n  </clipPath>\n  <clipPath id=\"pf5f24238bb\">\n   <rect height=\"94.576271\" width=\"94.576271\" x=\"237.683051\" y=\"7.2\"/>\n  </clipPath>\n  <clipPath id=\"pf17a62c7d7\">\n   <rect height=\"94.576271\" width=\"94.576271\" x=\"237.683051\" y=\"125.803636\"/>\n  </clipPath>\n  <clipPath id=\"p50176bc230\">\n   <rect height=\"94.576271\" width=\"94.576271\" x=\"351.174576\" y=\"7.2\"/>\n  </clipPath>\n  <clipPath id=\"p42749a0ee2\">\n   <rect height=\"94.576271\" width=\"94.576271\" x=\"351.174576\" y=\"125.803636\"/>\n  </clipPath>\n  <clipPath id=\"pb5f5f609e5\">\n   <rect height=\"94.576271\" width=\"94.576271\" x=\"464.666102\" y=\"7.2\"/>\n  </clipPath>\n  <clipPath id=\"p26937e7f62\">\n   <rect height=\"94.576271\" width=\"94.576271\" x=\"464.666102\" y=\"125.803636\"/>\n  </clipPath>\n  <clipPath id=\"p79b367eb6a\">\n   <rect height=\"94.576271\" width=\"94.576271\" x=\"578.157627\" y=\"7.2\"/>\n  </clipPath>\n  <clipPath id=\"pa0212cbca8\">\n   <rect height=\"94.576271\" width=\"94.576271\" x=\"578.157627\" y=\"125.803636\"/>\n  </clipPath>\n  <clipPath id=\"p086264b55d\">\n   <rect height=\"94.576271\" width=\"94.576271\" x=\"691.649153\" y=\"7.2\"/>\n  </clipPath>\n  <clipPath id=\"p323172c2b0\">\n   <rect height=\"94.576271\" width=\"94.576271\" x=\"691.649153\" y=\"125.803636\"/>\n  </clipPath>\n  <clipPath id=\"p01a9b5a167\">\n   <rect height=\"94.576271\" width=\"94.576271\" x=\"805.140678\" y=\"7.2\"/>\n  </clipPath>\n  <clipPath id=\"p3896d8e080\">\n   <rect height=\"94.576271\" width=\"94.576271\" x=\"805.140678\" y=\"125.803636\"/>\n  </clipPath>\n  <clipPath id=\"pb1f6e180c3\">\n   <rect height=\"94.576271\" width=\"94.576271\" x=\"918.632203\" y=\"7.2\"/>\n  </clipPath>\n  <clipPath id=\"p1bd293764d\">\n   <rect height=\"94.576271\" width=\"94.576271\" x=\"918.632203\" y=\"125.803636\"/>\n  </clipPath>\n  <clipPath id=\"p03faf9d5cb\">\n   <rect height=\"94.576271\" width=\"94.576271\" x=\"1032.123729\" y=\"7.2\"/>\n  </clipPath>\n  <clipPath id=\"p25d77711b3\">\n   <rect height=\"94.576271\" width=\"94.576271\" x=\"1032.123729\" y=\"125.803636\"/>\n  </clipPath>\n </defs>\n</svg>\n",
      "image/png": "[encoded data removed]"
     },
     "metadata": {
      "needs_background": "light"
     }
    }
   ],
   "source": [
    "import matplotlib.pyplot as plt\n",
    "\n",
    "\n",
    "n = 10  # How many digits we will display\n",
    "plt.figure(figsize=(20, 4))\n",
    "for i in range(n):\n",
    "    # Display original\n",
    "    ax = plt.subplot(2, n, i + 1)\n",
    "    plt.imshow(x_test[i].reshape(28, 28))\n",
    "    plt.gray()\n",
    "    ax.get_xaxis().set_visible(False)\n",
    "    ax.get_yaxis().set_visible(False)\n",
    "\n",
    "    # Display reconstruction\n",
    "    ax = plt.subplot(2, n, i + 1 + n)\n",
    "    plt.imshow(roundtrip_imgs[i].reshape(28, 28))\n",
    "    plt.gray()\n",
    "    ax.get_xaxis().set_visible(False)\n",
    "    ax.get_yaxis().set_visible(False)\n",
    "plt.show()"
   ]
  },
  {
   "source": [
    "What about the compression? Let's check the sizes of the arrays."
   ],
   "cell_type": "markdown",
   "metadata": {}
  },
  {
   "cell_type": "code",
   "execution_count": 30,
   "metadata": {},
   "outputs": [
    {
     "output_type": "stream",
     "name": "stdout",
     "text": [
      "x_test.shape[1]: 784\nencoded_imgs.shape[1]: 32\nSpace saving: 95.92%\n"
     ]
    }
   ],
   "source": [
    "encoded_imgs = autoencoder.transform(x_test)\n",
    "print(f\"x_test.shape[1]: {x_test.shape[1]}\")\n",
    "print(f\"encoded_imgs.shape[1]: {encoded_imgs.shape[1]}\")\n",
    "space_saving = (1-encoded_imgs.astype(x_test.dtype).nbytes/x_test.nbytes)*100\n",
    "print(f\"Space saving: {space_saving:0.2f}%\")"
   ]
  }
 ],
 "metadata": {
  "colab": {
   "collapsed_sections": [],
   "name": "Benchmarks.ipynb",
   "provenance": []
  },
  "kernelspec": {
   "display_name": "Python 3",
   "language": "python",
   "name": "python3"
  },
  "language_info": {
   "codemirror_mode": {
    "name": "ipython",
    "version": 3
   },
   "file_extension": ".py",
   "mimetype": "text/x-python",
   "name": "python",
   "nbconvert_exporter": "python",
   "pygments_lexer": "ipython3",
   "version": "3.8.5-final"
  }
 },
 "nbformat": 4,
 "nbformat_minor": 1
}