{
  "nbformat": 4,
  "nbformat_minor": 0,
  "metadata": {
    "kernelspec": {
      "display_name": "Python 3",
      "language": "python",
      "name": "python3"
    },
    "language_info": {
      "codemirror_mode": {
        "name": "ipython",
        "version": 3
      },
      "file_extension": ".py",
      "mimetype": "text/x-python",
      "name": "python",
      "nbconvert_exporter": "python",
      "pygments_lexer": "ipython3",
      "version": "3.8.5-final"
    },
    "colab": {
      "name": "Benchmarks.ipynb",
      "provenance": [],
      "collapsed_sections": []
    }
  },
  "cells": [
    {
      "cell_type": "markdown",
      "metadata": {
        "id": "z22BE9uhvoxO"
      },
      "source": [
        "# Autoencoders in SciKeras"
      ]
    },
    {
      "cell_type": "markdown",
      "metadata": {
        "id": "hapoJed-voxP"
      },
      "source": [
        "Autencoders are an approach to use nearual networks to distill data into it's most important features, thereby compressing the data. We will be following the [Keras tutorial](https://blog.keras.io/building-autoencoders-in-keras.html) on the topic, which goes much more in depth and breadth than we will here. You are highly encouraged to check out that tutorial if you want to learn about autoencoders in the general sense.\n",
        "\n",
        "\n",
        "\n",
        "<table align=\"left\"><td>\n",
        "<a target=\"_blank\" href=\"https://colab.research.google.com/github/adriangb/scikeras/blob/master/notebooks/Basic_Usage.ipyn\">\n",
        "    <img src=\"https://www.tensorflow.org/images/colab_logo_32px.png\" />Run in Google Colab</a>  \n",
        "</td><td>\n",
        "<a target=\"_blank\" href=\"https://github.com/adriangb/scikeras/blob/master/notebooks/Basic_Usage.ipynb\"><img width=32px src=\"https://www.tensorflow.org/images/GitHub-Mark-32px.png\" />View source on GitHub</a></td></table>"
      ]
    },
    {
      "cell_type": "markdown",
      "metadata": {
        "id": "iT-ibpi7voxQ"
      },
      "source": [
        "### Table of contents"
      ]
    },
    {
      "cell_type": "markdown",
      "metadata": {
        "id": "ekJWKPFMvoxR"
      },
      "source": [
        "* [Data](#Data)\n",
        "* [Define Model](#Model)\n",
        "* [Training](#Training)\n",
        "* [Explore Results](#Explore-Results)"
      ]
    },
    {
      "cell_type": "markdown",
      "metadata": {
        "id": "6avb3GBQDQyG"
      },
      "source": [
        "Install SciKeras"
      ]
    },
    {
      "cell_type": "code",
      "metadata": {
        "id": "qCcyTjVkvoxR"
      },
      "source": [
        "!python -m pip install git+https://github.com/adriangb/scikeras.git@master"
      ],
      "execution_count": null,
      "outputs": []
    },
    {
      "cell_type": "markdown",
      "metadata": {
        "id": "EZveNcetDQyL"
      },
      "source": [
        "Silence TensorFlow warnings to keep output succint."
      ]
    },
    {
      "cell_type": "code",
      "metadata": {
        "id": "ekNmO_GPDQyL"
      },
      "source": [
        "import warnings\n",
        "from tensorflow import get_logger\n",
        "get_logger().setLevel('ERROR')\n",
        "warnings.filterwarnings(\"ignore\", message=\"Setting the random state for TF\")"
      ],
      "execution_count": 54,
      "outputs": []
    },
    {
      "cell_type": "code",
      "metadata": {
        "id": "Sf4j-x4DvoxV"
      },
      "source": [
        "import numpy as np\n",
        "from scikeras.wrappers import KerasClassifier, KerasRegressor\n",
        "from tensorflow import keras"
      ],
      "execution_count": 55,
      "outputs": []
    },
    {
      "cell_type": "markdown",
      "metadata": {
        "id": "hCuOBH8AvoxX"
      },
      "source": [
        "## Data"
      ]
    },
    {
      "cell_type": "markdown",
      "metadata": {
        "id": "i3fAUKBUvoxY"
      },
      "source": [
        "We load the dataset from the Keras tutorial. The dataset consists of images of cats and dogs."
      ]
    },
    {
      "cell_type": "code",
      "metadata": {
        "id": "QM74xeoe-1S-",
        "outputId": "23946eec-c32f-4db6-8bda-e12bda6492ea",
        "colab": {
          "base_uri": "https://localhost:8080/",
          "height": 51
        }
      },
      "source": [
        "from tensorflow.keras.datasets import mnist\n",
        "import numpy as np\n",
        "\n",
        "\n",
        "(x_train, _), (x_test, _) = mnist.load_data()\n",
        "x_train = x_train.astype('float32') / 255.\n",
        "x_test = x_test.astype('float32') / 255.\n",
        "x_train = x_train.reshape((len(x_train), np.prod(x_train.shape[1:])))\n",
        "x_test = x_test.reshape((len(x_test), np.prod(x_test.shape[1:])))\n",
        "print(x_train.shape)\n",
        "print(x_test.shape)"
      ],
      "execution_count": 64,
      "outputs": [
        {
          "output_type": "stream",
          "name": "stdout",
          "text": [
            "(60000, 784)\n(10000, 784)\n"
          ]
        }
      ]
    },
    {
      "cell_type": "markdown",
      "metadata": {
        "id": "yuR10hymK0dh"
      },
      "source": [
        "## Define Keras Model"
      ]
    },
    {
      "source": [
        "We will be defining a very simple autencoder."
      ],
      "cell_type": "markdown",
      "metadata": {}
    },
    {
      "cell_type": "code",
      "metadata": {
        "id": "dBFFXT-__7KU"
      },
      "source": [
        "from tensorflow import keras\n",
        "from tensorflow.keras import layers\n",
        "\n",
        "\n",
        "# This is the size of our encoded representations\n",
        "encoding_dim = 32  # 32 floats -> compression of factor 24.5, assuming the input is 784 floats\n",
        "\n",
        "# This is our input image\n",
        "input_img = keras.Input(shape=(784,))\n",
        "# \"encoded\" is the encoded representation of the input\n",
        "encoded = layers.Dense(encoding_dim, activation='relu')(input_img)\n",
        "# \"decoded\" is the lossy reconstruction of the input\n",
        "decoded = layers.Dense(784, activation='sigmoid')(encoded)\n",
        "\n",
        "# This model maps an input to its reconstruction\n",
        "autoencoder_model = keras.Model(input_img, decoded)\n",
        "\n",
        "# This model maps an input to its encoded representation\n",
        "encoder_model = keras.Model(input_img, encoded)\n",
        "\n",
        "# This is our encoded (32-dimensional) input\n",
        "encoded_input = keras.Input(shape=(encoding_dim,))\n",
        "# Retrieve the last layer of the autoencoder model\n",
        "decoder_layer = autoencoder_model.layers[-1]\n",
        "# Create the decoder model\n",
        "decoder_model = keras.Model(encoded_input, decoder_layer(encoded_input))\n"
      ],
      "execution_count": 65,
      "outputs": []
    },
    {
      "cell_type": "code",
      "execution_count": 66,
      "metadata": {},
      "outputs": [],
      "source": [
        "from scikeras.wrappers import BaseWrapper\n",
        "\n",
        "\n",
        "class BaseWrapperNoVal(BaseWrapper):\n",
        "\n",
        "    def _validate_data(self, X, y=None, reset: bool = False):\n",
        "        return X, y\n",
        "\n",
        "\n",
        "compile_params = {\"optimizer\": \"adam\", \"loss\": \"binary_crossentropy\"}\n",
        "fit_params = {\"epochs\": 50, \"batch_size\": 256, \"shuffle\": True}\n",
        "\n",
        "autoencoder = BaseWrapperNoVal(model=autoencoder_model, **compile_params, **fit_params)\n",
        "encoder = BaseWrapperNoVal(model=encoder_model, **compile_params, **fit_params)\n",
        "decoder = BaseWrapperNoVal(model=decoder_model, **compile_params, **fit_params)"
      ]
    },
    {
      "cell_type": "markdown",
      "metadata": {
        "id": "yqBl5xLDP43O"
      },
      "source": [
        "## Train"
      ]
    },
    {
      "cell_type": "markdown",
      "metadata": {
        "id": "4fHbt_mUVBhE"
      },
      "source": [
        "To train the model, we pass the input images as both the features and the target."
      ]
    },
    {
      "cell_type": "code",
      "metadata": {
        "id": "QQhtIWsMP4Ii",
        "outputId": "1581384e-7012-4816-d4cf-a4190a30e50f",
        "colab": {
          "base_uri": "https://localhost:8080/",
          "height": 34
        }
      },
      "source": [
        "autoencoder.fit(x_train, x_train)"
      ],
      "execution_count": 67,
      "outputs": [
        {
          "output_type": "stream",
          "name": "stdout",
          "text": [
            "Epoch 1/50\n",
            "235/235 [==============================] - 1s 4ms/step - loss: 0.2752\n",
            "Epoch 2/50\n",
            "235/235 [==============================] - 1s 4ms/step - loss: 0.1690\n",
            "Epoch 3/50\n",
            "235/235 [==============================] - 1s 4ms/step - loss: 0.1430\n",
            "Epoch 4/50\n",
            "235/235 [==============================] - 1s 4ms/step - loss: 0.1279\n",
            "Epoch 5/50\n",
            "235/235 [==============================] - 1s 4ms/step - loss: 0.1174\n",
            "Epoch 6/50\n",
            "235/235 [==============================] - 1s 4ms/step - loss: 0.1105\n",
            "Epoch 7/50\n",
            "235/235 [==============================] - 1s 4ms/step - loss: 0.1057\n",
            "Epoch 8/50\n",
            "235/235 [==============================] - 1s 4ms/step - loss: 0.1021\n",
            "Epoch 9/50\n",
            "235/235 [==============================] - 1s 4ms/step - loss: 0.0995\n",
            "Epoch 10/50\n",
            "235/235 [==============================] - 1s 4ms/step - loss: 0.0976\n",
            "Epoch 11/50\n",
            "235/235 [==============================] - 1s 4ms/step - loss: 0.0963\n",
            "Epoch 12/50\n",
            "235/235 [==============================] - 1s 4ms/step - loss: 0.0955\n",
            "Epoch 13/50\n",
            "235/235 [==============================] - 1s 4ms/step - loss: 0.0949\n",
            "Epoch 14/50\n",
            "235/235 [==============================] - 1s 4ms/step - loss: 0.0946\n",
            "Epoch 15/50\n",
            "235/235 [==============================] - 1s 4ms/step - loss: 0.0943\n",
            "Epoch 16/50\n",
            "235/235 [==============================] - 1s 4ms/step - loss: 0.0941\n",
            "Epoch 17/50\n",
            "235/235 [==============================] - 1s 4ms/step - loss: 0.0939\n",
            "Epoch 18/50\n",
            "235/235 [==============================] - 1s 4ms/step - loss: 0.0938\n",
            "Epoch 19/50\n",
            "235/235 [==============================] - 1s 4ms/step - loss: 0.0936\n",
            "Epoch 20/50\n",
            "235/235 [==============================] - 1s 5ms/step - loss: 0.0936\n",
            "Epoch 21/50\n",
            "235/235 [==============================] - 1s 5ms/step - loss: 0.0935\n",
            "Epoch 22/50\n",
            "235/235 [==============================] - 1s 4ms/step - loss: 0.0934\n",
            "Epoch 23/50\n",
            "235/235 [==============================] - 1s 4ms/step - loss: 0.0933\n",
            "Epoch 24/50\n",
            "235/235 [==============================] - 1s 4ms/step - loss: 0.0933\n",
            "Epoch 25/50\n",
            "235/235 [==============================] - 1s 4ms/step - loss: 0.0932\n",
            "Epoch 26/50\n",
            "235/235 [==============================] - 1s 4ms/step - loss: 0.0932\n",
            "Epoch 27/50\n",
            "235/235 [==============================] - 1s 4ms/step - loss: 0.0931\n",
            "Epoch 28/50\n",
            "235/235 [==============================] - 1s 4ms/step - loss: 0.0931\n",
            "Epoch 29/50\n",
            "235/235 [==============================] - 1s 4ms/step - loss: 0.0930\n",
            "Epoch 30/50\n",
            "235/235 [==============================] - 1s 4ms/step - loss: 0.0930\n",
            "Epoch 31/50\n",
            "235/235 [==============================] - 1s 4ms/step - loss: 0.0930\n",
            "Epoch 32/50\n",
            "235/235 [==============================] - 1s 4ms/step - loss: 0.0930\n",
            "Epoch 33/50\n",
            "235/235 [==============================] - 1s 4ms/step - loss: 0.0929\n",
            "Epoch 34/50\n",
            "235/235 [==============================] - 1s 4ms/step - loss: 0.0929\n",
            "Epoch 35/50\n",
            "235/235 [==============================] - 1s 4ms/step - loss: 0.0929\n",
            "Epoch 36/50\n",
            "235/235 [==============================] - 1s 4ms/step - loss: 0.0928\n",
            "Epoch 37/50\n",
            "235/235 [==============================] - 1s 4ms/step - loss: 0.0928\n",
            "Epoch 38/50\n",
            "235/235 [==============================] - 1s 4ms/step - loss: 0.0928\n",
            "Epoch 39/50\n",
            "235/235 [==============================] - 1s 4ms/step - loss: 0.0928\n",
            "Epoch 40/50\n",
            "235/235 [==============================] - 1s 4ms/step - loss: 0.0928\n",
            "Epoch 41/50\n",
            "235/235 [==============================] - 1s 4ms/step - loss: 0.0928\n",
            "Epoch 42/50\n",
            "235/235 [==============================] - 1s 4ms/step - loss: 0.0927\n",
            "Epoch 43/50\n",
            "235/235 [==============================] - 1s 4ms/step - loss: 0.0927\n",
            "Epoch 44/50\n",
            "235/235 [==============================] - 1s 4ms/step - loss: 0.0927\n",
            "Epoch 45/50\n",
            "235/235 [==============================] - 1s 4ms/step - loss: 0.0927\n",
            "Epoch 46/50\n",
            "235/235 [==============================] - 1s 4ms/step - loss: 0.0927\n",
            "Epoch 47/50\n",
            "235/235 [==============================] - 1s 4ms/step - loss: 0.0926\n",
            "Epoch 48/50\n",
            "235/235 [==============================] - 1s 4ms/step - loss: 0.0927\n",
            "Epoch 49/50\n",
            "235/235 [==============================] - 1s 4ms/step - loss: 0.0926\n",
            "Epoch 50/50\n",
            "235/235 [==============================] - 1s 4ms/step - loss: 0.0926\n"
          ]
        },
        {
          "output_type": "execute_result",
          "data": {
            "text/plain": [
              "BaseWrapperNoVal(\n",
              "\tmodel=<tensorflow.python.keras.engine.functional.Functional object at 0x14fb31a00>\n",
              "\tbuild_fn=None\n",
              "\twarm_start=False\n",
              "\trandom_state=None\n",
              "\toptimizer=adam\n",
              "\tloss=binary_crossentropy\n",
              "\tmetrics=None\n",
              "\tbatch_size=256\n",
              "\tverbose=1\n",
              "\tcallbacks=None\n",
              "\tvalidation_split=0.0\n",
              "\tshuffle=True\n",
              "\trun_eagerly=False\n",
              "\tepochs=50\n",
              ")"
            ]
          },
          "metadata": {},
          "execution_count": 67
        }
      ]
    },
    {
      "source": [
        "For our encoder layer, we need to build the model, but we do not necessarily want to fit it to any data (we are re-using the weights from `autoencoder`). SciKeras allows this by calling `fit(X=None, y=None)`."
      ],
      "cell_type": "markdown",
      "metadata": {}
    },
    {
      "cell_type": "code",
      "execution_count": 68,
      "metadata": {},
      "outputs": [],
      "source": [
        "_ = encoder.fit(X=None, y=None)"
      ]
    },
    {
      "source": [
        "Now we can use the encoder to encode our data!"
      ],
      "cell_type": "markdown",
      "metadata": {}
    },
    {
      "cell_type": "code",
      "execution_count": 69,
      "metadata": {},
      "outputs": [
        {
          "output_type": "stream",
          "name": "stdout",
          "text": [
            "40/40 [==============================] - 0s 739us/step\n"
          ]
        },
        {
          "output_type": "execute_result",
          "data": {
            "text/plain": [
              "(10000, 32)"
            ]
          },
          "metadata": {},
          "execution_count": 69
        }
      ],
      "source": [
        "encoded_imgs = encoder.predict(x_test)\n",
        "encoded_imgs.shape"
      ]
    },
    {
      "source": [
        "We will now do the same for the decoder:"
      ],
      "cell_type": "markdown",
      "metadata": {}
    },
    {
      "cell_type": "code",
      "execution_count": 70,
      "metadata": {},
      "outputs": [
        {
          "output_type": "stream",
          "name": "stdout",
          "text": [
            "40/40 [==============================] - 0s 2ms/step\n"
          ]
        },
        {
          "output_type": "execute_result",
          "data": {
            "text/plain": [
              "(10000, 784)"
            ]
          },
          "metadata": {},
          "execution_count": 70
        }
      ],
      "source": [
        "decoder.fit(X=None, y=None)\n",
        "decoded_imgs = decoder.predict(encoded_imgs)\n",
        "decoded_imgs.shape"
      ]
    },
    {
      "source": [
        "Now let's compare our inputs to lossy decoded outputs:"
      ],
      "cell_type": "markdown",
      "metadata": {}
    },
    {
      "cell_type": "code",
      "execution_count": 71,
      "metadata": {},
      "outputs": [
        {
          "output_type": "display_data",
          "data": {
            "text/plain": "<Figure size 1440x288 with 20 Axes>",
            "image/svg+xml": "<?xml version=\"1.0\" encoding=\"utf-8\" standalone=\"no\"?>\n<!DOCTYPE svg PUBLIC \"-//W3C//DTD SVG 1.1//EN\"\n  \"http://www.w3.org/Graphics/SVG/1.1/DTD/svg11.dtd\">\n<!-- Created with matplotlib (https://matplotlib.org/) -->\n<svg height=\"231.079908pt\" version=\"1.1\" viewBox=\"0 0 1133.9 231.079908\" width=\"1133.9pt\" xmlns=\"http://www.w3.org/2000/svg\" xmlns:xlink=\"http://www.w3.org/1999/xlink\">\n <metadata>\n  <rdf:RDF xmlns:cc=\"http://creativecommons.org/ns#\" xmlns:dc=\"http://purl.org/dc/elements/1.1/\" xmlns:rdf=\"http://www.w3.org/1999/02/22-rdf-syntax-ns#\">\n   <cc:Work>\n    <dc:type rdf:resource=\"http://purl.org/dc/dcmitype/StillImage\"/>\n    <dc:date>2020-11-04T13:02:28.017114</dc:date>\n    <dc:format>image/svg+xml</dc:format>\n    <dc:creator>\n     <cc:Agent>\n      <dc:title>Matplotlib v3.3.2, https://matplotlib.org/</dc:title>\n     </cc:Agent>\n    </dc:creator>\n   </cc:Work>\n  </rdf:RDF>\n </metadata>\n <defs>\n  <style type=\"text/css\">*{stroke-linecap:butt;stroke-linejoin:round;}</style>\n </defs>\n <g id=\"figure_1\">\n  <g id=\"patch_1\">\n   <path d=\"M 0 231.079908 \nL 1133.9 231.079908 \nL 1133.9 0 \nL 0 0 \nz\n\" style=\"fill:none;\"/>\n  </g>\n  <g id=\"axes_1\">\n   <g id=\"patch_2\">\n    <path d=\"M 10.7 101.776271 \nL 105.276271 101.776271 \nL 105.276271 7.2 \nL 10.7 7.2 \nz\n\" style=\"fill:#ffffff;\"/>\n   </g>\n   <g clip-path=\"url(#p10a7e71801)\">\n    <image height=\"95\" id=\"imagecde9624c4a\" transform=\"scale(1 -1)translate(0 -95)\" width=\"95\" x=\"10.7\" xlink:href=\"data:image/png;base64,\niVBORw0KGgoAAAANSUhEUgAAAF8AAABfCAYAAACOTBv1AAADhElEQVR4nO2czyusYRTHj+taTM0GZSMipaT8zEqNXxuZZMGKtZW/wIJY2NhaKHslpaZsrCyQ0FjITCNhQ1JKClGUu7qn58xlGu77+r4z8/2svu88TzOnT8fpMe/MFInIuxAIv9AFFDKUD+Q3uoC/TE5Oap6bmzNrR0dHmvv6+jTf3d35X5iPsPOBUD4QygcSmJmfiebmZs37+/uaBwcHzb6Tk5Mfq8kL2PlAKB9IYMbO9va25sfHR7MWDoc119XVffh4LsLOB0L5QCgfSGBm/s7OjuaFhQWz5r71kE+w84FQPpDAjB2XpaUlcz02Nqa5urpac1dXl9l3eHio+f09+PeI2PlAKB9IkeTAPdz6+nrNmd48Gxoa0ry+vu5rTV7AzgdC+UAoH0hOzPzi4mLNe3t7mtvb282+8/Nzzf39/Z+uBQV2PhDKB5ITY8elvLxc88HBgVmrra3VvLKyYtZGR0f9LewbsPOBUD4QygeSczPfJRqNmutYLKb56enJrLlHT/e4ioSdD4TygeT02Elnenpa88zMjFnb2NjQPDAw8FMlZYSdD4TygeTV2AmFQprdj6KIiDQ2Nmru7e3VvLu7639hn8DOB0L5QCgfSCA/t/Ndnp+fNbtHSxGR1tZWzbOzs5rTj52vr68+Vfcv7HwglA8kr46aLp2dneZ6c3NTc0lJiebu7m6zb2try9e6XNj5QCgfCOUDyduZn457vJyamtJ8f39v9kUiEc2JRMLXmtj5QCgfSMGMnYqKCs3Hx8cfPi4iMjIyonltbc3Xmtj5QCgfSMGMHZfh4WHNq6urZs094fT09Jg1r39WjJ0PhPKBUD6QQM780tJSc93S0qLZ/aJzR0dH1s/58vKi+fT0VHMqlTL7ysrKNE9MTJi1xcXFrF8vG9j5QCgfiOf3cN1ffBURaWpq0pz+J97Q0KC5ra1Nc/oNjsrKSs2Xl5eaq6qqsq7r7e1N8+3trWZ3zKTj/qSYH7DzgVA+EM9POxcXF+a6pqbmy8/x8PBgrpPJ5P+U9CWurq40z8/Pm7V4PO7pa7HzgVA+EMoH4vnMd29GiIiMj49rvr6+Nmvuf53Ly8uab25uzL6zszMvSwwM7HwglA8kkG+sFQrsfCCUD4TygVA+EMoHQvlAKB8I5QOhfCCUD4TygVA+EMoHQvlAKB8I5QOhfCCUD4TygVA+EMoHQvlAKB/IHylJwuaX+CcdAAAAAElFTkSuQmCC\" y=\"-6.776271\"/>\n   </g>\n   <g id=\"patch_3\">\n    <path d=\"M 10.7 101.776271 \nL 10.7 7.2 \n\" style=\"fill:none;stroke:#000000;stroke-linecap:square;stroke-linejoin:miter;stroke-width:0.8;\"/>\n   </g>\n   <g id=\"patch_4\">\n    <path d=\"M 105.276271 101.776271 \nL 105.276271 7.2 \n\" style=\"fill:none;stroke:#000000;stroke-linecap:square;stroke-linejoin:miter;stroke-width:0.8;\"/>\n   </g>\n   <g id=\"patch_5\">\n    <path d=\"M 10.7 101.776271 \nL 105.276271 101.776271 \n\" style=\"fill:none;stroke:#000000;stroke-linecap:square;stroke-linejoin:miter;stroke-width:0.8;\"/>\n   </g>\n   <g id=\"patch_6\">\n    <path d=\"M 10.7 7.2 \nL 105.276271 7.2 \n\" style=\"fill:none;stroke:#000000;stroke-linecap:square;stroke-linejoin:miter;stroke-width:0.8;\"/>\n   </g>\n  </g>\n  <g id=\"axes_2\">\n   <g id=\"patch_7\">\n    <path d=\"M 10.7 220.379908 \nL 105.276271 220.379908 \nL 105.276271 125.803636 \nL 10.7 125.803636 \nz\n\" style=\"fill:#ffffff;\"/>\n   </g>\n   <g clip-path=\"url(#p8c728745c0)\">\n    <image height=\"95\" id=\"image742592a28c\" transform=\"scale(1 -1)translate(0 -95)\" width=\"95\" x=\"10.7\" xlink:href=\"data:image/png;base64,\niVBORw0KGgoAAAANSUhEUgAAAF8AAABfCAYAAACOTBv1AAAE1klEQVR4nO2cOUgkXxDG33jfoOCFCioICgpiqoIgpgYaiokaiIEYCCKmmipGBmamRoaKgeCViJhpoOCFByKoeJ+b1VYV/+n/ONu91bv7/aJvqNrp9uNtTfV7r1/EOfflQkZCQoL4nJKSQvrl5YX011fobv1bJPx/CggKmG9Ikt9fqEtGUtLPS3x+fopYWloa6YmJCdJ9fX0iLzk5mfTo6Cjpqakpkae/P+xg5BsC8w2B+Yb4XvM1Hx8fpBMTE0WMf769vY2ax2t+b28v6ZmZGZH3+Pj4azeriEQiUWN+tLkY+YbAfEN8Lzte7Z6O8f/Wm5ubpK+urkReYWEhad6eFhQUiLzDw8Nv3et/EXSp4WDkGwLzDYH5hgTeanJ0zeQzlOvr66RXVlZEXmdnJ+n8/HzSTU1NIu/o6CjqteK9xyDByDcE5hsScSFcTCkvLxefV1dXSRcXF5M+ODgQeQ0NDaQfHh6CuTkfwcg3BOYbEsqyo58yBwcHSY+Pj5PWE3BjY2Okp6enRSyMCy0Y+YbAfENgviGhrPkaPpO5uLhImreWzjm3v79Pur29XcROTk4Curv4wcg3BOYbEnjZ4W2jH5NW1dXVpOfn50UsJyeH9OzsrIjxPT5hefrFyDcE5hsC8w3xvebrqQG+d1PX/Hge+fkenoGBARHj0xAXFxciNjIyQnpjY+OX7sEvMPINgfmG+L6Gq0uLV3sZTxv6/v5OWreaLS0tpOvr60Wsu7ub9M7ODun7+/uYrhsEGPmGwHxDfuvEmtdWPK8SFK0k8bdenHOutbWVtN7BzHOHh4dJ69KFrSP/CDDfEJhviOliCq/zejGcw99u8arJWVlZpPWsJl9cOT4+Jt3W1ibyTk9PPe7YXzDyDYH5hoRmDZeXHV2C+FOt10QYL2N1dXUitrS0RDo7O5v03NycyBsaGiLNd1EHAUa+ITDfEJhvSGhqPkcfnsFrOW87vdC/G5OTk6R7enpIX19fi7yuri7SfNHFObyN+FcB8w0JZdnRs5/RZjy/UwZKS0tJr62tkc7LyxN5CwsLpPv7+0XM7/0+GPmGwHxDAj/mi+NVJmJd6+VbR3Tn49UJ3dzckN7b2yPd2Ngo8vi7vTU1NSK2vb1N2o8tJxj5hsB8Q2C+Ib7UfF7nMzMzRUx/5vBZw7e3N9K6nmZkZJCurKwkXVJSIvLOzs5IX15eihhvNfmbLpr09HTSzc3NIra7u0va60ixWFtgjHxDYL4hcZcd3v6lpqaS5kdyOedcR0cH6aKiIhHjx7e8vr5GvRZfTKmqqiJdUVER9d/oXcq8xPHSpdvTp6cn0vwAbefk38nLpH4i52WT52kw8g2B+YbEXHa8XnrgT538pTTnZKdSW1srYvz4Fv4dei6el4bn52fSeo2VdzG6y+Kli3dF/HQq55zb2toivby8LGL82ry0eE0EeoGRbwjMNwTmGxL3Ygqva3z7dW5ursgrKysjrU+A5a0nb+v4odbOOXd+fk6ar7ne3d2JPP7boOsuf+rkvyn8t0Zfm8+E6u/HQdZ/ODDfkN969kKsLdh3Xqr7k8HINwTmGwLzDQnlvp1/BYx8Q2C+ITDfEJhvCMw3BOYbAvMNgfmGwHxDYL4hMN8QmG8IzDcE5hsC8w2B+YbAfENgviEw35Afdmh/oMYp2gMAAAAASUVORK5CYII=\" y=\"-125.379908\"/>\n   </g>\n   <g id=\"patch_8\">\n    <path d=\"M 10.7 220.379908 \nL 10.7 125.803636 \n\" style=\"fill:none;stroke:#000000;stroke-linecap:square;stroke-linejoin:miter;stroke-width:0.8;\"/>\n   </g>\n   <g id=\"patch_9\">\n    <path d=\"M 105.276271 220.379908 \nL 105.276271 125.803636 \n\" style=\"fill:none;stroke:#000000;stroke-linecap:square;stroke-linejoin:miter;stroke-width:0.8;\"/>\n   </g>\n   <g id=\"patch_10\">\n    <path d=\"M 10.7 220.379908 \nL 105.276271 220.379908 \n\" style=\"fill:none;stroke:#000000;stroke-linecap:square;stroke-linejoin:miter;stroke-width:0.8;\"/>\n   </g>\n   <g id=\"patch_11\">\n    <path d=\"M 10.7 125.803636 \nL 105.276271 125.803636 \n\" style=\"fill:none;stroke:#000000;stroke-linecap:square;stroke-linejoin:miter;stroke-width:0.8;\"/>\n   </g>\n  </g>\n  <g id=\"axes_3\">\n   <g id=\"patch_12\">\n    <path d=\"M 124.191525 101.776271 \nL 218.767797 101.776271 \nL 218.767797 7.2 \nL 124.191525 7.2 \nz\n\" style=\"fill:#ffffff;\"/>\n   </g>\n   <g clip-path=\"url(#p004b41de5b)\">\n    <image height=\"95\" id=\"imagecc06a2fade\" transform=\"scale(1 -1)translate(0 -95)\" width=\"95\" x=\"124.191525\" xlink:href=\"data:image/png;base64,\niVBORw0KGgoAAAANSUhEUgAAAF8AAABfCAYAAACOTBv1AAADwUlEQVR4nO2cu0srQRTG1+sLQVCwEEEQbA1qoQjWopWxESz9CwSJUSsfCNoqWNhZaOMDNQgWViKCSSCNRdBGEBsRVBBFQnzcW93DnOWubHJ391v1+1XfYSaZ4eNwmN3ZmRLLsn5bBMIv9AR+MjQfCM0HQvOB0HwgNB8IzQdC84HQfCA0HwjNB0LzgdB8IDQfCM0HQvOBlCEHn5iYEF1eXu7qNy0tLaKHhoZcj7W6uir66urKsd/Ozo7oi4sL1/9fDMx8IDQfSIkV4B7u7u6uigcGBoIa2jVvb2+iPz4+HPvt7++LzmQyjv1OTk5UnEqlRDPzgdB8IDQfSKA1P5fLqdjt8rIYtre3VXxzcyO6vr5edCHL1WKYnp5W8fz8vGhmPhCaDySUZae1tVXFt7e3BY/1+Pio4tfX13+OW1NT4/gftbW1Ko7FYq7Gfn9/Fz05OanaXl5eRDPzgdB8IDQfSChrfmNjo4rNZeJ3gpkPhOYDCbTsLCwsqNi+DPtLIpFQ8fDwsOjn52fP54WCmQ+E5gMJtOzU1dWp+ODgQHRnZ6fj75aWlkSPjY15Pi8UzHwgNB8IzQcS6Hc79/f3KjaXnltbW6LtT77t7e2iq6urRX/1ZSczHwjNBxLoUvMzTk9PRXd1dTn2+07LTmY+EJoPhOYDCU3Nb2hoEH12dqbazNcSd3d3oru7u1W/y8tLn2bnD8x8IDQfSGjKjol9M6W3t1d0ZWWl6LW1NdVvZGRE9Fd4+mXmA6H5QEJZduzMzs6Knpqacuy3vLwsenR01McZeQMzHwjNB0LzgUAPQbvFPO2Xz+dFV1RUqH7mKZO9vT3Vdnx87NPsioeZD4TmA/kSS02T8fFx0XNzc6rNLEPpdFq19fT0iDZPhyBh5gOh+UACLTtNTU0qfnp6Ev3w8FDw/9nf+0ciEce+Ztk5OjoqeCw/YOYDoflAaD4Q359w+/v7Rdvv2zk/Pxfd19cn2u0BuI2NDRXPzMyI9vNeB69g5gOh+UB8X2p2dHSINj8JtCzLKi0tFZ3NZkVHo1HVz/xcxNybtb9YM6/QamtrU22Li4ui4/G4q7n7DTMfCM0HQvOB+L7UNDdC7Bscg4ODos2bYu2f/Zk3ux4eHopubm5W/ex13sR+KiYMMPOB0Hwg0M2Uzc1N0WYJ8gJ76TLfal5fX3s6VrEw84HQfCCh2cM1nzqrqqpUm3nb4GflaWVlRXQymVRt6+vr/ztFz2HmA6H5QGg+kNDU/J8IMx8IzQdC84HQfCA0HwjNB0LzgdB8IDQfyB/RPu7MLQ/ZlAAAAABJRU5ErkJggg==\" y=\"-6.776271\"/>\n   </g>\n   <g id=\"patch_13\">\n    <path d=\"M 124.191525 101.776271 \nL 124.191525 7.2 \n\" style=\"fill:none;stroke:#000000;stroke-linecap:square;stroke-linejoin:miter;stroke-width:0.8;\"/>\n   </g>\n   <g id=\"patch_14\">\n    <path d=\"M 218.767797 101.776271 \nL 218.767797 7.2 \n\" style=\"fill:none;stroke:#000000;stroke-linecap:square;stroke-linejoin:miter;stroke-width:0.8;\"/>\n   </g>\n   <g id=\"patch_15\">\n    <path d=\"M 124.191525 101.776271 \nL 218.767797 101.776271 \n\" style=\"fill:none;stroke:#000000;stroke-linecap:square;stroke-linejoin:miter;stroke-width:0.8;\"/>\n   </g>\n   <g id=\"patch_16\">\n    <path d=\"M 124.191525 7.2 \nL 218.767797 7.2 \n\" style=\"fill:none;stroke:#000000;stroke-linecap:square;stroke-linejoin:miter;stroke-width:0.8;\"/>\n   </g>\n  </g>\n  <g id=\"axes_4\">\n   <g id=\"patch_17\">\n    <path d=\"M 124.191525 220.379908 \nL 218.767797 220.379908 \nL 218.767797 125.803636 \nL 124.191525 125.803636 \nz\n\" style=\"fill:#ffffff;\"/>\n   </g>\n   <g clip-path=\"url(#p48e7a6e78d)\">\n    <image height=\"95\" id=\"imagee31cad280c\" transform=\"scale(1 -1)translate(0 -95)\" width=\"95\" x=\"124.191525\" xlink:href=\"data:image/png;base64,\niVBORw0KGgoAAAANSUhEUgAAAF8AAABfCAYAAACOTBv1AAAFf0lEQVR4nO2dyyt9URTH1/V+RhHJWzIgDCgzUspIyCMDxiZmjE0U+QuU10gGSskrjJRXJqSUUvIoz/LI++03+i1r7ZzT5XfuXfysz+h7Wts957fa93vX3vvs/XMBwBsoIvhIP8BvRpMviCZfEE2+IJp8QTT5gmjyBdHkC6LJF0STL4gmXxBNviCafEH8pB/gs7hcrg+1iY+Pj+V1YGAg6rCwMNbu9fUV9fX1NYvd399/2O7t7WsTw9rzBdHkC+JV24mIiGDXZWVlqBsbG1FnZGRY/h21j+fnZ9aO2sTZ2RmLPT09oaZWExISwtpRK9vb22Oxrq4u1AsLC6h3dnZYu5eXlw/va6I9XxBNviAu8PAabmxsLOqJiQkWy83NRe3n9+8OSKsO+tU3Y76+vqjNiole04oGAOD29hb11tYW6t7eXtZucXER9draGovR59KeL4gmXxBNviCOl5qmh9bU1KCmHg/AfZ568s3NDWt3eXmJOigoCDX1bgBe1l1cXFg+V1RUFOrQ0FDLZzJHyfTeCQkJqMvLy8GKg4MDdn10dPT++ZZ/pXgcTb4gHh/h0tLKbiKMWkZ7ezuL9fT0oKZWkJSUxNpRKzBHnYeHh6iDg4NR5+fns3a1tbWoCwoKWIzem1rh+fk5axcdHY3atDV/f//3zwNFDE2+IJp8QTw+vZCVlYV6bm6OxSIjI1E/Pj6irqysZO2mp6dR0yG/+RtC/dScGjBnQK2g5au50JKamoo6Ozsb9cnJCWtHpx729/dZjC7IaM8XRJMviMdtJyAgAHVfXx+LVVVVoaZfd2ozAHyU/PDw4NZ9TUv66jqr1WfSkTAtXQG4hZr2R2Pa8wXR5AvicduhJCcns+upqSnU6enpqGlFAADQ0tKCmi5cmAsm3wVqT3Z2pz1fEE2+IJp8Qbzq+XQECgDQ0dGBuqmpybLd6ekp6oqKCtRLS0usnZ2/Wr1maJaC3kR7viCafEG8ajvmqDMuLg71yMgI6pycHNaOLrSMjo6ipiUoAF8wMaEjaDrqpiNOAO+Wr9rzBdHkC6LJF8Srnm9CfZj6/+DgIGtHfwOurq5Q04V1AIDOzk7UppdbzUiaHq+e/0vQ5AsiajsUagvx8fEsNjQ0hJruWjF3jlRXV6Pe3t5mMScWU5xGe74gmnxBvo3t2FFUVIR6eHgYNd1PCwDQ39+Purm5mcXcfXXEm2jPF0STL4gmXxDHPd/cLUJLSLsdgnbQV7NnZmZQFxYWsnb0nZ76+noWGxsbQy25gELRni+IJl8QR2yHWk14eDiL0bMNjo+PWewrk1gpKSmoNzY2WIyWnnQCDgCgtLQU9fLyMmrJka/2fEE0+YI4bjsxMTEsRifJ7PakuluB0OppYGCAxerq6lCbdjI7O4uaHjVzd3fn1n0/A10jNkfW9N+pPV8QTb4gmnxBHNkETUtGs3ykG5PNV8RXV1dR7+7uWn6GFW1tbeyablqm5ysAAGxubqJ2eoRrntFgdaaEeW/t+YJo8gVx/OwF8yBQ+vUvKSlhsYaGBtT0jePx8XHWjq7V0jLOPHthZWUFtXlsWHd3N2rztZJ/xbQWWr7qzpRviiZfEE2+IB4/5ot6b2ZmJoslJiaiprOOra2trB3dnUhfFzfvRb3c3LVCf4vc3S3oLuZzuFvKas8XRJMviCO2Y7dOSw98zsvLYzF62ixdhDHLRPOw6b+YlkEtKS0tjcXo8TJ2x41RzHZ09pbeW8/P/4Fo8gVxZDHFrnqgk06mfRQXF6Om+2vp64EA3JLoyU3r6+us3eTkJOr5+XkWowelWlVPAO7/dxxOVEna8wXR5AuiyRfkR7wi7skRqb6380vR5AvyI2znf0V7viCafEE0+YJo8gXR5AuiyRfkDwPZ3kalaEMHAAAAAElFTkSuQmCC\" y=\"-125.379908\"/>\n   </g>\n   <g id=\"patch_18\">\n    <path d=\"M 124.191525 220.379908 \nL 124.191525 125.803636 \n\" style=\"fill:none;stroke:#000000;stroke-linecap:square;stroke-linejoin:miter;stroke-width:0.8;\"/>\n   </g>\n   <g id=\"patch_19\">\n    <path d=\"M 218.767797 220.379908 \nL 218.767797 125.803636 \n\" style=\"fill:none;stroke:#000000;stroke-linecap:square;stroke-linejoin:miter;stroke-width:0.8;\"/>\n   </g>\n   <g id=\"patch_20\">\n    <path d=\"M 124.191525 220.379908 \nL 218.767797 220.379908 \n\" style=\"fill:none;stroke:#000000;stroke-linecap:square;stroke-linejoin:miter;stroke-width:0.8;\"/>\n   </g>\n   <g id=\"patch_21\">\n    <path d=\"M 124.191525 125.803636 \nL 218.767797 125.803636 \n\" style=\"fill:none;stroke:#000000;stroke-linecap:square;stroke-linejoin:miter;stroke-width:0.8;\"/>\n   </g>\n  </g>\n  <g id=\"axes_5\">\n   <g id=\"patch_22\">\n    <path d=\"M 237.683051 101.776271 \nL 332.259322 101.776271 \nL 332.259322 7.2 \nL 237.683051 7.2 \nz\n\" style=\"fill:#ffffff;\"/>\n   </g>\n   <g clip-path=\"url(#p935f5d7001)\">\n    <image height=\"95\" id=\"image5cbc98dffd\" transform=\"scale(1 -1)translate(0 -95)\" width=\"95\" x=\"237.683051\" xlink:href=\"data:image/png;base64,\niVBORw0KGgoAAAANSUhEUgAAAF8AAABfCAYAAACOTBv1AAACuElEQVR4nO3cvYoiQRQF4BpdIwMxEATNxTcQNBFjEVEQfAHBRDDwFQTxSUwM/ElFNBRUTAw1ExMjxUR2o71T1TjD7Ox2ny73fNFtq4PL4VKU7c+bUuqnIogAuoH/GcMHYvhADB+I4QMxfCCGD8TwgRg+EMMHYvhADB+I4QP9QDfwWygUkno+nxtr5/NZ6nq9LvXtdnO/MRdx8oEYPpAvt51oNGqsZTIZqVutltTdbtf9xlzEyQdi+EC+2Xb0k8t0OjXWUqmU1NVqVeper2fc93g8XOrOHZx8IIYPxPCB3pQPv7eTy+WM69lsJnUwGJS6UCh8eJ8NOPlADB/IN0dN3XK5NK5Pp5PUiUTC63Zcw8kHYvhADB/Il3u+03g8lrrRaEhdLBaN+3jUpC9j+EBWbDvH4/Hp684PXWzDyQdi+EC+fLDmFI/Hpd5sNlJfLhfjvnQ67VVL/wQnH4jhAzF8ICuOmvpTzcViIXWlUjHuK5fLUg+HQ/cb+0ucfCCGD2TFtqPbbrdS69/hcV5z26FPMXwghg9kxeMFnf518clkYqwdDgeps9mssXa/313t6zs4+UAMH8i6bUfX7/eN63a7LXWpVDLWRqORJz39CU4+EMMHsu4drm6323241ul0jGtuO2Rg+EAMH8jqPd/5Hw26WCzmYSffw8kHYvhAVm87+oM0pZRarVZSO7edcDgs9fV6dbWvr+LkAzF8IKsfrDnpn+EOBgNjLZ/PS/3ZKclLnHwghg/E8IGsPmo67fd7qZ3HyVqtJjX3fGL4SC911NQ5/3mw2WxKHYlEvG7nKU4+EMMHYvhAL3XU1Om/WlTKfKrpl1+wcPKBGD7Qy2476/XauA4E3ucsmUx63c5TnHwghg/0su9wbcDJB2L4QAwfiOEDMXwghg/E8IEYPhDDB2L4QAwfiOEDMXygX7JvhHNyYVMPAAAAAElFTkSuQmCC\" y=\"-6.776271\"/>\n   </g>\n   <g id=\"patch_23\">\n    <path d=\"M 237.683051 101.776271 \nL 237.683051 7.2 \n\" style=\"fill:none;stroke:#000000;stroke-linecap:square;stroke-linejoin:miter;stroke-width:0.8;\"/>\n   </g>\n   <g id=\"patch_24\">\n    <path d=\"M 332.259322 101.776271 \nL 332.259322 7.2 \n\" style=\"fill:none;stroke:#000000;stroke-linecap:square;stroke-linejoin:miter;stroke-width:0.8;\"/>\n   </g>\n   <g id=\"patch_25\">\n    <path d=\"M 237.683051 101.776271 \nL 332.259322 101.776271 \n\" style=\"fill:none;stroke:#000000;stroke-linecap:square;stroke-linejoin:miter;stroke-width:0.8;\"/>\n   </g>\n   <g id=\"patch_26\">\n    <path d=\"M 237.683051 7.2 \nL 332.259322 7.2 \n\" style=\"fill:none;stroke:#000000;stroke-linecap:square;stroke-linejoin:miter;stroke-width:0.8;\"/>\n   </g>\n  </g>\n  <g id=\"axes_6\">\n   <g id=\"patch_27\">\n    <path d=\"M 237.683051 220.379908 \nL 332.259322 220.379908 \nL 332.259322 125.803636 \nL 237.683051 125.803636 \nz\n\" style=\"fill:#ffffff;\"/>\n   </g>\n   <g clip-path=\"url(#p1118a556c8)\">\n    <image height=\"95\" id=\"image7959743032\" transform=\"scale(1 -1)translate(0 -95)\" width=\"95\" x=\"237.683051\" xlink:href=\"data:image/png;base64,\niVBORw0KGgoAAAANSUhEUgAAAF8AAABfCAYAAACOTBv1AAAECklEQVR4nO2dzSttURjG18FIlEiJkq8UipIinJEM/A0U/5mhARPKwEApE4oMDAx8lJBTPpMin3d03/u+q3t2226v8+zjPL/R467V2es+vfux1l5rHznn3LcjEKrQA6hkaD4Qmg+E5gOh+UBoPhCaD4TmA6H5QGrQA/hLLpcTXVNjh1VV9a9G3t/fRX99fYUfWEBY+UBoPhCaDwSa+Trnm5ubRc/Ozpp+LS0topeWlkQfHh6afp+fn2kPMSisfCA0H0hmppq1tbWi5+bmTFtvb6/ojo4O0QsLC6bfy8vLj6+ro8/n+zvsPhMrHwjNBwKNHX1b397eivajoK6uTvT4+Ph//925+LGjP9+/Vuio0bDygdB8IDQfSGammjqv19fXTdvg4KDoxsZG0XpV7JxzNzc3P74up5oVCs0Hkkrs6Fs36a2qN0YWFxdN2/z8vOiGhgbRfX19pt/R0VGscXCqSWg+EpoPJPWpZtIM1f0KhYJp293dFT01NSV6YmLC9FtbWxOtN9qzCisfCM0HkvpU0yfJ1M2PjI2NDdH5fF70yMiI6VdfXy/6/v4+1pj8sz+calYINB9IKrGjb9WoCIqLHwUHBwei7+7uROsjJc45197eLvrh4aHoGEsZLVGw8oHQfCA0H0jqK1w/T5M88fT7XV5eij49PRU9NDRk+ulNl3I4SsjKB0LzgaQ+1QzxeY+Pj6JXV1dFDwwMmH7Dw8Oil5eXTVuxMz1RManfiPH7pvF/ZuUDoflAaD6QzJzb0fh5+vHxIXpnZ0f009OT6Tc6Oiq6ra3NtOkpaty8Dn2mh5UPhOYDyWTs+OinnFdXV6IvLi5MP73inZycNG3n5+eio/Z3k5z3SRpBrHwgNB9ISWPHnz0Uu3WjbmO9Ut3b2zNtY2NjomdmZkzbysqK6LjHSvxx6BUvY6fMoflAaD6QzEw1ozJU/6xXu9vb26affnm6s7PTtOmj5c/Pz7HGFJXlOv+jxhsFKx8IzQeSmdiJe6vq1e7x8bFpOzk5Ea1fnHPOuaamJtF6lRx1Xb9NX7u6ulp00pPZrHwgNB9IJle4URT7vgbnnNva2hI9PT1t2lpbW0XrYyU/WZ3q2OHz/DKH5gOh+UCCZ37IfVD/6eTm5qbo/v5+09bT0yNar4zjrnZ9mPllDs0HEjx2Qr4F4n+2/sqX6+tr06aPkuhp59nZmemnH9yFhpUPhOYDoflASvp4Ie3896ex+u0T/yhhV1eX6O7ubtH+7wY99eTXfP1iaD6QzGympMHr66vo/f1906bfbtHHDN/e3oKPqxisfCA0H0jO/dI/Rhy1cRO1iVPKP//EygdC84HQfCC/NvPjwm+UrVBoPpCKjx0krHwgNB8IzQdC84HQfCA0H8gfqwyJYXzTf3gAAAAASUVORK5CYII=\" y=\"-125.379908\"/>\n   </g>\n   <g id=\"patch_28\">\n    <path d=\"M 237.683051 220.379908 \nL 237.683051 125.803636 \n\" style=\"fill:none;stroke:#000000;stroke-linecap:square;stroke-linejoin:miter;stroke-width:0.8;\"/>\n   </g>\n   <g id=\"patch_29\">\n    <path d=\"M 332.259322 220.379908 \nL 332.259322 125.803636 \n\" style=\"fill:none;stroke:#000000;stroke-linecap:square;stroke-linejoin:miter;stroke-width:0.8;\"/>\n   </g>\n   <g id=\"patch_30\">\n    <path d=\"M 237.683051 220.379908 \nL 332.259322 220.379908 \n\" style=\"fill:none;stroke:#000000;stroke-linecap:square;stroke-linejoin:miter;stroke-width:0.8;\"/>\n   </g>\n   <g id=\"patch_31\">\n    <path d=\"M 237.683051 125.803636 \nL 332.259322 125.803636 \n\" style=\"fill:none;stroke:#000000;stroke-linecap:square;stroke-linejoin:miter;stroke-width:0.8;\"/>\n   </g>\n  </g>\n  <g id=\"axes_7\">\n   <g id=\"patch_32\">\n    <path d=\"M 351.174576 101.776271 \nL 445.750847 101.776271 \nL 445.750847 7.2 \nL 351.174576 7.2 \nz\n\" style=\"fill:#ffffff;\"/>\n   </g>\n   <g clip-path=\"url(#p819a09e5be)\">\n    <image height=\"95\" id=\"image7f01d4c37e\" transform=\"scale(1 -1)translate(0 -95)\" width=\"95\" x=\"351.174576\" xlink:href=\"data:image/png;base64,\niVBORw0KGgoAAAANSUhEUgAAAF8AAABfCAYAAACOTBv1AAAD6ElEQVR4nO2czSttURjG9+H6D5gYIJQy9ZGBjzJCSOrkTGTGQMhQSkwMZSKiDCVFQtKZKcUZGJj4mjGRMFAy8nFHXu9a3X06d5+9zrPv9fxGz+pdZ+3V09u719lrrx3zPO/TIxDy0BP4ydB8IDQfCM0HQvOB0HwgNB8IzQdC84HQfCA0HwjNB0LzgfxCT+CLtrY20YODg0asq6tL9M7Ojujl5WWjXywWE31+fm7Ebm9vQ5lnmDDzgdB8IDEvh5spzc3NRrunp0f02NiY6I+Pj0Dj5+V959Lo6KgRW1hYCDSmS5j5QGg+EOdlp7S0VPTx8bERKyoqEq1LRhhl5/7+3ohdXFyI1qupu7s7o9/r62ugaweBmQ+E5gOh+UCc/8Pt7e0VrWu8a+xr6fbl5aXopaUlo9/IyIjbiSmY+UBoPhDnS83r62vRFRUVvv06Ozt9Y/oBWnFxsW+/MJar+fn5gX4XBGY+EJoPhOYDcV7zr66uRJeXl/v2KygoyPpa+/v7oquqqoxYSUlJRmMcHByI1ps4LmDmA6H5QCKzhxsGHR0doufn543Y8PBwRmNUV1eLbmxsNGJHR0fBJ/cHmPlAaD6Q/2q1o7EfrOlysr6+LrqwsNDol25DpqGhQXQYr6Iw84HQfCA0H4jzpebu7q5o/W6Oax4eHoz24eGh6NnZWdFzc3O+Y9j3jbDvS8x8IDQfiPOlZmVlpWi97LTJ5SZGWVmZ6I2NDSNWV1cn2t6QWVtbE93f35/1PJj5QGg+EJoPJKdPNdNtaqdSKdHxeNyIhX2q5PPz+zZnz0m37dj09HSo82DmA6H5QCKzmVJbWyt6dXXViCUSCdGPj49ZX6u7u1t0TU1N1uMFhZkPhOYDcV523t7eRNslw97I+KKlpcVon5yciN7c3BQ9MzNj9Et3qkSfkJmYmPDtp8eYmpoyYmGvupj5QGg+EJoPJKeHoO1arpeU+kljpq9326dKksmk6OfnZyPW2toqenJy0ndMfXh6cXExo3kEhZkPhOYDyWnZsdFvFbe3t4sOeqrk6elJ9MvLixHTS8108GTKD4HmA4GWHc37+7voML69kG6Mm5sb0X19fUbs9PQ00LWDwMwHQvOB0HwgkdlMGR8fF60//+V5ntfU1PTX421tbRltfark7OxMdC5rvA0zHwjNBxKZpabGfjt4e3tbdH19ve/v+HVBkjE0HwjNBxKZpabGPlUyMDAgWn+i8V+HmQ+E5gOJZNmx0V99XVlZET00NGT00/9W9/b23E8sS5j5QGg+kEj+w/0pMPOB0HwgNB8IzQdC84HQfCA0HwjNB0LzgdB8IDQfCM0HQvOB/AZOXP56h+bY9AAAAABJRU5ErkJggg==\" y=\"-6.776271\"/>\n   </g>\n   <g id=\"patch_33\">\n    <path d=\"M 351.174576 101.776271 \nL 351.174576 7.2 \n\" style=\"fill:none;stroke:#000000;stroke-linecap:square;stroke-linejoin:miter;stroke-width:0.8;\"/>\n   </g>\n   <g id=\"patch_34\">\n    <path d=\"M 445.750847 101.776271 \nL 445.750847 7.2 \n\" style=\"fill:none;stroke:#000000;stroke-linecap:square;stroke-linejoin:miter;stroke-width:0.8;\"/>\n   </g>\n   <g id=\"patch_35\">\n    <path d=\"M 351.174576 101.776271 \nL 445.750847 101.776271 \n\" style=\"fill:none;stroke:#000000;stroke-linecap:square;stroke-linejoin:miter;stroke-width:0.8;\"/>\n   </g>\n   <g id=\"patch_36\">\n    <path d=\"M 351.174576 7.2 \nL 445.750847 7.2 \n\" style=\"fill:none;stroke:#000000;stroke-linecap:square;stroke-linejoin:miter;stroke-width:0.8;\"/>\n   </g>\n  </g>\n  <g id=\"axes_8\">\n   <g id=\"patch_37\">\n    <path d=\"M 351.174576 220.379908 \nL 445.750847 220.379908 \nL 445.750847 125.803636 \nL 351.174576 125.803636 \nz\n\" style=\"fill:#ffffff;\"/>\n   </g>\n   <g clip-path=\"url(#pa8bec9f0dd)\">\n    <image height=\"95\" id=\"imageed1dcca22a\" transform=\"scale(1 -1)translate(0 -95)\" width=\"95\" x=\"351.174576\" xlink:href=\"data:image/png;base64,\niVBORw0KGgoAAAANSUhEUgAAAF8AAABfCAYAAACOTBv1AAAFTElEQVR4nO2cTSinbRTGj8HE+EpRNCEUmlBsZKHIwkoplLJiJSvFws7G3oaNklmI1FgI5TOUBRsRISKFjW+Rjxje1XvmOndD3vk/f4d5z291PZ17Hk/X3I5z3+d+ngAieiJDhU/aD/B/xsxXxMxXxMxXxMxXxMxXxMxXxMxXxMxXxMxXxMxXxMxXxMxXJEjzh3/69Ov/Pisri3VdXZ0Yl5iYyHpnZ4f1wMCAGLe8vMz6/PxcxJ6e3t/mrc18Rcx8RQLoDZsp3759E9f9/f2sMzIyWAcFvS4bPj4+iuujoyPWjY2NIvbjxw/Wd3d3r7q/v7GZr4iZr4jf005aWhrrkZEREUtJSWGNlY8XuKlldnaWdX19PWusnojetiqyma+Ima+Ima+I5zk/ODhYXH///p11ZWWliAUGBrLGXPvw8CDGYcy9P4J/NwICAkQMy9LDw0PWJSUlYtzKyspvf64/sJmviJmviOdpJz4+XlzPzc2xTkpKEjFMLwsLC6xbWlrEuKurK9bl5eWsi4qKxDhcQYeHh4uYm4b+5fT0VFwXFBSwXl9fFzGv05DNfEXMfEXMfEU8z/mZmZnienx8nHVMTIyInZ2dsa6urmY9MzPz7P2joqJYJyQkiBjm66amJhHDsZj/3Ty+tbXFOi8vT8TcBo2v2MxXxMxXxPMe7v39vbi+uLhgHR0dLWL7+/usl5aWWP/8+fPZ+9/c3LA+ODgQMVxNT01NiRg2U9LT01m7u6nJycmsq6qqRKyzs5O128j5E2zmK2LmK+J52sFNKyKi3d1d1m61gw2PlzbMnvs3borDFfPGxoaIVVRUsB4dHWX99etXMQ77x+4Rlp6eHta46v5TbOYrYuYrYuYr4nnOv729Fde4mnTLOsy3eG7H/buBpedz2sVduW5ubrLu6+tj3dDQIMZhzsfVNJEslS3nf3DMfEU8Tztu/xVXuCEhISKG5WVtbS1rbKwQEV1fX/v8XJiiFhcXWbvPi31lF0xDe3t7Pj+TzXxFzHxFzHxFPM/5bvk3OTnJurS0VMS+fPnCuri4mDXuLBIRra2tsf7TJjaWubjN4T4v3t/N/9ZA/4sw8xXxPO24TYaxsTHW2LMlIoqLi2MdGxvLuq2tTYwrKytj/VLZiatp95xOZGQk6+zsbNbuziiucLFM/t21r9jMV8TMV8Tv7+GenJywXl1dFTFMO/jrXlhYKMZ1d3ezxhfd3DSAK+bQ0FARy83NZY3HCt00hhuD09PTIuYeLfQVm/mKmPmKmPmK+P1tRFwl5ufnixi+nYiloAvuPOJxPixjieQ5HvxeAxFRTk4O69TUVNZu435+fp51c3OziOGRcTu388Ex8xXxe6mJG1f4K01E1N7ezhpPFX/+/FmMwzIUe734EjWRPNPjNklwYw1TIZbCRDIVbm9vi5gXqUY8k6d3M/4TZr4ib/rJF5ewsDDWXV1drPGlN6LnPwHj7q/jtbthhqeb8WhKR0eHGIcnnS8vL1/8eb5iM18RM18RM18R1ZyP4FG8wcFBEcOVMeZ/NwdjKejm6+HhYdatra2s3XLSLVH9ic18Rcx8Rd5N2sGeK76wRkTU29vLGt/zdY92YHk5MTEhYjU1NayPj499e1iPsJmviJmviJmviOqHrBEsG93j17jTiG+zREREiHG4Qzk0NCRiXp+58QKb+YqY+Yq8m7SDuKtM7NXimRs890Mkv5+PX5AlevnlOS1s5iti5ivybla4rwWPerhNFuzhet1v9Qc28xUx8xUx8xX5cDn/b8JmviJmviJmviJmviJmviJmviJmviJmviJmviL/AIa9xr/D/pfYAAAAAElFTkSuQmCC\" y=\"-125.379908\"/>\n   </g>\n   <g id=\"patch_38\">\n    <path d=\"M 351.174576 220.379908 \nL 351.174576 125.803636 \n\" style=\"fill:none;stroke:#000000;stroke-linecap:square;stroke-linejoin:miter;stroke-width:0.8;\"/>\n   </g>\n   <g id=\"patch_39\">\n    <path d=\"M 445.750847 220.379908 \nL 445.750847 125.803636 \n\" style=\"fill:none;stroke:#000000;stroke-linecap:square;stroke-linejoin:miter;stroke-width:0.8;\"/>\n   </g>\n   <g id=\"patch_40\">\n    <path d=\"M 351.174576 220.379908 \nL 445.750847 220.379908 \n\" style=\"fill:none;stroke:#000000;stroke-linecap:square;stroke-linejoin:miter;stroke-width:0.8;\"/>\n   </g>\n   <g id=\"patch_41\">\n    <path d=\"M 351.174576 125.803636 \nL 445.750847 125.803636 \n\" style=\"fill:none;stroke:#000000;stroke-linecap:square;stroke-linejoin:miter;stroke-width:0.8;\"/>\n   </g>\n  </g>\n  <g id=\"axes_9\">\n   <g id=\"patch_42\">\n    <path d=\"M 464.666102 101.776271 \nL 559.242373 101.776271 \nL 559.242373 7.2 \nL 464.666102 7.2 \nz\n\" style=\"fill:#ffffff;\"/>\n   </g>\n   <g clip-path=\"url(#p78e6e0490b)\">\n    <image height=\"95\" id=\"imagedadbd1b143\" transform=\"scale(1 -1)translate(0 -95)\" width=\"95\" x=\"464.666102\" xlink:href=\"data:image/png;base64,\niVBORw0KGgoAAAANSUhEUgAAAF8AAABfCAYAAACOTBv1AAADkElEQVR4nO2dPUgrURCFNxKQFGkkiHYSLSwUAqkErQ1YWMTGQrCziohgY6mFlYKF2NmqxEYCESstBS39qSxSiOJPKiWGiLF68+5cEklk7x7fvvNVZ5x9u8NhnHdzN7tGPM+rewRCB7qA/xmaD4TmA6H5QGg+EJoPhOYDoflAaD6QKLoAVxQKBRVvbGyIPjk5CbqchrDzgdB8IDQfSMQL6a7mw8ODiqPRv/+9ra6uit7c3AysJht2PhCaDyS0Y2dtbU3FS0tLoiuViuh4PB5YTTbsfCA0H0hoP+G+v783zcVisQAraQ47HwjNB0LzgYR25kcikW/j3wA7HwjNBxLasVOv17+N/zA0NKTiy8tLZzXZsPOB0HwgNB8IdOanUinRAwMDbf/7g4ODprlkMtnSOYKc8TbsfCA0H4jzsTM4OCh6ZWVF5SYmJkR3dna2fe7n52cVm8vJRCLR0jnsHU7zRotr2PlAaD4Q5/dw9/f3RWezWZU7Pz8XbX6dr1XsT6fmCqevr0/lRkZGGp4jl8upeHt7u+06fgo7HwjNB0Lzgfi+1LSXbv39/aKvrq5Uzlxqlsvltq+Vz+eb5rq7u1V8f3/f8LiODlz/sfOB0Hwgvo8d++t35ubZ7u6uyv1k1LTK4+Ojis1NOHPJOzo6qo7b2tpyVpMNOx8IzQdC84H4PvOr1aqK7+7uRE9PT6vczMyM35dvyu3tbcOf21sUQcLOB0LzgUB3Nc0dRde7ieYu59nZmeiuri513Pj4uGjXD0uz84HQfCDOx87U1JTonZ0dlSuVSqKHh4ddlqFYX18XvbCwoHKnp6eiM5mMytVqNV/rYOcDoflAaD6QQB+C3tvbU/Hk5KTosbEx0RcXF07rMJeXLy8vKvf5+Sm6p6dH5Z6ennytg50PhOYDCXTs2JtY5rLO/PVPp9PquNfXV2c1mTV4nr650tvbq3IcOyGC5gMJ9OEI+0EEc3//6OhI9PLysjrOjv3k8PBQxfY9XZew84HQfCA0Hwj0NV/mG//MGxf2w3H2ks9PZmdnVby4uCja/lr529ubr9dm5wOh+UCgz+F+fHyILhaLoufn5wOrwf40fX19LdrvMWPDzgdC84HQfCC/5n07x8fHoufm5gK7rv1HDm5ubgK7NjsfCM0HEtoXWf8LsPOB0HwgNB8IzQdC84HQfCA0HwjNB0LzgdB8IDQfCM0HQvOB0HwgNB8IzQfyBYxMzGenufu/AAAAAElFTkSuQmCC\" y=\"-6.776271\"/>\n   </g>\n   <g id=\"patch_43\">\n    <path d=\"M 464.666102 101.776271 \nL 464.666102 7.2 \n\" style=\"fill:none;stroke:#000000;stroke-linecap:square;stroke-linejoin:miter;stroke-width:0.8;\"/>\n   </g>\n   <g id=\"patch_44\">\n    <path d=\"M 559.242373 101.776271 \nL 559.242373 7.2 \n\" style=\"fill:none;stroke:#000000;stroke-linecap:square;stroke-linejoin:miter;stroke-width:0.8;\"/>\n   </g>\n   <g id=\"patch_45\">\n    <path d=\"M 464.666102 101.776271 \nL 559.242373 101.776271 \n\" style=\"fill:none;stroke:#000000;stroke-linecap:square;stroke-linejoin:miter;stroke-width:0.8;\"/>\n   </g>\n   <g id=\"patch_46\">\n    <path d=\"M 464.666102 7.2 \nL 559.242373 7.2 \n\" style=\"fill:none;stroke:#000000;stroke-linecap:square;stroke-linejoin:miter;stroke-width:0.8;\"/>\n   </g>\n  </g>\n  <g id=\"axes_10\">\n   <g id=\"patch_47\">\n    <path d=\"M 464.666102 220.379908 \nL 559.242373 220.379908 \nL 559.242373 125.803636 \nL 464.666102 125.803636 \nz\n\" style=\"fill:#ffffff;\"/>\n   </g>\n   <g clip-path=\"url(#p54f1ae15dd)\">\n    <image height=\"95\" id=\"image3a1b72fe51\" transform=\"scale(1 -1)translate(0 -95)\" width=\"95\" x=\"464.666102\" xlink:href=\"data:image/png;base64,\niVBORw0KGgoAAAANSUhEUgAAAF8AAABfCAYAAACOTBv1AAAFLElEQVR4nO2dyUpkSxCGw1lxRkFRUZxwAKeFiogIog8guhXc+Ra+hAvBJxB0IyhuRBwQcQRRNyKiOOOA8zzcXfQfea1qb3Gq4tod3+o/HdlW9k9WGDmc7DAi+iRDhXDtDvzNmPmKmPmKmPmKmPmKmPmKRGp3IFhERET4jH1+/qquPz4+QtGdL7GRr4iZr8iPTjthYWHiOSYmhnVWVpaIpaamsr6/v2d9cHAg2j08PLAOdkqyka+Ima+Ima/IH5Xz4+PjWTc1NYlYZWUl6+3tbdazs7Oi3dbWFuuXlxdP+ukLG/mKmPmK/Oi045aCT09PrPPy8kSstbWVdWZmJuulpSXRLjw8dOPRRr4iZr4iPzrtuDw/P7NOSEgQsdzcXNY42x0eHhbt1tfXg9S7f2MjXxEzXxEzX5H/Tc7HEs+dub6/v3/rZ2Dp6ZahOPvF1c+cnJyAPssLbOQrYuYrEtK046YTfI6KimKNaYGI6PX1lTWWk25qiYz89c8pLy/3GcPPdWe0odzTtZGviJmviJmviCc5H3Oom9cx18bGxopYcnIy6+zsbNbuimR0dDTrxcVF1oeHh6IdrlaWlpb67COe28GNFTcWbGzkK2LmK+JJ2sFyzV1NzM/PZ11fXy9iRUVFrAsLC1lnZGSIdriX2tLSwnpmZka0S0tLY52UlOSzv1iunp6eipilnb8EM18RT9IOVjRYtRARtbW1sa6trRWxt7c31li5uBsaeLwPj/PhnxPJmbCbTtLT01ljasFKish3VRQMbOQrYuYrYuYr4vkMF0tLIqKGhgbWd3d3IjYyMsJ6bm6O9dXVlWjna4PD3xFxzP9ERAMDA1/+vbKyMtFuYWHht5/rFTbyFTHzFfE87fjbnDg/Pxex+fl51lgaBlri4Ux4bGxMxDY3N1lXVFSwxhkzEdHg4CBrt5T1Ghv5ipj5ipj5iniS83GZ4Pj4WMQuLi5Yuyue7tTeSx4fH8Xz1NQU66qqKtaNjY2iHZaeq6urIub15rqNfEXMfEU8STs4Ezw6OhKx3d1d1u6qJj7jqqY7Ow0EN0WMjo6y7unpYY3HxYmI2tvbWburq7gJ4wU28hUx8xXxJO3gV/zy8lLE8Nm9D6G7u5v1ysoK6729PZ8/H/E3E3ZjGxsbrJeXl1lXV1eLdjj7jYuLEzFLO38QZr4iZr4inh8Rd+8rwFze2dkpYgUFBaw7OjpY9/f3i3a4aY653N1M8QfOePv6+lj39vb6bOee/bm+vv6yH4FiI18RM18Rz9OOWxbiFSqTk5Mi1tXVxbquro710NCQaLe/v8860K87zsLxvoXx8XHRDl+cc9MO3liIi4mBYiNfETNfkaC/EIf7oNPT0yLW3NzMOjExkXVJSYloh3sEXswy8QgL7iMTyZcq8NQzkZzx+ruF8Lup0Ua+Ima+Ima+IkHP+Zj/dnZ2RGxiYoJ1TU0N6+LiYtFubW2N9dnZGetAj/Nhn9yzRCcnJ6zd3y+4B42lprv5890y1Ea+Ima+IiG9e8E9focXit7e3rLGWwKJiFJSUljj4pbb7rslHqYr9w0WXFhzT0vf3NywxvIy0Fm3jXxFzHxFzHxFwijI/z0fHhnHO3WI5JkZfFvQna5j7sXjh+7Gjb/cixsvuDrp3u2DuCUk/q7wd3TQlhd+AGa+IkFPO+LD/FzzhenJ39st+NX3Yh/1v+wDe/1StI18Rcx8RUKadgyJjXxFzHxFzHxFzHxFzHxFzHxFzHxFzHxFzHxFzHxFzHxFzHxFzHxF/gEFqtxslGavSgAAAABJRU5ErkJggg==\" y=\"-125.379908\"/>\n   </g>\n   <g id=\"patch_48\">\n    <path d=\"M 464.666102 220.379908 \nL 464.666102 125.803636 \n\" style=\"fill:none;stroke:#000000;stroke-linecap:square;stroke-linejoin:miter;stroke-width:0.8;\"/>\n   </g>\n   <g id=\"patch_49\">\n    <path d=\"M 559.242373 220.379908 \nL 559.242373 125.803636 \n\" style=\"fill:none;stroke:#000000;stroke-linecap:square;stroke-linejoin:miter;stroke-width:0.8;\"/>\n   </g>\n   <g id=\"patch_50\">\n    <path d=\"M 464.666102 220.379908 \nL 559.242373 220.379908 \n\" style=\"fill:none;stroke:#000000;stroke-linecap:square;stroke-linejoin:miter;stroke-width:0.8;\"/>\n   </g>\n   <g id=\"patch_51\">\n    <path d=\"M 464.666102 125.803636 \nL 559.242373 125.803636 \n\" style=\"fill:none;stroke:#000000;stroke-linecap:square;stroke-linejoin:miter;stroke-width:0.8;\"/>\n   </g>\n  </g>\n  <g id=\"axes_11\">\n   <g id=\"patch_52\">\n    <path d=\"M 578.157627 101.776271 \nL 672.733898 101.776271 \nL 672.733898 7.2 \nL 578.157627 7.2 \nz\n\" style=\"fill:#ffffff;\"/>\n   </g>\n   <g clip-path=\"url(#pce9348a274)\">\n    <image height=\"95\" id=\"imagef5f7d82143\" transform=\"scale(1 -1)translate(0 -95)\" width=\"95\" x=\"578.157627\" xlink:href=\"data:image/png;base64,\niVBORw0KGgoAAAANSUhEUgAAAF8AAABfCAYAAACOTBv1AAADAklEQVR4nO2csWoqQRSGN8mNBpuIWgVJlVKrCIK9jRZirUU6UYQ8QLDTR/AJUqQRizRiK1ipkMLWQrBUtBOMaKp77sySvYjX9d/J/b/qH2YSDh+Hw84ac2FZ1t4iEC7RBfzPUD4QygdC+UAoHwjlA6F8IJQPhPKB/EIX8B13d3faul6vSx6NRpKbzebZanIDdj4QygdC+UA8M/Ovrq4kNxoNbe/p6enbc5z55GgoH4hnxs7l5Z8+SCQSjuceHh7OUc5ZYOcDoXwgnhk7n5+fkieTibYXi8Uk39zcSL6+vnb8HSbAzgdC+UAoH4hnZr5Kt9vV1rlcTvL9/b3k29tb7dx8Pne3sBPDzgdC+UA8OXYWi4XjXiQSkfz8/Kzt1Wo112pyA3Y+EMoHQvlALiwP/ol4NBrV1tPpVLL69nM8Hmvn4vG4u4WdGHY+EMoH4smxY+f19VVysViUvFqttHPpdFrycDh0va5/hZ0PhPKBePKGa6fVaklWx04wGNTOlUolyRw75K9QPhDKB2LEzFffcu52O8nqbdey9EdNE2DnA6F8IEbccFWcbruWpd947S/ZZrOZq3UdAzsfCOUDoXwgRjxqqqivDewzX33dUC6Xtb2XlxdX6zoGdj4Qygdi3KNmKpWS3O/3Hc8tl0ttHQqFXKvpWNj5QCgfiHFjR8U+dtSRtNlstL1kMin54+PD1boOhZ0PhPKBUD4Q4264Kr1eT1urM9/n82l76v9zyGaz7hZ2IOx8IJQPxOhHTfv/aBgMBo5nt9utZPuXp1Gw84FQPhCjx47f79fW6o338fHR8ecymYzkTqdz+sIOhJ0PhPKBUD4Qo2e+nXw+L7ndbjuee3t7k1woFLS9/f58Otj5QCgfyI8aO+FwWLL9AxP7d3t/EwgEtPV6vT55XU6w84FQPhDKB2L0hyl21G+wVCoVbe/9/V1ytVqVbP+g/Zyw84FQPpAf9ahpGux8IJQPhPKBUD4QygdC+UAoHwjlA6F8IJQPhPKBUD4QygdC+UAoHwjlA/kCXBiSKdrbqi8AAAAASUVORK5CYII=\" y=\"-6.776271\"/>\n   </g>\n   <g id=\"patch_53\">\n    <path d=\"M 578.157627 101.776271 \nL 578.157627 7.2 \n\" style=\"fill:none;stroke:#000000;stroke-linecap:square;stroke-linejoin:miter;stroke-width:0.8;\"/>\n   </g>\n   <g id=\"patch_54\">\n    <path d=\"M 672.733898 101.776271 \nL 672.733898 7.2 \n\" style=\"fill:none;stroke:#000000;stroke-linecap:square;stroke-linejoin:miter;stroke-width:0.8;\"/>\n   </g>\n   <g id=\"patch_55\">\n    <path d=\"M 578.157627 101.776271 \nL 672.733898 101.776271 \n\" style=\"fill:none;stroke:#000000;stroke-linecap:square;stroke-linejoin:miter;stroke-width:0.8;\"/>\n   </g>\n   <g id=\"patch_56\">\n    <path d=\"M 578.157627 7.2 \nL 672.733898 7.2 \n\" style=\"fill:none;stroke:#000000;stroke-linecap:square;stroke-linejoin:miter;stroke-width:0.8;\"/>\n   </g>\n  </g>\n  <g id=\"axes_12\">\n   <g id=\"patch_57\">\n    <path d=\"M 578.157627 220.379908 \nL 672.733898 220.379908 \nL 672.733898 125.803636 \nL 578.157627 125.803636 \nz\n\" style=\"fill:#ffffff;\"/>\n   </g>\n   <g clip-path=\"url(#pe8206a75f7)\">\n    <image height=\"95\" id=\"imagefb84ee5c8a\" transform=\"scale(1 -1)translate(0 -95)\" width=\"95\" x=\"578.157627\" xlink:href=\"data:image/png;base64,\niVBORw0KGgoAAAANSUhEUgAAAF8AAABfCAYAAACOTBv1AAAEPUlEQVR4nO2cyyt1URjG1+FzSZJLFIWZgVsUM+IfUGJgaGbmLzAxl39BGRgoGUjJgDJUEkXJbWKAgUsol1y+2fu978rZ37btfZ7DeX6j57TWWXudp7Xfsy7v3inn3IcjEPLQHchlaD4Qmg+E5gOh+UBoPpA/6A58RiqVMp/z8v6Nkbe3t0x3JzE48oHQfCBZE3ZKSkpEd3Z2mrLy8nLROzs7oi8vL02919fXRPqWFBz5QGg+EJoPBBrz9RSytbVV9PT0tKlXXV0tenV1VfTExISpd3t7K/rjI/s3aznygdB8INCw8/7+Lvr6+lp0ZWWlqVdXVye6ra3t0+87Fy3U+Kvp77b3FTjygdB8IFmzwj0/Pxf99PRkygoKCkTX19eLzs/P//Z1/bCTyVkSRz4Qmg+E5gPJmpiv4/ze3p4pa25uFl1TUyO6trbW1NPT1SB0nEeuhDnygdB8IFkTdvRqdX5+3pQNDQ2JLiwsFD0yMmLqTU5OftpeEJxq5ig0HwjNB5JyMaSIx7EzqNtobGw0ZfrQvKysTPTR0ZGp193dLfru7i7UtYJiPnc1fzE0H0gsU82g2zhsep++xf2V6uHhoeiuri7R+pDFObsS3tzcTNt+UDjhVDNHoPlAsmaFq3l8fDSfFxYWRLe3t4suLi429YaHh0VvbW2ZsnSphH6YyeSmG0c+EJoPhOYDSXyFqwkbQ/2D8Y6ODtE6XVCnjjvn3P7+vuienh5Tdn9/H+rajPk5As0HEstUU9+ecRxO+N85OTkRvbu7K7qvr8/Ua2hoEN3U1GTKtre3Q/Up6LcE9TEKHPlAaD4Qmg8k9u2FOGKh34beblhZWRHtTydLS0tFj42NmbLx8XHRLy8vkfqV7j8g6m/myAdC84HEssKNm6B3L+gH59bX1029iooK0aenp6ZMh6iLi4tI/Ui3+mXY+YHQfCAZPUyJehvrz2dnZ6KPj49NPZ064mcwt7S0iNbvbPjKeW66s2qGnR8IzQdC84FkZcz30ene+lBkbW3N1NPv6SkqKjJlo6Ojojc2NkRHfUdP2JTDIDjygdB8IBld4fpns/p21WmFQbet/k5/f78pW1paEq032Zyz00s97by6uvpPrz9Hr7qDpsaBbUS6MokFmg8k8dmODhP6Vg2qF3bVqR+acM65m5sb0X7YqaqqEj04OCh6ZmYmbftBhH3gLgiOfCA0HwjNB5LRmB83fgrg8vKyaP8MV//f6FTyubk5U89/10+ScOQDoflAEg87eurmPxz33ZDktzc7Oyt6YGDAlOmM5oeHB9H6BdrOOff8/CyaWcq/GJoPhOYDyWjMTzqGHhwciJ6amjJlvb29ohcXF0XrGO8cH4LOGWg+kKxMF4yKPqzxp5B6l1PvfjLs5Cg0H8ivCjs/DY58IDQfCM0HQvOB0HwgNB8IzQdC84HQfCA0HwjNB0LzgdB8IH8BIKVyu3bM4g0AAAAASUVORK5CYII=\" y=\"-125.379908\"/>\n   </g>\n   <g id=\"patch_58\">\n    <path d=\"M 578.157627 220.379908 \nL 578.157627 125.803636 \n\" style=\"fill:none;stroke:#000000;stroke-linecap:square;stroke-linejoin:miter;stroke-width:0.8;\"/>\n   </g>\n   <g id=\"patch_59\">\n    <path d=\"M 672.733898 220.379908 \nL 672.733898 125.803636 \n\" style=\"fill:none;stroke:#000000;stroke-linecap:square;stroke-linejoin:miter;stroke-width:0.8;\"/>\n   </g>\n   <g id=\"patch_60\">\n    <path d=\"M 578.157627 220.379908 \nL 672.733898 220.379908 \n\" style=\"fill:none;stroke:#000000;stroke-linecap:square;stroke-linejoin:miter;stroke-width:0.8;\"/>\n   </g>\n   <g id=\"patch_61\">\n    <path d=\"M 578.157627 125.803636 \nL 672.733898 125.803636 \n\" style=\"fill:none;stroke:#000000;stroke-linecap:square;stroke-linejoin:miter;stroke-width:0.8;\"/>\n   </g>\n  </g>\n  <g id=\"axes_13\">\n   <g id=\"patch_62\">\n    <path d=\"M 691.649153 101.776271 \nL 786.225424 101.776271 \nL 786.225424 7.2 \nL 691.649153 7.2 \nz\n\" style=\"fill:#ffffff;\"/>\n   </g>\n   <g clip-path=\"url(#pda9d3e8a46)\">\n    <image height=\"95\" id=\"image5ec3656548\" transform=\"scale(1 -1)translate(0 -95)\" width=\"95\" x=\"691.649153\" xlink:href=\"data:image/png;base64,\niVBORw0KGgoAAAANSUhEUgAAAF8AAABfCAYAAACOTBv1AAAD8UlEQVR4nO2dTyhtURTG9+WllJJQMpKplDIxkD8TlCEykEiKlAEyUSaYmTNB/iZ/ipSUgcKYyEyIJGGAFMXAG7319jq9e7v3OOd87/D9Rt9uXfcsn9Vyjr32FTHGfBoCIQmdwE+G5gOh+UBoPhCaD4TmA6H5QGg+EJoP5Bc6gUQpLS0VPTQ0pGJ7e3uix8fHVezx8VH0+/u7T9klBisfCM0HQvOBREzI/qp5dHQkurCwUMUikYjoz0/9bU1OTooeHh4WfX197XGG8cPKB0LzgYTuVjMWExMTond3d1Wsp6dH9MjIiOiWlhb/E4sCKx8IzQfyrdpOcnKy6IWFBRXb2NgQnZGREVhOsWDlA6H5QGg+kNA94XZ2dooeGxtTsfv7e9E5OTmB5eQWVj4Qmg8kdG3H5vb2Vq3T0tJEl5eXq9jh4WEgOSUCKx8IzQdC84GEuudPTU2pdWtrq+jFxUUVa2pqCiKlhGDlA6H5QELddhoaGtR6aWlJ9MvLi4pVVlaK/l9uO1n5QGg+kFBvpqysrKh1bW2t6ObmZhXLzMwMJKdEYOUDoflAaD6QUN9qOsnPzxd9dnamYvaYYXV1teiHhwff84oGKx8IzQfie9uxZ2SKiopUrKamRnR/f79oey/WGGNmZmbiutbc3Jzo4+PjqK+bn58XzXHBHwrNB0LzgXje84uLi9V6fX1ddG5ubvREYpwqiZd43+Pi4kK0/XvHGGPOz89dXdsNrHwgNB+I521ndnZWrWPtndqHlp+enkQ7DzDHiz2rU1FRoWIlJSX//JrV1VW1bmxsdHVtN7DygdB8IIFupmxubqp1XV2d6I+Pjy+///b2tujU1FQVGxgYEN3V1SW6vr7+y9d1CysfCM0HQvOBeN7z7adMY4xJSvr783U+4aakpIj2oufbvL29qfXg4KDom5sb0c7TLfYIYltbm6c5OWHlA6H5QDxvO319fWr9+voqur29XcXscb/p6WmvU4nK/v6+6Lu7OxWzJ513dnZUzN6E8QJWPhCaD8T3PdyqqirRW1tbUV9nn5sNcpyjoKBArU9OTkSvra2pmN2SnFPQbmDlA6H5QGg+EN97flZWlmj75IgxesPDftLs7u72M6WYjI6Oiu7t7VWxjo4O0fZHirmFlQ+E5gMJdErZ+fFap6enotPT00U7b/GC3Fe18zg4OFCx7Oxs0faIjHMiOl5Y+UBoPhCaDyTQDXT7HwgYox/tl5eXRTtH9vLy8kRfXl76ktsfnp+fRTtHH8vKykRfXV19+VqsfCA0H8i3OhAXNlj5QGg+EJoPhOYDoflAaD4Qmg+E5gOh+UBoPhCaD4TmA6H5QGg+EJoPhOYD+Q20FO6WgiwtSgAAAABJRU5ErkJggg==\" y=\"-6.776271\"/>\n   </g>\n   <g id=\"patch_63\">\n    <path d=\"M 691.649153 101.776271 \nL 691.649153 7.2 \n\" style=\"fill:none;stroke:#000000;stroke-linecap:square;stroke-linejoin:miter;stroke-width:0.8;\"/>\n   </g>\n   <g id=\"patch_64\">\n    <path d=\"M 786.225424 101.776271 \nL 786.225424 7.2 \n\" style=\"fill:none;stroke:#000000;stroke-linecap:square;stroke-linejoin:miter;stroke-width:0.8;\"/>\n   </g>\n   <g id=\"patch_65\">\n    <path d=\"M 691.649153 101.776271 \nL 786.225424 101.776271 \n\" style=\"fill:none;stroke:#000000;stroke-linecap:square;stroke-linejoin:miter;stroke-width:0.8;\"/>\n   </g>\n   <g id=\"patch_66\">\n    <path d=\"M 691.649153 7.2 \nL 786.225424 7.2 \n\" style=\"fill:none;stroke:#000000;stroke-linecap:square;stroke-linejoin:miter;stroke-width:0.8;\"/>\n   </g>\n  </g>\n  <g id=\"axes_14\">\n   <g id=\"patch_67\">\n    <path d=\"M 691.649153 220.379908 \nL 786.225424 220.379908 \nL 786.225424 125.803636 \nL 691.649153 125.803636 \nz\n\" style=\"fill:#ffffff;\"/>\n   </g>\n   <g clip-path=\"url(#p9757274e8c)\">\n    <image height=\"95\" id=\"imagea3931867e6\" transform=\"scale(1 -1)translate(0 -95)\" width=\"95\" x=\"691.649153\" xlink:href=\"data:image/png;base64,\niVBORw0KGgoAAAANSUhEUgAAAF8AAABfCAYAAACOTBv1AAAFV0lEQVR4nO2cyyu+WxTHt/stchsRRVEit8JASVJmSpjJQMzMlJGpf0AZmkmZyMAAJaHIRCnCwICQ3HO/O7N1vmt1nqeX87y/5T1nfUbfp71f77baz3rX3mvtHeWc+3KGCtHaA/g/Y8ZXJFZ7AP+GqKgoz7avr9/vTW3mK2LGV8SMr0jE+fyEhATSBQUFrC0+Pp70/v4+a3t8fCT9W34PbOYrYsZXJCLcTkZGBun+/n7SXV1drN/r6yvp4eFh1jY9PU367e3N87vQJfm5pyBcl818Rcz4ipjxFfmVPl9uG2RlZZFGPy9DzZeXF9IlJSWsbWZmhvTHxwfp6Gg+//C75W+Dl5+X4/38/PzHfhKb+YqY8RX5lW5Hvt53d3ek4+LiSMfG8uGjm7i5uWFt7+/vpNHtyO/CVXJiYqLn30fXEqqbkdjMV8SMr8ivdDuS6+tr0svLy6Tz8vI8P3N0dMSeQ3UZ6IbQxTnH3RC6sefnZ89x+GEzXxEzviJmfEXC7vNx9SdDQwz5/MI19Ndzc3OkOzs7PT9zf3/PnkMNB/3GhH4e/6+f7nDazFfEjK9I2N0OblzFxMSwNnx18ZX2cxFra2ukn56eWFtqairp8vJy1jY7OxviiP9GuhN0SX79QsVmviJmfEXM+IpEuTCXiKNfl0kHL1/p50OxbmdxcZG1VVdXk15YWGBtbW1tpDHR/h28akPN50cgZnxFwu52wkl9fT17npiYIC3D0JaWFtKHh4ekv+MygljVIjbzFTHjKxIRyRQvNjc32TOWBDY3N7M2fB4fHyctI59wlwgiNvMVMeMrYsZXJHCfL1eBmISWCWnc8fRLauMzJmTy8/NZv7S0NNIpKSmsrbe3l/T6+jrpvb091g93V8N9gsVmviJmfEUCWeGiq5Eldo2NjaTb29tZW3Z2Nun09HTSMmlxcXFB+vLyknRhYSHrV1RURDo3N9dzvLjp1t3dzdqurq5Im9v5D2PGV8SMr0jgoWZOTg57HhgYIF1XV+f5uYeHB9Iy1MRaSOyHiRXneHm3PHGCYW5DQwPp2tpa1m9+fp60V8I8KGzmK2LGVyQQt4OhpgzxsIxblgtiSR8eWFtZWWH9MDGSmZlJGg9HO8fdREdHB2vD/G5SUhLpvr4+1m9paYk03tcQDmzmK2LGVyTwaEeWBGKUIRMXGxsbpIeGhkifn5+zfl6nRZKTk1k/rGbGhIlzzo2MjJDGfG5VVRXrh+5pdXWVtf304JsXNvMVMeMrYsZXJPBQUyZMcEUqV50YXuLOpd/KEu9X8LsbAb/XOed6enpIj46OksZdV+d46Lmzs8Pagt7xtJmviBlfkcBDzdPTU/Z8e3tLGvOj8tnvdlgv5Kvv5wpwHIODg6THxsZYv7KyMtKy9mdqaoq031VhoWIzXxEzviKBuB183eUqEN1QcXExa8PVJG6YnZ2def59P0KtIsYVNFY2O8dvL2xtbWVtWHJycHDw7fFJbOYrYsZXxIyvSOA+X949g1d0yfAM626amppIywPLGCaGOo5QS723trZY2+7uLmmZI66oqCB9cnJC+qcH7GzmK2LGVyRwt4Ovo3P8ihasInaOb8JVVlaSPj4+Zv3wBArmc/2u6PI784saQ0bnnJucnCQtq6BxXJiPNrcTgZjxFTHjKxL2Q9Do52tqalhbaWkpaUySbG9vs354egSveZRJl58s82WCB8NLGWri92FNz0/LCm3mK2LGV+SP3r0ga3q8XnG5EsbwMtyVw38Sm/mKmPEViegrXyIdm/mKmPEVMeMrYsZXxIyviBlfETO+ImZ8Rcz4ipjxFTHjK2LGV8SMr8hf8EwfKNJRekEAAAAASUVORK5CYII=\" y=\"-125.379908\"/>\n   </g>\n   <g id=\"patch_68\">\n    <path d=\"M 691.649153 220.379908 \nL 691.649153 125.803636 \n\" style=\"fill:none;stroke:#000000;stroke-linecap:square;stroke-linejoin:miter;stroke-width:0.8;\"/>\n   </g>\n   <g id=\"patch_69\">\n    <path d=\"M 786.225424 220.379908 \nL 786.225424 125.803636 \n\" style=\"fill:none;stroke:#000000;stroke-linecap:square;stroke-linejoin:miter;stroke-width:0.8;\"/>\n   </g>\n   <g id=\"patch_70\">\n    <path d=\"M 691.649153 220.379908 \nL 786.225424 220.379908 \n\" style=\"fill:none;stroke:#000000;stroke-linecap:square;stroke-linejoin:miter;stroke-width:0.8;\"/>\n   </g>\n   <g id=\"patch_71\">\n    <path d=\"M 691.649153 125.803636 \nL 786.225424 125.803636 \n\" style=\"fill:none;stroke:#000000;stroke-linecap:square;stroke-linejoin:miter;stroke-width:0.8;\"/>\n   </g>\n  </g>\n  <g id=\"axes_15\">\n   <g id=\"patch_72\">\n    <path d=\"M 805.140678 101.776271 \nL 899.716949 101.776271 \nL 899.716949 7.2 \nL 805.140678 7.2 \nz\n\" style=\"fill:#ffffff;\"/>\n   </g>\n   <g clip-path=\"url(#p38c26ae7e4)\">\n    <image height=\"95\" id=\"imagefc0f4f02ab\" transform=\"scale(1 -1)translate(0 -95)\" width=\"95\" x=\"805.140678\" xlink:href=\"data:image/png;base64,\niVBORw0KGgoAAAANSUhEUgAAAF8AAABfCAYAAACOTBv1AAAD0UlEQVR4nO2cyyt1YRTG1+FLyCXXkcuEohAzf4AyI0pu5R9AMmFEUZIyMjUwklySlIFSRgaihJJcBgYKRZQBGfhmy7v2Z4vP3vs5dZ7f6Fmt97z77Wm1znv2fveJici7EAhJ6AUkMjQfCM0HQvOB0HwgNB/IH/QC4pmsrCwTHx4eqh4YGFC9vr7+X/Oz8oHQfCBsO1+wsrJi4vz8fNUXFxe/np+VD4TmA6H5QNjzPZSUlKhuaGgwuYWFBdUnJye/vhYrHwjNB5LwbaegoMDEW1tbvmOnpqYCvTYrHwjNB5Lwbaenp8fEZWVlqldXV03u/Pw80Guz8oHQfCA0H0hMEvDcTm1treqdnR2TS01NVV1ZWWlyZ2dnga6DlQ+E5gNJmK1mUtJHnQ0NDal224yIyNjYmOqg28w/awp1dvIlNB8IzQeSMFvNjo4O1fPz86qvr6/NOHcb+vDwEOqaWPlAaD6QuNlqus9Lu7q6TO7x8VH16Oio6ufnZ9/50tLSTNze3v7puO3tbROH3WpcWPlAaD4QaNtxW417NC87O9uMe3//2JAlJyerHh4eNuNeXl5Uj4yMmFxzc7Pqq6sr1ePj4z9ddmCw8oHQfCA0H0ikPT83N9fES0tLqjMzM1W7Pd4b9/X1qa6oqDDjent7Vbe2tvrOsbm5qfry8vJbaw8DVj4Qmg8k0rbjPfXrbimPj49VuzfBRESqq6tVt7S0qG5razPjdnd3Vefk5Jic+8t1ZmbmJ8sODVY+EJoPhOYDibTnd3Z2+ub29vZUn56empwbLy8vq/Z+h+Tl5fnOPzs7qzqIt0qCgJUPhOYDibTtuC+UiYg0NTWp3tjY+PF8+/v7Jm5sbPQdW19frzojI0P1Vw9kwoaVD4TmA4m07by+vpo4FoupHhwcVL22tmbGuUf63B1TeXm573yuFhFJT09XnZKS8oNVhwcrHwjNB0LzgUR6XLC0tNTER0dHqt3tn3uHU0Tk9vZWtfdXrR93d3cmrqurU31zc/OtOcKGlQ+E5gOJdKvpnpcREZmbm1Pd39+vuqamxozzPtP14+npSfX09LTJRXkM8Luw8oHQfCDQlyOKiopUHxwcqPbel/drO4uLiyZ2j5XEY5vxwsoHQvOB0HwgcfNCXHd3t+qJiQmTKy4u/vQzhYWFJr6/vw9+YSHCygdC84HETdtx8f5v/eTkpOqqqirV3ptsb29v4S4sYFj5QGg+EJoPJC57fqLAygdC84HQfCA0HwjNB0LzgdB8IDQfCM0HQvOB0HwgNB8IzQdC84HQfCA0HwjNB0LzgdB8IH8Bst7VZIGV6SoAAAAASUVORK5CYII=\" y=\"-6.776271\"/>\n   </g>\n   <g id=\"patch_73\">\n    <path d=\"M 805.140678 101.776271 \nL 805.140678 7.2 \n\" style=\"fill:none;stroke:#000000;stroke-linecap:square;stroke-linejoin:miter;stroke-width:0.8;\"/>\n   </g>\n   <g id=\"patch_74\">\n    <path d=\"M 899.716949 101.776271 \nL 899.716949 7.2 \n\" style=\"fill:none;stroke:#000000;stroke-linecap:square;stroke-linejoin:miter;stroke-width:0.8;\"/>\n   </g>\n   <g id=\"patch_75\">\n    <path d=\"M 805.140678 101.776271 \nL 899.716949 101.776271 \n\" style=\"fill:none;stroke:#000000;stroke-linecap:square;stroke-linejoin:miter;stroke-width:0.8;\"/>\n   </g>\n   <g id=\"patch_76\">\n    <path d=\"M 805.140678 7.2 \nL 899.716949 7.2 \n\" style=\"fill:none;stroke:#000000;stroke-linecap:square;stroke-linejoin:miter;stroke-width:0.8;\"/>\n   </g>\n  </g>\n  <g id=\"axes_16\">\n   <g id=\"patch_77\">\n    <path d=\"M 805.140678 220.379908 \nL 899.716949 220.379908 \nL 899.716949 125.803636 \nL 805.140678 125.803636 \nz\n\" style=\"fill:#ffffff;\"/>\n   </g>\n   <g clip-path=\"url(#p22ddb8caef)\">\n    <image height=\"95\" id=\"image02ca78ee16\" transform=\"scale(1 -1)translate(0 -95)\" width=\"95\" x=\"805.140678\" xlink:href=\"data:image/png;base64,\niVBORw0KGgoAAAANSUhEUgAAAF8AAABfCAYAAACOTBv1AAAFQElEQVR4nO2czSt1XxTH1/X+PkCUtyhmlAgpI/4BAwMxMDHzMjM1EENlIMVMGZBSYqDETFFKGUqkhPKe9/ffbFlr/e49Hcc5dz036zP6Xnvfc87zffZdd+29190hAPgCQ4U47Qf4y5j5iiRoP4AGoVAI9deX+6jr9X2RsJGviJmviJmvSFRjPo2ZAP7Ezd8in4m+TkpKYm2fn5+oX19ff31vG/mKmPmK+BJ24uK+/w9TU1NZG/3oyo/4/f096re3N9RBh6OEhO9/dnJyMmtLS0tD/fz8zNqenp5Q+5F22shXxMxXxMxXxHPMp3E+Pz8fdUFBAet3eXmJ+urqytX1ZAyNFFN/EmsjfS+VlZWxfhkZGagPDw9Z28vLi+v7uXomX69m/AgzXxFfwk56ejrq29tb1u/u7g714+Mja3t/fw97bZmS0ntRPj4+3D2suCZNL1NSUli/7Oxs1A8PD6yNhk1b1YxxzHxFPIcdush0dnYW9u8AfJYo2yLh9JGOj4+P2M/t9ekMNzMzM2Kb0/tshhvjmPmKmPmK+BLz6Wqf1zjsBL2mTEO9QL833N7X6Tks5scgZr4ivmym+BFanKAfa6+bLnSWTBf/6KIgAMD5+XlYDcD3bW2GG+OY+YqY+Yr4EvOdUkH6Wq5O0ul6YmIialkTQ1c/nWKt072Ki4tRt7e3o5YbJCsrK6jpiiwAX0W1mB/jmPmKBF4uSGeTubm5rK2zsxN1d3c3arnJ0tvbi3pjYwO1THFpGCstLWVtw8PDqOvr61Hv7++zfnNzc6jpzD3c/X6LjXxFzHxFAg87NOsoLy9nbV1dXagrKirCvgcAYHl5GXV/fz/qxcVF1o9ujPT19bG2lpYW1LR05OTkhPW7uLhA/ZM9Yi/YyFfEzFfEzFckqjFfbk7TcrzCwkLUclOblpkPDQ2hbm5uZv1ubm5QNzQ0sDZ6b1pbND8/z/rRYoCgS9Vt5Cti5isSAp/PXpALa7Q0r7q6mrWVlJSgpiWHstK5srISdVNTE2o5Y6aLZHJR7Pr6GvXMzAzq8fFx1k+WNAaJjXxFzHxFzHxFfE81nWpdcnJyWBtNKVdXV1HLjWtaxj04OIi6p6eH9cvKykIta3M2NzdRT09Po5Yrl9HERr4iZr4igc9w6QYE/dUHAEBraytqmuLJ1UqaNo6OjqJua2tj/egsWZ6bQOt96C9ONM9/sJGviJmvSOBhh36saTYCANDY2Ii6trY24jXoZgo9r2F9fZ316+joQC03ZOhs2G2VctDYyFfEzFfEzFck8JhPN6H39vZYGy0RpGno1NQU6zc5OYl6dnYW9fHxMetHf/lIrw3AU1n6faB59JiNfEXMfEV830xxgh6nAgCwtraGuq6u7vuhRCigVcs7Ozuoj46OWL+qqirU9KgZAICBgQHU29vbqCOd/wDw/3SVvqYzd69lhDbyFTHzFYlq2JHhpKamBvXCwgLqoqKiiO+ji2K7u7us39bWFuqJiQnWdnBwgNrLGQ0AfJ+ZZnFyT8BtmaGNfEXMfEXMfEWiGvMldHWRpokjIyOsH/1uoLU5S0tLrN/Y2BhqeTKgl3RQxnyaKtPvIRnz6TM6zZht5Cti5iuiGnYodPYoT/zLy8tDTT/6p6enrB+tUvb6qxIaTmTYcTvDtVQzBjDzFTHzFflnYr5bnI758mMjhKa/cqOdXp/GdVvVjEHMfEViLuz4jdwwcXtirR/nMNjIV8TMV+TPh52gsycnbOQrYuYrYuYr8udjviY28hUx8xUx8xUx8xUx8xUx8xUx8xUx8xUx8xX5D2iA2Lw89flgAAAAAElFTkSuQmCC\" y=\"-125.379908\"/>\n   </g>\n   <g id=\"patch_78\">\n    <path d=\"M 805.140678 220.379908 \nL 805.140678 125.803636 \n\" style=\"fill:none;stroke:#000000;stroke-linecap:square;stroke-linejoin:miter;stroke-width:0.8;\"/>\n   </g>\n   <g id=\"patch_79\">\n    <path d=\"M 899.716949 220.379908 \nL 899.716949 125.803636 \n\" style=\"fill:none;stroke:#000000;stroke-linecap:square;stroke-linejoin:miter;stroke-width:0.8;\"/>\n   </g>\n   <g id=\"patch_80\">\n    <path d=\"M 805.140678 220.379908 \nL 899.716949 220.379908 \n\" style=\"fill:none;stroke:#000000;stroke-linecap:square;stroke-linejoin:miter;stroke-width:0.8;\"/>\n   </g>\n   <g id=\"patch_81\">\n    <path d=\"M 805.140678 125.803636 \nL 899.716949 125.803636 \n\" style=\"fill:none;stroke:#000000;stroke-linecap:square;stroke-linejoin:miter;stroke-width:0.8;\"/>\n   </g>\n  </g>\n  <g id=\"axes_17\">\n   <g id=\"patch_82\">\n    <path d=\"M 918.632203 101.776271 \nL 1013.208475 101.776271 \nL 1013.208475 7.2 \nL 918.632203 7.2 \nz\n\" style=\"fill:#ffffff;\"/>\n   </g>\n   <g clip-path=\"url(#p551fc9846c)\">\n    <image height=\"95\" id=\"image1d8426a5b0\" transform=\"scale(1 -1)translate(0 -95)\" width=\"95\" x=\"918.632203\" xlink:href=\"data:image/png;base64,\niVBORw0KGgoAAAANSUhEUgAAAF8AAABfCAYAAACOTBv1AAAD40lEQVR4nO2cTSg9URjG53KR2EixuT6KbCxEFnaUsiFhIYmlLCQfK3ZsSPZSxELZWFEsLFDKRxKKkiwoK2wsEPn4L/71Ou9kbuPeufeZy/NbPad35pzT09vbzJw5J2BZ1qdFICShJ/CXoflAaD4Qmg+E5gOh+UBoPhCaD4TmA6H5QGg+EJoPhOYDCaInEA2dnZ2qXVVVJXp0dFTFbm9v4zKnn8DMB0LzgQSsBFhMyc3NFT07Oyu6srJSXZeTkyP66upKxRYWFkSPjIx4O8EIYeYDoflAfFl20tPTVXtubk50a2trRH2+v7+LXl1dFd3R0aGue3x8jKj/SGDmA6H5QGg+EF/W/IqKCtU+ODhwdd/m5qbompoaFQsEAt/eMzU1pdq9vb2uxvICZj4Qmg/Elx/W6urqHGNvb2+i5+fnVWxmZkZ0f3+/irW3t3/bXygUimCG3sDMB0LzgdB8INCaX1tbKzolJUV0U1OT4z3B4NeUu7q6VMze9jvMfCA0H4gnZSc5OVl0eXm5ii0uLn4NFtTD5eXliU5Kil8efH5+vdQfHh7GbVw7zHwgNB+IJx/WJicnRQ8ODkbbXUy4u7sTvbW1JbqtrQ0wm/8w84HQfCA0H4gnNd98dPv4+HB9n3nt9PS06L29PXVdfn6+6MvLS9FnZ2eOfZeWlqr27u6u6JubG9dzjCXMfCA0H4gnZcf8Azg7O1vFXl5eRE9MTKjY8vKy6OPj42inkXAw84HQfCA0H4gnNd/896W7u1vFzLre0tIS7VC/CmY+EJoPxJPFlJ2dHdH2smMurtj/kfHLmyYKZj4Qmg/Ek6edzMxM0cPDwyo2NDQk+v7+XsVKSkpEPzw8RDuNhIOZD4TmA6H5QDzfmZKamqraS0tLohsaGlRsbGxM9Pj4uOinpycvp+RbmPlAaD6QmG+Iy8jIEL29va1iZWVlopubm0WvrKw49ldYWCjafr6CudZrf3v+ydpyvGDmA6H5QGK+OcI8y8C+0a2vr0/06+urYx/mCVJra2vf9m1ZusStr6+r2Onpqej9/X3RR0dH6rrn52fH/r2GmQ+E5gOh+UB8efaCnerqatEbGxsxHev8/Fx0uN8Rw+H2TCBmPhCaDyQhyk5RUZHonp4e0fZ9t+bxYE5HvMQDc4NgOJj5QGg+EJoPJCFqvlvq6+tFNzY2qph57FdxcbGr/i4uLlS7oKBAdFpamuN9rPkJAM0H8qvKTjiysrJEm4su4bi+vlbtgYEB0eZXUnt5Ojk5cdU/Mx8IzQfyZ8qOH2HmA6H5QGg+EJoPhOYDoflAaD4Qmg+E5gOh+UBoPhCaD4TmA/kH0v3hZC0NOusAAAAASUVORK5CYII=\" y=\"-6.776271\"/>\n   </g>\n   <g id=\"patch_83\">\n    <path d=\"M 918.632203 101.776271 \nL 918.632203 7.2 \n\" style=\"fill:none;stroke:#000000;stroke-linecap:square;stroke-linejoin:miter;stroke-width:0.8;\"/>\n   </g>\n   <g id=\"patch_84\">\n    <path d=\"M 1013.208475 101.776271 \nL 1013.208475 7.2 \n\" style=\"fill:none;stroke:#000000;stroke-linecap:square;stroke-linejoin:miter;stroke-width:0.8;\"/>\n   </g>\n   <g id=\"patch_85\">\n    <path d=\"M 918.632203 101.776271 \nL 1013.208475 101.776271 \n\" style=\"fill:none;stroke:#000000;stroke-linecap:square;stroke-linejoin:miter;stroke-width:0.8;\"/>\n   </g>\n   <g id=\"patch_86\">\n    <path d=\"M 918.632203 7.2 \nL 1013.208475 7.2 \n\" style=\"fill:none;stroke:#000000;stroke-linecap:square;stroke-linejoin:miter;stroke-width:0.8;\"/>\n   </g>\n  </g>\n  <g id=\"axes_18\">\n   <g id=\"patch_87\">\n    <path d=\"M 918.632203 220.379908 \nL 1013.208475 220.379908 \nL 1013.208475 125.803636 \nL 918.632203 125.803636 \nz\n\" style=\"fill:#ffffff;\"/>\n   </g>\n   <g clip-path=\"url(#pa6c0c45c5c)\">\n    <image height=\"95\" id=\"imagebc2e8e4b82\" transform=\"scale(1 -1)translate(0 -95)\" width=\"95\" x=\"918.632203\" xlink:href=\"data:image/png;base64,\niVBORw0KGgoAAAANSUhEUgAAAF8AAABfCAYAAACOTBv1AAAFHklEQVR4nO2dyyt2XRjGb+czRclAzgMMHCaKmGFgwEjJhD/A0ESZKcXIQEYmYuAPICMRI6cBJYohEuWQ8/kbfHV/972yd/vb78O1671/o+tpreexu1pd71rr3mu9cUT0RQaEePQD/M2Y+UDMfCBmPhAzH4iZD8TMB2LmAzHzgSSiHyCWxMXFsf76iv7C3UY+EDMfiJkPJJKZL7ObiCgpKYl1Xl4e65ycHNXv+fmZ9c3NjWq7u7tj/fHxEYvH/GNs5AMx84FEMnYSEhLU57KyMta9vb2s6+rqPH/j8PBQfV5eXma9sbHBWsYRUbhIcmMy6DTXRj4QMx9IHEWwhitnNEREAwMDrFtaWlgXFRWpfgUFBazd6Hp8fGS9srLCenBwUPU7PT1lHTSCkpOT1ef393fWn5+fnt+zkQ/EzAdi5gOJzFRTZnRVVZVqa29vZ11SUsJarnyJiFJTUz3b0tPTWXd2drJeWlpS/WZnZ//HU/+Lm+tpaWmsHx4ePL9nIx+ImQ/kx2NHrv7claD8LGOhqalJ9ZNRk52d7fm33OmlFykpKazb2tpUW5jYkVNLIqL4+GBj2kY+EDMfiJkPJHTmy7xOTPzvZzIzM1U/WfBwMzkrK4t1Y2Mj6/7+ftUvPz//29/wW7r7IXcd397eVJv771IYXl9fA/WzkQ/EzAcSOnZk1NTX17MeGhpS/SoqKr79DpGuuebm5rKWMUOko0bGgjulkxHixofsKwso8/Pzqt9v1ndt5AMx84HEZLbT09PDurW1VfWTm0xubVNuOkl9dXWl+slVrd/vnZ+fsz46OlJtskiysLDAem1tTfULO4MKg418IGY+EDMfSEx2NTMyMljLTCbS00R3929nZ4f1+Pg46+PjY9VPrpplIaS8vFz1m56eZr2/v6/aZJa/vLywDroa/Qls5AMx84GEjh25Ejw7O2PtTv/kZ7ee2dfXx1pOBf1et9vb22Mta7ZEOkKCThmRJ1hs5AMx84GY+UBi8q5mdXU16/X1ddUmtwZ2d3dVmyyguEWNIPgVqn9zmyAsNvKBmPlAYrLClTuIMzMzqq27u5v19va2avvTaZ5bE47KQbeg2MgHYuYDiUnsyJnK2NiYapObbpeXl6pNbsK5B9O8kFHjznbcjbuoYyMfiJkPxMwHEvPTiO77MqWlpazlOzxEeofy4uKCtbs6ldkuCyvuKUBZeLcVruGLmQ/kxw9By8hwT5XIaaMstLiRIaer8h0h+ZoiEdHExATrg4MD1RbFa79s5AMx84H86t0L7kaYnK14HY4jImpubmY9MjLC2n11REbX8PCwaltcXPz2OeQBDbfNrTnLVbi8ycqtRQSdadnIB2LmAzHzgUDv25HTUKndVw5ra2tZT01Nsa6srFT9ZF67U0uvHU93Z1QWZOQdPUREJycnrOfm5li7p1vke0x+BR4b+UDMfCDQ2PG6l8GNAnlXQkdHB+vR0VHVr7i4mLV7+M7rkmu/mwHd6Lq/v2e9tbXF2i0gra6usvZ7JcZGPhAzH4iZDwS6veA11XSX5zKXZf7X1NSofl1dXawbGhpUW2FhIWu/kzQyo6+vr1Wb3CmdnJxkvbm5qfrd3t5SEGzkAzHzgfx47MjIcG/8kxEiY8c9pCY/+xVF/Nq8rnKRz0CkY8j9ztPTE2t5b0TYerGNfCBmPpBIrnCj8tpH2Hvxg2IjH4iZD8TMBxLJ/7zgb8FGPhAzH4iZD8TMB2LmAzHzgZj5QMx8IGY+kH8A3GiPkkfEmq0AAAAASUVORK5CYII=\" y=\"-125.379908\"/>\n   </g>\n   <g id=\"patch_88\">\n    <path d=\"M 918.632203 220.379908 \nL 918.632203 125.803636 \n\" style=\"fill:none;stroke:#000000;stroke-linecap:square;stroke-linejoin:miter;stroke-width:0.8;\"/>\n   </g>\n   <g id=\"patch_89\">\n    <path d=\"M 1013.208475 220.379908 \nL 1013.208475 125.803636 \n\" style=\"fill:none;stroke:#000000;stroke-linecap:square;stroke-linejoin:miter;stroke-width:0.8;\"/>\n   </g>\n   <g id=\"patch_90\">\n    <path d=\"M 918.632203 220.379908 \nL 1013.208475 220.379908 \n\" style=\"fill:none;stroke:#000000;stroke-linecap:square;stroke-linejoin:miter;stroke-width:0.8;\"/>\n   </g>\n   <g id=\"patch_91\">\n    <path d=\"M 918.632203 125.803636 \nL 1013.208475 125.803636 \n\" style=\"fill:none;stroke:#000000;stroke-linecap:square;stroke-linejoin:miter;stroke-width:0.8;\"/>\n   </g>\n  </g>\n  <g id=\"axes_19\">\n   <g id=\"patch_92\">\n    <path d=\"M 1032.123729 101.776271 \nL 1126.7 101.776271 \nL 1126.7 7.2 \nL 1032.123729 7.2 \nz\n\" style=\"fill:#ffffff;\"/>\n   </g>\n   <g clip-path=\"url(#p762107d15c)\">\n    <image height=\"95\" id=\"imagec2c3e0f968\" transform=\"scale(1 -1)translate(0 -95)\" width=\"95\" x=\"1032.123729\" xlink:href=\"data:image/png;base64,\niVBORw0KGgoAAAANSUhEUgAAAF8AAABfCAYAAACOTBv1AAAEbUlEQVR4nO2cSyitXxjGt1suIYoMXEYSJSmSUlJMJIqUxIyBcjdACKEMlAlFTKQwlJkyoDAwMCGJlJDkmkLu/Efn/a+12lv77PPZz3bO8xs9b2v51tvT29vyrfVtL5vN9mkjELzRCfzL0HwgvsjFm5ubRQ8PD4uur6/X5o2OjrotJ3fCygdC84HQfCBeNuBW8+TkRHRMTIzoi4sLbV5qaqros7Ozb8/LXbDygdB8INCt5s3Njejo6GjRkZGR2rympibRbW1t356Xu2DlA6H5QGg+EOhWs6ioSPTCwoLoz0/HKeXm5opeXl7+nsTcBCsfCM0HAm07wcHBond3d0Wr206Tra0t0ZmZmdrY09OThdl9P6x8IDQfCLTtqISEhIi+urrSxvz8/Oz+zcTEhBbX1NRYn9g3wsoHQvOB0HwgHtPzVfr7+7W4s7PT7ryHhwctLiwsFL2ysmJ5XlbDygdC84F4ZNvJyMjQ4qWlJdHqltTk/v5edH5+vja2vr5uUXbWwcoHQvOB0HwgHtnzTaqrq0WrdzrVt6ImOzs7Wpyeni76+fnZwuxch5UPhOYD+RFtR6W1tVX0wMCANubr6/gaUkVFhei5uTnrE3MBVj4Qmg/kx7UdlenpaS2urKx0OPfu7k50S0uL6KmpKW3e+/u7Nck5ASsfCM0HQvOBuPWKeFhYmBa3t7eLzsrKEn19fa3NOz4+Fu3v7y86ISHB6bXVt6GTk5Oi09LStHkdHR2ib29vnX6+K7DygdB8IJZvNQMDA7V4dnZWdF5enjYWFBQk2tv7/zr46payuhX08fFxOc9ffHx8aPH8/LzohoYGbczqj/FY+UBoPhCaD8Tynl9QUKDFMzMzokNDQ7Wxo6Mj0eohSWxsrDYvMTHR7lqPj49anJSUZFfbbPr9z6ioKLvPMzE/xs7Ozha9v7/v1DO+gpUPhOYDsfw/XPOt4FfbQfXwY2NjQ/TIyIhLa6trma2rtLRUtPp7PuHh4do89VzYbE9dXV2iq6qqRL++vrqULysfCM0HYvluJyAgQIvVM9eenh59cS8v0ZeXl6LHxsa0eUNDQ6LNm8nOon5IV15eLtr8+G5xcdGp56ktSc39d2DlA6H5QGg+EMu3muaHyH19faLN/lpcXCxa/Y2d7u5ubZ560LK9vS1aPfiwt7aKekCjbod7e3sdPuP8/Fwbi4uLc/h8V2DlA6H5QKD3dlJSUkTX1taKLisr0+aZL+R+cXp6qsWrq6uiDw8PtTF1y7u5uSna/ApGPTB5e3vTxgYHB0WPj4/bzel3YOUDoflAPPK6YHJyshbX1dWJLikpER0REfHHa5mtZW9vT/Ta2po21tjYKPrl5eWP12blA6H5QGg+EI/s+V8RHx8v2uz56n/MOTk52ph6P0fdJpofRx8cHFiRplOw8oHQfCA/ru38TbDygdB8IDQfCM0HQvOB0HwgNB8IzQdC84HQfCA0HwjNB0LzgdB8IDQfCM0HQvOB0HwgNB8IzQdC84HQfCA0H8h/QIsV5Jtj8zgAAAAASUVORK5CYII=\" y=\"-6.776271\"/>\n   </g>\n   <g id=\"patch_93\">\n    <path d=\"M 1032.123729 101.776271 \nL 1032.123729 7.2 \n\" style=\"fill:none;stroke:#000000;stroke-linecap:square;stroke-linejoin:miter;stroke-width:0.8;\"/>\n   </g>\n   <g id=\"patch_94\">\n    <path d=\"M 1126.7 101.776271 \nL 1126.7 7.2 \n\" style=\"fill:none;stroke:#000000;stroke-linecap:square;stroke-linejoin:miter;stroke-width:0.8;\"/>\n   </g>\n   <g id=\"patch_95\">\n    <path d=\"M 1032.123729 101.776271 \nL 1126.7 101.776271 \n\" style=\"fill:none;stroke:#000000;stroke-linecap:square;stroke-linejoin:miter;stroke-width:0.8;\"/>\n   </g>\n   <g id=\"patch_96\">\n    <path d=\"M 1032.123729 7.2 \nL 1126.7 7.2 \n\" style=\"fill:none;stroke:#000000;stroke-linecap:square;stroke-linejoin:miter;stroke-width:0.8;\"/>\n   </g>\n  </g>\n  <g id=\"axes_20\">\n   <g id=\"patch_97\">\n    <path d=\"M 1032.123729 220.379908 \nL 1126.7 220.379908 \nL 1126.7 125.803636 \nL 1032.123729 125.803636 \nz\n\" style=\"fill:#ffffff;\"/>\n   </g>\n   <g clip-path=\"url(#p376ad3aa56)\">\n    <image height=\"95\" id=\"imagedd69939a3b\" transform=\"scale(1 -1)translate(0 -95)\" width=\"95\" x=\"1032.123729\" xlink:href=\"data:image/png;base64,\niVBORw0KGgoAAAANSUhEUgAAAF8AAABfCAYAAACOTBv1AAAFMUlEQVR4nO2cySt2cRTHf495ppAMSaQsDIUkJENYmP4CypJCKXsKZSELUbKTkkSROWxkJxZkKOPGkHmeeXenc3559L7e657H+57P6ns7p57bt99z7vkN91qUUu9KYMGO+wb+Z8R8RhzM/DF3d3dy3djYCLqsrAx0XV0dyWttbf3W++JCRj4jYj4jYj4jFmViqxkVFUWuZ2ZmQAcEBIA+OzsjeSkpKaA3Nze/6e7MR0Y+I2I+I6aWHW9vb3JdXV0NuqqqCrSjoyPJ6+7uBl1TUwP6+fnZ6Fs0FRn5jIj5jIj5jJi6vHB7e0uul5eXQb++voL29PQkeQUFBaDxUsP29rbRt2gqMvIZEfMZMbXsvL29keu1tTXQd3d3oP38/EheaGgo6N7eXtCpqakk7+XlxZD7NAsZ+YyI+YyYOsPVsbe3B11SUgK6s7OT5Dk5OYHGpaurq4vklZeXg35/t/2taRn5jIj5jIj5jLDWfAxeyRwcHCSx/Px80BaLBbS+qllaWgq6r6+PxGzxGSAjnxExnxGbKTsYV1dXcj02NgY6PT0dNC5BSil1eHgIOisri8Q2NjZA20oJkpHPiJjPiJjPiE3WfB0PDw/QAwMDoDMzM0keXnro6ekhsdraWtAXFxegOeu/jHxGxHxGfkTZwS1lUlIS6P7+fpLn7+8P+vj4mMTwGaHR0VHQT09Pht3nnyIjnxExnxHD93D1WSe+/ixmZ2dnNQ8fM4yPj7eahzdnAgMDSaylpQX0w8MD6NnZWZKHy9B3d0Iy8hkR8xkR8xkxvNXUVyTj4uJAJycnk1h4eDhofETQx8eH5EVERIAOCgoCjWe+StGNdv15gOs3nuG2t7eTvLa2NtAnJyckpp87+ltk5DMi5jNiSNnBbWJkZCSJ4b91YmIiieFSgPdj9b1Z/HfHpUUvO3gf2MGBdtG4DOHfvb+/J3nDw8Og8WKcUkodHR2B/uxo4u+2qDLyGRHzGRHzGTF8eUF/kxCvNOo1GtdGvAo5MjJC8qampkDjpYHg4GCSh9vQwsJCEouJifnwHvXWGL8Fo7eaDQ0NoE9PT0HrLajU/B+AmM+I4WXn8vKSXG9tbYHWv72AVyFxC7m0tETyJicnQeutIQb/3ZuamkisoqICdHNz84e/q5RSbm5uoIuLi0lsaGgI9NzcHOivznxl5DMi5jNiSNnBf/erqysSw+/a6kf4cPeDu468vDySNz09DXp3dxc0fndXR9+b7ejoAJ2Tk2P1t/Bs3dfXl8Ryc3NBLywsgP7qi3gy8hkR8xkR8xkxvNXEM1ClaHsWHR1NYmlpaaBdXFxAx8bGkrz6+nrQExMToFdXV0ne3t4eaP07D3hWi58h+Mi5fh86YWFhoPVV068gI58RMZ8Rw1vNx8dHEltZWQGNP+WllFJFRUWgMzIyQIeEhJA8vEGD94H1z4bhlm9/f5/EDg4OQOPyobeJuEXFe71K0U/M4LLz1fM9MvIZEfMZMfWUsn6cw9nZGTQuIfo+MO6KsrOzQSckJJA8Ly8vq7+FF79wqbm5uSF5Ozs7oBcXF0kM7zPMz8+Dvr6+Jnm/O+OVkc+ImM+ImM+IzbyZYu24uFK0rcOfANNfiKusrAStPzfwWaD19XXQ+Gu1Sik1Pj4O+vz83Or94meIvroqNf8HIOYzYjNlxwj0coXBs1D59oIg5nMi5jPyT9X8n4aMfEbEfEbEfEbEfEbEfEbEfEbEfEbEfEbEfEbEfEbEfEbEfEbEfEbEfEbEfEbEfEbEfEbEfEbEfEZ+AWMLj2yffzuLAAAAAElFTkSuQmCC\" y=\"-125.379908\"/>\n   </g>\n   <g id=\"patch_98\">\n    <path d=\"M 1032.123729 220.379908 \nL 1032.123729 125.803636 \n\" style=\"fill:none;stroke:#000000;stroke-linecap:square;stroke-linejoin:miter;stroke-width:0.8;\"/>\n   </g>\n   <g id=\"patch_99\">\n    <path d=\"M 1126.7 220.379908 \nL 1126.7 125.803636 \n\" style=\"fill:none;stroke:#000000;stroke-linecap:square;stroke-linejoin:miter;stroke-width:0.8;\"/>\n   </g>\n   <g id=\"patch_100\">\n    <path d=\"M 1032.123729 220.379908 \nL 1126.7 220.379908 \n\" style=\"fill:none;stroke:#000000;stroke-linecap:square;stroke-linejoin:miter;stroke-width:0.8;\"/>\n   </g>\n   <g id=\"patch_101\">\n    <path d=\"M 1032.123729 125.803636 \nL 1126.7 125.803636 \n\" style=\"fill:none;stroke:#000000;stroke-linecap:square;stroke-linejoin:miter;stroke-width:0.8;\"/>\n   </g>\n  </g>\n </g>\n <defs>\n  <clipPath id=\"p10a7e71801\">\n   <rect height=\"94.576271\" width=\"94.576271\" x=\"10.7\" y=\"7.2\"/>\n  </clipPath>\n  <clipPath id=\"p8c728745c0\">\n   <rect height=\"94.576271\" width=\"94.576271\" x=\"10.7\" y=\"125.803636\"/>\n  </clipPath>\n  <clipPath id=\"p004b41de5b\">\n   <rect height=\"94.576271\" width=\"94.576271\" x=\"124.191525\" y=\"7.2\"/>\n  </clipPath>\n  <clipPath id=\"p48e7a6e78d\">\n   <rect height=\"94.576271\" width=\"94.576271\" x=\"124.191525\" y=\"125.803636\"/>\n  </clipPath>\n  <clipPath id=\"p935f5d7001\">\n   <rect height=\"94.576271\" width=\"94.576271\" x=\"237.683051\" y=\"7.2\"/>\n  </clipPath>\n  <clipPath id=\"p1118a556c8\">\n   <rect height=\"94.576271\" width=\"94.576271\" x=\"237.683051\" y=\"125.803636\"/>\n  </clipPath>\n  <clipPath id=\"p819a09e5be\">\n   <rect height=\"94.576271\" width=\"94.576271\" x=\"351.174576\" y=\"7.2\"/>\n  </clipPath>\n  <clipPath id=\"pa8bec9f0dd\">\n   <rect height=\"94.576271\" width=\"94.576271\" x=\"351.174576\" y=\"125.803636\"/>\n  </clipPath>\n  <clipPath id=\"p78e6e0490b\">\n   <rect height=\"94.576271\" width=\"94.576271\" x=\"464.666102\" y=\"7.2\"/>\n  </clipPath>\n  <clipPath id=\"p54f1ae15dd\">\n   <rect height=\"94.576271\" width=\"94.576271\" x=\"464.666102\" y=\"125.803636\"/>\n  </clipPath>\n  <clipPath id=\"pce9348a274\">\n   <rect height=\"94.576271\" width=\"94.576271\" x=\"578.157627\" y=\"7.2\"/>\n  </clipPath>\n  <clipPath id=\"pe8206a75f7\">\n   <rect height=\"94.576271\" width=\"94.576271\" x=\"578.157627\" y=\"125.803636\"/>\n  </clipPath>\n  <clipPath id=\"pda9d3e8a46\">\n   <rect height=\"94.576271\" width=\"94.576271\" x=\"691.649153\" y=\"7.2\"/>\n  </clipPath>\n  <clipPath id=\"p9757274e8c\">\n   <rect height=\"94.576271\" width=\"94.576271\" x=\"691.649153\" y=\"125.803636\"/>\n  </clipPath>\n  <clipPath id=\"p38c26ae7e4\">\n   <rect height=\"94.576271\" width=\"94.576271\" x=\"805.140678\" y=\"7.2\"/>\n  </clipPath>\n  <clipPath id=\"p22ddb8caef\">\n   <rect height=\"94.576271\" width=\"94.576271\" x=\"805.140678\" y=\"125.803636\"/>\n  </clipPath>\n  <clipPath id=\"p551fc9846c\">\n   <rect height=\"94.576271\" width=\"94.576271\" x=\"918.632203\" y=\"7.2\"/>\n  </clipPath>\n  <clipPath id=\"pa6c0c45c5c\">\n   <rect height=\"94.576271\" width=\"94.576271\" x=\"918.632203\" y=\"125.803636\"/>\n  </clipPath>\n  <clipPath id=\"p762107d15c\">\n   <rect height=\"94.576271\" width=\"94.576271\" x=\"1032.123729\" y=\"7.2\"/>\n  </clipPath>\n  <clipPath id=\"p376ad3aa56\">\n   <rect height=\"94.576271\" width=\"94.576271\" x=\"1032.123729\" y=\"125.803636\"/>\n  </clipPath>\n </defs>\n</svg>\n",
            "image/png": "[encoded data removed]"
          },
          "metadata": {
            "needs_background": "light"
          }
        }
      ],
      "source": [
        "# Use Matplotlib (don't ask)\n",
        "import matplotlib.pyplot as plt\n",
        "\n",
        "n = 10  # How many digits we will display\n",
        "plt.figure(figsize=(20, 4))\n",
        "for i in range(n):\n",
        "    # Display original\n",
        "    ax = plt.subplot(2, n, i + 1)\n",
        "    plt.imshow(x_test[i].reshape(28, 28))\n",
        "    plt.gray()\n",
        "    ax.get_xaxis().set_visible(False)\n",
        "    ax.get_yaxis().set_visible(False)\n",
        "\n",
        "    # Display reconstruction\n",
        "    ax = plt.subplot(2, n, i + 1 + n)\n",
        "    plt.imshow(decoded_imgs[i].reshape(28, 28))\n",
        "    plt.gray()\n",
        "    ax.get_xaxis().set_visible(False)\n",
        "    ax.get_yaxis().set_visible(False)\n",
        "plt.show()"
      ]
    }
  ]
}