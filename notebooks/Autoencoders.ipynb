{
  "nbformat": 4,
  "nbformat_minor": 0,
  "metadata": {
    "kernelspec": {
      "display_name": "Python 3",
      "language": "python",
      "name": "python3"
    },
    "language_info": {
      "codemirror_mode": {
        "name": "ipython",
        "version": 3
      },
      "file_extension": ".py",
      "mimetype": "text/x-python",
      "name": "python",
      "nbconvert_exporter": "python",
      "pygments_lexer": "ipython3",
      "version": "3.8.5-final"
    },
    "colab": {
      "name": "Benchmarks.ipynb",
      "provenance": [],
      "collapsed_sections": []
    }
  },
  "cells": [
    {
      "cell_type": "markdown",
      "metadata": {
        "id": "z22BE9uhvoxO"
      },
      "source": [
        "# Autoencoders in SciKeras"
      ]
    },
    {
      "cell_type": "markdown",
      "metadata": {
        "id": "hapoJed-voxP"
      },
      "source": [
        "Autencoders are an approach to use nearual networks to distill data into it's most important features, thereby compressing the data. We will be following the [Keras tutorial](https://blog.keras.io/building-autoencoders-in-keras.html) on the topic, which goes much more in depth and breadth than we will here. You are highly encouraged to check out that tutorial if you want to learn about autoencoders in the general sense.\n",
        "\n",
        "\n",
        "\n",
        "<table align=\"left\"><td>\n",
        "<a target=\"_blank\" href=\"https://colab.research.google.com/github/adriangb/scikeras/blob/master/notebooks/Basic_Usage.ipyn\">\n",
        "    <img src=\"https://www.tensorflow.org/images/colab_logo_32px.png\" />Run in Google Colab</a>  \n",
        "</td><td>\n",
        "<a target=\"_blank\" href=\"https://github.com/adriangb/scikeras/blob/master/notebooks/Basic_Usage.ipynb\"><img width=32px src=\"https://www.tensorflow.org/images/GitHub-Mark-32px.png\" />View source on GitHub</a></td></table>"
      ]
    },
    {
      "cell_type": "markdown",
      "metadata": {
        "id": "iT-ibpi7voxQ"
      },
      "source": [
        "### Table of contents"
      ]
    },
    {
      "cell_type": "markdown",
      "metadata": {
        "id": "ekJWKPFMvoxR"
      },
      "source": [
        "* [Data](#Data)\n",
        "* [Define Model](#Model)\n",
        "* [Training](#Training)\n",
        "* [Explore Results](#Explore-Results)"
      ]
    },
    {
      "cell_type": "markdown",
      "metadata": {
        "id": "6avb3GBQDQyG"
      },
      "source": [
        "Install SciKeras"
      ]
    },
    {
      "cell_type": "code",
      "metadata": {
        "id": "qCcyTjVkvoxR"
      },
      "source": [
        "!python -m pip install git+https://github.com/adriangb/scikeras.git@master"
      ],
      "execution_count": null,
      "outputs": []
    },
    {
      "cell_type": "markdown",
      "metadata": {
        "id": "EZveNcetDQyL"
      },
      "source": [
        "Silence TensorFlow warnings to keep output succint."
      ]
    },
    {
      "cell_type": "code",
      "metadata": {
        "id": "ekNmO_GPDQyL"
      },
      "source": [
        "import warnings\n",
        "from tensorflow import get_logger\n",
        "get_logger().setLevel('ERROR')\n",
        "warnings.filterwarnings(\"ignore\", message=\"Setting the random state for TF\")"
      ],
      "execution_count": 41,
      "outputs": []
    },
    {
      "cell_type": "code",
      "metadata": {
        "id": "Sf4j-x4DvoxV"
      },
      "source": [
        "import numpy as np\n",
        "from scikeras.wrappers import KerasClassifier, KerasRegressor\n",
        "from tensorflow import keras"
      ],
      "execution_count": 42,
      "outputs": []
    },
    {
      "cell_type": "markdown",
      "metadata": {
        "id": "hCuOBH8AvoxX"
      },
      "source": [
        "## Data"
      ]
    },
    {
      "cell_type": "markdown",
      "metadata": {
        "id": "i3fAUKBUvoxY"
      },
      "source": [
        "We load the dataset from the Keras tutorial. The dataset consists of images of cats and dogs."
      ]
    },
    {
      "cell_type": "code",
      "metadata": {
        "id": "QM74xeoe-1S-",
        "outputId": "23946eec-c32f-4db6-8bda-e12bda6492ea",
        "colab": {
          "base_uri": "https://localhost:8080/",
          "height": 51
        }
      },
      "source": [
        "from tensorflow.keras.datasets import mnist\n",
        "import numpy as np\n",
        "\n",
        "\n",
        "(x_train, _), (x_test, _) = mnist.load_data()\n",
        "x_train = x_train.astype('float32') / 255.\n",
        "x_test = x_test.astype('float32') / 255.\n",
        "x_train = x_train.reshape((len(x_train), np.prod(x_train.shape[1:])))\n",
        "x_test = x_test.reshape((len(x_test), np.prod(x_test.shape[1:])))\n",
        "print(x_train.shape)\n",
        "print(x_test.shape)"
      ],
      "execution_count": 43,
      "outputs": [
        {
          "output_type": "stream",
          "name": "stdout",
          "text": [
            "(60000, 784)\n(10000, 784)\n"
          ]
        }
      ]
    },
    {
      "cell_type": "markdown",
      "metadata": {
        "id": "yuR10hymK0dh"
      },
      "source": [
        "## Define Keras Model"
      ]
    },
    {
      "source": [
        "We will be defining a very simple autencoder."
      ],
      "cell_type": "markdown",
      "metadata": {}
    },
    {
      "cell_type": "code",
      "metadata": {
        "id": "dBFFXT-__7KU"
      },
      "source": [
        "from tensorflow import keras\n",
        "from tensorflow.keras import layers\n",
        "\n",
        "\n",
        "# This is the size of our encoded representations\n",
        "encoding_dim = 32  # 32 floats -> compression of factor 24.5, assuming the input is 784 floats\n",
        "\n",
        "# This is our input image\n",
        "input_img = keras.Input(shape=(784,))\n",
        "# \"encoded\" is the encoded representation of the input\n",
        "encoded = layers.Dense(encoding_dim, activation='relu')(input_img)\n",
        "# \"decoded\" is the lossy reconstruction of the input\n",
        "decoded = layers.Dense(784, activation='sigmoid')(encoded)\n",
        "\n",
        "# This model maps an input to its reconstruction\n",
        "autoencoder_model = keras.Model(input_img, decoded)\n",
        "\n",
        "# This model maps an input to its encoded representation\n",
        "encoder_model = keras.Model(input_img, encoded)\n",
        "\n",
        "# This is our encoded (32-dimensional) input\n",
        "encoded_input = keras.Input(shape=(encoding_dim,))\n",
        "# Retrieve the last layer of the autoencoder model\n",
        "decoder_layer = autoencoder_model.layers[-1]\n",
        "# Create the decoder model\n",
        "decoder_model = keras.Model(encoded_input, decoder_layer(encoded_input))\n"
      ],
      "execution_count": 44,
      "outputs": []
    },
    {
      "source": [
        "Next, we wrap the Keras Model with Scikeras. Note that we use BaseWrapper instead of KerasClassifier or KerasRegressor since this is not a classificaiton or regression task."
      ],
      "cell_type": "markdown",
      "metadata": {}
    },
    {
      "cell_type": "code",
      "execution_count": 45,
      "metadata": {},
      "outputs": [],
      "source": [
        "from scikeras.wrappers import BaseWrapper\n",
        "\n",
        "\n",
        "compile_params = {\"optimizer\": \"adam\", \"loss\": \"binary_crossentropy\"}\n",
        "fit_params = {\"epochs\": 50, \"batch_size\": 256, \"shuffle\": True}\n",
        "\n",
        "autoencoder = BaseWrapper(model=autoencoder_model, **compile_params, **fit_params)\n",
        "encoder = BaseWrapper(model=encoder_model, **compile_params, **fit_params)\n",
        "decoder = BaseWrapper(model=decoder_model, **compile_params, **fit_params)"
      ]
    },
    {
      "cell_type": "markdown",
      "metadata": {
        "id": "yqBl5xLDP43O"
      },
      "source": [
        "## Training"
      ]
    },
    {
      "cell_type": "markdown",
      "metadata": {
        "id": "4fHbt_mUVBhE"
      },
      "source": [
        "To train the model, we pass the input images as both the features and the target. This will train the layers to compress the data as accurately as possible between the encoder and decoder."
      ]
    },
    {
      "cell_type": "code",
      "metadata": {
        "id": "QQhtIWsMP4Ii",
        "outputId": "1581384e-7012-4816-d4cf-a4190a30e50f",
        "colab": {
          "base_uri": "https://localhost:8080/",
          "height": 34
        }
      },
      "source": [
        "autoencoder.fit(x_train, x_train)"
      ],
      "execution_count": 46,
      "outputs": [
        {
          "output_type": "stream",
          "name": "stdout",
          "text": [
            "Epoch 1/50\n",
            "235/235 [==============================] - 1s 3ms/step - loss: 0.2740\n",
            "Epoch 2/50\n",
            "235/235 [==============================] - 1s 4ms/step - loss: 0.1697\n",
            "Epoch 3/50\n",
            "235/235 [==============================] - 1s 4ms/step - loss: 0.1432\n",
            "Epoch 4/50\n",
            "235/235 [==============================] - 1s 4ms/step - loss: 0.1277\n",
            "Epoch 5/50\n",
            "235/235 [==============================] - 1s 3ms/step - loss: 0.1178\n",
            "Epoch 6/50\n",
            "235/235 [==============================] - 1s 3ms/step - loss: 0.1116\n",
            "Epoch 7/50\n",
            "235/235 [==============================] - 1s 4ms/step - loss: 0.1071\n",
            "Epoch 8/50\n",
            "235/235 [==============================] - 1s 3ms/step - loss: 0.1033\n",
            "Epoch 9/50\n",
            "235/235 [==============================] - 1s 3ms/step - loss: 0.1003\n",
            "Epoch 10/50\n",
            "235/235 [==============================] - 1s 4ms/step - loss: 0.0981\n",
            "Epoch 11/50\n",
            "235/235 [==============================] - 1s 3ms/step - loss: 0.0966\n",
            "Epoch 12/50\n",
            "235/235 [==============================] - 1s 3ms/step - loss: 0.0956\n",
            "Epoch 13/50\n",
            "235/235 [==============================] - 1s 3ms/step - loss: 0.0950\n",
            "Epoch 14/50\n",
            "235/235 [==============================] - 1s 3ms/step - loss: 0.0946\n",
            "Epoch 15/50\n",
            "235/235 [==============================] - 1s 3ms/step - loss: 0.0943\n",
            "Epoch 16/50\n",
            "235/235 [==============================] - 1s 3ms/step - loss: 0.0941\n",
            "Epoch 17/50\n",
            "235/235 [==============================] - 1s 4ms/step - loss: 0.0939\n",
            "Epoch 18/50\n",
            "235/235 [==============================] - 1s 3ms/step - loss: 0.0937\n",
            "Epoch 19/50\n",
            "235/235 [==============================] - 1s 3ms/step - loss: 0.0936\n",
            "Epoch 20/50\n",
            "235/235 [==============================] - 1s 3ms/step - loss: 0.0935\n",
            "Epoch 21/50\n",
            "235/235 [==============================] - 1s 4ms/step - loss: 0.0934\n",
            "Epoch 22/50\n",
            "235/235 [==============================] - 1s 4ms/step - loss: 0.0934\n",
            "Epoch 23/50\n",
            "235/235 [==============================] - 1s 4ms/step - loss: 0.0933\n",
            "Epoch 24/50\n",
            "235/235 [==============================] - 1s 4ms/step - loss: 0.0932\n",
            "Epoch 25/50\n",
            "235/235 [==============================] - 1s 3ms/step - loss: 0.0932\n",
            "Epoch 26/50\n",
            "235/235 [==============================] - 1s 3ms/step - loss: 0.0931\n",
            "Epoch 27/50\n",
            "235/235 [==============================] - 1s 4ms/step - loss: 0.0931\n",
            "Epoch 28/50\n",
            "235/235 [==============================] - 1s 3ms/step - loss: 0.0931\n",
            "Epoch 29/50\n",
            "235/235 [==============================] - 1s 4ms/step - loss: 0.0930\n",
            "Epoch 30/50\n",
            "235/235 [==============================] - 1s 4ms/step - loss: 0.0930\n",
            "Epoch 31/50\n",
            "235/235 [==============================] - 1s 4ms/step - loss: 0.0929\n",
            "Epoch 32/50\n",
            "235/235 [==============================] - 1s 4ms/step - loss: 0.0929\n",
            "Epoch 33/50\n",
            "235/235 [==============================] - 1s 3ms/step - loss: 0.0929\n",
            "Epoch 34/50\n",
            "235/235 [==============================] - 1s 4ms/step - loss: 0.0929\n",
            "Epoch 35/50\n",
            "235/235 [==============================] - 1s 4ms/step - loss: 0.0928\n",
            "Epoch 36/50\n",
            "235/235 [==============================] - 1s 3ms/step - loss: 0.0928\n",
            "Epoch 37/50\n",
            "235/235 [==============================] - 1s 4ms/step - loss: 0.0928\n",
            "Epoch 38/50\n",
            "235/235 [==============================] - 1s 4ms/step - loss: 0.0928\n",
            "Epoch 39/50\n",
            "235/235 [==============================] - 1s 4ms/step - loss: 0.0928\n",
            "Epoch 40/50\n",
            "235/235 [==============================] - 1s 4ms/step - loss: 0.0927\n",
            "Epoch 41/50\n",
            "235/235 [==============================] - 1s 4ms/step - loss: 0.0927\n",
            "Epoch 42/50\n",
            "235/235 [==============================] - 1s 4ms/step - loss: 0.0927\n",
            "Epoch 43/50\n",
            "235/235 [==============================] - 1s 4ms/step - loss: 0.0927\n",
            "Epoch 44/50\n",
            "235/235 [==============================] - 1s 4ms/step - loss: 0.0927\n",
            "Epoch 45/50\n",
            "235/235 [==============================] - 1s 4ms/step - loss: 0.0927\n",
            "Epoch 46/50\n",
            "235/235 [==============================] - 1s 4ms/step - loss: 0.0926\n",
            "Epoch 47/50\n",
            "235/235 [==============================] - 1s 4ms/step - loss: 0.0926\n",
            "Epoch 48/50\n",
            "235/235 [==============================] - 1s 4ms/step - loss: 0.0926\n",
            "Epoch 49/50\n",
            "235/235 [==============================] - 1s 4ms/step - loss: 0.0926\n",
            "Epoch 50/50\n",
            "235/235 [==============================] - 1s 4ms/step - loss: 0.0926\n"
          ]
        },
        {
          "output_type": "execute_result",
          "data": {
            "text/plain": [
              "BaseWrapper(\n",
              "\tmodel=<tensorflow.python.keras.engine.functional.Functional object at 0x15414dfa0>\n",
              "\tbuild_fn=None\n",
              "\twarm_start=False\n",
              "\trandom_state=None\n",
              "\toptimizer=adam\n",
              "\tloss=binary_crossentropy\n",
              "\tmetrics=None\n",
              "\tbatch_size=256\n",
              "\tverbose=1\n",
              "\tcallbacks=None\n",
              "\tvalidation_split=0.0\n",
              "\tshuffle=True\n",
              "\trun_eagerly=False\n",
              "\tepochs=50\n",
              ")"
            ]
          },
          "metadata": {},
          "execution_count": 46
        }
      ]
    },
    {
      "source": [
        "For our encoder layer, we need to build the model, but we do not necessarily want to fit it to any data (we are re-using the weights from `autoencoder`). SciKeras allows this by calling `fit(X=x_train)` or `fit(X=x_test)`. Note that there is no training happening (thus why it is okay to pass `x_test` to `fit`), rather SciKeras will just learn the input shapes and initialize the underlaying Keras model."
      ],
      "cell_type": "markdown",
      "metadata": {}
    },
    {
      "cell_type": "code",
      "execution_count": 47,
      "metadata": {},
      "outputs": [
        {
          "output_type": "execute_result",
          "data": {
            "text/plain": [
              "BaseWrapper(\n",
              "\tmodel=<tensorflow.python.keras.engine.functional.Functional object at 0x154183ee0>\n",
              "\tbuild_fn=None\n",
              "\twarm_start=False\n",
              "\trandom_state=None\n",
              "\toptimizer=adam\n",
              "\tloss=binary_crossentropy\n",
              "\tmetrics=None\n",
              "\tbatch_size=256\n",
              "\tverbose=1\n",
              "\tcallbacks=None\n",
              "\tvalidation_split=0.0\n",
              "\tshuffle=True\n",
              "\trun_eagerly=False\n",
              "\tepochs=50\n",
              ")"
            ]
          },
          "metadata": {},
          "execution_count": 47
        }
      ],
      "source": [
        "encoder.fit(X=x_test)"
      ]
    },
    {
      "source": [
        "Now we can use the encoder to encode our data!"
      ],
      "cell_type": "markdown",
      "metadata": {}
    },
    {
      "cell_type": "code",
      "execution_count": 48,
      "metadata": {},
      "outputs": [
        {
          "output_type": "stream",
          "name": "stdout",
          "text": [
            "40/40 [==============================] - 0s 859us/step\n"
          ]
        },
        {
          "output_type": "execute_result",
          "data": {
            "text/plain": [
              "(10000, 32)"
            ]
          },
          "metadata": {},
          "execution_count": 48
        }
      ],
      "source": [
        "encoded_imgs = encoder.predict(x_test)\n",
        "encoded_imgs.shape"
      ]
    },
    {
      "source": [
        "We will now do the same for the decoder:"
      ],
      "cell_type": "markdown",
      "metadata": {}
    },
    {
      "cell_type": "code",
      "execution_count": 49,
      "metadata": {},
      "outputs": [
        {
          "output_type": "stream",
          "name": "stdout",
          "text": [
            "40/40 [==============================] - 0s 1ms/step\n"
          ]
        },
        {
          "output_type": "execute_result",
          "data": {
            "text/plain": [
              "(10000, 784)"
            ]
          },
          "metadata": {},
          "execution_count": 49
        }
      ],
      "source": [
        "decoder.fit(X=encoded_imgs)\n",
        "decoded_imgs = decoder.predict(encoded_imgs)\n",
        "decoded_imgs.shape"
      ]
    },
    {
      "source": [
        "Now let's compare our inputs to lossy decoded outputs:"
      ],
      "cell_type": "markdown",
      "metadata": {}
    },
    {
      "cell_type": "code",
      "execution_count": 50,
      "metadata": {},
      "outputs": [
        {
          "output_type": "display_data",
          "data": {
            "text/plain": "<Figure size 1440x288 with 20 Axes>",
            "image/svg+xml": "<?xml version=\"1.0\" encoding=\"utf-8\" standalone=\"no\"?>\n<!DOCTYPE svg PUBLIC \"-//W3C//DTD SVG 1.1//EN\"\n  \"http://www.w3.org/Graphics/SVG/1.1/DTD/svg11.dtd\">\n<!-- Created with matplotlib (https://matplotlib.org/) -->\n<svg height=\"231.079908pt\" version=\"1.1\" viewBox=\"0 0 1133.9 231.079908\" width=\"1133.9pt\" xmlns=\"http://www.w3.org/2000/svg\" xmlns:xlink=\"http://www.w3.org/1999/xlink\">\n <metadata>\n  <rdf:RDF xmlns:cc=\"http://creativecommons.org/ns#\" xmlns:dc=\"http://purl.org/dc/elements/1.1/\" xmlns:rdf=\"http://www.w3.org/1999/02/22-rdf-syntax-ns#\">\n   <cc:Work>\n    <dc:type rdf:resource=\"http://purl.org/dc/dcmitype/StillImage\"/>\n    <dc:date>2020-11-04T18:37:36.056757</dc:date>\n    <dc:format>image/svg+xml</dc:format>\n    <dc:creator>\n     <cc:Agent>\n      <dc:title>Matplotlib v3.3.2, https://matplotlib.org/</dc:title>\n     </cc:Agent>\n    </dc:creator>\n   </cc:Work>\n  </rdf:RDF>\n </metadata>\n <defs>\n  <style type=\"text/css\">*{stroke-linecap:butt;stroke-linejoin:round;}</style>\n </defs>\n <g id=\"figure_1\">\n  <g id=\"patch_1\">\n   <path d=\"M 0 231.079908 \nL 1133.9 231.079908 \nL 1133.9 0 \nL 0 0 \nz\n\" style=\"fill:none;\"/>\n  </g>\n  <g id=\"axes_1\">\n   <g id=\"patch_2\">\n    <path d=\"M 10.7 101.776271 \nL 105.276271 101.776271 \nL 105.276271 7.2 \nL 10.7 7.2 \nz\n\" style=\"fill:#ffffff;\"/>\n   </g>\n   <g clip-path=\"url(#pc31495b1d6)\">\n    <image height=\"95\" id=\"image7388f69fb5\" transform=\"scale(1 -1)translate(0 -95)\" width=\"95\" x=\"10.7\" xlink:href=\"data:image/png;base64,\niVBORw0KGgoAAAANSUhEUgAAAF8AAABfCAYAAACOTBv1AAADhElEQVR4nO2czyusYRTHj+taTM0GZSMipaT8zEqNXxuZZMGKtZW/wIJY2NhaKHslpaZsrCyQ0FjITCNhQ1JKClGUu7qn58xlGu77+r4z8/2svu88TzOnT8fpMe/MFInIuxAIv9AFFDKUD+Q3uoC/TE5Oap6bmzNrR0dHmvv6+jTf3d35X5iPsPOBUD4QygcSmJmfiebmZs37+/uaBwcHzb6Tk5Mfq8kL2PlAKB9IYMbO9va25sfHR7MWDoc119XVffh4LsLOB0L5QCgfSGBm/s7OjuaFhQWz5r71kE+w84FQPpDAjB2XpaUlcz02Nqa5urpac1dXl9l3eHio+f09+PeI2PlAKB9IkeTAPdz6+nrNmd48Gxoa0ry+vu5rTV7AzgdC+UAoH0hOzPzi4mLNe3t7mtvb282+8/Nzzf39/Z+uBQV2PhDKB5ITY8elvLxc88HBgVmrra3VvLKyYtZGR0f9LewbsPOBUD4QygeSczPfJRqNmutYLKb56enJrLlHT/e4ioSdD4TygeT02Elnenpa88zMjFnb2NjQPDAw8FMlZYSdD4TygeTV2AmFQprdj6KIiDQ2Nmru7e3VvLu7639hn8DOB0L5QCgfSCA/t/Ndnp+fNbtHSxGR1tZWzbOzs5rTj52vr68+Vfcv7HwglA8kr46aLp2dneZ6c3NTc0lJiebu7m6zb2try9e6XNj5QCgfCOUDyduZn457vJyamtJ8f39v9kUiEc2JRMLXmtj5QCgfSMGMnYqKCs3Hx8cfPi4iMjIyonltbc3Xmtj5QCgfSMGMHZfh4WHNq6urZs094fT09Jg1r39WjJ0PhPKBUD6QQM780tJSc93S0qLZ/aJzR0dH1s/58vKi+fT0VHMqlTL7ysrKNE9MTJi1xcXFrF8vG9j5QCgfiOf3cN1ffBURaWpq0pz+J97Q0KC5ra1Nc/oNjsrKSs2Xl5eaq6qqsq7r7e1N8+3trWZ3zKTj/qSYH7DzgVA+EM9POxcXF+a6pqbmy8/x8PBgrpPJ5P+U9CWurq40z8/Pm7V4PO7pa7HzgVA+EMoH4vnMd29GiIiMj49rvr6+Nmvuf53Ly8uab25uzL6zszMvSwwM7HwglA8kkG+sFQrsfCCUD4TygVA+EMoHQvlAKB8I5QOhfCCUD4TygVA+EMoHQvlAKB8I5QOhfCCUD4TygVA+EMoHQvlAKB/IHylJwuaX+CcdAAAAAElFTkSuQmCC\" y=\"-6.776271\"/>\n   </g>\n   <g id=\"patch_3\">\n    <path d=\"M 10.7 101.776271 \nL 10.7 7.2 \n\" style=\"fill:none;stroke:#000000;stroke-linecap:square;stroke-linejoin:miter;stroke-width:0.8;\"/>\n   </g>\n   <g id=\"patch_4\">\n    <path d=\"M 105.276271 101.776271 \nL 105.276271 7.2 \n\" style=\"fill:none;stroke:#000000;stroke-linecap:square;stroke-linejoin:miter;stroke-width:0.8;\"/>\n   </g>\n   <g id=\"patch_5\">\n    <path d=\"M 10.7 101.776271 \nL 105.276271 101.776271 \n\" style=\"fill:none;stroke:#000000;stroke-linecap:square;stroke-linejoin:miter;stroke-width:0.8;\"/>\n   </g>\n   <g id=\"patch_6\">\n    <path d=\"M 10.7 7.2 \nL 105.276271 7.2 \n\" style=\"fill:none;stroke:#000000;stroke-linecap:square;stroke-linejoin:miter;stroke-width:0.8;\"/>\n   </g>\n  </g>\n  <g id=\"axes_2\">\n   <g id=\"patch_7\">\n    <path d=\"M 10.7 220.379908 \nL 105.276271 220.379908 \nL 105.276271 125.803636 \nL 10.7 125.803636 \nz\n\" style=\"fill:#ffffff;\"/>\n   </g>\n   <g clip-path=\"url(#p3de9949267)\">\n    <image height=\"95\" id=\"image669eae6ba4\" transform=\"scale(1 -1)translate(0 -95)\" width=\"95\" x=\"10.7\" xlink:href=\"data:image/png;base64,\niVBORw0KGgoAAAANSUhEUgAAAF8AAABfCAYAAACOTBv1AAAEwUlEQVR4nO2dSyi1XxTG13GXe0qKJCMypBTJlIGYGFEMDQwMDcwkZcjICAMlI6FkYOhSykSRJBkRA7nf+c/Wf+39fed8nG+f70HPb/S87XXe3vO0z7L25d0iIvIuIJKSklRnZGSoTktLc+Jubm5Uv7y8JP7B/hFJfw4hiYLmA0kJfcNIJPLh2OLiYtWbm5uqS0tLnbjHx0fVPT09qufm5py493dYBo0L9nwgNB8IzQcSkQCl5mfyvCUzM1P1zMyM6ra2tqj339/fV11XV+fEXV5exvUcKNjzgdB8IEFKzXhLvKenJ9Wzs7OqGxsbnbjc3FzVdiRcUlLixDHtkA9D84HQfCDBpxc+g52hXFpaUt3Q0ODE2SmFgoIC1fX19U7c3t6e6u8w1cCeD4TmAwkywg2BHcVWVVU5bfPz86rLyspU2zQjItLU1KT66uoq8BOGhz0fCM0H8mXSjiU1NdW57u/vVz04OKjargGLiIyOjqoeHh522t7e3gI+YRjY84HQfCA0H8iXzPk+OTk5qicmJlS3tLQ4cScnJ1Hbjo+PE/R08cOeD4TmA/kWaceWlOXl5aqnp6edONs2OTnptA0NDal+fn4O+4Bxwp4PhOYDoflAvkXOt6Sk/L/+097e7rSNjIyo9hfTu7u7Ve/u7qpGLrqw5wOh+UCgaccuoFjtpwJ7bePsfh4RkampKdX+OvDy8rLqvr4+1dfX15986nCw5wOh+UCgaSc5OVm1HcX6Cx/22qYg+3kRkebmZtX+6Pf19VV1b2+v6oWFhahxiYY9HwjNB0LzgXyZUtOOXP03Xey2wlgL4dnZ2aoXFxedttraWtXb29uqOzo6nLjz83PViR79sucDoflAgr8QF+9P1Zaa/n4cm2pipR37HNXV1U7bysqK6vT0dNV2Mk5EZHx8XLV9cyYRsOcDoflAaD6QL5Pzo93Pv/7onkt/6mFsbEx1V1eX6qOjIyeus7NTtV10EQlferLnA6H5QIKPcP2UEeKnaktPe//PzEBWVFSoXl9fV52VleXE2f0+AwMDTtv9/b3qIN/rr+9A4obmAwmedvzRqSXW2mwsbOViR6f+SYN2G6B/bzvpZtNOZWWlE3d6eqq6tbXVadvZ2VEd4k0X9nwgNB8IzQcS5OyFaIsiIiJ5eXmq7bFeIiJ3d3eq7fGNfi635aA9i8eWjyIia2trqg8ODpw2e2bDw8PDb77Fr8/rn/tjR7zM+d8cmg8k7rRjU40t/+wpsSLuSYH+z9h+7uLiQrVNQSLuS9F2G2BRUZETZxc/NjY2nDb7QpxNf34Kur29Ve2/wcKJtR8EzQfy4bTjj1ztqNNWCP4h1PbavrAmIlJYWKjapgz/uJZoo2Y/DdhU6J88aHcjHx4eqrYVl4hb0ayurjptobcSsucDoflAaD6QD89qxlpXtae82pGkiLt/pqamxmnLz89XbWcTt7a2nLizszPVtgz1z+WxI2N/z020z9m/VyJu6WnPcvjdPf8W9nwgNB9Iwncp25LUn3SzqcumjH/575hinf3PXco/GJoPhOYD+XZnL/wk2POB0HwgNB8IzQdC84HQfCA0HwjNB0LzgdB8IDQfCM0HQvOB0HwgNB8IzQdC84HQfCA0H8h/65pzzXcTPjgAAAAASUVORK5CYII=\" y=\"-125.379908\"/>\n   </g>\n   <g id=\"patch_8\">\n    <path d=\"M 10.7 220.379908 \nL 10.7 125.803636 \n\" style=\"fill:none;stroke:#000000;stroke-linecap:square;stroke-linejoin:miter;stroke-width:0.8;\"/>\n   </g>\n   <g id=\"patch_9\">\n    <path d=\"M 105.276271 220.379908 \nL 105.276271 125.803636 \n\" style=\"fill:none;stroke:#000000;stroke-linecap:square;stroke-linejoin:miter;stroke-width:0.8;\"/>\n   </g>\n   <g id=\"patch_10\">\n    <path d=\"M 10.7 220.379908 \nL 105.276271 220.379908 \n\" style=\"fill:none;stroke:#000000;stroke-linecap:square;stroke-linejoin:miter;stroke-width:0.8;\"/>\n   </g>\n   <g id=\"patch_11\">\n    <path d=\"M 10.7 125.803636 \nL 105.276271 125.803636 \n\" style=\"fill:none;stroke:#000000;stroke-linecap:square;stroke-linejoin:miter;stroke-width:0.8;\"/>\n   </g>\n  </g>\n  <g id=\"axes_3\">\n   <g id=\"patch_12\">\n    <path d=\"M 124.191525 101.776271 \nL 218.767797 101.776271 \nL 218.767797 7.2 \nL 124.191525 7.2 \nz\n\" style=\"fill:#ffffff;\"/>\n   </g>\n   <g clip-path=\"url(#pfb06488eb0)\">\n    <image height=\"95\" id=\"imageeb8c3e8ef4\" transform=\"scale(1 -1)translate(0 -95)\" width=\"95\" x=\"124.191525\" xlink:href=\"data:image/png;base64,\niVBORw0KGgoAAAANSUhEUgAAAF8AAABfCAYAAACOTBv1AAADwUlEQVR4nO2cu0srQRTG1+sLQVCwEEEQbA1qoQjWopWxESz9CwSJUSsfCNoqWNhZaOMDNQgWViKCSSCNRdBGEBsRVBBFQnzcW93DnOWubHJ391v1+1XfYSaZ4eNwmN3ZmRLLsn5bBMIv9AR+MjQfCM0HQvOB0HwgNB8IzQdC84HQfCA0HwjNB0LzgdB8IDQfCM0HQvOBlCEHn5iYEF1eXu7qNy0tLaKHhoZcj7W6uir66urKsd/Ozo7oi4sL1/9fDMx8IDQfSIkV4B7u7u6uigcGBoIa2jVvb2+iPz4+HPvt7++LzmQyjv1OTk5UnEqlRDPzgdB8IDQfSKA1P5fLqdjt8rIYtre3VXxzcyO6vr5edCHL1WKYnp5W8fz8vGhmPhCaDySUZae1tVXFt7e3BY/1+Pio4tfX13+OW1NT4/gftbW1Ko7FYq7Gfn9/Fz05OanaXl5eRDPzgdB8IDQfSChrfmNjo4rNZeJ3gpkPhOYDCbTsLCwsqNi+DPtLIpFQ8fDwsOjn52fP54WCmQ+E5gMJtOzU1dWp+ODgQHRnZ6fj75aWlkSPjY15Pi8UzHwgNB8IzQcS6Hc79/f3KjaXnltbW6LtT77t7e2iq6urRX/1ZSczHwjNBxLoUvMzTk9PRXd1dTn2+07LTmY+EJoPhOYDCU3Nb2hoEH12dqbazNcSd3d3oru7u1W/y8tLn2bnD8x8IDQfSGjKjol9M6W3t1d0ZWWl6LW1NdVvZGRE9Fd4+mXmA6H5QEJZduzMzs6Knpqacuy3vLwsenR01McZeQMzHwjNB0LzgUAPQbvFPO2Xz+dFV1RUqH7mKZO9vT3Vdnx87NPsioeZD4TmA/kSS02T8fFx0XNzc6rNLEPpdFq19fT0iDZPhyBh5gOh+UACLTtNTU0qfnp6Ev3w8FDw/9nf+0ciEce+Ztk5OjoqeCw/YOYDoflAaD4Q359w+/v7Rdvv2zk/Pxfd19cn2u0BuI2NDRXPzMyI9vNeB69g5gOh+UB8X2p2dHSINj8JtCzLKi0tFZ3NZkVHo1HVz/xcxNybtb9YM6/QamtrU22Li4ui4/G4q7n7DTMfCM0HQvOB+L7UNDdC7Bscg4ODos2bYu2f/Zk3ux4eHopubm5W/ex13sR+KiYMMPOB0Hwg0M2Uzc1N0WYJ8gJ76TLfal5fX3s6VrEw84HQfCCh2cM1nzqrqqpUm3nb4GflaWVlRXQymVRt6+vr/ztFz2HmA6H5QGg+kNDU/J8IMx8IzQdC84HQfCA0HwjNB0LzgdB8IDQfyB/RPu7MLQ/ZlAAAAABJRU5ErkJggg==\" y=\"-6.776271\"/>\n   </g>\n   <g id=\"patch_13\">\n    <path d=\"M 124.191525 101.776271 \nL 124.191525 7.2 \n\" style=\"fill:none;stroke:#000000;stroke-linecap:square;stroke-linejoin:miter;stroke-width:0.8;\"/>\n   </g>\n   <g id=\"patch_14\">\n    <path d=\"M 218.767797 101.776271 \nL 218.767797 7.2 \n\" style=\"fill:none;stroke:#000000;stroke-linecap:square;stroke-linejoin:miter;stroke-width:0.8;\"/>\n   </g>\n   <g id=\"patch_15\">\n    <path d=\"M 124.191525 101.776271 \nL 218.767797 101.776271 \n\" style=\"fill:none;stroke:#000000;stroke-linecap:square;stroke-linejoin:miter;stroke-width:0.8;\"/>\n   </g>\n   <g id=\"patch_16\">\n    <path d=\"M 124.191525 7.2 \nL 218.767797 7.2 \n\" style=\"fill:none;stroke:#000000;stroke-linecap:square;stroke-linejoin:miter;stroke-width:0.8;\"/>\n   </g>\n  </g>\n  <g id=\"axes_4\">\n   <g id=\"patch_17\">\n    <path d=\"M 124.191525 220.379908 \nL 218.767797 220.379908 \nL 218.767797 125.803636 \nL 124.191525 125.803636 \nz\n\" style=\"fill:#ffffff;\"/>\n   </g>\n   <g clip-path=\"url(#p4aeabff422)\">\n    <image height=\"95\" id=\"image14199b60a0\" transform=\"scale(1 -1)translate(0 -95)\" width=\"95\" x=\"124.191525\" xlink:href=\"data:image/png;base64,\niVBORw0KGgoAAAANSUhEUgAAAF8AAABfCAYAAACOTBv1AAAFeklEQVR4nO2czSutXxTHl/eXyCUheU8iEy9hQFEUygRjYcAd3JmJ/ANSIhkzEMWAgYkMFIUJAwMGt6u8FiZeI+/Xb/Rb97t2zkm3c87StT6j72kv53l82886e++1nx1ERG9kqBCsfQNfGTNfETNfETNfETNfETNfETNfETNfETNfETNfETNfETNfETNfkVDtG/AXwcGyX4WEhLAODw9nHRYWJuIeHx/f1UREv3//9uUtWs/XxMxXxO9pJygoiHVsbKxoq66uZt3W1sa6uLhYxCUkJLDGlPH09CTiLi4uWJ+fn4u219dX1vHx8e/eHxHRwcEB66WlJdE2OzvL+vT0lPXz87OIw5SH13Wxnq+Ima9IEPm5hpucnMwaH1siorKyMtY46nBTgfvZEzgaeXl58dgWGvon27qjIsQd7fz69Yv1xMQE642NDRF3e3vL+ufPnx6/03q+Ima+Ima+Ij7P+W5+/vHjB+vh4WHRhnkeczLmTCI5hIyJiWEdHR0t4nBY5w41r6+vWaekpLCOi4vzeE8u9/f3rI+OjljjbwER0fz8POvDw0PRtry8zNp6viJmviJ+n+F++/aNtbdhHaaMkZER0eZ+/p+8vDzxOS0tjbX7uB8fH7PG1FJYWCjiOjo6WFdVVYm2iIiId+8XF+2IiC4vL9+9XyKixMRE1tbzFTHzFTHzFfH78kJFRQVrd5UQh424Mtjc3CziFhYWWL+9/bldd1iLuRfjiDyvLnr7DhySEsn/JSMjg/XDw4OIW11dZb27uyvacFXWer4iZr4ifk87ODxbXFwUbTiUwzQxOTkp4r5//87aXa0MJDhUxpXRyMhIEYdFHrfggzN56/mKmPmK+D3tIO6McW5ujjXWaW9ubkRcT08P66mpKdbe6qOaYHpyR1342Xq+Ima+Ima+IgHN+W7xA/N3Y2Mja3eV8OTkhHVrayvrra0tEedtO5+nPOzm5EBiPV8RM1+RgKYdt5iC2wXHxsZYp6amijic1a6srLDu7u4WcWdnZ6zddIIzUiymuDPQQA5frecrYuYrYuYrEtCc74LFlLq6Otb9/f0iLj09nTUWp3t7e0Uc7gV1t21j0QTzvwv+vvh7GGo9XxEzXxHVtIOpAGe1+fn5Im58fJx1dnY26/X1dRHX2dnJ+urq6kPX9bb93NcvwLlYz1fEzFdENe14wk0FlZWVrKenp1m7L9gNDg6yHhgYEG0fnbnitW208w9j5iti5ivyKXO+C66G4iy2qalJxOHQsK+vT7SNjo6y/iyFd+v5ipj5ivgk7eDwDHfhEslFLHc37988/llZWay3t7dFGy7UuddqaWlhjdsWrYb7RTHzFfFJ2sFUg2ctEBFlZmayxhorEdHe3h7rjy5iYYrDBTciovb2do9/h7Xf+vp61qq7ntWubJj5mpj5ivjkJWisl+L5BEREOTk5rGtqakQb5mE8s8bdS+OJoaEh8Rm/H182JiJaW1tj7e8iCeKu0NoW8U+Cma+IT9IOPkpu7RRP4WtoaBBttbW1rDc3N1nPzMyIODxeBR/jpKQkEbezs8MaX8QjkkWYQKYdbzNo6/mKmPmKmPmK+Py8HTef7u/vs8ZVRyKigoIC1qWlpay7urpEHB6HiCuh7pFc+HvgHqkozjyA4kwg87+L9XxFzHxFfJ523BkdvtCMh0QTEZWXl7PGoaG7i/ij2/swJeFqKhFRUVERa0yFd3d3Ii6Qach6viJmviI+TztuXRYPF8WX3oiIcnNzWZeUlLCOiooScViPxYIMznyJ5CwZT3siku/y4hEtbjEFFwm9pSBfvMtrPV8RM18RM1+RT7Nd8KNn1PxLWM9XxMxX5NOkna+I9XxFzHxFzHxFzHxFzHxFzHxF/gNkgtrF1i0ClgAAAABJRU5ErkJggg==\" y=\"-125.379908\"/>\n   </g>\n   <g id=\"patch_18\">\n    <path d=\"M 124.191525 220.379908 \nL 124.191525 125.803636 \n\" style=\"fill:none;stroke:#000000;stroke-linecap:square;stroke-linejoin:miter;stroke-width:0.8;\"/>\n   </g>\n   <g id=\"patch_19\">\n    <path d=\"M 218.767797 220.379908 \nL 218.767797 125.803636 \n\" style=\"fill:none;stroke:#000000;stroke-linecap:square;stroke-linejoin:miter;stroke-width:0.8;\"/>\n   </g>\n   <g id=\"patch_20\">\n    <path d=\"M 124.191525 220.379908 \nL 218.767797 220.379908 \n\" style=\"fill:none;stroke:#000000;stroke-linecap:square;stroke-linejoin:miter;stroke-width:0.8;\"/>\n   </g>\n   <g id=\"patch_21\">\n    <path d=\"M 124.191525 125.803636 \nL 218.767797 125.803636 \n\" style=\"fill:none;stroke:#000000;stroke-linecap:square;stroke-linejoin:miter;stroke-width:0.8;\"/>\n   </g>\n  </g>\n  <g id=\"axes_5\">\n   <g id=\"patch_22\">\n    <path d=\"M 237.683051 101.776271 \nL 332.259322 101.776271 \nL 332.259322 7.2 \nL 237.683051 7.2 \nz\n\" style=\"fill:#ffffff;\"/>\n   </g>\n   <g clip-path=\"url(#pd3c68b4415)\">\n    <image height=\"95\" id=\"image5ab929252f\" transform=\"scale(1 -1)translate(0 -95)\" width=\"95\" x=\"237.683051\" xlink:href=\"data:image/png;base64,\niVBORw0KGgoAAAANSUhEUgAAAF8AAABfCAYAAACOTBv1AAACuElEQVR4nO3cvYoiQRQF4BpdIwMxEATNxTcQNBFjEVEQfAHBRDDwFQTxSUwM/ElFNBRUTAw1ExMjxUR2o71T1TjD7Ox2ny73fNFtq4PL4VKU7c+bUuqnIogAuoH/GcMHYvhADB+I4QMxfCCGD8TwgRg+EMMHYvhADB+I4QP9QDfwWygUkno+nxtr5/NZ6nq9LvXtdnO/MRdx8oEYPpAvt51oNGqsZTIZqVutltTdbtf9xlzEyQdi+EC+2Xb0k8t0OjXWUqmU1NVqVeper2fc93g8XOrOHZx8IIYPxPCB3pQPv7eTy+WM69lsJnUwGJS6UCh8eJ8NOPlADB/IN0dN3XK5NK5Pp5PUiUTC63Zcw8kHYvhADB/Il3u+03g8lrrRaEhdLBaN+3jUpC9j+EBWbDvH4/Hp684PXWzDyQdi+EC+fLDmFI/Hpd5sNlJfLhfjvnQ67VVL/wQnH4jhAzF8ICuOmvpTzcViIXWlUjHuK5fLUg+HQ/cb+0ucfCCGD2TFtqPbbrdS69/hcV5z26FPMXwghg9kxeMFnf518clkYqwdDgeps9mssXa/313t6zs4+UAMH8i6bUfX7/eN63a7LXWpVDLWRqORJz39CU4+EMMHsu4drm6323241ul0jGtuO2Rg+EAMH8jqPd/5Hw26WCzmYSffw8kHYvhAVm87+oM0pZRarVZSO7edcDgs9fV6dbWvr+LkAzF8IKsfrDnpn+EOBgNjLZ/PS/3ZKclLnHwghg/E8IGsPmo67fd7qZ3HyVqtJjX3fGL4SC911NQ5/3mw2WxKHYlEvG7nKU4+EMMHYvhAL3XU1Om/WlTKfKrpl1+wcPKBGD7Qy2476/XauA4E3ucsmUx63c5TnHwghg/0su9wbcDJB2L4QAwfiOEDMXwghg/E8IEYPhDDB2L4QAwfiOEDMXygX7JvhHNyYVMPAAAAAElFTkSuQmCC\" y=\"-6.776271\"/>\n   </g>\n   <g id=\"patch_23\">\n    <path d=\"M 237.683051 101.776271 \nL 237.683051 7.2 \n\" style=\"fill:none;stroke:#000000;stroke-linecap:square;stroke-linejoin:miter;stroke-width:0.8;\"/>\n   </g>\n   <g id=\"patch_24\">\n    <path d=\"M 332.259322 101.776271 \nL 332.259322 7.2 \n\" style=\"fill:none;stroke:#000000;stroke-linecap:square;stroke-linejoin:miter;stroke-width:0.8;\"/>\n   </g>\n   <g id=\"patch_25\">\n    <path d=\"M 237.683051 101.776271 \nL 332.259322 101.776271 \n\" style=\"fill:none;stroke:#000000;stroke-linecap:square;stroke-linejoin:miter;stroke-width:0.8;\"/>\n   </g>\n   <g id=\"patch_26\">\n    <path d=\"M 237.683051 7.2 \nL 332.259322 7.2 \n\" style=\"fill:none;stroke:#000000;stroke-linecap:square;stroke-linejoin:miter;stroke-width:0.8;\"/>\n   </g>\n  </g>\n  <g id=\"axes_6\">\n   <g id=\"patch_27\">\n    <path d=\"M 237.683051 220.379908 \nL 332.259322 220.379908 \nL 332.259322 125.803636 \nL 237.683051 125.803636 \nz\n\" style=\"fill:#ffffff;\"/>\n   </g>\n   <g clip-path=\"url(#p9a55598543)\">\n    <image height=\"95\" id=\"image252a1253aa\" transform=\"scale(1 -1)translate(0 -95)\" width=\"95\" x=\"237.683051\" xlink:href=\"data:image/png;base64,\niVBORw0KGgoAAAANSUhEUgAAAF8AAABfCAYAAACOTBv1AAAD+0lEQVR4nO2dzSt1URTG95WUpGSAwk3dkkSJGMjEzMDEHSr+ASN/ExMDJZkbICMTkkSJO9BNuD7KN+/oXe9aO+d0nM65z/He5zd6bns5Z/e0zmqf/XHknHNfjkCoQ3eglqH5QGg+EJoPhOYDoflAaD4Qmg+E5gOpR3fgL7lcTnR9ve1WXd2/HHl7exP9+fmZfsdShJkPhOYDoflAoDVf1/m2tjbRxWLRxOm21dVV0UdHRybu4+Mj6S6mCjMfCM0HkpmhZkNDg+j5+XnT1tfXJzqfz4teWFgwcXHKji59zjn39VW9tSVmPhCaDwRadvQjfnNzI9ovBS0tLaKnpqZENzc3m7jn5+dI99XX9+8V1L80YOYDoflAaD6QzAw1n56eRC8vL5u24eFh0br+d3Z2mrirq6sf35c1v0ah+UAyU3b0wsja2pppW1xcFK0n2UZGRkzc/v7+t9fzCRtq8g23RqD5QGg+kNg1P+orepxFbj3V4JxzW1tbomdmZkSPjY2ZuKWlJdGvr6+R7hXW97Rh5gOh+UASGWrqfTVJDNXe39/N752dHdHT09Oi+/v7TVxTU5PosLKj++iXRQ41awSaDySRshP2qOrRRNRH2i8FJycnovUEnD+xpn9XKpXAPoaVnWrCzAdC84HQfCCxa35QDU2CsJp/cHAgenBw0MTp/T2/YSshMx8IzQeS+lAzTkny/+b29la0nmQbGBgwcboMbWxsmLagsuPfq5oLLcx8IDQfCM0HknrNT+J6eoZyc3NT9OzsrIkbHx8X3dHRYdouLi5ER51SSHtPDzMfCM0HUtV9O3EfY10mzs/PRZdKJRNXKBRET0xMmLaVlZVvrxfWD7+/Qf2PW4KY+UBoPpDMnMPV+I+x/n1/fy96b2/PxA0NDYmenJw0bevr66L19xvCCHv7TQJmPhCaD4TmA4EONePU/JeXF9Hb29smbm5uTnRvb69pa21tFf3w8BB4r7B+aOJsDPBh5gOh+UAyczIl6qOrF0UODw9N2/HxsWh9cM4557q6ukTrt+QkiLvowswHQvOBZObbC3H+5vr62rTpg3T+16q6u7tF613VP9lSwjXc/wiaD4TmA6lqzU96ltA/fbK7uyt6dHTUtOnt442NjaIfHx9j3ZtruL8cmg8EWnaSvp7eVnh5eWna2tvbReu33dPTUxPnH8ZLE2Y+EJoPhOYD+XXTCxo9TeCcHbr6Q8ienh7Remt5uVw2cXd3d6LTPqnIzAdC84FkZjElKmFrp7rU6BMsztldymdnZ6KjfhomDZj5QGg+kJyrkX9GHHTQLWybStow84HQfCA0H0jN1PwswswHQvOB0HwgNB8IzQdC84HQfCA0HwjNB/IH7NN2JxWr9ZQAAAAASUVORK5CYII=\" y=\"-125.379908\"/>\n   </g>\n   <g id=\"patch_28\">\n    <path d=\"M 237.683051 220.379908 \nL 237.683051 125.803636 \n\" style=\"fill:none;stroke:#000000;stroke-linecap:square;stroke-linejoin:miter;stroke-width:0.8;\"/>\n   </g>\n   <g id=\"patch_29\">\n    <path d=\"M 332.259322 220.379908 \nL 332.259322 125.803636 \n\" style=\"fill:none;stroke:#000000;stroke-linecap:square;stroke-linejoin:miter;stroke-width:0.8;\"/>\n   </g>\n   <g id=\"patch_30\">\n    <path d=\"M 237.683051 220.379908 \nL 332.259322 220.379908 \n\" style=\"fill:none;stroke:#000000;stroke-linecap:square;stroke-linejoin:miter;stroke-width:0.8;\"/>\n   </g>\n   <g id=\"patch_31\">\n    <path d=\"M 237.683051 125.803636 \nL 332.259322 125.803636 \n\" style=\"fill:none;stroke:#000000;stroke-linecap:square;stroke-linejoin:miter;stroke-width:0.8;\"/>\n   </g>\n  </g>\n  <g id=\"axes_7\">\n   <g id=\"patch_32\">\n    <path d=\"M 351.174576 101.776271 \nL 445.750847 101.776271 \nL 445.750847 7.2 \nL 351.174576 7.2 \nz\n\" style=\"fill:#ffffff;\"/>\n   </g>\n   <g clip-path=\"url(#p8f14370f5f)\">\n    <image height=\"95\" id=\"image835b1e1732\" transform=\"scale(1 -1)translate(0 -95)\" width=\"95\" x=\"351.174576\" xlink:href=\"data:image/png;base64,\niVBORw0KGgoAAAANSUhEUgAAAF8AAABfCAYAAACOTBv1AAAD6ElEQVR4nO2czSttURjG9+H6D5gYIJQy9ZGBjzJCSOrkTGTGQMhQSkwMZSKiDCVFQtKZKcUZGJj4mjGRMFAy8nFHXu9a3X06d5+9zrPv9fxGz+pdZ+3V09u719lrrx3zPO/TIxDy0BP4ydB8IDQfCM0HQvOB0HwgNB8IzQdC84HQfCA0HwjNB0LzgfxCT+CLtrY20YODg0asq6tL9M7Ojujl5WWjXywWE31+fm7Ebm9vQ5lnmDDzgdB8IDEvh5spzc3NRrunp0f02NiY6I+Pj0Dj5+V959Lo6KgRW1hYCDSmS5j5QGg+EOdlp7S0VPTx8bERKyoqEq1LRhhl5/7+3ohdXFyI1qupu7s7o9/r62ugaweBmQ+E5gOh+UCc/8Pt7e0VrWu8a+xr6fbl5aXopaUlo9/IyIjbiSmY+UBoPhDnS83r62vRFRUVvv06Ozt9Y/oBWnFxsW+/MJar+fn5gX4XBGY+EJoPhOYDcV7zr66uRJeXl/v2KygoyPpa+/v7oquqqoxYSUlJRmMcHByI1ps4LmDmA6H5QCKzhxsGHR0doufn543Y8PBwRmNUV1eLbmxsNGJHR0fBJ/cHmPlAaD6Q/2q1o7EfrOlysr6+LrqwsNDol25DpqGhQXQYr6Iw84HQfCA0H4jzpebu7q5o/W6Oax4eHoz24eGh6NnZWdFzc3O+Y9j3jbDvS8x8IDQfiPOlZmVlpWi97LTJ5SZGWVmZ6I2NDSNWV1cn2t6QWVtbE93f35/1PJj5QGg+EJoPJKdPNdNtaqdSKdHxeNyIhX2q5PPz+zZnz0m37dj09HSo82DmA6H5QCKzmVJbWyt6dXXViCUSCdGPj49ZX6u7u1t0TU1N1uMFhZkPhOYDcV523t7eRNslw97I+KKlpcVon5yciN7c3BQ9MzNj9Et3qkSfkJmYmPDtp8eYmpoyYmGvupj5QGg+EJoPJKeHoO1arpeU+kljpq9326dKksmk6OfnZyPW2toqenJy0ndMfXh6cXExo3kEhZkPhOYDyWnZsdFvFbe3t4sOeqrk6elJ9MvLixHTS8108GTKD4HmA4GWHc37+7voML69kG6Mm5sb0X19fUbs9PQ00LWDwMwHQvOB0HwgkdlMGR8fF60//+V5ntfU1PTX421tbRltfark7OxMdC5rvA0zHwjNBxKZpabGfjt4e3tbdH19ve/v+HVBkjE0HwjNBxKZpabGPlUyMDAgWn+i8V+HmQ+E5gOJZNmx0V99XVlZET00NGT00/9W9/b23E8sS5j5QGg+kEj+w/0pMPOB0HwgNB8IzQdC84HQfCA0HwjNB0LzgdB8IDQfCM0HQvOB/AZOXP56h+bY9AAAAABJRU5ErkJggg==\" y=\"-6.776271\"/>\n   </g>\n   <g id=\"patch_33\">\n    <path d=\"M 351.174576 101.776271 \nL 351.174576 7.2 \n\" style=\"fill:none;stroke:#000000;stroke-linecap:square;stroke-linejoin:miter;stroke-width:0.8;\"/>\n   </g>\n   <g id=\"patch_34\">\n    <path d=\"M 445.750847 101.776271 \nL 445.750847 7.2 \n\" style=\"fill:none;stroke:#000000;stroke-linecap:square;stroke-linejoin:miter;stroke-width:0.8;\"/>\n   </g>\n   <g id=\"patch_35\">\n    <path d=\"M 351.174576 101.776271 \nL 445.750847 101.776271 \n\" style=\"fill:none;stroke:#000000;stroke-linecap:square;stroke-linejoin:miter;stroke-width:0.8;\"/>\n   </g>\n   <g id=\"patch_36\">\n    <path d=\"M 351.174576 7.2 \nL 445.750847 7.2 \n\" style=\"fill:none;stroke:#000000;stroke-linecap:square;stroke-linejoin:miter;stroke-width:0.8;\"/>\n   </g>\n  </g>\n  <g id=\"axes_8\">\n   <g id=\"patch_37\">\n    <path d=\"M 351.174576 220.379908 \nL 445.750847 220.379908 \nL 445.750847 125.803636 \nL 351.174576 125.803636 \nz\n\" style=\"fill:#ffffff;\"/>\n   </g>\n   <g clip-path=\"url(#p763524ab4c)\">\n    <image height=\"95\" id=\"imagebd42ea7190\" transform=\"scale(1 -1)translate(0 -95)\" width=\"95\" x=\"351.174576\" xlink:href=\"data:image/png;base64,\niVBORw0KGgoAAAANSUhEUgAAAF8AAABfCAYAAACOTBv1AAAFXklEQVR4nO2cSSiuYRTHz8eVecpUhqQQigwbJCUWNshGip2tFNmxUoYVslOyEokkGRYoG9lRsjDLWOaZzHd37jlPPld6Odx7fqv/2znf+739e77zPeNrA4AXUERwkH6A/xk1XxA1XxA1XxA1XxA1XxA1XxA1XxA1XxA1XxA1XxA1XxA1X5Bfol/+68/XJyYmoi4oKGB5cXFxqE9PT1F3dHSwvLm5OdT39/cs9vLy/SZvteULouYLYoMvXEwJDg5m111dXajT0tJQOzs7szybzfbq/Z6fn9n13t4e6oqKChYbHR1FfXd3984n/ly05Qui5gvy6WUnICAA9dDQEIulpKSgpj0fe2Xmb9Aeze3tLYt1d3ejrqurQ727u8vyzFL2mWjLF0TNF0TNF8Tymu/k5MSu29vbURcXF7MYrfNv1Wsac3d3f/XzAPy/whzRPj09oV5ZWUGdn5/P8tbW1uzew2q05Qui5gtiedkJDw9n1zMzM6j9/f1Z7OHh4dW82tpalnd0dISadk/Ly8tZXnJyMmpXV1cWs1eSVldXWV5WVhZqOmI2P2cF2vIFUfMFUfMFsXwxJSEhgV27uLigNmvm9fU1arowMjs7y/JoN3F7exv1xMQEy8vOzkbd1tbGYoGBgahp/Y+MjGR5PT09qPPy8ljs/PwcrERbviBqviCWl52NjQ12TUer5uh3c3MT9dTUFOrHx0eW5+Dwp404Ojqivri4YHkDAwOoFxcXWWxkZAR1SEgIanMGNTU1FbW5IFNfX4/aitlPbfmCqPmCWF52Dg8P2fX6+jrq6OhoFtvZ2UFtbvWg0HLl5uaG+uzsjOXRcrWwsMBitOcyNjaGOigoiOXRslZYWMhizc3NqGlP7aNoyxdEzRdEzRfE8ppv1sKlpSXUUVFRLObp6YmadifNkTDdZ0P1W909MzY/P4+6sbERdVNTE8uje4bM/4PQ0FDUy8vLdp/3vWjLF0TNF8TyskMXSAAALi8vUdNuIgBAfHw86pycHNR9fX0sj06sfRRahujEnTmapmXHw8ODxSIiIlDTdWAtOz8QNV8QNV8Qy2u+WZ/paRE6dAcA8PPzQ93S0oKaLqYDAGxtbaH+cH0lXdmwsDDUZpeU3t/8P6DXViyma8sXRM0XxPKyY/6M6QjXPBFC99bQNdb+/n6Wl5ubi/rk5AT1Wz99c5HE19cXNd2bY+bR5zcXa+g+Hi07Pxw1XxDLy475c6Rlx9wSQn/+tDeSlJTE8gYHB1GXlJSgPjg4sPsctCcFAFBWVoY6IyPD7ufoCJ1OxgHwXpcVaMsXRM0XRM0X5NNPI9JRbWxsLIvRvTR01Gl2/+iomS5itLa2srzj42PURUVFLJaeno7ax8cHtdk1pnWdnloE4PuCrJhp1ZYviJovyJe+e8GcWMvMzERNu5NeXl5270G7suZ6MT3BQg/OvXVPegAOAKCmpgb1+Pg4i1mxV4eiLV8QNV+QLy07JrQMVVZWom5oaGB55u5me9Ath+b2Q9qroVsaq6urWd7w8DBqcz7farTlC6LmC6LmCyJa8yne3t6oad0F4KNTOvtpQmu0OeNJ37dDt3rv7++zPH3fzn+Cmi/Ityk7tJzQNw0C8Akt8/0NFLpGTMsMAEBVVRVqc21WCm35gqj5gqj5goi+yJpCZyvNk4SdnZ2oS0tLUdNFEQB+OnFycpLFbm5uLHhKa9GWL4iaL8i3KTsUc0ayt7cX9dXVFeqYmBiWRw9cT09Ps9hXjlzfi7Z8QdR8Qb7NCPe90G0lb+0w/gloyxdEzRdEzRfkx9X8fwlt+YKo+YKo+YKo+YKo+YKo+YKo+YKo+YKo+YL8BpMo4G+mA97LAAAAAElFTkSuQmCC\" y=\"-125.379908\"/>\n   </g>\n   <g id=\"patch_38\">\n    <path d=\"M 351.174576 220.379908 \nL 351.174576 125.803636 \n\" style=\"fill:none;stroke:#000000;stroke-linecap:square;stroke-linejoin:miter;stroke-width:0.8;\"/>\n   </g>\n   <g id=\"patch_39\">\n    <path d=\"M 445.750847 220.379908 \nL 445.750847 125.803636 \n\" style=\"fill:none;stroke:#000000;stroke-linecap:square;stroke-linejoin:miter;stroke-width:0.8;\"/>\n   </g>\n   <g id=\"patch_40\">\n    <path d=\"M 351.174576 220.379908 \nL 445.750847 220.379908 \n\" style=\"fill:none;stroke:#000000;stroke-linecap:square;stroke-linejoin:miter;stroke-width:0.8;\"/>\n   </g>\n   <g id=\"patch_41\">\n    <path d=\"M 351.174576 125.803636 \nL 445.750847 125.803636 \n\" style=\"fill:none;stroke:#000000;stroke-linecap:square;stroke-linejoin:miter;stroke-width:0.8;\"/>\n   </g>\n  </g>\n  <g id=\"axes_9\">\n   <g id=\"patch_42\">\n    <path d=\"M 464.666102 101.776271 \nL 559.242373 101.776271 \nL 559.242373 7.2 \nL 464.666102 7.2 \nz\n\" style=\"fill:#ffffff;\"/>\n   </g>\n   <g clip-path=\"url(#p31c32530a5)\">\n    <image height=\"95\" id=\"imagea81c5aaf28\" transform=\"scale(1 -1)translate(0 -95)\" width=\"95\" x=\"464.666102\" xlink:href=\"data:image/png;base64,\niVBORw0KGgoAAAANSUhEUgAAAF8AAABfCAYAAACOTBv1AAADkElEQVR4nO2dPUgrURCFNxKQFGkkiHYSLSwUAqkErQ1YWMTGQrCziohgY6mFlYKF2NmqxEYCESstBS39qSxSiOJPKiWGiLF68+5cEklk7x7fvvNVZ5x9u8NhnHdzN7tGPM+rewRCB7qA/xmaD4TmA6H5QGg+EJoPhOYDoflAaD6QKLoAVxQKBRVvbGyIPjk5CbqchrDzgdB8IDQfSMQL6a7mw8ODiqPRv/+9ra6uit7c3AysJht2PhCaDyS0Y2dtbU3FS0tLoiuViuh4PB5YTTbsfCA0H0hoP+G+v783zcVisQAraQ47HwjNB0LzgYR25kcikW/j3wA7HwjNBxLasVOv17+N/zA0NKTiy8tLZzXZsPOB0HwgNB8IdOanUinRAwMDbf/7g4ODprlkMtnSOYKc8TbsfCA0H4jzsTM4OCh6ZWVF5SYmJkR3dna2fe7n52cVm8vJRCLR0jnsHU7zRotr2PlAaD4Q5/dw9/f3RWezWZU7Pz8XbX6dr1XsT6fmCqevr0/lRkZGGp4jl8upeHt7u+06fgo7HwjNB0Lzgfi+1LSXbv39/aKvrq5Uzlxqlsvltq+Vz+eb5rq7u1V8f3/f8LiODlz/sfOB0Hwgvo8d++t35ubZ7u6uyv1k1LTK4+Ojis1NOHPJOzo6qo7b2tpyVpMNOx8IzQdC84H4PvOr1aqK7+7uRE9PT6vczMyM35dvyu3tbcOf21sUQcLOB0LzgUB3Nc0dRde7ieYu59nZmeiuri513Pj4uGjXD0uz84HQfCDOx87U1JTonZ0dlSuVSqKHh4ddlqFYX18XvbCwoHKnp6eiM5mMytVqNV/rYOcDoflAaD6QQB+C3tvbU/Hk5KTosbEx0RcXF07rMJeXLy8vKvf5+Sm6p6dH5Z6ennytg50PhOYDCXTs2JtY5rLO/PVPp9PquNfXV2c1mTV4nr650tvbq3IcOyGC5gMJ9OEI+0EEc3//6OhI9PLysjrOjv3k8PBQxfY9XZew84HQfCA0Hwj0NV/mG//MGxf2w3H2ks9PZmdnVby4uCja/lr529ubr9dm5wOh+UCgz+F+fHyILhaLoufn5wOrwf40fX19LdrvMWPDzgdC84HQfCC/5n07x8fHoufm5gK7rv1HDm5ubgK7NjsfCM0HEtoXWf8LsPOB0HwgNB8IzQdC84HQfCA0HwjNB0LzgdB8IDQfCM0HQvOB0HwgNB8IzQfyBYxMzGenufu/AAAAAElFTkSuQmCC\" y=\"-6.776271\"/>\n   </g>\n   <g id=\"patch_43\">\n    <path d=\"M 464.666102 101.776271 \nL 464.666102 7.2 \n\" style=\"fill:none;stroke:#000000;stroke-linecap:square;stroke-linejoin:miter;stroke-width:0.8;\"/>\n   </g>\n   <g id=\"patch_44\">\n    <path d=\"M 559.242373 101.776271 \nL 559.242373 7.2 \n\" style=\"fill:none;stroke:#000000;stroke-linecap:square;stroke-linejoin:miter;stroke-width:0.8;\"/>\n   </g>\n   <g id=\"patch_45\">\n    <path d=\"M 464.666102 101.776271 \nL 559.242373 101.776271 \n\" style=\"fill:none;stroke:#000000;stroke-linecap:square;stroke-linejoin:miter;stroke-width:0.8;\"/>\n   </g>\n   <g id=\"patch_46\">\n    <path d=\"M 464.666102 7.2 \nL 559.242373 7.2 \n\" style=\"fill:none;stroke:#000000;stroke-linecap:square;stroke-linejoin:miter;stroke-width:0.8;\"/>\n   </g>\n  </g>\n  <g id=\"axes_10\">\n   <g id=\"patch_47\">\n    <path d=\"M 464.666102 220.379908 \nL 559.242373 220.379908 \nL 559.242373 125.803636 \nL 464.666102 125.803636 \nz\n\" style=\"fill:#ffffff;\"/>\n   </g>\n   <g clip-path=\"url(#p30aece8687)\">\n    <image height=\"95\" id=\"image87bd8be422\" transform=\"scale(1 -1)translate(0 -95)\" width=\"95\" x=\"464.666102\" xlink:href=\"data:image/png;base64,\niVBORw0KGgoAAAANSUhEUgAAAF8AAABfCAYAAACOTBv1AAAFOElEQVR4nO2dOUtsWxCFy3lCcR5wHlAcEAxUFCNFMBIj8Q+YGvpDDA1MDRVEE0UUQdREEBMFxVkccJ7HF71i1cbup92nu9711hct2WW772Kf6trD2TeCiD7JUCFSuwN/M2a+Ima+Ima+Ima+Ima+ItHaHQgVkZFyXEVFRbF+f39n/fHxEbY+udjIV8TMVySsaSciIsJn2+fnzyfa7ufFxcWxLigoEG2FhYWsT05OWO/v74u4u7u7oPr0E2zkK2LmK2LmKxLWnO/mUH/fAd/B/f2kpCTWnZ2doq2hoYH16uoq6+npaRH3+PjI+u3tLaj+/Rc28hUx8xVRneEGW8q5s1NMEzU1NaKtra2NdUpKCuuFhYWg+hAMNvIVMfMV+VULa1ip4EIaEVFubi7rhIQE1jjzJSLa3Nxk7VZTXs94beQrYuYrYuYr8r/J+V6seOImyfPzs2hLTExkHRMTw7q4uNjn37JVzV+Mma+I6mYKloOYCmJjY0Xc09MT65eXF9ZuWsB927KyMtEWHf31PxXLU6Lw7unayFfEzFfEzFfEk5yPudzN65hrcYObiCgvL491c3Mz6/LychGHG96Tk5Osz87ORFxWVhbryspK0YbfL7j6eXFxIeIs5/8lmPmKeJJ28JHGmSSR3NSorq4WbbW1tazr6+tZFxUViThMBS0tLaxHR0dFHK5cZmZm+uwvzoQxpRGFflaL2MhXxMxXJOC0g1UNzk7dmWVXVxdrN+2cn5+zXlpaYr28vCzicnJyWN/f37OOj48XcVjF4LE/IqKMjIwv4zAFhRsb+YqY+YqY+YoEnPOxJMNZbEVFhYjDchJXJImIxsfHWWPOx1VMF1y5dDfJcWO8pKREtA0ODn7Z9+zsbBGH32W2mfKLMfMV8WSG+/r6ytot3TAlYZlIRLSxscHaizdCcGNkaGhItPX09LDGRbe+vj4RNzc39+XnhQIb+YqY+YqY+Yp4nvP9vd2Xmpoq2twV0GDB74rb21vRNjExwRrLTvcNFtzUmZ+f9/n5XmAjXxEzXxFP0g6Wl7u7u6INVy6rqqpEW0dHB+utrS3WmMYCxd2LHRsbYz0wMMA6PT1dxPX397NeWVkRbQ8PD0H3C7GRr4iZr4jnxwUvLy/Fz/joYpohIurt7WWNi2zHx8ci7rtVhr+47e1t1uvr66wbGxtFXFNTE2t30W1nZ+db/fguNvIVMfMVMfMV8Tznu/cVLC4usj49PRVteCdOd3c365GRERHnbsL8i3uVF+Lmf3xTZXh4mHV+fr6Iw7LZ3Rja29tj7cWxQhv5ipj5ioT8zRQ8jufOGPGRb29vZz01NSXicLEO04n76Pt7qQ7TyezsLGv3jgZ8KdrdGMI0Z2nnD8fMVyTkaQcXyfBxJyJqbW1ljQtcdXV1Ig6rJDxW4lY0/ma4mJKurq5Y454tEVFpaSlr9+WLYG/GcrGRr4iZr4iZr0jIcz7m4YODA9G2trbGGjda8IghkVyFPDw8ZB3o7X9YQh4dHYk2PO7uHlv09eJfoHu7NvIVMfMVCXnawcfTLd1mZmZY4wbK9fW1iEtLS2ONZac7A/3u4499clMXzsjdjSGv39G1ka+Ima+Ima9IBIX4v+fDlUB8c4RI3pWAl1C7V3Td3NywxqWBn5zvwTyPd0AkJyf7jHOPHOKmDn7fWKn5B2LmKxLytCP+mLMqiCnpu7cLYrkX6OPu74oaf59pp5R/EWa+ImFNO4bERr4iZr4iZr4iZr4iZr4iZr4iZr4iZr4iZr4iZr4iZr4iZr4iZr4i/wCsD9Z+Kzx6/QAAAABJRU5ErkJggg==\" y=\"-125.379908\"/>\n   </g>\n   <g id=\"patch_48\">\n    <path d=\"M 464.666102 220.379908 \nL 464.666102 125.803636 \n\" style=\"fill:none;stroke:#000000;stroke-linecap:square;stroke-linejoin:miter;stroke-width:0.8;\"/>\n   </g>\n   <g id=\"patch_49\">\n    <path d=\"M 559.242373 220.379908 \nL 559.242373 125.803636 \n\" style=\"fill:none;stroke:#000000;stroke-linecap:square;stroke-linejoin:miter;stroke-width:0.8;\"/>\n   </g>\n   <g id=\"patch_50\">\n    <path d=\"M 464.666102 220.379908 \nL 559.242373 220.379908 \n\" style=\"fill:none;stroke:#000000;stroke-linecap:square;stroke-linejoin:miter;stroke-width:0.8;\"/>\n   </g>\n   <g id=\"patch_51\">\n    <path d=\"M 464.666102 125.803636 \nL 559.242373 125.803636 \n\" style=\"fill:none;stroke:#000000;stroke-linecap:square;stroke-linejoin:miter;stroke-width:0.8;\"/>\n   </g>\n  </g>\n  <g id=\"axes_11\">\n   <g id=\"patch_52\">\n    <path d=\"M 578.157627 101.776271 \nL 672.733898 101.776271 \nL 672.733898 7.2 \nL 578.157627 7.2 \nz\n\" style=\"fill:#ffffff;\"/>\n   </g>\n   <g clip-path=\"url(#p383c4691a1)\">\n    <image height=\"95\" id=\"image169e11af22\" transform=\"scale(1 -1)translate(0 -95)\" width=\"95\" x=\"578.157627\" xlink:href=\"data:image/png;base64,\niVBORw0KGgoAAAANSUhEUgAAAF8AAABfCAYAAACOTBv1AAADAklEQVR4nO2csWoqQRSGN8mNBpuIWgVJlVKrCIK9jRZirUU6UYQ8QLDTR/AJUqQRizRiK1ipkMLWQrBUtBOMaKp77sySvYjX9d/J/b/qH2YSDh+Hw84ac2FZ1t4iEC7RBfzPUD4QygdC+UAoHwjlA6F8IJQPhPKB/EIX8B13d3faul6vSx6NRpKbzebZanIDdj4QygdC+UA8M/Ovrq4kNxoNbe/p6enbc5z55GgoH4hnxs7l5Z8+SCQSjuceHh7OUc5ZYOcDoXwgnhk7n5+fkieTibYXi8Uk39zcSL6+vnb8HSbAzgdC+UAoH4hnZr5Kt9vV1rlcTvL9/b3k29tb7dx8Pne3sBPDzgdC+UA8OXYWi4XjXiQSkfz8/Kzt1Wo112pyA3Y+EMoHQvlALiwP/ol4NBrV1tPpVLL69nM8Hmvn4vG4u4WdGHY+EMoH4smxY+f19VVysViUvFqttHPpdFrycDh0va5/hZ0PhPKBePKGa6fVaklWx04wGNTOlUolyRw75K9QPhDKB2LEzFffcu52O8nqbdey9EdNE2DnA6F8IEbccFWcbruWpd947S/ZZrOZq3UdAzsfCOUDoXwgRjxqqqivDewzX33dUC6Xtb2XlxdX6zoGdj4Qygdi3KNmKpWS3O/3Hc8tl0ttHQqFXKvpWNj5QCgfiHFjR8U+dtSRtNlstL1kMin54+PD1boOhZ0PhPKBUD4Q4264Kr1eT1urM9/n82l76v9zyGaz7hZ2IOx8IJQPxOhHTfv/aBgMBo5nt9utZPuXp1Gw84FQPhCjx47f79fW6o338fHR8ecymYzkTqdz+sIOhJ0PhPKBUD4Qo2e+nXw+L7ndbjuee3t7k1woFLS9/f58Otj5QCgfyI8aO+FwWLL9AxP7d3t/EwgEtPV6vT55XU6w84FQPhDKB2L0hyl21G+wVCoVbe/9/V1ytVqVbP+g/Zyw84FQPpAf9ahpGux8IJQPhPKBUD4QygdC+UAoHwjlA6F8IJQPhPKBUD4QygdC+UAoHwjlA/kCXBiSKdrbqi8AAAAASUVORK5CYII=\" y=\"-6.776271\"/>\n   </g>\n   <g id=\"patch_53\">\n    <path d=\"M 578.157627 101.776271 \nL 578.157627 7.2 \n\" style=\"fill:none;stroke:#000000;stroke-linecap:square;stroke-linejoin:miter;stroke-width:0.8;\"/>\n   </g>\n   <g id=\"patch_54\">\n    <path d=\"M 672.733898 101.776271 \nL 672.733898 7.2 \n\" style=\"fill:none;stroke:#000000;stroke-linecap:square;stroke-linejoin:miter;stroke-width:0.8;\"/>\n   </g>\n   <g id=\"patch_55\">\n    <path d=\"M 578.157627 101.776271 \nL 672.733898 101.776271 \n\" style=\"fill:none;stroke:#000000;stroke-linecap:square;stroke-linejoin:miter;stroke-width:0.8;\"/>\n   </g>\n   <g id=\"patch_56\">\n    <path d=\"M 578.157627 7.2 \nL 672.733898 7.2 \n\" style=\"fill:none;stroke:#000000;stroke-linecap:square;stroke-linejoin:miter;stroke-width:0.8;\"/>\n   </g>\n  </g>\n  <g id=\"axes_12\">\n   <g id=\"patch_57\">\n    <path d=\"M 578.157627 220.379908 \nL 672.733898 220.379908 \nL 672.733898 125.803636 \nL 578.157627 125.803636 \nz\n\" style=\"fill:#ffffff;\"/>\n   </g>\n   <g clip-path=\"url(#p1fc5d73668)\">\n    <image height=\"95\" id=\"imageb95d8e801c\" transform=\"scale(1 -1)translate(0 -95)\" width=\"95\" x=\"578.157627\" xlink:href=\"data:image/png;base64,\niVBORw0KGgoAAAANSUhEUgAAAF8AAABfCAYAAACOTBv1AAAER0lEQVR4nO2cuy9EWxTG9yAe8RYJ0dB4hejEKxqFSiFRSmg1/galf0KhUiIaREehkBCJBBGFeIVECCLebrestWOOc+eeM9+48/2qb7K3c3a+WbPsd8I59+UIhBx0A7IZmg+E5gOh+UBoPhCaDyQP3YCfSCQSST9/fn6muzmxwcgHQvOBZEzaKSkpEd3e3m7KqqurRe/t7Yk+Ozsz9d7f32NqXTww8oHQfCA0Hwg05+fkfH/3HR0doqenp0292tpa0SsrK6KnpqZMvbu7u4hbGC+MfCA0Hwg07Xx9fa/jXF9fi66pqTH16urqRLe1tYmOomvpj6Z1m+KGkQ+E5gPJmLRzdXUl+u3tzdQrLCwU3dTUJLqgoMDUe3x8jLqJscLIB0LzgdB8IBkzq/n09CR6c3PTlDU3N4uurKwUXV9fb+rd3Nz853bormfc3U5GPhCaDyRj0o5em11YWDBlo6OjonX3cnx83NTb3d0V/fHxkfRd/qgWBSMfCM0HQvOBpJzzdd4MyqGp7LPZ3983n/W0gV5MHxwcNPXKyspE397ehnoXZzWzFJoPJJK0k5ubKzqK7Xx+yjg+Phat045eZHHOucbGRtFbW1umLJ3pJCyMfCA0H0jKaSfZzzhoh3HQT1+XPT8/m7KNjQ3RnZ2doouKiky9kZER0dvb26ZMr/dmSgpi5AOh+UBoPpCEi+AQtO5q+uiuZ9hc6z+vu7tb9NLSkuiKigpTT+f5gYEBU/bw8BDq3VxMyRJoPpBIFlOCRrWp/HT95x0dHYk+PT0V7aedhoYG0Xq065xzOzs7/7pNQROGUaQkRj4Qmg+E5gOJJOdH3SXzn3d/fy96eXlZdGtrq6lXXl4uemJiwpRNTk6Kfnl5CfXuoKmSoPaGhZEPhOYDiWSEG/plKXbd8vK+s2NXV5foxcVFU6+qqkq0f0C6p6dH9MXFxa9tdS78DC3Tzh+E5gPJmHO4QRNwuuzw8FC0v8Wkr69PtF7rdc653t5e0fPz8z8+2yconUQxAcfIB0LzgdB8IGnN+UFdzaAcqvOyHu3qhRXnbHfSP6k4Njb249+9vr7+1uzYYOQDoflA0jrC1V1L55LfGhjUdUt2TYxzzq2vr4suLS01ZXoLor6/4fLy8rdm/0gUCy2MfCA0Hwh0hJvKwTSdnk5OTkzZ+fm56JaWFlOm5/qHhoZEz8zMmHphUwbXcP84NB8IzQcSe84Pe3AulVlC/36dtbU10f6+Hf18fZBudnbW1PPv+okTRj4Qmg8krV3NqLeY+PcrzM3NiR4eHjZlemuhPqVSXFxs6qXzYlRGPhCaD4TmA4k950exvyXMs51z7uDgQLR/GXZ/f7/o1dVV0f7/DZ5MyRJoPpC0LqbEjV5oyc/PN2X6Vlq9S9k/cM0rX7IEmg/kf5V2/hqMfCA0HwjNB0LzgdB8IDQfCM0HQvOB0HwgNB8IzQdC84HQfCD/APTqYnfxzkhvAAAAAElFTkSuQmCC\" y=\"-125.379908\"/>\n   </g>\n   <g id=\"patch_58\">\n    <path d=\"M 578.157627 220.379908 \nL 578.157627 125.803636 \n\" style=\"fill:none;stroke:#000000;stroke-linecap:square;stroke-linejoin:miter;stroke-width:0.8;\"/>\n   </g>\n   <g id=\"patch_59\">\n    <path d=\"M 672.733898 220.379908 \nL 672.733898 125.803636 \n\" style=\"fill:none;stroke:#000000;stroke-linecap:square;stroke-linejoin:miter;stroke-width:0.8;\"/>\n   </g>\n   <g id=\"patch_60\">\n    <path d=\"M 578.157627 220.379908 \nL 672.733898 220.379908 \n\" style=\"fill:none;stroke:#000000;stroke-linecap:square;stroke-linejoin:miter;stroke-width:0.8;\"/>\n   </g>\n   <g id=\"patch_61\">\n    <path d=\"M 578.157627 125.803636 \nL 672.733898 125.803636 \n\" style=\"fill:none;stroke:#000000;stroke-linecap:square;stroke-linejoin:miter;stroke-width:0.8;\"/>\n   </g>\n  </g>\n  <g id=\"axes_13\">\n   <g id=\"patch_62\">\n    <path d=\"M 691.649153 101.776271 \nL 786.225424 101.776271 \nL 786.225424 7.2 \nL 691.649153 7.2 \nz\n\" style=\"fill:#ffffff;\"/>\n   </g>\n   <g clip-path=\"url(#p97ca8ab237)\">\n    <image height=\"95\" id=\"image202d4f1ab8\" transform=\"scale(1 -1)translate(0 -95)\" width=\"95\" x=\"691.649153\" xlink:href=\"data:image/png;base64,\niVBORw0KGgoAAAANSUhEUgAAAF8AAABfCAYAAACOTBv1AAAD8UlEQVR4nO2dTyhtURTG9+WllJJQMpKplDIxkD8TlCEykEiKlAEyUSaYmTNB/iZ/ipSUgcKYyEyIJGGAFMXAG7319jq9e7v3OOd87/D9Rt9uXfcsn9Vyjr32FTHGfBoCIQmdwE+G5gOh+UBoPhCaD4TmA6H5QGg+EJoP5Bc6gUQpLS0VPTQ0pGJ7e3uix8fHVezx8VH0+/u7T9klBisfCM0HQvOBREzI/qp5dHQkurCwUMUikYjoz0/9bU1OTooeHh4WfX197XGG8cPKB0LzgYTuVjMWExMTond3d1Wsp6dH9MjIiOiWlhb/E4sCKx8IzQfyrdpOcnKy6IWFBRXb2NgQnZGREVhOsWDlA6H5QGg+kNA94XZ2dooeGxtTsfv7e9E5OTmB5eQWVj4Qmg8kdG3H5vb2Vq3T0tJEl5eXq9jh4WEgOSUCKx8IzQdC84GEuudPTU2pdWtrq+jFxUUVa2pqCiKlhGDlA6H5QELddhoaGtR6aWlJ9MvLi4pVVlaK/l9uO1n5QGg+kFBvpqysrKh1bW2t6ObmZhXLzMwMJKdEYOUDoflAaD6QUN9qOsnPzxd9dnamYvaYYXV1teiHhwff84oGKx8IzQfie9uxZ2SKiopUrKamRnR/f79oey/WGGNmZmbiutbc3Jzo4+PjqK+bn58XzXHBHwrNB0LzgXje84uLi9V6fX1ddG5ubvREYpwqiZd43+Pi4kK0/XvHGGPOz89dXdsNrHwgNB+I521ndnZWrWPtndqHlp+enkQ7DzDHiz2rU1FRoWIlJSX//JrV1VW1bmxsdHVtN7DygdB8IIFupmxubqp1XV2d6I+Pjy+///b2tujU1FQVGxgYEN3V1SW6vr7+y9d1CysfCM0HQvOBeN7z7adMY4xJSvr783U+4aakpIj2oufbvL29qfXg4KDom5sb0c7TLfYIYltbm6c5OWHlA6H5QDxvO319fWr9+voqur29XcXscb/p6WmvU4nK/v6+6Lu7OxWzJ513dnZUzN6E8QJWPhCaD8T3PdyqqirRW1tbUV9nn5sNcpyjoKBArU9OTkSvra2pmN2SnFPQbmDlA6H5QGg+EN97flZWlmj75IgxesPDftLs7u72M6WYjI6Oiu7t7VWxjo4O0fZHirmFlQ+E5gMJdErZ+fFap6enotPT00U7b/GC3Fe18zg4OFCx7Oxs0faIjHMiOl5Y+UBoPhCaDyTQDXT7HwgYox/tl5eXRTtH9vLy8kRfXl76ktsfnp+fRTtHH8vKykRfXV19+VqsfCA0H8i3OhAXNlj5QGg+EJoPhOYDoflAaD4Qmg+E5gOh+UBoPhCaD4TmA6H5QGg+EJoPhOYD+Q20FO6WgiwtSgAAAABJRU5ErkJggg==\" y=\"-6.776271\"/>\n   </g>\n   <g id=\"patch_63\">\n    <path d=\"M 691.649153 101.776271 \nL 691.649153 7.2 \n\" style=\"fill:none;stroke:#000000;stroke-linecap:square;stroke-linejoin:miter;stroke-width:0.8;\"/>\n   </g>\n   <g id=\"patch_64\">\n    <path d=\"M 786.225424 101.776271 \nL 786.225424 7.2 \n\" style=\"fill:none;stroke:#000000;stroke-linecap:square;stroke-linejoin:miter;stroke-width:0.8;\"/>\n   </g>\n   <g id=\"patch_65\">\n    <path d=\"M 691.649153 101.776271 \nL 786.225424 101.776271 \n\" style=\"fill:none;stroke:#000000;stroke-linecap:square;stroke-linejoin:miter;stroke-width:0.8;\"/>\n   </g>\n   <g id=\"patch_66\">\n    <path d=\"M 691.649153 7.2 \nL 786.225424 7.2 \n\" style=\"fill:none;stroke:#000000;stroke-linecap:square;stroke-linejoin:miter;stroke-width:0.8;\"/>\n   </g>\n  </g>\n  <g id=\"axes_14\">\n   <g id=\"patch_67\">\n    <path d=\"M 691.649153 220.379908 \nL 786.225424 220.379908 \nL 786.225424 125.803636 \nL 691.649153 125.803636 \nz\n\" style=\"fill:#ffffff;\"/>\n   </g>\n   <g clip-path=\"url(#pe1fef9b1bf)\">\n    <image height=\"95\" id=\"image790582a7e0\" transform=\"scale(1 -1)translate(0 -95)\" width=\"95\" x=\"691.649153\" xlink:href=\"data:image/png;base64,\niVBORw0KGgoAAAANSUhEUgAAAF8AAABfCAYAAACOTBv1AAAFV0lEQVR4nO2dyyt3axTH18+dKFLKNffLRErIwMDAgIGYMKIYKGUgA0qKP0KYSgxcykgGSiYuJZfkMpABkii55s47Ouus9bxn77PPbv/e9e7zrs/oq7V+7L49luey9iMAAN+giBAi/QB/Mmq+IGq+IGq+IGq+IGq+IGHSD+CEQCCAOjIyEnVOTg7LS0hIQL23t8di9/f3qL+/f4/ZtY58QdR8QXxRdpKSklB3d3ejrq+vZ3kfHx+oh4eHWWxychL1y8sLarsSFOzypCNfEDVfEDVfEF/U/Li4ONTNzc2o09PTWd7b2xvqyspKFpufn0dN/zZ8fX2xPFrnzZhVnlt05Aui5gvii7Jzc3ODOizs70cODQ1leeHh4ajNskBLEi0nduUjJISPTatctyVIR74gar4gvig7j4+PqI+OjlCnpqayvM/PT9QbGxuW34PmmdBNPKqDgY58QdR8QdR8QYJe8+1qqNOpG12Rjo+Po66qqrLMOzk5YTG7Om/1s83noM+vK1yfo+YLIjrVNFeQf2G32bW+vo769vaW5cXGxqJOS0tjMa9LhhfoyBdEzRdEzRck6DXf6dTN6jMmZ2dnqNfW1lisuroadWlpKYtNTEygdjrtNJ+P/o1yujNqh458QdR8QQLg4zdT8vPz2dfT09Oo6WoXAKCxsRH1+fk56v9ymEK/pqVLy44PUfMF+aUrXKcba06hMx8AfoBSV1fHYl1dXaiHhoZQ09ZB85nM57NrJXGDjnxB1HxB1HxBPK/5Zl2nfTYxMTEsFhERgfr19RW1OU18f39HTetwcnIyy8vOzkadmJjIYrTNkK52Dw4OWJ5dzfd6N1RHviBqviCerHBpqTFLS1lZGeq2tjYWy8rKQk1LzdPTE8u7urpCvb29jbqgoIDlNTQ0oDZ7emjJmJubQ93a2sryzKlnMNGRL4iaL4iaL4gnU01a83Nzc1msv78fdUVFBYvRXULaS0mnlgC8vTszMxM1bR0H4NNVcyuAtpPX1NSgptNTAIDDw0PU+jbi/xg1XxBPyg4tH+b0r6ioCHVUVBSLPTw8oJ6dnUW9srLC8ujBRXx8PGqzb2dhYQF1b28vi+Xl5aGm/T19fX0sr6OjAzUtY8FAR74gar4gnm+sWbUAAvy8Ybazs4N6cHAQtVlOKHQzLjo6msXoLGl5eZnFaHdzeXk56traWpZHz3pnZmZYzGnLiVN05Aui5gui5gviec2/u7tjXz8/P6M2dyuXlpb+8XN2B9V019H8G0I/d3p6ymJNTU2op6amUJeUlLA8uiI/Pj5msa2tLUfP6BQd+YKo+YK4Ljt0M41uWtGpIAAvDeZUjR68WLXi2WGXZ26K0QOZlpYW1KOjoyyvuLgYdWdnJ4v19PSgNsurG3TkC6LmC+LJbMeu7NBVJ20jAeArTXqD4MXFBcvzYl+dfo/Ly0vUY2NjLG9gYAB1SkoKixUWFqLe3NxE7XblqyNfEDVfEDVfENc1n9ZQWtfNOw/oBdJmDaUHL+3t7ajN22CtpnV2LedOb4rd3d1lsdXVVdQZGRksRt+EoWe99FDo3342RUe+IGq+IJ5MNWnZMe+tHxkZQU3PRwH4Cpe295kvuu3v76Om56p2v95O34KhLSsAAIuLi6jp9BeAT1Hps5tlxyk68gVR8wVR8wUJ+kvQ9JZX2hIOwGv79fU1avqSMgBvC7S6GRbA3TaEeeBP/yeLeUBPoQdDbvt7dOQLouYL8kvvXjB/xWlJojGzS9mLew5+R3TkC6LmC+LrK1/8jo58QdR8QdR8QdR8QdR8QdR8QdR8QdR8QdR8QdR8QdR8QdR8QdR8QX4AdOERTGXhb7IAAAAASUVORK5CYII=\" y=\"-125.379908\"/>\n   </g>\n   <g id=\"patch_68\">\n    <path d=\"M 691.649153 220.379908 \nL 691.649153 125.803636 \n\" style=\"fill:none;stroke:#000000;stroke-linecap:square;stroke-linejoin:miter;stroke-width:0.8;\"/>\n   </g>\n   <g id=\"patch_69\">\n    <path d=\"M 786.225424 220.379908 \nL 786.225424 125.803636 \n\" style=\"fill:none;stroke:#000000;stroke-linecap:square;stroke-linejoin:miter;stroke-width:0.8;\"/>\n   </g>\n   <g id=\"patch_70\">\n    <path d=\"M 691.649153 220.379908 \nL 786.225424 220.379908 \n\" style=\"fill:none;stroke:#000000;stroke-linecap:square;stroke-linejoin:miter;stroke-width:0.8;\"/>\n   </g>\n   <g id=\"patch_71\">\n    <path d=\"M 691.649153 125.803636 \nL 786.225424 125.803636 \n\" style=\"fill:none;stroke:#000000;stroke-linecap:square;stroke-linejoin:miter;stroke-width:0.8;\"/>\n   </g>\n  </g>\n  <g id=\"axes_15\">\n   <g id=\"patch_72\">\n    <path d=\"M 805.140678 101.776271 \nL 899.716949 101.776271 \nL 899.716949 7.2 \nL 805.140678 7.2 \nz\n\" style=\"fill:#ffffff;\"/>\n   </g>\n   <g clip-path=\"url(#pbabbf7d32d)\">\n    <image height=\"95\" id=\"imagec7668f77c3\" transform=\"scale(1 -1)translate(0 -95)\" width=\"95\" x=\"805.140678\" xlink:href=\"data:image/png;base64,\niVBORw0KGgoAAAANSUhEUgAAAF8AAABfCAYAAACOTBv1AAAD0UlEQVR4nO2cyyt1YRTG1+FLyCXXkcuEohAzf4AyI0pu5R9AMmFEUZIyMjUwklySlIFSRgaihJJcBgYKRZQBGfhmy7v2Z4vP3vs5dZ7f6Fmt97z77Wm1znv2fveJici7EAhJ6AUkMjQfCM0HQvOB0HwgNB/IH/QC4pmsrCwTHx4eqh4YGFC9vr7+X/Oz8oHQfCBsO1+wsrJi4vz8fNUXFxe/np+VD4TmA6H5QNjzPZSUlKhuaGgwuYWFBdUnJye/vhYrHwjNB5LwbaegoMDEW1tbvmOnpqYCvTYrHwjNB5Lwbaenp8fEZWVlqldXV03u/Pw80Guz8oHQfCA0H0hMEvDcTm1treqdnR2TS01NVV1ZWWlyZ2dnga6DlQ+E5gNJmK1mUtJHnQ0NDal224yIyNjYmOqg28w/awp1dvIlNB8IzQeSMFvNjo4O1fPz86qvr6/NOHcb+vDwEOqaWPlAaD6QuNlqus9Lu7q6TO7x8VH16Oio6ufnZ9/50tLSTNze3v7puO3tbROH3WpcWPlAaD4QaNtxW417NC87O9uMe3//2JAlJyerHh4eNuNeXl5Uj4yMmFxzc7Pqq6sr1ePj4z9ddmCw8oHQfCA0H0ikPT83N9fES0tLqjMzM1W7Pd4b9/X1qa6oqDDjent7Vbe2tvrOsbm5qfry8vJbaw8DVj4Qmg8k0rbjPfXrbimPj49VuzfBRESqq6tVt7S0qG5razPjdnd3Vefk5Jic+8t1ZmbmJ8sODVY+EJoPhOYDibTnd3Z2+ub29vZUn56empwbLy8vq/Z+h+Tl5fnOPzs7qzqIt0qCgJUPhOYDibTtuC+UiYg0NTWp3tjY+PF8+/v7Jm5sbPQdW19frzojI0P1Vw9kwoaVD4TmA4m07by+vpo4FoupHhwcVL22tmbGuUf63B1TeXm573yuFhFJT09XnZKS8oNVhwcrHwjNB0LzgUR6XLC0tNTER0dHqt3tn3uHU0Tk9vZWtfdXrR93d3cmrqurU31zc/OtOcKGlQ+E5gOJdKvpnpcREZmbm1Pd39+vuqamxozzPtP14+npSfX09LTJRXkM8Luw8oHQfCDQlyOKiopUHxwcqPbel/drO4uLiyZ2j5XEY5vxwsoHQvOB0HwgcfNCXHd3t+qJiQmTKy4u/vQzhYWFJr6/vw9+YSHCygdC84HETdtx8f5v/eTkpOqqqirV3ptsb29v4S4sYFj5QGg+EJoPJC57fqLAygdC84HQfCA0HwjNB0LzgdB8IDQfCM0HQvOB0HwgNB8IzQdC84HQfCA0HwjNB0LzgdB8IH8Bst7VZIGV6SoAAAAASUVORK5CYII=\" y=\"-6.776271\"/>\n   </g>\n   <g id=\"patch_73\">\n    <path d=\"M 805.140678 101.776271 \nL 805.140678 7.2 \n\" style=\"fill:none;stroke:#000000;stroke-linecap:square;stroke-linejoin:miter;stroke-width:0.8;\"/>\n   </g>\n   <g id=\"patch_74\">\n    <path d=\"M 899.716949 101.776271 \nL 899.716949 7.2 \n\" style=\"fill:none;stroke:#000000;stroke-linecap:square;stroke-linejoin:miter;stroke-width:0.8;\"/>\n   </g>\n   <g id=\"patch_75\">\n    <path d=\"M 805.140678 101.776271 \nL 899.716949 101.776271 \n\" style=\"fill:none;stroke:#000000;stroke-linecap:square;stroke-linejoin:miter;stroke-width:0.8;\"/>\n   </g>\n   <g id=\"patch_76\">\n    <path d=\"M 805.140678 7.2 \nL 899.716949 7.2 \n\" style=\"fill:none;stroke:#000000;stroke-linecap:square;stroke-linejoin:miter;stroke-width:0.8;\"/>\n   </g>\n  </g>\n  <g id=\"axes_16\">\n   <g id=\"patch_77\">\n    <path d=\"M 805.140678 220.379908 \nL 899.716949 220.379908 \nL 899.716949 125.803636 \nL 805.140678 125.803636 \nz\n\" style=\"fill:#ffffff;\"/>\n   </g>\n   <g clip-path=\"url(#pfc00ca15fe)\">\n    <image height=\"95\" id=\"image3619cfb025\" transform=\"scale(1 -1)translate(0 -95)\" width=\"95\" x=\"805.140678\" xlink:href=\"data:image/png;base64,\niVBORw0KGgoAAAANSUhEUgAAAF8AAABfCAYAAACOTBv1AAAFK0lEQVR4nO2dyyt1YRTG3+N+Z4KBklsuEyNKUYqpgZEZM0xloJQ/wUymppLEGImhQomJKCGXAXK/X77Z+p616uzvfNt7ziLrN3pO7zr7bE/vXnu9l71FnHOfzlAhSfsEfjNmviIp2ifgk0gkQvrzM1w2TU1NJZ2UxPsmfn56evryb1nPV8TMV8TMVyTuOR/zsMyh2Pb+/k46bA4N+l6Y+0FGRgb7/PLy8qXjSaznK2LmK+Il7eAlmJaWxtow1WCcczzVfHx8kA57GUc7J+ecS09PJ52ZmRn1e8nJyaQxzfzr+GGwnq+Ima+Ima9I6JyPOQ/zqSzPMK+jDjpePMB7T35+Puni4uKo53F+fs7arq6uSL++vn79nL58BCM0Zr4iXtKOLC8RLCHlpRqtvJQpKEzpKb+DZSPOSMpzwr+loKCAtV1eXpLGcw+L9XxFzHxFQqcdvKyDFhbe3t6itsWKj0ksrLTwfOVot7S0lPTx8TFrw9GvD6znK2LmK2LmK+Il5weN9nzMUCI4UpXHjvW38B6SksItwBG6XPzB+4bNav5wzHxFvCym+E4tQeDlLi/9oFEnppeioiLShYWFLA7Tzt3dHWvDEtVGuD8cM18RM18R1b2aOFzHPZI4JeFc9IV2WQri8eRMa21tLemuri7S2dnZLG5jY4M0zmI659zz8zNpH/c56/mKmPmKeE87svzDz1lZWayts7OTdH9/P+nb21sWNzQ0RHpnZ4e0vPQx1TQ2NrK2kZER0hUVFaRPTk5Y3PLyMmm5huujvESs5yti5isS92oHK5Dq6mrWNjg4SLq+vp60rGJaW1tJj46Okh4fH2dxuDDS3t7O2mpqakhj+tvd3WVxm5ubpOUI1/skodejGf+Fma+Ima9IQp9MkaPOw8ND0uXl5aRzcnJYHG5HHBgYIN3c3Mzi1tbWSFdWVrI23OqHC+NjY2Ms7uDggLTv0lJiPV8RM1+RiPP87gU5wsUJs7q6OtZWVlZGGrfzlZSUsLienh7SDQ0NpGUaw9JQjlz39/dJT05Okp6ZmWFxj4+PLlFYz1fEzFfEzFfEe6kZtJdG7ovEaYTV1VXS19fXLG5qaor07Ows6ba2NhaXl5dHWu6r3N7eJr2yskIaF8UTjfV8Rcx8ReI+wsW0g6Wlc851d3eTxst/YWGBxWEJ2dfXR3p9fZ3F4YNusgzF9Vc8XiL3HEms5yti5iuS0LSDacE551paWkjjmmtvby+LwzSEE2RLS0ssrqOjg7R85hfTjo9naH1gPV8RM18RM1+RuOd8XJDAPTfO8W3bODqdnp5mcTgLOT8/T1qOToMebsbfltsRtbCer4iZr4j3xZQg5HbBxcVF0k1NTX9PSizIYJo4OzsjfXFxweLwXQlbW1usDdd+cWElaJ3WxzsggrCer4iZr0hC044E33OAVUxVVRWLw8sfKxrceiKPIbcS7u3tkY411chndBEf75Swnq+Ima+Ima+Ias7HNVzM88PDwywOZz9vbm5Iz83NsbiJiQnSp6enrC3WrX94TvJhOdyDhAsycjQd6z3Aer4iZr4iqmkHwa0ecpcybh/EEu/o6IjF+fg/Jngeubm5rA3XhR8eHkjf39+zOEs7PwAzXxEzX5Fv83+ycMEby0nnou+zCfuar1iRx8MyFMvOsLOf1vMVMfMV+TZpB5GXbbTRaTy2+mH6w3JSnofNav5wzHxFvs0I9zdiPV8RM18RM18RM18RM18RM18RM18RM18RM18RM18RM18RM18RM1+RP0EZ9Vs2YKVYAAAAAElFTkSuQmCC\" y=\"-125.379908\"/>\n   </g>\n   <g id=\"patch_78\">\n    <path d=\"M 805.140678 220.379908 \nL 805.140678 125.803636 \n\" style=\"fill:none;stroke:#000000;stroke-linecap:square;stroke-linejoin:miter;stroke-width:0.8;\"/>\n   </g>\n   <g id=\"patch_79\">\n    <path d=\"M 899.716949 220.379908 \nL 899.716949 125.803636 \n\" style=\"fill:none;stroke:#000000;stroke-linecap:square;stroke-linejoin:miter;stroke-width:0.8;\"/>\n   </g>\n   <g id=\"patch_80\">\n    <path d=\"M 805.140678 220.379908 \nL 899.716949 220.379908 \n\" style=\"fill:none;stroke:#000000;stroke-linecap:square;stroke-linejoin:miter;stroke-width:0.8;\"/>\n   </g>\n   <g id=\"patch_81\">\n    <path d=\"M 805.140678 125.803636 \nL 899.716949 125.803636 \n\" style=\"fill:none;stroke:#000000;stroke-linecap:square;stroke-linejoin:miter;stroke-width:0.8;\"/>\n   </g>\n  </g>\n  <g id=\"axes_17\">\n   <g id=\"patch_82\">\n    <path d=\"M 918.632203 101.776271 \nL 1013.208475 101.776271 \nL 1013.208475 7.2 \nL 918.632203 7.2 \nz\n\" style=\"fill:#ffffff;\"/>\n   </g>\n   <g clip-path=\"url(#p6f48295fa2)\">\n    <image height=\"95\" id=\"image355b6c688e\" transform=\"scale(1 -1)translate(0 -95)\" width=\"95\" x=\"918.632203\" xlink:href=\"data:image/png;base64,\niVBORw0KGgoAAAANSUhEUgAAAF8AAABfCAYAAACOTBv1AAAD40lEQVR4nO2cTSg9URjG53KR2EixuT6KbCxEFnaUsiFhIYmlLCQfK3ZsSPZSxELZWFEsLFDKRxKKkiwoK2wsEPn4L/71Ou9kbuPeufeZy/NbPad35pzT09vbzJw5J2BZ1qdFICShJ/CXoflAaD4Qmg+E5gOh+UBoPhCaD4TmA6H5QGg+EJoPhOYDCaInEA2dnZ2qXVVVJXp0dFTFbm9v4zKnn8DMB0LzgQSsBFhMyc3NFT07Oyu6srJSXZeTkyP66upKxRYWFkSPjIx4O8EIYeYDoflAfFl20tPTVXtubk50a2trRH2+v7+LXl1dFd3R0aGue3x8jKj/SGDmA6H5QGg+EF/W/IqKCtU+ODhwdd/m5qbompoaFQsEAt/eMzU1pdq9vb2uxvICZj4Qmg/Elx/W6urqHGNvb2+i5+fnVWxmZkZ0f3+/irW3t3/bXygUimCG3sDMB0LzgdB8INCaX1tbKzolJUV0U1OT4z3B4NeUu7q6VMze9jvMfCA0H4gnZSc5OVl0eXm5ii0uLn4NFtTD5eXliU5Kil8efH5+vdQfHh7GbVw7zHwgNB+IJx/WJicnRQ8ODkbbXUy4u7sTvbW1JbqtrQ0wm/8w84HQfCA0H4gnNd98dPv4+HB9n3nt9PS06L29PXVdfn6+6MvLS9FnZ2eOfZeWlqr27u6u6JubG9dzjCXMfCA0H4gnZcf8Azg7O1vFXl5eRE9MTKjY8vKy6OPj42inkXAw84HQfCA0H4gnNd/896W7u1vFzLre0tIS7VC/CmY+EJoPxJPFlJ2dHdH2smMurtj/kfHLmyYKZj4Qmg/Ek6edzMxM0cPDwyo2NDQk+v7+XsVKSkpEPzw8RDuNhIOZD4TmA6H5QDzfmZKamqraS0tLohsaGlRsbGxM9Pj4uOinpycvp+RbmPlAaD6QmG+Iy8jIEL29va1iZWVlopubm0WvrKw49ldYWCjafr6CudZrf3v+ydpyvGDmA6H5QGK+OcI8y8C+0a2vr0/06+urYx/mCVJra2vf9m1ZusStr6+r2Onpqej9/X3RR0dH6rrn52fH/r2GmQ+E5gOh+UB8efaCnerqatEbGxsxHev8/Fx0uN8Rw+H2TCBmPhCaDyQhyk5RUZHonp4e0fZ9t+bxYE5HvMQDc4NgOJj5QGg+EJoPJCFqvlvq6+tFNzY2qph57FdxcbGr/i4uLlS7oKBAdFpamuN9rPkJAM0H8qvKTjiysrJEm4su4bi+vlbtgYEB0eZXUnt5Ojk5cdU/Mx8IzQfyZ8qOH2HmA6H5QGg+EJoPhOYDoflAaD4Qmg+E5gOh+UBoPhCaD4TmA/kH0v3hZC0NOusAAAAASUVORK5CYII=\" y=\"-6.776271\"/>\n   </g>\n   <g id=\"patch_83\">\n    <path d=\"M 918.632203 101.776271 \nL 918.632203 7.2 \n\" style=\"fill:none;stroke:#000000;stroke-linecap:square;stroke-linejoin:miter;stroke-width:0.8;\"/>\n   </g>\n   <g id=\"patch_84\">\n    <path d=\"M 1013.208475 101.776271 \nL 1013.208475 7.2 \n\" style=\"fill:none;stroke:#000000;stroke-linecap:square;stroke-linejoin:miter;stroke-width:0.8;\"/>\n   </g>\n   <g id=\"patch_85\">\n    <path d=\"M 918.632203 101.776271 \nL 1013.208475 101.776271 \n\" style=\"fill:none;stroke:#000000;stroke-linecap:square;stroke-linejoin:miter;stroke-width:0.8;\"/>\n   </g>\n   <g id=\"patch_86\">\n    <path d=\"M 918.632203 7.2 \nL 1013.208475 7.2 \n\" style=\"fill:none;stroke:#000000;stroke-linecap:square;stroke-linejoin:miter;stroke-width:0.8;\"/>\n   </g>\n  </g>\n  <g id=\"axes_18\">\n   <g id=\"patch_87\">\n    <path d=\"M 918.632203 220.379908 \nL 1013.208475 220.379908 \nL 1013.208475 125.803636 \nL 918.632203 125.803636 \nz\n\" style=\"fill:#ffffff;\"/>\n   </g>\n   <g clip-path=\"url(#pf193912792)\">\n    <image height=\"95\" id=\"image970a3fc3d7\" transform=\"scale(1 -1)translate(0 -95)\" width=\"95\" x=\"918.632203\" xlink:href=\"data:image/png;base64,\niVBORw0KGgoAAAANSUhEUgAAAF8AAABfCAYAAACOTBv1AAAE10lEQVR4nO2cyyt2URTG9/u63+WSiUhEKSNlYigjYxko/4AyYKpkLv+A8gcYGBtgYO5SQkoKuRRC7vdvtr5nrbynL995rVOe3+g57e10PO13nbX3XvukQgifgbiQ9n6A3wzNd4TmO0LzHaH5jtB8R2i+IzTfEZrvSK73A/wPqVQqY9vnZ/In7hz5jtB8R2i+I4mM+TaW5+Xlia6srBRdVVWl+j09PYl+fHxUbXd3d6Kfn59Ff3x8qH72Optw5DtC8x1JZNjJyclR111dXaLHxsZE19TUqH4vLy+iT05OVNvW1pboxcVF0bu7u6ofhqeodBVD43fTWo58R2i+I6mQwD3c8vJydT07Oyu6p6dHdEFBgeoXNePFTGh7e1v06Oio6re+vi769fVVtcU9a+bId4TmO0LzHUlkqllaWqqua2trRafT6S91CHombNsKCwtFd3Z2iu7o6FD9VldXRWd7ZZQj3xGa70jsYceme3gd1Zab+/dRmpqaVL+ioiLRb29vX/7NV9eZyM/PF93c3KzauLD2S6D5jtB8R2KJ+bgKiWlhCCG0traKtjEf+7a0tIju7u5W/dra2kRj/LfxGd8HNtXM9O7B5/tpOPIdofmOxBJ2KioqRA8PD6u2gYEB0XaTBMMEzkDxfiGEUFJS8uU9bNh5eHgQbVckM6Wrm5ubqt9P1vtw5DtC8x35dtjBjKGhoUH04OCg6ldfXy/ahomrqyvRZ2dnom9ublS/xsZG0XbRDcGSkJ2dHdWGmylHR0ei5+bmMt4v23DkO0LzHaH5jsSSatbV1Ymurq5WbVGp4cLCguiJiQnR+C4IQaeafX19om1ai5vfMzMzqu3g4EA0vhuwTuen4ch3hOY7EkvdDu6JLi8vqzYMGTaFxDLA/f190f86yywrK1PXOIu9vr5WbTjjTcqpFY58R2i+IzTfkVhSzcPDQ9E2rmMtjS3HPj09Ff2dOHx7e6uucQnBprVJifMIR74jNN+RWMIOzkhtqtnb2ysaZ6Ah6E2NOHh/fxcdVS6eFDjyHaH5jsQSdjB8TE1NqTacWa6tram2/w0N9u8xo0lidmPhyHeE5jtC8x2J/TSiLdPDcjzbtre3JxoPMFswtuPmjI3rOKtlzCeR0HxHsn4IGssAcWMlBL0whimpTSGxVgcPQZ+fn6t+WPpnF92+k4ZGnaSJI63lyHeE5juS9XO4UVkMglkM7gGEoBfnpqenRdsvTWGJIJaihKBDEj4ThsUQ9GE5e8AOw+bl5aXoi4sL1e/+/l50VEjiyHeE5jtC8x350W8v4GZHCJnjoU3xsLwPv7FTXFys+mH90Pz8vGrDOIwzYXtaBp/Jnm7B/Wl8h0xOTqp++O6x/zPCke8IzXck9hlu1AdJLfiTxJ+7vQeWAfb394seHx9X/fAUjA0nUd+AyIQNOxi6jo+PRY+MjKh+Kysrohl2EgrNd4TmOxJ7zLdTcoz5NtZiTM0U/y14D/sJSDy1MjQ0pNra29tF48ew7fNiySGWM4YQwsbGhmg8xbi0tKT62RXVTHDkO0LzHcn6Zgru29r0D2eace+/2hCHq5W4OmlTYTwgZ8sZ8TqO5+XId4TmO5LID1n/FjjyHaH5jtB8R2i+IzTfEZrvCM13hOY7QvMdofmO0HxHaL4jNN+RP9qeqw5cKURpAAAAAElFTkSuQmCC\" y=\"-125.379908\"/>\n   </g>\n   <g id=\"patch_88\">\n    <path d=\"M 918.632203 220.379908 \nL 918.632203 125.803636 \n\" style=\"fill:none;stroke:#000000;stroke-linecap:square;stroke-linejoin:miter;stroke-width:0.8;\"/>\n   </g>\n   <g id=\"patch_89\">\n    <path d=\"M 1013.208475 220.379908 \nL 1013.208475 125.803636 \n\" style=\"fill:none;stroke:#000000;stroke-linecap:square;stroke-linejoin:miter;stroke-width:0.8;\"/>\n   </g>\n   <g id=\"patch_90\">\n    <path d=\"M 918.632203 220.379908 \nL 1013.208475 220.379908 \n\" style=\"fill:none;stroke:#000000;stroke-linecap:square;stroke-linejoin:miter;stroke-width:0.8;\"/>\n   </g>\n   <g id=\"patch_91\">\n    <path d=\"M 918.632203 125.803636 \nL 1013.208475 125.803636 \n\" style=\"fill:none;stroke:#000000;stroke-linecap:square;stroke-linejoin:miter;stroke-width:0.8;\"/>\n   </g>\n  </g>\n  <g id=\"axes_19\">\n   <g id=\"patch_92\">\n    <path d=\"M 1032.123729 101.776271 \nL 1126.7 101.776271 \nL 1126.7 7.2 \nL 1032.123729 7.2 \nz\n\" style=\"fill:#ffffff;\"/>\n   </g>\n   <g clip-path=\"url(#p057e30617f)\">\n    <image height=\"95\" id=\"image42e05bf1be\" transform=\"scale(1 -1)translate(0 -95)\" width=\"95\" x=\"1032.123729\" xlink:href=\"data:image/png;base64,\niVBORw0KGgoAAAANSUhEUgAAAF8AAABfCAYAAACOTBv1AAAEbUlEQVR4nO2cSyitXxjGt1suIYoMXEYSJSmSUlJMJIqUxIyBcjdACKEMlAlFTKQwlJkyoDAwMCGJlJDkmkLu/Efn/a+12lv77PPZz3bO8xs9b2v51tvT29vyrfVtL5vN9mkjELzRCfzL0HwgvsjFm5ubRQ8PD4uur6/X5o2OjrotJ3fCygdC84HQfCBeNuBW8+TkRHRMTIzoi4sLbV5qaqros7Ozb8/LXbDygdB8INCt5s3Njejo6GjRkZGR2rympibRbW1t356Xu2DlA6H5QGg+EOhWs6ioSPTCwoLoz0/HKeXm5opeXl7+nsTcBCsfCM0HAm07wcHBond3d0Wr206Tra0t0ZmZmdrY09OThdl9P6x8IDQfCLTtqISEhIi+urrSxvz8/Oz+zcTEhBbX1NRYn9g3wsoHQvOB0HwgHtPzVfr7+7W4s7PT7ryHhwctLiwsFL2ysmJ5XlbDygdC84F4ZNvJyMjQ4qWlJdHqltTk/v5edH5+vja2vr5uUXbWwcoHQvOB0HwgHtnzTaqrq0WrdzrVt6ImOzs7Wpyeni76+fnZwuxch5UPhOYD+RFtR6W1tVX0wMCANubr6/gaUkVFhei5uTnrE3MBVj4Qmg/kx7UdlenpaS2urKx0OPfu7k50S0uL6KmpKW3e+/u7Nck5ASsfCM0HQvOBuPWKeFhYmBa3t7eLzsrKEn19fa3NOz4+Fu3v7y86ISHB6bXVt6GTk5Oi09LStHkdHR2ib29vnX6+K7DygdB8IJZvNQMDA7V4dnZWdF5enjYWFBQk2tv7/zr46payuhX08fFxOc9ffHx8aPH8/LzohoYGbczqj/FY+UBoPhCaD8Tynl9QUKDFMzMzokNDQ7Wxo6Mj0eohSWxsrDYvMTHR7lqPj49anJSUZFfbbPr9z6ioKLvPMzE/xs7Ozha9v7/v1DO+gpUPhOYDsfw/XPOt4FfbQfXwY2NjQ/TIyIhLa6trma2rtLRUtPp7PuHh4do89VzYbE9dXV2iq6qqRL++vrqULysfCM0HYvluJyAgQIvVM9eenh59cS8v0ZeXl6LHxsa0eUNDQ6LNm8nOon5IV15eLtr8+G5xcdGp56ktSc39d2DlA6H5QGg+EMu3muaHyH19faLN/lpcXCxa/Y2d7u5ubZ560LK9vS1aPfiwt7aKekCjbod7e3sdPuP8/Fwbi4uLc/h8V2DlA6H5QKD3dlJSUkTX1taKLisr0+aZL+R+cXp6qsWrq6uiDw8PtTF1y7u5uSna/ApGPTB5e3vTxgYHB0WPj4/bzel3YOUDoflAPPK6YHJyshbX1dWJLikpER0REfHHa5mtZW9vT/Ta2po21tjYKPrl5eWP12blA6H5QGg+EI/s+V8RHx8v2uz56n/MOTk52ph6P0fdJpofRx8cHFiRplOw8oHQfCA/ru38TbDygdB8IDQfCM0HQvOB0HwgNB8IzQdC84HQfCA0HwjNB0LzgdB8IDQfCM0HQvOB0HwgNB8IzQdC84HQfCA0H8h/QIsV5Jtj8zgAAAAASUVORK5CYII=\" y=\"-6.776271\"/>\n   </g>\n   <g id=\"patch_93\">\n    <path d=\"M 1032.123729 101.776271 \nL 1032.123729 7.2 \n\" style=\"fill:none;stroke:#000000;stroke-linecap:square;stroke-linejoin:miter;stroke-width:0.8;\"/>\n   </g>\n   <g id=\"patch_94\">\n    <path d=\"M 1126.7 101.776271 \nL 1126.7 7.2 \n\" style=\"fill:none;stroke:#000000;stroke-linecap:square;stroke-linejoin:miter;stroke-width:0.8;\"/>\n   </g>\n   <g id=\"patch_95\">\n    <path d=\"M 1032.123729 101.776271 \nL 1126.7 101.776271 \n\" style=\"fill:none;stroke:#000000;stroke-linecap:square;stroke-linejoin:miter;stroke-width:0.8;\"/>\n   </g>\n   <g id=\"patch_96\">\n    <path d=\"M 1032.123729 7.2 \nL 1126.7 7.2 \n\" style=\"fill:none;stroke:#000000;stroke-linecap:square;stroke-linejoin:miter;stroke-width:0.8;\"/>\n   </g>\n  </g>\n  <g id=\"axes_20\">\n   <g id=\"patch_97\">\n    <path d=\"M 1032.123729 220.379908 \nL 1126.7 220.379908 \nL 1126.7 125.803636 \nL 1032.123729 125.803636 \nz\n\" style=\"fill:#ffffff;\"/>\n   </g>\n   <g clip-path=\"url(#pa8993dd44a)\">\n    <image height=\"95\" id=\"image0e6cf8a3b1\" transform=\"scale(1 -1)translate(0 -95)\" width=\"95\" x=\"1032.123729\" xlink:href=\"data:image/png;base64,\niVBORw0KGgoAAAANSUhEUgAAAF8AAABfCAYAAACOTBv1AAAFK0lEQVR4nO2cSyiuXxTGt2vucklkINdk4JIiJZcoIVEGDJTOkJQRJubExICBiSgGEmVAFAP3ZGLiliQxkFIu6bg7s9Wzdsf5y3k/63P+6zd6WNtn97Tf9a19ez2MMW9GEcFTugP/Z9R8Qbxd/Q88PDxIh4SEsNjExATpzMxM0sPDw6xdR0cH6be3fydL6sgXRM0XRM0XxMO4uNT09fUlnZeXx2LT09Okg4ODSd/c3LB21dXVpJeXl53uohg68gVR8wVxean5/PxM+vDwkMW2trZIFxQUkPbz82PtmpubSW9ubpJ+eHj46/55evLxh6Wsq8taHfmCqPmCqPmCuDznv76+kr64uGCxyclJ0rm5uaT9/f1Zu8LCQtKJiYmkd3d3He3fV6MjXxA1XxCXz3D/RFRUFOnV1VXSmFpstre3Sefk5LDYy8uLc537AnTkC6LmCyKadnCjpbW1lXRPTw9r5+PjQxpnnbgZY4wx9fX1v23nrujIF0TNF0TNF0Q05yO4kjk7O8tiOMPFVUi7tGxrayPd19fHYu74HaAjXxA1XxC3STtIZGQk+3lmZoZ0dnY2aS8vL9YO934rKytZbG1tjbS7pCAd+YKo+YKo+YK4Zc7HZQdjjAkPDyc9NDREuqysjLXDMnRlZYXFamtrSV9dXTnRzb9GR74gar4gLt/D/Qx2KXh7e0u6v7+fdFxcHGuXnJxMOj09ncVKSkpI4zFFPFf01ejIF0TNF8Txasc+fmdXLu+Bs1X76EhRURFpPDqYlpbG2uHM2J79HhwckK6rq/vt74352n1gHfmCqPmCqPmCOJLzMc9HRESwWEpKCumsrKx3PwPLy/z8fBbDMhFvsHh780oZ+2F/12AuPz4+Jt3U1MTabWxskL6/v3+3jx/5/X+hI18QNV8QR9IOPv7FxcUs1tnZSdqedeLNktPTU9L2444lZWBgIOk/Pe54Ec8YnpLw7+zLd2NjY6S7u7tZDE9ZYxqzy9OPpiEd+YKo+YKo+YI4sqqJOc7OtTExMaSxTDTGmKCgINJ3d3eke3t7WTvc/EhNTSV9fn7O2uF3RUNDA4vh2R/8jgoNDWXtfvz4Qdq+tYL9wv/92SUJHfmCqPmCOJ52Tk5OWOznz5/v/h2uPOLjf319zdrhuZ2pqSnS9uOOaQJLRmOMaWlpIY1H0O1ZMh5brKmpYbGFhQXSc3NzpHWG+w1R8wVxPO2cnZ2xGJ44TkpKYjF8xAMCAkg3Njaydnt7e6Tx7q1djWA/np6eWGxgYIB0RUUFaVy0M4YvyOGRFWOMSUhIIG1v1nwGHfmCqPmCqPmCOJ7z7VXCwcFB0vHx8SyGG+O4WpmRkcHadXV1kV5fXye9uLjI2u3v75PGsz7G8FXN0dFR0vjOB7sf9mEA/I5yYqNdR74gar4gLj+ljCVZdHQ0i5WWlpLG8s8+j4OpICwsjLS9T4sLa/YrxY6OjkjHxsaSxoU6Y/hbb3Gxzxhj2tvbSY+Pj5O2y9qPoiNfEDVfkC+9HGGnCVz7x4U1eyZcXl5OuqqqijSeSrY/z65UcDaM6cmuinZ2dkgvLS2xGFZJuOes6/nfEDVfEDVfELd5346doxHc8MBS0z4jhPu2eFnaBsvQkZERFpufnyd9eXnJYo+Pj6Qxz+tmyjdEzRfELe/hOsFHb8RIvodBR74gar4gar4g/2zO/w7oyBdEzRdEzRdEzRdEzRdEzRdEzRdEzRdEzRdEzRdEzRdEzRdEzRdEzRdEzRdEzRdEzRdEzRdEzRfkF0/Qj4FXUbBaAAAAAElFTkSuQmCC\" y=\"-125.379908\"/>\n   </g>\n   <g id=\"patch_98\">\n    <path d=\"M 1032.123729 220.379908 \nL 1032.123729 125.803636 \n\" style=\"fill:none;stroke:#000000;stroke-linecap:square;stroke-linejoin:miter;stroke-width:0.8;\"/>\n   </g>\n   <g id=\"patch_99\">\n    <path d=\"M 1126.7 220.379908 \nL 1126.7 125.803636 \n\" style=\"fill:none;stroke:#000000;stroke-linecap:square;stroke-linejoin:miter;stroke-width:0.8;\"/>\n   </g>\n   <g id=\"patch_100\">\n    <path d=\"M 1032.123729 220.379908 \nL 1126.7 220.379908 \n\" style=\"fill:none;stroke:#000000;stroke-linecap:square;stroke-linejoin:miter;stroke-width:0.8;\"/>\n   </g>\n   <g id=\"patch_101\">\n    <path d=\"M 1032.123729 125.803636 \nL 1126.7 125.803636 \n\" style=\"fill:none;stroke:#000000;stroke-linecap:square;stroke-linejoin:miter;stroke-width:0.8;\"/>\n   </g>\n  </g>\n </g>\n <defs>\n  <clipPath id=\"pc31495b1d6\">\n   <rect height=\"94.576271\" width=\"94.576271\" x=\"10.7\" y=\"7.2\"/>\n  </clipPath>\n  <clipPath id=\"p3de9949267\">\n   <rect height=\"94.576271\" width=\"94.576271\" x=\"10.7\" y=\"125.803636\"/>\n  </clipPath>\n  <clipPath id=\"pfb06488eb0\">\n   <rect height=\"94.576271\" width=\"94.576271\" x=\"124.191525\" y=\"7.2\"/>\n  </clipPath>\n  <clipPath id=\"p4aeabff422\">\n   <rect height=\"94.576271\" width=\"94.576271\" x=\"124.191525\" y=\"125.803636\"/>\n  </clipPath>\n  <clipPath id=\"pd3c68b4415\">\n   <rect height=\"94.576271\" width=\"94.576271\" x=\"237.683051\" y=\"7.2\"/>\n  </clipPath>\n  <clipPath id=\"p9a55598543\">\n   <rect height=\"94.576271\" width=\"94.576271\" x=\"237.683051\" y=\"125.803636\"/>\n  </clipPath>\n  <clipPath id=\"p8f14370f5f\">\n   <rect height=\"94.576271\" width=\"94.576271\" x=\"351.174576\" y=\"7.2\"/>\n  </clipPath>\n  <clipPath id=\"p763524ab4c\">\n   <rect height=\"94.576271\" width=\"94.576271\" x=\"351.174576\" y=\"125.803636\"/>\n  </clipPath>\n  <clipPath id=\"p31c32530a5\">\n   <rect height=\"94.576271\" width=\"94.576271\" x=\"464.666102\" y=\"7.2\"/>\n  </clipPath>\n  <clipPath id=\"p30aece8687\">\n   <rect height=\"94.576271\" width=\"94.576271\" x=\"464.666102\" y=\"125.803636\"/>\n  </clipPath>\n  <clipPath id=\"p383c4691a1\">\n   <rect height=\"94.576271\" width=\"94.576271\" x=\"578.157627\" y=\"7.2\"/>\n  </clipPath>\n  <clipPath id=\"p1fc5d73668\">\n   <rect height=\"94.576271\" width=\"94.576271\" x=\"578.157627\" y=\"125.803636\"/>\n  </clipPath>\n  <clipPath id=\"p97ca8ab237\">\n   <rect height=\"94.576271\" width=\"94.576271\" x=\"691.649153\" y=\"7.2\"/>\n  </clipPath>\n  <clipPath id=\"pe1fef9b1bf\">\n   <rect height=\"94.576271\" width=\"94.576271\" x=\"691.649153\" y=\"125.803636\"/>\n  </clipPath>\n  <clipPath id=\"pbabbf7d32d\">\n   <rect height=\"94.576271\" width=\"94.576271\" x=\"805.140678\" y=\"7.2\"/>\n  </clipPath>\n  <clipPath id=\"pfc00ca15fe\">\n   <rect height=\"94.576271\" width=\"94.576271\" x=\"805.140678\" y=\"125.803636\"/>\n  </clipPath>\n  <clipPath id=\"p6f48295fa2\">\n   <rect height=\"94.576271\" width=\"94.576271\" x=\"918.632203\" y=\"7.2\"/>\n  </clipPath>\n  <clipPath id=\"pf193912792\">\n   <rect height=\"94.576271\" width=\"94.576271\" x=\"918.632203\" y=\"125.803636\"/>\n  </clipPath>\n  <clipPath id=\"p057e30617f\">\n   <rect height=\"94.576271\" width=\"94.576271\" x=\"1032.123729\" y=\"7.2\"/>\n  </clipPath>\n  <clipPath id=\"pa8993dd44a\">\n   <rect height=\"94.576271\" width=\"94.576271\" x=\"1032.123729\" y=\"125.803636\"/>\n  </clipPath>\n </defs>\n</svg>\n",
            "image/png": "[encoded data removed]"
          },
          "metadata": {
            "needs_background": "light"
          }
        }
      ],
      "source": [
        "# Use Matplotlib (don't ask)\n",
        "import matplotlib.pyplot as plt\n",
        "\n",
        "n = 10  # How many digits we will display\n",
        "plt.figure(figsize=(20, 4))\n",
        "for i in range(n):\n",
        "    # Display original\n",
        "    ax = plt.subplot(2, n, i + 1)\n",
        "    plt.imshow(x_test[i].reshape(28, 28))\n",
        "    plt.gray()\n",
        "    ax.get_xaxis().set_visible(False)\n",
        "    ax.get_yaxis().set_visible(False)\n",
        "\n",
        "    # Display reconstruction\n",
        "    ax = plt.subplot(2, n, i + 1 + n)\n",
        "    plt.imshow(decoded_imgs[i].reshape(28, 28))\n",
        "    plt.gray()\n",
        "    ax.get_xaxis().set_visible(False)\n",
        "    ax.get_yaxis().set_visible(False)\n",
        "plt.show()"
      ]
    }
  ]
}