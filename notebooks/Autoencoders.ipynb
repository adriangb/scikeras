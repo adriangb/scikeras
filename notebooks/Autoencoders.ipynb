{
 "cells": [
  {
   "cell_type": "markdown",
   "metadata": {
    "id": "z22BE9uhvoxO"
   },
   "source": [
    "# Autoencoders in SciKeras"
   ]
  },
  {
   "cell_type": "markdown",
   "metadata": {
    "id": "hapoJed-voxP"
   },
   "source": [
    "Autencoders are an approach to use nearual networks to distill data into it's most important features, thereby compressing the data. We will be following the [Keras tutorial](https://blog.keras.io/building-autoencoders-in-keras.html) on the topic, which goes much more in depth and breadth than we will here. You are highly encouraged to check out that tutorial if you want to learn about autoencoders in the general sense.\n",
    "\n",
    "\n",
    "\n",
    "<table align=\"left\"><td>\n",
    "<a target=\"_blank\" href=\"https://colab.research.google.com/github/adriangb/scikeras/blob/master/notebooks/Basic_Usage.ipyn\">\n",
    "    <img src=\"https://www.tensorflow.org/images/colab_logo_32px.png\" />Run in Google Colab</a>  \n",
    "</td><td>\n",
    "<a target=\"_blank\" href=\"https://github.com/adriangb/scikeras/blob/master/notebooks/Basic_Usage.ipynb\"><img width=32px src=\"https://www.tensorflow.org/images/GitHub-Mark-32px.png\" />View source on GitHub</a></td></table>"
   ]
  },
  {
   "cell_type": "markdown",
   "metadata": {
    "id": "iT-ibpi7voxQ"
   },
   "source": [
    "### Table of contents"
   ]
  },
  {
   "cell_type": "markdown",
   "metadata": {
    "id": "ekJWKPFMvoxR"
   },
   "source": [
    "* [Data](#Data)\n",
    "* [Define Model](#Define-Keras-Model)\n",
    "* [Training](#Training)\n",
    "* [Explore Results](#Explore-Results)"
   ]
  },
  {
   "cell_type": "markdown",
   "metadata": {
    "id": "6avb3GBQDQyG"
   },
   "source": [
    "Install SciKeras"
   ]
  },
  {
   "cell_type": "code",
   "execution_count": null,
   "metadata": {
    "id": "qCcyTjVkvoxR"
   },
   "outputs": [],
   "source": [
    "!python -m pip install git+https://github.com/adriangb/scikeras.git@master"
   ]
  },
  {
   "cell_type": "markdown",
   "metadata": {
    "id": "EZveNcetDQyL"
   },
   "source": [
    "Silence TensorFlow warnings to keep output succint."
   ]
  },
  {
   "cell_type": "code",
   "execution_count": 1,
   "metadata": {
    "id": "ekNmO_GPDQyL"
   },
   "outputs": [],
   "source": [
    "import warnings\n",
    "from tensorflow import get_logger\n",
    "get_logger().setLevel('ERROR')"
   ]
  },
  {
   "cell_type": "code",
   "execution_count": 2,
   "metadata": {
    "id": "Sf4j-x4DvoxV"
   },
   "outputs": [],
   "source": [
    "from tensorflow import keras"
   ]
  },
  {
   "cell_type": "markdown",
   "metadata": {
    "id": "hCuOBH8AvoxX"
   },
   "source": [
    "## Data"
   ]
  },
  {
   "cell_type": "markdown",
   "metadata": {
    "id": "i3fAUKBUvoxY"
   },
   "source": [
    "We load the dataset from the Keras tutorial. The dataset consists of images of cats and dogs."
   ]
  },
  {
   "cell_type": "code",
   "execution_count": 3,
   "metadata": {
    "colab": {
     "base_uri": "https://localhost:8080/",
     "height": 51
    },
    "id": "QM74xeoe-1S-",
    "outputId": "23946eec-c32f-4db6-8bda-e12bda6492ea"
   },
   "outputs": [
    {
     "output_type": "stream",
     "name": "stdout",
     "text": [
      "(60000, 784)\n(10000, 784)\n"
     ]
    }
   ],
   "source": [
    "from tensorflow.keras.datasets import mnist\n",
    "import numpy as np\n",
    "\n",
    "\n",
    "(x_train, _), (x_test, _) = mnist.load_data()\n",
    "x_train = x_train.astype('float32') / 255.\n",
    "x_test = x_test.astype('float32') / 255.\n",
    "x_train = x_train.reshape((len(x_train), np.prod(x_train.shape[1:])))\n",
    "x_test = x_test.reshape((len(x_test), np.prod(x_test.shape[1:])))\n",
    "print(x_train.shape)\n",
    "print(x_test.shape)"
   ]
  },
  {
   "cell_type": "markdown",
   "metadata": {
    "id": "yuR10hymK0dh"
   },
   "source": [
    "## Define Keras Model"
   ]
  },
  {
   "cell_type": "markdown",
   "metadata": {},
   "source": [
    "We will be defining a very simple autencoder."
   ]
  },
  {
   "cell_type": "code",
   "execution_count": 4,
   "metadata": {
    "id": "dBFFXT-__7KU"
   },
   "outputs": [],
   "source": [
    "from tensorflow import keras\n",
    "from tensorflow.keras import layers\n",
    "\n",
    "\n",
    "# This is the size of our encoded representations\n",
    "encoding_dim = 32  # 32 floats -> compression of factor 24.5, assuming the input is 784 floats\n",
    "\n",
    "# This is our input image\n",
    "input_img = keras.Input(shape=(784,))\n",
    "# \"encoded\" is the encoded representation of the input\n",
    "encoded = layers.Dense(encoding_dim, activation='relu')(input_img)\n",
    "# \"decoded\" is the lossy reconstruction of the input\n",
    "decoded = layers.Dense(784, activation='sigmoid')(encoded)\n",
    "\n",
    "# This model maps an input to its reconstruction\n",
    "autoencoder_model = keras.Model(input_img, decoded)\n",
    "\n",
    "# This model maps an input to its encoded representation\n",
    "encoder_model = keras.Model(input_img, encoded)\n",
    "\n",
    "# This is our encoded (32-dimensional) input\n",
    "encoded_input = keras.Input(shape=(encoding_dim,))\n",
    "# Retrieve the last layer of the autoencoder model\n",
    "decoder_layer = autoencoder_model.layers[-1]\n",
    "# Create the decoder model\n",
    "decoder_model = keras.Model(encoded_input, decoder_layer(encoded_input))"
   ]
  },
  {
   "source": [
    "We create a small class that will allow us to call `fit_transform` instead of having to call `fit` and `transform` sequentially."
   ],
   "cell_type": "markdown",
   "metadata": {}
  },
  {
   "cell_type": "code",
   "execution_count": 5,
   "metadata": {},
   "outputs": [],
   "source": [
    "from sklearn.base import TransformerMixin\n",
    "from scikeras.wrappers import BaseWrapper\n",
    "\n",
    "\n",
    "class AutoEncoderTransformer(BaseWrapper, TransformerMixin):\n",
    "    \"\"\"A mixin that enables the transform and fit_transform methods.\n",
    "    \"\"\"\n",
    "\n",
    "    def transform(self, X):\n",
    "        return self.predict(X)"
   ]
  },
  {
   "cell_type": "markdown",
   "metadata": {},
   "source": [
    "Next, we wrap the Keras Model with Scikeras. Note that we use BaseWrapper instead of KerasClassifier or KerasRegressor since this is not a classificaiton or regression task."
   ]
  },
  {
   "cell_type": "code",
   "execution_count": 6,
   "metadata": {},
   "outputs": [],
   "source": [
    "compile_params = {\"optimizer\": \"adam\", \"loss\": \"binary_crossentropy\"}\n",
    "fit_params = {\"epochs\": 50, \"batch_size\": 256, \"shuffle\": True}\n",
    "\n",
    "autoencoder = BaseWrapper(model=autoencoder_model, **compile_params, **fit_params)\n",
    "encoder = AutoEncoderTransformer(model=encoder_model, **compile_params, **fit_params, verbose=0)\n",
    "decoder = AutoEncoderTransformer(model=decoder_model, **compile_params, **fit_params, verbose=0)"
   ]
  },
  {
   "cell_type": "markdown",
   "metadata": {
    "id": "yqBl5xLDP43O"
   },
   "source": [
    "## Training"
   ]
  },
  {
   "cell_type": "markdown",
   "metadata": {
    "id": "4fHbt_mUVBhE"
   },
   "source": [
    "To train the model, we pass the input images as both the features and the target. This will train the layers to compress the data as accurately as possible between the encoder and decoder."
   ]
  },
  {
   "cell_type": "code",
   "execution_count": 7,
   "metadata": {
    "colab": {
     "base_uri": "https://localhost:8080/",
     "height": 34
    },
    "id": "QQhtIWsMP4Ii",
    "outputId": "1581384e-7012-4816-d4cf-a4190a30e50f"
   },
   "outputs": [
    {
     "output_type": "stream",
     "name": "stdout",
     "text": [
      "Epoch 1/50\n",
      "235/235 [==============================] - 1s 4ms/step - loss: 0.3813\n",
      "Epoch 2/50\n",
      "235/235 [==============================] - 1s 3ms/step - loss: 0.1790\n",
      "Epoch 3/50\n",
      "235/235 [==============================] - 1s 4ms/step - loss: 0.1492\n",
      "Epoch 4/50\n",
      "235/235 [==============================] - 1s 4ms/step - loss: 0.1317\n",
      "Epoch 5/50\n",
      "235/235 [==============================] - 1s 4ms/step - loss: 0.1205\n",
      "Epoch 6/50\n",
      "235/235 [==============================] - 1s 3ms/step - loss: 0.1128\n",
      "Epoch 7/50\n",
      "235/235 [==============================] - 1s 4ms/step - loss: 0.1070\n",
      "Epoch 8/50\n",
      "235/235 [==============================] - 1s 3ms/step - loss: 0.1030\n",
      "Epoch 9/50\n",
      "235/235 [==============================] - 1s 3ms/step - loss: 0.1001\n",
      "Epoch 10/50\n",
      "235/235 [==============================] - 1s 3ms/step - loss: 0.0980\n",
      "Epoch 11/50\n",
      "235/235 [==============================] - 1s 3ms/step - loss: 0.0965\n",
      "Epoch 12/50\n",
      "235/235 [==============================] - 1s 3ms/step - loss: 0.0955\n",
      "Epoch 13/50\n",
      "235/235 [==============================] - 1s 3ms/step - loss: 0.0953\n",
      "Epoch 14/50\n",
      "235/235 [==============================] - 1s 4ms/step - loss: 0.0944\n",
      "Epoch 15/50\n",
      "235/235 [==============================] - 1s 4ms/step - loss: 0.0943\n",
      "Epoch 16/50\n",
      "235/235 [==============================] - 1s 4ms/step - loss: 0.0938\n",
      "Epoch 17/50\n",
      "235/235 [==============================] - 1s 3ms/step - loss: 0.0937\n",
      "Epoch 18/50\n",
      "235/235 [==============================] - 1s 4ms/step - loss: 0.0936\n",
      "Epoch 19/50\n",
      "235/235 [==============================] - 1s 4ms/step - loss: 0.0937\n",
      "Epoch 20/50\n",
      "235/235 [==============================] - 1s 4ms/step - loss: 0.0934\n",
      "Epoch 21/50\n",
      "235/235 [==============================] - 1s 3ms/step - loss: 0.0935\n",
      "Epoch 22/50\n",
      "235/235 [==============================] - 1s 4ms/step - loss: 0.0930\n",
      "Epoch 23/50\n",
      "235/235 [==============================] - 1s 3ms/step - loss: 0.0934\n",
      "Epoch 24/50\n",
      "235/235 [==============================] - 1s 4ms/step - loss: 0.0932\n",
      "Epoch 25/50\n",
      "235/235 [==============================] - 1s 4ms/step - loss: 0.0932\n",
      "Epoch 26/50\n",
      "235/235 [==============================] - 1s 4ms/step - loss: 0.0931\n",
      "Epoch 27/50\n",
      "235/235 [==============================] - 1s 4ms/step - loss: 0.0932\n",
      "Epoch 28/50\n",
      "235/235 [==============================] - 1s 4ms/step - loss: 0.0929\n",
      "Epoch 29/50\n",
      "235/235 [==============================] - 1s 4ms/step - loss: 0.0932\n",
      "Epoch 30/50\n",
      "235/235 [==============================] - 1s 4ms/step - loss: 0.0929\n",
      "Epoch 31/50\n",
      "235/235 [==============================] - 1s 4ms/step - loss: 0.0929\n",
      "Epoch 32/50\n",
      "235/235 [==============================] - 1s 4ms/step - loss: 0.0930\n",
      "Epoch 33/50\n",
      "235/235 [==============================] - 1s 4ms/step - loss: 0.0930\n",
      "Epoch 34/50\n",
      "235/235 [==============================] - 1s 3ms/step - loss: 0.0927\n",
      "Epoch 35/50\n",
      "235/235 [==============================] - 1s 4ms/step - loss: 0.0928\n",
      "Epoch 36/50\n",
      "235/235 [==============================] - 1s 4ms/step - loss: 0.0928\n",
      "Epoch 37/50\n",
      "235/235 [==============================] - 1s 4ms/step - loss: 0.0926\n",
      "Epoch 38/50\n",
      "235/235 [==============================] - 1s 4ms/step - loss: 0.0929\n",
      "Epoch 39/50\n",
      "235/235 [==============================] - 1s 4ms/step - loss: 0.0926\n",
      "Epoch 40/50\n",
      "235/235 [==============================] - 1s 4ms/step - loss: 0.0929\n",
      "Epoch 41/50\n",
      "235/235 [==============================] - 1s 5ms/step - loss: 0.0926\n",
      "Epoch 42/50\n",
      "235/235 [==============================] - 1s 4ms/step - loss: 0.0927\n",
      "Epoch 43/50\n",
      "235/235 [==============================] - 1s 4ms/step - loss: 0.0927\n",
      "Epoch 44/50\n",
      "235/235 [==============================] - 1s 3ms/step - loss: 0.0926\n",
      "Epoch 45/50\n",
      "235/235 [==============================] - 1s 3ms/step - loss: 0.0926\n",
      "Epoch 46/50\n",
      "235/235 [==============================] - 1s 4ms/step - loss: 0.0926\n",
      "Epoch 47/50\n",
      "235/235 [==============================] - 1s 4ms/step - loss: 0.0926\n",
      "Epoch 48/50\n",
      "235/235 [==============================] - 1s 4ms/step - loss: 0.0925\n",
      "Epoch 49/50\n",
      "235/235 [==============================] - 1s 4ms/step - loss: 0.0925\n",
      "Epoch 50/50\n",
      "235/235 [==============================] - 1s 4ms/step - loss: 0.0927\n"
     ]
    },
    {
     "output_type": "execute_result",
     "data": {
      "text/plain": [
       "BaseWrapper(\n",
       "\tmodel=<tensorflow.python.keras.engine.functional.Functional object at 0x14f4f7e50>\n",
       "\tbuild_fn=None\n",
       "\twarm_start=False\n",
       "\trandom_state=None\n",
       "\toptimizer=adam\n",
       "\tloss=binary_crossentropy\n",
       "\tmetrics=None\n",
       "\tbatch_size=256\n",
       "\tverbose=1\n",
       "\tcallbacks=None\n",
       "\tvalidation_split=0.0\n",
       "\tshuffle=True\n",
       "\trun_eagerly=False\n",
       "\tepochs=50\n",
       ")"
      ]
     },
     "metadata": {},
     "execution_count": 7
    }
   ],
   "source": [
    "autoencoder.fit(x_train, x_train)"
   ]
  },
  {
   "cell_type": "markdown",
   "metadata": {},
   "source": [
    "Next we fit the encoder and decoder using training data and then round-trip through both using test data."
   ]
  },
  {
   "cell_type": "code",
   "execution_count": 8,
   "metadata": {},
   "outputs": [],
   "source": [
    "train_encoded = encoder.initialize(x_train).transform(x_train)\n",
    "decoder.initialize(train_encoded)\n",
    "roundtrip_imgs = decoder.transform(encoder.transform(x_test))"
   ]
  },
  {
   "cell_type": "markdown",
   "metadata": {},
   "source": [
    "## Explore Results"
   ]
  },
  {
   "cell_type": "markdown",
   "metadata": {},
   "source": [
    "Now let's compare our inputs to lossy decoded outputs:"
   ]
  },
  {
   "cell_type": "code",
   "execution_count": 9,
   "metadata": {},
   "outputs": [
    {
     "output_type": "display_data",
     "data": {
      "text/plain": "<Figure size 1440x288 with 20 Axes>",
      "image/svg+xml": "<?xml version=\"1.0\" encoding=\"utf-8\" standalone=\"no\"?>\n<!DOCTYPE svg PUBLIC \"-//W3C//DTD SVG 1.1//EN\"\n  \"http://www.w3.org/Graphics/SVG/1.1/DTD/svg11.dtd\">\n<!-- Created with matplotlib (https://matplotlib.org/) -->\n<svg height=\"231.079908pt\" version=\"1.1\" viewBox=\"0 0 1133.9 231.079908\" width=\"1133.9pt\" xmlns=\"http://www.w3.org/2000/svg\" xmlns:xlink=\"http://www.w3.org/1999/xlink\">\n <metadata>\n  <rdf:RDF xmlns:cc=\"http://creativecommons.org/ns#\" xmlns:dc=\"http://purl.org/dc/elements/1.1/\" xmlns:rdf=\"http://www.w3.org/1999/02/22-rdf-syntax-ns#\">\n   <cc:Work>\n    <dc:type rdf:resource=\"http://purl.org/dc/dcmitype/StillImage\"/>\n    <dc:date>2020-11-07T02:46:48.708317</dc:date>\n    <dc:format>image/svg+xml</dc:format>\n    <dc:creator>\n     <cc:Agent>\n      <dc:title>Matplotlib v3.3.2, https://matplotlib.org/</dc:title>\n     </cc:Agent>\n    </dc:creator>\n   </cc:Work>\n  </rdf:RDF>\n </metadata>\n <defs>\n  <style type=\"text/css\">*{stroke-linecap:butt;stroke-linejoin:round;}</style>\n </defs>\n <g id=\"figure_1\">\n  <g id=\"patch_1\">\n   <path d=\"M 0 231.079908 \nL 1133.9 231.079908 \nL 1133.9 0 \nL 0 0 \nz\n\" style=\"fill:none;\"/>\n  </g>\n  <g id=\"axes_1\">\n   <g id=\"patch_2\">\n    <path d=\"M 10.7 101.776271 \nL 105.276271 101.776271 \nL 105.276271 7.2 \nL 10.7 7.2 \nz\n\" style=\"fill:#ffffff;\"/>\n   </g>\n   <g clip-path=\"url(#pce0c0d21b2)\">\n    <image height=\"95\" id=\"image6a65806aec\" transform=\"scale(1 -1)translate(0 -95)\" width=\"95\" x=\"10.7\" xlink:href=\"data:image/png;base64,\niVBORw0KGgoAAAANSUhEUgAAAF8AAABfCAYAAACOTBv1AAADhElEQVR4nO2czyusYRTHj+taTM0GZSMipaT8zEqNXxuZZMGKtZW/wIJY2NhaKHslpaZsrCyQ0FjITCNhQ1JKClGUu7qn58xlGu77+r4z8/2svu88TzOnT8fpMe/MFInIuxAIv9AFFDKUD+Q3uoC/TE5Oap6bmzNrR0dHmvv6+jTf3d35X5iPsPOBUD4QygcSmJmfiebmZs37+/uaBwcHzb6Tk5Mfq8kL2PlAKB9IYMbO9va25sfHR7MWDoc119XVffh4LsLOB0L5QCgfSGBm/s7OjuaFhQWz5r71kE+w84FQPpDAjB2XpaUlcz02Nqa5urpac1dXl9l3eHio+f09+PeI2PlAKB9IkeTAPdz6+nrNmd48Gxoa0ry+vu5rTV7AzgdC+UAoH0hOzPzi4mLNe3t7mtvb282+8/Nzzf39/Z+uBQV2PhDKB5ITY8elvLxc88HBgVmrra3VvLKyYtZGR0f9LewbsPOBUD4QygeSczPfJRqNmutYLKb56enJrLlHT/e4ioSdD4TygeT02Elnenpa88zMjFnb2NjQPDAw8FMlZYSdD4TygeTV2AmFQprdj6KIiDQ2Nmru7e3VvLu7639hn8DOB0L5QCgfSCA/t/Ndnp+fNbtHSxGR1tZWzbOzs5rTj52vr68+Vfcv7HwglA8kr46aLp2dneZ6c3NTc0lJiebu7m6zb2try9e6XNj5QCgfCOUDyduZn457vJyamtJ8f39v9kUiEc2JRMLXmtj5QCgfSMGMnYqKCs3Hx8cfPi4iMjIyonltbc3Xmtj5QCgfSMGMHZfh4WHNq6urZs094fT09Jg1r39WjJ0PhPKBUD6QQM780tJSc93S0qLZ/aJzR0dH1s/58vKi+fT0VHMqlTL7ysrKNE9MTJi1xcXFrF8vG9j5QCgfiOf3cN1ffBURaWpq0pz+J97Q0KC5ra1Nc/oNjsrKSs2Xl5eaq6qqsq7r7e1N8+3trWZ3zKTj/qSYH7DzgVA+EM9POxcXF+a6pqbmy8/x8PBgrpPJ5P+U9CWurq40z8/Pm7V4PO7pa7HzgVA+EMoH4vnMd29GiIiMj49rvr6+Nmvuf53Ly8uab25uzL6zszMvSwwM7HwglA8kkG+sFQrsfCCUD4TygVA+EMoHQvlAKB8I5QOhfCCUD4TygVA+EMoHQvlAKB8I5QOhfCCUD4TygVA+EMoHQvlAKB/IHylJwuaX+CcdAAAAAElFTkSuQmCC\" y=\"-6.776271\"/>\n   </g>\n   <g id=\"patch_3\">\n    <path d=\"M 10.7 101.776271 \nL 10.7 7.2 \n\" style=\"fill:none;stroke:#000000;stroke-linecap:square;stroke-linejoin:miter;stroke-width:0.8;\"/>\n   </g>\n   <g id=\"patch_4\">\n    <path d=\"M 105.276271 101.776271 \nL 105.276271 7.2 \n\" style=\"fill:none;stroke:#000000;stroke-linecap:square;stroke-linejoin:miter;stroke-width:0.8;\"/>\n   </g>\n   <g id=\"patch_5\">\n    <path d=\"M 10.7 101.776271 \nL 105.276271 101.776271 \n\" style=\"fill:none;stroke:#000000;stroke-linecap:square;stroke-linejoin:miter;stroke-width:0.8;\"/>\n   </g>\n   <g id=\"patch_6\">\n    <path d=\"M 10.7 7.2 \nL 105.276271 7.2 \n\" style=\"fill:none;stroke:#000000;stroke-linecap:square;stroke-linejoin:miter;stroke-width:0.8;\"/>\n   </g>\n  </g>\n  <g id=\"axes_2\">\n   <g id=\"patch_7\">\n    <path d=\"M 10.7 220.379908 \nL 105.276271 220.379908 \nL 105.276271 125.803636 \nL 10.7 125.803636 \nz\n\" style=\"fill:#ffffff;\"/>\n   </g>\n   <g clip-path=\"url(#p93c9dcb8b3)\">\n    <image height=\"95\" id=\"image7b272ea998\" transform=\"scale(1 -1)translate(0 -95)\" width=\"95\" x=\"10.7\" xlink:href=\"data:image/png;base64,\niVBORw0KGgoAAAANSUhEUgAAAF8AAABfCAYAAACOTBv1AAAE20lEQVR4nO2cyyu8YRTHnxnjfss9ZSGXQhKxsbDFFkuUhYXsEAsbC8XaQiz8ASRFKSsLG2UlyoZIJCWX3O/8dqdznsw7Y7zjzPh9P6uvzjHv07dnzjzX12OM+TQRgNfrJe3z+UTs4+OD9Nvb26+1Kdx4A6eAcAHzFfEFTvkevHzYeDwe8XdeXh7p5eVl0jU1NSKPl52hoSHSExMTIi/aShJ6viIwXxGYr4jrNZ/XZ2NknY+JiRGxjIwM0ikpKX4/g9PV1UV6bm5OxE5OTkh/fkbECNoR9HxFYL4irpcdG/71t4eCR0dHpGdmZkj39/eLvLS0NNIJCQmks7OzRR4vO9EAer4iMF8RmK9I2Gs+xx7+3d7ekp6eniZdWVkp8lpaWkhnZWWRrqurE3nb29t+nxWJoOcrAvMV8ZgI2UzhM+Hy8nIRW11dJZ2Tk0N6d3dX5NXX15O+vr52u4mug56vCMxXJGLKDsfekOEbKCMjI37zxsbGSI+OjoqY02KdFuj5isB8RWC+IhFZ820SExNJ82FnbW2tyDs7OyPd3NwsYjs7O2FqXeig5ysC8xWJirLDqa6uJj0/Py9i6enppKempkRsfHyc9NPTU3ga903Q8xWB+YrAfEWirubz4+O9vb0iNjg4SPrw8FDE+vr6SG9ubpJ+f393uYXBg56vCMxX5Ff3cO1VSL6BwvdcnVYgeZlYWFgQsba2NtJFRUUi1tnZSXp/f5/01dVVoGaHDfR8RWC+Ir862rFvpvCRC9evr68iz9+NE/viXGtrK2k+ozXGmPv7e9LDw8OkV1ZWRN5vjn7Q8xWB+YrAfEVUZ7j8NyAuLo60PSTlq5B8SGr/hqSmppKenJwUscbGRtL8vE97e7vIOz4+/vJZ4QA9XxGYr0jELKw5XZzjM16n2S//jIqKChFbWloizU86z87OiryBgQHSDw8PgZr9I9DzFYH5isB8RVyp+f5WJ934PGPk0JPXfKdn2UsPfLmhp6eH9M3Njcjr6Oggvba2JmJun/dEz1cE5ivietmxcaMM8bLDn/WdFciCggLS6+vrpHNzc0Xe4uIi6e7ubhG7u7sL+nnBgJ6vCMxXxJU93FBnp/5Kkl3G+GfyBTh7k+X5+dlvGy8uLkhvbW2RbmpqEnkNDQ2kS0pKRIz/nyvl9MefAEIG5isC8xVxpebzoSC/RWKMHMrZG+N8k4TX79jYWJHHXwFZVlZGOikpSeRtbGyQPj09FbHMzMwv227/bvDPrKqqEjG33+2Anq8IzFck5LLDh3/Jycmki4uLRR7fO7U3OPji1+PjI2k+nDRGljI+/MvPzxd5Ly8vpO33Mpyfn5Pm73awyw6fxdrlz2kmHwro+YrAfEWCLjv2cY74+HjS/O1//FKaMfI4R2lpqXw4Kzv8K25fWONH/firXOzyxMtfYWGhiPE3EfLScnl5KfL4LJZrY1B2/hQwXxGYr0jQNd+e0fHZKn9LIL/1YefZt0D4rJPX9YODA5G3t7dHmg8ZnS4zOw1Xee22h5q8HXZ7sYf7h4D5irh+XNAejvG/7eMcfHjJv/52KdC8KxtO0PMVgfmKwHxFIuaI+P8Ier4iMF8RmK8IzFcE5isC8xWB+YrAfEVgviIwXxGYrwjMVwTmKwLzFYH5isB8RWC+IjBfEZivyD9NcXhWBS7wlwAAAABJRU5ErkJggg==\" y=\"-125.379908\"/>\n   </g>\n   <g id=\"patch_8\">\n    <path d=\"M 10.7 220.379908 \nL 10.7 125.803636 \n\" style=\"fill:none;stroke:#000000;stroke-linecap:square;stroke-linejoin:miter;stroke-width:0.8;\"/>\n   </g>\n   <g id=\"patch_9\">\n    <path d=\"M 105.276271 220.379908 \nL 105.276271 125.803636 \n\" style=\"fill:none;stroke:#000000;stroke-linecap:square;stroke-linejoin:miter;stroke-width:0.8;\"/>\n   </g>\n   <g id=\"patch_10\">\n    <path d=\"M 10.7 220.379908 \nL 105.276271 220.379908 \n\" style=\"fill:none;stroke:#000000;stroke-linecap:square;stroke-linejoin:miter;stroke-width:0.8;\"/>\n   </g>\n   <g id=\"patch_11\">\n    <path d=\"M 10.7 125.803636 \nL 105.276271 125.803636 \n\" style=\"fill:none;stroke:#000000;stroke-linecap:square;stroke-linejoin:miter;stroke-width:0.8;\"/>\n   </g>\n  </g>\n  <g id=\"axes_3\">\n   <g id=\"patch_12\">\n    <path d=\"M 124.191525 101.776271 \nL 218.767797 101.776271 \nL 218.767797 7.2 \nL 124.191525 7.2 \nz\n\" style=\"fill:#ffffff;\"/>\n   </g>\n   <g clip-path=\"url(#pfb0be210af)\">\n    <image height=\"95\" id=\"image7eee3160a6\" transform=\"scale(1 -1)translate(0 -95)\" width=\"95\" x=\"124.191525\" xlink:href=\"data:image/png;base64,\niVBORw0KGgoAAAANSUhEUgAAAF8AAABfCAYAAACOTBv1AAADwUlEQVR4nO2cu0srQRTG1+sLQVCwEEEQbA1qoQjWopWxESz9CwSJUSsfCNoqWNhZaOMDNQgWViKCSSCNRdBGEBsRVBBFQnzcW93DnOWubHJ391v1+1XfYSaZ4eNwmN3ZmRLLsn5bBMIv9AR+MjQfCM0HQvOB0HwgNB8IzQdC84HQfCA0HwjNB0LzgdB8IDQfCM0HQvOBlCEHn5iYEF1eXu7qNy0tLaKHhoZcj7W6uir66urKsd/Ozo7oi4sL1/9fDMx8IDQfSIkV4B7u7u6uigcGBoIa2jVvb2+iPz4+HPvt7++LzmQyjv1OTk5UnEqlRDPzgdB8IDQfSKA1P5fLqdjt8rIYtre3VXxzcyO6vr5edCHL1WKYnp5W8fz8vGhmPhCaDySUZae1tVXFt7e3BY/1+Pio4tfX13+OW1NT4/gftbW1Ko7FYq7Gfn9/Fz05OanaXl5eRDPzgdB8IDQfSChrfmNjo4rNZeJ3gpkPhOYDCbTsLCwsqNi+DPtLIpFQ8fDwsOjn52fP54WCmQ+E5gMJtOzU1dWp+ODgQHRnZ6fj75aWlkSPjY15Pi8UzHwgNB8IzQcS6Hc79/f3KjaXnltbW6LtT77t7e2iq6urRX/1ZSczHwjNBxLoUvMzTk9PRXd1dTn2+07LTmY+EJoPhOYDCU3Nb2hoEH12dqbazNcSd3d3oru7u1W/y8tLn2bnD8x8IDQfSGjKjol9M6W3t1d0ZWWl6LW1NdVvZGRE9Fd4+mXmA6H5QEJZduzMzs6Knpqacuy3vLwsenR01McZeQMzHwjNB0LzgUAPQbvFPO2Xz+dFV1RUqH7mKZO9vT3Vdnx87NPsioeZD4TmA/kSS02T8fFx0XNzc6rNLEPpdFq19fT0iDZPhyBh5gOh+UACLTtNTU0qfnp6Ev3w8FDw/9nf+0ciEce+Ztk5OjoqeCw/YOYDoflAaD4Q359w+/v7Rdvv2zk/Pxfd19cn2u0BuI2NDRXPzMyI9vNeB69g5gOh+UB8X2p2dHSINj8JtCzLKi0tFZ3NZkVHo1HVz/xcxNybtb9YM6/QamtrU22Li4ui4/G4q7n7DTMfCM0HQvOB+L7UNDdC7Bscg4ODos2bYu2f/Zk3ux4eHopubm5W/ex13sR+KiYMMPOB0Hwg0M2Uzc1N0WYJ8gJ76TLfal5fX3s6VrEw84HQfCCh2cM1nzqrqqpUm3nb4GflaWVlRXQymVRt6+vr/ztFz2HmA6H5QGg+kNDU/J8IMx8IzQdC84HQfCA0HwjNB0LzgdB8IDQfyB/RPu7MLQ/ZlAAAAABJRU5ErkJggg==\" y=\"-6.776271\"/>\n   </g>\n   <g id=\"patch_13\">\n    <path d=\"M 124.191525 101.776271 \nL 124.191525 7.2 \n\" style=\"fill:none;stroke:#000000;stroke-linecap:square;stroke-linejoin:miter;stroke-width:0.8;\"/>\n   </g>\n   <g id=\"patch_14\">\n    <path d=\"M 218.767797 101.776271 \nL 218.767797 7.2 \n\" style=\"fill:none;stroke:#000000;stroke-linecap:square;stroke-linejoin:miter;stroke-width:0.8;\"/>\n   </g>\n   <g id=\"patch_15\">\n    <path d=\"M 124.191525 101.776271 \nL 218.767797 101.776271 \n\" style=\"fill:none;stroke:#000000;stroke-linecap:square;stroke-linejoin:miter;stroke-width:0.8;\"/>\n   </g>\n   <g id=\"patch_16\">\n    <path d=\"M 124.191525 7.2 \nL 218.767797 7.2 \n\" style=\"fill:none;stroke:#000000;stroke-linecap:square;stroke-linejoin:miter;stroke-width:0.8;\"/>\n   </g>\n  </g>\n  <g id=\"axes_4\">\n   <g id=\"patch_17\">\n    <path d=\"M 124.191525 220.379908 \nL 218.767797 220.379908 \nL 218.767797 125.803636 \nL 124.191525 125.803636 \nz\n\" style=\"fill:#ffffff;\"/>\n   </g>\n   <g clip-path=\"url(#p8922dc954b)\">\n    <image height=\"95\" id=\"image76a9f1a309\" transform=\"scale(1 -1)translate(0 -95)\" width=\"95\" x=\"124.191525\" xlink:href=\"data:image/png;base64,\niVBORw0KGgoAAAANSUhEUgAAAF8AAABfCAYAAACOTBv1AAAFZElEQVR4nO2cyyu9axTHn+1+v+WuUCiKXEaEJEqUxEgZGDA0IPkDjGRiYCIzA2YoEWFiICYYkJSIzJTkUu6XMzrr911P593tn/PuvfY5v/UZfbWevffb1/Oudz2X9/EYY76NIkKI9AX8yaj5gqj5gqj5gqj5gqj5gqj5gqj5gqj5gqj5gqj5gqj5gqj5goRJX8C/wePxsL9DQ0NJx8bGslhiYiLp7+9fE7n39/es3fPzM+mPjw8Ww8+5gfZ8QdR8QbymHbytf3rLhYT8+v+mpaWxWHNzM+mGhgbSubm5rF1RURHplJQU0mFh/PJfX18drxfbfn19kX55eWHtDg4OSM/OzrLYzs4O6evra9Kfn5+sXXh4uOP3I9rzBVHzBfEYP6/h5uXlkV5bW2OxgoIC0pgW7JSB6c+ucBD8HKaW3/kOrHDslHFxcUF6fn6e9Pb2tuN3YBozxpinpyfS2vMFUfMFUfMFcX2Ea+fTjo4O0oWFhSyGJZm3USeWdThyjY+PZ+3wuYG51Rg+csXP2SNhvP6oqCgWy8/PJ93b20u6oqKCtbu7uyOdlJTEYisrK6S15wui5gvi94k1nOzyVuK9v7+TnpubY7HR0VHSWEJmZWWxdjgyvr29ZbGrq6t/vI7S0lLWrr29nXRNTQ2LRUZGksbUgmnRGF5qYjtjeGrUni+Imi+Imi+I36cXysvLSW9ubrIYzlBiKdjX18faLSwskMYZRPsZgjOo9hSFPd3gBD6jYmJiWCwnJ4d0Zmam43ff3NyQPjs7YzF8HmjPF0TNF8TvaQdLq5GRERYbGhoijaNJHAUaY0x/fz9pe+TqhJ2S3F5/xfQUERHh+NuYTu3r0J4viJoviN/TDoLVjTHGzMzMkG5sbCT98PDA2g0PD5PGygdHxcGEr2vf2vMFUfMFUfMFCeh2QXuRZHl5mXRdXR3p5ORk1g5L1MvLS9J7e3usHY4efR39+jry/R18LWu15wui5gsS0LRj3+Krq6ukcRGjtraWtcNFE1w7tRdMzs/PHX8LR9o4OrX35vgjDTmhPV8QNV8QNV+QgE4veHuTJDs7m/TU1BRrV1VVRRpz9OTkJGs3PT1N2p5NxFITtb29W3P+H4KaL0hA0443MBUUFxezGKYTjB0eHrJ23d3dpHEd1Rj3F1PcQHu+IGq+IEGTdhC7Kurp6SE9Pj5OOjo6mrUbHBwkbW85tKuaYEB7viBqviBqviB+z/luvEiNW7NxT099fT1rh3t67C2HS0tLpAM5ivWG9nxB1HxBXE87OFlmDN9K9/b2xmI/Kf/wpbr9/X0Wi4uLI/34+MhinZ2dpLe2tkhLjny15wui5gviStrBVIO3vjHGZGRkkLZPbsJtIL5WIFg9TUxMsNjAwIDj5zY2Nkh3dXWRxmNiAo32fEHUfEHUfEFc2beD+drO3enp6aTLyspYbHd3l/TJyQlpuyTFchBzvj1z2dLSQtrejo6/5e8ZTl/PBNKeL4iaL4graQdvJbt0wy0cJSUlLNba2kr66OiItH1sFp6bgC/OVVdXs3anp6ek7bdbFhcXSQfLwor2fEHUfEHUfEFc3yJul5o49ZCQkMBilZWVpJuamkjj24c2+HyxpytwK6H9IrX9DPAnWGp6mzbRni+Imi+I39MOvi1yfHzMYvjiMy662AsyTiNGeyEETytMTU1lMTy+Bdt5OyPf14WWn57zoD1fEDVfkIBuHbGPRsFqB7cEtrW1sXb2uft/Y5/iNDY2Rnp9fZ3FcFsJXpN9Bj+Ofu2RsNsjY+35gqj5gqj5ggTlFnFvuLH9MFjQni+Imi/Ify7t/J/Qni+Imi+Imi+Imi+Imi+Imi/IX1ba3IHwl5fUAAAAAElFTkSuQmCC\" y=\"-125.379908\"/>\n   </g>\n   <g id=\"patch_18\">\n    <path d=\"M 124.191525 220.379908 \nL 124.191525 125.803636 \n\" style=\"fill:none;stroke:#000000;stroke-linecap:square;stroke-linejoin:miter;stroke-width:0.8;\"/>\n   </g>\n   <g id=\"patch_19\">\n    <path d=\"M 218.767797 220.379908 \nL 218.767797 125.803636 \n\" style=\"fill:none;stroke:#000000;stroke-linecap:square;stroke-linejoin:miter;stroke-width:0.8;\"/>\n   </g>\n   <g id=\"patch_20\">\n    <path d=\"M 124.191525 220.379908 \nL 218.767797 220.379908 \n\" style=\"fill:none;stroke:#000000;stroke-linecap:square;stroke-linejoin:miter;stroke-width:0.8;\"/>\n   </g>\n   <g id=\"patch_21\">\n    <path d=\"M 124.191525 125.803636 \nL 218.767797 125.803636 \n\" style=\"fill:none;stroke:#000000;stroke-linecap:square;stroke-linejoin:miter;stroke-width:0.8;\"/>\n   </g>\n  </g>\n  <g id=\"axes_5\">\n   <g id=\"patch_22\">\n    <path d=\"M 237.683051 101.776271 \nL 332.259322 101.776271 \nL 332.259322 7.2 \nL 237.683051 7.2 \nz\n\" style=\"fill:#ffffff;\"/>\n   </g>\n   <g clip-path=\"url(#pa0850ce934)\">\n    <image height=\"95\" id=\"image4f567d6b7f\" transform=\"scale(1 -1)translate(0 -95)\" width=\"95\" x=\"237.683051\" xlink:href=\"data:image/png;base64,\niVBORw0KGgoAAAANSUhEUgAAAF8AAABfCAYAAACOTBv1AAACuElEQVR4nO3cvYoiQRQF4BpdIwMxEATNxTcQNBFjEVEQfAHBRDDwFQTxSUwM/ElFNBRUTAw1ExMjxUR2o71T1TjD7Ox2ny73fNFtq4PL4VKU7c+bUuqnIogAuoH/GcMHYvhADB+I4QMxfCCGD8TwgRg+EMMHYvhADB+I4QP9QDfwWygUkno+nxtr5/NZ6nq9LvXtdnO/MRdx8oEYPpAvt51oNGqsZTIZqVutltTdbtf9xlzEyQdi+EC+2Xb0k8t0OjXWUqmU1NVqVeper2fc93g8XOrOHZx8IIYPxPCB3pQPv7eTy+WM69lsJnUwGJS6UCh8eJ8NOPlADB/IN0dN3XK5NK5Pp5PUiUTC63Zcw8kHYvhADB/Il3u+03g8lrrRaEhdLBaN+3jUpC9j+EBWbDvH4/Hp684PXWzDyQdi+EC+fLDmFI/Hpd5sNlJfLhfjvnQ67VVL/wQnH4jhAzF8ICuOmvpTzcViIXWlUjHuK5fLUg+HQ/cb+0ucfCCGD2TFtqPbbrdS69/hcV5z26FPMXwghg9kxeMFnf518clkYqwdDgeps9mssXa/313t6zs4+UAMH8i6bUfX7/eN63a7LXWpVDLWRqORJz39CU4+EMMHsu4drm6323241ul0jGtuO2Rg+EAMH8jqPd/5Hw26WCzmYSffw8kHYvhAVm87+oM0pZRarVZSO7edcDgs9fV6dbWvr+LkAzF8IKsfrDnpn+EOBgNjLZ/PS/3ZKclLnHwghg/E8IGsPmo67fd7qZ3HyVqtJjX3fGL4SC911NQ5/3mw2WxKHYlEvG7nKU4+EMMHYvhAL3XU1Om/WlTKfKrpl1+wcPKBGD7Qy2476/XauA4E3ucsmUx63c5TnHwghg/0su9wbcDJB2L4QAwfiOEDMXwghg/E8IEYPhDDB2L4QAwfiOEDMXygX7JvhHNyYVMPAAAAAElFTkSuQmCC\" y=\"-6.776271\"/>\n   </g>\n   <g id=\"patch_23\">\n    <path d=\"M 237.683051 101.776271 \nL 237.683051 7.2 \n\" style=\"fill:none;stroke:#000000;stroke-linecap:square;stroke-linejoin:miter;stroke-width:0.8;\"/>\n   </g>\n   <g id=\"patch_24\">\n    <path d=\"M 332.259322 101.776271 \nL 332.259322 7.2 \n\" style=\"fill:none;stroke:#000000;stroke-linecap:square;stroke-linejoin:miter;stroke-width:0.8;\"/>\n   </g>\n   <g id=\"patch_25\">\n    <path d=\"M 237.683051 101.776271 \nL 332.259322 101.776271 \n\" style=\"fill:none;stroke:#000000;stroke-linecap:square;stroke-linejoin:miter;stroke-width:0.8;\"/>\n   </g>\n   <g id=\"patch_26\">\n    <path d=\"M 237.683051 7.2 \nL 332.259322 7.2 \n\" style=\"fill:none;stroke:#000000;stroke-linecap:square;stroke-linejoin:miter;stroke-width:0.8;\"/>\n   </g>\n  </g>\n  <g id=\"axes_6\">\n   <g id=\"patch_27\">\n    <path d=\"M 237.683051 220.379908 \nL 332.259322 220.379908 \nL 332.259322 125.803636 \nL 237.683051 125.803636 \nz\n\" style=\"fill:#ffffff;\"/>\n   </g>\n   <g clip-path=\"url(#p76eb2b3d56)\">\n    <image height=\"95\" id=\"imaged2dce487dd\" transform=\"scale(1 -1)translate(0 -95)\" width=\"95\" x=\"237.683051\" xlink:href=\"data:image/png;base64,\niVBORw0KGgoAAAANSUhEUgAAAF8AAABfCAYAAACOTBv1AAAEF0lEQVR4nO2dO0skQRSFa3Qy3xooiKCJBiqICCZmGpmZmJibiP/H0NBAwchQBDVWQRAfKIqg+EYRwedG3r232Klteqs9PbPni85QNTM1h9vX6rpVbcE59+UIhCr0AP5naD4Qmg+E5gOh+UBoPhCaD4TmA6H5QIroAXxTKBREF4vFkm3v7++iPz8/sx9YhjDygdB8IDQfCDTn61ze3NwsemJiwvRra2sTvbi4KPrw8ND0+/j4iD3ETGHkA6H5QHIz1WxoaBA9PT1t2np6ekR3dnaKnp2dNf1eXl6yGVxGMPKB0Hwg0LTz9fW7fHx9fS26urra9Kuvrxc9NjYmuqamxvRLk3aqqmz86TFpnQWMfCA0HwjNB5Kbqebz87PohYUF09bf3y+6paVFdGtrq+l3c3OT6Lv0nXUo5/urprH/BjDygdB8ILlJO/qSXlpaMm0zMzOi9QJcb2+v6be3tyc6VGjRacef1ur3ZV2sYeQDoflAaD6Q1Dlf501NjOnY1dWVeb25uSl6fHxc9MDAgOm3vLws+vX1NdF3+ePNeklBw8gHQvOBRJlqlkpBziW/jHW/t7c307axsSF6dHRU9NDQkOlXW1sr+u7uLtF36X1AoX5ZwMgHQvOB5OYOV6cu/85yZ2dHtE4nekuJc851dHSIvr+/N20/WSRJCiMfCM0HQvOBRMn5sXOon/OPj49F7+/vi9ZFFv/17u6uaSu1ldAfe2jaHBtGPhCaDyR12imVatJetqHa6cPDg+iVlRXRfjFlcHBQtF+QSbOnx/8trOFWEDQfCM0HEn15IUZe9D9Dr3JubW2J9qePIyMjotvb202bnq4mLYzHWK0NwcgHQvOB5GZVM4ROE6enp6L1tnLn7AkWXet1zrm5uTnRofquTid+2oldt2bkA6H5QH407YQu46QzkKenJ9F6S4lzzvX19YnWJ1icc25+fl502m0lekczZztlDs0HQvOBQHO+fyrkm9CJEH23u7q6avpNTU2J9ovr+pD14+NjovGGthLq38KpZhlC84Hk5g5XX8ahIoZOSX6d9uDgQHRdXZ1pa2pqEn1+fv7Hz/4bobvfNDDygdB8ID+advxLvNRdbSgV6Lbb21vTpuu2k5OTpk0/Kkanq7RpJwaMfCA0HwjNBwLN+f+Kf6pkfX1d9PDwsGnTWwnX1tZEJ73b9eGqZplD84Hk5jFfMd6vT6NcXFyYtq6uLtHd3d2it7e3Tb/QAbnYMPKB0HwgNB9IblY10xBa/by8vDRtjY2NonX+Pzo6Mv301JPP26lgaD6Qsks7oaKLPn3i7+k5OzsTfXJyItp/zsNPwsgHQvOBFFyF/jPipDVW5HMYGPlAaD4Qmg+kYnN+OcDIB0LzgdB8IDQfCM0HQvOB0HwgNB8IzQfyC/A/gUY3bafiAAAAAElFTkSuQmCC\" y=\"-125.379908\"/>\n   </g>\n   <g id=\"patch_28\">\n    <path d=\"M 237.683051 220.379908 \nL 237.683051 125.803636 \n\" style=\"fill:none;stroke:#000000;stroke-linecap:square;stroke-linejoin:miter;stroke-width:0.8;\"/>\n   </g>\n   <g id=\"patch_29\">\n    <path d=\"M 332.259322 220.379908 \nL 332.259322 125.803636 \n\" style=\"fill:none;stroke:#000000;stroke-linecap:square;stroke-linejoin:miter;stroke-width:0.8;\"/>\n   </g>\n   <g id=\"patch_30\">\n    <path d=\"M 237.683051 220.379908 \nL 332.259322 220.379908 \n\" style=\"fill:none;stroke:#000000;stroke-linecap:square;stroke-linejoin:miter;stroke-width:0.8;\"/>\n   </g>\n   <g id=\"patch_31\">\n    <path d=\"M 237.683051 125.803636 \nL 332.259322 125.803636 \n\" style=\"fill:none;stroke:#000000;stroke-linecap:square;stroke-linejoin:miter;stroke-width:0.8;\"/>\n   </g>\n  </g>\n  <g id=\"axes_7\">\n   <g id=\"patch_32\">\n    <path d=\"M 351.174576 101.776271 \nL 445.750847 101.776271 \nL 445.750847 7.2 \nL 351.174576 7.2 \nz\n\" style=\"fill:#ffffff;\"/>\n   </g>\n   <g clip-path=\"url(#pd9f08f27cb)\">\n    <image height=\"95\" id=\"imagecbb7454a20\" transform=\"scale(1 -1)translate(0 -95)\" width=\"95\" x=\"351.174576\" xlink:href=\"data:image/png;base64,\niVBORw0KGgoAAAANSUhEUgAAAF8AAABfCAYAAACOTBv1AAAD6ElEQVR4nO2czSttURjG9+H6D5gYIJQy9ZGBjzJCSOrkTGTGQMhQSkwMZSKiDCVFQtKZKcUZGJj4mjGRMFAy8nFHXu9a3X06d5+9zrPv9fxGz+pdZ+3V09u719lrrx3zPO/TIxDy0BP4ydB8IDQfCM0HQvOB0HwgNB8IzQdC84HQfCA0HwjNB0LzgfxCT+CLtrY20YODg0asq6tL9M7Ojujl5WWjXywWE31+fm7Ebm9vQ5lnmDDzgdB8IDEvh5spzc3NRrunp0f02NiY6I+Pj0Dj5+V959Lo6KgRW1hYCDSmS5j5QGg+EOdlp7S0VPTx8bERKyoqEq1LRhhl5/7+3ohdXFyI1qupu7s7o9/r62ugaweBmQ+E5gOh+UCc/8Pt7e0VrWu8a+xr6fbl5aXopaUlo9/IyIjbiSmY+UBoPhDnS83r62vRFRUVvv06Ozt9Y/oBWnFxsW+/MJar+fn5gX4XBGY+EJoPhOYDcV7zr66uRJeXl/v2KygoyPpa+/v7oquqqoxYSUlJRmMcHByI1ps4LmDmA6H5QCKzhxsGHR0doufn543Y8PBwRmNUV1eLbmxsNGJHR0fBJ/cHmPlAaD6Q/2q1o7EfrOlysr6+LrqwsNDol25DpqGhQXQYr6Iw84HQfCA0H4jzpebu7q5o/W6Oax4eHoz24eGh6NnZWdFzc3O+Y9j3jbDvS8x8IDQfiPOlZmVlpWi97LTJ5SZGWVmZ6I2NDSNWV1cn2t6QWVtbE93f35/1PJj5QGg+EJoPJKdPNdNtaqdSKdHxeNyIhX2q5PPz+zZnz0m37dj09HSo82DmA6H5QCKzmVJbWyt6dXXViCUSCdGPj49ZX6u7u1t0TU1N1uMFhZkPhOYDcV523t7eRNslw97I+KKlpcVon5yciN7c3BQ9MzNj9Et3qkSfkJmYmPDtp8eYmpoyYmGvupj5QGg+EJoPJKeHoO1arpeU+kljpq9326dKksmk6OfnZyPW2toqenJy0ndMfXh6cXExo3kEhZkPhOYDyWnZsdFvFbe3t4sOeqrk6elJ9MvLixHTS8108GTKD4HmA4GWHc37+7voML69kG6Mm5sb0X19fUbs9PQ00LWDwMwHQvOB0HwgkdlMGR8fF60//+V5ntfU1PTX421tbRltfark7OxMdC5rvA0zHwjNBxKZpabGfjt4e3tbdH19ve/v+HVBkjE0HwjNBxKZpabGPlUyMDAgWn+i8V+HmQ+E5gOJZNmx0V99XVlZET00NGT00/9W9/b23E8sS5j5QGg+kEj+w/0pMPOB0HwgNB8IzQdC84HQfCA0HwjNB0LzgdB8IDQfCM0HQvOB/AZOXP56h+bY9AAAAABJRU5ErkJggg==\" y=\"-6.776271\"/>\n   </g>\n   <g id=\"patch_33\">\n    <path d=\"M 351.174576 101.776271 \nL 351.174576 7.2 \n\" style=\"fill:none;stroke:#000000;stroke-linecap:square;stroke-linejoin:miter;stroke-width:0.8;\"/>\n   </g>\n   <g id=\"patch_34\">\n    <path d=\"M 445.750847 101.776271 \nL 445.750847 7.2 \n\" style=\"fill:none;stroke:#000000;stroke-linecap:square;stroke-linejoin:miter;stroke-width:0.8;\"/>\n   </g>\n   <g id=\"patch_35\">\n    <path d=\"M 351.174576 101.776271 \nL 445.750847 101.776271 \n\" style=\"fill:none;stroke:#000000;stroke-linecap:square;stroke-linejoin:miter;stroke-width:0.8;\"/>\n   </g>\n   <g id=\"patch_36\">\n    <path d=\"M 351.174576 7.2 \nL 445.750847 7.2 \n\" style=\"fill:none;stroke:#000000;stroke-linecap:square;stroke-linejoin:miter;stroke-width:0.8;\"/>\n   </g>\n  </g>\n  <g id=\"axes_8\">\n   <g id=\"patch_37\">\n    <path d=\"M 351.174576 220.379908 \nL 445.750847 220.379908 \nL 445.750847 125.803636 \nL 351.174576 125.803636 \nz\n\" style=\"fill:#ffffff;\"/>\n   </g>\n   <g clip-path=\"url(#pbc5d63cf3c)\">\n    <image height=\"95\" id=\"image9576c6c978\" transform=\"scale(1 -1)translate(0 -95)\" width=\"95\" x=\"351.174576\" xlink:href=\"data:image/png;base64,\niVBORw0KGgoAAAANSUhEUgAAAF8AAABfCAYAAACOTBv1AAAFVUlEQVR4nO2cSyh2XRTHl9c9lDvJNZeizJQwkKLIwIQBE0oGBhID5gYkSUYuIwkpRQYkRUpSJMmlKJcYuJb7Lbd39K53rf15fO/3Peex+L71G/1Paz/nOf62v73P3uc4AcAbKCL8kL6A/zNqviBqviBqviBqviBqviBqviBqviBqviBqviBqviBqviBqviAukl/+48fv331oaCjqoqIi1i4hIQH1zs4O6tnZWdZuZWUF9ePjo2XX6Si05wui5gvi8NhxcnJCHR4ezmp9fX2oU1NTUbu5udk8B+X19ZUdHxwcoC4pKWG1hYUF1M/Pz3932Z+C9nxB1HxBnMDBa7jBwcGoJyYmWC05ORm1i4v9Cfj29vtHub29ZbW2tjbU7e3tqM/Pz1k7M8ocifZ8QdR8QdR8QSzPfFdXV3bc0NCAurq6mtXc3d1R07y+v79n7ehMmA5DnZ2dWTtbQ1IAgKenJ9RLS0uoKyoqWLv19fV3r8kRaM8XRM0XxPLYiYyMZMdjY2Oo4+PjWY3+WS8vL6Nuampi7fb391Gnp6ejLigoYO0yMjJQe3l5sRqNJPq9JycnNs+xvb0NjkR7viBqviBqviCWZ35KSgo7HhkZQR0UFMRqp6enqCsrK1FPTk6ydnTKb2vYCcDzurOzk9WioqJQ28p/AIC1tTXUaWlprGbesrAX7fmCqPmCWL6YcnFxwY6Pj49Re3t7s9rW1hbqxcVF1C8vL6wdjRqKOROemppCnZeXx2rj4+Ooo6OjUZuz4sTERNT5+fmsNjQ0hNqK2a/2fEHUfEE+NXZCQkJY7fr6GvVHIxBao9pc+KCf29zcZLWcnBzUc3NzqOliDwCPuJqaGlaj0XVzcwP2oj1fEDVfEDVfEMsz38xCOos1F1piY2NRh4WFvfsZAL4QQvlouGfW6DbDxsZG1M3NzawdvUZzn1FgYCBqzfxvjpoviOWx89Ew0cfHh9U8PT1R04WR1dVV1s6c8dp7XXSo+fDwwNrR2KHXBwAQFxeHem9vz+5r0p4viJoviJoviOWZbw4LNzY2UJv7bOi+ndLSUtS9vb2snRUL2fS2gb+/P2rzfxS9ZWH+LFYML9k1WXo25R+h5gtieeyYdxpHR0dR19fXs5qvry/qiIgI1D09Paxdbm4u6ru7O9QfzXDNBRg/Pz/UWVlZqM2t6fSpFXpHFgBgd3fX5vf9G7TnC6LmC+LwB+LoVr+ZmRlWo7NaGhPmlo3BwUHUdFfx5eUla0cjLyAggNUKCwtR0xgz13Dp87t0XRngr0+x2Iv2fEHUfEHUfEEc/jQizfKkpCRWo/8DzIym0CynM+aBgQHWjt5pzMzMZLXs7Ow/+q6joyPU5eXlrDY/P49a9+18c9R8QRweOxRzNllcXIy6u7sbtYeHh81z0AgyX+tCdxGbM21zYeQXh4eH7Li1tRV1f3+/zfNbgfZ8QdR8QT41dkzoemlHRwfqsrIy1s5cB/iFOeKga73ma12urq5Q0zdS1dXVsXb04QhHvxpGe74gar4gar4goplPoYsd09PTrEbfy2Mr/wF4RpsPN9N14ZaWFtTmnUpHv2+Boj1fEDVfkC8TOx/dgBseHkYdExPz7mcA+NY/+hkAgNraWtRnZ2eoPzNmTLTnC6LmC6LmCyL6ImsKzV666A4A0NXVhbqqqgo13fcDwO9Qmnt/6JBSMucp2vMFUfMF+TKxQzGfFqHvVKDvTTAfYKZvDaQawJqnW6xGe74gar4gX2aG+6fQG2vmTTYaLV8xZky05wui5gui5gvy7TL/v4T2fEHUfEHUfEHUfEHUfEHUfEHUfEHUfEHUfEF+ArBFwvmJuLy1AAAAAElFTkSuQmCC\" y=\"-125.379908\"/>\n   </g>\n   <g id=\"patch_38\">\n    <path d=\"M 351.174576 220.379908 \nL 351.174576 125.803636 \n\" style=\"fill:none;stroke:#000000;stroke-linecap:square;stroke-linejoin:miter;stroke-width:0.8;\"/>\n   </g>\n   <g id=\"patch_39\">\n    <path d=\"M 445.750847 220.379908 \nL 445.750847 125.803636 \n\" style=\"fill:none;stroke:#000000;stroke-linecap:square;stroke-linejoin:miter;stroke-width:0.8;\"/>\n   </g>\n   <g id=\"patch_40\">\n    <path d=\"M 351.174576 220.379908 \nL 445.750847 220.379908 \n\" style=\"fill:none;stroke:#000000;stroke-linecap:square;stroke-linejoin:miter;stroke-width:0.8;\"/>\n   </g>\n   <g id=\"patch_41\">\n    <path d=\"M 351.174576 125.803636 \nL 445.750847 125.803636 \n\" style=\"fill:none;stroke:#000000;stroke-linecap:square;stroke-linejoin:miter;stroke-width:0.8;\"/>\n   </g>\n  </g>\n  <g id=\"axes_9\">\n   <g id=\"patch_42\">\n    <path d=\"M 464.666102 101.776271 \nL 559.242373 101.776271 \nL 559.242373 7.2 \nL 464.666102 7.2 \nz\n\" style=\"fill:#ffffff;\"/>\n   </g>\n   <g clip-path=\"url(#pc9d3ea1b84)\">\n    <image height=\"95\" id=\"image8406afc17d\" transform=\"scale(1 -1)translate(0 -95)\" width=\"95\" x=\"464.666102\" xlink:href=\"data:image/png;base64,\niVBORw0KGgoAAAANSUhEUgAAAF8AAABfCAYAAACOTBv1AAADkElEQVR4nO2dPUgrURCFNxKQFGkkiHYSLSwUAqkErQ1YWMTGQrCziohgY6mFlYKF2NmqxEYCESstBS39qSxSiOJPKiWGiLF68+5cEklk7x7fvvNVZ5x9u8NhnHdzN7tGPM+rewRCB7qA/xmaD4TmA6H5QGg+EJoPhOYDoflAaD6QKLoAVxQKBRVvbGyIPjk5CbqchrDzgdB8IDQfSMQL6a7mw8ODiqPRv/+9ra6uit7c3AysJht2PhCaDyS0Y2dtbU3FS0tLoiuViuh4PB5YTTbsfCA0H0hoP+G+v783zcVisQAraQ47HwjNB0LzgYR25kcikW/j3wA7HwjNBxLasVOv17+N/zA0NKTiy8tLZzXZsPOB0HwgNB8IdOanUinRAwMDbf/7g4ODprlkMtnSOYKc8TbsfCA0H4jzsTM4OCh6ZWVF5SYmJkR3dna2fe7n52cVm8vJRCLR0jnsHU7zRotr2PlAaD4Q5/dw9/f3RWezWZU7Pz8XbX6dr1XsT6fmCqevr0/lRkZGGp4jl8upeHt7u+06fgo7HwjNB0Lzgfi+1LSXbv39/aKvrq5Uzlxqlsvltq+Vz+eb5rq7u1V8f3/f8LiODlz/sfOB0Hwgvo8d++t35ubZ7u6uyv1k1LTK4+Ojis1NOHPJOzo6qo7b2tpyVpMNOx8IzQdC84H4PvOr1aqK7+7uRE9PT6vczMyM35dvyu3tbcOf21sUQcLOB0LzgUB3Nc0dRde7ieYu59nZmeiuri513Pj4uGjXD0uz84HQfCDOx87U1JTonZ0dlSuVSqKHh4ddlqFYX18XvbCwoHKnp6eiM5mMytVqNV/rYOcDoflAaD6QQB+C3tvbU/Hk5KTosbEx0RcXF07rMJeXLy8vKvf5+Sm6p6dH5Z6ennytg50PhOYDCXTs2JtY5rLO/PVPp9PquNfXV2c1mTV4nr650tvbq3IcOyGC5gMJ9OEI+0EEc3//6OhI9PLysjrOjv3k8PBQxfY9XZew84HQfCA0Hwj0NV/mG//MGxf2w3H2ks9PZmdnVby4uCja/lr529ubr9dm5wOh+UCgz+F+fHyILhaLoufn5wOrwf40fX19LdrvMWPDzgdC84HQfCC/5n07x8fHoufm5gK7rv1HDm5ubgK7NjsfCM0HEtoXWf8LsPOB0HwgNB8IzQdC84HQfCA0HwjNB0LzgdB8IDQfCM0HQvOB0HwgNB8IzQfyBYxMzGenufu/AAAAAElFTkSuQmCC\" y=\"-6.776271\"/>\n   </g>\n   <g id=\"patch_43\">\n    <path d=\"M 464.666102 101.776271 \nL 464.666102 7.2 \n\" style=\"fill:none;stroke:#000000;stroke-linecap:square;stroke-linejoin:miter;stroke-width:0.8;\"/>\n   </g>\n   <g id=\"patch_44\">\n    <path d=\"M 559.242373 101.776271 \nL 559.242373 7.2 \n\" style=\"fill:none;stroke:#000000;stroke-linecap:square;stroke-linejoin:miter;stroke-width:0.8;\"/>\n   </g>\n   <g id=\"patch_45\">\n    <path d=\"M 464.666102 101.776271 \nL 559.242373 101.776271 \n\" style=\"fill:none;stroke:#000000;stroke-linecap:square;stroke-linejoin:miter;stroke-width:0.8;\"/>\n   </g>\n   <g id=\"patch_46\">\n    <path d=\"M 464.666102 7.2 \nL 559.242373 7.2 \n\" style=\"fill:none;stroke:#000000;stroke-linecap:square;stroke-linejoin:miter;stroke-width:0.8;\"/>\n   </g>\n  </g>\n  <g id=\"axes_10\">\n   <g id=\"patch_47\">\n    <path d=\"M 464.666102 220.379908 \nL 559.242373 220.379908 \nL 559.242373 125.803636 \nL 464.666102 125.803636 \nz\n\" style=\"fill:#ffffff;\"/>\n   </g>\n   <g clip-path=\"url(#p92c3fd1327)\">\n    <image height=\"95\" id=\"image3b500b503c\" transform=\"scale(1 -1)translate(0 -95)\" width=\"95\" x=\"464.666102\" xlink:href=\"data:image/png;base64,\niVBORw0KGgoAAAANSUhEUgAAAF8AAABfCAYAAACOTBv1AAAFSklEQVR4nO2dyS9tWxDG62ijSXTRRD9AgpggBprEQIxEJEzMhP+AqbGBkYmxxEhESEhICBNBQjBCRIIgmuhF377Rq1dV95wd9769T717X/1G30mtu/byZZ06tddae18fAHyBoUKI9gD+z5j5ipj5ipj5ipj5ipj5ioRpD8ArQkJCAn7+/Pz0q4ONzXxFzHxFfuu0I1NLVFQU6ry8PBaLjY1Fvb29jfrm5oa1e39/d3GEztjMV8TMV8TMV8TznO/z+b7V7uvr5xdXZd/JycmoW1paWCw3Nxf15OQk6qmpKdbu9vb2X43pZ7CZr4iZr4jnacfLr+7Hxwf7fH9/jzozM5PFysvLUT88PKCen59n7e7u7lBb2vmDMfMV+a3vcCW0Unl7e2OxtLQ01PX19aiHhoZYu+PjY49G9yM28xUx8xUx8xX5z+R8pzvh75Z8dGNErk7SFc+wsH/+7NraWtZuYWHBb39eYDNfETNfkaCmHZlaQkNDUUdERKCOjIxk7R4fH1G/vr6ilumI9k/7A+AbLzQWHR3tOEYvsZmviJmviJmviOs5X+ZMmmtlfk1NTUVdVlaGWm5+003uiYkJ1Kenp6xdYmIi6oKCAhaj5SVdeqCb6QA/rpR6ic18Rcx8RVxJO4HKOACAjIwM1NXV1SxGU01JSQnqlJQU1o5ufhQXF6OW+685OTmoCwsLWYymQ5paZNoJ5vFBm/mKmPmKuJJ26J1qeno6izU2NqKurKxkMXq3urm5iXp6epq1o3uzTnus4eHhqJ+fn1mMtqXVjjwu6PW+LcVmviJmviJmviKul5rZ2dksRstLmU9HRkZQ000MuhEOwDdGaMlIf2sAAJaWllDTu10AgM7OTr9jp3fZAAAbGxsBx+s2NvMVMfMVcSXt0K9nQkICi8XHx6OWZd3a2hrq8/Nzv/05IfdpX15eUPf29rJYQ0MDarpw19TUxNrR44O0FPYCm/mKmPmKmPmKuJLz6Srh4eFhwJgs/2jZ6HZZR5ckAAAGBwdR9/T0oG5ubmbtBgYGUK+vr7OY22O0ma+Ima+IK2mHbkDs7e2x2NbWFuqamhoWq6qqQn1wcOC3v19FpojR0VHU3d3dqOXGTVdXF+r29nYWo6WsG9jMV8TMV8T1O1y62QEAsLi4iFqeCO7o6EA9OzuL+uzsLGD/tEKS715wOvZBj5ksLy+jrqurY+1oakxKSmIxt59asZmviJmviJmviOvHBeVTgCsrK6jl70F+fj7q1tZW1P39/Y59/o3cTKG/AXLFk37u6+tDXVRUxNrR35SsrCwWs5z/B2HmK+L5kyl0oW1ubo7F2traUNPzPXRvFwDg6OgINS07ZWqhaUeelqb/jqbC4eFh1o4eR6SvBpN9urHIZjNfETNfEc/TDk0N4+PjLFZRUYGaviWqtLSUtaN3p7TykQtwTgtyNGXQU89jY2MBryUX0mh15cZbCG3mK2LmK2LmKxLU13zt7++zGC096YqnzPmrq6uoT05OULvx8Nrl5SX7vLu7i1ruA9OH6ui1f7XstJmviJmvSFBfakpLPACAmZkZ1FdXV6hlGRcXF4f64uICtSwtnb7+gU43Pz09sXY7Ozt+x+TUn+S7achmviJmviJmviI+8Pi/56MrjfRpQQB+nJweJZS5nB4tv76+Ri2PcDvl2kDjiImJCdhOPtFIr+e0vPDdc0c28xUx8xXxPO2wizm85oumAnnnSr/GbtxZOp39ocj+3X4vg818Rcx8RYKadgyOzXxFzHxFzHxFzHxFzHxFzHxFzHxFzHxFzHxFzHxFzHxFzHxFzHxF/gKFJ+pwag9QFgAAAABJRU5ErkJggg==\" y=\"-125.379908\"/>\n   </g>\n   <g id=\"patch_48\">\n    <path d=\"M 464.666102 220.379908 \nL 464.666102 125.803636 \n\" style=\"fill:none;stroke:#000000;stroke-linecap:square;stroke-linejoin:miter;stroke-width:0.8;\"/>\n   </g>\n   <g id=\"patch_49\">\n    <path d=\"M 559.242373 220.379908 \nL 559.242373 125.803636 \n\" style=\"fill:none;stroke:#000000;stroke-linecap:square;stroke-linejoin:miter;stroke-width:0.8;\"/>\n   </g>\n   <g id=\"patch_50\">\n    <path d=\"M 464.666102 220.379908 \nL 559.242373 220.379908 \n\" style=\"fill:none;stroke:#000000;stroke-linecap:square;stroke-linejoin:miter;stroke-width:0.8;\"/>\n   </g>\n   <g id=\"patch_51\">\n    <path d=\"M 464.666102 125.803636 \nL 559.242373 125.803636 \n\" style=\"fill:none;stroke:#000000;stroke-linecap:square;stroke-linejoin:miter;stroke-width:0.8;\"/>\n   </g>\n  </g>\n  <g id=\"axes_11\">\n   <g id=\"patch_52\">\n    <path d=\"M 578.157627 101.776271 \nL 672.733898 101.776271 \nL 672.733898 7.2 \nL 578.157627 7.2 \nz\n\" style=\"fill:#ffffff;\"/>\n   </g>\n   <g clip-path=\"url(#pdd0c331f3a)\">\n    <image height=\"95\" id=\"image33af2542a3\" transform=\"scale(1 -1)translate(0 -95)\" width=\"95\" x=\"578.157627\" xlink:href=\"data:image/png;base64,\niVBORw0KGgoAAAANSUhEUgAAAF8AAABfCAYAAACOTBv1AAADAklEQVR4nO2csWoqQRSGN8mNBpuIWgVJlVKrCIK9jRZirUU6UYQ8QLDTR/AJUqQRizRiK1ipkMLWQrBUtBOMaKp77sySvYjX9d/J/b/qH2YSDh+Hw84ac2FZ1t4iEC7RBfzPUD4QygdC+UAoHwjlA6F8IJQPhPKB/EIX8B13d3faul6vSx6NRpKbzebZanIDdj4QygdC+UA8M/Ovrq4kNxoNbe/p6enbc5z55GgoH4hnxs7l5Z8+SCQSjuceHh7OUc5ZYOcDoXwgnhk7n5+fkieTibYXi8Uk39zcSL6+vnb8HSbAzgdC+UAoH4hnZr5Kt9vV1rlcTvL9/b3k29tb7dx8Pne3sBPDzgdC+UA8OXYWi4XjXiQSkfz8/Kzt1Wo112pyA3Y+EMoHQvlALiwP/ol4NBrV1tPpVLL69nM8Hmvn4vG4u4WdGHY+EMoH4smxY+f19VVysViUvFqttHPpdFrycDh0va5/hZ0PhPKBePKGa6fVaklWx04wGNTOlUolyRw75K9QPhDKB2LEzFffcu52O8nqbdey9EdNE2DnA6F8IEbccFWcbruWpd947S/ZZrOZq3UdAzsfCOUDoXwgRjxqqqivDewzX33dUC6Xtb2XlxdX6zoGdj4Qygdi3KNmKpWS3O/3Hc8tl0ttHQqFXKvpWNj5QCgfiHFjR8U+dtSRtNlstL1kMin54+PD1boOhZ0PhPKBUD4Q4264Kr1eT1urM9/n82l76v9zyGaz7hZ2IOx8IJQPxOhHTfv/aBgMBo5nt9utZPuXp1Gw84FQPhCjx47f79fW6o338fHR8ecymYzkTqdz+sIOhJ0PhPKBUD4Qo2e+nXw+L7ndbjuee3t7k1woFLS9/f58Otj5QCgfyI8aO+FwWLL9AxP7d3t/EwgEtPV6vT55XU6w84FQPhDKB2L0hyl21G+wVCoVbe/9/V1ytVqVbP+g/Zyw84FQPpAf9ahpGux8IJQPhPKBUD4QygdC+UAoHwjlA6F8IJQPhPKBUD4QygdC+UAoHwjlA/kCXBiSKdrbqi8AAAAASUVORK5CYII=\" y=\"-6.776271\"/>\n   </g>\n   <g id=\"patch_53\">\n    <path d=\"M 578.157627 101.776271 \nL 578.157627 7.2 \n\" style=\"fill:none;stroke:#000000;stroke-linecap:square;stroke-linejoin:miter;stroke-width:0.8;\"/>\n   </g>\n   <g id=\"patch_54\">\n    <path d=\"M 672.733898 101.776271 \nL 672.733898 7.2 \n\" style=\"fill:none;stroke:#000000;stroke-linecap:square;stroke-linejoin:miter;stroke-width:0.8;\"/>\n   </g>\n   <g id=\"patch_55\">\n    <path d=\"M 578.157627 101.776271 \nL 672.733898 101.776271 \n\" style=\"fill:none;stroke:#000000;stroke-linecap:square;stroke-linejoin:miter;stroke-width:0.8;\"/>\n   </g>\n   <g id=\"patch_56\">\n    <path d=\"M 578.157627 7.2 \nL 672.733898 7.2 \n\" style=\"fill:none;stroke:#000000;stroke-linecap:square;stroke-linejoin:miter;stroke-width:0.8;\"/>\n   </g>\n  </g>\n  <g id=\"axes_12\">\n   <g id=\"patch_57\">\n    <path d=\"M 578.157627 220.379908 \nL 672.733898 220.379908 \nL 672.733898 125.803636 \nL 578.157627 125.803636 \nz\n\" style=\"fill:#ffffff;\"/>\n   </g>\n   <g clip-path=\"url(#pcd5aec47f6)\">\n    <image height=\"95\" id=\"image98d861d5eb\" transform=\"scale(1 -1)translate(0 -95)\" width=\"95\" x=\"578.157627\" xlink:href=\"data:image/png;base64,\niVBORw0KGgoAAAANSUhEUgAAAF8AAABfCAYAAACOTBv1AAAERklEQVR4nO2cSyt9YRTG3+NOkiKXGEhyL0pSigFlbmBggHwD38CU72EqAyIlI5cMlIxEDCiXgUshcv3PVmvtzt62bTvPOX/Pb/Sc1mvv9zytvc57sxPOuU9HIGShO/CXoflAaD4Qmg+E5gOh+UBy0B1IRiKR8I19fv4/I2NmPhCaDyRtyk5RUZHo9vZ2EysrKxN9eHgo+vT01LR7e3sTnQnliZkPhOYDoflAoDVfDynr6+tFz8zMmHY1NTWiFxcXfdtdX1/H3cVfhZkPhOYDSZuh5svLi+jq6moTq62tFd3Z2SlaDy2dy4zhpYaZD4TmA4GWHV0mzs/PRb++vpp2eXl5ouvq6kRnZf08d7yLeKksXcx8IDQfCM0HkjZDzaenJ9Hb29sm1tzcLLqyslJ0RUWFaXdzc/Pt+yI3bpj5QGg+kMhlRz+ucTye+hrr6+smNjExITo/P1/08PCwaTc7Oyv64+PD9166797hqu7H+/v7V93+Ecx8IDQfCM0HknARj4j7Te2Dam1gR1Qdbm1tNbHNzU3RJSUlond2dky7oaEh0ff396HuFVTzo36XsDDzgdB8ILHMcPVjHHWVULe7vLw0MX0+p62tTXRTU5Nppz/v7u76Xj+VpSUIZj4Qmg8kctnRj24cZUfz8PBgPi8sLIhubGwUXVhYaNqNjo6K3tvbMzHvfu9P+hcXzHwgNB8IzQcSeYbrV+e9NTRKTc3JsT9F+qzO8vKy6NLSUtPu4OBAdH9/v4nd3d19ux+/DTMfCM0HEstQM268mxgnJyei9/f3RXtLiz7N3NDQYGJ6xhu277+9v8vMB0LzgdB8ILGsasZd/73Xe3x8FL2xsSG6r6/PtCsuLhY9Pj5uYvq3Qh9H/w5+vwFRvz8zHwjNBxJ5hptKsrOzRXd1dYleXV017fT+7tnZmYn19vaK1sfRg/CWGb+ZPMtOBkLzgaT0lHLUx1jvs+p3L+iFNOec6+npEV1VVWViulxdXFz43kvjjYVdTAwLMx8IzQdC84FAa74eQuqVzKANGT3bXVpaMu26u7tF5+bmmtjk5KTolZUV0X4b68nwOzQQFWY+EJoPJKUzXF1mnLMnhPVwMug/QvTj3tHRYWJbW1uivWd6rq6uRLe0tIi+vb39qttJ8ev7t64R6a9ILNB8ICkd7QTNXKOcZj46OjIxvZimjxU6Z99QODAwIHp+fj7Ufb3EcbqZmQ+E5gOh+UCgNT9szI/n52fzWb95cGpqysT00HBsbCzp3zgXfX83Csx8IDQfSNq85isK3uHe3Nyc6JGRERMrLy8XXVBQINo7E2bZ+SPQfCA0H0jaDDXj4Pj4WPT09LSJDQ4Oil5bWxPtXUGN+z1CQTDzgdB8IBlxXDAsehbr3cPVw0s9nPTOkvlG2T8CzQfyX5WdTIOZD4TmA6H5QGg+EJoPhOYDoflAaD4Qmg+E5gOh+UBoPhCaD+QfQl9yoOAyO0IAAAAASUVORK5CYII=\" y=\"-125.379908\"/>\n   </g>\n   <g id=\"patch_58\">\n    <path d=\"M 578.157627 220.379908 \nL 578.157627 125.803636 \n\" style=\"fill:none;stroke:#000000;stroke-linecap:square;stroke-linejoin:miter;stroke-width:0.8;\"/>\n   </g>\n   <g id=\"patch_59\">\n    <path d=\"M 672.733898 220.379908 \nL 672.733898 125.803636 \n\" style=\"fill:none;stroke:#000000;stroke-linecap:square;stroke-linejoin:miter;stroke-width:0.8;\"/>\n   </g>\n   <g id=\"patch_60\">\n    <path d=\"M 578.157627 220.379908 \nL 672.733898 220.379908 \n\" style=\"fill:none;stroke:#000000;stroke-linecap:square;stroke-linejoin:miter;stroke-width:0.8;\"/>\n   </g>\n   <g id=\"patch_61\">\n    <path d=\"M 578.157627 125.803636 \nL 672.733898 125.803636 \n\" style=\"fill:none;stroke:#000000;stroke-linecap:square;stroke-linejoin:miter;stroke-width:0.8;\"/>\n   </g>\n  </g>\n  <g id=\"axes_13\">\n   <g id=\"patch_62\">\n    <path d=\"M 691.649153 101.776271 \nL 786.225424 101.776271 \nL 786.225424 7.2 \nL 691.649153 7.2 \nz\n\" style=\"fill:#ffffff;\"/>\n   </g>\n   <g clip-path=\"url(#p33b2ffd06d)\">\n    <image height=\"95\" id=\"image20ed69a5a8\" transform=\"scale(1 -1)translate(0 -95)\" width=\"95\" x=\"691.649153\" xlink:href=\"data:image/png;base64,\niVBORw0KGgoAAAANSUhEUgAAAF8AAABfCAYAAACOTBv1AAAD8UlEQVR4nO2dTyhtURTG9+WllJJQMpKplDIxkD8TlCEykEiKlAEyUSaYmTNB/iZ/ipSUgcKYyEyIJGGAFMXAG7319jq9e7v3OOd87/D9Rt9uXfcsn9Vyjr32FTHGfBoCIQmdwE+G5gOh+UBoPhCaD4TmA6H5QGg+EJoP5Bc6gUQpLS0VPTQ0pGJ7e3uix8fHVezx8VH0+/u7T9klBisfCM0HQvOBREzI/qp5dHQkurCwUMUikYjoz0/9bU1OTooeHh4WfX197XGG8cPKB0LzgYTuVjMWExMTond3d1Wsp6dH9MjIiOiWlhb/E4sCKx8IzQfyrdpOcnKy6IWFBRXb2NgQnZGREVhOsWDlA6H5QGg+kNA94XZ2dooeGxtTsfv7e9E5OTmB5eQWVj4Qmg8kdG3H5vb2Vq3T0tJEl5eXq9jh4WEgOSUCKx8IzQdC84GEuudPTU2pdWtrq+jFxUUVa2pqCiKlhGDlA6H5QELddhoaGtR6aWlJ9MvLi4pVVlaK/l9uO1n5QGg+kFBvpqysrKh1bW2t6ObmZhXLzMwMJKdEYOUDoflAaD6QUN9qOsnPzxd9dnamYvaYYXV1teiHhwff84oGKx8IzQfie9uxZ2SKiopUrKamRnR/f79oey/WGGNmZmbiutbc3Jzo4+PjqK+bn58XzXHBHwrNB0LzgXje84uLi9V6fX1ddG5ubvREYpwqiZd43+Pi4kK0/XvHGGPOz89dXdsNrHwgNB+I521ndnZWrWPtndqHlp+enkQ7DzDHiz2rU1FRoWIlJSX//JrV1VW1bmxsdHVtN7DygdB8IIFupmxubqp1XV2d6I+Pjy+///b2tujU1FQVGxgYEN3V1SW6vr7+y9d1CysfCM0HQvOBeN7z7adMY4xJSvr783U+4aakpIj2oufbvL29qfXg4KDom5sb0c7TLfYIYltbm6c5OWHlA6H5QDxvO319fWr9+voqur29XcXscb/p6WmvU4nK/v6+6Lu7OxWzJ513dnZUzN6E8QJWPhCaD8T3PdyqqirRW1tbUV9nn5sNcpyjoKBArU9OTkSvra2pmN2SnFPQbmDlA6H5QGg+EN97flZWlmj75IgxesPDftLs7u72M6WYjI6Oiu7t7VWxjo4O0fZHirmFlQ+E5gMJdErZ+fFap6enotPT00U7b/GC3Fe18zg4OFCx7Oxs0faIjHMiOl5Y+UBoPhCaDyTQDXT7HwgYox/tl5eXRTtH9vLy8kRfXl76ktsfnp+fRTtHH8vKykRfXV19+VqsfCA0H8i3OhAXNlj5QGg+EJoPhOYDoflAaD4Qmg+E5gOh+UBoPhCaD4TmA6H5QGg+EJoPhOYD+Q20FO6WgiwtSgAAAABJRU5ErkJggg==\" y=\"-6.776271\"/>\n   </g>\n   <g id=\"patch_63\">\n    <path d=\"M 691.649153 101.776271 \nL 691.649153 7.2 \n\" style=\"fill:none;stroke:#000000;stroke-linecap:square;stroke-linejoin:miter;stroke-width:0.8;\"/>\n   </g>\n   <g id=\"patch_64\">\n    <path d=\"M 786.225424 101.776271 \nL 786.225424 7.2 \n\" style=\"fill:none;stroke:#000000;stroke-linecap:square;stroke-linejoin:miter;stroke-width:0.8;\"/>\n   </g>\n   <g id=\"patch_65\">\n    <path d=\"M 691.649153 101.776271 \nL 786.225424 101.776271 \n\" style=\"fill:none;stroke:#000000;stroke-linecap:square;stroke-linejoin:miter;stroke-width:0.8;\"/>\n   </g>\n   <g id=\"patch_66\">\n    <path d=\"M 691.649153 7.2 \nL 786.225424 7.2 \n\" style=\"fill:none;stroke:#000000;stroke-linecap:square;stroke-linejoin:miter;stroke-width:0.8;\"/>\n   </g>\n  </g>\n  <g id=\"axes_14\">\n   <g id=\"patch_67\">\n    <path d=\"M 691.649153 220.379908 \nL 786.225424 220.379908 \nL 786.225424 125.803636 \nL 691.649153 125.803636 \nz\n\" style=\"fill:#ffffff;\"/>\n   </g>\n   <g clip-path=\"url(#p2d4a370106)\">\n    <image height=\"95\" id=\"image2f30d3048c\" transform=\"scale(1 -1)translate(0 -95)\" width=\"95\" x=\"691.649153\" xlink:href=\"data:image/png;base64,\niVBORw0KGgoAAAANSUhEUgAAAF8AAABfCAYAAACOTBv1AAAFMElEQVR4nO2dOUg0WxCF77ijuKGggfuWiOCGGIiZiGhg7IIYGYupCBpoJhhqIpooGmpsIiKIogaioBiIGrjv+/KiV5y6zDTz9+uh6P/VF52mip7mcK2+W18Dxphfo4gQJf0A/2fUfEFipB/gvxAIBNj176+/Kqi2fEHUfEHUfEF8V/OTkpJIl5aWstjJyQnpu7s7Fvv5+Ynoc7lBW74gar4gvig7qamppAcGBkh3d3ezvIuLC9KDg4Mstrq6Svrr64t0dHQ0y/v8/CQd6VKlLV8QNV8QNV8QX9T85ORk0s3NzaRzcnJYXlZWFun29nYW29vbI/34+Ejaruvf398hY16jLV8QNV8QX5Sdt7c30tjttLuJTrOar6+vpD8+PkjbM6NIpGdNteULouYL4ouyg70T7LWUlJSwPOypbG5uhrwH5jmVErvs4LUXJUhbviBqviBqviARr/lRUVFBtTF8BOk0msSZxpWVFdKtra0sD2vyw8MDi4Vb55Fw3wdu67+2fEHUfEE8LztO3bOYGP5z+OfqtIiBeevr66RfXl5YXnx8POnExMSQ93CLdjX/ItR8QdR8QTyv+XYtxGucTQyWG849cXphbW2N5TU0NJC2px5wBhS7nZJoyxdEzRckYHz8ZUplZSW7np6eJn15ecliHR0dpK+vr0n/yawmol1Nn6PmC+KLxZRQHB0dseuNjQ3StbW1LNbS0kJ6YWGBtNsemBdoyxdEzRdEzRck4rOaOLJMSEhgsbi4uKD3wBlOY/i+HVyQKS4uZnn4pUpRURGL9ff3k97e3ia9v7/P8twsurhFW74gar4gno9wcUHDGGPq6+tJ9/X1sRiWBixBWGaMMebg4ID0zs4O6ZqaGpaHO5gzMzNZDEvI/Px8yGeyF2giibZ8QdR8QdR8QTyp+di9zM/PZ7HZ2VnSVVVVLIYL5ff396RjY2NZHr4DcD/O8/Mzy8MvVbKzs1kM73l7e0u6sbGR5eFijXY1/2LUfEE8GeFi2SksLGQxvLZHtFdXV6SnpqZIb21tsTzcg4OjWHstFstTV1cXi1VXV5PGD+yGhoZYXmdnJ2l7pO012vIFUfMF8bzs2L0dLDX2wgWehzAxMUH66ekp5G/h5FxKSgqL4dcni4uLLDY5OUkaR8JNTU0sDxddlpeXWczr73K15Qui5gui5gviec23j9fCmN11293dJY2j1XA/ZsZzc+xrzDPGmJ6eHtK4gF5XV8fyhoeHgz6fMfwYMd2343PUfEFclx0sJ7iuapcWnDBLT09nsbS0tKD3CLdLZ5cdxC4LWA7xeLCZmRmWV1ZWRrq3t5fFxsbGSL+/v4f1jE5oyxdEzRfE860jOMo0hk+eZWRksFhFRQVpnH8/OztjeV7Pq+MO5tHRURYbGRkhjZNxxhiTm5tL+vj4mLTbka+2fEHUfEHUfEE8qflYk3EUaIwxh4eHpPPy8lgMZ0Db2tpIz83NsTz7PfIvTsdwOb0nMIbPZwxfyCkoKGCx8vJy0qenp6Ttbme47yht+YKo+YK4Ljuhzk04Pz9neePj46TtRRLsXuIiCR5OagxfhMFRrdM3v+Fil7SlpSXSWGbs38ZtkW6/btGWL4iaL4iaL0jEP4LGL1Nwv4wxfHsf1smbmxuWh1sEsVtn79txU/Pto8ewluP/ZzEm9KKRPbuqNd8HqPmCiJ69gH/GuL/HLifhnkLoN7TlC6LmC+LrI1/8jrZ8QdR8QdR8QdR8QdR8QdR8QdR8QdR8QdR8QdR8QdR8QdR8QdR8Qf4BwGkCmRKIcFYAAAAASUVORK5CYII=\" y=\"-125.379908\"/>\n   </g>\n   <g id=\"patch_68\">\n    <path d=\"M 691.649153 220.379908 \nL 691.649153 125.803636 \n\" style=\"fill:none;stroke:#000000;stroke-linecap:square;stroke-linejoin:miter;stroke-width:0.8;\"/>\n   </g>\n   <g id=\"patch_69\">\n    <path d=\"M 786.225424 220.379908 \nL 786.225424 125.803636 \n\" style=\"fill:none;stroke:#000000;stroke-linecap:square;stroke-linejoin:miter;stroke-width:0.8;\"/>\n   </g>\n   <g id=\"patch_70\">\n    <path d=\"M 691.649153 220.379908 \nL 786.225424 220.379908 \n\" style=\"fill:none;stroke:#000000;stroke-linecap:square;stroke-linejoin:miter;stroke-width:0.8;\"/>\n   </g>\n   <g id=\"patch_71\">\n    <path d=\"M 691.649153 125.803636 \nL 786.225424 125.803636 \n\" style=\"fill:none;stroke:#000000;stroke-linecap:square;stroke-linejoin:miter;stroke-width:0.8;\"/>\n   </g>\n  </g>\n  <g id=\"axes_15\">\n   <g id=\"patch_72\">\n    <path d=\"M 805.140678 101.776271 \nL 899.716949 101.776271 \nL 899.716949 7.2 \nL 805.140678 7.2 \nz\n\" style=\"fill:#ffffff;\"/>\n   </g>\n   <g clip-path=\"url(#p3a8db2dcfc)\">\n    <image height=\"95\" id=\"image841126c3ea\" transform=\"scale(1 -1)translate(0 -95)\" width=\"95\" x=\"805.140678\" xlink:href=\"data:image/png;base64,\niVBORw0KGgoAAAANSUhEUgAAAF8AAABfCAYAAACOTBv1AAAD0UlEQVR4nO2cyyt1YRTG1+FLyCXXkcuEohAzf4AyI0pu5R9AMmFEUZIyMjUwklySlIFSRgaihJJcBgYKRZQBGfhmy7v2Z4vP3vs5dZ7f6Fmt97z77Wm1znv2fveJici7EAhJ6AUkMjQfCM0HQvOB0HwgNB/IH/QC4pmsrCwTHx4eqh4YGFC9vr7+X/Oz8oHQfCBsO1+wsrJi4vz8fNUXFxe/np+VD4TmA6H5QNjzPZSUlKhuaGgwuYWFBdUnJye/vhYrHwjNB5LwbaegoMDEW1tbvmOnpqYCvTYrHwjNB5Lwbaenp8fEZWVlqldXV03u/Pw80Guz8oHQfCA0H0hMEvDcTm1treqdnR2TS01NVV1ZWWlyZ2dnga6DlQ+E5gNJmK1mUtJHnQ0NDal224yIyNjYmOqg28w/awp1dvIlNB8IzQeSMFvNjo4O1fPz86qvr6/NOHcb+vDwEOqaWPlAaD6QuNlqus9Lu7q6TO7x8VH16Oio6ufnZ9/50tLSTNze3v7puO3tbROH3WpcWPlAaD4QaNtxW417NC87O9uMe3//2JAlJyerHh4eNuNeXl5Uj4yMmFxzc7Pqq6sr1ePj4z9ddmCw8oHQfCA0H0ikPT83N9fES0tLqjMzM1W7Pd4b9/X1qa6oqDDjent7Vbe2tvrOsbm5qfry8vJbaw8DVj4Qmg8k0rbjPfXrbimPj49VuzfBRESqq6tVt7S0qG5razPjdnd3Vefk5Jic+8t1ZmbmJ8sODVY+EJoPhOYDibTnd3Z2+ub29vZUn56empwbLy8vq/Z+h+Tl5fnOPzs7qzqIt0qCgJUPhOYDibTtuC+UiYg0NTWp3tjY+PF8+/v7Jm5sbPQdW19frzojI0P1Vw9kwoaVD4TmA4m07by+vpo4FoupHhwcVL22tmbGuUf63B1TeXm573yuFhFJT09XnZKS8oNVhwcrHwjNB0LzgUR6XLC0tNTER0dHqt3tn3uHU0Tk9vZWtfdXrR93d3cmrqurU31zc/OtOcKGlQ+E5gOJdKvpnpcREZmbm1Pd39+vuqamxozzPtP14+npSfX09LTJRXkM8Luw8oHQfCDQlyOKiopUHxwcqPbel/drO4uLiyZ2j5XEY5vxwsoHQvOB0HwgcfNCXHd3t+qJiQmTKy4u/vQzhYWFJr6/vw9+YSHCygdC84HETdtx8f5v/eTkpOqqqirV3ptsb29v4S4sYFj5QGg+EJoPJC57fqLAygdC84HQfCA0HwjNB0LzgdB8IDQfCM0HQvOB0HwgNB8IzQdC84HQfCA0HwjNB0LzgdB8IH8Bst7VZIGV6SoAAAAASUVORK5CYII=\" y=\"-6.776271\"/>\n   </g>\n   <g id=\"patch_73\">\n    <path d=\"M 805.140678 101.776271 \nL 805.140678 7.2 \n\" style=\"fill:none;stroke:#000000;stroke-linecap:square;stroke-linejoin:miter;stroke-width:0.8;\"/>\n   </g>\n   <g id=\"patch_74\">\n    <path d=\"M 899.716949 101.776271 \nL 899.716949 7.2 \n\" style=\"fill:none;stroke:#000000;stroke-linecap:square;stroke-linejoin:miter;stroke-width:0.8;\"/>\n   </g>\n   <g id=\"patch_75\">\n    <path d=\"M 805.140678 101.776271 \nL 899.716949 101.776271 \n\" style=\"fill:none;stroke:#000000;stroke-linecap:square;stroke-linejoin:miter;stroke-width:0.8;\"/>\n   </g>\n   <g id=\"patch_76\">\n    <path d=\"M 805.140678 7.2 \nL 899.716949 7.2 \n\" style=\"fill:none;stroke:#000000;stroke-linecap:square;stroke-linejoin:miter;stroke-width:0.8;\"/>\n   </g>\n  </g>\n  <g id=\"axes_16\">\n   <g id=\"patch_77\">\n    <path d=\"M 805.140678 220.379908 \nL 899.716949 220.379908 \nL 899.716949 125.803636 \nL 805.140678 125.803636 \nz\n\" style=\"fill:#ffffff;\"/>\n   </g>\n   <g clip-path=\"url(#p6c7de925c0)\">\n    <image height=\"95\" id=\"imagef3c9a9d100\" transform=\"scale(1 -1)translate(0 -95)\" width=\"95\" x=\"805.140678\" xlink:href=\"data:image/png;base64,\niVBORw0KGgoAAAANSUhEUgAAAF8AAABfCAYAAACOTBv1AAAFUklEQVR4nO2dSyt+URTG9+t+CSFyjcKAMqFQDGToIxhRlIzMKBOKsS8gExMfwG3CwIAJUnKJhFzKLZdyv/1n6/+snXM679s57yLrN3q0l2O3Wuc5+3L2ETLGfBlFhBjpDvxlNPmCxEX1j8XxP/f+/u7p90KhEOmvr2BdMj4+nnRCQgJre3l5Ie21725o5QuiyRdEky9I4J6Pfh0bG8va0L8/Pj4cr+G3z2OfbLCPdn/xeeC1725o5QuiyRckZHye4dq3Kt7iiYmJjrGPj4+k/RjG2cTE/K8zHPImJyezuMzMTNK2ndzf33/b9vDwwOK82qRWviCafEE0+YJEPNREL0cPtX0dsT0UvRGn8vZQEJ8BkQ478ZoZGRmkS0pKWFxxcTHp8/Nz1nZ2dkb68vLSsb/q+b8ATb4gvsxw0XbsYSJajdtMEK+BM0lj+G39+voaUR8/Pz+/7UdOTg6Ly87OJv309MTajo+PSeMKJ147HLTyBdHkC+KL7eAtaD/pvT753ewEZ6F4i4czE8Z+4DXS0tIcf8cexeDv+bHYp5UviCZfEE2+IBF7Pnqe35sdb29v7GdckcSVULcZs43Tpg4OLY3hQ8/9/X3WZq9eesFt9quVL4gmX5CovrfjFds+cCiLFhQOaDVlZWWkKyoqHP/WxcUFa8MNH6+zWjcr1MoXRJMviCZfkKh6vr25npSU9G0beqsx3ldGnTZ4jDGmtraW9MDAAGn7GTI1NUXa3kzxY1MH0coXRJMvSOC2g7d/UVERaxscHCTd3NxM+vDwkMV1d3eT3tvbI20P93AfuKmpibWNjo6Sxn3ag4MDFrezs0P67u6OtUW6aeKEVr4gmnxBfLcdeyEJbaeuro61odUUFhaStu1paWmJdG9vL+np6WkWh4tibW1trC0/P580jqyOjo5Y3MbGBukgXltEtPIF0eQLoskXxPdXxG3Px1lsY2Mja8MhJA4N09PTWRzOQp+fn0njsNMYY25ubkjbG+N4TZy59vf3s7iVlRXSfg8tbbTyBdHkCxK47eBby1VVVawtKyuL9O3tLWn7Fb729nbSra2tpFNSUlgc7v2enp6ytvn5edLj4+OkV1dXHa8RNFr5gmjyBdHkC+L78oK9yYDDNduj8VVwHDaur6+zOFxemJubI11fX8/icFUTnyfG8BXK7e1t0kEvIbihlS+IJl+QwDdTcM+1oKCAtXV1dZHOy8sjPTk5yeLwNb2Ojg7Sy8vLLA4PutkH83CmHfQ3e7yilS+IJl+QwG0Hb3F79tjQ0EAaF9ZqampY3PDwMGk8/zoxMcHiOjs7HfvhdgJFCq18QTT5gmjyBQnc83GGa29+4EY2DgV7enpYHM5kR0ZGSF9fX7M4nMXaB6nxALPkrBbRyhdEky+I75spbthfaJ2ZmSHd0tLyv1PWhgzOkre2tkjjApkxxpSXl5M+OTlhbX19faR3d3dJh7NP6/eXbbXyBdHkCxJV27HBVwQXFxdJl5aWsji8xfH1kIWFBRa3trZGenZ2lrVtbm6S9voRUtv+nGwnUgvSyhdEky+IJl8QUc/H1wCrq6tJDw0NsbjKykrSOIQcGxtjcfgMuLq6Ym2RfGzaPizndADbbd9aD0H/UDT5gojaDoK3dGpqKmvLzc0ljRsy9rcR3D43Fgn2uWE8ZeM2M/Z6XlcrXxBNviCafEF+jOe74fQ/ToJ4/8bpnxwYw58Bbp+Y9Dqs1coXRJMvyK+wnSCxLQ1tx+3LgH58XVYrXxBNviB/3nYk0coXRJMviCZfEE2+IJp8QTT5gmjyBdHkC6LJF0STL4gmXxBNviCafEH+Ac8T6ks3ff9sAAAAAElFTkSuQmCC\" y=\"-125.379908\"/>\n   </g>\n   <g id=\"patch_78\">\n    <path d=\"M 805.140678 220.379908 \nL 805.140678 125.803636 \n\" style=\"fill:none;stroke:#000000;stroke-linecap:square;stroke-linejoin:miter;stroke-width:0.8;\"/>\n   </g>\n   <g id=\"patch_79\">\n    <path d=\"M 899.716949 220.379908 \nL 899.716949 125.803636 \n\" style=\"fill:none;stroke:#000000;stroke-linecap:square;stroke-linejoin:miter;stroke-width:0.8;\"/>\n   </g>\n   <g id=\"patch_80\">\n    <path d=\"M 805.140678 220.379908 \nL 899.716949 220.379908 \n\" style=\"fill:none;stroke:#000000;stroke-linecap:square;stroke-linejoin:miter;stroke-width:0.8;\"/>\n   </g>\n   <g id=\"patch_81\">\n    <path d=\"M 805.140678 125.803636 \nL 899.716949 125.803636 \n\" style=\"fill:none;stroke:#000000;stroke-linecap:square;stroke-linejoin:miter;stroke-width:0.8;\"/>\n   </g>\n  </g>\n  <g id=\"axes_17\">\n   <g id=\"patch_82\">\n    <path d=\"M 918.632203 101.776271 \nL 1013.208475 101.776271 \nL 1013.208475 7.2 \nL 918.632203 7.2 \nz\n\" style=\"fill:#ffffff;\"/>\n   </g>\n   <g clip-path=\"url(#p00309f4733)\">\n    <image height=\"95\" id=\"image1379612be6\" transform=\"scale(1 -1)translate(0 -95)\" width=\"95\" x=\"918.632203\" xlink:href=\"data:image/png;base64,\niVBORw0KGgoAAAANSUhEUgAAAF8AAABfCAYAAACOTBv1AAAD40lEQVR4nO2cTSg9URjG53KR2EixuT6KbCxEFnaUsiFhIYmlLCQfK3ZsSPZSxELZWFEsLFDKRxKKkiwoK2wsEPn4L/71Ou9kbuPeufeZy/NbPad35pzT09vbzJw5J2BZ1qdFICShJ/CXoflAaD4Qmg+E5gOh+UBoPhCaD4TmA6H5QGg+EJoPhOYDCaInEA2dnZ2qXVVVJXp0dFTFbm9v4zKnn8DMB0LzgQSsBFhMyc3NFT07Oyu6srJSXZeTkyP66upKxRYWFkSPjIx4O8EIYeYDoflAfFl20tPTVXtubk50a2trRH2+v7+LXl1dFd3R0aGue3x8jKj/SGDmA6H5QGg+EF/W/IqKCtU+ODhwdd/m5qbompoaFQsEAt/eMzU1pdq9vb2uxvICZj4Qmg/Elx/W6urqHGNvb2+i5+fnVWxmZkZ0f3+/irW3t3/bXygUimCG3sDMB0LzgdB8INCaX1tbKzolJUV0U1OT4z3B4NeUu7q6VMze9jvMfCA0H4gnZSc5OVl0eXm5ii0uLn4NFtTD5eXliU5Kil8efH5+vdQfHh7GbVw7zHwgNB+IJx/WJicnRQ8ODkbbXUy4u7sTvbW1JbqtrQ0wm/8w84HQfCA0H4gnNd98dPv4+HB9n3nt9PS06L29PXVdfn6+6MvLS9FnZ2eOfZeWlqr27u6u6JubG9dzjCXMfCA0H4gnZcf8Azg7O1vFXl5eRE9MTKjY8vKy6OPj42inkXAw84HQfCA0H4gnNd/896W7u1vFzLre0tIS7VC/CmY+EJoPxJPFlJ2dHdH2smMurtj/kfHLmyYKZj4Qmg/Ek6edzMxM0cPDwyo2NDQk+v7+XsVKSkpEPzw8RDuNhIOZD4TmA6H5QDzfmZKamqraS0tLohsaGlRsbGxM9Pj4uOinpycvp+RbmPlAaD6QmG+Iy8jIEL29va1iZWVlopubm0WvrKw49ldYWCjafr6CudZrf3v+ydpyvGDmA6H5QGK+OcI8y8C+0a2vr0/06+urYx/mCVJra2vf9m1ZusStr6+r2Onpqej9/X3RR0dH6rrn52fH/r2GmQ+E5gOh+UB8efaCnerqatEbGxsxHev8/Fx0uN8Rw+H2TCBmPhCaDyQhyk5RUZHonp4e0fZ9t+bxYE5HvMQDc4NgOJj5QGg+EJoPJCFqvlvq6+tFNzY2qph57FdxcbGr/i4uLlS7oKBAdFpamuN9rPkJAM0H8qvKTjiysrJEm4su4bi+vlbtgYEB0eZXUnt5Ojk5cdU/Mx8IzQfyZ8qOH2HmA6H5QGg+EJoPhOYDoflAaD4Qmg+E5gOh+UBoPhCaD4TmA/kH0v3hZC0NOusAAAAASUVORK5CYII=\" y=\"-6.776271\"/>\n   </g>\n   <g id=\"patch_83\">\n    <path d=\"M 918.632203 101.776271 \nL 918.632203 7.2 \n\" style=\"fill:none;stroke:#000000;stroke-linecap:square;stroke-linejoin:miter;stroke-width:0.8;\"/>\n   </g>\n   <g id=\"patch_84\">\n    <path d=\"M 1013.208475 101.776271 \nL 1013.208475 7.2 \n\" style=\"fill:none;stroke:#000000;stroke-linecap:square;stroke-linejoin:miter;stroke-width:0.8;\"/>\n   </g>\n   <g id=\"patch_85\">\n    <path d=\"M 918.632203 101.776271 \nL 1013.208475 101.776271 \n\" style=\"fill:none;stroke:#000000;stroke-linecap:square;stroke-linejoin:miter;stroke-width:0.8;\"/>\n   </g>\n   <g id=\"patch_86\">\n    <path d=\"M 918.632203 7.2 \nL 1013.208475 7.2 \n\" style=\"fill:none;stroke:#000000;stroke-linecap:square;stroke-linejoin:miter;stroke-width:0.8;\"/>\n   </g>\n  </g>\n  <g id=\"axes_18\">\n   <g id=\"patch_87\">\n    <path d=\"M 918.632203 220.379908 \nL 1013.208475 220.379908 \nL 1013.208475 125.803636 \nL 918.632203 125.803636 \nz\n\" style=\"fill:#ffffff;\"/>\n   </g>\n   <g clip-path=\"url(#p1082e0eb70)\">\n    <image height=\"95\" id=\"image7902bffefd\" transform=\"scale(1 -1)translate(0 -95)\" width=\"95\" x=\"918.632203\" xlink:href=\"data:image/png;base64,\niVBORw0KGgoAAAANSUhEUgAAAF8AAABfCAYAAACOTBv1AAAFIElEQVR4nO2cyyt1bxTHl/v9UnLPpYiUkpkSAwPFwMTMH2Bi5A8wkJIyM2RAZmSizCjlkpTbBFGkUOSe+/2drb7rydmd3/kd1n5f6zP66nnO3vt8W2dZz34uEUT0SYYKkdoP8Jsx8xUx8xUx8xUx8xUx8xUx8xUx8xUx8xWJ1n6A/0NERETAts9P/w/cLfIVMfMVMfMV+StyfkxMDOusrCzWmZmZot/FxQXrm5sb0fb4+Mj67e2Nteb/Bot8Rcx8RXyZdiIjZUyUlJSw7urqYl1RUSH6HR8fs15fXxdtc3NzrNfW1ljf3t6Kfq+vryE8cWhY5Cti5isSQT6cw01JSRF/9/X1sW5paWGdlpYm+kVFRQW85v39PeuZmRnWnZ2dot/p6el/e9gv7vv+/h7U5yzyFTHzFTHzFfFNqYlvKMvLy0VbfX0966SkpC8/Q0QUHx/P2i1XExMTWbe2trKenp4W/UZGRlh7jX7x3nhfIqKXlxfWXqWrRb4iZr4iYU877s/da8ID25KTk1l3dHSIfkVFRayxrMOfNxHRx8dHwOdAYmNjWTc1NYm20dFR1l4lI6akh4cH0eb1nRGLfEXMfEXMfEXCkvMxhxYUFIi23Nxc1peXl6INcyq+NkBNJP8fIJjjiYienp5YY0lKFDgPu6VgKJMr7meCvYZFviJmviIhpx0s5QoLC1n39/eLfsXFxayvr69F2+7uLuvKykrW7lvNQCkDR61ERFdXVwGfF0ehWKJOTEyIfj85p2uRr4iZr0hY0k5DQ8OXmkimBlyyQSSXgRwcHLDe29sT/UpLS1njCNetdjCtraysiDZMNVtbW6xxYoXI0s6vwcxXxMxXJOScj+VfXl4ea3diITo68C329/dZd3d3sz48PBT90tPTWbe3t7MuKysT/cbGxljPzs6KNhz9Yv7HifWfxiJfETNfkZDX7WDaaWtrYz08PCz6Ydp5fn4WbXV1daxXV1dZB1vu4epl95ncshbB69sq5V+Kma+Ima9IyKUm5sqlpSXWbumGbyjddZCbm5tfXi9Y3ImQv213okW+Ima+ImGZw8UR6eTkpGhrbm5mPT8/L9p+cheIH7HIV8TMVyQsaQfThzuHi5Mfi4uLos1rSV8gvD7jl5FrsFjkK2LmK2LmKxL23YjuKLO2tpZ1XFycaFteXmZ9d3cX1DVxaaK7CxAnTNzJdT9ika+Ima/It2+CxjldXDpIRHR2dsYaj2hxU0ZCQgLrmpoa1jk5OaLfwsIC66OjI9GG1/RLGWqRr4iZr8i3px2sVNyzEgL1c5efVFVVse7p6WGNR8EQEZ2cnLDu7e0VbXjkCy4dcasznHN2N1hgpXV+fs4a0ydR8C8MLfIVMfMVMfMV+fazF7Csc0exmG9xtIq5lYgoIyODNZ4o6O5gSU1NZT04OCjacKOyV9npNQ+M644wzw8NDYl+eH4DnmroYpGviJmvyLenHfwZe73swj25eDgpEdHU1NSX18Cyk4goPz+ftZu63PI1EJiG3OfFEhL74ZE0RETj4+OsLe34FDNfETNfkW9/vYAlZKhnFCCBzughImpsbGTtntlTXV3NGt+SuqUllpPupuqdnR3WAwMDrDc2NkQ/fKPq9R0t8hUx8xXx5Ymy4cBd35Odnc0ad8TgkTRERNvb26zdjdS4yTocc8QW+YqY+Yr8s2nHC68K7CeXnFjkK2LmK2LmK/Irc75fsMhXxMxXxMxXxMxXxMxXxMxXxMxXxMxXxMxX5A8gqKcvyDyuBwAAAABJRU5ErkJggg==\" y=\"-125.379908\"/>\n   </g>\n   <g id=\"patch_88\">\n    <path d=\"M 918.632203 220.379908 \nL 918.632203 125.803636 \n\" style=\"fill:none;stroke:#000000;stroke-linecap:square;stroke-linejoin:miter;stroke-width:0.8;\"/>\n   </g>\n   <g id=\"patch_89\">\n    <path d=\"M 1013.208475 220.379908 \nL 1013.208475 125.803636 \n\" style=\"fill:none;stroke:#000000;stroke-linecap:square;stroke-linejoin:miter;stroke-width:0.8;\"/>\n   </g>\n   <g id=\"patch_90\">\n    <path d=\"M 918.632203 220.379908 \nL 1013.208475 220.379908 \n\" style=\"fill:none;stroke:#000000;stroke-linecap:square;stroke-linejoin:miter;stroke-width:0.8;\"/>\n   </g>\n   <g id=\"patch_91\">\n    <path d=\"M 918.632203 125.803636 \nL 1013.208475 125.803636 \n\" style=\"fill:none;stroke:#000000;stroke-linecap:square;stroke-linejoin:miter;stroke-width:0.8;\"/>\n   </g>\n  </g>\n  <g id=\"axes_19\">\n   <g id=\"patch_92\">\n    <path d=\"M 1032.123729 101.776271 \nL 1126.7 101.776271 \nL 1126.7 7.2 \nL 1032.123729 7.2 \nz\n\" style=\"fill:#ffffff;\"/>\n   </g>\n   <g clip-path=\"url(#p43f0affdb9)\">\n    <image height=\"95\" id=\"imagef9e3ade79f\" transform=\"scale(1 -1)translate(0 -95)\" width=\"95\" x=\"1032.123729\" xlink:href=\"data:image/png;base64,\niVBORw0KGgoAAAANSUhEUgAAAF8AAABfCAYAAACOTBv1AAAEbUlEQVR4nO2cSyitXxjGt1suIYoMXEYSJSmSUlJMJIqUxIyBcjdACKEMlAlFTKQwlJkyoDAwMCGJlJDkmkLu/Efn/a+12lv77PPZz3bO8xs9b2v51tvT29vyrfVtL5vN9mkjELzRCfzL0HwgvsjFm5ubRQ8PD4uur6/X5o2OjrotJ3fCygdC84HQfCBeNuBW8+TkRHRMTIzoi4sLbV5qaqros7Ozb8/LXbDygdB8INCt5s3Njejo6GjRkZGR2rympibRbW1t356Xu2DlA6H5QGg+EOhWs6ioSPTCwoLoz0/HKeXm5opeXl7+nsTcBCsfCM0HAm07wcHBond3d0Wr206Tra0t0ZmZmdrY09OThdl9P6x8IDQfCLTtqISEhIi+urrSxvz8/Oz+zcTEhBbX1NRYn9g3wsoHQvOB0HwgHtPzVfr7+7W4s7PT7ryHhwctLiwsFL2ysmJ5XlbDygdC84F4ZNvJyMjQ4qWlJdHqltTk/v5edH5+vja2vr5uUXbWwcoHQvOB0HwgHtnzTaqrq0WrdzrVt6ImOzs7Wpyeni76+fnZwuxch5UPhOYD+RFtR6W1tVX0wMCANubr6/gaUkVFhei5uTnrE3MBVj4Qmg/kx7UdlenpaS2urKx0OPfu7k50S0uL6KmpKW3e+/u7Nck5ASsfCM0HQvOBuPWKeFhYmBa3t7eLzsrKEn19fa3NOz4+Fu3v7y86ISHB6bXVt6GTk5Oi09LStHkdHR2ib29vnX6+K7DygdB8IJZvNQMDA7V4dnZWdF5enjYWFBQk2tv7/zr46payuhX08fFxOc9ffHx8aPH8/LzohoYGbczqj/FY+UBoPhCaD8Tynl9QUKDFMzMzokNDQ7Wxo6Mj0eohSWxsrDYvMTHR7lqPj49anJSUZFfbbPr9z6ioKLvPMzE/xs7Ozha9v7/v1DO+gpUPhOYDsfw/XPOt4FfbQfXwY2NjQ/TIyIhLa6trma2rtLRUtPp7PuHh4do89VzYbE9dXV2iq6qqRL++vrqULysfCM0HYvluJyAgQIvVM9eenh59cS8v0ZeXl6LHxsa0eUNDQ6LNm8nOon5IV15eLtr8+G5xcdGp56ktSc39d2DlA6H5QGg+EMu3muaHyH19faLN/lpcXCxa/Y2d7u5ubZ560LK9vS1aPfiwt7aKekCjbod7e3sdPuP8/Fwbi4uLc/h8V2DlA6H5QKD3dlJSUkTX1taKLisr0+aZL+R+cXp6qsWrq6uiDw8PtTF1y7u5uSna/ApGPTB5e3vTxgYHB0WPj4/bzel3YOUDoflAPPK6YHJyshbX1dWJLikpER0REfHHa5mtZW9vT/Ta2po21tjYKPrl5eWP12blA6H5QGg+EI/s+V8RHx8v2uz56n/MOTk52ph6P0fdJpofRx8cHFiRplOw8oHQfCA/ru38TbDygdB8IDQfCM0HQvOB0HwgNB8IzQdC84HQfCA0HwjNB0LzgdB8IDQfCM0HQvOB0HwgNB8IzQdC84HQfCA0H8h/QIsV5Jtj8zgAAAAASUVORK5CYII=\" y=\"-6.776271\"/>\n   </g>\n   <g id=\"patch_93\">\n    <path d=\"M 1032.123729 101.776271 \nL 1032.123729 7.2 \n\" style=\"fill:none;stroke:#000000;stroke-linecap:square;stroke-linejoin:miter;stroke-width:0.8;\"/>\n   </g>\n   <g id=\"patch_94\">\n    <path d=\"M 1126.7 101.776271 \nL 1126.7 7.2 \n\" style=\"fill:none;stroke:#000000;stroke-linecap:square;stroke-linejoin:miter;stroke-width:0.8;\"/>\n   </g>\n   <g id=\"patch_95\">\n    <path d=\"M 1032.123729 101.776271 \nL 1126.7 101.776271 \n\" style=\"fill:none;stroke:#000000;stroke-linecap:square;stroke-linejoin:miter;stroke-width:0.8;\"/>\n   </g>\n   <g id=\"patch_96\">\n    <path d=\"M 1032.123729 7.2 \nL 1126.7 7.2 \n\" style=\"fill:none;stroke:#000000;stroke-linecap:square;stroke-linejoin:miter;stroke-width:0.8;\"/>\n   </g>\n  </g>\n  <g id=\"axes_20\">\n   <g id=\"patch_97\">\n    <path d=\"M 1032.123729 220.379908 \nL 1126.7 220.379908 \nL 1126.7 125.803636 \nL 1032.123729 125.803636 \nz\n\" style=\"fill:#ffffff;\"/>\n   </g>\n   <g clip-path=\"url(#p396248f011)\">\n    <image height=\"95\" id=\"image5cd4cdcf21\" transform=\"scale(1 -1)translate(0 -95)\" width=\"95\" x=\"1032.123729\" xlink:href=\"data:image/png;base64,\niVBORw0KGgoAAAANSUhEUgAAAF8AAABfCAYAAACOTBv1AAAFKklEQVR4nO2cSyitURTH1/F+lUdRpAihFBLJ+zHxLJlJGSoTBgzJWFFKRgYmSilkgiKvMiCUgalHFEKR99sd3XXX2t1zu9fd56zj3vUb/U97XWf3v+usb+29v+9zAMAHKCJ4SU/gf0bNF8THnV8WEBDAPi8sLKDOzs5GPTIywuKam5tRf3z8O1VSM18QNV8QNV8QB7i41fTy+vH/m5qaysZmZ2dRx8bGor6+vmZxRUVFqHd2dmxPUQzNfEHUfEFcXnYoQUFB7HNfXx/qpqYm1LRUAQCMjo6ibmtrQ/3w8GB7im5FM18QNV8QNV8Qt9Z8s5bn5+ejpnU9KiqKxR0fH6MuLy9HfXBwYHmG7kUzXxA1XxC3lh2TyMhI1Kurq6gTExNZnMPhQL25uYm6pKSExT0+PtqeokvRzBdEzRdEtOzQ7qezsxN1d3c3i/Px+XHm8/7+jnp8fJzFNTY2on57e7M2T1ehmS+Imi+Imi+IaM2nhIWFoaYH6wAAmZmZqOl14vn5mcX19/ejptcQAM+8BmjmC6LmC+IxZYeuYuPi4tjY9PQ06uTk5J/+GwCA8/Nz1LW1tWxsa2vLyjxtopkviJoviJoviMfUfIpZy+nuZ09PD+rq6moWRw/o6eEMAEBHRwfqu7s7K/P8WzTzBVHzBfHIsmPi7e2NOikpCfXAwACLy8vLQ22ufltbW1HT3dCXlxdr8/xTNPMFUfMFsf5kitmpUGj5MGOdaQCA8PBw1IWFhahpFwQAEBgYiDo4OJiN0VsTj46OUK+trbG419dXp/Og2HhCRjNfEDVfEDVfECutJq2N5hOHKSkpqKuqqtiYeX/Od3x9fdnnhIQE1HRXMzQ0lMX5+/s7nSOt0aenp6hbWlpYHD3IeXp6cvo3qKaH+n+CZr4gar4gVsoOPVdNT09nY729vahzc3P5l5NydXNzg9rc+KKljJYWs8TRVpPe62NCy8Tl5SUbGx4eRj00NMTGzs7OUNOnYszz4d8tQ5r5gqj5gqj5grj8xRcxMTGozacRaW08OTlBPT8/z+K2t7dR07bz9vaWxdFrgHn7OL3e0FY2IiKCxdHWMzo6mo3R69fu7i7qz96arpkviJoviPWyQ1ePAAB7e3uo6UEIAN/lpLuQc3NzLG5paQk1PSQxWzra8pk7qA0NDahpC2muikNCQlCbK/LFxUXU+/v7qD+7w6mZL4iaL4iVskN/dmYHMjExgdpc4dJOgx6YVFRUsLj19XXUtLMwV5b0szk2NjaGmpagyspKFkdX3ebGXVZWFurJyUlwBv0bvypJmvmCqPmCqPmCWK/55o7k8vIy6pmZGTZWV1eH2s/PD3VNTQ2Lo2MrKyuoLy4uWBx9BZg5Rndep6amUJeWlrI4ujNqHqDTp2dom6ut5hdEzRfE+grX/AkeHh6i7urqYmN0lVhfX4/avOcmJycHdVlZGWrangLw0kI3vgB4uYqPj0dttsb0EMY8w6VPt9DbDLXsfEHUfEFE3zRFf+L0paYZGRksjpYJ2p0UFBSwOLoiNb+LbshdXV2hNrsiOkbLIgB/JwQtp3rryBdEzRdEzRfEY55MoatJs17TgxF62FFcXMzi2tvbUaelpbExusu5sbGBenBwkMXRVbJ5T8/9/T3qz9Z5ima+IGq+IB5Tdmzwu6XrV4cu7kQzXxA1XxA1X5B/quZ/NTTzBVHzBVHzBVHzBVHzBVHzBVHzBVHzBVHzBVHzBVHzBVHzBVHzBVHzBVHzBVHzBVHzBVHzBVHzBfkGbLeDEkXnNOAAAAAASUVORK5CYII=\" y=\"-125.379908\"/>\n   </g>\n   <g id=\"patch_98\">\n    <path d=\"M 1032.123729 220.379908 \nL 1032.123729 125.803636 \n\" style=\"fill:none;stroke:#000000;stroke-linecap:square;stroke-linejoin:miter;stroke-width:0.8;\"/>\n   </g>\n   <g id=\"patch_99\">\n    <path d=\"M 1126.7 220.379908 \nL 1126.7 125.803636 \n\" style=\"fill:none;stroke:#000000;stroke-linecap:square;stroke-linejoin:miter;stroke-width:0.8;\"/>\n   </g>\n   <g id=\"patch_100\">\n    <path d=\"M 1032.123729 220.379908 \nL 1126.7 220.379908 \n\" style=\"fill:none;stroke:#000000;stroke-linecap:square;stroke-linejoin:miter;stroke-width:0.8;\"/>\n   </g>\n   <g id=\"patch_101\">\n    <path d=\"M 1032.123729 125.803636 \nL 1126.7 125.803636 \n\" style=\"fill:none;stroke:#000000;stroke-linecap:square;stroke-linejoin:miter;stroke-width:0.8;\"/>\n   </g>\n  </g>\n </g>\n <defs>\n  <clipPath id=\"pce0c0d21b2\">\n   <rect height=\"94.576271\" width=\"94.576271\" x=\"10.7\" y=\"7.2\"/>\n  </clipPath>\n  <clipPath id=\"p93c9dcb8b3\">\n   <rect height=\"94.576271\" width=\"94.576271\" x=\"10.7\" y=\"125.803636\"/>\n  </clipPath>\n  <clipPath id=\"pfb0be210af\">\n   <rect height=\"94.576271\" width=\"94.576271\" x=\"124.191525\" y=\"7.2\"/>\n  </clipPath>\n  <clipPath id=\"p8922dc954b\">\n   <rect height=\"94.576271\" width=\"94.576271\" x=\"124.191525\" y=\"125.803636\"/>\n  </clipPath>\n  <clipPath id=\"pa0850ce934\">\n   <rect height=\"94.576271\" width=\"94.576271\" x=\"237.683051\" y=\"7.2\"/>\n  </clipPath>\n  <clipPath id=\"p76eb2b3d56\">\n   <rect height=\"94.576271\" width=\"94.576271\" x=\"237.683051\" y=\"125.803636\"/>\n  </clipPath>\n  <clipPath id=\"pd9f08f27cb\">\n   <rect height=\"94.576271\" width=\"94.576271\" x=\"351.174576\" y=\"7.2\"/>\n  </clipPath>\n  <clipPath id=\"pbc5d63cf3c\">\n   <rect height=\"94.576271\" width=\"94.576271\" x=\"351.174576\" y=\"125.803636\"/>\n  </clipPath>\n  <clipPath id=\"pc9d3ea1b84\">\n   <rect height=\"94.576271\" width=\"94.576271\" x=\"464.666102\" y=\"7.2\"/>\n  </clipPath>\n  <clipPath id=\"p92c3fd1327\">\n   <rect height=\"94.576271\" width=\"94.576271\" x=\"464.666102\" y=\"125.803636\"/>\n  </clipPath>\n  <clipPath id=\"pdd0c331f3a\">\n   <rect height=\"94.576271\" width=\"94.576271\" x=\"578.157627\" y=\"7.2\"/>\n  </clipPath>\n  <clipPath id=\"pcd5aec47f6\">\n   <rect height=\"94.576271\" width=\"94.576271\" x=\"578.157627\" y=\"125.803636\"/>\n  </clipPath>\n  <clipPath id=\"p33b2ffd06d\">\n   <rect height=\"94.576271\" width=\"94.576271\" x=\"691.649153\" y=\"7.2\"/>\n  </clipPath>\n  <clipPath id=\"p2d4a370106\">\n   <rect height=\"94.576271\" width=\"94.576271\" x=\"691.649153\" y=\"125.803636\"/>\n  </clipPath>\n  <clipPath id=\"p3a8db2dcfc\">\n   <rect height=\"94.576271\" width=\"94.576271\" x=\"805.140678\" y=\"7.2\"/>\n  </clipPath>\n  <clipPath id=\"p6c7de925c0\">\n   <rect height=\"94.576271\" width=\"94.576271\" x=\"805.140678\" y=\"125.803636\"/>\n  </clipPath>\n  <clipPath id=\"p00309f4733\">\n   <rect height=\"94.576271\" width=\"94.576271\" x=\"918.632203\" y=\"7.2\"/>\n  </clipPath>\n  <clipPath id=\"p1082e0eb70\">\n   <rect height=\"94.576271\" width=\"94.576271\" x=\"918.632203\" y=\"125.803636\"/>\n  </clipPath>\n  <clipPath id=\"p43f0affdb9\">\n   <rect height=\"94.576271\" width=\"94.576271\" x=\"1032.123729\" y=\"7.2\"/>\n  </clipPath>\n  <clipPath id=\"p396248f011\">\n   <rect height=\"94.576271\" width=\"94.576271\" x=\"1032.123729\" y=\"125.803636\"/>\n  </clipPath>\n </defs>\n</svg>\n",
      "image/png": "[encoded data removed]"
     },
     "metadata": {
      "needs_background": "light"
     }
    }
   ],
   "source": [
    "import matplotlib.pyplot as plt\n",
    "\n",
    "\n",
    "n = 10  # How many digits we will display\n",
    "plt.figure(figsize=(20, 4))\n",
    "for i in range(n):\n",
    "    # Display original\n",
    "    ax = plt.subplot(2, n, i + 1)\n",
    "    plt.imshow(x_test[i].reshape(28, 28))\n",
    "    plt.gray()\n",
    "    ax.get_xaxis().set_visible(False)\n",
    "    ax.get_yaxis().set_visible(False)\n",
    "\n",
    "    # Display reconstruction\n",
    "    ax = plt.subplot(2, n, i + 1 + n)\n",
    "    plt.imshow(roundtrip_imgs[i].reshape(28, 28))\n",
    "    plt.gray()\n",
    "    ax.get_xaxis().set_visible(False)\n",
    "    ax.get_yaxis().set_visible(False)\n",
    "plt.show()"
   ]
  },
  {
   "source": [
    "What about the compression? Let's check the sizes of the arrays."
   ],
   "cell_type": "markdown",
   "metadata": {}
  },
  {
   "cell_type": "code",
   "execution_count": 10,
   "metadata": {},
   "outputs": [
    {
     "output_type": "stream",
     "name": "stdout",
     "text": [
      "x_test.shape[1]: 784\nencoded_imgs.shape[1]: 32\nSpace saving: 95.92%\n"
     ]
    }
   ],
   "source": [
    "encoded_imgs = encoder.transform(x_test)\n",
    "space_saving = (1-encoded_imgs.astype(x_test.dtype).nbytes/x_test.nbytes)*100\n",
    "print(f\"x_test.shape[1]: {x_test.shape[1]}\")\n",
    "print(f\"encoded_imgs.shape[1]: {encoded_imgs.shape[1]}\")\n",
    "space_saving = (1-encoded_imgs.astype(x_test.dtype).nbytes/x_test.nbytes)*100\n",
    "print(f\"Space saving: {space_saving:0.2f}%\")"
   ]
  }
 ],
 "metadata": {
  "colab": {
   "collapsed_sections": [],
   "name": "Benchmarks.ipynb",
   "provenance": []
  },
  "kernelspec": {
   "display_name": "Python 3",
   "language": "python",
   "name": "python3"
  },
  "language_info": {
   "codemirror_mode": {
    "name": "ipython",
    "version": 3
   },
   "file_extension": ".py",
   "mimetype": "text/x-python",
   "name": "python",
   "nbconvert_exporter": "python",
   "pygments_lexer": "ipython3",
   "version": "3.8.5-final"
  }
 },
 "nbformat": 4,
 "nbformat_minor": 1
}