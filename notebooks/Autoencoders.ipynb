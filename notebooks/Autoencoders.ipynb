{
 "cells": [
  {
   "cell_type": "markdown",
   "metadata": {
    "id": "z22BE9uhvoxO"
   },
   "source": [
    "# Autoencoders in SciKeras"
   ]
  },
  {
   "cell_type": "markdown",
   "metadata": {
    "id": "hapoJed-voxP"
   },
   "source": [
    "Autencoders are an approach to use nearual networks to distill data into it's most important features, thereby compressing the data. We will be following the [Keras tutorial](https://blog.keras.io/building-autoencoders-in-keras.html) on the topic, which goes much more in depth and breadth than we will here. You are highly encouraged to check out that tutorial if you want to learn about autoencoders in the general sense.\n",
    "\n",
    "\n",
    "\n",
    "<table align=\"left\"><td>\n",
    "<a target=\"_blank\" href=\"https://colab.research.google.com/github/adriangb/scikeras/blob/master/notebooks/Basic_Usage.ipyn\">\n",
    "    <img src=\"https://www.tensorflow.org/images/colab_logo_32px.png\" />Run in Google Colab</a>  \n",
    "</td><td>\n",
    "<a target=\"_blank\" href=\"https://github.com/adriangb/scikeras/blob/master/notebooks/Basic_Usage.ipynb\"><img width=32px src=\"https://www.tensorflow.org/images/GitHub-Mark-32px.png\" />View source on GitHub</a></td></table>"
   ]
  },
  {
   "cell_type": "markdown",
   "metadata": {
    "id": "iT-ibpi7voxQ"
   },
   "source": [
    "### Table of contents"
   ]
  },
  {
   "cell_type": "markdown",
   "metadata": {
    "id": "ekJWKPFMvoxR"
   },
   "source": [
    "* [Data](#Data)\n",
    "* [Define Model](#Define-Keras-Model)\n",
    "* [Training](#Training)\n",
    "* [Explore Results](#Explore-Results)"
   ]
  },
  {
   "cell_type": "markdown",
   "metadata": {
    "id": "6avb3GBQDQyG"
   },
   "source": [
    "Install SciKeras"
   ]
  },
  {
   "cell_type": "code",
   "execution_count": null,
   "metadata": {
    "id": "qCcyTjVkvoxR"
   },
   "outputs": [],
   "source": [
    "!python -m pip install git+https://github.com/adriangb/scikeras.git@master"
   ]
  },
  {
   "cell_type": "markdown",
   "metadata": {
    "id": "EZveNcetDQyL"
   },
   "source": [
    "Silence TensorFlow warnings to keep output succint."
   ]
  },
  {
   "cell_type": "code",
   "execution_count": 1,
   "metadata": {
    "id": "ekNmO_GPDQyL"
   },
   "outputs": [],
   "source": [
    "import warnings\n",
    "from tensorflow import get_logger\n",
    "get_logger().setLevel('ERROR')"
   ]
  },
  {
   "cell_type": "markdown",
   "metadata": {
    "id": "hCuOBH8AvoxX"
   },
   "source": [
    "## Data"
   ]
  },
  {
   "cell_type": "markdown",
   "metadata": {
    "id": "i3fAUKBUvoxY"
   },
   "source": [
    "We load the dataset from the Keras tutorial. The dataset consists of images of cats and dogs."
   ]
  },
  {
   "cell_type": "code",
   "execution_count": 2,
   "metadata": {
    "colab": {
     "base_uri": "https://localhost:8080/",
     "height": 51
    },
    "id": "QM74xeoe-1S-",
    "outputId": "23946eec-c32f-4db6-8bda-e12bda6492ea"
   },
   "outputs": [
    {
     "output_type": "stream",
     "name": "stdout",
     "text": [
      "(60000, 784)\n(10000, 784)\n"
     ]
    }
   ],
   "source": [
    "from tensorflow.keras.datasets import mnist\n",
    "import numpy as np\n",
    "\n",
    "\n",
    "(x_train, _), (x_test, _) = mnist.load_data()\n",
    "x_train = x_train.astype('float32') / 255.\n",
    "x_test = x_test.astype('float32') / 255.\n",
    "x_train = x_train.reshape((len(x_train), np.prod(x_train.shape[1:])))\n",
    "x_test = x_test.reshape((len(x_test), np.prod(x_test.shape[1:])))\n",
    "print(x_train.shape)\n",
    "print(x_test.shape)"
   ]
  },
  {
   "cell_type": "markdown",
   "metadata": {
    "id": "yuR10hymK0dh"
   },
   "source": [
    "## Define Keras Model"
   ]
  },
  {
   "cell_type": "markdown",
   "metadata": {},
   "source": [
    "We will be defining a very simple autencoder. We define _three_ model building methods:\n",
    "\n",
    "1. One to build a full end-to-end autoencoder.\n",
    "2. One to create a model that includes only the encoder portion.\n",
    "3. One that creates a model that includes only the decoder portion.\n",
    "\n",
    "The only variable we give our model is the encoding dimensions, which will be a hyperparemter of our final transformer."
   ]
  },
  {
   "cell_type": "code",
   "execution_count": 3,
   "metadata": {
    "id": "dBFFXT-__7KU"
   },
   "outputs": [],
   "source": [
    "from tensorflow import keras\n",
    "\n",
    "\n",
    "def get_fit_model(encoding_dim) -> keras.Model:\n",
    "    \"\"\"A regular SciKeras ``get_model``.\"\"\"\n",
    "    # This is our input image\n",
    "    input_img = keras.Input(shape=(784,), name=\"input\")\n",
    "    # \"encoded\" is the encoded representation of the input\n",
    "    encoded = keras.layers.Dense(encoding_dim, activation='relu', name=\"encoded\")(input_img)\n",
    "    # \"decoded\" is the lossy reconstruction of the input\n",
    "    decoded = keras.layers.Dense(784, activation='sigmoid', name=\"output\")(encoded)\n",
    "    # This model maps an input to its reconstruction\n",
    "    autoencoder_model = keras.Model(input_img, decoded)\n",
    "    return autoencoder_model\n",
    "\n",
    "def get_tf_model(fit_model: keras.Model) -> keras.Model:\n",
    "    \"\"\"Extract the input layer and encoded output from ``fit_model``.\"\"\"\n",
    "    return keras.Model(fit_model.get_layer(\"input\").input, fit_model.get_layer(\"encoded\").output)\n",
    "\n",
    "def get_inverse_tf_model(fit_model: keras.Model, encoding_dim: int) -> keras.Model:\n",
    "    \"\"\"Create a new input layer and connect it to the fitted ``fit_model``.\"\"\"\n",
    "    encoded_input = keras.Input(shape=(encoding_dim,))\n",
    "    output = fit_model.get_layer(\"output\")(encoded_input)\n",
    "    return keras.Model(encoded_input, output)"
   ]
  },
  {
   "source": [
    "Next we create a class that that will enable the `transform` and `fit_transform` methods, as well as integrating all three of our models into a single estimator."
   ],
   "cell_type": "markdown",
   "metadata": {}
  },
  {
   "cell_type": "code",
   "execution_count": 4,
   "metadata": {},
   "outputs": [],
   "source": [
    "from sklearn.base import TransformerMixin, copy\n",
    "from scikeras.wrappers import BaseWrapper\n",
    "\n",
    "\n",
    "class KerasTransformer(BaseWrapper, TransformerMixin):\n",
    "    \"\"\"A class that enables transform and fit_transform.\n",
    "    \"\"\"\n",
    "\n",
    "    def __init__(self, *args, tf_est=None, inv_tf_est=None, **kwargs) -> None:\n",
    "        super().__init__(*args, **kwargs)\n",
    "        self.tf_est = tf_est\n",
    "        self.inv_tf_est = inv_tf_est\n",
    "\n",
    "\n",
    "    def fit(self, X, sample_weight=None):\n",
    "        # Fit the auto-encoder to predict X from X\n",
    "        super().fit(X=X, y=X, sample_weight=sample_weight)\n",
    "        # Copy encoder/decoder models to avoid modifying user input objects\n",
    "        self.tf_est_ = copy.copy(self.tf_est)\n",
    "        self.inv_tf_est_ = copy.copy(self.inv_tf_est)\n",
    "        # Set params for encoder/decoder models\n",
    "        self.tf_est_.set_params(fit_model=self.model_)\n",
    "        self.inv_tf_est_.set_params(fit_model=self.model_, encoding_dim=self.encoding_dim)\n",
    "        # Preprocess X\n",
    "        X = self.feature_encoder_.transform(X)\n",
    "        # Fit tf_est_\n",
    "        self.tf_est_.initialize(X=X)\n",
    "        X_tf = self.tf_est_.predict(X=X)\n",
    "        # Fit inverse TF\n",
    "        self.inv_tf_est_.initialize(X_tf)\n",
    "        return self\n",
    "\n",
    "    def transform(self, X):\n",
    "        X = self.feature_encoder_.transform(X)\n",
    "        X_tf = self.tf_est_.predict(X)\n",
    "        return X_tf\n",
    "    \n",
    "    def inverse_transform(self, X_tf):\n",
    "        X = self.inv_tf_est_.predict(X_tf)\n",
    "        X = self.feature_encoder_.inverse_transform(X)\n",
    "        return X"
   ]
  },
  {
   "cell_type": "markdown",
   "metadata": {},
   "source": [
    "Next, we wrap the Keras Model with Scikeras. Note that for our encoder/decoder estimators, we do not need to provide a loss function since no training will be done. We do however need to have the `fit_model` and `encoding_dim` so that these will be settable by `BaseWrapper.set_params`."
   ]
  },
  {
   "cell_type": "code",
   "execution_count": 17,
   "metadata": {},
   "outputs": [],
   "source": [
    "tf_est = BaseWrapper(model=get_tf_model, fit_model=None, verbose=0)\n",
    "inv_tf_est = BaseWrapper(model=get_inverse_tf_model, fit_model=None, encoding_dim=None, verbose=0)\n",
    "autoencoder = KerasTransformer(model=get_fit_model, tf_est=tf_est, inv_tf_est=inv_tf_est, loss=\"binary_crossentropy\", encoding_dim=32, epochs=50)"
   ]
  },
  {
   "cell_type": "markdown",
   "metadata": {
    "id": "yqBl5xLDP43O"
   },
   "source": [
    "## Training"
   ]
  },
  {
   "cell_type": "markdown",
   "metadata": {
    "id": "4fHbt_mUVBhE"
   },
   "source": [
    "To train the model, we pass the input images as both the features and the target. This will train the layers to compress the data as accurately as possible between the encoder and decoder. Note that we only pass the `X` parameter, since we defined the mapping `y=X` in `KerasTransformer.fit` above."
   ]
  },
  {
   "cell_type": "code",
   "execution_count": 18,
   "metadata": {
    "colab": {
     "base_uri": "https://localhost:8080/",
     "height": 34
    },
    "id": "QQhtIWsMP4Ii",
    "outputId": "1581384e-7012-4816-d4cf-a4190a30e50f"
   },
   "outputs": [
    {
     "output_type": "stream",
     "name": "stdout",
     "text": [
      "Epoch 1/50\n",
      "1875/1875 [==============================] - 2s 987us/step - loss: 0.2022\n",
      "Epoch 2/50\n",
      "1875/1875 [==============================] - 2s 956us/step - loss: 0.1050\n",
      "Epoch 3/50\n",
      "1875/1875 [==============================] - 2s 1ms/step - loss: 0.0975\n",
      "Epoch 4/50\n",
      "1875/1875 [==============================] - 2s 1ms/step - loss: 0.0959\n",
      "Epoch 5/50\n",
      "1875/1875 [==============================] - 2s 903us/step - loss: 0.0954\n",
      "Epoch 6/50\n",
      "1875/1875 [==============================] - 2s 885us/step - loss: 0.0948\n",
      "Epoch 7/50\n",
      "1875/1875 [==============================] - 2s 885us/step - loss: 0.0946\n",
      "Epoch 8/50\n",
      "1875/1875 [==============================] - 2s 948us/step - loss: 0.0948\n",
      "Epoch 9/50\n",
      "1875/1875 [==============================] - 2s 895us/step - loss: 0.0940\n",
      "Epoch 10/50\n",
      "1875/1875 [==============================] - 2s 895us/step - loss: 0.0942\n",
      "Epoch 11/50\n",
      "1875/1875 [==============================] - 2s 899us/step - loss: 0.0943\n",
      "Epoch 12/50\n",
      "1875/1875 [==============================] - 2s 893us/step - loss: 0.0941\n",
      "Epoch 13/50\n",
      "1875/1875 [==============================] - 2s 886us/step - loss: 0.0942\n",
      "Epoch 14/50\n",
      "1875/1875 [==============================] - 2s 887us/step - loss: 0.0938\n",
      "Epoch 15/50\n",
      "1875/1875 [==============================] - 2s 872us/step - loss: 0.0938\n",
      "Epoch 16/50\n",
      "1875/1875 [==============================] - 2s 868us/step - loss: 0.0936\n",
      "Epoch 17/50\n",
      "1875/1875 [==============================] - 2s 881us/step - loss: 0.0937\n",
      "Epoch 18/50\n",
      "1875/1875 [==============================] - 2s 882us/step - loss: 0.0938\n",
      "Epoch 19/50\n",
      "1875/1875 [==============================] - 2s 885us/step - loss: 0.0936\n",
      "Epoch 20/50\n",
      "1875/1875 [==============================] - 2s 871us/step - loss: 0.0937\n",
      "Epoch 21/50\n",
      "1875/1875 [==============================] - 2s 962us/step - loss: 0.0937\n",
      "Epoch 22/50\n",
      "1875/1875 [==============================] - 2s 876us/step - loss: 0.0937\n",
      "Epoch 23/50\n",
      "1875/1875 [==============================] - 2s 867us/step - loss: 0.0934\n",
      "Epoch 24/50\n",
      "1875/1875 [==============================] - 2s 848us/step - loss: 0.0934\n",
      "Epoch 25/50\n",
      "1875/1875 [==============================] - 2s 856us/step - loss: 0.0935\n",
      "Epoch 26/50\n",
      "1875/1875 [==============================] - 2s 1ms/step - loss: 0.0933\n",
      "Epoch 27/50\n",
      "1875/1875 [==============================] - 2s 913us/step - loss: 0.0935\n",
      "Epoch 28/50\n",
      "1875/1875 [==============================] - 2s 847us/step - loss: 0.0932\n",
      "Epoch 29/50\n",
      "1875/1875 [==============================] - 2s 894us/step - loss: 0.0932\n",
      "Epoch 30/50\n",
      "1875/1875 [==============================] - 2s 848us/step - loss: 0.0931\n",
      "Epoch 31/50\n",
      "1875/1875 [==============================] - 2s 855us/step - loss: 0.0932\n",
      "Epoch 32/50\n",
      "1875/1875 [==============================] - 2s 862us/step - loss: 0.0932\n",
      "Epoch 33/50\n",
      "1875/1875 [==============================] - 2s 1ms/step - loss: 0.0933\n",
      "Epoch 34/50\n",
      "1875/1875 [==============================] - 2s 885us/step - loss: 0.0931\n",
      "Epoch 35/50\n",
      "1875/1875 [==============================] - 2s 1ms/step - loss: 0.0931\n",
      "Epoch 36/50\n",
      "1875/1875 [==============================] - 2s 982us/step - loss: 0.0929\n",
      "Epoch 37/50\n",
      "1875/1875 [==============================] - 2s 968us/step - loss: 0.0931\n",
      "Epoch 38/50\n",
      "1875/1875 [==============================] - 2s 1ms/step - loss: 0.0930\n",
      "Epoch 39/50\n",
      "1875/1875 [==============================] - 2s 962us/step - loss: 0.0932\n",
      "Epoch 40/50\n",
      "1875/1875 [==============================] - 2s 961us/step - loss: 0.0929\n",
      "Epoch 41/50\n",
      "1875/1875 [==============================] - 2s 974us/step - loss: 0.0931\n",
      "Epoch 42/50\n",
      "1875/1875 [==============================] - 2s 981us/step - loss: 0.0930\n",
      "Epoch 43/50\n",
      "1875/1875 [==============================] - 2s 940us/step - loss: 0.0929\n",
      "Epoch 44/50\n",
      "1875/1875 [==============================] - 2s 956us/step - loss: 0.0930\n",
      "Epoch 45/50\n",
      "1875/1875 [==============================] - 2s 954us/step - loss: 0.0931\n",
      "Epoch 46/50\n",
      "1875/1875 [==============================] - 2s 966us/step - loss: 0.0928\n",
      "Epoch 47/50\n",
      "1875/1875 [==============================] - 2s 942us/step - loss: 0.0928\n",
      "Epoch 48/50\n",
      "1875/1875 [==============================] - 2s 952us/step - loss: 0.0927\n",
      "Epoch 49/50\n",
      "1875/1875 [==============================] - 2s 964us/step - loss: 0.0928\n",
      "Epoch 50/50\n",
      "1875/1875 [==============================] - 2s 945us/step - loss: 0.0929\n"
     ]
    },
    {
     "output_type": "execute_result",
     "data": {
      "text/plain": [
       "KerasTransformer(\n",
       "\tmodel=<function get_fit_model at 0x107373280>\n",
       "\tbuild_fn=None\n",
       "\twarm_start=False\n",
       "\trandom_state=None\n",
       "\toptimizer=rmsprop\n",
       "\tloss=binary_crossentropy\n",
       "\tmetrics=None\n",
       "\tbatch_size=None\n",
       "\tverbose=1\n",
       "\tcallbacks=None\n",
       "\tvalidation_split=0.0\n",
       "\tshuffle=True\n",
       "\trun_eagerly=False\n",
       "\tepochs=50\n",
       "\tencoding_dim=32\n",
       "\ttf_est__model=<function get_tf_model at 0x14b1174c0>\n",
       "\ttf_est__build_fn=None\n",
       "\ttf_est__warm_start=False\n",
       "\ttf_est__random_state=None\n",
       "\ttf_est__optimizer=rmsprop\n",
       "\ttf_est__loss=None\n",
       "\ttf_est__metrics=None\n",
       "\ttf_est__batch_size=None\n",
       "\ttf_est__verbose=0\n",
       "\ttf_est__callbacks=None\n",
       "\ttf_est__validation_split=0.0\n",
       "\ttf_est__shuffle=True\n",
       "\ttf_est__run_eagerly=False\n",
       "\ttf_est__epochs=1\n",
       "\ttf_est__fit_model=None\n",
       "\ttf_est=BaseWrapper(\n",
       "\tmodel=<function get_tf_model at 0x14b1174c0>\n",
       "\tbuild_fn=None\n",
       "\twarm_start=False\n",
       "\trandom_state=None\n",
       "\toptimizer=rmsprop\n",
       "\tloss=None\n",
       "\tmetrics=None\n",
       "\tbatch_size=None\n",
       "\tverbose=0\n",
       "\tcallbacks=None\n",
       "\tvalidation_split=0.0\n",
       "\tshuffle=True\n",
       "\trun_eagerly=False\n",
       "\tepochs=1\n",
       "\tfit_model=None\n",
       ")\n",
       "\tinv_tf_est__model=<function get_inverse_tf_model at 0x14b117ee0>\n",
       "\tinv_tf_est__build_fn=None\n",
       "\tinv_tf_est__warm_start=False\n",
       "\tinv_tf_est__random_state=None\n",
       "\tinv_tf_est__optimizer=rmsprop\n",
       "\tinv_tf_est__loss=None\n",
       "\tinv_tf_est__metrics=None\n",
       "\tinv_tf_est__batch_size=None\n",
       "\tinv_tf_est__verbose=0\n",
       "\tinv_tf_est__callbacks=None\n",
       "\tinv_tf_est__validation_split=0.0\n",
       "\tinv_tf_est__shuffle=True\n",
       "\tinv_tf_est__run_eagerly=False\n",
       "\tinv_tf_est__epochs=1\n",
       "\tinv_tf_est__fit_model=None\n",
       "\tinv_tf_est__encoding_dim=None\n",
       "\tinv_tf_est=BaseWrapper(\n",
       "\tmodel=<function get_inverse_tf_model at 0x14b117ee0>\n",
       "\tbuild_fn=None\n",
       "\twarm_start=False\n",
       "\trandom_state=None\n",
       "\toptimizer=rmsprop\n",
       "\tloss=None\n",
       "\tmetrics=None\n",
       "\tbatch_size=None\n",
       "\tverbose=0\n",
       "\tcallbacks=None\n",
       "\tvalidation_split=0.0\n",
       "\tshuffle=True\n",
       "\trun_eagerly=False\n",
       "\tepochs=1\n",
       "\tfit_model=None\n",
       "\tencoding_dim=None\n",
       ")\n",
       ")"
      ]
     },
     "metadata": {},
     "execution_count": 18
    }
   ],
   "source": [
    "autoencoder.fit(X=x_train)"
   ]
  },
  {
   "cell_type": "markdown",
   "metadata": {},
   "source": [
    "Next we fit the encoder and decoder using training data and then round-trip through both using test data."
   ]
  },
  {
   "cell_type": "code",
   "execution_count": 19,
   "metadata": {},
   "outputs": [],
   "source": [
    "roundtrip_imgs = autoencoder.inverse_transform(autoencoder.transform(x_test))"
   ]
  },
  {
   "cell_type": "markdown",
   "metadata": {},
   "source": [
    "## Explore Results"
   ]
  },
  {
   "cell_type": "markdown",
   "metadata": {},
   "source": [
    "Now let's compare our inputs to lossy decoded outputs:"
   ]
  },
  {
   "cell_type": "code",
   "execution_count": 20,
   "metadata": {},
   "outputs": [
    {
     "output_type": "display_data",
     "data": {
      "text/plain": "<Figure size 1440x288 with 20 Axes>",
      "image/svg+xml": "<?xml version=\"1.0\" encoding=\"utf-8\" standalone=\"no\"?>\n<!DOCTYPE svg PUBLIC \"-//W3C//DTD SVG 1.1//EN\"\n  \"http://www.w3.org/Graphics/SVG/1.1/DTD/svg11.dtd\">\n<!-- Created with matplotlib (https://matplotlib.org/) -->\n<svg height=\"231.079908pt\" version=\"1.1\" viewBox=\"0 0 1133.9 231.079908\" width=\"1133.9pt\" xmlns=\"http://www.w3.org/2000/svg\" xmlns:xlink=\"http://www.w3.org/1999/xlink\">\n <metadata>\n  <rdf:RDF xmlns:cc=\"http://creativecommons.org/ns#\" xmlns:dc=\"http://purl.org/dc/elements/1.1/\" xmlns:rdf=\"http://www.w3.org/1999/02/22-rdf-syntax-ns#\">\n   <cc:Work>\n    <dc:type rdf:resource=\"http://purl.org/dc/dcmitype/StillImage\"/>\n    <dc:date>2020-11-08T12:57:07.981540</dc:date>\n    <dc:format>image/svg+xml</dc:format>\n    <dc:creator>\n     <cc:Agent>\n      <dc:title>Matplotlib v3.3.2, https://matplotlib.org/</dc:title>\n     </cc:Agent>\n    </dc:creator>\n   </cc:Work>\n  </rdf:RDF>\n </metadata>\n <defs>\n  <style type=\"text/css\">*{stroke-linecap:butt;stroke-linejoin:round;}</style>\n </defs>\n <g id=\"figure_1\">\n  <g id=\"patch_1\">\n   <path d=\"M 0 231.079908 \nL 1133.9 231.079908 \nL 1133.9 0 \nL 0 0 \nz\n\" style=\"fill:none;\"/>\n  </g>\n  <g id=\"axes_1\">\n   <g id=\"patch_2\">\n    <path d=\"M 10.7 101.776271 \nL 105.276271 101.776271 \nL 105.276271 7.2 \nL 10.7 7.2 \nz\n\" style=\"fill:#ffffff;\"/>\n   </g>\n   <g clip-path=\"url(#pe2c1e85595)\">\n    <image height=\"95\" id=\"image244bf5126e\" transform=\"scale(1 -1)translate(0 -95)\" width=\"95\" x=\"10.7\" xlink:href=\"data:image/png;base64,\niVBORw0KGgoAAAANSUhEUgAAAF8AAABfCAYAAACOTBv1AAADhElEQVR4nO2czyusYRTHj+taTM0GZSMipaT8zEqNXxuZZMGKtZW/wIJY2NhaKHslpaZsrCyQ0FjITCNhQ1JKClGUu7qn58xlGu77+r4z8/2svu88TzOnT8fpMe/MFInIuxAIv9AFFDKUD+Q3uoC/TE5Oap6bmzNrR0dHmvv6+jTf3d35X5iPsPOBUD4QygcSmJmfiebmZs37+/uaBwcHzb6Tk5Mfq8kL2PlAKB9IYMbO9va25sfHR7MWDoc119XVffh4LsLOB0L5QCgfSGBm/s7OjuaFhQWz5r71kE+w84FQPpDAjB2XpaUlcz02Nqa5urpac1dXl9l3eHio+f09+PeI2PlAKB9IkeTAPdz6+nrNmd48Gxoa0ry+vu5rTV7AzgdC+UAoH0hOzPzi4mLNe3t7mtvb282+8/Nzzf39/Z+uBQV2PhDKB5ITY8elvLxc88HBgVmrra3VvLKyYtZGR0f9LewbsPOBUD4QygeSczPfJRqNmutYLKb56enJrLlHT/e4ioSdD4TygeT02Elnenpa88zMjFnb2NjQPDAw8FMlZYSdD4TygeTV2AmFQprdj6KIiDQ2Nmru7e3VvLu7639hn8DOB0L5QCgfSCA/t/Ndnp+fNbtHSxGR1tZWzbOzs5rTj52vr68+Vfcv7HwglA8kr46aLp2dneZ6c3NTc0lJiebu7m6zb2try9e6XNj5QCgfCOUDyduZn457vJyamtJ8f39v9kUiEc2JRMLXmtj5QCgfSMGMnYqKCs3Hx8cfPi4iMjIyonltbc3Xmtj5QCgfSMGMHZfh4WHNq6urZs094fT09Jg1r39WjJ0PhPKBUD6QQM780tJSc93S0qLZ/aJzR0dH1s/58vKi+fT0VHMqlTL7ysrKNE9MTJi1xcXFrF8vG9j5QCgfiOf3cN1ffBURaWpq0pz+J97Q0KC5ra1Nc/oNjsrKSs2Xl5eaq6qqsq7r7e1N8+3trWZ3zKTj/qSYH7DzgVA+EM9POxcXF+a6pqbmy8/x8PBgrpPJ5P+U9CWurq40z8/Pm7V4PO7pa7HzgVA+EMoH4vnMd29GiIiMj49rvr6+Nmvuf53Ly8uab25uzL6zszMvSwwM7HwglA8kkG+sFQrsfCCUD4TygVA+EMoHQvlAKB8I5QOhfCCUD4TygVA+EMoHQvlAKB8I5QOhfCCUD4TygVA+EMoHQvlAKB/IHylJwuaX+CcdAAAAAElFTkSuQmCC\" y=\"-6.776271\"/>\n   </g>\n   <g id=\"patch_3\">\n    <path d=\"M 10.7 101.776271 \nL 10.7 7.2 \n\" style=\"fill:none;stroke:#000000;stroke-linecap:square;stroke-linejoin:miter;stroke-width:0.8;\"/>\n   </g>\n   <g id=\"patch_4\">\n    <path d=\"M 105.276271 101.776271 \nL 105.276271 7.2 \n\" style=\"fill:none;stroke:#000000;stroke-linecap:square;stroke-linejoin:miter;stroke-width:0.8;\"/>\n   </g>\n   <g id=\"patch_5\">\n    <path d=\"M 10.7 101.776271 \nL 105.276271 101.776271 \n\" style=\"fill:none;stroke:#000000;stroke-linecap:square;stroke-linejoin:miter;stroke-width:0.8;\"/>\n   </g>\n   <g id=\"patch_6\">\n    <path d=\"M 10.7 7.2 \nL 105.276271 7.2 \n\" style=\"fill:none;stroke:#000000;stroke-linecap:square;stroke-linejoin:miter;stroke-width:0.8;\"/>\n   </g>\n  </g>\n  <g id=\"axes_2\">\n   <g id=\"patch_7\">\n    <path d=\"M 10.7 220.379908 \nL 105.276271 220.379908 \nL 105.276271 125.803636 \nL 10.7 125.803636 \nz\n\" style=\"fill:#ffffff;\"/>\n   </g>\n   <g clip-path=\"url(#p7c4ba4e330)\">\n    <image height=\"95\" id=\"image5986bf476a\" transform=\"scale(1 -1)translate(0 -95)\" width=\"95\" x=\"10.7\" xlink:href=\"data:image/png;base64,\niVBORw0KGgoAAAANSUhEUgAAAF8AAABfCAYAAACOTBv1AAAEu0lEQVR4nO2cyyutbxTH1+a45ppiIIqUJFEuSUnJUIyUgZmBiWTIVOIfMJKByEAp5iKUTJSYuJYYSAbuueT2G5111no67z777N7t++7zW5/RV8/a3vd8W77neZ/n2W+IiL4oACQmJrLOzMxUY/f396w/Pz+/7Z5iTQL6Bv7PmPlAfsT6Aqmpqazf3t7UWHJyMuuNjQ3WdXV1qk5GzeDgIOuJiQlV9/UViASNGOt8IGY+EDMfiC+ZHwqFWKekpOgL/Ph1iff3dzUmM3pzc5N1bW2tqktI+NUjvb29rGdnZ1Xd7e3tX9w1Hut8IGY+EF9iR8bHy8uLZ52MJyL9VLu+vs66u7tb1eXm5rLOyclhnZ+fr+osdoyIMfOBmPlAYr68IHEf/19fX1kvLy+zXlxcVHU9PT2ss7KyWDc1Nam6k5MT1vGw+mmdD8TMBxKigGymSIqLi9XPq6urrIuKilgfHR2pupaWFtbX19cxujv/sM4HYuYDCWTsyIU0IqK+vj7W4+PjnnWTk5Osh4aG1Ji7qBcErPOBmPlAzHwggcx8l/T0dNbz8/Os3Sfci4sL1l1dXWrs8PCQdVA22q3zgZj5QOIiduQmTGlpKevp6WlVJ5+MZ2Zm1NjY2Bjr5+dnn+8wOqzzgZj5QMx8IHGR+RJ5DsidTo6MjLB2N/IHBgZYy8165KaLdT4QMx8INHbcczw/ifQJNC8vT/28tLTEuqamRo3t7Oyw7ujoYI0862OdD8TMB/KtR0fCHReUYx8fH6rOa0biRoaMnerqajVWVVXFur29nfXc3Jyq+85FN+t8IGY+EDMfCHSqKTfA3c1widfmt/t/SHZ2Nmt51oeIqKKigvXu7i7rtrY2Vff4+Bjmjv3FOh+ImQ8kMAtrMkLcOJHTv3BTQfm5hoYGNbawsMBa7gkPDw+ruqmpKdaxXnSzzgdi5gMx84EEJvPDEc3qp1y6ICIaHR1l3d/fz/ry8lLVdXZ2st7f34/4etFgnQ/EzAcSd7EjtRsD4WKhsLCQ9fb2Nmv5BWsiopWVFdbul7EfHh4ivOPIsM4HYuYD8X0zxWtm8idkZLi/Qy66JSUledbJ7/W6ESTfUCgX1lpbW1VdY2Mja3dDRr6Wxo+Zj3U+EDMfiJkPxJfMl5nsPlnKjJaveSTSR/9kfruvgJSfq6+vZ+2ezTk9PWW9tramxuRK5t3dHWt3s17+W9zM39ra8vxcNFjnAzHzgUQdO/LPU8aCe4SvpKSEdXNzsxqTZ2lkBD09Pam6tLS03/4+qYl0xB0fH6uxvb091uXl5azl9NS9tnzjLVH002gvrPOBmPlAfIkd+b77srIyVSdfUOrOTiorK1m7sySJjAY5y3DjScafnN0QERUUFLA+Pz9n7S6WHRwcsJZfoiDyf0/XOh+ImQ/EzAcSdebL7JWZfHNzo+rkPqh7pFuOyadauepIRHR2dsZaPp2600Sv+yPynhpnZGSoOrn6eXV1pcYs8/8hzHwgvu/hhtsICXcSWf5J+7FoFSnhjibGGut8IGY+EDMfSFyc2/lXsc4HYuYDMfOBmPlAzHwgZj4QMx+ImQ/EzAdi5gMx84GY+UDMfCBmPhAzH4iZD8TMB2LmAzHzgfwHGM1hjutM5rMAAAAASUVORK5CYII=\" y=\"-125.379908\"/>\n   </g>\n   <g id=\"patch_8\">\n    <path d=\"M 10.7 220.379908 \nL 10.7 125.803636 \n\" style=\"fill:none;stroke:#000000;stroke-linecap:square;stroke-linejoin:miter;stroke-width:0.8;\"/>\n   </g>\n   <g id=\"patch_9\">\n    <path d=\"M 105.276271 220.379908 \nL 105.276271 125.803636 \n\" style=\"fill:none;stroke:#000000;stroke-linecap:square;stroke-linejoin:miter;stroke-width:0.8;\"/>\n   </g>\n   <g id=\"patch_10\">\n    <path d=\"M 10.7 220.379908 \nL 105.276271 220.379908 \n\" style=\"fill:none;stroke:#000000;stroke-linecap:square;stroke-linejoin:miter;stroke-width:0.8;\"/>\n   </g>\n   <g id=\"patch_11\">\n    <path d=\"M 10.7 125.803636 \nL 105.276271 125.803636 \n\" style=\"fill:none;stroke:#000000;stroke-linecap:square;stroke-linejoin:miter;stroke-width:0.8;\"/>\n   </g>\n  </g>\n  <g id=\"axes_3\">\n   <g id=\"patch_12\">\n    <path d=\"M 124.191525 101.776271 \nL 218.767797 101.776271 \nL 218.767797 7.2 \nL 124.191525 7.2 \nz\n\" style=\"fill:#ffffff;\"/>\n   </g>\n   <g clip-path=\"url(#p8e412809a9)\">\n    <image height=\"95\" id=\"image0392aa1994\" transform=\"scale(1 -1)translate(0 -95)\" width=\"95\" x=\"124.191525\" xlink:href=\"data:image/png;base64,\niVBORw0KGgoAAAANSUhEUgAAAF8AAABfCAYAAACOTBv1AAADwUlEQVR4nO2cu0srQRTG1+sLQVCwEEEQbA1qoQjWopWxESz9CwSJUSsfCNoqWNhZaOMDNQgWViKCSSCNRdBGEBsRVBBFQnzcW93DnOWubHJ391v1+1XfYSaZ4eNwmN3ZmRLLsn5bBMIv9AR+MjQfCM0HQvOB0HwgNB8IzQdC84HQfCA0HwjNB0LzgdB8IDQfCM0HQvOBlCEHn5iYEF1eXu7qNy0tLaKHhoZcj7W6uir66urKsd/Ozo7oi4sL1/9fDMx8IDQfSIkV4B7u7u6uigcGBoIa2jVvb2+iPz4+HPvt7++LzmQyjv1OTk5UnEqlRDPzgdB8IDQfSKA1P5fLqdjt8rIYtre3VXxzcyO6vr5edCHL1WKYnp5W8fz8vGhmPhCaDySUZae1tVXFt7e3BY/1+Pio4tfX13+OW1NT4/gftbW1Ko7FYq7Gfn9/Fz05OanaXl5eRDPzgdB8IDQfSChrfmNjo4rNZeJ3gpkPhOYDCbTsLCwsqNi+DPtLIpFQ8fDwsOjn52fP54WCmQ+E5gMJtOzU1dWp+ODgQHRnZ6fj75aWlkSPjY15Pi8UzHwgNB8IzQcS6Hc79/f3KjaXnltbW6LtT77t7e2iq6urRX/1ZSczHwjNBxLoUvMzTk9PRXd1dTn2+07LTmY+EJoPhOYDCU3Nb2hoEH12dqbazNcSd3d3oru7u1W/y8tLn2bnD8x8IDQfSGjKjol9M6W3t1d0ZWWl6LW1NdVvZGRE9Fd4+mXmA6H5QEJZduzMzs6Knpqacuy3vLwsenR01McZeQMzHwjNB0LzgUAPQbvFPO2Xz+dFV1RUqH7mKZO9vT3Vdnx87NPsioeZD4TmA/kSS02T8fFx0XNzc6rNLEPpdFq19fT0iDZPhyBh5gOh+UACLTtNTU0qfnp6Ev3w8FDw/9nf+0ciEce+Ztk5OjoqeCw/YOYDoflAaD4Q359w+/v7Rdvv2zk/Pxfd19cn2u0BuI2NDRXPzMyI9vNeB69g5gOh+UB8X2p2dHSINj8JtCzLKi0tFZ3NZkVHo1HVz/xcxNybtb9YM6/QamtrU22Li4ui4/G4q7n7DTMfCM0HQvOB+L7UNDdC7Bscg4ODos2bYu2f/Zk3ux4eHopubm5W/ex13sR+KiYMMPOB0Hwg0M2Uzc1N0WYJ8gJ76TLfal5fX3s6VrEw84HQfCCh2cM1nzqrqqpUm3nb4GflaWVlRXQymVRt6+vr/ztFz2HmA6H5QGg+kNDU/J8IMx8IzQdC84HQfCA0HwjNB0LzgdB8IDQfyB/RPu7MLQ/ZlAAAAABJRU5ErkJggg==\" y=\"-6.776271\"/>\n   </g>\n   <g id=\"patch_13\">\n    <path d=\"M 124.191525 101.776271 \nL 124.191525 7.2 \n\" style=\"fill:none;stroke:#000000;stroke-linecap:square;stroke-linejoin:miter;stroke-width:0.8;\"/>\n   </g>\n   <g id=\"patch_14\">\n    <path d=\"M 218.767797 101.776271 \nL 218.767797 7.2 \n\" style=\"fill:none;stroke:#000000;stroke-linecap:square;stroke-linejoin:miter;stroke-width:0.8;\"/>\n   </g>\n   <g id=\"patch_15\">\n    <path d=\"M 124.191525 101.776271 \nL 218.767797 101.776271 \n\" style=\"fill:none;stroke:#000000;stroke-linecap:square;stroke-linejoin:miter;stroke-width:0.8;\"/>\n   </g>\n   <g id=\"patch_16\">\n    <path d=\"M 124.191525 7.2 \nL 218.767797 7.2 \n\" style=\"fill:none;stroke:#000000;stroke-linecap:square;stroke-linejoin:miter;stroke-width:0.8;\"/>\n   </g>\n  </g>\n  <g id=\"axes_4\">\n   <g id=\"patch_17\">\n    <path d=\"M 124.191525 220.379908 \nL 218.767797 220.379908 \nL 218.767797 125.803636 \nL 124.191525 125.803636 \nz\n\" style=\"fill:#ffffff;\"/>\n   </g>\n   <g clip-path=\"url(#pb276e1ce00)\">\n    <image height=\"95\" id=\"image7d25fda880\" transform=\"scale(1 -1)translate(0 -95)\" width=\"95\" x=\"124.191525\" xlink:href=\"data:image/png;base64,\niVBORw0KGgoAAAANSUhEUgAAAF8AAABfCAYAAACOTBv1AAAFlElEQVR4nO2cyyunfxTHD+N+n5qaEiW5LOxkymTBdpIdJZKFjWQlf8AUSSnFTGqWSDMblzRZoIaQS0qysVAkiYhxv/Pbnd7nk++37/h9n+8xzXmt3k+fT8/zePdxvuc5n0sYET2RoUK49gv8y5j5ipj5ipj5ipj5ipj5ipj5ipj5ipj5ipj5ipj5ipj5ipj5ikRov8D/ITxcjp2oqCjWkZGRoi0sLIx1bGws64uLC9EPr5+evC342shXxMxXJKRhJyJCPi4tLY11bW0t66qqKtEvNTWVNYaah4cH0Q+vz8/PRdvNzc2z93AZGRlh3dPTI9q2trZY39/f+7xHoNjIV8TMVySMPJ7DTUlJYd3f3y/aSkpKWMfFxbH2FxYQNxt5fHxk7S8kvXnzxuezMJwcHh6KtoWFBdazs7Osf/36JfrFxMSwXlpa8vn+NvIVMfMVMfMVCXrMd2Noc3Mz65aWFtGGX6QYvzEtJJJxGNNVjPFERL9//2a9v78v2vb29linp6ezfvfunegXHx/P2v3dwPtfX1+z3t7eFv0SEhJYf/r0SbSdnp6ytpGviJmviOdfuImJiaz9pZAYWr58+SLa+vr6WL9//541pqpERAcHB6wxLSQi2tzcZH13d/fs+xER5eXl+bx/Tk4Oa0xX19fXRT98NoYnFxv5ipj5ipj5igQ91cRJCyKioqIi1oODg6IN0zyMjeXl5aLf5OQka0wvo6OjRT+8dmMtXgc6SeJWYZOTk1ljOQTjP5EsS7jVVcRGviJmviKeVzXxK7a1tVW01dfXs8Y5V0wtiYiamppYX15e+nwWhjw3rcWv1WDMzfp7FoZGf8+yka+Ima+I52EHefv2rbj++fMn6w8fPrB2C2ufP39m/fXrV5/9EDfrwmu3IKeFjXxFzHxFzHxFQhrz3ZQM1+rgGhlMT4nkF2NNTQ1r/PIl8h/L8SsU0z/N+G8jXxEzX5GQhh0XXNMzOjrKGtNOIhkmZmZmWFdXV4t+7jobBItuuK7m7OxM9AtlGLKRr4iZr4iZr4hqzMfUMzMzk/Xw8LDol52dzRp3jmDZgYjo27dvrN0l3LgbBWP+ycmJ6BeMpd+BYiNfETNfEdWwg2AIKi4uFm0/fvxgnZSUxHp3d1f0q6ioYL22tubzWVjhdMOMpZr/CGa+Iq8m7CDuREhdXR3rjo4O1m4BbmhoiHVjY6NowyUc7upjLWzkK2LmK2LmK+J5zMcU8qVpHC7bm5iYYP3x40fRD5d+t7W1ibbOzk7W/ibeQ4mNfEXMfEU83xCHG8zcf/fb29s/vj8W4FZWVkQbbkRzVwfjeQ5jY2OsvT7WxR828hUx8xUJ+oY4d6MAHtfifrlubGywDrSOjhvbent7RVtDQwNrrN8TEVVWVrIeHx9njRlSqLGRr4iZr4iZr4jnm6Ax5hcUFIi2ubk51svLy6z9paCYGnZ3d4s23LSMm9eIiBYXF1l7PWGCv222M+WVYuYrEvSw405UXF1dsXYLYWVlZaxXV1dZDwwMiH6YkmLIwOWGRETT09M+32tqaurZe7wUDC1uCh3oV7ONfEXMfEXMfEWCHvPdeIdHY7mf8nh+DS4LxwlzIrnxGZcL4r2J5O8NTqYTybN4Ak0FXXxtfHbPaMC/01LNV4qZr4jnYWdnZ4c1VhOJiPLz81njpAuuIiaSm6cxvcQjv4jkiuPc3FzR5uuIMX+bpd3KaEZGBuusrCzWx8fHot/8/Dxrf2mtjXxFzHxFPC+s4Vzq9+/fRRue/lRaWsoaDx0lknOzGD7csIDFua6uLtF2dHTEGkOBG3awIOeeLlhYWMi6vb2dtRt2AsVGviJmviJmviKvcol4oLiT9YEer/XS+wf7zAYb+YqY+Yr81WHnb8dGviJmviJmviJmviJmviJmviL/AQ0q5koIDun/AAAAAElFTkSuQmCC\" y=\"-125.379908\"/>\n   </g>\n   <g id=\"patch_18\">\n    <path d=\"M 124.191525 220.379908 \nL 124.191525 125.803636 \n\" style=\"fill:none;stroke:#000000;stroke-linecap:square;stroke-linejoin:miter;stroke-width:0.8;\"/>\n   </g>\n   <g id=\"patch_19\">\n    <path d=\"M 218.767797 220.379908 \nL 218.767797 125.803636 \n\" style=\"fill:none;stroke:#000000;stroke-linecap:square;stroke-linejoin:miter;stroke-width:0.8;\"/>\n   </g>\n   <g id=\"patch_20\">\n    <path d=\"M 124.191525 220.379908 \nL 218.767797 220.379908 \n\" style=\"fill:none;stroke:#000000;stroke-linecap:square;stroke-linejoin:miter;stroke-width:0.8;\"/>\n   </g>\n   <g id=\"patch_21\">\n    <path d=\"M 124.191525 125.803636 \nL 218.767797 125.803636 \n\" style=\"fill:none;stroke:#000000;stroke-linecap:square;stroke-linejoin:miter;stroke-width:0.8;\"/>\n   </g>\n  </g>\n  <g id=\"axes_5\">\n   <g id=\"patch_22\">\n    <path d=\"M 237.683051 101.776271 \nL 332.259322 101.776271 \nL 332.259322 7.2 \nL 237.683051 7.2 \nz\n\" style=\"fill:#ffffff;\"/>\n   </g>\n   <g clip-path=\"url(#p5378551ad2)\">\n    <image height=\"95\" id=\"image629418e69f\" transform=\"scale(1 -1)translate(0 -95)\" width=\"95\" x=\"237.683051\" xlink:href=\"data:image/png;base64,\niVBORw0KGgoAAAANSUhEUgAAAF8AAABfCAYAAACOTBv1AAACuElEQVR4nO3cvYoiQRQF4BpdIwMxEATNxTcQNBFjEVEQfAHBRDDwFQTxSUwM/ElFNBRUTAw1ExMjxUR2o71T1TjD7Ox2ny73fNFtq4PL4VKU7c+bUuqnIogAuoH/GcMHYvhADB+I4QMxfCCGD8TwgRg+EMMHYvhADB+I4QP9QDfwWygUkno+nxtr5/NZ6nq9LvXtdnO/MRdx8oEYPpAvt51oNGqsZTIZqVutltTdbtf9xlzEyQdi+EC+2Xb0k8t0OjXWUqmU1NVqVeper2fc93g8XOrOHZx8IIYPxPCB3pQPv7eTy+WM69lsJnUwGJS6UCh8eJ8NOPlADB/IN0dN3XK5NK5Pp5PUiUTC63Zcw8kHYvhADB/Il3u+03g8lrrRaEhdLBaN+3jUpC9j+EBWbDvH4/Hp684PXWzDyQdi+EC+fLDmFI/Hpd5sNlJfLhfjvnQ67VVL/wQnH4jhAzF8ICuOmvpTzcViIXWlUjHuK5fLUg+HQ/cb+0ucfCCGD2TFtqPbbrdS69/hcV5z26FPMXwghg9kxeMFnf518clkYqwdDgeps9mssXa/313t6zs4+UAMH8i6bUfX7/eN63a7LXWpVDLWRqORJz39CU4+EMMHsu4drm6323241ul0jGtuO2Rg+EAMH8jqPd/5Hw26WCzmYSffw8kHYvhAVm87+oM0pZRarVZSO7edcDgs9fV6dbWvr+LkAzF8IKsfrDnpn+EOBgNjLZ/PS/3ZKclLnHwghg/E8IGsPmo67fd7qZ3HyVqtJjX3fGL4SC911NQ5/3mw2WxKHYlEvG7nKU4+EMMHYvhAL3XU1Om/WlTKfKrpl1+wcPKBGD7Qy2476/XauA4E3ucsmUx63c5TnHwghg/0su9wbcDJB2L4QAwfiOEDMXwghg/E8IEYPhDDB2L4QAwfiOEDMXygX7JvhHNyYVMPAAAAAElFTkSuQmCC\" y=\"-6.776271\"/>\n   </g>\n   <g id=\"patch_23\">\n    <path d=\"M 237.683051 101.776271 \nL 237.683051 7.2 \n\" style=\"fill:none;stroke:#000000;stroke-linecap:square;stroke-linejoin:miter;stroke-width:0.8;\"/>\n   </g>\n   <g id=\"patch_24\">\n    <path d=\"M 332.259322 101.776271 \nL 332.259322 7.2 \n\" style=\"fill:none;stroke:#000000;stroke-linecap:square;stroke-linejoin:miter;stroke-width:0.8;\"/>\n   </g>\n   <g id=\"patch_25\">\n    <path d=\"M 237.683051 101.776271 \nL 332.259322 101.776271 \n\" style=\"fill:none;stroke:#000000;stroke-linecap:square;stroke-linejoin:miter;stroke-width:0.8;\"/>\n   </g>\n   <g id=\"patch_26\">\n    <path d=\"M 237.683051 7.2 \nL 332.259322 7.2 \n\" style=\"fill:none;stroke:#000000;stroke-linecap:square;stroke-linejoin:miter;stroke-width:0.8;\"/>\n   </g>\n  </g>\n  <g id=\"axes_6\">\n   <g id=\"patch_27\">\n    <path d=\"M 237.683051 220.379908 \nL 332.259322 220.379908 \nL 332.259322 125.803636 \nL 237.683051 125.803636 \nz\n\" style=\"fill:#ffffff;\"/>\n   </g>\n   <g clip-path=\"url(#p9cc84aa17b)\">\n    <image height=\"95\" id=\"image5a3966603e\" transform=\"scale(1 -1)translate(0 -95)\" width=\"95\" x=\"237.683051\" xlink:href=\"data:image/png;base64,\niVBORw0KGgoAAAANSUhEUgAAAF8AAABfCAYAAACOTBv1AAAD7ElEQVR4nO2czSt1URTG99UbShGJ8pkyEQNEUYqJGUMTMyb+Av+OgYGPgYEykmIgI0XdJIoIA4WQie93ZLXWrns673nPOc+51/MbPVqra/e07rLsvc/JOee+HYFQhl7Ab4bmA6H5QGg+EJoPhOYDoflAaD4Qmg/kD3oBP+RyOdEVFRUFY6+vr6K/vr6SX1iCsPKB0HwgNB8ItOfrXl5bWyt6cnLS5LW1tYleXl4WfX5+bvKK7W8AKx8IzQeSmVGzurpa9MzMjIn19vaKrq+vFz0/P2/y3t7ekllcQrDygdB8IDmXkTNcPe1sbm6a2MDAgOjLy0vR/f39Ju/h4SHU79JTltbOpTsxsfKB0HwgNB9IZkbN5+dn0WtraybW19cnuqGhQXRTU5PJi9Lzy8oK11/S/Z+VD4TmA8lM2/n8/BS9uLhoYnNzc6IbGxtFj4yMmLyjoyPR39+FJ+igUTNNWPlAaD4Qmg8kMz1f44+Mu7u7ovVBy9DQkMlbWFgQHXaHkz3/l0LzgcTedvyvcdDIVwg9djrn3NbWluixsTHRXV1dJk8fyNzf3xdch/7P1V9flPVGhZUPhOYDSXza0W0o7Ffaz8vn86JfXl5E19XVmbzOzk7R/sSkPzNoHWw7vwSaD4TmA4m958fRM/1DjJubG9EnJyeiBwcHTV53d7fo/f39wM/8Ic0e78PKB0LzgWRyY81vEY+Pj6L39vZE+xtr+ufV1VUT0yNqEFFG46iw8oHQfCA0H0iqdzWj7njquzXDw8Oil5aWTJ6++zM1NWVip6enooPu46R5j5OVD4TmA8nMA3FhdxrPzs5EPz09mbzW1lbRo6OjJqYfngt7vpv0VUJWPhCaDyQzbUcTdK6qW8329rbJm52dFT0xMWFiKysrosO2Hd5SLmFoPhCaDyQzPV9rv9fqnv/+/i56Z2fH5E1PT4v2n1qpqakR7Y+ohX5X2PVG3f1k5QOh+UCgbed/rxIeHByY2MXFhejKykoT023o6uoq1Bp4mFLC0HwgmTnDjXKd7/b21sTW19dFj4+Pm1hHR4dofa3k4+Mj0hrjgJUPhOYDoflAim7U1Oi3yzrn3MbGhuiWlhYTa25uFl1VVSVan/vGsaZ/gZUPhOYDSbXtJP2Vvru7E+0/ENfT0yO6vb1d9PHxscnTG3dJw8oHQvOB0HwgmdleiIJ/AK9/9q+El5eXi9avDbu+vjZ5+jo6D9BLGJoPpOjaTtAtYj0mHh4emph+KFpfOfTf85DmK2BY+UBoPpDMvMg6boImoaDWEvQ6mLhh5QOh+UBoPpCS7fnFACsfCM0HQvOB0HwgNB8IzQdC84HQfCA0H8hfvLZbG1RflsMAAAAASUVORK5CYII=\" y=\"-125.379908\"/>\n   </g>\n   <g id=\"patch_28\">\n    <path d=\"M 237.683051 220.379908 \nL 237.683051 125.803636 \n\" style=\"fill:none;stroke:#000000;stroke-linecap:square;stroke-linejoin:miter;stroke-width:0.8;\"/>\n   </g>\n   <g id=\"patch_29\">\n    <path d=\"M 332.259322 220.379908 \nL 332.259322 125.803636 \n\" style=\"fill:none;stroke:#000000;stroke-linecap:square;stroke-linejoin:miter;stroke-width:0.8;\"/>\n   </g>\n   <g id=\"patch_30\">\n    <path d=\"M 237.683051 220.379908 \nL 332.259322 220.379908 \n\" style=\"fill:none;stroke:#000000;stroke-linecap:square;stroke-linejoin:miter;stroke-width:0.8;\"/>\n   </g>\n   <g id=\"patch_31\">\n    <path d=\"M 237.683051 125.803636 \nL 332.259322 125.803636 \n\" style=\"fill:none;stroke:#000000;stroke-linecap:square;stroke-linejoin:miter;stroke-width:0.8;\"/>\n   </g>\n  </g>\n  <g id=\"axes_7\">\n   <g id=\"patch_32\">\n    <path d=\"M 351.174576 101.776271 \nL 445.750847 101.776271 \nL 445.750847 7.2 \nL 351.174576 7.2 \nz\n\" style=\"fill:#ffffff;\"/>\n   </g>\n   <g clip-path=\"url(#p0431b73203)\">\n    <image height=\"95\" id=\"image4ff0878dfe\" transform=\"scale(1 -1)translate(0 -95)\" width=\"95\" x=\"351.174576\" xlink:href=\"data:image/png;base64,\niVBORw0KGgoAAAANSUhEUgAAAF8AAABfCAYAAACOTBv1AAAD6ElEQVR4nO2czSttURjG9+H6D5gYIJQy9ZGBjzJCSOrkTGTGQMhQSkwMZSKiDCVFQtKZKcUZGJj4mjGRMFAy8nFHXu9a3X06d5+9zrPv9fxGz+pdZ+3V09u719lrrx3zPO/TIxDy0BP4ydB8IDQfCM0HQvOB0HwgNB8IzQdC84HQfCA0HwjNB0LzgfxCT+CLtrY20YODg0asq6tL9M7Ojujl5WWjXywWE31+fm7Ebm9vQ5lnmDDzgdB8IDEvh5spzc3NRrunp0f02NiY6I+Pj0Dj5+V959Lo6KgRW1hYCDSmS5j5QGg+EOdlp7S0VPTx8bERKyoqEq1LRhhl5/7+3ohdXFyI1qupu7s7o9/r62ugaweBmQ+E5gOh+UCc/8Pt7e0VrWu8a+xr6fbl5aXopaUlo9/IyIjbiSmY+UBoPhDnS83r62vRFRUVvv06Ozt9Y/oBWnFxsW+/MJar+fn5gX4XBGY+EJoPhOYDcV7zr66uRJeXl/v2KygoyPpa+/v7oquqqoxYSUlJRmMcHByI1ps4LmDmA6H5QCKzhxsGHR0doufn543Y8PBwRmNUV1eLbmxsNGJHR0fBJ/cHmPlAaD6Q/2q1o7EfrOlysr6+LrqwsNDol25DpqGhQXQYr6Iw84HQfCA0H4jzpebu7q5o/W6Oax4eHoz24eGh6NnZWdFzc3O+Y9j3jbDvS8x8IDQfiPOlZmVlpWi97LTJ5SZGWVmZ6I2NDSNWV1cn2t6QWVtbE93f35/1PJj5QGg+EJoPJKdPNdNtaqdSKdHxeNyIhX2q5PPz+zZnz0m37dj09HSo82DmA6H5QCKzmVJbWyt6dXXViCUSCdGPj49ZX6u7u1t0TU1N1uMFhZkPhOYDcV523t7eRNslw97I+KKlpcVon5yciN7c3BQ9MzNj9Et3qkSfkJmYmPDtp8eYmpoyYmGvupj5QGg+EJoPJKeHoO1arpeU+kljpq9326dKksmk6OfnZyPW2toqenJy0ndMfXh6cXExo3kEhZkPhOYDyWnZsdFvFbe3t4sOeqrk6elJ9MvLixHTS8108GTKD4HmA4GWHc37+7voML69kG6Mm5sb0X19fUbs9PQ00LWDwMwHQvOB0HwgkdlMGR8fF60//+V5ntfU1PTX421tbRltfark7OxMdC5rvA0zHwjNBxKZpabGfjt4e3tbdH19ve/v+HVBkjE0HwjNBxKZpabGPlUyMDAgWn+i8V+HmQ+E5gOJZNmx0V99XVlZET00NGT00/9W9/b23E8sS5j5QGg+kEj+w/0pMPOB0HwgNB8IzQdC84HQfCA0HwjNB0LzgdB8IDQfCM0HQvOB/AZOXP56h+bY9AAAAABJRU5ErkJggg==\" y=\"-6.776271\"/>\n   </g>\n   <g id=\"patch_33\">\n    <path d=\"M 351.174576 101.776271 \nL 351.174576 7.2 \n\" style=\"fill:none;stroke:#000000;stroke-linecap:square;stroke-linejoin:miter;stroke-width:0.8;\"/>\n   </g>\n   <g id=\"patch_34\">\n    <path d=\"M 445.750847 101.776271 \nL 445.750847 7.2 \n\" style=\"fill:none;stroke:#000000;stroke-linecap:square;stroke-linejoin:miter;stroke-width:0.8;\"/>\n   </g>\n   <g id=\"patch_35\">\n    <path d=\"M 351.174576 101.776271 \nL 445.750847 101.776271 \n\" style=\"fill:none;stroke:#000000;stroke-linecap:square;stroke-linejoin:miter;stroke-width:0.8;\"/>\n   </g>\n   <g id=\"patch_36\">\n    <path d=\"M 351.174576 7.2 \nL 445.750847 7.2 \n\" style=\"fill:none;stroke:#000000;stroke-linecap:square;stroke-linejoin:miter;stroke-width:0.8;\"/>\n   </g>\n  </g>\n  <g id=\"axes_8\">\n   <g id=\"patch_37\">\n    <path d=\"M 351.174576 220.379908 \nL 445.750847 220.379908 \nL 445.750847 125.803636 \nL 351.174576 125.803636 \nz\n\" style=\"fill:#ffffff;\"/>\n   </g>\n   <g clip-path=\"url(#p07ef93d579)\">\n    <image height=\"95\" id=\"image5672e816c3\" transform=\"scale(1 -1)translate(0 -95)\" width=\"95\" x=\"351.174576\" xlink:href=\"data:image/png;base64,\niVBORw0KGgoAAAANSUhEUgAAAF8AAABfCAYAAACOTBv1AAAFM0lEQVR4nO2cSyh1bRTHn8PrnkvkMpFiIIoSioyYIJkYiRRKJqIMhJTIxEApGSu3jEiRW8oEGUiJgdyviYTc799snbWe7N2JvS3v+63f6L9bz9ln+7es81y3Qyn1oQQW3Lgf4P+MmM+ImM+ImM+ImM+ImM+ImM+ImM+ImM+ImM+ImM+ImM+ImM/IH84vd3d3B52QkAC6uLiYtPP19QW9t7cHemZmhrRbW1sD/fr6atVj2oZkPiNiPiM/WnaCg4PJ9ezsLGhcdnA5MkMvLbgkVVRUkNji4iLop6cnl+5vN5L5jIj5jDiUzWu4uKcyNTVFYunp6aBdLTVmfHw4/xS9tOCeUVVVFejDw0PDe9iNZD4jYj4jYj4jltd8h8NBrouKikB3dXWRWGBg4Kf3eHl5Mby/h4eH4XeZ8f7+Dvr4+Bh0Xl4eabe+vg7a7vovmc+ImM+I5WXH09OTXA8ODoLOzc01/NzExATo5uZmEru7uwNdWloKury8nLQLCwszfA5conA5ubi4IO0yMzNB44k6O5DMZ0TMZ0TMZ8Tymh8aGkqu8ZRCbGwsiV1fX4POysoCvbGxYXh/Ly8v0GlpaSRWUFAAuqSkhMSCgoJMntoJ/u6MjAwS038fvotkPiNiPiOWL6boo86HhwfQ+uLH5uYm6PPzc5fu//b2Bnp1dZXEcNdweXmZxDo7O0GblaCYmBjQdXV1JNbQ0AAaj5i/imQ+I2I+I5aXnfv7e8NrXIKUoiNXfUTqCjc3N+Qal4KBgQES293dBT08PAxaX1d2c3PmY05ODom1traCxs/+VSTzGRHzGRHzGbG85j8/P5Prra0t0ElJSSSGZyH9/PxA691VXMvNtgGaLX7Mz8+D7ujoAN3Y2Eja+fj4gA4PDycx/LskNf8vR8xnxPKyo5cF/O+JJ8WUUioyMhJ0SkoK6J2dHcP7f3VdFY+Mp6enQdfW1pJ23t7eoPW9RLg0Xl5efuk5MJL5jIj5jIj5jFhe8/WavLS0BLqyspLEAgICQNfX14OenJwk7a6urr79XLj76u/vDxpPJ+jg34nPrr+LZD4jYj4jtpedubk50PosJF7vjY+PB93X10faFRYWgsazpGYlQweXmuzsbNBms6n6tkV9Vva7SOYzIuYzYvuBODwSHB8fJ7GysjLng/xxPoq+rbC3txd0TU0NaP30CZ4U0xdJ8vPzQaempoLW12LxxODKygqJ3d7eKiuRzGdEzGdEzGfE9tOImKioKHKN99aEhIQYfg6PLPf390GPjY2RdvjUir4QEhcXBxrv28GnJZVSant7G3R1dTWJLSwsgLbi1IpkPiNiPiM/Wnb0tVl8yqS7uxs07jLq4H/3x8dHEjN7pwIeDWOt7zxuaWkBPTQ0RGIywv2HEPMZ+dGyo4MntfAuYv11LXj0i9F7HHi0qm9hwZN6R0dHoNvb20m7kZER0Gbnga1AMp8RMZ8RMZ8R1pqPiYiIAI23cCtF9/TgUawO3jN0dnZGYviQdVtbG+iDgwPSzooTJ64imc+ImM/Iryk7eNSZmJhIYnikGR0d/elnlKLru6OjoyTW1NQEGpean3ytl45kPiNiPiNiPiOsL7LG4NqLF0yUUqqnpwc0fscO3oujFJ2h7O/vJ7GTk5NPv4sTyXxGxHxGfmXZ0bcV4m4j3juTnJxM2uFTMKenpyRm9Q5jK5DMZ0TMZ+TXjHBdBa8D62vCuHT9lh6NGZL5jIj5jIj5jPx1Nf9fQjKfETGfETGfETGfETGfETGfETGfETGfETGfkf8ATkGu5pyb/vcAAAAASUVORK5CYII=\" y=\"-125.379908\"/>\n   </g>\n   <g id=\"patch_38\">\n    <path d=\"M 351.174576 220.379908 \nL 351.174576 125.803636 \n\" style=\"fill:none;stroke:#000000;stroke-linecap:square;stroke-linejoin:miter;stroke-width:0.8;\"/>\n   </g>\n   <g id=\"patch_39\">\n    <path d=\"M 445.750847 220.379908 \nL 445.750847 125.803636 \n\" style=\"fill:none;stroke:#000000;stroke-linecap:square;stroke-linejoin:miter;stroke-width:0.8;\"/>\n   </g>\n   <g id=\"patch_40\">\n    <path d=\"M 351.174576 220.379908 \nL 445.750847 220.379908 \n\" style=\"fill:none;stroke:#000000;stroke-linecap:square;stroke-linejoin:miter;stroke-width:0.8;\"/>\n   </g>\n   <g id=\"patch_41\">\n    <path d=\"M 351.174576 125.803636 \nL 445.750847 125.803636 \n\" style=\"fill:none;stroke:#000000;stroke-linecap:square;stroke-linejoin:miter;stroke-width:0.8;\"/>\n   </g>\n  </g>\n  <g id=\"axes_9\">\n   <g id=\"patch_42\">\n    <path d=\"M 464.666102 101.776271 \nL 559.242373 101.776271 \nL 559.242373 7.2 \nL 464.666102 7.2 \nz\n\" style=\"fill:#ffffff;\"/>\n   </g>\n   <g clip-path=\"url(#p6014bf9d1c)\">\n    <image height=\"95\" id=\"image40f60d2330\" transform=\"scale(1 -1)translate(0 -95)\" width=\"95\" x=\"464.666102\" xlink:href=\"data:image/png;base64,\niVBORw0KGgoAAAANSUhEUgAAAF8AAABfCAYAAACOTBv1AAADkElEQVR4nO2dPUgrURCFNxKQFGkkiHYSLSwUAqkErQ1YWMTGQrCziohgY6mFlYKF2NmqxEYCESstBS39qSxSiOJPKiWGiLF68+5cEklk7x7fvvNVZ5x9u8NhnHdzN7tGPM+rewRCB7qA/xmaD4TmA6H5QGg+EJoPhOYDoflAaD6QKLoAVxQKBRVvbGyIPjk5CbqchrDzgdB8IDQfSMQL6a7mw8ODiqPRv/+9ra6uit7c3AysJht2PhCaDyS0Y2dtbU3FS0tLoiuViuh4PB5YTTbsfCA0H0hoP+G+v783zcVisQAraQ47HwjNB0LzgYR25kcikW/j3wA7HwjNBxLasVOv17+N/zA0NKTiy8tLZzXZsPOB0HwgNB8IdOanUinRAwMDbf/7g4ODprlkMtnSOYKc8TbsfCA0H4jzsTM4OCh6ZWVF5SYmJkR3dna2fe7n52cVm8vJRCLR0jnsHU7zRotr2PlAaD4Q5/dw9/f3RWezWZU7Pz8XbX6dr1XsT6fmCqevr0/lRkZGGp4jl8upeHt7u+06fgo7HwjNB0Lzgfi+1LSXbv39/aKvrq5Uzlxqlsvltq+Vz+eb5rq7u1V8f3/f8LiODlz/sfOB0Hwgvo8d++t35ubZ7u6uyv1k1LTK4+Ojis1NOHPJOzo6qo7b2tpyVpMNOx8IzQdC84H4PvOr1aqK7+7uRE9PT6vczMyM35dvyu3tbcOf21sUQcLOB0LzgUB3Nc0dRde7ieYu59nZmeiuri513Pj4uGjXD0uz84HQfCDOx87U1JTonZ0dlSuVSqKHh4ddlqFYX18XvbCwoHKnp6eiM5mMytVqNV/rYOcDoflAaD6QQB+C3tvbU/Hk5KTosbEx0RcXF07rMJeXLy8vKvf5+Sm6p6dH5Z6ennytg50PhOYDCXTs2JtY5rLO/PVPp9PquNfXV2c1mTV4nr650tvbq3IcOyGC5gMJ9OEI+0EEc3//6OhI9PLysjrOjv3k8PBQxfY9XZew84HQfCA0Hwj0NV/mG//MGxf2w3H2ks9PZmdnVby4uCja/lr529ubr9dm5wOh+UCgz+F+fHyILhaLoufn5wOrwf40fX19LdrvMWPDzgdC84HQfCC/5n07x8fHoufm5gK7rv1HDm5ubgK7NjsfCM0HEtoXWf8LsPOB0HwgNB8IzQdC84HQfCA0HwjNB0LzgdB8IDQfCM0HQvOB0HwgNB8IzQfyBYxMzGenufu/AAAAAElFTkSuQmCC\" y=\"-6.776271\"/>\n   </g>\n   <g id=\"patch_43\">\n    <path d=\"M 464.666102 101.776271 \nL 464.666102 7.2 \n\" style=\"fill:none;stroke:#000000;stroke-linecap:square;stroke-linejoin:miter;stroke-width:0.8;\"/>\n   </g>\n   <g id=\"patch_44\">\n    <path d=\"M 559.242373 101.776271 \nL 559.242373 7.2 \n\" style=\"fill:none;stroke:#000000;stroke-linecap:square;stroke-linejoin:miter;stroke-width:0.8;\"/>\n   </g>\n   <g id=\"patch_45\">\n    <path d=\"M 464.666102 101.776271 \nL 559.242373 101.776271 \n\" style=\"fill:none;stroke:#000000;stroke-linecap:square;stroke-linejoin:miter;stroke-width:0.8;\"/>\n   </g>\n   <g id=\"patch_46\">\n    <path d=\"M 464.666102 7.2 \nL 559.242373 7.2 \n\" style=\"fill:none;stroke:#000000;stroke-linecap:square;stroke-linejoin:miter;stroke-width:0.8;\"/>\n   </g>\n  </g>\n  <g id=\"axes_10\">\n   <g id=\"patch_47\">\n    <path d=\"M 464.666102 220.379908 \nL 559.242373 220.379908 \nL 559.242373 125.803636 \nL 464.666102 125.803636 \nz\n\" style=\"fill:#ffffff;\"/>\n   </g>\n   <g clip-path=\"url(#p28cc3a6a96)\">\n    <image height=\"95\" id=\"image9f41c1dbfb\" transform=\"scale(1 -1)translate(0 -95)\" width=\"95\" x=\"464.666102\" xlink:href=\"data:image/png;base64,\niVBORw0KGgoAAAANSUhEUgAAAF8AAABfCAYAAACOTBv1AAAFJElEQVR4nO2dSS90WxSGl76LPtoICRJEbyIGEgbCSBgZGpuZ+QH+gl9AMDWQMDCRaCK6SAz10URP9P2drfuufVXd+u49Veurz3pGr+zl1PFm13v22XufI4KIvshQIVL7BH4yZr4iZr4iZr4iZr4iZr4i0don4CURERGso6Pln/b19feI+v39PWTn5A/r+YqY+YqEdexgzBARJSYmsi4pKRFtMTExrHd3d1lfXV0F6ez+Hev5ipj5ipj5ioR15kdGyr6TlpbGurOzU7QVFRWxnp2dZT01NSXq8BqAw9NgYD1fETNfkbCOnY+PD/Hz29sb6+rqatFWU1PDGoeoy8vLou7m5sbn8b3Ger4iZr4iYR07Lre3t6zdkVB+fj7r5uZm1sPDw6Jua2srSGf3T6znK2LmK2LmK/LbZL47Q4kEeqeJQ02cuSSSiyt5eXmsy8rKRN3CwkJAn+UF1vMVMfMVCXrsYJy4w7+oqKhvtbv++vr6yhqj5fPz0+fx0tPTRRseE8/D/Sz3mMHEer4iZr4iZr4inme+m+uxsbGscYGbiKigoIB1bm7ut5pIZvni4iLro6MjUYeLKQ0NDaINF9DxGnJ5eSnqgr2AgljPV8TMV8ST2MFYSE5OFm2lpaWsKyoqRBvGDu6zycnJEXUZGRmsW1paWM/NzYm6lJQU1sXFxaINh7wYLRY7PxQzXxHPY6ewsFC04RYOnNAiItrb22ON2zmenp5EXVJSEmuMpOfnZ1GHx3fbME78TeKFEuv5ipj5ipj5iniS+ZihuC2PiKiurs7n742MjLBeXV1l/fLyIuowr/3NSOK1Ae92iYj6+vpY48xlVlaWqPM1JA0G1vMVMfMV8SR28Ov5+Pgo2nBR4+7uTrTt7+9/+3v+vu64hQ8XVojkEHVwcFC0NTU1sa6srGTd3t4u6iYmJli7w1WvsZ6viJmviJmviCeZjzl8fX0t2jDL3eFffHy8Fx//Lbhvk4hofHycNV4PWltbRR0uwuDCDZH3Q0/r+YqY+Yp4Ejt4x3hwcCDa5ufnWXd3d4u2+vp61js7O6zdIeT/PSciounpadYDAwOss7OzRV1/fz/rtbU10eb10NN6viJmviKe3+HiA2VEcsTQ0dEh2np7e1nj7uDDw0NRhxES6G5mt+709JT10tIS67a2NlFXW1vLOjU1VbRZ7PxBmPmKmPmKeL5d0H2F1sbGBuvj42PRVlVVxbqnp4f10NCQqPOVte7WRMx5d6iJx8BFHBzuEhE9PDywdhf8z87OWHtxt2s9XxEzX5GgP5mCQ8+VlRXRhu9HaGxsZD02NibqTk5OWOPX3Y0WN4YQnPxbX19nPTMzI+pw8s+Nnc3NTdZevKHQer4iZr4iQY8djAZ3fryrq4s1TnC5I5CLiwvW7rYSxN8rWjCu8HiTk5OiDndV4zZIIqK4uDjWFjthjpmviJmvSEjfveA+wIav2MK73fLyclGHQ9Tz83PWv/IaLsx8XKzZ3t4WdbgF8f7+XrThQ3U4rP2vD05bz1fEzFck6LGD0YB3qkREo6OjrHE7n/ty6czMTNa4JcTf0ycuvnYf47CTSD6j68YaDi8tdsIcM18RM1+RCArhv+dzZx3xXQy4WJ2QkCDqcGs5zpJiPhMFnvk4nMQpA7fOnULAn/F6YJkfhpj5ioQ0dvyBX/dA9+Z4sY76Kw9E2y7lPwgzX5HfJnZ+ItbzFTHzFTHzFTHzFTHzFTHzFTHzFTHzFTHzFTHzFTHzFTHzFTHzFfkLcFrAbS3BI/EAAAAASUVORK5CYII=\" y=\"-125.379908\"/>\n   </g>\n   <g id=\"patch_48\">\n    <path d=\"M 464.666102 220.379908 \nL 464.666102 125.803636 \n\" style=\"fill:none;stroke:#000000;stroke-linecap:square;stroke-linejoin:miter;stroke-width:0.8;\"/>\n   </g>\n   <g id=\"patch_49\">\n    <path d=\"M 559.242373 220.379908 \nL 559.242373 125.803636 \n\" style=\"fill:none;stroke:#000000;stroke-linecap:square;stroke-linejoin:miter;stroke-width:0.8;\"/>\n   </g>\n   <g id=\"patch_50\">\n    <path d=\"M 464.666102 220.379908 \nL 559.242373 220.379908 \n\" style=\"fill:none;stroke:#000000;stroke-linecap:square;stroke-linejoin:miter;stroke-width:0.8;\"/>\n   </g>\n   <g id=\"patch_51\">\n    <path d=\"M 464.666102 125.803636 \nL 559.242373 125.803636 \n\" style=\"fill:none;stroke:#000000;stroke-linecap:square;stroke-linejoin:miter;stroke-width:0.8;\"/>\n   </g>\n  </g>\n  <g id=\"axes_11\">\n   <g id=\"patch_52\">\n    <path d=\"M 578.157627 101.776271 \nL 672.733898 101.776271 \nL 672.733898 7.2 \nL 578.157627 7.2 \nz\n\" style=\"fill:#ffffff;\"/>\n   </g>\n   <g clip-path=\"url(#pa9ab92427d)\">\n    <image height=\"95\" id=\"image7b38309abc\" transform=\"scale(1 -1)translate(0 -95)\" width=\"95\" x=\"578.157627\" xlink:href=\"data:image/png;base64,\niVBORw0KGgoAAAANSUhEUgAAAF8AAABfCAYAAACOTBv1AAADAklEQVR4nO2csWoqQRSGN8mNBpuIWgVJlVKrCIK9jRZirUU6UYQ8QLDTR/AJUqQRizRiK1ipkMLWQrBUtBOMaKp77sySvYjX9d/J/b/qH2YSDh+Hw84ac2FZ1t4iEC7RBfzPUD4QygdC+UAoHwjlA6F8IJQPhPKB/EIX8B13d3faul6vSx6NRpKbzebZanIDdj4QygdC+UA8M/Ovrq4kNxoNbe/p6enbc5z55GgoH4hnxs7l5Z8+SCQSjuceHh7OUc5ZYOcDoXwgnhk7n5+fkieTibYXi8Uk39zcSL6+vnb8HSbAzgdC+UAoH4hnZr5Kt9vV1rlcTvL9/b3k29tb7dx8Pne3sBPDzgdC+UA8OXYWi4XjXiQSkfz8/Kzt1Wo112pyA3Y+EMoHQvlALiwP/ol4NBrV1tPpVLL69nM8Hmvn4vG4u4WdGHY+EMoH4smxY+f19VVysViUvFqttHPpdFrycDh0va5/hZ0PhPKBePKGa6fVaklWx04wGNTOlUolyRw75K9QPhDKB2LEzFffcu52O8nqbdey9EdNE2DnA6F8IEbccFWcbruWpd947S/ZZrOZq3UdAzsfCOUDoXwgRjxqqqivDewzX33dUC6Xtb2XlxdX6zoGdj4Qygdi3KNmKpWS3O/3Hc8tl0ttHQqFXKvpWNj5QCgfiHFjR8U+dtSRtNlstL1kMin54+PD1boOhZ0PhPKBUD4Q4264Kr1eT1urM9/n82l76v9zyGaz7hZ2IOx8IJQPxOhHTfv/aBgMBo5nt9utZPuXp1Gw84FQPhCjx47f79fW6o338fHR8ecymYzkTqdz+sIOhJ0PhPKBUD4Qo2e+nXw+L7ndbjuee3t7k1woFLS9/f58Otj5QCgfyI8aO+FwWLL9AxP7d3t/EwgEtPV6vT55XU6w84FQPhDKB2L0hyl21G+wVCoVbe/9/V1ytVqVbP+g/Zyw84FQPpAf9ahpGux8IJQPhPKBUD4QygdC+UAoHwjlA6F8IJQPhPKBUD4QygdC+UAoHwjlA/kCXBiSKdrbqi8AAAAASUVORK5CYII=\" y=\"-6.776271\"/>\n   </g>\n   <g id=\"patch_53\">\n    <path d=\"M 578.157627 101.776271 \nL 578.157627 7.2 \n\" style=\"fill:none;stroke:#000000;stroke-linecap:square;stroke-linejoin:miter;stroke-width:0.8;\"/>\n   </g>\n   <g id=\"patch_54\">\n    <path d=\"M 672.733898 101.776271 \nL 672.733898 7.2 \n\" style=\"fill:none;stroke:#000000;stroke-linecap:square;stroke-linejoin:miter;stroke-width:0.8;\"/>\n   </g>\n   <g id=\"patch_55\">\n    <path d=\"M 578.157627 101.776271 \nL 672.733898 101.776271 \n\" style=\"fill:none;stroke:#000000;stroke-linecap:square;stroke-linejoin:miter;stroke-width:0.8;\"/>\n   </g>\n   <g id=\"patch_56\">\n    <path d=\"M 578.157627 7.2 \nL 672.733898 7.2 \n\" style=\"fill:none;stroke:#000000;stroke-linecap:square;stroke-linejoin:miter;stroke-width:0.8;\"/>\n   </g>\n  </g>\n  <g id=\"axes_12\">\n   <g id=\"patch_57\">\n    <path d=\"M 578.157627 220.379908 \nL 672.733898 220.379908 \nL 672.733898 125.803636 \nL 578.157627 125.803636 \nz\n\" style=\"fill:#ffffff;\"/>\n   </g>\n   <g clip-path=\"url(#p10862d2f5c)\">\n    <image height=\"95\" id=\"imagea912f4889f\" transform=\"scale(1 -1)translate(0 -95)\" width=\"95\" x=\"578.157627\" xlink:href=\"data:image/png;base64,\niVBORw0KGgoAAAANSUhEUgAAAF8AAABfCAYAAACOTBv1AAAEEElEQVR4nO2duy8tURTG9/GIVyQoPCISCo0gQig8SoVCoRQ6tX9D5U9QEa0QiUSioJHQaEgQChGJgkIiXvHq1l1rX2fu3OPs+Ybz/apP1s7YvqxZ2bP3mpFxzn04AqEIPYFChuYDoflAaD4Qmg+E5gMpQU/gK4qKbE5kMhnRb29vSU8nGMx8IDQfSGrKTkVFhei+vj4Ta2xsFH1wcCD64uLCjHt9fQ00uzAw84HQfCA0H0jGAXc19ZKyo6ND9Pz8vBnX1tYmenV1VfTc3JwZd3d3l+cZhoWZD4TmA4EuNT8+/lS8p6cn0U1NTWZcS0uL6N7eXtE//WmXmQ+E5gNJTdm5ubkR7ZeT0tJS0e3t7aLLysrMuPv7+/+eg9608+cUGmY+EJoPhOYDSc2upq7Xe3t7JtbV1SW6vr5edGtrqxl3e3sb63f5dR4FMx8IzQeSmrKjl5fLy8smNj09Lbq8vFz0zMyMGacPWt7f32P93qgSFHrZycwHQvOB0Hwgqan5mvPzc/Pz4+Oj6MrKStGjo6NmXHV1teiogxVd57m9UKDQfCB5Lzv5uI393cmzszPRdXV1onU/j3P2SXh3d9fE9NJTz8mfH8tOgUDzgQRf7egyFHVL69jz87OJra+vi9athP5hin7i3d/fN7GXl5dY80gSZj4Qmg+E5gMJ3i4Yt+Zr/DdT+vv7RW9sbIiuqakx405PT0WPjIyYmD6gTwvMfCA0H0jwpWYuyzr/IOTk5ET01dWV6NraWjOuublZdGdnp4nt7Ox8a04hYOYDoflAaD6QRA9Tct3xfHh4EK1rt36bxTnnqqqqRE9NTZmY3uXUWw1RhD5cZ+YDoflAEn0hLtfbWD/xDg8Pi97c3DTjdE/P5eWliQ0MDIi+vr7+92Td30/amrh9QZHX//YVSM7QfCDQ1hF9W+uy49/SOnZ4eCj6+PjYjOvp6RHd0NBgYkNDQ6JXVla+vLaPH8vWcpLryoeZD4TmA6H5QFLTLhi3hU/39PhLze7ubtElJfZPm5ycFL22tiY66hs9bBH/xdB8INAn3LhLzWzXGBwcNLGtrS3R+mnXOfuynD5oifu0GwJmPhCaDyQ1q5246PJ0dHRkYrqE+O/o6jaT8fFx0QsLC1mvHxpmPhCaD4TmA0m0RTzqcCIX/DdY9G7l7OysiRUXF4seGxsTvbi4aMb57ekhYeYDoflAEm0XzPcyzv8c2NLSkuiJiQkT04crurT4b7ew7BQINB8IzQeS6PZCPnpdotDfbPA/cq2Xl9vb21mvkY+D8bgw84HQfCDQ7+fnG/0Erf8Hi3O2g1l3PevPyTiX7MexmflAaD6QX1V2fhrMfCA0HwjNB0LzgdB8IDQfCM0HQvOB0HwgNB8IzQdC84HQfCCfMCVEkuTBEnAAAAAASUVORK5CYII=\" y=\"-125.379908\"/>\n   </g>\n   <g id=\"patch_58\">\n    <path d=\"M 578.157627 220.379908 \nL 578.157627 125.803636 \n\" style=\"fill:none;stroke:#000000;stroke-linecap:square;stroke-linejoin:miter;stroke-width:0.8;\"/>\n   </g>\n   <g id=\"patch_59\">\n    <path d=\"M 672.733898 220.379908 \nL 672.733898 125.803636 \n\" style=\"fill:none;stroke:#000000;stroke-linecap:square;stroke-linejoin:miter;stroke-width:0.8;\"/>\n   </g>\n   <g id=\"patch_60\">\n    <path d=\"M 578.157627 220.379908 \nL 672.733898 220.379908 \n\" style=\"fill:none;stroke:#000000;stroke-linecap:square;stroke-linejoin:miter;stroke-width:0.8;\"/>\n   </g>\n   <g id=\"patch_61\">\n    <path d=\"M 578.157627 125.803636 \nL 672.733898 125.803636 \n\" style=\"fill:none;stroke:#000000;stroke-linecap:square;stroke-linejoin:miter;stroke-width:0.8;\"/>\n   </g>\n  </g>\n  <g id=\"axes_13\">\n   <g id=\"patch_62\">\n    <path d=\"M 691.649153 101.776271 \nL 786.225424 101.776271 \nL 786.225424 7.2 \nL 691.649153 7.2 \nz\n\" style=\"fill:#ffffff;\"/>\n   </g>\n   <g clip-path=\"url(#p189d71efa3)\">\n    <image height=\"95\" id=\"imagebc85769f9a\" transform=\"scale(1 -1)translate(0 -95)\" width=\"95\" x=\"691.649153\" xlink:href=\"data:image/png;base64,\niVBORw0KGgoAAAANSUhEUgAAAF8AAABfCAYAAACOTBv1AAAD8UlEQVR4nO2dTyhtURTG9+WllJJQMpKplDIxkD8TlCEykEiKlAEyUSaYmTNB/iZ/ipSUgcKYyEyIJGGAFMXAG7319jq9e7v3OOd87/D9Rt9uXfcsn9Vyjr32FTHGfBoCIQmdwE+G5gOh+UBoPhCaD4TmA6H5QGg+EJoP5Bc6gUQpLS0VPTQ0pGJ7e3uix8fHVezx8VH0+/u7T9klBisfCM0HQvOBREzI/qp5dHQkurCwUMUikYjoz0/9bU1OTooeHh4WfX197XGG8cPKB0LzgYTuVjMWExMTond3d1Wsp6dH9MjIiOiWlhb/E4sCKx8IzQfyrdpOcnKy6IWFBRXb2NgQnZGREVhOsWDlA6H5QGg+kNA94XZ2dooeGxtTsfv7e9E5OTmB5eQWVj4Qmg8kdG3H5vb2Vq3T0tJEl5eXq9jh4WEgOSUCKx8IzQdC84GEuudPTU2pdWtrq+jFxUUVa2pqCiKlhGDlA6H5QELddhoaGtR6aWlJ9MvLi4pVVlaK/l9uO1n5QGg+kFBvpqysrKh1bW2t6ObmZhXLzMwMJKdEYOUDoflAaD6QUN9qOsnPzxd9dnamYvaYYXV1teiHhwff84oGKx8IzQfie9uxZ2SKiopUrKamRnR/f79oey/WGGNmZmbiutbc3Jzo4+PjqK+bn58XzXHBHwrNB0LzgXje84uLi9V6fX1ddG5ubvREYpwqiZd43+Pi4kK0/XvHGGPOz89dXdsNrHwgNB+I521ndnZWrWPtndqHlp+enkQ7DzDHiz2rU1FRoWIlJSX//JrV1VW1bmxsdHVtN7DygdB8IIFupmxubqp1XV2d6I+Pjy+///b2tujU1FQVGxgYEN3V1SW6vr7+y9d1CysfCM0HQvOBeN7z7adMY4xJSvr783U+4aakpIj2oufbvL29qfXg4KDom5sb0c7TLfYIYltbm6c5OWHlA6H5QDxvO319fWr9+voqur29XcXscb/p6WmvU4nK/v6+6Lu7OxWzJ513dnZUzN6E8QJWPhCaD8T3PdyqqirRW1tbUV9nn5sNcpyjoKBArU9OTkSvra2pmN2SnFPQbmDlA6H5QGg+EN97flZWlmj75IgxesPDftLs7u72M6WYjI6Oiu7t7VWxjo4O0fZHirmFlQ+E5gMJdErZ+fFap6enotPT00U7b/GC3Fe18zg4OFCx7Oxs0faIjHMiOl5Y+UBoPhCaDyTQDXT7HwgYox/tl5eXRTtH9vLy8kRfXl76ktsfnp+fRTtHH8vKykRfXV19+VqsfCA0H8i3OhAXNlj5QGg+EJoPhOYDoflAaD4Qmg+E5gOh+UBoPhCaD4TmA6H5QGg+EJoPhOYD+Q20FO6WgiwtSgAAAABJRU5ErkJggg==\" y=\"-6.776271\"/>\n   </g>\n   <g id=\"patch_63\">\n    <path d=\"M 691.649153 101.776271 \nL 691.649153 7.2 \n\" style=\"fill:none;stroke:#000000;stroke-linecap:square;stroke-linejoin:miter;stroke-width:0.8;\"/>\n   </g>\n   <g id=\"patch_64\">\n    <path d=\"M 786.225424 101.776271 \nL 786.225424 7.2 \n\" style=\"fill:none;stroke:#000000;stroke-linecap:square;stroke-linejoin:miter;stroke-width:0.8;\"/>\n   </g>\n   <g id=\"patch_65\">\n    <path d=\"M 691.649153 101.776271 \nL 786.225424 101.776271 \n\" style=\"fill:none;stroke:#000000;stroke-linecap:square;stroke-linejoin:miter;stroke-width:0.8;\"/>\n   </g>\n   <g id=\"patch_66\">\n    <path d=\"M 691.649153 7.2 \nL 786.225424 7.2 \n\" style=\"fill:none;stroke:#000000;stroke-linecap:square;stroke-linejoin:miter;stroke-width:0.8;\"/>\n   </g>\n  </g>\n  <g id=\"axes_14\">\n   <g id=\"patch_67\">\n    <path d=\"M 691.649153 220.379908 \nL 786.225424 220.379908 \nL 786.225424 125.803636 \nL 691.649153 125.803636 \nz\n\" style=\"fill:#ffffff;\"/>\n   </g>\n   <g clip-path=\"url(#pa4d45810f9)\">\n    <image height=\"95\" id=\"image597011527c\" transform=\"scale(1 -1)translate(0 -95)\" width=\"95\" x=\"691.649153\" xlink:href=\"data:image/png;base64,\niVBORw0KGgoAAAANSUhEUgAAAF8AAABfCAYAAACOTBv1AAAFLUlEQVR4nO2dSyj1XRTGlzu5FoXcMhIGLoXEhJIUUyUDIxMTKaUYKQMGZGZoLJeRiRklJkqEEpKU5E7u12+2vmftXuc9H//zLuf91m/0nNbutM9jn3XWvv2FENEHGSqEanfg/4yZr0i4dge+Q1hYmHj9/v7O+uPj52dTG/mKmPmKmPmKBEXODwkJYR0XF8e6paVFtHt6emI9OzsrYtfX16xfX1+97uKXsJGviJmvyI9MO5hmiIiSk5NZDw0NsW5oaBDtzs/PWT88PIjY3Nwc6/v7e9YvLy/f6+w3sJGviJmviJmvyI/M+e7SQGJiIuuamhrWqampol1SUhLr6upqEVtcXGSNJalbdv7JZQkb+YqY+Yr8yLTjcnd3xzo6Opq1W5KGh//7cRISEkTs+fmZtc1wDTNfk6BIO1dXV6zX19dZp6SkiHaYTlZWVkTMFtYMgZmviJmviOc53y3/8LUbQ3Bm6c4yceURVyerqqpEOywnNzY2ROyn5HnERr4iZr4if7TU9Dft+GJ5eZn14+OjiEVGRrKOjY390vv7AvvvxfvZyFfEzFfEzFck4Dkfc6Nb7vmbQ/EMJpaQu7u7ol1BQQHruro6EcMS9atlp+X8vwgzX5EQCuKbKcXFxeL1xMQEa0xVRERNTU2s9/b2WPtKH75m675m5P5iI18RM1+RoE47OKMlIhodHWXd2NgoYjMzM6z7+vpY4/7w77Bq5y/CzFfEzFfE8xluaKj8e+KNQbxVQiTP2WA7N5/e3t6yxo2V+Pj4T9vhEUMioubmZtZTU1Osl5aWRDu3REW8PkpoI18RM18RT9IOlmBu+YenhVtbW0UsNzeXNZ4wfnt7E+2Oj49ZLywssL68vBTtKisrWbubKfi6v7+ftVuSujdaAomNfEXMfEXMfEU8yflYXmZmZopYT08P67KyMhHDshHzvPtAi7S0NNYxMTGsd3Z2Pu2TWzJGRESwLi8vZ52fny/ara6usg70LRUb+YqY+Yp4knYwTRQWFopYdnY2a7xVQkR0cnLCGp+VcHh4KNrh1x/LS5zREhHNz8+zxtKVSO7vYurq7u4W7dra2lgH+oK0jXxFzHxFPF9YcxfP8CuOp4iJ5C2TgYEB1niLxAVTXFRUlIhhhbO5uSlik5OTrHNycljjvV4iooqKCtb/ZdHtK9jIV8TMV8TMV8STnI+58OLiQsRwldAtNTHn39zcsHZXNRGM+Tr25+b8+vp61uPj46yLiopEu97eXtbt7e0idnR0xNo20IMcM18RT9IOpoL9/X0RwzTk7qump6ez9nVr5TP8PdlMRHRwcMAa08nY2Jhol5WVxbqjo0PEBgcHWePs2o4LBiFmviKepB382p2dnYkYPjfBPVaCe64ZGRmsMUW47+9FHzE1joyMiHZdXV2/7B8RUW1tLWu8bOFezPMXG/mKmPmKmPmKeL6qiU9rJZKX1kpKSkQM92Y7OztZ47kaIjn7xdzt/ob4e1sEy9C1tTURw+f0uHvOeBNme3ubtbuX7GuGjtjIV8TMVyTgaWd4eJg1lpNE8rggPqw6Ly9PtNva2mKNZZ0XJah75HB6evrTtvjZsO9uaexvH23kK2LmK2LmKxLw24i4Wuk+irG0tJQ15kk3h56env6ynbty+ZXfALdcxQ0ft794/B03+d3fDX+f7WAjXxEzXxHVS9D4lUftpg+tf7vnbvDYhbi/CDNfkaB+9kKwYyNfETNfETNfETNfETNfETNfETNfETNfETNfETNfETNfETNfETNfkX8AOsrs8dtuGTgAAAAASUVORK5CYII=\" y=\"-125.379908\"/>\n   </g>\n   <g id=\"patch_68\">\n    <path d=\"M 691.649153 220.379908 \nL 691.649153 125.803636 \n\" style=\"fill:none;stroke:#000000;stroke-linecap:square;stroke-linejoin:miter;stroke-width:0.8;\"/>\n   </g>\n   <g id=\"patch_69\">\n    <path d=\"M 786.225424 220.379908 \nL 786.225424 125.803636 \n\" style=\"fill:none;stroke:#000000;stroke-linecap:square;stroke-linejoin:miter;stroke-width:0.8;\"/>\n   </g>\n   <g id=\"patch_70\">\n    <path d=\"M 691.649153 220.379908 \nL 786.225424 220.379908 \n\" style=\"fill:none;stroke:#000000;stroke-linecap:square;stroke-linejoin:miter;stroke-width:0.8;\"/>\n   </g>\n   <g id=\"patch_71\">\n    <path d=\"M 691.649153 125.803636 \nL 786.225424 125.803636 \n\" style=\"fill:none;stroke:#000000;stroke-linecap:square;stroke-linejoin:miter;stroke-width:0.8;\"/>\n   </g>\n  </g>\n  <g id=\"axes_15\">\n   <g id=\"patch_72\">\n    <path d=\"M 805.140678 101.776271 \nL 899.716949 101.776271 \nL 899.716949 7.2 \nL 805.140678 7.2 \nz\n\" style=\"fill:#ffffff;\"/>\n   </g>\n   <g clip-path=\"url(#p48c4856aab)\">\n    <image height=\"95\" id=\"image15ba7c9501\" transform=\"scale(1 -1)translate(0 -95)\" width=\"95\" x=\"805.140678\" xlink:href=\"data:image/png;base64,\niVBORw0KGgoAAAANSUhEUgAAAF8AAABfCAYAAACOTBv1AAAD0UlEQVR4nO2cyyt1YRTG1+FLyCXXkcuEohAzf4AyI0pu5R9AMmFEUZIyMjUwklySlIFSRgaihJJcBgYKRZQBGfhmy7v2Z4vP3vs5dZ7f6Fmt97z77Wm1znv2fveJici7EAhJ6AUkMjQfCM0HQvOB0HwgNB/IH/QC4pmsrCwTHx4eqh4YGFC9vr7+X/Oz8oHQfCBsO1+wsrJi4vz8fNUXFxe/np+VD4TmA6H5QNjzPZSUlKhuaGgwuYWFBdUnJye/vhYrHwjNB5LwbaegoMDEW1tbvmOnpqYCvTYrHwjNB5Lwbaenp8fEZWVlqldXV03u/Pw80Guz8oHQfCA0H0hMEvDcTm1treqdnR2TS01NVV1ZWWlyZ2dnga6DlQ+E5gNJmK1mUtJHnQ0NDal224yIyNjYmOqg28w/awp1dvIlNB8IzQeSMFvNjo4O1fPz86qvr6/NOHcb+vDwEOqaWPlAaD6QuNlqus9Lu7q6TO7x8VH16Oio6ufnZ9/50tLSTNze3v7puO3tbROH3WpcWPlAaD4QaNtxW417NC87O9uMe3//2JAlJyerHh4eNuNeXl5Uj4yMmFxzc7Pqq6sr1ePj4z9ddmCw8oHQfCA0H0ikPT83N9fES0tLqjMzM1W7Pd4b9/X1qa6oqDDjent7Vbe2tvrOsbm5qfry8vJbaw8DVj4Qmg8k0rbjPfXrbimPj49VuzfBRESqq6tVt7S0qG5razPjdnd3Vefk5Jic+8t1ZmbmJ8sODVY+EJoPhOYDibTnd3Z2+ub29vZUn56empwbLy8vq/Z+h+Tl5fnOPzs7qzqIt0qCgJUPhOYDibTtuC+UiYg0NTWp3tjY+PF8+/v7Jm5sbPQdW19frzojI0P1Vw9kwoaVD4TmA4m07by+vpo4FoupHhwcVL22tmbGuUf63B1TeXm573yuFhFJT09XnZKS8oNVhwcrHwjNB0LzgUR6XLC0tNTER0dHqt3tn3uHU0Tk9vZWtfdXrR93d3cmrqurU31zc/OtOcKGlQ+E5gOJdKvpnpcREZmbm1Pd39+vuqamxozzPtP14+npSfX09LTJRXkM8Luw8oHQfCDQlyOKiopUHxwcqPbel/drO4uLiyZ2j5XEY5vxwsoHQvOB0HwgcfNCXHd3t+qJiQmTKy4u/vQzhYWFJr6/vw9+YSHCygdC84HETdtx8f5v/eTkpOqqqirV3ptsb29v4S4sYFj5QGg+EJoPJC57fqLAygdC84HQfCA0HwjNB0LzgdB8IDQfCM0HQvOB0HwgNB8IzQdC84HQfCA0HwjNB0LzgdB8IH8Bst7VZIGV6SoAAAAASUVORK5CYII=\" y=\"-6.776271\"/>\n   </g>\n   <g id=\"patch_73\">\n    <path d=\"M 805.140678 101.776271 \nL 805.140678 7.2 \n\" style=\"fill:none;stroke:#000000;stroke-linecap:square;stroke-linejoin:miter;stroke-width:0.8;\"/>\n   </g>\n   <g id=\"patch_74\">\n    <path d=\"M 899.716949 101.776271 \nL 899.716949 7.2 \n\" style=\"fill:none;stroke:#000000;stroke-linecap:square;stroke-linejoin:miter;stroke-width:0.8;\"/>\n   </g>\n   <g id=\"patch_75\">\n    <path d=\"M 805.140678 101.776271 \nL 899.716949 101.776271 \n\" style=\"fill:none;stroke:#000000;stroke-linecap:square;stroke-linejoin:miter;stroke-width:0.8;\"/>\n   </g>\n   <g id=\"patch_76\">\n    <path d=\"M 805.140678 7.2 \nL 899.716949 7.2 \n\" style=\"fill:none;stroke:#000000;stroke-linecap:square;stroke-linejoin:miter;stroke-width:0.8;\"/>\n   </g>\n  </g>\n  <g id=\"axes_16\">\n   <g id=\"patch_77\">\n    <path d=\"M 805.140678 220.379908 \nL 899.716949 220.379908 \nL 899.716949 125.803636 \nL 805.140678 125.803636 \nz\n\" style=\"fill:#ffffff;\"/>\n   </g>\n   <g clip-path=\"url(#p2396e33ddc)\">\n    <image height=\"95\" id=\"imagef90e64b377\" transform=\"scale(1 -1)translate(0 -95)\" width=\"95\" x=\"805.140678\" xlink:href=\"data:image/png;base64,\niVBORw0KGgoAAAANSUhEUgAAAF8AAABfCAYAAACOTBv1AAAFWElEQVR4nO2dOUhkTxDGy/vAE0EUFMRABEFX0EQTQYxMBA0UxGDNNDQwMzJRMDISTEwNFBQRFEPBA008wAsvUBcVvO/jn5VfNTOzw9sZa2f/9Ys+6XKmLfp9r153vzaKiD7JUCFauwP/Zyz5isRqdyCSiIqKYv35+edubSNfEUu+IpZ8Rf5Kz0dvJQqNvwZLbOxXSn78+CHa8vPzWY+Pj//xd9nIV8SSr0jIbQcvW6LA5dnHx4fftlCD/YiLi2Odmpoq4ioqKli3tbWJtuPjY9ZTU1OsX15ePPXJRr4ilnxFLPmKhMTzk5OTWSckJIi29/d31q+vr6INPd+fdn8O9t7glqt4L8rMzGRdWloq4mpra1lnZGSItuzsbNaNjY2sR0dHRRz+zYGwka+IJV8Rz7aDlzXqh4cHEYeXoGsn/j7PJTr6a4x4LU/x81NSUliXlJSIOLQk1yZ3d3dZr62teeoHYiNfEUu+IiGpdh4fH1m7l6CXS9K1oJiYGJ9tgT7bbXt7e2N9d3fH2rUWtLirqyvRdnJy4vMzzHYiEEu+IpZ8RTx7PvpcuGckA5WowYJ9xHsUlo9ERHl5eazR14mI1tfXfX6GV2zkK2LJV+SvXMN18WdrgdZ63TZ/T+RnZ2cibnFxkfXFxYVoOz09ZX17e/vb/v0OG/mKWPIVseQrEkXfuEXc9eH4+HjWuAjjLkg/Pz+zDuSvOA2BM5dEcs9NVlYW66enJxF3fn7O+v7+XrShz2Ofgl08cbGRr4glX5Gwl5poBe4embq6Otatra2s9/f3RVx/fz9rLPdc0GqGhoZEW3V1Neu9vT3WfX19Im5jY4O1a0loL7ZFPMKx5CsScttxKxrcmldWViba2tvbWVdWVrKuqakRcVVVVax//vzJ2rUnjENLIyJKS0vz2SfXWnDCzGsVEyw28hWx5CtiyVck7KUm+mtxcbFowyfG7e1t1rgtj4iooKCANb4RcnBwIOLwyTUxMVG04QL66uoq65WVFREXbp9HbOQrYslXJOy2g7uDcTczEdHS0hLr3t5e1tfX1yKupaWFdXd3N+vCwkIRh2u97uTc5uamz+9y12m/Exv5iljyFbHkKxJyz3dn+7B0y83NFW3o0UdHR6zdPZIDAwOsy8vLWTc1NYk4vL+40wbz8/Os0f+/8wVrFxv5iljyFQl7qYmzhO62P5x5XFhYYD0xMSHisGzs7Oz0+ftEROnp6X778evXL9b4tKuJjXxFLPmKhN128BLHrXhERB0dHayHh4dZNzQ0iDi0JJyMm5ycFHHNzc2sce2YSFpSoG2FSLgrIRv5iljyFbHkKxJ2z0ffXF5eFm349IsLIXNzcyJucHCQ9fT0NGvXr7GUdcvJw8NDn9/r4m8rOVHo38axka+IJV+Rb92ljOu5RERjY2Os6+vrvzrlXO5oE3jUljt5lpOTw3pra0u04REt+DKzax/4ErR7ZBn2IxRrvTbyFbHkK6L6ckRRURHrmZkZ1vgurPt7+MKCu3UEdxj39PSItp2dHdaBKhV/pxASBa6mvGAjXxFLviKWfEVC4vleD/XHmUc8NLqrq0vE4VFc+GbKyMiIiJudnWV9eXkp2rycSuh6vpWa/xCWfEVUbQfBJ0v3YFR8kQ7LvZubGxGHR3Z57QdaobvTGdeS3ePBvGAjXxFLviKWfEW+dXrhbwHvUXivIZLb2PFsCCK5B8nOXohwLPmKRMQxX8ESaA+OP6tJSkoScW6Zi+BMpj3hRjiWfEX+2Won2P8yp/nf6GzkK2LJV8SSr8g/6/mRgI18RSz5iljyFbHkK2LJV8SSr4glXxFLviKWfEX+A5W+BYmYIBzvAAAAAElFTkSuQmCC\" y=\"-125.379908\"/>\n   </g>\n   <g id=\"patch_78\">\n    <path d=\"M 805.140678 220.379908 \nL 805.140678 125.803636 \n\" style=\"fill:none;stroke:#000000;stroke-linecap:square;stroke-linejoin:miter;stroke-width:0.8;\"/>\n   </g>\n   <g id=\"patch_79\">\n    <path d=\"M 899.716949 220.379908 \nL 899.716949 125.803636 \n\" style=\"fill:none;stroke:#000000;stroke-linecap:square;stroke-linejoin:miter;stroke-width:0.8;\"/>\n   </g>\n   <g id=\"patch_80\">\n    <path d=\"M 805.140678 220.379908 \nL 899.716949 220.379908 \n\" style=\"fill:none;stroke:#000000;stroke-linecap:square;stroke-linejoin:miter;stroke-width:0.8;\"/>\n   </g>\n   <g id=\"patch_81\">\n    <path d=\"M 805.140678 125.803636 \nL 899.716949 125.803636 \n\" style=\"fill:none;stroke:#000000;stroke-linecap:square;stroke-linejoin:miter;stroke-width:0.8;\"/>\n   </g>\n  </g>\n  <g id=\"axes_17\">\n   <g id=\"patch_82\">\n    <path d=\"M 918.632203 101.776271 \nL 1013.208475 101.776271 \nL 1013.208475 7.2 \nL 918.632203 7.2 \nz\n\" style=\"fill:#ffffff;\"/>\n   </g>\n   <g clip-path=\"url(#p7052c5a774)\">\n    <image height=\"95\" id=\"image0cb97e96ca\" transform=\"scale(1 -1)translate(0 -95)\" width=\"95\" x=\"918.632203\" xlink:href=\"data:image/png;base64,\niVBORw0KGgoAAAANSUhEUgAAAF8AAABfCAYAAACOTBv1AAAD40lEQVR4nO2cTSg9URjG53KR2EixuT6KbCxEFnaUsiFhIYmlLCQfK3ZsSPZSxELZWFEsLFDKRxKKkiwoK2wsEPn4L/71Ou9kbuPeufeZy/NbPad35pzT09vbzJw5J2BZ1qdFICShJ/CXoflAaD4Qmg+E5gOh+UBoPhCaD4TmA6H5QGg+EJoPhOYDCaInEA2dnZ2qXVVVJXp0dFTFbm9v4zKnn8DMB0LzgQSsBFhMyc3NFT07Oyu6srJSXZeTkyP66upKxRYWFkSPjIx4O8EIYeYDoflAfFl20tPTVXtubk50a2trRH2+v7+LXl1dFd3R0aGue3x8jKj/SGDmA6H5QGg+EF/W/IqKCtU+ODhwdd/m5qbompoaFQsEAt/eMzU1pdq9vb2uxvICZj4Qmg/Elx/W6urqHGNvb2+i5+fnVWxmZkZ0f3+/irW3t3/bXygUimCG3sDMB0LzgdB8INCaX1tbKzolJUV0U1OT4z3B4NeUu7q6VMze9jvMfCA0H4gnZSc5OVl0eXm5ii0uLn4NFtTD5eXliU5Kil8efH5+vdQfHh7GbVw7zHwgNB+IJx/WJicnRQ8ODkbbXUy4u7sTvbW1JbqtrQ0wm/8w84HQfCA0H4gnNd98dPv4+HB9n3nt9PS06L29PXVdfn6+6MvLS9FnZ2eOfZeWlqr27u6u6JubG9dzjCXMfCA0H4gnZcf8Azg7O1vFXl5eRE9MTKjY8vKy6OPj42inkXAw84HQfCA0H4gnNd/896W7u1vFzLre0tIS7VC/CmY+EJoPxJPFlJ2dHdH2smMurtj/kfHLmyYKZj4Qmg/Ek6edzMxM0cPDwyo2NDQk+v7+XsVKSkpEPzw8RDuNhIOZD4TmA6H5QDzfmZKamqraS0tLohsaGlRsbGxM9Pj4uOinpycvp+RbmPlAaD6QmG+Iy8jIEL29va1iZWVlopubm0WvrKw49ldYWCjafr6CudZrf3v+ydpyvGDmA6H5QGK+OcI8y8C+0a2vr0/06+urYx/mCVJra2vf9m1ZusStr6+r2Onpqej9/X3RR0dH6rrn52fH/r2GmQ+E5gOh+UB8efaCnerqatEbGxsxHev8/Fx0uN8Rw+H2TCBmPhCaDyQhyk5RUZHonp4e0fZ9t+bxYE5HvMQDc4NgOJj5QGg+EJoPJCFqvlvq6+tFNzY2qph57FdxcbGr/i4uLlS7oKBAdFpamuN9rPkJAM0H8qvKTjiysrJEm4su4bi+vlbtgYEB0eZXUnt5Ojk5cdU/Mx8IzQfyZ8qOH2HmA6H5QGg+EJoPhOYDoflAaD4Qmg+E5gOh+UBoPhCaD4TmA/kH0v3hZC0NOusAAAAASUVORK5CYII=\" y=\"-6.776271\"/>\n   </g>\n   <g id=\"patch_83\">\n    <path d=\"M 918.632203 101.776271 \nL 918.632203 7.2 \n\" style=\"fill:none;stroke:#000000;stroke-linecap:square;stroke-linejoin:miter;stroke-width:0.8;\"/>\n   </g>\n   <g id=\"patch_84\">\n    <path d=\"M 1013.208475 101.776271 \nL 1013.208475 7.2 \n\" style=\"fill:none;stroke:#000000;stroke-linecap:square;stroke-linejoin:miter;stroke-width:0.8;\"/>\n   </g>\n   <g id=\"patch_85\">\n    <path d=\"M 918.632203 101.776271 \nL 1013.208475 101.776271 \n\" style=\"fill:none;stroke:#000000;stroke-linecap:square;stroke-linejoin:miter;stroke-width:0.8;\"/>\n   </g>\n   <g id=\"patch_86\">\n    <path d=\"M 918.632203 7.2 \nL 1013.208475 7.2 \n\" style=\"fill:none;stroke:#000000;stroke-linecap:square;stroke-linejoin:miter;stroke-width:0.8;\"/>\n   </g>\n  </g>\n  <g id=\"axes_18\">\n   <g id=\"patch_87\">\n    <path d=\"M 918.632203 220.379908 \nL 1013.208475 220.379908 \nL 1013.208475 125.803636 \nL 918.632203 125.803636 \nz\n\" style=\"fill:#ffffff;\"/>\n   </g>\n   <g clip-path=\"url(#pe273f41ae2)\">\n    <image height=\"95\" id=\"image532994ce6f\" transform=\"scale(1 -1)translate(0 -95)\" width=\"95\" x=\"918.632203\" xlink:href=\"data:image/png;base64,\niVBORw0KGgoAAAANSUhEUgAAAF8AAABfCAYAAACOTBv1AAAE5klEQVR4nO2cyyt1bxTHn+N+JyQkEUaIIopMlJGJgTIxMTHzDxgpJsr/ICUzooxFTExkIiG5F0Wk3G/vbLXW6uzn53ds5+t9rc/oy3rO3rtvz1lnPbcdcc59OANCAvoBfjNmPhAzH4iZD8TMB2LmAzHzgZj5QMx8IGY+EDMfiJkPxMwHkoR+gGgkJMg+kZKSQjoSiZDOzc0V7fjfNzc3Isb/fn19Jf329vaVR/0S1vOBmPlAfmTa0TQ0NJDu7+8nXVNTI9oVFRWRvry8FLHV1VXSs7OzpA8ODkS7h4eHrz3s/8B6PhAzH0jE/cA13NTUVPH31NQU6a6uLtIfH/LRMzIySCclyYz69PREemNjg/Tg4KBot7u7G3j9sLGeD8TMB2LmAwm91NSjU543fTmUj1zz8vJErL6+nnR2djZpPlLV99Y5Pzk5mXRra2tU7Zxze3t7n3reMLCeD8TMBxJK2uFf8YKCAhF7f38nfXd3J2IvLy9Rr9Hc3Cza5efn/+d9NTyNafhEnU4709PTgZ8LG+v5QMx8IGY+kFByfnV1Nenh4WER4zl/fn5exHgp19TURHpgYEC047OVPJfrUpCXnjrGP8d1SUmJQ2E9H4iZDyTmtMNnHoeGhkh3d3eLdnzU2dHRIWK89KysrCSdmZkp2gWVjfr/PNXwMtY5WZby2PLycuA1vhvr+UDMfCAxpx2+TaO2tpZ0VlaWvAH7uutFkqurq6jX5hWSc84lJiZ+qh1PYxcXFyLGt4gcHh6SnpubE+0s7fwSzHwgZj6QmHP+4+MjaZ5P9WIKRy9+TE5Okt7e3iZdV1cn2vH9Ofy35vb2VrSbmZkhvbOzI2LPz89RPxf0uxMPrOcDMfOBhJJ2+LpnW1ubvAErNff390VsfHyc9P39feC9gibFfCNcXTIGlZDxLC011vOBmPlAzHwgMed8XrotLCyQ7u3tFe34lMLKyoqI8Tzvy73IvPydWM8HYuYDCWUNl6eTzc1NEauqqiJ9cnIS0/V9e3A4PD35PvNT0pj1fCBmPpBQ0g6vWsbGxkRsdHSUdHp6urx5wLqqDz5xpxdTfPi2nKCwng/EzAdi5gMJ/TSiXuzu6ekhXVFRIWL8lCFf1PBt9eMnTPR7E3zvUQgqPW1W85di5gP59kPQaWlppBsbG0Xs/Pyc9OnpKWldQvKTJDx16TXhs7Mz0vzQs4aXqzrt+MrXoPXpWF8bYz0fiJkPJK7vXtAjXL4NhG/101/vlpYW0iMjI6TLy8tFu62tLdJ6pM1THD9gp3dE820lxcXFIsZT3vHxMemlpSXRTh/8C8J6PhAzH4iZDySur/nie32ck6Uin+HUvw2FhYWk+dZBfeC6tLSUdHt7u4gF/aboETkfCetD1rykvL6+Jt3Z2Rl4Lx/W84GY+UCgbxfkaYePLPXIdW1tjfTi4iJpvU2Fl438lV86FutkGn9GPuru6+sT7SYmJkj7Rr/W84GY+UDMfCBxnV7QCxqf3Y/DS0Oea3lp6Zw8jM2nJJxzrqysjDQvZfn1nJPlsJ4Z5Vskj46OSOv3Tayvr5P2/b5Yzwdi5gP5kW+UDQOd0oJGtTk5OaId31Xte6UMT0H6VA2P+bCeD8TMB/LPpp2/Aev5QMx8IGY+EDMfiJkPxMwHYuYDMfOBmPlAzHwgZj4QMx+ImQ/kDy0pk+fapUwEAAAAAElFTkSuQmCC\" y=\"-125.379908\"/>\n   </g>\n   <g id=\"patch_88\">\n    <path d=\"M 918.632203 220.379908 \nL 918.632203 125.803636 \n\" style=\"fill:none;stroke:#000000;stroke-linecap:square;stroke-linejoin:miter;stroke-width:0.8;\"/>\n   </g>\n   <g id=\"patch_89\">\n    <path d=\"M 1013.208475 220.379908 \nL 1013.208475 125.803636 \n\" style=\"fill:none;stroke:#000000;stroke-linecap:square;stroke-linejoin:miter;stroke-width:0.8;\"/>\n   </g>\n   <g id=\"patch_90\">\n    <path d=\"M 918.632203 220.379908 \nL 1013.208475 220.379908 \n\" style=\"fill:none;stroke:#000000;stroke-linecap:square;stroke-linejoin:miter;stroke-width:0.8;\"/>\n   </g>\n   <g id=\"patch_91\">\n    <path d=\"M 918.632203 125.803636 \nL 1013.208475 125.803636 \n\" style=\"fill:none;stroke:#000000;stroke-linecap:square;stroke-linejoin:miter;stroke-width:0.8;\"/>\n   </g>\n  </g>\n  <g id=\"axes_19\">\n   <g id=\"patch_92\">\n    <path d=\"M 1032.123729 101.776271 \nL 1126.7 101.776271 \nL 1126.7 7.2 \nL 1032.123729 7.2 \nz\n\" style=\"fill:#ffffff;\"/>\n   </g>\n   <g clip-path=\"url(#pb131499101)\">\n    <image height=\"95\" id=\"imagea7bd6bb74d\" transform=\"scale(1 -1)translate(0 -95)\" width=\"95\" x=\"1032.123729\" xlink:href=\"data:image/png;base64,\niVBORw0KGgoAAAANSUhEUgAAAF8AAABfCAYAAACOTBv1AAAEbUlEQVR4nO2cSyitXxjGt1suIYoMXEYSJSmSUlJMJIqUxIyBcjdACKEMlAlFTKQwlJkyoDAwMCGJlJDkmkLu/Efn/a+12lv77PPZz3bO8xs9b2v51tvT29vyrfVtL5vN9mkjELzRCfzL0HwgvsjFm5ubRQ8PD4uur6/X5o2OjrotJ3fCygdC84HQfCBeNuBW8+TkRHRMTIzoi4sLbV5qaqros7Ozb8/LXbDygdB8INCt5s3Njejo6GjRkZGR2rympibRbW1t356Xu2DlA6H5QGg+EOhWs6ioSPTCwoLoz0/HKeXm5opeXl7+nsTcBCsfCM0HAm07wcHBond3d0Wr206Tra0t0ZmZmdrY09OThdl9P6x8IDQfCLTtqISEhIi+urrSxvz8/Oz+zcTEhBbX1NRYn9g3wsoHQvOB0HwgHtPzVfr7+7W4s7PT7ryHhwctLiwsFL2ysmJ5XlbDygdC84F4ZNvJyMjQ4qWlJdHqltTk/v5edH5+vja2vr5uUXbWwcoHQvOB0HwgHtnzTaqrq0WrdzrVt6ImOzs7Wpyeni76+fnZwuxch5UPhOYD+RFtR6W1tVX0wMCANubr6/gaUkVFhei5uTnrE3MBVj4Qmg/kx7UdlenpaS2urKx0OPfu7k50S0uL6KmpKW3e+/u7Nck5ASsfCM0HQvOBuPWKeFhYmBa3t7eLzsrKEn19fa3NOz4+Fu3v7y86ISHB6bXVt6GTk5Oi09LStHkdHR2ib29vnX6+K7DygdB8IJZvNQMDA7V4dnZWdF5enjYWFBQk2tv7/zr46payuhX08fFxOc9ffHx8aPH8/LzohoYGbczqj/FY+UBoPhCaD8Tynl9QUKDFMzMzokNDQ7Wxo6Mj0eohSWxsrDYvMTHR7lqPj49anJSUZFfbbPr9z6ioKLvPMzE/xs7Ozha9v7/v1DO+gpUPhOYDsfw/XPOt4FfbQfXwY2NjQ/TIyIhLa6trma2rtLRUtPp7PuHh4do89VzYbE9dXV2iq6qqRL++vrqULysfCM0HYvluJyAgQIvVM9eenh59cS8v0ZeXl6LHxsa0eUNDQ6LNm8nOon5IV15eLtr8+G5xcdGp56ktSc39d2DlA6H5QGg+EMu3muaHyH19faLN/lpcXCxa/Y2d7u5ubZ560LK9vS1aPfiwt7aKekCjbod7e3sdPuP8/Fwbi4uLc/h8V2DlA6H5QKD3dlJSUkTX1taKLisr0+aZL+R+cXp6qsWrq6uiDw8PtTF1y7u5uSna/ApGPTB5e3vTxgYHB0WPj4/bzel3YOUDoflAPPK6YHJyshbX1dWJLikpER0REfHHa5mtZW9vT/Ta2po21tjYKPrl5eWP12blA6H5QGg+EI/s+V8RHx8v2uz56n/MOTk52ph6P0fdJpofRx8cHFiRplOw8oHQfCA/ru38TbDygdB8IDQfCM0HQvOB0HwgNB8IzQdC84HQfCA0HwjNB0LzgdB8IDQfCM0HQvOB0HwgNB8IzQdC84HQfCA0H8h/QIsV5Jtj8zgAAAAASUVORK5CYII=\" y=\"-6.776271\"/>\n   </g>\n   <g id=\"patch_93\">\n    <path d=\"M 1032.123729 101.776271 \nL 1032.123729 7.2 \n\" style=\"fill:none;stroke:#000000;stroke-linecap:square;stroke-linejoin:miter;stroke-width:0.8;\"/>\n   </g>\n   <g id=\"patch_94\">\n    <path d=\"M 1126.7 101.776271 \nL 1126.7 7.2 \n\" style=\"fill:none;stroke:#000000;stroke-linecap:square;stroke-linejoin:miter;stroke-width:0.8;\"/>\n   </g>\n   <g id=\"patch_95\">\n    <path d=\"M 1032.123729 101.776271 \nL 1126.7 101.776271 \n\" style=\"fill:none;stroke:#000000;stroke-linecap:square;stroke-linejoin:miter;stroke-width:0.8;\"/>\n   </g>\n   <g id=\"patch_96\">\n    <path d=\"M 1032.123729 7.2 \nL 1126.7 7.2 \n\" style=\"fill:none;stroke:#000000;stroke-linecap:square;stroke-linejoin:miter;stroke-width:0.8;\"/>\n   </g>\n  </g>\n  <g id=\"axes_20\">\n   <g id=\"patch_97\">\n    <path d=\"M 1032.123729 220.379908 \nL 1126.7 220.379908 \nL 1126.7 125.803636 \nL 1032.123729 125.803636 \nz\n\" style=\"fill:#ffffff;\"/>\n   </g>\n   <g clip-path=\"url(#p53853958b4)\">\n    <image height=\"95\" id=\"imageada1808d81\" transform=\"scale(1 -1)translate(0 -95)\" width=\"95\" x=\"1032.123729\" xlink:href=\"data:image/png;base64,\niVBORw0KGgoAAAANSUhEUgAAAF8AAABfCAYAAACOTBv1AAAFQElEQVR4nO2cSyi1XRTHl9f9fk0h5BaRKUMDAwklE2VmIgOJkBlRSmIiA2QkmaDIrSiFMjByZ0BKJJLI/f7O1rfW/hyd77zPOYvvXb/R/2ntc87ub1tn7dtxA4APUET4Jd2Bvxk1XxAPV37Yr1/8bz0+Po46Pz8fdXt7O2vX1NT06ft9fPzsjKkjXxA1XxA1XxA3cHKp6ebmhjo0NJTFVlZWUKekpKB+fHxk7bKzs1Fvb2+jdjTn0+8e2j8AgLe3N4fe06F+uOyTlH+h5gvi0lLTTCcjIyOoa2pqULu7u7N2FRUVqOvr61E/Pz9b3EPXoiNfEDVfEDVfEKfnfFoOPj09sdj6+jrq9/d31D4+PqxdQUEB6tbWVtQXFxd/3CdzyYOWns5evtCRL4iaL4jTZ7hfERwcjHpnZwd1VFSUzddMT0+jLi4uZjFHZqfmDNeVK6U68gVR8wURTTuU2tpa1J2dnSxGKxJaFbW1tbF2LS0tqF25QOYoOvIFUfMFUfMF+TY538vLCzUtOwEAkpKSPn2NuapJV0YHBgZY7OXl5Q97aD068gVR8wX5NmmHEhgYyJ6Xl5dRZ2ZmojZnp9fX16jLyspYbG5uDvV3KUN15Aui5gui5gvyLXO+ib+/P+re3l7UpaWlrB39Dtjc3GSxoqIi1CcnJ1Z30SF05Aui5gvyI9IOXdWMjY1FPT8/z9olJiaipqufAACDg4OoKysrUb++vlrWz/+KjnxB1HxBnH50hFYg5oyUHgv08PinK+ZxDj8/P9R5eXk229FnM0Yro6mpKdQTExOsne7h/iWo+YKo+YJYXmp6e3uz57S0NNSFhYUsFhQUhJrm/8jISNYuNTUVNS0n6bkfAABPT0+7+nh1dYW6pKSExZaWllA7e/VTR74gar4glqQdmjLoDBQAYHh4GDXdCAHgs8vj42PU+/v7rF1cXBxqenHOPM1M+2GWmhRaTtIUBADQ1dWFuqenh8Vubm4+fQ+HL+Y59CrFEtR8QdR8QSxZXqD5NSIigsWio6NR+/r6spitFcWhoSH2fHh4iJouL9DL0QA858fHx7NYcnIyavpdYZarjY2NqM2St7m5GTXN/46WpDryBVHzBbEk7dCNC7N0293dRR0TE8NiNF2FhYWhNv+N9/b2UG9sbKCmq51mP8yL1HQm293djTogIIC1o8/l5eUstrCwgHpmZsZmf+1FR74gar4glqed09NTFhsdHUWdlZXFYnRhjf4cTENDA2tH087BwQHqu7s7u/s4NjaGmi721dXVsXY0XZnVWU5ODurZ2Vm7P9sWOvIFUfMFUfMFsSTn01W9+/t7FqO51rxhQks5mv9pTgYA6OvrQ02Pei8uLrJ2l5eXqM/OzliMbt6vrq7a7C89mmie/aEz469WTe1FR74gar4glp/bMTcW6G2Rjo4OFqNlI/1Zl4SEBNaObqDQ/dzq6mrWjqaC8/NzFltbW0NNZ9rmpTq6D2z+RM3R0RFq8wySI+jIF0TNF8Slp5TNf1VaPYSHh6POyMhg7XJzc1HTWSZdowfgF+nMaoTuHTw8PKA2qx06m6b7CAD8bu/W1pbN9zCrJFvoyBdEzRdEzRdE9GYK/Q746sel6UpjSEgI6vT0dNauqqoKtbmCSo8x0lze39/P2k1OTqK+vb1lMVqW0pJaN1N+IGq+ID/iQpy92Epj5jNNE/aWhc5AR74gar4gar4g/6uc/9PQkS+Imi+Imi+Imi+Imi+Imi+Imi+Imi+Imi+Imi+Imi+Imi+Imi+Imi+Imi+Imi+Imi+Imi+Imi/Ib216fUhv7qj2AAAAAElFTkSuQmCC\" y=\"-125.379908\"/>\n   </g>\n   <g id=\"patch_98\">\n    <path d=\"M 1032.123729 220.379908 \nL 1032.123729 125.803636 \n\" style=\"fill:none;stroke:#000000;stroke-linecap:square;stroke-linejoin:miter;stroke-width:0.8;\"/>\n   </g>\n   <g id=\"patch_99\">\n    <path d=\"M 1126.7 220.379908 \nL 1126.7 125.803636 \n\" style=\"fill:none;stroke:#000000;stroke-linecap:square;stroke-linejoin:miter;stroke-width:0.8;\"/>\n   </g>\n   <g id=\"patch_100\">\n    <path d=\"M 1032.123729 220.379908 \nL 1126.7 220.379908 \n\" style=\"fill:none;stroke:#000000;stroke-linecap:square;stroke-linejoin:miter;stroke-width:0.8;\"/>\n   </g>\n   <g id=\"patch_101\">\n    <path d=\"M 1032.123729 125.803636 \nL 1126.7 125.803636 \n\" style=\"fill:none;stroke:#000000;stroke-linecap:square;stroke-linejoin:miter;stroke-width:0.8;\"/>\n   </g>\n  </g>\n </g>\n <defs>\n  <clipPath id=\"pe2c1e85595\">\n   <rect height=\"94.576271\" width=\"94.576271\" x=\"10.7\" y=\"7.2\"/>\n  </clipPath>\n  <clipPath id=\"p7c4ba4e330\">\n   <rect height=\"94.576271\" width=\"94.576271\" x=\"10.7\" y=\"125.803636\"/>\n  </clipPath>\n  <clipPath id=\"p8e412809a9\">\n   <rect height=\"94.576271\" width=\"94.576271\" x=\"124.191525\" y=\"7.2\"/>\n  </clipPath>\n  <clipPath id=\"pb276e1ce00\">\n   <rect height=\"94.576271\" width=\"94.576271\" x=\"124.191525\" y=\"125.803636\"/>\n  </clipPath>\n  <clipPath id=\"p5378551ad2\">\n   <rect height=\"94.576271\" width=\"94.576271\" x=\"237.683051\" y=\"7.2\"/>\n  </clipPath>\n  <clipPath id=\"p9cc84aa17b\">\n   <rect height=\"94.576271\" width=\"94.576271\" x=\"237.683051\" y=\"125.803636\"/>\n  </clipPath>\n  <clipPath id=\"p0431b73203\">\n   <rect height=\"94.576271\" width=\"94.576271\" x=\"351.174576\" y=\"7.2\"/>\n  </clipPath>\n  <clipPath id=\"p07ef93d579\">\n   <rect height=\"94.576271\" width=\"94.576271\" x=\"351.174576\" y=\"125.803636\"/>\n  </clipPath>\n  <clipPath id=\"p6014bf9d1c\">\n   <rect height=\"94.576271\" width=\"94.576271\" x=\"464.666102\" y=\"7.2\"/>\n  </clipPath>\n  <clipPath id=\"p28cc3a6a96\">\n   <rect height=\"94.576271\" width=\"94.576271\" x=\"464.666102\" y=\"125.803636\"/>\n  </clipPath>\n  <clipPath id=\"pa9ab92427d\">\n   <rect height=\"94.576271\" width=\"94.576271\" x=\"578.157627\" y=\"7.2\"/>\n  </clipPath>\n  <clipPath id=\"p10862d2f5c\">\n   <rect height=\"94.576271\" width=\"94.576271\" x=\"578.157627\" y=\"125.803636\"/>\n  </clipPath>\n  <clipPath id=\"p189d71efa3\">\n   <rect height=\"94.576271\" width=\"94.576271\" x=\"691.649153\" y=\"7.2\"/>\n  </clipPath>\n  <clipPath id=\"pa4d45810f9\">\n   <rect height=\"94.576271\" width=\"94.576271\" x=\"691.649153\" y=\"125.803636\"/>\n  </clipPath>\n  <clipPath id=\"p48c4856aab\">\n   <rect height=\"94.576271\" width=\"94.576271\" x=\"805.140678\" y=\"7.2\"/>\n  </clipPath>\n  <clipPath id=\"p2396e33ddc\">\n   <rect height=\"94.576271\" width=\"94.576271\" x=\"805.140678\" y=\"125.803636\"/>\n  </clipPath>\n  <clipPath id=\"p7052c5a774\">\n   <rect height=\"94.576271\" width=\"94.576271\" x=\"918.632203\" y=\"7.2\"/>\n  </clipPath>\n  <clipPath id=\"pe273f41ae2\">\n   <rect height=\"94.576271\" width=\"94.576271\" x=\"918.632203\" y=\"125.803636\"/>\n  </clipPath>\n  <clipPath id=\"pb131499101\">\n   <rect height=\"94.576271\" width=\"94.576271\" x=\"1032.123729\" y=\"7.2\"/>\n  </clipPath>\n  <clipPath id=\"p53853958b4\">\n   <rect height=\"94.576271\" width=\"94.576271\" x=\"1032.123729\" y=\"125.803636\"/>\n  </clipPath>\n </defs>\n</svg>\n",
      "image/png": "[encoded data removed]"
     },
     "metadata": {
      "needs_background": "light"
     }
    }
   ],
   "source": [
    "import matplotlib.pyplot as plt\n",
    "\n",
    "\n",
    "n = 10  # How many digits we will display\n",
    "plt.figure(figsize=(20, 4))\n",
    "for i in range(n):\n",
    "    # Display original\n",
    "    ax = plt.subplot(2, n, i + 1)\n",
    "    plt.imshow(x_test[i].reshape(28, 28))\n",
    "    plt.gray()\n",
    "    ax.get_xaxis().set_visible(False)\n",
    "    ax.get_yaxis().set_visible(False)\n",
    "\n",
    "    # Display reconstruction\n",
    "    ax = plt.subplot(2, n, i + 1 + n)\n",
    "    plt.imshow(roundtrip_imgs[i].reshape(28, 28))\n",
    "    plt.gray()\n",
    "    ax.get_xaxis().set_visible(False)\n",
    "    ax.get_yaxis().set_visible(False)\n",
    "plt.show()"
   ]
  },
  {
   "source": [
    "What about the compression? Let's check the sizes of the arrays."
   ],
   "cell_type": "markdown",
   "metadata": {}
  },
  {
   "cell_type": "code",
   "execution_count": 21,
   "metadata": {},
   "outputs": [
    {
     "output_type": "stream",
     "name": "stdout",
     "text": [
      "x_test.shape[1]: 784\nencoded_imgs.shape[1]: 32\nSpace saving: 95.92%\n"
     ]
    }
   ],
   "source": [
    "encoded_imgs = autoencoder.transform(x_test)\n",
    "print(f\"x_test.shape[1]: {x_test.shape[1]}\")\n",
    "print(f\"encoded_imgs.shape[1]: {encoded_imgs.shape[1]}\")\n",
    "space_saving = (1-encoded_imgs.astype(x_test.dtype).nbytes/x_test.nbytes)*100\n",
    "print(f\"Space saving: {space_saving:0.2f}%\")"
   ]
  }
 ],
 "metadata": {
  "colab": {
   "collapsed_sections": [],
   "name": "Benchmarks.ipynb",
   "provenance": []
  },
  "kernelspec": {
   "display_name": "Python 3",
   "language": "python",
   "name": "python3"
  },
  "language_info": {
   "codemirror_mode": {
    "name": "ipython",
    "version": 3
   },
   "file_extension": ".py",
   "mimetype": "text/x-python",
   "name": "python",
   "nbconvert_exporter": "python",
   "pygments_lexer": "ipython3",
   "version": "3.8.5-final"
  }
 },
 "nbformat": 4,
 "nbformat_minor": 1
}