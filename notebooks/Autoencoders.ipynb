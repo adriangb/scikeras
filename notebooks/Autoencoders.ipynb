{
 "cells": [
  {
   "cell_type": "markdown",
   "metadata": {
    "id": "z22BE9uhvoxO"
   },
   "source": [
    "# Autoencoders in SciKeras"
   ]
  },
  {
   "cell_type": "markdown",
   "metadata": {
    "id": "hapoJed-voxP"
   },
   "source": [
    "Autencoders are an approach to use nearual networks to distill data into it's most important features, thereby compressing the data. We will be following the [Keras tutorial](https://blog.keras.io/building-autoencoders-in-keras.html) on the topic, which goes much more in depth and breadth than we will here. You are highly encouraged to check out that tutorial if you want to learn about autoencoders in the general sense.\n",
    "\n",
    "\n",
    "\n",
    "<table align=\"left\"><td>\n",
    "<a target=\"_blank\" href=\"https://colab.research.google.com/github/adriangb/scikeras/blob/master/notebooks/Basic_Usage.ipyn\">\n",
    "    <img src=\"https://www.tensorflow.org/images/colab_logo_32px.png\" />Run in Google Colab</a>  \n",
    "</td><td>\n",
    "<a target=\"_blank\" href=\"https://github.com/adriangb/scikeras/blob/master/notebooks/Basic_Usage.ipynb\"><img width=32px src=\"https://www.tensorflow.org/images/GitHub-Mark-32px.png\" />View source on GitHub</a></td></table>"
   ]
  },
  {
   "cell_type": "markdown",
   "metadata": {
    "id": "iT-ibpi7voxQ"
   },
   "source": [
    "### Table of contents"
   ]
  },
  {
   "cell_type": "markdown",
   "metadata": {
    "id": "ekJWKPFMvoxR"
   },
   "source": [
    "* [Data](#Data)\n",
    "* [Define Model](#Define-Keras-Model)\n",
    "* [Training](#Training)\n",
    "* [Explore Results](#Explore-Results)"
   ]
  },
  {
   "cell_type": "markdown",
   "metadata": {
    "id": "6avb3GBQDQyG"
   },
   "source": [
    "Install SciKeras"
   ]
  },
  {
   "cell_type": "code",
   "execution_count": null,
   "metadata": {
    "id": "qCcyTjVkvoxR"
   },
   "outputs": [],
   "source": [
    "!python -m pip install git+https://github.com/adriangb/scikeras.git@master"
   ]
  },
  {
   "cell_type": "markdown",
   "metadata": {
    "id": "EZveNcetDQyL"
   },
   "source": [
    "Silence TensorFlow warnings to keep output succint."
   ]
  },
  {
   "cell_type": "code",
   "execution_count": 1,
   "metadata": {
    "id": "ekNmO_GPDQyL"
   },
   "outputs": [],
   "source": [
    "import warnings\n",
    "from tensorflow import get_logger\n",
    "get_logger().setLevel('ERROR')"
   ]
  },
  {
   "cell_type": "code",
   "execution_count": 2,
   "metadata": {
    "id": "Sf4j-x4DvoxV"
   },
   "outputs": [],
   "source": [
    "from tensorflow import keras"
   ]
  },
  {
   "cell_type": "markdown",
   "metadata": {
    "id": "hCuOBH8AvoxX"
   },
   "source": [
    "## Data"
   ]
  },
  {
   "cell_type": "markdown",
   "metadata": {
    "id": "i3fAUKBUvoxY"
   },
   "source": [
    "We load the dataset from the Keras tutorial. The dataset consists of images of cats and dogs."
   ]
  },
  {
   "cell_type": "code",
   "execution_count": 3,
   "metadata": {
    "colab": {
     "base_uri": "https://localhost:8080/",
     "height": 51
    },
    "id": "QM74xeoe-1S-",
    "outputId": "23946eec-c32f-4db6-8bda-e12bda6492ea"
   },
   "outputs": [
    {
     "output_type": "stream",
     "name": "stdout",
     "text": [
      "(60000, 784)\n(10000, 784)\n"
     ]
    }
   ],
   "source": [
    "from tensorflow.keras.datasets import mnist\n",
    "import numpy as np\n",
    "\n",
    "\n",
    "(x_train, _), (x_test, _) = mnist.load_data()\n",
    "x_train = x_train.astype('float32') / 255.\n",
    "x_test = x_test.astype('float32') / 255.\n",
    "x_train = x_train.reshape((len(x_train), np.prod(x_train.shape[1:])))\n",
    "x_test = x_test.reshape((len(x_test), np.prod(x_test.shape[1:])))\n",
    "print(x_train.shape)\n",
    "print(x_test.shape)"
   ]
  },
  {
   "cell_type": "markdown",
   "metadata": {
    "id": "yuR10hymK0dh"
   },
   "source": [
    "## Define Keras Model"
   ]
  },
  {
   "cell_type": "markdown",
   "metadata": {},
   "source": [
    "We will be defining a very simple autencoder."
   ]
  },
  {
   "cell_type": "code",
   "execution_count": 4,
   "metadata": {
    "id": "dBFFXT-__7KU"
   },
   "outputs": [],
   "source": [
    "from tensorflow import keras\n",
    "from tensorflow.keras import layers\n",
    "\n",
    "\n",
    "# This is the size of our encoded representations\n",
    "encoding_dim = 32  # 32 floats -> compression of factor 24.5, assuming the input is 784 floats\n",
    "\n",
    "# This is our input image\n",
    "input_img = keras.Input(shape=(784,))\n",
    "# \"encoded\" is the encoded representation of the input\n",
    "encoded = layers.Dense(encoding_dim, activation='relu')(input_img)\n",
    "# \"decoded\" is the lossy reconstruction of the input\n",
    "decoded = layers.Dense(784, activation='sigmoid')(encoded)\n",
    "\n",
    "# This model maps an input to its reconstruction\n",
    "autoencoder_model = keras.Model(input_img, decoded)\n",
    "\n",
    "# This model maps an input to its encoded representation\n",
    "encoder_model = keras.Model(input_img, encoded)\n",
    "\n",
    "# This is our encoded (32-dimensional) input\n",
    "encoded_input = keras.Input(shape=(encoding_dim,))\n",
    "# Retrieve the last layer of the autoencoder model\n",
    "decoder_layer = autoencoder_model.layers[-1]\n",
    "# Create the decoder model\n",
    "decoder_model = keras.Model(encoded_input, decoder_layer(encoded_input))"
   ]
  },
  {
   "source": [
    "We create a small class that will allow us to call `fit_transform` instead of having to call `fit` and `transform` sequentially."
   ],
   "cell_type": "markdown",
   "metadata": {}
  },
  {
   "cell_type": "code",
   "execution_count": 5,
   "metadata": {},
   "outputs": [],
   "source": [
    "from sklearn.base import TransformerMixin\n",
    "from scikeras.wrappers import BaseWrapper\n",
    "\n",
    "\n",
    "class AutoEncoderTransformer(BaseWrapper, TransformerMixin):\n",
    "    \"\"\"A mixin that enables the transform and fit_transform methods.\n",
    "    \"\"\"\n",
    "\n",
    "    def transform(self, X):\n",
    "        return self.predict(X)"
   ]
  },
  {
   "cell_type": "markdown",
   "metadata": {},
   "source": [
    "Next, we wrap the Keras Model with Scikeras. Note that we use BaseWrapper instead of KerasClassifier or KerasRegressor since this is not a classificaiton or regression task."
   ]
  },
  {
   "cell_type": "code",
   "execution_count": 6,
   "metadata": {},
   "outputs": [],
   "source": [
    "compile_params = {\"optimizer\": \"adam\", \"loss\": \"binary_crossentropy\"}\n",
    "fit_params = {\"epochs\": 50, \"batch_size\": 256, \"shuffle\": True}\n",
    "\n",
    "autoencoder = BaseWrapper(model=autoencoder_model, **compile_params, **fit_params)\n",
    "encoder = AutoEncoderTransformer(model=encoder_model, **compile_params, **fit_params)\n",
    "decoder = AutoEncoderTransformer(model=decoder_model, **compile_params, **fit_params)"
   ]
  },
  {
   "cell_type": "markdown",
   "metadata": {
    "id": "yqBl5xLDP43O"
   },
   "source": [
    "## Training"
   ]
  },
  {
   "cell_type": "markdown",
   "metadata": {
    "id": "4fHbt_mUVBhE"
   },
   "source": [
    "To train the model, we pass the input images as both the features and the target. This will train the layers to compress the data as accurately as possible between the encoder and decoder."
   ]
  },
  {
   "cell_type": "code",
   "execution_count": 7,
   "metadata": {
    "colab": {
     "base_uri": "https://localhost:8080/",
     "height": 34
    },
    "id": "QQhtIWsMP4Ii",
    "outputId": "1581384e-7012-4816-d4cf-a4190a30e50f"
   },
   "outputs": [
    {
     "output_type": "stream",
     "name": "stdout",
     "text": [
      "Epoch 1/50\n",
      "235/235 [==============================] - 1s 3ms/step - loss: 0.2789\n",
      "Epoch 2/50\n",
      "235/235 [==============================] - 1s 3ms/step - loss: 0.1726\n",
      "Epoch 3/50\n",
      "235/235 [==============================] - 1s 3ms/step - loss: 0.1456\n",
      "Epoch 4/50\n",
      "235/235 [==============================] - 1s 3ms/step - loss: 0.1303\n",
      "Epoch 5/50\n",
      "235/235 [==============================] - 1s 3ms/step - loss: 0.1197\n",
      "Epoch 6/50\n",
      "235/235 [==============================] - 1s 3ms/step - loss: 0.1120\n",
      "Epoch 7/50\n",
      "235/235 [==============================] - 1s 3ms/step - loss: 0.1064\n",
      "Epoch 8/50\n",
      "235/235 [==============================] - 1s 3ms/step - loss: 0.1025\n",
      "Epoch 9/50\n",
      "235/235 [==============================] - 1s 4ms/step - loss: 0.0997\n",
      "Epoch 10/50\n",
      "235/235 [==============================] - 1s 4ms/step - loss: 0.0978\n",
      "Epoch 11/50\n",
      "235/235 [==============================] - 1s 3ms/step - loss: 0.0965\n",
      "Epoch 12/50\n",
      "235/235 [==============================] - 1s 3ms/step - loss: 0.0957\n",
      "Epoch 13/50\n",
      "235/235 [==============================] - 1s 3ms/step - loss: 0.0951\n",
      "Epoch 14/50\n",
      "235/235 [==============================] - 1s 3ms/step - loss: 0.0947\n",
      "Epoch 15/50\n",
      "235/235 [==============================] - 1s 3ms/step - loss: 0.0944\n",
      "Epoch 16/50\n",
      "235/235 [==============================] - 1s 3ms/step - loss: 0.0942\n",
      "Epoch 17/50\n",
      "235/235 [==============================] - 1s 3ms/step - loss: 0.0940\n",
      "Epoch 18/50\n",
      "235/235 [==============================] - 1s 3ms/step - loss: 0.0938\n",
      "Epoch 19/50\n",
      "235/235 [==============================] - 1s 3ms/step - loss: 0.0937\n",
      "Epoch 20/50\n",
      "235/235 [==============================] - 1s 3ms/step - loss: 0.0936\n",
      "Epoch 21/50\n",
      "235/235 [==============================] - 1s 3ms/step - loss: 0.0935\n",
      "Epoch 22/50\n",
      "235/235 [==============================] - 1s 3ms/step - loss: 0.0934\n",
      "Epoch 23/50\n",
      "235/235 [==============================] - 1s 3ms/step - loss: 0.0933\n",
      "Epoch 24/50\n",
      "235/235 [==============================] - 1s 3ms/step - loss: 0.0933\n",
      "Epoch 25/50\n",
      "235/235 [==============================] - 1s 3ms/step - loss: 0.0932\n",
      "Epoch 26/50\n",
      "235/235 [==============================] - 1s 3ms/step - loss: 0.0932\n",
      "Epoch 27/50\n",
      "235/235 [==============================] - 1s 3ms/step - loss: 0.0931\n",
      "Epoch 28/50\n",
      "235/235 [==============================] - 1s 3ms/step - loss: 0.0931\n",
      "Epoch 29/50\n",
      "235/235 [==============================] - 1s 4ms/step - loss: 0.0930\n",
      "Epoch 30/50\n",
      "235/235 [==============================] - 1s 3ms/step - loss: 0.0930\n",
      "Epoch 31/50\n",
      "235/235 [==============================] - 1s 3ms/step - loss: 0.0930\n",
      "Epoch 32/50\n",
      "235/235 [==============================] - 1s 3ms/step - loss: 0.0929\n",
      "Epoch 33/50\n",
      "235/235 [==============================] - 1s 3ms/step - loss: 0.0929\n",
      "Epoch 34/50\n",
      "235/235 [==============================] - 1s 3ms/step - loss: 0.0929\n",
      "Epoch 35/50\n",
      "235/235 [==============================] - 1s 3ms/step - loss: 0.0929\n",
      "Epoch 36/50\n",
      "235/235 [==============================] - 1s 4ms/step - loss: 0.0929\n",
      "Epoch 37/50\n",
      "235/235 [==============================] - 1s 3ms/step - loss: 0.0928\n",
      "Epoch 38/50\n",
      "235/235 [==============================] - 1s 3ms/step - loss: 0.0928\n",
      "Epoch 39/50\n",
      "235/235 [==============================] - 1s 3ms/step - loss: 0.0928\n",
      "Epoch 40/50\n",
      "235/235 [==============================] - 1s 4ms/step - loss: 0.0928\n",
      "Epoch 41/50\n",
      "235/235 [==============================] - 1s 3ms/step - loss: 0.0928\n",
      "Epoch 42/50\n",
      "235/235 [==============================] - 1s 3ms/step - loss: 0.0927\n",
      "Epoch 43/50\n",
      "235/235 [==============================] - 1s 3ms/step - loss: 0.0927\n",
      "Epoch 44/50\n",
      "235/235 [==============================] - 1s 3ms/step - loss: 0.0927\n",
      "Epoch 45/50\n",
      "235/235 [==============================] - 1s 4ms/step - loss: 0.0927\n",
      "Epoch 46/50\n",
      "235/235 [==============================] - 1s 3ms/step - loss: 0.0927\n",
      "Epoch 47/50\n",
      "235/235 [==============================] - 1s 4ms/step - loss: 0.0927\n",
      "Epoch 48/50\n",
      "235/235 [==============================] - 1s 3ms/step - loss: 0.0927\n",
      "Epoch 49/50\n",
      "235/235 [==============================] - 1s 3ms/step - loss: 0.0927\n",
      "Epoch 50/50\n",
      "235/235 [==============================] - 1s 3ms/step - loss: 0.0927\n"
     ]
    },
    {
     "output_type": "execute_result",
     "data": {
      "text/plain": [
       "BaseWrapper(\n",
       "\tmodel=<tensorflow.python.keras.engine.functional.Functional object at 0x147acf670>\n",
       "\tbuild_fn=None\n",
       "\twarm_start=False\n",
       "\trandom_state=None\n",
       "\toptimizer=adam\n",
       "\tloss=binary_crossentropy\n",
       "\tmetrics=None\n",
       "\tbatch_size=256\n",
       "\tverbose=1\n",
       "\tcallbacks=None\n",
       "\tvalidation_split=0.0\n",
       "\tshuffle=True\n",
       "\trun_eagerly=False\n",
       "\tepochs=50\n",
       ")"
      ]
     },
     "metadata": {},
     "execution_count": 7
    }
   ],
   "source": [
    "autoencoder.fit(x_train, x_train)"
   ]
  },
  {
   "cell_type": "markdown",
   "metadata": {},
   "source": [
    "Next we fit the encoder and decoder using training data and then round-trip through both using test data."
   ]
  },
  {
   "cell_type": "code",
   "execution_count": 8,
   "metadata": {},
   "outputs": [
    {
     "output_type": "stream",
     "name": "stdout",
     "text": [
      "235/235 [==============================] - 0s 636us/step\n",
      "40/40 [==============================] - 0s 662us/step\n",
      "40/40 [==============================] - 0s 924us/step\n"
     ]
    }
   ],
   "source": [
    "decoder.fit(encoder.fit_transform(x_train))\n",
    "roundtrip_imgs = decoder.transform(encoder.transform(x_test))"
   ]
  },
  {
   "cell_type": "markdown",
   "metadata": {},
   "source": [
    "## Explore Results"
   ]
  },
  {
   "cell_type": "markdown",
   "metadata": {},
   "source": [
    "Now let's compare our inputs to lossy decoded outputs:"
   ]
  },
  {
   "cell_type": "code",
   "execution_count": 10,
   "metadata": {},
   "outputs": [
    {
     "output_type": "display_data",
     "data": {
      "text/plain": "<Figure size 1440x288 with 20 Axes>",
      "image/svg+xml": "<?xml version=\"1.0\" encoding=\"utf-8\" standalone=\"no\"?>\n<!DOCTYPE svg PUBLIC \"-//W3C//DTD SVG 1.1//EN\"\n  \"http://www.w3.org/Graphics/SVG/1.1/DTD/svg11.dtd\">\n<!-- Created with matplotlib (https://matplotlib.org/) -->\n<svg height=\"231.079908pt\" version=\"1.1\" viewBox=\"0 0 1133.9 231.079908\" width=\"1133.9pt\" xmlns=\"http://www.w3.org/2000/svg\" xmlns:xlink=\"http://www.w3.org/1999/xlink\">\n <metadata>\n  <rdf:RDF xmlns:cc=\"http://creativecommons.org/ns#\" xmlns:dc=\"http://purl.org/dc/elements/1.1/\" xmlns:rdf=\"http://www.w3.org/1999/02/22-rdf-syntax-ns#\">\n   <cc:Work>\n    <dc:type rdf:resource=\"http://purl.org/dc/dcmitype/StillImage\"/>\n    <dc:date>2020-11-05T12:24:37.010949</dc:date>\n    <dc:format>image/svg+xml</dc:format>\n    <dc:creator>\n     <cc:Agent>\n      <dc:title>Matplotlib v3.3.2, https://matplotlib.org/</dc:title>\n     </cc:Agent>\n    </dc:creator>\n   </cc:Work>\n  </rdf:RDF>\n </metadata>\n <defs>\n  <style type=\"text/css\">*{stroke-linecap:butt;stroke-linejoin:round;}</style>\n </defs>\n <g id=\"figure_1\">\n  <g id=\"patch_1\">\n   <path d=\"M 0 231.079908 \nL 1133.9 231.079908 \nL 1133.9 0 \nL 0 0 \nz\n\" style=\"fill:none;\"/>\n  </g>\n  <g id=\"axes_1\">\n   <g id=\"patch_2\">\n    <path d=\"M 10.7 101.776271 \nL 105.276271 101.776271 \nL 105.276271 7.2 \nL 10.7 7.2 \nz\n\" style=\"fill:#ffffff;\"/>\n   </g>\n   <g clip-path=\"url(#p4dd848ed64)\">\n    <image height=\"95\" id=\"imagec0e2dac7cf\" transform=\"scale(1 -1)translate(0 -95)\" width=\"95\" x=\"10.7\" xlink:href=\"data:image/png;base64,\niVBORw0KGgoAAAANSUhEUgAAAF8AAABfCAYAAACOTBv1AAADhElEQVR4nO2czyusYRTHj+taTM0GZSMipaT8zEqNXxuZZMGKtZW/wIJY2NhaKHslpaZsrCyQ0FjITCNhQ1JKClGUu7qn58xlGu77+r4z8/2svu88TzOnT8fpMe/MFInIuxAIv9AFFDKUD+Q3uoC/TE5Oap6bmzNrR0dHmvv6+jTf3d35X5iPsPOBUD4QygcSmJmfiebmZs37+/uaBwcHzb6Tk5Mfq8kL2PlAKB9IYMbO9va25sfHR7MWDoc119XVffh4LsLOB0L5QCgfSGBm/s7OjuaFhQWz5r71kE+w84FQPpDAjB2XpaUlcz02Nqa5urpac1dXl9l3eHio+f09+PeI2PlAKB9IkeTAPdz6+nrNmd48Gxoa0ry+vu5rTV7AzgdC+UAoH0hOzPzi4mLNe3t7mtvb282+8/Nzzf39/Z+uBQV2PhDKB5ITY8elvLxc88HBgVmrra3VvLKyYtZGR0f9LewbsPOBUD4QygeSczPfJRqNmutYLKb56enJrLlHT/e4ioSdD4TygeT02Elnenpa88zMjFnb2NjQPDAw8FMlZYSdD4TygeTV2AmFQprdj6KIiDQ2Nmru7e3VvLu7639hn8DOB0L5QCgfSCA/t/Ndnp+fNbtHSxGR1tZWzbOzs5rTj52vr68+Vfcv7HwglA8kr46aLp2dneZ6c3NTc0lJiebu7m6zb2try9e6XNj5QCgfCOUDyduZn457vJyamtJ8f39v9kUiEc2JRMLXmtj5QCgfSMGMnYqKCs3Hx8cfPi4iMjIyonltbc3Xmtj5QCgfSMGMHZfh4WHNq6urZs094fT09Jg1r39WjJ0PhPKBUD6QQM780tJSc93S0qLZ/aJzR0dH1s/58vKi+fT0VHMqlTL7ysrKNE9MTJi1xcXFrF8vG9j5QCgfiOf3cN1ffBURaWpq0pz+J97Q0KC5ra1Nc/oNjsrKSs2Xl5eaq6qqsq7r7e1N8+3trWZ3zKTj/qSYH7DzgVA+EM9POxcXF+a6pqbmy8/x8PBgrpPJ5P+U9CWurq40z8/Pm7V4PO7pa7HzgVA+EMoH4vnMd29GiIiMj49rvr6+Nmvuf53Ly8uab25uzL6zszMvSwwM7HwglA8kkG+sFQrsfCCUD4TygVA+EMoHQvlAKB8I5QOhfCCUD4TygVA+EMoHQvlAKB8I5QOhfCCUD4TygVA+EMoHQvlAKB/IHylJwuaX+CcdAAAAAElFTkSuQmCC\" y=\"-6.776271\"/>\n   </g>\n   <g id=\"patch_3\">\n    <path d=\"M 10.7 101.776271 \nL 10.7 7.2 \n\" style=\"fill:none;stroke:#000000;stroke-linecap:square;stroke-linejoin:miter;stroke-width:0.8;\"/>\n   </g>\n   <g id=\"patch_4\">\n    <path d=\"M 105.276271 101.776271 \nL 105.276271 7.2 \n\" style=\"fill:none;stroke:#000000;stroke-linecap:square;stroke-linejoin:miter;stroke-width:0.8;\"/>\n   </g>\n   <g id=\"patch_5\">\n    <path d=\"M 10.7 101.776271 \nL 105.276271 101.776271 \n\" style=\"fill:none;stroke:#000000;stroke-linecap:square;stroke-linejoin:miter;stroke-width:0.8;\"/>\n   </g>\n   <g id=\"patch_6\">\n    <path d=\"M 10.7 7.2 \nL 105.276271 7.2 \n\" style=\"fill:none;stroke:#000000;stroke-linecap:square;stroke-linejoin:miter;stroke-width:0.8;\"/>\n   </g>\n  </g>\n  <g id=\"axes_2\">\n   <g id=\"patch_7\">\n    <path d=\"M 10.7 220.379908 \nL 105.276271 220.379908 \nL 105.276271 125.803636 \nL 10.7 125.803636 \nz\n\" style=\"fill:#ffffff;\"/>\n   </g>\n   <g clip-path=\"url(#padaedc1feb)\">\n    <image height=\"95\" id=\"imagedb54363943\" transform=\"scale(1 -1)translate(0 -95)\" width=\"95\" x=\"10.7\" xlink:href=\"data:image/png;base64,\niVBORw0KGgoAAAANSUhEUgAAAF8AAABfCAYAAACOTBv1AAAE2klEQVR4nO2cSyi9axTG13a/CyWKlFsuQxMDKZKRjIyMjIihTCgTlIGJZCjmFAOKMmAkSS4xIAMDQpTkfndGZ7XW23/jbN/ez/Y/6zd6dmu1vT0ta7+X73t9RPRBYUBUVBTruLg4FXt4eGD99vYWsjEFmwj0AP7PmPlAor5O8Y7o6Gj1OSkpifXU1BTr2tpalffy8sK6pqaG9crKitdDDClW+UDMfCBmPpCQ9nzZu10uLy/9xmJiYliPjY2xrqioUHlyShooPp+P9cdHcGfhVvlAzHwgIW07Lnd3d6zn5+dZy+kkkZ6SRkZGss7Ly1N5e3t7Px5TsFuNxCofiJkPxMwHAu35z8/PrCcnJ1lXVVWpvKamJtYpKSmsi4uLVd7+/j7rUPbuQLHKB2LmA/FRmBymyJVleXm5is3OzrLOyspivbGxofLq6upYe7HaDTZW+UDMfCBh03Yk8jyXiKirq4t1b28v64gIXTs9PT2sh4eHVSwcZz9W+UDMfCBmPpCw7Pku8fHxrGdmZli7B+1nZ2esKysrVezk5CRIowscq3wgZj6QX9F2JAUFBawXFxdVLCMjg/Xo6KiK9ff3s358fAzS6P4bVvlAzHwgZj6QX9fz5ZZCW1ubig0ODrJ2nwOSBzJbW1us39/fPR7h97HKB2LmAwlp25EHJkS6hchdR3cH0t+OpJxaEhEtLy+zzsnJUbG5uTnWHR0drG9ubr4YdfCwygdi5gOBznbkoUlsbCzr19dXlScfMZEtSD46SETU0NDAemRkRMWenp5Yd3Z2sl5YWFB57t8OJlb5QMx8IGY+EGjPl1NP2f/dXi57/mcr0oSEBNZDQ0Mq1tjYyHp3d5d1a2uryjs+PmZtb6b8xZj5QDxpO16/ROY+jyP5rO3IcRQVFamYfMk6MzOT9cTEhMobGBhgfX9///Vgf4BVPhAzH4iZD8STnu9vd/JPnwMhkN8U95KNvr4+1u3t7azPz89VXktLC+vV1VUV8/rgxSofiJkPxPOppntg8tkhyXe+z/0cyPcRERUWFrJeWlpinZ6ervLGx8dZd3d3q9jt7e23/953sMoHYuYD8bztuJtiMvbdgwp3hevOXP5FbrgRfT4bSUxMZD09Pc26urpa5cmnmZubm1VsbW2NtScr+R9/gxEwZj4QMx+IJ3cvyB6dnJysYvLZGrdHy6mb7NepqakqT96xkJ2dzfr09FTlbW5usnZfgpYvT8vDdLd3p6WlsS4pKVGx9fV11l7cbGuVD8TMBxJw25FTSHkNl3sNS319Pevc3FwVk//+FxcXrOW1LkREpaWlf/x+eWZLpJ9MPjg4UDGZW1ZWRv6QV48F+w0Wq3wgZj6QgNuOXMnK++7djar8/HzWcnOLSLcCfy2ISL+He3V1xdq9o0HOrNxZl5xpyctVDw8PVZ7cw9/e3qZgYpUPxMwHYuYDCbjnyxWpnJ4dHR2pPHkVl7sqlBdUy2mdXKkSEe3s7LCW08nr62uVJ1fa7s6o3FF1fyskctXtHp54/figVT4QMx+I508pu+evsrW4K1d5wCGnf247kW0N+d6s11jlAzHzgZj5QH7d3Qt/E1b5QMx8IGY+EDMfiJkPxMwHYuYDMfOBmPlAzHwgZj4QMx+ImQ/EzAdi5gMx84GY+UDMfCBmPpB/ALg6edwVGx2aAAAAAElFTkSuQmCC\" y=\"-125.379908\"/>\n   </g>\n   <g id=\"patch_8\">\n    <path d=\"M 10.7 220.379908 \nL 10.7 125.803636 \n\" style=\"fill:none;stroke:#000000;stroke-linecap:square;stroke-linejoin:miter;stroke-width:0.8;\"/>\n   </g>\n   <g id=\"patch_9\">\n    <path d=\"M 105.276271 220.379908 \nL 105.276271 125.803636 \n\" style=\"fill:none;stroke:#000000;stroke-linecap:square;stroke-linejoin:miter;stroke-width:0.8;\"/>\n   </g>\n   <g id=\"patch_10\">\n    <path d=\"M 10.7 220.379908 \nL 105.276271 220.379908 \n\" style=\"fill:none;stroke:#000000;stroke-linecap:square;stroke-linejoin:miter;stroke-width:0.8;\"/>\n   </g>\n   <g id=\"patch_11\">\n    <path d=\"M 10.7 125.803636 \nL 105.276271 125.803636 \n\" style=\"fill:none;stroke:#000000;stroke-linecap:square;stroke-linejoin:miter;stroke-width:0.8;\"/>\n   </g>\n  </g>\n  <g id=\"axes_3\">\n   <g id=\"patch_12\">\n    <path d=\"M 124.191525 101.776271 \nL 218.767797 101.776271 \nL 218.767797 7.2 \nL 124.191525 7.2 \nz\n\" style=\"fill:#ffffff;\"/>\n   </g>\n   <g clip-path=\"url(#p7f66b4d3d1)\">\n    <image height=\"95\" id=\"image0442d037a7\" transform=\"scale(1 -1)translate(0 -95)\" width=\"95\" x=\"124.191525\" xlink:href=\"data:image/png;base64,\niVBORw0KGgoAAAANSUhEUgAAAF8AAABfCAYAAACOTBv1AAADwUlEQVR4nO2cu0srQRTG1+sLQVCwEEEQbA1qoQjWopWxESz9CwSJUSsfCNoqWNhZaOMDNQgWViKCSSCNRdBGEBsRVBBFQnzcW93DnOWubHJ391v1+1XfYSaZ4eNwmN3ZmRLLsn5bBMIv9AR+MjQfCM0HQvOB0HwgNB8IzQdC84HQfCA0HwjNB0LzgdB8IDQfCM0HQvOBlCEHn5iYEF1eXu7qNy0tLaKHhoZcj7W6uir66urKsd/Ozo7oi4sL1/9fDMx8IDQfSIkV4B7u7u6uigcGBoIa2jVvb2+iPz4+HPvt7++LzmQyjv1OTk5UnEqlRDPzgdB8IDQfSKA1P5fLqdjt8rIYtre3VXxzcyO6vr5edCHL1WKYnp5W8fz8vGhmPhCaDySUZae1tVXFt7e3BY/1+Pio4tfX13+OW1NT4/gftbW1Ko7FYq7Gfn9/Fz05OanaXl5eRDPzgdB8IDQfSChrfmNjo4rNZeJ3gpkPhOYDCbTsLCwsqNi+DPtLIpFQ8fDwsOjn52fP54WCmQ+E5gMJtOzU1dWp+ODgQHRnZ6fj75aWlkSPjY15Pi8UzHwgNB8IzQcS6Hc79/f3KjaXnltbW6LtT77t7e2iq6urRX/1ZSczHwjNBxLoUvMzTk9PRXd1dTn2+07LTmY+EJoPhOYDCU3Nb2hoEH12dqbazNcSd3d3oru7u1W/y8tLn2bnD8x8IDQfSGjKjol9M6W3t1d0ZWWl6LW1NdVvZGRE9Fd4+mXmA6H5QEJZduzMzs6Knpqacuy3vLwsenR01McZeQMzHwjNB0LzgUAPQbvFPO2Xz+dFV1RUqH7mKZO9vT3Vdnx87NPsioeZD4TmA/kSS02T8fFx0XNzc6rNLEPpdFq19fT0iDZPhyBh5gOh+UACLTtNTU0qfnp6Ev3w8FDw/9nf+0ciEce+Ztk5OjoqeCw/YOYDoflAaD4Q359w+/v7Rdvv2zk/Pxfd19cn2u0BuI2NDRXPzMyI9vNeB69g5gOh+UB8X2p2dHSINj8JtCzLKi0tFZ3NZkVHo1HVz/xcxNybtb9YM6/QamtrU22Li4ui4/G4q7n7DTMfCM0HQvOB+L7UNDdC7Bscg4ODos2bYu2f/Zk3ux4eHopubm5W/ex13sR+KiYMMPOB0Hwg0M2Uzc1N0WYJ8gJ76TLfal5fX3s6VrEw84HQfCCh2cM1nzqrqqpUm3nb4GflaWVlRXQymVRt6+vr/ztFz2HmA6H5QGg+kNDU/J8IMx8IzQdC84HQfCA0HwjNB0LzgdB8IDQfyB/RPu7MLQ/ZlAAAAABJRU5ErkJggg==\" y=\"-6.776271\"/>\n   </g>\n   <g id=\"patch_13\">\n    <path d=\"M 124.191525 101.776271 \nL 124.191525 7.2 \n\" style=\"fill:none;stroke:#000000;stroke-linecap:square;stroke-linejoin:miter;stroke-width:0.8;\"/>\n   </g>\n   <g id=\"patch_14\">\n    <path d=\"M 218.767797 101.776271 \nL 218.767797 7.2 \n\" style=\"fill:none;stroke:#000000;stroke-linecap:square;stroke-linejoin:miter;stroke-width:0.8;\"/>\n   </g>\n   <g id=\"patch_15\">\n    <path d=\"M 124.191525 101.776271 \nL 218.767797 101.776271 \n\" style=\"fill:none;stroke:#000000;stroke-linecap:square;stroke-linejoin:miter;stroke-width:0.8;\"/>\n   </g>\n   <g id=\"patch_16\">\n    <path d=\"M 124.191525 7.2 \nL 218.767797 7.2 \n\" style=\"fill:none;stroke:#000000;stroke-linecap:square;stroke-linejoin:miter;stroke-width:0.8;\"/>\n   </g>\n  </g>\n  <g id=\"axes_4\">\n   <g id=\"patch_17\">\n    <path d=\"M 124.191525 220.379908 \nL 218.767797 220.379908 \nL 218.767797 125.803636 \nL 124.191525 125.803636 \nz\n\" style=\"fill:#ffffff;\"/>\n   </g>\n   <g clip-path=\"url(#p897787a338)\">\n    <image height=\"95\" id=\"image0c27b59c3c\" transform=\"scale(1 -1)translate(0 -95)\" width=\"95\" x=\"124.191525\" xlink:href=\"data:image/png;base64,\niVBORw0KGgoAAAANSUhEUgAAAF8AAABfCAYAAACOTBv1AAAFVElEQVR4nO2cyyu9XxTG13HNNSWXyCUGopSJ20BiKkRJBpKRUiYGRv4AKclAKWUiysjMQAZmQinCgHKLohSJ3PmNvuv37JX3dDq95yxlfUbPaW/vOZ72WWftvdfeASL6JkOFGO0P8Jcx8xUx8xUx8xUx8xUx8xUx8xUx8xUx8xUx8xUx8xUx8xUx8xWJ0/4AfhIT8/9Yiotz/7WEhATWgUCA9fv7u9MPX39/uwu+X19fvnzOf9jIV8TMVyTiYSc2NpZ1QUGB09bW1sa6sbGRdXZ2ttOvsLCQdXx8PGsMM0REz8/PrGU4wb5eIYiI6OTkhPXq6qrTtrS0xPr8/Jz1x8eH53t9fn6SFzbyFTHzFQmQz3u48mtcWVnJenl52WkrKipiLUNIsGd6gdlJsK87Pk++Lz7j7e3Nabu4uGA9NjbGemVlxen38vLC+uHhwfP5NvIVMfMVMfMV8T3VlPG5paWFtUw1MQ3F2aOMk3d3d6yTkpJYZ2RkOP0wnt7f3ztt+MzMzEzWqampTj9MQ+UsOS8vj3V/f/+P/wcR0fX1Neu9vT2nDX83bOQrYuYr4nvYkYtRmHYFSydxljg6Ouq0LSwssMawVlZW5vSrqalhfXx87LTt7+//+F4VFRVOv8HBQdZVVVVOG4ak29tb1k9PT04/DE8YgoiILi8vWdvIV8TMV8TMV8T35QVJSUkJ693dXacN07zX11fWuMJJRLS1tcUaf1NkWosxWW58yFVOLzC9zMrKctqqq6tZY3qJK5xERKenp6zl7wF+Dhv5ipj5ikQ87GB6iZsRREQdHR2sMZzMzs46/YaGhlgHW61EZEiSKXA4YEhKTk5mLTdTML0Otu9rI18RM1+RiIcdpLS01HmNWQwukj0+Pjr9urq6WK+trbH2u5Qj2tjIV8TMV8TMVySqMV9uTszMzLDu7e1lLTcncMbY09PDemdnx+kXNK2DlBfTUPk3fqSkoWIjXxEzX5Gohh0568S6ncXFRdZyEwNnkBsbG6wHBgacfrjAJcMHlhmmpKSwxtnoT68jiY18Rcx8Rcx8RaIa8yWYemIZ+OTkpNOvoaGBNdbfTE1NOf2mp6dZy80T/L1JTEz0/EwY8yOddtrIV8TMV0Q17CAYFjAFJSKan59njXU2WHpHRNTe3u7Z5vVeMv2N5kqpjXxFzHxFfk3YQWQoaG1tZT03N8caK5aJ3IW6kZERpy3Uvd9oYiNfETNfETNfkajW7YSbxmFsx0338vJypx8egh4eHnba8Lfit8R/G/mKmPmK+BJ2gi1a4WtZsSvL7EKhtraW9fr6uud7YQgicjdecONGs/bHRr4iZr4ivoQd/Lrn5OQ4bcXFxazPzs6ctqurK9bhVB9PTEw4bVjNLGfJWGbS3NzMWpYmRhMb+YqY+YqY+Yr4cggaU0Z5Rw0eKsvPz3fatre3WePmh3yGF+Pj487r+vp61rIcfXNzk3Woh+P8INgJGRv5ipj5ivgSdjBNlFet4F0DTU1NThvOVg8PD1nLa1Lwxj+sYMYrxIiIjo6OWGMaS+Te3xBqWPODYOUnNvIVMfMVMfMV8f2+HZnG3dzcsE5LS3Pa6urqWHd3d7PGEm4i76sd5colprwHBweeffF50TyJIrGRr4iZr4jvYUduTmDqKW8NzM3NZZ2ens5absjIA3L/kOEJU0i8aobIPe2CV4DJ0GUH4v4IZr4iES8dwcxCZjt9fX2sOzs7WcsqZTzMhjNmvIeByL3JCmfMRG7IwwMQckYezr5yuNjIV8TMV8TMV+RXloj/FWzkK2LmK2LmK2LmK2LmK2LmK2LmK2LmK2LmK/Ifk9fQbXyCnOwAAAAASUVORK5CYII=\" y=\"-125.379908\"/>\n   </g>\n   <g id=\"patch_18\">\n    <path d=\"M 124.191525 220.379908 \nL 124.191525 125.803636 \n\" style=\"fill:none;stroke:#000000;stroke-linecap:square;stroke-linejoin:miter;stroke-width:0.8;\"/>\n   </g>\n   <g id=\"patch_19\">\n    <path d=\"M 218.767797 220.379908 \nL 218.767797 125.803636 \n\" style=\"fill:none;stroke:#000000;stroke-linecap:square;stroke-linejoin:miter;stroke-width:0.8;\"/>\n   </g>\n   <g id=\"patch_20\">\n    <path d=\"M 124.191525 220.379908 \nL 218.767797 220.379908 \n\" style=\"fill:none;stroke:#000000;stroke-linecap:square;stroke-linejoin:miter;stroke-width:0.8;\"/>\n   </g>\n   <g id=\"patch_21\">\n    <path d=\"M 124.191525 125.803636 \nL 218.767797 125.803636 \n\" style=\"fill:none;stroke:#000000;stroke-linecap:square;stroke-linejoin:miter;stroke-width:0.8;\"/>\n   </g>\n  </g>\n  <g id=\"axes_5\">\n   <g id=\"patch_22\">\n    <path d=\"M 237.683051 101.776271 \nL 332.259322 101.776271 \nL 332.259322 7.2 \nL 237.683051 7.2 \nz\n\" style=\"fill:#ffffff;\"/>\n   </g>\n   <g clip-path=\"url(#pd9e443474b)\">\n    <image height=\"95\" id=\"image5559408233\" transform=\"scale(1 -1)translate(0 -95)\" width=\"95\" x=\"237.683051\" xlink:href=\"data:image/png;base64,\niVBORw0KGgoAAAANSUhEUgAAAF8AAABfCAYAAACOTBv1AAACuElEQVR4nO3cvYoiQRQF4BpdIwMxEATNxTcQNBFjEVEQfAHBRDDwFQTxSUwM/ElFNBRUTAw1ExMjxUR2o71T1TjD7Ox2ny73fNFtq4PL4VKU7c+bUuqnIogAuoH/GcMHYvhADB+I4QMxfCCGD8TwgRg+EMMHYvhADB+I4QP9QDfwWygUkno+nxtr5/NZ6nq9LvXtdnO/MRdx8oEYPpAvt51oNGqsZTIZqVutltTdbtf9xlzEyQdi+EC+2Xb0k8t0OjXWUqmU1NVqVeper2fc93g8XOrOHZx8IIYPxPCB3pQPv7eTy+WM69lsJnUwGJS6UCh8eJ8NOPlADB/IN0dN3XK5NK5Pp5PUiUTC63Zcw8kHYvhADB/Il3u+03g8lrrRaEhdLBaN+3jUpC9j+EBWbDvH4/Hp684PXWzDyQdi+EC+fLDmFI/Hpd5sNlJfLhfjvnQ67VVL/wQnH4jhAzF8ICuOmvpTzcViIXWlUjHuK5fLUg+HQ/cb+0ucfCCGD2TFtqPbbrdS69/hcV5z26FPMXwghg9kxeMFnf518clkYqwdDgeps9mssXa/313t6zs4+UAMH8i6bUfX7/eN63a7LXWpVDLWRqORJz39CU4+EMMHsu4drm6323241ul0jGtuO2Rg+EAMH8jqPd/5Hw26WCzmYSffw8kHYvhAVm87+oM0pZRarVZSO7edcDgs9fV6dbWvr+LkAzF8IKsfrDnpn+EOBgNjLZ/PS/3ZKclLnHwghg/E8IGsPmo67fd7qZ3HyVqtJjX3fGL4SC911NQ5/3mw2WxKHYlEvG7nKU4+EMMHYvhAL3XU1Om/WlTKfKrpl1+wcPKBGD7Qy2476/XauA4E3ucsmUx63c5TnHwghg/0su9wbcDJB2L4QAwfiOEDMXwghg/E8IEYPhDDB2L4QAwfiOEDMXygX7JvhHNyYVMPAAAAAElFTkSuQmCC\" y=\"-6.776271\"/>\n   </g>\n   <g id=\"patch_23\">\n    <path d=\"M 237.683051 101.776271 \nL 237.683051 7.2 \n\" style=\"fill:none;stroke:#000000;stroke-linecap:square;stroke-linejoin:miter;stroke-width:0.8;\"/>\n   </g>\n   <g id=\"patch_24\">\n    <path d=\"M 332.259322 101.776271 \nL 332.259322 7.2 \n\" style=\"fill:none;stroke:#000000;stroke-linecap:square;stroke-linejoin:miter;stroke-width:0.8;\"/>\n   </g>\n   <g id=\"patch_25\">\n    <path d=\"M 237.683051 101.776271 \nL 332.259322 101.776271 \n\" style=\"fill:none;stroke:#000000;stroke-linecap:square;stroke-linejoin:miter;stroke-width:0.8;\"/>\n   </g>\n   <g id=\"patch_26\">\n    <path d=\"M 237.683051 7.2 \nL 332.259322 7.2 \n\" style=\"fill:none;stroke:#000000;stroke-linecap:square;stroke-linejoin:miter;stroke-width:0.8;\"/>\n   </g>\n  </g>\n  <g id=\"axes_6\">\n   <g id=\"patch_27\">\n    <path d=\"M 237.683051 220.379908 \nL 332.259322 220.379908 \nL 332.259322 125.803636 \nL 237.683051 125.803636 \nz\n\" style=\"fill:#ffffff;\"/>\n   </g>\n   <g clip-path=\"url(#pc783ebbaea)\">\n    <image height=\"95\" id=\"imageaaa3244917\" transform=\"scale(1 -1)translate(0 -95)\" width=\"95\" x=\"237.683051\" xlink:href=\"data:image/png;base64,\niVBORw0KGgoAAAANSUhEUgAAAF8AAABfCAYAAACOTBv1AAAEEElEQVR4nO2cO0v8UBDF76ogWKggvsFCxUK0EBEsrQRbsbGy8jP4BfwQgo0IFmovWNiIIlr4aARhFQtBUfCtiO/qP85c3JDNP7sncc+vOrt3IOEwmUxu7k3GOfflCIQy9AmUMjQfCM0HQvOB0HwgNB8IzQdC84HQfCAV6BP4R1nZTx5UVNjT+vr6eQj/+Pj49f/fficdZj4Qmg+E5gOB1vzy8nLRjY2NokdHR01cTU2N6OXlZdEnJycm7v39Pe9zyGQyoWPjvqcw84HQfCDQsvP5+Sm6qqpK9Pj4uInr7u4W3dDQIHpqasrExVF2itmuMvOB0HwgGZeQd7i1tbWi19fXzVhvb6/os7Mz0f39/Sbu8vIy1LF0qdFP1s7ZsqPLYiFg5gOh+UBoPpDEzGo+PDyIXlhYMGPT09Oi6+rqRHd2dpq4q6sr0UEto675bDVLFJoPJDFlR7d18/PzZmxyclJ0S0uL6IGBARO3vb0tWr908QkqO/lMtP0vzHwgNB8IzQeSmJqvW7zr62sztrKyInpiYkL04OCgiZudnRX9/Pwc6lj5jMUNMx8IzQcSe9mJ44nRbxM3NjZEj42Nie7p6TFxemY0bNnxZy5ZdkoEmg+k4GVHE/aS9kvB4eGh6Lu7O9H6fa5z9un3/Pw857Fz6WLDzAdC84HQfCCx1/xC1NCLiwvRp6enouvr602cXt+zu7sb6bz0PavQ9wNmPhCaDyQxE2sa/3J/fHwUrdf0+Ot2hoaGRC8tLZmxl5eXUMfSu2L8tjnoBU0UmPlAaD4Qmg8kMWs1g9A7WPr6+kQvLi6auKenJ9H+7pbj42PRQS2kPpa/jlMvQY+jDWXmA6H5QBLZavroWU79hOsvCe/q6hI9MjJixmZmZkS/vb3lPFbY9T4sOymH5gMpatmJYymeftrd2dkxY7rsDA8Pm7G5uTnRQWVHw50pfxiaD4TmA4G2mrnuAUFtnG4F19bWzJhuL/2X6/q33gUThH8euZaWR207mflAaD6QxLSaYS9dXXb29vbM2P7+vujm5mYz1tbWJlp/KiafkqFj49hUx8wHQvOBFLXshL0cw25e0PtunXNudXVVtF7N7Jxzra2tovWcfZTPxMQFMx8IzQdC84Gk4mVKLl5fX83vra0t0f6aHr18vLq6WvTNzY2Ji3Jfijpby8wHQvOBJLLVjIqeMLu9vTVj7e3tv+qDgwMTF/ZFi4YTaymE5gOh+UBS12oGfZZRTxv4628qKytFd3R0iM5msybu/v5eNF+g/2FoPpDUlR2N/2Spv7ewublpxpqamkQfHR2J9ltLfnuhRKD5QFKxOSIKYb8aWOiOJghmPhCaD4TmA/mzNT8NMPOB0HwgNB8IzQdC84HQfCA0HwjNB0LzgXwDVjZq1bSxwH0AAAAASUVORK5CYII=\" y=\"-125.379908\"/>\n   </g>\n   <g id=\"patch_28\">\n    <path d=\"M 237.683051 220.379908 \nL 237.683051 125.803636 \n\" style=\"fill:none;stroke:#000000;stroke-linecap:square;stroke-linejoin:miter;stroke-width:0.8;\"/>\n   </g>\n   <g id=\"patch_29\">\n    <path d=\"M 332.259322 220.379908 \nL 332.259322 125.803636 \n\" style=\"fill:none;stroke:#000000;stroke-linecap:square;stroke-linejoin:miter;stroke-width:0.8;\"/>\n   </g>\n   <g id=\"patch_30\">\n    <path d=\"M 237.683051 220.379908 \nL 332.259322 220.379908 \n\" style=\"fill:none;stroke:#000000;stroke-linecap:square;stroke-linejoin:miter;stroke-width:0.8;\"/>\n   </g>\n   <g id=\"patch_31\">\n    <path d=\"M 237.683051 125.803636 \nL 332.259322 125.803636 \n\" style=\"fill:none;stroke:#000000;stroke-linecap:square;stroke-linejoin:miter;stroke-width:0.8;\"/>\n   </g>\n  </g>\n  <g id=\"axes_7\">\n   <g id=\"patch_32\">\n    <path d=\"M 351.174576 101.776271 \nL 445.750847 101.776271 \nL 445.750847 7.2 \nL 351.174576 7.2 \nz\n\" style=\"fill:#ffffff;\"/>\n   </g>\n   <g clip-path=\"url(#p2782036d00)\">\n    <image height=\"95\" id=\"imagecc45eacf17\" transform=\"scale(1 -1)translate(0 -95)\" width=\"95\" x=\"351.174576\" xlink:href=\"data:image/png;base64,\niVBORw0KGgoAAAANSUhEUgAAAF8AAABfCAYAAACOTBv1AAAD6ElEQVR4nO2czSttURjG9+H6D5gYIJQy9ZGBjzJCSOrkTGTGQMhQSkwMZSKiDCVFQtKZKcUZGJj4mjGRMFAy8nFHXu9a3X06d5+9zrPv9fxGz+pdZ+3V09u719lrrx3zPO/TIxDy0BP4ydB8IDQfCM0HQvOB0HwgNB8IzQdC84HQfCA0HwjNB0LzgfxCT+CLtrY20YODg0asq6tL9M7Ojujl5WWjXywWE31+fm7Ebm9vQ5lnmDDzgdB8IDEvh5spzc3NRrunp0f02NiY6I+Pj0Dj5+V959Lo6KgRW1hYCDSmS5j5QGg+EOdlp7S0VPTx8bERKyoqEq1LRhhl5/7+3ohdXFyI1qupu7s7o9/r62ugaweBmQ+E5gOh+UCc/8Pt7e0VrWu8a+xr6fbl5aXopaUlo9/IyIjbiSmY+UBoPhDnS83r62vRFRUVvv06Ozt9Y/oBWnFxsW+/MJar+fn5gX4XBGY+EJoPhOYDcV7zr66uRJeXl/v2KygoyPpa+/v7oquqqoxYSUlJRmMcHByI1ps4LmDmA6H5QCKzhxsGHR0doufn543Y8PBwRmNUV1eLbmxsNGJHR0fBJ/cHmPlAaD6Q/2q1o7EfrOlysr6+LrqwsNDol25DpqGhQXQYr6Iw84HQfCA0H4jzpebu7q5o/W6Oax4eHoz24eGh6NnZWdFzc3O+Y9j3jbDvS8x8IDQfiPOlZmVlpWi97LTJ5SZGWVmZ6I2NDSNWV1cn2t6QWVtbE93f35/1PJj5QGg+EJoPJKdPNdNtaqdSKdHxeNyIhX2q5PPz+zZnz0m37dj09HSo82DmA6H5QCKzmVJbWyt6dXXViCUSCdGPj49ZX6u7u1t0TU1N1uMFhZkPhOYDcV523t7eRNslw97I+KKlpcVon5yciN7c3BQ9MzNj9Et3qkSfkJmYmPDtp8eYmpoyYmGvupj5QGg+EJoPJKeHoO1arpeU+kljpq9326dKksmk6OfnZyPW2toqenJy0ndMfXh6cXExo3kEhZkPhOYDyWnZsdFvFbe3t4sOeqrk6elJ9MvLixHTS8108GTKD4HmA4GWHc37+7voML69kG6Mm5sb0X19fUbs9PQ00LWDwMwHQvOB0HwgkdlMGR8fF60//+V5ntfU1PTX421tbRltfark7OxMdC5rvA0zHwjNBxKZpabGfjt4e3tbdH19ve/v+HVBkjE0HwjNBxKZpabGPlUyMDAgWn+i8V+HmQ+E5gOJZNmx0V99XVlZET00NGT00/9W9/b23E8sS5j5QGg+kEj+w/0pMPOB0HwgNB8IzQdC84HQfCA0HwjNB0LzgdB8IDQfCM0HQvOB/AZOXP56h+bY9AAAAABJRU5ErkJggg==\" y=\"-6.776271\"/>\n   </g>\n   <g id=\"patch_33\">\n    <path d=\"M 351.174576 101.776271 \nL 351.174576 7.2 \n\" style=\"fill:none;stroke:#000000;stroke-linecap:square;stroke-linejoin:miter;stroke-width:0.8;\"/>\n   </g>\n   <g id=\"patch_34\">\n    <path d=\"M 445.750847 101.776271 \nL 445.750847 7.2 \n\" style=\"fill:none;stroke:#000000;stroke-linecap:square;stroke-linejoin:miter;stroke-width:0.8;\"/>\n   </g>\n   <g id=\"patch_35\">\n    <path d=\"M 351.174576 101.776271 \nL 445.750847 101.776271 \n\" style=\"fill:none;stroke:#000000;stroke-linecap:square;stroke-linejoin:miter;stroke-width:0.8;\"/>\n   </g>\n   <g id=\"patch_36\">\n    <path d=\"M 351.174576 7.2 \nL 445.750847 7.2 \n\" style=\"fill:none;stroke:#000000;stroke-linecap:square;stroke-linejoin:miter;stroke-width:0.8;\"/>\n   </g>\n  </g>\n  <g id=\"axes_8\">\n   <g id=\"patch_37\">\n    <path d=\"M 351.174576 220.379908 \nL 445.750847 220.379908 \nL 445.750847 125.803636 \nL 351.174576 125.803636 \nz\n\" style=\"fill:#ffffff;\"/>\n   </g>\n   <g clip-path=\"url(#p1812c63c17)\">\n    <image height=\"95\" id=\"image8d1582c2c2\" transform=\"scale(1 -1)translate(0 -95)\" width=\"95\" x=\"351.174576\" xlink:href=\"data:image/png;base64,\niVBORw0KGgoAAAANSUhEUgAAAF8AAABfCAYAAACOTBv1AAAFNUlEQVR4nO2cSyh1bRTHl/stRSFCMXCfycSIkbuUIZlIyUQUc0aUuXuZuaSEhOQyM6AYUZQiM9fc73yz1Vor+7w67z7W+b5v/Ub/3XrOPk//1lnnue0dAABfYKgQqN2B/zNmviJmviJmviJmviJmviJmviJmviJmviJmviJmviJmviJmviLBml8eFRWFOisrC3V5eTlrl52djXp/fx/10tISa3dwcID6+fmZxb6+/G/x1jJfETNfkQDw8WZKQEAA6ry8PBabmJhATctOcDCvhvQelI+PD3Z9enqKur29ncUWFxdRv76+/qnbv4JlviJmviI+LzuJiYmo19bWWIyOYgID3c2Dl5cXdj07O4u6ra0N9dnZGWv3+fnpaj88YZmviJmviJmviOs1X9bunp4e1LTWAgCEhISgprX26enJ8f7h4eGo5ZDUE3RYenJygrqmpoa1ozNoX9d/y3xFzHxFXC87tCwAAOzs7KCms1gA/rPe2tpC3dzczNq9v7+jbmpqQl1aWsraZWRkoA4NDWUxOkumi2zn5+esXUVFxbd9l59zA8t8Rcx8Rcx8RVyv+bGxsex6c3MTdWZmJovd3d2hrqys/PYzEroBk5KSwmLV1dWoOzs7WSwuLg61U/0HADg6OkJdWFjIYhcXF4798gbLfEXMfEVcLzv05w0AMD8/jzo/P5/F6EyzoKAANS1HEjqrjYyMZDFaTuiwU/YjKSnJ8f50WNvb28ti3d3d37bzFst8Rcx8RVw/OiIX1oKCglDLPdebmxvHzzlBRydyL5Ze7+7uslhtbS3qlZUV1NHR0Y79LS4uZrG+vj7Ut7e3P+qvJyzzFTHzFTHzFXG95staSDey5fmb+Ph41DExMajpf4GEroTKTXJPq47b29uo6XmhxsZG1o7+98hhs9P5IW+xzFfEzFfE9bLz9vbmeE33bAH4mZ6qqirUg4ODrB0donq7oUHvMTk5ibqhoYG1CwsLQy0XCeminqfS+FMs8xUx8xUx8xVxvebLsy7T09Ooi4qKWIzW146ODtTj4+Os3fX19V/3iw4TPZ338bTRIv+z/hbLfEXMfEVcLzvyp7q8vIxazkjpZkhycjLqrq4u1o6WJLqJQVcg5XfL8kdLTW5uLmo5a6VD0oeHBxZzY3hJscxXxMxXxOfP4dKH1GZmZlisvr4eNR1JtLS0sHaXl5eoh4aGUEdERDh+r9wHpvu2ZWVlqGWZpGWN9h0A4PHx0fH7vMEyXxEzXxEzXxGfP41ISUhIYNd7e3uo5cYFhQ4bj4+PUR8eHrJ29DiffLqFnuPJyclBTTdxAPh/RWtrK4tNTU192ydvscxXxMxX5FfLjpxN0o2MkZER1PKpEgodGsoje3TjRp7pcVpMk+WD7u/SmTUAwP39vWO/vMEyXxEzX5FfLTsSWl7m5uZQl5SUsHZORwnl7JSWEFmS6JEWOmMeGBhg7YaHh1HLt1W5jWW+Ima+Ima+Iqo1n5KWloZ6dXWVxdLT01HT+i9rPt0IoXUdAGBsbAz16OgoajpjlvfwNZb5ipj5ivhN2aHlRA41+/v7Uaempn77GQC+2bGwsMBiTq/20nzZqWW+Ima+Ima+IqovsqbQ2kufIgHg9buurg61XKm8urpCvb6+zmL0yKG/vNTaMl8RM18Rvyk7FLlpQZ8koUcM6awYgL8qZmNjg8V+c+b6UyzzFTHzFfGbGe5PoSeT5aiFXvvLiMYTlvmKmPmKmPmK/Otq/n8Jy3xFzHxFzHxFzHxFzHxFzHxFzHxFzHxFzHxF/gGjqb8wcaEAtAAAAABJRU5ErkJggg==\" y=\"-125.379908\"/>\n   </g>\n   <g id=\"patch_38\">\n    <path d=\"M 351.174576 220.379908 \nL 351.174576 125.803636 \n\" style=\"fill:none;stroke:#000000;stroke-linecap:square;stroke-linejoin:miter;stroke-width:0.8;\"/>\n   </g>\n   <g id=\"patch_39\">\n    <path d=\"M 445.750847 220.379908 \nL 445.750847 125.803636 \n\" style=\"fill:none;stroke:#000000;stroke-linecap:square;stroke-linejoin:miter;stroke-width:0.8;\"/>\n   </g>\n   <g id=\"patch_40\">\n    <path d=\"M 351.174576 220.379908 \nL 445.750847 220.379908 \n\" style=\"fill:none;stroke:#000000;stroke-linecap:square;stroke-linejoin:miter;stroke-width:0.8;\"/>\n   </g>\n   <g id=\"patch_41\">\n    <path d=\"M 351.174576 125.803636 \nL 445.750847 125.803636 \n\" style=\"fill:none;stroke:#000000;stroke-linecap:square;stroke-linejoin:miter;stroke-width:0.8;\"/>\n   </g>\n  </g>\n  <g id=\"axes_9\">\n   <g id=\"patch_42\">\n    <path d=\"M 464.666102 101.776271 \nL 559.242373 101.776271 \nL 559.242373 7.2 \nL 464.666102 7.2 \nz\n\" style=\"fill:#ffffff;\"/>\n   </g>\n   <g clip-path=\"url(#pa501541a46)\">\n    <image height=\"95\" id=\"imagede65b5aaac\" transform=\"scale(1 -1)translate(0 -95)\" width=\"95\" x=\"464.666102\" xlink:href=\"data:image/png;base64,\niVBORw0KGgoAAAANSUhEUgAAAF8AAABfCAYAAACOTBv1AAADkElEQVR4nO2dPUgrURCFNxKQFGkkiHYSLSwUAqkErQ1YWMTGQrCziohgY6mFlYKF2NmqxEYCESstBS39qSxSiOJPKiWGiLF68+5cEklk7x7fvvNVZ5x9u8NhnHdzN7tGPM+rewRCB7qA/xmaD4TmA6H5QGg+EJoPhOYDoflAaD6QKLoAVxQKBRVvbGyIPjk5CbqchrDzgdB8IDQfSMQL6a7mw8ODiqPRv/+9ra6uit7c3AysJht2PhCaDyS0Y2dtbU3FS0tLoiuViuh4PB5YTTbsfCA0H0hoP+G+v783zcVisQAraQ47HwjNB0LzgYR25kcikW/j3wA7HwjNBxLasVOv17+N/zA0NKTiy8tLZzXZsPOB0HwgNB8IdOanUinRAwMDbf/7g4ODprlkMtnSOYKc8TbsfCA0H4jzsTM4OCh6ZWVF5SYmJkR3dna2fe7n52cVm8vJRCLR0jnsHU7zRotr2PlAaD4Q5/dw9/f3RWezWZU7Pz8XbX6dr1XsT6fmCqevr0/lRkZGGp4jl8upeHt7u+06fgo7HwjNB0Lzgfi+1LSXbv39/aKvrq5Uzlxqlsvltq+Vz+eb5rq7u1V8f3/f8LiODlz/sfOB0Hwgvo8d++t35ubZ7u6uyv1k1LTK4+Ojis1NOHPJOzo6qo7b2tpyVpMNOx8IzQdC84H4PvOr1aqK7+7uRE9PT6vczMyM35dvyu3tbcOf21sUQcLOB0LzgUB3Nc0dRde7ieYu59nZmeiuri513Pj4uGjXD0uz84HQfCDOx87U1JTonZ0dlSuVSqKHh4ddlqFYX18XvbCwoHKnp6eiM5mMytVqNV/rYOcDoflAaD6QQB+C3tvbU/Hk5KTosbEx0RcXF07rMJeXLy8vKvf5+Sm6p6dH5Z6ennytg50PhOYDCXTs2JtY5rLO/PVPp9PquNfXV2c1mTV4nr650tvbq3IcOyGC5gMJ9OEI+0EEc3//6OhI9PLysjrOjv3k8PBQxfY9XZew84HQfCA0Hwj0NV/mG//MGxf2w3H2ks9PZmdnVby4uCja/lr529ubr9dm5wOh+UCgz+F+fHyILhaLoufn5wOrwf40fX19LdrvMWPDzgdC84HQfCC/5n07x8fHoufm5gK7rv1HDm5ubgK7NjsfCM0HEtoXWf8LsPOB0HwgNB8IzQdC84HQfCA0HwjNB0LzgdB8IDQfCM0HQvOB0HwgNB8IzQfyBYxMzGenufu/AAAAAElFTkSuQmCC\" y=\"-6.776271\"/>\n   </g>\n   <g id=\"patch_43\">\n    <path d=\"M 464.666102 101.776271 \nL 464.666102 7.2 \n\" style=\"fill:none;stroke:#000000;stroke-linecap:square;stroke-linejoin:miter;stroke-width:0.8;\"/>\n   </g>\n   <g id=\"patch_44\">\n    <path d=\"M 559.242373 101.776271 \nL 559.242373 7.2 \n\" style=\"fill:none;stroke:#000000;stroke-linecap:square;stroke-linejoin:miter;stroke-width:0.8;\"/>\n   </g>\n   <g id=\"patch_45\">\n    <path d=\"M 464.666102 101.776271 \nL 559.242373 101.776271 \n\" style=\"fill:none;stroke:#000000;stroke-linecap:square;stroke-linejoin:miter;stroke-width:0.8;\"/>\n   </g>\n   <g id=\"patch_46\">\n    <path d=\"M 464.666102 7.2 \nL 559.242373 7.2 \n\" style=\"fill:none;stroke:#000000;stroke-linecap:square;stroke-linejoin:miter;stroke-width:0.8;\"/>\n   </g>\n  </g>\n  <g id=\"axes_10\">\n   <g id=\"patch_47\">\n    <path d=\"M 464.666102 220.379908 \nL 559.242373 220.379908 \nL 559.242373 125.803636 \nL 464.666102 125.803636 \nz\n\" style=\"fill:#ffffff;\"/>\n   </g>\n   <g clip-path=\"url(#p20250122da)\">\n    <image height=\"95\" id=\"imageb50e77ad95\" transform=\"scale(1 -1)translate(0 -95)\" width=\"95\" x=\"464.666102\" xlink:href=\"data:image/png;base64,\niVBORw0KGgoAAAANSUhEUgAAAF8AAABfCAYAAACOTBv1AAAFMElEQVR4nO2dWSt2bRTHl3nKkHlKEkIZSpQhOZAzJ5Q48VH4AL4DOXBKUUhygJxIoSRHKPM8z8Nz9KxnrdW99+u97W09Pdbv6H+3ri7bv2uve13D3ncIAHyAoUKo9gX8ZMx8Rcx8Rcx8Rcx8Rcx8RcK1L8AvQkP5uAoLC0P98fGnun57e2PtaMxvbOQrYuYr4nvaCQkJCagB+C0ezO0uU0tsbCzq3NxcFsvPz0f9+vqKem1tjbU7OztDLVOS19jIV8TMV8TMV0S11JTfAb8JttyLjo5G3dzczGItLS2oNzY2UO/u7rJ2l5eXqC3n/8OY+Yr4nna+Wk668f7+zj4/Pj6iLi4uZrHy8nLUMTExqMfHx1379BMb+YqY+Yr8UwtrT09PqOPi4lgsOzsbdXx8POqUlBT/L8wBG/mKmPmKmPmK/JUzXMlnS1RaJkZERLAYnf3SWEFBwaf69gMb+YqY+Yp8a9px21elqUCmo5eXl4BapiPaX1ZWFouFh//5V+l1REZGsnY2w/0hmPmKmPmKeJ7zZb6OiopCnZmZyWJ0kzspKcmxT7qpQTdCjo+PWbvU1FTUeXl5jv3R74r9/X3HmN/YyFfEzFfEk7RDUw3dqAAAqKioQN3Z2cliRUVFqG9vb1G7lZA01SwtLbF2dLVSrmpSaLl6eHjo2M5vbOQrYuYr4knaoWmhsLCQxXp6elBXVVWx2MHBAerl5WXUm5ubrB2dhdKKKT09nbW7u7tDfX5+zmI5OTmo6XFBOvP9bmzkK2LmK2LmK+JJwqOrhCUlJSxWU1OD+vr6msUGBwdRz83Nob6/v2ft6EojzdF09gzAy1y6eQIA0NfXF/B65VFyWjb7Pdu1ka+Ima+I53VWWloa+5yQkIBazibpUyE3Nzeo3W735+fngBqAz5IHBgZYrLu7G3VpaSnq9vZ21m5kZCTgNfmBjXxFzHxFzHxFPMn5dLNDlpM0LycmJrKY3Lz+KvS7Ql7H0NAQ6v7+ftT19fWsXW1tLerZ2VnH/r3ARr4iZr4inqQdOgNdXV1lMbrSKMvQhoYG1FtbW6i9eBBNpoixsTHUvb29qOXecUdHB+r5+XkWk6XtV7GRr4iZr4gnaYfe4jR9AACsr6+jbmxsZLGuri7UMzMzqOkmi+zf7WSz21G/o6Mj1IuLi6hbW1tZO7oQKFOSPKryVWzkK2LmK2LmK+L5qubDwwP7PDk5ibqyspLF6EZGW1sb6uHhYdZObq785v+8v4eWr3TFU27q0z6Tk5NZ7OTkxLH/YLCRr4iZr4jnaUfOTmlZJ1+pVVdXh7qpqQk1LTsBALa3t1HTctKttHRLSSsrK6gXFhZYO69nsW7YyFfEzFfE87QjqwD6tr7R0VEWo0f46DHAsrIy1o4+wECrqWArjqurK9QTExMsRme19FghgPfHSmzkK2LmK2LmK+L7+Wi3t7dOTU2hpm8DrK6uZu3oyujOzk7Avv8Lp5dX7+3tsXb0qRWJ08uwP/t3JTbyFTHzFfE97dBZKN3QAACYnp5GTUtS+eqtjIwM1HRDg+4Py78loWUiTVd09gwAcHp6ivri4sKxf7dNHXoK2i012shXxMxXxMxXJAS+8ef55JN/9EkSepRQblzTXEuPmdNlAtlOlng0R9OSUR5ZpDH6hloAXqJ68aZcG/mKmPmKfGvakdCSzO23VSj0FpelZTC3/2ffcBhs/27YyFfEzFdENe38dGzkK2LmK2LmK2LmK2LmK2LmK2LmK2LmK2LmK2LmK2LmK2LmK2LmK/ILj9za43fr15wAAAAASUVORK5CYII=\" y=\"-125.379908\"/>\n   </g>\n   <g id=\"patch_48\">\n    <path d=\"M 464.666102 220.379908 \nL 464.666102 125.803636 \n\" style=\"fill:none;stroke:#000000;stroke-linecap:square;stroke-linejoin:miter;stroke-width:0.8;\"/>\n   </g>\n   <g id=\"patch_49\">\n    <path d=\"M 559.242373 220.379908 \nL 559.242373 125.803636 \n\" style=\"fill:none;stroke:#000000;stroke-linecap:square;stroke-linejoin:miter;stroke-width:0.8;\"/>\n   </g>\n   <g id=\"patch_50\">\n    <path d=\"M 464.666102 220.379908 \nL 559.242373 220.379908 \n\" style=\"fill:none;stroke:#000000;stroke-linecap:square;stroke-linejoin:miter;stroke-width:0.8;\"/>\n   </g>\n   <g id=\"patch_51\">\n    <path d=\"M 464.666102 125.803636 \nL 559.242373 125.803636 \n\" style=\"fill:none;stroke:#000000;stroke-linecap:square;stroke-linejoin:miter;stroke-width:0.8;\"/>\n   </g>\n  </g>\n  <g id=\"axes_11\">\n   <g id=\"patch_52\">\n    <path d=\"M 578.157627 101.776271 \nL 672.733898 101.776271 \nL 672.733898 7.2 \nL 578.157627 7.2 \nz\n\" style=\"fill:#ffffff;\"/>\n   </g>\n   <g clip-path=\"url(#pab443d8f95)\">\n    <image height=\"95\" id=\"imageca4ac365ac\" transform=\"scale(1 -1)translate(0 -95)\" width=\"95\" x=\"578.157627\" xlink:href=\"data:image/png;base64,\niVBORw0KGgoAAAANSUhEUgAAAF8AAABfCAYAAACOTBv1AAADAklEQVR4nO2csWoqQRSGN8mNBpuIWgVJlVKrCIK9jRZirUU6UYQ8QLDTR/AJUqQRizRiK1ipkMLWQrBUtBOMaKp77sySvYjX9d/J/b/qH2YSDh+Hw84ac2FZ1t4iEC7RBfzPUD4QygdC+UAoHwjlA6F8IJQPhPKB/EIX8B13d3faul6vSx6NRpKbzebZanIDdj4QygdC+UA8M/Ovrq4kNxoNbe/p6enbc5z55GgoH4hnxs7l5Z8+SCQSjuceHh7OUc5ZYOcDoXwgnhk7n5+fkieTibYXi8Uk39zcSL6+vnb8HSbAzgdC+UAoH4hnZr5Kt9vV1rlcTvL9/b3k29tb7dx8Pne3sBPDzgdC+UA8OXYWi4XjXiQSkfz8/Kzt1Wo112pyA3Y+EMoHQvlALiwP/ol4NBrV1tPpVLL69nM8Hmvn4vG4u4WdGHY+EMoH4smxY+f19VVysViUvFqttHPpdFrycDh0va5/hZ0PhPKBePKGa6fVaklWx04wGNTOlUolyRw75K9QPhDKB2LEzFffcu52O8nqbdey9EdNE2DnA6F8IEbccFWcbruWpd947S/ZZrOZq3UdAzsfCOUDoXwgRjxqqqivDewzX33dUC6Xtb2XlxdX6zoGdj4Qygdi3KNmKpWS3O/3Hc8tl0ttHQqFXKvpWNj5QCgfiHFjR8U+dtSRtNlstL1kMin54+PD1boOhZ0PhPKBUD4Q4264Kr1eT1urM9/n82l76v9zyGaz7hZ2IOx8IJQPxOhHTfv/aBgMBo5nt9utZPuXp1Gw84FQPhCjx47f79fW6o338fHR8ecymYzkTqdz+sIOhJ0PhPKBUD4Qo2e+nXw+L7ndbjuee3t7k1woFLS9/f58Otj5QCgfyI8aO+FwWLL9AxP7d3t/EwgEtPV6vT55XU6w84FQPhDKB2L0hyl21G+wVCoVbe/9/V1ytVqVbP+g/Zyw84FQPpAf9ahpGux8IJQPhPKBUD4QygdC+UAoHwjlA6F8IJQPhPKBUD4QygdC+UAoHwjlA/kCXBiSKdrbqi8AAAAASUVORK5CYII=\" y=\"-6.776271\"/>\n   </g>\n   <g id=\"patch_53\">\n    <path d=\"M 578.157627 101.776271 \nL 578.157627 7.2 \n\" style=\"fill:none;stroke:#000000;stroke-linecap:square;stroke-linejoin:miter;stroke-width:0.8;\"/>\n   </g>\n   <g id=\"patch_54\">\n    <path d=\"M 672.733898 101.776271 \nL 672.733898 7.2 \n\" style=\"fill:none;stroke:#000000;stroke-linecap:square;stroke-linejoin:miter;stroke-width:0.8;\"/>\n   </g>\n   <g id=\"patch_55\">\n    <path d=\"M 578.157627 101.776271 \nL 672.733898 101.776271 \n\" style=\"fill:none;stroke:#000000;stroke-linecap:square;stroke-linejoin:miter;stroke-width:0.8;\"/>\n   </g>\n   <g id=\"patch_56\">\n    <path d=\"M 578.157627 7.2 \nL 672.733898 7.2 \n\" style=\"fill:none;stroke:#000000;stroke-linecap:square;stroke-linejoin:miter;stroke-width:0.8;\"/>\n   </g>\n  </g>\n  <g id=\"axes_12\">\n   <g id=\"patch_57\">\n    <path d=\"M 578.157627 220.379908 \nL 672.733898 220.379908 \nL 672.733898 125.803636 \nL 578.157627 125.803636 \nz\n\" style=\"fill:#ffffff;\"/>\n   </g>\n   <g clip-path=\"url(#p05216d3bfb)\">\n    <image height=\"95\" id=\"image19199be519\" transform=\"scale(1 -1)translate(0 -95)\" width=\"95\" x=\"578.157627\" xlink:href=\"data:image/png;base64,\niVBORw0KGgoAAAANSUhEUgAAAF8AAABfCAYAAACOTBv1AAAELUlEQVR4nO2cuy9sURTG93A945kgotIIghBCRHQKjV5Co6NQKbUKUfg7JBIJkYgMhUKCjkJDKIhERCLeIh63W3etnZnJuXPPmW/m+n7VN9Z2zvFZZ83eZ+99Ys65b0cg5KEv4CdD84HQfCA0HwjNB0LzgfxCX8DfEovFksa+v3Or18zMB0LzgUDLTl7en/99ZWWl6IGBAdOupKRE9Onpqejz83PT7unpSXQulCBmPhCaD4TmA8mamt/a2ip6dnbWtKuvrxe9srIiemFhIcKrix5mPhCaDwRadj4/P0Xf3NyILi8vN+102dHl6f393bRLp3upS59/jKi7q8x8IDQfCLTs6Ntal538/HzTrqioSHRnZ2fCnzvn3OPjY6Dzpno4l0mY+UBoPhCaDyRrJlNeXl5E7+3tmVhzc7Po2tpa0S0tLabd7u5uRFcXDcx8IDQfSNaUna+vL9FLS0smNj4+LrqwsFD02NiYabe/vy/64+Mj6bl0VxM5J8zMB0LzgdB8IFlT83V91ZPkzjn38PAguq6uTvTw8LBpV11dLfr29jbp8YNeR9Qw84HQfCChlJ2gTwlT3dI6dnd3Z2InJyeia2pqRDc0NJh23d3douPxeFrXkUmY+UBoPpDQezthzIm+vr6az6urq6L7+vpE+5MpIyMjore3t01Mzxez7BCaj4TmA4m5EDZBB31KqJ9cpsL/3mhvbxe9s7MjuqqqyrQ7Pj4W3d/fb2LPz88Jz8Wnmj8Umg8klK5m2Lenf7yrqyvRl5eXovWDNOeca2xsFN3U1GRih4eHgc6l1wz5saBlMyjMfCA0HwjNB5I1kykav9bqNZhra2ui29raTLvS0lLRU1NTJjY9PS061eS6ruv+mtGwl48z84HQfCChjHCjRt/+XV1dovVo1znnysrKRF9cXJhYT0+PaH9+Nxn+SFsTRgli5gOh+UAy2ttJd0eIvq3Pzs5E++9e6OjoEK2XmDjnXG9vr+jNzc2Ex/bxR7Rh72hh5gOh+UBoPpDIa34Yy7F1TE+ub21tmXZ6g3RBQYGJTU5OJvy9VKPdqGHmA6H5QCIf4epSE3RNT6oSpI8xODhoYuvr66L99zfc39+L1hup/ZFwUPTfxRFuDkLzgWTl8/xU6FHn0dGRiV1fX4uuqKgwMf15YmJC9NzcnGmXyU0UzHwgNB8IzQeSc11NjT/HOj8/L3pmZsbE9LkPDg5EDw0NmXb6HRBRw8wHQvOBZLSr6ZeTf+2u+ZMdy8vLokdHR01Mb6TT+3r1chPnWHZ+DDQfCM0HEnnNz+QbWvU7GxYXF01M71TZ2NgQ/fb2ZtqF8bQyKMx8IDQfSE4sFwyKHsUWFxebmP6sN8eF8TLsdGHmA6H5QP6rspNrMPOB0HwgNB8IzQdC84HQfCA0HwjNB0LzgdB8IDQfCM0HQvOB/AZBol/1KndrOAAAAABJRU5ErkJggg==\" y=\"-125.379908\"/>\n   </g>\n   <g id=\"patch_58\">\n    <path d=\"M 578.157627 220.379908 \nL 578.157627 125.803636 \n\" style=\"fill:none;stroke:#000000;stroke-linecap:square;stroke-linejoin:miter;stroke-width:0.8;\"/>\n   </g>\n   <g id=\"patch_59\">\n    <path d=\"M 672.733898 220.379908 \nL 672.733898 125.803636 \n\" style=\"fill:none;stroke:#000000;stroke-linecap:square;stroke-linejoin:miter;stroke-width:0.8;\"/>\n   </g>\n   <g id=\"patch_60\">\n    <path d=\"M 578.157627 220.379908 \nL 672.733898 220.379908 \n\" style=\"fill:none;stroke:#000000;stroke-linecap:square;stroke-linejoin:miter;stroke-width:0.8;\"/>\n   </g>\n   <g id=\"patch_61\">\n    <path d=\"M 578.157627 125.803636 \nL 672.733898 125.803636 \n\" style=\"fill:none;stroke:#000000;stroke-linecap:square;stroke-linejoin:miter;stroke-width:0.8;\"/>\n   </g>\n  </g>\n  <g id=\"axes_13\">\n   <g id=\"patch_62\">\n    <path d=\"M 691.649153 101.776271 \nL 786.225424 101.776271 \nL 786.225424 7.2 \nL 691.649153 7.2 \nz\n\" style=\"fill:#ffffff;\"/>\n   </g>\n   <g clip-path=\"url(#pc633d5d248)\">\n    <image height=\"95\" id=\"imagea95fa89cc5\" transform=\"scale(1 -1)translate(0 -95)\" width=\"95\" x=\"691.649153\" xlink:href=\"data:image/png;base64,\niVBORw0KGgoAAAANSUhEUgAAAF8AAABfCAYAAACOTBv1AAAD8UlEQVR4nO2dTyhtURTG9+WllJJQMpKplDIxkD8TlCEykEiKlAEyUSaYmTNB/iZ/ipSUgcKYyEyIJGGAFMXAG7319jq9e7v3OOd87/D9Rt9uXfcsn9Vyjr32FTHGfBoCIQmdwE+G5gOh+UBoPhCaD4TmA6H5QGg+EJoP5Bc6gUQpLS0VPTQ0pGJ7e3uix8fHVezx8VH0+/u7T9klBisfCM0HQvOBREzI/qp5dHQkurCwUMUikYjoz0/9bU1OTooeHh4WfX197XGG8cPKB0LzgYTuVjMWExMTond3d1Wsp6dH9MjIiOiWlhb/E4sCKx8IzQfyrdpOcnKy6IWFBRXb2NgQnZGREVhOsWDlA6H5QGg+kNA94XZ2dooeGxtTsfv7e9E5OTmB5eQWVj4Qmg8kdG3H5vb2Vq3T0tJEl5eXq9jh4WEgOSUCKx8IzQdC84GEuudPTU2pdWtrq+jFxUUVa2pqCiKlhGDlA6H5QELddhoaGtR6aWlJ9MvLi4pVVlaK/l9uO1n5QGg+kFBvpqysrKh1bW2t6ObmZhXLzMwMJKdEYOUDoflAaD6QUN9qOsnPzxd9dnamYvaYYXV1teiHhwff84oGKx8IzQfie9uxZ2SKiopUrKamRnR/f79oey/WGGNmZmbiutbc3Jzo4+PjqK+bn58XzXHBHwrNB0LzgXje84uLi9V6fX1ddG5ubvREYpwqiZd43+Pi4kK0/XvHGGPOz89dXdsNrHwgNB+I521ndnZWrWPtndqHlp+enkQ7DzDHiz2rU1FRoWIlJSX//JrV1VW1bmxsdHVtN7DygdB8IIFupmxubqp1XV2d6I+Pjy+///b2tujU1FQVGxgYEN3V1SW6vr7+y9d1CysfCM0HQvOBeN7z7adMY4xJSvr783U+4aakpIj2oufbvL29qfXg4KDom5sb0c7TLfYIYltbm6c5OWHlA6H5QDxvO319fWr9+voqur29XcXscb/p6WmvU4nK/v6+6Lu7OxWzJ513dnZUzN6E8QJWPhCaD8T3PdyqqirRW1tbUV9nn5sNcpyjoKBArU9OTkSvra2pmN2SnFPQbmDlA6H5QGg+EN97flZWlmj75IgxesPDftLs7u72M6WYjI6Oiu7t7VWxjo4O0fZHirmFlQ+E5gMJdErZ+fFap6enotPT00U7b/GC3Fe18zg4OFCx7Oxs0faIjHMiOl5Y+UBoPhCaDyTQDXT7HwgYox/tl5eXRTtH9vLy8kRfXl76ktsfnp+fRTtHH8vKykRfXV19+VqsfCA0H8i3OhAXNlj5QGg+EJoPhOYDoflAaD4Qmg+E5gOh+UBoPhCaD4TmA6H5QGg+EJoPhOYD+Q20FO6WgiwtSgAAAABJRU5ErkJggg==\" y=\"-6.776271\"/>\n   </g>\n   <g id=\"patch_63\">\n    <path d=\"M 691.649153 101.776271 \nL 691.649153 7.2 \n\" style=\"fill:none;stroke:#000000;stroke-linecap:square;stroke-linejoin:miter;stroke-width:0.8;\"/>\n   </g>\n   <g id=\"patch_64\">\n    <path d=\"M 786.225424 101.776271 \nL 786.225424 7.2 \n\" style=\"fill:none;stroke:#000000;stroke-linecap:square;stroke-linejoin:miter;stroke-width:0.8;\"/>\n   </g>\n   <g id=\"patch_65\">\n    <path d=\"M 691.649153 101.776271 \nL 786.225424 101.776271 \n\" style=\"fill:none;stroke:#000000;stroke-linecap:square;stroke-linejoin:miter;stroke-width:0.8;\"/>\n   </g>\n   <g id=\"patch_66\">\n    <path d=\"M 691.649153 7.2 \nL 786.225424 7.2 \n\" style=\"fill:none;stroke:#000000;stroke-linecap:square;stroke-linejoin:miter;stroke-width:0.8;\"/>\n   </g>\n  </g>\n  <g id=\"axes_14\">\n   <g id=\"patch_67\">\n    <path d=\"M 691.649153 220.379908 \nL 786.225424 220.379908 \nL 786.225424 125.803636 \nL 691.649153 125.803636 \nz\n\" style=\"fill:#ffffff;\"/>\n   </g>\n   <g clip-path=\"url(#p555c2b49b7)\">\n    <image height=\"95\" id=\"image65e64834bb\" transform=\"scale(1 -1)translate(0 -95)\" width=\"95\" x=\"691.649153\" xlink:href=\"data:image/png;base64,\niVBORw0KGgoAAAANSUhEUgAAAF8AAABfCAYAAACOTBv1AAAFW0lEQVR4nO2dSyh1URTH1/UMeeURklDEDHmNKCkjZU4pBmYGEubMzYiJDDxmJiZEUfJKKSFR8kjyCHm/fbPVWrt7znc7zrXc71u/0f+29nfu9m+f/93nnL3P5wGAL1BECJLuwP+Mmi+Imi+Imi+Imi+Imi9IiHQHfMHj8aAOCwtDHRUVxdoFBwejvrm5YbW3tzf/dO4b6MgXRM0XJCBiJy4uDnVnZyfq2tpa1u74+Bh1d3c3qy0vL6P+/Py0/C4acXbt3EBHviBqviBqviC/MvNp7gIAREdHo66urkadk5PD2qWnp6OuqKhgtY2NDdRPT0+W30U/f3x8sJr5+bvoyBdEzRfkV8bO1xd/vnN/f486PDwcdUgI7z6tJSYmWh6fRot5DFoz+0GnnmbNCTryBVHzBfmVsWNyd3eHemlpCXV+fj5rR2Nhc3OT1Z6fn1G/v7971QAAQUE/Nx515Aui5gui5gvi98ynGWrmKZ2u2U3jaC6PjY2hrq+vZ+3oMQ4ODiyPYTdNdPsq1g4d+YKo+YK4Hjt2N6rMmtW0zu4hxt7eHurz83NWo1e1aWlpf++sMDryBVHzBVHzBXE98+3uBDp9IE2PSXN+YWGBtaurq0NdU1PDauPj46idTift7ng6QUe+IGq+IB4I4J0pubm57PPs7CxqehcTAKCqqgo1Xd9jh920mcaO0wjSkS+Imi+I67FjnqpuzAqsoM9sAQD6+/tR05kPAMDExATq1tZW1I+Pj6wd7a/5t1ihsROAqPmCqPmCuHKFS7PRvFNp9zAlNDTUqzahy/voQxFzzc3FxQXqiIgIVqO/AZOTk141AN/B4s/fKwAd+aKo+YK4Ejs0TuiKYgCAwsJC1MXFxZa11NRUy2PQOBkdHUV9fX3N2hUVFaE2Yyw+Ph51W1sb6rm5OdaObqTT2PmHUfMFUfMFcZz5VsusaY4DALS3t6OmmQzAfyvodJJuZgbgvwcvLy+oFxcXWburqyvU5hpMeiuioKDAqwYAmJ+fR62Z/w+j5gviylSTTuvKy8tZjUZNTEwMq9Hnsb29vah3d3dZu6SkJNQ04k5OTli79fV11CkpKaxG+0UjiG6qBuCbpWkU+gMd+YKo+YI4jh2rmYD5gIO+ooXOVAD41eXQ0BBqugHOhB7P/C56U6yxsZHVBgYGUNM9umVlZaxdQ0MD6uHhYVZ7fX217JcTdOQLouYLouYL4spUk2Y5vcoE4OtnzOWCMzMzqB8eHlDbXVnS7zJf3UX/nbk2p6WlBTXNcvOqu6urC/X+/j6r0atf8wraCTryBVHzBXEldugpuLq6ymo0hmJjY1ktOTkZNb3J5utqZrt25krko6Mj1M3NzahHRkZYO7qjxZyubm1toT47O0Ot63YCEDVfEFdih5525v7X09NT1PQtgQAAlZWVqOlyvsPDQ8vjO8Vqj25PTw9r19HRgTojI4PVSktLUU9NTaE2r9x9RUe+IGq+IGq+IK5viLu9vWWf19bWUGdlZbFaZmYm6qamJtR9fX2sHV2342v+201DaW17e5vVdnZ2UOfl5bFaSUkJ6pWVFdTmZmxf+6gjXxA1XxDXY8fciDY4OIjanJLR2KG17Oxs1o7uHqHHN09vu01qVrXLy0vWbnp6GrUZofS9D+YKaSfoyBdEzRdEzRfE75ug6ZqehIQEVqO3G+jDaXO9DH21I818886lk9sQ5m4ZuqMlMjKS1egUlfbJ6YN1HfmCqPmC/Oi7F8zdInS6Rk9p89msv//vEil05Aui5gsS0K98CXR05Aui5gui5gui5gui5gui5gui5gui5gui5gui5gui5gui5gui5gvyB9Tc+9ruAsJiAAAAAElFTkSuQmCC\" y=\"-125.379908\"/>\n   </g>\n   <g id=\"patch_68\">\n    <path d=\"M 691.649153 220.379908 \nL 691.649153 125.803636 \n\" style=\"fill:none;stroke:#000000;stroke-linecap:square;stroke-linejoin:miter;stroke-width:0.8;\"/>\n   </g>\n   <g id=\"patch_69\">\n    <path d=\"M 786.225424 220.379908 \nL 786.225424 125.803636 \n\" style=\"fill:none;stroke:#000000;stroke-linecap:square;stroke-linejoin:miter;stroke-width:0.8;\"/>\n   </g>\n   <g id=\"patch_70\">\n    <path d=\"M 691.649153 220.379908 \nL 786.225424 220.379908 \n\" style=\"fill:none;stroke:#000000;stroke-linecap:square;stroke-linejoin:miter;stroke-width:0.8;\"/>\n   </g>\n   <g id=\"patch_71\">\n    <path d=\"M 691.649153 125.803636 \nL 786.225424 125.803636 \n\" style=\"fill:none;stroke:#000000;stroke-linecap:square;stroke-linejoin:miter;stroke-width:0.8;\"/>\n   </g>\n  </g>\n  <g id=\"axes_15\">\n   <g id=\"patch_72\">\n    <path d=\"M 805.140678 101.776271 \nL 899.716949 101.776271 \nL 899.716949 7.2 \nL 805.140678 7.2 \nz\n\" style=\"fill:#ffffff;\"/>\n   </g>\n   <g clip-path=\"url(#p8fe1c698df)\">\n    <image height=\"95\" id=\"image34a9042760\" transform=\"scale(1 -1)translate(0 -95)\" width=\"95\" x=\"805.140678\" xlink:href=\"data:image/png;base64,\niVBORw0KGgoAAAANSUhEUgAAAF8AAABfCAYAAACOTBv1AAAD0UlEQVR4nO2cyyt1YRTG1+FLyCXXkcuEohAzf4AyI0pu5R9AMmFEUZIyMjUwklySlIFSRgaihJJcBgYKRZQBGfhmy7v2Z4vP3vs5dZ7f6Fmt97z77Wm1znv2fveJici7EAhJ6AUkMjQfCM0HQvOB0HwgNB/IH/QC4pmsrCwTHx4eqh4YGFC9vr7+X/Oz8oHQfCBsO1+wsrJi4vz8fNUXFxe/np+VD4TmA6H5QNjzPZSUlKhuaGgwuYWFBdUnJye/vhYrHwjNB5LwbaegoMDEW1tbvmOnpqYCvTYrHwjNB5Lwbaenp8fEZWVlqldXV03u/Pw80Guz8oHQfCA0H0hMEvDcTm1treqdnR2TS01NVV1ZWWlyZ2dnga6DlQ+E5gNJmK1mUtJHnQ0NDal224yIyNjYmOqg28w/awp1dvIlNB8IzQeSMFvNjo4O1fPz86qvr6/NOHcb+vDwEOqaWPlAaD6QuNlqus9Lu7q6TO7x8VH16Oio6ufnZ9/50tLSTNze3v7puO3tbROH3WpcWPlAaD4QaNtxW417NC87O9uMe3//2JAlJyerHh4eNuNeXl5Uj4yMmFxzc7Pqq6sr1ePj4z9ddmCw8oHQfCA0H0ikPT83N9fES0tLqjMzM1W7Pd4b9/X1qa6oqDDjent7Vbe2tvrOsbm5qfry8vJbaw8DVj4Qmg8k0rbjPfXrbimPj49VuzfBRESqq6tVt7S0qG5razPjdnd3Vefk5Jic+8t1ZmbmJ8sODVY+EJoPhOYDibTnd3Z2+ub29vZUn56empwbLy8vq/Z+h+Tl5fnOPzs7qzqIt0qCgJUPhOYDibTtuC+UiYg0NTWp3tjY+PF8+/v7Jm5sbPQdW19frzojI0P1Vw9kwoaVD4TmA4m07by+vpo4FoupHhwcVL22tmbGuUf63B1TeXm573yuFhFJT09XnZKS8oNVhwcrHwjNB0LzgUR6XLC0tNTER0dHqt3tn3uHU0Tk9vZWtfdXrR93d3cmrqurU31zc/OtOcKGlQ+E5gOJdKvpnpcREZmbm1Pd39+vuqamxozzPtP14+npSfX09LTJRXkM8Luw8oHQfCDQlyOKiopUHxwcqPbel/drO4uLiyZ2j5XEY5vxwsoHQvOB0HwgcfNCXHd3t+qJiQmTKy4u/vQzhYWFJr6/vw9+YSHCygdC84HETdtx8f5v/eTkpOqqqirV3ptsb29v4S4sYFj5QGg+EJoPJC57fqLAygdC84HQfCA0HwjNB0LzgdB8IDQfCM0HQvOB0HwgNB8IzQdC84HQfCA0HwjNB0LzgdB8IH8Bst7VZIGV6SoAAAAASUVORK5CYII=\" y=\"-6.776271\"/>\n   </g>\n   <g id=\"patch_73\">\n    <path d=\"M 805.140678 101.776271 \nL 805.140678 7.2 \n\" style=\"fill:none;stroke:#000000;stroke-linecap:square;stroke-linejoin:miter;stroke-width:0.8;\"/>\n   </g>\n   <g id=\"patch_74\">\n    <path d=\"M 899.716949 101.776271 \nL 899.716949 7.2 \n\" style=\"fill:none;stroke:#000000;stroke-linecap:square;stroke-linejoin:miter;stroke-width:0.8;\"/>\n   </g>\n   <g id=\"patch_75\">\n    <path d=\"M 805.140678 101.776271 \nL 899.716949 101.776271 \n\" style=\"fill:none;stroke:#000000;stroke-linecap:square;stroke-linejoin:miter;stroke-width:0.8;\"/>\n   </g>\n   <g id=\"patch_76\">\n    <path d=\"M 805.140678 7.2 \nL 899.716949 7.2 \n\" style=\"fill:none;stroke:#000000;stroke-linecap:square;stroke-linejoin:miter;stroke-width:0.8;\"/>\n   </g>\n  </g>\n  <g id=\"axes_16\">\n   <g id=\"patch_77\">\n    <path d=\"M 805.140678 220.379908 \nL 899.716949 220.379908 \nL 899.716949 125.803636 \nL 805.140678 125.803636 \nz\n\" style=\"fill:#ffffff;\"/>\n   </g>\n   <g clip-path=\"url(#pb3432e28fc)\">\n    <image height=\"95\" id=\"image0d1bdeb5a3\" transform=\"scale(1 -1)translate(0 -95)\" width=\"95\" x=\"805.140678\" xlink:href=\"data:image/png;base64,\niVBORw0KGgoAAAANSUhEUgAAAF8AAABfCAYAAACOTBv1AAAFQElEQVR4nO2cSyh1URTHt7c88ypEySNRlCiRlIFkamRshIGhgZKBgQEzIyMmxMQAAxkYKROiJCRhIJREeeT9zVb/tXJO1/3OtT6f9Rv9b3s5Tv/2XXedvfbZUc65D2eoEK19A78ZM1+RWO0b0CYqKspzLCYmhn1+e3sj/fHx99naZr4iZr4iZr4ivybnY26Pjo7+VEv8xt7f3z/VX8FmviJmviKBpB38esbGhn5Jr6+uLOPCKetkCRkXF0e6sLCQdGpqquc1Tk9P2ef7+/tP4yzt/EDMfEXMfEXCzvmYU/ExPDEx0fNvnp+fQ7q2zPF+vwehXgPvMSsri3R1dTWLS05OJn1ycsLGtre3SV9dXXn+L1yG8MNmviJmviJhpx38qmEKkl85/Pzy8uJ5DUSWiZgyXl9fv36zzrmnpyfSl5eXnv8L02ZmZiYbw7IUryFLTSy9/cpQm/mKmPmKBPKEi6lFpp1wKhW5oIVPp8hXUhDeB1YqBwcHLC4vL4/0xcUFG7u7uyMdRGPFZr4iZr4iZr4igeR8v3IqnHwor4e5HctOGRfq6iLGYcnoHP99OTs7Y2OY87FEleVqyL9tIUUZEcHMVySQtBPEHhY/vMo6+XXHz/KesMmTk5PzqXaOp5br62s2hs0UTIVWav5AzHxFzHxFIr5vB0tD2VzHsg7zOq5AOufdaPdb/YyPj2dj2DTp7u4mfXNzw+JmZ2dJPzw8sDFsBtlezR+Oma9I4GlHpgJMNeXl5Wyst7eXdFVVFem9vT0WNzQ0RPr8/Nzzf2Maw+s559z4+Djp0tJS0vIJd3l5mbRcNQ26pLaZr4iZr0jEqx1MBbW1tWyspaWFdFFREen6+noW19HRQXpgYID04uIii8O0UFNTw8YyMjJIJyQkkE5KSmJxXg2TSGAzXxEzXxEzX5GI53xshmM+dc65zc1N0rhfJjs7m8WlpKSQHh0dJd3T08Pi1tbWSMvGCpavWK4uLS2xuK2tLdKRXq21ma+Ima9IlAv47AW55yYtLY10XV0dG8MyFBsXubm5LA6fhJubm0ljyegcX/g6PDxkY7hghk+x+/v7LA4X0yzt/MeY+YqY+YoEXmr6vaWRnp7OxvD3YWNjgzSWoM45t7q6SnpiYoJ0Z2cni8PfgJKSEjaGpSzuz5QNk0jnecRmviJmviLfmnZw+7VzzrW1tZHGt1ZWVlZYHKaGvr4+0k1NTSyuoKCAtNxWXlZWFtL9fic28xUx8xWJ+MIaphN5dkFjY+Onen5+nsUNDg6SxsW54eFhFjc2NkZabh3BJ215fJcWNvMVMfMVMfMViXjOx1JT7sdBsMHd1dXFxlpbW0mPjIx4XmN3d5e0XBnd2dkh7bfl0J5wfwlmviKBN1P8kEdqzczMkG5vbyctS0FMBdh0WV9fZ3FY1h4fH7OxyclJ0thA+cqL1H5vvoSDzXxFzHxFvjXtyMqiuLiYND7VVlZWsjhc98c+rey/LiwskJ6enmZjR0dHpEM+CUr0o70OOZXXs/dwfwBmviJmviLfmvMlWFJWVFSQ7u/vZ3ENDQ2kMefPzc2xuKmpKdLy3IRwtnvLF/iwD4yrpnK1Vr7Q54XNfEXMfEVU0w6CKQgbH845l5+fTxp7s/Kg6dvbW9LhHi6N5bBsyODWFNQy7Tw+PpL2Kztt5iti5iti5ivyz+R8RC5DeD3Wy7wexEqj1wHd8j5wzO+sCD9s5iti5ivyT6ad34LNfEXMfEXMfEXMfEXMfEXMfEXMfEXMfEXMfEXMfEXMfEXMfEXMfEXMfEXMfEXMfEX+AI4u9TKGp5lFAAAAAElFTkSuQmCC\" y=\"-125.379908\"/>\n   </g>\n   <g id=\"patch_78\">\n    <path d=\"M 805.140678 220.379908 \nL 805.140678 125.803636 \n\" style=\"fill:none;stroke:#000000;stroke-linecap:square;stroke-linejoin:miter;stroke-width:0.8;\"/>\n   </g>\n   <g id=\"patch_79\">\n    <path d=\"M 899.716949 220.379908 \nL 899.716949 125.803636 \n\" style=\"fill:none;stroke:#000000;stroke-linecap:square;stroke-linejoin:miter;stroke-width:0.8;\"/>\n   </g>\n   <g id=\"patch_80\">\n    <path d=\"M 805.140678 220.379908 \nL 899.716949 220.379908 \n\" style=\"fill:none;stroke:#000000;stroke-linecap:square;stroke-linejoin:miter;stroke-width:0.8;\"/>\n   </g>\n   <g id=\"patch_81\">\n    <path d=\"M 805.140678 125.803636 \nL 899.716949 125.803636 \n\" style=\"fill:none;stroke:#000000;stroke-linecap:square;stroke-linejoin:miter;stroke-width:0.8;\"/>\n   </g>\n  </g>\n  <g id=\"axes_17\">\n   <g id=\"patch_82\">\n    <path d=\"M 918.632203 101.776271 \nL 1013.208475 101.776271 \nL 1013.208475 7.2 \nL 918.632203 7.2 \nz\n\" style=\"fill:#ffffff;\"/>\n   </g>\n   <g clip-path=\"url(#p2b08310f02)\">\n    <image height=\"95\" id=\"image2136c0be0d\" transform=\"scale(1 -1)translate(0 -95)\" width=\"95\" x=\"918.632203\" xlink:href=\"data:image/png;base64,\niVBORw0KGgoAAAANSUhEUgAAAF8AAABfCAYAAACOTBv1AAAD40lEQVR4nO2cTSg9URjG53KR2EixuT6KbCxEFnaUsiFhIYmlLCQfK3ZsSPZSxELZWFEsLFDKRxKKkiwoK2wsEPn4L/71Ou9kbuPeufeZy/NbPad35pzT09vbzJw5J2BZ1qdFICShJ/CXoflAaD4Qmg+E5gOh+UBoPhCaD4TmA6H5QGg+EJoPhOYDCaInEA2dnZ2qXVVVJXp0dFTFbm9v4zKnn8DMB0LzgQSsBFhMyc3NFT07Oyu6srJSXZeTkyP66upKxRYWFkSPjIx4O8EIYeYDoflAfFl20tPTVXtubk50a2trRH2+v7+LXl1dFd3R0aGue3x8jKj/SGDmA6H5QGg+EF/W/IqKCtU+ODhwdd/m5qbompoaFQsEAt/eMzU1pdq9vb2uxvICZj4Qmg/Elx/W6urqHGNvb2+i5+fnVWxmZkZ0f3+/irW3t3/bXygUimCG3sDMB0LzgdB8INCaX1tbKzolJUV0U1OT4z3B4NeUu7q6VMze9jvMfCA0H4gnZSc5OVl0eXm5ii0uLn4NFtTD5eXliU5Kil8efH5+vdQfHh7GbVw7zHwgNB+IJx/WJicnRQ8ODkbbXUy4u7sTvbW1JbqtrQ0wm/8w84HQfCA0H4gnNd98dPv4+HB9n3nt9PS06L29PXVdfn6+6MvLS9FnZ2eOfZeWlqr27u6u6JubG9dzjCXMfCA0H4gnZcf8Azg7O1vFXl5eRE9MTKjY8vKy6OPj42inkXAw84HQfCA0H4gnNd/896W7u1vFzLre0tIS7VC/CmY+EJoPxJPFlJ2dHdH2smMurtj/kfHLmyYKZj4Qmg/Ek6edzMxM0cPDwyo2NDQk+v7+XsVKSkpEPzw8RDuNhIOZD4TmA6H5QDzfmZKamqraS0tLohsaGlRsbGxM9Pj4uOinpycvp+RbmPlAaD6QmG+Iy8jIEL29va1iZWVlopubm0WvrKw49ldYWCjafr6CudZrf3v+ydpyvGDmA6H5QGK+OcI8y8C+0a2vr0/06+urYx/mCVJra2vf9m1ZusStr6+r2Onpqej9/X3RR0dH6rrn52fH/r2GmQ+E5gOh+UB8efaCnerqatEbGxsxHev8/Fx0uN8Rw+H2TCBmPhCaDyQhyk5RUZHonp4e0fZ9t+bxYE5HvMQDc4NgOJj5QGg+EJoPJCFqvlvq6+tFNzY2qph57FdxcbGr/i4uLlS7oKBAdFpamuN9rPkJAM0H8qvKTjiysrJEm4su4bi+vlbtgYEB0eZXUnt5Ojk5cdU/Mx8IzQfyZ8qOH2HmA6H5QGg+EJoPhOYDoflAaD4Qmg+E5gOh+UBoPhCaD4TmA/kH0v3hZC0NOusAAAAASUVORK5CYII=\" y=\"-6.776271\"/>\n   </g>\n   <g id=\"patch_83\">\n    <path d=\"M 918.632203 101.776271 \nL 918.632203 7.2 \n\" style=\"fill:none;stroke:#000000;stroke-linecap:square;stroke-linejoin:miter;stroke-width:0.8;\"/>\n   </g>\n   <g id=\"patch_84\">\n    <path d=\"M 1013.208475 101.776271 \nL 1013.208475 7.2 \n\" style=\"fill:none;stroke:#000000;stroke-linecap:square;stroke-linejoin:miter;stroke-width:0.8;\"/>\n   </g>\n   <g id=\"patch_85\">\n    <path d=\"M 918.632203 101.776271 \nL 1013.208475 101.776271 \n\" style=\"fill:none;stroke:#000000;stroke-linecap:square;stroke-linejoin:miter;stroke-width:0.8;\"/>\n   </g>\n   <g id=\"patch_86\">\n    <path d=\"M 918.632203 7.2 \nL 1013.208475 7.2 \n\" style=\"fill:none;stroke:#000000;stroke-linecap:square;stroke-linejoin:miter;stroke-width:0.8;\"/>\n   </g>\n  </g>\n  <g id=\"axes_18\">\n   <g id=\"patch_87\">\n    <path d=\"M 918.632203 220.379908 \nL 1013.208475 220.379908 \nL 1013.208475 125.803636 \nL 918.632203 125.803636 \nz\n\" style=\"fill:#ffffff;\"/>\n   </g>\n   <g clip-path=\"url(#p9983d234e4)\">\n    <image height=\"95\" id=\"image0a86c22eee\" transform=\"scale(1 -1)translate(0 -95)\" width=\"95\" x=\"918.632203\" xlink:href=\"data:image/png;base64,\niVBORw0KGgoAAAANSUhEUgAAAF8AAABfCAYAAACOTBv1AAAFJ0lEQVR4nO2cSyjtXxTH1/EmzzwGJKVIYoAUJSNjSgYm5kZKkTIxMiLKxEgyMzIzIwZEJDKSVxITA+/38z9bvnv97+93j3PPOeuU9Rl9T3vfc35977rrrr33+u0AEX2RoUKc9gP8Zsx8Rcx8Rcx8Rcx8Rcx8Rcx8Rcx8Rcx8Rcx8Rcx8Rcx8Rcx8RRK0HyAY0tPTWRcWFrIuKChw5l1cXLA+PT11xl5eXlh/fcXGRq5FviJmviIxmXYCgYDzua6ujvXQ0BDr4uJiZ97DwwPrpaUlZ2xqaor18fExa0xHREQfHx8hPHFoWOQrYuYrEqAYPMNNSUlxPo+MjLDu6OhgnZmZ6cxLSPjOorKiub+/Z724uMi6v7/fmXd2dsb68/PzJ4/9YyzyFTHzFTHzFYmZUhPLy6qqKmesvr7+j3/m/f3d+ZyUlMQa8z8RUXJyMuv29nbW29vbzryxsTHWr6+vf3vsf8IiXxEzX5GwlJrx8fGeY37lGqaG0tJS1uPj4868pqYm1lhCXl1dOfNwoy01NdXnib/BspOIqLW1lfXj42NQ3xEqFvmKmPmKmPmKhFxqYllXVlbGWuba6+trz++orKxkPTAwwBp3MeVvYc6XO5Bvb2+s5RYFlrL4HbgTSvT/8jWSWOQrYuYrEnLawR3F3t5e1o2Njc48LNdubm6cMTybLS8vZ41phshNGagzMjKcec/Pz6zl6hTLWkw109PTzjxLO78EM1+RkNMOVhpYtWD6ICKKi/v++8VqhMht9cDVqtwU81qtymrHr7J6enpiPTc3x3phYcGZF+kDFMQiXxEzXxEzX5GQc/7d3R1rzKeY4+Vnufu5tbXFenJykvXl5aXn7+bk5LBOS0tzxjDny1ZCLCFXV1dZyxVuNLHIV8TMVyQspebKygrr5uZmZx6mHVyBEhGNjo6yXl9fZy3LPa+uYtlW6LUSJnJTHqYgzY5li3xFzHxFzHxFwnKAXlFRwXptbc0Zw53H8/NzZ6ympoa1X3kZDrwOUzSxyFfEzFckLO2CBwcHrGdnZ52xzs5O1vv7+86YLD2Dwa+c9NuRjJVUg1jkK2LmKxKWtIOr3cHBQWcsPz+f9c7OjvvjCT//eUw1sj0EX26L5ottoWKRr4iZr4iZr0jE30YsKSn5oyYi2t3dZY09PX5lIe5O5ubmOmP4xqEsY6N5MB4sFvmKmPmKRDzt4GEKlp0SPH+VLXv4HUVFRazb2tqceXjNi+zHwbPaYFOQXEF7Eerq2SJfETNfkajevZCYmOh8xr1+7FiWXcq1tbWsu7u7WTc0NHj+1ubmpvO5p6eH9dHREWvZ6oLVlOyCzs7OZo1pTJ5TBLthaJGviJmviJmvSFTvXpA7jdhyiGPy+q7q6mrWeC8D3qdA5OZvfHGaiGh5eZk13qkj/3/BFkQ5hm2RWNb29fU58zY2NigYLPIVMfMVUb3yBVMNborhmTAR0cTEBOvb21vW8p97Xl4ea7k6zcrKYo0lpF/LoVy54st9mDLldWOY/vxW0xb5ipj5ipj5ioR9e0Eu13FLQeZX3L3E3BjsYYp8S7GlpYU1vphN5L4xiX9Obnkg8r6dw8ND1sPDw6zn5+edecFeD2aRr4iZr0hU047fijHcdx7IFIflIHZHd3V1ec7b29tzxmZmZlifnJywDvXZLfIVMfMVicmLrCMNpkY8ICFyKy15KILtiOFoRbHIV8TMV8TMV+RX5vxYwSJfETNfETNfETNfETNfETNfETNfETNfETNfkf8AQb2i+0q1St4AAAAASUVORK5CYII=\" y=\"-125.379908\"/>\n   </g>\n   <g id=\"patch_88\">\n    <path d=\"M 918.632203 220.379908 \nL 918.632203 125.803636 \n\" style=\"fill:none;stroke:#000000;stroke-linecap:square;stroke-linejoin:miter;stroke-width:0.8;\"/>\n   </g>\n   <g id=\"patch_89\">\n    <path d=\"M 1013.208475 220.379908 \nL 1013.208475 125.803636 \n\" style=\"fill:none;stroke:#000000;stroke-linecap:square;stroke-linejoin:miter;stroke-width:0.8;\"/>\n   </g>\n   <g id=\"patch_90\">\n    <path d=\"M 918.632203 220.379908 \nL 1013.208475 220.379908 \n\" style=\"fill:none;stroke:#000000;stroke-linecap:square;stroke-linejoin:miter;stroke-width:0.8;\"/>\n   </g>\n   <g id=\"patch_91\">\n    <path d=\"M 918.632203 125.803636 \nL 1013.208475 125.803636 \n\" style=\"fill:none;stroke:#000000;stroke-linecap:square;stroke-linejoin:miter;stroke-width:0.8;\"/>\n   </g>\n  </g>\n  <g id=\"axes_19\">\n   <g id=\"patch_92\">\n    <path d=\"M 1032.123729 101.776271 \nL 1126.7 101.776271 \nL 1126.7 7.2 \nL 1032.123729 7.2 \nz\n\" style=\"fill:#ffffff;\"/>\n   </g>\n   <g clip-path=\"url(#p8dc96d9e29)\">\n    <image height=\"95\" id=\"image94268402dc\" transform=\"scale(1 -1)translate(0 -95)\" width=\"95\" x=\"1032.123729\" xlink:href=\"data:image/png;base64,\niVBORw0KGgoAAAANSUhEUgAAAF8AAABfCAYAAACOTBv1AAAEbUlEQVR4nO2cSyitXxjGt1suIYoMXEYSJSmSUlJMJIqUxIyBcjdACKEMlAlFTKQwlJkyoDAwMCGJlJDkmkLu/Efn/a+12lv77PPZz3bO8xs9b2v51tvT29vyrfVtL5vN9mkjELzRCfzL0HwgvsjFm5ubRQ8PD4uur6/X5o2OjrotJ3fCygdC84HQfCBeNuBW8+TkRHRMTIzoi4sLbV5qaqros7Ozb8/LXbDygdB8INCt5s3Njejo6GjRkZGR2rympibRbW1t356Xu2DlA6H5QGg+EOhWs6ioSPTCwoLoz0/HKeXm5opeXl7+nsTcBCsfCM0HAm07wcHBond3d0Wr206Tra0t0ZmZmdrY09OThdl9P6x8IDQfCLTtqISEhIi+urrSxvz8/Oz+zcTEhBbX1NRYn9g3wsoHQvOB0HwgHtPzVfr7+7W4s7PT7ryHhwctLiwsFL2ysmJ5XlbDygdC84F4ZNvJyMjQ4qWlJdHqltTk/v5edH5+vja2vr5uUXbWwcoHQvOB0HwgHtnzTaqrq0WrdzrVt6ImOzs7Wpyeni76+fnZwuxch5UPhOYD+RFtR6W1tVX0wMCANubr6/gaUkVFhei5uTnrE3MBVj4Qmg/kx7UdlenpaS2urKx0OPfu7k50S0uL6KmpKW3e+/u7Nck5ASsfCM0HQvOBuPWKeFhYmBa3t7eLzsrKEn19fa3NOz4+Fu3v7y86ISHB6bXVt6GTk5Oi09LStHkdHR2ib29vnX6+K7DygdB8IJZvNQMDA7V4dnZWdF5enjYWFBQk2tv7/zr46payuhX08fFxOc9ffHx8aPH8/LzohoYGbczqj/FY+UBoPhCaD8Tynl9QUKDFMzMzokNDQ7Wxo6Mj0eohSWxsrDYvMTHR7lqPj49anJSUZFfbbPr9z6ioKLvPMzE/xs7Ozha9v7/v1DO+gpUPhOYDsfw/XPOt4FfbQfXwY2NjQ/TIyIhLa6trma2rtLRUtPp7PuHh4do89VzYbE9dXV2iq6qqRL++vrqULysfCM0HYvluJyAgQIvVM9eenh59cS8v0ZeXl6LHxsa0eUNDQ6LNm8nOon5IV15eLtr8+G5xcdGp56ktSc39d2DlA6H5QGg+EMu3muaHyH19faLN/lpcXCxa/Y2d7u5ubZ560LK9vS1aPfiwt7aKekCjbod7e3sdPuP8/Fwbi4uLc/h8V2DlA6H5QKD3dlJSUkTX1taKLisr0+aZL+R+cXp6qsWrq6uiDw8PtTF1y7u5uSna/ApGPTB5e3vTxgYHB0WPj4/bzel3YOUDoflAPPK6YHJyshbX1dWJLikpER0REfHHa5mtZW9vT/Ta2po21tjYKPrl5eWP12blA6H5QGg+EI/s+V8RHx8v2uz56n/MOTk52ph6P0fdJpofRx8cHFiRplOw8oHQfCA/ru38TbDygdB8IDQfCM0HQvOB0HwgNB8IzQdC84HQfCA0HwjNB0LzgdB8IDQfCM0HQvOB0HwgNB8IzQdC84HQfCA0H8h/QIsV5Jtj8zgAAAAASUVORK5CYII=\" y=\"-6.776271\"/>\n   </g>\n   <g id=\"patch_93\">\n    <path d=\"M 1032.123729 101.776271 \nL 1032.123729 7.2 \n\" style=\"fill:none;stroke:#000000;stroke-linecap:square;stroke-linejoin:miter;stroke-width:0.8;\"/>\n   </g>\n   <g id=\"patch_94\">\n    <path d=\"M 1126.7 101.776271 \nL 1126.7 7.2 \n\" style=\"fill:none;stroke:#000000;stroke-linecap:square;stroke-linejoin:miter;stroke-width:0.8;\"/>\n   </g>\n   <g id=\"patch_95\">\n    <path d=\"M 1032.123729 101.776271 \nL 1126.7 101.776271 \n\" style=\"fill:none;stroke:#000000;stroke-linecap:square;stroke-linejoin:miter;stroke-width:0.8;\"/>\n   </g>\n   <g id=\"patch_96\">\n    <path d=\"M 1032.123729 7.2 \nL 1126.7 7.2 \n\" style=\"fill:none;stroke:#000000;stroke-linecap:square;stroke-linejoin:miter;stroke-width:0.8;\"/>\n   </g>\n  </g>\n  <g id=\"axes_20\">\n   <g id=\"patch_97\">\n    <path d=\"M 1032.123729 220.379908 \nL 1126.7 220.379908 \nL 1126.7 125.803636 \nL 1032.123729 125.803636 \nz\n\" style=\"fill:#ffffff;\"/>\n   </g>\n   <g clip-path=\"url(#pe47bb3fbe8)\">\n    <image height=\"95\" id=\"imagede9d3e269d\" transform=\"scale(1 -1)translate(0 -95)\" width=\"95\" x=\"1032.123729\" xlink:href=\"data:image/png;base64,\niVBORw0KGgoAAAANSUhEUgAAAF8AAABfCAYAAACOTBv1AAAFJUlEQVR4nO2cSSj1bxTHH/MUEmUKC+NCmcqCBSkyJENZWMrSUqaSJcWSBVJK2SDTio2VFJFxYyEppZAoMvPfnfd7nt578/fe69z7vuez+t7Oue6vr+ee33mG3/UxxnwaRQRf6Qv4l1HzBfF39wf4+PiQLi8vZ7GhoSHSSUlJpCcmJlhed3c36Y+PD1dfohg68gVR8wVR8wXxMW5uNbHmJyYmstjMzAzpnJwc0o+PjyyvsrKS9M7ODunPT+/uknXkC6LmC+L2VtPX99f/NzY2lsVeX19JYwsZFBTE8urq6kgfHh6Sfn5+/uPrw7Jo4+6ypiNfEDVfEDVfELfXfKybp6enLHZwcEA6Ly+PdHBwMMtrbm4mPTw8TPry8tKl1/fT6MgXRM0XxO0zXATbTmOMSU5OJr22tkY6JSXF4d9YWloi3dTUxGLv7+9/eok/io58QdR8QX607DgDZ7Fzc3Ms5u//qynDmfD4+DjLa2tr+22ep6IjXxA1XxA1XxCPqfm4ujg/P89ieD/AvLe3N5bX3t5OemRkhMU88R6gI18QNV8Qjyk7SGBgIHu9vr5OuqCgwOH7bm5uSDc0NLDYxsYGaU8pQTryBVHzBVHzBfHImm8TGhpKenp6mnRFRQXLw2WI7e1tFqutrSWN9wZJdOQLouYL4hVlBzdh0tLSSC8uLrI8jNlHDjs7O0njEXTJDRgd+YKo+YK4/OiIs+N3zvDz8yNtz3ATEhJI475tdHS0w88OCwtjsZ6eHtJ45HBra4vl2Yt17kRHviBqviBqviAuaTWxXkdFRbFYfn4+6dTUVBaLj48njU+tZGVlsTw834N1PiAgwOF12PcebCmvrq5I9/f3s7ypqSnS9/f3LIaroa44ZqgjXxA1XxCXlB1sDWtqalhscHCQdFxcHIvhV/fh4cHh38eFNfwsLDPG8JmwfTQRyxCWj6enJ5aHGzd9fX0shqeq8amY727O6MgXRM0XRM0XxCXLC1i77adK8DXWbvt92NZNTk6yPNwYCQ8PJ42tqjF8GaKsrIzFcMUTn3YMCQlheaWlpaR7e3tZDM8F4VM2dtv51TZUR74gar4gLik7OHvc399nsdvbW9J2mcD2D7+qe3t7LG9lZYX0y8vLb99vv7bLX2trK+mBgQGHeThrLi4uZrHCwkLS5+fnpPFh7v+DjnxB1HxBXFJ2cIZnP2u7sLBAGrsRY4yJjIwkjQtyLS0tLG9zc5P0xcUFaXv/1VH3ZIwxo6OjpIuKikg3NjayPJw1Y2dlDO+E8MG876IjXxA1XxA1XxCXb6Dbv4EzNjZG2t5oqa+vJx0REUEaWzpj+NOJy8vLpHEF0hhjjo6OSNs1H48S4n3IXoW1Z7xIeno6aWcbNzrD9QLUfEHcflwQv572z3xVVVWRrq6uJp2RkcHycN8WZ6T2hgkeEbRb3pOTE9IxMTGkse00hpcde6NldnaWdEdHB+nvnnrWkS+Imi+I6E++4H4slhb7iAk+2FBSUkI6MzOT5eF+gbOjI1hO7O7s+vqa9O7uLovhgtzx8TFpXVjzQtR8QdR8QUSfTMG6jPcDu17j7BRXQnNzc1leV1cX6ezsbBbDo99nZ2ekV1dXWR7OfnHDxBhj7u7uSOM95LtHB3XkC6LmC+IVD8R9la8eF3RWMn7yR0515Aui5gui5gvyV9V8b0NHviBqviBqviBqviBqviBqviBqviBqviBqviBqviBqviBqviBqviBqviBqviBqviBqviBqviBqviD/Adu+f/GAh++QAAAAAElFTkSuQmCC\" y=\"-125.379908\"/>\n   </g>\n   <g id=\"patch_98\">\n    <path d=\"M 1032.123729 220.379908 \nL 1032.123729 125.803636 \n\" style=\"fill:none;stroke:#000000;stroke-linecap:square;stroke-linejoin:miter;stroke-width:0.8;\"/>\n   </g>\n   <g id=\"patch_99\">\n    <path d=\"M 1126.7 220.379908 \nL 1126.7 125.803636 \n\" style=\"fill:none;stroke:#000000;stroke-linecap:square;stroke-linejoin:miter;stroke-width:0.8;\"/>\n   </g>\n   <g id=\"patch_100\">\n    <path d=\"M 1032.123729 220.379908 \nL 1126.7 220.379908 \n\" style=\"fill:none;stroke:#000000;stroke-linecap:square;stroke-linejoin:miter;stroke-width:0.8;\"/>\n   </g>\n   <g id=\"patch_101\">\n    <path d=\"M 1032.123729 125.803636 \nL 1126.7 125.803636 \n\" style=\"fill:none;stroke:#000000;stroke-linecap:square;stroke-linejoin:miter;stroke-width:0.8;\"/>\n   </g>\n  </g>\n </g>\n <defs>\n  <clipPath id=\"p4dd848ed64\">\n   <rect height=\"94.576271\" width=\"94.576271\" x=\"10.7\" y=\"7.2\"/>\n  </clipPath>\n  <clipPath id=\"padaedc1feb\">\n   <rect height=\"94.576271\" width=\"94.576271\" x=\"10.7\" y=\"125.803636\"/>\n  </clipPath>\n  <clipPath id=\"p7f66b4d3d1\">\n   <rect height=\"94.576271\" width=\"94.576271\" x=\"124.191525\" y=\"7.2\"/>\n  </clipPath>\n  <clipPath id=\"p897787a338\">\n   <rect height=\"94.576271\" width=\"94.576271\" x=\"124.191525\" y=\"125.803636\"/>\n  </clipPath>\n  <clipPath id=\"pd9e443474b\">\n   <rect height=\"94.576271\" width=\"94.576271\" x=\"237.683051\" y=\"7.2\"/>\n  </clipPath>\n  <clipPath id=\"pc783ebbaea\">\n   <rect height=\"94.576271\" width=\"94.576271\" x=\"237.683051\" y=\"125.803636\"/>\n  </clipPath>\n  <clipPath id=\"p2782036d00\">\n   <rect height=\"94.576271\" width=\"94.576271\" x=\"351.174576\" y=\"7.2\"/>\n  </clipPath>\n  <clipPath id=\"p1812c63c17\">\n   <rect height=\"94.576271\" width=\"94.576271\" x=\"351.174576\" y=\"125.803636\"/>\n  </clipPath>\n  <clipPath id=\"pa501541a46\">\n   <rect height=\"94.576271\" width=\"94.576271\" x=\"464.666102\" y=\"7.2\"/>\n  </clipPath>\n  <clipPath id=\"p20250122da\">\n   <rect height=\"94.576271\" width=\"94.576271\" x=\"464.666102\" y=\"125.803636\"/>\n  </clipPath>\n  <clipPath id=\"pab443d8f95\">\n   <rect height=\"94.576271\" width=\"94.576271\" x=\"578.157627\" y=\"7.2\"/>\n  </clipPath>\n  <clipPath id=\"p05216d3bfb\">\n   <rect height=\"94.576271\" width=\"94.576271\" x=\"578.157627\" y=\"125.803636\"/>\n  </clipPath>\n  <clipPath id=\"pc633d5d248\">\n   <rect height=\"94.576271\" width=\"94.576271\" x=\"691.649153\" y=\"7.2\"/>\n  </clipPath>\n  <clipPath id=\"p555c2b49b7\">\n   <rect height=\"94.576271\" width=\"94.576271\" x=\"691.649153\" y=\"125.803636\"/>\n  </clipPath>\n  <clipPath id=\"p8fe1c698df\">\n   <rect height=\"94.576271\" width=\"94.576271\" x=\"805.140678\" y=\"7.2\"/>\n  </clipPath>\n  <clipPath id=\"pb3432e28fc\">\n   <rect height=\"94.576271\" width=\"94.576271\" x=\"805.140678\" y=\"125.803636\"/>\n  </clipPath>\n  <clipPath id=\"p2b08310f02\">\n   <rect height=\"94.576271\" width=\"94.576271\" x=\"918.632203\" y=\"7.2\"/>\n  </clipPath>\n  <clipPath id=\"p9983d234e4\">\n   <rect height=\"94.576271\" width=\"94.576271\" x=\"918.632203\" y=\"125.803636\"/>\n  </clipPath>\n  <clipPath id=\"p8dc96d9e29\">\n   <rect height=\"94.576271\" width=\"94.576271\" x=\"1032.123729\" y=\"7.2\"/>\n  </clipPath>\n  <clipPath id=\"pe47bb3fbe8\">\n   <rect height=\"94.576271\" width=\"94.576271\" x=\"1032.123729\" y=\"125.803636\"/>\n  </clipPath>\n </defs>\n</svg>\n",
      "image/png": "[encoded data removed]"
     },
     "metadata": {
      "needs_background": "light"
     }
    }
   ],
   "source": [
    "import matplotlib.pyplot as plt\n",
    "\n",
    "\n",
    "n = 10  # How many digits we will display\n",
    "plt.figure(figsize=(20, 4))\n",
    "for i in range(n):\n",
    "    # Display original\n",
    "    ax = plt.subplot(2, n, i + 1)\n",
    "    plt.imshow(x_test[i].reshape(28, 28))\n",
    "    plt.gray()\n",
    "    ax.get_xaxis().set_visible(False)\n",
    "    ax.get_yaxis().set_visible(False)\n",
    "\n",
    "    # Display reconstruction\n",
    "    ax = plt.subplot(2, n, i + 1 + n)\n",
    "    plt.imshow(roundtrip_imgs[i].reshape(28, 28))\n",
    "    plt.gray()\n",
    "    ax.get_xaxis().set_visible(False)\n",
    "    ax.get_yaxis().set_visible(False)\n",
    "plt.show()"
   ]
  },
  {
   "source": [
    "What about the compression? Let's check the sizes of the arrays."
   ],
   "cell_type": "markdown",
   "metadata": {}
  },
  {
   "cell_type": "code",
   "execution_count": 17,
   "metadata": {},
   "outputs": [
    {
     "output_type": "stream",
     "name": "stdout",
     "text": [
      "40/40 [==============================] - 0s 583us/step\n",
      "x_test.shape[1]: 784\n",
      "encoded_imgs.shape[1]: 32\n",
      "Space saving: 95.92%\n"
     ]
    }
   ],
   "source": [
    "encoded_imgs = encoder.transform(x_test)\n",
    "print(f\"x_test.shape[1]: {x_test.shape[1]}\")\n",
    "print(f\"encoded_imgs.shape[1]: {encoded_imgs.shape[1]}\")\n",
    "space_saving = (1-encoded_imgs.astype(x_test.dtype).nbytes/x_test.nbytes)*100\n",
    "print(f\"Space saving: {space_saving:0.2f}%\")"
   ]
  }
 ],
 "metadata": {
  "colab": {
   "collapsed_sections": [],
   "name": "Benchmarks.ipynb",
   "provenance": []
  },
  "kernelspec": {
   "display_name": "Python 3",
   "language": "python",
   "name": "python3"
  },
  "language_info": {
   "codemirror_mode": {
    "name": "ipython",
    "version": 3
   },
   "file_extension": ".py",
   "mimetype": "text/x-python",
   "name": "python",
   "nbconvert_exporter": "python",
   "pygments_lexer": "ipython3",
   "version": "3.8.5-final"
  }
 },
 "nbformat": 4,
 "nbformat_minor": 1
}