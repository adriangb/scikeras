{
 "cells": [
  {
   "cell_type": "markdown",
   "metadata": {},
   "source": [
    "[![Run in Colab](https://www.tensorflow.org/images/colab_logo_32px.png)](https://colab.research.google.com/github/adriangb/scikeras/blob/master/docs/source/notebooks/Benchmarks.ipynb) Run in Colab"
   ]
  },
  {
   "cell_type": "markdown",
   "metadata": {
    "id": "z22BE9uhvoxO"
   },
   "source": [
    "# SciKeras Benchmarks"
   ]
  },
  {
   "cell_type": "markdown",
   "metadata": {
    "id": "hapoJed-voxP"
   },
   "source": [
    "SciKeras wraps Keras Models, but does not alter their performance since all of the heavy lifting still happens within Keras/Tensorflow. In this notebook, we compare the performance and accuracy of a pure-Keras Model to the same model wrapped in SciKeras."
   ]
  },
  {
   "cell_type": "markdown",
   "metadata": {
    "id": "iT-ibpi7voxQ"
   },
   "source": [
    "### Table of contents"
   ]
  },
  {
   "cell_type": "markdown",
   "metadata": {
    "id": "ekJWKPFMvoxR"
   },
   "source": [
    "* [Dataset](#1)\n",
    "* [Define the Keras Model](#2)\n",
    "* [Keras benchmark](#3)\n",
    "* [SciKeras benchmark](#4)"
   ]
  },
  {
   "cell_type": "markdown",
   "metadata": {
    "id": "6avb3GBQDQyG"
   },
   "source": [
    "Install SciKeras"
   ]
  },
  {
   "cell_type": "code",
   "execution_count": null,
   "metadata": {
    "execution": {
     "iopub.execute_input": "2021-01-22T23:49:42.056115Z",
     "iopub.status.busy": "2021-01-22T23:49:42.055314Z",
     "iopub.status.idle": "2021-01-22T23:49:43.875098Z",
     "shell.execute_reply": "2021-01-22T23:49:43.875487Z"
    },
    "id": "qCcyTjVkvoxR"
   },
   "outputs": [],
   "source": [
    "try:\n",
    "    import scikeras\n",
    "except ImportError:\n",
    "    !python -m pip install scikeras"
   ]
  },
  {
   "cell_type": "markdown",
   "metadata": {
    "id": "EZveNcetDQyL"
   },
   "source": [
    "Silence TensorFlow warnings to keep output succint."
   ]
  },
  {
   "cell_type": "code",
   "execution_count": null,
   "metadata": {
    "execution": {
     "iopub.execute_input": "2021-01-22T23:49:43.879201Z",
     "iopub.status.busy": "2021-01-22T23:49:43.878655Z",
     "iopub.status.idle": "2021-01-22T23:49:43.880202Z",
     "shell.execute_reply": "2021-01-22T23:49:43.880563Z"
    },
    "id": "ekNmO_GPDQyL"
   },
   "outputs": [],
   "source": [
    "import warnings\n",
    "from tensorflow import get_logger\n",
    "get_logger().setLevel('ERROR')\n",
    "warnings.filterwarnings(\"ignore\", message=\"Setting the random state for TF\")"
   ]
  },
  {
   "cell_type": "code",
   "execution_count": null,
   "metadata": {
    "execution": {
     "iopub.execute_input": "2021-01-22T23:49:43.883832Z",
     "iopub.status.busy": "2021-01-22T23:49:43.883146Z",
     "iopub.status.idle": "2021-01-22T23:49:44.282253Z",
     "shell.execute_reply": "2021-01-22T23:49:44.282706Z"
    },
    "id": "Sf4j-x4DvoxV"
   },
   "outputs": [],
   "source": [
    "import numpy as np\n",
    "from scikeras.wrappers import KerasClassifier, KerasRegressor\n",
    "from tensorflow import keras"
   ]
  },
  {
   "cell_type": "markdown",
   "metadata": {
    "id": "hCuOBH8AvoxX"
   },
   "source": [
    "<a id='1'></a>\n",
    "## Dataset"
   ]
  },
  {
   "cell_type": "markdown",
   "metadata": {
    "id": "i3fAUKBUvoxY"
   },
   "source": [
    "We will be using the MNIST dataset available within Keras."
   ]
  },
  {
   "cell_type": "code",
   "execution_count": null,
   "metadata": {
    "colab": {
     "base_uri": "https://localhost:8080/",
     "height": 51
    },
    "execution": {
     "iopub.execute_input": "2021-01-22T23:49:44.288101Z",
     "iopub.status.busy": "2021-01-22T23:49:44.287530Z",
     "iopub.status.idle": "2021-01-22T23:49:44.598014Z",
     "shell.execute_reply": "2021-01-22T23:49:44.598571Z"
    },
    "id": "QM74xeoe-1S-",
    "outputId": "23946eec-c32f-4db6-8bda-e12bda6492ea"
   },
   "outputs": [],
   "source": [
    "(x_train, y_train), (x_test, y_test) = keras.datasets.mnist.load_data()\n",
    "# Scale images to the [0, 1] range\n",
    "x_train = x_train.astype(\"float32\") / 255\n",
    "x_test = x_test.astype(\"float32\") / 255\n",
    "# Make sure images have shape (28, 28, 1)\n",
    "x_train = np.expand_dims(x_train, -1)\n",
    "x_test = np.expand_dims(x_test, -1)\n",
    "# Reduce dataset size for faster benchmarks\n",
    "x_train, y_train = x_train[:2000], y_train[:2000]\n",
    "x_test, y_test = x_test[:500], y_test[:500]"
   ]
  },
  {
   "cell_type": "markdown",
   "metadata": {
    "id": "yuR10hymK0dh"
   },
   "source": [
    "<a id='2'></a>\n",
    "## Define Keras Model"
   ]
  },
  {
   "cell_type": "markdown",
   "metadata": {
    "id": "rE15zkS4_hGU"
   },
   "source": [
    "Next we will define our Keras model (adapted from [keras.io](https://keras.io/examples/vision/mnist_convnet/)):"
   ]
  },
  {
   "cell_type": "code",
   "execution_count": null,
   "metadata": {
    "execution": {
     "iopub.execute_input": "2021-01-22T23:49:44.605938Z",
     "iopub.status.busy": "2021-01-22T23:49:44.605245Z",
     "iopub.status.idle": "2021-01-22T23:49:44.607331Z",
     "shell.execute_reply": "2021-01-22T23:49:44.607827Z"
    },
    "id": "dBFFXT-__7KU"
   },
   "outputs": [],
   "source": [
    "num_classes = 10\n",
    "input_shape = (28, 28, 1)\n",
    "\n",
    "\n",
    "def get_model():\n",
    "    model = keras.Sequential(\n",
    "        [\n",
    "            keras.Input(input_shape),\n",
    "            keras.layers.Conv2D(32, kernel_size=(3, 3), activation=\"relu\"),\n",
    "            keras.layers.MaxPooling2D(pool_size=(2, 2)),\n",
    "            keras.layers.Conv2D(64, kernel_size=(3, 3), activation=\"relu\"),\n",
    "            keras.layers.MaxPooling2D(pool_size=(2, 2)),\n",
    "            keras.layers.Flatten(),\n",
    "            keras.layers.Dropout(0.5),\n",
    "            keras.layers.Dense(num_classes, activation=\"softmax\"),\n",
    "        ]\n",
    "    )\n",
    "    model.compile(\n",
    "        loss=\"sparse_categorical_crossentropy\", optimizer=\"adam\"\n",
    "    )\n",
    "    return model"
   ]
  },
  {
   "cell_type": "markdown",
   "metadata": {
    "id": "yqBl5xLDP43O"
   },
   "source": [
    "<a id='3'></a>\n",
    "## Keras benchmarks"
   ]
  },
  {
   "cell_type": "code",
   "execution_count": null,
   "metadata": {
    "colab": {
     "base_uri": "https://localhost:8080/",
     "height": 34
    },
    "execution": {
     "iopub.execute_input": "2021-01-22T23:49:44.611981Z",
     "iopub.status.busy": "2021-01-22T23:49:44.611298Z",
     "iopub.status.idle": "2021-01-22T23:49:44.613292Z",
     "shell.execute_reply": "2021-01-22T23:49:44.613790Z"
    },
    "id": "QQhtIWsMP4Ii",
    "outputId": "1581384e-7012-4816-d4cf-a4190a30e50f"
   },
   "outputs": [],
   "source": [
    "fit_kwargs = {\"batch_size\": 128, \"validation_split\": 0.1, \"verbose\": 0, \"epochs\": 5}"
   ]
  },
  {
   "cell_type": "code",
   "execution_count": null,
   "metadata": {
    "execution": {
     "iopub.execute_input": "2021-01-22T23:49:44.617483Z",
     "iopub.status.busy": "2021-01-22T23:49:44.616784Z",
     "iopub.status.idle": "2021-01-22T23:49:44.618648Z",
     "shell.execute_reply": "2021-01-22T23:49:44.619155Z"
    },
    "id": "X-cjYYcJVhKt"
   },
   "outputs": [],
   "source": [
    "from sklearn.metrics import accuracy_score\n",
    "from scikeras._utils import TFRandomState"
   ]
  },
  {
   "cell_type": "code",
   "execution_count": null,
   "metadata": {
    "colab": {
     "base_uri": "https://localhost:8080/",
     "height": 34
    },
    "execution": {
     "iopub.execute_input": "2021-01-22T23:49:44.624468Z",
     "iopub.status.busy": "2021-01-22T23:49:44.623776Z",
     "iopub.status.idle": "2021-01-22T23:49:47.562527Z",
     "shell.execute_reply": "2021-01-22T23:49:47.563108Z"
    },
    "id": "HGhfDesgVGTt",
    "outputId": "41135dab-1919-4ffd-dcd2-2676c172e800"
   },
   "outputs": [],
   "source": [
    "from time import time\n",
    "\n",
    "with TFRandomState(seed=0):  # we force a TF random state to be able to compare accuracy\n",
    "    model = get_model()\n",
    "    start = time()\n",
    "    model.fit(x_train, y_train, **fit_kwargs)\n",
    "    print(f\"Training time: {time()-start:.2f}\")\n",
    "    y_pred = np.argmax(model.predict(x_test), axis=1)\n",
    "print(f\"Accuracy: {accuracy_score(y_test, y_pred)}\")"
   ]
  },
  {
   "cell_type": "markdown",
   "metadata": {
    "id": "TvSa_JPCQZiR"
   },
   "source": [
    "<a id='4'></a>\n",
    "## SciKeras benchmark"
   ]
  },
  {
   "cell_type": "code",
   "execution_count": null,
   "metadata": {
    "execution": {
     "iopub.execute_input": "2021-01-22T23:49:47.567071Z",
     "iopub.status.busy": "2021-01-22T23:49:47.566399Z",
     "iopub.status.idle": "2021-01-22T23:49:47.568929Z",
     "shell.execute_reply": "2021-01-22T23:49:47.568341Z"
    },
    "id": "n1CSzViYDFeK"
   },
   "outputs": [],
   "source": [
    "clf = KerasClassifier(\n",
    "    model=get_model,\n",
    "    random_state=0,\n",
    "    **fit_kwargs\n",
    ")"
   ]
  },
  {
   "cell_type": "code",
   "execution_count": null,
   "metadata": {
    "colab": {
     "base_uri": "https://localhost:8080/",
     "height": 34
    },
    "execution": {
     "iopub.execute_input": "2021-01-22T23:49:47.573224Z",
     "iopub.status.busy": "2021-01-22T23:49:47.572532Z",
     "iopub.status.idle": "2021-01-22T23:49:50.028861Z",
     "shell.execute_reply": "2021-01-22T23:49:50.029373Z"
    },
    "id": "SJI7v2igWTPm",
    "outputId": "3ac5a80e-6f91-4173-aadb-2e8621a9d060"
   },
   "outputs": [],
   "source": [
    "start = time()\n",
    "clf.fit(x_train, y_train)\n",
    "print(f\"Training time: {time()-start:.2f}\")\n",
    "y_pred = clf.predict(x_test)\n",
    "print(f\"Accuracy: {accuracy_score(y_test, y_pred)}\")"
   ]
  },
  {
   "cell_type": "markdown",
   "metadata": {},
   "source": [
    "As you can see, the overhead for SciKeras is <1 sec, and the accuracy is identical."
   ]
  }
 ],
 "metadata": {
  "colab": {
   "collapsed_sections": [],
   "name": "Benchmarks.ipynb",
   "provenance": []
  },
  "kernelspec": {
   "display_name": "Python 3",
   "language": "python",
   "name": "python3"
  },
  "language_info": {
   "codemirror_mode": {
    "name": "ipython",
    "version": 3
   },
   "file_extension": ".py",
   "mimetype": "text/x-python",
   "name": "python",
   "nbconvert_exporter": "python",
   "pygments_lexer": "ipython3",
   "version": "3.8.6"
  }
 },
 "nbformat": 4,
 "nbformat_minor": 0
}
