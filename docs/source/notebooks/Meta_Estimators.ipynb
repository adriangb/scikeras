{
 "cells": [
  {
   "cell_type": "markdown",
   "metadata": {},
   "source": [
    "[![Run in Colab](https://www.tensorflow.org/images/colab_logo_32px.png)](https://colab.research.google.com/github/adriangb/scikeras/blob/master/docs/source/notebooks/Meta_Estimators.ipynb) Run in Colab"
   ]
  },
  {
   "cell_type": "markdown",
   "metadata": {
    "id": "z22BE9uhvoxO"
   },
   "source": [
    "# Meta Estimators in SciKeras"
   ]
  },
  {
   "cell_type": "markdown",
   "metadata": {
    "id": "hapoJed-voxP"
   },
   "source": [
    "In this notebook, we implement sklearn ensemble and tree meta-estimators backed by a Keras MLP model."
   ]
  },
  {
   "cell_type": "markdown",
   "metadata": {
    "id": "iT-ibpi7voxQ"
   },
   "source": [
    "### Table of contents"
   ]
  },
  {
   "cell_type": "markdown",
   "metadata": {
    "id": "ekJWKPFMvoxR"
   },
   "source": [
    "* [Defining the Keras Model](#1)\n",
    "* [Building a boosting ensemble](#2)\n",
    "* [Testing with a toy dataset](#3)\n",
    "* [Bagging ensemble](#4)"
   ]
  },
  {
   "cell_type": "markdown",
   "metadata": {
    "id": "6avb3GBQDQyG"
   },
   "source": [
    "Install SciKeras"
   ]
  },
  {
   "cell_type": "code",
   "execution_count": null,
   "metadata": {
    "execution": {
     "iopub.execute_input": "2021-01-24T02:39:34.168715Z",
     "iopub.status.busy": "2021-01-24T02:39:34.166012Z",
     "iopub.status.idle": "2021-01-24T02:39:38.369186Z",
     "shell.execute_reply": "2021-01-24T02:39:38.369680Z"
    },
    "id": "qCcyTjVkvoxR"
   },
   "outputs": [],
   "source": [
    "try:\n",
    "    import scikeras\n",
    "except ImportError:\n",
    "    !python -m pip install scikeras"
   ]
  },
  {
   "cell_type": "markdown",
   "metadata": {
    "id": "EZveNcetDQyL"
   },
   "source": [
    "Silence TensorFlow warnings to keep output succint."
   ]
  },
  {
   "cell_type": "code",
   "execution_count": null,
   "metadata": {
    "execution": {
     "iopub.execute_input": "2021-01-24T02:39:38.375356Z",
     "iopub.status.busy": "2021-01-24T02:39:38.374175Z",
     "iopub.status.idle": "2021-01-24T02:39:38.377945Z",
     "shell.execute_reply": "2021-01-24T02:39:38.378633Z"
    },
    "id": "ekNmO_GPDQyL"
   },
   "outputs": [],
   "source": [
    "import warnings\n",
    "from tensorflow import get_logger\n",
    "get_logger().setLevel('ERROR')\n",
    "warnings.filterwarnings(\"ignore\", message=\"Setting the random state for TF\")"
   ]
  },
  {
   "cell_type": "code",
   "execution_count": null,
   "metadata": {
    "execution": {
     "iopub.execute_input": "2021-01-24T02:39:38.395177Z",
     "iopub.status.busy": "2021-01-24T02:39:38.385384Z",
     "iopub.status.idle": "2021-01-24T02:39:39.092832Z",
     "shell.execute_reply": "2021-01-24T02:39:39.093359Z"
    },
    "id": "Sf4j-x4DvoxV"
   },
   "outputs": [],
   "source": [
    "from typing import Dict, Iterable, Any\n",
    "\n",
    "import numpy as np\n",
    "from scikeras.wrappers import KerasClassifier, KerasRegressor\n",
    "from tensorflow import keras"
   ]
  },
  {
   "cell_type": "markdown",
   "metadata": {
    "id": "hCuOBH8AvoxX"
   },
   "source": [
    "<a id='1'></a>\n",
    "## Defining the Keras Model"
   ]
  },
  {
   "cell_type": "markdown",
   "metadata": {
    "id": "i3fAUKBUvoxY"
   },
   "source": [
    "We borrow our MLPClassifier implementation from the [MLPClassifier notebook](https://colab.research.google.com/github/adriangb/scikeras/blob/master/notebooks/MLPClassifier_and_MLPRegressor.ipynb)."
   ]
  },
  {
   "cell_type": "code",
   "execution_count": null,
   "metadata": {
    "execution": {
     "iopub.execute_input": "2021-01-24T02:39:39.102481Z",
     "iopub.status.busy": "2021-01-24T02:39:39.101510Z",
     "iopub.status.idle": "2021-01-24T02:39:39.103763Z",
     "shell.execute_reply": "2021-01-24T02:39:39.104262Z"
    },
    "id": "QM74xeoe-1S-"
   },
   "outputs": [],
   "source": [
    "def get_clf_model(hidden_layer_sizes: Iterable[int], meta: Dict[str, Any], compile_kwargs: Dict[str, Any]):\n",
    "    model = keras.Sequential()\n",
    "    inp = keras.layers.Input(shape=(meta[\"n_features_in_\"]))\n",
    "    model.add(inp)\n",
    "    for hidden_layer_size in hidden_layer_sizes:\n",
    "        layer = keras.layers.Dense(hidden_layer_size, activation=\"relu\")\n",
    "        model.add(layer)\n",
    "    if meta[\"target_type_\"] == \"binary\":\n",
    "        n_output_units = 1\n",
    "        output_activation = \"sigmoid\"\n",
    "        loss = \"binary_crossentropy\"\n",
    "    elif meta[\"target_type_\"] == \"multiclass\":\n",
    "        n_output_units = meta[\"n_classes_\"]\n",
    "        output_activation = \"softmax\"\n",
    "        loss = \"sparse_categorical_crossentropy\"\n",
    "    else:\n",
    "        raise NotImplementedError(f\"Unsupported task type: {meta['target_type_']}\")\n",
    "    out = keras.layers.Dense(n_output_units, activation=output_activation)\n",
    "    model.add(out)\n",
    "    model.compile(loss=loss, optimizer=compile_kwargs[\"optimizer\"])\n",
    "    return model"
   ]
  },
  {
   "cell_type": "markdown",
   "metadata": {
    "id": "Yg_0PtqhwNSo"
   },
   "source": [
    "Next we wrap this Keras model with SciKeras"
   ]
  },
  {
   "cell_type": "code",
   "execution_count": null,
   "metadata": {
    "execution": {
     "iopub.execute_input": "2021-01-24T02:39:39.109914Z",
     "iopub.status.busy": "2021-01-24T02:39:39.109005Z",
     "iopub.status.idle": "2021-01-24T02:39:39.111302Z",
     "shell.execute_reply": "2021-01-24T02:39:39.111943Z"
    },
    "id": "1DeX_yH_wTIX"
   },
   "outputs": [],
   "source": [
    "clf = KerasClassifier(\n",
    "    model=get_clf_model,\n",
    "    hidden_layer_sizes=(100, ),\n",
    "    optimizer=\"adam\",\n",
    "    optimizer__learning_rate=0.001,\n",
    "    verbose=0,\n",
    "    random_state=0,\n",
    ")"
   ]
  },
  {
   "cell_type": "markdown",
   "metadata": {
    "id": "lNz5uY-v-1TQ"
   },
   "source": [
    "### Building a boosting ensemble"
   ]
  },
  {
   "cell_type": "markdown",
   "metadata": {
    "id": "W5rrSfES-1TQ"
   },
   "source": [
    "Because SciKeras estimators are fully compliant with the Scikit-Learn API, we can make use of Scikit-Learn's built in utilities. In particular example, we will use `AdaBoostClassifier` from `sklearn.ensemble.AdaBoostClassifier`, but the process is the same for most Scikit-Learn meta-estimators."
   ]
  },
  {
   "cell_type": "code",
   "execution_count": null,
   "metadata": {
    "execution": {
     "iopub.execute_input": "2021-01-24T02:39:39.117739Z",
     "iopub.status.busy": "2021-01-24T02:39:39.116779Z",
     "iopub.status.idle": "2021-01-24T02:39:39.262043Z",
     "shell.execute_reply": "2021-01-24T02:39:39.262590Z"
    },
    "id": "_JgVNml3yEup"
   },
   "outputs": [],
   "source": [
    "from sklearn.ensemble import AdaBoostClassifier"
   ]
  },
  {
   "cell_type": "code",
   "execution_count": null,
   "metadata": {
    "execution": {
     "iopub.execute_input": "2021-01-24T02:39:39.268475Z",
     "iopub.status.busy": "2021-01-24T02:39:39.267633Z",
     "iopub.status.idle": "2021-01-24T02:39:39.270493Z",
     "shell.execute_reply": "2021-01-24T02:39:39.269878Z"
    },
    "id": "azbKtjtd-1TR"
   },
   "outputs": [],
   "source": [
    "adaboost = AdaBoostClassifier(base_estimator=clf, random_state=0)"
   ]
  },
  {
   "cell_type": "markdown",
   "metadata": {
    "id": "Pznw-f0v-1TU"
   },
   "source": [
    "<a id='2'></a>\n",
    "## Testing with a toy dataset"
   ]
  },
  {
   "cell_type": "markdown",
   "metadata": {
    "id": "p0uSTuc-voxu"
   },
   "source": [
    "Before continouing, we will run a small test to make sure we get somewhat reasonable results."
   ]
  },
  {
   "cell_type": "code",
   "execution_count": null,
   "metadata": {
    "execution": {
     "iopub.execute_input": "2021-01-24T02:39:39.275059Z",
     "iopub.status.busy": "2021-01-24T02:39:39.274170Z",
     "iopub.status.idle": "2021-01-24T02:39:39.304795Z",
     "shell.execute_reply": "2021-01-24T02:39:39.305396Z"
    },
    "id": "NPOO7tO6-1TV"
   },
   "outputs": [],
   "source": [
    "from sklearn.datasets import make_moons\n",
    "from sklearn.model_selection import cross_val_score"
   ]
  },
  {
   "cell_type": "code",
   "execution_count": null,
   "metadata": {
    "colab": {
     "base_uri": "https://localhost:8080/",
     "height": 51
    },
    "execution": {
     "iopub.execute_input": "2021-01-24T02:39:39.312502Z",
     "iopub.status.busy": "2021-01-24T02:39:39.311674Z",
     "iopub.status.idle": "2021-01-24T02:42:55.818225Z",
     "shell.execute_reply": "2021-01-24T02:42:55.818613Z"
    },
    "id": "V5MfyQuPvoxu",
    "outputId": "bd3b0f17-75c8-4ec5-ffed-5ba5facdd912"
   },
   "outputs": [],
   "source": [
    "X, y = make_moons()\n",
    "\n",
    "single_score = np.mean(cross_val_score(clf, X, y))\n",
    "\n",
    "adaboost_score = np.mean(cross_val_score(adaboost, X, y))\n",
    "\n",
    "print(f\"Single score: {single_score:.2f}\")\n",
    "print(f\"AdaBoost score: {adaboost_score:.2f}\")"
   ]
  },
  {
   "cell_type": "markdown",
   "metadata": {
    "id": "3c420jeQA3FP"
   },
   "source": [
    "We see that the score for the AdaBoost classifier is slightly higher than that of an individual MLPRegressor instance. We can explore the individual classifiers, and see that each one is composed of a Keras Model with it's own individual weights."
   ]
  },
  {
   "cell_type": "code",
   "execution_count": null,
   "metadata": {
    "execution": {
     "iopub.execute_input": "2021-01-24T02:42:55.835264Z",
     "iopub.status.busy": "2021-01-24T02:42:55.822227Z",
     "iopub.status.idle": "2021-01-24T02:43:14.119795Z",
     "shell.execute_reply": "2021-01-24T02:43:14.120202Z"
    },
    "id": "dNrKl2Ga3GFl"
   },
   "outputs": [],
   "source": [
    "adaboost.fit(X, y)  # we need to fit outside of cross_val_score before accessing the weights"
   ]
  },
  {
   "cell_type": "code",
   "execution_count": null,
   "metadata": {
    "colab": {
     "base_uri": "https://localhost:8080/",
     "height": 51
    },
    "execution": {
     "iopub.execute_input": "2021-01-24T02:43:14.125093Z",
     "iopub.status.busy": "2021-01-24T02:43:14.124482Z",
     "iopub.status.idle": "2021-01-24T02:43:14.127518Z",
     "shell.execute_reply": "2021-01-24T02:43:14.127911Z"
    },
    "id": "Qy4qQM0W1-A4",
    "outputId": "a6688e8a-3caa-4b9d-a9f2-cbfe581d210d"
   },
   "outputs": [],
   "source": [
    "print(adaboost.estimators_[0].model_.get_weights()[0][0, :5])  # first sub-estimator\n",
    "print(adaboost.estimators_[1].model_.get_weights()[0][0, :5])  # second sub-estimator"
   ]
  },
  {
   "cell_type": "markdown",
   "metadata": {
    "id": "3hIbc-x3Bg0w"
   },
   "source": [
    "<a id='3'></a>\n",
    "## Bagging ensemble"
   ]
  },
  {
   "cell_type": "markdown",
   "metadata": {
    "id": "T7XoG2NOBj2d"
   },
   "source": [
    "For comparison, we run the same test with an ensemble built using `sklearn.ensemble.BaggingClassifier`."
   ]
  },
  {
   "cell_type": "code",
   "execution_count": null,
   "metadata": {
    "execution": {
     "iopub.execute_input": "2021-01-24T02:43:14.131000Z",
     "iopub.status.busy": "2021-01-24T02:43:14.130471Z",
     "iopub.status.idle": "2021-01-24T02:43:14.132110Z",
     "shell.execute_reply": "2021-01-24T02:43:14.132489Z"
    },
    "id": "1eY9mBYZ6F3u"
   },
   "outputs": [],
   "source": [
    "from sklearn.ensemble import BaggingClassifier"
   ]
  },
  {
   "cell_type": "code",
   "execution_count": null,
   "metadata": {
    "colab": {
     "base_uri": "https://localhost:8080/",
     "height": 34
    },
    "execution": {
     "iopub.execute_input": "2021-01-24T02:43:14.136035Z",
     "iopub.status.busy": "2021-01-24T02:43:14.135491Z",
     "iopub.status.idle": "2021-01-24T02:43:47.734875Z",
     "shell.execute_reply": "2021-01-24T02:43:47.735277Z"
    },
    "id": "Exa0Ri5u54Up",
    "outputId": "70a6f940-fbb7-4492-faf2-154ab0580f61"
   },
   "outputs": [],
   "source": [
    "bagging = BaggingClassifier(base_estimator=clf, random_state=0, n_jobs=-1)\n",
    "\n",
    "bagging_score = np.mean(cross_val_score(bagging, X, y))\n",
    "\n",
    "print(f\"Bagging score: {bagging_score:.2f}\")"
   ]
  }
 ],
 "metadata": {
  "colab": {
   "collapsed_sections": [],
   "name": "Meta_Estimators.ipynb",
   "provenance": []
  },
  "kernelspec": {
   "display_name": "Python 3",
   "language": "python",
   "name": "python3"
  },
  "language_info": {
   "codemirror_mode": {
    "name": "ipython",
    "version": 3
   },
   "file_extension": ".py",
   "mimetype": "text/x-python",
   "name": "python",
   "nbconvert_exporter": "python",
   "pygments_lexer": "ipython3",
   "version": "3.8.6"
  }
 },
 "nbformat": 4,
 "nbformat_minor": 0
}
