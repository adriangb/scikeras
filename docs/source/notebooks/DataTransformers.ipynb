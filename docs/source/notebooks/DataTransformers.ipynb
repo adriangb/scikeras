{
 "cells": [
  {
   "cell_type": "markdown",
   "metadata": {},
   "source": [
    "[![Run in Colab](https://www.tensorflow.org/images/colab_logo_32px.png)](https://colab.research.google.com/github/adriangb/scikeras/blob/master/docs/source/notebooks/DataTransformers.ipynb) Run in Colab"
   ]
  },
  {
   "cell_type": "markdown",
   "metadata": {
    "id": "z22BE9uhvoxO"
   },
   "source": [
    "# Data Transformers"
   ]
  },
  {
   "cell_type": "markdown",
   "metadata": {
    "id": "hapoJed-voxP"
   },
   "source": [
    "Keras support many types of input and output data formats, including:\n",
    "\n",
    "* Multiple inputs\n",
    "* Multiple outputs\n",
    "* Higher-dimensional tensors\n",
    "\n",
    "In this notebook, we explore how to reconcile this functionality with the sklearn ecosystem via SciKeras Data Transformer interface."
   ]
  },
  {
   "cell_type": "markdown",
   "metadata": {
    "id": "iT-ibpi7voxQ"
   },
   "source": [
    "### Table of contents"
   ]
  },
  {
   "cell_type": "markdown",
   "metadata": {
    "id": "ekJWKPFMvoxR"
   },
   "source": [
    "* [Data transformer interface](#0)\n",
    "    * [get_metadata method](#0-1)\n",
    "* [1. Multiple outputs](#1)\n",
    "    * [1.1 Define Keras Model](#1-1)\n",
    "    * [1.2 Define output transformer](#1-2)\n",
    "    * [1.3 Test classifier](#1-3)\n",
    "* [2. Multiple inputs](#2)\n",
    "    * [2.1 Define Keras Model](#2-1)\n",
    "    * [2.2 Define input transformer](#2-2)\n",
    "    * [2.3 Test regressor](#2-3)\n",
    "* [3. Multidimensional inputs with MNIST dataset](#3)\n",
    "    * [3.1 Define Keras Model](#3-1)\n",
    "    * [3.2 Define transformer](#3-2)\n",
    "    * [3.3 Test classifier](#3-3)"
   ]
  },
  {
   "cell_type": "markdown",
   "metadata": {
    "id": "6avb3GBQDQyG"
   },
   "source": [
    "Install SciKeras"
   ]
  },
  {
   "cell_type": "code",
   "execution_count": null,
   "metadata": {
    "execution": {
     "iopub.execute_input": "2021-01-24T02:39:34.168299Z",
     "iopub.status.busy": "2021-01-24T02:39:34.166003Z",
     "iopub.status.idle": "2021-01-24T02:39:38.369164Z",
     "shell.execute_reply": "2021-01-24T02:39:38.369654Z"
    },
    "id": "qCcyTjVkvoxR"
   },
   "outputs": [],
   "source": [
    "try:\n",
    "    import scikeras\n",
    "except ImportError:\n",
    "    !python -m pip install scikeras"
   ]
  },
  {
   "cell_type": "markdown",
   "metadata": {
    "id": "EZveNcetDQyL"
   },
   "source": [
    "Silence TensorFlow warnings to keep output succint."
   ]
  },
  {
   "cell_type": "code",
   "execution_count": null,
   "metadata": {
    "execution": {
     "iopub.execute_input": "2021-01-24T02:39:38.375261Z",
     "iopub.status.busy": "2021-01-24T02:39:38.373874Z",
     "iopub.status.idle": "2021-01-24T02:39:38.377746Z",
     "shell.execute_reply": "2021-01-24T02:39:38.378480Z"
    },
    "id": "ekNmO_GPDQyL"
   },
   "outputs": [],
   "source": [
    "import warnings\n",
    "from tensorflow import get_logger\n",
    "get_logger().setLevel('ERROR')\n",
    "warnings.filterwarnings(\"ignore\", message=\"Setting the random state for TF\")"
   ]
  },
  {
   "cell_type": "code",
   "execution_count": null,
   "metadata": {
    "execution": {
     "iopub.execute_input": "2021-01-24T02:39:38.386736Z",
     "iopub.status.busy": "2021-01-24T02:39:38.385145Z",
     "iopub.status.idle": "2021-01-24T02:39:39.092767Z",
     "shell.execute_reply": "2021-01-24T02:39:39.093438Z"
    },
    "id": "Sf4j-x4DvoxV"
   },
   "outputs": [],
   "source": [
    "import numpy as np\n",
    "from scikeras.wrappers import KerasClassifier, KerasRegressor\n",
    "from tensorflow import keras"
   ]
  },
  {
   "cell_type": "markdown",
   "metadata": {
    "id": "hCuOBH8AvoxX"
   },
   "source": [
    "<a id='0'></a>\n",
    "## Data transformer interface"
   ]
  },
  {
   "cell_type": "markdown",
   "metadata": {
    "id": "i3fAUKBUvoxY"
   },
   "source": [
    "SciKeras enables advanced Keras use cases by providing an interface to convert sklearn compliant data to whatever format your Keras model requires within SciKeras, right before passing said data to the Keras model.\n",
    "\n",
    "This interface is implemented in the form of two sklearn transformers, one for the features (`X`) and one for the target (`y`).  SciKeras loads these transformers via the `target_encoder` and `feature_encoder` methods.\n",
    "\n",
    "By default, SciKeras implements `target_encoder` for both KerasClassifier and KerasRegressor to facilitate common types of tasks in sklearn. The default implementations are `scikeras.utils.transformers.ClassifierLabelEncoder` and `scikeras.utils.transformers.RegressorTargetEncoder` for KerasClassifier and KerasRegressor respectively. Information on the types of tasks that these default transformers are able to perform can be found in the [SciKeras docs](https://scikeras.readthedocs.io/en/latest/advanced.html#data-transformers).\n",
    "\n",
    "Below is an outline of the inner workings of the data transfomer interfaces to help understand when they are called:"
   ]
  },
  {
   "cell_type": "code",
   "execution_count": null,
   "metadata": {
    "execution": {
     "iopub.execute_input": "2021-01-24T02:39:39.104652Z",
     "iopub.status.busy": "2021-01-24T02:39:39.103597Z",
     "iopub.status.idle": "2021-01-24T02:39:39.106156Z",
     "shell.execute_reply": "2021-01-24T02:39:39.106955Z"
    },
    "id": "QM74xeoe-1S-"
   },
   "outputs": [],
   "source": [
    "if False:  # avoid executing pseudocode\n",
    "    from scikeras.utils.transformers import (\n",
    "        ClassifierLabelEncoder,\n",
    "        RegressorTargetEncoder,\n",
    "    )\n",
    "\n",
    "\n",
    "    class BaseWrapper:\n",
    "        def fit(self, X, y):\n",
    "            self.target_encoder_ = self.target_encoder\n",
    "            self.feature_encoder_ = self.feature_encoder\n",
    "            y = self.target_encoder_.fit_transform(y)\n",
    "            X = self.feature_encoder_.fit_transform(X)\n",
    "            self.model_.fit(X, y)\n",
    "            return self\n",
    "        \n",
    "        def predict(self, X):\n",
    "            X = self.feature_encoder_.transform(X)\n",
    "            y_pred = self.model_.predict(X)\n",
    "            return self.target_encoder_.inverse_transform(y_pred)\n",
    "\n",
    "    class KerasClassifier(BaseWrapper):\n",
    "\n",
    "        @property\n",
    "        def target_encoder(self):\n",
    "            return ClassifierLabelEncoder(loss=self.loss)\n",
    "        \n",
    "        def predict_proba(self, X):\n",
    "            X = self.feature_encoder_.transform(X)\n",
    "            y_pred = self.model_.predict(X)\n",
    "            return self.target_encoder_.inverse_transform(y_pred, return_proba=True)\n",
    "\n",
    "\n",
    "    class KerasRegressor(BaseWrapper):\n",
    "\n",
    "        @property\n",
    "        def target_encoder(self):\n",
    "            return RegressorTargetEncoder()"
   ]
  },
  {
   "cell_type": "markdown",
   "metadata": {
    "id": "Yg_0PtqhwNSo"
   },
   "source": [
    "To substitute your own data transformation routine, you must subclass the wrappers and override one of the encoder defining functions. You will have access to all attributes of the wrappers, and you can pass these to your transformer, like we do above with `loss`."
   ]
  },
  {
   "cell_type": "code",
   "execution_count": null,
   "metadata": {
    "execution": {
     "iopub.execute_input": "2021-01-24T02:39:39.112116Z",
     "iopub.status.busy": "2021-01-24T02:39:39.111149Z",
     "iopub.status.idle": "2021-01-24T02:39:39.113691Z",
     "shell.execute_reply": "2021-01-24T02:39:39.114333Z"
    },
    "id": "Lb8uZq_dIRUE"
   },
   "outputs": [],
   "source": [
    "from sklearn.base import BaseEstimator, TransformerMixin"
   ]
  },
  {
   "cell_type": "code",
   "execution_count": null,
   "metadata": {
    "execution": {
     "iopub.execute_input": "2021-01-24T02:39:39.121161Z",
     "iopub.status.busy": "2021-01-24T02:39:39.120193Z",
     "iopub.status.idle": "2021-01-24T02:39:39.122255Z",
     "shell.execute_reply": "2021-01-24T02:39:39.122869Z"
    },
    "id": "1DeX_yH_wTIX"
   },
   "outputs": [],
   "source": [
    "if False:  # avoid executing pseudocode\n",
    "\n",
    "    class MultiOutputTransformer(BaseEstimator, TransformerMixin):\n",
    "        ...\n",
    "\n",
    "\n",
    "    class MultiOutputClassifier(KerasClassifier):\n",
    "\n",
    "        @property\n",
    "        def target_encoder(self):\n",
    "            return MultiOutputTransformer(...)"
   ]
  },
  {
   "cell_type": "markdown",
   "metadata": {
    "id": "8pwBaT2Qi1U2"
   },
   "source": [
    "<a id='0-1'></a>\n",
    "### get_metadata method"
   ]
  },
  {
   "cell_type": "markdown",
   "metadata": {
    "id": "N3FYPOwGi7t8"
   },
   "source": [
    "SciKeras recognized an optional `get_metadata` on the transformers. `get_metadata` is expected to return a dicionary of with key strings and arbitrary values. SciKeras will set add these items to the wrappers namespace and make them available to your model building function via the `meta` keyword argument:"
   ]
  },
  {
   "cell_type": "code",
   "execution_count": null,
   "metadata": {
    "execution": {
     "iopub.execute_input": "2021-01-24T02:39:39.129972Z",
     "iopub.status.busy": "2021-01-24T02:39:39.129003Z",
     "iopub.status.idle": "2021-01-24T02:39:39.131529Z",
     "shell.execute_reply": "2021-01-24T02:39:39.132503Z"
    },
    "id": "Nx2KNaRTi5aY"
   },
   "outputs": [],
   "source": [
    "if False:  # avoid executing pseudocode\n",
    "\n",
    "    class MultiOutputTransformer(BaseEstimator, TransformerMixin):\n",
    "        def get_metadata(self):\n",
    "            return {\"my_param_\": \"foobarbaz\"}\n",
    "\n",
    "\n",
    "    class MultiOutputClassifier(KerasClassifier):\n",
    "\n",
    "        @property\n",
    "        def target_encoder(self):\n",
    "            return MultiOutputTransformer(...)\n",
    "\n",
    "\n",
    "    def get_model(meta):\n",
    "        print(f\"Got: {meta['my_param_']}\")\n",
    "\n",
    "\n",
    "    clf = MultiOutputClassifier(model=get_model)\n",
    "    clf.fit(X, y)  # Got: foobarbaz\n",
    "    print(clf.my_param_)  # foobarbaz"
   ]
  },
  {
   "cell_type": "markdown",
   "metadata": {
    "id": "lNz5uY-v-1TQ"
   },
   "source": [
    "<a id='1'></a>\n",
    "## 1. Multiple Outputs"
   ]
  },
  {
   "cell_type": "markdown",
   "metadata": {
    "id": "W5rrSfES-1TQ"
   },
   "source": [
    "Keras makes it striaghtforward to define models with multiple outputs, that is a Model with multiple sets of fully-connected heads at the end of the network. This functionality is only available in the Functional Model and subclassed Model definition modes, and is not available when using Sequential.\n",
    "\n",
    "In practice, the main thing about Keras models with multiple outputs that you need to know as a SciKeras user is that Keras expects `X` or `y` to be a list of arrays/tensors, with one array/tensor for each input/output.\n",
    "\n",
    "Note that \"multiple outputs\" in Keras has a slightly different meaning than \"multiple outputs\" in sklearn. Many tasks that would be considered \"multiple output\" tasks in sklearn can be mapped to a single \"output\" in Keras with multiple units. This notebook specifically focuses on the cases that require multiple distinct Keras outputs."
   ]
  },
  {
   "cell_type": "markdown",
   "metadata": {
    "id": "QTwqF_0UL9qA"
   },
   "source": [
    "<a id='1-1'></a>\n",
    "### 1.1 Define Keras Model"
   ]
  },
  {
   "cell_type": "markdown",
   "metadata": {
    "id": "4gfMyrIZLjJB"
   },
   "source": [
    "Here we define a simple perceptron that has two outputs, corresponding to one binary classification taks and one multiclass classification task. For example, one output might be \"image has car\" (binary) and the other might be \"color of car in image\" (multiclass)."
   ]
  },
  {
   "cell_type": "code",
   "execution_count": null,
   "metadata": {
    "execution": {
     "iopub.execute_input": "2021-01-24T02:39:39.144139Z",
     "iopub.status.busy": "2021-01-24T02:39:39.142466Z",
     "iopub.status.idle": "2021-01-24T02:39:39.145940Z",
     "shell.execute_reply": "2021-01-24T02:39:39.146921Z"
    },
    "id": "_JgVNml3yEup"
   },
   "outputs": [],
   "source": [
    "def get_clf_model(meta):\n",
    "    inp = keras.layers.Input(shape=(meta[\"n_features_in_\"]))\n",
    "    x1 = keras.layers.Dense(100, activation=\"relu\")(inp)\n",
    "    out_bin = keras.layers.Dense(1, activation=\"sigmoid\")(x1)\n",
    "    out_cat = keras.layers.Dense(meta[\"n_classes_\"][1], activation=\"softmax\")(x1)\n",
    "    model = keras.Model(inputs=inp, outputs=[out_bin, out_cat])\n",
    "    model.compile(\n",
    "        loss=[\"binary_crossentropy\", \"sparse_categorical_crossentropy\"]\n",
    "    )\n",
    "    return model"
   ]
  },
  {
   "cell_type": "markdown",
   "metadata": {
    "id": "vWGp30MRk_PN"
   },
   "source": [
    "Let's test that this model works with the kind of inputs and outputs we expect."
   ]
  },
  {
   "cell_type": "code",
   "execution_count": null,
   "metadata": {
    "execution": {
     "iopub.execute_input": "2021-01-24T02:39:39.157495Z",
     "iopub.status.busy": "2021-01-24T02:39:39.156357Z",
     "iopub.status.idle": "2021-01-24T02:39:40.186457Z",
     "shell.execute_reply": "2021-01-24T02:39:40.188204Z"
    },
    "id": "azbKtjtd-1TR"
   },
   "outputs": [],
   "source": [
    "X = np.random.random(size=(100, 10))\n",
    "y_bin = np.random.randint(0, 2, size=(100,))\n",
    "y_cat = np.random.randint(0, 5, size=(100, ))\n",
    "y = [y_bin, y_cat]\n",
    "\n",
    "# build mock meta\n",
    "meta = {\n",
    "    \"n_features_in_\": 10,\n",
    "    \"n_classes_\": [2, 5]  # note that we made this a list, one for each output\n",
    "}\n",
    "\n",
    "model = get_clf_model(meta=meta)\n",
    "\n",
    "model.fit(X, y, verbose=0)\n",
    "y_pred = model.predict(X)"
   ]
  },
  {
   "cell_type": "code",
   "execution_count": null,
   "metadata": {
    "colab": {
     "base_uri": "https://localhost:8080/",
     "height": 51
    },
    "execution": {
     "iopub.execute_input": "2021-01-24T02:39:40.201665Z",
     "iopub.status.busy": "2021-01-24T02:39:40.195957Z",
     "iopub.status.idle": "2021-01-24T02:39:40.216547Z",
     "shell.execute_reply": "2021-01-24T02:39:40.217658Z"
    },
    "id": "C4xiVhKjqxzI",
    "outputId": "8176d691-bfc7-40dc-bc02-9f92693d69ee"
   },
   "outputs": [],
   "source": [
    "print(y_pred[0][:2, :])"
   ]
  },
  {
   "cell_type": "code",
   "execution_count": null,
   "metadata": {
    "colab": {
     "base_uri": "https://localhost:8080/",
     "height": 51
    },
    "execution": {
     "iopub.execute_input": "2021-01-24T02:39:40.226170Z",
     "iopub.status.busy": "2021-01-24T02:39:40.224643Z",
     "iopub.status.idle": "2021-01-24T02:39:40.229121Z",
     "shell.execute_reply": "2021-01-24T02:39:40.230053Z"
    },
    "id": "GyIq1xXEqyMY",
    "outputId": "0cda9bba-4361-46ce-8b00-9669ab5b072e"
   },
   "outputs": [],
   "source": [
    "print(y_pred[1][:2, :])"
   ]
  },
  {
   "cell_type": "markdown",
   "metadata": {
    "id": "mic4ByPGBwgA"
   },
   "source": [
    "As you can see, our `predict` output is also a list of arrays, except it contains probabilities instead of the class predictions.\n",
    "\n",
    "Our data transormer's job will be to convert from a single numpy array (which is what the sklearn ecosystem works with) to the list of arrays and then back. Additionally, for classifiers, we will want to be able to convert probabilities to class predictions.\n",
    "\n",
    "We will structure our data on the sklearn side by column-stacking our list\n",
    "of arrays. This works well in this case since we have the same number of datapoints in each array."
   ]
  },
  {
   "cell_type": "markdown",
   "metadata": {
    "id": "2hN9nZiqMNJ9"
   },
   "source": [
    "<a id='1-2'></a>\n",
    "### 1.2 Define output Data Transformer"
   ]
  },
  {
   "cell_type": "markdown",
   "metadata": {
    "id": "QNBuyxhcMPg8"
   },
   "source": [
    "Let's go ahead and protoype this data transformer:"
   ]
  },
  {
   "cell_type": "code",
   "execution_count": null,
   "metadata": {
    "execution": {
     "iopub.execute_input": "2021-01-24T02:39:40.254019Z",
     "iopub.status.busy": "2021-01-24T02:39:40.252839Z",
     "iopub.status.idle": "2021-01-24T02:39:40.259601Z",
     "shell.execute_reply": "2021-01-24T02:39:40.263079Z"
    },
    "id": "y3E81vxrDGhM"
   },
   "outputs": [],
   "source": [
    "from typing import List\n",
    "\n",
    "from sklearn.base import BaseEstimator, TransformerMixin\n",
    "from sklearn.preprocessing import LabelEncoder\n",
    "\n",
    "\n",
    "class MultiOutputTransformer(BaseEstimator, TransformerMixin):\n",
    "\n",
    "    def fit(self, y):\n",
    "        y_bin, y_cat = y[:, 0], y[:, 1]\n",
    "        # Create internal encoders to ensure labels are 0, 1, 2...\n",
    "        self.bin_encoder_ = LabelEncoder()\n",
    "        self.cat_encoder_ = LabelEncoder()\n",
    "        # Fit them to the input data\n",
    "        self.bin_encoder_.fit(y_bin)\n",
    "        self.cat_encoder_.fit(y_cat)\n",
    "        # Save the number of classes\n",
    "        self.n_classes_ = [\n",
    "            self.bin_encoder_.classes_.size,\n",
    "            self.cat_encoder_.classes_.size,\n",
    "        ]\n",
    "        # Save number of expected outputs in the Keras model\n",
    "        # SciKeras will automatically use this to do error-checking\n",
    "        self.n_outputs_expected_ = 2\n",
    "        return self\n",
    "\n",
    "    def transform(self, y: np.ndarray) -> List[np.ndarray]:\n",
    "        y_bin, y_cat = y[:, 0], y[:, 1]\n",
    "        # Apply transformers to input array\n",
    "        y_bin = self.bin_encoder_.transform(y_bin)\n",
    "        y_cat = self.cat_encoder_.transform(y_cat)\n",
    "        # Split the data into a list\n",
    "        return [y_bin, y_cat]\n",
    "\n",
    "    def inverse_transform(self, y: List[np.ndarray], return_proba: bool = False) -> np.ndarray:\n",
    "        y_pred_proba = y  # rename for clarity, what Keras gives us are probs\n",
    "        if return_proba:\n",
    "            return np.column_stack(y_pred_proba, axis=1)\n",
    "        # Get class predictions from probabilities\n",
    "        y_pred_bin = (y_pred_proba[0] > 0.5).astype(int).reshape(-1, )\n",
    "        y_pred_cat = np.argmax(y_pred_proba[1], axis=1)\n",
    "        # Pass back through LabelEncoder\n",
    "        y_pred_bin = self.bin_encoder_.inverse_transform(y_pred_bin)\n",
    "        y_pred_cat = self.cat_encoder_.inverse_transform(y_pred_cat)\n",
    "        return np.column_stack([y_pred_bin, y_pred_cat])\n",
    "    \n",
    "    def get_metadata(self):\n",
    "        return {\n",
    "            \"n_classes_\": self.n_classes_,\n",
    "            \"n_outputs_expected_\": self.n_outputs_expected_,\n",
    "        }"
   ]
  },
  {
   "cell_type": "markdown",
   "metadata": {
    "id": "eKM37jy-HAX9"
   },
   "source": [
    "Note that in addition to the usual `transform` and `inverse_transform` methods, we implement the `get_metadata` method to return the `n_classes_` attribute.\n",
    "\n",
    "Lets test our transformer with the same dataset we previoulsy used to test our model:"
   ]
  },
  {
   "cell_type": "code",
   "execution_count": null,
   "metadata": {
    "colab": {
     "base_uri": "https://localhost:8080/",
     "height": 51
    },
    "execution": {
     "iopub.execute_input": "2021-01-24T02:39:40.281315Z",
     "iopub.status.busy": "2021-01-24T02:39:40.280360Z",
     "iopub.status.idle": "2021-01-24T02:39:40.285690Z",
     "shell.execute_reply": "2021-01-24T02:39:40.287119Z"
    },
    "id": "yPqhenjpG_qy",
    "outputId": "8bbbe68b-7380-431d-bd63-5d23ad7f8b64"
   },
   "outputs": [],
   "source": [
    "tf = MultiOutputTransformer()\n",
    "\n",
    "y_sklearn = np.column_stack(y)\n",
    "\n",
    "y_keras = tf.fit_transform(y_sklearn)\n",
    "print(\"`y`, as will be passed to Keras:\")\n",
    "print([y_keras[0][:4], y_keras[1][:4]])"
   ]
  },
  {
   "cell_type": "code",
   "execution_count": null,
   "metadata": {
    "colab": {
     "base_uri": "https://localhost:8080/",
     "height": 119
    },
    "execution": {
     "iopub.execute_input": "2021-01-24T02:39:40.310741Z",
     "iopub.status.busy": "2021-01-24T02:39:40.304001Z",
     "iopub.status.idle": "2021-01-24T02:39:40.319349Z",
     "shell.execute_reply": "2021-01-24T02:39:40.321203Z"
    },
    "id": "d_a6JqcDKkTg",
    "outputId": "a9d4f3e8-3459-46dc-a8fe-f8ff138389cf"
   },
   "outputs": [],
   "source": [
    "y_pred_sklearn = tf.inverse_transform(y_pred)\n",
    "print(\"`y_pred`, as will be returned to sklearn:\")\n",
    "y_pred_sklearn[:5]"
   ]
  },
  {
   "cell_type": "code",
   "execution_count": null,
   "metadata": {
    "colab": {
     "base_uri": "https://localhost:8080/",
     "height": 34
    },
    "execution": {
     "iopub.execute_input": "2021-01-24T02:39:40.330350Z",
     "iopub.status.busy": "2021-01-24T02:39:40.327774Z",
     "iopub.status.idle": "2021-01-24T02:39:40.335134Z",
     "shell.execute_reply": "2021-01-24T02:39:40.336281Z"
    },
    "id": "9v0RG5ZjPgcy",
    "outputId": "7f9a05c9-303b-446e-bca9-42c4f6391e06"
   },
   "outputs": [],
   "source": [
    "print(f\"metadata = {tf.get_metadata()}\")"
   ]
  },
  {
   "cell_type": "markdown",
   "metadata": {
    "id": "ScbMdm-9LSx1"
   },
   "source": [
    "Since this looks good, we move on to integrating our transformer into our classifier."
   ]
  },
  {
   "cell_type": "code",
   "execution_count": null,
   "metadata": {
    "execution": {
     "iopub.execute_input": "2021-01-24T02:39:40.353734Z",
     "iopub.status.busy": "2021-01-24T02:39:40.352471Z",
     "iopub.status.idle": "2021-01-24T02:39:40.355625Z",
     "shell.execute_reply": "2021-01-24T02:39:40.356330Z"
    },
    "id": "RKA2U8ANMhn9"
   },
   "outputs": [],
   "source": [
    "from sklearn.metrics import accuracy_score\n",
    "\n",
    "\n",
    "class MultiOutputClassifier(KerasClassifier):\n",
    "\n",
    "    @property\n",
    "    def target_encoder(self):\n",
    "        return MultiOutputTransformer()\n",
    "    \n",
    "    @staticmethod\n",
    "    def scorer(y_true, y_pred, **kwargs):\n",
    "        y_bin, y_cat = y_true[:, 0], y_true[:, 1]\n",
    "        y_pred_bin, y_pred_cat = y_pred[:, 0], y_pred[:, 1]\n",
    "        # Keras by default uses the mean of losses of each outputs, so here we do the same\n",
    "        return np.mean([accuracy_score(y_bin, y_pred_bin), accuracy_score(y_cat, y_pred_cat)])"
   ]
  },
  {
   "cell_type": "markdown",
   "metadata": {
    "id": "1heA-eeTMp3t"
   },
   "source": [
    "<a id='1-3'></a>\n",
    "### 1.3 Test classifier"
   ]
  },
  {
   "cell_type": "code",
   "execution_count": null,
   "metadata": {
    "execution": {
     "iopub.execute_input": "2021-01-24T02:39:40.369920Z",
     "iopub.status.busy": "2021-01-24T02:39:40.367102Z",
     "iopub.status.idle": "2021-01-24T02:39:40.374240Z",
     "shell.execute_reply": "2021-01-24T02:39:40.376791Z"
    },
    "id": "jXbxL2mnNKkb"
   },
   "outputs": [],
   "source": [
    "from sklearn.preprocessing import StandardScaler\n",
    "\n",
    "# Use labels as features, just to make sure we can learn correctly\n",
    "X = y_sklearn\n",
    "X = StandardScaler().fit_transform(X)"
   ]
  },
  {
   "cell_type": "code",
   "execution_count": null,
   "metadata": {
    "colab": {
     "base_uri": "https://localhost:8080/",
     "height": 34
    },
    "execution": {
     "iopub.execute_input": "2021-01-24T02:39:40.391118Z",
     "iopub.status.busy": "2021-01-24T02:39:40.389683Z",
     "iopub.status.idle": "2021-01-24T02:39:41.424338Z",
     "shell.execute_reply": "2021-01-24T02:39:41.425061Z"
    },
    "id": "G7THvXqaMrSw",
    "outputId": "d6ecbd6a-c34e-4296-e3e9-fd8869dc5e30"
   },
   "outputs": [],
   "source": [
    "clf = MultiOutputClassifier(model=get_clf_model, verbose=0, random_state=0)\n",
    "\n",
    "clf.fit(X, y_sklearn).score(X, y_sklearn)"
   ]
  },
  {
   "cell_type": "markdown",
   "metadata": {
    "id": "Pznw-f0v-1TU"
   },
   "source": [
    "<a id='2'></a>\n",
    "## 2. Multiple inputs"
   ]
  },
  {
   "cell_type": "markdown",
   "metadata": {
    "id": "p0uSTuc-voxu"
   },
   "source": [
    "The process for multiple inputs is similar, but instead of overriding the transformer in `target_encoder` we override `feature_encoder`."
   ]
  },
  {
   "cell_type": "code",
   "execution_count": null,
   "metadata": {
    "execution": {
     "iopub.execute_input": "2021-01-24T02:39:41.431607Z",
     "iopub.status.busy": "2021-01-24T02:39:41.430764Z",
     "iopub.status.idle": "2021-01-24T02:39:41.433449Z",
     "shell.execute_reply": "2021-01-24T02:39:41.433897Z"
    },
    "id": "NPOO7tO6-1TV"
   },
   "outputs": [],
   "source": [
    "if False:\n",
    "    from sklearn.base import BaseEstimator, TransformerMixin\n",
    "\n",
    "\n",
    "    class MultiOutputTransformer(BaseEstimator, TransformerMixin):\n",
    "        ...\n",
    "\n",
    "\n",
    "    class MultiOutputClassifier(KerasClassifier):\n",
    "\n",
    "        @property\n",
    "        def feature_encoder(self):\n",
    "            return MultiInputTransformer(...)"
   ]
  },
  {
   "cell_type": "markdown",
   "metadata": {
    "id": "sp251zciLXAY"
   },
   "source": [
    "<a id='2-1'></a>\n",
    "### 2.1 Define Keras Model"
   ]
  },
  {
   "cell_type": "markdown",
   "metadata": {
    "id": "1RHjV2Bg902U"
   },
   "source": [
    "Let's define a Keras **regression** Model with 2 inputs:"
   ]
  },
  {
   "cell_type": "code",
   "execution_count": null,
   "metadata": {
    "execution": {
     "iopub.execute_input": "2021-01-24T02:39:41.442870Z",
     "iopub.status.busy": "2021-01-24T02:39:41.441956Z",
     "iopub.status.idle": "2021-01-24T02:39:41.444054Z",
     "shell.execute_reply": "2021-01-24T02:39:41.444937Z"
    },
    "id": "q84Po5aj928v"
   },
   "outputs": [],
   "source": [
    "def get_reg_model():\n",
    "\n",
    "    inp1 = keras.layers.Input(shape=(1, ))\n",
    "    inp2 = keras.layers.Input(shape=(1, ))\n",
    "\n",
    "    x1 = keras.layers.Dense(100, activation=\"relu\")(inp1)\n",
    "    x2 = keras.layers.Dense(50, activation=\"relu\")(inp2)\n",
    "\n",
    "    concat = keras.layers.Concatenate(axis=-1)([x1, x2])\n",
    "\n",
    "    out = keras.layers.Dense(1)(concat)\n",
    "\n",
    "    model = keras.Model(inputs=[inp1, inp2], outputs=out)\n",
    "    model.compile(loss=\"mse\")\n",
    "\n",
    "    return model"
   ]
  },
  {
   "cell_type": "markdown",
   "metadata": {
    "id": "SXsenn70Alvr"
   },
   "source": [
    "And test it with a small mock dataset:"
   ]
  },
  {
   "cell_type": "code",
   "execution_count": null,
   "metadata": {
    "execution": {
     "iopub.execute_input": "2021-01-24T02:39:41.456034Z",
     "iopub.status.busy": "2021-01-24T02:39:41.455176Z",
     "iopub.status.idle": "2021-01-24T02:39:42.445015Z",
     "shell.execute_reply": "2021-01-24T02:39:42.445657Z"
    },
    "id": "YBAzKT9bAn91"
   },
   "outputs": [],
   "source": [
    "X = np.random.random(size=(100, 2))\n",
    "y = np.sum(X, axis=1)\n",
    "X = np.split(X, 2, axis=1)\n",
    "\n",
    "model = get_reg_model()\n",
    "\n",
    "model.fit(X, y, verbose=0)\n",
    "y_pred = model.predict(X).squeeze()"
   ]
  },
  {
   "cell_type": "code",
   "execution_count": null,
   "metadata": {
    "colab": {
     "base_uri": "https://localhost:8080/",
     "height": 34
    },
    "execution": {
     "iopub.execute_input": "2021-01-24T02:39:42.453280Z",
     "iopub.status.busy": "2021-01-24T02:39:42.452127Z",
     "iopub.status.idle": "2021-01-24T02:39:42.455899Z",
     "shell.execute_reply": "2021-01-24T02:39:42.456842Z"
    },
    "id": "EIKruR9UBzu8",
    "outputId": "8c345c10-3a98-4576-b0fc-38c957c1d4ce"
   },
   "outputs": [],
   "source": [
    "from sklearn.metrics import r2_score\n",
    "\n",
    "r2_score(y, y_pred)"
   ]
  },
  {
   "cell_type": "markdown",
   "metadata": {
    "id": "nLiQPj62CIIO"
   },
   "source": [
    "Having verified that our model builds without errors and accepts the inputs types we expect, we move onto integrating a transformer into our SciKeras model."
   ]
  },
  {
   "cell_type": "markdown",
   "metadata": {
    "id": "6lRbJEbVLqDw"
   },
   "source": [
    "<a id='2-2'></a>\n",
    "### 2.2 Define Data Transformer"
   ]
  },
  {
   "cell_type": "markdown",
   "metadata": {
    "id": "zPAOsyJ59Ngj"
   },
   "source": [
    "Just like for overriding `target_encoder`, we just need to define a sklearn transformer and drop it into our SciKeras wrapper. Since we hardcoded the input\n",
    "shapes into our model and do not rely on any transformer-generated metadata, we can simply use `sklearn.preprocessing.FunctionTransformer`:"
   ]
  },
  {
   "cell_type": "code",
   "execution_count": null,
   "metadata": {
    "execution": {
     "iopub.execute_input": "2021-01-24T02:39:42.466419Z",
     "iopub.status.busy": "2021-01-24T02:39:42.465452Z",
     "iopub.status.idle": "2021-01-24T02:39:42.472282Z",
     "shell.execute_reply": "2021-01-24T02:39:42.472969Z"
    },
    "id": "zbKiSm_B9VKG"
   },
   "outputs": [],
   "source": [
    "from sklearn.preprocessing import FunctionTransformer\n",
    "\n",
    "\n",
    "class MultiInputRegressor(KerasRegressor):\n",
    "\n",
    "    @property\n",
    "    def feature_encoder(self):\n",
    "        return FunctionTransformer(\n",
    "            func=lambda X: [X[:, 0], X[:, 1]],\n",
    "        )"
   ]
  },
  {
   "cell_type": "markdown",
   "metadata": {
    "id": "nLvhTvaTCwIZ"
   },
   "source": [
    "Note that we did **not** implement `inverse_transform` (that is, we did not pass an `inverse_func` argument to `FunctionTransformer`) because features are never converted back to their original form."
   ]
  },
  {
   "cell_type": "markdown",
   "metadata": {
    "id": "ngMljBaIL_-3"
   },
   "source": [
    "<a id='2-3'></a>\n",
    "### 2.3 Test regressor"
   ]
  },
  {
   "cell_type": "code",
   "execution_count": null,
   "metadata": {
    "colab": {
     "base_uri": "https://localhost:8080/",
     "height": 34
    },
    "execution": {
     "iopub.execute_input": "2021-01-24T02:39:42.499403Z",
     "iopub.status.busy": "2021-01-24T02:39:42.497995Z",
     "iopub.status.idle": "2021-01-24T02:39:43.743440Z",
     "shell.execute_reply": "2021-01-24T02:39:43.743996Z"
    },
    "id": "IRyRFjLTEqzE",
    "outputId": "7e350740-941a-4571-9c8f-9a5364724b21"
   },
   "outputs": [],
   "source": [
    "reg = MultiInputRegressor(model=get_reg_model, verbose=0, random_state=0)\n",
    "\n",
    "X_sklearn = np.column_stack(X)\n",
    "\n",
    "reg.fit(X_sklearn, y).score(X_sklearn, y)"
   ]
  },
  {
   "cell_type": "markdown",
   "metadata": {
    "id": "4T753k83IhmW"
   },
   "source": [
    "<a id='3'></a>\n",
    "## 3. Multidimensional inputs with MNIST dataset"
   ]
  },
  {
   "cell_type": "markdown",
   "metadata": {
    "id": "lKNj5QO76UxW"
   },
   "source": [
    "In this example, we look at how we can use SciKeras to process the MNIST dataset. The dataset is composed of 60,000 images of digits, each of which is a 2D 28x28 image.\n",
    "\n",
    "The dataset and Keras Model architecture used come from a [Keras example](https://keras.io/examples/vision/mnist_convnet/). It may be beneficial to understand the Keras model by reviewing that example first."
   ]
  },
  {
   "cell_type": "code",
   "execution_count": null,
   "metadata": {
    "colab": {
     "base_uri": "https://localhost:8080/",
     "height": 34
    },
    "execution": {
     "iopub.execute_input": "2021-01-24T02:39:43.748408Z",
     "iopub.status.busy": "2021-01-24T02:39:43.747802Z",
     "iopub.status.idle": "2021-01-24T02:39:44.138874Z",
     "shell.execute_reply": "2021-01-24T02:39:44.139637Z"
    },
    "id": "NdDB8dWx8Akc",
    "outputId": "c2253bc4-09d4-4c69-80da-a3c10e853782"
   },
   "outputs": [],
   "source": [
    "(x_train, y_train), (x_test, y_test) = keras.datasets.mnist.load_data()\n",
    "x_train.shape"
   ]
  },
  {
   "cell_type": "markdown",
   "metadata": {
    "id": "aUcI-gys8EvE"
   },
   "source": [
    "The outputs (labels) are numbers 0-9:"
   ]
  },
  {
   "cell_type": "code",
   "execution_count": null,
   "metadata": {
    "colab": {
     "base_uri": "https://localhost:8080/",
     "height": 51
    },
    "execution": {
     "iopub.execute_input": "2021-01-24T02:39:44.146604Z",
     "iopub.status.busy": "2021-01-24T02:39:44.145563Z",
     "iopub.status.idle": "2021-01-24T02:39:44.153483Z",
     "shell.execute_reply": "2021-01-24T02:39:44.154231Z"
    },
    "id": "gqdzgCv18SDw",
    "outputId": "19d6a7de-9fea-4345-d332-f25ebe8a212f"
   },
   "outputs": [],
   "source": [
    "print(y_train.shape)\n",
    "print(np.unique(y_train))"
   ]
  },
  {
   "cell_type": "markdown",
   "metadata": {
    "id": "DYiQTQH29iMB"
   },
   "source": [
    "First, we will \"flatten\" the data into an array of shape `(n_samples, 28*28)` (i.e. a 2D array). This will allow us to use sklearn ecosystem utilities, for example, `sklearn.preprocessing.MinMaxScaler`."
   ]
  },
  {
   "cell_type": "code",
   "execution_count": null,
   "metadata": {
    "execution": {
     "iopub.execute_input": "2021-01-24T02:39:44.164415Z",
     "iopub.status.busy": "2021-01-24T02:39:44.163253Z",
     "iopub.status.idle": "2021-01-24T02:39:45.901729Z",
     "shell.execute_reply": "2021-01-24T02:39:45.902647Z"
    },
    "id": "3TCV8Uem90rt"
   },
   "outputs": [],
   "source": [
    "from sklearn.preprocessing import MinMaxScaler\n",
    "\n",
    "n_samples_train = x_train.shape[0]\n",
    "n_samples_test = x_test.shape[0]\n",
    "\n",
    "x_train = x_train.reshape((n_samples_train, -1))\n",
    "x_test = x_test.reshape((n_samples_test, -1))\n",
    "x_train = MinMaxScaler().fit_transform(x_train)\n",
    "x_test = MinMaxScaler().fit_transform(x_test)"
   ]
  },
  {
   "cell_type": "code",
   "execution_count": null,
   "metadata": {
    "colab": {
     "base_uri": "https://localhost:8080/",
     "height": 34
    },
    "execution": {
     "iopub.execute_input": "2021-01-24T02:39:45.910945Z",
     "iopub.status.busy": "2021-01-24T02:39:45.909696Z",
     "iopub.status.idle": "2021-01-24T02:39:45.918617Z",
     "shell.execute_reply": "2021-01-24T02:39:45.919636Z"
    },
    "id": "bvEra5TKA2yi",
    "outputId": "32238303-9ca3-406e-95ca-2c59ac8dfc82"
   },
   "outputs": [],
   "source": [
    "print(x_train.shape[1:])  # 784 = 28*28"
   ]
  },
  {
   "cell_type": "code",
   "execution_count": null,
   "metadata": {
    "colab": {
     "base_uri": "https://localhost:8080/",
     "height": 34
    },
    "execution": {
     "iopub.execute_input": "2021-01-24T02:39:45.934309Z",
     "iopub.status.busy": "2021-01-24T02:39:45.933115Z",
     "iopub.status.idle": "2021-01-24T02:39:46.081608Z",
     "shell.execute_reply": "2021-01-24T02:39:46.082414Z"
    },
    "id": "f5a02q6tBB3R",
    "outputId": "810df38e-a0e6-45bd-ed42-0d7af3a3cbf2"
   },
   "outputs": [],
   "source": [
    "print(np.min(x_train), np.max(x_train))  # scaled 0-1"
   ]
  },
  {
   "cell_type": "markdown",
   "metadata": {
    "id": "aCoUz1qy-rh9"
   },
   "source": [
    "Of course, in this case, we could have just as easily used numpy functions to scale our data, but we use `MinMaxScaler` to demonstrate use of the sklearn ecosystem."
   ]
  },
  {
   "cell_type": "markdown",
   "metadata": {
    "id": "yuR10hymK0dh"
   },
   "source": [
    "<a id='3-1'></a>\n",
    "### 3.1 Define Keras Model"
   ]
  },
  {
   "cell_type": "markdown",
   "metadata": {
    "id": "rE15zkS4_hGU"
   },
   "source": [
    "Next we will define our Keras model (adapted from [keras.io](https://keras.io/examples/vision/mnist_convnet/)):"
   ]
  },
  {
   "cell_type": "code",
   "execution_count": null,
   "metadata": {
    "execution": {
     "iopub.execute_input": "2021-01-24T02:39:46.107611Z",
     "iopub.status.busy": "2021-01-24T02:39:46.105828Z",
     "iopub.status.idle": "2021-01-24T02:39:46.112274Z",
     "shell.execute_reply": "2021-01-24T02:39:46.113254Z"
    },
    "id": "dBFFXT-__7KU"
   },
   "outputs": [],
   "source": [
    "num_classes = 10\n",
    "input_shape = (28, 28, 1)\n",
    "\n",
    "\n",
    "def get_model(meta):\n",
    "    model = keras.Sequential(\n",
    "        [\n",
    "            keras.Input(input_shape),\n",
    "            keras.layers.Conv2D(32, kernel_size=(3, 3), activation=\"relu\"),\n",
    "            keras.layers.MaxPooling2D(pool_size=(2, 2)),\n",
    "            keras.layers.Conv2D(64, kernel_size=(3, 3), activation=\"relu\"),\n",
    "            keras.layers.MaxPooling2D(pool_size=(2, 2)),\n",
    "            keras.layers.Flatten(),\n",
    "            keras.layers.Dropout(0.5),\n",
    "            keras.layers.Dense(num_classes, activation=\"softmax\"),\n",
    "        ]\n",
    "    )\n",
    "    model.compile(\n",
    "        loss=\"sparse_categorical_crossentropy\"\n",
    "    )\n",
    "    return model"
   ]
  },
  {
   "cell_type": "markdown",
   "metadata": {
    "id": "8aJRGbF1Avpq"
   },
   "source": [
    "Now let's define a transformer that we will use to reshape our input from the sklearn shape (`(n_samples, 784)`) to the Keras shape (which we will be `(n_samples, 28, 28, 1)`)."
   ]
  },
  {
   "cell_type": "code",
   "execution_count": null,
   "metadata": {
    "execution": {
     "iopub.execute_input": "2021-01-24T02:39:46.126396Z",
     "iopub.status.busy": "2021-01-24T02:39:46.120045Z",
     "iopub.status.idle": "2021-01-24T02:39:46.137553Z",
     "shell.execute_reply": "2021-01-24T02:39:46.138284Z"
    },
    "id": "CzVwr7glB1tq"
   },
   "outputs": [],
   "source": [
    "class MultiDimensionalClassifier(KerasClassifier):\n",
    "\n",
    "    @property\n",
    "    def feature_encoder(self):\n",
    "        return FunctionTransformer(\n",
    "            func=lambda X: X.reshape(X.shape[0], *input_shape),\n",
    "        )"
   ]
  },
  {
   "cell_type": "code",
   "execution_count": null,
   "metadata": {
    "execution": {
     "iopub.execute_input": "2021-01-24T02:39:46.148816Z",
     "iopub.status.busy": "2021-01-24T02:39:46.146949Z",
     "iopub.status.idle": "2021-01-24T02:39:46.152105Z",
     "shell.execute_reply": "2021-01-24T02:39:46.154133Z"
    },
    "id": "n1CSzViYDFeK"
   },
   "outputs": [],
   "source": [
    "clf = MultiDimensionalClassifier(\n",
    "    model=get_model,\n",
    "    epochs=10,\n",
    "    batch_size=128,\n",
    "    validation_split=0.1,\n",
    "    random_state=0,\n",
    ")"
   ]
  },
  {
   "cell_type": "markdown",
   "metadata": {
    "id": "FP_Z5NIuL3bB"
   },
   "source": [
    "<a id='3-2'></a>\n",
    "### 3.2 Test"
   ]
  },
  {
   "cell_type": "markdown",
   "metadata": {
    "id": "RjmTibFlEr6-"
   },
   "source": [
    "Train and score the model (this takes some time)"
   ]
  },
  {
   "cell_type": "code",
   "execution_count": null,
   "metadata": {
    "colab": {
     "base_uri": "https://localhost:8080/",
     "height": 799
    },
    "execution": {
     "iopub.execute_input": "2021-01-24T02:39:46.163670Z",
     "iopub.status.busy": "2021-01-24T02:39:46.161633Z",
     "iopub.status.idle": "2021-01-24T02:42:16.406453Z",
     "shell.execute_reply": "2021-01-24T02:42:16.406965Z"
    },
    "id": "NaRVWcnZDRlD",
    "outputId": "ed105010-c823-438f-a417-6e0fbf7148c4"
   },
   "outputs": [],
   "source": [
    "clf.fit(x_train, y_train)"
   ]
  },
  {
   "cell_type": "code",
   "execution_count": null,
   "metadata": {
    "colab": {
     "base_uri": "https://localhost:8080/",
     "height": 51
    },
    "execution": {
     "iopub.execute_input": "2021-01-24T02:42:16.411250Z",
     "iopub.status.busy": "2021-01-24T02:42:16.410558Z",
     "iopub.status.idle": "2021-01-24T02:42:17.255252Z",
     "shell.execute_reply": "2021-01-24T02:42:17.255817Z"
    },
    "id": "Mw_nD5FdEzd-",
    "outputId": "d23b3c3f-337a-4e27-d7ed-161a7c9a12da"
   },
   "outputs": [],
   "source": [
    "score = clf.score(x_test, y_test)\n",
    "print(f\"Test score (accuracy): {score:.2f}\")"
   ]
  }
 ],
 "metadata": {
  "colab": {
   "collapsed_sections": [],
   "name": "DataTransformers.ipynb",
   "provenance": []
  },
  "kernelspec": {
   "display_name": "Python 3",
   "language": "python",
   "name": "python3"
  },
  "language_info": {
   "codemirror_mode": {
    "name": "ipython",
    "version": 3
   },
   "file_extension": ".py",
   "mimetype": "text/x-python",
   "name": "python",
   "nbconvert_exporter": "python",
   "pygments_lexer": "ipython3",
   "version": "3.8.6"
  }
 },
 "nbformat": 4,
 "nbformat_minor": 0
}
