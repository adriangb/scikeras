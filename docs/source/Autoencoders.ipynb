{
 "cells": [
  {
   "cell_type": "markdown",
   "metadata": {
    "id": "z22BE9uhvoxO"
   },
   "source": [
    "# Autoencoders in SciKeras"
   ]
  },
  {
   "cell_type": "markdown",
   "metadata": {
    "id": "hapoJed-voxP"
   },
   "source": [
    "Autencoders are an approach to use nearual networks to distill data into it's most important features, thereby compressing the data. We will be following the [Keras tutorial](https://blog.keras.io/building-autoencoders-in-keras.html) on the topic, which goes much more in depth and breadth than we will here. You are highly encouraged to check out that tutorial if you want to learn about autoencoders in the general sense.\n",
    "\n",
    "\n",
    "\n",
    "<table align=\"left\"><td>\n",
    "<a target=\"_blank\" href=\"https://colab.research.google.com/github/adriangb/scikeras/blob/master/notebooks/Basic_Usage.ipyn\">\n",
    "    <img src=\"https://www.tensorflow.org/images/colab_logo_32px.png\" />Run in Google Colab</a>  \n",
    "</td><td>\n",
    "<a target=\"_blank\" href=\"https://github.com/adriangb/scikeras/blob/master/notebooks/Basic_Usage.ipynb\"><img width=32px src=\"https://www.tensorflow.org/images/GitHub-Mark-32px.png\" />View source on GitHub</a></td></table>"
   ]
  },
  {
   "cell_type": "markdown",
   "metadata": {
    "id": "iT-ibpi7voxQ"
   },
   "source": [
    "### Table of contents"
   ]
  },
  {
   "cell_type": "markdown",
   "metadata": {
    "id": "ekJWKPFMvoxR"
   },
   "source": [
    "* [Data](#Data)\n",
    "* [Define Model](#Define-Keras-Model)\n",
    "* [Training](#Training)\n",
    "* [Explore Results](#Explore-Results)"
   ]
  },
  {
   "cell_type": "markdown",
   "metadata": {
    "id": "6avb3GBQDQyG"
   },
   "source": [
    "Install SciKeras"
   ]
  },
  {
   "cell_type": "code",
   "execution_count": null,
   "metadata": {
    "id": "qCcyTjVkvoxR"
   },
   "outputs": [],
   "source": [
    "!python -m pip install scikeras"
   ]
  },
  {
   "cell_type": "markdown",
   "metadata": {
    "id": "EZveNcetDQyL"
   },
   "source": [
    "Silence TensorFlow warnings to keep output succint."
   ]
  },
  {
   "cell_type": "code",
   "execution_count": 1,
   "metadata": {
    "id": "ekNmO_GPDQyL"
   },
   "outputs": [],
   "source": [
    "import warnings\n",
    "from tensorflow import get_logger\n",
    "get_logger().setLevel('ERROR')"
   ]
  },
  {
   "cell_type": "markdown",
   "metadata": {
    "id": "hCuOBH8AvoxX"
   },
   "source": [
    "## Data"
   ]
  },
  {
   "cell_type": "markdown",
   "metadata": {
    "id": "i3fAUKBUvoxY"
   },
   "source": [
    "We load the dataset from the Keras tutorial. The dataset consists of images of cats and dogs."
   ]
  },
  {
   "cell_type": "code",
   "execution_count": 2,
   "metadata": {
    "colab": {
     "base_uri": "https://localhost:8080/",
     "height": 51
    },
    "id": "QM74xeoe-1S-",
    "outputId": "23946eec-c32f-4db6-8bda-e12bda6492ea"
   },
   "outputs": [
    {
     "output_type": "stream",
     "name": "stdout",
     "text": [
      "(60000, 784)\n(10000, 784)\n"
     ]
    }
   ],
   "source": [
    "from tensorflow.keras.datasets import mnist\n",
    "import numpy as np\n",
    "\n",
    "\n",
    "(x_train, _), (x_test, _) = mnist.load_data()\n",
    "x_train = x_train.astype('float32') / 255.\n",
    "x_test = x_test.astype('float32') / 255.\n",
    "x_train = x_train.reshape((len(x_train), np.prod(x_train.shape[1:])))\n",
    "x_test = x_test.reshape((len(x_test), np.prod(x_test.shape[1:])))\n",
    "print(x_train.shape)\n",
    "print(x_test.shape)"
   ]
  },
  {
   "cell_type": "markdown",
   "metadata": {
    "id": "yuR10hymK0dh"
   },
   "source": [
    "## Define Keras Model"
   ]
  },
  {
   "cell_type": "markdown",
   "metadata": {},
   "source": [
    "We will be defining a very simple autencoder. We define _three_ model building methods:\n",
    "\n",
    "1. One to build a full end-to-end autoencoder.\n",
    "2. One to create a model that includes only the encoder portion.\n",
    "3. One that creates a model that includes only the decoder portion.\n",
    "\n",
    "The only variable we give our model is the encoding dimensions, which will be a hyperparemter of our final transformer."
   ]
  },
  {
   "cell_type": "code",
   "execution_count": 3,
   "metadata": {
    "id": "dBFFXT-__7KU"
   },
   "outputs": [],
   "source": [
    "from tensorflow import keras\n",
    "\n",
    "\n",
    "def get_fit_model(encoding_dim: int) -> keras.Model:\n",
    "    \"\"\"Get an autoencoder.\n",
    "\n",
    "    This autoencoder compresses a 28x28 image (784 pixels) down to a feature of length\n",
    "    `encoding_dim`, and tries to reconstruct the input image from that vector.\n",
    "    \"\"\"\n",
    "    input_img = keras.Input(shape=(784,), name=\"input\")\n",
    "    encoded = keras.layers.Dense(encoding_dim, activation='relu', name=\"encoded\")(input_img)\n",
    "    decoded = keras.layers.Dense(784, activation='sigmoid', name=\"output\")(encoded)\n",
    "    autoencoder_model = keras.Model(input_img, decoded)\n",
    "    return autoencoder_model\n",
    "\n",
    "def get_tf_model(fit_model: keras.Model) -> keras.Model:\n",
    "    \"\"\"Get an encoder model.\n",
    "\n",
    "    We do this by extracting the encoding layer from the fitted autoencoder model.\n",
    "    \"\"\"\n",
    "    return keras.Model(fit_model.get_layer(\"input\").input, fit_model.get_layer(\"encoded\").output)\n",
    "\n",
    "def get_inverse_tf_model(fit_model: keras.Model, encoding_dim: int) -> keras.Model:\n",
    "    \"\"\"Get an deencoder model.\n",
    "\n",
    "    We do this by extracting the deencoding layer from the fitted autoencoder model\n",
    "    and adding a new Keras input layer.\n",
    "    \"\"\"\n",
    "    encoded_input = keras.Input(shape=(encoding_dim,))\n",
    "    output = fit_model.get_layer(\"output\")(encoded_input)\n",
    "    return keras.Model(encoded_input, output)"
   ]
  },
  {
   "source": [
    "Next we create a class that that will enable the `transform` and `fit_transform` methods, as well as integrating all three of our models into a single estimator."
   ],
   "cell_type": "markdown",
   "metadata": {}
  },
  {
   "cell_type": "code",
   "execution_count": 4,
   "metadata": {},
   "outputs": [],
   "source": [
    "from sklearn.base import TransformerMixin, clone\n",
    "from scikeras.wrappers import BaseWrapper\n",
    "\n",
    "\n",
    "class KerasTransformer(BaseWrapper, TransformerMixin):\n",
    "    \"\"\"A class that enables transform and fit_transform.\n",
    "    \"\"\"\n",
    "\n",
    "    def __init__(self, *args, tf_est: BaseWrapper = None, inv_tf_est: BaseWrapper = None, **kwargs) -> None:\n",
    "        super().__init__(*args, **kwargs)\n",
    "        self.tf_est = tf_est\n",
    "        self.inv_tf_est = inv_tf_est\n",
    "\n",
    "\n",
    "    def fit(self, X, sample_weight=None):\n",
    "        super().fit(X=X, y=X, sample_weight=sample_weight)\n",
    "        self.tf_est_ = clone(self.tf_est)\n",
    "        self.inv_tf_est_ = clone(self.inv_tf_est)\n",
    "        self.tf_est_.set_params(fit_model=self.model_)\n",
    "        self.inv_tf_est_.set_params(fit_model=self.model_, encoding_dim=self.encoding_dim)\n",
    "        X = self.feature_encoder_.transform(X)\n",
    "        self.tf_est_.initialize(X=X)\n",
    "        X_tf = self.tf_est_.predict(X=X)\n",
    "        self.inv_tf_est_.initialize(X_tf)\n",
    "        return self\n",
    "\n",
    "    def transform(self, X):\n",
    "        X = self.feature_encoder_.transform(X)\n",
    "        X_tf = self.tf_est_.predict(X)\n",
    "        return X_tf\n",
    "    \n",
    "    def inverse_transform(self, X_tf):\n",
    "        X = self.inv_tf_est_.predict(X_tf)\n",
    "        X = self.feature_encoder_.inverse_transform(X)\n",
    "        return X"
   ]
  },
  {
   "cell_type": "markdown",
   "metadata": {},
   "source": [
    "Next, we wrap the Keras Model with Scikeras. Note that for our encoder/decoder estimators, we do not need to provide a loss function since no training will be done. We do however need to have the `fit_model` and `encoding_dim` so that these will be settable by `BaseWrapper.set_params`."
   ]
  },
  {
   "cell_type": "code",
   "execution_count": 5,
   "metadata": {},
   "outputs": [],
   "source": [
    "tf_est = BaseWrapper(model=get_tf_model, fit_model=None, verbose=0)\n",
    "inv_tf_est = BaseWrapper(model=get_inverse_tf_model, fit_model=None, encoding_dim=None, verbose=0)\n",
    "autoencoder = KerasTransformer(model=get_fit_model, tf_est=tf_est, inv_tf_est=inv_tf_est, loss=\"binary_crossentropy\", encoding_dim=32, epochs=50)"
   ]
  },
  {
   "cell_type": "markdown",
   "metadata": {
    "id": "yqBl5xLDP43O"
   },
   "source": [
    "## Training"
   ]
  },
  {
   "cell_type": "markdown",
   "metadata": {
    "id": "4fHbt_mUVBhE"
   },
   "source": [
    "To train the model, we pass the input images as both the features and the target. This will train the layers to compress the data as accurately as possible between the encoder and decoder. Note that we only pass the `X` parameter, since we defined the mapping `y=X` in `KerasTransformer.fit` above."
   ]
  },
  {
   "cell_type": "code",
   "execution_count": 6,
   "metadata": {
    "colab": {
     "base_uri": "https://localhost:8080/",
     "height": 34
    },
    "id": "QQhtIWsMP4Ii",
    "outputId": "1581384e-7012-4816-d4cf-a4190a30e50f"
   },
   "outputs": [
    {
     "output_type": "stream",
     "name": "stdout",
     "text": [
      "Epoch 1/50\n",
      "1875/1875 [==============================] - 2s 949us/step - loss: 0.2030\n",
      "Epoch 2/50\n",
      "1875/1875 [==============================] - 2s 1ms/step - loss: 0.1050\n",
      "Epoch 3/50\n",
      "1875/1875 [==============================] - 2s 1ms/step - loss: 0.0976\n",
      "Epoch 4/50\n",
      "1875/1875 [==============================] - 2s 964us/step - loss: 0.0959\n",
      "Epoch 5/50\n",
      "1875/1875 [==============================] - 2s 949us/step - loss: 0.0953\n",
      "Epoch 6/50\n",
      "1875/1875 [==============================] - 2s 897us/step - loss: 0.0947\n",
      "Epoch 7/50\n",
      "1875/1875 [==============================] - 2s 880us/step - loss: 0.0949\n",
      "Epoch 8/50\n",
      "1875/1875 [==============================] - 2s 856us/step - loss: 0.0945\n",
      "Epoch 9/50\n",
      "1875/1875 [==============================] - 2s 902us/step - loss: 0.0942\n",
      "Epoch 10/50\n",
      "1875/1875 [==============================] - 2s 917us/step - loss: 0.0942\n",
      "Epoch 11/50\n",
      "1875/1875 [==============================] - 2s 894us/step - loss: 0.0941\n",
      "Epoch 12/50\n",
      "1875/1875 [==============================] - 2s 894us/step - loss: 0.0941\n",
      "Epoch 13/50\n",
      "1875/1875 [==============================] - 2s 857us/step - loss: 0.0938\n",
      "Epoch 14/50\n",
      "1875/1875 [==============================] - 2s 855us/step - loss: 0.0938\n",
      "Epoch 15/50\n",
      "1875/1875 [==============================] - 2s 897us/step - loss: 0.0939\n",
      "Epoch 16/50\n",
      "1875/1875 [==============================] - 2s 994us/step - loss: 0.0935\n",
      "Epoch 17/50\n",
      "1875/1875 [==============================] - 2s 916us/step - loss: 0.0936\n",
      "Epoch 18/50\n",
      "1875/1875 [==============================] - 2s 951us/step - loss: 0.0937\n",
      "Epoch 19/50\n",
      "1875/1875 [==============================] - 2s 963us/step - loss: 0.0934\n",
      "Epoch 20/50\n",
      "1875/1875 [==============================] - 2s 942us/step - loss: 0.0935\n",
      "Epoch 21/50\n",
      "1875/1875 [==============================] - 2s 903us/step - loss: 0.0933\n",
      "Epoch 22/50\n",
      "1875/1875 [==============================] - 2s 907us/step - loss: 0.0934\n",
      "Epoch 23/50\n",
      "1875/1875 [==============================] - 2s 876us/step - loss: 0.0933\n",
      "Epoch 24/50\n",
      "1875/1875 [==============================] - 2s 883us/step - loss: 0.0932\n",
      "Epoch 25/50\n",
      "1875/1875 [==============================] - 2s 876us/step - loss: 0.0935\n",
      "Epoch 26/50\n",
      "1875/1875 [==============================] - 2s 853us/step - loss: 0.0935\n",
      "Epoch 27/50\n",
      "1875/1875 [==============================] - 2s 851us/step - loss: 0.0930\n",
      "Epoch 28/50\n",
      "1875/1875 [==============================] - 2s 914us/step - loss: 0.0933\n",
      "Epoch 29/50\n",
      "1875/1875 [==============================] - 2s 852us/step - loss: 0.0934\n",
      "Epoch 30/50\n",
      "1875/1875 [==============================] - 2s 866us/step - loss: 0.0932\n",
      "Epoch 31/50\n",
      "1875/1875 [==============================] - 2s 871us/step - loss: 0.0932\n",
      "Epoch 32/50\n",
      "1875/1875 [==============================] - 2s 880us/step - loss: 0.0930\n",
      "Epoch 33/50\n",
      "1875/1875 [==============================] - 2s 880us/step - loss: 0.0933\n",
      "Epoch 34/50\n",
      "1875/1875 [==============================] - 2s 884us/step - loss: 0.0931\n",
      "Epoch 35/50\n",
      "1875/1875 [==============================] - 2s 879us/step - loss: 0.0930\n",
      "Epoch 36/50\n",
      "1875/1875 [==============================] - 2s 895us/step - loss: 0.0930\n",
      "Epoch 37/50\n",
      "1875/1875 [==============================] - 2s 940us/step - loss: 0.0931\n",
      "Epoch 38/50\n",
      "1875/1875 [==============================] - 2s 920us/step - loss: 0.0930\n",
      "Epoch 39/50\n",
      "1875/1875 [==============================] - 2s 894us/step - loss: 0.0928\n",
      "Epoch 40/50\n",
      "1875/1875 [==============================] - 2s 877us/step - loss: 0.0931\n",
      "Epoch 41/50\n",
      "1875/1875 [==============================] - 2s 862us/step - loss: 0.0929\n",
      "Epoch 42/50\n",
      "1875/1875 [==============================] - 2s 857us/step - loss: 0.0932\n",
      "Epoch 43/50\n",
      "1875/1875 [==============================] - 3s 1ms/step - loss: 0.0930\n",
      "Epoch 44/50\n",
      "1875/1875 [==============================] - 2s 872us/step - loss: 0.0931\n",
      "Epoch 45/50\n",
      "1875/1875 [==============================] - 2s 862us/step - loss: 0.0930\n",
      "Epoch 46/50\n",
      "1875/1875 [==============================] - 2s 861us/step - loss: 0.0929\n",
      "Epoch 47/50\n",
      "1875/1875 [==============================] - 2s 866us/step - loss: 0.0927\n",
      "Epoch 48/50\n",
      "1875/1875 [==============================] - 2s 862us/step - loss: 0.0929\n",
      "Epoch 49/50\n",
      "1875/1875 [==============================] - 2s 855us/step - loss: 0.0928\n",
      "Epoch 50/50\n",
      "1875/1875 [==============================] - 2s 863us/step - loss: 0.0930\n"
     ]
    }
   ],
   "source": [
    "_ = autoencoder.fit(X=x_train)"
   ]
  },
  {
   "cell_type": "markdown",
   "metadata": {},
   "source": [
    "Next, we round trip the test dataset and explore the performance of the autoencoder."
   ]
  },
  {
   "cell_type": "code",
   "execution_count": 7,
   "metadata": {},
   "outputs": [],
   "source": [
    "roundtrip_imgs = autoencoder.inverse_transform(autoencoder.transform(x_test))"
   ]
  },
  {
   "cell_type": "markdown",
   "metadata": {},
   "source": [
    "## Explore Results"
   ]
  },
  {
   "cell_type": "markdown",
   "metadata": {},
   "source": [
    "Let's compare our inputs to lossy decoded outputs:"
   ]
  },
  {
   "cell_type": "code",
   "execution_count": 8,
   "metadata": {},
   "outputs": [
    {
     "output_type": "display_data",
     "data": {
      "text/plain": "<Figure size 1440x288 with 20 Axes>",
      "image/svg+xml": "<?xml version=\"1.0\" encoding=\"utf-8\" standalone=\"no\"?>\n<!DOCTYPE svg PUBLIC \"-//W3C//DTD SVG 1.1//EN\"\n  \"http://www.w3.org/Graphics/SVG/1.1/DTD/svg11.dtd\">\n<!-- Created with matplotlib (https://matplotlib.org/) -->\n<svg height=\"231.079908pt\" version=\"1.1\" viewBox=\"0 0 1133.9 231.079908\" width=\"1133.9pt\" xmlns=\"http://www.w3.org/2000/svg\" xmlns:xlink=\"http://www.w3.org/1999/xlink\">\n <metadata>\n  <rdf:RDF xmlns:cc=\"http://creativecommons.org/ns#\" xmlns:dc=\"http://purl.org/dc/elements/1.1/\" xmlns:rdf=\"http://www.w3.org/1999/02/22-rdf-syntax-ns#\">\n   <cc:Work>\n    <dc:type rdf:resource=\"http://purl.org/dc/dcmitype/StillImage\"/>\n    <dc:date>2020-11-21T22:01:06.411483</dc:date>\n    <dc:format>image/svg+xml</dc:format>\n    <dc:creator>\n     <cc:Agent>\n      <dc:title>Matplotlib v3.3.2, https://matplotlib.org/</dc:title>\n     </cc:Agent>\n    </dc:creator>\n   </cc:Work>\n  </rdf:RDF>\n </metadata>\n <defs>\n  <style type=\"text/css\">*{stroke-linecap:butt;stroke-linejoin:round;}</style>\n </defs>\n <g id=\"figure_1\">\n  <g id=\"patch_1\">\n   <path d=\"M 0 231.079908 \nL 1133.9 231.079908 \nL 1133.9 0 \nL 0 0 \nz\n\" style=\"fill:none;\"/>\n  </g>\n  <g id=\"axes_1\">\n   <g id=\"patch_2\">\n    <path d=\"M 10.7 101.776271 \nL 105.276271 101.776271 \nL 105.276271 7.2 \nL 10.7 7.2 \nz\n\" style=\"fill:#ffffff;\"/>\n   </g>\n   <g clip-path=\"url(#p55e477f195)\">\n    <image height=\"95\" id=\"image5ac0700a0a\" transform=\"scale(1 -1)translate(0 -95)\" width=\"95\" x=\"10.7\" xlink:href=\"data:image/png;base64,\niVBORw0KGgoAAAANSUhEUgAAAF8AAABfCAYAAACOTBv1AAADhElEQVR4nO2czyusYRTHj+taTM0GZSMipaT8zEqNXxuZZMGKtZW/wIJY2NhaKHslpaZsrCyQ0FjITCNhQ1JKClGUu7qn58xlGu77+r4z8/2svu88TzOnT8fpMe/MFInIuxAIv9AFFDKUD+Q3uoC/TE5Oap6bmzNrR0dHmvv6+jTf3d35X5iPsPOBUD4QygcSmJmfiebmZs37+/uaBwcHzb6Tk5Mfq8kL2PlAKB9IYMbO9va25sfHR7MWDoc119XVffh4LsLOB0L5QCgfSGBm/s7OjuaFhQWz5r71kE+w84FQPpDAjB2XpaUlcz02Nqa5urpac1dXl9l3eHio+f09+PeI2PlAKB9IkeTAPdz6+nrNmd48Gxoa0ry+vu5rTV7AzgdC+UAoH0hOzPzi4mLNe3t7mtvb282+8/Nzzf39/Z+uBQV2PhDKB5ITY8elvLxc88HBgVmrra3VvLKyYtZGR0f9LewbsPOBUD4QygeSczPfJRqNmutYLKb56enJrLlHT/e4ioSdD4TygeT02Elnenpa88zMjFnb2NjQPDAw8FMlZYSdD4TygeTV2AmFQprdj6KIiDQ2Nmru7e3VvLu7639hn8DOB0L5QCgfSCA/t/Ndnp+fNbtHSxGR1tZWzbOzs5rTj52vr68+Vfcv7HwglA8kr46aLp2dneZ6c3NTc0lJiebu7m6zb2try9e6XNj5QCgfCOUDyduZn457vJyamtJ8f39v9kUiEc2JRMLXmtj5QCgfSMGMnYqKCs3Hx8cfPi4iMjIyonltbc3Xmtj5QCgfSMGMHZfh4WHNq6urZs094fT09Jg1r39WjJ0PhPKBUD6QQM780tJSc93S0qLZ/aJzR0dH1s/58vKi+fT0VHMqlTL7ysrKNE9MTJi1xcXFrF8vG9j5QCgfiOf3cN1ffBURaWpq0pz+J97Q0KC5ra1Nc/oNjsrKSs2Xl5eaq6qqsq7r7e1N8+3trWZ3zKTj/qSYH7DzgVA+EM9POxcXF+a6pqbmy8/x8PBgrpPJ5P+U9CWurq40z8/Pm7V4PO7pa7HzgVA+EMoH4vnMd29GiIiMj49rvr6+Nmvuf53Ly8uab25uzL6zszMvSwwM7HwglA8kkG+sFQrsfCCUD4TygVA+EMoHQvlAKB8I5QOhfCCUD4TygVA+EMoHQvlAKB8I5QOhfCCUD4TygVA+EMoHQvlAKB/IHylJwuaX+CcdAAAAAElFTkSuQmCC\" y=\"-6.776271\"/>\n   </g>\n   <g id=\"patch_3\">\n    <path d=\"M 10.7 101.776271 \nL 10.7 7.2 \n\" style=\"fill:none;stroke:#000000;stroke-linecap:square;stroke-linejoin:miter;stroke-width:0.8;\"/>\n   </g>\n   <g id=\"patch_4\">\n    <path d=\"M 105.276271 101.776271 \nL 105.276271 7.2 \n\" style=\"fill:none;stroke:#000000;stroke-linecap:square;stroke-linejoin:miter;stroke-width:0.8;\"/>\n   </g>\n   <g id=\"patch_5\">\n    <path d=\"M 10.7 101.776271 \nL 105.276271 101.776271 \n\" style=\"fill:none;stroke:#000000;stroke-linecap:square;stroke-linejoin:miter;stroke-width:0.8;\"/>\n   </g>\n   <g id=\"patch_6\">\n    <path d=\"M 10.7 7.2 \nL 105.276271 7.2 \n\" style=\"fill:none;stroke:#000000;stroke-linecap:square;stroke-linejoin:miter;stroke-width:0.8;\"/>\n   </g>\n  </g>\n  <g id=\"axes_2\">\n   <g id=\"patch_7\">\n    <path d=\"M 10.7 220.379908 \nL 105.276271 220.379908 \nL 105.276271 125.803636 \nL 10.7 125.803636 \nz\n\" style=\"fill:#ffffff;\"/>\n   </g>\n   <g clip-path=\"url(#pe71ce20f46)\">\n    <image height=\"95\" id=\"imagefc57af1460\" transform=\"scale(1 -1)translate(0 -95)\" width=\"95\" x=\"10.7\" xlink:href=\"data:image/png;base64,\niVBORw0KGgoAAAANSUhEUgAAAF8AAABfCAYAAACOTBv1AAAEsklEQVR4nO2cuy9sURTG93gliLcQgkgQjyD+BQVRoZdIJERCI6JR+AM0QqFCIzoJCoVCoyChQBQaRKIQz8L7za3uumvt3CNzT/bMd8Zdv+o71jbn5MuaNft1dsgY82UCQCgU8ox9fQXiEZ0Th36A/xk1H0hCpG/Ay0l8fLyINTQ0kJ6dnSVdXV0t2vGy097eTnp5edmzXSyUKs18IGo+EDUfSFRrfkKCvN3V1RXpo6Mj0pWVlaJdXNyfHBkdHSW9sbEh2l1fX//zMyF/GzTzgaj5QCJedj4/P0m/vLyI2OnpKemJiQnSZWVlol1RURHp9/f3v/7dmPDLTlC6oZr5QNR8IGo+kIjXfI5da19fX0mvr6+Tnp+fF+36+vpI5+Xlka6qqhLt9vb2PO8VRDTzgaj5QEImIIspnPLycnG9uLhImndDj4+PRbvGxkbSFxcXEXo6d2jmA1HzgQSy7PCJNGOM6erqIj02NubZbm5ujvTAwICI2aPrIKCZD0TNB6LmAwlkzbdJTU0lPT09TbqlpUW0Oz8/J93R0SFiu7u7pD8+Phw/oT8084Go+UCiOrHml4eHB9LDw8Ok7UWXgoIC0m1tbSJ2cHBA+vb21vUj+kIzH4iaD0TNBxITXU0O3+/Z398vYkNDQ6QvLy9FrLe3l/T29jZpvsAfbTTzgaj5QKJaduxZSL5tj3/9w11/LSwsFNcLCwukS0tLRWxlZYU0L1e8GxttNPOBqPlAolp27Jfe7F3Lv+FbAo3xLkOJiYniuru7mzTv+dj3GhwcJL20tCTaRXPSTTMfiJoPRM0HAh3her2paNd4r26o3XXNzs4mPTIyImKtra2kDw8PSXd2dop2Z2dnns/hGs18IGo+kMBMrPESZHdJw5384mUoNzdXxGZmZkjzl6/Hx8dFu8nJSdLPz89h3dcvmvlA1Hwgaj6QwNR819i/G01NTaSnpqZI24vpPT09pLe2tkTM9cKLZj4QNR+I87Jjf91djxL9npuQnp5OenV1lbR9zsPOzg5pPio2xv1+H818IGo+ECfbBb8bnfIJM7u34HUsl/0Z/JqPYsOdgDNGvvPLj5epra0V7fh1XV2diPF3hV2gmQ9EzQei5gNxUvN5XU9JSRGxzMxMz//jdfi7GcSMjAzSxcXFpNPS0kQ7Xsvt7YL5+fmks7KyPO+VlJREuqKiQsT4sWIuutCa+UDUfCC+yw4vNXzhwh4xNjc3ky4pKRExvlWPdxMfHx9FO74tkJ82ay+Y3N/fk7ZPHkxOTibNy4m9T4d/xt3dnYi5PpVQMx+Img/Ed9nhW/VycnJI26c/1dTUkLZ3DvNS8/b2Rvq7kStvZ5cM/r5ufX29iPGTB/n7uvYu5bW1NdKbm5si5nqSUDMfiJoPRM0H4rvm89EpP1Lr5OREtONdPjvGazb/jP39fdGOnzzLu4L2LCnfWs6fzxj5W8G7yfY29ZubG9L274HW/B+Emg/E+RquvXOYf63trzgfdT49PZG2j+Ty87JcLKCZD0TNB6LmA/mx2wVjAc18IGo+EDUfiJoPRM0HouYDUfOBqPlA1Hwgaj4QNR+Img9EzQei5gNR84Go+UDUfCBqPhA1H8gvw7OPA9yy2VsAAAAASUVORK5CYII=\" y=\"-125.379908\"/>\n   </g>\n   <g id=\"patch_8\">\n    <path d=\"M 10.7 220.379908 \nL 10.7 125.803636 \n\" style=\"fill:none;stroke:#000000;stroke-linecap:square;stroke-linejoin:miter;stroke-width:0.8;\"/>\n   </g>\n   <g id=\"patch_9\">\n    <path d=\"M 105.276271 220.379908 \nL 105.276271 125.803636 \n\" style=\"fill:none;stroke:#000000;stroke-linecap:square;stroke-linejoin:miter;stroke-width:0.8;\"/>\n   </g>\n   <g id=\"patch_10\">\n    <path d=\"M 10.7 220.379908 \nL 105.276271 220.379908 \n\" style=\"fill:none;stroke:#000000;stroke-linecap:square;stroke-linejoin:miter;stroke-width:0.8;\"/>\n   </g>\n   <g id=\"patch_11\">\n    <path d=\"M 10.7 125.803636 \nL 105.276271 125.803636 \n\" style=\"fill:none;stroke:#000000;stroke-linecap:square;stroke-linejoin:miter;stroke-width:0.8;\"/>\n   </g>\n  </g>\n  <g id=\"axes_3\">\n   <g id=\"patch_12\">\n    <path d=\"M 124.191525 101.776271 \nL 218.767797 101.776271 \nL 218.767797 7.2 \nL 124.191525 7.2 \nz\n\" style=\"fill:#ffffff;\"/>\n   </g>\n   <g clip-path=\"url(#p85719af4c5)\">\n    <image height=\"95\" id=\"imagecae7b69e60\" transform=\"scale(1 -1)translate(0 -95)\" width=\"95\" x=\"124.191525\" xlink:href=\"data:image/png;base64,\niVBORw0KGgoAAAANSUhEUgAAAF8AAABfCAYAAACOTBv1AAADwUlEQVR4nO2cu0srQRTG1+sLQVCwEEEQbA1qoQjWopWxESz9CwSJUSsfCNoqWNhZaOMDNQgWViKCSSCNRdBGEBsRVBBFQnzcW93DnOWubHJ391v1+1XfYSaZ4eNwmN3ZmRLLsn5bBMIv9AR+MjQfCM0HQvOB0HwgNB8IzQdC84HQfCA0HwjNB0LzgdB8IDQfCM0HQvOBlCEHn5iYEF1eXu7qNy0tLaKHhoZcj7W6uir66urKsd/Ozo7oi4sL1/9fDMx8IDQfSIkV4B7u7u6uigcGBoIa2jVvb2+iPz4+HPvt7++LzmQyjv1OTk5UnEqlRDPzgdB8IDQfSKA1P5fLqdjt8rIYtre3VXxzcyO6vr5edCHL1WKYnp5W8fz8vGhmPhCaDySUZae1tVXFt7e3BY/1+Pio4tfX13+OW1NT4/gftbW1Ko7FYq7Gfn9/Fz05OanaXl5eRDPzgdB8IDQfSChrfmNjo4rNZeJ3gpkPhOYDCbTsLCwsqNi+DPtLIpFQ8fDwsOjn52fP54WCmQ+E5gMJtOzU1dWp+ODgQHRnZ6fj75aWlkSPjY15Pi8UzHwgNB8IzQcS6Hc79/f3KjaXnltbW6LtT77t7e2iq6urRX/1ZSczHwjNBxLoUvMzTk9PRXd1dTn2+07LTmY+EJoPhOYDCU3Nb2hoEH12dqbazNcSd3d3oru7u1W/y8tLn2bnD8x8IDQfSGjKjol9M6W3t1d0ZWWl6LW1NdVvZGRE9Fd4+mXmA6H5QEJZduzMzs6Knpqacuy3vLwsenR01McZeQMzHwjNB0LzgUAPQbvFPO2Xz+dFV1RUqH7mKZO9vT3Vdnx87NPsioeZD4TmA/kSS02T8fFx0XNzc6rNLEPpdFq19fT0iDZPhyBh5gOh+UACLTtNTU0qfnp6Ev3w8FDw/9nf+0ciEce+Ztk5OjoqeCw/YOYDoflAaD4Q359w+/v7Rdvv2zk/Pxfd19cn2u0BuI2NDRXPzMyI9vNeB69g5gOh+UB8X2p2dHSINj8JtCzLKi0tFZ3NZkVHo1HVz/xcxNybtb9YM6/QamtrU22Li4ui4/G4q7n7DTMfCM0HQvOB+L7UNDdC7Bscg4ODos2bYu2f/Zk3ux4eHopubm5W/ex13sR+KiYMMPOB0Hwg0M2Uzc1N0WYJ8gJ76TLfal5fX3s6VrEw84HQfCCh2cM1nzqrqqpUm3nb4GflaWVlRXQymVRt6+vr/ztFz2HmA6H5QGg+kNDU/J8IMx8IzQdC84HQfCA0HwjNB0LzgdB8IDQfyB/RPu7MLQ/ZlAAAAABJRU5ErkJggg==\" y=\"-6.776271\"/>\n   </g>\n   <g id=\"patch_13\">\n    <path d=\"M 124.191525 101.776271 \nL 124.191525 7.2 \n\" style=\"fill:none;stroke:#000000;stroke-linecap:square;stroke-linejoin:miter;stroke-width:0.8;\"/>\n   </g>\n   <g id=\"patch_14\">\n    <path d=\"M 218.767797 101.776271 \nL 218.767797 7.2 \n\" style=\"fill:none;stroke:#000000;stroke-linecap:square;stroke-linejoin:miter;stroke-width:0.8;\"/>\n   </g>\n   <g id=\"patch_15\">\n    <path d=\"M 124.191525 101.776271 \nL 218.767797 101.776271 \n\" style=\"fill:none;stroke:#000000;stroke-linecap:square;stroke-linejoin:miter;stroke-width:0.8;\"/>\n   </g>\n   <g id=\"patch_16\">\n    <path d=\"M 124.191525 7.2 \nL 218.767797 7.2 \n\" style=\"fill:none;stroke:#000000;stroke-linecap:square;stroke-linejoin:miter;stroke-width:0.8;\"/>\n   </g>\n  </g>\n  <g id=\"axes_4\">\n   <g id=\"patch_17\">\n    <path d=\"M 124.191525 220.379908 \nL 218.767797 220.379908 \nL 218.767797 125.803636 \nL 124.191525 125.803636 \nz\n\" style=\"fill:#ffffff;\"/>\n   </g>\n   <g clip-path=\"url(#pf31cfe5434)\">\n    <image height=\"95\" id=\"imagedc5bc80fdc\" transform=\"scale(1 -1)translate(0 -95)\" width=\"95\" x=\"124.191525\" xlink:href=\"data:image/png;base64,\niVBORw0KGgoAAAANSUhEUgAAAF8AAABfCAYAAACOTBv1AAAFcklEQVR4nO2cSyhtYRTHF663osgrJGEgBgYKhSJMRIlSRp4TZWLE1NBApEwpQyOSDDAgjyilKK8MhJJX3m93dNdda3XP6Vx3n7PUXb/Rf/d99t7n7zvrrO/pBwCfYKjgr/0C/zNmviJmviJmviJmviJmviJmviJmviJmviJmviJmviJmviJmviI/tF/AWwQEBLDrwMBA1CEhIag/Pj5YvefnZ9Svr6+sTNb9V6zlK2LmK+J42PHz82PXoaGhqNPS0lhZYWEh6ry8PNRFRUWsXnx8PGoaPmRYODo6Qv34+MjKoqKiUNPwIe+xu7uLenp6mpUtLy+jPjw8dPmsz0/P5qes5Sti5iviBw7P4fr78/9nZWUl6qGhIVaWlJSEmmYnMnTJe7qChhN3mQm9v3wWDRkynFxeXqJeWlpCPTY2xuqtrq6ivru7Y2VPT0+oreUrYuYrYuYr4niqKeNza2sr6pSUFP7wH78f//7+jvr8/JzVo3GSpoy0pwrAe6fX19cu3zEiIuKPWr4TTZMBAGJiYlAXFBSglr8b2dnZqCcnJ1nZ9vY2amv5ipj5ijgedmTv7uHhAbW7lPHt7Q11T08PKxsfH0cdHByMWvaEY2NjUa+trbEyGcp+UVVVxa7b29tRJyQksDL62W5ubv6oAfjnpD1hibV8Rcx8Rcx8RRwfXpDk5+ejnp2dZWVhYWGoaZpYUVHB6i0sLKCmcVdOmNA0kf6GAPDhBnoPmSbS1DM3N5eV0ZFXmsqenJywepubm6iPj4/BFdbyFTHzFfF62KGhYHR0lJXV1dWhpj3cvr4+Vq+3txe1DCcUGUIonk5wuINO5NCU1908MP1cEmv5ipj5ing97FASExPZ9fz8POrk5GTUp6enrF5jYyNq2nN195WW0JDkRAhyAmv5ipj5ipj5ivg05tO0E4CnlHTSRfZcDw4OULe1taFeX19n9TxNQy3mG2a+Jj4NO3Iypbq6GjUNQXR5IABfP0NTza6uLlZvZ2cHtQwtNOzQ95C9U1+GJGv5ipj5ipj5ivh0Z4qMp4uLi6gHBgZQt7S0sHpxcXGo6TBESUkJq7e/v49app302VTL36G/GbL4V6zlK2LmK+LTVFNOdtCeLF2aJ+dOOzo6UOfk5KCmqSUAQHNzM+qrq6svvRO9dnoDnMRaviJmviI+DTueIgfWiouLUff396OWkzMjIyOou7u7WZmnWYwvB+Cs5Sti5iti5ivi9R7uV9bSyPhMd/5dXFygzsrKYvU6OztRy2V6w8PDqF9eXv76nbyBtXxFzHxFvL4Jmi6xk+HE3ZyrK+hmMzmHGxQUhFruFmlqakI9MTHh8p18ibV8Rcx8RRwJOzTU0A0PAADR0dGo6eY4AL5JzdMsg2ZPtEcLwJcVyvtNTU2hrq+vRy2PfHECdxv/6GCdtXxFzHxFzHxFHOnh0vhK0z0AgIyMDNQyFm5sbKD2NP7TssHBQVZWXl6OWp6bMDc3h/orKa47ZC8+MjIS9e3tLSuzmP9NMPMVcTzsyGOt6H7V0tJSVlZTU4N6ZmYG9crKCqt3f3+Pmh7zkpmZyerR/bDyPegeYKcHz+T9aO/aNsR9U8x8Rcx8RRyfTJHd9bOzM9Q07QQAKCsrQ93Q0PD7pcQOFnpPmqrJdJKytbXFrl2dt+CNyRNPR0qt5Sti5ivi9WO+6JwrPVkPgJ82Gx4ejppOwAC4PgFWPot+3enKZgCA9PR01Ht7e6i9MarpKdbyFTHzFfH60hHaO5UHWdONbrW1tahTU1NZPZrV0CUhcpUyXZlMD52Wf/ddsJaviJmviJmvyLdcIu4N3G181sJaviJmviL/Tdj5jljLV8TMV8TMV8TMV8TMV8TMV+QnsZz3kI9RYTQAAAAASUVORK5CYII=\" y=\"-125.379908\"/>\n   </g>\n   <g id=\"patch_18\">\n    <path d=\"M 124.191525 220.379908 \nL 124.191525 125.803636 \n\" style=\"fill:none;stroke:#000000;stroke-linecap:square;stroke-linejoin:miter;stroke-width:0.8;\"/>\n   </g>\n   <g id=\"patch_19\">\n    <path d=\"M 218.767797 220.379908 \nL 218.767797 125.803636 \n\" style=\"fill:none;stroke:#000000;stroke-linecap:square;stroke-linejoin:miter;stroke-width:0.8;\"/>\n   </g>\n   <g id=\"patch_20\">\n    <path d=\"M 124.191525 220.379908 \nL 218.767797 220.379908 \n\" style=\"fill:none;stroke:#000000;stroke-linecap:square;stroke-linejoin:miter;stroke-width:0.8;\"/>\n   </g>\n   <g id=\"patch_21\">\n    <path d=\"M 124.191525 125.803636 \nL 218.767797 125.803636 \n\" style=\"fill:none;stroke:#000000;stroke-linecap:square;stroke-linejoin:miter;stroke-width:0.8;\"/>\n   </g>\n  </g>\n  <g id=\"axes_5\">\n   <g id=\"patch_22\">\n    <path d=\"M 237.683051 101.776271 \nL 332.259322 101.776271 \nL 332.259322 7.2 \nL 237.683051 7.2 \nz\n\" style=\"fill:#ffffff;\"/>\n   </g>\n   <g clip-path=\"url(#p6fbd2dfd16)\">\n    <image height=\"95\" id=\"image92bd685a82\" transform=\"scale(1 -1)translate(0 -95)\" width=\"95\" x=\"237.683051\" xlink:href=\"data:image/png;base64,\niVBORw0KGgoAAAANSUhEUgAAAF8AAABfCAYAAACOTBv1AAACuElEQVR4nO3cvYoiQRQF4BpdIwMxEATNxTcQNBFjEVEQfAHBRDDwFQTxSUwM/ElFNBRUTAw1ExMjxUR2o71T1TjD7Ox2ny73fNFtq4PL4VKU7c+bUuqnIogAuoH/GcMHYvhADB+I4QMxfCCGD8TwgRg+EMMHYvhADB+I4QP9QDfwWygUkno+nxtr5/NZ6nq9LvXtdnO/MRdx8oEYPpAvt51oNGqsZTIZqVutltTdbtf9xlzEyQdi+EC+2Xb0k8t0OjXWUqmU1NVqVeper2fc93g8XOrOHZx8IIYPxPCB3pQPv7eTy+WM69lsJnUwGJS6UCh8eJ8NOPlADB/IN0dN3XK5NK5Pp5PUiUTC63Zcw8kHYvhADB/Il3u+03g8lrrRaEhdLBaN+3jUpC9j+EBWbDvH4/Hp684PXWzDyQdi+EC+fLDmFI/Hpd5sNlJfLhfjvnQ67VVL/wQnH4jhAzF8ICuOmvpTzcViIXWlUjHuK5fLUg+HQ/cb+0ucfCCGD2TFtqPbbrdS69/hcV5z26FPMXwghg9kxeMFnf518clkYqwdDgeps9mssXa/313t6zs4+UAMH8i6bUfX7/eN63a7LXWpVDLWRqORJz39CU4+EMMHsu4drm6323241ul0jGtuO2Rg+EAMH8jqPd/5Hw26WCzmYSffw8kHYvhAVm87+oM0pZRarVZSO7edcDgs9fV6dbWvr+LkAzF8IKsfrDnpn+EOBgNjLZ/PS/3ZKclLnHwghg/E8IGsPmo67fd7qZ3HyVqtJjX3fGL4SC911NQ5/3mw2WxKHYlEvG7nKU4+EMMHYvhAL3XU1Om/WlTKfKrpl1+wcPKBGD7Qy2476/XauA4E3ucsmUx63c5TnHwghg/0su9wbcDJB2L4QAwfiOEDMXwghg/E8IEYPhDDB2L4QAwfiOEDMXygX7JvhHNyYVMPAAAAAElFTkSuQmCC\" y=\"-6.776271\"/>\n   </g>\n   <g id=\"patch_23\">\n    <path d=\"M 237.683051 101.776271 \nL 237.683051 7.2 \n\" style=\"fill:none;stroke:#000000;stroke-linecap:square;stroke-linejoin:miter;stroke-width:0.8;\"/>\n   </g>\n   <g id=\"patch_24\">\n    <path d=\"M 332.259322 101.776271 \nL 332.259322 7.2 \n\" style=\"fill:none;stroke:#000000;stroke-linecap:square;stroke-linejoin:miter;stroke-width:0.8;\"/>\n   </g>\n   <g id=\"patch_25\">\n    <path d=\"M 237.683051 101.776271 \nL 332.259322 101.776271 \n\" style=\"fill:none;stroke:#000000;stroke-linecap:square;stroke-linejoin:miter;stroke-width:0.8;\"/>\n   </g>\n   <g id=\"patch_26\">\n    <path d=\"M 237.683051 7.2 \nL 332.259322 7.2 \n\" style=\"fill:none;stroke:#000000;stroke-linecap:square;stroke-linejoin:miter;stroke-width:0.8;\"/>\n   </g>\n  </g>\n  <g id=\"axes_6\">\n   <g id=\"patch_27\">\n    <path d=\"M 237.683051 220.379908 \nL 332.259322 220.379908 \nL 332.259322 125.803636 \nL 237.683051 125.803636 \nz\n\" style=\"fill:#ffffff;\"/>\n   </g>\n   <g clip-path=\"url(#pac40bf26ab)\">\n    <image height=\"95\" id=\"image69e734d05c\" transform=\"scale(1 -1)translate(0 -95)\" width=\"95\" x=\"237.683051\" xlink:href=\"data:image/png;base64,\niVBORw0KGgoAAAANSUhEUgAAAF8AAABfCAYAAACOTBv1AAAD80lEQVR4nO2cyyt1YRTG1+FTJAYowsQlTJBLSfEHiIEy8gcoc3+VAUWZSAZMlBATkpQkuYTcitxG3/rWesv5ttPens15fqNnW+ucs3uss8673/fdOyMi70IgFKBPIJ+h+UBoPhCaD4TmA6H5QGg+EJoPhOYD+YM+gb9kMhnVRUVFLlZYWKj6+flZ9dvbm8t7f/9ZF+usfCA0HwjNBwLt+QUF//73lZWVqsfGxlxedXW16pmZGdW7u7su7/X1Ne5TTBRWPhCaDwTaduzQsLi4WPXExITLa2pqUl1TU6N6amrK5T0+Pn75HOwQNzynpGHlA6H5QDKSkjXcsrIy1cvLyy7W29ur+vj4WHVfX5/LOz09jfRZttWEbSe8ak4SVj4Qmg+E5gNJzazmw8OD6tnZWRfr7u5WXV5errqiosLlxdHz7XHSw05WPhCaDyQ1bcd+xaenp11scnJStW07bW1tLs9OtEUdMrLt5Ck0HwjNB5Kanm85Pz93xysrK6pHRkZUDwwMuLz5+XnV3zlNkCusfCA0H0jsbScculmyDd1szO7NERFZXV1VPTw8rLqrq8vllZaWqr65uYn0Wci9P6x8IDQfSCpHOy8vL+54c3NTtW0nDQ0NLq+5uVn1xsaGi9l2kpZthax8IDQfCM0HEnvPD/tptqFn1Pc4OjpSfXh4qNourIv4RZetrS0X+2wrYRznmyusfCA0H0jiQ81chnXha+zwcm5uTnVPT4/L6+zsVG3vZhGJvoM51yv0XGDlA6H5QGg+kNTs1cyGvYOlpaVFte3/IiJXV1eqR0dHXezs7OzLn2W1iP/diKP/s/KB0Hwg3zqrGcdCi20f+/v7Ls9e8fb397tYLuu7Se/pYeUDoflAoIspn7Wh8Cttj+1uZrvIIiIyODioenx83MUWFxdVZ7txLtv6btyw8oHQfCA0H0gqe36I7cP2KnN9fd3l3d3dqQ4X16uqqlTbOxqz/b6w5/9iaD6Q1Dx7IcrfRXwr2NnZcbG9vT3V9lkOIiK1tbWqbdvJ5fzigpUPhOYDSWXbifqacI5+YWFB9dDQkIvV1dWptvP0yKdTsfKB0HwgNB9IKreIRyXcSr62tqa6o6PDxerr61WXlJSovr+/T+js/g8rHwjNB/KtbSfuK8bw/S4vL1VfXFy4WHt7u+rW1lbV29vbLi9sZUnCygdC84HQfCA/eqgZ8vT0pNoutIv4Wc3GxkbVBwcHLu/29lY1ZzV/MTQfyK9qO7ZlLC0tudjJyYnq6+tr1eE6LR/zlSfQfCA/4uaIOPjsQabZto4kDSsfCM0HQvOB5E3PTyOsfCA0HwjNB0LzgdB8IDQfCM0HQvOB0HwgHyoMXfFmACxGAAAAAElFTkSuQmCC\" y=\"-125.379908\"/>\n   </g>\n   <g id=\"patch_28\">\n    <path d=\"M 237.683051 220.379908 \nL 237.683051 125.803636 \n\" style=\"fill:none;stroke:#000000;stroke-linecap:square;stroke-linejoin:miter;stroke-width:0.8;\"/>\n   </g>\n   <g id=\"patch_29\">\n    <path d=\"M 332.259322 220.379908 \nL 332.259322 125.803636 \n\" style=\"fill:none;stroke:#000000;stroke-linecap:square;stroke-linejoin:miter;stroke-width:0.8;\"/>\n   </g>\n   <g id=\"patch_30\">\n    <path d=\"M 237.683051 220.379908 \nL 332.259322 220.379908 \n\" style=\"fill:none;stroke:#000000;stroke-linecap:square;stroke-linejoin:miter;stroke-width:0.8;\"/>\n   </g>\n   <g id=\"patch_31\">\n    <path d=\"M 237.683051 125.803636 \nL 332.259322 125.803636 \n\" style=\"fill:none;stroke:#000000;stroke-linecap:square;stroke-linejoin:miter;stroke-width:0.8;\"/>\n   </g>\n  </g>\n  <g id=\"axes_7\">\n   <g id=\"patch_32\">\n    <path d=\"M 351.174576 101.776271 \nL 445.750847 101.776271 \nL 445.750847 7.2 \nL 351.174576 7.2 \nz\n\" style=\"fill:#ffffff;\"/>\n   </g>\n   <g clip-path=\"url(#paeebabe2c8)\">\n    <image height=\"95\" id=\"imagee7f861b9c1\" transform=\"scale(1 -1)translate(0 -95)\" width=\"95\" x=\"351.174576\" xlink:href=\"data:image/png;base64,\niVBORw0KGgoAAAANSUhEUgAAAF8AAABfCAYAAACOTBv1AAAD6ElEQVR4nO2czSttURjG9+H6D5gYIJQy9ZGBjzJCSOrkTGTGQMhQSkwMZSKiDCVFQtKZKcUZGJj4mjGRMFAy8nFHXu9a3X06d5+9zrPv9fxGz+pdZ+3V09u719lrrx3zPO/TIxDy0BP4ydB8IDQfCM0HQvOB0HwgNB8IzQdC84HQfCA0HwjNB0LzgfxCT+CLtrY20YODg0asq6tL9M7Ojujl5WWjXywWE31+fm7Ebm9vQ5lnmDDzgdB8IDEvh5spzc3NRrunp0f02NiY6I+Pj0Dj5+V959Lo6KgRW1hYCDSmS5j5QGg+EOdlp7S0VPTx8bERKyoqEq1LRhhl5/7+3ohdXFyI1qupu7s7o9/r62ugaweBmQ+E5gOh+UCc/8Pt7e0VrWu8a+xr6fbl5aXopaUlo9/IyIjbiSmY+UBoPhDnS83r62vRFRUVvv06Ozt9Y/oBWnFxsW+/MJar+fn5gX4XBGY+EJoPhOYDcV7zr66uRJeXl/v2KygoyPpa+/v7oquqqoxYSUlJRmMcHByI1ps4LmDmA6H5QCKzhxsGHR0doufn543Y8PBwRmNUV1eLbmxsNGJHR0fBJ/cHmPlAaD6Q/2q1o7EfrOlysr6+LrqwsNDol25DpqGhQXQYr6Iw84HQfCA0H4jzpebu7q5o/W6Oax4eHoz24eGh6NnZWdFzc3O+Y9j3jbDvS8x8IDQfiPOlZmVlpWi97LTJ5SZGWVmZ6I2NDSNWV1cn2t6QWVtbE93f35/1PJj5QGg+EJoPJKdPNdNtaqdSKdHxeNyIhX2q5PPz+zZnz0m37dj09HSo82DmA6H5QCKzmVJbWyt6dXXViCUSCdGPj49ZX6u7u1t0TU1N1uMFhZkPhOYDcV523t7eRNslw97I+KKlpcVon5yciN7c3BQ9MzNj9Et3qkSfkJmYmPDtp8eYmpoyYmGvupj5QGg+EJoPJKeHoO1arpeU+kljpq9326dKksmk6OfnZyPW2toqenJy0ndMfXh6cXExo3kEhZkPhOYDyWnZsdFvFbe3t4sOeqrk6elJ9MvLixHTS8108GTKD4HmA4GWHc37+7voML69kG6Mm5sb0X19fUbs9PQ00LWDwMwHQvOB0HwgkdlMGR8fF60//+V5ntfU1PTX421tbRltfark7OxMdC5rvA0zHwjNBxKZpabGfjt4e3tbdH19ve/v+HVBkjE0HwjNBxKZpabGPlUyMDAgWn+i8V+HmQ+E5gOJZNmx0V99XVlZET00NGT00/9W9/b23E8sS5j5QGg+kEj+w/0pMPOB0HwgNB8IzQdC84HQfCA0HwjNB0LzgdB8IDQfCM0HQvOB/AZOXP56h+bY9AAAAABJRU5ErkJggg==\" y=\"-6.776271\"/>\n   </g>\n   <g id=\"patch_33\">\n    <path d=\"M 351.174576 101.776271 \nL 351.174576 7.2 \n\" style=\"fill:none;stroke:#000000;stroke-linecap:square;stroke-linejoin:miter;stroke-width:0.8;\"/>\n   </g>\n   <g id=\"patch_34\">\n    <path d=\"M 445.750847 101.776271 \nL 445.750847 7.2 \n\" style=\"fill:none;stroke:#000000;stroke-linecap:square;stroke-linejoin:miter;stroke-width:0.8;\"/>\n   </g>\n   <g id=\"patch_35\">\n    <path d=\"M 351.174576 101.776271 \nL 445.750847 101.776271 \n\" style=\"fill:none;stroke:#000000;stroke-linecap:square;stroke-linejoin:miter;stroke-width:0.8;\"/>\n   </g>\n   <g id=\"patch_36\">\n    <path d=\"M 351.174576 7.2 \nL 445.750847 7.2 \n\" style=\"fill:none;stroke:#000000;stroke-linecap:square;stroke-linejoin:miter;stroke-width:0.8;\"/>\n   </g>\n  </g>\n  <g id=\"axes_8\">\n   <g id=\"patch_37\">\n    <path d=\"M 351.174576 220.379908 \nL 445.750847 220.379908 \nL 445.750847 125.803636 \nL 351.174576 125.803636 \nz\n\" style=\"fill:#ffffff;\"/>\n   </g>\n   <g clip-path=\"url(#pc6b871e4f0)\">\n    <image height=\"95\" id=\"image6463a68ebb\" transform=\"scale(1 -1)translate(0 -95)\" width=\"95\" x=\"351.174576\" xlink:href=\"data:image/png;base64,\niVBORw0KGgoAAAANSUhEUgAAAF8AAABfCAYAAACOTBv1AAAFP0lEQVR4nO2cSyhtYRTH1+F6Jo+QkEKSZCgDE4+BAVIUKQPlMTUxNDUw8pjITJ4jCkUZSEiSlEcZkJiQPPPI+3FHd1lrdbdu7HOWe+/6jf7b9zl792+dddb32J8HAN7AUMFP+wH+Z8x8Rcx8Rcx8Rcx8Rcx8Rcx8Rcx8Rcx8Rcx8Rcx8Rcx8Rcx8RX6o3vzH++3T0tJQV1ZWsn5+fu8x8vz8jHpmZob1W19fR313d+fac3oLi3xFzHxFPODDxZT4+Hh2PTAwgDo3Nxd1cHAw6+fxeH77eW9v/NHPzs5QNzU1sbbR0VHUj4+Pf/jE3sUiXxEzXxGvp52IiAjUw8PDrK2oqAg1rXzcgFZFAAALCwuoa2pqUB8dHbF+MpV5E4t8Rcx8Rcx8RVwf4cqysKKiAnV2drZj35eXF9QPDw+sH70OCAhAHRoayvrRkbD8DcnLy0NN839VVRXrt7a2hvr19RW8iUW+Ima+Iq6XmjIV0FEsLS0BeJpYXV1F3dHRwfptbW2hpqPk+vp61q+srAx1WFiY471oOUlHxQAA5eXlqBcXF1mb22WoRb4iZr4iZr4iruf8uLg4dj01NYU6MzOTtV1dXaGmQ/75+XnWj5Z8tDyVeZ3OjHZ1dbG2lJQU1E75HwDg5OQEdWFhIWujvz1u5H+LfEXMfEVcTzvR0dHsemlpCXViYiJrW15eRk1HwpeXl46fT0euNH0A8JSUlZXF2iYnJ1HHxsb+9n8AeIobGhpibY2NjajlKPwzWOQrYuYr4vrE2u3tLbs+Pz9HTb/uAABBQUGo6ddfVhJObbIfXUDZ3NxkbW1tbahbW1tRh4SEON6rpKSEtSUlJaHe3d11fI4/xSJfETNfETNfEddz/tPTE7ve3t5GLUe4dH8OXWi/uLhg/WhOpYsuVH/UDwCgu7sbdU5ODmo6iwnAS1m6cAMAEB4eDm5ika+Ima+I62lHft3paFV+jTMyMlDn5+ej7u/vZ/3oqPOzZR3dIjg+Po5aTp5FRkailiPtm5ubLz8HxSJfETNfETNfEddzvsyFKysrqOmsIAAvNVtaWlDTGUgAvsDhxnPR/ZlyVpNey9+owMDALz8HxSJfETNfEa+/EDc7O4tavqRGZzXpGmt7ezvr19DQgJqWjDJlfDTj6e/vj5q+fCe3FdIFGjlalyPvr2KRr4iZr4jX087BwQHqkZER1lZXV4eapgX5Hi79jM7OTtSyGqFpTG4DTEhIQF1aWopaph06mt7f32dtp6en4CYW+YqY+YqY+Yr49CVouadnZ2cHdVRUlOP/0fKSLs7IHExHzDJf05yfnp6Omi7iyHvV1taytomJCdQ2q/mXY+Yr4tO0I0ek1dXVqPv6+lDLEpJCS0G5cEPbrq+vWRv9TFrWynMYaDnc3NzM2uhiihtY5Cti5ivi07QjofPj9EiW4uJi1k/uRv6FrDho2pHphK7HbmxsoB4bG2P9ent7Ud/f3zs9uitY5Cti5iti5iuimvMpqampqOfm5lgbHZ065X8AnvPp1nQAvkDT09ODWu7N8fZ5CxSLfEXMfEW+Tdqho86CggLWNjg4iDomJga1TEF0zXV6epq10W0rx8fHqH15rJfEIl8RM18RM18R1YOsKbTEowdSA/Dzd+hMaHJyMutHy0u68AHA99xo5nmKRb4iZr4i36bUpNCyE4C/fEzfYKF/BwDY29tDLY+NOTw8RC1Pm9XCIl8RM1+Rb5l2PstH5zd8RyzyFTHzFTHzFfmncv7fhkW+Ima+Ima+Ima+Ima+Ima+Ima+Ima+Ima+Ij8Bqmi50rk82xoAAAAASUVORK5CYII=\" y=\"-125.379908\"/>\n   </g>\n   <g id=\"patch_38\">\n    <path d=\"M 351.174576 220.379908 \nL 351.174576 125.803636 \n\" style=\"fill:none;stroke:#000000;stroke-linecap:square;stroke-linejoin:miter;stroke-width:0.8;\"/>\n   </g>\n   <g id=\"patch_39\">\n    <path d=\"M 445.750847 220.379908 \nL 445.750847 125.803636 \n\" style=\"fill:none;stroke:#000000;stroke-linecap:square;stroke-linejoin:miter;stroke-width:0.8;\"/>\n   </g>\n   <g id=\"patch_40\">\n    <path d=\"M 351.174576 220.379908 \nL 445.750847 220.379908 \n\" style=\"fill:none;stroke:#000000;stroke-linecap:square;stroke-linejoin:miter;stroke-width:0.8;\"/>\n   </g>\n   <g id=\"patch_41\">\n    <path d=\"M 351.174576 125.803636 \nL 445.750847 125.803636 \n\" style=\"fill:none;stroke:#000000;stroke-linecap:square;stroke-linejoin:miter;stroke-width:0.8;\"/>\n   </g>\n  </g>\n  <g id=\"axes_9\">\n   <g id=\"patch_42\">\n    <path d=\"M 464.666102 101.776271 \nL 559.242373 101.776271 \nL 559.242373 7.2 \nL 464.666102 7.2 \nz\n\" style=\"fill:#ffffff;\"/>\n   </g>\n   <g clip-path=\"url(#pfb59364ea9)\">\n    <image height=\"95\" id=\"image6be4576de4\" transform=\"scale(1 -1)translate(0 -95)\" width=\"95\" x=\"464.666102\" xlink:href=\"data:image/png;base64,\niVBORw0KGgoAAAANSUhEUgAAAF8AAABfCAYAAACOTBv1AAADkElEQVR4nO2dPUgrURCFNxKQFGkkiHYSLSwUAqkErQ1YWMTGQrCziohgY6mFlYKF2NmqxEYCESstBS39qSxSiOJPKiWGiLF68+5cEklk7x7fvvNVZ5x9u8NhnHdzN7tGPM+rewRCB7qA/xmaD4TmA6H5QGg+EJoPhOYDoflAaD6QKLoAVxQKBRVvbGyIPjk5CbqchrDzgdB8IDQfSMQL6a7mw8ODiqPRv/+9ra6uit7c3AysJht2PhCaDyS0Y2dtbU3FS0tLoiuViuh4PB5YTTbsfCA0H0hoP+G+v783zcVisQAraQ47HwjNB0LzgYR25kcikW/j3wA7HwjNBxLasVOv17+N/zA0NKTiy8tLZzXZsPOB0HwgNB8IdOanUinRAwMDbf/7g4ODprlkMtnSOYKc8TbsfCA0H4jzsTM4OCh6ZWVF5SYmJkR3dna2fe7n52cVm8vJRCLR0jnsHU7zRotr2PlAaD4Q5/dw9/f3RWezWZU7Pz8XbX6dr1XsT6fmCqevr0/lRkZGGp4jl8upeHt7u+06fgo7HwjNB0Lzgfi+1LSXbv39/aKvrq5Uzlxqlsvltq+Vz+eb5rq7u1V8f3/f8LiODlz/sfOB0Hwgvo8d++t35ubZ7u6uyv1k1LTK4+Ojis1NOHPJOzo6qo7b2tpyVpMNOx8IzQdC84H4PvOr1aqK7+7uRE9PT6vczMyM35dvyu3tbcOf21sUQcLOB0LzgUB3Nc0dRde7ieYu59nZmeiuri513Pj4uGjXD0uz84HQfCDOx87U1JTonZ0dlSuVSqKHh4ddlqFYX18XvbCwoHKnp6eiM5mMytVqNV/rYOcDoflAaD6QQB+C3tvbU/Hk5KTosbEx0RcXF07rMJeXLy8vKvf5+Sm6p6dH5Z6ennytg50PhOYDCXTs2JtY5rLO/PVPp9PquNfXV2c1mTV4nr650tvbq3IcOyGC5gMJ9OEI+0EEc3//6OhI9PLysjrOjv3k8PBQxfY9XZew84HQfCA0Hwj0NV/mG//MGxf2w3H2ks9PZmdnVby4uCja/lr529ubr9dm5wOh+UCgz+F+fHyILhaLoufn5wOrwf40fX19LdrvMWPDzgdC84HQfCC/5n07x8fHoufm5gK7rv1HDm5ubgK7NjsfCM0HEtoXWf8LsPOB0HwgNB8IzQdC84HQfCA0HwjNB0LzgdB8IDQfCM0HQvOB0HwgNB8IzQfyBYxMzGenufu/AAAAAElFTkSuQmCC\" y=\"-6.776271\"/>\n   </g>\n   <g id=\"patch_43\">\n    <path d=\"M 464.666102 101.776271 \nL 464.666102 7.2 \n\" style=\"fill:none;stroke:#000000;stroke-linecap:square;stroke-linejoin:miter;stroke-width:0.8;\"/>\n   </g>\n   <g id=\"patch_44\">\n    <path d=\"M 559.242373 101.776271 \nL 559.242373 7.2 \n\" style=\"fill:none;stroke:#000000;stroke-linecap:square;stroke-linejoin:miter;stroke-width:0.8;\"/>\n   </g>\n   <g id=\"patch_45\">\n    <path d=\"M 464.666102 101.776271 \nL 559.242373 101.776271 \n\" style=\"fill:none;stroke:#000000;stroke-linecap:square;stroke-linejoin:miter;stroke-width:0.8;\"/>\n   </g>\n   <g id=\"patch_46\">\n    <path d=\"M 464.666102 7.2 \nL 559.242373 7.2 \n\" style=\"fill:none;stroke:#000000;stroke-linecap:square;stroke-linejoin:miter;stroke-width:0.8;\"/>\n   </g>\n  </g>\n  <g id=\"axes_10\">\n   <g id=\"patch_47\">\n    <path d=\"M 464.666102 220.379908 \nL 559.242373 220.379908 \nL 559.242373 125.803636 \nL 464.666102 125.803636 \nz\n\" style=\"fill:#ffffff;\"/>\n   </g>\n   <g clip-path=\"url(#p8afa5651b1)\">\n    <image height=\"95\" id=\"imaged0790c5cbd\" transform=\"scale(1 -1)translate(0 -95)\" width=\"95\" x=\"464.666102\" xlink:href=\"data:image/png;base64,\niVBORw0KGgoAAAANSUhEUgAAAF8AAABfCAYAAACOTBv1AAAE8ElEQVR4nO2dWyttURTH53bLNdeEKJdSckmkSPJOJJ/Bt/A1pDwrjx48KImikCR5UZQoRMj9fj1v4/zHONY6LnPvcRzj9/RfxjzT9G/uscZcc659Is65V2eoEKc9gJ+Mma+Ima+Ima+Ima+Ima9IgvYAokUkEmHXCQm//9SXlxfSz8/PMRuTxGa+Ima+It867cjUkpSURLqgoIDFmpubSd/e3pKemJhg7e7v730OMRSb+YqY+YqY+Yqo5nzM2a+vX3+4mpKSQrqnp4fFMOdvbGyQXl9fZ+3kdTSxma+Ima+Iatr5aqqR/x6v6+vrWay9vZ10fn4+6ampKdZuc3OT9NPT05fG9zds5iti5ivyrVe4ElydZmVlsVhubi7p6upq0nIlHBcXu/loM18RM18RM1+Rfybn+1jtYml4fn7OYomJiaTxfoBlp3Ox3Vyxma+Ima9I1NMOphO5+YFlXXx8/O9BJfBhPT4+vqllesI+MjIyAscU1s7HA773YjNfETNfETNfEe85Xy7Pk5OTScslP5Z5hYWFpDMzM1m7u7s70mtra6QPDw9ZO+y/pKSExfB+gyXp9vY2a2c5/4dg5iviJe3gRxrTjHN8E6OlpYXFioqKSOOZG1lq4vXV1RXppaWlwDHhU0wJpp2jo6PAdtHGZr4iZr4i3tNOTk4Oi3V0dJAuLS1lsYODA9IrKyuk9/b2WLvU1FTS2dnZb/7cOX505ObmhsWwisGHbNhfrLGZr4iZr4iZr4j3nC9LvLy8PNJYJjrn3MjICOnl5WXSYfkan0hijneOP6GUZ276+/tJY87Hclf2b+d2/mPMfEW8P1iTD6Zw5Xp6espiOzs7pC8vLwP7QHCP9eHhgcUuLi5IDwwMsFhnZyfpxsbGN7VzfIUu06RvbOYrYuYrYuYr4iXn40vFMg9jjpabKVjW+QDvFdfX1yw2ODhIemhoiHRbWxtrV1NTQ3pxcTGwfx/YzFfEzFfES9rBj6MsJ7H8q6qqYrGmpibSvt8IkSlidnaWNG6gyBV5X18faVx1O8fPDPnAZr4iZr4i3le4Jycn7Br3WWtra1mst7eX9OTkJGm5r4rVlDxyiIRVIziu+fl50rjZ45xzDQ0NpNPS0ljs7OwssP/PYDNfETNfETNfEe85X77Zsbq6SlquOnE12dXVRXp4eJi1CyrxZP7HnC/zP45rbGyMdF1dHWuH9xd5bNFy/n+Ema+I97SDH1vnnNva2iK9v7/PYsXFxaS7u7tJj4+Ps3Z4viesnAxLO7hqXlhYII0rX+f4w7/09HQWwxPY8u/8DDbzFTHzFYn6C3G4Dzo9Pc1iZWVlpLGyaG1tZe2wOsHvV/jI83Vsi6vdmZkZ1g6PkoS9wGdp55tj5iti5isS9ZyPOXpubo7FysvLSeNGS0VFBWuHL8vt7u6S/simC+Z8XO3KF+KwT9k/7jljH5/d27WZr4iZr0jU007YR3x0dJR0ZWUlaXn8BFeaePxQlnth5R+WjVgyynd58Z3f4+Pjd/f/GWzmK2LmK2LmKxJxMfzv+eTxQMzlqOWL1LiJgUfJZSkYVvIF5Xy8h8h28t6Dv8/H0UGb+YqY+YrENO388csDvgIs7FtdsdzzXfrFGpv5ipj5iqimnZ+OzXxFzHxFzHxFzHxFzHxFzHxFzHxFzHxFzHxFzHxFzHxFzHxFzHxFfgEIxrjYZodS/gAAAABJRU5ErkJggg==\" y=\"-125.379908\"/>\n   </g>\n   <g id=\"patch_48\">\n    <path d=\"M 464.666102 220.379908 \nL 464.666102 125.803636 \n\" style=\"fill:none;stroke:#000000;stroke-linecap:square;stroke-linejoin:miter;stroke-width:0.8;\"/>\n   </g>\n   <g id=\"patch_49\">\n    <path d=\"M 559.242373 220.379908 \nL 559.242373 125.803636 \n\" style=\"fill:none;stroke:#000000;stroke-linecap:square;stroke-linejoin:miter;stroke-width:0.8;\"/>\n   </g>\n   <g id=\"patch_50\">\n    <path d=\"M 464.666102 220.379908 \nL 559.242373 220.379908 \n\" style=\"fill:none;stroke:#000000;stroke-linecap:square;stroke-linejoin:miter;stroke-width:0.8;\"/>\n   </g>\n   <g id=\"patch_51\">\n    <path d=\"M 464.666102 125.803636 \nL 559.242373 125.803636 \n\" style=\"fill:none;stroke:#000000;stroke-linecap:square;stroke-linejoin:miter;stroke-width:0.8;\"/>\n   </g>\n  </g>\n  <g id=\"axes_11\">\n   <g id=\"patch_52\">\n    <path d=\"M 578.157627 101.776271 \nL 672.733898 101.776271 \nL 672.733898 7.2 \nL 578.157627 7.2 \nz\n\" style=\"fill:#ffffff;\"/>\n   </g>\n   <g clip-path=\"url(#pd72014bd1e)\">\n    <image height=\"95\" id=\"image8b918e3f55\" transform=\"scale(1 -1)translate(0 -95)\" width=\"95\" x=\"578.157627\" xlink:href=\"data:image/png;base64,\niVBORw0KGgoAAAANSUhEUgAAAF8AAABfCAYAAACOTBv1AAADAklEQVR4nO2csWoqQRSGN8mNBpuIWgVJlVKrCIK9jRZirUU6UYQ8QLDTR/AJUqQRizRiK1ipkMLWQrBUtBOMaKp77sySvYjX9d/J/b/qH2YSDh+Hw84ac2FZ1t4iEC7RBfzPUD4QygdC+UAoHwjlA6F8IJQPhPKB/EIX8B13d3faul6vSx6NRpKbzebZanIDdj4QygdC+UA8M/Ovrq4kNxoNbe/p6enbc5z55GgoH4hnxs7l5Z8+SCQSjuceHh7OUc5ZYOcDoXwgnhk7n5+fkieTibYXi8Uk39zcSL6+vnb8HSbAzgdC+UAoH4hnZr5Kt9vV1rlcTvL9/b3k29tb7dx8Pne3sBPDzgdC+UA8OXYWi4XjXiQSkfz8/Kzt1Wo112pyA3Y+EMoHQvlALiwP/ol4NBrV1tPpVLL69nM8Hmvn4vG4u4WdGHY+EMoH4smxY+f19VVysViUvFqttHPpdFrycDh0va5/hZ0PhPKBePKGa6fVaklWx04wGNTOlUolyRw75K9QPhDKB2LEzFffcu52O8nqbdey9EdNE2DnA6F8IEbccFWcbruWpd947S/ZZrOZq3UdAzsfCOUDoXwgRjxqqqivDewzX33dUC6Xtb2XlxdX6zoGdj4Qygdi3KNmKpWS3O/3Hc8tl0ttHQqFXKvpWNj5QCgfiHFjR8U+dtSRtNlstL1kMin54+PD1boOhZ0PhPKBUD4Q4264Kr1eT1urM9/n82l76v9zyGaz7hZ2IOx8IJQPxOhHTfv/aBgMBo5nt9utZPuXp1Gw84FQPhCjx47f79fW6o338fHR8ecymYzkTqdz+sIOhJ0PhPKBUD4Qo2e+nXw+L7ndbjuee3t7k1woFLS9/f58Otj5QCgfyI8aO+FwWLL9AxP7d3t/EwgEtPV6vT55XU6w84FQPhDKB2L0hyl21G+wVCoVbe/9/V1ytVqVbP+g/Zyw84FQPpAf9ahpGux8IJQPhPKBUD4QygdC+UAoHwjlA6F8IJQPhPKBUD4QygdC+UAoHwjlA/kCXBiSKdrbqi8AAAAASUVORK5CYII=\" y=\"-6.776271\"/>\n   </g>\n   <g id=\"patch_53\">\n    <path d=\"M 578.157627 101.776271 \nL 578.157627 7.2 \n\" style=\"fill:none;stroke:#000000;stroke-linecap:square;stroke-linejoin:miter;stroke-width:0.8;\"/>\n   </g>\n   <g id=\"patch_54\">\n    <path d=\"M 672.733898 101.776271 \nL 672.733898 7.2 \n\" style=\"fill:none;stroke:#000000;stroke-linecap:square;stroke-linejoin:miter;stroke-width:0.8;\"/>\n   </g>\n   <g id=\"patch_55\">\n    <path d=\"M 578.157627 101.776271 \nL 672.733898 101.776271 \n\" style=\"fill:none;stroke:#000000;stroke-linecap:square;stroke-linejoin:miter;stroke-width:0.8;\"/>\n   </g>\n   <g id=\"patch_56\">\n    <path d=\"M 578.157627 7.2 \nL 672.733898 7.2 \n\" style=\"fill:none;stroke:#000000;stroke-linecap:square;stroke-linejoin:miter;stroke-width:0.8;\"/>\n   </g>\n  </g>\n  <g id=\"axes_12\">\n   <g id=\"patch_57\">\n    <path d=\"M 578.157627 220.379908 \nL 672.733898 220.379908 \nL 672.733898 125.803636 \nL 578.157627 125.803636 \nz\n\" style=\"fill:#ffffff;\"/>\n   </g>\n   <g clip-path=\"url(#p7336afddfc)\">\n    <image height=\"95\" id=\"image2a0b7eab80\" transform=\"scale(1 -1)translate(0 -95)\" width=\"95\" x=\"578.157627\" xlink:href=\"data:image/png;base64,\niVBORw0KGgoAAAANSUhEUgAAAF8AAABfCAYAAACOTBv1AAAEAklEQVR4nO2cyyt1YRTG34MoBpR7KSkDKRIGZGLC3Mjc2J/BQP4MBgyUTKQMEEUxUMolMTAgUSK55PLN1rfWm7Pb7bP3fjbn+Y2e03q38/a0zvJed8459+0IhBJ0B4oZmg+E5gOh+UBoPhCaD6QM3YGfyOVy5nNpaanor6+vH/VvhJkPhOYDyUzZqaysFN3V1WVizc3Noo+OjkRfXV2Zdm9vbwn1LhmY+UBoPhCaDwRa88vK/n99d3e36NnZWdOuvr5e9MrKiuipqSnTjjWfhIbmA4GWnc/PT9G3t7eiGxsbTTs91Ozo6BBdUhItd/wZtOb7O729JWY+EJoPBFp29E9cl53Hx0fTrrW1VbQuO3q0FBW/BLHsFAk0HwjNB5KZVc2XlxfROzs7JqZnv7W1taIbGhpMu7u7u4L7of8HJF3/mflAaD6QzJQdvR+7vLxsYhMTE6KrqqpEj42NmXanp6ei9ew5qzDzgdB8IDQfSM5l5Ii4HuK1tLSY2O7uruimpibRJycnpt3g4KBof4ki33cFLS9wqPmHoflAYh9qRt2o0LGHhwcTOzs7E603Vvzy1NnZKXpvby/v3w/bj6Rh5gOh+UAyM8PVvL6+ms9ra2uih4aGROsjhs7ZmfD+/r6JfXx8xNnFWGDmA6H5QGg+kMRnuFE2J/zhal9fn+j19XXR1dXVpp0ekvb395vY09NTpO/WxD0MZeYDoflAEh9qRvmp+s/oBbTj42PRAwMDpp2e/WrtXPiykybMfCA0HwjNB5LJ5QUfvdywsLAg2h9O6uWG8fFxE5uenhYd9vK0fwRdPxfHsJOZD4TmA0l1Dzfq7FH//PUF6Y2NDdOupqZG9MXFhYn19PSIDhp26j76ZUf3MY73PjDzgdB8INDRTr4y5Jcg/fny8lL0+fm5aadHP/7+bm9vr+jNzc28fQoqLUFlMwrMfCA0HwjNB/Lrar6+wbK9vW3a6bru31ScnJwUrW++BG2s87jgH4bmA0l1hhv0roSwx/l0qdJneJxzbnV1VbS+weKcc/f396L1Bbvr6+uAHicLMx8IzQeS+Ggn7EWEsOhnDg8PTezm5kZ0e3u7ielFt5GREdFzc3MF9ykqzHwgNB8IzQeSas0PikWptf5R8q2tLdFtbW0mpoe5+vL04uKiaZfmGwqZ+UBoPpBUjwv6paXQzQn//Qrz8/OiR0dHTayurk60PmJSUVFh2rHsFAk0HwjNBwI9Il7oVN5//uDgQPTMzIyJDQ8Pi15aWhKNvKXIzAdC84Fk5pUvcaCHruXl5SamN1fe399FPz8/m3Zc1SwSaD6QP1V2fhvMfCA0HwjNB0LzgdB8IDQfCM0HQvOB0HwgNB8IzQdC84HQfCD/AGmuRz5YwhrsAAAAAElFTkSuQmCC\" y=\"-125.379908\"/>\n   </g>\n   <g id=\"patch_58\">\n    <path d=\"M 578.157627 220.379908 \nL 578.157627 125.803636 \n\" style=\"fill:none;stroke:#000000;stroke-linecap:square;stroke-linejoin:miter;stroke-width:0.8;\"/>\n   </g>\n   <g id=\"patch_59\">\n    <path d=\"M 672.733898 220.379908 \nL 672.733898 125.803636 \n\" style=\"fill:none;stroke:#000000;stroke-linecap:square;stroke-linejoin:miter;stroke-width:0.8;\"/>\n   </g>\n   <g id=\"patch_60\">\n    <path d=\"M 578.157627 220.379908 \nL 672.733898 220.379908 \n\" style=\"fill:none;stroke:#000000;stroke-linecap:square;stroke-linejoin:miter;stroke-width:0.8;\"/>\n   </g>\n   <g id=\"patch_61\">\n    <path d=\"M 578.157627 125.803636 \nL 672.733898 125.803636 \n\" style=\"fill:none;stroke:#000000;stroke-linecap:square;stroke-linejoin:miter;stroke-width:0.8;\"/>\n   </g>\n  </g>\n  <g id=\"axes_13\">\n   <g id=\"patch_62\">\n    <path d=\"M 691.649153 101.776271 \nL 786.225424 101.776271 \nL 786.225424 7.2 \nL 691.649153 7.2 \nz\n\" style=\"fill:#ffffff;\"/>\n   </g>\n   <g clip-path=\"url(#p72e17cb06d)\">\n    <image height=\"95\" id=\"imagedf2e6ddebe\" transform=\"scale(1 -1)translate(0 -95)\" width=\"95\" x=\"691.649153\" xlink:href=\"data:image/png;base64,\niVBORw0KGgoAAAANSUhEUgAAAF8AAABfCAYAAACOTBv1AAAD8UlEQVR4nO2dTyhtURTG9+WllJJQMpKplDIxkD8TlCEykEiKlAEyUSaYmTNB/iZ/ipSUgcKYyEyIJGGAFMXAG7319jq9e7v3OOd87/D9Rt9uXfcsn9Vyjr32FTHGfBoCIQmdwE+G5gOh+UBoPhCaD4TmA6H5QGg+EJoP5Bc6gUQpLS0VPTQ0pGJ7e3uix8fHVezx8VH0+/u7T9klBisfCM0HQvOBREzI/qp5dHQkurCwUMUikYjoz0/9bU1OTooeHh4WfX197XGG8cPKB0LzgYTuVjMWExMTond3d1Wsp6dH9MjIiOiWlhb/E4sCKx8IzQfyrdpOcnKy6IWFBRXb2NgQnZGREVhOsWDlA6H5QGg+kNA94XZ2dooeGxtTsfv7e9E5OTmB5eQWVj4Qmg8kdG3H5vb2Vq3T0tJEl5eXq9jh4WEgOSUCKx8IzQdC84GEuudPTU2pdWtrq+jFxUUVa2pqCiKlhGDlA6H5QELddhoaGtR6aWlJ9MvLi4pVVlaK/l9uO1n5QGg+kFBvpqysrKh1bW2t6ObmZhXLzMwMJKdEYOUDoflAaD6QUN9qOsnPzxd9dnamYvaYYXV1teiHhwff84oGKx8IzQfie9uxZ2SKiopUrKamRnR/f79oey/WGGNmZmbiutbc3Jzo4+PjqK+bn58XzXHBHwrNB0LzgXje84uLi9V6fX1ddG5ubvREYpwqiZd43+Pi4kK0/XvHGGPOz89dXdsNrHwgNB+I521ndnZWrWPtndqHlp+enkQ7DzDHiz2rU1FRoWIlJSX//JrV1VW1bmxsdHVtN7DygdB8IIFupmxubqp1XV2d6I+Pjy+///b2tujU1FQVGxgYEN3V1SW6vr7+y9d1CysfCM0HQvOBeN7z7adMY4xJSvr783U+4aakpIj2oufbvL29qfXg4KDom5sb0c7TLfYIYltbm6c5OWHlA6H5QDxvO319fWr9+voqur29XcXscb/p6WmvU4nK/v6+6Lu7OxWzJ513dnZUzN6E8QJWPhCaD8T3PdyqqirRW1tbUV9nn5sNcpyjoKBArU9OTkSvra2pmN2SnFPQbmDlA6H5QGg+EN97flZWlmj75IgxesPDftLs7u72M6WYjI6Oiu7t7VWxjo4O0fZHirmFlQ+E5gMJdErZ+fFap6enotPT00U7b/GC3Fe18zg4OFCx7Oxs0faIjHMiOl5Y+UBoPhCaDyTQDXT7HwgYox/tl5eXRTtH9vLy8kRfXl76ktsfnp+fRTtHH8vKykRfXV19+VqsfCA0H8i3OhAXNlj5QGg+EJoPhOYDoflAaD4Qmg+E5gOh+UBoPhCaD4TmA6H5QGg+EJoPhOYD+Q20FO6WgiwtSgAAAABJRU5ErkJggg==\" y=\"-6.776271\"/>\n   </g>\n   <g id=\"patch_63\">\n    <path d=\"M 691.649153 101.776271 \nL 691.649153 7.2 \n\" style=\"fill:none;stroke:#000000;stroke-linecap:square;stroke-linejoin:miter;stroke-width:0.8;\"/>\n   </g>\n   <g id=\"patch_64\">\n    <path d=\"M 786.225424 101.776271 \nL 786.225424 7.2 \n\" style=\"fill:none;stroke:#000000;stroke-linecap:square;stroke-linejoin:miter;stroke-width:0.8;\"/>\n   </g>\n   <g id=\"patch_65\">\n    <path d=\"M 691.649153 101.776271 \nL 786.225424 101.776271 \n\" style=\"fill:none;stroke:#000000;stroke-linecap:square;stroke-linejoin:miter;stroke-width:0.8;\"/>\n   </g>\n   <g id=\"patch_66\">\n    <path d=\"M 691.649153 7.2 \nL 786.225424 7.2 \n\" style=\"fill:none;stroke:#000000;stroke-linecap:square;stroke-linejoin:miter;stroke-width:0.8;\"/>\n   </g>\n  </g>\n  <g id=\"axes_14\">\n   <g id=\"patch_67\">\n    <path d=\"M 691.649153 220.379908 \nL 786.225424 220.379908 \nL 786.225424 125.803636 \nL 691.649153 125.803636 \nz\n\" style=\"fill:#ffffff;\"/>\n   </g>\n   <g clip-path=\"url(#pd47f699da6)\">\n    <image height=\"95\" id=\"imageb41c022c3b\" transform=\"scale(1 -1)translate(0 -95)\" width=\"95\" x=\"691.649153\" xlink:href=\"data:image/png;base64,\niVBORw0KGgoAAAANSUhEUgAAAF8AAABfCAYAAACOTBv1AAAFN0lEQVR4nO2cSyh1bRTH13FPrikSUQaiELmUJKbIZYRkZqBMZOY6UEqZyVAJZaKEIQMZGCGUkVyK5JYIud++2frWenJ2+z3fc77lfN/6jf7Hes4++/2/66zz7L3283gA4BsUEYKkT+D/jJoviJoviJoviJoviJovSIj0CbjB4/GgDg0NRR0fH8/GJScnoz4/P2exq6sr1N/fv2N2rZkviJovSECUnbi4ONQ9PT2om5qa2LibmxvUExMTLDY1NYX64eEBtWQJ0swXRM0XRM0XJCBqfnBwMOr6+nrUKSkpbFxSUhLqqqoqFpubm0P99PSE+uPjw9p5/ima+YKo+YIERNl5e3tDTa92aTkC4NPGz89PrzEKPZ7TOH+gmS+Imi+I38uO+bWmuP2K09nJ1tYW6oyMDDaOzlxWV1dZ7Pr6+sdxkmjmC6LmC6LmC2K95ps1nr52qv9fX1+ozd8CGhsfH0ddU1PDxtH37ezssNhvqfMUzXxB1HxBrJQdG9NJJ+gx9vf3UdOmCABAbGws6piYGOvnYRvNfEHUfEHUfEGs1Hy39dTXukvfd3FxgXpvb4+NKyoqQl1RUcFii4uLqOnU9U+gv202fkM08wVR8wXxQACvTMnKymKvZ2dnUd/d3bFYY2Mjalq6nMqH2ayh0Pf5WsY08wVR8wUJ6LJDn1gGAOjt7UXd3NzMYvPz86iHh4dRPz4+snG0nDj1iJ1uBLpFM18QNV8QNV8Q682UoCD+/0nrZnh4OIuFhYWhjo6ORm3W0Pv7e9S0RkdGRrJxISF//3MSExNZrKWlBfXy8jLqtbU1No4+7+PvBoxmviBqviDWmym0lAAAFBYWoqZPGJsxWibMYxwdHaGenp5GbV5ZlpWVoTabKXR1y8DAAGrzaeZ/s9ermS+Imi+Imi+I9akmXR0CANDX14e6uLjY6/teXl5Qm1NIOg1taGhAvb297fq86BS4pKQEdWpqKhtHf1/8jWa+IGq+INbLTmZmJnudm5uLOioqisXofgj0McCTkxM2jpYyWp42NjbYuM3NTdQjIyMslpeXhzoiIgJ1d3c3G9fR0YFar3D/w6j5gli/wjVvrNGGh/k1pmVjdHQUtdngoMekV79ms4MunKuurmYxuhdDZWUl6rq6OjZuaWkJ9cLCAouZi+z+KZr5gqj5gqj5gliv+fTuIQCv17QmAwAcHBygpisOzbuV9DWtu2bNp7HLy0sWa21tRU333iktLWXjhoaGUB8eHrLY7u7uj5/lK5r5gqj5glh/StksGTRmNklow4OWJ6evtNvPMqFbgLW1taGemZlh43JyclB3dXWxGL1JeHZ25vU83KKZL4iaL4j1smM+HUwxZyf0vjrdNer4+Njr8Z3+7nbxAt2HYWxsjMUGBwdRZ2dns1htbS3qyclJ1M/Pz14/ywnNfEHUfEHUfEGs13yzB0o3lDZ7s+np6ag7OztR06tMAIDb29sfP8tp5YhTI4QegzZgAABWVlZQ0wV2AAD5+fmo09LSUNOF2QDup56a+YKo+YJY7+GaZae9vR11f38/i9EFbXTLroKCAjZufX0dtdO0jpYTt7sG0pIGwNfr0qtiAIDX11fUtElkNpC07AQAar4gar4gfl+NSGtvQkICi5WXl6N+f39HfXp6ysbRpoZT08WXVYHmb4O31TLm8eleP2aTyC2a+YKo+YKILoKmC9jo1arZTKGvf+N2Xb6imS+Imi9IQO+9EOho5gui5gui5gui5gui5gui5gui5gui5gui5gui5gui5gui5gui5gvyF5Q73Tixo9HLAAAAAElFTkSuQmCC\" y=\"-125.379908\"/>\n   </g>\n   <g id=\"patch_68\">\n    <path d=\"M 691.649153 220.379908 \nL 691.649153 125.803636 \n\" style=\"fill:none;stroke:#000000;stroke-linecap:square;stroke-linejoin:miter;stroke-width:0.8;\"/>\n   </g>\n   <g id=\"patch_69\">\n    <path d=\"M 786.225424 220.379908 \nL 786.225424 125.803636 \n\" style=\"fill:none;stroke:#000000;stroke-linecap:square;stroke-linejoin:miter;stroke-width:0.8;\"/>\n   </g>\n   <g id=\"patch_70\">\n    <path d=\"M 691.649153 220.379908 \nL 786.225424 220.379908 \n\" style=\"fill:none;stroke:#000000;stroke-linecap:square;stroke-linejoin:miter;stroke-width:0.8;\"/>\n   </g>\n   <g id=\"patch_71\">\n    <path d=\"M 691.649153 125.803636 \nL 786.225424 125.803636 \n\" style=\"fill:none;stroke:#000000;stroke-linecap:square;stroke-linejoin:miter;stroke-width:0.8;\"/>\n   </g>\n  </g>\n  <g id=\"axes_15\">\n   <g id=\"patch_72\">\n    <path d=\"M 805.140678 101.776271 \nL 899.716949 101.776271 \nL 899.716949 7.2 \nL 805.140678 7.2 \nz\n\" style=\"fill:#ffffff;\"/>\n   </g>\n   <g clip-path=\"url(#pc04ea728ea)\">\n    <image height=\"95\" id=\"imagedc542ec3f4\" transform=\"scale(1 -1)translate(0 -95)\" width=\"95\" x=\"805.140678\" xlink:href=\"data:image/png;base64,\niVBORw0KGgoAAAANSUhEUgAAAF8AAABfCAYAAACOTBv1AAAD0UlEQVR4nO2cyyt1YRTG1+FLyCXXkcuEohAzf4AyI0pu5R9AMmFEUZIyMjUwklySlIFSRgaihJJcBgYKRZQBGfhmy7v2Z4vP3vs5dZ7f6Fmt97z77Wm1znv2fveJici7EAhJ6AUkMjQfCM0HQvOB0HwgNB/IH/QC4pmsrCwTHx4eqh4YGFC9vr7+X/Oz8oHQfCBsO1+wsrJi4vz8fNUXFxe/np+VD4TmA6H5QNjzPZSUlKhuaGgwuYWFBdUnJye/vhYrHwjNB5LwbaegoMDEW1tbvmOnpqYCvTYrHwjNB5Lwbaenp8fEZWVlqldXV03u/Pw80Guz8oHQfCA0H0hMEvDcTm1treqdnR2TS01NVV1ZWWlyZ2dnga6DlQ+E5gNJmK1mUtJHnQ0NDal224yIyNjYmOqg28w/awp1dvIlNB8IzQeSMFvNjo4O1fPz86qvr6/NOHcb+vDwEOqaWPlAaD6QuNlqus9Lu7q6TO7x8VH16Oio6ufnZ9/50tLSTNze3v7puO3tbROH3WpcWPlAaD4QaNtxW417NC87O9uMe3//2JAlJyerHh4eNuNeXl5Uj4yMmFxzc7Pqq6sr1ePj4z9ddmCw8oHQfCA0H0ikPT83N9fES0tLqjMzM1W7Pd4b9/X1qa6oqDDjent7Vbe2tvrOsbm5qfry8vJbaw8DVj4Qmg8k0rbjPfXrbimPj49VuzfBRESqq6tVt7S0qG5razPjdnd3Vefk5Jic+8t1ZmbmJ8sODVY+EJoPhOYDibTnd3Z2+ub29vZUn56empwbLy8vq/Z+h+Tl5fnOPzs7qzqIt0qCgJUPhOYDibTtuC+UiYg0NTWp3tjY+PF8+/v7Jm5sbPQdW19frzojI0P1Vw9kwoaVD4TmA4m07by+vpo4FoupHhwcVL22tmbGuUf63B1TeXm573yuFhFJT09XnZKS8oNVhwcrHwjNB0LzgUR6XLC0tNTER0dHqt3tn3uHU0Tk9vZWtfdXrR93d3cmrqurU31zc/OtOcKGlQ+E5gOJdKvpnpcREZmbm1Pd39+vuqamxozzPtP14+npSfX09LTJRXkM8Luw8oHQfCDQlyOKiopUHxwcqPbel/drO4uLiyZ2j5XEY5vxwsoHQvOB0HwgcfNCXHd3t+qJiQmTKy4u/vQzhYWFJr6/vw9+YSHCygdC84HETdtx8f5v/eTkpOqqqirV3ptsb29v4S4sYFj5QGg+EJoPJC57fqLAygdC84HQfCA0HwjNB0LzgdB8IDQfCM0HQvOB0HwgNB8IzQdC84HQfCA0HwjNB0LzgdB8IH8Bst7VZIGV6SoAAAAASUVORK5CYII=\" y=\"-6.776271\"/>\n   </g>\n   <g id=\"patch_73\">\n    <path d=\"M 805.140678 101.776271 \nL 805.140678 7.2 \n\" style=\"fill:none;stroke:#000000;stroke-linecap:square;stroke-linejoin:miter;stroke-width:0.8;\"/>\n   </g>\n   <g id=\"patch_74\">\n    <path d=\"M 899.716949 101.776271 \nL 899.716949 7.2 \n\" style=\"fill:none;stroke:#000000;stroke-linecap:square;stroke-linejoin:miter;stroke-width:0.8;\"/>\n   </g>\n   <g id=\"patch_75\">\n    <path d=\"M 805.140678 101.776271 \nL 899.716949 101.776271 \n\" style=\"fill:none;stroke:#000000;stroke-linecap:square;stroke-linejoin:miter;stroke-width:0.8;\"/>\n   </g>\n   <g id=\"patch_76\">\n    <path d=\"M 805.140678 7.2 \nL 899.716949 7.2 \n\" style=\"fill:none;stroke:#000000;stroke-linecap:square;stroke-linejoin:miter;stroke-width:0.8;\"/>\n   </g>\n  </g>\n  <g id=\"axes_16\">\n   <g id=\"patch_77\">\n    <path d=\"M 805.140678 220.379908 \nL 899.716949 220.379908 \nL 899.716949 125.803636 \nL 805.140678 125.803636 \nz\n\" style=\"fill:#ffffff;\"/>\n   </g>\n   <g clip-path=\"url(#pf7d01d8627)\">\n    <image height=\"95\" id=\"image159f1c1d79\" transform=\"scale(1 -1)translate(0 -95)\" width=\"95\" x=\"805.140678\" xlink:href=\"data:image/png;base64,\niVBORw0KGgoAAAANSUhEUgAAAF8AAABfCAYAAACOTBv1AAAFeElEQVR4nO2duUosQRSGa9wXVNwDE8EFRBA0ETcQxQcQFX0CQXMzA8EXMBAjDRQMREQDE8FAXDIN3EDBDQUV3HDf9Ub33P+Ut4dx7Jnj6Pmif26dmW5/qk+fqurq6zHGvBtFhDDpE/jNqPmCREifwHcjLOxff4yI4PY8Pz+Tfn//erbWni+Imi+Imi/Ir8n5mMu95euYmBjS+fn5rG13d5f05eXl18/py7+g+I2aL4jraScqKoofAMo1vPSNMebl5YX009MT6be3ty+fR3h4OPucnp5OOiUlhXRiYiKLKy4uJn19fc3aLi4uSF9dXZH2t+zUni+Imi+Imi+I3zkfc2pcXBxpLNWMMSYyMvLfwazh+uvrK2ks3e7v7x3j/AXvRXl5eaTLyspYXFZWFumtrS3WtrKyQhr/Fpx2+Aza8wVR8wVxpdTEFGSXkx6Ph/Tj4yM/OFy68fHx//2OMcbc3t6S9rUMteOwrMXUmJyc7Pgbd3d37DOmP53VDHHUfEH8Tjt4WWN1YlcqGGenAkwvWBWhNsa5svB26dttWE2dn5+TtlMhptC9vT3WhunPDbTnC6LmC6LmC+J3zsecijOS3uK8gWWcPaLF8hXvE58p9/BecXZ2Rnp/f5/FYRm6vb3N2nBWU0vNEEfNF8SVEa4blyCCo1FjPo54nf4dz8Nuw4k1XECxzx3XaY+OjlgbjnjdWPDRni+Imi+Imi9IwJ/bwdxrz3g6zYbapabTbKKd1/FzdHQ0ayspKSHd0NBA2r6/bG5ukrYX0HVW8weh5gsS8LSDqQWfnTHGmMbGRtLV1dWk19bWWFxfXx/p09NTx2PhbGhpaSlr6+npIZ2ZmUn64OCAxY2OjpJ+eHhgbW6Ul4j2fEHUfEGCmnbKy8tZW2dnJ+mMjAzS9fX1LK61tZV0U1MT6fX1dRaH6aSlpYW15eTkkMZKyE4tuLjidpqx0Z4viJoviJovSMBzPo4EU1NTWZuvI1csUQcGBkjPzMywuKSkJNL2rhJc2MeF8MnJSRaHi+Zuz9baaM8XRM0XJKgb4nZ2dthnfOoXy8aTkxMWhymjqKiIdHNzM4vDstYuITc2Nkj39/eTHhsbY3GYkjTt/GDUfEHUfEECnvNxiI47+IwxZmFhgfTs7CzppaUlFocLHoWFhaTtMhGnF+zFFLzfjI+Pk765ufH+BwQQ7fmCqPmCiKYdnMnMzs4mvbi4yOJwphHL08HBQRbX0dFB2t58hxuf7TJUCu35gqj5ggR1Yg2f8jWGp5qqqirS9iMmIyMjpDEFDQ0Nsbi2tjbSCQkJrC03N5c0rvV6e8I60GjPF0TNF0TNFySoOd/eqYjvbCgoKCDd29vL4urq6kh3dXWRjo2NZXGHh4ek8X5iDC958Xuf2WHo9Ki6vm8nBFHzBQnqYoo9ssSJscrKStKYjozhz+rg2uzU1BSLw0f/7NH0xMQEaV9TjV3y4u4WXH/WV76EIGq+IB4TxPfn29VCWloa6eHhYdI1NTUsDi9/TBmrq6ssbn5+njSuD9ifcdODXal422CBE4H4vePjYxbnaxrSni+Imi+Imi9IUEtNO7/ie2/a29tJd3d3s7ja2tr//p79Gq7p6WnSc3NzrA3LXF9HpHbOx3sUzozapauv72jQni+Imi9IUEtNb+CaK663GmNMRUUFabz0l5eXWRyWnvYknq9gWYtvPDTm41PWf8FXyBjzcf+u47E+eW6Ki6j5gqj5gnybnI/Ys4n257/YZZwbL7zG6QX72R+n/4jBnq319Ty05wui5gvyLdOOjb9vFHTzuN7OQ9dwQxA1X5CQSDs/Fe35gqj5gqj5gqj5gqj5gqj5gqj5gqj5gqj5gqj5gqj5gqj5gqj5gvwBgWAIJxUZUKMAAAAASUVORK5CYII=\" y=\"-125.379908\"/>\n   </g>\n   <g id=\"patch_78\">\n    <path d=\"M 805.140678 220.379908 \nL 805.140678 125.803636 \n\" style=\"fill:none;stroke:#000000;stroke-linecap:square;stroke-linejoin:miter;stroke-width:0.8;\"/>\n   </g>\n   <g id=\"patch_79\">\n    <path d=\"M 899.716949 220.379908 \nL 899.716949 125.803636 \n\" style=\"fill:none;stroke:#000000;stroke-linecap:square;stroke-linejoin:miter;stroke-width:0.8;\"/>\n   </g>\n   <g id=\"patch_80\">\n    <path d=\"M 805.140678 220.379908 \nL 899.716949 220.379908 \n\" style=\"fill:none;stroke:#000000;stroke-linecap:square;stroke-linejoin:miter;stroke-width:0.8;\"/>\n   </g>\n   <g id=\"patch_81\">\n    <path d=\"M 805.140678 125.803636 \nL 899.716949 125.803636 \n\" style=\"fill:none;stroke:#000000;stroke-linecap:square;stroke-linejoin:miter;stroke-width:0.8;\"/>\n   </g>\n  </g>\n  <g id=\"axes_17\">\n   <g id=\"patch_82\">\n    <path d=\"M 918.632203 101.776271 \nL 1013.208475 101.776271 \nL 1013.208475 7.2 \nL 918.632203 7.2 \nz\n\" style=\"fill:#ffffff;\"/>\n   </g>\n   <g clip-path=\"url(#p899eec86ae)\">\n    <image height=\"95\" id=\"image16d49c0372\" transform=\"scale(1 -1)translate(0 -95)\" width=\"95\" x=\"918.632203\" xlink:href=\"data:image/png;base64,\niVBORw0KGgoAAAANSUhEUgAAAF8AAABfCAYAAACOTBv1AAAD40lEQVR4nO2cTSg9URjG53KR2EixuT6KbCxEFnaUsiFhIYmlLCQfK3ZsSPZSxELZWFEsLFDKRxKKkiwoK2wsEPn4L/71Ou9kbuPeufeZy/NbPad35pzT09vbzJw5J2BZ1qdFICShJ/CXoflAaD4Qmg+E5gOh+UBoPhCaD4TmA6H5QGg+EJoPhOYDCaInEA2dnZ2qXVVVJXp0dFTFbm9v4zKnn8DMB0LzgQSsBFhMyc3NFT07Oyu6srJSXZeTkyP66upKxRYWFkSPjIx4O8EIYeYDoflAfFl20tPTVXtubk50a2trRH2+v7+LXl1dFd3R0aGue3x8jKj/SGDmA6H5QGg+EF/W/IqKCtU+ODhwdd/m5qbompoaFQsEAt/eMzU1pdq9vb2uxvICZj4Qmg/Elx/W6urqHGNvb2+i5+fnVWxmZkZ0f3+/irW3t3/bXygUimCG3sDMB0LzgdB8INCaX1tbKzolJUV0U1OT4z3B4NeUu7q6VMze9jvMfCA0H4gnZSc5OVl0eXm5ii0uLn4NFtTD5eXliU5Kil8efH5+vdQfHh7GbVw7zHwgNB+IJx/WJicnRQ8ODkbbXUy4u7sTvbW1JbqtrQ0wm/8w84HQfCA0H4gnNd98dPv4+HB9n3nt9PS06L29PXVdfn6+6MvLS9FnZ2eOfZeWlqr27u6u6JubG9dzjCXMfCA0H4gnZcf8Azg7O1vFXl5eRE9MTKjY8vKy6OPj42inkXAw84HQfCA0H4gnNd/896W7u1vFzLre0tIS7VC/CmY+EJoPxJPFlJ2dHdH2smMurtj/kfHLmyYKZj4Qmg/Ek6edzMxM0cPDwyo2NDQk+v7+XsVKSkpEPzw8RDuNhIOZD4TmA6H5QDzfmZKamqraS0tLohsaGlRsbGxM9Pj4uOinpycvp+RbmPlAaD6QmG+Iy8jIEL29va1iZWVlopubm0WvrKw49ldYWCjafr6CudZrf3v+ydpyvGDmA6H5QGK+OcI8y8C+0a2vr0/06+urYx/mCVJra2vf9m1ZusStr6+r2Onpqej9/X3RR0dH6rrn52fH/r2GmQ+E5gOh+UB8efaCnerqatEbGxsxHev8/Fx0uN8Rw+H2TCBmPhCaDyQhyk5RUZHonp4e0fZ9t+bxYE5HvMQDc4NgOJj5QGg+EJoPJCFqvlvq6+tFNzY2qph57FdxcbGr/i4uLlS7oKBAdFpamuN9rPkJAM0H8qvKTjiysrJEm4su4bi+vlbtgYEB0eZXUnt5Ojk5cdU/Mx8IzQfyZ8qOH2HmA6H5QGg+EJoPhOYDoflAaD4Qmg+E5gOh+UBoPhCaD4TmA/kH0v3hZC0NOusAAAAASUVORK5CYII=\" y=\"-6.776271\"/>\n   </g>\n   <g id=\"patch_83\">\n    <path d=\"M 918.632203 101.776271 \nL 918.632203 7.2 \n\" style=\"fill:none;stroke:#000000;stroke-linecap:square;stroke-linejoin:miter;stroke-width:0.8;\"/>\n   </g>\n   <g id=\"patch_84\">\n    <path d=\"M 1013.208475 101.776271 \nL 1013.208475 7.2 \n\" style=\"fill:none;stroke:#000000;stroke-linecap:square;stroke-linejoin:miter;stroke-width:0.8;\"/>\n   </g>\n   <g id=\"patch_85\">\n    <path d=\"M 918.632203 101.776271 \nL 1013.208475 101.776271 \n\" style=\"fill:none;stroke:#000000;stroke-linecap:square;stroke-linejoin:miter;stroke-width:0.8;\"/>\n   </g>\n   <g id=\"patch_86\">\n    <path d=\"M 918.632203 7.2 \nL 1013.208475 7.2 \n\" style=\"fill:none;stroke:#000000;stroke-linecap:square;stroke-linejoin:miter;stroke-width:0.8;\"/>\n   </g>\n  </g>\n  <g id=\"axes_18\">\n   <g id=\"patch_87\">\n    <path d=\"M 918.632203 220.379908 \nL 1013.208475 220.379908 \nL 1013.208475 125.803636 \nL 918.632203 125.803636 \nz\n\" style=\"fill:#ffffff;\"/>\n   </g>\n   <g clip-path=\"url(#p38371ae130)\">\n    <image height=\"95\" id=\"image1d19b59c63\" transform=\"scale(1 -1)translate(0 -95)\" width=\"95\" x=\"918.632203\" xlink:href=\"data:image/png;base64,\niVBORw0KGgoAAAANSUhEUgAAAF8AAABfCAYAAACOTBv1AAAFJElEQVR4nO2dyyu1XxTHt/tdrrkMFHIZUIpMGChSBpIMlDKRgUIxYWTkDzA0wEzhH3ApkQkpRUoiUXItud+v72y9a+3e87x+x3PO9/x+v/UZfY+9Oh7f1lln7Wfv/QgyxnwZBUIw+gL+z6j5QNR8IGo+EDUfiJoPRM0HouYDUfOBhKIvwE2CgoJIf30F/sRdMx+Img9EzQfyr6j5ERERpGNjY0mHhYWJuNDQ33/O4+OjGLu9vSX9/v7u9iV6hWY+EDUfSECWneBgmRPZ2dmku7u7SRcVFYm4+/t70kdHR2JscXGR9PT0NOm7uzsR588WVTMfiJoPJMgE4BpuVFSUeN3V1UW6p6eHdFxcnIizux/O09MT6fHxcdIDAwMi7ubm5h9d60/QzAei5gNR84EETM3ndyQLCgrE2MjICOm8vDzSMTExIo5/V4SEhHj8XbwlbWxsFGMLCwukPz8//3bZP0IzH4iaD8SVGW5kZCRp++P+/PxM2uljzEtIa2urGMvJySHNb7J5OxuNjo4m3dLSIsaWlpZIa9n5D6PmA1HzgXhd83lbV11dTTo1NVXEra6ukj45ORFj4eHhpNva2kh3dnaKOH4bgdd5e1GE12j7zqinxXU7ji/IvL29GV+imQ9EzQfiddlJSkoizdu1qqoqEcfvEvI2zhhZJpqbm0nHx8eLOF4ynH7O123tksHveF5cXJCempoSca+vr3/8Xb5AMx+Img/ElW6npKSEdEpKiohLS0sjnZ6eLsZ498M7Hyecup2zszPSh4eHHq93fn6e9PLysoj7+Pj41nW4gWY+EDUfiJoPxOuaf3p6Spq3fPZdTaexiYkJ0sfHx6QrKytFXG5uLumtrS3SKysrIo6/5ndTjZGt5vX1NWm+jdDfaOYDUfOBuLKGOzk5SbqpqUmM8VLDS4sxxpSXl5PmbaITvNX0NPP9E/w6+Mza1wsmTmjmA1Hzgaj5QFyp+YWFhaT54okx8iTJ7u6uGOO3JV5eXn56GQL7+4AvmvjzFoITmvlA1Hwgruzb2dnZIT07OyvG6uvrSduzTqctfZ74bntpxwXioWjNfCBqPhBXyg7/SHd0dIixzMxM0nbZSUxMJG2fm+XwTsVpuyDvmJAz1++imQ9EzQei5gNx/RD01dWVeN3b20u6rq5OjGVkZJDmizN2veY1Pysri3RCQoKI29jYIO32jNkXaOYDUfOB+PzZC+vr66TtcsLbS76vxm5J+VhNTQ3phoYGETc0NER6bm5OjHnTejrNpt2YMWvmA1Hzgfj1HC4/OGeMLCd86599w413OIODg6Rra2tFHH++Ql9fnxjj21R4J8RnzMbIw3J8J7Yxsrva398nfXl5KeK+u16gmQ9EzQei5gPxa823D5/x11zbz83hz2IYGxsjXVxc7PH97Bnu9vY26YODA9L8WQ7GGJOcnEza/j7gtZy30P39/SJub2+P9MPDg/GEZj4QNR+IX8uOPWP0NIO0Z4/81EpZWRnp4eFhEZefn0/aabe005ZDuzRyeDvMD/rNzMyION7mOm2D1MwHouYDUfOBBEyr6TQl91Sj7cd8lZaWkm5vbxdjFRUVpPmzHOz34O9vn3bkJ1rW1tZIj46Oijh+2Js/UsxGMx+Img8E2mpyfL2dj7er/DA23yltjDx8x2fCxhizublJ+vz8nLS95+i7f4tmPhA1H0jAPNQ0UPDnv3vSzAei5gNR84FozQeimQ9EzQei5gNR84Go+UDUfCBqPhA1H4iaD+QXMaWKx4XR4NgAAAAASUVORK5CYII=\" y=\"-125.379908\"/>\n   </g>\n   <g id=\"patch_88\">\n    <path d=\"M 918.632203 220.379908 \nL 918.632203 125.803636 \n\" style=\"fill:none;stroke:#000000;stroke-linecap:square;stroke-linejoin:miter;stroke-width:0.8;\"/>\n   </g>\n   <g id=\"patch_89\">\n    <path d=\"M 1013.208475 220.379908 \nL 1013.208475 125.803636 \n\" style=\"fill:none;stroke:#000000;stroke-linecap:square;stroke-linejoin:miter;stroke-width:0.8;\"/>\n   </g>\n   <g id=\"patch_90\">\n    <path d=\"M 918.632203 220.379908 \nL 1013.208475 220.379908 \n\" style=\"fill:none;stroke:#000000;stroke-linecap:square;stroke-linejoin:miter;stroke-width:0.8;\"/>\n   </g>\n   <g id=\"patch_91\">\n    <path d=\"M 918.632203 125.803636 \nL 1013.208475 125.803636 \n\" style=\"fill:none;stroke:#000000;stroke-linecap:square;stroke-linejoin:miter;stroke-width:0.8;\"/>\n   </g>\n  </g>\n  <g id=\"axes_19\">\n   <g id=\"patch_92\">\n    <path d=\"M 1032.123729 101.776271 \nL 1126.7 101.776271 \nL 1126.7 7.2 \nL 1032.123729 7.2 \nz\n\" style=\"fill:#ffffff;\"/>\n   </g>\n   <g clip-path=\"url(#p1b0c6dd3c0)\">\n    <image height=\"95\" id=\"imagef368222b7a\" transform=\"scale(1 -1)translate(0 -95)\" width=\"95\" x=\"1032.123729\" xlink:href=\"data:image/png;base64,\niVBORw0KGgoAAAANSUhEUgAAAF8AAABfCAYAAACOTBv1AAAEbUlEQVR4nO2cSyitXxjGt1suIYoMXEYSJSmSUlJMJIqUxIyBcjdACKEMlAlFTKQwlJkyoDAwMCGJlJDkmkLu/Efn/a+12lv77PPZz3bO8xs9b2v51tvT29vyrfVtL5vN9mkjELzRCfzL0HwgvsjFm5ubRQ8PD4uur6/X5o2OjrotJ3fCygdC84HQfCBeNuBW8+TkRHRMTIzoi4sLbV5qaqros7Ozb8/LXbDygdB8INCt5s3Njejo6GjRkZGR2rympibRbW1t356Xu2DlA6H5QGg+EOhWs6ioSPTCwoLoz0/HKeXm5opeXl7+nsTcBCsfCM0HAm07wcHBond3d0Wr206Tra0t0ZmZmdrY09OThdl9P6x8IDQfCLTtqISEhIi+urrSxvz8/Oz+zcTEhBbX1NRYn9g3wsoHQvOB0HwgHtPzVfr7+7W4s7PT7ryHhwctLiwsFL2ysmJ5XlbDygdC84F4ZNvJyMjQ4qWlJdHqltTk/v5edH5+vja2vr5uUXbWwcoHQvOB0HwgHtnzTaqrq0WrdzrVt6ImOzs7Wpyeni76+fnZwuxch5UPhOYD+RFtR6W1tVX0wMCANubr6/gaUkVFhei5uTnrE3MBVj4Qmg/kx7UdlenpaS2urKx0OPfu7k50S0uL6KmpKW3e+/u7Nck5ASsfCM0HQvOBuPWKeFhYmBa3t7eLzsrKEn19fa3NOz4+Fu3v7y86ISHB6bXVt6GTk5Oi09LStHkdHR2ib29vnX6+K7DygdB8IJZvNQMDA7V4dnZWdF5enjYWFBQk2tv7/zr46payuhX08fFxOc9ffHx8aPH8/LzohoYGbczqj/FY+UBoPhCaD8Tynl9QUKDFMzMzokNDQ7Wxo6Mj0eohSWxsrDYvMTHR7lqPj49anJSUZFfbbPr9z6ioKLvPMzE/xs7Ozha9v7/v1DO+gpUPhOYDsfw/XPOt4FfbQfXwY2NjQ/TIyIhLa6trma2rtLRUtPp7PuHh4do89VzYbE9dXV2iq6qqRL++vrqULysfCM0HYvluJyAgQIvVM9eenh59cS8v0ZeXl6LHxsa0eUNDQ6LNm8nOon5IV15eLtr8+G5xcdGp56ktSc39d2DlA6H5QGg+EMu3muaHyH19faLN/lpcXCxa/Y2d7u5ubZ560LK9vS1aPfiwt7aKekCjbod7e3sdPuP8/Fwbi4uLc/h8V2DlA6H5QKD3dlJSUkTX1taKLisr0+aZL+R+cXp6qsWrq6uiDw8PtTF1y7u5uSna/ApGPTB5e3vTxgYHB0WPj4/bzel3YOUDoflAPPK6YHJyshbX1dWJLikpER0REfHHa5mtZW9vT/Ta2po21tjYKPrl5eWP12blA6H5QGg+EI/s+V8RHx8v2uz56n/MOTk52ph6P0fdJpofRx8cHFiRplOw8oHQfCA/ru38TbDygdB8IDQfCM0HQvOB0HwgNB8IzQdC84HQfCA0HwjNB0LzgdB8IDQfCM0HQvOB0HwgNB8IzQdC84HQfCA0H8h/QIsV5Jtj8zgAAAAASUVORK5CYII=\" y=\"-6.776271\"/>\n   </g>\n   <g id=\"patch_93\">\n    <path d=\"M 1032.123729 101.776271 \nL 1032.123729 7.2 \n\" style=\"fill:none;stroke:#000000;stroke-linecap:square;stroke-linejoin:miter;stroke-width:0.8;\"/>\n   </g>\n   <g id=\"patch_94\">\n    <path d=\"M 1126.7 101.776271 \nL 1126.7 7.2 \n\" style=\"fill:none;stroke:#000000;stroke-linecap:square;stroke-linejoin:miter;stroke-width:0.8;\"/>\n   </g>\n   <g id=\"patch_95\">\n    <path d=\"M 1032.123729 101.776271 \nL 1126.7 101.776271 \n\" style=\"fill:none;stroke:#000000;stroke-linecap:square;stroke-linejoin:miter;stroke-width:0.8;\"/>\n   </g>\n   <g id=\"patch_96\">\n    <path d=\"M 1032.123729 7.2 \nL 1126.7 7.2 \n\" style=\"fill:none;stroke:#000000;stroke-linecap:square;stroke-linejoin:miter;stroke-width:0.8;\"/>\n   </g>\n  </g>\n  <g id=\"axes_20\">\n   <g id=\"patch_97\">\n    <path d=\"M 1032.123729 220.379908 \nL 1126.7 220.379908 \nL 1126.7 125.803636 \nL 1032.123729 125.803636 \nz\n\" style=\"fill:#ffffff;\"/>\n   </g>\n   <g clip-path=\"url(#p4e3e82b67f)\">\n    <image height=\"95\" id=\"image8741eea389\" transform=\"scale(1 -1)translate(0 -95)\" width=\"95\" x=\"1032.123729\" xlink:href=\"data:image/png;base64,\niVBORw0KGgoAAAANSUhEUgAAAF8AAABfCAYAAACOTBv1AAAFBklEQVR4nO2cSyhtYRTHv+NNnnkNCCETySvJoyQDpQwMDEgmDETJTEpGSjIyYCLMlEzIQClJKe9CSSmZEZEMvF93tu5aX9fpXO3jf8696zf661v23v0ta3/P7TLGfBoFQgD6Af5n1HwgQT95s+DgYPHz3t4e6dTUVNLz8/Mirq2tjfTn579TJTXzgaj5QNR8IC7j5a6my+UinZ+fL9qWlpZIJycnk359fRVxtbW1pNfW1kj7e/3XzAei5gPxelczIOD33/fm5ka07e7ukq6pqfnyGt3d3aR3dnZI39/fO/GIMDTzgaj5QNR8IF6v+e/v76TPz89FG59GKCsrIx0dHS3iCgoKSCcmJpLWmq98GzUfiNdHuO5ISEggvbW1RTojI0PEfXx8kF5cXCTd2Ngo4niJ8wc084Go+UCgZYePfqempki3tLSIuMDAQNK8tExMTIi4rq4u0rxU+Sqa+UDUfCBqPhBozefwkev6+rpoy87OJs0XZ15eXkRcX18f6dHRUdHmi+8AzXwgaj4Qnyk7vJzw9VxjjJmZmSFdXl5OOihIzgve3t6Srq+vF23b29ukfaUEaeYDUfOBqPlAfKbmuyM0NJR0T08P6f7+fhEXEhJCemNjQ7Q1NDSQ5u8GJJr5QNR8IH5Rdjh8AWZ2dla0VVZWkn5+fhZtvESNj4+Tfnt7c/oRPUYzH4iaD8TrW0f4Qog9IuWLKXyRxN59HB4eTrq0tJR0SkqKiOPXt+81MDBA+uzsjPTy8rKI45N13t4FrZkPRM0HouYDcbyraZ84LCoqIt3c3CzaeJ3n7wZ71rGqqop0ZmYm6aioKBHH3yE2/JrX19ek7VHywsIC6bu7O9Hm9PtAMx+Img/EkbLD/92TkpJE29zcHGlegmwuLy9JX1xciDa+azkrK4t0WFjY3z+skSXDnmTjZWdkZES0nZ6ekuYj4++WIM18IGo+EDUfiOPTC3zW0Rhj0tLSSNs1mnf/+MHn6elpEbe/v0+an2Cprq4Wcfz6djc0Ly/vj21xcXEirqmpiXR6erpo6+joIM2nKL67NV0zH4iaD8Txrib/bo4x8iRJbm6uvDnbq3N1dUXa3iLOtw/yf3F3I1p+bWOMKSkpIc27k3bZ4b9nL8gMDw+THhoaIv309PTlc7hDMx+Img/E8d4On7QyRm716+3tFW281xEZGUm6vb1dxB0fH5PmI2F7/dXdSHNzc5M0H7kODg6KOD7Bx7eiGCMXcvgEopYdP0TNB6LmA3Gk5vNaa3fPeM23u6H8EDMfnfL9N8YYMzk5SXplZYX00dGRiDs5OSFtf+eBPyM/cP3w8CDi+HvIXtThXVu7K/sdNPOBqPlAHC879iQTXxixFyf4yLW1tZV0fHy8iMvJySFdXFxMmu/nMUZOzrkrSXzyz35e3n19fHwUbXwxxQk084Go+UB+dJeyPRHGt/TFxsaStj9+WlhYSJrP4VdUVIi4iIiIL+/Nywn/QpU9KuYjaH6IzhhjxsbGSB8eHpK2zwN7imY+EDUfiJoPBHoyhY8SubbfDXymMSYmhnRdXZ2I6+zsJM23FRojR94HBwek+QjcGGNWV1dJ23t6eG13t6XdUzTzgaj5QPzuQJw7PJ3s8pXv7mvmA1Hzgaj5QP6pmu9vaOYDUfOBqPlA1Hwgaj4QNR+Img9EzQei5gNR84Go+UDUfCBqPhA1H4iaD0TNB6LmA1Hzgaj5QH4BiIyMad7TuucAAAAASUVORK5CYII=\" y=\"-125.379908\"/>\n   </g>\n   <g id=\"patch_98\">\n    <path d=\"M 1032.123729 220.379908 \nL 1032.123729 125.803636 \n\" style=\"fill:none;stroke:#000000;stroke-linecap:square;stroke-linejoin:miter;stroke-width:0.8;\"/>\n   </g>\n   <g id=\"patch_99\">\n    <path d=\"M 1126.7 220.379908 \nL 1126.7 125.803636 \n\" style=\"fill:none;stroke:#000000;stroke-linecap:square;stroke-linejoin:miter;stroke-width:0.8;\"/>\n   </g>\n   <g id=\"patch_100\">\n    <path d=\"M 1032.123729 220.379908 \nL 1126.7 220.379908 \n\" style=\"fill:none;stroke:#000000;stroke-linecap:square;stroke-linejoin:miter;stroke-width:0.8;\"/>\n   </g>\n   <g id=\"patch_101\">\n    <path d=\"M 1032.123729 125.803636 \nL 1126.7 125.803636 \n\" style=\"fill:none;stroke:#000000;stroke-linecap:square;stroke-linejoin:miter;stroke-width:0.8;\"/>\n   </g>\n  </g>\n </g>\n <defs>\n  <clipPath id=\"p55e477f195\">\n   <rect height=\"94.576271\" width=\"94.576271\" x=\"10.7\" y=\"7.2\"/>\n  </clipPath>\n  <clipPath id=\"pe71ce20f46\">\n   <rect height=\"94.576271\" width=\"94.576271\" x=\"10.7\" y=\"125.803636\"/>\n  </clipPath>\n  <clipPath id=\"p85719af4c5\">\n   <rect height=\"94.576271\" width=\"94.576271\" x=\"124.191525\" y=\"7.2\"/>\n  </clipPath>\n  <clipPath id=\"pf31cfe5434\">\n   <rect height=\"94.576271\" width=\"94.576271\" x=\"124.191525\" y=\"125.803636\"/>\n  </clipPath>\n  <clipPath id=\"p6fbd2dfd16\">\n   <rect height=\"94.576271\" width=\"94.576271\" x=\"237.683051\" y=\"7.2\"/>\n  </clipPath>\n  <clipPath id=\"pac40bf26ab\">\n   <rect height=\"94.576271\" width=\"94.576271\" x=\"237.683051\" y=\"125.803636\"/>\n  </clipPath>\n  <clipPath id=\"paeebabe2c8\">\n   <rect height=\"94.576271\" width=\"94.576271\" x=\"351.174576\" y=\"7.2\"/>\n  </clipPath>\n  <clipPath id=\"pc6b871e4f0\">\n   <rect height=\"94.576271\" width=\"94.576271\" x=\"351.174576\" y=\"125.803636\"/>\n  </clipPath>\n  <clipPath id=\"pfb59364ea9\">\n   <rect height=\"94.576271\" width=\"94.576271\" x=\"464.666102\" y=\"7.2\"/>\n  </clipPath>\n  <clipPath id=\"p8afa5651b1\">\n   <rect height=\"94.576271\" width=\"94.576271\" x=\"464.666102\" y=\"125.803636\"/>\n  </clipPath>\n  <clipPath id=\"pd72014bd1e\">\n   <rect height=\"94.576271\" width=\"94.576271\" x=\"578.157627\" y=\"7.2\"/>\n  </clipPath>\n  <clipPath id=\"p7336afddfc\">\n   <rect height=\"94.576271\" width=\"94.576271\" x=\"578.157627\" y=\"125.803636\"/>\n  </clipPath>\n  <clipPath id=\"p72e17cb06d\">\n   <rect height=\"94.576271\" width=\"94.576271\" x=\"691.649153\" y=\"7.2\"/>\n  </clipPath>\n  <clipPath id=\"pd47f699da6\">\n   <rect height=\"94.576271\" width=\"94.576271\" x=\"691.649153\" y=\"125.803636\"/>\n  </clipPath>\n  <clipPath id=\"pc04ea728ea\">\n   <rect height=\"94.576271\" width=\"94.576271\" x=\"805.140678\" y=\"7.2\"/>\n  </clipPath>\n  <clipPath id=\"pf7d01d8627\">\n   <rect height=\"94.576271\" width=\"94.576271\" x=\"805.140678\" y=\"125.803636\"/>\n  </clipPath>\n  <clipPath id=\"p899eec86ae\">\n   <rect height=\"94.576271\" width=\"94.576271\" x=\"918.632203\" y=\"7.2\"/>\n  </clipPath>\n  <clipPath id=\"p38371ae130\">\n   <rect height=\"94.576271\" width=\"94.576271\" x=\"918.632203\" y=\"125.803636\"/>\n  </clipPath>\n  <clipPath id=\"p1b0c6dd3c0\">\n   <rect height=\"94.576271\" width=\"94.576271\" x=\"1032.123729\" y=\"7.2\"/>\n  </clipPath>\n  <clipPath id=\"p4e3e82b67f\">\n   <rect height=\"94.576271\" width=\"94.576271\" x=\"1032.123729\" y=\"125.803636\"/>\n  </clipPath>\n </defs>\n</svg>\n",
      "image/png": "[encoded data removed]"
     },
     "metadata": {
      "needs_background": "light"
     }
    }
   ],
   "source": [
    "import matplotlib.pyplot as plt\n",
    "\n",
    "\n",
    "n = 10  # How many digits we will display\n",
    "plt.figure(figsize=(20, 4))\n",
    "for i in range(n):\n",
    "    # Display original\n",
    "    ax = plt.subplot(2, n, i + 1)\n",
    "    plt.imshow(x_test[i].reshape(28, 28))\n",
    "    plt.gray()\n",
    "    ax.get_xaxis().set_visible(False)\n",
    "    ax.get_yaxis().set_visible(False)\n",
    "\n",
    "    # Display reconstruction\n",
    "    ax = plt.subplot(2, n, i + 1 + n)\n",
    "    plt.imshow(roundtrip_imgs[i].reshape(28, 28))\n",
    "    plt.gray()\n",
    "    ax.get_xaxis().set_visible(False)\n",
    "    ax.get_yaxis().set_visible(False)\n",
    "plt.show()"
   ]
  },
  {
   "source": [
    "What about the compression? Let's check the sizes of the arrays."
   ],
   "cell_type": "markdown",
   "metadata": {}
  },
  {
   "cell_type": "code",
   "execution_count": 9,
   "metadata": {},
   "outputs": [
    {
     "output_type": "stream",
     "name": "stdout",
     "text": [
      "x_test.shape[1]: 784\nencoded_imgs.shape[1]: 32\nCompression ratio: 1/25\n"
     ]
    }
   ],
   "source": [
    "encoded_imgs = autoencoder.transform(x_test)\n",
    "print(f\"x_test.shape[1]: {x_test.shape[1]}\")\n",
    "print(f\"encoded_imgs.shape[1]: {encoded_imgs.shape[1]}\")\n",
    "cr = round((encoded_imgs.nbytes/x_test.nbytes), 2)\n",
    "print(f\"Compression ratio: 1/{1/cr:.0f}\")"
   ]
  }
 ],
 "metadata": {
  "colab": {
   "collapsed_sections": [],
   "name": "Benchmarks.ipynb",
   "provenance": []
  },
  "kernelspec": {
   "display_name": "Python 3",
   "language": "python",
   "name": "python3"
  },
  "language_info": {
   "codemirror_mode": {
    "name": "ipython",
    "version": 3
   },
   "file_extension": ".py",
   "mimetype": "text/x-python",
   "name": "python",
   "nbconvert_exporter": "python",
   "pygments_lexer": "ipython3",
   "version": "3.8.5-final"
  }
 },
 "nbformat": 4,
 "nbformat_minor": 1
}
